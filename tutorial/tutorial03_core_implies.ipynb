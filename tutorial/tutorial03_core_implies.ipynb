{
 "cells": [
  {
   "cell_type": "markdown",
   "metadata": {},
   "source": [
    "Implication\n",
    "=======\n",
    "\n",
    "An implication is the ability to draw some conclusion from some hypothesis.  **Prove-It** has an `Implies` **Operation** that may be used to represent an implication, formatted with the $\\Rightarrow$ symbol.  While this is a core concept, and aliased at the top `proveit` level, it is defined outside of the core in the `proveit.logic` package.  It is known in the core for use in the *modus ponens* and *hypothetical reasoning* derivation steps discussed below.  First we will take a brief tour of the `Implies` class."
   ]
  },
  {
   "cell_type": "code",
   "execution_count": 1,
   "metadata": {
    "collapsed": false
   },
   "outputs": [
    {
     "data": {
      "image/png": "[encoded data removed]",
      "text/plain": [
       "A => B"
      ]
     },
     "execution_count": 1,
     "metadata": {},
     "output_type": "execute_result"
    }
   ],
   "source": [
    "from proveit import Implies # actually defined in proveit.logic.boolean.boolOps.py\n",
    "from proveit.common import A, B\n",
    "A_impl_B = Implies(A, B)\n",
    "A_impl_B # Expression meaning \"A implies B\":"
   ]
  },
  {
   "cell_type": "code",
   "execution_count": 2,
   "metadata": {
    "collapsed": false
   },
   "outputs": [
    {
     "data": {
      "image/png": "[encoded data removed]",
      "text/plain": [
       "<proveit._core_.expression.expr_info.ExpressionInfo instance at 0x107f8eab8>"
      ]
     },
     "execution_count": 2,
     "metadata": {},
     "output_type": "execute_result"
    }
   ],
   "source": [
    "# Implies is an Operation\n",
    "A_impl_B.exprInfo()"
   ]
  },
  {
   "cell_type": "code",
   "execution_count": 3,
   "metadata": {
    "collapsed": false
   },
   "outputs": [
    {
     "data": {
      "image/png": "[encoded data removed]",
      "text/plain": [
       "A"
      ]
     },
     "execution_count": 3,
     "metadata": {},
     "output_type": "execute_result"
    }
   ],
   "source": [
    "# access the `hypothesis` of the implication\n",
    "A_impl_B.hypothesis"
   ]
  },
  {
   "cell_type": "code",
   "execution_count": 4,
   "metadata": {
    "collapsed": false
   },
   "outputs": [
    {
     "data": {
      "image/png": "[encoded data removed]",
      "text/plain": [
       "B"
      ]
     },
     "execution_count": 4,
     "metadata": {},
     "output_type": "execute_result"
    }
   ],
   "source": [
    "# access the `conclusion` of the implication\n",
    "A_impl_B.conclusion"
   ]
  },
  {
   "cell_type": "markdown",
   "metadata": {},
   "source": [
    "### Modus Ponens\n",
    "\n",
    "*Modus ponens* is a straightforward derivation step in which you can derive $B$ assuming that $A \\Rightarrow B$ and $A$ are both true statements.  You can apply this derivation step by calling the `deriveConclusion` method of any `Implies` object."
   ]
  },
  {
   "cell_type": "code",
   "execution_count": 5,
   "metadata": {
    "collapsed": false
   },
   "outputs": [
    {
     "data": {
      "image/png": "[encoded data removed]",
      "text/plain": [
       "B"
      ]
     },
     "execution_count": 5,
     "metadata": {},
     "output_type": "execute_result"
    }
   ],
   "source": [
    "B_from_A = A_impl_B.deriveConclusion(assumptions={A, A_impl_B})\n",
    "B_from_A"
   ]
  },
  {
   "cell_type": "markdown",
   "metadata": {},
   "source": [
    "Recall from the previous tutorial that **Prove-It**, in its core, is not concerned about truth-aptness.  Neither $A$ nor $B$ are required to be intrinsically truth-apt.  The above known truth simply means that $B$ is a true statement if we assume that $A$ and $A \\Rightarrow B$ are true statements."
   ]
  },
  {
   "cell_type": "code",
   "execution_count": 6,
   "metadata": {
    "collapsed": false
   },
   "outputs": [
    {
     "data": {
      "image/png": "[encoded data removed]",
      "text/plain": [
       "<proveit._core_.proof.ModusPonens instance at 0x107fa23b0>"
      ]
     },
     "execution_count": 6,
     "metadata": {},
     "output_type": "execute_result"
    }
   ],
   "source": [
    "B_from_A.proof()"
   ]
  },
  {
   "cell_type": "markdown",
   "metadata": {},
   "source": [
    "In order for the *modus ponens* derivation step to succeed, the implication and the hypothesis must be proven to be true under the assumptions to are passed into the `deriveConclusion` method (or set as the default assumptions)."
   ]
  },
  {
   "cell_type": "code",
   "execution_count": 7,
   "metadata": {
    "collapsed": false
   },
   "outputs": [
    {
     "name": "stdout",
     "output_type": "stream",
     "text": [
      "EXPECTED ERROR: Implication is not proven: A => B assuming {A}\n"
     ]
    }
   ],
   "source": [
    "from proveit import ModusPonensFailure\n",
    "try:\n",
    "    A_impl_B.deriveConclusion(assumptions={A})\n",
    "except ModusPonensFailure as e:\n",
    "    print \"EXPECTED ERROR:\", e"
   ]
  },
  {
   "cell_type": "code",
   "execution_count": 8,
   "metadata": {
    "collapsed": false
   },
   "outputs": [
    {
     "name": "stdout",
     "output_type": "stream",
     "text": [
      "EXPECTED ERROR: Hypothesis is not proven: A assuming {A => B}\n"
     ]
    }
   ],
   "source": [
    "from proveit import ModusPonensFailure\n",
    "try:\n",
    "    A_impl_B.deriveConclusion(assumptions={A_impl_B})\n",
    "except ModusPonensFailure as e:\n",
    "    print \"EXPECTED ERROR:\", e"
   ]
  },
  {
   "cell_type": "markdown",
   "metadata": {},
   "source": [
    "Next, let us look at a more interested example in which we will proof the hypothesis without requiring an assumption, but do so after we perform the derivation step.   This demonstrates that, although requirements must be satisfied at the time that derivation steps are invoked, one can work backwards in a proof through the use of temporary assumptions.  Typically, a forward proof is preferable for clarity, but flexibility is a key part of the **Prove-It** philosophy."
   ]
  },
  {
   "cell_type": "code",
   "execution_count": 9,
   "metadata": {
    "collapsed": false
   },
   "outputs": [
    {
     "data": {
      "image/png": "[encoded data removed]",
      "text/plain": [
       "TRUE"
      ]
     },
     "execution_count": 9,
     "metadata": {},
     "output_type": "execute_result"
    }
   ],
   "source": [
    "from proveit.logic import TRUE\n",
    "TRUE # Literal for \"true\""
   ]
  },
  {
   "cell_type": "code",
   "execution_count": 10,
   "metadata": {
    "collapsed": false
   },
   "outputs": [
    {
     "data": {
      "image/png": "[encoded data removed]",
      "text/plain": [
       "TRUE => A"
      ]
     },
     "execution_count": 10,
     "metadata": {},
     "output_type": "execute_result"
    }
   ],
   "source": [
    "T_impl_A = Implies(TRUE, A)\n",
    "T_impl_A"
   ]
  },
  {
   "cell_type": "code",
   "execution_count": 11,
   "metadata": {
    "collapsed": false
   },
   "outputs": [
    {
     "data": {
      "image/png": "[encoded data removed]",
      "text/plain": [
       "A"
      ]
     },
     "execution_count": 11,
     "metadata": {},
     "output_type": "execute_result"
    }
   ],
   "source": [
    "# we have to assume TRUE because it isn't known to be true until we invoke an axiom (below)\n",
    "A_from_T = T_impl_A.deriveConclusion({T_impl_A, TRUE})\n",
    "A_from_T"
   ]
  },
  {
   "cell_type": "code",
   "execution_count": 12,
   "metadata": {
    "collapsed": false
   },
   "outputs": [
    {
     "data": {
      "image/png": "[encoded data removed]",
      "text/plain": [
       "<proveit._core_.proof.ModusPonens instance at 0x107f9def0>"
      ]
     },
     "execution_count": 12,
     "metadata": {},
     "output_type": "execute_result"
    }
   ],
   "source": [
    "A_from_T.proof()"
   ]
  },
  {
   "cell_type": "code",
   "execution_count": 13,
   "metadata": {
    "collapsed": false
   },
   "outputs": [
    {
     "data": {
      "image/png": "[encoded data removed]",
      "text/plain": [
       "TRUE"
      ]
     },
     "execution_count": 13,
     "metadata": {},
     "output_type": "execute_result"
    }
   ],
   "source": [
    "# now let us invoke the axiom the let's Prove-It know that TRUE is a true statement\n",
    "from proveit.logic.boolean.axioms import trueAxiom\n",
    "trueAxiom"
   ]
  },
  {
   "cell_type": "code",
   "execution_count": 14,
   "metadata": {
    "collapsed": false
   },
   "outputs": [
    {
     "data": {
      "image/png": "[encoded data removed]",
      "text/plain": [
       "<proveit._core_.proof.ModusPonens instance at 0x107fceb00>"
      ]
     },
     "execution_count": 14,
     "metadata": {},
     "output_type": "execute_result"
    }
   ],
   "source": [
    "# When we do this, it automatically updates our A_from_T proof, \n",
    "# since it depends upon TRUE as a true statement (under a temporary assumption)\n",
    "A_from_T.proof()"
   ]
  },
  {
   "cell_type": "code",
   "execution_count": 15,
   "metadata": {
    "collapsed": false
   },
   "outputs": [
    {
     "data": {
      "image/png": "[encoded data removed]",
      "text/plain": [
       "A"
      ]
     },
     "execution_count": 15,
     "metadata": {},
     "output_type": "execute_result"
    }
   ],
   "source": [
    "# The KnownTruth still shows TRUE in the assumptions;  KnownTruth objects\n",
    "# are immutable except for its proof which may be updated as we saw.\n",
    "A_from_T"
   ]
  },
  {
   "cell_type": "code",
   "execution_count": 16,
   "metadata": {
    "collapsed": false
   },
   "outputs": [
    {
     "data": {
      "image/png": "[encoded data removed]",
      "text/plain": [
       "A"
      ]
     },
     "execution_count": 16,
     "metadata": {},
     "output_type": "execute_result"
    }
   ],
   "source": [
    "# However, its updated proof refers to a KnownTruth that is also up-to-data\n",
    "updated_A_from_T = A_from_T.proof().provenTruth\n",
    "updated_A_from_T"
   ]
  },
  {
   "cell_type": "markdown",
   "metadata": {},
   "source": [
    "### Hypothetical Reasoning\n",
    "\n",
    "*Hypothothetical reasoning* is, in some sense, the reverse process of *modus ponens*.  In *modus ponens* a conclusion is derived from an implication (and its hypothesis).  In *hypothetical reasoning* the implication is derived from the conclusion, discarding the hypothesis as an assumption.  This step may be taken by calling `asImplication` (or `asImpl` as an abbreviation) on a **KnownTruth**.  For example,"
   ]
  },
  {
   "cell_type": "code",
   "execution_count": 17,
   "metadata": {
    "collapsed": false
   },
   "outputs": [
    {
     "data": {
      "image/png": "[encoded data removed]",
      "text/plain": [
       "(TRUE => A) => A"
      ]
     },
     "execution_count": 17,
     "metadata": {},
     "output_type": "execute_result"
    }
   ],
   "source": [
    "# T => A transforms from an assumption to a hypothesis.\n",
    "updated_A_from_T.asImplication(T_impl_A)"
   ]
  },
  {
   "cell_type": "markdown",
   "metadata": {},
   "source": [
    "The new hypothesis does not need to be in the set of assumptions.  That is because imposing an extra hypothesis only weakens the original truth.  It does not matter if $B$ is truth-apt (again, the core is agnostic to truth-aptness).  An implication can be said to be true as long as its conclusion is true whenever (not \"if and only if\") its hypothesis is true.  Since $A$ is proven true independently from $B$, this is vacuously true."
   ]
  },
  {
   "cell_type": "code",
   "execution_count": 18,
   "metadata": {
    "collapsed": false
   },
   "outputs": [
    {
     "data": {
      "image/png": "[encoded data removed]",
      "text/plain": [
       "B => A"
      ]
     },
     "execution_count": 18,
     "metadata": {},
     "output_type": "execute_result"
    }
   ],
   "source": [
    "updated_A_from_T.asImplication(B)"
   ]
  },
  {
   "cell_type": "markdown",
   "metadata": {
    "collapsed": true
   },
   "source": [
    "In situations like the former case, where the new hypothesis was drawn from the set of assumptions, we can think of *hypothetical reasoning* as a procedure in which we transform an \"implicit\" assumption to an \"explicit\" hypothesis.  Similarly, *modus ponens* may be used to transform an \"explicit\" hypothesis to an \"implicit\" assumption.  What is the difference between these two different forms of assumption/hypothesis?  Why do we need both forms?  The explicit form is necessary because the implicit form cannot be nested.  One cannot precisely express $(\\top \\Rightarrow A) \\Rightarrow A$ with assumptions alone.  The implicit form is extremely convenient in **Prove-It** because it allows us to access and manipulate the conclusion part of an implication directly.  Since **Expression**s are objects that often have convenient methods that are useful to the particular type of **Expresssion**, this is valueable.  For example,"
   ]
  },
  {
   "cell_type": "code",
   "execution_count": 19,
   "metadata": {
    "collapsed": false
   },
   "outputs": [
    {
     "data": {
      "image/png": "[encoded data removed]",
      "text/plain": [
       "(A = B) => (A <=> B)"
      ]
     },
     "execution_count": 19,
     "metadata": {},
     "output_type": "execute_result"
    }
   ],
   "source": [
    "from proveit.logic import Iff, Equals\n",
    "eqAB_implies_iff = Implies(Equals(A, B), Iff(A, B))\n",
    "# expression denoting the fact that (A => B) and (B => A) if it is the case that (A = B).\n",
    "# we are not proving this to be true here, we will simply assume it to be true (sufficient for this demonstration)\n",
    "eqAB_implies_iff "
   ]
  },
  {
   "cell_type": "code",
   "execution_count": 20,
   "metadata": {
    "collapsed": false
   },
   "outputs": [
    {
     "data": {
      "image/png": "[encoded data removed]",
      "text/plain": [
       "B <=> A"
      ]
     },
     "execution_count": 20,
     "metadata": {},
     "output_type": "execute_result"
    }
   ],
   "source": [
    "# now we will invoke derivedReversed which applies `proveit.logic.booleans.theorems.iffSymmetry`\n",
    "assumptions = {eqAB_implies_iff, Equals(A, B)}\n",
    "iffBAtruth = eqAB_implies_iff.deriveConclusion(assumptions).deriveReversed(assumptions)\n",
    "iffBAtruth"
   ]
  },
  {
   "cell_type": "code",
   "execution_count": 21,
   "metadata": {
    "collapsed": false
   },
   "outputs": [
    {
     "data": {
      "image/png": "[encoded data removed]",
      "text/plain": [
       "<proveit._core_.proof.ModusPonens instance at 0x1080a5e18>"
      ]
     },
     "execution_count": 21,
     "metadata": {},
     "output_type": "execute_result"
    }
   ],
   "source": [
    "iffBAtruth.proof()"
   ]
  },
  {
   "cell_type": "markdown",
   "metadata": {},
   "source": [
    "This invokes the `derivedReversed` method that is defined for `Iff` objects and applies the theorem `proveit.logic.booleans.iffSymmetry`.  The proof uses specialialization which will be discussed soon in `tutorial_05_core_forall`.  Theorems will be discussed later."
   ]
  },
  {
   "cell_type": "code",
   "execution_count": null,
   "metadata": {
    "collapsed": true
   },
   "outputs": [],
   "source": []
  }
 ],
 "metadata": {
  "kernelspec": {
   "display_name": "Python 2",
   "language": "python",
   "name": "python2"
  },
  "language_info": {
   "codemirror_mode": {
    "name": "ipython",
    "version": 2
   },
   "file_extension": ".py",
   "mimetype": "text/x-python",
   "name": "python",
   "nbconvert_exporter": "python",
   "pygments_lexer": "ipython2",
   "version": "2.7.10"
  }
 },
 "nbformat": 4,
 "nbformat_minor": 0
}
