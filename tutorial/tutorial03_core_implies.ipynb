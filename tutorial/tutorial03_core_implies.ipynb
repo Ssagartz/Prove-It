{
 "cells": [
  {
   "cell_type": "markdown",
   "metadata": {},
   "source": [
    "Implication\n",
    "=======\n",
    "\n",
    "An implication has an antecedent and a consequent.  If the antecedent is true, the consequent must also be true.  **Prove-It** has an `Implies` **Operation** that may be used to represent an implication, formatted with the $\\Rightarrow$ symbol.  While this is a core concept, and aliased at the top `proveit` level, it is defined outside of the core in the `proveit.logic` package.  It is known in the core for use in the *modus ponens* and *hypothetical reasoning* derivation steps discussed below.  First we will take a brief tour of the `Implies` class."
   ]
  },
  {
   "cell_type": "code",
   "execution_count": 3,
   "metadata": {
    "collapsed": false
   },
   "outputs": [
    {
     "data": {
      "image/png": "[encoded data removed]",
      "text/plain": [
       "A => B"
      ]
     },
     "execution_count": 3,
     "metadata": {},
     "output_type": "execute_result"
    }
   ],
   "source": [
    "from proveit import Implies # actually defined in proveit.logic.boolean.boolOps.py\n",
    "from proveit.common import A, B, C, X\n",
    "A_impl_B = Implies(A, B)\n",
    "A_impl_B # Expression meaning \"A implies B\":"
   ]
  },
  {
   "cell_type": "markdown",
   "metadata": {},
   "source": [
    "Implies is an Operation:"
   ]
  },
  {
   "cell_type": "code",
   "execution_count": 4,
   "metadata": {
    "collapsed": false
   },
   "outputs": [
    {
     "data": {
      "image/png": "[encoded data removed]",
      "text/plain": [
       "<proveit._core_.expression.expr_info.ExpressionInfo instance at 0x00000000042581C8>"
      ]
     },
     "execution_count": 4,
     "metadata": {},
     "output_type": "execute_result"
    }
   ],
   "source": [
    "A_impl_B.exprInfo()"
   ]
  },
  {
   "cell_type": "markdown",
   "metadata": {},
   "source": [
    "One can access the `antecedent` and the `consequent` of the implication:"
   ]
  },
  {
   "cell_type": "code",
   "execution_count": 5,
   "metadata": {
    "collapsed": false
   },
   "outputs": [
    {
     "data": {
      "image/png": "[encoded data removed]",
      "text/plain": [
       "A"
      ]
     },
     "execution_count": 5,
     "metadata": {},
     "output_type": "execute_result"
    }
   ],
   "source": [
    "A_impl_B.antecedent"
   ]
  },
  {
   "cell_type": "code",
   "execution_count": 6,
   "metadata": {
    "collapsed": false
   },
   "outputs": [
    {
     "data": {
      "image/png": "[encoded data removed]",
      "text/plain": [
       "B"
      ]
     },
     "execution_count": 6,
     "metadata": {},
     "output_type": "execute_result"
    }
   ],
   "source": [
    "A_impl_B.consequent"
   ]
  },
  {
   "cell_type": "markdown",
   "metadata": {},
   "source": [
    "## Modus Ponens\n",
    "\n",
    "*Modus ponens* is a straightforward derivation step in which you can derive $B$ assuming that $A \\Rightarrow B$ and $A$ are both true statements.  You can apply this derivation step explicitly by calling the `deriveConsequent` method of any `Implies` object."
   ]
  },
  {
   "cell_type": "code",
   "execution_count": 7,
   "metadata": {
    "collapsed": false
   },
   "outputs": [
    {
     "data": {
      "image/png": "[encoded data removed]",
      "text/plain": [
       "{A,A => B} |= B"
      ]
     },
     "execution_count": 7,
     "metadata": {},
     "output_type": "execute_result"
    }
   ],
   "source": [
    "B_from_A = A_impl_B.deriveConsequent(assumptions=[A, A_impl_B])\n",
    "B_from_A"
   ]
  },
  {
   "cell_type": "markdown",
   "metadata": {},
   "source": [
    "Recall from the previous tutorial that **Prove-It**, in its core, is not concerned about truth-aptness.  Neither $A$ nor $B$ are required to be intrinsically truth-apt.  The above **KnownTruth** simply means that $B$ is a true statement if we assume that $A$ and $A \\Rightarrow B$ are true statements."
   ]
  },
  {
   "cell_type": "code",
   "execution_count": 8,
   "metadata": {
    "collapsed": false
   },
   "outputs": [
    {
     "data": {
      "image/png": "[encoded data removed]",
      "text/plain": [
       "<proveit._core_.proof.ModusPonens instance at 0x00000000042584C8>"
      ]
     },
     "execution_count": 8,
     "metadata": {},
     "output_type": "execute_result"
    }
   ],
   "source": [
    "B_from_A.proof()"
   ]
  },
  {
   "cell_type": "markdown",
   "metadata": {},
   "source": [
    "In order for the *modus ponens* derivation step to succeed, the implication and the hypothesis must be proven to be true under the applicable assumptions."
   ]
  },
  {
   "cell_type": "code",
   "execution_count": 9,
   "metadata": {
    "collapsed": false
   },
   "outputs": [
    {
     "name": "stdout",
     "output_type": "stream",
     "text": [
      "EXPECTED ERROR: Unable to prove B assuming {A}: Implication, A => B, is not proven\n"
     ]
    }
   ],
   "source": [
    "from proveit import ModusPonensFailure\n",
    "try:\n",
    "    A_impl_B.deriveConsequent(assumptions=[A])\n",
    "except ModusPonensFailure as e:\n",
    "    print \"EXPECTED ERROR:\", e"
   ]
  },
  {
   "cell_type": "code",
   "execution_count": 10,
   "metadata": {
    "collapsed": false
   },
   "outputs": [
    {
     "name": "stdout",
     "output_type": "stream",
     "text": [
      "EXPECTED ERROR: Unable to prove B assuming {A => B}: Antecedent of A => B is not proven\n"
     ]
    }
   ],
   "source": [
    "from proveit import ModusPonensFailure\n",
    "try:\n",
    "    A_impl_B.deriveConsequent(assumptions=[A_impl_B])\n",
    "except ModusPonensFailure as e:\n",
    "    print \"EXPECTED ERROR:\", e"
   ]
  },
  {
   "cell_type": "markdown",
   "metadata": {},
   "source": [
    "If the implication is a **KnownTruth**, the assumptions of the **KnownTruth** are automatically added.  This is the case for any **Expression** method that takes an `assumptions` parameter called indirectly through a **KnownTruth** object.  The following is a demonstration:"
   ]
  },
  {
   "cell_type": "code",
   "execution_count": 11,
   "metadata": {
    "collapsed": false
   },
   "outputs": [
    {
     "data": {
      "image/png": "[encoded data removed]",
      "text/plain": [
       "{A => B} |= A => B"
      ]
     },
     "execution_count": 11,
     "metadata": {},
     "output_type": "execute_result"
    }
   ],
   "source": [
    "A_impl_B_truth = A_impl_B.prove([A_impl_B])\n",
    "A_impl_B_truth"
   ]
  },
  {
   "cell_type": "code",
   "execution_count": 12,
   "metadata": {
    "collapsed": false
   },
   "outputs": [
    {
     "data": {
      "image/png": "[encoded data removed]",
      "text/plain": [
       "{A,A => B} |= B"
      ]
     },
     "execution_count": 12,
     "metadata": {},
     "output_type": "execute_result"
    }
   ],
   "source": [
    "# A => B is automatically included as an assumption because it is required\n",
    "# as an assumption of A_impl_B_truth\n",
    "A_impl_B_truth.deriveConsequent(assumptions=[A]) "
   ]
  },
  {
   "cell_type": "markdown",
   "metadata": {
    "collapsed": true
   },
   "source": [
    "### Using an overcomplete set of assumptions\n",
    "\n",
    "When taking any derivation step under a set of assumptions, any assumptions that are unnecessary will be discarded.  In the example below, we include $C$ as an extra, irrelevant assumption.  It is discarded as it is not needed in the proof."
   ]
  },
  {
   "cell_type": "code",
   "execution_count": 15,
   "metadata": {
    "collapsed": false
   },
   "outputs": [
    {
     "data": {
      "image/png": "[encoded data removed]",
      "text/plain": [
       "{A => B,A} |= B"
      ]
     },
     "execution_count": 15,
     "metadata": {},
     "output_type": "execute_result"
    }
   ],
   "source": [
    "A_impl_B.deriveConsequent(assumptions=[A_impl_B, A, C]) "
   ]
  },
  {
   "cell_type": "markdown",
   "metadata": {},
   "source": [
    "## Hypothetical Reasoning\n",
    "\n",
    "*Hypothothetical reasoning* is, in some sense, the reverse process of *modus ponens*.  In *modus ponens* the consequent is derived from an implication (and its antecedent).  In *hypothetical reasoning* the implication is derived from the consequent, discarding the antecedent as an assumption.  A common notation to indicate a derivation rule is to display a horizontal line with a new truth below the line that can be derived from what is above the line.  Using this notation, we have\n",
    "\n",
    "Modus ponens: $\\frac{\\boldsymbol{\\vdash} A \\Rightarrow B}{A \\boldsymbol{\\vdash} B}$\n",
    "\n",
    "Hypothetical reasoning: $\\frac{A \\boldsymbol{\\vdash} B}{\\boldsymbol{\\vdash} A \\Rightarrow B}$\n",
    "\n",
    "We chose to write these in a form that exhibits the symmetry.  If $B$ is true assuming $A$, it follows, via *hypothetical reasoning*, that $A \\Rightarrow B$.  We prove an implication by assuming the antecedent and deriving the consequent, reasoning through a hypothetical scenario.  This step may be taken by calling `asImplication` (or `asImpl` as an abbreviation) on a **KnownTruth**."
   ]
  },
  {
   "cell_type": "markdown",
   "metadata": {},
   "source": [
    "We will demonstrate *hypothetical reasoning* be proving the transitivity property of implications, $A \\Rightarrow C$ given $A \\Rightarrow B$ and $B \\Rightarrow C$.   We have already created the `A_impl_B` object to represent $A \\Rightarrow B$ and have proven $\\{A,A \\Rightarrow B\\} \\boldsymbol{\\vdash} B$.  Let us now create a `B_impl_C` object to represent $B \\Rightarrow C$:"
   ]
  },
  {
   "cell_type": "code",
   "execution_count": 11,
   "metadata": {
    "collapsed": false
   },
   "outputs": [
    {
     "data": {
      "image/png": "[encoded data removed]",
      "text/plain": [
       "B => C"
      ]
     },
     "execution_count": 11,
     "metadata": {},
     "output_type": "execute_result"
    }
   ],
   "source": [
    "B_impl_C = Implies(B, C)\n",
    "B_impl_C"
   ]
  },
  {
   "cell_type": "markdown",
   "metadata": {},
   "source": [
    "Now we can prove $C$ given $A$, $A \\Rightarrow B$, and $B \\Rightarrow C$.  This uses the previously derived proof of $\\{A,A \\Rightarrow B\\} \\boldsymbol{\\vdash} B$ and extends it by deriving the consequent of $B \\Rightarrow C$ under appropriate assumptions. "
   ]
  },
  {
   "cell_type": "code",
   "execution_count": 12,
   "metadata": {
    "collapsed": false
   },
   "outputs": [
    {
     "data": {
      "image/png": "[encoded data removed]",
      "text/plain": [
       "{A,A => B,B => C} |= C"
      ]
     },
     "execution_count": 12,
     "metadata": {},
     "output_type": "execute_result"
    }
   ],
   "source": [
    "CviaTransitivity = B_impl_C.deriveConsequent([A, A_impl_B, B_impl_C])\n",
    "CviaTransitivity"
   ]
  },
  {
   "cell_type": "markdown",
   "metadata": {},
   "source": [
    "We are now ready to apply *hypothetical reasoning* by calling `asImplication` on this **KnownTruth**:"
   ]
  },
  {
   "cell_type": "code",
   "execution_count": 13,
   "metadata": {
    "collapsed": false
   },
   "outputs": [
    {
     "data": {
      "image/png": "[encoded data removed]",
      "text/plain": [
       "{A => B,B => C} |= A => C"
      ]
     },
     "execution_count": 13,
     "metadata": {},
     "output_type": "execute_result"
    }
   ],
   "source": [
    "A_impl_C = CviaTransitivity.asImplication(A)\n",
    "A_impl_C"
   ]
  },
  {
   "cell_type": "markdown",
   "metadata": {},
   "source": [
    "Below is the full proof of this **KnownTruth**:"
   ]
  },
  {
   "cell_type": "code",
   "execution_count": 14,
   "metadata": {
    "collapsed": false
   },
   "outputs": [
    {
     "data": {
      "image/png": "[encoded data removed]",
      "text/plain": [
       "<proveit._core_.proof.HypotheticalReasoning instance at 0x0000000003CCEC48>"
      ]
     },
     "execution_count": 14,
     "metadata": {},
     "output_type": "execute_result"
    }
   ],
   "source": [
    "A_impl_C.proof()"
   ]
  },
  {
   "cell_type": "markdown",
   "metadata": {},
   "source": [
    "Note that we can take any of the assumption to be the antecedent and then that assumption will be eliminated:"
   ]
  },
  {
   "cell_type": "code",
   "execution_count": 15,
   "metadata": {
    "collapsed": false
   },
   "outputs": [
    {
     "data": {
      "image/png": "[encoded data removed]",
      "text/plain": [
       "{A,B => C} |= (A => B) => C"
      ]
     },
     "execution_count": 15,
     "metadata": {},
     "output_type": "execute_result"
    }
   ],
   "source": [
    "A_impl_B__impl__C = CviaTransitivity.asImplication(A_impl_B)\n",
    "A_impl_B__impl__C"
   ]
  },
  {
   "cell_type": "code",
   "execution_count": 16,
   "metadata": {
    "collapsed": false
   },
   "outputs": [
    {
     "data": {
      "image/png": "[encoded data removed]",
      "text/plain": [
       "<proveit._core_.proof.HypotheticalReasoning instance at 0x0000000004157C88>"
      ]
     },
     "execution_count": 16,
     "metadata": {},
     "output_type": "execute_result"
    }
   ],
   "source": [
    "A_impl_B__impl__C.proof()"
   ]
  },
  {
   "cell_type": "markdown",
   "metadata": {},
   "source": [
    "In the previous two demonstrations, where the new antecedent was drawn from the set of assumptions, we can think of *hypothetical reasoning* as a procedure in which we transform an \"implicit\" assumption to an \"explicit\" antecedent.  Similarly, *modus ponens* may be used to transform an \"explicit\" antecedent to an \"implicit\" assumption.  What is the difference between these two different forms of assumption/antecedent?  Why do we need both forms?  The explicit form is necessary because the implicit form cannot be nested.  For example, one could not precisely express $(A \\Rightarrow C) \\land (B \\Rightarrow C) \\Rightarrow [(A \\lor B) \\Rightarrow C]$ with assumptions alone.  The implicit form is also very important.  The implicit form (with assumptions) is extremely convenient, and necessary in the **Prove-It** framework, for accessing the consequent part of an implication directly and applying logical deduction that arise from that consequent (e.g., consider the role of $B$ as a consequent of $A \\Rightarrow B$ in the above examples)."
   ]
  },
  {
   "cell_type": "markdown",
   "metadata": {},
   "source": [
    "The new antecedent does not need to be one of the pre-existing assumptions, however.  After all, a **KnownTruth** is just as valid when extra assumptions are added (the requirements are simply over-complete).  For example,"
   ]
  },
  {
   "cell_type": "code",
   "execution_count": 17,
   "metadata": {
    "collapsed": false
   },
   "outputs": [
    {
     "data": {
      "image/png": "[encoded data removed]",
      "text/plain": [
       "{A,A => B,B => C} |= X => C"
      ]
     },
     "execution_count": 17,
     "metadata": {},
     "output_type": "execute_result"
    }
   ],
   "source": [
    "X_impl_C = CviaTransitivity.asImplication(X)\n",
    "X_impl_C"
   ]
  },
  {
   "cell_type": "code",
   "execution_count": 18,
   "metadata": {
    "collapsed": false
   },
   "outputs": [
    {
     "data": {
      "image/png": "[encoded data removed]",
      "text/plain": [
       "<proveit._core_.proof.HypotheticalReasoning instance at 0x000000000451CDC8>"
      ]
     },
     "execution_count": 18,
     "metadata": {},
     "output_type": "execute_result"
    }
   ],
   "source": [
    "X_impl_C.proof()"
   ]
  },
  {
   "cell_type": "markdown",
   "metadata": {},
   "source": [
    "## Automation regarding `Implies` objects\n",
    "\n",
    "It is not always necessary to call the `deriveConsequent` method directly.  In fact, the `deriveConsequent` method is called automatically as a \"side-effect\" whenever a **KnownTruth** for an `Implies` **Expression** is created.  In the example below, a **KnownTruth** for $P \\Rightarrow Q$ is created via proof-by-assumption which then triggers $Q$ to be derived as a consequent, adding the extra assumption for the antecedent $P$.  Then, a proof for $Q$, under the assumptions of $P \\Rightarrow Q$ and $P$, is automatically generated and available upon request:"
   ]
  },
  {
   "cell_type": "code",
   "execution_count": 19,
   "metadata": {
    "collapsed": false
   },
   "outputs": [
    {
     "data": {
      "image/png": "[encoded data removed]",
      "text/plain": [
       "{P => Q,P} |= Q"
      ]
     },
     "execution_count": 19,
     "metadata": {},
     "output_type": "execute_result"
    }
   ],
   "source": [
    "from proveit.common import P, Q, R, S\n",
    "Q.prove([P, Implies(P, Q)])"
   ]
  },
  {
   "cell_type": "markdown",
   "metadata": {},
   "source": [
    "This can be particularly useful when the request is made via some other automation (rather than the manual `prove` request that is demonstrated here).  This automation is enabled via a `deriveSideEffects` method in the `Implies` class which calls `deriveConsequent`."
   ]
  },
  {
   "cell_type": "code",
   "execution_count": 20,
   "metadata": {
    "collapsed": false
   },
   "outputs": [
    {
     "name": "stdout",
     "output_type": "stream",
     "text": [
      "Help on method deriveSideEffects in module proveit.logic.boolean.implication.implies:\n",
      "\n",
      "deriveSideEffects(self, knownTruth) unbound proveit.logic.boolean.implication.implies.Implies method\n",
      "    Record the KnownTruth implication in the knownImplications and knownImplicationsOfConsequent\n",
      "    dictionaries so we can perform a search to later prove other implications via transitivity\n",
      "    or conclude via implications (see concludeViaImplications).\n",
      "    Also automatically derive the consequent given the antecedent as an added assumption.\n",
      "    From A => FALSE, automatically derive Not(A) if [A in Booleans].\n",
      "    From Not(A) => FALSE, automatically derive A if [A in Booleans].\n",
      "\n"
     ]
    }
   ],
   "source": [
    "help(Implies.deriveSideEffects)"
   ]
  },
  {
   "cell_type": "markdown",
   "metadata": {},
   "source": [
    "Note that there are several things that may be attempted as automation here, not just `deriveConsequent`.  In general, the `deriveSideEffects` method of an **Expression** is called, if it exists, whenever a **KnownTruth** for that **Expression** is created.  The **KnownTruth** object is passed to this method.  This enables automation for a variety of **Expression** types, not just `Implies` objects.  Another way that automation may be performed is by implementing a `conclude` method which may attempt to automatically prove a particular type of expression under a given set of assumptions:"
   ]
  },
  {
   "cell_type": "code",
   "execution_count": 21,
   "metadata": {
    "collapsed": false
   },
   "outputs": [
    {
     "name": "stdout",
     "output_type": "stream",
     "text": [
      "Help on method conclude in module proveit.logic.boolean.implication.implies:\n",
      "\n",
      "conclude(self, assumptions) unbound proveit.logic.boolean.implication.implies.Implies method\n",
      "    Try to automatically conclude this implication by reducing its operands\n",
      "    to true/false, or by doing a \"transitivity\" search amongst known true implications\n",
      "    whose assumptions are covered by the given assumptions.\n",
      "\n"
     ]
    }
   ],
   "source": [
    "help(Implies.conclude)"
   ]
  },
  {
   "cell_type": "markdown",
   "metadata": {},
   "source": [
    "The following example of automation relies on `deriveSideEffects` to populate a dictionary of **KnownTruth** implications and then `conclude` to perform a search over these implications to find a path to a conclusion from a hypothesis using intermediate implications via transitivity relations (from $A \\Rightarrow B$ and $B \\Rightarrow C$, we can obtain $A \\Rightarrow C$, as we proved in the previous section). "
   ]
  },
  {
   "cell_type": "code",
   "execution_count": 22,
   "metadata": {
    "collapsed": false
   },
   "outputs": [
    {
     "data": {
      "image/png": "[encoded data removed]",
      "text/plain": [
       "{P => Q,Q => R,R => S} |= P => S"
      ]
     },
     "execution_count": 22,
     "metadata": {},
     "output_type": "execute_result"
    }
   ],
   "source": [
    "P_impl_S = Implies(P, S).prove([Implies(P, Q), Implies(Q, R), Implies(R, S)])\n",
    "P_impl_S"
   ]
  },
  {
   "cell_type": "markdown",
   "metadata": {},
   "source": [
    "We will display the proof for the above **KnownTruth** that was proven via automation, but it relies upon invoking a theorem and applying *specialization* which will be discussed in detail in later tutorials.  Consider this to be a sneak peak."
   ]
  },
  {
   "cell_type": "code",
   "execution_count": 23,
   "metadata": {
    "collapsed": false
   },
   "outputs": [
    {
     "data": {
      "image/png": "[encoded data removed]",
      "text/plain": [
       "<proveit._core_.proof.Specialization instance at 0x00000000044B86C8>"
      ]
     },
     "execution_count": 23,
     "metadata": {},
     "output_type": "execute_result"
    }
   ],
   "source": [
    "P_impl_S.proof()"
   ]
  },
  {
   "cell_type": "markdown",
   "metadata": {},
   "source": [
    "It is also not always necessary to call `asImplication` to invoke *hypothetical reasoning*.  The `Implies.conclude` method will attempt to apply it automatically."
   ]
  },
  {
   "cell_type": "code",
   "execution_count": 24,
   "metadata": {
    "collapsed": false
   },
   "outputs": [
    {
     "data": {
      "image/png": "[encoded data removed]",
      "text/plain": [
       "{A,A => B} |= (B => C) => C"
      ]
     },
     "execution_count": 24,
     "metadata": {},
     "output_type": "execute_result"
    }
   ],
   "source": [
    "B_impl_C__impl__C = Implies(Implies(B, C), C).prove([A, A_impl_B])\n",
    "B_impl_C__impl__C"
   ]
  },
  {
   "cell_type": "code",
   "execution_count": 25,
   "metadata": {
    "collapsed": false
   },
   "outputs": [
    {
     "data": {
      "image/png": "[encoded data removed]",
      "text/plain": [
       "<proveit._core_.proof.HypotheticalReasoning instance at 0x0000000004180A48>"
      ]
     },
     "execution_count": 25,
     "metadata": {},
     "output_type": "execute_result"
    }
   ],
   "source": [
    "B_impl_C__impl__C.proof()"
   ]
  },
  {
   "cell_type": "markdown",
   "metadata": {
    "collapsed": true
   },
   "source": [
    "## Disabling/Enabling Automation"
   ]
  },
  {
   "cell_type": "markdown",
   "metadata": {},
   "source": [
    "If desired, for whatever reason, automation (via `deriveSideEffects` and `conclude`) may be disabled by setting the `automation` flag of the `defaults` object to `False`:"
   ]
  },
  {
   "cell_type": "code",
   "execution_count": 26,
   "metadata": {
    "collapsed": true
   },
   "outputs": [],
   "source": [
    "from proveit import defaults\n",
    "defaults.automation = False"
   ]
  },
  {
   "cell_type": "markdown",
   "metadata": {},
   "source": [
    "We now attempt the automated proof through transitivity relations that we performed before (but simply in the reverse direction to make it different, otherwise it would remember the solution from before).  It will fail because automation is disabled."
   ]
  },
  {
   "cell_type": "code",
   "execution_count": 27,
   "metadata": {
    "collapsed": false
   },
   "outputs": [
    {
     "name": "stdout",
     "output_type": "stream",
     "text": [
      "Expected error: Unable to prove S => P assuming {S => R, R => Q, Q => P}: No pre-existing proof\n"
     ]
    }
   ],
   "source": [
    "from proveit import ProofFailure\n",
    "try:\n",
    "    Implies(S, P).prove([Implies(S, R), Implies(R, Q), Implies(Q, P)])\n",
    "except ProofFailure as e:\n",
    "    print \"Expected error:\", e"
   ]
  },
  {
   "cell_type": "markdown",
   "metadata": {},
   "source": [
    "It may be re-enabled by setting this flag back to `True`:"
   ]
  },
  {
   "cell_type": "code",
   "execution_count": 28,
   "metadata": {
    "collapsed": true
   },
   "outputs": [],
   "source": [
    "defaults.automation = True"
   ]
  },
  {
   "cell_type": "markdown",
   "metadata": {},
   "source": [
    "The above proof still will not work because we missed the opportunity of deriving side-effects:"
   ]
  },
  {
   "cell_type": "code",
   "execution_count": 29,
   "metadata": {
    "collapsed": false
   },
   "outputs": [
    {
     "name": "stdout",
     "output_type": "stream",
     "text": [
      "Expected error: Unable to prove P assuming {S => R, R => Q, Q => P, S}: Unable to conclude via implications\n"
     ]
    }
   ],
   "source": [
    "from proveit import ProofFailure\n",
    "try:\n",
    "    Implies(S, P).prove([Implies(S, R), Implies(R, Q), Implies(Q, P)])\n",
    "except ProofFailure as e:\n",
    "    print \"Expected error:\", e"
   ]
  },
  {
   "cell_type": "markdown",
   "metadata": {},
   "source": [
    "But there is a way to forget previously generated **KnownTruth**s (specifically $\\{S \\Rightarrow R\\} \\boldsymbol{\\vdash} S \\Rightarrow R$, $\\{R \\Rightarrow Q\\} \\boldsymbol{\\vdash} R \\Rightarrow Q$, and $\\{Q \\Rightarrow P\\} \\boldsymbol{\\vdash} Q \\Rightarrow P$) and try again.  This would not normally be desirable when generating proofs (ideally, each proof is small and in its own Jupyter/IPython notebook session).  But it is useful for our demonstration purpose here."
   ]
  },
  {
   "cell_type": "code",
   "execution_count": 30,
   "metadata": {
    "collapsed": false
   },
   "outputs": [],
   "source": [
    "from proveit import KnownTruth\n",
    "KnownTruth.forgetKnownTruths()"
   ]
  },
  {
   "cell_type": "code",
   "execution_count": 31,
   "metadata": {
    "collapsed": false
   },
   "outputs": [
    {
     "data": {
      "image/png": "[encoded data removed]",
      "text/plain": [
       "{S => R,R => Q,Q => P} |= S => P"
      ]
     },
     "execution_count": 31,
     "metadata": {},
     "output_type": "execute_result"
    }
   ],
   "source": [
    "Implies(S, P).prove([Implies(S, R), Implies(R, Q), Implies(Q, P)])"
   ]
  },
  {
   "cell_type": "markdown",
   "metadata": {
    "collapsed": true
   },
   "source": [
    "In addition to changing `defaults.automation`, it is also possible to disable automation for a particular instance when calling `prove`.  Basically, this just checks if something has been proven already (or is proven by the assumptions or their automatic side-effects) and raises a `ProofFailure` otherwise.  This can be useful in other automation to quickly check a possible proof pathway without potentially wasting the effort to commit to that pathway.\n",
    "\n",
    "For example:"
   ]
  },
  {
   "cell_type": "code",
   "execution_count": 32,
   "metadata": {
    "collapsed": false
   },
   "outputs": [
    {
     "name": "stdout",
     "output_type": "stream",
     "text": [
      "Expected error: Unable to prove X => Z assuming {X => Y, Y => Z}: No pre-existing proof\n"
     ]
    }
   ],
   "source": [
    "from proveit.common import X, Y, Z\n",
    "try:\n",
    "    Implies(X, Z).prove([Implies(X, Y), Implies(Y, Z)], automation=False)\n",
    "except ProofFailure as e:\n",
    "    print \"Expected error:\", e"
   ]
  },
  {
   "cell_type": "markdown",
   "metadata": {},
   "source": [
    "But using the default `automation=True`, we can automatically prove this implication via transitivity (just as we saw above)."
   ]
  },
  {
   "cell_type": "code",
   "execution_count": 33,
   "metadata": {
    "collapsed": false
   },
   "outputs": [
    {
     "data": {
      "image/png": "[encoded data removed]",
      "text/plain": [
       "{X => Y,Y => Z} |= X => Z"
      ]
     },
     "execution_count": 33,
     "metadata": {},
     "output_type": "execute_result"
    }
   ],
   "source": [
    "Implies(X, Z).prove([Implies(X, Y), Implies(Y, Z)])"
   ]
  },
  {
   "cell_type": "code",
   "execution_count": null,
   "metadata": {
    "collapsed": true
   },
   "outputs": [],
   "source": []
  }
 ],
 "metadata": {
  "kernelspec": {
   "display_name": "Python 2",
   "language": "python",
   "name": "python2"
  },
  "language_info": {
   "codemirror_mode": {
    "name": "ipython",
    "version": 2
   },
   "file_extension": ".py",
   "mimetype": "text/x-python",
   "name": "python",
   "nbconvert_exporter": "python",
   "pygments_lexer": "ipython2",
   "version": "2.7.11"
  }
 },
 "nbformat": 4,
 "nbformat_minor": 0
}
