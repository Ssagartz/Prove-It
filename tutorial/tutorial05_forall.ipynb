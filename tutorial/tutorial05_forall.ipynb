{
 "cells": [
  {
   "cell_type": "markdown",
   "metadata": {},
   "source": [
    "Chapter 5. Universal Quantification (Forall)\n",
    "==================\n",
    "\n",
    "Universal quantification is another core concept in **Prove-It**.  A `Forall` operation, formatted with the $\\forall$ symbol, is used to represent universal quantification.  For example, $\\forall_x P(x)$ means that $P(x)$ is true for any instance of $x$.  $P(x)$ holds true universally over instances of $x$.  Like `Implies`, `Forall` is a core concept that is aliased at the top proveit level but is defined outside of the core in the `proveit.logic` package. It is known in the core for use in the *specialization* and *generalization* derivation steps discussed below.  First, let us example the `Forall` class"
   ]
  },
  {
   "cell_type": "code",
   "execution_count": 1,
   "metadata": {
    "collapsed": false
   },
   "outputs": [
    {
     "data": {
      "text/html": [
       "<a href=\"__pv_it\\c6f09fdda4d340ec075bb9401b2cb49007bbecd2\\expr.ipynb\" target=\"_blank\"><img src=\"__pv_it\\c6f09fdda4d340ec075bb9401b2cb49007bbecd2\\0.png\" style=\"display:inline;vertical-align:middle;\" /></a>"
      ],
      "text/plain": [
       "forall_{x in S | Q(x),R(x)} P(x)"
      ]
     },
     "execution_count": 1,
     "metadata": {},
     "output_type": "execute_result"
    }
   ],
   "source": [
    "# Let us create a basic Forall expression and examine it\n",
    "from proveit import Forall\n",
    "from proveit.common import x, P, Px, Q, Qx, R, Rx, S\n",
    "basicForallExpr = Forall(x, Px, conditions=[Qx, Rx], domain=S)\n",
    "basicForallExpr"
   ]
  },
  {
   "cell_type": "markdown",
   "metadata": {},
   "source": [
    "The meaning of this **Expression** is that $P(x)$ is a true statement for all instances of $x$ for which $x \\in S$ and $Q(x)$ is true.  Let us examine the internal structure of this expression."
   ]
  },
  {
   "cell_type": "code",
   "execution_count": 2,
   "metadata": {
    "collapsed": false
   },
   "outputs": [
    {
     "data": {
      "text/html": [
       "<table><tr><th colspan=2>expression</th><th>core type</th><th>sub-expressions</th></tr>\n",
       "<tr><td>0</td><td><a href=\"__pv_it\\c6f09fdda4d340ec075bb9401b2cb49007bbecd2\\expr.ipynb\" target=\"_blank\"><img src=\"__pv_it\\c6f09fdda4d340ec075bb9401b2cb49007bbecd2\\0.png\" style=\"display:inline;vertical-align:middle;\" /></a></td><td>Operation</td><td>operator: 1<br>operands: 2<br></td>\n",
       "<tr><td>1</td><td><a href=\"__pv_it\\e86b0794e5a928e0b73db370c636ed2065b38bbb\\expr.ipynb\" target=\"_blank\"><img src=\"__pv_it\\e86b0794e5a928e0b73db370c636ed2065b38bbb\\0.png\" style=\"display:inline;vertical-align:middle;\" /></a></td><td>Literal</td><td></td>\n",
       "<tr><td>2</td><td><a href=\"__pv_it\\95d2a0c88dce297be10e45b280f5629d0589e4bf\\expr.ipynb\" target=\"_blank\"><img src=\"__pv_it\\95d2a0c88dce297be10e45b280f5629d0589e4bf\\0.png\" style=\"display:inline;vertical-align:middle;\" /></a></td><td>NamedExpressions</td><td>domain: 4<br>imap: 3<br></td>\n",
       "<tr><td>3</td><td><a href=\"__pv_it\\d8ab0e121591db23673d3f2be88baa8a06e131de\\expr.ipynb\" target=\"_blank\"><img src=\"__pv_it\\d8ab0e121591db23673d3f2be88baa8a06e131de\\0.png\" style=\"display:inline;vertical-align:middle;\" /></a></td><td>Lambda</td><td>parameters: 14<br>body: 5<br></td>\n",
       "<tr><td>4</td><td><a href=\"__pv_it\\d4eb6352288af473e93384f35d9f37df8d559172\\expr.ipynb\" target=\"_blank\"><img src=\"__pv_it\\d4eb6352288af473e93384f35d9f37df8d559172\\0.png\" style=\"display:inline;vertical-align:middle;\" /></a></td><td>Variable</td><td></td>\n",
       "<tr><td>5</td><td><a href=\"__pv_it\\85b341e7244c7c68e495ee91d2cbab5b21adea62\\expr.ipynb\" target=\"_blank\"><img src=\"__pv_it\\85b341e7244c7c68e495ee91d2cbab5b21adea62\\0.png\" style=\"display:inline;vertical-align:middle;\" /></a></td><td>NamedExpressions</td><td>conds: 7<br>iexpr: 6<br></td>\n",
       "<tr><td>6</td><td><a href=\"__pv_it\\888106800db66fbfae4c413f46d8962f817a8eee\\expr.ipynb\" target=\"_blank\"><img src=\"__pv_it\\888106800db66fbfae4c413f46d8962f817a8eee\\0.png\" style=\"display:inline;vertical-align:middle;\" /></a></td><td>Operation</td><td>operator: 8<br>operands: 13<br></td>\n",
       "<tr><td>7</td><td><a href=\"__pv_it\\0be93013b3e2f6b3b7268153e008b225b652b67d\\expr.ipynb\" target=\"_blank\"><img src=\"__pv_it\\0be93013b3e2f6b3b7268153e008b225b652b67d\\0.png\" style=\"display:inline;vertical-align:middle;\" /></a></td><td>ExpressionList</td><td>9, 10</td>\n",
       "<tr><td>8</td><td><a href=\"__pv_it\\2a9e303518f1196ce252c7dd18e87a9873d2a523\\expr.ipynb\" target=\"_blank\"><img src=\"__pv_it\\2a9e303518f1196ce252c7dd18e87a9873d2a523\\0.png\" style=\"display:inline;vertical-align:middle;\" /></a></td><td>Variable</td><td></td>\n",
       "<tr><td>9</td><td><a href=\"__pv_it\\4b35d4a5976ffbd2e6997431e76c2e51d7ed5fe4\\expr.ipynb\" target=\"_blank\"><img src=\"__pv_it\\4b35d4a5976ffbd2e6997431e76c2e51d7ed5fe4\\0.png\" style=\"display:inline;vertical-align:middle;\" /></a></td><td>Operation</td><td>operator: 11<br>operands: 13<br></td>\n",
       "<tr><td>10</td><td><a href=\"__pv_it\\2287bef2c0650f923d2cc6b05d4018f3fdf79e8a\\expr.ipynb\" target=\"_blank\"><img src=\"__pv_it\\2287bef2c0650f923d2cc6b05d4018f3fdf79e8a\\0.png\" style=\"display:inline;vertical-align:middle;\" /></a></td><td>Operation</td><td>operator: 12<br>operands: 13<br></td>\n",
       "<tr><td>11</td><td><a href=\"__pv_it\\3f65031c0d5b1ae4a9448cb04a32020ef0872cb0\\expr.ipynb\" target=\"_blank\"><img src=\"__pv_it\\3f65031c0d5b1ae4a9448cb04a32020ef0872cb0\\0.png\" style=\"display:inline;vertical-align:middle;\" /></a></td><td>Variable</td><td></td>\n",
       "<tr><td>12</td><td><a href=\"__pv_it\\5584377e164e95e51d2ac6ed9cdc231d9a54d9f1\\expr.ipynb\" target=\"_blank\"><img src=\"__pv_it\\5584377e164e95e51d2ac6ed9cdc231d9a54d9f1\\0.png\" style=\"display:inline;vertical-align:middle;\" /></a></td><td>Variable</td><td></td>\n",
       "<tr><td>13</td><td><a href=\"__pv_it\\ee949fb6e21e00c119d94ebb93e987701143c936\\expr.ipynb\" target=\"_blank\"><img src=\"__pv_it\\ee949fb6e21e00c119d94ebb93e987701143c936\\0.png\" style=\"display:inline;vertical-align:middle;\" /></a></td><td>ExpressionList</td><td>14</td>\n",
       "<tr><td>14</td><td><a href=\"__pv_it\\7de344579b991697b85106fc0bd595cb5ed4c24f\\expr.ipynb\" target=\"_blank\"><img src=\"__pv_it\\7de344579b991697b85106fc0bd595cb5ed4c24f\\0.png\" style=\"display:inline;vertical-align:middle;\" /></a></td><td>Variable</td><td></td>\n",
       "</table>\n"
      ],
      "text/plain": [
       "<proveit._core_.expression.expr_info.ExpressionInfo instance at 0x00000000045683C8>"
      ]
     },
     "execution_count": 2,
     "metadata": {},
     "output_type": "execute_result"
    }
   ],
   "source": [
    "basicForallExpr.exprInfo()"
   ]
  },
  {
   "cell_type": "markdown",
   "metadata": {},
   "source": [
    "`Forall` derives from `OperationOverInstances` (`proveit._generic_.operation_over_instances.OperationOverInstances` aliased as `proveit.OperationOverInstances`) which defines the **NamedExpression** structures with `domain`, `imap` (short for \"instance mapping\"), `conds` (short for \"conditions\"), and `iexpr` (short for \"instance expression\") sub-**Expression** roles.  This is a useful structure for all of the `OperationOverInstances` type of expressions ($\\exists$, $\\sum$, $\\prod$, etc., as well as $\\forall$).  In our example above, `imap` defines the universal quantification instances using a **Lambda** map, mapping $x$ (the \"instance variable\") to the `iexpr`, $P(x)$, as well as $x$-dependent `conditions`, $(Q(x), R(x))$.  The  `domain` over which $x$ is being quantified is $S$.  Each of these `Forall` parts may be accessed as follows:"
   ]
  },
  {
   "cell_type": "code",
   "execution_count": 3,
   "metadata": {
    "collapsed": false
   },
   "outputs": [
    {
     "data": {
      "text/plain": [
       "[x]"
      ]
     },
     "execution_count": 3,
     "metadata": {},
     "output_type": "execute_result"
    }
   ],
   "source": [
    "basicForallExpr.instanceVars # list of Variables"
   ]
  },
  {
   "cell_type": "code",
   "execution_count": 4,
   "metadata": {
    "collapsed": false
   },
   "outputs": [
    {
     "data": {
      "text/html": [
       "<a href=\"__pv_it\\888106800db66fbfae4c413f46d8962f817a8eee\\expr.ipynb\" target=\"_blank\"><img src=\"__pv_it\\888106800db66fbfae4c413f46d8962f817a8eee\\0.png\" style=\"display:inline;vertical-align:middle;\" /></a>"
      ],
      "text/plain": [
       "P(x)"
      ]
     },
     "execution_count": 4,
     "metadata": {},
     "output_type": "execute_result"
    }
   ],
   "source": [
    "basicForallExpr.instanceExpr"
   ]
  },
  {
   "cell_type": "code",
   "execution_count": 5,
   "metadata": {
    "collapsed": false,
    "scrolled": true
   },
   "outputs": [
    {
     "data": {
      "text/html": [
       "<a href=\"__pv_it\\0be93013b3e2f6b3b7268153e008b225b652b67d\\expr.ipynb\" target=\"_blank\"><img src=\"__pv_it\\0be93013b3e2f6b3b7268153e008b225b652b67d\\0.png\" style=\"display:inline;vertical-align:middle;\" /></a>"
      ],
      "text/plain": [
       "(Q(x),R(x))"
      ]
     },
     "execution_count": 5,
     "metadata": {},
     "output_type": "execute_result"
    }
   ],
   "source": [
    "basicForallExpr.conditions"
   ]
  },
  {
   "cell_type": "code",
   "execution_count": 6,
   "metadata": {
    "collapsed": false
   },
   "outputs": [
    {
     "data": {
      "text/html": [
       "<a href=\"__pv_it\\d4eb6352288af473e93384f35d9f37df8d559172\\expr.ipynb\" target=\"_blank\"><img src=\"__pv_it\\d4eb6352288af473e93384f35d9f37df8d559172\\0.png\" style=\"display:inline;vertical-align:middle;\" /></a>"
      ],
      "text/plain": [
       "S"
      ]
     },
     "execution_count": 6,
     "metadata": {},
     "output_type": "execute_result"
    }
   ],
   "source": [
    "basicForallExpr.domain"
   ]
  },
  {
   "cell_type": "markdown",
   "metadata": {},
   "source": [
    "Specialization\n",
    "======\n",
    "\n",
    "The *specialization* derivation step uses *expression substitution* internally.  The difference is that *specialization* has proof implications and enforces the extra restrictions to justify these proof implications.  It also eliminates one or more of the outer $\\forall$ operations."
   ]
  },
  {
   "cell_type": "markdown",
   "metadata": {},
   "source": [
    "\n",
    "### Basic Specialization\n",
    "\n",
    "Let us take our basic/generic example of the `Forall` expression above and specialize it with a particular \"instance\" expression.  To do so, we will make assumptions to trivially allow this derivation step to be taken (just to show how this works)."
   ]
  },
  {
   "cell_type": "code",
   "execution_count": 7,
   "metadata": {
    "collapsed": false
   },
   "outputs": [
    {
     "data": {
      "text/html": [
       "<a href=\"__pv_it\\b515927651077e7e92904b0474f627fb337d1dfd\\expr.ipynb\" target=\"_blank\"><img src=\"__pv_it\\b515927651077e7e92904b0474f627fb337d1dfd\\0.png\" style=\"display:inline;vertical-align:middle;\" /></a>"
      ],
      "text/plain": [
       "([forall_{x in S | Q(x),R(x)} P(x)],(f(y) in S),Q(f(y)),R(f(y)))"
      ]
     },
     "execution_count": 7,
     "metadata": {},
     "output_type": "execute_result"
    }
   ],
   "source": [
    "from proveit import Operation, InSet, ExpressionList\n",
    "from proveit.common import fy\n",
    "assumptions = ExpressionList(basicForallExpr, InSet(fy, S), Operation(Q, fy), Operation(R, fy))\n",
    "assumptions"
   ]
  },
  {
   "cell_type": "markdown",
   "metadata": {},
   "source": [
    "`InSet` is another core concept that is defined outside of the core in `proveit.logic`.  It represents the set membership operation using the $\\in$ symbol.  It is needed as a core concept specifically for the purpose of ensuring that universal quantification requirements are met (the \"instance\" expression must be \"in\" the domain set)."
   ]
  },
  {
   "cell_type": "code",
   "execution_count": 8,
   "metadata": {
    "collapsed": false,
    "scrolled": true
   },
   "outputs": [
    {
     "data": {
      "text/html": [
       "<span style=\"font-size:20px;\"><a href=\"__pv_it\\563828eda3b31fba5c70d77088e59ac69b7bb3b2\\expr.ipynb\" target=\"_blank\"><img src=\"__pv_it\\563828eda3b31fba5c70d77088e59ac69b7bb3b2\\0.png\" style=\"display:inline;vertical-align:middle;\" /></a> &#x22A2; <a href=\"__pv_it\\4857bc12e538298432225c98519f69ce4d3ed502\\expr.ipynb\" target=\"_blank\"><img src=\"__pv_it\\4857bc12e538298432225c98519f69ce4d3ed502\\0.png\" style=\"display:inline;vertical-align:middle;\" /></a></span>"
      ],
      "text/plain": [
       "{[forall_{x in S | Q(x),R(x)} P(x)],(f(y) in S),Q(f(y)),R(f(y))} |= P(f(y))"
      ]
     },
     "execution_count": 8,
     "metadata": {},
     "output_type": "execute_result"
    }
   ],
   "source": [
    "basicForallSpec = basicForallExpr.specialize({x:fy}, assumptions=assumptions)\n",
    "basicForallSpec"
   ]
  },
  {
   "cell_type": "markdown",
   "metadata": {},
   "source": [
    "We have proven, somewhat trivially, that $P(f(y))$ is true assuming that $\\forall_{x \\in S~|~Q(x)} P(x)$, $f(y) \\in S$, $Q(f(y))$ are all true statements.  Let is take a look at the proof for this statement."
   ]
  },
  {
   "cell_type": "code",
   "execution_count": 9,
   "metadata": {
    "collapsed": false
   },
   "outputs": [
    {
     "data": {
      "text/html": [
       "<table><tr><th colspan=2>statement</th><th>assumptions</th><th>step type</th><th>requirements</th></tr>\n",
       "<tr><td>0</td><td><a href=\"__pv_it\\4857bc12e538298432225c98519f69ce4d3ed502\\expr.ipynb\" target=\"_blank\"><img src=\"__pv_it\\4857bc12e538298432225c98519f69ce4d3ed502\\0.png\" style=\"display:inline;vertical-align:middle;\" /></a></td><td style=\"text-align:center\"><span style=\"font-size:20px;\"><a href=\"__pv_it\\c6f09fdda4d340ec075bb9401b2cb49007bbecd2\\expr.ipynb\" target=\"_blank\"><img src=\"__pv_it\\c6f09fdda4d340ec075bb9401b2cb49007bbecd2\\0.png\" style=\"display:inline;vertical-align:middle;\" /></a>, <a href=\"__pv_it\\f668c33e5d9c624744d9f1f599932750a240035a\\expr.ipynb\" target=\"_blank\"><img src=\"__pv_it\\f668c33e5d9c624744d9f1f599932750a240035a\\0.png\" style=\"display:inline;vertical-align:middle;\" /></a>, <a href=\"__pv_it\\80f694bcb01326429533e0bc21d150dc8c2713a2\\expr.ipynb\" target=\"_blank\"><img src=\"__pv_it\\80f694bcb01326429533e0bc21d150dc8c2713a2\\0.png\" style=\"display:inline;vertical-align:middle;\" /></a>, <a href=\"__pv_it\\5b4c1fe5d7f961ef96b7162f1d4e5ccf6083bb46\\expr.ipynb\" target=\"_blank\"><img src=\"__pv_it\\5b4c1fe5d7f961ef96b7162f1d4e5ccf6083bb46\\0.png\" style=\"display:inline;vertical-align:middle;\" /></a></span></td><td>specialization</td><td>1, 2, 3, 4</td></tr>\n",
       "<tr><td colspan=5 style=\"text-align:center\"><span style=\"font-size:20px;\"><a href=\"__pv_it\\8e1e44d53668d3a6b8090e710e6dadc88b55f034\\expr.ipynb\" target=\"_blank\"><img src=\"__pv_it\\8e1e44d53668d3a6b8090e710e6dadc88b55f034\\0.png\" style=\"display:inline;vertical-align:middle;\" /></a></span></td></tr><tr><td>1</td><td><a href=\"__pv_it\\c6f09fdda4d340ec075bb9401b2cb49007bbecd2\\expr.ipynb\" target=\"_blank\"><img src=\"__pv_it\\c6f09fdda4d340ec075bb9401b2cb49007bbecd2\\0.png\" style=\"display:inline;vertical-align:middle;\" /></a></td><td style=\"text-align:center\"><span style=\"font-size:20px;\"><a href=\"__pv_it\\c6f09fdda4d340ec075bb9401b2cb49007bbecd2\\expr.ipynb\" target=\"_blank\"><img src=\"__pv_it\\c6f09fdda4d340ec075bb9401b2cb49007bbecd2\\0.png\" style=\"display:inline;vertical-align:middle;\" /></a></span></td><td>assumption</td><td></td></tr>\n",
       "<tr><td>2</td><td><a href=\"__pv_it\\80f694bcb01326429533e0bc21d150dc8c2713a2\\expr.ipynb\" target=\"_blank\"><img src=\"__pv_it\\80f694bcb01326429533e0bc21d150dc8c2713a2\\0.png\" style=\"display:inline;vertical-align:middle;\" /></a></td><td style=\"text-align:center\"><span style=\"font-size:20px;\"><a href=\"__pv_it\\80f694bcb01326429533e0bc21d150dc8c2713a2\\expr.ipynb\" target=\"_blank\"><img src=\"__pv_it\\80f694bcb01326429533e0bc21d150dc8c2713a2\\0.png\" style=\"display:inline;vertical-align:middle;\" /></a></span></td><td>assumption</td><td></td></tr>\n",
       "<tr><td>3</td><td><a href=\"__pv_it\\5b4c1fe5d7f961ef96b7162f1d4e5ccf6083bb46\\expr.ipynb\" target=\"_blank\"><img src=\"__pv_it\\5b4c1fe5d7f961ef96b7162f1d4e5ccf6083bb46\\0.png\" style=\"display:inline;vertical-align:middle;\" /></a></td><td style=\"text-align:center\"><span style=\"font-size:20px;\"><a href=\"__pv_it\\5b4c1fe5d7f961ef96b7162f1d4e5ccf6083bb46\\expr.ipynb\" target=\"_blank\"><img src=\"__pv_it\\5b4c1fe5d7f961ef96b7162f1d4e5ccf6083bb46\\0.png\" style=\"display:inline;vertical-align:middle;\" /></a></span></td><td>assumption</td><td></td></tr>\n",
       "<tr><td>4</td><td><a href=\"__pv_it\\f668c33e5d9c624744d9f1f599932750a240035a\\expr.ipynb\" target=\"_blank\"><img src=\"__pv_it\\f668c33e5d9c624744d9f1f599932750a240035a\\0.png\" style=\"display:inline;vertical-align:middle;\" /></a></td><td style=\"text-align:center\"><span style=\"font-size:20px;\"><a href=\"__pv_it\\f668c33e5d9c624744d9f1f599932750a240035a\\expr.ipynb\" target=\"_blank\"><img src=\"__pv_it\\f668c33e5d9c624744d9f1f599932750a240035a\\0.png\" style=\"display:inline;vertical-align:middle;\" /></a></span></td><td>assumption</td><td></td></tr>\n"
      ],
      "text/plain": [
       "<proveit._core_.proof.Specialization instance at 0x0000000004568E08>"
      ]
     },
     "execution_count": 9,
     "metadata": {},
     "output_type": "execute_result"
    }
   ],
   "source": [
    "basicForallSpec.proof()"
   ]
  },
  {
   "cell_type": "markdown",
   "metadata": {},
   "source": [
    "This indicates that the proof requires a *specialization* step and explicitly indicates the mapping being performed (taking $x$ to $f(y)$).  The subsequent proof steps that are required are simply proofs by assumption.  Specifically, the original `Forall` expression must be true, the \"instance\" expression must be in the domain $S$, and the condition $Q(x)$ must apply when $x$ is replaced with the \"instance\" expression.  If any of these are not known to be true under the provided assumptions, this step will fail."
   ]
  },
  {
   "cell_type": "markdown",
   "metadata": {},
   "source": [
    "In this first case, it is unable to prove the original `Forall` expression even after attempting to perform automation."
   ]
  },
  {
   "cell_type": "code",
   "execution_count": 10,
   "metadata": {
    "collapsed": false
   },
   "outputs": [
    {
     "name": "stdout",
     "output_type": "stream",
     "text": [
      "EXPECTED ERROR: Unable to prove forall_{x in S | Q(x),R(x)} P(x) assuming {f(y) in S, Q(f(y)), R(f(y))}: Unable to conclude automatically; the domain has no 'foldAsForall' method.\n"
     ]
    }
   ],
   "source": [
    "from proveit import ProofFailure\n",
    "try:\n",
    "    basicForallExpr.specialize({x:fy}, assumptions=assumptions[1:])\n",
    "except ProofFailure as e:\n",
    "    print \"EXPECTED ERROR:\", e"
   ]
  },
  {
   "cell_type": "markdown",
   "metadata": {},
   "source": [
    "The automation checks to see of the $S$ **Expression** has a `foldAsForall` method that would automate a proof for universal quantification over $S$.  Since $S$ is a simple **Variable** object, no such automation exists.  Next we'll see what happens when there the \"instance\" expression is not in the $S$ domain."
   ]
  },
  {
   "cell_type": "code",
   "execution_count": 11,
   "metadata": {
    "collapsed": false
   },
   "outputs": [
    {
     "name": "stdout",
     "output_type": "stream",
     "text": [
      "EXPECTED ERROR: Unable to prove P(f(y)) assuming {forall_{x in S | Q(x),R(x)} P(x), Q(f(y)), R(f(y))}: Unmet specialization condition: f(y) in S\n"
     ]
    }
   ],
   "source": [
    "from proveit import SpecializationFailure\n",
    "try:\n",
    "    basicForallExpr.specialize({x:fy}, assumptions=assumptions[:1]+assumptions[2:])\n",
    "except SpecializationFailure as e:\n",
    "    print \"EXPECTED ERROR:\", e"
   ]
  },
  {
   "cell_type": "markdown",
   "metadata": {},
   "source": [
    "Finally, we demonstrate the case when one of the conditions is not met."
   ]
  },
  {
   "cell_type": "code",
   "execution_count": 12,
   "metadata": {
    "collapsed": false
   },
   "outputs": [
    {
     "name": "stdout",
     "output_type": "stream",
     "text": [
      "EXPECTED ERROR: Unable to prove P(f(y)) assuming {forall_{x in S | Q(x),R(x)} P(x), f(y) in S, R(f(y))}: Unmet specialization condition: Q(f(y))\n"
     ]
    }
   ],
   "source": [
    "try:\n",
    "    basicForallExpr.specialize({x:fy}, assumptions=assumptions[:2]+assumptions[3:])\n",
    "except SpecializationFailure as e:\n",
    "    print \"EXPECTED ERROR:\", e"
   ]
  },
  {
   "cell_type": "code",
   "execution_count": 13,
   "metadata": {
    "collapsed": false
   },
   "outputs": [
    {
     "name": "stdout",
     "output_type": "stream",
     "text": [
      "EXPECTED ERROR: Unable to prove P(f(y)) assuming {forall_{x in S | Q(x),R(x)} P(x), f(y) in S, Q(f(y))}: Unmet specialization condition: R(f(y))\n"
     ]
    }
   ],
   "source": [
    "try:\n",
    "    basicForallExpr.specialize({x:fy}, assumptions=assumptions[:3])\n",
    "except SpecializationFailure as e:\n",
    "    print \"EXPECTED ERROR:\", e"
   ]
  },
  {
   "cell_type": "markdown",
   "metadata": {},
   "source": [
    "Also note that you cannot *specialize* a variable that is not one of the `Forall` instance variables."
   ]
  },
  {
   "cell_type": "code",
   "execution_count": 14,
   "metadata": {
    "collapsed": false
   },
   "outputs": [
    {
     "data": {
      "text/html": [
       "<a href=\"__pv_it\\c6f09fdda4d340ec075bb9401b2cb49007bbecd2\\expr.ipynb\" target=\"_blank\"><img src=\"__pv_it\\c6f09fdda4d340ec075bb9401b2cb49007bbecd2\\0.png\" style=\"display:inline;vertical-align:middle;\" /></a>"
      ],
      "text/plain": [
       "forall_{x in S | Q(x),R(x)} P(x)"
      ]
     },
     "execution_count": 14,
     "metadata": {},
     "output_type": "execute_result"
    }
   ],
   "source": [
    "basicForallExpr"
   ]
  },
  {
   "cell_type": "code",
   "execution_count": 15,
   "metadata": {
    "collapsed": false
   },
   "outputs": [
    {
     "name": "stdout",
     "output_type": "stream",
     "text": [
      "EXPECTED ERROR: Proof step failed assuming {forall_{x in S | Q(x),R(x)} P(x), f(y) in S, Q(f(y)), R(f(y)), forall_{x in S | Q(x),R(x)} P(x)}: May only specialize instance variables of directly nested Forall operations\n"
     ]
    }
   ],
   "source": [
    "try:\n",
    "    basicForallExpr.specialize({x:fy, Q:R}, assumptions=assumptions)\n",
    "except SpecializationFailure as e:\n",
    "    print \"EXPECTED ERROR:\", e"
   ]
  },
  {
   "cell_type": "markdown",
   "metadata": {},
   "source": [
    "You can *relabel* **Variable**s that are not `Forall` instance variables.  Later we will show that you can *relabel* and *specialize* simultaneously.  You can also *specialize* multiple levels of `Forall` operations simultaneously which is why the previous error message mentions \"nested Forall operations\". "
   ]
  },
  {
   "cell_type": "markdown",
   "metadata": {},
   "source": [
    "### Universal quantification without a domain\n",
    "\n",
    "It is not necessary to specify a domain in a `Forall` **Expression**.  For example, the condition(s) may provide sufficient restrictions for the universal quantification.  Also, any number of conditions may be specified (including no conditions)."
   ]
  },
  {
   "cell_type": "code",
   "execution_count": 16,
   "metadata": {
    "collapsed": false
   },
   "outputs": [
    {
     "data": {
      "text/html": [
       "<a href=\"__pv_it\\bd784ce159273993fab3144d83b8a9744145db88\\expr.ipynb\" target=\"_blank\"><img src=\"__pv_it\\bd784ce159273993fab3144d83b8a9744145db88\\0.png\" style=\"display:inline;vertical-align:middle;\" /></a>"
      ],
      "text/plain": [
       "forall_{x | Q(x)} P(x)"
      ]
     },
     "execution_count": 16,
     "metadata": {},
     "output_type": "execute_result"
    }
   ],
   "source": [
    "noDomainForallExpr = Forall(x, Px, conditions=[Qx])\n",
    "noDomainForallExpr"
   ]
  },
  {
   "cell_type": "code",
   "execution_count": 17,
   "metadata": {
    "collapsed": false
   },
   "outputs": [
    {
     "name": "stdout",
     "output_type": "stream",
     "text": [
      "None\n"
     ]
    }
   ],
   "source": [
    "print noDomainForallExpr.domain"
   ]
  },
  {
   "cell_type": "code",
   "execution_count": 18,
   "metadata": {
    "collapsed": false
   },
   "outputs": [
    {
     "data": {
      "text/html": [
       "<table><tr><th colspan=2>expression</th><th>core type</th><th>sub-expressions</th></tr>\n",
       "<tr><td>0</td><td><a href=\"__pv_it\\bd784ce159273993fab3144d83b8a9744145db88\\expr.ipynb\" target=\"_blank\"><img src=\"__pv_it\\bd784ce159273993fab3144d83b8a9744145db88\\0.png\" style=\"display:inline;vertical-align:middle;\" /></a></td><td>Operation</td><td>operator: 1<br>operands: 2<br></td>\n",
       "<tr><td>1</td><td><a href=\"__pv_it\\e86b0794e5a928e0b73db370c636ed2065b38bbb\\expr.ipynb\" target=\"_blank\"><img src=\"__pv_it\\e86b0794e5a928e0b73db370c636ed2065b38bbb\\0.png\" style=\"display:inline;vertical-align:middle;\" /></a></td><td>Literal</td><td></td>\n",
       "<tr><td>2</td><td><a href=\"__pv_it\\1ceb83840ddb31257d8264306df02d8f1675bb8a\\expr.ipynb\" target=\"_blank\"><img src=\"__pv_it\\1ceb83840ddb31257d8264306df02d8f1675bb8a\\0.png\" style=\"display:inline;vertical-align:middle;\" /></a></td><td>NamedExpressions</td><td>imap: 3<br></td>\n",
       "<tr><td>3</td><td><a href=\"__pv_it\\10e26b993caf8d74e613726ae5f6ce33dcff5a73\\expr.ipynb\" target=\"_blank\"><img src=\"__pv_it\\10e26b993caf8d74e613726ae5f6ce33dcff5a73\\0.png\" style=\"display:inline;vertical-align:middle;\" /></a></td><td>Lambda</td><td>parameters: 11<br>body: 4<br></td>\n",
       "<tr><td>4</td><td><a href=\"__pv_it\\5f44f8faaed3c175fbde557ea261f1e257e75e00\\expr.ipynb\" target=\"_blank\"><img src=\"__pv_it\\5f44f8faaed3c175fbde557ea261f1e257e75e00\\0.png\" style=\"display:inline;vertical-align:middle;\" /></a></td><td>NamedExpressions</td><td>conds: 6<br>iexpr: 5<br></td>\n",
       "<tr><td>5</td><td><a href=\"__pv_it\\888106800db66fbfae4c413f46d8962f817a8eee\\expr.ipynb\" target=\"_blank\"><img src=\"__pv_it\\888106800db66fbfae4c413f46d8962f817a8eee\\0.png\" style=\"display:inline;vertical-align:middle;\" /></a></td><td>Operation</td><td>operator: 7<br>operands: 10<br></td>\n",
       "<tr><td>6</td><td><a href=\"__pv_it\\df4f65badbad71f5cf70d3757ebc9680fa55a28e\\expr.ipynb\" target=\"_blank\"><img src=\"__pv_it\\df4f65badbad71f5cf70d3757ebc9680fa55a28e\\0.png\" style=\"display:inline;vertical-align:middle;\" /></a></td><td>ExpressionList</td><td>8</td>\n",
       "<tr><td>7</td><td><a href=\"__pv_it\\2a9e303518f1196ce252c7dd18e87a9873d2a523\\expr.ipynb\" target=\"_blank\"><img src=\"__pv_it\\2a9e303518f1196ce252c7dd18e87a9873d2a523\\0.png\" style=\"display:inline;vertical-align:middle;\" /></a></td><td>Variable</td><td></td>\n",
       "<tr><td>8</td><td><a href=\"__pv_it\\4b35d4a5976ffbd2e6997431e76c2e51d7ed5fe4\\expr.ipynb\" target=\"_blank\"><img src=\"__pv_it\\4b35d4a5976ffbd2e6997431e76c2e51d7ed5fe4\\0.png\" style=\"display:inline;vertical-align:middle;\" /></a></td><td>Operation</td><td>operator: 9<br>operands: 10<br></td>\n",
       "<tr><td>9</td><td><a href=\"__pv_it\\3f65031c0d5b1ae4a9448cb04a32020ef0872cb0\\expr.ipynb\" target=\"_blank\"><img src=\"__pv_it\\3f65031c0d5b1ae4a9448cb04a32020ef0872cb0\\0.png\" style=\"display:inline;vertical-align:middle;\" /></a></td><td>Variable</td><td></td>\n",
       "<tr><td>10</td><td><a href=\"__pv_it\\ee949fb6e21e00c119d94ebb93e987701143c936\\expr.ipynb\" target=\"_blank\"><img src=\"__pv_it\\ee949fb6e21e00c119d94ebb93e987701143c936\\0.png\" style=\"display:inline;vertical-align:middle;\" /></a></td><td>ExpressionList</td><td>11</td>\n",
       "<tr><td>11</td><td><a href=\"__pv_it\\7de344579b991697b85106fc0bd595cb5ed4c24f\\expr.ipynb\" target=\"_blank\"><img src=\"__pv_it\\7de344579b991697b85106fc0bd595cb5ed4c24f\\0.png\" style=\"display:inline;vertical-align:middle;\" /></a></td><td>Variable</td><td></td>\n",
       "</table>\n"
      ],
      "text/plain": [
       "<proveit._core_.expression.expr_info.ExpressionInfo instance at 0x0000000004558DC8>"
      ]
     },
     "execution_count": 18,
     "metadata": {},
     "output_type": "execute_result"
    }
   ],
   "source": [
    "noDomainForallExpr.exprInfo()"
   ]
  },
  {
   "cell_type": "code",
   "execution_count": 19,
   "metadata": {
    "collapsed": false
   },
   "outputs": [
    {
     "data": {
      "text/html": [
       "<span style=\"font-size:20px;\"><a href=\"__pv_it\\c32d281087560fb3ca6f53820e00379865333117\\expr.ipynb\" target=\"_blank\"><img src=\"__pv_it\\c32d281087560fb3ca6f53820e00379865333117\\0.png\" style=\"display:inline;vertical-align:middle;\" /></a> &#x22A2; <a href=\"__pv_it\\4857bc12e538298432225c98519f69ce4d3ed502\\expr.ipynb\" target=\"_blank\"><img src=\"__pv_it\\4857bc12e538298432225c98519f69ce4d3ed502\\0.png\" style=\"display:inline;vertical-align:middle;\" /></a></span>"
      ],
      "text/plain": [
       "{[forall_{x | Q(x)} P(x)],Q(f(y))} |= P(f(y))"
      ]
     },
     "execution_count": 19,
     "metadata": {},
     "output_type": "execute_result"
    }
   ],
   "source": [
    "noDomainForallExpr.specialize({x:fy}, assumptions=[noDomainForallExpr, Operation(Q, fy)])"
   ]
  },
  {
   "cell_type": "markdown",
   "metadata": {},
   "source": [
    "### Lambda scope restrictions\n",
    "\n",
    "In `tutorial01_core_expr`, we noted scoping restrictions that apply to **Lambda** expressions in the context of *expression substitution*.  That restriction carries over to *specialization* and is very important.  Consider the following example."
   ]
  },
  {
   "cell_type": "code",
   "execution_count": 20,
   "metadata": {
    "collapsed": false
   },
   "outputs": [
    {
     "data": {
      "text/html": [
       "<a href=\"__pv_it\\23bd50ae46706dbde505bbbdc0316761ffff85f8\\expr.ipynb\" target=\"_blank\"><img src=\"__pv_it\\23bd50ae46706dbde505bbbdc0316761ffff85f8\\0.png\" style=\"display:inline;vertical-align:middle;\" /></a>"
      ],
      "text/plain": [
       "forall_{x} [exists_{y} (x != y)]"
      ]
     },
     "execution_count": 20,
     "metadata": {},
     "output_type": "execute_result"
    }
   ],
   "source": [
    "from proveit.common import Pxy, y, fy\n",
    "from proveit.logic import Exists, NotEquals\n",
    "forallExistsExpr = Forall(x, Exists(y, NotEquals(x, y)))\n",
    "forallExistsExpr"
   ]
  },
  {
   "cell_type": "markdown",
   "metadata": {},
   "source": [
    "We are using `Exists` ($\\exists$) and `Equals` ($\\neq$) which do not have the special core status that `Forall` has and are discussed in `logic` package tutorials.  We are just using them to make our point below more clear.  Just note that `Exists` has the same kind of structure as $\\forall$ and specifically acts as an **Operation** on an **Expression** with a **Lambda** function."
   ]
  },
  {
   "cell_type": "code",
   "execution_count": 21,
   "metadata": {
    "collapsed": false
   },
   "outputs": [
    {
     "data": {
      "text/html": [
       "<table><tr><th colspan=2>expression</th><th>core type</th><th>sub-expressions</th></tr>\n",
       "<tr><td>0</td><td><a href=\"__pv_it\\737aa88d45c534a5603d4add3b1a38277808d95f\\expr.ipynb\" target=\"_blank\"><img src=\"__pv_it\\737aa88d45c534a5603d4add3b1a38277808d95f\\0.png\" style=\"display:inline;vertical-align:middle;\" /></a></td><td>Operation</td><td>operator: 1<br>operands: 2<br></td>\n",
       "<tr><td>1</td><td><a href=\"__pv_it\\4e18238b123c64df1ad7ed5e381b32407b2f697d\\expr.ipynb\" target=\"_blank\"><img src=\"__pv_it\\4e18238b123c64df1ad7ed5e381b32407b2f697d\\0.png\" style=\"display:inline;vertical-align:middle;\" /></a></td><td>Literal</td><td></td>\n",
       "<tr><td>2</td><td><a href=\"__pv_it\\ee958d71ac95d1b11d38b45e49dfb26aa3d6acdf\\expr.ipynb\" target=\"_blank\"><img src=\"__pv_it\\ee958d71ac95d1b11d38b45e49dfb26aa3d6acdf\\0.png\" style=\"display:inline;vertical-align:middle;\" /></a></td><td>NamedExpressions</td><td>imap: 3<br></td>\n",
       "<tr><td>3</td><td><a href=\"__pv_it\\251b3ea8c5df988bc8f9b059b323cdd169ea257f\\expr.ipynb\" target=\"_blank\"><img src=\"__pv_it\\251b3ea8c5df988bc8f9b059b323cdd169ea257f\\0.png\" style=\"display:inline;vertical-align:middle;\" /></a></td><td>Lambda</td><td>parameters: 10<br>body: 4<br></td>\n",
       "<tr><td>4</td><td><a href=\"__pv_it\\f6de0e38ea75d110a5635f6b18569e0243fe8b1d\\expr.ipynb\" target=\"_blank\"><img src=\"__pv_it\\f6de0e38ea75d110a5635f6b18569e0243fe8b1d\\0.png\" style=\"display:inline;vertical-align:middle;\" /></a></td><td>NamedExpressions</td><td>conds: 6<br>iexpr: 5<br></td>\n",
       "<tr><td>5</td><td><a href=\"__pv_it\\58bb6162e64c9460ebfc9b1f92e15234af3ac6cc\\expr.ipynb\" target=\"_blank\"><img src=\"__pv_it\\58bb6162e64c9460ebfc9b1f92e15234af3ac6cc\\0.png\" style=\"display:inline;vertical-align:middle;\" /></a></td><td>Operation</td><td>operator: 7<br>operands: 8<br></td>\n",
       "<tr><td>6</td><td><a href=\"__pv_it\\d0b3506a214726c70c2237fcba2131122c2f6a35\\expr.ipynb\" target=\"_blank\"><img src=\"__pv_it\\d0b3506a214726c70c2237fcba2131122c2f6a35\\0.png\" style=\"display:inline;vertical-align:middle;\" /></a></td><td>ExpressionList</td><td></td>\n",
       "<tr><td>7</td><td><a href=\"__pv_it\\2a9e303518f1196ce252c7dd18e87a9873d2a523\\expr.ipynb\" target=\"_blank\"><img src=\"__pv_it\\2a9e303518f1196ce252c7dd18e87a9873d2a523\\0.png\" style=\"display:inline;vertical-align:middle;\" /></a></td><td>Variable</td><td></td>\n",
       "<tr><td>8</td><td><a href=\"__pv_it\\1461d6641e25f32e00aaeed486e4ccd0958acdea\\expr.ipynb\" target=\"_blank\"><img src=\"__pv_it\\1461d6641e25f32e00aaeed486e4ccd0958acdea\\0.png\" style=\"display:inline;vertical-align:middle;\" /></a></td><td>ExpressionList</td><td>9, 10</td>\n",
       "<tr><td>9</td><td><a href=\"__pv_it\\7de344579b991697b85106fc0bd595cb5ed4c24f\\expr.ipynb\" target=\"_blank\"><img src=\"__pv_it\\7de344579b991697b85106fc0bd595cb5ed4c24f\\0.png\" style=\"display:inline;vertical-align:middle;\" /></a></td><td>Variable</td><td></td>\n",
       "<tr><td>10</td><td><a href=\"__pv_it\\81f22f44907e0b98020a4149d2905fed84d24dfc\\expr.ipynb\" target=\"_blank\"><img src=\"__pv_it\\81f22f44907e0b98020a4149d2905fed84d24dfc\\0.png\" style=\"display:inline;vertical-align:middle;\" /></a></td><td>Variable</td><td></td>\n",
       "</table>\n"
      ],
      "text/plain": [
       "<proveit._core_.expression.expr_info.ExpressionInfo instance at 0x000000000459B088>"
      ]
     },
     "execution_count": 21,
     "metadata": {},
     "output_type": "execute_result"
    }
   ],
   "source": [
    "Exists(y, Pxy).exprInfo()"
   ]
  },
  {
   "cell_type": "markdown",
   "metadata": {},
   "source": [
    "If we try to specialize $x$ as $y$ in `nestedForall`, this will fail:"
   ]
  },
  {
   "cell_type": "code",
   "execution_count": 22,
   "metadata": {
    "collapsed": false
   },
   "outputs": [
    {
     "name": "stdout",
     "output_type": "stream",
     "text": [
      "EXPECTED ERROR: Must not make substitution with reserved variables  (i.e., parameters of a Lambda function)\n"
     ]
    }
   ],
   "source": [
    "from proveit import ScopingViolation\n",
    "try:\n",
    "    forallExistsExpr.specialize({x:y}, assumptions={forallExistsExpr})\n",
    "except ScopingViolation as e:\n",
    "    print \"EXPECTED ERROR:\", e"
   ]
  },
  {
   "cell_type": "markdown",
   "metadata": {},
   "source": [
    "This should fail.  We cannot derive $\\exists_y y \\neq y$ by assuming $\\forall_{ x } \\left[\\exists_y x \\neq y \\right]$.  The former is a stronger statement.  We chose this example, in fact, because the latter can be argued as typically true but the former is never true using reasonable definitions.  Where this goes wrong is in violating the scope of $\\exists_y$.  It is introducing $y$ as a new **Variable** within the sub-expression $\\exists_y x \\neq y$.  This label is off limits to $x$ which is quantified outside of this sub-expression.  We can specialize $x$ to whatever we want as long as we respect these scoping restrictions.  It is not simply $y$ that is off limits; all expressions involving $y$ are off limits:"
   ]
  },
  {
   "cell_type": "code",
   "execution_count": 23,
   "metadata": {
    "collapsed": false
   },
   "outputs": [
    {
     "name": "stdout",
     "output_type": "stream",
     "text": [
      "EXPECTED ERROR: Must not make substitution with reserved variables  (i.e., parameters of a Lambda function)\n"
     ]
    }
   ],
   "source": [
    "from proveit import ScopingViolation\n",
    "try:\n",
    "    forallExistsExpr.specialize({x:fy}, assumptions={forallExistsExpr})\n",
    "except ScopingViolation as e:\n",
    "    print \"EXPECTED ERROR:\", e"
   ]
  },
  {
   "cell_type": "markdown",
   "metadata": {},
   "source": [
    "It should also be noted that within a scope, a **Variable** may be reused with a different meaning.  This should generally be avoided as it makes **Expression**s unclear, but the functionality should be well-defined in case it ever happens.  If this happens, we treat it as a distinct **Variable** from anything outside of the scope (that just happens to have the same name).  It can be confusing and should be avoided, but it is well-defined.  For example,"
   ]
  },
  {
   "cell_type": "code",
   "execution_count": 24,
   "metadata": {
    "collapsed": false
   },
   "outputs": [
    {
     "data": {
      "text/html": [
       "<a href=\"__pv_it\\9e640dab39c1cc806dd0e26187f07463eb7c0d3f\\expr.ipynb\" target=\"_blank\"><img src=\"__pv_it\\9e640dab39c1cc806dd0e26187f07463eb7c0d3f\\0.png\" style=\"display:inline;vertical-align:middle;\" /></a>"
      ],
      "text/plain": [
       "forall_{x} (P(x) and [forall_{x} Q(x)])"
      ]
     },
     "execution_count": 24,
     "metadata": {},
     "output_type": "execute_result"
    }
   ],
   "source": [
    "from proveit.logic import And\n",
    "redundantInstanceVarExpr = Forall(x, And(Px, Forall(x, Qx)))\n",
    "redundantInstanceVarExpr"
   ]
  },
  {
   "cell_type": "code",
   "execution_count": 25,
   "metadata": {
    "collapsed": false
   },
   "outputs": [
    {
     "data": {
      "text/html": [
       "<span style=\"font-size:20px;\"><a href=\"__pv_it\\c222cf0cf80907a776ebb67e6a58477542a07606\\expr.ipynb\" target=\"_blank\"><img src=\"__pv_it\\c222cf0cf80907a776ebb67e6a58477542a07606\\0.png\" style=\"display:inline;vertical-align:middle;\" /></a> &#x22A2; <a href=\"__pv_it\\e80a4ab67ca534562941a43f7ad8780f2de85661\\expr.ipynb\" target=\"_blank\"><img src=\"__pv_it\\e80a4ab67ca534562941a43f7ad8780f2de85661\\0.png\" style=\"display:inline;vertical-align:middle;\" /></a></span>"
      ],
      "text/plain": [
       "{[forall_{x} (P(x) and [forall_{x} Q(x)])]} |= P(f(y)) and [forall_{x} Q(x)]"
      ]
     },
     "execution_count": 25,
     "metadata": {},
     "output_type": "execute_result"
    }
   ],
   "source": [
    "# specializing the outer x does not and should not change the inner x which is treated as a distinct Variable\n",
    "redundantInstanceVarExpr.specialize({x:fy}, assumptions={redundantInstanceVarExpr})"
   ]
  },
  {
   "cell_type": "markdown",
   "metadata": {},
   "source": [
    "### Operand, operator, or operation specialization\n",
    "\n",
    "*Specializing* different parts of an **Operation** works essentially the same way as it does with *expression substition*.\n",
    "\n",
    "We will use the `substitution` axiom of `proveit.logic.equality` for demonstrations in this section out of convenience.  Axioms and the `proveit.logic` package will be discussed in more detail later.  For now, we note that axioms (and theorems) are taken to be true statements without proof as you can see below."
   ]
  },
  {
   "cell_type": "code",
   "execution_count": 26,
   "metadata": {
    "collapsed": false
   },
   "outputs": [
    {
     "data": {
      "text/html": [
       "<span style=\"font-size:20px;\"> &#x22A2; <a href=\"__pv_it\\c444f86fc927a814e480dedf5d3f13cc51296db8\\expr.ipynb\" target=\"_blank\"><img src=\"__pv_it\\c444f86fc927a814e480dedf5d3f13cc51296db8\\0.png\" style=\"display:inline;vertical-align:middle;\" /></a></span>"
      ],
      "text/plain": [
       "|= forall_{f, x, y | (x = y)} (f(x) = f(y))"
      ]
     },
     "execution_count": 26,
     "metadata": {},
     "output_type": "execute_result"
    }
   ],
   "source": [
    "from proveit.logic.equality._axioms_ import substitution\n",
    "substitution"
   ]
  },
  {
   "cell_type": "code",
   "execution_count": 27,
   "metadata": {
    "collapsed": false
   },
   "outputs": [
    {
     "data": {
      "text/html": [
       "<table><tr><th colspan=2>statement</th><th>assumptions</th><th>step type</th><th>requirements</th></tr>\n",
       "<tr><td>0</td><td><a href=\"__pv_it\\c444f86fc927a814e480dedf5d3f13cc51296db8\\expr.ipynb\" target=\"_blank\"><img src=\"__pv_it\\c444f86fc927a814e480dedf5d3f13cc51296db8\\0.png\" style=\"display:inline;vertical-align:middle;\" /></a></td><td colspan=3>axiom: proveit.logic.equality.substitution</tr>\n"
      ],
      "text/plain": [
       "<proveit._core_.proof.Axiom instance at 0x0000000004837688>"
      ]
     },
     "execution_count": 27,
     "metadata": {},
     "output_type": "execute_result"
    }
   ],
   "source": [
    "substitution.proof()"
   ]
  },
  {
   "cell_type": "markdown",
   "metadata": {},
   "source": [
    "Let's grab the $x=y$ condition for use below."
   ]
  },
  {
   "cell_type": "code",
   "execution_count": 28,
   "metadata": {
    "collapsed": false
   },
   "outputs": [
    {
     "data": {
      "text/html": [
       "<a href=\"__pv_it\\7d0d0c7455b463d689f799366e8306ca809e6a87\\expr.ipynb\" target=\"_blank\"><img src=\"__pv_it\\7d0d0c7455b463d689f799366e8306ca809e6a87\\0.png\" style=\"display:inline;vertical-align:middle;\" /></a>"
      ],
      "text/plain": [
       "x = y"
      ]
     },
     "execution_count": 28,
     "metadata": {},
     "output_type": "execute_result"
    }
   ],
   "source": [
    "x_eq_y = substitution.conditions[0]\n",
    "x_eq_y"
   ]
  },
  {
   "cell_type": "markdown",
   "metadata": {},
   "source": [
    "Operator and operand *specialization* is straightforward:"
   ]
  },
  {
   "cell_type": "code",
   "execution_count": 29,
   "metadata": {
    "collapsed": false
   },
   "outputs": [
    {
     "data": {
      "text/html": [
       "<span style=\"font-size:20px;\"><a href=\"__pv_it\\8ad2d1b4b824fc6cec9716b9276b16cbfece016e\\expr.ipynb\" target=\"_blank\"><img src=\"__pv_it\\8ad2d1b4b824fc6cec9716b9276b16cbfece016e\\0.png\" style=\"display:inline;vertical-align:middle;\" /></a> &#x22A2; <a href=\"__pv_it\\15bd401603d9f120193ab36266678646b0dd5c0b\\expr.ipynb\" target=\"_blank\"><img src=\"__pv_it\\15bd401603d9f120193ab36266678646b0dd5c0b\\0.png\" style=\"display:inline;vertical-align:middle;\" /></a></span>"
      ],
      "text/plain": [
       "{(x = y)} |= g(x) = g(y)"
      ]
     },
     "execution_count": 29,
     "metadata": {},
     "output_type": "execute_result"
    }
   ],
   "source": [
    "from proveit.common import f, g\n",
    "operatorSubstitution = substitution.specialize({f:g}, assumptions=[x_eq_y])\n",
    "operatorSubstitution"
   ]
  },
  {
   "cell_type": "code",
   "execution_count": 30,
   "metadata": {
    "collapsed": false
   },
   "outputs": [
    {
     "data": {
      "text/html": [
       "<table><tr><th colspan=2>statement</th><th>assumptions</th><th>step type</th><th>requirements</th></tr>\n",
       "<tr><td>0</td><td><a href=\"__pv_it\\15bd401603d9f120193ab36266678646b0dd5c0b\\expr.ipynb\" target=\"_blank\"><img src=\"__pv_it\\15bd401603d9f120193ab36266678646b0dd5c0b\\0.png\" style=\"display:inline;vertical-align:middle;\" /></a></td><td style=\"text-align:center\"><span style=\"font-size:20px;\"><a href=\"__pv_it\\7d0d0c7455b463d689f799366e8306ca809e6a87\\expr.ipynb\" target=\"_blank\"><img src=\"__pv_it\\7d0d0c7455b463d689f799366e8306ca809e6a87\\0.png\" style=\"display:inline;vertical-align:middle;\" /></a></span></td><td>specialization</td><td>1, 2</td></tr>\n",
       "<tr><td colspan=5 style=\"text-align:center\"><span style=\"font-size:20px;\"><a href=\"__pv_it\\1068dd03a47e435cd3b4ce530524e1160ae5f911\\expr.ipynb\" target=\"_blank\"><img src=\"__pv_it\\1068dd03a47e435cd3b4ce530524e1160ae5f911\\0.png\" style=\"display:inline;vertical-align:middle;\" /></a>, <a href=\"__pv_it\\e78be15bd6fb521c80569b6396a595e537e16ddf\\expr.ipynb\" target=\"_blank\"><img src=\"__pv_it\\e78be15bd6fb521c80569b6396a595e537e16ddf\\0.png\" style=\"display:inline;vertical-align:middle;\" /></a>, <a href=\"__pv_it\\a70f036aac3fa4d05d49cd1c3d89dafe9ee7370a\\expr.ipynb\" target=\"_blank\"><img src=\"__pv_it\\a70f036aac3fa4d05d49cd1c3d89dafe9ee7370a\\0.png\" style=\"display:inline;vertical-align:middle;\" /></a></span></td></tr><tr><td>1</td><td><a href=\"__pv_it\\c444f86fc927a814e480dedf5d3f13cc51296db8\\expr.ipynb\" target=\"_blank\"><img src=\"__pv_it\\c444f86fc927a814e480dedf5d3f13cc51296db8\\0.png\" style=\"display:inline;vertical-align:middle;\" /></a></td><td colspan=3>axiom: proveit.logic.equality.substitution</tr>\n",
       "<tr><td>2</td><td><a href=\"__pv_it\\7d0d0c7455b463d689f799366e8306ca809e6a87\\expr.ipynb\" target=\"_blank\"><img src=\"__pv_it\\7d0d0c7455b463d689f799366e8306ca809e6a87\\0.png\" style=\"display:inline;vertical-align:middle;\" /></a></td><td style=\"text-align:center\"><span style=\"font-size:20px;\"><a href=\"__pv_it\\7d0d0c7455b463d689f799366e8306ca809e6a87\\expr.ipynb\" target=\"_blank\"><img src=\"__pv_it\\7d0d0c7455b463d689f799366e8306ca809e6a87\\0.png\" style=\"display:inline;vertical-align:middle;\" /></a></span></td><td>assumption</td><td></td></tr>\n"
      ],
      "text/plain": [
       "<proveit._core_.proof.Specialization instance at 0x0000000004975B48>"
      ]
     },
     "execution_count": 30,
     "metadata": {},
     "output_type": "execute_result"
    }
   ],
   "source": [
    "operatorSubstitution.proof()"
   ]
  },
  {
   "cell_type": "markdown",
   "metadata": {},
   "source": [
    "Note that $x$ and $y$ mapped to themselves by default.  When a mapping is not specified, the default is to map the **Variable** to itself."
   ]
  },
  {
   "cell_type": "code",
   "execution_count": 31,
   "metadata": {
    "collapsed": false
   },
   "outputs": [
    {
     "data": {
      "text/html": [
       "<span style=\"font-size:20px;\"><a href=\"__pv_it\\244aa80a70abe773b6b5fe73b0412e9a935fe356\\expr.ipynb\" target=\"_blank\"><img src=\"__pv_it\\244aa80a70abe773b6b5fe73b0412e9a935fe356\\0.png\" style=\"display:inline;vertical-align:middle;\" /></a> &#x22A2; <a href=\"__pv_it\\bac1c1ef564dc013594a8cb9e0dd6eec075de7f8\\expr.ipynb\" target=\"_blank\"><img src=\"__pv_it\\bac1c1ef564dc013594a8cb9e0dd6eec075de7f8\\0.png\" style=\"display:inline;vertical-align:middle;\" /></a></span>"
      ],
      "text/plain": [
       "{(a = b)} |= f(a) = f(b)"
      ]
     },
     "execution_count": 31,
     "metadata": {},
     "output_type": "execute_result"
    }
   ],
   "source": [
    "from proveit.logic import Equals\n",
    "from proveit.common import a, b\n",
    "a_eq_b = Equals(a, b)\n",
    "operandSubstitution = substitution.specialize({x:a, y:b}, assumptions=[a_eq_b])\n",
    "operandSubstitution"
   ]
  },
  {
   "cell_type": "code",
   "execution_count": 32,
   "metadata": {
    "collapsed": false
   },
   "outputs": [
    {
     "data": {
      "text/html": [
       "<table><tr><th colspan=2>statement</th><th>assumptions</th><th>step type</th><th>requirements</th></tr>\n",
       "<tr><td>0</td><td><a href=\"__pv_it\\bac1c1ef564dc013594a8cb9e0dd6eec075de7f8\\expr.ipynb\" target=\"_blank\"><img src=\"__pv_it\\bac1c1ef564dc013594a8cb9e0dd6eec075de7f8\\0.png\" style=\"display:inline;vertical-align:middle;\" /></a></td><td style=\"text-align:center\"><span style=\"font-size:20px;\"><a href=\"__pv_it\\6da048c67c20ea2d0f2fe61ea2da7ab65289e6dc\\expr.ipynb\" target=\"_blank\"><img src=\"__pv_it\\6da048c67c20ea2d0f2fe61ea2da7ab65289e6dc\\0.png\" style=\"display:inline;vertical-align:middle;\" /></a></span></td><td>specialization</td><td>1, 2</td></tr>\n",
       "<tr><td colspan=5 style=\"text-align:center\"><span style=\"font-size:20px;\"><a href=\"__pv_it\\f3d1b91d0997fc15b21a9ae42830e51e1f6f1f4d\\expr.ipynb\" target=\"_blank\"><img src=\"__pv_it\\f3d1b91d0997fc15b21a9ae42830e51e1f6f1f4d\\0.png\" style=\"display:inline;vertical-align:middle;\" /></a>, <a href=\"__pv_it\\6aae8224798fc52251a781675340d503ad0879a8\\expr.ipynb\" target=\"_blank\"><img src=\"__pv_it\\6aae8224798fc52251a781675340d503ad0879a8\\0.png\" style=\"display:inline;vertical-align:middle;\" /></a>, <a href=\"__pv_it\\055f67b9b911af749276983d536cc2324aeaa392\\expr.ipynb\" target=\"_blank\"><img src=\"__pv_it\\055f67b9b911af749276983d536cc2324aeaa392\\0.png\" style=\"display:inline;vertical-align:middle;\" /></a></span></td></tr><tr><td>1</td><td><a href=\"__pv_it\\c444f86fc927a814e480dedf5d3f13cc51296db8\\expr.ipynb\" target=\"_blank\"><img src=\"__pv_it\\c444f86fc927a814e480dedf5d3f13cc51296db8\\0.png\" style=\"display:inline;vertical-align:middle;\" /></a></td><td colspan=3>axiom: proveit.logic.equality.substitution</tr>\n",
       "<tr><td>2</td><td><a href=\"__pv_it\\6da048c67c20ea2d0f2fe61ea2da7ab65289e6dc\\expr.ipynb\" target=\"_blank\"><img src=\"__pv_it\\6da048c67c20ea2d0f2fe61ea2da7ab65289e6dc\\0.png\" style=\"display:inline;vertical-align:middle;\" /></a></td><td style=\"text-align:center\"><span style=\"font-size:20px;\"><a href=\"__pv_it\\6da048c67c20ea2d0f2fe61ea2da7ab65289e6dc\\expr.ipynb\" target=\"_blank\"><img src=\"__pv_it\\6da048c67c20ea2d0f2fe61ea2da7ab65289e6dc\\0.png\" style=\"display:inline;vertical-align:middle;\" /></a></span></td><td>assumption</td><td></td></tr>\n"
      ],
      "text/plain": [
       "<proveit._core_.proof.Specialization instance at 0x000000000495BEC8>"
      ]
     },
     "execution_count": 32,
     "metadata": {},
     "output_type": "execute_result"
    }
   ],
   "source": [
    "operandSubstitution.proof()"
   ]
  },
  {
   "cell_type": "markdown",
   "metadata": {},
   "source": [
    "Operation substitution can be done explicitly via a **Lambda** expression just as we saw with *expression substitution*.  The **Lambda** expression is not literally substituted in; rather, the function that it represents is applied as the operation."
   ]
  },
  {
   "cell_type": "code",
   "execution_count": 33,
   "metadata": {
    "collapsed": false
   },
   "outputs": [
    {
     "data": {
      "text/html": [
       "<span style=\"font-size:20px;\"><a href=\"__pv_it\\8ad2d1b4b824fc6cec9716b9276b16cbfece016e\\expr.ipynb\" target=\"_blank\"><img src=\"__pv_it\\8ad2d1b4b824fc6cec9716b9276b16cbfece016e\\0.png\" style=\"display:inline;vertical-align:middle;\" /></a> &#x22A2; <a href=\"__pv_it\\2462522da249a9859bf6062a6f7ef4411b4e194f\\expr.ipynb\" target=\"_blank\"><img src=\"__pv_it\\2462522da249a9859bf6062a6f7ef4411b4e194f\\0.png\" style=\"display:inline;vertical-align:middle;\" /></a></span>"
      ],
      "text/plain": [
       "{(x = y)} |= (x + a) = (y + a)"
      ]
     },
     "execution_count": 33,
     "metadata": {},
     "output_type": "execute_result"
    }
   ],
   "source": [
    "from proveit import Lambda\n",
    "from proveit.number import Add\n",
    "operationSubstitution = substitution.specialize({f:Lambda(x, Add(x, a))}, assumptions=[x_eq_y])\n",
    "operationSubstitution"
   ]
  },
  {
   "cell_type": "code",
   "execution_count": 34,
   "metadata": {
    "collapsed": false
   },
   "outputs": [
    {
     "data": {
      "text/html": [
       "<table><tr><th colspan=2>statement</th><th>assumptions</th><th>step type</th><th>requirements</th></tr>\n",
       "<tr><td>0</td><td><a href=\"__pv_it\\2462522da249a9859bf6062a6f7ef4411b4e194f\\expr.ipynb\" target=\"_blank\"><img src=\"__pv_it\\2462522da249a9859bf6062a6f7ef4411b4e194f\\0.png\" style=\"display:inline;vertical-align:middle;\" /></a></td><td style=\"text-align:center\"><span style=\"font-size:20px;\"><a href=\"__pv_it\\7d0d0c7455b463d689f799366e8306ca809e6a87\\expr.ipynb\" target=\"_blank\"><img src=\"__pv_it\\7d0d0c7455b463d689f799366e8306ca809e6a87\\0.png\" style=\"display:inline;vertical-align:middle;\" /></a></span></td><td>specialization</td><td>1, 2</td></tr>\n",
       "<tr><td colspan=5 style=\"text-align:center\"><span style=\"font-size:20px;\"><a href=\"__pv_it\\affc5ff825403c63e39ba9583f80932474efc174\\expr.ipynb\" target=\"_blank\"><img src=\"__pv_it\\affc5ff825403c63e39ba9583f80932474efc174\\0.png\" style=\"display:inline;vertical-align:middle;\" /></a>, <a href=\"__pv_it\\e78be15bd6fb521c80569b6396a595e537e16ddf\\expr.ipynb\" target=\"_blank\"><img src=\"__pv_it\\e78be15bd6fb521c80569b6396a595e537e16ddf\\0.png\" style=\"display:inline;vertical-align:middle;\" /></a>, <a href=\"__pv_it\\a70f036aac3fa4d05d49cd1c3d89dafe9ee7370a\\expr.ipynb\" target=\"_blank\"><img src=\"__pv_it\\a70f036aac3fa4d05d49cd1c3d89dafe9ee7370a\\0.png\" style=\"display:inline;vertical-align:middle;\" /></a></span></td></tr><tr><td>1</td><td><a href=\"__pv_it\\c444f86fc927a814e480dedf5d3f13cc51296db8\\expr.ipynb\" target=\"_blank\"><img src=\"__pv_it\\c444f86fc927a814e480dedf5d3f13cc51296db8\\0.png\" style=\"display:inline;vertical-align:middle;\" /></a></td><td colspan=3>axiom: proveit.logic.equality.substitution</tr>\n",
       "<tr><td>2</td><td><a href=\"__pv_it\\7d0d0c7455b463d689f799366e8306ca809e6a87\\expr.ipynb\" target=\"_blank\"><img src=\"__pv_it\\7d0d0c7455b463d689f799366e8306ca809e6a87\\0.png\" style=\"display:inline;vertical-align:middle;\" /></a></td><td style=\"text-align:center\"><span style=\"font-size:20px;\"><a href=\"__pv_it\\7d0d0c7455b463d689f799366e8306ca809e6a87\\expr.ipynb\" target=\"_blank\"><img src=\"__pv_it\\7d0d0c7455b463d689f799366e8306ca809e6a87\\0.png\" style=\"display:inline;vertical-align:middle;\" /></a></span></td><td>assumption</td><td></td></tr>\n"
      ],
      "text/plain": [
       "<proveit._core_.proof.Specialization instance at 0x00000000049F1748>"
      ]
     },
     "execution_count": 34,
     "metadata": {},
     "output_type": "execute_result"
    }
   ],
   "source": [
    "operationSubstitution.proof()"
   ]
  },
  {
   "cell_type": "markdown",
   "metadata": {},
   "source": [
    "An alternative way to specify an operation substitution is to map the operation applied to a **Variable** onto an expression that uses this same **Variable**.  In this example, mapping $f(x)$ to $x + a$.  This will be internally translated to the same **Lambda** expression as before: $x \\mapsto x + a$."
   ]
  },
  {
   "cell_type": "code",
   "execution_count": 35,
   "metadata": {
    "collapsed": false
   },
   "outputs": [
    {
     "data": {
      "text/html": [
       "<span style=\"font-size:20px;\"><a href=\"__pv_it\\8ad2d1b4b824fc6cec9716b9276b16cbfece016e\\expr.ipynb\" target=\"_blank\"><img src=\"__pv_it\\8ad2d1b4b824fc6cec9716b9276b16cbfece016e\\0.png\" style=\"display:inline;vertical-align:middle;\" /></a> &#x22A2; <a href=\"__pv_it\\2462522da249a9859bf6062a6f7ef4411b4e194f\\expr.ipynb\" target=\"_blank\"><img src=\"__pv_it\\2462522da249a9859bf6062a6f7ef4411b4e194f\\0.png\" style=\"display:inline;vertical-align:middle;\" /></a></span>"
      ],
      "text/plain": [
       "{(x = y)} |= (x + a) = (y + a)"
      ]
     },
     "execution_count": 35,
     "metadata": {},
     "output_type": "execute_result"
    }
   ],
   "source": [
    "from proveit.common import fx\n",
    "operationSubstitution2 = substitution.specialize({fx:Add(x, a)}, assumptions=[x_eq_y])\n",
    "operationSubstitution2"
   ]
  },
  {
   "cell_type": "markdown",
   "metadata": {},
   "source": [
    "The proof is exactly the same as before."
   ]
  },
  {
   "cell_type": "code",
   "execution_count": 36,
   "metadata": {
    "collapsed": false
   },
   "outputs": [
    {
     "data": {
      "text/html": [
       "<table><tr><th colspan=2>statement</th><th>assumptions</th><th>step type</th><th>requirements</th></tr>\n",
       "<tr><td>0</td><td><a href=\"__pv_it\\2462522da249a9859bf6062a6f7ef4411b4e194f\\expr.ipynb\" target=\"_blank\"><img src=\"__pv_it\\2462522da249a9859bf6062a6f7ef4411b4e194f\\0.png\" style=\"display:inline;vertical-align:middle;\" /></a></td><td style=\"text-align:center\"><span style=\"font-size:20px;\"><a href=\"__pv_it\\7d0d0c7455b463d689f799366e8306ca809e6a87\\expr.ipynb\" target=\"_blank\"><img src=\"__pv_it\\7d0d0c7455b463d689f799366e8306ca809e6a87\\0.png\" style=\"display:inline;vertical-align:middle;\" /></a></span></td><td>specialization</td><td>1, 2</td></tr>\n",
       "<tr><td colspan=5 style=\"text-align:center\"><span style=\"font-size:20px;\"><a href=\"__pv_it\\affc5ff825403c63e39ba9583f80932474efc174\\expr.ipynb\" target=\"_blank\"><img src=\"__pv_it\\affc5ff825403c63e39ba9583f80932474efc174\\0.png\" style=\"display:inline;vertical-align:middle;\" /></a>, <a href=\"__pv_it\\e78be15bd6fb521c80569b6396a595e537e16ddf\\expr.ipynb\" target=\"_blank\"><img src=\"__pv_it\\e78be15bd6fb521c80569b6396a595e537e16ddf\\0.png\" style=\"display:inline;vertical-align:middle;\" /></a>, <a href=\"__pv_it\\a70f036aac3fa4d05d49cd1c3d89dafe9ee7370a\\expr.ipynb\" target=\"_blank\"><img src=\"__pv_it\\a70f036aac3fa4d05d49cd1c3d89dafe9ee7370a\\0.png\" style=\"display:inline;vertical-align:middle;\" /></a></span></td></tr><tr><td>1</td><td><a href=\"__pv_it\\c444f86fc927a814e480dedf5d3f13cc51296db8\\expr.ipynb\" target=\"_blank\"><img src=\"__pv_it\\c444f86fc927a814e480dedf5d3f13cc51296db8\\0.png\" style=\"display:inline;vertical-align:middle;\" /></a></td><td colspan=3>axiom: proveit.logic.equality.substitution</tr>\n",
       "<tr><td>2</td><td><a href=\"__pv_it\\7d0d0c7455b463d689f799366e8306ca809e6a87\\expr.ipynb\" target=\"_blank\"><img src=\"__pv_it\\7d0d0c7455b463d689f799366e8306ca809e6a87\\0.png\" style=\"display:inline;vertical-align:middle;\" /></a></td><td style=\"text-align:center\"><span style=\"font-size:20px;\"><a href=\"__pv_it\\7d0d0c7455b463d689f799366e8306ca809e6a87\\expr.ipynb\" target=\"_blank\"><img src=\"__pv_it\\7d0d0c7455b463d689f799366e8306ca809e6a87\\0.png\" style=\"display:inline;vertical-align:middle;\" /></a></span></td><td>assumption</td><td></td></tr>\n"
      ],
      "text/plain": [
       "<proveit._core_.proof.Specialization instance at 0x00000000049FCF88>"
      ]
     },
     "execution_count": 36,
     "metadata": {},
     "output_type": "execute_result"
    }
   ],
   "source": [
    "operationSubstitution2.proof()"
   ]
  },
  {
   "cell_type": "markdown",
   "metadata": {},
   "source": [
    "### Specializing multiple levels simultaneously\n",
    "\n",
    "When `Forall` operations are nested, the universal quantifications may be specialized separately.  For example:"
   ]
  },
  {
   "cell_type": "code",
   "execution_count": 37,
   "metadata": {
    "collapsed": false
   },
   "outputs": [
    {
     "data": {
      "text/html": [
       "<a href=\"__pv_it\\c33ec196c8ba0eed098b6b02df1dd46a8a07dabd\\expr.ipynb\" target=\"_blank\"><img src=\"__pv_it\\c33ec196c8ba0eed098b6b02df1dd46a8a07dabd\\0.png\" style=\"display:inline;vertical-align:middle;\" /></a>"
      ],
      "text/plain": [
       "forall_{x} [forall_{y} [forall_{z | (z < (x + y))} P(x,y,z)]]"
      ]
     },
     "execution_count": 37,
     "metadata": {},
     "output_type": "execute_result"
    }
   ],
   "source": [
    "from proveit.number import Less\n",
    "from proveit.common import z, Pxyz\n",
    "nestedForall = Forall(x, Forall(y, Forall(z, Pxyz, conditions=[Less(z, Add(x, y))])))\n",
    "nestedForall"
   ]
  },
  {
   "cell_type": "code",
   "execution_count": 38,
   "metadata": {
    "collapsed": false
   },
   "outputs": [
    {
     "data": {
      "text/html": [
       "<span style=\"font-size:20px;\"><a href=\"__pv_it\\2f1957077d4378685b41b151350447b1dd33a9c5\\expr.ipynb\" target=\"_blank\"><img src=\"__pv_it\\2f1957077d4378685b41b151350447b1dd33a9c5\\0.png\" style=\"display:inline;vertical-align:middle;\" /></a> &#x22A2; <a href=\"__pv_it\\d413ae021f0ad293df4b7e6e6483bb30f65ac814\\expr.ipynb\" target=\"_blank\"><img src=\"__pv_it\\d413ae021f0ad293df4b7e6e6483bb30f65ac814\\0.png\" style=\"display:inline;vertical-align:middle;\" /></a></span>"
      ],
      "text/plain": [
       "{[forall_{x} [forall_{y} [forall_{z | (z < (x + y))} P(x,y,z)]]]} |= forall_{y} [forall_{z | (z < (x + y))} P(x,y,z)]"
      ]
     },
     "execution_count": 38,
     "metadata": {},
     "output_type": "execute_result"
    }
   ],
   "source": [
    "nestedForallSpec1 = nestedForall.specialize(assumptions=[nestedForall])\n",
    "nestedForallSpec1"
   ]
  },
  {
   "cell_type": "code",
   "execution_count": 39,
   "metadata": {
    "collapsed": false
   },
   "outputs": [
    {
     "data": {
      "text/html": [
       "<span style=\"font-size:20px;\"><a href=\"__pv_it\\2f1957077d4378685b41b151350447b1dd33a9c5\\expr.ipynb\" target=\"_blank\"><img src=\"__pv_it\\2f1957077d4378685b41b151350447b1dd33a9c5\\0.png\" style=\"display:inline;vertical-align:middle;\" /></a> &#x22A2; <a href=\"__pv_it\\8e79752054431031031bb75bea2eb4aee07c3238\\expr.ipynb\" target=\"_blank\"><img src=\"__pv_it\\8e79752054431031031bb75bea2eb4aee07c3238\\0.png\" style=\"display:inline;vertical-align:middle;\" /></a></span>"
      ],
      "text/plain": [
       "{[forall_{x} [forall_{y} [forall_{z | (z < (x + y))} P(x,y,z)]]]} |= forall_{z | (z < (x + y))} P(x,y,z)"
      ]
     },
     "execution_count": 39,
     "metadata": {},
     "output_type": "execute_result"
    }
   ],
   "source": [
    "nestedForallSpec2 = nestedForallSpec1.specialize()\n",
    "nestedForallSpec2"
   ]
  },
  {
   "cell_type": "code",
   "execution_count": 40,
   "metadata": {
    "collapsed": false
   },
   "outputs": [
    {
     "data": {
      "text/html": [
       "<span style=\"font-size:20px;\"><a href=\"__pv_it\\f7799a4f6ee7c7f0b30ad8124b19b2ea52554c35\\expr.ipynb\" target=\"_blank\"><img src=\"__pv_it\\f7799a4f6ee7c7f0b30ad8124b19b2ea52554c35\\0.png\" style=\"display:inline;vertical-align:middle;\" /></a> &#x22A2; <a href=\"__pv_it\\1fd83471c65d888c44264707d5fae39f4cfba83d\\expr.ipynb\" target=\"_blank\"><img src=\"__pv_it\\1fd83471c65d888c44264707d5fae39f4cfba83d\\0.png\" style=\"display:inline;vertical-align:middle;\" /></a></span>"
      ],
      "text/plain": [
       "{(z < (x + y)),[forall_{x} [forall_{y} [forall_{z | (z < (x + y))} P(x,y,z)]]]} |= P(x,y,z)"
      ]
     },
     "execution_count": 40,
     "metadata": {},
     "output_type": "execute_result"
    }
   ],
   "source": [
    "nestedForallSpec3 = nestedForallSpec2.specialize(assumptions=[nestedForallSpec2.conditions[0]])\n",
    "nestedForallSpec3"
   ]
  },
  {
   "cell_type": "code",
   "execution_count": 41,
   "metadata": {
    "collapsed": false
   },
   "outputs": [
    {
     "data": {
      "text/html": [
       "<table><tr><th colspan=2>statement</th><th>assumptions</th><th>step type</th><th>requirements</th></tr>\n",
       "<tr><td>0</td><td><a href=\"__pv_it\\1fd83471c65d888c44264707d5fae39f4cfba83d\\expr.ipynb\" target=\"_blank\"><img src=\"__pv_it\\1fd83471c65d888c44264707d5fae39f4cfba83d\\0.png\" style=\"display:inline;vertical-align:middle;\" /></a></td><td style=\"text-align:center\"><span style=\"font-size:20px;\"><a href=\"__pv_it\\6b08c1443660e1032458b21b5f592720c42acdab\\expr.ipynb\" target=\"_blank\"><img src=\"__pv_it\\6b08c1443660e1032458b21b5f592720c42acdab\\0.png\" style=\"display:inline;vertical-align:middle;\" /></a>, <a href=\"__pv_it\\c33ec196c8ba0eed098b6b02df1dd46a8a07dabd\\expr.ipynb\" target=\"_blank\"><img src=\"__pv_it\\c33ec196c8ba0eed098b6b02df1dd46a8a07dabd\\0.png\" style=\"display:inline;vertical-align:middle;\" /></a></span></td><td>specialization</td><td>1, 2</td></tr>\n",
       "<tr><td colspan=5 style=\"text-align:center\"><span style=\"font-size:20px;\"><a href=\"__pv_it\\03660d7844e5b5bd0677089f3c1be50a18b0dbf8\\expr.ipynb\" target=\"_blank\"><img src=\"__pv_it\\03660d7844e5b5bd0677089f3c1be50a18b0dbf8\\0.png\" style=\"display:inline;vertical-align:middle;\" /></a></span></td></tr><tr><td>1</td><td><a href=\"__pv_it\\8e79752054431031031bb75bea2eb4aee07c3238\\expr.ipynb\" target=\"_blank\"><img src=\"__pv_it\\8e79752054431031031bb75bea2eb4aee07c3238\\0.png\" style=\"display:inline;vertical-align:middle;\" /></a></td><td style=\"text-align:center\"><span style=\"font-size:20px;\"><a href=\"__pv_it\\c33ec196c8ba0eed098b6b02df1dd46a8a07dabd\\expr.ipynb\" target=\"_blank\"><img src=\"__pv_it\\c33ec196c8ba0eed098b6b02df1dd46a8a07dabd\\0.png\" style=\"display:inline;vertical-align:middle;\" /></a></span></td><td>specialization</td><td>3</td></tr>\n",
       "<tr><td colspan=5 style=\"text-align:center\"><span style=\"font-size:20px;\"><a href=\"__pv_it\\a70f036aac3fa4d05d49cd1c3d89dafe9ee7370a\\expr.ipynb\" target=\"_blank\"><img src=\"__pv_it\\a70f036aac3fa4d05d49cd1c3d89dafe9ee7370a\\0.png\" style=\"display:inline;vertical-align:middle;\" /></a></span></td></tr><tr><td>2</td><td><a href=\"__pv_it\\6b08c1443660e1032458b21b5f592720c42acdab\\expr.ipynb\" target=\"_blank\"><img src=\"__pv_it\\6b08c1443660e1032458b21b5f592720c42acdab\\0.png\" style=\"display:inline;vertical-align:middle;\" /></a></td><td style=\"text-align:center\"><span style=\"font-size:20px;\"><a href=\"__pv_it\\6b08c1443660e1032458b21b5f592720c42acdab\\expr.ipynb\" target=\"_blank\"><img src=\"__pv_it\\6b08c1443660e1032458b21b5f592720c42acdab\\0.png\" style=\"display:inline;vertical-align:middle;\" /></a></span></td><td>assumption</td><td></td></tr>\n",
       "<tr><td>3</td><td><a href=\"__pv_it\\d413ae021f0ad293df4b7e6e6483bb30f65ac814\\expr.ipynb\" target=\"_blank\"><img src=\"__pv_it\\d413ae021f0ad293df4b7e6e6483bb30f65ac814\\0.png\" style=\"display:inline;vertical-align:middle;\" /></a></td><td style=\"text-align:center\"><span style=\"font-size:20px;\"><a href=\"__pv_it\\c33ec196c8ba0eed098b6b02df1dd46a8a07dabd\\expr.ipynb\" target=\"_blank\"><img src=\"__pv_it\\c33ec196c8ba0eed098b6b02df1dd46a8a07dabd\\0.png\" style=\"display:inline;vertical-align:middle;\" /></a></span></td><td>specialization</td><td>4</td></tr>\n",
       "<tr><td colspan=5 style=\"text-align:center\"><span style=\"font-size:20px;\"><a href=\"__pv_it\\e78be15bd6fb521c80569b6396a595e537e16ddf\\expr.ipynb\" target=\"_blank\"><img src=\"__pv_it\\e78be15bd6fb521c80569b6396a595e537e16ddf\\0.png\" style=\"display:inline;vertical-align:middle;\" /></a></span></td></tr><tr><td>4</td><td><a href=\"__pv_it\\c33ec196c8ba0eed098b6b02df1dd46a8a07dabd\\expr.ipynb\" target=\"_blank\"><img src=\"__pv_it\\c33ec196c8ba0eed098b6b02df1dd46a8a07dabd\\0.png\" style=\"display:inline;vertical-align:middle;\" /></a></td><td style=\"text-align:center\"><span style=\"font-size:20px;\"><a href=\"__pv_it\\c33ec196c8ba0eed098b6b02df1dd46a8a07dabd\\expr.ipynb\" target=\"_blank\"><img src=\"__pv_it\\c33ec196c8ba0eed098b6b02df1dd46a8a07dabd\\0.png\" style=\"display:inline;vertical-align:middle;\" /></a></span></td><td>assumption</td><td></td></tr>\n"
      ],
      "text/plain": [
       "<proveit._core_.proof.Specialization instance at 0x0000000004A8F388>"
      ]
     },
     "execution_count": 41,
     "metadata": {},
     "output_type": "execute_result"
    }
   ],
   "source": [
    "nestedForallSpec3.proof()"
   ]
  },
  {
   "cell_type": "markdown",
   "metadata": {},
   "source": [
    "But for the sake of convenience and efficiency, **Prove-It** also allows nested `Forall` operations to be specialized simultaneously:"
   ]
  },
  {
   "cell_type": "code",
   "execution_count": 42,
   "metadata": {
    "collapsed": false
   },
   "outputs": [
    {
     "data": {
      "text/html": [
       "<span style=\"font-size:20px;\"><a href=\"__pv_it\\e56a1922008e0644138c223a5536e2753536ba9f\\expr.ipynb\" target=\"_blank\"><img src=\"__pv_it\\e56a1922008e0644138c223a5536e2753536ba9f\\0.png\" style=\"display:inline;vertical-align:middle;\" /></a> &#x22A2; <a href=\"__pv_it\\1fd83471c65d888c44264707d5fae39f4cfba83d\\expr.ipynb\" target=\"_blank\"><img src=\"__pv_it\\1fd83471c65d888c44264707d5fae39f4cfba83d\\0.png\" style=\"display:inline;vertical-align:middle;\" /></a></span>"
      ],
      "text/plain": [
       "{[forall_{x} [forall_{y} [forall_{z | (z < (x + y))} P(x,y,z)]]],(z < (x + y))} |= P(x,y,z)"
      ]
     },
     "execution_count": 42,
     "metadata": {},
     "output_type": "execute_result"
    }
   ],
   "source": [
    "assumptions = ExpressionList(nestedForall, nestedForallSpec2.conditions[0])\n",
    "nestedForallSimultaneousSpec = nestedForall.specialize({z:z}, assumptions=assumptions)\n",
    "nestedForallSimultaneousSpec"
   ]
  },
  {
   "cell_type": "markdown",
   "metadata": {},
   "source": [
    "We just need to include an explicit mapping for an inner quantified **Variable**.  So we indicated above that we want to map $z$ to $z$ even though this is typically the default in order to force it to specialize all three `Forall` operations simultaneously.  The proof is shorter, doing a single all-in-one *specialization*:"
   ]
  },
  {
   "cell_type": "code",
   "execution_count": 43,
   "metadata": {
    "collapsed": false
   },
   "outputs": [
    {
     "data": {
      "text/html": [
       "<table><tr><th colspan=2>statement</th><th>assumptions</th><th>step type</th><th>requirements</th></tr>\n",
       "<tr><td>0</td><td><a href=\"__pv_it\\1fd83471c65d888c44264707d5fae39f4cfba83d\\expr.ipynb\" target=\"_blank\"><img src=\"__pv_it\\1fd83471c65d888c44264707d5fae39f4cfba83d\\0.png\" style=\"display:inline;vertical-align:middle;\" /></a></td><td style=\"text-align:center\"><span style=\"font-size:20px;\"><a href=\"__pv_it\\c33ec196c8ba0eed098b6b02df1dd46a8a07dabd\\expr.ipynb\" target=\"_blank\"><img src=\"__pv_it\\c33ec196c8ba0eed098b6b02df1dd46a8a07dabd\\0.png\" style=\"display:inline;vertical-align:middle;\" /></a>, <a href=\"__pv_it\\6b08c1443660e1032458b21b5f592720c42acdab\\expr.ipynb\" target=\"_blank\"><img src=\"__pv_it\\6b08c1443660e1032458b21b5f592720c42acdab\\0.png\" style=\"display:inline;vertical-align:middle;\" /></a></span></td><td>specialization</td><td>1, 2</td></tr>\n",
       "<tr><td colspan=5 style=\"text-align:center\"><span style=\"font-size:20px;\"><a href=\"__pv_it\\7b116051cc23a47c431081049a333d0e2e76f221\\expr.ipynb\" target=\"_blank\"><img src=\"__pv_it\\7b116051cc23a47c431081049a333d0e2e76f221\\0.png\" style=\"display:inline;vertical-align:middle;\" /></a>, <a href=\"__pv_it\\8b36a95ff5d70ee697ff999327b2667a5a20b0ef\\expr.ipynb\" target=\"_blank\"><img src=\"__pv_it\\8b36a95ff5d70ee697ff999327b2667a5a20b0ef\\0.png\" style=\"display:inline;vertical-align:middle;\" /></a>, <a href=\"__pv_it\\a3bb37f05a21377e3b41894b946c8fc7fe7fce9d\\expr.ipynb\" target=\"_blank\"><img src=\"__pv_it\\a3bb37f05a21377e3b41894b946c8fc7fe7fce9d\\0.png\" style=\"display:inline;vertical-align:middle;\" /></a></span></td></tr><tr><td>1</td><td><a href=\"__pv_it\\c33ec196c8ba0eed098b6b02df1dd46a8a07dabd\\expr.ipynb\" target=\"_blank\"><img src=\"__pv_it\\c33ec196c8ba0eed098b6b02df1dd46a8a07dabd\\0.png\" style=\"display:inline;vertical-align:middle;\" /></a></td><td style=\"text-align:center\"><span style=\"font-size:20px;\"><a href=\"__pv_it\\c33ec196c8ba0eed098b6b02df1dd46a8a07dabd\\expr.ipynb\" target=\"_blank\"><img src=\"__pv_it\\c33ec196c8ba0eed098b6b02df1dd46a8a07dabd\\0.png\" style=\"display:inline;vertical-align:middle;\" /></a></span></td><td>assumption</td><td></td></tr>\n",
       "<tr><td>2</td><td><a href=\"__pv_it\\6b08c1443660e1032458b21b5f592720c42acdab\\expr.ipynb\" target=\"_blank\"><img src=\"__pv_it\\6b08c1443660e1032458b21b5f592720c42acdab\\0.png\" style=\"display:inline;vertical-align:middle;\" /></a></td><td style=\"text-align:center\"><span style=\"font-size:20px;\"><a href=\"__pv_it\\6b08c1443660e1032458b21b5f592720c42acdab\\expr.ipynb\" target=\"_blank\"><img src=\"__pv_it\\6b08c1443660e1032458b21b5f592720c42acdab\\0.png\" style=\"display:inline;vertical-align:middle;\" /></a></span></td><td>assumption</td><td></td></tr>\n"
      ],
      "text/plain": [
       "<proveit._core_.proof.Specialization instance at 0x0000000004A8F5C8>"
      ]
     },
     "execution_count": 43,
     "metadata": {},
     "output_type": "execute_result"
    }
   ],
   "source": [
    "nestedForallSimultaneousSpec.proof()"
   ]
  },
  {
   "cell_type": "markdown",
   "metadata": {},
   "source": [
    "In the mapping that is indicated below step 0, enumerated set notation (with curly braces) is used to separate the mappings at different levels.  In this way, there can be no ambiguity.  Simultaneous *specialization* can be done for any number of nested levels."
   ]
  },
  {
   "cell_type": "markdown",
   "metadata": {},
   "source": [
    "### Specializing and relabeling simultaneously\n",
    "\n",
    "It is also possible to *relabeling* and *specialization* (over any number of nested levels) in one step.  For example: "
   ]
  },
  {
   "cell_type": "code",
   "execution_count": 44,
   "metadata": {
    "collapsed": false
   },
   "outputs": [
    {
     "data": {
      "text/html": [
       "<span style=\"font-size:20px;\"><a href=\"__pv_it\\2f1957077d4378685b41b151350447b1dd33a9c5\\expr.ipynb\" target=\"_blank\"><img src=\"__pv_it\\2f1957077d4378685b41b151350447b1dd33a9c5\\0.png\" style=\"display:inline;vertical-align:middle;\" /></a> &#x22A2; <a href=\"__pv_it\\ed5b6f825599b9cece313e483779a0264988ab7f\\expr.ipynb\" target=\"_blank\"><img src=\"__pv_it\\ed5b6f825599b9cece313e483779a0264988ab7f\\0.png\" style=\"display:inline;vertical-align:middle;\" /></a></span>"
      ],
      "text/plain": [
       "{[forall_{x} [forall_{y} [forall_{z | (z < (x + y))} P(x,y,z)]]]} |= forall_{a | (a < (x + y))} P(x,y,a)"
      ]
     },
     "execution_count": 44,
     "metadata": {},
     "output_type": "execute_result"
    }
   ],
   "source": [
    "nestedForallSpecAndRelab = nestedForall.specialize(specializeMap={y:y}, relabelMap={z:a}, assumptions=[nestedForall])\n",
    "nestedForallSpecAndRelab"
   ]
  },
  {
   "cell_type": "markdown",
   "metadata": {},
   "source": [
    "The `relabelMap` is specified separately from the `specializeMap` to be unambiguous."
   ]
  },
  {
   "cell_type": "code",
   "execution_count": 45,
   "metadata": {
    "collapsed": false
   },
   "outputs": [
    {
     "data": {
      "text/html": [
       "<table><tr><th colspan=2>statement</th><th>assumptions</th><th>step type</th><th>requirements</th></tr>\n",
       "<tr><td>0</td><td><a href=\"__pv_it\\ed5b6f825599b9cece313e483779a0264988ab7f\\expr.ipynb\" target=\"_blank\"><img src=\"__pv_it\\ed5b6f825599b9cece313e483779a0264988ab7f\\0.png\" style=\"display:inline;vertical-align:middle;\" /></a></td><td style=\"text-align:center\"><span style=\"font-size:20px;\"><a href=\"__pv_it\\c33ec196c8ba0eed098b6b02df1dd46a8a07dabd\\expr.ipynb\" target=\"_blank\"><img src=\"__pv_it\\c33ec196c8ba0eed098b6b02df1dd46a8a07dabd\\0.png\" style=\"display:inline;vertical-align:middle;\" /></a></span></td><td>specialization</td><td>1</td></tr>\n",
       "<tr><td colspan=5 style=\"text-align:center\"><span style=\"font-size:20px;\"><a href=\"__pv_it\\7b116051cc23a47c431081049a333d0e2e76f221\\expr.ipynb\" target=\"_blank\"><img src=\"__pv_it\\7b116051cc23a47c431081049a333d0e2e76f221\\0.png\" style=\"display:inline;vertical-align:middle;\" /></a>, <a href=\"__pv_it\\8b36a95ff5d70ee697ff999327b2667a5a20b0ef\\expr.ipynb\" target=\"_blank\"><img src=\"__pv_it\\8b36a95ff5d70ee697ff999327b2667a5a20b0ef\\0.png\" style=\"display:inline;vertical-align:middle;\" /></a>, relabeling <a href=\"__pv_it\\ee8fe02e25b46c7c06fcc11760f5758612515409\\expr.ipynb\" target=\"_blank\"><img src=\"__pv_it\\ee8fe02e25b46c7c06fcc11760f5758612515409\\0.png\" style=\"display:inline;vertical-align:middle;\" /></a></span></td></tr><tr><td>1</td><td><a href=\"__pv_it\\c33ec196c8ba0eed098b6b02df1dd46a8a07dabd\\expr.ipynb\" target=\"_blank\"><img src=\"__pv_it\\c33ec196c8ba0eed098b6b02df1dd46a8a07dabd\\0.png\" style=\"display:inline;vertical-align:middle;\" /></a></td><td style=\"text-align:center\"><span style=\"font-size:20px;\"><a href=\"__pv_it\\c33ec196c8ba0eed098b6b02df1dd46a8a07dabd\\expr.ipynb\" target=\"_blank\"><img src=\"__pv_it\\c33ec196c8ba0eed098b6b02df1dd46a8a07dabd\\0.png\" style=\"display:inline;vertical-align:middle;\" /></a></span></td><td>assumption</td><td></td></tr>\n"
      ],
      "text/plain": [
       "<proveit._core_.proof.Specialization instance at 0x0000000004A7F808>"
      ]
     },
     "execution_count": 45,
     "metadata": {},
     "output_type": "execute_result"
    }
   ],
   "source": [
    "nestedForallSpecAndRelab.proof()"
   ]
  },
  {
   "cell_type": "markdown",
   "metadata": {},
   "source": [
    "The *relabeling* map is always shown after the last semicolon ';' in the *specialization* map.  When any *specialization* occurs, the \"step type\" is labeled \"specialization\".  If there is only *relabeling*, the \"step type\" will indicate \"relabeling\". "
   ]
  },
  {
   "cell_type": "markdown",
   "metadata": {},
   "source": [
    "You are not allowed to specify that the same **Variable** is to be *specialized* and *relabeled*."
   ]
  },
  {
   "cell_type": "code",
   "execution_count": 46,
   "metadata": {
    "collapsed": false
   },
   "outputs": [
    {
     "name": "stdout",
     "output_type": "stream",
     "text": [
      "EXPECTED ERROR: Proof step failed assuming {forall_{x} [forall_{y} [forall_{z | (z < (x + y))} P(x,y,z)]], z < (x + y)}: Cannot relabel using assumptions that involve any of the relabeling variables\n"
     ]
    }
   ],
   "source": [
    "from proveit import RelabelingFailure\n",
    "try:\n",
    "    nestedForall.specialize({y:y}, {y:a}, assumptions=assumptions)\n",
    "except RelabelingFailure as e:\n",
    "    print \"EXPECTED ERROR:\", e"
   ]
  },
  {
   "cell_type": "markdown",
   "metadata": {},
   "source": [
    "As noted in the previous tutorial chapter, relabeling has another important limitation.  You cannot relabel something using assumptions that involve any of the relabeling variables.  For example, we cannot relabel $P$ to $R$ in `nestedForall` while assuming `nestedForall`.  "
   ]
  },
  {
   "cell_type": "code",
   "execution_count": 47,
   "metadata": {
    "collapsed": false
   },
   "outputs": [
    {
     "name": "stdout",
     "output_type": "stream",
     "text": [
      "EXPECTED ERROR: Proof step failed assuming {forall_{x} [forall_{y} [forall_{z | (z < (x + y))} P(x,y,z)]], z < (x + y)}: Cannot relabel using assumptions that involve any of the relabeling variables\n"
     ]
    }
   ],
   "source": [
    "from proveit import RelabelingFailure\n",
    "try:\n",
    "    nestedForall.specialize({y:y}, {P:R}, assumptions=assumptions)\n",
    "except RelabelingFailure as e:\n",
    "    print \"EXPECTED ERROR:\", e"
   ]
  },
  {
   "cell_type": "markdown",
   "metadata": {},
   "source": [
    "### Universal quantification over multiple variables\n",
    "\n",
    "Rather than nesting `Forall` operations, you can quantify over multiple instance variables for a more succinct expression."
   ]
  },
  {
   "cell_type": "code",
   "execution_count": 48,
   "metadata": {
    "collapsed": false
   },
   "outputs": [
    {
     "data": {
      "text/html": [
       "<a href=\"__pv_it\\febd3cc7519d77f2797028e4a2de413dbb4998de\\expr.ipynb\" target=\"_blank\"><img src=\"__pv_it\\febd3cc7519d77f2797028e4a2de413dbb4998de\\0.png\" style=\"display:inline;vertical-align:middle;\" /></a>"
      ],
      "text/plain": [
       "forall_{x, y in S} P(x,y)"
      ]
     },
     "execution_count": 48,
     "metadata": {},
     "output_type": "execute_result"
    }
   ],
   "source": [
    "multiVarForall = Forall((x, y), Pxy, domain=S)\n",
    "multiVarForall"
   ]
  },
  {
   "cell_type": "code",
   "execution_count": 49,
   "metadata": {
    "collapsed": false
   },
   "outputs": [
    {
     "data": {
      "text/html": [
       "<span style=\"font-size:20px;\"><a href=\"__pv_it\\4e23fb196795d2e578a76437120ee880560a502f\\expr.ipynb\" target=\"_blank\"><img src=\"__pv_it\\4e23fb196795d2e578a76437120ee880560a502f\\0.png\" style=\"display:inline;vertical-align:middle;\" /></a> &#x22A2; <a href=\"__pv_it\\58bb6162e64c9460ebfc9b1f92e15234af3ac6cc\\expr.ipynb\" target=\"_blank\"><img src=\"__pv_it\\58bb6162e64c9460ebfc9b1f92e15234af3ac6cc\\0.png\" style=\"display:inline;vertical-align:middle;\" /></a></span>"
      ],
      "text/plain": [
       "{[forall_{x, y in S} P(x,y)],(x in S),(y in S)} |= P(x,y)"
      ]
     },
     "execution_count": 49,
     "metadata": {},
     "output_type": "execute_result"
    }
   ],
   "source": [
    "assumptions = [multiVarForall, InSet(x, S), InSet(y, S)]\n",
    "multiVarForallSpec = multiVarForall.specialize(assumptions=assumptions)\n",
    "multiVarForallSpec"
   ]
  },
  {
   "cell_type": "code",
   "execution_count": 50,
   "metadata": {
    "collapsed": false
   },
   "outputs": [
    {
     "data": {
      "text/html": [
       "<table><tr><th colspan=2>statement</th><th>assumptions</th><th>step type</th><th>requirements</th></tr>\n",
       "<tr><td>0</td><td><a href=\"__pv_it\\58bb6162e64c9460ebfc9b1f92e15234af3ac6cc\\expr.ipynb\" target=\"_blank\"><img src=\"__pv_it\\58bb6162e64c9460ebfc9b1f92e15234af3ac6cc\\0.png\" style=\"display:inline;vertical-align:middle;\" /></a></td><td style=\"text-align:center\"><span style=\"font-size:20px;\"><a href=\"__pv_it\\febd3cc7519d77f2797028e4a2de413dbb4998de\\expr.ipynb\" target=\"_blank\"><img src=\"__pv_it\\febd3cc7519d77f2797028e4a2de413dbb4998de\\0.png\" style=\"display:inline;vertical-align:middle;\" /></a>, <a href=\"__pv_it\\a1a53d5c81b255c069f5e5d9b5422539ce2e94b5\\expr.ipynb\" target=\"_blank\"><img src=\"__pv_it\\a1a53d5c81b255c069f5e5d9b5422539ce2e94b5\\0.png\" style=\"display:inline;vertical-align:middle;\" /></a>, <a href=\"__pv_it\\d41904526deba557cdf002d704e692225919172c\\expr.ipynb\" target=\"_blank\"><img src=\"__pv_it\\d41904526deba557cdf002d704e692225919172c\\0.png\" style=\"display:inline;vertical-align:middle;\" /></a></span></td><td>specialization</td><td>1, 2, 3</td></tr>\n",
       "<tr><td colspan=5 style=\"text-align:center\"><span style=\"font-size:20px;\"><a href=\"__pv_it\\e78be15bd6fb521c80569b6396a595e537e16ddf\\expr.ipynb\" target=\"_blank\"><img src=\"__pv_it\\e78be15bd6fb521c80569b6396a595e537e16ddf\\0.png\" style=\"display:inline;vertical-align:middle;\" /></a>, <a href=\"__pv_it\\a70f036aac3fa4d05d49cd1c3d89dafe9ee7370a\\expr.ipynb\" target=\"_blank\"><img src=\"__pv_it\\a70f036aac3fa4d05d49cd1c3d89dafe9ee7370a\\0.png\" style=\"display:inline;vertical-align:middle;\" /></a></span></td></tr><tr><td>1</td><td><a href=\"__pv_it\\febd3cc7519d77f2797028e4a2de413dbb4998de\\expr.ipynb\" target=\"_blank\"><img src=\"__pv_it\\febd3cc7519d77f2797028e4a2de413dbb4998de\\0.png\" style=\"display:inline;vertical-align:middle;\" /></a></td><td style=\"text-align:center\"><span style=\"font-size:20px;\"><a href=\"__pv_it\\febd3cc7519d77f2797028e4a2de413dbb4998de\\expr.ipynb\" target=\"_blank\"><img src=\"__pv_it\\febd3cc7519d77f2797028e4a2de413dbb4998de\\0.png\" style=\"display:inline;vertical-align:middle;\" /></a></span></td><td>assumption</td><td></td></tr>\n",
       "<tr><td>2</td><td><a href=\"__pv_it\\a1a53d5c81b255c069f5e5d9b5422539ce2e94b5\\expr.ipynb\" target=\"_blank\"><img src=\"__pv_it\\a1a53d5c81b255c069f5e5d9b5422539ce2e94b5\\0.png\" style=\"display:inline;vertical-align:middle;\" /></a></td><td style=\"text-align:center\"><span style=\"font-size:20px;\"><a href=\"__pv_it\\a1a53d5c81b255c069f5e5d9b5422539ce2e94b5\\expr.ipynb\" target=\"_blank\"><img src=\"__pv_it\\a1a53d5c81b255c069f5e5d9b5422539ce2e94b5\\0.png\" style=\"display:inline;vertical-align:middle;\" /></a></span></td><td>assumption</td><td></td></tr>\n",
       "<tr><td>3</td><td><a href=\"__pv_it\\d41904526deba557cdf002d704e692225919172c\\expr.ipynb\" target=\"_blank\"><img src=\"__pv_it\\d41904526deba557cdf002d704e692225919172c\\0.png\" style=\"display:inline;vertical-align:middle;\" /></a></td><td style=\"text-align:center\"><span style=\"font-size:20px;\"><a href=\"__pv_it\\d41904526deba557cdf002d704e692225919172c\\expr.ipynb\" target=\"_blank\"><img src=\"__pv_it\\d41904526deba557cdf002d704e692225919172c\\0.png\" style=\"display:inline;vertical-align:middle;\" /></a></span></td><td>assumption</td><td></td></tr>\n"
      ],
      "text/plain": [
       "<proveit._core_.proof.Specialization instance at 0x0000000004AA4288>"
      ]
     },
     "execution_count": 50,
     "metadata": {},
     "output_type": "execute_result"
    }
   ],
   "source": [
    "multiVarForallSpec.proof()"
   ]
  },
  {
   "cell_type": "markdown",
   "metadata": {},
   "source": [
    "If you attempt to use the same **Variable** multiple times in the list of instance variables, you will get an error."
   ]
  },
  {
   "cell_type": "code",
   "execution_count": 51,
   "metadata": {
    "collapsed": false
   },
   "outputs": [
    {
     "name": "stdout",
     "output_type": "stream",
     "text": [
      "EXPECTED ERROR: Lambda parameters Variables must be unique with respect to each other.\n"
     ]
    }
   ],
   "source": [
    "try:\n",
    "    Forall((x, x), Px)\n",
    "except ValueError as e:\n",
    "    print 'EXPECTED ERROR:', e"
   ]
  },
  {
   "cell_type": "markdown",
   "metadata": {},
   "source": [
    "### Universal quantification over an unspecified number of variables\n",
    "\n",
    "Using **MultiVariable**s, we can express universal quantification over an unspecified number of variables.  Depending upon how the **MultiVariable** is used in the instance expression, we may *specialize* it to an **ExpressionList** (if it is used within **Etcetera** sub-expressions), or an **ExpressionTensor** (if it is used within **Block** sub-expressions).\n",
    "\n",
    "The following example uses a theorem from `proveit.logic.boolean.disjunction`.  It states, in English, that the `Or` (disjunction) operation acting an any number of operands is false if all of the operands are false."
   ]
  },
  {
   "cell_type": "code",
   "execution_count": 52,
   "metadata": {
    "collapsed": false
   },
   "outputs": [
    {
     "data": {
      "text/html": [
       "<span style=\"font-size:20px;\"> &#x22A2; <a href=\"__pv_it\\c48a0f50c327a30c66b52b0ed0542e1ae375164c\\expr.ipynb\" target=\"_blank\"><img src=\"__pv_it\\c48a0f50c327a30c66b52b0ed0542e1ae375164c\\0.png\" style=\"display:inline;vertical-align:middle;\" /></a></span>"
      ],
      "text/plain": [
       "|= forall_{A_{*} in BOOLEANS |  ..,not(A_{*}),.. } not( .. or A_{*} or .. )"
      ]
     },
     "execution_count": 52,
     "metadata": {},
     "output_type": "execute_result"
    }
   ],
   "source": [
    "from proveit.logic.boolean.disjunction._theorems_ import notOrIfNotAny\n",
    "notOrIfNotAny"
   ]
  },
  {
   "cell_type": "code",
   "execution_count": 53,
   "metadata": {
    "collapsed": false
   },
   "outputs": [
    {
     "data": {
      "text/html": [
       "<table><tr><th colspan=2>expression</th><th>core type</th><th>sub-expressions</th></tr>\n",
       "<tr><td>0</td><td><a href=\"__pv_it\\c48a0f50c327a30c66b52b0ed0542e1ae375164c\\expr.ipynb\" target=\"_blank\"><img src=\"__pv_it\\c48a0f50c327a30c66b52b0ed0542e1ae375164c\\0.png\" style=\"display:inline;vertical-align:middle;\" /></a></td><td>Operation</td><td>operator: 1<br>operands: 2<br></td>\n",
       "<tr><td>1</td><td><a href=\"__pv_it\\e86b0794e5a928e0b73db370c636ed2065b38bbb\\expr.ipynb\" target=\"_blank\"><img src=\"__pv_it\\e86b0794e5a928e0b73db370c636ed2065b38bbb\\0.png\" style=\"display:inline;vertical-align:middle;\" /></a></td><td>Literal</td><td></td>\n",
       "<tr><td>2</td><td><a href=\"__pv_it\\ab27e84136ca7204daf867025d50516223e0640d\\expr.ipynb\" target=\"_blank\"><img src=\"__pv_it\\ab27e84136ca7204daf867025d50516223e0640d\\0.png\" style=\"display:inline;vertical-align:middle;\" /></a></td><td>NamedExpressions</td><td>domain: 4<br>imap: 3<br></td>\n",
       "<tr><td>3</td><td><a href=\"__pv_it\\aec78def5a29712ee14a8e41ddf3f45252bcd421\\expr.ipynb\" target=\"_blank\"><img src=\"__pv_it\\aec78def5a29712ee14a8e41ddf3f45252bcd421\\0.png\" style=\"display:inline;vertical-align:middle;\" /></a></td><td>Lambda</td><td>parameters: 17<br>body: 5<br></td>\n",
       "<tr><td>4</td><td><a href=\"__pv_it\\15a43cf9b41074dfa3667e0e2daa808d29339018\\expr.ipynb\" target=\"_blank\"><img src=\"__pv_it\\15a43cf9b41074dfa3667e0e2daa808d29339018\\0.png\" style=\"display:inline;vertical-align:middle;\" /></a></td><td>Literal</td><td></td>\n",
       "<tr><td>5</td><td><a href=\"__pv_it\\348c621e91c7ba5a24bb9c2d1a2f67e497e59e54\\expr.ipynb\" target=\"_blank\"><img src=\"__pv_it\\348c621e91c7ba5a24bb9c2d1a2f67e497e59e54\\0.png\" style=\"display:inline;vertical-align:middle;\" /></a></td><td>NamedExpressions</td><td>conds: 7<br>iexpr: 6<br></td>\n",
       "<tr><td>6</td><td><a href=\"__pv_it\\258b0f4b453ae3bab16c67eedf2090303ba71795\\expr.ipynb\" target=\"_blank\"><img src=\"__pv_it\\258b0f4b453ae3bab16c67eedf2090303ba71795\\0.png\" style=\"display:inline;vertical-align:middle;\" /></a></td><td>Operation</td><td>operator: 14<br>operands: 8<br></td>\n",
       "<tr><td>7</td><td><a href=\"__pv_it\\7bff386867dd289ab6ff8df3f29cdc32655f7a8a\\expr.ipynb\" target=\"_blank\"><img src=\"__pv_it\\7bff386867dd289ab6ff8df3f29cdc32655f7a8a\\0.png\" style=\"display:inline;vertical-align:middle;\" /></a></td><td>ExpressionList</td><td>9</td>\n",
       "<tr><td>8</td><td><a href=\"__pv_it\\f4871ae38ff910ac9a84d1d780adfbf6ed51e9be\\expr.ipynb\" target=\"_blank\"><img src=\"__pv_it\\f4871ae38ff910ac9a84d1d780adfbf6ed51e9be\\0.png\" style=\"display:inline;vertical-align:middle;\" /></a></td><td>ExpressionList</td><td>10</td>\n",
       "<tr><td>9</td><td><a href=\"__pv_it\\54c83e219dee909a16252714a63d0e30ee80ee47\\expr.ipynb\" target=\"_blank\"><img src=\"__pv_it\\54c83e219dee909a16252714a63d0e30ee80ee47\\0.png\" style=\"display:inline;vertical-align:middle;\" /></a></td><td>Etcetera</td><td>11</td>\n",
       "<tr><td>10</td><td><a href=\"__pv_it\\051eb740bb18e22ad00a23101918ed08a7e80014\\expr.ipynb\" target=\"_blank\"><img src=\"__pv_it\\051eb740bb18e22ad00a23101918ed08a7e80014\\0.png\" style=\"display:inline;vertical-align:middle;\" /></a></td><td>Operation</td><td>operator: 12<br>operands: 13<br></td>\n",
       "<tr><td>11</td><td><a href=\"__pv_it\\c42f1045e8c9f66c1e514dc5ecf1f3c40d536b1b\\expr.ipynb\" target=\"_blank\"><img src=\"__pv_it\\c42f1045e8c9f66c1e514dc5ecf1f3c40d536b1b\\0.png\" style=\"display:inline;vertical-align:middle;\" /></a></td><td>Operation</td><td>operator: 14<br>operands: 15<br></td>\n",
       "<tr><td>12</td><td><a href=\"__pv_it\\9e94fcdba42bc2d50255b8f1bfc023b2d65c8b05\\expr.ipynb\" target=\"_blank\"><img src=\"__pv_it\\9e94fcdba42bc2d50255b8f1bfc023b2d65c8b05\\0.png\" style=\"display:inline;vertical-align:middle;\" /></a></td><td>Literal</td><td></td>\n",
       "<tr><td>13</td><td><a href=\"__pv_it\\6704698efe173cd8254d9ed8c8f5608e29bd5696\\expr.ipynb\" target=\"_blank\"><img src=\"__pv_it\\6704698efe173cd8254d9ed8c8f5608e29bd5696\\0.png\" style=\"display:inline;vertical-align:middle;\" /></a></td><td>ExpressionList</td><td>16</td>\n",
       "<tr><td>14</td><td><a href=\"__pv_it\\bbcc542126d0bbd8f0b4be83cdd0f4dd03f19dbc\\expr.ipynb\" target=\"_blank\"><img src=\"__pv_it\\bbcc542126d0bbd8f0b4be83cdd0f4dd03f19dbc\\0.png\" style=\"display:inline;vertical-align:middle;\" /></a></td><td>Literal</td><td></td>\n",
       "<tr><td>15</td><td><a href=\"__pv_it\\a9f5471b2cb5dbbb4c40ca73837a0e82bbc12dcf\\expr.ipynb\" target=\"_blank\"><img src=\"__pv_it\\a9f5471b2cb5dbbb4c40ca73837a0e82bbc12dcf\\0.png\" style=\"display:inline;vertical-align:middle;\" /></a></td><td>ExpressionList</td><td>17</td>\n",
       "<tr><td>16</td><td><a href=\"__pv_it\\10d63b2bbcbf08bf157d9884da1fa24a8cb706b2\\expr.ipynb\" target=\"_blank\"><img src=\"__pv_it\\10d63b2bbcbf08bf157d9884da1fa24a8cb706b2\\0.png\" style=\"display:inline;vertical-align:middle;\" /></a></td><td>Etcetera</td><td>17</td>\n",
       "<tr><td>17</td><td><a href=\"__pv_it\\79162c91eceb773fb7121b638f40a2221ba43498\\expr.ipynb\" target=\"_blank\"><img src=\"__pv_it\\79162c91eceb773fb7121b638f40a2221ba43498\\0.png\" style=\"display:inline;vertical-align:middle;\" /></a></td><td>MultiVariable</td><td>18</td>\n",
       "<tr><td>18</td><td><a href=\"__pv_it\\4291b2810009b2bb446ff30cd664d04cb788dd66\\expr.ipynb\" target=\"_blank\"><img src=\"__pv_it\\4291b2810009b2bb446ff30cd664d04cb788dd66\\0.png\" style=\"display:inline;vertical-align:middle;\" /></a></td><td>Label</td><td></td>\n",
       "</table>\n"
      ],
      "text/plain": [
       "<proveit._core_.expression.expr_info.ExpressionInfo instance at 0x0000000004BE3788>"
      ]
     },
     "execution_count": 53,
     "metadata": {},
     "output_type": "execute_result"
    }
   ],
   "source": [
    "notOrIfNotAny.exprInfo()"
   ]
  },
  {
   "cell_type": "markdown",
   "metadata": {},
   "source": [
    "Note that the instance variable (the parameter of the `imap`) is a **MultiVariable**.  The occurrences of this **MultiVariable** in the `iexpr` and `conds` are within **Etcetera** sub-expressions.  Below, we *specialize* this to an instance with three operands."
   ]
  },
  {
   "cell_type": "code",
   "execution_count": 54,
   "metadata": {
    "collapsed": false
   },
   "outputs": [
    {
     "data": {
      "text/html": [
       "<span style=\"font-size:20px;\"><a href=\"__pv_it\\4a734247d22e2c0db4485f2a368904cb2413a6d1\\expr.ipynb\" target=\"_blank\"><img src=\"__pv_it\\4a734247d22e2c0db4485f2a368904cb2413a6d1\\0.png\" style=\"display:inline;vertical-align:middle;\" /></a> &#x22A2; <a href=\"__pv_it\\de3dd22df4ba2854e536e8e6b482b66e18e0c7f2\\expr.ipynb\" target=\"_blank\"><img src=\"__pv_it\\de3dd22df4ba2854e536e8e6b482b66e18e0c7f2\\0.png\" style=\"display:inline;vertical-align:middle;\" /></a></span>"
      ],
      "text/plain": [
       "{not(a),not(b),not(c)} |= not(a or b or c)"
      ]
     },
     "execution_count": 54,
     "metadata": {},
     "output_type": "execute_result"
    }
   ],
   "source": [
    "from proveit.common import Amulti, c\n",
    "from proveit.logic import Not\n",
    "notOrIfNotAnySpec = notOrIfNotAny.specialize({Amulti:[a, b, c]}, assumptions=[Not(a), Not(b), Not(c)])\n",
    "notOrIfNotAnySpec"
   ]
  },
  {
   "cell_type": "code",
   "execution_count": 55,
   "metadata": {
    "collapsed": false
   },
   "outputs": [
    {
     "data": {
      "text/html": [
       "<table><tr><th colspan=2>statement</th><th>assumptions</th><th>step type</th><th>requirements</th></tr>\n",
       "<tr><td>0</td><td><a href=\"__pv_it\\de3dd22df4ba2854e536e8e6b482b66e18e0c7f2\\expr.ipynb\" target=\"_blank\"><img src=\"__pv_it\\de3dd22df4ba2854e536e8e6b482b66e18e0c7f2\\0.png\" style=\"display:inline;vertical-align:middle;\" /></a></td><td style=\"text-align:center\"><span style=\"font-size:20px;\"><a href=\"__pv_it\\07de4337ba6a8c1254dbb6869dc8b579e2fa464e\\expr.ipynb\" target=\"_blank\"><img src=\"__pv_it\\07de4337ba6a8c1254dbb6869dc8b579e2fa464e\\0.png\" style=\"display:inline;vertical-align:middle;\" /></a>, <a href=\"__pv_it\\58033410724da2052f042ba406e14059f9d435c4\\expr.ipynb\" target=\"_blank\"><img src=\"__pv_it\\58033410724da2052f042ba406e14059f9d435c4\\0.png\" style=\"display:inline;vertical-align:middle;\" /></a>, <a href=\"__pv_it\\1120fe95487de67d14e75db425cf1f3be1a9814b\\expr.ipynb\" target=\"_blank\"><img src=\"__pv_it\\1120fe95487de67d14e75db425cf1f3be1a9814b\\0.png\" style=\"display:inline;vertical-align:middle;\" /></a></span></td><td>specialization</td><td>1, 5, 6, 8, 2, 3, 4</td></tr>\n",
       "<tr><td colspan=5 style=\"text-align:center\"><span style=\"font-size:20px;\"><a href=\"__pv_it\\b39b64006787929d9899bbd1014801a00b47be5f\\expr.ipynb\" target=\"_blank\"><img src=\"__pv_it\\b39b64006787929d9899bbd1014801a00b47be5f\\0.png\" style=\"display:inline;vertical-align:middle;\" /></a></span></td></tr><tr><td>1</td><td><a href=\"__pv_it\\c48a0f50c327a30c66b52b0ed0542e1ae375164c\\expr.ipynb\" target=\"_blank\"><img src=\"__pv_it\\c48a0f50c327a30c66b52b0ed0542e1ae375164c\\0.png\" style=\"display:inline;vertical-align:middle;\" /></a></td><td colspan=3>theorem: proveit.logic.boolean.disjunction.notOrIfNotAny</tr>\n",
       "<tr><td>2</td><td><a href=\"__pv_it\\f3f2b244b15104ba3a612c31fee05acb52284733\\expr.ipynb\" target=\"_blank\"><img src=\"__pv_it\\f3f2b244b15104ba3a612c31fee05acb52284733\\0.png\" style=\"display:inline;vertical-align:middle;\" /></a></td><td style=\"text-align:center\"><span style=\"font-size:20px;\"><a href=\"__pv_it\\07de4337ba6a8c1254dbb6869dc8b579e2fa464e\\expr.ipynb\" target=\"_blank\"><img src=\"__pv_it\\07de4337ba6a8c1254dbb6869dc8b579e2fa464e\\0.png\" style=\"display:inline;vertical-align:middle;\" /></a></span></td><td>specialization</td><td>7, 5</td></tr>\n",
       "<tr><td colspan=5 style=\"text-align:center\"><span style=\"font-size:20px;\"><a href=\"__pv_it\\f9e53a968331b347f8739c1cfb56b2c4fa9d0c35\\expr.ipynb\" target=\"_blank\"><img src=\"__pv_it\\f9e53a968331b347f8739c1cfb56b2c4fa9d0c35\\0.png\" style=\"display:inline;vertical-align:middle;\" /></a></span></td></tr><tr><td>3</td><td><a href=\"__pv_it\\a7410e0083e862bb89bda04b7412b78605a7a21b\\expr.ipynb\" target=\"_blank\"><img src=\"__pv_it\\a7410e0083e862bb89bda04b7412b78605a7a21b\\0.png\" style=\"display:inline;vertical-align:middle;\" /></a></td><td style=\"text-align:center\"><span style=\"font-size:20px;\"><a href=\"__pv_it\\58033410724da2052f042ba406e14059f9d435c4\\expr.ipynb\" target=\"_blank\"><img src=\"__pv_it\\58033410724da2052f042ba406e14059f9d435c4\\0.png\" style=\"display:inline;vertical-align:middle;\" /></a></span></td><td>specialization</td><td>7, 6</td></tr>\n",
       "<tr><td colspan=5 style=\"text-align:center\"><span style=\"font-size:20px;\"><a href=\"__pv_it\\b919b02829ae558feff5009a59d453b35bebcc47\\expr.ipynb\" target=\"_blank\"><img src=\"__pv_it\\b919b02829ae558feff5009a59d453b35bebcc47\\0.png\" style=\"display:inline;vertical-align:middle;\" /></a></span></td></tr><tr><td>4</td><td><a href=\"__pv_it\\b19128240241092afe77e43dd2e5f1fb74199192\\expr.ipynb\" target=\"_blank\"><img src=\"__pv_it\\b19128240241092afe77e43dd2e5f1fb74199192\\0.png\" style=\"display:inline;vertical-align:middle;\" /></a></td><td style=\"text-align:center\"><span style=\"font-size:20px;\"><a href=\"__pv_it\\1120fe95487de67d14e75db425cf1f3be1a9814b\\expr.ipynb\" target=\"_blank\"><img src=\"__pv_it\\1120fe95487de67d14e75db425cf1f3be1a9814b\\0.png\" style=\"display:inline;vertical-align:middle;\" /></a></span></td><td>specialization</td><td>7, 8</td></tr>\n",
       "<tr><td colspan=5 style=\"text-align:center\"><span style=\"font-size:20px;\"><a href=\"__pv_it\\6cb5a169f9f24f54e8b0f404040d74ff89396b97\\expr.ipynb\" target=\"_blank\"><img src=\"__pv_it\\6cb5a169f9f24f54e8b0f404040d74ff89396b97\\0.png\" style=\"display:inline;vertical-align:middle;\" /></a></span></td></tr><tr><td>5</td><td><a href=\"__pv_it\\07de4337ba6a8c1254dbb6869dc8b579e2fa464e\\expr.ipynb\" target=\"_blank\"><img src=\"__pv_it\\07de4337ba6a8c1254dbb6869dc8b579e2fa464e\\0.png\" style=\"display:inline;vertical-align:middle;\" /></a></td><td style=\"text-align:center\"><span style=\"font-size:20px;\"><a href=\"__pv_it\\07de4337ba6a8c1254dbb6869dc8b579e2fa464e\\expr.ipynb\" target=\"_blank\"><img src=\"__pv_it\\07de4337ba6a8c1254dbb6869dc8b579e2fa464e\\0.png\" style=\"display:inline;vertical-align:middle;\" /></a></span></td><td>assumption</td><td></td></tr>\n",
       "<tr><td>6</td><td><a href=\"__pv_it\\58033410724da2052f042ba406e14059f9d435c4\\expr.ipynb\" target=\"_blank\"><img src=\"__pv_it\\58033410724da2052f042ba406e14059f9d435c4\\0.png\" style=\"display:inline;vertical-align:middle;\" /></a></td><td style=\"text-align:center\"><span style=\"font-size:20px;\"><a href=\"__pv_it\\58033410724da2052f042ba406e14059f9d435c4\\expr.ipynb\" target=\"_blank\"><img src=\"__pv_it\\58033410724da2052f042ba406e14059f9d435c4\\0.png\" style=\"display:inline;vertical-align:middle;\" /></a></span></td><td>assumption</td><td></td></tr>\n",
       "<tr><td>7</td><td><a href=\"__pv_it\\df4ecc91eb5f455131419723f099ca13bd10e803\\expr.ipynb\" target=\"_blank\"><img src=\"__pv_it\\df4ecc91eb5f455131419723f099ca13bd10e803\\0.png\" style=\"display:inline;vertical-align:middle;\" /></a></td><td colspan=3>theorem: proveit.logic.boolean.inBoolIfFalse</tr>\n",
       "<tr><td>8</td><td><a href=\"__pv_it\\1120fe95487de67d14e75db425cf1f3be1a9814b\\expr.ipynb\" target=\"_blank\"><img src=\"__pv_it\\1120fe95487de67d14e75db425cf1f3be1a9814b\\0.png\" style=\"display:inline;vertical-align:middle;\" /></a></td><td style=\"text-align:center\"><span style=\"font-size:20px;\"><a href=\"__pv_it\\1120fe95487de67d14e75db425cf1f3be1a9814b\\expr.ipynb\" target=\"_blank\"><img src=\"__pv_it\\1120fe95487de67d14e75db425cf1f3be1a9814b\\0.png\" style=\"display:inline;vertical-align:middle;\" /></a></span></td><td>assumption</td><td></td></tr>\n"
      ],
      "text/plain": [
       "<proveit._core_.proof.Specialization instance at 0x0000000004BEE848>"
      ]
     },
     "execution_count": 55,
     "metadata": {},
     "output_type": "execute_result"
    }
   ],
   "source": [
    "notOrIfNotAnySpec.proof()"
   ]
  },
  {
   "cell_type": "markdown",
   "metadata": {},
   "source": [
    "Let us look at the expression information for this specialized instance to show that the **MultiVariable** has been substituted in a seemless manner.  Specifically, the `Or` operation has the $(a, b, c)$ **ExpressionList** operands."
   ]
  },
  {
   "cell_type": "code",
   "execution_count": 56,
   "metadata": {
    "collapsed": false
   },
   "outputs": [
    {
     "data": {
      "text/html": [
       "<table><tr><th colspan=2>expression</th><th>core type</th><th>sub-expressions</th></tr>\n",
       "<tr><td>0</td><td><a href=\"__pv_it\\de3dd22df4ba2854e536e8e6b482b66e18e0c7f2\\expr.ipynb\" target=\"_blank\"><img src=\"__pv_it\\de3dd22df4ba2854e536e8e6b482b66e18e0c7f2\\0.png\" style=\"display:inline;vertical-align:middle;\" /></a></td><td>Operation</td><td>operator: 1<br>operands: 2<br></td>\n",
       "<tr><td>1</td><td><a href=\"__pv_it\\bbcc542126d0bbd8f0b4be83cdd0f4dd03f19dbc\\expr.ipynb\" target=\"_blank\"><img src=\"__pv_it\\bbcc542126d0bbd8f0b4be83cdd0f4dd03f19dbc\\0.png\" style=\"display:inline;vertical-align:middle;\" /></a></td><td>Literal</td><td></td>\n",
       "<tr><td>2</td><td><a href=\"__pv_it\\997ea89d18c3bcf009f8734bf19a58ad34c4c355\\expr.ipynb\" target=\"_blank\"><img src=\"__pv_it\\997ea89d18c3bcf009f8734bf19a58ad34c4c355\\0.png\" style=\"display:inline;vertical-align:middle;\" /></a></td><td>ExpressionList</td><td>3</td>\n",
       "<tr><td>3</td><td><a href=\"__pv_it\\d07232219639041830e8daf25cf99b6bbb01916d\\expr.ipynb\" target=\"_blank\"><img src=\"__pv_it\\d07232219639041830e8daf25cf99b6bbb01916d\\0.png\" style=\"display:inline;vertical-align:middle;\" /></a></td><td>Operation</td><td>operator: 4<br>operands: 5<br></td>\n",
       "<tr><td>4</td><td><a href=\"__pv_it\\9e94fcdba42bc2d50255b8f1bfc023b2d65c8b05\\expr.ipynb\" target=\"_blank\"><img src=\"__pv_it\\9e94fcdba42bc2d50255b8f1bfc023b2d65c8b05\\0.png\" style=\"display:inline;vertical-align:middle;\" /></a></td><td>Literal</td><td></td>\n",
       "<tr><td>5</td><td><a href=\"__pv_it\\34071ffb81edacfa05a1a4e95a8b6ba0340c61ff\\expr.ipynb\" target=\"_blank\"><img src=\"__pv_it\\34071ffb81edacfa05a1a4e95a8b6ba0340c61ff\\0.png\" style=\"display:inline;vertical-align:middle;\" /></a></td><td>ExpressionList</td><td>6, 7, 8</td>\n",
       "<tr><td>6</td><td><a href=\"__pv_it\\563df418b2f4501a697ee1a058c2ee5ff8e48100\\expr.ipynb\" target=\"_blank\"><img src=\"__pv_it\\563df418b2f4501a697ee1a058c2ee5ff8e48100\\0.png\" style=\"display:inline;vertical-align:middle;\" /></a></td><td>Variable</td><td></td>\n",
       "<tr><td>7</td><td><a href=\"__pv_it\\c96df9db102bf2dcd5fad662469a963bfcb9d23c\\expr.ipynb\" target=\"_blank\"><img src=\"__pv_it\\c96df9db102bf2dcd5fad662469a963bfcb9d23c\\0.png\" style=\"display:inline;vertical-align:middle;\" /></a></td><td>Variable</td><td></td>\n",
       "<tr><td>8</td><td><a href=\"__pv_it\\90bb44d26a8074e6e701f808bd18ac9cebf7781c\\expr.ipynb\" target=\"_blank\"><img src=\"__pv_it\\90bb44d26a8074e6e701f808bd18ac9cebf7781c\\0.png\" style=\"display:inline;vertical-align:middle;\" /></a></td><td>Variable</td><td></td>\n",
       "</table>\n"
      ],
      "text/plain": [
       "<proveit._core_.expression.expr_info.ExpressionInfo instance at 0x000000000603E248>"
      ]
     },
     "execution_count": 56,
     "metadata": {},
     "output_type": "execute_result"
    }
   ],
   "source": [
    "notOrIfNotAnySpec.exprInfo()"
   ]
  },
  {
   "cell_type": "markdown",
   "metadata": {},
   "source": [
    "It is possible to *specialize* the **MultiVariable** with zero expressions."
   ]
  },
  {
   "cell_type": "code",
   "execution_count": 57,
   "metadata": {
    "collapsed": false
   },
   "outputs": [
    {
     "data": {
      "text/html": [
       "<span style=\"font-size:20px;\"> &#x22A2; <a href=\"__pv_it\\5b9b929e874d41170f6c14677180f10e6828e13a\\expr.ipynb\" target=\"_blank\"><img src=\"__pv_it\\5b9b929e874d41170f6c14677180f10e6828e13a\\0.png\" style=\"display:inline;vertical-align:middle;\" /></a></span>"
      ],
      "text/plain": [
       "|= not(\\left[or\n",
       "ight]())"
      ]
     },
     "execution_count": 57,
     "metadata": {},
     "output_type": "execute_result"
    }
   ],
   "source": [
    "notOrIfNotAny.specialize({Amulti:[]})"
   ]
  },
  {
   "cell_type": "markdown",
   "metadata": {},
   "source": [
    "We must format this using the $[\\lor]$ operator.  This statement is valid and self-consistent because we define $[\\lor]$ acting on zero operands to be `FALSE`:"
   ]
  },
  {
   "cell_type": "code",
   "execution_count": 58,
   "metadata": {
    "collapsed": false
   },
   "outputs": [
    {
     "data": {
      "text/html": [
       "<span style=\"font-size:20px;\"> &#x22A2; <a href=\"__pv_it\\03d0f5dc14ab495756ae6b6094623e253d6cb579\\expr.ipynb\" target=\"_blank\"><img src=\"__pv_it\\03d0f5dc14ab495756ae6b6094623e253d6cb579\\0.png\" style=\"display:inline;vertical-align:middle;\" /></a></span>"
      ],
      "text/plain": [
       "|= \\left[or\n",
       "ight]() = FALSE"
      ]
     },
     "execution_count": 58,
     "metadata": {},
     "output_type": "execute_result"
    }
   ],
   "source": [
    "from proveit.logic.boolean.disjunction._axioms_ import emptyDisjunction\n",
    "emptyDisjunction"
   ]
  },
  {
   "cell_type": "markdown",
   "metadata": {},
   "source": [
    "It is also possible to include a **MultiVariable** in the *specialization*:"
   ]
  },
  {
   "cell_type": "code",
   "execution_count": 59,
   "metadata": {
    "collapsed": false,
    "scrolled": true
   },
   "outputs": [
    {
     "data": {
      "text/html": [
       "<span style=\"font-size:20px;\"><a href=\"__pv_it\\90f5225cf218858d40c7a73739d8bdc1c4f94a28\\expr.ipynb\" target=\"_blank\"><img src=\"__pv_it\\90f5225cf218858d40c7a73739d8bdc1c4f94a28\\0.png\" style=\"display:inline;vertical-align:middle;\" /></a> &#x22A2; <a href=\"__pv_it\\6fc043b15f522b95f9a491ad8ed8b906ba3ee362\\expr.ipynb\" target=\"_blank\"><img src=\"__pv_it\\6fc043b15f522b95f9a491ad8ed8b906ba3ee362\\0.png\" style=\"display:inline;vertical-align:middle;\" /></a></span>"
      ],
      "text/plain": [
       "{not(a), ..,not(B_{*}),...,(B_{*} in BOOLEANS),.. } |= not(a or  .. or B_{*} or .. )"
      ]
     },
     "execution_count": 59,
     "metadata": {},
     "output_type": "execute_result"
    }
   ],
   "source": [
    "from proveit import Etcetera\n",
    "from proveit.logic import inBool\n",
    "from proveit.common import Bmulti\n",
    "assumptions = [Not(a), Etcetera(Not(Bmulti)), inBool(a), Etcetera(inBool(Bmulti))]\n",
    "notOrIfNotAnySpec2 = notOrIfNotAny.specialize({Amulti:(a, Bmulti)}, assumptions=assumptions)\n",
    "notOrIfNotAnySpec2"
   ]
  },
  {
   "cell_type": "markdown",
   "metadata": {},
   "source": [
    "Generalization\n",
    "========\n",
    "\n",
    "*Generalization* is the \"inverse\" of *specialization* just as *hypothetical reasoning* was the \"inverse\" of *modus ponens*.  We can write these derivation rules in a manner that makes this relationship clear (just as we did for *hypothetical reasoning* and *modus ponens*):\n",
    "\n",
    "Specialization: \n",
    "$\\begin{array}{c}\n",
    "\\boldsymbol{\\vdash} \\forall_{x \\in S~|~Q(x)} P(x) \\\\\n",
    "\\hline\n",
    "\\left \\{\\clubsuit(x) \\in S,~Q(\\clubsuit(x)) \\right \\} \\boldsymbol{\\vdash} P(\\clubsuit(x))\n",
    "\\end{array}$\n",
    "\n",
    "Generalization: \n",
    "$\\begin{array}{c}\n",
    "\\left \\{ x \\in S,~Q(x) \\right \\} \\boldsymbol{\\vdash} P(x) \\\\\n",
    "\\hline\n",
    "\\boldsymbol{\\vdash} \\forall_{x \\in S~|~Q(x)} P(x)\n",
    "\\end{array}$\n",
    "\n",
    "\n",
    "There is some asymmetry.  $\\clubsuit(x)$ here is meant to represent any **Expression** involving $x$.  That is, $x$ may be *specialized* to any **Expression**, as long as the condition and domain requirements are satisfied for that expression.  However, *generalization* only applies to an unbound **Variable**.  In Prove-It, an unbound **Variable** is regarded as an \"arbitrary\" variable.  Essentially, it is implicitly universally quantified.  Recall that *modus ponens* converts an explicit antecedent to an implicit assumption and *hypothetical reasoning* does the opposite.  Similarly, *specialization* converts an explicit universal quantification to implicit arbitrary variables and *generalization* does the opposite.  The reason for having the explicit and implicit forms is much the same as it was for the antecedent versus assumption.  The explicit form allows nesting but the implicit form provides direct access to the instance expression.  Furthermore, explicit universal quantification offers the power of being able to *specialize* an instance variable to an arbitrary **Expression**.\n",
    "\n",
    "The above derivation rules are expressed for a single **Variable**.  Such rules apply more generally to any number of **Variable** and/or **MultiVariable** instance variables.\n",
    "\n",
    "Our following examples will start from one of the derived *specialization* instances above.  Specifically:"
   ]
  },
  {
   "cell_type": "code",
   "execution_count": 60,
   "metadata": {
    "collapsed": false
   },
   "outputs": [
    {
     "data": {
      "text/html": [
       "<span style=\"font-size:20px;\"><a href=\"__pv_it\\4a734247d22e2c0db4485f2a368904cb2413a6d1\\expr.ipynb\" target=\"_blank\"><img src=\"__pv_it\\4a734247d22e2c0db4485f2a368904cb2413a6d1\\0.png\" style=\"display:inline;vertical-align:middle;\" /></a> &#x22A2; <a href=\"__pv_it\\de3dd22df4ba2854e536e8e6b482b66e18e0c7f2\\expr.ipynb\" target=\"_blank\"><img src=\"__pv_it\\de3dd22df4ba2854e536e8e6b482b66e18e0c7f2\\0.png\" style=\"display:inline;vertical-align:middle;\" /></a></span>"
      ],
      "text/plain": [
       "{not(a),not(b),not(c)} |= not(a or b or c)"
      ]
     },
     "execution_count": 60,
     "metadata": {},
     "output_type": "execute_result"
    }
   ],
   "source": [
    "notOrIfNotAnySpec"
   ]
  },
  {
   "cell_type": "markdown",
   "metadata": {},
   "source": [
    "First, we try to *generalize* this **KnownTruth** for all instances of $a$, $b$, and $c$ without any conditions or domain restrictions:"
   ]
  },
  {
   "cell_type": "code",
   "execution_count": 61,
   "metadata": {
    "collapsed": false
   },
   "outputs": [
    {
     "name": "stdout",
     "output_type": "stream",
     "text": [
      "EXPECTED ERROR: Unable to prove forall_{a, b, c} not(a or b or c) assuming {not(c), not(b), not(a)}: Cannot generalize using assumptions that involve any of the new forall variables (except as assumptions are eliminated via conditions or domains)\n"
     ]
    }
   ],
   "source": [
    "from proveit import GeneralizationFailure\n",
    "try:\n",
    "    notOrIfNotAnySpec.generalize((a, b, c))\n",
    "except GeneralizationFailure as e:\n",
    "    print 'EXPECTED ERROR:', e"
   ]
  },
  {
   "cell_type": "markdown",
   "metadata": {},
   "source": [
    "This fails because the assumptions of the original **KnownTruth** involve the same **Variable**s that we are trying to *generalize* over.  That is not allowed because universal quantification introduces a new scope for the instance variables and the assumptions can no longer apply to these variables in the new scope.  If, however, these assumptions are introduced as conditions of the new universal quantification, then we no longer need to retain them as assumptions.  Those assumptions will be absorbed into the universal quantification conditions."
   ]
  },
  {
   "cell_type": "code",
   "execution_count": 62,
   "metadata": {
    "collapsed": false
   },
   "outputs": [
    {
     "data": {
      "text/html": [
       "<span style=\"font-size:20px;\"> &#x22A2; <a href=\"__pv_it\\b3e152fde50b4f58ebb0fbddae6ddc989e3eef77\\expr.ipynb\" target=\"_blank\"><img src=\"__pv_it\\b3e152fde50b4f58ebb0fbddae6ddc989e3eef77\\0.png\" style=\"display:inline;vertical-align:middle;\" /></a></span>"
      ],
      "text/plain": [
       "|= forall_{a, b, c | not(a),not(b),not(c)} not(a or b or c)"
      ]
     },
     "execution_count": 62,
     "metadata": {},
     "output_type": "execute_result"
    }
   ],
   "source": [
    "notOrIfNotAnySpec.generalize((a, b, c), conditions=[Not(a), Not(b), Not(c)])"
   ]
  },
  {
   "cell_type": "markdown",
   "metadata": {},
   "source": [
    "Adding additional restrictions, such as a domain and/or extra conditions, only makes the statement weaker and is therefore allowed:"
   ]
  },
  {
   "cell_type": "code",
   "execution_count": 63,
   "metadata": {
    "collapsed": false
   },
   "outputs": [
    {
     "data": {
      "text/html": [
       "<span style=\"font-size:20px;\"> &#x22A2; <a href=\"__pv_it\\7384ad660b5f19ae7b1d4fa21a784c69afd59cd0\\expr.ipynb\" target=\"_blank\"><img src=\"__pv_it\\7384ad660b5f19ae7b1d4fa21a784c69afd59cd0\\0.png\" style=\"display:inline;vertical-align:middle;\" /></a></span>"
      ],
      "text/plain": [
       "|= forall_{a, b, c in S | not(a),not(b),not(c)} not(a or b or c)"
      ]
     },
     "execution_count": 63,
     "metadata": {},
     "output_type": "execute_result"
    }
   ],
   "source": [
    "notOrIfNotAnySpec.generalize((a, b, c), conditions=[Not(a), Not(b), Not(c)], domain=S)"
   ]
  },
  {
   "cell_type": "code",
   "execution_count": 64,
   "metadata": {
    "collapsed": false,
    "scrolled": true
   },
   "outputs": [
    {
     "data": {
      "text/html": [
       "<span style=\"font-size:20px;\"> &#x22A2; <a href=\"__pv_it\\cecd77cdd9514f8c132a86d770a4876fa8252215\\expr.ipynb\" target=\"_blank\"><img src=\"__pv_it\\cecd77cdd9514f8c132a86d770a4876fa8252215\\0.png\" style=\"display:inline;vertical-align:middle;\" /></a></span>"
      ],
      "text/plain": [
       "|= forall_{a, b, c in S | not(a),not(b),not(c),Q(x)} not(a or b or c)"
      ]
     },
     "execution_count": 64,
     "metadata": {},
     "output_type": "execute_result"
    }
   ],
   "source": [
    "notOrIfNotAnySpec.generalize((a, b, c), conditions=[Not(a), Not(b), Not(c), Qx], domain=S)"
   ]
  },
  {
   "cell_type": "markdown",
   "metadata": {},
   "source": [
    "It is also possible to create multiple levels of nested `Forall` operations in one step with possibly different domains.  Simply provide a list of lists of **Variable**s as the first argument to `generalize` and a corresponding list of `domains`.  The conditions are applied at the outermost level possible (as soon as all of the relevant variables have been introduced) while retaining the order that the `conditions` were supplied."
   ]
  },
  {
   "cell_type": "code",
   "execution_count": 65,
   "metadata": {
    "collapsed": false,
    "scrolled": false
   },
   "outputs": [
    {
     "data": {
      "text/html": [
       "<span style=\"font-size:20px;\"> &#x22A2; <a href=\"__pv_it\\595add69be43282bafb627d85406aa1f0c464272\\expr.ipynb\" target=\"_blank\"><img src=\"__pv_it\\595add69be43282bafb627d85406aa1f0c464272\\0.png\" style=\"display:inline;vertical-align:middle;\" /></a></span>"
      ],
      "text/plain": [
       "|= forall_{a in P | not(a)} [forall_{b in R | not(b)} [forall_{c in S | not(c)} not(a or b or c)]]"
      ]
     },
     "execution_count": 65,
     "metadata": {},
     "output_type": "execute_result"
    }
   ],
   "source": [
    "notOrIfNotAnyNested = notOrIfNotAnySpec.generalize([[a], [b], [c]], domains=(P, R, S), conditions=[Not(a), Not(b), Not(c)])\n",
    "notOrIfNotAnyNested"
   ]
  },
  {
   "cell_type": "markdown",
   "metadata": {},
   "source": [
    "The generalization with multiple leves of nested `Forall` operations takes one step in the proof:"
   ]
  },
  {
   "cell_type": "code",
   "execution_count": 66,
   "metadata": {
    "collapsed": false,
    "scrolled": true
   },
   "outputs": [
    {
     "data": {
      "text/html": [
       "<table><tr><th colspan=2>statement</th><th>assumptions</th><th>step type</th><th>requirements</th></tr>\n",
       "<tr><td>0</td><td><a href=\"__pv_it\\595add69be43282bafb627d85406aa1f0c464272\\expr.ipynb\" target=\"_blank\"><img src=\"__pv_it\\595add69be43282bafb627d85406aa1f0c464272\\0.png\" style=\"display:inline;vertical-align:middle;\" /></a></td><td style=\"text-align:center\"><span style=\"font-size:20px;\"></span></td><td>generalizaton</td><td>1</td></tr>\n",
       "<tr><td>1</td><td><a href=\"__pv_it\\de3dd22df4ba2854e536e8e6b482b66e18e0c7f2\\expr.ipynb\" target=\"_blank\"><img src=\"__pv_it\\de3dd22df4ba2854e536e8e6b482b66e18e0c7f2\\0.png\" style=\"display:inline;vertical-align:middle;\" /></a></td><td style=\"text-align:center\"><span style=\"font-size:20px;\"><a href=\"__pv_it\\07de4337ba6a8c1254dbb6869dc8b579e2fa464e\\expr.ipynb\" target=\"_blank\"><img src=\"__pv_it\\07de4337ba6a8c1254dbb6869dc8b579e2fa464e\\0.png\" style=\"display:inline;vertical-align:middle;\" /></a>, <a href=\"__pv_it\\58033410724da2052f042ba406e14059f9d435c4\\expr.ipynb\" target=\"_blank\"><img src=\"__pv_it\\58033410724da2052f042ba406e14059f9d435c4\\0.png\" style=\"display:inline;vertical-align:middle;\" /></a>, <a href=\"__pv_it\\1120fe95487de67d14e75db425cf1f3be1a9814b\\expr.ipynb\" target=\"_blank\"><img src=\"__pv_it\\1120fe95487de67d14e75db425cf1f3be1a9814b\\0.png\" style=\"display:inline;vertical-align:middle;\" /></a></span></td><td>specialization</td><td>2, 6, 7, 9, 3, 4, 5</td></tr>\n",
       "<tr><td colspan=5 style=\"text-align:center\"><span style=\"font-size:20px;\"><a href=\"__pv_it\\b39b64006787929d9899bbd1014801a00b47be5f\\expr.ipynb\" target=\"_blank\"><img src=\"__pv_it\\b39b64006787929d9899bbd1014801a00b47be5f\\0.png\" style=\"display:inline;vertical-align:middle;\" /></a></span></td></tr><tr><td>2</td><td><a href=\"__pv_it\\c48a0f50c327a30c66b52b0ed0542e1ae375164c\\expr.ipynb\" target=\"_blank\"><img src=\"__pv_it\\c48a0f50c327a30c66b52b0ed0542e1ae375164c\\0.png\" style=\"display:inline;vertical-align:middle;\" /></a></td><td colspan=3>theorem: proveit.logic.boolean.disjunction.notOrIfNotAny</tr>\n",
       "<tr><td>3</td><td><a href=\"__pv_it\\f3f2b244b15104ba3a612c31fee05acb52284733\\expr.ipynb\" target=\"_blank\"><img src=\"__pv_it\\f3f2b244b15104ba3a612c31fee05acb52284733\\0.png\" style=\"display:inline;vertical-align:middle;\" /></a></td><td style=\"text-align:center\"><span style=\"font-size:20px;\"><a href=\"__pv_it\\07de4337ba6a8c1254dbb6869dc8b579e2fa464e\\expr.ipynb\" target=\"_blank\"><img src=\"__pv_it\\07de4337ba6a8c1254dbb6869dc8b579e2fa464e\\0.png\" style=\"display:inline;vertical-align:middle;\" /></a></span></td><td>specialization</td><td>8, 6</td></tr>\n",
       "<tr><td colspan=5 style=\"text-align:center\"><span style=\"font-size:20px;\"><a href=\"__pv_it\\f9e53a968331b347f8739c1cfb56b2c4fa9d0c35\\expr.ipynb\" target=\"_blank\"><img src=\"__pv_it\\f9e53a968331b347f8739c1cfb56b2c4fa9d0c35\\0.png\" style=\"display:inline;vertical-align:middle;\" /></a></span></td></tr><tr><td>4</td><td><a href=\"__pv_it\\a7410e0083e862bb89bda04b7412b78605a7a21b\\expr.ipynb\" target=\"_blank\"><img src=\"__pv_it\\a7410e0083e862bb89bda04b7412b78605a7a21b\\0.png\" style=\"display:inline;vertical-align:middle;\" /></a></td><td style=\"text-align:center\"><span style=\"font-size:20px;\"><a href=\"__pv_it\\58033410724da2052f042ba406e14059f9d435c4\\expr.ipynb\" target=\"_blank\"><img src=\"__pv_it\\58033410724da2052f042ba406e14059f9d435c4\\0.png\" style=\"display:inline;vertical-align:middle;\" /></a></span></td><td>specialization</td><td>8, 7</td></tr>\n",
       "<tr><td colspan=5 style=\"text-align:center\"><span style=\"font-size:20px;\"><a href=\"__pv_it\\b919b02829ae558feff5009a59d453b35bebcc47\\expr.ipynb\" target=\"_blank\"><img src=\"__pv_it\\b919b02829ae558feff5009a59d453b35bebcc47\\0.png\" style=\"display:inline;vertical-align:middle;\" /></a></span></td></tr><tr><td>5</td><td><a href=\"__pv_it\\b19128240241092afe77e43dd2e5f1fb74199192\\expr.ipynb\" target=\"_blank\"><img src=\"__pv_it\\b19128240241092afe77e43dd2e5f1fb74199192\\0.png\" style=\"display:inline;vertical-align:middle;\" /></a></td><td style=\"text-align:center\"><span style=\"font-size:20px;\"><a href=\"__pv_it\\1120fe95487de67d14e75db425cf1f3be1a9814b\\expr.ipynb\" target=\"_blank\"><img src=\"__pv_it\\1120fe95487de67d14e75db425cf1f3be1a9814b\\0.png\" style=\"display:inline;vertical-align:middle;\" /></a></span></td><td>specialization</td><td>8, 9</td></tr>\n",
       "<tr><td colspan=5 style=\"text-align:center\"><span style=\"font-size:20px;\"><a href=\"__pv_it\\6cb5a169f9f24f54e8b0f404040d74ff89396b97\\expr.ipynb\" target=\"_blank\"><img src=\"__pv_it\\6cb5a169f9f24f54e8b0f404040d74ff89396b97\\0.png\" style=\"display:inline;vertical-align:middle;\" /></a></span></td></tr><tr><td>6</td><td><a href=\"__pv_it\\07de4337ba6a8c1254dbb6869dc8b579e2fa464e\\expr.ipynb\" target=\"_blank\"><img src=\"__pv_it\\07de4337ba6a8c1254dbb6869dc8b579e2fa464e\\0.png\" style=\"display:inline;vertical-align:middle;\" /></a></td><td style=\"text-align:center\"><span style=\"font-size:20px;\"><a href=\"__pv_it\\07de4337ba6a8c1254dbb6869dc8b579e2fa464e\\expr.ipynb\" target=\"_blank\"><img src=\"__pv_it\\07de4337ba6a8c1254dbb6869dc8b579e2fa464e\\0.png\" style=\"display:inline;vertical-align:middle;\" /></a></span></td><td>assumption</td><td></td></tr>\n",
       "<tr><td>7</td><td><a href=\"__pv_it\\58033410724da2052f042ba406e14059f9d435c4\\expr.ipynb\" target=\"_blank\"><img src=\"__pv_it\\58033410724da2052f042ba406e14059f9d435c4\\0.png\" style=\"display:inline;vertical-align:middle;\" /></a></td><td style=\"text-align:center\"><span style=\"font-size:20px;\"><a href=\"__pv_it\\58033410724da2052f042ba406e14059f9d435c4\\expr.ipynb\" target=\"_blank\"><img src=\"__pv_it\\58033410724da2052f042ba406e14059f9d435c4\\0.png\" style=\"display:inline;vertical-align:middle;\" /></a></span></td><td>assumption</td><td></td></tr>\n",
       "<tr><td>8</td><td><a href=\"__pv_it\\df4ecc91eb5f455131419723f099ca13bd10e803\\expr.ipynb\" target=\"_blank\"><img src=\"__pv_it\\df4ecc91eb5f455131419723f099ca13bd10e803\\0.png\" style=\"display:inline;vertical-align:middle;\" /></a></td><td colspan=3>theorem: proveit.logic.boolean.inBoolIfFalse</tr>\n",
       "<tr><td>9</td><td><a href=\"__pv_it\\1120fe95487de67d14e75db425cf1f3be1a9814b\\expr.ipynb\" target=\"_blank\"><img src=\"__pv_it\\1120fe95487de67d14e75db425cf1f3be1a9814b\\0.png\" style=\"display:inline;vertical-align:middle;\" /></a></td><td style=\"text-align:center\"><span style=\"font-size:20px;\"><a href=\"__pv_it\\1120fe95487de67d14e75db425cf1f3be1a9814b\\expr.ipynb\" target=\"_blank\"><img src=\"__pv_it\\1120fe95487de67d14e75db425cf1f3be1a9814b\\0.png\" style=\"display:inline;vertical-align:middle;\" /></a></span></td><td>assumption</td><td></td></tr>\n"
      ],
      "text/plain": [
       "<proveit._core_.proof.Generalization instance at 0x000000000604BAC8>"
      ]
     },
     "execution_count": 66,
     "metadata": {},
     "output_type": "execute_result"
    }
   ],
   "source": [
    "notOrIfNotAnyNested.proof()"
   ]
  },
  {
   "cell_type": "markdown",
   "metadata": {},
   "source": [
    "This next example changes the order of the conditions which affects when they are introduced."
   ]
  },
  {
   "cell_type": "code",
   "execution_count": 67,
   "metadata": {
    "collapsed": false,
    "scrolled": true
   },
   "outputs": [
    {
     "data": {
      "text/html": [
       "<span style=\"font-size:20px;\"> &#x22A2; <a href=\"__pv_it\\d339c1550e209d17cd187f390dc6a283eac2b5fb\\expr.ipynb\" target=\"_blank\"><img src=\"__pv_it\\d339c1550e209d17cd187f390dc6a283eac2b5fb\\0.png\" style=\"display:inline;vertical-align:middle;\" /></a></span>"
      ],
      "text/plain": [
       "|= forall_{a in P | not(a)} [forall_{b in R} [forall_{c in S | not(c),not(b)} not(a or b or c)]]"
      ]
     },
     "execution_count": 67,
     "metadata": {},
     "output_type": "execute_result"
    }
   ],
   "source": [
    "notOrIfNotAnySpec.generalize([[a], [b], [c]], domains=(P, R, S), conditions=[Not(a), Not(c), Not(b)])"
   ]
  },
  {
   "cell_type": "markdown",
   "metadata": {},
   "source": [
    "The number of provided `domains` must match the number of nested levels of `Forall` to be introduced."
   ]
  },
  {
   "cell_type": "code",
   "execution_count": 68,
   "metadata": {
    "collapsed": false
   },
   "outputs": [
    {
     "name": "stdout",
     "output_type": "stream",
     "text": [
      "EXPECTED ERROR: The number of forall variable lists and new domains does not match: 3 vs 2\n"
     ]
    }
   ],
   "source": [
    "try:\n",
    "    notOrIfNotAnySpec.generalize([[a], [b], [c]], domains=(P, R), conditions=[Not(a), Not(b), Not(c)])\n",
    "except ValueError as e:\n",
    "    print 'EXPECTED ERROR:', e"
   ]
  },
  {
   "cell_type": "markdown",
   "metadata": {},
   "source": [
    "When *generalizing* over a single **Variable**, the first argument may be just that **Variable** rather than a list or tuple:"
   ]
  },
  {
   "cell_type": "code",
   "execution_count": 69,
   "metadata": {
    "collapsed": false
   },
   "outputs": [
    {
     "data": {
      "text/html": [
       "<span style=\"font-size:20px;\"><a href=\"__pv_it\\08d27145455e5624dba4b00fc02001d19341ac84\\expr.ipynb\" target=\"_blank\"><img src=\"__pv_it\\08d27145455e5624dba4b00fc02001d19341ac84\\0.png\" style=\"display:inline;vertical-align:middle;\" /></a> &#x22A2; <a href=\"__pv_it\\f13071eeb39d56a2a0b3e955169a1048305e36a9\\expr.ipynb\" target=\"_blank\"><img src=\"__pv_it\\f13071eeb39d56a2a0b3e955169a1048305e36a9\\0.png\" style=\"display:inline;vertical-align:middle;\" /></a></span>"
      ],
      "text/plain": [
       "{not(c),not(b)} |= forall_{a | not(a)} not(a or b or c)"
      ]
     },
     "execution_count": 69,
     "metadata": {},
     "output_type": "execute_result"
    }
   ],
   "source": [
    "notOrIfNotAnySpec.generalize(a, conditions=[Not(a)])"
   ]
  },
  {
   "cell_type": "markdown",
   "metadata": {},
   "source": [
    "We may only *generalize* over **Variable**s and/or **MultiVariable**s, however:"
   ]
  },
  {
   "cell_type": "code",
   "execution_count": 70,
   "metadata": {
    "collapsed": false,
    "scrolled": true
   },
   "outputs": [
    {
     "name": "stdout",
     "output_type": "stream",
     "text": [
      "EXPECTED ERROR: Must supply generalize with a Variable or list of Variables\n"
     ]
    }
   ],
   "source": [
    "try:\n",
    "    notOrIfNotAnySpec.generalize(Qx, conditions=[Not(a)])\n",
    "except ValueError as e:\n",
    "    print 'EXPECTED ERROR:', e"
   ]
  },
  {
   "cell_type": "code",
   "execution_count": 71,
   "metadata": {
    "collapsed": false,
    "scrolled": true
   },
   "outputs": [
    {
     "name": "stdout",
     "output_type": "stream",
     "text": [
      "EXPECTED ERROR: Forall variables of a generalization must be Variable objects\n"
     ]
    }
   ],
   "source": [
    "try:\n",
    "    notOrIfNotAnySpec.generalize([a, Qx], conditions=[Not(a)])\n",
    "except ValueError as e:\n",
    "    print 'EXPECTED ERROR:', e"
   ]
  },
  {
   "cell_type": "markdown",
   "metadata": {},
   "source": [
    "Let us also demonstrate *generalization* over a **MultiVariable**.  For this example, we will use the previous *specialization* instance that generated a **MultiVariable** as an implicit arbitrary multi-variable that we well next convert back to an explicit universal quantification."
   ]
  },
  {
   "cell_type": "code",
   "execution_count": 74,
   "metadata": {
    "collapsed": false
   },
   "outputs": [
    {
     "data": {
      "text/html": [
       "<span style=\"font-size:20px;\"><a href=\"__pv_it\\90f5225cf218858d40c7a73739d8bdc1c4f94a28\\expr.ipynb\" target=\"_blank\"><img src=\"__pv_it\\90f5225cf218858d40c7a73739d8bdc1c4f94a28\\0.png\" style=\"display:inline;vertical-align:middle;\" /></a> &#x22A2; <a href=\"__pv_it\\6fc043b15f522b95f9a491ad8ed8b906ba3ee362\\expr.ipynb\" target=\"_blank\"><img src=\"__pv_it\\6fc043b15f522b95f9a491ad8ed8b906ba3ee362\\0.png\" style=\"display:inline;vertical-align:middle;\" /></a></span>"
      ],
      "text/plain": [
       "{not(a), ..,not(B_{*}),...,(B_{*} in BOOLEANS),.. } |= not(a or  .. or B_{*} or .. )"
      ]
     },
     "execution_count": 74,
     "metadata": {},
     "output_type": "execute_result"
    }
   ],
   "source": [
    "notOrIfNotAnySpec2"
   ]
  },
  {
   "cell_type": "code",
   "execution_count": 72,
   "metadata": {
    "collapsed": false
   },
   "outputs": [
    {
     "data": {
      "image/png": "[encoded data removed]",
      "text/plain": [
       "{not(a), ..,not(B_{*}),...,(B_{*} in BOOLEANS),.. } |= not(a or  .. or B_{*} or .. )"
      ]
     },
     "execution_count": 72,
     "metadata": {},
     "output_type": "execute_result"
    }
   ],
   "source": [
    "notOrIfNotAnySpec2 # HOW DID THE ETCETERA IN LIST FORMATTING GET BROKEN?"
   ]
  },
  {
   "cell_type": "code",
   "execution_count": 73,
   "metadata": {
    "collapsed": false
   },
   "outputs": [
    {
     "data": {
      "image/png": "[encoded data removed]",
      "text/plain": [
       "|= forall_{a, B_{*} in BOOLEANS | not(a), ..,not(B_{*}),.. } not(a or  .. or B_{*} or .. )"
      ]
     },
     "execution_count": 73,
     "metadata": {},
     "output_type": "execute_result"
    }
   ],
   "source": [
    "from proveit.logic import Booleans\n",
    "notOrIfNotAnySpec2.generalize((a, Bmulti), conditions=[Not(a), Etcetera(Not(Bmulti))], domain=Booleans)"
   ]
  },
  {
   "cell_type": "markdown",
   "metadata": {},
   "source": [
    "This could have been proven in one step from `notOrIfNotAny` using *relabeling*, but this demonstrates going back and forth from an explicit universal quantification to an implicit arbitrary multi-variable and back in a self-consistent manner. "
   ]
  },
  {
   "cell_type": "markdown",
   "metadata": {
    "collapsed": true
   },
   "source": [
    "# Next chapter: <a href=\"tutorial06_theorem_proving.ipynb\">Theorem Proving</a>\n",
    "\n",
    "## <a href=\"tutorial00_introduction.ipynb#contents\">Table of Contents</a>"
   ]
  },
  {
   "cell_type": "code",
   "execution_count": 1,
   "metadata": {
    "collapsed": false
   },
   "outputs": [],
   "source": [
    "from proveit.number import Fraction\n",
    "from proveit.common import x, y, A\n",
    "from proveit.logic import Implies"
   ]
  },
  {
   "cell_type": "code",
   "execution_count": 2,
   "metadata": {
    "collapsed": false
   },
   "outputs": [
    {
     "data": {
      "text/html": [
       "<span style=\"font-size:20px;\"><a href=\"__pv_it\\2189fa5f232aff073972d8701faa9d21bbe8e5a6\\expr.ipynb\" target=\"_blank\"><img src=\"__pv_it\\2189fa5f232aff073972d8701faa9d21bbe8e5a6\\0.png\" style=\"display:inline;vertical-align:middle;\" /></a> &#x22A2; <a href=\"__pv_it\\620872c2448f1609c5ed3a76dbfb24db25139768\\expr.ipynb\" target=\"_blank\"><img src=\"__pv_it\\620872c2448f1609c5ed3a76dbfb24db25139768\\0.png\" style=\"display:inline;vertical-align:middle;\" /></a></span>"
      ],
      "text/plain": [
       "{(A => (x // y)),A} |= x // y"
      ]
     },
     "execution_count": 2,
     "metadata": {},
     "output_type": "execute_result"
    }
   ],
   "source": [
    "Fraction(x, y).prove([A, Implies(A, Fraction(x, y))])"
   ]
  },
  {
   "cell_type": "code",
   "execution_count": 3,
   "metadata": {
    "collapsed": false,
    "scrolled": true
   },
   "outputs": [
    {
     "data": {
      "text/html": [
       "<table><tr><th colspan=2>expression</th><th>core type</th><th>sub-expressions</th></tr>\n",
       "<tr><td>0</td><td><a href=\"__pv_it\\620872c2448f1609c5ed3a76dbfb24db25139768\\expr.ipynb\" target=\"_blank\"><img src=\"__pv_it\\620872c2448f1609c5ed3a76dbfb24db25139768\\0.png\" style=\"display:inline;vertical-align:middle;\" /></a></td><td>Operation</td><td>operator: 1<br>operands: 2<br></td>\n",
       "<tr><td>1</td><td><a href=\"__pv_it\\f803c4ddb31964a3bf63dc5f3f9c699d4402d605\\expr.ipynb\" target=\"_blank\"><img src=\"__pv_it\\f803c4ddb31964a3bf63dc5f3f9c699d4402d605\\0.png\" style=\"display:inline;vertical-align:middle;\" /></a></td><td>Literal</td><td></td>\n",
       "<tr><td>2</td><td><a href=\"__pv_it\\1461d6641e25f32e00aaeed486e4ccd0958acdea\\expr.ipynb\" target=\"_blank\"><img src=\"__pv_it\\1461d6641e25f32e00aaeed486e4ccd0958acdea\\0.png\" style=\"display:inline;vertical-align:middle;\" /></a></td><td>ExpressionList</td><td>3, 4</td>\n",
       "<tr><td>3</td><td><a href=\"__pv_it\\7de344579b991697b85106fc0bd595cb5ed4c24f\\expr.ipynb\" target=\"_blank\"><img src=\"__pv_it\\7de344579b991697b85106fc0bd595cb5ed4c24f\\0.png\" style=\"display:inline;vertical-align:middle;\" /></a></td><td>Variable</td><td></td>\n",
       "<tr><td>4</td><td><a href=\"__pv_it\\81f22f44907e0b98020a4149d2905fed84d24dfc\\expr.ipynb\" target=\"_blank\"><img src=\"__pv_it\\81f22f44907e0b98020a4149d2905fed84d24dfc\\0.png\" style=\"display:inline;vertical-align:middle;\" /></a></td><td>Variable</td><td></td>\n",
       "</table>\n"
      ],
      "text/plain": [
       "<proveit._core_.expression.expr_info.ExpressionInfo instance at 0x00000000044BD488>"
      ]
     },
     "execution_count": 3,
     "metadata": {},
     "output_type": "execute_result"
    }
   ],
   "source": [
    "Fraction(x, y).exprInfo()"
   ]
  },
  {
   "cell_type": "code",
   "execution_count": null,
   "metadata": {
    "collapsed": true
   },
   "outputs": [],
   "source": []
  },
  {
   "cell_type": "code",
   "execution_count": null,
   "metadata": {
    "collapsed": true
   },
   "outputs": [],
   "source": []
  }
 ],
 "metadata": {
  "kernelspec": {
   "display_name": "Python 2",
   "language": "python",
   "name": "python2"
  },
  "language_info": {
   "codemirror_mode": {
    "name": "ipython",
    "version": 2
   },
   "file_extension": ".py",
   "mimetype": "text/x-python",
   "name": "python",
   "nbconvert_exporter": "python",
   "pygments_lexer": "ipython2",
   "version": "2.7.11"
  }
 },
 "nbformat": 4,
 "nbformat_minor": 0
}
