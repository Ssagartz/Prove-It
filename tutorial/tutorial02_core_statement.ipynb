{
 "cells": [
  {
   "cell_type": "markdown",
   "metadata": {
    "collapsed": true
   },
   "source": [
    "Statements versus Expressions\n",
    "================\n",
    "\n",
    "**Statement** is a **Prove-It** class.  **Statement**s wrap **Expression**s.  **Statement**s are responsible for storing and maintaining proof information relevant to that **Expression**.  Any **Expression** may be wrapped as a **Statement** with no guarantee that the **Expression** is truth-apt.  **Prove-It**, in its core, is agnostic to intrinsic truth-aptness of **Expression**s except when a **Statement** is able to be proven.  The `proveit.logic` package defines the Boolean concept which may be used for making statements of the form $A \\in \\mathbb{B}$ (where $\\mathbb{B}$ represents the Boolean set of true or false), but this is outside **Prove-It**'s core.  As far as the core is concerned, a **Statement** is either proven or not; if it is not proven, it may or may not be truth-apt."
   ]
  },
  {
   "cell_type": "markdown",
   "metadata": {},
   "source": [
    "When an **Expression** is wrapped by a corresponding **Statement**, it is in a one-to-one correspondence.  For most practical purposes, working with a **Statement** object is the same as working with its corresponding **Expression** object.  Using Python tricks (specifically, overloading the `__getattr__` and `__dir__` methods), the **Statement** behaves in most ways as if it were the **Expression** it is wrapping.  Conversely, an **Expression** will generate and/or access its corresponding **Statement** as needed."
   ]
  },
  {
   "cell_type": "markdown",
   "metadata": {},
   "source": [
    "The purpose of working with a **Statement** object is in the way that it is displayed.  When the **Statement** has been proven, under some set of assumptions (or no assumptions), the **Statement** is displayed in a way that portrays this information.  If the **Statement** has not been proven (within the Python session's memory), the normal **Expression** display will be shown.  If it has been proven most recently under some set of assumptions, ${\\cal A}$, it is display in the form ${\\cal A} \\boldsymbol{\\vdash} S$, where $S$ is the **Statement**/**Expression**.  This bolded single turnstyle $\\boldsymbol{\\vdash}$ is **Prove-It**'s indication that the **Statement** on the right is derivable from the assumptions on the left.  If one wishes to make **Prove-It** **Expression**s that use this $\\vdash$ operator symbol, it can be left un-bolded to distinguish it from $\\boldsymbol{\\vdash}$."
   ]
  },
  {
   "cell_type": "code",
   "execution_count": 1,
   "metadata": {
    "collapsed": false
   },
   "outputs": [
    {
     "data": {
      "image/png": "[encoded data removed]",
      "text/plain": [
       "f( x )"
      ]
     },
     "execution_count": 1,
     "metadata": {},
     "output_type": "execute_result"
    }
   ],
   "source": [
    "# For example,\n",
    "from proveit.common import fx\n",
    "fxStatement = fx.proven(assumptions={fx})\n",
    "fxStatement"
   ]
  },
  {
   "cell_type": "markdown",
   "metadata": {},
   "source": [
    "The `proven` method attempts to prove the **Statement** (corresponding to the **Expression**) under the given set of assumptions and returns the **Statement** object if it is successful.  In this case, $f(x)$ is trivially true if we use $f(x)$ as an assumption.  Again, **Prove-It** is agnostic to whether or not $f(x)$ is truth-apt.  This simply says that if $f(x)$ is assumped to be a true statement, then $f(x)$ is a true statement.  If `proven` is not successful, it raises a `ProofFailure` exception."
   ]
  },
  {
   "cell_type": "code",
   "execution_count": 2,
   "metadata": {
    "collapsed": false
   },
   "outputs": [
    {
     "name": "stdout",
     "output_type": "stream",
     "text": [
      "EXPECTED ERROR:  Proof failed: f( x ) assuming {}\n"
     ]
    }
   ],
   "source": [
    "from proveit import ProofFailure\n",
    "try:\n",
    "    fx.proven()\n",
    "except ProofFailure as e:\n",
    "    print \"EXPECTED ERROR: \", e"
   ]
  },
  {
   "cell_type": "markdown",
   "metadata": {},
   "source": [
    "To obtain the **Expression** from the **Statement**, and be able to display it as the **Expression** only, call the `expr` method:"
   ]
  },
  {
   "cell_type": "code",
   "execution_count": 3,
   "metadata": {
    "collapsed": false
   },
   "outputs": [
    {
     "data": {
      "image/png": "[encoded data removed]",
      "text/plain": [
       "f( x )"
      ]
     },
     "execution_count": 3,
     "metadata": {},
     "output_type": "execute_result"
    }
   ],
   "source": [
    "fxStatement.expr()"
   ]
  },
  {
   "cell_type": "markdown",
   "metadata": {},
   "source": [
    "But note that we may use the **Statement** object as if it were the **Expression** object for most practical purposes.  It aquires all of the **Expression**'s attributes, except for some that it has overridden (such as `__class__`, `latex`, and `string`)."
   ]
  },
  {
   "cell_type": "code",
   "execution_count": 4,
   "metadata": {
    "collapsed": false
   },
   "outputs": [
    {
     "name": "stdout",
     "output_type": "stream",
     "text": [
      "['__doc__', '__eq__', '__hash__', '__init__', '__module__', '__ne__', '__repr__', '__str__', '_conclusionOfImplication', '_config_latex_tool', '_coreInfo', '_expression', '_generalizations', '_generalizers', '_hypothesisOfImplication', '_implicationsOfHypothesis', '_implicators', '_isAxiom', '_isNamedTheorem', '_latestProvingAssumptions', '_name', '_package', '_proofNumber', '_prover', '_repr_png_', '_restrictionChecked', '_specializations', '_specialize_or_relabel', '_specializers', '_subExpressions', '_unique_id', '_unique_rep', '_validateRelabelMap', 'beginProof', 'exprInfo', 'expr_to_prove', 'formatted', 'freeMultiVars', 'freeVars', 'generalize', 'isProven', 'latex', 'make', 'operands', 'operator', 'operatorOfOperation', 'png', 'prove', 'proveByEval', 'proven', 'qed', 'relabel', 'relabeled', 'safeDummyVar', 'safeDummyVars', 'specialize', 'statement', 'string', 'subExprGen', 'substituted', 'unique_id_map', 'usedVars', 'wasProven']\n"
     ]
    }
   ],
   "source": [
    "print dir(fxStatement)"
   ]
  },
  {
   "cell_type": "code",
   "execution_count": 5,
   "metadata": {
    "collapsed": false
   },
   "outputs": [
    {
     "data": {
      "image/png": "[encoded data removed]",
      "text/plain": [
       "( x )"
      ]
     },
     "execution_count": 5,
     "metadata": {},
     "output_type": "execute_result"
    }
   ],
   "source": [
    "fxStatement.operands"
   ]
  },
  {
   "cell_type": "code",
   "execution_count": 6,
   "metadata": {
    "collapsed": false
   },
   "outputs": [
    {
     "data": {
      "text/plain": [
       "<class proveit._core_.statement.Statement at 0x1078d81f0>"
      ]
     },
     "execution_count": 6,
     "metadata": {},
     "output_type": "execute_result"
    }
   ],
   "source": [
    "fxStatement.__class__"
   ]
  },
  {
   "cell_type": "markdown",
   "metadata": {},
   "source": [
    "In the next three tutorial notebooks, we will be examining the different kinds of derivation steps for making proofs and we will see more examples of proven **Statements**."
   ]
  },
  {
   "cell_type": "markdown",
   "metadata": {},
   "source": [
    "More things to perhaps discuss here:\n",
    "====================\n",
    "* default assumptions,\n",
    "* png storage,\n",
    "* **displaying proofs**"
   ]
  },
  {
   "cell_type": "code",
   "execution_count": 7,
   "metadata": {
    "collapsed": false
   },
   "outputs": [
    {
     "data": {
      "image/png": "[encoded data removed]",
      "text/plain": [
       "<proveit._core_.prover.Prover instance at 0x10796afc8>"
      ]
     },
     "execution_count": 7,
     "metadata": {},
     "output_type": "execute_result"
    }
   ],
   "source": [
    "fxStatement.proof()"
   ]
  },
  {
   "cell_type": "code",
   "execution_count": null,
   "metadata": {
    "collapsed": true
   },
   "outputs": [],
   "source": []
  }
 ],
 "metadata": {
  "kernelspec": {
   "display_name": "Python 2",
   "language": "python",
   "name": "python2"
  },
  "language_info": {
   "codemirror_mode": {
    "name": "ipython",
    "version": 2
   },
   "file_extension": ".py",
   "mimetype": "text/x-python",
   "name": "python",
   "nbconvert_exporter": "python",
   "pygments_lexer": "ipython2",
   "version": "2.7.10"
  }
 },
 "nbformat": 4,
 "nbformat_minor": 0
}
