{
 "cells": [
  {
   "cell_type": "markdown",
   "metadata": {
    "deletable": true,
    "editable": true
   },
   "source": [
    "**Prove-It** Overview\n",
    "=================\n",
    "\n",
    "**Prove-It** is a Python-based tool for generating and organizing mathematical proofs.  It is a general theorem-prover designed for versatility and powerful expressiveness.  The core philosophy behind **Prove-It** is summarized as follows.\n",
    "\n",
    "* ***Freedom of expression***.  Concise mathematical expressions are invaluable for sharing scientific and mathematical information.  **Prove-It** generates and renders LaTeX into mathematical expressions as convenient representations of internal tree-like structures.  To allow unrestricted freedom of generating the desired LaTeX, there is no enforcement built into **Prove-It** to ensure that the generated LaTeX reflects the internal representation of the expression.  However, expressions do hyperlink, via clicking, to notebooks that display the full internal structure that should properly be in correspondence with the concise representation.\n",
    "* ***Right to gibberish***.  Nonsense can be harmless and **Prove-It** is designed to regard it as such.  In doing so, it avoids unnecessary and cumbersome restrictions.  To be specific, an implication, $A \\Rightarrow B$, is regarded to be true as long as its conclusion, $B$, is known to be true whenever its hypothesis, $A$, is true.  That is, $A \\Rightarrow B$ should be interpretted as \"If $A$ is a true statement then $B$ must be a true statement.\"  Apart from this requirement, neither the hypothesis nor the conclusion need to be well-defined.  Something that is not well-defined, cannot be true.  For example, $\\forall_{A, B} A \\land B \\Rightarrow A$ is a true statement even without any restriction on $A$ and $B$ if the $\\land$ operation (logical *and*) is only defined when acting on Boolean operands.  That means that $8 \\land 5 \\Rightarrow 8$ is also true!  The left side of this implication is gibberish in this case and the right side makes no sense as a true/false statement, but that is just fine.  The hypothesis cannot be proven to be true, given that $\\land$ is not defined when acting on numbers.  The conclusion is therefore irrelevant.  This flexibility frees **Prove-It** from the need to use type-theory, which is often employed by general theorem provers and adds an extra layer of overhead and training.  Type-theory was specifically invented to circumvent Russel's paradox.  Russel's paradox occurs by defining $R$ to be the set of sets that do not contain themselves, $R = \\{x~|~x \\notin x\\}$ and then asking whether or not $R \\in R$.  The **Prove-It** way of avoiding this paradox is to define set comprehension only as a subset of an existing set that is properly defined (note that the universal set is not a properly defined set).  In trying to define Russel's set, we would have $R_S = \\{x~|~x \\notin x\\}_{x \\in S}$ meaning the set of all $x$ contained in $S$ such that $x \\notin x$.  Given a properly defined set $S$ with elements that do not contain themselves, $R$ is trivially equal to $S$ and $R_S \\notin R_S$ without question.  An improperly defined set $S$ must not contain anything; thus, $R_S = \\emptyset$ and $R_S \\notin R_S$.  Allowing gibberish is key to this solution.  We do not place any explicit restriction on $S$ in our definition of set comprehension (it can be gibberish), but there is an implicit restriction by ensuring (in our axioms) that there may only exist an $x$ for which $x \\in S$ when $S$ is properly defined.\n",
    "* ***Freedom of religion / Right to bear axioms***.  Axioms are statements that are taken to be true by assertion.  These are things that are simply believed to be true.  Ideally, an axioms provide definitions and not arbitrary belief systems, but they are ultimately taken on faith.  **Prove-It** is designed to be flexible and extensible.  As such, axioms may be added to the system as needed.  There is no inherent guarantee that axioms are valid or even self-consistent.  However, the axioms required for any particular proof are tracked and presented.  It would be cumbersome to check and re-check axioms each time a new theorem is proven.  However, these axioms are organized into packages, or **contexts**, and changes are tracked.  Users should gain and retain trust in packages of axioms as they are checked and rechecked.  As **Prove-It** gains in popularity, packages will be checked via crowdsourcing to catch mistakes.\n",
    "* ***Public trial by an impartial jury***.  In **Prove-It**, proofs are constructed using Python code.  It is important to be able to verify proofs independently, without being required to run code which could easily cheat or do something malicious.  Although one's practice may be to share and trust proofs amongst collaborators, it is still good practice to perform independent verification to ensure that generated proofs are correct.  Independent verification is possible in two different senses.  It can be done in an automated fashion by exporting/importing a proof certification and allowing **Prove-It**s open-source light-weight certification-checking code to verify that the steps are valid (in principle, 3rd party code could also be written to perform this task).  The proof is only valid up to the validity of the axioms, however.  It is therefore important to check which packages of axioms are employed and note when changes to the axioms of these packages are made.  Likewise, it is important to check that the theorem statement is faithfully expressing what is intended.  The other sense of independent verification is to manually inspect the proofs.  It is considered good-practice to generate small proofs of many intermediate theorems leading up to more sophistocated theorems.  **Prove-It** presents the steps of proofs in a convenient format.  When the proofs are small, they can be understood by human verifiers.  This has educational value in addition to being an extra sanity-check.\n",
    "* ***Liberty to start in the middle***.  Theorems may be conditionally proven using other theorems that have not yet been proven.  Later proving the requisite dependent theorems will then complete the theorem that depends upon them.  This is a convenient feature.  It allows one to temporarily take statements on faith and later fill in the details.  For example, one may wish to use some commonly known facts of mathematics to prove something more interesting, leaving the job of putting the proofs of these commonly known facts in the **Prove-It** system for some other time and/or some other people.  Or, one may wish to attempt a proof given some initial conjecture.  **Prove-It** is designed to ensure that this freedom cannot be exploited to produce circular logic (e.g., it is not possible for theorem A to depend upon theorem B and for theorem B to depend upon theorem A, or any other more sophisticated cyclical dependency).\n",
    "* ***Pursuit of happiness/convenience/automation***.  **Prove-It** is designed around the ideal goal of allowing a human user to follow any line of reasoning.  A secondary goal is to provide convenient automation to assist the human user in accomplishing their task.  This is far less ambitious than a fully automated system used to derive novel truths independent of human reasoning, but it is far more realistic and still very useful.  For example, it would be valuable to form a collection of formal proofs of theorems that are already believed/understood to be true.  This would produce certificates to allay any doubts, be an educational resource, and form a valuable resource for exploring new theorems and expanding knowledge.  Even without such a collection, **Prove-It** could be a useful tool for mathematicians as they are exploring their field of knowledge.  **Prove-It** is designed to be extensible, enabling users to add packages that make new types of operations and literals, define these with new axioms, and introduce methods that conveniently apply axioms and/or an expanding set of theorems for manipulating expressions and deriving new theorems.  Automation can be extended by defining side-effects, statements that are automatically derived when a given statement of a given type of operation is proven, and also by defining strategies to automatically conclude a statement of a given type of operation.  This is simply intended as a means to allow users to \"skip\" obvious steps that they would likely skip when doing the proof by hand.\n",
    "\n",
    "With its versatility, the Python programming language is very compatible with this philosophy.  This tutorial assumes a working knowledge of the Python programming language.  The reader is encouraged to reference the extensive online resources of Python tutorials and support as question arise regarding presented features of this programming language that are unfamiliar to the reader."
   ]
  },
  {
   "cell_type": "markdown",
   "metadata": {
    "deletable": true,
    "editable": true
   },
   "source": [
    "Installation\n",
    "============\n",
    "\n",
    "For **Prove-It** to work, Python and Jupyter/IPython must be installed.  We currently use Python 2.7.  In the near future, we will also support Python 3.0.\n",
    "\n",
    "Since it is intended that **Prove-It** be continually extended, you will likely want to install **Prove-It** as a developer.  To do this, run `python setup.py develop` in your `Prove-It` folder.  This will set the PYTHONPATH environment variable appropriately so that Python will know where to find the `proveit` package, and anything that you add/modify in the `Prove-It/packages` folder will be accessible in a Python session.  (You may have to reload modules or restart the Python session if you have made changes since importing a package.)\n",
    "\n",
    "With a successful installation, you should be able to open this Jupyter/IPython notebook and execute the following input line without generating an error:"
   ]
  },
  {
   "cell_type": "code",
   "execution_count": 2,
   "metadata": {
    "collapsed": false,
    "deletable": true,
    "editable": true
   },
   "outputs": [],
   "source": [
    "import proveit"
   ]
  },
  {
   "cell_type": "markdown",
   "metadata": {
    "deletable": true,
    "editable": true
   },
   "source": [
    "Outline\n",
    "=======\n",
    "\n",
    "This tutorial is a series of Jupyter notebook \"chapters\" as a convenient way of presenting Python code and LaTeX-formatted output in addition to nicely formatted \"Markdown\" text.  The following is a list of the chapters of this tutorial.  Start with the first chapter which lays an important foundation by explaining how Prove-It represents mathematical expressions, internally and externally.\n",
    "\n",
    "## <a id=\"contents\"></a>Table of Contents\n",
    "\n",
    "1. <a href=\"tutorial01_expr.ipynb\">**Expressions**</a>\n",
    "2. <a href=\"tutorial02_proof_basics.ipynb\">Proof Basics</a>\n",
    "3. <a href=\"tutorial03_implies.ipynb\">Implication</a>\n",
    "4. <a href=\"tutorial04_relabeling.ipynb\">Relabeling</a>\n",
    "5. <a href=\"tutorial05_forall.ipynb\">Universal Quantification (Forall)</a>\n",
    "6. <a href=\"tutorial06_theorem_proving.ipynb\">Theorem Proving</a>\n",
    "7. <a href=\"tutorial07_axiom_elimination.ipynb\">Axiom Elimination</a>\n",
    "8. <a href=\"tutorial08_automation.ipynb\">Automation</a>\n",
    "9. <a href=\"tutorial09_packages.ipynb\">Packages</a>"
   ]
  },
  {
   "cell_type": "code",
   "execution_count": null,
   "metadata": {
    "collapsed": true,
    "deletable": true,
    "editable": true
   },
   "outputs": [],
   "source": []
  }
 ],
 "metadata": {
  "kernelspec": {
   "display_name": "Python 2",
   "language": "python",
   "name": "python2"
  },
  "language_info": {
   "codemirror_mode": {
    "name": "ipython",
    "version": 2
   },
   "file_extension": ".py",
   "mimetype": "text/x-python",
   "name": "python",
   "nbconvert_exporter": "python",
   "pygments_lexer": "ipython2",
   "version": "2.7.11"
  }
 },
 "nbformat": 4,
 "nbformat_minor": 0
}
