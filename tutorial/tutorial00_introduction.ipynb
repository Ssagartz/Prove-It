{
 "cells": [
  {
   "cell_type": "markdown",
   "metadata": {},
   "source": [
    "**Prove-It** Overview\n",
    "=================\n",
    "\n",
    "**Prove-It** is a Python-based tool for generating and organizing mathematical proofs.  It is a general theorem-prover designed for versatility and powerful expressiveness.  The core philosophy behind **Prove-It** is summarized as follows.\n",
    "\n",
    "* ***Freedom of expression***.  Expressions are explicitly formed to be displayed precisely as intended.  Differen forms of equivalent expressions are distinct and must be explicitly proven to be equivalent.  LaTeX is generated to display expressions as desired.  To allow unrestricted freedom of generating the desired LaTeX, there is no general enforcement built into **Prove-It** to ensure that the generated LaTeX reflects the internal representation of the expression.  However, developers should generally strive to make, within reason, a 1-to-1 correspondence between the internal representation and the LaTeX formatting.\n",
    "* ***Right to gibberish***.  Nonsense can be harmless and **Prove-It** is designed to regard it as such.  In doing so, it avoids unnecessary and cumbersome restrictions.  To be specific, an implication, $A \\Rightarrow B$, is regarded to be true as long as its conclusion, $B$, is known to be true whenever its hypothesis, $A$, is true.  Apart from this requirement, neither the hypothesis nor the conclusion need to be well-defined.  Something that is not well-defined, cannot be true.  For example, $\\forall_{A, B} A \\land B \\Rightarrow A$ is a true statement even without any restriction on $A$ and $B$ if the $\\land$ operation is only defined when acting on Boolean operands.  That means that $0 \\land 5 \\Rightarrow 0$ is also true.  Both sides of the implication are gibberish in this case, but that is just fine.  The hypothesis cannot be proven to be true, given that $\\land$ is not defined when acting on numbers.  The conclusion is therefore irrelevant.  This flexibility frees **Prove-It** from the need to use type-theory, which is often employed by general theorem provers and adds an extra layer of overhead and training.  Type-theory was specifically invented to circumvent Russel's paradox which afflicts naive set theory.  Russel's paradox occurs by defining $R$ to be the set of sets that do not contain themselves, $R = \\{x~|~x \\notin x\\}$ and then asking whether or not $R \\in R$.  The **Prove-It** way of avoiding this paradox is to only define $x \\in S$ as a boolean if $S$ is known (proven or assumed) to be a set.  Sets may then be constructed and proven to be sets via Zermelo-Fraenkel set theory, for example.\n",
    "* ***Freedom of religion / Right to bear axioms***.  Axioms are statements that are taken to be true by assertion.  These are things that are simply believed to be true.  Ideally, an axiom provides a definition (not really a belief system), but they are ultimately taken on faith.  **Prove-It** is designed to be flexible and extensible.  As such, axioms may be added to the system as needed.  There is no inherent guarantee that axioms are valid or even self-consistent.  However, the axioms required for any particular proof are tracked and presented.  It would be cumbersome to check and re-check axioms each time a new theorem is proven.  However, these axioms are organized into packages and changes are tracked.  Users should gain and retain trust in packages of axioms as they are checked and rechecked.  As **Prove-It** gains in popularity, packages will be checked via crowdsourcing to catch mistakes.\n",
    "* ***Public trial by an impartial jury***.  In **Prove-It**, proofs are constructed using Python code.  It is important to be able to verify proofs independently, without being required to run code which could easily cheat or do something malicious.  Although one's practice may be to share and trust code amongst collaborators, it is still good practice to perform independent verification to ensure that generated proofs are correct.  Independent verification is possible in two different senses.  It can be done in an automated fashion by exporting/importing a proof certification and allowing **Prove-It**s open-source light-weight certification-checking code to verify that the steps are valid (in principle, 3rd party code could also be written to perform this task).  The proof is only valid up to the validity of the axioms, however.  It is therefore important to check which packages of axioms are employed and note when changes to the axioms of these packages are made.  Likewise, it is important to check that the theorem statement is faithfully expressing what is intended.  The other sense of independent verification is to manually inspect the proofs.  It is considered good-practice to generate small proofs of many intermediate theorems leading up to more sophistocated theorems.  **Prove-It** presents the steps of proofs in a convenient format.  When the proofs are small, they can be understood by human verifiers.  This has educational value in addition to being an extra sanity-check.\n",
    "* ***Liberty to start in the middle***.  Theorems may be conditionally proven using other theorems that have not yet been proven.  Later proving the requisite dependent theorems will then complete the theorem that depends upon them.  This is a convenient feature.  It allows one to temporarily take statements on faith and later fill in the details.  For example, one may wish to use some commonly known facts of mathematics to prove something more interesting, leaving the job of putting the proofs of these commonly known facts in the **Prove-It** system for some other time and/or some other people.  Or, one may wish to attempt a proof given some initial conjecture.  **Prove-It** is designed to ensure that this freedom cannot be exploited to produce circular logic (e.g., it is not possible for theorem A to depend upon theorem B and for theorem B to depend upon theorem A, or any other more sophisticated cyclical dependency).\n",
    "* ***Pursuit of happiness/convenience/automation***.  Historically, there has been a tendency to design theorem-provers, firstly, around the ideal goal of perfect automation: given any statement, prove that it is either true or false.  Secondly, there is a goal introduced to enable human assistance to mitigate the infeasibility of the first goal.  **Prove-It**, in contrast, is designed around the ideal goal of allowing a human user to follow any line of reasoning.  A secondary goal is to provide convenient automation to assist the human user in accomplishing their task.  This is less ambitious but more promising in many instances.  For example, it would be valuable to form a collection of formal proofs for theorems that are already believed/understood to be true.  This would produce certificates to allay any doubts, be an educational resource, and form a valuable resource for exploring new theorems and expanding knowledge.  Even without such a collection, **Prove-It** could be a useful tool for mathematicians as they are exploring their field of knowledge.  **Prove-It** is designed to be extensible, enabling users to add packages that make new types of operations and literals, define these with new axioms, and introduce methods that conveniently apply axioms and/or an expanding set of theorems for manipulating expressions and deriving new theorems.  Automation can be extended by defining side-effects, statements that are automatically derived when a given statement of a given type of operation is proven, and also by defining strategies to automatically conclude a statement of a given type of operation.  At a minimum, this can provide a means to allow users to \"skip\" obvious steps that they would likely skip when doing the proof by hand.\n",
    "\n",
    "With its versatility, the Python programming language is very compatible with this philosophy.  This tutorial assumes a working knowledge of the Python programming language.  The reader is encouraged to reference the extensive online resources of Python tutorials and support as question arise regarding presented features of this programming language that are unfamiliar to the reader."
   ]
  },
  {
   "cell_type": "markdown",
   "metadata": {},
   "source": [
    "Installation\n",
    "============\n",
    "\n",
    "For **Prove-It** to work, Python and Jupyter/IPython must be installed.  We currently use Python 2.7.  At some point in the future, we may make the transition to Python 3.0 (let us know if you have an opinion regarding this).\n",
    "\n",
    "Since it is intended that **Prove-It** be continually extended, you will likely want to install **Prove-It** as a developer.  To do this, run `python setup.py develop` in your `Prove-It` folder.  This will set the PYTHONPATH environment variable appropriately so that Python will know where to find the `proveit` package, and anything that you add/modify in the `Prove-It/packages` folder will be accessible in a Python session.  (You may have to reload modules or restart the Python session if you have made changes since importing a package.)\n",
    "\n",
    "With a successful installation, you should be able to open this Jupyter/IPython notebook and execute the following input line without generating an error:"
   ]
  },
  {
   "cell_type": "code",
   "execution_count": 2,
   "metadata": {
    "collapsed": false
   },
   "outputs": [],
   "source": [
    "import proveit"
   ]
  },
  {
   "cell_type": "markdown",
   "metadata": {},
   "source": [
    "Outline\n",
    "=======\n",
    "\n",
    "This tutorial is a series of IPython/Jupyter notebook \"chapters\" as a convenient way of presenting Python code and LaTeX-formatted output in addition to nicely formatted \"Markdown\" text.  "
   ]
  },
  {
   "cell_type": "code",
   "execution_count": null,
   "metadata": {
    "collapsed": true
   },
   "outputs": [],
   "source": []
  }
 ],
 "metadata": {
  "kernelspec": {
   "display_name": "Python 2",
   "language": "python",
   "name": "python2"
  },
  "language_info": {
   "codemirror_mode": {
    "name": "ipython",
    "version": 2
   },
   "file_extension": ".py",
   "mimetype": "text/x-python",
   "name": "python",
   "nbconvert_exporter": "python",
   "pygments_lexer": "ipython2",
   "version": "2.7.11"
  }
 },
 "nbformat": 4,
 "nbformat_minor": 0
}
