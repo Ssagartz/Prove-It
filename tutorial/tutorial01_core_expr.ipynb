{
 "cells": [
  {
   "cell_type": "markdown",
   "metadata": {},
   "source": [
    "Introduction\n",
    "=======\n",
    "\n",
    "Expressions in **Prove-It** are fundamental and versatile.  In order to prove some statement to be true, you must be able to express the statement that you want to prove, and express each axiom and each theorem that is used to construct the proof as well as intermediate statements along the way.  Statements, which are actually only treated in the form of known truths (**Prove-It** does not explicitly respresent uncertain or false statements), and proofs will be discussed in later tutorials.  Here we focus on the expressions themselves.  In **Prove-It**, an expression is a tree-like data structure (technically a directed acyclic graph, DAG, since there may be multiple instances of the same sub-expression).  As a Python object, its base class is `proveit._core_.expr.Expression` (also aliased as `proveit.Expression` via \"`from ... import ...`\" Python statements within `__init__.py` files).  It must have an intermediate class in the class inheritance hierarchy that is one of the \"core\" **Expression** classes which governs how the expression behaves when used in a proof (specifically governing the **specialize** derivation step which will be discussed in subsequent tutorials).  \n",
    "\n",
    "In the **Prove-It** philosophy, expression representations should be explicit, not implicit.  To this end, the external representation of how an expression is displayed should be a true reflection of its internal representation (with some caveats regarding **Literal**s that will be discused below).  That way, there is no ambiguity and no confusion.  Rather than exploiting equivalences of expressions implicitly, all transformations are enabled by explicit, traceable axioms.  As a consequence, however, **Prove-It** is not a minimalist approach with respect to types of expressions or with respect to numbers of axioms.  One example is currying.  Named for Haskell Curry, this is a minimalistic way to avoid multi-argument functions by expanding them as nested single-argument functions; however, the **Prove-It** philosophy is to be explicit about using multi-argument operations when one wishes to express statements (known truths) in that form.\n",
    "\n",
    "The following are the core **Expression** classes that enable a variety of explicit forms of expressions.  A brief description is provided for each class, but these concepts will become more clear by considering examples shown below.\n",
    "* **Label**: A label for a mathematical object (e.g., a symbol).\n",
    "    * **Variable**: A label with no contextual meaning.\n",
    "    * **MultiVariable**: A placeholder for zero or more **Variable**s, indicated with one or more dummy, symbolic indexing **Label**s.\n",
    "    * **Literal**: A label with contextual meaning that is bound to some *context* (specified as a Python package).\n",
    "* **Lambda**: Represents a mathematical mapping or function; contains the *arguments* (an **ExpressionList** of **Variable**s or **MultiVariable** **Bundle**s that are being mapped) and an *expression* (any **Expression** that the arguments are to be mapped into).\n",
    "* **Operation**: Represents an applied operation; contains an *operator* (a **Label**) and *operands* (a **Composite**).\n",
    "* **Composite**: An **Expression** that contains multiple **Expression**s in a collection.\n",
    "    * **NamedExpressions**: Maps keyword strings into **Expression**s.\n",
    "    * **ExpressionList**: A 1-dimensional collection of **Expression**s.\n",
    "    * **ExpressionTensor**: A multi-dimensional collection of **Expression**s.\n",
    "* **Bundle**: A placeholder for a portion of a **Composite**. \n",
    "    * **Etcetera**: A placeholder for a portion of an **ExpressionList**.\n",
    "    * **Block** A placeholder for a portion of an **ExpressionTensor**.\n",
    "\n",
    "Although **Prove-It** has **Lambda** as a core **Expression** class, **Prove-It** is not really a functional programming or lambda calculus approach to theorem proving as is often employed.  We simply use **Lambda** as a convenient way to express a mapping or function.  A **Prove-It** proof may be built however one desires.  It does not matter how it is done, as long as it can be built.  It cannot be built if it is not valid.  So what does it matter if it is built imperatively (with imperative programming versus functional programming)?  It makes sense to do so, in fact.  While, arguably, proofs themselves can naturally be viewed with a functional perspective, proof construction can be viewed as an imperative, action-oriented task.  This is one way in which **Prove-It** differs from typical formal methods approaches.\n",
    "\n",
    "Developers and users may derive new classes from core **Expression** classes (**Literal** and **Operation** classes in particular) to make their own **Expression** classes that have special formatting rules and methods for manipulating and utilizing the expression.  The formatting should ideally be in direct correspondence with the structure of the **Expression** in regards to core **Expression** classes (a true reflection of the internal representation as stated above), but there is no enforcement mechanism to ensure that this is the case.  Users are advised to inspect the fully explicit expression DAG by calling `exprInfo()` on the **Expression** object, to ensure that the formatting properly reflects the internal content (or rely on crowd-source checking of axioms/theorems).\n",
    "\n",
    "The remainder of this tutorial will show examples and discuss details of the different core **Expression** classes (types).\n",
    "\n",
    "As we discuss these different core types we will discuss the instances when different expressions are considered to be the same or different.  This is important because it corresponds to whether or not an expression is the same as one that has been proven to be a true statement (known truth)\n",
    "\n",
    "We will also discuss *expression substitution/relabeling* as we go through the different cases.  The following are related but distinct manipulations in **Prove-It**:\n",
    "* *Expression substutition*: creating a new **Expression** from an existing **Expression** by swapping one or more sub-expression(s) for other sub-expression(s).  This creates a new **Expression** but has nothing to do, intrinsically, with proving statements.\n",
    "* *Expression relabeling*: a restricted version of *expression substitution* in which any **Variable** may be relabeled only with another **Variable**, or any **MultiVariable** may be relabeled with another **MultiVariable**, or a **Bundled** **MultiVariable** may be relabeled with a list of **Variable**s.\n",
    "* *Specialization* derivation step: deriving a statement of the form $P(y)$ from a statement of the form $\\forall_x P(x)$.  Details of this will be discussed in a later tutorial, but this manipulation uses *expression substitution* in generating $P(y)$.  However, specific rules and limitations apply to *specialization* that may not apply to *expression substitution* to ensure that the derivation is sound.  It specifically involves statements (known truths) with the $\\forall$ quantifier.\n",
    "* *Relabeling* derivation step: deriving a statement (known truth) from another statement which differs only in its **Variable**s or **MultiVariable**s, or replaces **MultiVariable**s with a list if **Variable**s.  For example, from $\\forall_x P(x)$, we could use *relabeling* to derive $\\forall_y P(y)$.  It works the same way as *expression relabeling* but is applied in the context of a proof derivation.\n",
    "* *Equality substitution*: using the **substitution** axiom of `proveit.logic.equality` to prove that $f(x) = f(y)$ given $x = y$.  This uses *specialization* of the **substitution** axiom which state $\\forall_{f, x, y} ((x = y) \\Rightarrow (f(x) = f(y)))$.  This specifically involves statements (known truths) with the `proveit.logic.equality.eqOps.Equals` **Literal** (the `=` sign). This will be discussed in a later tutorial.\n",
    "\n",
    "The focus here will be *expression substitution/relabeling* with some mention of the additional restrictions applicable to the *specialization/relabeling* derivation steps that will be discussed in detail in later tutorials.  It is important to understand the distinction of these three kinds of manipulations.  Reminders will be given throughout the tutorials."
   ]
  },
  {
   "cell_type": "markdown",
   "metadata": {},
   "source": [
    "Labels: Variable, MultiVariable, and Literal\n",
    "================================"
   ]
  },
  {
   "cell_type": "code",
   "execution_count": 1,
   "metadata": {
    "collapsed": false
   },
   "outputs": [],
   "source": [
    "from proveit import Label, Variable, MultiVariable, Literal"
   ]
  },
  {
   "cell_type": "markdown",
   "metadata": {},
   "source": [
    "Label\n",
    "-----\n",
    "\n",
    "**Variable**, **MultiVariable**, and **Literal** derive from the **Label** class."
   ]
  },
  {
   "cell_type": "code",
   "execution_count": 2,
   "metadata": {
    "collapsed": false
   },
   "outputs": [
    {
     "data": {
      "image/png": "[encoded data removed]",
      "text/plain": [
       "triangle"
      ]
     },
     "execution_count": 2,
     "metadata": {},
     "output_type": "execute_result"
    }
   ],
   "source": [
    "# A Label has a string format and a latex format\n",
    "triangle = Label(stringFormat='triangle', latexFormat=r'\\triangle')\n",
    "triangle # the latex is processed and displayed in IPython"
   ]
  },
  {
   "cell_type": "code",
   "execution_count": 3,
   "metadata": {
    "collapsed": false
   },
   "outputs": [
    {
     "data": {
      "image/png": "[encoded data removed]",
      "text/plain": [
       "<proveit._core_.expression.expr_info.ExpressionInfo instance at 0x10498ee18>"
      ]
     },
     "execution_count": 3,
     "metadata": {},
     "output_type": "execute_result"
    }
   ],
   "source": [
    "# The Label's expression info shows that it has a core type of Label and no sub-expressions.\n",
    "triangle.exprInfo() # the expressions and sub-expressions are numbered with the top level being zero."
   ]
  },
  {
   "cell_type": "code",
   "execution_count": 4,
   "metadata": {
    "collapsed": false
   },
   "outputs": [
    {
     "data": {
      "image/png": "[encoded data removed]",
      "text/plain": [
       "<proveit._core_.expression.expr_info.ExpressionInfo instance at 0x1049917e8>"
      ]
     },
     "execution_count": 4,
     "metadata": {},
     "output_type": "execute_result"
    }
   ],
   "source": [
    "# This information is technically not complete for the purpose of distinguishing expressions.\n",
    "# Setting `details=True` provides more complete information.\n",
    "triangle.exprInfo(details=True) # the string format and class is also important"
   ]
  },
  {
   "cell_type": "code",
   "execution_count": 5,
   "metadata": {
    "collapsed": false
   },
   "outputs": [
    {
     "name": "stdout",
     "output_type": "stream",
     "text": [
      "== when both formats are the same:  True\n",
      "== when one format is different:  False\n",
      "== when the class is different:  False\n"
     ]
    }
   ],
   "source": [
    "# Two Label's are regarded to be the same expression iff both formats, and the class, are the same.\n",
    "print \"== when both formats are the same: \", (triangle == Label('triangle', r'\\triangle'))\n",
    "print \"== when one format is different: \", (triangle == Label('tri', r'\\triangle'))\n",
    "\n",
    "class Triangle(Label):\n",
    "    def __init__(self):\n",
    "        Label.__init__(self, 'triangle', r'\\triangle')\n",
    "print \"== when the class is different: \", triangle == Triangle()"
   ]
  },
  {
   "cell_type": "code",
   "execution_count": 6,
   "metadata": {
    "collapsed": false
   },
   "outputs": [
    {
     "data": {
      "image/png": "[encoded data removed]",
      "text/plain": [
       "<proveit._core_.expression.expr_info.ExpressionInfo instance at 0x104994950>"
      ]
     },
     "execution_count": 6,
     "metadata": {},
     "output_type": "execute_result"
    }
   ],
   "source": [
    "# See that the class difference shows up when displaying expression information with details=True\n",
    "Triangle().exprInfo(details=True)"
   ]
  },
  {
   "cell_type": "code",
   "execution_count": 7,
   "metadata": {
    "collapsed": false
   },
   "outputs": [
    {
     "data": {
      "image/png": "[encoded data removed]",
      "text/plain": [
       "square"
      ]
     },
     "execution_count": 7,
     "metadata": {},
     "output_type": "execute_result"
    }
   ],
   "source": [
    "# let's make another label to test out substituted and relabeled methods\n",
    "square =  Label(stringFormat='square', latexFormat=r'\\Box')\n",
    "square"
   ]
  },
  {
   "cell_type": "markdown",
   "metadata": {},
   "source": [
    "Using *expression substitution*, we can change one **Label** into another or any other **Expression**.  We'll see that *specialize* is more restrictive; only applicable to **Variable**s and not any **Label**, but for *expression substition* this is fine."
   ]
  },
  {
   "cell_type": "code",
   "execution_count": 8,
   "metadata": {
    "collapsed": false
   },
   "outputs": [
    {
     "data": {
      "image/png": "[encoded data removed]",
      "text/plain": [
       "square"
      ]
     },
     "execution_count": 8,
     "metadata": {},
     "output_type": "execute_result"
    }
   ],
   "source": [
    "triangle.substituted({triangle:square})"
   ]
  },
  {
   "cell_type": "markdown",
   "metadata": {},
   "source": [
    "Using *expression relabeling*, the **Label** does not change because only **Variable**s and **MultiVariable**s may be relabeled."
   ]
  },
  {
   "cell_type": "code",
   "execution_count": 9,
   "metadata": {
    "collapsed": false
   },
   "outputs": [
    {
     "data": {
      "image/png": "[encoded data removed]",
      "text/plain": [
       "triangle"
      ]
     },
     "execution_count": 9,
     "metadata": {},
     "output_type": "execute_result"
    }
   ],
   "source": [
    "triangle.relabeled({triangle:square})"
   ]
  },
  {
   "cell_type": "markdown",
   "metadata": {},
   "source": [
    "Variable\n",
    "--------\n",
    "A **Variable** is an interchangeable label with no formal, contextual meaning."
   ]
  },
  {
   "cell_type": "code",
   "execution_count": 10,
   "metadata": {
    "collapsed": false
   },
   "outputs": [
    {
     "data": {
      "image/png": "[encoded data removed]",
      "text/plain": [
       "x"
      ]
     },
     "execution_count": 10,
     "metadata": {},
     "output_type": "execute_result"
    }
   ],
   "source": [
    "x = Variable('x') # the string and latex formats are the same by default\n",
    "x"
   ]
  },
  {
   "cell_type": "code",
   "execution_count": 11,
   "metadata": {
    "collapsed": false
   },
   "outputs": [
    {
     "data": {
      "image/png": "[encoded data removed]",
      "text/plain": [
       "omega"
      ]
     },
     "execution_count": 11,
     "metadata": {},
     "output_type": "execute_result"
    }
   ],
   "source": [
    "omega = Variable(stringFormat='omega', latexFormat=r'\\omega') # different string and latex format\n",
    "omega "
   ]
  },
  {
   "cell_type": "markdown",
   "metadata": {},
   "source": [
    "As a convention, convenient **Variable**s and other **Expression**s are contained in `common.py` modules in various packages.  That is, `common.py` modules hold common expressions:"
   ]
  },
  {
   "cell_type": "code",
   "execution_count": 12,
   "metadata": {
    "collapsed": false
   },
   "outputs": [
    {
     "data": {
      "image/png": "[encoded data removed]",
      "text/plain": [
       "alpha"
      ]
     },
     "execution_count": 12,
     "metadata": {},
     "output_type": "execute_result"
    }
   ],
   "source": [
    "from proveit.common import a, b, c, x, y, z, alpha\n",
    "alpha"
   ]
  },
  {
   "cell_type": "code",
   "execution_count": 13,
   "metadata": {
    "collapsed": false
   },
   "outputs": [
    {
     "data": {
      "image/png": "[encoded data removed]",
      "text/plain": [
       "<proveit._core_.expression.expr_info.ExpressionInfo instance at 0x103856098>"
      ]
     },
     "execution_count": 13,
     "metadata": {},
     "output_type": "execute_result"
    }
   ],
   "source": [
    "# Expression information is similar to the Label, but with the different core type and class\n",
    "alpha.exprInfo(details=True)"
   ]
  },
  {
   "cell_type": "markdown",
   "metadata": {},
   "source": [
    "Just as we saw for the generic **Label** **Expression**s, we can use *expression substitution* to exchange one **Variable** for another or any other **Expression**.  Furthermore, we will see in a later tutorial that **Variable**s have special properties with respect to *specialization* because they are defined as interchangeable labels."
   ]
  },
  {
   "cell_type": "code",
   "execution_count": 14,
   "metadata": {
    "collapsed": false
   },
   "outputs": [
    {
     "data": {
      "image/png": "[encoded data removed]",
      "text/plain": [
       "omega"
      ]
     },
     "execution_count": 14,
     "metadata": {},
     "output_type": "execute_result"
    }
   ],
   "source": [
    "alpha.substituted({alpha:omega})"
   ]
  },
  {
   "cell_type": "markdown",
   "metadata": {},
   "source": [
    "Unlike generic **Label** **Expression**s, we can use *expression relabeling* to change a **Variable** into a different **Variable**, and only a **Variable**.  **Variable**s have special properties with respect to *relabeling*."
   ]
  },
  {
   "cell_type": "code",
   "execution_count": 15,
   "metadata": {
    "collapsed": false
   },
   "outputs": [
    {
     "data": {
      "image/png": "[encoded data removed]",
      "text/plain": [
       "omega"
      ]
     },
     "execution_count": 15,
     "metadata": {},
     "output_type": "execute_result"
    }
   ],
   "source": [
    "alpha.relabeled({alpha:omega})"
   ]
  },
  {
   "cell_type": "code",
   "execution_count": 16,
   "metadata": {
    "collapsed": false
   },
   "outputs": [
    {
     "name": "stdout",
     "output_type": "stream",
     "text": [
      "EXPECTED ERROR: May only relabel Variable to Variable\n"
     ]
    }
   ],
   "source": [
    "from proveit import ImproperRelabeling\n",
    "try:\n",
    "    alpha.relabeled({alpha:square})\n",
    "except ImproperRelabeling as e:\n",
    "    print \"EXPECTED ERROR:\", e"
   ]
  },
  {
   "cell_type": "markdown",
   "metadata": {},
   "source": [
    "Literal\n",
    "-------\n",
    "\n",
    "A **Literal** is another kind of **Label**.  In contrast to **Variable**s, **Literal**s have a formal, contextual meaning. They are bound to a *context* (as a Python package) and endowed with meaning via axioms as will be discussed later.  Below are different scenarios in which a **Literal** could appropriately be used.  For our example **Literal**s, we will use 'tutorial' as the context.  The context should be set to the full name of the package where the **Literal** is defined. "
   ]
  },
  {
   "cell_type": "markdown",
   "metadata": {},
   "source": [
    "### Specific operators"
   ]
  },
  {
   "cell_type": "code",
   "execution_count": 17,
   "metadata": {
    "collapsed": false
   },
   "outputs": [
    {
     "data": {
      "image/png": "[encoded data removed]",
      "text/plain": [
       "*"
      ]
     },
     "execution_count": 17,
     "metadata": {},
     "output_type": "execute_result"
    }
   ],
   "source": [
    "TIMES = Literal(context='tutorial', stringFormat='*', latexFormat=r'\\times')\n",
    "TIMES # By convention, Literal operators are ALL-CAPS"
   ]
  },
  {
   "cell_type": "code",
   "execution_count": 18,
   "metadata": {
    "collapsed": false
   },
   "outputs": [
    {
     "data": {
      "image/png": "[encoded data removed]",
      "text/plain": [
       "!"
      ]
     },
     "execution_count": 18,
     "metadata": {},
     "output_type": "execute_result"
    }
   ],
   "source": [
    "FACTORIAL = Literal('tutorial', '!')\n",
    "FACTORIAL"
   ]
  },
  {
   "cell_type": "code",
   "execution_count": 19,
   "metadata": {
    "collapsed": false
   },
   "outputs": [
    {
     "data": {
      "image/png": "[encoded data removed]",
      "text/plain": [
       "sum"
      ]
     },
     "execution_count": 19,
     "metadata": {},
     "output_type": "execute_result"
    }
   ],
   "source": [
    "SUMMATION = Literal('tutorial', 'sum', r'\\sum')\n",
    "SUMMATION"
   ]
  },
  {
   "cell_type": "markdown",
   "metadata": {},
   "source": [
    "### Constant values"
   ]
  },
  {
   "cell_type": "code",
   "execution_count": 20,
   "metadata": {
    "collapsed": false
   },
   "outputs": [
    {
     "data": {
      "image/png": "[encoded data removed]",
      "text/plain": [
       "5"
      ]
     },
     "execution_count": 20,
     "metadata": {},
     "output_type": "execute_result"
    }
   ],
   "source": [
    "FIVE = Literal('tutorial', '5')\n",
    "FIVE"
   ]
  },
  {
   "cell_type": "code",
   "execution_count": 21,
   "metadata": {
    "collapsed": false
   },
   "outputs": [
    {
     "data": {
      "image/png": "[encoded data removed]",
      "text/plain": [
       "true"
      ]
     },
     "execution_count": 21,
     "metadata": {},
     "output_type": "execute_result"
    }
   ],
   "source": [
    "TRUE = Literal('tutorial', 'true', r'\\top')\n",
    "TRUE # By convention, Literal constants are also ALL-CAPS"
   ]
  },
  {
   "cell_type": "code",
   "execution_count": 22,
   "metadata": {
    "collapsed": false
   },
   "outputs": [
    {
     "data": {
      "image/png": "[encoded data removed]",
      "text/plain": [
       "false"
      ]
     },
     "execution_count": 22,
     "metadata": {},
     "output_type": "execute_result"
    }
   ],
   "source": [
    "FALSE = Literal('tutorial', 'false', r'\\bot')\n",
    "FALSE"
   ]
  },
  {
   "cell_type": "markdown",
   "metadata": {},
   "source": [
    "### Contextual \"variables\"\n",
    "\n",
    "This is appropriate when variables are given a specific meaning within the context of a problem.  For example, consider a math \"story problem\" where Andrea has $a$ apples and Bill has $b$ bananas.  These are variables in a sense, but here they have contextual meaning so they should be **Literal**s.  However, suppose one wants to prove a general theorem for any number of Andrea's apples and Bill's bananas.  One may start by using the $a$ and $b$ **Literal**s for convenience for some contextual \"lemmas\" (although it should be noted that Prove-It does not distinguish between lemmas and theorems), but then demote them to **Variable**s in order to make a statement of the form $\\forall_{a, b} P(a, b)$ (**Literal**s may not be quantified over).  This is done by using a process called axiom elimination that will be discussed later.  For now, we just note that \"variables\" with contextual meaning need to be **Literal**s."
   ]
  },
  {
   "cell_type": "code",
   "execution_count": 23,
   "metadata": {
    "collapsed": false
   },
   "outputs": [
    {
     "data": {
      "image/png": "[encoded data removed]",
      "text/plain": [
       "a"
      ]
     },
     "execution_count": 23,
     "metadata": {},
     "output_type": "execute_result"
    }
   ],
   "source": [
    "aLit = Literal('tutorial', 'a')\n",
    "aLit"
   ]
  },
  {
   "cell_type": "code",
   "execution_count": 24,
   "metadata": {
    "collapsed": false
   },
   "outputs": [
    {
     "data": {
      "image/png": "[encoded data removed]",
      "text/plain": [
       "b"
      ]
     },
     "execution_count": 24,
     "metadata": {},
     "output_type": "execute_result"
    }
   ],
   "source": [
    "bLit = Literal('tutorial', 'b')\n",
    "bLit"
   ]
  },
  {
   "cell_type": "code",
   "execution_count": 25,
   "metadata": {
    "collapsed": false
   },
   "outputs": [
    {
     "name": "stdout",
     "output_type": "stream",
     "text": [
      "== between Variable a and Literal a: False\n",
      "== between Variable a and Literal a as a Variable: True\n"
     ]
    }
   ],
   "source": [
    "print \"== between Variable a and Literal a:\", a == aLit\n",
    "print \"== between Variable a and Literal a as a Variable:\", a == aLit.asVariable()"
   ]
  },
  {
   "cell_type": "markdown",
   "metadata": {},
   "source": [
    "There is a potential source of confusion when a **Literal** and a **Variable** are displayed in the same way.  Our solution is for **Prove-It** to check for such mistakes and raise appropriate exceptions that alert the user to the problem.  For example, users will be alerted when attempting to quantify over a **Literal** that there may be such a mix up.  Also, when equivalence is checked between **Expression**s, we check the equivalence when all **Literal**s are converted to their corresponding **Variable**s via the **asVariable()** method to see if that changes the conclusion regarding equivalence. \n",
    "\n",
    "*__THIS `asVariable()` EQUIVALENCE CHECK IS NOT YET IMPLEMENTED__*"
   ]
  },
  {
   "cell_type": "markdown",
   "metadata": {},
   "source": [
    "### Literal substitution\n",
    "It is possible to perform *expression substitution* on a **Literal**.  However, *specialization* is not allowed because you cannot quantify over a **Literal** like you can a **Variable**."
   ]
  },
  {
   "cell_type": "code",
   "execution_count": 26,
   "metadata": {
    "collapsed": false
   },
   "outputs": [
    {
     "data": {
      "image/png": "[encoded data removed]",
      "text/plain": [
       "b"
      ]
     },
     "execution_count": 26,
     "metadata": {},
     "output_type": "execute_result"
    }
   ],
   "source": [
    "aLit.substituted({aLit:bLit})"
   ]
  },
  {
   "cell_type": "code",
   "execution_count": 27,
   "metadata": {
    "collapsed": false
   },
   "outputs": [
    {
     "data": {
      "image/png": "[encoded data removed]",
      "text/plain": [
       "omega"
      ]
     },
     "execution_count": 27,
     "metadata": {},
     "output_type": "execute_result"
    }
   ],
   "source": [
    "aLit.substituted({aLit:omega})"
   ]
  },
  {
   "cell_type": "markdown",
   "metadata": {},
   "source": [
    "*Relabeling* is also not allowed since **Literal**s are not interchangeable."
   ]
  },
  {
   "cell_type": "code",
   "execution_count": 28,
   "metadata": {
    "collapsed": false
   },
   "outputs": [
    {
     "data": {
      "image/png": "[encoded data removed]",
      "text/plain": [
       "a"
      ]
     },
     "execution_count": 28,
     "metadata": {},
     "output_type": "execute_result"
    }
   ],
   "source": [
    "aLit.relabeled({aLit:bLit})"
   ]
  },
  {
   "cell_type": "markdown",
   "metadata": {},
   "source": [
    "### Literal expression comparision\n",
    "\n",
    "Not only are **Literal**s and **Variabe**s regarded as different **Expression**s even if they have the same formatting, **Literal**s with different contexts are regarded as different even if they have the same formatting."
   ]
  },
  {
   "cell_type": "code",
   "execution_count": 29,
   "metadata": {
    "collapsed": false
   },
   "outputs": [],
   "source": [
    "# Let's rename our 'tutorial' TRUE/FALSE and import TRUE/FALSE from proveit.logic, one of the main context packages\n",
    "tutorialTrue = TRUE\n",
    "tutorialFalse = FALSE\n",
    "from proveit.logic import TRUE, FALSE"
   ]
  },
  {
   "cell_type": "code",
   "execution_count": 30,
   "metadata": {
    "collapsed": false
   },
   "outputs": [
    {
     "data": {
      "text/plain": [
       "False"
      ]
     },
     "execution_count": 30,
     "metadata": {},
     "output_type": "execute_result"
    }
   ],
   "source": [
    "# When the context is different, they are not the same.\n",
    "TRUE == tutorialTrue"
   ]
  },
  {
   "cell_type": "code",
   "execution_count": 31,
   "metadata": {
    "collapsed": false
   },
   "outputs": [
    {
     "data": {
      "image/png": "[encoded data removed]",
      "text/plain": [
       "<proveit._core_.expression.expr_info.ExpressionInfo instance at 0x1049a5320>"
      ]
     },
     "execution_count": 31,
     "metadata": {},
     "output_type": "execute_result"
    }
   ],
   "source": [
    "# The detailed expression information reveals the differences.\n",
    "TRUE.exprInfo(details=True)"
   ]
  },
  {
   "cell_type": "markdown",
   "metadata": {},
   "source": [
    "Note that the `TRUE` **Expression** also has a different class than the basic **Literal** class.  This is desirable whenever we wish to make special methods that are specific to a particular kind of expression.  In the case of the `TRUE` and `FALSE` **Literal**s that we have imported from `proveit.logic`, `evalEquality(..)` is convenient method for invoking any of the following known truths: $(\\top = \\top) = \\top$, $(\\bot = \\bot) = \\top$, $(\\top = \\bot) = \\bot$, or $(\\bot = \\top) = \\bot$ as desired (these are proven theorems within `proveit.logic`)."
   ]
  },
  {
   "cell_type": "code",
   "execution_count": 32,
   "metadata": {
    "collapsed": false
   },
   "outputs": [
    {
     "data": {
      "image/png": "[encoded data removed]",
      "text/plain": [
       "(TRUE = FALSE) = FALSE"
      ]
     },
     "execution_count": 32,
     "metadata": {},
     "output_type": "execute_result"
    }
   ],
   "source": [
    "TRUE.evalEquality(FALSE)"
   ]
  },
  {
   "cell_type": "markdown",
   "metadata": {},
   "source": [
    "This is a sneak preview of a known truth (**KnownTruth** object) that uses the turnstile notation, $\\boldsymbol{\\vdash}$, to indicate that the expression is a proven statement.  There will be more on this in later tutorials."
   ]
  },
  {
   "cell_type": "markdown",
   "metadata": {},
   "source": [
    "Lambda\n",
    "====\n",
    "\n",
    "Represents a mathematical mapping or function; contains the *arguments* (an **ExpressionList** of **Variable**s or **MultiVariable** **Bundle**s that are being mapped) and an *expression* (any **Expression** that the arguments are to be mapped into)."
   ]
  },
  {
   "cell_type": "code",
   "execution_count": 33,
   "metadata": {
    "collapsed": false
   },
   "outputs": [],
   "source": [
    "from proveit import Lambda"
   ]
  },
  {
   "cell_type": "code",
   "execution_count": 34,
   "metadata": {
    "collapsed": false
   },
   "outputs": [
    {
     "data": {
      "image/png": "[encoded data removed]",
      "text/plain": [
       "(x) -> 5"
      ]
     },
     "execution_count": 34,
     "metadata": {},
     "output_type": "execute_result"
    }
   ],
   "source": [
    "# maps any value to 5\n",
    "mapTo5 = Lambda(x, FIVE) \n",
    "mapTo5"
   ]
  },
  {
   "cell_type": "code",
   "execution_count": 35,
   "metadata": {
    "collapsed": false
   },
   "outputs": [
    {
     "data": {
      "image/png": "[encoded data removed]",
      "text/plain": [
       "<proveit._core_.expression.expr_info.ExpressionInfo instance at 0x104a8f6c8>"
      ]
     },
     "execution_count": 35,
     "metadata": {},
     "output_type": "execute_result"
    }
   ],
   "source": [
    "# Let's look at the Expression info\n",
    "mapTo5.exprInfo()"
   ]
  },
  {
   "cell_type": "markdown",
   "metadata": {},
   "source": [
    "Although we are mapping a single argument in this example, $x$, the *arguments* is an **ExpressionList**.  This is just for consistency with cases in which we have multiple arguments as in the next example."
   ]
  },
  {
   "cell_type": "code",
   "execution_count": 36,
   "metadata": {
    "collapsed": false
   },
   "outputs": [
    {
     "data": {
      "image/png": "[encoded data removed]",
      "text/plain": [
       "(x, omega) -> z"
      ]
     },
     "execution_count": 36,
     "metadata": {},
     "output_type": "execute_result"
    }
   ],
   "source": [
    "# Can have multiple arguments\n",
    "lambdaExpr = Lambda([x, omega], z)\n",
    "lambdaExpr"
   ]
  },
  {
   "cell_type": "code",
   "execution_count": 37,
   "metadata": {
    "collapsed": false
   },
   "outputs": [
    {
     "data": {
      "image/png": "[encoded data removed]",
      "text/plain": [
       "<proveit._core_.expression.expr_info.ExpressionInfo instance at 0x104a912d8>"
      ]
     },
     "execution_count": 37,
     "metadata": {},
     "output_type": "execute_result"
    }
   ],
   "source": [
    "# Expression info shows how the Lambda is broken down into arguments and the expression as sub-expression.\n",
    "lambdaExpr.exprInfo()"
   ]
  },
  {
   "cell_type": "markdown",
   "metadata": {},
   "source": [
    "**ExpressionList**s will be discussed in more detail in a later section of this tutorial."
   ]
  },
  {
   "cell_type": "markdown",
   "metadata": {},
   "source": [
    "### Lambda substitution/relabeling"
   ]
  },
  {
   "cell_type": "markdown",
   "metadata": {},
   "source": [
    "A very important property of a **Lambda** is that it defines a new \"scope\" for its arguments.  The argument **Variable**s may be *relabeled*, but they will not be substituted."
   ]
  },
  {
   "cell_type": "code",
   "execution_count": 38,
   "metadata": {
    "collapsed": false
   },
   "outputs": [
    {
     "data": {
      "image/png": "[encoded data removed]",
      "text/plain": [
       "(y, omega) -> z"
      ]
     },
     "execution_count": 38,
     "metadata": {},
     "output_type": "execute_result"
    }
   ],
   "source": [
    "lambdaExpr.relabeled({x:y})"
   ]
  },
  {
   "cell_type": "code",
   "execution_count": 39,
   "metadata": {
    "collapsed": false
   },
   "outputs": [
    {
     "data": {
      "image/png": "[encoded data removed]",
      "text/plain": [
       "(x, omega) -> z"
      ]
     },
     "execution_count": 39,
     "metadata": {},
     "output_type": "execute_result"
    }
   ],
   "source": [
    "lambdaExpr.substituted({x:aLit})"
   ]
  },
  {
   "cell_type": "code",
   "execution_count": 40,
   "metadata": {
    "collapsed": false
   },
   "outputs": [
    {
     "data": {
      "image/png": "[encoded data removed]",
      "text/plain": [
       "(x, omega) -> a"
      ]
     },
     "execution_count": 40,
     "metadata": {},
     "output_type": "execute_result"
    }
   ],
   "source": [
    "# We can substitute a Variable that is not an argument, however.\n",
    "lambdaExpr.substituted({z:aLit})"
   ]
  },
  {
   "cell_type": "markdown",
   "metadata": {},
   "source": [
    "There are important limits regarding *relabeling* and *substitution* within the \"scope\" of the **Lambda**.  In particular, arguments of the Lambda function are \"reserved\" and may not be used in *substitution* or *relabeling*.  Otherwise, you could alter the meaning of the **Expression** in unintended ways and invalidate the proof generation."
   ]
  },
  {
   "cell_type": "code",
   "execution_count": 41,
   "metadata": {
    "collapsed": false
   },
   "outputs": [
    {
     "name": "stdout",
     "output_type": "stream",
     "text": [
      "EXPECTED ERROR:  Must not make substitution with reserved variables  (i.e., arguments of a Lambda function)\n",
      "EXPECTED ERROR:  Relabeling in violation of Variable scoping restrictions.\n"
     ]
    }
   ],
   "source": [
    "from proveit import ScopingViolation\n",
    "try:\n",
    "    Lambda([x, omega], z).substituted({z:omega})\n",
    "except ScopingViolation as e:\n",
    "    print \"EXPECTED ERROR: \", e\n",
    "try:\n",
    "    Lambda([x, omega], z).relabeled({z:omega})\n",
    "except ScopingViolation as e:\n",
    "    print \"EXPECTED ERROR: \", e"
   ]
  },
  {
   "cell_type": "code",
   "execution_count": 42,
   "metadata": {
    "collapsed": false
   },
   "outputs": [
    {
     "name": "stdout",
     "output_type": "stream",
     "text": [
      "EXPECTED ERROR:  Lambda argument Variables must be unique with respect to each other.\n"
     ]
    }
   ],
   "source": [
    "# In addition, Lambda argument Variables must be distinct\n",
    "from proveit import ImproperSubstitution\n",
    "try:\n",
    "    Lambda([x, omega], z).relabeled({x:omega})\n",
    "except ImproperSubstitution as e:\n",
    "    print \"EXPECTED ERROR: \", e"
   ]
  },
  {
   "cell_type": "markdown",
   "metadata": {},
   "source": [
    "It is possible, however, to perform simultaneous *relabeling* that is consistent (retains the meaning)."
   ]
  },
  {
   "cell_type": "code",
   "execution_count": 43,
   "metadata": {
    "collapsed": false
   },
   "outputs": [
    {
     "data": {
      "image/png": "[encoded data removed]",
      "text/plain": [
       "(x, omega) -> x"
      ]
     },
     "execution_count": 43,
     "metadata": {},
     "output_type": "execute_result"
    }
   ],
   "source": [
    "lambdaExpr2 = Lambda([x, omega], x)\n",
    "lambdaExpr2"
   ]
  },
  {
   "cell_type": "code",
   "execution_count": 44,
   "metadata": {
    "collapsed": false
   },
   "outputs": [
    {
     "data": {
      "image/png": "[encoded data removed]",
      "text/plain": [
       "(omega, x) -> omega"
      ]
     },
     "execution_count": 44,
     "metadata": {},
     "output_type": "execute_result"
    }
   ],
   "source": [
    "lambdaExpr2.relabeled({x:omega, omega:x})"
   ]
  },
  {
   "cell_type": "markdown",
   "metadata": {},
   "source": [
    "Operation\n",
    "=========\n",
    "\n",
    "Represents an applied operation; contains an *operator* (a **Label** or **Lambda**) and *operands* (a **Composite**)."
   ]
  },
  {
   "cell_type": "code",
   "execution_count": 45,
   "metadata": {
    "collapsed": false
   },
   "outputs": [],
   "source": [
    "from proveit import Operation"
   ]
  },
  {
   "cell_type": "code",
   "execution_count": 46,
   "metadata": {
    "collapsed": false
   },
   "outputs": [
    {
     "data": {
      "image/png": "[encoded data removed]",
      "text/plain": [
       "f( x )"
      ]
     },
     "execution_count": 46,
     "metadata": {},
     "output_type": "execute_result"
    }
   ],
   "source": [
    "# Simple case: a Variable operator with a single Variable operand\n",
    "f = Variable('f')\n",
    "fx = Operation(f, x)\n",
    "fx # f(x)"
   ]
  },
  {
   "cell_type": "markdown",
   "metadata": {},
   "source": [
    "Common forms of these are available from **proveit.common**:"
   ]
  },
  {
   "cell_type": "code",
   "execution_count": 47,
   "metadata": {
    "collapsed": false
   },
   "outputs": [
    {
     "data": {
      "image/png": "[encoded data removed]",
      "text/plain": [
       "g( x )"
      ]
     },
     "execution_count": 47,
     "metadata": {},
     "output_type": "execute_result"
    }
   ],
   "source": [
    "from proveit.common import fx, gx\n",
    "gx"
   ]
  },
  {
   "cell_type": "markdown",
   "metadata": {},
   "source": [
    "Let's derive a class from Operation for a kind of operation with a specific literal operand.\n",
    "This is commonly done in building Prove-It libraries."
   ]
  },
  {
   "cell_type": "code",
   "execution_count": 48,
   "metadata": {
    "collapsed": false
   },
   "outputs": [],
   "source": [
    "class Factorial(Operation):\n",
    "    \n",
    "    def __init__(self, operand):\n",
    "        # creates the Operation with FACTORIAL as the operator and the provided operand as its only operand.\n",
    "        Operation.__init__(self, FACTORIAL, operand)\n",
    "        self.operand = operand # store this here for convenience\n",
    "\n",
    "    '''\n",
    "    The operatorOfOperation class method is necessary to use the default version of Operation.make\n",
    "    that is important for substitution and relabeling.\n",
    "    '''\n",
    "    @classmethod\n",
    "    def operatorOfOperation(subClass):\n",
    "        return FACTORIAL \n",
    "    \n",
    "    def string(self, **kwargs): # should accept kwargs even when not used (e.g., 'fence')\n",
    "        # the operand should be fenced (wrapped in parentheses) to prevent ambiguity\n",
    "        return self.operand.string(fence=True) + self.operator.string()\n",
    "    \n",
    "    def latex(self, **kwargs): # should accept kwargs even when not used (e.g., 'fence')\n",
    "        # the operand should be fenced (wrapped in parentheses) to prevent ambiguity\n",
    "        return self.operand.latex(fence=True) + self.operator.latex() "
   ]
  },
  {
   "cell_type": "markdown",
   "metadata": {},
   "source": [
    "A **Factorial** is an **Operation** with **FACTORIAL** as the **Literal** operator.  Its formatting is altered from the default but is still true to the core **Expression** structure (the formatting is a reflection of the internal structure)."
   ]
  },
  {
   "cell_type": "code",
   "execution_count": 49,
   "metadata": {
    "collapsed": false
   },
   "outputs": [
    {
     "data": {
      "image/png": "[encoded data removed]",
      "text/plain": [
       "x!"
      ]
     },
     "execution_count": 49,
     "metadata": {},
     "output_type": "execute_result"
    }
   ],
   "source": [
    "# Now we can make an object with this new class\n",
    "xFactorial = Factorial(x)\n",
    "xFactorial"
   ]
  },
  {
   "cell_type": "code",
   "execution_count": 50,
   "metadata": {
    "collapsed": false
   },
   "outputs": [
    {
     "data": {
      "image/png": "[encoded data removed]",
      "text/plain": [
       "<proveit._core_.expression.expr_info.ExpressionInfo instance at 0x104a974d0>"
      ]
     },
     "execution_count": 50,
     "metadata": {},
     "output_type": "execute_result"
    }
   ],
   "source": [
    "# show core structure\n",
    "xFactorial.exprInfo()"
   ]
  },
  {
   "cell_type": "markdown",
   "metadata": {},
   "source": [
    "In the IPython notebook setting, we just need the latex formatting, but it is always a good idea to define the string formatting for whenever it is needed.  The `fence=True` above indicates that parentheses should be used when it could be ambiguous otherwise.  Our example above has no ambiguity, so parentheses are not used.  We will show a case below where the parentheses are required."
   ]
  },
  {
   "cell_type": "markdown",
   "metadata": {},
   "source": [
    "As with **Lambda** *arguments*, **Operation** *operands* is an **ExpressionList** even when there is one operand for consistency.  Next we consider a multiple operand example.  Rather than dirictly deriving the class from **Operation**, we'll use **AssociativeOperation** (from `proveit._generic_.genericOps` but aliased at the top level of `proveit`).  It has default formatting that is applicable for our needs here."
   ]
  },
  {
   "cell_type": "code",
   "execution_count": 51,
   "metadata": {
    "collapsed": false
   },
   "outputs": [],
   "source": [
    "from proveit import AssociativeOperation\n",
    "\n",
    "class Multiply(AssociativeOperation):\n",
    "    \n",
    "    def __init__(self, *operands): # takes a list of arguments as the operands\n",
    "        # creates the AssociativeOperation with TIMES as the operator and any number of operands.\n",
    "        AssociativeOperation.__init__(self, TIMES, *operands)\n",
    "\n",
    "    '''\n",
    "    The operatorOfOperation class method is necessary to use the default version of Operation.make\n",
    "    that is important for substitution and relabeling.\n",
    "    '''        \n",
    "    @classmethod\n",
    "    def operatorOfOperation(subClass):\n",
    "        return TIMES "
   ]
  },
  {
   "cell_type": "code",
   "execution_count": 52,
   "metadata": {
    "collapsed": false
   },
   "outputs": [
    {
     "data": {
      "image/png": "[encoded data removed]",
      "text/plain": [
       " x * 5 * omega "
      ]
     },
     "execution_count": 52,
     "metadata": {},
     "output_type": "execute_result"
    }
   ],
   "source": [
    "# Demonstrating an Operation with multiple operands\n",
    "multExpr = Multiply(x, FIVE, omega)\n",
    "multExpr"
   ]
  },
  {
   "cell_type": "code",
   "execution_count": 53,
   "metadata": {
    "collapsed": false
   },
   "outputs": [
    {
     "data": {
      "image/png": "[encoded data removed]",
      "text/plain": [
       "( x * 5 * omega )!"
      ]
     },
     "execution_count": 53,
     "metadata": {},
     "output_type": "execute_result"
    }
   ],
   "source": [
    "# Let's nest Operations and show proper fencing behavior\n",
    "nestedOperation = Factorial(multExpr)\n",
    "nestedOperation"
   ]
  },
  {
   "cell_type": "code",
   "execution_count": 54,
   "metadata": {
    "collapsed": false
   },
   "outputs": [
    {
     "data": {
      "image/png": "[encoded data removed]",
      "text/plain": [
       "<proveit._core_.expression.expr_info.ExpressionInfo instance at 0x104a959e0>"
      ]
     },
     "execution_count": 54,
     "metadata": {},
     "output_type": "execute_result"
    }
   ],
   "source": [
    "nestedOperation.exprInfo()"
   ]
  },
  {
   "cell_type": "markdown",
   "metadata": {},
   "source": [
    "### Operand substitution/relabeling\n",
    "\n",
    "*Substitution* and *relabeling* of *operands* is straightforward in the way it works."
   ]
  },
  {
   "cell_type": "code",
   "execution_count": 55,
   "metadata": {
    "collapsed": false
   },
   "outputs": [
    {
     "data": {
      "image/png": "[encoded data removed]",
      "text/plain": [
       "omega!"
      ]
     },
     "execution_count": 55,
     "metadata": {},
     "output_type": "execute_result"
    }
   ],
   "source": [
    "xFactorial.relabeled({x:omega})"
   ]
  },
  {
   "cell_type": "code",
   "execution_count": 56,
   "metadata": {
    "collapsed": false
   },
   "outputs": [
    {
     "data": {
      "image/png": "[encoded data removed]",
      "text/plain": [
       "( x * 5 * omega )!"
      ]
     },
     "execution_count": 56,
     "metadata": {},
     "output_type": "execute_result"
    }
   ],
   "source": [
    "nestedOperationFromSub = xFactorial.substituted({x:multExpr})\n",
    "nestedOperationFromSub"
   ]
  },
  {
   "cell_type": "markdown",
   "metadata": {},
   "source": [
    "Internally, however, it is using the `Operation.make` method in order to regenerate these objects and construct them with the proper classes.  In order for the default `Operation.make` method to work, the `operatorOfOperation` class method must be properly implemented (see `Factorial.operatorOfOperation` and `Multiply.operationOfOperation` where these classes are defined above)."
   ]
  },
  {
   "cell_type": "code",
   "execution_count": 57,
   "metadata": {
    "collapsed": false
   },
   "outputs": [
    {
     "data": {
      "image/png": "[encoded data removed]",
      "text/plain": [
       "<proveit._core_.expression.expr_info.ExpressionInfo instance at 0x104aa8fc8>"
      ]
     },
     "execution_count": 57,
     "metadata": {},
     "output_type": "execute_result"
    }
   ],
   "source": [
    "# Note that the classes are as they should be\n",
    "nestedOperationFromSub.exprInfo(details=True)"
   ]
  },
  {
   "cell_type": "code",
   "execution_count": 58,
   "metadata": {
    "collapsed": false
   },
   "outputs": [
    {
     "name": "stdout",
     "output_type": "stream",
     "text": [
      "Expressions, generated in different ways, are the same: True\n"
     ]
    }
   ],
   "source": [
    "# And this expression that we obtained via substition is equivalent to the one constructed directly\n",
    "print \"Expressions, generated in different ways, are the same:\", (nestedOperationFromSub == nestedOperation)"
   ]
  },
  {
   "cell_type": "markdown",
   "metadata": {},
   "source": [
    "### Operator substitution/relabeling\n",
    "\n",
    "The *operator* may likewise be *substituted* or *relabeled*, but with some interesting extra capabilities."
   ]
  },
  {
   "cell_type": "markdown",
   "metadata": {},
   "source": [
    "It is straightforward to *relabel* a **Variable** *operator* with another **Variable**."
   ]
  },
  {
   "cell_type": "code",
   "execution_count": 59,
   "metadata": {
    "collapsed": false
   },
   "outputs": [
    {
     "data": {
      "image/png": "[encoded data removed]",
      "text/plain": [
       "g( x )"
      ]
     },
     "execution_count": 59,
     "metadata": {},
     "output_type": "execute_result"
    }
   ],
   "source": [
    "from proveit.common import g\n",
    "fx.relabeled({f:g}) # Variable operator to a different Variable"
   ]
  },
  {
   "cell_type": "markdown",
   "metadata": {},
   "source": [
    "And it is straightforward to *substitute* a **Variable** *operator* with a **Literal**.  This is generally not desirable, however, because it may not have the appropriate class."
   ]
  },
  {
   "cell_type": "code",
   "execution_count": 60,
   "metadata": {
    "collapsed": false
   },
   "outputs": [
    {
     "data": {
      "image/png": "[encoded data removed]",
      "text/plain": [
       "!( x )"
      ]
     },
     "execution_count": 60,
     "metadata": {},
     "output_type": "execute_result"
    }
   ],
   "source": [
    "xFactorialUndressed = fx.substituted({f:FACTORIAL}) # undressed by the Factorial class\n",
    "xFactorialUndressed"
   ]
  },
  {
   "cell_type": "code",
   "execution_count": 61,
   "metadata": {
    "collapsed": false
   },
   "outputs": [
    {
     "data": {
      "text/plain": [
       "False"
      ]
     },
     "execution_count": 61,
     "metadata": {},
     "output_type": "execute_result"
    }
   ],
   "source": [
    "xFactorialUndressed == xFactorial # Not the same"
   ]
  },
  {
   "cell_type": "code",
   "execution_count": 62,
   "metadata": {
    "collapsed": false
   },
   "outputs": [
    {
     "name": "stdout",
     "output_type": "stream",
     "text": [
      "proveit._core_.expression.operation.Operation vs __main__.Factorial\n"
     ]
    }
   ],
   "source": [
    "print xFactorialUndressed.__class__, 'vs', xFactorial.__class__ # the classes are different"
   ]
  },
  {
   "cell_type": "markdown",
   "metadata": {},
   "source": [
    "You can do *expression substitution* with **Literal** *operator*s, but you wouldn't be able to do such a thing with *specialization*."
   ]
  },
  {
   "cell_type": "code",
   "execution_count": 63,
   "metadata": {
    "collapsed": false
   },
   "outputs": [
    {
     "data": {
      "image/png": "[encoded data removed]",
      "text/plain": [
       "sum( x )"
      ]
     },
     "execution_count": 63,
     "metadata": {},
     "output_type": "execute_result"
    }
   ],
   "source": [
    "xFactorialUndressed.substituted({FACTORIAL:SUMMATION}) # Literal operator to a different Literal operator"
   ]
  },
  {
   "cell_type": "code",
   "execution_count": 64,
   "metadata": {
    "collapsed": false
   },
   "outputs": [
    {
     "name": "stdout",
     "output_type": "stream",
     "text": [
      "EXPECTED ERROR: Unexpected operator, sum, when making __main__.Factorial\n"
     ]
    }
   ],
   "source": [
    "# But this will typically be prevented (appropriately) in trying to remake a derived Operation class:\n",
    "try:\n",
    "    xFactorial.substituted({FACTORIAL:SUMMATION})\n",
    "except ValueError as e:\n",
    "    print \"EXPECTED ERROR:\", e"
   ]
  },
  {
   "cell_type": "markdown",
   "metadata": {},
   "source": [
    "### Operation substitution"
   ]
  },
  {
   "cell_type": "markdown",
   "metadata": {},
   "source": [
    "The more interesting and useful case is to *substitute* the **Operation** itself."
   ]
  },
  {
   "cell_type": "code",
   "execution_count": 65,
   "metadata": {
    "collapsed": false
   },
   "outputs": [
    {
     "data": {
      "image/png": "[encoded data removed]",
      "text/plain": [
       "x!"
      ]
     },
     "execution_count": 65,
     "metadata": {},
     "output_type": "execute_result"
    }
   ],
   "source": [
    "fx.substituted({f:Lambda(y, Factorial(y))})"
   ]
  },
  {
   "cell_type": "markdown",
   "metadata": {},
   "source": [
    "Note that the operand is still $x$ (not $y$).  This is substituting the operation, not the operand.  If desired, however, but could be substituted simultaneously:"
   ]
  },
  {
   "cell_type": "code",
   "execution_count": 66,
   "metadata": {
    "collapsed": false
   },
   "outputs": [
    {
     "data": {
      "image/png": "[encoded data removed]",
      "text/plain": [
       "omega!"
      ]
     },
     "execution_count": 66,
     "metadata": {},
     "output_type": "execute_result"
    }
   ],
   "source": [
    "omegaFactorial = fx.substituted({f:Lambda(y, Factorial(y)), x:omega})\n",
    "omegaFactorial"
   ]
  },
  {
   "cell_type": "code",
   "execution_count": 67,
   "metadata": {
    "collapsed": false
   },
   "outputs": [
    {
     "data": {
      "image/png": "[encoded data removed]",
      "text/plain": [
       "<proveit._core_.expression.expr_info.ExpressionInfo instance at 0x104a8f128>"
      ]
     },
     "execution_count": 67,
     "metadata": {},
     "output_type": "execute_result"
    }
   ],
   "source": [
    "omegaFactorial.exprInfo(details=True)"
   ]
  },
  {
   "cell_type": "markdown",
   "metadata": {},
   "source": [
    "Note that by substituting $f$ with a **Lambda** expression, the entire **Operation** is substituted, not just the *operator*.  This is why **Lambda** *operator*s are not allowed; otherwise, such a substitution could be ambiguous or confusing (should it substitute the **Operation** or substitute the *operator* with the **Lambda** expression?).  This also highlights the fact that **Prove-It** is not a functional programming or lambda calculus.  Rather, **Prove-It** is designed for manipulating expressions as desired, and *operation substitution* is a useful, powerful, yet relatively straightforward tool for doing so."
   ]
  },
  {
   "cell_type": "markdown",
   "metadata": {},
   "source": [
    "### Mocking up **Lambda** operators\n",
    "\n",
    "It would not be consistent with the **Prove-It** philosophy to completely disallow expressions involving a **Lambda** function applied to operand(s).  While having a **Lambda** *operator* for an **Operation** is not allowed, we are free to make an **Operation** class whose *operands* are the **Lambda** function as well as the operand on which we wish to apply the function. "
   ]
  },
  {
   "cell_type": "code",
   "execution_count": 68,
   "metadata": {
    "collapsed": false
   },
   "outputs": [],
   "source": [
    "LAMBDA_APPLICATION = Literal('tutorial', 'LAMBDA_APPLICATION', r'LAMBDA\\_APPLICATION')"
   ]
  },
  {
   "cell_type": "code",
   "execution_count": 69,
   "metadata": {
    "collapsed": false
   },
   "outputs": [],
   "source": [
    "from proveit import NamedExpressions # to be discussed below\n",
    "class LambdaApplication(Operation):\n",
    "    def __init__(self, lambdaFn, operand):\n",
    "        Operation.__init__(self, LAMBDA_APPLICATION, NamedExpressions({'lambdaFn':lambdaFn, 'operand': operand}))\n",
    "        self.lambdaFn = self.operands['lambdaFn'] # The Lambda function operand\n",
    "        self.lambdaOperand = self.operands['operand'] # The operand of the Lambda function\n",
    "        \n",
    "    @classmethod\n",
    "    def operatorOfOperation(subClass):\n",
    "        return LAMBDA_APPLICATION \n",
    "    \n",
    "    def string(self, **kwargs): # should accept kwargs even when not used (e.g., 'fence')\n",
    "        return self.lambdaFn.string(fence=True) + '(' + self.lambdaOperand.string() + ')'\n",
    "    \n",
    "    def latex(self, **kwargs): # should accept kwargs even when not used (e.g., 'fence')\n",
    "        return self.lambdaFn.latex(fence=True) + '(' + self.lambdaOperand.latex() + ')'\n"
   ]
  },
  {
   "cell_type": "code",
   "execution_count": 70,
   "metadata": {
    "collapsed": false
   },
   "outputs": [
    {
     "data": {
      "image/png": "[encoded data removed]",
      "text/plain": [
       "[(y) -> y!](x)"
      ]
     },
     "execution_count": 70,
     "metadata": {},
     "output_type": "execute_result"
    }
   ],
   "source": [
    "lambdaAppExpr = LambdaApplication(Lambda(y, Factorial(y)), x)\n",
    "lambdaAppExpr"
   ]
  },
  {
   "cell_type": "markdown",
   "metadata": {},
   "source": [
    "Note that the *operator* of the **LambdaApplication** (`LAMBDA_APPLICATION`) is not displayed but is implicit in the context of the lambda application formatting.  Also, we made use of **NamedExpressions** which will be discussed next.  Let us take a look at the expression information."
   ]
  },
  {
   "cell_type": "code",
   "execution_count": 71,
   "metadata": {
    "collapsed": false
   },
   "outputs": [
    {
     "data": {
      "image/png": "[encoded data removed]",
      "text/plain": [
       "<proveit._core_.expression.expr_info.ExpressionInfo instance at 0x104aad3f8>"
      ]
     },
     "execution_count": 71,
     "metadata": {},
     "output_type": "execute_result"
    }
   ],
   "source": [
    "lambdaAppExpr.exprInfo()"
   ]
  },
  {
   "cell_type": "markdown",
   "metadata": {},
   "source": [
    "NamedExpressions\n",
    "=========\n",
    "\n",
    "**NamedExpressions** is a composite **Expression** that maps string keywords to sub-**Expression**s.  The reason to do this is to be explicit in the internal representation about the role of each sub-**Expression** so there is no ambiguity between the internal and external representation.  A good example is `lambdaAppExpr` above where one *operand* plays the role of the lambda function and the other *operand* plays the role of the lambda function's operand."
   ]
  },
  {
   "cell_type": "markdown",
   "metadata": {},
   "source": [
    "Later we will see that **NamedExpressions** are utilized in many common expressions.  Specifically, it is used in `proveit._generic_.genericOps.OperationOverInstances`, aliased as `proveit.OperationOverInstances`.  `OperationOverInstances` is used for operations that are applied over a range of \"instances\" ($\\forall$, $\\exists$, $\\sum$, $\\prod$, etc.).  This will be discussed in a later tutorial."
   ]
  },
  {
   "cell_type": "markdown",
   "metadata": {},
   "source": [
    "Here is a more rudimentary demonstration of using **NamedExpressions**:"
   ]
  },
  {
   "cell_type": "code",
   "execution_count": 72,
   "metadata": {
    "collapsed": false
   },
   "outputs": [
    {
     "data": {
      "image/png": "[encoded data removed]",
      "text/plain": [
       "{left:x, product:( x * y ), right:y}"
      ]
     },
     "execution_count": 72,
     "metadata": {},
     "output_type": "execute_result"
    }
   ],
   "source": [
    "from proveit import NamedExpressions\n",
    "NamedExpressions({'left':x, 'right':y, 'product':Multiply(x, y)})"
   ]
  },
  {
   "cell_type": "markdown",
   "metadata": {},
   "source": [
    "Note that the ordering is arbitrary.  It is only the keyword strings that matter."
   ]
  },
  {
   "cell_type": "markdown",
   "metadata": {
    "collapsed": true
   },
   "source": [
    "**ExpressionList**, 1-D **MultiVariable**s, and **Etcetera**\n",
    "================================="
   ]
  },
  {
   "cell_type": "markdown",
   "metadata": {},
   "source": [
    "### ExpressionList\n",
    "\n",
    "We have seen examples of **ExpressionList**s above.  On its own, it is simple.  It becomes more interesting as we discuss **MultiVariable** and **Etcetera** **Expression**s."
   ]
  },
  {
   "cell_type": "code",
   "execution_count": 73,
   "metadata": {
    "collapsed": false
   },
   "outputs": [
    {
     "data": {
      "image/png": "[encoded data removed]",
      "text/plain": [
       "( x , y , z )"
      ]
     },
     "execution_count": 73,
     "metadata": {},
     "output_type": "execute_result"
    }
   ],
   "source": [
    "from proveit import ExpressionList\n",
    "xyz = ExpressionList(x, y, z)\n",
    "xyz"
   ]
  },
  {
   "cell_type": "code",
   "execution_count": 74,
   "metadata": {
    "collapsed": false
   },
   "outputs": [
    {
     "data": {
      "image/png": "[encoded data removed]",
      "text/plain": [
       "( x , y , ( x * 5 * omega )! )"
      ]
     },
     "execution_count": 74,
     "metadata": {},
     "output_type": "execute_result"
    }
   ],
   "source": [
    "# Substitution is straightforward\n",
    "fancyList = xyz.substituted({z:nestedOperation})\n",
    "fancyList"
   ]
  },
  {
   "cell_type": "code",
   "execution_count": 75,
   "metadata": {
    "collapsed": false
   },
   "outputs": [
    {
     "data": {
      "image/png": "[encoded data removed]",
      "text/plain": [
       "( ( x * 5 * omega )! , y , ( ( x * 5 * omega )! * 5 * omega )! )"
      ]
     },
     "execution_count": 75,
     "metadata": {},
     "output_type": "execute_result"
    }
   ],
   "source": [
    "# Let's keep it up\n",
    "fancierList = fancyList.substituted({x:nestedOperation})\n",
    "fancierList"
   ]
  },
  {
   "cell_type": "markdown",
   "metadata": {},
   "source": [
    "Directly nesting **ExpressionList**s is not allowed.  They may be indirectly nested.  For example, you can nest a multi-operand **Operation** within an operand of an outer multi-operand **Operation**."
   ]
  },
  {
   "cell_type": "code",
   "execution_count": 76,
   "metadata": {
    "collapsed": false
   },
   "outputs": [
    {
     "name": "stdout",
     "output_type": "stream",
     "text": [
      "EXPECTED ERROR: May not nest ExpressionLists (do you need to use etcetera? or ExpressionTensor?)\n"
     ]
    }
   ],
   "source": [
    "from proveit import NestedCompositeExpressionError\n",
    "try:\n",
    "    ExpressionList(x, ExpressionList(y, z))\n",
    "except NestedCompositeExpressionError as e:\n",
    "    print \"EXPECTED ERROR:\", e"
   ]
  },
  {
   "cell_type": "markdown",
   "metadata": {},
   "source": [
    "### MultiVariable\n",
    "\n",
    "A MultiVariable represents zero or more Variables in one Label."
   ]
  },
  {
   "cell_type": "code",
   "execution_count": 77,
   "metadata": {
    "collapsed": false
   },
   "outputs": [
    {
     "data": {
      "image/png": "[encoded data removed]",
      "text/plain": [
       "r_{*}"
      ]
     },
     "execution_count": 77,
     "metadata": {},
     "output_type": "execute_result"
    }
   ],
   "source": [
    "r = MultiVariable('r', latexFormat=r'\\vec{r}')\n",
    "r # has a dummy index (box by default) to indicate that it can be expanded to a list of Variables"
   ]
  },
  {
   "cell_type": "code",
   "execution_count": 78,
   "metadata": {
    "collapsed": false
   },
   "outputs": [
    {
     "data": {
      "image/png": "[encoded data removed]",
      "text/plain": [
       "q_{@}"
      ]
     },
     "execution_count": 78,
     "metadata": {},
     "output_type": "execute_result"
    }
   ],
   "source": [
    "# The default dummy index may be overridden\n",
    "q = MultiVariable('q', axesLabels=[Label('@', r'\\triangle')])\n",
    "q"
   ]
  },
  {
   "cell_type": "code",
   "execution_count": 79,
   "metadata": {
    "collapsed": false
   },
   "outputs": [
    {
     "data": {
      "image/png": "[encoded data removed]",
      "text/plain": [
       "<proveit._core_.expression.expr_info.ExpressionInfo instance at 0x104a917e8>"
      ]
     },
     "execution_count": 79,
     "metadata": {},
     "output_type": "execute_result"
    }
   ],
   "source": [
    "# Looking at r's expression information, we see that the dummy index is regarded as a Label sub-expression.\n",
    "r.exprInfo()"
   ]
  },
  {
   "cell_type": "markdown",
   "metadata": {},
   "source": [
    "With *expression relabeling*, a **MultiVariable** may change into a different **MultiVariable**."
   ]
  },
  {
   "cell_type": "code",
   "execution_count": 80,
   "metadata": {
    "collapsed": false
   },
   "outputs": [
    {
     "data": {
      "image/png": "[encoded data removed]",
      "text/plain": [
       "q_{@}"
      ]
     },
     "execution_count": 80,
     "metadata": {},
     "output_type": "execute_result"
    }
   ],
   "source": [
    "r.relabeled({r:q})"
   ]
  },
  {
   "cell_type": "markdown",
   "metadata": {},
   "source": [
    "You may *relabel* a **MultiVariable** as a **ExpressionList** of **Variable**s, but only within an **Etcetera** as we shall see."
   ]
  },
  {
   "cell_type": "code",
   "execution_count": 81,
   "metadata": {
    "collapsed": false
   },
   "outputs": [
    {
     "name": "stdout",
     "output_type": "stream",
     "text": [
      "EXPECTED ERROR: May only relabel MultiVariable to Variable or MultiVariable (or a list/tensor of Variables within an Etcetera/Block)\n"
     ]
    }
   ],
   "source": [
    "try:\n",
    "    r.relabeled({r:[x, y, z]})\n",
    "except ImproperRelabeling as e:\n",
    "    print \"EXPECTED ERROR:\", e"
   ]
  },
  {
   "cell_type": "markdown",
   "metadata": {},
   "source": [
    "You may *relabel* a **MultiVariable** as a single **Variable**.  This is utilized internally when relabeling a **MultiVariable** within an **Etcetera**."
   ]
  },
  {
   "cell_type": "code",
   "execution_count": 82,
   "metadata": {
    "collapsed": false
   },
   "outputs": [
    {
     "data": {
      "image/png": "[encoded data removed]",
      "text/plain": [
       "x"
      ]
     },
     "execution_count": 82,
     "metadata": {},
     "output_type": "execute_result"
    }
   ],
   "source": [
    "r.relabeled({r:x})"
   ]
  },
  {
   "cell_type": "markdown",
   "metadata": {},
   "source": [
    "### Etcetera\n",
    "\n",
    "An **Etcetera** is a placeholder for a portion of an **ExpressionList**.  In combination with **MultiVariable**s, you can do some interesting things that are akin to using ellipses `...` in a chaulkboard mathematical expression (like $x = a_1 + a_2 + ...$) but without any potential ambiguity."
   ]
  },
  {
   "cell_type": "code",
   "execution_count": 83,
   "metadata": {
    "collapsed": false
   },
   "outputs": [
    {
     "data": {
      "image/png": "[encoded data removed]",
      "text/plain": [
       "(..r_{*}.., omega) ->  ..* r_{*} *.. * omega "
      ]
     },
     "execution_count": 83,
     "metadata": {},
     "output_type": "execute_result"
    }
   ],
   "source": [
    "from proveit import Etcetera\n",
    "# This example shows how to map 1 or more arguments to the product of these arguments\n",
    "multiMultiplyMap = Lambda([Etcetera(r), omega], Multiply(Etcetera(r), omega))\n",
    "multiMultiplyMap"
   ]
  },
  {
   "cell_type": "code",
   "execution_count": 84,
   "metadata": {
    "collapsed": false
   },
   "outputs": [
    {
     "data": {
      "image/png": "[encoded data removed]",
      "text/plain": [
       "<proveit._core_.expression.expr_info.ExpressionInfo instance at 0x104aa8ef0>"
      ]
     },
     "execution_count": 84,
     "metadata": {},
     "output_type": "execute_result"
    }
   ],
   "source": [
    "multiMultiplyMap.exprInfo()"
   ]
  },
  {
   "cell_type": "markdown",
   "metadata": {},
   "source": [
    "Note the formatting which makes it clear that each of $\\vec{r}$'s members will be in the product.  This formatting is defined in `proveit._generic_.genericOps.AssociativeOperation` (via `from ... import ...` statements within `__init__.py` files).  Indeed, this is what happens when we *relabel* (or *substitute*) $\\vec{r}$. "
   ]
  },
  {
   "cell_type": "code",
   "execution_count": 85,
   "metadata": {
    "collapsed": false
   },
   "outputs": [
    {
     "data": {
      "image/png": "[encoded data removed]",
      "text/plain": [
       "(x, y, z, omega) ->  x * y * z * omega "
      ]
     },
     "execution_count": 85,
     "metadata": {},
     "output_type": "execute_result"
    }
   ],
   "source": [
    "specificMultiMultiplyMap = multiMultiplyMap.relabeled({r:[x, y, z]})\n",
    "specificMultiMultiplyMap"
   ]
  },
  {
   "cell_type": "code",
   "execution_count": 86,
   "metadata": {
    "collapsed": false
   },
   "outputs": [
    {
     "data": {
      "image/png": "[encoded data removed]",
      "text/plain": [
       "<proveit._core_.expression.expr_info.ExpressionInfo instance at 0x104ab0998>"
      ]
     },
     "execution_count": 86,
     "metadata": {},
     "output_type": "execute_result"
    }
   ],
   "source": [
    "specificMultiMultiplyMap.exprInfo()"
   ]
  },
  {
   "cell_type": "markdown",
   "metadata": {},
   "source": [
    "Notice how the expansion of $r$ is incorporated into the **ExpressionList**s rather than nesting the **ExpressionList**s (which, as mentioned above, is not allowed)."
   ]
  },
  {
   "cell_type": "markdown",
   "metadata": {},
   "source": [
    "*Expression substitution* works similarly but is more general."
   ]
  },
  {
   "cell_type": "code",
   "execution_count": 87,
   "metadata": {
    "collapsed": false
   },
   "outputs": [
    {
     "data": {
      "image/png": "[encoded data removed]",
      "text/plain": [
       "(..r_{*}.., omega) ->  x * 5 * z! * omega "
      ]
     },
     "execution_count": 87,
     "metadata": {},
     "output_type": "execute_result"
    }
   ],
   "source": [
    "multiMultiplyMap.substituted({r:[x, FIVE, Factorial(z)]})"
   ]
  },
  {
   "cell_type": "markdown",
   "metadata": {},
   "source": [
    "If that was the only thing we could do with **Etcetera**, there would be no good reason to have **Etcetera** and **MultiVariable** be separate core types.  But there is a good reason for have these separate as we shall see in the next example."
   ]
  },
  {
   "cell_type": "code",
   "execution_count": 88,
   "metadata": {
    "collapsed": false
   },
   "outputs": [
    {
     "data": {
      "image/png": "[encoded data removed]",
      "text/plain": [
       "(..r_{*}.., omega) ->  ..* r_{*}! *.. * omega! "
      ]
     },
     "execution_count": 88,
     "metadata": {},
     "output_type": "execute_result"
    }
   ],
   "source": [
    "multiMultipliedFactorialMap = Lambda([Etcetera(r), omega], Multiply(Etcetera(Factorial(r)), Factorial(omega)))\n",
    "multiMultipliedFactorialMap"
   ]
  },
  {
   "cell_type": "code",
   "execution_count": 89,
   "metadata": {
    "collapsed": false
   },
   "outputs": [
    {
     "data": {
      "image/png": "[encoded data removed]",
      "text/plain": [
       "(x, y, z, omega) ->  x! * y! * z! * omega! "
      ]
     },
     "execution_count": 89,
     "metadata": {},
     "output_type": "execute_result"
    }
   ],
   "source": [
    "multiMultipliedFactorialMap.relabeled({r:[x, y, z]})"
   ]
  },
  {
   "cell_type": "markdown",
   "metadata": {},
   "source": [
    "Generally, you could have a **MultiVariable** within any kind of **Expression** that is within an **Etcetera**.  However, an exception will be thrown if there is ambiguity (relabeling multiple **MultiVariable**s within **Etcetera**)."
   ]
  },
  {
   "cell_type": "code",
   "execution_count": 90,
   "metadata": {
    "collapsed": false
   },
   "outputs": [
    {
     "data": {
      "image/png": "[encoded data removed]",
      "text/plain": [
       "..( r_{*} * q_{@} ).."
      ]
     },
     "execution_count": 90,
     "metadata": {},
     "output_type": "execute_result"
    }
   ],
   "source": [
    "ambiguousEtc = Etcetera(Multiply(r, q))\n",
    "ambiguousEtc"
   ]
  },
  {
   "cell_type": "code",
   "execution_count": 91,
   "metadata": {
    "collapsed": false
   },
   "outputs": [
    {
     "name": "stdout",
     "output_type": "stream",
     "text": [
      "EXPECTED ERROR: Multiple Bundle variable expansion is unsupported due to ambiguity\n"
     ]
    }
   ],
   "source": [
    "try:\n",
    "    ambiguousEtc.relabeled({r:[x, y, z], q:[omega, x]})\n",
    "except Exception as e:\n",
    "    print \"EXPECTED ERROR:\", e"
   ]
  },
  {
   "cell_type": "markdown",
   "metadata": {},
   "source": [
    "__*A potential additional feature could be to allow something like $.. + (a_{\\Box} \\times b_{\\Box}) + ..$ to represent $a_1 \\times b_1 + a_2 \\times b_2 + ...$.  I think this is a good idea but needs to be implemented.*__ "
   ]
  },
  {
   "cell_type": "markdown",
   "metadata": {},
   "source": [
    "**ExpressionTensor**, multi-dimensional **MultiVariable**s, and **Block**\n",
    "=================================\n",
    "\n",
    "**ExpressionTensor** is a generalization of **ExpressionList** to multiple dimensions.  **MultiVariable**s can have multiple indices to generalize into multiple dimensions.  A **Block** is a generalization of **Etcetera** into multiple dimensions.\n"
   ]
  },
  {
   "cell_type": "markdown",
   "metadata": {},
   "source": [
    "### ExpressionTensor\n",
    "\n",
    "**ExpressionTensor**s are represented as a Python dictionary that maps tuples of indices into **Expression** elements.  They can be sparse.\n"
   ]
  },
  {
   "cell_type": "markdown",
   "metadata": {},
   "source": [
    "__*I am still trying to decide how to implement Block substitution in ExpressionTensors.  The difficulty is that a Block can expand in multiple directions and we need to define how this expansion occurs (in 1-D, there is no ambiguity).  In particular, I'm thinking of how to treat circuit diagrams (analog, digital, or quantum circuits) where you can think of pins entering/exiting the Block within an ExpressionTensor and you can think of pins entering/exiting an ExpressionTensor itself.  When substituting an ExpressionTensor into a Block, you want to line up the pins and expand the space as needed.  How to do this exactly in a way that is both flexible but as straightforward as possible?  I thought of alignment indices, but I've also lately been thinking of defining anchor points which would be more flexible and could correspond to the \"pin\" concept.*__"
   ]
  },
  {
   "cell_type": "markdown",
   "metadata": {},
   "source": [
    "### Multi-dimensional **MultiVariables**"
   ]
  },
  {
   "cell_type": "code",
   "execution_count": 92,
   "metadata": {
    "collapsed": false
   },
   "outputs": [
    {
     "data": {
      "image/png": "[encoded data removed]",
      "text/plain": [
       "A_{* @}"
      ]
     },
     "execution_count": 92,
     "metadata": {},
     "output_type": "execute_result"
    }
   ],
   "source": [
    "# Can also be used to represent a multi-dimensional array of Variables\n",
    "A = MultiVariable('A', numDimensions=2)\n",
    "A # a box and triangle are used as the multi-dimensional dummy indices"
   ]
  },
  {
   "cell_type": "code",
   "execution_count": 93,
   "metadata": {
    "collapsed": false
   },
   "outputs": [
    {
     "data": {
      "image/png": "[encoded data removed]",
      "text/plain": [
       "B_{@ *}"
      ]
     },
     "execution_count": 93,
     "metadata": {},
     "output_type": "execute_result"
    }
   ],
   "source": [
    "# The default dummy indices may be overridden\n",
    "B = MultiVariable('B', numDimensions=2, axesLabels=[Label('@', r'\\triangle'), Label('*', r'\\Box')])\n",
    "B # switched the triangle and box just to show we can"
   ]
  },
  {
   "cell_type": "code",
   "execution_count": 94,
   "metadata": {
    "collapsed": false
   },
   "outputs": [
    {
     "data": {
      "image/png": "[encoded data removed]",
      "text/plain": [
       "<proveit._core_.expression.expr_info.ExpressionInfo instance at 0x104aa7908>"
      ]
     },
     "execution_count": 94,
     "metadata": {},
     "output_type": "execute_result"
    }
   ],
   "source": [
    "# Looking at B's expression information, we see that the dummy indices are regarded as Label sub-expressions.\n",
    "B.exprInfo()"
   ]
  },
  {
   "cell_type": "code",
   "execution_count": 95,
   "metadata": {
    "collapsed": false
   },
   "outputs": [
    {
     "data": {
      "image/png": "[encoded data removed]",
      "text/plain": [
       "<proveit._core_.expression.expr_info.ExpressionInfo instance at 0x104ab07a0>"
      ]
     },
     "execution_count": 95,
     "metadata": {},
     "output_type": "execute_result"
    }
   ],
   "source": [
    "B.relabeled({B:A}).exprInfo()"
   ]
  },
  {
   "cell_type": "code",
   "execution_count": 96,
   "metadata": {
    "collapsed": false
   },
   "outputs": [],
   "source": [
    "# The dimensionality must match when relabeling\n",
    "try:\n",
    "    r.relabeled({r:A})\n",
    "except ValueError as e:\n",
    "    print \"EXPECTED ERROR:\", e"
   ]
  },
  {
   "cell_type": "markdown",
   "metadata": {},
   "source": [
    "### Block"
   ]
  },
  {
   "cell_type": "markdown",
   "metadata": {},
   "source": [
    "**Etcetera** with **MultiVariable**s\n",
    "\n",
    "An **Etcetera** is a placeholder for a portion of an **ExpressionList**.  A **MultiVariable** is a placeholder for multiple "
   ]
  },
  {
   "cell_type": "code",
   "execution_count": null,
   "metadata": {
    "collapsed": true
   },
   "outputs": [],
   "source": []
  }
 ],
 "metadata": {
  "kernelspec": {
   "display_name": "Python 2",
   "language": "python",
   "name": "python2"
  },
  "language_info": {
   "codemirror_mode": {
    "name": "ipython",
    "version": 2
   },
   "file_extension": ".py",
   "mimetype": "text/x-python",
   "name": "python",
   "nbconvert_exporter": "python",
   "pygments_lexer": "ipython2",
   "version": "2.7.10"
  }
 },
 "nbformat": 4,
 "nbformat_minor": 0
}
