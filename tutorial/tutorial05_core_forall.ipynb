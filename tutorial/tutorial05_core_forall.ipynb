{
 "cells": [
  {
   "cell_type": "markdown",
   "metadata": {},
   "source": [
    "Introducing Forall\n",
    "==================\n",
    "\n",
    "Now turn our attention to the derivation steps allowed in **Prove-It**.  We will start with *specialization* and *generalization* which both relate to `Forall`, $\\forall$.  As we examine *specialization*, it will be important to recall *expression substitution* in `tutorial01_core_expr`.  This is the most challenging and interesting derivation step.  The remaining derivation steps in subsequent tutorials are much more straightforward."
   ]
  },
  {
   "cell_type": "markdown",
   "metadata": {},
   "source": [
    "While `Forall` is a core concept, the **Forall** operation class is defined outside of the core.  It is defined in `proveit.logic.boolean.quantifiers.Forall` but is aliased as `proveit.Forall` (since it is a core concept and the core needs to access this class).  The core does not need to know the details of this `Forall` class.  For example, this class has various methods that are convenient for manipulating expressions with $\\forall$, but the core only needs to know how to check that a given **Expression** is a `Forall` **Expression**, how to access its various kinds of sub-**Expression**s, and how to create a new `Forall` **Expression**"
   ]
  },
  {
   "cell_type": "code",
   "execution_count": 1,
   "metadata": {
    "collapsed": false
   },
   "outputs": [
    {
     "data": {
      "image/png": "[encoded data removed]",
      "text/plain": [
       "forall_{ x  in S |  Q( x ) } P( x )"
      ]
     },
     "execution_count": 1,
     "metadata": {},
     "output_type": "execute_result"
    }
   ],
   "source": [
    "# Let us create a basic Forall expression and examine it\n",
    "from proveit import Forall\n",
    "from proveit.common import x, P, Px, Q, Qx, S\n",
    "basicForallExpr = Forall(x, Px, conditions=[Qx], domain=S)\n",
    "basicForallExpr"
   ]
  },
  {
   "cell_type": "markdown",
   "metadata": {},
   "source": [
    "The meaning of this **Expression** is that $P(x)$ is a true statement for all instances of $x$ for which $x \\in S$ and $Q(x)$ is true.  Let us examine the internal structure of this expression."
   ]
  },
  {
   "cell_type": "code",
   "execution_count": 2,
   "metadata": {
    "collapsed": false
   },
   "outputs": [
    {
     "data": {
      "image/png": "[encoded data removed]",
      "text/plain": [
       "<proveit._core_.expression.expr_info.ExpressionInfo instance at 0x10c1ff950>"
      ]
     },
     "execution_count": 2,
     "metadata": {},
     "output_type": "execute_result"
    }
   ],
   "source": [
    "basicForallExpr.exprInfo()"
   ]
  },
  {
   "cell_type": "markdown",
   "metadata": {},
   "source": [
    "`Forall` derives from `OperationOverInstances` (`proveit._generic_.genericOps.OperationOverInstances` aliased as `proveit.OperationOverInstance`) which defines the **NamedExpression** structures with `domain`, `instance_mapping`, `conditions`, and `instance_expression` sub-**Expression** roles.  This is a useful structure for all of the `OperationOverInstances` type of expressions ($\\exists$, $\\sum$, $\\prod$, etc., as well as $\\forall$).  In our example above, the `instance_mapping` defines the $\\forall$ quantification for each instance and is a **Lambda** that maps $x$ (the \"instance variable\") to an `instance_expression`, $P(x)$, as well as $x$-dependent `conditions`, $(Q(x))$.  The  `domain` over which $x$ is being quantified is $S$.  Each of these `Forall` parts may be accessed as follows:"
   ]
  },
  {
   "cell_type": "code",
   "execution_count": 3,
   "metadata": {
    "collapsed": false
   },
   "outputs": [
    {
     "data": {
      "image/png": "[encoded data removed]",
      "text/plain": [
       "( x )"
      ]
     },
     "execution_count": 3,
     "metadata": {},
     "output_type": "execute_result"
    }
   ],
   "source": [
    "basicForallExpr.instanceVars"
   ]
  },
  {
   "cell_type": "code",
   "execution_count": 4,
   "metadata": {
    "collapsed": false
   },
   "outputs": [
    {
     "data": {
      "image/png": "[encoded data removed]",
      "text/plain": [
       "P( x )"
      ]
     },
     "execution_count": 4,
     "metadata": {},
     "output_type": "execute_result"
    }
   ],
   "source": [
    "basicForallExpr.instanceExpr"
   ]
  },
  {
   "cell_type": "code",
   "execution_count": 5,
   "metadata": {
    "collapsed": false
   },
   "outputs": [
    {
     "data": {
      "image/png": "[encoded data removed]",
      "text/plain": [
       "( Q( x ) )"
      ]
     },
     "execution_count": 5,
     "metadata": {},
     "output_type": "execute_result"
    }
   ],
   "source": [
    "basicForallExpr.conditions"
   ]
  },
  {
   "cell_type": "code",
   "execution_count": 6,
   "metadata": {
    "collapsed": false
   },
   "outputs": [
    {
     "data": {
      "image/png": "[encoded data removed]",
      "text/plain": [
       "S"
      ]
     },
     "execution_count": 6,
     "metadata": {},
     "output_type": "execute_result"
    }
   ],
   "source": [
    "basicForallExpr.domain"
   ]
  },
  {
   "cell_type": "markdown",
   "metadata": {},
   "source": [
    "Specialization\n",
    "======"
   ]
  },
  {
   "cell_type": "markdown",
   "metadata": {},
   "source": [
    "\n",
    "### Basic Specialization\n",
    "\n",
    "Let us take our basic/generic example of the `Forall` expression above and specialize it with some other expression.  To do so, we will make assumptions to trivially allow this derivation step to be taken (just to show how this works)."
   ]
  },
  {
   "cell_type": "code",
   "execution_count": 7,
   "metadata": {
    "collapsed": false
   },
   "outputs": [
    {
     "data": {
      "image/png": "[encoded data removed]",
      "text/plain": [
       "P( f( y ) )"
      ]
     },
     "execution_count": 7,
     "metadata": {},
     "output_type": "execute_result"
    }
   ],
   "source": [
    "from proveit import Operation, InSet\n",
    "from proveit.common import fy\n",
    "assumptions = {basicForallExpr, Operation(Q, fy), InSet(fy, S)}\n",
    "stmt = basicForallExpr.specialize({x:fy}, assumptions=assumptions)\n",
    "stmt"
   ]
  },
  {
   "cell_type": "markdown",
   "metadata": {},
   "source": [
    "We have proven, somewhat trivially, that $P(f(y))$ is true assuming that $\\forall_{x \\in S | Q(x)} P(x)$, $f(y) \\in S$, $Q(f(y))$ are all true statements.  Note that $f$ and $y$ are free **Variable**s in the $P(f(y))$ expression.  When we have a free variable in **Prove-It**, it is taken to represent some arbitrary **Variable** that can take on any value.  Indeed, as long as our assumptions hold, $f$ and $y$ could be anything (as long as $f$ represents some **Operation** that accepts one parameter, but this is straightforward to enforce in the context without explicitly indicating this restriction).  One may think of this statement as having an implicit, preceding $\\forall_{f, y}$.  When we discuss *generalization* below, we will see how to make this explicit.\n",
    "\n",
    "Let is take a look at the proof for this statement."
   ]
  },
  {
   "cell_type": "code",
   "execution_count": 8,
   "metadata": {
    "collapsed": false
   },
   "outputs": [
    {
     "data": {
      "image/png": "[encoded data removed]",
      "text/plain": [
       "<proveit._core_.prover.Prover instance at 0x10c214e60>"
      ]
     },
     "execution_count": 8,
     "metadata": {},
     "output_type": "execute_result"
    }
   ],
   "source": [
    "stmt.proof()"
   ]
  },
  {
   "cell_type": "markdown",
   "metadata": {},
   "source": [
    "This indicates that the proof requires a *specialization* step and explicitly indicates the mapping being performed (taking $x$ to $f(y)$).  The subsequent proof steps that are required are simply proofs by assumption."
   ]
  },
  {
   "cell_type": "markdown",
   "metadata": {},
   "source": [
    "### Lambda scope restrictions\n",
    "\n",
    "In `tutorial01_core_expr`, we noted scoping restrictions that apply to **Lambda** expressions in the context of *expression substitution*.  That restriction carries over to *specialization* and is very important.  Consider the following example."
   ]
  },
  {
   "cell_type": "code",
   "execution_count": 9,
   "metadata": {
    "collapsed": false
   },
   "outputs": [
    {
     "data": {
      "image/png": "[encoded data removed]",
      "text/plain": [
       "forall_{ x } [exists_{ y } (x != y)]"
      ]
     },
     "execution_count": 9,
     "metadata": {},
     "output_type": "execute_result"
    }
   ],
   "source": [
    "from proveit.common import Pxy, y, fy\n",
    "from proveit.logic import Exists, NotEquals\n",
    "forallExistsExpr = Forall(x, Exists(y, NotEquals(x, y)))\n",
    "forallExistsExpr"
   ]
  },
  {
   "cell_type": "markdown",
   "metadata": {},
   "source": [
    "We are using `Exists` ($\\exists$) and `Equals` ($\\neq$) which do not have the special core status that `Forall` has and will be discussed further in the `logic` package tutorial.  We are just using them to make our point below more clear.  Just note that `Exists` has the same kind of structure as $\\forall$ and specifically acts as on **Operation** on an **Expression** with a **Lambda** function."
   ]
  },
  {
   "cell_type": "code",
   "execution_count": 10,
   "metadata": {
    "collapsed": false
   },
   "outputs": [
    {
     "data": {
      "image/png": "[encoded data removed]",
      "text/plain": [
       "<proveit._core_.expression.expr_info.ExpressionInfo instance at 0x10c1ffab8>"
      ]
     },
     "execution_count": 10,
     "metadata": {},
     "output_type": "execute_result"
    }
   ],
   "source": [
    "Exists(y, Pxy).exprInfo()"
   ]
  },
  {
   "cell_type": "markdown",
   "metadata": {},
   "source": [
    "If we try to specialize $x$ as $y$ in `nestedForall`, this will fail:"
   ]
  },
  {
   "cell_type": "code",
   "execution_count": 12,
   "metadata": {
    "collapsed": false
   },
   "outputs": [
    {
     "name": "stdout",
     "output_type": "stream",
     "text": [
      "EXPECTED ERROR: Must not make substitution with reserved variables  (i.e., arguments of a Lambda function)\n"
     ]
    }
   ],
   "source": [
    "from proveit import ScopingViolation\n",
    "try:\n",
    "    forallExistsExpr.specialize({x:y}, assumptions={forallExistsExpr})\n",
    "except ScopingViolation as e:\n",
    "    print \"EXPECTED ERROR:\", e"
   ]
  },
  {
   "cell_type": "markdown",
   "metadata": {},
   "source": [
    "This should fail.  We cannot derive $\\exists_y y \\neq y$ by assuming $\\forall_{ x } \\left[\\exists_y x \\neq y \\right]$.  The former is a stronger statement.  We chose this example, in fact, because the latter can be argued as typically true but the former is never true using reasonable definitions.  Where this goes wrong is in violating the scope of $\\exists_y$.  It is introducing $y$ as new **Variable** within the sub-expression $\\exists_y x \\neq y$.  It is off limits to $x$ which is quantified outside of this sub-expression.  We can specialize $x$ to whatever we want as long as we respect these scoping restrictions.  It is not simply $y$ that is off limits; all expressions involving $y$ are off limits:"
   ]
  },
  {
   "cell_type": "code",
   "execution_count": 14,
   "metadata": {
    "collapsed": false
   },
   "outputs": [
    {
     "name": "stdout",
     "output_type": "stream",
     "text": [
      "EXPECTED ERROR: Must not make substitution with reserved variables  (i.e., arguments of a Lambda function)\n"
     ]
    }
   ],
   "source": [
    "from proveit import ScopingViolation\n",
    "try:\n",
    "    forallExistsExpr.specialize({x:fy}, assumptions={forallExistsExpr})\n",
    "except ScopingViolation as e:\n",
    "    print \"EXPECTED ERROR:\", e"
   ]
  },
  {
   "cell_type": "markdown",
   "metadata": {},
   "source": [
    "It should also be noted that within a scope, a **Variable** be reused with a different meaning.  This should generally be avoided as it makes **Expression**s unclear, but the functionality should be well-defined in case it every happens.  If this happens, we treat it as a distinct **Variable** from anything outside of the scope (that just happens to have the same name).  It can be confusing and should be avoided, but it is well-defined.  For example,"
   ]
  },
  {
   "cell_type": "code",
   "execution_count": 15,
   "metadata": {
    "collapsed": false
   },
   "outputs": [
    {
     "data": {
      "image/png": "[encoded data removed]",
      "text/plain": [
       "forall_{ x } ( P( x ) and [forall_{ x } Q( x )] )"
      ]
     },
     "execution_count": 15,
     "metadata": {},
     "output_type": "execute_result"
    }
   ],
   "source": [
    "from proveit.logic import And\n",
    "redundantInstanceVarExpr = Forall(x, And(Px, Forall(x, Qx)))\n",
    "redundantInstanceVarExpr"
   ]
  },
  {
   "cell_type": "code",
   "execution_count": 16,
   "metadata": {
    "collapsed": false
   },
   "outputs": [
    {
     "data": {
      "image/png": "[encoded data removed]",
      "text/plain": [
       " P( f( y ) ) and [forall_{ x } Q( x )] "
      ]
     },
     "execution_count": 16,
     "metadata": {},
     "output_type": "execute_result"
    }
   ],
   "source": [
    "# specializing the outer x does not and should not change the inner x which is treated as a distinct Variable\n",
    "redundantInstanceVarExpr.specialize({x:fy}, assumptions={redundantInstanceVarExpr})"
   ]
  },
  {
   "cell_type": "markdown",
   "metadata": {},
   "source": [
    "### Operand, operator, or operation specialization\n",
    "\n",
    "*Specializing* different parts of an **Operation** works essentially the same way as it does with *expression substition*.  *Specializing* the operation itself will be slightly different but will be similar.\n",
    "\n",
    "We will use the `substitution` axiom of `proveit.logic.equality` for demonstrations in this section out of convenience.  Axioms and the `proveit.logic` package will be discussed in more detail later.  For now, we note that axioms (and theorems) are taken to be true statements without proof as you can see below."
   ]
  },
  {
   "cell_type": "code",
   "execution_count": 1,
   "metadata": {
    "collapsed": false
   },
   "outputs": [
    {
     "data": {
      "image/png": "[encoded data removed]",
      "text/plain": [
       "forall_{ f , x , y } ((x = y) => (f( x ) = f( y )))"
      ]
     },
     "execution_count": 1,
     "metadata": {},
     "output_type": "execute_result"
    }
   ],
   "source": [
    "from proveit.logic.equality.axioms import substitution\n",
    "substitution"
   ]
  },
  {
   "cell_type": "code",
   "execution_count": 2,
   "metadata": {
    "collapsed": false
   },
   "outputs": [
    {
     "data": {
      "image/png": "[encoded data removed]",
      "text/plain": [
       "<proveit._core_.prover.Prover instance at 0x1057a3758>"
      ]
     },
     "execution_count": 2,
     "metadata": {},
     "output_type": "execute_result"
    }
   ],
   "source": [
    "substitution.proof()"
   ]
  },
  {
   "cell_type": "markdown",
   "metadata": {},
   "source": [
    "Operator and operand *specialization* is straightforward:"
   ]
  },
  {
   "cell_type": "code",
   "execution_count": 4,
   "metadata": {
    "collapsed": false
   },
   "outputs": [
    {
     "data": {
      "image/png": "[encoded data removed]",
      "text/plain": [
       "(x = y) => (g( x ) = g( y ))"
      ]
     },
     "execution_count": 4,
     "metadata": {},
     "output_type": "execute_result"
    }
   ],
   "source": [
    "from proveit.common import f, g\n",
    "gSubstitution = substitution.specialize({f:g})\n",
    "gSubstitution._getOrMakeProver().stmtToProve"
   ]
  },
  {
   "cell_type": "code",
   "execution_count": 11,
   "metadata": {
    "collapsed": false
   },
   "outputs": [
    {
     "data": {
      "image/png": "[encoded data removed]",
      "text/plain": [
       "<proveit._core_.prover.Prover instance at 0x1057b1cb0>"
      ]
     },
     "execution_count": 11,
     "metadata": {},
     "output_type": "execute_result"
    }
   ],
   "source": [
    "from proveit._core_.prover import Prover\n",
    "Prover._tmpProvers[gSubstitution][0]"
   ]
  },
  {
   "cell_type": "code",
   "execution_count": 17,
   "metadata": {
    "collapsed": false
   },
   "outputs": [
    {
     "data": {
      "image/png": "[encoded data removed]",
      "text/plain": [
       "forall_{ x , y } P( x , y )"
      ]
     },
     "execution_count": 17,
     "metadata": {},
     "output_type": "execute_result"
    }
   ],
   "source": [
    "Forall((x, y), Pxy)"
   ]
  },
  {
   "cell_type": "code",
   "execution_count": 18,
   "metadata": {
    "collapsed": false
   },
   "outputs": [
    {
     "name": "stdout",
     "output_type": "stream",
     "text": [
      "EXPECTED ERROR: Lambda argument Variables must be unique with respect to each other.\n"
     ]
    }
   ],
   "source": [
    "try:\n",
    "    Forall((x, x), Px)\n",
    "except ValueError as e:\n",
    "    print 'EXPECTED ERROR:', e"
   ]
  },
  {
   "cell_type": "markdown",
   "metadata": {},
   "source": [
    "### **ExpressionList**, 1-D **MultiVariable**s, and **Etcetera**"
   ]
  },
  {
   "cell_type": "markdown",
   "metadata": {},
   "source": [
    "### **ExpressionTensor**, multi-dimensional **MultiVariable**s, and **Block**"
   ]
  },
  {
   "cell_type": "markdown",
   "metadata": {},
   "source": [
    "Generalization\n",
    "========"
   ]
  },
  {
   "cell_type": "code",
   "execution_count": null,
   "metadata": {
    "collapsed": true
   },
   "outputs": [],
   "source": []
  }
 ],
 "metadata": {
  "kernelspec": {
   "display_name": "Python 2",
   "language": "python",
   "name": "python2"
  },
  "language_info": {
   "codemirror_mode": {
    "name": "ipython",
    "version": 2
   },
   "file_extension": ".py",
   "mimetype": "text/x-python",
   "name": "python",
   "nbconvert_exporter": "python",
   "pygments_lexer": "ipython2",
   "version": "2.7.10"
  }
 },
 "nbformat": 4,
 "nbformat_minor": 0
}
