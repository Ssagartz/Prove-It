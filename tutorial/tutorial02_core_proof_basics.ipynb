{
 "cells": [
  {
   "cell_type": "markdown",
   "metadata": {
    "collapsed": true
   },
   "source": [
    "Creating \"known truths\"\n",
    "================\n",
    "\n",
    "In **Prove-It**, proving an **Expression** to be a true statement under some set of assumptions creates a **KnownTruth** object and a **Proof** object.  **Prove-It**, in its core, is agnostic to intrinsic truth-aptness of **Expression**s except when they are proven and become \"known truths\".  The `proveit.logic` package defines the Boolean concept which may be used for making statements of the form $A \\in \\mathbb{B}$ (where $\\mathbb{B}$ represents the Boolean set of true or false), but this is outside **Prove-It**'s core.  As far as the core is concerned, an **Expression** is either proven or not; if it is not proven, it may or may not be truth-apt."
   ]
  },
  {
   "cell_type": "markdown",
   "metadata": {},
   "source": [
    "A **KnownTruth** contains assumptions, as **Expression**s, and the **Expression** that is known to be a true statement under these assumptions.  It is also associated with a **Proof**.  The associated **Proof** may get updated over time with a stronger (fewer assumption requirements) or newer proof of its validity.  Conveniently, a **KnownTruth** object accesses the methods of the underlying proven **Expression** seemlessly.  Using Python tricks (specifically, overloading the `__getattr__` and `__dir__` methods), the **KnownTruth** behaves in most ways as if it were the **Expression** it is wrapping.  This is useful because **Expression** objects typically have convenience methods that are specific to the kind of expression, but it is also nice to display the object as a **KnownTruth**."
   ]
  },
  {
   "cell_type": "markdown",
   "metadata": {},
   "source": [
    "A **KnownTruth** with some set of assumptions ${\\cal A}$ is displayed in the form ${\\cal A} \\boldsymbol{\\vdash} S$ (or simply $\\boldsymbol{\\vdash} S$ if ${\\cal A}$ is empty), where $S$ is the (conditionally) true statement.  This bolded single turnstyle $\\boldsymbol{\\vdash}$ is **Prove-It**'s indication that the **Expression** on the right is derivable from the assumptions on the left.  If one wishes to make **Prove-It** **Expression**s that use this $\\vdash$ operator symbol, it can be left un-bolded to distinguish it from $\\boldsymbol{\\vdash}$."
   ]
  },
  {
   "cell_type": "code",
   "execution_count": 1,
   "metadata": {
    "collapsed": false
   },
   "outputs": [
    {
     "data": {
      "image/png": "[encoded data removed]",
      "text/plain": [
       "<proveit._core_.expression.expr_info.ExpressionInfo instance at 0x10c3347a0>"
      ]
     },
     "execution_count": 1,
     "metadata": {},
     "output_type": "execute_result"
    }
   ],
   "source": [
    "# For example,\n",
    "from proveit.common import fx\n",
    "# fx is f(x) which is simply an Operation with a Variable operator and a Variable operand,\n",
    "# but that is irrelevant.  It was chosen arbitrarily.\n",
    "fx.exprInfo()"
   ]
  },
  {
   "cell_type": "code",
   "execution_count": 2,
   "metadata": {
    "collapsed": false
   },
   "outputs": [
    {
     "data": {
      "image/png": "[encoded data removed]",
      "text/plain": [
       "f( x )"
      ]
     },
     "execution_count": 2,
     "metadata": {},
     "output_type": "execute_result"
    }
   ],
   "source": [
    "fxTruth = fx.prove(assumptions={fx})\n",
    "fxTruth"
   ]
  },
  {
   "cell_type": "markdown",
   "metadata": {},
   "source": [
    "The `prove` method attempts to prove that the **Expression** is a true statement under the given set of assumptions and returns the **KnownTruth** object if it is successful.  In this case, $f(x)$ is trivially true if we use $f(x)$ as an assumption.  Again, **Prove-It** is agnostic to whether or not $f(x)$ is truth-apt.  This simply says that if $f(x)$ is assumed to be a true statement, then $f(x)$ is a true statement.  If `prove` is not successful, it raises a `ProofFailure` exception."
   ]
  },
  {
   "cell_type": "code",
   "execution_count": 3,
   "metadata": {
    "collapsed": false
   },
   "outputs": [
    {
     "name": "stdout",
     "output_type": "stream",
     "text": [
      "EXPECTED ERROR:  Unable to automatically prove f( x ) assuming \n"
     ]
    }
   ],
   "source": [
    "from proveit import ProofFailure\n",
    "try:\n",
    "    fx.prove()\n",
    "except ProofFailure as e:\n",
    "    print \"EXPECTED ERROR: \", e"
   ]
  },
  {
   "cell_type": "markdown",
   "metadata": {},
   "source": [
    "To obtain the **Expression** from the **KnownTruth**, and be able to display it as the **Expression** only, access the `expr` attribute:"
   ]
  },
  {
   "cell_type": "code",
   "execution_count": 4,
   "metadata": {
    "collapsed": false
   },
   "outputs": [
    {
     "data": {
      "image/png": "[encoded data removed]",
      "text/plain": [
       "f( x )"
      ]
     },
     "execution_count": 4,
     "metadata": {},
     "output_type": "execute_result"
    }
   ],
   "source": [
    "fxTruth.expr"
   ]
  },
  {
   "cell_type": "markdown",
   "metadata": {},
   "source": [
    "But note that we may use the **KnownTruth** object as if it were the **Expression** object for most practical purposes.  It aquires all of the **Expression**'s attributes, except for some that it has overridden (such as `__class__`, `latex`, and `string`)."
   ]
  },
  {
   "cell_type": "code",
   "execution_count": 5,
   "metadata": {
    "collapsed": false
   },
   "outputs": [
    {
     "name": "stdout",
     "output_type": "stream",
     "text": [
      "['__doc__', '__eq__', '__hash__', '__init__', '__module__', '__ne__', '__repr__', '__setattr__', '__str__', '_config_latex_tool', '_coreInfo', '_generate_png', '_proof', '_repr_png_', '_restrictionChecked', '_specialize_or_relabel', '_subExpressions', '_unique_id', '_unique_rep', '_validateRelabelMap', 'assumptions', 'assumptionsSet', 'expr', 'exprInfo', 'expr_to_prove', 'formatted', 'freeMultiVars', 'freeVars', 'latex', 'make', 'operands', 'operator', 'operatorOfOperation', 'png', 'prove', 'proveByEval', 'relabel', 'relabeled', 'safeDummyVar', 'safeDummyVars', 'specialize', 'string', 'subExprIter', 'substituted', 'unique_id_map', 'usedVars']\n"
     ]
    }
   ],
   "source": [
    "print dir(fxTruth)"
   ]
  },
  {
   "cell_type": "code",
   "execution_count": 6,
   "metadata": {
    "collapsed": false
   },
   "outputs": [
    {
     "data": {
      "image/png": "[encoded data removed]",
      "text/plain": [
       "( x )"
      ]
     },
     "execution_count": 6,
     "metadata": {},
     "output_type": "execute_result"
    }
   ],
   "source": [
    "fxTruth.operands"
   ]
  },
  {
   "cell_type": "code",
   "execution_count": 7,
   "metadata": {
    "collapsed": false
   },
   "outputs": [
    {
     "data": {
      "text/plain": [
       "<class proveit._core_.known_truth.KnownTruth at 0x10c2c91f0>"
      ]
     },
     "execution_count": 7,
     "metadata": {},
     "output_type": "execute_result"
    }
   ],
   "source": [
    "fxTruth.__class__ # this is a giveaway that it is not an Expression"
   ]
  },
  {
   "cell_type": "code",
   "execution_count": 8,
   "metadata": {
    "collapsed": false
   },
   "outputs": [
    {
     "data": {
      "text/plain": [
       "<class proveit._core_.expression.operation.Operation at 0x10be4f3f8>"
      ]
     },
     "execution_count": 8,
     "metadata": {},
     "output_type": "execute_result"
    }
   ],
   "source": [
    "fxTruth.expr.__class__ # here it is"
   ]
  },
  {
   "cell_type": "markdown",
   "metadata": {},
   "source": [
    "### Proof objects\n",
    "\n",
    "Call the `proof` method of the **KnownTruth** to access the associated **Proof** object that proves the known truth.  A **Proof** is a DAG (directed, acyclic graph) of derivation steps that connect the known truth to *axioms*, *theorems*, or *assumptions*."
   ]
  },
  {
   "cell_type": "code",
   "execution_count": 9,
   "metadata": {
    "collapsed": false
   },
   "outputs": [
    {
     "data": {
      "image/png": "[encoded data removed]",
      "text/plain": [
       "<proveit._core_.proof.Assumption instance at 0x10c343290>"
      ]
     },
     "execution_count": 9,
     "metadata": {},
     "output_type": "execute_result"
    }
   ],
   "source": [
    "fxTruth.proof()"
   ]
  },
  {
   "cell_type": "markdown",
   "metadata": {},
   "source": [
    "This is a trivial example.  In the next three tutorial notebooks, we will be examining the different kinds of derivation steps for making proofs and we will see more interesting examples of **KnownTruth**s and **Proof**s.  For now, we simply note that this display is similar to the way that the **Expression** DAG is displayed using `exprInfo`.  The \"root\" node is the known truth that is proven and is indexed as `0`.  In general, with exception to trivial examples like this one, it will have requirements supplied as a list of other indices (similarly to the **sub-expressions** in `exprInfo`)."
   ]
  },
  {
   "cell_type": "markdown",
   "metadata": {},
   "source": [
    "### Default assumptions\n",
    "\n",
    "If you do not supply the `proven` method with a set of assumptions, it will use `proveit._core_.defaults_and_settings.defaults.assumptions` (aliased as `proveit.defaults.assumptions`).  By default, this \"default\" is the empty set, but it can be changed for convenience."
   ]
  },
  {
   "cell_type": "code",
   "execution_count": 10,
   "metadata": {
    "collapsed": false
   },
   "outputs": [
    {
     "data": {
      "image/png": "[encoded data removed]",
      "text/plain": [
       "f( x )"
      ]
     },
     "execution_count": 10,
     "metadata": {},
     "output_type": "execute_result"
    }
   ],
   "source": [
    "from proveit import defaults\n",
    "defaults.assumptions = {fx}\n",
    "newFxTruth = fx.prove()\n",
    "newFxTruth"
   ]
  },
  {
   "cell_type": "code",
   "execution_count": 11,
   "metadata": {
    "collapsed": false
   },
   "outputs": [
    {
     "data": {
      "image/png": "[encoded data removed]",
      "text/plain": [
       "<proveit._core_.proof.Assumption instance at 0x10c343290>"
      ]
     },
     "execution_count": 11,
     "metadata": {},
     "output_type": "execute_result"
    }
   ],
   "source": [
    "newFxTruth._proof"
   ]
  },
  {
   "cell_type": "markdown",
   "metadata": {},
   "source": [
    "### Storing expression images\n",
    "\n",
    "If you try running any of these IPython notebook tutorials yourself, you should notice that it takes much longer the first time than subsequent times.  The bottleneck for these examples is simply compiling LaTeX into png images.  The first time this is done for any **Expression**, **KnownTruth**, **ExpressionInfo** (from calling the `exprInfo` method of an **Expression**), or **Proof** (from calling the `proof` method of a **KnownTruth**), the images are stored to the disk for any future needs.\n",
    "\n",
    "By default, the information is stored in a `.pv_it` folder in the current directory.  This default can be changed by accessing `proveit._core_.defaults_and_settings.storage` (aliased as `proveit.storage`).  The storage requirements are not substantial, so there should not be any need to change this default typically.  Feel free to skip the rest of this section if you do not anticipate needing to alter this default and you are not concerned about the clutter from this storage."
   ]
  },
  {
   "cell_type": "code",
   "execution_count": 12,
   "metadata": {
    "collapsed": false
   },
   "outputs": [
    {
     "data": {
      "image/png": "[encoded data removed]",
      "text/plain": [
       "g( y )"
      ]
     },
     "execution_count": 12,
     "metadata": {},
     "output_type": "execute_result"
    }
   ],
   "source": [
    "# But if you want to turn off this storage, you can.\n",
    "from proveit import storage\n",
    "from proveit.common import gy\n",
    "storage.directory = None\n",
    "gy # not retrieved or placed into storage (this take extra time generate the image)"
   ]
  },
  {
   "cell_type": "code",
   "execution_count": 13,
   "metadata": {
    "collapsed": false
   },
   "outputs": [
    {
     "data": {
      "image/png": "[encoded data removed]",
      "text/plain": [
       "P( x )"
      ]
     },
     "execution_count": 13,
     "metadata": {},
     "output_type": "execute_result"
    }
   ],
   "source": [
    "# Or you can use an alternative storage directory\n",
    "import os\n",
    "try:\n",
    "    os.mkdir('test_storage')\n",
    "except:\n",
    "    pass\n",
    "storage.directory = 'test_storage'\n",
    "from proveit.common import Px\n",
    "Px"
   ]
  },
  {
   "cell_type": "code",
   "execution_count": 14,
   "metadata": {
    "collapsed": false
   },
   "outputs": [
    {
     "data": {
      "text/plain": [
       "['2a9e303518f1196ce252c7dd18e87a9873d2a523',\n",
       " '7de344579b991697b85106fc0bd595cb5ed4c24f',\n",
       " 'bf0e28d9489ec6c57b070e40ff70ce9660aa6480',\n",
       " 'e155a8e7c621eb7073a367e5cc58abc0fb4cab5e']"
      ]
     },
     "execution_count": 14,
     "metadata": {},
     "output_type": "execute_result"
    }
   ],
   "source": [
    "# You can see that it did store some things in the '.pv_it' folder of this new directory.\n",
    "# These are stored by hash values with collision protection (collision are astronomically\n",
    "# unlikely at these hash string lengths, but it never hurts to be on the safe side).\n",
    "os.listdir(os.path.join('test_storage', '.pv_it')) "
   ]
  },
  {
   "cell_type": "code",
   "execution_count": 15,
   "metadata": {
    "collapsed": false
   },
   "outputs": [],
   "source": [
    "# You can also clear the storage if you wish:\n",
    "storage.clear() # or equivalent just delete the '.pv_it' folder."
   ]
  },
  {
   "cell_type": "code",
   "execution_count": 16,
   "metadata": {
    "collapsed": false
   },
   "outputs": [
    {
     "name": "stdout",
     "output_type": "stream",
     "text": [
      "EXPECTED ERROR: [Errno 2] No such file or directory: 'test_storage/.pv_it'\n"
     ]
    }
   ],
   "source": [
    "try:\n",
    "    os.listdir(os.path.join('test_storage', '.pv_it')) \n",
    "except OSError as e:\n",
    "    print \"EXPECTED ERROR:\", e"
   ]
  },
  {
   "cell_type": "markdown",
   "metadata": {},
   "source": [
    "The only consequence is that it will need to regenerate the images next time (it is still stored in memory for this IPython session):"
   ]
  },
  {
   "cell_type": "code",
   "execution_count": 17,
   "metadata": {
    "collapsed": false
   },
   "outputs": [
    {
     "name": "stdout",
     "output_type": "stream",
     "text": [
      "png is stored\n"
     ]
    },
    {
     "data": {
      "image/png": "[encoded data removed]",
      "text/plain": [
       "P( x )"
      ]
     },
     "execution_count": 17,
     "metadata": {},
     "output_type": "execute_result"
    }
   ],
   "source": [
    "# it is still stored in memory as the png attribute\n",
    "if Px.png is not None:\n",
    "    print \"png is stored\"\n",
    "Px"
   ]
  },
  {
   "cell_type": "code",
   "execution_count": 18,
   "metadata": {
    "collapsed": true
   },
   "outputs": [],
   "source": [
    "os.rmdir('test_storage') # let's delete this test storage directory now"
   ]
  },
  {
   "cell_type": "code",
   "execution_count": null,
   "metadata": {
    "collapsed": true
   },
   "outputs": [],
   "source": []
  }
 ],
 "metadata": {
  "kernelspec": {
   "display_name": "Python 2",
   "language": "python",
   "name": "python2"
  },
  "language_info": {
   "codemirror_mode": {
    "name": "ipython",
    "version": 2
   },
   "file_extension": ".py",
   "mimetype": "text/x-python",
   "name": "python",
   "nbconvert_exporter": "python",
   "pygments_lexer": "ipython2",
   "version": "2.7.10"
  }
 },
 "nbformat": 4,
 "nbformat_minor": 0
}
