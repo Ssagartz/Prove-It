{
 "cells": [
  {
   "cell_type": "markdown",
   "metadata": {
    "deletable": true,
    "editable": true
   },
   "source": [
    "Common expressions for context <a href=\"_context_.ipynb\">socks_demo</a>\n",
    "========"
   ]
  },
  {
   "cell_type": "code",
   "execution_count": 1,
   "metadata": {
    "collapsed": true,
    "deletable": true,
    "editable": true
   },
   "outputs": [],
   "source": [
    "import proveit\n",
    "# the context is in the current directory:\n",
    "context = proveit.Context('.') # adds context root to sys.path if necessary\n",
    "from proveit import Variable, Literal\n",
    "from proveit.logic import Equals, NotEquals, Or, Card, InSet\n",
    "from proveit.number import GreaterEq, num\n",
    "from proveit._common_ import a, b, c, S\n",
    "from socks_demo.socks import MatchingSubset, IsMatch, Color"
   ]
  },
  {
   "cell_type": "code",
   "execution_count": 2,
   "metadata": {
    "collapsed": false,
    "deletable": true,
    "editable": true,
    "scrolled": false
   },
   "outputs": [
    {
     "name": "stdout",
     "output_type": "stream",
     "text": [
      "Defining common sub-expressions for context 'socks_demo'\n",
      "Subsequent end-of-cell assignments will define common sub-expressions\n",
      "%end_common will finalize the definitions\n"
     ]
    }
   ],
   "source": [
    "%begin_common"
   ]
  },
  {
   "cell_type": "markdown",
   "metadata": {
    "deletable": true,
    "editable": true
   },
   "source": [
    "**Variable used to represent sock color:**"
   ]
  },
  {
   "cell_type": "code",
   "execution_count": 3,
   "metadata": {
    "collapsed": false,
    "deletable": true,
    "editable": true
   },
   "outputs": [
    {
     "data": {
      "text/html": [
       "<strong id=\"color\">color:</strong> <a href=\"__pv_it\\ea113ba1f191f74eef2006b61952f3955888d3370\\expr.ipynb\" target=\"_blank\"><img src=\"__pv_it\\ea113ba1f191f74eef2006b61952f3955888d3370\\expr.png\" style=\"display:inline;vertical-align:middle;\" /></a><br>"
      ],
      "text/plain": [
       "color: color"
      ]
     },
     "execution_count": 3,
     "metadata": {},
     "output_type": "execute_result"
    }
   ],
   "source": [
    "color = Variable(stringFormat = 'color', latexFormat = r'{\\rm color}')"
   ]
  },
  {
   "cell_type": "markdown",
   "metadata": {
    "deletable": true,
    "editable": true
   },
   "source": [
    "**Color of the white socks:**"
   ]
  },
  {
   "cell_type": "code",
   "execution_count": 4,
   "metadata": {
    "collapsed": false,
    "deletable": true,
    "editable": true,
    "scrolled": true
   },
   "outputs": [
    {
     "data": {
      "text/html": [
       "<strong id=\"WHITE\">WHITE:</strong> <a href=\"__pv_it\\352a88b6d67984e46e144eb1f6ba32d43f67de550\\expr.ipynb\" target=\"_blank\"><img src=\"__pv_it\\352a88b6d67984e46e144eb1f6ba32d43f67de550\\expr.png\" style=\"display:inline;vertical-align:middle;\" /></a><br>"
      ],
      "text/plain": [
       "WHITE: WHITE"
      ]
     },
     "execution_count": 4,
     "metadata": {},
     "output_type": "execute_result"
    }
   ],
   "source": [
    "WHITE = Literal(stringFormat = 'WHITE', latexFormat = r'{\\rm WHITE}')"
   ]
  },
  {
   "cell_type": "markdown",
   "metadata": {
    "deletable": true,
    "editable": true
   },
   "source": [
    "**Color of the black socks:**"
   ]
  },
  {
   "cell_type": "code",
   "execution_count": 5,
   "metadata": {
    "collapsed": false,
    "deletable": true,
    "editable": true
   },
   "outputs": [
    {
     "data": {
      "text/html": [
       "<strong id=\"BLACK\">BLACK:</strong> <a href=\"__pv_it\\04bd5d49fde225619c77fc3c91baef8e0d5d916a0\\expr.ipynb\" target=\"_blank\"><img src=\"__pv_it\\04bd5d49fde225619c77fc3c91baef8e0d5d916a0\\expr.png\" style=\"display:inline;vertical-align:middle;\" /></a><br>"
      ],
      "text/plain": [
       "BLACK: BLACK"
      ]
     },
     "execution_count": 5,
     "metadata": {},
     "output_type": "execute_result"
    }
   ],
   "source": [
    "BLACK = Literal(stringFormat = 'BLACK', latexFormat = r'{\\rm BLACK}')"
   ]
  },
  {
   "cell_type": "markdown",
   "metadata": {
    "deletable": true,
    "editable": true
   },
   "source": [
    "**Set of dresser socks:**"
   ]
  },
  {
   "cell_type": "code",
   "execution_count": 6,
   "metadata": {
    "collapsed": false,
    "deletable": true,
    "editable": true
   },
   "outputs": [
    {
     "data": {
      "text/html": [
       "<strong id=\"Dsocks\">Dsocks:</strong> <a href=\"__pv_it\\08c1e5bb695208e3d57b2730fe06808673fe03ae0\\expr.ipynb\" target=\"_blank\"><img src=\"__pv_it\\08c1e5bb695208e3d57b2730fe06808673fe03ae0\\expr.png\" style=\"display:inline;vertical-align:middle;\" /></a><br>"
      ],
      "text/plain": [
       "Dsocks: D"
      ]
     },
     "execution_count": 6,
     "metadata": {},
     "output_type": "execute_result"
    }
   ],
   "source": [
    "Dsocks = Literal(stringFormat = 'D', latexFormat = r'{\\cal D}')"
   ]
  },
  {
   "cell_type": "markdown",
   "metadata": {
    "deletable": true,
    "editable": true
   },
   "source": [
    "**Set of white dresser socks:**"
   ]
  },
  {
   "cell_type": "code",
   "execution_count": 7,
   "metadata": {
    "collapsed": false,
    "deletable": true,
    "editable": true
   },
   "outputs": [
    {
     "data": {
      "text/html": [
       "<strong id=\"Wsocks\">Wsocks:</strong> <a href=\"__pv_it\\64c9feb3d11b664c4d038f7bc6b2a2ff8323933a0\\expr.ipynb\" target=\"_blank\"><img src=\"__pv_it\\64c9feb3d11b664c4d038f7bc6b2a2ff8323933a0\\expr.png\" style=\"display:inline;vertical-align:middle;\" /></a><br>"
      ],
      "text/plain": [
       "Wsocks: W"
      ]
     },
     "execution_count": 7,
     "metadata": {},
     "output_type": "execute_result"
    }
   ],
   "source": [
    "Wsocks = Literal(stringFormat = 'W', latexFormat = r'{\\cal W}')"
   ]
  },
  {
   "cell_type": "markdown",
   "metadata": {
    "deletable": true,
    "editable": true
   },
   "source": [
    "**Set of black dresser socks:**"
   ]
  },
  {
   "cell_type": "code",
   "execution_count": 8,
   "metadata": {
    "collapsed": false,
    "deletable": true,
    "editable": true
   },
   "outputs": [
    {
     "data": {
      "text/html": [
       "<strong id=\"Bsocks\">Bsocks:</strong> <a href=\"__pv_it\\a402692a1b83242c40d733d39fa7d72aee77d7610\\expr.ipynb\" target=\"_blank\"><img src=\"__pv_it\\a402692a1b83242c40d733d39fa7d72aee77d7610\\expr.png\" style=\"display:inline;vertical-align:middle;\" /></a><br>"
      ],
      "text/plain": [
       "Bsocks: B"
      ]
     },
     "execution_count": 8,
     "metadata": {},
     "output_type": "execute_result"
    }
   ],
   "source": [
    "Bsocks = Literal(stringFormat = 'B', latexFormat = r'{\\cal B}')"
   ]
  },
  {
   "cell_type": "markdown",
   "metadata": {
    "deletable": true,
    "editable": true
   },
   "source": [
    "**Set of chosen socks:**"
   ]
  },
  {
   "cell_type": "code",
   "execution_count": 9,
   "metadata": {
    "collapsed": false,
    "deletable": true,
    "editable": true
   },
   "outputs": [
    {
     "data": {
      "text/html": [
       "<strong id=\"cSocks\">cSocks:</strong> <a href=\"__pv_it\\75080fce4bcf66fc8d0a135b24bb3437e73a535b0\\expr.ipynb\" target=\"_blank\"><img src=\"__pv_it\\75080fce4bcf66fc8d0a135b24bb3437e73a535b0\\expr.png\" style=\"display:inline;vertical-align:middle;\" /></a><br>"
      ],
      "text/plain": [
       "cSocks: c"
      ]
     },
     "execution_count": 9,
     "metadata": {},
     "output_type": "execute_result"
    }
   ],
   "source": [
    "cSocks = Literal(stringFormat = 'c')"
   ]
  },
  {
   "cell_type": "markdown",
   "metadata": {
    "deletable": true,
    "editable": true
   },
   "source": [
    "**Set of chosen white socks:**"
   ]
  },
  {
   "cell_type": "code",
   "execution_count": 10,
   "metadata": {
    "collapsed": false,
    "deletable": true,
    "editable": true
   },
   "outputs": [
    {
     "data": {
      "text/html": [
       "<strong id=\"wSocks\">wSocks:</strong> <a href=\"__pv_it\\ae83192e7a2843a09f6c472973f82c2d8434e9fa0\\expr.ipynb\" target=\"_blank\"><img src=\"__pv_it\\ae83192e7a2843a09f6c472973f82c2d8434e9fa0\\expr.png\" style=\"display:inline;vertical-align:middle;\" /></a><br>"
      ],
      "text/plain": [
       "wSocks: w"
      ]
     },
     "execution_count": 10,
     "metadata": {},
     "output_type": "execute_result"
    }
   ],
   "source": [
    "wSocks = Literal(stringFormat = 'w')"
   ]
  },
  {
   "cell_type": "markdown",
   "metadata": {
    "deletable": true,
    "editable": true
   },
   "source": [
    "**Set of chosen black socks:**"
   ]
  },
  {
   "cell_type": "code",
   "execution_count": 11,
   "metadata": {
    "collapsed": false,
    "deletable": true,
    "editable": true
   },
   "outputs": [
    {
     "data": {
      "text/html": [
       "<strong id=\"bSocks\">bSocks:</strong> <a href=\"__pv_it\\1f75904b07fa8e6e28725299b5b98348c674d86e0\\expr.ipynb\" target=\"_blank\"><img src=\"__pv_it\\1f75904b07fa8e6e28725299b5b98348c674d86e0\\expr.png\" style=\"display:inline;vertical-align:middle;\" /></a><br>"
      ],
      "text/plain": [
       "bSocks: b"
      ]
     },
     "execution_count": 11,
     "metadata": {},
     "output_type": "execute_result"
    }
   ],
   "source": [
    "bSocks = Literal(stringFormat = 'b')"
   ]
  },
  {
   "cell_type": "markdown",
   "metadata": {
    "deletable": true,
    "editable": true
   },
   "source": [
    "**Number of chosen socks:**"
   ]
  },
  {
   "cell_type": "code",
   "execution_count": 12,
   "metadata": {
    "collapsed": false,
    "deletable": true,
    "editable": true
   },
   "outputs": [
    {
     "data": {
      "text/html": [
       "<strong id=\"N\">N:</strong> <a href=\"__pv_it\\101d0b28b05966047320b767bb9e7bbf4cdd0b6f0\\expr.ipynb\" target=\"_blank\"><img src=\"__pv_it\\101d0b28b05966047320b767bb9e7bbf4cdd0b6f0\\expr.png\" style=\"display:inline;vertical-align:middle;\" /></a><br>"
      ],
      "text/plain": [
       "N: N"
      ]
     },
     "execution_count": 12,
     "metadata": {},
     "output_type": "execute_result"
    }
   ],
   "source": [
    "N = Literal(stringFormat = 'N')"
   ]
  },
  {
   "cell_type": "markdown",
   "metadata": {
    "deletable": true,
    "editable": true
   },
   "source": [
    "**Expression for a generic matching subset:**"
   ]
  },
  {
   "cell_type": "code",
   "execution_count": 13,
   "metadata": {
    "collapsed": false,
    "deletable": true,
    "editable": true
   },
   "outputs": [
    {
     "data": {
      "text/html": [
       "<strong id=\"anyMatches\">anyMatches:</strong> <a href=\"__pv_it\\f82bfeb9f9b8c6521557be516d12c6379eeae6210\\expr.ipynb\" target=\"_blank\"><img src=\"__pv_it\\f82bfeb9f9b8c6521557be516d12c6379eeae6210\\expr.png\" style=\"display:inline;vertical-align:middle;\" /></a><br>"
      ],
      "text/plain": [
       "anyMatches: MatchingSubset(S,color)"
      ]
     },
     "execution_count": 13,
     "metadata": {},
     "output_type": "execute_result"
    }
   ],
   "source": [
    "anyMatches = MatchingSubset(S, color)"
   ]
  },
  {
   "cell_type": "markdown",
   "metadata": {
    "deletable": true,
    "editable": true
   },
   "source": [
    "**Matches of any color in the chosen socks:**"
   ]
  },
  {
   "cell_type": "code",
   "execution_count": 14,
   "metadata": {
    "collapsed": false,
    "deletable": true,
    "editable": true
   },
   "outputs": [
    {
     "data": {
      "text/html": [
       "<strong id=\"chosenMatches\">chosenMatches:</strong> <a href=\"__pv_it\\e343aeb6f6b3e2bd1d250abb07e7a141543d71750\\expr.ipynb\" target=\"_blank\"><img src=\"__pv_it\\e343aeb6f6b3e2bd1d250abb07e7a141543d71750\\expr.png\" style=\"display:inline;vertical-align:middle;\" /></a><br>"
      ],
      "text/plain": [
       "chosenMatches: MatchingSubset(c,color)"
      ]
     },
     "execution_count": 14,
     "metadata": {},
     "output_type": "execute_result"
    }
   ],
   "source": [
    "chosenMatches = MatchingSubset(cSocks, color)"
   ]
  },
  {
   "cell_type": "markdown",
   "metadata": {
    "deletable": true,
    "editable": true
   },
   "source": [
    "**$a$ in the chosen matches:**"
   ]
  },
  {
   "cell_type": "code",
   "execution_count": 15,
   "metadata": {
    "collapsed": false,
    "deletable": true,
    "editable": true
   },
   "outputs": [
    {
     "data": {
      "text/html": [
       "<strong id=\"aInChosenMatches\">aInChosenMatches:</strong> <a href=\"__pv_it\\59f48d5de1cc131089cf1ffeada1bc924062f6330\\expr.ipynb\" target=\"_blank\"><img src=\"__pv_it\\59f48d5de1cc131089cf1ffeada1bc924062f6330\\expr.png\" style=\"display:inline;vertical-align:middle;\" /></a><br>"
      ],
      "text/plain": [
       "aInChosenMatches: a in MatchingSubset(c,color)"
      ]
     },
     "execution_count": 15,
     "metadata": {},
     "output_type": "execute_result"
    }
   ],
   "source": [
    "aInChosenMatches = InSet(a, chosenMatches)"
   ]
  },
  {
   "cell_type": "markdown",
   "metadata": {
    "deletable": true,
    "editable": true
   },
   "source": [
    "**$b$ in the chosen matches:**"
   ]
  },
  {
   "cell_type": "code",
   "execution_count": 16,
   "metadata": {
    "collapsed": false,
    "deletable": true,
    "editable": true
   },
   "outputs": [
    {
     "data": {
      "text/html": [
       "<strong id=\"bInChosenMatches\">bInChosenMatches:</strong> <a href=\"__pv_it\\218652d6608b15f53ae96e6afe7ac1d67ef8ebf60\\expr.ipynb\" target=\"_blank\"><img src=\"__pv_it\\218652d6608b15f53ae96e6afe7ac1d67ef8ebf60\\expr.png\" style=\"display:inline;vertical-align:middle;\" /></a><br>"
      ],
      "text/plain": [
       "bInChosenMatches: b in MatchingSubset(c,color)"
      ]
     },
     "execution_count": 16,
     "metadata": {},
     "output_type": "execute_result"
    }
   ],
   "source": [
    "bInChosenMatches = InSet(b, chosenMatches)"
   ]
  },
  {
   "cell_type": "markdown",
   "metadata": {
    "deletable": true,
    "editable": true
   },
   "source": [
    "**Are $a$ and $b$ a matching pair of socks?**"
   ]
  },
  {
   "cell_type": "code",
   "execution_count": 17,
   "metadata": {
    "collapsed": false,
    "deletable": true,
    "editable": true,
    "scrolled": true
   },
   "outputs": [
    {
     "data": {
      "text/html": [
       "<strong id=\"abIsMatch\">abIsMatch:</strong> <a href=\"__pv_it\\022c8a855e5c870d930537c594ad5d28481a331a0\\expr.ipynb\" target=\"_blank\"><img src=\"__pv_it\\022c8a855e5c870d930537c594ad5d28481a331a0\\expr.png\" style=\"display:inline;vertical-align:middle;\" /></a><br>"
      ],
      "text/plain": [
       "abIsMatch: IsMatch(a,b)"
      ]
     },
     "execution_count": 17,
     "metadata": {},
     "output_type": "execute_result"
    }
   ],
   "source": [
    "abIsMatch = IsMatch(a, b)"
   ]
  },
  {
   "cell_type": "markdown",
   "metadata": {
    "deletable": true,
    "editable": true
   },
   "source": [
    "**Are $a$ and $b$ distinct?**"
   ]
  },
  {
   "cell_type": "code",
   "execution_count": 18,
   "metadata": {
    "collapsed": false,
    "deletable": true,
    "editable": true,
    "scrolled": true
   },
   "outputs": [
    {
     "data": {
      "text/html": [
       "<strong id=\"abDistinct\">abDistinct:</strong> <a href=\"__pv_it\\34924a980be6fc8b9b8579ab4557d81b7912d4050\\expr.ipynb\" target=\"_blank\"><img src=\"__pv_it\\34924a980be6fc8b9b8579ab4557d81b7912d4050\\expr.png\" style=\"display:inline;vertical-align:middle;\" /></a><br>"
      ],
      "text/plain": [
       "abDistinct: a != b"
      ]
     },
     "execution_count": 18,
     "metadata": {},
     "output_type": "execute_result"
    }
   ],
   "source": [
    "abDistinct = NotEquals(a, b)"
   ]
  },
  {
   "cell_type": "markdown",
   "metadata": {
    "deletable": true,
    "editable": true
   },
   "source": [
    "**Are $a$ and $b$ the same color?**"
   ]
  },
  {
   "cell_type": "code",
   "execution_count": 19,
   "metadata": {
    "collapsed": false,
    "deletable": true,
    "editable": true,
    "scrolled": true
   },
   "outputs": [
    {
     "data": {
      "text/html": [
       "<strong id=\"abSameColor\">abSameColor:</strong> <a href=\"__pv_it\\8cd02fc3bdbde0df3d65273936add678edc51e570\\expr.ipynb\" target=\"_blank\"><img src=\"__pv_it\\8cd02fc3bdbde0df3d65273936add678edc51e570\\expr.png\" style=\"display:inline;vertical-align:middle;\" /></a><br>"
      ],
      "text/plain": [
       "abSameColor: Color(a) = Color(b)"
      ]
     },
     "execution_count": 19,
     "metadata": {},
     "output_type": "execute_result"
    }
   ],
   "source": [
    "abSameColor = Equals(Color(a), Color(b))"
   ]
  },
  {
   "cell_type": "markdown",
   "metadata": {
    "deletable": true,
    "editable": true
   },
   "source": [
    "**Were there at least 3 socks chosen?**"
   ]
  },
  {
   "cell_type": "code",
   "execution_count": 20,
   "metadata": {
    "collapsed": false,
    "deletable": true,
    "editable": true
   },
   "outputs": [
    {
     "data": {
      "text/html": [
       "<strong id=\"Ngeq3\">Ngeq3:</strong> <a href=\"__pv_it\\44520c1a967bd1c6da3e615af8cbb01f2257a1920\\expr.ipynb\" target=\"_blank\"><img src=\"__pv_it\\44520c1a967bd1c6da3e615af8cbb01f2257a1920\\expr.png\" style=\"display:inline;vertical-align:middle;\" /></a><br>"
      ],
      "text/plain": [
       "Ngeq3: N >= 3"
      ]
     },
     "execution_count": 20,
     "metadata": {},
     "output_type": "execute_result"
    }
   ],
   "source": [
    "Ngeq3 = GreaterEq(N, num(3))"
   ]
  },
  {
   "cell_type": "markdown",
   "metadata": {
    "deletable": true,
    "editable": true
   },
   "source": [
    "**Let the cardinality of $c$ (the `Variable`, not the `Literal`) be $N$:**"
   ]
  },
  {
   "cell_type": "code",
   "execution_count": 21,
   "metadata": {
    "collapsed": false,
    "deletable": true,
    "editable": true
   },
   "outputs": [
    {
     "data": {
      "text/html": [
       "<strong id=\"cSizeN\">cSizeN:</strong> <a href=\"__pv_it\\96428e05e7418bf4403c89942136cc3621e2b0040\\expr.ipynb\" target=\"_blank\"><img src=\"__pv_it\\96428e05e7418bf4403c89942136cc3621e2b0040\\expr.png\" style=\"display:inline;vertical-align:middle;\" /></a><br>"
      ],
      "text/plain": [
       "cSizeN: |c| = N"
      ]
     },
     "execution_count": 21,
     "metadata": {},
     "output_type": "execute_result"
    }
   ],
   "source": [
    "cSizeN = Equals(Card(c), N)"
   ]
  },
  {
   "cell_type": "markdown",
   "metadata": {
    "deletable": true,
    "editable": true
   },
   "source": [
    "**Were there at least 2 white socks chosen?**"
   ]
  },
  {
   "cell_type": "code",
   "execution_count": 22,
   "metadata": {
    "collapsed": false,
    "deletable": true,
    "editable": true
   },
   "outputs": [
    {
     "data": {
      "text/html": [
       "<strong id=\"chose2orMoreWhite\">chose2orMoreWhite:</strong> <a href=\"__pv_it\\bda38bb857b09545dfa05e3660c0d2b692ce40a40\\expr.ipynb\" target=\"_blank\"><img src=\"__pv_it\\bda38bb857b09545dfa05e3660c0d2b692ce40a40\\expr.png\" style=\"display:inline;vertical-align:middle;\" /></a><br>"
      ],
      "text/plain": [
       "chose2orMoreWhite: |w| >= 2"
      ]
     },
     "execution_count": 22,
     "metadata": {},
     "output_type": "execute_result"
    }
   ],
   "source": [
    "chose2orMoreWhite = GreaterEq(Card(wSocks), num(2))"
   ]
  },
  {
   "cell_type": "markdown",
   "metadata": {
    "deletable": true,
    "editable": true
   },
   "source": [
    "**Were there at least 2 black socks chosen?**"
   ]
  },
  {
   "cell_type": "code",
   "execution_count": 23,
   "metadata": {
    "collapsed": false,
    "deletable": true,
    "editable": true
   },
   "outputs": [
    {
     "data": {
      "text/html": [
       "<strong id=\"chose2orMoreBlack\">chose2orMoreBlack:</strong> <a href=\"__pv_it\\10ab5c53465d79eed184eebedb1594be848bbcdf0\\expr.ipynb\" target=\"_blank\"><img src=\"__pv_it\\10ab5c53465d79eed184eebedb1594be848bbcdf0\\expr.png\" style=\"display:inline;vertical-align:middle;\" /></a><br>"
      ],
      "text/plain": [
       "chose2orMoreBlack: |b| >= 2"
      ]
     },
     "execution_count": 23,
     "metadata": {},
     "output_type": "execute_result"
    }
   ],
   "source": [
    "chose2orMoreBlack = GreaterEq(Card(bSocks), num(2))"
   ]
  },
  {
   "cell_type": "markdown",
   "metadata": {
    "deletable": true,
    "editable": true
   },
   "source": [
    "**Were there at least 2 white or 2 black socks chosen?**"
   ]
  },
  {
   "cell_type": "code",
   "execution_count": 24,
   "metadata": {
    "collapsed": false,
    "deletable": true,
    "editable": true
   },
   "outputs": [
    {
     "data": {
      "text/html": [
       "<strong id=\"chose2orMoreOfEither\">chose2orMoreOfEither:</strong> <a href=\"__pv_it\\6dfd25553cef61a553a9b36b13c0aeca96a3a7220\\expr.ipynb\" target=\"_blank\"><img src=\"__pv_it\\6dfd25553cef61a553a9b36b13c0aeca96a3a7220\\expr.png\" style=\"display:inline;vertical-align:middle;\" /></a><br>"
      ],
      "text/plain": [
       "chose2orMoreOfEither: (|w| >= 2) or (|b| >= 2)"
      ]
     },
     "execution_count": 24,
     "metadata": {},
     "output_type": "execute_result"
    }
   ],
   "source": [
    "chose2orMoreOfEither = Or(chose2orMoreWhite, chose2orMoreBlack)"
   ]
  },
  {
   "cell_type": "code",
   "execution_count": 25,
   "metadata": {
    "collapsed": false,
    "deletable": true,
    "editable": true,
    "scrolled": true
   },
   "outputs": [
    {
     "name": "stdout",
     "output_type": "stream",
     "text": [
      "wSocks expression notebook is being updated\n",
      "color expression notebook is being updated\n",
      "Dsocks expression notebook is being updated\n",
      "Ngeq3 expression notebook is being updated\n",
      "bInChosenMatches expression notebook is being updated\n",
      "Bsocks expression notebook is being updated\n",
      "abDistinct expression notebook is being updated\n",
      "chose2orMoreBlack expression notebook is being updated\n",
      "BLACK expression notebook is being updated\n",
      "abSameColor expression notebook is being updated\n",
      "Wsocks expression notebook is being updated\n",
      "abIsMatch expression notebook is being updated\n",
      "chose2orMoreOfEither expression notebook is being updated\n",
      "N expression notebook is being updated\n",
      "anyMatches expression notebook is being updated\n",
      "cSocks expression notebook is being updated\n",
      "aInChosenMatches expression notebook is being updated\n",
      "WHITE expression notebook is being updated\n",
      "bSocks expression notebook is being updated\n",
      "cSizeN expression notebook is being updated\n",
      "chose2orMoreWhite expression notebook is being updated\n",
      "chosenMatches expression notebook is being updated\n",
      "Common expressions may be imported from autogenerated _common_.py\n"
     ]
    }
   ],
   "source": [
    "%end_common"
   ]
  },
  {
   "cell_type": "code",
   "execution_count": null,
   "metadata": {
    "collapsed": true,
    "deletable": true,
    "editable": true
   },
   "outputs": [],
   "source": []
  }
 ],
 "metadata": {
  "kernelspec": {
   "display_name": "Python 2",
   "language": "python",
   "name": "python2"
  },
  "language_info": {
   "codemirror_mode": {
    "name": "ipython",
    "version": 2
   },
   "file_extension": ".py",
   "mimetype": "text/x-python",
   "name": "python",
   "nbconvert_exporter": "python",
   "pygments_lexer": "ipython2",
   "version": "2.7.11"
  }
 },
 "nbformat": 4,
 "nbformat_minor": 0
}
