{
 "cells": [
  {
   "cell_type": "markdown",
   "metadata": {
    "collapsed": true,
    "deletable": true,
    "editable": true
   },
   "source": [
    "Proof of <a href=\"../_theorems_.ipynb#chosenMatchesAreChosen\">chosenMatchesAreChosen</a> theorem\n",
    "========"
   ]
  },
  {
   "cell_type": "code",
   "execution_count": 1,
   "metadata": {
    "collapsed": true,
    "deletable": true,
    "editable": true
   },
   "outputs": [],
   "source": [
    "import proveit\n",
    "context = proveit.Context('..') # the theorem's context is in the parent directory\n",
    "from socks_demo._common_ import chosenMatches, cSocks, color\n",
    "from proveit.logic import SubsetEq\n",
    "import proveit"
   ]
  },
  {
   "cell_type": "code",
   "execution_count": 2,
   "metadata": {
    "collapsed": false,
    "deletable": true,
    "editable": true
   },
   "outputs": [
    {
     "name": "stdout",
     "output_type": "stream",
     "text": [
      "Recorded 'presuming' information\n",
      "Presuming theorems in proveit.logic (except any that depend upon this theorem).\n",
      "Presuming previous theorems in this context (and any of their dependencies).\n",
      "Beginning proof of\n"
     ]
    },
    {
     "data": {
      "text/html": [
       "<strong id=\"chosenMatchesAreChosen\">chosenMatchesAreChosen:</strong> <a href=\"..\\__pv_it\\0d0945c545920968899331b0c011cb3591ecd5eb0\\expr.ipynb\" target=\"_blank\"><img src=\"..\\__pv_it\\0d0945c545920968899331b0c011cb3591ecd5eb0\\expr.png\" style=\"display:inline;vertical-align:middle;\" /></a><br>(see <a class=\"ProveItLink\" href=\"..\\__pv_it\\0d0945c545920968899331b0c011cb3591ecd5eb0\\dependencies.ipynb\" target=\"_blank\">dependencies</a>)"
      ],
      "text/plain": [
       "chosenMatchesAreChosen: forall_{color} (MatchingSubset(c,color) subseteq c)"
      ]
     },
     "execution_count": 2,
     "metadata": {},
     "output_type": "execute_result"
    }
   ],
   "source": [
    "%begin_proof chosenMatchesAreChosen presuming [proveit.logic]"
   ]
  },
  {
   "cell_type": "code",
   "execution_count": 3,
   "metadata": {
    "collapsed": false,
    "deletable": true,
    "editable": true
   },
   "outputs": [
    {
     "data": {
      "text/html": [
       "<a href=\"..\\__pv_it\\e343aeb6f6b3e2bd1d250abb07e7a141543d71750\\expr.ipynb\" target=\"_blank\"><img src=\"..\\__pv_it\\e343aeb6f6b3e2bd1d250abb07e7a141543d71750\\expr.png\" style=\"display:inline;vertical-align:middle;\" /></a>"
      ],
      "text/plain": [
       "MatchingSubset(c,color)"
      ]
     },
     "execution_count": 3,
     "metadata": {},
     "output_type": "execute_result"
    }
   ],
   "source": [
    "chosenMatches"
   ]
  },
  {
   "cell_type": "code",
   "execution_count": 4,
   "metadata": {
    "collapsed": false,
    "deletable": true,
    "editable": true
   },
   "outputs": [
    {
     "data": {
      "text/html": [
       "<strong id=\"chosenMatchesDef\">chosenMatchesDef:</strong> <span style=\"font-size:20px;\"> &#x22A2;&nbsp;<a href=\"..\\__pv_it\\7969290e9509f002b20ee5f23eb540a24365a62f0\\expr.ipynb\" target=\"_blank\"><img src=\"..\\__pv_it\\7969290e9509f002b20ee5f23eb540a24365a62f0\\expr.png\" style=\"display:inline;vertical-align:middle;\" /></a></span><br>"
      ],
      "text/plain": [
       "chosenMatchesDef: |= MatchingSubset(c,color) = {s s.t. (Color(s) = color)}_{s in c}"
      ]
     },
     "execution_count": 4,
     "metadata": {},
     "output_type": "execute_result"
    }
   ],
   "source": [
    "chosenMatchesDef = chosenMatches.definition()"
   ]
  },
  {
   "cell_type": "code",
   "execution_count": 5,
   "metadata": {
    "collapsed": false,
    "deletable": true,
    "editable": true
   },
   "outputs": [
    {
     "data": {
      "text/html": [
       "<strong id=\"subsetOfChosen\">subsetOfChosen:</strong> <span style=\"font-size:20px;\"> &#x22A2;&nbsp;<a href=\"..\\__pv_it\\28a8ca553c2d79efd55be93aa624c2192567be1a0\\expr.ipynb\" target=\"_blank\"><img src=\"..\\__pv_it\\28a8ca553c2d79efd55be93aa624c2192567be1a0\\expr.png\" style=\"display:inline;vertical-align:middle;\" /></a></span><br>"
      ],
      "text/plain": [
       "subsetOfChosen: |= {s s.t. (Color(s) = color)}_{s in c} subseteq c"
      ]
     },
     "execution_count": 5,
     "metadata": {},
     "output_type": "execute_result"
    }
   ],
   "source": [
    "subsetOfChosen = SubsetEq(chosenMatchesDef.rhs, cSocks).prove()"
   ]
  },
  {
   "cell_type": "code",
   "execution_count": 6,
   "metadata": {
    "collapsed": false,
    "deletable": true,
    "editable": true
   },
   "outputs": [
    {
     "name": "stdout",
     "output_type": "stream",
     "text": [
      "chosenMatchesAreChosen has been proven.  Now simply execute \"%qed\".\n"
     ]
    },
    {
     "data": {
      "text/html": [
       "<span style=\"font-size:20px;\"> &#x22A2;&nbsp;<a href=\"..\\__pv_it\\0d0945c545920968899331b0c011cb3591ecd5eb0\\expr.ipynb\" target=\"_blank\"><img src=\"..\\__pv_it\\0d0945c545920968899331b0c011cb3591ecd5eb0\\expr.png\" style=\"display:inline;vertical-align:middle;\" /></a></span>"
      ],
      "text/plain": [
       "|= forall_{color} (MatchingSubset(c,color) subseteq c)"
      ]
     },
     "execution_count": 6,
     "metadata": {},
     "output_type": "execute_result"
    }
   ],
   "source": [
    "chosenMatchesDef.lhsSubstitute(subsetOfChosen).generalize(color)"
   ]
  },
  {
   "cell_type": "code",
   "execution_count": 7,
   "metadata": {
    "collapsed": false,
    "deletable": true,
    "editable": true
   },
   "outputs": [
    {
     "name": "stdout",
     "output_type": "stream",
     "text": [
      "socks_demo.chosenMatchesAreChosen has a proof\n"
     ]
    },
    {
     "data": {
      "text/html": [
       "<table><tr><th>&nbsp;</th><th>step type</th><th>requirements</th><th>statement</th></tr>\n",
       "<tr><td>0</td><td>generalizaton</td><td>1</td><td><span style=\"font-size:20px;\"> &#x22A2;&nbsp;<a href=\"..\\__pv_it\\0d0945c545920968899331b0c011cb3591ecd5eb0\\expr.ipynb\" target=\"_blank\"><img src=\"..\\__pv_it\\0d0945c545920968899331b0c011cb3591ecd5eb0\\expr.png\" style=\"display:inline;vertical-align:middle;\" /></a></span></td></tr>\n",
       "<tr><td>1</td><td>specialization</td><td>2, 3, 4</td><td><span style=\"font-size:20px;\"> &#x22A2;&nbsp;<a href=\"..\\__pv_it\\666976a9c1fa1ce48ac76e9817d5d51199aca2d40\\expr.ipynb\" target=\"_blank\"><img src=\"..\\__pv_it\\666976a9c1fa1ce48ac76e9817d5d51199aca2d40\\expr.png\" style=\"display:inline;vertical-align:middle;\" /></a></span></td></tr>\n",
       "<tr><td>&nbsp;</td><td colspan=4 style=\"text-align:left\"><span style=\"font-size:20px;\"><a href=\"..\\__pv_it\\b43b3f5471b3bc398173f9d7ca057307806069ba0\\expr.ipynb\" target=\"_blank\"><img src=\"..\\__pv_it\\b43b3f5471b3bc398173f9d7ca057307806069ba0\\expr.png\" style=\"display:inline;vertical-align:middle;\" /></a>, <a href=\"..\\__pv_it\\8f506ff61234bc5c82e6c20cdaef801e10f7f32d0\\expr.ipynb\" target=\"_blank\"><img src=\"..\\__pv_it\\8f506ff61234bc5c82e6c20cdaef801e10f7f32d0\\expr.png\" style=\"display:inline;vertical-align:middle;\" /></a>, <a href=\"..\\__pv_it\\7f3243ffdc2ac573417b6fe2cdec94fda2555dd70\\expr.ipynb\" target=\"_blank\"><img src=\"..\\__pv_it\\7f3243ffdc2ac573417b6fe2cdec94fda2555dd70\\expr.png\" style=\"display:inline;vertical-align:middle;\" /></a></span></td></tr><tr><td>2</td><td>theorem</td><td></td><td><span style=\"font-size:20px;\"> &#x22A2;&nbsp;<a href=\"..\\..\\..\\packages\\proveit\\logic\\equality\\__pv_it\\ddf6dd80e23d6ec126eeff291ac5fb9fcc4663370\\expr.ipynb\" target=\"_blank\"><img src=\"..\\..\\..\\packages\\proveit\\logic\\equality\\__pv_it\\ddf6dd80e23d6ec126eeff291ac5fb9fcc4663370\\expr.png\" style=\"display:inline;vertical-align:middle;\" /></a></span></td></tr>\n",
       "<tr><td>&nbsp;</td><td colspan=4 style-\"text-align:left\"><a href=\"..\\..\\..\\packages\\proveit\\logic\\equality\\_proofs_\\lhsSubstitute.ipynb\" target=\"_blank\">proveit.logic.equality.lhsSubstitute</a></td></tr><tr><td>3</td><td>specialization</td><td>5</td><td><span style=\"font-size:20px;\"> &#x22A2;&nbsp;<a href=\"..\\__pv_it\\28a8ca553c2d79efd55be93aa624c2192567be1a0\\expr.ipynb\" target=\"_blank\"><img src=\"..\\__pv_it\\28a8ca553c2d79efd55be93aa624c2192567be1a0\\expr.png\" style=\"display:inline;vertical-align:middle;\" /></a></span></td></tr>\n",
       "<tr><td>&nbsp;</td><td colspan=4 style=\"text-align:left\"><span style=\"font-size:20px;\"><a href=\"..\\__pv_it\\ab135cb0fdd8d016717a695297a6a27d7cee27510\\expr.ipynb\" target=\"_blank\"><img src=\"..\\__pv_it\\ab135cb0fdd8d016717a695297a6a27d7cee27510\\expr.png\" style=\"display:inline;vertical-align:middle;\" /></a>, relabeling <a href=\"..\\__pv_it\\c782b9e513e7b36a4f4005525d6ed93ef756b3750\\expr.ipynb\" target=\"_blank\"><img src=\"..\\__pv_it\\c782b9e513e7b36a4f4005525d6ed93ef756b3750\\expr.png\" style=\"display:inline;vertical-align:middle;\" /></a></span></td></tr><tr><td>4</td><td>specialization</td><td>6</td><td><span style=\"font-size:20px;\"> &#x22A2;&nbsp;<a href=\"..\\__pv_it\\7969290e9509f002b20ee5f23eb540a24365a62f0\\expr.ipynb\" target=\"_blank\"><img src=\"..\\__pv_it\\7969290e9509f002b20ee5f23eb540a24365a62f0\\expr.png\" style=\"display:inline;vertical-align:middle;\" /></a></span></td></tr>\n",
       "<tr><td>&nbsp;</td><td colspan=4 style=\"text-align:left\"><span style=\"font-size:20px;\"><a href=\"..\\__pv_it\\fe118a8f0387859a6b435ce46b74387aa33de2e70\\expr.ipynb\" target=\"_blank\"><img src=\"..\\__pv_it\\fe118a8f0387859a6b435ce46b74387aa33de2e70\\expr.png\" style=\"display:inline;vertical-align:middle;\" /></a>, <a href=\"..\\__pv_it\\5ed87203f9d4ef79bdcfbd2e40705d65c06929200\\expr.ipynb\" target=\"_blank\"><img src=\"..\\__pv_it\\5ed87203f9d4ef79bdcfbd2e40705d65c06929200\\expr.png\" style=\"display:inline;vertical-align:middle;\" /></a></span></td></tr><tr><td>5</td><td>theorem</td><td></td><td><span style=\"font-size:20px;\"> &#x22A2;&nbsp;<a href=\"..\\..\\..\\packages\\proveit\\logic\\set_theory\\comprehension\\__pv_it\\3789f520db72ad01ef06fa9755928117a385b3370\\expr.ipynb\" target=\"_blank\"><img src=\"..\\..\\..\\packages\\proveit\\logic\\set_theory\\comprehension\\__pv_it\\3789f520db72ad01ef06fa9755928117a385b3370\\expr.png\" style=\"display:inline;vertical-align:middle;\" /></a></span></td></tr>\n",
       "<tr><td>&nbsp;</td><td colspan=4 style-\"text-align:left\"><a href=\"..\\..\\..\\packages\\proveit\\logic\\set_theory\\comprehension\\_proofs_\\comprehensionIsSubset.ipynb\" target=\"_blank\">proveit.logic.set_theory.comprehension.comprehensionIsSubset</a></td></tr><tr><td>6</td><td>axiom</td><td></td><td><span style=\"font-size:20px;\"> &#x22A2;&nbsp;<a href=\"..\\__pv_it\\a7cddf22aa822698cfcd75e207a3bfa2feea5fd60\\expr.ipynb\" target=\"_blank\"><img src=\"..\\__pv_it\\a7cddf22aa822698cfcd75e207a3bfa2feea5fd60\\expr.png\" style=\"display:inline;vertical-align:middle;\" /></a></span></td></tr>\n",
       "<tr><td>&nbsp;</td><td colspan=4 style-\"text-align:left\"><a href=\"..\\_axioms_.ipynb#matchingSubsetDef\" target=\"_blank\">socks_demo.matchingSubsetDef</a></td></tr>"
      ],
      "text/plain": [
       "<proveit._core_.proof.Generalization instance at 0x0000000006964F88>"
      ]
     },
     "execution_count": 7,
     "metadata": {},
     "output_type": "execute_result"
    }
   ],
   "source": [
    "%qed"
   ]
  },
  {
   "cell_type": "code",
   "execution_count": null,
   "metadata": {
    "collapsed": true,
    "deletable": true,
    "editable": true
   },
   "outputs": [],
   "source": []
  }
 ],
 "metadata": {
  "kernelspec": {
   "display_name": "Python 2",
   "language": "python",
   "name": "python2"
  },
  "language_info": {
   "codemirror_mode": {
    "name": "ipython",
    "version": 2
   },
   "file_extension": ".py",
   "mimetype": "text/x-python",
   "name": "python",
   "nbconvert_exporter": "python",
   "pygments_lexer": "ipython2",
   "version": "2.7.11"
  }
 },
 "nbformat": 4,
 "nbformat_minor": 0
}
