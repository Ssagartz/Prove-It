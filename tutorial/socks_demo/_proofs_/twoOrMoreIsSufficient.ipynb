{
 "cells": [
  {
   "cell_type": "markdown",
   "metadata": {
    "collapsed": true,
    "deletable": true,
    "editable": true
   },
   "source": [
    "Proof of <a class=\"ProveItLink\" href=\"..\\_context_.ipynb\">socks_demo</a>.<a href=\"../_theorems_.ipynb#twoOrMoreIsSufficient\" class=\"ProveItLink\">twoOrMoreIsSufficient</a> theorem\n",
    "========"
   ]
  },
  {
   "cell_type": "code",
   "execution_count": 1,
   "metadata": {
    "collapsed": false,
    "deletable": true,
    "editable": true,
    "scrolled": true
   },
   "outputs": [],
   "source": [
    "import proveit\n",
    "context = proveit.Context('..') # the theorem's context is in the parent directory\n",
    "from socks_demo._common_ import color, chosenMatches, abDistinct, abIsMatch, Dsocks, cSocks\n",
    "from socks_demo._theorems_ import pairInChosenMatches, chosenMatchesAreChosen\n",
    "from socks_demo._axioms_ import chosenFromDrawer\n",
    "from proveit.logic import InSet, NotEquals\n",
    "from proveit._common_ import a, b\n",
    "from proveit import defaults"
   ]
  },
  {
   "cell_type": "code",
   "execution_count": 2,
   "metadata": {
    "collapsed": false,
    "deletable": true,
    "editable": true
   },
   "outputs": [
    {
     "name": "stdout",
     "output_type": "stream",
     "text": [
      "Recorded 'presuming' information\n",
      "Presuming theorems in proveit.logic (except any that depend upon this theorem).\n",
      "Presuming previous theorems in this context (and any of their dependencies).\n",
      "Beginning proof of\n"
     ]
    },
    {
     "data": {
      "text/html": [
       "<strong id=\"twoOrMoreIsSufficient\">twoOrMoreIsSufficient:</strong> <a href=\"..\\__pv_it\\51619c56f2c1ceb6796157c7bec86af1a0ddb5410\\expr.ipynb\" target=\"_blank\"><img src=\"..\\__pv_it\\51619c56f2c1ceb6796157c7bec86af1a0ddb5410\\expr.png\" style=\"display:inline;vertical-align:middle;\" /></a><br>(see <a class=\"ProveItLink\" href=\"..\\__pv_it\\51619c56f2c1ceb6796157c7bec86af1a0ddb5410\\dependencies.ipynb\" target=\"_blank\">dependencies</a>)"
      ],
      "text/plain": [
       "twoOrMoreIsSufficient: forall_{color} ((|MatchingSubset(c,color)| >= 2) => ContainsMatch(c))"
      ]
     },
     "execution_count": 2,
     "metadata": {},
     "output_type": "execute_result"
    }
   ],
   "source": [
    "%begin_proof twoOrMoreIsSufficient presuming [proveit.logic]"
   ]
  },
  {
   "cell_type": "code",
   "execution_count": 3,
   "metadata": {
    "collapsed": false,
    "deletable": true,
    "editable": true
   },
   "outputs": [
    {
     "data": {
      "text/html": [
       "<strong id=\"antecedent\">antecedent:</strong> <a href=\"..\\__pv_it\\3ad27daa209efbd55710314caa14eed6a8f3138f0\\expr.ipynb\" target=\"_blank\"><img src=\"..\\__pv_it\\3ad27daa209efbd55710314caa14eed6a8f3138f0\\expr.png\" style=\"display:inline;vertical-align:middle;\" /></a><br>"
      ],
      "text/plain": [
       "antecedent: |MatchingSubset(c,color)| >= 2"
      ]
     },
     "execution_count": 3,
     "metadata": {},
     "output_type": "execute_result"
    }
   ],
   "source": [
    "antecedent = twoOrMoreIsSufficient.instanceExpr.antecedent"
   ]
  },
  {
   "cell_type": "code",
   "execution_count": 4,
   "metadata": {
    "collapsed": false,
    "deletable": true,
    "editable": true
   },
   "outputs": [
    {
     "data": {
      "text/html": [
       "<strong id=\"cardSubset\">cardSubset:</strong> <a href=\"..\\__pv_it\\ee8dea127a2619fd53fead7635fdf1ff41cfb0f50\\expr.ipynb\" target=\"_blank\"><img src=\"..\\__pv_it\\ee8dea127a2619fd53fead7635fdf1ff41cfb0f50\\expr.png\" style=\"display:inline;vertical-align:middle;\" /></a><br>"
      ],
      "text/plain": [
       "cardSubset: |MatchingSubset(c,color)|"
      ]
     },
     "execution_count": 4,
     "metadata": {},
     "output_type": "execute_result"
    }
   ],
   "source": [
    "cardSubset = antecedent.lhs"
   ]
  },
  {
   "cell_type": "code",
   "execution_count": 5,
   "metadata": {
    "collapsed": false,
    "deletable": true,
    "editable": true
   },
   "outputs": [
    {
     "data": {
      "text/html": [
       "<strong id=\"existsDistinct_ab\">existsDistinct_ab:</strong> <span style=\"font-size:20px;\"><a href=\"..\\__pv_it\\1da6515d74548c49bc22a9c36f1c98a5441d9bc80\\expr.ipynb\" target=\"_blank\"><img src=\"..\\__pv_it\\1da6515d74548c49bc22a9c36f1c98a5441d9bc80\\expr.png\" style=\"display:inline;vertical-align:middle;\" /></a> &#x22A2;&nbsp;<a href=\"..\\__pv_it\\9470fd23d06f093a51d9a43a4e1d9586d4576a0e0\\expr.ipynb\" target=\"_blank\"><img src=\"..\\__pv_it\\9470fd23d06f093a51d9a43a4e1d9586d4576a0e0\\expr.png\" style=\"display:inline;vertical-align:middle;\" /></a></span><br>"
      ],
      "text/plain": [
       "existsDistinct_ab: {(|MatchingSubset(c,color)| >= 2)} |= exists_{a, b in MatchingSubset(c,color)} (a != b)"
      ]
     },
     "execution_count": 5,
     "metadata": {},
     "output_type": "execute_result"
    }
   ],
   "source": [
    "existsDistinct_ab = cardSubset.distinctSubsetExistence((a, b), assumptions=[antecedent])"
   ]
  },
  {
   "cell_type": "code",
   "execution_count": 6,
   "metadata": {
    "collapsed": false,
    "deletable": true,
    "editable": true
   },
   "outputs": [
    {
     "data": {
      "text/html": [
       "<span style=\"font-size:20px;\"> &#x22A2;&nbsp;<a href=\"..\\__pv_it\\dbc67923018e95dab881640e8a600510ce5abe6b0\\expr.ipynb\" target=\"_blank\"><img src=\"..\\__pv_it\\dbc67923018e95dab881640e8a600510ce5abe6b0\\expr.png\" style=\"display:inline;vertical-align:middle;\" /></a></span>"
      ],
      "text/plain": [
       "|= forall_{color} [forall_{a, b in MatchingSubset(c,color) | (a != b)} IsMatch(a,b)]"
      ]
     },
     "execution_count": 6,
     "metadata": {},
     "output_type": "execute_result"
    }
   ],
   "source": [
    "pairInChosenMatches"
   ]
  },
  {
   "cell_type": "code",
   "execution_count": 7,
   "metadata": {
    "collapsed": false,
    "deletable": true,
    "editable": true
   },
   "outputs": [
    {
     "data": {
      "text/html": [
       "<strong id=\"specPairInMatches\">specPairInMatches:</strong> <span style=\"font-size:20px;\"> &#x22A2;&nbsp;<a href=\"..\\__pv_it\\7af5114a723052e913b0e531408ffc906071f9c60\\expr.ipynb\" target=\"_blank\"><img src=\"..\\__pv_it\\7af5114a723052e913b0e531408ffc906071f9c60\\expr.png\" style=\"display:inline;vertical-align:middle;\" /></a></span><br>"
      ],
      "text/plain": [
       "specPairInMatches: |= forall_{a, b in MatchingSubset(c,color) | (a != b)} IsMatch(a,b)"
      ]
     },
     "execution_count": 7,
     "metadata": {},
     "output_type": "execute_result"
    }
   ],
   "source": [
    "specPairInMatches = pairInChosenMatches.specialize()"
   ]
  },
  {
   "cell_type": "code",
   "execution_count": 8,
   "metadata": {
    "collapsed": false,
    "deletable": true,
    "editable": true
   },
   "outputs": [
    {
     "data": {
      "text/html": [
       "<strong id=\"existsMatchInMatches\">existsMatchInMatches:</strong> <span style=\"font-size:20px;\"><a href=\"..\\__pv_it\\1da6515d74548c49bc22a9c36f1c98a5441d9bc80\\expr.ipynb\" target=\"_blank\"><img src=\"..\\__pv_it\\1da6515d74548c49bc22a9c36f1c98a5441d9bc80\\expr.png\" style=\"display:inline;vertical-align:middle;\" /></a> &#x22A2;&nbsp;<a href=\"..\\__pv_it\\7654200b30eca284990da34ab78274a3784913b00\\expr.ipynb\" target=\"_blank\"><img src=\"..\\__pv_it\\7654200b30eca284990da34ab78274a3784913b00\\expr.png\" style=\"display:inline;vertical-align:middle;\" /></a></span><br>"
      ],
      "text/plain": [
       "existsMatchInMatches: {(|MatchingSubset(c,color)| >= 2)} |= exists_{a, b in MatchingSubset(c,color)} IsMatch(a,b)"
      ]
     },
     "execution_count": 8,
     "metadata": {},
     "output_type": "execute_result"
    }
   ],
   "source": [
    "existsMatchInMatches = existsDistinct_ab.substituteInstances(specPairInMatches)"
   ]
  },
  {
   "cell_type": "code",
   "execution_count": 9,
   "metadata": {
    "collapsed": false,
    "deletable": true,
    "editable": true
   },
   "outputs": [
    {
     "data": {
      "text/html": [
       "<span style=\"font-size:20px;\"> &#x22A2;&nbsp;<a href=\"..\\__pv_it\\0d0945c545920968899331b0c011cb3591ecd5eb0\\expr.ipynb\" target=\"_blank\"><img src=\"..\\__pv_it\\0d0945c545920968899331b0c011cb3591ecd5eb0\\expr.png\" style=\"display:inline;vertical-align:middle;\" /></a></span>"
      ],
      "text/plain": [
       "|= forall_{color} (MatchingSubset(c,color) subseteq c)"
      ]
     },
     "execution_count": 9,
     "metadata": {},
     "output_type": "execute_result"
    }
   ],
   "source": [
    "chosenMatchesAreChosen"
   ]
  },
  {
   "cell_type": "code",
   "execution_count": 10,
   "metadata": {
    "collapsed": false,
    "deletable": true,
    "editable": true
   },
   "outputs": [
    {
     "data": {
      "text/html": [
       "<span style=\"font-size:20px;\"> &#x22A2;&nbsp;<a href=\"..\\__pv_it\\666976a9c1fa1ce48ac76e9817d5d51199aca2d40\\expr.ipynb\" target=\"_blank\"><img src=\"..\\__pv_it\\666976a9c1fa1ce48ac76e9817d5d51199aca2d40\\expr.png\" style=\"display:inline;vertical-align:middle;\" /></a></span>"
      ],
      "text/plain": [
       "|= MatchingSubset(c,color) subseteq c"
      ]
     },
     "execution_count": 10,
     "metadata": {},
     "output_type": "execute_result"
    }
   ],
   "source": [
    "chosenMatchesAreChosen.specialize()"
   ]
  },
  {
   "cell_type": "code",
   "execution_count": 11,
   "metadata": {
    "collapsed": false,
    "deletable": true,
    "editable": true
   },
   "outputs": [
    {
     "data": {
      "text/html": [
       "<span style=\"font-size:20px;\"><a href=\"..\\__pv_it\\1da6515d74548c49bc22a9c36f1c98a5441d9bc80\\expr.ipynb\" target=\"_blank\"><img src=\"..\\__pv_it\\1da6515d74548c49bc22a9c36f1c98a5441d9bc80\\expr.png\" style=\"display:inline;vertical-align:middle;\" /></a> &#x22A2;&nbsp;<a href=\"..\\__pv_it\\fb08f34cfd208c896931cb359dc53864f83f81b50\\expr.ipynb\" target=\"_blank\"><img src=\"..\\__pv_it\\fb08f34cfd208c896931cb359dc53864f83f81b50\\expr.png\" style=\"display:inline;vertical-align:middle;\" /></a></span>"
      ],
      "text/plain": [
       "{(|MatchingSubset(c,color)| >= 2)} |= exists_{a, b in c} IsMatch(a,b)"
      ]
     },
     "execution_count": 11,
     "metadata": {},
     "output_type": "execute_result"
    }
   ],
   "source": [
    "existsMatchInMatches.substituteDomain(cSocks)"
   ]
  },
  {
   "cell_type": "code",
   "execution_count": 12,
   "metadata": {
    "collapsed": false,
    "deletable": true,
    "editable": true
   },
   "outputs": [
    {
     "data": {
      "text/html": [
       "<strong id=\"chosenContainsMatch\">chosenContainsMatch:</strong> <span style=\"font-size:20px;\"><a href=\"..\\__pv_it\\1da6515d74548c49bc22a9c36f1c98a5441d9bc80\\expr.ipynb\" target=\"_blank\"><img src=\"..\\__pv_it\\1da6515d74548c49bc22a9c36f1c98a5441d9bc80\\expr.png\" style=\"display:inline;vertical-align:middle;\" /></a> &#x22A2;&nbsp;<a href=\"..\\__pv_it\\cd065dad047e881504bf5081e131be1095ea36490\\expr.ipynb\" target=\"_blank\"><img src=\"..\\__pv_it\\cd065dad047e881504bf5081e131be1095ea36490\\expr.png\" style=\"display:inline;vertical-align:middle;\" /></a></span><br>"
      ],
      "text/plain": [
       "chosenContainsMatch: {(|MatchingSubset(c,color)| >= 2)} |= ContainsMatch(c)"
      ]
     },
     "execution_count": 12,
     "metadata": {},
     "output_type": "execute_result"
    }
   ],
   "source": [
    "chosenContainsMatch = twoOrMoreIsSufficient.instanceExpr.consequent.prove([antecedent])"
   ]
  },
  {
   "cell_type": "code",
   "execution_count": 13,
   "metadata": {
    "collapsed": false,
    "deletable": true,
    "editable": true
   },
   "outputs": [
    {
     "name": "stdout",
     "output_type": "stream",
     "text": [
      "twoOrMoreIsSufficient has been proven.  Now simply execute \"%qed\".\n"
     ]
    },
    {
     "data": {
      "text/html": [
       "<span style=\"font-size:20px;\"> &#x22A2;&nbsp;<a href=\"..\\__pv_it\\51619c56f2c1ceb6796157c7bec86af1a0ddb5410\\expr.ipynb\" target=\"_blank\"><img src=\"..\\__pv_it\\51619c56f2c1ceb6796157c7bec86af1a0ddb5410\\expr.png\" style=\"display:inline;vertical-align:middle;\" /></a></span>"
      ],
      "text/plain": [
       "|= forall_{color} ((|MatchingSubset(c,color)| >= 2) => ContainsMatch(c))"
      ]
     },
     "execution_count": 13,
     "metadata": {},
     "output_type": "execute_result"
    }
   ],
   "source": [
    "chosenContainsMatch.asImplication(antecedent).generalize(color)"
   ]
  },
  {
   "cell_type": "code",
   "execution_count": 14,
   "metadata": {
    "collapsed": false,
    "deletable": true,
    "editable": true
   },
   "outputs": [
    {
     "name": "stdout",
     "output_type": "stream",
     "text": [
      "socks_demo.twoOrMoreIsSufficient has a proof\n"
     ]
    },
    {
     "data": {
      "text/html": [
       "<table><tr><th>&nbsp;</th><th>step type</th><th>requirements</th><th>statement</th></tr>\n",
       "<tr><td>0</td><td>generalizaton</td><td>1</td><td><span style=\"font-size:20px;\"> &#x22A2;&nbsp;<a href=\"..\\__pv_it\\51619c56f2c1ceb6796157c7bec86af1a0ddb5410\\expr.ipynb\" target=\"_blank\"><img src=\"..\\__pv_it\\51619c56f2c1ceb6796157c7bec86af1a0ddb5410\\expr.png\" style=\"display:inline;vertical-align:middle;\" /></a></span></td></tr>\n",
       "<tr><td>1</td><td>hypothetical reasoning</td><td>2</td><td><span style=\"font-size:20px;\"> &#x22A2;&nbsp;<a href=\"..\\__pv_it\\6c381706a7acef3cbceae83d87d15bab733d2bd70\\expr.ipynb\" target=\"_blank\"><img src=\"..\\__pv_it\\6c381706a7acef3cbceae83d87d15bab733d2bd70\\expr.png\" style=\"display:inline;vertical-align:middle;\" /></a></span></td></tr>\n",
       "<tr><td>2</td><td>specialization</td><td>3, 4, 5</td><td><span style=\"font-size:20px;\"><a href=\"..\\__pv_it\\1da6515d74548c49bc22a9c36f1c98a5441d9bc80\\expr.ipynb\" target=\"_blank\"><img src=\"..\\__pv_it\\1da6515d74548c49bc22a9c36f1c98a5441d9bc80\\expr.png\" style=\"display:inline;vertical-align:middle;\" /></a> &#x22A2;&nbsp;<a href=\"..\\__pv_it\\cd065dad047e881504bf5081e131be1095ea36490\\expr.ipynb\" target=\"_blank\"><img src=\"..\\__pv_it\\cd065dad047e881504bf5081e131be1095ea36490\\expr.png\" style=\"display:inline;vertical-align:middle;\" /></a></span></td></tr>\n",
       "<tr><td>&nbsp;</td><td colspan=4 style=\"text-align:left\"><span style=\"font-size:20px;\"><a href=\"..\\__pv_it\\b17b61b8aba60994a9be36e23b0572ac90deec7e0\\expr.ipynb\" target=\"_blank\"><img src=\"..\\__pv_it\\b17b61b8aba60994a9be36e23b0572ac90deec7e0\\expr.png\" style=\"display:inline;vertical-align:middle;\" /></a>, <a href=\"..\\__pv_it\\e4f584186b2a62556a4a962e905eea36142fa2160\\expr.ipynb\" target=\"_blank\"><img src=\"..\\__pv_it\\e4f584186b2a62556a4a962e905eea36142fa2160\\expr.png\" style=\"display:inline;vertical-align:middle;\" /></a></span></td></tr><tr><td>3</td><td>theorem</td><td></td><td><span style=\"font-size:20px;\"> &#x22A2;&nbsp;<a href=\"..\\..\\..\\packages\\proveit\\logic\\boolean\\implication\\__pv_it\\68ab413a595b1af69d2c75a8ae4224cd62b98c3f0\\expr.ipynb\" target=\"_blank\"><img src=\"..\\..\\..\\packages\\proveit\\logic\\boolean\\implication\\__pv_it\\68ab413a595b1af69d2c75a8ae4224cd62b98c3f0\\expr.png\" style=\"display:inline;vertical-align:middle;\" /></a></span></td></tr>\n",
       "<tr><td>&nbsp;</td><td colspan=4 style-\"text-align:left\"><a href=\"..\\..\\..\\packages\\proveit\\logic\\boolean\\implication\\_proofs_\\leftFromIff.ipynb\" target=\"_blank\">proveit.logic.boolean.implication.leftFromIff</a></td></tr><tr><td>4</td><td>specialization</td><td>6, 7</td><td><span style=\"font-size:20px;\"> &#x22A2;&nbsp;<a href=\"..\\__pv_it\\c10d3ce36be8a9105be90c1fcc91daf070af37610\\expr.ipynb\" target=\"_blank\"><img src=\"..\\__pv_it\\c10d3ce36be8a9105be90c1fcc91daf070af37610\\expr.png\" style=\"display:inline;vertical-align:middle;\" /></a></span></td></tr>\n",
       "<tr><td>&nbsp;</td><td colspan=4 style=\"text-align:left\"><span style=\"font-size:20px;\"><a href=\"..\\__pv_it\\fe118a8f0387859a6b435ce46b74387aa33de2e70\\expr.ipynb\" target=\"_blank\"><img src=\"..\\__pv_it\\fe118a8f0387859a6b435ce46b74387aa33de2e70\\expr.png\" style=\"display:inline;vertical-align:middle;\" /></a></span></td></tr><tr><td>5</td><td>modus ponens</td><td>8, 9</td><td><span style=\"font-size:20px;\"><a href=\"..\\__pv_it\\1da6515d74548c49bc22a9c36f1c98a5441d9bc80\\expr.ipynb\" target=\"_blank\"><img src=\"..\\__pv_it\\1da6515d74548c49bc22a9c36f1c98a5441d9bc80\\expr.png\" style=\"display:inline;vertical-align:middle;\" /></a> &#x22A2;&nbsp;<a href=\"..\\__pv_it\\fb08f34cfd208c896931cb359dc53864f83f81b50\\expr.ipynb\" target=\"_blank\"><img src=\"..\\__pv_it\\fb08f34cfd208c896931cb359dc53864f83f81b50\\expr.png\" style=\"display:inline;vertical-align:middle;\" /></a></span></td></tr>\n",
       "<tr><td>6</td><td>axiom</td><td></td><td><span style=\"font-size:20px;\"> &#x22A2;&nbsp;<a href=\"..\\__pv_it\\2f87d374182f7736502e0748c29909be6affde4e0\\expr.ipynb\" target=\"_blank\"><img src=\"..\\__pv_it\\2f87d374182f7736502e0748c29909be6affde4e0\\expr.png\" style=\"display:inline;vertical-align:middle;\" /></a></span></td></tr>\n",
       "<tr><td>&nbsp;</td><td colspan=4 style-\"text-align:left\"><a href=\"..\\_axioms_.ipynb#containsMatchDef\" target=\"_blank\">socks_demo.containsMatchDef</a></td></tr><tr><td>7</td><td>axiom</td><td></td><td><span style=\"font-size:20px;\"> &#x22A2;&nbsp;<a href=\"..\\__pv_it\\b0442aba3e755a068d43e2257cab67c2ec3ddbd70\\expr.ipynb\" target=\"_blank\"><img src=\"..\\__pv_it\\b0442aba3e755a068d43e2257cab67c2ec3ddbd70\\expr.png\" style=\"display:inline;vertical-align:middle;\" /></a></span></td></tr>\n",
       "<tr><td>&nbsp;</td><td colspan=4 style-\"text-align:left\"><a href=\"..\\_axioms_.ipynb#chosenFromDrawer\" target=\"_blank\">socks_demo.chosenFromDrawer</a></td></tr><tr><td>8</td><td>specialization</td><td>10, 11</td><td><span style=\"font-size:20px;\"> &#x22A2;&nbsp;<a href=\"..\\__pv_it\\0f2ad10aabd448a47689c1690e80bca71cd5721b0\\expr.ipynb\" target=\"_blank\"><img src=\"..\\__pv_it\\0f2ad10aabd448a47689c1690e80bca71cd5721b0\\expr.png\" style=\"display:inline;vertical-align:middle;\" /></a></span></td></tr>\n",
       "<tr><td>&nbsp;</td><td colspan=4 style=\"text-align:left\"><span style=\"font-size:20px;\"><a href=\"..\\__pv_it\\54b1abd5b5cc06e22863a7b81c5110a5c8fdbe7e0\\expr.ipynb\" target=\"_blank\"><img src=\"..\\__pv_it\\54b1abd5b5cc06e22863a7b81c5110a5c8fdbe7e0\\expr.png\" style=\"display:inline;vertical-align:middle;\" /></a>, relabeling <a href=\"..\\__pv_it\\7a453ab39048a66616188f69a5cbca43acf21ba00\\expr.ipynb\" target=\"_blank\"><img src=\"..\\__pv_it\\7a453ab39048a66616188f69a5cbca43acf21ba00\\expr.png\" style=\"display:inline;vertical-align:middle;\" /></a></span></td></tr><tr><td>9</td><td>modus ponens</td><td>12, 13</td><td><span style=\"font-size:20px;\"><a href=\"..\\__pv_it\\1da6515d74548c49bc22a9c36f1c98a5441d9bc80\\expr.ipynb\" target=\"_blank\"><img src=\"..\\__pv_it\\1da6515d74548c49bc22a9c36f1c98a5441d9bc80\\expr.png\" style=\"display:inline;vertical-align:middle;\" /></a> &#x22A2;&nbsp;<a href=\"..\\__pv_it\\7654200b30eca284990da34ab78274a3784913b00\\expr.ipynb\" target=\"_blank\"><img src=\"..\\__pv_it\\7654200b30eca284990da34ab78274a3784913b00\\expr.png\" style=\"display:inline;vertical-align:middle;\" /></a></span></td></tr>\n",
       "<tr><td>10</td><td>theorem</td><td></td><td><span style=\"font-size:20px;\"> &#x22A2;&nbsp;<a href=\"..\\..\\..\\packages\\proveit\\logic\\boolean\\quantification\\existential\\__pv_it\\3553eebe48263e45c92d07a6b13cb954649b9f4b0\\expr.ipynb\" target=\"_blank\"><img src=\"..\\..\\..\\packages\\proveit\\logic\\boolean\\quantification\\existential\\__pv_it\\3553eebe48263e45c92d07a6b13cb954649b9f4b0\\expr.png\" style=\"display:inline;vertical-align:middle;\" /></a></span></td></tr>\n",
       "<tr><td>&nbsp;</td><td colspan=4 style-\"text-align:left\"><a href=\"..\\..\\..\\packages\\proveit\\logic\\boolean\\quantification\\existential\\_proofs_\\existsInSuperset.ipynb\" target=\"_blank\">proveit.logic.boolean.quantification.existential.existsInSuperset</a></td></tr><tr><td>11</td><td>specialization</td><td>14</td><td><span style=\"font-size:20px;\"> &#x22A2;&nbsp;<a href=\"..\\__pv_it\\666976a9c1fa1ce48ac76e9817d5d51199aca2d40\\expr.ipynb\" target=\"_blank\"><img src=\"..\\__pv_it\\666976a9c1fa1ce48ac76e9817d5d51199aca2d40\\expr.png\" style=\"display:inline;vertical-align:middle;\" /></a></span></td></tr>\n",
       "<tr><td>&nbsp;</td><td colspan=4 style=\"text-align:left\"><span style=\"font-size:20px;\"><a href=\"..\\__pv_it\\5ed87203f9d4ef79bdcfbd2e40705d65c06929200\\expr.ipynb\" target=\"_blank\"><img src=\"..\\__pv_it\\5ed87203f9d4ef79bdcfbd2e40705d65c06929200\\expr.png\" style=\"display:inline;vertical-align:middle;\" /></a></span></td></tr><tr><td>12</td><td>modus ponens</td><td>15, 16</td><td><span style=\"font-size:20px;\"> &#x22A2;&nbsp;<a href=\"..\\__pv_it\\e3094e6867b329b6902b9fc27ab3104d909cbaaa0\\expr.ipynb\" target=\"_blank\"><img src=\"..\\__pv_it\\e3094e6867b329b6902b9fc27ab3104d909cbaaa0\\expr.png\" style=\"display:inline;vertical-align:middle;\" /></a></span></td></tr>\n",
       "<tr><td>13</td><td>specialization</td><td>17, 18</td><td><span style=\"font-size:20px;\"><a href=\"..\\__pv_it\\1da6515d74548c49bc22a9c36f1c98a5441d9bc80\\expr.ipynb\" target=\"_blank\"><img src=\"..\\__pv_it\\1da6515d74548c49bc22a9c36f1c98a5441d9bc80\\expr.png\" style=\"display:inline;vertical-align:middle;\" /></a> &#x22A2;&nbsp;<a href=\"..\\__pv_it\\9470fd23d06f093a51d9a43a4e1d9586d4576a0e0\\expr.ipynb\" target=\"_blank\"><img src=\"..\\__pv_it\\9470fd23d06f093a51d9a43a4e1d9586d4576a0e0\\expr.png\" style=\"display:inline;vertical-align:middle;\" /></a></span></td></tr>\n",
       "<tr><td>&nbsp;</td><td colspan=4 style=\"text-align:left\"><span style=\"font-size:20px;\"><a href=\"..\\__pv_it\\cb0099819a68935d1c6edd56526a50e7b3898c940\\expr.ipynb\" target=\"_blank\"><img src=\"..\\__pv_it\\cb0099819a68935d1c6edd56526a50e7b3898c940\\expr.png\" style=\"display:inline;vertical-align:middle;\" /></a></span></td></tr><tr><td>14</td><td>theorem</td><td></td><td><span style=\"font-size:20px;\"> &#x22A2;&nbsp;<a href=\"..\\__pv_it\\0d0945c545920968899331b0c011cb3591ecd5eb0\\expr.ipynb\" target=\"_blank\"><img src=\"..\\__pv_it\\0d0945c545920968899331b0c011cb3591ecd5eb0\\expr.png\" style=\"display:inline;vertical-align:middle;\" /></a></span></td></tr>\n",
       "<tr><td>&nbsp;</td><td colspan=4 style-\"text-align:left\"><a href=\"chosenMatchesAreChosen.ipynb\" target=\"_blank\">socks_demo.chosenMatchesAreChosen</a></td></tr><tr><td>15</td><td>specialization</td><td>19</td><td><span style=\"font-size:20px;\"> &#x22A2;&nbsp;<a href=\"..\\__pv_it\\b099e88919925f088b1b0dbf9bd0695c57db2e760\\expr.ipynb\" target=\"_blank\"><img src=\"..\\__pv_it\\b099e88919925f088b1b0dbf9bd0695c57db2e760\\expr.png\" style=\"display:inline;vertical-align:middle;\" /></a></span></td></tr>\n",
       "<tr><td>&nbsp;</td><td colspan=4 style=\"text-align:left\"><span style=\"font-size:20px;\"><a href=\"..\\__pv_it\\bfaee634c043551a63c6772ca0f618e951ad3ba60\\expr.ipynb\" target=\"_blank\"><img src=\"..\\__pv_it\\bfaee634c043551a63c6772ca0f618e951ad3ba60\\expr.png\" style=\"display:inline;vertical-align:middle;\" /></a>, relabeling <a href=\"..\\__pv_it\\b78afcb5912cedf3bfad5feef5ce5b3d7c6d58e70\\expr.ipynb\" target=\"_blank\"><img src=\"..\\__pv_it\\b78afcb5912cedf3bfad5feef5ce5b3d7c6d58e70\\expr.png\" style=\"display:inline;vertical-align:middle;\" /></a></span></td></tr><tr><td>16</td><td>specialization</td><td>20</td><td><span style=\"font-size:20px;\"> &#x22A2;&nbsp;<a href=\"..\\__pv_it\\7af5114a723052e913b0e531408ffc906071f9c60\\expr.ipynb\" target=\"_blank\"><img src=\"..\\__pv_it\\7af5114a723052e913b0e531408ffc906071f9c60\\expr.png\" style=\"display:inline;vertical-align:middle;\" /></a></span></td></tr>\n",
       "<tr><td>&nbsp;</td><td colspan=4 style=\"text-align:left\"><span style=\"font-size:20px;\"><a href=\"..\\__pv_it\\5ed87203f9d4ef79bdcfbd2e40705d65c06929200\\expr.ipynb\" target=\"_blank\"><img src=\"..\\__pv_it\\5ed87203f9d4ef79bdcfbd2e40705d65c06929200\\expr.png\" style=\"display:inline;vertical-align:middle;\" /></a></span></td></tr><tr><td>17</td><td>theorem</td><td></td><td><span style=\"font-size:20px;\"> &#x22A2;&nbsp;<a href=\"..\\..\\..\\packages\\proveit\\logic\\set_theory\\cardinality\\__pv_it\\60af521eb9f611fa99eb5ed9fe1b9e3aa43afae10\\expr.ipynb\" target=\"_blank\"><img src=\"..\\..\\..\\packages\\proveit\\logic\\set_theory\\cardinality\\__pv_it\\60af521eb9f611fa99eb5ed9fe1b9e3aa43afae10\\expr.png\" style=\"display:inline;vertical-align:middle;\" /></a></span></td></tr>\n",
       "<tr><td>&nbsp;</td><td colspan=4 style-\"text-align:left\"><a href=\"..\\..\\..\\packages\\proveit\\logic\\set_theory\\cardinality\\_proofs_\\distinctPairExistence.ipynb\" target=\"_blank\">proveit.logic.set_theory.cardinality.distinctPairExistence</a></td></tr><tr><td>18</td><td>assumption</td><td></td><td><span style=\"font-size:20px;\"><a href=\"..\\__pv_it\\1da6515d74548c49bc22a9c36f1c98a5441d9bc80\\expr.ipynb\" target=\"_blank\"><img src=\"..\\__pv_it\\1da6515d74548c49bc22a9c36f1c98a5441d9bc80\\expr.png\" style=\"display:inline;vertical-align:middle;\" /></a> &#x22A2;&nbsp;<a href=\"..\\__pv_it\\3ad27daa209efbd55710314caa14eed6a8f3138f0\\expr.ipynb\" target=\"_blank\"><img src=\"..\\__pv_it\\3ad27daa209efbd55710314caa14eed6a8f3138f0\\expr.png\" style=\"display:inline;vertical-align:middle;\" /></a></span></td></tr>\n",
       "<tr><td>19</td><td>theorem</td><td></td><td><span style=\"font-size:20px;\"> &#x22A2;&nbsp;<a href=\"..\\..\\..\\packages\\proveit\\logic\\boolean\\quantification\\existential\\__pv_it\\c548e092812f3bc753f59cedc326ac77d3d21cdc0\\expr.ipynb\" target=\"_blank\"><img src=\"..\\..\\..\\packages\\proveit\\logic\\boolean\\quantification\\existential\\__pv_it\\c548e092812f3bc753f59cedc326ac77d3d21cdc0\\expr.png\" style=\"display:inline;vertical-align:middle;\" /></a></span></td></tr>\n",
       "<tr><td>&nbsp;</td><td colspan=4 style-\"text-align:left\"><a href=\"..\\..\\..\\packages\\proveit\\logic\\boolean\\quantification\\existential\\_proofs_\\existentialImplication.ipynb\" target=\"_blank\">proveit.logic.boolean.quantification.existential.existentialImplication</a></td></tr><tr><td>20</td><td>theorem</td><td></td><td><span style=\"font-size:20px;\"> &#x22A2;&nbsp;<a href=\"..\\__pv_it\\dbc67923018e95dab881640e8a600510ce5abe6b0\\expr.ipynb\" target=\"_blank\"><img src=\"..\\__pv_it\\dbc67923018e95dab881640e8a600510ce5abe6b0\\expr.png\" style=\"display:inline;vertical-align:middle;\" /></a></span></td></tr>\n",
       "<tr><td>&nbsp;</td><td colspan=4 style-\"text-align:left\"><a href=\"pairInChosenMatches.ipynb\" target=\"_blank\">socks_demo.pairInChosenMatches</a></td></tr>"
      ],
      "text/plain": [
       "<proveit._core_.proof.Generalization instance at 0x0000000006CB4FC8>"
      ]
     },
     "execution_count": 14,
     "metadata": {},
     "output_type": "execute_result"
    }
   ],
   "source": [
    "%qed"
   ]
  },
  {
   "cell_type": "code",
   "execution_count": 15,
   "metadata": {
    "collapsed": true,
    "deletable": true,
    "editable": true
   },
   "outputs": [],
   "source": []
  }
 ],
 "metadata": {
  "kernelspec": {
   "display_name": "Python 2",
   "language": "python",
   "name": "python2"
  },
  "language_info": {
   "codemirror_mode": {
    "name": "ipython",
    "version": 2
   },
   "file_extension": ".py",
   "mimetype": "text/x-python",
   "name": "python",
   "nbconvert_exporter": "python",
   "pygments_lexer": "ipython2",
   "version": "2.7.11"
  }
 },
 "nbformat": 4,
 "nbformat_minor": 0
}
