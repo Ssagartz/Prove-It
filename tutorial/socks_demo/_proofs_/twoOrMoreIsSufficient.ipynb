{
 "cells": [
  {
   "cell_type": "markdown",
   "metadata": {
    "collapsed": true,
    "deletable": true,
    "editable": true
   },
   "source": [
    "Proof of <a class=\"ProveItLink\" href=\"..\\_context_.ipynb\">socks_demo</a>.<a href=\"../_theorems_.ipynb#twoOrMoreIsSufficient\" class=\"ProveItLink\">twoOrMoreIsSufficient</a> theorem\n",
    "========"
   ]
  },
  {
   "cell_type": "code",
   "execution_count": 1,
   "metadata": {
    "collapsed": false,
    "deletable": true,
    "editable": true,
    "scrolled": true
   },
   "outputs": [],
   "source": [
    "import proveit\n",
    "context = proveit.Context('..') # the theorem's context is in the parent directory\n",
    "from socks_demo._common_ import color, chosenMatches, abDistinct, abIsMatch, Dsocks, cSocks\n",
    "from socks_demo._theorems_ import pairInChosenMatches, chosenMatchesAreChosen\n",
    "from socks_demo._axioms_ import chosenFromDrawer\n",
    "from proveit.logic import InSet, NotEquals\n",
    "from proveit._common_ import a, b\n",
    "from proveit import defaults"
   ]
  },
  {
   "cell_type": "code",
   "execution_count": 2,
   "metadata": {
    "collapsed": false,
    "deletable": true,
    "editable": true
   },
   "outputs": [
    {
     "name": "stdout",
     "output_type": "stream",
     "text": [
      "Recorded 'presuming' information\n",
      "Presuming theorems in proveit.logic (except any that depend upon this theorem).\n",
      "Presuming previous theorems in this context (and any of their dependencies).\n",
      "Beginning proof of\n"
     ]
    },
    {
     "data": {
      "text/html": [
       "<strong id=\"twoOrMoreIsSufficient\">twoOrMoreIsSufficient:</strong> <a href=\"..\\__pv_it\\c64aba2e030febe77d425e4b1baf766a9cd2024c0\\expr.ipynb\" target=\"_blank\"><img src=\"..\\__pv_it\\c64aba2e030febe77d425e4b1baf766a9cd2024c0\\expr.png\" style=\"display:inline;vertical-align:middle;\" /></a><br>(see <a class=\"ProveItLink\" href=\"..\\__pv_it\\c64aba2e030febe77d425e4b1baf766a9cd2024c0\\dependencies.ipynb\" target=\"_blank\">dependencies</a>)"
      ],
      "text/plain": [
       "twoOrMoreIsSufficient: forall_{color} ((|MatchingSubset(c,color)| >= 2) => ContainsMatch(c))"
      ]
     },
     "execution_count": 2,
     "metadata": {},
     "output_type": "execute_result"
    }
   ],
   "source": [
    "%begin_proof twoOrMoreIsSufficient presuming [proveit.logic]"
   ]
  },
  {
   "cell_type": "code",
   "execution_count": 3,
   "metadata": {
    "collapsed": false,
    "deletable": true,
    "editable": true
   },
   "outputs": [
    {
     "data": {
      "text/html": [
       "<strong id=\"antecedent\">antecedent:</strong> <a href=\"..\\__pv_it\\5c4d4606a9067ab618352a6f2e33d016798ca3700\\expr.ipynb\" target=\"_blank\"><img src=\"..\\__pv_it\\5c4d4606a9067ab618352a6f2e33d016798ca3700\\expr.png\" style=\"display:inline;vertical-align:middle;\" /></a><br>"
      ],
      "text/plain": [
       "antecedent: |MatchingSubset(c,color)| >= 2"
      ]
     },
     "execution_count": 3,
     "metadata": {},
     "output_type": "execute_result"
    }
   ],
   "source": [
    "antecedent = twoOrMoreIsSufficient.instanceExpr.antecedent"
   ]
  },
  {
   "cell_type": "code",
   "execution_count": 4,
   "metadata": {
    "collapsed": false,
    "deletable": true,
    "editable": true
   },
   "outputs": [
    {
     "data": {
      "text/html": [
       "<strong id=\"cardSubset\">cardSubset:</strong> <a href=\"..\\__pv_it\\5a2adbb7e2175a382e038358e5d8dc148db3d09b0\\expr.ipynb\" target=\"_blank\"><img src=\"..\\__pv_it\\5a2adbb7e2175a382e038358e5d8dc148db3d09b0\\expr.png\" style=\"display:inline;vertical-align:middle;\" /></a><br>"
      ],
      "text/plain": [
       "cardSubset: |MatchingSubset(c,color)|"
      ]
     },
     "execution_count": 4,
     "metadata": {},
     "output_type": "execute_result"
    }
   ],
   "source": [
    "cardSubset = antecedent.lhs"
   ]
  },
  {
   "cell_type": "code",
   "execution_count": 5,
   "metadata": {
    "collapsed": false,
    "deletable": true,
    "editable": true
   },
   "outputs": [
    {
     "data": {
      "text/html": [
       "<strong id=\"existsDistinct_ab\">existsDistinct_ab:</strong> <span style=\"font-size:20px;\"><a href=\"..\\__pv_it\\769fd7c1f32b44a4781a0d03ccf7168d64d536aa0\\expr.ipynb\" target=\"_blank\"><img src=\"..\\__pv_it\\769fd7c1f32b44a4781a0d03ccf7168d64d536aa0\\expr.png\" style=\"display:inline;vertical-align:middle;\" /></a> &#x22A2;&nbsp;<a href=\"..\\__pv_it\\3caeb2d00fecb6f2e214c5df0686ca4a0f23aba40\\expr.ipynb\" target=\"_blank\"><img src=\"..\\__pv_it\\3caeb2d00fecb6f2e214c5df0686ca4a0f23aba40\\expr.png\" style=\"display:inline;vertical-align:middle;\" /></a></span><br>"
      ],
      "text/plain": [
       "existsDistinct_ab: {(|MatchingSubset(c,color)| >= 2)} |= exists_{a, b in MatchingSubset(c,color)} (a != b)"
      ]
     },
     "execution_count": 5,
     "metadata": {},
     "output_type": "execute_result"
    }
   ],
   "source": [
    "existsDistinct_ab = cardSubset.distinctSubsetExistence((a, b), assumptions=[antecedent])"
   ]
  },
  {
   "cell_type": "code",
   "execution_count": 6,
   "metadata": {
    "collapsed": false,
    "deletable": true,
    "editable": true
   },
   "outputs": [
    {
     "data": {
      "text/html": [
       "<span style=\"font-size:20px;\"> &#x22A2;&nbsp;<a href=\"..\\__pv_it\\a8b56a1b491f457123824ecbf7e0ec475e7e58720\\expr.ipynb\" target=\"_blank\"><img src=\"..\\__pv_it\\a8b56a1b491f457123824ecbf7e0ec475e7e58720\\expr.png\" style=\"display:inline;vertical-align:middle;\" /></a></span>"
      ],
      "text/plain": [
       "|= forall_{color} [forall_{a, b in MatchingSubset(c,color) | (a != b)} IsMatch(a,b)]"
      ]
     },
     "execution_count": 6,
     "metadata": {},
     "output_type": "execute_result"
    }
   ],
   "source": [
    "pairInChosenMatches"
   ]
  },
  {
   "cell_type": "code",
   "execution_count": 7,
   "metadata": {
    "collapsed": false,
    "deletable": true,
    "editable": true
   },
   "outputs": [
    {
     "data": {
      "text/html": [
       "<strong id=\"specPairInMatches\">specPairInMatches:</strong> <span style=\"font-size:20px;\"> &#x22A2;&nbsp;<a href=\"..\\__pv_it\\999ff259a12dbcb8d5000cec40bbeb11192135f90\\expr.ipynb\" target=\"_blank\"><img src=\"..\\__pv_it\\999ff259a12dbcb8d5000cec40bbeb11192135f90\\expr.png\" style=\"display:inline;vertical-align:middle;\" /></a></span><br>"
      ],
      "text/plain": [
       "specPairInMatches: |= forall_{a, b in MatchingSubset(c,color) | (a != b)} IsMatch(a,b)"
      ]
     },
     "execution_count": 7,
     "metadata": {},
     "output_type": "execute_result"
    }
   ],
   "source": [
    "specPairInMatches = pairInChosenMatches.specialize()"
   ]
  },
  {
   "cell_type": "code",
   "execution_count": 8,
   "metadata": {
    "collapsed": false,
    "deletable": true,
    "editable": true
   },
   "outputs": [
    {
     "data": {
      "text/html": [
       "<strong id=\"existsMatchInMatches\">existsMatchInMatches:</strong> <span style=\"font-size:20px;\"><a href=\"..\\__pv_it\\769fd7c1f32b44a4781a0d03ccf7168d64d536aa0\\expr.ipynb\" target=\"_blank\"><img src=\"..\\__pv_it\\769fd7c1f32b44a4781a0d03ccf7168d64d536aa0\\expr.png\" style=\"display:inline;vertical-align:middle;\" /></a> &#x22A2;&nbsp;<a href=\"..\\__pv_it\\3afad650c35bbbdf5ddaa609136e2e70cb1fb7260\\expr.ipynb\" target=\"_blank\"><img src=\"..\\__pv_it\\3afad650c35bbbdf5ddaa609136e2e70cb1fb7260\\expr.png\" style=\"display:inline;vertical-align:middle;\" /></a></span><br>"
      ],
      "text/plain": [
       "existsMatchInMatches: {(|MatchingSubset(c,color)| >= 2)} |= exists_{a, b in MatchingSubset(c,color)} IsMatch(a,b)"
      ]
     },
     "execution_count": 8,
     "metadata": {},
     "output_type": "execute_result"
    }
   ],
   "source": [
    "existsMatchInMatches = existsDistinct_ab.substituteInstances(specPairInMatches)"
   ]
  },
  {
   "cell_type": "code",
   "execution_count": 9,
   "metadata": {
    "collapsed": false,
    "deletable": true,
    "editable": true
   },
   "outputs": [
    {
     "data": {
      "text/html": [
       "<span style=\"font-size:20px;\"> &#x22A2;&nbsp;<a href=\"..\\__pv_it\\16a07b4499ed1d2e6392d76080a35058d85dcf2f0\\expr.ipynb\" target=\"_blank\"><img src=\"..\\__pv_it\\16a07b4499ed1d2e6392d76080a35058d85dcf2f0\\expr.png\" style=\"display:inline;vertical-align:middle;\" /></a></span>"
      ],
      "text/plain": [
       "|= forall_{color} (MatchingSubset(c,color) subseteq c)"
      ]
     },
     "execution_count": 9,
     "metadata": {},
     "output_type": "execute_result"
    }
   ],
   "source": [
    "chosenMatchesAreChosen"
   ]
  },
  {
   "cell_type": "code",
   "execution_count": 10,
   "metadata": {
    "collapsed": false,
    "deletable": true,
    "editable": true
   },
   "outputs": [
    {
     "data": {
      "text/html": [
       "<span style=\"font-size:20px;\"> &#x22A2;&nbsp;<a href=\"..\\__pv_it\\d7bbc1f75c9689b712ea92dcc0a9408e24cf43190\\expr.ipynb\" target=\"_blank\"><img src=\"..\\__pv_it\\d7bbc1f75c9689b712ea92dcc0a9408e24cf43190\\expr.png\" style=\"display:inline;vertical-align:middle;\" /></a></span>"
      ],
      "text/plain": [
       "|= MatchingSubset(c,color) subseteq c"
      ]
     },
     "execution_count": 10,
     "metadata": {},
     "output_type": "execute_result"
    }
   ],
   "source": [
    "chosenMatchesAreChosen.specialize()"
   ]
  },
  {
   "cell_type": "code",
   "execution_count": 11,
   "metadata": {
    "collapsed": false,
    "deletable": true,
    "editable": true
   },
   "outputs": [
    {
     "data": {
      "text/html": [
       "<span style=\"font-size:20px;\"><a href=\"..\\__pv_it\\769fd7c1f32b44a4781a0d03ccf7168d64d536aa0\\expr.ipynb\" target=\"_blank\"><img src=\"..\\__pv_it\\769fd7c1f32b44a4781a0d03ccf7168d64d536aa0\\expr.png\" style=\"display:inline;vertical-align:middle;\" /></a> &#x22A2;&nbsp;<a href=\"..\\__pv_it\\77115a57a7df6e232b1836256f2d26c80376e78d0\\expr.ipynb\" target=\"_blank\"><img src=\"..\\__pv_it\\77115a57a7df6e232b1836256f2d26c80376e78d0\\expr.png\" style=\"display:inline;vertical-align:middle;\" /></a></span>"
      ],
      "text/plain": [
       "{(|MatchingSubset(c,color)| >= 2)} |= exists_{a, b in c} IsMatch(a,b)"
      ]
     },
     "execution_count": 11,
     "metadata": {},
     "output_type": "execute_result"
    }
   ],
   "source": [
    "existsMatchInMatches.substituteDomain(cSocks)"
   ]
  },
  {
   "cell_type": "code",
   "execution_count": 12,
   "metadata": {
    "collapsed": false,
    "deletable": true,
    "editable": true
   },
   "outputs": [
    {
     "data": {
      "text/html": [
       "<strong id=\"chosenContainsMatch\">chosenContainsMatch:</strong> <span style=\"font-size:20px;\"><a href=\"..\\__pv_it\\769fd7c1f32b44a4781a0d03ccf7168d64d536aa0\\expr.ipynb\" target=\"_blank\"><img src=\"..\\__pv_it\\769fd7c1f32b44a4781a0d03ccf7168d64d536aa0\\expr.png\" style=\"display:inline;vertical-align:middle;\" /></a> &#x22A2;&nbsp;<a href=\"..\\__pv_it\\87e9f5e0313213f1359228eb5fb7803c1e448d560\\expr.ipynb\" target=\"_blank\"><img src=\"..\\__pv_it\\87e9f5e0313213f1359228eb5fb7803c1e448d560\\expr.png\" style=\"display:inline;vertical-align:middle;\" /></a></span><br>"
      ],
      "text/plain": [
       "chosenContainsMatch: {(|MatchingSubset(c,color)| >= 2)} |= ContainsMatch(c)"
      ]
     },
     "execution_count": 12,
     "metadata": {},
     "output_type": "execute_result"
    }
   ],
   "source": [
    "chosenContainsMatch = twoOrMoreIsSufficient.instanceExpr.consequent.prove([antecedent])"
   ]
  },
  {
   "cell_type": "code",
   "execution_count": 13,
   "metadata": {
    "collapsed": false,
    "deletable": true,
    "editable": true
   },
   "outputs": [
    {
     "name": "stdout",
     "output_type": "stream",
     "text": [
      "twoOrMoreIsSufficient has been proven.  Now simply execute \"%qed\".\n"
     ]
    },
    {
     "data": {
      "text/html": [
       "<span style=\"font-size:20px;\"> &#x22A2;&nbsp;<a href=\"..\\__pv_it\\c64aba2e030febe77d425e4b1baf766a9cd2024c0\\expr.ipynb\" target=\"_blank\"><img src=\"..\\__pv_it\\c64aba2e030febe77d425e4b1baf766a9cd2024c0\\expr.png\" style=\"display:inline;vertical-align:middle;\" /></a></span>"
      ],
      "text/plain": [
       "|= forall_{color} ((|MatchingSubset(c,color)| >= 2) => ContainsMatch(c))"
      ]
     },
     "execution_count": 13,
     "metadata": {},
     "output_type": "execute_result"
    }
   ],
   "source": [
    "chosenContainsMatch.asImplication(antecedent).generalize(color)"
   ]
  },
  {
   "cell_type": "code",
   "execution_count": 14,
   "metadata": {
    "collapsed": false,
    "deletable": true,
    "editable": true
   },
   "outputs": [
    {
     "data": {
      "text/html": [
       "<table><tr><th>&nbsp;</th><th>step type</th><th>requirements</th><th>statement</th></tr>\n",
       "<tr><td>0</td><td>generalizaton</td><td>1</td><td><span style=\"font-size:20px;\"> &#x22A2;&nbsp;<a href=\"..\\__pv_it\\c64aba2e030febe77d425e4b1baf766a9cd2024c0\\expr.ipynb\" target=\"_blank\"><img src=\"..\\__pv_it\\c64aba2e030febe77d425e4b1baf766a9cd2024c0\\expr.png\" style=\"display:inline;vertical-align:middle;\" /></a></span></td></tr>\n",
       "<tr><td>1</td><td>hypothetical reasoning</td><td>2</td><td><span style=\"font-size:20px;\"> &#x22A2;&nbsp;<a href=\"..\\__pv_it\\4bdb4c6a4c6ea413c87105ff3abf2f5ef92179cb0\\expr.ipynb\" target=\"_blank\"><img src=\"..\\__pv_it\\4bdb4c6a4c6ea413c87105ff3abf2f5ef92179cb0\\expr.png\" style=\"display:inline;vertical-align:middle;\" /></a></span></td></tr>\n",
       "<tr><td>2</td><td>specialization</td><td>3, 4, 5</td><td><span style=\"font-size:20px;\"><a href=\"..\\__pv_it\\769fd7c1f32b44a4781a0d03ccf7168d64d536aa0\\expr.ipynb\" target=\"_blank\"><img src=\"..\\__pv_it\\769fd7c1f32b44a4781a0d03ccf7168d64d536aa0\\expr.png\" style=\"display:inline;vertical-align:middle;\" /></a> &#x22A2;&nbsp;<a href=\"..\\__pv_it\\87e9f5e0313213f1359228eb5fb7803c1e448d560\\expr.ipynb\" target=\"_blank\"><img src=\"..\\__pv_it\\87e9f5e0313213f1359228eb5fb7803c1e448d560\\expr.png\" style=\"display:inline;vertical-align:middle;\" /></a></span></td></tr>\n",
       "<tr><td>&nbsp;</td><td colspan=4 style=\"text-align:left\"><span style=\"font-size:20px;\"><a href=\"..\\__pv_it\\ce606d9c9ddf4aecc83ed7dce8b0a06663d20c630\\expr.ipynb\" target=\"_blank\"><img src=\"..\\__pv_it\\ce606d9c9ddf4aecc83ed7dce8b0a06663d20c630\\expr.png\" style=\"display:inline;vertical-align:middle;\" /></a>, <a href=\"..\\__pv_it\\4d620bb1b7c8be51381b76f0b394c094043d48480\\expr.ipynb\" target=\"_blank\"><img src=\"..\\__pv_it\\4d620bb1b7c8be51381b76f0b394c094043d48480\\expr.png\" style=\"display:inline;vertical-align:middle;\" /></a></span></td></tr><tr><td>3</td><td>theorem</td><td></td><td><span style=\"font-size:20px;\"> &#x22A2;&nbsp;<a href=\"..\\..\\..\\packages\\proveit\\logic\\boolean\\implication\\__pv_it\\68ab413a595b1af69d2c75a8ae4224cd62b98c3f0\\expr.ipynb\" target=\"_blank\"><img src=\"..\\..\\..\\packages\\proveit\\logic\\boolean\\implication\\__pv_it\\68ab413a595b1af69d2c75a8ae4224cd62b98c3f0\\expr.png\" style=\"display:inline;vertical-align:middle;\" /></a></span></td></tr>\n",
       "<tr><td>&nbsp;</td><td colspan=4 style-\"text-align:left\"><a href=\"..\\..\\..\\packages\\proveit\\logic\\boolean\\implication\\_proofs_\\leftFromIff.ipynb\" target=\"_blank\">proveit.logic.boolean.implication.leftFromIff</a></td></tr><tr><td>4</td><td>specialization</td><td>6, 7</td><td><span style=\"font-size:20px;\"> &#x22A2;&nbsp;<a href=\"..\\__pv_it\\b4e5da0b478efe09b5c02952b3ec2ede37954ba50\\expr.ipynb\" target=\"_blank\"><img src=\"..\\__pv_it\\b4e5da0b478efe09b5c02952b3ec2ede37954ba50\\expr.png\" style=\"display:inline;vertical-align:middle;\" /></a></span></td></tr>\n",
       "<tr><td>&nbsp;</td><td colspan=4 style=\"text-align:left\"><span style=\"font-size:20px;\"><a href=\"..\\__pv_it\\9fd1fa5eec780c6a8a6c1399817de310af29b6080\\expr.ipynb\" target=\"_blank\"><img src=\"..\\__pv_it\\9fd1fa5eec780c6a8a6c1399817de310af29b6080\\expr.png\" style=\"display:inline;vertical-align:middle;\" /></a></span></td></tr><tr><td>5</td><td>modus ponens</td><td>8, 9</td><td><span style=\"font-size:20px;\"><a href=\"..\\__pv_it\\769fd7c1f32b44a4781a0d03ccf7168d64d536aa0\\expr.ipynb\" target=\"_blank\"><img src=\"..\\__pv_it\\769fd7c1f32b44a4781a0d03ccf7168d64d536aa0\\expr.png\" style=\"display:inline;vertical-align:middle;\" /></a> &#x22A2;&nbsp;<a href=\"..\\__pv_it\\77115a57a7df6e232b1836256f2d26c80376e78d0\\expr.ipynb\" target=\"_blank\"><img src=\"..\\__pv_it\\77115a57a7df6e232b1836256f2d26c80376e78d0\\expr.png\" style=\"display:inline;vertical-align:middle;\" /></a></span></td></tr>\n",
       "<tr><td>6</td><td>axiom</td><td></td><td><span style=\"font-size:20px;\"> &#x22A2;&nbsp;<a href=\"..\\__pv_it\\79bbdb0fcd88592d2cb94449e25080ed5f7e1ffa0\\expr.ipynb\" target=\"_blank\"><img src=\"..\\__pv_it\\79bbdb0fcd88592d2cb94449e25080ed5f7e1ffa0\\expr.png\" style=\"display:inline;vertical-align:middle;\" /></a></span></td></tr>\n",
       "<tr><td>&nbsp;</td><td colspan=4 style-\"text-align:left\"><a href=\"..\\_axioms_.ipynb#containsMatchDef\" target=\"_blank\">socks_demo.containsMatchDef</a></td></tr><tr><td>7</td><td>axiom</td><td></td><td><span style=\"font-size:20px;\"> &#x22A2;&nbsp;<a href=\"..\\__pv_it\\a026630d9e4a151e6ad4f782d499964d6e5d61db0\\expr.ipynb\" target=\"_blank\"><img src=\"..\\__pv_it\\a026630d9e4a151e6ad4f782d499964d6e5d61db0\\expr.png\" style=\"display:inline;vertical-align:middle;\" /></a></span></td></tr>\n",
       "<tr><td>&nbsp;</td><td colspan=4 style-\"text-align:left\"><a href=\"..\\_axioms_.ipynb#chosenFromDrawer\" target=\"_blank\">socks_demo.chosenFromDrawer</a></td></tr><tr><td>8</td><td>specialization</td><td>10, 11</td><td><span style=\"font-size:20px;\"> &#x22A2;&nbsp;<a href=\"..\\__pv_it\\d3810365aed9bcf3839b9c19e6d6c50f1039dfc60\\expr.ipynb\" target=\"_blank\"><img src=\"..\\__pv_it\\d3810365aed9bcf3839b9c19e6d6c50f1039dfc60\\expr.png\" style=\"display:inline;vertical-align:middle;\" /></a></span></td></tr>\n",
       "<tr><td>&nbsp;</td><td colspan=4 style=\"text-align:left\"><span style=\"font-size:20px;\"><a href=\"..\\__pv_it\\f353ef79ba1f8e8883dcacc269209c1be2a09a890\\expr.ipynb\" target=\"_blank\"><img src=\"..\\__pv_it\\f353ef79ba1f8e8883dcacc269209c1be2a09a890\\expr.png\" style=\"display:inline;vertical-align:middle;\" /></a>, relabeling <a href=\"..\\__pv_it\\7a453ab39048a66616188f69a5cbca43acf21ba00\\expr.ipynb\" target=\"_blank\"><img src=\"..\\__pv_it\\7a453ab39048a66616188f69a5cbca43acf21ba00\\expr.png\" style=\"display:inline;vertical-align:middle;\" /></a></span></td></tr><tr><td>9</td><td>modus ponens</td><td>12, 13</td><td><span style=\"font-size:20px;\"><a href=\"..\\__pv_it\\769fd7c1f32b44a4781a0d03ccf7168d64d536aa0\\expr.ipynb\" target=\"_blank\"><img src=\"..\\__pv_it\\769fd7c1f32b44a4781a0d03ccf7168d64d536aa0\\expr.png\" style=\"display:inline;vertical-align:middle;\" /></a> &#x22A2;&nbsp;<a href=\"..\\__pv_it\\3afad650c35bbbdf5ddaa609136e2e70cb1fb7260\\expr.ipynb\" target=\"_blank\"><img src=\"..\\__pv_it\\3afad650c35bbbdf5ddaa609136e2e70cb1fb7260\\expr.png\" style=\"display:inline;vertical-align:middle;\" /></a></span></td></tr>\n",
       "<tr><td>10</td><td>theorem</td><td></td><td><span style=\"font-size:20px;\"> &#x22A2;&nbsp;<a href=\"..\\..\\..\\packages\\proveit\\logic\\boolean\\quantification\\existential\\__pv_it\\3553eebe48263e45c92d07a6b13cb954649b9f4b0\\expr.ipynb\" target=\"_blank\"><img src=\"..\\..\\..\\packages\\proveit\\logic\\boolean\\quantification\\existential\\__pv_it\\3553eebe48263e45c92d07a6b13cb954649b9f4b0\\expr.png\" style=\"display:inline;vertical-align:middle;\" /></a></span></td></tr>\n",
       "<tr><td>&nbsp;</td><td colspan=4 style-\"text-align:left\"><a href=\"..\\..\\..\\packages\\proveit\\logic\\boolean\\quantification\\existential\\_proofs_\\existsInSuperset.ipynb\" target=\"_blank\">proveit.logic.boolean.quantification.existential.existsInSuperset</a></td></tr><tr><td>11</td><td>specialization</td><td>14</td><td><span style=\"font-size:20px;\"> &#x22A2;&nbsp;<a href=\"..\\__pv_it\\d7bbc1f75c9689b712ea92dcc0a9408e24cf43190\\expr.ipynb\" target=\"_blank\"><img src=\"..\\__pv_it\\d7bbc1f75c9689b712ea92dcc0a9408e24cf43190\\expr.png\" style=\"display:inline;vertical-align:middle;\" /></a></span></td></tr>\n",
       "<tr><td>&nbsp;</td><td colspan=4 style=\"text-align:left\"><span style=\"font-size:20px;\"><a href=\"..\\__pv_it\\5ed87203f9d4ef79bdcfbd2e40705d65c06929200\\expr.ipynb\" target=\"_blank\"><img src=\"..\\__pv_it\\5ed87203f9d4ef79bdcfbd2e40705d65c06929200\\expr.png\" style=\"display:inline;vertical-align:middle;\" /></a></span></td></tr><tr><td>12</td><td>modus ponens</td><td>15, 16</td><td><span style=\"font-size:20px;\"> &#x22A2;&nbsp;<a href=\"..\\__pv_it\\bb02167ca9864a7116ff7907f00dfc9ed82b10350\\expr.ipynb\" target=\"_blank\"><img src=\"..\\__pv_it\\bb02167ca9864a7116ff7907f00dfc9ed82b10350\\expr.png\" style=\"display:inline;vertical-align:middle;\" /></a></span></td></tr>\n",
       "<tr><td>13</td><td>specialization</td><td>17, 18</td><td><span style=\"font-size:20px;\"><a href=\"..\\__pv_it\\769fd7c1f32b44a4781a0d03ccf7168d64d536aa0\\expr.ipynb\" target=\"_blank\"><img src=\"..\\__pv_it\\769fd7c1f32b44a4781a0d03ccf7168d64d536aa0\\expr.png\" style=\"display:inline;vertical-align:middle;\" /></a> &#x22A2;&nbsp;<a href=\"..\\__pv_it\\3caeb2d00fecb6f2e214c5df0686ca4a0f23aba40\\expr.ipynb\" target=\"_blank\"><img src=\"..\\__pv_it\\3caeb2d00fecb6f2e214c5df0686ca4a0f23aba40\\expr.png\" style=\"display:inline;vertical-align:middle;\" /></a></span></td></tr>\n",
       "<tr><td>&nbsp;</td><td colspan=4 style=\"text-align:left\"><span style=\"font-size:20px;\"><a href=\"..\\__pv_it\\d63d31f33e064a4ce1e9caa7e78e253fa699a0cc0\\expr.ipynb\" target=\"_blank\"><img src=\"..\\__pv_it\\d63d31f33e064a4ce1e9caa7e78e253fa699a0cc0\\expr.png\" style=\"display:inline;vertical-align:middle;\" /></a></span></td></tr><tr><td>14</td><td>theorem</td><td></td><td><span style=\"font-size:20px;\"> &#x22A2;&nbsp;<a href=\"..\\__pv_it\\16a07b4499ed1d2e6392d76080a35058d85dcf2f0\\expr.ipynb\" target=\"_blank\"><img src=\"..\\__pv_it\\16a07b4499ed1d2e6392d76080a35058d85dcf2f0\\expr.png\" style=\"display:inline;vertical-align:middle;\" /></a></span></td></tr>\n",
       "<tr><td>&nbsp;</td><td colspan=4 style-\"text-align:left\"><a href=\"chosenMatchesAreChosen.ipynb\" target=\"_blank\">socks_demo.chosenMatchesAreChosen</a></td></tr><tr><td>15</td><td>specialization</td><td>19</td><td><span style=\"font-size:20px;\"> &#x22A2;&nbsp;<a href=\"..\\__pv_it\\6c3b6ecb0135a17386adecc6cc48adc2f224198b0\\expr.ipynb\" target=\"_blank\"><img src=\"..\\__pv_it\\6c3b6ecb0135a17386adecc6cc48adc2f224198b0\\expr.png\" style=\"display:inline;vertical-align:middle;\" /></a></span></td></tr>\n",
       "<tr><td>&nbsp;</td><td colspan=4 style=\"text-align:left\"><span style=\"font-size:20px;\"><a href=\"..\\__pv_it\\ecddb4583c4415bf66c9c2290fa8e39cb4a8f57a0\\expr.ipynb\" target=\"_blank\"><img src=\"..\\__pv_it\\ecddb4583c4415bf66c9c2290fa8e39cb4a8f57a0\\expr.png\" style=\"display:inline;vertical-align:middle;\" /></a>, relabeling <a href=\"..\\__pv_it\\b78afcb5912cedf3bfad5feef5ce5b3d7c6d58e70\\expr.ipynb\" target=\"_blank\"><img src=\"..\\__pv_it\\b78afcb5912cedf3bfad5feef5ce5b3d7c6d58e70\\expr.png\" style=\"display:inline;vertical-align:middle;\" /></a></span></td></tr><tr><td>16</td><td>specialization</td><td>20</td><td><span style=\"font-size:20px;\"> &#x22A2;&nbsp;<a href=\"..\\__pv_it\\999ff259a12dbcb8d5000cec40bbeb11192135f90\\expr.ipynb\" target=\"_blank\"><img src=\"..\\__pv_it\\999ff259a12dbcb8d5000cec40bbeb11192135f90\\expr.png\" style=\"display:inline;vertical-align:middle;\" /></a></span></td></tr>\n",
       "<tr><td>&nbsp;</td><td colspan=4 style=\"text-align:left\"><span style=\"font-size:20px;\"><a href=\"..\\__pv_it\\5ed87203f9d4ef79bdcfbd2e40705d65c06929200\\expr.ipynb\" target=\"_blank\"><img src=\"..\\__pv_it\\5ed87203f9d4ef79bdcfbd2e40705d65c06929200\\expr.png\" style=\"display:inline;vertical-align:middle;\" /></a></span></td></tr><tr><td>17</td><td>theorem</td><td></td><td><span style=\"font-size:20px;\"> &#x22A2;&nbsp;<a href=\"..\\..\\..\\packages\\proveit\\logic\\set_theory\\cardinality\\__pv_it\\60af521eb9f611fa99eb5ed9fe1b9e3aa43afae10\\expr.ipynb\" target=\"_blank\"><img src=\"..\\..\\..\\packages\\proveit\\logic\\set_theory\\cardinality\\__pv_it\\60af521eb9f611fa99eb5ed9fe1b9e3aa43afae10\\expr.png\" style=\"display:inline;vertical-align:middle;\" /></a></span></td></tr>\n",
       "<tr><td>&nbsp;</td><td colspan=4 style-\"text-align:left\"><a href=\"..\\..\\..\\packages\\proveit\\logic\\set_theory\\cardinality\\_proofs_\\distinctPairExistence.ipynb\" target=\"_blank\">proveit.logic.set_theory.cardinality.distinctPairExistence</a></td></tr><tr><td>18</td><td>assumption</td><td></td><td><span style=\"font-size:20px;\"><a href=\"..\\__pv_it\\769fd7c1f32b44a4781a0d03ccf7168d64d536aa0\\expr.ipynb\" target=\"_blank\"><img src=\"..\\__pv_it\\769fd7c1f32b44a4781a0d03ccf7168d64d536aa0\\expr.png\" style=\"display:inline;vertical-align:middle;\" /></a> &#x22A2;&nbsp;<a href=\"..\\__pv_it\\5c4d4606a9067ab618352a6f2e33d016798ca3700\\expr.ipynb\" target=\"_blank\"><img src=\"..\\__pv_it\\5c4d4606a9067ab618352a6f2e33d016798ca3700\\expr.png\" style=\"display:inline;vertical-align:middle;\" /></a></span></td></tr>\n",
       "<tr><td>19</td><td>theorem</td><td></td><td><span style=\"font-size:20px;\"> &#x22A2;&nbsp;<a href=\"..\\..\\..\\packages\\proveit\\logic\\boolean\\quantification\\existential\\__pv_it\\c548e092812f3bc753f59cedc326ac77d3d21cdc0\\expr.ipynb\" target=\"_blank\"><img src=\"..\\..\\..\\packages\\proveit\\logic\\boolean\\quantification\\existential\\__pv_it\\c548e092812f3bc753f59cedc326ac77d3d21cdc0\\expr.png\" style=\"display:inline;vertical-align:middle;\" /></a></span></td></tr>\n",
       "<tr><td>&nbsp;</td><td colspan=4 style-\"text-align:left\"><a href=\"..\\..\\..\\packages\\proveit\\logic\\boolean\\quantification\\existential\\_proofs_\\existentialImplication.ipynb\" target=\"_blank\">proveit.logic.boolean.quantification.existential.existentialImplication</a></td></tr><tr><td>20</td><td>theorem</td><td></td><td><span style=\"font-size:20px;\"> &#x22A2;&nbsp;<a href=\"..\\__pv_it\\a8b56a1b491f457123824ecbf7e0ec475e7e58720\\expr.ipynb\" target=\"_blank\"><img src=\"..\\__pv_it\\a8b56a1b491f457123824ecbf7e0ec475e7e58720\\expr.png\" style=\"display:inline;vertical-align:middle;\" /></a></span></td></tr>\n",
       "<tr><td>&nbsp;</td><td colspan=4 style-\"text-align:left\"><a href=\"pairInChosenMatches.ipynb\" target=\"_blank\">socks_demo.pairInChosenMatches</a></td></tr>"
      ],
      "text/plain": [
       "<proveit._core_.proof.Generalization instance at 0x00000000069FE508>"
      ]
     },
     "execution_count": 14,
     "metadata": {},
     "output_type": "execute_result"
    }
   ],
   "source": [
    "%qed"
   ]
  },
  {
   "cell_type": "code",
   "execution_count": 15,
   "metadata": {
    "collapsed": true,
    "deletable": true,
    "editable": true
   },
   "outputs": [],
   "source": []
  }
 ],
 "metadata": {
  "kernelspec": {
   "display_name": "Python 2",
   "language": "python",
   "name": "python2"
  },
  "language_info": {
   "codemirror_mode": {
    "name": "ipython",
    "version": 2
   },
   "file_extension": ".py",
   "mimetype": "text/x-python",
   "name": "python",
   "nbconvert_exporter": "python",
   "pygments_lexer": "ipython2",
   "version": "2.7.11"
  }
 },
 "nbformat": 4,
 "nbformat_minor": 0
}
