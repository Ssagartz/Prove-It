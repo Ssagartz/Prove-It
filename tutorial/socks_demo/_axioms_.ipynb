{
 "cells": [
  {
   "cell_type": "markdown",
   "metadata": {},
   "source": [
    "Axioms for the \"Matching Socks\" problem\n",
    "========\n",
    "\n",
    "Axioms created specifically for the \"matching socks\" demonstration problem.  Also see <a href='_theorems_.ipynb'>\\_theorems\\_</a>.\n",
    "\n",
    "There are 10 black socks and 10 white socks in a dresser.  It is pitch black.  What is the minimum number of socks that must be randomly pulled from the dresser in order to guarantee that you have a matching pair?"
   ]
  },
  {
   "cell_type": "code",
   "execution_count": 1,
   "metadata": {
    "collapsed": false
   },
   "outputs": [],
   "source": [
    "from _common_ import WHITE, BLACK, Dsocks, Bsocks, Wsocks, cSocks, wSocks, bSocks, N\n",
    "from _common_ import abIsMatch, abDistinct, abSameColor\n",
    "from socks import Color, IsMatch, ContainsMatch\n",
    "from proveit._common_ import a, b, s, S # 's' for sock, 'S' for set of socks\n",
    "from proveit.logic import Forall, Exists, Equals, NotEquals, And, Iff, Union, SubsetEq, Card\n",
    "%begin_axioms"
   ]
  },
  {
   "cell_type": "markdown",
   "metadata": {},
   "source": [
    "Let ${\\cal D}$ be the set of socks in the dresser.  Let ${\\cal W}$ be the set of white socks in the dresser.  Let ${\\cal B}$ be the set of black socks in the dresser."
   ]
  },
  {
   "cell_type": "code",
   "execution_count": 2,
   "metadata": {
    "collapsed": false,
    "scrolled": true
   },
   "outputs": [],
   "source": [
    "dresserSocksComposition = Equals(Dsocks, Union(Bsocks, Wsocks))"
   ]
  },
  {
   "cell_type": "code",
   "execution_count": 3,
   "metadata": {
    "collapsed": false
   },
   "outputs": [],
   "source": [
    "dresserWhiteSocks = Forall(s, Equals(Color(s), WHITE), domain=Wsocks)"
   ]
  },
  {
   "cell_type": "code",
   "execution_count": 4,
   "metadata": {
    "collapsed": false
   },
   "outputs": [],
   "source": [
    "dresserBlackSocks = Forall(s, Equals(Color(s), BLACK), domain=Bsocks)"
   ]
  },
  {
   "cell_type": "markdown",
   "metadata": {},
   "source": [
    "Let $c$ be the set of \"chosen\" socks (pulled randomly from the drawer) and $N$ be the number of \"chosen\" socks.  Let $w$ be the set of chosen white socks.  Let $b$ be the set of chosen black sets.  We start by assuming that $c = w \\cup b$.  At some point, however, this axiom will be eliminated and we will prove that such a decomposition exists."
   ]
  },
  {
   "cell_type": "code",
   "execution_count": 5,
   "metadata": {
    "collapsed": false
   },
   "outputs": [],
   "source": [
    "chosenFromDrawer = SubsetEq(cSocks, Dsocks)"
   ]
  },
  {
   "cell_type": "code",
   "execution_count": 6,
   "metadata": {
    "collapsed": false
   },
   "outputs": [],
   "source": [
    "numChosen = Equals(Card(cSocks), N)"
   ]
  },
  {
   "cell_type": "code",
   "execution_count": 7,
   "metadata": {
    "collapsed": false
   },
   "outputs": [],
   "source": [
    "chosenSocksComposition = Equals(cSocks, Union(bSocks, wSocks))"
   ]
  },
  {
   "cell_type": "code",
   "execution_count": 8,
   "metadata": {
    "collapsed": false
   },
   "outputs": [],
   "source": [
    "chosenWhiteSocks = Forall(s, Equals(Color(s), WHITE), domain=wSocks)"
   ]
  },
  {
   "cell_type": "code",
   "execution_count": 9,
   "metadata": {
    "collapsed": false
   },
   "outputs": [],
   "source": [
    "chosenBlackSocks = Forall(s, Equals(Color(s), BLACK), domain=bSocks)"
   ]
  },
  {
   "cell_type": "markdown",
   "metadata": {},
   "source": [
    "Two socks match if and only if they are distinct and have the same color."
   ]
  },
  {
   "cell_type": "code",
   "execution_count": 10,
   "metadata": {
    "collapsed": false
   },
   "outputs": [],
   "source": [
    "isMatchDef = Forall((a, b), Iff(abIsMatch, And(abDistinct, abSameColor)))"
   ]
  },
  {
   "cell_type": "markdown",
   "metadata": {},
   "source": [
    "A set of socks contains a match if and only if there exists a pair of socks within the set that are a match."
   ]
  },
  {
   "cell_type": "code",
   "execution_count": 11,
   "metadata": {
    "collapsed": false,
    "scrolled": true
   },
   "outputs": [],
   "source": [
    "containsMatchDef = Forall(S, Iff(ContainsMatch(S), Exists((a, b), IsMatch(a, b), domain=S)))"
   ]
  },
  {
   "cell_type": "code",
   "execution_count": 12,
   "metadata": {
    "collapsed": false,
    "scrolled": true
   },
   "outputs": [],
   "source": [
    "%end_axioms"
   ]
  },
  {
   "cell_type": "code",
   "execution_count": 13,
   "metadata": {
    "collapsed": true
   },
   "outputs": [],
   "source": [
    "from proveit import Context\n",
    "Context().clean()"
   ]
  },
  {
   "cell_type": "code",
   "execution_count": null,
   "metadata": {
    "collapsed": true
   },
   "outputs": [],
   "source": []
  }
 ],
 "metadata": {
  "kernelspec": {
   "display_name": "Python 2",
   "language": "python",
   "name": "python2"
  },
  "language_info": {
   "codemirror_mode": {
    "name": "ipython",
    "version": 2
   },
   "file_extension": ".py",
   "mimetype": "text/x-python",
   "name": "python",
   "nbconvert_exporter": "python",
   "pygments_lexer": "ipython2",
   "version": "2.7.11"
  }
 },
 "nbformat": 4,
 "nbformat_minor": 0
}