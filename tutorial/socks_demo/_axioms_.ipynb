{
 "cells": [
  {
   "cell_type": "markdown",
   "metadata": {
    "deletable": true,
    "editable": true
   },
   "source": [
    "Axioms for context <a href=\"_context_.ipynb\">socks_demo</a>\n",
    "========"
   ]
  },
  {
   "cell_type": "code",
   "execution_count": 1,
   "metadata": {
    "collapsed": false,
    "deletable": true,
    "editable": true,
    "scrolled": true
   },
   "outputs": [
    {
     "name": "stdout",
     "output_type": "stream",
     "text": [
      "Defining axioms for context 'socks_demo'\n",
      "Subsequent end-of-cell assignments will define axioms\n",
      "%end_axioms will finalize the definitions\n"
     ]
    }
   ],
   "source": [
    "import proveit\n",
    "# the context is in the current directory:\n",
    "context = proveit.Context('.') # adds context root to sys.path if necessary\n",
    "from socks_demo._common_ import color, WHITE, BLACK\n",
    "from socks_demo._common_ import Dsocks, Bsocks, Wsocks, cSocks, wSocks, bSocks, N\n",
    "from socks_demo._common_ import abIsMatch, abDistinct, abSameColor\n",
    "from socks_demo.socks import Color, MatchingSubset, IsMatch, ContainsMatch\n",
    "from proveit._common_ import a, b, s, S # 's' for sock, 'S' for set of socks\n",
    "from proveit.logic import Forall, Exists, Equals, NotEquals, And, Iff, SetOfAll, SubsetEq, Card\n",
    "%begin_axioms"
   ]
  },
  {
   "cell_type": "markdown",
   "metadata": {
    "deletable": true,
    "editable": true
   },
   "source": [
    "A matching subset is the subset of a set of socks of a given color, defined for convenience."
   ]
  },
  {
   "cell_type": "code",
   "execution_count": 2,
   "metadata": {
    "collapsed": false,
    "deletable": true,
    "editable": true,
    "scrolled": true
   },
   "outputs": [
    {
     "data": {
      "text/html": [
       "<strong id=\"matchingSubsetDef\">matchingSubsetDef:</strong> <a href=\"__pv_it\\a7cddf22aa822698cfcd75e207a3bfa2feea5fd60\\expr.ipynb\" target=\"_blank\"><img src=\"__pv_it\\a7cddf22aa822698cfcd75e207a3bfa2feea5fd60\\expr.png\" style=\"display:inline;vertical-align:middle;\" /></a><br>"
      ],
      "text/plain": [
       "matchingSubsetDef: forall_{S, color} (MatchingSubset(S,color) = {s s.t. (Color(s) = color)}_{s in S})"
      ]
     },
     "execution_count": 2,
     "metadata": {},
     "output_type": "execute_result"
    }
   ],
   "source": [
    "matchingSubsetDef = Forall([S, color], \n",
    "                          Equals(MatchingSubset(S, color), \n",
    "                                 SetOfAll(s, s,\n",
    "                                          conditions=[Equals(Color(s), color)],\n",
    "                                          domain=S)))"
   ]
  },
  {
   "cell_type": "markdown",
   "metadata": {
    "deletable": true,
    "editable": true
   },
   "source": [
    "Let ${\\cal D}$ be the set of socks in the dresser.  Let ${\\cal W}$ be the set of white socks in the dresser.  Let ${\\cal B}$ be the set of black socks in the dresser."
   ]
  },
  {
   "cell_type": "code",
   "execution_count": 3,
   "metadata": {
    "collapsed": false,
    "deletable": true,
    "editable": true
   },
   "outputs": [
    {
     "data": {
      "text/html": [
       "<strong id=\"dresserWhiteSocks\">dresserWhiteSocks:</strong> <a href=\"__pv_it\\7bdd07e5c6e4c3df2b49e7e6a4352b8dbb85dc300\\expr.ipynb\" target=\"_blank\"><img src=\"__pv_it\\7bdd07e5c6e4c3df2b49e7e6a4352b8dbb85dc300\\expr.png\" style=\"display:inline;vertical-align:middle;\" /></a><br>"
      ],
      "text/plain": [
       "dresserWhiteSocks: W = MatchingSubset(D,WHITE)"
      ]
     },
     "execution_count": 3,
     "metadata": {},
     "output_type": "execute_result"
    }
   ],
   "source": [
    "dresserWhiteSocks = Equals(Wsocks, MatchingSubset(Dsocks, WHITE))"
   ]
  },
  {
   "cell_type": "code",
   "execution_count": 4,
   "metadata": {
    "collapsed": false,
    "deletable": true,
    "editable": true
   },
   "outputs": [
    {
     "data": {
      "text/html": [
       "<strong id=\"dresserBlackSocks\">dresserBlackSocks:</strong> <a href=\"__pv_it\\9408a4e187ff99cd017e20def277e903e1a9127b0\\expr.ipynb\" target=\"_blank\"><img src=\"__pv_it\\9408a4e187ff99cd017e20def277e903e1a9127b0\\expr.png\" style=\"display:inline;vertical-align:middle;\" /></a><br>"
      ],
      "text/plain": [
       "dresserBlackSocks: B = MatchingSubset(D,BLACK)"
      ]
     },
     "execution_count": 4,
     "metadata": {},
     "output_type": "execute_result"
    }
   ],
   "source": [
    "dresserBlackSocks = Equals(Bsocks, MatchingSubset(Dsocks, BLACK))"
   ]
  },
  {
   "cell_type": "markdown",
   "metadata": {
    "deletable": true,
    "editable": true
   },
   "source": [
    "Let $c$ be the set of \"chosen\" socks (pulled randomly from the drawer) and $N$ be the number of \"chosen\" socks.  Let $w$ be the set of chosen white socks.  Let $b$ be the set of chosen black sets.  We start by assuming that $c = w \\cup b$.  At some point, however, this axiom will be eliminated and we will prove that such a decomposition exists."
   ]
  },
  {
   "cell_type": "code",
   "execution_count": 5,
   "metadata": {
    "collapsed": false,
    "deletable": true,
    "editable": true
   },
   "outputs": [
    {
     "data": {
      "text/html": [
       "<strong id=\"chosenFromDrawer\">chosenFromDrawer:</strong> <a href=\"__pv_it\\b0442aba3e755a068d43e2257cab67c2ec3ddbd70\\expr.ipynb\" target=\"_blank\"><img src=\"__pv_it\\b0442aba3e755a068d43e2257cab67c2ec3ddbd70\\expr.png\" style=\"display:inline;vertical-align:middle;\" /></a><br>"
      ],
      "text/plain": [
       "chosenFromDrawer: c subseteq D"
      ]
     },
     "execution_count": 5,
     "metadata": {},
     "output_type": "execute_result"
    }
   ],
   "source": [
    "chosenFromDrawer = SubsetEq(cSocks, Dsocks)"
   ]
  },
  {
   "cell_type": "code",
   "execution_count": 6,
   "metadata": {
    "collapsed": false,
    "deletable": true,
    "editable": true
   },
   "outputs": [
    {
     "data": {
      "text/html": [
       "<strong id=\"numChosen\">numChosen:</strong> <a href=\"__pv_it\\2a1eaa09786012822a121a53345c96c4d6cc5dda0\\expr.ipynb\" target=\"_blank\"><img src=\"__pv_it\\2a1eaa09786012822a121a53345c96c4d6cc5dda0\\expr.png\" style=\"display:inline;vertical-align:middle;\" /></a><br>"
      ],
      "text/plain": [
       "numChosen: |c| = N"
      ]
     },
     "execution_count": 6,
     "metadata": {},
     "output_type": "execute_result"
    }
   ],
   "source": [
    "numChosen = Equals(Card(cSocks), N)"
   ]
  },
  {
   "cell_type": "code",
   "execution_count": 7,
   "metadata": {
    "collapsed": false,
    "deletable": true,
    "editable": true
   },
   "outputs": [
    {
     "data": {
      "text/html": [
       "<strong id=\"chosenWhiteSocks\">chosenWhiteSocks:</strong> <a href=\"__pv_it\\d8f1f5f410d9be35f1e970ab3dcfeadd9784926b0\\expr.ipynb\" target=\"_blank\"><img src=\"__pv_it\\d8f1f5f410d9be35f1e970ab3dcfeadd9784926b0\\expr.png\" style=\"display:inline;vertical-align:middle;\" /></a><br>"
      ],
      "text/plain": [
       "chosenWhiteSocks: w = MatchingSubset(c,WHITE)"
      ]
     },
     "execution_count": 7,
     "metadata": {},
     "output_type": "execute_result"
    }
   ],
   "source": [
    "chosenWhiteSocks = Equals(wSocks, MatchingSubset(cSocks, WHITE))"
   ]
  },
  {
   "cell_type": "code",
   "execution_count": 8,
   "metadata": {
    "collapsed": false,
    "deletable": true,
    "editable": true
   },
   "outputs": [
    {
     "data": {
      "text/html": [
       "<strong id=\"chosenBlackSocks\">chosenBlackSocks:</strong> <a href=\"__pv_it\\7e3a45169aca278e1235d039bf8b959a413b63e80\\expr.ipynb\" target=\"_blank\"><img src=\"__pv_it\\7e3a45169aca278e1235d039bf8b959a413b63e80\\expr.png\" style=\"display:inline;vertical-align:middle;\" /></a><br>"
      ],
      "text/plain": [
       "chosenBlackSocks: b = MatchingSubset(c,BLACK)"
      ]
     },
     "execution_count": 8,
     "metadata": {},
     "output_type": "execute_result"
    }
   ],
   "source": [
    "chosenBlackSocks = Equals(bSocks, MatchingSubset(cSocks, BLACK))"
   ]
  },
  {
   "cell_type": "markdown",
   "metadata": {
    "deletable": true,
    "editable": true
   },
   "source": [
    "Two socks match if and only if they are distinct and have the same color."
   ]
  },
  {
   "cell_type": "code",
   "execution_count": 9,
   "metadata": {
    "collapsed": false,
    "deletable": true,
    "editable": true
   },
   "outputs": [
    {
     "data": {
      "text/html": [
       "<strong id=\"isMatchDef\">isMatchDef:</strong> <a href=\"__pv_it\\c574f1a0315057548d7121aa2f49832a458093920\\expr.ipynb\" target=\"_blank\"><img src=\"__pv_it\\c574f1a0315057548d7121aa2f49832a458093920\\expr.png\" style=\"display:inline;vertical-align:middle;\" /></a><br>"
      ],
      "text/plain": [
       "isMatchDef: forall_{a, b in D} (IsMatch(a,b) <=> ((a != b) and (Color(a) = Color(b))))"
      ]
     },
     "execution_count": 9,
     "metadata": {},
     "output_type": "execute_result"
    }
   ],
   "source": [
    "isMatchDef = Forall((a, b), Iff(abIsMatch, And(abDistinct, abSameColor)), domain=Dsocks)"
   ]
  },
  {
   "cell_type": "markdown",
   "metadata": {
    "deletable": true,
    "editable": true
   },
   "source": [
    "A set of socks contains a match if and only if there exists a pair of socks within the set that are a match."
   ]
  },
  {
   "cell_type": "code",
   "execution_count": 10,
   "metadata": {
    "collapsed": false,
    "deletable": true,
    "editable": true,
    "scrolled": true
   },
   "outputs": [
    {
     "data": {
      "text/html": [
       "<strong id=\"containsMatchDef\">containsMatchDef:</strong> <a href=\"__pv_it\\2f87d374182f7736502e0748c29909be6affde4e0\\expr.ipynb\" target=\"_blank\"><img src=\"__pv_it\\2f87d374182f7736502e0748c29909be6affde4e0\\expr.png\" style=\"display:inline;vertical-align:middle;\" /></a><br>"
      ],
      "text/plain": [
       "containsMatchDef: forall_{S | (S subseteq D)} (ContainsMatch(S) <=> [exists_{a, b in S} IsMatch(a,b)])"
      ]
     },
     "execution_count": 10,
     "metadata": {},
     "output_type": "execute_result"
    }
   ],
   "source": [
    "containsMatchDef = Forall(S, Iff(ContainsMatch(S), \n",
    "                                 Exists((a, b), IsMatch(a, b), domain=S)), \n",
    "                          conditions=[SubsetEq(S, Dsocks)])"
   ]
  },
  {
   "cell_type": "code",
   "execution_count": 11,
   "metadata": {
    "collapsed": false,
    "deletable": true,
    "editable": true,
    "scrolled": true
   },
   "outputs": [
    {
     "name": "stdout",
     "output_type": "stream",
     "text": [
      "Adding axiom matchingSubsetDef to socks_demo context\n",
      "Adding axiom dresserWhiteSocks to socks_demo context\n",
      "Adding axiom dresserBlackSocks to socks_demo context\n",
      "Adding axiom chosenFromDrawer to socks_demo context\n",
      "Adding axiom numChosen to socks_demo context\n",
      "Adding axiom chosenWhiteSocks to socks_demo context\n",
      "Adding axiom chosenBlackSocks to socks_demo context\n",
      "Adding axiom isMatchDef to socks_demo context\n",
      "Adding axiom containsMatchDef to socks_demo context\n",
      "containsMatchDef expression notebook is being updated\n",
      "dresserWhiteSocks expression notebook is being updated\n",
      "numChosen expression notebook is being updated\n",
      "chosenFromDrawer expression notebook is being updated\n",
      "chosenBlackSocks expression notebook is being updated\n",
      "matchingSubsetDef expression notebook is being updated\n",
      "dresserBlackSocks expression notebook is being updated\n",
      "isMatchDef expression notebook is being updated\n",
      "chosenWhiteSocks expression notebook is being updated\n",
      "Axioms may be imported from autogenerated _axioms_.py\n"
     ]
    }
   ],
   "source": [
    "%end_axioms"
   ]
  },
  {
   "cell_type": "code",
   "execution_count": null,
   "metadata": {
    "collapsed": true,
    "deletable": true,
    "editable": true
   },
   "outputs": [],
   "source": []
  },
  {
   "cell_type": "code",
   "execution_count": null,
   "metadata": {
    "collapsed": true,
    "deletable": true,
    "editable": true
   },
   "outputs": [],
   "source": []
  }
 ],
 "metadata": {
  "kernelspec": {
   "display_name": "Python 2",
   "language": "python",
   "name": "python2"
  },
  "language_info": {
   "codemirror_mode": {
    "name": "ipython",
    "version": 2
   },
   "file_extension": ".py",
   "mimetype": "text/x-python",
   "name": "python",
   "nbconvert_exporter": "python",
   "pygments_lexer": "ipython2",
   "version": "2.7.11"
  }
 },
 "nbformat": 4,
 "nbformat_minor": 0
}
