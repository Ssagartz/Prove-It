{
 "cells": [
  {
   "cell_type": "markdown",
   "metadata": {},
   "source": [
    "Theorems for the \"Matching Socks\" Problem\n",
    "========\n",
    "\n",
    "Theorems created specifically for the \"matching socks\" demonstration problem.\n",
    "\n",
    "There are 10 black socks and 10 white socks in a dresser.  It is pitch black.  What is the minimum number of socks that must be randomly pulled from the dresser in order to guarantee that you have a matching pair?\n",
    "\n",
    "As defined in <a href='_axioms_.ipynb'>\\_axioms\\_</a>:\n",
    "* ${\\cal D}$ is the set of socks in the dresser.\n",
    "* ${\\cal W}$ is the set of white socks in the dresser.\n",
    "* ${\\cal B}$ is the set of black socks in the dresser.\n",
    "* $c$ is the set of randomly chosen socks.\n",
    "* $w$ is the set of chosen white socks.\n",
    "* $b$ is the set of chosen black socks.\n",
    "* $N$ is the number of randomly chosen socks.\n"
   ]
  },
  {
   "cell_type": "code",
   "execution_count": 1,
   "metadata": {
    "collapsed": false
   },
   "outputs": [],
   "source": [
    "from _common_ import Dsocks, Ngeq3, cSocks, cSizeN, chose2orMoreOfEither\n",
    "from proveit.logic import Forall, Or, Implies, Iff, SubsetEq\n",
    "from proveit._common_ import c\n",
    "from socks import ContainsMatch\n",
    "%begin_theorems"
   ]
  },
  {
   "cell_type": "markdown",
   "metadata": {},
   "source": [
    "Choosing 2 or more of either black or white socks ensures that there is a match among the chosen socks:"
   ]
  },
  {
   "cell_type": "code",
   "execution_count": 2,
   "metadata": {
    "collapsed": false
   },
   "outputs": [],
   "source": [
    "sufficientSubsets = Implies(chose2orMoreOfEither, ContainsMatch(cSocks))"
   ]
  },
  {
   "cell_type": "markdown",
   "metadata": {},
   "source": [
    "Conversely, if there is a match among the chosen socks, there must have been two or more of either black or white socks chosen:"
   ]
  },
  {
   "cell_type": "code",
   "execution_count": 3,
   "metadata": {
    "collapsed": false
   },
   "outputs": [],
   "source": [
    "necessarySubsets = Implies(ContainsMatch(cSocks), chose2orMoreOfEither)"
   ]
  },
  {
   "cell_type": "markdown",
   "metadata": {},
   "source": [
    "If 3 or more socks were chosen, there must be a match.  Prove this by contradiction.  If there were no more than 1 chosen of each kind, there could not be more than 2 chosen in total.  But if there are 2 or more of either, by `sufficientSubsets` there must be a match."
   ]
  },
  {
   "cell_type": "code",
   "execution_count": 4,
   "metadata": {
    "collapsed": false
   },
   "outputs": [],
   "source": [
    "sufficientNum = Implies(Ngeq3, ContainsMatch(cSocks))"
   ]
  },
  {
   "cell_type": "markdown",
   "metadata": {},
   "source": [
    "To ensure that there is a match (considering all possible outcomes), 3 must be chosen.  Prove this by a counter-example.  If only 2 socks are drawn, it is possible that a black and white sock are chosen.  In that case, the necessary condition for a match indicated by `necessarySubsets` is not met."
   ]
  },
  {
   "cell_type": "code",
   "execution_count": 5,
   "metadata": {
    "collapsed": false
   },
   "outputs": [],
   "source": [
    "necessaryNum = Implies(Forall(c, ContainsMatch(c), conditions=[SubsetEq(c, Dsocks), cSizeN]), Ngeq3)"
   ]
  },
  {
   "cell_type": "markdown",
   "metadata": {},
   "source": [
    "Combining the necessary and sufficient conditions on the number of drawn socks, and generalizing over possible sets of chosen socks $c$, we have:"
   ]
  },
  {
   "cell_type": "code",
   "execution_count": 6,
   "metadata": {
    "collapsed": false
   },
   "outputs": [],
   "source": [
    "answer = Iff(Ngeq3, Forall(c, ContainsMatch(c), conditions=[SubsetEq(c, Dsocks), cSizeN]))"
   ]
  },
  {
   "cell_type": "code",
   "execution_count": 7,
   "metadata": {
    "collapsed": false
   },
   "outputs": [],
   "source": [
    "%end_theorems"
   ]
  },
  {
   "cell_type": "code",
   "execution_count": null,
   "metadata": {
    "collapsed": true
   },
   "outputs": [],
   "source": []
  }
 ],
 "metadata": {
  "kernelspec": {
   "display_name": "Python 2",
   "language": "python",
   "name": "python2"
  },
  "language_info": {
   "codemirror_mode": {
    "name": "ipython",
    "version": 2
   },
   "file_extension": ".py",
   "mimetype": "text/x-python",
   "name": "python",
   "nbconvert_exporter": "python",
   "pygments_lexer": "ipython2",
   "version": "2.7.11"
  }
 },
 "nbformat": 4,
 "nbformat_minor": 0
}