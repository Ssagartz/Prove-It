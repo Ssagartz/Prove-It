{
 "cells": [
  {
   "cell_type": "code",
   "execution_count": 1,
   "metadata": {
    "collapsed": false
   },
   "outputs": [],
   "source": [
    "from proveit import specialStatementMagic # for %begin_theorems and %end_theorems\n",
    "from proveit.basiclogic import In, Forall, Equals#, NotEquals\n",
    "from proveit.statistics import Prob\n",
    "from proveit.number.common import *\n",
    "from proveit.number import Summation, Abs, DiscreteContiguousSet#, Neg, Add, Subtract, Multiply, Fraction, Exponentiate\n",
    "from proveit.number import LessThanEquals#, DiscreteContiguousSet, Ceil, Floor, Mod\n",
    "#from proveit.number.common import zero, one, two, four, e, pi, i, Reals, Naturals, Integers\n",
    "#from proveit.linalg import MatrixProd\n",
    "#from proveit.physics.quantum import Bra, Ket\n",
    "#from proveit.physics.quantum.QPE.common import phase_, m_, b_, delta_, two_pow_t, two_pow_t_minus_one, alpha_l, alpha_l_sqrd\n",
    "#from proveit.physics.quantum.QPE.phaseEstOps import Psuccess, Pfail, ModAdd\n",
    "#from IPython.display import display"
   ]
  },
  {
   "cell_type": "code",
   "execution_count": 2,
   "metadata": {
    "collapsed": false
   },
   "outputs": [],
   "source": [
    "%begin_axioms"
   ]
  },
  {
   "cell_type": "code",
   "execution_count": 12,
   "metadata": {
    "collapsed": false
   },
   "outputs": [
    {
     "data": {
      "text/latex": [
       "$\\forall_{f} \\left[\\forall_{n \\in \\mathbb{N}} \\left(Pr[\\left(\\left|f\\right| \\leq n\\right)] = \\left(\\sum_{n'=-n}^{n}Pr[\\left(f = n'\\right)]\\right)\\right)\\right]$"
      ],
      "text/plain": [
       "forall_{f} [forall_{n in Naturals} (Pr[(|f| <= n)] = (Summation_{nprime=-n}^{n}Pr[(f = nprime)]))]"
      ]
     },
     "execution_count": 12,
     "metadata": {},
     "output_type": "execute_result"
    }
   ],
   "source": [
    "probSum = Forall([f],\n",
    "      Forall([n],\n",
    "             Equals(Prob(LessThanEquals(Abs(f),n)),\n",
    "             Summation([dumbn],Prob(Equals(f,dumbn)),domain = DiscreteContiguousSet(Neg(n),n)),\n",
    "            ),\n",
    "                                 domain = Naturals\n",
    "\n",
    "      ),\n",
    "       )\n",
    "probSum"
   ]
  },
  {
   "cell_type": "code",
   "execution_count": 7,
   "metadata": {
    "collapsed": false
   },
   "outputs": [
    {
     "name": "stdout",
     "output_type": "stream",
     "text": [
      "Creating axioms *.dill and *.pv_it files in the __pv_it__ directory\n",
      "These axioms may be imported from proveit.statistics.axioms\n"
     ]
    }
   ],
   "source": [
    "%end_axioms"
   ]
  },
  {
   "cell_type": "code",
   "execution_count": null,
   "metadata": {
    "collapsed": true
   },
   "outputs": [],
   "source": []
  }
 ],
 "metadata": {
  "kernelspec": {
   "display_name": "Python 2",
   "language": "python",
   "name": "python2"
  },
  "language_info": {
   "codemirror_mode": {
    "name": "ipython",
    "version": 2
   },
   "file_extension": ".py",
   "mimetype": "text/x-python",
   "name": "python",
   "nbconvert_exporter": "python",
   "pygments_lexer": "ipython2",
   "version": "2.7.10"
  }
 },
 "nbformat": 4,
 "nbformat_minor": 0
}
