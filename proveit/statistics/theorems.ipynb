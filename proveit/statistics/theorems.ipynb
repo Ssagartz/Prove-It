{
 "cells": [
  {
   "cell_type": "code",
   "execution_count": 1,
   "metadata": {
    "collapsed": false
   },
   "outputs": [],
   "source": [
    "from proveit import specialStatementMagic # for %begin_theorems and %end_theorems\n",
    "from proveit.basiclogic import In, Forall, Equals#, NotEquals\n",
    "from proveit.statistics import Prob\n",
    "from proveit.number.common import *\n",
    "from proveit.number import Summation, Abs, Mod, ModAbs, Add, Subtract, DiscreteContiguousSet#, Neg, Add, Multiply, Fraction, Exponentiate\n",
    "from proveit.number import LessThanEquals#, DiscreteContiguousSet, Ceil, Floor, Mod\n",
    "#from proveit.number.common import zero, one, two, four, e, pi, i, Reals, Naturals, Integers\n",
    "#from proveit.linalg import MatrixProd\n",
    "#from proveit.physics.quantum import Bra, Ket\n",
    "#from proveit.physics.quantum.QPE.common import phase_, m_, b_, delta_, two_pow_t, two_pow_t_minus_one, alpha_l, alpha_l_sqrd\n",
    "#from proveit.physics.quantum.QPE.phaseEstOps import Psuccess, Pfail, ModAdd\n",
    "#from IPython.display import display"
   ]
  },
  {
   "cell_type": "code",
   "execution_count": 2,
   "metadata": {
    "collapsed": false
   },
   "outputs": [],
   "source": [
    "%begin_theorems"
   ]
  },
  {
   "cell_type": "code",
   "execution_count": 3,
   "metadata": {
    "collapsed": false
   },
   "outputs": [
    {
     "data": {
      "text/latex": [
       "$\\forall_{N \\in \\mathbb{N}^{+}} \\left[\\forall_{a, b \\in \\{0\\ldots N\\}} \\left[\\forall_{n \\in \\mathbb{N}} \\left(Pr[\\left(\\left|\\left(a - b\\right)\\right|_{{\\rm mod}~d} \\leq n\\right)] = \\left(\\sum_{m=-n}^{n} Pr[\\left(a = \\left(\\left(m + b\\right) ~\\rm{mod}~ N\\right)\\right)]\\right)\\right)\\right]\\right]$"
      ],
      "text/plain": [
       "forall_{N in NaturalsPos} [forall_{a, b in \\{0...N\\}} [forall_{n in Naturals} (Pr[(|(a - b)|_{mod d} <= n)] = (Summation_{m=-n}^{n} Pr[(a = ((m + b) mod N))]))]]"
      ]
     },
     "execution_count": 3,
     "metadata": {},
     "output_type": "execute_result"
    }
   ],
   "source": [
    "probAbsModSum = Forall(N, Forall((a, b), \n",
    "                           Forall([n],\n",
    "                                  Equals(Prob(LessThanEquals(ModAbs(Subtract(a, b), d), n)), \n",
    "                                         Summation(m, Prob(Equals(a, Mod(Add(m, b), N))),\n",
    "                                                   domain = DiscreteContiguousSet(Neg(n), n))),\n",
    "                    domain=Naturals),\n",
    "                    domain=DiscreteContiguousSet(zero, N)),\n",
    "                    domain=NaturalsPos)\n",
    "probAbsModSum"
   ]
  },
  {
   "cell_type": "code",
   "execution_count": 4,
   "metadata": {
    "collapsed": false
   },
   "outputs": [
    {
     "data": {
      "text/latex": [
       "$\\forall_{N \\in \\mathbb{N}^{+}} \\left[\\forall_{a, b \\in \\{0\\ldots N\\}} \\left[\\forall_{n \\in \\mathbb{N}} \\left(\\left(\\sum_{m=-N}^{N} Pr[\\left(a = \\left(b ~\\rm{mod}~ N\\right)\\right)]\\right) = 1\\right)\\right]\\right]$"
      ],
      "text/plain": [
       "forall_{N in NaturalsPos} [forall_{a, b in \\{0...N\\}} [forall_{n in Naturals} ((Summation_{m=-N}^{N} Pr[(a = (b mod N))]) = 1)]]"
      ]
     },
     "execution_count": 4,
     "metadata": {},
     "output_type": "execute_result"
    }
   ],
   "source": [
    "probAbsModTotal = Forall(N, Forall((a, b), \n",
    "                           Forall([n],\n",
    "                                  Equals(Summation(m, Prob(Equals(a, Mod(b, N))),\n",
    "                                                   domain = DiscreteContiguousSet(Neg(N), N)),\n",
    "                                        one),\n",
    "                                  domain=Naturals),\n",
    "                                   domain=DiscreteContiguousSet(zero, N)),\n",
    "                         domain=NaturalsPos)\n",
    "probAbsModTotal"
   ]
  },
  {
   "cell_type": "code",
   "execution_count": 5,
   "metadata": {
    "collapsed": false
   },
   "outputs": [
    {
     "name": "stdout",
     "output_type": "stream",
     "text": [
      "Creating theorems *.dill and *.pv_it files in the __pv_it__ directory\n",
      "Generating theorems.py from proveit.axiomsOrTheoremsTemplate.py\n",
      "These theorems may be imported from proveit.statistics.theorems\n"
     ]
    }
   ],
   "source": [
    "%end_theorems"
   ]
  },
  {
   "cell_type": "code",
   "execution_count": null,
   "metadata": {
    "collapsed": true
   },
   "outputs": [],
   "source": []
  }
 ],
 "metadata": {
  "kernelspec": {
   "display_name": "Python 2",
   "language": "python",
   "name": "python2"
  },
  "language_info": {
   "codemirror_mode": {
    "name": "ipython",
    "version": 2
   },
   "file_extension": ".py",
   "mimetype": "text/x-python",
   "name": "python",
   "nbconvert_exporter": "python",
   "pygments_lexer": "ipython2",
   "version": "2.7.10"
  }
 },
 "nbformat": 4,
 "nbformat_minor": 0
}
