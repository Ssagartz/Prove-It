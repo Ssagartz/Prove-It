{
 "cells": [
  {
   "cell_type": "code",
   "execution_count": 1,
   "metadata": {
    "collapsed": false
   },
   "outputs": [],
   "source": [
    "import proveit.specialStatementMagic # for %begin_axioms and %end_axioms\n",
    "from proveit.basiclogic import Forall, Equals, In\n",
    "from proveit.number import Subtract, Add, Mod, Multiply, Neg, IntervalCO\n",
    "from proveit.number.common import two, pi, two_pi\n",
    "from proveit.trigonometry import AngDiff\n",
    "from proveit.trigonometry.common import alpha, beta\n",
    "from IPython.display import display"
   ]
  },
  {
   "cell_type": "code",
   "execution_count": 2,
   "metadata": {
    "collapsed": false
   },
   "outputs": [],
   "source": [
    "%begin_axioms"
   ]
  },
  {
   "cell_type": "markdown",
   "metadata": {},
   "source": [
    "The angular difference of two angles is equal to the arithmetic difference modulo 2 pi and is within $[-\\pi, \\pi)$:"
   ]
  },
  {
   "cell_type": "code",
   "execution_count": 3,
   "metadata": {
    "collapsed": false
   },
   "outputs": [
    {
     "data": {
      "image/png": "[encoded data removed]",
      "text/plain": [
       "forall_{alpha, beta} ((AngDiff(alpha, beta) mod (2 * pi)) = ((alpha - beta) mod (2 * pi)))"
      ]
     },
     "metadata": {},
     "output_type": "display_data"
    },
    {
     "data": {
      "image/png": "[encoded data removed]",
      "text/plain": [
       "forall_{alpha, beta} (AngDiff(alpha, beta) in [-pi,pi))"
      ]
     },
     "metadata": {},
     "output_type": "display_data"
    }
   ],
   "source": [
    "angDiffIsModuloDiff = Forall((alpha, beta), (Equals(Mod(AngDiff(alpha, beta), two_pi), Mod(Subtract(alpha, beta), two_pi))))\n",
    "angDiffInPlusMinusPi = Forall((alpha, beta), In(AngDiff(alpha, beta), IntervalCO(Neg(pi), pi)))\n",
    "display(angDiffIsModuloDiff)\n",
    "display(angDiffInPlusMinusPi)\n"
   ]
  },
  {
   "cell_type": "code",
   "execution_count": 4,
   "metadata": {
    "collapsed": false
   },
   "outputs": [
    {
     "name": "stdout",
     "output_type": "stream",
     "text": [
      "Creating axioms *.dill and *.pv_it files in the __pv_it__ directory\n",
      "Generating axioms.py from proveit.axiomsOrTheoremsTemplate.py\n",
      "These axioms may be imported from proveit.trigonometry.axioms\n"
     ]
    }
   ],
   "source": [
    "%end_axioms"
   ]
  },
  {
   "cell_type": "code",
   "execution_count": null,
   "metadata": {
    "collapsed": true
   },
   "outputs": [],
   "source": []
  }
 ],
 "metadata": {
  "kernelspec": {
   "display_name": "Python 2",
   "language": "python",
   "name": "python2"
  },
  "language_info": {
   "codemirror_mode": {
    "name": "ipython",
    "version": 2
   },
   "file_extension": ".py",
   "mimetype": "text/x-python",
   "name": "python",
   "nbconvert_exporter": "python",
   "pygments_lexer": "ipython2",
   "version": "2.7.10"
  }
 },
 "nbformat": 4,
 "nbformat_minor": 0
}
