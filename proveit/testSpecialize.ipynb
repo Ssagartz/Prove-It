{
 "cells": [
  {
   "cell_type": "code",
   "execution_count": 1,
   "metadata": {
    "collapsed": false
   },
   "outputs": [],
   "source": [
    "from proveit.basiclogic import Forall, And, Or, Implies, Equals, TRUE\n",
    "from proveit.common import a, b, c, f, v, w, x, y, z, P, Q, S\n",
    "from proveit.number import Add, Multiply, GreaterThan\n",
    "from proveit.number.numberSets import Reals\n",
    "from proveit.expression import Operation\n",
    "from proveit.multiExpression import MultiVariable, Etcetera"
   ]
  },
  {
   "cell_type": "code",
   "execution_count": 2,
   "metadata": {
    "collapsed": false
   },
   "outputs": [
    {
     "data": {
      "text/latex": [
       "$\\forall_{ a , b , c } \\left(\\left( a \\land b \\land c \\right) \\Rightarrow b\\right)$"
      ],
      "text/plain": [
       "$\\forall_{ a , b , c } \\left(\\left( a \\land b \\land c \\right) \\Rightarrow b\\right)$"
      ]
     },
     "execution_count": 2,
     "metadata": {},
     "output_type": "execute_result"
    }
   ],
   "source": [
    "forallExpr1 = Forall([a, b, c], Implies(And(a, b, c), b))\n",
    "forallExpr1"
   ]
  },
  {
   "cell_type": "code",
   "execution_count": 3,
   "metadata": {
    "collapsed": false
   },
   "outputs": [
    {
     "data": {
      "text/latex": [
       "$\\left( \\left( x \\lor y \\right) \\land \\left( y \\lor z \\right) \\land \\left( x \\lor z \\right) \\right) \\Rightarrow \\left( y \\lor z \\right)$"
      ],
      "text/plain": [
       "$\\left( \\left( x \\lor y \\right) \\land \\left( y \\lor z \\right) \\land \\left( x \\lor z \\right) \\right) \\Rightarrow \\left( y \\lor z \\right)$"
      ]
     },
     "execution_count": 3,
     "metadata": {},
     "output_type": "execute_result"
    }
   ],
   "source": [
    "forallExpr1.specialize({a:Or(x, y), b:Or(y, z), c:Or(x, z)})"
   ]
  },
  {
   "cell_type": "code",
   "execution_count": 4,
   "metadata": {
    "collapsed": false
   },
   "outputs": [
    {
     "data": {
      "text/latex": [
       "$..a_{\\Box}..$"
      ],
      "text/plain": [
       "$..a_{\\Box}..$"
      ]
     },
     "execution_count": 4,
     "metadata": {},
     "output_type": "execute_result"
    }
   ],
   "source": [
    "aEtc = Etcetera(MultiVariable(a))\n",
    "aEtc"
   ]
  },
  {
   "cell_type": "code",
   "execution_count": 5,
   "metadata": {
    "collapsed": false
   },
   "outputs": [
    {
     "data": {
      "text/latex": [
       "$..c_{\\Box}..$"
      ],
      "text/plain": [
       "$..c_{\\Box}..$"
      ]
     },
     "execution_count": 5,
     "metadata": {},
     "output_type": "execute_result"
    }
   ],
   "source": [
    "cEtc = Etcetera(MultiVariable(c))\n",
    "cEtc"
   ]
  },
  {
   "cell_type": "code",
   "execution_count": 6,
   "metadata": {
    "collapsed": false
   },
   "outputs": [
    {
     "data": {
      "text/latex": [
       "$\\forall_{~.., a_{\\Box} ,..~, b ,~.., c_{\\Box} ,..~} \\left(\\left(~..\\land a_{\\Box} \\land..~\\land b \\land~..\\land c_{\\Box} \\land..~\\right) \\Rightarrow b\\right)$"
      ],
      "text/plain": [
       "$\\forall_{~.., a_{\\Box} ,..~, b ,~.., c_{\\Box} ,..~} \\left(\\left(~..\\land a_{\\Box} \\land..~\\land b \\land~..\\land c_{\\Box} \\land..~\\right) \\Rightarrow b\\right)$"
      ]
     },
     "execution_count": 6,
     "metadata": {},
     "output_type": "execute_result"
    }
   ],
   "source": [
    "forallExpr2 = Forall([aEtc, b, cEtc], Implies(And(aEtc, b, cEtc), b))\n",
    "forallExpr2"
   ]
  },
  {
   "cell_type": "code",
   "execution_count": 7,
   "metadata": {
    "collapsed": false
   },
   "outputs": [
    {
     "data": {
      "text/latex": [
       "$\\forall_{ v , w , x , y , z } \\left(\\left( v \\land w \\land x \\land y \\land z \\right) \\Rightarrow x\\right)$"
      ],
      "text/plain": [
       "$\\forall_{ v , w , x , y , z } \\left(\\left( v \\land w \\land x \\land y \\land z \\right) \\Rightarrow x\\right)$"
      ]
     },
     "execution_count": 7,
     "metadata": {},
     "output_type": "execute_result"
    }
   ],
   "source": [
    "forallExpr2.relabel({aEtc:[v, w], b:x, cEtc:[y, z]})"
   ]
  },
  {
   "cell_type": "code",
   "execution_count": 8,
   "metadata": {
    "collapsed": false
   },
   "outputs": [
    {
     "data": {
      "text/latex": [
       "$\\left( v \\land w \\land x \\land y \\land z \\right) \\Rightarrow x$"
      ],
      "text/plain": [
       "$\\left( v \\land w \\land x \\land y \\land z \\right) \\Rightarrow x$"
      ]
     },
     "execution_count": 8,
     "metadata": {},
     "output_type": "execute_result"
    }
   ],
   "source": [
    "forallExpr2.specialize({aEtc:[v, w], b:x, cEtc:[y, z]})"
   ]
  },
  {
   "cell_type": "code",
   "execution_count": 9,
   "metadata": {
    "collapsed": false
   },
   "outputs": [
    {
     "data": {
      "text/latex": [
       "$\\forall_{ a , b ,~.., c_{\\Box} ,..~} \\left(\\left( a \\cdot \\left(~..+ c_{\\Box} +..~\\right) \\right) = \\left(~..+ \\left( a \\cdot c_{\\Box} \\right) +..~\\right)\\right)$"
      ],
      "text/plain": [
       "$\\forall_{ a , b ,~.., c_{\\Box} ,..~} \\left(\\left( a \\cdot \\left(~..+ c_{\\Box} +..~\\right) \\right) = \\left(~..+ \\left( a \\cdot c_{\\Box} \\right) +..~\\right)\\right)$"
      ]
     },
     "execution_count": 9,
     "metadata": {},
     "output_type": "execute_result"
    }
   ],
   "source": [
    "forallExpr3 = Forall([a, b, cEtc], \n",
    "                     Equals(Multiply(a, Add(cEtc)), \n",
    "                            Add(Etcetera(Multiply(a, MultiVariable(c))))))\n",
    "forallExpr3"
   ]
  },
  {
   "cell_type": "code",
   "execution_count": 10,
   "metadata": {
    "collapsed": false
   },
   "outputs": [
    {
     "data": {
      "text/latex": [
       "$\\left( w \\cdot \\left( x + y + z \\right) \\right) = \\left( \\left( w \\cdot x \\right) + \\left( w \\cdot y \\right) + \\left( w \\cdot z \\right) \\right)$"
      ],
      "text/plain": [
       "$\\left( w \\cdot \\left( x + y + z \\right) \\right) = \\left( \\left( w \\cdot x \\right) + \\left( w \\cdot y \\right) + \\left( w \\cdot z \\right) \\right)$"
      ]
     },
     "execution_count": 10,
     "metadata": {},
     "output_type": "execute_result"
    }
   ],
   "source": [
    "forallExpr3.specialize({a:w, cEtc:[x, y, z]})"
   ]
  },
  {
   "cell_type": "code",
   "execution_count": 11,
   "metadata": {
    "collapsed": false
   },
   "outputs": [
    {
     "data": {
      "text/latex": [
       "$f\\left( x \\right)$"
      ],
      "text/plain": [
       "$f\\left( x \\right)$"
      ]
     },
     "execution_count": 11,
     "metadata": {},
     "output_type": "execute_result"
    }
   ],
   "source": [
    "fx = Operation(f, x)\n",
    "fx"
   ]
  },
  {
   "cell_type": "code",
   "execution_count": 12,
   "metadata": {
    "collapsed": false
   },
   "outputs": [
    {
     "data": {
      "text/latex": [
       "$f\\left( y \\right)$"
      ],
      "text/plain": [
       "$f\\left( y \\right)$"
      ]
     },
     "execution_count": 12,
     "metadata": {},
     "output_type": "execute_result"
    }
   ],
   "source": [
    "fy = Operation(f, y)\n",
    "fy"
   ]
  },
  {
   "cell_type": "code",
   "execution_count": 13,
   "metadata": {
    "collapsed": false
   },
   "outputs": [
    {
     "data": {
      "text/latex": [
       "$\\forall_{ f } \\left[\\forall_{ x , y } \\left(\\left(x = y\\right) \\Rightarrow \\left(f\\left( x \\right) = f\\left( y \\right)\\right)\\right)\\right]$"
      ],
      "text/plain": [
       "$\\forall_{ f } \\left[\\forall_{ x , y } \\left(\\left(x = y\\right) \\Rightarrow \\left(f\\left( x \\right) = f\\left( y \\right)\\right)\\right)\\right]$"
      ]
     },
     "execution_count": 13,
     "metadata": {},
     "output_type": "execute_result"
    }
   ],
   "source": [
    "forallExpr4 = Forall(f, Forall([x, y], Implies(Equals(x, y), Equals(fx, fy))))\n",
    "forallExpr4"
   ]
  },
  {
   "cell_type": "code",
   "execution_count": 14,
   "metadata": {
    "collapsed": false
   },
   "outputs": [
    {
     "data": {
      "text/latex": [
       "$\\forall_{ x , y } \\left(\\left(x = y\\right) \\Rightarrow \\left(\\left( a \\cdot x \\right) = \\left( a \\cdot y \\right)\\right)\\right)$"
      ],
      "text/plain": [
       "$\\forall_{ x , y } \\left(\\left(x = y\\right) \\Rightarrow \\left(\\left( a \\cdot x \\right) = \\left( a \\cdot y \\right)\\right)\\right)$"
      ]
     },
     "execution_count": 14,
     "metadata": {},
     "output_type": "execute_result"
    }
   ],
   "source": [
    "forallExpr4.specialize({fx:Multiply(a, x)})"
   ]
  },
  {
   "cell_type": "code",
   "execution_count": 15,
   "metadata": {
    "collapsed": false
   },
   "outputs": [
    {
     "data": {
      "text/latex": [
       "$..x_{\\Box}..$"
      ],
      "text/plain": [
       "$..x_{\\Box}..$"
      ]
     },
     "execution_count": 15,
     "metadata": {},
     "output_type": "execute_result"
    }
   ],
   "source": [
    "xEtc = Etcetera(MultiVariable(x))\n",
    "xEtc"
   ]
  },
  {
   "cell_type": "code",
   "execution_count": 16,
   "metadata": {
    "collapsed": false
   },
   "outputs": [
    {
     "data": {
      "text/latex": [
       "$P\\left(~.., x_{\\Box} ,..~\\right)$"
      ],
      "text/plain": [
       "$P\\left(~.., x_{\\Box} ,..~\\right)$"
      ]
     },
     "execution_count": 16,
     "metadata": {},
     "output_type": "execute_result"
    }
   ],
   "source": [
    "PxEtc = Operation(P, xEtc)\n",
    "PxEtc"
   ]
  },
  {
   "cell_type": "code",
   "execution_count": 17,
   "metadata": {
    "collapsed": false
   },
   "outputs": [
    {
     "data": {
      "text/latex": [
       "$..Q_{\\Box}..$"
      ],
      "text/plain": [
       "$..Q_{\\Box}..$"
      ]
     },
     "execution_count": 17,
     "metadata": {},
     "output_type": "execute_result"
    }
   ],
   "source": [
    "Qetc = Etcetera(MultiVariable(Q))\n",
    "Qetc"
   ]
  },
  {
   "cell_type": "code",
   "execution_count": 18,
   "metadata": {
    "collapsed": false
   },
   "outputs": [
    {
     "data": {
      "text/latex": [
       "$..Q_{\\Box}\\left(~.., x_{\\Box} ,..~\\right)..$"
      ],
      "text/plain": [
       "$..Q_{\\Box}\\left(~.., x_{\\Box} ,..~\\right)..$"
      ]
     },
     "execution_count": 18,
     "metadata": {},
     "output_type": "execute_result"
    }
   ],
   "source": [
    "etc_QxEtc = Etcetera(Operation(MultiVariable(Q), xEtc))\n",
    "etc_QxEtc"
   ]
  },
  {
   "cell_type": "code",
   "execution_count": 19,
   "metadata": {
    "collapsed": false
   },
   "outputs": [
    {
     "data": {
      "text/latex": [
       "$\\forall_{ P ,~.., Q_{\\Box} ,..~, S } \\left(\\left[\\forall_{~.., x_{\\Box} ,..~ \\in S~|~..Q_{\\Box}\\left(~.., x_{\\Box} ,..~\\right)..} P\\left(~.., x_{\\Box} ,..~\\right)\\right] = \\left[\\forall_{~.., x_{\\Box} ,..~ \\in S~|~..Q_{\\Box}\\left(~.., x_{\\Box} ,..~\\right)..} \\left(P\\left(~.., x_{\\Box} ,..~\\right) = \\mathtt{TRUE}\\right)\\right]\\right)$"
      ],
      "text/plain": [
       "$\\forall_{ P ,~.., Q_{\\Box} ,..~, S } \\left(\\left[\\forall_{~.., x_{\\Box} ,..~ \\in S~|~..Q_{\\Box}\\left(~.., x_{\\Box} ,..~\\right)..} P\\left(~.., x_{\\Box} ,..~\\right)\\right] = \\left[\\forall_{~.., x_{\\Box} ,..~ \\in S~|~..Q_{\\Box}\\left(~.., x_{\\Box} ,..~\\right)..} \\left(P\\left(~.., x_{\\Box} ,..~\\right) = \\mathtt{TRUE}\\right)\\right]\\right)$"
      ]
     },
     "execution_count": 19,
     "metadata": {},
     "output_type": "execute_result"
    }
   ],
   "source": [
    "forallEqTrueEquiv = Forall((P, Qetc, S),\n",
    "                           Equals(Forall(xEtc, PxEtc, S, etc_QxEtc), \n",
    "                                  Forall(xEtc, Equals(PxEtc, TRUE), S, etc_QxEtc)))\n",
    "forallEqTrueEquiv"
   ]
  },
  {
   "cell_type": "code",
   "execution_count": 20,
   "metadata": {
    "collapsed": false
   },
   "outputs": [
    {
     "data": {
      "text/latex": [
       "$\\left[\\forall_{ x , y  \\in \\mathbb{R}~|~x > a, y > b} \\left(x > y\\right)\\right] = \\left[\\forall_{ x , y  \\in \\mathbb{R}~|~x > a, y > b} \\left(\\left(x > y\\right) = \\mathtt{TRUE}\\right)\\right]$"
      ],
      "text/plain": [
       "$\\left[\\forall_{ x , y  \\in \\mathbb{R}~|~x > a, y > b} \\left(x > y\\right)\\right] = \\left[\\forall_{ x , y  \\in \\mathbb{R}~|~x > a, y > b} \\left(\\left(x > y\\right) = \\mathtt{TRUE}\\right)\\right]$"
      ]
     },
     "execution_count": 20,
     "metadata": {},
     "output_type": "execute_result"
    }
   ],
   "source": [
    "forallEqTrueEquiv.specialize({xEtc : [x, y],\n",
    "                              Operation(P, [x, y]) : GreaterThan(x, y), \n",
    "                              Etcetera(Operation(MultiVariable(Q), [x, y])) : [GreaterThan(x, a), GreaterThan(y, b)], \n",
    "                              S:Reals})"
   ]
  },
  {
   "cell_type": "code",
   "execution_count": null,
   "metadata": {
    "collapsed": true
   },
   "outputs": [],
   "source": []
  },
  {
   "cell_type": "code",
   "execution_count": null,
   "metadata": {
    "collapsed": true
   },
   "outputs": [],
   "source": []
  }
 ],
 "metadata": {
  "kernelspec": {
   "display_name": "Python 2",
   "language": "python",
   "name": "python2"
  },
  "language_info": {
   "codemirror_mode": {
    "name": "ipython",
    "version": 2
   },
   "file_extension": ".py",
   "mimetype": "text/x-python",
   "name": "python",
   "nbconvert_exporter": "python",
   "pygments_lexer": "ipython2",
   "version": "2.7.10"
  }
 },
 "nbformat": 4,
 "nbformat_minor": 0
}
