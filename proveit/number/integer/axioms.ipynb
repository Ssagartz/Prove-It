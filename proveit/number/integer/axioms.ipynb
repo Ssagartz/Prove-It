{
 "cells": [
  {
   "cell_type": "code",
   "execution_count": 1,
   "metadata": {
    "collapsed": true
   },
   "outputs": [],
   "source": [
    "import proveit.specialStatementMagic # for %begin_axioms and %end_axioms\n",
    "from proveit.basiclogic import Forall, Equals\n",
    "from proveit.number import Summation, Add, Subtract, DiscreteContiguousSet, LessThan\n",
    "from proveit.number.numberSets import Integers\n",
    "from proveit.number.common import one\n",
    "from proveit.common import a, b, x, f, fa, fb, fx"
   ]
  },
  {
   "cell_type": "code",
   "execution_count": 2,
   "metadata": {
    "collapsed": false
   },
   "outputs": [],
   "source": [
    "%begin_axioms"
   ]
  },
  {
   "cell_type": "markdown",
   "metadata": {},
   "source": [
    "These define summation over a discrete continguous set.  Does not assume that addition is commutative or associative."
   ]
  },
  {
   "cell_type": "code",
   "execution_count": 3,
   "metadata": {
    "collapsed": false
   },
   "outputs": [
    {
     "data": {
      "image/png": "[encoded data removed]",
      "text/plain": [
       "$\\forall_{ f } \\left[\\forall_{ a  \\in \\mathbb{Z}} \\left(\\left(\\sum_{x=a}^{a} f\\left( x \\right)\\right) = f\\left( a \\right)\\right)\\right]$"
      ]
     },
     "execution_count": 3,
     "metadata": {},
     "output_type": "execute_result"
    }
   ],
   "source": [
    "sumSingle = Forall(f, Forall(a,\n",
    "                              Equals(Summation(x,fx,DiscreteContiguousSet(a,a)),\n",
    "                                     fa),\n",
    "                              domain=Integers))\n",
    "sumSingle"
   ]
  },
  {
   "cell_type": "code",
   "execution_count": 4,
   "metadata": {
    "collapsed": false
   },
   "outputs": [
    {
     "data": {
      "image/png": "[encoded data removed]",
      "text/plain": [
       "$\\forall_{ f } \\left[\\forall_{ a , b  \\in \\mathbb{Z}~|~ \\left(a < b\\right) } \\left(\\left(\\sum_{x=a}^{b} f\\left( x \\right)\\right) = \\left( \\left(\\sum_{x=a}^{b - 1} f\\left( x \\right)\\right) + f\\left( b \\right) \\right)\\right)\\right]$"
      ]
     },
     "execution_count": 4,
     "metadata": {},
     "output_type": "execute_result"
    }
   ],
   "source": [
    "sumSplitLast = Forall(f, \n",
    "                      Forall([a,b],\n",
    "                             Equals(Summation(x,fx,DiscreteContiguousSet(a,b)),\n",
    "                                    Add(Summation(x,fx,DiscreteContiguousSet(a,Subtract(b, one))),\n",
    "                                       fb)),\n",
    "                             domain=Integers, conditions=[LessThan(a, b)]))\n",
    "sumSplitLast"
   ]
  },
  {
   "cell_type": "code",
   "execution_count": 5,
   "metadata": {
    "collapsed": false
   },
   "outputs": [
    {
     "name": "stdout",
     "output_type": "stream",
     "text": [
      "Creating axioms *.dill and *.pv_it files in the __pv_it__ directory\n",
      "Generating axioms.py from proveit.axiomsOrTheoremsTemplate.py\n",
      "These axioms may be imported from proveit.number.integer.axioms\n"
     ]
    }
   ],
   "source": [
    "%end_axioms"
   ]
  },
  {
   "cell_type": "code",
   "execution_count": null,
   "metadata": {
    "collapsed": true
   },
   "outputs": [],
   "source": []
  }
 ],
 "metadata": {
  "kernelspec": {
   "display_name": "Python 2",
   "language": "python",
   "name": "python2"
  },
  "language_info": {
   "codemirror_mode": {
    "name": "ipython",
    "version": 2
   },
   "file_extension": ".py",
   "mimetype": "text/x-python",
   "name": "python",
   "nbconvert_exporter": "python",
   "pygments_lexer": "ipython2",
   "version": "2.7.10"
  }
 },
 "nbformat": 4,
 "nbformat_minor": 0
}
