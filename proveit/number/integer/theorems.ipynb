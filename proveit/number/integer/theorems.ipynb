{
 "cells": [
  {
   "cell_type": "code",
   "execution_count": 1,
   "metadata": {
    "collapsed": false
   },
   "outputs": [],
   "source": [
    "import proveit.specialStatementMagic # for %begin_axioms and %end_axioms\n",
    "from proveit.basiclogic import In, NotIn, And, SetOfAll, BOOLEANS\n",
    "from proveit.number.common import *\n",
    "from proveit.basiclogic import Forall, Exists, Equals, Implies\n",
    "from proveit.number.arithmeticOps import LessThan, LessThanEquals, GreaterThan, GreaterThanEquals, Fraction\n",
    "from proveit.number.arithmeticOps import Add, Subtract, Multiply, Abs, Exponentiate, Neg, Summation, DiscreteContiguousSet\n",
    "from proveit.number.arithmeticOps import Integrate, IntervalCC\n",
    "from proveit.number.moduloOp import Mod"
   ]
  },
  {
   "cell_type": "code",
   "execution_count": 2,
   "metadata": {
    "collapsed": false
   },
   "outputs": [],
   "source": [
    "%begin_theorems"
   ]
  },
  {
   "cell_type": "code",
   "execution_count": 3,
   "metadata": {
    "collapsed": false
   },
   "outputs": [
    {
     "data": {
      "text/latex": [
       "$\\forall_{ a } \\left(\\left(a \\in \\mathbb{Z}\\right) \\in \\mathbb{B}\\right)$"
      ],
      "text/plain": [
       "$\\forall_{ a } \\left(\\left(a \\in \\mathbb{Z}\\right) \\in \\mathbb{B}\\right)$"
      ]
     },
     "execution_count": 3,
     "metadata": {},
     "output_type": "execute_result"
    }
   ],
   "source": [
    "inIntsIsBool = Forall(a, In(In(a, Integers), BOOLEANS))\n",
    "inIntsIsBool"
   ]
  },
  {
   "cell_type": "code",
   "execution_count": 4,
   "metadata": {
    "collapsed": false
   },
   "outputs": [
    {
     "data": {
      "text/latex": [
       "$\\forall_{ a } \\left(\\left(a \\notin \\mathbb{Z}\\right) \\in \\mathbb{B}\\right)$"
      ],
      "text/plain": [
       "$\\forall_{ a } \\left(\\left(a \\notin \\mathbb{Z}\\right) \\in \\mathbb{B}\\right)$"
      ]
     },
     "execution_count": 4,
     "metadata": {},
     "output_type": "execute_result"
    }
   ],
   "source": [
    "notInIntsIsBool = Forall(a, In(NotIn(a, Integers), BOOLEANS))\n",
    "notInIntsIsBool"
   ]
  },
  {
   "cell_type": "code",
   "execution_count": 5,
   "metadata": {
    "collapsed": false
   },
   "outputs": [
    {
     "data": {
      "text/latex": [
       "$\\forall_{ a  \\in \\mathbb{Z}} \\left(a \\in \\mathbb{R}\\right)$"
      ],
      "text/plain": [
       "$\\forall_{ a  \\in \\mathbb{Z}} \\left(a \\in \\mathbb{R}\\right)$"
      ]
     },
     "execution_count": 5,
     "metadata": {},
     "output_type": "execute_result"
    }
   ],
   "source": [
    "inReals = Forall(a,In(a,Reals),domain=Integers)\n",
    "inReals"
   ]
  },
  {
   "cell_type": "code",
   "execution_count": 6,
   "metadata": {
    "collapsed": false
   },
   "outputs": [
    {
     "data": {
      "text/latex": [
       "$\\forall_{ a  \\in \\mathbb{Z}} \\left(a \\in \\mathbb{C}\\right)$"
      ],
      "text/plain": [
       "$\\forall_{ a  \\in \\mathbb{Z}} \\left(a \\in \\mathbb{C}\\right)$"
      ]
     },
     "execution_count": 6,
     "metadata": {},
     "output_type": "execute_result"
    }
   ],
   "source": [
    "inComplexes = Forall(a,In(a,Complexes),domain=Integers)\n",
    "inComplexes"
   ]
  },
  {
   "cell_type": "code",
   "execution_count": 7,
   "metadata": {
    "collapsed": false
   },
   "outputs": [
    {
     "data": {
      "text/latex": [
       "$\\forall_{ a  \\in \\mathbb{Z}~|~ \\left(a \\geq 0\\right) } \\left(a \\in \\mathbb{N}\\right)$"
      ],
      "text/plain": [
       "$\\forall_{ a  \\in \\mathbb{Z}~|~ \\left(a \\geq 0\\right) } \\left(a \\in \\mathbb{N}\\right)$"
      ]
     },
     "execution_count": 7,
     "metadata": {},
     "output_type": "execute_result"
    }
   ],
   "source": [
    "inNaturalsIfNonNeg = Forall(a,In(a,Naturals),domain=Integers, conditions=[GreaterThanEquals(a, zero)])\n",
    "inNaturalsIfNonNeg"
   ]
  },
  {
   "cell_type": "code",
   "execution_count": 8,
   "metadata": {
    "collapsed": false
   },
   "outputs": [
    {
     "data": {
      "text/latex": [
       "$\\forall_{ a  \\in \\mathbb{Z}~|~ \\left(a > 0\\right) } \\left(a \\in \\mathbb{N}^+\\right)$"
      ],
      "text/plain": [
       "$\\forall_{ a  \\in \\mathbb{Z}~|~ \\left(a > 0\\right) } \\left(a \\in \\mathbb{N}^+\\right)$"
      ]
     },
     "execution_count": 8,
     "metadata": {},
     "output_type": "execute_result"
    }
   ],
   "source": [
    "inNaturalsPosIfPos = Forall(a,In(a,NaturalsPos),domain=Integers, conditions=[GreaterThan(a, zero)])\n",
    "inNaturalsPosIfPos"
   ]
  },
  {
   "cell_type": "code",
   "execution_count": 9,
   "metadata": {
    "collapsed": false
   },
   "outputs": [
    {
     "data": {
      "text/latex": [
       "$\\forall_{ a , b  \\in \\mathbb{Z}} \\left[\\forall_{ n  \\in \\{a\\ldots b\\}} \\left(n \\in \\mathbb{Z}\\right)\\right]$"
      ],
      "text/plain": [
       "$\\forall_{ a , b  \\in \\mathbb{Z}} \\left[\\forall_{ n  \\in \\{a\\ldots b\\}} \\left(n \\in \\mathbb{Z}\\right)\\right]$"
      ]
     },
     "execution_count": 9,
     "metadata": {},
     "output_type": "execute_result"
    }
   ],
   "source": [
    "allInDiscreteInterval_InInts = Forall((a, b), Forall(n, In(n, Integers), domain=DiscreteContiguousSet(a, b)), domain=Integers)\n",
    "allInDiscreteInterval_InInts          "
   ]
  },
  {
   "cell_type": "code",
   "execution_count": 10,
   "metadata": {
    "collapsed": false
   },
   "outputs": [
    {
     "data": {
      "text/latex": [
       "$\\forall_{ a , b  \\in \\mathbb{Z}~|~ \\left(b < 0\\right) } \\left[\\forall_{ n  \\in \\{a\\ldots b\\}} \\left(n < 0\\right)\\right]$"
      ],
      "text/plain": [
       "$\\forall_{ a , b  \\in \\mathbb{Z}~|~ \\left(b < 0\\right) } \\left[\\forall_{ n  \\in \\{a\\ldots b\\}} \\left(n < 0\\right)\\right]$"
      ]
     },
     "execution_count": 10,
     "metadata": {},
     "output_type": "execute_result"
    }
   ],
   "source": [
    "allInNegativeIntervalAreNegative = Forall((a, b), Forall(n, LessThan(n, zero), domain=DiscreteContiguousSet(a, b)), domain=Integers, conditions=[LessThan(b, zero)])\n",
    "allInNegativeIntervalAreNegative"
   ]
  },
  {
   "cell_type": "code",
   "execution_count": 11,
   "metadata": {
    "collapsed": false
   },
   "outputs": [
    {
     "data": {
      "text/latex": [
       "$\\forall_{ a , b  \\in \\mathbb{Z}~|~ \\left(a > 0\\right) } \\left[\\forall_{ n  \\in \\{a\\ldots b\\}} \\left(n > 0\\right)\\right]$"
      ],
      "text/plain": [
       "$\\forall_{ a , b  \\in \\mathbb{Z}~|~ \\left(a > 0\\right) } \\left[\\forall_{ n  \\in \\{a\\ldots b\\}} \\left(n > 0\\right)\\right]$"
      ]
     },
     "execution_count": 11,
     "metadata": {},
     "output_type": "execute_result"
    }
   ],
   "source": [
    "allInPositiveIntervalArePositive = Forall((a, b), Forall(n, GreaterThan(n, zero), domain=DiscreteContiguousSet(a, b)), domain=Integers, conditions=[GreaterThan(a, zero)])\n",
    "allInPositiveIntervalArePositive"
   ]
  },
  {
   "cell_type": "code",
   "execution_count": 12,
   "metadata": {
    "collapsed": false
   },
   "outputs": [
    {
     "data": {
      "text/latex": [
       "$\\forall_{ a , b  \\in \\mathbb{Z}} \\left[\\forall_{ n  \\in \\{a\\ldots b\\}} \\left(a \\leq n\\right)\\right]$"
      ],
      "text/plain": [
       "$\\forall_{ a , b  \\in \\mathbb{Z}} \\left[\\forall_{ n  \\in \\{a\\ldots b\\}} \\left(a \\leq n\\right)\\right]$"
      ]
     },
     "execution_count": 12,
     "metadata": {},
     "output_type": "execute_result"
    }
   ],
   "source": [
    "intervalLowerBound = Forall((a, b), Forall(n, LessThanEquals(a, n), domain=DiscreteContiguousSet(a, b)), domain=Integers)\n",
    "intervalLowerBound"
   ]
  },
  {
   "cell_type": "code",
   "execution_count": 13,
   "metadata": {
    "collapsed": false
   },
   "outputs": [
    {
     "data": {
      "text/latex": [
       "$\\forall_{ a , b  \\in \\mathbb{Z}} \\left[\\forall_{ n  \\in \\{a\\ldots b\\}} \\left(n \\leq b\\right)\\right]$"
      ],
      "text/plain": [
       "$\\forall_{ a , b  \\in \\mathbb{Z}} \\left[\\forall_{ n  \\in \\{a\\ldots b\\}} \\left(n \\leq b\\right)\\right]$"
      ]
     },
     "execution_count": 13,
     "metadata": {},
     "output_type": "execute_result"
    }
   ],
   "source": [
    "intervalUpperBound = Forall((a, b), Forall(n, LessThanEquals(n, b), domain=DiscreteContiguousSet(a, b)), domain=Integers)\n",
    "intervalUpperBound"
   ]
  },
  {
   "cell_type": "code",
   "execution_count": 14,
   "metadata": {
    "collapsed": false
   },
   "outputs": [
    {
     "data": {
      "text/latex": [
       "$\\forall_{ a , b , n  \\in \\mathbb{Z}~|~ \\left(a \\leq n\\right) , \\left(n \\leq b\\right) } \\left(n \\in \\{a\\ldots b\\}\\right)$"
      ],
      "text/plain": [
       "$\\forall_{ a , b , n  \\in \\mathbb{Z}~|~ \\left(a \\leq n\\right) , \\left(n \\leq b\\right) } \\left(n \\in \\{a\\ldots b\\}\\right)$"
      ]
     },
     "execution_count": 14,
     "metadata": {},
     "output_type": "execute_result"
    }
   ],
   "source": [
    "inInterval = Forall((a, b, n), In(n, DiscreteContiguousSet(a, b)), domain=Integers, conditions=[LessThanEquals(a, n), LessThanEquals(n, b)])\n",
    "inInterval"
   ]
  },
  {
   "cell_type": "code",
   "execution_count": 15,
   "metadata": {
    "collapsed": false
   },
   "outputs": [
    {
     "data": {
      "text/latex": [
       "$\\forall_{~.., x_{\\Box} ,..~ \\in \\mathbb{Z}} \\left(\\left(~..+ x_{\\Box} +..~\\right) \\in \\mathbb{Z}\\right)$"
      ],
      "text/plain": [
       "$\\forall_{~.., x_{\\Box} ,..~ \\in \\mathbb{Z}} \\left(\\left(~..+ x_{\\Box} +..~\\right) \\in \\mathbb{Z}\\right)$"
      ]
     },
     "execution_count": 15,
     "metadata": {},
     "output_type": "execute_result"
    }
   ],
   "source": [
    "addClosure = Forall([xEtc], In(Add(xEtc),Integers), domain = Integers)\n",
    "addClosure"
   ]
  },
  {
   "cell_type": "code",
   "execution_count": 16,
   "metadata": {
    "collapsed": false
   },
   "outputs": [
    {
     "data": {
      "text/latex": [
       "$\\forall_{ a , b  \\in \\mathbb{Z}} \\left(\\left(a - b\\right) \\in \\mathbb{Z}\\right)$"
      ],
      "text/plain": [
       "$\\forall_{ a , b  \\in \\mathbb{Z}} \\left(\\left(a - b\\right) \\in \\mathbb{Z}\\right)$"
      ]
     },
     "execution_count": 16,
     "metadata": {},
     "output_type": "execute_result"
    }
   ],
   "source": [
    "subtractClosure = Forall([a, b], In(Subtract(a, b), Integers), domain=Integers)\n",
    "subtractClosure"
   ]
  },
  {
   "cell_type": "code",
   "execution_count": 17,
   "metadata": {
    "collapsed": false
   },
   "outputs": [
    {
     "data": {
      "text/latex": [
       "$\\forall_{ a , b  \\in \\mathbb{Z}~|~ \\left(a \\geq b\\right) } \\left(\\left(a - b\\right) \\in \\mathbb{N}\\right)$"
      ],
      "text/plain": [
       "$\\forall_{ a , b  \\in \\mathbb{Z}~|~ \\left(a \\geq b\\right) } \\left(\\left(a - b\\right) \\in \\mathbb{N}\\right)$"
      ]
     },
     "execution_count": 17,
     "metadata": {},
     "output_type": "execute_result"
    }
   ],
   "source": [
    "subtractClosureNats = Forall([a, b], In(Subtract(a, b), Naturals), domain=Integers, conditions=[GreaterThanEquals(a, b)])\n",
    "subtractClosureNats"
   ]
  },
  {
   "cell_type": "code",
   "execution_count": 18,
   "metadata": {
    "collapsed": false
   },
   "outputs": [
    {
     "data": {
      "text/latex": [
       "$\\forall_{ a , b  \\in \\mathbb{Z}~|~ \\left(a > b\\right) } \\left(\\left(a - b\\right) \\in \\mathbb{N}^+\\right)$"
      ],
      "text/plain": [
       "$\\forall_{ a , b  \\in \\mathbb{Z}~|~ \\left(a > b\\right) } \\left(\\left(a - b\\right) \\in \\mathbb{N}^+\\right)$"
      ]
     },
     "execution_count": 18,
     "metadata": {},
     "output_type": "execute_result"
    }
   ],
   "source": [
    "subtractClosureNatsPos = Forall([a, b], In(Subtract(a, b), NaturalsPos), domain=Integers, conditions=[GreaterThan(a, b)])\n",
    "subtractClosureNatsPos"
   ]
  },
  {
   "cell_type": "code",
   "execution_count": 19,
   "metadata": {
    "collapsed": false
   },
   "outputs": [
    {
     "data": {
      "text/latex": [
       "$\\forall_{ a  \\in \\mathbb{Z}} \\left(\\left(-a\\right) \\in \\mathbb{Z}\\right)$"
      ],
      "text/plain": [
       "$\\forall_{ a  \\in \\mathbb{Z}} \\left(\\left(-a\\right) \\in \\mathbb{Z}\\right)$"
      ]
     },
     "execution_count": 19,
     "metadata": {},
     "output_type": "execute_result"
    }
   ],
   "source": [
    "negClosure = Forall(a, In(Neg(a), Integers), domain=Integers)\n",
    "negClosure"
   ]
  },
  {
   "cell_type": "code",
   "execution_count": 20,
   "metadata": {
    "collapsed": false
   },
   "outputs": [
    {
     "data": {
      "text/latex": [
       "$\\forall_{~.., x_{\\Box} ,..~ \\in \\mathbb{Z}} \\left(\\left(~..\\cdot x_{\\Box} \\cdot..~\\right) \\in \\mathbb{Z}\\right)$"
      ],
      "text/plain": [
       "$\\forall_{~.., x_{\\Box} ,..~ \\in \\mathbb{Z}} \\left(\\left(~..\\cdot x_{\\Box} \\cdot..~\\right) \\in \\mathbb{Z}\\right)$"
      ]
     },
     "execution_count": 20,
     "metadata": {},
     "output_type": "execute_result"
    }
   ],
   "source": [
    "multClosure = Forall([xEtc], In(Multiply(xEtc),Integers), domain = Integers)\n",
    "multClosure"
   ]
  },
  {
   "cell_type": "code",
   "execution_count": 21,
   "metadata": {
    "collapsed": false
   },
   "outputs": [
    {
     "data": {
      "text/latex": [
       "$\\forall_{ a , b  \\in \\mathbb{Z}} \\left(\\left(a ~\\rm{mod}~ b\\right) \\in \\mathbb{Z}\\right)$"
      ],
      "text/plain": [
       "$\\forall_{ a , b  \\in \\mathbb{Z}} \\left(\\left(a ~\\rm{mod}~ b\\right) \\in \\mathbb{Z}\\right)$"
      ]
     },
     "execution_count": 21,
     "metadata": {},
     "output_type": "execute_result"
    }
   ],
   "source": [
    "modClosure = Forall((a, b), In(Mod(a, b), Integers), domain=Integers)\n",
    "modClosure"
   ]
  },
  {
   "cell_type": "code",
   "execution_count": 22,
   "metadata": {
    "collapsed": false
   },
   "outputs": [
    {
     "data": {
      "text/latex": [
       "$\\forall_{ a , b  \\in \\mathbb{Z}} \\left(\\left(a ~\\rm{mod}~ b\\right) \\in \\{0\\ldots \\left(b - 1\\right)\\}\\right)$"
      ],
      "text/plain": [
       "$\\forall_{ a , b  \\in \\mathbb{Z}} \\left(\\left(a ~\\rm{mod}~ b\\right) \\in \\{0\\ldots \\left(b - 1\\right)\\}\\right)$"
      ]
     },
     "execution_count": 22,
     "metadata": {},
     "output_type": "execute_result"
    }
   ],
   "source": [
    "modInInterval = Forall((a, b), In(Mod(a, b), DiscreteContiguousSet(zero, Subtract(b, one))), domain=Integers)\n",
    "modInInterval"
   ]
  },
  {
   "cell_type": "code",
   "execution_count": 23,
   "metadata": {
    "collapsed": false
   },
   "outputs": [
    {
     "data": {
      "text/latex": [
       "$\\forall_{ f } \\left[\\forall_{ a , b , c  \\in \\mathbb{Z}} \\left(\\left(\\sum_{x=a}^{b} f\\left( x \\right)\\right) = \\left(\\sum_{x= a + c }^{ b + c } f\\left( x - c \\right)\\right)\\right)\\right]$"
      ],
      "text/plain": [
       "$\\forall_{ f } \\left[\\forall_{ a , b , c  \\in \\mathbb{Z}} \\left(\\left(\\sum_{x=a}^{b} f\\left( x \\right)\\right) = \\left(\\sum_{x= a + c }^{ b + c } f\\left( x - c \\right)\\right)\\right)\\right]$"
      ]
     },
     "execution_count": 23,
     "metadata": {},
     "output_type": "execute_result"
    }
   ],
   "source": [
    "indexShift = Forall(f,\n",
    "       Forall([a,b,c],Equals(Summation(x,Operation(f,x),DiscreteContiguousSet(a,b)),\n",
    "              Summation(x,Operation(f,Subtract(x,c)),DiscreteContiguousSet(Add(a,c),Add(b,c)))),domain=Integers))\n",
    "indexShift"
   ]
  },
  {
   "cell_type": "code",
   "execution_count": 24,
   "metadata": {
    "collapsed": false
   },
   "outputs": [
    {
     "data": {
      "text/latex": [
       "$\\forall_{ a , b  \\in \\mathbb{Z}~|~ \\left(\\left(a - 1\\right) < b\\right) } \\left(a \\leq b\\right)$"
      ],
      "text/plain": [
       "$\\forall_{ a , b  \\in \\mathbb{Z}~|~ \\left(\\left(a - 1\\right) < b\\right) } \\left(a \\leq b\\right)$"
      ]
     },
     "execution_count": 24,
     "metadata": {},
     "output_type": "execute_result"
    }
   ],
   "source": [
    "shiftLessThanToLessThanEquals = Forall((a, b), LessThanEquals(a, b), domain=Integers, conditions=[LessThan(Subtract(a, one), b)])\n",
    "shiftLessThanToLessThanEquals"
   ]
  },
  {
   "cell_type": "code",
   "execution_count": 25,
   "metadata": {
    "collapsed": false
   },
   "outputs": [
    {
     "data": {
      "text/latex": [
       "$\\forall_{ f  \\in MonDecFuncs} \\left[\\forall_{ a , b  \\in \\mathbb{Z}~|~ \\left(a \\leq b\\right) } \\left(\\left(\\sum_{x=a}^{b} f\\left( x \\right)\\right) \\leq \\left( f\\left( a \\right) + \\int_{a}^{b}f\\left( x \\right)dx \\right)\\right)\\right]$"
      ],
      "text/plain": [
       "$\\forall_{ f  \\in MonDecFuncs} \\left[\\forall_{ a , b  \\in \\mathbb{Z}~|~ \\left(a \\leq b\\right) } \\left(\\left(\\sum_{x=a}^{b} f\\left( x \\right)\\right) \\leq \\left( f\\left( a \\right) + \\int_{a}^{b}f\\left( x \\right)dx \\right)\\right)\\right]$"
      ]
     },
     "execution_count": 25,
     "metadata": {},
     "output_type": "execute_result"
    }
   ],
   "source": [
    "sumIntegrateIneq1 = Forall(f,\n",
    "                    Forall([a,b],LessThanEquals(Summation(x,Operation(f,x),DiscreteContiguousSet(a,b)),\n",
    "                    Add(fa, Integrate(x,Operation(f,x),IntervalCC(a,b)))),\n",
    "                    domain=Integers,conditions=LessThanEquals(a,b)),\n",
    "                    domain=MonDecFuncs)\n",
    "sumIntegrateIneq1"
   ]
  },
  {
   "cell_type": "code",
   "execution_count": 26,
   "metadata": {
    "collapsed": false
   },
   "outputs": [
    {
     "data": {
      "text/latex": [
       "$\\forall_{ a , b } \\left[\\forall_{ m , n  \\in \\mathbb{Z}} \\left(\\left[\\forall_{ k  \\in \\{m\\ldots n\\}} \\left(a\\left( k \\right) \\leq b\\left( k \\right)\\right)\\right] \\Rightarrow \\left(\\left(\\sum_{l=m}^{n} a\\left( l \\right)\\right) \\leq \\left(\\sum_{l=m}^{n} b\\left( l \\right)\\right)\\right)\\right)\\right]$"
      ],
      "text/plain": [
       "$\\forall_{ a , b } \\left[\\forall_{ m , n  \\in \\mathbb{Z}} \\left(\\left[\\forall_{ k  \\in \\{m\\ldots n\\}} \\left(a\\left( k \\right) \\leq b\\left( k \\right)\\right)\\right] \\Rightarrow \\left(\\left(\\sum_{l=m}^{n} a\\left( l \\right)\\right) \\leq \\left(\\sum_{l=m}^{n} b\\left( l \\right)\\right)\\right)\\right)\\right]$"
      ]
     },
     "execution_count": 26,
     "metadata": {},
     "output_type": "execute_result"
    }
   ],
   "source": [
    "sumIneq1 = Forall([a,b],\n",
    "                  Forall([m,n],\n",
    "                         Implies(Forall(k, \n",
    "                                        LessThanEquals(Operation(a,k),Operation(b,k)),\n",
    "                                        domain=DiscreteContiguousSet(m,n)), \n",
    "                                 LessThanEquals(Summation(l,Operation(a,l),DiscreteContiguousSet(m,n)), Summation(l,Operation(b,l),DiscreteContiguousSet(m,n)))\n",
    "                                 ),\n",
    "                        domain=Integers))\n",
    "sumIneq1"
   ]
  },
  {
   "cell_type": "code",
   "execution_count": 28,
   "metadata": {
    "collapsed": false
   },
   "outputs": [
    {
     "data": {
      "text/latex": [
       "$\\forall_{ f  \\in EvenFuncs} \\left[\\forall_{ a , b  \\in \\mathbb{Z}} \\left(\\left(\\sum_{x=a}^{b} f\\left( x \\right)\\right) = \\left(\\sum_{x=-b}^{-a} f\\left( x \\right)\\right)\\right)\\right]$"
      ],
      "text/plain": [
       "$\\forall_{ f  \\in EvenFuncs} \\left[\\forall_{ a , b  \\in \\mathbb{Z}} \\left(\\left(\\sum_{x=a}^{b} f\\left( x \\right)\\right) = \\left(\\sum_{x=-b}^{-a} f\\left( x \\right)\\right)\\right)\\right]$"
      ]
     },
     "execution_count": 28,
     "metadata": {},
     "output_type": "execute_result"
    }
   ],
   "source": [
    "evenFuncSum = Forall(f,\n",
    "                     Forall([a,b],\n",
    "                           Equals(Summation(x,Operation(f,x),DiscreteContiguousSet(a,b)),\n",
    "                                  Summation(x,Operation(f,x),DiscreteContiguousSet(Neg(b),Neg(a)))),\n",
    "                            domain = Integers),\n",
    "                    domain = EvenFuncs\n",
    "                    )\n",
    "evenFuncSum"
   ]
  },
  {
   "cell_type": "code",
   "execution_count": 29,
   "metadata": {
    "collapsed": false
   },
   "outputs": [
    {
     "data": {
      "text/latex": [
       "$\\forall_{ f , g } \\left[\\forall_{ m , n  \\in \\mathbb{Z}} \\left(\\left[\\forall_{ k  \\in \\{m\\ldots n\\}} \\left(f\\left( k \\right) = g\\left( k \\right)\\right)\\right] \\Rightarrow \\left(\\left(\\sum_{l=m}^{n} f\\left( l \\right)\\right) = \\left(\\sum_{l=m}^{n} g\\left( l \\right)\\right)\\right)\\right)\\right]$"
      ],
      "text/plain": [
       "$\\forall_{ f , g } \\left[\\forall_{ m , n  \\in \\mathbb{Z}} \\left(\\left[\\forall_{ k  \\in \\{m\\ldots n\\}} \\left(f\\left( k \\right) = g\\left( k \\right)\\right)\\right] \\Rightarrow \\left(\\left(\\sum_{l=m}^{n} f\\left( l \\right)\\right) = \\left(\\sum_{l=m}^{n} g\\left( l \\right)\\right)\\right)\\right)\\right]$"
      ]
     },
     "execution_count": 29,
     "metadata": {},
     "output_type": "execute_result"
    }
   ],
   "source": [
    "sumEq = Forall([f,g],\n",
    "                  Forall([m,n],\n",
    "                         Implies(Forall(k, \n",
    "                                        Equals(Operation(f,k),Operation(g,k)),\n",
    "                                        domain=DiscreteContiguousSet(m,n)), \n",
    "                                 Equals(Summation(l,Operation(f,l),DiscreteContiguousSet(m,n)), Summation(l,Operation(g,l),DiscreteContiguousSet(m,n)))\n",
    "                                 ),\n",
    "                        domain=Integers))\n",
    "sumEq"
   ]
  },
  {
   "cell_type": "code",
   "execution_count": 30,
   "metadata": {
    "collapsed": false
   },
   "outputs": [
    {
     "data": {
      "text/latex": [
       "$\\forall_{ N , a , b  \\in \\mathbb{Z}~|~ \\left(\\left(b - a\\right) = \\left(N - 1\\right)\\right) } \\left(\\left\\{x ~\\rm{mod}~ N\\right\\}_{ x  \\in \\{a\\ldots b\\}} = \\{0\\ldots \\left(N - 1\\right)\\}\\right)$"
      ],
      "text/plain": [
       "$\\forall_{ N , a , b  \\in \\mathbb{Z}~|~ \\left(\\left(b - a\\right) = \\left(N - 1\\right)\\right) } \\left(\\left\\{x ~\\rm{mod}~ N\\right\\}_{ x  \\in \\{a\\ldots b\\}} = \\{0\\ldots \\left(N - 1\\right)\\}\\right)$"
      ]
     },
     "execution_count": 30,
     "metadata": {},
     "output_type": "execute_result"
    }
   ],
   "source": [
    "fullModularRangeEquiv = Forall((N, a, b), \n",
    "                               Equals(SetOfAll(x, Mod(x, N), domain=DiscreteContiguousSet(a, b)), \n",
    "                                      DiscreteContiguousSet(zero, Subtract(N, one))),\n",
    "                               domain=Integers, conditions=[Equals(Subtract(b, a), Subtract(N, one))])\n",
    "fullModularRangeEquiv"
   ]
  },
  {
   "cell_type": "code",
   "execution_count": 31,
   "metadata": {
    "collapsed": false
   },
   "outputs": [
    {
     "data": {
      "text/latex": [
       "$\\forall_{ N , a , b , c  \\in \\mathbb{Z}~|~ \\left(\\left(b - a\\right) = \\left(N - 1\\right)\\right) } \\left(\\left\\{\\left( c + x \\right) ~\\rm{mod}~ N\\right\\}_{ x  \\in \\{a\\ldots b\\}} = \\{0\\ldots \\left(N - 1\\right)\\}\\right)$"
      ],
      "text/plain": [
       "$\\forall_{ N , a , b , c  \\in \\mathbb{Z}~|~ \\left(\\left(b - a\\right) = \\left(N - 1\\right)\\right) } \\left(\\left\\{\\left( c + x \\right) ~\\rm{mod}~ N\\right\\}_{ x  \\in \\{a\\ldots b\\}} = \\{0\\ldots \\left(N - 1\\right)\\}\\right)$"
      ]
     },
     "execution_count": 31,
     "metadata": {},
     "output_type": "execute_result"
    }
   ],
   "source": [
    "fullModularRangeEquivLeftShift = Forall((N, a, b, c), \n",
    "                               Equals(SetOfAll(x, Mod(Add(c, x), N), domain=DiscreteContiguousSet(a, b)), \n",
    "                                      DiscreteContiguousSet(zero, Subtract(N, one))),\n",
    "                               domain=Integers, conditions=[Equals(Subtract(b, a), Subtract(N, one))])\n",
    "fullModularRangeEquivLeftShift"
   ]
  },
  {
   "cell_type": "code",
   "execution_count": 32,
   "metadata": {
    "collapsed": false
   },
   "outputs": [
    {
     "data": {
      "text/latex": [
       "$\\forall_{ N , a , b , c  \\in \\mathbb{Z}~|~ \\left(\\left(b - a\\right) = \\left(N - 1\\right)\\right) } \\left(\\left\\{\\left( x + c \\right) ~\\rm{mod}~ N\\right\\}_{ x  \\in \\{a\\ldots b\\}} = \\{0\\ldots \\left(N - 1\\right)\\}\\right)$"
      ],
      "text/plain": [
       "$\\forall_{ N , a , b , c  \\in \\mathbb{Z}~|~ \\left(\\left(b - a\\right) = \\left(N - 1\\right)\\right) } \\left(\\left\\{\\left( x + c \\right) ~\\rm{mod}~ N\\right\\}_{ x  \\in \\{a\\ldots b\\}} = \\{0\\ldots \\left(N - 1\\right)\\}\\right)$"
      ]
     },
     "execution_count": 32,
     "metadata": {},
     "output_type": "execute_result"
    }
   ],
   "source": [
    "fullModularRangeEquivRightShift = Forall((N, a, b, c), \n",
    "                               Equals(SetOfAll(x, Mod(Add(x, c), N), domain=DiscreteContiguousSet(a, b)), \n",
    "                                      DiscreteContiguousSet(zero, Subtract(N, one))),\n",
    "                               domain=Integers, conditions=[Equals(Subtract(b, a), Subtract(N, one))])\n",
    "fullModularRangeEquivRightShift"
   ]
  },
  {
   "cell_type": "code",
   "execution_count": 33,
   "metadata": {
    "collapsed": false
   },
   "outputs": [
    {
     "data": {
      "text/latex": [
       "$\\forall_{ f } \\left[\\forall_{ a , b , c  \\in \\mathbb{Z}~|~ \\left(a \\leq b\\right) , \\left(b < c\\right) } \\left(\\left(\\sum_{x=a}^{c} f\\left( x \\right)\\right) = \\left( \\left(\\sum_{x=a}^{b} f\\left( x \\right)\\right) + \\left(\\sum_{x= b + 1 }^{c} f\\left( x \\right)\\right) \\right)\\right)\\right]$"
      ],
      "text/plain": [
       "$\\forall_{ f } \\left[\\forall_{ a , b , c  \\in \\mathbb{Z}~|~ \\left(a \\leq b\\right) , \\left(b < c\\right) } \\left(\\left(\\sum_{x=a}^{c} f\\left( x \\right)\\right) = \\left( \\left(\\sum_{x=a}^{b} f\\left( x \\right)\\right) + \\left(\\sum_{x= b + 1 }^{c} f\\left( x \\right)\\right) \\right)\\right)\\right]$"
      ]
     },
     "execution_count": 33,
     "metadata": {},
     "output_type": "execute_result"
    }
   ],
   "source": [
    "sumSplitAfter = Forall(f, Forall([a,b,c],\n",
    "                            Equals(Summation(x,fx,DiscreteContiguousSet(a,c)),\n",
    "                                   Add(Summation(x,fx,DiscreteContiguousSet(a,b)),\n",
    "                                       Summation(x,fx,DiscreteContiguousSet(Add(b,one),c)))),\n",
    "                                 domain=Integers, conditions=[LessThanEquals(a,b),LessThan(b,c)]))\n",
    "sumSplitAfter"
   ]
  },
  {
   "cell_type": "code",
   "execution_count": 34,
   "metadata": {
    "collapsed": false
   },
   "outputs": [
    {
     "data": {
      "text/latex": [
       "$\\forall_{ f } \\left[\\forall_{ a , b , c  \\in \\mathbb{Z}~|~ \\left(a < b\\right) , \\left(b \\leq c\\right) } \\left(\\left(\\sum_{x=a}^{c} f\\left( x \\right)\\right) = \\left( \\left(\\sum_{x=a}^{b - 1} f\\left( x \\right)\\right) + \\left(\\sum_{x=b}^{c} f\\left( x \\right)\\right) \\right)\\right)\\right]$"
      ],
      "text/plain": [
       "$\\forall_{ f } \\left[\\forall_{ a , b , c  \\in \\mathbb{Z}~|~ \\left(a < b\\right) , \\left(b \\leq c\\right) } \\left(\\left(\\sum_{x=a}^{c} f\\left( x \\right)\\right) = \\left( \\left(\\sum_{x=a}^{b - 1} f\\left( x \\right)\\right) + \\left(\\sum_{x=b}^{c} f\\left( x \\right)\\right) \\right)\\right)\\right]$"
      ]
     },
     "execution_count": 34,
     "metadata": {},
     "output_type": "execute_result"
    }
   ],
   "source": [
    "sumSplitBefore = Forall(f, Forall([a,b,c],\n",
    "                            Equals(Summation(x,fx,DiscreteContiguousSet(a,c)),\n",
    "                                   Add(Summation(x,fx,DiscreteContiguousSet(a,Subtract(b, one))),\n",
    "                                       Summation(x,fx,DiscreteContiguousSet(b,c)))),\n",
    "                                  domain=Integers, conditions=[LessThan(a,b),LessThanEquals(b,c)]))\n",
    "sumSplitBefore"
   ]
  },
  {
   "cell_type": "code",
   "execution_count": 35,
   "metadata": {
    "collapsed": false
   },
   "outputs": [
    {
     "data": {
      "text/latex": [
       "$\\forall_{ f } \\left[\\forall_{ a , b  \\in \\mathbb{Z}~|~ \\left(a < b\\right) } \\left(\\left(\\sum_{x=a}^{b} f\\left( x \\right)\\right) = \\left( f\\left( a \\right) + \\left(\\sum_{x= a + 1 }^{b} f\\left( x \\right)\\right) \\right)\\right)\\right]$"
      ],
      "text/plain": [
       "$\\forall_{ f } \\left[\\forall_{ a , b  \\in \\mathbb{Z}~|~ \\left(a < b\\right) } \\left(\\left(\\sum_{x=a}^{b} f\\left( x \\right)\\right) = \\left( f\\left( a \\right) + \\left(\\sum_{x= a + 1 }^{b} f\\left( x \\right)\\right) \\right)\\right)\\right]$"
      ]
     },
     "execution_count": 35,
     "metadata": {},
     "output_type": "execute_result"
    }
   ],
   "source": [
    "sumSplitFirst = Forall(f, Forall([a,b],\n",
    "                                 Equals(Summation(x,fx,DiscreteContiguousSet(a,b)),\n",
    "                                        Add(fa, Summation(x,fx,DiscreteContiguousSet(Add(a, one),b)))),\n",
    "                                 domain=Integers, conditions=[LessThan(a,b)]))\n",
    "sumSplitFirst"
   ]
  },
  {
   "cell_type": "code",
   "execution_count": 36,
   "metadata": {
    "collapsed": false
   },
   "outputs": [
    {
     "name": "stdout",
     "output_type": "stream",
     "text": [
      "Creating theorems *.dill and *.pv_it files in the __pv_it__ directory\n",
      "These theorems may be imported from proveit.number.integer.theorems\n"
     ]
    }
   ],
   "source": [
    "%end_theorems"
   ]
  },
  {
   "cell_type": "code",
   "execution_count": null,
   "metadata": {
    "collapsed": true
   },
   "outputs": [],
   "source": []
  }
 ],
 "metadata": {
  "kernelspec": {
   "display_name": "Python 2",
   "language": "python",
   "name": "python2"
  },
  "language_info": {
   "codemirror_mode": {
    "name": "ipython",
    "version": 2
   },
   "file_extension": ".py",
   "mimetype": "text/x-python",
   "name": "python",
   "nbconvert_exporter": "python",
   "pygments_lexer": "ipython2",
   "version": "2.7.10"
  }
 },
 "nbformat": 4,
 "nbformat_minor": 0
}
