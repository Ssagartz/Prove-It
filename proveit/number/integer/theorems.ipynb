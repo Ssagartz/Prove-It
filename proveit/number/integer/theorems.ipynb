{
 "cells": [
  {
   "cell_type": "code",
   "execution_count": 1,
   "metadata": {
    "collapsed": true
   },
   "outputs": [],
   "source": [
    "import proveit.specialStatementMagic # for %begin_axioms and %end_axioms\n",
    "from proveit.basiclogic.set.setOps import In\n",
    "from proveit.basiclogic.boolean.boolOps import And\n",
    "from proveit.number.variables import *\n",
    "from proveit.basiclogic import Forall, Exists, Equals\n",
    "from proveit.number.arithmeticOps import LessThan, LessThanEquals, GreaterThan, GreaterThanEquals, Fraction\n",
    "from proveit.number.arithmeticOps import Add, Subtract, Multiply, Abs, Exponentiate, Neg, Summation, DiscreteContiguousSet\n",
    "from proveit.number.arithmeticOps import Integrate, IntervalCC"
   ]
  },
  {
   "cell_type": "code",
   "execution_count": 2,
   "metadata": {
    "collapsed": false
   },
   "outputs": [],
   "source": [
    "%begin_theorems"
   ]
  },
  {
   "cell_type": "code",
   "execution_count": 3,
   "metadata": {
    "collapsed": false
   },
   "outputs": [
    {
     "data": {
      "text/latex": [
       "$\\forall_{a \\in \\mathbb{Z}} \\left(a \\in \\mathbb{R}\\right)$"
      ],
      "text/plain": [
       "forall_{a in Integers} (a in Reals)"
      ]
     },
     "execution_count": 3,
     "metadata": {},
     "output_type": "execute_result"
    }
   ],
   "source": [
    "inReals = Forall(a,In(a,Reals),domain=Integers)\n",
    "inReals"
   ]
  },
  {
   "cell_type": "code",
   "execution_count": 4,
   "metadata": {
    "collapsed": false
   },
   "outputs": [
    {
     "data": {
      "text/latex": [
       "$\\forall_{f} \\left[\\forall_{a, b, c \\in \\mathbb{Z}} \\left(\\sum_{x=a}^{b}f(x) = \\sum_{x=a + c}^{b + c}f(x - c)\\right)\\right]$"
      ],
      "text/plain": [
       "forall_{f} [forall_{a, b, c in Integers} (Summation_{x=a}^{b}f(x) = Summation_{x=a + c}^{b + c}f(x - c))]"
      ]
     },
     "execution_count": 4,
     "metadata": {},
     "output_type": "execute_result"
    }
   ],
   "source": [
    "indexShift = Forall(f,\n",
    "       Forall([a,b,c],Equals(Summation(x,Operation(f,x),DiscreteContiguousSet(a,b)),\n",
    "              Summation(x,Operation(f,Subtract(x,c)),DiscreteContiguousSet(Add(a,c),Add(b,c)))),domain=Integers))\n",
    "indexShift"
   ]
  },
  {
   "cell_type": "code",
   "execution_count": 5,
   "metadata": {
    "collapsed": false
   },
   "outputs": [
    {
     "data": {
      "text/latex": [
       "$\\forall_{f \\in MonDecFuncs} \\left[\\forall_{a, b \\in \\mathbb{Z} | a \\leq b} \\left(\\sum_{x=a}^{b}f(x) \\leq \\int_{a - 1}^{b}f(x)dx\\right)\\right]$"
      ],
      "text/plain": [
       "forall_{f in MonDecFuncs} [forall_{a, b in Integers | a <= b} (Summation_{x=a}^{b}f(x) <= Integrate_{a - 1}^{b}f(x)dx)]"
      ]
     },
     "execution_count": 5,
     "metadata": {},
     "output_type": "execute_result"
    }
   ],
   "source": [
    "sumIntegrateIneq1 = Forall(f,\n",
    "                    Forall([a,b],LessThanEquals(Summation(x,Operation(f,x),DiscreteContiguousSet(a,b)),\n",
    "                    Integrate(x,Operation(f,x),IntervalCC(Subtract(a,one),b))),\n",
    "                    domain=Integers,conditions=LessThanEquals(a,b)),\n",
    "                    domain=MonDecFuncs)\n",
    "sumIntegrateIneq1"
   ]
  },
  {
   "cell_type": "code",
   "execution_count": 16,
   "metadata": {
    "collapsed": false
   },
   "outputs": [
    {
     "data": {
      "image/png": "[encoded data removed]",
      "text/plain": [
       "forall_{l, m, n in Integers | a(l) <= b(l)} (Summation_{l=m}^{n}a(l) <= Summation_{l=m}^{n}b(l))"
      ]
     },
     "execution_count": 16,
     "metadata": {},
     "output_type": "execute_result"
    }
   ],
   "source": [
    "sumIneq1 = Forall([l,m,n],\n",
    "                 LessThanEquals(Summation(l,Operation(a,l),DiscreteContiguousSet(m,n)),\n",
    "                          Summation(l,Operation(b,l),DiscreteContiguousSet(m,n))),\n",
    "                  domain=Integers,\n",
    "                  conditions=LessThanEquals(Operation(a,l),Operation(b,l)))\n",
    "sumIneq1"
   ]
  },
  {
   "cell_type": "code",
   "execution_count": 6,
   "metadata": {
    "collapsed": false
   },
   "outputs": [
    {
     "name": "stdout",
     "output_type": "stream",
     "text": [
      "Creating theorems *.dill and *.pv_it files in the __pv_it__ directory\n",
      "Generating theorems.py from proveit.axiomsOrTheoremsTemplate.py\n",
      "These theorems may be imported from proveit.number.integer.theorems\n"
     ]
    }
   ],
   "source": [
    "%end_theorems"
   ]
  },
  {
   "cell_type": "code",
   "execution_count": null,
   "metadata": {
    "collapsed": true
   },
   "outputs": [],
   "source": []
  }
 ],
 "metadata": {
  "kernelspec": {
   "display_name": "Python 2",
   "language": "python",
   "name": "python2"
  },
  "language_info": {
   "codemirror_mode": {
    "name": "ipython",
    "version": 2
   },
   "file_extension": ".py",
   "mimetype": "text/x-python",
   "name": "python",
   "nbconvert_exporter": "python",
   "pygments_lexer": "ipython2",
   "version": "2.7.9"
  }
 },
 "nbformat": 4,
 "nbformat_minor": 0
}
