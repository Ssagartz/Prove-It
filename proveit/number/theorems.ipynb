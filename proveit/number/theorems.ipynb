{
 "cells": [
  {
   "cell_type": "code",
   "execution_count": 1,
   "metadata": {
    "collapsed": false
   },
   "outputs": [],
   "source": [
    "import proveit.specialStatementMagic # for %begin_axioms and %end_axioms\n",
    "from proveit.number.arithmeticOps import Operation, Summation, Multiply, Exponentiate, DiscreteContiguousSet, Fraction, Subtract, Add, LessThan\n",
    "from proveit.number.arithmeticOps import LessThanEquals\n",
    "from proveit.basiclogic import Forall, Exists, Equals\n",
    "from proveit.number.common import A, a,b,c,f, m,n,r, t,eps,phi,U,SUm,C2m,H,Hm,u,e,i,pi,k,l,r,zero,one,two,infinity\n",
    "from proveit.number.common import minusOne, minusTwo,Z,Zp,R,zeroToOne,tFunc,tFunc_n_eps,QPE,QPEfunc, Am, Funcs\n",
    "from proveit.number.common import Reals, Integers\n",
    "from proveit.basiclogic.set.setOps import In"
   ]
  },
  {
   "cell_type": "code",
   "execution_count": 2,
   "metadata": {
    "collapsed": false
   },
   "outputs": [],
   "source": [
    "%begin_theorems"
   ]
  },
  {
   "cell_type": "code",
   "execution_count": 3,
   "metadata": {
    "collapsed": true
   },
   "outputs": [],
   "source": [
    "commAdd = Forall([a,b],Equals(Add(a,b),Add(b,a)))"
   ]
  },
  {
   "cell_type": "code",
   "execution_count": 4,
   "metadata": {
    "collapsed": false
   },
   "outputs": [
    {
     "data": {
      "text/latex": [
       "$\\forall_{r \\in \\mathbb{R}} \\left(\\left(\\sum_{m=0}^{\\infty}r^{m}\\right) = \\frac{1}{1 - r}\\right)$"
      ],
      "text/plain": [
       "forall_{r in Reals} ((Summation_{m=0}^{infinity}r^(m)) = 1 / (1 - r))"
      ]
     },
     "execution_count": 4,
     "metadata": {},
     "output_type": "execute_result"
    }
   ],
   "source": [
    "infGeomSum = Forall(r,Equals(Summation(m,Exponentiate(r,m),DiscreteContiguousSet(zero,infinity)), \n",
    "             Fraction(one,Subtract(one,r))),\n",
    "              domain=Reals\n",
    "              )\n",
    "infGeomSum"
   ]
  },
  {
   "cell_type": "code",
   "execution_count": 5,
   "metadata": {
    "collapsed": false
   },
   "outputs": [
    {
     "data": {
      "text/latex": [
       "$\\forall_{r, k, l | k \\in \\mathbb{Z}, l \\in \\mathbb{Z}, r \\in \\mathbb{R}, k < l} \\left(\\left(\\sum_{m=k}^{l}r^{m}\\right) = \\frac{r^{l + 1} - r^{k}}{r - 1}\\right)$"
      ],
      "text/plain": [
       "forall_{r, k, l | k in Integers, l in Integers, r in Reals, k < l} ((Summation_{m=k}^{l}r^(m)) = (r^(l + 1) - r^(k)) / (r - 1))"
      ]
     },
     "execution_count": 5,
     "metadata": {},
     "output_type": "execute_result"
    }
   ],
   "source": [
    "finGeomSum = Forall([r,k,l],\n",
    "                Equals(Summation(m,Exponentiate(r,m),DiscreteContiguousSet(k,l)), \n",
    "                 Fraction(Subtract(Exponentiate(r,Add(l,one)),Exponentiate(r,k)),Subtract(r,one))),\n",
    "                 conditions=[In(k,Integers),\n",
    "                  In(l,Integers),\n",
    "                  In(r,Reals),\n",
    "                  LessThan(k,l)])\n",
    "finGeomSum"
   ]
  },
  {
   "cell_type": "code",
   "execution_count": 6,
   "metadata": {
    "collapsed": false
   },
   "outputs": [
    {
     "data": {
      "text/latex": [
       "$\\forall_{a, b, c, A | a \\in \\mathbb{Z}, b \\in \\mathbb{Z}, c \\in \\mathbb{Z}, a \\leq b, b \\leq c} \\left(\\left(\\sum_{m=a}^{c}A\\left(m\\right)\\right) = \\left(\\left(\\sum_{m=a}^{b}A\\left(m\\right)\\right) + \\left(\\sum_{m=b + 1}^{c}A\\left(m\\right)\\right)\\right)\\right)$"
      ],
      "text/plain": [
       "forall_{a, b, c, A | a in Integers, b in Integers, c in Integers, a <= b, b <= c} ((Summation_{m=a}^{c}A(m)) = ((Summation_{m=a}^{b}A(m)) + (Summation_{m=b + 1}^{c}A(m))))"
      ]
     },
     "execution_count": 6,
     "metadata": {},
     "output_type": "execute_result"
    }
   ],
   "source": [
    "splitSum = Forall([a,b,c,A],\n",
    "                  Equals(Summation(m,Am,DiscreteContiguousSet(a,c)),\n",
    "                         Add(Summation(m,Am,DiscreteContiguousSet(a,b)),\n",
    "                             Summation(m,Am,DiscreteContiguousSet(Add(b,one),c)))),\n",
    "                  conditions=[In(a,Integers),In(b,Integers),In(c,Integers),LessThanEquals(a,b),LessThanEquals(b,c)])\n",
    "splitSum"
   ]
  },
  {
   "cell_type": "code",
   "execution_count": 7,
   "metadata": {
    "collapsed": false
   },
   "outputs": [
    {
     "data": {
      "text/latex": [
       "$\\forall_{f \\in Funcs} \\left[\\forall_{a, b \\in \\mathbb{Z} | a < b} \\left(\\left(\\sum_{l=a}^{b}f\\left(l\\right)\\right) = \\left(\\left(\\sum_{l=a - 1}^{b}f\\left(l\\right)\\right) - f\\left(a - 1\\right)\\right)\\right)\\right]$"
      ],
      "text/plain": [
       "forall_{f in Funcs} [forall_{a, b in Integers | a < b} ((Summation_{l=a}^{b}f(l)) = ((Summation_{l=a - 1}^{b}f(l)) - f(a - 1)))]"
      ]
     },
     "execution_count": 7,
     "metadata": {},
     "output_type": "execute_result"
    }
   ],
   "source": [
    "splitSumOneElem = Forall(f, \n",
    "                         Forall([a,b],\n",
    "                                Equals( Summation(l, Operation(f,l), DiscreteContiguousSet(a,b)), \n",
    "                                        Subtract( Summation(l, Operation(f,l), DiscreteContiguousSet(Subtract(a,one),b)), Operation(f,Subtract(a,one)))),\n",
    "                                domain=Integers,\n",
    "                                conditions=LessThan(a,b)),\n",
    "                         domain=Funcs)\n",
    "splitSumOneElem"
   ]
  },
  {
   "cell_type": "code",
   "execution_count": 8,
   "metadata": {
    "collapsed": false
   },
   "outputs": [
    {
     "data": {
      "text/latex": [
       "$\\forall_{f \\in Funcs} \\left[\\forall_{a, b \\in \\mathbb{Z}} \\left(\\left(\\left(\\sum_{l=a}^{b}f\\left(l\\right)\\right) + \\left(\\sum_{l=a}^{b}f\\left(l\\right)\\right)\\right) = \\left(2 \\cdot \\left(\\sum_{l=a}^{b}f\\left(l\\right)\\right)\\right)\\right)\\right]$"
      ],
      "text/plain": [
       "forall_{f in Funcs} [forall_{a, b in Integers} (((Summation_{l=a}^{b}f(l)) + (Summation_{l=a}^{b}f(l))) = (2 * (Summation_{l=a}^{b}f(l))))]"
      ]
     },
     "execution_count": 8,
     "metadata": {},
     "output_type": "execute_result"
    }
   ],
   "source": [
    "addSums = Forall(f, \n",
    "                         Forall([a,b],\n",
    "                                Equals( Add(Summation(l, Operation(f,l), DiscreteContiguousSet(a,b)), Summation(l, Operation(f,l), DiscreteContiguousSet(a,b))),\n",
    "                                        Multiply(two, Summation(l, Operation(f,l), DiscreteContiguousSet(a,b)))),\n",
    "                                domain=Integers,\n",
    "                                ),\n",
    "                         domain=Funcs)\n",
    "addSums"
   ]
  },
  {
   "cell_type": "code",
   "execution_count": 9,
   "metadata": {
    "collapsed": false
   },
   "outputs": [
    {
     "name": "stdout",
     "output_type": "stream",
     "text": [
      "Creating theorems *.dill and *.pv_it files in the __pv_it__ directory\n",
      "These theorems may be imported from proveit.number.theorems\n"
     ]
    }
   ],
   "source": [
    "%end_theorems"
   ]
  },
  {
   "cell_type": "code",
   "execution_count": null,
   "metadata": {
    "collapsed": true
   },
   "outputs": [],
   "source": []
  }
 ],
 "metadata": {
  "kernelspec": {
   "display_name": "Python 2",
   "language": "python",
   "name": "python2"
  },
  "language_info": {
   "codemirror_mode": {
    "name": "ipython",
    "version": 2
   },
   "file_extension": ".py",
   "mimetype": "text/x-python",
   "name": "python",
   "nbconvert_exporter": "python",
   "pygments_lexer": "ipython2",
   "version": "2.7.6"
  }
 },
 "nbformat": 4,
 "nbformat_minor": 0
}
