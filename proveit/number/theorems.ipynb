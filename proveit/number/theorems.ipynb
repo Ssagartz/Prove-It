{
 "cells": [
  {
   "cell_type": "code",
   "execution_count": 1,
   "metadata": {
    "collapsed": true
   },
   "outputs": [],
   "source": [
    "import proveit.specialStatementMagic # for %begin_axioms and %end_axioms\n",
    "from proveit.number.arithmeticOps import Summation, Exponentiate, DiscreteContiguousSet, Fraction, Subtract, Add, LessThan\n",
    "from proveit.number.arithmeticOps import LessThanEquals\n",
    "from proveit.basiclogic import Forall, Exists, Equals\n",
    "from proveit.number.variables import A, a,b,c,m,n,r, t,eps,phi,U,SUm,C2m,H,Hm,u,e,i,pi,k,l,r,zero,one,two,infinity\n",
    "from proveit.number.variables import minusOne, minusTwo,Z,Zp,R,zeroToOne,tFunc,tFunc_n_eps,QPE,QPEfunc, Am\n",
    "from proveit.number.variables import Reals, Integers\n",
    "from proveit.basiclogic.set.setOps import In"
   ]
  },
  {
   "cell_type": "code",
   "execution_count": 2,
   "metadata": {
    "collapsed": true
   },
   "outputs": [],
   "source": [
    "%begin_theorems"
   ]
  },
  {
   "cell_type": "code",
   "execution_count": 3,
   "metadata": {
    "collapsed": true
   },
   "outputs": [],
   "source": [
    "commAdd = Forall([a,b],Equals(Add(a,b),Add(b,a)))"
   ]
  },
  {
   "cell_type": "code",
   "execution_count": 5,
   "metadata": {
    "collapsed": false
   },
   "outputs": [
    {
     "data": {
      "text/latex": [
       "$\\forall_{r \\in \\mathbb{R}} \\left(\\sum_{m=0}^{\\infty}r^{m} = \\frac{1}{\\left(1 - r\\right)}\\right)$"
      ],
      "text/plain": [
       "forall_{r in Reals} (Summation_{m=0}^{infinity}r^(m) = 1 / (1 - r))"
      ]
     },
     "execution_count": 5,
     "metadata": {},
     "output_type": "execute_result"
    }
   ],
   "source": [
    "infGeomSum = Forall(r,Equals(Summation(m,Exponentiate(r,m),DiscreteContiguousSet(zero,infinity)), \n",
    "             Fraction(one,Subtract(one,r))),\n",
    "              domain=Reals\n",
    "              )\n",
    "infGeomSum"
   ]
  },
  {
   "cell_type": "code",
   "execution_count": 6,
   "metadata": {
    "collapsed": false
   },
   "outputs": [
    {
     "data": {
      "text/latex": [
       "$\\forall_{r, k, l | k \\in \\mathbb{Z}, l \\in \\mathbb{Z}, r \\in \\mathbb{R}, k < l} \\left(\\sum_{m=k}^{l}r^{m} = \\frac{\\left(r^{\\left(l + 1\\right)} - r^{k}\\right)}{\\left(r - 1\\right)}\\right)$"
      ],
      "text/plain": [
       "forall_{r, k, l | k in Integers, l in Integers, r in Reals, k < l} (Summation_{m=k}^{l}r^(m) = (r^((l + 1)) - r^(k)) / (r - 1))"
      ]
     },
     "execution_count": 6,
     "metadata": {},
     "output_type": "execute_result"
    }
   ],
   "source": [
    "finGeomSum = Forall([r,k,l],\n",
    "                Equals(Summation(m,Exponentiate(r,m),DiscreteContiguousSet(k,l)), \n",
    "                 Fraction(Subtract(Exponentiate(r,Add(l,one)),Exponentiate(r,k)),Subtract(r,one))),\n",
    "                 conditions=[In(k,Integers),\n",
    "                  In(l,Integers),\n",
    "                  In(r,Reals),\n",
    "                  LessThan(k,l)])\n",
    "finGeomSum"
   ]
  },
  {
   "cell_type": "code",
   "execution_count": 7,
   "metadata": {
    "collapsed": false
   },
   "outputs": [
    {
     "data": {
      "text/latex": [
       "$\\forall_{a, b, c, A | a \\in \\mathbb{Z}, b \\in \\mathbb{Z}, c \\in \\mathbb{Z}, a \\leq b, b \\leq c} \\left(\\sum_{m=a}^{c}A(m) = \\left(\\sum_{m=a}^{b}A(m) + \\sum_{m=b + 1}^{c}A(m)\\right)\\right)$"
      ],
      "text/plain": [
       "forall_{a, b, c, A | a in Integers, b in Integers, c in Integers, a <= b, b <= c} (Summation_{m=a}^{c}A(m) = (Summation_{m=a}^{b}A(m) + Summation_{m=b + 1}^{c}A(m)))"
      ]
     },
     "execution_count": 7,
     "metadata": {},
     "output_type": "execute_result"
    }
   ],
   "source": [
    "splitSum = Forall([a,b,c,A],\n",
    "                  Equals(Summation(m,Am,DiscreteContiguousSet(a,c)),\n",
    "                         Add(Summation(m,Am,DiscreteContiguousSet(a,b)),\n",
    "                             Summation(m,Am,DiscreteContiguousSet(Add(b,one),c)))),\n",
    "                  conditions=[In(a,Integers),In(b,Integers),In(c,Integers),LessThanEquals(a,b),LessThanEquals(b,c)])\n",
    "splitSum"
   ]
  },
  {
   "cell_type": "code",
   "execution_count": 9,
   "metadata": {
    "collapsed": false
   },
   "outputs": [
    {
     "name": "stdout",
     "output_type": "stream",
     "text": [
      "Creating theorems *.dill and *.pv_it files in the __pv_it__ directory\n",
      "Generating theorems.py from proveit.axiomsOrTheoremsTemplate.py\n",
      "These theorems may be imported from proveit.number.theorems\n"
     ]
    }
   ],
   "source": [
    "%end_theorems"
   ]
  },
  {
   "cell_type": "code",
   "execution_count": null,
   "metadata": {
    "collapsed": true
   },
   "outputs": [],
   "source": []
  }
 ],
 "metadata": {
  "kernelspec": {
   "display_name": "Python 2",
   "language": "python",
   "name": "python2"
  },
  "language_info": {
   "codemirror_mode": {
    "name": "ipython",
    "version": 2
   },
   "file_extension": ".py",
   "mimetype": "text/x-python",
   "name": "python",
   "nbconvert_exporter": "python",
   "pygments_lexer": "ipython2",
   "version": "2.7.9"
  }
 },
 "nbformat": 4,
 "nbformat_minor": 0
}
