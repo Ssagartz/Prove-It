{
 "cells": [
  {
   "cell_type": "code",
   "execution_count": 1,
   "metadata": {
    "collapsed": false
   },
   "outputs": [],
   "source": [
    "import proveit.specialStatementMagic # for %begin_axioms and %end_axioms\n",
    "from proveit.basiclogic import Forall, Equals, In, Iff\n",
    "from proveit.number import Add, GreaterThanEquals\n",
    "from proveit.common import n, x, y, xEtc\n",
    "from proveit.number.natural.counting import ExprListCount\n",
    "from proveit.number.common import zero, one, two, Naturals, NaturalsPos"
   ]
  },
  {
   "cell_type": "code",
   "execution_count": 2,
   "metadata": {
    "collapsed": false
   },
   "outputs": [],
   "source": [
    "%begin_axioms"
   ]
  },
  {
   "cell_type": "code",
   "execution_count": 3,
   "metadata": {
    "collapsed": false
   },
   "outputs": [
    {
     "data": {
      "text/latex": [
       "$\\forall_{ n  \\in \\mathbb{N}} \\left(\\left(n \\in \\mathbb{N}^+\\right) \\Leftrightarrow \\left(n \\geq 1\\right)\\right)$"
      ],
      "text/plain": [
       "$\\forall_{ n  \\in \\mathbb{N}} \\left(\\left(n \\in \\mathbb{N}^+\\right) \\Leftrightarrow \\left(n \\geq 1\\right)\\right)$"
      ]
     },
     "execution_count": 3,
     "metadata": {},
     "output_type": "execute_result"
    }
   ],
   "source": [
    "naturalsPosDef = Forall(n, Iff(In(n, NaturalsPos), GreaterThanEquals(n, one)), domain=Naturals)\n",
    "naturalsPosDef"
   ]
  },
  {
   "cell_type": "code",
   "execution_count": 4,
   "metadata": {
    "collapsed": false
   },
   "outputs": [
    {
     "data": {
      "text/latex": [
       "$0 \\in \\mathbb{N}$"
      ],
      "text/plain": [
       "$0 \\in \\mathbb{N}$"
      ]
     },
     "execution_count": 4,
     "metadata": {},
     "output_type": "execute_result"
    }
   ],
   "source": [
    "zeroInNaturals = In(zero,Naturals)\n",
    "zeroInNaturals"
   ]
  },
  {
   "cell_type": "code",
   "execution_count": 5,
   "metadata": {
    "collapsed": false
   },
   "outputs": [
    {
     "data": {
      "text/latex": [
       "$\\left( 0 + 1 \\right) = 1$"
      ],
      "text/plain": [
       "$\\left( 0 + 1 \\right) = 1$"
      ]
     },
     "execution_count": 5,
     "metadata": {},
     "output_type": "execute_result"
    }
   ],
   "source": [
    "zeroAddOne = Equals(Add(zero, one), one)\n",
    "zeroAddOne"
   ]
  },
  {
   "cell_type": "code",
   "execution_count": 6,
   "metadata": {
    "collapsed": false
   },
   "outputs": [
    {
     "data": {
      "text/latex": [
       "$\\left( 1 + 1 \\right) = 2$"
      ],
      "text/plain": [
       "$\\left( 1 + 1 \\right) = 2$"
      ]
     },
     "execution_count": 6,
     "metadata": {},
     "output_type": "execute_result"
    }
   ],
   "source": [
    "oneAddOne = Equals(Add(one, one), two)\n",
    "oneAddOne"
   ]
  },
  {
   "cell_type": "markdown",
   "metadata": {},
   "source": [
    "ExprListCount counts the number of expressions in an expression list.  For Example, ExprListCount(a, b, c, d) = 4."
   ]
  },
  {
   "cell_type": "code",
   "execution_count": 7,
   "metadata": {
    "collapsed": false
   },
   "outputs": [
    {
     "data": {
      "text/latex": [
       "$\\forall_{ x } \\left(\\#\\left( x \\right) = 1\\right)$"
      ],
      "text/plain": [
       "$\\forall_{ x } \\left(\\#\\left( x \\right) = 1\\right)$"
      ]
     },
     "execution_count": 7,
     "metadata": {},
     "output_type": "execute_result"
    }
   ],
   "source": [
    "exprListCountOne = Forall(x, Equals(ExprListCount(x), one))\n",
    "exprListCountOne"
   ]
  },
  {
   "cell_type": "code",
   "execution_count": 8,
   "metadata": {
    "collapsed": false
   },
   "outputs": [
    {
     "data": {
      "text/latex": [
       "$\\forall_{~.., x_{\\Box} ,..~, y } \\left(\\#\\left(~.., x_{\\Box} ,..~, y \\right) = \\left( \\#\\left(~.., x_{\\Box} ,..~, y \\right) + 1 \\right)\\right)$"
      ],
      "text/plain": [
       "$\\forall_{~.., x_{\\Box} ,..~, y } \\left(\\#\\left(~.., x_{\\Box} ,..~, y \\right) = \\left( \\#\\left(~.., x_{\\Box} ,..~, y \\right) + 1 \\right)\\right)$"
      ]
     },
     "execution_count": 8,
     "metadata": {},
     "output_type": "execute_result"
    }
   ],
   "source": [
    "exprListCountNext = Forall((xEtc, y), Equals(ExprListCount(xEtc, y), Add(ExprListCount(xEtc, y), one)))\n",
    "exprListCountNext"
   ]
  },
  {
   "cell_type": "code",
   "execution_count": 9,
   "metadata": {
    "collapsed": false
   },
   "outputs": [
    {
     "name": "stdout",
     "output_type": "stream",
     "text": [
      "Creating axioms *.dill and *.pv_it files in the __pv_it__ directory\n",
      "These axioms may be imported from proveit.number.natural.axioms\n"
     ]
    }
   ],
   "source": [
    "%end_axioms"
   ]
  },
  {
   "cell_type": "code",
   "execution_count": null,
   "metadata": {
    "collapsed": true
   },
   "outputs": [],
   "source": []
  }
 ],
 "metadata": {
  "kernelspec": {
   "display_name": "Python 2",
   "language": "python",
   "name": "python2"
  },
  "language_info": {
   "codemirror_mode": {
    "name": "ipython",
    "version": 2
   },
   "file_extension": ".py",
   "mimetype": "text/x-python",
   "name": "python",
   "nbconvert_exporter": "python",
   "pygments_lexer": "ipython2",
   "version": "2.7.10"
  }
 },
 "nbformat": 4,
 "nbformat_minor": 0
}
