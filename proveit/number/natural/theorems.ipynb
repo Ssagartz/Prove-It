{
 "cells": [
  {
   "cell_type": "code",
   "execution_count": 1,
   "metadata": {
    "collapsed": false
   },
   "outputs": [],
   "source": [
    "import proveit.specialStatementMagic # for %begin_theorems and %end_theorems\n",
    "from proveit.expression import Operation\n",
    "from proveit.basiclogic import Forall, Equals, In, NotEquals, And, Or, Implies\n",
    "from proveit.number import Add, Subtract, Multiply, Exponentiate\n",
    "from proveit.common import a, b, aEtc, cEtc, f, n, x, y, xEtc, yEtc, P\n",
    "from proveit.number.natural.counting import ExprListCount\n",
    "from proveit.number.numberSets import Integers, Naturals, NaturalsPos, Reals, RealsPos, Complexes\n",
    "from proveit.number.number import zero, one, two, three, four, five, six, seven, eight, nine\n",
    "from proveit.number.arithmeticOps import Exponentiate, GreaterThan, GreaterThanEquals, DiscreteContiguousSet, \\\n",
    "    Summation"
   ]
  },
  {
   "cell_type": "code",
   "execution_count": 2,
   "metadata": {
    "collapsed": false
   },
   "outputs": [],
   "source": [
    "%begin_theorems"
   ]
  },
  {
   "cell_type": "code",
   "execution_count": 3,
   "metadata": {
    "collapsed": false
   },
   "outputs": [
    {
     "data": {
      "image/png": "[encoded data removed]",
      "text/plain": [
       "$\\forall_{ a  \\in \\mathbb{N}} \\left(a \\in \\mathbb{Z}\\right)$"
      ]
     },
     "execution_count": 3,
     "metadata": {},
     "output_type": "execute_result"
    }
   ],
   "source": [
    "inIntegers = Forall(a,In(a,Integers),domain = Naturals)\n",
    "inIntegers"
   ]
  },
  {
   "cell_type": "code",
   "execution_count": 4,
   "metadata": {
    "collapsed": false
   },
   "outputs": [
    {
     "data": {
      "image/png": "[encoded data removed]",
      "text/plain": [
       "$\\forall_{ a  \\in \\mathbb{N}} \\left(a \\in \\mathbb{R}\\right)$"
      ]
     },
     "execution_count": 4,
     "metadata": {},
     "output_type": "execute_result"
    }
   ],
   "source": [
    "inReals = Forall(a,In(a,Reals),domain = Naturals)\n",
    "inReals"
   ]
  },
  {
   "cell_type": "code",
   "execution_count": 5,
   "metadata": {
    "collapsed": false
   },
   "outputs": [
    {
     "data": {
      "image/png": "[encoded data removed]",
      "text/plain": [
       "$\\forall_{ a  \\in \\mathbb{N}} \\left(a \\in \\mathbb{C}\\right)$"
      ]
     },
     "execution_count": 5,
     "metadata": {},
     "output_type": "execute_result"
    }
   ],
   "source": [
    "inComplexes = Forall(a,In(a,Complexes),domain = Naturals)\n",
    "inComplexes"
   ]
  },
  {
   "cell_type": "code",
   "execution_count": 6,
   "metadata": {
    "collapsed": false
   },
   "outputs": [
    {
     "data": {
      "image/png": "[encoded data removed]",
      "text/plain": [
       "$\\forall_{ a  \\in \\mathbb{N}^+} \\left(a \\in \\mathbb{N}\\right)$"
      ]
     },
     "execution_count": 6,
     "metadata": {},
     "output_type": "execute_result"
    }
   ],
   "source": [
    "inNatPos_inNaturals = Forall(a,In(a,Naturals),domain = NaturalsPos)\n",
    "inNatPos_inNaturals"
   ]
  },
  {
   "cell_type": "code",
   "execution_count": 7,
   "metadata": {
    "collapsed": false
   },
   "outputs": [
    {
     "data": {
      "image/png": "[encoded data removed]",
      "text/plain": [
       "$\\forall_{ a  \\in \\mathbb{N}^+} \\left(a \\in \\mathbb{Z}\\right)$"
      ]
     },
     "execution_count": 7,
     "metadata": {},
     "output_type": "execute_result"
    }
   ],
   "source": [
    "inNatPos_inIntegers = Forall(a,In(a,Integers),domain = NaturalsPos)\n",
    "inNatPos_inIntegers"
   ]
  },
  {
   "cell_type": "code",
   "execution_count": 8,
   "metadata": {
    "collapsed": false
   },
   "outputs": [
    {
     "data": {
      "image/png": "[encoded data removed]",
      "text/plain": [
       "$\\forall_{ a  \\in \\mathbb{N}^+} \\left(a \\in \\mathbb{R}^+\\right)$"
      ]
     },
     "execution_count": 8,
     "metadata": {},
     "output_type": "execute_result"
    }
   ],
   "source": [
    "inNatPos_inRealsPos = Forall(a,In(a,RealsPos),domain = NaturalsPos)\n",
    "inNatPos_inRealsPos"
   ]
  },
  {
   "cell_type": "code",
   "execution_count": 9,
   "metadata": {
    "collapsed": false
   },
   "outputs": [
    {
     "data": {
      "image/png": "[encoded data removed]",
      "text/plain": [
       "$\\forall_{ a  \\in \\mathbb{N}^+} \\left(a \\in \\mathbb{R}\\right)$"
      ]
     },
     "execution_count": 9,
     "metadata": {},
     "output_type": "execute_result"
    }
   ],
   "source": [
    "inNatPos_inReals = Forall(a,In(a,Reals),domain = NaturalsPos)\n",
    "inNatPos_inReals"
   ]
  },
  {
   "cell_type": "code",
   "execution_count": 10,
   "metadata": {
    "collapsed": false
   },
   "outputs": [
    {
     "data": {
      "image/png": "[encoded data removed]",
      "text/plain": [
       "$\\forall_{ a  \\in \\mathbb{N}^+} \\left(a \\in \\mathbb{C}\\right)$"
      ]
     },
     "execution_count": 10,
     "metadata": {},
     "output_type": "execute_result"
    }
   ],
   "source": [
    "inNatPos_inComplexes = Forall(a,In(a,Complexes),domain = NaturalsPos)\n",
    "inNatPos_inComplexes"
   ]
  },
  {
   "cell_type": "code",
   "execution_count": 11,
   "metadata": {
    "collapsed": false
   },
   "outputs": [
    {
     "data": {
      "image/png": "[encoded data removed]",
      "text/plain": [
       "$\\forall_{ n  \\in \\mathbb{N}} \\left(n \\geq 0\\right)$"
      ]
     },
     "execution_count": 11,
     "metadata": {},
     "output_type": "execute_result"
    }
   ],
   "source": [
    "naturalsLowerBound = Forall(n, GreaterThanEquals(n, zero), domain=Naturals)\n",
    "naturalsLowerBound"
   ]
  },
  {
   "cell_type": "code",
   "execution_count": 12,
   "metadata": {
    "collapsed": false
   },
   "outputs": [
    {
     "data": {
      "image/png": "[encoded data removed]",
      "text/plain": [
       "$\\forall_{ n  \\in \\mathbb{N}^+} \\left(n \\geq 1\\right)$"
      ]
     },
     "execution_count": 12,
     "metadata": {},
     "output_type": "execute_result"
    }
   ],
   "source": [
    "naturalsPosLowerBound = Forall(n, GreaterThanEquals(n, one), domain=NaturalsPos)\n",
    "naturalsPosLowerBound"
   ]
  },
  {
   "cell_type": "code",
   "execution_count": 13,
   "metadata": {
    "collapsed": false
   },
   "outputs": [
    {
     "data": {
      "image/png": "[encoded data removed]",
      "text/plain": [
       "$\\forall_{ a , b  \\in \\mathbb{N}} \\left[\\forall_{ n  \\in \\{a\\ldots b\\}} \\left(n \\in \\mathbb{N}\\right)\\right]$"
      ]
     },
     "execution_count": 13,
     "metadata": {},
     "output_type": "execute_result"
    }
   ],
   "source": [
    "allInDiscreteInterval_InNats = Forall((a, b), Forall(n, In(n, Naturals), domain=DiscreteContiguousSet(a, b)), domain=Naturals)\n",
    "allInDiscreteInterval_InNats  "
   ]
  },
  {
   "cell_type": "code",
   "execution_count": 14,
   "metadata": {
    "collapsed": false
   },
   "outputs": [
    {
     "data": {
      "image/png": "[encoded data removed]",
      "text/plain": [
       "$\\forall_{ a , b  \\in \\mathbb{Z}~|~ \\left(a > 0\\right) } \\left[\\forall_{ n  \\in \\{a\\ldots b\\}} \\left(n \\in \\mathbb{N}^+\\right)\\right]$"
      ]
     },
     "execution_count": 14,
     "metadata": {},
     "output_type": "execute_result"
    }
   ],
   "source": [
    "allInDiscreteInterval_InNatsPos = Forall((a, b), Forall(n, In(n, NaturalsPos), domain=DiscreteContiguousSet(a, b)), domain=Integers, conditions=[GreaterThan(a, zero)])\n",
    "allInDiscreteInterval_InNatsPos"
   ]
  },
  {
   "cell_type": "code",
   "execution_count": 15,
   "metadata": {
    "collapsed": false
   },
   "outputs": [
    {
     "data": {
      "image/png": "[encoded data removed]",
      "text/plain": [
       "$\\forall_{ a , b  \\in \\mathbb{N}} \\left(\\left( a + b \\right) \\in \\mathbb{N}\\right)$"
      ]
     },
     "execution_count": 15,
     "metadata": {},
     "output_type": "execute_result"
    }
   ],
   "source": [
    "addClosure = Forall((a, b), In(Add(a, b), Naturals), domain=Naturals)\n",
    "addClosure"
   ]
  },
  {
   "cell_type": "code",
   "execution_count": 16,
   "metadata": {
    "collapsed": false
   },
   "outputs": [
    {
     "data": {
      "image/png": "[encoded data removed]",
      "text/plain": [
       "$\\forall_{~.., a_{\\Box} ,..~, b ,~.., c_{\\Box} ,..~ \\in \\mathbb{N}~|~ \\left(b > 0\\right) } \\left(\\left(~..+ a_{\\Box} +..~+ b +~..+ c_{\\Box} +..~\\right) \\in \\mathbb{N}^+\\right)$"
      ]
     },
     "execution_count": 16,
     "metadata": {},
     "output_type": "execute_result"
    }
   ],
   "source": [
    "sumInNatsPos = Forall((aEtc, b, cEtc), In(Add(aEtc, b, cEtc), NaturalsPos), domain=Naturals, conditions=[GreaterThan(b, zero)])\n",
    "sumInNatsPos"
   ]
  },
  {
   "cell_type": "code",
   "execution_count": 17,
   "metadata": {
    "collapsed": false
   },
   "outputs": [
    {
     "data": {
      "image/png": "[encoded data removed]",
      "text/plain": [
       "$\\forall_{ a  \\in \\mathbb{N}^+} \\left(\\left(a - 1\\right) \\in \\mathbb{N}\\right)$"
      ]
     },
     "execution_count": 17,
     "metadata": {},
     "output_type": "execute_result"
    }
   ],
   "source": [
    "subtractOneInNats = Forall(a, In(Subtract(a, one), Naturals), domain=NaturalsPos)\n",
    "subtractOneInNats"
   ]
  },
  {
   "cell_type": "code",
   "execution_count": 18,
   "metadata": {
    "collapsed": false
   },
   "outputs": [
    {
     "data": {
      "image/png": "[encoded data removed]",
      "text/plain": [
       "$\\forall_{ a , b  \\in \\mathbb{N}} \\left(\\left( a \\cdot b \\right) \\in \\mathbb{N}\\right)$"
      ]
     },
     "execution_count": 18,
     "metadata": {},
     "output_type": "execute_result"
    }
   ],
   "source": [
    "multClosure = Forall((a, b), In(Multiply(a, b), Naturals), domain=Naturals)\n",
    "multClosure"
   ]
  },
  {
   "cell_type": "code",
   "execution_count": 19,
   "metadata": {
    "collapsed": false
   },
   "outputs": [
    {
     "data": {
      "image/png": "[encoded data removed]",
      "text/plain": [
       "$\\forall_{ a , b  \\in \\mathbb{N}^+} \\left(\\left( a \\cdot b \\right) \\in \\mathbb{N}^+\\right)$"
      ]
     },
     "execution_count": 19,
     "metadata": {},
     "output_type": "execute_result"
    }
   ],
   "source": [
    "multPosClosure = Forall((a, b), In(Multiply(a, b), NaturalsPos), domain=NaturalsPos)\n",
    "multPosClosure"
   ]
  },
  {
   "cell_type": "code",
   "execution_count": 20,
   "metadata": {
    "collapsed": false
   },
   "outputs": [
    {
     "data": {
      "image/png": "[encoded data removed]",
      "text/plain": [
       "$\\forall_{ a , b  \\in \\mathbb{N}~|~ \\left(a \\neq 0\\right) } \\left(\\left(a^{b}\\right) \\in \\mathbb{N}^+\\right)$"
      ]
     },
     "execution_count": 20,
     "metadata": {},
     "output_type": "execute_result"
    }
   ],
   "source": [
    "powClosure = Forall((a, b), In(Exponentiate(a, b), NaturalsPos), domain=Naturals, conditions=[NotEquals(a, zero)])\n",
    "powClosure"
   ]
  },
  {
   "cell_type": "code",
   "execution_count": 21,
   "metadata": {
    "collapsed": false
   },
   "outputs": [
    {
     "data": {
      "image/png": "[encoded data removed]",
      "text/plain": [
       "$\\forall_{ a  \\in \\mathbb{N}^+} \\left(\\left(a - 1\\right) \\in \\mathbb{N}\\right)$"
      ]
     },
     "execution_count": 21,
     "metadata": {},
     "output_type": "execute_result"
    }
   ],
   "source": [
    "subtractOneClosure = Forall(a, In(Subtract(a, one), Naturals), domain=NaturalsPos)\n",
    "subtractOneClosure"
   ]
  },
  {
   "cell_type": "code",
   "execution_count": 22,
   "metadata": {
    "collapsed": false
   },
   "outputs": [
    {
     "data": {
      "image/png": "[encoded data removed]",
      "text/plain": [
       "$\\forall_{ P } \\left(\\left( P\\left( 0 \\right) \\land \\left[\\forall_{ n  \\in \\mathbb{N}} \\left(P\\left( n \\right) \\Rightarrow P\\left(  n + 1  \\right)\\right)\\right] \\right) \\Rightarrow \\left[\\forall_{ n  \\in \\mathbb{N}} P\\left( n \\right)\\right]\\right)$"
      ]
     },
     "execution_count": 22,
     "metadata": {},
     "output_type": "execute_result"
    }
   ],
   "source": [
    "naturalsInduction = Forall(P, Implies(And(Operation(P, zero), \n",
    "                                          Forall(n, Implies(Operation(P, n), Operation(P, Add(n, one))),\n",
    "                                                 domain=Naturals)),\n",
    "                                      Forall(n, Operation(P, n), domain=Naturals)))\n",
    "naturalsInduction      "
   ]
  },
  {
   "cell_type": "code",
   "execution_count": 23,
   "metadata": {
    "collapsed": false
   },
   "outputs": [
    {
     "data": {
      "image/png": "[encoded data removed]",
      "text/plain": [
       "$\\forall_{ P } \\left(\\left( P\\left( 1 \\right) \\land \\left[\\forall_{ n  \\in \\mathbb{N}^+} \\left(P\\left( n \\right) \\Rightarrow P\\left(  n + 1  \\right)\\right)\\right] \\right) \\Rightarrow \\left[\\forall_{ n  \\in \\mathbb{N}^+} P\\left( n \\right)\\right]\\right)$"
      ]
     },
     "execution_count": 23,
     "metadata": {},
     "output_type": "execute_result"
    }
   ],
   "source": [
    "naturalsPosInduction = Forall(P, Implies(And(Operation(P, one), \n",
    "                                             Forall(n, Implies(Operation(P, n), Operation(P, Add(n, one))),\n",
    "                                                    domain=NaturalsPos)),\n",
    "                                         Forall(n, Operation(P, n), domain=NaturalsPos)))\n",
    "naturalsPosInduction "
   ]
  },
  {
   "cell_type": "code",
   "execution_count": 24,
   "metadata": {
    "collapsed": false
   },
   "outputs": [
    {
     "data": {
      "image/png": "[encoded data removed]",
      "text/plain": [
       "$\\forall_{~.., x_{\\Box} ,..., y_{\\Box} ,..~} \\left(\\#\\left(~.., x_{\\Box} ,..., y_{\\Box} ,..~\\right) = \\left( \\#\\left(~.., x_{\\Box} ,..~\\right) + \\#\\left(~.., y_{\\Box} ,..~\\right) \\right)\\right)$"
      ]
     },
     "execution_count": 24,
     "metadata": {},
     "output_type": "execute_result"
    }
   ],
   "source": [
    "exprListCountSplit = Forall((xEtc, yEtc), Equals(ExprListCount(xEtc, yEtc), Add(ExprListCount(xEtc), ExprListCount(yEtc))))\n",
    "exprListCountSplit"
   ]
  },
  {
   "cell_type": "code",
   "execution_count": 25,
   "metadata": {
    "collapsed": false
   },
   "outputs": [
    {
     "data": {
      "image/png": "[encoded data removed]",
      "text/plain": [
       "$1 \\in \\mathbb{N}$"
      ]
     },
     "execution_count": 25,
     "metadata": {},
     "output_type": "execute_result"
    }
   ],
   "source": [
    "oneInNaturals = In(one,Naturals)\n",
    "oneInNaturals"
   ]
  },
  {
   "cell_type": "code",
   "execution_count": 26,
   "metadata": {
    "collapsed": false
   },
   "outputs": [
    {
     "data": {
      "image/png": "[encoded data removed]",
      "text/plain": [
       "$2 \\in \\mathbb{N}$"
      ]
     },
     "execution_count": 26,
     "metadata": {},
     "output_type": "execute_result"
    }
   ],
   "source": [
    "twoInNaturals = In(two,Naturals)\n",
    "twoInNaturals"
   ]
  },
  {
   "cell_type": "code",
   "execution_count": 27,
   "metadata": {
    "collapsed": false
   },
   "outputs": [
    {
     "data": {
      "image/png": "[encoded data removed]",
      "text/plain": [
       "$3 \\in \\mathbb{N}$"
      ]
     },
     "execution_count": 27,
     "metadata": {},
     "output_type": "execute_result"
    }
   ],
   "source": [
    "threeInNaturals = In(three,Naturals)\n",
    "threeInNaturals"
   ]
  },
  {
   "cell_type": "code",
   "execution_count": 28,
   "metadata": {
    "collapsed": false
   },
   "outputs": [
    {
     "data": {
      "image/png": "[encoded data removed]",
      "text/plain": [
       "$4 \\in \\mathbb{N}$"
      ]
     },
     "execution_count": 28,
     "metadata": {},
     "output_type": "execute_result"
    }
   ],
   "source": [
    "fourInNaturals = In(four,Naturals)\n",
    "fourInNaturals"
   ]
  },
  {
   "cell_type": "code",
   "execution_count": 29,
   "metadata": {
    "collapsed": false
   },
   "outputs": [
    {
     "data": {
      "image/png": "[encoded data removed]",
      "text/plain": [
       "$5 \\in \\mathbb{N}$"
      ]
     },
     "execution_count": 29,
     "metadata": {},
     "output_type": "execute_result"
    }
   ],
   "source": [
    "fiveInNaturals = In(five,Naturals)\n",
    "fiveInNaturals"
   ]
  },
  {
   "cell_type": "code",
   "execution_count": 30,
   "metadata": {
    "collapsed": false
   },
   "outputs": [
    {
     "data": {
      "image/png": "[encoded data removed]",
      "text/plain": [
       "$6 \\in \\mathbb{N}$"
      ]
     },
     "execution_count": 30,
     "metadata": {},
     "output_type": "execute_result"
    }
   ],
   "source": [
    "sixInNaturals = In(six,Naturals)\n",
    "sixInNaturals"
   ]
  },
  {
   "cell_type": "code",
   "execution_count": 31,
   "metadata": {
    "collapsed": false
   },
   "outputs": [
    {
     "data": {
      "image/png": "[encoded data removed]",
      "text/plain": [
       "$7 \\in \\mathbb{N}$"
      ]
     },
     "execution_count": 31,
     "metadata": {},
     "output_type": "execute_result"
    }
   ],
   "source": [
    "sevenInNaturals = In(seven,Naturals)\n",
    "sevenInNaturals"
   ]
  },
  {
   "cell_type": "code",
   "execution_count": 32,
   "metadata": {
    "collapsed": false
   },
   "outputs": [
    {
     "data": {
      "image/png": "[encoded data removed]",
      "text/plain": [
       "$8 \\in \\mathbb{N}$"
      ]
     },
     "execution_count": 32,
     "metadata": {},
     "output_type": "execute_result"
    }
   ],
   "source": [
    "eightInNaturals = In(eight,Naturals)\n",
    "eightInNaturals"
   ]
  },
  {
   "cell_type": "code",
   "execution_count": 33,
   "metadata": {
    "collapsed": false
   },
   "outputs": [
    {
     "data": {
      "image/png": "[encoded data removed]",
      "text/plain": [
       "$9 \\in \\mathbb{N}$"
      ]
     },
     "execution_count": 33,
     "metadata": {},
     "output_type": "execute_result"
    }
   ],
   "source": [
    "nineInNaturals = In(nine,Naturals)\n",
    "nineInNaturals"
   ]
  },
  {
   "cell_type": "code",
   "execution_count": 34,
   "metadata": {
    "collapsed": false
   },
   "outputs": [
    {
     "data": {
      "image/png": "[encoded data removed]",
      "text/plain": [
       "$1 \\neq 0$"
      ]
     },
     "execution_count": 34,
     "metadata": {},
     "output_type": "execute_result"
    }
   ],
   "source": [
    "oneNotZero = NotEquals(one, zero)\n",
    "oneNotZero"
   ]
  },
  {
   "cell_type": "code",
   "execution_count": 35,
   "metadata": {
    "collapsed": false
   },
   "outputs": [
    {
     "data": {
      "image/png": "[encoded data removed]",
      "text/plain": [
       "$2 \\neq 0$"
      ]
     },
     "execution_count": 35,
     "metadata": {},
     "output_type": "execute_result"
    }
   ],
   "source": [
    "twoNotZero = NotEquals(two, zero)\n",
    "twoNotZero"
   ]
  },
  {
   "cell_type": "code",
   "execution_count": 36,
   "metadata": {
    "collapsed": false
   },
   "outputs": [
    {
     "data": {
      "image/png": "[encoded data removed]",
      "text/plain": [
       "$3 \\neq 0$"
      ]
     },
     "execution_count": 36,
     "metadata": {},
     "output_type": "execute_result"
    }
   ],
   "source": [
    "threeNotZero = NotEquals(three, zero)\n",
    "threeNotZero"
   ]
  },
  {
   "cell_type": "code",
   "execution_count": 37,
   "metadata": {
    "collapsed": false
   },
   "outputs": [
    {
     "data": {
      "image/png": "[encoded data removed]",
      "text/plain": [
       "$4 \\neq 0$"
      ]
     },
     "execution_count": 37,
     "metadata": {},
     "output_type": "execute_result"
    }
   ],
   "source": [
    "fourNotZero = NotEquals(four, zero)\n",
    "fourNotZero"
   ]
  },
  {
   "cell_type": "code",
   "execution_count": 38,
   "metadata": {
    "collapsed": false
   },
   "outputs": [
    {
     "data": {
      "image/png": "[encoded data removed]",
      "text/plain": [
       "$5 \\neq 0$"
      ]
     },
     "execution_count": 38,
     "metadata": {},
     "output_type": "execute_result"
    }
   ],
   "source": [
    "fiveNotZero = NotEquals(five, zero)\n",
    "fiveNotZero"
   ]
  },
  {
   "cell_type": "code",
   "execution_count": 39,
   "metadata": {
    "collapsed": false
   },
   "outputs": [
    {
     "data": {
      "image/png": "[encoded data removed]",
      "text/plain": [
       "$6 \\neq 0$"
      ]
     },
     "execution_count": 39,
     "metadata": {},
     "output_type": "execute_result"
    }
   ],
   "source": [
    "sixNotZero = NotEquals(six, zero)\n",
    "sixNotZero"
   ]
  },
  {
   "cell_type": "code",
   "execution_count": 40,
   "metadata": {
    "collapsed": false
   },
   "outputs": [
    {
     "data": {
      "image/png": "[encoded data removed]",
      "text/plain": [
       "$7 \\neq 0$"
      ]
     },
     "execution_count": 40,
     "metadata": {},
     "output_type": "execute_result"
    }
   ],
   "source": [
    "sevenNotZero = NotEquals(seven, zero)\n",
    "sevenNotZero"
   ]
  },
  {
   "cell_type": "code",
   "execution_count": 41,
   "metadata": {
    "collapsed": false
   },
   "outputs": [
    {
     "data": {
      "image/png": "[encoded data removed]",
      "text/plain": [
       "$8 \\neq 0$"
      ]
     },
     "execution_count": 41,
     "metadata": {},
     "output_type": "execute_result"
    }
   ],
   "source": [
    "eightNotZero = NotEquals(eight, zero)\n",
    "eightNotZero"
   ]
  },
  {
   "cell_type": "code",
   "execution_count": 42,
   "metadata": {
    "collapsed": false
   },
   "outputs": [
    {
     "data": {
      "image/png": "[encoded data removed]",
      "text/plain": [
       "$9 \\neq 0$"
      ]
     },
     "execution_count": 42,
     "metadata": {},
     "output_type": "execute_result"
    }
   ],
   "source": [
    "nineNotZero = NotEquals(nine, zero)\n",
    "nineNotZero"
   ]
  },
  {
   "cell_type": "code",
   "execution_count": 43,
   "metadata": {
    "collapsed": false
   },
   "outputs": [
    {
     "data": {
      "image/png": "[encoded data removed]",
      "text/plain": [
       "$\\left(2^{2}\\right) = 4$"
      ]
     },
     "execution_count": 43,
     "metadata": {},
     "output_type": "execute_result"
    }
   ],
   "source": [
    "twoSquared = Equals(Exponentiate(two,two),four)\n",
    "twoSquared"
   ]
  },
  {
   "cell_type": "code",
   "execution_count": 44,
   "metadata": {
    "collapsed": false
   },
   "outputs": [
    {
     "data": {
      "image/png": "[encoded data removed]",
      "text/plain": [
       "$\\left(2 - 1\\right) = 1$"
      ]
     },
     "execution_count": 44,
     "metadata": {},
     "output_type": "execute_result"
    }
   ],
   "source": [
    "twoSubOne = Equals(Subtract(two, one), one)\n",
    "twoSubOne"
   ]
  },
  {
   "cell_type": "code",
   "execution_count": 45,
   "metadata": {
    "collapsed": false
   },
   "outputs": [
    {
     "data": {
      "image/png": "[encoded data removed]",
      "text/plain": [
       "$2 \\neq 0$"
      ]
     },
     "execution_count": 45,
     "metadata": {},
     "output_type": "execute_result"
    }
   ],
   "source": [
    "twoNotZero = NotEquals(two,zero)\n",
    "twoNotZero"
   ]
  },
  {
   "cell_type": "code",
   "execution_count": 46,
   "metadata": {
    "collapsed": false
   },
   "outputs": [
    {
     "data": {
      "image/png": "[encoded data removed]",
      "text/plain": [
       "$1 > 0$"
      ]
     },
     "execution_count": 46,
     "metadata": {},
     "output_type": "execute_result"
    }
   ],
   "source": [
    "oneIsPositive = GreaterThan(one,zero)\n",
    "oneIsPositive"
   ]
  },
  {
   "cell_type": "code",
   "execution_count": 47,
   "metadata": {
    "collapsed": false
   },
   "outputs": [
    {
     "data": {
      "image/png": "[encoded data removed]",
      "text/plain": [
       "$2 > 0$"
      ]
     },
     "execution_count": 47,
     "metadata": {},
     "output_type": "execute_result"
    }
   ],
   "source": [
    "twoIsPositive = GreaterThan(two,zero)\n",
    "twoIsPositive"
   ]
  },
  {
   "cell_type": "code",
   "execution_count": 48,
   "metadata": {
    "collapsed": false
   },
   "outputs": [
    {
     "data": {
      "image/png": "[encoded data removed]",
      "text/plain": [
       "$3 > 0$"
      ]
     },
     "execution_count": 48,
     "metadata": {},
     "output_type": "execute_result"
    }
   ],
   "source": [
    "threeIsPositive = GreaterThan(three,zero)\n",
    "threeIsPositive"
   ]
  },
  {
   "cell_type": "code",
   "execution_count": 49,
   "metadata": {
    "collapsed": false
   },
   "outputs": [
    {
     "data": {
      "image/png": "[encoded data removed]",
      "text/plain": [
       "$4 > 0$"
      ]
     },
     "execution_count": 49,
     "metadata": {},
     "output_type": "execute_result"
    }
   ],
   "source": [
    "fourIsPositive = GreaterThan(four,zero)\n",
    "fourIsPositive"
   ]
  },
  {
   "cell_type": "code",
   "execution_count": 50,
   "metadata": {
    "collapsed": false
   },
   "outputs": [
    {
     "data": {
      "image/png": "[encoded data removed]",
      "text/plain": [
       "$5 > 0$"
      ]
     },
     "execution_count": 50,
     "metadata": {},
     "output_type": "execute_result"
    }
   ],
   "source": [
    "fiveIsPositive = GreaterThan(five,zero)\n",
    "fiveIsPositive"
   ]
  },
  {
   "cell_type": "code",
   "execution_count": 51,
   "metadata": {
    "collapsed": false
   },
   "outputs": [
    {
     "data": {
      "image/png": "[encoded data removed]",
      "text/plain": [
       "$6 > 0$"
      ]
     },
     "execution_count": 51,
     "metadata": {},
     "output_type": "execute_result"
    }
   ],
   "source": [
    "sixIsPositive = GreaterThan(six,zero)\n",
    "sixIsPositive"
   ]
  },
  {
   "cell_type": "code",
   "execution_count": 52,
   "metadata": {
    "collapsed": false
   },
   "outputs": [
    {
     "data": {
      "image/png": "[encoded data removed]",
      "text/plain": [
       "$7 > 0$"
      ]
     },
     "execution_count": 52,
     "metadata": {},
     "output_type": "execute_result"
    }
   ],
   "source": [
    "sevenIsPositive = GreaterThan(seven,zero)\n",
    "sevenIsPositive"
   ]
  },
  {
   "cell_type": "code",
   "execution_count": 53,
   "metadata": {
    "collapsed": false
   },
   "outputs": [
    {
     "data": {
      "image/png": "[encoded data removed]",
      "text/plain": [
       "$8 > 0$"
      ]
     },
     "execution_count": 53,
     "metadata": {},
     "output_type": "execute_result"
    }
   ],
   "source": [
    "eightIsPositive = GreaterThan(eight,zero)\n",
    "eightIsPositive"
   ]
  },
  {
   "cell_type": "code",
   "execution_count": 54,
   "metadata": {
    "collapsed": false
   },
   "outputs": [
    {
     "data": {
      "image/png": "[encoded data removed]",
      "text/plain": [
       "$9 > 0$"
      ]
     },
     "execution_count": 54,
     "metadata": {},
     "output_type": "execute_result"
    }
   ],
   "source": [
    "nineIsPositive = GreaterThan(nine,zero)\n",
    "nineIsPositive"
   ]
  },
  {
   "cell_type": "code",
   "execution_count": 55,
   "metadata": {
    "collapsed": false
   },
   "outputs": [
    {
     "data": {
      "image/png": "[encoded data removed]",
      "text/plain": [
       "$1 \\in \\mathbb{N}^+$"
      ]
     },
     "execution_count": 55,
     "metadata": {},
     "output_type": "execute_result"
    }
   ],
   "source": [
    "oneInNaturalsPos = In(one, NaturalsPos)\n",
    "oneInNaturalsPos"
   ]
  },
  {
   "cell_type": "code",
   "execution_count": 56,
   "metadata": {
    "collapsed": false
   },
   "outputs": [
    {
     "data": {
      "image/png": "[encoded data removed]",
      "text/plain": [
       "$2 \\in \\mathbb{N}^+$"
      ]
     },
     "execution_count": 56,
     "metadata": {},
     "output_type": "execute_result"
    }
   ],
   "source": [
    "twoInNaturalsPos = In(two, NaturalsPos)\n",
    "twoInNaturalsPos"
   ]
  },
  {
   "cell_type": "code",
   "execution_count": 57,
   "metadata": {
    "collapsed": false
   },
   "outputs": [
    {
     "data": {
      "image/png": "[encoded data removed]",
      "text/plain": [
       "$3 \\in \\mathbb{N}^+$"
      ]
     },
     "execution_count": 57,
     "metadata": {},
     "output_type": "execute_result"
    }
   ],
   "source": [
    "threeInNaturalsPos = In(three, NaturalsPos)\n",
    "threeInNaturalsPos"
   ]
  },
  {
   "cell_type": "code",
   "execution_count": 58,
   "metadata": {
    "collapsed": false
   },
   "outputs": [
    {
     "data": {
      "image/png": "[encoded data removed]",
      "text/plain": [
       "$4 \\in \\mathbb{N}^+$"
      ]
     },
     "execution_count": 58,
     "metadata": {},
     "output_type": "execute_result"
    }
   ],
   "source": [
    "fourInNaturalsPos = In(four, NaturalsPos)\n",
    "fourInNaturalsPos"
   ]
  },
  {
   "cell_type": "code",
   "execution_count": 59,
   "metadata": {
    "collapsed": false
   },
   "outputs": [
    {
     "data": {
      "image/png": "[encoded data removed]",
      "text/plain": [
       "$5 \\in \\mathbb{N}^+$"
      ]
     },
     "execution_count": 59,
     "metadata": {},
     "output_type": "execute_result"
    }
   ],
   "source": [
    "fiveInNaturalsPos = In(five, NaturalsPos)\n",
    "fiveInNaturalsPos"
   ]
  },
  {
   "cell_type": "code",
   "execution_count": 60,
   "metadata": {
    "collapsed": false
   },
   "outputs": [
    {
     "data": {
      "image/png": "[encoded data removed]",
      "text/plain": [
       "$6 \\in \\mathbb{N}^+$"
      ]
     },
     "execution_count": 60,
     "metadata": {},
     "output_type": "execute_result"
    }
   ],
   "source": [
    "sixInNaturalsPos = In(six, NaturalsPos)\n",
    "sixInNaturalsPos"
   ]
  },
  {
   "cell_type": "code",
   "execution_count": 61,
   "metadata": {
    "collapsed": false
   },
   "outputs": [
    {
     "data": {
      "image/png": "[encoded data removed]",
      "text/plain": [
       "$7 \\in \\mathbb{N}^+$"
      ]
     },
     "execution_count": 61,
     "metadata": {},
     "output_type": "execute_result"
    }
   ],
   "source": [
    "sevenInNaturalsPos = In(seven, NaturalsPos)\n",
    "sevenInNaturalsPos"
   ]
  },
  {
   "cell_type": "code",
   "execution_count": 62,
   "metadata": {
    "collapsed": false
   },
   "outputs": [
    {
     "data": {
      "image/png": "[encoded data removed]",
      "text/plain": [
       "$8 \\in \\mathbb{N}^+$"
      ]
     },
     "execution_count": 62,
     "metadata": {},
     "output_type": "execute_result"
    }
   ],
   "source": [
    "eightInNaturalsPos = In(eight, NaturalsPos)\n",
    "eightInNaturalsPos"
   ]
  },
  {
   "cell_type": "code",
   "execution_count": 63,
   "metadata": {
    "collapsed": false
   },
   "outputs": [
    {
     "data": {
      "image/png": "[encoded data removed]",
      "text/plain": [
       "$9 \\in \\mathbb{N}^+$"
      ]
     },
     "execution_count": 63,
     "metadata": {},
     "output_type": "execute_result"
    }
   ],
   "source": [
    "nineInNaturalsPos = In(nine, NaturalsPos)\n",
    "nineInNaturalsPos"
   ]
  },
  {
   "cell_type": "code",
   "execution_count": 64,
   "metadata": {
    "collapsed": false
   },
   "outputs": [
    {
     "data": {
      "image/png": "[encoded data removed]",
      "text/plain": [
       "$\\forall_{ f } \\left(\\left(\\sum_{n=0}^{1} f\\left( n \\right)\\right) = \\left( f\\left( 0 \\right) + f\\left( 1 \\right) \\right)\\right)$"
      ]
     },
     "execution_count": 64,
     "metadata": {},
     "output_type": "execute_result"
    }
   ],
   "source": [
    "sumZeroAndOne = Forall(f, Equals(Summation(n, Operation(f, n), DiscreteContiguousSet(zero, one)),\n",
    "                                Add(Operation(f, zero), Operation(f, one))))\n",
    "sumZeroAndOne"
   ]
  },
  {
   "cell_type": "code",
   "execution_count": 65,
   "metadata": {
    "collapsed": false
   },
   "outputs": [
    {
     "name": "stdout",
     "output_type": "stream",
     "text": [
      "Creating theorems *.dill and *.pv_it files in the __pv_it__ directory\n",
      "These theorems may be imported from proveit.number.natural.theorems\n"
     ]
    }
   ],
   "source": [
    "%end_theorems"
   ]
  },
  {
   "cell_type": "code",
   "execution_count": null,
   "metadata": {
    "collapsed": true
   },
   "outputs": [],
   "source": []
  }
 ],
 "metadata": {
  "kernelspec": {
   "display_name": "Python 2",
   "language": "python",
   "name": "python2"
  },
  "language_info": {
   "codemirror_mode": {
    "name": "ipython",
    "version": 2
   },
   "file_extension": ".py",
   "mimetype": "text/x-python",
   "name": "python",
   "nbconvert_exporter": "python",
   "pygments_lexer": "ipython2",
   "version": "2.7.10"
  }
 },
 "nbformat": 4,
 "nbformat_minor": 0
}
