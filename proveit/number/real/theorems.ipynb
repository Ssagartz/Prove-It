{
 "cells": [
  {
   "cell_type": "code",
   "execution_count": 1,
   "metadata": {
    "collapsed": false
   },
   "outputs": [],
   "source": [
    "import proveit.specialStatementMagic # for %begin_axioms and %end_axioms\n",
    "from proveit.expression import Lambda\n",
    "from proveit.basiclogic import In, NotIn, And, Iff, BOOLEANS\n",
    "from proveit.number.common import *\n",
    "from proveit.basiclogic import Forall, Exists, Equals, NotEquals\n",
    "from proveit.number.arithmeticOps import LessThan, LessThanEquals, GreaterThan, GreaterThanEquals, Fraction\n",
    "from proveit.number.arithmeticOps import Add, Subtract, Multiply, Divide, Fraction, Abs, Exponentiate, Neg\n",
    "from proveit.number.arithmeticOps import Min, Max, IntervalOO, IntervalCO, IntervalOC, IntervalCC, Summation, Integrate\n",
    "from proveit.number.roundingOps import Round, Ceil, Floor\n",
    "from proveit.number.moduloOp import Mod, ModAbs\n"
   ]
  },
  {
   "cell_type": "code",
   "execution_count": 2,
   "metadata": {
    "collapsed": false
   },
   "outputs": [],
   "source": [
    "%begin_theorems"
   ]
  },
  {
   "cell_type": "code",
   "execution_count": 3,
   "metadata": {
    "collapsed": false
   },
   "outputs": [
    {
     "data": {
      "image/png": "[encoded data removed]",
      "text/latex": [
       "$\\forall_{a, b \\in \\mathbb{R}~|~a > b} \\left(a \\geq b\\right)$"
      ],
      "text/plain": [
       "forall_{a, b in Reals | a > b} (a >= b)"
      ]
     },
     "execution_count": 3,
     "metadata": {},
     "output_type": "execute_result"
    }
   ],
   "source": [
    "relaxGreaterThan = Forall([a,b],\n",
    "                         GreaterThanEquals(a,b),\n",
    "                         domain = Reals,\n",
    "                         conditions = GreaterThan(a,b))\n",
    "relaxGreaterThan"
   ]
  },
  {
   "cell_type": "code",
   "execution_count": 4,
   "metadata": {
    "collapsed": false
   },
   "outputs": [
    {
     "data": {
      "image/png": "[encoded data removed]",
      "text/latex": [
       "$\\forall_{a, b \\in \\mathbb{R}~|~a < b} \\left(a \\leq b\\right)$"
      ],
      "text/plain": [
       "forall_{a, b in Reals | a < b} (a <= b)"
      ]
     },
     "execution_count": 4,
     "metadata": {},
     "output_type": "execute_result"
    }
   ],
   "source": [
    "relaxLessThan = Forall([a,b],\n",
    "                         LessThanEquals(a,b),\n",
    "                         domain = Reals,\n",
    "                         conditions = LessThan(a,b))\n",
    "relaxLessThan"
   ]
  },
  {
   "cell_type": "code",
   "execution_count": 5,
   "metadata": {
    "collapsed": false
   },
   "outputs": [
    {
     "data": {
      "image/png": "[encoded data removed]",
      "text/latex": [
       "$\\forall_{a, b} \\left(\\left(a < b\\right) \\in \\cal{B}\\right)$"
      ],
      "text/plain": [
       "forall_{a, b} ((a < b) in BOOLEANS)"
      ]
     },
     "execution_count": 5,
     "metadata": {},
     "output_type": "execute_result"
    }
   ],
   "source": [
    "lessThanInBools = Forall([a, b], In(LessThan(a, b), BOOLEANS))\n",
    "lessThanInBools"
   ]
  },
  {
   "cell_type": "code",
   "execution_count": 6,
   "metadata": {
    "collapsed": false
   },
   "outputs": [
    {
     "data": {
      "image/png": "[encoded data removed]",
      "text/latex": [
       "$\\forall_{a, b} \\left(\\left(a \\leq b\\right) \\in \\cal{B}\\right)$"
      ],
      "text/plain": [
       "forall_{a, b} ((a <= b) in BOOLEANS)"
      ]
     },
     "execution_count": 6,
     "metadata": {},
     "output_type": "execute_result"
    }
   ],
   "source": [
    "lessThanEqualsInBools = Forall([a, b], In(LessThanEquals(a, b), BOOLEANS))\n",
    "lessThanEqualsInBools"
   ]
  },
  {
   "cell_type": "code",
   "execution_count": 7,
   "metadata": {
    "collapsed": false
   },
   "outputs": [
    {
     "data": {
      "image/png": "[encoded data removed]",
      "text/latex": [
       "$\\forall_{a, b} \\left(\\left(a > b\\right) \\in \\cal{B}\\right)$"
      ],
      "text/plain": [
       "forall_{a, b} ((a > b) in BOOLEANS)"
      ]
     },
     "execution_count": 7,
     "metadata": {},
     "output_type": "execute_result"
    }
   ],
   "source": [
    "greaterThanInBools = Forall([a, b], In(GreaterThan(a, b), BOOLEANS))\n",
    "greaterThanInBools"
   ]
  },
  {
   "cell_type": "code",
   "execution_count": 8,
   "metadata": {
    "collapsed": false
   },
   "outputs": [
    {
     "data": {
      "image/png": "[encoded data removed]",
      "text/latex": [
       "$\\forall_{a, b} \\left(\\left(a \\geq b\\right) \\in \\cal{B}\\right)$"
      ],
      "text/plain": [
       "forall_{a, b} ((a >= b) in BOOLEANS)"
      ]
     },
     "execution_count": 8,
     "metadata": {},
     "output_type": "execute_result"
    }
   ],
   "source": [
    "greaterThanEqualsInBools = Forall([a, b], In(GreaterThanEquals(a, b), BOOLEANS))\n",
    "greaterThanEqualsInBools"
   ]
  },
  {
   "cell_type": "code",
   "execution_count": 9,
   "metadata": {
    "collapsed": false
   },
   "outputs": [
    {
     "data": {
      "image/png": "[encoded data removed]",
      "text/latex": [
       "$\\forall_{a \\in \\mathbb{R}} \\left(a \\in \\mathbb{C}\\right)$"
      ],
      "text/plain": [
       "forall_{a in Reals} (a in Complexes)"
      ]
     },
     "execution_count": 9,
     "metadata": {},
     "output_type": "execute_result"
    }
   ],
   "source": [
    "inComplexes = Forall(a,\n",
    "                    In(a,Complexes),\n",
    "                    domain = Reals)\n",
    "inComplexes"
   ]
  },
  {
   "cell_type": "code",
   "execution_count": 10,
   "metadata": {
    "collapsed": false
   },
   "outputs": [
    {
     "data": {
      "image/png": "[encoded data removed]",
      "text/latex": [
       "$\\forall_{a \\in \\mathbb{R}^+} \\left(a \\in \\mathbb{R}\\right)$"
      ],
      "text/plain": [
       "forall_{a in RealsPos} (a in Reals)"
      ]
     },
     "execution_count": 10,
     "metadata": {},
     "output_type": "execute_result"
    }
   ],
   "source": [
    "inRealsPos_inReals = Forall(a, In(a,Reals), domain = RealsPos)\n",
    "inRealsPos_inReals"
   ]
  },
  {
   "cell_type": "code",
   "execution_count": 11,
   "metadata": {
    "collapsed": false
   },
   "outputs": [
    {
     "data": {
      "image/png": "[encoded data removed]",
      "text/latex": [
       "$\\forall_{a \\in \\mathbb{R}^-} \\left(a \\in \\mathbb{R}\\right)$"
      ],
      "text/plain": [
       "forall_{a in RealsNeg} (a in Reals)"
      ]
     },
     "execution_count": 11,
     "metadata": {},
     "output_type": "execute_result"
    }
   ],
   "source": [
    "inRealsNeg_inReals = Forall(a, In(a,Reals), domain = RealsNeg)\n",
    "inRealsNeg_inReals"
   ]
  },
  {
   "cell_type": "code",
   "execution_count": 12,
   "metadata": {
    "collapsed": false
   },
   "outputs": [
    {
     "data": {
      "image/png": "[encoded data removed]",
      "text/latex": [
       "$\\forall_{a \\in \\mathbb{R}^+} \\left(a \\in \\mathbb{C}\\right)$"
      ],
      "text/plain": [
       "forall_{a in RealsPos} (a in Complexes)"
      ]
     },
     "execution_count": 12,
     "metadata": {},
     "output_type": "execute_result"
    }
   ],
   "source": [
    "inRealsPos_inComplexes = Forall(a, In(a,Complexes), domain = RealsPos)\n",
    "inRealsPos_inComplexes"
   ]
  },
  {
   "cell_type": "code",
   "execution_count": 13,
   "metadata": {
    "collapsed": false
   },
   "outputs": [
    {
     "data": {
      "image/png": "[encoded data removed]",
      "text/latex": [
       "$\\forall_{a \\in \\mathbb{R}^-} \\left(a \\in \\mathbb{C}\\right)$"
      ],
      "text/plain": [
       "forall_{a in RealsNeg} (a in Complexes)"
      ]
     },
     "execution_count": 13,
     "metadata": {},
     "output_type": "execute_result"
    }
   ],
   "source": [
    "inRealsNeg_inComplexes = Forall(a, In(a,Complexes), domain = RealsNeg)\n",
    "inRealsNeg_inComplexes"
   ]
  },
  {
   "cell_type": "code",
   "execution_count": 14,
   "metadata": {
    "collapsed": false
   },
   "outputs": [
    {
     "data": {
      "image/png": "[encoded data removed]",
      "text/latex": [
       "$\\forall_{a \\in \\mathbb{R}} \\left(\\left(a \\in \\mathbb{R}^+\\right) \\Leftrightarrow \\left(a > 0\\right)\\right)$"
      ],
      "text/plain": [
       "forall_{a in Reals} ((a in RealsPos) <=> (a > 0))"
      ]
     },
     "execution_count": 14,
     "metadata": {},
     "output_type": "execute_result"
    }
   ],
   "source": [
    "inRealsPos_iff_positive = Forall(a, Iff(In(a, RealsPos), GreaterThan(a, zero)), domain=Reals)\n",
    "inRealsPos_iff_positive"
   ]
  },
  {
   "cell_type": "code",
   "execution_count": 15,
   "metadata": {
    "collapsed": false
   },
   "outputs": [
    {
     "data": {
      "image/png": "[encoded data removed]",
      "text/latex": [
       "$\\forall_{a \\in \\mathbb{R}} \\left(\\left(a \\in \\mathbb{R}^-\\right) \\Leftrightarrow \\left(a < 0\\right)\\right)$"
      ],
      "text/plain": [
       "forall_{a in Reals} ((a in RealsNeg) <=> (a < 0))"
      ]
     },
     "execution_count": 15,
     "metadata": {},
     "output_type": "execute_result"
    }
   ],
   "source": [
    "inRealsNeg_iff_negative = Forall(a, Iff(In(a, RealsNeg), LessThan(a, zero)), domain=Reals)\n",
    "inRealsNeg_iff_negative"
   ]
  },
  {
   "cell_type": "code",
   "execution_count": 16,
   "metadata": {
    "collapsed": false
   },
   "outputs": [
    {
     "data": {
      "image/png": "[encoded data removed]",
      "text/latex": [
       "$\\forall_{a \\in \\mathbb{R}~|~a > 0} \\left(a \\neq 0\\right)$"
      ],
      "text/plain": [
       "forall_{a in Reals | a > 0} (a != 0)"
      ]
     },
     "execution_count": 16,
     "metadata": {},
     "output_type": "execute_result"
    }
   ],
   "source": [
    "positive_implies_notZero = Forall(a, NotEquals(a, zero), domain=Reals, conditions=[GreaterThan(a, zero)])\n",
    "positive_implies_notZero"
   ]
  },
  {
   "cell_type": "code",
   "execution_count": 17,
   "metadata": {
    "collapsed": false
   },
   "outputs": [
    {
     "data": {
      "image/png": "[encoded data removed]",
      "text/latex": [
       "$\\forall_{a \\in \\mathbb{R}~|~a < 0} \\left(a \\neq 0\\right)$"
      ],
      "text/plain": [
       "forall_{a in Reals | a < 0} (a != 0)"
      ]
     },
     "execution_count": 17,
     "metadata": {},
     "output_type": "execute_result"
    }
   ],
   "source": [
    "negative_implies_notZero = Forall(a, NotEquals(a, zero), domain=Reals, conditions=[LessThan(a, zero)])\n",
    "negative_implies_notZero"
   ]
  },
  {
   "cell_type": "code",
   "execution_count": 18,
   "metadata": {
    "collapsed": false
   },
   "outputs": [
    {
     "data": {
      "image/png": "[encoded data removed]",
      "text/latex": [
       "$\\forall_{a, b \\in \\mathbb{R}} \\left[\\forall_{x \\in \\left(a,b\\right)} \\left(x \\in \\mathbb{R}\\right)\\right]$"
      ],
      "text/plain": [
       "forall_{a, b in Reals} [forall_{x in (a,b)} (x in Reals)]"
      ]
     },
     "execution_count": 18,
     "metadata": {},
     "output_type": "execute_result"
    }
   ],
   "source": [
    "allInIntervalOO_InReals = Forall((a, b), Forall(x, In(x, Reals), domain=IntervalOO(a, b)), domain=Reals)\n",
    "allInIntervalOO_InReals "
   ]
  },
  {
   "cell_type": "code",
   "execution_count": 19,
   "metadata": {
    "collapsed": false
   },
   "outputs": [
    {
     "data": {
      "image/png": "[encoded data removed]",
      "text/latex": [
       "$\\forall_{a, b \\in \\mathbb{R}} \\left[\\forall_{x \\in \\left[a,b\\right)} \\left(x \\in \\mathbb{R}\\right)\\right]$"
      ],
      "text/plain": [
       "forall_{a, b in Reals} [forall_{x in [a,b)} (x in Reals)]"
      ]
     },
     "execution_count": 19,
     "metadata": {},
     "output_type": "execute_result"
    }
   ],
   "source": [
    "allInIntervalCO_InReals = Forall((a, b), Forall(x, In(x, Reals), domain=IntervalCO(a, b)), domain=Reals)\n",
    "allInIntervalCO_InReals "
   ]
  },
  {
   "cell_type": "code",
   "execution_count": 20,
   "metadata": {
    "collapsed": false
   },
   "outputs": [
    {
     "data": {
      "image/png": "[encoded data removed]",
      "text/latex": [
       "$\\forall_{a, b \\in \\mathbb{R}} \\left[\\forall_{x \\in \\left(a,b\\right]} \\left(x \\in \\mathbb{R}\\right)\\right]$"
      ],
      "text/plain": [
       "forall_{a, b in Reals} [forall_{x in (a,b]} (x in Reals)]"
      ]
     },
     "execution_count": 20,
     "metadata": {},
     "output_type": "execute_result"
    }
   ],
   "source": [
    "allInIntervalOC_InReals = Forall((a, b), Forall(x, In(x, Reals), domain=IntervalOC(a, b)), domain=Reals)\n",
    "allInIntervalOC_InReals "
   ]
  },
  {
   "cell_type": "code",
   "execution_count": 21,
   "metadata": {
    "collapsed": false
   },
   "outputs": [
    {
     "data": {
      "image/png": "[encoded data removed]",
      "text/latex": [
       "$\\forall_{a, b \\in \\mathbb{R}} \\left[\\forall_{x \\in \\left[a,b\\right]} \\left(x \\in \\mathbb{R}\\right)\\right]$"
      ],
      "text/plain": [
       "forall_{a, b in Reals} [forall_{x in [a,b]} (x in Reals)]"
      ]
     },
     "execution_count": 21,
     "metadata": {},
     "output_type": "execute_result"
    }
   ],
   "source": [
    "allInIntervalCC_InReals = Forall((a, b), Forall(x, In(x, Reals), domain=IntervalCC(a, b)), domain=Reals)\n",
    "allInIntervalCC_InReals "
   ]
  },
  {
   "cell_type": "code",
   "execution_count": 22,
   "metadata": {
    "collapsed": false
   },
   "outputs": [
    {
     "data": {
      "image/png": "[encoded data removed]",
      "text/latex": [
       "$\\forall_{a, b \\in \\mathbb{R}} \\left[\\forall_{x \\in \\left(a,b\\right)} \\left(a < x\\right)\\right]$"
      ],
      "text/plain": [
       "forall_{a, b in Reals} [forall_{x in (a,b)} (a < x)]"
      ]
     },
     "execution_count": 22,
     "metadata": {},
     "output_type": "execute_result"
    }
   ],
   "source": [
    "intervalOOLowerBound = Forall((a, b), Forall(x, LessThan(a, x), domain=IntervalOO(a, b)), domain=Reals)\n",
    "intervalOOLowerBound"
   ]
  },
  {
   "cell_type": "code",
   "execution_count": 23,
   "metadata": {
    "collapsed": false
   },
   "outputs": [
    {
     "data": {
      "image/png": "[encoded data removed]",
      "text/latex": [
       "$\\forall_{a, b \\in \\mathbb{R}} \\left[\\forall_{x \\in \\left(a,b\\right)} \\left(x < b\\right)\\right]$"
      ],
      "text/plain": [
       "forall_{a, b in Reals} [forall_{x in (a,b)} (x < b)]"
      ]
     },
     "execution_count": 23,
     "metadata": {},
     "output_type": "execute_result"
    }
   ],
   "source": [
    "intervalOOUpperBound = Forall((a, b), Forall(x, LessThan(x, b), domain=IntervalOO(a, b)), domain=Reals)\n",
    "intervalOOUpperBound"
   ]
  },
  {
   "cell_type": "code",
   "execution_count": 24,
   "metadata": {
    "collapsed": false
   },
   "outputs": [
    {
     "data": {
      "image/png": "[encoded data removed]",
      "text/latex": [
       "$\\forall_{a, b \\in \\mathbb{R}} \\left[\\forall_{x \\in \\left[a,b\\right)} \\left(a \\leq x\\right)\\right]$"
      ],
      "text/plain": [
       "forall_{a, b in Reals} [forall_{x in [a,b)} (a <= x)]"
      ]
     },
     "execution_count": 24,
     "metadata": {},
     "output_type": "execute_result"
    }
   ],
   "source": [
    "intervalCOLowerBound = Forall((a, b), Forall(x, LessThanEquals(a, x), domain=IntervalCO(a, b)), domain=Reals)\n",
    "intervalCOLowerBound"
   ]
  },
  {
   "cell_type": "code",
   "execution_count": 25,
   "metadata": {
    "collapsed": false
   },
   "outputs": [
    {
     "data": {
      "image/png": "[encoded data removed]",
      "text/latex": [
       "$\\forall_{a, b \\in \\mathbb{R}} \\left[\\forall_{x \\in \\left[a,b\\right)} \\left(x < b\\right)\\right]$"
      ],
      "text/plain": [
       "forall_{a, b in Reals} [forall_{x in [a,b)} (x < b)]"
      ]
     },
     "execution_count": 25,
     "metadata": {},
     "output_type": "execute_result"
    }
   ],
   "source": [
    "intervalCOUpperBound = Forall((a, b), Forall(x, LessThan(x, b), domain=IntervalCO(a, b)), domain=Reals)\n",
    "intervalCOUpperBound"
   ]
  },
  {
   "cell_type": "code",
   "execution_count": 26,
   "metadata": {
    "collapsed": false
   },
   "outputs": [
    {
     "data": {
      "image/png": "[encoded data removed]",
      "text/latex": [
       "$\\forall_{a, b \\in \\mathbb{R}} \\left[\\forall_{x \\in \\left(a,b\\right]} \\left(a < x\\right)\\right]$"
      ],
      "text/plain": [
       "forall_{a, b in Reals} [forall_{x in (a,b]} (a < x)]"
      ]
     },
     "execution_count": 26,
     "metadata": {},
     "output_type": "execute_result"
    }
   ],
   "source": [
    "intervalOCLowerBound = Forall((a, b), Forall(x, LessThan(a, x), domain=IntervalOC(a, b)), domain=Reals)\n",
    "intervalOCLowerBound"
   ]
  },
  {
   "cell_type": "code",
   "execution_count": 27,
   "metadata": {
    "collapsed": false
   },
   "outputs": [
    {
     "data": {
      "image/png": "[encoded data removed]",
      "text/latex": [
       "$\\forall_{a, b \\in \\mathbb{R}} \\left[\\forall_{x \\in \\left(a,b\\right]} \\left(x \\leq b\\right)\\right]$"
      ],
      "text/plain": [
       "forall_{a, b in Reals} [forall_{x in (a,b]} (x <= b)]"
      ]
     },
     "execution_count": 27,
     "metadata": {},
     "output_type": "execute_result"
    }
   ],
   "source": [
    "intervalOCUpperBound = Forall((a, b), Forall(x, LessThanEquals(x, b), domain=IntervalOC(a, b)), domain=Reals)\n",
    "intervalOCUpperBound"
   ]
  },
  {
   "cell_type": "code",
   "execution_count": 28,
   "metadata": {
    "collapsed": false
   },
   "outputs": [
    {
     "data": {
      "image/png": "[encoded data removed]",
      "text/latex": [
       "$\\forall_{a, b \\in \\mathbb{R}} \\left[\\forall_{x \\in \\left[a,b\\right]} \\left(a \\leq x\\right)\\right]$"
      ],
      "text/plain": [
       "forall_{a, b in Reals} [forall_{x in [a,b]} (a <= x)]"
      ]
     },
     "execution_count": 28,
     "metadata": {},
     "output_type": "execute_result"
    }
   ],
   "source": [
    "intervalCCLowerBound = Forall((a, b), Forall(x, LessThanEquals(a, x), domain=IntervalCC(a, b)), domain=Reals)\n",
    "intervalCCLowerBound"
   ]
  },
  {
   "cell_type": "code",
   "execution_count": 29,
   "metadata": {
    "collapsed": false
   },
   "outputs": [
    {
     "data": {
      "image/png": "[encoded data removed]",
      "text/latex": [
       "$\\forall_{a, b \\in \\mathbb{R}} \\left[\\forall_{x \\in \\left[a,b\\right]} \\left(x \\leq b\\right)\\right]$"
      ],
      "text/plain": [
       "forall_{a, b in Reals} [forall_{x in [a,b]} (x <= b)]"
      ]
     },
     "execution_count": 29,
     "metadata": {},
     "output_type": "execute_result"
    }
   ],
   "source": [
    "intervalCCUpperBound = Forall((a, b), Forall(x, LessThanEquals(x, b), domain=IntervalCC(a, b)), domain=Reals)\n",
    "intervalCCUpperBound"
   ]
  },
  {
   "cell_type": "code",
   "execution_count": 30,
   "metadata": {
    "collapsed": false
   },
   "outputs": [
    {
     "data": {
      "image/png": "[encoded data removed]",
      "text/latex": [
       "$\\forall_{a, b, x \\in \\mathbb{R}~|~a < x, x < b} \\left(x \\in \\left(a,b\\right)\\right)$"
      ],
      "text/plain": [
       "forall_{a, b, x in Reals | a < x, x < b} (x in (a,b))"
      ]
     },
     "execution_count": 30,
     "metadata": {},
     "output_type": "execute_result"
    }
   ],
   "source": [
    "inIntervalOO = Forall((a, b, x), In(x, IntervalOO(a, b)), domain=Reals, conditions=[LessThan(a, x), LessThan(x, b)])\n",
    "inIntervalOO"
   ]
  },
  {
   "cell_type": "code",
   "execution_count": 31,
   "metadata": {
    "collapsed": false
   },
   "outputs": [
    {
     "data": {
      "image/png": "[encoded data removed]",
      "text/latex": [
       "$\\forall_{a, b, x \\in \\mathbb{R}~|~a \\leq x, x < b} \\left(x \\in \\left[a,b\\right)\\right)$"
      ],
      "text/plain": [
       "forall_{a, b, x in Reals | a <= x, x < b} (x in [a,b))"
      ]
     },
     "execution_count": 31,
     "metadata": {},
     "output_type": "execute_result"
    }
   ],
   "source": [
    "inIntervalCO = Forall((a, b, x), In(x, IntervalCO(a, b)), domain=Reals, conditions=[LessThanEquals(a, x), LessThan(x, b)])\n",
    "inIntervalCO"
   ]
  },
  {
   "cell_type": "code",
   "execution_count": 32,
   "metadata": {
    "collapsed": false
   },
   "outputs": [
    {
     "data": {
      "image/png": "[encoded data removed]",
      "text/latex": [
       "$\\forall_{a, b, x \\in \\mathbb{R}~|~a < x, x \\leq b} \\left(x \\in \\left(a,b\\right]\\right)$"
      ],
      "text/plain": [
       "forall_{a, b, x in Reals | a < x, x <= b} (x in (a,b])"
      ]
     },
     "execution_count": 32,
     "metadata": {},
     "output_type": "execute_result"
    }
   ],
   "source": [
    "inIntervalOC = Forall((a, b, x), In(x, IntervalOC(a, b)), domain=Reals, conditions=[LessThan(a, x), LessThanEquals(x, b)])\n",
    "inIntervalOC"
   ]
  },
  {
   "cell_type": "code",
   "execution_count": 33,
   "metadata": {
    "collapsed": false
   },
   "outputs": [
    {
     "data": {
      "image/png": "[encoded data removed]",
      "text/latex": [
       "$\\forall_{a, b, x \\in \\mathbb{R}~|~a \\leq x, x \\leq b} \\left(x \\in \\left[a,b\\right]\\right)$"
      ],
      "text/plain": [
       "forall_{a, b, x in Reals | a <= x, x <= b} (x in [a,b])"
      ]
     },
     "execution_count": 33,
     "metadata": {},
     "output_type": "execute_result"
    }
   ],
   "source": [
    "inIntervalCC = Forall((a, b, x), In(x, IntervalCC(a, b)), domain=Reals, conditions=[LessThanEquals(a, x), LessThanEquals(x, b)])\n",
    "inIntervalCC"
   ]
  },
  {
   "cell_type": "code",
   "execution_count": 34,
   "metadata": {
    "collapsed": false
   },
   "outputs": [
    {
     "data": {
      "image/png": "[encoded data removed]",
      "text/latex": [
       "$\\forall_{a, b, c \\in \\mathbb{R}} \\left[\\forall_{x \\in \\left(a,b\\right)} \\left(\\left(c \\cdot x\\right) \\in \\left(\\left(c \\cdot a\\right),\\left(c \\cdot b\\right)\\right)\\right)\\right]$"
      ],
      "text/plain": [
       "forall_{a, b, c in Reals} [forall_{x in (a,b)} ((c * x) in ((c * a),(c * b)))]"
      ]
     },
     "execution_count": 34,
     "metadata": {},
     "output_type": "execute_result"
    }
   ],
   "source": [
    "rescaleInIntervalOO = Forall((a, b, c), Forall(x, In(Multiply(c, x), IntervalOO(Multiply(c, a), Multiply(c, b))), \n",
    "                                               domain=IntervalOO(a, b)), domain=Reals)\n",
    "rescaleInIntervalOO"
   ]
  },
  {
   "cell_type": "code",
   "execution_count": 35,
   "metadata": {
    "collapsed": false
   },
   "outputs": [
    {
     "data": {
      "image/png": "[encoded data removed]",
      "text/latex": [
       "$\\forall_{a, b, c \\in \\mathbb{R}} \\left[\\forall_{x \\in \\left(a,b\\right]} \\left(\\left(c \\cdot x\\right) \\in \\left(\\left(c \\cdot a\\right),\\left(c \\cdot b\\right)\\right]\\right)\\right]$"
      ],
      "text/plain": [
       "forall_{a, b, c in Reals} [forall_{x in (a,b]} ((c * x) in ((c * a),(c * b)])]"
      ]
     },
     "execution_count": 35,
     "metadata": {},
     "output_type": "execute_result"
    }
   ],
   "source": [
    "rescaleInIntervalOC = Forall((a, b, c), Forall(x, In(Multiply(c, x), IntervalOC(Multiply(c, a), Multiply(c, b))), \n",
    "                                               domain=IntervalOC(a, b)), domain=Reals)\n",
    "rescaleInIntervalOC"
   ]
  },
  {
   "cell_type": "code",
   "execution_count": 36,
   "metadata": {
    "collapsed": false
   },
   "outputs": [
    {
     "data": {
      "image/png": "[encoded data removed]",
      "text/latex": [
       "$\\forall_{a, b, c \\in \\mathbb{R}} \\left[\\forall_{x \\in \\left[a,b\\right)} \\left(\\left(c \\cdot x\\right) \\in \\left[\\left(c \\cdot a\\right),\\left(c \\cdot b\\right)\\right)\\right)\\right]$"
      ],
      "text/plain": [
       "forall_{a, b, c in Reals} [forall_{x in [a,b)} ((c * x) in [(c * a),(c * b)))]"
      ]
     },
     "execution_count": 36,
     "metadata": {},
     "output_type": "execute_result"
    }
   ],
   "source": [
    "rescaleInIntervalCO = Forall((a, b, c), Forall(x, In(Multiply(c, x), IntervalCO(Multiply(c, a), Multiply(c, b))), \n",
    "                                               domain=IntervalCO(a, b)), domain=Reals)\n",
    "rescaleInIntervalCO"
   ]
  },
  {
   "cell_type": "code",
   "execution_count": 37,
   "metadata": {
    "collapsed": false
   },
   "outputs": [
    {
     "data": {
      "image/png": "[encoded data removed]",
      "text/latex": [
       "$\\forall_{a, b, c \\in \\mathbb{R}} \\left[\\forall_{x \\in \\left[a,b\\right]} \\left(\\left(c \\cdot x\\right) \\in \\left[\\left(c \\cdot a\\right),\\left(c \\cdot b\\right)\\right]\\right)\\right]$"
      ],
      "text/plain": [
       "forall_{a, b, c in Reals} [forall_{x in [a,b]} ((c * x) in [(c * a),(c * b)])]"
      ]
     },
     "execution_count": 37,
     "metadata": {},
     "output_type": "execute_result"
    }
   ],
   "source": [
    "rescaleInIntervalCC = Forall((a, b, c), Forall(x, In(Multiply(c, x), IntervalCC(Multiply(c, a), Multiply(c, b))), \n",
    "                                               domain=IntervalCC(a, b)), domain=Reals)\n",
    "rescaleInIntervalCC"
   ]
  },
  {
   "cell_type": "code",
   "execution_count": 38,
   "metadata": {
    "collapsed": false
   },
   "outputs": [
    {
     "data": {
      "image/png": "[encoded data removed]",
      "text/latex": [
       "$\\forall_{n \\in \\mathbb{Z}} \\left[\\forall_{x \\in \\left(n,\\left(n + 1\\right)\\right)} \\left(x \\notin \\mathbb{Z}\\right)\\right]$"
      ],
      "text/plain": [
       "forall_{n in Integers} [forall_{x in (n,(n + 1))} (x not in Integers)]"
      ]
     },
     "execution_count": 38,
     "metadata": {},
     "output_type": "execute_result"
    }
   ],
   "source": [
    "betweenSuccessiveInts_notInt = Forall(n, Forall(x, NotIn(x, Integers), domain=IntervalOO(n, Add(n, one))), domain=Integers)\n",
    "betweenSuccessiveInts_notInt"
   ]
  },
  {
   "cell_type": "code",
   "execution_count": 39,
   "metadata": {
    "collapsed": false
   },
   "outputs": [
    {
     "data": {
      "image/png": "[encoded data removed]",
      "text/latex": [
       "$\\forall_{..x.. \\in \\mathbb{R}} \\left(\\left(~.. + x + ..~\\right) \\in \\mathbb{R}\\right)$"
      ],
      "text/plain": [
       "forall_{..x.. in Reals} (( .. + x + .. ) in Reals)"
      ]
     },
     "execution_count": 39,
     "metadata": {},
     "output_type": "execute_result"
    }
   ],
   "source": [
    "addClosure = Forall([xEtc], In(Add(xEtc),Reals), domain=Reals)\n",
    "addClosure"
   ]
  },
  {
   "cell_type": "code",
   "execution_count": 40,
   "metadata": {
    "collapsed": false
   },
   "outputs": [
    {
     "data": {
      "image/png": "[encoded data removed]",
      "text/latex": [
       "$\\forall_{a, b \\in \\mathbb{R}} \\left(\\left(a - b\\right) \\in \\mathbb{R}\\right)$"
      ],
      "text/plain": [
       "forall_{a, b in Reals} ((a - b) in Reals)"
      ]
     },
     "execution_count": 40,
     "metadata": {},
     "output_type": "execute_result"
    }
   ],
   "source": [
    "subtractClosure = Forall([a, b], In(Subtract(a, b), Reals), domain=Reals)\n",
    "subtractClosure"
   ]
  },
  {
   "cell_type": "code",
   "execution_count": null,
   "metadata": {
    "collapsed": false
   },
   "outputs": [
    {
     "data": {
      "image/png": "[encoded data removed]",
      "text/latex": [
       "$\\forall_{a \\in \\mathbb{R}} \\left(\\left(-a\\right) \\in \\mathbb{R}\\right)$"
      ],
      "text/plain": [
       "forall_{a in Reals} ((-a) in Reals)"
      ]
     },
     "execution_count": 41,
     "metadata": {},
     "output_type": "execute_result"
    }
   ],
   "source": [
    "negClosure = Forall(a, In(Neg(a), Reals), domain=Reals)\n",
    "negClosure"
   ]
  },
  {
   "cell_type": "code",
   "execution_count": null,
   "metadata": {
    "collapsed": false
   },
   "outputs": [
    {
     "data": {
      "image/png": "[encoded data removed]",
      "text/latex": [
       "$\\forall_{a \\in \\mathbb{R}~|~a > 0} \\left(\\left(-a\\right) < 0\\right)$"
      ],
      "text/plain": [
       "forall_{a in Reals | a > 0} ((-a) < 0)"
      ]
     },
     "execution_count": 42,
     "metadata": {},
     "output_type": "execute_result"
    }
   ],
   "source": [
    "negatedPositiveIsNegative = Forall(a, LessThan(Neg(a), zero), domain=Reals, conditions=[GreaterThan(a, zero)])\n",
    "negatedPositiveIsNegative"
   ]
  },
  {
   "cell_type": "code",
   "execution_count": null,
   "metadata": {
    "collapsed": false
   },
   "outputs": [],
   "source": [
    "negatedNegativeIsPositive = Forall(a, GreaterThan(Neg(a), zero), domain=Reals, conditions=[LessThan(a, zero)])\n",
    "negatedNegativeIsPositive"
   ]
  },
  {
   "cell_type": "code",
   "execution_count": null,
   "metadata": {
    "collapsed": false
   },
   "outputs": [],
   "source": [
    "multClosure = Forall([xEtc], In(Multiply(xEtc),Reals), domain=Reals)\n",
    "multClosure"
   ]
  },
  {
   "cell_type": "code",
   "execution_count": null,
   "metadata": {
    "collapsed": false
   },
   "outputs": [],
   "source": [
    "multPosClosure = Forall([xEtc], In(Multiply(xEtc),RealsPos), domain=RealsPos)\n",
    "multPosClosure"
   ]
  },
  {
   "cell_type": "code",
   "execution_count": null,
   "metadata": {
    "collapsed": false
   },
   "outputs": [],
   "source": [
    "divideClosure = Forall([a, b], In(Divide(a, b), Reals), domain=Reals, conditions=[NotEquals(b, zero)])\n",
    "divideClosure       "
   ]
  },
  {
   "cell_type": "code",
   "execution_count": null,
   "metadata": {
    "collapsed": false
   },
   "outputs": [],
   "source": [
    "dividePosClosure = Forall([a, b], In(Divide(a, b), RealsPos), domain=RealsPos, conditions=[NotEquals(b, zero)])\n",
    "dividePosClosure"
   ]
  },
  {
   "cell_type": "code",
   "execution_count": null,
   "metadata": {
    "collapsed": false
   },
   "outputs": [],
   "source": [
    "fractionClosure = Forall([a, b], In(Fraction(a, b), Reals), domain=Reals, conditions=[NotEquals(b, zero)])\n",
    "fractionClosure   "
   ]
  },
  {
   "cell_type": "code",
   "execution_count": null,
   "metadata": {
    "collapsed": false
   },
   "outputs": [],
   "source": [
    "fractionPosClosure = Forall([a, b], In(Fraction(a, b), RealsPos), domain=RealsPos, conditions=[NotEquals(b, zero)])\n",
    "fractionPosClosure"
   ]
  },
  {
   "cell_type": "code",
   "execution_count": null,
   "metadata": {
    "collapsed": false
   },
   "outputs": [],
   "source": [
    "powClosure = Forall([a, b], In(Exponentiate(a, b), Reals), domain=Reals,\n",
    "                       conditions=[GreaterThanEquals(a, zero), GreaterThan(b, zero)])\n",
    "powClosure"
   ]
  },
  {
   "cell_type": "code",
   "execution_count": null,
   "metadata": {
    "collapsed": false
   },
   "outputs": [],
   "source": [
    "powPosClosure = Forall([a, b], In(Exponentiate(a, b), RealsPos), domain=Reals,\n",
    "                       conditions=[GreaterThan(a, zero)])\n",
    "powPosClosure"
   ]
  },
  {
   "cell_type": "markdown",
   "metadata": {},
   "source": [
    "Should generalize to even power closure, but need to define and implement evens set to do this."
   ]
  },
  {
   "cell_type": "code",
   "execution_count": null,
   "metadata": {
    "collapsed": false
   },
   "outputs": [],
   "source": [
    "sqrdClosure = Forall(a, In(Exponentiate(a, two), RealsPos), \n",
    "                     domain=Reals, conditions=[NotEquals(a, zero)])\n",
    "sqrdClosure"
   ]
  },
  {
   "cell_type": "code",
   "execution_count": null,
   "metadata": {
    "collapsed": false
   },
   "outputs": [],
   "source": [
    "minClosure = Forall((a, b), In(Min(a, b), Reals), domain=Reals)\n",
    "minClosure"
   ]
  },
  {
   "cell_type": "code",
   "execution_count": null,
   "metadata": {
    "collapsed": false
   },
   "outputs": [],
   "source": [
    "minPosClosure = Forall((a, b), In(Min(a, b), RealsPos), domain=RealsPos)\n",
    "minPosClosure"
   ]
  },
  {
   "cell_type": "code",
   "execution_count": null,
   "metadata": {
    "collapsed": false
   },
   "outputs": [],
   "source": [
    "maxClosure = Forall((a, b), In(Max(a, b), Reals), domain=Reals)\n",
    "maxClosure"
   ]
  },
  {
   "cell_type": "code",
   "execution_count": null,
   "metadata": {
    "collapsed": false
   },
   "outputs": [],
   "source": [
    "maxPosClosure = Forall((a, b), In(Max(a, b), RealsPos), domain=RealsPos)\n",
    "maxPosClosure"
   ]
  },
  {
   "cell_type": "code",
   "execution_count": null,
   "metadata": {
    "collapsed": false
   },
   "outputs": [],
   "source": [
    "roundClosure = Forall(a, In(Round(a), Integers), domain=Reals)\n",
    "roundClosure"
   ]
  },
  {
   "cell_type": "code",
   "execution_count": null,
   "metadata": {
    "collapsed": false
   },
   "outputs": [],
   "source": [
    "roundNatClosure = Forall(a, In(Round(a), Naturals), domain=RealsPos)\n",
    "roundNatClosure"
   ]
  },
  {
   "cell_type": "code",
   "execution_count": null,
   "metadata": {
    "collapsed": false
   },
   "outputs": [],
   "source": [
    "ceilClosure = Forall(a, In(Ceil(a), Integers), domain=Reals)\n",
    "ceilClosure"
   ]
  },
  {
   "cell_type": "code",
   "execution_count": null,
   "metadata": {
    "collapsed": false
   },
   "outputs": [],
   "source": [
    "ceilNatPosClosure = Forall(a, In(Ceil(a), NaturalsPos), domain=RealsPos)\n",
    "ceilNatPosClosure"
   ]
  },
  {
   "cell_type": "code",
   "execution_count": null,
   "metadata": {
    "collapsed": false
   },
   "outputs": [],
   "source": [
    "floorClosure = Forall(a, In(Floor(a), Integers), domain=Reals)\n",
    "floorClosure"
   ]
  },
  {
   "cell_type": "code",
   "execution_count": null,
   "metadata": {
    "collapsed": false
   },
   "outputs": [],
   "source": [
    "floorNatClosure = Forall(a, In(Floor(a), Naturals), domain=RealsPos)\n",
    "floorNatClosure"
   ]
  },
  {
   "cell_type": "code",
   "execution_count": null,
   "metadata": {
    "collapsed": false
   },
   "outputs": [],
   "source": [
    "modClosure = Forall((a, b), In(Mod(a, b), Reals), domain=Reals)\n",
    "modClosure"
   ]
  },
  {
   "cell_type": "code",
   "execution_count": null,
   "metadata": {
    "collapsed": false
   },
   "outputs": [],
   "source": [
    "modAbsClosure = Forall((a, b), In(ModAbs(a, b), Reals), domain=Reals)\n",
    "modAbsClosure"
   ]
  },
  {
   "cell_type": "code",
   "execution_count": null,
   "metadata": {
    "collapsed": false
   },
   "outputs": [],
   "source": [
    "summationClosure = Forall([P, S], Implies(Forall(xEtc, In(PxEtc, Reals), domain=S), \n",
    "                                          In(Summation(xEtc, PxEtc, domain=S), Reals)))\n",
    "summationClosure"
   ]
  },
  {
   "cell_type": "code",
   "execution_count": null,
   "metadata": {
    "collapsed": false
   },
   "outputs": [],
   "source": [
    "integrationClosure = Forall([P, S], Implies(Forall(xEtc, In(PxEtc, Reals), domain=S), \n",
    "                                            In(Integrate(xEtc, PxEtc, domain=S), Reals)))\n",
    "integrationClosure"
   ]
  },
  {
   "cell_type": "code",
   "execution_count": null,
   "metadata": {
    "collapsed": false
   },
   "outputs": [],
   "source": [
    "# One issue with this is that it only applies when |aEtc|+|bEtc| > 0.  This isn't an issue\n",
    "# for applying the theorem because there will be an error if b is left alone with Add, but\n",
    "# it will be an issue when deriving this.  Probably need to include |aEtc|+|bEtc| > 0 as a condition.\n",
    "strictlyIncreasingAdditions = Forall((aEtc, cEtc), Forall(b, GreaterThan(Add(aEtc, b, cEtc), b),\n",
    "                                                          domain=Reals),\n",
    "                                     domain=RealsPos)\n",
    "strictlyIncreasingAdditions"
   ]
  },
  {
   "cell_type": "code",
   "execution_count": null,
   "metadata": {
    "collapsed": false
   },
   "outputs": [],
   "source": [
    "# One issue with this is that it only applies when |aEtc|+|bEtc| > 0.  This isn't an issue\n",
    "# for applying the theorem because there will be an error if b is left alone with Add, but\n",
    "# it will be an issue when deriving this.  Probably need to include |aEtc|+|bEtc| > 0 as a condition.\n",
    "strictlyDecreasingAdditions = Forall((aEtc, cEtc), Forall(b, LessThan(Add(aEtc, b, cEtc), b),\n",
    "                                                          domain=Reals),\n",
    "                                     domain=RealsNeg)\n",
    "strictlyDecreasingAdditions"
   ]
  },
  {
   "cell_type": "code",
   "execution_count": null,
   "metadata": {
    "collapsed": false
   },
   "outputs": [],
   "source": [
    "eInRealsPos = In(e,RealsPos)\n",
    "eInRealsPos"
   ]
  },
  {
   "cell_type": "code",
   "execution_count": null,
   "metadata": {
    "collapsed": false
   },
   "outputs": [],
   "source": [
    "eNotZero = NotEquals(e,zero)\n",
    "eNotZero"
   ]
  },
  {
   "cell_type": "code",
   "execution_count": null,
   "metadata": {
    "collapsed": false
   },
   "outputs": [],
   "source": [
    "piInRealsPos = In(pi,RealsPos)\n",
    "piInRealsPos"
   ]
  },
  {
   "cell_type": "code",
   "execution_count": null,
   "metadata": {
    "collapsed": false
   },
   "outputs": [],
   "source": [
    "piNotZero = NotEquals(pi, zero)\n",
    "piNotZero"
   ]
  },
  {
   "cell_type": "code",
   "execution_count": null,
   "metadata": {
    "collapsed": false
   },
   "outputs": [],
   "source": [
    "modAbsScaled = Forall((a, b, c), Equals(Multiply(a, ModAbs(b, c)), ModAbs(Multiply(a, b), Multiply(a, c))), domain=Reals)\n",
    "modAbsScaled"
   ]
  },
  {
   "cell_type": "code",
   "execution_count": null,
   "metadata": {
    "collapsed": false
   },
   "outputs": [],
   "source": [
    "divIneqThm1 = Forall([a,b,c],\n",
    "                    LessThanEquals(Fraction(a,b),Fraction(c,b)),\n",
    "                    domain=Reals,\n",
    "                    conditions=(LessThanEquals(a,c),GreaterThan(b,zero))\n",
    "                    )\n",
    "divIneqThm1"
   ]
  },
  {
   "cell_type": "code",
   "execution_count": null,
   "metadata": {
    "collapsed": false
   },
   "outputs": [],
   "source": [
    "divIneqThm1cor = Forall([a,b,c],\n",
    "                    LessThanEquals(Multiply(b,a),Multiply(b,c)),\n",
    "                    domain=Reals,\n",
    "                    conditions=(LessThanEquals(a,c),GreaterThan(b,zero))\n",
    "                    )\n",
    "divIneqThm1cor"
   ]
  },
  {
   "cell_type": "code",
   "execution_count": null,
   "metadata": {
    "collapsed": false
   },
   "outputs": [],
   "source": [
    "divIneqThm2 = Forall([a,b,c],\n",
    "                    LessThanEquals(Fraction(a,b),Fraction(a,c)),\n",
    "                    domain=Reals,\n",
    "                    conditions=(\n",
    "                                GreaterThanEquals(b,c),\n",
    "                                GreaterThanEquals(a,zero),\n",
    "                                GreaterThan(b,zero),\n",
    "                                GreaterThan(c,zero)\n",
    "                                )\n",
    "                    )\n",
    "divIneqThm2"
   ]
  },
  {
   "cell_type": "code",
   "execution_count": null,
   "metadata": {
    "collapsed": false
   },
   "outputs": [],
   "source": [
    "squarePosIneq = Forall([a,b],\n",
    "                        LessThanEquals(Exponentiate(Abs(a),two),Exponentiate(b,two)),\n",
    "                        domain = Reals,\n",
    "                        conditions = (LessThanEquals(Abs(a),b),))\n",
    "squarePosIneq"
   ]
  },
  {
   "cell_type": "code",
   "execution_count": null,
   "metadata": {
    "collapsed": false
   },
   "outputs": [],
   "source": [
    "squarePosEq = Forall(a,\n",
    "                     Equals(Exponentiate(Abs(a),two),Exponentiate(a,two)),\n",
    "                     domain = Reals)\n",
    "squarePosEq"
   ]
  },
  {
   "cell_type": "code",
   "execution_count": null,
   "metadata": {
    "collapsed": false
   },
   "outputs": [],
   "source": [
    "absPos = Forall(a,\n",
    "               Equals(Abs(a),a),\n",
    "               domain = RealsPos)\n",
    "#               conditions = (GreaterThanEquals(a,zero)))\n",
    "absPos"
   ]
  },
  {
   "cell_type": "code",
   "execution_count": null,
   "metadata": {
    "collapsed": false
   },
   "outputs": [],
   "source": [
    "absTwoPi = In(Multiply(two,pi),RealsPos)\n",
    "absTwoPi"
   ]
  },
  {
   "cell_type": "code",
   "execution_count": null,
   "metadata": {
    "collapsed": false
   },
   "outputs": [],
   "source": [
    "lessThanEqualsAddRight = Forall([a, b, c], LessThanEquals(Add(a, c), Add(b, c)), domain=Reals, conditions=[LessThanEquals(a, b)])\n",
    "lessThanEqualsAddRight"
   ]
  },
  {
   "cell_type": "code",
   "execution_count": null,
   "metadata": {
    "collapsed": false
   },
   "outputs": [],
   "source": [
    "lessThanEqualsAddLeft = Forall([a, b, c], LessThanEquals(Add(c, a), Add(c, b)), domain=Reals, conditions=[LessThanEquals(a, b)])\n",
    "lessThanEqualsAddLeft"
   ]
  },
  {
   "cell_type": "code",
   "execution_count": null,
   "metadata": {
    "collapsed": false
   },
   "outputs": [],
   "source": [
    "lessThanEqualsSubtract = Forall([a, b, c], LessThanEquals(Subtract(a, c), Subtract(b, c)), domain=Reals, conditions=[LessThanEquals(a, b)])\n",
    "lessThanEqualsSubtract"
   ]
  },
  {
   "cell_type": "code",
   "execution_count": null,
   "metadata": {
    "collapsed": false
   },
   "outputs": [],
   "source": [
    "lessThanAddRight = Forall([a, b, c], LessThan(Add(a, c), Add(b, c)), domain=Reals, conditions=[LessThan(a, b)])\n",
    "lessThanAddRight"
   ]
  },
  {
   "cell_type": "code",
   "execution_count": null,
   "metadata": {
    "collapsed": false
   },
   "outputs": [],
   "source": [
    "lessThanAddLeft = Forall([a, b, c], LessThan(Add(c, a), Add(c, b)), domain=Reals, conditions=[LessThan(a, b)])\n",
    "lessThanAddLeft"
   ]
  },
  {
   "cell_type": "code",
   "execution_count": null,
   "metadata": {
    "collapsed": false
   },
   "outputs": [],
   "source": [
    "lessThanSubtract = Forall([a, b, c], LessThan(Subtract(a, c), Subtract(b, c)), domain=Reals, conditions=[LessThan(a, b)])\n",
    "lessThanSubtract"
   ]
  },
  {
   "cell_type": "code",
   "execution_count": null,
   "metadata": {
    "collapsed": false
   },
   "outputs": [],
   "source": [
    "greaterThanEqualsAddRight = Forall([a, b, c], GreaterThanEquals(Add(a, c), Add(b, c)), domain=Reals, conditions=[GreaterThanEquals(a, b)])\n",
    "greaterThanEqualsAddRight"
   ]
  },
  {
   "cell_type": "code",
   "execution_count": null,
   "metadata": {
    "collapsed": false
   },
   "outputs": [],
   "source": [
    "greaterThanEqualsAddLeft = Forall([a, b, c], GreaterThanEquals(Add(c, a), Add(c, b)), domain=Reals, conditions=[GreaterThanEquals(a, b)])\n",
    "greaterThanEqualsAddLeft"
   ]
  },
  {
   "cell_type": "code",
   "execution_count": null,
   "metadata": {
    "collapsed": false
   },
   "outputs": [],
   "source": [
    "greaterThanEqualsSubtract = Forall([a, b, c], GreaterThanEquals(Subtract(a, c), Subtract(b, c)), domain=Reals, conditions=[GreaterThanEquals(a, b)])\n",
    "greaterThanEqualsSubtract"
   ]
  },
  {
   "cell_type": "code",
   "execution_count": null,
   "metadata": {
    "collapsed": false
   },
   "outputs": [],
   "source": [
    "greaterThanAddRight = Forall([a, b, c], GreaterThan(Add(a, c), Add(b, c)), domain=Reals, conditions=[GreaterThan(a, b)])\n",
    "greaterThanAddRight"
   ]
  },
  {
   "cell_type": "code",
   "execution_count": null,
   "metadata": {
    "collapsed": false
   },
   "outputs": [],
   "source": [
    "greaterThanAddLeft = Forall([a, b, c], GreaterThan(Add(c, a), Add(c, b)), domain=Reals, conditions=[GreaterThan(a, b)])\n",
    "greaterThanAddLeft"
   ]
  },
  {
   "cell_type": "code",
   "execution_count": null,
   "metadata": {
    "collapsed": false
   },
   "outputs": [],
   "source": [
    "greaterThanSubtract = Forall([a, b, c], GreaterThan(Subtract(a, c), Subtract(b, c)), domain=Reals, conditions=[GreaterThan(a, b)])\n",
    "greaterThanSubtract"
   ]
  },
  {
   "cell_type": "code",
   "execution_count": null,
   "metadata": {
    "collapsed": false
   },
   "outputs": [],
   "source": [
    "negatedLessThan = Forall([a, b], GreaterThan(Neg(a), Neg(b)), domain=Reals, conditions=[LessThan(a, b)])\n",
    "negatedLessThan"
   ]
  },
  {
   "cell_type": "code",
   "execution_count": null,
   "metadata": {
    "collapsed": false
   },
   "outputs": [],
   "source": [
    "negatedLessThanEquals = Forall([a, b], GreaterThanEquals(Neg(a), Neg(b)), domain=Reals, conditions=[LessThanEquals(a, b)])\n",
    "negatedLessThanEquals"
   ]
  },
  {
   "cell_type": "code",
   "execution_count": null,
   "metadata": {
    "collapsed": false
   },
   "outputs": [],
   "source": [
    "negatedGreaterThan = Forall([a, b], LessThan(Neg(a), Neg(b)), domain=Reals, conditions=[GreaterThan(a, b)])\n",
    "negatedGreaterThan"
   ]
  },
  {
   "cell_type": "code",
   "execution_count": null,
   "metadata": {
    "collapsed": false
   },
   "outputs": [],
   "source": [
    "negatedGreaterThanEquals = Forall([a, b], LessThanEquals(Neg(a), Neg(b)), domain=Reals, conditions=[GreaterThanEquals(a, b)])\n",
    "negatedGreaterThanEquals"
   ]
  },
  {
   "cell_type": "code",
   "execution_count": null,
   "metadata": {
    "collapsed": false
   },
   "outputs": [],
   "source": [
    "ineqThm5 = Forall([a,b,c],\n",
    "                  GreaterThanEquals(Multiply(c,a),Multiply(c,b)),\n",
    "                  domain = Reals,\n",
    "                  conditions = (GreaterThan(c,zero),GreaterThanEquals(a,b)))\n",
    "ineqThm5"
   ]
  },
  {
   "cell_type": "code",
   "execution_count": null,
   "metadata": {
    "collapsed": false
   },
   "outputs": [],
   "source": [
    "ineqThm6 = Forall([a,b],\n",
    "                  GreaterThanEquals(Add(a,b),a),\n",
    "                  domain = Reals,\n",
    "                  conditions = GreaterThanEquals(b,zero))\n",
    "ineqThm6"
   ]
  },
  {
   "cell_type": "code",
   "execution_count": null,
   "metadata": {
    "collapsed": false
   },
   "outputs": [],
   "source": [
    "ineqThm6a = Forall([a,b],\n",
    "                  LessThanEquals(Add(a,b),a),\n",
    "                  domain = Reals,\n",
    "                  conditions = LessThanEquals(b,zero))\n",
    "ineqThm6a"
   ]
  },
  {
   "cell_type": "code",
   "execution_count": null,
   "metadata": {
    "collapsed": false
   },
   "outputs": [],
   "source": [
    "ineqThm7 = Forall([x,l],\n",
    "                  LessThanEquals(\n",
    "                                Fraction(one,Exponentiate(Subtract(l,x),two)),\n",
    "                                Fraction(one,Exponentiate(l,two))\n",
    "                                ),\n",
    "                  domain = Reals,\n",
    "                  conditions = (LessThanEquals(l,zero),\n",
    "                                LessThanEquals(zero,x),\n",
    "                                LessThanEquals(x,one)))\n",
    "ineqThm7"
   ]
  },
  {
   "cell_type": "code",
   "execution_count": null,
   "metadata": {
    "collapsed": false
   },
   "outputs": [],
   "source": [
    "ineqThm7a = Forall([x],\n",
    "                   Forall([a],\n",
    "                       Forall([l],\n",
    "                          LessThanEquals(\n",
    "                                        Multiply(a,Fraction(one,Exponentiate(Subtract(l,x),two))),\n",
    "                                        Multiply(a,Fraction(one,Exponentiate(l,two)))\n",
    "                                        ),\n",
    "                          domain=Integers,\n",
    "                          conditions = LessThanEquals(l,zero)),\n",
    "                        domain=Reals,\n",
    "                        conditions=GreaterThanEquals(a,zero)),                \n",
    "                   domain = Reals,\n",
    "                   conditions = (LessThanEquals(zero,x),\n",
    "                                 LessThanEquals(x,one)))\n",
    "ineqThm7a"
   ]
  },
  {
   "cell_type": "code",
   "execution_count": null,
   "metadata": {
    "collapsed": false
   },
   "outputs": [],
   "source": [
    "ineqThm8 = Forall([x,l],\n",
    "                  LessThanEquals(\n",
    "                                Fraction(one,Exponentiate(Subtract(l,x),two)),\n",
    "                                Fraction(one,Exponentiate(Subtract(l,one),two)),\n",
    "                                ),\n",
    "                  domain = Reals,\n",
    "                  conditions = (GreaterThan(l,zero),\n",
    "                                LessThanEquals(zero,x),\n",
    "                                LessThanEquals(x,one)))\n",
    "ineqThm8"
   ]
  },
  {
   "cell_type": "code",
   "execution_count": null,
   "metadata": {
    "collapsed": false
   },
   "outputs": [],
   "source": [
    "ineqThm8a = Forall([x],\n",
    "                Forall([a],\n",
    "                   Forall([l],\n",
    "                              LessThanEquals(\n",
    "                                            Multiply(a,Fraction(one,Exponentiate(Subtract(l,x),two))),\n",
    "                                            Multiply(a,Fraction(one,Exponentiate(Subtract(l,one),two))),\n",
    "                                            ),\n",
    "                              domain = Integers,\n",
    "                              conditions = GreaterThan(l,zero)),\n",
    "                        domain=Reals,\n",
    "                        conditions=GreaterThanEquals(a,zero)),\n",
    "                   domain = Reals, \n",
    "                   conditions = (LessThanEquals(zero,x),\n",
    "                                LessThanEquals(x,one)))\n",
    "ineqThm8a"
   ]
  },
  {
   "cell_type": "code",
   "execution_count": null,
   "metadata": {
    "collapsed": false
   },
   "outputs": [],
   "source": [
    "ineqThm9 = Forall(theta,LessThanEquals(Abs(Subtract(one,Exponentiate(e,Multiply(i,theta)))),two),domain = Reals)\n",
    "ineqThm9"
   ]
  },
  {
   "cell_type": "code",
   "execution_count": null,
   "metadata": {
    "collapsed": false
   },
   "outputs": [],
   "source": [
    "ineqThm10 =  Forall([w,x,y,z],LessThanEquals(w,Fraction(x,z)),\n",
    "                    domain = Reals,\n",
    "                    conditions = (LessThanEquals(w,Fraction(x,y)),\n",
    "                                  GreaterThanEquals(y,z),\n",
    "                                  GreaterThan(w,zero),\n",
    "                                  GreaterThan(x,zero),\n",
    "                                  GreaterThan(y,zero),\n",
    "                                  GreaterThan(z,zero)))\n",
    "ineqThm10"
   ]
  },
  {
   "cell_type": "code",
   "execution_count": null,
   "metadata": {
    "collapsed": false
   },
   "outputs": [],
   "source": [
    "ineqThm10a =  Forall([w,x,y,z],LessThanEquals(w,Fraction(x,z)),\n",
    "                    domain = Reals,\n",
    "                    conditions = (LessThanEquals(w,Fraction(x,y)),\n",
    "                                  GreaterThanEquals(y,z),\n",
    "                                  GreaterThanEquals(w,zero),\n",
    "                                  GreaterThan(x,zero),\n",
    "                                  GreaterThan(y,zero),\n",
    "                                  GreaterThan(z,zero)))\n",
    "ineqThm10a"
   ]
  },
  {
   "cell_type": "code",
   "execution_count": null,
   "metadata": {
    "collapsed": false
   },
   "outputs": [],
   "source": [
    "boundedSum = Forall((S, f, g), Implies(Forall(x, LessThanEquals(fx, gx), domain=S), \n",
    "                                     LessThanEquals(Summation(x, fx, domain=S),\n",
    "                                               Summation(x, gx, domain=S))))\n",
    "boundedSum"
   ]
  },
  {
   "cell_type": "code",
   "execution_count": null,
   "metadata": {
    "collapsed": false
   },
   "outputs": [],
   "source": [
    "sumFactor_temp = Forall([a,b,c], Equals(Add(Multiply(a,b), Multiply(a,c)), Multiply(a, Add(b,c))), domain=Reals)\n",
    "sumFactor_temp"
   ]
  },
  {
   "cell_type": "code",
   "execution_count": null,
   "metadata": {
    "collapsed": false
   },
   "outputs": [],
   "source": [
    "simplifyQuarterTimesTwo = Equals(Multiply(Fraction(one,four), two), Fraction(one,two))\n",
    "simplifyQuarterTimesTwo"
   ]
  },
  {
   "cell_type": "code",
   "execution_count": null,
   "metadata": {
    "collapsed": false
   },
   "outputs": [],
   "source": [
    "boundedInvSqrdIntegral = Forall([a, b], LessThanEquals(Integrate(l, Fraction(one,Exponentiate(l,two)), \n",
    "                                                                 IntervalCC(a, b)),\n",
    "                                                       Fraction(one, a)),\n",
    "                                domain=RealsPos, conditions=[LessThanEquals(a, b)])\n",
    "boundedInvSqrdIntegral   "
   ]
  },
  {
   "cell_type": "code",
   "execution_count": null,
   "metadata": {
    "collapsed": false
   },
   "outputs": [],
   "source": [
    "inverseSqrdIsEvenFunc = In(Lambda(l, Fraction(one, Exponentiate(l, two))), EvenFuncs)\n",
    "inverseSqrdIsEvenFunc"
   ]
  },
  {
   "cell_type": "code",
   "execution_count": null,
   "metadata": {
    "collapsed": false
   },
   "outputs": [],
   "source": [
    "inverseSqrdIsMonDecFunc = In(Lambda(l, Fraction(one, Exponentiate(l, two))), MonDecFuncs)\n",
    "inverseSqrdIsMonDecFunc"
   ]
  },
  {
   "cell_type": "code",
   "execution_count": null,
   "metadata": {
    "collapsed": false
   },
   "outputs": [],
   "source": [
    "%end_theorems"
   ]
  },
  {
   "cell_type": "code",
   "execution_count": null,
   "metadata": {
    "collapsed": true
   },
   "outputs": [],
   "source": []
  },
  {
   "cell_type": "code",
   "execution_count": null,
   "metadata": {
    "collapsed": true
   },
   "outputs": [],
   "source": []
  }
 ],
 "metadata": {
  "kernelspec": {
   "display_name": "Python 2",
   "language": "python",
   "name": "python2"
  },
  "language_info": {
   "codemirror_mode": {
    "name": "ipython",
    "version": 2
   },
   "file_extension": ".py",
   "mimetype": "text/x-python",
   "name": "python",
   "nbconvert_exporter": "python",
   "pygments_lexer": "ipython2",
   "version": "2.7.10"
  }
 },
 "nbformat": 4,
 "nbformat_minor": 0
}
