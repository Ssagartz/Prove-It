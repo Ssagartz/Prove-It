{
 "cells": [
  {
   "cell_type": "code",
   "execution_count": 1,
   "metadata": {
    "collapsed": false
   },
   "outputs": [],
   "source": [
    "import proveit.specialStatementMagic # for %begin_axioms and %end_axioms\n",
    "from proveit.basiclogic.set.setOps import In\n",
    "from proveit.basiclogic.boolean.boolOps import And\n",
    "from proveit.number.common import *\n",
    "from proveit.basiclogic import Forall, Exists, Equals\n",
    "from proveit.number.arithmeticOps import LessThan, LessThanEquals, GreaterThan, GreaterThanEquals, Fraction\n",
    "from proveit.number.arithmeticOps import Add, Subtract, Multiply, Abs, Exponentiate, Neg\n"
   ]
  },
  {
   "cell_type": "code",
   "execution_count": 2,
   "metadata": {
    "collapsed": false
   },
   "outputs": [],
   "source": [
    "%begin_theorems"
   ]
  },
  {
   "cell_type": "code",
   "execution_count": 3,
   "metadata": {
    "collapsed": false
   },
   "outputs": [
    {
     "data": {
      "image/png": "[encoded data removed]",
      "text/plain": [
       "forall_{a in Reals} (a in Complexes)"
      ]
     },
     "execution_count": 3,
     "metadata": {},
     "output_type": "execute_result"
    }
   ],
   "source": [
    "inComplexes = Forall(a,\n",
    "                    In(a,Complexes),\n",
    "                    domain = Reals)\n",
    "inComplexes"
   ]
  },
  {
   "cell_type": "code",
   "execution_count": 4,
   "metadata": {
    "collapsed": false
   },
   "outputs": [
    {
     "data": {
      "image/png": "[encoded data removed]",
      "text/plain": [
       "forall_{a, b, c in Reals | a <= c, b > 0} (a / b <= c / b)"
      ]
     },
     "execution_count": 4,
     "metadata": {},
     "output_type": "execute_result"
    }
   ],
   "source": [
    "divIneqThm1 = Forall([a,b,c],\n",
    "                    LessThanEquals(Fraction(a,b),Fraction(c,b)),\n",
    "                    domain=Reals,\n",
    "                    conditions=(LessThanEquals(a,c),GreaterThan(b,zero))\n",
    "                    )\n",
    "divIneqThm1"
   ]
  },
  {
   "cell_type": "code",
   "execution_count": 5,
   "metadata": {
    "collapsed": false
   },
   "outputs": [
    {
     "data": {
      "image/png": "[encoded data removed]",
      "text/plain": [
       "forall_{a, b, c in Reals | a <= c, b > 0} ((b * a) <= (b * c))"
      ]
     },
     "execution_count": 5,
     "metadata": {},
     "output_type": "execute_result"
    }
   ],
   "source": [
    "divIneqThm1cor = Forall([a,b,c],\n",
    "                    LessThanEquals(Multiply(b,a),Multiply(b,c)),\n",
    "                    domain=Reals,\n",
    "                    conditions=(LessThanEquals(a,c),GreaterThan(b,zero))\n",
    "                    )\n",
    "divIneqThm1cor"
   ]
  },
  {
   "cell_type": "code",
   "execution_count": 6,
   "metadata": {
    "collapsed": false
   },
   "outputs": [
    {
     "data": {
      "image/png": "[encoded data removed]",
      "text/plain": [
       "forall_{a, b, c in Reals | b >= c, a >= 0, b > 0, c > 0} (a / b <= a / c)"
      ]
     },
     "execution_count": 6,
     "metadata": {},
     "output_type": "execute_result"
    }
   ],
   "source": [
    "divIneqThm2 = Forall([a,b,c],\n",
    "                    LessThanEquals(Fraction(a,b),Fraction(a,c)),\n",
    "                    domain=Reals,\n",
    "                    conditions=(\n",
    "                                GreaterThanEquals(b,c),\n",
    "                                GreaterThanEquals(a,zero),\n",
    "                                GreaterThan(b,zero),\n",
    "                                GreaterThan(c,zero)\n",
    "                                )\n",
    "                    )\n",
    "divIneqThm2"
   ]
  },
  {
   "cell_type": "code",
   "execution_count": 7,
   "metadata": {
    "collapsed": false
   },
   "outputs": [
    {
     "data": {
      "image/png": "[encoded data removed]",
      "text/plain": [
       "forall_{theta in Reals | -pi <= theta, theta <= pi} (|(1 - e^((i * theta)))| >= (2 * |theta|) / pi)"
      ]
     },
     "execution_count": 7,
     "metadata": {},
     "output_type": "execute_result"
    }
   ],
   "source": [
    "ineqThm3 = Forall([theta],\n",
    "                   GreaterThanEquals(\n",
    "                            Abs(\n",
    "                                Subtract(\n",
    "                                        one, Exponentiate(\n",
    "                                                          e,\n",
    "                                                          Multiply(i,theta)\n",
    "                                                          )\n",
    "                                        )\n",
    "                                ),\n",
    "                                Fraction(\n",
    "                                        Multiply(\n",
    "                                                two, Abs(theta)\n",
    "                                                ),\n",
    "                                        pi\n",
    "                                        )\n",
    "                                ),\n",
    "                    domain = Reals,\n",
    "                    conditions = (LessThanEquals(Neg(pi),theta),\n",
    "                                  LessThanEquals(theta,pi))\n",
    "                    )\n",
    "ineqThm3"
   ]
  },
  {
   "cell_type": "code",
   "execution_count": 8,
   "metadata": {
    "collapsed": false
   },
   "outputs": [
    {
     "data": {
      "image/png": "[encoded data removed]",
      "text/plain": [
       "forall_{l, t, delta | l in Integers, t in Naturals, delta in Reals, -2^((t - 1)) <= l, l <= 2^((t - 1)), 0 <= delta, delta <= 2^(-t)} ((-pi <= ((2 * pi) * (delta - l / 2^(t)))) and (((2 * pi) * (delta - l / 2^(t))) < pi))"
      ]
     },
     "execution_count": 8,
     "metadata": {},
     "output_type": "execute_result"
    }
   ],
   "source": [
    "ineqThm4 = Forall([l,t,delta], And(\n",
    "                                LessThanEquals(\n",
    "                                                Neg(pi),\n",
    "                                                Multiply(\n",
    "                                                    Multiply(two,pi),\n",
    "                                                    Subtract(delta,\n",
    "                                                    Fraction(\n",
    "                                                             l,\n",
    "                                                             Exponentiate(\n",
    "                                                                          two,\n",
    "                                                                          t\n",
    "                                                                          )\n",
    "                                                            )\n",
    "                                                            )\n",
    "                                                         )\n",
    "                                              ),\n",
    "                                LessThan(\n",
    "                                                Multiply(\n",
    "                                                    Multiply(two,pi),\n",
    "                                                    Subtract(delta,\n",
    "                                                    Fraction(\n",
    "                                                             l,\n",
    "                                                             Exponentiate(\n",
    "                                                                          two,\n",
    "                                                                          t\n",
    "                                                                          )\n",
    "                                                            )\n",
    "                                                            )\n",
    "                                                         ),\n",
    "                                                pi\n",
    "                                              )\n",
    "                            ),\n",
    "                    conditions = (\n",
    "                                  In(l,Integers),\n",
    "                                  In(t,Naturals),\n",
    "                                  In(delta,Reals),\n",
    "                                  LessThanEquals(\n",
    "                                           Neg(Exponentiate(two,Subtract(t,one))),\n",
    "                                           l),\n",
    "                                  LessThanEquals(\n",
    "                                            l,\n",
    "                                            Exponentiate(two,Subtract(t,one))\n",
    "                                                ),\n",
    "                                  LessThanEquals(zero,delta),\n",
    "                                  LessThanEquals(delta,Exponentiate(two,Neg(t)))\n",
    "                                  )\n",
    "                )\n",
    "ineqThm4"
   ]
  },
  {
   "cell_type": "code",
   "execution_count": 9,
   "metadata": {
    "collapsed": false
   },
   "outputs": [
    {
     "data": {
      "image/png": "[encoded data removed]",
      "text/plain": [
       "forall_{l, t, delta | l in Integers, t in Naturals, delta in Reals, -2^((t - 1)) <= l, l <= 2^((t - 1)), 0 <= delta, delta <= 2^(-t)} (-pi <= ((2 * pi) * (delta - l / 2^(t))))"
      ]
     },
     "execution_count": 9,
     "metadata": {},
     "output_type": "execute_result"
    }
   ],
   "source": [
    "ineqThm4a = Forall([l,t,delta],\n",
    "                                LessThanEquals(\n",
    "                                                Neg(pi),\n",
    "                                                Multiply(\n",
    "                                                    Multiply(two,pi),\n",
    "                                                    Subtract(delta,\n",
    "                                                    Fraction(\n",
    "                                                             l,\n",
    "                                                             Exponentiate(\n",
    "                                                                          two,\n",
    "                                                                          t\n",
    "                                                                          )\n",
    "                                                            )\n",
    "                                                            )\n",
    "                                                         )\n",
    "                                              ),\n",
    "                    conditions = (\n",
    "                                  In(l,Integers),\n",
    "                                  In(t,Naturals),\n",
    "                                  In(delta,Reals),\n",
    "                                  LessThanEquals(\n",
    "                                           Neg(Exponentiate(two,Subtract(t,one))),\n",
    "                                           l),\n",
    "                                  LessThanEquals(\n",
    "                                            l,\n",
    "                                            Exponentiate(two,Subtract(t,one))\n",
    "                                                ),\n",
    "                                  LessThanEquals(zero,delta),\n",
    "                                  LessThanEquals(delta,Exponentiate(two,Neg(t)))\n",
    "                                  )\n",
    "                )\n",
    "ineqThm4a"
   ]
  },
  {
   "cell_type": "code",
   "execution_count": 10,
   "metadata": {
    "collapsed": false
   },
   "outputs": [
    {
     "data": {
      "image/png": "[encoded data removed]",
      "text/plain": [
       "forall_{l, t, delta | l in Integers, t in Naturals, delta in Reals, -2^((t - 1)) <= l, l <= 2^((t - 1)), 0 <= delta, delta <= 2^(-t)} (((2 * pi) * (delta - l / 2^(t))) < pi)"
      ]
     },
     "execution_count": 10,
     "metadata": {},
     "output_type": "execute_result"
    }
   ],
   "source": [
    "ineqThm4b = Forall([l,t,delta],\n",
    "                                LessThan(\n",
    "                                                Multiply(\n",
    "                                                    Multiply(two,pi),\n",
    "                                                    Subtract(delta,\n",
    "                                                    Fraction(\n",
    "                                                             l,\n",
    "                                                             Exponentiate(\n",
    "                                                                          two,\n",
    "                                                                          t\n",
    "                                                                          )\n",
    "                                                            )\n",
    "                                                            )\n",
    "                                                         ),\n",
    "                                                pi\n",
    "                                              ),\n",
    "                   conditions = (\n",
    "                                  In(l,Integers),\n",
    "                                  In(t,Naturals),\n",
    "                                  In(delta,Reals),\n",
    "                                  LessThanEquals(\n",
    "                                           Neg(Exponentiate(two,Subtract(t,one))),\n",
    "                                           l),\n",
    "                                  LessThanEquals(\n",
    "                                            l,\n",
    "                                            Exponentiate(two,Subtract(t,one))\n",
    "                                                ),\n",
    "                                  LessThanEquals(zero,delta),\n",
    "                                  LessThanEquals(delta,Exponentiate(two,Neg(t)))\n",
    "                                  )\n",
    "                )\n",
    "ineqThm4b"
   ]
  },
  {
   "cell_type": "code",
   "execution_count": 11,
   "metadata": {
    "collapsed": false
   },
   "outputs": [
    {
     "data": {
      "image/png": "[encoded data removed]",
      "text/plain": [
       "forall_{a, b in Reals | |a| <= b} (|a|^(2) <= b^(2))"
      ]
     },
     "execution_count": 11,
     "metadata": {},
     "output_type": "execute_result"
    }
   ],
   "source": [
    "squarePosIneq = Forall([a,b],\n",
    "                        LessThanEquals(Exponentiate(Abs(a),two),Exponentiate(b,two)),\n",
    "                        domain = Reals,\n",
    "                        conditions = (LessThanEquals(Abs(a),b),))\n",
    "squarePosIneq"
   ]
  },
  {
   "cell_type": "code",
   "execution_count": 12,
   "metadata": {
    "collapsed": false
   },
   "outputs": [
    {
     "data": {
      "image/png": "[encoded data removed]",
      "text/plain": [
       "forall_{a in Reals} (|a|^(2) = a^(2))"
      ]
     },
     "execution_count": 12,
     "metadata": {},
     "output_type": "execute_result"
    }
   ],
   "source": [
    "squarePosEq = Forall(a,\n",
    "                     Equals(Exponentiate(Abs(a),two),Exponentiate(a,two)),\n",
    "                     domain = Reals)\n",
    "squarePosEq"
   ]
  },
  {
   "cell_type": "code",
   "execution_count": 13,
   "metadata": {
    "collapsed": false
   },
   "outputs": [
    {
     "data": {
      "image/png": "[encoded data removed]",
      "text/plain": [
       "forall_{a in RealsPos} (|a| = a)"
      ]
     },
     "execution_count": 13,
     "metadata": {},
     "output_type": "execute_result"
    }
   ],
   "source": [
    "absPos = Forall(a,\n",
    "               Equals(Abs(a),a),\n",
    "               domain = RealsPos)\n",
    "#               conditions = (GreaterThanEquals(a,zero)))\n",
    "absPos"
   ]
  },
  {
   "cell_type": "code",
   "execution_count": 15,
   "metadata": {
    "collapsed": false
   },
   "outputs": [
    {
     "data": {
      "image/png": "[encoded data removed]",
      "text/plain": [
       "(2 * pi) in RealsPos"
      ]
     },
     "execution_count": 15,
     "metadata": {},
     "output_type": "execute_result"
    }
   ],
   "source": [
    "absTwoPi = In(Multiply(two,pi),RealsPos)\n",
    "absTwoPi"
   ]
  },
  {
   "cell_type": "code",
   "execution_count": 16,
   "metadata": {
    "collapsed": false
   },
   "outputs": [
    {
     "data": {
      "image/png": "[encoded data removed]",
      "text/plain": [
       "forall_{a, b, c in Reals | c > 0, a >= b} ((c * a) >= (c * b))"
      ]
     },
     "execution_count": 16,
     "metadata": {},
     "output_type": "execute_result"
    }
   ],
   "source": [
    "ineqThm5 = Forall([a,b,c],\n",
    "                  GreaterThanEquals(Multiply(c,a),Multiply(c,b)),\n",
    "                  domain = Reals,\n",
    "                  conditions = (GreaterThan(c,zero),GreaterThanEquals(a,b)))\n",
    "ineqThm5"
   ]
  },
  {
   "cell_type": "code",
   "execution_count": 17,
   "metadata": {
    "collapsed": false
   },
   "outputs": [
    {
     "data": {
      "image/png": "[encoded data removed]",
      "text/plain": [
       "forall_{a, b in Reals | b >= 0} ((a + b) >= a)"
      ]
     },
     "execution_count": 17,
     "metadata": {},
     "output_type": "execute_result"
    }
   ],
   "source": [
    "ineqThm6 = Forall([a,b],\n",
    "                  GreaterThanEquals(Add(a,b),a),\n",
    "                  domain = Reals,\n",
    "                  conditions = GreaterThanEquals(b,zero))\n",
    "ineqThm6"
   ]
  },
  {
   "cell_type": "code",
   "execution_count": 18,
   "metadata": {
    "collapsed": false
   },
   "outputs": [
    {
     "data": {
      "image/png": "[encoded data removed]",
      "text/plain": [
       "forall_{x, l in Reals | l <= 0, 0 <= x, x <= 1} (1 / (l - x)^(2) <= 1 / l^(2))"
      ]
     },
     "execution_count": 18,
     "metadata": {},
     "output_type": "execute_result"
    }
   ],
   "source": [
    "ineqThm7 = Forall([x,l],\n",
    "                  LessThanEquals(\n",
    "                                Fraction(one,Exponentiate(Subtract(l,x),two)),\n",
    "                                Fraction(one,Exponentiate(l,two))\n",
    "                                ),\n",
    "                  domain = Reals,\n",
    "                  conditions = (LessThanEquals(l,zero),\n",
    "                                LessThanEquals(zero,x),\n",
    "                                LessThanEquals(x,one)))\n",
    "ineqThm7"
   ]
  },
  {
   "cell_type": "code",
   "execution_count": 19,
   "metadata": {
    "collapsed": false
   },
   "outputs": [
    {
     "data": {
      "image/png": "[encoded data removed]",
      "text/plain": [
       "forall_{x, l in Reals | l > 0, 0 <= x, x <= 1} (1 / (l - x)^(2) <= 1 / (l - 1)^(2))"
      ]
     },
     "execution_count": 19,
     "metadata": {},
     "output_type": "execute_result"
    }
   ],
   "source": [
    "ineqThm8 = Forall([x,l],\n",
    "                  LessThanEquals(\n",
    "                                Fraction(one,Exponentiate(Subtract(l,x),two)),\n",
    "                                Fraction(one,Exponentiate(Subtract(l,one),two)),\n",
    "                                ),\n",
    "                  domain = Reals,\n",
    "                  conditions = (GreaterThan(l,zero),\n",
    "                                LessThanEquals(zero,x),\n",
    "                                LessThanEquals(x,one)))\n",
    "ineqThm8"
   ]
  },
  {
   "cell_type": "code",
   "execution_count": 20,
   "metadata": {
    "collapsed": false
   },
   "outputs": [
    {
     "data": {
      "image/png": "[encoded data removed]",
      "text/plain": [
       "forall_{theta in Reals} (|(1 - e^((i * theta)))| <= 2)"
      ]
     },
     "execution_count": 20,
     "metadata": {},
     "output_type": "execute_result"
    }
   ],
   "source": [
    "ineqThm9 = Forall(theta,LessThanEquals(Abs(Subtract(one,Exponentiate(e,Multiply(i,theta)))),two),domain = Reals)\n",
    "ineqThm9"
   ]
  },
  {
   "cell_type": "code",
   "execution_count": 21,
   "metadata": {
    "collapsed": false
   },
   "outputs": [
    {
     "name": "stdout",
     "output_type": "stream",
     "text": [
      "Creating theorems *.dill and *.pv_it files in the __pv_it__ directory\n",
      "These theorems may be imported from proveit.number.real.theorems\n"
     ]
    }
   ],
   "source": [
    "%end_theorems"
   ]
  },
  {
   "cell_type": "code",
   "execution_count": null,
   "metadata": {
    "collapsed": true
   },
   "outputs": [],
   "source": []
  }
 ],
 "metadata": {
  "kernelspec": {
   "display_name": "Python 2",
   "language": "python",
   "name": "python2"
  },
  "language_info": {
   "codemirror_mode": {
    "name": "ipython",
    "version": 2
   },
   "file_extension": ".py",
   "mimetype": "text/x-python",
   "name": "python",
   "nbconvert_exporter": "python",
   "pygments_lexer": "ipython2",
   "version": "2.7.9"
  }
 },
 "nbformat": 4,
 "nbformat_minor": 0
}
