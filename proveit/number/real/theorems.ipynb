{
 "cells": [
  {
   "cell_type": "code",
   "execution_count": 1,
   "metadata": {
    "collapsed": false
   },
   "outputs": [],
   "source": [
    "import proveit.specialStatementMagic # for %begin_axioms and %end_axioms\n",
    "from proveit.basiclogic import In, And, Iff, BOOLEANS\n",
    "from proveit.number.common import *\n",
    "from proveit.basiclogic import Forall, Exists, Equals, NotEquals\n",
    "from proveit.number.arithmeticOps import LessThan, LessThanEquals, GreaterThan, GreaterThanEquals, Fraction\n",
    "from proveit.number.arithmeticOps import Add, Subtract, Multiply, Divide, Fraction, Abs, Exponentiate, Neg\n",
    "from proveit.number.arithmeticOps import Min, Max, IntervalOO, IntervalCO, IntervalOC, IntervalCC, Summation\n",
    "from proveit.number.roundingOps import Round, Ceil, Floor\n",
    "from proveit.number.moduloOp import Mod, ModAbs\n"
   ]
  },
  {
   "cell_type": "code",
   "execution_count": 2,
   "metadata": {
    "collapsed": false
   },
   "outputs": [],
   "source": [
    "%begin_theorems"
   ]
  },
  {
   "cell_type": "code",
   "execution_count": 3,
   "metadata": {
    "collapsed": false
   },
   "outputs": [
    {
     "data": {
      "text/latex": [
       "$\\forall_{a, b \\in \\mathbb{R}~|~a > b} \\left(a \\geq b\\right)$"
      ],
      "text/plain": [
       "forall_{a, b in Reals | a > b} (a >= b)"
      ]
     },
     "execution_count": 3,
     "metadata": {},
     "output_type": "execute_result"
    }
   ],
   "source": [
    "relaxGreaterThan = Forall([a,b],\n",
    "                         GreaterThanEquals(a,b),\n",
    "                         domain = Reals,\n",
    "                         conditions = GreaterThan(a,b))\n",
    "relaxGreaterThan"
   ]
  },
  {
   "cell_type": "code",
   "execution_count": 4,
   "metadata": {
    "collapsed": false
   },
   "outputs": [
    {
     "data": {
      "text/latex": [
       "$\\forall_{a, b \\in \\mathbb{R}~|~a < b} \\left(a \\leq b\\right)$"
      ],
      "text/plain": [
       "forall_{a, b in Reals | a < b} (a <= b)"
      ]
     },
     "execution_count": 4,
     "metadata": {},
     "output_type": "execute_result"
    }
   ],
   "source": [
    "relaxLessThan = Forall([a,b],\n",
    "                         LessThanEquals(a,b),\n",
    "                         domain = Reals,\n",
    "                         conditions = LessThan(a,b))\n",
    "relaxLessThan"
   ]
  },
  {
   "cell_type": "code",
   "execution_count": 5,
   "metadata": {
    "collapsed": false
   },
   "outputs": [
    {
     "data": {
      "text/latex": [
       "$\\forall_{a, b} \\left(\\left(a < b\\right) \\in \\cal{B}\\right)$"
      ],
      "text/plain": [
       "forall_{a, b} ((a < b) in BOOLEANS)"
      ]
     },
     "execution_count": 5,
     "metadata": {},
     "output_type": "execute_result"
    }
   ],
   "source": [
    "lessThanInBools = Forall([a, b], In(LessThan(a, b), BOOLEANS))\n",
    "lessThanInBools"
   ]
  },
  {
   "cell_type": "code",
   "execution_count": 6,
   "metadata": {
    "collapsed": false
   },
   "outputs": [
    {
     "data": {
      "text/latex": [
       "$\\forall_{a, b} \\left(\\left(a \\leq b\\right) \\in \\cal{B}\\right)$"
      ],
      "text/plain": [
       "forall_{a, b} ((a <= b) in BOOLEANS)"
      ]
     },
     "execution_count": 6,
     "metadata": {},
     "output_type": "execute_result"
    }
   ],
   "source": [
    "lessThanEqualsInBools = Forall([a, b], In(LessThanEquals(a, b), BOOLEANS))\n",
    "lessThanEqualsInBools"
   ]
  },
  {
   "cell_type": "code",
   "execution_count": 7,
   "metadata": {
    "collapsed": false
   },
   "outputs": [
    {
     "data": {
      "text/latex": [
       "$\\forall_{a, b} \\left(\\left(a > b\\right) \\in \\cal{B}\\right)$"
      ],
      "text/plain": [
       "forall_{a, b} ((a > b) in BOOLEANS)"
      ]
     },
     "execution_count": 7,
     "metadata": {},
     "output_type": "execute_result"
    }
   ],
   "source": [
    "greaterThanInBools = Forall([a, b], In(GreaterThan(a, b), BOOLEANS))\n",
    "greaterThanInBools"
   ]
  },
  {
   "cell_type": "code",
   "execution_count": 8,
   "metadata": {
    "collapsed": false
   },
   "outputs": [
    {
     "data": {
      "text/latex": [
       "$\\forall_{a, b} \\left(\\left(a \\geq b\\right) \\in \\cal{B}\\right)$"
      ],
      "text/plain": [
       "forall_{a, b} ((a >= b) in BOOLEANS)"
      ]
     },
     "execution_count": 8,
     "metadata": {},
     "output_type": "execute_result"
    }
   ],
   "source": [
    "greaterThanEqualsInBools = Forall([a, b], In(GreaterThanEquals(a, b), BOOLEANS))\n",
    "greaterThanEqualsInBools"
   ]
  },
  {
   "cell_type": "code",
   "execution_count": 9,
   "metadata": {
    "collapsed": false
   },
   "outputs": [
    {
     "data": {
      "text/latex": [
       "$\\forall_{a \\in \\mathbb{R}} \\left(a \\in \\mathbb{C}\\right)$"
      ],
      "text/plain": [
       "forall_{a in Reals} (a in Complexes)"
      ]
     },
     "execution_count": 9,
     "metadata": {},
     "output_type": "execute_result"
    }
   ],
   "source": [
    "inComplexes = Forall(a,\n",
    "                    In(a,Complexes),\n",
    "                    domain = Reals)\n",
    "inComplexes"
   ]
  },
  {
   "cell_type": "code",
   "execution_count": 10,
   "metadata": {
    "collapsed": false
   },
   "outputs": [
    {
     "data": {
      "text/latex": [
       "$\\forall_{a \\in \\mathbb{R}^+} \\left(a \\in \\mathbb{R}\\right)$"
      ],
      "text/plain": [
       "forall_{a in RealsPos} (a in Reals)"
      ]
     },
     "execution_count": 10,
     "metadata": {},
     "output_type": "execute_result"
    }
   ],
   "source": [
    "inRealsPos_inReals = Forall(a, In(a,Reals), domain = RealsPos)\n",
    "inRealsPos_inReals"
   ]
  },
  {
   "cell_type": "code",
   "execution_count": 11,
   "metadata": {
    "collapsed": false
   },
   "outputs": [
    {
     "data": {
      "text/latex": [
       "$\\forall_{a \\in \\mathbb{R}^-} \\left(a \\in \\mathbb{R}\\right)$"
      ],
      "text/plain": [
       "forall_{a in RealsNeg} (a in Reals)"
      ]
     },
     "execution_count": 11,
     "metadata": {},
     "output_type": "execute_result"
    }
   ],
   "source": [
    "inRealsNeg_inReals = Forall(a, In(a,Reals), domain = RealsNeg)\n",
    "inRealsNeg_inReals"
   ]
  },
  {
   "cell_type": "code",
   "execution_count": 12,
   "metadata": {
    "collapsed": false
   },
   "outputs": [
    {
     "data": {
      "text/latex": [
       "$\\forall_{a \\in \\mathbb{R}^+} \\left(a \\in \\mathbb{C}\\right)$"
      ],
      "text/plain": [
       "forall_{a in RealsPos} (a in Complexes)"
      ]
     },
     "execution_count": 12,
     "metadata": {},
     "output_type": "execute_result"
    }
   ],
   "source": [
    "inRealsPos_inComplexes = Forall(a, In(a,Complexes), domain = RealsPos)\n",
    "inRealsPos_inComplexes"
   ]
  },
  {
   "cell_type": "code",
   "execution_count": 13,
   "metadata": {
    "collapsed": false
   },
   "outputs": [
    {
     "data": {
      "text/latex": [
       "$\\forall_{a \\in \\mathbb{R}^-} \\left(a \\in \\mathbb{C}\\right)$"
      ],
      "text/plain": [
       "forall_{a in RealsNeg} (a in Complexes)"
      ]
     },
     "execution_count": 13,
     "metadata": {},
     "output_type": "execute_result"
    }
   ],
   "source": [
    "inRealsNeg_inComplexes = Forall(a, In(a,Complexes), domain = RealsNeg)\n",
    "inRealsNeg_inComplexes"
   ]
  },
  {
   "cell_type": "code",
   "execution_count": 14,
   "metadata": {
    "collapsed": false
   },
   "outputs": [
    {
     "data": {
      "text/latex": [
       "$\\forall_{a \\in \\mathbb{R}} \\left(\\left(a \\in \\mathbb{R}^+\\right) \\Leftrightarrow \\left(a > 0\\right)\\right)$"
      ],
      "text/plain": [
       "forall_{a in Reals} ((a in RealsPos) <=> (a > 0))"
      ]
     },
     "execution_count": 14,
     "metadata": {},
     "output_type": "execute_result"
    }
   ],
   "source": [
    "inRealsPos_iff_positive = Forall(a, Iff(In(a, RealsPos), GreaterThan(a, zero)), domain=Reals)\n",
    "inRealsPos_iff_positive"
   ]
  },
  {
   "cell_type": "code",
   "execution_count": 15,
   "metadata": {
    "collapsed": false
   },
   "outputs": [
    {
     "data": {
      "text/latex": [
       "$\\forall_{a \\in \\mathbb{R}} \\left(\\left(a \\in \\mathbb{R}^-\\right) \\Leftrightarrow \\left(a < 0\\right)\\right)$"
      ],
      "text/plain": [
       "forall_{a in Reals} ((a in RealsNeg) <=> (a < 0))"
      ]
     },
     "execution_count": 15,
     "metadata": {},
     "output_type": "execute_result"
    }
   ],
   "source": [
    "inRealsNeg_iff_negative = Forall(a, Iff(In(a, RealsNeg), LessThan(a, zero)), domain=Reals)\n",
    "inRealsNeg_iff_negative"
   ]
  },
  {
   "cell_type": "code",
   "execution_count": 16,
   "metadata": {
    "collapsed": false
   },
   "outputs": [
    {
     "data": {
      "text/latex": [
       "$\\forall_{a \\in \\mathbb{R}~|~a > 0} \\left(a \\neq 0\\right)$"
      ],
      "text/plain": [
       "forall_{a in Reals | a > 0} (a != 0)"
      ]
     },
     "execution_count": 16,
     "metadata": {},
     "output_type": "execute_result"
    }
   ],
   "source": [
    "positive_implies_notZero = Forall(a, NotEquals(a, zero), domain=Reals, conditions=[GreaterThan(a, zero)])\n",
    "positive_implies_notZero"
   ]
  },
  {
   "cell_type": "code",
   "execution_count": 17,
   "metadata": {
    "collapsed": false
   },
   "outputs": [
    {
     "data": {
      "text/latex": [
       "$\\forall_{a \\in \\mathbb{R}~|~a < 0} \\left(a \\neq 0\\right)$"
      ],
      "text/plain": [
       "forall_{a in Reals | a < 0} (a != 0)"
      ]
     },
     "execution_count": 17,
     "metadata": {},
     "output_type": "execute_result"
    }
   ],
   "source": [
    "negative_implies_notZero = Forall(a, NotEquals(a, zero), domain=Reals, conditions=[LessThan(a, zero)])\n",
    "negative_implies_notZero"
   ]
  },
  {
   "cell_type": "code",
   "execution_count": 18,
   "metadata": {
    "collapsed": false
   },
   "outputs": [
    {
     "data": {
      "text/latex": [
       "$\\forall_{a, b \\in \\mathbb{R}} \\left[\\forall_{x \\in \\left(a,b\\right)} \\left(x \\in \\mathbb{R}\\right)\\right]$"
      ],
      "text/plain": [
       "forall_{a, b in Reals} [forall_{x in (a,b)} (x in Reals)]"
      ]
     },
     "execution_count": 18,
     "metadata": {},
     "output_type": "execute_result"
    }
   ],
   "source": [
    "allInIntervalOO_InReals = Forall((a, b), Forall(x, In(x, Reals), domain=IntervalOO(a, b)), domain=Reals)\n",
    "allInIntervalOO_InReals "
   ]
  },
  {
   "cell_type": "code",
   "execution_count": 19,
   "metadata": {
    "collapsed": false
   },
   "outputs": [
    {
     "data": {
      "text/latex": [
       "$\\forall_{a, b \\in \\mathbb{R}} \\left[\\forall_{x \\in \\left[a,b\\right)} \\left(x \\in \\mathbb{R}\\right)\\right]$"
      ],
      "text/plain": [
       "forall_{a, b in Reals} [forall_{x in [a,b)} (x in Reals)]"
      ]
     },
     "execution_count": 19,
     "metadata": {},
     "output_type": "execute_result"
    }
   ],
   "source": [
    "allInIntervalCO_InReals = Forall((a, b), Forall(x, In(x, Reals), domain=IntervalCO(a, b)), domain=Reals)\n",
    "allInIntervalCO_InReals "
   ]
  },
  {
   "cell_type": "code",
   "execution_count": 20,
   "metadata": {
    "collapsed": false
   },
   "outputs": [
    {
     "data": {
      "text/latex": [
       "$\\forall_{a, b \\in \\mathbb{R}} \\left[\\forall_{x \\in \\left(a,b\\right]} \\left(x \\in \\mathbb{R}\\right)\\right]$"
      ],
      "text/plain": [
       "forall_{a, b in Reals} [forall_{x in (a,b]} (x in Reals)]"
      ]
     },
     "execution_count": 20,
     "metadata": {},
     "output_type": "execute_result"
    }
   ],
   "source": [
    "allInIntervalOC_InReals = Forall((a, b), Forall(x, In(x, Reals), domain=IntervalOC(a, b)), domain=Reals)\n",
    "allInIntervalOC_InReals "
   ]
  },
  {
   "cell_type": "code",
   "execution_count": 21,
   "metadata": {
    "collapsed": false
   },
   "outputs": [
    {
     "data": {
      "text/latex": [
       "$\\forall_{a, b \\in \\mathbb{R}} \\left[\\forall_{x \\in \\left[a,b\\right]} \\left(x \\in \\mathbb{R}\\right)\\right]$"
      ],
      "text/plain": [
       "forall_{a, b in Reals} [forall_{x in [a,b]} (x in Reals)]"
      ]
     },
     "execution_count": 21,
     "metadata": {},
     "output_type": "execute_result"
    }
   ],
   "source": [
    "allInIntervalCC_InReals = Forall((a, b), Forall(x, In(x, Reals), domain=IntervalCC(a, b)), domain=Reals)\n",
    "allInIntervalCC_InReals "
   ]
  },
  {
   "cell_type": "code",
   "execution_count": 22,
   "metadata": {
    "collapsed": false
   },
   "outputs": [
    {
     "data": {
      "text/latex": [
       "$\\forall_{a, b \\in \\mathbb{R}} \\left[\\forall_{x \\in \\left(a,b\\right)} \\left(a < x\\right)\\right]$"
      ],
      "text/plain": [
       "forall_{a, b in Reals} [forall_{x in (a,b)} (a < x)]"
      ]
     },
     "execution_count": 22,
     "metadata": {},
     "output_type": "execute_result"
    }
   ],
   "source": [
    "intervalOOLowerBound = Forall((a, b), Forall(x, LessThan(a, x), domain=IntervalOO(a, b)), domain=Reals)\n",
    "intervalOOLowerBound"
   ]
  },
  {
   "cell_type": "code",
   "execution_count": 23,
   "metadata": {
    "collapsed": false
   },
   "outputs": [
    {
     "data": {
      "text/latex": [
       "$\\forall_{a, b \\in \\mathbb{R}} \\left[\\forall_{x \\in \\left(a,b\\right)} \\left(x < b\\right)\\right]$"
      ],
      "text/plain": [
       "forall_{a, b in Reals} [forall_{x in (a,b)} (x < b)]"
      ]
     },
     "execution_count": 23,
     "metadata": {},
     "output_type": "execute_result"
    }
   ],
   "source": [
    "intervalOOUpperBound = Forall((a, b), Forall(x, LessThan(x, b), domain=IntervalOO(a, b)), domain=Reals)\n",
    "intervalOOUpperBound"
   ]
  },
  {
   "cell_type": "code",
   "execution_count": 24,
   "metadata": {
    "collapsed": false
   },
   "outputs": [
    {
     "data": {
      "text/latex": [
       "$\\forall_{a, b \\in \\mathbb{R}} \\left[\\forall_{x \\in \\left[a,b\\right)} \\left(a \\leq x\\right)\\right]$"
      ],
      "text/plain": [
       "forall_{a, b in Reals} [forall_{x in [a,b)} (a <= x)]"
      ]
     },
     "execution_count": 24,
     "metadata": {},
     "output_type": "execute_result"
    }
   ],
   "source": [
    "intervalCOLowerBound = Forall((a, b), Forall(x, LessThanEquals(a, x), domain=IntervalCO(a, b)), domain=Reals)\n",
    "intervalCOLowerBound"
   ]
  },
  {
   "cell_type": "code",
   "execution_count": 25,
   "metadata": {
    "collapsed": false
   },
   "outputs": [
    {
     "data": {
      "text/latex": [
       "$\\forall_{a, b \\in \\mathbb{R}} \\left[\\forall_{x \\in \\left[a,b\\right)} \\left(x < b\\right)\\right]$"
      ],
      "text/plain": [
       "forall_{a, b in Reals} [forall_{x in [a,b)} (x < b)]"
      ]
     },
     "execution_count": 25,
     "metadata": {},
     "output_type": "execute_result"
    }
   ],
   "source": [
    "intervalCOUpperBound = Forall((a, b), Forall(x, LessThan(x, b), domain=IntervalCO(a, b)), domain=Reals)\n",
    "intervalCOUpperBound"
   ]
  },
  {
   "cell_type": "code",
   "execution_count": 26,
   "metadata": {
    "collapsed": false
   },
   "outputs": [
    {
     "data": {
      "text/latex": [
       "$\\forall_{a, b \\in \\mathbb{R}} \\left[\\forall_{x \\in \\left(a,b\\right]} \\left(a < x\\right)\\right]$"
      ],
      "text/plain": [
       "forall_{a, b in Reals} [forall_{x in (a,b]} (a < x)]"
      ]
     },
     "execution_count": 26,
     "metadata": {},
     "output_type": "execute_result"
    }
   ],
   "source": [
    "intervalOCLowerBound = Forall((a, b), Forall(x, LessThan(a, x), domain=IntervalOC(a, b)), domain=Reals)\n",
    "intervalOCLowerBound"
   ]
  },
  {
   "cell_type": "code",
   "execution_count": 27,
   "metadata": {
    "collapsed": false
   },
   "outputs": [
    {
     "data": {
      "text/latex": [
       "$\\forall_{a, b \\in \\mathbb{R}} \\left[\\forall_{x \\in \\left(a,b\\right]} \\left(x \\leq b\\right)\\right]$"
      ],
      "text/plain": [
       "forall_{a, b in Reals} [forall_{x in (a,b]} (x <= b)]"
      ]
     },
     "execution_count": 27,
     "metadata": {},
     "output_type": "execute_result"
    }
   ],
   "source": [
    "intervalOCUpperBound = Forall((a, b), Forall(x, LessThanEquals(x, b), domain=IntervalOC(a, b)), domain=Reals)\n",
    "intervalOCUpperBound"
   ]
  },
  {
   "cell_type": "code",
   "execution_count": 28,
   "metadata": {
    "collapsed": false
   },
   "outputs": [
    {
     "data": {
      "text/latex": [
       "$\\forall_{a, b \\in \\mathbb{R}} \\left[\\forall_{x \\in \\left[a,b\\right]} \\left(a \\leq x\\right)\\right]$"
      ],
      "text/plain": [
       "forall_{a, b in Reals} [forall_{x in [a,b]} (a <= x)]"
      ]
     },
     "execution_count": 28,
     "metadata": {},
     "output_type": "execute_result"
    }
   ],
   "source": [
    "intervalCCLowerBound = Forall((a, b), Forall(x, LessThanEquals(a, x), domain=IntervalCC(a, b)), domain=Reals)\n",
    "intervalCCLowerBound"
   ]
  },
  {
   "cell_type": "code",
   "execution_count": 29,
   "metadata": {
    "collapsed": false
   },
   "outputs": [
    {
     "data": {
      "text/latex": [
       "$\\forall_{a, b \\in \\mathbb{R}} \\left[\\forall_{x \\in \\left[a,b\\right]} \\left(x \\leq b\\right)\\right]$"
      ],
      "text/plain": [
       "forall_{a, b in Reals} [forall_{x in [a,b]} (x <= b)]"
      ]
     },
     "execution_count": 29,
     "metadata": {},
     "output_type": "execute_result"
    }
   ],
   "source": [
    "intervalCCUpperBound = Forall((a, b), Forall(x, LessThanEquals(x, b), domain=IntervalCC(a, b)), domain=Reals)\n",
    "intervalCCUpperBound"
   ]
  },
  {
   "cell_type": "code",
   "execution_count": 30,
   "metadata": {
    "collapsed": false
   },
   "outputs": [
    {
     "data": {
      "text/latex": [
       "$\\forall_{..x.. \\in \\mathbb{R}} \\left(\\left(~.. + x + ..~\\right) \\in \\mathbb{R}\\right)$"
      ],
      "text/plain": [
       "forall_{..x.. in Reals} (( .. + x + .. ) in Reals)"
      ]
     },
     "execution_count": 30,
     "metadata": {},
     "output_type": "execute_result"
    }
   ],
   "source": [
    "addClosure = Forall([xEtc], In(Add(xEtc),Reals), domain=Reals)\n",
    "addClosure"
   ]
  },
  {
   "cell_type": "code",
   "execution_count": 31,
   "metadata": {
    "collapsed": false
   },
   "outputs": [
    {
     "data": {
      "text/latex": [
       "$\\forall_{a, b \\in \\mathbb{R}} \\left(\\left(a - b\\right) \\in \\mathbb{R}\\right)$"
      ],
      "text/plain": [
       "forall_{a, b in Reals} ((a - b) in Reals)"
      ]
     },
     "execution_count": 31,
     "metadata": {},
     "output_type": "execute_result"
    }
   ],
   "source": [
    "subtractClosure = Forall([a, b], In(Subtract(a, b), Reals), domain=Reals)\n",
    "subtractClosure"
   ]
  },
  {
   "cell_type": "code",
   "execution_count": 32,
   "metadata": {
    "collapsed": false
   },
   "outputs": [
    {
     "data": {
      "text/latex": [
       "$\\forall_{a \\in \\mathbb{R}} \\left(\\left(-a\\right) \\in \\mathbb{R}\\right)$"
      ],
      "text/plain": [
       "forall_{a in Reals} ((-a) in Reals)"
      ]
     },
     "execution_count": 32,
     "metadata": {},
     "output_type": "execute_result"
    }
   ],
   "source": [
    "negClosure = Forall(a, In(Neg(a), Reals), domain=Reals)\n",
    "negClosure"
   ]
  },
  {
   "cell_type": "code",
   "execution_count": 33,
   "metadata": {
    "collapsed": false
   },
   "outputs": [
    {
     "data": {
      "text/latex": [
       "$\\forall_{a \\in \\mathbb{R}~|~a > 0} \\left(\\left(-a\\right) < 0\\right)$"
      ],
      "text/plain": [
       "forall_{a in Reals | a > 0} ((-a) < 0)"
      ]
     },
     "execution_count": 33,
     "metadata": {},
     "output_type": "execute_result"
    }
   ],
   "source": [
    "negatedPositiveIsNegative = Forall(a, LessThan(Neg(a), zero), domain=Reals, conditions=[GreaterThan(a, zero)])\n",
    "negatedPositiveIsNegative"
   ]
  },
  {
   "cell_type": "code",
   "execution_count": 34,
   "metadata": {
    "collapsed": false
   },
   "outputs": [
    {
     "data": {
      "text/latex": [
       "$\\forall_{a \\in \\mathbb{R}~|~a < 0} \\left(\\left(-a\\right) > 0\\right)$"
      ],
      "text/plain": [
       "forall_{a in Reals | a < 0} ((-a) > 0)"
      ]
     },
     "execution_count": 34,
     "metadata": {},
     "output_type": "execute_result"
    }
   ],
   "source": [
    "negatedNegativeIsPositive = Forall(a, GreaterThan(Neg(a), zero), domain=Reals, conditions=[LessThan(a, zero)])\n",
    "negatedNegativeIsPositive"
   ]
  },
  {
   "cell_type": "code",
   "execution_count": 35,
   "metadata": {
    "collapsed": false
   },
   "outputs": [
    {
     "data": {
      "text/latex": [
       "$\\forall_{..x.. \\in \\mathbb{R}} \\left(\\left(~.. \\cdot x \\cdot ..~\\right) \\in \\mathbb{R}\\right)$"
      ],
      "text/plain": [
       "forall_{..x.. in Reals} (( .. * x * .. ) in Reals)"
      ]
     },
     "execution_count": 35,
     "metadata": {},
     "output_type": "execute_result"
    }
   ],
   "source": [
    "multClosure = Forall([xEtc], In(Multiply(xEtc),Reals), domain=Reals)\n",
    "multClosure"
   ]
  },
  {
   "cell_type": "code",
   "execution_count": 36,
   "metadata": {
    "collapsed": false
   },
   "outputs": [
    {
     "data": {
      "text/latex": [
       "$\\forall_{..x.. \\in \\mathbb{R}^+} \\left(\\left(~.. \\cdot x \\cdot ..~\\right) \\in \\mathbb{R}^+\\right)$"
      ],
      "text/plain": [
       "forall_{..x.. in RealsPos} (( .. * x * .. ) in RealsPos)"
      ]
     },
     "execution_count": 36,
     "metadata": {},
     "output_type": "execute_result"
    }
   ],
   "source": [
    "multPosClosure = Forall([xEtc], In(Multiply(xEtc),RealsPos), domain=RealsPos)\n",
    "multPosClosure"
   ]
  },
  {
   "cell_type": "code",
   "execution_count": 37,
   "metadata": {
    "collapsed": false
   },
   "outputs": [
    {
     "data": {
      "text/latex": [
       "$\\forall_{a, b \\in \\mathbb{R}~|~b \\neq 0} \\left(\\left(a \\div b\\right) \\in \\mathbb{R}\\right)$"
      ],
      "text/plain": [
       "forall_{a, b in Reals | b != 0} ((a / b) in Reals)"
      ]
     },
     "execution_count": 37,
     "metadata": {},
     "output_type": "execute_result"
    }
   ],
   "source": [
    "divideClosure = Forall([a, b], In(Divide(a, b), Reals), domain=Reals, conditions=[NotEquals(b, zero)])\n",
    "divideClosure       "
   ]
  },
  {
   "cell_type": "code",
   "execution_count": 38,
   "metadata": {
    "collapsed": false
   },
   "outputs": [
    {
     "data": {
      "text/latex": [
       "$\\forall_{a, b \\in \\mathbb{R}^+~|~b \\neq 0} \\left(\\left(a \\div b\\right) \\in \\mathbb{R}^+\\right)$"
      ],
      "text/plain": [
       "forall_{a, b in RealsPos | b != 0} ((a / b) in RealsPos)"
      ]
     },
     "execution_count": 38,
     "metadata": {},
     "output_type": "execute_result"
    }
   ],
   "source": [
    "dividePosClosure = Forall([a, b], In(Divide(a, b), RealsPos), domain=RealsPos, conditions=[NotEquals(b, zero)])\n",
    "dividePosClosure"
   ]
  },
  {
   "cell_type": "code",
   "execution_count": 39,
   "metadata": {
    "collapsed": false
   },
   "outputs": [
    {
     "data": {
      "text/latex": [
       "$\\forall_{a, b \\in \\mathbb{R}~|~b \\neq 0} \\left(\\frac{a}{b} \\in \\mathbb{R}\\right)$"
      ],
      "text/plain": [
       "forall_{a, b in Reals | b != 0} (a / b in Reals)"
      ]
     },
     "execution_count": 39,
     "metadata": {},
     "output_type": "execute_result"
    }
   ],
   "source": [
    "fractionClosure = Forall([a, b], In(Fraction(a, b), Reals), domain=Reals, conditions=[NotEquals(b, zero)])\n",
    "fractionClosure   "
   ]
  },
  {
   "cell_type": "code",
   "execution_count": 40,
   "metadata": {
    "collapsed": false
   },
   "outputs": [
    {
     "data": {
      "text/latex": [
       "$\\forall_{a, b \\in \\mathbb{R}^+~|~b \\neq 0} \\left(\\frac{a}{b} \\in \\mathbb{R}^+\\right)$"
      ],
      "text/plain": [
       "forall_{a, b in RealsPos | b != 0} (a / b in RealsPos)"
      ]
     },
     "execution_count": 40,
     "metadata": {},
     "output_type": "execute_result"
    }
   ],
   "source": [
    "fractionPosClosure = Forall([a, b], In(Fraction(a, b), RealsPos), domain=RealsPos, conditions=[NotEquals(b, zero)])\n",
    "fractionPosClosure"
   ]
  },
  {
   "cell_type": "code",
   "execution_count": 41,
   "metadata": {
    "collapsed": false
   },
   "outputs": [
    {
     "data": {
      "text/latex": [
       "$\\forall_{a, b \\in \\mathbb{R}~|~a > 0} \\left(a^{b} \\in \\mathbb{R}^+\\right)$"
      ],
      "text/plain": [
       "forall_{a, b in Reals | a > 0} (a^(b) in RealsPos)"
      ]
     },
     "execution_count": 41,
     "metadata": {},
     "output_type": "execute_result"
    }
   ],
   "source": [
    "powPosClosure = Forall([a, b], In(Exponentiate(a, b), RealsPos), domain=Reals,\n",
    "                       conditions=[GreaterThan(a, zero)])\n",
    "powPosClosure"
   ]
  },
  {
   "cell_type": "markdown",
   "metadata": {},
   "source": [
    "Should generalize to even power closure, but need to define and implement evens set to do this."
   ]
  },
  {
   "cell_type": "code",
   "execution_count": 42,
   "metadata": {
    "collapsed": false
   },
   "outputs": [
    {
     "data": {
      "text/latex": [
       "$\\forall_{a \\in \\mathbb{R}~|~a \\neq 0} \\left(a^{2} \\in \\mathbb{R}^+\\right)$"
      ],
      "text/plain": [
       "forall_{a in Reals | a != 0} (a^(2) in RealsPos)"
      ]
     },
     "execution_count": 42,
     "metadata": {},
     "output_type": "execute_result"
    }
   ],
   "source": [
    "sqrdClosure = Forall(a, In(Exponentiate(a, two), RealsPos), \n",
    "                     domain=Reals, conditions=[NotEquals(a, zero)])\n",
    "sqrdClosure"
   ]
  },
  {
   "cell_type": "code",
   "execution_count": 43,
   "metadata": {
    "collapsed": false
   },
   "outputs": [
    {
     "data": {
      "text/latex": [
       "$\\forall_{a, b \\in \\mathbb{R}} \\left({\\rm Min}\\left(a, b\\right) \\in \\mathbb{R}\\right)$"
      ],
      "text/plain": [
       "forall_{a, b in Reals} (Min(a, b) in Reals)"
      ]
     },
     "execution_count": 43,
     "metadata": {},
     "output_type": "execute_result"
    }
   ],
   "source": [
    "minClosure = Forall((a, b), In(Min(a, b), Reals), domain=Reals)\n",
    "minClosure"
   ]
  },
  {
   "cell_type": "code",
   "execution_count": 44,
   "metadata": {
    "collapsed": false
   },
   "outputs": [
    {
     "data": {
      "text/latex": [
       "$\\forall_{a, b \\in \\mathbb{R}^+} \\left({\\rm Min}\\left(a, b\\right) \\in \\mathbb{R}^+\\right)$"
      ],
      "text/plain": [
       "forall_{a, b in RealsPos} (Min(a, b) in RealsPos)"
      ]
     },
     "execution_count": 44,
     "metadata": {},
     "output_type": "execute_result"
    }
   ],
   "source": [
    "minPosClosure = Forall((a, b), In(Min(a, b), RealsPos), domain=RealsPos)\n",
    "minPosClosure"
   ]
  },
  {
   "cell_type": "code",
   "execution_count": 45,
   "metadata": {
    "collapsed": false
   },
   "outputs": [
    {
     "data": {
      "text/latex": [
       "$\\forall_{a, b \\in \\mathbb{R}} \\left({\\rm Max}\\left(a, b\\right) \\in \\mathbb{R}\\right)$"
      ],
      "text/plain": [
       "forall_{a, b in Reals} (Max(a, b) in Reals)"
      ]
     },
     "execution_count": 45,
     "metadata": {},
     "output_type": "execute_result"
    }
   ],
   "source": [
    "maxClosure = Forall((a, b), In(Max(a, b), Reals), domain=Reals)\n",
    "maxClosure"
   ]
  },
  {
   "cell_type": "code",
   "execution_count": 46,
   "metadata": {
    "collapsed": false
   },
   "outputs": [
    {
     "data": {
      "text/latex": [
       "$\\forall_{a, b \\in \\mathbb{R}^+} \\left({\\rm Max}\\left(a, b\\right) \\in \\mathbb{R}^+\\right)$"
      ],
      "text/plain": [
       "forall_{a, b in RealsPos} (Max(a, b) in RealsPos)"
      ]
     },
     "execution_count": 46,
     "metadata": {},
     "output_type": "execute_result"
    }
   ],
   "source": [
    "maxPosClosure = Forall((a, b), In(Max(a, b), RealsPos), domain=RealsPos)\n",
    "maxPosClosure"
   ]
  },
  {
   "cell_type": "code",
   "execution_count": 47,
   "metadata": {
    "collapsed": false
   },
   "outputs": [
    {
     "data": {
      "text/latex": [
       "$\\forall_{a \\in \\mathbb{R}} \\left({\\rm Round}\\left(a\\right) \\in \\mathbb{Z}\\right)$"
      ],
      "text/plain": [
       "forall_{a in Reals} (Round(a) in Integers)"
      ]
     },
     "execution_count": 47,
     "metadata": {},
     "output_type": "execute_result"
    }
   ],
   "source": [
    "roundClosure = Forall(a, In(Round(a), Integers), domain=Reals)\n",
    "roundClosure"
   ]
  },
  {
   "cell_type": "code",
   "execution_count": 48,
   "metadata": {
    "collapsed": false
   },
   "outputs": [
    {
     "data": {
      "text/latex": [
       "$\\forall_{a \\in \\mathbb{R}^+} \\left({\\rm Round}\\left(a\\right) \\in \\mathbb{N}\\right)$"
      ],
      "text/plain": [
       "forall_{a in RealsPos} (Round(a) in Naturals)"
      ]
     },
     "execution_count": 48,
     "metadata": {},
     "output_type": "execute_result"
    }
   ],
   "source": [
    "roundNatClosure = Forall(a, In(Round(a), Naturals), domain=RealsPos)\n",
    "roundNatClosure"
   ]
  },
  {
   "cell_type": "code",
   "execution_count": 49,
   "metadata": {
    "collapsed": false
   },
   "outputs": [
    {
     "data": {
      "text/latex": [
       "$\\forall_{a \\in \\mathbb{R}} \\left(\\lceil a\\rceil \\in \\mathbb{Z}\\right)$"
      ],
      "text/plain": [
       "forall_{a in Reals} (FLOOR(a) in Integers)"
      ]
     },
     "execution_count": 49,
     "metadata": {},
     "output_type": "execute_result"
    }
   ],
   "source": [
    "ceilClosure = Forall(a, In(Ceil(a), Integers), domain=Reals)\n",
    "ceilClosure"
   ]
  },
  {
   "cell_type": "code",
   "execution_count": 50,
   "metadata": {
    "collapsed": false
   },
   "outputs": [
    {
     "data": {
      "text/latex": [
       "$\\forall_{a \\in \\mathbb{R}^+} \\left(\\lceil a\\rceil \\in \\mathbb{N}^{+}\\right)$"
      ],
      "text/plain": [
       "forall_{a in RealsPos} (FLOOR(a) in NaturalsPos)"
      ]
     },
     "execution_count": 50,
     "metadata": {},
     "output_type": "execute_result"
    }
   ],
   "source": [
    "ceilNatPosClosure = Forall(a, In(Ceil(a), NaturalsPos), domain=RealsPos)\n",
    "ceilNatPosClosure"
   ]
  },
  {
   "cell_type": "code",
   "execution_count": 51,
   "metadata": {
    "collapsed": false
   },
   "outputs": [
    {
     "data": {
      "text/latex": [
       "$\\forall_{a \\in \\mathbb{R}} \\left(\\lfloor a\\rfloor \\in \\mathbb{Z}\\right)$"
      ],
      "text/plain": [
       "forall_{a in Reals} (FLOOR(a) in Integers)"
      ]
     },
     "execution_count": 51,
     "metadata": {},
     "output_type": "execute_result"
    }
   ],
   "source": [
    "floorClosure = Forall(a, In(Floor(a), Integers), domain=Reals)\n",
    "floorClosure"
   ]
  },
  {
   "cell_type": "code",
   "execution_count": 52,
   "metadata": {
    "collapsed": false
   },
   "outputs": [
    {
     "data": {
      "text/latex": [
       "$\\forall_{a \\in \\mathbb{R}^+} \\left(\\lfloor a\\rfloor \\in \\mathbb{N}\\right)$"
      ],
      "text/plain": [
       "forall_{a in RealsPos} (FLOOR(a) in Naturals)"
      ]
     },
     "execution_count": 52,
     "metadata": {},
     "output_type": "execute_result"
    }
   ],
   "source": [
    "floorNatClosure = Forall(a, In(Floor(a), Naturals), domain=RealsPos)\n",
    "floorNatClosure"
   ]
  },
  {
   "cell_type": "code",
   "execution_count": 53,
   "metadata": {
    "collapsed": false
   },
   "outputs": [
    {
     "data": {
      "text/latex": [
       "$\\forall_{a, b \\in \\mathbb{R}} \\left(\\left(a ~\\rm{mod}~ b\\right) \\in \\mathbb{R}\\right)$"
      ],
      "text/plain": [
       "forall_{a, b in Reals} ((a mod b) in Reals)"
      ]
     },
     "execution_count": 53,
     "metadata": {},
     "output_type": "execute_result"
    }
   ],
   "source": [
    "modClosure = Forall((a, b), In(Mod(a, b), Reals), domain=Reals)\n",
    "modClosure"
   ]
  },
  {
   "cell_type": "code",
   "execution_count": 54,
   "metadata": {
    "collapsed": false
   },
   "outputs": [
    {
     "data": {
      "text/latex": [
       "$\\forall_{a, b \\in \\mathbb{R}} \\left(\\left|a\\right|_{{\\rm mod}~b} \\in \\mathbb{R}\\right)$"
      ],
      "text/plain": [
       "forall_{a, b in Reals} (|a|_{mod b} in Reals)"
      ]
     },
     "execution_count": 54,
     "metadata": {},
     "output_type": "execute_result"
    }
   ],
   "source": [
    "modAbsClosure = Forall((a, b), In(ModAbs(a, b), Reals), domain=Reals)\n",
    "modAbsClosure"
   ]
  },
  {
   "cell_type": "code",
   "execution_count": 55,
   "metadata": {
    "collapsed": false
   },
   "outputs": [
    {
     "data": {
      "text/latex": [
       "$\\forall_{P, S} \\left(\\left[\\forall_{..x.. \\in S} \\left(P\\left(..x..\\right) \\in \\mathbb{R}\\right)\\right] \\Rightarrow \\left(\\left[\\sum_{..x.. \\in S} P\\left(..x..\\right)\\right] \\in \\mathbb{R}\\right)\\right)$"
      ],
      "text/plain": [
       "forall_{P, S} ([forall_{..x.. in S} (P(..x..) in Reals)] => ([Summation_{..x.. in S} P(..x..)] in Reals))"
      ]
     },
     "execution_count": 55,
     "metadata": {},
     "output_type": "execute_result"
    }
   ],
   "source": [
    "summationClosure = Forall([P, S], Implies(Forall(xEtc, In(PxEtc, Reals), domain=S), \n",
    "                                          In(Summation(xEtc, PxEtc, domain=S), Reals)))\n",
    "summationClosure"
   ]
  },
  {
   "cell_type": "code",
   "execution_count": 56,
   "metadata": {
    "collapsed": false
   },
   "outputs": [
    {
     "data": {
      "text/latex": [
       "$\\forall_{..a.., ..c.. \\in \\mathbb{R}^+} \\left[\\forall_{b \\in \\mathbb{R}} \\left(\\left(~.. + a + ..~ + b + ~.. + c + ..~\\right) > b\\right)\\right]$"
      ],
      "text/plain": [
       "forall_{..a.., ..c.. in RealsPos} [forall_{b in Reals} (( .. + a + ..  + b +  .. + c + .. ) > b)]"
      ]
     },
     "execution_count": 56,
     "metadata": {},
     "output_type": "execute_result"
    }
   ],
   "source": [
    "# One issue with this is that it only applies when |aEtc|+|bEtc| > 0.  This isn't an issue\n",
    "# for applying the theorem because there will be an error if b is left alone with Add, but\n",
    "# it will be an issue when deriving this.  Probably need to include |aEtc|+|bEtc| > 0 as a condition.\n",
    "strictlyIncreasingAdditions = Forall((aEtc, cEtc), Forall(b, GreaterThan(Add(aEtc, b, cEtc), b),\n",
    "                                                          domain=Reals),\n",
    "                                     domain=RealsPos)\n",
    "strictlyIncreasingAdditions"
   ]
  },
  {
   "cell_type": "code",
   "execution_count": 57,
   "metadata": {
    "collapsed": false
   },
   "outputs": [
    {
     "data": {
      "text/latex": [
       "$\\forall_{..a.., ..c.. \\in \\mathbb{R}^-} \\left[\\forall_{b \\in \\mathbb{R}} \\left(\\left(~.. + a + ..~ + b + ~.. + c + ..~\\right) < b\\right)\\right]$"
      ],
      "text/plain": [
       "forall_{..a.., ..c.. in RealsNeg} [forall_{b in Reals} (( .. + a + ..  + b +  .. + c + .. ) < b)]"
      ]
     },
     "execution_count": 57,
     "metadata": {},
     "output_type": "execute_result"
    }
   ],
   "source": [
    "# One issue with this is that it only applies when |aEtc|+|bEtc| > 0.  This isn't an issue\n",
    "# for applying the theorem because there will be an error if b is left alone with Add, but\n",
    "# it will be an issue when deriving this.  Probably need to include |aEtc|+|bEtc| > 0 as a condition.\n",
    "strictlyDecreasingAdditions = Forall((aEtc, cEtc), Forall(b, LessThan(Add(aEtc, b, cEtc), b),\n",
    "                                                          domain=Reals),\n",
    "                                     domain=RealsNeg)\n",
    "strictlyDecreasingAdditions"
   ]
  },
  {
   "cell_type": "code",
   "execution_count": 58,
   "metadata": {
    "collapsed": false
   },
   "outputs": [
    {
     "data": {
      "text/latex": [
       "$e \\in \\mathbb{R}^+$"
      ],
      "text/plain": [
       "e in RealsPos"
      ]
     },
     "execution_count": 58,
     "metadata": {},
     "output_type": "execute_result"
    }
   ],
   "source": [
    "eInRealsPos = In(e,RealsPos)\n",
    "eInRealsPos"
   ]
  },
  {
   "cell_type": "code",
   "execution_count": 59,
   "metadata": {
    "collapsed": false
   },
   "outputs": [
    {
     "data": {
      "text/latex": [
       "$e \\neq 0$"
      ],
      "text/plain": [
       "e != 0"
      ]
     },
     "execution_count": 59,
     "metadata": {},
     "output_type": "execute_result"
    }
   ],
   "source": [
    "eNotZero = NotEquals(e,zero)\n",
    "eNotZero"
   ]
  },
  {
   "cell_type": "code",
   "execution_count": 60,
   "metadata": {
    "collapsed": false
   },
   "outputs": [
    {
     "data": {
      "text/latex": [
       "$\\pi \\in \\mathbb{R}^+$"
      ],
      "text/plain": [
       "pi in RealsPos"
      ]
     },
     "execution_count": 60,
     "metadata": {},
     "output_type": "execute_result"
    }
   ],
   "source": [
    "piInRealsPos = In(pi,RealsPos)\n",
    "piInRealsPos"
   ]
  },
  {
   "cell_type": "code",
   "execution_count": 61,
   "metadata": {
    "collapsed": false
   },
   "outputs": [
    {
     "data": {
      "text/latex": [
       "$\\pi \\neq 0$"
      ],
      "text/plain": [
       "pi != 0"
      ]
     },
     "execution_count": 61,
     "metadata": {},
     "output_type": "execute_result"
    }
   ],
   "source": [
    "piNotZero = NotEquals(pi, zero)\n",
    "piNotZero"
   ]
  },
  {
   "cell_type": "code",
   "execution_count": 62,
   "metadata": {
    "collapsed": false
   },
   "outputs": [
    {
     "data": {
      "text/latex": [
       "$\\forall_{a, b, c \\in \\mathbb{R}} \\left(\\left(a \\cdot \\left|b\\right|_{{\\rm mod}~c}\\right) = \\left|\\left(a \\cdot b\\right)\\right|_{{\\rm mod}~\\left(a \\cdot c\\right)}\\right)$"
      ],
      "text/plain": [
       "forall_{a, b, c in Reals} ((a * |b|_{mod c}) = |(a * b)|_{mod (a * c)})"
      ]
     },
     "execution_count": 62,
     "metadata": {},
     "output_type": "execute_result"
    }
   ],
   "source": [
    "modAbsScaled = Forall((a, b, c), Equals(Multiply(a, ModAbs(b, c)), ModAbs(Multiply(a, b), Multiply(a, c))), domain=Reals)\n",
    "modAbsScaled"
   ]
  },
  {
   "cell_type": "code",
   "execution_count": 63,
   "metadata": {
    "collapsed": false
   },
   "outputs": [
    {
     "data": {
      "text/latex": [
       "$\\forall_{a, b, c \\in \\mathbb{R}~|~a \\leq c, b > 0} \\left(\\frac{a}{b} \\leq \\frac{c}{b}\\right)$"
      ],
      "text/plain": [
       "forall_{a, b, c in Reals | a <= c, b > 0} (a / b <= c / b)"
      ]
     },
     "execution_count": 63,
     "metadata": {},
     "output_type": "execute_result"
    }
   ],
   "source": [
    "divIneqThm1 = Forall([a,b,c],\n",
    "                    LessThanEquals(Fraction(a,b),Fraction(c,b)),\n",
    "                    domain=Reals,\n",
    "                    conditions=(LessThanEquals(a,c),GreaterThan(b,zero))\n",
    "                    )\n",
    "divIneqThm1"
   ]
  },
  {
   "cell_type": "code",
   "execution_count": 64,
   "metadata": {
    "collapsed": false
   },
   "outputs": [
    {
     "data": {
      "text/latex": [
       "$\\forall_{a, b, c \\in \\mathbb{R}~|~a \\leq c, b > 0} \\left(\\left(b \\cdot a\\right) \\leq \\left(b \\cdot c\\right)\\right)$"
      ],
      "text/plain": [
       "forall_{a, b, c in Reals | a <= c, b > 0} ((b * a) <= (b * c))"
      ]
     },
     "execution_count": 64,
     "metadata": {},
     "output_type": "execute_result"
    }
   ],
   "source": [
    "divIneqThm1cor = Forall([a,b,c],\n",
    "                    LessThanEquals(Multiply(b,a),Multiply(b,c)),\n",
    "                    domain=Reals,\n",
    "                    conditions=(LessThanEquals(a,c),GreaterThan(b,zero))\n",
    "                    )\n",
    "divIneqThm1cor"
   ]
  },
  {
   "cell_type": "code",
   "execution_count": 65,
   "metadata": {
    "collapsed": false
   },
   "outputs": [
    {
     "data": {
      "text/latex": [
       "$\\forall_{a, b, c \\in \\mathbb{R}~|~b \\geq c, a \\geq 0, b > 0, c > 0} \\left(\\frac{a}{b} \\leq \\frac{a}{c}\\right)$"
      ],
      "text/plain": [
       "forall_{a, b, c in Reals | b >= c, a >= 0, b > 0, c > 0} (a / b <= a / c)"
      ]
     },
     "execution_count": 65,
     "metadata": {},
     "output_type": "execute_result"
    }
   ],
   "source": [
    "divIneqThm2 = Forall([a,b,c],\n",
    "                    LessThanEquals(Fraction(a,b),Fraction(a,c)),\n",
    "                    domain=Reals,\n",
    "                    conditions=(\n",
    "                                GreaterThanEquals(b,c),\n",
    "                                GreaterThanEquals(a,zero),\n",
    "                                GreaterThan(b,zero),\n",
    "                                GreaterThan(c,zero)\n",
    "                                )\n",
    "                    )\n",
    "divIneqThm2"
   ]
  },
  {
   "cell_type": "code",
   "execution_count": 66,
   "metadata": {
    "collapsed": false
   },
   "outputs": [
    {
     "data": {
      "text/latex": [
       "$\\forall_{a, b \\in \\mathbb{R}~|~\\left|a\\right| \\leq b} \\left(\\left|a\\right|^{2} \\leq b^{2}\\right)$"
      ],
      "text/plain": [
       "forall_{a, b in Reals | |a| <= b} (|a|^(2) <= b^(2))"
      ]
     },
     "execution_count": 66,
     "metadata": {},
     "output_type": "execute_result"
    }
   ],
   "source": [
    "squarePosIneq = Forall([a,b],\n",
    "                        LessThanEquals(Exponentiate(Abs(a),two),Exponentiate(b,two)),\n",
    "                        domain = Reals,\n",
    "                        conditions = (LessThanEquals(Abs(a),b),))\n",
    "squarePosIneq"
   ]
  },
  {
   "cell_type": "code",
   "execution_count": 67,
   "metadata": {
    "collapsed": false
   },
   "outputs": [
    {
     "data": {
      "text/latex": [
       "$\\forall_{a \\in \\mathbb{R}} \\left(\\left|a\\right|^{2} = a^{2}\\right)$"
      ],
      "text/plain": [
       "forall_{a in Reals} (|a|^(2) = a^(2))"
      ]
     },
     "execution_count": 67,
     "metadata": {},
     "output_type": "execute_result"
    }
   ],
   "source": [
    "squarePosEq = Forall(a,\n",
    "                     Equals(Exponentiate(Abs(a),two),Exponentiate(a,two)),\n",
    "                     domain = Reals)\n",
    "squarePosEq"
   ]
  },
  {
   "cell_type": "code",
   "execution_count": 68,
   "metadata": {
    "collapsed": false
   },
   "outputs": [
    {
     "data": {
      "text/latex": [
       "$\\forall_{a \\in \\mathbb{R}^+} \\left(\\left|a\\right| = a\\right)$"
      ],
      "text/plain": [
       "forall_{a in RealsPos} (|a| = a)"
      ]
     },
     "execution_count": 68,
     "metadata": {},
     "output_type": "execute_result"
    }
   ],
   "source": [
    "absPos = Forall(a,\n",
    "               Equals(Abs(a),a),\n",
    "               domain = RealsPos)\n",
    "#               conditions = (GreaterThanEquals(a,zero)))\n",
    "absPos"
   ]
  },
  {
   "cell_type": "code",
   "execution_count": 69,
   "metadata": {
    "collapsed": false
   },
   "outputs": [
    {
     "data": {
      "text/latex": [
       "$\\left(2 \\cdot \\pi\\right) \\in \\mathbb{R}^+$"
      ],
      "text/plain": [
       "(2 * pi) in RealsPos"
      ]
     },
     "execution_count": 69,
     "metadata": {},
     "output_type": "execute_result"
    }
   ],
   "source": [
    "absTwoPi = In(Multiply(two,pi),RealsPos)\n",
    "absTwoPi"
   ]
  },
  {
   "cell_type": "code",
   "execution_count": 70,
   "metadata": {
    "collapsed": false
   },
   "outputs": [
    {
     "data": {
      "text/latex": [
       "$\\forall_{a, b, c \\in \\mathbb{R}~|~c > 0, a \\geq b} \\left(\\left(c \\cdot a\\right) \\geq \\left(c \\cdot b\\right)\\right)$"
      ],
      "text/plain": [
       "forall_{a, b, c in Reals | c > 0, a >= b} ((c * a) >= (c * b))"
      ]
     },
     "execution_count": 70,
     "metadata": {},
     "output_type": "execute_result"
    }
   ],
   "source": [
    "ineqThm5 = Forall([a,b,c],\n",
    "                  GreaterThanEquals(Multiply(c,a),Multiply(c,b)),\n",
    "                  domain = Reals,\n",
    "                  conditions = (GreaterThan(c,zero),GreaterThanEquals(a,b)))\n",
    "ineqThm5"
   ]
  },
  {
   "cell_type": "code",
   "execution_count": 71,
   "metadata": {
    "collapsed": false
   },
   "outputs": [
    {
     "data": {
      "text/latex": [
       "$\\forall_{a, b \\in \\mathbb{R}~|~b \\geq 0} \\left(\\left(a + b\\right) \\geq a\\right)$"
      ],
      "text/plain": [
       "forall_{a, b in Reals | b >= 0} ((a + b) >= a)"
      ]
     },
     "execution_count": 71,
     "metadata": {},
     "output_type": "execute_result"
    }
   ],
   "source": [
    "ineqThm6 = Forall([a,b],\n",
    "                  GreaterThanEquals(Add(a,b),a),\n",
    "                  domain = Reals,\n",
    "                  conditions = GreaterThanEquals(b,zero))\n",
    "ineqThm6"
   ]
  },
  {
   "cell_type": "code",
   "execution_count": 72,
   "metadata": {
    "collapsed": false
   },
   "outputs": [
    {
     "data": {
      "text/latex": [
       "$\\forall_{a, b \\in \\mathbb{R}~|~b \\leq 0} \\left(\\left(a + b\\right) \\leq a\\right)$"
      ],
      "text/plain": [
       "forall_{a, b in Reals | b <= 0} ((a + b) <= a)"
      ]
     },
     "execution_count": 72,
     "metadata": {},
     "output_type": "execute_result"
    }
   ],
   "source": [
    "ineqThm6a = Forall([a,b],\n",
    "                  LessThanEquals(Add(a,b),a),\n",
    "                  domain = Reals,\n",
    "                  conditions = LessThanEquals(b,zero))\n",
    "ineqThm6a"
   ]
  },
  {
   "cell_type": "code",
   "execution_count": 73,
   "metadata": {
    "collapsed": false
   },
   "outputs": [
    {
     "data": {
      "text/latex": [
       "$\\forall_{x, l \\in \\mathbb{R}~|~l \\leq 0, 0 \\leq x, x \\leq 1} \\left(\\frac{1}{\\left(l - x\\right)^{2}} \\leq \\frac{1}{l^{2}}\\right)$"
      ],
      "text/plain": [
       "forall_{x, l in Reals | l <= 0, 0 <= x, x <= 1} (1 / (l - x)^(2) <= 1 / l^(2))"
      ]
     },
     "execution_count": 73,
     "metadata": {},
     "output_type": "execute_result"
    }
   ],
   "source": [
    "ineqThm7 = Forall([x,l],\n",
    "                  LessThanEquals(\n",
    "                                Fraction(one,Exponentiate(Subtract(l,x),two)),\n",
    "                                Fraction(one,Exponentiate(l,two))\n",
    "                                ),\n",
    "                  domain = Reals,\n",
    "                  conditions = (LessThanEquals(l,zero),\n",
    "                                LessThanEquals(zero,x),\n",
    "                                LessThanEquals(x,one)))\n",
    "ineqThm7"
   ]
  },
  {
   "cell_type": "code",
   "execution_count": 74,
   "metadata": {
    "collapsed": false
   },
   "outputs": [
    {
     "data": {
      "text/latex": [
       "$\\forall_{x \\in \\mathbb{R}~|~0 \\leq x, x \\leq 1} \\left[\\forall_{a \\in \\mathbb{R}~|~a \\geq 0} \\left[\\forall_{l \\in \\mathbb{Z}~|~l \\leq 0} \\left(\\left(a \\cdot \\frac{1}{\\left(l - x\\right)^{2}}\\right) \\leq \\left(a \\cdot \\frac{1}{l^{2}}\\right)\\right)\\right]\\right]$"
      ],
      "text/plain": [
       "forall_{x in Reals | 0 <= x, x <= 1} [forall_{a in Reals | a >= 0} [forall_{l in Integers | l <= 0} ((a * 1 / (l - x)^(2)) <= (a * 1 / l^(2)))]]"
      ]
     },
     "execution_count": 74,
     "metadata": {},
     "output_type": "execute_result"
    }
   ],
   "source": [
    "ineqThm7a = Forall([x],\n",
    "                   Forall([a],\n",
    "                       Forall([l],\n",
    "                          LessThanEquals(\n",
    "                                        Multiply(a,Fraction(one,Exponentiate(Subtract(l,x),two))),\n",
    "                                        Multiply(a,Fraction(one,Exponentiate(l,two)))\n",
    "                                        ),\n",
    "                          domain=Integers,\n",
    "                          conditions = LessThanEquals(l,zero)),\n",
    "                        domain=Reals,\n",
    "                        conditions=GreaterThanEquals(a,zero)),                \n",
    "                   domain = Reals,\n",
    "                   conditions = (LessThanEquals(zero,x),\n",
    "                                 LessThanEquals(x,one)))\n",
    "ineqThm7a"
   ]
  },
  {
   "cell_type": "code",
   "execution_count": 75,
   "metadata": {
    "collapsed": false
   },
   "outputs": [
    {
     "data": {
      "text/latex": [
       "$\\forall_{x, l \\in \\mathbb{R}~|~l > 0, 0 \\leq x, x \\leq 1} \\left(\\frac{1}{\\left(l - x\\right)^{2}} \\leq \\frac{1}{\\left(l - 1\\right)^{2}}\\right)$"
      ],
      "text/plain": [
       "forall_{x, l in Reals | l > 0, 0 <= x, x <= 1} (1 / (l - x)^(2) <= 1 / (l - 1)^(2))"
      ]
     },
     "execution_count": 75,
     "metadata": {},
     "output_type": "execute_result"
    }
   ],
   "source": [
    "ineqThm8 = Forall([x,l],\n",
    "                  LessThanEquals(\n",
    "                                Fraction(one,Exponentiate(Subtract(l,x),two)),\n",
    "                                Fraction(one,Exponentiate(Subtract(l,one),two)),\n",
    "                                ),\n",
    "                  domain = Reals,\n",
    "                  conditions = (GreaterThan(l,zero),\n",
    "                                LessThanEquals(zero,x),\n",
    "                                LessThanEquals(x,one)))\n",
    "ineqThm8"
   ]
  },
  {
   "cell_type": "code",
   "execution_count": 76,
   "metadata": {
    "collapsed": false
   },
   "outputs": [
    {
     "data": {
      "text/latex": [
       "$\\forall_{x \\in \\mathbb{R}~|~0 \\leq x, x \\leq 1} \\left[\\forall_{a \\in \\mathbb{R}~|~a \\geq 0} \\left[\\forall_{l \\in \\mathbb{Z}~|~l > 0} \\left(\\left(a \\cdot \\frac{1}{\\left(l - x\\right)^{2}}\\right) \\leq \\left(a \\cdot \\frac{1}{\\left(l - 1\\right)^{2}}\\right)\\right)\\right]\\right]$"
      ],
      "text/plain": [
       "forall_{x in Reals | 0 <= x, x <= 1} [forall_{a in Reals | a >= 0} [forall_{l in Integers | l > 0} ((a * 1 / (l - x)^(2)) <= (a * 1 / (l - 1)^(2)))]]"
      ]
     },
     "execution_count": 76,
     "metadata": {},
     "output_type": "execute_result"
    }
   ],
   "source": [
    "ineqThm8a = Forall([x],\n",
    "                Forall([a],\n",
    "                   Forall([l],\n",
    "                              LessThanEquals(\n",
    "                                            Multiply(a,Fraction(one,Exponentiate(Subtract(l,x),two))),\n",
    "                                            Multiply(a,Fraction(one,Exponentiate(Subtract(l,one),two))),\n",
    "                                            ),\n",
    "                              domain = Integers,\n",
    "                              conditions = GreaterThan(l,zero)),\n",
    "                        domain=Reals,\n",
    "                        conditions=GreaterThanEquals(a,zero)),\n",
    "                   domain = Reals, \n",
    "                   conditions = (LessThanEquals(zero,x),\n",
    "                                LessThanEquals(x,one)))\n",
    "ineqThm8a"
   ]
  },
  {
   "cell_type": "code",
   "execution_count": 77,
   "metadata": {
    "collapsed": false
   },
   "outputs": [
    {
     "data": {
      "text/latex": [
       "$\\forall_{\\theta \\in \\mathbb{R}} \\left(\\left|\\left(1 - e^{i \\cdot \\theta}\\right)\\right| \\leq 2\\right)$"
      ],
      "text/plain": [
       "forall_{theta in Reals} (|(1 - e^(i * theta))| <= 2)"
      ]
     },
     "execution_count": 77,
     "metadata": {},
     "output_type": "execute_result"
    }
   ],
   "source": [
    "ineqThm9 = Forall(theta,LessThanEquals(Abs(Subtract(one,Exponentiate(e,Multiply(i,theta)))),two),domain = Reals)\n",
    "ineqThm9"
   ]
  },
  {
   "cell_type": "code",
   "execution_count": 78,
   "metadata": {
    "collapsed": false
   },
   "outputs": [
    {
     "data": {
      "text/latex": [
       "$\\forall_{w, x, y, z \\in \\mathbb{R}~|~w \\leq \\frac{x}{y}, y \\geq z, w > 0, x > 0, y > 0, z > 0} \\left(w \\leq \\frac{x}{z}\\right)$"
      ],
      "text/plain": [
       "forall_{w, x, y, z in Reals | w <= x / y, y >= z, w > 0, x > 0, y > 0, z > 0} (w <= x / z)"
      ]
     },
     "execution_count": 78,
     "metadata": {},
     "output_type": "execute_result"
    }
   ],
   "source": [
    "ineqThm10 =  Forall([w,x,y,z],LessThanEquals(w,Fraction(x,z)),\n",
    "                    domain = Reals,\n",
    "                    conditions = (LessThanEquals(w,Fraction(x,y)),\n",
    "                                  GreaterThanEquals(y,z),\n",
    "                                  GreaterThan(w,zero),\n",
    "                                  GreaterThan(x,zero),\n",
    "                                  GreaterThan(y,zero),\n",
    "                                  GreaterThan(z,zero)))\n",
    "ineqThm10"
   ]
  },
  {
   "cell_type": "code",
   "execution_count": 79,
   "metadata": {
    "collapsed": false
   },
   "outputs": [
    {
     "data": {
      "text/latex": [
       "$\\forall_{w, x, y, z \\in \\mathbb{R}~|~w \\leq \\frac{x}{y}, y \\geq z, w \\geq 0, x > 0, y > 0, z > 0} \\left(w \\leq \\frac{x}{z}\\right)$"
      ],
      "text/plain": [
       "forall_{w, x, y, z in Reals | w <= x / y, y >= z, w >= 0, x > 0, y > 0, z > 0} (w <= x / z)"
      ]
     },
     "execution_count": 79,
     "metadata": {},
     "output_type": "execute_result"
    }
   ],
   "source": [
    "ineqThm10a =  Forall([w,x,y,z],LessThanEquals(w,Fraction(x,z)),\n",
    "                    domain = Reals,\n",
    "                    conditions = (LessThanEquals(w,Fraction(x,y)),\n",
    "                                  GreaterThanEquals(y,z),\n",
    "                                  GreaterThanEquals(w,zero),\n",
    "                                  GreaterThan(x,zero),\n",
    "                                  GreaterThan(y,zero),\n",
    "                                  GreaterThan(z,zero)))\n",
    "ineqThm10a"
   ]
  },
  {
   "cell_type": "code",
   "execution_count": 80,
   "metadata": {
    "collapsed": false
   },
   "outputs": [
    {
     "data": {
      "text/latex": [
       "$\\forall_{S, f, g} \\left(\\left[\\forall_{x \\in S} \\left(f\\left(x\\right) \\leq g\\left(x\\right)\\right)\\right] \\Rightarrow \\left(\\left[\\sum_{x \\in S} f\\left(x\\right)\\right] \\leq \\left[\\sum_{x \\in S} g\\left(x\\right)\\right]\\right)\\right)$"
      ],
      "text/plain": [
       "forall_{S, f, g} ([forall_{x in S} (f(x) <= g(x))] => ([Summation_{x in S} f(x)] <= [Summation_{x in S} g(x)]))"
      ]
     },
     "execution_count": 80,
     "metadata": {},
     "output_type": "execute_result"
    }
   ],
   "source": [
    "boundedSum = Forall((S, f, g), Implies(Forall(x, LessThanEquals(fx, gx), domain=S), \n",
    "                                     LessThanEquals(Summation(x, fx, domain=S),\n",
    "                                               Summation(x, gx, domain=S))))\n",
    "boundedSum"
   ]
  },
  {
   "cell_type": "code",
   "execution_count": 81,
   "metadata": {
    "collapsed": false
   },
   "outputs": [
    {
     "data": {
      "text/latex": [
       "$\\forall_{a, b, c \\in \\mathbb{R}} \\left(\\left(\\left(a \\cdot b\\right) + \\left(a \\cdot c\\right)\\right) = \\left(a \\cdot \\left(b + c\\right)\\right)\\right)$"
      ],
      "text/plain": [
       "forall_{a, b, c in Reals} (((a * b) + (a * c)) = (a * (b + c)))"
      ]
     },
     "execution_count": 81,
     "metadata": {},
     "output_type": "execute_result"
    }
   ],
   "source": [
    "sumFactor_temp = Forall([a,b,c], Equals(Add(Multiply(a,b), Multiply(a,c)), Multiply(a, Add(b,c))), domain=Reals)\n",
    "sumFactor_temp"
   ]
  },
  {
   "cell_type": "code",
   "execution_count": 82,
   "metadata": {
    "collapsed": false
   },
   "outputs": [
    {
     "data": {
      "text/latex": [
       "$\\left(\\frac{1}{4} \\cdot 2\\right) = \\frac{1}{2}$"
      ],
      "text/plain": [
       "(1 / 4 * 2) = 1 / 2"
      ]
     },
     "execution_count": 82,
     "metadata": {},
     "output_type": "execute_result"
    }
   ],
   "source": [
    "simplifyQuarterTimesTwo = Equals(Multiply(Fraction(one,four), two), Fraction(one,two))\n",
    "simplifyQuarterTimesTwo"
   ]
  },
  {
   "cell_type": "code",
   "execution_count": 83,
   "metadata": {
    "collapsed": false
   },
   "outputs": [
    {
     "name": "stdout",
     "output_type": "stream",
     "text": [
      "Creating theorems *.dill and *.pv_it files in the __pv_it__ directory\n",
      "These theorems may be imported from proveit.number.real.theorems\n"
     ]
    }
   ],
   "source": [
    "%end_theorems"
   ]
  },
  {
   "cell_type": "code",
   "execution_count": null,
   "metadata": {
    "collapsed": true
   },
   "outputs": [],
   "source": []
  },
  {
   "cell_type": "code",
   "execution_count": null,
   "metadata": {
    "collapsed": true
   },
   "outputs": [],
   "source": []
  }
 ],
 "metadata": {
  "kernelspec": {
   "display_name": "Python 2",
   "language": "python",
   "name": "python2"
  },
  "language_info": {
   "codemirror_mode": {
    "name": "ipython",
    "version": 2
   },
   "file_extension": ".py",
   "mimetype": "text/x-python",
   "name": "python",
   "nbconvert_exporter": "python",
   "pygments_lexer": "ipython2",
   "version": "2.7.10"
  }
 },
 "nbformat": 4,
 "nbformat_minor": 0
}
