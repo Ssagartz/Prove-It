{
 "cells": [
  {
   "cell_type": "code",
   "execution_count": 1,
   "metadata": {
    "collapsed": false
   },
   "outputs": [],
   "source": [
    "import proveit.specialStatementMagic # for %begin_axioms and %end_axioms\n",
    "from proveit.basiclogic.set.setOps import In\n",
    "from proveit.basiclogic.boolean.boolOps import And, Iff\n",
    "from proveit.number.common import *\n",
    "from proveit.basiclogic import Forall, Exists, Equals, NotEquals\n",
    "from proveit.number.arithmeticOps import LessThan, LessThanEquals, GreaterThan, GreaterThanEquals, Fraction\n",
    "from proveit.number.arithmeticOps import Add, Subtract, Multiply, Divide, Fraction, Abs, Exponentiate, Neg\n",
    "from proveit.number.roundingOps import Round, Ceil, Floor\n",
    "from proveit.number.moduloOp import Mod"
   ]
  },
  {
   "cell_type": "code",
   "execution_count": 2,
   "metadata": {
    "collapsed": false
   },
   "outputs": [],
   "source": [
    "%begin_theorems"
   ]
  },
  {
   "cell_type": "code",
   "execution_count": 3,
   "metadata": {
    "collapsed": false
   },
   "outputs": [
    {
     "data": {
      "text/latex": [
       "$\\forall_{a \\in \\mathbb{R}} \\left(a \\in \\mathbb{C}\\right)$"
      ],
      "text/plain": [
       "forall_{a in Reals} (a in Complexes)"
      ]
     },
     "execution_count": 3,
     "metadata": {},
     "output_type": "execute_result"
    }
   ],
   "source": [
    "inComplexes = Forall(a,\n",
    "                    In(a,Complexes),\n",
    "                    domain = Reals)\n",
    "inComplexes"
   ]
  },
  {
   "cell_type": "code",
   "execution_count": 4,
   "metadata": {
    "collapsed": false
   },
   "outputs": [
    {
     "data": {
      "text/latex": [
       "$\\forall_{a \\in \\mathbb{R}^+} \\left(a \\in \\mathbb{R}\\right)$"
      ],
      "text/plain": [
       "forall_{a in RealsPos} (a in Reals)"
      ]
     },
     "execution_count": 4,
     "metadata": {},
     "output_type": "execute_result"
    }
   ],
   "source": [
    "inRealsPos_inComplexes = Forall(a,\n",
    "                    In(a,Reals),\n",
    "                    domain = RealsPos)\n",
    "inRealsPos_inComplexes"
   ]
  },
  {
   "cell_type": "code",
   "execution_count": 5,
   "metadata": {
    "collapsed": false
   },
   "outputs": [
    {
     "data": {
      "text/latex": [
       "$\\forall_{a \\in \\mathbb{R}^+} \\left(a \\in \\mathbb{C}\\right)$"
      ],
      "text/plain": [
       "forall_{a in RealsPos} (a in Complexes)"
      ]
     },
     "execution_count": 5,
     "metadata": {},
     "output_type": "execute_result"
    }
   ],
   "source": [
    "inRealsPos_inComplexes = Forall(a,\n",
    "                    In(a,Complexes),\n",
    "                    domain = RealsPos)\n",
    "inRealsPos_inComplexes"
   ]
  },
  {
   "cell_type": "code",
   "execution_count": 6,
   "metadata": {
    "collapsed": false
   },
   "outputs": [
    {
     "data": {
      "text/latex": [
       "$\\forall_{a \\in \\mathbb{R}} \\left(\\left(a \\in \\mathbb{R}^+\\right) \\Leftrightarrow \\left(a > 0\\right)\\right)$"
      ],
      "text/plain": [
       "forall_{a in Reals} ((a in RealsPos) <=> (a > 0))"
      ]
     },
     "execution_count": 6,
     "metadata": {},
     "output_type": "execute_result"
    }
   ],
   "source": [
    "inRealsPos_iff_positive = Forall(a, Iff(In(a, RealsPos), GreaterThan(a, zero)), domain=Reals)\n",
    "inRealsPos_iff_positive"
   ]
  },
  {
   "cell_type": "code",
   "execution_count": 7,
   "metadata": {
    "collapsed": false
   },
   "outputs": [
    {
     "data": {
      "text/latex": [
       "$\\forall_{..x.. \\in \\mathbb{R}} \\left(\\left(~.. + x + ..~\\right) \\in \\mathbb{R}\\right)$"
      ],
      "text/plain": [
       "forall_{..x.. in Reals} (( .. + x + .. ) in Reals)"
      ]
     },
     "execution_count": 7,
     "metadata": {},
     "output_type": "execute_result"
    }
   ],
   "source": [
    "addClosure = Forall([xEtc], In(Add(xEtc),Reals), domain=Reals)\n",
    "addClosure"
   ]
  },
  {
   "cell_type": "code",
   "execution_count": 8,
   "metadata": {
    "collapsed": false
   },
   "outputs": [
    {
     "data": {
      "text/latex": [
       "$\\forall_{a, b \\in \\mathbb{R}} \\left(\\left(a - b\\right) \\in \\mathbb{R}\\right)$"
      ],
      "text/plain": [
       "forall_{a, b in Reals} ((a - b) in Reals)"
      ]
     },
     "execution_count": 8,
     "metadata": {},
     "output_type": "execute_result"
    }
   ],
   "source": [
    "subtractClosure = Forall([a, b], In(Subtract(a, b), Reals), domain=Reals)\n",
    "subtractClosure"
   ]
  },
  {
   "cell_type": "code",
   "execution_count": 9,
   "metadata": {
    "collapsed": false
   },
   "outputs": [
    {
     "data": {
      "text/latex": [
       "$\\forall_{..x.. \\in \\mathbb{R}} \\left(\\left(~.. \\cdot x \\cdot ..~\\right) \\in \\mathbb{R}\\right)$"
      ],
      "text/plain": [
       "forall_{..x.. in Reals} (( .. * x * .. ) in Reals)"
      ]
     },
     "execution_count": 9,
     "metadata": {},
     "output_type": "execute_result"
    }
   ],
   "source": [
    "multClosure = Forall([xEtc], In(Multiply(xEtc),Reals), domain=Reals)\n",
    "multClosure"
   ]
  },
  {
   "cell_type": "code",
   "execution_count": 10,
   "metadata": {
    "collapsed": false
   },
   "outputs": [
    {
     "data": {
      "text/latex": [
       "$\\forall_{a, b \\in \\mathbb{R} | b \\neq 0} \\left(\\left(a \\div b\\right) \\in \\mathbb{R}\\right)$"
      ],
      "text/plain": [
       "forall_{a, b in Reals | b != 0} ((a / b) in Reals)"
      ]
     },
     "execution_count": 10,
     "metadata": {},
     "output_type": "execute_result"
    }
   ],
   "source": [
    "divideClosure = Forall([a, b], In(Divide(a, b), Reals), domain=Reals, conditions=[NotEquals(b, zero)])\n",
    "divideClosure       "
   ]
  },
  {
   "cell_type": "code",
   "execution_count": 11,
   "metadata": {
    "collapsed": false
   },
   "outputs": [
    {
     "data": {
      "text/latex": [
       "$\\forall_{a, b \\in \\mathbb{R} | b \\neq 0} \\left(\\frac{a}{b} \\in \\mathbb{R}\\right)$"
      ],
      "text/plain": [
       "forall_{a, b in Reals | b != 0} (a / b in Reals)"
      ]
     },
     "execution_count": 11,
     "metadata": {},
     "output_type": "execute_result"
    }
   ],
   "source": [
    "fractionClosure = Forall([a, b], In(Fraction(a, b), Reals), domain=Reals, conditions=[NotEquals(b, zero)])\n",
    "fractionClosure   "
   ]
  },
  {
   "cell_type": "code",
   "execution_count": 12,
   "metadata": {
    "collapsed": false
   },
   "outputs": [
    {
     "data": {
      "text/latex": [
       "$\\forall_{a, b \\in \\mathbb{R} | a > 0} \\left(a^{b} \\in \\mathbb{R}\\right)$"
      ],
      "text/plain": [
       "forall_{a, b in Reals | a > 0} (a^(b) in Reals)"
      ]
     },
     "execution_count": 12,
     "metadata": {},
     "output_type": "execute_result"
    }
   ],
   "source": [
    "powClosure = Forall([a, b], In(Exponentiate(a, b), Reals), domain=Reals, \n",
    "                    conditions=[GreaterThan(a, zero)])\n",
    "powClosure"
   ]
  },
  {
   "cell_type": "code",
   "execution_count": 13,
   "metadata": {
    "collapsed": false
   },
   "outputs": [
    {
     "data": {
      "text/latex": [
       "$\\forall_{a \\in \\mathbb{R}} \\left(\\left|a\\right| \\in \\mathbb{R}\\right)$"
      ],
      "text/plain": [
       "forall_{a in Reals} (|a| in Reals)"
      ]
     },
     "execution_count": 13,
     "metadata": {},
     "output_type": "execute_result"
    }
   ],
   "source": [
    "absClosure = Forall([a], In(Abs(a), Reals), domain=Reals)\n",
    "absClosure"
   ]
  },
  {
   "cell_type": "code",
   "execution_count": 14,
   "metadata": {
    "collapsed": false
   },
   "outputs": [
    {
     "data": {
      "text/latex": [
       "$\\forall_{a \\in \\mathbb{R}} \\left({\\rm Round}\\left(a\\right) \\in \\mathbb{Z}\\right)$"
      ],
      "text/plain": [
       "forall_{a in Reals} (Round(a) in Integers)"
      ]
     },
     "execution_count": 14,
     "metadata": {},
     "output_type": "execute_result"
    }
   ],
   "source": [
    "roundClosure = Forall(a, In(Round(a), Integers), domain=Reals)\n",
    "roundClosure"
   ]
  },
  {
   "cell_type": "code",
   "execution_count": 15,
   "metadata": {
    "collapsed": false
   },
   "outputs": [
    {
     "data": {
      "text/latex": [
       "$\\forall_{a \\in \\mathbb{R}} \\left(\\lceil a\\rceil \\in \\mathbb{Z}\\right)$"
      ],
      "text/plain": [
       "forall_{a in Reals} (FLOOR(a) in Integers)"
      ]
     },
     "execution_count": 15,
     "metadata": {},
     "output_type": "execute_result"
    }
   ],
   "source": [
    "ceilClosure = Forall(a, In(Ceil(a), Integers), domain=Reals)\n",
    "ceilClosure"
   ]
  },
  {
   "cell_type": "code",
   "execution_count": 16,
   "metadata": {
    "collapsed": false
   },
   "outputs": [
    {
     "data": {
      "text/latex": [
       "$\\forall_{a \\in \\mathbb{R}} \\left(\\lfloor a\\rfloor \\in \\mathbb{Z}\\right)$"
      ],
      "text/plain": [
       "forall_{a in Reals} (FLOOR(a) in Integers)"
      ]
     },
     "execution_count": 16,
     "metadata": {},
     "output_type": "execute_result"
    }
   ],
   "source": [
    "floorClosure = Forall(a, In(Floor(a), Integers), domain=Reals)\n",
    "floorClosure"
   ]
  },
  {
   "cell_type": "code",
   "execution_count": 17,
   "metadata": {
    "collapsed": false
   },
   "outputs": [
    {
     "data": {
      "text/latex": [
       "$\\forall_{a, b \\in \\mathbb{R}} \\left(\\left(a ~\\rm{mod}~ b\\right) \\in \\mathbb{R}\\right)$"
      ],
      "text/plain": [
       "forall_{a, b in Reals} ((a mod b) in Reals)"
      ]
     },
     "execution_count": 17,
     "metadata": {},
     "output_type": "execute_result"
    }
   ],
   "source": [
    "modClosure = Forall((a, b), In(Mod(a, b), Reals), domain=Reals)\n",
    "modClosure"
   ]
  },
  {
   "cell_type": "code",
   "execution_count": 18,
   "metadata": {
    "collapsed": false
   },
   "outputs": [
    {
     "data": {
      "text/latex": [
       "$e \\in \\mathbb{R}^+$"
      ],
      "text/plain": [
       "e in RealsPos"
      ]
     },
     "execution_count": 18,
     "metadata": {},
     "output_type": "execute_result"
    }
   ],
   "source": [
    "eInRealsPos = In(e,RealsPos)\n",
    "eInRealsPos"
   ]
  },
  {
   "cell_type": "code",
   "execution_count": 19,
   "metadata": {
    "collapsed": false
   },
   "outputs": [
    {
     "data": {
      "text/latex": [
       "$e \\neq 0$"
      ],
      "text/plain": [
       "e != 0"
      ]
     },
     "execution_count": 19,
     "metadata": {},
     "output_type": "execute_result"
    }
   ],
   "source": [
    "eNotZero = NotEquals(e,zero)\n",
    "eNotZero"
   ]
  },
  {
   "cell_type": "code",
   "execution_count": 20,
   "metadata": {
    "collapsed": false
   },
   "outputs": [
    {
     "data": {
      "text/latex": [
       "$e > 0$"
      ],
      "text/plain": [
       "e > 0"
      ]
     },
     "execution_count": 20,
     "metadata": {},
     "output_type": "execute_result"
    }
   ],
   "source": [
    "eIsPositive = GreaterThan(e, zero)\n",
    "eIsPositive"
   ]
  },
  {
   "cell_type": "code",
   "execution_count": 21,
   "metadata": {
    "collapsed": false
   },
   "outputs": [
    {
     "data": {
      "text/latex": [
       "$\\pi \\in \\mathbb{R}^+$"
      ],
      "text/plain": [
       "pi in RealsPos"
      ]
     },
     "execution_count": 21,
     "metadata": {},
     "output_type": "execute_result"
    }
   ],
   "source": [
    "piInRealsPos = In(pi,RealsPos)\n",
    "piInRealsPos"
   ]
  },
  {
   "cell_type": "code",
   "execution_count": 22,
   "metadata": {
    "collapsed": false
   },
   "outputs": [
    {
     "data": {
      "text/latex": [
       "$\\pi \\neq 0$"
      ],
      "text/plain": [
       "pi != 0"
      ]
     },
     "execution_count": 22,
     "metadata": {},
     "output_type": "execute_result"
    }
   ],
   "source": [
    "piNotZero = NotEquals(pi, zero)\n",
    "piNotZero"
   ]
  },
  {
   "cell_type": "code",
   "execution_count": 23,
   "metadata": {
    "collapsed": false
   },
   "outputs": [
    {
     "data": {
      "text/latex": [
       "$\\pi > 0$"
      ],
      "text/plain": [
       "pi > 0"
      ]
     },
     "execution_count": 23,
     "metadata": {},
     "output_type": "execute_result"
    }
   ],
   "source": [
    "piIsPositive = GreaterThan(pi, zero)\n",
    "piIsPositive"
   ]
  },
  {
   "cell_type": "code",
   "execution_count": 24,
   "metadata": {
    "collapsed": false
   },
   "outputs": [
    {
     "data": {
      "text/latex": [
       "$\\forall_{a, b, c \\in \\mathbb{R} | a \\leq c, b > 0} \\left(\\frac{a}{b} \\leq \\frac{c}{b}\\right)$"
      ],
      "text/plain": [
       "forall_{a, b, c in Reals | a <= c, b > 0} (a / b <= c / b)"
      ]
     },
     "execution_count": 24,
     "metadata": {},
     "output_type": "execute_result"
    }
   ],
   "source": [
    "divIneqThm1 = Forall([a,b,c],\n",
    "                    LessThanEquals(Fraction(a,b),Fraction(c,b)),\n",
    "                    domain=Reals,\n",
    "                    conditions=(LessThanEquals(a,c),GreaterThan(b,zero))\n",
    "                    )\n",
    "divIneqThm1"
   ]
  },
  {
   "cell_type": "code",
   "execution_count": 25,
   "metadata": {
    "collapsed": false
   },
   "outputs": [
    {
     "data": {
      "text/latex": [
       "$\\forall_{a, b, c \\in \\mathbb{R} | a \\leq c, b > 0} \\left(\\left(b \\cdot a\\right) \\leq \\left(b \\cdot c\\right)\\right)$"
      ],
      "text/plain": [
       "forall_{a, b, c in Reals | a <= c, b > 0} ((b * a) <= (b * c))"
      ]
     },
     "execution_count": 25,
     "metadata": {},
     "output_type": "execute_result"
    }
   ],
   "source": [
    "divIneqThm1cor = Forall([a,b,c],\n",
    "                    LessThanEquals(Multiply(b,a),Multiply(b,c)),\n",
    "                    domain=Reals,\n",
    "                    conditions=(LessThanEquals(a,c),GreaterThan(b,zero))\n",
    "                    )\n",
    "divIneqThm1cor"
   ]
  },
  {
   "cell_type": "code",
   "execution_count": 26,
   "metadata": {
    "collapsed": false
   },
   "outputs": [
    {
     "data": {
      "text/latex": [
       "$\\forall_{a, b, c \\in \\mathbb{R} | b \\geq c, a \\geq 0, b > 0, c > 0} \\left(\\frac{a}{b} \\leq \\frac{a}{c}\\right)$"
      ],
      "text/plain": [
       "forall_{a, b, c in Reals | b >= c, a >= 0, b > 0, c > 0} (a / b <= a / c)"
      ]
     },
     "execution_count": 26,
     "metadata": {},
     "output_type": "execute_result"
    }
   ],
   "source": [
    "divIneqThm2 = Forall([a,b,c],\n",
    "                    LessThanEquals(Fraction(a,b),Fraction(a,c)),\n",
    "                    domain=Reals,\n",
    "                    conditions=(\n",
    "                                GreaterThanEquals(b,c),\n",
    "                                GreaterThanEquals(a,zero),\n",
    "                                GreaterThan(b,zero),\n",
    "                                GreaterThan(c,zero)\n",
    "                                )\n",
    "                    )\n",
    "divIneqThm2"
   ]
  },
  {
   "cell_type": "code",
   "execution_count": 27,
   "metadata": {
    "collapsed": false
   },
   "outputs": [
    {
     "data": {
      "text/latex": [
       "$\\forall_{\\theta \\in \\mathbb{R} | \\left(-\\pi\\right) \\leq \\theta, \\theta \\leq \\pi} \\left(\\left|\\left(1 - e^{i \\cdot \\theta}\\right)\\right| \\geq \\frac{2 \\cdot \\left|\\theta\\right|}{\\pi}\\right)$"
      ],
      "text/plain": [
       "forall_{theta in Reals | (-pi) <= theta, theta <= pi} (|(1 - e^(i * theta))| >= (2 * |theta|) / pi)"
      ]
     },
     "execution_count": 27,
     "metadata": {},
     "output_type": "execute_result"
    }
   ],
   "source": [
    "ineqThm3 = Forall([theta],\n",
    "                   GreaterThanEquals(\n",
    "                            Abs(\n",
    "                                Subtract(\n",
    "                                        one, Exponentiate(\n",
    "                                                          e,\n",
    "                                                          Multiply(i,theta)\n",
    "                                                          )\n",
    "                                        )\n",
    "                                ),\n",
    "                                Fraction(\n",
    "                                        Multiply(\n",
    "                                                two, Abs(theta)\n",
    "                                                ),\n",
    "                                        pi\n",
    "                                        )\n",
    "                                ),\n",
    "                    domain = Reals,\n",
    "                    conditions = (LessThanEquals(Neg(pi),theta),\n",
    "                                  LessThanEquals(theta,pi))\n",
    "                    )\n",
    "ineqThm3"
   ]
  },
  {
   "cell_type": "code",
   "execution_count": 28,
   "metadata": {
    "collapsed": false
   },
   "outputs": [
    {
     "data": {
      "text/latex": [
       "$\\forall_{l, t, \\delta | l \\in \\mathbb{Z}, t \\in \\mathbb{N}, \\delta \\in \\mathbb{R}, \\left(-2^{t - 1}\\right) \\leq l, l \\leq 2^{t - 1}, 0 \\leq \\delta, \\delta \\leq 2^{-t}} \\left(\\left(\\left(-\\pi\\right) \\leq \\left(\\left(2 \\cdot \\pi\\right) \\cdot \\left(\\delta - \\frac{l}{2^{t}}\\right)\\right)\\right) \\land \\left(\\left(\\left(2 \\cdot \\pi\\right) \\cdot \\left(\\delta - \\frac{l}{2^{t}}\\right)\\right) < \\pi\\right)\\right)$"
      ],
      "text/plain": [
       "forall_{l, t, delta | l in Integers, t in Naturals, delta in Reals, (-2^(t - 1)) <= l, l <= 2^(t - 1), 0 <= delta, delta <= 2^(-t)} (((-pi) <= ((2 * pi) * (delta - l / 2^(t)))) and (((2 * pi) * (delta - l / 2^(t))) < pi))"
      ]
     },
     "execution_count": 28,
     "metadata": {},
     "output_type": "execute_result"
    }
   ],
   "source": [
    "ineqThm4 = Forall([l,t,delta], And(\n",
    "                                LessThanEquals(\n",
    "                                                Neg(pi),\n",
    "                                                Multiply(\n",
    "                                                    Multiply(two,pi),\n",
    "                                                    Subtract(delta,\n",
    "                                                    Fraction(\n",
    "                                                             l,\n",
    "                                                             Exponentiate(\n",
    "                                                                          two,\n",
    "                                                                          t\n",
    "                                                                          )\n",
    "                                                            )\n",
    "                                                            )\n",
    "                                                         )\n",
    "                                              ),\n",
    "                                LessThan(\n",
    "                                                Multiply(\n",
    "                                                    Multiply(two,pi),\n",
    "                                                    Subtract(delta,\n",
    "                                                    Fraction(\n",
    "                                                             l,\n",
    "                                                             Exponentiate(\n",
    "                                                                          two,\n",
    "                                                                          t\n",
    "                                                                          )\n",
    "                                                            )\n",
    "                                                            )\n",
    "                                                         ),\n",
    "                                                pi\n",
    "                                              )\n",
    "                            ),\n",
    "                    conditions = (\n",
    "                                  In(l,Integers),\n",
    "                                  In(t,Naturals),\n",
    "                                  In(delta,Reals),\n",
    "                                  LessThanEquals(\n",
    "                                           Neg(Exponentiate(two,Subtract(t,one))),\n",
    "                                           l),\n",
    "                                  LessThanEquals(\n",
    "                                            l,\n",
    "                                            Exponentiate(two,Subtract(t,one))\n",
    "                                                ),\n",
    "                                  LessThanEquals(zero,delta),\n",
    "                                  LessThanEquals(delta,Exponentiate(two,Neg(t)))\n",
    "                                  )\n",
    "                )\n",
    "ineqThm4"
   ]
  },
  {
   "cell_type": "code",
   "execution_count": 29,
   "metadata": {
    "collapsed": false
   },
   "outputs": [
    {
     "data": {
      "text/latex": [
       "$\\forall_{l, t, \\delta | l \\in \\mathbb{Z}, t \\in \\mathbb{N}, \\delta \\in \\mathbb{R}, \\left(-2^{t - 1}\\right) \\leq l, l \\leq 2^{t - 1}, 0 \\leq \\delta, \\delta \\leq 2^{-t}} \\left(\\left(-\\pi\\right) \\leq \\left(\\left(2 \\cdot \\pi\\right) \\cdot \\left(\\delta - \\frac{l}{2^{t}}\\right)\\right)\\right)$"
      ],
      "text/plain": [
       "forall_{l, t, delta | l in Integers, t in Naturals, delta in Reals, (-2^(t - 1)) <= l, l <= 2^(t - 1), 0 <= delta, delta <= 2^(-t)} ((-pi) <= ((2 * pi) * (delta - l / 2^(t))))"
      ]
     },
     "execution_count": 29,
     "metadata": {},
     "output_type": "execute_result"
    }
   ],
   "source": [
    "ineqThm4a = Forall([l,t,delta],\n",
    "                                LessThanEquals(\n",
    "                                                Neg(pi),\n",
    "                                                Multiply(\n",
    "                                                    Multiply(two,pi),\n",
    "                                                    Subtract(delta,\n",
    "                                                    Fraction(\n",
    "                                                             l,\n",
    "                                                             Exponentiate(\n",
    "                                                                          two,\n",
    "                                                                          t\n",
    "                                                                          )\n",
    "                                                            )\n",
    "                                                            )\n",
    "                                                         )\n",
    "                                              ),\n",
    "                    conditions = (\n",
    "                                  In(l,Integers),\n",
    "                                  In(t,Naturals),\n",
    "                                  In(delta,Reals),\n",
    "                                  LessThanEquals(\n",
    "                                           Neg(Exponentiate(two,Subtract(t,one))),\n",
    "                                           l),\n",
    "                                  LessThanEquals(\n",
    "                                            l,\n",
    "                                            Exponentiate(two,Subtract(t,one))\n",
    "                                                ),\n",
    "                                  LessThanEquals(zero,delta),\n",
    "                                  LessThanEquals(delta,Exponentiate(two,Neg(t)))\n",
    "                                  )\n",
    "                )\n",
    "ineqThm4a"
   ]
  },
  {
   "cell_type": "code",
   "execution_count": 30,
   "metadata": {
    "collapsed": false
   },
   "outputs": [
    {
     "data": {
      "text/latex": [
       "$\\forall_{l, t, \\delta | l \\in \\mathbb{Z}, t \\in \\mathbb{N}, \\delta \\in \\mathbb{R}, \\left(-2^{t - 1}\\right) \\leq l, l \\leq 2^{t - 1}, 0 \\leq \\delta, \\delta \\leq 2^{-t}} \\left(\\left(\\left(2 \\cdot \\pi\\right) \\cdot \\left(\\delta - \\frac{l}{2^{t}}\\right)\\right) < \\pi\\right)$"
      ],
      "text/plain": [
       "forall_{l, t, delta | l in Integers, t in Naturals, delta in Reals, (-2^(t - 1)) <= l, l <= 2^(t - 1), 0 <= delta, delta <= 2^(-t)} (((2 * pi) * (delta - l / 2^(t))) < pi)"
      ]
     },
     "execution_count": 30,
     "metadata": {},
     "output_type": "execute_result"
    }
   ],
   "source": [
    "ineqThm4b = Forall([l,t,delta],\n",
    "                                LessThan(\n",
    "                                                Multiply(\n",
    "                                                    Multiply(two,pi),\n",
    "                                                    Subtract(delta,\n",
    "                                                    Fraction(\n",
    "                                                             l,\n",
    "                                                             Exponentiate(\n",
    "                                                                          two,\n",
    "                                                                          t\n",
    "                                                                          )\n",
    "                                                            )\n",
    "                                                            )\n",
    "                                                         ),\n",
    "                                                pi\n",
    "                                              ),\n",
    "                   conditions = (\n",
    "                                  In(l,Integers),\n",
    "                                  In(t,Naturals),\n",
    "                                  In(delta,Reals),\n",
    "                                  LessThanEquals(\n",
    "                                           Neg(Exponentiate(two,Subtract(t,one))),\n",
    "                                           l),\n",
    "                                  LessThanEquals(\n",
    "                                            l,\n",
    "                                            Exponentiate(two,Subtract(t,one))\n",
    "                                                ),\n",
    "                                  LessThanEquals(zero,delta),\n",
    "                                  LessThanEquals(delta,Exponentiate(two,Neg(t)))\n",
    "                                  )\n",
    "                )\n",
    "ineqThm4b"
   ]
  },
  {
   "cell_type": "code",
   "execution_count": 31,
   "metadata": {
    "collapsed": false
   },
   "outputs": [
    {
     "data": {
      "text/latex": [
       "$\\forall_{a, b \\in \\mathbb{R} | \\left|a\\right| \\leq b} \\left(\\left|a\\right|^{2} \\leq b^{2}\\right)$"
      ],
      "text/plain": [
       "forall_{a, b in Reals | |a| <= b} (|a|^(2) <= b^(2))"
      ]
     },
     "execution_count": 31,
     "metadata": {},
     "output_type": "execute_result"
    }
   ],
   "source": [
    "squarePosIneq = Forall([a,b],\n",
    "                        LessThanEquals(Exponentiate(Abs(a),two),Exponentiate(b,two)),\n",
    "                        domain = Reals,\n",
    "                        conditions = (LessThanEquals(Abs(a),b),))\n",
    "squarePosIneq"
   ]
  },
  {
   "cell_type": "code",
   "execution_count": 32,
   "metadata": {
    "collapsed": false
   },
   "outputs": [
    {
     "data": {
      "text/latex": [
       "$\\forall_{a \\in \\mathbb{R}} \\left(\\left|a\\right|^{2} = a^{2}\\right)$"
      ],
      "text/plain": [
       "forall_{a in Reals} (|a|^(2) = a^(2))"
      ]
     },
     "execution_count": 32,
     "metadata": {},
     "output_type": "execute_result"
    }
   ],
   "source": [
    "squarePosEq = Forall(a,\n",
    "                     Equals(Exponentiate(Abs(a),two),Exponentiate(a,two)),\n",
    "                     domain = Reals)\n",
    "squarePosEq"
   ]
  },
  {
   "cell_type": "code",
   "execution_count": 33,
   "metadata": {
    "collapsed": false
   },
   "outputs": [
    {
     "data": {
      "text/latex": [
       "$\\forall_{a \\in \\mathbb{R}^+} \\left(\\left|a\\right| = a\\right)$"
      ],
      "text/plain": [
       "forall_{a in RealsPos} (|a| = a)"
      ]
     },
     "execution_count": 33,
     "metadata": {},
     "output_type": "execute_result"
    }
   ],
   "source": [
    "absPos = Forall(a,\n",
    "               Equals(Abs(a),a),\n",
    "               domain = RealsPos)\n",
    "#               conditions = (GreaterThanEquals(a,zero)))\n",
    "absPos"
   ]
  },
  {
   "cell_type": "code",
   "execution_count": 34,
   "metadata": {
    "collapsed": false
   },
   "outputs": [
    {
     "data": {
      "text/latex": [
       "$\\left(2 \\cdot \\pi\\right) \\in \\mathbb{R}^+$"
      ],
      "text/plain": [
       "(2 * pi) in RealsPos"
      ]
     },
     "execution_count": 34,
     "metadata": {},
     "output_type": "execute_result"
    }
   ],
   "source": [
    "absTwoPi = In(Multiply(two,pi),RealsPos)\n",
    "absTwoPi"
   ]
  },
  {
   "cell_type": "code",
   "execution_count": 35,
   "metadata": {
    "collapsed": false
   },
   "outputs": [
    {
     "data": {
      "text/latex": [
       "$\\forall_{a, b, c \\in \\mathbb{R} | c > 0, a \\geq b} \\left(\\left(c \\cdot a\\right) \\geq \\left(c \\cdot b\\right)\\right)$"
      ],
      "text/plain": [
       "forall_{a, b, c in Reals | c > 0, a >= b} ((c * a) >= (c * b))"
      ]
     },
     "execution_count": 35,
     "metadata": {},
     "output_type": "execute_result"
    }
   ],
   "source": [
    "ineqThm5 = Forall([a,b,c],\n",
    "                  GreaterThanEquals(Multiply(c,a),Multiply(c,b)),\n",
    "                  domain = Reals,\n",
    "                  conditions = (GreaterThan(c,zero),GreaterThanEquals(a,b)))\n",
    "ineqThm5"
   ]
  },
  {
   "cell_type": "code",
   "execution_count": 36,
   "metadata": {
    "collapsed": false
   },
   "outputs": [
    {
     "data": {
      "text/latex": [
       "$\\forall_{a, b \\in \\mathbb{R} | b \\geq 0} \\left(\\left(a + b\\right) \\geq a\\right)$"
      ],
      "text/plain": [
       "forall_{a, b in Reals | b >= 0} ((a + b) >= a)"
      ]
     },
     "execution_count": 36,
     "metadata": {},
     "output_type": "execute_result"
    }
   ],
   "source": [
    "ineqThm6 = Forall([a,b],\n",
    "                  GreaterThanEquals(Add(a,b),a),\n",
    "                  domain = Reals,\n",
    "                  conditions = GreaterThanEquals(b,zero))\n",
    "ineqThm6"
   ]
  },
  {
   "cell_type": "code",
   "execution_count": 37,
   "metadata": {
    "collapsed": false
   },
   "outputs": [
    {
     "data": {
      "text/latex": [
       "$\\forall_{x, l \\in \\mathbb{R} | l \\leq 0, 0 \\leq x, x \\leq 1} \\left(\\frac{1}{\\left(l - x\\right)^{2}} \\leq \\frac{1}{l^{2}}\\right)$"
      ],
      "text/plain": [
       "forall_{x, l in Reals | l <= 0, 0 <= x, x <= 1} (1 / (l - x)^(2) <= 1 / l^(2))"
      ]
     },
     "execution_count": 37,
     "metadata": {},
     "output_type": "execute_result"
    }
   ],
   "source": [
    "ineqThm7 = Forall([x,l],\n",
    "                  LessThanEquals(\n",
    "                                Fraction(one,Exponentiate(Subtract(l,x),two)),\n",
    "                                Fraction(one,Exponentiate(l,two))\n",
    "                                ),\n",
    "                  domain = Reals,\n",
    "                  conditions = (LessThanEquals(l,zero),\n",
    "                                LessThanEquals(zero,x),\n",
    "                                LessThanEquals(x,one)))\n",
    "ineqThm7"
   ]
  },
  {
   "cell_type": "code",
   "execution_count": 38,
   "metadata": {
    "collapsed": false
   },
   "outputs": [
    {
     "data": {
      "text/latex": [
       "$\\forall_{x, l \\in \\mathbb{R} | l > 0, 0 \\leq x, x \\leq 1} \\left(\\frac{1}{\\left(l - x\\right)^{2}} \\leq \\frac{1}{\\left(l - 1\\right)^{2}}\\right)$"
      ],
      "text/plain": [
       "forall_{x, l in Reals | l > 0, 0 <= x, x <= 1} (1 / (l - x)^(2) <= 1 / (l - 1)^(2))"
      ]
     },
     "execution_count": 38,
     "metadata": {},
     "output_type": "execute_result"
    }
   ],
   "source": [
    "ineqThm8 = Forall([x,l],\n",
    "                  LessThanEquals(\n",
    "                                Fraction(one,Exponentiate(Subtract(l,x),two)),\n",
    "                                Fraction(one,Exponentiate(Subtract(l,one),two)),\n",
    "                                ),\n",
    "                  domain = Reals,\n",
    "                  conditions = (GreaterThan(l,zero),\n",
    "                                LessThanEquals(zero,x),\n",
    "                                LessThanEquals(x,one)))\n",
    "ineqThm8"
   ]
  },
  {
   "cell_type": "code",
   "execution_count": 39,
   "metadata": {
    "collapsed": false
   },
   "outputs": [
    {
     "data": {
      "text/latex": [
       "$\\forall_{\\theta \\in \\mathbb{R}} \\left(\\left|\\left(1 - e^{i \\cdot \\theta}\\right)\\right| \\leq 2\\right)$"
      ],
      "text/plain": [
       "forall_{theta in Reals} (|(1 - e^(i * theta))| <= 2)"
      ]
     },
     "execution_count": 39,
     "metadata": {},
     "output_type": "execute_result"
    }
   ],
   "source": [
    "ineqThm9 = Forall(theta,LessThanEquals(Abs(Subtract(one,Exponentiate(e,Multiply(i,theta)))),two),domain = Reals)\n",
    "ineqThm9"
   ]
  },
  {
   "cell_type": "code",
   "execution_count": 40,
   "metadata": {
    "collapsed": false
   },
   "outputs": [
    {
     "data": {
      "text/latex": [
       "$\\forall_{w, x, y, z \\in \\mathbb{R} | w \\leq \\frac{x}{y}, y \\geq z, w > 0, x > 0, y > 0, z > 0} \\left(w \\leq \\frac{x}{z}\\right)$"
      ],
      "text/plain": [
       "forall_{w, x, y, z in Reals | w <= x / y, y >= z, w > 0, x > 0, y > 0, z > 0} (w <= x / z)"
      ]
     },
     "execution_count": 40,
     "metadata": {},
     "output_type": "execute_result"
    }
   ],
   "source": [
    "ineqThm10 =  Forall([w,x,y,z],LessThanEquals(w,Fraction(x,z)),\n",
    "                    domain = Reals,\n",
    "                    conditions = (LessThanEquals(w,Fraction(x,y)),\n",
    "                                  GreaterThanEquals(y,z),\n",
    "                                  GreaterThan(w,zero),\n",
    "                                  GreaterThan(x,zero),\n",
    "                                  GreaterThan(y,zero),\n",
    "                                  GreaterThan(z,zero)))\n",
    "ineqThm10"
   ]
  },
  {
   "cell_type": "code",
   "execution_count": 41,
   "metadata": {
    "collapsed": false
   },
   "outputs": [
    {
     "data": {
      "text/latex": [
       "$\\forall_{x, y \\in \\mathbb{R} | x > 0, y > 0} \\left(\\left(x \\cdot y\\right) > 0\\right)$"
      ],
      "text/plain": [
       "forall_{x, y in Reals | x > 0, y > 0} ((x * y) > 0)"
      ]
     },
     "execution_count": 41,
     "metadata": {},
     "output_type": "execute_result"
    }
   ],
   "source": [
    "posProd = Forall([x,y],GreaterThan(Multiply(x,y),zero),domain = Reals, conditions = (GreaterThan(x,zero),GreaterThan(y,zero)))\n",
    "posProd"
   ]
  },
  {
   "cell_type": "code",
   "execution_count": 42,
   "metadata": {
    "collapsed": false
   },
   "outputs": [
    {
     "data": {
      "text/latex": [
       "$\\forall_{x, y \\in \\mathbb{R} | x > 0} \\left(x^{y} > 0\\right)$"
      ],
      "text/plain": [
       "forall_{x, y in Reals | x > 0} (x^(y) > 0)"
      ]
     },
     "execution_count": 42,
     "metadata": {},
     "output_type": "execute_result"
    }
   ],
   "source": [
    "posOfExps = Forall([x,y],GreaterThan(Exponentiate(x,y),zero),domain = Reals, conditions = (GreaterThan(x,zero),))\n",
    "posOfExps"
   ]
  },
  {
   "cell_type": "code",
   "execution_count": 43,
   "metadata": {
    "collapsed": false
   },
   "outputs": [
    {
     "name": "stdout",
     "output_type": "stream",
     "text": [
      "Creating theorems *.dill and *.pv_it files in the __pv_it__ directory\n",
      "These theorems may be imported from proveit.number.real.theorems\n"
     ]
    }
   ],
   "source": [
    "%end_theorems"
   ]
  },
  {
   "cell_type": "code",
   "execution_count": null,
   "metadata": {
    "collapsed": true
   },
   "outputs": [],
   "source": []
  },
  {
   "cell_type": "code",
   "execution_count": null,
   "metadata": {
    "collapsed": true
   },
   "outputs": [],
   "source": []
  }
 ],
 "metadata": {
  "kernelspec": {
   "display_name": "Python 2",
   "language": "python",
   "name": "python2"
  },
  "language_info": {
   "codemirror_mode": {
    "name": "ipython",
    "version": 2
   },
   "file_extension": ".py",
   "mimetype": "text/x-python",
   "name": "python",
   "nbconvert_exporter": "python",
   "pygments_lexer": "ipython2",
   "version": "2.7.10"
  }
 },
 "nbformat": 4,
 "nbformat_minor": 0
}
