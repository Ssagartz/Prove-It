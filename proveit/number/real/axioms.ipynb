{
 "cells": [
  {
   "cell_type": "code",
   "execution_count": 1,
   "metadata": {
    "collapsed": false
   },
   "outputs": [],
   "source": [
    "import proveit.specialStatementMagic # for %begin_axioms and %end_axioms\n",
    "from proveit.basiclogic import Forall, Equals, In, And, Or\n",
    "from proveit.number import Subtract, Add, Mod, Multiply, Neg, IntervalCO,\\\n",
    "    LessThan, LessThanEquals, GreaterThan, GreaterThanEquals\n",
    "from proveit.number.numberSets import Reals, Integers\n",
    "from proveit.number import ModAbs, Min, Floor\n",
    "from proveit.number.common import zero, one\n",
    "from proveit.common import a, b, x, y\n",
    "from IPython.display import display"
   ]
  },
  {
   "cell_type": "code",
   "execution_count": 2,
   "metadata": {
    "collapsed": false
   },
   "outputs": [],
   "source": [
    "%begin_axioms"
   ]
  },
  {
   "cell_type": "code",
   "execution_count": 3,
   "metadata": {
    "collapsed": false
   },
   "outputs": [
    {
     "data": {
      "text/plain": [
       "$\\left|a\\right|_{{\\rm mod}~b} = {\\rm Min}\\left( a ~\\rm{mod}~ b , \\left(-a\\right) ~\\rm{mod}~ b \\right)$"
      ]
     },
     "execution_count": 3,
     "metadata": {},
     "output_type": "execute_result"
    }
   ],
   "source": [
    "modAbsDef = Equals(ModAbs(a, b), Min(Mod(a, b), Mod(Neg(a), b)))\n",
    "modAbsDef"
   ]
  },
  {
   "cell_type": "code",
   "execution_count": 4,
   "metadata": {
    "collapsed": false
   },
   "outputs": [
    {
     "data": {
      "text/plain": [
       "$\\forall_{ x  \\in \\mathbb{R}} \\left( \\left(\\lfloor x\\rfloor \\in \\mathbb{Z}\\right) \\land \\left(\\left(x - \\lfloor x\\rfloor\\right) \\in \\left[0,1\\right)\\right) \\right)$"
      ]
     },
     "execution_count": 4,
     "metadata": {},
     "output_type": "execute_result"
    }
   ],
   "source": [
    "floorDef = Forall(x, And(In(Floor(x), Integers), In(Subtract(x, Floor(x)), IntervalCO(zero, one))), domain=Reals)\n",
    "floorDef"
   ]
  },
  {
   "cell_type": "code",
   "execution_count": 5,
   "metadata": {
    "collapsed": false
   },
   "outputs": [
    {
     "data": {
      "text/plain": [
       "$\\forall_{ x , y  \\in \\mathbb{R}~|~ \\left(x \\leq y\\right) } \\left( \\left(x < y\\right) \\lor \\left(x = y\\right) \\right)$"
      ]
     },
     "execution_count": 5,
     "metadata": {},
     "output_type": "execute_result"
    }
   ],
   "source": [
    "lessThanEqualsDef = Forall([x, y], Or(LessThan(x, y), Equals(x, y)), domain=Reals, conditions=LessThanEquals(x, y))\n",
    "lessThanEqualsDef"
   ]
  },
  {
   "cell_type": "code",
   "execution_count": 6,
   "metadata": {
    "collapsed": false
   },
   "outputs": [
    {
     "data": {
      "text/plain": [
       "$\\forall_{ x , y  \\in \\mathbb{R}~|~ \\left(x \\geq y\\right) } \\left( \\left(x > y\\right) \\lor \\left(x = y\\right) \\right)$"
      ]
     },
     "execution_count": 6,
     "metadata": {},
     "output_type": "execute_result"
    }
   ],
   "source": [
    "greaterThanEqualsDef = Forall([x, y], Or(GreaterThan(x, y), Equals(x, y)), domain=Reals, conditions=GreaterThanEquals(x, y))\n",
    "greaterThanEqualsDef"
   ]
  },
  {
   "cell_type": "code",
   "execution_count": 7,
   "metadata": {
    "collapsed": false
   },
   "outputs": [
    {
     "name": "stdout",
     "output_type": "stream",
     "text": [
      "Creating axioms *.dill and *.pv_it files in the __pv_it__ directory\n",
      "These axioms may be imported from proveit.number.real.axioms\n"
     ]
    }
   ],
   "source": [
    "%end_axioms"
   ]
  },
  {
   "cell_type": "code",
   "execution_count": null,
   "metadata": {
    "collapsed": true
   },
   "outputs": [],
   "source": []
  }
 ],
 "metadata": {
  "kernelspec": {
   "display_name": "Python 2",
   "language": "python",
   "name": "python2"
  },
  "language_info": {
   "codemirror_mode": {
    "name": "ipython",
    "version": 2
   },
   "file_extension": ".py",
   "mimetype": "text/x-python",
   "name": "python",
   "nbconvert_exporter": "python",
   "pygments_lexer": "ipython2",
   "version": "2.7.10"
  }
 },
 "nbformat": 4,
 "nbformat_minor": 0
}
