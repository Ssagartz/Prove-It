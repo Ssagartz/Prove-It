{
 "cells": [
  {
   "cell_type": "code",
   "execution_count": 40,
   "metadata": {
    "collapsed": false
   },
   "outputs": [],
   "source": [
    "from theorems import distributeThroughSum, distributeFractionThroughSum, distributeFractionThroughSubtract\n",
    "from proveit.basiclogic import In, NotEquals\n",
    "from proveit.number import *\n",
    "from proveit.number.common import Complexes, Integers, zero\n",
    "from proveit.common import *\n",
    "from IPython.display import display"
   ]
  },
  {
   "cell_type": "code",
   "execution_count": 41,
   "metadata": {
    "collapsed": false
   },
   "outputs": [
    {
     "data": {
      "text/latex": [
       "$ \\left( a + b \\right) \\cdot \\left(\\sum_{k=a}^{b} k\\right) \\cdot \\frac{a}{b} $"
      ],
      "text/plain": [
       "$ \\left( a + b \\right) \\cdot \\left(\\sum_{k=a}^{b} k\\right) \\cdot \\frac{a}{b} $"
      ]
     },
     "execution_count": 41,
     "metadata": {},
     "output_type": "execute_result"
    }
   ],
   "source": [
    "expr = Multiply(Add(a, b), Summation(k, k, DiscreteContiguousSet(a, b)), Fraction(a, b))\n",
    "expr"
   ]
  },
  {
   "cell_type": "code",
   "execution_count": 46,
   "metadata": {
    "collapsed": false
   },
   "outputs": [
    {
     "data": {
      "text/plain": [
       "{$b \\in \\mathbb{Z}$, $b \\neq 0$, $a \\in \\mathbb{Z}$}"
      ]
     },
     "execution_count": 46,
     "metadata": {},
     "output_type": "execute_result"
    }
   ],
   "source": [
    "assumptions = set([In(var, Integers) for var in [a, b]] + [NotEquals(b, zero)])\n",
    "assumptions"
   ]
  },
  {
   "cell_type": "code",
   "execution_count": 47,
   "metadata": {
    "collapsed": false
   },
   "outputs": [
    {
     "data": {
      "text/latex": [
       "$\\forall_{ k  \\in \\{a\\ldots b\\}} \\left(k \\in \\mathbb{Z}\\right)$"
      ],
      "text/plain": [
       "$\\forall_{ k  \\in \\{a\\ldots b\\}} \\left(k \\in \\mathbb{Z}\\right)$"
      ]
     },
     "execution_count": 47,
     "metadata": {},
     "output_type": "execute_result"
    }
   ],
   "source": [
    "DiscreteContiguousSet(a, b).deduceMemberInIntegers(k, assumptions).generalize(k, DiscreteContiguousSet(a, b))"
   ]
  },
  {
   "cell_type": "code",
   "execution_count": 48,
   "metadata": {
    "collapsed": false
   },
   "outputs": [
    {
     "data": {
      "text/latex": [
       "$\\left( \\left( a + b \\right) \\cdot \\left(\\sum_{k=a}^{b} k\\right) \\cdot \\frac{a}{b} \\right) = \\left( \\left( a \\cdot \\left(\\sum_{k=a}^{b} k\\right) \\cdot \\frac{a}{b} \\right) + \\left( b \\cdot \\left(\\sum_{k=a}^{b} k\\right) \\cdot \\frac{a}{b} \\right) \\right)$"
      ],
      "text/plain": [
       "$\\left( \\left( a + b \\right) \\cdot \\left(\\sum_{k=a}^{b} k\\right) \\cdot \\frac{a}{b} \\right) = \\left( \\left( a \\cdot \\left(\\sum_{k=a}^{b} k\\right) \\cdot \\frac{a}{b} \\right) + \\left( b \\cdot \\left(\\sum_{k=a}^{b} k\\right) \\cdot \\frac{a}{b} \\right) \\right)$"
      ]
     },
     "execution_count": 48,
     "metadata": {},
     "output_type": "execute_result"
    }
   ],
   "source": [
    "expr.distribute(0, assumptions)"
   ]
  },
  {
   "cell_type": "code",
   "execution_count": 49,
   "metadata": {
    "collapsed": false
   },
   "outputs": [
    {
     "data": {
      "text/latex": [
       "$\\left( \\left( a + b \\right) \\cdot \\left(\\sum_{k=a}^{b} k\\right) \\cdot \\frac{a}{b} \\right) = \\left(\\sum_{k=a}^{b} \\left( \\left( a + b \\right) \\cdot k \\cdot \\frac{a}{b} \\right)\\right)$"
      ],
      "text/plain": [
       "$\\left( \\left( a + b \\right) \\cdot \\left(\\sum_{k=a}^{b} k\\right) \\cdot \\frac{a}{b} \\right) = \\left(\\sum_{k=a}^{b} \\left( \\left( a + b \\right) \\cdot k \\cdot \\frac{a}{b} \\right)\\right)$"
      ]
     },
     "execution_count": 49,
     "metadata": {},
     "output_type": "execute_result"
    }
   ],
   "source": [
    "expr.distribute(1, assumptions)"
   ]
  },
  {
   "cell_type": "code",
   "execution_count": 50,
   "metadata": {
    "collapsed": false
   },
   "outputs": [
    {
     "data": {
      "text/latex": [
       "$\\left( \\left( a + b \\right) \\cdot \\left(\\sum_{k=a}^{b} k\\right) \\cdot \\frac{a}{b} \\right) = \\frac{ \\left( a + b \\right) \\cdot \\left(\\sum_{k=a}^{b} k\\right) \\cdot a }{b}$"
      ],
      "text/plain": [
       "$\\left( \\left( a + b \\right) \\cdot \\left(\\sum_{k=a}^{b} k\\right) \\cdot \\frac{a}{b} \\right) = \\frac{ \\left( a + b \\right) \\cdot \\left(\\sum_{k=a}^{b} k\\right) \\cdot a }{b}$"
      ]
     },
     "execution_count": 50,
     "metadata": {},
     "output_type": "execute_result"
    }
   ],
   "source": [
    "expr.distribute(2, assumptions)"
   ]
  },
  {
   "cell_type": "code",
   "execution_count": null,
   "metadata": {
    "collapsed": true
   },
   "outputs": [],
   "source": []
  },
  {
   "cell_type": "code",
   "execution_count": 6,
   "metadata": {
    "collapsed": false
   },
   "outputs": [
    {
     "data": {
      "text/latex": [
       "$\\forall_{~.., x_{\\Box} ,..., y_{\\Box} ,..., z_{\\Box} ,..~ \\in \\mathbb{C}} \\left(\\left(~..\\cdot x_{\\Box} \\cdot..~\\cdot \\left(~..+ y_{\\Box} +..~\\right) \\cdot~..\\cdot z_{\\Box} \\cdot..~\\right) = \\left(~..+ \\left(~..\\cdot x_{\\Box} \\cdot..~\\cdot y_{\\Box} \\cdot~..\\cdot z_{\\Box} \\cdot..~\\right) +..~\\right)\\right)$"
      ],
      "text/plain": [
       "$\\forall_{~.., x_{\\Box} ,..., y_{\\Box} ,..., z_{\\Box} ,..~ \\in \\mathbb{C}} \\left(\\left(~..\\cdot x_{\\Box} \\cdot..~\\cdot \\left(~..+ y_{\\Box} +..~\\right) \\cdot~..\\cdot z_{\\Box} \\cdot..~\\right) = \\left(~..+ \\left(~..\\cdot x_{\\Box} \\cdot..~\\cdot y_{\\Box} \\cdot~..\\cdot z_{\\Box} \\cdot..~\\right) +..~\\right)\\right)$"
      ]
     },
     "execution_count": 6,
     "metadata": {},
     "output_type": "execute_result"
    }
   ],
   "source": [
    "distributeThroughSum"
   ]
  },
  {
   "cell_type": "code",
   "execution_count": 7,
   "metadata": {
    "collapsed": false
   },
   "outputs": [
    {
     "data": {
      "text/latex": [
       "$\\left( a \\cdot b \\cdot c \\cdot \\left( d + f \\right) \\cdot g \\cdot h \\right) = \\left( \\left( a \\cdot b \\cdot c \\cdot d \\cdot g \\cdot h \\right) + \\left( a \\cdot b \\cdot c \\cdot f \\cdot g \\cdot h \\right) \\right)$"
      ],
      "text/plain": [
       "$\\left( a \\cdot b \\cdot c \\cdot \\left( d + f \\right) \\cdot g \\cdot h \\right) = \\left( \\left( a \\cdot b \\cdot c \\cdot d \\cdot g \\cdot h \\right) + \\left( a \\cdot b \\cdot c \\cdot f \\cdot g \\cdot h \\right) \\right)$"
      ]
     },
     "execution_count": 7,
     "metadata": {},
     "output_type": "execute_result"
    }
   ],
   "source": [
    "distributeThroughSum.specialize({xEtc:[a, b, c], yEtc:[d, f], zEtc:[g, h]})"
   ]
  },
  {
   "cell_type": "code",
   "execution_count": 8,
   "metadata": {
    "collapsed": false
   },
   "outputs": [
    {
     "data": {
      "text/latex": [
       "$\\forall_{~.., x_{\\Box} ,..~, y  \\in \\mathbb{C}~|~ \\left(y \\neq 0\\right) } \\left(\\frac{~..+ x_{\\Box} +..~}{y} = \\left(~..+ \\frac{x_{\\Box}}{y} +..~\\right)\\right)$"
      ],
      "text/plain": [
       "$\\forall_{~.., x_{\\Box} ,..~, y  \\in \\mathbb{C}~|~ \\left(y \\neq 0\\right) } \\left(\\frac{~..+ x_{\\Box} +..~}{y} = \\left(~..+ \\frac{x_{\\Box}}{y} +..~\\right)\\right)$"
      ]
     },
     "execution_count": 8,
     "metadata": {},
     "output_type": "execute_result"
    }
   ],
   "source": [
    "distributeFractionThroughSum"
   ]
  },
  {
   "cell_type": "code",
   "execution_count": 9,
   "metadata": {
    "collapsed": false
   },
   "outputs": [
    {
     "data": {
      "text/latex": [
       "$\\frac{ a + b + c }{d} = \\left( \\frac{a}{d} + \\frac{b}{d} + \\frac{c}{d} \\right)$"
      ],
      "text/plain": [
       "$\\frac{ a + b + c }{d} = \\left( \\frac{a}{d} + \\frac{b}{d} + \\frac{c}{d} \\right)$"
      ]
     },
     "execution_count": 9,
     "metadata": {},
     "output_type": "execute_result"
    }
   ],
   "source": [
    "distributeFractionThroughSum.specialize({xEtc:[a, b, c], y:d})"
   ]
  },
  {
   "cell_type": "code",
   "execution_count": 10,
   "metadata": {
    "collapsed": false
   },
   "outputs": [
    {
     "data": {
      "text/latex": [
       "$\\forall_{ x , y , z  \\in \\mathbb{C}~|~ \\left(z \\neq 0\\right) } \\left(\\frac{x - y}{z} = \\left(\\frac{x}{z} - \\frac{y}{z}\\right)\\right)$"
      ],
      "text/plain": [
       "$\\forall_{ x , y , z  \\in \\mathbb{C}~|~ \\left(z \\neq 0\\right) } \\left(\\frac{x - y}{z} = \\left(\\frac{x}{z} - \\frac{y}{z}\\right)\\right)$"
      ]
     },
     "execution_count": 10,
     "metadata": {},
     "output_type": "execute_result"
    }
   ],
   "source": [
    "distributeFractionThroughSubtract"
   ]
  },
  {
   "cell_type": "code",
   "execution_count": 11,
   "metadata": {
    "collapsed": false
   },
   "outputs": [
    {
     "data": {
      "text/latex": [
       "$\\frac{a - b}{c} = \\left(\\frac{a}{c} - \\frac{b}{c}\\right)$"
      ],
      "text/plain": [
       "$\\frac{a - b}{c} = \\left(\\frac{a}{c} - \\frac{b}{c}\\right)$"
      ]
     },
     "execution_count": 11,
     "metadata": {},
     "output_type": "execute_result"
    }
   ],
   "source": [
    "distributeFractionThroughSubtract.specialize({x:a, y:b, z:c})"
   ]
  },
  {
   "cell_type": "code",
   "execution_count": 12,
   "metadata": {
    "collapsed": false
   },
   "outputs": [],
   "source": [
    "assumptions = set([In(var, Complexes) for var in [c, d, x, y, z]])\n",
    "assumptions = assumptions | set([In(var, Integers) for var in [a, b]])"
   ]
  },
  {
   "cell_type": "code",
   "execution_count": 13,
   "metadata": {
    "collapsed": false
   },
   "outputs": [
    {
     "data": {
      "text/latex": [
       "$\\left( a \\cdot b \\cdot \\left( x + y + z \\right) \\cdot c \\cdot d \\right) = \\left( \\left( a \\cdot b \\cdot x \\cdot c \\cdot d \\right) + \\left( a \\cdot b \\cdot y \\cdot c \\cdot d \\right) + \\left( a \\cdot b \\cdot z \\cdot c \\cdot d \\right) \\right)$"
      ],
      "text/plain": [
       "$\\left( a \\cdot b \\cdot \\left( x + y + z \\right) \\cdot c \\cdot d \\right) = \\left( \\left( a \\cdot b \\cdot x \\cdot c \\cdot d \\right) + \\left( a \\cdot b \\cdot y \\cdot c \\cdot d \\right) + \\left( a \\cdot b \\cdot z \\cdot c \\cdot d \\right) \\right)$"
      ]
     },
     "execution_count": 13,
     "metadata": {},
     "output_type": "execute_result"
    }
   ],
   "source": [
    "Multiply(a, b, Add(x, y, z), c, d).distribute(2, assumptions=assumptions)"
   ]
  },
  {
   "cell_type": "code",
   "execution_count": 14,
   "metadata": {
    "collapsed": false
   },
   "outputs": [
    {
     "data": {
      "text/latex": [
       "$\\left( a \\cdot b \\cdot \\left(x - y\\right) \\cdot c \\cdot d \\right) = \\left(\\left( a \\cdot b \\cdot x \\cdot c \\cdot d \\right) - \\left( a \\cdot b \\cdot y \\cdot c \\cdot d \\right)\\right)$"
      ],
      "text/plain": [
       "$\\left( a \\cdot b \\cdot \\left(x - y\\right) \\cdot c \\cdot d \\right) = \\left(\\left( a \\cdot b \\cdot x \\cdot c \\cdot d \\right) - \\left( a \\cdot b \\cdot y \\cdot c \\cdot d \\right)\\right)$"
      ]
     },
     "execution_count": 14,
     "metadata": {},
     "output_type": "execute_result"
    }
   ],
   "source": [
    "Multiply(a, b, Subtract(x, y), c, d).distribute(2, assumptions=assumptions)"
   ]
  },
  {
   "cell_type": "code",
   "execution_count": 15,
   "metadata": {
    "collapsed": false
   },
   "outputs": [
    {
     "data": {
      "text/latex": [
       "$x \\in \\mathbb{Z}$"
      ],
      "text/plain": [
       "$x \\in \\mathbb{Z}$"
      ]
     },
     "metadata": {},
     "output_type": "display_data"
    },
    {
     "data": {
      "text/latex": [
       "$\\left(\\sum_{x=a}^{b} x\\right) \\in \\mathbb{C}$"
      ],
      "text/plain": [
       "$\\left(\\sum_{x=a}^{b} x\\right) \\in \\mathbb{C}$"
      ]
     },
     "metadata": {},
     "output_type": "display_data"
    }
   ],
   "source": [
    "from proveit.number.numberSets import deduceInComplexes\n",
    "xDomain = DiscreteContiguousSet(a, b)\n",
    "display(xDomain.deduceMemberInIntegers(x, assumptions).proven({In(x, xDomain)} | assumptions))\n",
    "expr = Summation(x, x, domain=xDomain)\n",
    "display(deduceInComplexes(expr, assumptions=assumptions))"
   ]
  },
  {
   "cell_type": "code",
   "execution_count": 16,
   "metadata": {
    "collapsed": false
   },
   "outputs": [
    {
     "data": {
      "text/latex": [
       "$\\forall_{ x  \\in \\{a\\ldots b\\}} \\left(x \\in \\mathbb{Z}\\right)$"
      ],
      "text/plain": [
       "$\\forall_{ x  \\in \\{a\\ldots b\\}} \\left(x \\in \\mathbb{Z}\\right)$"
      ]
     },
     "execution_count": 16,
     "metadata": {},
     "output_type": "execute_result"
    }
   ],
   "source": [
    "expr.domain.deduceMemberInIntegers(x, assumptions=assumptions).generalize(x, domain=expr.domain).proven(assumptions=assumptions)"
   ]
  },
  {
   "cell_type": "code",
   "execution_count": 17,
   "metadata": {
    "collapsed": false
   },
   "outputs": [
    {
     "data": {
      "text/latex": [
       "$\\left( z \\cdot y \\cdot \\left(\\sum_{x=a}^{b} x\\right) \\cdot z \\cdot y \\right) = \\left(\\sum_{x=a}^{b} \\left( z \\cdot y \\cdot x \\cdot z \\cdot y \\right)\\right)$"
      ],
      "text/plain": [
       "$\\left( z \\cdot y \\cdot \\left(\\sum_{x=a}^{b} x\\right) \\cdot z \\cdot y \\right) = \\left(\\sum_{x=a}^{b} \\left( z \\cdot y \\cdot x \\cdot z \\cdot y \\right)\\right)$"
      ]
     },
     "execution_count": 17,
     "metadata": {},
     "output_type": "execute_result"
    }
   ],
   "source": [
    "Multiply(z, y, Summation(x, x, domain=DiscreteContiguousSet(a, b)), z, y).distribute(2, assumptions=assumptions)"
   ]
  },
  {
   "cell_type": "code",
   "execution_count": 18,
   "metadata": {
    "collapsed": false
   },
   "outputs": [
    {
     "data": {
      "text/latex": [
       "$\\frac{ a + b + c }{d} = \\left( \\frac{a}{d} + \\frac{b}{d} + \\frac{c}{d} \\right)$"
      ],
      "text/plain": [
       "$\\frac{ a + b + c }{d} = \\left( \\frac{a}{d} + \\frac{b}{d} + \\frac{c}{d} \\right)$"
      ]
     },
     "execution_count": 18,
     "metadata": {},
     "output_type": "execute_result"
    }
   ],
   "source": [
    "Fraction(Add(a, b, c), d).distribute(assumptions=assumptions)"
   ]
  },
  {
   "cell_type": "code",
   "execution_count": 19,
   "metadata": {
    "collapsed": false
   },
   "outputs": [
    {
     "data": {
      "text/latex": [
       "$\\frac{a - b}{d} = \\left(\\frac{a}{d} - \\frac{b}{d}\\right)$"
      ],
      "text/plain": [
       "$\\frac{a - b}{d} = \\left(\\frac{a}{d} - \\frac{b}{d}\\right)$"
      ]
     },
     "execution_count": 19,
     "metadata": {},
     "output_type": "execute_result"
    }
   ],
   "source": [
    "Fraction(Subtract(a, b), d).distribute(assumptions=assumptions)"
   ]
  },
  {
   "cell_type": "code",
   "execution_count": 20,
   "metadata": {
    "collapsed": false
   },
   "outputs": [
    {
     "data": {
      "text/latex": [
       "$\\frac{\\sum_{x=y}^{z} P\\left( x \\right)}{d} = \\left(\\sum_{x=y}^{z} \\frac{P\\left( x \\right)}{d}\\right)$"
      ],
      "text/plain": [
       "$\\frac{\\sum_{x=y}^{z} P\\left( x \\right)}{d} = \\left(\\sum_{x=y}^{z} \\frac{P\\left( x \\right)}{d}\\right)$"
      ]
     },
     "execution_count": 20,
     "metadata": {},
     "output_type": "execute_result"
    }
   ],
   "source": [
    "Fraction(Summation(x, Px, DiscreteContiguousSet(y, z)), d).distribute(assumptions=assumptions)"
   ]
  },
  {
   "cell_type": "code",
   "execution_count": 21,
   "metadata": {
    "collapsed": false
   },
   "outputs": [
    {
     "data": {
      "text/plain": [
       "{$a \\in \\mathbb{Z}$,\n",
       " $d \\in \\mathbb{C}$,\n",
       " $c \\in \\mathbb{C}$,\n",
       " $x \\in \\mathbb{C}$,\n",
       " $y \\in \\mathbb{C}$,\n",
       " $z \\in \\mathbb{C}$,\n",
       " $b \\in \\mathbb{Z}$}"
      ]
     },
     "execution_count": 21,
     "metadata": {},
     "output_type": "execute_result"
    }
   ],
   "source": [
    "assumptions"
   ]
  },
  {
   "cell_type": "code",
   "execution_count": null,
   "metadata": {
    "collapsed": true
   },
   "outputs": [],
   "source": []
  }
 ],
 "metadata": {
  "kernelspec": {
   "display_name": "Python 2",
   "language": "python",
   "name": "python2"
  },
  "language_info": {
   "codemirror_mode": {
    "name": "ipython",
    "version": 2
   },
   "file_extension": ".py",
   "mimetype": "text/x-python",
   "name": "python",
   "nbconvert_exporter": "python",
   "pygments_lexer": "ipython2",
   "version": "2.7.10"
  }
 },
 "nbformat": 4,
 "nbformat_minor": 0
}
