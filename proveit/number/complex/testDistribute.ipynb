{
 "cells": [
  {
   "cell_type": "code",
   "execution_count": 1,
   "metadata": {
    "collapsed": false
   },
   "outputs": [],
   "source": [
    "from theorems import distributeThroughSum, distributeFractionThroughSum, distributeFractionThroughSubtract\n",
    "from proveit.basiclogic import In\n",
    "from proveit.number import *\n",
    "from proveit.number.common import Complexes, Integers\n",
    "from proveit.common import *"
   ]
  },
  {
   "cell_type": "code",
   "execution_count": 2,
   "metadata": {
    "collapsed": false
   },
   "outputs": [
    {
     "data": {
      "text/latex": [
       "$\\forall_{..x.., ..y.., ..z.. \\in \\mathbb{C}} \\left(\\left(~.. \\cdot x \\cdot ..~ \\cdot \\left(~.. + y + ..~\\right) \\cdot ~.. \\cdot z \\cdot ..~\\right) = \\left(~.. + \\left(~.. \\cdot x \\cdot ..~ \\cdot y \\cdot ~.. \\cdot z \\cdot ..~\\right) + ..~\\right)\\right)$"
      ],
      "text/plain": [
       "forall_{..x.., ..y.., ..z.. in Complexes} (( .. * x * ..  * ( .. + y + .. ) *  .. * z * .. ) = ( .. + ( .. * x * ..  * y *  .. * z * .. ) + .. ))"
      ]
     },
     "execution_count": 2,
     "metadata": {},
     "output_type": "execute_result"
    }
   ],
   "source": [
    "distributeThroughSum"
   ]
  },
  {
   "cell_type": "code",
   "execution_count": 3,
   "metadata": {
    "collapsed": false
   },
   "outputs": [
    {
     "data": {
      "text/latex": [
       "$\\left(a \\cdot b \\cdot c \\cdot \\left(d + f\\right) \\cdot g \\cdot h\\right) = \\left(\\left(a \\cdot b \\cdot c \\cdot d \\cdot g \\cdot h\\right) + \\left(a \\cdot b \\cdot c \\cdot f \\cdot g \\cdot h\\right)\\right)$"
      ],
      "text/plain": [
       "(a * b * c * (d + f) * g * h) = ((a * b * c * d * g * h) + (a * b * c * f * g * h))"
      ]
     },
     "execution_count": 3,
     "metadata": {},
     "output_type": "execute_result"
    }
   ],
   "source": [
    "distributeThroughSum.specialize({xEtc:[a, b, c], yEtc:[d, f], zEtc:[g, h]})"
   ]
  },
  {
   "cell_type": "code",
   "execution_count": 4,
   "metadata": {
    "collapsed": false
   },
   "outputs": [
    {
     "data": {
      "text/latex": [
       "$\\forall_{..x.., y \\in \\mathbb{C} | y \\neq 0} \\left(\\frac{~.. + x + ..~}{y} = \\left(~.. + \\frac{x}{y} + ..~\\right)\\right)$"
      ],
      "text/plain": [
       "forall_{..x.., y in Complexes | y != 0} (( .. + x + .. ) / y = ( .. + x / y + .. ))"
      ]
     },
     "execution_count": 4,
     "metadata": {},
     "output_type": "execute_result"
    }
   ],
   "source": [
    "distributeFractionThroughSum"
   ]
  },
  {
   "cell_type": "code",
   "execution_count": 5,
   "metadata": {
    "collapsed": false
   },
   "outputs": [
    {
     "data": {
      "text/latex": [
       "$\\frac{a + b + c}{d} = \\left(\\frac{a}{d} + \\frac{b}{d} + \\frac{c}{d}\\right)$"
      ],
      "text/plain": [
       "(a + b + c) / d = (a / d + b / d + c / d)"
      ]
     },
     "execution_count": 5,
     "metadata": {},
     "output_type": "execute_result"
    }
   ],
   "source": [
    "distributeFractionThroughSum.specialize({xEtc:[a, b, c], y:d})"
   ]
  },
  {
   "cell_type": "code",
   "execution_count": 6,
   "metadata": {
    "collapsed": false
   },
   "outputs": [
    {
     "data": {
      "text/latex": [
       "$\\forall_{x, y, z \\in \\mathbb{C} | z \\neq 0} \\left(\\frac{x - y}{z} = \\left(\\frac{x}{z} - \\frac{y}{z}\\right)\\right)$"
      ],
      "text/plain": [
       "forall_{x, y, z in Complexes | z != 0} ((x - y) / z = (x / z - y / z))"
      ]
     },
     "execution_count": 6,
     "metadata": {},
     "output_type": "execute_result"
    }
   ],
   "source": [
    "distributeFractionThroughSubtract"
   ]
  },
  {
   "cell_type": "code",
   "execution_count": 7,
   "metadata": {
    "collapsed": false
   },
   "outputs": [
    {
     "data": {
      "text/latex": [
       "$\\frac{a - b}{c} = \\left(\\frac{a}{c} - \\frac{b}{c}\\right)$"
      ],
      "text/plain": [
       "(a - b) / c = (a / c - b / c)"
      ]
     },
     "execution_count": 7,
     "metadata": {},
     "output_type": "execute_result"
    }
   ],
   "source": [
    "distributeFractionThroughSubtract.specialize({x:a, y:b, z:c})"
   ]
  },
  {
   "cell_type": "code",
   "execution_count": 8,
   "metadata": {
    "collapsed": false
   },
   "outputs": [],
   "source": [
    "assumptions = set([In(var, Complexes) for var in [c, d, x, y, z]])\n",
    "assumptions = assumptions | set([In(var, Integers) for var in [a, b]])"
   ]
  },
  {
   "cell_type": "code",
   "execution_count": 9,
   "metadata": {
    "collapsed": false
   },
   "outputs": [
    {
     "data": {
      "text/latex": [
       "$\\left(a \\cdot b \\cdot \\left(x + y + z\\right) \\cdot c \\cdot d\\right) = \\left(\\left(a \\cdot b \\cdot x \\cdot c \\cdot d\\right) + \\left(a \\cdot b \\cdot y \\cdot c \\cdot d\\right) + \\left(a \\cdot b \\cdot z \\cdot c \\cdot d\\right)\\right)$"
      ],
      "text/plain": [
       "(a * b * (x + y + z) * c * d) = ((a * b * x * c * d) + (a * b * y * c * d) + (a * b * z * c * d))"
      ]
     },
     "execution_count": 9,
     "metadata": {},
     "output_type": "execute_result"
    }
   ],
   "source": [
    "Multiply(a, b, Add(x, y, z), c, d).distribute(2, assumptions=assumptions)"
   ]
  },
  {
   "cell_type": "code",
   "execution_count": 10,
   "metadata": {
    "collapsed": false
   },
   "outputs": [
    {
     "data": {
      "text/latex": [
       "$\\left(a \\cdot b \\cdot \\left(x - y\\right) \\cdot c \\cdot d\\right) = \\left(\\left(a \\cdot b \\cdot x \\cdot c \\cdot d\\right) - \\left(a \\cdot b \\cdot y \\cdot c \\cdot d\\right)\\right)$"
      ],
      "text/plain": [
       "(a * b * (x - y) * c * d) = ((a * b * x * c * d) - (a * b * y * c * d))"
      ]
     },
     "execution_count": 10,
     "metadata": {},
     "output_type": "execute_result"
    }
   ],
   "source": [
    "Multiply(a, b, Subtract(x, y), c, d).distribute(2, assumptions=assumptions)"
   ]
  },
  {
   "cell_type": "code",
   "execution_count": 11,
   "metadata": {
    "collapsed": false
   },
   "outputs": [
    {
     "name": "stdout",
     "output_type": "stream",
     "text": [
      "set([x in \\{a...b\\}, d in Complexes, y in Complexes, b in Integers, a in Integers, c in Complexes, z in Complexes])\n",
      "x in Integers\n",
      "x in Complexes\n"
     ]
    },
    {
     "data": {
      "text/latex": [
       "$\\left(\\sum_{x=a}^{b} x\\right) \\in \\mathbb{C}$"
      ],
      "text/plain": [
       "(Summation_{x=a}^{b} x) in Complexes"
      ]
     },
     "execution_count": 11,
     "metadata": {},
     "output_type": "execute_result"
    }
   ],
   "source": [
    "from proveit.number.numberSets import deduceInComplexes\n",
    "expr = Summation(x, x, domain=DiscreteContiguousSet(a, b))\n",
    "deduceInComplexes(expr, assumptions=assumptions)"
   ]
  },
  {
   "cell_type": "code",
   "execution_count": 12,
   "metadata": {
    "collapsed": false
   },
   "outputs": [
    {
     "data": {
      "text/latex": [
       "$\\forall_{x \\in \\{a\\ldots b\\}} \\left(x \\in \\mathbb{Z}\\right)$"
      ],
      "text/plain": [
       "forall_{x in \\{a...b\\}} (x in Integers)"
      ]
     },
     "execution_count": 12,
     "metadata": {},
     "output_type": "execute_result"
    }
   ],
   "source": [
    "expr.domain.deduceMemberInIntegers(x, assumptions=assumptions).generalize(x, domain=expr.domain).proven(assumptions=assumptions)"
   ]
  },
  {
   "cell_type": "code",
   "execution_count": 13,
   "metadata": {
    "collapsed": false
   },
   "outputs": [
    {
     "data": {
      "text/latex": [
       "$\\left(z \\cdot y \\cdot \\left(\\sum_{x=a}^{b} x\\right) \\cdot z \\cdot y\\right) = \\left(\\sum_{x=a}^{b} \\left(z \\cdot y \\cdot x \\cdot z \\cdot y\\right)\\right)$"
      ],
      "text/plain": [
       "(z * y * (Summation_{x=a}^{b} x) * z * y) = (Summation_{x=a}^{b} (z * y * x * z * y))"
      ]
     },
     "execution_count": 13,
     "metadata": {},
     "output_type": "execute_result"
    }
   ],
   "source": [
    "Multiply(z, y, Summation(x, x, domain=DiscreteContiguousSet(a, b)), z, y).distribute(2, assumptions=assumptions)"
   ]
  },
  {
   "cell_type": "code",
   "execution_count": 14,
   "metadata": {
    "collapsed": false
   },
   "outputs": [
    {
     "data": {
      "text/latex": [
       "$\\frac{a + b + c}{d} = \\left(\\frac{a}{d} + \\frac{b}{d} + \\frac{c}{d}\\right)$"
      ],
      "text/plain": [
       "(a + b + c) / d = (a / d + b / d + c / d)"
      ]
     },
     "execution_count": 14,
     "metadata": {},
     "output_type": "execute_result"
    }
   ],
   "source": [
    "Fraction(Add(a, b, c), d).distribute(assumptions=assumptions)"
   ]
  },
  {
   "cell_type": "code",
   "execution_count": 15,
   "metadata": {
    "collapsed": false
   },
   "outputs": [
    {
     "data": {
      "text/latex": [
       "$\\frac{a - b}{d} = \\left(\\frac{a}{d} - \\frac{b}{d}\\right)$"
      ],
      "text/plain": [
       "(a - b) / d = (a / d - b / d)"
      ]
     },
     "execution_count": 15,
     "metadata": {},
     "output_type": "execute_result"
    }
   ],
   "source": [
    "Fraction(Subtract(a, b), d).distribute(assumptions=assumptions)"
   ]
  },
  {
   "cell_type": "code",
   "execution_count": 16,
   "metadata": {
    "collapsed": false
   },
   "outputs": [
    {
     "data": {
      "text/latex": [
       "$\\left[\\forall_{..y.. \\in \\{y\\ldots z\\}} \\left(P\\left(..y..\\right) \\in \\mathbb{C}\\right)\\right] \\Rightarrow \\left[\\forall_{d \\in \\mathbb{C}} \\left(\\frac{\\sum_{..y..=y}^{z} P\\left(..y..\\right)}{d} = \\left(\\sum_{..y..=y}^{z} \\frac{P\\left(..y..\\right)}{d}\\right)\\right)\\right]$"
      ],
      "text/plain": [
       "[forall_{..y.. in \\{y...z\\}} (P(..y..) in Complexes)] => [forall_{d in Complexes} ((Summation_{..y..=y}^{z} P(..y..)) / d = (Summation_{..y..=y}^{z} P(..y..) / d))]"
      ]
     },
     "execution_count": 16,
     "metadata": {},
     "output_type": "execute_result"
    }
   ],
   "source": [
    "Fraction(Summation(x, Px, DiscreteContiguousSet(y, z)), d).distribute(assumptions=assumptions)"
   ]
  },
  {
   "cell_type": "code",
   "execution_count": 17,
   "metadata": {
    "collapsed": true
   },
   "outputs": [],
   "source": [
    "from proveit.number.complex.theorems import distributeThroughSummation"
   ]
  },
  {
   "cell_type": "code",
   "execution_count": 18,
   "metadata": {
    "collapsed": false
   },
   "outputs": [
    {
     "data": {
      "text/latex": [
       "$\\forall_{P, S} \\left(\\left[\\forall_{..y.. \\in S} \\left(P\\left(..y..\\right) \\in \\mathbb{C}\\right)\\right] \\Rightarrow \\left[\\forall_{..x.., ..z.. \\in \\mathbb{C}} \\left(\\left(~.. \\cdot x \\cdot ..~ \\cdot \\left[\\sum_{..y.. \\in S} P\\left(..y..\\right)\\right] \\cdot ~.. \\cdot z \\cdot ..~\\right) = \\left[\\sum_{..y.. \\in S} \\left(~.. \\cdot x \\cdot ..~ \\cdot P\\left(..y..\\right) \\cdot ~.. \\cdot z \\cdot ..~\\right)\\right]\\right)\\right]\\right)$"
      ],
      "text/plain": [
       "forall_{P, S} ([forall_{..y.. in S} (P(..y..) in Complexes)] => [forall_{..x.., ..z.. in Complexes} (( .. * x * ..  * [Summation_{..y.. in S} P(..y..)] *  .. * z * .. ) = [Summation_{..y.. in S} ( .. * x * ..  * P(..y..) *  .. * z * .. )])])"
      ]
     },
     "execution_count": 18,
     "metadata": {},
     "output_type": "execute_result"
    }
   ],
   "source": [
    "distributeThroughSummation"
   ]
  },
  {
   "cell_type": "code",
   "execution_count": null,
   "metadata": {
    "collapsed": true
   },
   "outputs": [],
   "source": []
  }
 ],
 "metadata": {
  "kernelspec": {
   "display_name": "Python 2",
   "language": "python",
   "name": "python2"
  },
  "language_info": {
   "codemirror_mode": {
    "name": "ipython",
    "version": 2
   },
   "file_extension": ".py",
   "mimetype": "text/x-python",
   "name": "python",
   "nbconvert_exporter": "python",
   "pygments_lexer": "ipython2",
   "version": "2.7.10"
  }
 },
 "nbformat": 4,
 "nbformat_minor": 0
}
