{
 "cells": [
  {
   "cell_type": "code",
   "execution_count": 1,
   "metadata": {
    "collapsed": false
   },
   "outputs": [],
   "source": [
    "import proveit.specialStatementMagic # for %begin_axioms and %end_axioms\n",
    "from proveit.basiclogic import And, Or, NotEquals, In, Singleton, Difference\n",
    "from proveit.number.common import *\n",
    "from proveit.basiclogic import Forall, Exists, Equals\n",
    "from proveit.number import LessThan, LessThanEquals, GreaterThan, GreaterThanEquals, Fraction\n",
    "from proveit.number import Add, Subtract, Multiply, Divide, Fraction, Abs, Exponentiate, Neg, Summation\n",
    "from proveit.multiExpression import Etcetera"
   ]
  },
  {
   "cell_type": "code",
   "execution_count": 2,
   "metadata": {
    "collapsed": true
   },
   "outputs": [],
   "source": [
    "#from IPython.display import Latex\n",
    "from IPython.display import display"
   ]
  },
  {
   "cell_type": "code",
   "execution_count": 3,
   "metadata": {
    "collapsed": false
   },
   "outputs": [],
   "source": [
    "%begin_theorems"
   ]
  },
  {
   "cell_type": "code",
   "execution_count": 4,
   "metadata": {
    "collapsed": false
   },
   "outputs": [
    {
     "data": {
      "text/latex": [
       "$i \\in \\mathbb{C}$"
      ],
      "text/plain": [
       "i in Complexes"
      ]
     },
     "execution_count": 4,
     "metadata": {},
     "output_type": "execute_result"
    }
   ],
   "source": [
    "iInComplexes = In(i, Complexes)\n",
    "iInComplexes"
   ]
  },
  {
   "cell_type": "code",
   "execution_count": 5,
   "metadata": {
    "collapsed": false
   },
   "outputs": [
    {
     "data": {
      "text/latex": [
       "$i \\neq 0$"
      ],
      "text/plain": [
       "i != 0"
      ]
     },
     "execution_count": 5,
     "metadata": {},
     "output_type": "execute_result"
    }
   ],
   "source": [
    "iNotZero = NotEquals(i, zero)\n",
    "iNotZero"
   ]
  },
  {
   "cell_type": "code",
   "execution_count": 6,
   "metadata": {
    "collapsed": false
   },
   "outputs": [
    {
     "data": {
      "text/latex": [
       "$\\forall_{..x.. \\in \\mathbb{C}} \\left(\\left(~.. + x + ..~\\right) \\in \\mathbb{C}\\right)$"
      ],
      "text/plain": [
       "forall_{..x.. in Complexes} (( .. + x + .. ) in Complexes)"
      ]
     },
     "execution_count": 6,
     "metadata": {},
     "output_type": "execute_result"
    }
   ],
   "source": [
    "addClosure = Forall([xEtc], In(Add(xEtc),Complexes), domain = Complexes)\n",
    "addClosure"
   ]
  },
  {
   "cell_type": "code",
   "execution_count": 7,
   "metadata": {
    "collapsed": false
   },
   "outputs": [
    {
     "data": {
      "text/latex": [
       "$\\forall_{a, b \\in \\mathbb{C}} \\left(\\left(a - b\\right) \\in \\mathbb{C}\\right)$"
      ],
      "text/plain": [
       "forall_{a, b in Complexes} ((a - b) in Complexes)"
      ]
     },
     "execution_count": 7,
     "metadata": {},
     "output_type": "execute_result"
    }
   ],
   "source": [
    "subtractClosure = Forall([a, b], In(Subtract(a, b), Complexes), domain=Complexes)\n",
    "subtractClosure"
   ]
  },
  {
   "cell_type": "code",
   "execution_count": 8,
   "metadata": {
    "collapsed": false
   },
   "outputs": [
    {
     "data": {
      "text/latex": [
       "$\\forall_{a \\in \\mathbb{C}} \\left(\\left(-a\\right) \\in \\mathbb{C}\\right)$"
      ],
      "text/plain": [
       "forall_{a in Complexes} ((-a) in Complexes)"
      ]
     },
     "execution_count": 8,
     "metadata": {},
     "output_type": "execute_result"
    }
   ],
   "source": [
    "negClosure = Forall(a, In(Neg(a), Complexes), domain=Complexes)\n",
    "negClosure"
   ]
  },
  {
   "cell_type": "code",
   "execution_count": 9,
   "metadata": {
    "collapsed": false
   },
   "outputs": [
    {
     "data": {
      "text/latex": [
       "$\\forall_{..x.. \\in \\mathbb{C}} \\left(\\left(~.. \\cdot x \\cdot ..~\\right) \\in \\mathbb{C}\\right)$"
      ],
      "text/plain": [
       "forall_{..x.. in Complexes} (( .. * x * .. ) in Complexes)"
      ]
     },
     "execution_count": 9,
     "metadata": {},
     "output_type": "execute_result"
    }
   ],
   "source": [
    "multClosure = Forall([xEtc], In(Multiply(xEtc),Complexes), domain = Complexes)\n",
    "multClosure"
   ]
  },
  {
   "cell_type": "code",
   "execution_count": 10,
   "metadata": {
    "collapsed": false
   },
   "outputs": [
    {
     "data": {
      "text/latex": [
       "$\\forall_{a, b \\in \\mathbb{C}~|~b \\neq 0} \\left(\\left(a \\div b\\right) \\in \\mathbb{C}\\right)$"
      ],
      "text/plain": [
       "forall_{a, b in Complexes | b != 0} ((a / b) in Complexes)"
      ]
     },
     "execution_count": 10,
     "metadata": {},
     "output_type": "execute_result"
    }
   ],
   "source": [
    "divideClosure = Forall([a, b], In(Divide(a, b), Complexes), domain=Complexes, conditions=[NotEquals(b, zero)])\n",
    "divideClosure       "
   ]
  },
  {
   "cell_type": "code",
   "execution_count": 11,
   "metadata": {
    "collapsed": false
   },
   "outputs": [
    {
     "data": {
      "text/latex": [
       "$\\forall_{a, b \\in \\mathbb{C}~|~b \\neq 0} \\left(\\frac{a}{b} \\in \\mathbb{C}\\right)$"
      ],
      "text/plain": [
       "forall_{a, b in Complexes | b != 0} (a / b in Complexes)"
      ]
     },
     "execution_count": 11,
     "metadata": {},
     "output_type": "execute_result"
    }
   ],
   "source": [
    "fractionClosure = Forall([a, b], In(Fraction(a, b), Complexes), domain=Complexes, conditions=[NotEquals(b, zero)])\n",
    "fractionClosure          "
   ]
  },
  {
   "cell_type": "code",
   "execution_count": 12,
   "metadata": {
    "collapsed": false
   },
   "outputs": [
    {
     "data": {
      "text/latex": [
       "$\\forall_{a, b \\in \\mathbb{C}~|~a \\neq 0} \\left(a^{b} \\in \\mathbb{C}\\right)$"
      ],
      "text/plain": [
       "forall_{a, b in Complexes | a != 0} (a^(b) in Complexes)"
      ]
     },
     "execution_count": 12,
     "metadata": {},
     "output_type": "execute_result"
    }
   ],
   "source": [
    "powClosure = Forall([a, b], In(Exponentiate(a, b), Complexes), domain=Complexes, \n",
    "                    conditions=[NotEquals(a, zero)])\n",
    "powClosure"
   ]
  },
  {
   "cell_type": "code",
   "execution_count": 13,
   "metadata": {
    "collapsed": false
   },
   "outputs": [
    {
     "data": {
      "text/latex": [
       "$\\forall_{a \\in \\mathbb{C}} \\left(\\left|a\\right| \\in \\mathbb{R}\\right)$"
      ],
      "text/plain": [
       "forall_{a in Complexes} (|a| in Reals)"
      ]
     },
     "execution_count": 13,
     "metadata": {},
     "output_type": "execute_result"
    }
   ],
   "source": [
    "absClosure = Forall([a], In(Abs(a), Reals), domain=Complexes)\n",
    "absClosure"
   ]
  },
  {
   "cell_type": "code",
   "execution_count": 14,
   "metadata": {
    "collapsed": false
   },
   "outputs": [
    {
     "data": {
      "text/latex": [
       "$\\forall_{a \\in \\mathbb{C}} \\left(\\left|a\\right| \\geq 0\\right)$"
      ],
      "text/plain": [
       "forall_{a in Complexes} (|a| >= 0)"
      ]
     },
     "execution_count": 14,
     "metadata": {},
     "output_type": "execute_result"
    }
   ],
   "source": [
    "absIsNonNeg = Forall(a, GreaterThanEquals(Abs(a), zero), domain=Complexes)\n",
    "absIsNonNeg"
   ]
  },
  {
   "cell_type": "code",
   "execution_count": 15,
   "metadata": {
    "collapsed": false
   },
   "outputs": [
    {
     "data": {
      "text/latex": [
       "$\\forall_{a \\in \\mathbb{C}~|~a \\neq 0} \\left(\\left|a\\right| \\in \\mathbb{R}^+\\right)$"
      ],
      "text/plain": [
       "forall_{a in Complexes | a != 0} (|a| in RealsPos)"
      ]
     },
     "execution_count": 15,
     "metadata": {},
     "output_type": "execute_result"
    }
   ],
   "source": [
    "absPosClosure = Forall([a], In(Abs(a), RealsPos), domain=Complexes, conditions=[NotEquals(a, zero)])\n",
    "absPosClosure"
   ]
  },
  {
   "cell_type": "code",
   "execution_count": 16,
   "metadata": {
    "collapsed": false
   },
   "outputs": [
    {
     "data": {
      "text/latex": [
       "$\\forall_{P, S} \\left(\\left[\\forall_{..x.. \\in S} \\left(P\\left(..x..\\right) \\in \\mathbb{C}\\right)\\right] \\Rightarrow \\left(\\left[\\sum_{..x.. \\in S} P\\left(..x..\\right)\\right] \\in \\mathbb{C}\\right)\\right)$"
      ],
      "text/plain": [
       "forall_{P, S} ([forall_{..x.. in S} (P(..x..) in Complexes)] => ([Summation_{..x.. in S} P(..x..)] in Complexes))"
      ]
     },
     "execution_count": 16,
     "metadata": {},
     "output_type": "execute_result"
    }
   ],
   "source": [
    "summationClosure = Forall([P, S], Implies(Forall(xEtc, In(PxEtc, Complexes), domain=S), \n",
    "                                          In(Summation(xEtc, PxEtc, domain=S), Complexes)))\n",
    "summationClosure"
   ]
  },
  {
   "cell_type": "code",
   "execution_count": 17,
   "metadata": {
    "collapsed": false
   },
   "outputs": [
    {
     "data": {
      "text/latex": [
       "$\\forall_{a \\in \\mathbb{C}~|~a \\neq 0} \\left(a \\in \\left(\\mathbb{C} - \\{0\\}\\right)\\right)$"
      ],
      "text/plain": [
       "forall_{a in Complexes | a != 0} (a in (Complexes - {0}))"
      ]
     },
     "execution_count": 17,
     "metadata": {},
     "output_type": "execute_result"
    }
   ],
   "source": [
    "inComplexesSansZero = Forall(a, In(a, ComplexesSansZero), \n",
    "                             domain=Complexes, conditions=[NotEquals(a, zero)])\n",
    "inComplexesSansZero"
   ]
  },
  {
   "cell_type": "code",
   "execution_count": 18,
   "metadata": {
    "collapsed": false
   },
   "outputs": [
    {
     "data": {
      "text/latex": [
       "$\\forall_{a \\in \\mathbb{C}~|~a \\neq 0} \\left(\\left(-a\\right) \\neq 0\\right)$"
      ],
      "text/plain": [
       "forall_{a in Complexes | a != 0} ((-a) != 0)"
      ]
     },
     "execution_count": 18,
     "metadata": {},
     "output_type": "execute_result"
    }
   ],
   "source": [
    "negNotEqZero = Forall(a, NotEquals(Neg(a), zero), domain=Complexes, conditions=[NotEquals(a, zero)])\n",
    "negNotEqZero"
   ]
  },
  {
   "cell_type": "code",
   "execution_count": 19,
   "metadata": {
    "collapsed": false
   },
   "outputs": [
    {
     "data": {
      "text/latex": [
       "$\\forall_{a, b \\in \\mathbb{C}~|~a \\neq b} \\left(\\left(a - b\\right) \\neq 0\\right)$"
      ],
      "text/plain": [
       "forall_{a, b in Complexes | a != b} ((a - b) != 0)"
      ]
     },
     "execution_count": 19,
     "metadata": {},
     "output_type": "execute_result"
    }
   ],
   "source": [
    "diffNotEqZero = Forall((a, b), NotEquals(Subtract(a, b), zero), domain=Complexes, conditions=[NotEquals(a, b)])\n",
    "diffNotEqZero"
   ]
  },
  {
   "cell_type": "code",
   "execution_count": 20,
   "metadata": {
    "collapsed": false
   },
   "outputs": [
    {
     "data": {
      "text/latex": [
       "$\\forall_{..x.. \\in \\left(\\mathbb{C} - \\{0\\}\\right)} \\left(\\left(~.. \\cdot x \\cdot ..~\\right) \\neq 0\\right)$"
      ],
      "text/plain": [
       "forall_{..x.. in (Complexes - {0})} (( .. * x * .. ) != 0)"
      ]
     },
     "execution_count": 20,
     "metadata": {},
     "output_type": "execute_result"
    }
   ],
   "source": [
    "multNotEqZero = Forall([xEtc], NotEquals(Multiply(xEtc), zero), domain=ComplexesSansZero)\n",
    "multNotEqZero"
   ]
  },
  {
   "cell_type": "code",
   "execution_count": 21,
   "metadata": {
    "collapsed": false
   },
   "outputs": [
    {
     "data": {
      "text/latex": [
       "$\\forall_{a, b \\in \\left(\\mathbb{C} - \\{0\\}\\right)} \\left(\\left(a \\div b\\right) \\neq 0\\right)$"
      ],
      "text/plain": [
       "forall_{a, b in (Complexes - {0})} ((a / b) != 0)"
      ]
     },
     "execution_count": 21,
     "metadata": {},
     "output_type": "execute_result"
    }
   ],
   "source": [
    "divideNotEqZero = Forall([a, b], NotEquals(Divide(a,b), zero), domain=ComplexesSansZero)\n",
    "divideNotEqZero"
   ]
  },
  {
   "cell_type": "code",
   "execution_count": 22,
   "metadata": {
    "collapsed": false
   },
   "outputs": [
    {
     "data": {
      "text/latex": [
       "$\\forall_{a, b \\in \\left(\\mathbb{C} - \\{0\\}\\right)} \\left(\\frac{a}{b} \\neq 0\\right)$"
      ],
      "text/plain": [
       "forall_{a, b in (Complexes - {0})} (a / b != 0)"
      ]
     },
     "execution_count": 22,
     "metadata": {},
     "output_type": "execute_result"
    }
   ],
   "source": [
    "fractionNotEqZero = Forall([a, b], NotEquals(Fraction(a,b), zero), domain=ComplexesSansZero)\n",
    "fractionNotEqZero"
   ]
  },
  {
   "cell_type": "code",
   "execution_count": 23,
   "metadata": {
    "collapsed": false
   },
   "outputs": [
    {
     "data": {
      "text/latex": [
       "$\\forall_{a, b \\in \\mathbb{C}~|~a \\neq 0} \\left(a^{b} \\neq 0\\right)$"
      ],
      "text/plain": [
       "forall_{a, b in Complexes | a != 0} (a^(b) != 0)"
      ]
     },
     "execution_count": 23,
     "metadata": {},
     "output_type": "execute_result"
    }
   ],
   "source": [
    "powNotEqZero = Forall([a, b], NotEquals(Exponentiate(a,b), zero), domain=Complexes, conditions=[NotEquals(a, zero)])\n",
    "powNotEqZero"
   ]
  },
  {
   "cell_type": "code",
   "execution_count": 24,
   "metadata": {
    "collapsed": false
   },
   "outputs": [
    {
     "data": {
      "text/latex": [
       "$\\forall_{a \\in \\mathbb{C}~|~a \\neq 0} \\left(\\left|a\\right| \\neq 0\\right)$"
      ],
      "text/plain": [
       "forall_{a in Complexes | a != 0} (|a| != 0)"
      ]
     },
     "execution_count": 24,
     "metadata": {},
     "output_type": "execute_result"
    }
   ],
   "source": [
    "absNotEqZero = Forall([a], NotEquals(Abs(a), zero), domain=Complexes, conditions=[NotEquals(a, zero)])\n",
    "absNotEqZero"
   ]
  },
  {
   "cell_type": "code",
   "execution_count": 25,
   "metadata": {
    "collapsed": false
   },
   "outputs": [
    {
     "data": {
      "text/latex": [
       "$\\forall_{a \\in \\mathbb{C}~|~a \\neq 0} \\left(a^{0} = 1\\right)$"
      ],
      "text/plain": [
       "forall_{a in Complexes | a != 0} (a^(0) = 1)"
      ]
     },
     "execution_count": 25,
     "metadata": {},
     "output_type": "execute_result"
    }
   ],
   "source": [
    "powZeroEqOne = Forall([a], Equals(Exponentiate(a, zero), one), domain=Complexes, conditions=[NotEquals(a, zero)])\n",
    "powZeroEqOne"
   ]
  },
  {
   "cell_type": "code",
   "execution_count": 26,
   "metadata": {
    "collapsed": false
   },
   "outputs": [
    {
     "data": {
      "text/latex": [
       "$\\forall_{a \\in \\mathbb{C}} \\left(a^{1} = a\\right)$"
      ],
      "text/plain": [
       "forall_{a in Complexes} (a^(1) = a)"
      ]
     },
     "execution_count": 26,
     "metadata": {},
     "output_type": "execute_result"
    }
   ],
   "source": [
    "powOneUnchanged = Forall([a], Equals(Exponentiate(a, one), a), domain=Complexes)\n",
    "powOneUnchanged"
   ]
  },
  {
   "cell_type": "code",
   "execution_count": 27,
   "metadata": {
    "collapsed": false
   },
   "outputs": [
    {
     "data": {
      "text/latex": [
       "$\\forall_{x \\in \\mathbb{C}~|~x \\neq 0} \\left(0^{x} = 0\\right)$"
      ],
      "text/plain": [
       "forall_{x in Complexes | x != 0} (0^(x) = 0)"
      ]
     },
     "execution_count": 27,
     "metadata": {},
     "output_type": "execute_result"
    }
   ],
   "source": [
    "exponentiatedZero = Forall([x], Equals(Exponentiate(zero, x), zero), domain=Complexes, conditions=[NotEquals(x, zero)])\n",
    "exponentiatedZero"
   ]
  },
  {
   "cell_type": "code",
   "execution_count": 28,
   "metadata": {
    "collapsed": false
   },
   "outputs": [
    {
     "data": {
      "text/latex": [
       "$\\forall_{x \\in \\mathbb{C}} \\left(1^{x} = 1\\right)$"
      ],
      "text/plain": [
       "forall_{x in Complexes} (1^(x) = 1)"
      ]
     },
     "execution_count": 28,
     "metadata": {},
     "output_type": "execute_result"
    }
   ],
   "source": [
    "exponentiatedOne = Forall([x], Equals(Exponentiate(one, x), one), domain=Complexes)\n",
    "exponentiatedOne"
   ]
  },
  {
   "cell_type": "code",
   "execution_count": 29,
   "metadata": {
    "collapsed": false
   },
   "outputs": [
    {
     "data": {
      "text/latex": [
       "$\\forall_{a, b \\in \\mathbb{C}} \\left(\\left|\\left(a + b\\right)\\right| \\leq \\left(\\left|a\\right| + \\left|b\\right|\\right)\\right)$"
      ],
      "text/plain": [
       "forall_{a, b in Complexes} (|(a + b)| <= (|a| + |b|))"
      ]
     },
     "execution_count": 29,
     "metadata": {},
     "output_type": "execute_result"
    }
   ],
   "source": [
    "triangleInequality = Forall([a,b],\n",
    "                        LessThanEquals(Abs(Add(a,b)),Add(Abs(a),Abs(b))),\n",
    "                        domain=Complexes)\n",
    "triangleInequality"
   ]
  },
  {
   "cell_type": "code",
   "execution_count": 30,
   "metadata": {
    "collapsed": false
   },
   "outputs": [],
   "source": [
    "#This absProd to be implemented in the future\n",
    "#absProd = Forall(xEtc,\n",
    "#                 Equals(Abs(Multiply(xEtc)),\n",
    "#                        Multiply(Etcetera(Abs(x)))),\n",
    "#                 domain = Complexes)\n",
    "#absProd"
   ]
  },
  {
   "cell_type": "code",
   "execution_count": 31,
   "metadata": {
    "collapsed": false
   },
   "outputs": [
    {
     "data": {
      "text/latex": [
       "$\\forall_{..x.., ..y.. \\in \\mathbb{C}} \\left(\\left|\\left(~.. \\cdot x \\cdot ... \\cdot y \\cdot ..~\\right)\\right| = \\left(\\left|..x..\\right| \\cdot \\left|..y..\\right|\\right)\\right)$"
      ],
      "text/plain": [
       "forall_{..x.., ..y.. in Complexes} (|( .. * x * ... * y * .. )| = (|..x..| * |..y..|))"
      ]
     },
     "execution_count": 31,
     "metadata": {},
     "output_type": "execute_result"
    }
   ],
   "source": [
    "absProd = Forall([xEtc,yEtc],\n",
    "                 Equals(Abs(Multiply(xEtc,yEtc)),\n",
    "                        Multiply(Abs(xEtc),Abs(yEtc))),\n",
    "                 domain = Complexes\n",
    "                )\n",
    "absProd"
   ]
  },
  {
   "cell_type": "code",
   "execution_count": 32,
   "metadata": {
    "collapsed": false
   },
   "outputs": [
    {
     "data": {
      "text/latex": [
       "$\\forall_{a, b \\in \\mathbb{C}} \\left(\\left|\\frac{a}{b}\\right| = \\frac{\\left|a\\right|}{\\left|b\\right|}\\right)$"
      ],
      "text/plain": [
       "forall_{a, b in Complexes} (|a / b| = |a| / |b|)"
      ]
     },
     "execution_count": 32,
     "metadata": {},
     "output_type": "execute_result"
    }
   ],
   "source": [
    "absFrac = Forall([a,b],\n",
    "                 Equals(Abs(Fraction(a,b)),Fraction(Abs(a),Abs(b))),\n",
    "                 domain = Complexes)\n",
    "absFrac"
   ]
  },
  {
   "cell_type": "code",
   "execution_count": 33,
   "metadata": {
    "collapsed": false
   },
   "outputs": [
    {
     "data": {
      "text/latex": [
       "$\\forall_{a, b, c \\in \\mathbb{C}} \\left(a^{b + c} = \\left(a^{b} \\cdot a^{c}\\right)\\right)$"
      ],
      "text/plain": [
       "forall_{a, b, c in Complexes} (a^(b + c) = (a^(b) * a^(c)))"
      ]
     },
     "execution_count": 33,
     "metadata": {},
     "output_type": "execute_result"
    }
   ],
   "source": [
    "sumInPow = Forall([a,b,c],\n",
    "                Equals(Exponentiate(a,Add(b,c)),\n",
    "                       Multiply(Exponentiate(a,b),Exponentiate(a,c))),\n",
    "                domain = Complexes)\n",
    "sumInPow"
   ]
  },
  {
   "cell_type": "code",
   "execution_count": 34,
   "metadata": {
    "collapsed": false
   },
   "outputs": [
    {
     "data": {
      "text/latex": [
       "$\\forall_{a, b, c \\in \\mathbb{C}} \\left(\\left(a^{b} \\cdot a^{c}\\right) = a^{b + c}\\right)$"
      ],
      "text/plain": [
       "forall_{a, b, c in Complexes} ((a^(b) * a^(c)) = a^(b + c))"
      ]
     },
     "execution_count": 34,
     "metadata": {},
     "output_type": "execute_result"
    }
   ],
   "source": [
    "sumInPowRev = Forall([a,b,c],\n",
    "                Equals(Multiply(Exponentiate(a,b),Exponentiate(a,c)),\n",
    "                       Exponentiate(a,Add(b,c))),\n",
    "                domain = Complexes)\n",
    "sumInPowRev"
   ]
  },
  {
   "cell_type": "code",
   "execution_count": 35,
   "metadata": {
    "collapsed": false
   },
   "outputs": [
    {
     "data": {
      "text/latex": [
       "$\\forall_{a, b, c \\in \\mathbb{C}} \\left(a^{b - c} = \\left(a^{b} \\cdot a^{-c}\\right)\\right)$"
      ],
      "text/plain": [
       "forall_{a, b, c in Complexes} (a^(b - c) = (a^(b) * a^(-c)))"
      ]
     },
     "execution_count": 35,
     "metadata": {},
     "output_type": "execute_result"
    }
   ],
   "source": [
    "diffInPow = Forall([a,b,c],\n",
    "                Equals(Exponentiate(a,Subtract(b,c)),\n",
    "                       Multiply(Exponentiate(a,b),Exponentiate(a,Neg(c)))),\n",
    "                domain = Complexes)\n",
    "diffInPow"
   ]
  },
  {
   "cell_type": "code",
   "execution_count": 36,
   "metadata": {
    "collapsed": false
   },
   "outputs": [
    {
     "data": {
      "text/latex": [
       "$\\forall_{a, b, c \\in \\mathbb{C}} \\left(\\left(a^{b} \\cdot a^{-c}\\right) = a^{b - c}\\right)$"
      ],
      "text/plain": [
       "forall_{a, b, c in Complexes} ((a^(b) * a^(-c)) = a^(b - c))"
      ]
     },
     "execution_count": 36,
     "metadata": {},
     "output_type": "execute_result"
    }
   ],
   "source": [
    "diffInPowRev = Forall([a,b,c],\n",
    "                Equals(Multiply(Exponentiate(a,b),Exponentiate(a,Neg(c))),\n",
    "                       Exponentiate(a,Subtract(b,c))),\n",
    "                domain = Complexes)\n",
    "diffInPowRev"
   ]
  },
  {
   "cell_type": "code",
   "execution_count": 37,
   "metadata": {
    "collapsed": false
   },
   "outputs": [
    {
     "data": {
      "text/latex": [
       "$\\forall_{a, b, c, d \\in \\mathbb{C}} \\left(a^{b - \\frac{c}{d}} = \\left(a^{b} \\cdot a^{\\frac{-c}{d}}\\right)\\right)$"
      ],
      "text/plain": [
       "forall_{a, b, c, d in Complexes} (a^(b - c / d) = (a^(b) * a^((-c) / d)))"
      ]
     },
     "execution_count": 37,
     "metadata": {},
     "output_type": "execute_result"
    }
   ],
   "source": [
    "diffFracInPow = Forall([a,b,c,d],\n",
    "                Equals(Exponentiate(a,Subtract(b,Fraction(c, d))),\n",
    "                       Multiply(Exponentiate(a,b),Exponentiate(a,Fraction(Neg(c), d)))),\n",
    "                domain = Complexes)\n",
    "diffFracInPow"
   ]
  },
  {
   "cell_type": "code",
   "execution_count": 38,
   "metadata": {
    "collapsed": false
   },
   "outputs": [
    {
     "data": {
      "text/latex": [
       "$\\forall_{a, b, c, d \\in \\mathbb{C}} \\left(\\left(a^{b} \\cdot a^{\\frac{-c}{d}}\\right) = a^{b - \\frac{c}{d}}\\right)$"
      ],
      "text/plain": [
       "forall_{a, b, c, d in Complexes} ((a^(b) * a^((-c) / d)) = a^(b - c / d))"
      ]
     },
     "execution_count": 38,
     "metadata": {},
     "output_type": "execute_result"
    }
   ],
   "source": [
    "diffFracInPowRev = Forall([a,b,c,d],\n",
    "                Equals(Multiply(Exponentiate(a,b),Exponentiate(a,Fraction(Neg(c), d))),\n",
    "                       Exponentiate(a,Subtract(b,Fraction(c, d)))),\n",
    "                domain = Complexes)\n",
    "diffFracInPowRev"
   ]
  },
  {
   "cell_type": "code",
   "execution_count": 39,
   "metadata": {
    "collapsed": false
   },
   "outputs": [
    {
     "data": {
      "text/latex": [
       "$\\forall_{a, b, c \\in \\mathbb{C}} \\left(\\left(a \\cdot b\\right)^{c} = \\left(a^{c} \\cdot b^{c}\\right)\\right)$"
      ],
      "text/plain": [
       "forall_{a, b, c in Complexes} ((a * b)^(c) = (a^(c) * b^(c)))"
      ]
     },
     "execution_count": 39,
     "metadata": {},
     "output_type": "execute_result"
    }
   ],
   "source": [
    "powOfProd = Forall([a,b,c],\n",
    "                Equals(Exponentiate(Multiply(a,b),c),\n",
    "                       Multiply(Exponentiate(a,c),Exponentiate(b,c))),\n",
    "                domain = Complexes)\n",
    "powOfProd"
   ]
  },
  {
   "cell_type": "code",
   "execution_count": 40,
   "metadata": {
    "collapsed": false
   },
   "outputs": [
    {
     "data": {
      "text/latex": [
       "$\\forall_{a, b, c \\in \\mathbb{C}} \\left(\\left(a^{c} \\cdot b^{c}\\right) = \\left(a \\cdot b\\right)^{c}\\right)$"
      ],
      "text/plain": [
       "forall_{a, b, c in Complexes} ((a^(c) * b^(c)) = (a * b)^(c))"
      ]
     },
     "execution_count": 40,
     "metadata": {},
     "output_type": "execute_result"
    }
   ],
   "source": [
    "powOfProdRev = Forall([a,b,c],\n",
    "                Equals(Multiply(Exponentiate(a,c),Exponentiate(b,c)),\n",
    "                       Exponentiate(Multiply(a,b),c)),\n",
    "                domain = Complexes)\n",
    "powOfProdRev"
   ]
  },
  {
   "cell_type": "code",
   "execution_count": 41,
   "metadata": {
    "collapsed": false
   },
   "outputs": [
    {
     "data": {
      "text/latex": [
       "$\\forall_{a, b, c \\in \\mathbb{C}} \\left(\\left(a^{b}\\right)^{c} = a^{b \\cdot c}\\right)$"
      ],
      "text/plain": [
       "forall_{a, b, c in Complexes} ((a^(b))^(c) = a^(b * c))"
      ]
     },
     "execution_count": 41,
     "metadata": {},
     "output_type": "execute_result"
    }
   ],
   "source": [
    "powOfPow = Forall([a, b, c], Equals(Exponentiate(Exponentiate(a, b), c), \n",
    "                                    Exponentiate(a, Multiply(b, c))), \n",
    "                  domain = Complexes)\n",
    "powOfPow"
   ]
  },
  {
   "cell_type": "code",
   "execution_count": 42,
   "metadata": {
    "collapsed": false
   },
   "outputs": [
    {
     "data": {
      "text/latex": [
       "$\\forall_{a, b, c \\in \\mathbb{C}} \\left(\\left(a^{-b}\\right)^{c} = a^{-\\left(b \\cdot c\\right)}\\right)$"
      ],
      "text/plain": [
       "forall_{a, b, c in Complexes} ((a^(-b))^(c) = a^(-(b * c)))"
      ]
     },
     "execution_count": 42,
     "metadata": {},
     "output_type": "execute_result"
    }
   ],
   "source": [
    "powOfNegPow = Forall([a, b, c], Equals(Exponentiate(Exponentiate(a, Neg(b)), c), \n",
    "                                    Exponentiate(a, Neg(Multiply(b, c)))), \n",
    "                  domain = Complexes)\n",
    "powOfNegPow"
   ]
  },
  {
   "cell_type": "code",
   "execution_count": 43,
   "metadata": {
    "collapsed": false
   },
   "outputs": [
    {
     "data": {
      "text/latex": [
       "$\\forall_{a, b, c \\in \\mathbb{C}} \\left(\\left(a^{b}\\right)^{-c} = a^{-\\left(b \\cdot c\\right)}\\right)$"
      ],
      "text/plain": [
       "forall_{a, b, c in Complexes} ((a^(b))^(-c) = a^(-(b * c)))"
      ]
     },
     "execution_count": 43,
     "metadata": {},
     "output_type": "execute_result"
    }
   ],
   "source": [
    "negPowOfPow = Forall([a, b, c], Equals(Exponentiate(Exponentiate(a, b), Neg(c)), \n",
    "                                    Exponentiate(a, Neg(Multiply(b, c)))), \n",
    "                  domain = Complexes)\n",
    "negPowOfPow"
   ]
  },
  {
   "cell_type": "code",
   "execution_count": 44,
   "metadata": {
    "collapsed": false
   },
   "outputs": [
    {
     "data": {
      "text/latex": [
       "$\\forall_{a, b, c \\in \\mathbb{C}} \\left(\\left(a^{-b}\\right)^{-c} = a^{b \\cdot c}\\right)$"
      ],
      "text/plain": [
       "forall_{a, b, c in Complexes} ((a^(-b))^(-c) = a^(b * c))"
      ]
     },
     "execution_count": 44,
     "metadata": {},
     "output_type": "execute_result"
    }
   ],
   "source": [
    "negPowOfNegPow = Forall([a, b, c], Equals(Exponentiate(Exponentiate(a, Neg(b)), Neg(c)), \n",
    "                                    Exponentiate(a, Multiply(b, c))), \n",
    "                  domain = Complexes)\n",
    "negPowOfNegPow"
   ]
  },
  {
   "cell_type": "code",
   "execution_count": 45,
   "metadata": {
    "collapsed": false
   },
   "outputs": [
    {
     "data": {
      "text/latex": [
       "$\\forall_{a, b \\in \\mathbb{C}} \\left(\\left(a - b\\right)^{2} = \\left(b - a\\right)^{2}\\right)$"
      ],
      "text/plain": [
       "forall_{a, b in Complexes} ((a - b)^(2) = (b - a)^(2))"
      ]
     },
     "execution_count": 45,
     "metadata": {},
     "output_type": "execute_result"
    }
   ],
   "source": [
    "diffSquareComm = Forall([a,b],\n",
    "                        Equals(\n",
    "                            Exponentiate(Subtract(a,b),two),\n",
    "                            Exponentiate(Subtract(b,a),two)),\n",
    "                        domain = Complexes)\n",
    "diffSquareComm"
   ]
  },
  {
   "cell_type": "code",
   "execution_count": 46,
   "metadata": {
    "collapsed": false
   },
   "outputs": [
    {
     "data": {
      "text/latex": [
       "$\\forall_{..v.., ..w.., ..x.., ..y.., ..z.. \\in \\mathbb{C}} \\left(\\left(~.. + v + ... + w + ... + x + ... + y + ... + z + ..~\\right) = \\left(~.. + v + ... + y + ... + x + ... + w + ... + z + ..~\\right)\\right)$"
      ],
      "text/plain": [
       "forall_{..v.., ..w.., ..x.., ..y.., ..z.. in Complexes} (( .. + v + ... + w + ... + x + ... + y + ... + z + .. ) = ( .. + v + ... + y + ... + x + ... + w + ... + z + .. ))"
      ]
     },
     "execution_count": 46,
     "metadata": {},
     "output_type": "execute_result"
    }
   ],
   "source": [
    "addComm = Forall([Etcetera(v),wEtc,xEtc,yEtc,zEtc],\n",
    "                 Equals(\n",
    "                        Add(Etcetera(v),wEtc,xEtc,yEtc,zEtc),\n",
    "                        Add(Etcetera(v),yEtc,xEtc,wEtc,zEtc)\n",
    "    ),\n",
    "                 domain = Complexes\n",
    "                 )\n",
    "addComm"
   ]
  },
  {
   "cell_type": "code",
   "execution_count": 47,
   "metadata": {
    "collapsed": false
   },
   "outputs": [
    {
     "data": {
      "text/latex": [
       "$\\forall_{..x.., ..y.., ..z.. \\in \\mathbb{C}} \\left(\\left(~.. + x + ... + y + ... + z + ..~\\right) = \\left(~.. + x + ..~ + \\left(~.. + y + ..~\\right) + ~.. + z + ..~\\right)\\right)$"
      ],
      "text/plain": [
       "forall_{..x.., ..y.., ..z.. in Complexes} (( .. + x + ... + y + ... + z + .. ) = ( .. + x + ..  + ( .. + y + .. ) +  .. + z + .. ))"
      ]
     },
     "execution_count": 47,
     "metadata": {},
     "output_type": "execute_result"
    }
   ],
   "source": [
    "addAssoc = Forall([xEtc,yEtc,zEtc],\n",
    "                  Equals(\n",
    "                        Add(\n",
    "                                xEtc,yEtc,zEtc),\n",
    "                        Add(\n",
    "                                xEtc,Add(yEtc),zEtc)\n",
    "                        ),\n",
    "                  domain = Complexes\n",
    "                  )\n",
    "addAssoc"
   ]
  },
  {
   "cell_type": "code",
   "execution_count": 48,
   "metadata": {
    "collapsed": false
   },
   "outputs": [
    {
     "data": {
      "text/latex": [
       "$\\forall_{..x.., ..y.., ..z.. \\in \\mathbb{C}} \\left(\\left(~.. + x + ..~ + \\left(~.. + y + ..~\\right) + ~.. + z + ..~\\right) = \\left(~.. + x + ... + y + ... + z + ..~\\right)\\right)$"
      ],
      "text/plain": [
       "forall_{..x.., ..y.., ..z.. in Complexes} (( .. + x + ..  + ( .. + y + .. ) +  .. + z + .. ) = ( .. + x + ... + y + ... + z + .. ))"
      ]
     },
     "execution_count": 48,
     "metadata": {},
     "output_type": "execute_result"
    }
   ],
   "source": [
    "addAssocRev = Forall([xEtc,yEtc,zEtc],\n",
    "                  Equals(\n",
    "                        Add(\n",
    "                                xEtc,Add(yEtc),zEtc),\n",
    "                        Add(\n",
    "                                xEtc,yEtc,zEtc)\n",
    "                        ),\n",
    "                  domain = Complexes\n",
    "                  )\n",
    "addAssocRev"
   ]
  },
  {
   "cell_type": "code",
   "execution_count": 49,
   "metadata": {
    "collapsed": false
   },
   "outputs": [
    {
     "data": {
      "text/latex": [
       "$\\forall_{x, y \\in \\mathbb{C}} \\left(\\left(x - y\\right) = \\left(x + \\left(-y\\right)\\right)\\right)$"
      ],
      "text/plain": [
       "forall_{x, y in Complexes} ((x - y) = (x + (-y)))"
      ]
     },
     "execution_count": 49,
     "metadata": {},
     "output_type": "execute_result"
    }
   ],
   "source": [
    "subtractAsAddNeg = Forall([x, y], Equals(Subtract(x, y), \n",
    "                                         Add(x, Neg(y))), \n",
    "                          domain=Complexes)\n",
    "subtractAsAddNeg"
   ]
  },
  {
   "cell_type": "code",
   "execution_count": 50,
   "metadata": {
    "collapsed": false
   },
   "outputs": [
    {
     "data": {
      "text/latex": [
       "$\\forall_{x, y, z \\in \\mathbb{C}} \\left(\\left(\\left(x + y\\right) - \\left(x + z\\right)\\right) = \\left(y - z\\right)\\right)$"
      ],
      "text/plain": [
       "forall_{x, y, z in Complexes} (((x + y) - (x + z)) = (y - z))"
      ]
     },
     "execution_count": 50,
     "metadata": {},
     "output_type": "execute_result"
    }
   ],
   "source": [
    "subtractCancelElimSums = Forall([x, y, z], \n",
    "                        Equals(Subtract(Add(x, y), Add(x, z)),\n",
    "                              Subtract(y, z)), domain=Complexes)\n",
    "subtractCancelElimSums"
   ]
  },
  {
   "cell_type": "code",
   "execution_count": 51,
   "metadata": {
    "collapsed": false
   },
   "outputs": [
    {
     "data": {
      "text/latex": [
       "$\\forall_{w, x, ..y.., ..z.. \\in \\mathbb{C}} \\left(\\left(\\left(w + x\\right) - \\left(~.. + y + ..~ + w + ~.. + z + ..~\\right)\\right) = \\left(x - \\left(~.. + y + ... + z + ..~\\right)\\right)\\right)$"
      ],
      "text/plain": [
       "forall_{w, x, ..y.., ..z.. in Complexes} (((w + x) - ( .. + y + ..  + w +  .. + z + .. )) = (x - ( .. + y + ... + z + .. )))"
      ]
     },
     "execution_count": 51,
     "metadata": {},
     "output_type": "execute_result"
    }
   ],
   "source": [
    "subtractCancelElimLeftSum = Forall([w, x, yEtc, zEtc], \n",
    "                        Equals(Subtract(Add(w, x), Add(yEtc, w, zEtc)),\n",
    "                              Subtract(x, Add(yEtc, zEtc))), domain=Complexes)\n",
    "subtractCancelElimLeftSum"
   ]
  },
  {
   "cell_type": "code",
   "execution_count": 52,
   "metadata": {
    "collapsed": false
   },
   "outputs": [
    {
     "data": {
      "text/latex": [
       "$\\forall_{..w.., x, ..y.., z \\in \\mathbb{C}} \\left(\\left(\\left(~.. + w + ..~ + x + ~.. + y + ..~\\right) - \\left(x + z\\right)\\right) = \\left(\\left(~.. + w + ... + y + ..~\\right) - z\\right)\\right)$"
      ],
      "text/plain": [
       "forall_{..w.., x, ..y.., z in Complexes} ((( .. + w + ..  + x +  .. + y + .. ) - (x + z)) = (( .. + w + ... + y + .. ) - z))"
      ]
     },
     "execution_count": 52,
     "metadata": {},
     "output_type": "execute_result"
    }
   ],
   "source": [
    "subtractCancelElimRightSum = Forall([wEtc, x, yEtc, z], \n",
    "                        Equals(Subtract(Add(wEtc, x, yEtc), Add(x, z)),\n",
    "                              Subtract(Add(wEtc, yEtc), z)), domain=Complexes)\n",
    "subtractCancelElimRightSum"
   ]
  },
  {
   "cell_type": "code",
   "execution_count": 53,
   "metadata": {
    "collapsed": false
   },
   "outputs": [
    {
     "data": {
      "text/latex": [
       "$\\forall_{..v.., w, ..x.., ..y.., ..z.. \\in \\mathbb{C}} \\left(\\left(\\left(~.. + v + ..~ + w + ~.. + x + ..~\\right) - \\left(~.. + y + ..~ + w + ~.. + z + ..~\\right)\\right) = \\left(\\left(~.. + v + ... + x + ..~\\right) - \\left(~.. + y + ... + z + ..~\\right)\\right)\\right)$"
      ],
      "text/plain": [
       "forall_{..v.., w, ..x.., ..y.., ..z.. in Complexes} ((( .. + v + ..  + w +  .. + x + .. ) - ( .. + y + ..  + w +  .. + z + .. )) = (( .. + v + ... + x + .. ) - ( .. + y + ... + z + .. )))"
      ]
     },
     "execution_count": 53,
     "metadata": {},
     "output_type": "execute_result"
    }
   ],
   "source": [
    "subtractCancelTwoSums = Forall([vEtc, w, xEtc, yEtc, zEtc], \n",
    "                        Equals(Subtract(Add(vEtc, w, xEtc), Add(yEtc, w, zEtc)),\n",
    "                              Subtract(Add(vEtc, xEtc), Add(yEtc, zEtc))), domain=Complexes)\n",
    "subtractCancelTwoSums"
   ]
  },
  {
   "cell_type": "code",
   "execution_count": 54,
   "metadata": {
    "collapsed": false
   },
   "outputs": [
    {
     "data": {
      "text/latex": [
       "$\\forall_{..x.., y, ..z.. \\in \\mathbb{C}} \\left(\\left(\\left(~.. + x + ..~ + y + ~.. + z + ..~\\right) - y\\right) = \\left(~.. + x + ... + z + ..~\\right)\\right)$"
      ],
      "text/plain": [
       "forall_{..x.., y, ..z.. in Complexes} ((( .. + x + ..  + y +  .. + z + .. ) - y) = ( .. + x + ... + z + .. ))"
      ]
     },
     "execution_count": 54,
     "metadata": {},
     "output_type": "execute_result"
    }
   ],
   "source": [
    "subtractCancelLeftSum = Forall([xEtc, y, zEtc], \n",
    "                        Equals(Subtract(Add(xEtc, y, zEtc), y),\n",
    "                               Add(xEtc, zEtc)), domain=Complexes)\n",
    "subtractCancelLeftSum"
   ]
  },
  {
   "cell_type": "code",
   "execution_count": 55,
   "metadata": {
    "collapsed": false
   },
   "outputs": [
    {
     "data": {
      "text/latex": [
       "$\\forall_{..x.., y, ..z.. \\in \\mathbb{C}} \\left(\\left(y - \\left(~.. + x + ..~ + y + ~.. + z + ..~\\right)\\right) = \\left(-\\left(~.. + x + ... + z + ..~\\right)\\right)\\right)$"
      ],
      "text/plain": [
       "forall_{..x.., y, ..z.. in Complexes} ((y - ( .. + x + ..  + y +  .. + z + .. )) = (-( .. + x + ... + z + .. )))"
      ]
     },
     "execution_count": 55,
     "metadata": {},
     "output_type": "execute_result"
    }
   ],
   "source": [
    "subtractCancelRightSum = Forall([xEtc, y, zEtc], \n",
    "                        Equals(Subtract(y, Add(xEtc, y, zEtc)),\n",
    "                               Neg(Add(xEtc, zEtc))), domain=Complexes)\n",
    "subtractCancelRightSum"
   ]
  },
  {
   "cell_type": "code",
   "execution_count": 56,
   "metadata": {
    "collapsed": false
   },
   "outputs": [
    {
     "data": {
      "text/latex": [
       "$\\forall_{..v.., ..w.., ..x.., ..y.., ..z.. \\in \\mathbb{C}} \\left(\\left(~.. \\cdot v \\cdot ... \\cdot w \\cdot ... \\cdot x \\cdot ... \\cdot y \\cdot ... \\cdot z \\cdot ..~\\right) = \\left(~.. \\cdot v \\cdot ... \\cdot y \\cdot ... \\cdot x \\cdot ... \\cdot w \\cdot ... \\cdot z \\cdot ..~\\right)\\right)$"
      ],
      "text/plain": [
       "forall_{..v.., ..w.., ..x.., ..y.., ..z.. in Complexes} (( .. * v * ... * w * ... * x * ... * y * ... * z * .. ) = ( .. * v * ... * y * ... * x * ... * w * ... * z * .. ))"
      ]
     },
     "execution_count": 56,
     "metadata": {},
     "output_type": "execute_result"
    }
   ],
   "source": [
    "multComm = Forall([Etcetera(v),wEtc,xEtc,yEtc,zEtc],\n",
    "                 Equals(\n",
    "                        Multiply(Etcetera(v),wEtc,xEtc,yEtc,zEtc),\n",
    "                        Multiply(Etcetera(v),yEtc,xEtc,wEtc,zEtc)\n",
    "    ),\n",
    "                 domain = Complexes\n",
    "                 )\n",
    "multComm"
   ]
  },
  {
   "cell_type": "code",
   "execution_count": 57,
   "metadata": {
    "collapsed": false
   },
   "outputs": [
    {
     "data": {
      "text/latex": [
       "$\\forall_{..x.., ..y.., ..z.. \\in \\mathbb{C}} \\left(\\left(~.. \\cdot x \\cdot ... \\cdot y \\cdot ... \\cdot z \\cdot ..~\\right) = \\left(~.. \\cdot x \\cdot ..~ \\cdot \\left(~.. \\cdot y \\cdot ..~\\right) \\cdot ~.. \\cdot z \\cdot ..~\\right)\\right)$"
      ],
      "text/plain": [
       "forall_{..x.., ..y.., ..z.. in Complexes} (( .. * x * ... * y * ... * z * .. ) = ( .. * x * ..  * ( .. * y * .. ) *  .. * z * .. ))"
      ]
     },
     "execution_count": 57,
     "metadata": {},
     "output_type": "execute_result"
    }
   ],
   "source": [
    "multAssoc = Forall([xEtc,yEtc,zEtc],\n",
    "                  Equals(\n",
    "                        Multiply(\n",
    "                                xEtc,yEtc,zEtc),\n",
    "                        Multiply(\n",
    "                                xEtc,Multiply(yEtc),zEtc)\n",
    "                        ),\n",
    "                  domain = Complexes\n",
    "                  )\n",
    "multAssoc"
   ]
  },
  {
   "cell_type": "code",
   "execution_count": 58,
   "metadata": {
    "collapsed": false
   },
   "outputs": [
    {
     "data": {
      "text/latex": [
       "$\\forall_{..x.., ..y.., ..z.. \\in \\mathbb{C}} \\left(\\left(~.. \\cdot x \\cdot ..~ \\cdot \\left(~.. \\cdot y \\cdot ..~\\right) \\cdot ~.. \\cdot z \\cdot ..~\\right) = \\left(~.. \\cdot x \\cdot ... \\cdot y \\cdot ... \\cdot z \\cdot ..~\\right)\\right)$"
      ],
      "text/plain": [
       "forall_{..x.., ..y.., ..z.. in Complexes} (( .. * x * ..  * ( .. * y * .. ) *  .. * z * .. ) = ( .. * x * ... * y * ... * z * .. ))"
      ]
     },
     "execution_count": 58,
     "metadata": {},
     "output_type": "execute_result"
    }
   ],
   "source": [
    "multAssocRev = Forall([xEtc,yEtc,zEtc],\n",
    "                  Equals(\n",
    "                        Multiply(\n",
    "                                xEtc,Multiply(yEtc),zEtc),\n",
    "                        Multiply(\n",
    "                                xEtc,yEtc,zEtc)\n",
    "                        ),\n",
    "                  domain = Complexes\n",
    "                  )\n",
    "multAssocRev"
   ]
  },
  {
   "cell_type": "code",
   "execution_count": 59,
   "metadata": {
    "collapsed": false
   },
   "outputs": [
    {
     "data": {
      "text/latex": [
       "$\\forall_{..x.., ..y.., ..z.. \\in \\mathbb{C}} \\left(\\left(~.. \\cdot x \\cdot ..~ \\cdot \\left(~.. + y + ..~\\right) \\cdot ~.. \\cdot z \\cdot ..~\\right) = \\left(~.. + \\left(~.. \\cdot x \\cdot ..~ \\cdot y \\cdot ~.. \\cdot z \\cdot ..~\\right) + ..~\\right)\\right)$"
      ],
      "text/plain": [
       "forall_{..x.., ..y.., ..z.. in Complexes} (( .. * x * ..  * ( .. + y + .. ) *  .. * z * .. ) = ( .. + ( .. * x * ..  * y *  .. * z * .. ) + .. ))"
      ]
     },
     "execution_count": 59,
     "metadata": {},
     "output_type": "execute_result"
    }
   ],
   "source": [
    "distributeThroughSum =  Forall([xEtc, yEtc, zEtc],\n",
    "                  Equals(\n",
    "                        Multiply(xEtc, Add(yEtc), zEtc),\n",
    "                        Add(Etcetera(Multiply(xEtc, y, zEtc)))\n",
    "                        ),\n",
    "                  domain = Complexes\n",
    "                  )\n",
    "distributeThroughSum"
   ]
  },
  {
   "cell_type": "code",
   "execution_count": 60,
   "metadata": {
    "collapsed": false
   },
   "outputs": [
    {
     "data": {
      "text/latex": [
       "$\\forall_{..x.., ..y.., ..z.. \\in \\mathbb{C}} \\left(\\left(~.. + \\left(~.. \\cdot x \\cdot ..~ \\cdot y \\cdot ~.. \\cdot z \\cdot ..~\\right) + ..~\\right) = \\left(~.. \\cdot x \\cdot ..~ \\cdot \\left(~.. + y + ..~\\right) \\cdot ~.. \\cdot z \\cdot ..~\\right)\\right)$"
      ],
      "text/plain": [
       "forall_{..x.., ..y.., ..z.. in Complexes} (( .. + ( .. * x * ..  * y *  .. * z * .. ) + .. ) = ( .. * x * ..  * ( .. + y + .. ) *  .. * z * .. ))"
      ]
     },
     "execution_count": 60,
     "metadata": {},
     "output_type": "execute_result"
    }
   ],
   "source": [
    "distributeThroughSumRev =  Forall([xEtc, yEtc, zEtc],\n",
    "                                  Equals(Add(Etcetera(Multiply(xEtc, y, zEtc))),\n",
    "                                         Multiply(xEtc, Add(yEtc), zEtc)),\n",
    "                                  domain = Complexes)\n",
    "distributeThroughSumRev"
   ]
  },
  {
   "cell_type": "code",
   "execution_count": 61,
   "metadata": {
    "collapsed": false
   },
   "outputs": [
    {
     "data": {
      "text/latex": [
       "$\\forall_{..w.., x, y, ..z.. \\in \\mathbb{C}} \\left(\\left(~.. \\cdot w \\cdot ..~ \\cdot \\left(x - y\\right) \\cdot ~.. \\cdot z \\cdot ..~\\right) = \\left(\\left(~.. \\cdot w \\cdot ..~ \\cdot x \\cdot ~.. \\cdot z \\cdot ..~\\right) - \\left(~.. \\cdot w \\cdot ..~ \\cdot y \\cdot ~.. \\cdot z \\cdot ..~\\right)\\right)\\right)$"
      ],
      "text/plain": [
       "forall_{..w.., x, y, ..z.. in Complexes} (( .. * w * ..  * (x - y) *  .. * z * .. ) = (( .. * w * ..  * x *  .. * z * .. ) - ( .. * w * ..  * y *  .. * z * .. )))"
      ]
     },
     "execution_count": 61,
     "metadata": {},
     "output_type": "execute_result"
    }
   ],
   "source": [
    "distributeThroughSubtract =  Forall([wEtc, x, y, zEtc],\n",
    "                  Equals(\n",
    "                        Multiply(wEtc, Subtract(x, y), zEtc),\n",
    "                        Subtract(Multiply(wEtc, x, zEtc), Multiply(wEtc, y, zEtc))\n",
    "                        ),\n",
    "                  domain = Complexes\n",
    "                  )\n",
    "distributeThroughSubtract"
   ]
  },
  {
   "cell_type": "code",
   "execution_count": 62,
   "metadata": {
    "collapsed": false
   },
   "outputs": [
    {
     "data": {
      "text/latex": [
       "$\\forall_{..w.., x, y, ..z.. \\in \\mathbb{C}} \\left(\\left(\\left(~.. \\cdot w \\cdot ..~ \\cdot x \\cdot ~.. \\cdot z \\cdot ..~\\right) - \\left(~.. \\cdot w \\cdot ..~ \\cdot y \\cdot ~.. \\cdot z \\cdot ..~\\right)\\right) = \\left(~.. \\cdot w \\cdot ..~ \\cdot \\left(x - y\\right) \\cdot ~.. \\cdot z \\cdot ..~\\right)\\right)$"
      ],
      "text/plain": [
       "forall_{..w.., x, y, ..z.. in Complexes} ((( .. * w * ..  * x *  .. * z * .. ) - ( .. * w * ..  * y *  .. * z * .. )) = ( .. * w * ..  * (x - y) *  .. * z * .. ))"
      ]
     },
     "execution_count": 62,
     "metadata": {},
     "output_type": "execute_result"
    }
   ],
   "source": [
    "distributeThroughSubtractRev =  Forall([wEtc, x, y, zEtc],\n",
    "                  Equals(\n",
    "                        Subtract(Multiply(wEtc, x, zEtc), Multiply(wEtc, y, zEtc)),\n",
    "                        Multiply(wEtc, Subtract(x, y), zEtc)\n",
    "                        ),\n",
    "                  domain = Complexes\n",
    "                  )\n",
    "distributeThroughSubtractRev"
   ]
  },
  {
   "cell_type": "code",
   "execution_count": 63,
   "metadata": {
    "collapsed": false
   },
   "outputs": [
    {
     "data": {
      "text/latex": [
       "$\\forall_{P, S} \\left(\\left[\\forall_{..y.. \\in S} \\left(P\\left(..y..\\right) \\in \\mathbb{C}\\right)\\right] \\Rightarrow \\left[\\forall_{..x.., ..z.. \\in \\mathbb{C}} \\left(\\left(~.. \\cdot x \\cdot ..~ \\cdot \\left[\\sum_{..y.. \\in S} P\\left(..y..\\right)\\right] \\cdot ~.. \\cdot z \\cdot ..~\\right) = \\left[\\sum_{..y.. \\in S} \\left(~.. \\cdot x \\cdot ..~ \\cdot P\\left(..y..\\right) \\cdot ~.. \\cdot z \\cdot ..~\\right)\\right]\\right)\\right]\\right)$"
      ],
      "text/plain": [
       "forall_{P, S} ([forall_{..y.. in S} (P(..y..) in Complexes)] => [forall_{..x.., ..z.. in Complexes} (( .. * x * ..  * [Summation_{..y.. in S} P(..y..)] *  .. * z * .. ) = [Summation_{..y.. in S} ( .. * x * ..  * P(..y..) *  .. * z * .. )])])"
      ]
     },
     "execution_count": 63,
     "metadata": {},
     "output_type": "execute_result"
    }
   ],
   "source": [
    "distributeThroughSummation = Forall([P, S],\n",
    "                                    Implies(Forall(yEtc, In(PyEtc, Complexes), domain=S),\n",
    "                                            Forall([xEtc, zEtc],\n",
    "                                                   Equals(Multiply(xEtc, Summation(yEtc, PyEtc, domain=S), zEtc),\n",
    "                                                          Summation(yEtc, Multiply(xEtc, PyEtc, zEtc), domain=S)),\n",
    "                                                  domain=Complexes)))\n",
    "distributeThroughSummation"
   ]
  },
  {
   "cell_type": "code",
   "execution_count": 64,
   "metadata": {
    "collapsed": false
   },
   "outputs": [
    {
     "data": {
      "text/latex": [
       "$\\forall_{P, S} \\left(\\left[\\forall_{..y.. \\in S} \\left(P\\left(..y..\\right) \\in \\mathbb{C}\\right)\\right] \\Rightarrow \\left[\\forall_{..x.., ..z.. \\in \\mathbb{C}} \\left(\\left[\\sum_{..y.. \\in S} \\left(~.. \\cdot x \\cdot ..~ \\cdot P\\left(..y..\\right) \\cdot ~.. \\cdot z \\cdot ..~\\right)\\right] = \\left(~.. \\cdot x \\cdot ..~ \\cdot \\left[\\sum_{..y.. \\in S} P\\left(..y..\\right)\\right] \\cdot ~.. \\cdot z \\cdot ..~\\right)\\right)\\right]\\right)$"
      ],
      "text/plain": [
       "forall_{P, S} ([forall_{..y.. in S} (P(..y..) in Complexes)] => [forall_{..x.., ..z.. in Complexes} ([Summation_{..y.. in S} ( .. * x * ..  * P(..y..) *  .. * z * .. )] = ( .. * x * ..  * [Summation_{..y.. in S} P(..y..)] *  .. * z * .. ))])"
      ]
     },
     "execution_count": 64,
     "metadata": {},
     "output_type": "execute_result"
    }
   ],
   "source": [
    "distributeThroughSummationRev = Forall([P, S],\n",
    "                                    Implies(Forall(yEtc, In(PyEtc, Complexes), domain=S),\n",
    "                                            Forall([xEtc, zEtc],\n",
    "                                                   Equals(Summation(yEtc, Multiply(xEtc, PyEtc, zEtc), domain=S),\n",
    "                                                         Multiply(xEtc, Summation(yEtc, PyEtc, domain=S), zEtc)),\n",
    "                                                  domain=Complexes)))\n",
    "distributeThroughSummationRev"
   ]
  },
  {
   "cell_type": "code",
   "execution_count": 65,
   "metadata": {
    "collapsed": false
   },
   "outputs": [
    {
     "data": {
      "text/latex": [
       "$\\forall_{..x.., y \\in \\mathbb{C}~|~y \\neq 0} \\left(\\frac{~.. + x + ..~}{y} = \\left(~.. + \\frac{x}{y} + ..~\\right)\\right)$"
      ],
      "text/plain": [
       "forall_{..x.., y in Complexes | y != 0} (( .. + x + .. ) / y = ( .. + x / y + .. ))"
      ]
     },
     "execution_count": 65,
     "metadata": {},
     "output_type": "execute_result"
    }
   ],
   "source": [
    "distributeFractionThroughSum = Forall([xEtc, y], \n",
    "                                      Equals(Fraction(Add(xEtc), y),\n",
    "                                             Add(Etcetera(Fraction(x, y)))), \n",
    "                                      domain=Complexes, conditions=[NotEquals(y, zero)])\n",
    "distributeFractionThroughSum"
   ]
  },
  {
   "cell_type": "code",
   "execution_count": 66,
   "metadata": {
    "collapsed": false
   },
   "outputs": [
    {
     "data": {
      "text/latex": [
       "$\\forall_{..x.., y \\in \\mathbb{C}~|~y \\neq 0} \\left(\\left(~.. + \\frac{x}{y} + ..~\\right) = \\frac{~.. + x + ..~}{y}\\right)$"
      ],
      "text/plain": [
       "forall_{..x.., y in Complexes | y != 0} (( .. + x / y + .. ) = ( .. + x + .. ) / y)"
      ]
     },
     "execution_count": 66,
     "metadata": {},
     "output_type": "execute_result"
    }
   ],
   "source": [
    "distributeFractionThroughSumRev = Forall([xEtc, y], \n",
    "                                      Equals(Add(Etcetera(Fraction(x, y))),\n",
    "                                             Fraction(Add(xEtc), y)), \n",
    "                                      domain=Complexes, conditions=[NotEquals(y, zero)])\n",
    "distributeFractionThroughSumRev"
   ]
  },
  {
   "cell_type": "code",
   "execution_count": 67,
   "metadata": {
    "collapsed": false
   },
   "outputs": [
    {
     "data": {
      "text/latex": [
       "$\\forall_{x, y, z \\in \\mathbb{C}~|~z \\neq 0} \\left(\\frac{x - y}{z} = \\left(\\frac{x}{z} - \\frac{y}{z}\\right)\\right)$"
      ],
      "text/plain": [
       "forall_{x, y, z in Complexes | z != 0} ((x - y) / z = (x / z - y / z))"
      ]
     },
     "execution_count": 67,
     "metadata": {},
     "output_type": "execute_result"
    }
   ],
   "source": [
    "distributeFractionThroughSubtract = Forall([x, y, z], \n",
    "                                          Equals(Fraction(Subtract(x, y), z),\n",
    "                                                 Subtract(Fraction(x, z), Fraction(y, z))), \n",
    "                                          domain=Complexes, conditions=[NotEquals(z, zero)])\n",
    "distributeFractionThroughSubtract"
   ]
  },
  {
   "cell_type": "code",
   "execution_count": 68,
   "metadata": {
    "collapsed": false
   },
   "outputs": [
    {
     "data": {
      "text/latex": [
       "$\\forall_{x, y, z \\in \\mathbb{C}~|~z \\neq 0} \\left(\\left(\\frac{x}{z} - \\frac{y}{z}\\right) = \\frac{x - y}{z}\\right)$"
      ],
      "text/plain": [
       "forall_{x, y, z in Complexes | z != 0} ((x / z - y / z) = (x - y) / z)"
      ]
     },
     "execution_count": 68,
     "metadata": {},
     "output_type": "execute_result"
    }
   ],
   "source": [
    "distributeFractionThroughSubtractRev = Forall([x, y, z], \n",
    "                                              Equals(Subtract(Fraction(x, z), Fraction(y, z)),\n",
    "                                                     Fraction(Subtract(x, y), z)), \n",
    "                                              domain=Complexes, conditions=[NotEquals(z, zero)])\n",
    "distributeFractionThroughSubtractRev"
   ]
  },
  {
   "cell_type": "code",
   "execution_count": 69,
   "metadata": {
    "collapsed": false
   },
   "outputs": [
    {
     "data": {
      "text/latex": [
       "$\\forall_{P, S} \\left(\\left[\\forall_{..y.. \\in S} \\left(P\\left(..y..\\right) \\in \\mathbb{C}\\right)\\right] \\Rightarrow \\left[\\forall_{z \\in \\mathbb{C}} \\left(\\frac{\\sum_{..y.. \\in S} P\\left(..y..\\right)}{z} = \\left[\\sum_{..y.. \\in S} \\frac{P\\left(..y..\\right)}{z}\\right]\\right)\\right]\\right)$"
      ],
      "text/plain": [
       "forall_{P, S} ([forall_{..y.. in S} (P(..y..) in Complexes)] => [forall_{z in Complexes} ([Summation_{..y.. in S} P(..y..)] / z = [Summation_{..y.. in S} P(..y..) / z])])"
      ]
     },
     "execution_count": 69,
     "metadata": {},
     "output_type": "execute_result"
    }
   ],
   "source": [
    "distributeFractionThroughSummation = Forall([P, S],\n",
    "                                    Implies(Forall(yEtc, In(PyEtc, Complexes), domain=S),\n",
    "                                            Forall(z,\n",
    "                                                   Equals(Fraction(Summation(yEtc, PyEtc, domain=S), z),\n",
    "                                                          Summation(yEtc, Fraction(PyEtc, z), domain=S)),\n",
    "                                                  domain=Complexes)))\n",
    "distributeFractionThroughSummation"
   ]
  },
  {
   "cell_type": "code",
   "execution_count": 70,
   "metadata": {
    "collapsed": false
   },
   "outputs": [
    {
     "data": {
      "text/latex": [
       "$\\forall_{P, S} \\left(\\left[\\forall_{..y.. \\in S} \\left(P\\left(..y..\\right) \\in \\mathbb{C}\\right)\\right] \\Rightarrow \\left[\\forall_{z \\in \\mathbb{C}} \\left(\\left[\\sum_{..y.. \\in S} \\frac{P\\left(..y..\\right)}{z}\\right] = \\frac{\\sum_{..y.. \\in S} P\\left(..y..\\right)}{z}\\right)\\right]\\right)$"
      ],
      "text/plain": [
       "forall_{P, S} ([forall_{..y.. in S} (P(..y..) in Complexes)] => [forall_{z in Complexes} ([Summation_{..y.. in S} P(..y..) / z] = [Summation_{..y.. in S} P(..y..)] / z)])"
      ]
     },
     "execution_count": 70,
     "metadata": {},
     "output_type": "execute_result"
    }
   ],
   "source": [
    "distributeFractionThroughSummationRev = Forall([P, S],\n",
    "                                    Implies(Forall(yEtc, In(PyEtc, Complexes), domain=S),\n",
    "                                            Forall(z,\n",
    "                                                   Equals(Summation(yEtc, Fraction(PyEtc, z), domain=S),\n",
    "                                                         Fraction(Summation(yEtc, PyEtc, domain=S), z)),\n",
    "                                                  domain=Complexes)))\n",
    "distributeFractionThroughSummationRev"
   ]
  },
  {
   "cell_type": "code",
   "execution_count": 71,
   "metadata": {
    "collapsed": false
   },
   "outputs": [
    {
     "data": {
      "text/latex": [
       "$\\forall_{x, y \\in \\mathbb{C}} \\left(\\left(\\left(-x\\right) \\cdot y\\right) = \\left(-\\left(x \\cdot y\\right)\\right)\\right)$"
      ],
      "text/plain": [
       "forall_{x, y in Complexes} (((-x) * y) = (-(x * y)))"
      ]
     },
     "execution_count": 71,
     "metadata": {},
     "output_type": "execute_result"
    }
   ],
   "source": [
    "negTimesPos = Forall([x, y], Equals(Multiply(Neg(x), y), Neg(Multiply(x, y))), domain=Complexes)\n",
    "negTimesPos"
   ]
  },
  {
   "cell_type": "code",
   "execution_count": 72,
   "metadata": {
    "collapsed": false
   },
   "outputs": [
    {
     "data": {
      "text/latex": [
       "$\\forall_{x, y \\in \\mathbb{C}} \\left(\\left(-\\left(x \\cdot y\\right)\\right) = \\left(\\left(-x\\right) \\cdot y\\right)\\right)$"
      ],
      "text/plain": [
       "forall_{x, y in Complexes} ((-(x * y)) = ((-x) * y))"
      ]
     },
     "execution_count": 72,
     "metadata": {},
     "output_type": "execute_result"
    }
   ],
   "source": [
    "negTimesPosRev = Forall([x, y], Equals(Neg(Multiply(x, y)), Multiply(Neg(x), y)), domain=Complexes)\n",
    "negTimesPosRev"
   ]
  },
  {
   "cell_type": "code",
   "execution_count": 73,
   "metadata": {
    "collapsed": false
   },
   "outputs": [
    {
     "data": {
      "text/latex": [
       "$\\forall_{x, y \\in \\mathbb{C}} \\left(\\left(x \\cdot \\left(-y\\right)\\right) = \\left(-\\left(x \\cdot y\\right)\\right)\\right)$"
      ],
      "text/plain": [
       "forall_{x, y in Complexes} ((x * (-y)) = (-(x * y)))"
      ]
     },
     "execution_count": 73,
     "metadata": {},
     "output_type": "execute_result"
    }
   ],
   "source": [
    "posTimesNeg = Forall([x, y], Equals(Multiply(x, Neg(y)), Neg(Multiply(x, y))), domain=Complexes)\n",
    "posTimesNeg"
   ]
  },
  {
   "cell_type": "code",
   "execution_count": 74,
   "metadata": {
    "collapsed": false
   },
   "outputs": [
    {
     "data": {
      "text/latex": [
       "$\\forall_{x, y \\in \\mathbb{C}} \\left(\\left(-\\left(x \\cdot y\\right)\\right) = \\left(x \\cdot \\left(-y\\right)\\right)\\right)$"
      ],
      "text/plain": [
       "forall_{x, y in Complexes} ((-(x * y)) = (x * (-y)))"
      ]
     },
     "execution_count": 74,
     "metadata": {},
     "output_type": "execute_result"
    }
   ],
   "source": [
    "posTimesNegRev = Forall([x, y], Equals(Neg(Multiply(x, y)), Multiply(x, Neg(y))), domain=Complexes)\n",
    "posTimesNegRev"
   ]
  },
  {
   "cell_type": "code",
   "execution_count": 75,
   "metadata": {
    "collapsed": false
   },
   "outputs": [
    {
     "data": {
      "text/latex": [
       "$\\forall_{x, y \\in \\mathbb{C}} \\left(\\left(\\left(-x\\right) \\cdot \\left(-y\\right)\\right) = \\left(x \\cdot y\\right)\\right)$"
      ],
      "text/plain": [
       "forall_{x, y in Complexes} (((-x) * (-y)) = (x * y))"
      ]
     },
     "execution_count": 75,
     "metadata": {},
     "output_type": "execute_result"
    }
   ],
   "source": [
    "negTimesNeg = Forall([x, y], Equals(Multiply(Neg(x), Neg(y)), Multiply(x, y)), domain=Complexes)\n",
    "negTimesNeg"
   ]
  },
  {
   "cell_type": "code",
   "execution_count": 76,
   "metadata": {
    "collapsed": false
   },
   "outputs": [
    {
     "data": {
      "text/latex": [
       "$\\forall_{..w.., x, y, ..z.. \\in \\mathbb{C}} \\left(\\left(~.. \\cdot w \\cdot ..~ \\cdot \\frac{x}{y} \\cdot ~.. \\cdot z \\cdot ..~\\right) = \\frac{~.. \\cdot w \\cdot ..~ \\cdot x \\cdot ~.. \\cdot z \\cdot ..~}{y}\\right)$"
      ],
      "text/plain": [
       "forall_{..w.., x, y, ..z.. in Complexes} (( .. * w * ..  * x / y *  .. * z * .. ) = ( .. * w * ..  * x *  .. * z * .. ) / y)"
      ]
     },
     "execution_count": 76,
     "metadata": {},
     "output_type": "execute_result"
    }
   ],
   "source": [
    "fracInProd = Forall([wEtc, x, y, zEtc], Equals(Multiply(wEtc, Fraction(x, y), zEtc),\n",
    "                                        Fraction(Multiply(wEtc, x, zEtc), y)), domain=Complexes)\n",
    "fracInProd"
   ]
  },
  {
   "cell_type": "code",
   "execution_count": 77,
   "metadata": {
    "collapsed": false
   },
   "outputs": [
    {
     "data": {
      "text/latex": [
       "$\\forall_{..w.., x, y, ..z.. \\in \\mathbb{C}} \\left(\\frac{~.. \\cdot w \\cdot ..~ \\cdot x \\cdot ~.. \\cdot z \\cdot ..~}{y} = \\left(~.. \\cdot w \\cdot ..~ \\cdot \\frac{x}{y} \\cdot ~.. \\cdot z \\cdot ..~\\right)\\right)$"
      ],
      "text/plain": [
       "forall_{..w.., x, y, ..z.. in Complexes} (( .. * w * ..  * x *  .. * z * .. ) / y = ( .. * w * ..  * x / y *  .. * z * .. ))"
      ]
     },
     "execution_count": 77,
     "metadata": {},
     "output_type": "execute_result"
    }
   ],
   "source": [
    "fracInProdRev = Forall([wEtc, x, y, zEtc], \n",
    "                       Equals(Fraction(Multiply(wEtc, x, zEtc), y),\n",
    "                             Multiply(wEtc, Fraction(x, y), zEtc)), domain=Complexes)\n",
    "fracInProdRev"
   ]
  },
  {
   "cell_type": "code",
   "execution_count": 78,
   "metadata": {
    "collapsed": false
   },
   "outputs": [
    {
     "data": {
      "text/latex": [
       "$\\forall_{x, y, z, w \\in \\mathbb{C}} \\left(\\left(\\frac{x}{z} \\cdot \\frac{y}{w}\\right) = \\frac{x \\cdot y}{z \\cdot w}\\right)$"
      ],
      "text/plain": [
       "forall_{x, y, z, w in Complexes} ((x / z * y / w) = (x * y) / (z * w))"
      ]
     },
     "execution_count": 78,
     "metadata": {},
     "output_type": "execute_result"
    }
   ],
   "source": [
    "prodOfFracs = Forall([x, y, z, w], Equals(Multiply(Fraction(x, z), Fraction(y, w)),\n",
    "                                           Fraction(Multiply(x, y), Multiply(z, w))), domain=Complexes)\n",
    "prodOfFracs"
   ]
  },
  {
   "cell_type": "code",
   "execution_count": 79,
   "metadata": {
    "collapsed": false
   },
   "outputs": [
    {
     "data": {
      "text/latex": [
       "$\\forall_{x, y, z, w \\in \\mathbb{C}} \\left(\\frac{x \\cdot y}{z \\cdot w} = \\left(\\frac{x}{z} \\cdot \\frac{y}{w}\\right)\\right)$"
      ],
      "text/plain": [
       "forall_{x, y, z, w in Complexes} ((x * y) / (z * w) = (x / z * y / w))"
      ]
     },
     "execution_count": 79,
     "metadata": {},
     "output_type": "execute_result"
    }
   ],
   "source": [
    "prodOfFracsRev = Forall([x, y, z, w], Equals(Fraction(Multiply(x, y), Multiply(z, w)),\n",
    "                                          Multiply(Fraction(x, z), Fraction(y, w))), domain=Complexes)\n",
    "prodOfFracsRev"
   ]
  },
  {
   "cell_type": "code",
   "execution_count": 80,
   "metadata": {
    "collapsed": false
   },
   "outputs": [
    {
     "data": {
      "text/latex": [
       "$\\forall_{x, y, z \\in \\mathbb{C}} \\left(\\left(\\frac{1}{y} \\cdot \\frac{x}{z}\\right) = \\frac{x}{y \\cdot z}\\right)$"
      ],
      "text/plain": [
       "forall_{x, y, z in Complexes} ((1 / y * x / z) = x / (y * z))"
      ]
     },
     "execution_count": 80,
     "metadata": {},
     "output_type": "execute_result"
    }
   ],
   "source": [
    "prodOfFracsLeftNumerOne = Forall([x, y, z], Equals(Multiply(Fraction(one, y), Fraction(x, z)),\n",
    "                                                 Fraction(x, Multiply(y, z))), domain=Complexes)\n",
    "prodOfFracsLeftNumerOne"
   ]
  },
  {
   "cell_type": "code",
   "execution_count": 81,
   "metadata": {
    "collapsed": false
   },
   "outputs": [
    {
     "data": {
      "text/latex": [
       "$\\forall_{x, y, z \\in \\mathbb{C}} \\left(\\frac{x}{y \\cdot z} = \\left(\\frac{1}{y} \\cdot \\frac{x}{z}\\right)\\right)$"
      ],
      "text/plain": [
       "forall_{x, y, z in Complexes} (x / (y * z) = (1 / y * x / z))"
      ]
     },
     "execution_count": 81,
     "metadata": {},
     "output_type": "execute_result"
    }
   ],
   "source": [
    "prodOfFracsLeftNumerOneRev = Forall([x, y, z], Equals(Fraction(x, Multiply(y, z)),\n",
    "                                                   Multiply(Fraction(one, y), Fraction(x, z))), domain=Complexes)\n",
    "prodOfFracsLeftNumerOneRev"
   ]
  },
  {
   "cell_type": "code",
   "execution_count": 82,
   "metadata": {
    "collapsed": false
   },
   "outputs": [
    {
     "data": {
      "text/latex": [
       "$\\forall_{x, y, z \\in \\mathbb{C}} \\left(\\left(\\frac{x}{y} \\cdot \\frac{1}{z}\\right) = \\frac{x}{y \\cdot z}\\right)$"
      ],
      "text/plain": [
       "forall_{x, y, z in Complexes} ((x / y * 1 / z) = x / (y * z))"
      ]
     },
     "execution_count": 82,
     "metadata": {},
     "output_type": "execute_result"
    }
   ],
   "source": [
    "prodOfFracsRightNumerOne = Forall([x, y, z], Equals(Multiply(Fraction(x, y), Fraction(one, z)),\n",
    "                                                 Fraction(x, Multiply(y, z))), domain=Complexes)\n",
    "prodOfFracsRightNumerOne"
   ]
  },
  {
   "cell_type": "code",
   "execution_count": 83,
   "metadata": {
    "collapsed": false
   },
   "outputs": [
    {
     "data": {
      "text/latex": [
       "$\\forall_{x, y, z \\in \\mathbb{C}} \\left(\\frac{x}{y \\cdot z} = \\left(\\frac{x}{y} \\cdot \\frac{1}{z}\\right)\\right)$"
      ],
      "text/plain": [
       "forall_{x, y, z in Complexes} (x / (y * z) = (x / y * 1 / z))"
      ]
     },
     "execution_count": 83,
     "metadata": {},
     "output_type": "execute_result"
    }
   ],
   "source": [
    "prodOfFracsRightNumerOneRev = Forall([x, y, z], Equals(Fraction(x, Multiply(y, z)),\n",
    "                                                    Multiply(Fraction(x, y), Fraction(one, z))), domain=Complexes)\n",
    "prodOfFracsRightNumerOneRev"
   ]
  },
  {
   "cell_type": "code",
   "execution_count": 84,
   "metadata": {
    "collapsed": false
   },
   "outputs": [
    {
     "data": {
      "text/latex": [
       "$\\forall_{x, y, z \\in \\mathbb{C}~|~x \\neq 0} \\left(\\frac{x \\cdot y}{x \\cdot z} = \\frac{y}{z}\\right)$"
      ],
      "text/plain": [
       "forall_{x, y, z in Complexes | x != 0} ((x * y) / (x * z) = y / z)"
      ]
     },
     "execution_count": 84,
     "metadata": {},
     "output_type": "execute_result"
    }
   ],
   "source": [
    "fracCancel1 = Forall([x,y,z],\n",
    "                   Equals(Fraction(Multiply(x,y),Multiply(x,z)),\n",
    "                         Fraction(y,z)),domain=Complexes, conditions=[NotEquals(x, zero)])\n",
    "fracCancel1"
   ]
  },
  {
   "cell_type": "code",
   "execution_count": 85,
   "metadata": {
    "collapsed": false
   },
   "outputs": [
    {
     "data": {
      "text/latex": [
       "$\\forall_{x, y \\in \\mathbb{C}~|~x \\neq 0} \\left(\\frac{x \\cdot y}{x} = y\\right)$"
      ],
      "text/plain": [
       "forall_{x, y in Complexes | x != 0} ((x * y) / x = y)"
      ]
     },
     "execution_count": 85,
     "metadata": {},
     "output_type": "execute_result"
    }
   ],
   "source": [
    "fracCancel2 = Forall([x,y],\n",
    "                   Equals(Fraction(Multiply(x,y),x),\n",
    "                         y),domain=Complexes, conditions=[NotEquals(x, zero)])\n",
    "fracCancel2"
   ]
  },
  {
   "cell_type": "code",
   "execution_count": 86,
   "metadata": {
    "collapsed": false
   },
   "outputs": [
    {
     "data": {
      "text/latex": [
       "$\\forall_{x, y \\in \\mathbb{C}~|~x \\neq 0} \\left(\\frac{x}{x \\cdot y} = \\frac{1}{y}\\right)$"
      ],
      "text/plain": [
       "forall_{x, y in Complexes | x != 0} (x / (x * y) = 1 / y)"
      ]
     },
     "execution_count": 86,
     "metadata": {},
     "output_type": "execute_result"
    }
   ],
   "source": [
    "fracCancel3 = Forall([x,y],\n",
    "                   Equals(Fraction(x,Multiply(x,y)),\n",
    "                         Fraction(one,y)),domain=Complexes, conditions=[NotEquals(x, zero)])\n",
    "fracCancel3"
   ]
  },
  {
   "cell_type": "code",
   "execution_count": 87,
   "metadata": {
    "collapsed": false
   },
   "outputs": [
    {
     "data": {
      "text/latex": [
       "$\\forall_{x, y \\in \\mathbb{C}~|~y \\neq 0} \\left(\\left(\\frac{x}{y} \\cdot y\\right) = x\\right)$"
      ],
      "text/plain": [
       "forall_{x, y in Complexes | y != 0} ((x / y * y) = x)"
      ]
     },
     "execution_count": 87,
     "metadata": {},
     "output_type": "execute_result"
    }
   ],
   "source": [
    "fracCancel4 = Forall([x,y],\n",
    "                      Equals(Multiply(Fraction(x,y),y),x),\n",
    "                      domain = Complexes, conditions = [NotEquals(y, zero)])\n",
    "fracCancel4"
   ]
  },
  {
   "cell_type": "code",
   "execution_count": 88,
   "metadata": {
    "collapsed": false
   },
   "outputs": [
    {
     "data": {
      "text/latex": [
       "$\\forall_{x, y \\in \\mathbb{C}~|~x \\neq 0} \\left(\\left(x \\cdot \\frac{y}{x}\\right) = y\\right)$"
      ],
      "text/plain": [
       "forall_{x, y in Complexes | x != 0} ((x * y / x) = y)"
      ]
     },
     "execution_count": 88,
     "metadata": {},
     "output_type": "execute_result"
    }
   ],
   "source": [
    "fracCancel5 = Forall([x,y],\n",
    "                      Equals(Multiply(x, Fraction(y, x)),y),\n",
    "                      domain = Complexes, conditions = [NotEquals(x, zero)])\n",
    "fracCancel5"
   ]
  },
  {
   "cell_type": "code",
   "execution_count": 89,
   "metadata": {
    "collapsed": false
   },
   "outputs": [
    {
     "data": {
      "text/latex": [
       "$\\forall_{w, x, y, z \\in \\mathbb{C}} \\left(\\frac{w - x}{y - z} = \\frac{x - w}{z - y}\\right)$"
      ],
      "text/plain": [
       "forall_{w, x, y, z in Complexes} ((w - x) / (y - z) = (x - w) / (z - y))"
      ]
     },
     "execution_count": 89,
     "metadata": {},
     "output_type": "execute_result"
    }
   ],
   "source": [
    "reverseFractionOfSubtractions = Forall([w, x, y, z], Equals(Fraction(Subtract(w, x), Subtract(y, z)),\n",
    "                                                           Fraction(Subtract(x, w), Subtract(z, y))), domain=Complexes)\n",
    "reverseFractionOfSubtractions"
   ]
  },
  {
   "cell_type": "code",
   "execution_count": 90,
   "metadata": {
    "collapsed": false
   },
   "outputs": [
    {
     "data": {
      "text/latex": [
       "$\\forall_{x, y \\in \\mathbb{C}} \\left(\\left(x^{y} \\cdot x\\right) = x^{y + 1}\\right)$"
      ],
      "text/plain": [
       "forall_{x, y in Complexes} ((x^(y) * x) = x^(y + 1))"
      ]
     },
     "execution_count": 90,
     "metadata": {},
     "output_type": "execute_result"
    }
   ],
   "source": [
    "expAdd1 = Forall([x,y],Equals(Multiply(Exponentiate(x,y),x),Exponentiate(x,Add(y,one))),\n",
    "                domain = Complexes)\n",
    "expAdd1"
   ]
  },
  {
   "cell_type": "code",
   "execution_count": 91,
   "metadata": {
    "collapsed": false
   },
   "outputs": [
    {
     "data": {
      "text/latex": [
       "$\\forall_{x, y, z \\in \\mathbb{C}} \\left(\\left(x^{y} \\cdot x \\cdot z\\right) = \\left(x^{y + 1} \\cdot z\\right)\\right)$"
      ],
      "text/plain": [
       "forall_{x, y, z in Complexes} ((x^(y) * x * z) = (x^(y + 1) * z))"
      ]
     },
     "execution_count": 91,
     "metadata": {},
     "output_type": "execute_result"
    }
   ],
   "source": [
    "expAdd1a = Forall([x,y,z],\n",
    "                 Equals(\n",
    "        Multiply(Exponentiate(x,y),x,z),\n",
    "        Multiply(Exponentiate(x,Add(y,one)),z)),\n",
    "                domain = Complexes)\n",
    "expAdd1a"
   ]
  },
  {
   "cell_type": "code",
   "execution_count": 92,
   "metadata": {
    "collapsed": false
   },
   "outputs": [
    {
     "data": {
      "text/latex": [
       "$\\forall_{x, y, z \\in \\mathbb{C}} \\left(\\left(\\frac{x}{y}\\right)^{z} = \\frac{x^{z}}{y^{z}}\\right)$"
      ],
      "text/plain": [
       "forall_{x, y, z in Complexes} ((x / y)^(z) = x^(z) / y^(z))"
      ]
     },
     "execution_count": 92,
     "metadata": {},
     "output_type": "execute_result"
    }
   ],
   "source": [
    "fracExp = Forall([x,y,z],\n",
    "                 Equals(Exponentiate(Fraction(x,y),z),\n",
    "                       Fraction(Exponentiate(x,z),Exponentiate(y,z))),\n",
    "                 domain = Complexes)\n",
    "fracExp"
   ]
  },
  {
   "cell_type": "code",
   "execution_count": 93,
   "metadata": {
    "collapsed": false
   },
   "outputs": [
    {
     "data": {
      "text/latex": [
       "$\\forall_{x \\in \\mathbb{C}} \\left(x^{1} = x\\right)$"
      ],
      "text/plain": [
       "forall_{x in Complexes} (x^(1) = x)"
      ]
     },
     "execution_count": 93,
     "metadata": {},
     "output_type": "execute_result"
    }
   ],
   "source": [
    "oneExp = Forall([x],\n",
    "               Equals(Exponentiate(x,one),\n",
    "                      x),\n",
    "               domain = Complexes)\n",
    "oneExp"
   ]
  },
  {
   "cell_type": "code",
   "execution_count": 94,
   "metadata": {
    "collapsed": false
   },
   "outputs": [
    {
     "data": {
      "text/latex": [
       "$\\forall_{x \\in \\mathbb{C}} \\left(1^{x} = 1\\right)$"
      ],
      "text/plain": [
       "forall_{x in Complexes} (1^(x) = 1)"
      ]
     },
     "execution_count": 94,
     "metadata": {},
     "output_type": "execute_result"
    }
   ],
   "source": [
    "expOne = Forall([x],\n",
    "               Equals(Exponentiate(one,x),\n",
    "                     one),\n",
    "               domain = Complexes)\n",
    "expOne"
   ]
  },
  {
   "cell_type": "code",
   "execution_count": 95,
   "metadata": {
    "collapsed": false
   },
   "outputs": [
    {
     "data": {
      "text/latex": [
       "$\\forall_{x \\in \\mathbb{C}} \\left(\\left(1 \\cdot x\\right) = x\\right)$"
      ],
      "text/plain": [
       "forall_{x in Complexes} ((1 * x) = x)"
      ]
     },
     "execution_count": 95,
     "metadata": {},
     "output_type": "execute_result"
    }
   ],
   "source": [
    "multOne = Forall([x],\n",
    "                Equals(Multiply(one,x),x),\n",
    "                domain = Complexes)\n",
    "multOne"
   ]
  },
  {
   "cell_type": "code",
   "execution_count": 96,
   "metadata": {
    "collapsed": false
   },
   "outputs": [
    {
     "data": {
      "text/latex": [
       "$\\forall_{x, y, z \\in \\mathbb{C}} \\left(\\left(\\left(x + y\\right) \\cdot z\\right) = \\left(\\left(x \\cdot z\\right) + \\left(y \\cdot z\\right)\\right)\\right)$"
      ],
      "text/plain": [
       "forall_{x, y, z in Complexes} (((x + y) * z) = ((x * z) + (y * z)))"
      ]
     },
     "execution_count": 96,
     "metadata": {},
     "output_type": "execute_result"
    }
   ],
   "source": [
    "multOverAdd = Forall([x,y,z],\n",
    "                    Equals(Multiply(Add(x,y),z),\n",
    "                    Add(Multiply(x,z),Multiply(y,z))),\n",
    "                    domain = Complexes)\n",
    "multOverAdd"
   ]
  },
  {
   "cell_type": "code",
   "execution_count": 97,
   "metadata": {
    "collapsed": false
   },
   "outputs": [
    {
     "data": {
      "text/latex": [
       "$\\forall_{x, y, z \\in \\mathbb{C}} \\left(\\left(\\left(x - y\\right) \\cdot z\\right) = \\left(\\left(x \\cdot z\\right) - \\left(y \\cdot z\\right)\\right)\\right)$"
      ],
      "text/plain": [
       "forall_{x, y, z in Complexes} (((x - y) * z) = ((x * z) - (y * z)))"
      ]
     },
     "execution_count": 97,
     "metadata": {},
     "output_type": "execute_result"
    }
   ],
   "source": [
    "multOverSubtract = Forall([x,y,z],\n",
    "                    Equals(Multiply(Subtract(x,y),z),\n",
    "                    Subtract(Multiply(x,z),Multiply(y,z))),\n",
    "                    domain = Complexes)\n",
    "multOverSubtract"
   ]
  },
  {
   "cell_type": "code",
   "execution_count": 98,
   "metadata": {
    "collapsed": false
   },
   "outputs": [
    {
     "data": {
      "text/latex": [
       "$\\forall_{x, y, z \\in \\mathbb{C}} \\left(\\left(x^{y} \\cdot z^{y}\\right) = \\left(x \\cdot z\\right)^{y}\\right)$"
      ],
      "text/plain": [
       "forall_{x, y, z in Complexes} ((x^(y) * z^(y)) = (x * z)^(y))"
      ]
     },
     "execution_count": 98,
     "metadata": {},
     "output_type": "execute_result"
    }
   ],
   "source": [
    "samePowDistribute = Forall([x,y,z],\n",
    "                            Equals(Multiply(Exponentiate(x,y),Exponentiate(z,y)),\n",
    "                                 Exponentiate(Multiply(x,z),y)),\n",
    "                            domain = Complexes)\n",
    "samePowDistribute"
   ]
  },
  {
   "cell_type": "code",
   "execution_count": 99,
   "metadata": {
    "collapsed": false
   },
   "outputs": [
    {
     "data": {
      "text/latex": [
       "$\\forall_{a, b \\in \\mathbb{C}} \\left(\\left(a + \\left(b - b\\right)\\right) = a\\right)$"
      ],
      "text/plain": [
       "forall_{a, b in Complexes} ((a + (b - b)) = a)"
      ]
     },
     "execution_count": 99,
     "metadata": {},
     "output_type": "execute_result"
    }
   ],
   "source": [
    "cancelAddition = Forall([a,b],\n",
    "                        Equals(Add(a, Subtract(b,b)), a),\n",
    "                       domain=Complexes)\n",
    "cancelAddition"
   ]
  },
  {
   "cell_type": "code",
   "execution_count": 100,
   "metadata": {
    "collapsed": false
   },
   "outputs": [
    {
     "data": {
      "text/latex": [
       "$\\forall_{a, b \\in \\mathbb{C}} \\left(\\left(\\left(a - \\left(-b\\right)\\right) - b\\right) = a\\right)$"
      ],
      "text/plain": [
       "forall_{a, b in Complexes} (((a - (-b)) - b) = a)"
      ]
     },
     "execution_count": 100,
     "metadata": {},
     "output_type": "execute_result"
    }
   ],
   "source": [
    "cancelSubAndAdd = Forall([a,b],\n",
    "                         Equals(Subtract(Subtract(a,Neg(b)), b), a),\n",
    "                        domain=Complexes)\n",
    "cancelSubAndAdd"
   ]
  },
  {
   "cell_type": "code",
   "execution_count": 101,
   "metadata": {
    "collapsed": false
   },
   "outputs": [
    {
     "data": {
      "text/latex": [
       "$\\forall_{a, b \\in \\mathbb{C}} \\left(\\left(\\left(a - b\\right) + b\\right) = a\\right)$"
      ],
      "text/plain": [
       "forall_{a, b in Complexes} (((a - b) + b) = a)"
      ]
     },
     "execution_count": 101,
     "metadata": {},
     "output_type": "execute_result"
    }
   ],
   "source": [
    "cancelSubThenAdd = Forall([a,b],\n",
    "                        Equals(Add(Subtract(a,b), b), a),\n",
    "                       domain=Complexes)\n",
    "cancelSubThenAdd"
   ]
  },
  {
   "cell_type": "code",
   "execution_count": 102,
   "metadata": {
    "collapsed": false
   },
   "outputs": [
    {
     "data": {
      "text/latex": [
       "$\\forall_{a \\in \\mathbb{C}} \\left(\\left(-\\left(-a\\right)\\right) = a\\right)$"
      ],
      "text/plain": [
       "forall_{a in Complexes} ((-(-a)) = a)"
      ]
     },
     "execution_count": 102,
     "metadata": {},
     "output_type": "execute_result"
    }
   ],
   "source": [
    "negNeg = Forall([a],\n",
    "                 Equals(Neg(Neg(a)), a),\n",
    "                domain=Complexes)\n",
    "negNeg"
   ]
  },
  {
   "cell_type": "code",
   "execution_count": 103,
   "metadata": {
    "collapsed": false
   },
   "outputs": [
    {
     "data": {
      "text/latex": [
       "$\\forall_{a, b \\in \\mathbb{C}} \\left(\\left(\\left(a + b\\right) + \\left(-b\\right)\\right) = a\\right)$"
      ],
      "text/plain": [
       "forall_{a, b in Complexes} (((a + b) + (-b)) = a)"
      ]
     },
     "execution_count": 103,
     "metadata": {},
     "output_type": "execute_result"
    }
   ],
   "source": [
    "cancelAddNeg = Forall([a,b],\n",
    "                      Equals(Add(Add(a,b),Neg(b)), a),\n",
    "                      domain=Complexes)\n",
    "cancelAddNeg"
   ]
  },
  {
   "cell_type": "code",
   "execution_count": 104,
   "metadata": {
    "collapsed": false
   },
   "outputs": [
    {
     "data": {
      "text/latex": [
       "$\\forall_{a, b \\in \\mathbb{C}} \\left(\\left(a + \\left(-b\\right)\\right) = \\left(a - b\\right)\\right)$"
      ],
      "text/plain": [
       "forall_{a, b in Complexes} ((a + (-b)) = (a - b))"
      ]
     },
     "execution_count": 104,
     "metadata": {},
     "output_type": "execute_result"
    }
   ],
   "source": [
    "convertAddNegToSub = Forall([a,b],\n",
    "                            Equals(Add(a,Neg(b)), Subtract(a,b)),\n",
    "                            domain=Complexes)\n",
    "convertAddNegToSub"
   ]
  },
  {
   "cell_type": "code",
   "execution_count": 105,
   "metadata": {
    "collapsed": false
   },
   "outputs": [
    {
     "data": {
      "text/latex": [
       "$\\forall_{a, b \\in \\mathbb{C}} \\left(\\left(-\\left(a + b\\right)\\right) = \\left(\\left(-a\\right) - b\\right)\\right)$"
      ],
      "text/plain": [
       "forall_{a, b in Complexes} ((-(a + b)) = ((-a) - b))"
      ]
     },
     "execution_count": 105,
     "metadata": {},
     "output_type": "execute_result"
    }
   ],
   "source": [
    "distributeNegOverAdd = Forall([a,b],\n",
    "                             Equals(Neg(Add(a,b)), Subtract(Neg(a),b)),\n",
    "                             domain=Complexes)\n",
    "distributeNegOverAdd"
   ]
  },
  {
   "cell_type": "code",
   "execution_count": 106,
   "metadata": {
    "collapsed": false
   },
   "outputs": [
    {
     "data": {
      "text/latex": [
       "$\\forall_{a \\in \\mathbb{C}} \\left(\\left(a + a\\right) = \\left(2 \\cdot a\\right)\\right)$"
      ],
      "text/plain": [
       "forall_{a in Complexes} ((a + a) = (2 * a))"
      ]
     },
     "execution_count": 106,
     "metadata": {},
     "output_type": "execute_result"
    }
   ],
   "source": [
    "addTwice = Forall([a],\n",
    "                  Equals(Add(a,a), Multiply(two, a)),\n",
    "                 domain=Complexes)\n",
    "addTwice"
   ]
  },
  {
   "cell_type": "code",
   "execution_count": 107,
   "metadata": {
    "collapsed": false
   },
   "outputs": [
    {
     "data": {
      "text/latex": [
       "$\\forall_{a \\in \\mathbb{C}} \\left[\\forall_{b \\in \\mathbb{R}~|~\\left|a\\right| \\leq b} \\left(\\left|a\\right|^{2} \\leq b^{2}\\right)\\right]$"
      ],
      "text/plain": [
       "forall_{a in Complexes} [forall_{b in Reals | |a| <= b} (|a|^(2) <= b^(2))]"
      ]
     },
     "execution_count": 107,
     "metadata": {},
     "output_type": "execute_result"
    }
   ],
   "source": [
    "squarePosIneq = Forall([a],\n",
    "                       Forall([b],\n",
    "                            LessThanEquals(Exponentiate(Abs(a),two),Exponentiate(b,two)),\n",
    "                            domain = Reals,\n",
    "                            conditions = (LessThanEquals(Abs(a),b),)),\n",
    "                       domain = Complexes)\n",
    "squarePosIneq"
   ]
  },
  {
   "cell_type": "code",
   "execution_count": 108,
   "metadata": {
    "collapsed": false
   },
   "outputs": [
    {
     "name": "stdout",
     "output_type": "stream",
     "text": [
      "Creating theorems *.dill and *.pv_it files in the __pv_it__ directory\n",
      "These theorems may be imported from proveit.number.complex.theorems\n"
     ]
    }
   ],
   "source": [
    "%end_theorems"
   ]
  },
  {
   "cell_type": "code",
   "execution_count": null,
   "metadata": {
    "collapsed": true
   },
   "outputs": [],
   "source": []
  }
 ],
 "metadata": {
  "kernelspec": {
   "display_name": "Python 2",
   "language": "python",
   "name": "python2"
  },
  "language_info": {
   "codemirror_mode": {
    "name": "ipython",
    "version": 2
   },
   "file_extension": ".py",
   "mimetype": "text/x-python",
   "name": "python",
   "nbconvert_exporter": "python",
   "pygments_lexer": "ipython2",
   "version": "2.7.10"
  }
 },
 "nbformat": 4,
 "nbformat_minor": 0
}
