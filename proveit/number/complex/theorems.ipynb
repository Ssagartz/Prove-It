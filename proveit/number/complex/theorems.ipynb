{
 "cells": [
  {
   "cell_type": "code",
   "execution_count": 1,
   "metadata": {
    "collapsed": true
   },
   "outputs": [],
   "source": [
    "import proveit.specialStatementMagic # for %begin_axioms and %end_axioms\n",
    "from proveit.basiclogic.set.setOps import In\n",
    "from proveit.basiclogic.boolean.boolOps import And\n",
    "from proveit.number.variables import *\n",
    "from proveit.basiclogic import Forall, Exists, Equals\n",
    "from proveit.number.arithmeticOps import LessThan, LessThanEquals, GreaterThan, GreaterThanEquals, Fraction\n",
    "from proveit.number.arithmeticOps import Add, Subtract, Multiply, Abs, Exponentiate, Neg"
   ]
  },
  {
   "cell_type": "code",
   "execution_count": 2,
   "metadata": {
    "collapsed": true
   },
   "outputs": [],
   "source": [
    "%begin_theorems"
   ]
  },
  {
   "cell_type": "code",
   "execution_count": 3,
   "metadata": {
    "collapsed": false
   },
   "outputs": [
    {
     "data": {
      "text/latex": [
       "$\\forall_{a, b \\in \\mathbb{C}} \\left(|\\left(a + b\\right)| \\leq \\left(|a| + |b|\\right)\\right)$"
      ],
      "text/plain": [
       "forall_{a, b in Complexes} (|(a + b)| <= (|a| + |b|))"
      ]
     },
     "execution_count": 3,
     "metadata": {},
     "output_type": "execute_result"
    }
   ],
   "source": [
    "triangleInequality = Forall([a,b],\n",
    "                        LessThanEquals(Abs(Add(a,b)),Add(Abs(a),Abs(b))),\n",
    "                        domain=Complexes)\n",
    "triangleInequality"
   ]
  },
  {
   "cell_type": "code",
   "execution_count": 4,
   "metadata": {
    "collapsed": false
   },
   "outputs": [
    {
     "data": {
      "text/latex": [
       "$\\forall_{a, b \\in \\mathbb{C}} \\left(|\\left(a \\cdot b\\right)| = \\left(|a| \\cdot |b|\\right)\\right)$"
      ],
      "text/plain": [
       "forall_{a, b in Complexes} (|(a * b)| = (|a| * |b|))"
      ]
     },
     "execution_count": 4,
     "metadata": {},
     "output_type": "execute_result"
    }
   ],
   "source": [
    "absProd = Forall([a,b],\n",
    "                 Equals(Abs(Multiply(a,b)),Multiply(Abs(a),Abs(b))),\n",
    "                 domain = Complexes)\n",
    "absProd"
   ]
  },
  {
   "cell_type": "code",
   "execution_count": 5,
   "metadata": {
    "collapsed": false
   },
   "outputs": [
    {
     "data": {
      "text/latex": [
       "$\\forall_{a, b, c \\in \\mathbb{C}} \\left(\\left(a \\cdot b\\right)^{c} = \\left(a^{c} \\cdot b^{c}\\right)\\right)$"
      ],
      "text/plain": [
       "forall_{a, b, c in Complexes} ((a * b)^(c) = (a^(c) * b^(c)))"
      ]
     },
     "execution_count": 5,
     "metadata": {},
     "output_type": "execute_result"
    }
   ],
   "source": [
    "absPow = Forall([a,b,c],\n",
    "                Equals(Exponentiate(Multiply(a,b),c),\n",
    "                       Multiply(Exponentiate(a,c),Exponentiate(b,c))\n",
    "                       ),\n",
    "                domain = Complexes)\n",
    "absPow"
   ]
  },
  {
   "cell_type": "code",
   "execution_count": 6,
   "metadata": {
    "collapsed": false
   },
   "outputs": [
    {
     "data": {
      "text/latex": [
       "$\\forall_{a, b, c \\in \\mathbb{C}} \\left(a^{\\left(b + c\\right)} = \\left(a^{b} \\cdot a^{c}\\right)\\right)$"
      ],
      "text/plain": [
       "forall_{a, b, c in Complexes} (a^((b + c)) = (a^(b) * a^(c)))"
      ]
     },
     "execution_count": 6,
     "metadata": {},
     "output_type": "execute_result"
    }
   ],
   "source": [
    "powSum = Forall([a,b,c],\n",
    "                Equals(Exponentiate(a,Add(b,c)),\n",
    "                       Multiply(Exponentiate(a,b),Exponentiate(a,c))),\n",
    "                domain = Complexes)\n",
    "powSum"
   ]
  },
  {
   "cell_type": "code",
   "execution_count": 7,
   "metadata": {
    "collapsed": false
   },
   "outputs": [
    {
     "data": {
      "text/latex": [
       "$\\forall_{a, b \\in \\mathbb{C}} \\left(\\left(a - b\\right)^{2} = \\left(b - a\\right)^{2}\\right)$"
      ],
      "text/plain": [
       "forall_{a, b in Complexes} ((a - b)^(2) = (b - a)^(2))"
      ]
     },
     "execution_count": 7,
     "metadata": {},
     "output_type": "execute_result"
    }
   ],
   "source": [
    "diffSquareComm = Forall([a,b],\n",
    "                        Equals(\n",
    "                            Exponentiate(Subtract(a,b),two),\n",
    "                            Exponentiate(Subtract(b,a),two)),\n",
    "                        domain = Complexes)\n",
    "diffSquareComm"
   ]
  },
  {
   "cell_type": "code",
   "execution_count": 9,
   "metadata": {
    "collapsed": false
   },
   "outputs": [
    {
     "name": "stdout",
     "output_type": "stream",
     "text": [
      "Creating theorems *.dill and *.pv_it files in the __pv_it__ directory\n",
      "Generating theorems.py from proveit.axiomsOrTheoremsTemplate.py\n",
      "These theorems may be imported from proveit.number.complex.theorems\n"
     ]
    }
   ],
   "source": [
    "%end_theorems"
   ]
  },
  {
   "cell_type": "code",
   "execution_count": null,
   "metadata": {
    "collapsed": true
   },
   "outputs": [],
   "source": []
  }
 ],
 "metadata": {
  "kernelspec": {
   "display_name": "Python 2",
   "language": "python",
   "name": "python2"
  },
  "language_info": {
   "codemirror_mode": {
    "name": "ipython",
    "version": 2
   },
   "file_extension": ".py",
   "mimetype": "text/x-python",
   "name": "python",
   "nbconvert_exporter": "python",
   "pygments_lexer": "ipython2",
   "version": "2.7.9"
  }
 },
 "nbformat": 4,
 "nbformat_minor": 0
}
