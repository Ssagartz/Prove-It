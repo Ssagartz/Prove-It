{
 "cells": [
  {
   "cell_type": "code",
   "execution_count": 1,
   "metadata": {
    "collapsed": false
   },
   "outputs": [],
   "source": [
    "import proveit.specialStatementMagic # for %begin_axioms and %end_axioms\n",
    "from proveit.basiclogic import And, Or, NotEquals, In, Singleton, Difference\n",
    "from proveit.number.common import *\n",
    "from proveit.basiclogic import Forall, Exists, Equals\n",
    "from proveit.number import LessThan, LessThanEquals, GreaterThan, GreaterThanEquals, Fraction\n",
    "from proveit.number import Add, Subtract, Multiply, Divide, Fraction, Abs, Exponentiate, Neg\n",
    "from proveit.multiExpression import Etcetera"
   ]
  },
  {
   "cell_type": "code",
   "execution_count": 2,
   "metadata": {
    "collapsed": true
   },
   "outputs": [],
   "source": [
    "#from IPython.display import Latex\n",
    "from IPython.display import display"
   ]
  },
  {
   "cell_type": "code",
   "execution_count": 3,
   "metadata": {
    "collapsed": false
   },
   "outputs": [],
   "source": [
    "%begin_theorems"
   ]
  },
  {
   "cell_type": "code",
   "execution_count": 4,
   "metadata": {
    "collapsed": false
   },
   "outputs": [
    {
     "data": {
      "text/latex": [
       "$i \\in \\mathbb{C}$"
      ],
      "text/plain": [
       "i in Complexes"
      ]
     },
     "execution_count": 4,
     "metadata": {},
     "output_type": "execute_result"
    }
   ],
   "source": [
    "iInComplexes = In(i, Complexes)\n",
    "iInComplexes"
   ]
  },
  {
   "cell_type": "code",
   "execution_count": 5,
   "metadata": {
    "collapsed": false
   },
   "outputs": [
    {
     "data": {
      "text/latex": [
       "$i \\neq 0$"
      ],
      "text/plain": [
       "i != 0"
      ]
     },
     "execution_count": 5,
     "metadata": {},
     "output_type": "execute_result"
    }
   ],
   "source": [
    "iNotZero = NotEquals(i, zero)\n",
    "iNotZero"
   ]
  },
  {
   "cell_type": "code",
   "execution_count": 6,
   "metadata": {
    "collapsed": false
   },
   "outputs": [
    {
     "data": {
      "text/latex": [
       "$\\forall_{a, ..b.. \\in \\mathbb{C}} \\left(\\left(a + ..b..\\right) \\in \\mathbb{C}\\right)$"
      ],
      "text/plain": [
       "forall_{a, ..b.. in Complexes} ((a + ..b..) in Complexes)"
      ]
     },
     "execution_count": 6,
     "metadata": {},
     "output_type": "execute_result"
    }
   ],
   "source": [
    "addClosure = Forall([a, bEtc], In(Add(a,bEtc),Complexes), domain = Complexes)\n",
    "addClosure"
   ]
  },
  {
   "cell_type": "code",
   "execution_count": 7,
   "metadata": {
    "collapsed": false
   },
   "outputs": [
    {
     "data": {
      "text/latex": [
       "$\\forall_{a, b \\in \\mathbb{C}} \\left(\\left(a - b\\right) \\in \\mathbb{C}\\right)$"
      ],
      "text/plain": [
       "forall_{a, b in Complexes} ((a - b) in Complexes)"
      ]
     },
     "execution_count": 7,
     "metadata": {},
     "output_type": "execute_result"
    }
   ],
   "source": [
    "subtractClosure = Forall([a, b], In(Subtract(a, b), Complexes), domain=Complexes)\n",
    "subtractClosure"
   ]
  },
  {
   "cell_type": "code",
   "execution_count": 8,
   "metadata": {
    "collapsed": false
   },
   "outputs": [
    {
     "data": {
      "text/latex": [
       "$\\forall_{a \\in \\mathbb{C}} \\left(\\left(-a\\right) \\in \\mathbb{C}\\right)$"
      ],
      "text/plain": [
       "forall_{a in Complexes} ((-a) in Complexes)"
      ]
     },
     "execution_count": 8,
     "metadata": {},
     "output_type": "execute_result"
    }
   ],
   "source": [
    "negClosure = Forall(a, In(Neg(a), Complexes), domain=Complexes)\n",
    "negClosure"
   ]
  },
  {
   "cell_type": "code",
   "execution_count": 9,
   "metadata": {
    "collapsed": false
   },
   "outputs": [
    {
     "data": {
      "text/latex": [
       "$\\forall_{a, ..b.. \\in \\mathbb{C}} \\left(\\left(a \\cdot ..b..\\right) \\in \\mathbb{C}\\right)$"
      ],
      "text/plain": [
       "forall_{a, ..b.. in Complexes} ((a * ..b..) in Complexes)"
      ]
     },
     "execution_count": 9,
     "metadata": {},
     "output_type": "execute_result"
    }
   ],
   "source": [
    "multClosure = Forall([a, bEtc], In(Multiply(a,bEtc),Complexes), domain = Complexes)\n",
    "multClosure"
   ]
  },
  {
   "cell_type": "code",
   "execution_count": 10,
   "metadata": {
    "collapsed": false
   },
   "outputs": [
    {
     "data": {
      "text/latex": [
       "$\\forall_{a, b \\in \\mathbb{C} | b \\neq 0} \\left(\\left(a \\div b\\right) \\in \\mathbb{C}\\right)$"
      ],
      "text/plain": [
       "forall_{a, b in Complexes | b != 0} ((a / b) in Complexes)"
      ]
     },
     "execution_count": 10,
     "metadata": {},
     "output_type": "execute_result"
    }
   ],
   "source": [
    "divideClosure = Forall([a, b], In(Divide(a, b), Complexes), domain=Complexes, conditions=[NotEquals(b, zero)])\n",
    "divideClosure       "
   ]
  },
  {
   "cell_type": "code",
   "execution_count": 11,
   "metadata": {
    "collapsed": false
   },
   "outputs": [
    {
     "data": {
      "text/latex": [
       "$\\forall_{a, b \\in \\mathbb{C} | b \\neq 0} \\left(\\frac{a}{b} \\in \\mathbb{C}\\right)$"
      ],
      "text/plain": [
       "forall_{a, b in Complexes | b != 0} (a / b in Complexes)"
      ]
     },
     "execution_count": 11,
     "metadata": {},
     "output_type": "execute_result"
    }
   ],
   "source": [
    "fractionClosure = Forall([a, b], In(Fraction(a, b), Complexes), domain=Complexes, conditions=[NotEquals(b, zero)])\n",
    "fractionClosure          "
   ]
  },
  {
   "cell_type": "code",
   "execution_count": 12,
   "metadata": {
    "collapsed": false
   },
   "outputs": [
    {
     "data": {
      "text/latex": [
       "$\\forall_{a, b \\in \\mathbb{C} | a \\neq 0} \\left(a^{b} \\in \\mathbb{C}\\right)$"
      ],
      "text/plain": [
       "forall_{a, b in Complexes | a != 0} (a^(b) in Complexes)"
      ]
     },
     "execution_count": 12,
     "metadata": {},
     "output_type": "execute_result"
    }
   ],
   "source": [
    "powClosure = Forall([a, b], In(Exponentiate(a, b), Complexes), domain=Complexes, \n",
    "                    conditions=[NotEquals(a, zero)])\n",
    "powClosure"
   ]
  },
  {
   "cell_type": "code",
   "execution_count": 13,
   "metadata": {
    "collapsed": false
   },
   "outputs": [
    {
     "data": {
      "text/latex": [
       "$\\forall_{a \\in \\mathbb{C}} \\left(\\left|a\\right| \\in \\mathbb{R}\\right)$"
      ],
      "text/plain": [
       "forall_{a in Complexes} (|a| in Reals)"
      ]
     },
     "execution_count": 13,
     "metadata": {},
     "output_type": "execute_result"
    }
   ],
   "source": [
    "absClosure = Forall([a], In(Abs(a), Reals), domain=Complexes)\n",
    "absClosure"
   ]
  },
  {
   "cell_type": "code",
   "execution_count": 14,
   "metadata": {
    "collapsed": false
   },
   "outputs": [
    {
     "data": {
      "text/latex": [
       "$\\forall_{a \\in \\mathbb{C} | a \\neq 0} \\left(a \\in \\left(\\mathbb{C} - \\{0\\}\\right)\\right)$"
      ],
      "text/plain": [
       "forall_{a in Complexes | a != 0} (a in (Complexes - {0}))"
      ]
     },
     "execution_count": 14,
     "metadata": {},
     "output_type": "execute_result"
    }
   ],
   "source": [
    "inComplexesSansZero = Forall(a, In(a, ComplexesSansZero), \n",
    "                             domain=Complexes, conditions=[NotEquals(a, zero)])\n",
    "inComplexesSansZero"
   ]
  },
  {
   "cell_type": "code",
   "execution_count": 15,
   "metadata": {
    "collapsed": false
   },
   "outputs": [
    {
     "data": {
      "text/latex": [
       "$\\forall_{a \\in \\mathbb{C} | a \\neq 0} \\left(\\left(-a\\right) \\neq 0\\right)$"
      ],
      "text/plain": [
       "forall_{a in Complexes | a != 0} ((-a) != 0)"
      ]
     },
     "execution_count": 15,
     "metadata": {},
     "output_type": "execute_result"
    }
   ],
   "source": [
    "negNotEqZero = Forall(a, NotEquals(Neg(a), zero), domain=Complexes, conditions=[NotEquals(a, zero)])\n",
    "negNotEqZero"
   ]
  },
  {
   "cell_type": "code",
   "execution_count": 16,
   "metadata": {
    "collapsed": false
   },
   "outputs": [
    {
     "data": {
      "text/latex": [
       "$\\forall_{a, ..b.. \\in \\left(\\mathbb{C} - \\{0\\}\\right)} \\left(\\left(a \\cdot ..b..\\right) \\neq 0\\right)$"
      ],
      "text/plain": [
       "forall_{a, ..b.. in (Complexes - {0})} ((a * ..b..) != 0)"
      ]
     },
     "execution_count": 16,
     "metadata": {},
     "output_type": "execute_result"
    }
   ],
   "source": [
    "multNotEqZero = Forall([a, bEtc], NotEquals(Multiply(a,bEtc), zero), domain=ComplexesSansZero)\n",
    "multNotEqZero"
   ]
  },
  {
   "cell_type": "code",
   "execution_count": 17,
   "metadata": {
    "collapsed": false
   },
   "outputs": [
    {
     "data": {
      "text/latex": [
       "$\\forall_{a, b \\in \\left(\\mathbb{C} - \\{0\\}\\right)} \\left(\\left(a \\div b\\right) \\neq 0\\right)$"
      ],
      "text/plain": [
       "forall_{a, b in (Complexes - {0})} ((a / b) != 0)"
      ]
     },
     "execution_count": 17,
     "metadata": {},
     "output_type": "execute_result"
    }
   ],
   "source": [
    "divideNotEqZero = Forall([a, b], NotEquals(Divide(a,b), zero), domain=ComplexesSansZero)\n",
    "divideNotEqZero"
   ]
  },
  {
   "cell_type": "code",
   "execution_count": 18,
   "metadata": {
    "collapsed": false
   },
   "outputs": [
    {
     "data": {
      "text/latex": [
       "$\\forall_{a, b \\in \\left(\\mathbb{C} - \\{0\\}\\right)} \\left(\\frac{a}{b} \\neq 0\\right)$"
      ],
      "text/plain": [
       "forall_{a, b in (Complexes - {0})} (a / b != 0)"
      ]
     },
     "execution_count": 18,
     "metadata": {},
     "output_type": "execute_result"
    }
   ],
   "source": [
    "fractionNotEqZero = Forall([a, b], NotEquals(Fraction(a,b), zero), domain=ComplexesSansZero)\n",
    "fractionNotEqZero"
   ]
  },
  {
   "cell_type": "code",
   "execution_count": 19,
   "metadata": {
    "collapsed": false
   },
   "outputs": [
    {
     "data": {
      "text/latex": [
       "$\\forall_{a, b \\in \\mathbb{C} | a \\neq 0} \\left(a^{b} \\neq 0\\right)$"
      ],
      "text/plain": [
       "forall_{a, b in Complexes | a != 0} (a^(b) != 0)"
      ]
     },
     "execution_count": 19,
     "metadata": {},
     "output_type": "execute_result"
    }
   ],
   "source": [
    "powNotEqZero = Forall([a, b], NotEquals(Exponentiate(a,b), zero), domain=Complexes, conditions=[NotEquals(a, zero)])\n",
    "powNotEqZero"
   ]
  },
  {
   "cell_type": "code",
   "execution_count": 20,
   "metadata": {
    "collapsed": false
   },
   "outputs": [
    {
     "data": {
      "text/latex": [
       "$\\forall_{a \\in \\mathbb{C} | a \\neq 0} \\left(\\left|a\\right| \\neq 0\\right)$"
      ],
      "text/plain": [
       "forall_{a in Complexes | a != 0} (|a| != 0)"
      ]
     },
     "execution_count": 20,
     "metadata": {},
     "output_type": "execute_result"
    }
   ],
   "source": [
    "absNotEqZero = Forall([a], NotEquals(Abs(a), zero), domain=Complexes, conditions=[NotEquals(a, zero)])\n",
    "absNotEqZero"
   ]
  },
  {
   "cell_type": "code",
   "execution_count": 21,
   "metadata": {
    "collapsed": false
   },
   "outputs": [
    {
     "data": {
      "text/latex": [
       "$\\forall_{a, b \\in \\mathbb{C}} \\left(\\left|\\left(a + b\\right)\\right| \\leq \\left(\\left|a\\right| + \\left|b\\right|\\right)\\right)$"
      ],
      "text/plain": [
       "forall_{a, b in Complexes} (|(a + b)| <= (|a| + |b|))"
      ]
     },
     "execution_count": 21,
     "metadata": {},
     "output_type": "execute_result"
    }
   ],
   "source": [
    "triangleInequality = Forall([a,b],\n",
    "                        LessThanEquals(Abs(Add(a,b)),Add(Abs(a),Abs(b))),\n",
    "                        domain=Complexes)\n",
    "triangleInequality"
   ]
  },
  {
   "cell_type": "code",
   "execution_count": 22,
   "metadata": {
    "collapsed": false
   },
   "outputs": [
    {
     "data": {
      "text/latex": [
       "$\\forall_{a, b \\in \\mathbb{C}} \\left(\\left|\\left(a \\cdot b\\right)\\right| = \\left(\\left|a\\right| \\cdot \\left|b\\right|\\right)\\right)$"
      ],
      "text/plain": [
       "forall_{a, b in Complexes} (|(a * b)| = (|a| * |b|))"
      ]
     },
     "execution_count": 22,
     "metadata": {},
     "output_type": "execute_result"
    }
   ],
   "source": [
    "absProd = Forall([a,b],\n",
    "                 Equals(Abs(Multiply(a,b)),Multiply(Abs(a),Abs(b))),\n",
    "                 domain = Complexes)\n",
    "absProd"
   ]
  },
  {
   "cell_type": "code",
   "execution_count": 23,
   "metadata": {
    "collapsed": false
   },
   "outputs": [
    {
     "data": {
      "text/latex": [
       "$\\forall_{a, b \\in \\mathbb{C}} \\left(\\left|\\frac{a}{b}\\right| = \\frac{\\left|a\\right|}{\\left|b\\right|}\\right)$"
      ],
      "text/plain": [
       "forall_{a, b in Complexes} (|a / b| = |a| / |b|)"
      ]
     },
     "execution_count": 23,
     "metadata": {},
     "output_type": "execute_result"
    }
   ],
   "source": [
    "absFrac = Forall([a,b],\n",
    "                 Equals(Abs(Fraction(a,b)),Fraction(Abs(a),Abs(b))),\n",
    "                 domain = Complexes)\n",
    "absFrac"
   ]
  },
  {
   "cell_type": "code",
   "execution_count": 24,
   "metadata": {
    "collapsed": false
   },
   "outputs": [
    {
     "data": {
      "text/latex": [
       "$\\forall_{..a.., ..b.. \\in \\mathbb{C}} \\left(\\left|\\left(..a.. \\cdot ..b..\\right)\\right| = \\left(\\left|..a..\\right| \\cdot \\left|..b..\\right|\\right)\\right)$"
      ],
      "text/plain": [
       "forall_{..a.., ..b.. in Complexes} (|(..a.. * ..b..)| = (|..a..| * |..b..|))"
      ]
     },
     "execution_count": 24,
     "metadata": {},
     "output_type": "execute_result"
    }
   ],
   "source": [
    "absProdEtc = Forall([Etcetera(a),Etcetera(b)],\n",
    "                 Equals(Abs(Multiply(Etcetera(a),Etcetera(b))),Multiply(Abs(Etcetera(a)),Abs(Etcetera(b)))),\n",
    "                 domain = Complexes)\n",
    "absProdEtc"
   ]
  },
  {
   "cell_type": "code",
   "execution_count": 25,
   "metadata": {
    "collapsed": false
   },
   "outputs": [
    {
     "data": {
      "text/latex": [
       "$\\forall_{a, b, c \\in \\mathbb{C}} \\left(a^{b + c} = \\left(a^{b} \\cdot a^{c}\\right)\\right)$"
      ],
      "text/plain": [
       "forall_{a, b, c in Complexes} (a^(b + c) = (a^(b) * a^(c)))"
      ]
     },
     "execution_count": 25,
     "metadata": {},
     "output_type": "execute_result"
    }
   ],
   "source": [
    "sumInPow = Forall([a,b,c],\n",
    "                Equals(Exponentiate(a,Add(b,c)),\n",
    "                       Multiply(Exponentiate(a,b),Exponentiate(a,c))),\n",
    "                domain = Complexes)\n",
    "sumInPow"
   ]
  },
  {
   "cell_type": "code",
   "execution_count": 26,
   "metadata": {
    "collapsed": false
   },
   "outputs": [
    {
     "data": {
      "text/latex": [
       "$\\forall_{a, b, c \\in \\mathbb{C}} \\left(\\left(a \\cdot b\\right)^{c} = \\left(a^{c} \\cdot b^{c}\\right)\\right)$"
      ],
      "text/plain": [
       "forall_{a, b, c in Complexes} ((a * b)^(c) = (a^(c) * b^(c)))"
      ]
     },
     "execution_count": 26,
     "metadata": {},
     "output_type": "execute_result"
    }
   ],
   "source": [
    "powOfProd = Forall([a,b,c],\n",
    "                Equals(Exponentiate(Multiply(a,b),c),\n",
    "                       Multiply(Exponentiate(a,c),Exponentiate(b,c))\n",
    "                       ),\n",
    "                domain = Complexes)\n",
    "powOfProd"
   ]
  },
  {
   "cell_type": "code",
   "execution_count": 27,
   "metadata": {
    "collapsed": false
   },
   "outputs": [
    {
     "data": {
      "text/latex": [
       "$\\forall_{a, b, c \\in \\mathbb{C}} \\left(\\left(a^{b}\\right)^{c} = a^{b \\cdot c}\\right)$"
      ],
      "text/plain": [
       "forall_{a, b, c in Complexes} ((a^(b))^(c) = a^(b * c))"
      ]
     },
     "execution_count": 27,
     "metadata": {},
     "output_type": "execute_result"
    }
   ],
   "source": [
    "powOfPow = Forall([a, b, c], Equals(Exponentiate(Exponentiate(a, b), c), \n",
    "                                    Exponentiate(a, Multiply(b, c))), \n",
    "                  domain = Complexes)\n",
    "powOfPow"
   ]
  },
  {
   "cell_type": "code",
   "execution_count": 28,
   "metadata": {
    "collapsed": false
   },
   "outputs": [
    {
     "data": {
      "text/latex": [
       "$\\forall_{a, b, c \\in \\mathbb{C}} \\left(\\left(a^{-b}\\right)^{c} = a^{-\\left(b \\cdot c\\right)}\\right)$"
      ],
      "text/plain": [
       "forall_{a, b, c in Complexes} ((a^(-b))^(c) = a^(-(b * c)))"
      ]
     },
     "execution_count": 28,
     "metadata": {},
     "output_type": "execute_result"
    }
   ],
   "source": [
    "powOfNegPow = Forall([a, b, c], Equals(Exponentiate(Exponentiate(a, Neg(b)), c), \n",
    "                                    Exponentiate(a, Neg(Multiply(b, c)))), \n",
    "                  domain = Complexes)\n",
    "powOfNegPow"
   ]
  },
  {
   "cell_type": "code",
   "execution_count": 29,
   "metadata": {
    "collapsed": false
   },
   "outputs": [
    {
     "data": {
      "text/latex": [
       "$\\forall_{a, b, c \\in \\mathbb{C}} \\left(\\left(a^{b}\\right)^{-c} = a^{-\\left(b \\cdot c\\right)}\\right)$"
      ],
      "text/plain": [
       "forall_{a, b, c in Complexes} ((a^(b))^(-c) = a^(-(b * c)))"
      ]
     },
     "execution_count": 29,
     "metadata": {},
     "output_type": "execute_result"
    }
   ],
   "source": [
    "negPowOfPow = Forall([a, b, c], Equals(Exponentiate(Exponentiate(a, b), Neg(c)), \n",
    "                                    Exponentiate(a, Neg(Multiply(b, c)))), \n",
    "                  domain = Complexes)\n",
    "negPowOfPow"
   ]
  },
  {
   "cell_type": "code",
   "execution_count": 30,
   "metadata": {
    "collapsed": false
   },
   "outputs": [
    {
     "data": {
      "text/latex": [
       "$\\forall_{a, b \\in \\mathbb{C}} \\left(\\left(a - b\\right)^{2} = \\left(b - a\\right)^{2}\\right)$"
      ],
      "text/plain": [
       "forall_{a, b in Complexes} ((a - b)^(2) = (b - a)^(2))"
      ]
     },
     "execution_count": 30,
     "metadata": {},
     "output_type": "execute_result"
    }
   ],
   "source": [
    "diffSquareComm = Forall([a,b],\n",
    "                        Equals(\n",
    "                            Exponentiate(Subtract(a,b),two),\n",
    "                            Exponentiate(Subtract(b,a),two)),\n",
    "                        domain = Complexes)\n",
    "diffSquareComm"
   ]
  },
  {
   "cell_type": "code",
   "execution_count": 31,
   "metadata": {
    "collapsed": false
   },
   "outputs": [
    {
     "data": {
      "text/latex": [
       "$\\forall_{..v.., ..w.., ..x.., ..y.., ..z.. \\in \\mathbb{C}} \\left(\\left(..v.. \\cdot ..w.. \\cdot ..x.. \\cdot ..y.. \\cdot ..z..\\right) = \\left(..v.. \\cdot ..y.. \\cdot ..x.. \\cdot ..w.. \\cdot ..z..\\right)\\right)$"
      ],
      "text/plain": [
       "forall_{..v.., ..w.., ..x.., ..y.., ..z.. in Complexes} ((..v.. * ..w.. * ..x.. * ..y.. * ..z..) = (..v.. * ..y.. * ..x.. * ..w.. * ..z..))"
      ]
     },
     "execution_count": 31,
     "metadata": {},
     "output_type": "execute_result"
    }
   ],
   "source": [
    "multComm = Forall([Etcetera(v),wEtc,xEtc,yEtc,zEtc],\n",
    "                 Equals(\n",
    "                        Multiply(Etcetera(v),wEtc,xEtc,yEtc,zEtc),\n",
    "                        Multiply(Etcetera(v),yEtc,xEtc,wEtc,zEtc)\n",
    "    ),\n",
    "                 domain = Complexes\n",
    "                 )\n",
    "multComm"
   ]
  },
  {
   "cell_type": "code",
   "execution_count": 32,
   "metadata": {
    "collapsed": false
   },
   "outputs": [
    {
     "data": {
      "text/latex": [
       "$\\forall_{..w.., ..x.., ..y.., ..z.. \\in \\mathbb{C}} \\left(\\left(..w.. \\cdot ..x.. \\cdot ..y.. \\cdot ..z..\\right) = \\left(..w.. \\cdot \\left(..x.. \\cdot ..y..\\right) \\cdot ..z..\\right)\\right)$"
      ],
      "text/plain": [
       "forall_{..w.., ..x.., ..y.., ..z.. in Complexes} ((..w.. * ..x.. * ..y.. * ..z..) = (..w.. * (..x.. * ..y..) * ..z..))"
      ]
     },
     "execution_count": 32,
     "metadata": {},
     "output_type": "execute_result"
    }
   ],
   "source": [
    "multAssoc = Forall([wEtc,xEtc,yEtc,zEtc],\n",
    "                  Equals(\n",
    "                        Multiply(\n",
    "                                wEtc,xEtc,yEtc,zEtc),\n",
    "                        Multiply(\n",
    "                                wEtc,Multiply(xEtc,yEtc),zEtc)\n",
    "                        ),\n",
    "                  domain = Complexes\n",
    "                  )\n",
    "multAssoc"
   ]
  },
  {
   "cell_type": "code",
   "execution_count": 33,
   "metadata": {
    "collapsed": false
   },
   "outputs": [
    {
     "data": {
      "text/latex": [
       "$\\forall_{x, y \\in \\mathbb{C}} \\left(\\left(\\left(-x\\right) \\cdot y\\right) = \\left(-\\left(x \\cdot y\\right)\\right)\\right)$"
      ],
      "text/plain": [
       "forall_{x, y in Complexes} (((-x) * y) = (-(x * y)))"
      ]
     },
     "execution_count": 33,
     "metadata": {},
     "output_type": "execute_result"
    }
   ],
   "source": [
    "negTimesPos = Forall([x, y], Equals(Multiply(Neg(x), y), Neg(Multiply(x, y))), domain=Complexes)\n",
    "negTimesPos"
   ]
  },
  {
   "cell_type": "code",
   "execution_count": 34,
   "metadata": {
    "collapsed": false
   },
   "outputs": [
    {
     "data": {
      "text/latex": [
       "$\\forall_{x, y \\in \\mathbb{C}} \\left(\\left(-\\left(x \\cdot y\\right)\\right) = \\left(\\left(-x\\right) \\cdot y\\right)\\right)$"
      ],
      "text/plain": [
       "forall_{x, y in Complexes} ((-(x * y)) = ((-x) * y))"
      ]
     },
     "execution_count": 34,
     "metadata": {},
     "output_type": "execute_result"
    }
   ],
   "source": [
    "negTimesPosRev = Forall([x, y], Equals(Neg(Multiply(x, y)), Multiply(Neg(x), y)), domain=Complexes)\n",
    "negTimesPosRev"
   ]
  },
  {
   "cell_type": "code",
   "execution_count": 35,
   "metadata": {
    "collapsed": false
   },
   "outputs": [
    {
     "data": {
      "text/latex": [
       "$\\forall_{x, y \\in \\mathbb{C}} \\left(\\left(x \\cdot \\left(-y\\right)\\right) = \\left(-\\left(x \\cdot y\\right)\\right)\\right)$"
      ],
      "text/plain": [
       "forall_{x, y in Complexes} ((x * (-y)) = (-(x * y)))"
      ]
     },
     "execution_count": 35,
     "metadata": {},
     "output_type": "execute_result"
    }
   ],
   "source": [
    "posTimesNeg = Forall([x, y], Equals(Multiply(x, Neg(y)), Neg(Multiply(x, y))), domain=Complexes)\n",
    "posTimesNeg"
   ]
  },
  {
   "cell_type": "code",
   "execution_count": 36,
   "metadata": {
    "collapsed": false
   },
   "outputs": [
    {
     "data": {
      "text/latex": [
       "$\\forall_{x, y \\in \\mathbb{C}} \\left(\\left(-\\left(x \\cdot y\\right)\\right) = \\left(x \\cdot \\left(-y\\right)\\right)\\right)$"
      ],
      "text/plain": [
       "forall_{x, y in Complexes} ((-(x * y)) = (x * (-y)))"
      ]
     },
     "execution_count": 36,
     "metadata": {},
     "output_type": "execute_result"
    }
   ],
   "source": [
    "posTimesNegRev = Forall([x, y], Equals(Neg(Multiply(x, y)), Multiply(x, Neg(y))), domain=Complexes)\n",
    "posTimesNegRev"
   ]
  },
  {
   "cell_type": "code",
   "execution_count": 37,
   "metadata": {
    "collapsed": false
   },
   "outputs": [
    {
     "data": {
      "text/latex": [
       "$\\forall_{x, y \\in \\mathbb{C}} \\left(\\left(\\left(-x\\right) \\cdot \\left(-y\\right)\\right) = \\left(x \\cdot y\\right)\\right)$"
      ],
      "text/plain": [
       "forall_{x, y in Complexes} (((-x) * (-y)) = (x * y))"
      ]
     },
     "execution_count": 37,
     "metadata": {},
     "output_type": "execute_result"
    }
   ],
   "source": [
    "negTimesNeg = Forall([x, y], Equals(Multiply(Neg(x), Neg(y)), Multiply(x, y)), domain=Complexes)\n",
    "negTimesNeg"
   ]
  },
  {
   "cell_type": "code",
   "execution_count": 38,
   "metadata": {
    "collapsed": false
   },
   "outputs": [
    {
     "data": {
      "text/latex": [
       "$\\forall_{x, y, z \\in \\mathbb{C}} \\left(\\left(x \\cdot \\frac{y}{z}\\right) = \\frac{x \\cdot y}{z}\\right)$"
      ],
      "text/plain": [
       "forall_{x, y, z in Complexes} ((x * y / z) = (x * y) / z)"
      ]
     },
     "execution_count": 38,
     "metadata": {},
     "output_type": "execute_result"
    }
   ],
   "source": [
    "leftFracMult = Forall([x, y, z], Equals(Multiply(x, Fraction(y, z)),\n",
    "                                        Fraction(Multiply(x, y), z)), domain=Complexes)\n",
    "leftFracMult"
   ]
  },
  {
   "cell_type": "code",
   "execution_count": 39,
   "metadata": {
    "collapsed": false
   },
   "outputs": [
    {
     "data": {
      "text/latex": [
       "$\\forall_{x, y, z \\in \\mathbb{C}} \\left(\\frac{x \\cdot y}{z} = \\left(x \\cdot \\frac{y}{z}\\right)\\right)$"
      ],
      "text/plain": [
       "forall_{x, y, z in Complexes} ((x * y) / z = (x * y / z))"
      ]
     },
     "execution_count": 39,
     "metadata": {},
     "output_type": "execute_result"
    }
   ],
   "source": [
    "leftFracMultRev = Forall([x, y, z], Equals(Fraction(Multiply(x, y), z),\n",
    "                                           Multiply(x, Fraction(y, z))), domain=Complexes)\n",
    "leftFracMultRev"
   ]
  },
  {
   "cell_type": "code",
   "execution_count": 40,
   "metadata": {
    "collapsed": false
   },
   "outputs": [
    {
     "data": {
      "text/latex": [
       "$\\forall_{x, y, z \\in \\mathbb{C}} \\left(\\left(\\frac{x}{z} \\cdot y\\right) = \\frac{x \\cdot y}{z}\\right)$"
      ],
      "text/plain": [
       "forall_{x, y, z in Complexes} ((x / z * y) = (x * y) / z)"
      ]
     },
     "execution_count": 40,
     "metadata": {},
     "output_type": "execute_result"
    }
   ],
   "source": [
    "rightFracMult = Forall([x, y, z], Equals(Multiply(Fraction(x, z), y),\n",
    "                                         Fraction(Multiply(x, y), z)), domain=Complexes)\n",
    "rightFracMult"
   ]
  },
  {
   "cell_type": "code",
   "execution_count": 41,
   "metadata": {
    "collapsed": false
   },
   "outputs": [
    {
     "data": {
      "text/latex": [
       "$\\forall_{x, y, z \\in \\mathbb{C}} \\left(\\frac{x \\cdot y}{z} = \\left(\\frac{x}{z} \\cdot y\\right)\\right)$"
      ],
      "text/plain": [
       "forall_{x, y, z in Complexes} ((x * y) / z = (x / z * y))"
      ]
     },
     "execution_count": 41,
     "metadata": {},
     "output_type": "execute_result"
    }
   ],
   "source": [
    "rightFracMultRev = Forall([x, y, z], Equals(Fraction(Multiply(x, y), z),\n",
    "                                            Multiply(Fraction(x, z), y)), domain=Complexes)\n",
    "rightFracMultRev"
   ]
  },
  {
   "cell_type": "code",
   "execution_count": 42,
   "metadata": {
    "collapsed": false
   },
   "outputs": [
    {
     "data": {
      "text/latex": [
       "$\\forall_{x, y, z, w \\in \\mathbb{C}} \\left(\\left(\\frac{x}{z} \\cdot \\frac{y}{w}\\right) = \\frac{x \\cdot y}{z \\cdot w}\\right)$"
      ],
      "text/plain": [
       "forall_{x, y, z, w in Complexes} ((x / z * y / w) = (x * y) / (z * w))"
      ]
     },
     "execution_count": 42,
     "metadata": {},
     "output_type": "execute_result"
    }
   ],
   "source": [
    "fracProd = Forall([x, y, z, w], Equals(Multiply(Fraction(x, z), Fraction(y, w)),\n",
    "                                           Fraction(Multiply(x, y), Multiply(z, w))), domain=Complexes)\n",
    "fracProd"
   ]
  },
  {
   "cell_type": "code",
   "execution_count": 43,
   "metadata": {
    "collapsed": false
   },
   "outputs": [
    {
     "data": {
      "text/latex": [
       "$\\forall_{x, y, z, w \\in \\mathbb{C}} \\left(\\frac{x \\cdot y}{z \\cdot w} = \\left(\\frac{x}{z} \\cdot \\frac{y}{w}\\right)\\right)$"
      ],
      "text/plain": [
       "forall_{x, y, z, w in Complexes} ((x * y) / (z * w) = (x / z * y / w))"
      ]
     },
     "execution_count": 43,
     "metadata": {},
     "output_type": "execute_result"
    }
   ],
   "source": [
    "fracProdRev = Forall([x, y, z, w], Equals(Fraction(Multiply(x, y), Multiply(z, w)),\n",
    "                                          Multiply(Fraction(x, z), Fraction(y, w))), domain=Complexes)\n",
    "fracProdRev"
   ]
  },
  {
   "cell_type": "code",
   "execution_count": 44,
   "metadata": {
    "collapsed": false
   },
   "outputs": [
    {
     "data": {
      "text/latex": [
       "$\\forall_{x, y, z \\in \\mathbb{C}} \\left(\\left(\\frac{1}{y} \\cdot \\frac{x}{z}\\right) = \\frac{x}{y \\cdot z}\\right)$"
      ],
      "text/plain": [
       "forall_{x, y, z in Complexes} ((1 / y * x / z) = x / (y * z))"
      ]
     },
     "execution_count": 44,
     "metadata": {},
     "output_type": "execute_result"
    }
   ],
   "source": [
    "fracProdLeftNumerOne = Forall([x, y, z], Equals(Multiply(Fraction(one, y), Fraction(x, z)),\n",
    "                                                 Fraction(x, Multiply(y, z))), domain=Complexes)\n",
    "fracProdLeftNumerOne"
   ]
  },
  {
   "cell_type": "code",
   "execution_count": 45,
   "metadata": {
    "collapsed": false
   },
   "outputs": [
    {
     "data": {
      "text/latex": [
       "$\\forall_{x, y, z \\in \\mathbb{C}} \\left(\\frac{x}{y \\cdot z} = \\left(\\frac{1}{y} \\cdot \\frac{x}{z}\\right)\\right)$"
      ],
      "text/plain": [
       "forall_{x, y, z in Complexes} (x / (y * z) = (1 / y * x / z))"
      ]
     },
     "execution_count": 45,
     "metadata": {},
     "output_type": "execute_result"
    }
   ],
   "source": [
    "fracProdLeftNumerOneRev = Forall([x, y, z], Equals(Fraction(x, Multiply(y, z)),\n",
    "                                                   Multiply(Fraction(one, y), Fraction(x, z))), domain=Complexes)\n",
    "fracProdLeftNumerOneRev"
   ]
  },
  {
   "cell_type": "code",
   "execution_count": 46,
   "metadata": {
    "collapsed": false
   },
   "outputs": [
    {
     "data": {
      "text/latex": [
       "$\\forall_{x, y, z \\in \\mathbb{C}} \\left(\\left(\\frac{x}{y} \\cdot \\frac{1}{z}\\right) = \\frac{x}{y \\cdot z}\\right)$"
      ],
      "text/plain": [
       "forall_{x, y, z in Complexes} ((x / y * 1 / z) = x / (y * z))"
      ]
     },
     "execution_count": 46,
     "metadata": {},
     "output_type": "execute_result"
    }
   ],
   "source": [
    "fracProdRightNumerOne = Forall([x, y, z], Equals(Multiply(Fraction(x, y), Fraction(one, z)),\n",
    "                                                 Fraction(x, Multiply(y, z))), domain=Complexes)\n",
    "fracProdRightNumerOne"
   ]
  },
  {
   "cell_type": "code",
   "execution_count": 47,
   "metadata": {
    "collapsed": false
   },
   "outputs": [
    {
     "data": {
      "text/latex": [
       "$\\forall_{x, y, z \\in \\mathbb{C}} \\left(\\frac{x}{y \\cdot z} = \\left(\\frac{x}{y} \\cdot \\frac{1}{z}\\right)\\right)$"
      ],
      "text/plain": [
       "forall_{x, y, z in Complexes} (x / (y * z) = (x / y * 1 / z))"
      ]
     },
     "execution_count": 47,
     "metadata": {},
     "output_type": "execute_result"
    }
   ],
   "source": [
    "fracProdRightNumerOneRev = Forall([x, y, z], Equals(Fraction(x, Multiply(y, z)),\n",
    "                                                    Multiply(Fraction(x, y), Fraction(one, z))), domain=Complexes)\n",
    "fracProdRightNumerOneRev"
   ]
  },
  {
   "cell_type": "code",
   "execution_count": 48,
   "metadata": {
    "collapsed": false
   },
   "outputs": [
    {
     "data": {
      "text/latex": [
       "$\\forall_{x, ..y.., ..z.. \\in \\mathbb{C} | x \\neq 0} \\left(\\frac{x \\cdot ..y..}{x \\cdot ..z..} = \\frac{..y..}{..z..}\\right)$"
      ],
      "text/plain": [
       "forall_{x, ..y.., ..z.. in Complexes | x != 0} ((x * ..y..) / (x * ..z..) = ..y.. / ..z..)"
      ]
     },
     "execution_count": 48,
     "metadata": {},
     "output_type": "execute_result"
    }
   ],
   "source": [
    "fracCancel1 = Forall([x,yEtc,zEtc],\n",
    "                   Equals(Fraction(Multiply(x,yEtc),Multiply(x,zEtc)),\n",
    "                         Fraction(yEtc,zEtc)),domain=Complexes, conditions=[NotEquals(x, zero)])\n",
    "fracCancel1"
   ]
  },
  {
   "cell_type": "code",
   "execution_count": 49,
   "metadata": {
    "collapsed": false
   },
   "outputs": [
    {
     "data": {
      "text/latex": [
       "$\\forall_{x, ..y.. \\in \\mathbb{C} | x \\neq 0} \\left(\\frac{x \\cdot ..y..}{x} = ..y..\\right)$"
      ],
      "text/plain": [
       "forall_{x, ..y.. in Complexes | x != 0} ((x * ..y..) / x = ..y..)"
      ]
     },
     "execution_count": 49,
     "metadata": {},
     "output_type": "execute_result"
    }
   ],
   "source": [
    "fracCancel2 = Forall([x,yEtc],\n",
    "                   Equals(Fraction(Multiply(x,yEtc),x),\n",
    "                         yEtc),domain=Complexes, conditions=[NotEquals(x, zero)])\n",
    "fracCancel2"
   ]
  },
  {
   "cell_type": "code",
   "execution_count": 50,
   "metadata": {
    "collapsed": false
   },
   "outputs": [
    {
     "data": {
      "text/latex": [
       "$\\forall_{x, ..y.. \\in \\mathbb{C} | x \\neq 0} \\left(\\frac{x}{x \\cdot ..y..} = \\frac{1}{..y..}\\right)$"
      ],
      "text/plain": [
       "forall_{x, ..y.. in Complexes | x != 0} (x / (x * ..y..) = 1 / ..y..)"
      ]
     },
     "execution_count": 50,
     "metadata": {},
     "output_type": "execute_result"
    }
   ],
   "source": [
    "fracCancel3 = Forall([x,yEtc],\n",
    "                   Equals(Fraction(x,Multiply(x,yEtc)),\n",
    "                         Fraction(one,yEtc)),domain=Complexes, conditions=[NotEquals(x, zero)])\n",
    "fracCancel3"
   ]
  },
  {
   "cell_type": "code",
   "execution_count": 51,
   "metadata": {
    "collapsed": false
   },
   "outputs": [
    {
     "data": {
      "text/latex": [
       "$\\forall_{x, y \\in \\mathbb{C} | y \\neq 0} \\left(\\left(\\frac{x}{y} \\cdot y\\right) = x\\right)$"
      ],
      "text/plain": [
       "forall_{x, y in Complexes | y != 0} ((x / y * y) = x)"
      ]
     },
     "execution_count": 51,
     "metadata": {},
     "output_type": "execute_result"
    }
   ],
   "source": [
    "fracCancel4 = Forall([x,y],\n",
    "                      Equals(Multiply(Fraction(x,y),y),x),\n",
    "                      domain = Complexes, conditions = [NotEquals(y, zero)])\n",
    "fracCancel4"
   ]
  },
  {
   "cell_type": "code",
   "execution_count": 52,
   "metadata": {
    "collapsed": false
   },
   "outputs": [
    {
     "data": {
      "text/latex": [
       "$\\forall_{x, y \\in \\mathbb{C}} \\left(\\left(x^{y} \\cdot x\\right) = x^{y + 1}\\right)$"
      ],
      "text/plain": [
       "forall_{x, y in Complexes} ((x^(y) * x) = x^(y + 1))"
      ]
     },
     "execution_count": 52,
     "metadata": {},
     "output_type": "execute_result"
    }
   ],
   "source": [
    "expAdd1 = Forall([x,y],Equals(Multiply(Exponentiate(x,y),x),Exponentiate(x,Add(y,one))),\n",
    "                domain = Complexes)\n",
    "expAdd1"
   ]
  },
  {
   "cell_type": "code",
   "execution_count": 53,
   "metadata": {
    "collapsed": false
   },
   "outputs": [
    {
     "data": {
      "text/latex": [
       "$\\forall_{x, y, z \\in \\mathbb{C}} \\left(\\left(x^{y} \\cdot x \\cdot z\\right) = \\left(x^{y + 1} \\cdot z\\right)\\right)$"
      ],
      "text/plain": [
       "forall_{x, y, z in Complexes} ((x^(y) * x * z) = (x^(y + 1) * z))"
      ]
     },
     "execution_count": 53,
     "metadata": {},
     "output_type": "execute_result"
    }
   ],
   "source": [
    "expAdd1a = Forall([x,y,z],\n",
    "                 Equals(\n",
    "        Multiply(Exponentiate(x,y),x,z),\n",
    "        Multiply(Exponentiate(x,Add(y,one)),z)),\n",
    "                domain = Complexes)\n",
    "expAdd1a"
   ]
  },
  {
   "cell_type": "code",
   "execution_count": 54,
   "metadata": {
    "collapsed": false
   },
   "outputs": [
    {
     "data": {
      "text/latex": [
       "$\\forall_{x, y, z \\in \\mathbb{C}} \\left(\\left(\\frac{x}{y}\\right)^{z} = \\frac{x^{z}}{y^{z}}\\right)$"
      ],
      "text/plain": [
       "forall_{x, y, z in Complexes} ((x / y)^(z) = x^(z) / y^(z))"
      ]
     },
     "execution_count": 54,
     "metadata": {},
     "output_type": "execute_result"
    }
   ],
   "source": [
    "fracExp = Forall([x,y,z],\n",
    "                 Equals(Exponentiate(Fraction(x,y),z),\n",
    "                       Fraction(Exponentiate(x,z),Exponentiate(y,z))),\n",
    "                 domain = Complexes)\n",
    "fracExp"
   ]
  },
  {
   "cell_type": "code",
   "execution_count": 55,
   "metadata": {
    "collapsed": false
   },
   "outputs": [
    {
     "data": {
      "text/latex": [
       "$\\forall_{x \\in \\mathbb{C}} \\left(x^{1} = x\\right)$"
      ],
      "text/plain": [
       "forall_{x in Complexes} (x^(1) = x)"
      ]
     },
     "execution_count": 55,
     "metadata": {},
     "output_type": "execute_result"
    }
   ],
   "source": [
    "oneExp = Forall([x],\n",
    "               Equals(Exponentiate(x,one),\n",
    "                      x),\n",
    "               domain = Complexes)\n",
    "oneExp"
   ]
  },
  {
   "cell_type": "code",
   "execution_count": 56,
   "metadata": {
    "collapsed": false
   },
   "outputs": [
    {
     "data": {
      "text/latex": [
       "$\\forall_{x \\in \\mathbb{C}} \\left(1^{x} = 1\\right)$"
      ],
      "text/plain": [
       "forall_{x in Complexes} (1^(x) = 1)"
      ]
     },
     "execution_count": 56,
     "metadata": {},
     "output_type": "execute_result"
    }
   ],
   "source": [
    "expOne = Forall([x],\n",
    "               Equals(Exponentiate(one,x),\n",
    "                     one),\n",
    "               domain = Complexes)\n",
    "expOne"
   ]
  },
  {
   "cell_type": "code",
   "execution_count": 57,
   "metadata": {
    "collapsed": false
   },
   "outputs": [
    {
     "data": {
      "text/latex": [
       "$\\forall_{x \\in \\mathbb{C}} \\left(\\left(1 \\cdot x\\right) = x\\right)$"
      ],
      "text/plain": [
       "forall_{x in Complexes} ((1 * x) = x)"
      ]
     },
     "execution_count": 57,
     "metadata": {},
     "output_type": "execute_result"
    }
   ],
   "source": [
    "multOne = Forall([x],\n",
    "                Equals(Multiply(one,x),x),\n",
    "                domain = Complexes)\n",
    "multOne"
   ]
  },
  {
   "cell_type": "code",
   "execution_count": 58,
   "metadata": {
    "collapsed": false
   },
   "outputs": [
    {
     "data": {
      "text/latex": [
       "$\\forall_{x, y, z \\in \\mathbb{C}} \\left(\\left(\\left(x + y\\right) \\cdot z\\right) = \\left(\\left(x \\cdot z\\right) + \\left(y \\cdot z\\right)\\right)\\right)$"
      ],
      "text/plain": [
       "forall_{x, y, z in Complexes} (((x + y) * z) = ((x * z) + (y * z)))"
      ]
     },
     "execution_count": 58,
     "metadata": {},
     "output_type": "execute_result"
    }
   ],
   "source": [
    "multOverAdd = Forall([x,y,z],\n",
    "                    Equals(Multiply(Add(x,y),z),\n",
    "                    Add(Multiply(x,z),Multiply(y,z))),\n",
    "                    domain = Complexes)\n",
    "multOverAdd"
   ]
  },
  {
   "cell_type": "code",
   "execution_count": 59,
   "metadata": {
    "collapsed": false
   },
   "outputs": [
    {
     "data": {
      "text/latex": [
       "$\\forall_{x, y, z \\in \\mathbb{C}} \\left(\\left(\\left(x - y\\right) \\cdot z\\right) = \\left(\\left(x \\cdot z\\right) - \\left(y \\cdot z\\right)\\right)\\right)$"
      ],
      "text/plain": [
       "forall_{x, y, z in Complexes} (((x - y) * z) = ((x * z) - (y * z)))"
      ]
     },
     "execution_count": 59,
     "metadata": {},
     "output_type": "execute_result"
    }
   ],
   "source": [
    "multOverSubtract = Forall([x,y,z],\n",
    "                    Equals(Multiply(Subtract(x,y),z),\n",
    "                    Subtract(Multiply(x,z),Multiply(y,z))),\n",
    "                    domain = Complexes)\n",
    "multOverSubtract"
   ]
  },
  {
   "cell_type": "code",
   "execution_count": 60,
   "metadata": {
    "collapsed": false
   },
   "outputs": [
    {
     "data": {
      "text/latex": [
       "$\\forall_{x, y, z \\in \\mathbb{C}} \\left(\\left(x^{y} \\cdot z^{y}\\right) = \\left(x \\cdot z\\right)^{y}\\right)$"
      ],
      "text/plain": [
       "forall_{x, y, z in Complexes} ((x^(y) * z^(y)) = (x * z)^(y))"
      ]
     },
     "execution_count": 60,
     "metadata": {},
     "output_type": "execute_result"
    }
   ],
   "source": [
    "samePowDistribute = Forall([x,y,z],\n",
    "                            Equals(Multiply(Exponentiate(x,y),Exponentiate(z,y)),\n",
    "                                 Exponentiate(Multiply(x,z),y)),\n",
    "                            domain = Complexes)\n",
    "samePowDistribute"
   ]
  },
  {
   "cell_type": "code",
   "execution_count": 61,
   "metadata": {
    "collapsed": false
   },
   "outputs": [
    {
     "name": "stdout",
     "output_type": "stream",
     "text": [
      "Creating theorems *.dill and *.pv_it files in the __pv_it__ directory\n",
      "These theorems may be imported from proveit.number.complex.theorems\n"
     ]
    }
   ],
   "source": [
    "%end_theorems"
   ]
  },
  {
   "cell_type": "code",
   "execution_count": null,
   "metadata": {
    "collapsed": true
   },
   "outputs": [],
   "source": []
  }
 ],
 "metadata": {
  "kernelspec": {
   "display_name": "Python 2",
   "language": "python",
   "name": "python2"
  },
  "language_info": {
   "codemirror_mode": {
    "name": "ipython",
    "version": 2
   },
   "file_extension": ".py",
   "mimetype": "text/x-python",
   "name": "python",
   "nbconvert_exporter": "python",
   "pygments_lexer": "ipython2",
   "version": "2.7.10"
  }
 },
 "nbformat": 4,
 "nbformat_minor": 0
}
