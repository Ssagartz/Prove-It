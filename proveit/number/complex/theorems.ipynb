{
 "cells": [
  {
   "cell_type": "code",
   "execution_count": 1,
   "metadata": {
    "collapsed": false
   },
   "outputs": [],
   "source": [
    "import proveit.specialStatementMagic # for %begin_axioms and %end_axioms\n",
    "from proveit.basiclogic.set.setOps import In\n",
    "from proveit.basiclogic.boolean.boolOps import And\n",
    "from proveit.number.common import *\n",
    "from proveit.basiclogic import Forall, Exists, Equals\n",
    "from proveit.number.arithmeticOps import LessThan, LessThanEquals, GreaterThan, GreaterThanEquals, Fraction\n",
    "from proveit.number.arithmeticOps import Add, Subtract, Multiply, Abs, Exponentiate, Neg\n",
    "from proveit.multiExpression import Etcetera"
   ]
  },
  {
   "cell_type": "code",
   "execution_count": 2,
   "metadata": {
    "collapsed": true
   },
   "outputs": [],
   "source": [
    "#from IPython.display import Latex\n",
    "from IPython.display import display"
   ]
  },
  {
   "cell_type": "code",
   "execution_count": 3,
   "metadata": {
    "collapsed": false
   },
   "outputs": [],
   "source": [
    "%begin_theorems"
   ]
  },
  {
   "cell_type": "code",
   "execution_count": 4,
   "metadata": {
    "collapsed": false
   },
   "outputs": [
    {
     "data": {
      "image/png": "[encoded data removed]",
      "text/plain": [
       "forall_{a, b in Complexes} (|(a + b)| <= (|a| + |b|))"
      ]
     },
     "execution_count": 4,
     "metadata": {},
     "output_type": "execute_result"
    }
   ],
   "source": [
    "triangleInequality = Forall([a,b],\n",
    "                        LessThanEquals(Abs(Add(a,b)),Add(Abs(a),Abs(b))),\n",
    "                        domain=Complexes)\n",
    "triangleInequality"
   ]
  },
  {
   "cell_type": "code",
   "execution_count": 5,
   "metadata": {
    "collapsed": false
   },
   "outputs": [
    {
     "data": {
      "image/png": "[encoded data removed]",
      "text/plain": [
       "forall_{a, b in Complexes} (|(a * b)| = (|a| * |b|))"
      ]
     },
     "execution_count": 5,
     "metadata": {},
     "output_type": "execute_result"
    }
   ],
   "source": [
    "absProd = Forall([a,b],\n",
    "                 Equals(Abs(Multiply(a,b)),Multiply(Abs(a),Abs(b))),\n",
    "                 domain = Complexes)\n",
    "absProd"
   ]
  },
  {
   "cell_type": "code",
   "execution_count": 6,
   "metadata": {
    "collapsed": false
   },
   "outputs": [
    {
     "data": {
      "image/png": "[encoded data removed]",
      "text/plain": [
       "forall_{..a.., ..b.. in Complexes} (|(..a.. * ..b..)| = (|..a..| * |..b..|))"
      ]
     },
     "execution_count": 6,
     "metadata": {},
     "output_type": "execute_result"
    }
   ],
   "source": [
    "absProdEtc = Forall([Etcetera(a),Etcetera(b)],\n",
    "                 Equals(Abs(Multiply(Etcetera(a),Etcetera(b))),Multiply(Abs(Etcetera(a)),Abs(Etcetera(b)))),\n",
    "                 domain = Complexes)\n",
    "absProdEtc"
   ]
  },
  {
   "cell_type": "code",
   "execution_count": 7,
   "metadata": {
    "collapsed": false
   },
   "outputs": [
    {
     "data": {
      "image/png": "[encoded data removed]",
      "text/plain": [
       "forall_{..a.., ..b.. in Complexes} (|(..a.. * ..b..)| = (|..a..| * |..b..|))"
      ]
     },
     "execution_count": 7,
     "metadata": {},
     "output_type": "execute_result"
    }
   ],
   "source": [
    "Forall([Etcetera(a),Etcetera(b)],\n",
    "                 Equals(Abs(Multiply(Etcetera(a),Etcetera(b))),Multiply(Abs(Etcetera(a)),Abs(Etcetera(b)))),\n",
    "                 domain = Complexes)"
   ]
  },
  {
   "cell_type": "code",
   "execution_count": 8,
   "metadata": {
    "collapsed": false
   },
   "outputs": [
    {
     "data": {
      "image/png": "[encoded data removed]",
      "text/plain": [
       "forall_{a, b, c in Complexes} ((a * b)^(c) = (a^(c) * b^(c)))"
      ]
     },
     "execution_count": 8,
     "metadata": {},
     "output_type": "execute_result"
    }
   ],
   "source": [
    "absPow = Forall([a,b,c],\n",
    "                Equals(Exponentiate(Multiply(a,b),c),\n",
    "                       Multiply(Exponentiate(a,c),Exponentiate(b,c))\n",
    "                       ),\n",
    "                domain = Complexes)\n",
    "absPow"
   ]
  },
  {
   "cell_type": "code",
   "execution_count": 9,
   "metadata": {
    "collapsed": false
   },
   "outputs": [
    {
     "data": {
      "image/png": "[encoded data removed]",
      "text/plain": [
       "forall_{a, b, c in Complexes} (a^((b + c)) = (a^(b) * a^(c)))"
      ]
     },
     "execution_count": 9,
     "metadata": {},
     "output_type": "execute_result"
    }
   ],
   "source": [
    "powSum = Forall([a,b,c],\n",
    "                Equals(Exponentiate(a,Add(b,c)),\n",
    "                       Multiply(Exponentiate(a,b),Exponentiate(a,c))),\n",
    "                domain = Complexes)\n",
    "powSum"
   ]
  },
  {
   "cell_type": "code",
   "execution_count": 10,
   "metadata": {
    "collapsed": false
   },
   "outputs": [
    {
     "data": {
      "image/png": "[encoded data removed]",
      "text/plain": [
       "forall_{a, b in Complexes} ((a - b)^(2) = (b - a)^(2))"
      ]
     },
     "execution_count": 10,
     "metadata": {},
     "output_type": "execute_result"
    }
   ],
   "source": [
    "diffSquareComm = Forall([a,b],\n",
    "                        Equals(\n",
    "                            Exponentiate(Subtract(a,b),two),\n",
    "                            Exponentiate(Subtract(b,a),two)),\n",
    "                        domain = Complexes)\n",
    "diffSquareComm"
   ]
  },
  {
   "cell_type": "code",
   "execution_count": 11,
   "metadata": {
    "collapsed": false
   },
   "outputs": [
    {
     "data": {
      "image/png": "[encoded data removed]",
      "text/plain": [
       "forall_{..v.., ..w.., ..x.., ..y.., ..z..} ((..v.. * ..w.. * ..x.. * ..y.. * ..z..) = (..v.. * ..y.. * ..x.. * ..w.. * ..z..))"
      ]
     },
     "execution_count": 11,
     "metadata": {},
     "output_type": "execute_result"
    }
   ],
   "source": [
    "multComm = Forall([Etcetera(v),Etcetera(w),Etcetera(x),Etcetera(y),Etcetera(z)],\n",
    "                 Equals(\n",
    "                        Multiply(Etcetera(v),Etcetera(w),Etcetera(x),Etcetera(y),Etcetera(z)),\n",
    "                        Multiply(Etcetera(v),Etcetera(y),Etcetera(x),Etcetera(w),Etcetera(z))\n",
    "    )#,\n",
    "#                 domain = Complexes\n",
    "                 )\n",
    "multComm"
   ]
  },
  {
   "cell_type": "code",
   "execution_count": 12,
   "metadata": {
    "collapsed": false
   },
   "outputs": [
    {
     "data": {
      "image/png": "[encoded data removed]",
      "text/plain": [
       "forall_{..w.., ..x.., ..y.., ..z..} ((..w.. * ..x.. * ..y.. * ..z..) = (..w.. * (..x.. * ..y..) * ..z..))"
      ]
     },
     "execution_count": 12,
     "metadata": {},
     "output_type": "execute_result"
    }
   ],
   "source": [
    "multAssoc = Forall([Etcetera(w),Etcetera(x),Etcetera(y),Etcetera(z)],\n",
    "                  Equals(\n",
    "                        Multiply(\n",
    "                                Etcetera(w),Etcetera(x),Etcetera(y),Etcetera(z)),\n",
    "                        Multiply(\n",
    "                                Etcetera(w),Multiply(Etcetera(x),Etcetera(y)),Etcetera(z))\n",
    "                        )#,\n",
    "#                  domain = Complexes\n",
    "                  )\n",
    "multAssoc"
   ]
  },
  {
   "cell_type": "code",
   "execution_count": 13,
   "metadata": {
    "collapsed": false
   },
   "outputs": [
    {
     "data": {
      "image/png": "[encoded data removed]",
      "text/plain": [
       "forall_{x, ..y.., ..z.. in Complexes} ((x * ..y..) / (x * ..z..) = ..y.. / ..z..)"
      ]
     },
     "execution_count": 13,
     "metadata": {},
     "output_type": "execute_result"
    }
   ],
   "source": [
    "fracCancel1 = Forall([x,Etcetera(y),Etcetera(z)],\n",
    "                   Equals(Fraction(Multiply(x,Etcetera(y)),Multiply(x,Etcetera(z))),\n",
    "                         Fraction(Etcetera(y),Etcetera(z))),domain=Complexes)\n",
    "fracCancel1"
   ]
  },
  {
   "cell_type": "code",
   "execution_count": 14,
   "metadata": {
    "collapsed": false
   },
   "outputs": [
    {
     "data": {
      "image/png": "[encoded data removed]",
      "text/plain": [
       "forall_{x, ..y.. in Complexes} ((x * ..y..) / x = ..y..)"
      ]
     },
     "execution_count": 14,
     "metadata": {},
     "output_type": "execute_result"
    }
   ],
   "source": [
    "fracCancel2 = Forall([x,Etcetera(y)],\n",
    "                   Equals(Fraction(Multiply(x,Etcetera(y)),x),\n",
    "                         Etcetera(y)),domain=Complexes)\n",
    "fracCancel2"
   ]
  },
  {
   "cell_type": "code",
   "execution_count": 15,
   "metadata": {
    "collapsed": false
   },
   "outputs": [
    {
     "data": {
      "image/png": "[encoded data removed]",
      "text/plain": [
       "forall_{x, ..y.. in Complexes} (x / (x * ..y..) = 1 / ..y..)"
      ]
     },
     "execution_count": 15,
     "metadata": {},
     "output_type": "execute_result"
    }
   ],
   "source": [
    "fracCancel3 = Forall([x,Etcetera(y)],\n",
    "                   Equals(Fraction(x,Multiply(x,Etcetera(y))),\n",
    "                         Fraction(one,Etcetera(y))),domain=Complexes)\n",
    "fracCancel3"
   ]
  },
  {
   "cell_type": "code",
   "execution_count": 16,
   "metadata": {
    "collapsed": false
   },
   "outputs": [
    {
     "data": {
      "image/png": "[encoded data removed]",
      "text/plain": [
       "forall_{x, y in Complexes} ((x^(y) * x) = x^((y + 1)))"
      ]
     },
     "execution_count": 16,
     "metadata": {},
     "output_type": "execute_result"
    }
   ],
   "source": [
    "expAdd1 = Forall([x,y],Equals(Multiply(Exponentiate(x,y),x),Exponentiate(x,Add(y,one))),\n",
    "                domain = Complexes)\n",
    "expAdd1"
   ]
  },
  {
   "cell_type": "code",
   "execution_count": 17,
   "metadata": {
    "collapsed": false
   },
   "outputs": [
    {
     "data": {
      "image/png": "[encoded data removed]",
      "text/plain": [
       "forall_{x, y, z in Complexes} ((x^(y) * x * z) = (x^((y + 1)) * z))"
      ]
     },
     "execution_count": 17,
     "metadata": {},
     "output_type": "execute_result"
    }
   ],
   "source": [
    "expAdd1a = Forall([x,y,z],\n",
    "                 Equals(\n",
    "        Multiply(Exponentiate(x,y),x,z),\n",
    "        Multiply(Exponentiate(x,Add(y,one)),z)),\n",
    "                domain = Complexes)\n",
    "expAdd1a"
   ]
  },
  {
   "cell_type": "code",
   "execution_count": 18,
   "metadata": {
    "collapsed": false
   },
   "outputs": [
    {
     "name": "stdout",
     "output_type": "stream",
     "text": [
      "Creating theorems *.dill and *.pv_it files in the __pv_it__ directory\n",
      "expAdd1 has changed.  Replace it? (yes/no/all)all\n",
      "These theorems may be imported from proveit.number.complex.theorems\n"
     ]
    }
   ],
   "source": [
    "%end_theorems"
   ]
  },
  {
   "cell_type": "code",
   "execution_count": null,
   "metadata": {
    "collapsed": true
   },
   "outputs": [],
   "source": []
  },
  {
   "cell_type": "code",
   "execution_count": 1,
   "metadata": {
    "collapsed": false
   },
   "outputs": [
    {
     "ename": "NameError",
     "evalue": "name 'Multiply' is not defined",
     "output_type": "error",
     "traceback": [
      "\u001b[0;31m---------------------------------------------------------------------------\u001b[0m",
      "\u001b[0;31mNameError\u001b[0m                                 Traceback (most recent call last)",
      "\u001b[0;32m<ipython-input-1-152a42823c39>\u001b[0m in \u001b[0;36m<module>\u001b[0;34m()\u001b[0m\n\u001b[0;32m----> 1\u001b[0;31m \u001b[0mZZ\u001b[0m \u001b[0;34m=\u001b[0m \u001b[0mMultiply\u001b[0m\u001b[0;34m(\u001b[0m\u001b[0ma\u001b[0m\u001b[0;34m,\u001b[0m\u001b[0mb\u001b[0m\u001b[0;34m,\u001b[0m\u001b[0mc\u001b[0m\u001b[0;34m)\u001b[0m\u001b[0;34m\u001b[0m\u001b[0m\n\u001b[0m",
      "\u001b[0;31mNameError\u001b[0m: name 'Multiply' is not defined"
     ]
    }
   ],
   "source": [
    "ZZ = Multiply(a,b,c)"
   ]
  },
  {
   "cell_type": "code",
   "execution_count": null,
   "metadata": {
    "collapsed": false
   },
   "outputs": [],
   "source": [
    "ZZZ = ZZ.factor(a,pull='left')"
   ]
  },
  {
   "cell_type": "code",
   "execution_count": null,
   "metadata": {
    "collapsed": false
   },
   "outputs": [],
   "source": [
    "ZZZ"
   ]
  },
  {
   "cell_type": "code",
   "execution_count": null,
   "metadata": {
    "collapsed": false
   },
   "outputs": [],
   "source": [
    "ZZZ.operands"
   ]
  },
  {
   "cell_type": "code",
   "execution_count": null,
   "metadata": {
    "collapsed": false
   },
   "outputs": [],
   "source": [
    "display(ZZ.factor(a,pull='left'))\n",
    "print\n",
    "display(ZZ.factor(a,pull='right'))\n",
    "print\n",
    "display(ZZ.factor(b,pull='left'))\n",
    "print\n",
    "display(ZZ.factor(b,pull='right'))\n",
    "print\n",
    "display(ZZ.factor(c,pull='left'))\n",
    "print\n",
    "display(ZZ.factor(c,pull='right'))"
   ]
  },
  {
   "cell_type": "code",
   "execution_count": null,
   "metadata": {
    "collapsed": false
   },
   "outputs": [],
   "source": [
    "display(ZZ.factorRhs(a,pull='left'))\n",
    "print\n",
    "display(ZZ.factorRhs(a,pull='right'))\n",
    "print\n",
    "display(ZZ.factorRhs(b,pull='left'))\n",
    "print\n",
    "display(ZZ.factorRhs(b,pull='right'))\n",
    "print\n",
    "display(ZZ.factorRhs(c,pull='left'))\n",
    "print\n",
    "display(ZZ.factorRhs(c,pull='right'))"
   ]
  },
  {
   "cell_type": "code",
   "execution_count": null,
   "metadata": {
    "collapsed": true
   },
   "outputs": [],
   "source": [
    "L = [0,10,30,40]"
   ]
  },
  {
   "cell_type": "code",
   "execution_count": null,
   "metadata": {
    "collapsed": false
   },
   "outputs": [],
   "source": [
    "L.index(10)"
   ]
  },
  {
   "cell_type": "code",
   "execution_count": null,
   "metadata": {
    "collapsed": true
   },
   "outputs": [],
   "source": [
    "XX = Multiply(a,b)"
   ]
  },
  {
   "cell_type": "code",
   "execution_count": null,
   "metadata": {
    "collapsed": false
   },
   "outputs": [],
   "source": [
    "display(XX.factor(a,pull='left'))\n",
    "display(XX.factor(a,pull='right'))\n",
    "display(XX.factor(b,pull='left'))\n",
    "display(XX.factor(b,pull='right'))"
   ]
  },
  {
   "cell_type": "code",
   "execution_count": null,
   "metadata": {
    "collapsed": false
   },
   "outputs": [],
   "source": [
    "ZZ"
   ]
  },
  {
   "cell_type": "code",
   "execution_count": null,
   "metadata": {
    "collapsed": false
   },
   "outputs": [],
   "source": [
    "QQ = Multiply(w,x,y,z)"
   ]
  },
  {
   "cell_type": "code",
   "execution_count": null,
   "metadata": {
    "collapsed": false
   },
   "outputs": [],
   "source": [
    "QQ"
   ]
  },
  {
   "cell_type": "code",
   "execution_count": null,
   "metadata": {
    "collapsed": false
   },
   "outputs": [],
   "source": [
    "QQ.operands[:QQ.operands.index(x)]"
   ]
  },
  {
   "cell_type": "code",
   "execution_count": null,
   "metadata": {
    "collapsed": false
   },
   "outputs": [],
   "source": [
    "QQ.operands[QQ.operands.index(x)+1:]"
   ]
  },
  {
   "cell_type": "code",
   "execution_count": null,
   "metadata": {
    "collapsed": false
   },
   "outputs": [],
   "source": [
    "QQ.operands[:QQ.operands.index(x)] + QQ.operands[QQ.operands.index(x)+1:]"
   ]
  },
  {
   "cell_type": "code",
   "execution_count": null,
   "metadata": {
    "collapsed": false
   },
   "outputs": [],
   "source": [
    "isinstance(Multiply(a,b),Multiply)"
   ]
  },
  {
   "cell_type": "code",
   "execution_count": null,
   "metadata": {
    "collapsed": false
   },
   "outputs": [],
   "source": [
    "Multiply(a,b).factor(a)"
   ]
  },
  {
   "cell_type": "code",
   "execution_count": null,
   "metadata": {
    "collapsed": false
   },
   "outputs": [],
   "source": [
    "fracCancel1.specialize({x:a,y:b,z:c})"
   ]
  },
  {
   "cell_type": "code",
   "execution_count": null,
   "metadata": {
    "collapsed": false
   },
   "outputs": [],
   "source": [
    "fracCancel1"
   ]
  },
  {
   "cell_type": "code",
   "execution_count": null,
   "metadata": {
    "collapsed": false
   },
   "outputs": [],
   "source": [
    "QQQ = Fraction(Multiply(b,a),Multiply(y,a))"
   ]
  },
  {
   "cell_type": "code",
   "execution_count": null,
   "metadata": {
    "collapsed": false
   },
   "outputs": [],
   "source": [
    "QQQ"
   ]
  },
  {
   "cell_type": "code",
   "execution_count": null,
   "metadata": {
    "collapsed": false
   },
   "outputs": [],
   "source": [
    "QQQ.cancel1(a).proven({In(a,Complexes),In(b,Complexes),In(y,Complexes)})"
   ]
  },
  {
   "cell_type": "code",
   "execution_count": null,
   "metadata": {
    "collapsed": false
   },
   "outputs": [],
   "source": [
    "QQQ.cancel1(a).proven({In([a,b,y],Complexes)})"
   ]
  },
  {
   "cell_type": "code",
   "execution_count": null,
   "metadata": {
    "collapsed": false
   },
   "outputs": [],
   "source": [
    "QQQ.numerator.factor(b).proven().rhsSubstitute(QQQ)"
   ]
  },
  {
   "cell_type": "code",
   "execution_count": null,
   "metadata": {
    "collapsed": false
   },
   "outputs": [],
   "source": [
    "q = Etcetera(x)\n",
    "q"
   ]
  },
  {
   "cell_type": "code",
   "execution_count": null,
   "metadata": {
    "collapsed": false
   },
   "outputs": [],
   "source": [
    "multComm.specialize({Etcetera(v):[a,b]})"
   ]
  },
  {
   "cell_type": "code",
   "execution_count": null,
   "metadata": {
    "collapsed": true
   },
   "outputs": [],
   "source": []
  }
 ],
 "metadata": {
  "kernelspec": {
   "display_name": "Python 2",
   "language": "python",
   "name": "python2"
  },
  "language_info": {
   "codemirror_mode": {
    "name": "ipython",
    "version": 2
   },
   "file_extension": ".py",
   "mimetype": "text/x-python",
   "name": "python",
   "nbconvert_exporter": "python",
   "pygments_lexer": "ipython2",
   "version": "2.7.10"
  }
 },
 "nbformat": 4,
 "nbformat_minor": 0
}
