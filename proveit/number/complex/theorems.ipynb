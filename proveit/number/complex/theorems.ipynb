{
 "cells": [
  {
   "cell_type": "code",
   "execution_count": 1,
   "metadata": {
    "collapsed": false
   },
   "outputs": [],
   "source": [
    "import proveit.specialStatementMagic # for %begin_axioms and %end_axioms\n",
    "from proveit.basiclogic.set.setOps import In\n",
    "from proveit.basiclogic.boolean.boolOps import And\n",
    "from proveit.number.common import *\n",
    "from proveit.basiclogic import Forall, Exists, Equals\n",
    "from proveit.number import LessThan, LessThanEquals, GreaterThan, GreaterThanEquals, Fraction\n",
    "from proveit.number import Add, Subtract, Multiply, Abs, Exponentiate, Neg\n",
    "from proveit.multiExpression import Etcetera"
   ]
  },
  {
   "cell_type": "code",
   "execution_count": 2,
   "metadata": {
    "collapsed": true
   },
   "outputs": [],
   "source": [
    "#from IPython.display import Latex\n",
    "from IPython.display import display"
   ]
  },
  {
   "cell_type": "code",
   "execution_count": 3,
   "metadata": {
    "collapsed": false
   },
   "outputs": [],
   "source": [
    "%begin_theorems"
   ]
  },
  {
   "cell_type": "code",
   "execution_count": 4,
   "metadata": {
    "collapsed": false
   },
   "outputs": [
    {
     "data": {
      "image/png": "[encoded data removed]",
      "text/plain": [
       "forall_{a, b in Complexes} (|(a + b)| <= (|a| + |b|))"
      ]
     },
     "execution_count": 4,
     "metadata": {},
     "output_type": "execute_result"
    }
   ],
   "source": [
    "triangleInequality = Forall([a,b],\n",
    "                        LessThanEquals(Abs(Add(a,b)),Add(Abs(a),Abs(b))),\n",
    "                        domain=Complexes)\n",
    "triangleInequality"
   ]
  },
  {
   "cell_type": "code",
   "execution_count": 5,
   "metadata": {
    "collapsed": false
   },
   "outputs": [
    {
     "data": {
      "image/png": "[encoded data removed]",
      "text/plain": [
       "forall_{a, b in Complexes} (|(a * b)| = (|a| * |b|))"
      ]
     },
     "execution_count": 5,
     "metadata": {},
     "output_type": "execute_result"
    }
   ],
   "source": [
    "absProd = Forall([a,b],\n",
    "                 Equals(Abs(Multiply(a,b)),Multiply(Abs(a),Abs(b))),\n",
    "                 domain = Complexes)\n",
    "absProd"
   ]
  },
  {
   "cell_type": "code",
   "execution_count": 6,
   "metadata": {
    "collapsed": false
   },
   "outputs": [
    {
     "data": {
      "image/png": "[encoded data removed]",
      "text/plain": [
       "forall_{..a.., ..b.. in Complexes} (|(..a.. * ..b..)| = (|..a..| * |..b..|))"
      ]
     },
     "execution_count": 6,
     "metadata": {},
     "output_type": "execute_result"
    }
   ],
   "source": [
    "absProdEtc = Forall([Etcetera(a),Etcetera(b)],\n",
    "                 Equals(Abs(Multiply(Etcetera(a),Etcetera(b))),Multiply(Abs(Etcetera(a)),Abs(Etcetera(b)))),\n",
    "                 domain = Complexes)\n",
    "absProdEtc"
   ]
  },
  {
   "cell_type": "code",
   "execution_count": 7,
   "metadata": {
    "collapsed": false
   },
   "outputs": [
    {
     "data": {
      "image/png": "[encoded data removed]",
      "text/plain": [
       "forall_{a, b, c in Complexes} (a^(b + c) = (a^(b) * a^(c)))"
      ]
     },
     "execution_count": 7,
     "metadata": {},
     "output_type": "execute_result"
    }
   ],
   "source": [
    "sumInPow = Forall([a,b,c],\n",
    "                Equals(Exponentiate(a,Add(b,c)),\n",
    "                       Multiply(Exponentiate(a,b),Exponentiate(a,c))),\n",
    "                domain = Complexes)\n",
    "sumInPow"
   ]
  },
  {
   "cell_type": "code",
   "execution_count": 8,
   "metadata": {
    "collapsed": false
   },
   "outputs": [
    {
     "data": {
      "image/png": "[encoded data removed]",
      "text/plain": [
       "forall_{a, b, c in Complexes} ((a * b)^(c) = (a^(c) * b^(c)))"
      ]
     },
     "execution_count": 8,
     "metadata": {},
     "output_type": "execute_result"
    }
   ],
   "source": [
    "powOfProd = Forall([a,b,c],\n",
    "                Equals(Exponentiate(Multiply(a,b),c),\n",
    "                       Multiply(Exponentiate(a,c),Exponentiate(b,c))\n",
    "                       ),\n",
    "                domain = Complexes)\n",
    "powOfProd"
   ]
  },
  {
   "cell_type": "code",
   "execution_count": 9,
   "metadata": {
    "collapsed": false
   },
   "outputs": [
    {
     "data": {
      "image/png": "[encoded data removed]",
      "text/plain": [
       "forall_{a, b, c in Complexes} ((a^(b))^(c) = a^(b * c))"
      ]
     },
     "execution_count": 9,
     "metadata": {},
     "output_type": "execute_result"
    }
   ],
   "source": [
    "powOfPow = Forall([a, b, c], Equals(Exponentiate(Exponentiate(a, b), c), \n",
    "                                    Exponentiate(a, Multiply(b, c))), \n",
    "                  domain = Complexes)\n",
    "powOfPow"
   ]
  },
  {
   "cell_type": "code",
   "execution_count": 10,
   "metadata": {
    "collapsed": false
   },
   "outputs": [
    {
     "data": {
      "image/png": "[encoded data removed]",
      "text/plain": [
       "forall_{a, b in Complexes} ((a - b)^(2) = (b - a)^(2))"
      ]
     },
     "execution_count": 10,
     "metadata": {},
     "output_type": "execute_result"
    }
   ],
   "source": [
    "diffSquareComm = Forall([a,b],\n",
    "                        Equals(\n",
    "                            Exponentiate(Subtract(a,b),two),\n",
    "                            Exponentiate(Subtract(b,a),two)),\n",
    "                        domain = Complexes)\n",
    "diffSquareComm"
   ]
  },
  {
   "cell_type": "code",
   "execution_count": 11,
   "metadata": {
    "collapsed": false
   },
   "outputs": [
    {
     "data": {
      "image/png": "[encoded data removed]",
      "text/plain": [
       "forall_{..v.., ..w.., ..x.., ..y.., ..z..} ((..v.. * ..w.. * ..x.. * ..y.. * ..z..) = (..v.. * ..y.. * ..x.. * ..w.. * ..z..))"
      ]
     },
     "execution_count": 11,
     "metadata": {},
     "output_type": "execute_result"
    }
   ],
   "source": [
    "multComm = Forall([Etcetera(v),Etcetera(w),Etcetera(x),Etcetera(y),Etcetera(z)],\n",
    "                 Equals(\n",
    "                        Multiply(Etcetera(v),Etcetera(w),Etcetera(x),Etcetera(y),Etcetera(z)),\n",
    "                        Multiply(Etcetera(v),Etcetera(y),Etcetera(x),Etcetera(w),Etcetera(z))\n",
    "    )#,\n",
    "#                 domain = Complexes\n",
    "                 )\n",
    "multComm"
   ]
  },
  {
   "cell_type": "code",
   "execution_count": 12,
   "metadata": {
    "collapsed": false
   },
   "outputs": [
    {
     "data": {
      "image/png": "[encoded data removed]",
      "text/plain": [
       "forall_{..w.., ..x.., ..y.., ..z..} ((..w.. * ..x.. * ..y.. * ..z..) = (..w.. * (..x.. * ..y..) * ..z..))"
      ]
     },
     "execution_count": 12,
     "metadata": {},
     "output_type": "execute_result"
    }
   ],
   "source": [
    "multAssoc = Forall([Etcetera(w),Etcetera(x),Etcetera(y),Etcetera(z)],\n",
    "                  Equals(\n",
    "                        Multiply(\n",
    "                                Etcetera(w),Etcetera(x),Etcetera(y),Etcetera(z)),\n",
    "                        Multiply(\n",
    "                                Etcetera(w),Multiply(Etcetera(x),Etcetera(y)),Etcetera(z))\n",
    "                        )#,\n",
    "#                  domain = Complexes\n",
    "                  )\n",
    "multAssoc"
   ]
  },
  {
   "cell_type": "code",
   "execution_count": 13,
   "metadata": {
    "collapsed": false
   },
   "outputs": [
    {
     "data": {
      "image/png": "[encoded data removed]",
      "text/plain": [
       "forall_{x, ..y.., ..z.. in Complexes} ((x * ..y..) / (x * ..z..) = ..y.. / ..z..)"
      ]
     },
     "execution_count": 13,
     "metadata": {},
     "output_type": "execute_result"
    }
   ],
   "source": [
    "fracCancel1 = Forall([x,Etcetera(y),Etcetera(z)],\n",
    "                   Equals(Fraction(Multiply(x,Etcetera(y)),Multiply(x,Etcetera(z))),\n",
    "                         Fraction(Etcetera(y),Etcetera(z))),domain=Complexes)\n",
    "fracCancel1"
   ]
  },
  {
   "cell_type": "code",
   "execution_count": 14,
   "metadata": {
    "collapsed": false
   },
   "outputs": [
    {
     "data": {
      "image/png": "[encoded data removed]",
      "text/plain": [
       "forall_{x, ..y.. in Complexes} ((x * ..y..) / x = ..y..)"
      ]
     },
     "execution_count": 14,
     "metadata": {},
     "output_type": "execute_result"
    }
   ],
   "source": [
    "fracCancel2 = Forall([x,Etcetera(y)],\n",
    "                   Equals(Fraction(Multiply(x,Etcetera(y)),x),\n",
    "                         Etcetera(y)),domain=Complexes)\n",
    "fracCancel2"
   ]
  },
  {
   "cell_type": "code",
   "execution_count": 15,
   "metadata": {
    "collapsed": false
   },
   "outputs": [
    {
     "data": {
      "image/png": "[encoded data removed]",
      "text/plain": [
       "forall_{x, ..y.. in Complexes} (x / (x * ..y..) = 1 / ..y..)"
      ]
     },
     "execution_count": 15,
     "metadata": {},
     "output_type": "execute_result"
    }
   ],
   "source": [
    "fracCancel3 = Forall([x,Etcetera(y)],\n",
    "                   Equals(Fraction(x,Multiply(x,Etcetera(y))),\n",
    "                         Fraction(one,Etcetera(y))),domain=Complexes)\n",
    "fracCancel3"
   ]
  },
  {
   "cell_type": "code",
   "execution_count": 16,
   "metadata": {
    "collapsed": false
   },
   "outputs": [
    {
     "data": {
      "image/png": "[encoded data removed]",
      "text/plain": [
       "forall_{x, y in Complexes} ((x / y * y) = x)"
      ]
     },
     "execution_count": 16,
     "metadata": {},
     "output_type": "execute_result"
    }
   ],
   "source": [
    "fracCancel4 = Forall([x,y],\n",
    "                      Equals(Multiply(Fraction(x,y),y),x),\n",
    "                      domain = Complexes)\n",
    "fracCancel4"
   ]
  },
  {
   "cell_type": "code",
   "execution_count": 17,
   "metadata": {
    "collapsed": false
   },
   "outputs": [
    {
     "data": {
      "image/png": "[encoded data removed]",
      "text/plain": [
       "forall_{x, y in Complexes} ((x^(y) * x) = x^(y + 1))"
      ]
     },
     "execution_count": 17,
     "metadata": {},
     "output_type": "execute_result"
    }
   ],
   "source": [
    "expAdd1 = Forall([x,y],Equals(Multiply(Exponentiate(x,y),x),Exponentiate(x,Add(y,one))),\n",
    "                domain = Complexes)\n",
    "expAdd1"
   ]
  },
  {
   "cell_type": "code",
   "execution_count": 18,
   "metadata": {
    "collapsed": false
   },
   "outputs": [
    {
     "data": {
      "image/png": "[encoded data removed]",
      "text/plain": [
       "forall_{x, y, z in Complexes} ((x^(y) * x * z) = (x^(y + 1) * z))"
      ]
     },
     "execution_count": 18,
     "metadata": {},
     "output_type": "execute_result"
    }
   ],
   "source": [
    "expAdd1a = Forall([x,y,z],\n",
    "                 Equals(\n",
    "        Multiply(Exponentiate(x,y),x,z),\n",
    "        Multiply(Exponentiate(x,Add(y,one)),z)),\n",
    "                domain = Complexes)\n",
    "expAdd1a"
   ]
  },
  {
   "cell_type": "code",
   "execution_count": 19,
   "metadata": {
    "collapsed": false
   },
   "outputs": [
    {
     "data": {
      "image/png": "[encoded data removed]",
      "text/plain": [
       "forall_{x, y, z in Complexes} ((x / y)^(z) = x^(z) / y^(z))"
      ]
     },
     "execution_count": 19,
     "metadata": {},
     "output_type": "execute_result"
    }
   ],
   "source": [
    "fracExp = Forall([x,y,z],\n",
    "                 Equals(Exponentiate(Fraction(x,y),z),\n",
    "                       Fraction(Exponentiate(x,z),Exponentiate(y,z))),\n",
    "                 domain = Complexes)\n",
    "fracExp"
   ]
  },
  {
   "cell_type": "code",
   "execution_count": 20,
   "metadata": {
    "collapsed": false
   },
   "outputs": [
    {
     "data": {
      "image/png": "[encoded data removed]",
      "text/plain": [
       "forall_{x in Complexes} (x^(1) = x)"
      ]
     },
     "execution_count": 20,
     "metadata": {},
     "output_type": "execute_result"
    }
   ],
   "source": [
    "oneExp = Forall([x],\n",
    "               Equals(Exponentiate(x,one),\n",
    "                      x),\n",
    "               domain = Complexes)\n",
    "oneExp"
   ]
  },
  {
   "cell_type": "code",
   "execution_count": 21,
   "metadata": {
    "collapsed": false
   },
   "outputs": [
    {
     "data": {
      "image/png": "[encoded data removed]",
      "text/plain": [
       "forall_{x in Complexes} (1^(x) = 1)"
      ]
     },
     "execution_count": 21,
     "metadata": {},
     "output_type": "execute_result"
    }
   ],
   "source": [
    "expOne = Forall([x],\n",
    "               Equals(Exponentiate(one,x),\n",
    "                     one),\n",
    "               domain = Complexes)\n",
    "expOne"
   ]
  },
  {
   "cell_type": "code",
   "execution_count": 22,
   "metadata": {
    "collapsed": false
   },
   "outputs": [
    {
     "data": {
      "image/png": "[encoded data removed]",
      "text/plain": [
       "forall_{x in Complexes} ((1 * x) = x)"
      ]
     },
     "execution_count": 22,
     "metadata": {},
     "output_type": "execute_result"
    }
   ],
   "source": [
    "multOne = Forall([x],\n",
    "                Equals(Multiply(one,x),x),\n",
    "                domain = Complexes)\n",
    "multOne"
   ]
  },
  {
   "cell_type": "code",
   "execution_count": 23,
   "metadata": {
    "collapsed": false
   },
   "outputs": [
    {
     "data": {
      "image/png": "[encoded data removed]",
      "text/plain": [
       "forall_{x, y, z in Complexes} (((x + y) * z) = ((x * z) + (y * z)))"
      ]
     },
     "execution_count": 23,
     "metadata": {},
     "output_type": "execute_result"
    }
   ],
   "source": [
    "multOverAdd = Forall([x,y,z],\n",
    "                    Equals(Multiply(Add(x,y),z),\n",
    "                    Add(Multiply(x,z),Multiply(y,z))),\n",
    "                    domain = Complexes)\n",
    "multOverAdd"
   ]
  },
  {
   "cell_type": "code",
   "execution_count": 24,
   "metadata": {
    "collapsed": false
   },
   "outputs": [
    {
     "data": {
      "image/png": "[encoded data removed]",
      "text/plain": [
       "forall_{x, y, z in Complexes} (((x - y) * z) = ((x * z) - (y * z)))"
      ]
     },
     "execution_count": 24,
     "metadata": {},
     "output_type": "execute_result"
    }
   ],
   "source": [
    "multOverSubtract = Forall([x,y,z],\n",
    "                    Equals(Multiply(Subtract(x,y),z),\n",
    "                    Subtract(Multiply(x,z),Multiply(y,z))),\n",
    "                    domain = Complexes)\n",
    "multOverSubtract"
   ]
  },
  {
   "cell_type": "code",
   "execution_count": 25,
   "metadata": {
    "collapsed": false
   },
   "outputs": [
    {
     "data": {
      "image/png": "[encoded data removed]",
      "text/plain": [
       "forall_{x, y, z in Complexes} ((x^(y) * z^(y)) = (x * z)^(y))"
      ]
     },
     "execution_count": 25,
     "metadata": {},
     "output_type": "execute_result"
    }
   ],
   "source": [
    "samePowDistribute = Forall([x,y,z],\n",
    "                            Equals(Multiply(Exponentiate(x,y),Exponentiate(z,y)),\n",
    "                                 Exponentiate(Multiply(x,z),y)),\n",
    "                            domain = Complexes)\n",
    "samePowDistribute"
   ]
  },
  {
   "cell_type": "code",
   "execution_count": 26,
   "metadata": {
    "collapsed": false
   },
   "outputs": [
    {
     "name": "stdout",
     "output_type": "stream",
     "text": [
      "Creating theorems *.dill and *.pv_it files in the __pv_it__ directory\n",
      "These theorems may be imported from proveit.number.complex.theorems\n"
     ]
    }
   ],
   "source": [
    "%end_theorems"
   ]
  },
  {
   "cell_type": "code",
   "execution_count": null,
   "metadata": {
    "collapsed": true
   },
   "outputs": [],
   "source": []
  }
 ],
 "metadata": {
  "kernelspec": {
   "display_name": "Python 2",
   "language": "python",
   "name": "python2"
  },
  "language_info": {
   "codemirror_mode": {
    "name": "ipython",
    "version": 2
   },
   "file_extension": ".py",
   "mimetype": "text/x-python",
   "name": "python",
   "nbconvert_exporter": "python",
   "pygments_lexer": "ipython2",
   "version": "2.7.10"
  }
 },
 "nbformat": 4,
 "nbformat_minor": 0
}
