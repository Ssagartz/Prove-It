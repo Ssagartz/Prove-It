{
 "cells": [
  {
   "cell_type": "code",
   "execution_count": 1,
   "metadata": {
    "collapsed": false
   },
   "outputs": [],
   "source": [
    "import proveit.specialStatementMagic # for %begin_axioms and %end_axioms\n",
    "from proveit.basiclogic import And, Or, Iff, NotEquals, In, Singleton, Difference, SetOfAll\n",
    "from proveit.number.common import *\n",
    "from proveit.basiclogic import Forall, Exists, Equals\n",
    "from proveit.number import LessThan, LessThanEquals, GreaterThan, GreaterThanEquals, Fraction, \\\n",
    "    Add, Subtract, Multiply, Divide, Fraction, Abs, Exponentiate, Sqrt, Neg, Summation, \\\n",
    "    DiscreteContiguousSet\n",
    "from proveit.multiExpression import Etcetera"
   ]
  },
  {
   "cell_type": "code",
   "execution_count": 2,
   "metadata": {
    "collapsed": true
   },
   "outputs": [],
   "source": [
    "#from IPython.display import Latex\n",
    "from IPython.display import display"
   ]
  },
  {
   "cell_type": "code",
   "execution_count": 3,
   "metadata": {
    "collapsed": false
   },
   "outputs": [],
   "source": [
    "%begin_theorems"
   ]
  },
  {
   "cell_type": "code",
   "execution_count": 4,
   "metadata": {
    "collapsed": false
   },
   "outputs": [
    {
     "data": {
      "text/plain": [
       "$i \\in \\mathbb{C}$"
      ]
     },
     "execution_count": 4,
     "metadata": {},
     "output_type": "execute_result"
    }
   ],
   "source": [
    "iInComplexes = In(i, Complexes)\n",
    "iInComplexes"
   ]
  },
  {
   "cell_type": "code",
   "execution_count": 5,
   "metadata": {
    "collapsed": false
   },
   "outputs": [
    {
     "data": {
      "text/plain": [
       "$i \\neq 0$"
      ]
     },
     "execution_count": 5,
     "metadata": {},
     "output_type": "execute_result"
    }
   ],
   "source": [
    "iNotZero = NotEquals(i, zero)\n",
    "iNotZero"
   ]
  },
  {
   "cell_type": "code",
   "execution_count": 6,
   "metadata": {
    "collapsed": false
   },
   "outputs": [
    {
     "data": {
      "text/plain": [
       "$\\forall_{~.., x_{\\Box} ,..~ \\in \\mathbb{C}} \\left(\\left(~..+ x_{\\Box} +..~\\right) \\in \\mathbb{C}\\right)$"
      ]
     },
     "execution_count": 6,
     "metadata": {},
     "output_type": "execute_result"
    }
   ],
   "source": [
    "addClosure = Forall([xEtc], In(Add(xEtc),Complexes), domain = Complexes)\n",
    "addClosure"
   ]
  },
  {
   "cell_type": "code",
   "execution_count": 7,
   "metadata": {
    "collapsed": false
   },
   "outputs": [
    {
     "data": {
      "text/plain": [
       "$\\forall_{ a , b  \\in \\mathbb{C}} \\left(\\left(a - b\\right) \\in \\mathbb{C}\\right)$"
      ]
     },
     "execution_count": 7,
     "metadata": {},
     "output_type": "execute_result"
    }
   ],
   "source": [
    "subtractClosure = Forall([a, b], In(Subtract(a, b), Complexes), domain=Complexes)\n",
    "subtractClosure"
   ]
  },
  {
   "cell_type": "code",
   "execution_count": 8,
   "metadata": {
    "collapsed": false
   },
   "outputs": [
    {
     "data": {
      "text/plain": [
       "$\\forall_{ a  \\in \\mathbb{C}} \\left(\\left(-a\\right) \\in \\mathbb{C}\\right)$"
      ]
     },
     "execution_count": 8,
     "metadata": {},
     "output_type": "execute_result"
    }
   ],
   "source": [
    "negClosure = Forall(a, In(Neg(a), Complexes), domain=Complexes)\n",
    "negClosure"
   ]
  },
  {
   "cell_type": "code",
   "execution_count": 9,
   "metadata": {
    "collapsed": false
   },
   "outputs": [
    {
     "data": {
      "text/plain": [
       "$\\forall_{~.., x_{\\Box} ,..~ \\in \\mathbb{C}} \\left(\\left(~..\\cdot x_{\\Box} \\cdot..~\\right) \\in \\mathbb{C}\\right)$"
      ]
     },
     "execution_count": 9,
     "metadata": {},
     "output_type": "execute_result"
    }
   ],
   "source": [
    "multClosure = Forall([xEtc], In(Multiply(xEtc),Complexes), domain = Complexes)\n",
    "multClosure"
   ]
  },
  {
   "cell_type": "code",
   "execution_count": 10,
   "metadata": {
    "collapsed": false
   },
   "outputs": [
    {
     "data": {
      "text/plain": [
       "$\\forall_{ a , b  \\in \\mathbb{C}~|~ \\left(b \\neq 0\\right) } \\left(\\left(a \\div b\\right) \\in \\mathbb{C}\\right)$"
      ]
     },
     "execution_count": 10,
     "metadata": {},
     "output_type": "execute_result"
    }
   ],
   "source": [
    "divideClosure = Forall([a, b], In(Divide(a, b), Complexes), domain=Complexes, conditions=[NotEquals(b, zero)])\n",
    "divideClosure       "
   ]
  },
  {
   "cell_type": "code",
   "execution_count": 11,
   "metadata": {
    "collapsed": false
   },
   "outputs": [
    {
     "data": {
      "text/plain": [
       "$\\forall_{ a , b  \\in \\mathbb{C}~|~ \\left(b \\neq 0\\right) } \\left(\\frac{a}{b} \\in \\mathbb{C}\\right)$"
      ]
     },
     "execution_count": 11,
     "metadata": {},
     "output_type": "execute_result"
    }
   ],
   "source": [
    "fractionClosure = Forall([a, b], In(Fraction(a, b), Complexes), domain=Complexes, conditions=[NotEquals(b, zero)])\n",
    "fractionClosure          "
   ]
  },
  {
   "cell_type": "code",
   "execution_count": 12,
   "metadata": {
    "collapsed": false
   },
   "outputs": [
    {
     "data": {
      "text/plain": [
       "$\\forall_{ a , b  \\in \\mathbb{C}~|~ \\left(a \\neq 0\\right) } \\left(\\left(a^{b}\\right) \\in \\mathbb{C}\\right)$"
      ]
     },
     "execution_count": 12,
     "metadata": {},
     "output_type": "execute_result"
    }
   ],
   "source": [
    "powClosure = Forall([a, b], In(Exponentiate(a, b), Complexes), domain=Complexes, \n",
    "                    conditions=[NotEquals(a, zero)])\n",
    "powClosure"
   ]
  },
  {
   "cell_type": "code",
   "execution_count": 13,
   "metadata": {
    "collapsed": false
   },
   "outputs": [
    {
     "data": {
      "text/plain": [
       "$\\forall_{ a  \\in \\mathbb{C}} \\left(\\sqrt{a} \\in \\mathbb{C}\\right)$"
      ]
     },
     "execution_count": 13,
     "metadata": {},
     "output_type": "execute_result"
    }
   ],
   "source": [
    "sqrtClosure = Forall([a], In(Sqrt(a), Complexes), domain=Complexes)\n",
    "sqrtClosure"
   ]
  },
  {
   "cell_type": "code",
   "execution_count": 14,
   "metadata": {
    "collapsed": false
   },
   "outputs": [
    {
     "data": {
      "text/plain": [
       "$\\forall_{ a  \\in \\mathbb{C}} \\left(\\left|a\\right| \\in \\mathbb{R}\\right)$"
      ]
     },
     "execution_count": 14,
     "metadata": {},
     "output_type": "execute_result"
    }
   ],
   "source": [
    "absClosure = Forall([a], In(Abs(a), Reals), domain=Complexes)\n",
    "absClosure"
   ]
  },
  {
   "cell_type": "code",
   "execution_count": 15,
   "metadata": {
    "collapsed": false
   },
   "outputs": [
    {
     "data": {
      "text/plain": [
       "$\\forall_{ a  \\in \\mathbb{C}} \\left(\\left|a\\right| \\geq 0\\right)$"
      ]
     },
     "execution_count": 15,
     "metadata": {},
     "output_type": "execute_result"
    }
   ],
   "source": [
    "absIsNonNeg = Forall(a, GreaterThanEquals(Abs(a), zero), domain=Complexes)\n",
    "absIsNonNeg"
   ]
  },
  {
   "cell_type": "code",
   "execution_count": 16,
   "metadata": {
    "collapsed": false
   },
   "outputs": [
    {
     "data": {
      "text/plain": [
       "$\\forall_{ a  \\in \\mathbb{C}~|~ \\left(a \\neq 0\\right) } \\left(\\left|a\\right| \\in \\mathbb{R}^+\\right)$"
      ]
     },
     "execution_count": 16,
     "metadata": {},
     "output_type": "execute_result"
    }
   ],
   "source": [
    "absPosClosure = Forall([a], In(Abs(a), RealsPos), domain=Complexes, conditions=[NotEquals(a, zero)])\n",
    "absPosClosure"
   ]
  },
  {
   "cell_type": "code",
   "execution_count": 17,
   "metadata": {
    "collapsed": false
   },
   "outputs": [
    {
     "data": {
      "text/plain": [
       "$\\forall_{ P , S } \\left(\\left[\\forall_{~.., x_{\\Box} ,..~ \\in S} \\left(P\\left(~.., x_{\\Box} ,..~\\right) \\in \\mathbb{C}\\right)\\right] \\Rightarrow \\left(\\left[\\sum_{~.., x_{\\Box} ,..~ \\in S} P\\left(~.., x_{\\Box} ,..~\\right)\\right] \\in \\mathbb{C}\\right)\\right)$"
      ]
     },
     "execution_count": 17,
     "metadata": {},
     "output_type": "execute_result"
    }
   ],
   "source": [
    "summationClosure = Forall([P, S], Implies(Forall(xEtc, In(PxEtc, Complexes), domain=S), \n",
    "                                          In(Summation(xEtc, PxEtc, domain=S), Complexes)))\n",
    "summationClosure"
   ]
  },
  {
   "cell_type": "code",
   "execution_count": 18,
   "metadata": {
    "collapsed": false
   },
   "outputs": [
    {
     "data": {
      "text/plain": [
       "$\\forall_{ a  \\in \\mathbb{C}~|~ \\left(a \\neq 0\\right) } \\left(a \\in \\left(\\mathbb{C} - \\{0\\}\\right)\\right)$"
      ]
     },
     "execution_count": 18,
     "metadata": {},
     "output_type": "execute_result"
    }
   ],
   "source": [
    "inComplexesSansZero = Forall(a, In(a, ComplexesSansZero), \n",
    "                             domain=Complexes, conditions=[NotEquals(a, zero)])\n",
    "inComplexesSansZero"
   ]
  },
  {
   "cell_type": "code",
   "execution_count": 19,
   "metadata": {
    "collapsed": false
   },
   "outputs": [
    {
     "data": {
      "text/plain": [
       "$\\forall_{ a  \\in \\mathbb{C}~|~ \\left(a \\neq 0\\right) } \\left(\\left(-a\\right) \\neq 0\\right)$"
      ]
     },
     "execution_count": 19,
     "metadata": {},
     "output_type": "execute_result"
    }
   ],
   "source": [
    "negNotEqZero = Forall(a, NotEquals(Neg(a), zero), domain=Complexes, conditions=[NotEquals(a, zero)])\n",
    "negNotEqZero"
   ]
  },
  {
   "cell_type": "code",
   "execution_count": 20,
   "metadata": {
    "collapsed": false
   },
   "outputs": [
    {
     "data": {
      "text/plain": [
       "$\\forall_{ a , b  \\in \\mathbb{C}~|~ \\left(a \\neq b\\right) } \\left(\\left(a - b\\right) \\neq 0\\right)$"
      ]
     },
     "execution_count": 20,
     "metadata": {},
     "output_type": "execute_result"
    }
   ],
   "source": [
    "diffNotEqZero = Forall((a, b), NotEquals(Subtract(a, b), zero), domain=Complexes, conditions=[NotEquals(a, b)])\n",
    "diffNotEqZero"
   ]
  },
  {
   "cell_type": "code",
   "execution_count": 21,
   "metadata": {
    "collapsed": false
   },
   "outputs": [
    {
     "data": {
      "text/plain": [
       "$\\forall_{~.., x_{\\Box} ,..~ \\in \\left(\\mathbb{C} - \\{0\\}\\right)} \\left(\\left(~..\\cdot x_{\\Box} \\cdot..~\\right) \\neq 0\\right)$"
      ]
     },
     "execution_count": 21,
     "metadata": {},
     "output_type": "execute_result"
    }
   ],
   "source": [
    "multNotEqZero = Forall([xEtc], NotEquals(Multiply(xEtc), zero), domain=ComplexesSansZero)\n",
    "multNotEqZero"
   ]
  },
  {
   "cell_type": "code",
   "execution_count": 22,
   "metadata": {
    "collapsed": false
   },
   "outputs": [
    {
     "data": {
      "text/plain": [
       "$\\forall_{ a , b  \\in \\left(\\mathbb{C} - \\{0\\}\\right)} \\left(\\left(a \\div b\\right) \\neq 0\\right)$"
      ]
     },
     "execution_count": 22,
     "metadata": {},
     "output_type": "execute_result"
    }
   ],
   "source": [
    "divideNotEqZero = Forall([a, b], NotEquals(Divide(a,b), zero), domain=ComplexesSansZero)\n",
    "divideNotEqZero"
   ]
  },
  {
   "cell_type": "code",
   "execution_count": 23,
   "metadata": {
    "collapsed": false
   },
   "outputs": [
    {
     "data": {
      "text/plain": [
       "$\\forall_{ a , b  \\in \\left(\\mathbb{C} - \\{0\\}\\right)} \\left(\\frac{a}{b} \\neq 0\\right)$"
      ]
     },
     "execution_count": 23,
     "metadata": {},
     "output_type": "execute_result"
    }
   ],
   "source": [
    "fractionNotEqZero = Forall([a, b], NotEquals(Fraction(a,b), zero), domain=ComplexesSansZero)\n",
    "fractionNotEqZero"
   ]
  },
  {
   "cell_type": "code",
   "execution_count": 24,
   "metadata": {
    "collapsed": false
   },
   "outputs": [
    {
     "data": {
      "text/plain": [
       "$\\forall_{ a , b  \\in \\mathbb{C}~|~ \\left(a \\neq 0\\right) } \\left(\\left(a^{b}\\right) \\neq 0\\right)$"
      ]
     },
     "execution_count": 24,
     "metadata": {},
     "output_type": "execute_result"
    }
   ],
   "source": [
    "powNotEqZero = Forall([a, b], NotEquals(Exponentiate(a,b), zero), domain=Complexes, conditions=[NotEquals(a, zero)])\n",
    "powNotEqZero"
   ]
  },
  {
   "cell_type": "code",
   "execution_count": 25,
   "metadata": {
    "collapsed": false
   },
   "outputs": [
    {
     "data": {
      "text/plain": [
       "$\\forall_{ a  \\in \\mathbb{C}~|~ \\left(a \\neq 0\\right) } \\left(\\left|a\\right| \\neq 0\\right)$"
      ]
     },
     "execution_count": 25,
     "metadata": {},
     "output_type": "execute_result"
    }
   ],
   "source": [
    "absNotEqZero = Forall([a], NotEquals(Abs(a), zero), domain=Complexes, conditions=[NotEquals(a, zero)])\n",
    "absNotEqZero"
   ]
  },
  {
   "cell_type": "code",
   "execution_count": 26,
   "metadata": {
    "collapsed": false
   },
   "outputs": [
    {
     "data": {
      "text/plain": [
       "$\\forall_{ a  \\in \\mathbb{C}~|~ \\left(a \\neq 0\\right) } \\left(\\left(a^{0}\\right) = 1\\right)$"
      ]
     },
     "execution_count": 26,
     "metadata": {},
     "output_type": "execute_result"
    }
   ],
   "source": [
    "powZeroEqOne = Forall([a], Equals(Exponentiate(a, zero), one), domain=Complexes, conditions=[NotEquals(a, zero)])\n",
    "powZeroEqOne"
   ]
  },
  {
   "cell_type": "code",
   "execution_count": 27,
   "metadata": {
    "collapsed": false
   },
   "outputs": [
    {
     "data": {
      "text/plain": [
       "$\\forall_{ x  \\in \\mathbb{C}~|~ \\left(x \\neq 0\\right) } \\left(\\left(0^{x}\\right) = 0\\right)$"
      ]
     },
     "execution_count": 27,
     "metadata": {},
     "output_type": "execute_result"
    }
   ],
   "source": [
    "exponentiatedZero = Forall([x], Equals(Exponentiate(zero, x), zero), domain=Complexes, conditions=[NotEquals(x, zero)])\n",
    "exponentiatedZero"
   ]
  },
  {
   "cell_type": "code",
   "execution_count": 28,
   "metadata": {
    "collapsed": false
   },
   "outputs": [
    {
     "data": {
      "text/plain": [
       "$\\forall_{ x  \\in \\mathbb{C}} \\left(\\left(1^{x}\\right) = 1\\right)$"
      ]
     },
     "execution_count": 28,
     "metadata": {},
     "output_type": "execute_result"
    }
   ],
   "source": [
    "exponentiatedOne = Forall([x], Equals(Exponentiate(one, x), one), domain=Complexes)\n",
    "exponentiatedOne"
   ]
  },
  {
   "cell_type": "code",
   "execution_count": 29,
   "metadata": {
    "collapsed": false
   },
   "outputs": [
    {
     "data": {
      "text/plain": [
       "$\\forall_{ x  \\in \\mathbb{C}} \\left(\\left( 1 \\cdot x \\right) = x\\right)$"
      ]
     },
     "execution_count": 29,
     "metadata": {},
     "output_type": "execute_result"
    }
   ],
   "source": [
    "multOne = Forall(x, Equals(Multiply(one, x), x), domain=Complexes)\n",
    "multOne"
   ]
  },
  {
   "cell_type": "code",
   "execution_count": 30,
   "metadata": {
    "collapsed": false
   },
   "outputs": [
    {
     "data": {
      "text/plain": [
       "$\\forall_{ x  \\in \\mathbb{C}} \\left(\\left( 0 \\cdot x \\right) = 0\\right)$"
      ]
     },
     "execution_count": 30,
     "metadata": {},
     "output_type": "execute_result"
    }
   ],
   "source": [
    "multZero = Forall(x, Equals(Multiply(zero, x), zero), domain=Complexes)\n",
    "multZero"
   ]
  },
  {
   "cell_type": "code",
   "execution_count": 31,
   "metadata": {
    "collapsed": false
   },
   "outputs": [
    {
     "data": {
      "text/plain": [
       "$\\forall_{ x  \\in \\mathbb{C}} \\left(\\frac{0}{x} = 0\\right)$"
      ]
     },
     "execution_count": 31,
     "metadata": {},
     "output_type": "execute_result"
    }
   ],
   "source": [
    "fracZeroNumer = Forall(x, Equals(Fraction(zero, x), zero), domain=Complexes)\n",
    "fracZeroNumer"
   ]
  },
  {
   "cell_type": "code",
   "execution_count": 32,
   "metadata": {
    "collapsed": false
   },
   "outputs": [
    {
     "data": {
      "text/plain": [
       "$\\forall_{ x  \\in \\mathbb{C}} \\left(\\frac{x}{1} = x\\right)$"
      ]
     },
     "execution_count": 32,
     "metadata": {},
     "output_type": "execute_result"
    }
   ],
   "source": [
    "fracOneDenom = Forall(x, Equals(Fraction(x, one), x), domain=Complexes)\n",
    "fracOneDenom"
   ]
  },
  {
   "cell_type": "code",
   "execution_count": 33,
   "metadata": {
    "collapsed": false
   },
   "outputs": [
    {
     "data": {
      "text/plain": [
       "$\\forall_{ x  \\in \\mathbb{C}} \\left(\\left( 0 + x \\right) = x\\right)$"
      ]
     },
     "execution_count": 33,
     "metadata": {},
     "output_type": "execute_result"
    }
   ],
   "source": [
    "addZero = Forall(x, Equals(Add(zero, x), x), domain=Complexes)\n",
    "addZero"
   ]
  },
  {
   "cell_type": "code",
   "execution_count": 34,
   "metadata": {
    "collapsed": false
   },
   "outputs": [
    {
     "data": {
      "text/plain": [
       "$\\forall_{ a , b  \\in \\mathbb{C}} \\left(\\left|\\left( a + b \\right)\\right| \\leq \\left( \\left|a\\right| + \\left|b\\right| \\right)\\right)$"
      ]
     },
     "execution_count": 34,
     "metadata": {},
     "output_type": "execute_result"
    }
   ],
   "source": [
    "triangleInequality = Forall([a,b],\n",
    "                        LessThanEquals(Abs(Add(a,b)),Add(Abs(a),Abs(b))),\n",
    "                        domain=Complexes)\n",
    "triangleInequality"
   ]
  },
  {
   "cell_type": "code",
   "execution_count": 35,
   "metadata": {
    "collapsed": false
   },
   "outputs": [
    {
     "data": {
      "text/plain": [
       "$\\forall_{~.., x_{\\Box} ,..~ \\in \\mathbb{C}} \\left(\\left|\\left(~..\\cdot x_{\\Box} \\cdot..~\\right)\\right| = \\left(~..\\cdot \\left|x_{\\Box}\\right| \\cdot..~\\right)\\right)$"
      ]
     },
     "execution_count": 35,
     "metadata": {},
     "output_type": "execute_result"
    }
   ],
   "source": [
    "absProd = Forall(xEtc,\n",
    "                 Equals(Abs(Multiply(xEtc)),\n",
    "                        Multiply(Etcetera(Abs(MultiVariable(x))))),\n",
    "                 domain = Complexes)\n",
    "absProd"
   ]
  },
  {
   "cell_type": "code",
   "execution_count": 36,
   "metadata": {
    "collapsed": false
   },
   "outputs": [
    {
     "data": {
      "text/plain": [
       "$\\forall_{ a , b  \\in \\mathbb{C}} \\left(\\left|\\frac{a}{b}\\right| = \\frac{\\left|a\\right|}{\\left|b\\right|}\\right)$"
      ]
     },
     "execution_count": 36,
     "metadata": {},
     "output_type": "execute_result"
    }
   ],
   "source": [
    "absFrac = Forall([a,b],\n",
    "                 Equals(Abs(Fraction(a,b)),Fraction(Abs(a),Abs(b))),\n",
    "                 domain = Complexes)\n",
    "absFrac"
   ]
  },
  {
   "cell_type": "code",
   "execution_count": 37,
   "metadata": {
    "collapsed": false
   },
   "outputs": [
    {
     "data": {
      "text/plain": [
       "$\\forall_{ a , b , c  \\in \\mathbb{C}~|~ \\left(a \\neq 0\\right) } \\left(\\left(a^{ b + c }\\right) = \\left( \\left(a^{b}\\right) \\cdot \\left(a^{c}\\right) \\right)\\right)$"
      ]
     },
     "execution_count": 37,
     "metadata": {},
     "output_type": "execute_result"
    }
   ],
   "source": [
    "sumInPow = Forall([a,b,c],\n",
    "                Equals(Exponentiate(a,Add(b,c)),\n",
    "                       Multiply(Exponentiate(a,b),Exponentiate(a,c))),\n",
    "                domain = Complexes, conditions=[NotEquals(a, zero)])\n",
    "sumInPow"
   ]
  },
  {
   "cell_type": "code",
   "execution_count": 38,
   "metadata": {
    "collapsed": false
   },
   "outputs": [
    {
     "data": {
      "text/plain": [
       "$\\forall_{ a , b , c  \\in \\mathbb{C}~|~ \\left(a \\neq 0\\right) } \\left(\\left( \\left(a^{b}\\right) \\cdot \\left(a^{c}\\right) \\right) = \\left(a^{ b + c }\\right)\\right)$"
      ]
     },
     "execution_count": 38,
     "metadata": {},
     "output_type": "execute_result"
    }
   ],
   "source": [
    "sumInPowRev = Forall([a,b,c],\n",
    "                Equals(Multiply(Exponentiate(a,b),Exponentiate(a,c)),\n",
    "                       Exponentiate(a,Add(b,c))),\n",
    "                domain = Complexes, conditions=[NotEquals(a, zero)])\n",
    "sumInPowRev"
   ]
  },
  {
   "cell_type": "code",
   "execution_count": 39,
   "metadata": {
    "collapsed": false
   },
   "outputs": [
    {
     "data": {
      "text/plain": [
       "$\\forall_{ a , b  \\in \\mathbb{C}~|~ \\left(a \\neq 0\\right) } \\left(\\left(a^{ b + 1 }\\right) = \\left( \\left(a^{b}\\right) \\cdot a \\right)\\right)$"
      ]
     },
     "execution_count": 39,
     "metadata": {},
     "output_type": "execute_result"
    }
   ],
   "source": [
    "addOneRightInPow = Forall([a,b],\n",
    "                Equals(Exponentiate(a,Add(b,one)),\n",
    "                       Multiply(Exponentiate(a,b),a)),\n",
    "                domain = Complexes, conditions=[NotEquals(a, zero)])\n",
    "addOneRightInPow"
   ]
  },
  {
   "cell_type": "code",
   "execution_count": 40,
   "metadata": {
    "collapsed": false
   },
   "outputs": [
    {
     "data": {
      "text/plain": [
       "$\\forall_{ a , b  \\in \\mathbb{C}~|~ \\left(a \\neq 0\\right) } \\left(\\left( \\left(a^{b}\\right) \\cdot a \\right) = \\left(a^{ b + 1 }\\right)\\right)$"
      ]
     },
     "execution_count": 40,
     "metadata": {},
     "output_type": "execute_result"
    }
   ],
   "source": [
    "addOneRightInPowRev = Forall([a,b],\n",
    "                Equals(Multiply(Exponentiate(a,b),a),\n",
    "                       Exponentiate(a,Add(b,one))),\n",
    "                domain = Complexes, conditions=[NotEquals(a, zero)])\n",
    "addOneRightInPowRev"
   ]
  },
  {
   "cell_type": "code",
   "execution_count": 41,
   "metadata": {
    "collapsed": false
   },
   "outputs": [
    {
     "data": {
      "text/plain": [
       "$\\forall_{ a , b  \\in \\mathbb{C}~|~ \\left(a \\neq 0\\right) } \\left(\\left(a^{ 1 + b }\\right) = \\left( a \\cdot \\left(a^{b}\\right) \\right)\\right)$"
      ]
     },
     "execution_count": 41,
     "metadata": {},
     "output_type": "execute_result"
    }
   ],
   "source": [
    "addOneLeftInPow = Forall([a,b],\n",
    "                Equals(Exponentiate(a,Add(one, b)),\n",
    "                       Multiply(a, Exponentiate(a,b))),\n",
    "                domain = Complexes, conditions=[NotEquals(a, zero)])\n",
    "addOneLeftInPow"
   ]
  },
  {
   "cell_type": "code",
   "execution_count": 42,
   "metadata": {
    "collapsed": false
   },
   "outputs": [
    {
     "data": {
      "text/plain": [
       "$\\forall_{ a , b  \\in \\mathbb{C}~|~ \\left(a \\neq 0\\right) } \\left(\\left( a \\cdot \\left(a^{b}\\right) \\right) = \\left(a^{ 1 + b }\\right)\\right)$"
      ]
     },
     "execution_count": 42,
     "metadata": {},
     "output_type": "execute_result"
    }
   ],
   "source": [
    "addOneLeftInPowRev = Forall([a,b],\n",
    "                Equals(Multiply(a, Exponentiate(a,b)),\n",
    "                       Exponentiate(a,Add(one, b))),\n",
    "                domain = Complexes, conditions=[NotEquals(a, zero)])\n",
    "addOneLeftInPowRev"
   ]
  },
  {
   "cell_type": "code",
   "execution_count": 43,
   "metadata": {
    "collapsed": false
   },
   "outputs": [
    {
     "data": {
      "text/plain": [
       "$\\forall_{ a , b , c  \\in \\mathbb{C}~|~ \\left(a \\neq 0\\right) } \\left(\\left(a^{b - c}\\right) = \\left( \\left(a^{b}\\right) \\cdot \\left(a^{-c}\\right) \\right)\\right)$"
      ]
     },
     "execution_count": 43,
     "metadata": {},
     "output_type": "execute_result"
    }
   ],
   "source": [
    "diffInPow = Forall([a,b,c],\n",
    "                Equals(Exponentiate(a,Subtract(b,c)),\n",
    "                       Multiply(Exponentiate(a,b),Exponentiate(a,Neg(c)))),\n",
    "                domain = Complexes, conditions=[NotEquals(a, zero)])\n",
    "diffInPow"
   ]
  },
  {
   "cell_type": "code",
   "execution_count": 44,
   "metadata": {
    "collapsed": false
   },
   "outputs": [
    {
     "data": {
      "text/plain": [
       "$\\forall_{ a , b , c  \\in \\mathbb{C}~|~ \\left(a \\neq 0\\right) } \\left(\\left( \\left(a^{b}\\right) \\cdot \\left(a^{-c}\\right) \\right) = \\left(a^{b - c}\\right)\\right)$"
      ]
     },
     "execution_count": 44,
     "metadata": {},
     "output_type": "execute_result"
    }
   ],
   "source": [
    "diffInPowRev = Forall([a,b,c],\n",
    "                Equals(Multiply(Exponentiate(a,b),Exponentiate(a,Neg(c))),\n",
    "                       Exponentiate(a,Subtract(b,c))),\n",
    "                domain = Complexes, conditions=[NotEquals(a, zero)])\n",
    "diffInPowRev"
   ]
  },
  {
   "cell_type": "code",
   "execution_count": 45,
   "metadata": {
    "collapsed": false
   },
   "outputs": [
    {
     "data": {
      "text/plain": [
       "$\\forall_{ a , b , c , d  \\in \\mathbb{C}~|~ \\left(a \\neq 0\\right) , \\left(d \\neq 0\\right) } \\left(\\left(a^{b - \\frac{c}{d}}\\right) = \\left( \\left(a^{b}\\right) \\cdot \\left(a^{\\frac{-c}{d}}\\right) \\right)\\right)$"
      ]
     },
     "execution_count": 45,
     "metadata": {},
     "output_type": "execute_result"
    }
   ],
   "source": [
    "diffFracInPow = Forall([a,b,c,d],\n",
    "                Equals(Exponentiate(a,Subtract(b,Fraction(c, d))),\n",
    "                       Multiply(Exponentiate(a,b),Exponentiate(a,Fraction(Neg(c), d)))),\n",
    "                domain = Complexes, conditions=[NotEquals(a, zero), NotEquals(d, zero)])\n",
    "diffFracInPow"
   ]
  },
  {
   "cell_type": "code",
   "execution_count": 46,
   "metadata": {
    "collapsed": false
   },
   "outputs": [
    {
     "data": {
      "text/plain": [
       "$\\forall_{ a , b , c , d  \\in \\mathbb{C}~|~ \\left(a \\neq 0\\right) , \\left(d \\neq 0\\right) } \\left(\\left( \\left(a^{b}\\right) \\cdot \\left(a^{\\frac{-c}{d}}\\right) \\right) = \\left(a^{b - \\frac{c}{d}}\\right)\\right)$"
      ]
     },
     "execution_count": 46,
     "metadata": {},
     "output_type": "execute_result"
    }
   ],
   "source": [
    "diffFracInPowRev = Forall([a,b,c,d],\n",
    "                Equals(Multiply(Exponentiate(a,b),Exponentiate(a,Fraction(Neg(c), d))),\n",
    "                       Exponentiate(a,Subtract(b,Fraction(c, d)))),\n",
    "                domain = Complexes, conditions=[NotEquals(a, zero), NotEquals(d, zero)])\n",
    "diffFracInPowRev"
   ]
  },
  {
   "cell_type": "code",
   "execution_count": 47,
   "metadata": {
    "collapsed": false
   },
   "outputs": [
    {
     "data": {
      "text/plain": [
       "$\\forall_{ c  \\in \\mathbb{C}} \\left[\\forall_{ a , b  \\in \\mathbb{R}^+} \\left(\\left(\\left( a \\cdot b \\right)^{c}\\right) = \\left( \\left(a^{c}\\right) \\cdot \\left(b^{c}\\right) \\right)\\right)\\right]$"
      ]
     },
     "execution_count": 47,
     "metadata": {},
     "output_type": "execute_result"
    }
   ],
   "source": [
    "# works because log[a^c b^c] = c log a + c log b\n",
    "powOfPositivesProd = Forall(c, Forall((a, b),\n",
    "                             Equals(Exponentiate(Multiply(a,b),c),\n",
    "                                    Multiply(Exponentiate(a,c),Exponentiate(b,c))),\n",
    "                             domain=RealsPos),\n",
    "                domain=Complexes)\n",
    "powOfPositivesProd"
   ]
  },
  {
   "cell_type": "code",
   "execution_count": 48,
   "metadata": {
    "collapsed": false
   },
   "outputs": [
    {
     "data": {
      "text/plain": [
       "$\\forall_{ c  \\in \\mathbb{C}} \\left[\\forall_{ a , b  \\in \\mathbb{R}^+} \\left(\\left( \\left(a^{c}\\right) \\cdot \\left(b^{c}\\right) \\right) = \\left(\\left( a \\cdot b \\right)^{c}\\right)\\right)\\right]$"
      ]
     },
     "execution_count": 48,
     "metadata": {},
     "output_type": "execute_result"
    }
   ],
   "source": [
    "powOfPositivesProdRev = Forall(c, Forall((a, b),\n",
    "                             Equals(Multiply(Exponentiate(a,c),Exponentiate(b,c)),\n",
    "                                   Exponentiate(Multiply(a,b),c)),\n",
    "                             domain=RealsPos),\n",
    "                domain=Complexes)\n",
    "powOfPositivesProdRev"
   ]
  },
  {
   "cell_type": "code",
   "execution_count": 49,
   "metadata": {
    "collapsed": false
   },
   "outputs": [
    {
     "data": {
      "text/plain": [
       "$\\forall_{ n  \\in \\mathbb{Z}} \\left[\\forall_{ a , b  \\in \\mathbb{C}~|~ \\left(a \\neq 0\\right) , \\left(b \\neq 0\\right) } \\left(\\left(\\left( a \\cdot b \\right)^{n}\\right) = \\left( \\left(a^{n}\\right) \\cdot \\left(b^{n}\\right) \\right)\\right)\\right]$"
      ]
     },
     "execution_count": 49,
     "metadata": {},
     "output_type": "execute_result"
    }
   ],
   "source": [
    "# Works for integers powers by the commutivity of complex numbers (or their inverses when n < 0).\n",
    "# Does not work for fractional powers.  Consider sqrt(-1)*sqrt(-1) = -1 not sqrt((-1)*(-1)) = 1.\n",
    "intPowOfProd = Forall(n, Forall((a, b),\n",
    "                                Equals(Exponentiate(Multiply(a,b),n),\n",
    "                                       Multiply(Exponentiate(a,n),Exponentiate(b,n))),\n",
    "                                domain=Complexes, conditions=[NotEquals(a, zero), NotEquals(b, zero)]),\n",
    "                      domain=Integers)\n",
    "intPowOfProd"
   ]
  },
  {
   "cell_type": "code",
   "execution_count": 50,
   "metadata": {
    "collapsed": false
   },
   "outputs": [
    {
     "data": {
      "text/plain": [
       "$\\forall_{ n  \\in \\mathbb{Z}} \\left[\\forall_{ a , b  \\in \\mathbb{C}~|~ \\left(a \\neq 0\\right) , \\left(b \\neq 0\\right) } \\left(\\left( \\left(a^{n}\\right) \\cdot \\left(b^{n}\\right) \\right) = \\left(\\left( a \\cdot b \\right)^{n}\\right)\\right)\\right]$"
      ]
     },
     "execution_count": 50,
     "metadata": {},
     "output_type": "execute_result"
    }
   ],
   "source": [
    "intPowOfProdRev = Forall(n, Forall((a, b),\n",
    "                                   Equals(Multiply(Exponentiate(a,n),Exponentiate(b,n)),\n",
    "                                          Exponentiate(Multiply(a,b),n)),\n",
    "                                   domain=Complexes, conditions=[NotEquals(a, zero), NotEquals(b, zero)]),\n",
    "                         domain=Integers)\n",
    "intPowOfProdRev"
   ]
  },
  {
   "cell_type": "code",
   "execution_count": 51,
   "metadata": {
    "collapsed": false
   },
   "outputs": [
    {
     "data": {
      "text/plain": [
       "$\\forall_{ n  \\in \\mathbb{N}^+} \\left[\\forall_{ a , b  \\in \\mathbb{C}} \\left(\\left(\\left( a \\cdot b \\right)^{n}\\right) = \\left( \\left(a^{n}\\right) \\cdot \\left(b^{n}\\right) \\right)\\right)\\right]$"
      ]
     },
     "execution_count": 51,
     "metadata": {},
     "output_type": "execute_result"
    }
   ],
   "source": [
    "natsPosPowOfProd = Forall(n, Forall((a, b),\n",
    "                                    Equals(Exponentiate(Multiply(a,b),n),\n",
    "                                           Multiply(Exponentiate(a,n),Exponentiate(b,n))),\n",
    "                                    domain=Complexes),\n",
    "                          domain=NaturalsPos)\n",
    "natsPosPowOfProd"
   ]
  },
  {
   "cell_type": "code",
   "execution_count": 52,
   "metadata": {
    "collapsed": false
   },
   "outputs": [
    {
     "data": {
      "text/plain": [
       "$\\forall_{ n  \\in \\mathbb{N}^+} \\left[\\forall_{ a , b  \\in \\mathbb{C}} \\left(\\left( \\left(a^{n}\\right) \\cdot \\left(b^{n}\\right) \\right) = \\left(\\left( a \\cdot b \\right)^{n}\\right)\\right)\\right]$"
      ]
     },
     "execution_count": 52,
     "metadata": {},
     "output_type": "execute_result"
    }
   ],
   "source": [
    "natsPosPowOfProdRev = Forall(n, Forall((a, b),\n",
    "                                       Equals(Multiply(Exponentiate(a,n),Exponentiate(b,n)),\n",
    "                                              Exponentiate(Multiply(a,b),n)),\n",
    "                                       domain=Complexes),\n",
    "                             domain=NaturalsPos)\n",
    "natsPosPowOfProdRev"
   ]
  },
  {
   "cell_type": "code",
   "execution_count": 53,
   "metadata": {
    "collapsed": false
   },
   "outputs": [
    {
     "data": {
      "text/plain": [
       "$\\forall_{ n  \\in \\mathbb{Z}} \\left[\\forall_{ a , b  \\in \\mathbb{C}~|~ \\left(a \\neq 0\\right) } \\left(\\left(\\left(\\left(a^{b}\\right)\\right)^{n}\\right) = \\left(a^{ b \\cdot n }\\right)\\right)\\right]$"
      ]
     },
     "execution_count": 53,
     "metadata": {},
     "output_type": "execute_result"
    }
   ],
   "source": [
    "# Works for integers powers through repetition of a^b (or a^{-b}) and adding exponents.\n",
    "# Does not work for fractional powers.  Consider sqrt[(-1)^2] = 1 not (-1)^{2*(1/2)} = -1.\n",
    "intPowOfPow = Forall(n, Forall((a, b), \n",
    "                            Equals(Exponentiate(Exponentiate(a, b), n), \n",
    "                                   Exponentiate(a, Multiply(b, n))), \n",
    "                            domain=Complexes, conditions=[NotEquals(a, zero)]), \n",
    "                  domain=Integers)\n",
    "intPowOfPow"
   ]
  },
  {
   "cell_type": "code",
   "execution_count": 54,
   "metadata": {
    "collapsed": false
   },
   "outputs": [
    {
     "data": {
      "text/plain": [
       "$\\forall_{ n  \\in \\mathbb{Z}} \\left[\\forall_{ a , b  \\in \\mathbb{C}~|~ \\left(a \\neq 0\\right) } \\left(\\left(\\left(\\left(a^{-b}\\right)\\right)^{n}\\right) = \\left(a^{-\\left( b \\cdot n \\right)}\\right)\\right)\\right]$"
      ]
     },
     "execution_count": 54,
     "metadata": {},
     "output_type": "execute_result"
    }
   ],
   "source": [
    "intPowOfNegPow = Forall(n, Forall((a, b), \n",
    "                               Equals(Exponentiate(Exponentiate(a, Neg(b)), n), \n",
    "                                      Exponentiate(a, Neg(Multiply(b, n)))),\n",
    "                               domain=Complexes, conditions=[NotEquals(a, zero)]), \n",
    "                        domain=Integers)\n",
    "intPowOfNegPow"
   ]
  },
  {
   "cell_type": "code",
   "execution_count": 55,
   "metadata": {
    "collapsed": false
   },
   "outputs": [
    {
     "data": {
      "text/plain": [
       "$\\forall_{ n  \\in \\mathbb{Z}} \\left[\\forall_{ a , b  \\in \\mathbb{C}~|~ \\left(a \\neq 0\\right) } \\left(\\left(\\left(\\left(a^{b}\\right)\\right)^{-n}\\right) = \\left(a^{-\\left( b \\cdot n \\right)}\\right)\\right)\\right]$"
      ]
     },
     "execution_count": 55,
     "metadata": {},
     "output_type": "execute_result"
    }
   ],
   "source": [
    "negIntPowOfPow = Forall(n, Forall((a, b),\n",
    "                            Equals(Exponentiate(Exponentiate(a, b), Neg(n)), \n",
    "                                   Exponentiate(a, Neg(Multiply(b, n)))), \n",
    "                               domain=Complexes, conditions=[NotEquals(a, zero)]),\n",
    "                        domain=Integers)\n",
    "\n",
    "negIntPowOfPow"
   ]
  },
  {
   "cell_type": "code",
   "execution_count": 56,
   "metadata": {
    "collapsed": false
   },
   "outputs": [
    {
     "data": {
      "text/plain": [
       "$\\forall_{ n  \\in \\mathbb{Z}} \\left[\\forall_{ a , b  \\in \\mathbb{C}~|~ \\left(a \\neq 0\\right) } \\left(\\left(\\left(\\left(a^{-b}\\right)\\right)^{-n}\\right) = \\left(a^{ b \\cdot n }\\right)\\right)\\right]$"
      ]
     },
     "execution_count": 56,
     "metadata": {},
     "output_type": "execute_result"
    }
   ],
   "source": [
    "negIntPowOfNegPow = Forall(n, Forall((a, b),\n",
    "                                     Equals(Exponentiate(Exponentiate(a, Neg(b)), Neg(n)), \n",
    "                                            Exponentiate(a, Multiply(b, n))), \n",
    "                               domain=Complexes, conditions=[NotEquals(a, zero)]),\n",
    "                           domain=Integers)\n",
    "\n",
    "negIntPowOfNegPow"
   ]
  },
  {
   "cell_type": "code",
   "execution_count": 57,
   "metadata": {
    "collapsed": false
   },
   "outputs": [
    {
     "data": {
      "text/plain": [
       "$\\forall_{ a , b  \\in \\mathbb{C}} \\left(\\left(\\left(a - b\\right)^{2}\\right) = \\left(\\left(b - a\\right)^{2}\\right)\\right)$"
      ]
     },
     "execution_count": 57,
     "metadata": {},
     "output_type": "execute_result"
    }
   ],
   "source": [
    "diffSquareComm = Forall([a,b],\n",
    "                        Equals(\n",
    "                            Exponentiate(Subtract(a,b),two),\n",
    "                            Exponentiate(Subtract(b,a),two)),\n",
    "                        domain = Complexes)\n",
    "diffSquareComm"
   ]
  },
  {
   "cell_type": "code",
   "execution_count": 58,
   "metadata": {
    "collapsed": false
   },
   "outputs": [
    {
     "data": {
      "text/plain": [
       "$\\forall_{~.., v_{\\Box} ,..., w_{\\Box} ,..., x_{\\Box} ,..., y_{\\Box} ,..., z_{\\Box} ,..~ \\in \\mathbb{C}} \\left(\\left(~..+ v_{\\Box} +...+ w_{\\Box} +...+ x_{\\Box} +...+ y_{\\Box} +...+ z_{\\Box} +..~\\right) = \\left(~..+ v_{\\Box} +...+ y_{\\Box} +...+ x_{\\Box} +...+ w_{\\Box} +...+ z_{\\Box} +..~\\right)\\right)$"
      ]
     },
     "execution_count": 58,
     "metadata": {},
     "output_type": "execute_result"
    }
   ],
   "source": [
    "addComm = Forall([vEtc,wEtc,xEtc,yEtc,zEtc],\n",
    "                 Equals(\n",
    "                        Add(vEtc,wEtc,xEtc,yEtc,zEtc),\n",
    "                        Add(vEtc,yEtc,xEtc,wEtc,zEtc)\n",
    "    ),\n",
    "                 domain = Complexes\n",
    "                 )\n",
    "addComm"
   ]
  },
  {
   "cell_type": "code",
   "execution_count": 59,
   "metadata": {
    "collapsed": false
   },
   "outputs": [
    {
     "data": {
      "text/plain": [
       "$\\forall_{ x , y  \\in \\mathbb{C}} \\left(\\left(x - y\\right) = \\left( x + \\left(-y\\right) \\right)\\right)$"
      ]
     },
     "execution_count": 59,
     "metadata": {},
     "output_type": "execute_result"
    }
   ],
   "source": [
    "subtractAsAddNeg = Forall([x, y], Equals(Subtract(x, y), \n",
    "                                         Add(x, Neg(y))), \n",
    "                          domain=Complexes)\n",
    "subtractAsAddNeg"
   ]
  },
  {
   "cell_type": "code",
   "execution_count": 60,
   "metadata": {
    "collapsed": false
   },
   "outputs": [
    {
     "data": {
      "text/plain": [
       "$\\forall_{ x , y  \\in \\mathbb{C}} \\left(\\left( x + \\left(-y\\right) \\right) = \\left(x - y\\right)\\right)$"
      ]
     },
     "execution_count": 60,
     "metadata": {},
     "output_type": "execute_result"
    }
   ],
   "source": [
    "addNegAsSubtract = Forall([x, y], Equals(Add(x, Neg(y)),\n",
    "                                         Subtract(x, y)), \n",
    "                          domain=Complexes)\n",
    "addNegAsSubtract"
   ]
  },
  {
   "cell_type": "code",
   "execution_count": 61,
   "metadata": {
    "collapsed": false
   },
   "outputs": [
    {
     "data": {
      "text/plain": [
       "$\\forall_{~.., w_{\\Box} ,..~, x , y ,~.., z_{\\Box} ,..~ \\in \\mathbb{C}} \\left(\\left(~..+ w_{\\Box} +..~+ \\left(x - y\\right) +~..+ z_{\\Box} +..~\\right) = \\left(\\left(~..+ w_{\\Box} +..~+ x +~..+ z_{\\Box} +..~\\right) - y\\right)\\right)$"
      ]
     },
     "execution_count": 61,
     "metadata": {},
     "output_type": "execute_result"
    }
   ],
   "source": [
    "absorbTermsIntoSubtraction = Forall([wEtc, x, y, zEtc],\n",
    "                                    Equals(Add(wEtc, Subtract(x, y), zEtc),\n",
    "                                           Subtract(Add(wEtc, x, zEtc), y)), domain=Complexes)\n",
    "absorbTermsIntoSubtraction"
   ]
  },
  {
   "cell_type": "code",
   "execution_count": 62,
   "metadata": {
    "collapsed": false
   },
   "outputs": [
    {
     "data": {
      "text/plain": [
       "$\\forall_{ x , y , z  \\in \\mathbb{C}} \\left(\\left(\\left( x + y \\right) - \\left( x + z \\right)\\right) = \\left(y - z\\right)\\right)$"
      ]
     },
     "execution_count": 62,
     "metadata": {},
     "output_type": "execute_result"
    }
   ],
   "source": [
    "subtractCancelElimSums = Forall([x, y, z], \n",
    "                        Equals(Subtract(Add(x, y), Add(x, z)),\n",
    "                              Subtract(y, z)), domain=Complexes)\n",
    "subtractCancelElimSums"
   ]
  },
  {
   "cell_type": "code",
   "execution_count": 63,
   "metadata": {
    "collapsed": false
   },
   "outputs": [
    {
     "data": {
      "text/plain": [
       "$\\forall_{ w , x ,~.., y_{\\Box} ,..., z_{\\Box} ,..~ \\in \\mathbb{C}} \\left(\\left(\\left( w + x \\right) - \\left(~..+ y_{\\Box} +..~+ w +~..+ z_{\\Box} +..~\\right)\\right) = \\left(x - \\left(~..+ y_{\\Box} +...+ z_{\\Box} +..~\\right)\\right)\\right)$"
      ]
     },
     "execution_count": 63,
     "metadata": {},
     "output_type": "execute_result"
    }
   ],
   "source": [
    "subtractCancelElimLeftSum = Forall([w, x, yEtc, zEtc], \n",
    "                        Equals(Subtract(Add(w, x), Add(yEtc, w, zEtc)),\n",
    "                              Subtract(x, Add(yEtc, zEtc))), domain=Complexes)\n",
    "subtractCancelElimLeftSum"
   ]
  },
  {
   "cell_type": "code",
   "execution_count": 64,
   "metadata": {
    "collapsed": false
   },
   "outputs": [
    {
     "data": {
      "text/plain": [
       "$\\forall_{~.., w_{\\Box} ,..~, x ,~.., y_{\\Box} ,..~, z  \\in \\mathbb{C}} \\left(\\left(\\left(~..+ w_{\\Box} +..~+ x +~..+ y_{\\Box} +..~\\right) - \\left( x + z \\right)\\right) = \\left(\\left(~..+ w_{\\Box} +...+ y_{\\Box} +..~\\right) - z\\right)\\right)$"
      ]
     },
     "execution_count": 64,
     "metadata": {},
     "output_type": "execute_result"
    }
   ],
   "source": [
    "subtractCancelElimRightSum = Forall([wEtc, x, yEtc, z], \n",
    "                        Equals(Subtract(Add(wEtc, x, yEtc), Add(x, z)),\n",
    "                              Subtract(Add(wEtc, yEtc), z)), domain=Complexes)\n",
    "subtractCancelElimRightSum"
   ]
  },
  {
   "cell_type": "code",
   "execution_count": 65,
   "metadata": {
    "collapsed": false
   },
   "outputs": [
    {
     "data": {
      "text/plain": [
       "$\\forall_{~.., v_{\\Box} ,..~, w ,~.., x_{\\Box} ,..., y_{\\Box} ,..., z_{\\Box} ,..~ \\in \\mathbb{C}} \\left(\\left(\\left(~..+ v_{\\Box} +..~+ w +~..+ x_{\\Box} +..~\\right) - \\left(~..+ y_{\\Box} +..~+ w +~..+ z_{\\Box} +..~\\right)\\right) = \\left(\\left(~..+ v_{\\Box} +...+ x_{\\Box} +..~\\right) - \\left(~..+ y_{\\Box} +...+ z_{\\Box} +..~\\right)\\right)\\right)$"
      ]
     },
     "execution_count": 65,
     "metadata": {},
     "output_type": "execute_result"
    }
   ],
   "source": [
    "subtractCancelTwoSums = Forall([vEtc, w, xEtc, yEtc, zEtc], \n",
    "                        Equals(Subtract(Add(vEtc, w, xEtc), Add(yEtc, w, zEtc)),\n",
    "                              Subtract(Add(vEtc, xEtc), Add(yEtc, zEtc))), domain=Complexes)\n",
    "subtractCancelTwoSums"
   ]
  },
  {
   "cell_type": "code",
   "execution_count": 66,
   "metadata": {
    "collapsed": false
   },
   "outputs": [
    {
     "data": {
      "text/plain": [
       "$\\forall_{~.., x_{\\Box} ,..~, y ,~.., z_{\\Box} ,..~ \\in \\mathbb{C}} \\left(\\left(\\left(~..+ x_{\\Box} +..~+ y +~..+ z_{\\Box} +..~\\right) - y\\right) = \\left(~..+ x_{\\Box} +...+ z_{\\Box} +..~\\right)\\right)$"
      ]
     },
     "execution_count": 66,
     "metadata": {},
     "output_type": "execute_result"
    }
   ],
   "source": [
    "subtractCancelLeftSum = Forall([xEtc, y, zEtc], \n",
    "                        Equals(Subtract(Add(xEtc, y, zEtc), y),\n",
    "                               Add(xEtc, zEtc)), domain=Complexes)\n",
    "subtractCancelLeftSum"
   ]
  },
  {
   "cell_type": "code",
   "execution_count": 67,
   "metadata": {
    "collapsed": false
   },
   "outputs": [
    {
     "data": {
      "text/plain": [
       "$\\forall_{~.., x_{\\Box} ,..~, y ,~.., z_{\\Box} ,..~ \\in \\mathbb{C}} \\left(\\left(y - \\left(~..+ x_{\\Box} +..~+ y +~..+ z_{\\Box} +..~\\right)\\right) = \\left(-\\left(~..+ x_{\\Box} +...+ z_{\\Box} +..~\\right)\\right)\\right)$"
      ]
     },
     "execution_count": 67,
     "metadata": {},
     "output_type": "execute_result"
    }
   ],
   "source": [
    "subtractCancelRightSum = Forall([xEtc, y, zEtc], \n",
    "                        Equals(Subtract(y, Add(xEtc, y, zEtc)),\n",
    "                               Neg(Add(xEtc, zEtc))), domain=Complexes)\n",
    "subtractCancelRightSum"
   ]
  },
  {
   "cell_type": "code",
   "execution_count": 68,
   "metadata": {
    "collapsed": false
   },
   "outputs": [
    {
     "data": {
      "text/plain": [
       "$\\forall_{ x , y  \\in \\mathbb{C}} \\left(\\left(y - \\left( y + x \\right)\\right) = \\left(-x\\right)\\right)$"
      ]
     },
     "execution_count": 68,
     "metadata": {},
     "output_type": "execute_result"
    }
   ],
   "source": [
    "subtractCancelRightSumSingleRight = Forall([x, y], Equals(Subtract(y, Add(y, x)), Neg(x)), domain=Complexes)\n",
    "subtractCancelRightSumSingleRight"
   ]
  },
  {
   "cell_type": "code",
   "execution_count": 69,
   "metadata": {
    "collapsed": false
   },
   "outputs": [
    {
     "data": {
      "text/plain": [
       "$\\forall_{ x , y  \\in \\mathbb{C}} \\left(\\left(y - \\left( x + y \\right)\\right) = \\left(-x\\right)\\right)$"
      ]
     },
     "execution_count": 69,
     "metadata": {},
     "output_type": "execute_result"
    }
   ],
   "source": [
    "subtractCancelRightSumSingleLeft = Forall([x, y], Equals(Subtract(y, Add(x, y)), Neg(x)), domain=Complexes)\n",
    "subtractCancelRightSumSingleLeft"
   ]
  },
  {
   "cell_type": "code",
   "execution_count": 70,
   "metadata": {
    "collapsed": false
   },
   "outputs": [
    {
     "data": {
      "text/plain": [
       "$\\forall_{ x , y  \\in \\mathbb{C}} \\left(\\left(\\left( y + x \\right) - y\\right) = x\\right)$"
      ]
     },
     "execution_count": 70,
     "metadata": {},
     "output_type": "execute_result"
    }
   ],
   "source": [
    "subtractCancelLeftSumSingleRight = Forall([x, y], Equals(Subtract(Add(y, x), y), x), domain=Complexes)\n",
    "subtractCancelLeftSumSingleRight"
   ]
  },
  {
   "cell_type": "code",
   "execution_count": 71,
   "metadata": {
    "collapsed": false
   },
   "outputs": [
    {
     "data": {
      "text/plain": [
       "$\\forall_{ x , y  \\in \\mathbb{C}} \\left(\\left(\\left( x + y \\right) - y\\right) = x\\right)$"
      ]
     },
     "execution_count": 71,
     "metadata": {},
     "output_type": "execute_result"
    }
   ],
   "source": [
    "subtractCancelLeftSumSingleLeft = Forall([x, y], Equals(Subtract(Add(x, y), y), x), domain=Complexes)\n",
    "subtractCancelLeftSumSingleLeft"
   ]
  },
  {
   "cell_type": "code",
   "execution_count": 72,
   "metadata": {
    "collapsed": false
   },
   "outputs": [
    {
     "data": {
      "text/plain": [
       "$\\forall_{ x  \\in \\mathbb{C}} \\left(\\left(x - x\\right) = 0\\right)$"
      ]
     },
     "execution_count": 72,
     "metadata": {},
     "output_type": "execute_result"
    }
   ],
   "source": [
    "subtractCancelComplete = Forall(x, Equals(Subtract(x, x), zero), domain=Complexes)\n",
    "subtractCancelComplete"
   ]
  },
  {
   "cell_type": "code",
   "execution_count": 73,
   "metadata": {
    "collapsed": false
   },
   "outputs": [
    {
     "data": {
      "text/plain": [
       "$\\forall_{~.., v_{\\Box} ,..., w_{\\Box} ,..., x_{\\Box} ,..., y_{\\Box} ,..., z_{\\Box} ,..~ \\in \\mathbb{C}} \\left(\\left(~..\\cdot v_{\\Box} \\cdot...\\cdot w_{\\Box} \\cdot...\\cdot x_{\\Box} \\cdot...\\cdot y_{\\Box} \\cdot...\\cdot z_{\\Box} \\cdot..~\\right) = \\left(~..\\cdot v_{\\Box} \\cdot...\\cdot y_{\\Box} \\cdot...\\cdot x_{\\Box} \\cdot...\\cdot w_{\\Box} \\cdot...\\cdot z_{\\Box} \\cdot..~\\right)\\right)$"
      ]
     },
     "execution_count": 73,
     "metadata": {},
     "output_type": "execute_result"
    }
   ],
   "source": [
    "multComm = Forall([vEtc,wEtc,xEtc,yEtc,zEtc],\n",
    "                 Equals(\n",
    "                        Multiply(vEtc,wEtc,xEtc,yEtc,zEtc),\n",
    "                        Multiply(vEtc,yEtc,xEtc,wEtc,zEtc)\n",
    "    ),\n",
    "                 domain = Complexes\n",
    "                 )\n",
    "multComm"
   ]
  },
  {
   "cell_type": "code",
   "execution_count": 74,
   "metadata": {
    "collapsed": false
   },
   "outputs": [
    {
     "data": {
      "text/plain": [
       "$\\forall_{~.., x_{\\Box} ,..., y_{\\Box} ,..., z_{\\Box} ,..~ \\in \\mathbb{C}} \\left(\\left(~..\\cdot x_{\\Box} \\cdot..~\\cdot \\left(~..+ y_{\\Box} +..~\\right) \\cdot~..\\cdot z_{\\Box} \\cdot..~\\right) = \\left(~..+ \\left(~..\\cdot x_{\\Box} \\cdot..~\\cdot y_{\\Box} \\cdot~..\\cdot z_{\\Box} \\cdot..~\\right) +..~\\right)\\right)$"
      ]
     },
     "execution_count": 74,
     "metadata": {},
     "output_type": "execute_result"
    }
   ],
   "source": [
    "distributeThroughSum =  Forall([xEtc, yEtc, zEtc],\n",
    "                  Equals(\n",
    "                        Multiply(xEtc, Add(yEtc), zEtc),\n",
    "                        Add(Etcetera(Multiply(xEtc, MultiVariable(y), zEtc)))\n",
    "                        ),\n",
    "                  domain = Complexes\n",
    "                  )\n",
    "distributeThroughSum"
   ]
  },
  {
   "cell_type": "code",
   "execution_count": 75,
   "metadata": {
    "collapsed": false
   },
   "outputs": [
    {
     "data": {
      "text/plain": [
       "$\\forall_{~.., x_{\\Box} ,..., y_{\\Box} ,..., z_{\\Box} ,..~ \\in \\mathbb{C}} \\left(\\left(~..+ \\left(~..\\cdot x_{\\Box} \\cdot..~\\cdot y_{\\Box} \\cdot~..\\cdot z_{\\Box} \\cdot..~\\right) +..~\\right) = \\left(~..\\cdot x_{\\Box} \\cdot..~\\cdot \\left(~..+ y_{\\Box} +..~\\right) \\cdot~..\\cdot z_{\\Box} \\cdot..~\\right)\\right)$"
      ]
     },
     "execution_count": 75,
     "metadata": {},
     "output_type": "execute_result"
    }
   ],
   "source": [
    "distributeThroughSumRev =  Forall([xEtc, yEtc, zEtc],\n",
    "                                  Equals(Add(Etcetera(Multiply(xEtc, MultiVariable(y), zEtc))),\n",
    "                                         Multiply(xEtc, Add(yEtc), zEtc)),\n",
    "                                  domain = Complexes)\n",
    "distributeThroughSumRev"
   ]
  },
  {
   "cell_type": "code",
   "execution_count": 76,
   "metadata": {
    "collapsed": false
   },
   "outputs": [
    {
     "data": {
      "text/plain": [
       "$\\forall_{~.., w_{\\Box} ,..~, x , y ,~.., z_{\\Box} ,..~ \\in \\mathbb{C}} \\left(\\left(~..\\cdot w_{\\Box} \\cdot..~\\cdot \\left(x - y\\right) \\cdot~..\\cdot z_{\\Box} \\cdot..~\\right) = \\left(\\left(~..\\cdot w_{\\Box} \\cdot..~\\cdot x \\cdot~..\\cdot z_{\\Box} \\cdot..~\\right) - \\left(~..\\cdot w_{\\Box} \\cdot..~\\cdot y \\cdot~..\\cdot z_{\\Box} \\cdot..~\\right)\\right)\\right)$"
      ]
     },
     "execution_count": 76,
     "metadata": {},
     "output_type": "execute_result"
    }
   ],
   "source": [
    "distributeThroughSubtract =  Forall([wEtc, x, y, zEtc],\n",
    "                  Equals(\n",
    "                        Multiply(wEtc, Subtract(x, y), zEtc),\n",
    "                        Subtract(Multiply(wEtc, x, zEtc), Multiply(wEtc, y, zEtc))\n",
    "                        ),\n",
    "                  domain = Complexes\n",
    "                  )\n",
    "distributeThroughSubtract"
   ]
  },
  {
   "cell_type": "code",
   "execution_count": 77,
   "metadata": {
    "collapsed": false
   },
   "outputs": [
    {
     "data": {
      "text/plain": [
       "$\\forall_{~.., w_{\\Box} ,..~, x , y ,~.., z_{\\Box} ,..~ \\in \\mathbb{C}} \\left(\\left(\\left(~..\\cdot w_{\\Box} \\cdot..~\\cdot x \\cdot~..\\cdot z_{\\Box} \\cdot..~\\right) - \\left(~..\\cdot w_{\\Box} \\cdot..~\\cdot y \\cdot~..\\cdot z_{\\Box} \\cdot..~\\right)\\right) = \\left(~..\\cdot w_{\\Box} \\cdot..~\\cdot \\left(x - y\\right) \\cdot~..\\cdot z_{\\Box} \\cdot..~\\right)\\right)$"
      ]
     },
     "execution_count": 77,
     "metadata": {},
     "output_type": "execute_result"
    }
   ],
   "source": [
    "distributeThroughSubtractRev =  Forall([wEtc, x, y, zEtc],\n",
    "                  Equals(\n",
    "                        Subtract(Multiply(wEtc, x, zEtc), Multiply(wEtc, y, zEtc)),\n",
    "                        Multiply(wEtc, Subtract(x, y), zEtc)\n",
    "                        ),\n",
    "                  domain = Complexes\n",
    "                  )\n",
    "distributeThroughSubtractRev"
   ]
  },
  {
   "cell_type": "code",
   "execution_count": 78,
   "metadata": {
    "collapsed": false
   },
   "outputs": [
    {
     "data": {
      "text/plain": [
       "$\\forall_{ x ,~.., y_{\\Box} ,..~ \\in \\mathbb{C}} \\left(\\left(x - \\left(~..+ y_{\\Box} +..~\\right)\\right) = \\left( x +~..+ \\left(-y_{\\Box}\\right) +..~\\right)\\right)$"
      ]
     },
     "execution_count": 78,
     "metadata": {},
     "output_type": "execute_result"
    }
   ],
   "source": [
    "distributeSubtraction = Forall([x, yEtc],\n",
    "                              Equals(Subtract(x, Add(yEtc)),\n",
    "                                    Add(x, Etcetera(Neg(MultiVariable(y))))),\n",
    "                              domain=Complexes)\n",
    "distributeSubtraction"
   ]
  },
  {
   "cell_type": "code",
   "execution_count": 79,
   "metadata": {
    "collapsed": false
   },
   "outputs": [
    {
     "data": {
      "text/plain": [
       "$\\forall_{~.., x_{\\Box} ,..~ \\in \\mathbb{C}} \\left(\\left(-\\left(~..+ x_{\\Box} +..~\\right)\\right) = \\left(~..+ \\left(-x_{\\Box}\\right) +..~\\right)\\right)$"
      ]
     },
     "execution_count": 79,
     "metadata": {},
     "output_type": "execute_result"
    }
   ],
   "source": [
    "distributeNegThroughSum = Forall([xEtc], Equals(Neg(Add(xEtc)),\n",
    "                                               Add(Etcetera(Neg(MultiVariable(x))))),\n",
    "                                 domain=Complexes)\n",
    "distributeNegThroughSum"
   ]
  },
  {
   "cell_type": "code",
   "execution_count": 80,
   "metadata": {
    "collapsed": false
   },
   "outputs": [
    {
     "data": {
      "text/plain": [
       "$\\forall_{~.., x_{\\Box} ,..~ \\in \\mathbb{C}} \\left(\\left(~..+ \\left(-x_{\\Box}\\right) +..~\\right) = \\left(-\\left(~..+ x_{\\Box} +..~\\right)\\right)\\right)$"
      ]
     },
     "execution_count": 80,
     "metadata": {},
     "output_type": "execute_result"
    }
   ],
   "source": [
    "distributeNegThroughSumRev = Forall([xEtc], \n",
    "                                    Equals(Add(Etcetera(Neg(MultiVariable(x)))),\n",
    "                                           Neg(Add(xEtc))),\n",
    "                                 domain=Complexes)\n",
    "distributeNegThroughSumRev"
   ]
  },
  {
   "cell_type": "code",
   "execution_count": 81,
   "metadata": {
    "collapsed": false
   },
   "outputs": [
    {
     "data": {
      "text/plain": [
       "$\\forall_{ x , y  \\in \\mathbb{C}} \\left(\\left(-\\left(x - y\\right)\\right) = \\left( \\left(-x\\right) + y \\right)\\right)$"
      ]
     },
     "execution_count": 81,
     "metadata": {},
     "output_type": "execute_result"
    }
   ],
   "source": [
    "distributeNegThroughSubtract = Forall([x, y], Equals(Neg(Subtract(x, y)),\n",
    "                                               Add(Neg(x), y)),\n",
    "                                 domain=Complexes)\n",
    "distributeNegThroughSubtract"
   ]
  },
  {
   "cell_type": "code",
   "execution_count": 82,
   "metadata": {
    "collapsed": false
   },
   "outputs": [
    {
     "data": {
      "text/plain": [
       "$\\forall_{ P , S } \\left(\\left[\\forall_{~.., y_{\\Box} ,..~ \\in S} \\left(P\\left(~.., y_{\\Box} ,..~\\right) \\in \\mathbb{C}\\right)\\right] \\Rightarrow \\left[\\forall_{~.., x_{\\Box} ,..., z_{\\Box} ,..~ \\in \\mathbb{C}} \\left(\\left(~..\\cdot x_{\\Box} \\cdot..~\\cdot \\left[\\sum_{~.., y_{\\Box} ,..~ \\in S} P\\left(~.., y_{\\Box} ,..~\\right)\\right] \\cdot~..\\cdot z_{\\Box} \\cdot..~\\right) = \\left[\\sum_{~.., y_{\\Box} ,..~ \\in S} \\left(~..\\cdot x_{\\Box} \\cdot..~\\cdot P\\left(~.., y_{\\Box} ,..~\\right) \\cdot~..\\cdot z_{\\Box} \\cdot..~\\right)\\right]\\right)\\right]\\right)$"
      ]
     },
     "execution_count": 82,
     "metadata": {},
     "output_type": "execute_result"
    }
   ],
   "source": [
    "distributeThroughSummation = Forall([P, S],\n",
    "                                    Implies(Forall(yEtc, In(PyEtc, Complexes), domain=S),\n",
    "                                            Forall([xEtc, zEtc],\n",
    "                                                   Equals(Multiply(xEtc, Summation(yEtc, PyEtc, domain=S), zEtc),\n",
    "                                                          Summation(yEtc, Multiply(xEtc, PyEtc, zEtc), domain=S)),\n",
    "                                                  domain=Complexes)))\n",
    "distributeThroughSummation"
   ]
  },
  {
   "cell_type": "code",
   "execution_count": 83,
   "metadata": {
    "collapsed": false
   },
   "outputs": [
    {
     "data": {
      "text/plain": [
       "$\\forall_{ P , S } \\left(\\left[\\forall_{~.., y_{\\Box} ,..~ \\in S} \\left(P\\left(~.., y_{\\Box} ,..~\\right) \\in \\mathbb{C}\\right)\\right] \\Rightarrow \\left[\\forall_{~.., x_{\\Box} ,..., z_{\\Box} ,..~ \\in \\mathbb{C}} \\left(\\left[\\sum_{~.., y_{\\Box} ,..~ \\in S} \\left(~..\\cdot x_{\\Box} \\cdot..~\\cdot P\\left(~.., y_{\\Box} ,..~\\right) \\cdot~..\\cdot z_{\\Box} \\cdot..~\\right)\\right] = \\left(~..\\cdot x_{\\Box} \\cdot..~\\cdot \\left[\\sum_{~.., y_{\\Box} ,..~ \\in S} P\\left(~.., y_{\\Box} ,..~\\right)\\right] \\cdot~..\\cdot z_{\\Box} \\cdot..~\\right)\\right)\\right]\\right)$"
      ]
     },
     "execution_count": 83,
     "metadata": {},
     "output_type": "execute_result"
    }
   ],
   "source": [
    "distributeThroughSummationRev = Forall([P, S],\n",
    "                                    Implies(Forall(yEtc, In(PyEtc, Complexes), domain=S),\n",
    "                                            Forall([xEtc, zEtc],\n",
    "                                                   Equals(Summation(yEtc, Multiply(xEtc, PyEtc, zEtc), domain=S),\n",
    "                                                         Multiply(xEtc, Summation(yEtc, PyEtc, domain=S), zEtc)),\n",
    "                                                  domain=Complexes)))\n",
    "distributeThroughSummationRev"
   ]
  },
  {
   "cell_type": "code",
   "execution_count": 84,
   "metadata": {
    "collapsed": false
   },
   "outputs": [
    {
     "data": {
      "text/plain": [
       "$\\forall_{~.., x_{\\Box} ,..~, y  \\in \\mathbb{C}~|~ \\left(y \\neq 0\\right) } \\left(\\frac{~..+ x_{\\Box} +..~}{y} = \\left(~..+ \\frac{x_{\\Box}}{y} +..~\\right)\\right)$"
      ]
     },
     "execution_count": 84,
     "metadata": {},
     "output_type": "execute_result"
    }
   ],
   "source": [
    "distributeFractionThroughSum = Forall([xEtc, y], \n",
    "                                      Equals(Fraction(Add(xEtc), y),\n",
    "                                             Add(Etcetera(Fraction(MultiVariable(x), y)))), \n",
    "                                      domain=Complexes, conditions=[NotEquals(y, zero)])\n",
    "distributeFractionThroughSum"
   ]
  },
  {
   "cell_type": "code",
   "execution_count": 85,
   "metadata": {
    "collapsed": false
   },
   "outputs": [
    {
     "data": {
      "text/plain": [
       "$\\forall_{~.., x_{\\Box} ,..~, y  \\in \\mathbb{C}~|~ \\left(y \\neq 0\\right) } \\left(\\left(~..+ \\frac{x_{\\Box}}{y} +..~\\right) = \\frac{~..+ x_{\\Box} +..~}{y}\\right)$"
      ]
     },
     "execution_count": 85,
     "metadata": {},
     "output_type": "execute_result"
    }
   ],
   "source": [
    "distributeFractionThroughSumRev = Forall([xEtc, y], \n",
    "                                      Equals(Add(Etcetera(Fraction(MultiVariable(x), y))),\n",
    "                                             Fraction(Add(xEtc), y)), \n",
    "                                      domain=Complexes, conditions=[NotEquals(y, zero)])\n",
    "distributeFractionThroughSumRev"
   ]
  },
  {
   "cell_type": "code",
   "execution_count": 86,
   "metadata": {
    "collapsed": false
   },
   "outputs": [
    {
     "data": {
      "text/plain": [
       "$\\forall_{ x , y , z  \\in \\mathbb{C}~|~ \\left(z \\neq 0\\right) } \\left(\\frac{x - y}{z} = \\left(\\frac{x}{z} - \\frac{y}{z}\\right)\\right)$"
      ]
     },
     "execution_count": 86,
     "metadata": {},
     "output_type": "execute_result"
    }
   ],
   "source": [
    "distributeFractionThroughSubtract = Forall([x, y, z], \n",
    "                                          Equals(Fraction(Subtract(x, y), z),\n",
    "                                                 Subtract(Fraction(x, z), Fraction(y, z))), \n",
    "                                          domain=Complexes, conditions=[NotEquals(z, zero)])\n",
    "distributeFractionThroughSubtract"
   ]
  },
  {
   "cell_type": "code",
   "execution_count": 87,
   "metadata": {
    "collapsed": false
   },
   "outputs": [
    {
     "data": {
      "text/plain": [
       "$\\forall_{ x , y , z  \\in \\mathbb{C}~|~ \\left(z \\neq 0\\right) } \\left(\\left(\\frac{x}{z} - \\frac{y}{z}\\right) = \\frac{x - y}{z}\\right)$"
      ]
     },
     "execution_count": 87,
     "metadata": {},
     "output_type": "execute_result"
    }
   ],
   "source": [
    "distributeFractionThroughSubtractRev = Forall([x, y, z], \n",
    "                                              Equals(Subtract(Fraction(x, z), Fraction(y, z)),\n",
    "                                                     Fraction(Subtract(x, y), z)), \n",
    "                                              domain=Complexes, conditions=[NotEquals(z, zero)])\n",
    "distributeFractionThroughSubtractRev"
   ]
  },
  {
   "cell_type": "code",
   "execution_count": 88,
   "metadata": {
    "collapsed": false
   },
   "outputs": [
    {
     "data": {
      "text/plain": [
       "$\\forall_{ P , S } \\left(\\left[\\forall_{~.., y_{\\Box} ,..~ \\in S} \\left(P\\left(~.., y_{\\Box} ,..~\\right) \\in \\mathbb{C}\\right)\\right] \\Rightarrow \\left[\\forall_{ z  \\in \\mathbb{C}} \\left(\\frac{\\sum_{~.., y_{\\Box} ,..~ \\in S} P\\left(~.., y_{\\Box} ,..~\\right)}{z} = \\left[\\sum_{~.., y_{\\Box} ,..~ \\in S} \\frac{P\\left(~.., y_{\\Box} ,..~\\right)}{z}\\right]\\right)\\right]\\right)$"
      ]
     },
     "execution_count": 88,
     "metadata": {},
     "output_type": "execute_result"
    }
   ],
   "source": [
    "distributeFractionThroughSummation = Forall([P, S],\n",
    "                                    Implies(Forall(yEtc, In(PyEtc, Complexes), domain=S),\n",
    "                                            Forall(z,\n",
    "                                                   Equals(Fraction(Summation(yEtc, PyEtc, domain=S), z),\n",
    "                                                          Summation(yEtc, Fraction(PyEtc, z), domain=S)),\n",
    "                                                  domain=Complexes)))\n",
    "distributeFractionThroughSummation"
   ]
  },
  {
   "cell_type": "code",
   "execution_count": 89,
   "metadata": {
    "collapsed": false
   },
   "outputs": [
    {
     "data": {
      "text/plain": [
       "$\\forall_{ P , S } \\left(\\left[\\forall_{~.., y_{\\Box} ,..~ \\in S} \\left(P\\left(~.., y_{\\Box} ,..~\\right) \\in \\mathbb{C}\\right)\\right] \\Rightarrow \\left[\\forall_{ z  \\in \\mathbb{C}} \\left(\\left[\\sum_{~.., y_{\\Box} ,..~ \\in S} \\frac{P\\left(~.., y_{\\Box} ,..~\\right)}{z}\\right] = \\frac{\\sum_{~.., y_{\\Box} ,..~ \\in S} P\\left(~.., y_{\\Box} ,..~\\right)}{z}\\right)\\right]\\right)$"
      ]
     },
     "execution_count": 89,
     "metadata": {},
     "output_type": "execute_result"
    }
   ],
   "source": [
    "distributeFractionThroughSummationRev = Forall([P, S],\n",
    "                                    Implies(Forall(yEtc, In(PyEtc, Complexes), domain=S),\n",
    "                                            Forall(z,\n",
    "                                                   Equals(Summation(yEtc, Fraction(PyEtc, z), domain=S),\n",
    "                                                         Fraction(Summation(yEtc, PyEtc, domain=S), z)),\n",
    "                                                  domain=Complexes)))\n",
    "distributeFractionThroughSummationRev"
   ]
  },
  {
   "cell_type": "code",
   "execution_count": 90,
   "metadata": {
    "collapsed": false
   },
   "outputs": [
    {
     "data": {
      "text/plain": [
       "$\\forall_{ x , y  \\in \\mathbb{C}} \\left(\\left( \\left(-x\\right) \\cdot y \\right) = \\left(-\\left( x \\cdot y \\right)\\right)\\right)$"
      ]
     },
     "execution_count": 90,
     "metadata": {},
     "output_type": "execute_result"
    }
   ],
   "source": [
    "negTimesPos = Forall([x, y], Equals(Multiply(Neg(x), y), Neg(Multiply(x, y))), domain=Complexes)\n",
    "negTimesPos"
   ]
  },
  {
   "cell_type": "code",
   "execution_count": 91,
   "metadata": {
    "collapsed": false
   },
   "outputs": [
    {
     "data": {
      "text/plain": [
       "$\\forall_{ x , y  \\in \\mathbb{C}} \\left(\\left(-\\left( x \\cdot y \\right)\\right) = \\left( \\left(-x\\right) \\cdot y \\right)\\right)$"
      ]
     },
     "execution_count": 91,
     "metadata": {},
     "output_type": "execute_result"
    }
   ],
   "source": [
    "negTimesPosRev = Forall([x, y], Equals(Neg(Multiply(x, y)), Multiply(Neg(x), y)), domain=Complexes)\n",
    "negTimesPosRev"
   ]
  },
  {
   "cell_type": "code",
   "execution_count": 92,
   "metadata": {
    "collapsed": false
   },
   "outputs": [
    {
     "data": {
      "text/plain": [
       "$\\forall_{ x , y  \\in \\mathbb{C}} \\left(\\left( x \\cdot \\left(-y\\right) \\right) = \\left(-\\left( x \\cdot y \\right)\\right)\\right)$"
      ]
     },
     "execution_count": 92,
     "metadata": {},
     "output_type": "execute_result"
    }
   ],
   "source": [
    "posTimesNeg = Forall([x, y], Equals(Multiply(x, Neg(y)), Neg(Multiply(x, y))), domain=Complexes)\n",
    "posTimesNeg"
   ]
  },
  {
   "cell_type": "code",
   "execution_count": 93,
   "metadata": {
    "collapsed": false
   },
   "outputs": [
    {
     "data": {
      "text/plain": [
       "$\\forall_{ x , y  \\in \\mathbb{C}} \\left(\\left(-\\left( x \\cdot y \\right)\\right) = \\left( x \\cdot \\left(-y\\right) \\right)\\right)$"
      ]
     },
     "execution_count": 93,
     "metadata": {},
     "output_type": "execute_result"
    }
   ],
   "source": [
    "posTimesNegRev = Forall([x, y], Equals(Neg(Multiply(x, y)), Multiply(x, Neg(y))), domain=Complexes)\n",
    "posTimesNegRev"
   ]
  },
  {
   "cell_type": "code",
   "execution_count": 94,
   "metadata": {
    "collapsed": false
   },
   "outputs": [
    {
     "data": {
      "text/plain": [
       "$\\forall_{ x , y  \\in \\mathbb{C}} \\left(\\left( \\left(-x\\right) \\cdot \\left(-y\\right) \\right) = \\left( x \\cdot y \\right)\\right)$"
      ]
     },
     "execution_count": 94,
     "metadata": {},
     "output_type": "execute_result"
    }
   ],
   "source": [
    "negTimesNeg = Forall([x, y], Equals(Multiply(Neg(x), Neg(y)), Multiply(x, y)), domain=Complexes)\n",
    "negTimesNeg"
   ]
  },
  {
   "cell_type": "code",
   "execution_count": 95,
   "metadata": {
    "collapsed": false
   },
   "outputs": [
    {
     "data": {
      "text/plain": [
       "$\\forall_{~.., w_{\\Box} ,..~, x , y ,~.., z_{\\Box} ,..~ \\in \\mathbb{C}} \\left(\\left(~..\\cdot w_{\\Box} \\cdot..~\\cdot \\frac{x}{y} \\cdot~..\\cdot z_{\\Box} \\cdot..~\\right) = \\frac{~..\\cdot w_{\\Box} \\cdot..~\\cdot x \\cdot~..\\cdot z_{\\Box} \\cdot..~}{y}\\right)$"
      ]
     },
     "execution_count": 95,
     "metadata": {},
     "output_type": "execute_result"
    }
   ],
   "source": [
    "fracInProd = Forall([wEtc, x, y, zEtc], Equals(Multiply(wEtc, Fraction(x, y), zEtc),\n",
    "                                        Fraction(Multiply(wEtc, x, zEtc), y)), domain=Complexes)\n",
    "fracInProd"
   ]
  },
  {
   "cell_type": "code",
   "execution_count": 96,
   "metadata": {
    "collapsed": false
   },
   "outputs": [
    {
     "data": {
      "text/plain": [
       "$\\forall_{~.., w_{\\Box} ,..~, x , y ,~.., z_{\\Box} ,..~ \\in \\mathbb{C}} \\left(\\frac{~..\\cdot w_{\\Box} \\cdot..~\\cdot x \\cdot~..\\cdot z_{\\Box} \\cdot..~}{y} = \\left(~..\\cdot w_{\\Box} \\cdot..~\\cdot \\frac{x}{y} \\cdot~..\\cdot z_{\\Box} \\cdot..~\\right)\\right)$"
      ]
     },
     "execution_count": 96,
     "metadata": {},
     "output_type": "execute_result"
    }
   ],
   "source": [
    "fracInProdRev = Forall([wEtc, x, y, zEtc], \n",
    "                       Equals(Fraction(Multiply(wEtc, x, zEtc), y),\n",
    "                             Multiply(wEtc, Fraction(x, y), zEtc)), domain=Complexes)\n",
    "fracInProdRev"
   ]
  },
  {
   "cell_type": "code",
   "execution_count": 97,
   "metadata": {
    "collapsed": false
   },
   "outputs": [
    {
     "data": {
      "text/plain": [
       "$\\forall_{ x , y , z , w  \\in \\mathbb{C}} \\left(\\left( \\frac{x}{z} \\cdot \\frac{y}{w} \\right) = \\frac{ x \\cdot y }{ z \\cdot w }\\right)$"
      ]
     },
     "execution_count": 97,
     "metadata": {},
     "output_type": "execute_result"
    }
   ],
   "source": [
    "prodOfFracs = Forall([x, y, z, w], Equals(Multiply(Fraction(x, z), Fraction(y, w)),\n",
    "                                           Fraction(Multiply(x, y), Multiply(z, w))), domain=Complexes)\n",
    "prodOfFracs"
   ]
  },
  {
   "cell_type": "code",
   "execution_count": 98,
   "metadata": {
    "collapsed": false
   },
   "outputs": [
    {
     "data": {
      "text/plain": [
       "$\\forall_{ x , y , z , w  \\in \\mathbb{C}} \\left(\\frac{ x \\cdot y }{ z \\cdot w } = \\left( \\frac{x}{z} \\cdot \\frac{y}{w} \\right)\\right)$"
      ]
     },
     "execution_count": 98,
     "metadata": {},
     "output_type": "execute_result"
    }
   ],
   "source": [
    "prodOfFracsRev = Forall([x, y, z, w], Equals(Fraction(Multiply(x, y), Multiply(z, w)),\n",
    "                                          Multiply(Fraction(x, z), Fraction(y, w))), domain=Complexes)\n",
    "prodOfFracsRev"
   ]
  },
  {
   "cell_type": "code",
   "execution_count": 99,
   "metadata": {
    "collapsed": false
   },
   "outputs": [
    {
     "data": {
      "text/plain": [
       "$\\forall_{ x , y , z  \\in \\mathbb{C}} \\left(\\left( \\frac{1}{y} \\cdot \\frac{x}{z} \\right) = \\frac{x}{ y \\cdot z }\\right)$"
      ]
     },
     "execution_count": 99,
     "metadata": {},
     "output_type": "execute_result"
    }
   ],
   "source": [
    "prodOfFracsLeftNumerOne = Forall([x, y, z], Equals(Multiply(Fraction(one, y), Fraction(x, z)),\n",
    "                                                 Fraction(x, Multiply(y, z))), domain=Complexes)\n",
    "prodOfFracsLeftNumerOne"
   ]
  },
  {
   "cell_type": "code",
   "execution_count": 100,
   "metadata": {
    "collapsed": false
   },
   "outputs": [
    {
     "data": {
      "text/plain": [
       "$\\forall_{ x , y , z  \\in \\mathbb{C}} \\left(\\frac{x}{ y \\cdot z } = \\left( \\frac{1}{y} \\cdot \\frac{x}{z} \\right)\\right)$"
      ]
     },
     "execution_count": 100,
     "metadata": {},
     "output_type": "execute_result"
    }
   ],
   "source": [
    "prodOfFracsLeftNumerOneRev = Forall([x, y, z], Equals(Fraction(x, Multiply(y, z)),\n",
    "                                                   Multiply(Fraction(one, y), Fraction(x, z))), domain=Complexes)\n",
    "prodOfFracsLeftNumerOneRev"
   ]
  },
  {
   "cell_type": "code",
   "execution_count": 101,
   "metadata": {
    "collapsed": false
   },
   "outputs": [
    {
     "data": {
      "text/plain": [
       "$\\forall_{ x , y , z  \\in \\mathbb{C}} \\left(\\left( \\frac{x}{y} \\cdot \\frac{1}{z} \\right) = \\frac{x}{ y \\cdot z }\\right)$"
      ]
     },
     "execution_count": 101,
     "metadata": {},
     "output_type": "execute_result"
    }
   ],
   "source": [
    "prodOfFracsRightNumerOne = Forall([x, y, z], Equals(Multiply(Fraction(x, y), Fraction(one, z)),\n",
    "                                                 Fraction(x, Multiply(y, z))), domain=Complexes)\n",
    "prodOfFracsRightNumerOne"
   ]
  },
  {
   "cell_type": "code",
   "execution_count": 102,
   "metadata": {
    "collapsed": false
   },
   "outputs": [
    {
     "data": {
      "text/plain": [
       "$\\forall_{ x , y , z  \\in \\mathbb{C}} \\left(\\frac{x}{ y \\cdot z } = \\left( \\frac{x}{y} \\cdot \\frac{1}{z} \\right)\\right)$"
      ]
     },
     "execution_count": 102,
     "metadata": {},
     "output_type": "execute_result"
    }
   ],
   "source": [
    "prodOfFracsRightNumerOneRev = Forall([x, y, z], Equals(Fraction(x, Multiply(y, z)),\n",
    "                                                    Multiply(Fraction(x, y), Fraction(one, z))), domain=Complexes)\n",
    "prodOfFracsRightNumerOneRev"
   ]
  },
  {
   "cell_type": "code",
   "execution_count": 103,
   "metadata": {
    "collapsed": false
   },
   "outputs": [
    {
     "data": {
      "text/plain": [
       "$\\forall_{ x , y , z  \\in \\mathbb{C}~|~ \\left(x \\neq 0\\right) } \\left(\\frac{ x \\cdot y }{ x \\cdot z } = \\frac{y}{z}\\right)$"
      ]
     },
     "execution_count": 103,
     "metadata": {},
     "output_type": "execute_result"
    }
   ],
   "source": [
    "fracCancel1 = Forall([x,y,z],\n",
    "                   Equals(Fraction(Multiply(x,y),Multiply(x,z)),\n",
    "                         Fraction(y,z)),domain=Complexes, conditions=[NotEquals(x, zero)])\n",
    "fracCancel1"
   ]
  },
  {
   "cell_type": "code",
   "execution_count": 104,
   "metadata": {
    "collapsed": false
   },
   "outputs": [
    {
     "data": {
      "text/plain": [
       "$\\forall_{ x , y  \\in \\mathbb{C}~|~ \\left(x \\neq 0\\right) } \\left(\\frac{ x \\cdot y }{x} = y\\right)$"
      ]
     },
     "execution_count": 104,
     "metadata": {},
     "output_type": "execute_result"
    }
   ],
   "source": [
    "fracCancel2 = Forall([x,y],\n",
    "                   Equals(Fraction(Multiply(x,y),x),\n",
    "                         y),domain=Complexes, conditions=[NotEquals(x, zero)])\n",
    "fracCancel2"
   ]
  },
  {
   "cell_type": "code",
   "execution_count": 105,
   "metadata": {
    "collapsed": false
   },
   "outputs": [
    {
     "data": {
      "text/plain": [
       "$\\forall_{ x , y  \\in \\mathbb{C}~|~ \\left(x \\neq 0\\right) } \\left(\\frac{x}{ x \\cdot y } = \\frac{1}{y}\\right)$"
      ]
     },
     "execution_count": 105,
     "metadata": {},
     "output_type": "execute_result"
    }
   ],
   "source": [
    "fracCancel3 = Forall([x,y],\n",
    "                   Equals(Fraction(x,Multiply(x,y)),\n",
    "                         Fraction(one,y)),domain=Complexes, conditions=[NotEquals(x, zero)])\n",
    "fracCancel3"
   ]
  },
  {
   "cell_type": "code",
   "execution_count": 106,
   "metadata": {
    "collapsed": false
   },
   "outputs": [
    {
     "data": {
      "text/plain": [
       "$\\forall_{ x , y  \\in \\mathbb{C}~|~ \\left(y \\neq 0\\right) } \\left(\\left( \\frac{x}{y} \\cdot y \\right) = x\\right)$"
      ]
     },
     "execution_count": 106,
     "metadata": {},
     "output_type": "execute_result"
    }
   ],
   "source": [
    "fracCancel4 = Forall([x,y],\n",
    "                      Equals(Multiply(Fraction(x,y),y),x),\n",
    "                      domain = Complexes, conditions = [NotEquals(y, zero)])\n",
    "fracCancel4"
   ]
  },
  {
   "cell_type": "code",
   "execution_count": 107,
   "metadata": {
    "collapsed": false
   },
   "outputs": [
    {
     "data": {
      "text/plain": [
       "$\\forall_{ x , y  \\in \\mathbb{C}~|~ \\left(x \\neq 0\\right) } \\left(\\left( x \\cdot \\frac{y}{x} \\right) = y\\right)$"
      ]
     },
     "execution_count": 107,
     "metadata": {},
     "output_type": "execute_result"
    }
   ],
   "source": [
    "fracCancel5 = Forall([x,y],\n",
    "                      Equals(Multiply(x, Fraction(y, x)),y),\n",
    "                      domain = Complexes, conditions = [NotEquals(x, zero)])\n",
    "fracCancel5"
   ]
  },
  {
   "cell_type": "code",
   "execution_count": 108,
   "metadata": {
    "collapsed": false
   },
   "outputs": [
    {
     "data": {
      "text/plain": [
       "$\\forall_{ x  \\in \\mathbb{C}~|~ \\left(x \\neq 0\\right) } \\left(\\frac{x}{x} = 1\\right)$"
      ]
     },
     "execution_count": 108,
     "metadata": {},
     "output_type": "execute_result"
    }
   ],
   "source": [
    "fracCancelComplete = Forall(x, Equals(Fraction(x, x), one), \n",
    "                            domain=Complexes, conditions = [NotEquals(x, zero)])\n",
    "fracCancelComplete"
   ]
  },
  {
   "cell_type": "code",
   "execution_count": 109,
   "metadata": {
    "collapsed": false
   },
   "outputs": [
    {
     "data": {
      "text/plain": [
       "$\\forall_{ w , x , y , z  \\in \\mathbb{C}} \\left(\\frac{w - x}{y - z} = \\frac{x - w}{z - y}\\right)$"
      ]
     },
     "execution_count": 109,
     "metadata": {},
     "output_type": "execute_result"
    }
   ],
   "source": [
    "reverseFractionOfSubtractions = Forall([w, x, y, z], Equals(Fraction(Subtract(w, x), Subtract(y, z)),\n",
    "                                                           Fraction(Subtract(x, w), Subtract(z, y))), domain=Complexes)\n",
    "reverseFractionOfSubtractions"
   ]
  },
  {
   "cell_type": "code",
   "execution_count": 110,
   "metadata": {
    "collapsed": false
   },
   "outputs": [
    {
     "data": {
      "text/plain": [
       "$\\forall_{ n  \\in \\mathbb{Z}} \\left[\\forall_{ a , b ~|~ \\left(a \\neq 0\\right) , \\left(b \\neq 0\\right) } \\left(\\frac{a^{n}}{b^{n}} = \\left(\\left(\\frac{a}{b}\\right)^{n}\\right)\\right)\\right]$"
      ]
     },
     "execution_count": 110,
     "metadata": {},
     "output_type": "execute_result"
    }
   ],
   "source": [
    "fracIntExp = Forall(n, Forall((a, b), \n",
    "                              Equals(Fraction(Exponentiate(a, n), Exponentiate(b, n)),\n",
    "                                     Exponentiate(Fraction(a, b), n)),\n",
    "                             conditions = [NotEquals(a, zero), NotEquals(b, zero)]),\n",
    "                    domain=Integers)\n",
    "fracIntExp"
   ]
  },
  {
   "cell_type": "code",
   "execution_count": 111,
   "metadata": {
    "collapsed": false
   },
   "outputs": [
    {
     "data": {
      "text/plain": [
       "$\\forall_{ n  \\in \\mathbb{Z}} \\left[\\forall_{ a , b ~|~ \\left(a \\neq 0\\right) , \\left(b \\neq 0\\right) } \\left(\\left(\\left(\\frac{a}{b}\\right)^{n}\\right) = \\frac{a^{n}}{b^{n}}\\right)\\right]$"
      ]
     },
     "execution_count": 111,
     "metadata": {},
     "output_type": "execute_result"
    }
   ],
   "source": [
    "fracIntExpRev = Forall(n, Forall((a, b), \n",
    "                                 Equals(Exponentiate(Fraction(a, b), n),\n",
    "                                        Fraction(Exponentiate(a, n), Exponentiate(b, n))),\n",
    "                             conditions = [NotEquals(a, zero), NotEquals(b, zero)]),\n",
    "                    domain=Integers)\n",
    "fracIntExpRev"
   ]
  },
  {
   "cell_type": "code",
   "execution_count": 112,
   "metadata": {
    "collapsed": false
   },
   "outputs": [
    {
     "data": {
      "text/plain": [
       "$\\forall_{ n  \\in \\mathbb{N}^+} \\left[\\forall_{ a , b ~|~ \\left(b \\neq 0\\right) } \\left(\\frac{a^{n}}{b^{n}} = \\left(\\left(\\frac{a}{b}\\right)^{n}\\right)\\right)\\right]$"
      ]
     },
     "execution_count": 112,
     "metadata": {},
     "output_type": "execute_result"
    }
   ],
   "source": [
    "fracNatPosExp = Forall(n, Forall((a, b), \n",
    "                              Equals(Fraction(Exponentiate(a, n), Exponentiate(b, n)),\n",
    "                                     Exponentiate(Fraction(a, b), n)),\n",
    "                             conditions = [NotEquals(b, zero)]),\n",
    "                    domain=NaturalsPos)\n",
    "fracNatPosExp"
   ]
  },
  {
   "cell_type": "code",
   "execution_count": 113,
   "metadata": {
    "collapsed": false
   },
   "outputs": [
    {
     "data": {
      "text/plain": [
       "$\\forall_{ n  \\in \\mathbb{N}^+} \\left[\\forall_{ a , b ~|~ \\left(b \\neq 0\\right) } \\left(\\left(\\left(\\frac{a}{b}\\right)^{n}\\right) = \\frac{a^{n}}{b^{n}}\\right)\\right]$"
      ]
     },
     "execution_count": 113,
     "metadata": {},
     "output_type": "execute_result"
    }
   ],
   "source": [
    "fracNatPosExpRev = Forall(n, Forall((a, b), \n",
    "                              Equals(Exponentiate(Fraction(a, b), n),\n",
    "                                     Fraction(Exponentiate(a, n), Exponentiate(b, n))),\n",
    "                             conditions = [NotEquals(b, zero)]),\n",
    "                    domain=NaturalsPos)\n",
    "fracNatPosExpRev"
   ]
  },
  {
   "cell_type": "code",
   "execution_count": 114,
   "metadata": {
    "collapsed": false
   },
   "outputs": [
    {
     "data": {
      "text/plain": [
       "$\\forall_{ x  \\in \\mathbb{C}} \\left(\\left(x^{1}\\right) = x\\right)$"
      ]
     },
     "execution_count": 114,
     "metadata": {},
     "output_type": "execute_result"
    }
   ],
   "source": [
    "oneExp = Forall([x],\n",
    "               Equals(Exponentiate(x,one),\n",
    "                      x),\n",
    "               domain = Complexes)\n",
    "oneExp"
   ]
  },
  {
   "cell_type": "code",
   "execution_count": 115,
   "metadata": {
    "collapsed": false
   },
   "outputs": [
    {
     "data": {
      "text/plain": [
       "$\\forall_{ x  \\in \\mathbb{C}} \\left(\\left(1^{x}\\right) = 1\\right)$"
      ]
     },
     "execution_count": 115,
     "metadata": {},
     "output_type": "execute_result"
    }
   ],
   "source": [
    "expOne = Forall([x],\n",
    "               Equals(Exponentiate(one,x),\n",
    "                     one),\n",
    "               domain = Complexes)\n",
    "expOne"
   ]
  },
  {
   "cell_type": "code",
   "execution_count": 116,
   "metadata": {
    "collapsed": false
   },
   "outputs": [
    {
     "data": {
      "text/plain": [
       "$\\forall_{ x , y , z  \\in \\mathbb{C}} \\left(\\left( \\left(x^{y}\\right) \\cdot \\left(z^{y}\\right) \\right) = \\left(\\left( x \\cdot z \\right)^{y}\\right)\\right)$"
      ]
     },
     "execution_count": 116,
     "metadata": {},
     "output_type": "execute_result"
    }
   ],
   "source": [
    "samePowDistribute = Forall([x,y,z],\n",
    "                            Equals(Multiply(Exponentiate(x,y),Exponentiate(z,y)),\n",
    "                                 Exponentiate(Multiply(x,z),y)),\n",
    "                            domain = Complexes)\n",
    "samePowDistribute"
   ]
  },
  {
   "cell_type": "code",
   "execution_count": 117,
   "metadata": {
    "collapsed": false
   },
   "outputs": [
    {
     "data": {
      "text/plain": [
       "$\\forall_{ a , b  \\in \\mathbb{C}} \\left(\\left( a + \\left(b - b\\right) \\right) = a\\right)$"
      ]
     },
     "execution_count": 117,
     "metadata": {},
     "output_type": "execute_result"
    }
   ],
   "source": [
    "cancelAddition = Forall([a,b],\n",
    "                        Equals(Add(a, Subtract(b,b)), a),\n",
    "                       domain=Complexes)\n",
    "cancelAddition"
   ]
  },
  {
   "cell_type": "code",
   "execution_count": 118,
   "metadata": {
    "collapsed": false
   },
   "outputs": [
    {
     "data": {
      "text/plain": [
       "$\\forall_{ a , b  \\in \\mathbb{C}} \\left(\\left(\\left(a - \\left(-b\\right)\\right) - b\\right) = a\\right)$"
      ]
     },
     "execution_count": 118,
     "metadata": {},
     "output_type": "execute_result"
    }
   ],
   "source": [
    "cancelSubAndAdd = Forall([a,b],\n",
    "                         Equals(Subtract(Subtract(a,Neg(b)), b), a),\n",
    "                        domain=Complexes)\n",
    "cancelSubAndAdd"
   ]
  },
  {
   "cell_type": "code",
   "execution_count": 119,
   "metadata": {
    "collapsed": false
   },
   "outputs": [
    {
     "data": {
      "text/plain": [
       "$\\forall_{ a , b  \\in \\mathbb{C}} \\left(\\left( \\left(a - b\\right) + b \\right) = a\\right)$"
      ]
     },
     "execution_count": 119,
     "metadata": {},
     "output_type": "execute_result"
    }
   ],
   "source": [
    "cancelSubThenAdd = Forall([a,b],\n",
    "                        Equals(Add(Subtract(a,b), b), a),\n",
    "                       domain=Complexes)\n",
    "cancelSubThenAdd"
   ]
  },
  {
   "cell_type": "code",
   "execution_count": 120,
   "metadata": {
    "collapsed": false
   },
   "outputs": [
    {
     "data": {
      "text/plain": [
       "$\\forall_{ a  \\in \\mathbb{C}} \\left(\\left(-\\left(-a\\right)\\right) = a\\right)$"
      ]
     },
     "execution_count": 120,
     "metadata": {},
     "output_type": "execute_result"
    }
   ],
   "source": [
    "negNeg = Forall([a],\n",
    "                 Equals(Neg(Neg(a)), a),\n",
    "                domain=Complexes)\n",
    "negNeg"
   ]
  },
  {
   "cell_type": "code",
   "execution_count": 121,
   "metadata": {
    "collapsed": false
   },
   "outputs": [
    {
     "data": {
      "text/plain": [
       "$\\left(-0\\right) = 0$"
      ]
     },
     "execution_count": 121,
     "metadata": {},
     "output_type": "execute_result"
    }
   ],
   "source": [
    "negZero = Equals(Neg(zero), zero)\n",
    "negZero"
   ]
  },
  {
   "cell_type": "code",
   "execution_count": 122,
   "metadata": {
    "collapsed": false
   },
   "outputs": [
    {
     "data": {
      "text/plain": [
       "$\\forall_{ a , b  \\in \\mathbb{C}} \\left(\\left( \\left( a + b \\right) + \\left(-b\\right) \\right) = a\\right)$"
      ]
     },
     "execution_count": 122,
     "metadata": {},
     "output_type": "execute_result"
    }
   ],
   "source": [
    "cancelAddNeg = Forall([a,b],\n",
    "                      Equals(Add(Add(a,b),Neg(b)), a),\n",
    "                      domain=Complexes)\n",
    "cancelAddNeg"
   ]
  },
  {
   "cell_type": "code",
   "execution_count": 123,
   "metadata": {
    "collapsed": false
   },
   "outputs": [
    {
     "data": {
      "text/plain": [
       "$\\forall_{ a , b  \\in \\mathbb{C}} \\left(\\left( a + \\left(-b\\right) \\right) = \\left(a - b\\right)\\right)$"
      ]
     },
     "execution_count": 123,
     "metadata": {},
     "output_type": "execute_result"
    }
   ],
   "source": [
    "convertAddNegToSub = Forall([a,b],\n",
    "                            Equals(Add(a,Neg(b)), Subtract(a,b)),\n",
    "                            domain=Complexes)\n",
    "convertAddNegToSub"
   ]
  },
  {
   "cell_type": "code",
   "execution_count": 124,
   "metadata": {
    "collapsed": false
   },
   "outputs": [
    {
     "data": {
      "text/plain": [
       "$\\forall_{ a  \\in \\mathbb{C}} \\left(\\left( \\left(a - 2\\right) + 1 \\right) = \\left(a - 1\\right)\\right)$"
      ]
     },
     "execution_count": 124,
     "metadata": {},
     "output_type": "execute_result"
    }
   ],
   "source": [
    "# special theorem for expediency\n",
    "subTwoAddOne = Forall(a, Equals(Add(Subtract(a, two), one),\n",
    "                               Subtract(a, one)),\n",
    "                     domain=Complexes)\n",
    "subTwoAddOne"
   ]
  },
  {
   "cell_type": "code",
   "execution_count": 125,
   "metadata": {
    "collapsed": false
   },
   "outputs": [
    {
     "data": {
      "text/plain": [
       "$\\forall_{ a , b  \\in \\mathbb{C}} \\left(\\left( a + \\left(b - a\\right) \\right) = b\\right)$"
      ]
     },
     "execution_count": 125,
     "metadata": {},
     "output_type": "execute_result"
    }
   ],
   "source": [
    "# special theorem for expediency\n",
    "outerCancel = Forall((a, b), Equals(Add(a, Subtract(b, a)),\n",
    "                                   b),\n",
    "                    domain=Complexes)\n",
    "outerCancel"
   ]
  },
  {
   "cell_type": "code",
   "execution_count": 126,
   "metadata": {
    "collapsed": false
   },
   "outputs": [
    {
     "data": {
      "text/plain": [
       "$\\forall_{ a  \\in \\mathbb{C}} \\left(\\left( a + a \\right) = \\left( 2 \\cdot a \\right)\\right)$"
      ]
     },
     "execution_count": 126,
     "metadata": {},
     "output_type": "execute_result"
    }
   ],
   "source": [
    "addTwice = Forall([a],\n",
    "                  Equals(Add(a,a), Multiply(two, a)),\n",
    "                 domain=Complexes)\n",
    "addTwice"
   ]
  },
  {
   "cell_type": "code",
   "execution_count": 127,
   "metadata": {
    "collapsed": false
   },
   "outputs": [
    {
     "data": {
      "text/plain": [
       "$\\forall_{ a  \\in \\mathbb{C}} \\left[\\forall_{ b  \\in \\mathbb{R}~|~ \\left(\\left|a\\right| \\leq b\\right) } \\left(\\left(\\left|a\\right|^{2}\\right) \\leq \\left(b^{2}\\right)\\right)\\right]$"
      ]
     },
     "execution_count": 127,
     "metadata": {},
     "output_type": "execute_result"
    }
   ],
   "source": [
    "squarePosIneq = Forall([a],\n",
    "                       Forall([b],\n",
    "                            LessThanEquals(Exponentiate(Abs(a),two),Exponentiate(b,two)),\n",
    "                            domain = Reals,\n",
    "                            conditions = (LessThanEquals(Abs(a),b),)),\n",
    "                       domain = Complexes)\n",
    "squarePosIneq"
   ]
  },
  {
   "cell_type": "code",
   "execution_count": 128,
   "metadata": {
    "collapsed": false
   },
   "outputs": [
    {
     "data": {
      "text/plain": [
       "$\\forall_{ a , b  \\in \\mathbb{C}} \\left(\\left(a \\neq b\\right) \\Leftrightarrow \\left(\\left(a - b\\right) \\neq 0\\right)\\right)$"
      ]
     },
     "execution_count": 128,
     "metadata": {},
     "output_type": "execute_result"
    }
   ],
   "source": [
    "notEq_iff_diffNotZero = Forall((a, b), Iff(NotEquals(a, b), NotEquals(Subtract(a, b), zero)), domain=Complexes)\n",
    "notEq_iff_diffNotZero"
   ]
  },
  {
   "cell_type": "code",
   "execution_count": 129,
   "metadata": {
    "collapsed": false
   },
   "outputs": [
    {
     "data": {
      "text/plain": [
       "$\\forall_{ x  \\in \\mathbb{C}} \\left(\\left(\\sum_{m=0}^{\\infty} \\left(x^{m}\\right)\\right) = \\frac{1}{1 - x}\\right)$"
      ]
     },
     "execution_count": 129,
     "metadata": {},
     "output_type": "execute_result"
    }
   ],
   "source": [
    "infGeomSum = Forall(x,Equals(Summation(m,Exponentiate(x,m),DiscreteContiguousSet(zero,infinity)), \n",
    "             Fraction(one,Subtract(one,x))),\n",
    "              domain=Complexes\n",
    "              )\n",
    "infGeomSum"
   ]
  },
  {
   "cell_type": "code",
   "execution_count": 130,
   "metadata": {
    "collapsed": false
   },
   "outputs": [
    {
     "data": {
      "text/plain": [
       "$\\forall_{ x , k , l ~|~ \\left(k \\in \\mathbb{Z}\\right) , \\left(l \\in \\mathbb{Z}\\right) , \\left(x \\in \\mathbb{C}\\right) , \\left(k < l\\right) } \\left(\\left(\\sum_{m=k}^{l} \\left(x^{m}\\right)\\right) = \\frac{\\left(x^{ l + 1 }\\right) - \\left(x^{k}\\right)}{x - 1}\\right)$"
      ]
     },
     "execution_count": 130,
     "metadata": {},
     "output_type": "execute_result"
    }
   ],
   "source": [
    "finGeomSum = Forall([x,k,l],\n",
    "                Equals(Summation(m,Exponentiate(x,m),DiscreteContiguousSet(k,l)), \n",
    "                 Fraction(Subtract(Exponentiate(x,Add(l,one)),Exponentiate(x,k)),Subtract(x,one))),\n",
    "                 conditions=[In(k,Integers),\n",
    "                  In(l,Integers),\n",
    "                  In(x,Complexes),\n",
    "                  LessThan(k,l)])\n",
    "finGeomSum"
   ]
  },
  {
   "cell_type": "code",
   "execution_count": 131,
   "metadata": {
    "collapsed": false
   },
   "outputs": [
    {
     "data": {
      "text/plain": [
       "$\\forall_{ f , g , R , S ~|~ \\left(\\left\\{g\\left( y \\right)\\right\\}_{ y  \\in S} = R\\right) } \\left(\\left[\\forall_{ a  \\in R} \\left(f\\left( a \\right) \\in \\mathbb{C}\\right)\\right] \\Rightarrow \\left(\\left[\\sum_{ x  \\in R} f\\left( x \\right)\\right] = \\left[\\sum_{ y  \\in S} f\\left( g\\left( y \\right) \\right)\\right]\\right)\\right)$"
      ]
     },
     "execution_count": 131,
     "metadata": {},
     "output_type": "execute_result"
    }
   ],
   "source": [
    "# Could also make such a theorem to apply whenever addition is communitive, not just Complexes.\n",
    "equivSums = Forall((f, g, R, S),\n",
    "                   Implies(Forall(a, In(fa, Complexes), domain=R),\n",
    "                           Equals(Summation(x, fx, domain=R),\n",
    "                                  Summation(y, Operation(f, gy), domain=S))),\n",
    "                  conditions=[Equals(SetOfAll(y, gy, domain=S), R)])\n",
    "equivSums"
   ]
  },
  {
   "cell_type": "code",
   "execution_count": 132,
   "metadata": {
    "collapsed": false
   },
   "outputs": [
    {
     "name": "stdout",
     "output_type": "stream",
     "text": [
      "Creating theorems *.dill and *.pv_it files in the __pv_it__ directory\n",
      "These theorems may be imported from proveit.number.complex.theorems\n"
     ]
    }
   ],
   "source": [
    "%end_theorems"
   ]
  },
  {
   "cell_type": "code",
   "execution_count": 133,
   "metadata": {
    "collapsed": false
   },
   "outputs": [
    {
     "name": "stdout",
     "output_type": "stream",
     "text": [
      "\\begin{tabular}{rl|l|l}\n",
      " & \\textbf{expression} & \\textbf{core type} & \\textbf{sub-expressions} \\\\\n",
      "\\hline\n",
      "0. & $\\forall_{~.., x_{\\Box} ,..~, y  \\in \\mathbb{C}~|~ \\left(y \\neq 0\\right) } \\left(\\left(~..+ \\frac{x_{\\Box}}{y} +..~\\right) = \\frac{~..+ x_{\\Box} +..~}{y}\\right)$ & Operation & \n",
      "$\\begin{array}{l}\n",
      "\\rm{operator}: 1 \\\\\n",
      "\\rm{operands}: 2 \\\\\n",
      "\\end{array}$ \\\\\n",
      "\\hline\n",
      "1. & $\\forall$ & Literal & \n",
      "\\\\\n",
      "\\hline\n",
      "2. & $\\left\\{ \\begin{array}{l}\n",
      "{\\rm domain}: \\mathbb{C}\\\\\n",
      "{\\rm instance\\_mapping}: \\left[\\left(..x_{\\Box}.., y\\right) \\rightarrow \\left\\{ \\begin{array}{l}\n",
      "{\\rm conditions}: \\left( \\left(y \\neq 0\\right) \\right)\\\\\n",
      "{\\rm instance\\_expression}: \\left(\\left(~..+ \\frac{x_{\\Box}}{y} +..~\\right) = \\frac{~..+ x_{\\Box} +..~}{y}\\right)\\\\\n",
      "\\end{array} \\right\\}\n",
      "\\right]\\\\\n",
      "\\end{array} \\right\\}\n",
      "$ & NamedExpressions & \n",
      "$\\begin{array}{l}\n",
      "\\rm{domain}: 3\\\\\n",
      "\\rm{instance\\_mapping}: 4\\\\\n",
      "\\end{array}$ \\\\\n",
      "\\hline\n",
      "3. & $\\mathbb{C}$ & Literal & \n",
      "\\\\\n",
      "\\hline\n",
      "4. & $\\left(..x_{\\Box}.., y\\right) \\rightarrow \\left\\{ \\begin{array}{l}\n",
      "{\\rm conditions}: \\left( \\left(y \\neq 0\\right) \\right)\\\\\n",
      "{\\rm instance\\_expression}: \\left(\\left(~..+ \\frac{x_{\\Box}}{y} +..~\\right) = \\frac{~..+ x_{\\Box} +..~}{y}\\right)\\\\\n",
      "\\end{array} \\right\\}\n",
      "$ & Lambda & \n",
      "$\\begin{array}{l}\n",
      "\\rm{arguments}: 5 \\\\\n",
      "\\rm{expression}: 6 \\\\\n",
      "\\end{array}$ \\\\\n",
      "\\hline\n",
      "5. & $\\left(~.., x_{\\Box} ,..~, y \\right)$ & ExpressionList & \n",
      "7, 8\\\\\n",
      "\\hline\n",
      "6. & $\\left\\{ \\begin{array}{l}\n",
      "{\\rm conditions}: \\left( \\left(y \\neq 0\\right) \\right)\\\\\n",
      "{\\rm instance\\_expression}: \\left(\\left(~..+ \\frac{x_{\\Box}}{y} +..~\\right) = \\frac{~..+ x_{\\Box} +..~}{y}\\right)\\\\\n",
      "\\end{array} \\right\\}\n",
      "$ & NamedExpressions & \n",
      "$\\begin{array}{l}\n",
      "\\rm{conditions}: 9\\\\\n",
      "\\rm{instance\\_expression}: 10\\\\\n",
      "\\end{array}$ \\\\\n",
      "\\hline\n",
      "7. & $..x_{\\Box}..$ & Bundle & \n",
      "11\\\\\n",
      "\\hline\n",
      "8. & $y$ & Variable & \n",
      "\\\\\n",
      "\\hline\n",
      "9. & $\\left( \\left(y \\neq 0\\right) \\right)$ & ExpressionList & \n",
      "12\\\\\n",
      "\\hline\n",
      "10. & $\\left(~..+ \\frac{x_{\\Box}}{y} +..~\\right) = \\frac{~..+ x_{\\Box} +..~}{y}$ & Operation & \n",
      "$\\begin{array}{l}\n",
      "\\rm{operator}: 13 \\\\\n",
      "\\rm{operands}: 14 \\\\\n",
      "\\end{array}$ \\\\\n",
      "\\hline\n",
      "11. & $x_{\\Box}$ & MultiVariable & \n",
      "15\\\\\n",
      "\\hline\n",
      "12. & $y \\neq 0$ & Operation & \n",
      "$\\begin{array}{l}\n",
      "\\rm{operator}: 16 \\\\\n",
      "\\rm{operands}: 17 \\\\\n",
      "\\end{array}$ \\\\\n",
      "\\hline\n",
      "13. & $=$ & Literal & \n",
      "\\\\\n",
      "\\hline\n",
      "14. & $\\left( \\left(~..+ \\frac{x_{\\Box}}{y} +..~\\right) , \\frac{~..+ x_{\\Box} +..~}{y} \\right)$ & ExpressionList & \n",
      "18, 19\\\\\n",
      "\\hline\n",
      "15. & $x$ & Variable & \n",
      "\\\\\n",
      "\\hline\n",
      "16. & $\\neq$ & Literal & \n",
      "\\\\\n",
      "\\hline\n",
      "17. & $\\left( y , 0 \\right)$ & ExpressionList & \n",
      "8, 20\\\\\n",
      "\\hline\n",
      "18. & $~..+ \\frac{x_{\\Box}}{y} +..~$ & Operation & \n",
      "$\\begin{array}{l}\n",
      "\\rm{operator}: 21 \\\\\n",
      "\\rm{operands}: 22 \\\\\n",
      "\\end{array}$ \\\\\n",
      "\\hline\n",
      "19. & $\\frac{~..+ x_{\\Box} +..~}{y}$ & Operation & \n",
      "$\\begin{array}{l}\n",
      "\\rm{operator}: 23 \\\\\n",
      "\\rm{operands}: 24 \\\\\n",
      "\\end{array}$ \\\\\n",
      "\\hline\n",
      "20. & $0$ & Literal & \n",
      "\\\\\n",
      "\\hline\n",
      "21. & $+$ & Literal & \n",
      "\\\\\n",
      "\\hline\n",
      "22. & $\\left(~.., \\frac{x_{\\Box}}{y} ,..~\\right)$ & ExpressionList & \n",
      "25\\\\\n",
      "\\hline\n",
      "23. & $FRACTION$ & Literal & \n",
      "\\\\\n",
      "\\hline\n",
      "24. & $\\left( \\left(~..+ x_{\\Box} +..~\\right) , y \\right)$ & ExpressionList & \n",
      "26, 8\\\\\n",
      "\\hline\n",
      "25. & $..\\frac{x_{\\Box}}{y}..$ & Bundle & \n",
      "27\\\\\n",
      "\\hline\n",
      "26. & $~..+ x_{\\Box} +..~$ & Operation & \n",
      "$\\begin{array}{l}\n",
      "\\rm{operator}: 21 \\\\\n",
      "\\rm{operands}: 28 \\\\\n",
      "\\end{array}$ \\\\\n",
      "\\hline\n",
      "27. & $\\frac{x_{\\Box}}{y}$ & Operation & \n",
      "$\\begin{array}{l}\n",
      "\\rm{operator}: 23 \\\\\n",
      "\\rm{operands}: 29 \\\\\n",
      "\\end{array}$ \\\\\n",
      "\\hline\n",
      "28. & $\\left(~.., x_{\\Box} ,..~\\right)$ & ExpressionList & \n",
      "7\\\\\n",
      "\\hline\n",
      "29. & $\\left( x_{\\Box} , y \\right)$ & ExpressionList & \n",
      "11, 8\\\\\n",
      "\\hline\n",
      "\\end{tabular}\n"
     ]
    }
   ],
   "source": [
    "distributeFractionThroughSumRev.showNestedSubExpressions()"
   ]
  },
  {
   "cell_type": "code",
   "execution_count": null,
   "metadata": {
    "collapsed": true
   },
   "outputs": [],
   "source": []
  }
 ],
 "metadata": {
  "kernelspec": {
   "display_name": "Python 2",
   "language": "python",
   "name": "python2"
  },
  "language_info": {
   "codemirror_mode": {
    "name": "ipython",
    "version": 2
   },
   "file_extension": ".py",
   "mimetype": "text/x-python",
   "name": "python",
   "nbconvert_exporter": "python",
   "pygments_lexer": "ipython2",
   "version": "2.7.10"
  }
 },
 "nbformat": 4,
 "nbformat_minor": 0
}
