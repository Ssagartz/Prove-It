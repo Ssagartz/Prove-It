{
 "cells": [
  {
   "cell_type": "code",
   "execution_count": 1,
   "metadata": {
    "collapsed": true
   },
   "outputs": [],
   "source": [
    "from proveit.basiclogic import And, Or, NotEquals, In, Singleton, Difference\n",
    "from proveit.number.common import *\n",
    "from proveit.basiclogic import Forall, Exists, Equals\n",
    "from proveit.number import LessThan, LessThanEquals, GreaterThan, GreaterThanEquals, Fraction, DiscreteContiguousSet\n",
    "from proveit.number import Add, Subtract, Multiply, Divide, Fraction, Abs, Exponentiate, Neg, Summation\n",
    "from proveit.multiExpression import Etcetera"
   ]
  },
  {
   "cell_type": "code",
   "execution_count": 2,
   "metadata": {
    "collapsed": true
   },
   "outputs": [],
   "source": [
    "assumptions={In(x, Complexes), In(y, Complexes), In(z, Complexes), In(w, Complexes), In(v, Complexes),\n",
    "            NotEquals(w, zero), In(a, Integers), In(b, Integers)}"
   ]
  },
  {
   "cell_type": "code",
   "execution_count": 3,
   "metadata": {
    "collapsed": false
   },
   "outputs": [
    {
     "data": {
      "text/latex": [
       "$\\left(x \\cdot y\\right) = \\left(x \\cdot y\\right)$"
      ],
      "text/plain": [
       "(x * y) = (x * y)"
      ]
     },
     "execution_count": 3,
     "metadata": {},
     "output_type": "execute_result"
    }
   ],
   "source": [
    "Multiply(x, y).factor(x, 'left', assumptions=assumptions).proven(assumptions)"
   ]
  },
  {
   "cell_type": "code",
   "execution_count": 4,
   "metadata": {
    "collapsed": false
   },
   "outputs": [
    {
     "data": {
      "text/latex": [
       "$\\left(x \\cdot y\\right) = \\left(y \\cdot x\\right)$"
      ],
      "text/plain": [
       "(x * y) = (y * x)"
      ]
     },
     "execution_count": 4,
     "metadata": {},
     "output_type": "execute_result"
    }
   ],
   "source": [
    "Multiply(x, y).factor(x, 'right', assumptions=assumptions).proven(assumptions)"
   ]
  },
  {
   "cell_type": "code",
   "execution_count": 5,
   "metadata": {
    "collapsed": false
   },
   "outputs": [
    {
     "data": {
      "text/latex": [
       "$\\left(x \\cdot y\\right) = \\left(y \\cdot x\\right)$"
      ],
      "text/plain": [
       "(x * y) = (y * x)"
      ]
     },
     "execution_count": 5,
     "metadata": {},
     "output_type": "execute_result"
    }
   ],
   "source": [
    "Multiply(x, y).factor(y, 'left', assumptions=assumptions).proven(assumptions)"
   ]
  },
  {
   "cell_type": "code",
   "execution_count": 6,
   "metadata": {
    "collapsed": false
   },
   "outputs": [
    {
     "data": {
      "text/latex": [
       "$\\left(x \\cdot y\\right) = \\left(x \\cdot y\\right)$"
      ],
      "text/plain": [
       "(x * y) = (x * y)"
      ]
     },
     "execution_count": 6,
     "metadata": {},
     "output_type": "execute_result"
    }
   ],
   "source": [
    "Multiply(x, y).factor(y, 'right', assumptions=assumptions).proven(assumptions)"
   ]
  },
  {
   "cell_type": "code",
   "execution_count": 7,
   "metadata": {
    "collapsed": false
   },
   "outputs": [
    {
     "data": {
      "text/latex": [
       "$\\left(x \\cdot y \\cdot z\\right) = \\left(x \\cdot y \\cdot z\\right)$"
      ],
      "text/plain": [
       "(x * y * z) = (x * y * z)"
      ]
     },
     "execution_count": 7,
     "metadata": {},
     "output_type": "execute_result"
    }
   ],
   "source": [
    "Multiply(x, y, z).factor(x, 'left', assumptions=assumptions).proven(assumptions)"
   ]
  },
  {
   "cell_type": "code",
   "execution_count": 8,
   "metadata": {
    "collapsed": false
   },
   "outputs": [
    {
     "data": {
      "text/latex": [
       "$\\left(x \\cdot y \\cdot z\\right) = \\left(x \\cdot \\left(y \\cdot z\\right)\\right)$"
      ],
      "text/plain": [
       "(x * y * z) = (x * (y * z))"
      ]
     },
     "execution_count": 8,
     "metadata": {},
     "output_type": "execute_result"
    }
   ],
   "source": [
    "Multiply(x, y, z).factor(x, 'left', groupRemainder=True, assumptions=assumptions).proven(assumptions)"
   ]
  },
  {
   "cell_type": "code",
   "execution_count": 9,
   "metadata": {
    "collapsed": false
   },
   "outputs": [
    {
     "data": {
      "text/latex": [
       "$\\left(x \\cdot y \\cdot z\\right) = \\left(y \\cdot z \\cdot x\\right)$"
      ],
      "text/plain": [
       "(x * y * z) = (y * z * x)"
      ]
     },
     "execution_count": 9,
     "metadata": {},
     "output_type": "execute_result"
    }
   ],
   "source": [
    "Multiply(x, y, z).factor(x, 'right', assumptions=assumptions).proven(assumptions)"
   ]
  },
  {
   "cell_type": "code",
   "execution_count": 10,
   "metadata": {
    "collapsed": false
   },
   "outputs": [
    {
     "data": {
      "text/latex": [
       "$\\left(x \\cdot y \\cdot z\\right) = \\left(\\left(y \\cdot z\\right) \\cdot x\\right)$"
      ],
      "text/plain": [
       "(x * y * z) = ((y * z) * x)"
      ]
     },
     "execution_count": 10,
     "metadata": {},
     "output_type": "execute_result"
    }
   ],
   "source": [
    "Multiply(x, y, z).factor(x, 'right', groupRemainder=True, assumptions=assumptions).proven(assumptions)"
   ]
  },
  {
   "cell_type": "code",
   "execution_count": 11,
   "metadata": {
    "collapsed": false
   },
   "outputs": [
    {
     "data": {
      "text/latex": [
       "$\\left(x \\cdot y \\cdot z\\right) = \\left(y \\cdot x \\cdot z\\right)$"
      ],
      "text/plain": [
       "(x * y * z) = (y * x * z)"
      ]
     },
     "execution_count": 11,
     "metadata": {},
     "output_type": "execute_result"
    }
   ],
   "source": [
    "Multiply(x, y, z).factor(y, 'left', assumptions=assumptions).proven(assumptions)"
   ]
  },
  {
   "cell_type": "code",
   "execution_count": 12,
   "metadata": {
    "collapsed": false
   },
   "outputs": [
    {
     "data": {
      "text/latex": [
       "$\\left(x \\cdot y \\cdot z\\right) = \\left(x \\cdot z \\cdot y\\right)$"
      ],
      "text/plain": [
       "(x * y * z) = (x * z * y)"
      ]
     },
     "execution_count": 12,
     "metadata": {},
     "output_type": "execute_result"
    }
   ],
   "source": [
    "Multiply(x, y, z).factor(y, 'right', assumptions=assumptions).proven(assumptions)"
   ]
  },
  {
   "cell_type": "code",
   "execution_count": 13,
   "metadata": {
    "collapsed": false
   },
   "outputs": [
    {
     "data": {
      "text/latex": [
       "$\\left(x \\cdot y \\cdot z\\right) = \\left(z \\cdot x \\cdot y\\right)$"
      ],
      "text/plain": [
       "(x * y * z) = (z * x * y)"
      ]
     },
     "execution_count": 13,
     "metadata": {},
     "output_type": "execute_result"
    }
   ],
   "source": [
    "Multiply(x, y, z).factor(z, 'left', assumptions=assumptions).proven(assumptions)"
   ]
  },
  {
   "cell_type": "code",
   "execution_count": 14,
   "metadata": {
    "collapsed": false
   },
   "outputs": [
    {
     "data": {
      "text/latex": [
       "$\\left(x \\cdot y \\cdot z\\right) = \\left(x \\cdot y \\cdot z\\right)$"
      ],
      "text/plain": [
       "(x * y * z) = (x * y * z)"
      ]
     },
     "execution_count": 14,
     "metadata": {},
     "output_type": "execute_result"
    }
   ],
   "source": [
    "Multiply(x, y, z).factor(z, 'right', assumptions=assumptions).proven(assumptions)"
   ]
  },
  {
   "cell_type": "code",
   "execution_count": 15,
   "metadata": {
    "collapsed": false
   },
   "outputs": [
    {
     "data": {
      "text/latex": [
       "$\\left(x \\cdot y \\cdot z\\right) = \\left(\\left(x \\cdot y\\right) \\cdot z\\right)$"
      ],
      "text/plain": [
       "(x * y * z) = ((x * y) * z)"
      ]
     },
     "execution_count": 15,
     "metadata": {},
     "output_type": "execute_result"
    }
   ],
   "source": [
    "Multiply(x, y, z).factor(Multiply(x, y), 'left', assumptions=assumptions).proven(assumptions)"
   ]
  },
  {
   "cell_type": "code",
   "execution_count": 16,
   "metadata": {
    "collapsed": false
   },
   "outputs": [
    {
     "data": {
      "text/latex": [
       "$\\left(x \\cdot y \\cdot z\\right) = \\left(z \\cdot \\left(x \\cdot y\\right)\\right)$"
      ],
      "text/plain": [
       "(x * y * z) = (z * (x * y))"
      ]
     },
     "execution_count": 16,
     "metadata": {},
     "output_type": "execute_result"
    }
   ],
   "source": [
    "Multiply(x, y, z).factor(Multiply(x, y), 'right', assumptions=assumptions).proven(assumptions)"
   ]
  },
  {
   "cell_type": "code",
   "execution_count": 17,
   "metadata": {
    "collapsed": false
   },
   "outputs": [
    {
     "data": {
      "text/latex": [
       "$\\left(x \\cdot y \\cdot z\\right) = \\left(\\left(y \\cdot z\\right) \\cdot x\\right)$"
      ],
      "text/plain": [
       "(x * y * z) = ((y * z) * x)"
      ]
     },
     "execution_count": 17,
     "metadata": {},
     "output_type": "execute_result"
    }
   ],
   "source": [
    "Multiply(x, y, z).factor(Multiply(y, z), 'left', assumptions=assumptions).proven(assumptions)"
   ]
  },
  {
   "cell_type": "code",
   "execution_count": 18,
   "metadata": {
    "collapsed": false
   },
   "outputs": [
    {
     "data": {
      "text/latex": [
       "$\\left(x \\cdot y \\cdot z\\right) = \\left(x \\cdot \\left(y \\cdot z\\right)\\right)$"
      ],
      "text/plain": [
       "(x * y * z) = (x * (y * z))"
      ]
     },
     "execution_count": 18,
     "metadata": {},
     "output_type": "execute_result"
    }
   ],
   "source": [
    "Multiply(x, y, z).factor(Multiply(y, z), 'right', assumptions=assumptions).proven(assumptions)"
   ]
  },
  {
   "cell_type": "code",
   "execution_count": 19,
   "metadata": {
    "collapsed": false
   },
   "outputs": [
    {
     "data": {
      "text/latex": [
       "$\\left(x \\cdot y \\cdot z \\cdot w\\right) = \\left(\\left(x \\cdot y\\right) \\cdot z \\cdot w\\right)$"
      ],
      "text/plain": [
       "(x * y * z * w) = ((x * y) * z * w)"
      ]
     },
     "execution_count": 19,
     "metadata": {},
     "output_type": "execute_result"
    }
   ],
   "source": [
    "Multiply(x, y, z, w).factor(Multiply(x, y), 'left', assumptions=assumptions).proven(assumptions)"
   ]
  },
  {
   "cell_type": "code",
   "execution_count": 20,
   "metadata": {
    "collapsed": false
   },
   "outputs": [
    {
     "data": {
      "text/latex": [
       "$\\left(x \\cdot y \\cdot z \\cdot w\\right) = \\left(z \\cdot w \\cdot \\left(x \\cdot y\\right)\\right)$"
      ],
      "text/plain": [
       "(x * y * z * w) = (z * w * (x * y))"
      ]
     },
     "execution_count": 20,
     "metadata": {},
     "output_type": "execute_result"
    }
   ],
   "source": [
    "Multiply(x, y, z, w).factor(Multiply(x, y), 'right', assumptions=assumptions).proven(assumptions)"
   ]
  },
  {
   "cell_type": "code",
   "execution_count": 21,
   "metadata": {
    "collapsed": false
   },
   "outputs": [
    {
     "data": {
      "text/latex": [
       "$\\left(x \\cdot y \\cdot z \\cdot w\\right) = \\left(\\left(y \\cdot z\\right) \\cdot x \\cdot w\\right)$"
      ],
      "text/plain": [
       "(x * y * z * w) = ((y * z) * x * w)"
      ]
     },
     "execution_count": 21,
     "metadata": {},
     "output_type": "execute_result"
    }
   ],
   "source": [
    "Multiply(x, y, z, w).factor(Multiply(y, z), 'left', assumptions=assumptions).proven(assumptions)"
   ]
  },
  {
   "cell_type": "code",
   "execution_count": 22,
   "metadata": {
    "collapsed": false
   },
   "outputs": [
    {
     "data": {
      "text/latex": [
       "$\\left(x \\cdot y \\cdot z \\cdot w\\right) = \\left(x \\cdot w \\cdot \\left(y \\cdot z\\right)\\right)$"
      ],
      "text/plain": [
       "(x * y * z * w) = (x * w * (y * z))"
      ]
     },
     "execution_count": 22,
     "metadata": {},
     "output_type": "execute_result"
    }
   ],
   "source": [
    "Multiply(x, y, z, w).factor(Multiply(y, z), 'right', assumptions=assumptions).proven(assumptions)"
   ]
  },
  {
   "cell_type": "code",
   "execution_count": 23,
   "metadata": {
    "collapsed": false
   },
   "outputs": [
    {
     "data": {
      "text/latex": [
       "$\\left(x \\cdot y \\cdot z \\cdot w\\right) = \\left(\\left(z \\cdot w\\right) \\cdot x \\cdot y\\right)$"
      ],
      "text/plain": [
       "(x * y * z * w) = ((z * w) * x * y)"
      ]
     },
     "execution_count": 23,
     "metadata": {},
     "output_type": "execute_result"
    }
   ],
   "source": [
    "Multiply(x, y, z, w).factor(Multiply(z, w), 'left', assumptions=assumptions).proven(assumptions)"
   ]
  },
  {
   "cell_type": "code",
   "execution_count": 24,
   "metadata": {
    "collapsed": false
   },
   "outputs": [
    {
     "data": {
      "text/latex": [
       "$\\left(x \\cdot y \\cdot z \\cdot w\\right) = \\left(\\left(z \\cdot w\\right) \\cdot \\left(x \\cdot y\\right)\\right)$"
      ],
      "text/plain": [
       "(x * y * z * w) = ((z * w) * (x * y))"
      ]
     },
     "execution_count": 24,
     "metadata": {},
     "output_type": "execute_result"
    }
   ],
   "source": [
    "Multiply(x, y, z, w).factor(Multiply(z, w), 'left', groupRemainder=True, assumptions=assumptions).proven(assumptions)"
   ]
  },
  {
   "cell_type": "code",
   "execution_count": 25,
   "metadata": {
    "collapsed": false
   },
   "outputs": [
    {
     "data": {
      "text/latex": [
       "$\\left(x \\cdot y \\cdot z \\cdot w\\right) = \\left(z \\cdot w \\cdot \\left(x \\cdot y\\right)\\right)$"
      ],
      "text/plain": [
       "(x * y * z * w) = (z * w * (x * y))"
      ]
     },
     "execution_count": 25,
     "metadata": {},
     "output_type": "execute_result"
    }
   ],
   "source": [
    "Multiply(x, y, z, w).factor(Multiply(z, w), 'left', groupFactor=False, groupRemainder=True, assumptions=assumptions).proven(assumptions)"
   ]
  },
  {
   "cell_type": "code",
   "execution_count": 26,
   "metadata": {
    "collapsed": false
   },
   "outputs": [
    {
     "data": {
      "text/latex": [
       "$\\left(x \\cdot y \\cdot z \\cdot w\\right) = \\left(x \\cdot y \\cdot \\left(z \\cdot w\\right)\\right)$"
      ],
      "text/plain": [
       "(x * y * z * w) = (x * y * (z * w))"
      ]
     },
     "execution_count": 26,
     "metadata": {},
     "output_type": "execute_result"
    }
   ],
   "source": [
    "Multiply(x, y, z, w).factor(Multiply(z, w), 'right', assumptions=assumptions).proven(assumptions)"
   ]
  },
  {
   "cell_type": "code",
   "execution_count": 27,
   "metadata": {
    "collapsed": false
   },
   "outputs": [
    {
     "data": {
      "text/latex": [
       "$\\left(x \\cdot y \\cdot z \\cdot w\\right) = \\left(\\left(x \\cdot y\\right) \\cdot \\left(z \\cdot w\\right)\\right)$"
      ],
      "text/plain": [
       "(x * y * z * w) = ((x * y) * (z * w))"
      ]
     },
     "execution_count": 27,
     "metadata": {},
     "output_type": "execute_result"
    }
   ],
   "source": [
    "Multiply(x, y, z, w).factor(Multiply(z, w), 'right', groupRemainder=True, assumptions=assumptions).proven(assumptions)"
   ]
  },
  {
   "cell_type": "code",
   "execution_count": 28,
   "metadata": {
    "collapsed": false
   },
   "outputs": [
    {
     "data": {
      "text/latex": [
       "$\\left(x \\cdot y \\cdot z \\cdot w\\right) = \\left(\\left(x \\cdot y\\right) \\cdot z \\cdot w\\right)$"
      ],
      "text/plain": [
       "(x * y * z * w) = ((x * y) * z * w)"
      ]
     },
     "execution_count": 28,
     "metadata": {},
     "output_type": "execute_result"
    }
   ],
   "source": [
    "Multiply(x, y, z, w).factor(Multiply(z, w), 'right', groupFactor=False, groupRemainder=True, assumptions=assumptions).proven(assumptions)"
   ]
  },
  {
   "cell_type": "code",
   "execution_count": 29,
   "metadata": {
    "collapsed": false
   },
   "outputs": [
    {
     "data": {
      "text/latex": [
       "$\\left(x \\cdot y \\cdot z \\cdot w\\right) = \\left(\\left(x \\cdot y \\cdot z\\right) \\cdot w\\right)$"
      ],
      "text/plain": [
       "(x * y * z * w) = ((x * y * z) * w)"
      ]
     },
     "execution_count": 29,
     "metadata": {},
     "output_type": "execute_result"
    }
   ],
   "source": [
    "Multiply(x, y, z, w).factor(Multiply(x, y, z), 'left', assumptions=assumptions).proven(assumptions)"
   ]
  },
  {
   "cell_type": "code",
   "execution_count": 30,
   "metadata": {
    "collapsed": false
   },
   "outputs": [
    {
     "data": {
      "text/latex": [
       "$\\left(x \\cdot y \\cdot z \\cdot w\\right) = \\left(w \\cdot \\left(x \\cdot y \\cdot z\\right)\\right)$"
      ],
      "text/plain": [
       "(x * y * z * w) = (w * (x * y * z))"
      ]
     },
     "execution_count": 30,
     "metadata": {},
     "output_type": "execute_result"
    }
   ],
   "source": [
    "Multiply(x, y, z, w).factor(Multiply(x, y, z), 'right', assumptions=assumptions).proven(assumptions)"
   ]
  },
  {
   "cell_type": "code",
   "execution_count": 31,
   "metadata": {
    "collapsed": false
   },
   "outputs": [
    {
     "data": {
      "text/latex": [
       "$\\left(x \\cdot y \\cdot z \\cdot w\\right) = \\left(\\left(y \\cdot z \\cdot w\\right) \\cdot x\\right)$"
      ],
      "text/plain": [
       "(x * y * z * w) = ((y * z * w) * x)"
      ]
     },
     "execution_count": 31,
     "metadata": {},
     "output_type": "execute_result"
    }
   ],
   "source": [
    "Multiply(x, y, z, w).factor(Multiply(y, z, w), 'left', assumptions=assumptions).proven(assumptions)"
   ]
  },
  {
   "cell_type": "code",
   "execution_count": 32,
   "metadata": {
    "collapsed": false
   },
   "outputs": [
    {
     "data": {
      "text/latex": [
       "$\\left(x \\cdot y \\cdot z \\cdot w\\right) = \\left(x \\cdot \\left(y \\cdot z \\cdot w\\right)\\right)$"
      ],
      "text/plain": [
       "(x * y * z * w) = (x * (y * z * w))"
      ]
     },
     "execution_count": 32,
     "metadata": {},
     "output_type": "execute_result"
    }
   ],
   "source": [
    "Multiply(x, y, z, w).factor(Multiply(y, z, w), 'right', assumptions=assumptions).proven(assumptions)"
   ]
  },
  {
   "cell_type": "code",
   "execution_count": 33,
   "metadata": {
    "collapsed": false
   },
   "outputs": [
    {
     "data": {
      "text/latex": [
       "$\\frac{x \\cdot y \\cdot z}{w} = \\left(x \\cdot \\frac{y \\cdot z}{w}\\right)$"
      ],
      "text/plain": [
       "(x * y * z) / w = (x * (y * z) / w)"
      ]
     },
     "execution_count": 33,
     "metadata": {},
     "output_type": "execute_result"
    }
   ],
   "source": [
    "Fraction(Multiply(x, y, z), w).factor(x, 'left', assumptions=assumptions).proven(assumptions)"
   ]
  },
  {
   "cell_type": "code",
   "execution_count": 34,
   "metadata": {
    "collapsed": false
   },
   "outputs": [
    {
     "data": {
      "text/latex": [
       "$\\frac{x \\cdot y \\cdot z}{w} = \\left(z \\cdot \\frac{x \\cdot y}{w}\\right)$"
      ],
      "text/plain": [
       "(x * y * z) / w = (z * (x * y) / w)"
      ]
     },
     "execution_count": 34,
     "metadata": {},
     "output_type": "execute_result"
    }
   ],
   "source": [
    "Fraction(Multiply(x, y, z), w).factor(z, 'left', assumptions=assumptions).proven(assumptions)"
   ]
  },
  {
   "cell_type": "code",
   "execution_count": 35,
   "metadata": {
    "collapsed": false
   },
   "outputs": [
    {
     "data": {
      "text/latex": [
       "$\\frac{x \\cdot y \\cdot z}{w} = \\left(\\frac{y \\cdot z}{w} \\cdot x\\right)$"
      ],
      "text/plain": [
       "(x * y * z) / w = ((y * z) / w * x)"
      ]
     },
     "execution_count": 35,
     "metadata": {},
     "output_type": "execute_result"
    }
   ],
   "source": [
    "Fraction(Multiply(x, y, z), w).factor(x, 'right', assumptions=assumptions).proven(assumptions)"
   ]
  },
  {
   "cell_type": "code",
   "execution_count": 36,
   "metadata": {
    "collapsed": false
   },
   "outputs": [
    {
     "data": {
      "text/latex": [
       "$\\frac{x \\cdot y \\cdot z}{w} = \\left(x \\cdot y \\cdot \\frac{z}{w}\\right)$"
      ],
      "text/plain": [
       "(x * y * z) / w = (x * y * z / w)"
      ]
     },
     "execution_count": 36,
     "metadata": {},
     "output_type": "execute_result"
    }
   ],
   "source": [
    "Fraction(Multiply(x, y, z), w).factor(Multiply(x, y), 'left', assumptions=assumptions).proven(assumptions)"
   ]
  },
  {
   "cell_type": "code",
   "execution_count": 37,
   "metadata": {
    "collapsed": false
   },
   "outputs": [
    {
     "data": {
      "text/latex": [
       "$\\frac{x \\cdot y \\cdot z}{w} = \\left(\\left(x \\cdot y\\right) \\cdot \\frac{z}{w}\\right)$"
      ],
      "text/plain": [
       "(x * y * z) / w = ((x * y) * z / w)"
      ]
     },
     "execution_count": 37,
     "metadata": {},
     "output_type": "execute_result"
    }
   ],
   "source": [
    "Fraction(Multiply(x, y, z), w).factor(Multiply(x, y), 'left', groupFactor=True, assumptions=assumptions).proven(assumptions)"
   ]
  },
  {
   "cell_type": "code",
   "execution_count": 38,
   "metadata": {
    "collapsed": false
   },
   "outputs": [
    {
     "data": {
      "text/latex": [
       "$\\frac{x \\cdot y \\cdot z}{w} = \\left(\\frac{z}{w} \\cdot x \\cdot y\\right)$"
      ],
      "text/plain": [
       "(x * y * z) / w = (z / w * x * y)"
      ]
     },
     "execution_count": 38,
     "metadata": {},
     "output_type": "execute_result"
    }
   ],
   "source": [
    "Fraction(Multiply(x, y, z), w).factor(Multiply(x, y), 'right', assumptions=assumptions).proven(assumptions)"
   ]
  },
  {
   "cell_type": "code",
   "execution_count": 39,
   "metadata": {
    "collapsed": false
   },
   "outputs": [
    {
     "data": {
      "text/latex": [
       "$\\frac{x \\cdot y \\cdot z}{w} = \\left(\\frac{z}{w} \\cdot \\left(x \\cdot y\\right)\\right)$"
      ],
      "text/plain": [
       "(x * y * z) / w = (z / w * (x * y))"
      ]
     },
     "execution_count": 39,
     "metadata": {},
     "output_type": "execute_result"
    }
   ],
   "source": [
    "Fraction(Multiply(x, y, z), w).factor(Multiply(x, y), 'right', groupFactor=True, assumptions=assumptions).proven(assumptions)"
   ]
  },
  {
   "cell_type": "code",
   "execution_count": 40,
   "metadata": {
    "collapsed": false
   },
   "outputs": [
    {
     "data": {
      "text/latex": [
       "$\\frac{x \\cdot y \\cdot z}{w} = \\left(y \\cdot z \\cdot \\frac{x}{w}\\right)$"
      ],
      "text/plain": [
       "(x * y * z) / w = (y * z * x / w)"
      ]
     },
     "execution_count": 40,
     "metadata": {},
     "output_type": "execute_result"
    }
   ],
   "source": [
    "Fraction(Multiply(x, y, z), w).factor(Multiply(y, z), 'left', assumptions=assumptions).proven(assumptions)"
   ]
  },
  {
   "cell_type": "code",
   "execution_count": 41,
   "metadata": {
    "collapsed": false
   },
   "outputs": [
    {
     "data": {
      "text/latex": [
       "$\\frac{x \\cdot y \\cdot z}{w} = \\left(\\left(y \\cdot z\\right) \\cdot \\frac{x}{w}\\right)$"
      ],
      "text/plain": [
       "(x * y * z) / w = ((y * z) * x / w)"
      ]
     },
     "execution_count": 41,
     "metadata": {},
     "output_type": "execute_result"
    }
   ],
   "source": [
    "Fraction(Multiply(x, y, z), w).factor(Multiply(y, z), 'left', groupFactor=True, assumptions=assumptions).proven(assumptions)"
   ]
  },
  {
   "cell_type": "code",
   "execution_count": 42,
   "metadata": {
    "collapsed": false
   },
   "outputs": [
    {
     "data": {
      "text/latex": [
       "$\\frac{x \\cdot y \\cdot z}{w} = \\left(\\frac{x}{w} \\cdot y \\cdot z\\right)$"
      ],
      "text/plain": [
       "(x * y * z) / w = (x / w * y * z)"
      ]
     },
     "execution_count": 42,
     "metadata": {},
     "output_type": "execute_result"
    }
   ],
   "source": [
    "Fraction(Multiply(x, y, z), w).factor(Multiply(y, z), 'right', assumptions=assumptions).proven(assumptions)"
   ]
  },
  {
   "cell_type": "code",
   "execution_count": 43,
   "metadata": {
    "collapsed": false
   },
   "outputs": [
    {
     "data": {
      "text/latex": [
       "$\\frac{x \\cdot y \\cdot z}{w} = \\left(\\frac{x}{w} \\cdot \\left(y \\cdot z\\right)\\right)$"
      ],
      "text/plain": [
       "(x * y * z) / w = (x / w * (y * z))"
      ]
     },
     "execution_count": 43,
     "metadata": {},
     "output_type": "execute_result"
    }
   ],
   "source": [
    "Fraction(Multiply(x, y, z), w).factor(Multiply(y, z), 'right', groupFactor=True, assumptions=assumptions).proven(assumptions)"
   ]
  },
  {
   "cell_type": "code",
   "execution_count": 44,
   "metadata": {
    "collapsed": false
   },
   "outputs": [
    {
     "data": {
      "text/latex": [
       "$\\frac{x \\cdot y \\cdot z}{w} = \\left(\\frac{x \\cdot y}{w} \\cdot z\\right)$"
      ],
      "text/plain": [
       "(x * y * z) / w = ((x * y) / w * z)"
      ]
     },
     "execution_count": 44,
     "metadata": {},
     "output_type": "execute_result"
    }
   ],
   "source": [
    "Fraction(Multiply(x, y, z), w).factor(z, 'right', assumptions=assumptions).proven(assumptions)"
   ]
  },
  {
   "cell_type": "code",
   "execution_count": 45,
   "metadata": {
    "collapsed": false
   },
   "outputs": [
    {
     "data": {
      "text/latex": [
       "$\\frac{x \\cdot y \\cdot z}{w \\cdot v} = \\left(\\frac{y}{v} \\cdot \\frac{x \\cdot z}{w}\\right)$"
      ],
      "text/plain": [
       "(x * y * z) / (w * v) = (y / v * (x * z) / w)"
      ]
     },
     "execution_count": 45,
     "metadata": {},
     "output_type": "execute_result"
    }
   ],
   "source": [
    "Fraction(Multiply(x, y, z), Multiply(w, v)).factor(Fraction(y, v), 'left', assumptions=assumptions).proven(assumptions)"
   ]
  },
  {
   "cell_type": "code",
   "execution_count": 46,
   "metadata": {
    "collapsed": false
   },
   "outputs": [
    {
     "data": {
      "text/latex": [
       "$\\frac{x \\cdot y \\cdot z}{w \\cdot v} = \\left(\\frac{x \\cdot z}{w} \\cdot \\frac{y}{v}\\right)$"
      ],
      "text/plain": [
       "(x * y * z) / (w * v) = ((x * z) / w * y / v)"
      ]
     },
     "execution_count": 46,
     "metadata": {},
     "output_type": "execute_result"
    }
   ],
   "source": [
    "Fraction(Multiply(x, y, z), Multiply(w, v)).factor(Fraction(y, v), 'right', assumptions=assumptions).proven(assumptions)"
   ]
  },
  {
   "cell_type": "code",
   "execution_count": 47,
   "metadata": {
    "collapsed": false
   },
   "outputs": [
    {
     "data": {
      "text/latex": [
       "$\\frac{x \\cdot y \\cdot z}{w \\cdot v} = \\left(\\frac{x}{w} \\cdot \\frac{y \\cdot z}{v}\\right)$"
      ],
      "text/plain": [
       "(x * y * z) / (w * v) = (x / w * (y * z) / v)"
      ]
     },
     "execution_count": 47,
     "metadata": {},
     "output_type": "execute_result"
    }
   ],
   "source": [
    "Fraction(Multiply(x, y, z), Multiply(w, v)).factor(Fraction(x, w), 'left', assumptions=assumptions).proven(assumptions)"
   ]
  },
  {
   "cell_type": "code",
   "execution_count": 48,
   "metadata": {
    "collapsed": false
   },
   "outputs": [
    {
     "data": {
      "text/latex": [
       "$\\frac{x \\cdot y \\cdot z}{w \\cdot v} = \\left(\\frac{y \\cdot z}{v} \\cdot \\frac{x}{w}\\right)$"
      ],
      "text/plain": [
       "(x * y * z) / (w * v) = ((y * z) / v * x / w)"
      ]
     },
     "execution_count": 48,
     "metadata": {},
     "output_type": "execute_result"
    }
   ],
   "source": [
    "Fraction(Multiply(x, y, z), Multiply(w, v)).factor(Fraction(x, w), 'right', assumptions=assumptions).proven(assumptions)"
   ]
  },
  {
   "cell_type": "code",
   "execution_count": 49,
   "metadata": {
    "collapsed": false
   },
   "outputs": [
    {
     "data": {
      "text/latex": [
       "$\\frac{x}{w \\cdot y \\cdot z} = \\left(\\frac{1}{z} \\cdot \\frac{x}{w \\cdot y}\\right)$"
      ],
      "text/plain": [
       "x / (w * y * z) = (1 / z * x / (w * y))"
      ]
     },
     "execution_count": 49,
     "metadata": {},
     "output_type": "execute_result"
    }
   ],
   "source": [
    "Fraction(x, Multiply(w, y, z)).factor(Fraction(one, z), 'left', assumptions=assumptions).proven(assumptions)"
   ]
  },
  {
   "cell_type": "code",
   "execution_count": 50,
   "metadata": {
    "collapsed": false
   },
   "outputs": [
    {
     "data": {
      "text/latex": [
       "$\\frac{x}{w \\cdot y \\cdot z} = \\left(\\frac{x}{w \\cdot y} \\cdot \\frac{1}{z}\\right)$"
      ],
      "text/plain": [
       "x / (w * y * z) = (x / (w * y) * 1 / z)"
      ]
     },
     "execution_count": 50,
     "metadata": {},
     "output_type": "execute_result"
    }
   ],
   "source": [
    "Fraction(x, Multiply(w, y, z)).factor(Fraction(one, z), 'right', assumptions=assumptions).proven(assumptions)"
   ]
  },
  {
   "cell_type": "code",
   "execution_count": 51,
   "metadata": {
    "collapsed": false
   },
   "outputs": [
    {
     "data": {
      "text/latex": [
       "$\\frac{x}{w \\cdot y \\cdot z} = \\left(\\frac{x}{w \\cdot z} \\cdot \\frac{1}{y}\\right)$"
      ],
      "text/plain": [
       "x / (w * y * z) = (x / (w * z) * 1 / y)"
      ]
     },
     "execution_count": 51,
     "metadata": {},
     "output_type": "execute_result"
    }
   ],
   "source": [
    "Fraction(x, Multiply(w, y, z)).factor(Fraction(one, y), 'right', assumptions=assumptions).proven(assumptions)"
   ]
  },
  {
   "cell_type": "code",
   "execution_count": 52,
   "metadata": {
    "collapsed": false
   },
   "outputs": [
    {
     "data": {
      "text/latex": [
       "$\\left(-\\left(x \\cdot y \\cdot z\\right)\\right) = \\left(\\left(-\\left(x \\cdot z\\right)\\right) \\cdot y\\right)$"
      ],
      "text/plain": [
       "(-(x * y * z)) = ((-(x * z)) * y)"
      ]
     },
     "execution_count": 52,
     "metadata": {},
     "output_type": "execute_result"
    }
   ],
   "source": [
    "Neg(Multiply(x, y, z)).factor(y, 'right', assumptions=assumptions).proven(assumptions)"
   ]
  },
  {
   "cell_type": "code",
   "execution_count": 53,
   "metadata": {
    "collapsed": false
   },
   "outputs": [
    {
     "data": {
      "text/latex": [
       "$\\left(-\\left(x \\cdot y \\cdot z\\right)\\right) = \\left(y \\cdot \\left(-\\left(x \\cdot z\\right)\\right)\\right)$"
      ],
      "text/plain": [
       "(-(x * y * z)) = (y * (-(x * z)))"
      ]
     },
     "execution_count": 53,
     "metadata": {},
     "output_type": "execute_result"
    }
   ],
   "source": [
    "Neg(Multiply(x, y, z)).factor(y, 'left', assumptions=assumptions).proven(assumptions)"
   ]
  },
  {
   "cell_type": "code",
   "execution_count": 54,
   "metadata": {
    "collapsed": false
   },
   "outputs": [
    {
     "data": {
      "text/latex": [
       "$\\left(-\\left(x \\cdot y \\cdot z\\right)\\right) = \\left(\\left(-y\\right) \\cdot \\left(x \\cdot z\\right)\\right)$"
      ],
      "text/plain": [
       "(-(x * y * z)) = ((-y) * (x * z))"
      ]
     },
     "execution_count": 54,
     "metadata": {},
     "output_type": "execute_result"
    }
   ],
   "source": [
    "Neg(Multiply(x, y, z)).factor(Neg(y), 'left', assumptions=assumptions).proven(assumptions)"
   ]
  },
  {
   "cell_type": "code",
   "execution_count": 55,
   "metadata": {
    "collapsed": false
   },
   "outputs": [
    {
     "data": {
      "text/latex": [
       "$\\left(-\\left(x \\cdot y \\cdot z\\right)\\right) = \\left(\\left(x \\cdot z\\right) \\cdot \\left(-y\\right)\\right)$"
      ],
      "text/plain": [
       "(-(x * y * z)) = ((x * z) * (-y))"
      ]
     },
     "execution_count": 55,
     "metadata": {},
     "output_type": "execute_result"
    }
   ],
   "source": [
    "Neg(Multiply(x, y, z)).factor(Neg(y), 'right', assumptions=assumptions).proven(assumptions)"
   ]
  },
  {
   "cell_type": "code",
   "execution_count": 56,
   "metadata": {
    "collapsed": false
   },
   "outputs": [
    {
     "data": {
      "text/latex": [
       "$\\left(-\\left(x \\cdot y \\cdot z\\right)\\right) = \\left(z \\cdot \\left(-\\left(x \\cdot y\\right)\\right)\\right)$"
      ],
      "text/plain": [
       "(-(x * y * z)) = (z * (-(x * y)))"
      ]
     },
     "execution_count": 56,
     "metadata": {},
     "output_type": "execute_result"
    }
   ],
   "source": [
    "Neg(Multiply(x, y, z)).factor(z, 'left', assumptions=assumptions).proven(assumptions)"
   ]
  },
  {
   "cell_type": "code",
   "execution_count": 57,
   "metadata": {
    "collapsed": false
   },
   "outputs": [
    {
     "data": {
      "text/latex": [
       "$\\left(-\\left(x \\cdot y \\cdot z\\right)\\right) = \\left(\\left(-z\\right) \\cdot \\left(x \\cdot y\\right)\\right)$"
      ],
      "text/plain": [
       "(-(x * y * z)) = ((-z) * (x * y))"
      ]
     },
     "execution_count": 57,
     "metadata": {},
     "output_type": "execute_result"
    }
   ],
   "source": [
    "Neg(Multiply(x, y, z)).factor(Neg(z), 'left', assumptions=assumptions).proven(assumptions)"
   ]
  },
  {
   "cell_type": "code",
   "execution_count": 58,
   "metadata": {
    "collapsed": false
   },
   "outputs": [
    {
     "data": {
      "text/latex": [
       "$\\left(-\\left(x \\cdot y \\cdot z\\right)\\right) = \\left(\\left(-x\\right) \\cdot \\left(y \\cdot z\\right)\\right)$"
      ],
      "text/plain": [
       "(-(x * y * z)) = ((-x) * (y * z))"
      ]
     },
     "execution_count": 58,
     "metadata": {},
     "output_type": "execute_result"
    }
   ],
   "source": [
    "Neg(Multiply(x, y, z)).factor(Neg(x), 'left', assumptions=assumptions).proven(assumptions)"
   ]
  },
  {
   "cell_type": "code",
   "execution_count": 59,
   "metadata": {
    "collapsed": false
   },
   "outputs": [
    {
     "data": {
      "text/latex": [
       "$\\left(-\\left(x \\cdot y \\cdot z\\right)\\right) = \\left(\\left(y \\cdot z\\right) \\cdot \\left(-x\\right)\\right)$"
      ],
      "text/plain": [
       "(-(x * y * z)) = ((y * z) * (-x))"
      ]
     },
     "execution_count": 59,
     "metadata": {},
     "output_type": "execute_result"
    }
   ],
   "source": [
    "Neg(Multiply(x, y, z)).factor(Neg(x), 'right', assumptions=assumptions).proven(assumptions)"
   ]
  },
  {
   "cell_type": "code",
   "execution_count": 60,
   "metadata": {
    "collapsed": false
   },
   "outputs": [
    {
     "data": {
      "text/latex": [
       "$\\left(\\left(x \\cdot y\\right) - \\left(x \\cdot z\\right)\\right) = \\left(x \\cdot \\left(y - z\\right)\\right)$"
      ],
      "text/plain": [
       "((x * y) - (x * z)) = (x * (y - z))"
      ]
     },
     "execution_count": 60,
     "metadata": {},
     "output_type": "execute_result"
    }
   ],
   "source": [
    "Subtract(Multiply(x, y), Multiply(x, z)).factor(x, 'left', assumptions=assumptions).proven(assumptions)"
   ]
  },
  {
   "cell_type": "code",
   "execution_count": 61,
   "metadata": {
    "collapsed": false
   },
   "outputs": [
    {
     "data": {
      "text/latex": [
       "$\\left(\\left(x \\cdot y\\right) - \\left(x \\cdot z\\right)\\right) = \\left(\\left(y - z\\right) \\cdot x\\right)$"
      ],
      "text/plain": [
       "((x * y) - (x * z)) = ((y - z) * x)"
      ]
     },
     "execution_count": 61,
     "metadata": {},
     "output_type": "execute_result"
    }
   ],
   "source": [
    "Subtract(Multiply(x, y), Multiply(x, z)).factor(x, 'right', assumptions=assumptions).proven(assumptions)"
   ]
  },
  {
   "cell_type": "code",
   "execution_count": 62,
   "metadata": {
    "collapsed": false
   },
   "outputs": [
    {
     "data": {
      "text/latex": [
       "$\\left(\\left(x \\cdot z\\right) - \\left(y \\cdot z\\right)\\right) = \\left(z \\cdot \\left(x - y\\right)\\right)$"
      ],
      "text/plain": [
       "((x * z) - (y * z)) = (z * (x - y))"
      ]
     },
     "execution_count": 62,
     "metadata": {},
     "output_type": "execute_result"
    }
   ],
   "source": [
    "Subtract(Multiply(x, z), Multiply(y, z)).factor(z, 'left', assumptions=assumptions).proven(assumptions)"
   ]
  },
  {
   "cell_type": "code",
   "execution_count": 63,
   "metadata": {
    "collapsed": false
   },
   "outputs": [
    {
     "data": {
      "text/latex": [
       "$\\left(\\left(x \\cdot z\\right) - \\left(y \\cdot z\\right)\\right) = \\left(\\left(x - y\\right) \\cdot z\\right)$"
      ],
      "text/plain": [
       "((x * z) - (y * z)) = ((x - y) * z)"
      ]
     },
     "execution_count": 63,
     "metadata": {},
     "output_type": "execute_result"
    }
   ],
   "source": [
    "Subtract(Multiply(x, z), Multiply(y, z)).factor(z, 'right', assumptions=assumptions).proven(assumptions)"
   ]
  },
  {
   "cell_type": "code",
   "execution_count": 64,
   "metadata": {
    "collapsed": false
   },
   "outputs": [
    {
     "data": {
      "text/latex": [
       "$\\left(\\left(x \\cdot y \\cdot z\\right) - \\left(w \\cdot y \\cdot z\\right)\\right) = \\left(z \\cdot \\left(\\left(x \\cdot y\\right) - \\left(w \\cdot y\\right)\\right)\\right)$"
      ],
      "text/plain": [
       "((x * y * z) - (w * y * z)) = (z * ((x * y) - (w * y)))"
      ]
     },
     "execution_count": 64,
     "metadata": {},
     "output_type": "execute_result"
    }
   ],
   "source": [
    "Subtract(Multiply(x, y, z), Multiply(w, y, z)).factor(z, 'left', assumptions=assumptions).proven(assumptions)"
   ]
  },
  {
   "cell_type": "code",
   "execution_count": 65,
   "metadata": {
    "collapsed": false
   },
   "outputs": [
    {
     "data": {
      "text/latex": [
       "$\\left(\\left(x \\cdot y \\cdot z\\right) - \\left(w \\cdot y \\cdot z\\right)\\right) = \\left(\\left(\\left(x \\cdot y\\right) - \\left(w \\cdot y\\right)\\right) \\cdot z\\right)$"
      ],
      "text/plain": [
       "((x * y * z) - (w * y * z)) = (((x * y) - (w * y)) * z)"
      ]
     },
     "execution_count": 65,
     "metadata": {},
     "output_type": "execute_result"
    }
   ],
   "source": [
    "Subtract(Multiply(x, y, z), Multiply(w, y, z)).factor(z, 'right', assumptions=assumptions).proven(assumptions)"
   ]
  },
  {
   "cell_type": "code",
   "execution_count": 66,
   "metadata": {
    "collapsed": false
   },
   "outputs": [
    {
     "data": {
      "text/latex": [
       "$\\left(\\left(x \\cdot y \\cdot z\\right) - \\left(w \\cdot y \\cdot z\\right)\\right) = \\left(y \\cdot z \\cdot \\left(x - w\\right)\\right)$"
      ],
      "text/plain": [
       "((x * y * z) - (w * y * z)) = (y * z * (x - w))"
      ]
     },
     "execution_count": 66,
     "metadata": {},
     "output_type": "execute_result"
    }
   ],
   "source": [
    "Subtract(Multiply(x, y, z), Multiply(w, y, z)).factor(Multiply(y, z), 'left', assumptions=assumptions).proven(assumptions)"
   ]
  },
  {
   "cell_type": "code",
   "execution_count": 67,
   "metadata": {
    "collapsed": false
   },
   "outputs": [
    {
     "data": {
      "text/latex": [
       "$\\left(\\left(x \\cdot y \\cdot z\\right) - \\left(w \\cdot y \\cdot z\\right)\\right) = \\left(\\left(y \\cdot z\\right) \\cdot \\left(x - w\\right)\\right)$"
      ],
      "text/plain": [
       "((x * y * z) - (w * y * z)) = ((y * z) * (x - w))"
      ]
     },
     "execution_count": 67,
     "metadata": {},
     "output_type": "execute_result"
    }
   ],
   "source": [
    "Subtract(Multiply(x, y, z), Multiply(w, y, z)).factor(Multiply(y, z), 'left', groupFactor=True, assumptions=assumptions).proven(assumptions)"
   ]
  },
  {
   "cell_type": "code",
   "execution_count": 68,
   "metadata": {
    "collapsed": false
   },
   "outputs": [
    {
     "data": {
      "text/latex": [
       "$\\left(\\left(x \\cdot y \\cdot z\\right) - \\left(w \\cdot y \\cdot z\\right)\\right) = \\left(\\left(x - w\\right) \\cdot y \\cdot z\\right)$"
      ],
      "text/plain": [
       "((x * y * z) - (w * y * z)) = ((x - w) * y * z)"
      ]
     },
     "execution_count": 68,
     "metadata": {},
     "output_type": "execute_result"
    }
   ],
   "source": [
    "Subtract(Multiply(x, y, z), Multiply(w, y, z)).factor(Multiply(y, z), 'right', assumptions=assumptions).proven(assumptions)"
   ]
  },
  {
   "cell_type": "code",
   "execution_count": 69,
   "metadata": {
    "collapsed": false
   },
   "outputs": [
    {
     "data": {
      "text/latex": [
       "$\\left(\\left(x \\cdot y \\cdot z\\right) - \\left(w \\cdot y \\cdot z\\right)\\right) = \\left(\\left(x - w\\right) \\cdot \\left(y \\cdot z\\right)\\right)$"
      ],
      "text/plain": [
       "((x * y * z) - (w * y * z)) = ((x - w) * (y * z))"
      ]
     },
     "execution_count": 69,
     "metadata": {},
     "output_type": "execute_result"
    }
   ],
   "source": [
    "Subtract(Multiply(x, y, z), Multiply(w, y, z)).factor(Multiply(y, z), 'right', groupFactor=True, assumptions=assumptions).proven(assumptions)"
   ]
  },
  {
   "cell_type": "code",
   "execution_count": 70,
   "metadata": {
    "collapsed": false
   },
   "outputs": [
    {
     "data": {
      "text/latex": [
       "$j \\in \\mathbb{Z}$"
      ],
      "text/plain": [
       "j in Integers"
      ]
     },
     "execution_count": 70,
     "metadata": {},
     "output_type": "execute_result"
    }
   ],
   "source": [
    "jDomain = DiscreteContiguousSet(a, b)\n",
    "jDomainAssumptions = {In(j, jDomain), In(a, Integers), In(b, Integers)}\n",
    "jDomain.deduceMemberInIntegers(j, jDomainAssumptions).proven(jDomainAssumptions)"
   ]
  },
  {
   "cell_type": "code",
   "execution_count": 71,
   "metadata": {
    "collapsed": false
   },
   "outputs": [
    {
     "data": {
      "text/latex": [
       "$\\left(\\sum_{j=a}^{b}\\left(x \\cdot y \\cdot j \\cdot z\\right)\\right) = \\left(x \\cdot y \\cdot \\left(\\sum_{j=a}^{b}\\left(j \\cdot z\\right)\\right)\\right)$"
      ],
      "text/plain": [
       "(Summation_{j=a}^{b}(x * y * j * z)) = (x * y * (Summation_{j=a}^{b}(j * z)))"
      ]
     },
     "execution_count": 71,
     "metadata": {},
     "output_type": "execute_result"
    }
   ],
   "source": [
    "Summation(j, Multiply(x, y, j, z), domain=DiscreteContiguousSet(a, b)).factor(Multiply(x, y), 'left', assumptions=assumptions).proven(assumptions)"
   ]
  },
  {
   "cell_type": "code",
   "execution_count": 72,
   "metadata": {
    "collapsed": false
   },
   "outputs": [
    {
     "data": {
      "text/latex": [
       "$\\left(\\sum_{j=a}^{b}\\left(x \\cdot y \\cdot j \\cdot z\\right)\\right) = \\left(\\left(\\sum_{j=a}^{b}\\left(j \\cdot z\\right)\\right) \\cdot x \\cdot y\\right)$"
      ],
      "text/plain": [
       "(Summation_{j=a}^{b}(x * y * j * z)) = ((Summation_{j=a}^{b}(j * z)) * x * y)"
      ]
     },
     "execution_count": 72,
     "metadata": {},
     "output_type": "execute_result"
    }
   ],
   "source": [
    "Summation(j, Multiply(x, y, j, z), domain=DiscreteContiguousSet(a, b)).factor(Multiply(x, y), 'right', assumptions=assumptions).proven(assumptions)"
   ]
  },
  {
   "cell_type": "code",
   "execution_count": 73,
   "metadata": {
    "collapsed": false
   },
   "outputs": [
    {
     "ename": "DeduceInNumberSetException",
     "evalue": "Unable to prove Summation_{j=a}^{b}j * z in Complexes under assumptions: set([w in Complexes, y in Complexes, w != 0, b in Integers, a in Integers, z in Complexes, x in Complexes, v in Complexes])",
     "output_type": "error",
     "traceback": [
      "\u001b[0;31m---------------------------------------------------------------------------\u001b[0m",
      "\u001b[0;31mDeduceInNumberSetException\u001b[0m                Traceback (most recent call last)",
      "\u001b[0;32m<ipython-input-73-56b68ef6a93f>\u001b[0m in \u001b[0;36m<module>\u001b[0;34m()\u001b[0m\n\u001b[0;32m----> 1\u001b[0;31m \u001b[0mSummation\u001b[0m\u001b[0;34m(\u001b[0m\u001b[0mj\u001b[0m\u001b[0;34m,\u001b[0m \u001b[0mMultiply\u001b[0m\u001b[0;34m(\u001b[0m\u001b[0mx\u001b[0m\u001b[0;34m,\u001b[0m \u001b[0my\u001b[0m\u001b[0;34m,\u001b[0m \u001b[0mj\u001b[0m\u001b[0;34m,\u001b[0m \u001b[0mz\u001b[0m\u001b[0;34m)\u001b[0m\u001b[0;34m,\u001b[0m \u001b[0mdomain\u001b[0m\u001b[0;34m=\u001b[0m\u001b[0mDiscreteContiguousSet\u001b[0m\u001b[0;34m(\u001b[0m\u001b[0ma\u001b[0m\u001b[0;34m,\u001b[0m \u001b[0mb\u001b[0m\u001b[0;34m)\u001b[0m\u001b[0;34m)\u001b[0m\u001b[0;34m.\u001b[0m\u001b[0mfactor\u001b[0m\u001b[0;34m(\u001b[0m\u001b[0mMultiply\u001b[0m\u001b[0;34m(\u001b[0m\u001b[0mx\u001b[0m\u001b[0;34m,\u001b[0m \u001b[0my\u001b[0m\u001b[0;34m)\u001b[0m\u001b[0;34m,\u001b[0m \u001b[0;34m'left'\u001b[0m\u001b[0;34m,\u001b[0m \u001b[0mgroupFactor\u001b[0m\u001b[0;34m=\u001b[0m\u001b[0mTrue\u001b[0m\u001b[0;34m,\u001b[0m \u001b[0massumptions\u001b[0m\u001b[0;34m=\u001b[0m\u001b[0massumptions\u001b[0m\u001b[0;34m)\u001b[0m\u001b[0;34m.\u001b[0m\u001b[0mproven\u001b[0m\u001b[0;34m(\u001b[0m\u001b[0massumptions\u001b[0m\u001b[0;34m)\u001b[0m\u001b[0;34m\u001b[0m\u001b[0m\n\u001b[0m",
      "\u001b[0;32m/Users/wwitzel/proveit/proveit/number/arithmeticOps.pyc\u001b[0m in \u001b[0;36mfactor\u001b[0;34m(self, theFactor, pull, groupFactor, groupRemainder, assumptions)\u001b[0m\n\u001b[1;32m    949\u001b[0m             \u001b[0meq\u001b[0m\u001b[0;34m.\u001b[0m\u001b[0mupdate\u001b[0m\u001b[0;34m(\u001b[0m\u001b[0mdistributeOverSummationRev\u001b[0m\u001b[0;34m.\u001b[0m\u001b[0mspecialize\u001b[0m\u001b[0;34m(\u001b[0m\u001b[0;34m{\u001b[0m\u001b[0mxEtc\u001b[0m\u001b[0;34m:\u001b[0m\u001b[0;34m[\u001b[0m\u001b[0;34m]\u001b[0m\u001b[0;34m,\u001b[0m \u001b[0myEtc\u001b[0m\u001b[0;34m:\u001b[0m\u001b[0mself\u001b[0m\u001b[0;34m.\u001b[0m\u001b[0mindices\u001b[0m\u001b[0;34m,\u001b[0m \u001b[0mzEtc\u001b[0m\u001b[0;34m:\u001b[0m\u001b[0mfactorOperands\u001b[0m\u001b[0;34m,\u001b[0m \u001b[0mPop\u001b[0m\u001b[0;34m:\u001b[0m\u001b[0mPop_sub\u001b[0m\u001b[0;34m,\u001b[0m \u001b[0mS\u001b[0m\u001b[0;34m:\u001b[0m\u001b[0mself\u001b[0m\u001b[0;34m.\u001b[0m\u001b[0mdomain\u001b[0m\u001b[0;34m}\u001b[0m\u001b[0;34m)\u001b[0m\u001b[0;34m.\u001b[0m\u001b[0mchecked\u001b[0m\u001b[0;34m(\u001b[0m\u001b[0;34m)\u001b[0m\u001b[0;34m)\u001b[0m\u001b[0;34m\u001b[0m\u001b[0m\n\u001b[1;32m    950\u001b[0m         \u001b[0;32mif\u001b[0m \u001b[0mgroupFactor\u001b[0m \u001b[0;32mand\u001b[0m \u001b[0mlen\u001b[0m\u001b[0;34m(\u001b[0m\u001b[0mfactorOperands\u001b[0m\u001b[0;34m)\u001b[0m \u001b[0;34m>\u001b[0m \u001b[0;36m1\u001b[0m\u001b[0;34m:\u001b[0m\u001b[0;34m\u001b[0m\u001b[0m\n\u001b[0;32m--> 951\u001b[0;31m             \u001b[0meq\u001b[0m\u001b[0;34m.\u001b[0m\u001b[0mupdate\u001b[0m\u001b[0;34m(\u001b[0m\u001b[0meq\u001b[0m\u001b[0;34m.\u001b[0m\u001b[0meqExpr\u001b[0m\u001b[0;34m.\u001b[0m\u001b[0mrhs\u001b[0m\u001b[0;34m.\u001b[0m\u001b[0mgroup\u001b[0m\u001b[0;34m(\u001b[0m\u001b[0mendIdx\u001b[0m\u001b[0;34m=\u001b[0m\u001b[0mlen\u001b[0m\u001b[0;34m(\u001b[0m\u001b[0mfactorOperands\u001b[0m\u001b[0;34m)\u001b[0m\u001b[0;34m,\u001b[0m \u001b[0massumptions\u001b[0m\u001b[0;34m=\u001b[0m\u001b[0massumptions\u001b[0m\u001b[0;34m)\u001b[0m\u001b[0;34m)\u001b[0m\u001b[0;34m\u001b[0m\u001b[0m\n\u001b[0m\u001b[1;32m    952\u001b[0m         \u001b[0;32mreturn\u001b[0m \u001b[0meq\u001b[0m\u001b[0;34m.\u001b[0m\u001b[0meqExpr\u001b[0m \u001b[0;31m#.checked(assumptions)\u001b[0m\u001b[0;34m\u001b[0m\u001b[0m\n\u001b[1;32m    953\u001b[0m \u001b[0;34m\u001b[0m\u001b[0m\n",
      "\u001b[0;32m/Users/wwitzel/proveit/proveit/number/arithmeticOps.pyc\u001b[0m in \u001b[0;36mgroup\u001b[0;34m(self, startIdx, endIdx, assumptions)\u001b[0m\n\u001b[1;32m    478\u001b[0m         '''\n\u001b[1;32m    479\u001b[0m         \u001b[0;32mfrom\u001b[0m \u001b[0mproveit\u001b[0m\u001b[0;34m.\u001b[0m\u001b[0mnumber\u001b[0m\u001b[0;34m.\u001b[0m\u001b[0mcomplex\u001b[0m\u001b[0;34m.\u001b[0m\u001b[0mtheorems\u001b[0m \u001b[0;32mimport\u001b[0m \u001b[0mmultAssoc\u001b[0m\u001b[0;34m\u001b[0m\u001b[0m\n\u001b[0;32m--> 480\u001b[0;31m         \u001b[0mdeduceInComplexes\u001b[0m\u001b[0;34m(\u001b[0m\u001b[0mself\u001b[0m\u001b[0;34m.\u001b[0m\u001b[0moperands\u001b[0m\u001b[0;34m,\u001b[0m \u001b[0massumptions\u001b[0m\u001b[0;34m)\u001b[0m\u001b[0;34m\u001b[0m\u001b[0m\n\u001b[0m\u001b[1;32m    481\u001b[0m         \u001b[0mxSub\u001b[0m \u001b[0;34m=\u001b[0m \u001b[0mself\u001b[0m\u001b[0;34m.\u001b[0m\u001b[0moperands\u001b[0m\u001b[0;34m[\u001b[0m\u001b[0;34m:\u001b[0m\u001b[0mstartIdx\u001b[0m\u001b[0;34m]\u001b[0m \u001b[0;32mif\u001b[0m \u001b[0mstartIdx\u001b[0m \u001b[0;32mis\u001b[0m \u001b[0;32mnot\u001b[0m \u001b[0mNone\u001b[0m \u001b[0;32melse\u001b[0m \u001b[0;34m[\u001b[0m\u001b[0;34m]\u001b[0m\u001b[0;34m\u001b[0m\u001b[0m\n\u001b[1;32m    482\u001b[0m         \u001b[0mySub\u001b[0m \u001b[0;34m=\u001b[0m \u001b[0mself\u001b[0m\u001b[0;34m.\u001b[0m\u001b[0moperands\u001b[0m\u001b[0;34m[\u001b[0m\u001b[0mstartIdx\u001b[0m\u001b[0;34m:\u001b[0m\u001b[0mendIdx\u001b[0m\u001b[0;34m]\u001b[0m\u001b[0;34m\u001b[0m\u001b[0m\n",
      "\u001b[0;32m/Users/wwitzel/proveit/proveit/number/numberSets.pyc\u001b[0m in \u001b[0;36mdeduceInComplexes\u001b[0;34m(exprOrList, assumptions)\u001b[0m\n\u001b[1;32m    167\u001b[0m     \u001b[0motherwise\u001b[0m \u001b[0mraises\u001b[0m \u001b[0man\u001b[0m \u001b[0mException\u001b[0m\u001b[0;34m.\u001b[0m\u001b[0;34m\u001b[0m\u001b[0m\n\u001b[1;32m    168\u001b[0m     '''\n\u001b[0;32m--> 169\u001b[0;31m     \u001b[0;32mreturn\u001b[0m \u001b[0mdeduceInNumberSet\u001b[0m\u001b[0;34m(\u001b[0m\u001b[0mexprOrList\u001b[0m\u001b[0;34m,\u001b[0m \u001b[0mComplexes\u001b[0m\u001b[0;34m,\u001b[0m \u001b[0massumptions\u001b[0m\u001b[0;34m=\u001b[0m\u001b[0massumptions\u001b[0m\u001b[0;34m)\u001b[0m\u001b[0;34m\u001b[0m\u001b[0m\n\u001b[0m\u001b[1;32m    170\u001b[0m \u001b[0;34m\u001b[0m\u001b[0m\n\u001b[1;32m    171\u001b[0m \u001b[0;32mdef\u001b[0m \u001b[0mdeduceNotZero\u001b[0m\u001b[0;34m(\u001b[0m\u001b[0mexprOrList\u001b[0m\u001b[0;34m,\u001b[0m \u001b[0massumptions\u001b[0m\u001b[0;34m=\u001b[0m\u001b[0mfrozenset\u001b[0m\u001b[0;34m(\u001b[0m\u001b[0;34m)\u001b[0m\u001b[0;34m)\u001b[0m\u001b[0;34m:\u001b[0m\u001b[0;34m\u001b[0m\u001b[0m\n",
      "\u001b[0;32m/Users/wwitzel/proveit/proveit/number/numberSets.pyc\u001b[0m in \u001b[0;36mdeduceInNumberSet\u001b[0;34m(exprOrList, numberSet, assumptions, ruledOutSets)\u001b[0m\n\u001b[1;32m     56\u001b[0m     \u001b[0;32mif\u001b[0m \u001b[0;32mnot\u001b[0m \u001b[0misinstance\u001b[0m\u001b[0;34m(\u001b[0m\u001b[0mexprOrList\u001b[0m\u001b[0;34m,\u001b[0m \u001b[0mExpression\u001b[0m\u001b[0;34m)\u001b[0m \u001b[0;32mor\u001b[0m \u001b[0misinstance\u001b[0m\u001b[0;34m(\u001b[0m\u001b[0mexprOrList\u001b[0m\u001b[0;34m,\u001b[0m \u001b[0mExpressionList\u001b[0m\u001b[0;34m)\u001b[0m\u001b[0;34m:\u001b[0m\u001b[0;34m\u001b[0m\u001b[0m\n\u001b[1;32m     57\u001b[0m         \u001b[0;31m# If it isn't an Expression, assume it's iterable and deduce each\u001b[0m\u001b[0;34m\u001b[0m\u001b[0;34m\u001b[0m\u001b[0m\n\u001b[0;32m---> 58\u001b[0;31m         \u001b[0;32mreturn\u001b[0m \u001b[0;34m[\u001b[0m\u001b[0mdeduceInNumberSet\u001b[0m\u001b[0;34m(\u001b[0m\u001b[0mexpr\u001b[0m\u001b[0;34m,\u001b[0m \u001b[0mnumberSet\u001b[0m\u001b[0;34m=\u001b[0m\u001b[0mnumberSet\u001b[0m\u001b[0;34m,\u001b[0m \u001b[0massumptions\u001b[0m\u001b[0;34m=\u001b[0m\u001b[0massumptions\u001b[0m\u001b[0;34m)\u001b[0m \u001b[0;32mfor\u001b[0m \u001b[0mexpr\u001b[0m \u001b[0;32min\u001b[0m \u001b[0mexprOrList\u001b[0m\u001b[0;34m]\u001b[0m\u001b[0;34m\u001b[0m\u001b[0m\n\u001b[0m\u001b[1;32m     59\u001b[0m     \u001b[0;31m# A single Expression:\u001b[0m\u001b[0;34m\u001b[0m\u001b[0;34m\u001b[0m\u001b[0m\n\u001b[1;32m     60\u001b[0m     \u001b[0mexpr\u001b[0m \u001b[0;34m=\u001b[0m \u001b[0mexprOrList\u001b[0m\u001b[0;34m\u001b[0m\u001b[0m\n",
      "\u001b[0;32m/Users/wwitzel/proveit/proveit/number/numberSets.pyc\u001b[0m in \u001b[0;36mdeduceInNumberSet\u001b[0;34m(exprOrList, numberSet, assumptions, ruledOutSets)\u001b[0m\n\u001b[1;32m    116\u001b[0m                 \u001b[0;32mreturn\u001b[0m \u001b[0mexpr\u001b[0m\u001b[0;34m.\u001b[0m\u001b[0mdeduceInComplexes\u001b[0m\u001b[0;34m(\u001b[0m\u001b[0;34m)\u001b[0m\u001b[0;34m\u001b[0m\u001b[0m\n\u001b[1;32m    117\u001b[0m             \u001b[0;31m# Ran out of options:\u001b[0m\u001b[0;34m\u001b[0m\u001b[0;34m\u001b[0m\u001b[0m\n\u001b[0;32m--> 118\u001b[0;31m             \u001b[0;32mraise\u001b[0m \u001b[0mDeduceInNumberSetException\u001b[0m\u001b[0;34m(\u001b[0m\u001b[0mexpr\u001b[0m\u001b[0;34m,\u001b[0m \u001b[0mnumberSet\u001b[0m\u001b[0;34m,\u001b[0m \u001b[0massumptions\u001b[0m\u001b[0;34m)\u001b[0m\u001b[0;34m\u001b[0m\u001b[0m\n\u001b[0m\u001b[1;32m    119\u001b[0m         \u001b[0mclosureThm\u001b[0m \u001b[0;34m=\u001b[0m \u001b[0mexpr\u001b[0m\u001b[0;34m.\u001b[0m\u001b[0m_closureTheorem\u001b[0m\u001b[0;34m(\u001b[0m\u001b[0mnumberSet\u001b[0m\u001b[0;34m)\u001b[0m\u001b[0;34m\u001b[0m\u001b[0m\n\u001b[1;32m    120\u001b[0m         \u001b[0;32mif\u001b[0m \u001b[0mclosureThm\u001b[0m \u001b[0;32mis\u001b[0m \u001b[0mNone\u001b[0m\u001b[0;34m:\u001b[0m\u001b[0;34m\u001b[0m\u001b[0m\n",
      "\u001b[0;31mDeduceInNumberSetException\u001b[0m: Unable to prove Summation_{j=a}^{b}j * z in Complexes under assumptions: set([w in Complexes, y in Complexes, w != 0, b in Integers, a in Integers, z in Complexes, x in Complexes, v in Complexes])"
     ]
    }
   ],
   "source": [
    "Summation(j, Multiply(x, y, j, z), domain=DiscreteContiguousSet(a, b)).factor(Multiply(x, y), 'left', groupFactor=True, assumptions=assumptions).proven(assumptions)"
   ]
  },
  {
   "cell_type": "code",
   "execution_count": null,
   "metadata": {
    "collapsed": true
   },
   "outputs": [],
   "source": []
  }
 ],
 "metadata": {
  "kernelspec": {
   "display_name": "Python 2",
   "language": "python",
   "name": "python2"
  }
 },
 "nbformat": 4,
 "nbformat_minor": 0
}
