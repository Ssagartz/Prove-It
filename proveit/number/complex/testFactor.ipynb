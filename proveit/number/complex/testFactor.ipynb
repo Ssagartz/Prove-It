{
 "cells": [
  {
   "cell_type": "code",
   "execution_count": 1,
   "metadata": {
    "collapsed": true
   },
   "outputs": [],
   "source": [
    "from proveit.basiclogic import And, Or, NotEquals, In, Singleton, Difference\n",
    "from proveit.number.common import *\n",
    "from proveit.basiclogic import Forall, Exists, Equals\n",
    "from proveit.number import LessThan, LessThanEquals, GreaterThan, GreaterThanEquals, Fraction\n",
    "from proveit.number import Add, Subtract, Multiply, Divide, Fraction, Abs, Exponentiate, Neg\n",
    "from proveit.multiExpression import Etcetera"
   ]
  },
  {
   "cell_type": "code",
   "execution_count": 2,
   "metadata": {
    "collapsed": true
   },
   "outputs": [],
   "source": [
    "assumptions={In(x, Complexes), In(y, Complexes), In(z, Complexes), In(w, Complexes), In(v, Complexes)}"
   ]
  },
  {
   "cell_type": "code",
   "execution_count": 3,
   "metadata": {
    "collapsed": false
   },
   "outputs": [
    {
     "data": {
      "text/latex": [
       "$\\frac{x \\cdot y \\cdot z}{w} = \\left(x \\cdot \\frac{y \\cdot z}{w}\\right)$"
      ],
      "text/plain": [
       "(x * y * z) / w = (x * (y * z) / w)"
      ]
     },
     "execution_count": 3,
     "metadata": {},
     "output_type": "execute_result"
    }
   ],
   "source": [
    "Fraction(Multiply(x, y, z), w).factor(x, 'left', assumptions).proven(assumptions)"
   ]
  },
  {
   "cell_type": "code",
   "execution_count": 4,
   "metadata": {
    "collapsed": false
   },
   "outputs": [
    {
     "data": {
      "text/latex": [
       "$\\frac{x \\cdot y \\cdot z}{w} = \\left(z \\cdot \\frac{x \\cdot y}{w}\\right)$"
      ],
      "text/plain": [
       "(x * y * z) / w = (z * (x * y) / w)"
      ]
     },
     "execution_count": 4,
     "metadata": {},
     "output_type": "execute_result"
    }
   ],
   "source": [
    "Fraction(Multiply(x, y, z), w).factor(z, 'left', assumptions).proven(assumptions)"
   ]
  },
  {
   "cell_type": "code",
   "execution_count": 5,
   "metadata": {
    "collapsed": false
   },
   "outputs": [
    {
     "data": {
      "text/latex": [
       "$\\frac{x \\cdot y \\cdot z}{w} = \\left(\\frac{y \\cdot z}{w} \\cdot x\\right)$"
      ],
      "text/plain": [
       "(x * y * z) / w = ((y * z) / w * x)"
      ]
     },
     "execution_count": 5,
     "metadata": {},
     "output_type": "execute_result"
    }
   ],
   "source": [
    "Fraction(Multiply(x, y, z), w).factor(x, 'right', assumptions).proven(assumptions)"
   ]
  },
  {
   "cell_type": "code",
   "execution_count": 6,
   "metadata": {
    "collapsed": false
   },
   "outputs": [
    {
     "data": {
      "text/latex": [
       "$\\frac{x \\cdot y \\cdot z}{w} = \\left(\\frac{x \\cdot y}{w} \\cdot z\\right)$"
      ],
      "text/plain": [
       "(x * y * z) / w = ((x * y) / w * z)"
      ]
     },
     "execution_count": 6,
     "metadata": {},
     "output_type": "execute_result"
    }
   ],
   "source": [
    "Fraction(Multiply(x, y, z), w).factor(z, 'right', assumptions).proven(assumptions)"
   ]
  },
  {
   "cell_type": "code",
   "execution_count": 7,
   "metadata": {
    "collapsed": false
   },
   "outputs": [
    {
     "data": {
      "text/latex": [
       "$\\frac{x \\cdot y \\cdot z}{w \\cdot v} = \\left(\\frac{y}{v} \\cdot \\frac{x \\cdot z}{w}\\right)$"
      ],
      "text/plain": [
       "(x * y * z) / (w * v) = (y / v * (x * z) / w)"
      ]
     },
     "execution_count": 7,
     "metadata": {},
     "output_type": "execute_result"
    }
   ],
   "source": [
    "Fraction(Multiply(x, y, z), Multiply(w, v)).factor(Fraction(y, v), 'left', assumptions).proven(assumptions)"
   ]
  },
  {
   "cell_type": "code",
   "execution_count": 8,
   "metadata": {
    "collapsed": false
   },
   "outputs": [
    {
     "data": {
      "text/latex": [
       "$\\frac{x \\cdot y \\cdot z}{w \\cdot v} = \\left(\\frac{x \\cdot z}{w} \\cdot \\frac{y}{v}\\right)$"
      ],
      "text/plain": [
       "(x * y * z) / (w * v) = ((x * z) / w * y / v)"
      ]
     },
     "execution_count": 8,
     "metadata": {},
     "output_type": "execute_result"
    }
   ],
   "source": [
    "Fraction(Multiply(x, y, z), Multiply(w, v)).factor(Fraction(y, v), 'right', assumptions).proven(assumptions)"
   ]
  },
  {
   "cell_type": "code",
   "execution_count": 9,
   "metadata": {
    "collapsed": false
   },
   "outputs": [
    {
     "data": {
      "text/latex": [
       "$\\frac{x \\cdot y \\cdot z}{w \\cdot v} = \\left(\\frac{x}{w} \\cdot \\frac{y \\cdot z}{v}\\right)$"
      ],
      "text/plain": [
       "(x * y * z) / (w * v) = (x / w * (y * z) / v)"
      ]
     },
     "execution_count": 9,
     "metadata": {},
     "output_type": "execute_result"
    }
   ],
   "source": [
    "Fraction(Multiply(x, y, z), Multiply(w, v)).factor(Fraction(x, w), 'left', assumptions).proven(assumptions)"
   ]
  },
  {
   "cell_type": "code",
   "execution_count": 10,
   "metadata": {
    "collapsed": false
   },
   "outputs": [
    {
     "data": {
      "text/latex": [
       "$\\frac{x \\cdot y \\cdot z}{w \\cdot v} = \\left(\\frac{y \\cdot z}{v} \\cdot \\frac{x}{w}\\right)$"
      ],
      "text/plain": [
       "(x * y * z) / (w * v) = ((y * z) / v * x / w)"
      ]
     },
     "execution_count": 10,
     "metadata": {},
     "output_type": "execute_result"
    }
   ],
   "source": [
    "Fraction(Multiply(x, y, z), Multiply(w, v)).factor(Fraction(x, w), 'right', assumptions).proven(assumptions)"
   ]
  },
  {
   "cell_type": "code",
   "execution_count": 11,
   "metadata": {
    "collapsed": false
   },
   "outputs": [
    {
     "data": {
      "text/latex": [
       "$\\frac{x}{w \\cdot y \\cdot z} = \\left(\\frac{1}{z} \\cdot \\frac{x}{w \\cdot y}\\right)$"
      ],
      "text/plain": [
       "x / (w * y * z) = (1 / z * x / (w * y))"
      ]
     },
     "execution_count": 11,
     "metadata": {},
     "output_type": "execute_result"
    }
   ],
   "source": [
    "Fraction(x, Multiply(w, y, z)).factor(Fraction(one, z), 'left', assumptions).proven(assumptions)"
   ]
  },
  {
   "cell_type": "code",
   "execution_count": 12,
   "metadata": {
    "collapsed": false
   },
   "outputs": [
    {
     "data": {
      "text/latex": [
       "$\\frac{x}{w \\cdot y \\cdot z} = \\left(\\frac{x}{w \\cdot y} \\cdot \\frac{1}{z}\\right)$"
      ],
      "text/plain": [
       "x / (w * y * z) = (x / (w * y) * 1 / z)"
      ]
     },
     "execution_count": 12,
     "metadata": {},
     "output_type": "execute_result"
    }
   ],
   "source": [
    "Fraction(x, Multiply(w, y, z)).factor(Fraction(one, z), 'right', assumptions).proven(assumptions)"
   ]
  },
  {
   "cell_type": "code",
   "execution_count": 13,
   "metadata": {
    "collapsed": false
   },
   "outputs": [
    {
     "data": {
      "text/latex": [
       "$\\frac{x}{w \\cdot y \\cdot z} = \\left(\\frac{x}{w \\cdot z} \\cdot \\frac{1}{y}\\right)$"
      ],
      "text/plain": [
       "x / (w * y * z) = (x / (w * z) * 1 / y)"
      ]
     },
     "execution_count": 13,
     "metadata": {},
     "output_type": "execute_result"
    }
   ],
   "source": [
    "Fraction(x, Multiply(w, y, z)).factor(Fraction(one, y), 'right', assumptions).proven(assumptions)"
   ]
  },
  {
   "cell_type": "code",
   "execution_count": 14,
   "metadata": {
    "collapsed": false
   },
   "outputs": [
    {
     "data": {
      "text/latex": [
       "$\\left(-\\left(x \\cdot y \\cdot z\\right)\\right) = \\left(\\left(-\\left(x \\cdot z\\right)\\right) \\cdot y\\right)$"
      ],
      "text/plain": [
       "(-(x * y * z)) = ((-(x * z)) * y)"
      ]
     },
     "execution_count": 14,
     "metadata": {},
     "output_type": "execute_result"
    }
   ],
   "source": [
    "Neg(Multiply(x, y, z)).factor(y, 'right', assumptions)"
   ]
  },
  {
   "cell_type": "code",
   "execution_count": 15,
   "metadata": {
    "collapsed": false
   },
   "outputs": [
    {
     "data": {
      "text/latex": [
       "$\\left(-\\left(x \\cdot y \\cdot z\\right)\\right) = \\left(y \\cdot \\left(-\\left(x \\cdot z\\right)\\right)\\right)$"
      ],
      "text/plain": [
       "(-(x * y * z)) = (y * (-(x * z)))"
      ]
     },
     "execution_count": 15,
     "metadata": {},
     "output_type": "execute_result"
    }
   ],
   "source": [
    "Neg(Multiply(x, y, z)).factor(y, 'left', assumptions)"
   ]
  },
  {
   "cell_type": "code",
   "execution_count": 16,
   "metadata": {
    "collapsed": false
   },
   "outputs": [
    {
     "data": {
      "text/latex": [
       "$\\left(-\\left(x \\cdot y \\cdot z\\right)\\right) = \\left(z \\cdot \\left(-\\left(x \\cdot y\\right)\\right)\\right)$"
      ],
      "text/plain": [
       "(-(x * y * z)) = (z * (-(x * y)))"
      ]
     },
     "execution_count": 16,
     "metadata": {},
     "output_type": "execute_result"
    }
   ],
   "source": [
    "Neg(Multiply(x, y, z)).factor(z, 'left', assumptions)"
   ]
  },
  {
   "cell_type": "code",
   "execution_count": 17,
   "metadata": {
    "collapsed": false
   },
   "outputs": [
    {
     "data": {
      "text/latex": [
       "$\\left(-\\left(x \\cdot y \\cdot z\\right)\\right) = \\left(\\left(-z\\right) \\cdot \\left(x \\cdot y\\right)\\right)$"
      ],
      "text/plain": [
       "(-(x * y * z)) = ((-z) * (x * y))"
      ]
     },
     "execution_count": 17,
     "metadata": {},
     "output_type": "execute_result"
    }
   ],
   "source": [
    "Neg(Multiply(x, y, z)).factor(Neg(z), 'left', assumptions)"
   ]
  },
  {
   "cell_type": "code",
   "execution_count": 18,
   "metadata": {
    "collapsed": false
   },
   "outputs": [
    {
     "data": {
      "text/latex": [
       "$\\left(-\\left(x \\cdot y \\cdot z\\right)\\right) = \\left(\\left(-x\\right) \\cdot \\left(y \\cdot z\\right)\\right)$"
      ],
      "text/plain": [
       "(-(x * y * z)) = ((-x) * (y * z))"
      ]
     },
     "execution_count": 18,
     "metadata": {},
     "output_type": "execute_result"
    }
   ],
   "source": [
    "Neg(Multiply(x, y, z)).factor(Neg(x), 'left', assumptions)"
   ]
  },
  {
   "cell_type": "code",
   "execution_count": 19,
   "metadata": {
    "collapsed": false
   },
   "outputs": [
    {
     "data": {
      "text/latex": [
       "$\\left(-\\left(x \\cdot y \\cdot z\\right)\\right) = \\left(\\left(y \\cdot z\\right) \\cdot \\left(-x\\right)\\right)$"
      ],
      "text/plain": [
       "(-(x * y * z)) = ((y * z) * (-x))"
      ]
     },
     "execution_count": 19,
     "metadata": {},
     "output_type": "execute_result"
    }
   ],
   "source": [
    "Neg(Multiply(x, y, z)).factor(Neg(x), 'right', assumptions)"
   ]
  },
  {
   "cell_type": "code",
   "execution_count": 20,
   "metadata": {
    "collapsed": false
   },
   "outputs": [
    {
     "data": {
      "text/latex": [
       "$\\left(-\\left(x \\cdot y \\cdot z\\right)\\right) = \\left(\\left(x \\cdot z\\right) \\cdot \\left(-y\\right)\\right)$"
      ],
      "text/plain": [
       "(-(x * y * z)) = ((x * z) * (-y))"
      ]
     },
     "execution_count": 20,
     "metadata": {},
     "output_type": "execute_result"
    }
   ],
   "source": [
    "Neg(Multiply(x, y, z)).factor(Neg(y), 'right', assumptions)"
   ]
  },
  {
   "cell_type": "code",
   "execution_count": null,
   "metadata": {
    "collapsed": true
   },
   "outputs": [],
   "source": []
  }
 ],
 "metadata": {
  "kernelspec": {
   "display_name": "Python 2",
   "language": "python",
   "name": "python2"
  },
  "language_info": {
   "codemirror_mode": {
    "name": "ipython",
    "version": 2
   },
   "file_extension": ".py",
   "mimetype": "text/x-python",
   "name": "python",
   "nbconvert_exporter": "python",
   "pygments_lexer": "ipython2",
   "version": "2.7.10"
  }
 },
 "nbformat": 4,
 "nbformat_minor": 0
}
