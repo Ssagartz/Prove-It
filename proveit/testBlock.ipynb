{
 "metadata": {
  "name": "",
  "signature": "sha256:7253c5f3f7be2e7470b89c2bef998dc2aa7e793a44e028577752e5080ad94078"
 },
 "nbformat": 3,
 "nbformat_minor": 0,
 "worksheets": [
  {
   "cells": [
    {
     "cell_type": "code",
     "collapsed": false,
     "input": [
      "from proveit.expression import Variable\n",
      "from proveit.multiExpression import ExpressionTensor, Block\n",
      "from proveit.basiclogic.boolean.quantifiers import Forall\n",
      "from IPython.display import Math, display_latex"
     ],
     "language": "python",
     "metadata": {},
     "outputs": [],
     "prompt_number": 1
    },
    {
     "cell_type": "code",
     "collapsed": false,
     "input": [
      "A = Variable('A')\n",
      "B = Variable('B')\n",
      "C = Variable('C')\n",
      "D = Variable('D')\n",
      "x = Variable('x')\n",
      "y = Variable('y')\n",
      "z = Variable('z')\n",
      "Ablock = Block(A)\n",
      "Bblock = Block(B)\n",
      "Cblock = Block(C)\n",
      "Dblock = Block(D)"
     ],
     "language": "python",
     "metadata": {},
     "outputs": [],
     "prompt_number": 2
    },
    {
     "cell_type": "code",
     "collapsed": false,
     "input": [
      "initExpr = Forall((Ablock, Bblock, Cblock, Dblock), ExpressionTensor([[Ablock, [[x], [y], [z]]], [Cblock, Dblock]]))\n",
      "print str(initExpr)\n",
      "initExpr"
     ],
     "language": "python",
     "metadata": {},
     "outputs": [
      {
       "output_type": "stream",
       "stream": "stdout",
       "text": [
        "forall_{[..A..], [..B..], [..C..], [..D..]} {(0, 0):[..A..], (0, 1):{(0, 0):x, (1, 0):y, (2, 0):z}, (1, 0):[..C..], (1, 1):[..D..]}\n"
       ]
      },
      {
       "latex": [
        "$\\forall_{\\left[..A..\\right], \\left[..B..\\right], \\left[..C..\\right], \\left[..D..\\right]} \\begin{array}{cc}\n",
        "\\left[..A..\\right] & \\begin{array}{c}\n",
        "x \\\\\n",
        "y \\\\\n",
        "z\n",
        "\\end{array}\n",
        " \\\\\n",
        "\\left[..C..\\right] & \\left[..D..\\right]\n",
        "\\end{array}\n",
        "$"
       ],
       "metadata": {},
       "output_type": "pyout",
       "prompt_number": 3,
       "text": [
        "proveit.FORALL({'domain':proveit.EVERYTHING, 'instance_mapping':[([..\\A..],[..\\B..],[..\\C..],[..\\D..])->{'conditions':, 'instance_expression':{(0, 0):[..\\A..], (0, 1):{(0, 0):\\x, (1, 0):\\y, (2, 0):\\z}, (1, 0):[..\\C..], (1, 1):[..\\D..]}}]})"
       ]
      }
     ],
     "prompt_number": 3
    },
    {
     "cell_type": "code",
     "collapsed": false,
     "input": [
      "expr = initExpr.specialize({Ablock:[[A, B], [C, D], [B, A]]})\n",
      "print str(expr)\n",
      "expr"
     ],
     "language": "python",
     "metadata": {},
     "outputs": [
      {
       "output_type": "stream",
       "stream": "stdout",
       "text": [
        "{(0, 0):{(0, 0):A, (0, 1):B}, (0, 1):x, (1, 0):{(0, 0):C, (0, 1):D}, (1, 1):y, (2, 0):{(0, 0):B, (0, 1):A}, (2, 1):z, (3, 0):[..C..], (3, 1):[..D..]}\n"
       ]
      },
      {
       "latex": [
        "$\\begin{array}{cc}\n",
        "\\begin{array}{cc}\n",
        "A & B\n",
        "\\end{array}\n",
        " & x \\\\\n",
        "\\begin{array}{cc}\n",
        "C & D\n",
        "\\end{array}\n",
        " & y \\\\\n",
        "\\begin{array}{cc}\n",
        "B & A\n",
        "\\end{array}\n",
        " & z \\\\\n",
        "\\left[..C..\\right] & \\left[..D..\\right]\n",
        "\\end{array}\n",
        "$"
       ],
       "metadata": {},
       "output_type": "pyout",
       "prompt_number": 4,
       "text": [
        "{(0, 0):{(0, 0):\\A, (0, 1):\\B}, (0, 1):\\x, (1, 0):{(0, 0):\\C, (0, 1):\\D}, (1, 1):\\y, (2, 0):{(0, 0):\\B, (0, 1):\\A}, (2, 1):\\z, (3, 0):[..\\C..], (3, 1):[..\\D..]}"
       ]
      }
     ],
     "prompt_number": 4
    },
    {
     "cell_type": "code",
     "collapsed": false,
     "input": [
      "expr = initExpr.specialize({Ablock:[[A, B], [C, D], [B, A]], Cblock:[[C, C]]})\n",
      "print str(expr)\n",
      "expr"
     ],
     "language": "python",
     "metadata": {},
     "outputs": [
      {
       "output_type": "stream",
       "stream": "stdout",
       "text": [
        "{(0, 0):A, (0, 1):B, (0, 2):x, (1, 0):C, (1, 1):D, (1, 2):y, (2, 0):B, (2, 1):A, (2, 2):z, (3, 0):C, (3, 1):C, (3, 2):[..D..]}\n"
       ]
      },
      {
       "latex": [
        "$\\begin{array}{ccc}\n",
        "A & B & x \\\\\n",
        "C & D & y \\\\\n",
        "B & A & z \\\\\n",
        "C & C & \\left[..D..\\right]\n",
        "\\end{array}\n",
        "$"
       ],
       "metadata": {},
       "output_type": "pyout",
       "prompt_number": 5,
       "text": [
        "{(0, 0):\\A, (0, 1):\\B, (0, 2):\\x, (1, 0):\\C, (1, 1):\\D, (1, 2):\\y, (2, 0):\\B, (2, 1):\\A, (2, 2):\\z, (3, 0):\\C, (3, 1):\\C, (3, 2):[..\\D..]}"
       ]
      }
     ],
     "prompt_number": 5
    }
   ],
   "metadata": {}
  }
 ]
}