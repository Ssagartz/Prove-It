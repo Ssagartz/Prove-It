{
 "cells": [
  {
   "cell_type": "code",
   "execution_count": 1,
   "metadata": {
    "collapsed": false
   },
   "outputs": [],
   "source": [
    "from proveit.expression import Variable\n",
    "from proveit.multiExpression import ExpressionTensor, Block, ExpressionTensorShapeError\n",
    "from proveit.basiclogic.boolean.quantifiers import Forall\n",
    "from IPython.display import Math, display_latex"
   ]
  },
  {
   "cell_type": "code",
   "execution_count": 2,
   "metadata": {
    "collapsed": false
   },
   "outputs": [],
   "source": [
    "A = Variable('A')\n",
    "B = Variable('B')\n",
    "C = Variable('C')\n",
    "D = Variable('D')\n",
    "x = Variable('x')\n",
    "y = Variable('y')\n",
    "z = Variable('z')\n",
    "Ablock = Block(A)\n",
    "Bblock = Block(B)\n",
    "Cblock = Block(C)\n",
    "Dblock = Block(D)"
   ]
  },
  {
   "cell_type": "code",
   "execution_count": 3,
   "metadata": {
    "collapsed": false
   },
   "outputs": [
    {
     "name": "stdout",
     "output_type": "stream",
     "text": [
      "forall_{[[A]], [[B]], [[C]], [[D]]} {(0, 0):[[A]], (0, 1):{(0, 0):x, (1, 0):y, (2, 0):z}, (1, 0):[[C]], (1, 1):[[D]]}\n"
     ]
    },
    {
     "data": {
      "text/latex": [
       "$\\forall_{\\left[\\left[A\\right]\\right], \\left[\\left[B\\right]\\right], \\left[\\left[C\\right]\\right], \\left[\\left[D\\right]\\right]} \\begin{array}{cc}\n",
       "\\left[\\left[A\\right]\\right] & \\begin{array}{c}\n",
       "x \\\\\n",
       "y \\\\\n",
       "z\n",
       "\\end{array}\n",
       " \\\\\n",
       "\\left[\\left[C\\right]\\right] & \\left[\\left[D\\right]\\right]\n",
       "\\end{array}\n",
       "$"
      ],
      "text/plain": [
       "proveit.FORALL({'domain':proveit.EVERYTHING, 'instance_mapping':[([[\\A]],[[\\B]],[[\\C]],[[\\D]])->{'conditions':, 'instance_expression':{(0, 0):[[\\A]], (0, 1):{(0, 0):\\x, (1, 0):\\y, (2, 0):\\z}, (1, 0):[[\\C]], (1, 1):[[\\D]]}}]})"
      ]
     },
     "execution_count": 3,
     "metadata": {},
     "output_type": "execute_result"
    }
   ],
   "source": [
    "initExpr = Forall((Ablock, Bblock, Cblock, Dblock), ExpressionTensor([[Ablock, [[x], [y], [z]]], [Cblock, Dblock]]))\n",
    "print str(initExpr)\n",
    "initExpr"
   ]
  },
  {
   "cell_type": "code",
   "execution_count": 4,
   "metadata": {
    "collapsed": false
   },
   "outputs": [
    {
     "name": "stdout",
     "output_type": "stream",
     "text": [
      "{(0, 0):{(0, 0):A, (0, 1):B}, (0, 1):x, (1, 0):{(0, 0):C, (0, 1):D}, (1, 1):y, (2, 0):{(0, 0):B, (0, 1):A}, (2, 1):z, (3, 0):[[C]], (3, 1):[[D]]}\n"
     ]
    },
    {
     "data": {
      "text/latex": [
       "$\\begin{array}{cc}\n",
       "\\begin{array}{cc}\n",
       "A & B\n",
       "\\end{array}\n",
       " & x \\\\\n",
       "\\begin{array}{cc}\n",
       "C & D\n",
       "\\end{array}\n",
       " & y \\\\\n",
       "\\begin{array}{cc}\n",
       "B & A\n",
       "\\end{array}\n",
       " & z \\\\\n",
       "\\left[\\left[C\\right]\\right] & \\left[\\left[D\\right]\\right]\n",
       "\\end{array}\n",
       "$"
      ],
      "text/plain": [
       "{(0, 0):{(0, 0):\\A, (0, 1):\\B}, (0, 1):\\x, (1, 0):{(0, 0):\\C, (0, 1):\\D}, (1, 1):\\y, (2, 0):{(0, 0):\\B, (0, 1):\\A}, (2, 1):\\z, (3, 0):[[\\C]], (3, 1):[[\\D]]}"
      ]
     },
     "execution_count": 4,
     "metadata": {},
     "output_type": "execute_result"
    }
   ],
   "source": [
    "expr = initExpr.specialize({Ablock:[[A, B], [C, D], [B, A]]})\n",
    "print str(expr)\n",
    "expr"
   ]
  },
  {
   "cell_type": "code",
   "execution_count": 5,
   "metadata": {
    "collapsed": false
   },
   "outputs": [
    {
     "name": "stdout",
     "output_type": "stream",
     "text": [
      "{(0, 0):A, (0, 1):B, (0, 2):x, (1, 0):C, (1, 1):D, (1, 2):y, (2, 0):B, (2, 1):A, (2, 2):z, (3, 0):C, (3, 1):C, (3, 2):[[D]]}\n"
     ]
    },
    {
     "data": {
      "text/latex": [
       "$\\begin{array}{ccc}\n",
       "A & B & x \\\\\n",
       "C & D & y \\\\\n",
       "B & A & z \\\\\n",
       "C & C & \\left[\\left[D\\right]\\right]\n",
       "\\end{array}\n",
       "$"
      ],
      "text/plain": [
       "{(0, 0):\\A, (0, 1):\\B, (0, 2):\\x, (1, 0):\\C, (1, 1):\\D, (1, 2):\\y, (2, 0):\\B, (2, 1):\\A, (2, 2):\\z, (3, 0):\\C, (3, 1):\\C, (3, 2):[[\\D]]}"
      ]
     },
     "execution_count": 5,
     "metadata": {},
     "output_type": "execute_result"
    }
   ],
   "source": [
    "expr = initExpr.specialize({Ablock:[[A, B], [C, D], [B, A]], Cblock:[[C, C]]})\n",
    "print str(expr)\n",
    "expr"
   ]
  },
  {
   "cell_type": "code",
   "execution_count": 6,
   "metadata": {
    "collapsed": false
   },
   "outputs": [
    {
     "name": "stdout",
     "output_type": "stream",
     "text": [
      "Error raised as expected:  Ambiguous tensor blocks: nested tensors must have the same extent in a line along an axis\n"
     ]
    }
   ],
   "source": [
    "try:\n",
    "    expr = initExpr.specialize({Ablock:[[A, B], [C, D], [B, A]], Cblock:[[C, C]], Dblock:[[x, y], [y, x]]})\n",
    "except ExpressionTensorShapeError as e:\n",
    "    print \"Error raised as expected: \", e.msg"
   ]
  },
  {
   "cell_type": "code",
   "execution_count": null,
   "metadata": {
    "collapsed": true
   },
   "outputs": [],
   "source": []
  }
 ],
 "metadata": {
  "kernelspec": {
   "display_name": "Python 2",
   "language": "python",
   "name": "python2"
  },
  "language_info": {
   "codemirror_mode": {
    "name": "ipython",
    "version": 2
   },
   "file_extension": ".py",
   "mimetype": "text/x-python",
   "name": "python",
   "nbconvert_exporter": "python",
   "pygments_lexer": "ipython2",
   "version": "2.7.10"
  }
 },
 "nbformat": 4,
 "nbformat_minor": 0
}
