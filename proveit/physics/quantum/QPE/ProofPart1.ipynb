{
 "cells": [
  {
   "cell_type": "code",
   "execution_count": 1,
   "metadata": {
    "collapsed": false
   },
   "outputs": [],
   "source": [
    "from proveit.number.arithmeticOps import *\n",
    "#from proveit.number.real.theorems import *\n",
    "from proveit.number.real.theorems import divIneqThm1, divIneqThm1cor, ineqThm3, ineqThm4a, ineqThm4b, ineqThm9, ineqThm10\n",
    "from proveit.number.real.theorems import posProd, posOfExps\n",
    "from proveit.number.complex.theorems import absProd, absProdEtc, expAdd1a\n",
    "from proveit.number.relation import Relation\n",
    "from proveit.basiclogic import In, autoSubstitute, autoSubstitution\n",
    "from proveit.number.real.theorems import absTwoPi, absPos\n",
    "from proveit.number.complex.theorems import multAssoc\n",
    "from proveit.number.common import *"
   ]
  },
  {
   "cell_type": "code",
   "execution_count": 2,
   "metadata": {
    "collapsed": true
   },
   "outputs": [],
   "source": [
    "alpha_l = Operation(Variable('alpha',{STRING:'alpha',LATEX:r'\\alpha'}),l)"
   ]
  },
  {
   "cell_type": "code",
   "execution_count": 3,
   "metadata": {
    "collapsed": false
   },
   "outputs": [
    {
     "data": {
      "image/png": "[encoded data removed]",
      "text/plain": [
       "|alpha(l)| = |(1 - e^((2 * pi * i * ((2^(t) * delta) - l))))| / (2^(t) * |(1 - e^((2 * pi * i * (delta - l / 2^(t)))))|)"
      ]
     },
     "execution_count": 3,
     "metadata": {},
     "output_type": "execute_result"
    }
   ],
   "source": [
    "abs_alpha_l = Equals(Abs(alpha_l),\n",
    "                        Fraction(\n",
    "                                Abs(Subtract(one,\n",
    "                                            Exponentiate(e,\n",
    "                                                        Multiply(two,pi,i,\n",
    "                                                                Subtract(\n",
    "                                                                        Multiply(\n",
    "                                                                                Exponentiate(two,t),delta),\n",
    "                                                                        l)\n",
    "                )))\n",
    "    ),\n",
    "                            Multiply(Exponentiate(two,t),    \n",
    "                            Abs(Subtract(one,\n",
    "                                            Exponentiate(e,\n",
    "                                                        Multiply(two,pi,i,\n",
    "                                                                Subtract(\n",
    "                                                                        delta,\n",
    "                                                                        Fraction(l,Exponentiate(two,t))\n",
    "                                \n",
    "\n",
    ")\n",
    "                                                                 )\n",
    "                    )\n",
    "                                             )\n",
    "                                    ))\n",
    "        )\n",
    "    )\n",
    "abs_alpha_l"
   ]
  },
  {
   "cell_type": "code",
   "execution_count": 4,
   "metadata": {
    "collapsed": true
   },
   "outputs": [],
   "source": [
    "assumptions = {abs_alpha_l}"
   ]
  },
  {
   "cell_type": "code",
   "execution_count": 5,
   "metadata": {
    "collapsed": false
   },
   "outputs": [
    {
     "data": {
      "image/png": "[encoded data removed]",
      "text/plain": [
       "|alpha(l)| = |(1 - e^((i * (2 * pi * ((2^(t) * delta) - l)))))| / (2^(t) * |(1 - e^((2 * pi * i * (delta - l / 2^(t)))))|)"
      ]
     },
     "execution_count": 5,
     "metadata": {},
     "output_type": "execute_result"
    }
   ],
   "source": [
    "X1 = autoSubstitute(abs_alpha_l, 'factor', [i], superExpr=abs_alpha_l.rhs.numerator, suppressWarnings=True).proven(assumptions)\n",
    "X1.proven(assumptions)"
   ]
  },
  {
   "cell_type": "code",
   "execution_count": 6,
   "metadata": {
    "collapsed": false
   },
   "outputs": [],
   "source": [
    "assumptions = assumptions.union({X1})"
   ]
  },
  {
   "cell_type": "code",
   "execution_count": 7,
   "metadata": {
    "collapsed": false
   },
   "outputs": [
    {
     "data": {
      "image/png": "[encoded data removed]",
      "text/plain": [
       "|alpha(l)| = |(1 - e^((i * (2 * pi * ((2^(t) * delta) - l)))))| / (2^(t) * |(1 - e^((i * (2 * pi * (delta - l / 2^(t))))))|)"
      ]
     },
     "execution_count": 7,
     "metadata": {},
     "output_type": "execute_result"
    }
   ],
   "source": [
    "X2 = autoSubstitute(X1, 'factor', [i], superExpr=abs_alpha_l.rhs.denominator, suppressWarnings=True).proven(assumptions)\n",
    "X2"
   ]
  },
  {
   "cell_type": "code",
   "execution_count": 8,
   "metadata": {
    "collapsed": false
   },
   "outputs": [
    {
     "data": {
      "image/png": "[encoded data removed]",
      "text/plain": [
       "|(1 - e^((i * (2 * pi * ((2^(t) * delta) - l)))))| <= 2"
      ]
     },
     "execution_count": 8,
     "metadata": {},
     "output_type": "execute_result"
    }
   ],
   "source": [
    "Y1 = ineqThm9.specialize({theta:X2.rhs.numerator.operand.operands[1].exponent.operands[1]})\n",
    "assumptions = assumptions.union({In(Y1.lhs.operand.operands[1].exponent.operands[1],Reals)})\n",
    "Y1.proven(assumptions)"
   ]
  },
  {
   "cell_type": "code",
   "execution_count": 9,
   "metadata": {
    "collapsed": false
   },
   "outputs": [
    {
     "data": {
      "image/png": "[encoded data removed]",
      "text/plain": [
       "|(1 - e^((i * (2 * pi * ((2^(t) * delta) - l)))))| / (2^(t) * |(1 - e^((i * (2 * pi * (delta - l / 2^(t))))))|) <= 2 / (2^(t) * |(1 - e^((i * (2 * pi * (delta - l / 2^(t))))))|)"
      ]
     },
     "execution_count": 9,
     "metadata": {},
     "output_type": "execute_result"
    }
   ],
   "source": [
    "Y2 = divIneqThm1.specialize({a:Y1.lhs,b:X2.rhs.denominator,c:Y1.rhs})\n",
    "assumptions = assumptions.union({GreaterThan(X2.rhs.denominator,zero),\n",
    "                                 In(Y1.lhs,Reals),\n",
    "                                 In(Y1.rhs,Reals),\n",
    "                                 In(X2.rhs.denominator,Reals)})\n",
    "Y2.proven(assumptions)"
   ]
  },
  {
   "cell_type": "code",
   "execution_count": 10,
   "metadata": {
    "collapsed": false
   },
   "outputs": [
    {
     "data": {
      "image/png": "[encoded data removed]",
      "text/plain": [
       "|alpha(l)| <= 2 / (2^(t) * |(1 - e^((i * (2 * pi * (delta - l / 2^(t))))))|)"
      ]
     },
     "execution_count": 10,
     "metadata": {},
     "output_type": "execute_result"
    }
   ],
   "source": [
    "X5 = Relation(X2).update(Y2)\n",
    "X5.proven(assumptions)"
   ]
  },
  {
   "cell_type": "code",
   "execution_count": 11,
   "metadata": {
    "collapsed": false
   },
   "outputs": [
    {
     "data": {
      "image/png": "[encoded data removed]",
      "text/plain": [
       "|alpha(l)| <= 2 / (2^(t) * |(1 - e^((i * ((2 * pi) * (delta - l / 2^(t))))))|)"
      ]
     },
     "execution_count": 11,
     "metadata": {},
     "output_type": "execute_result"
    }
   ],
   "source": [
    "X5a = multAssoc.specialize({Etcetera(w):[],\n",
    "                            Etcetera(x):two,\n",
    "                            Etcetera(y):pi,\n",
    "                     Etcetera(z):Subtract(delta,Fraction(l,Exponentiate(two,t)))}).rhsSubstitute(X5).proven(assumptions)\n",
    "X5a.proven(assumptions)"
   ]
  },
  {
   "cell_type": "code",
   "execution_count": 12,
   "metadata": {
    "collapsed": true
   },
   "outputs": [],
   "source": [
    "assumptions = assumptions.union({In(l,Integers),In(t,Naturals),In(delta,Reals),\n",
    "                                                    LessThanEquals(Neg(Exponentiate(two,Subtract(t,one))),l),\n",
    "                                                    LessThanEquals(l,Exponentiate(two,Subtract(t,one))),\n",
    "                                                    LessThanEquals(zero,delta),\n",
    "                                                    LessThanEquals(delta,Exponentiate(two,Neg(t)))})"
   ]
  },
  {
   "cell_type": "code",
   "execution_count": 13,
   "metadata": {
    "collapsed": false
   },
   "outputs": [
    {
     "data": {
      "image/png": "[encoded data removed]",
      "text/plain": [
       "-pi <= ((2 * pi) * (delta - l / 2^(t)))"
      ]
     },
     "execution_count": 13,
     "metadata": {},
     "output_type": "execute_result"
    }
   ],
   "source": [
    "Y3 = ineqThm4a.specialize().proven(assumptions)\n",
    "Y3"
   ]
  },
  {
   "cell_type": "code",
   "execution_count": 14,
   "metadata": {
    "collapsed": false
   },
   "outputs": [
    {
     "data": {
      "image/png": "[encoded data removed]",
      "text/plain": [
       "((2 * pi) * (delta - l / 2^(t))) < pi"
      ]
     },
     "execution_count": 14,
     "metadata": {},
     "output_type": "execute_result"
    }
   ],
   "source": [
    "Y4 = ineqThm4b.specialize().proven(assumptions)\n",
    "Y4"
   ]
  },
  {
   "cell_type": "code",
   "execution_count": 15,
   "metadata": {
    "collapsed": true
   },
   "outputs": [],
   "source": [
    "assumptions = assumptions.union({Y3,Y4})"
   ]
  },
  {
   "cell_type": "code",
   "execution_count": 16,
   "metadata": {
    "collapsed": true
   },
   "outputs": [],
   "source": [
    "assumptions = assumptions.union({In(X5.rhs.denominator.operands[1].operand.operands[1].exponent.operands[1],Reals),\n",
    "    LessThanEquals(Neg(pi),X5.rhs.denominator.operands[1].operand.operands[1].exponent.operands[1]),\n",
    "    LessThanEquals(X5.rhs.denominator.operands[1].operand.operands[1].exponent.operands[1],pi)})"
   ]
  },
  {
   "cell_type": "code",
   "execution_count": 17,
   "metadata": {
    "collapsed": false
   },
   "outputs": [
    {
     "data": {
      "image/png": "[encoded data removed]",
      "text/plain": [
       "(2 * |(2 * pi * (delta - l / 2^(t)))|) / pi <= |(1 - e^((i * (2 * pi * (delta - l / 2^(t))))))|"
      ]
     },
     "execution_count": 17,
     "metadata": {},
     "output_type": "execute_result"
    }
   ],
   "source": [
    "Y5 = ineqThm3.specialize({theta:X5.rhs.denominator.operands[1].operand.operands[1].exponent.operands[1]}).proven(\n",
    "    assumptions).deriveReversed().proven(assumptions)\n",
    "Y5"
   ]
  },
  {
   "cell_type": "code",
   "execution_count": 18,
   "metadata": {
    "collapsed": true
   },
   "outputs": [],
   "source": [
    "assumptions = assumptions.union({Y5})"
   ]
  },
  {
   "cell_type": "code",
   "execution_count": 19,
   "metadata": {
    "collapsed": true
   },
   "outputs": [],
   "source": [
    "assumptions = assumptions.union({In(Y5.lhs,Reals),In(Y5.rhs,Reals),In(Exponentiate(two,t),Reals),GreaterThan(Exponentiate(two,t),zero)})"
   ]
  },
  {
   "cell_type": "code",
   "execution_count": 20,
   "metadata": {
    "collapsed": false
   },
   "outputs": [
    {
     "data": {
      "image/png": "[encoded data removed]",
      "text/plain": [
       "(2^(t) * |(1 - e^((i * (2 * pi * (delta - l / 2^(t))))))|) >= (2^(t) * (2 * |(2 * pi * (delta - l / 2^(t)))|) / pi)"
      ]
     },
     "execution_count": 20,
     "metadata": {},
     "output_type": "execute_result"
    }
   ],
   "source": [
    "Y6 = divIneqThm1cor.specialize({a:Y5.lhs,c:Y5.rhs,b:Exponentiate(two,t)}).proven(assumptions).deriveReversed().proven(assumptions)\n",
    "Y6.proven(assumptions)"
   ]
  },
  {
   "cell_type": "code",
   "execution_count": 21,
   "metadata": {
    "collapsed": false
   },
   "outputs": [
    {
     "data": {
      "image/png": "[encoded data removed]",
      "text/plain": [
       "|((2 * pi) * (delta - l / 2^(t)))| = (|(2 * pi)| * |(delta - l / 2^(t))|)"
      ]
     },
     "execution_count": 21,
     "metadata": {},
     "output_type": "execute_result"
    }
   ],
   "source": [
    "Y7 = absProdEtc.specialize({Etcetera(a):Multiply(two,pi),Etcetera(b):Subtract(delta,Fraction(l,Exponentiate(two,t)))})\n",
    "assumptions = assumptions.union({In(Y7.lhs.operand.operands[0],Complexes),In(Y7.lhs.operand.operands[1],Complexes)})\n",
    "Y7.proven(assumptions)"
   ]
  },
  {
   "cell_type": "code",
   "execution_count": 22,
   "metadata": {
    "collapsed": false
   },
   "outputs": [
    {
     "data": {
      "image/png": "[encoded data removed]",
      "text/plain": [
       "(2^(t) * |(1 - e^((i * ((2 * pi) * (delta - l / 2^(t))))))|) >= (2^(t) * (2 * |((2 * pi) * (delta - l / 2^(t)))|) / pi)"
      ]
     },
     "execution_count": 22,
     "metadata": {},
     "output_type": "execute_result"
    }
   ],
   "source": [
    "Y8 = multAssoc.specialize(\n",
    "    {Etcetera(w):[],Etcetera(x):two,Etcetera(y):pi,Etcetera(z):Subtract(delta,Fraction(l,Exponentiate(two,t)))}).rhsSubstitute(Y6)\n",
    "Y8.proven(assumptions)"
   ]
  },
  {
   "cell_type": "code",
   "execution_count": 23,
   "metadata": {
    "collapsed": false
   },
   "outputs": [
    {
     "data": {
      "image/png": "[encoded data removed]",
      "text/plain": [
       "(2^(t) * |(1 - e^((i * ((2 * pi) * (delta - l / 2^(t))))))|) >= (2^(t) * (2 * (|(2 * pi)| * |(delta - l / 2^(t))|)) / pi)"
      ]
     },
     "execution_count": 23,
     "metadata": {},
     "output_type": "execute_result"
    }
   ],
   "source": [
    "Y9 = Y7.rhsSubstitute(Y8)\n",
    "Y9.proven(assumptions)"
   ]
  },
  {
   "cell_type": "code",
   "execution_count": 24,
   "metadata": {
    "collapsed": false
   },
   "outputs": [
    {
     "data": {
      "image/png": "[encoded data removed]",
      "text/plain": [
       "(2^(t) * |(1 - e^((i * ((2 * pi) * (delta - l / 2^(t))))))|) >= (2^(t) * (2 * ((2 * pi) * |(delta - l / 2^(t))|)) / pi)"
      ]
     },
     "execution_count": 24,
     "metadata": {},
     "output_type": "execute_result"
    }
   ],
   "source": [
    "Y10 = absPos.specialize({a:Y7.rhs.operands[0].operand}).rhsSubstitute(Y9)\n",
    "Y10.proven(assumptions)"
   ]
  },
  {
   "cell_type": "code",
   "execution_count": 25,
   "metadata": {
    "collapsed": false
   },
   "outputs": [
    {
     "data": {
      "image/png": "[encoded data removed]",
      "text/plain": [
       "(2 * (2 * pi) * |(delta - l / 2^(t))|) = (2 * ((2 * pi) * |(delta - l / 2^(t))|))"
      ]
     },
     "execution_count": 25,
     "metadata": {},
     "output_type": "execute_result"
    }
   ],
   "source": [
    "Y11 = multAssoc.specialize({Etcetera(w):two,Etcetera(x):Multiply(two,pi),\n",
    "                     Etcetera(y):Abs(Subtract(delta,Fraction(l,Exponentiate(two,t)))),Etcetera(z):[]})\n",
    "Y11.proven(assumptions)"
   ]
  },
  {
   "cell_type": "code",
   "execution_count": 26,
   "metadata": {
    "collapsed": false
   },
   "outputs": [
    {
     "data": {
      "image/png": "[encoded data removed]",
      "text/plain": [
       "(2^(t) * |(1 - e^((i * ((2 * pi) * (delta - l / 2^(t))))))|) >= (2^(t) * (2 * (2 * pi) * |(delta - l / 2^(t))|) / pi)"
      ]
     },
     "execution_count": 26,
     "metadata": {},
     "output_type": "execute_result"
    }
   ],
   "source": [
    "Y12 = Y11.lhsSubstitute(Y10)\n",
    "Y12.proven(assumptions)"
   ]
  },
  {
   "cell_type": "code",
   "execution_count": 27,
   "metadata": {
    "collapsed": false
   },
   "outputs": [
    {
     "data": {
      "image/png": "[encoded data removed]",
      "text/plain": [
       "(2 * 2 * pi * |(delta - l / 2^(t))|) = (2 * (2 * pi) * |(delta - l / 2^(t))|)"
      ]
     },
     "execution_count": 27,
     "metadata": {},
     "output_type": "execute_result"
    }
   ],
   "source": [
    "Y13 = multAssoc.specialize({Etcetera(w):two,Etcetera(x):two,\n",
    "                            Etcetera(y):pi,Etcetera(z):Abs(Subtract(delta,Fraction(l,Exponentiate(two,t))))})\n",
    "Y13.proven()"
   ]
  },
  {
   "cell_type": "code",
   "execution_count": 28,
   "metadata": {
    "collapsed": false
   },
   "outputs": [
    {
     "data": {
      "image/png": "[encoded data removed]",
      "text/plain": [
       "(2^(t) * |(1 - e^((i * ((2 * pi) * (delta - l / 2^(t))))))|) >= (2^(t) * (2 * 2 * pi * |(delta - l / 2^(t))|) / pi)"
      ]
     },
     "execution_count": 28,
     "metadata": {},
     "output_type": "execute_result"
    }
   ],
   "source": [
    "Y14 = Y13.lhsSubstitute(Y12)\n",
    "Y14.proven(assumptions)"
   ]
  },
  {
   "cell_type": "code",
   "execution_count": 29,
   "metadata": {
    "collapsed": true
   },
   "outputs": [],
   "source": [
    "assumptions = assumptions.union({In(pi,Complexes),\n",
    "                              In(Multiply(two,two,Abs(Subtract(delta,Fraction(l,Exponentiate(two,t))))),Complexes)\n",
    "                             })"
   ]
  },
  {
   "cell_type": "code",
   "execution_count": 30,
   "metadata": {
    "collapsed": false
   },
   "outputs": [
    {
     "name": "stdout",
     "output_type": "stream",
     "text": [
      "_0_\n",
      "_0_ / pi\n",
      "proveit.number.arithmeticOps.Multiply\n",
      "proveit.number.arithmeticOps.Multiply\n"
     ]
    },
    {
     "data": {
      "image/png": "[encoded data removed]",
      "text/plain": [
       "(2^(t) * |(1 - e^((i * ((2 * pi) * (delta - l / 2^(t))))))|) >= (2^(t) * (2 * 2 * |(delta - l / 2^(t))|))"
      ]
     },
     "execution_count": 30,
     "metadata": {},
     "output_type": "execute_result"
    }
   ],
   "source": [
    "Y15 = Y14.rhs.operands[1].cancel(pi).rhsSubstitute(Y14)\n",
    "Y15.proven(assumptions)"
   ]
  },
  {
   "cell_type": "code",
   "execution_count": 31,
   "metadata": {
    "collapsed": false
   },
   "outputs": [
    {
     "data": {
      "image/png": "[encoded data removed]",
      "text/plain": [
       "|alpha(l)| <= 2 / (2^(t) * |(1 - e^((i * (2 * pi * (delta - l / 2^(t))))))|)"
      ]
     },
     "execution_count": 31,
     "metadata": {},
     "output_type": "execute_result"
    }
   ],
   "source": [
    "X5"
   ]
  },
  {
   "cell_type": "code",
   "execution_count": 32,
   "metadata": {
    "collapsed": true
   },
   "outputs": [],
   "source": [
    "assumptions = assumptions.union({In(two,Reals),In(t,Reals),GreaterThan(two,zero)})"
   ]
  },
  {
   "cell_type": "code",
   "execution_count": 33,
   "metadata": {
    "collapsed": false
   },
   "outputs": [
    {
     "data": {
      "image/png": "[encoded data removed]",
      "text/plain": [
       "2^(t) > 0"
      ]
     },
     "execution_count": 33,
     "metadata": {},
     "output_type": "execute_result"
    }
   ],
   "source": [
    "Y16 = posOfExps.specialize({x:two,y:t}).proven(assumptions)\n",
    "Y16"
   ]
  },
  {
   "cell_type": "code",
   "execution_count": 34,
   "metadata": {
    "collapsed": false
   },
   "outputs": [
    {
     "data": {
      "image/png": "[encoded data removed]",
      "text/plain": [
       "(2 * 2 * |(delta - l / 2^(t))|) > 0"
      ]
     },
     "execution_count": 34,
     "metadata": {},
     "output_type": "execute_result"
    }
   ],
   "source": [
    "Y17 = GreaterThan(Multiply(two,two,Abs(Subtract(delta,Fraction(l,Exponentiate(two,t))))),zero)\n",
    "Y17.proven({Y17})#Will need to go back and prove Y17"
   ]
  },
  {
   "cell_type": "code",
   "execution_count": 35,
   "metadata": {
    "collapsed": true
   },
   "outputs": [],
   "source": [
    "assumptions = assumptions.union({Y16,Y17,In(Y16.lhs,Reals),In(Y17.lhs,Reals)})"
   ]
  },
  {
   "cell_type": "code",
   "execution_count": 36,
   "metadata": {
    "collapsed": false
   },
   "outputs": [
    {
     "data": {
      "image/png": "[encoded data removed]",
      "text/plain": [
       "(2^(t) * (2 * 2 * |(delta - l / 2^(t))|)) > 0"
      ]
     },
     "execution_count": 36,
     "metadata": {},
     "output_type": "execute_result"
    }
   ],
   "source": [
    "Y18 = posProd.specialize({x:Y16.lhs,y:Y17.lhs})\n",
    "Y18.proven(assumptions)"
   ]
  },
  {
   "cell_type": "code",
   "execution_count": 37,
   "metadata": {
    "collapsed": false
   },
   "outputs": [
    {
     "data": {
      "image/png": "[encoded data removed]",
      "text/plain": [
       "|alpha(l)| <= 2 / (2^(t) * |(1 - e^((i * ((2 * pi) * (delta - l / 2^(t))))))|)"
      ]
     },
     "execution_count": 37,
     "metadata": {},
     "output_type": "execute_result"
    }
   ],
   "source": [
    "X5a = multAssoc.specialize({Etcetera(w):[],\n",
    "                            Etcetera(x):two,\n",
    "                            Etcetera(y):pi,\n",
    "                     Etcetera(z):Subtract(delta,Fraction(l,Exponentiate(two,t)))}).rhsSubstitute(X5).proven(assumptions)\n",
    "X5a"
   ]
  },
  {
   "cell_type": "code",
   "execution_count": 38,
   "metadata": {
    "collapsed": false
   },
   "outputs": [
    {
     "data": {
      "image/png": "[encoded data removed]",
      "text/plain": [
       "|alpha(l)| <= 2 / (2^(t) * (2 * 2 * |(delta - l / 2^(t))|))"
      ]
     },
     "execution_count": 38,
     "metadata": {},
     "output_type": "execute_result"
    }
   ],
   "source": [
    "X19 = ineqThm10.specialize({w:X5.lhs,\n",
    "                      x:X5a.rhs.numerator,\n",
    "                      y:X5a.rhs.denominator,\n",
    "                      z:Y18.lhs})\n",
    "assumptions = assumptions.union({In(X5a.lhs,Reals),\n",
    "                                 In(X5a.rhs.numerator,Reals),\n",
    "                                 In(X5a.rhs.denominator,Reals),\n",
    "                                 In(Y18.lhs,Reals),\n",
    "                                 X5a,\n",
    "                                 Y15,\n",
    "                                 GreaterThan(X5a.lhs,zero),\n",
    "                                 GreaterThan(two,zero),\n",
    "                                 GreaterThan(X5a.rhs.denominator,zero),\n",
    "                                 Y18\n",
    "                                })#,\n",
    "#                                 \n",
    "#                                 ,})\n",
    "X19.proven(assumptions)"
   ]
  },
  {
   "cell_type": "code",
   "execution_count": 39,
   "metadata": {
    "collapsed": false
   },
   "outputs": [
    {
     "data": {
      "image/png": "[encoded data removed]",
      "text/plain": [
       "(2^(t) * 2 * 2 * |(delta - l / 2^(t))|) = (2^(t) * (2 * 2 * |(delta - l / 2^(t))|))"
      ]
     },
     "execution_count": 39,
     "metadata": {},
     "output_type": "execute_result"
    }
   ],
   "source": [
    "multAssoc.specialize({Etcetera(w):Exponentiate(two,t),\n",
    "                      Etcetera(x):[two,two],\n",
    "                      Etcetera(y):Abs(Subtract(delta,Fraction(l,Exponentiate(two,t)))),\n",
    "                      Etcetera(z):[]})"
   ]
  },
  {
   "cell_type": "code",
   "execution_count": 40,
   "metadata": {
    "collapsed": false
   },
   "outputs": [
    {
     "data": {
      "image/png": "[encoded data removed]",
      "text/plain": [
       "|alpha(l)| <= 2 / (2^(t) * 2 * 2 * |(delta - l / 2^(t))|)"
      ]
     },
     "execution_count": 40,
     "metadata": {},
     "output_type": "execute_result"
    }
   ],
   "source": [
    "X20 = multAssoc.specialize({Etcetera(w):Exponentiate(two,t),\n",
    "                      Etcetera(x):[two,two],\n",
    "                      Etcetera(y):Abs(Subtract(delta,Fraction(l,Exponentiate(two,t)))),\n",
    "                      Etcetera(z):[]}).lhsSubstitute(X19).proven(assumptions)\n",
    "X20"
   ]
  },
  {
   "cell_type": "code",
   "execution_count": null,
   "metadata": {
    "collapsed": true
   },
   "outputs": [],
   "source": []
  },
  {
   "cell_type": "code",
   "execution_count": 41,
   "metadata": {
    "collapsed": false
   },
   "outputs": [
    {
     "name": "stdout",
     "output_type": "stream",
     "text": [
      "_0_\n",
      "2 / _0_\n",
      "proveit.number.arithmeticOps.Multiply\n",
      "proveit.number.arithmeticOps.Multiply\n"
     ]
    },
    {
     "data": {
      "image/png": "[encoded data removed]",
      "text/plain": [
       "2 / (2^(t) * 2 * 2 * |(delta - l / 2^(t))|) = 1 / (2^(t) * 2 * |(delta - l / 2^(t))|)"
      ]
     },
     "execution_count": 41,
     "metadata": {},
     "output_type": "execute_result"
    }
   ],
   "source": [
    "Y21 = X20.rhs.cancel(two)\n",
    "assumptions = assumptions.union({In(two,Complexes),In(Multiply(Exponentiate(two,t),two,Abs(Subtract(delta,Fraction(l,Exponentiate(two,t))))),Complexes)})\n",
    "Y21.proven(assumptions)"
   ]
  },
  {
   "cell_type": "code",
   "execution_count": 42,
   "metadata": {
    "collapsed": false
   },
   "outputs": [
    {
     "data": {
      "image/png": "[encoded data removed]",
      "text/plain": [
       "|alpha(l)| <= 1 / (2^(t) * 2 * |(delta - l / 2^(t))|)"
      ]
     },
     "execution_count": 42,
     "metadata": {},
     "output_type": "execute_result"
    }
   ],
   "source": [
    "X22 = Y21.rhsSubstitute(X20)\n",
    "X22.proven(assumptions)"
   ]
  },
  {
   "cell_type": "code",
   "execution_count": 44,
   "metadata": {
    "collapsed": true
   },
   "outputs": [],
   "source": []
  },
  {
   "cell_type": "code",
   "execution_count": 45,
   "metadata": {
    "collapsed": false
   },
   "outputs": [
    {
     "data": {
      "image/png": "[encoded data removed]",
      "text/plain": [
       "(2^(t) * 2 * |(delta - l / 2^(t))|) = (2^((t + 1)) * |(delta - l / 2^(t))|)"
      ]
     },
     "execution_count": 45,
     "metadata": {},
     "output_type": "execute_result"
    }
   ],
   "source": [
    "assumptions = assumptions.union({In(t,Complexes),In(two,Complexes),In(Abs(Subtract(delta,Fraction(l,Exponentiate(two,t)))),Complexes)})\n",
    "Y23 = expAdd1a.specialize({x:two,y:t,z:Abs(Subtract(delta,Fraction(l,Exponentiate(two,t))))})\n",
    "Y23.proven(assumptions)"
   ]
  },
  {
   "cell_type": "code",
   "execution_count": 46,
   "metadata": {
    "collapsed": false
   },
   "outputs": [
    {
     "data": {
      "image/png": "[encoded data removed]",
      "text/plain": [
       "|alpha(l)| <= 1 / (2^((t + 1)) * |(delta - l / 2^(t))|)"
      ]
     },
     "execution_count": 46,
     "metadata": {},
     "output_type": "execute_result"
    }
   ],
   "source": [
    "X24 = Y23.rhsSubstitute(X22)\n",
    "X24.proven(assumptions)"
   ]
  },
  {
   "cell_type": "code",
   "execution_count": null,
   "metadata": {
    "collapsed": true
   },
   "outputs": [],
   "source": []
  },
  {
   "cell_type": "code",
   "execution_count": 43,
   "metadata": {
    "collapsed": false
   },
   "outputs": [
    {
     "ename": "ValueError",
     "evalue": "An AssociativeOperation must have at least 2 operands",
     "output_type": "error",
     "traceback": [
      "\u001b[0;31m---------------------------------------------------------------------------\u001b[0m",
      "\u001b[0;31mValueError\u001b[0m                                Traceback (most recent call last)",
      "\u001b[0;32m<ipython-input-43-f254fabb2d36>\u001b[0m in \u001b[0;36m<module>\u001b[0;34m()\u001b[0m\n\u001b[0;32m----> 1\u001b[0;31m \u001b[0mmultAssoc\u001b[0m\u001b[0;34m.\u001b[0m\u001b[0mspecialize\u001b[0m\u001b[0;34m(\u001b[0m\u001b[0;34m{\u001b[0m\u001b[0mEtcetera\u001b[0m\u001b[0;34m(\u001b[0m\u001b[0mw\u001b[0m\u001b[0;34m)\u001b[0m\u001b[0;34m:\u001b[0m\u001b[0;34m[\u001b[0m\u001b[0;34m]\u001b[0m\u001b[0;34m,\u001b[0m\u001b[0mEtcetera\u001b[0m\u001b[0;34m(\u001b[0m\u001b[0mx\u001b[0m\u001b[0;34m)\u001b[0m\u001b[0;34m:\u001b[0m\u001b[0mone\u001b[0m\u001b[0;34m,\u001b[0m\u001b[0mEtcetera\u001b[0m\u001b[0;34m(\u001b[0m\u001b[0my\u001b[0m\u001b[0;34m)\u001b[0m\u001b[0;34m:\u001b[0m\u001b[0mone\u001b[0m\u001b[0;34m,\u001b[0m\u001b[0mEtcetera\u001b[0m\u001b[0;34m(\u001b[0m\u001b[0mz\u001b[0m\u001b[0;34m)\u001b[0m\u001b[0;34m:\u001b[0m\u001b[0;34m[\u001b[0m\u001b[0;34m]\u001b[0m\u001b[0;34m}\u001b[0m\u001b[0;34m)\u001b[0m\u001b[0;34m\u001b[0m\u001b[0m\n\u001b[0m",
      "\u001b[0;32m/Users/kmrudin/proveit/proveit/basiclogic/boolean/quantifiers.pyc\u001b[0m in \u001b[0;36mspecialize\u001b[0;34m(self, subMap, conditionAsHypothesis)\u001b[0m\n\u001b[1;32m     49\u001b[0m         \u001b[0;32mfor\u001b[0m \u001b[0mvar\u001b[0m \u001b[0;32min\u001b[0m \u001b[0miVarSet\u001b[0m\u001b[0;34m:\u001b[0m\u001b[0;34m\u001b[0m\u001b[0m\n\u001b[1;32m     50\u001b[0m             \u001b[0;32mif\u001b[0m \u001b[0mvar\u001b[0m \u001b[0;32mnot\u001b[0m \u001b[0;32min\u001b[0m \u001b[0msubVars\u001b[0m\u001b[0;34m:\u001b[0m \u001b[0msubMap\u001b[0m\u001b[0;34m[\u001b[0m\u001b[0mvar\u001b[0m\u001b[0;34m]\u001b[0m \u001b[0;34m=\u001b[0m \u001b[0mvar\u001b[0m\u001b[0;34m\u001b[0m\u001b[0m\n\u001b[0;32m---> 51\u001b[0;31m         \u001b[0mspecialized\u001b[0m \u001b[0;34m=\u001b[0m \u001b[0mExpression\u001b[0m\u001b[0;34m.\u001b[0m\u001b[0mspecialize\u001b[0m\u001b[0;34m(\u001b[0m\u001b[0mself\u001b[0m\u001b[0;34m,\u001b[0m \u001b[0msubMap\u001b[0m\u001b[0;34m,\u001b[0m \u001b[0mrelabelMap\u001b[0m\u001b[0;34m)\u001b[0m\u001b[0;34m\u001b[0m\u001b[0m\n\u001b[0m\u001b[1;32m     52\u001b[0m         \u001b[0;32mif\u001b[0m \u001b[0mconditionAsHypothesis\u001b[0m \u001b[0;32mand\u001b[0m \u001b[0mself\u001b[0m\u001b[0;34m.\u001b[0m\u001b[0mhasCondition\u001b[0m\u001b[0;34m(\u001b[0m\u001b[0;34m)\u001b[0m\u001b[0;34m:\u001b[0m\u001b[0;34m\u001b[0m\u001b[0m\n\u001b[1;32m     53\u001b[0m             \u001b[0;32mreturn\u001b[0m \u001b[0mImplies\u001b[0m\u001b[0;34m(\u001b[0m\u001b[0mself\u001b[0m\u001b[0;34m.\u001b[0m\u001b[0mconditions\u001b[0m\u001b[0;34m[\u001b[0m\u001b[0;36m0\u001b[0m\u001b[0;34m]\u001b[0m\u001b[0;34m,\u001b[0m \u001b[0mspecialized\u001b[0m\u001b[0;34m)\u001b[0m\u001b[0;34m.\u001b[0m\u001b[0mchecked\u001b[0m\u001b[0;34m(\u001b[0m\u001b[0;34m{\u001b[0m\u001b[0mself\u001b[0m\u001b[0;34m}\u001b[0m\u001b[0;34m)\u001b[0m\u001b[0;34m\u001b[0m\u001b[0m\n",
      "\u001b[0;32m/Users/kmrudin/proveit/proveit/expression.pyc\u001b[0m in \u001b[0;36mspecialize\u001b[0;34m(self, subMap, relabelMap)\u001b[0m\n\u001b[1;32m    223\u001b[0m     \u001b[0;32mdef\u001b[0m \u001b[0mspecialize\u001b[0m\u001b[0;34m(\u001b[0m\u001b[0mself\u001b[0m\u001b[0;34m,\u001b[0m \u001b[0msubMap\u001b[0m\u001b[0;34m=\u001b[0m\u001b[0mNone\u001b[0m\u001b[0;34m,\u001b[0m \u001b[0mrelabelMap\u001b[0m\u001b[0;34m=\u001b[0m\u001b[0mNone\u001b[0m\u001b[0;34m)\u001b[0m\u001b[0;34m:\u001b[0m\u001b[0;34m\u001b[0m\u001b[0m\n\u001b[1;32m    224\u001b[0m         \u001b[0;31m# Can be overridden by the Forall implementation\u001b[0m\u001b[0;34m\u001b[0m\u001b[0;34m\u001b[0m\u001b[0m\n\u001b[0;32m--> 225\u001b[0;31m         \u001b[0;32mreturn\u001b[0m \u001b[0mself\u001b[0m\u001b[0;34m.\u001b[0m\u001b[0m_specialize_or_relabel\u001b[0m\u001b[0;34m(\u001b[0m\u001b[0msubMap\u001b[0m\u001b[0;34m=\u001b[0m\u001b[0msubMap\u001b[0m\u001b[0;34m,\u001b[0m \u001b[0mrelabelMap\u001b[0m\u001b[0;34m=\u001b[0m\u001b[0mrelabelMap\u001b[0m\u001b[0;34m)\u001b[0m\u001b[0;34m\u001b[0m\u001b[0m\n\u001b[0m\u001b[1;32m    226\u001b[0m \u001b[0;34m\u001b[0m\u001b[0m\n\u001b[1;32m    227\u001b[0m     \u001b[0;32mdef\u001b[0m \u001b[0m_specialize_or_relabel\u001b[0m\u001b[0;34m(\u001b[0m\u001b[0mself\u001b[0m\u001b[0;34m,\u001b[0m \u001b[0msubMap\u001b[0m\u001b[0;34m=\u001b[0m\u001b[0mNone\u001b[0m\u001b[0;34m,\u001b[0m \u001b[0mrelabelMap\u001b[0m\u001b[0;34m=\u001b[0m\u001b[0mNone\u001b[0m\u001b[0;34m)\u001b[0m\u001b[0;34m:\u001b[0m\u001b[0;34m\u001b[0m\u001b[0m\n",
      "\u001b[0;32m/Users/kmrudin/proveit/proveit/expression.pyc\u001b[0m in \u001b[0;36m_specialize_or_relabel\u001b[0;34m(self, subMap, relabelMap)\u001b[0m\n\u001b[1;32m    229\u001b[0m         \u001b[0;32mif\u001b[0m \u001b[0msubMap\u001b[0m \u001b[0;32mis\u001b[0m \u001b[0mNone\u001b[0m\u001b[0;34m:\u001b[0m \u001b[0msubMap\u001b[0m \u001b[0;34m=\u001b[0m \u001b[0mdict\u001b[0m\u001b[0;34m(\u001b[0m\u001b[0;34m)\u001b[0m\u001b[0;34m\u001b[0m\u001b[0m\n\u001b[1;32m    230\u001b[0m         \u001b[0;32mif\u001b[0m \u001b[0mrelabelMap\u001b[0m \u001b[0;32mis\u001b[0m \u001b[0mNone\u001b[0m\u001b[0;34m:\u001b[0m \u001b[0mrelabelMap\u001b[0m \u001b[0;34m=\u001b[0m \u001b[0mdict\u001b[0m\u001b[0;34m(\u001b[0m\u001b[0;34m)\u001b[0m\u001b[0;34m\u001b[0m\u001b[0m\n\u001b[0;32m--> 231\u001b[0;31m         \u001b[0;34m(\u001b[0m\u001b[0mspecialization\u001b[0m\u001b[0;34m,\u001b[0m \u001b[0mconditions\u001b[0m\u001b[0;34m)\u001b[0m \u001b[0;34m=\u001b[0m \u001b[0mStatement\u001b[0m\u001b[0;34m.\u001b[0m\u001b[0mspecialize\u001b[0m\u001b[0;34m(\u001b[0m\u001b[0mself\u001b[0m\u001b[0;34m,\u001b[0m \u001b[0msubMap\u001b[0m\u001b[0;34m,\u001b[0m \u001b[0mrelabelMap\u001b[0m\u001b[0;34m)\u001b[0m\u001b[0;34m\u001b[0m\u001b[0m\n\u001b[0m\u001b[1;32m    232\u001b[0m         \u001b[0;32mreturn\u001b[0m \u001b[0mspecialization\u001b[0m\u001b[0;34m.\u001b[0m\u001b[0mchecked\u001b[0m\u001b[0;34m(\u001b[0m\u001b[0;34m{\u001b[0m\u001b[0mself\u001b[0m\u001b[0;34m}\u001b[0m \u001b[0;34m|\u001b[0m \u001b[0mconditions\u001b[0m\u001b[0;34m)\u001b[0m\u001b[0;34m\u001b[0m\u001b[0m\n\u001b[1;32m    233\u001b[0m \u001b[0;34m\u001b[0m\u001b[0m\n",
      "\u001b[0;32m/Users/kmrudin/proveit/proveit/statement.pyc\u001b[0m in \u001b[0;36mspecialize\u001b[0;34m(originalExpr, subMap, relabelMap)\u001b[0m\n\u001b[1;32m    222\u001b[0m             \u001b[0mconditions\u001b[0m \u001b[0;34m=\u001b[0m \u001b[0;34m[\u001b[0m\u001b[0;34m]\u001b[0m\u001b[0;34m\u001b[0m\u001b[0m\n\u001b[1;32m    223\u001b[0m         \u001b[0;31m# make and state the specialized expression with appropriate substitutions\u001b[0m\u001b[0;34m\u001b[0m\u001b[0;34m\u001b[0m\u001b[0m\n\u001b[0;32m--> 224\u001b[0;31m         \u001b[0mspecializedExpr\u001b[0m \u001b[0;34m=\u001b[0m \u001b[0mStatement\u001b[0m\u001b[0;34m.\u001b[0m\u001b[0mstate\u001b[0m\u001b[0;34m(\u001b[0m\u001b[0mexpr\u001b[0m\u001b[0;34m.\u001b[0m\u001b[0msubstituted\u001b[0m\u001b[0;34m(\u001b[0m\u001b[0mnonOpSubMap\u001b[0m\u001b[0;34m,\u001b[0m \u001b[0moperationSubMap\u001b[0m\u001b[0;34m,\u001b[0m \u001b[0mrelabelMap\u001b[0m\u001b[0;34m)\u001b[0m\u001b[0;34m)\u001b[0m\u001b[0;34m\u001b[0m\u001b[0m\n\u001b[0m\u001b[1;32m    225\u001b[0m         \u001b[0;31m# make substitutions in the condition\u001b[0m\u001b[0;34m\u001b[0m\u001b[0;34m\u001b[0m\u001b[0m\n\u001b[1;32m    226\u001b[0m         \u001b[0msubbedConditions\u001b[0m \u001b[0;34m=\u001b[0m \u001b[0;34m{\u001b[0m\u001b[0masStatement\u001b[0m\u001b[0;34m(\u001b[0m\u001b[0mcondition\u001b[0m\u001b[0;34m.\u001b[0m\u001b[0msubstituted\u001b[0m\u001b[0;34m(\u001b[0m\u001b[0mnonOpSubMap\u001b[0m\u001b[0;34m,\u001b[0m \u001b[0moperationSubMap\u001b[0m\u001b[0;34m,\u001b[0m \u001b[0mrelabelMap\u001b[0m\u001b[0;34m)\u001b[0m\u001b[0;34m)\u001b[0m \u001b[0;32mfor\u001b[0m \u001b[0mcondition\u001b[0m \u001b[0;32min\u001b[0m \u001b[0mconditions\u001b[0m\u001b[0;34m}\u001b[0m\u001b[0;34m\u001b[0m\u001b[0m\n",
      "\u001b[0;32m/Users/kmrudin/proveit/proveit/expression.pyc\u001b[0m in \u001b[0;36msubstituted\u001b[0;34m(self, exprMap, operationMap, relabelMap, reservedVars)\u001b[0m\n\u001b[1;32m    425\u001b[0m             \u001b[0;32mreturn\u001b[0m \u001b[0mexprMap\u001b[0m\u001b[0;34m[\u001b[0m\u001b[0mself\u001b[0m\u001b[0;34m]\u001b[0m\u001b[0;34m.\u001b[0m\u001b[0m_restrictionChecked\u001b[0m\u001b[0;34m(\u001b[0m\u001b[0mreservedVars\u001b[0m\u001b[0;34m)\u001b[0m\u001b[0;34m\u001b[0m\u001b[0m\n\u001b[1;32m    426\u001b[0m         \u001b[0moperator\u001b[0m \u001b[0;34m=\u001b[0m \u001b[0mself\u001b[0m\u001b[0;34m.\u001b[0m\u001b[0moperator\u001b[0m\u001b[0;34m\u001b[0m\u001b[0m\n\u001b[0;32m--> 427\u001b[0;31m         \u001b[0msubbedOperands\u001b[0m \u001b[0;34m=\u001b[0m \u001b[0mself\u001b[0m\u001b[0;34m.\u001b[0m\u001b[0moperands\u001b[0m\u001b[0;34m.\u001b[0m\u001b[0msubstituted\u001b[0m\u001b[0;34m(\u001b[0m\u001b[0mexprMap\u001b[0m\u001b[0;34m,\u001b[0m \u001b[0moperationMap\u001b[0m\u001b[0;34m,\u001b[0m \u001b[0mrelabelMap\u001b[0m\u001b[0;34m,\u001b[0m \u001b[0mreservedVars\u001b[0m\u001b[0;34m)\u001b[0m\u001b[0;34m\u001b[0m\u001b[0m\n\u001b[0m\u001b[1;32m    428\u001b[0m         \u001b[0;32mif\u001b[0m \u001b[0moperationMap\u001b[0m \u001b[0;32mis\u001b[0m \u001b[0;32mnot\u001b[0m \u001b[0mNone\u001b[0m \u001b[0;32mand\u001b[0m \u001b[0misinstance\u001b[0m\u001b[0;34m(\u001b[0m\u001b[0moperator\u001b[0m\u001b[0;34m,\u001b[0m \u001b[0mVariable\u001b[0m\u001b[0;34m)\u001b[0m \u001b[0;32mand\u001b[0m \u001b[0moperator\u001b[0m \u001b[0;32min\u001b[0m \u001b[0moperationMap\u001b[0m\u001b[0;34m:\u001b[0m\u001b[0;34m\u001b[0m\u001b[0m\n\u001b[1;32m    429\u001b[0m             \u001b[0;31m# Substitute the entire operation via a Lambda expression\u001b[0m\u001b[0;34m\u001b[0m\u001b[0;34m\u001b[0m\u001b[0m\n",
      "\u001b[0;32m/Users/kmrudin/proveit/proveit/multiExpression.pyc\u001b[0m in \u001b[0;36msubstituted\u001b[0;34m(self, exprMap, operationMap, relabelMap, reservedVars)\u001b[0m\n\u001b[1;32m    111\u001b[0m                         \u001b[0;32myield\u001b[0m \u001b[0metc_expr\u001b[0m\u001b[0;34m\u001b[0m\u001b[0m\n\u001b[1;32m    112\u001b[0m                 \u001b[0;32melse\u001b[0m\u001b[0;34m:\u001b[0m \u001b[0;32myield\u001b[0m \u001b[0msubbed_expr\u001b[0m \u001b[0;31m# yield an individual ExpressionList element\u001b[0m\u001b[0;34m\u001b[0m\u001b[0m\n\u001b[0;32m--> 113\u001b[0;31m         \u001b[0;32mreturn\u001b[0m \u001b[0mExpressionList\u001b[0m\u001b[0;34m(\u001b[0m\u001b[0;34m*\u001b[0m\u001b[0mlist\u001b[0m\u001b[0;34m(\u001b[0m\u001b[0msubbedGen\u001b[0m\u001b[0;34m(\u001b[0m\u001b[0;34m)\u001b[0m\u001b[0;34m)\u001b[0m\u001b[0;34m)\u001b[0m\u001b[0;34m\u001b[0m\u001b[0m\n\u001b[0m\u001b[1;32m    114\u001b[0m \u001b[0;34m\u001b[0m\u001b[0m\n\u001b[1;32m    115\u001b[0m     \u001b[0;32mdef\u001b[0m \u001b[0musedVars\u001b[0m\u001b[0;34m(\u001b[0m\u001b[0mself\u001b[0m\u001b[0;34m)\u001b[0m\u001b[0;34m:\u001b[0m\u001b[0;34m\u001b[0m\u001b[0m\n",
      "\u001b[0;32m/Users/kmrudin/proveit/proveit/multiExpression.pyc\u001b[0m in \u001b[0;36msubbedGen\u001b[0;34m()\u001b[0m\n\u001b[1;32m    105\u001b[0m         \u001b[0;32mdef\u001b[0m \u001b[0msubbedGen\u001b[0m\u001b[0;34m(\u001b[0m\u001b[0;34m)\u001b[0m\u001b[0;34m:\u001b[0m\u001b[0;34m\u001b[0m\u001b[0m\n\u001b[1;32m    106\u001b[0m             \u001b[0;32mfor\u001b[0m \u001b[0mexpr\u001b[0m \u001b[0;32min\u001b[0m \u001b[0mself\u001b[0m\u001b[0;34m:\u001b[0m\u001b[0;34m\u001b[0m\u001b[0m\n\u001b[0;32m--> 107\u001b[0;31m                 \u001b[0msubbed_expr\u001b[0m \u001b[0;34m=\u001b[0m \u001b[0mexpr\u001b[0m\u001b[0;34m.\u001b[0m\u001b[0msubstituted\u001b[0m\u001b[0;34m(\u001b[0m\u001b[0mexprMap\u001b[0m\u001b[0;34m,\u001b[0m \u001b[0moperationMap\u001b[0m\u001b[0;34m,\u001b[0m \u001b[0mrelabelMap\u001b[0m\u001b[0;34m,\u001b[0m \u001b[0mreservedVars\u001b[0m\u001b[0;34m)\u001b[0m\u001b[0;34m\u001b[0m\u001b[0m\n\u001b[0m\u001b[1;32m    108\u001b[0m                 \u001b[0;32mif\u001b[0m \u001b[0misinstance\u001b[0m\u001b[0;34m(\u001b[0m\u001b[0mexpr\u001b[0m\u001b[0;34m,\u001b[0m \u001b[0mEtcetera\u001b[0m\u001b[0;34m)\u001b[0m\u001b[0;34m:\u001b[0m\u001b[0;34m\u001b[0m\u001b[0m\n\u001b[1;32m    109\u001b[0m                     \u001b[0;31m# expand the Etcetera substitution\u001b[0m\u001b[0;34m\u001b[0m\u001b[0;34m\u001b[0m\u001b[0m\n",
      "\u001b[0;32m/Users/kmrudin/proveit/proveit/expression.pyc\u001b[0m in \u001b[0;36msubstituted\u001b[0;34m(self, exprMap, operationMap, relabelMap, reservedVars)\u001b[0m\n\u001b[1;32m    455\u001b[0m                 \u001b[0;32mreturn\u001b[0m \u001b[0mExpressionList\u001b[0m\u001b[0;34m(\u001b[0m\u001b[0;34m[\u001b[0m\u001b[0mOperation\u001b[0m\u001b[0;34m.\u001b[0m\u001b[0mmake\u001b[0m\u001b[0;34m(\u001b[0m\u001b[0moperator\u001b[0m\u001b[0;34m,\u001b[0m \u001b[0msubbedOperands\u001b[0m\u001b[0;34m)\u001b[0m \u001b[0;32mfor\u001b[0m \u001b[0moperator\u001b[0m \u001b[0;32min\u001b[0m \u001b[0msubbedOperator\u001b[0m\u001b[0;34m]\u001b[0m\u001b[0;34m)\u001b[0m\u001b[0;34m\u001b[0m\u001b[0m\n\u001b[1;32m    456\u001b[0m             \u001b[0;32melse\u001b[0m\u001b[0;34m:\u001b[0m\u001b[0;34m\u001b[0m\u001b[0m\n\u001b[0;32m--> 457\u001b[0;31m                 \u001b[0;32mreturn\u001b[0m \u001b[0mOperation\u001b[0m\u001b[0;34m.\u001b[0m\u001b[0mmake\u001b[0m\u001b[0;34m(\u001b[0m\u001b[0msubbedOperator\u001b[0m\u001b[0;34m,\u001b[0m \u001b[0msubbedOperands\u001b[0m\u001b[0;34m)\u001b[0m\u001b[0;34m\u001b[0m\u001b[0m\n\u001b[0m\u001b[1;32m    458\u001b[0m \u001b[0;34m\u001b[0m\u001b[0m\n\u001b[1;32m    459\u001b[0m     \u001b[0;32mdef\u001b[0m \u001b[0musedVars\u001b[0m\u001b[0;34m(\u001b[0m\u001b[0mself\u001b[0m\u001b[0;34m)\u001b[0m\u001b[0;34m:\u001b[0m\u001b[0;34m\u001b[0m\u001b[0m\n",
      "\u001b[0;32m/Users/kmrudin/proveit/proveit/expression.pyc\u001b[0m in \u001b[0;36mmake\u001b[0;34m(operator, operands)\u001b[0m\n\u001b[1;32m    399\u001b[0m     \u001b[0;32mdef\u001b[0m \u001b[0mmake\u001b[0m\u001b[0;34m(\u001b[0m\u001b[0moperator\u001b[0m\u001b[0;34m,\u001b[0m \u001b[0moperands\u001b[0m\u001b[0;34m)\u001b[0m\u001b[0;34m:\u001b[0m\u001b[0;34m\u001b[0m\u001b[0m\n\u001b[1;32m    400\u001b[0m         \u001b[0;32mif\u001b[0m \u001b[0misinstance\u001b[0m\u001b[0;34m(\u001b[0m\u001b[0moperator\u001b[0m\u001b[0;34m,\u001b[0m \u001b[0mLiteral\u001b[0m\u001b[0;34m)\u001b[0m \u001b[0;32mand\u001b[0m \u001b[0moperator\u001b[0m\u001b[0;34m.\u001b[0m\u001b[0moperationMaker\u001b[0m \u001b[0;32mis\u001b[0m \u001b[0;32mnot\u001b[0m \u001b[0mNone\u001b[0m\u001b[0;34m:\u001b[0m\u001b[0;34m\u001b[0m\u001b[0m\n\u001b[0;32m--> 401\u001b[0;31m             \u001b[0moperation\u001b[0m \u001b[0;34m=\u001b[0m \u001b[0moperator\u001b[0m\u001b[0;34m.\u001b[0m\u001b[0moperationMaker\u001b[0m\u001b[0;34m(\u001b[0m\u001b[0moperands\u001b[0m\u001b[0;34m)\u001b[0m\u001b[0;34m\u001b[0m\u001b[0m\n\u001b[0m\u001b[1;32m    402\u001b[0m             \u001b[0;32mif\u001b[0m \u001b[0;32mnot\u001b[0m \u001b[0misinstance\u001b[0m\u001b[0;34m(\u001b[0m\u001b[0moperation\u001b[0m\u001b[0;34m,\u001b[0m \u001b[0mOperation\u001b[0m\u001b[0;34m)\u001b[0m\u001b[0;34m:\u001b[0m\u001b[0;34m\u001b[0m\u001b[0m\n\u001b[1;32m    403\u001b[0m                 \u001b[0;32mraise\u001b[0m \u001b[0mOperationMakerViolation\u001b[0m\u001b[0;34m(\u001b[0m\u001b[0moperator\u001b[0m\u001b[0;34m,\u001b[0m \u001b[0;34m'Registered Operation maker must make an Operation type'\u001b[0m\u001b[0;34m)\u001b[0m\u001b[0;34m\u001b[0m\u001b[0m\n",
      "\u001b[0;32m/Users/kmrudin/proveit/proveit/number/arithmeticOps.pyc\u001b[0m in \u001b[0;36m<lambda>\u001b[0;34m(operands)\u001b[0m\n\u001b[1;32m    398\u001b[0m \u001b[0;34m\u001b[0m\u001b[0m\n\u001b[1;32m    399\u001b[0m \u001b[0;34m\u001b[0m\u001b[0m\n\u001b[0;32m--> 400\u001b[0;31m \u001b[0mMULTIPLY\u001b[0m \u001b[0;34m=\u001b[0m \u001b[0mLiteral\u001b[0m\u001b[0;34m(\u001b[0m\u001b[0mpkg\u001b[0m\u001b[0;34m,\u001b[0m \u001b[0;34m'MULTIPLY'\u001b[0m\u001b[0;34m,\u001b[0m \u001b[0;34m{\u001b[0m\u001b[0mSTRING\u001b[0m\u001b[0;34m:\u001b[0m \u001b[0;34mr'*'\u001b[0m\u001b[0;34m,\u001b[0m \u001b[0mLATEX\u001b[0m\u001b[0;34m:\u001b[0m \u001b[0;34mr'\\cdot'\u001b[0m\u001b[0;34m}\u001b[0m\u001b[0;34m,\u001b[0m \u001b[0moperationMaker\u001b[0m \u001b[0;34m=\u001b[0m \u001b[0;32mlambda\u001b[0m \u001b[0moperands\u001b[0m \u001b[0;34m:\u001b[0m \u001b[0mMultiply\u001b[0m\u001b[0;34m(\u001b[0m\u001b[0;34m*\u001b[0m\u001b[0moperands\u001b[0m\u001b[0;34m)\u001b[0m\u001b[0;34m)\u001b[0m\u001b[0;34m\u001b[0m\u001b[0m\n\u001b[0m\u001b[1;32m    401\u001b[0m \u001b[0;34m\u001b[0m\u001b[0m\n\u001b[1;32m    402\u001b[0m \u001b[0;32mclass\u001b[0m \u001b[0mDivide\u001b[0m\u001b[0;34m(\u001b[0m\u001b[0mBinaryOperation\u001b[0m\u001b[0;34m)\u001b[0m\u001b[0;34m:\u001b[0m\u001b[0;34m\u001b[0m\u001b[0m\n",
      "\u001b[0;32m/Users/kmrudin/proveit/proveit/number/arithmeticOps.pyc\u001b[0m in \u001b[0;36m__init__\u001b[0;34m(self, *operands)\u001b[0m\n\u001b[1;32m    353\u001b[0m         \u001b[0mMultiply\u001b[0m \u001b[0mtogether\u001b[0m \u001b[0many\u001b[0m \u001b[0mnumber\u001b[0m \u001b[0mof\u001b[0m \u001b[0moperands\u001b[0m \u001b[0;32mfrom\u001b[0m \u001b[0mfirst\u001b[0m \u001b[0moperand\u001b[0m\u001b[0;34m.\u001b[0m\u001b[0;34m\u001b[0m\u001b[0m\n\u001b[1;32m    354\u001b[0m         '''\n\u001b[0;32m--> 355\u001b[0;31m         \u001b[0mAssociativeOperation\u001b[0m\u001b[0;34m.\u001b[0m\u001b[0m__init__\u001b[0m\u001b[0;34m(\u001b[0m\u001b[0mself\u001b[0m\u001b[0;34m,\u001b[0m \u001b[0mMULTIPLY\u001b[0m\u001b[0;34m,\u001b[0m \u001b[0;34m*\u001b[0m\u001b[0moperands\u001b[0m\u001b[0;34m)\u001b[0m\u001b[0;34m\u001b[0m\u001b[0m\n\u001b[0m\u001b[1;32m    356\u001b[0m     \u001b[0;32mdef\u001b[0m \u001b[0mfactor\u001b[0m\u001b[0;34m(\u001b[0m\u001b[0mself\u001b[0m\u001b[0;34m,\u001b[0m\u001b[0moperand\u001b[0m\u001b[0;34m,\u001b[0m\u001b[0mpull\u001b[0m\u001b[0;34m=\u001b[0m\u001b[0;34m\"left\"\u001b[0m\u001b[0;34m)\u001b[0m\u001b[0;34m:\u001b[0m\u001b[0;34m\u001b[0m\u001b[0m\n\u001b[1;32m    357\u001b[0m         \u001b[0;32mfrom\u001b[0m \u001b[0mproveit\u001b[0m\u001b[0;34m.\u001b[0m\u001b[0mnumber\u001b[0m\u001b[0;34m.\u001b[0m\u001b[0mcomplex\u001b[0m\u001b[0;34m.\u001b[0m\u001b[0mtheorems\u001b[0m \u001b[0;32mimport\u001b[0m \u001b[0mmultComm\u001b[0m\u001b[0;34m,\u001b[0m \u001b[0mmultAssoc\u001b[0m\u001b[0;34m\u001b[0m\u001b[0m\n",
      "\u001b[0;32m/Users/kmrudin/proveit/proveit/basiclogic/genericOps.pyc\u001b[0m in \u001b[0;36m__init__\u001b[0;34m(self, operator, *operands)\u001b[0m\n\u001b[1;32m     30\u001b[0m         \u001b[0;31m# What is the sound of one (or no) hand clapping?  Who really cares?\u001b[0m\u001b[0;34m\u001b[0m\u001b[0;34m\u001b[0m\u001b[0m\n\u001b[1;32m     31\u001b[0m         \u001b[0;32mif\u001b[0m \u001b[0mlen\u001b[0m\u001b[0;34m(\u001b[0m\u001b[0mself\u001b[0m\u001b[0;34m.\u001b[0m\u001b[0moperands\u001b[0m\u001b[0;34m)\u001b[0m \u001b[0;34m<\u001b[0m \u001b[0;36m2\u001b[0m\u001b[0;34m:\u001b[0m\u001b[0;34m\u001b[0m\u001b[0m\n\u001b[0;32m---> 32\u001b[0;31m             \u001b[0;32mraise\u001b[0m \u001b[0mValueError\u001b[0m\u001b[0;34m(\u001b[0m\u001b[0;34m\"An AssociativeOperation must have at least 2 operands\"\u001b[0m\u001b[0;34m)\u001b[0m\u001b[0;34m\u001b[0m\u001b[0m\n\u001b[0m\u001b[1;32m     33\u001b[0m \u001b[0;34m\u001b[0m\u001b[0m\n\u001b[1;32m     34\u001b[0m     \u001b[0;32mdef\u001b[0m \u001b[0mformatted\u001b[0m\u001b[0;34m(\u001b[0m\u001b[0mself\u001b[0m\u001b[0;34m,\u001b[0m \u001b[0mformatType\u001b[0m\u001b[0;34m,\u001b[0m \u001b[0mfence\u001b[0m\u001b[0;34m=\u001b[0m\u001b[0mFalse\u001b[0m\u001b[0;34m,\u001b[0m \u001b[0msubFence\u001b[0m\u001b[0;34m=\u001b[0m\u001b[0mTrue\u001b[0m\u001b[0;34m)\u001b[0m\u001b[0;34m:\u001b[0m\u001b[0;34m\u001b[0m\u001b[0m\n",
      "\u001b[0;31mValueError\u001b[0m: An AssociativeOperation must have at least 2 operands"
     ]
    }
   ],
   "source": [
    "multAssoc.specialize({Etcetera(w):[],Etcetera(x):one,Etcetera(y):one,Etcetera(z):[]})"
   ]
  }
 ],
 "metadata": {
  "kernelspec": {
   "display_name": "Python 2",
   "language": "python",
   "name": "python2"
  },
  "language_info": {
   "codemirror_mode": {
    "name": "ipython",
    "version": 2
   },
   "file_extension": ".py",
   "mimetype": "text/x-python",
   "name": "python",
   "nbconvert_exporter": "python",
   "pygments_lexer": "ipython2",
   "version": "2.7.10"
  }
 },
 "nbformat": 4,
 "nbformat_minor": 0
}
