{
 "cells": [
  {
   "cell_type": "code",
   "execution_count": 1,
   "metadata": {
    "collapsed": false
   },
   "outputs": [],
   "source": [
    "from proveit.number.arithmeticOps import *\n",
    "#from proveit.number.real.theorems import *\n",
    "from proveit.number.relation import Relation\n",
    "from proveit.number.real.theorems import divIneqThm1, divIneqThm1cor, ineqThm3, ineqThm4a, ineqThm4b, ineqThm9, ineqThm10\n",
    "from proveit.number.real.theorems import posProd, posOfExps\n",
    "from proveit.number.complex.theorems import absProd #absProdEtc, \n",
    "from proveit.number.complex.theorems import expAdd1a, oneExp, fracExp, expOne, powOfPow, multOverAdd\n",
    "from proveit.number.complex.theorems import multAssoc, multOne, sumInPow, diffSquareComm, samePowDistribute, multOverSubtract\n",
    "from proveit.number.complex.theorems import fracCancel2, fracCancel4, multComm, powOfProd, squarePosIneq\n",
    "from proveit.basiclogic import In, autoSubstitute, autoSubstitution\n",
    "from proveit.number.real.theorems import absTwoPi, absPos, squarePosEq, relaxGreaterThan, relaxLessThan\n",
    "from proveit.number.natural.theorems import twoSquared\n",
    "from proveit.number.common import *\n",
    "from proveit.physics.quantum.QPE.axioms import tInNats, phaseInReals\n",
    "from proveit.physics.quantum.QPE.theorems import deltaInReals\n",
    "from proveit.physics.quantum.QPE.common import t_, delta_\n",
    "from proveit.basiclogic.equality.eqOps import extractSubExpr"
   ]
  },
  {
   "cell_type": "code",
   "execution_count": 4,
   "metadata": {
    "collapsed": false
   },
   "outputs": [
    {
     "ename": "Exception",
     "evalue": "assumptions should be a set",
     "output_type": "error",
     "traceback": [
      "\u001b[0;31m---------------------------------------------------------------------------\u001b[0m",
      "\u001b[0;31mException\u001b[0m                                 Traceback (most recent call last)",
      "\u001b[0;32m<ipython-input-4-9be66f4c15f0>\u001b[0m in \u001b[0;36m<module>\u001b[0;34m()\u001b[0m\n\u001b[0;32m----> 1\u001b[0;31m \u001b[0mdeduceInComplexes\u001b[0m\u001b[0;34m(\u001b[0m\u001b[0mpi\u001b[0m\u001b[0;34m,\u001b[0m\u001b[0massumptions\u001b[0m\u001b[0;34m=\u001b[0m\u001b[0mfrozenset\u001b[0m\u001b[0;34m(\u001b[0m\u001b[0;34m)\u001b[0m\u001b[0;34m)\u001b[0m\u001b[0;34m\u001b[0m\u001b[0m\n\u001b[0m",
      "\u001b[0;32m/Users/kmrudin/proveit/proveit/number/numberSets.pyc\u001b[0m in \u001b[0;36mdeduceInComplexes\u001b[0;34m(exprOrList, assumptions)\u001b[0m\n\u001b[1;32m    222\u001b[0m     \u001b[0motherwise\u001b[0m \u001b[0mraises\u001b[0m \u001b[0man\u001b[0m \u001b[0mException\u001b[0m\u001b[0;34m.\u001b[0m\u001b[0;34m\u001b[0m\u001b[0m\n\u001b[1;32m    223\u001b[0m     '''\n\u001b[0;32m--> 224\u001b[0;31m     \u001b[0;32mreturn\u001b[0m \u001b[0mdeduceInNumberSet\u001b[0m\u001b[0;34m(\u001b[0m\u001b[0mexprOrList\u001b[0m\u001b[0;34m,\u001b[0m \u001b[0mComplexes\u001b[0m\u001b[0;34m,\u001b[0m \u001b[0massumptions\u001b[0m\u001b[0;34m=\u001b[0m\u001b[0massumptions\u001b[0m\u001b[0;34m)\u001b[0m\u001b[0;34m\u001b[0m\u001b[0m\n\u001b[0m\u001b[1;32m    225\u001b[0m \u001b[0;34m\u001b[0m\u001b[0m\n\u001b[1;32m    226\u001b[0m \u001b[0;32mdef\u001b[0m \u001b[0mdeduceNotZero\u001b[0m\u001b[0;34m(\u001b[0m\u001b[0mexprOrList\u001b[0m\u001b[0;34m,\u001b[0m \u001b[0massumptions\u001b[0m\u001b[0;34m=\u001b[0m\u001b[0mfrozenset\u001b[0m\u001b[0;34m(\u001b[0m\u001b[0;34m)\u001b[0m\u001b[0;34m)\u001b[0m\u001b[0;34m:\u001b[0m\u001b[0;34m\u001b[0m\u001b[0m\n",
      "\u001b[0;32m/Users/kmrudin/proveit/proveit/number/numberSets.pyc\u001b[0m in \u001b[0;36mdeduceInNumberSet\u001b[0;34m(exprOrList, numberSet, assumptions, ruledOutSets, dontTryPos)\u001b[0m\n\u001b[1;32m     59\u001b[0m     \u001b[0;32mimport\u001b[0m \u001b[0mcomplex\u001b[0m\u001b[0;34m.\u001b[0m\u001b[0mtheorems\u001b[0m\u001b[0;34m\u001b[0m\u001b[0m\n\u001b[1;32m     60\u001b[0m     \u001b[0;32mif\u001b[0m \u001b[0;32mnot\u001b[0m \u001b[0misinstance\u001b[0m\u001b[0;34m(\u001b[0m\u001b[0massumptions\u001b[0m\u001b[0;34m,\u001b[0m \u001b[0mset\u001b[0m\u001b[0;34m)\u001b[0m \u001b[0;32mor\u001b[0m \u001b[0;32mnot\u001b[0m \u001b[0misinstance\u001b[0m\u001b[0;34m(\u001b[0m\u001b[0massumptions\u001b[0m\u001b[0;34m,\u001b[0m \u001b[0mfrozenset\u001b[0m\u001b[0;34m)\u001b[0m\u001b[0;34m:\u001b[0m\u001b[0;34m\u001b[0m\u001b[0m\n\u001b[0;32m---> 61\u001b[0;31m         \u001b[0;32mraise\u001b[0m \u001b[0mException\u001b[0m\u001b[0;34m(\u001b[0m\u001b[0;34m'assumptions should be a set'\u001b[0m\u001b[0;34m)\u001b[0m\u001b[0;34m\u001b[0m\u001b[0m\n\u001b[0m\u001b[1;32m     62\u001b[0m     \u001b[0;32mif\u001b[0m \u001b[0;32mnot\u001b[0m \u001b[0misinstance\u001b[0m\u001b[0;34m(\u001b[0m\u001b[0mexprOrList\u001b[0m\u001b[0;34m,\u001b[0m \u001b[0mExpression\u001b[0m\u001b[0;34m)\u001b[0m \u001b[0;32mor\u001b[0m \u001b[0misinstance\u001b[0m\u001b[0;34m(\u001b[0m\u001b[0mexprOrList\u001b[0m\u001b[0;34m,\u001b[0m \u001b[0mExpressionList\u001b[0m\u001b[0;34m)\u001b[0m\u001b[0;34m:\u001b[0m\u001b[0;34m\u001b[0m\u001b[0m\n\u001b[1;32m     63\u001b[0m         \u001b[0;31m# If it isn't an Expression, assume it's iterable and deduce each\u001b[0m\u001b[0;34m\u001b[0m\u001b[0;34m\u001b[0m\u001b[0m\n",
      "\u001b[0;31mException\u001b[0m: assumptions should be a set"
     ]
    }
   ],
   "source": [
    "deduceInComplexes(pi,assumptions=frozenset())"
   ]
  },
  {
   "cell_type": "code",
   "execution_count": 2,
   "metadata": {
    "collapsed": true
   },
   "outputs": [],
   "source": [
    "#from proveit.number.complex.theorems import fracCancel2"
   ]
  },
  {
   "cell_type": "code",
   "execution_count": 3,
   "metadata": {
    "collapsed": true
   },
   "outputs": [],
   "source": [
    "alpha_l = Operation(Variable('alpha',{STRING:'alpha',LATEX:r'\\alpha'}),l)"
   ]
  },
  {
   "cell_type": "code",
   "execution_count": 4,
   "metadata": {
    "collapsed": false
   },
   "outputs": [
    {
     "data": {
      "text/latex": [
       "$\\left|\\alpha\\left(l\\right)\\right| = \\frac{\\left|1 - e^{2 \\cdot \\pi \\cdot i \\cdot \\left(\\left(2^{t} \\cdot \\delta\\right) - l\\right)}\\right|}{2^{t} \\cdot \\left|\\left(1 - e^{2 \\cdot \\pi \\cdot i \\cdot \\left(\\delta - \\frac{l}{2^{t}}\\right)}\\right)\\right|}$"
      ],
      "text/plain": [
       "|alpha(l)| = |(1 - e^(2 * pi * i * ((2^(t) * delta) - l)))| / (2^(t) * |(1 - e^(2 * pi * i * (delta - l / 2^(t))))|)"
      ]
     },
     "execution_count": 4,
     "metadata": {},
     "output_type": "execute_result"
    }
   ],
   "source": [
    "abs_alpha_l = Equals(Abs(alpha_l),\n",
    "                        Fraction(\n",
    "                                Abs(Subtract(one,\n",
    "                                            Exponentiate(e,\n",
    "                                                        Multiply(two,pi,i,\n",
    "                                                                Subtract(\n",
    "                                                                        Multiply(\n",
    "                                                                                Exponentiate(two,t_),delta_),\n",
    "                                                                        l)\n",
    "                )))\n",
    "    ),\n",
    "                            Multiply(Exponentiate(two,t_),    \n",
    "                            Abs(Subtract(one,\n",
    "                                            Exponentiate(e,\n",
    "                                                        Multiply(two,pi,i,\n",
    "                                                                Subtract(\n",
    "                                                                        delta_,\n",
    "                                                                        Fraction(l,Exponentiate(two,t_))\n",
    "                                \n",
    "\n",
    ")\n",
    "                                                                 )\n",
    "                    )\n",
    "                                             )\n",
    "                                    ))\n",
    "        )\n",
    "    )\n",
    "abs_alpha_l"
   ]
  },
  {
   "cell_type": "code",
   "execution_count": 5,
   "metadata": {
    "collapsed": true
   },
   "outputs": [],
   "source": [
    "assumptions = {abs_alpha_l, In(l, Integers)}"
   ]
  },
  {
   "cell_type": "code",
   "execution_count": 6,
   "metadata": {
    "collapsed": false
   },
   "outputs": [
    {
     "data": {
      "text/latex": [
       "$\\left|\\alpha\\left(l\\right)\\right| = \\frac{\\left|1 - e^{2 \\cdot \\pi \\cdot i \\cdot \\left(\\left(2^{t} \\cdot \\delta\\right) - l\\right)}\\right|}{2^{t} \\cdot \\left|\\left(1 - e^{2 \\cdot \\pi \\cdot i \\cdot \\left(\\delta - \\frac{l}{2^{t}}\\right)}\\right)\\right|}$"
      ],
      "text/plain": [
       "|alpha(l)| = |(1 - e^(2 * pi * i * ((2^(t) * delta) - l)))| / (2^(t) * |(1 - e^(2 * pi * i * (delta - l / 2^(t))))|)"
      ]
     },
     "execution_count": 6,
     "metadata": {},
     "output_type": "execute_result"
    }
   ],
   "source": [
    "abs_alpha_l"
   ]
  },
  {
   "cell_type": "code",
   "execution_count": 12,
   "metadata": {
    "collapsed": false
   },
   "outputs": [
    {
     "ename": "DeduceInNumberSetException",
     "evalue": "Unable to prove pi in Complexes under assumptions: set([|alpha(l)| = |(1 - e^(2 * pi * i * ((2^(t) * delta) - l)))| / (2^(t) * |(1 - e^(2 * pi * i * (delta - l / 2^(t))))|), l in Integers])",
     "output_type": "error",
     "traceback": [
      "\u001b[0;31m---------------------------------------------------------------------------\u001b[0m",
      "\u001b[0;31mDeduceInNumberSetException\u001b[0m                Traceback (most recent call last)",
      "\u001b[0;32m<ipython-input-12-95e9e2faf27b>\u001b[0m in \u001b[0;36m<module>\u001b[0;34m()\u001b[0m\n\u001b[0;32m----> 1\u001b[0;31m \u001b[0mextractSubExpr\u001b[0m\u001b[0;34m(\u001b[0m\u001b[0mabs_alpha_l\u001b[0m\u001b[0;34m,\u001b[0m\u001b[0msubExprClass\u001b[0m\u001b[0;34m=\u001b[0m\u001b[0mExponentiate\u001b[0m\u001b[0;34m)\u001b[0m\u001b[0;34m.\u001b[0m\u001b[0mexponent\u001b[0m\u001b[0;34m.\u001b[0m\u001b[0mfactor\u001b[0m\u001b[0;34m(\u001b[0m\u001b[0mi\u001b[0m\u001b[0;34m,\u001b[0m\u001b[0mpull\u001b[0m\u001b[0;34m=\u001b[0m\u001b[0;34m'left'\u001b[0m\u001b[0;34m,\u001b[0m\u001b[0massumptions\u001b[0m\u001b[0;34m=\u001b[0m\u001b[0massumptions\u001b[0m\u001b[0;34m)\u001b[0m\u001b[0;34m\u001b[0m\u001b[0m\n\u001b[0m",
      "\u001b[0;32m/Users/kmrudin/proveit/proveit/number/arithmeticOps.pyc\u001b[0m in \u001b[0;36mfactor\u001b[0;34m(self, theFactor, pull, groupFactor, groupRemainder, assumptions)\u001b[0m\n\u001b[1;32m    597\u001b[0m         '''\n\u001b[1;32m    598\u001b[0m         \u001b[0midx\u001b[0m\u001b[0;34m,\u001b[0m \u001b[0mnum\u001b[0m \u001b[0;34m=\u001b[0m \u001b[0mself\u001b[0m\u001b[0;34m.\u001b[0m\u001b[0mindex\u001b[0m\u001b[0;34m(\u001b[0m\u001b[0mtheFactor\u001b[0m\u001b[0;34m,\u001b[0m \u001b[0malsoReturnNum\u001b[0m \u001b[0;34m=\u001b[0m \u001b[0mTrue\u001b[0m\u001b[0;34m)\u001b[0m\u001b[0;34m\u001b[0m\u001b[0m\n\u001b[0;32m--> 599\u001b[0;31m         \u001b[0meq\u001b[0m \u001b[0;34m=\u001b[0m \u001b[0mEquation\u001b[0m\u001b[0;34m(\u001b[0m\u001b[0mself\u001b[0m\u001b[0;34m.\u001b[0m\u001b[0mpull\u001b[0m\u001b[0;34m(\u001b[0m\u001b[0midx\u001b[0m\u001b[0;34m,\u001b[0m \u001b[0midx\u001b[0m\u001b[0;34m+\u001b[0m\u001b[0mnum\u001b[0m\u001b[0;34m,\u001b[0m \u001b[0mpull\u001b[0m\u001b[0;34m,\u001b[0m \u001b[0massumptions\u001b[0m\u001b[0;34m)\u001b[0m\u001b[0;34m)\u001b[0m\u001b[0;34m\u001b[0m\u001b[0m\n\u001b[0m\u001b[1;32m    600\u001b[0m         \u001b[0;32mif\u001b[0m \u001b[0mgroupFactor\u001b[0m \u001b[0;32mand\u001b[0m \u001b[0mnum\u001b[0m \u001b[0;34m>\u001b[0m \u001b[0;36m1\u001b[0m\u001b[0;34m:\u001b[0m\u001b[0;34m\u001b[0m\u001b[0m\n\u001b[1;32m    601\u001b[0m             \u001b[0;32mif\u001b[0m \u001b[0mpull\u001b[0m \u001b[0;34m==\u001b[0m \u001b[0;34m'left'\u001b[0m\u001b[0;34m:\u001b[0m  \u001b[0;31m# use 0:num type of convention like standard pythong\u001b[0m\u001b[0;34m\u001b[0m\u001b[0m\n",
      "\u001b[0;32m/Users/kmrudin/proveit/proveit/number/arithmeticOps.pyc\u001b[0m in \u001b[0;36mpull\u001b[0;34m(self, startIdx, endIdx, direction, assumptions)\u001b[0m\n\u001b[1;32m    575\u001b[0m             \u001b[0;32mif\u001b[0m \u001b[0mstartIdx\u001b[0m \u001b[0;34m==\u001b[0m \u001b[0;36m0\u001b[0m \u001b[0;32mor\u001b[0m \u001b[0mstartIdx\u001b[0m \u001b[0;32mis\u001b[0m \u001b[0mNone\u001b[0m\u001b[0;34m:\u001b[0m\u001b[0;34m\u001b[0m\u001b[0m\n\u001b[1;32m    576\u001b[0m                 \u001b[0;32mreturn\u001b[0m \u001b[0mequalsReflexivity\u001b[0m\u001b[0;34m.\u001b[0m\u001b[0mspecialize\u001b[0m\u001b[0;34m(\u001b[0m\u001b[0;34m{\u001b[0m\u001b[0mx\u001b[0m\u001b[0;34m:\u001b[0m\u001b[0mself\u001b[0m\u001b[0;34m}\u001b[0m\u001b[0;34m)\u001b[0m\u001b[0;34m.\u001b[0m\u001b[0mchecked\u001b[0m\u001b[0;34m(\u001b[0m\u001b[0;34m)\u001b[0m \u001b[0;31m# no move necessary\u001b[0m\u001b[0;34m\u001b[0m\u001b[0m\n\u001b[0;32m--> 577\u001b[0;31m             \u001b[0;32mreturn\u001b[0m \u001b[0mself\u001b[0m\u001b[0;34m.\u001b[0m\u001b[0mcommute\u001b[0m\u001b[0;34m(\u001b[0m\u001b[0mNone\u001b[0m\u001b[0;34m,\u001b[0m \u001b[0mstartIdx\u001b[0m\u001b[0;34m,\u001b[0m \u001b[0mstartIdx\u001b[0m\u001b[0;34m,\u001b[0m \u001b[0mendIdx\u001b[0m\u001b[0;34m,\u001b[0m \u001b[0massumptions\u001b[0m\u001b[0;34m=\u001b[0m\u001b[0massumptions\u001b[0m\u001b[0;34m)\u001b[0m\u001b[0;34m\u001b[0m\u001b[0m\n\u001b[0m\u001b[1;32m    578\u001b[0m         \u001b[0;32melif\u001b[0m \u001b[0mdirection\u001b[0m \u001b[0;34m==\u001b[0m \u001b[0;34m\"right\"\u001b[0m\u001b[0;34m:\u001b[0m \u001b[0;31m# pull the factor(s) to the right\u001b[0m\u001b[0;34m\u001b[0m\u001b[0m\n\u001b[1;32m    579\u001b[0m             \u001b[0;32mif\u001b[0m \u001b[0mendIdx\u001b[0m \u001b[0;34m==\u001b[0m \u001b[0mlen\u001b[0m\u001b[0;34m(\u001b[0m\u001b[0mself\u001b[0m\u001b[0;34m.\u001b[0m\u001b[0moperands\u001b[0m\u001b[0;34m)\u001b[0m \u001b[0;32mor\u001b[0m \u001b[0mendIdx\u001b[0m \u001b[0;32mis\u001b[0m \u001b[0mNone\u001b[0m\u001b[0;34m:\u001b[0m\u001b[0;34m\u001b[0m\u001b[0m\n",
      "\u001b[0;32m/Users/kmrudin/proveit/proveit/number/arithmeticOps.pyc\u001b[0m in \u001b[0;36mcommute\u001b[0;34m(self, startIdx1, endIdx1, startIdx2, endIdx2, assumptions)\u001b[0m\n\u001b[1;32m    499\u001b[0m         \u001b[0mySub\u001b[0m \u001b[0;34m=\u001b[0m \u001b[0mself\u001b[0m\u001b[0;34m.\u001b[0m\u001b[0moperands\u001b[0m\u001b[0;34m[\u001b[0m\u001b[0mstartIdx2\u001b[0m\u001b[0;34m:\u001b[0m\u001b[0mendIdx2\u001b[0m\u001b[0;34m]\u001b[0m\u001b[0;34m\u001b[0m\u001b[0m\n\u001b[1;32m    500\u001b[0m         \u001b[0mzSub\u001b[0m \u001b[0;34m=\u001b[0m \u001b[0mself\u001b[0m\u001b[0;34m.\u001b[0m\u001b[0moperands\u001b[0m\u001b[0;34m[\u001b[0m\u001b[0mendIdx2\u001b[0m\u001b[0;34m:\u001b[0m\u001b[0;34m]\u001b[0m \u001b[0;32mif\u001b[0m \u001b[0mendIdx2\u001b[0m \u001b[0;32mis\u001b[0m \u001b[0;32mnot\u001b[0m \u001b[0mNone\u001b[0m \u001b[0;32melse\u001b[0m \u001b[0;34m[\u001b[0m\u001b[0;34m]\u001b[0m\u001b[0;34m\u001b[0m\u001b[0m\n\u001b[0;32m--> 501\u001b[0;31m         \u001b[0mdeduceInComplexes\u001b[0m\u001b[0;34m(\u001b[0m\u001b[0mself\u001b[0m\u001b[0;34m.\u001b[0m\u001b[0moperands\u001b[0m\u001b[0;34m,\u001b[0m \u001b[0massumptions\u001b[0m\u001b[0;34m)\u001b[0m\u001b[0;34m\u001b[0m\u001b[0m\n\u001b[0m\u001b[1;32m    502\u001b[0m         \u001b[0;32mreturn\u001b[0m \u001b[0mmultComm\u001b[0m\u001b[0;34m.\u001b[0m\u001b[0mspecialize\u001b[0m\u001b[0;34m(\u001b[0m\u001b[0;34m{\u001b[0m\u001b[0mvEtc\u001b[0m\u001b[0;34m:\u001b[0m\u001b[0mvSub\u001b[0m\u001b[0;34m,\u001b[0m \u001b[0mwEtc\u001b[0m\u001b[0;34m:\u001b[0m\u001b[0mwSub\u001b[0m\u001b[0;34m,\u001b[0m \u001b[0mxEtc\u001b[0m\u001b[0;34m:\u001b[0m\u001b[0mxSub\u001b[0m\u001b[0;34m,\u001b[0m \u001b[0myEtc\u001b[0m\u001b[0;34m:\u001b[0m\u001b[0mySub\u001b[0m\u001b[0;34m,\u001b[0m \u001b[0mzEtc\u001b[0m\u001b[0;34m:\u001b[0m\u001b[0mzSub\u001b[0m\u001b[0;34m}\u001b[0m\u001b[0;34m)\u001b[0m\u001b[0;34m.\u001b[0m\u001b[0mchecked\u001b[0m\u001b[0;34m(\u001b[0m\u001b[0massumptions\u001b[0m\u001b[0;34m)\u001b[0m\u001b[0;34m\u001b[0m\u001b[0m\n\u001b[1;32m    503\u001b[0m \u001b[0;34m\u001b[0m\u001b[0m\n",
      "\u001b[0;32m/Users/kmrudin/proveit/proveit/number/numberSets.pyc\u001b[0m in \u001b[0;36mdeduceInComplexes\u001b[0;34m(exprOrList, assumptions)\u001b[0m\n\u001b[1;32m    167\u001b[0m     \u001b[0motherwise\u001b[0m \u001b[0mraises\u001b[0m \u001b[0man\u001b[0m \u001b[0mException\u001b[0m\u001b[0;34m.\u001b[0m\u001b[0;34m\u001b[0m\u001b[0m\n\u001b[1;32m    168\u001b[0m     '''\n\u001b[0;32m--> 169\u001b[0;31m     \u001b[0;32mreturn\u001b[0m \u001b[0mdeduceInNumberSet\u001b[0m\u001b[0;34m(\u001b[0m\u001b[0mexprOrList\u001b[0m\u001b[0;34m,\u001b[0m \u001b[0mComplexes\u001b[0m\u001b[0;34m,\u001b[0m \u001b[0massumptions\u001b[0m\u001b[0;34m=\u001b[0m\u001b[0massumptions\u001b[0m\u001b[0;34m)\u001b[0m\u001b[0;34m\u001b[0m\u001b[0m\n\u001b[0m\u001b[1;32m    170\u001b[0m \u001b[0;34m\u001b[0m\u001b[0m\n\u001b[1;32m    171\u001b[0m \u001b[0;32mdef\u001b[0m \u001b[0mdeduceNotZero\u001b[0m\u001b[0;34m(\u001b[0m\u001b[0mexprOrList\u001b[0m\u001b[0;34m,\u001b[0m \u001b[0massumptions\u001b[0m\u001b[0;34m=\u001b[0m\u001b[0mfrozenset\u001b[0m\u001b[0;34m(\u001b[0m\u001b[0;34m)\u001b[0m\u001b[0;34m)\u001b[0m\u001b[0;34m:\u001b[0m\u001b[0;34m\u001b[0m\u001b[0m\n",
      "\u001b[0;32m/Users/kmrudin/proveit/proveit/number/numberSets.pyc\u001b[0m in \u001b[0;36mdeduceInNumberSet\u001b[0;34m(exprOrList, numberSet, assumptions, ruledOutSets)\u001b[0m\n\u001b[1;32m     56\u001b[0m     \u001b[0;32mif\u001b[0m \u001b[0;32mnot\u001b[0m \u001b[0misinstance\u001b[0m\u001b[0;34m(\u001b[0m\u001b[0mexprOrList\u001b[0m\u001b[0;34m,\u001b[0m \u001b[0mExpression\u001b[0m\u001b[0;34m)\u001b[0m \u001b[0;32mor\u001b[0m \u001b[0misinstance\u001b[0m\u001b[0;34m(\u001b[0m\u001b[0mexprOrList\u001b[0m\u001b[0;34m,\u001b[0m \u001b[0mExpressionList\u001b[0m\u001b[0;34m)\u001b[0m\u001b[0;34m:\u001b[0m\u001b[0;34m\u001b[0m\u001b[0m\n\u001b[1;32m     57\u001b[0m         \u001b[0;31m# If it isn't an Expression, assume it's iterable and deduce each\u001b[0m\u001b[0;34m\u001b[0m\u001b[0;34m\u001b[0m\u001b[0m\n\u001b[0;32m---> 58\u001b[0;31m         \u001b[0;32mreturn\u001b[0m \u001b[0;34m[\u001b[0m\u001b[0mdeduceInNumberSet\u001b[0m\u001b[0;34m(\u001b[0m\u001b[0mexpr\u001b[0m\u001b[0;34m,\u001b[0m \u001b[0mnumberSet\u001b[0m\u001b[0;34m=\u001b[0m\u001b[0mnumberSet\u001b[0m\u001b[0;34m,\u001b[0m \u001b[0massumptions\u001b[0m\u001b[0;34m=\u001b[0m\u001b[0massumptions\u001b[0m\u001b[0;34m)\u001b[0m \u001b[0;32mfor\u001b[0m \u001b[0mexpr\u001b[0m \u001b[0;32min\u001b[0m \u001b[0mexprOrList\u001b[0m\u001b[0;34m]\u001b[0m\u001b[0;34m\u001b[0m\u001b[0m\n\u001b[0m\u001b[1;32m     59\u001b[0m     \u001b[0;31m# A single Expression:\u001b[0m\u001b[0;34m\u001b[0m\u001b[0;34m\u001b[0m\u001b[0m\n\u001b[1;32m     60\u001b[0m     \u001b[0mexpr\u001b[0m \u001b[0;34m=\u001b[0m \u001b[0mexprOrList\u001b[0m\u001b[0;34m\u001b[0m\u001b[0m\n",
      "\u001b[0;32m/Users/kmrudin/proveit/proveit/number/numberSets.pyc\u001b[0m in \u001b[0;36mdeduceInNumberSet\u001b[0;34m(exprOrList, numberSet, assumptions, ruledOutSets)\u001b[0m\n\u001b[1;32m    116\u001b[0m                 \u001b[0;32mreturn\u001b[0m \u001b[0mexpr\u001b[0m\u001b[0;34m.\u001b[0m\u001b[0mdeduceInComplexes\u001b[0m\u001b[0;34m(\u001b[0m\u001b[0;34m)\u001b[0m\u001b[0;34m\u001b[0m\u001b[0m\n\u001b[1;32m    117\u001b[0m             \u001b[0;31m# Ran out of options:\u001b[0m\u001b[0;34m\u001b[0m\u001b[0;34m\u001b[0m\u001b[0m\n\u001b[0;32m--> 118\u001b[0;31m             \u001b[0;32mraise\u001b[0m \u001b[0mDeduceInNumberSetException\u001b[0m\u001b[0;34m(\u001b[0m\u001b[0mexpr\u001b[0m\u001b[0;34m,\u001b[0m \u001b[0mnumberSet\u001b[0m\u001b[0;34m,\u001b[0m \u001b[0massumptions\u001b[0m\u001b[0;34m)\u001b[0m\u001b[0;34m\u001b[0m\u001b[0m\n\u001b[0m\u001b[1;32m    119\u001b[0m         \u001b[0mclosureThm\u001b[0m \u001b[0;34m=\u001b[0m \u001b[0mexpr\u001b[0m\u001b[0;34m.\u001b[0m\u001b[0m_closureTheorem\u001b[0m\u001b[0;34m(\u001b[0m\u001b[0mnumberSet\u001b[0m\u001b[0;34m)\u001b[0m\u001b[0;34m\u001b[0m\u001b[0m\n\u001b[1;32m    120\u001b[0m         \u001b[0;32mif\u001b[0m \u001b[0mclosureThm\u001b[0m \u001b[0;32mis\u001b[0m \u001b[0mNone\u001b[0m\u001b[0;34m:\u001b[0m\u001b[0;34m\u001b[0m\u001b[0m\n",
      "\u001b[0;31mDeduceInNumberSetException\u001b[0m: Unable to prove pi in Complexes under assumptions: set([|alpha(l)| = |(1 - e^(2 * pi * i * ((2^(t) * delta) - l)))| / (2^(t) * |(1 - e^(2 * pi * i * (delta - l / 2^(t))))|), l in Integers])"
     ]
    }
   ],
   "source": [
    "extractSubExpr(abs_alpha_l,subExprClass=Exponentiate).exponent.factor(i,pull='left',assumptions=assumptions)"
   ]
  },
  {
   "cell_type": "code",
   "execution_count": 8,
   "metadata": {
    "collapsed": false
   },
   "outputs": [
    {
     "name": "stdout",
     "output_type": "stream",
     "text": [
      "Warning, failure in autosub attempt when applying 'factor' method to 1 - e^(2 * pi * i * ((2^(t) * delta) - l)):\n",
      "DigitLiteral instance has no attribute 'factor'\n",
      "Continuing on\n",
      "Warning, failure in autosub attempt when applying 'factor' method to 2 * pi * i * ((2^(t) * delta) - l):\n",
      "Unable to prove pi in Complexes under assumptions: set([|alpha(l)| = |(1 - e^(2 * pi * i * ((2^(t) * delta) - l)))| / (2^(t) * |(1 - e^(2 * pi * i * (delta - l / 2^(t))))|), l in Integers])\n",
      "Continuing on\n",
      "Warning, failure in autosub attempt when applying 'factor' method to (2^(t) * delta) - l:\n",
      "Factor is absent!\n",
      "Continuing on\n",
      "Warning, failure in autosub attempt when applying 'factor' method to 2^(t) * delta:\n",
      "Factor is absent!\n",
      "Continuing on\n"
     ]
    },
    {
     "ename": "AttributeError",
     "evalue": "'NoneType' object has no attribute 'proven'",
     "output_type": "error",
     "traceback": [
      "\u001b[0;31m---------------------------------------------------------------------------\u001b[0m",
      "\u001b[0;31mAttributeError\u001b[0m                            Traceback (most recent call last)",
      "\u001b[0;32m<ipython-input-8-d03ac6f14f61>\u001b[0m in \u001b[0;36m<module>\u001b[0;34m()\u001b[0m\n\u001b[0;32m----> 1\u001b[0;31m \u001b[0mX1\u001b[0m \u001b[0;34m=\u001b[0m \u001b[0mautoSubstitute\u001b[0m\u001b[0;34m(\u001b[0m\u001b[0mabs_alpha_l\u001b[0m\u001b[0;34m,\u001b[0m \u001b[0;34m'factor'\u001b[0m\u001b[0;34m,\u001b[0m \u001b[0;34m[\u001b[0m\u001b[0mi\u001b[0m\u001b[0;34m]\u001b[0m\u001b[0;34m,\u001b[0m \u001b[0;34m{\u001b[0m\u001b[0;34m'assumptions'\u001b[0m\u001b[0;34m:\u001b[0m\u001b[0massumptions\u001b[0m\u001b[0;34m,\u001b[0m\u001b[0;34m'pull'\u001b[0m\u001b[0;34m:\u001b[0m\u001b[0;34m'left'\u001b[0m\u001b[0;34m}\u001b[0m\u001b[0;34m,\u001b[0m \u001b[0msuperExpr\u001b[0m\u001b[0;34m=\u001b[0m\u001b[0mabs_alpha_l\u001b[0m\u001b[0;34m.\u001b[0m\u001b[0mrhs\u001b[0m\u001b[0;34m.\u001b[0m\u001b[0mnumerator\u001b[0m\u001b[0;34m,\u001b[0m \u001b[0msuppressWarnings\u001b[0m\u001b[0;34m=\u001b[0m\u001b[0mFalse\u001b[0m\u001b[0;34m)\u001b[0m\u001b[0;34m.\u001b[0m\u001b[0mproven\u001b[0m\u001b[0;34m(\u001b[0m\u001b[0massumptions\u001b[0m\u001b[0;34m)\u001b[0m\u001b[0;34m\u001b[0m\u001b[0m\n\u001b[0m\u001b[1;32m      2\u001b[0m \u001b[0mX1\u001b[0m\u001b[0;34m\u001b[0m\u001b[0m\n",
      "\u001b[0;31mAttributeError\u001b[0m: 'NoneType' object has no attribute 'proven'"
     ]
    }
   ],
   "source": [
    "X1 = autoSubstitute(abs_alpha_l, 'factor', [i], {'assumptions':assumptions,'pull':'left'}, superExpr=abs_alpha_l.rhs.numerator, suppressWarnings=False).proven(assumptions)\n",
    "X1"
   ]
  },
  {
   "cell_type": "code",
   "execution_count": null,
   "metadata": {
    "collapsed": false
   },
   "outputs": [],
   "source": [
    "X2 = autoSubstitute(X1, 'factor', [i], {'assumptions':assumptions}, superExpr=abs_alpha_l.rhs.denominator, suppressWarnings=True).proven(assumptions)\n",
    "X2"
   ]
  },
  {
   "cell_type": "code",
   "execution_count": null,
   "metadata": {
    "collapsed": false
   },
   "outputs": [],
   "source": [
    "deduceInReals(Multiply(two,pi,Subtract(Multiply(Exponentiate(two,t_),delta_),l)),assumptions)"
   ]
  },
  {
   "cell_type": "code",
   "execution_count": null,
   "metadata": {
    "collapsed": false
   },
   "outputs": [],
   "source": [
    "Y1 = ineqThm9.specialize({theta:Multiply(two,pi,Subtract(Multiply(Exponentiate(two,t_),delta_),l))}).proven(assumptions)\n",
    "Y1"
   ]
  },
  {
   "cell_type": "code",
   "execution_count": null,
   "metadata": {
    "collapsed": false,
    "scrolled": true
   },
   "outputs": [],
   "source": [
    "extractSubExpr(Y1,subExprClass=Multiply)"
   ]
  },
  {
   "cell_type": "code",
   "execution_count": null,
   "metadata": {
    "collapsed": false
   },
   "outputs": [],
   "source": [
    "deduceInReals(Y1.lhs,assumptions)\n",
    "deduceInReals(Y1.rhs,assumptions)\n",
    "deduceInReals(X2.rhs.denominator,assumptions)"
   ]
  },
  {
   "cell_type": "code",
   "execution_count": null,
   "metadata": {
    "collapsed": false
   },
   "outputs": [],
   "source": [
    "assumptions = assumptions.union({GreaterThan(X2.rhs.denominator,zero)})\n",
    "Y2 = divIneqThm1.specialize({a:Y1.lhs,b:X2.rhs.denominator,c:Y1.rhs}).proven(assumptions)\n",
    "Y2"
   ]
  },
  {
   "cell_type": "code",
   "execution_count": null,
   "metadata": {
    "collapsed": false
   },
   "outputs": [],
   "source": [
    "X2a = Multiply(i,two,pi,Subtract(Multiply(Exponentiate(two,t_),delta_),l)).group(1,4,assumptions=assumptions).rhsSubstitute(X2).proven(assumptions)\n",
    "X2a"
   ]
  },
  {
   "cell_type": "code",
   "execution_count": null,
   "metadata": {
    "collapsed": false,
    "scrolled": true
   },
   "outputs": [],
   "source": [
    "X5 = Relation(X2a).update(Y2).proven(assumptions)\n",
    "X5"
   ]
  },
  {
   "cell_type": "code",
   "execution_count": null,
   "metadata": {
    "collapsed": false
   },
   "outputs": [],
   "source": [
    "multAssoc"
   ]
  },
  {
   "cell_type": "code",
   "execution_count": null,
   "metadata": {
    "collapsed": false
   },
   "outputs": [],
   "source": [
    "X5_0a = multAssoc.specialize({Etcetera(x):i,\n",
    "                            Etcetera(y):[two,pi,Subtract(delta_,Fraction(l,Exponentiate(two,t_)))],\n",
    "                            Etcetera(z):[]}).rhsSubstitute(X5).proven(assumptions)\n",
    "#                     Etcetera(z):Subtract(delta_,Fraction(l,Exponentiate(two,t_)))})#.lhsSubstitute(X5).proven(assumptions)\n",
    "X5_0a#.proven(assumptions)"
   ]
  },
  {
   "cell_type": "code",
   "execution_count": null,
   "metadata": {
    "collapsed": false
   },
   "outputs": [],
   "source": [
    "X5a = multAssoc.specialize({Etcetera(x):[],\n",
    "                            Etcetera(y):[two,pi],\n",
    "                            Etcetera(z):Subtract(delta_,Fraction(l,Exponentiate(two,t_)))}).proven(assumptions).rhsSubstitute(X5_0a).proven(assumptions)\n",
    "X5a"
   ]
  },
  {
   "cell_type": "code",
   "execution_count": null,
   "metadata": {
    "collapsed": false
   },
   "outputs": [],
   "source": [
    "In(l,Integers).proven(assumptions)\n",
    "In(t_,Naturals).proven(assumptions)\n",
    "In(delta_,Reals).proven(assumptions)"
   ]
  },
  {
   "cell_type": "code",
   "execution_count": null,
   "metadata": {
    "collapsed": true
   },
   "outputs": [],
   "source": [
    "assumptions = assumptions.union({\n",
    "                                LessThanEquals(Neg(Exponentiate(two,Subtract(t_,one))),l),\n",
    "                                LessThanEquals(l,Exponentiate(two,Subtract(t_,one))),\n",
    "                                LessThanEquals(zero,delta_),\n",
    "                                LessThanEquals(delta_,Exponentiate(two,Neg(t_)))\n",
    "                                })"
   ]
  },
  {
   "cell_type": "code",
   "execution_count": null,
   "metadata": {
    "collapsed": false
   },
   "outputs": [],
   "source": [
    "Y3 = ineqThm4a.specialize({t:t_,delta:delta_}).proven(assumptions)\n",
    "Y3"
   ]
  },
  {
   "cell_type": "code",
   "execution_count": null,
   "metadata": {
    "collapsed": false
   },
   "outputs": [],
   "source": [
    "Y4 = ineqThm4b.specialize({t:t_,delta:delta_}).proven(assumptions)\n",
    "Y4"
   ]
  },
  {
   "cell_type": "code",
   "execution_count": null,
   "metadata": {
    "collapsed": false
   },
   "outputs": [],
   "source": [
    "deduceInReals(Y4.lhs,assumptions)\n",
    "deduceInReals(Y4.rhs,assumptions)"
   ]
  },
  {
   "cell_type": "code",
   "execution_count": null,
   "metadata": {
    "collapsed": false
   },
   "outputs": [],
   "source": [
    "Y4a = relaxLessThan.specialize({a:Y4.lhs,b:Y4.rhs}).proven(assumptions)\n",
    "Y4a"
   ]
  },
  {
   "cell_type": "code",
   "execution_count": null,
   "metadata": {
    "collapsed": false
   },
   "outputs": [],
   "source": [
    "Y5_0 = ineqThm3.specialize(\n",
    "    {theta:Multiply(Multiply(two,pi),\n",
    "                    Subtract(delta_,Fraction(l,Exponentiate(two,t_))))}).proven(assumptions).deriveReversed().proven(assumptions)\n",
    "Y5_0"
   ]
  },
  {
   "cell_type": "code",
   "execution_count": null,
   "metadata": {
    "collapsed": false
   },
   "outputs": [],
   "source": [
    "#Y5 = "
   ]
  },
  {
   "cell_type": "code",
   "execution_count": null,
   "metadata": {
    "collapsed": false
   },
   "outputs": [],
   "source": [
    "divIneqThm1cor"
   ]
  },
  {
   "cell_type": "code",
   "execution_count": null,
   "metadata": {
    "collapsed": false
   },
   "outputs": [],
   "source": [
    "deduceInReals(Y5_0.lhs,assumptions)\n",
    "deduceInReals(Y5_0.rhs,assumptions)\n",
    "deduceInReals(Exponentiate(two,t_),assumptions)\n",
    "assumptions = assumptions.union({GreaterThan(Exponentiate(two,t_),zero)})"
   ]
  },
  {
   "cell_type": "code",
   "execution_count": null,
   "metadata": {
    "collapsed": false
   },
   "outputs": [],
   "source": [
    "Y6 = divIneqThm1cor.specialize({a:Y5_0.lhs,c:Y5_0.rhs,b:Exponentiate(two,t_)}).proven(assumptions).deriveReversed().proven(assumptions)\n",
    "Y6"
   ]
  },
  {
   "cell_type": "code",
   "execution_count": null,
   "metadata": {
    "collapsed": false
   },
   "outputs": [],
   "source": [
    "deduceInComplexes(Multiply(two,pi),assumptions)\n"
   ]
  },
  {
   "cell_type": "code",
   "execution_count": null,
   "metadata": {
    "collapsed": false
   },
   "outputs": [],
   "source": [
    "#In(Subtract(delta_,Fraction(l,Exponentiate(two,t_))),Complexes).proven(assumptions)"
   ]
  },
  {
   "cell_type": "code",
   "execution_count": null,
   "metadata": {
    "collapsed": false
   },
   "outputs": [],
   "source": [
    "Y7 = absProd.specialize({xEtc:Multiply(two,pi),yEtc:Subtract(delta_,Fraction(l,Exponentiate(two,t_)))}).proven(assumptions)\n",
    "Y7"
   ]
  },
  {
   "cell_type": "code",
   "execution_count": null,
   "metadata": {
    "collapsed": false
   },
   "outputs": [],
   "source": [
    "#Y8 intentionally omitted\n",
    "Y9 = Y7.rhsSubstitute(Y6).proven(assumptions)\n",
    "Y9"
   ]
  },
  {
   "cell_type": "code",
   "execution_count": null,
   "metadata": {
    "collapsed": false
   },
   "outputs": [],
   "source": [
    "Y10 = absPos.specialize({a:Multiply(two,pi)}).rhsSubstitute(Y9).proven(assumptions)\n",
    "Y10"
   ]
  },
  {
   "cell_type": "code",
   "execution_count": null,
   "metadata": {
    "collapsed": false
   },
   "outputs": [],
   "source": [
    "Y11_0 = Multiply(two,\n",
    "                Multiply(two,pi),\n",
    "                Abs(Subtract(delta_,Fraction(l,Exponentiate(two,t_)))))\n",
    "Y11_0"
   ]
  },
  {
   "cell_type": "code",
   "execution_count": null,
   "metadata": {
    "collapsed": false
   },
   "outputs": [],
   "source": [
    "Y11 = Y11_0.group(1,3,assumptions).proven(assumptions)\n",
    "Y11"
   ]
  },
  {
   "cell_type": "code",
   "execution_count": null,
   "metadata": {
    "collapsed": false
   },
   "outputs": [],
   "source": [
    "Y12 = Y11.lhsSubstitute(Y10).proven(assumptions)\n",
    "Y12"
   ]
  },
  {
   "cell_type": "code",
   "execution_count": null,
   "metadata": {
    "collapsed": false
   },
   "outputs": [],
   "source": [
    "multAssoc"
   ]
  },
  {
   "cell_type": "code",
   "execution_count": null,
   "metadata": {
    "collapsed": false
   },
   "outputs": [],
   "source": [
    "Y13 = multAssoc.specialize({Etcetera(x):two,\n",
    "                            Etcetera(y):[two,pi],Etcetera(z):Abs(Subtract(delta_,Fraction(l,Exponentiate(two,t_))))}).proven(assumptions)\n",
    "Y13"
   ]
  },
  {
   "cell_type": "code",
   "execution_count": null,
   "metadata": {
    "collapsed": false
   },
   "outputs": [],
   "source": [
    "Y14 = Y13.lhsSubstitute(Y12).proven(assumptions)\n",
    "Y14"
   ]
  },
  {
   "cell_type": "code",
   "execution_count": null,
   "metadata": {
    "collapsed": false
   },
   "outputs": [],
   "source": [
    "deduceInComplexes(Multiply(two,two,Abs(Subtract(delta_,Fraction(l,Exponentiate(two,t_))))),assumptions)\n",
    "deduceInComplexes(Abs(Subtract(delta_,Fraction(l,Exponentiate(two,t_)))),assumptions)\n"
   ]
  },
  {
   "cell_type": "code",
   "execution_count": null,
   "metadata": {
    "collapsed": false,
    "scrolled": true
   },
   "outputs": [],
   "source": [
    "Fraction(Multiply(two,pi),pi).cancel(pi)"
   ]
  },
  {
   "cell_type": "code",
   "execution_count": null,
   "metadata": {
    "collapsed": false,
    "scrolled": false
   },
   "outputs": [],
   "source": [
    "Fraction(Multiply(a,pi),pi).cancel(pi,assumptions={In(a,Complexes)})"
   ]
  },
  {
   "cell_type": "code",
   "execution_count": null,
   "metadata": {
    "collapsed": false
   },
   "outputs": [],
   "source": [
    "In(Abs(a),Complexes).checked({In(Abs(a),Complexes)})"
   ]
  },
  {
   "cell_type": "code",
   "execution_count": null,
   "metadata": {
    "collapsed": false
   },
   "outputs": [],
   "source": [
    "Fraction(Multiply(Abs(a),pi),pi).cancel(pi,assumptions={In(Abs(a),Complexes)})"
   ]
  },
  {
   "cell_type": "code",
   "execution_count": null,
   "metadata": {
    "collapsed": false
   },
   "outputs": [],
   "source": [
    "Fraction(Multiply(Abs(Subtract(delta_,Fraction(l,Exponentiate(two,t_)))),pi),pi).cancel(pi,assumptions=assumptions)"
   ]
  },
  {
   "cell_type": "code",
   "execution_count": null,
   "metadata": {
    "collapsed": false
   },
   "outputs": [],
   "source": [
    "In(Abs(Subtract(delta_,Fraction(l,Exponentiate(two,t_)))),Complexes).proven(assumptions)"
   ]
  },
  {
   "cell_type": "code",
   "execution_count": null,
   "metadata": {
    "collapsed": false
   },
   "outputs": [],
   "source": [
    "ZZZ = Y14.rhs.operands[1].numerator#.factor(pi)\n",
    "ZZZ.factor(pi,assumptions=assumptions)\n",
    "ZZZZ = Y14.rhs.operands[1]\n",
    "ZZZZ.factor(pi, assumptions=assumptions)\n",
    "ZZZZ.cancel(pi,assumptions=assumptions)"
   ]
  },
  {
   "cell_type": "code",
   "execution_count": null,
   "metadata": {
    "collapsed": false
   },
   "outputs": [],
   "source": [
    "Y15_0 = Y14.rhs.operands[1].cancel(pi,assumptions=assumptions).proven(assumptions)\n",
    "Y15_0"
   ]
  },
  {
   "cell_type": "code",
   "execution_count": null,
   "metadata": {
    "collapsed": false
   },
   "outputs": [],
   "source": [
    "Y14.rhs.operands[1]"
   ]
  },
  {
   "cell_type": "code",
   "execution_count": null,
   "metadata": {
    "collapsed": true
   },
   "outputs": [],
   "source": []
  },
  {
   "cell_type": "code",
   "execution_count": null,
   "metadata": {
    "collapsed": false
   },
   "outputs": [],
   "source": [
    "Y15 = Y14.rhs.operands[1].cancel(pi,assumptions=assumptions).rhsSubstitute(Y14).proven(assumptions)\n",
    "Y15"
   ]
  },
  {
   "cell_type": "code",
   "execution_count": null,
   "metadata": {
    "collapsed": false
   },
   "outputs": [],
   "source": [
    "assumptions = assumptions.union({GreaterThan(two,zero)})"
   ]
  },
  {
   "cell_type": "code",
   "execution_count": null,
   "metadata": {
    "collapsed": false
   },
   "outputs": [],
   "source": [
    "Y16 = posOfExps.specialize({x:two,y:t_}).proven(assumptions)\n",
    "Y16"
   ]
  },
  {
   "cell_type": "code",
   "execution_count": null,
   "metadata": {
    "collapsed": false
   },
   "outputs": [],
   "source": [
    "Y17_0 = GreaterThan(Multiply(two,two,Abs(Subtract(delta_,Fraction(l,Exponentiate(two,t_))))),zero)#.proven(assumptions)\n",
    "assumptions = assumptions.union({Y17_0})\n",
    "Y17 = Y17_0.proven(assumptions)\n",
    "Y17"
   ]
  },
  {
   "cell_type": "code",
   "execution_count": null,
   "metadata": {
    "collapsed": false
   },
   "outputs": [],
   "source": [
    "In(Y17.lhs.operands[2],Reals).checked(assumptions)"
   ]
  },
  {
   "cell_type": "code",
   "execution_count": null,
   "metadata": {
    "collapsed": false
   },
   "outputs": [],
   "source": [
    "deduceInReals(Y16.lhs,assumptions).proven(assumptions)\n",
    "deduceInReals(Y17.lhs,assumptions).proven(assumptions)"
   ]
  },
  {
   "cell_type": "code",
   "execution_count": null,
   "metadata": {
    "collapsed": false
   },
   "outputs": [],
   "source": [
    "Y18 = posProd.specialize({x:Y16.lhs,y:Y17.lhs}).proven(assumptions)\n",
    "Y18#"
   ]
  },
  {
   "cell_type": "code",
   "execution_count": null,
   "metadata": {
    "collapsed": true
   },
   "outputs": [],
   "source": []
  },
  {
   "cell_type": "code",
   "execution_count": null,
   "metadata": {
    "collapsed": false
   },
   "outputs": [],
   "source": [
    "In(X5a.rhs.numerator,Reals).checked(assumptions)\n",
    "deduceInReals(X5a.rhs.denominator,assumptions).proven(assumptions)\n",
    "deduceInReals(Y18.lhs,assumptions).proven(assumptions)\n",
    "\n",
    "assumptions = assumptions.union({In(X5.lhs,Reals)})\n",
    "assumptions = assumptions.union({GreaterThan(X5a.lhs,zero)})#.checked(assumptions)\n",
    "assumptions = assumptions.union({GreaterThan(two,zero)})#.checked(assumptions)\n",
    "assumptions = assumptions.union({GreaterThan(X5a.rhs.denominator,zero)})\n"
   ]
  },
  {
   "cell_type": "code",
   "execution_count": null,
   "metadata": {
    "collapsed": false
   },
   "outputs": [],
   "source": [
    "X19 = ineqThm10.specialize({w:X5.lhs,\n",
    "                      x:X5a.rhs.numerator,\n",
    "                      y:X5a.rhs.denominator,\n",
    "                      z:Y18.lhs}).proven(assumptions)\n",
    "X19"
   ]
  },
  {
   "cell_type": "code",
   "execution_count": null,
   "metadata": {
    "collapsed": false
   },
   "outputs": [],
   "source": [
    "X20 = X19.rhs.denominator.ungroup(1,assumptions=assumptions).rhsSubstitute(X19).proven(assumptions)\n",
    "X20"
   ]
  },
  {
   "cell_type": "code",
   "execution_count": null,
   "metadata": {
    "collapsed": false
   },
   "outputs": [],
   "source": [
    "#21 omitted intentionally\n",
    "X22 = X20.rhs.cancel(two,'left',assumptions).rhsSubstitute(X20).proven(assumptions)\n",
    "X22"
   ]
  },
  {
   "cell_type": "code",
   "execution_count": null,
   "metadata": {
    "collapsed": false
   },
   "outputs": [],
   "source": [
    "#23 omitted intentionally\n",
    "X24 = expAdd1a.specialize({x:two,y:t_,z:Abs(Subtract(delta_,Fraction(l,Exponentiate(two,t_))))}).rhsSubstitute(X22).proven(assumptions)\n",
    "X24"
   ]
  },
  {
   "cell_type": "code",
   "execution_count": null,
   "metadata": {
    "collapsed": true
   },
   "outputs": [],
   "source": [
    "#Everything above should work."
   ]
  },
  {
   "cell_type": "code",
   "execution_count": null,
   "metadata": {
    "collapsed": true
   },
   "outputs": [],
   "source": []
  },
  {
   "cell_type": "code",
   "execution_count": null,
   "metadata": {
    "collapsed": true
   },
   "outputs": [],
   "source": []
  },
  {
   "cell_type": "code",
   "execution_count": 74,
   "metadata": {
    "collapsed": false
   },
   "outputs": [],
   "source": [
    "assumptions = assumptions.union({NotEquals(X24.rhs.denominator.operands[1].operand,zero)})"
   ]
  },
  {
   "cell_type": "code",
   "execution_count": 75,
   "metadata": {
    "collapsed": false
   },
   "outputs": [
    {
     "data": {
      "text/latex": [
       "$\\frac{1}{2^{t + 1} \\cdot \\left|\\left(\\delta - \\frac{l}{2^{t}}\\right)\\right|} \\in \\mathbb{R}$"
      ],
      "text/plain": [
       "1 / (2^(t + 1) * |(delta - l / 2^(t))|) in Reals"
      ]
     },
     "execution_count": 75,
     "metadata": {},
     "output_type": "execute_result"
    }
   ],
   "source": [
    "deduceInReals(X24.rhs,assumptions)"
   ]
  },
  {
   "cell_type": "code",
   "execution_count": null,
   "metadata": {
    "collapsed": true
   },
   "outputs": [],
   "source": []
  },
  {
   "cell_type": "code",
   "execution_count": 86,
   "metadata": {
    "collapsed": false
   },
   "outputs": [
    {
     "ename": "ProofFailure",
     "evalue": "Proof failed: ||alpha(l)||^(2) <= (1 / (2^(t + 1) * |(delta - l / 2^(t))|))^(2) assuming {delta <= 2^(-t), |alpha(l)| = |(1 - e^(2 * pi * i * ((2^(t) * delta) - l)))| / (2^(t) * |(1 - e^(2 * pi * i * (delta - l / 2^(t))))|), 2^(t) > 0, (-2^(t - 1)) <= l, (2^(t) * |(1 - e^(i * ((2 * pi) * (delta - l / 2^(t)))))|) > 0, |alpha(l)| > 0, |alpha(l)| in Reals, 2 > 0, l in Integers, (2^(t) * |(1 - e^(i * 2 * pi * (delta - l / 2^(t))))|) > 0, 0 <= delta, (delta - l / 2^(t)) != 0, (2 * 2 * |(delta - l / 2^(t))|) > 0, l <= 2^(t - 1)}",
     "output_type": "error",
     "traceback": [
      "\u001b[0;31m---------------------------------------------------------------------------\u001b[0m",
      "\u001b[0;31mProofFailure\u001b[0m                              Traceback (most recent call last)",
      "\u001b[0;32m<ipython-input-86-6f27dba4b14f>\u001b[0m in \u001b[0;36m<module>\u001b[0;34m()\u001b[0m\n\u001b[1;32m      1\u001b[0m \u001b[0mX25\u001b[0m \u001b[0;34m=\u001b[0m \u001b[0msquarePosIneq\u001b[0m\u001b[0;34m.\u001b[0m\u001b[0mspecialize\u001b[0m\u001b[0;34m(\u001b[0m\u001b[0;34m{\u001b[0m\u001b[0ma\u001b[0m\u001b[0;34m:\u001b[0m\u001b[0mAbs\u001b[0m\u001b[0;34m(\u001b[0m\u001b[0malpha_l\u001b[0m\u001b[0;34m)\u001b[0m\u001b[0;34m,\u001b[0m\u001b[0mb\u001b[0m\u001b[0;34m:\u001b[0m\u001b[0mX24\u001b[0m\u001b[0;34m.\u001b[0m\u001b[0mrhs\u001b[0m\u001b[0;34m}\u001b[0m\u001b[0;34m)\u001b[0m\u001b[0;34m\u001b[0m\u001b[0m\n\u001b[1;32m      2\u001b[0m \u001b[0;31m#assumptions = assumptions.union({X24,In(alpha_l,Reals),In(X24.rhs,Reals)})\u001b[0m\u001b[0;34m\u001b[0m\u001b[0;34m\u001b[0m\u001b[0m\n\u001b[0;32m----> 3\u001b[0;31m \u001b[0mX25\u001b[0m\u001b[0;34m.\u001b[0m\u001b[0mproven\u001b[0m\u001b[0;34m(\u001b[0m\u001b[0massumptions\u001b[0m\u001b[0;34m)\u001b[0m\u001b[0;34m\u001b[0m\u001b[0m\n\u001b[0m",
      "\u001b[0;32m/Users/kmrudin/proveit/proveit/expression.pyc\u001b[0m in \u001b[0;36mproven\u001b[0;34m(self, assumptions)\u001b[0m\n\u001b[1;32m     99\u001b[0m             \u001b[0;32mreturn\u001b[0m \u001b[0;34m\"{\"\u001b[0m \u001b[0;34m+\u001b[0m \u001b[0;34m\", \"\u001b[0m\u001b[0;34m.\u001b[0m\u001b[0mjoin\u001b[0m\u001b[0;34m(\u001b[0m\u001b[0;34m[\u001b[0m\u001b[0mstr\u001b[0m\u001b[0;34m(\u001b[0m\u001b[0massumption\u001b[0m\u001b[0;34m)\u001b[0m \u001b[0;32mfor\u001b[0m \u001b[0massumption\u001b[0m \u001b[0;32min\u001b[0m \u001b[0massumptions\u001b[0m\u001b[0;34m]\u001b[0m\u001b[0;34m)\u001b[0m \u001b[0;34m+\u001b[0m \u001b[0;34m\"}\"\u001b[0m\u001b[0;34m\u001b[0m\u001b[0m\n\u001b[1;32m    100\u001b[0m         \u001b[0;32mif\u001b[0m \u001b[0mself\u001b[0m\u001b[0;34m.\u001b[0m\u001b[0misProven\u001b[0m\u001b[0;34m(\u001b[0m\u001b[0massumptions\u001b[0m\u001b[0;34m)\u001b[0m\u001b[0;34m==\u001b[0m\u001b[0mFalse\u001b[0m\u001b[0;34m:\u001b[0m\u001b[0;34m\u001b[0m\u001b[0m\n\u001b[0;32m--> 101\u001b[0;31m             \u001b[0;32mraise\u001b[0m \u001b[0mProofFailure\u001b[0m\u001b[0;34m(\u001b[0m\u001b[0;34m\"Proof failed: \"\u001b[0m \u001b[0;34m+\u001b[0m \u001b[0mstr\u001b[0m\u001b[0;34m(\u001b[0m\u001b[0mself\u001b[0m\u001b[0;34m)\u001b[0m \u001b[0;34m+\u001b[0m \u001b[0;34m\" assuming \"\u001b[0m \u001b[0;34m+\u001b[0m \u001b[0mmakeAssumptionsStr\u001b[0m\u001b[0;34m(\u001b[0m\u001b[0massumptions\u001b[0m\u001b[0;34m)\u001b[0m\u001b[0;34m)\u001b[0m\u001b[0;34m\u001b[0m\u001b[0m\n\u001b[0m\u001b[1;32m    102\u001b[0m         \u001b[0;32mreturn\u001b[0m \u001b[0mself\u001b[0m\u001b[0;34m\u001b[0m\u001b[0m\n\u001b[1;32m    103\u001b[0m \u001b[0;34m\u001b[0m\u001b[0m\n",
      "\u001b[0;31mProofFailure\u001b[0m: Proof failed: ||alpha(l)||^(2) <= (1 / (2^(t + 1) * |(delta - l / 2^(t))|))^(2) assuming {delta <= 2^(-t), |alpha(l)| = |(1 - e^(2 * pi * i * ((2^(t) * delta) - l)))| / (2^(t) * |(1 - e^(2 * pi * i * (delta - l / 2^(t))))|), 2^(t) > 0, (-2^(t - 1)) <= l, (2^(t) * |(1 - e^(i * ((2 * pi) * (delta - l / 2^(t)))))|) > 0, |alpha(l)| > 0, |alpha(l)| in Reals, 2 > 0, l in Integers, (2^(t) * |(1 - e^(i * 2 * pi * (delta - l / 2^(t))))|) > 0, 0 <= delta, (delta - l / 2^(t)) != 0, (2 * 2 * |(delta - l / 2^(t))|) > 0, l <= 2^(t - 1)}"
     ]
    }
   ],
   "source": [
    "X25 = squarePosIneq.specialize({a:Abs(alpha_l),b:X24.rhs})\n",
    "#assumptions = assumptions.union({X24,In(alpha_l,Reals),In(X24.rhs,Reals)})\n",
    "X25.proven(assumptions)"
   ]
  },
  {
   "cell_type": "code",
   "execution_count": 92,
   "metadata": {
    "collapsed": false
   },
   "outputs": [
    {
     "data": {
      "text/latex": [
       "$\\forall_{a, b \\in \\mathbb{R} | \\left|a\\right| \\leq b} \\left(\\left|a\\right|^{2} \\leq b^{2}\\right)$"
      ],
      "text/plain": [
       "forall_{a, b in Reals | |a| <= b} (|a|^(2) <= b^(2))"
      ]
     },
     "execution_count": 92,
     "metadata": {},
     "output_type": "execute_result"
    }
   ],
   "source": [
    "squarePosIneq"
   ]
  },
  {
   "cell_type": "code",
   "execution_count": 91,
   "metadata": {
    "collapsed": false
   },
   "outputs": [
    {
     "data": {
      "text/latex": [
       "$\\left|\\alpha\\left(l\\right)\\right| \\leq \\frac{1}{2^{t + 1} \\cdot \\left|\\left(\\delta - \\frac{l}{2^{t}}\\right)\\right|}$"
      ],
      "text/plain": [
       "|alpha(l)| <= 1 / (2^(t + 1) * |(delta - l / 2^(t))|)"
      ]
     },
     "execution_count": 91,
     "metadata": {},
     "output_type": "execute_result"
    }
   ],
   "source": [
    "In(X24.rhs,Reals).proven(assumptions)\n",
    "In(Abs(alpha_l),Reals).proven(assumptions)\n",
    "LessThanEquals(Abs(alpha_l),X24.rhs).proven(assumptions)"
   ]
  },
  {
   "cell_type": "code",
   "execution_count": null,
   "metadata": {
    "collapsed": true
   },
   "outputs": [],
   "source": []
  },
  {
   "cell_type": "code",
   "execution_count": 77,
   "metadata": {
    "collapsed": false
   },
   "outputs": [
    {
     "data": {
      "text/latex": [
       "$\\forall_{a, b \\in \\mathbb{R} | \\left|a\\right| \\leq b} \\left(\\left|a\\right|^{2} \\leq b^{2}\\right)$"
      ],
      "text/plain": [
       "forall_{a, b in Reals | |a| <= b} (|a|^(2) <= b^(2))"
      ]
     },
     "execution_count": 77,
     "metadata": {},
     "output_type": "execute_result"
    }
   ],
   "source": [
    "squarePosIneq"
   ]
  },
  {
   "cell_type": "code",
   "execution_count": 85,
   "metadata": {
    "collapsed": false
   },
   "outputs": [
    {
     "data": {
      "text/latex": [
       "$\\left|\\alpha\\left(l\\right)\\right| \\in \\mathbb{R}$"
      ],
      "text/plain": [
       "|alpha(l)| in Reals"
      ]
     },
     "execution_count": 85,
     "metadata": {},
     "output_type": "execute_result"
    }
   ],
   "source": []
  },
  {
   "cell_type": "code",
   "execution_count": 79,
   "metadata": {
    "collapsed": false
   },
   "outputs": [
    {
     "data": {
      "text/latex": [
       "$\\left|\\alpha\\left(l\\right)\\right|$"
      ],
      "text/plain": [
       "|alpha(l)|"
      ]
     },
     "execution_count": 79,
     "metadata": {},
     "output_type": "execute_result"
    }
   ],
   "source": [
    "X5.lhs"
   ]
  },
  {
   "cell_type": "code",
   "execution_count": 81,
   "metadata": {
    "collapsed": false
   },
   "outputs": [
    {
     "data": {
      "text/latex": [
       "$\\left|\\alpha\\left(l\\right)\\right| \\in \\mathbb{R}$"
      ],
      "text/plain": [
       "|alpha(l)| in Reals"
      ]
     },
     "execution_count": 81,
     "metadata": {},
     "output_type": "execute_result"
    }
   ],
   "source": [
    "In(X5.lhs,Reals).proven(assumptions)"
   ]
  },
  {
   "cell_type": "code",
   "execution_count": 82,
   "metadata": {
    "collapsed": false
   },
   "outputs": [
    {
     "data": {
      "text/latex": [
       "$\\alpha\\left(l\\right)$"
      ],
      "text/plain": [
       "alpha(l)"
      ]
     },
     "execution_count": 82,
     "metadata": {},
     "output_type": "execute_result"
    }
   ],
   "source": [
    "alpha_l"
   ]
  },
  {
   "cell_type": "code",
   "execution_count": 87,
   "metadata": {
    "collapsed": false
   },
   "outputs": [
    {
     "data": {
      "text/plain": [
       "True"
      ]
     },
     "execution_count": 87,
     "metadata": {},
     "output_type": "execute_result"
    }
   ],
   "source": [
    "X5.lhs == Abs(alpha_l)"
   ]
  },
  {
   "cell_type": "code",
   "execution_count": null,
   "metadata": {
    "collapsed": true
   },
   "outputs": [],
   "source": []
  }
 ],
 "metadata": {
  "kernelspec": {
   "display_name": "Python 2",
   "language": "python",
   "name": "python2"
  },
  "language_info": {
   "codemirror_mode": {
    "name": "ipython",
    "version": 2
   },
   "file_extension": ".py",
   "mimetype": "text/x-python",
   "name": "python",
   "nbconvert_exporter": "python",
   "pygments_lexer": "ipython2",
   "version": "2.7.10"
  }
 },
 "nbformat": 4,
 "nbformat_minor": 0
}
