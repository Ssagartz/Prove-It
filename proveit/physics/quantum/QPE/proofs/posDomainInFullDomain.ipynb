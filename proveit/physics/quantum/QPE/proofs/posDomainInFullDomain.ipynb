{
 "cells": [
  {
   "cell_type": "code",
   "execution_count": 1,
   "metadata": {
    "collapsed": false
   },
   "outputs": [],
   "source": [
    "from proveit.basiclogic import In\n",
    "from proveit.number import Neg\n",
    "from proveit.number.common import one\n",
    "from proveit.common import eps\n",
    "from proveit.physics.quantum.QPE.common import l, fullDomain, posDomain, two_pow_t_minus_one\n",
    "from proveit.physics.quantum.QPE.theorems import two_pow_tMinusOne_in_posnats\n",
    "from proveit.number.numberSets import NaturalsPos, deducePositive, deduceNegative, deduceInIntegers\n",
    "from IPython.display import display"
   ]
  },
  {
   "cell_type": "code",
   "execution_count": 2,
   "metadata": {
    "collapsed": false
   },
   "outputs": [
    {
     "data": {
      "text/latex": [
       "$\\varepsilon \\in \\mathbb{N}^+$"
      ],
      "text/plain": [
       "eps in NaturalsPos"
      ]
     },
     "metadata": {},
     "output_type": "display_data"
    },
    {
     "data": {
      "text/latex": [
       "$l \\in \\{\\left(\\varepsilon + 1\\right)\\ldots 2^{t - 1}\\}$"
      ],
      "text/plain": [
       "l in \\{(eps + 1)...2^(t - 1)\\}"
      ]
     },
     "metadata": {},
     "output_type": "display_data"
    }
   ],
   "source": [
    "epsInNaturalsPos = In(eps, NaturalsPos)\n",
    "lInPosDomain = In(l, posDomain)\n",
    "assumptions = {epsInNaturalsPos, lInPosDomain}\n",
    "display(epsInNaturalsPos)\n",
    "display(lInPosDomain)"
   ]
  },
  {
   "cell_type": "code",
   "execution_count": 3,
   "metadata": {
    "collapsed": false
   },
   "outputs": [
    {
     "data": {
      "text/latex": [
       "$\\{\\left(-2^{t - 1}\\right) + 1\\ldots 2^{t - 1}\\}$"
      ],
      "text/plain": [
       "\\{(-2^(t - 1)) + 1...2^(t - 1)\\}"
      ]
     },
     "execution_count": 3,
     "metadata": {},
     "output_type": "execute_result"
    }
   ],
   "source": [
    "fullDomain"
   ]
  },
  {
   "cell_type": "code",
   "execution_count": 4,
   "metadata": {
    "collapsed": false
   },
   "outputs": [
    {
     "data": {
      "text/latex": [
       "$l \\leq 2^{t - 1}$"
      ],
      "text/plain": [
       "l <= 2^(t - 1)"
      ]
     },
     "execution_count": 4,
     "metadata": {},
     "output_type": "execute_result"
    }
   ],
   "source": [
    "posDomain.deduceMemberUpperBound(l, assumptions).proven(assumptions)"
   ]
  },
  {
   "cell_type": "code",
   "execution_count": 5,
   "metadata": {
    "collapsed": false
   },
   "outputs": [
    {
     "data": {
      "text/latex": [
       "$\\varepsilon > 0$"
      ],
      "text/plain": [
       "eps > 0"
      ]
     },
     "metadata": {},
     "output_type": "display_data"
    },
    {
     "data": {
      "text/latex": [
       "$\\left(\\left(-2^{t - 1}\\right) + 1\\right) \\leq \\left(\\varepsilon + 1\\right)$"
      ],
      "text/plain": [
       "((-2^(t - 1)) + 1) <= (eps + 1)"
      ]
     },
     "metadata": {},
     "output_type": "display_data"
    }
   ],
   "source": [
    "epsIsPos = deducePositive(eps, assumptions)\n",
    "display(epsIsPos.proven(assumptions))\n",
    "lowerBoundIneq = deduceNegative(Neg(two_pow_t_minus_one)).applyTransitivity(epsIsPos).deriveRelaxed(assumptions).deriveShifted(one, assumptions)\n",
    "display(lowerBoundIneq.proven(assumptions))"
   ]
  },
  {
   "cell_type": "code",
   "execution_count": 6,
   "metadata": {
    "collapsed": false
   },
   "outputs": [
    {
     "data": {
      "text/latex": [
       "$\\left(\\left(-2^{t - 1}\\right) + 1\\right) \\leq l$"
      ],
      "text/plain": [
       "((-2^(t - 1)) + 1) <= l"
      ]
     },
     "execution_count": 6,
     "metadata": {},
     "output_type": "execute_result"
    }
   ],
   "source": [
    "lowerBoundIneq.applyTransitivity(posDomain.deduceMemberLowerBound(l, assumptions)).proven(assumptions)"
   ]
  },
  {
   "cell_type": "code",
   "execution_count": 7,
   "metadata": {
    "collapsed": false
   },
   "outputs": [
    {
     "data": {
      "text/latex": [
       "$\\forall_{\\varepsilon \\in \\mathbb{N}^+} \\left[\\forall_{l \\in \\{\\left(\\varepsilon + 1\\right)\\ldots 2^{t - 1}\\}} \\left(l \\in \\{\\left(\\left(-2^{t - 1}\\right) + 1\\right)\\ldots 2^{t - 1}\\}\\right)\\right]$"
      ],
      "text/plain": [
       "forall_{eps in NaturalsPos} [forall_{l in \\{(eps + 1)...2^(t - 1)\\}} (l in \\{((-2^(t - 1)) + 1)...2^(t - 1)\\})]"
      ]
     },
     "execution_count": 7,
     "metadata": {},
     "output_type": "execute_result"
    }
   ],
   "source": [
    "deduceInIntegers(fullDomain.lowerBound, assumptions)\n",
    "deduceInIntegers(fullDomain.upperBound, assumptions)\n",
    "posDomain.deduceMemberInIntegers(l, assumptions).proven(assumptions)\n",
    "In(l, fullDomain).concludeAsFolded().generalize(l, domain=posDomain).generalize(eps, domain=NaturalsPos).proven()"
   ]
  },
  {
   "cell_type": "code",
   "execution_count": null,
   "metadata": {
    "collapsed": true
   },
   "outputs": [],
   "source": []
  }
 ],
 "metadata": {
  "kernelspec": {
   "display_name": "Python 2",
   "language": "python",
   "name": "python2"
  },
  "language_info": {
   "codemirror_mode": {
    "name": "ipython",
    "version": 2
   },
   "file_extension": ".py",
   "mimetype": "text/x-python",
   "name": "python",
   "nbconvert_exporter": "python",
   "pygments_lexer": "ipython2",
   "version": "2.7.10"
  }
 },
 "nbformat": 4,
 "nbformat_minor": 0
}
