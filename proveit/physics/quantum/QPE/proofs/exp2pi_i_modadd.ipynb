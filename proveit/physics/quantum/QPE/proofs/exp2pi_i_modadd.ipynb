{
 "cells": [
  {
   "cell_type": "code",
   "execution_count": 1,
   "metadata": {
    "collapsed": false
   },
   "outputs": [],
   "source": [
    "from proveit.common import a, b, r, x\n",
    "from proveit.basiclogic import In\n",
    "from proveit.number import Add\n",
    "from proveit.number.common import Reals, Integers\n",
    "from proveit.number.integer.theorems import inReals\n",
    "from proveit.trigonometry.theorems import exp_2pi_i_x\n",
    "from proveit.physics.quantum.QPE.axioms import modAddDef\n",
    "from proveit.physics.quantum.QPE.theorems import two_pow_t_in_real\n",
    "from proveit.physics.quantum.QPE.phaseEstOps import ModAdd\n",
    "from proveit.physics.quantum.QPE.common import two_pow_t\n",
    "from IPython.display import display"
   ]
  },
  {
   "cell_type": "code",
   "execution_count": 2,
   "metadata": {
    "collapsed": false
   },
   "outputs": [
    {
     "data": {
      "text/plain": [
       "{a in Integers, b in Integers}"
      ]
     },
     "metadata": {},
     "output_type": "display_data"
    },
    {
     "data": {
      "image/png": "[encoded data removed]",
      "text/plain": [
       "a in Reals"
      ]
     },
     "metadata": {},
     "output_type": "display_data"
    },
    {
     "data": {
      "image/png": "[encoded data removed]",
      "text/plain": [
       "b in Reals"
      ]
     },
     "metadata": {},
     "output_type": "display_data"
    },
    {
     "data": {
      "image/png": "[encoded data removed]",
      "text/plain": [
       "(a + b) in Reals"
      ]
     },
     "metadata": {},
     "output_type": "display_data"
    }
   ],
   "source": [
    "assumptions = {In(a, Integers), In(b, Integers)}\n",
    "display(assumptions)\n",
    "display(inReals.specialize({a:a}).proven(assumptions))\n",
    "display(inReals.specialize({a:b}).proven(assumptions))\n",
    "display(Add(a, b).deriveInReal().proven(assumptions))"
   ]
  },
  {
   "cell_type": "code",
   "execution_count": 3,
   "metadata": {
    "collapsed": false
   },
   "outputs": [
    {
     "data": {
      "image/png": "[encoded data removed]",
      "text/plain": [
       "e^((2 * pi * i * ((a + b) mod 2^(t))) / 2^(t)) = e^((2 * pi * i * (a + b)) / 2^(t))"
      ]
     },
     "execution_count": 3,
     "metadata": {},
     "output_type": "execute_result"
    }
   ],
   "source": [
    "exp_2pi_i_x_spec = exp_2pi_i_x.specialize({x:Add(a, b), r:two_pow_t}).proven(assumptions)\n",
    "exp_2pi_i_x_spec"
   ]
  },
  {
   "cell_type": "code",
   "execution_count": 5,
   "metadata": {
    "collapsed": false
   },
   "outputs": [
    {
     "data": {
      "image/png": "[encoded data removed]",
      "text/plain": [
       "(a MOD_ADD b) = ((a + b) mod 2^(t))"
      ]
     },
     "execution_count": 5,
     "metadata": {},
     "output_type": "execute_result"
    }
   ],
   "source": [
    "modAddDefSpec = modAddDef.specialize().proven(assumptions)\n",
    "modAddDefSpec"
   ]
  },
  {
   "cell_type": "code",
   "execution_count": 6,
   "metadata": {
    "collapsed": false
   },
   "outputs": [
    {
     "data": {
      "image/png": "[encoded data removed]",
      "text/plain": [
       "e^((2 * pi * i * (a MOD_ADD b)) / 2^(t)) = e^((2 * pi * i * (a + b)) / 2^(t))"
      ]
     },
     "execution_count": 6,
     "metadata": {},
     "output_type": "execute_result"
    }
   ],
   "source": [
    "exp2pi_i_modadd_spec = modAddDefSpec.lhsSubstitute(exp_2pi_i_x_spec).proven(assumptions)\n",
    "exp2pi_i_modadd_spec"
   ]
  },
  {
   "cell_type": "code",
   "execution_count": 9,
   "metadata": {
    "collapsed": false
   },
   "outputs": [
    {
     "data": {
      "image/png": "[encoded data removed]",
      "text/plain": [
       "forall_{a, b in Integers} (e^((2 * pi * i * (a MOD_ADD b)) / 2^(t)) = e^((2 * pi * i * (a + b)) / 2^(t)))"
      ]
     },
     "execution_count": 9,
     "metadata": {},
     "output_type": "execute_result"
    }
   ],
   "source": [
    "exp2pi_i_modadd = exp2pi_i_modadd_spec.generalize({a, b}, domain=Integers).proven()\n",
    "exp2pi_i_modadd"
   ]
  },
  {
   "cell_type": "code",
   "execution_count": null,
   "metadata": {
    "collapsed": true
   },
   "outputs": [],
   "source": [
    "exp2pi_i_modadd.qed() # must revise qed to work with notebooks"
   ]
  },
  {
   "cell_type": "code",
   "execution_count": null,
   "metadata": {
    "collapsed": true
   },
   "outputs": [],
   "source": []
  },
  {
   "cell_type": "code",
   "execution_count": null,
   "metadata": {
    "collapsed": true
   },
   "outputs": [],
   "source": []
  }
 ],
 "metadata": {
  "kernelspec": {
   "display_name": "Python 2",
   "language": "python",
   "name": "python2"
  },
  "language_info": {
   "codemirror_mode": {
    "name": "ipython",
    "version": 2
   },
   "file_extension": ".py",
   "mimetype": "text/x-python",
   "name": "python",
   "nbconvert_exporter": "python",
   "pygments_lexer": "ipython2",
   "version": "2.7.10"
  }
 },
 "nbformat": 4,
 "nbformat_minor": 0
}
