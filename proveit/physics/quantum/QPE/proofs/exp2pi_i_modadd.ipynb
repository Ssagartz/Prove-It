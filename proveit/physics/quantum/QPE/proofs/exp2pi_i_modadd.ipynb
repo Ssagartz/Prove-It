{
 "cells": [
  {
   "cell_type": "code",
   "execution_count": 1,
   "metadata": {
    "collapsed": false
   },
   "outputs": [],
   "source": [
    "from proveit.common import a, b, r, x\n",
    "from proveit.basiclogic import In\n",
    "from proveit.number import Add\n",
    "from proveit.number.common import Integers\n",
    "from proveit.number.integer.theorems import inReals\n",
    "from proveit.trigonometry.theorems import exp_2pi_i_x\n",
    "from proveit.physics.quantum.QPE.axioms import modAddDef, tInNats\n",
    "from proveit.physics.quantum.QPE.phaseEstOps import ModAdd\n",
    "from proveit.physics.quantum.QPE.common import two_pow_t\n",
    "from IPython.display import display"
   ]
  },
  {
   "cell_type": "code",
   "execution_count": 2,
   "metadata": {
    "collapsed": false
   },
   "outputs": [
    {
     "data": {
      "text/plain": [
       "{a in Integers, b in Integers}"
      ]
     },
     "metadata": {},
     "output_type": "display_data"
    },
    {
     "data": {
      "text/latex": [
       "$\\left(a + b\\right) \\in \\mathbb{R}$"
      ],
      "text/plain": [
       "(a + b) in Reals"
      ]
     },
     "metadata": {},
     "output_type": "display_data"
    },
    {
     "data": {
      "text/latex": [
       "$2^{t} \\in \\mathbb{R}$"
      ],
      "text/plain": [
       "2^(t) in Reals"
      ]
     },
     "metadata": {},
     "output_type": "display_data"
    }
   ],
   "source": [
    "assumptions = {In(a, Integers), In(b, Integers)}\n",
    "display(assumptions)\n",
    "display(Add(a, b).deduceInReals(assumptions).proven(assumptions))\n",
    "display(two_pow_t.deduceInReals().proven())"
   ]
  },
  {
   "cell_type": "code",
   "execution_count": 3,
   "metadata": {
    "collapsed": false
   },
   "outputs": [
    {
     "data": {
      "text/latex": [
       "$e^{\\frac{2 \\cdot \\pi \\cdot i \\cdot \\left(\\left(a + b\\right) ~\\rm{mod}~ 2^{t}\\right)}{2^{t}}} = e^{\\frac{2 \\cdot \\pi \\cdot i \\cdot \\left(a + b\\right)}{2^{t}}}$"
      ],
      "text/plain": [
       "e^((2 * pi * i * ((a + b) mod 2^(t))) / 2^(t)) = e^((2 * pi * i * (a + b)) / 2^(t))"
      ]
     },
     "execution_count": 3,
     "metadata": {},
     "output_type": "execute_result"
    }
   ],
   "source": [
    "exp_2pi_i_x_spec = exp_2pi_i_x.specialize({x:Add(a, b), r:two_pow_t}).proven(assumptions)\n",
    "exp_2pi_i_x_spec"
   ]
  },
  {
   "cell_type": "code",
   "execution_count": 4,
   "metadata": {
    "collapsed": false
   },
   "outputs": [
    {
     "data": {
      "text/latex": [
       "$\\left(a \\oplus b\\right) = \\left(\\left(a + b\\right) ~\\rm{mod}~ 2^{t}\\right)$"
      ],
      "text/plain": [
       "(a MOD_ADD b) = ((a + b) mod 2^(t))"
      ]
     },
     "execution_count": 4,
     "metadata": {},
     "output_type": "execute_result"
    }
   ],
   "source": [
    "modAddDefSpec = modAddDef.specialize().proven(assumptions)\n",
    "modAddDefSpec"
   ]
  },
  {
   "cell_type": "code",
   "execution_count": 5,
   "metadata": {
    "collapsed": false
   },
   "outputs": [
    {
     "data": {
      "text/latex": [
       "$e^{\\frac{2 \\cdot \\pi \\cdot i \\cdot \\left(a \\oplus b\\right)}{2^{t}}} = e^{\\frac{2 \\cdot \\pi \\cdot i \\cdot \\left(a + b\\right)}{2^{t}}}$"
      ],
      "text/plain": [
       "e^((2 * pi * i * (a MOD_ADD b)) / 2^(t)) = e^((2 * pi * i * (a + b)) / 2^(t))"
      ]
     },
     "execution_count": 5,
     "metadata": {},
     "output_type": "execute_result"
    }
   ],
   "source": [
    "exp2pi_i_modadd_spec = modAddDefSpec.lhsSubstitute(exp_2pi_i_x_spec).proven(assumptions)\n",
    "exp2pi_i_modadd_spec"
   ]
  },
  {
   "cell_type": "code",
   "execution_count": 6,
   "metadata": {
    "collapsed": false
   },
   "outputs": [
    {
     "data": {
      "text/latex": [
       "$\\forall_{a, b \\in \\mathbb{Z}} \\left(e^{\\frac{2 \\cdot \\pi \\cdot i \\cdot \\left(a \\oplus b\\right)}{2^{t}}} = e^{\\frac{2 \\cdot \\pi \\cdot i \\cdot \\left(a + b\\right)}{2^{t}}}\\right)$"
      ],
      "text/plain": [
       "forall_{a, b in Integers} (e^((2 * pi * i * (a MOD_ADD b)) / 2^(t)) = e^((2 * pi * i * (a + b)) / 2^(t)))"
      ]
     },
     "execution_count": 6,
     "metadata": {},
     "output_type": "execute_result"
    }
   ],
   "source": [
    "exp2pi_i_modadd = exp2pi_i_modadd_spec.generalize({a, b}, domain=Integers).proven()\n",
    "exp2pi_i_modadd"
   ]
  },
  {
   "cell_type": "code",
   "execution_count": 7,
   "metadata": {
    "collapsed": false
   },
   "outputs": [
    {
     "ename": "TypeError",
     "evalue": "qed() takes exactly 2 arguments (1 given)",
     "output_type": "error",
     "traceback": [
      "\u001b[0;31m---------------------------------------------------------------------------\u001b[0m",
      "\u001b[0;31mTypeError\u001b[0m                                 Traceback (most recent call last)",
      "\u001b[0;32m<ipython-input-7-bfaa07ad535b>\u001b[0m in \u001b[0;36m<module>\u001b[0;34m()\u001b[0m\n\u001b[0;32m----> 1\u001b[0;31m \u001b[0mexp2pi_i_modadd\u001b[0m\u001b[0;34m.\u001b[0m\u001b[0mqed\u001b[0m\u001b[0;34m(\u001b[0m\u001b[0;34m)\u001b[0m \u001b[0;31m# must revise qed to work with notebooks\u001b[0m\u001b[0;34m\u001b[0m\u001b[0m\n\u001b[0m",
      "\u001b[0;31mTypeError\u001b[0m: qed() takes exactly 2 arguments (1 given)"
     ]
    }
   ],
   "source": [
    "exp2pi_i_modadd.qed() # must revise qed to work with notebooks"
   ]
  },
  {
   "cell_type": "code",
   "execution_count": null,
   "metadata": {
    "collapsed": true
   },
   "outputs": [],
   "source": []
  }
 ],
 "metadata": {
  "kernelspec": {
   "display_name": "Python 2",
   "language": "python",
   "name": "python2"
  },
  "language_info": {
   "codemirror_mode": {
    "name": "ipython",
    "version": 2
   },
   "file_extension": ".py",
   "mimetype": "text/x-python",
   "name": "python",
   "nbconvert_exporter": "python",
   "pygments_lexer": "ipython2",
   "version": "2.7.10"
  }
 },
 "nbformat": 4,
 "nbformat_minor": 0
}
