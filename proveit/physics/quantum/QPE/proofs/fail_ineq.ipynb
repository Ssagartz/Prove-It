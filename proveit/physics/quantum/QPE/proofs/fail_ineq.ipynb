{
 "cells": [
  {
   "cell_type": "code",
   "execution_count": 125,
   "metadata": {
    "collapsed": false
   },
   "outputs": [],
   "source": [
    "from proveit.basiclogic import autoSubstitute, autoSubstitution, In, Equation, And, compose\n",
    "from proveit.number.arithmeticOps import *\n",
    "from proveit.common import a, b, k, l, r, x, eps\n",
    "from proveit.number import Exponentiate, Add, Subtract, Multiply, Abs\n",
    "from proveit.number.common import *\n",
    "from proveit.physics.quantum.QPE.axioms import tInNaturalsPos, modAddDef\n",
    "from proveit.physics.quantum.QPE.theorems import posDomainInFullDomain, negDomainInFullDomain, \\\n",
    "    two_pow_tMinusOne_in_posnats, phaseInReals, all_alpha_l_sqrd_in_reals, deltaInReals, scaledDeltaInInterval, \\\n",
    "    scaledDelta_notEq_nonzeroInt, alpha_l_sqrd_ineq, fail_sum\n",
    "from proveit.physics.quantum.QPE.common import alpha_l, alpha_l_sqrd, t_, delta_, two_pow_t_minus_one, \\\n",
    "    fullDomain, negDomain, posDomain, epsDomain\n",
    "from proveit.physics.quantum.QPE.phaseEstOps import Psuccess, Pfail, ModAdd\n",
    "from proveit.number.theorems import splitSumOneElem, addSums\n",
    "from proveit.number.complex.theorems import powOfProd, cancelSubAndAdd, negNeg, cancelAddNeg, convertAddNegToSub, \\\n",
    "    distributeNegOverAdd, temporarySpecialCaseCancellation\n",
    "from proveit.number.natural.axioms import oneAddOne\n",
    "from proveit.number.integer.theorems import sumIneq1, sumIneq2, indexShift, sumEq, evenFuncSum, sumIntegrateIneq1\n",
    "from proveit.number.relation import Relation\n",
    "from proveit.number.real.theorems import sumFactor_temp, ineqThm5, ineqThm6a, ineqThm7a, ineqThm8a, \\\n",
    "    simplifyQuarterTimesTwo, boundedInvSqrdIntegral, inverseSqrdIsEvenFunc, inverseSqrdIsMonDecFunc\n",
    "from proveit.basiclogic.set import Union\n",
    "from IPython.display import display"
   ]
  },
  {
   "cell_type": "code",
   "execution_count": 126,
   "metadata": {
    "collapsed": true
   },
   "outputs": [],
   "source": [
    "def showExprTree(expr, indent = ''):\n",
    "    print indent + str(expr.__class__) + \": \" + str(expr)\n",
    "    for subExpr in expr._subExpressions:\n",
    "        showExprTree(subExpr, indent + '  ')"
   ]
  },
  {
   "cell_type": "code",
   "execution_count": 127,
   "metadata": {
    "collapsed": false
   },
   "outputs": [
    {
     "data": {
      "text/latex": [
       "$\\varepsilon \\in \\{1\\ldots \\left(2^{t - 1} - 2\\right)\\}$"
      ],
      "text/plain": [
       "eps in \\{1...(2^(t - 1) - 2)\\}"
      ]
     },
     "metadata": {},
     "output_type": "display_data"
    },
    {
     "data": {
      "text/latex": [
       "$\\varepsilon \\in \\mathbb{N}^+$"
      ],
      "text/plain": [
       "eps in NaturalsPos"
      ]
     },
     "metadata": {},
     "output_type": "display_data"
    },
    {
     "data": {
      "text/latex": [
       "$\\varepsilon \\geq 1$"
      ],
      "text/plain": [
       "eps >= 1"
      ]
     },
     "metadata": {},
     "output_type": "display_data"
    },
    {
     "data": {
      "text/latex": [
       "$\\varepsilon \\leq \\left(2^{t - 1} - 2\\right)$"
      ],
      "text/plain": [
       "eps <= (2^(t - 1) - 2)"
      ]
     },
     "metadata": {},
     "output_type": "display_data"
    }
   ],
   "source": [
    "epsInDomain = In(eps, epsDomain)\n",
    "display(epsInDomain)\n",
    "display(epsDomain.deduceMemberInNaturalsPos(eps).proven({epsInDomain}))\n",
    "epsLowerBound = epsDomain.deduceMemberLowerBound(eps).deriveReversed().proven({epsInDomain})\n",
    "display(epsLowerBound)\n",
    "epsUpperBound = epsDomain.deduceMemberUpperBound(eps).proven({epsInDomain})\n",
    "display(epsUpperBound)"
   ]
  },
  {
   "cell_type": "code",
   "execution_count": 128,
   "metadata": {
    "collapsed": false
   },
   "outputs": [
    {
     "data": {
      "text/latex": [
       "$P_{\\rm fail}\\left(\\varepsilon\\right) = \\left(\\left(\\sum_{l=\\left(-2^{t - 1}\\right) + 1}^{-\\left(\\varepsilon + 1\\right)} \\left|\\alpha_{l}\\right|^{2}\\right) + \\left(\\sum_{l=\\varepsilon + 1}^{2^{t - 1}} \\left|\\alpha_{l}\\right|^{2}\\right)\\right)$"
      ],
      "text/plain": [
       "Pfail(eps) = ((Summation_{l=(-2^(t - 1)) + 1}^{-(eps + 1)} |alpha_{l}|^(2)) + (Summation_{l=eps + 1}^{2^(t - 1)} |alpha_{l}|^(2)))"
      ]
     },
     "execution_count": 128,
     "metadata": {},
     "output_type": "execute_result"
    }
   ],
   "source": [
    "fail_sum_special = fail_sum.specialize().proven({epsInDomain})\n",
    "fail_sum_special"
   ]
  },
  {
   "cell_type": "code",
   "execution_count": 129,
   "metadata": {
    "collapsed": false
   },
   "outputs": [
    {
     "data": {
      "text/latex": [
       "$\\{\\left(-2^{t - 1}\\right) + 1\\ldots -\\left(\\varepsilon + 1\\right)\\}$"
      ],
      "text/plain": [
       "\\{(-2^(t - 1)) + 1...-(eps + 1)\\}"
      ]
     },
     "metadata": {},
     "output_type": "display_data"
    },
    {
     "data": {
      "text/latex": [
       "$\\{\\varepsilon + 1\\ldots 2^{t - 1}\\}$"
      ],
      "text/plain": [
       "\\{eps + 1...2^(t - 1)\\}"
      ]
     },
     "metadata": {},
     "output_type": "display_data"
    },
    {
     "data": {
      "text/latex": [
       "$\\{\\left(-2^{t - 1}\\right) + 1\\ldots 2^{t - 1}\\}$"
      ],
      "text/plain": [
       "\\{(-2^(t - 1)) + 1...2^(t - 1)\\}"
      ]
     },
     "metadata": {},
     "output_type": "display_data"
    }
   ],
   "source": [
    "display(negDomain)\n",
    "display(posDomain)\n",
    "display(fullDomain)"
   ]
  },
  {
   "cell_type": "code",
   "execution_count": 130,
   "metadata": {
    "collapsed": false
   },
   "outputs": [
    {
     "data": {
      "text/latex": [
       "$l \\in \\{\\left(\\left(-2^{t - 1}\\right) + 1\\right)\\ldots 2^{t - 1}\\}$"
      ],
      "text/plain": [
       "l in \\{((-2^(t - 1)) + 1)...2^(t - 1)\\}"
      ]
     },
     "metadata": {},
     "output_type": "display_data"
    },
    {
     "data": {
      "text/latex": [
       "$l \\neq 0$"
      ],
      "text/plain": [
       "l != 0"
      ]
     },
     "metadata": {},
     "output_type": "display_data"
    }
   ],
   "source": [
    "lInDomain = In(l, fullDomain)\n",
    "lNotZero = NotEquals(l, zero)\n",
    "display(lInDomain)\n",
    "display(lNotZero)\n"
   ]
  },
  {
   "cell_type": "code",
   "execution_count": 131,
   "metadata": {
    "collapsed": false
   },
   "outputs": [
    {
     "data": {
      "text/latex": [
       "$l \\in \\{\\left(\\left(-2^{t - 1}\\right) + 1\\right)\\ldots 2^{t - 1}\\}$"
      ],
      "text/plain": [
       "l in \\{((-2^(t - 1)) + 1)...2^(t - 1)\\}"
      ]
     },
     "metadata": {},
     "output_type": "display_data"
    },
    {
     "data": {
      "text/latex": [
       "$l \\in \\{\\left(\\left(-2^{t - 1}\\right) + 1\\right)\\ldots 2^{t - 1}\\}$"
      ],
      "text/plain": [
       "l in \\{((-2^(t - 1)) + 1)...2^(t - 1)\\}"
      ]
     },
     "metadata": {},
     "output_type": "display_data"
    },
    {
     "data": {
      "text/latex": [
       "$l \\in \\mathbb{Z}$"
      ],
      "text/plain": [
       "l in Integers"
      ]
     },
     "metadata": {},
     "output_type": "display_data"
    },
    {
     "data": {
      "text/latex": [
       "$l \\in \\mathbb{Z}$"
      ],
      "text/plain": [
       "l in Integers"
      ]
     },
     "metadata": {},
     "output_type": "display_data"
    }
   ],
   "source": [
    "display(negDomainInFullDomain.specialize().specialize().proven({epsInDomain, In(l, negDomain)}))\n",
    "display(posDomainInFullDomain.specialize().specialize().proven({epsInDomain, In(l, posDomain)}))\n",
    "display(negDomain.deduceMemberInIntegers(l, {epsInDomain}).proven({epsInDomain, In(l,negDomain)}))\n",
    "display(posDomain.deduceMemberInIntegers(l, {epsInDomain}).proven({epsInDomain, In(l,posDomain)}))"
   ]
  },
  {
   "cell_type": "code",
   "execution_count": 132,
   "metadata": {
    "collapsed": false
   },
   "outputs": [
    {
     "data": {
      "text/latex": [
       "$l < 0$"
      ],
      "text/plain": [
       "l < 0"
      ]
     },
     "metadata": {},
     "output_type": "display_data"
    },
    {
     "data": {
      "text/latex": [
       "$l \\leq 0$"
      ],
      "text/plain": [
       "l <= 0"
      ]
     },
     "metadata": {},
     "output_type": "display_data"
    },
    {
     "data": {
      "text/latex": [
       "$l > 0$"
      ],
      "text/plain": [
       "l > 0"
      ]
     },
     "metadata": {},
     "output_type": "display_data"
    }
   ],
   "source": [
    "lInNegDomainIsNeg = negDomain.deduceMemberIsNegative(l, {epsInDomain})\n",
    "display(lInNegDomainIsNeg.proven({epsInDomain, In(l, negDomain)}))\n",
    "display(lInNegDomainIsNeg.deriveRelaxed({epsInDomain, In(l, negDomain)}).proven({epsInDomain, In(l, negDomain)}))\n",
    "display(posDomain.deduceMemberIsPositive(l, {epsInDomain}).proven({epsInDomain, In(l, posDomain)}))"
   ]
  },
  {
   "cell_type": "code",
   "execution_count": 133,
   "metadata": {
    "collapsed": false
   },
   "outputs": [
    {
     "data": {
      "text/latex": [
       "$\\left(\\varepsilon + 1\\right) > 1$"
      ],
      "text/plain": [
       "(eps + 1) > 1"
      ]
     },
     "metadata": {},
     "output_type": "display_data"
    },
    {
     "data": {
      "text/latex": [
       "$l \\geq \\left(\\varepsilon + 1\\right)$"
      ],
      "text/plain": [
       "l >= (eps + 1)"
      ]
     },
     "metadata": {},
     "output_type": "display_data"
    },
    {
     "data": {
      "text/latex": [
       "$l > 1$"
      ],
      "text/plain": [
       "l > 1"
      ]
     },
     "metadata": {},
     "output_type": "display_data"
    },
    {
     "data": {
      "text/latex": [
       "$\\left(l - 1\\right) > 0$"
      ],
      "text/plain": [
       "(l - 1) > 0"
      ]
     },
     "metadata": {},
     "output_type": "display_data"
    }
   ],
   "source": [
    "epsPlusOneIneq = Add(eps, one).deduceStrictIncrease(1, {epsInDomain}).proven({epsInDomain})\n",
    "display(epsPlusOneIneq)\n",
    "posDomainLowerBound = posDomain.deduceMemberLowerBound(l, {epsInDomain}).deriveReversed()\n",
    "display(posDomainLowerBound)\n",
    "posDomainGreaterThanOne = posDomainLowerBound.applyTransitivity(epsPlusOneIneq).proven({epsInDomain, In(l, posDomain)})\n",
    "display(posDomainGreaterThanOne)\n",
    "display(deducePositive(Subtract(l, one), {epsInDomain, In(l, posDomain)}).proven({epsInDomain, In(l, posDomain)}))\n"
   ]
  },
  {
   "cell_type": "code",
   "execution_count": 134,
   "metadata": {
    "collapsed": false
   },
   "outputs": [
    {
     "data": {
      "text/latex": [
       "$l \\neq 0$"
      ],
      "text/plain": [
       "l != 0"
      ]
     },
     "metadata": {},
     "output_type": "display_data"
    },
    {
     "data": {
      "text/latex": [
       "$l \\neq 0$"
      ],
      "text/plain": [
       "l != 0"
      ]
     },
     "metadata": {},
     "output_type": "display_data"
    }
   ],
   "source": [
    "display(deduceNotZero(l, {epsInDomain, In(l, negDomain)}).proven({epsInDomain, In(l, negDomain)}))\n",
    "display(deduceNotZero(l, {epsInDomain, In(l, posDomain)}).proven({epsInDomain, In(l, posDomain)}))"
   ]
  },
  {
   "cell_type": "code",
   "execution_count": 135,
   "metadata": {
    "collapsed": false
   },
   "outputs": [
    {
     "data": {
      "text/latex": [
       "$\\left|\\alpha_{l}\\right|^{2} \\leq \\frac{1}{4 \\cdot \\left(l - \\left(2^{t} \\cdot \\delta\\right)\\right)^{2}}$"
      ],
      "text/plain": [
       "|alpha_{l}|^(2) <= 1 / (4 * (l - (2^(t) * delta))^(2))"
      ]
     },
     "execution_count": 135,
     "metadata": {},
     "output_type": "execute_result"
    }
   ],
   "source": [
    "Y0 = alpha_l_sqrd_ineq.specialize().proven({lInDomain, lNotZero})\n",
    "Y0"
   ]
  },
  {
   "cell_type": "code",
   "execution_count": 136,
   "metadata": {
    "collapsed": false
   },
   "outputs": [
    {
     "data": {
      "text/latex": [
       "$\\forall_{l \\in \\mathbb{Z}~|~l \\neq 0} \\left(\\left(2^{t} \\cdot \\delta\\right) \\neq l\\right)$"
      ],
      "text/plain": [
       "forall_{l in Integers | l != 0} ((2^(t) * delta) != l)"
      ]
     },
     "execution_count": 136,
     "metadata": {},
     "output_type": "execute_result"
    }
   ],
   "source": [
    "scaledDelta_notEq_nonzeroInt"
   ]
  },
  {
   "cell_type": "code",
   "execution_count": 137,
   "metadata": {
    "collapsed": false
   },
   "outputs": [
    {
     "data": {
      "text/latex": [
       "$\\left(2^{t} \\cdot \\delta\\right) \\neq l$"
      ],
      "text/plain": [
       "(2^(t) * delta) != l"
      ]
     },
     "metadata": {},
     "output_type": "display_data"
    },
    {
     "data": {
      "text/latex": [
       "$\\left(2^{t} \\cdot \\delta\\right) \\neq l$"
      ],
      "text/plain": [
       "(2^(t) * delta) != l"
      ]
     },
     "metadata": {},
     "output_type": "display_data"
    }
   ],
   "source": [
    "display(scaledDelta_notEq_nonzeroInt.specialize().proven({epsInDomain, In(l, posDomain)}))\n",
    "display(scaledDelta_notEq_nonzeroInt.specialize().proven({epsInDomain, In(l, negDomain)}))"
   ]
  },
  {
   "cell_type": "code",
   "execution_count": 138,
   "metadata": {
    "collapsed": false
   },
   "outputs": [
    {
     "data": {
      "text/latex": [
       "$\\forall_{a, b} \\left[\\forall_{m, n \\in \\mathbb{Z}} \\left(\\left[\\forall_{k \\in \\{m\\ldots n\\}} \\left(a\\left(k\\right) \\leq b\\left(k\\right)\\right)\\right] \\Rightarrow \\left(\\left(\\sum_{l=m}^{n} a\\left(l\\right)\\right) \\leq \\left(\\sum_{l=m}^{n} b\\left(l\\right)\\right)\\right)\\right)\\right]$"
      ],
      "text/plain": [
       "forall_{a, b} [forall_{m, n in Integers} ([forall_{k in \\{m...n\\}} (a(k) <= b(k))] => ((Summation_{l=m}^{n} a(l)) <= (Summation_{l=m}^{n} b(l))))]"
      ]
     },
     "execution_count": 138,
     "metadata": {},
     "output_type": "execute_result"
    }
   ],
   "source": [
    "sumIneq1"
   ]
  },
  {
   "cell_type": "code",
   "execution_count": 139,
   "metadata": {
    "collapsed": false
   },
   "outputs": [
    {
     "data": {
      "text/latex": [
       "$\\forall_{m, n \\in \\mathbb{Z}} \\left(\\left[\\forall_{k \\in \\{m\\ldots n\\}} \\left(\\left|\\alpha_{k}\\right|^{2} \\leq \\frac{1}{4 \\cdot \\left(k - \\left(2^{t} \\cdot \\delta\\right)\\right)^{2}}\\right)\\right] \\Rightarrow \\left(\\left(\\sum_{l=m}^{n} \\left|\\alpha_{l}\\right|^{2}\\right) \\leq \\left(\\sum_{l=m}^{n} \\frac{1}{4 \\cdot \\left(l - \\left(2^{t} \\cdot \\delta\\right)\\right)^{2}}\\right)\\right)\\right)$"
      ],
      "text/plain": [
       "forall_{m, n in Integers} ([forall_{k in \\{m...n\\}} (|alpha_{k}|^(2) <= 1 / (4 * (k - (2^(t) * delta))^(2)))] => ((Summation_{l=m}^{n} |alpha_{l}|^(2)) <= (Summation_{l=m}^{n} 1 / (4 * (l - (2^(t) * delta))^(2)))))"
      ]
     },
     "execution_count": 139,
     "metadata": {},
     "output_type": "execute_result"
    }
   ],
   "source": [
    "Y1a = sumIneq1.specialize({Operation(a,l):alpha_l_sqrd, Operation(b,l):Y0.rhs}).proven()\n",
    "Y1a"
   ]
  },
  {
   "cell_type": "code",
   "execution_count": 140,
   "metadata": {
    "collapsed": false
   },
   "outputs": [
    {
     "data": {
      "text/latex": [
       "$\\left(\\left(-2^{t - 1}\\right) + 1\\right) \\in \\mathbb{Z}$"
      ],
      "text/plain": [
       "((-2^(t - 1)) + 1) in Integers"
      ]
     },
     "metadata": {},
     "output_type": "display_data"
    },
    {
     "data": {
      "text/latex": [
       "$\\left(-\\left(\\varepsilon + 1\\right)\\right) \\in \\mathbb{Z}$"
      ],
      "text/plain": [
       "(-(eps + 1)) in Integers"
      ]
     },
     "metadata": {},
     "output_type": "display_data"
    }
   ],
   "source": [
    "display(negDomain.lowerBound.deduceInIntegers().proven())\n",
    "display(negDomain.upperBound.deduceInIntegers({epsInDomain}).proven({epsInDomain}))"
   ]
  },
  {
   "cell_type": "code",
   "execution_count": 141,
   "metadata": {
    "collapsed": false
   },
   "outputs": [
    {
     "data": {
      "text/latex": [
       "$\\left[\\forall_{k \\in \\{\\left(\\left(-2^{t - 1}\\right) + 1\\right)\\ldots \\left(-\\left(\\varepsilon + 1\\right)\\right)\\}} \\left(\\left|\\alpha_{k}\\right|^{2} \\leq \\frac{1}{4 \\cdot \\left(k - \\left(2^{t} \\cdot \\delta\\right)\\right)^{2}}\\right)\\right] \\Rightarrow \\left(\\left(\\sum_{l=\\left(-2^{t - 1}\\right) + 1}^{-\\left(\\varepsilon + 1\\right)} \\left|\\alpha_{l}\\right|^{2}\\right) \\leq \\left(\\sum_{l=\\left(-2^{t - 1}\\right) + 1}^{-\\left(\\varepsilon + 1\\right)} \\frac{1}{4 \\cdot \\left(l - \\left(2^{t} \\cdot \\delta\\right)\\right)^{2}}\\right)\\right)$"
      ],
      "text/plain": [
       "[forall_{k in \\{((-2^(t - 1)) + 1)...(-(eps + 1))\\}} (|alpha_{k}|^(2) <= 1 / (4 * (k - (2^(t) * delta))^(2)))] => ((Summation_{l=(-2^(t - 1)) + 1}^{-(eps + 1)} |alpha_{l}|^(2)) <= (Summation_{l=(-2^(t - 1)) + 1}^{-(eps + 1)} 1 / (4 * (l - (2^(t) * delta))^(2))))"
      ]
     },
     "execution_count": 141,
     "metadata": {},
     "output_type": "execute_result"
    }
   ],
   "source": [
    "Y1 = Y1a.specialize({m:negDomain.lowerBound, n:negDomain.upperBound}).proven({epsInDomain})\n",
    "Y1"
   ]
  },
  {
   "cell_type": "code",
   "execution_count": 142,
   "metadata": {
    "collapsed": false
   },
   "outputs": [
    {
     "data": {
      "text/latex": [
       "$\\left(\\varepsilon + 1\\right) \\in \\mathbb{Z}$"
      ],
      "text/plain": [
       "(eps + 1) in Integers"
      ]
     },
     "metadata": {},
     "output_type": "display_data"
    },
    {
     "data": {
      "text/latex": [
       "$2^{t - 1} \\in \\mathbb{Z}$"
      ],
      "text/plain": [
       "2^(t - 1) in Integers"
      ]
     },
     "metadata": {},
     "output_type": "display_data"
    }
   ],
   "source": [
    "display(posDomain.lowerBound.deduceInIntegers({epsInDomain}).proven({epsInDomain}))\n",
    "display(posDomain.upperBound.deduceInIntegers().proven({epsInDomain}))"
   ]
  },
  {
   "cell_type": "code",
   "execution_count": 143,
   "metadata": {
    "collapsed": false
   },
   "outputs": [
    {
     "data": {
      "text/latex": [
       "$\\left[\\forall_{k \\in \\{\\left(\\varepsilon + 1\\right)\\ldots 2^{t - 1}\\}} \\left(\\left|\\alpha_{k}\\right|^{2} \\leq \\frac{1}{4 \\cdot \\left(k - \\left(2^{t} \\cdot \\delta\\right)\\right)^{2}}\\right)\\right] \\Rightarrow \\left(\\left(\\sum_{l=\\varepsilon + 1}^{2^{t - 1}} \\left|\\alpha_{l}\\right|^{2}\\right) \\leq \\left(\\sum_{l=\\varepsilon + 1}^{2^{t - 1}} \\frac{1}{4 \\cdot \\left(l - \\left(2^{t} \\cdot \\delta\\right)\\right)^{2}}\\right)\\right)$"
      ],
      "text/plain": [
       "[forall_{k in \\{(eps + 1)...2^(t - 1)\\}} (|alpha_{k}|^(2) <= 1 / (4 * (k - (2^(t) * delta))^(2)))] => ((Summation_{l=eps + 1}^{2^(t - 1)} |alpha_{l}|^(2)) <= (Summation_{l=eps + 1}^{2^(t - 1)} 1 / (4 * (l - (2^(t) * delta))^(2))))"
      ]
     },
     "execution_count": 143,
     "metadata": {},
     "output_type": "execute_result"
    }
   ],
   "source": [
    "Y2 = Y1a.specialize({m:posDomain.lowerBound, n:posDomain.upperBound}).proven({epsInDomain})\n",
    "Y2"
   ]
  },
  {
   "cell_type": "code",
   "execution_count": 144,
   "metadata": {
    "collapsed": false
   },
   "outputs": [
    {
     "data": {
      "text/latex": [
       "$\\forall_{k \\in \\{\\left(\\left(-2^{t - 1}\\right) + 1\\right)\\ldots \\left(-\\left(\\varepsilon + 1\\right)\\right)\\}} \\left(\\left|\\alpha_{k}\\right|^{2} \\leq \\frac{1}{4 \\cdot \\left(k - \\left(2^{t} \\cdot \\delta\\right)\\right)^{2}}\\right)$"
      ],
      "text/plain": [
       "forall_{k in \\{((-2^(t - 1)) + 1)...(-(eps + 1))\\}} (|alpha_{k}|^(2) <= 1 / (4 * (k - (2^(t) * delta))^(2)))"
      ]
     },
     "execution_count": 144,
     "metadata": {},
     "output_type": "execute_result"
    }
   ],
   "source": [
    "Y0_negDomain = Y0.generalize(l, domain=negDomain).proven({epsInDomain})\n",
    "Y0_negDomain.relabel({l:k})"
   ]
  },
  {
   "cell_type": "code",
   "execution_count": 145,
   "metadata": {
    "collapsed": false
   },
   "outputs": [
    {
     "data": {
      "text/latex": [
       "$\\forall_{k \\in \\{\\left(\\varepsilon + 1\\right)\\ldots 2^{t - 1}\\}} \\left(\\left|\\alpha_{k}\\right|^{2} \\leq \\frac{1}{4 \\cdot \\left(k - \\left(2^{t} \\cdot \\delta\\right)\\right)^{2}}\\right)$"
      ],
      "text/plain": [
       "forall_{k in \\{(eps + 1)...2^(t - 1)\\}} (|alpha_{k}|^(2) <= 1 / (4 * (k - (2^(t) * delta))^(2)))"
      ]
     },
     "execution_count": 145,
     "metadata": {},
     "output_type": "execute_result"
    }
   ],
   "source": [
    "Y0_posDomain = Y0.generalize(l, domain=posDomain).proven({epsInDomain})\n",
    "Y0_posDomain.relabel({l:k})"
   ]
  },
  {
   "cell_type": "code",
   "execution_count": 146,
   "metadata": {
    "collapsed": false
   },
   "outputs": [
    {
     "data": {
      "text/latex": [
       "$\\left(\\sum_{l=\\left(-2^{t - 1}\\right) + 1}^{-\\left(\\varepsilon + 1\\right)} \\left|\\alpha_{l}\\right|^{2}\\right) \\leq \\left(\\sum_{l=\\left(-2^{t - 1}\\right) + 1}^{-\\left(\\varepsilon + 1\\right)} \\frac{1}{4 \\cdot \\left(l - \\left(2^{t} \\cdot \\delta\\right)\\right)^{2}}\\right)$"
      ],
      "text/plain": [
       "(Summation_{l=(-2^(t - 1)) + 1}^{-(eps + 1)} |alpha_{l}|^(2)) <= (Summation_{l=(-2^(t - 1)) + 1}^{-(eps + 1)} 1 / (4 * (l - (2^(t) * delta))^(2)))"
      ]
     },
     "execution_count": 146,
     "metadata": {},
     "output_type": "execute_result"
    }
   ],
   "source": [
    "Y1.conclusion.proven({epsInDomain})"
   ]
  },
  {
   "cell_type": "code",
   "execution_count": 147,
   "metadata": {
    "collapsed": false
   },
   "outputs": [
    {
     "data": {
      "text/latex": [
       "$\\left(\\sum_{l=\\varepsilon + 1}^{2^{t - 1}} \\left|\\alpha_{l}\\right|^{2}\\right) \\leq \\left(\\sum_{l=\\varepsilon + 1}^{2^{t - 1}} \\frac{1}{4 \\cdot \\left(l - \\left(2^{t} \\cdot \\delta\\right)\\right)^{2}}\\right)$"
      ],
      "text/plain": [
       "(Summation_{l=eps + 1}^{2^(t - 1)} |alpha_{l}|^(2)) <= (Summation_{l=eps + 1}^{2^(t - 1)} 1 / (4 * (l - (2^(t) * delta))^(2)))"
      ]
     },
     "execution_count": 147,
     "metadata": {},
     "output_type": "execute_result"
    }
   ],
   "source": [
    "Y2.conclusion.proven({epsInDomain})"
   ]
  },
  {
   "cell_type": "code",
   "execution_count": 148,
   "metadata": {
    "collapsed": false
   },
   "outputs": [
    {
     "data": {
      "text/latex": [
       "$\\left(\\sum_{l=\\left(-2^{t - 1}\\right) + 1}^{-\\left(\\varepsilon + 1\\right)} \\frac{1}{4 \\cdot \\left(l - \\left(2^{t} \\cdot \\delta\\right)\\right)^{2}}\\right) \\in \\mathbb{R}$"
      ],
      "text/plain": [
       "(Summation_{l=(-2^(t - 1)) + 1}^{-(eps + 1)} 1 / (4 * (l - (2^(t) * delta))^(2))) in Reals"
      ]
     },
     "metadata": {},
     "output_type": "display_data"
    },
    {
     "data": {
      "text/latex": [
       "$\\left(\\sum_{l=\\varepsilon + 1}^{2^{t - 1}} \\frac{1}{4 \\cdot \\left(l - \\left(2^{t} \\cdot \\delta\\right)\\right)^{2}}\\right) \\in \\mathbb{R}$"
      ],
      "text/plain": [
       "(Summation_{l=eps + 1}^{2^(t - 1)} 1 / (4 * (l - (2^(t) * delta))^(2))) in Reals"
      ]
     },
     "metadata": {},
     "output_type": "display_data"
    }
   ],
   "source": [
    "display(Y1.conclusion.rhs.deduceInReals({epsInDomain, lInDomain}).proven({epsInDomain, lInDomain}))\n",
    "display(Y2.conclusion.rhs.deduceInReals({epsInDomain, lInDomain}).proven({epsInDomain, lInDomain}))"
   ]
  },
  {
   "cell_type": "code",
   "execution_count": 149,
   "metadata": {
    "collapsed": false
   },
   "outputs": [
    {
     "data": {
      "text/latex": [
       "$\\left|\\alpha_{l}\\right|^{2} \\in \\mathbb{R}$"
      ],
      "text/plain": [
       "|alpha_{l}|^(2) in Reals"
      ]
     },
     "execution_count": 149,
     "metadata": {},
     "output_type": "execute_result"
    }
   ],
   "source": [
    "all_alpha_l_sqrd_in_reals.specialize()"
   ]
  },
  {
   "cell_type": "code",
   "execution_count": 150,
   "metadata": {
    "collapsed": false
   },
   "outputs": [
    {
     "data": {
      "text/latex": [
       "$\\left(\\sum_{l=\\left(-2^{t - 1}\\right) + 1}^{-\\left(\\varepsilon + 1\\right)} \\left|\\alpha_{l}\\right|^{2}\\right) \\in \\mathbb{R}$"
      ],
      "text/plain": [
       "(Summation_{l=(-2^(t - 1)) + 1}^{-(eps + 1)} |alpha_{l}|^(2)) in Reals"
      ]
     },
     "execution_count": 150,
     "metadata": {},
     "output_type": "execute_result"
    }
   ],
   "source": [
    "fail_sum_special.rhs.operands[0].deduceInReals({epsInDomain, lInDomain}).proven({epsInDomain, lInDomain})"
   ]
  },
  {
   "cell_type": "code",
   "execution_count": 151,
   "metadata": {
    "collapsed": false
   },
   "outputs": [
    {
     "data": {
      "text/latex": [
       "$\\left(\\sum_{l=\\varepsilon + 1}^{2^{t - 1}} \\left|\\alpha_{l}\\right|^{2}\\right) \\in \\mathbb{R}$"
      ],
      "text/plain": [
       "(Summation_{l=eps + 1}^{2^(t - 1)} |alpha_{l}|^(2)) in Reals"
      ]
     },
     "execution_count": 151,
     "metadata": {},
     "output_type": "execute_result"
    }
   ],
   "source": [
    "fail_sum_special.rhs.operands[1].deduceInReals({epsInDomain, lInDomain}).proven({epsInDomain, lInDomain})"
   ]
  },
  {
   "cell_type": "code",
   "execution_count": 152,
   "metadata": {
    "collapsed": false,
    "scrolled": true
   },
   "outputs": [
    {
     "data": {
      "text/latex": [
       "$\\left(\\left(\\left(\\sum_{l=\\left(-2^{t - 1}\\right) + 1}^{-\\left(\\varepsilon + 1\\right)} \\left|\\alpha_{l}\\right|^{2}\\right) \\leq \\left(\\sum_{l=\\left(-2^{t - 1}\\right) + 1}^{-\\left(\\varepsilon + 1\\right)} \\frac{1}{4 \\cdot \\left(l - \\left(2^{t} \\cdot \\delta\\right)\\right)^{2}}\\right)\\right) \\land \\left(\\left(\\sum_{l=\\varepsilon + 1}^{2^{t - 1}} \\left|\\alpha_{l}\\right|^{2}\\right) \\leq \\left(\\sum_{l=\\varepsilon + 1}^{2^{t - 1}} \\frac{1}{4 \\cdot \\left(l - \\left(2^{t} \\cdot \\delta\\right)\\right)^{2}}\\right)\\right)\\right) \\Rightarrow \\left(\\left(\\left(\\sum_{l=\\left(-2^{t - 1}\\right) + 1}^{-\\left(\\varepsilon + 1\\right)} \\left|\\alpha_{l}\\right|^{2}\\right) + \\left(\\sum_{l=\\varepsilon + 1}^{2^{t - 1}} \\left|\\alpha_{l}\\right|^{2}\\right)\\right) \\leq \\left(\\left(\\sum_{l=\\left(-2^{t - 1}\\right) + 1}^{-\\left(\\varepsilon + 1\\right)} \\frac{1}{4 \\cdot \\left(l - \\left(2^{t} \\cdot \\delta\\right)\\right)^{2}}\\right) + \\left(\\sum_{l=\\varepsilon + 1}^{2^{t - 1}} \\frac{1}{4 \\cdot \\left(l - \\left(2^{t} \\cdot \\delta\\right)\\right)^{2}}\\right)\\right)\\right)$"
      ],
      "text/plain": [
       "(((Summation_{l=(-2^(t - 1)) + 1}^{-(eps + 1)} |alpha_{l}|^(2)) <= (Summation_{l=(-2^(t - 1)) + 1}^{-(eps + 1)} 1 / (4 * (l - (2^(t) * delta))^(2)))) and ((Summation_{l=eps + 1}^{2^(t - 1)} |alpha_{l}|^(2)) <= (Summation_{l=eps + 1}^{2^(t - 1)} 1 / (4 * (l - (2^(t) * delta))^(2))))) => (((Summation_{l=(-2^(t - 1)) + 1}^{-(eps + 1)} |alpha_{l}|^(2)) + (Summation_{l=eps + 1}^{2^(t - 1)} |alpha_{l}|^(2))) <= ((Summation_{l=(-2^(t - 1)) + 1}^{-(eps + 1)} 1 / (4 * (l - (2^(t) * delta))^(2))) + (Summation_{l=eps + 1}^{2^(t - 1)} 1 / (4 * (l - (2^(t) * delta))^(2)))))"
      ]
     },
     "execution_count": 152,
     "metadata": {},
     "output_type": "execute_result"
    }
   ],
   "source": [
    "Y3 = sumIneq2.specialize({a:fail_sum_special.rhs.operands[0], b:fail_sum_special.rhs.operands[1], c:Y1.conclusion.rhs, d:Y2.conclusion.rhs}).proven({epsInDomain})\n",
    "Y3"
   ]
  },
  {
   "cell_type": "code",
   "execution_count": 153,
   "metadata": {
    "collapsed": false
   },
   "outputs": [
    {
     "data": {
      "text/latex": [
       "$\\left(\\left(\\sum_{l=\\left(-2^{t - 1}\\right) + 1}^{-\\left(\\varepsilon + 1\\right)} \\left|\\alpha_{l}\\right|^{2}\\right) \\leq \\left(\\sum_{l=\\left(-2^{t - 1}\\right) + 1}^{-\\left(\\varepsilon + 1\\right)} \\frac{1}{4 \\cdot \\left(l - \\left(2^{t} \\cdot \\delta\\right)\\right)^{2}}\\right)\\right) \\land \\left(\\left(\\sum_{l=\\varepsilon + 1}^{2^{t - 1}} \\left|\\alpha_{l}\\right|^{2}\\right) \\leq \\left(\\sum_{l=\\varepsilon + 1}^{2^{t - 1}} \\frac{1}{4 \\cdot \\left(l - \\left(2^{t} \\cdot \\delta\\right)\\right)^{2}}\\right)\\right)$"
      ],
      "text/plain": [
       "((Summation_{l=(-2^(t - 1)) + 1}^{-(eps + 1)} |alpha_{l}|^(2)) <= (Summation_{l=(-2^(t - 1)) + 1}^{-(eps + 1)} 1 / (4 * (l - (2^(t) * delta))^(2)))) and ((Summation_{l=eps + 1}^{2^(t - 1)} |alpha_{l}|^(2)) <= (Summation_{l=eps + 1}^{2^(t - 1)} 1 / (4 * (l - (2^(t) * delta))^(2))))"
      ]
     },
     "metadata": {},
     "output_type": "display_data"
    },
    {
     "data": {
      "text/latex": [
       "$\\left(\\left(\\sum_{l=\\left(-2^{t - 1}\\right) + 1}^{-\\left(\\varepsilon + 1\\right)} \\left|\\alpha_{l}\\right|^{2}\\right) + \\left(\\sum_{l=\\varepsilon + 1}^{2^{t - 1}} \\left|\\alpha_{l}\\right|^{2}\\right)\\right) \\leq \\left(\\left(\\sum_{l=\\left(-2^{t - 1}\\right) + 1}^{-\\left(\\varepsilon + 1\\right)} \\frac{1}{4 \\cdot \\left(l - \\left(2^{t} \\cdot \\delta\\right)\\right)^{2}}\\right) + \\left(\\sum_{l=\\varepsilon + 1}^{2^{t - 1}} \\frac{1}{4 \\cdot \\left(l - \\left(2^{t} \\cdot \\delta\\right)\\right)^{2}}\\right)\\right)$"
      ],
      "text/plain": [
       "((Summation_{l=(-2^(t - 1)) + 1}^{-(eps + 1)} |alpha_{l}|^(2)) + (Summation_{l=eps + 1}^{2^(t - 1)} |alpha_{l}|^(2))) <= ((Summation_{l=(-2^(t - 1)) + 1}^{-(eps + 1)} 1 / (4 * (l - (2^(t) * delta))^(2))) + (Summation_{l=eps + 1}^{2^(t - 1)} 1 / (4 * (l - (2^(t) * delta))^(2))))"
      ]
     },
     "metadata": {},
     "output_type": "display_data"
    }
   ],
   "source": [
    "Q = Y3.hypothesis.concludeViaComposition().proven({epsInDomain})\n",
    "display(Q)\n",
    "display(Y3.conclusion.proven({epsInDomain}))"
   ]
  },
  {
   "cell_type": "code",
   "execution_count": 154,
   "metadata": {
    "collapsed": false
   },
   "outputs": [
    {
     "data": {
      "text/latex": [
       "$P_{\\rm fail}\\left(\\varepsilon\\right) \\leq \\left(\\left(\\sum_{l=\\left(-2^{t - 1}\\right) + 1}^{-\\left(\\varepsilon + 1\\right)} \\frac{1}{4 \\cdot \\left(l - \\left(2^{t} \\cdot \\delta\\right)\\right)^{2}}\\right) + \\left(\\sum_{l=\\varepsilon + 1}^{2^{t - 1}} \\frac{1}{4 \\cdot \\left(l - \\left(2^{t} \\cdot \\delta\\right)\\right)^{2}}\\right)\\right)$"
      ],
      "text/plain": [
       "Pfail(eps) <= ((Summation_{l=(-2^(t - 1)) + 1}^{-(eps + 1)} 1 / (4 * (l - (2^(t) * delta))^(2))) + (Summation_{l=eps + 1}^{2^(t - 1)} 1 / (4 * (l - (2^(t) * delta))^(2))))"
      ]
     },
     "execution_count": 154,
     "metadata": {},
     "output_type": "execute_result"
    }
   ],
   "source": [
    "X1 = Relation(fail_sum_special).update(Y3.conclusion).proven({epsInDomain})\n",
    "X1"
   ]
  },
  {
   "cell_type": "code",
   "execution_count": 155,
   "metadata": {
    "collapsed": false
   },
   "outputs": [
    {
     "data": {
      "text/latex": [
       "$\\frac{1}{4 \\cdot \\left(l - \\left(2^{t} \\cdot \\delta\\right)\\right)^{2}}$"
      ],
      "text/plain": [
       "1 / (4 * (l - (2^(t) * delta))^(2))"
      ]
     },
     "execution_count": 155,
     "metadata": {},
     "output_type": "execute_result"
    }
   ],
   "source": [
    "X1_summand = X1.rhs.operands[0].summand\n",
    "X1_summand"
   ]
  },
  {
   "cell_type": "code",
   "execution_count": 156,
   "metadata": {
    "collapsed": false
   },
   "outputs": [
    {
     "data": {
      "text/latex": [
       "$\\frac{1}{4 \\cdot \\left(l - \\left(2^{t} \\cdot \\delta\\right)\\right)^{2}} = \\left(\\frac{1}{4} \\cdot \\frac{1}{\\left(l - \\left(2^{t} \\cdot \\delta\\right)\\right)^{2}}\\right)$"
      ],
      "text/plain": [
       "1 / (4 * (l - (2^(t) * delta))^(2)) = (1 / 4 * 1 / (l - (2^(t) * delta))^(2))"
      ]
     },
     "execution_count": 156,
     "metadata": {},
     "output_type": "execute_result"
    }
   ],
   "source": [
    "Y4 = X1_summand.factor(Fraction(one,four),'left',assumptions={epsInDomain, In(l, posDomain)}).proven({epsInDomain, In(l, posDomain)})\n",
    "X1_summand.factor(Fraction(one,four),'left',assumptions={epsInDomain, In(l, negDomain)}).proven({epsInDomain, In(l, negDomain)})\n",
    "Y4"
   ]
  },
  {
   "cell_type": "code",
   "execution_count": 157,
   "metadata": {
    "collapsed": false
   },
   "outputs": [
    {
     "data": {
      "text/latex": [
       "$\\left(\\sum_{l=\\left(-2^{t - 1}\\right) + 1}^{-\\left(\\varepsilon + 1\\right)} \\frac{1}{4 \\cdot \\left(l - \\left(2^{t} \\cdot \\delta\\right)\\right)^{2}}\\right) + \\left(\\sum_{l=\\varepsilon + 1}^{2^{t - 1}} \\frac{1}{4 \\cdot \\left(l - \\left(2^{t} \\cdot \\delta\\right)\\right)^{2}}\\right)$"
      ],
      "text/plain": [
       "(Summation_{l=(-2^(t - 1)) + 1}^{-(eps + 1)} 1 / (4 * (l - (2^(t) * delta))^(2))) + (Summation_{l=eps + 1}^{2^(t - 1)} 1 / (4 * (l - (2^(t) * delta))^(2)))"
      ]
     },
     "execution_count": 157,
     "metadata": {},
     "output_type": "execute_result"
    }
   ],
   "source": [
    "X1.rhs"
   ]
  },
  {
   "cell_type": "code",
   "execution_count": 158,
   "metadata": {
    "collapsed": false
   },
   "outputs": [
    {
     "data": {
      "text/latex": [
       "$\\forall_{l \\in \\{\\left(\\left(-2^{t - 1}\\right) + 1\\right)\\ldots \\left(-\\left(\\varepsilon + 1\\right)\\right)\\}} \\left(\\frac{1}{4 \\cdot \\left(l - \\left(2^{t} \\cdot \\delta\\right)\\right)^{2}} = \\left(\\frac{1}{4} \\cdot \\frac{1}{\\left(l - \\left(2^{t} \\cdot \\delta\\right)\\right)^{2}}\\right)\\right)$"
      ],
      "text/plain": [
       "forall_{l in \\{((-2^(t - 1)) + 1)...(-(eps + 1))\\}} (1 / (4 * (l - (2^(t) * delta))^(2)) = (1 / 4 * 1 / (l - (2^(t) * delta))^(2)))"
      ]
     },
     "execution_count": 158,
     "metadata": {},
     "output_type": "execute_result"
    }
   ],
   "source": [
    "Y4_sum1equivForAllInstances = Y4.generalize(l,negDomain)\n",
    "Y4_sum1equivForAllInstances.proven({epsInDomain})"
   ]
  },
  {
   "cell_type": "code",
   "execution_count": 159,
   "metadata": {
    "collapsed": false
   },
   "outputs": [
    {
     "data": {
      "text/latex": [
       "$\\forall_{l \\in \\{\\left(\\varepsilon + 1\\right)\\ldots 2^{t - 1}\\}} \\left(\\frac{1}{4 \\cdot \\left(l - \\left(2^{t} \\cdot \\delta\\right)\\right)^{2}} = \\left(\\frac{1}{4} \\cdot \\frac{1}{\\left(l - \\left(2^{t} \\cdot \\delta\\right)\\right)^{2}}\\right)\\right)$"
      ],
      "text/plain": [
       "forall_{l in \\{(eps + 1)...2^(t - 1)\\}} (1 / (4 * (l - (2^(t) * delta))^(2)) = (1 / 4 * 1 / (l - (2^(t) * delta))^(2)))"
      ]
     },
     "execution_count": 159,
     "metadata": {},
     "output_type": "execute_result"
    }
   ],
   "source": [
    "Y4_sum2equivForAllInstances = Y4.generalize(l,posDomain)\n",
    "Y4_sum2equivForAllInstances.proven({epsInDomain})"
   ]
  },
  {
   "cell_type": "code",
   "execution_count": 160,
   "metadata": {
    "collapsed": false
   },
   "outputs": [
    {
     "data": {
      "text/latex": [
       "$\\left(\\sum_{l=\\left(-2^{t - 1}\\right) + 1}^{-\\left(\\varepsilon + 1\\right)} \\frac{1}{4 \\cdot \\left(l - \\left(2^{t} \\cdot \\delta\\right)\\right)^{2}}\\right) = \\left(\\sum_{l=\\left(-2^{t - 1}\\right) + 1}^{-\\left(\\varepsilon + 1\\right)} \\left(\\frac{1}{4} \\cdot \\frac{1}{\\left(l - \\left(2^{t} \\cdot \\delta\\right)\\right)^{2}}\\right)\\right)$"
      ],
      "text/plain": [
       "(Summation_{l=(-2^(t - 1)) + 1}^{-(eps + 1)} 1 / (4 * (l - (2^(t) * delta))^(2))) = (Summation_{l=(-2^(t - 1)) + 1}^{-(eps + 1)} (1 / 4 * 1 / (l - (2^(t) * delta))^(2)))"
      ]
     },
     "execution_count": 160,
     "metadata": {},
     "output_type": "execute_result"
    }
   ],
   "source": [
    "Y5_sum1 = X1.rhs.operands[0].instanceSubstitution(Y4_sum1equivForAllInstances)\n",
    "Y5_sum1.proven({epsInDomain})"
   ]
  },
  {
   "cell_type": "code",
   "execution_count": 161,
   "metadata": {
    "collapsed": false
   },
   "outputs": [
    {
     "data": {
      "text/latex": [
       "$\\left(\\sum_{l=\\varepsilon + 1}^{2^{t - 1}} \\frac{1}{4 \\cdot \\left(l - \\left(2^{t} \\cdot \\delta\\right)\\right)^{2}}\\right) = \\left(\\sum_{l=\\varepsilon + 1}^{2^{t - 1}} \\left(\\frac{1}{4} \\cdot \\frac{1}{\\left(l - \\left(2^{t} \\cdot \\delta\\right)\\right)^{2}}\\right)\\right)$"
      ],
      "text/plain": [
       "(Summation_{l=eps + 1}^{2^(t - 1)} 1 / (4 * (l - (2^(t) * delta))^(2))) = (Summation_{l=eps + 1}^{2^(t - 1)} (1 / 4 * 1 / (l - (2^(t) * delta))^(2)))"
      ]
     },
     "execution_count": 161,
     "metadata": {},
     "output_type": "execute_result"
    }
   ],
   "source": [
    "Y5_sum2 = X1.rhs.operands[1].instanceSubstitution(Y4_sum2equivForAllInstances)\n",
    "Y5_sum2.proven({epsInDomain})"
   ]
  },
  {
   "cell_type": "code",
   "execution_count": 162,
   "metadata": {
    "collapsed": false
   },
   "outputs": [
    {
     "data": {
      "text/latex": [
       "$P_{\\rm fail}\\left(\\varepsilon\\right) \\leq \\left(\\left(\\sum_{l=\\left(-2^{t - 1}\\right) + 1}^{-\\left(\\varepsilon + 1\\right)} \\left(\\frac{1}{4} \\cdot \\frac{1}{\\left(l - \\left(2^{t} \\cdot \\delta\\right)\\right)^{2}}\\right)\\right) + \\left(\\sum_{l=\\varepsilon + 1}^{2^{t - 1}} \\left(\\frac{1}{4} \\cdot \\frac{1}{\\left(l - \\left(2^{t} \\cdot \\delta\\right)\\right)^{2}}\\right)\\right)\\right)$"
      ],
      "text/plain": [
       "Pfail(eps) <= ((Summation_{l=(-2^(t - 1)) + 1}^{-(eps + 1)} (1 / 4 * 1 / (l - (2^(t) * delta))^(2))) + (Summation_{l=eps + 1}^{2^(t - 1)} (1 / 4 * 1 / (l - (2^(t) * delta))^(2))))"
      ]
     },
     "execution_count": 162,
     "metadata": {},
     "output_type": "execute_result"
    }
   ],
   "source": [
    "X2 = Y5_sum1.rhsSubstitute(X1)\n",
    "X3 = Y5_sum2.rhsSubstitute(X2)\n",
    "X3.proven({epsInDomain})"
   ]
  },
  {
   "cell_type": "code",
   "execution_count": 163,
   "metadata": {
    "collapsed": false
   },
   "outputs": [
    {
     "data": {
      "text/latex": [
       "$\\forall_{x \\in \\mathbb{R}~|~0 \\leq x, x \\leq 1} \\left[\\forall_{a \\in \\mathbb{R}~|~a \\geq 0} \\left[\\forall_{l \\in \\mathbb{Z}~|~l \\leq 0} \\left(\\left(a \\cdot \\frac{1}{\\left(l - x\\right)^{2}}\\right) \\leq \\left(a \\cdot \\frac{1}{l^{2}}\\right)\\right)\\right]\\right]$"
      ],
      "text/plain": [
       "forall_{x in Reals | 0 <= x, x <= 1} [forall_{a in Reals | a >= 0} [forall_{l in Integers | l <= 0} ((a * 1 / (l - x)^(2)) <= (a * 1 / l^(2)))]]"
      ]
     },
     "execution_count": 163,
     "metadata": {},
     "output_type": "execute_result"
    }
   ],
   "source": [
    "ineqThm7a"
   ]
  },
  {
   "cell_type": "code",
   "execution_count": 164,
   "metadata": {
    "collapsed": false
   },
   "outputs": [
    {
     "data": {
      "text/latex": [
       "$\\frac{1}{4} \\in \\mathbb{R}$"
      ],
      "text/plain": [
       "1 / 4 in Reals"
      ]
     },
     "metadata": {},
     "output_type": "display_data"
    },
    {
     "data": {
      "text/latex": [
       "$\\frac{1}{4} \\geq 0$"
      ],
      "text/plain": [
       "1 / 4 >= 0"
      ]
     },
     "metadata": {},
     "output_type": "display_data"
    }
   ],
   "source": [
    "display(Fraction(one,four).deduceInReals().proven())\n",
    "display(deducePositive(Fraction(one, four)).deriveRelaxed().proven())"
   ]
  },
  {
   "cell_type": "code",
   "execution_count": 165,
   "metadata": {
    "collapsed": false
   },
   "outputs": [
    {
     "data": {
      "text/latex": [
       "$0 \\leq \\left(2^{t} \\cdot \\delta\\right)$"
      ],
      "text/plain": [
       "0 <= (2^(t) * delta)"
      ]
     },
     "metadata": {},
     "output_type": "display_data"
    },
    {
     "data": {
      "text/latex": [
       "$\\left(2^{t} \\cdot \\delta\\right) \\leq 1$"
      ],
      "text/plain": [
       "(2^(t) * delta) <= 1"
      ]
     },
     "metadata": {},
     "output_type": "display_data"
    }
   ],
   "source": [
    "display(scaledDeltaInInterval.domain.deduceMemberLowerBound(scaledDeltaInInterval.element).proven())\n",
    "display(scaledDeltaInInterval.domain.deduceMemberUpperBound(scaledDeltaInInterval.element).deriveRelaxed().proven())"
   ]
  },
  {
   "cell_type": "code",
   "execution_count": 166,
   "metadata": {
    "collapsed": false
   },
   "outputs": [
    {
     "data": {
      "text/latex": [
       "$\\forall_{x \\in \\mathbb{R}~|~0 \\leq x, x \\leq 1} \\left[\\forall_{a \\in \\mathbb{R}~|~a \\geq 0} \\left[\\forall_{l \\in \\mathbb{Z}~|~l \\leq 0} \\left(\\left(a \\cdot \\frac{1}{\\left(l - x\\right)^{2}}\\right) \\leq \\left(a \\cdot \\frac{1}{l^{2}}\\right)\\right)\\right]\\right]$"
      ],
      "text/plain": [
       "forall_{x in Reals | 0 <= x, x <= 1} [forall_{a in Reals | a >= 0} [forall_{l in Integers | l <= 0} ((a * 1 / (l - x)^(2)) <= (a * 1 / l^(2)))]]"
      ]
     },
     "execution_count": 166,
     "metadata": {},
     "output_type": "execute_result"
    }
   ],
   "source": [
    "ineqThm7a"
   ]
  },
  {
   "cell_type": "code",
   "execution_count": 167,
   "metadata": {
    "collapsed": false
   },
   "outputs": [
    {
     "data": {
      "text/latex": [
       "$\\forall_{k \\in \\{\\left(\\left(-2^{t - 1}\\right) + 1\\right)\\ldots \\left(-\\left(\\varepsilon + 1\\right)\\right)\\}} \\left(\\left(\\frac{1}{4} \\cdot \\frac{1}{\\left(k - \\left(2^{t} \\cdot \\delta\\right)\\right)^{2}}\\right) \\leq \\left(\\frac{1}{4} \\cdot \\frac{1}{k^{2}}\\right)\\right)$"
      ],
      "text/plain": [
       "forall_{k in \\{((-2^(t - 1)) + 1)...(-(eps + 1))\\}} ((1 / 4 * 1 / (k - (2^(t) * delta))^(2)) <= (1 / 4 * 1 / k^(2)))"
      ]
     },
     "execution_count": 167,
     "metadata": {},
     "output_type": "execute_result"
    }
   ],
   "source": [
    "Y6 = ineqThm7a.specialize({x:Multiply(Exponentiate(two,t_), delta_)}).specialize({a:Fraction(one,four)})\n",
    "Y6.specialize().generalize(l, domain=negDomain).relabel({l:k}).proven({epsInDomain})"
   ]
  },
  {
   "cell_type": "code",
   "execution_count": 168,
   "metadata": {
    "collapsed": false
   },
   "outputs": [
    {
     "data": {
      "text/latex": [
       "$\\forall_{x \\in \\mathbb{R}~|~0 \\leq x, x \\leq 1} \\left[\\forall_{a \\in \\mathbb{R}~|~a \\geq 0} \\left[\\forall_{l \\in \\mathbb{Z}~|~l > 0} \\left(\\left(a \\cdot \\frac{1}{\\left(l - x\\right)^{2}}\\right) \\leq \\left(a \\cdot \\frac{1}{\\left(l - 1\\right)^{2}}\\right)\\right)\\right]\\right]$"
      ],
      "text/plain": [
       "forall_{x in Reals | 0 <= x, x <= 1} [forall_{a in Reals | a >= 0} [forall_{l in Integers | l > 0} ((a * 1 / (l - x)^(2)) <= (a * 1 / (l - 1)^(2)))]]"
      ]
     },
     "execution_count": 168,
     "metadata": {},
     "output_type": "execute_result"
    }
   ],
   "source": [
    "ineqThm8a"
   ]
  },
  {
   "cell_type": "code",
   "execution_count": 169,
   "metadata": {
    "collapsed": false
   },
   "outputs": [
    {
     "data": {
      "text/latex": [
       "$\\forall_{k \\in \\{\\left(\\varepsilon + 1\\right)\\ldots 2^{t - 1}\\}} \\left(\\left(\\frac{1}{4} \\cdot \\frac{1}{\\left(k - \\left(2^{t} \\cdot \\delta\\right)\\right)^{2}}\\right) \\leq \\left(\\frac{1}{4} \\cdot \\frac{1}{\\left(k - 1\\right)^{2}}\\right)\\right)$"
      ],
      "text/plain": [
       "forall_{k in \\{(eps + 1)...2^(t - 1)\\}} ((1 / 4 * 1 / (k - (2^(t) * delta))^(2)) <= (1 / 4 * 1 / (k - 1)^(2)))"
      ]
     },
     "execution_count": 169,
     "metadata": {},
     "output_type": "execute_result"
    }
   ],
   "source": [
    "Y7 = ineqThm8a.specialize({x:Multiply(Exponentiate(two,t_), delta_)}).specialize({a:Fraction(one,four)}).proven()\n",
    "Y7.specialize().generalize(l, domain=posDomain).relabel({l:k}).proven({epsInDomain})"
   ]
  },
  {
   "cell_type": "code",
   "execution_count": 170,
   "metadata": {
    "collapsed": false
   },
   "outputs": [
    {
     "data": {
      "text/latex": [
       "$\\forall_{a, b} \\left[\\forall_{m, n \\in \\mathbb{Z}} \\left(\\left[\\forall_{k \\in \\{m\\ldots n\\}} \\left(a\\left(k\\right) \\leq b\\left(k\\right)\\right)\\right] \\Rightarrow \\left(\\left(\\sum_{l=m}^{n} a\\left(l\\right)\\right) \\leq \\left(\\sum_{l=m}^{n} b\\left(l\\right)\\right)\\right)\\right)\\right]$"
      ],
      "text/plain": [
       "forall_{a, b} [forall_{m, n in Integers} ([forall_{k in \\{m...n\\}} (a(k) <= b(k))] => ((Summation_{l=m}^{n} a(l)) <= (Summation_{l=m}^{n} b(l))))]"
      ]
     },
     "execution_count": 170,
     "metadata": {},
     "output_type": "execute_result"
    }
   ],
   "source": [
    "sumIneq1"
   ]
  },
  {
   "cell_type": "code",
   "execution_count": 171,
   "metadata": {
    "collapsed": false
   },
   "outputs": [
    {
     "data": {
      "text/latex": [
       "$\\left[\\forall_{k \\in \\{\\left(\\left(-2^{t - 1}\\right) + 1\\right)\\ldots \\left(-\\left(\\varepsilon + 1\\right)\\right)\\}} \\left(\\left(\\frac{1}{4} \\cdot \\frac{1}{\\left(k - \\left(2^{t} \\cdot \\delta\\right)\\right)^{2}}\\right) \\leq \\left(\\frac{1}{4} \\cdot \\frac{1}{k^{2}}\\right)\\right)\\right] \\Rightarrow \\left(\\left(\\sum_{l=\\left(-2^{t - 1}\\right) + 1}^{-\\left(\\varepsilon + 1\\right)} \\left(\\frac{1}{4} \\cdot \\frac{1}{\\left(l - \\left(2^{t} \\cdot \\delta\\right)\\right)^{2}}\\right)\\right) \\leq \\left(\\sum_{l=\\left(-2^{t - 1}\\right) + 1}^{-\\left(\\varepsilon + 1\\right)} \\left(\\frac{1}{4} \\cdot \\frac{1}{l^{2}}\\right)\\right)\\right)$"
      ],
      "text/plain": [
       "[forall_{k in \\{((-2^(t - 1)) + 1)...(-(eps + 1))\\}} ((1 / 4 * 1 / (k - (2^(t) * delta))^(2)) <= (1 / 4 * 1 / k^(2)))] => ((Summation_{l=(-2^(t - 1)) + 1}^{-(eps + 1)} (1 / 4 * 1 / (l - (2^(t) * delta))^(2))) <= (Summation_{l=(-2^(t - 1)) + 1}^{-(eps + 1)} (1 / 4 * 1 / l^(2))))"
      ]
     },
     "execution_count": 171,
     "metadata": {},
     "output_type": "execute_result"
    }
   ],
   "source": [
    "Y8 = sumIneq1.specialize({Operation(a,l):Y6.specialize().lhs, Operation(b,l):Y6.specialize().rhs}).specialize({m:negDomain.lowerBound, n:negDomain.upperBound})\n",
    "Y8.proven({epsInDomain})"
   ]
  },
  {
   "cell_type": "code",
   "execution_count": 172,
   "metadata": {
    "collapsed": false
   },
   "outputs": [
    {
     "data": {
      "text/latex": [
       "$\\left[\\forall_{k \\in \\{\\left(\\varepsilon + 1\\right)\\ldots 2^{t - 1}\\}} \\left(\\left(\\frac{1}{4} \\cdot \\frac{1}{\\left(k - \\left(2^{t} \\cdot \\delta\\right)\\right)^{2}}\\right) \\leq \\left(\\frac{1}{4} \\cdot \\frac{1}{\\left(k - 1\\right)^{2}}\\right)\\right)\\right] \\Rightarrow \\left(\\left(\\sum_{l=\\varepsilon + 1}^{2^{t - 1}} \\left(\\frac{1}{4} \\cdot \\frac{1}{\\left(l - \\left(2^{t} \\cdot \\delta\\right)\\right)^{2}}\\right)\\right) \\leq \\left(\\sum_{l=\\varepsilon + 1}^{2^{t - 1}} \\left(\\frac{1}{4} \\cdot \\frac{1}{\\left(l - 1\\right)^{2}}\\right)\\right)\\right)$"
      ],
      "text/plain": [
       "[forall_{k in \\{(eps + 1)...2^(t - 1)\\}} ((1 / 4 * 1 / (k - (2^(t) * delta))^(2)) <= (1 / 4 * 1 / (k - 1)^(2)))] => ((Summation_{l=eps + 1}^{2^(t - 1)} (1 / 4 * 1 / (l - (2^(t) * delta))^(2))) <= (Summation_{l=eps + 1}^{2^(t - 1)} (1 / 4 * 1 / (l - 1)^(2))))"
      ]
     },
     "execution_count": 172,
     "metadata": {},
     "output_type": "execute_result"
    }
   ],
   "source": [
    "Y9 = sumIneq1.specialize({Operation(a,l):Y7.specialize().lhs, Operation(b,l):Y7.specialize().rhs}).specialize({m:posDomain.lowerBound, n:posDomain.upperBound})\n",
    "Y9.proven({epsInDomain})"
   ]
  },
  {
   "cell_type": "code",
   "execution_count": 173,
   "metadata": {
    "collapsed": false
   },
   "outputs": [
    {
     "data": {
      "text/latex": [
       "$\\left(\\left(\\sum_{l=\\left(-2^{t - 1}\\right) + 1}^{-\\left(\\varepsilon + 1\\right)} \\left(\\frac{1}{4} \\cdot \\frac{1}{\\left(l - \\left(2^{t} \\cdot \\delta\\right)\\right)^{2}}\\right)\\right) \\leq \\left(\\sum_{l=\\left(-2^{t - 1}\\right) + 1}^{-\\left(\\varepsilon + 1\\right)} \\left(\\frac{1}{4} \\cdot \\frac{1}{l^{2}}\\right)\\right)\\right) \\land \\left(\\left(\\sum_{l=\\varepsilon + 1}^{2^{t - 1}} \\left(\\frac{1}{4} \\cdot \\frac{1}{\\left(l - \\left(2^{t} \\cdot \\delta\\right)\\right)^{2}}\\right)\\right) \\leq \\left(\\sum_{l=\\varepsilon + 1}^{2^{t - 1}} \\left(\\frac{1}{4} \\cdot \\frac{1}{\\left(l - 1\\right)^{2}}\\right)\\right)\\right)$"
      ],
      "text/plain": [
       "((Summation_{l=(-2^(t - 1)) + 1}^{-(eps + 1)} (1 / 4 * 1 / (l - (2^(t) * delta))^(2))) <= (Summation_{l=(-2^(t - 1)) + 1}^{-(eps + 1)} (1 / 4 * 1 / l^(2)))) and ((Summation_{l=eps + 1}^{2^(t - 1)} (1 / 4 * 1 / (l - (2^(t) * delta))^(2))) <= (Summation_{l=eps + 1}^{2^(t - 1)} (1 / 4 * 1 / (l - 1)^(2))))"
      ]
     },
     "execution_count": 173,
     "metadata": {},
     "output_type": "execute_result"
    }
   ],
   "source": [
    "compose(Y8.conclusion, Y9.conclusion).proven({epsInDomain})"
   ]
  },
  {
   "cell_type": "code",
   "execution_count": 174,
   "metadata": {
    "collapsed": false
   },
   "outputs": [
    {
     "data": {
      "text/latex": [
       "$\\forall_{a, b, c, d \\in \\mathbb{R}} \\left(\\left(\\left(a \\leq c\\right) \\land \\left(b \\leq d\\right)\\right) \\Rightarrow \\left(\\left(a + b\\right) \\leq \\left(c + d\\right)\\right)\\right)$"
      ],
      "text/plain": [
       "forall_{a, b, c, d in Reals} (((a <= c) and (b <= d)) => ((a + b) <= (c + d)))"
      ]
     },
     "execution_count": 174,
     "metadata": {},
     "output_type": "execute_result"
    }
   ],
   "source": [
    "sumIneq2"
   ]
  },
  {
   "cell_type": "code",
   "execution_count": 175,
   "metadata": {
    "collapsed": false
   },
   "outputs": [
    {
     "data": {
      "text/latex": [
       "$\\sum_{l=\\varepsilon + 1}^{2^{t - 1}} \\frac{1}{4} \\cdot \\frac{1}{\\left(l - 1\\right)^{2}}$"
      ],
      "text/plain": [
       "Summation_{l=eps + 1}^{2^(t - 1)} 1 / 4 * 1 / (l - 1)^(2)"
      ]
     },
     "execution_count": 175,
     "metadata": {},
     "output_type": "execute_result"
    }
   ],
   "source": [
    "Y9.conclusion.rhs"
   ]
  },
  {
   "cell_type": "code",
   "execution_count": 176,
   "metadata": {
    "collapsed": false
   },
   "outputs": [
    {
     "data": {
      "text/latex": [
       "$\\left(l - 1\\right) > 0$"
      ],
      "text/plain": [
       "(l - 1) > 0"
      ]
     },
     "execution_count": 176,
     "metadata": {},
     "output_type": "execute_result"
    }
   ],
   "source": [
    "deducePositive(Subtract(l, one), assumptions={epsInDomain, In(l, posDomain)})"
   ]
  },
  {
   "cell_type": "code",
   "execution_count": 177,
   "metadata": {
    "collapsed": false
   },
   "outputs": [
    {
     "data": {
      "text/latex": [
       "$\\left(\\sum_{l=\\left(-2^{t - 1}\\right) + 1}^{-\\left(\\varepsilon + 1\\right)} \\left(\\frac{1}{4} \\cdot \\frac{1}{\\left(l - \\left(2^{t} \\cdot \\delta\\right)\\right)^{2}}\\right)\\right) \\in \\mathbb{R}$"
      ],
      "text/plain": [
       "(Summation_{l=(-2^(t - 1)) + 1}^{-(eps + 1)} (1 / 4 * 1 / (l - (2^(t) * delta))^(2))) in Reals"
      ]
     },
     "metadata": {},
     "output_type": "display_data"
    },
    {
     "data": {
      "text/latex": [
       "$\\left(\\sum_{l=\\varepsilon + 1}^{2^{t - 1}} \\left(\\frac{1}{4} \\cdot \\frac{1}{\\left(l - \\left(2^{t} \\cdot \\delta\\right)\\right)^{2}}\\right)\\right) \\in \\mathbb{R}$"
      ],
      "text/plain": [
       "(Summation_{l=eps + 1}^{2^(t - 1)} (1 / 4 * 1 / (l - (2^(t) * delta))^(2))) in Reals"
      ]
     },
     "metadata": {},
     "output_type": "display_data"
    },
    {
     "data": {
      "text/latex": [
       "$\\left(\\sum_{l=\\left(-2^{t - 1}\\right) + 1}^{-\\left(\\varepsilon + 1\\right)} \\left(\\frac{1}{4} \\cdot \\frac{1}{l^{2}}\\right)\\right) \\in \\mathbb{R}$"
      ],
      "text/plain": [
       "(Summation_{l=(-2^(t - 1)) + 1}^{-(eps + 1)} (1 / 4 * 1 / l^(2))) in Reals"
      ]
     },
     "metadata": {},
     "output_type": "display_data"
    },
    {
     "data": {
      "text/latex": [
       "$\\left(\\sum_{l=\\varepsilon + 1}^{2^{t - 1}} \\left(\\frac{1}{4} \\cdot \\frac{1}{\\left(l - 1\\right)^{2}}\\right)\\right) \\in \\mathbb{R}$"
      ],
      "text/plain": [
       "(Summation_{l=eps + 1}^{2^(t - 1)} (1 / 4 * 1 / (l - 1)^(2))) in Reals"
      ]
     },
     "metadata": {},
     "output_type": "display_data"
    }
   ],
   "source": [
    "display(X3.rhs.operands[0].deduceInReals({epsInDomain}))\n",
    "display(X3.rhs.operands[1].deduceInReals({epsInDomain}))\n",
    "display(Y8.conclusion.rhs.deduceInReals({epsInDomain}))\n",
    "display(Y9.conclusion.rhs.deduceInReals({epsInDomain}))"
   ]
  },
  {
   "cell_type": "code",
   "execution_count": 178,
   "metadata": {
    "collapsed": false
   },
   "outputs": [
    {
     "data": {
      "text/latex": [
       "$\\left(\\left(\\left(\\sum_{l=\\left(-2^{t - 1}\\right) + 1}^{-\\left(\\varepsilon + 1\\right)} \\left(\\frac{1}{4} \\cdot \\frac{1}{\\left(l - \\left(2^{t} \\cdot \\delta\\right)\\right)^{2}}\\right)\\right) \\leq \\left(\\sum_{l=\\left(-2^{t - 1}\\right) + 1}^{-\\left(\\varepsilon + 1\\right)} \\left(\\frac{1}{4} \\cdot \\frac{1}{l^{2}}\\right)\\right)\\right) \\land \\left(\\left(\\sum_{l=\\varepsilon + 1}^{2^{t - 1}} \\left(\\frac{1}{4} \\cdot \\frac{1}{\\left(l - \\left(2^{t} \\cdot \\delta\\right)\\right)^{2}}\\right)\\right) \\leq \\left(\\sum_{l=\\varepsilon + 1}^{2^{t - 1}} \\left(\\frac{1}{4} \\cdot \\frac{1}{\\left(l - 1\\right)^{2}}\\right)\\right)\\right)\\right) \\Rightarrow \\left(\\left(\\left(\\sum_{l=\\left(-2^{t - 1}\\right) + 1}^{-\\left(\\varepsilon + 1\\right)} \\left(\\frac{1}{4} \\cdot \\frac{1}{\\left(l - \\left(2^{t} \\cdot \\delta\\right)\\right)^{2}}\\right)\\right) + \\left(\\sum_{l=\\varepsilon + 1}^{2^{t - 1}} \\left(\\frac{1}{4} \\cdot \\frac{1}{\\left(l - \\left(2^{t} \\cdot \\delta\\right)\\right)^{2}}\\right)\\right)\\right) \\leq \\left(\\left(\\sum_{l=\\left(-2^{t - 1}\\right) + 1}^{-\\left(\\varepsilon + 1\\right)} \\left(\\frac{1}{4} \\cdot \\frac{1}{l^{2}}\\right)\\right) + \\left(\\sum_{l=\\varepsilon + 1}^{2^{t - 1}} \\left(\\frac{1}{4} \\cdot \\frac{1}{\\left(l - 1\\right)^{2}}\\right)\\right)\\right)\\right)$"
      ],
      "text/plain": [
       "(((Summation_{l=(-2^(t - 1)) + 1}^{-(eps + 1)} (1 / 4 * 1 / (l - (2^(t) * delta))^(2))) <= (Summation_{l=(-2^(t - 1)) + 1}^{-(eps + 1)} (1 / 4 * 1 / l^(2)))) and ((Summation_{l=eps + 1}^{2^(t - 1)} (1 / 4 * 1 / (l - (2^(t) * delta))^(2))) <= (Summation_{l=eps + 1}^{2^(t - 1)} (1 / 4 * 1 / (l - 1)^(2))))) => (((Summation_{l=(-2^(t - 1)) + 1}^{-(eps + 1)} (1 / 4 * 1 / (l - (2^(t) * delta))^(2))) + (Summation_{l=eps + 1}^{2^(t - 1)} (1 / 4 * 1 / (l - (2^(t) * delta))^(2)))) <= ((Summation_{l=(-2^(t - 1)) + 1}^{-(eps + 1)} (1 / 4 * 1 / l^(2))) + (Summation_{l=eps + 1}^{2^(t - 1)} (1 / 4 * 1 / (l - 1)^(2)))))"
      ]
     },
     "execution_count": 178,
     "metadata": {},
     "output_type": "execute_result"
    }
   ],
   "source": [
    "Y10 = sumIneq2.specialize({a:X3.rhs.operands[0], b:X3.rhs.operands[1], c:Y8.conclusion.rhs, d:Y9.conclusion.rhs})\n",
    "Y10.proven({In(Y9.conclusion.rhs,Reals), epsInDomain, lInDomain})"
   ]
  },
  {
   "cell_type": "code",
   "execution_count": 179,
   "metadata": {
    "collapsed": false
   },
   "outputs": [
    {
     "data": {
      "text/latex": [
       "$\\left(\\left(\\sum_{l=\\left(-2^{t - 1}\\right) + 1}^{-\\left(\\varepsilon + 1\\right)} \\left(\\frac{1}{4} \\cdot \\frac{1}{\\left(l - \\left(2^{t} \\cdot \\delta\\right)\\right)^{2}}\\right)\\right) + \\left(\\sum_{l=\\varepsilon + 1}^{2^{t - 1}} \\left(\\frac{1}{4} \\cdot \\frac{1}{\\left(l - \\left(2^{t} \\cdot \\delta\\right)\\right)^{2}}\\right)\\right)\\right) \\leq \\left(\\left(\\sum_{l=\\left(-2^{t - 1}\\right) + 1}^{-\\left(\\varepsilon + 1\\right)} \\left(\\frac{1}{4} \\cdot \\frac{1}{l^{2}}\\right)\\right) + \\left(\\sum_{l=\\varepsilon + 1}^{2^{t - 1}} \\left(\\frac{1}{4} \\cdot \\frac{1}{\\left(l - 1\\right)^{2}}\\right)\\right)\\right)$"
      ],
      "text/plain": [
       "((Summation_{l=(-2^(t - 1)) + 1}^{-(eps + 1)} (1 / 4 * 1 / (l - (2^(t) * delta))^(2))) + (Summation_{l=eps + 1}^{2^(t - 1)} (1 / 4 * 1 / (l - (2^(t) * delta))^(2)))) <= ((Summation_{l=(-2^(t - 1)) + 1}^{-(eps + 1)} (1 / 4 * 1 / l^(2))) + (Summation_{l=eps + 1}^{2^(t - 1)} (1 / 4 * 1 / (l - 1)^(2))))"
      ]
     },
     "execution_count": 179,
     "metadata": {},
     "output_type": "execute_result"
    }
   ],
   "source": [
    "Y10.conclusion.proven({epsInDomain, lInDomain})"
   ]
  },
  {
   "cell_type": "code",
   "execution_count": 180,
   "metadata": {
    "collapsed": false
   },
   "outputs": [
    {
     "data": {
      "text/latex": [
       "$\\varepsilon \\in \\{1\\ldots \\left(2^{t - 1} - 2\\right)\\}$"
      ],
      "text/plain": [
       "eps in \\{1...(2^(t - 1) - 2)\\}"
      ]
     },
     "execution_count": 180,
     "metadata": {},
     "output_type": "execute_result"
    }
   ],
   "source": [
    "X4 = Relation(X3).update(Y10.conclusion)\n",
    "epsInDomain"
   ]
  },
  {
   "cell_type": "code",
   "execution_count": 181,
   "metadata": {
    "collapsed": false
   },
   "outputs": [
    {
     "data": {
      "text/latex": [
       "$\\left(\\left(\\sum_{l=\\left(-2^{t - 1}\\right) + 1}^{-\\left(\\varepsilon + 1\\right)} \\left(\\frac{1}{4} \\cdot \\frac{1}{l^{2}}\\right)\\right) + \\left(\\sum_{l=\\varepsilon + 1}^{2^{t - 1}} \\left(\\frac{1}{4} \\cdot \\frac{1}{\\left(l - 1\\right)^{2}}\\right)\\right)\\right) \\in \\mathbb{C}$"
      ],
      "text/plain": [
       "((Summation_{l=(-2^(t - 1)) + 1}^{-(eps + 1)} (1 / 4 * 1 / l^(2))) + (Summation_{l=eps + 1}^{2^(t - 1)} (1 / 4 * 1 / (l - 1)^(2)))) in Complexes"
      ]
     },
     "execution_count": 181,
     "metadata": {},
     "output_type": "execute_result"
    }
   ],
   "source": [
    "deduceInComplexes(X4.rhs, {epsInDomain}).proven({epsInDomain})"
   ]
  },
  {
   "cell_type": "code",
   "execution_count": 182,
   "metadata": {
    "collapsed": false
   },
   "outputs": [
    {
     "data": {
      "text/latex": [
       "$\\left(\\sum_{l=\\left(-2^{t - 1}\\right) + 1}^{-\\left(\\varepsilon + 1\\right)} \\left(\\frac{1}{4} \\cdot \\frac{1}{l^{2}}\\right)\\right) = \\left(\\frac{1}{4} \\cdot \\left(\\sum_{l=\\left(-2^{t - 1}\\right) + 1}^{-\\left(\\varepsilon + 1\\right)} \\frac{1}{l^{2}}\\right)\\right)$"
      ],
      "text/plain": [
       "(Summation_{l=(-2^(t - 1)) + 1}^{-(eps + 1)} (1 / 4 * 1 / l^(2))) = (1 / 4 * (Summation_{l=(-2^(t - 1)) + 1}^{-(eps + 1)} 1 / l^(2)))"
      ]
     },
     "execution_count": 182,
     "metadata": {},
     "output_type": "execute_result"
    }
   ],
   "source": [
    "X4.rhs.operands[0].factor(Fraction(one,four),assumptions={epsInDomain})"
   ]
  },
  {
   "cell_type": "code",
   "execution_count": 183,
   "metadata": {
    "collapsed": false
   },
   "outputs": [
    {
     "data": {
      "text/latex": [
       "$\\left(\\sum_{l=\\left(-2^{t - 1}\\right) + 1}^{-\\left(\\varepsilon + 1\\right)} \\left(\\frac{1}{4} \\cdot \\frac{1}{l^{2}}\\right)\\right) = \\left(\\frac{1}{4} \\cdot \\left(\\sum_{l=\\left(-2^{t - 1}\\right) + 1}^{-\\left(\\varepsilon + 1\\right)} \\frac{1}{l^{2}}\\right)\\right)$"
      ],
      "text/plain": [
       "(Summation_{l=(-2^(t - 1)) + 1}^{-(eps + 1)} (1 / 4 * 1 / l^(2))) = (1 / 4 * (Summation_{l=(-2^(t - 1)) + 1}^{-(eps + 1)} 1 / l^(2)))"
      ]
     },
     "execution_count": 183,
     "metadata": {},
     "output_type": "execute_result"
    }
   ],
   "source": [
    "X4.rhs.operands[0].factor(Fraction(one,four),assumptions={epsInDomain}).proven({epsInDomain})"
   ]
  },
  {
   "cell_type": "code",
   "execution_count": 184,
   "metadata": {
    "collapsed": false
   },
   "outputs": [
    {
     "data": {
      "text/latex": [
       "$P_{\\rm fail}\\left(\\varepsilon\\right) \\leq \\left(\\left(\\frac{1}{4} \\cdot \\left(\\sum_{l=\\left(-2^{t - 1}\\right) + 1}^{-\\left(\\varepsilon + 1\\right)} \\frac{1}{l^{2}}\\right)\\right) + \\left(\\frac{1}{4} \\cdot \\left(\\sum_{l=\\varepsilon + 1}^{2^{t - 1}} \\frac{1}{\\left(l - 1\\right)^{2}}\\right)\\right)\\right)$"
      ],
      "text/plain": [
       "Pfail(eps) <= ((1 / 4 * (Summation_{l=(-2^(t - 1)) + 1}^{-(eps + 1)} 1 / l^(2))) + (1 / 4 * (Summation_{l=eps + 1}^{2^(t - 1)} 1 / (l - 1)^(2))))"
      ]
     },
     "execution_count": 184,
     "metadata": {},
     "output_type": "execute_result"
    }
   ],
   "source": [
    "X5 = X4.rhs.operands[0].factor(Fraction(one,four),assumptions={epsInDomain}).rhsSubstitute(X4).proven({epsInDomain})\n",
    "X6 = X5.rhs.operands[1].factor(Fraction(one,four),assumptions={epsInDomain}).rhsSubstitute(X5).proven({epsInDomain})\n",
    "X6"
   ]
  },
  {
   "cell_type": "code",
   "execution_count": 185,
   "metadata": {
    "collapsed": false
   },
   "outputs": [
    {
     "data": {
      "text/latex": [
       "$\\forall_{a, b, c \\in \\mathbb{R}} \\left(\\left(\\left(a \\cdot b\\right) + \\left(a \\cdot c\\right)\\right) = \\left(a \\cdot \\left(b + c\\right)\\right)\\right)$"
      ],
      "text/plain": [
       "forall_{a, b, c in Reals} (((a * b) + (a * c)) = (a * (b + c)))"
      ]
     },
     "execution_count": 185,
     "metadata": {},
     "output_type": "execute_result"
    }
   ],
   "source": [
    "sumFactor_temp"
   ]
  },
  {
   "cell_type": "code",
   "execution_count": 186,
   "metadata": {
    "collapsed": false
   },
   "outputs": [
    {
     "data": {
      "text/latex": [
       "$P_{\\rm fail}\\left(\\varepsilon\\right) \\leq \\left(\\frac{1}{4} \\cdot \\left(\\left(\\sum_{l=\\left(-2^{t - 1}\\right) + 1}^{-\\left(\\varepsilon + 1\\right)} \\frac{1}{l^{2}}\\right) + \\left(\\sum_{l=\\varepsilon + 1}^{2^{t - 1}} \\frac{1}{\\left(l - 1\\right)^{2}}\\right)\\right)\\right)$"
      ],
      "text/plain": [
       "Pfail(eps) <= (1 / 4 * ((Summation_{l=(-2^(t - 1)) + 1}^{-(eps + 1)} 1 / l^(2)) + (Summation_{l=eps + 1}^{2^(t - 1)} 1 / (l - 1)^(2))))"
      ]
     },
     "execution_count": 186,
     "metadata": {},
     "output_type": "execute_result"
    }
   ],
   "source": [
    "deduceInReals(X6.rhs.operands[0].operands[0])\n",
    "deduceInReals(X6.rhs.operands[0].operands[1], {epsInDomain})\n",
    "deduceInReals(X6.rhs.operands[1].operands[1], {epsInDomain})\n",
    "X7 = sumFactor_temp.specialize({a:X6.rhs.operands[0].operands[0], b:X6.rhs.operands[0].operands[1], c:X6.rhs.operands[1].operands[1]}).rhsSubstitute(X6)\n",
    "X7.proven({epsInDomain})"
   ]
  },
  {
   "cell_type": "code",
   "execution_count": 187,
   "metadata": {
    "collapsed": false
   },
   "outputs": [
    {
     "data": {
      "text/latex": [
       "$\\forall_{f} \\left[\\forall_{a, b, c \\in \\mathbb{Z}} \\left(\\left(\\sum_{x=a}^{b} f\\left(x\\right)\\right) = \\left(\\sum_{x=a + c}^{b + c} f\\left(x - c\\right)\\right)\\right)\\right]$"
      ],
      "text/plain": [
       "forall_{f} [forall_{a, b, c in Integers} ((Summation_{x=a}^{b} f(x)) = (Summation_{x=a + c}^{b + c} f(x - c)))]"
      ]
     },
     "execution_count": 187,
     "metadata": {},
     "output_type": "execute_result"
    }
   ],
   "source": [
    "indexShift"
   ]
  },
  {
   "cell_type": "code",
   "execution_count": 188,
   "metadata": {
    "collapsed": false
   },
   "outputs": [
    {
     "data": {
      "text/latex": [
       "$P_{\\rm fail}\\left(\\varepsilon\\right) \\leq \\left(\\frac{1}{4} \\cdot \\left(\\left(\\sum_{l=\\left(-2^{t - 1}\\right) + 1}^{-\\left(\\varepsilon + 1\\right)} \\frac{1}{l^{2}}\\right) + \\left(\\sum_{l=\\left(\\varepsilon + 1\\right) + \\left(-1\\right)}^{2^{t - 1} + \\left(-1\\right)} \\frac{1}{\\left(\\left(l - \\left(-1\\right)\\right) - 1\\right)^{2}}\\right)\\right)\\right)$"
      ],
      "text/plain": [
       "Pfail(eps) <= (1 / 4 * ((Summation_{l=(-2^(t - 1)) + 1}^{-(eps + 1)} 1 / l^(2)) + (Summation_{l=(eps + 1) + (-1)}^{2^(t - 1) + (-1)} 1 / ((l - (-1)) - 1)^(2))))"
      ]
     },
     "execution_count": 188,
     "metadata": {},
     "output_type": "execute_result"
    }
   ],
   "source": [
    "deduceInIntegers(negDomain.lowerBound, {epsInDomain})\n",
    "deduceInIntegers(negDomain.upperBound, {epsInDomain})\n",
    "deduceInIntegers(Neg(one))\n",
    "Y11 = indexShift.specialize({Operation(f,l):X7.rhs.operands[1].operands[1].summand,x:l}).specialize({c:Neg(one),a:X7.rhs.operands[1].operands[1].domain.lowerBound, b:X7.rhs.operands[1].operands[1].domain.upperBound}).rhsSubstitute(X7)\n",
    "Y11.proven({epsInDomain})"
   ]
  },
  {
   "cell_type": "code",
   "execution_count": 189,
   "metadata": {
    "collapsed": false
   },
   "outputs": [
    {
     "data": {
      "text/latex": [
       "$\\{\\left(\\varepsilon + 1\\right) + \\left(-1\\right)\\ldots 2^{t - 1} + \\left(-1\\right)\\}$"
      ],
      "text/plain": [
       "\\{(eps + 1) + (-1)...2^(t - 1) + (-1)\\}"
      ]
     },
     "execution_count": 189,
     "metadata": {},
     "output_type": "execute_result"
    }
   ],
   "source": [
    "shiftedDomain = Y11.rhs.operands[1].operands[1].domain\n",
    "shiftedDomain"
   ]
  },
  {
   "cell_type": "code",
   "execution_count": 190,
   "metadata": {
    "collapsed": false
   },
   "outputs": [
    {
     "data": {
      "text/latex": [
       "$\\frac{1}{\\left(\\left(l - \\left(-1\\right)\\right) - 1\\right)^{2}}$"
      ],
      "text/plain": [
       "1 / ((l - (-1)) - 1)^(2)"
      ]
     },
     "execution_count": 190,
     "metadata": {},
     "output_type": "execute_result"
    }
   ],
   "source": [
    "summandToSimplify = Y11.rhs.operands[1].operands[1].summand\n",
    "summandToSimplify"
   ]
  },
  {
   "cell_type": "code",
   "execution_count": 191,
   "metadata": {
    "collapsed": false
   },
   "outputs": [
    {
     "data": {
      "text/latex": [
       "$\\forall_{a, b \\in \\mathbb{C}} \\left(\\left(\\left(a - \\left(-b\\right)\\right) - b\\right) = a\\right)$"
      ],
      "text/plain": [
       "forall_{a, b in Complexes} (((a - (-b)) - b) = a)"
      ]
     },
     "execution_count": 191,
     "metadata": {},
     "output_type": "execute_result"
    }
   ],
   "source": [
    "cancelSubAndAdd"
   ]
  },
  {
   "cell_type": "code",
   "execution_count": 192,
   "metadata": {
    "collapsed": false
   },
   "outputs": [
    {
     "data": {
      "text/latex": [
       "$\\left(\\left(l - \\left(-1\\right)\\right) - 1\\right) = l$"
      ],
      "text/plain": [
       "((l - (-1)) - 1) = l"
      ]
     },
     "execution_count": 192,
     "metadata": {},
     "output_type": "execute_result"
    }
   ],
   "source": [
    "lShiftCancellation = cancelSubAndAdd.specialize({a:l,b:one})\n",
    "lShiftCancellation"
   ]
  },
  {
   "cell_type": "code",
   "execution_count": 193,
   "metadata": {
    "collapsed": false
   },
   "outputs": [
    {
     "data": {
      "text/latex": [
       "$l \\in \\mathbb{Z}$"
      ],
      "text/plain": [
       "l in Integers"
      ]
     },
     "metadata": {},
     "output_type": "display_data"
    },
    {
     "data": {
      "text/latex": [
       "$\\left(\\left(l - \\left(-1\\right)\\right) - 1\\right) \\in \\mathbb{C}$"
      ],
      "text/plain": [
       "((l - (-1)) - 1) in Complexes"
      ]
     },
     "metadata": {},
     "output_type": "display_data"
    },
    {
     "data": {
      "text/latex": [
       "$l \\in \\mathbb{C}$"
      ],
      "text/plain": [
       "l in Complexes"
      ]
     },
     "metadata": {},
     "output_type": "display_data"
    },
    {
     "data": {
      "text/latex": [
       "$\\frac{1}{\\left(\\left(l - \\left(-1\\right)\\right) - 1\\right)^{2}} = \\frac{1}{l^{2}}$"
      ],
      "text/plain": [
       "1 / ((l - (-1)) - 1)^(2) = 1 / l^(2)"
      ]
     },
     "metadata": {},
     "output_type": "display_data"
    },
    {
     "data": {
      "text/latex": [
       "$\\forall_{k \\in \\{\\left(\\left(\\varepsilon + 1\\right) + \\left(-1\\right)\\right)\\ldots \\left(2^{t - 1} + \\left(-1\\right)\\right)\\}} \\left(\\frac{1}{\\left(\\left(k - \\left(-1\\right)\\right) - 1\\right)^{2}} = \\frac{1}{k^{2}}\\right)$"
      ],
      "text/plain": [
       "forall_{k in \\{((eps + 1) + (-1))...(2^(t - 1) + (-1))\\}} (1 / ((k - (-1)) - 1)^(2) = 1 / k^(2))"
      ]
     },
     "execution_count": 193,
     "metadata": {},
     "output_type": "execute_result"
    }
   ],
   "source": [
    "display(shiftedDomain.deduceMemberInIntegers(l, {epsInDomain}).proven({epsInDomain, In(l, shiftedDomain)}))\n",
    "display(deduceInComplexes(lShiftCancellation.lhs, {epsInDomain, In(l, shiftedDomain)}))\n",
    "display(deduceInComplexes(lShiftCancellation.rhs, {epsInDomain, In(l, shiftedDomain)}))\n",
    "summandSimplification = lShiftCancellation.substitution(summandToSimplify)\n",
    "display(summandSimplification)\n",
    "summandSimplification.generalize(l, domain=shiftedDomain).relabel({l:k}).proven({epsInDomain})"
   ]
  },
  {
   "cell_type": "code",
   "execution_count": 194,
   "metadata": {
    "collapsed": false
   },
   "outputs": [
    {
     "data": {
      "text/latex": [
       "$\\forall_{f, g} \\left[\\forall_{m, n \\in \\mathbb{Z}} \\left(\\left[\\forall_{k \\in \\{m\\ldots n\\}} \\left(f\\left(k\\right) = g\\left(k\\right)\\right)\\right] \\Rightarrow \\left(\\left(\\sum_{l=m}^{n} f\\left(l\\right)\\right) = \\left(\\sum_{l=m}^{n} g\\left(l\\right)\\right)\\right)\\right)\\right]$"
      ],
      "text/plain": [
       "forall_{f, g} [forall_{m, n in Integers} ([forall_{k in \\{m...n\\}} (f(k) = g(k))] => ((Summation_{l=m}^{n} f(l)) = (Summation_{l=m}^{n} g(l))))]"
      ]
     },
     "execution_count": 194,
     "metadata": {},
     "output_type": "execute_result"
    }
   ],
   "source": [
    "sumEq"
   ]
  },
  {
   "cell_type": "code",
   "execution_count": 195,
   "metadata": {
    "collapsed": false
   },
   "outputs": [
    {
     "data": {
      "text/latex": [
       "$\\left(\\sum_{l=\\left(\\varepsilon + 1\\right) + \\left(-1\\right)}^{2^{t - 1} + \\left(-1\\right)} \\frac{1}{\\left(\\left(l - \\left(-1\\right)\\right) - 1\\right)^{2}}\\right) = \\left(\\sum_{l=\\left(\\varepsilon + 1\\right) + \\left(-1\\right)}^{2^{t - 1} + \\left(-1\\right)} \\frac{1}{l^{2}}\\right)$"
      ],
      "text/plain": [
       "(Summation_{l=(eps + 1) + (-1)}^{2^(t - 1) + (-1)} 1 / ((l - (-1)) - 1)^(2)) = (Summation_{l=(eps + 1) + (-1)}^{2^(t - 1) + (-1)} 1 / l^(2))"
      ]
     },
     "execution_count": 195,
     "metadata": {},
     "output_type": "execute_result"
    }
   ],
   "source": [
    "deduceInIntegers(shiftedDomain.lowerBound, {epsInDomain})\n",
    "deduceInIntegers(shiftedDomain.upperBound, {epsInDomain})\n",
    "Y12 = sumEq.specialize({Operation(f,l):summandToSimplify, Operation(g,l):summandSimplification.rhs}).specialize({m:shiftedDomain.lowerBound, n:shiftedDomain.upperBound})\n",
    "Y12.conclusion.proven({epsInDomain})"
   ]
  },
  {
   "cell_type": "code",
   "execution_count": 196,
   "metadata": {
    "collapsed": false
   },
   "outputs": [
    {
     "data": {
      "text/latex": [
       "$P_{\\rm fail}\\left(\\varepsilon\\right) \\leq \\left(\\frac{1}{4} \\cdot \\left(\\left(\\sum_{l=\\left(-2^{t - 1}\\right) + 1}^{-\\left(\\varepsilon + 1\\right)} \\frac{1}{l^{2}}\\right) + \\left(\\sum_{l=\\left(\\varepsilon + 1\\right) + \\left(-1\\right)}^{2^{t - 1} + \\left(-1\\right)} \\frac{1}{l^{2}}\\right)\\right)\\right)$"
      ],
      "text/plain": [
       "Pfail(eps) <= (1 / 4 * ((Summation_{l=(-2^(t - 1)) + 1}^{-(eps + 1)} 1 / l^(2)) + (Summation_{l=(eps + 1) + (-1)}^{2^(t - 1) + (-1)} 1 / l^(2))))"
      ]
     },
     "execution_count": 196,
     "metadata": {},
     "output_type": "execute_result"
    }
   ],
   "source": [
    "X8 = Y12.conclusion.rhsSubstitute(Y11)\n",
    "X8.proven({epsInDomain})"
   ]
  },
  {
   "cell_type": "code",
   "execution_count": 197,
   "metadata": {
    "collapsed": false
   },
   "outputs": [
    {
     "data": {
      "text/latex": [
       "$\\forall_{f \\in EvenFuncs} \\left[\\forall_{a, b \\in \\mathbb{Z}} \\left(\\left(\\sum_{x=a}^{b} f\\left(x\\right)\\right) = \\left(\\sum_{x=-b}^{-a} f\\left(x\\right)\\right)\\right)\\right]$"
      ],
      "text/plain": [
       "forall_{f in EvenFuncs} [forall_{a, b in Integers} ((Summation_{x=a}^{b} f(x)) = (Summation_{x=-b}^{-a} f(x)))]"
      ]
     },
     "execution_count": 197,
     "metadata": {},
     "output_type": "execute_result"
    }
   ],
   "source": [
    "evenFuncSum"
   ]
  },
  {
   "cell_type": "code",
   "execution_count": 198,
   "metadata": {
    "collapsed": false
   },
   "outputs": [
    {
     "data": {
      "text/latex": [
       "$P_{\\rm fail}\\left(\\varepsilon\\right) \\leq \\left(\\frac{1}{4} \\cdot \\left(\\left(\\sum_{l=-\\left(-\\left(\\varepsilon + 1\\right)\\right)}^{-\\left(\\left(-2^{t - 1}\\right) + 1\\right)} \\frac{1}{l^{2}}\\right) + \\left(\\sum_{l=\\left(\\varepsilon + 1\\right) + \\left(-1\\right)}^{2^{t - 1} + \\left(-1\\right)} \\frac{1}{l^{2}}\\right)\\right)\\right)$"
      ],
      "text/plain": [
       "Pfail(eps) <= (1 / 4 * ((Summation_{l=-(-(eps + 1))}^{-((-2^(t - 1)) + 1)} 1 / l^(2)) + (Summation_{l=(eps + 1) + (-1)}^{2^(t - 1) + (-1)} 1 / l^(2))))"
      ]
     },
     "execution_count": 198,
     "metadata": {},
     "output_type": "execute_result"
    }
   ],
   "source": [
    "X9 = evenFuncSum.specialize({Operation(f,l):X8.rhs.operands[1].operands[0].summand, x:l}).specialize({a:X8.rhs.operands[1].operands[0].domain.lowerBound, b:X8.rhs.operands[1].operands[0].domain.upperBound}).rhsSubstitute(X8)\n",
    "X9.proven({epsInDomain})"
   ]
  },
  {
   "cell_type": "code",
   "execution_count": 199,
   "metadata": {
    "collapsed": false
   },
   "outputs": [
    {
     "data": {
      "text/latex": [
       "$\\forall_{a, b \\in \\mathbb{C}} \\left(\\left(-\\left(a + b\\right)\\right) = \\left(\\left(-a\\right) - b\\right)\\right)$"
      ],
      "text/plain": [
       "forall_{a, b in Complexes} ((-(a + b)) = ((-a) - b))"
      ]
     },
     "execution_count": 199,
     "metadata": {},
     "output_type": "execute_result"
    }
   ],
   "source": [
    "distributeNegOverAdd"
   ]
  },
  {
   "cell_type": "code",
   "execution_count": 200,
   "metadata": {
    "collapsed": false
   },
   "outputs": [
    {
     "data": {
      "text/latex": [
       "$\\forall_{a \\in \\mathbb{C}} \\left(\\left(-\\left(-a\\right)\\right) = a\\right)$"
      ],
      "text/plain": [
       "forall_{a in Complexes} ((-(-a)) = a)"
      ]
     },
     "execution_count": 200,
     "metadata": {},
     "output_type": "execute_result"
    }
   ],
   "source": [
    "negNeg"
   ]
  },
  {
   "cell_type": "code",
   "execution_count": 201,
   "metadata": {
    "collapsed": false
   },
   "outputs": [
    {
     "data": {
      "text/latex": [
       "$\\left(-\\left(\\left(-2^{t - 1}\\right) + 1\\right)\\right) = \\left(2^{t - 1} - 1\\right)$"
      ],
      "text/plain": [
       "(-((-2^(t - 1)) + 1)) = (2^(t - 1) - 1)"
      ]
     },
     "execution_count": 201,
     "metadata": {},
     "output_type": "execute_result"
    }
   ],
   "source": [
    "two_pow_tMinusOne = Exponentiate(two, Subtract(t_, one))\n",
    "deduceInComplexes(two_pow_tMinusOne).proven()\n",
    "deduceInComplexes(Neg(two_pow_tMinusOne)).proven()\n",
    "deduceInComplexes(one).proven()\n",
    "cleanLimits1 = distributeNegOverAdd.specialize({a:Neg(two_pow_tMinusOne), b:one})\n",
    "cleanLimits1 = negNeg.specialize({a:two_pow_tMinusOne}).rhsSubstitute(cleanLimits1)\n",
    "cleanLimits1.proven()"
   ]
  },
  {
   "cell_type": "code",
   "execution_count": 202,
   "metadata": {
    "collapsed": false
   },
   "outputs": [
    {
     "data": {
      "text/latex": [
       "$\\left(-\\left(-\\left(\\varepsilon + 1\\right)\\right)\\right) = \\left(\\varepsilon + 1\\right)$"
      ],
      "text/plain": [
       "(-(-(eps + 1))) = (eps + 1)"
      ]
     },
     "execution_count": 202,
     "metadata": {},
     "output_type": "execute_result"
    }
   ],
   "source": [
    "deduceInComplexes(Add(eps, one), {epsInDomain})\n",
    "cleanLimits2 = negNeg.specialize({a:Add(eps, one)})\n",
    "cleanLimits2.proven({epsInDomain})"
   ]
  },
  {
   "cell_type": "code",
   "execution_count": 203,
   "metadata": {
    "collapsed": false
   },
   "outputs": [
    {
     "data": {
      "text/latex": [
       "$\\left(2^{t - 1} + \\left(-1\\right)\\right) = \\left(2^{t - 1} - 1\\right)$"
      ],
      "text/plain": [
       "(2^(t - 1) + (-1)) = (2^(t - 1) - 1)"
      ]
     },
     "execution_count": 203,
     "metadata": {},
     "output_type": "execute_result"
    }
   ],
   "source": [
    "cleanLimits3 = convertAddNegToSub.specialize({a:two_pow_tMinusOne, b:one})\n",
    "cleanLimits3.proven({epsInDomain})"
   ]
  },
  {
   "cell_type": "code",
   "execution_count": 204,
   "metadata": {
    "collapsed": false
   },
   "outputs": [
    {
     "data": {
      "text/latex": [
       "$\\left(\\left(\\varepsilon + 1\\right) + \\left(-1\\right)\\right) = \\varepsilon$"
      ],
      "text/plain": [
       "((eps + 1) + (-1)) = eps"
      ]
     },
     "execution_count": 204,
     "metadata": {},
     "output_type": "execute_result"
    }
   ],
   "source": [
    "deduceInComplexes(eps, {epsInDomain})\n",
    "cleanLimits4 = cancelAddNeg.specialize({a:eps, b:one})\n",
    "cleanLimits4.proven({epsInDomain})"
   ]
  },
  {
   "cell_type": "code",
   "execution_count": 205,
   "metadata": {
    "collapsed": false
   },
   "outputs": [
    {
     "data": {
      "text/latex": [
       "$P_{\\rm fail}\\left(\\varepsilon\\right) \\leq \\left(\\frac{1}{4} \\cdot \\left(\\left(\\sum_{l=\\varepsilon + 1}^{2^{t - 1} - 1} \\frac{1}{l^{2}}\\right) + \\left(\\sum_{l=\\varepsilon}^{2^{t - 1} - 1} \\frac{1}{l^{2}}\\right)\\right)\\right)$"
      ],
      "text/plain": [
       "Pfail(eps) <= (1 / 4 * ((Summation_{l=eps + 1}^{2^(t - 1) - 1} 1 / l^(2)) + (Summation_{l=eps}^{2^(t - 1) - 1} 1 / l^(2))))"
      ]
     },
     "execution_count": 205,
     "metadata": {},
     "output_type": "execute_result"
    }
   ],
   "source": [
    "X10 = cleanLimits1.rhsSubstitute(X9)\n",
    "X10 = cleanLimits2.rhsSubstitute(X10)\n",
    "X10 = cleanLimits3.rhsSubstitute(X10)\n",
    "X10 = cleanLimits4.rhsSubstitute(X10)\n",
    "X10.proven({epsInDomain})"
   ]
  },
  {
   "cell_type": "code",
   "execution_count": 206,
   "metadata": {
    "collapsed": false
   },
   "outputs": [
    {
     "data": {
      "text/latex": [
       "$\\forall_{f} \\left[\\forall_{a, b \\in \\mathbb{Z}~|~a \\leq b} \\left(\\left(\\sum_{l=a}^{b} f\\left(l\\right)\\right) = \\left(\\left(\\sum_{l=a - 1}^{b} f\\left(l\\right)\\right) - f\\left(a - 1\\right)\\right)\\right)\\right]$"
      ],
      "text/plain": [
       "forall_{f} [forall_{a, b in Integers | a <= b} ((Summation_{l=a}^{b} f(l)) = ((Summation_{l=a - 1}^{b} f(l)) - f(a - 1)))]"
      ]
     },
     "execution_count": 206,
     "metadata": {},
     "output_type": "execute_result"
    }
   ],
   "source": [
    "splitSumOneElem"
   ]
  },
  {
   "cell_type": "code",
   "execution_count": 207,
   "metadata": {
    "collapsed": false
   },
   "outputs": [
    {
     "data": {
      "text/latex": [
       "$\\left(\\varepsilon + 1\\right) \\leq \\left(\\left(2^{t - 1} - 2\\right) + 1\\right)$"
      ],
      "text/plain": [
       "(eps + 1) <= ((2^(t - 1) - 2) + 1)"
      ]
     },
     "metadata": {},
     "output_type": "display_data"
    },
    {
     "data": {
      "text/latex": [
       "$\\left(\\varepsilon + 1\\right) \\leq \\left(2^{t - 1} - 1\\right)$"
      ],
      "text/plain": [
       "(eps + 1) <= (2^(t - 1) - 1)"
      ]
     },
     "metadata": {},
     "output_type": "display_data"
    }
   ],
   "source": [
    "shiftedEpsUpperBound0 = epsUpperBound.deriveShifted(one, {epsInDomain}).proven({epsInDomain})\n",
    "display(shiftedEpsUpperBound0)\n",
    "shiftedEpsUpperBound = temporarySpecialCaseCancellation.specialize({a:two_pow_tMinusOne}).rhsSubstitute(shiftedEpsUpperBound0).proven({epsInDomain})\n",
    "display(shiftedEpsUpperBound)"
   ]
  },
  {
   "cell_type": "code",
   "execution_count": 208,
   "metadata": {
    "collapsed": false
   },
   "outputs": [
    {
     "data": {
      "text/latex": [
       "$\\left(\\sum_{l=\\varepsilon + 1}^{2^{t - 1} - 1} \\frac{1}{l^{2}}\\right) = \\left(\\left(\\sum_{l=\\left(\\varepsilon + 1\\right) - 1}^{2^{t - 1} - 1} \\frac{1}{l^{2}}\\right) - \\frac{1}{\\left(\\left(\\varepsilon + 1\\right) - 1\\right)^{2}}\\right)$"
      ],
      "text/plain": [
       "(Summation_{l=eps + 1}^{2^(t - 1) - 1} 1 / l^(2)) = ((Summation_{l=(eps + 1) - 1}^{2^(t - 1) - 1} 1 / l^(2)) - 1 / ((eps + 1) - 1)^(2))"
      ]
     },
     "execution_count": 208,
     "metadata": {},
     "output_type": "execute_result"
    }
   ],
   "source": [
    "deduceInIntegers(Add(eps, one), {epsInDomain})\n",
    "deduceInIntegers(Subtract(two_pow_tMinusOne, one))\n",
    "Y13 = splitSumOneElem.specialize({Operation(f,l):Fraction(one, Exponentiate(l, two))}).specialize({a:Add(eps, one),\n",
    "                                                                                                   b:Subtract(two_pow_tMinusOne, one)})\n",
    "Y13.proven({epsInDomain})"
   ]
  },
  {
   "cell_type": "code",
   "execution_count": 209,
   "metadata": {
    "collapsed": false
   },
   "outputs": [
    {
     "data": {
      "text/latex": [
       "$P_{\\rm fail}\\left(\\varepsilon\\right) \\leq \\left(\\frac{1}{4} \\cdot \\left(\\left(\\left(\\sum_{l=\\left(\\varepsilon + 1\\right) - 1}^{2^{t - 1} - 1} \\frac{1}{l^{2}}\\right) - \\frac{1}{\\left(\\left(\\varepsilon + 1\\right) - 1\\right)^{2}}\\right) + \\left(\\sum_{l=\\varepsilon}^{2^{t - 1} - 1} \\frac{1}{l^{2}}\\right)\\right)\\right)$"
      ],
      "text/plain": [
       "Pfail(eps) <= (1 / 4 * (((Summation_{l=(eps + 1) - 1}^{2^(t - 1) - 1} 1 / l^(2)) - 1 / ((eps + 1) - 1)^(2)) + (Summation_{l=eps}^{2^(t - 1) - 1} 1 / l^(2))))"
      ]
     },
     "execution_count": 209,
     "metadata": {},
     "output_type": "execute_result"
    }
   ],
   "source": [
    "X11 = Y13.rhsSubstitute(X10)\n",
    "X11.proven({epsInDomain})"
   ]
  },
  {
   "cell_type": "code",
   "execution_count": 210,
   "metadata": {
    "collapsed": false
   },
   "outputs": [
    {
     "data": {
      "text/latex": [
       "$\\forall_{a, b \\in \\mathbb{C}} \\left(\\left(a + \\left(-b\\right)\\right) = \\left(a - b\\right)\\right)$"
      ],
      "text/plain": [
       "forall_{a, b in Complexes} ((a + (-b)) = (a - b))"
      ]
     },
     "execution_count": 210,
     "metadata": {},
     "output_type": "execute_result"
    }
   ],
   "source": [
    "convertAddNegToSub"
   ]
  },
  {
   "cell_type": "code",
   "execution_count": 211,
   "metadata": {
    "collapsed": false
   },
   "outputs": [
    {
     "data": {
      "text/latex": [
       "$\\left(\\left(\\varepsilon + 1\\right) + \\left(-1\\right)\\right) = \\left(\\left(\\varepsilon + 1\\right) - 1\\right)$"
      ],
      "text/plain": [
       "((eps + 1) + (-1)) = ((eps + 1) - 1)"
      ]
     },
     "execution_count": 211,
     "metadata": {},
     "output_type": "execute_result"
    }
   ],
   "source": [
    "Y14 = convertAddNegToSub.specialize({a:Add(eps,one),b:one})\n",
    "Y14.proven({epsInDomain})"
   ]
  },
  {
   "cell_type": "code",
   "execution_count": 212,
   "metadata": {
    "collapsed": false
   },
   "outputs": [
    {
     "data": {
      "text/latex": [
       "$\\left(\\left(\\varepsilon + 1\\right) + \\left(-1\\right)\\right) = \\varepsilon$"
      ],
      "text/plain": [
       "((eps + 1) + (-1)) = eps"
      ]
     },
     "execution_count": 212,
     "metadata": {},
     "output_type": "execute_result"
    }
   ],
   "source": [
    "Y15 = cancelAddNeg.specialize({a:eps,b:one})\n",
    "Y15.proven({epsInDomain})"
   ]
  },
  {
   "cell_type": "code",
   "execution_count": 213,
   "metadata": {
    "collapsed": false
   },
   "outputs": [
    {
     "data": {
      "text/latex": [
       "$\\varepsilon = \\left(\\left(\\varepsilon + 1\\right) - 1\\right)$"
      ],
      "text/plain": [
       "eps = ((eps + 1) - 1)"
      ]
     },
     "execution_count": 213,
     "metadata": {},
     "output_type": "execute_result"
    }
   ],
   "source": [
    "cleanLimits5 = Y15.rhsSubstitute(Y14)\n",
    "cleanLimits5.proven({epsInDomain})"
   ]
  },
  {
   "cell_type": "code",
   "execution_count": 214,
   "metadata": {
    "collapsed": false
   },
   "outputs": [
    {
     "data": {
      "text/latex": [
       "$P_{\\rm fail}\\left(\\varepsilon\\right) \\leq \\left(\\frac{1}{4} \\cdot \\left(\\left(\\left(\\sum_{l=\\varepsilon}^{2^{t - 1} - 1} \\frac{1}{l^{2}}\\right) - \\frac{1}{\\varepsilon^{2}}\\right) + \\left(\\sum_{l=\\varepsilon}^{2^{t - 1} - 1} \\frac{1}{l^{2}}\\right)\\right)\\right)$"
      ],
      "text/plain": [
       "Pfail(eps) <= (1 / 4 * (((Summation_{l=eps}^{2^(t - 1) - 1} 1 / l^(2)) - 1 / eps^(2)) + (Summation_{l=eps}^{2^(t - 1) - 1} 1 / l^(2))))"
      ]
     },
     "execution_count": 214,
     "metadata": {},
     "output_type": "execute_result"
    }
   ],
   "source": [
    "X12 = cleanLimits5.lhsSubstitute(X11)\n",
    "X12.proven({epsInDomain})"
   ]
  },
  {
   "cell_type": "code",
   "execution_count": 215,
   "metadata": {
    "collapsed": false
   },
   "outputs": [
    {
     "data": {
      "text/latex": [
       "$\\left(\\left(\\sum_{l=\\varepsilon}^{2^{t - 1} - 1} \\frac{1}{l^{2}}\\right) - \\frac{1}{\\varepsilon^{2}}\\right) + \\left(\\sum_{l=\\varepsilon}^{2^{t - 1} - 1} \\frac{1}{l^{2}}\\right)$"
      ],
      "text/plain": [
       "((Summation_{l=eps}^{2^(t - 1) - 1} 1 / l^(2)) - 1 / eps^(2)) + (Summation_{l=eps}^{2^(t - 1) - 1} 1 / l^(2))"
      ]
     },
     "execution_count": 215,
     "metadata": {},
     "output_type": "execute_result"
    }
   ],
   "source": [
    "termToBound = X12.rhs.operands[1]\n",
    "groupAndUngroupAssumptions = {In(eps,Complexes), In(termToBound.operands[1],Complexes), NotEquals(eps,zero)}\n",
    "termToBound"
   ]
  },
  {
   "cell_type": "code",
   "execution_count": 216,
   "metadata": {
    "collapsed": false
   },
   "outputs": [
    {
     "data": {
      "text/latex": [
       "$\\{\\varepsilon\\ldots 2^{t - 1} - 1\\}$"
      ],
      "text/plain": [
       "\\{eps...2^(t - 1) - 1\\}"
      ]
     },
     "execution_count": 216,
     "metadata": {},
     "output_type": "execute_result"
    }
   ],
   "source": [
    "shiftedPosDomain = termToBound.operands[0].operands[0].domain\n",
    "shiftedPosDomain"
   ]
  },
  {
   "cell_type": "code",
   "execution_count": 217,
   "metadata": {
    "collapsed": false
   },
   "outputs": [
    {
     "data": {
      "text/latex": [
       "$l \\in \\mathbb{Z}$"
      ],
      "text/plain": [
       "l in Integers"
      ]
     },
     "metadata": {},
     "output_type": "display_data"
    },
    {
     "data": {
      "text/latex": [
       "$l > 0$"
      ],
      "text/plain": [
       "l > 0"
      ]
     },
     "metadata": {},
     "output_type": "display_data"
    }
   ],
   "source": [
    "display(shiftedPosDomain.deduceMemberInIntegers(l, {epsInDomain, \n",
    "                                                    In(l, shiftedPosDomain)}).proven({epsInDomain, In(l, shiftedPosDomain)}))\n",
    "lGreaterThanEps = shiftedPosDomain.deduceMemberLowerBound(l, {epsInDomain}).deriveReversed()\n",
    "display(lGreaterThanEps.applyTransitivity(deducePositive(eps, {epsInDomain})).proven({epsInDomain, In(l, shiftedPosDomain)}))"
   ]
  },
  {
   "cell_type": "code",
   "execution_count": 218,
   "metadata": {
    "collapsed": false
   },
   "outputs": [
    {
     "data": {
      "text/latex": [
       "$\\left(\\left(\\left(\\sum_{l=\\varepsilon}^{2^{t - 1} - 1} \\frac{1}{l^{2}}\\right) - \\frac{1}{\\varepsilon^{2}}\\right) + \\left(\\sum_{l=\\varepsilon}^{2^{t - 1} - 1} \\frac{1}{l^{2}}\\right)\\right) = \\left(\\left(\\sum_{l=\\varepsilon}^{2^{t - 1} - 1} \\frac{1}{l^{2}}\\right) + \\left(\\left(\\sum_{l=\\varepsilon}^{2^{t - 1} - 1} \\frac{1}{l^{2}}\\right) - \\frac{1}{\\varepsilon^{2}}\\right)\\right)$"
      ],
      "text/plain": [
       "(((Summation_{l=eps}^{2^(t - 1) - 1} 1 / l^(2)) - 1 / eps^(2)) + (Summation_{l=eps}^{2^(t - 1) - 1} 1 / l^(2))) = ((Summation_{l=eps}^{2^(t - 1) - 1} 1 / l^(2)) + ((Summation_{l=eps}^{2^(t - 1) - 1} 1 / l^(2)) - 1 / eps^(2)))"
      ]
     },
     "execution_count": 218,
     "metadata": {},
     "output_type": "execute_result"
    }
   ],
   "source": [
    "Y16 = termToBound.commute(assumptions={epsInDomain})\n",
    "Y16.proven({epsInDomain})"
   ]
  },
  {
   "cell_type": "code",
   "execution_count": 219,
   "metadata": {
    "collapsed": false
   },
   "outputs": [
    {
     "data": {
      "text/latex": [
       "$\\left(\\left(\\sum_{l=\\varepsilon}^{2^{t - 1} - 1} \\frac{1}{l^{2}}\\right) + \\left(-\\frac{1}{\\varepsilon^{2}}\\right)\\right) = \\left(\\left(\\sum_{l=\\varepsilon}^{2^{t - 1} - 1} \\frac{1}{l^{2}}\\right) - \\frac{1}{\\varepsilon^{2}}\\right)$"
      ],
      "text/plain": [
       "((Summation_{l=eps}^{2^(t - 1) - 1} 1 / l^(2)) + (-1 / eps^(2))) = ((Summation_{l=eps}^{2^(t - 1) - 1} 1 / l^(2)) - 1 / eps^(2))"
      ]
     },
     "execution_count": 219,
     "metadata": {},
     "output_type": "execute_result"
    }
   ],
   "source": [
    "deduceInComplexes(termToBound.operands[0].operands[0], {epsInDomain})\n",
    "deduceInComplexes(termToBound.operands[0].operands[1], {epsInDomain})\n",
    "Y17 = convertAddNegToSub.specialize({a:termToBound.operands[0].operands[0],b:termToBound.operands[0].operands[1]})\n",
    "Y17.proven({epsInDomain})"
   ]
  },
  {
   "cell_type": "code",
   "execution_count": 220,
   "metadata": {
    "collapsed": false
   },
   "outputs": [
    {
     "data": {
      "text/latex": [
       "$\\left(\\left(\\left(\\sum_{l=\\varepsilon}^{2^{t - 1} - 1} \\frac{1}{l^{2}}\\right) - \\frac{1}{\\varepsilon^{2}}\\right) + \\left(\\sum_{l=\\varepsilon}^{2^{t - 1} - 1} \\frac{1}{l^{2}}\\right)\\right) = \\left(\\left(\\sum_{l=\\varepsilon}^{2^{t - 1} - 1} \\frac{1}{l^{2}}\\right) + \\left(\\left(\\sum_{l=\\varepsilon}^{2^{t - 1} - 1} \\frac{1}{l^{2}}\\right) + \\left(-\\frac{1}{\\varepsilon^{2}}\\right)\\right)\\right)$"
      ],
      "text/plain": [
       "(((Summation_{l=eps}^{2^(t - 1) - 1} 1 / l^(2)) - 1 / eps^(2)) + (Summation_{l=eps}^{2^(t - 1) - 1} 1 / l^(2))) = ((Summation_{l=eps}^{2^(t - 1) - 1} 1 / l^(2)) + ((Summation_{l=eps}^{2^(t - 1) - 1} 1 / l^(2)) + (-1 / eps^(2))))"
      ]
     },
     "execution_count": 220,
     "metadata": {},
     "output_type": "execute_result"
    }
   ],
   "source": [
    "eqn = Equation(Y16)\n",
    "Y18 = eqn.update(Y17.deriveReversed().substitution(Y16.rhs)).proven({epsInDomain})\n",
    "Y18"
   ]
  },
  {
   "cell_type": "code",
   "execution_count": 221,
   "metadata": {
    "collapsed": false
   },
   "outputs": [
    {
     "data": {
      "text/latex": [
       "$\\left(\\left(\\left(\\sum_{l=\\varepsilon}^{2^{t - 1} - 1} \\frac{1}{l^{2}}\\right) - \\frac{1}{\\varepsilon^{2}}\\right) + \\left(\\sum_{l=\\varepsilon}^{2^{t - 1} - 1} \\frac{1}{l^{2}}\\right)\\right) = \\left(\\left(\\sum_{l=\\varepsilon}^{2^{t - 1} - 1} \\frac{1}{l^{2}}\\right) + \\left(\\sum_{l=\\varepsilon}^{2^{t - 1} - 1} \\frac{1}{l^{2}}\\right) + \\left(-\\frac{1}{\\varepsilon^{2}}\\right)\\right)$"
      ],
      "text/plain": [
       "(((Summation_{l=eps}^{2^(t - 1) - 1} 1 / l^(2)) - 1 / eps^(2)) + (Summation_{l=eps}^{2^(t - 1) - 1} 1 / l^(2))) = ((Summation_{l=eps}^{2^(t - 1) - 1} 1 / l^(2)) + (Summation_{l=eps}^{2^(t - 1) - 1} 1 / l^(2)) + (-1 / eps^(2)))"
      ]
     },
     "execution_count": 221,
     "metadata": {},
     "output_type": "execute_result"
    }
   ],
   "source": [
    "Y19 = eqn.update(Y18.rhs.ungroup(1, {epsInDomain}))\n",
    "Y19.proven({epsInDomain})"
   ]
  },
  {
   "cell_type": "code",
   "execution_count": 222,
   "metadata": {
    "collapsed": false
   },
   "outputs": [
    {
     "data": {
      "text/latex": [
       "$\\left(\\left(\\left(\\sum_{l=\\varepsilon}^{2^{t - 1} - 1} \\frac{1}{l^{2}}\\right) - \\frac{1}{\\varepsilon^{2}}\\right) + \\left(\\sum_{l=\\varepsilon}^{2^{t - 1} - 1} \\frac{1}{l^{2}}\\right)\\right) = \\left(\\left(\\left(\\sum_{l=\\varepsilon}^{2^{t - 1} - 1} \\frac{1}{l^{2}}\\right) + \\left(\\sum_{l=\\varepsilon}^{2^{t - 1} - 1} \\frac{1}{l^{2}}\\right)\\right) + \\left(-\\frac{1}{\\varepsilon^{2}}\\right)\\right)$"
      ],
      "text/plain": [
       "(((Summation_{l=eps}^{2^(t - 1) - 1} 1 / l^(2)) - 1 / eps^(2)) + (Summation_{l=eps}^{2^(t - 1) - 1} 1 / l^(2))) = (((Summation_{l=eps}^{2^(t - 1) - 1} 1 / l^(2)) + (Summation_{l=eps}^{2^(t - 1) - 1} 1 / l^(2))) + (-1 / eps^(2)))"
      ]
     },
     "execution_count": 222,
     "metadata": {},
     "output_type": "execute_result"
    }
   ],
   "source": [
    "Y20 = Equation(Y19).update(Y19.rhs.group(0,2, assumptions=groupAndUngroupAssumptions))\n",
    "Y20.proven({epsInDomain})"
   ]
  },
  {
   "cell_type": "code",
   "execution_count": 223,
   "metadata": {
    "collapsed": false
   },
   "outputs": [
    {
     "data": {
      "text/latex": [
       "$\\forall_{f} \\left[\\forall_{a, b \\in \\mathbb{Z}} \\left(\\left(\\left(\\sum_{l=a}^{b} f\\left(l\\right)\\right) + \\left(\\sum_{l=a}^{b} f\\left(l\\right)\\right)\\right) = \\left(2 \\cdot \\left(\\sum_{l=a}^{b} f\\left(l\\right)\\right)\\right)\\right)\\right]$"
      ],
      "text/plain": [
       "forall_{f} [forall_{a, b in Integers} (((Summation_{l=a}^{b} f(l)) + (Summation_{l=a}^{b} f(l))) = (2 * (Summation_{l=a}^{b} f(l))))]"
      ]
     },
     "execution_count": 223,
     "metadata": {},
     "output_type": "execute_result"
    }
   ],
   "source": [
    "addSums"
   ]
  },
  {
   "cell_type": "code",
   "execution_count": 224,
   "metadata": {
    "collapsed": false
   },
   "outputs": [
    {
     "data": {
      "text/latex": [
       "$\\left(\\left(\\sum_{l=\\varepsilon}^{2^{t - 1} - 1} \\frac{1}{l^{2}}\\right) + \\left(\\sum_{l=\\varepsilon}^{2^{t - 1} - 1} \\frac{1}{l^{2}}\\right)\\right) = \\left(2 \\cdot \\left(\\sum_{l=\\varepsilon}^{2^{t - 1} - 1} \\frac{1}{l^{2}}\\right)\\right)$"
      ],
      "text/plain": [
       "((Summation_{l=eps}^{2^(t - 1) - 1} 1 / l^(2)) + (Summation_{l=eps}^{2^(t - 1) - 1} 1 / l^(2))) = (2 * (Summation_{l=eps}^{2^(t - 1) - 1} 1 / l^(2)))"
      ]
     },
     "execution_count": 224,
     "metadata": {},
     "output_type": "execute_result"
    }
   ],
   "source": [
    "Y21 = addSums.specialize({Operation(f,l):Y19.rhs.operands[0].summand}).specialize({a:Y19.rhs.operands[0].domain.lowerBound, b:Y19.rhs.operands[0].domain.upperBound})\n",
    "Y21.proven({epsInDomain})"
   ]
  },
  {
   "cell_type": "code",
   "execution_count": 225,
   "metadata": {
    "collapsed": false
   },
   "outputs": [
    {
     "data": {
      "text/latex": [
       "$\\left(\\left(\\left(\\sum_{l=\\varepsilon}^{2^{t - 1} - 1} \\frac{1}{l^{2}}\\right) - \\frac{1}{\\varepsilon^{2}}\\right) + \\left(\\sum_{l=\\varepsilon}^{2^{t - 1} - 1} \\frac{1}{l^{2}}\\right)\\right) = \\left(\\left(2 \\cdot \\left(\\sum_{l=\\varepsilon}^{2^{t - 1} - 1} \\frac{1}{l^{2}}\\right)\\right) + \\left(-\\frac{1}{\\varepsilon^{2}}\\right)\\right)$"
      ],
      "text/plain": [
       "(((Summation_{l=eps}^{2^(t - 1) - 1} 1 / l^(2)) - 1 / eps^(2)) + (Summation_{l=eps}^{2^(t - 1) - 1} 1 / l^(2))) = ((2 * (Summation_{l=eps}^{2^(t - 1) - 1} 1 / l^(2))) + (-1 / eps^(2)))"
      ]
     },
     "execution_count": 225,
     "metadata": {},
     "output_type": "execute_result"
    }
   ],
   "source": [
    "Y22 = Y21.rhsSubstitute(Y20)\n",
    "Y22.proven({epsInDomain})"
   ]
  },
  {
   "cell_type": "code",
   "execution_count": 226,
   "metadata": {
    "collapsed": false
   },
   "outputs": [
    {
     "data": {
      "text/latex": [
       "$\\forall_{a, b \\in \\mathbb{R}~|~b \\leq 0} \\left(\\left(a + b\\right) \\leq a\\right)$"
      ],
      "text/plain": [
       "forall_{a, b in Reals | b <= 0} ((a + b) <= a)"
      ]
     },
     "execution_count": 226,
     "metadata": {},
     "output_type": "execute_result"
    }
   ],
   "source": [
    "ineqThm6a"
   ]
  },
  {
   "cell_type": "code",
   "execution_count": 227,
   "metadata": {
    "collapsed": false
   },
   "outputs": [
    {
     "data": {
      "text/latex": [
       "$\\left(-\\frac{1}{\\varepsilon^{2}}\\right) \\leq 0$"
      ],
      "text/plain": [
       "(-1 / eps^(2)) <= 0"
      ]
     },
     "execution_count": 227,
     "metadata": {},
     "output_type": "execute_result"
    }
   ],
   "source": [
    "deduceNegative(Y22.rhs.operands[1], {epsInDomain}).deriveRelaxed({epsInDomain})"
   ]
  },
  {
   "cell_type": "code",
   "execution_count": 228,
   "metadata": {
    "collapsed": false
   },
   "outputs": [
    {
     "data": {
      "text/latex": [
       "$\\left(\\left(2 \\cdot \\left(\\sum_{l=\\varepsilon}^{2^{t - 1} - 1} \\frac{1}{l^{2}}\\right)\\right) + \\left(-\\frac{1}{\\varepsilon^{2}}\\right)\\right) \\leq \\left(2 \\cdot \\left(\\sum_{l=\\varepsilon}^{2^{t - 1} - 1} \\frac{1}{l^{2}}\\right)\\right)$"
      ],
      "text/plain": [
       "((2 * (Summation_{l=eps}^{2^(t - 1) - 1} 1 / l^(2))) + (-1 / eps^(2))) <= (2 * (Summation_{l=eps}^{2^(t - 1) - 1} 1 / l^(2)))"
      ]
     },
     "execution_count": 228,
     "metadata": {},
     "output_type": "execute_result"
    }
   ],
   "source": [
    "deduceInReals(Y22.rhs.operands[0], {epsInDomain})\n",
    "deduceInReals(Y22.rhs.operands[1], {epsInDomain})\n",
    "Y23 = ineqThm6a.specialize({a:Y22.rhs.operands[0], b:Y22.rhs.operands[1]})\n",
    "Y23.proven({epsInDomain})"
   ]
  },
  {
   "cell_type": "code",
   "execution_count": 229,
   "metadata": {
    "collapsed": false
   },
   "outputs": [
    {
     "data": {
      "text/latex": [
       "$\\left(2 \\cdot \\left(\\sum_{l=\\varepsilon}^{2^{t - 1} - 1} \\frac{1}{l^{2}}\\right)\\right) \\geq \\left(\\left(\\left(\\sum_{l=\\varepsilon}^{2^{t - 1} - 1} \\frac{1}{l^{2}}\\right) - \\frac{1}{\\varepsilon^{2}}\\right) + \\left(\\sum_{l=\\varepsilon}^{2^{t - 1} - 1} \\frac{1}{l^{2}}\\right)\\right)$"
      ],
      "text/plain": [
       "(2 * (Summation_{l=eps}^{2^(t - 1) - 1} 1 / l^(2))) >= (((Summation_{l=eps}^{2^(t - 1) - 1} 1 / l^(2)) - 1 / eps^(2)) + (Summation_{l=eps}^{2^(t - 1) - 1} 1 / l^(2)))"
      ]
     },
     "execution_count": 229,
     "metadata": {},
     "output_type": "execute_result"
    }
   ],
   "source": [
    "Y24 = Relation(Y22).update(Y23).deriveReversed()\n",
    "Y24.proven({epsInDomain})"
   ]
  },
  {
   "cell_type": "code",
   "execution_count": 230,
   "metadata": {
    "collapsed": false
   },
   "outputs": [
    {
     "data": {
      "text/latex": [
       "$\\forall_{a, b, c \\in \\mathbb{R}~|~c > 0, a \\geq b} \\left(\\left(c \\cdot a\\right) \\geq \\left(c \\cdot b\\right)\\right)$"
      ],
      "text/plain": [
       "forall_{a, b, c in Reals | c > 0, a >= b} ((c * a) >= (c * b))"
      ]
     },
     "execution_count": 230,
     "metadata": {},
     "output_type": "execute_result"
    }
   ],
   "source": [
    "ineqThm5"
   ]
  },
  {
   "cell_type": "code",
   "execution_count": 231,
   "metadata": {
    "collapsed": false
   },
   "outputs": [
    {
     "data": {
      "text/latex": [
       "$\\left(\\frac{1}{4} \\cdot \\left(2 \\cdot \\left(\\sum_{l=\\varepsilon}^{2^{t - 1} - 1} \\frac{1}{l^{2}}\\right)\\right)\\right) \\geq \\left(\\frac{1}{4} \\cdot \\left(\\left(\\left(\\sum_{l=\\varepsilon}^{2^{t - 1} - 1} \\frac{1}{l^{2}}\\right) - \\frac{1}{\\varepsilon^{2}}\\right) + \\left(\\sum_{l=\\varepsilon}^{2^{t - 1} - 1} \\frac{1}{l^{2}}\\right)\\right)\\right)$"
      ],
      "text/plain": [
       "(1 / 4 * (2 * (Summation_{l=eps}^{2^(t - 1) - 1} 1 / l^(2)))) >= (1 / 4 * (((Summation_{l=eps}^{2^(t - 1) - 1} 1 / l^(2)) - 1 / eps^(2)) + (Summation_{l=eps}^{2^(t - 1) - 1} 1 / l^(2))))"
      ]
     },
     "execution_count": 231,
     "metadata": {},
     "output_type": "execute_result"
    }
   ],
   "source": [
    "deduceInReals(Y24.lhs, {epsInDomain})\n",
    "deduceInReals(Y24.rhs, {epsInDomain})\n",
    "Y25 = ineqThm5.specialize({a:Y24.lhs, b:Y24.rhs, c:Fraction(one,four)})\n",
    "Y25.proven({epsInDomain})"
   ]
  },
  {
   "cell_type": "code",
   "execution_count": 232,
   "metadata": {
    "collapsed": false
   },
   "outputs": [
    {
     "data": {
      "text/latex": [
       "$P_{\\rm fail}\\left(\\varepsilon\\right) \\leq \\left(\\frac{1}{4} \\cdot \\left(2 \\cdot \\left(\\sum_{l=\\varepsilon}^{2^{t - 1} - 1} \\frac{1}{l^{2}}\\right)\\right)\\right)$"
      ],
      "text/plain": [
       "Pfail(eps) <= (1 / 4 * (2 * (Summation_{l=eps}^{2^(t - 1) - 1} 1 / l^(2))))"
      ]
     },
     "execution_count": 232,
     "metadata": {},
     "output_type": "execute_result"
    }
   ],
   "source": [
    "X13 = Relation(X12).update(Y25)\n",
    "X13.proven({epsInDomain})"
   ]
  },
  {
   "cell_type": "code",
   "execution_count": 233,
   "metadata": {
    "collapsed": false
   },
   "outputs": [
    {
     "data": {
      "text/latex": [
       "$P_{\\rm fail}\\left(\\varepsilon\\right) \\leq \\left(\\frac{1}{4} \\cdot 2 \\cdot \\left(\\sum_{l=\\varepsilon}^{2^{t - 1} - 1} \\frac{1}{l^{2}}\\right)\\right)$"
      ],
      "text/plain": [
       "Pfail(eps) <= (1 / 4 * 2 * (Summation_{l=eps}^{2^(t - 1) - 1} 1 / l^(2)))"
      ]
     },
     "execution_count": 233,
     "metadata": {},
     "output_type": "execute_result"
    }
   ],
   "source": [
    "X14 = Relation(X13).update(X13.rhs.ungroup(1, assumptions=groupAndUngroupAssumptions))\n",
    "X14.proven({epsInDomain})"
   ]
  },
  {
   "cell_type": "code",
   "execution_count": 234,
   "metadata": {
    "collapsed": false
   },
   "outputs": [
    {
     "data": {
      "text/latex": [
       "$\\left(\\frac{1}{4} \\cdot 2 \\cdot \\left(\\sum_{l=\\varepsilon}^{2^{t - 1} - 1} \\frac{1}{l^{2}}\\right)\\right) = \\left(\\frac{1}{2} \\cdot \\left(\\sum_{l=\\varepsilon}^{2^{t - 1} - 1} \\frac{1}{l^{2}}\\right)\\right)$"
      ],
      "text/plain": [
       "(1 / 4 * 2 * (Summation_{l=eps}^{2^(t - 1) - 1} 1 / l^(2))) = (1 / 2 * (Summation_{l=eps}^{2^(t - 1) - 1} 1 / l^(2)))"
      ]
     },
     "execution_count": 234,
     "metadata": {},
     "output_type": "execute_result"
    }
   ],
   "source": [
    "Y26 = simplifyQuarterTimesTwo.rhsSubstitute(X14.rhs.group(0,2, assumptions=groupAndUngroupAssumptions))\n",
    "Y26.proven({epsInDomain})"
   ]
  },
  {
   "cell_type": "code",
   "execution_count": 235,
   "metadata": {
    "collapsed": false
   },
   "outputs": [
    {
     "data": {
      "text/latex": [
       "$P_{\\rm fail}\\left(\\varepsilon\\right) \\leq \\left(\\frac{1}{2} \\cdot \\left(\\sum_{l=\\varepsilon}^{2^{t - 1} - 1} \\frac{1}{l^{2}}\\right)\\right)$"
      ],
      "text/plain": [
       "Pfail(eps) <= (1 / 2 * (Summation_{l=eps}^{2^(t - 1) - 1} 1 / l^(2)))"
      ]
     },
     "execution_count": 235,
     "metadata": {},
     "output_type": "execute_result"
    }
   ],
   "source": [
    "X15 = Relation(X14).update(Y26)\n",
    "X15.proven({epsInDomain})"
   ]
  },
  {
   "cell_type": "code",
   "execution_count": 236,
   "metadata": {
    "collapsed": false
   },
   "outputs": [
    {
     "data": {
      "text/latex": [
       "$\\forall_{f \\in MonDecFuncs} \\left[\\forall_{a, b \\in \\mathbb{Z}~|~a \\leq b} \\left(\\left(\\sum_{x=a}^{b} f\\left(x\\right)\\right) \\leq \\left(f\\left(a\\right) + \\int_{a}^{b}f\\left(x\\right)dx\\right)\\right)\\right]$"
      ],
      "text/plain": [
       "forall_{f in MonDecFuncs} [forall_{a, b in Integers | a <= b} ((Summation_{x=a}^{b} f(x)) <= (f(a) + Integrate_{a}^{b}f(x)dx))]"
      ]
     },
     "execution_count": 236,
     "metadata": {},
     "output_type": "execute_result"
    }
   ],
   "source": [
    "sumIntegrateIneq1"
   ]
  },
  {
   "cell_type": "code",
   "execution_count": 237,
   "metadata": {
    "collapsed": false
   },
   "outputs": [
    {
     "data": {
      "text/latex": [
       "$\\left[\\left(l\\right) \\rightarrow \\frac{1}{l^{2}}\\right] \\in MonDecFuncs$"
      ],
      "text/plain": [
       "[(l) -> 1 / l^(2)] in MonDecFuncs"
      ]
     },
     "execution_count": 237,
     "metadata": {},
     "output_type": "execute_result"
    }
   ],
   "source": [
    "inverseSqrdIsMonDecFunc"
   ]
  },
  {
   "cell_type": "code",
   "execution_count": 238,
   "metadata": {
    "collapsed": false
   },
   "outputs": [
    {
     "data": {
      "text/latex": [
       "$\\varepsilon < \\left(\\varepsilon + 1\\right)$"
      ],
      "text/plain": [
       "eps < (eps + 1)"
      ]
     },
     "metadata": {},
     "output_type": "display_data"
    },
    {
     "data": {
      "text/latex": [
       "$\\varepsilon \\leq \\left(2^{t - 1} - 1\\right)$"
      ],
      "text/plain": [
       "eps <= (2^(t - 1) - 1)"
      ]
     },
     "execution_count": 238,
     "metadata": {},
     "output_type": "execute_result"
    }
   ],
   "source": [
    "epsLessShiftedEps = Add(eps, one).deduceStrictIncrease(0, {epsInDomain}).deriveReversed().proven({epsInDomain})\n",
    "display(epsLessShiftedEps)\n",
    "epsLessShiftedEps.applyTransitivity(shiftedEpsUpperBound).deriveRelaxed({epsInDomain}).proven({epsInDomain})"
   ]
  },
  {
   "cell_type": "code",
   "execution_count": 239,
   "metadata": {
    "collapsed": false
   },
   "outputs": [
    {
     "data": {
      "text/latex": [
       "$\\left(\\sum_{l=\\varepsilon}^{2^{t - 1} - 1} \\frac{1}{l^{2}}\\right) \\leq \\left(\\frac{1}{\\varepsilon^{2}} + \\int_{\\varepsilon}^{2^{t - 1} - 1}\\frac{1}{l^{2}}dl\\right)$"
      ],
      "text/plain": [
       "(Summation_{l=eps}^{2^(t - 1) - 1} 1 / l^(2)) <= (1 / eps^(2) + Integrate_{eps}^{2^(t - 1) - 1}1 / l^(2)dl)"
      ]
     },
     "execution_count": 239,
     "metadata": {},
     "output_type": "execute_result"
    }
   ],
   "source": [
    "deduceInIntegers(shiftedPosDomain.lowerBound, {epsInDomain})\n",
    "deduceInIntegers(shiftedPosDomain.upperBound)\n",
    "Y27 = sumIntegrateIneq1.specialize({Operation(f,l):X15.rhs.operands[1].summand, x:l}).specialize({a:shiftedPosDomain.lowerBound,b:shiftedPosDomain.upperBound})\n",
    "Y27.proven({epsInDomain})"
   ]
  },
  {
   "cell_type": "code",
   "execution_count": 240,
   "metadata": {
    "collapsed": false
   },
   "outputs": [
    {
     "data": {
      "text/latex": [
       "$\\forall_{a, b \\in \\mathbb{R}^+~|~a \\leq b} \\left(\\int_{a}^{b}\\frac{1}{l^{2}}dl \\leq \\frac{1}{a}\\right)$"
      ],
      "text/plain": [
       "forall_{a, b in RealsPos | a <= b} (Integrate_{a}^{b}1 / l^(2)dl <= 1 / a)"
      ]
     },
     "execution_count": 240,
     "metadata": {},
     "output_type": "execute_result"
    }
   ],
   "source": [
    "boundedInvSqrdIntegral"
   ]
  },
  {
   "cell_type": "code",
   "execution_count": 241,
   "metadata": {
    "collapsed": false
   },
   "outputs": [
    {
     "data": {
      "text/latex": [
       "$\\varepsilon \\leq \\left(2^{t - 1} - 1\\right)$"
      ],
      "text/plain": [
       "eps <= (2^(t - 1) - 1)"
      ]
     },
     "execution_count": 241,
     "metadata": {},
     "output_type": "execute_result"
    }
   ],
   "source": [
    "relaxedEpsUpperBound = Add(eps, one).deduceStrictIncrease(0, {epsInDomain}).applyTransitivity(shiftedEpsUpperBound).deriveReversed().deriveRelaxed({epsInDomain})\n",
    "relaxedEpsUpperBound.proven({epsInDomain})"
   ]
  },
  {
   "cell_type": "code",
   "execution_count": 242,
   "metadata": {
    "collapsed": false
   },
   "outputs": [
    {
     "data": {
      "text/latex": [
       "$\\left(2^{t - 1} - 1\\right) \\in \\mathbb{R}^+$"
      ],
      "text/plain": [
       "(2^(t - 1) - 1) in RealsPos"
      ]
     },
     "execution_count": 242,
     "metadata": {},
     "output_type": "execute_result"
    }
   ],
   "source": [
    "deducePositive(eps, {epsInDomain}).applyTransitivity(relaxedEpsUpperBound).proven({epsInDomain})\n",
    "deduceInRealsPos(relaxedEpsUpperBound.rhs, {epsInDomain}).proven({epsInDomain})"
   ]
  },
  {
   "cell_type": "code",
   "execution_count": 243,
   "metadata": {
    "collapsed": false
   },
   "outputs": [
    {
     "data": {
      "text/latex": [
       "$\\int_{\\varepsilon}^{2^{t - 1} - 1}\\frac{1}{l^{2}}dl \\leq \\frac{1}{\\varepsilon}$"
      ],
      "text/plain": [
       "Integrate_{eps}^{2^(t - 1) - 1}1 / l^(2)dl <= 1 / eps"
      ]
     },
     "execution_count": 243,
     "metadata": {},
     "output_type": "execute_result"
    }
   ],
   "source": [
    "Y28 = boundedInvSqrdIntegral.specialize({a:eps, b:relaxedEpsUpperBound.rhs})\n",
    "Y28.proven({epsInDomain})"
   ]
  },
  {
   "cell_type": "code",
   "execution_count": 244,
   "metadata": {
    "collapsed": false
   },
   "outputs": [
    {
     "data": {
      "text/latex": [
       "$\\left(\\int_{\\varepsilon}^{2^{t - 1} - 1}\\frac{1}{l^{2}}dl + \\frac{1}{\\varepsilon^{2}}\\right) \\leq \\left(\\frac{1}{\\varepsilon} + \\frac{1}{\\varepsilon^{2}}\\right)$"
      ],
      "text/plain": [
       "(Integrate_{eps}^{2^(t - 1) - 1}1 / l^(2)dl + 1 / eps^(2)) <= (1 / eps + 1 / eps^(2))"
      ]
     },
     "execution_count": 244,
     "metadata": {},
     "output_type": "execute_result"
    }
   ],
   "source": [
    "lLowerBound = Y28.lhs.domain.deduceMemberLowerBound(l, {epsInDomain})\n",
    "lLowerBound.deriveReversed().applyTransitivity(deducePositive(eps, {epsInDomain})).proven({epsInDomain, In(l, Y28.lhs.domain)})\n",
    "Y29 = Y28.deriveShifted(Fraction(one, Exponentiate(eps, two)), {epsInDomain})\n",
    "Y29.proven({epsInDomain})"
   ]
  },
  {
   "cell_type": "code",
   "execution_count": 245,
   "metadata": {
    "collapsed": false
   },
   "outputs": [
    {
     "data": {
      "text/latex": [
       "$\\left(\\sum_{l=\\varepsilon}^{2^{t - 1} - 1} \\frac{1}{l^{2}}\\right) \\leq \\left(\\frac{1}{\\varepsilon} + \\frac{1}{\\varepsilon^{2}}\\right)$"
      ],
      "text/plain": [
       "(Summation_{l=eps}^{2^(t - 1) - 1} 1 / l^(2)) <= (1 / eps + 1 / eps^(2))"
      ]
     },
     "execution_count": 245,
     "metadata": {},
     "output_type": "execute_result"
    }
   ],
   "source": [
    "Y30 = autoSubstitute(Y29, 'commute', [], {'assumptions':{epsInDomain}}, superExpr=Y29.lhs).applyTransitivity(Y27)\n",
    "Y30.proven({epsInDomain})"
   ]
  },
  {
   "cell_type": "code",
   "execution_count": 246,
   "metadata": {
    "collapsed": false
   },
   "outputs": [
    {
     "data": {
      "text/latex": [
       "$\\forall_{a, b, c \\in \\mathbb{R}~|~c > 0, a \\geq b} \\left(\\left(c \\cdot a\\right) \\geq \\left(c \\cdot b\\right)\\right)$"
      ],
      "text/plain": [
       "forall_{a, b, c in Reals | c > 0, a >= b} ((c * a) >= (c * b))"
      ]
     },
     "execution_count": 246,
     "metadata": {},
     "output_type": "execute_result"
    }
   ],
   "source": [
    "ineqThm5"
   ]
  },
  {
   "cell_type": "code",
   "execution_count": 247,
   "metadata": {
    "collapsed": false
   },
   "outputs": [
    {
     "data": {
      "text/latex": [
       "$\\left(\\frac{1}{2} \\cdot \\left(\\frac{1}{\\varepsilon} + \\frac{1}{\\varepsilon^{2}}\\right)\\right) \\geq \\left(\\frac{1}{2} \\cdot \\left(\\sum_{l=\\varepsilon}^{2^{t - 1} - 1} \\frac{1}{l^{2}}\\right)\\right)$"
      ],
      "text/plain": [
       "(1 / 2 * (1 / eps + 1 / eps^(2))) >= (1 / 2 * (Summation_{l=eps}^{2^(t - 1) - 1} 1 / l^(2)))"
      ]
     },
     "execution_count": 247,
     "metadata": {},
     "output_type": "execute_result"
    }
   ],
   "source": [
    "Y30.deriveReversed().proven({epsInDomain})\n",
    "deduceInReals(Fraction(one,two))\n",
    "deducePositive(Fraction(one, two))\n",
    "deduceInReals(Y30.lhs, {epsInDomain})\n",
    "deduceInReals(Y30.rhs, {epsInDomain})\n",
    "Y31 = ineqThm5.specialize({a:Y30.rhs, b:Y30.lhs, c:Fraction(one,two)})\n",
    "Y31.proven({epsInDomain})"
   ]
  },
  {
   "cell_type": "code",
   "execution_count": 248,
   "metadata": {
    "collapsed": false
   },
   "outputs": [
    {
     "data": {
      "text/latex": [
       "$P_{\\rm fail}\\left(\\varepsilon\\right) \\leq \\left(\\frac{1}{2} \\cdot \\left(\\frac{1}{\\varepsilon} + \\frac{1}{\\varepsilon^{2}}\\right)\\right)$"
      ],
      "text/plain": [
       "Pfail(eps) <= (1 / 2 * (1 / eps + 1 / eps^(2)))"
      ]
     },
     "execution_count": 248,
     "metadata": {},
     "output_type": "execute_result"
    }
   ],
   "source": [
    "X16 = Relation(X15).update(Y31)\n",
    "X16.proven({epsInDomain})"
   ]
  },
  {
   "cell_type": "code",
   "execution_count": 249,
   "metadata": {
    "collapsed": false
   },
   "outputs": [
    {
     "data": {
      "text/latex": [
       "$\\forall_{\\varepsilon \\in \\{1\\ldots \\left(2^{t - 1} - 2\\right)\\}} \\left(P_{\\rm fail}\\left(\\varepsilon\\right) \\leq \\left(\\frac{1}{2} \\cdot \\left(\\frac{1}{\\varepsilon} + \\frac{1}{\\varepsilon^{2}}\\right)\\right)\\right)$"
      ],
      "text/plain": [
       "forall_{eps in \\{1...(2^(t - 1) - 2)\\}} (Pfail(eps) <= (1 / 2 * (1 / eps + 1 / eps^(2))))"
      ]
     },
     "execution_count": 249,
     "metadata": {},
     "output_type": "execute_result"
    }
   ],
   "source": [
    "X16.generalize(eps, domain=epsInDomain.domain).proven()"
   ]
  }
 ],
 "metadata": {
  "kernelspec": {
   "display_name": "Python 2",
   "language": "python",
   "name": "python2"
  },
  "language_info": {
   "codemirror_mode": {
    "name": "ipython",
    "version": 2
   },
   "file_extension": ".py",
   "mimetype": "text/x-python",
   "name": "python",
   "nbconvert_exporter": "python",
   "pygments_lexer": "ipython2",
   "version": "2.7.10"
  }
 },
 "nbformat": 4,
 "nbformat_minor": 0
}
