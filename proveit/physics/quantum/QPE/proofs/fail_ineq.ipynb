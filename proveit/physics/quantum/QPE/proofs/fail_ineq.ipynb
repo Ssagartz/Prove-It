{
 "cells": [
  {
   "cell_type": "code",
   "execution_count": 1,
   "metadata": {
    "collapsed": false
   },
   "outputs": [],
   "source": [
    "from proveit.basiclogic import autoSubstitute, autoSubstitution, In, Equation, And, compose\n",
    "from proveit.number.arithmeticOps import *\n",
    "from proveit.common import a, b, k, l, r, x, eps\n",
    "from proveit.number import Exponentiate, Add, Subtract, Multiply, Abs\n",
    "from proveit.number.common import *\n",
    "from proveit.physics.quantum.QPE.axioms import tInNaturalsPos, modAddDef\n",
    "from proveit.physics.quantum.QPE.theorems import posDomainInFullDomain, negDomainInFullDomain, \\\n",
    "    two_pow_tMinusOne_in_posnats, phaseInReals, all_alpha_l_sqrd_in_reals, deltaInReals, \\\n",
    "    scaledDeltaInInterval, scaledDeltaNotNonzeroInt, alpha_l_sqrd_ineq, fail_sum, evalPfailIntegral\n",
    "from proveit.physics.quantum.QPE.common import alpha_l, alpha_l_sqrd, t_, delta_\n",
    "from proveit.physics.quantum.QPE.phaseEstOps import Psuccess, Pfail, ModAdd\n",
    "from proveit.number.theorems import splitSumOneElem, addSums\n",
    "from proveit.number.complex.theorems import powOfProd, cancelSubAndAdd, negNeg, cancelAddNeg, convertAddNegToSub, distributeNegOverAdd\n",
    "from proveit.number.integer.theorems import sumIneq1, sumIneq2, indexShift, sumEq, evenFuncSum, sumIntegrateIneq1\n",
    "from proveit.number.relation import Relation\n",
    "from proveit.number.real.theorems import sumFactor_temp, ineqThm5, ineqThm6a, ineqThm7a, ineqThm8a, simplifyQuarterTimesTwo\n",
    "from proveit.basiclogic.set import Union\n",
    "from IPython.display import display"
   ]
  },
  {
   "cell_type": "code",
   "execution_count": 2,
   "metadata": {
    "collapsed": true
   },
   "outputs": [],
   "source": [
    "def showExprTree(expr, indent = ''):\n",
    "    print indent + str(expr.__class__) + \": \" + str(expr)\n",
    "    for subExpr in expr._subExpressions:\n",
    "        showExprTree(subExpr, indent + '  ')"
   ]
  },
  {
   "cell_type": "code",
   "execution_count": 3,
   "metadata": {
    "collapsed": false
   },
   "outputs": [
    {
     "data": {
      "text/latex": [
       "$\\varepsilon \\in \\mathbb{N}^{+}$"
      ],
      "text/plain": [
       "eps in NaturalsPos"
      ]
     },
     "execution_count": 3,
     "metadata": {},
     "output_type": "execute_result"
    }
   ],
   "source": [
    "epsInPosNats = In(eps, NaturalsPos)\n",
    "epsInPosNats"
   ]
  },
  {
   "cell_type": "code",
   "execution_count": 4,
   "metadata": {
    "collapsed": false
   },
   "outputs": [
    {
     "data": {
      "text/latex": [
       "$P_{\\rm fail}\\left(\\varepsilon\\right) = \\left(\\left(\\sum_{l=\\left(-2^{t - 1}\\right) + 1}^{-\\left(\\varepsilon + 1\\right)} \\left|\\alpha_{l}\\right|^{2}\\right) + \\left(\\sum_{l=\\varepsilon + 1}^{2^{t - 1}} \\left|\\alpha_{l}\\right|^{2}\\right)\\right)$"
      ],
      "text/plain": [
       "Pfail(eps) = ((Summation_{l=(-2^(t - 1)) + 1}^{-(eps + 1)} |alpha_{l}|^(2)) + (Summation_{l=eps + 1}^{2^(t - 1)} |alpha_{l}|^(2)))"
      ]
     },
     "execution_count": 4,
     "metadata": {},
     "output_type": "execute_result"
    }
   ],
   "source": [
    "fail_sum_special = fail_sum.specialize().proven({epsInPosNats})\n",
    "fail_sum_special"
   ]
  },
  {
   "cell_type": "code",
   "execution_count": 5,
   "metadata": {
    "collapsed": false
   },
   "outputs": [
    {
     "data": {
      "text/latex": [
       "$\\{\\left(-2^{t - 1}\\right) + 1\\ldots -\\left(\\varepsilon + 1\\right)\\}$"
      ],
      "text/plain": [
       "\\{(-2^(t - 1)) + 1...-(eps + 1)\\}"
      ]
     },
     "metadata": {},
     "output_type": "display_data"
    },
    {
     "data": {
      "text/latex": [
       "$\\{\\varepsilon + 1\\ldots 2^{t - 1}\\}$"
      ],
      "text/plain": [
       "\\{eps + 1...2^(t - 1)\\}"
      ]
     },
     "metadata": {},
     "output_type": "display_data"
    },
    {
     "data": {
      "text/latex": [
       "$\\{\\left(-2^{t - 1}\\right) + 1\\ldots 2^{t - 1}\\}$"
      ],
      "text/plain": [
       "\\{(-2^(t - 1)) + 1...2^(t - 1)\\}"
      ]
     },
     "metadata": {},
     "output_type": "display_data"
    }
   ],
   "source": [
    "negDomain = fail_sum_special.rhs.operands[0].domain\n",
    "posDomain = fail_sum_special.rhs.operands[1].domain\n",
    "fullDomain = DiscreteContiguousSet(negDomain.lowerBound, posDomain.upperBound)\n",
    "display(negDomain)\n",
    "display(posDomain)\n",
    "display(fullDomain)"
   ]
  },
  {
   "cell_type": "code",
   "execution_count": 6,
   "metadata": {
    "collapsed": false
   },
   "outputs": [
    {
     "data": {
      "text/latex": [
       "$l \\in \\{\\left(\\left(-2^{t - 1}\\right) + 1\\right)\\ldots 2^{t - 1}\\}$"
      ],
      "text/plain": [
       "l in \\{((-2^(t - 1)) + 1)...2^(t - 1)\\}"
      ]
     },
     "metadata": {},
     "output_type": "display_data"
    },
    {
     "data": {
      "text/latex": [
       "$l \\neq 0$"
      ],
      "text/plain": [
       "l != 0"
      ]
     },
     "metadata": {},
     "output_type": "display_data"
    }
   ],
   "source": [
    "lInDomain = In(l, fullDomain)\n",
    "lNotZero = NotEquals(l, zero)\n",
    "display(lInDomain)\n",
    "display(lNotZero)\n"
   ]
  },
  {
   "cell_type": "code",
   "execution_count": 7,
   "metadata": {
    "collapsed": false
   },
   "outputs": [
    {
     "data": {
      "text/latex": [
       "$l \\in \\{\\left(\\left(-2^{t - 1}\\right) + 1\\right)\\ldots 2^{t - 1}\\}$"
      ],
      "text/plain": [
       "l in \\{((-2^(t - 1)) + 1)...2^(t - 1)\\}"
      ]
     },
     "metadata": {},
     "output_type": "display_data"
    },
    {
     "data": {
      "text/latex": [
       "$l \\in \\{\\left(\\left(-2^{t - 1}\\right) + 1\\right)\\ldots 2^{t - 1}\\}$"
      ],
      "text/plain": [
       "l in \\{((-2^(t - 1)) + 1)...2^(t - 1)\\}"
      ]
     },
     "metadata": {},
     "output_type": "display_data"
    },
    {
     "data": {
      "text/latex": [
       "$l \\in \\mathbb{Z}$"
      ],
      "text/plain": [
       "l in Integers"
      ]
     },
     "metadata": {},
     "output_type": "display_data"
    },
    {
     "data": {
      "text/latex": [
       "$l \\in \\mathbb{Z}$"
      ],
      "text/plain": [
       "l in Integers"
      ]
     },
     "metadata": {},
     "output_type": "display_data"
    }
   ],
   "source": [
    "display(negDomainInFullDomain.specialize().specialize().proven({epsInPosNats, In(l, negDomain)}))\n",
    "display(posDomainInFullDomain.specialize().specialize().proven({epsInPosNats, In(l, posDomain)}))\n",
    "display(negDomain.deduceMemberInIntegers(l, {epsInPosNats}).proven({epsInPosNats, In(l,negDomain)}))\n",
    "display(posDomain.deduceMemberInIntegers(l, {epsInPosNats}).proven({epsInPosNats, In(l,posDomain)}))"
   ]
  },
  {
   "cell_type": "code",
   "execution_count": 8,
   "metadata": {
    "collapsed": false
   },
   "outputs": [
    {
     "data": {
      "text/latex": [
       "$l < 0$"
      ],
      "text/plain": [
       "l < 0"
      ]
     },
     "metadata": {},
     "output_type": "display_data"
    },
    {
     "data": {
      "text/latex": [
       "$l \\leq 0$"
      ],
      "text/plain": [
       "l <= 0"
      ]
     },
     "metadata": {},
     "output_type": "display_data"
    },
    {
     "data": {
      "text/latex": [
       "$l > 0$"
      ],
      "text/plain": [
       "l > 0"
      ]
     },
     "metadata": {},
     "output_type": "display_data"
    }
   ],
   "source": [
    "lInNegDomainIsNeg = negDomain.deduceMemberIsNegative(l, {epsInPosNats})\n",
    "display(lInNegDomainIsNeg.proven({epsInPosNats, In(l, negDomain)}))\n",
    "display(lInNegDomainIsNeg.deriveRelaxed({epsInPosNats, In(l, negDomain)}).proven({epsInPosNats, In(l, negDomain)}))\n",
    "display(posDomain.deduceMemberIsPositive(l, {epsInPosNats}).proven({epsInPosNats, In(l, posDomain)}))"
   ]
  },
  {
   "cell_type": "code",
   "execution_count": 9,
   "metadata": {
    "collapsed": false
   },
   "outputs": [
    {
     "data": {
      "text/latex": [
       "$\\left(\\varepsilon + 1\\right) > 1$"
      ],
      "text/plain": [
       "(eps + 1) > 1"
      ]
     },
     "metadata": {},
     "output_type": "display_data"
    },
    {
     "data": {
      "text/latex": [
       "$l \\geq \\left(\\varepsilon + 1\\right)$"
      ],
      "text/plain": [
       "l >= (eps + 1)"
      ]
     },
     "metadata": {},
     "output_type": "display_data"
    },
    {
     "data": {
      "text/latex": [
       "$l > 1$"
      ],
      "text/plain": [
       "l > 1"
      ]
     },
     "metadata": {},
     "output_type": "display_data"
    },
    {
     "data": {
      "text/latex": [
       "$\\left(l - 1\\right) > 0$"
      ],
      "text/plain": [
       "(l - 1) > 0"
      ]
     },
     "metadata": {},
     "output_type": "display_data"
    }
   ],
   "source": [
    "epsPlusOneIneq = Add(eps, one).deduceStrictIncrease(1, {epsInPosNats}).proven({epsInPosNats})\n",
    "display(epsPlusOneIneq)\n",
    "posDomainLowerBound = posDomain.deduceMemberLowerBound(l, {epsInPosNats}).deriveReversed()\n",
    "display(posDomainLowerBound)\n",
    "posDomainGreaterThanOne = posDomainLowerBound.applyTransitivity(epsPlusOneIneq).proven({epsInPosNats, In(l, posDomain)})\n",
    "display(posDomainGreaterThanOne)\n",
    "display(deducePositive(Subtract(l, one), {epsInPosNats, In(l, posDomain)}).proven({epsInPosNats, In(l, posDomain)}))\n"
   ]
  },
  {
   "cell_type": "code",
   "execution_count": 10,
   "metadata": {
    "collapsed": false
   },
   "outputs": [
    {
     "data": {
      "text/latex": [
       "$l \\neq 0$"
      ],
      "text/plain": [
       "l != 0"
      ]
     },
     "metadata": {},
     "output_type": "display_data"
    },
    {
     "data": {
      "text/latex": [
       "$l \\neq 0$"
      ],
      "text/plain": [
       "l != 0"
      ]
     },
     "metadata": {},
     "output_type": "display_data"
    }
   ],
   "source": [
    "display(deduceNotZero(l, {epsInPosNats, In(l, negDomain)}).proven({epsInPosNats, In(l, negDomain)}))\n",
    "display(deduceNotZero(l, {epsInPosNats, In(l, posDomain)}).proven({epsInPosNats, In(l, posDomain)}))"
   ]
  },
  {
   "cell_type": "code",
   "execution_count": 11,
   "metadata": {
    "collapsed": false
   },
   "outputs": [
    {
     "data": {
      "text/latex": [
       "$\\left|\\alpha_{l}\\right|^{2} \\leq \\frac{1}{4 \\cdot \\left(l - \\left(2^{t} \\cdot \\delta\\right)\\right)^{2}}$"
      ],
      "text/plain": [
       "|alpha_{l}|^(2) <= 1 / (4 * (l - (2^(t) * delta))^(2))"
      ]
     },
     "execution_count": 11,
     "metadata": {},
     "output_type": "execute_result"
    }
   ],
   "source": [
    "Y0 = alpha_l_sqrd_ineq.specialize().proven({lInDomain, lNotZero})\n",
    "Y0"
   ]
  },
  {
   "cell_type": "code",
   "execution_count": 12,
   "metadata": {
    "collapsed": false
   },
   "outputs": [
    {
     "data": {
      "text/latex": [
       "$\\forall_{l \\in \\mathbb{Z}~|~l \\neq 0} \\left(\\left(2^{t} \\cdot \\delta\\right) \\neq l\\right)$"
      ],
      "text/plain": [
       "forall_{l in Integers | l != 0} ((2^(t) * delta) != l)"
      ]
     },
     "execution_count": 12,
     "metadata": {},
     "output_type": "execute_result"
    }
   ],
   "source": [
    "scaledDeltaNotNonzeroInt"
   ]
  },
  {
   "cell_type": "code",
   "execution_count": 13,
   "metadata": {
    "collapsed": false
   },
   "outputs": [
    {
     "data": {
      "text/latex": [
       "$\\left(2^{t} \\cdot \\delta\\right) \\neq l$"
      ],
      "text/plain": [
       "(2^(t) * delta) != l"
      ]
     },
     "metadata": {},
     "output_type": "display_data"
    },
    {
     "data": {
      "text/latex": [
       "$\\left(2^{t} \\cdot \\delta\\right) \\neq l$"
      ],
      "text/plain": [
       "(2^(t) * delta) != l"
      ]
     },
     "metadata": {},
     "output_type": "display_data"
    }
   ],
   "source": [
    "display(scaledDeltaNotNonzeroInt.specialize().proven({epsInPosNats, In(l, posDomain)}))\n",
    "display(scaledDeltaNotNonzeroInt.specialize().proven({epsInPosNats, In(l, negDomain)}))"
   ]
  },
  {
   "cell_type": "code",
   "execution_count": 14,
   "metadata": {
    "collapsed": false
   },
   "outputs": [
    {
     "data": {
      "text/latex": [
       "$\\forall_{a, b} \\left[\\forall_{m, n \\in \\mathbb{Z}} \\left(\\left[\\forall_{k \\in \\{m\\ldots n\\}} \\left(a\\left(k\\right) \\leq b\\left(k\\right)\\right)\\right] \\Rightarrow \\left(\\left(\\sum_{l=m}^{n} a\\left(l\\right)\\right) \\leq \\left(\\sum_{l=m}^{n} b\\left(l\\right)\\right)\\right)\\right)\\right]$"
      ],
      "text/plain": [
       "forall_{a, b} [forall_{m, n in Integers} ([forall_{k in \\{m...n\\}} (a(k) <= b(k))] => ((Summation_{l=m}^{n} a(l)) <= (Summation_{l=m}^{n} b(l))))]"
      ]
     },
     "execution_count": 14,
     "metadata": {},
     "output_type": "execute_result"
    }
   ],
   "source": [
    "sumIneq1"
   ]
  },
  {
   "cell_type": "code",
   "execution_count": 15,
   "metadata": {
    "collapsed": false
   },
   "outputs": [
    {
     "data": {
      "text/latex": [
       "$\\forall_{m, n \\in \\mathbb{Z}} \\left(\\left[\\forall_{k \\in \\{m\\ldots n\\}} \\left(\\left|\\alpha_{k}\\right|^{2} \\leq \\frac{1}{4 \\cdot \\left(k - \\left(2^{t} \\cdot \\delta\\right)\\right)^{2}}\\right)\\right] \\Rightarrow \\left(\\left(\\sum_{l=m}^{n} \\left|\\alpha_{l}\\right|^{2}\\right) \\leq \\left(\\sum_{l=m}^{n} \\frac{1}{4 \\cdot \\left(l - \\left(2^{t} \\cdot \\delta\\right)\\right)^{2}}\\right)\\right)\\right)$"
      ],
      "text/plain": [
       "forall_{m, n in Integers} ([forall_{k in \\{m...n\\}} (|alpha_{k}|^(2) <= 1 / (4 * (k - (2^(t) * delta))^(2)))] => ((Summation_{l=m}^{n} |alpha_{l}|^(2)) <= (Summation_{l=m}^{n} 1 / (4 * (l - (2^(t) * delta))^(2)))))"
      ]
     },
     "execution_count": 15,
     "metadata": {},
     "output_type": "execute_result"
    }
   ],
   "source": [
    "Y1a = sumIneq1.specialize({Operation(a,l):alpha_l_sqrd, Operation(b,l):Y0.rhs}).proven()\n",
    "Y1a"
   ]
  },
  {
   "cell_type": "code",
   "execution_count": 16,
   "metadata": {
    "collapsed": false
   },
   "outputs": [
    {
     "data": {
      "text/latex": [
       "$\\left(\\left(-2^{t - 1}\\right) + 1\\right) \\in \\mathbb{Z}$"
      ],
      "text/plain": [
       "((-2^(t - 1)) + 1) in Integers"
      ]
     },
     "metadata": {},
     "output_type": "display_data"
    },
    {
     "data": {
      "text/latex": [
       "$\\left(-\\left(\\varepsilon + 1\\right)\\right) \\in \\mathbb{Z}$"
      ],
      "text/plain": [
       "(-(eps + 1)) in Integers"
      ]
     },
     "metadata": {},
     "output_type": "display_data"
    }
   ],
   "source": [
    "display(negDomain.lowerBound.deduceInIntegers().proven())\n",
    "display(negDomain.upperBound.deduceInIntegers({epsInPosNats}).proven({epsInPosNats}))"
   ]
  },
  {
   "cell_type": "code",
   "execution_count": 17,
   "metadata": {
    "collapsed": false
   },
   "outputs": [
    {
     "data": {
      "text/latex": [
       "$\\left[\\forall_{k \\in \\{\\left(\\left(-2^{t - 1}\\right) + 1\\right)\\ldots \\left(-\\left(\\varepsilon + 1\\right)\\right)\\}} \\left(\\left|\\alpha_{k}\\right|^{2} \\leq \\frac{1}{4 \\cdot \\left(k - \\left(2^{t} \\cdot \\delta\\right)\\right)^{2}}\\right)\\right] \\Rightarrow \\left(\\left(\\sum_{l=\\left(-2^{t - 1}\\right) + 1}^{-\\left(\\varepsilon + 1\\right)} \\left|\\alpha_{l}\\right|^{2}\\right) \\leq \\left(\\sum_{l=\\left(-2^{t - 1}\\right) + 1}^{-\\left(\\varepsilon + 1\\right)} \\frac{1}{4 \\cdot \\left(l - \\left(2^{t} \\cdot \\delta\\right)\\right)^{2}}\\right)\\right)$"
      ],
      "text/plain": [
       "[forall_{k in \\{((-2^(t - 1)) + 1)...(-(eps + 1))\\}} (|alpha_{k}|^(2) <= 1 / (4 * (k - (2^(t) * delta))^(2)))] => ((Summation_{l=(-2^(t - 1)) + 1}^{-(eps + 1)} |alpha_{l}|^(2)) <= (Summation_{l=(-2^(t - 1)) + 1}^{-(eps + 1)} 1 / (4 * (l - (2^(t) * delta))^(2))))"
      ]
     },
     "execution_count": 17,
     "metadata": {},
     "output_type": "execute_result"
    }
   ],
   "source": [
    "Y1 = Y1a.specialize({m:negDomain.lowerBound, n:negDomain.upperBound}).proven({epsInPosNats})\n",
    "Y1"
   ]
  },
  {
   "cell_type": "code",
   "execution_count": 18,
   "metadata": {
    "collapsed": false
   },
   "outputs": [
    {
     "data": {
      "text/latex": [
       "$\\left(\\varepsilon + 1\\right) \\in \\mathbb{Z}$"
      ],
      "text/plain": [
       "(eps + 1) in Integers"
      ]
     },
     "metadata": {},
     "output_type": "display_data"
    },
    {
     "data": {
      "text/latex": [
       "$2^{t - 1} \\in \\mathbb{Z}$"
      ],
      "text/plain": [
       "2^(t - 1) in Integers"
      ]
     },
     "metadata": {},
     "output_type": "display_data"
    }
   ],
   "source": [
    "display(posDomain.lowerBound.deduceInIntegers({epsInPosNats}).proven({epsInPosNats}))\n",
    "display(posDomain.upperBound.deduceInIntegers().proven({epsInPosNats}))"
   ]
  },
  {
   "cell_type": "code",
   "execution_count": 19,
   "metadata": {
    "collapsed": false
   },
   "outputs": [
    {
     "data": {
      "text/latex": [
       "$\\left[\\forall_{k \\in \\{\\left(\\varepsilon + 1\\right)\\ldots 2^{t - 1}\\}} \\left(\\left|\\alpha_{k}\\right|^{2} \\leq \\frac{1}{4 \\cdot \\left(k - \\left(2^{t} \\cdot \\delta\\right)\\right)^{2}}\\right)\\right] \\Rightarrow \\left(\\left(\\sum_{l=\\varepsilon + 1}^{2^{t - 1}} \\left|\\alpha_{l}\\right|^{2}\\right) \\leq \\left(\\sum_{l=\\varepsilon + 1}^{2^{t - 1}} \\frac{1}{4 \\cdot \\left(l - \\left(2^{t} \\cdot \\delta\\right)\\right)^{2}}\\right)\\right)$"
      ],
      "text/plain": [
       "[forall_{k in \\{(eps + 1)...2^(t - 1)\\}} (|alpha_{k}|^(2) <= 1 / (4 * (k - (2^(t) * delta))^(2)))] => ((Summation_{l=eps + 1}^{2^(t - 1)} |alpha_{l}|^(2)) <= (Summation_{l=eps + 1}^{2^(t - 1)} 1 / (4 * (l - (2^(t) * delta))^(2))))"
      ]
     },
     "execution_count": 19,
     "metadata": {},
     "output_type": "execute_result"
    }
   ],
   "source": [
    "Y2 = Y1a.specialize({m:posDomain.lowerBound, n:posDomain.upperBound}).proven({epsInPosNats})\n",
    "Y2"
   ]
  },
  {
   "cell_type": "code",
   "execution_count": 20,
   "metadata": {
    "collapsed": false
   },
   "outputs": [
    {
     "data": {
      "text/latex": [
       "$\\forall_{k \\in \\{\\left(\\left(-2^{t - 1}\\right) + 1\\right)\\ldots \\left(-\\left(\\varepsilon + 1\\right)\\right)\\}} \\left(\\left|\\alpha_{k}\\right|^{2} \\leq \\frac{1}{4 \\cdot \\left(k - \\left(2^{t} \\cdot \\delta\\right)\\right)^{2}}\\right)$"
      ],
      "text/plain": [
       "forall_{k in \\{((-2^(t - 1)) + 1)...(-(eps + 1))\\}} (|alpha_{k}|^(2) <= 1 / (4 * (k - (2^(t) * delta))^(2)))"
      ]
     },
     "execution_count": 20,
     "metadata": {},
     "output_type": "execute_result"
    }
   ],
   "source": [
    "Y0_negDomain = Y0.generalize(l, domain=negDomain).proven({epsInPosNats})\n",
    "Y0_negDomain.relabel({l:k})"
   ]
  },
  {
   "cell_type": "code",
   "execution_count": 21,
   "metadata": {
    "collapsed": false
   },
   "outputs": [
    {
     "data": {
      "text/latex": [
       "$\\forall_{k \\in \\{\\left(\\varepsilon + 1\\right)\\ldots 2^{t - 1}\\}} \\left(\\left|\\alpha_{k}\\right|^{2} \\leq \\frac{1}{4 \\cdot \\left(k - \\left(2^{t} \\cdot \\delta\\right)\\right)^{2}}\\right)$"
      ],
      "text/plain": [
       "forall_{k in \\{(eps + 1)...2^(t - 1)\\}} (|alpha_{k}|^(2) <= 1 / (4 * (k - (2^(t) * delta))^(2)))"
      ]
     },
     "execution_count": 21,
     "metadata": {},
     "output_type": "execute_result"
    }
   ],
   "source": [
    "Y0_posDomain = Y0.generalize(l, domain=posDomain).proven({epsInPosNats})\n",
    "Y0_posDomain.relabel({l:k})"
   ]
  },
  {
   "cell_type": "code",
   "execution_count": 22,
   "metadata": {
    "collapsed": false
   },
   "outputs": [
    {
     "data": {
      "text/latex": [
       "$\\left(\\sum_{l=\\left(-2^{t - 1}\\right) + 1}^{-\\left(\\varepsilon + 1\\right)} \\left|\\alpha_{l}\\right|^{2}\\right) \\leq \\left(\\sum_{l=\\left(-2^{t - 1}\\right) + 1}^{-\\left(\\varepsilon + 1\\right)} \\frac{1}{4 \\cdot \\left(l - \\left(2^{t} \\cdot \\delta\\right)\\right)^{2}}\\right)$"
      ],
      "text/plain": [
       "(Summation_{l=(-2^(t - 1)) + 1}^{-(eps + 1)} |alpha_{l}|^(2)) <= (Summation_{l=(-2^(t - 1)) + 1}^{-(eps + 1)} 1 / (4 * (l - (2^(t) * delta))^(2)))"
      ]
     },
     "execution_count": 22,
     "metadata": {},
     "output_type": "execute_result"
    }
   ],
   "source": [
    "Y1.conclusion.proven({epsInPosNats})"
   ]
  },
  {
   "cell_type": "code",
   "execution_count": 23,
   "metadata": {
    "collapsed": false
   },
   "outputs": [
    {
     "data": {
      "text/latex": [
       "$\\left(\\sum_{l=\\varepsilon + 1}^{2^{t - 1}} \\left|\\alpha_{l}\\right|^{2}\\right) \\leq \\left(\\sum_{l=\\varepsilon + 1}^{2^{t - 1}} \\frac{1}{4 \\cdot \\left(l - \\left(2^{t} \\cdot \\delta\\right)\\right)^{2}}\\right)$"
      ],
      "text/plain": [
       "(Summation_{l=eps + 1}^{2^(t - 1)} |alpha_{l}|^(2)) <= (Summation_{l=eps + 1}^{2^(t - 1)} 1 / (4 * (l - (2^(t) * delta))^(2)))"
      ]
     },
     "execution_count": 23,
     "metadata": {},
     "output_type": "execute_result"
    }
   ],
   "source": [
    "Y2.conclusion.proven({epsInPosNats})"
   ]
  },
  {
   "cell_type": "code",
   "execution_count": 24,
   "metadata": {
    "collapsed": false
   },
   "outputs": [
    {
     "data": {
      "text/latex": [
       "$\\left(\\sum_{l=\\left(-2^{t - 1}\\right) + 1}^{-\\left(\\varepsilon + 1\\right)} \\frac{1}{4 \\cdot \\left(l - \\left(2^{t} \\cdot \\delta\\right)\\right)^{2}}\\right) \\in \\mathbb{R}$"
      ],
      "text/plain": [
       "(Summation_{l=(-2^(t - 1)) + 1}^{-(eps + 1)} 1 / (4 * (l - (2^(t) * delta))^(2))) in Reals"
      ]
     },
     "metadata": {},
     "output_type": "display_data"
    },
    {
     "data": {
      "text/latex": [
       "$\\left(\\sum_{l=\\varepsilon + 1}^{2^{t - 1}} \\frac{1}{4 \\cdot \\left(l - \\left(2^{t} \\cdot \\delta\\right)\\right)^{2}}\\right) \\in \\mathbb{R}$"
      ],
      "text/plain": [
       "(Summation_{l=eps + 1}^{2^(t - 1)} 1 / (4 * (l - (2^(t) * delta))^(2))) in Reals"
      ]
     },
     "metadata": {},
     "output_type": "display_data"
    }
   ],
   "source": [
    "display(Y1.conclusion.rhs.deduceInReals({epsInPosNats, lInDomain}).proven({epsInPosNats, lInDomain}))\n",
    "display(Y2.conclusion.rhs.deduceInReals({epsInPosNats, lInDomain}).proven({epsInPosNats, lInDomain}))"
   ]
  },
  {
   "cell_type": "code",
   "execution_count": 25,
   "metadata": {
    "collapsed": false
   },
   "outputs": [
    {
     "data": {
      "text/latex": [
       "$\\left|\\alpha_{l}\\right|^{2} \\in \\mathbb{R}$"
      ],
      "text/plain": [
       "|alpha_{l}|^(2) in Reals"
      ]
     },
     "execution_count": 25,
     "metadata": {},
     "output_type": "execute_result"
    }
   ],
   "source": [
    "all_alpha_l_sqrd_in_reals.specialize()"
   ]
  },
  {
   "cell_type": "code",
   "execution_count": 26,
   "metadata": {
    "collapsed": false
   },
   "outputs": [
    {
     "data": {
      "text/latex": [
       "$\\left(\\sum_{l=\\left(-2^{t - 1}\\right) + 1}^{-\\left(\\varepsilon + 1\\right)} \\left|\\alpha_{l}\\right|^{2}\\right) \\in \\mathbb{R}$"
      ],
      "text/plain": [
       "(Summation_{l=(-2^(t - 1)) + 1}^{-(eps + 1)} |alpha_{l}|^(2)) in Reals"
      ]
     },
     "execution_count": 26,
     "metadata": {},
     "output_type": "execute_result"
    }
   ],
   "source": [
    "fail_sum_special.rhs.operands[0].deduceInReals({epsInPosNats, lInDomain}).proven({epsInPosNats, lInDomain})"
   ]
  },
  {
   "cell_type": "code",
   "execution_count": 27,
   "metadata": {
    "collapsed": false
   },
   "outputs": [
    {
     "data": {
      "text/latex": [
       "$\\left(\\sum_{l=\\varepsilon + 1}^{2^{t - 1}} \\left|\\alpha_{l}\\right|^{2}\\right) \\in \\mathbb{R}$"
      ],
      "text/plain": [
       "(Summation_{l=eps + 1}^{2^(t - 1)} |alpha_{l}|^(2)) in Reals"
      ]
     },
     "execution_count": 27,
     "metadata": {},
     "output_type": "execute_result"
    }
   ],
   "source": [
    "fail_sum_special.rhs.operands[1].deduceInReals({epsInPosNats, lInDomain}).proven({epsInPosNats, lInDomain})"
   ]
  },
  {
   "cell_type": "code",
   "execution_count": 28,
   "metadata": {
    "collapsed": false,
    "scrolled": true
   },
   "outputs": [
    {
     "data": {
      "text/latex": [
       "$\\left(\\left(\\left(\\sum_{l=\\left(-2^{t - 1}\\right) + 1}^{-\\left(\\varepsilon + 1\\right)} \\left|\\alpha_{l}\\right|^{2}\\right) \\leq \\left(\\sum_{l=\\left(-2^{t - 1}\\right) + 1}^{-\\left(\\varepsilon + 1\\right)} \\frac{1}{4 \\cdot \\left(l - \\left(2^{t} \\cdot \\delta\\right)\\right)^{2}}\\right)\\right) \\land \\left(\\left(\\sum_{l=\\varepsilon + 1}^{2^{t - 1}} \\left|\\alpha_{l}\\right|^{2}\\right) \\leq \\left(\\sum_{l=\\varepsilon + 1}^{2^{t - 1}} \\frac{1}{4 \\cdot \\left(l - \\left(2^{t} \\cdot \\delta\\right)\\right)^{2}}\\right)\\right)\\right) \\Rightarrow \\left(\\left(\\left(\\sum_{l=\\left(-2^{t - 1}\\right) + 1}^{-\\left(\\varepsilon + 1\\right)} \\left|\\alpha_{l}\\right|^{2}\\right) + \\left(\\sum_{l=\\varepsilon + 1}^{2^{t - 1}} \\left|\\alpha_{l}\\right|^{2}\\right)\\right) \\leq \\left(\\left(\\sum_{l=\\left(-2^{t - 1}\\right) + 1}^{-\\left(\\varepsilon + 1\\right)} \\frac{1}{4 \\cdot \\left(l - \\left(2^{t} \\cdot \\delta\\right)\\right)^{2}}\\right) + \\left(\\sum_{l=\\varepsilon + 1}^{2^{t - 1}} \\frac{1}{4 \\cdot \\left(l - \\left(2^{t} \\cdot \\delta\\right)\\right)^{2}}\\right)\\right)\\right)$"
      ],
      "text/plain": [
       "(((Summation_{l=(-2^(t - 1)) + 1}^{-(eps + 1)} |alpha_{l}|^(2)) <= (Summation_{l=(-2^(t - 1)) + 1}^{-(eps + 1)} 1 / (4 * (l - (2^(t) * delta))^(2)))) and ((Summation_{l=eps + 1}^{2^(t - 1)} |alpha_{l}|^(2)) <= (Summation_{l=eps + 1}^{2^(t - 1)} 1 / (4 * (l - (2^(t) * delta))^(2))))) => (((Summation_{l=(-2^(t - 1)) + 1}^{-(eps + 1)} |alpha_{l}|^(2)) + (Summation_{l=eps + 1}^{2^(t - 1)} |alpha_{l}|^(2))) <= ((Summation_{l=(-2^(t - 1)) + 1}^{-(eps + 1)} 1 / (4 * (l - (2^(t) * delta))^(2))) + (Summation_{l=eps + 1}^{2^(t - 1)} 1 / (4 * (l - (2^(t) * delta))^(2)))))"
      ]
     },
     "execution_count": 28,
     "metadata": {},
     "output_type": "execute_result"
    }
   ],
   "source": [
    "Y3 = sumIneq2.specialize({a:fail_sum_special.rhs.operands[0], b:fail_sum_special.rhs.operands[1], c:Y1.conclusion.rhs, d:Y2.conclusion.rhs}).proven({epsInPosNats})\n",
    "Y3"
   ]
  },
  {
   "cell_type": "code",
   "execution_count": 29,
   "metadata": {
    "collapsed": false
   },
   "outputs": [
    {
     "data": {
      "text/latex": [
       "$\\left(\\left(\\sum_{l=\\left(-2^{t - 1}\\right) + 1}^{-\\left(\\varepsilon + 1\\right)} \\left|\\alpha_{l}\\right|^{2}\\right) \\leq \\left(\\sum_{l=\\left(-2^{t - 1}\\right) + 1}^{-\\left(\\varepsilon + 1\\right)} \\frac{1}{4 \\cdot \\left(l - \\left(2^{t} \\cdot \\delta\\right)\\right)^{2}}\\right)\\right) \\land \\left(\\left(\\sum_{l=\\varepsilon + 1}^{2^{t - 1}} \\left|\\alpha_{l}\\right|^{2}\\right) \\leq \\left(\\sum_{l=\\varepsilon + 1}^{2^{t - 1}} \\frac{1}{4 \\cdot \\left(l - \\left(2^{t} \\cdot \\delta\\right)\\right)^{2}}\\right)\\right)$"
      ],
      "text/plain": [
       "((Summation_{l=(-2^(t - 1)) + 1}^{-(eps + 1)} |alpha_{l}|^(2)) <= (Summation_{l=(-2^(t - 1)) + 1}^{-(eps + 1)} 1 / (4 * (l - (2^(t) * delta))^(2)))) and ((Summation_{l=eps + 1}^{2^(t - 1)} |alpha_{l}|^(2)) <= (Summation_{l=eps + 1}^{2^(t - 1)} 1 / (4 * (l - (2^(t) * delta))^(2))))"
      ]
     },
     "metadata": {},
     "output_type": "display_data"
    },
    {
     "data": {
      "text/latex": [
       "$\\left(\\left(\\sum_{l=\\left(-2^{t - 1}\\right) + 1}^{-\\left(\\varepsilon + 1\\right)} \\left|\\alpha_{l}\\right|^{2}\\right) + \\left(\\sum_{l=\\varepsilon + 1}^{2^{t - 1}} \\left|\\alpha_{l}\\right|^{2}\\right)\\right) \\leq \\left(\\left(\\sum_{l=\\left(-2^{t - 1}\\right) + 1}^{-\\left(\\varepsilon + 1\\right)} \\frac{1}{4 \\cdot \\left(l - \\left(2^{t} \\cdot \\delta\\right)\\right)^{2}}\\right) + \\left(\\sum_{l=\\varepsilon + 1}^{2^{t - 1}} \\frac{1}{4 \\cdot \\left(l - \\left(2^{t} \\cdot \\delta\\right)\\right)^{2}}\\right)\\right)$"
      ],
      "text/plain": [
       "((Summation_{l=(-2^(t - 1)) + 1}^{-(eps + 1)} |alpha_{l}|^(2)) + (Summation_{l=eps + 1}^{2^(t - 1)} |alpha_{l}|^(2))) <= ((Summation_{l=(-2^(t - 1)) + 1}^{-(eps + 1)} 1 / (4 * (l - (2^(t) * delta))^(2))) + (Summation_{l=eps + 1}^{2^(t - 1)} 1 / (4 * (l - (2^(t) * delta))^(2))))"
      ]
     },
     "metadata": {},
     "output_type": "display_data"
    }
   ],
   "source": [
    "Q = Y3.hypothesis.concludeViaComposition().proven({epsInPosNats})\n",
    "display(Q)\n",
    "display(Y3.conclusion.proven({epsInPosNats}))"
   ]
  },
  {
   "cell_type": "code",
   "execution_count": 30,
   "metadata": {
    "collapsed": false
   },
   "outputs": [
    {
     "data": {
      "text/latex": [
       "$P_{\\rm fail}\\left(\\varepsilon\\right) \\leq \\left(\\left(\\sum_{l=\\left(-2^{t - 1}\\right) + 1}^{-\\left(\\varepsilon + 1\\right)} \\frac{1}{4 \\cdot \\left(l - \\left(2^{t} \\cdot \\delta\\right)\\right)^{2}}\\right) + \\left(\\sum_{l=\\varepsilon + 1}^{2^{t - 1}} \\frac{1}{4 \\cdot \\left(l - \\left(2^{t} \\cdot \\delta\\right)\\right)^{2}}\\right)\\right)$"
      ],
      "text/plain": [
       "Pfail(eps) <= ((Summation_{l=(-2^(t - 1)) + 1}^{-(eps + 1)} 1 / (4 * (l - (2^(t) * delta))^(2))) + (Summation_{l=eps + 1}^{2^(t - 1)} 1 / (4 * (l - (2^(t) * delta))^(2))))"
      ]
     },
     "execution_count": 30,
     "metadata": {},
     "output_type": "execute_result"
    }
   ],
   "source": [
    "X1 = Relation(fail_sum_special).update(Y3.conclusion).proven({epsInPosNats})\n",
    "X1"
   ]
  },
  {
   "cell_type": "code",
   "execution_count": 31,
   "metadata": {
    "collapsed": false
   },
   "outputs": [
    {
     "data": {
      "text/latex": [
       "$\\frac{1}{4 \\cdot \\left(l - \\left(2^{t} \\cdot \\delta\\right)\\right)^{2}}$"
      ],
      "text/plain": [
       "1 / (4 * (l - (2^(t) * delta))^(2))"
      ]
     },
     "execution_count": 31,
     "metadata": {},
     "output_type": "execute_result"
    }
   ],
   "source": [
    "X1_summand = X1.rhs.operands[0].summand\n",
    "X1_summand"
   ]
  },
  {
   "cell_type": "code",
   "execution_count": 32,
   "metadata": {
    "collapsed": false
   },
   "outputs": [
    {
     "data": {
      "text/latex": [
       "$\\frac{1}{4 \\cdot \\left(l - \\left(2^{t} \\cdot \\delta\\right)\\right)^{2}} = \\left(\\frac{1}{4} \\cdot \\frac{1}{\\left(l - \\left(2^{t} \\cdot \\delta\\right)\\right)^{2}}\\right)$"
      ],
      "text/plain": [
       "1 / (4 * (l - (2^(t) * delta))^(2)) = (1 / 4 * 1 / (l - (2^(t) * delta))^(2))"
      ]
     },
     "execution_count": 32,
     "metadata": {},
     "output_type": "execute_result"
    }
   ],
   "source": [
    "Y4 = X1_summand.factor(Fraction(one,four),'left',assumptions={epsInPosNats, In(l, posDomain)}).proven({epsInPosNats, In(l, posDomain)})\n",
    "X1_summand.factor(Fraction(one,four),'left',assumptions={epsInPosNats, In(l, negDomain)}).proven({epsInPosNats, In(l, negDomain)})\n",
    "Y4"
   ]
  },
  {
   "cell_type": "code",
   "execution_count": 33,
   "metadata": {
    "collapsed": false
   },
   "outputs": [
    {
     "data": {
      "text/latex": [
       "$\\left(\\sum_{l=\\left(-2^{t - 1}\\right) + 1}^{-\\left(\\varepsilon + 1\\right)} \\frac{1}{4 \\cdot \\left(l - \\left(2^{t} \\cdot \\delta\\right)\\right)^{2}}\\right) + \\left(\\sum_{l=\\varepsilon + 1}^{2^{t - 1}} \\frac{1}{4 \\cdot \\left(l - \\left(2^{t} \\cdot \\delta\\right)\\right)^{2}}\\right)$"
      ],
      "text/plain": [
       "(Summation_{l=(-2^(t - 1)) + 1}^{-(eps + 1)} 1 / (4 * (l - (2^(t) * delta))^(2))) + (Summation_{l=eps + 1}^{2^(t - 1)} 1 / (4 * (l - (2^(t) * delta))^(2)))"
      ]
     },
     "execution_count": 33,
     "metadata": {},
     "output_type": "execute_result"
    }
   ],
   "source": [
    "X1.rhs"
   ]
  },
  {
   "cell_type": "code",
   "execution_count": 34,
   "metadata": {
    "collapsed": false
   },
   "outputs": [
    {
     "data": {
      "text/latex": [
       "$\\forall_{l \\in \\{\\left(\\left(-2^{t - 1}\\right) + 1\\right)\\ldots \\left(-\\left(\\varepsilon + 1\\right)\\right)\\}} \\left(\\frac{1}{4 \\cdot \\left(l - \\left(2^{t} \\cdot \\delta\\right)\\right)^{2}} = \\left(\\frac{1}{4} \\cdot \\frac{1}{\\left(l - \\left(2^{t} \\cdot \\delta\\right)\\right)^{2}}\\right)\\right)$"
      ],
      "text/plain": [
       "forall_{l in \\{((-2^(t - 1)) + 1)...(-(eps + 1))\\}} (1 / (4 * (l - (2^(t) * delta))^(2)) = (1 / 4 * 1 / (l - (2^(t) * delta))^(2)))"
      ]
     },
     "execution_count": 34,
     "metadata": {},
     "output_type": "execute_result"
    }
   ],
   "source": [
    "Y4_sum1equivForAllInstances = Y4.generalize(l,negDomain)\n",
    "Y4_sum1equivForAllInstances.proven({epsInPosNats})"
   ]
  },
  {
   "cell_type": "code",
   "execution_count": 35,
   "metadata": {
    "collapsed": false
   },
   "outputs": [
    {
     "data": {
      "text/latex": [
       "$\\forall_{l \\in \\{\\left(\\varepsilon + 1\\right)\\ldots 2^{t - 1}\\}} \\left(\\frac{1}{4 \\cdot \\left(l - \\left(2^{t} \\cdot \\delta\\right)\\right)^{2}} = \\left(\\frac{1}{4} \\cdot \\frac{1}{\\left(l - \\left(2^{t} \\cdot \\delta\\right)\\right)^{2}}\\right)\\right)$"
      ],
      "text/plain": [
       "forall_{l in \\{(eps + 1)...2^(t - 1)\\}} (1 / (4 * (l - (2^(t) * delta))^(2)) = (1 / 4 * 1 / (l - (2^(t) * delta))^(2)))"
      ]
     },
     "execution_count": 35,
     "metadata": {},
     "output_type": "execute_result"
    }
   ],
   "source": [
    "Y4_sum2equivForAllInstances = Y4.generalize(l,posDomain)\n",
    "Y4_sum2equivForAllInstances.proven({epsInPosNats})"
   ]
  },
  {
   "cell_type": "code",
   "execution_count": 36,
   "metadata": {
    "collapsed": false
   },
   "outputs": [
    {
     "data": {
      "text/latex": [
       "$\\left(\\sum_{l=\\left(-2^{t - 1}\\right) + 1}^{-\\left(\\varepsilon + 1\\right)} \\frac{1}{4 \\cdot \\left(l - \\left(2^{t} \\cdot \\delta\\right)\\right)^{2}}\\right) = \\left(\\sum_{l=\\left(-2^{t - 1}\\right) + 1}^{-\\left(\\varepsilon + 1\\right)} \\left(\\frac{1}{4} \\cdot \\frac{1}{\\left(l - \\left(2^{t} \\cdot \\delta\\right)\\right)^{2}}\\right)\\right)$"
      ],
      "text/plain": [
       "(Summation_{l=(-2^(t - 1)) + 1}^{-(eps + 1)} 1 / (4 * (l - (2^(t) * delta))^(2))) = (Summation_{l=(-2^(t - 1)) + 1}^{-(eps + 1)} (1 / 4 * 1 / (l - (2^(t) * delta))^(2)))"
      ]
     },
     "execution_count": 36,
     "metadata": {},
     "output_type": "execute_result"
    }
   ],
   "source": [
    "Y5_sum1 = X1.rhs.operands[0].instanceSubstitution(Y4_sum1equivForAllInstances)\n",
    "Y5_sum1.proven({epsInPosNats})"
   ]
  },
  {
   "cell_type": "code",
   "execution_count": 37,
   "metadata": {
    "collapsed": false
   },
   "outputs": [
    {
     "data": {
      "text/latex": [
       "$\\left(\\sum_{l=\\varepsilon + 1}^{2^{t - 1}} \\frac{1}{4 \\cdot \\left(l - \\left(2^{t} \\cdot \\delta\\right)\\right)^{2}}\\right) = \\left(\\sum_{l=\\varepsilon + 1}^{2^{t - 1}} \\left(\\frac{1}{4} \\cdot \\frac{1}{\\left(l - \\left(2^{t} \\cdot \\delta\\right)\\right)^{2}}\\right)\\right)$"
      ],
      "text/plain": [
       "(Summation_{l=eps + 1}^{2^(t - 1)} 1 / (4 * (l - (2^(t) * delta))^(2))) = (Summation_{l=eps + 1}^{2^(t - 1)} (1 / 4 * 1 / (l - (2^(t) * delta))^(2)))"
      ]
     },
     "execution_count": 37,
     "metadata": {},
     "output_type": "execute_result"
    }
   ],
   "source": [
    "Y5_sum2 = X1.rhs.operands[1].instanceSubstitution(Y4_sum2equivForAllInstances)\n",
    "Y5_sum2.proven({epsInPosNats})"
   ]
  },
  {
   "cell_type": "code",
   "execution_count": 38,
   "metadata": {
    "collapsed": false
   },
   "outputs": [
    {
     "data": {
      "text/latex": [
       "$P_{\\rm fail}\\left(\\varepsilon\\right) \\leq \\left(\\left(\\sum_{l=\\left(-2^{t - 1}\\right) + 1}^{-\\left(\\varepsilon + 1\\right)} \\left(\\frac{1}{4} \\cdot \\frac{1}{\\left(l - \\left(2^{t} \\cdot \\delta\\right)\\right)^{2}}\\right)\\right) + \\left(\\sum_{l=\\varepsilon + 1}^{2^{t - 1}} \\left(\\frac{1}{4} \\cdot \\frac{1}{\\left(l - \\left(2^{t} \\cdot \\delta\\right)\\right)^{2}}\\right)\\right)\\right)$"
      ],
      "text/plain": [
       "Pfail(eps) <= ((Summation_{l=(-2^(t - 1)) + 1}^{-(eps + 1)} (1 / 4 * 1 / (l - (2^(t) * delta))^(2))) + (Summation_{l=eps + 1}^{2^(t - 1)} (1 / 4 * 1 / (l - (2^(t) * delta))^(2))))"
      ]
     },
     "execution_count": 38,
     "metadata": {},
     "output_type": "execute_result"
    }
   ],
   "source": [
    "X2 = Y5_sum1.rhsSubstitute(X1)\n",
    "X3 = Y5_sum2.rhsSubstitute(X2)\n",
    "X3.proven({epsInPosNats})"
   ]
  },
  {
   "cell_type": "code",
   "execution_count": 39,
   "metadata": {
    "collapsed": false
   },
   "outputs": [
    {
     "data": {
      "text/latex": [
       "$\\forall_{x \\in \\mathbb{R}~|~0 \\leq x, x \\leq 1} \\left[\\forall_{a \\in \\mathbb{R}~|~a \\geq 0} \\left[\\forall_{l \\in \\mathbb{Z}~|~l \\leq 0} \\left(\\left(a \\cdot \\frac{1}{\\left(l - x\\right)^{2}}\\right) \\leq \\left(a \\cdot \\frac{1}{l^{2}}\\right)\\right)\\right]\\right]$"
      ],
      "text/plain": [
       "forall_{x in Reals | 0 <= x, x <= 1} [forall_{a in Reals | a >= 0} [forall_{l in Integers | l <= 0} ((a * 1 / (l - x)^(2)) <= (a * 1 / l^(2)))]]"
      ]
     },
     "execution_count": 39,
     "metadata": {},
     "output_type": "execute_result"
    }
   ],
   "source": [
    "ineqThm7a"
   ]
  },
  {
   "cell_type": "code",
   "execution_count": 40,
   "metadata": {
    "collapsed": false
   },
   "outputs": [
    {
     "data": {
      "text/latex": [
       "$\\frac{1}{4} \\in \\mathbb{R}$"
      ],
      "text/plain": [
       "1 / 4 in Reals"
      ]
     },
     "metadata": {},
     "output_type": "display_data"
    },
    {
     "data": {
      "text/latex": [
       "$\\frac{1}{4} \\geq 0$"
      ],
      "text/plain": [
       "1 / 4 >= 0"
      ]
     },
     "metadata": {},
     "output_type": "display_data"
    }
   ],
   "source": [
    "display(Fraction(one,four).deduceInReals().proven())\n",
    "display(deducePositive(Fraction(one, four)).deriveRelaxed().proven())"
   ]
  },
  {
   "cell_type": "code",
   "execution_count": 41,
   "metadata": {
    "collapsed": false
   },
   "outputs": [
    {
     "data": {
      "text/latex": [
       "$0 \\leq \\left(2^{t} \\cdot \\delta\\right)$"
      ],
      "text/plain": [
       "0 <= (2^(t) * delta)"
      ]
     },
     "metadata": {},
     "output_type": "display_data"
    },
    {
     "data": {
      "text/latex": [
       "$\\left(2^{t} \\cdot \\delta\\right) \\leq 1$"
      ],
      "text/plain": [
       "(2^(t) * delta) <= 1"
      ]
     },
     "metadata": {},
     "output_type": "display_data"
    }
   ],
   "source": [
    "display(scaledDeltaInInterval.domain.deduceMemberLowerBound(scaledDeltaInInterval.element).proven())\n",
    "display(scaledDeltaInInterval.domain.deduceMemberUpperBound(scaledDeltaInInterval.element).deriveRelaxed().proven())"
   ]
  },
  {
   "cell_type": "code",
   "execution_count": 42,
   "metadata": {
    "collapsed": false
   },
   "outputs": [
    {
     "data": {
      "text/latex": [
       "$\\forall_{x \\in \\mathbb{R}~|~0 \\leq x, x \\leq 1} \\left[\\forall_{a \\in \\mathbb{R}~|~a \\geq 0} \\left[\\forall_{l \\in \\mathbb{Z}~|~l \\leq 0} \\left(\\left(a \\cdot \\frac{1}{\\left(l - x\\right)^{2}}\\right) \\leq \\left(a \\cdot \\frac{1}{l^{2}}\\right)\\right)\\right]\\right]$"
      ],
      "text/plain": [
       "forall_{x in Reals | 0 <= x, x <= 1} [forall_{a in Reals | a >= 0} [forall_{l in Integers | l <= 0} ((a * 1 / (l - x)^(2)) <= (a * 1 / l^(2)))]]"
      ]
     },
     "execution_count": 42,
     "metadata": {},
     "output_type": "execute_result"
    }
   ],
   "source": [
    "ineqThm7a"
   ]
  },
  {
   "cell_type": "code",
   "execution_count": 43,
   "metadata": {
    "collapsed": false
   },
   "outputs": [
    {
     "data": {
      "text/latex": [
       "$\\forall_{k \\in \\{\\left(\\left(-2^{t - 1}\\right) + 1\\right)\\ldots \\left(-\\left(\\varepsilon + 1\\right)\\right)\\}} \\left(\\left(\\frac{1}{4} \\cdot \\frac{1}{\\left(k - \\left(2^{t} \\cdot \\delta\\right)\\right)^{2}}\\right) \\leq \\left(\\frac{1}{4} \\cdot \\frac{1}{k^{2}}\\right)\\right)$"
      ],
      "text/plain": [
       "forall_{k in \\{((-2^(t - 1)) + 1)...(-(eps + 1))\\}} ((1 / 4 * 1 / (k - (2^(t) * delta))^(2)) <= (1 / 4 * 1 / k^(2)))"
      ]
     },
     "execution_count": 43,
     "metadata": {},
     "output_type": "execute_result"
    }
   ],
   "source": [
    "Y6 = ineqThm7a.specialize({x:Multiply(Exponentiate(two,t_), delta_)}).specialize({a:Fraction(one,four)})\n",
    "Y6.specialize().generalize(l, domain=negDomain).relabel({l:k}).proven({epsInPosNats})"
   ]
  },
  {
   "cell_type": "code",
   "execution_count": 44,
   "metadata": {
    "collapsed": false
   },
   "outputs": [
    {
     "data": {
      "text/latex": [
       "$\\forall_{x \\in \\mathbb{R}~|~0 \\leq x, x \\leq 1} \\left[\\forall_{a \\in \\mathbb{R}~|~a \\geq 0} \\left[\\forall_{l \\in \\mathbb{Z}~|~l > 0} \\left(\\left(a \\cdot \\frac{1}{\\left(l - x\\right)^{2}}\\right) \\leq \\left(a \\cdot \\frac{1}{\\left(l - 1\\right)^{2}}\\right)\\right)\\right]\\right]$"
      ],
      "text/plain": [
       "forall_{x in Reals | 0 <= x, x <= 1} [forall_{a in Reals | a >= 0} [forall_{l in Integers | l > 0} ((a * 1 / (l - x)^(2)) <= (a * 1 / (l - 1)^(2)))]]"
      ]
     },
     "execution_count": 44,
     "metadata": {},
     "output_type": "execute_result"
    }
   ],
   "source": [
    "ineqThm8a"
   ]
  },
  {
   "cell_type": "code",
   "execution_count": 45,
   "metadata": {
    "collapsed": false
   },
   "outputs": [
    {
     "data": {
      "text/latex": [
       "$\\forall_{k \\in \\{\\left(\\varepsilon + 1\\right)\\ldots 2^{t - 1}\\}} \\left(\\left(\\frac{1}{4} \\cdot \\frac{1}{\\left(k - \\left(2^{t} \\cdot \\delta\\right)\\right)^{2}}\\right) \\leq \\left(\\frac{1}{4} \\cdot \\frac{1}{\\left(k - 1\\right)^{2}}\\right)\\right)$"
      ],
      "text/plain": [
       "forall_{k in \\{(eps + 1)...2^(t - 1)\\}} ((1 / 4 * 1 / (k - (2^(t) * delta))^(2)) <= (1 / 4 * 1 / (k - 1)^(2)))"
      ]
     },
     "execution_count": 45,
     "metadata": {},
     "output_type": "execute_result"
    }
   ],
   "source": [
    "Y7 = ineqThm8a.specialize({x:Multiply(Exponentiate(two,t_), delta_)}).specialize({a:Fraction(one,four)}).proven()\n",
    "Y7.specialize().generalize(l, domain=posDomain).relabel({l:k}).proven({epsInPosNats})"
   ]
  },
  {
   "cell_type": "code",
   "execution_count": 46,
   "metadata": {
    "collapsed": false
   },
   "outputs": [
    {
     "data": {
      "text/latex": [
       "$\\forall_{a, b} \\left[\\forall_{m, n \\in \\mathbb{Z}} \\left(\\left[\\forall_{k \\in \\{m\\ldots n\\}} \\left(a\\left(k\\right) \\leq b\\left(k\\right)\\right)\\right] \\Rightarrow \\left(\\left(\\sum_{l=m}^{n} a\\left(l\\right)\\right) \\leq \\left(\\sum_{l=m}^{n} b\\left(l\\right)\\right)\\right)\\right)\\right]$"
      ],
      "text/plain": [
       "forall_{a, b} [forall_{m, n in Integers} ([forall_{k in \\{m...n\\}} (a(k) <= b(k))] => ((Summation_{l=m}^{n} a(l)) <= (Summation_{l=m}^{n} b(l))))]"
      ]
     },
     "execution_count": 46,
     "metadata": {},
     "output_type": "execute_result"
    }
   ],
   "source": [
    "sumIneq1"
   ]
  },
  {
   "cell_type": "code",
   "execution_count": 47,
   "metadata": {
    "collapsed": false
   },
   "outputs": [
    {
     "data": {
      "text/latex": [
       "$\\left[\\forall_{k \\in \\{\\left(\\left(-2^{t - 1}\\right) + 1\\right)\\ldots \\left(-\\left(\\varepsilon + 1\\right)\\right)\\}} \\left(\\left(\\frac{1}{4} \\cdot \\frac{1}{\\left(k - \\left(2^{t} \\cdot \\delta\\right)\\right)^{2}}\\right) \\leq \\left(\\frac{1}{4} \\cdot \\frac{1}{k^{2}}\\right)\\right)\\right] \\Rightarrow \\left(\\left(\\sum_{l=\\left(-2^{t - 1}\\right) + 1}^{-\\left(\\varepsilon + 1\\right)} \\left(\\frac{1}{4} \\cdot \\frac{1}{\\left(l - \\left(2^{t} \\cdot \\delta\\right)\\right)^{2}}\\right)\\right) \\leq \\left(\\sum_{l=\\left(-2^{t - 1}\\right) + 1}^{-\\left(\\varepsilon + 1\\right)} \\left(\\frac{1}{4} \\cdot \\frac{1}{l^{2}}\\right)\\right)\\right)$"
      ],
      "text/plain": [
       "[forall_{k in \\{((-2^(t - 1)) + 1)...(-(eps + 1))\\}} ((1 / 4 * 1 / (k - (2^(t) * delta))^(2)) <= (1 / 4 * 1 / k^(2)))] => ((Summation_{l=(-2^(t - 1)) + 1}^{-(eps + 1)} (1 / 4 * 1 / (l - (2^(t) * delta))^(2))) <= (Summation_{l=(-2^(t - 1)) + 1}^{-(eps + 1)} (1 / 4 * 1 / l^(2))))"
      ]
     },
     "execution_count": 47,
     "metadata": {},
     "output_type": "execute_result"
    }
   ],
   "source": [
    "Y8 = sumIneq1.specialize({Operation(a,l):Y6.specialize().lhs, Operation(b,l):Y6.specialize().rhs}).specialize({m:negDomain.lowerBound, n:negDomain.upperBound})\n",
    "Y8.proven({epsInPosNats})"
   ]
  },
  {
   "cell_type": "code",
   "execution_count": 48,
   "metadata": {
    "collapsed": false
   },
   "outputs": [
    {
     "data": {
      "text/latex": [
       "$\\left[\\forall_{k \\in \\{\\left(\\varepsilon + 1\\right)\\ldots 2^{t - 1}\\}} \\left(\\left(\\frac{1}{4} \\cdot \\frac{1}{\\left(k - \\left(2^{t} \\cdot \\delta\\right)\\right)^{2}}\\right) \\leq \\left(\\frac{1}{4} \\cdot \\frac{1}{\\left(k - 1\\right)^{2}}\\right)\\right)\\right] \\Rightarrow \\left(\\left(\\sum_{l=\\varepsilon + 1}^{2^{t - 1}} \\left(\\frac{1}{4} \\cdot \\frac{1}{\\left(l - \\left(2^{t} \\cdot \\delta\\right)\\right)^{2}}\\right)\\right) \\leq \\left(\\sum_{l=\\varepsilon + 1}^{2^{t - 1}} \\left(\\frac{1}{4} \\cdot \\frac{1}{\\left(l - 1\\right)^{2}}\\right)\\right)\\right)$"
      ],
      "text/plain": [
       "[forall_{k in \\{(eps + 1)...2^(t - 1)\\}} ((1 / 4 * 1 / (k - (2^(t) * delta))^(2)) <= (1 / 4 * 1 / (k - 1)^(2)))] => ((Summation_{l=eps + 1}^{2^(t - 1)} (1 / 4 * 1 / (l - (2^(t) * delta))^(2))) <= (Summation_{l=eps + 1}^{2^(t - 1)} (1 / 4 * 1 / (l - 1)^(2))))"
      ]
     },
     "execution_count": 48,
     "metadata": {},
     "output_type": "execute_result"
    }
   ],
   "source": [
    "Y9 = sumIneq1.specialize({Operation(a,l):Y7.specialize().lhs, Operation(b,l):Y7.specialize().rhs}).specialize({m:posDomain.lowerBound, n:posDomain.upperBound})\n",
    "Y9.proven({epsInPosNats})"
   ]
  },
  {
   "cell_type": "code",
   "execution_count": 49,
   "metadata": {
    "collapsed": false
   },
   "outputs": [
    {
     "data": {
      "text/latex": [
       "$\\left(\\left(\\sum_{l=\\left(-2^{t - 1}\\right) + 1}^{-\\left(\\varepsilon + 1\\right)} \\left(\\frac{1}{4} \\cdot \\frac{1}{\\left(l - \\left(2^{t} \\cdot \\delta\\right)\\right)^{2}}\\right)\\right) \\leq \\left(\\sum_{l=\\left(-2^{t - 1}\\right) + 1}^{-\\left(\\varepsilon + 1\\right)} \\left(\\frac{1}{4} \\cdot \\frac{1}{l^{2}}\\right)\\right)\\right) \\land \\left(\\left(\\sum_{l=\\varepsilon + 1}^{2^{t - 1}} \\left(\\frac{1}{4} \\cdot \\frac{1}{\\left(l - \\left(2^{t} \\cdot \\delta\\right)\\right)^{2}}\\right)\\right) \\leq \\left(\\sum_{l=\\varepsilon + 1}^{2^{t - 1}} \\left(\\frac{1}{4} \\cdot \\frac{1}{\\left(l - 1\\right)^{2}}\\right)\\right)\\right)$"
      ],
      "text/plain": [
       "((Summation_{l=(-2^(t - 1)) + 1}^{-(eps + 1)} (1 / 4 * 1 / (l - (2^(t) * delta))^(2))) <= (Summation_{l=(-2^(t - 1)) + 1}^{-(eps + 1)} (1 / 4 * 1 / l^(2)))) and ((Summation_{l=eps + 1}^{2^(t - 1)} (1 / 4 * 1 / (l - (2^(t) * delta))^(2))) <= (Summation_{l=eps + 1}^{2^(t - 1)} (1 / 4 * 1 / (l - 1)^(2))))"
      ]
     },
     "execution_count": 49,
     "metadata": {},
     "output_type": "execute_result"
    }
   ],
   "source": [
    "compose(Y8.conclusion, Y9.conclusion).proven({epsInPosNats})"
   ]
  },
  {
   "cell_type": "code",
   "execution_count": 50,
   "metadata": {
    "collapsed": false
   },
   "outputs": [
    {
     "data": {
      "text/latex": [
       "$\\forall_{a, b, c, d \\in \\mathbb{R}} \\left(\\left(\\left(a \\leq c\\right) \\land \\left(b \\leq d\\right)\\right) \\Rightarrow \\left(\\left(a + b\\right) \\leq \\left(c + d\\right)\\right)\\right)$"
      ],
      "text/plain": [
       "forall_{a, b, c, d in Reals} (((a <= c) and (b <= d)) => ((a + b) <= (c + d)))"
      ]
     },
     "execution_count": 50,
     "metadata": {},
     "output_type": "execute_result"
    }
   ],
   "source": [
    "sumIneq2"
   ]
  },
  {
   "cell_type": "code",
   "execution_count": 51,
   "metadata": {
    "collapsed": false
   },
   "outputs": [
    {
     "data": {
      "text/latex": [
       "$\\sum_{l=\\varepsilon + 1}^{2^{t - 1}} \\frac{1}{4} \\cdot \\frac{1}{\\left(l - 1\\right)^{2}}$"
      ],
      "text/plain": [
       "Summation_{l=eps + 1}^{2^(t - 1)} 1 / 4 * 1 / (l - 1)^(2)"
      ]
     },
     "execution_count": 51,
     "metadata": {},
     "output_type": "execute_result"
    }
   ],
   "source": [
    "Y9.conclusion.rhs"
   ]
  },
  {
   "cell_type": "code",
   "execution_count": 52,
   "metadata": {
    "collapsed": false
   },
   "outputs": [
    {
     "data": {
      "text/latex": [
       "$\\left(l - 1\\right) > 0$"
      ],
      "text/plain": [
       "(l - 1) > 0"
      ]
     },
     "execution_count": 52,
     "metadata": {},
     "output_type": "execute_result"
    }
   ],
   "source": [
    "deducePositive(Subtract(l, one), assumptions={epsInPosNats, In(l, posDomain)})"
   ]
  },
  {
   "cell_type": "code",
   "execution_count": 53,
   "metadata": {
    "collapsed": false
   },
   "outputs": [
    {
     "data": {
      "text/latex": [
       "$\\left(\\sum_{l=\\left(-2^{t - 1}\\right) + 1}^{-\\left(\\varepsilon + 1\\right)} \\left(\\frac{1}{4} \\cdot \\frac{1}{\\left(l - \\left(2^{t} \\cdot \\delta\\right)\\right)^{2}}\\right)\\right) \\in \\mathbb{R}$"
      ],
      "text/plain": [
       "(Summation_{l=(-2^(t - 1)) + 1}^{-(eps + 1)} (1 / 4 * 1 / (l - (2^(t) * delta))^(2))) in Reals"
      ]
     },
     "metadata": {},
     "output_type": "display_data"
    },
    {
     "data": {
      "text/latex": [
       "$\\left(\\sum_{l=\\varepsilon + 1}^{2^{t - 1}} \\left(\\frac{1}{4} \\cdot \\frac{1}{\\left(l - \\left(2^{t} \\cdot \\delta\\right)\\right)^{2}}\\right)\\right) \\in \\mathbb{R}$"
      ],
      "text/plain": [
       "(Summation_{l=eps + 1}^{2^(t - 1)} (1 / 4 * 1 / (l - (2^(t) * delta))^(2))) in Reals"
      ]
     },
     "metadata": {},
     "output_type": "display_data"
    },
    {
     "data": {
      "text/latex": [
       "$\\left(\\sum_{l=\\left(-2^{t - 1}\\right) + 1}^{-\\left(\\varepsilon + 1\\right)} \\left(\\frac{1}{4} \\cdot \\frac{1}{l^{2}}\\right)\\right) \\in \\mathbb{R}$"
      ],
      "text/plain": [
       "(Summation_{l=(-2^(t - 1)) + 1}^{-(eps + 1)} (1 / 4 * 1 / l^(2))) in Reals"
      ]
     },
     "metadata": {},
     "output_type": "display_data"
    },
    {
     "data": {
      "text/latex": [
       "$\\left(\\sum_{l=\\varepsilon + 1}^{2^{t - 1}} \\left(\\frac{1}{4} \\cdot \\frac{1}{\\left(l - 1\\right)^{2}}\\right)\\right) \\in \\mathbb{R}$"
      ],
      "text/plain": [
       "(Summation_{l=eps + 1}^{2^(t - 1)} (1 / 4 * 1 / (l - 1)^(2))) in Reals"
      ]
     },
     "metadata": {},
     "output_type": "display_data"
    }
   ],
   "source": [
    "display(X3.rhs.operands[0].deduceInReals({epsInPosNats}))\n",
    "display(X3.rhs.operands[1].deduceInReals({epsInPosNats}))\n",
    "display(Y8.conclusion.rhs.deduceInReals({epsInPosNats}))\n",
    "display(Y9.conclusion.rhs.deduceInReals({epsInPosNats}))"
   ]
  },
  {
   "cell_type": "code",
   "execution_count": 54,
   "metadata": {
    "collapsed": false
   },
   "outputs": [
    {
     "data": {
      "text/latex": [
       "$\\left(\\left(\\left(\\sum_{l=\\left(-2^{t - 1}\\right) + 1}^{-\\left(\\varepsilon + 1\\right)} \\left(\\frac{1}{4} \\cdot \\frac{1}{\\left(l - \\left(2^{t} \\cdot \\delta\\right)\\right)^{2}}\\right)\\right) \\leq \\left(\\sum_{l=\\left(-2^{t - 1}\\right) + 1}^{-\\left(\\varepsilon + 1\\right)} \\left(\\frac{1}{4} \\cdot \\frac{1}{l^{2}}\\right)\\right)\\right) \\land \\left(\\left(\\sum_{l=\\varepsilon + 1}^{2^{t - 1}} \\left(\\frac{1}{4} \\cdot \\frac{1}{\\left(l - \\left(2^{t} \\cdot \\delta\\right)\\right)^{2}}\\right)\\right) \\leq \\left(\\sum_{l=\\varepsilon + 1}^{2^{t - 1}} \\left(\\frac{1}{4} \\cdot \\frac{1}{\\left(l - 1\\right)^{2}}\\right)\\right)\\right)\\right) \\Rightarrow \\left(\\left(\\left(\\sum_{l=\\left(-2^{t - 1}\\right) + 1}^{-\\left(\\varepsilon + 1\\right)} \\left(\\frac{1}{4} \\cdot \\frac{1}{\\left(l - \\left(2^{t} \\cdot \\delta\\right)\\right)^{2}}\\right)\\right) + \\left(\\sum_{l=\\varepsilon + 1}^{2^{t - 1}} \\left(\\frac{1}{4} \\cdot \\frac{1}{\\left(l - \\left(2^{t} \\cdot \\delta\\right)\\right)^{2}}\\right)\\right)\\right) \\leq \\left(\\left(\\sum_{l=\\left(-2^{t - 1}\\right) + 1}^{-\\left(\\varepsilon + 1\\right)} \\left(\\frac{1}{4} \\cdot \\frac{1}{l^{2}}\\right)\\right) + \\left(\\sum_{l=\\varepsilon + 1}^{2^{t - 1}} \\left(\\frac{1}{4} \\cdot \\frac{1}{\\left(l - 1\\right)^{2}}\\right)\\right)\\right)\\right)$"
      ],
      "text/plain": [
       "(((Summation_{l=(-2^(t - 1)) + 1}^{-(eps + 1)} (1 / 4 * 1 / (l - (2^(t) * delta))^(2))) <= (Summation_{l=(-2^(t - 1)) + 1}^{-(eps + 1)} (1 / 4 * 1 / l^(2)))) and ((Summation_{l=eps + 1}^{2^(t - 1)} (1 / 4 * 1 / (l - (2^(t) * delta))^(2))) <= (Summation_{l=eps + 1}^{2^(t - 1)} (1 / 4 * 1 / (l - 1)^(2))))) => (((Summation_{l=(-2^(t - 1)) + 1}^{-(eps + 1)} (1 / 4 * 1 / (l - (2^(t) * delta))^(2))) + (Summation_{l=eps + 1}^{2^(t - 1)} (1 / 4 * 1 / (l - (2^(t) * delta))^(2)))) <= ((Summation_{l=(-2^(t - 1)) + 1}^{-(eps + 1)} (1 / 4 * 1 / l^(2))) + (Summation_{l=eps + 1}^{2^(t - 1)} (1 / 4 * 1 / (l - 1)^(2)))))"
      ]
     },
     "execution_count": 54,
     "metadata": {},
     "output_type": "execute_result"
    }
   ],
   "source": [
    "Y10 = sumIneq2.specialize({a:X3.rhs.operands[0], b:X3.rhs.operands[1], c:Y8.conclusion.rhs, d:Y9.conclusion.rhs})\n",
    "Y10.proven({In(Y9.conclusion.rhs,Reals), epsInPosNats, lInDomain})"
   ]
  },
  {
   "cell_type": "code",
   "execution_count": 55,
   "metadata": {
    "collapsed": false
   },
   "outputs": [
    {
     "data": {
      "text/latex": [
       "$\\left(\\left(\\sum_{l=\\left(-2^{t - 1}\\right) + 1}^{-\\left(\\varepsilon + 1\\right)} \\left(\\frac{1}{4} \\cdot \\frac{1}{\\left(l - \\left(2^{t} \\cdot \\delta\\right)\\right)^{2}}\\right)\\right) + \\left(\\sum_{l=\\varepsilon + 1}^{2^{t - 1}} \\left(\\frac{1}{4} \\cdot \\frac{1}{\\left(l - \\left(2^{t} \\cdot \\delta\\right)\\right)^{2}}\\right)\\right)\\right) \\leq \\left(\\left(\\sum_{l=\\left(-2^{t - 1}\\right) + 1}^{-\\left(\\varepsilon + 1\\right)} \\left(\\frac{1}{4} \\cdot \\frac{1}{l^{2}}\\right)\\right) + \\left(\\sum_{l=\\varepsilon + 1}^{2^{t - 1}} \\left(\\frac{1}{4} \\cdot \\frac{1}{\\left(l - 1\\right)^{2}}\\right)\\right)\\right)$"
      ],
      "text/plain": [
       "((Summation_{l=(-2^(t - 1)) + 1}^{-(eps + 1)} (1 / 4 * 1 / (l - (2^(t) * delta))^(2))) + (Summation_{l=eps + 1}^{2^(t - 1)} (1 / 4 * 1 / (l - (2^(t) * delta))^(2)))) <= ((Summation_{l=(-2^(t - 1)) + 1}^{-(eps + 1)} (1 / 4 * 1 / l^(2))) + (Summation_{l=eps + 1}^{2^(t - 1)} (1 / 4 * 1 / (l - 1)^(2))))"
      ]
     },
     "execution_count": 55,
     "metadata": {},
     "output_type": "execute_result"
    }
   ],
   "source": [
    "Y10.conclusion.proven({epsInPosNats, lInDomain})"
   ]
  },
  {
   "cell_type": "code",
   "execution_count": 56,
   "metadata": {
    "collapsed": false
   },
   "outputs": [
    {
     "data": {
      "text/latex": [
       "$P_{\\rm fail}\\left(\\varepsilon\\right) \\leq \\left(\\left(\\sum_{l=\\left(-2^{t - 1}\\right) + 1}^{-\\left(\\varepsilon + 1\\right)} \\left(\\frac{1}{4} \\cdot \\frac{1}{l^{2}}\\right)\\right) + \\left(\\sum_{l=\\varepsilon + 1}^{2^{t - 1}} \\left(\\frac{1}{4} \\cdot \\frac{1}{\\left(l - 1\\right)^{2}}\\right)\\right)\\right)$"
      ],
      "text/plain": [
       "Pfail(eps) <= ((Summation_{l=(-2^(t - 1)) + 1}^{-(eps + 1)} (1 / 4 * 1 / l^(2))) + (Summation_{l=eps + 1}^{2^(t - 1)} (1 / 4 * 1 / (l - 1)^(2))))"
      ]
     },
     "execution_count": 56,
     "metadata": {},
     "output_type": "execute_result"
    }
   ],
   "source": [
    "X4 = Relation(X3).update(Y10.conclusion)\n",
    "X4.proven({epsInPosNats})"
   ]
  },
  {
   "cell_type": "code",
   "execution_count": 57,
   "metadata": {
    "collapsed": false
   },
   "outputs": [
    {
     "data": {
      "text/latex": [
       "$\\left(\\left(\\sum_{l=\\left(-2^{t - 1}\\right) + 1}^{-\\left(\\varepsilon + 1\\right)} \\left(\\frac{1}{4} \\cdot \\frac{1}{l^{2}}\\right)\\right) + \\left(\\sum_{l=\\varepsilon + 1}^{2^{t - 1}} \\left(\\frac{1}{4} \\cdot \\frac{1}{\\left(l - 1\\right)^{2}}\\right)\\right)\\right) \\in \\mathbb{C}$"
      ],
      "text/plain": [
       "((Summation_{l=(-2^(t - 1)) + 1}^{-(eps + 1)} (1 / 4 * 1 / l^(2))) + (Summation_{l=eps + 1}^{2^(t - 1)} (1 / 4 * 1 / (l - 1)^(2)))) in Complexes"
      ]
     },
     "execution_count": 57,
     "metadata": {},
     "output_type": "execute_result"
    }
   ],
   "source": [
    "deduceInComplexes(X4.rhs, {epsInPosNats}).proven({epsInPosNats})"
   ]
  },
  {
   "cell_type": "code",
   "execution_count": 58,
   "metadata": {
    "collapsed": false
   },
   "outputs": [
    {
     "data": {
      "text/latex": [
       "$\\left(\\sum_{l=\\left(-2^{t - 1}\\right) + 1}^{-\\left(\\varepsilon + 1\\right)} \\left(\\frac{1}{4} \\cdot \\frac{1}{l^{2}}\\right)\\right) = \\left(\\frac{1}{4} \\cdot \\left(\\sum_{l=\\left(-2^{t - 1}\\right) + 1}^{-\\left(\\varepsilon + 1\\right)} \\frac{1}{l^{2}}\\right)\\right)$"
      ],
      "text/plain": [
       "(Summation_{l=(-2^(t - 1)) + 1}^{-(eps + 1)} (1 / 4 * 1 / l^(2))) = (1 / 4 * (Summation_{l=(-2^(t - 1)) + 1}^{-(eps + 1)} 1 / l^(2)))"
      ]
     },
     "execution_count": 58,
     "metadata": {},
     "output_type": "execute_result"
    }
   ],
   "source": [
    "X4.rhs.operands[0].factor(Fraction(one,four),assumptions={epsInPosNats})"
   ]
  },
  {
   "cell_type": "code",
   "execution_count": 59,
   "metadata": {
    "collapsed": false
   },
   "outputs": [
    {
     "data": {
      "text/latex": [
       "$\\left(\\sum_{l=\\left(-2^{t - 1}\\right) + 1}^{-\\left(\\varepsilon + 1\\right)} \\left(\\frac{1}{4} \\cdot \\frac{1}{l^{2}}\\right)\\right) = \\left(\\frac{1}{4} \\cdot \\left(\\sum_{l=\\left(-2^{t - 1}\\right) + 1}^{-\\left(\\varepsilon + 1\\right)} \\frac{1}{l^{2}}\\right)\\right)$"
      ],
      "text/plain": [
       "(Summation_{l=(-2^(t - 1)) + 1}^{-(eps + 1)} (1 / 4 * 1 / l^(2))) = (1 / 4 * (Summation_{l=(-2^(t - 1)) + 1}^{-(eps + 1)} 1 / l^(2)))"
      ]
     },
     "execution_count": 59,
     "metadata": {},
     "output_type": "execute_result"
    }
   ],
   "source": [
    "X4.rhs.operands[0].factor(Fraction(one,four),assumptions={epsInPosNats}).proven({epsInPosNats})"
   ]
  },
  {
   "cell_type": "code",
   "execution_count": 60,
   "metadata": {
    "collapsed": false
   },
   "outputs": [
    {
     "data": {
      "text/latex": [
       "$P_{\\rm fail}\\left(\\varepsilon\\right) \\leq \\left(\\left(\\frac{1}{4} \\cdot \\left(\\sum_{l=\\left(-2^{t - 1}\\right) + 1}^{-\\left(\\varepsilon + 1\\right)} \\frac{1}{l^{2}}\\right)\\right) + \\left(\\frac{1}{4} \\cdot \\left(\\sum_{l=\\varepsilon + 1}^{2^{t - 1}} \\frac{1}{\\left(l - 1\\right)^{2}}\\right)\\right)\\right)$"
      ],
      "text/plain": [
       "Pfail(eps) <= ((1 / 4 * (Summation_{l=(-2^(t - 1)) + 1}^{-(eps + 1)} 1 / l^(2))) + (1 / 4 * (Summation_{l=eps + 1}^{2^(t - 1)} 1 / (l - 1)^(2))))"
      ]
     },
     "execution_count": 60,
     "metadata": {},
     "output_type": "execute_result"
    }
   ],
   "source": [
    "X5 = X4.rhs.operands[0].factor(Fraction(one,four),assumptions={epsInPosNats}).rhsSubstitute(X4).proven({epsInPosNats})\n",
    "X6 = X5.rhs.operands[1].factor(Fraction(one,four),assumptions={epsInPosNats}).rhsSubstitute(X5).proven({epsInPosNats})\n",
    "X6"
   ]
  },
  {
   "cell_type": "code",
   "execution_count": 61,
   "metadata": {
    "collapsed": false
   },
   "outputs": [
    {
     "data": {
      "text/latex": [
       "$\\forall_{a, b, c \\in \\mathbb{R}} \\left(\\left(\\left(a \\cdot b\\right) + \\left(a \\cdot c\\right)\\right) = \\left(a \\cdot \\left(b + c\\right)\\right)\\right)$"
      ],
      "text/plain": [
       "forall_{a, b, c in Reals} (((a * b) + (a * c)) = (a * (b + c)))"
      ]
     },
     "execution_count": 61,
     "metadata": {},
     "output_type": "execute_result"
    }
   ],
   "source": [
    "sumFactor_temp"
   ]
  },
  {
   "cell_type": "code",
   "execution_count": 62,
   "metadata": {
    "collapsed": false
   },
   "outputs": [
    {
     "data": {
      "text/latex": [
       "$P_{\\rm fail}\\left(\\varepsilon\\right) \\leq \\left(\\frac{1}{4} \\cdot \\left(\\left(\\sum_{l=\\left(-2^{t - 1}\\right) + 1}^{-\\left(\\varepsilon + 1\\right)} \\frac{1}{l^{2}}\\right) + \\left(\\sum_{l=\\varepsilon + 1}^{2^{t - 1}} \\frac{1}{\\left(l - 1\\right)^{2}}\\right)\\right)\\right)$"
      ],
      "text/plain": [
       "Pfail(eps) <= (1 / 4 * ((Summation_{l=(-2^(t - 1)) + 1}^{-(eps + 1)} 1 / l^(2)) + (Summation_{l=eps + 1}^{2^(t - 1)} 1 / (l - 1)^(2))))"
      ]
     },
     "execution_count": 62,
     "metadata": {},
     "output_type": "execute_result"
    }
   ],
   "source": [
    "deduceInReals(X6.rhs.operands[0].operands[0])\n",
    "deduceInReals(X6.rhs.operands[0].operands[1], {epsInPosNats})\n",
    "deduceInReals(X6.rhs.operands[1].operands[1], {epsInPosNats})\n",
    "X7 = sumFactor_temp.specialize({a:X6.rhs.operands[0].operands[0], b:X6.rhs.operands[0].operands[1], c:X6.rhs.operands[1].operands[1]}).rhsSubstitute(X6)\n",
    "X7.proven({epsInPosNats})"
   ]
  },
  {
   "cell_type": "code",
   "execution_count": 63,
   "metadata": {
    "collapsed": false
   },
   "outputs": [
    {
     "data": {
      "text/latex": [
       "$\\forall_{f} \\left[\\forall_{a, b, c \\in \\mathbb{Z}} \\left(\\left(\\sum_{x=a}^{b} f\\left(x\\right)\\right) = \\left(\\sum_{x=a + c}^{b + c} f\\left(x - c\\right)\\right)\\right)\\right]$"
      ],
      "text/plain": [
       "forall_{f} [forall_{a, b, c in Integers} ((Summation_{x=a}^{b} f(x)) = (Summation_{x=a + c}^{b + c} f(x - c)))]"
      ]
     },
     "execution_count": 63,
     "metadata": {},
     "output_type": "execute_result"
    }
   ],
   "source": [
    "indexShift"
   ]
  },
  {
   "cell_type": "code",
   "execution_count": 64,
   "metadata": {
    "collapsed": false
   },
   "outputs": [
    {
     "data": {
      "text/latex": [
       "$P_{\\rm fail}\\left(\\varepsilon\\right) \\leq \\left(\\frac{1}{4} \\cdot \\left(\\left(\\sum_{l=\\left(-2^{t - 1}\\right) + 1}^{-\\left(\\varepsilon + 1\\right)} \\frac{1}{l^{2}}\\right) + \\left(\\sum_{l=\\left(\\varepsilon + 1\\right) + \\left(-1\\right)}^{2^{t - 1} + \\left(-1\\right)} \\frac{1}{\\left(\\left(l - \\left(-1\\right)\\right) - 1\\right)^{2}}\\right)\\right)\\right)$"
      ],
      "text/plain": [
       "Pfail(eps) <= (1 / 4 * ((Summation_{l=(-2^(t - 1)) + 1}^{-(eps + 1)} 1 / l^(2)) + (Summation_{l=(eps + 1) + (-1)}^{2^(t - 1) + (-1)} 1 / ((l - (-1)) - 1)^(2))))"
      ]
     },
     "execution_count": 64,
     "metadata": {},
     "output_type": "execute_result"
    }
   ],
   "source": [
    "deduceInIntegers(negDomain.lowerBound, {epsInPosNats})\n",
    "deduceInIntegers(negDomain.upperBound, {epsInPosNats})\n",
    "deduceInIntegers(Neg(one))\n",
    "Y11 = indexShift.specialize({Operation(f,l):X7.rhs.operands[1].operands[1].summand,x:l}).specialize({c:Neg(one),a:X7.rhs.operands[1].operands[1].domain.lowerBound, b:X7.rhs.operands[1].operands[1].domain.upperBound}).rhsSubstitute(X7)\n",
    "Y11.proven({epsInPosNats})"
   ]
  },
  {
   "cell_type": "code",
   "execution_count": 65,
   "metadata": {
    "collapsed": false
   },
   "outputs": [
    {
     "data": {
      "text/latex": [
       "$\\frac{1}{\\left(\\left(l - \\left(-1\\right)\\right) - 1\\right)^{2}}$"
      ],
      "text/plain": [
       "1 / ((l - (-1)) - 1)^(2)"
      ]
     },
     "execution_count": 65,
     "metadata": {},
     "output_type": "execute_result"
    }
   ],
   "source": [
    "summandToSimplify = Y11.rhs.operands[1].operands[1].summand\n",
    "summandToSimplify"
   ]
  },
  {
   "cell_type": "code",
   "execution_count": 66,
   "metadata": {
    "collapsed": false
   },
   "outputs": [
    {
     "data": {
      "text/latex": [
       "$\\forall_{a, b \\in \\mathbb{C}} \\left(\\left(\\left(a - \\left(-b\\right)\\right) - b\\right) = a\\right)$"
      ],
      "text/plain": [
       "forall_{a, b in Complexes} (((a - (-b)) - b) = a)"
      ]
     },
     "execution_count": 66,
     "metadata": {},
     "output_type": "execute_result"
    }
   ],
   "source": [
    "cancelSubAndAdd"
   ]
  },
  {
   "cell_type": "code",
   "execution_count": 67,
   "metadata": {
    "collapsed": false
   },
   "outputs": [
    {
     "data": {
      "text/latex": [
       "$\\frac{1}{l^{2}}$"
      ],
      "text/plain": [
       "1 / l^(2)"
      ]
     },
     "execution_count": 67,
     "metadata": {},
     "output_type": "execute_result"
    }
   ],
   "source": [
    "summandSimp = cancelSubAndAdd.specialize({a:l,b:one}).rhsSubstitute(summandToSimplify)\n",
    "summandSimp"
   ]
  },
  {
   "cell_type": "code",
   "execution_count": 68,
   "metadata": {
    "collapsed": false
   },
   "outputs": [
    {
     "data": {
      "text/latex": [
       "$\\forall_{f, g} \\left[\\forall_{m, n \\in \\mathbb{Z}} \\left(\\left[\\forall_{k \\in \\{m\\ldots n\\}} \\left(f\\left(k\\right) = g\\left(k\\right)\\right)\\right] \\Rightarrow \\left(\\left(\\sum_{l=m}^{n} f\\left(l\\right)\\right) = \\left(\\sum_{l=m}^{n} g\\left(l\\right)\\right)\\right)\\right)\\right]$"
      ],
      "text/plain": [
       "forall_{f, g} [forall_{m, n in Integers} ([forall_{k in \\{m...n\\}} (f(k) = g(k))] => ((Summation_{l=m}^{n} f(l)) = (Summation_{l=m}^{n} g(l))))]"
      ]
     },
     "execution_count": 68,
     "metadata": {},
     "output_type": "execute_result"
    }
   ],
   "source": [
    "sumEq"
   ]
  },
  {
   "cell_type": "code",
   "execution_count": 69,
   "metadata": {
    "collapsed": false
   },
   "outputs": [
    {
     "data": {
      "text/latex": [
       "$\\left[\\forall_{k \\in \\{\\left(\\left(\\varepsilon + 1\\right) + \\left(-1\\right)\\right)\\ldots \\left(2^{t - 1} + \\left(-1\\right)\\right)\\}} \\left(\\frac{1}{\\left(\\left(k - \\left(-1\\right)\\right) - 1\\right)^{2}} = \\frac{1}{k^{2}}\\right)\\right] \\Rightarrow \\left(\\left(\\sum_{l=\\left(\\varepsilon + 1\\right) + \\left(-1\\right)}^{2^{t - 1} + \\left(-1\\right)} \\frac{1}{\\left(\\left(l - \\left(-1\\right)\\right) - 1\\right)^{2}}\\right) = \\left(\\sum_{l=\\left(\\varepsilon + 1\\right) + \\left(-1\\right)}^{2^{t - 1} + \\left(-1\\right)} \\frac{1}{l^{2}}\\right)\\right)$"
      ],
      "text/plain": [
       "[forall_{k in \\{((eps + 1) + (-1))...(2^(t - 1) + (-1))\\}} (1 / ((k - (-1)) - 1)^(2) = 1 / k^(2))] => ((Summation_{l=(eps + 1) + (-1)}^{2^(t - 1) + (-1)} 1 / ((l - (-1)) - 1)^(2)) = (Summation_{l=(eps + 1) + (-1)}^{2^(t - 1) + (-1)} 1 / l^(2)))"
      ]
     },
     "execution_count": 69,
     "metadata": {},
     "output_type": "execute_result"
    }
   ],
   "source": [
    "Y12domain = Y11.rhs.operands[1].operands[1].domain\n",
    "deduceInIntegers(Y12domain.lowerBound, {epsInPosNats})\n",
    "deduceInIntegers(Y12domain.upperBound, {epsInPosNats})\n",
    "Y12 = sumEq.specialize({Operation(f,l):summandToSimplify, Operation(g,l):summandSimp}).specialize({m:Y12domain.lowerBound, n:Y12domain.upperBound})\n",
    "Y12.proven({epsInPosNats})"
   ]
  },
  {
   "cell_type": "code",
   "execution_count": 70,
   "metadata": {
    "collapsed": false
   },
   "outputs": [
    {
     "ename": "ProofFailure",
     "evalue": "Proof failed: Pfail(eps) <= (1 / 4 * ((Summation_{l=(-2^(t - 1)) + 1}^{-(eps + 1)} 1 / l^(2)) + (Summation_{l=(eps + 1) + (-1)}^{2^(t - 1) + (-1)} 1 / l^(2)))) assuming {eps in NaturalsPos}",
     "output_type": "error",
     "traceback": [
      "\u001b[0;31m---------------------------------------------------------------------------\u001b[0m",
      "\u001b[0;31mProofFailure\u001b[0m                              Traceback (most recent call last)",
      "\u001b[0;32m<ipython-input-70-81f52ebd0c62>\u001b[0m in \u001b[0;36m<module>\u001b[0;34m()\u001b[0m\n\u001b[1;32m      1\u001b[0m \u001b[0mX8\u001b[0m \u001b[0;34m=\u001b[0m \u001b[0mY12\u001b[0m\u001b[0;34m.\u001b[0m\u001b[0mconclusion\u001b[0m\u001b[0;34m.\u001b[0m\u001b[0mrhsSubstitute\u001b[0m\u001b[0;34m(\u001b[0m\u001b[0mY11\u001b[0m\u001b[0;34m)\u001b[0m\u001b[0;34m\u001b[0m\u001b[0m\n\u001b[0;32m----> 2\u001b[0;31m \u001b[0mX8\u001b[0m\u001b[0;34m.\u001b[0m\u001b[0mproven\u001b[0m\u001b[0;34m(\u001b[0m\u001b[0;34m{\u001b[0m\u001b[0mepsInPosNats\u001b[0m\u001b[0;34m}\u001b[0m\u001b[0;34m)\u001b[0m\u001b[0;34m\u001b[0m\u001b[0m\n\u001b[0m",
      "\u001b[0;32m/Users/wwitzel/proveit/proveit/expression.pyc\u001b[0m in \u001b[0;36mproven\u001b[0;34m(self, assumptions)\u001b[0m\n\u001b[1;32m     99\u001b[0m             \u001b[0;32mreturn\u001b[0m \u001b[0;34m\"{\"\u001b[0m \u001b[0;34m+\u001b[0m \u001b[0;34m\", \"\u001b[0m\u001b[0;34m.\u001b[0m\u001b[0mjoin\u001b[0m\u001b[0;34m(\u001b[0m\u001b[0;34m[\u001b[0m\u001b[0mstr\u001b[0m\u001b[0;34m(\u001b[0m\u001b[0massumption\u001b[0m\u001b[0;34m)\u001b[0m \u001b[0;32mfor\u001b[0m \u001b[0massumption\u001b[0m \u001b[0;32min\u001b[0m \u001b[0massumptions\u001b[0m\u001b[0;34m]\u001b[0m\u001b[0;34m)\u001b[0m \u001b[0;34m+\u001b[0m \u001b[0;34m\"}\"\u001b[0m\u001b[0;34m\u001b[0m\u001b[0m\n\u001b[1;32m    100\u001b[0m         \u001b[0;32mif\u001b[0m \u001b[0mself\u001b[0m\u001b[0;34m.\u001b[0m\u001b[0misProven\u001b[0m\u001b[0;34m(\u001b[0m\u001b[0massumptions\u001b[0m\u001b[0;34m)\u001b[0m\u001b[0;34m==\u001b[0m\u001b[0mFalse\u001b[0m\u001b[0;34m:\u001b[0m\u001b[0;34m\u001b[0m\u001b[0m\n\u001b[0;32m--> 101\u001b[0;31m             \u001b[0;32mraise\u001b[0m \u001b[0mProofFailure\u001b[0m\u001b[0;34m(\u001b[0m\u001b[0;34m\"Proof failed: \"\u001b[0m \u001b[0;34m+\u001b[0m \u001b[0mstr\u001b[0m\u001b[0;34m(\u001b[0m\u001b[0mself\u001b[0m\u001b[0;34m)\u001b[0m \u001b[0;34m+\u001b[0m \u001b[0;34m\" assuming \"\u001b[0m \u001b[0;34m+\u001b[0m \u001b[0mmakeAssumptionsStr\u001b[0m\u001b[0;34m(\u001b[0m\u001b[0massumptions\u001b[0m\u001b[0;34m)\u001b[0m\u001b[0;34m)\u001b[0m\u001b[0;34m\u001b[0m\u001b[0m\n\u001b[0m\u001b[1;32m    102\u001b[0m         \u001b[0;32mreturn\u001b[0m \u001b[0mself\u001b[0m\u001b[0;34m\u001b[0m\u001b[0m\n\u001b[1;32m    103\u001b[0m \u001b[0;34m\u001b[0m\u001b[0m\n",
      "\u001b[0;31mProofFailure\u001b[0m: Proof failed: Pfail(eps) <= (1 / 4 * ((Summation_{l=(-2^(t - 1)) + 1}^{-(eps + 1)} 1 / l^(2)) + (Summation_{l=(eps + 1) + (-1)}^{2^(t - 1) + (-1)} 1 / l^(2)))) assuming {eps in NaturalsPos}"
     ]
    }
   ],
   "source": [
    "X8 = Y12.conclusion.rhsSubstitute(Y11)\n",
    "X8.proven({epsInPosNats})"
   ]
  },
  {
   "cell_type": "code",
   "execution_count": null,
   "metadata": {
    "collapsed": false
   },
   "outputs": [],
   "source": [
    "evenFuncSum"
   ]
  },
  {
   "cell_type": "code",
   "execution_count": null,
   "metadata": {
    "collapsed": false
   },
   "outputs": [],
   "source": [
    "X9 = evenFuncSum.specialize({Operation(f,l):X8.rhs.operands[1].operands[0].summand, x:l}).specialize({a:X8.rhs.operands[1].operands[0].domain.lowerBound, b:X8.rhs.operands[1].operands[0].domain.upperBound}).rhsSubstitute(X8)\n",
    "X9"
   ]
  },
  {
   "cell_type": "code",
   "execution_count": null,
   "metadata": {
    "collapsed": false
   },
   "outputs": [],
   "source": [
    "distributeNegOverAdd"
   ]
  },
  {
   "cell_type": "code",
   "execution_count": null,
   "metadata": {
    "collapsed": false
   },
   "outputs": [],
   "source": [
    "negNeg"
   ]
  },
  {
   "cell_type": "code",
   "execution_count": null,
   "metadata": {
    "collapsed": false
   },
   "outputs": [],
   "source": [
    "X9.rhs.operands[1].operands[1].domain.upperBound.operands[0]"
   ]
  },
  {
   "cell_type": "code",
   "execution_count": null,
   "metadata": {
    "collapsed": false
   },
   "outputs": [],
   "source": [
    "cleanLimits1 = distributeNegOverAdd.specialize({a:X9.rhs.operands[1].operands[0].domain.upperBound.operands[0].operands[0], \n",
    "                                                b:one})\n",
    "cleanLimits1 = negNeg.specialize({a:X9.rhs.operands[1].operands[0].domain.upperBound.operands[0].operands[0].operands[0]}).rhsSubstitute(cleanLimits1)\n",
    "cleanLimits1"
   ]
  },
  {
   "cell_type": "code",
   "execution_count": null,
   "metadata": {
    "collapsed": false
   },
   "outputs": [],
   "source": [
    "cleanLimits2 = negNeg.specialize({a:X9.rhs.operands[1].operands[0].domain.lowerBound.operands[0].operands[0]})\n",
    "cleanLimits2"
   ]
  },
  {
   "cell_type": "code",
   "execution_count": null,
   "metadata": {
    "collapsed": false
   },
   "outputs": [],
   "source": [
    "cleanLimits3 = convertAddNegToSub.specialize({a:X9.rhs.operands[1].operands[1].domain.upperBound.operands[0],\n",
    "                                              b:one})\n",
    "cleanLimits3"
   ]
  },
  {
   "cell_type": "code",
   "execution_count": null,
   "metadata": {
    "collapsed": false
   },
   "outputs": [],
   "source": [
    "cleanLimits4 = cancelAddNeg.specialize({a:eps, b:one})\n",
    "cleanLimits4"
   ]
  },
  {
   "cell_type": "code",
   "execution_count": null,
   "metadata": {
    "collapsed": false
   },
   "outputs": [],
   "source": [
    "X10 = cleanLimits1.rhsSubstitute(X9)\n",
    "X10 = cleanLimits2.rhsSubstitute(X10)\n",
    "X10 = cleanLimits3.rhsSubstitute(X10)\n",
    "X10 = cleanLimits4.rhsSubstitute(X10)\n",
    "X10"
   ]
  },
  {
   "cell_type": "code",
   "execution_count": null,
   "metadata": {
    "collapsed": false
   },
   "outputs": [],
   "source": [
    "splitSumOneElem"
   ]
  },
  {
   "cell_type": "code",
   "execution_count": null,
   "metadata": {
    "collapsed": false
   },
   "outputs": [],
   "source": [
    "Y13 = splitSumOneElem.specialize({Operation(f,l):X10.rhs.operands[1].operands[0].summand}).specialize({a:X10.rhs.operands[1].operands[0].domain.lowerBound,\n",
    "                                                                                                       b:X10.rhs.operands[1].operands[0].domain.upperBound})\n",
    "Y13"
   ]
  },
  {
   "cell_type": "code",
   "execution_count": null,
   "metadata": {
    "collapsed": false
   },
   "outputs": [],
   "source": [
    "X11 = Y13.rhsSubstitute(X10)\n",
    "X11"
   ]
  },
  {
   "cell_type": "code",
   "execution_count": null,
   "metadata": {
    "collapsed": false
   },
   "outputs": [],
   "source": [
    "Y14 = convertAddNegToSub.specialize({a:Add(eps,one),b:one})\n",
    "Y14"
   ]
  },
  {
   "cell_type": "code",
   "execution_count": null,
   "metadata": {
    "collapsed": false
   },
   "outputs": [],
   "source": [
    "Y15 = cancelAddNeg.specialize({a:eps,b:one})\n",
    "Y15"
   ]
  },
  {
   "cell_type": "code",
   "execution_count": null,
   "metadata": {
    "collapsed": false
   },
   "outputs": [],
   "source": [
    "cleanLimits5 = Y15.rhsSubstitute(Y14)\n",
    "cleanLimits5"
   ]
  },
  {
   "cell_type": "code",
   "execution_count": null,
   "metadata": {
    "collapsed": false
   },
   "outputs": [],
   "source": [
    "X12 = cleanLimits5.lhsSubstitute(X11)\n",
    "X12"
   ]
  },
  {
   "cell_type": "code",
   "execution_count": null,
   "metadata": {
    "collapsed": false
   },
   "outputs": [],
   "source": [
    "termToBound = X12.rhs.operands[1]\n",
    "groupAndUngroupAssumptions = {In(eps,Complexes), In(termToBound.operands[1],Complexes), NotEquals(eps,zero)}\n",
    "termToBound"
   ]
  },
  {
   "cell_type": "code",
   "execution_count": null,
   "metadata": {
    "collapsed": false
   },
   "outputs": [],
   "source": [
    "Y16 = termToBound.commute(groupAndUngroupAssumptions)\n",
    "Y16"
   ]
  },
  {
   "cell_type": "code",
   "execution_count": null,
   "metadata": {
    "collapsed": false
   },
   "outputs": [],
   "source": [
    "Y17 = convertAddNegToSub.specialize({a:termToBound.operands[0].operands[0],b:termToBound.operands[0].operands[1]})\n",
    "Y17"
   ]
  },
  {
   "cell_type": "code",
   "execution_count": null,
   "metadata": {
    "collapsed": false
   },
   "outputs": [],
   "source": [
    "Y18 = Equals(Y16.lhs, Y17.deriveReversed().rhsSubstitute(Y16.rhs))\n",
    "Y18"
   ]
  },
  {
   "cell_type": "code",
   "execution_count": null,
   "metadata": {
    "collapsed": false
   },
   "outputs": [],
   "source": [
    "Y19 = Equation(Y18).update(Y18.rhs.ungroup(1, groupAndUngroupAssumptions))\n",
    "Y19"
   ]
  },
  {
   "cell_type": "code",
   "execution_count": null,
   "metadata": {
    "collapsed": false
   },
   "outputs": [],
   "source": [
    "Y20 = Equation(Y19).update(Y19.rhs.group(0,2, assumptions=groupAndUngroupAssumptions))\n",
    "Y20"
   ]
  },
  {
   "cell_type": "code",
   "execution_count": null,
   "metadata": {
    "collapsed": false
   },
   "outputs": [],
   "source": [
    "addSums"
   ]
  },
  {
   "cell_type": "code",
   "execution_count": null,
   "metadata": {
    "collapsed": false
   },
   "outputs": [],
   "source": [
    "Y21 = addSums.specialize({Operation(f,l):Y19.rhs.operands[0].summand}).specialize({a:Y19.rhs.operands[0].domain.lowerBound, b:Y19.rhs.operands[0].domain.upperBound})\n",
    "Y21"
   ]
  },
  {
   "cell_type": "code",
   "execution_count": null,
   "metadata": {
    "collapsed": false
   },
   "outputs": [],
   "source": [
    "Y22 = Y21.rhsSubstitute(Y20)\n",
    "Y22"
   ]
  },
  {
   "cell_type": "code",
   "execution_count": null,
   "metadata": {
    "collapsed": false
   },
   "outputs": [],
   "source": [
    "ineqThm6a"
   ]
  },
  {
   "cell_type": "code",
   "execution_count": null,
   "metadata": {
    "collapsed": false
   },
   "outputs": [],
   "source": [
    "Y23 = ineqThm6a.specialize({a:Y22.rhs.operands[0], b:Y22.rhs.operands[1]})\n",
    "Y23"
   ]
  },
  {
   "cell_type": "code",
   "execution_count": null,
   "metadata": {
    "collapsed": false
   },
   "outputs": [],
   "source": [
    "Y24 = Relation(Y22).update(Y23)\n",
    "Y24"
   ]
  },
  {
   "cell_type": "code",
   "execution_count": null,
   "metadata": {
    "collapsed": false
   },
   "outputs": [],
   "source": [
    "ineqThm5"
   ]
  },
  {
   "cell_type": "code",
   "execution_count": null,
   "metadata": {
    "collapsed": false
   },
   "outputs": [],
   "source": [
    "Y25 = ineqThm5.specialize({a:Y24.rhs, b:Y24.lhs, c:Fraction(one,four)})\n",
    "Y25"
   ]
  },
  {
   "cell_type": "code",
   "execution_count": null,
   "metadata": {
    "collapsed": false
   },
   "outputs": [],
   "source": [
    "X13 = Relation(X12).update(Y25)\n",
    "X13"
   ]
  },
  {
   "cell_type": "code",
   "execution_count": null,
   "metadata": {
    "collapsed": false
   },
   "outputs": [],
   "source": [
    "X14 = Relation(X13).update(X13.rhs.ungroup(1, assumptions=groupAndUngroupAssumptions))\n",
    "X14"
   ]
  },
  {
   "cell_type": "code",
   "execution_count": null,
   "metadata": {
    "collapsed": false
   },
   "outputs": [],
   "source": [
    "Y26 = simplifyQuarterTimesTwo.rhsSubstitute(X14.rhs.group(0,2, assumptions=groupAndUngroupAssumptions))\n",
    "Y26"
   ]
  },
  {
   "cell_type": "code",
   "execution_count": null,
   "metadata": {
    "collapsed": false
   },
   "outputs": [],
   "source": [
    "X15 = Relation(X14).update(Y26)\n",
    "X15"
   ]
  },
  {
   "cell_type": "code",
   "execution_count": null,
   "metadata": {
    "collapsed": false
   },
   "outputs": [],
   "source": [
    "sumIntegrateIneq1"
   ]
  },
  {
   "cell_type": "code",
   "execution_count": null,
   "metadata": {
    "collapsed": false
   },
   "outputs": [],
   "source": [
    "Y27 = sumIntegrateIneq1.specialize({Operation(f,l):X15.rhs.operands[1].summand, x:l}).specialize({a:X15.rhs.operands[1].domain.lowerBound,b:X15.rhs.operands[1].domain.upperBound})\n",
    "Y27"
   ]
  },
  {
   "cell_type": "code",
   "execution_count": null,
   "metadata": {
    "collapsed": false
   },
   "outputs": [],
   "source": [
    "Y28 = ineqThm5.specialize({a:Y27.rhs, b:Y27.lhs, c:Fraction(one,two)})\n",
    "Y28"
   ]
  },
  {
   "cell_type": "code",
   "execution_count": null,
   "metadata": {
    "collapsed": false
   },
   "outputs": [],
   "source": [
    "X16 = Relation(X15).update(Y28)\n",
    "X16"
   ]
  },
  {
   "cell_type": "code",
   "execution_count": null,
   "metadata": {
    "collapsed": false
   },
   "outputs": [],
   "source": [
    "Y29 = evalPfailIntegral.specialize({t:t_})\n",
    "Y29"
   ]
  },
  {
   "cell_type": "code",
   "execution_count": null,
   "metadata": {
    "collapsed": false
   },
   "outputs": [],
   "source": [
    "Y30 = ineqThm5.specialize({a:Y29.rhs, b:Y29.lhs, c:Fraction(one,two)})\n",
    "Y30"
   ]
  },
  {
   "cell_type": "code",
   "execution_count": null,
   "metadata": {
    "collapsed": false
   },
   "outputs": [],
   "source": [
    "X17 = Relation(X16).update(Y30)\n",
    "X17"
   ]
  },
  {
   "cell_type": "markdown",
   "metadata": {},
   "source": [
    "Hooray!"
   ]
  },
  {
   "cell_type": "code",
   "execution_count": null,
   "metadata": {
    "collapsed": true
   },
   "outputs": [],
   "source": []
  }
 ],
 "metadata": {
  "kernelspec": {
   "display_name": "Python 2",
   "language": "python",
   "name": "python2"
  }
 },
 "nbformat": 4,
 "nbformat_minor": 0
}
