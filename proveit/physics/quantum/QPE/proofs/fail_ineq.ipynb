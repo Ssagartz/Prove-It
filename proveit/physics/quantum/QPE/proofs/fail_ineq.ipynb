{
 "cells": [
  {
   "cell_type": "code",
   "execution_count": 192,
   "metadata": {
    "collapsed": false
   },
   "outputs": [],
   "source": [
    "from proveit.basiclogic import autoSubstitute, autoSubstitution, In, Equation, And\n",
    "from proveit.number.arithmeticOps import *\n",
    "from proveit.common import a, b, k, l, r, x, eps\n",
    "from proveit.number import Exponentiate, Add, Subtract, Multiply, Abs\n",
    "from proveit.number.common import *\n",
    "from proveit.physics.quantum.QPE.axioms import phaseInReals, tInNats, modAddDef\n",
    "from proveit.physics.quantum.QPE.theorems import alpha_l_sqrd_ineq, fail_sum, evalPfailIntegral\n",
    "from proveit.physics.quantum.QPE.common import alpha_l, alpha_l_sqrd, t_, delta_\n",
    "from proveit.physics.quantum.QPE.phaseEstOps import Psuccess, Pfail, ModAdd\n",
    "from proveit.number.theorems import splitSumOneElem, addSums\n",
    "from proveit.number.complex.theorems import powOfProd, cancelSubAndAdd, negNeg, cancelAddNeg, convertAddNegToSub, distributeNegOverAdd\n",
    "from proveit.number.integer.theorems import sumIneq1, sumIneq2, indexShift, sumEq, evenFuncSum, sumIntegrateIneq1\n",
    "from proveit.number.relation import Relation\n",
    "from proveit.number.real.theorems import sumFactor_temp, ineqThm5, ineqThm6a, ineqThm7a, ineqThm8a, simplifyQuarterTimesTwo\n",
    "from proveit.basiclogic.set import Union"
   ]
  },
  {
   "cell_type": "code",
   "execution_count": 2,
   "metadata": {
    "collapsed": false
   },
   "outputs": [
    {
     "data": {
      "text/latex": [
       "$P_{\\rm fail}\\left(\\varepsilon\\right) = \\left(\\left(\\sum_{l=\\left(-2^{t - 1}\\right) + 1}^{-\\left(\\varepsilon + 1\\right)}\\left|\\alpha_{l}\\right|^{2}\\right) + \\left(\\sum_{l=\\varepsilon + 1}^{2^{t - 1}}\\left|\\alpha_{l}\\right|^{2}\\right)\\right)$"
      ],
      "text/plain": [
       "Pfail(eps) = ((Summation_{l=(-2^(t - 1)) + 1}^{-(eps + 1)}|alpha_{l}|^(2)) + (Summation_{l=eps + 1}^{2^(t - 1)}|alpha_{l}|^(2)))"
      ]
     },
     "execution_count": 2,
     "metadata": {},
     "output_type": "execute_result"
    }
   ],
   "source": [
    "fail_sum_special = fail_sum.specialize()\n",
    "fail_sum_special"
   ]
  },
  {
   "cell_type": "code",
   "execution_count": 3,
   "metadata": {
    "collapsed": false
   },
   "outputs": [
    {
     "data": {
      "text/latex": [
       "$\\forall_{a, b \\in Funcs} \\left[\\forall_{m, n \\in \\mathbb{Z}} \\left(\\left[\\forall_{k \\in \\{m\\ldots n\\}} \\left(a\\left(k\\right) \\leq b\\left(k\\right)\\right)\\right] \\Rightarrow \\left(\\left(\\sum_{l=m}^{n}a\\left(l\\right)\\right) \\leq \\left(\\sum_{l=m}^{n}b\\left(l\\right)\\right)\\right)\\right)\\right]$"
      ],
      "text/plain": [
       "forall_{a, b in Funcs} [forall_{m, n in Integers} ([forall_{k in \\{m...n\\}} (a(k) <= b(k))] => ((Summation_{l=m}^{n}a(l)) <= (Summation_{l=m}^{n}b(l))))]"
      ]
     },
     "execution_count": 3,
     "metadata": {},
     "output_type": "execute_result"
    }
   ],
   "source": [
    "sumIneq1"
   ]
  },
  {
   "cell_type": "code",
   "execution_count": 4,
   "metadata": {
    "collapsed": false
   },
   "outputs": [],
   "source": [
    "assumptions = {In(Operation(a,l),Funcs), In(Operation(b,l),Funcs), In(alpha_l_sqrd,Reals), In(fail_sum_special.rhs.operands[0].domain.upperBound,Integers), In(fail_sum_special.rhs.operands[0].domain.lowerBound,Integers), In(delta_,Complexes), In(one,Complexes), In(l,Complexes), NotEquals(Subtract(l,Multiply(Exponentiate(two,t_), delta_)),zero)}"
   ]
  },
  {
   "cell_type": "code",
   "execution_count": 5,
   "metadata": {
    "collapsed": false
   },
   "outputs": [
    {
     "data": {
      "text/latex": [
       "$\\frac{1}{4 \\cdot \\left(l - \\left(2^{t} \\cdot \\delta\\right)\\right)^{2}}$"
      ],
      "text/plain": [
       "1 / (4 * (l - (2^(t) * delta))^(2))"
      ]
     },
     "execution_count": 5,
     "metadata": {},
     "output_type": "execute_result"
    }
   ],
   "source": [
    "alpha_l_sqrd_ineq.specialize().rhs"
   ]
  },
  {
   "cell_type": "code",
   "execution_count": 6,
   "metadata": {
    "collapsed": false
   },
   "outputs": [
    {
     "data": {
      "text/latex": [
       "$\\left[\\forall_{k \\in \\{\\left(\\left(-2^{t - 1}\\right) + 1\\right)\\ldots \\left(-\\left(\\varepsilon + 1\\right)\\right)\\}} \\left(\\left|\\alpha_{k}\\right|^{2} \\leq \\frac{1}{4 \\cdot \\left(k - \\left(2^{t} \\cdot \\delta\\right)\\right)^{2}}\\right)\\right] \\Rightarrow \\left(\\left(\\sum_{l=\\left(-2^{t - 1}\\right) + 1}^{-\\left(\\varepsilon + 1\\right)}\\left|\\alpha_{l}\\right|^{2}\\right) \\leq \\left(\\sum_{l=\\left(-2^{t - 1}\\right) + 1}^{-\\left(\\varepsilon + 1\\right)}\\frac{1}{4 \\cdot \\left(l - \\left(2^{t} \\cdot \\delta\\right)\\right)^{2}}\\right)\\right)$"
      ],
      "text/plain": [
       "[forall_{k in \\{((-2^(t - 1)) + 1)...(-(eps + 1))\\}} (|alpha_{k}|^(2) <= 1 / (4 * (k - (2^(t) * delta))^(2)))] => ((Summation_{l=(-2^(t - 1)) + 1}^{-(eps + 1)}|alpha_{l}|^(2)) <= (Summation_{l=(-2^(t - 1)) + 1}^{-(eps + 1)}1 / (4 * (l - (2^(t) * delta))^(2))))"
      ]
     },
     "execution_count": 6,
     "metadata": {},
     "output_type": "execute_result"
    }
   ],
   "source": [
    "Y1 = sumIneq1.specialize({Operation(a,l):alpha_l_sqrd, Operation(b,l):alpha_l_sqrd_ineq.specialize().rhs}).specialize({m:fail_sum_special.rhs.operands[0].domain.lowerBound, n:fail_sum_special.rhs.operands[0].domain.upperBound})\n",
    "Y1"
   ]
  },
  {
   "cell_type": "code",
   "execution_count": 7,
   "metadata": {
    "collapsed": false
   },
   "outputs": [
    {
     "data": {
      "text/latex": [
       "$\\left[\\forall_{k \\in \\{\\left(\\varepsilon + 1\\right)\\ldots 2^{t - 1}\\}} \\left(\\left|\\alpha_{k}\\right|^{2} \\leq \\frac{1}{4 \\cdot \\left(k - \\left(2^{t} \\cdot \\delta\\right)\\right)^{2}}\\right)\\right] \\Rightarrow \\left(\\left(\\sum_{l=\\varepsilon + 1}^{2^{t - 1}}\\left|\\alpha_{l}\\right|^{2}\\right) \\leq \\left(\\sum_{l=\\varepsilon + 1}^{2^{t - 1}}\\frac{1}{4 \\cdot \\left(l - \\left(2^{t} \\cdot \\delta\\right)\\right)^{2}}\\right)\\right)$"
      ],
      "text/plain": [
       "[forall_{k in \\{(eps + 1)...2^(t - 1)\\}} (|alpha_{k}|^(2) <= 1 / (4 * (k - (2^(t) * delta))^(2)))] => ((Summation_{l=eps + 1}^{2^(t - 1)}|alpha_{l}|^(2)) <= (Summation_{l=eps + 1}^{2^(t - 1)}1 / (4 * (l - (2^(t) * delta))^(2))))"
      ]
     },
     "execution_count": 7,
     "metadata": {},
     "output_type": "execute_result"
    }
   ],
   "source": [
    "Y2 = sumIneq1.specialize({Operation(a,l):alpha_l_sqrd, Operation(b,l):alpha_l_sqrd_ineq.specialize().rhs}).specialize({m:fail_sum_special.rhs.operands[1].domain.lowerBound, n:fail_sum_special.rhs.operands[1].domain.upperBound})\n",
    "Y2"
   ]
  },
  {
   "cell_type": "code",
   "execution_count": 8,
   "metadata": {
    "collapsed": false,
    "scrolled": true
   },
   "outputs": [],
   "source": [
    "Y3 = sumIneq2.specialize({a:fail_sum_special.rhs.operands[0], b:fail_sum_special.rhs.operands[1], c:Y1.conclusion.rhs, d:Y2.conclusion.rhs})"
   ]
  },
  {
   "cell_type": "code",
   "execution_count": 9,
   "metadata": {
    "collapsed": false
   },
   "outputs": [
    {
     "data": {
      "text/latex": [
       "$P_{\\rm fail}\\left(\\varepsilon\\right) \\leq \\left(\\left(\\sum_{l=\\left(-2^{t - 1}\\right) + 1}^{-\\left(\\varepsilon + 1\\right)}\\frac{1}{4 \\cdot \\left(l - \\left(2^{t} \\cdot \\delta\\right)\\right)^{2}}\\right) + \\left(\\sum_{l=\\varepsilon + 1}^{2^{t - 1}}\\frac{1}{4 \\cdot \\left(l - \\left(2^{t} \\cdot \\delta\\right)\\right)^{2}}\\right)\\right)$"
      ],
      "text/plain": [
       "Pfail(eps) <= ((Summation_{l=(-2^(t - 1)) + 1}^{-(eps + 1)}1 / (4 * (l - (2^(t) * delta))^(2))) + (Summation_{l=eps + 1}^{2^(t - 1)}1 / (4 * (l - (2^(t) * delta))^(2))))"
      ]
     },
     "execution_count": 9,
     "metadata": {},
     "output_type": "execute_result"
    }
   ],
   "source": [
    "X1 = Relation(fail_sum_special).update(Y3.conclusion)\n",
    "X1"
   ]
  },
  {
   "cell_type": "code",
   "execution_count": 10,
   "metadata": {
    "collapsed": false
   },
   "outputs": [
    {
     "data": {
      "text/latex": [
       "$\\frac{1}{4 \\cdot \\left(l - \\left(2^{t} \\cdot \\delta\\right)\\right)^{2}}$"
      ],
      "text/plain": [
       "1 / (4 * (l - (2^(t) * delta))^(2))"
      ]
     },
     "execution_count": 10,
     "metadata": {},
     "output_type": "execute_result"
    }
   ],
   "source": [
    "X1_summand = X1.rhs.operands[0].summand\n",
    "X1_summand"
   ]
  },
  {
   "cell_type": "code",
   "execution_count": 11,
   "metadata": {
    "collapsed": false
   },
   "outputs": [
    {
     "data": {
      "text/latex": [
       "$\\frac{1}{4 \\cdot \\left(l - \\left(2^{t} \\cdot \\delta\\right)\\right)^{2}} = \\left(\\frac{1}{4} \\cdot \\frac{1}{\\left(l - \\left(2^{t} \\cdot \\delta\\right)\\right)^{2}}\\right)$"
      ],
      "text/plain": [
       "1 / (4 * (l - (2^(t) * delta))^(2)) = (1 / 4 * 1 / (l - (2^(t) * delta))^(2))"
      ]
     },
     "execution_count": 11,
     "metadata": {},
     "output_type": "execute_result"
    }
   ],
   "source": [
    "Y4 = X1_summand.factor(Fraction(one,four),'left',assumptions=assumptions)\n",
    "Y4"
   ]
  },
  {
   "cell_type": "code",
   "execution_count": 12,
   "metadata": {
    "collapsed": false
   },
   "outputs": [],
   "source": [
    "sum1Domain = X1.rhs.operands[0].domain\n",
    "sum2Domain = X1.rhs.operands[1].domain"
   ]
  },
  {
   "cell_type": "code",
   "execution_count": 13,
   "metadata": {
    "collapsed": false
   },
   "outputs": [],
   "source": [
    "Y4_sum1equivForAllInstances = Y4.generalize(l,sum1Domain)\n",
    "Y4_sum2equivForAllInstances = Y4.generalize(l,sum2Domain)\n",
    "Y5_sum1 = X1.rhs.operands[0].instanceSubstitution(Y4_sum1equivForAllInstances)\n",
    "Y5_sum2 = X1.rhs.operands[1].instanceSubstitution(Y4_sum2equivForAllInstances)"
   ]
  },
  {
   "cell_type": "code",
   "execution_count": 14,
   "metadata": {
    "collapsed": false
   },
   "outputs": [
    {
     "data": {
      "text/latex": [
       "$P_{\\rm fail}\\left(\\varepsilon\\right) \\leq \\left(\\left(\\sum_{l=\\left(-2^{t - 1}\\right) + 1}^{-\\left(\\varepsilon + 1\\right)}\\left(\\frac{1}{4} \\cdot \\frac{1}{\\left(l - \\left(2^{t} \\cdot \\delta\\right)\\right)^{2}}\\right)\\right) + \\left(\\sum_{l=\\varepsilon + 1}^{2^{t - 1}}\\left(\\frac{1}{4} \\cdot \\frac{1}{\\left(l - \\left(2^{t} \\cdot \\delta\\right)\\right)^{2}}\\right)\\right)\\right)$"
      ],
      "text/plain": [
       "Pfail(eps) <= ((Summation_{l=(-2^(t - 1)) + 1}^{-(eps + 1)}(1 / 4 * 1 / (l - (2^(t) * delta))^(2))) + (Summation_{l=eps + 1}^{2^(t - 1)}(1 / 4 * 1 / (l - (2^(t) * delta))^(2))))"
      ]
     },
     "execution_count": 14,
     "metadata": {},
     "output_type": "execute_result"
    }
   ],
   "source": [
    "X2 = Y5_sum1.rhsSubstitute(X1)\n",
    "X3 = Y5_sum2.rhsSubstitute(X2)\n",
    "X3"
   ]
  },
  {
   "cell_type": "code",
   "execution_count": 15,
   "metadata": {
    "collapsed": false
   },
   "outputs": [
    {
     "data": {
      "text/latex": [
       "$\\left(\\left(2^{t} \\cdot \\delta\\right) \\leq 1\\right) \\land \\left(0 \\leq \\left(2^{t} \\cdot \\delta\\right)\\right)$"
      ],
      "text/plain": [
       "((2^(t) * delta) <= 1) and (0 <= (2^(t) * delta))"
      ]
     },
     "execution_count": 15,
     "metadata": {},
     "output_type": "execute_result"
    }
   ],
   "source": [
    "auxFact1_temp = And(LessThanEquals(Multiply(Exponentiate(two,t_), delta_),one), LessThanEquals(zero,Multiply(Exponentiate(two, t_), delta_)))\n",
    "assumptions = assumptions.union({auxFact1_temp})\n",
    "auxFact1_temp"
   ]
  },
  {
   "cell_type": "code",
   "execution_count": 16,
   "metadata": {
    "collapsed": false
   },
   "outputs": [
    {
     "data": {
      "text/latex": [
       "$\\forall_{l \\in \\mathbb{Z} | l \\leq 0} \\left(\\left(\\frac{1}{4} \\cdot \\frac{1}{\\left(l - \\left(2^{t} \\cdot \\delta\\right)\\right)^{2}}\\right) \\leq \\left(\\frac{1}{4} \\cdot \\frac{1}{l^{2}}\\right)\\right)$"
      ],
      "text/plain": [
       "forall_{l in Integers | l <= 0} ((1 / 4 * 1 / (l - (2^(t) * delta))^(2)) <= (1 / 4 * 1 / l^(2)))"
      ]
     },
     "execution_count": 16,
     "metadata": {},
     "output_type": "execute_result"
    }
   ],
   "source": [
    "Y6 = ineqThm7a.specialize({x:Multiply(Exponentiate(two,t_), delta_)}).specialize({a:Fraction(one,four)})\n",
    "Y6"
   ]
  },
  {
   "cell_type": "code",
   "execution_count": 17,
   "metadata": {
    "collapsed": false
   },
   "outputs": [
    {
     "data": {
      "text/latex": [
       "$\\forall_{l \\in \\mathbb{Z} | l > 0} \\left(\\left(\\frac{1}{4} \\cdot \\frac{1}{\\left(l - \\left(2^{t} \\cdot \\delta\\right)\\right)^{2}}\\right) \\leq \\left(\\frac{1}{4} \\cdot \\frac{1}{\\left(l - 1\\right)^{2}}\\right)\\right)$"
      ],
      "text/plain": [
       "forall_{l in Integers | l > 0} ((1 / 4 * 1 / (l - (2^(t) * delta))^(2)) <= (1 / 4 * 1 / (l - 1)^(2)))"
      ]
     },
     "execution_count": 17,
     "metadata": {},
     "output_type": "execute_result"
    }
   ],
   "source": [
    "Y7 = ineqThm8a.specialize({x:Multiply(Exponentiate(two,t_), delta_)}).specialize({a:Fraction(one,four)})\n",
    "Y7"
   ]
  },
  {
   "cell_type": "code",
   "execution_count": 18,
   "metadata": {
    "collapsed": false
   },
   "outputs": [
    {
     "data": {
      "text/latex": [
       "$\\left[\\forall_{k \\in \\{\\left(\\left(-2^{t - 1}\\right) + 1\\right)\\ldots \\left(-\\left(\\varepsilon + 1\\right)\\right)\\}} \\left(\\left(\\frac{1}{4} \\cdot \\frac{1}{\\left(k - \\left(2^{t} \\cdot \\delta\\right)\\right)^{2}}\\right) \\leq \\left(\\frac{1}{4} \\cdot \\frac{1}{k^{2}}\\right)\\right)\\right] \\Rightarrow \\left(\\left(\\sum_{l=\\left(-2^{t - 1}\\right) + 1}^{-\\left(\\varepsilon + 1\\right)}\\left(\\frac{1}{4} \\cdot \\frac{1}{\\left(l - \\left(2^{t} \\cdot \\delta\\right)\\right)^{2}}\\right)\\right) \\leq \\left(\\sum_{l=\\left(-2^{t - 1}\\right) + 1}^{-\\left(\\varepsilon + 1\\right)}\\left(\\frac{1}{4} \\cdot \\frac{1}{l^{2}}\\right)\\right)\\right)$"
      ],
      "text/plain": [
       "[forall_{k in \\{((-2^(t - 1)) + 1)...(-(eps + 1))\\}} ((1 / 4 * 1 / (k - (2^(t) * delta))^(2)) <= (1 / 4 * 1 / k^(2)))] => ((Summation_{l=(-2^(t - 1)) + 1}^{-(eps + 1)}(1 / 4 * 1 / (l - (2^(t) * delta))^(2))) <= (Summation_{l=(-2^(t - 1)) + 1}^{-(eps + 1)}(1 / 4 * 1 / l^(2))))"
      ]
     },
     "execution_count": 18,
     "metadata": {},
     "output_type": "execute_result"
    }
   ],
   "source": [
    "Y8 = sumIneq1.specialize({Operation(a,l):Y6.specialize().lhs, Operation(b,l):Y6.specialize().rhs}).specialize({m:X3.rhs.operands[0].domain.lowerBound, n:X3.rhs.operands[0].domain.upperBound})\n",
    "Y8"
   ]
  },
  {
   "cell_type": "code",
   "execution_count": 19,
   "metadata": {
    "collapsed": false
   },
   "outputs": [
    {
     "data": {
      "text/latex": [
       "$\\left[\\forall_{k \\in \\{\\left(\\varepsilon + 1\\right)\\ldots 2^{t - 1}\\}} \\left(\\left(\\frac{1}{4} \\cdot \\frac{1}{\\left(k - \\left(2^{t} \\cdot \\delta\\right)\\right)^{2}}\\right) \\leq \\left(\\frac{1}{4} \\cdot \\frac{1}{\\left(k - 1\\right)^{2}}\\right)\\right)\\right] \\Rightarrow \\left(\\left(\\sum_{l=\\varepsilon + 1}^{2^{t - 1}}\\left(\\frac{1}{4} \\cdot \\frac{1}{\\left(l - \\left(2^{t} \\cdot \\delta\\right)\\right)^{2}}\\right)\\right) \\leq \\left(\\sum_{l=\\varepsilon + 1}^{2^{t - 1}}\\left(\\frac{1}{4} \\cdot \\frac{1}{\\left(l - 1\\right)^{2}}\\right)\\right)\\right)$"
      ],
      "text/plain": [
       "[forall_{k in \\{(eps + 1)...2^(t - 1)\\}} ((1 / 4 * 1 / (k - (2^(t) * delta))^(2)) <= (1 / 4 * 1 / (k - 1)^(2)))] => ((Summation_{l=eps + 1}^{2^(t - 1)}(1 / 4 * 1 / (l - (2^(t) * delta))^(2))) <= (Summation_{l=eps + 1}^{2^(t - 1)}(1 / 4 * 1 / (l - 1)^(2))))"
      ]
     },
     "execution_count": 19,
     "metadata": {},
     "output_type": "execute_result"
    }
   ],
   "source": [
    "Y9 = sumIneq1.specialize({Operation(a,l):Y7.specialize().lhs, Operation(b,l):Y7.specialize().rhs}).specialize({m:X3.rhs.operands[1].domain.lowerBound, n:X3.rhs.operands[1].domain.upperBound})\n",
    "Y9"
   ]
  },
  {
   "cell_type": "code",
   "execution_count": 20,
   "metadata": {
    "collapsed": false
   },
   "outputs": [
    {
     "data": {
      "text/latex": [
       "$\\forall_{a, b, c, d \\in \\mathbb{R}} \\left(\\left(\\left(a \\leq c\\right) \\land \\left(b \\leq d\\right)\\right) \\Rightarrow \\left(\\left(a + b\\right) \\leq \\left(c + d\\right)\\right)\\right)$"
      ],
      "text/plain": [
       "forall_{a, b, c, d in Reals} (((a <= c) and (b <= d)) => ((a + b) <= (c + d)))"
      ]
     },
     "execution_count": 20,
     "metadata": {},
     "output_type": "execute_result"
    }
   ],
   "source": [
    "sumIneq2"
   ]
  },
  {
   "cell_type": "code",
   "execution_count": 21,
   "metadata": {
    "collapsed": true
   },
   "outputs": [],
   "source": [
    "Y10 = sumIneq2.specialize({a:X3.rhs.operands[0], b:X3.rhs.operands[1], c:Y8.conclusion.rhs, d:Y9.conclusion.rhs})"
   ]
  },
  {
   "cell_type": "code",
   "execution_count": 22,
   "metadata": {
    "collapsed": false
   },
   "outputs": [
    {
     "data": {
      "text/latex": [
       "$P_{\\rm fail}\\left(\\varepsilon\\right) \\leq \\left(\\left(\\sum_{l=\\left(-2^{t - 1}\\right) + 1}^{-\\left(\\varepsilon + 1\\right)}\\left(\\frac{1}{4} \\cdot \\frac{1}{l^{2}}\\right)\\right) + \\left(\\sum_{l=\\varepsilon + 1}^{2^{t - 1}}\\left(\\frac{1}{4} \\cdot \\frac{1}{\\left(l - 1\\right)^{2}}\\right)\\right)\\right)$"
      ],
      "text/plain": [
       "Pfail(eps) <= ((Summation_{l=(-2^(t - 1)) + 1}^{-(eps + 1)}(1 / 4 * 1 / l^(2))) + (Summation_{l=eps + 1}^{2^(t - 1)}(1 / 4 * 1 / (l - 1)^(2))))"
      ]
     },
     "execution_count": 22,
     "metadata": {},
     "output_type": "execute_result"
    }
   ],
   "source": [
    "X4 = Relation(X3).update(Y10.conclusion)\n",
    "X4"
   ]
  },
  {
   "cell_type": "code",
   "execution_count": 23,
   "metadata": {
    "collapsed": false
   },
   "outputs": [
    {
     "data": {
      "text/latex": [
       "$P_{\\rm fail}\\left(\\varepsilon\\right) \\leq \\left(\\left(\\frac{1}{4} \\cdot \\left(\\sum_{l=\\left(-2^{t - 1}\\right) + 1}^{-\\left(\\varepsilon + 1\\right)}\\frac{1}{l^{2}}\\right)\\right) + \\left(\\frac{1}{4} \\cdot \\left(\\sum_{l=\\varepsilon + 1}^{2^{t - 1}}\\frac{1}{\\left(l - 1\\right)^{2}}\\right)\\right)\\right)$"
      ],
      "text/plain": [
       "Pfail(eps) <= ((1 / 4 * (Summation_{l=(-2^(t - 1)) + 1}^{-(eps + 1)}1 / l^(2))) + (1 / 4 * (Summation_{l=eps + 1}^{2^(t - 1)}1 / (l - 1)^(2))))"
      ]
     },
     "execution_count": 23,
     "metadata": {},
     "output_type": "execute_result"
    }
   ],
   "source": [
    "X5 = X4.rhs.operands[0].factor(Fraction(one,four),assumptions=assumptions).rhsSubstitute(X4)\n",
    "X6 = X5.rhs.operands[1].factor(Fraction(one,four),assumptions=assumptions).rhsSubstitute(X5)\n",
    "X6"
   ]
  },
  {
   "cell_type": "code",
   "execution_count": 24,
   "metadata": {
    "collapsed": false
   },
   "outputs": [
    {
     "data": {
      "text/latex": [
       "$P_{\\rm fail}\\left(\\varepsilon\\right) \\leq \\left(\\frac{1}{4} \\cdot \\left(\\left(\\sum_{l=\\left(-2^{t - 1}\\right) + 1}^{-\\left(\\varepsilon + 1\\right)}\\frac{1}{l^{2}}\\right) + \\left(\\sum_{l=\\varepsilon + 1}^{2^{t - 1}}\\frac{1}{\\left(l - 1\\right)^{2}}\\right)\\right)\\right)$"
      ],
      "text/plain": [
       "Pfail(eps) <= (1 / 4 * ((Summation_{l=(-2^(t - 1)) + 1}^{-(eps + 1)}1 / l^(2)) + (Summation_{l=eps + 1}^{2^(t - 1)}1 / (l - 1)^(2))))"
      ]
     },
     "execution_count": 24,
     "metadata": {},
     "output_type": "execute_result"
    }
   ],
   "source": [
    "X7 = sumFactor_temp.specialize({a:X6.rhs.operands[0].operands[0], b:X6.rhs.operands[0].operands[1], c:X6.rhs.operands[1].operands[1]}).rhsSubstitute(X6)\n",
    "X7"
   ]
  },
  {
   "cell_type": "code",
   "execution_count": 25,
   "metadata": {
    "collapsed": false
   },
   "outputs": [
    {
     "data": {
      "text/latex": [
       "$\\forall_{f} \\left[\\forall_{a, b, c \\in \\mathbb{Z}} \\left(\\left(\\sum_{x=a}^{b}f\\left(x\\right)\\right) = \\left(\\sum_{x=a + c}^{b + c}f\\left(x - c\\right)\\right)\\right)\\right]$"
      ],
      "text/plain": [
       "forall_{f} [forall_{a, b, c in Integers} ((Summation_{x=a}^{b}f(x)) = (Summation_{x=a + c}^{b + c}f(x - c)))]"
      ]
     },
     "execution_count": 25,
     "metadata": {},
     "output_type": "execute_result"
    }
   ],
   "source": [
    "indexShift"
   ]
  },
  {
   "cell_type": "code",
   "execution_count": 26,
   "metadata": {
    "collapsed": false
   },
   "outputs": [
    {
     "data": {
      "text/latex": [
       "$P_{\\rm fail}\\left(\\varepsilon\\right) \\leq \\left(\\frac{1}{4} \\cdot \\left(\\left(\\sum_{l=\\left(-2^{t - 1}\\right) + 1}^{-\\left(\\varepsilon + 1\\right)}\\frac{1}{l^{2}}\\right) + \\left(\\sum_{l=\\left(\\varepsilon + 1\\right) + \\left(-1\\right)}^{2^{t - 1} + \\left(-1\\right)}\\frac{1}{\\left(\\left(l - \\left(-1\\right)\\right) - 1\\right)^{2}}\\right)\\right)\\right)$"
      ],
      "text/plain": [
       "Pfail(eps) <= (1 / 4 * ((Summation_{l=(-2^(t - 1)) + 1}^{-(eps + 1)}1 / l^(2)) + (Summation_{l=(eps + 1) + (-1)}^{2^(t - 1) + (-1)}1 / ((l - (-1)) - 1)^(2))))"
      ]
     },
     "execution_count": 26,
     "metadata": {},
     "output_type": "execute_result"
    }
   ],
   "source": [
    "Y11 = indexShift.specialize({Operation(f,l):X7.rhs.operands[1].operands[1].summand,x:l}).specialize({c:Neg(one),a:X7.rhs.operands[1].operands[1].domain.lowerBound, b:X7.rhs.operands[1].operands[1].domain.upperBound}).rhsSubstitute(X7)\n",
    "Y11"
   ]
  },
  {
   "cell_type": "code",
   "execution_count": 27,
   "metadata": {
    "collapsed": false
   },
   "outputs": [
    {
     "data": {
      "text/latex": [
       "$\\frac{1}{\\left(\\left(l - \\left(-1\\right)\\right) - 1\\right)^{2}}$"
      ],
      "text/plain": [
       "1 / ((l - (-1)) - 1)^(2)"
      ]
     },
     "execution_count": 27,
     "metadata": {},
     "output_type": "execute_result"
    }
   ],
   "source": [
    "summandToSimplify = Y11.rhs.operands[1].operands[1].summand\n",
    "summandToSimplify"
   ]
  },
  {
   "cell_type": "code",
   "execution_count": 28,
   "metadata": {
    "collapsed": false
   },
   "outputs": [
    {
     "data": {
      "text/latex": [
       "$\\forall_{a, b \\in \\mathbb{C}} \\left(\\left(\\left(a - \\left(-b\\right)\\right) - b\\right) = a\\right)$"
      ],
      "text/plain": [
       "forall_{a, b in Complexes} (((a - (-b)) - b) = a)"
      ]
     },
     "execution_count": 28,
     "metadata": {},
     "output_type": "execute_result"
    }
   ],
   "source": [
    "cancelSubAndAdd"
   ]
  },
  {
   "cell_type": "code",
   "execution_count": 29,
   "metadata": {
    "collapsed": false
   },
   "outputs": [
    {
     "data": {
      "text/latex": [
       "$\\frac{1}{l^{2}}$"
      ],
      "text/plain": [
       "1 / l^(2)"
      ]
     },
     "execution_count": 29,
     "metadata": {},
     "output_type": "execute_result"
    }
   ],
   "source": [
    "summandSimp = cancelSubAndAdd.specialize({a:l,b:one}).rhsSubstitute(summandToSimplify)\n",
    "summandSimp"
   ]
  },
  {
   "cell_type": "code",
   "execution_count": 30,
   "metadata": {
    "collapsed": false
   },
   "outputs": [
    {
     "data": {
      "text/latex": [
       "$\\forall_{a, b \\in Funcs} \\left[\\forall_{m, n \\in \\mathbb{Z}} \\left(\\left[\\forall_{k \\in \\{m\\ldots n\\}} \\left(a\\left(k\\right) = b\\left(k\\right)\\right)\\right] \\Rightarrow \\left(\\left(\\sum_{l=m}^{n}a\\left(l\\right)\\right) = \\left(\\sum_{l=m}^{n}b\\left(l\\right)\\right)\\right)\\right)\\right]$"
      ],
      "text/plain": [
       "forall_{a, b in Funcs} [forall_{m, n in Integers} ([forall_{k in \\{m...n\\}} (a(k) = b(k))] => ((Summation_{l=m}^{n}a(l)) = (Summation_{l=m}^{n}b(l))))]"
      ]
     },
     "execution_count": 30,
     "metadata": {},
     "output_type": "execute_result"
    }
   ],
   "source": [
    "sumEq"
   ]
  },
  {
   "cell_type": "code",
   "execution_count": 31,
   "metadata": {
    "collapsed": false
   },
   "outputs": [
    {
     "data": {
      "text/latex": [
       "$\\left[\\forall_{k \\in \\{\\left(\\left(\\varepsilon + 1\\right) + \\left(-1\\right)\\right)\\ldots \\left(2^{t - 1} + \\left(-1\\right)\\right)\\}} \\left(\\frac{1}{\\left(\\left(k - \\left(-1\\right)\\right) - 1\\right)^{2}} = \\frac{1}{k^{2}}\\right)\\right] \\Rightarrow \\left(\\left(\\sum_{l=\\left(\\varepsilon + 1\\right) + \\left(-1\\right)}^{2^{t - 1} + \\left(-1\\right)}\\frac{1}{\\left(\\left(l - \\left(-1\\right)\\right) - 1\\right)^{2}}\\right) = \\left(\\sum_{l=\\left(\\varepsilon + 1\\right) + \\left(-1\\right)}^{2^{t - 1} + \\left(-1\\right)}\\frac{1}{l^{2}}\\right)\\right)$"
      ],
      "text/plain": [
       "[forall_{k in \\{((eps + 1) + (-1))...(2^(t - 1) + (-1))\\}} (1 / ((k - (-1)) - 1)^(2) = 1 / k^(2))] => ((Summation_{l=(eps + 1) + (-1)}^{2^(t - 1) + (-1)}1 / ((l - (-1)) - 1)^(2)) = (Summation_{l=(eps + 1) + (-1)}^{2^(t - 1) + (-1)}1 / l^(2)))"
      ]
     },
     "execution_count": 31,
     "metadata": {},
     "output_type": "execute_result"
    }
   ],
   "source": [
    "Y12 = sumEq.specialize({Operation(a,l):summandToSimplify, Operation(b,l):summandSimp}).specialize({m:Y11.rhs.operands[1].operands[1].domain.lowerBound, n:Y11.rhs.operands[1].operands[1].domain.upperBound})\n",
    "Y12"
   ]
  },
  {
   "cell_type": "code",
   "execution_count": 32,
   "metadata": {
    "collapsed": false
   },
   "outputs": [
    {
     "data": {
      "text/latex": [
       "$P_{\\rm fail}\\left(\\varepsilon\\right) \\leq \\left(\\frac{1}{4} \\cdot \\left(\\left(\\sum_{l=\\left(-2^{t - 1}\\right) + 1}^{-\\left(\\varepsilon + 1\\right)}\\frac{1}{l^{2}}\\right) + \\left(\\sum_{l=\\left(\\varepsilon + 1\\right) + \\left(-1\\right)}^{2^{t - 1} + \\left(-1\\right)}\\frac{1}{l^{2}}\\right)\\right)\\right)$"
      ],
      "text/plain": [
       "Pfail(eps) <= (1 / 4 * ((Summation_{l=(-2^(t - 1)) + 1}^{-(eps + 1)}1 / l^(2)) + (Summation_{l=(eps + 1) + (-1)}^{2^(t - 1) + (-1)}1 / l^(2))))"
      ]
     },
     "execution_count": 32,
     "metadata": {},
     "output_type": "execute_result"
    }
   ],
   "source": [
    "X8 = Y12.conclusion.rhsSubstitute(Y11)\n",
    "X8"
   ]
  },
  {
   "cell_type": "code",
   "execution_count": 33,
   "metadata": {
    "collapsed": false
   },
   "outputs": [
    {
     "data": {
      "text/latex": [
       "$\\forall_{f \\in EvenFuncs} \\left[\\forall_{a, b \\in \\mathbb{Z}} \\left(\\left(\\sum_{x=a}^{b}f\\left(x\\right)\\right) = \\left(\\sum_{x=-b}^{-a}f\\left(x\\right)\\right)\\right)\\right]$"
      ],
      "text/plain": [
       "forall_{f in EvenFuncs} [forall_{a, b in Integers} ((Summation_{x=a}^{b}f(x)) = (Summation_{x=-b}^{-a}f(x)))]"
      ]
     },
     "execution_count": 33,
     "metadata": {},
     "output_type": "execute_result"
    }
   ],
   "source": [
    "evenFuncSum"
   ]
  },
  {
   "cell_type": "code",
   "execution_count": 34,
   "metadata": {
    "collapsed": false
   },
   "outputs": [
    {
     "data": {
      "text/latex": [
       "$P_{\\rm fail}\\left(\\varepsilon\\right) \\leq \\left(\\frac{1}{4} \\cdot \\left(\\left(\\sum_{l=-\\left(-\\left(\\varepsilon + 1\\right)\\right)}^{-\\left(\\left(-2^{t - 1}\\right) + 1\\right)}\\frac{1}{l^{2}}\\right) + \\left(\\sum_{l=\\left(\\varepsilon + 1\\right) + \\left(-1\\right)}^{2^{t - 1} + \\left(-1\\right)}\\frac{1}{l^{2}}\\right)\\right)\\right)$"
      ],
      "text/plain": [
       "Pfail(eps) <= (1 / 4 * ((Summation_{l=-(-(eps + 1))}^{-((-2^(t - 1)) + 1)}1 / l^(2)) + (Summation_{l=(eps + 1) + (-1)}^{2^(t - 1) + (-1)}1 / l^(2))))"
      ]
     },
     "execution_count": 34,
     "metadata": {},
     "output_type": "execute_result"
    }
   ],
   "source": [
    "X9 = evenFuncSum.specialize({Operation(f,l):X8.rhs.operands[1].operands[0].summand, x:l}).specialize({a:X8.rhs.operands[1].operands[0].domain.lowerBound, b:X8.rhs.operands[1].operands[0].domain.upperBound}).rhsSubstitute(X8)\n",
    "X9"
   ]
  },
  {
   "cell_type": "code",
   "execution_count": 35,
   "metadata": {
    "collapsed": false
   },
   "outputs": [
    {
     "data": {
      "text/latex": [
       "$\\forall_{a, b \\in \\mathbb{C}} \\left(\\left(-\\left(a + b\\right)\\right) = \\left(\\left(-a\\right) - b\\right)\\right)$"
      ],
      "text/plain": [
       "forall_{a, b in Complexes} ((-(a + b)) = ((-a) - b))"
      ]
     },
     "execution_count": 35,
     "metadata": {},
     "output_type": "execute_result"
    }
   ],
   "source": [
    "distributeNegOverAdd"
   ]
  },
  {
   "cell_type": "code",
   "execution_count": 36,
   "metadata": {
    "collapsed": false
   },
   "outputs": [
    {
     "data": {
      "text/latex": [
       "$\\forall_{a \\in \\mathbb{C}} \\left(\\left(-\\left(-a\\right)\\right) = a\\right)$"
      ],
      "text/plain": [
       "forall_{a in Complexes} ((-(-a)) = a)"
      ]
     },
     "execution_count": 36,
     "metadata": {},
     "output_type": "execute_result"
    }
   ],
   "source": [
    "negNeg"
   ]
  },
  {
   "cell_type": "code",
   "execution_count": 37,
   "metadata": {
    "collapsed": false
   },
   "outputs": [
    {
     "data": {
      "text/latex": [
       "$2^{t - 1}$"
      ],
      "text/plain": [
       "2^(t - 1)"
      ]
     },
     "execution_count": 37,
     "metadata": {},
     "output_type": "execute_result"
    }
   ],
   "source": [
    "X9.rhs.operands[1].operands[1].domain.upperBound.operands[0]"
   ]
  },
  {
   "cell_type": "code",
   "execution_count": 38,
   "metadata": {
    "collapsed": false
   },
   "outputs": [
    {
     "data": {
      "text/latex": [
       "$\\left(-\\left(\\left(-2^{t - 1}\\right) + 1\\right)\\right) = \\left(2^{t - 1} - 1\\right)$"
      ],
      "text/plain": [
       "(-((-2^(t - 1)) + 1)) = (2^(t - 1) - 1)"
      ]
     },
     "execution_count": 38,
     "metadata": {},
     "output_type": "execute_result"
    }
   ],
   "source": [
    "cleanLimits1 = distributeNegOverAdd.specialize({a:X9.rhs.operands[1].operands[0].domain.upperBound.operands[0].operands[0], \n",
    "                                                b:one})\n",
    "cleanLimits1 = negNeg.specialize({a:X9.rhs.operands[1].operands[0].domain.upperBound.operands[0].operands[0].operands[0]}).rhsSubstitute(cleanLimits1)\n",
    "cleanLimits1"
   ]
  },
  {
   "cell_type": "code",
   "execution_count": 39,
   "metadata": {
    "collapsed": false
   },
   "outputs": [
    {
     "data": {
      "text/latex": [
       "$\\left(-\\left(-\\left(\\varepsilon + 1\\right)\\right)\\right) = \\left(\\varepsilon + 1\\right)$"
      ],
      "text/plain": [
       "(-(-(eps + 1))) = (eps + 1)"
      ]
     },
     "execution_count": 39,
     "metadata": {},
     "output_type": "execute_result"
    }
   ],
   "source": [
    "cleanLimits2 = negNeg.specialize({a:X9.rhs.operands[1].operands[0].domain.lowerBound.operands[0].operands[0]})\n",
    "cleanLimits2"
   ]
  },
  {
   "cell_type": "code",
   "execution_count": 40,
   "metadata": {
    "collapsed": false
   },
   "outputs": [
    {
     "data": {
      "text/latex": [
       "$\\left(2^{t - 1} + \\left(-1\\right)\\right) = \\left(2^{t - 1} - 1\\right)$"
      ],
      "text/plain": [
       "(2^(t - 1) + (-1)) = (2^(t - 1) - 1)"
      ]
     },
     "execution_count": 40,
     "metadata": {},
     "output_type": "execute_result"
    }
   ],
   "source": [
    "cleanLimits3 = convertAddNegToSub.specialize({a:X9.rhs.operands[1].operands[1].domain.upperBound.operands[0],\n",
    "                                              b:one})\n",
    "cleanLimits3"
   ]
  },
  {
   "cell_type": "code",
   "execution_count": 41,
   "metadata": {
    "collapsed": false
   },
   "outputs": [
    {
     "data": {
      "text/latex": [
       "$\\left(\\left(\\varepsilon + 1\\right) + \\left(-1\\right)\\right) = \\varepsilon$"
      ],
      "text/plain": [
       "((eps + 1) + (-1)) = eps"
      ]
     },
     "execution_count": 41,
     "metadata": {},
     "output_type": "execute_result"
    }
   ],
   "source": [
    "cleanLimits4 = cancelAddNeg.specialize({a:eps, b:one})\n",
    "cleanLimits4"
   ]
  },
  {
   "cell_type": "code",
   "execution_count": 42,
   "metadata": {
    "collapsed": false
   },
   "outputs": [
    {
     "data": {
      "text/latex": [
       "$P_{\\rm fail}\\left(\\varepsilon\\right) \\leq \\left(\\frac{1}{4} \\cdot \\left(\\left(\\sum_{l=\\varepsilon + 1}^{2^{t - 1} - 1}\\frac{1}{l^{2}}\\right) + \\left(\\sum_{l=\\varepsilon}^{2^{t - 1} - 1}\\frac{1}{l^{2}}\\right)\\right)\\right)$"
      ],
      "text/plain": [
       "Pfail(eps) <= (1 / 4 * ((Summation_{l=eps + 1}^{2^(t - 1) - 1}1 / l^(2)) + (Summation_{l=eps}^{2^(t - 1) - 1}1 / l^(2))))"
      ]
     },
     "execution_count": 42,
     "metadata": {},
     "output_type": "execute_result"
    }
   ],
   "source": [
    "X10 = cleanLimits1.rhsSubstitute(X9)\n",
    "X10 = cleanLimits2.rhsSubstitute(X10)\n",
    "X10 = cleanLimits3.rhsSubstitute(X10)\n",
    "X10 = cleanLimits4.rhsSubstitute(X10)\n",
    "X10"
   ]
  },
  {
   "cell_type": "code",
   "execution_count": 43,
   "metadata": {
    "collapsed": false
   },
   "outputs": [
    {
     "data": {
      "text/latex": [
       "$\\forall_{f \\in Funcs} \\left[\\forall_{a, b \\in \\mathbb{Z} | a < b} \\left(\\left(\\sum_{l=a}^{b}f\\left(l\\right)\\right) = \\left(\\left(\\sum_{l=a - 1}^{b}f\\left(l\\right)\\right) - f\\left(a - 1\\right)\\right)\\right)\\right]$"
      ],
      "text/plain": [
       "forall_{f in Funcs} [forall_{a, b in Integers | a < b} ((Summation_{l=a}^{b}f(l)) = ((Summation_{l=a - 1}^{b}f(l)) - f(a - 1)))]"
      ]
     },
     "execution_count": 43,
     "metadata": {},
     "output_type": "execute_result"
    }
   ],
   "source": [
    "splitSumOneElem"
   ]
  },
  {
   "cell_type": "code",
   "execution_count": 44,
   "metadata": {
    "collapsed": false
   },
   "outputs": [
    {
     "data": {
      "text/latex": [
       "$\\left(\\sum_{l=\\varepsilon + 1}^{2^{t - 1} - 1}\\frac{1}{l^{2}}\\right) = \\left(\\left(\\sum_{l=\\left(\\varepsilon + 1\\right) - 1}^{2^{t - 1} - 1}\\frac{1}{l^{2}}\\right) - \\frac{1}{\\left(\\left(\\varepsilon + 1\\right) - 1\\right)^{2}}\\right)$"
      ],
      "text/plain": [
       "(Summation_{l=eps + 1}^{2^(t - 1) - 1}1 / l^(2)) = ((Summation_{l=(eps + 1) - 1}^{2^(t - 1) - 1}1 / l^(2)) - 1 / ((eps + 1) - 1)^(2))"
      ]
     },
     "execution_count": 44,
     "metadata": {},
     "output_type": "execute_result"
    }
   ],
   "source": [
    "Y13 = splitSumOneElem.specialize({Operation(f,l):X10.rhs.operands[1].operands[0].summand}).specialize({a:X10.rhs.operands[1].operands[0].domain.lowerBound,\n",
    "                                                                                                       b:X10.rhs.operands[1].operands[0].domain.upperBound})\n",
    "Y13"
   ]
  },
  {
   "cell_type": "code",
   "execution_count": 45,
   "metadata": {
    "collapsed": false
   },
   "outputs": [
    {
     "data": {
      "text/latex": [
       "$P_{\\rm fail}\\left(\\varepsilon\\right) \\leq \\left(\\frac{1}{4} \\cdot \\left(\\left(\\left(\\sum_{l=\\left(\\varepsilon + 1\\right) - 1}^{2^{t - 1} - 1}\\frac{1}{l^{2}}\\right) - \\frac{1}{\\left(\\left(\\varepsilon + 1\\right) - 1\\right)^{2}}\\right) + \\left(\\sum_{l=\\varepsilon}^{2^{t - 1} - 1}\\frac{1}{l^{2}}\\right)\\right)\\right)$"
      ],
      "text/plain": [
       "Pfail(eps) <= (1 / 4 * (((Summation_{l=(eps + 1) - 1}^{2^(t - 1) - 1}1 / l^(2)) - 1 / ((eps + 1) - 1)^(2)) + (Summation_{l=eps}^{2^(t - 1) - 1}1 / l^(2))))"
      ]
     },
     "execution_count": 45,
     "metadata": {},
     "output_type": "execute_result"
    }
   ],
   "source": [
    "X11 = Y13.rhsSubstitute(X10)\n",
    "X11"
   ]
  },
  {
   "cell_type": "code",
   "execution_count": 46,
   "metadata": {
    "collapsed": false
   },
   "outputs": [
    {
     "data": {
      "text/latex": [
       "$\\left(\\left(\\varepsilon + 1\\right) + \\left(-1\\right)\\right) = \\left(\\left(\\varepsilon + 1\\right) - 1\\right)$"
      ],
      "text/plain": [
       "((eps + 1) + (-1)) = ((eps + 1) - 1)"
      ]
     },
     "execution_count": 46,
     "metadata": {},
     "output_type": "execute_result"
    }
   ],
   "source": [
    "Y14 = convertAddNegToSub.specialize({a:Add(eps,one),b:one})\n",
    "Y14"
   ]
  },
  {
   "cell_type": "code",
   "execution_count": 47,
   "metadata": {
    "collapsed": false
   },
   "outputs": [
    {
     "data": {
      "text/latex": [
       "$\\left(\\left(\\varepsilon + 1\\right) + \\left(-1\\right)\\right) = \\varepsilon$"
      ],
      "text/plain": [
       "((eps + 1) + (-1)) = eps"
      ]
     },
     "execution_count": 47,
     "metadata": {},
     "output_type": "execute_result"
    }
   ],
   "source": [
    "Y15 = cancelAddNeg.specialize({a:eps,b:one})\n",
    "Y15"
   ]
  },
  {
   "cell_type": "code",
   "execution_count": 48,
   "metadata": {
    "collapsed": false
   },
   "outputs": [
    {
     "data": {
      "text/latex": [
       "$\\varepsilon = \\left(\\left(\\varepsilon + 1\\right) - 1\\right)$"
      ],
      "text/plain": [
       "eps = ((eps + 1) - 1)"
      ]
     },
     "execution_count": 48,
     "metadata": {},
     "output_type": "execute_result"
    }
   ],
   "source": [
    "cleanLimits5 = Y15.rhsSubstitute(Y14)\n",
    "cleanLimits5"
   ]
  },
  {
   "cell_type": "code",
   "execution_count": 49,
   "metadata": {
    "collapsed": false
   },
   "outputs": [
    {
     "data": {
      "text/latex": [
       "$P_{\\rm fail}\\left(\\varepsilon\\right) \\leq \\left(\\frac{1}{4} \\cdot \\left(\\left(\\left(\\sum_{l=\\varepsilon}^{2^{t - 1} - 1}\\frac{1}{l^{2}}\\right) - \\frac{1}{\\varepsilon^{2}}\\right) + \\left(\\sum_{l=\\varepsilon}^{2^{t - 1} - 1}\\frac{1}{l^{2}}\\right)\\right)\\right)$"
      ],
      "text/plain": [
       "Pfail(eps) <= (1 / 4 * (((Summation_{l=eps}^{2^(t - 1) - 1}1 / l^(2)) - 1 / eps^(2)) + (Summation_{l=eps}^{2^(t - 1) - 1}1 / l^(2))))"
      ]
     },
     "execution_count": 49,
     "metadata": {},
     "output_type": "execute_result"
    }
   ],
   "source": [
    "X12 = cleanLimits5.lhsSubstitute(X11)\n",
    "X12"
   ]
  },
  {
   "cell_type": "code",
   "execution_count": 52,
   "metadata": {
    "collapsed": false
   },
   "outputs": [
    {
     "data": {
      "text/latex": [
       "$\\left(\\left(\\sum_{l=\\varepsilon}^{2^{t - 1} - 1}\\frac{1}{l^{2}}\\right) - \\frac{1}{\\varepsilon^{2}}\\right) + \\left(\\sum_{l=\\varepsilon}^{2^{t - 1} - 1}\\frac{1}{l^{2}}\\right)$"
      ],
      "text/plain": [
       "((Summation_{l=eps}^{2^(t - 1) - 1}1 / l^(2)) - 1 / eps^(2)) + (Summation_{l=eps}^{2^(t - 1) - 1}1 / l^(2))"
      ]
     },
     "execution_count": 52,
     "metadata": {},
     "output_type": "execute_result"
    }
   ],
   "source": [
    "termToBound = X12.rhs.operands[1]\n",
    "groupAndUngroupAssumptions = {In(eps,Complexes), In(termToBound.operands[1],Complexes), NotEquals(eps,zero)}\n",
    "termToBound"
   ]
  },
  {
   "cell_type": "code",
   "execution_count": 75,
   "metadata": {
    "collapsed": false
   },
   "outputs": [
    {
     "data": {
      "text/latex": [
       "$\\left(\\left(\\left(\\sum_{l=\\varepsilon}^{2^{t - 1} - 1}\\frac{1}{l^{2}}\\right) - \\frac{1}{\\varepsilon^{2}}\\right) + \\left(\\sum_{l=\\varepsilon}^{2^{t - 1} - 1}\\frac{1}{l^{2}}\\right)\\right) = \\left(\\left(\\sum_{l=\\varepsilon}^{2^{t - 1} - 1}\\frac{1}{l^{2}}\\right) + \\left(\\left(\\sum_{l=\\varepsilon}^{2^{t - 1} - 1}\\frac{1}{l^{2}}\\right) - \\frac{1}{\\varepsilon^{2}}\\right)\\right)$"
      ],
      "text/plain": [
       "(((Summation_{l=eps}^{2^(t - 1) - 1}1 / l^(2)) - 1 / eps^(2)) + (Summation_{l=eps}^{2^(t - 1) - 1}1 / l^(2))) = ((Summation_{l=eps}^{2^(t - 1) - 1}1 / l^(2)) + ((Summation_{l=eps}^{2^(t - 1) - 1}1 / l^(2)) - 1 / eps^(2)))"
      ]
     },
     "execution_count": 75,
     "metadata": {},
     "output_type": "execute_result"
    }
   ],
   "source": [
    "Y16 = termToBound.commute(groupAndUngroupAssumptions)\n",
    "Y16"
   ]
  },
  {
   "cell_type": "code",
   "execution_count": 76,
   "metadata": {
    "collapsed": false
   },
   "outputs": [
    {
     "data": {
      "text/latex": [
       "$\\left(\\left(\\sum_{l=\\varepsilon}^{2^{t - 1} - 1}\\frac{1}{l^{2}}\\right) + \\left(-\\frac{1}{\\varepsilon^{2}}\\right)\\right) = \\left(\\left(\\sum_{l=\\varepsilon}^{2^{t - 1} - 1}\\frac{1}{l^{2}}\\right) - \\frac{1}{\\varepsilon^{2}}\\right)$"
      ],
      "text/plain": [
       "((Summation_{l=eps}^{2^(t - 1) - 1}1 / l^(2)) + (-1 / eps^(2))) = ((Summation_{l=eps}^{2^(t - 1) - 1}1 / l^(2)) - 1 / eps^(2))"
      ]
     },
     "execution_count": 76,
     "metadata": {},
     "output_type": "execute_result"
    }
   ],
   "source": [
    "Y17 = convertAddNegToSub.specialize({a:termToBound.operands[0].operands[0],b:termToBound.operands[0].operands[1]})\n",
    "Y17"
   ]
  },
  {
   "cell_type": "code",
   "execution_count": 94,
   "metadata": {
    "collapsed": false
   },
   "outputs": [
    {
     "data": {
      "text/latex": [
       "$\\left(\\left(\\left(\\sum_{l=\\varepsilon}^{2^{t - 1} - 1}\\frac{1}{l^{2}}\\right) - \\frac{1}{\\varepsilon^{2}}\\right) + \\left(\\sum_{l=\\varepsilon}^{2^{t - 1} - 1}\\frac{1}{l^{2}}\\right)\\right) = \\left(\\left(\\sum_{l=\\varepsilon}^{2^{t - 1} - 1}\\frac{1}{l^{2}}\\right) + \\left(\\left(\\sum_{l=\\varepsilon}^{2^{t - 1} - 1}\\frac{1}{l^{2}}\\right) + \\left(-\\frac{1}{\\varepsilon^{2}}\\right)\\right)\\right)$"
      ],
      "text/plain": [
       "(((Summation_{l=eps}^{2^(t - 1) - 1}1 / l^(2)) - 1 / eps^(2)) + (Summation_{l=eps}^{2^(t - 1) - 1}1 / l^(2))) = ((Summation_{l=eps}^{2^(t - 1) - 1}1 / l^(2)) + ((Summation_{l=eps}^{2^(t - 1) - 1}1 / l^(2)) + (-1 / eps^(2))))"
      ]
     },
     "execution_count": 94,
     "metadata": {},
     "output_type": "execute_result"
    }
   ],
   "source": [
    "Y18 = Equals(Y16.lhs, Y17.deriveReversed().rhsSubstitute(Y16.rhs))\n",
    "Y18"
   ]
  },
  {
   "cell_type": "code",
   "execution_count": 107,
   "metadata": {
    "collapsed": false
   },
   "outputs": [
    {
     "data": {
      "text/latex": [
       "$\\left(\\left(\\left(\\sum_{l=\\varepsilon}^{2^{t - 1} - 1}\\frac{1}{l^{2}}\\right) - \\frac{1}{\\varepsilon^{2}}\\right) + \\left(\\sum_{l=\\varepsilon}^{2^{t - 1} - 1}\\frac{1}{l^{2}}\\right)\\right) = \\left(\\left(\\sum_{l=\\varepsilon}^{2^{t - 1} - 1}\\frac{1}{l^{2}}\\right) + \\left(\\sum_{l=\\varepsilon}^{2^{t - 1} - 1}\\frac{1}{l^{2}}\\right) + \\left(-\\frac{1}{\\varepsilon^{2}}\\right)\\right)$"
      ],
      "text/plain": [
       "(((Summation_{l=eps}^{2^(t - 1) - 1}1 / l^(2)) - 1 / eps^(2)) + (Summation_{l=eps}^{2^(t - 1) - 1}1 / l^(2))) = ((Summation_{l=eps}^{2^(t - 1) - 1}1 / l^(2)) + (Summation_{l=eps}^{2^(t - 1) - 1}1 / l^(2)) + (-1 / eps^(2)))"
      ]
     },
     "execution_count": 107,
     "metadata": {},
     "output_type": "execute_result"
    }
   ],
   "source": [
    "Y19 = Equation(Y18).update(Y18.rhs.ungroup(1, groupAndUngroupAssumptions))\n",
    "Y19"
   ]
  },
  {
   "cell_type": "code",
   "execution_count": 143,
   "metadata": {
    "collapsed": false
   },
   "outputs": [
    {
     "data": {
      "text/latex": [
       "$\\left(\\left(\\left(\\sum_{l=\\varepsilon}^{2^{t - 1} - 1}\\frac{1}{l^{2}}\\right) - \\frac{1}{\\varepsilon^{2}}\\right) + \\left(\\sum_{l=\\varepsilon}^{2^{t - 1} - 1}\\frac{1}{l^{2}}\\right)\\right) = \\left(\\left(\\left(\\sum_{l=\\varepsilon}^{2^{t - 1} - 1}\\frac{1}{l^{2}}\\right) + \\left(\\sum_{l=\\varepsilon}^{2^{t - 1} - 1}\\frac{1}{l^{2}}\\right)\\right) + \\left(-\\frac{1}{\\varepsilon^{2}}\\right)\\right)$"
      ],
      "text/plain": [
       "(((Summation_{l=eps}^{2^(t - 1) - 1}1 / l^(2)) - 1 / eps^(2)) + (Summation_{l=eps}^{2^(t - 1) - 1}1 / l^(2))) = (((Summation_{l=eps}^{2^(t - 1) - 1}1 / l^(2)) + (Summation_{l=eps}^{2^(t - 1) - 1}1 / l^(2))) + (-1 / eps^(2)))"
      ]
     },
     "execution_count": 143,
     "metadata": {},
     "output_type": "execute_result"
    }
   ],
   "source": [
    "Y20 = Equation(Y19).update(Y19.rhs.group(0,2, assumptions=groupAndUngroupAssumptions))\n",
    "Y20"
   ]
  },
  {
   "cell_type": "code",
   "execution_count": 121,
   "metadata": {
    "collapsed": false
   },
   "outputs": [
    {
     "data": {
      "text/latex": [
       "$\\forall_{f \\in Funcs} \\left[\\forall_{a, b \\in \\mathbb{Z}} \\left(\\left(\\left(\\sum_{l=a}^{b}f\\left(l\\right)\\right) + \\left(\\sum_{l=a}^{b}f\\left(l\\right)\\right)\\right) = \\left(2 \\cdot \\left(\\sum_{l=a}^{b}f\\left(l\\right)\\right)\\right)\\right)\\right]$"
      ],
      "text/plain": [
       "forall_{f in Funcs} [forall_{a, b in Integers} (((Summation_{l=a}^{b}f(l)) + (Summation_{l=a}^{b}f(l))) = (2 * (Summation_{l=a}^{b}f(l))))]"
      ]
     },
     "execution_count": 121,
     "metadata": {},
     "output_type": "execute_result"
    }
   ],
   "source": [
    "addSums"
   ]
  },
  {
   "cell_type": "code",
   "execution_count": 141,
   "metadata": {
    "collapsed": false
   },
   "outputs": [
    {
     "data": {
      "text/latex": [
       "$\\left(\\left(\\sum_{l=\\varepsilon}^{2^{t - 1} - 1}\\frac{1}{l^{2}}\\right) + \\left(\\sum_{l=\\varepsilon}^{2^{t - 1} - 1}\\frac{1}{l^{2}}\\right)\\right) = \\left(2 \\cdot \\left(\\sum_{l=\\varepsilon}^{2^{t - 1} - 1}\\frac{1}{l^{2}}\\right)\\right)$"
      ],
      "text/plain": [
       "((Summation_{l=eps}^{2^(t - 1) - 1}1 / l^(2)) + (Summation_{l=eps}^{2^(t - 1) - 1}1 / l^(2))) = (2 * (Summation_{l=eps}^{2^(t - 1) - 1}1 / l^(2)))"
      ]
     },
     "execution_count": 141,
     "metadata": {},
     "output_type": "execute_result"
    }
   ],
   "source": [
    "Y21 = addSums.specialize({Operation(f,l):Y19.rhs.operands[0].summand}).specialize({a:Y19.rhs.operands[0].domain.lowerBound, b:Y19.rhs.operands[0].domain.upperBound})\n",
    "Y21"
   ]
  },
  {
   "cell_type": "code",
   "execution_count": 144,
   "metadata": {
    "collapsed": false
   },
   "outputs": [
    {
     "data": {
      "text/latex": [
       "$\\left(\\left(\\left(\\sum_{l=\\varepsilon}^{2^{t - 1} - 1}\\frac{1}{l^{2}}\\right) - \\frac{1}{\\varepsilon^{2}}\\right) + \\left(\\sum_{l=\\varepsilon}^{2^{t - 1} - 1}\\frac{1}{l^{2}}\\right)\\right) = \\left(\\left(2 \\cdot \\left(\\sum_{l=\\varepsilon}^{2^{t - 1} - 1}\\frac{1}{l^{2}}\\right)\\right) + \\left(-\\frac{1}{\\varepsilon^{2}}\\right)\\right)$"
      ],
      "text/plain": [
       "(((Summation_{l=eps}^{2^(t - 1) - 1}1 / l^(2)) - 1 / eps^(2)) + (Summation_{l=eps}^{2^(t - 1) - 1}1 / l^(2))) = ((2 * (Summation_{l=eps}^{2^(t - 1) - 1}1 / l^(2))) + (-1 / eps^(2)))"
      ]
     },
     "execution_count": 144,
     "metadata": {},
     "output_type": "execute_result"
    }
   ],
   "source": [
    "Y22 = Y21.rhsSubstitute(Y20)\n",
    "Y22"
   ]
  },
  {
   "cell_type": "code",
   "execution_count": 145,
   "metadata": {
    "collapsed": false
   },
   "outputs": [
    {
     "data": {
      "text/latex": [
       "$\\forall_{a, b \\in \\mathbb{R} | b \\leq 0} \\left(\\left(a + b\\right) \\leq a\\right)$"
      ],
      "text/plain": [
       "forall_{a, b in Reals | b <= 0} ((a + b) <= a)"
      ]
     },
     "execution_count": 145,
     "metadata": {},
     "output_type": "execute_result"
    }
   ],
   "source": [
    "ineqThm6a"
   ]
  },
  {
   "cell_type": "code",
   "execution_count": 147,
   "metadata": {
    "collapsed": false
   },
   "outputs": [
    {
     "data": {
      "text/latex": [
       "$\\left(\\left(2 \\cdot \\left(\\sum_{l=\\varepsilon}^{2^{t - 1} - 1}\\frac{1}{l^{2}}\\right)\\right) + \\left(-\\frac{1}{\\varepsilon^{2}}\\right)\\right) \\leq \\left(2 \\cdot \\left(\\sum_{l=\\varepsilon}^{2^{t - 1} - 1}\\frac{1}{l^{2}}\\right)\\right)$"
      ],
      "text/plain": [
       "((2 * (Summation_{l=eps}^{2^(t - 1) - 1}1 / l^(2))) + (-1 / eps^(2))) <= (2 * (Summation_{l=eps}^{2^(t - 1) - 1}1 / l^(2)))"
      ]
     },
     "execution_count": 147,
     "metadata": {},
     "output_type": "execute_result"
    }
   ],
   "source": [
    "Y23 = ineqThm6a.specialize({a:Y22.rhs.operands[0], b:Y22.rhs.operands[1]})\n",
    "Y23"
   ]
  },
  {
   "cell_type": "code",
   "execution_count": 152,
   "metadata": {
    "collapsed": false
   },
   "outputs": [
    {
     "data": {
      "text/latex": [
       "$\\left(\\left(\\left(\\sum_{l=\\varepsilon}^{2^{t - 1} - 1}\\frac{1}{l^{2}}\\right) - \\frac{1}{\\varepsilon^{2}}\\right) + \\left(\\sum_{l=\\varepsilon}^{2^{t - 1} - 1}\\frac{1}{l^{2}}\\right)\\right) \\leq \\left(2 \\cdot \\left(\\sum_{l=\\varepsilon}^{2^{t - 1} - 1}\\frac{1}{l^{2}}\\right)\\right)$"
      ],
      "text/plain": [
       "(((Summation_{l=eps}^{2^(t - 1) - 1}1 / l^(2)) - 1 / eps^(2)) + (Summation_{l=eps}^{2^(t - 1) - 1}1 / l^(2))) <= (2 * (Summation_{l=eps}^{2^(t - 1) - 1}1 / l^(2)))"
      ]
     },
     "execution_count": 152,
     "metadata": {},
     "output_type": "execute_result"
    }
   ],
   "source": [
    "Y24 = Relation(Y22).update(Y23)\n",
    "Y24"
   ]
  },
  {
   "cell_type": "code",
   "execution_count": 159,
   "metadata": {
    "collapsed": false
   },
   "outputs": [
    {
     "data": {
      "text/latex": [
       "$\\forall_{a, b, c \\in \\mathbb{R} | c > 0, a \\geq b} \\left(\\left(c \\cdot a\\right) \\geq \\left(c \\cdot b\\right)\\right)$"
      ],
      "text/plain": [
       "forall_{a, b, c in Reals | c > 0, a >= b} ((c * a) >= (c * b))"
      ]
     },
     "execution_count": 159,
     "metadata": {},
     "output_type": "execute_result"
    }
   ],
   "source": [
    "ineqThm5"
   ]
  },
  {
   "cell_type": "code",
   "execution_count": 160,
   "metadata": {
    "collapsed": false
   },
   "outputs": [
    {
     "data": {
      "text/latex": [
       "$\\left(\\frac{1}{4} \\cdot \\left(2 \\cdot \\left(\\sum_{l=\\varepsilon}^{2^{t - 1} - 1}\\frac{1}{l^{2}}\\right)\\right)\\right) \\geq \\left(\\frac{1}{4} \\cdot \\left(\\left(\\left(\\sum_{l=\\varepsilon}^{2^{t - 1} - 1}\\frac{1}{l^{2}}\\right) - \\frac{1}{\\varepsilon^{2}}\\right) + \\left(\\sum_{l=\\varepsilon}^{2^{t - 1} - 1}\\frac{1}{l^{2}}\\right)\\right)\\right)$"
      ],
      "text/plain": [
       "(1 / 4 * (2 * (Summation_{l=eps}^{2^(t - 1) - 1}1 / l^(2)))) >= (1 / 4 * (((Summation_{l=eps}^{2^(t - 1) - 1}1 / l^(2)) - 1 / eps^(2)) + (Summation_{l=eps}^{2^(t - 1) - 1}1 / l^(2))))"
      ]
     },
     "execution_count": 160,
     "metadata": {},
     "output_type": "execute_result"
    }
   ],
   "source": [
    "Y25 = ineqThm5.specialize({a:Y24.rhs, b:Y24.lhs, c:Fraction(one,four)})\n",
    "Y25"
   ]
  },
  {
   "cell_type": "code",
   "execution_count": 163,
   "metadata": {
    "collapsed": false
   },
   "outputs": [
    {
     "data": {
      "text/latex": [
       "$P_{\\rm fail}\\left(\\varepsilon\\right) \\leq \\left(\\frac{1}{4} \\cdot \\left(2 \\cdot \\left(\\sum_{l=\\varepsilon}^{2^{t - 1} - 1}\\frac{1}{l^{2}}\\right)\\right)\\right)$"
      ],
      "text/plain": [
       "Pfail(eps) <= (1 / 4 * (2 * (Summation_{l=eps}^{2^(t - 1) - 1}1 / l^(2))))"
      ]
     },
     "execution_count": 163,
     "metadata": {},
     "output_type": "execute_result"
    }
   ],
   "source": [
    "X13 = Relation(X12).update(Y25)\n",
    "X13"
   ]
  },
  {
   "cell_type": "code",
   "execution_count": 170,
   "metadata": {
    "collapsed": false
   },
   "outputs": [
    {
     "data": {
      "text/latex": [
       "$P_{\\rm fail}\\left(\\varepsilon\\right) \\leq \\left(\\frac{1}{4} \\cdot 2 \\cdot \\left(\\sum_{l=\\varepsilon}^{2^{t - 1} - 1}\\frac{1}{l^{2}}\\right)\\right)$"
      ],
      "text/plain": [
       "Pfail(eps) <= (1 / 4 * 2 * (Summation_{l=eps}^{2^(t - 1) - 1}1 / l^(2)))"
      ]
     },
     "execution_count": 170,
     "metadata": {},
     "output_type": "execute_result"
    }
   ],
   "source": [
    "X14 = Relation(X13).update(X13.rhs.ungroup(1, assumptions=groupAndUngroupAssumptions))\n",
    "X14"
   ]
  },
  {
   "cell_type": "code",
   "execution_count": 175,
   "metadata": {
    "collapsed": false
   },
   "outputs": [
    {
     "data": {
      "text/latex": [
       "$\\left(\\frac{1}{4} \\cdot 2 \\cdot \\left(\\sum_{l=\\varepsilon}^{2^{t - 1} - 1}\\frac{1}{l^{2}}\\right)\\right) = \\left(\\frac{1}{2} \\cdot \\left(\\sum_{l=\\varepsilon}^{2^{t - 1} - 1}\\frac{1}{l^{2}}\\right)\\right)$"
      ],
      "text/plain": [
       "(1 / 4 * 2 * (Summation_{l=eps}^{2^(t - 1) - 1}1 / l^(2))) = (1 / 2 * (Summation_{l=eps}^{2^(t - 1) - 1}1 / l^(2)))"
      ]
     },
     "execution_count": 175,
     "metadata": {},
     "output_type": "execute_result"
    }
   ],
   "source": [
    "Y26 = simplifyQuarterTimesTwo.rhsSubstitute(X14.rhs.group(0,2, assumptions=groupAndUngroupAssumptions))\n",
    "Y26"
   ]
  },
  {
   "cell_type": "code",
   "execution_count": 177,
   "metadata": {
    "collapsed": false
   },
   "outputs": [
    {
     "data": {
      "text/latex": [
       "$P_{\\rm fail}\\left(\\varepsilon\\right) \\leq \\left(\\frac{1}{2} \\cdot \\left(\\sum_{l=\\varepsilon}^{2^{t - 1} - 1}\\frac{1}{l^{2}}\\right)\\right)$"
      ],
      "text/plain": [
       "Pfail(eps) <= (1 / 2 * (Summation_{l=eps}^{2^(t - 1) - 1}1 / l^(2)))"
      ]
     },
     "execution_count": 177,
     "metadata": {},
     "output_type": "execute_result"
    }
   ],
   "source": [
    "X15 = Relation(X14).update(Y26)\n",
    "X15"
   ]
  },
  {
   "cell_type": "code",
   "execution_count": 179,
   "metadata": {
    "collapsed": false
   },
   "outputs": [
    {
     "data": {
      "text/latex": [
       "$\\forall_{f \\in MonDecFuncs} \\left[\\forall_{a, b \\in \\mathbb{Z} | a \\leq b} \\left(\\left(\\sum_{x=a}^{b}f\\left(x\\right)\\right) \\leq \\int_{a - 1}^{b}f\\left(x\\right)dx\\right)\\right]$"
      ],
      "text/plain": [
       "forall_{f in MonDecFuncs} [forall_{a, b in Integers | a <= b} ((Summation_{x=a}^{b}f(x)) <= Integrate_{a - 1}^{b}f(x)dx)]"
      ]
     },
     "execution_count": 179,
     "metadata": {},
     "output_type": "execute_result"
    }
   ],
   "source": [
    "sumIntegrateIneq1"
   ]
  },
  {
   "cell_type": "code",
   "execution_count": 184,
   "metadata": {
    "collapsed": false
   },
   "outputs": [
    {
     "data": {
      "text/latex": [
       "$\\left(\\sum_{l=\\varepsilon}^{2^{t - 1} - 1}\\frac{1}{l^{2}}\\right) \\leq \\int_{\\varepsilon - 1}^{2^{t - 1} - 1}\\frac{1}{l^{2}}dl$"
      ],
      "text/plain": [
       "(Summation_{l=eps}^{2^(t - 1) - 1}1 / l^(2)) <= Integrate_{eps - 1}^{2^(t - 1) - 1}1 / l^(2)dl"
      ]
     },
     "execution_count": 184,
     "metadata": {},
     "output_type": "execute_result"
    }
   ],
   "source": [
    "Y27 = sumIntegrateIneq1.specialize({Operation(f,l):X15.rhs.operands[1].summand, x:l}).specialize({a:X15.rhs.operands[1].domain.lowerBound,b:X15.rhs.operands[1].domain.upperBound})\n",
    "Y27"
   ]
  },
  {
   "cell_type": "code",
   "execution_count": 193,
   "metadata": {
    "collapsed": false
   },
   "outputs": [
    {
     "data": {
      "text/latex": [
       "$\\left(\\frac{1}{2} \\cdot \\int_{\\varepsilon - 1}^{2^{t - 1} - 1}\\frac{1}{l^{2}}dl\\right) \\geq \\left(\\frac{1}{2} \\cdot \\left(\\sum_{l=\\varepsilon}^{2^{t - 1} - 1}\\frac{1}{l^{2}}\\right)\\right)$"
      ],
      "text/plain": [
       "(1 / 2 * Integrate_{eps - 1}^{2^(t - 1) - 1}1 / l^(2)dl) >= (1 / 2 * (Summation_{l=eps}^{2^(t - 1) - 1}1 / l^(2)))"
      ]
     },
     "execution_count": 193,
     "metadata": {},
     "output_type": "execute_result"
    }
   ],
   "source": [
    "Y28 = ineqThm5.specialize({a:Y27.rhs, b:Y27.lhs, c:Fraction(one,two)})\n",
    "Y28"
   ]
  },
  {
   "cell_type": "code",
   "execution_count": 194,
   "metadata": {
    "collapsed": false
   },
   "outputs": [
    {
     "data": {
      "text/latex": [
       "$P_{\\rm fail}\\left(\\varepsilon\\right) \\leq \\left(\\frac{1}{2} \\cdot \\int_{\\varepsilon - 1}^{2^{t - 1} - 1}\\frac{1}{l^{2}}dl\\right)$"
      ],
      "text/plain": [
       "Pfail(eps) <= (1 / 2 * Integrate_{eps - 1}^{2^(t - 1) - 1}1 / l^(2)dl)"
      ]
     },
     "execution_count": 194,
     "metadata": {},
     "output_type": "execute_result"
    }
   ],
   "source": [
    "X16 = Relation(X15).update(Y28)\n",
    "X16"
   ]
  },
  {
   "cell_type": "code",
   "execution_count": 208,
   "metadata": {
    "collapsed": false
   },
   "outputs": [
    {
     "data": {
      "text/latex": [
       "$\\int_{\\varepsilon - 1}^{2^{t - 1} - 1}\\frac{1}{l^{2}}dl \\leq \\frac{1}{\\varepsilon - 1}$"
      ],
      "text/plain": [
       "Integrate_{eps - 1}^{2^(t - 1) - 1}1 / l^(2)dl <= 1 / (eps - 1)"
      ]
     },
     "execution_count": 208,
     "metadata": {},
     "output_type": "execute_result"
    }
   ],
   "source": [
    "Y29 = evalPfailIntegral.specialize()\n",
    "Y29"
   ]
  },
  {
   "cell_type": "code",
   "execution_count": 209,
   "metadata": {
    "collapsed": false
   },
   "outputs": [
    {
     "data": {
      "text/latex": [
       "$\\left(\\frac{1}{2} \\cdot \\frac{1}{\\varepsilon - 1}\\right) \\geq \\left(\\frac{1}{2} \\cdot \\int_{\\varepsilon - 1}^{2^{t - 1} - 1}\\frac{1}{l^{2}}dl\\right)$"
      ],
      "text/plain": [
       "(1 / 2 * 1 / (eps - 1)) >= (1 / 2 * Integrate_{eps - 1}^{2^(t - 1) - 1}1 / l^(2)dl)"
      ]
     },
     "execution_count": 209,
     "metadata": {},
     "output_type": "execute_result"
    }
   ],
   "source": [
    "Y30 = ineqThm5.specialize({a:Y29.rhs, b:Y29.lhs, c:Fraction(one,two)})\n",
    "Y30"
   ]
  },
  {
   "cell_type": "code",
   "execution_count": 210,
   "metadata": {
    "collapsed": false
   },
   "outputs": [
    {
     "ename": "ValueError",
     "evalue": "Cannot derive implication from input!",
     "output_type": "error",
     "traceback": [
      "\u001b[0;31m---------------------------------------------------------------------------\u001b[0m",
      "\u001b[0;31mValueError\u001b[0m                                Traceback (most recent call last)",
      "\u001b[0;32m<ipython-input-210-bd35b1fd655b>\u001b[0m in \u001b[0;36m<module>\u001b[0;34m()\u001b[0m\n\u001b[0;32m----> 1\u001b[0;31m \u001b[0mX17\u001b[0m \u001b[0;34m=\u001b[0m \u001b[0mRelation\u001b[0m\u001b[0;34m(\u001b[0m\u001b[0mX16\u001b[0m\u001b[0;34m)\u001b[0m\u001b[0;34m.\u001b[0m\u001b[0mupdate\u001b[0m\u001b[0;34m(\u001b[0m\u001b[0mY30\u001b[0m\u001b[0;34m)\u001b[0m\u001b[0;34m\u001b[0m\u001b[0m\n\u001b[0m\u001b[1;32m      2\u001b[0m \u001b[0mX17\u001b[0m\u001b[0;34m\u001b[0m\u001b[0m\n",
      "\u001b[0;32m/Users/mnsarov/Documents/projects/formal_methods/witzel/proveit/proveit/number/relation.pyc\u001b[0m in \u001b[0;36mupdate\u001b[0;34m(self, nextRelExpr)\u001b[0m\n\u001b[1;32m     28\u001b[0m             \u001b[0;32mraise\u001b[0m \u001b[0mValueError\u001b[0m\u001b[0;34m(\u001b[0m\u001b[0;34m'Relation may updated only with an OrderingRelation or Equals expression'\u001b[0m\u001b[0;34m)\u001b[0m\u001b[0;34m\u001b[0m\u001b[0m\n\u001b[1;32m     29\u001b[0m         \u001b[0;32mif\u001b[0m \u001b[0misinstance\u001b[0m\u001b[0;34m(\u001b[0m\u001b[0mself\u001b[0m\u001b[0;34m.\u001b[0m\u001b[0mrelExpr\u001b[0m\u001b[0;34m,\u001b[0m \u001b[0mOrderingRelation\u001b[0m\u001b[0;34m)\u001b[0m \u001b[0;32mor\u001b[0m \u001b[0;34m(\u001b[0m\u001b[0misinstance\u001b[0m\u001b[0;34m(\u001b[0m\u001b[0mself\u001b[0m\u001b[0;34m.\u001b[0m\u001b[0mrelExpr\u001b[0m\u001b[0;34m,\u001b[0m \u001b[0mEquals\u001b[0m\u001b[0;34m)\u001b[0m \u001b[0;32mand\u001b[0m \u001b[0misinstance\u001b[0m\u001b[0;34m(\u001b[0m\u001b[0mnextRelExpr\u001b[0m\u001b[0;34m,\u001b[0m \u001b[0mEquals\u001b[0m\u001b[0;34m)\u001b[0m\u001b[0;34m)\u001b[0m\u001b[0;34m:\u001b[0m\u001b[0;34m\u001b[0m\u001b[0m\n\u001b[0;32m---> 30\u001b[0;31m             \u001b[0mself\u001b[0m\u001b[0;34m.\u001b[0m\u001b[0mrelExpr\u001b[0m \u001b[0;34m=\u001b[0m \u001b[0mself\u001b[0m\u001b[0;34m.\u001b[0m\u001b[0mrelExpr\u001b[0m\u001b[0;34m.\u001b[0m\u001b[0mapplyTransitivity\u001b[0m\u001b[0;34m(\u001b[0m\u001b[0mnextRelExpr\u001b[0m\u001b[0;34m)\u001b[0m\u001b[0;34m.\u001b[0m\u001b[0mchecked\u001b[0m\u001b[0;34m(\u001b[0m\u001b[0;34m{\u001b[0m\u001b[0mself\u001b[0m\u001b[0;34m.\u001b[0m\u001b[0mrelExpr\u001b[0m\u001b[0;34m,\u001b[0m \u001b[0mnextRelExpr\u001b[0m\u001b[0;34m}\u001b[0m\u001b[0;34m)\u001b[0m\u001b[0;34m\u001b[0m\u001b[0m\n\u001b[0m\u001b[1;32m     31\u001b[0m         \u001b[0;32melse\u001b[0m\u001b[0;34m:\u001b[0m\u001b[0;31m#Updating an equals with an inequality!\u001b[0m\u001b[0;34m\u001b[0m\u001b[0m\n\u001b[1;32m     32\u001b[0m             \u001b[0mself\u001b[0m\u001b[0;34m.\u001b[0m\u001b[0mrelExpr\u001b[0m \u001b[0;34m=\u001b[0m \u001b[0mnextRelExpr\u001b[0m\u001b[0;34m.\u001b[0m\u001b[0mapplyTransitivity\u001b[0m\u001b[0;34m(\u001b[0m\u001b[0mself\u001b[0m\u001b[0;34m.\u001b[0m\u001b[0mrelExpr\u001b[0m\u001b[0;34m)\u001b[0m\u001b[0;34m.\u001b[0m\u001b[0mchecked\u001b[0m\u001b[0;34m(\u001b[0m\u001b[0;34m{\u001b[0m\u001b[0mself\u001b[0m\u001b[0;34m.\u001b[0m\u001b[0mrelExpr\u001b[0m\u001b[0;34m,\u001b[0m\u001b[0mnextRelExpr\u001b[0m\u001b[0;34m}\u001b[0m\u001b[0;34m)\u001b[0m\u001b[0;31m#.deriveReversed()\u001b[0m\u001b[0;34m\u001b[0m\u001b[0m\n",
      "\u001b[0;32m/Users/mnsarov/Documents/projects/formal_methods/witzel/proveit/proveit/number/arithmeticOps.pyc\u001b[0m in \u001b[0;36mapplyTransitivity\u001b[0;34m(self, other)\u001b[0m\n\u001b[1;32m    149\u001b[0m \u001b[0;31m#                else:\u001b[0m\u001b[0;34m\u001b[0m\u001b[0;34m\u001b[0m\u001b[0m\n\u001b[1;32m    150\u001b[0m \u001b[0;31m#                    return other.rhsSubstitute(X,\u001b[0m\u001b[0;34m\u001b[0m\u001b[0;34m\u001b[0m\u001b[0m\n\u001b[0;32m--> 151\u001b[0;31m         \u001b[0;32mreturn\u001b[0m \u001b[0mself\u001b[0m\u001b[0;34m.\u001b[0m\u001b[0mtransitivityImpl\u001b[0m\u001b[0;34m(\u001b[0m\u001b[0mother\u001b[0m\u001b[0;34m)\u001b[0m\u001b[0;34m.\u001b[0m\u001b[0mderiveConclusion\u001b[0m\u001b[0;34m(\u001b[0m\u001b[0;34m)\u001b[0m\u001b[0;34m.\u001b[0m\u001b[0mchecked\u001b[0m\u001b[0;34m(\u001b[0m\u001b[0;34m{\u001b[0m\u001b[0mself\u001b[0m\u001b[0;34m,\u001b[0m \u001b[0mother\u001b[0m\u001b[0;34m}\u001b[0m\u001b[0;34m)\u001b[0m\u001b[0;34m\u001b[0m\u001b[0m\n\u001b[0m\u001b[1;32m    152\u001b[0m \u001b[0;34m\u001b[0m\u001b[0m\n\u001b[1;32m    153\u001b[0m \u001b[0;32mclass\u001b[0m \u001b[0mLessThan\u001b[0m\u001b[0;34m(\u001b[0m\u001b[0mOrderingRelation\u001b[0m\u001b[0;34m)\u001b[0m\u001b[0;34m:\u001b[0m\u001b[0;34m\u001b[0m\u001b[0m\n",
      "\u001b[0;32m/Users/mnsarov/Documents/projects/formal_methods/witzel/proveit/proveit/number/arithmeticOps.pyc\u001b[0m in \u001b[0;36mtransitivityImpl\u001b[0;34m(self, other)\u001b[0m\n\u001b[1;32m    230\u001b[0m  \u001b[0;31m#           result = equalsTransitivity.specialize({x:self.lhs, y:self.rhs, z:otherEquality.rhs}).deriveConclusion()\u001b[0m\u001b[0;34m\u001b[0m\u001b[0;34m\u001b[0m\u001b[0m\n\u001b[1;32m    231\u001b[0m         \u001b[0;32melse\u001b[0m\u001b[0;34m:\u001b[0m\u001b[0;34m\u001b[0m\u001b[0m\n\u001b[0;32m--> 232\u001b[0;31m             \u001b[0;32mraise\u001b[0m \u001b[0mValueError\u001b[0m\u001b[0;34m(\u001b[0m\u001b[0;34m\"Cannot derive implication from input!\"\u001b[0m\u001b[0;34m)\u001b[0m\u001b[0;34m\u001b[0m\u001b[0m\n\u001b[0m\u001b[1;32m    233\u001b[0m \u001b[0;34m\u001b[0m\u001b[0m\n\u001b[1;32m    234\u001b[0m \u001b[0mLESSTHANEQUALS\u001b[0m \u001b[0;34m=\u001b[0m \u001b[0mLiteral\u001b[0m\u001b[0;34m(\u001b[0m\u001b[0mpkg\u001b[0m\u001b[0;34m,\u001b[0m\u001b[0;34m'LESSTHANEQUALS'\u001b[0m\u001b[0;34m,\u001b[0m \u001b[0;34m{\u001b[0m\u001b[0mSTRING\u001b[0m\u001b[0;34m:\u001b[0m \u001b[0;34mr'<='\u001b[0m\u001b[0;34m,\u001b[0m \u001b[0mLATEX\u001b[0m\u001b[0;34m:\u001b[0m\u001b[0;34mr'\\leq'\u001b[0m\u001b[0;34m}\u001b[0m\u001b[0;34m,\u001b[0m \u001b[0moperationMaker\u001b[0m \u001b[0;34m=\u001b[0m \u001b[0;32mlambda\u001b[0m \u001b[0moperands\u001b[0m \u001b[0;34m:\u001b[0m \u001b[0mLessThanEquals\u001b[0m\u001b[0;34m(\u001b[0m\u001b[0;34m*\u001b[0m\u001b[0moperands\u001b[0m\u001b[0;34m)\u001b[0m\u001b[0;34m)\u001b[0m\u001b[0;34m\u001b[0m\u001b[0m\n",
      "\u001b[0;31mValueError\u001b[0m: Cannot derive implication from input!"
     ]
    }
   ],
   "source": [
    "X17 = Relation(X16).update(Y30)\n",
    "X17"
   ]
  },
  {
   "cell_type": "code",
   "execution_count": null,
   "metadata": {
    "collapsed": true
   },
   "outputs": [],
   "source": []
  }
 ],
 "metadata": {
  "kernelspec": {
   "display_name": "Python 2",
   "language": "python",
   "name": "python2"
  },
  "language_info": {
   "codemirror_mode": {
    "name": "ipython",
    "version": 2
   },
   "file_extension": ".py",
   "mimetype": "text/x-python",
   "name": "python",
   "nbconvert_exporter": "python",
   "pygments_lexer": "ipython2",
   "version": "2.7.6"
  }
 },
 "nbformat": 4,
 "nbformat_minor": 0
}
