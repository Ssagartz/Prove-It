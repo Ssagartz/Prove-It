{
 "cells": [
  {
   "cell_type": "code",
   "execution_count": 1,
   "metadata": {
    "collapsed": false
   },
   "outputs": [],
   "source": [
    "from proveit.basiclogic import autoSubstitute, autoSubstitution, In, Equation, And, compose\n",
    "from proveit.number.arithmeticOps import *\n",
    "from proveit.common import a, b, k, l, r, x, eps\n",
    "from proveit.number import Exponentiate, Add, Subtract, Multiply, Abs\n",
    "from proveit.number.common import *\n",
    "from proveit.physics.quantum.QPE.axioms import tInNaturalsPos, modAddDef\n",
    "from proveit.physics.quantum.QPE.theorems import fail_ineq, posDomainInFullDomain, negDomainInFullDomain, \\\n",
    "    two_pow_tMinusOne_in_posnats, phaseInReals, all_alpha_l_in_complexes, all_abs_alpha_l_nonneg, deltaInReals, scaledDeltaInInterval, \\\n",
    "    scaledDelta_notEq_nonzeroInt, alpha_l_sqrd_ineq, fail_sum\n",
    "from proveit.physics.quantum.QPE.common import alpha_l, alpha_l_sqrd, t_, delta_, two_pow_t_minus_one, \\\n",
    "    fullDomain, negDomain, posDomain, epsDomain\n",
    "from proveit.physics.quantum.QPE.phaseEstOps import Psuccess, Pfail, ModAdd\n",
    "from proveit.number.theorems import splitSumOneElem, addSums\n",
    "from proveit.number.complex.theorems import powOfProd, cancelSubAndAdd, negNeg, cancelAddNeg, convertAddNegToSub, \\\n",
    "    distributeNegOverAdd, temporarySpecialCaseCancellation\n",
    "from proveit.number.natural.axioms import oneAddOne\n",
    "from proveit.number.integer.theorems import sumIneq1, sumIneq2, indexShift, sumEq, evenFuncSum, sumIntegrateIneq1\n",
    "from proveit.number.relation import Relation\n",
    "from proveit.number.real.theorems import sumFactor_temp, ineqThm5, ineqThm6a, ineqThm7a, ineqThm8a, \\\n",
    "    simplifyQuarterTimesTwo, boundedInvSqrdIntegral, inverseSqrdIsEvenFunc, inverseSqrdIsMonDecFunc\n",
    "from proveit.basiclogic.set import Union\n",
    "from IPython.display import display"
   ]
  },
  {
   "cell_type": "code",
   "execution_count": 2,
   "metadata": {
    "collapsed": false
   },
   "outputs": [
    {
     "data": {
      "text/latex": [
       "$\\forall_{\\varepsilon \\in \\{1\\ldots \\left(2^{t - 1} - 2\\right)\\}} \\left(P_{\\rm fail}\\left(\\varepsilon\\right) \\leq \\left(\\frac{1}{2} \\cdot \\left(\\frac{1}{\\varepsilon} + \\frac{1}{\\varepsilon^{2}}\\right)\\right)\\right)$"
      ],
      "text/plain": [
       "$\\forall_{\\varepsilon \\in \\{1\\ldots \\left(2^{t - 1} - 2\\right)\\}} \\left(P_{\\rm fail}\\left(\\varepsilon\\right) \\leq \\left(\\frac{1}{2} \\cdot \\left(\\frac{1}{\\varepsilon} + \\frac{1}{\\varepsilon^{2}}\\right)\\right)\\right)$"
      ]
     },
     "execution_count": 2,
     "metadata": {},
     "output_type": "execute_result"
    }
   ],
   "source": [
    "fail_ineq.beginProof()"
   ]
  },
  {
   "cell_type": "code",
   "execution_count": 3,
   "metadata": {
    "collapsed": true
   },
   "outputs": [],
   "source": [
    "def showExprTree(expr, indent = ''):\n",
    "    print indent + str(expr.__class__) + \": \" + str(expr)\n",
    "    for subExpr in expr._subExpressions:\n",
    "        showExprTree(subExpr, indent + '  ')"
   ]
  },
  {
   "cell_type": "code",
   "execution_count": 4,
   "metadata": {
    "collapsed": false
   },
   "outputs": [
    {
     "data": {
      "text/latex": [
       "$\\varepsilon \\in \\{1\\ldots \\left(2^{t - 1} - 2\\right)\\}$"
      ],
      "text/plain": [
       "$\\varepsilon \\in \\{1\\ldots \\left(2^{t - 1} - 2\\right)\\}$"
      ]
     },
     "metadata": {},
     "output_type": "display_data"
    },
    {
     "data": {
      "text/latex": [
       "$\\varepsilon \\in \\mathbb{N}^+$"
      ],
      "text/plain": [
       "$\\varepsilon \\in \\mathbb{N}^+$"
      ]
     },
     "metadata": {},
     "output_type": "display_data"
    },
    {
     "data": {
      "text/latex": [
       "$\\varepsilon \\geq 1$"
      ],
      "text/plain": [
       "$\\varepsilon \\geq 1$"
      ]
     },
     "metadata": {},
     "output_type": "display_data"
    },
    {
     "data": {
      "text/latex": [
       "$\\varepsilon \\leq \\left(2^{t - 1} - 2\\right)$"
      ],
      "text/plain": [
       "$\\varepsilon \\leq \\left(2^{t - 1} - 2\\right)$"
      ]
     },
     "metadata": {},
     "output_type": "display_data"
    }
   ],
   "source": [
    "epsInDomain = In(eps, epsDomain)\n",
    "display(epsInDomain)\n",
    "display(epsDomain.deduceMemberInNaturalsPos(eps).proven({epsInDomain}))\n",
    "epsLowerBound = epsDomain.deduceMemberLowerBound(eps).deriveReversed().proven({epsInDomain})\n",
    "display(epsLowerBound)\n",
    "epsUpperBound = epsDomain.deduceMemberUpperBound(eps).proven({epsInDomain})\n",
    "display(epsUpperBound)"
   ]
  },
  {
   "cell_type": "code",
   "execution_count": 5,
   "metadata": {
    "collapsed": false
   },
   "outputs": [
    {
     "data": {
      "text/latex": [
       "$P_{\\rm fail}\\left(\\varepsilon\\right) = \\left(\\left(\\sum_{l=\\left(-2^{t - 1}\\right) + 1}^{-\\left(\\varepsilon + 1\\right)} \\left|\\alpha_{l}\\right|^{2}\\right) + \\left(\\sum_{l=\\varepsilon + 1}^{2^{t - 1}} \\left|\\alpha_{l}\\right|^{2}\\right)\\right)$"
      ],
      "text/plain": [
       "$P_{\\rm fail}\\left(\\varepsilon\\right) = \\left(\\left(\\sum_{l=\\left(-2^{t - 1}\\right) + 1}^{-\\left(\\varepsilon + 1\\right)} \\left|\\alpha_{l}\\right|^{2}\\right) + \\left(\\sum_{l=\\varepsilon + 1}^{2^{t - 1}} \\left|\\alpha_{l}\\right|^{2}\\right)\\right)$"
      ]
     },
     "execution_count": 5,
     "metadata": {},
     "output_type": "execute_result"
    }
   ],
   "source": [
    "fail_sum_special = fail_sum.specialize().proven({epsInDomain})\n",
    "fail_sum_special"
   ]
  },
  {
   "cell_type": "code",
   "execution_count": 6,
   "metadata": {
    "collapsed": false
   },
   "outputs": [
    {
     "data": {
      "text/latex": [
       "$\\{\\left(-2^{t - 1}\\right) + 1\\ldots -\\left(\\varepsilon + 1\\right)\\}$"
      ],
      "text/plain": [
       "$\\{\\left(-2^{t - 1}\\right) + 1\\ldots -\\left(\\varepsilon + 1\\right)\\}$"
      ]
     },
     "metadata": {},
     "output_type": "display_data"
    },
    {
     "data": {
      "text/latex": [
       "$\\{\\varepsilon + 1\\ldots 2^{t - 1}\\}$"
      ],
      "text/plain": [
       "$\\{\\varepsilon + 1\\ldots 2^{t - 1}\\}$"
      ]
     },
     "metadata": {},
     "output_type": "display_data"
    },
    {
     "data": {
      "text/latex": [
       "$\\{\\left(-2^{t - 1}\\right) + 1\\ldots 2^{t - 1}\\}$"
      ],
      "text/plain": [
       "$\\{\\left(-2^{t - 1}\\right) + 1\\ldots 2^{t - 1}\\}$"
      ]
     },
     "metadata": {},
     "output_type": "display_data"
    }
   ],
   "source": [
    "display(negDomain)\n",
    "display(posDomain)\n",
    "display(fullDomain)"
   ]
  },
  {
   "cell_type": "code",
   "execution_count": 7,
   "metadata": {
    "collapsed": false
   },
   "outputs": [
    {
     "data": {
      "text/latex": [
       "$l \\in \\{\\left(\\left(-2^{t - 1}\\right) + 1\\right)\\ldots 2^{t - 1}\\}$"
      ],
      "text/plain": [
       "$l \\in \\{\\left(\\left(-2^{t - 1}\\right) + 1\\right)\\ldots 2^{t - 1}\\}$"
      ]
     },
     "metadata": {},
     "output_type": "display_data"
    },
    {
     "data": {
      "text/latex": [
       "$l \\neq 0$"
      ],
      "text/plain": [
       "$l \\neq 0$"
      ]
     },
     "metadata": {},
     "output_type": "display_data"
    }
   ],
   "source": [
    "lInDomain = In(l, fullDomain)\n",
    "lNotZero = NotEquals(l, zero)\n",
    "display(lInDomain)\n",
    "display(lNotZero)\n"
   ]
  },
  {
   "cell_type": "code",
   "execution_count": 8,
   "metadata": {
    "collapsed": false
   },
   "outputs": [
    {
     "data": {
      "text/latex": [
       "$l \\in \\{\\left(\\left(-2^{t - 1}\\right) + 1\\right)\\ldots 2^{t - 1}\\}$"
      ],
      "text/plain": [
       "$l \\in \\{\\left(\\left(-2^{t - 1}\\right) + 1\\right)\\ldots 2^{t - 1}\\}$"
      ]
     },
     "metadata": {},
     "output_type": "display_data"
    },
    {
     "data": {
      "text/latex": [
       "$l \\in \\{\\left(\\left(-2^{t - 1}\\right) + 1\\right)\\ldots 2^{t - 1}\\}$"
      ],
      "text/plain": [
       "$l \\in \\{\\left(\\left(-2^{t - 1}\\right) + 1\\right)\\ldots 2^{t - 1}\\}$"
      ]
     },
     "metadata": {},
     "output_type": "display_data"
    },
    {
     "data": {
      "text/latex": [
       "$l \\in \\mathbb{Z}$"
      ],
      "text/plain": [
       "$l \\in \\mathbb{Z}$"
      ]
     },
     "metadata": {},
     "output_type": "display_data"
    },
    {
     "data": {
      "text/latex": [
       "$l \\in \\mathbb{Z}$"
      ],
      "text/plain": [
       "$l \\in \\mathbb{Z}$"
      ]
     },
     "metadata": {},
     "output_type": "display_data"
    }
   ],
   "source": [
    "display(negDomainInFullDomain.specialize().specialize().proven({epsInDomain, In(l, negDomain)}))\n",
    "display(posDomainInFullDomain.specialize().specialize().proven({epsInDomain, In(l, posDomain)}))\n",
    "display(negDomain.deduceMemberInIntegers(l, {epsInDomain}).proven({epsInDomain, In(l,negDomain)}))\n",
    "display(posDomain.deduceMemberInIntegers(l, {epsInDomain}).proven({epsInDomain, In(l,posDomain)}))"
   ]
  },
  {
   "cell_type": "code",
   "execution_count": 9,
   "metadata": {
    "collapsed": false
   },
   "outputs": [
    {
     "data": {
      "text/latex": [
       "$l < 0$"
      ],
      "text/plain": [
       "$l < 0$"
      ]
     },
     "metadata": {},
     "output_type": "display_data"
    },
    {
     "data": {
      "text/latex": [
       "$l \\leq 0$"
      ],
      "text/plain": [
       "$l \\leq 0$"
      ]
     },
     "metadata": {},
     "output_type": "display_data"
    },
    {
     "data": {
      "text/latex": [
       "$l > 0$"
      ],
      "text/plain": [
       "$l > 0$"
      ]
     },
     "metadata": {},
     "output_type": "display_data"
    }
   ],
   "source": [
    "lInNegDomainIsNeg = negDomain.deduceMemberIsNegative(l, {epsInDomain})\n",
    "display(lInNegDomainIsNeg.proven({epsInDomain, In(l, negDomain)}))\n",
    "display(lInNegDomainIsNeg.deriveRelaxed({epsInDomain, In(l, negDomain)}).proven({epsInDomain, In(l, negDomain)}))\n",
    "display(posDomain.deduceMemberIsPositive(l, {epsInDomain}).proven({epsInDomain, In(l, posDomain)}))"
   ]
  },
  {
   "cell_type": "code",
   "execution_count": 10,
   "metadata": {
    "collapsed": false
   },
   "outputs": [
    {
     "data": {
      "text/latex": [
       "$\\left(\\varepsilon + 1\\right) > 1$"
      ],
      "text/plain": [
       "$\\left(\\varepsilon + 1\\right) > 1$"
      ]
     },
     "metadata": {},
     "output_type": "display_data"
    },
    {
     "data": {
      "text/latex": [
       "$l \\geq \\left(\\varepsilon + 1\\right)$"
      ],
      "text/plain": [
       "$l \\geq \\left(\\varepsilon + 1\\right)$"
      ]
     },
     "metadata": {},
     "output_type": "display_data"
    },
    {
     "data": {
      "text/latex": [
       "$l > 1$"
      ],
      "text/plain": [
       "$l > 1$"
      ]
     },
     "metadata": {},
     "output_type": "display_data"
    },
    {
     "data": {
      "text/latex": [
       "$\\left(l - 1\\right) > 0$"
      ],
      "text/plain": [
       "$\\left(l - 1\\right) > 0$"
      ]
     },
     "metadata": {},
     "output_type": "display_data"
    }
   ],
   "source": [
    "epsPlusOneIneq = Add(eps, one).deduceStrictIncrease(1, {epsInDomain}).proven({epsInDomain})\n",
    "display(epsPlusOneIneq)\n",
    "posDomainLowerBound = posDomain.deduceMemberLowerBound(l, {epsInDomain}).deriveReversed()\n",
    "display(posDomainLowerBound)\n",
    "posDomainGreaterThanOne = posDomainLowerBound.applyTransitivity(epsPlusOneIneq).proven({epsInDomain, In(l, posDomain)})\n",
    "display(posDomainGreaterThanOne)\n",
    "display(deducePositive(Subtract(l, one), {epsInDomain, In(l, posDomain)}).proven({epsInDomain, In(l, posDomain)}))\n"
   ]
  },
  {
   "cell_type": "code",
   "execution_count": 11,
   "metadata": {
    "collapsed": false
   },
   "outputs": [
    {
     "data": {
      "text/latex": [
       "$l \\neq 0$"
      ],
      "text/plain": [
       "$l \\neq 0$"
      ]
     },
     "metadata": {},
     "output_type": "display_data"
    },
    {
     "data": {
      "text/latex": [
       "$l \\neq 0$"
      ],
      "text/plain": [
       "$l \\neq 0$"
      ]
     },
     "metadata": {},
     "output_type": "display_data"
    }
   ],
   "source": [
    "display(deduceNotZero(l, {epsInDomain, In(l, negDomain)}).proven({epsInDomain, In(l, negDomain)}))\n",
    "display(deduceNotZero(l, {epsInDomain, In(l, posDomain)}).proven({epsInDomain, In(l, posDomain)}))"
   ]
  },
  {
   "cell_type": "code",
   "execution_count": 12,
   "metadata": {
    "collapsed": false
   },
   "outputs": [
    {
     "data": {
      "text/latex": [
       "$\\left|\\alpha_{l}\\right|^{2} \\leq \\frac{1}{4 \\cdot \\left(l - \\left(2^{t} \\cdot \\delta\\right)\\right)^{2}}$"
      ],
      "text/plain": [
       "$\\left|\\alpha_{l}\\right|^{2} \\leq \\frac{1}{4 \\cdot \\left(l - \\left(2^{t} \\cdot \\delta\\right)\\right)^{2}}$"
      ]
     },
     "execution_count": 12,
     "metadata": {},
     "output_type": "execute_result"
    }
   ],
   "source": [
    "Y0 = alpha_l_sqrd_ineq.specialize().proven({lInDomain, lNotZero})\n",
    "Y0"
   ]
  },
  {
   "cell_type": "code",
   "execution_count": 13,
   "metadata": {
    "collapsed": false
   },
   "outputs": [
    {
     "data": {
      "text/latex": [
       "$\\forall_{l \\in \\mathbb{Z}~|~l \\neq 0} \\left(\\left(2^{t} \\cdot \\delta\\right) \\neq l\\right)$"
      ],
      "text/plain": [
       "$\\forall_{l \\in \\mathbb{Z}~|~l \\neq 0} \\left(\\left(2^{t} \\cdot \\delta\\right) \\neq l\\right)$"
      ]
     },
     "execution_count": 13,
     "metadata": {},
     "output_type": "execute_result"
    }
   ],
   "source": [
    "scaledDelta_notEq_nonzeroInt"
   ]
  },
  {
   "cell_type": "code",
   "execution_count": 14,
   "metadata": {
    "collapsed": false
   },
   "outputs": [
    {
     "data": {
      "text/latex": [
       "$\\left(2^{t} \\cdot \\delta\\right) \\neq l$"
      ],
      "text/plain": [
       "$\\left(2^{t} \\cdot \\delta\\right) \\neq l$"
      ]
     },
     "metadata": {},
     "output_type": "display_data"
    },
    {
     "data": {
      "text/latex": [
       "$\\left(2^{t} \\cdot \\delta\\right) \\neq l$"
      ],
      "text/plain": [
       "$\\left(2^{t} \\cdot \\delta\\right) \\neq l$"
      ]
     },
     "metadata": {},
     "output_type": "display_data"
    }
   ],
   "source": [
    "display(scaledDelta_notEq_nonzeroInt.specialize().proven({epsInDomain, In(l, posDomain)}))\n",
    "display(scaledDelta_notEq_nonzeroInt.specialize().proven({epsInDomain, In(l, negDomain)}))"
   ]
  },
  {
   "cell_type": "code",
   "execution_count": 15,
   "metadata": {
    "collapsed": false
   },
   "outputs": [
    {
     "data": {
      "text/latex": [
       "$\\forall_{a, b} \\left[\\forall_{m, n \\in \\mathbb{Z}} \\left(\\left[\\forall_{k \\in \\{m\\ldots n\\}} \\left(a\\left(k\\right) \\leq b\\left(k\\right)\\right)\\right] \\Rightarrow \\left(\\left(\\sum_{l=m}^{n} a\\left(l\\right)\\right) \\leq \\left(\\sum_{l=m}^{n} b\\left(l\\right)\\right)\\right)\\right)\\right]$"
      ],
      "text/plain": [
       "$\\forall_{a, b} \\left[\\forall_{m, n \\in \\mathbb{Z}} \\left(\\left[\\forall_{k \\in \\{m\\ldots n\\}} \\left(a\\left(k\\right) \\leq b\\left(k\\right)\\right)\\right] \\Rightarrow \\left(\\left(\\sum_{l=m}^{n} a\\left(l\\right)\\right) \\leq \\left(\\sum_{l=m}^{n} b\\left(l\\right)\\right)\\right)\\right)\\right]$"
      ]
     },
     "execution_count": 15,
     "metadata": {},
     "output_type": "execute_result"
    }
   ],
   "source": [
    "sumIneq1"
   ]
  },
  {
   "cell_type": "code",
   "execution_count": 16,
   "metadata": {
    "collapsed": false
   },
   "outputs": [
    {
     "data": {
      "text/latex": [
       "$\\forall_{m, n \\in \\mathbb{Z}} \\left(\\left[\\forall_{k \\in \\{m\\ldots n\\}} \\left(\\left|\\alpha_{k}\\right|^{2} \\leq \\frac{1}{4 \\cdot \\left(k - \\left(2^{t} \\cdot \\delta\\right)\\right)^{2}}\\right)\\right] \\Rightarrow \\left(\\left(\\sum_{l=m}^{n} \\left|\\alpha_{l}\\right|^{2}\\right) \\leq \\left(\\sum_{l=m}^{n} \\frac{1}{4 \\cdot \\left(l - \\left(2^{t} \\cdot \\delta\\right)\\right)^{2}}\\right)\\right)\\right)$"
      ],
      "text/plain": [
       "$\\forall_{m, n \\in \\mathbb{Z}} \\left(\\left[\\forall_{k \\in \\{m\\ldots n\\}} \\left(\\left|\\alpha_{k}\\right|^{2} \\leq \\frac{1}{4 \\cdot \\left(k - \\left(2^{t} \\cdot \\delta\\right)\\right)^{2}}\\right)\\right] \\Rightarrow \\left(\\left(\\sum_{l=m}^{n} \\left|\\alpha_{l}\\right|^{2}\\right) \\leq \\left(\\sum_{l=m}^{n} \\frac{1}{4 \\cdot \\left(l - \\left(2^{t} \\cdot \\delta\\right)\\right)^{2}}\\right)\\right)\\right)$"
      ]
     },
     "execution_count": 16,
     "metadata": {},
     "output_type": "execute_result"
    }
   ],
   "source": [
    "Y1a = sumIneq1.specialize({Operation(a,l):alpha_l_sqrd, Operation(b,l):Y0.rhs}).proven()\n",
    "Y1a"
   ]
  },
  {
   "cell_type": "code",
   "execution_count": 17,
   "metadata": {
    "collapsed": false
   },
   "outputs": [
    {
     "data": {
      "text/latex": [
       "$\\left(\\left(-2^{t - 1}\\right) + 1\\right) \\in \\mathbb{Z}$"
      ],
      "text/plain": [
       "$\\left(\\left(-2^{t - 1}\\right) + 1\\right) \\in \\mathbb{Z}$"
      ]
     },
     "metadata": {},
     "output_type": "display_data"
    },
    {
     "data": {
      "text/latex": [
       "$\\left(-\\left(\\varepsilon + 1\\right)\\right) \\in \\mathbb{Z}$"
      ],
      "text/plain": [
       "$\\left(-\\left(\\varepsilon + 1\\right)\\right) \\in \\mathbb{Z}$"
      ]
     },
     "metadata": {},
     "output_type": "display_data"
    }
   ],
   "source": [
    "display(negDomain.lowerBound.deduceInIntegers().proven())\n",
    "display(negDomain.upperBound.deduceInIntegers({epsInDomain}).proven({epsInDomain}))"
   ]
  },
  {
   "cell_type": "code",
   "execution_count": 18,
   "metadata": {
    "collapsed": false
   },
   "outputs": [
    {
     "data": {
      "text/latex": [
       "$\\left[\\forall_{k \\in \\{\\left(\\left(-2^{t - 1}\\right) + 1\\right)\\ldots \\left(-\\left(\\varepsilon + 1\\right)\\right)\\}} \\left(\\left|\\alpha_{k}\\right|^{2} \\leq \\frac{1}{4 \\cdot \\left(k - \\left(2^{t} \\cdot \\delta\\right)\\right)^{2}}\\right)\\right] \\Rightarrow \\left(\\left(\\sum_{l=\\left(-2^{t - 1}\\right) + 1}^{-\\left(\\varepsilon + 1\\right)} \\left|\\alpha_{l}\\right|^{2}\\right) \\leq \\left(\\sum_{l=\\left(-2^{t - 1}\\right) + 1}^{-\\left(\\varepsilon + 1\\right)} \\frac{1}{4 \\cdot \\left(l - \\left(2^{t} \\cdot \\delta\\right)\\right)^{2}}\\right)\\right)$"
      ],
      "text/plain": [
       "$\\left[\\forall_{k \\in \\{\\left(\\left(-2^{t - 1}\\right) + 1\\right)\\ldots \\left(-\\left(\\varepsilon + 1\\right)\\right)\\}} \\left(\\left|\\alpha_{k}\\right|^{2} \\leq \\frac{1}{4 \\cdot \\left(k - \\left(2^{t} \\cdot \\delta\\right)\\right)^{2}}\\right)\\right] \\Rightarrow \\left(\\left(\\sum_{l=\\left(-2^{t - 1}\\right) + 1}^{-\\left(\\varepsilon + 1\\right)} \\left|\\alpha_{l}\\right|^{2}\\right) \\leq \\left(\\sum_{l=\\left(-2^{t - 1}\\right) + 1}^{-\\left(\\varepsilon + 1\\right)} \\frac{1}{4 \\cdot \\left(l - \\left(2^{t} \\cdot \\delta\\right)\\right)^{2}}\\right)\\right)$"
      ]
     },
     "execution_count": 18,
     "metadata": {},
     "output_type": "execute_result"
    }
   ],
   "source": [
    "Y1 = Y1a.specialize({m:negDomain.lowerBound, n:negDomain.upperBound}).proven({epsInDomain})\n",
    "Y1"
   ]
  },
  {
   "cell_type": "code",
   "execution_count": 19,
   "metadata": {
    "collapsed": false
   },
   "outputs": [
    {
     "data": {
      "text/latex": [
       "$\\left(\\varepsilon + 1\\right) \\in \\mathbb{Z}$"
      ],
      "text/plain": [
       "$\\left(\\varepsilon + 1\\right) \\in \\mathbb{Z}$"
      ]
     },
     "metadata": {},
     "output_type": "display_data"
    },
    {
     "data": {
      "text/latex": [
       "$2^{t - 1} \\in \\mathbb{Z}$"
      ],
      "text/plain": [
       "$2^{t - 1} \\in \\mathbb{Z}$"
      ]
     },
     "metadata": {},
     "output_type": "display_data"
    }
   ],
   "source": [
    "display(posDomain.lowerBound.deduceInIntegers({epsInDomain}).proven({epsInDomain}))\n",
    "display(posDomain.upperBound.deduceInIntegers().proven({epsInDomain}))"
   ]
  },
  {
   "cell_type": "code",
   "execution_count": 20,
   "metadata": {
    "collapsed": false
   },
   "outputs": [
    {
     "data": {
      "text/latex": [
       "$\\left[\\forall_{k \\in \\{\\left(\\varepsilon + 1\\right)\\ldots 2^{t - 1}\\}} \\left(\\left|\\alpha_{k}\\right|^{2} \\leq \\frac{1}{4 \\cdot \\left(k - \\left(2^{t} \\cdot \\delta\\right)\\right)^{2}}\\right)\\right] \\Rightarrow \\left(\\left(\\sum_{l=\\varepsilon + 1}^{2^{t - 1}} \\left|\\alpha_{l}\\right|^{2}\\right) \\leq \\left(\\sum_{l=\\varepsilon + 1}^{2^{t - 1}} \\frac{1}{4 \\cdot \\left(l - \\left(2^{t} \\cdot \\delta\\right)\\right)^{2}}\\right)\\right)$"
      ],
      "text/plain": [
       "$\\left[\\forall_{k \\in \\{\\left(\\varepsilon + 1\\right)\\ldots 2^{t - 1}\\}} \\left(\\left|\\alpha_{k}\\right|^{2} \\leq \\frac{1}{4 \\cdot \\left(k - \\left(2^{t} \\cdot \\delta\\right)\\right)^{2}}\\right)\\right] \\Rightarrow \\left(\\left(\\sum_{l=\\varepsilon + 1}^{2^{t - 1}} \\left|\\alpha_{l}\\right|^{2}\\right) \\leq \\left(\\sum_{l=\\varepsilon + 1}^{2^{t - 1}} \\frac{1}{4 \\cdot \\left(l - \\left(2^{t} \\cdot \\delta\\right)\\right)^{2}}\\right)\\right)$"
      ]
     },
     "execution_count": 20,
     "metadata": {},
     "output_type": "execute_result"
    }
   ],
   "source": [
    "Y2 = Y1a.specialize({m:posDomain.lowerBound, n:posDomain.upperBound}).proven({epsInDomain})\n",
    "Y2"
   ]
  },
  {
   "cell_type": "code",
   "execution_count": 21,
   "metadata": {
    "collapsed": false
   },
   "outputs": [
    {
     "data": {
      "text/latex": [
       "$\\forall_{k \\in \\{\\left(\\left(-2^{t - 1}\\right) + 1\\right)\\ldots \\left(-\\left(\\varepsilon + 1\\right)\\right)\\}} \\left(\\left|\\alpha_{k}\\right|^{2} \\leq \\frac{1}{4 \\cdot \\left(k - \\left(2^{t} \\cdot \\delta\\right)\\right)^{2}}\\right)$"
      ],
      "text/plain": [
       "$\\forall_{k \\in \\{\\left(\\left(-2^{t - 1}\\right) + 1\\right)\\ldots \\left(-\\left(\\varepsilon + 1\\right)\\right)\\}} \\left(\\left|\\alpha_{k}\\right|^{2} \\leq \\frac{1}{4 \\cdot \\left(k - \\left(2^{t} \\cdot \\delta\\right)\\right)^{2}}\\right)$"
      ]
     },
     "execution_count": 21,
     "metadata": {},
     "output_type": "execute_result"
    }
   ],
   "source": [
    "Y0_negDomain = Y0.generalize(l, domain=negDomain).proven({epsInDomain})\n",
    "Y0_negDomain.relabel({l:k})"
   ]
  },
  {
   "cell_type": "code",
   "execution_count": 22,
   "metadata": {
    "collapsed": false
   },
   "outputs": [
    {
     "data": {
      "text/latex": [
       "$\\forall_{k \\in \\{\\left(\\varepsilon + 1\\right)\\ldots 2^{t - 1}\\}} \\left(\\left|\\alpha_{k}\\right|^{2} \\leq \\frac{1}{4 \\cdot \\left(k - \\left(2^{t} \\cdot \\delta\\right)\\right)^{2}}\\right)$"
      ],
      "text/plain": [
       "$\\forall_{k \\in \\{\\left(\\varepsilon + 1\\right)\\ldots 2^{t - 1}\\}} \\left(\\left|\\alpha_{k}\\right|^{2} \\leq \\frac{1}{4 \\cdot \\left(k - \\left(2^{t} \\cdot \\delta\\right)\\right)^{2}}\\right)$"
      ]
     },
     "execution_count": 22,
     "metadata": {},
     "output_type": "execute_result"
    }
   ],
   "source": [
    "Y0_posDomain = Y0.generalize(l, domain=posDomain).proven({epsInDomain})\n",
    "Y0_posDomain.relabel({l:k})"
   ]
  },
  {
   "cell_type": "code",
   "execution_count": 23,
   "metadata": {
    "collapsed": false
   },
   "outputs": [
    {
     "data": {
      "text/latex": [
       "$\\left(\\sum_{l=\\left(-2^{t - 1}\\right) + 1}^{-\\left(\\varepsilon + 1\\right)} \\left|\\alpha_{l}\\right|^{2}\\right) \\leq \\left(\\sum_{l=\\left(-2^{t - 1}\\right) + 1}^{-\\left(\\varepsilon + 1\\right)} \\frac{1}{4 \\cdot \\left(l - \\left(2^{t} \\cdot \\delta\\right)\\right)^{2}}\\right)$"
      ],
      "text/plain": [
       "$\\left(\\sum_{l=\\left(-2^{t - 1}\\right) + 1}^{-\\left(\\varepsilon + 1\\right)} \\left|\\alpha_{l}\\right|^{2}\\right) \\leq \\left(\\sum_{l=\\left(-2^{t - 1}\\right) + 1}^{-\\left(\\varepsilon + 1\\right)} \\frac{1}{4 \\cdot \\left(l - \\left(2^{t} \\cdot \\delta\\right)\\right)^{2}}\\right)$"
      ]
     },
     "execution_count": 23,
     "metadata": {},
     "output_type": "execute_result"
    }
   ],
   "source": [
    "Y1.conclusion.proven({epsInDomain})"
   ]
  },
  {
   "cell_type": "code",
   "execution_count": 24,
   "metadata": {
    "collapsed": false
   },
   "outputs": [
    {
     "data": {
      "text/latex": [
       "$\\left(\\sum_{l=\\varepsilon + 1}^{2^{t - 1}} \\left|\\alpha_{l}\\right|^{2}\\right) \\leq \\left(\\sum_{l=\\varepsilon + 1}^{2^{t - 1}} \\frac{1}{4 \\cdot \\left(l - \\left(2^{t} \\cdot \\delta\\right)\\right)^{2}}\\right)$"
      ],
      "text/plain": [
       "$\\left(\\sum_{l=\\varepsilon + 1}^{2^{t - 1}} \\left|\\alpha_{l}\\right|^{2}\\right) \\leq \\left(\\sum_{l=\\varepsilon + 1}^{2^{t - 1}} \\frac{1}{4 \\cdot \\left(l - \\left(2^{t} \\cdot \\delta\\right)\\right)^{2}}\\right)$"
      ]
     },
     "execution_count": 24,
     "metadata": {},
     "output_type": "execute_result"
    }
   ],
   "source": [
    "Y2.conclusion.proven({epsInDomain})"
   ]
  },
  {
   "cell_type": "code",
   "execution_count": 25,
   "metadata": {
    "collapsed": false
   },
   "outputs": [
    {
     "data": {
      "text/latex": [
       "$\\left(\\sum_{l=\\left(-2^{t - 1}\\right) + 1}^{-\\left(\\varepsilon + 1\\right)} \\frac{1}{4 \\cdot \\left(l - \\left(2^{t} \\cdot \\delta\\right)\\right)^{2}}\\right) \\in \\mathbb{R}$"
      ],
      "text/plain": [
       "$\\left(\\sum_{l=\\left(-2^{t - 1}\\right) + 1}^{-\\left(\\varepsilon + 1\\right)} \\frac{1}{4 \\cdot \\left(l - \\left(2^{t} \\cdot \\delta\\right)\\right)^{2}}\\right) \\in \\mathbb{R}$"
      ]
     },
     "metadata": {},
     "output_type": "display_data"
    },
    {
     "data": {
      "text/latex": [
       "$\\left(\\sum_{l=\\varepsilon + 1}^{2^{t - 1}} \\frac{1}{4 \\cdot \\left(l - \\left(2^{t} \\cdot \\delta\\right)\\right)^{2}}\\right) \\in \\mathbb{R}$"
      ],
      "text/plain": [
       "$\\left(\\sum_{l=\\varepsilon + 1}^{2^{t - 1}} \\frac{1}{4 \\cdot \\left(l - \\left(2^{t} \\cdot \\delta\\right)\\right)^{2}}\\right) \\in \\mathbb{R}$"
      ]
     },
     "metadata": {},
     "output_type": "display_data"
    }
   ],
   "source": [
    "display(Y1.conclusion.rhs.deduceInReals({epsInDomain, lInDomain}).proven({epsInDomain, lInDomain}))\n",
    "display(Y2.conclusion.rhs.deduceInReals({epsInDomain, lInDomain}).proven({epsInDomain, lInDomain}))"
   ]
  },
  {
   "cell_type": "code",
   "execution_count": 26,
   "metadata": {
    "collapsed": false
   },
   "outputs": [
    {
     "data": {
      "text/latex": [
       "$\\alpha_{l} \\in \\mathbb{C}$"
      ],
      "text/plain": [
       "$\\alpha_{l} \\in \\mathbb{C}$"
      ]
     },
     "metadata": {},
     "output_type": "display_data"
    },
    {
     "data": {
      "text/latex": [
       "$\\left|\\alpha_{l}\\right| \\in \\mathbb{R}$"
      ],
      "text/plain": [
       "$\\left|\\alpha_{l}\\right| \\in \\mathbb{R}$"
      ]
     },
     "metadata": {},
     "output_type": "display_data"
    },
    {
     "data": {
      "text/latex": [
       "$\\left|\\alpha_{l}\\right| \\geq 0$"
      ],
      "text/plain": [
       "$\\left|\\alpha_{l}\\right| \\geq 0$"
      ]
     },
     "metadata": {},
     "output_type": "display_data"
    }
   ],
   "source": [
    "display(all_alpha_l_in_complexes.specialize())\n",
    "abs_alpha_l_real_and_nonneg = all_abs_alpha_l_nonneg.specialize().decompose()\n",
    "display(abs_alpha_l_real_and_nonneg[0])\n",
    "display(abs_alpha_l_real_and_nonneg[1])"
   ]
  },
  {
   "cell_type": "code",
   "execution_count": 27,
   "metadata": {
    "collapsed": false
   },
   "outputs": [
    {
     "data": {
      "text/latex": [
       "$\\left(\\sum_{l=\\left(-2^{t - 1}\\right) + 1}^{-\\left(\\varepsilon + 1\\right)} \\left|\\alpha_{l}\\right|^{2}\\right) \\in \\mathbb{R}$"
      ],
      "text/plain": [
       "$\\left(\\sum_{l=\\left(-2^{t - 1}\\right) + 1}^{-\\left(\\varepsilon + 1\\right)} \\left|\\alpha_{l}\\right|^{2}\\right) \\in \\mathbb{R}$"
      ]
     },
     "execution_count": 27,
     "metadata": {},
     "output_type": "execute_result"
    }
   ],
   "source": [
    "fail_sum_special.rhs.operands[0].deduceInReals({epsInDomain, lInDomain}).proven({epsInDomain, lInDomain})"
   ]
  },
  {
   "cell_type": "code",
   "execution_count": 28,
   "metadata": {
    "collapsed": false
   },
   "outputs": [
    {
     "data": {
      "text/latex": [
       "$\\left(\\sum_{l=\\varepsilon + 1}^{2^{t - 1}} \\left|\\alpha_{l}\\right|^{2}\\right) \\in \\mathbb{R}$"
      ],
      "text/plain": [
       "$\\left(\\sum_{l=\\varepsilon + 1}^{2^{t - 1}} \\left|\\alpha_{l}\\right|^{2}\\right) \\in \\mathbb{R}$"
      ]
     },
     "execution_count": 28,
     "metadata": {},
     "output_type": "execute_result"
    }
   ],
   "source": [
    "fail_sum_special.rhs.operands[1].deduceInReals({epsInDomain, lInDomain}).proven({epsInDomain, lInDomain})"
   ]
  },
  {
   "cell_type": "code",
   "execution_count": 29,
   "metadata": {
    "collapsed": false,
    "scrolled": true
   },
   "outputs": [
    {
     "data": {
      "text/latex": [
       "$\\left(\\left(\\left(\\sum_{l=\\left(-2^{t - 1}\\right) + 1}^{-\\left(\\varepsilon + 1\\right)} \\left|\\alpha_{l}\\right|^{2}\\right) \\leq \\left(\\sum_{l=\\left(-2^{t - 1}\\right) + 1}^{-\\left(\\varepsilon + 1\\right)} \\frac{1}{4 \\cdot \\left(l - \\left(2^{t} \\cdot \\delta\\right)\\right)^{2}}\\right)\\right) \\land \\left(\\left(\\sum_{l=\\varepsilon + 1}^{2^{t - 1}} \\left|\\alpha_{l}\\right|^{2}\\right) \\leq \\left(\\sum_{l=\\varepsilon + 1}^{2^{t - 1}} \\frac{1}{4 \\cdot \\left(l - \\left(2^{t} \\cdot \\delta\\right)\\right)^{2}}\\right)\\right)\\right) \\Rightarrow \\left(\\left(\\left(\\sum_{l=\\left(-2^{t - 1}\\right) + 1}^{-\\left(\\varepsilon + 1\\right)} \\left|\\alpha_{l}\\right|^{2}\\right) + \\left(\\sum_{l=\\varepsilon + 1}^{2^{t - 1}} \\left|\\alpha_{l}\\right|^{2}\\right)\\right) \\leq \\left(\\left(\\sum_{l=\\left(-2^{t - 1}\\right) + 1}^{-\\left(\\varepsilon + 1\\right)} \\frac{1}{4 \\cdot \\left(l - \\left(2^{t} \\cdot \\delta\\right)\\right)^{2}}\\right) + \\left(\\sum_{l=\\varepsilon + 1}^{2^{t - 1}} \\frac{1}{4 \\cdot \\left(l - \\left(2^{t} \\cdot \\delta\\right)\\right)^{2}}\\right)\\right)\\right)$"
      ],
      "text/plain": [
       "$\\left(\\left(\\left(\\sum_{l=\\left(-2^{t - 1}\\right) + 1}^{-\\left(\\varepsilon + 1\\right)} \\left|\\alpha_{l}\\right|^{2}\\right) \\leq \\left(\\sum_{l=\\left(-2^{t - 1}\\right) + 1}^{-\\left(\\varepsilon + 1\\right)} \\frac{1}{4 \\cdot \\left(l - \\left(2^{t} \\cdot \\delta\\right)\\right)^{2}}\\right)\\right) \\land \\left(\\left(\\sum_{l=\\varepsilon + 1}^{2^{t - 1}} \\left|\\alpha_{l}\\right|^{2}\\right) \\leq \\left(\\sum_{l=\\varepsilon + 1}^{2^{t - 1}} \\frac{1}{4 \\cdot \\left(l - \\left(2^{t} \\cdot \\delta\\right)\\right)^{2}}\\right)\\right)\\right) \\Rightarrow \\left(\\left(\\left(\\sum_{l=\\left(-2^{t - 1}\\right) + 1}^{-\\left(\\varepsilon + 1\\right)} \\left|\\alpha_{l}\\right|^{2}\\right) + \\left(\\sum_{l=\\varepsilon + 1}^{2^{t - 1}} \\left|\\alpha_{l}\\right|^{2}\\right)\\right) \\leq \\left(\\left(\\sum_{l=\\left(-2^{t - 1}\\right) + 1}^{-\\left(\\varepsilon + 1\\right)} \\frac{1}{4 \\cdot \\left(l - \\left(2^{t} \\cdot \\delta\\right)\\right)^{2}}\\right) + \\left(\\sum_{l=\\varepsilon + 1}^{2^{t - 1}} \\frac{1}{4 \\cdot \\left(l - \\left(2^{t} \\cdot \\delta\\right)\\right)^{2}}\\right)\\right)\\right)$"
      ]
     },
     "execution_count": 29,
     "metadata": {},
     "output_type": "execute_result"
    }
   ],
   "source": [
    "Y3 = sumIneq2.specialize({a:fail_sum_special.rhs.operands[0], b:fail_sum_special.rhs.operands[1], c:Y1.conclusion.rhs, d:Y2.conclusion.rhs}).proven({epsInDomain})\n",
    "Y3"
   ]
  },
  {
   "cell_type": "code",
   "execution_count": 30,
   "metadata": {
    "collapsed": false
   },
   "outputs": [
    {
     "data": {
      "text/latex": [
       "$\\left(\\left(\\sum_{l=\\left(-2^{t - 1}\\right) + 1}^{-\\left(\\varepsilon + 1\\right)} \\left|\\alpha_{l}\\right|^{2}\\right) \\leq \\left(\\sum_{l=\\left(-2^{t - 1}\\right) + 1}^{-\\left(\\varepsilon + 1\\right)} \\frac{1}{4 \\cdot \\left(l - \\left(2^{t} \\cdot \\delta\\right)\\right)^{2}}\\right)\\right) \\land \\left(\\left(\\sum_{l=\\varepsilon + 1}^{2^{t - 1}} \\left|\\alpha_{l}\\right|^{2}\\right) \\leq \\left(\\sum_{l=\\varepsilon + 1}^{2^{t - 1}} \\frac{1}{4 \\cdot \\left(l - \\left(2^{t} \\cdot \\delta\\right)\\right)^{2}}\\right)\\right)$"
      ],
      "text/plain": [
       "$\\left(\\left(\\sum_{l=\\left(-2^{t - 1}\\right) + 1}^{-\\left(\\varepsilon + 1\\right)} \\left|\\alpha_{l}\\right|^{2}\\right) \\leq \\left(\\sum_{l=\\left(-2^{t - 1}\\right) + 1}^{-\\left(\\varepsilon + 1\\right)} \\frac{1}{4 \\cdot \\left(l - \\left(2^{t} \\cdot \\delta\\right)\\right)^{2}}\\right)\\right) \\land \\left(\\left(\\sum_{l=\\varepsilon + 1}^{2^{t - 1}} \\left|\\alpha_{l}\\right|^{2}\\right) \\leq \\left(\\sum_{l=\\varepsilon + 1}^{2^{t - 1}} \\frac{1}{4 \\cdot \\left(l - \\left(2^{t} \\cdot \\delta\\right)\\right)^{2}}\\right)\\right)$"
      ]
     },
     "metadata": {},
     "output_type": "display_data"
    },
    {
     "data": {
      "text/latex": [
       "$\\left(\\left(\\sum_{l=\\left(-2^{t - 1}\\right) + 1}^{-\\left(\\varepsilon + 1\\right)} \\left|\\alpha_{l}\\right|^{2}\\right) + \\left(\\sum_{l=\\varepsilon + 1}^{2^{t - 1}} \\left|\\alpha_{l}\\right|^{2}\\right)\\right) \\leq \\left(\\left(\\sum_{l=\\left(-2^{t - 1}\\right) + 1}^{-\\left(\\varepsilon + 1\\right)} \\frac{1}{4 \\cdot \\left(l - \\left(2^{t} \\cdot \\delta\\right)\\right)^{2}}\\right) + \\left(\\sum_{l=\\varepsilon + 1}^{2^{t - 1}} \\frac{1}{4 \\cdot \\left(l - \\left(2^{t} \\cdot \\delta\\right)\\right)^{2}}\\right)\\right)$"
      ],
      "text/plain": [
       "$\\left(\\left(\\sum_{l=\\left(-2^{t - 1}\\right) + 1}^{-\\left(\\varepsilon + 1\\right)} \\left|\\alpha_{l}\\right|^{2}\\right) + \\left(\\sum_{l=\\varepsilon + 1}^{2^{t - 1}} \\left|\\alpha_{l}\\right|^{2}\\right)\\right) \\leq \\left(\\left(\\sum_{l=\\left(-2^{t - 1}\\right) + 1}^{-\\left(\\varepsilon + 1\\right)} \\frac{1}{4 \\cdot \\left(l - \\left(2^{t} \\cdot \\delta\\right)\\right)^{2}}\\right) + \\left(\\sum_{l=\\varepsilon + 1}^{2^{t - 1}} \\frac{1}{4 \\cdot \\left(l - \\left(2^{t} \\cdot \\delta\\right)\\right)^{2}}\\right)\\right)$"
      ]
     },
     "metadata": {},
     "output_type": "display_data"
    }
   ],
   "source": [
    "Q = Y3.hypothesis.concludeViaComposition().proven({epsInDomain})\n",
    "display(Q)\n",
    "display(Y3.conclusion.proven({epsInDomain}))"
   ]
  },
  {
   "cell_type": "code",
   "execution_count": 31,
   "metadata": {
    "collapsed": false
   },
   "outputs": [
    {
     "data": {
      "text/latex": [
       "$P_{\\rm fail}\\left(\\varepsilon\\right) \\leq \\left(\\left(\\sum_{l=\\left(-2^{t - 1}\\right) + 1}^{-\\left(\\varepsilon + 1\\right)} \\frac{1}{4 \\cdot \\left(l - \\left(2^{t} \\cdot \\delta\\right)\\right)^{2}}\\right) + \\left(\\sum_{l=\\varepsilon + 1}^{2^{t - 1}} \\frac{1}{4 \\cdot \\left(l - \\left(2^{t} \\cdot \\delta\\right)\\right)^{2}}\\right)\\right)$"
      ],
      "text/plain": [
       "$P_{\\rm fail}\\left(\\varepsilon\\right) \\leq \\left(\\left(\\sum_{l=\\left(-2^{t - 1}\\right) + 1}^{-\\left(\\varepsilon + 1\\right)} \\frac{1}{4 \\cdot \\left(l - \\left(2^{t} \\cdot \\delta\\right)\\right)^{2}}\\right) + \\left(\\sum_{l=\\varepsilon + 1}^{2^{t - 1}} \\frac{1}{4 \\cdot \\left(l - \\left(2^{t} \\cdot \\delta\\right)\\right)^{2}}\\right)\\right)$"
      ]
     },
     "execution_count": 31,
     "metadata": {},
     "output_type": "execute_result"
    }
   ],
   "source": [
    "X1 = Relation(fail_sum_special).update(Y3.conclusion).proven({epsInDomain})\n",
    "X1"
   ]
  },
  {
   "cell_type": "code",
   "execution_count": 32,
   "metadata": {
    "collapsed": false
   },
   "outputs": [
    {
     "data": {
      "text/latex": [
       "$\\frac{1}{4 \\cdot \\left(l - \\left(2^{t} \\cdot \\delta\\right)\\right)^{2}}$"
      ],
      "text/plain": [
       "$\\frac{1}{4 \\cdot \\left(l - \\left(2^{t} \\cdot \\delta\\right)\\right)^{2}}$"
      ]
     },
     "execution_count": 32,
     "metadata": {},
     "output_type": "execute_result"
    }
   ],
   "source": [
    "X1_summand = X1.rhs.operands[0].summand\n",
    "X1_summand"
   ]
  },
  {
   "cell_type": "code",
   "execution_count": 33,
   "metadata": {
    "collapsed": false
   },
   "outputs": [
    {
     "data": {
      "text/latex": [
       "$\\frac{1}{4 \\cdot \\left(l - \\left(2^{t} \\cdot \\delta\\right)\\right)^{2}} = \\left(\\frac{1}{4} \\cdot \\frac{1}{\\left(l - \\left(2^{t} \\cdot \\delta\\right)\\right)^{2}}\\right)$"
      ],
      "text/plain": [
       "$\\frac{1}{4 \\cdot \\left(l - \\left(2^{t} \\cdot \\delta\\right)\\right)^{2}} = \\left(\\frac{1}{4} \\cdot \\frac{1}{\\left(l - \\left(2^{t} \\cdot \\delta\\right)\\right)^{2}}\\right)$"
      ]
     },
     "execution_count": 33,
     "metadata": {},
     "output_type": "execute_result"
    }
   ],
   "source": [
    "Y4 = X1_summand.factor(Fraction(one,four),'left',assumptions={epsInDomain, In(l, posDomain)}).proven({epsInDomain, In(l, posDomain)})\n",
    "X1_summand.factor(Fraction(one,four),'left',assumptions={epsInDomain, In(l, negDomain)}).proven({epsInDomain, In(l, negDomain)})\n",
    "Y4"
   ]
  },
  {
   "cell_type": "code",
   "execution_count": 34,
   "metadata": {
    "collapsed": false
   },
   "outputs": [
    {
     "data": {
      "text/latex": [
       "$\\left(\\sum_{l=\\left(-2^{t - 1}\\right) + 1}^{-\\left(\\varepsilon + 1\\right)} \\frac{1}{4 \\cdot \\left(l - \\left(2^{t} \\cdot \\delta\\right)\\right)^{2}}\\right) + \\left(\\sum_{l=\\varepsilon + 1}^{2^{t - 1}} \\frac{1}{4 \\cdot \\left(l - \\left(2^{t} \\cdot \\delta\\right)\\right)^{2}}\\right)$"
      ],
      "text/plain": [
       "$\\left(\\sum_{l=\\left(-2^{t - 1}\\right) + 1}^{-\\left(\\varepsilon + 1\\right)} \\frac{1}{4 \\cdot \\left(l - \\left(2^{t} \\cdot \\delta\\right)\\right)^{2}}\\right) + \\left(\\sum_{l=\\varepsilon + 1}^{2^{t - 1}} \\frac{1}{4 \\cdot \\left(l - \\left(2^{t} \\cdot \\delta\\right)\\right)^{2}}\\right)$"
      ]
     },
     "execution_count": 34,
     "metadata": {},
     "output_type": "execute_result"
    }
   ],
   "source": [
    "X1.rhs"
   ]
  },
  {
   "cell_type": "code",
   "execution_count": 35,
   "metadata": {
    "collapsed": false
   },
   "outputs": [
    {
     "data": {
      "text/latex": [
       "$\\forall_{l \\in \\{\\left(\\left(-2^{t - 1}\\right) + 1\\right)\\ldots \\left(-\\left(\\varepsilon + 1\\right)\\right)\\}} \\left(\\frac{1}{4 \\cdot \\left(l - \\left(2^{t} \\cdot \\delta\\right)\\right)^{2}} = \\left(\\frac{1}{4} \\cdot \\frac{1}{\\left(l - \\left(2^{t} \\cdot \\delta\\right)\\right)^{2}}\\right)\\right)$"
      ],
      "text/plain": [
       "$\\forall_{l \\in \\{\\left(\\left(-2^{t - 1}\\right) + 1\\right)\\ldots \\left(-\\left(\\varepsilon + 1\\right)\\right)\\}} \\left(\\frac{1}{4 \\cdot \\left(l - \\left(2^{t} \\cdot \\delta\\right)\\right)^{2}} = \\left(\\frac{1}{4} \\cdot \\frac{1}{\\left(l - \\left(2^{t} \\cdot \\delta\\right)\\right)^{2}}\\right)\\right)$"
      ]
     },
     "execution_count": 35,
     "metadata": {},
     "output_type": "execute_result"
    }
   ],
   "source": [
    "Y4_sum1equivForAllInstances = Y4.generalize(l,negDomain)\n",
    "Y4_sum1equivForAllInstances.proven({epsInDomain})"
   ]
  },
  {
   "cell_type": "code",
   "execution_count": 36,
   "metadata": {
    "collapsed": false
   },
   "outputs": [
    {
     "data": {
      "text/latex": [
       "$\\forall_{l \\in \\{\\left(\\varepsilon + 1\\right)\\ldots 2^{t - 1}\\}} \\left(\\frac{1}{4 \\cdot \\left(l - \\left(2^{t} \\cdot \\delta\\right)\\right)^{2}} = \\left(\\frac{1}{4} \\cdot \\frac{1}{\\left(l - \\left(2^{t} \\cdot \\delta\\right)\\right)^{2}}\\right)\\right)$"
      ],
      "text/plain": [
       "$\\forall_{l \\in \\{\\left(\\varepsilon + 1\\right)\\ldots 2^{t - 1}\\}} \\left(\\frac{1}{4 \\cdot \\left(l - \\left(2^{t} \\cdot \\delta\\right)\\right)^{2}} = \\left(\\frac{1}{4} \\cdot \\frac{1}{\\left(l - \\left(2^{t} \\cdot \\delta\\right)\\right)^{2}}\\right)\\right)$"
      ]
     },
     "execution_count": 36,
     "metadata": {},
     "output_type": "execute_result"
    }
   ],
   "source": [
    "Y4_sum2equivForAllInstances = Y4.generalize(l,posDomain)\n",
    "Y4_sum2equivForAllInstances.proven({epsInDomain})"
   ]
  },
  {
   "cell_type": "code",
   "execution_count": 37,
   "metadata": {
    "collapsed": false
   },
   "outputs": [
    {
     "data": {
      "text/latex": [
       "$\\left(\\sum_{l=\\left(-2^{t - 1}\\right) + 1}^{-\\left(\\varepsilon + 1\\right)} \\frac{1}{4 \\cdot \\left(l - \\left(2^{t} \\cdot \\delta\\right)\\right)^{2}}\\right) = \\left(\\sum_{l=\\left(-2^{t - 1}\\right) + 1}^{-\\left(\\varepsilon + 1\\right)} \\left(\\frac{1}{4} \\cdot \\frac{1}{\\left(l - \\left(2^{t} \\cdot \\delta\\right)\\right)^{2}}\\right)\\right)$"
      ],
      "text/plain": [
       "$\\left(\\sum_{l=\\left(-2^{t - 1}\\right) + 1}^{-\\left(\\varepsilon + 1\\right)} \\frac{1}{4 \\cdot \\left(l - \\left(2^{t} \\cdot \\delta\\right)\\right)^{2}}\\right) = \\left(\\sum_{l=\\left(-2^{t - 1}\\right) + 1}^{-\\left(\\varepsilon + 1\\right)} \\left(\\frac{1}{4} \\cdot \\frac{1}{\\left(l - \\left(2^{t} \\cdot \\delta\\right)\\right)^{2}}\\right)\\right)$"
      ]
     },
     "execution_count": 37,
     "metadata": {},
     "output_type": "execute_result"
    }
   ],
   "source": [
    "Y5_sum1 = X1.rhs.operands[0].instanceSubstitution(Y4_sum1equivForAllInstances)\n",
    "Y5_sum1.proven({epsInDomain})"
   ]
  },
  {
   "cell_type": "code",
   "execution_count": 38,
   "metadata": {
    "collapsed": false
   },
   "outputs": [
    {
     "data": {
      "text/latex": [
       "$\\left(\\sum_{l=\\varepsilon + 1}^{2^{t - 1}} \\frac{1}{4 \\cdot \\left(l - \\left(2^{t} \\cdot \\delta\\right)\\right)^{2}}\\right) = \\left(\\sum_{l=\\varepsilon + 1}^{2^{t - 1}} \\left(\\frac{1}{4} \\cdot \\frac{1}{\\left(l - \\left(2^{t} \\cdot \\delta\\right)\\right)^{2}}\\right)\\right)$"
      ],
      "text/plain": [
       "$\\left(\\sum_{l=\\varepsilon + 1}^{2^{t - 1}} \\frac{1}{4 \\cdot \\left(l - \\left(2^{t} \\cdot \\delta\\right)\\right)^{2}}\\right) = \\left(\\sum_{l=\\varepsilon + 1}^{2^{t - 1}} \\left(\\frac{1}{4} \\cdot \\frac{1}{\\left(l - \\left(2^{t} \\cdot \\delta\\right)\\right)^{2}}\\right)\\right)$"
      ]
     },
     "execution_count": 38,
     "metadata": {},
     "output_type": "execute_result"
    }
   ],
   "source": [
    "Y5_sum2 = X1.rhs.operands[1].instanceSubstitution(Y4_sum2equivForAllInstances)\n",
    "Y5_sum2.proven({epsInDomain})"
   ]
  },
  {
   "cell_type": "code",
   "execution_count": 39,
   "metadata": {
    "collapsed": false
   },
   "outputs": [
    {
     "data": {
      "text/latex": [
       "$P_{\\rm fail}\\left(\\varepsilon\\right) \\leq \\left(\\left(\\sum_{l=\\left(-2^{t - 1}\\right) + 1}^{-\\left(\\varepsilon + 1\\right)} \\left(\\frac{1}{4} \\cdot \\frac{1}{\\left(l - \\left(2^{t} \\cdot \\delta\\right)\\right)^{2}}\\right)\\right) + \\left(\\sum_{l=\\varepsilon + 1}^{2^{t - 1}} \\left(\\frac{1}{4} \\cdot \\frac{1}{\\left(l - \\left(2^{t} \\cdot \\delta\\right)\\right)^{2}}\\right)\\right)\\right)$"
      ],
      "text/plain": [
       "$P_{\\rm fail}\\left(\\varepsilon\\right) \\leq \\left(\\left(\\sum_{l=\\left(-2^{t - 1}\\right) + 1}^{-\\left(\\varepsilon + 1\\right)} \\left(\\frac{1}{4} \\cdot \\frac{1}{\\left(l - \\left(2^{t} \\cdot \\delta\\right)\\right)^{2}}\\right)\\right) + \\left(\\sum_{l=\\varepsilon + 1}^{2^{t - 1}} \\left(\\frac{1}{4} \\cdot \\frac{1}{\\left(l - \\left(2^{t} \\cdot \\delta\\right)\\right)^{2}}\\right)\\right)\\right)$"
      ]
     },
     "execution_count": 39,
     "metadata": {},
     "output_type": "execute_result"
    }
   ],
   "source": [
    "X2 = Y5_sum1.rhsSubstitute(X1)\n",
    "X3 = Y5_sum2.rhsSubstitute(X2)\n",
    "X3.proven({epsInDomain})"
   ]
  },
  {
   "cell_type": "code",
   "execution_count": 40,
   "metadata": {
    "collapsed": false
   },
   "outputs": [
    {
     "data": {
      "text/latex": [
       "$\\forall_{x \\in \\mathbb{R}~|~0 \\leq x, x \\leq 1} \\left[\\forall_{a \\in \\mathbb{R}~|~a \\geq 0} \\left[\\forall_{l \\in \\mathbb{Z}~|~l \\leq 0} \\left(\\left(a \\cdot \\frac{1}{\\left(l - x\\right)^{2}}\\right) \\leq \\left(a \\cdot \\frac{1}{l^{2}}\\right)\\right)\\right]\\right]$"
      ],
      "text/plain": [
       "$\\forall_{x \\in \\mathbb{R}~|~0 \\leq x, x \\leq 1} \\left[\\forall_{a \\in \\mathbb{R}~|~a \\geq 0} \\left[\\forall_{l \\in \\mathbb{Z}~|~l \\leq 0} \\left(\\left(a \\cdot \\frac{1}{\\left(l - x\\right)^{2}}\\right) \\leq \\left(a \\cdot \\frac{1}{l^{2}}\\right)\\right)\\right]\\right]$"
      ]
     },
     "execution_count": 40,
     "metadata": {},
     "output_type": "execute_result"
    }
   ],
   "source": [
    "ineqThm7a"
   ]
  },
  {
   "cell_type": "code",
   "execution_count": 41,
   "metadata": {
    "collapsed": false
   },
   "outputs": [
    {
     "data": {
      "text/latex": [
       "$\\frac{1}{4} \\in \\mathbb{R}$"
      ],
      "text/plain": [
       "$\\frac{1}{4} \\in \\mathbb{R}$"
      ]
     },
     "metadata": {},
     "output_type": "display_data"
    },
    {
     "data": {
      "text/latex": [
       "$\\frac{1}{4} \\geq 0$"
      ],
      "text/plain": [
       "$\\frac{1}{4} \\geq 0$"
      ]
     },
     "metadata": {},
     "output_type": "display_data"
    }
   ],
   "source": [
    "display(Fraction(one,four).deduceInReals().proven())\n",
    "display(deducePositive(Fraction(one, four)).deriveRelaxed().proven())"
   ]
  },
  {
   "cell_type": "code",
   "execution_count": 42,
   "metadata": {
    "collapsed": false
   },
   "outputs": [
    {
     "data": {
      "text/latex": [
       "$0 \\leq \\left(2^{t} \\cdot \\delta\\right)$"
      ],
      "text/plain": [
       "$0 \\leq \\left(2^{t} \\cdot \\delta\\right)$"
      ]
     },
     "metadata": {},
     "output_type": "display_data"
    },
    {
     "data": {
      "text/latex": [
       "$\\left(2^{t} \\cdot \\delta\\right) \\leq 1$"
      ],
      "text/plain": [
       "$\\left(2^{t} \\cdot \\delta\\right) \\leq 1$"
      ]
     },
     "metadata": {},
     "output_type": "display_data"
    }
   ],
   "source": [
    "display(scaledDeltaInInterval.domain.deduceMemberLowerBound(scaledDeltaInInterval.element).proven())\n",
    "display(scaledDeltaInInterval.domain.deduceMemberUpperBound(scaledDeltaInInterval.element).deriveRelaxed().proven())"
   ]
  },
  {
   "cell_type": "code",
   "execution_count": 43,
   "metadata": {
    "collapsed": false
   },
   "outputs": [
    {
     "data": {
      "text/latex": [
       "$\\forall_{x \\in \\mathbb{R}~|~0 \\leq x, x \\leq 1} \\left[\\forall_{a \\in \\mathbb{R}~|~a \\geq 0} \\left[\\forall_{l \\in \\mathbb{Z}~|~l \\leq 0} \\left(\\left(a \\cdot \\frac{1}{\\left(l - x\\right)^{2}}\\right) \\leq \\left(a \\cdot \\frac{1}{l^{2}}\\right)\\right)\\right]\\right]$"
      ],
      "text/plain": [
       "$\\forall_{x \\in \\mathbb{R}~|~0 \\leq x, x \\leq 1} \\left[\\forall_{a \\in \\mathbb{R}~|~a \\geq 0} \\left[\\forall_{l \\in \\mathbb{Z}~|~l \\leq 0} \\left(\\left(a \\cdot \\frac{1}{\\left(l - x\\right)^{2}}\\right) \\leq \\left(a \\cdot \\frac{1}{l^{2}}\\right)\\right)\\right]\\right]$"
      ]
     },
     "execution_count": 43,
     "metadata": {},
     "output_type": "execute_result"
    }
   ],
   "source": [
    "ineqThm7a"
   ]
  },
  {
   "cell_type": "code",
   "execution_count": 44,
   "metadata": {
    "collapsed": false
   },
   "outputs": [
    {
     "data": {
      "text/latex": [
       "$\\forall_{k \\in \\{\\left(\\left(-2^{t - 1}\\right) + 1\\right)\\ldots \\left(-\\left(\\varepsilon + 1\\right)\\right)\\}} \\left(\\left(\\frac{1}{4} \\cdot \\frac{1}{\\left(k - \\left(2^{t} \\cdot \\delta\\right)\\right)^{2}}\\right) \\leq \\left(\\frac{1}{4} \\cdot \\frac{1}{k^{2}}\\right)\\right)$"
      ],
      "text/plain": [
       "$\\forall_{k \\in \\{\\left(\\left(-2^{t - 1}\\right) + 1\\right)\\ldots \\left(-\\left(\\varepsilon + 1\\right)\\right)\\}} \\left(\\left(\\frac{1}{4} \\cdot \\frac{1}{\\left(k - \\left(2^{t} \\cdot \\delta\\right)\\right)^{2}}\\right) \\leq \\left(\\frac{1}{4} \\cdot \\frac{1}{k^{2}}\\right)\\right)$"
      ]
     },
     "execution_count": 44,
     "metadata": {},
     "output_type": "execute_result"
    }
   ],
   "source": [
    "Y6 = ineqThm7a.specialize({x:Multiply(Exponentiate(two,t_), delta_)}).specialize({a:Fraction(one,four)})\n",
    "Y6.specialize().generalize(l, domain=negDomain).relabel({l:k}).proven({epsInDomain})"
   ]
  },
  {
   "cell_type": "code",
   "execution_count": 45,
   "metadata": {
    "collapsed": false
   },
   "outputs": [
    {
     "data": {
      "text/latex": [
       "$\\forall_{x \\in \\mathbb{R}~|~0 \\leq x, x \\leq 1} \\left[\\forall_{a \\in \\mathbb{R}~|~a \\geq 0} \\left[\\forall_{l \\in \\mathbb{Z}~|~l > 0} \\left(\\left(a \\cdot \\frac{1}{\\left(l - x\\right)^{2}}\\right) \\leq \\left(a \\cdot \\frac{1}{\\left(l - 1\\right)^{2}}\\right)\\right)\\right]\\right]$"
      ],
      "text/plain": [
       "$\\forall_{x \\in \\mathbb{R}~|~0 \\leq x, x \\leq 1} \\left[\\forall_{a \\in \\mathbb{R}~|~a \\geq 0} \\left[\\forall_{l \\in \\mathbb{Z}~|~l > 0} \\left(\\left(a \\cdot \\frac{1}{\\left(l - x\\right)^{2}}\\right) \\leq \\left(a \\cdot \\frac{1}{\\left(l - 1\\right)^{2}}\\right)\\right)\\right]\\right]$"
      ]
     },
     "execution_count": 45,
     "metadata": {},
     "output_type": "execute_result"
    }
   ],
   "source": [
    "ineqThm8a"
   ]
  },
  {
   "cell_type": "code",
   "execution_count": 46,
   "metadata": {
    "collapsed": false
   },
   "outputs": [
    {
     "data": {
      "text/latex": [
       "$\\forall_{k \\in \\{\\left(\\varepsilon + 1\\right)\\ldots 2^{t - 1}\\}} \\left(\\left(\\frac{1}{4} \\cdot \\frac{1}{\\left(k - \\left(2^{t} \\cdot \\delta\\right)\\right)^{2}}\\right) \\leq \\left(\\frac{1}{4} \\cdot \\frac{1}{\\left(k - 1\\right)^{2}}\\right)\\right)$"
      ],
      "text/plain": [
       "$\\forall_{k \\in \\{\\left(\\varepsilon + 1\\right)\\ldots 2^{t - 1}\\}} \\left(\\left(\\frac{1}{4} \\cdot \\frac{1}{\\left(k - \\left(2^{t} \\cdot \\delta\\right)\\right)^{2}}\\right) \\leq \\left(\\frac{1}{4} \\cdot \\frac{1}{\\left(k - 1\\right)^{2}}\\right)\\right)$"
      ]
     },
     "execution_count": 46,
     "metadata": {},
     "output_type": "execute_result"
    }
   ],
   "source": [
    "Y7 = ineqThm8a.specialize({x:Multiply(Exponentiate(two,t_), delta_)}).specialize({a:Fraction(one,four)}).proven()\n",
    "Y7.specialize().generalize(l, domain=posDomain).relabel({l:k}).proven({epsInDomain})"
   ]
  },
  {
   "cell_type": "code",
   "execution_count": 47,
   "metadata": {
    "collapsed": false
   },
   "outputs": [
    {
     "data": {
      "text/latex": [
       "$\\forall_{a, b} \\left[\\forall_{m, n \\in \\mathbb{Z}} \\left(\\left[\\forall_{k \\in \\{m\\ldots n\\}} \\left(a\\left(k\\right) \\leq b\\left(k\\right)\\right)\\right] \\Rightarrow \\left(\\left(\\sum_{l=m}^{n} a\\left(l\\right)\\right) \\leq \\left(\\sum_{l=m}^{n} b\\left(l\\right)\\right)\\right)\\right)\\right]$"
      ],
      "text/plain": [
       "$\\forall_{a, b} \\left[\\forall_{m, n \\in \\mathbb{Z}} \\left(\\left[\\forall_{k \\in \\{m\\ldots n\\}} \\left(a\\left(k\\right) \\leq b\\left(k\\right)\\right)\\right] \\Rightarrow \\left(\\left(\\sum_{l=m}^{n} a\\left(l\\right)\\right) \\leq \\left(\\sum_{l=m}^{n} b\\left(l\\right)\\right)\\right)\\right)\\right]$"
      ]
     },
     "execution_count": 47,
     "metadata": {},
     "output_type": "execute_result"
    }
   ],
   "source": [
    "sumIneq1"
   ]
  },
  {
   "cell_type": "code",
   "execution_count": 48,
   "metadata": {
    "collapsed": false
   },
   "outputs": [
    {
     "data": {
      "text/latex": [
       "$\\left[\\forall_{k \\in \\{\\left(\\left(-2^{t - 1}\\right) + 1\\right)\\ldots \\left(-\\left(\\varepsilon + 1\\right)\\right)\\}} \\left(\\left(\\frac{1}{4} \\cdot \\frac{1}{\\left(k - \\left(2^{t} \\cdot \\delta\\right)\\right)^{2}}\\right) \\leq \\left(\\frac{1}{4} \\cdot \\frac{1}{k^{2}}\\right)\\right)\\right] \\Rightarrow \\left(\\left(\\sum_{l=\\left(-2^{t - 1}\\right) + 1}^{-\\left(\\varepsilon + 1\\right)} \\left(\\frac{1}{4} \\cdot \\frac{1}{\\left(l - \\left(2^{t} \\cdot \\delta\\right)\\right)^{2}}\\right)\\right) \\leq \\left(\\sum_{l=\\left(-2^{t - 1}\\right) + 1}^{-\\left(\\varepsilon + 1\\right)} \\left(\\frac{1}{4} \\cdot \\frac{1}{l^{2}}\\right)\\right)\\right)$"
      ],
      "text/plain": [
       "$\\left[\\forall_{k \\in \\{\\left(\\left(-2^{t - 1}\\right) + 1\\right)\\ldots \\left(-\\left(\\varepsilon + 1\\right)\\right)\\}} \\left(\\left(\\frac{1}{4} \\cdot \\frac{1}{\\left(k - \\left(2^{t} \\cdot \\delta\\right)\\right)^{2}}\\right) \\leq \\left(\\frac{1}{4} \\cdot \\frac{1}{k^{2}}\\right)\\right)\\right] \\Rightarrow \\left(\\left(\\sum_{l=\\left(-2^{t - 1}\\right) + 1}^{-\\left(\\varepsilon + 1\\right)} \\left(\\frac{1}{4} \\cdot \\frac{1}{\\left(l - \\left(2^{t} \\cdot \\delta\\right)\\right)^{2}}\\right)\\right) \\leq \\left(\\sum_{l=\\left(-2^{t - 1}\\right) + 1}^{-\\left(\\varepsilon + 1\\right)} \\left(\\frac{1}{4} \\cdot \\frac{1}{l^{2}}\\right)\\right)\\right)$"
      ]
     },
     "execution_count": 48,
     "metadata": {},
     "output_type": "execute_result"
    }
   ],
   "source": [
    "Y8 = sumIneq1.specialize({Operation(a,l):Y6.specialize().lhs, Operation(b,l):Y6.specialize().rhs}).specialize({m:negDomain.lowerBound, n:negDomain.upperBound})\n",
    "Y8.proven({epsInDomain})"
   ]
  },
  {
   "cell_type": "code",
   "execution_count": 49,
   "metadata": {
    "collapsed": false
   },
   "outputs": [
    {
     "data": {
      "text/latex": [
       "$\\left[\\forall_{k \\in \\{\\left(\\varepsilon + 1\\right)\\ldots 2^{t - 1}\\}} \\left(\\left(\\frac{1}{4} \\cdot \\frac{1}{\\left(k - \\left(2^{t} \\cdot \\delta\\right)\\right)^{2}}\\right) \\leq \\left(\\frac{1}{4} \\cdot \\frac{1}{\\left(k - 1\\right)^{2}}\\right)\\right)\\right] \\Rightarrow \\left(\\left(\\sum_{l=\\varepsilon + 1}^{2^{t - 1}} \\left(\\frac{1}{4} \\cdot \\frac{1}{\\left(l - \\left(2^{t} \\cdot \\delta\\right)\\right)^{2}}\\right)\\right) \\leq \\left(\\sum_{l=\\varepsilon + 1}^{2^{t - 1}} \\left(\\frac{1}{4} \\cdot \\frac{1}{\\left(l - 1\\right)^{2}}\\right)\\right)\\right)$"
      ],
      "text/plain": [
       "$\\left[\\forall_{k \\in \\{\\left(\\varepsilon + 1\\right)\\ldots 2^{t - 1}\\}} \\left(\\left(\\frac{1}{4} \\cdot \\frac{1}{\\left(k - \\left(2^{t} \\cdot \\delta\\right)\\right)^{2}}\\right) \\leq \\left(\\frac{1}{4} \\cdot \\frac{1}{\\left(k - 1\\right)^{2}}\\right)\\right)\\right] \\Rightarrow \\left(\\left(\\sum_{l=\\varepsilon + 1}^{2^{t - 1}} \\left(\\frac{1}{4} \\cdot \\frac{1}{\\left(l - \\left(2^{t} \\cdot \\delta\\right)\\right)^{2}}\\right)\\right) \\leq \\left(\\sum_{l=\\varepsilon + 1}^{2^{t - 1}} \\left(\\frac{1}{4} \\cdot \\frac{1}{\\left(l - 1\\right)^{2}}\\right)\\right)\\right)$"
      ]
     },
     "execution_count": 49,
     "metadata": {},
     "output_type": "execute_result"
    }
   ],
   "source": [
    "Y9 = sumIneq1.specialize({Operation(a,l):Y7.specialize().lhs, Operation(b,l):Y7.specialize().rhs}).specialize({m:posDomain.lowerBound, n:posDomain.upperBound})\n",
    "Y9.proven({epsInDomain})"
   ]
  },
  {
   "cell_type": "code",
   "execution_count": 50,
   "metadata": {
    "collapsed": false
   },
   "outputs": [
    {
     "data": {
      "text/latex": [
       "$\\left(\\left(\\sum_{l=\\left(-2^{t - 1}\\right) + 1}^{-\\left(\\varepsilon + 1\\right)} \\left(\\frac{1}{4} \\cdot \\frac{1}{\\left(l - \\left(2^{t} \\cdot \\delta\\right)\\right)^{2}}\\right)\\right) \\leq \\left(\\sum_{l=\\left(-2^{t - 1}\\right) + 1}^{-\\left(\\varepsilon + 1\\right)} \\left(\\frac{1}{4} \\cdot \\frac{1}{l^{2}}\\right)\\right)\\right) \\land \\left(\\left(\\sum_{l=\\varepsilon + 1}^{2^{t - 1}} \\left(\\frac{1}{4} \\cdot \\frac{1}{\\left(l - \\left(2^{t} \\cdot \\delta\\right)\\right)^{2}}\\right)\\right) \\leq \\left(\\sum_{l=\\varepsilon + 1}^{2^{t - 1}} \\left(\\frac{1}{4} \\cdot \\frac{1}{\\left(l - 1\\right)^{2}}\\right)\\right)\\right)$"
      ],
      "text/plain": [
       "$\\left(\\left(\\sum_{l=\\left(-2^{t - 1}\\right) + 1}^{-\\left(\\varepsilon + 1\\right)} \\left(\\frac{1}{4} \\cdot \\frac{1}{\\left(l - \\left(2^{t} \\cdot \\delta\\right)\\right)^{2}}\\right)\\right) \\leq \\left(\\sum_{l=\\left(-2^{t - 1}\\right) + 1}^{-\\left(\\varepsilon + 1\\right)} \\left(\\frac{1}{4} \\cdot \\frac{1}{l^{2}}\\right)\\right)\\right) \\land \\left(\\left(\\sum_{l=\\varepsilon + 1}^{2^{t - 1}} \\left(\\frac{1}{4} \\cdot \\frac{1}{\\left(l - \\left(2^{t} \\cdot \\delta\\right)\\right)^{2}}\\right)\\right) \\leq \\left(\\sum_{l=\\varepsilon + 1}^{2^{t - 1}} \\left(\\frac{1}{4} \\cdot \\frac{1}{\\left(l - 1\\right)^{2}}\\right)\\right)\\right)$"
      ]
     },
     "execution_count": 50,
     "metadata": {},
     "output_type": "execute_result"
    }
   ],
   "source": [
    "compose(Y8.conclusion, Y9.conclusion).proven({epsInDomain})"
   ]
  },
  {
   "cell_type": "code",
   "execution_count": 51,
   "metadata": {
    "collapsed": false
   },
   "outputs": [
    {
     "data": {
      "text/latex": [
       "$\\forall_{a, b, c, d \\in \\mathbb{R}} \\left(\\left(\\left(a \\leq c\\right) \\land \\left(b \\leq d\\right)\\right) \\Rightarrow \\left(\\left(a + b\\right) \\leq \\left(c + d\\right)\\right)\\right)$"
      ],
      "text/plain": [
       "$\\forall_{a, b, c, d \\in \\mathbb{R}} \\left(\\left(\\left(a \\leq c\\right) \\land \\left(b \\leq d\\right)\\right) \\Rightarrow \\left(\\left(a + b\\right) \\leq \\left(c + d\\right)\\right)\\right)$"
      ]
     },
     "execution_count": 51,
     "metadata": {},
     "output_type": "execute_result"
    }
   ],
   "source": [
    "sumIneq2"
   ]
  },
  {
   "cell_type": "code",
   "execution_count": 52,
   "metadata": {
    "collapsed": false
   },
   "outputs": [
    {
     "data": {
      "text/latex": [
       "$\\sum_{l=\\varepsilon + 1}^{2^{t - 1}} \\frac{1}{4} \\cdot \\frac{1}{\\left(l - 1\\right)^{2}}$"
      ],
      "text/plain": [
       "$\\sum_{l=\\varepsilon + 1}^{2^{t - 1}} \\frac{1}{4} \\cdot \\frac{1}{\\left(l - 1\\right)^{2}}$"
      ]
     },
     "execution_count": 52,
     "metadata": {},
     "output_type": "execute_result"
    }
   ],
   "source": [
    "Y9.conclusion.rhs"
   ]
  },
  {
   "cell_type": "code",
   "execution_count": 53,
   "metadata": {
    "collapsed": false
   },
   "outputs": [
    {
     "data": {
      "text/latex": [
       "$\\left(l - 1\\right) > 0$"
      ],
      "text/plain": [
       "$\\left(l - 1\\right) > 0$"
      ]
     },
     "execution_count": 53,
     "metadata": {},
     "output_type": "execute_result"
    }
   ],
   "source": [
    "deducePositive(Subtract(l, one), assumptions={epsInDomain, In(l, posDomain)})"
   ]
  },
  {
   "cell_type": "code",
   "execution_count": 54,
   "metadata": {
    "collapsed": false
   },
   "outputs": [
    {
     "data": {
      "text/latex": [
       "$\\left(\\sum_{l=\\left(-2^{t - 1}\\right) + 1}^{-\\left(\\varepsilon + 1\\right)} \\left(\\frac{1}{4} \\cdot \\frac{1}{\\left(l - \\left(2^{t} \\cdot \\delta\\right)\\right)^{2}}\\right)\\right) \\in \\mathbb{R}$"
      ],
      "text/plain": [
       "$\\left(\\sum_{l=\\left(-2^{t - 1}\\right) + 1}^{-\\left(\\varepsilon + 1\\right)} \\left(\\frac{1}{4} \\cdot \\frac{1}{\\left(l - \\left(2^{t} \\cdot \\delta\\right)\\right)^{2}}\\right)\\right) \\in \\mathbb{R}$"
      ]
     },
     "metadata": {},
     "output_type": "display_data"
    },
    {
     "data": {
      "text/latex": [
       "$\\left(\\sum_{l=\\varepsilon + 1}^{2^{t - 1}} \\left(\\frac{1}{4} \\cdot \\frac{1}{\\left(l - \\left(2^{t} \\cdot \\delta\\right)\\right)^{2}}\\right)\\right) \\in \\mathbb{R}$"
      ],
      "text/plain": [
       "$\\left(\\sum_{l=\\varepsilon + 1}^{2^{t - 1}} \\left(\\frac{1}{4} \\cdot \\frac{1}{\\left(l - \\left(2^{t} \\cdot \\delta\\right)\\right)^{2}}\\right)\\right) \\in \\mathbb{R}$"
      ]
     },
     "metadata": {},
     "output_type": "display_data"
    },
    {
     "data": {
      "text/latex": [
       "$\\left(\\sum_{l=\\left(-2^{t - 1}\\right) + 1}^{-\\left(\\varepsilon + 1\\right)} \\left(\\frac{1}{4} \\cdot \\frac{1}{l^{2}}\\right)\\right) \\in \\mathbb{R}$"
      ],
      "text/plain": [
       "$\\left(\\sum_{l=\\left(-2^{t - 1}\\right) + 1}^{-\\left(\\varepsilon + 1\\right)} \\left(\\frac{1}{4} \\cdot \\frac{1}{l^{2}}\\right)\\right) \\in \\mathbb{R}$"
      ]
     },
     "metadata": {},
     "output_type": "display_data"
    },
    {
     "data": {
      "text/latex": [
       "$\\left(\\sum_{l=\\varepsilon + 1}^{2^{t - 1}} \\left(\\frac{1}{4} \\cdot \\frac{1}{\\left(l - 1\\right)^{2}}\\right)\\right) \\in \\mathbb{R}$"
      ],
      "text/plain": [
       "$\\left(\\sum_{l=\\varepsilon + 1}^{2^{t - 1}} \\left(\\frac{1}{4} \\cdot \\frac{1}{\\left(l - 1\\right)^{2}}\\right)\\right) \\in \\mathbb{R}$"
      ]
     },
     "metadata": {},
     "output_type": "display_data"
    }
   ],
   "source": [
    "display(X3.rhs.operands[0].deduceInReals({epsInDomain}))\n",
    "display(X3.rhs.operands[1].deduceInReals({epsInDomain}))\n",
    "display(Y8.conclusion.rhs.deduceInReals({epsInDomain}))\n",
    "display(Y9.conclusion.rhs.deduceInReals({epsInDomain}))"
   ]
  },
  {
   "cell_type": "code",
   "execution_count": 55,
   "metadata": {
    "collapsed": false
   },
   "outputs": [
    {
     "data": {
      "text/latex": [
       "$\\left(\\left(\\left(\\sum_{l=\\left(-2^{t - 1}\\right) + 1}^{-\\left(\\varepsilon + 1\\right)} \\left(\\frac{1}{4} \\cdot \\frac{1}{\\left(l - \\left(2^{t} \\cdot \\delta\\right)\\right)^{2}}\\right)\\right) \\leq \\left(\\sum_{l=\\left(-2^{t - 1}\\right) + 1}^{-\\left(\\varepsilon + 1\\right)} \\left(\\frac{1}{4} \\cdot \\frac{1}{l^{2}}\\right)\\right)\\right) \\land \\left(\\left(\\sum_{l=\\varepsilon + 1}^{2^{t - 1}} \\left(\\frac{1}{4} \\cdot \\frac{1}{\\left(l - \\left(2^{t} \\cdot \\delta\\right)\\right)^{2}}\\right)\\right) \\leq \\left(\\sum_{l=\\varepsilon + 1}^{2^{t - 1}} \\left(\\frac{1}{4} \\cdot \\frac{1}{\\left(l - 1\\right)^{2}}\\right)\\right)\\right)\\right) \\Rightarrow \\left(\\left(\\left(\\sum_{l=\\left(-2^{t - 1}\\right) + 1}^{-\\left(\\varepsilon + 1\\right)} \\left(\\frac{1}{4} \\cdot \\frac{1}{\\left(l - \\left(2^{t} \\cdot \\delta\\right)\\right)^{2}}\\right)\\right) + \\left(\\sum_{l=\\varepsilon + 1}^{2^{t - 1}} \\left(\\frac{1}{4} \\cdot \\frac{1}{\\left(l - \\left(2^{t} \\cdot \\delta\\right)\\right)^{2}}\\right)\\right)\\right) \\leq \\left(\\left(\\sum_{l=\\left(-2^{t - 1}\\right) + 1}^{-\\left(\\varepsilon + 1\\right)} \\left(\\frac{1}{4} \\cdot \\frac{1}{l^{2}}\\right)\\right) + \\left(\\sum_{l=\\varepsilon + 1}^{2^{t - 1}} \\left(\\frac{1}{4} \\cdot \\frac{1}{\\left(l - 1\\right)^{2}}\\right)\\right)\\right)\\right)$"
      ],
      "text/plain": [
       "$\\left(\\left(\\left(\\sum_{l=\\left(-2^{t - 1}\\right) + 1}^{-\\left(\\varepsilon + 1\\right)} \\left(\\frac{1}{4} \\cdot \\frac{1}{\\left(l - \\left(2^{t} \\cdot \\delta\\right)\\right)^{2}}\\right)\\right) \\leq \\left(\\sum_{l=\\left(-2^{t - 1}\\right) + 1}^{-\\left(\\varepsilon + 1\\right)} \\left(\\frac{1}{4} \\cdot \\frac{1}{l^{2}}\\right)\\right)\\right) \\land \\left(\\left(\\sum_{l=\\varepsilon + 1}^{2^{t - 1}} \\left(\\frac{1}{4} \\cdot \\frac{1}{\\left(l - \\left(2^{t} \\cdot \\delta\\right)\\right)^{2}}\\right)\\right) \\leq \\left(\\sum_{l=\\varepsilon + 1}^{2^{t - 1}} \\left(\\frac{1}{4} \\cdot \\frac{1}{\\left(l - 1\\right)^{2}}\\right)\\right)\\right)\\right) \\Rightarrow \\left(\\left(\\left(\\sum_{l=\\left(-2^{t - 1}\\right) + 1}^{-\\left(\\varepsilon + 1\\right)} \\left(\\frac{1}{4} \\cdot \\frac{1}{\\left(l - \\left(2^{t} \\cdot \\delta\\right)\\right)^{2}}\\right)\\right) + \\left(\\sum_{l=\\varepsilon + 1}^{2^{t - 1}} \\left(\\frac{1}{4} \\cdot \\frac{1}{\\left(l - \\left(2^{t} \\cdot \\delta\\right)\\right)^{2}}\\right)\\right)\\right) \\leq \\left(\\left(\\sum_{l=\\left(-2^{t - 1}\\right) + 1}^{-\\left(\\varepsilon + 1\\right)} \\left(\\frac{1}{4} \\cdot \\frac{1}{l^{2}}\\right)\\right) + \\left(\\sum_{l=\\varepsilon + 1}^{2^{t - 1}} \\left(\\frac{1}{4} \\cdot \\frac{1}{\\left(l - 1\\right)^{2}}\\right)\\right)\\right)\\right)$"
      ]
     },
     "execution_count": 55,
     "metadata": {},
     "output_type": "execute_result"
    }
   ],
   "source": [
    "Y10 = sumIneq2.specialize({a:X3.rhs.operands[0], b:X3.rhs.operands[1], c:Y8.conclusion.rhs, d:Y9.conclusion.rhs})\n",
    "Y10.proven({In(Y9.conclusion.rhs,Reals), epsInDomain, lInDomain})"
   ]
  },
  {
   "cell_type": "code",
   "execution_count": 56,
   "metadata": {
    "collapsed": false
   },
   "outputs": [
    {
     "data": {
      "text/latex": [
       "$\\left(\\left(\\sum_{l=\\left(-2^{t - 1}\\right) + 1}^{-\\left(\\varepsilon + 1\\right)} \\left(\\frac{1}{4} \\cdot \\frac{1}{\\left(l - \\left(2^{t} \\cdot \\delta\\right)\\right)^{2}}\\right)\\right) + \\left(\\sum_{l=\\varepsilon + 1}^{2^{t - 1}} \\left(\\frac{1}{4} \\cdot \\frac{1}{\\left(l - \\left(2^{t} \\cdot \\delta\\right)\\right)^{2}}\\right)\\right)\\right) \\leq \\left(\\left(\\sum_{l=\\left(-2^{t - 1}\\right) + 1}^{-\\left(\\varepsilon + 1\\right)} \\left(\\frac{1}{4} \\cdot \\frac{1}{l^{2}}\\right)\\right) + \\left(\\sum_{l=\\varepsilon + 1}^{2^{t - 1}} \\left(\\frac{1}{4} \\cdot \\frac{1}{\\left(l - 1\\right)^{2}}\\right)\\right)\\right)$"
      ],
      "text/plain": [
       "$\\left(\\left(\\sum_{l=\\left(-2^{t - 1}\\right) + 1}^{-\\left(\\varepsilon + 1\\right)} \\left(\\frac{1}{4} \\cdot \\frac{1}{\\left(l - \\left(2^{t} \\cdot \\delta\\right)\\right)^{2}}\\right)\\right) + \\left(\\sum_{l=\\varepsilon + 1}^{2^{t - 1}} \\left(\\frac{1}{4} \\cdot \\frac{1}{\\left(l - \\left(2^{t} \\cdot \\delta\\right)\\right)^{2}}\\right)\\right)\\right) \\leq \\left(\\left(\\sum_{l=\\left(-2^{t - 1}\\right) + 1}^{-\\left(\\varepsilon + 1\\right)} \\left(\\frac{1}{4} \\cdot \\frac{1}{l^{2}}\\right)\\right) + \\left(\\sum_{l=\\varepsilon + 1}^{2^{t - 1}} \\left(\\frac{1}{4} \\cdot \\frac{1}{\\left(l - 1\\right)^{2}}\\right)\\right)\\right)$"
      ]
     },
     "execution_count": 56,
     "metadata": {},
     "output_type": "execute_result"
    }
   ],
   "source": [
    "Y10.conclusion.proven({epsInDomain, lInDomain})"
   ]
  },
  {
   "cell_type": "code",
   "execution_count": 57,
   "metadata": {
    "collapsed": false
   },
   "outputs": [
    {
     "data": {
      "text/latex": [
       "$\\varepsilon \\in \\{1\\ldots \\left(2^{t - 1} - 2\\right)\\}$"
      ],
      "text/plain": [
       "$\\varepsilon \\in \\{1\\ldots \\left(2^{t - 1} - 2\\right)\\}$"
      ]
     },
     "execution_count": 57,
     "metadata": {},
     "output_type": "execute_result"
    }
   ],
   "source": [
    "X4 = Relation(X3).update(Y10.conclusion)\n",
    "epsInDomain"
   ]
  },
  {
   "cell_type": "code",
   "execution_count": 58,
   "metadata": {
    "collapsed": false
   },
   "outputs": [
    {
     "data": {
      "text/latex": [
       "$\\left(\\left(\\sum_{l=\\left(-2^{t - 1}\\right) + 1}^{-\\left(\\varepsilon + 1\\right)} \\left(\\frac{1}{4} \\cdot \\frac{1}{l^{2}}\\right)\\right) + \\left(\\sum_{l=\\varepsilon + 1}^{2^{t - 1}} \\left(\\frac{1}{4} \\cdot \\frac{1}{\\left(l - 1\\right)^{2}}\\right)\\right)\\right) \\in \\mathbb{C}$"
      ],
      "text/plain": [
       "$\\left(\\left(\\sum_{l=\\left(-2^{t - 1}\\right) + 1}^{-\\left(\\varepsilon + 1\\right)} \\left(\\frac{1}{4} \\cdot \\frac{1}{l^{2}}\\right)\\right) + \\left(\\sum_{l=\\varepsilon + 1}^{2^{t - 1}} \\left(\\frac{1}{4} \\cdot \\frac{1}{\\left(l - 1\\right)^{2}}\\right)\\right)\\right) \\in \\mathbb{C}$"
      ]
     },
     "execution_count": 58,
     "metadata": {},
     "output_type": "execute_result"
    }
   ],
   "source": [
    "deduceInComplexes(X4.rhs, {epsInDomain}).proven({epsInDomain})"
   ]
  },
  {
   "cell_type": "code",
   "execution_count": 59,
   "metadata": {
    "collapsed": false
   },
   "outputs": [
    {
     "data": {
      "text/latex": [
       "$\\left(\\sum_{l=\\left(-2^{t - 1}\\right) + 1}^{-\\left(\\varepsilon + 1\\right)} \\left(\\frac{1}{4} \\cdot \\frac{1}{l^{2}}\\right)\\right) = \\left(\\frac{1}{4} \\cdot \\left(\\sum_{l=\\left(-2^{t - 1}\\right) + 1}^{-\\left(\\varepsilon + 1\\right)} \\frac{1}{l^{2}}\\right)\\right)$"
      ],
      "text/plain": [
       "$\\left(\\sum_{l=\\left(-2^{t - 1}\\right) + 1}^{-\\left(\\varepsilon + 1\\right)} \\left(\\frac{1}{4} \\cdot \\frac{1}{l^{2}}\\right)\\right) = \\left(\\frac{1}{4} \\cdot \\left(\\sum_{l=\\left(-2^{t - 1}\\right) + 1}^{-\\left(\\varepsilon + 1\\right)} \\frac{1}{l^{2}}\\right)\\right)$"
      ]
     },
     "execution_count": 59,
     "metadata": {},
     "output_type": "execute_result"
    }
   ],
   "source": [
    "X4.rhs.operands[0].factor(Fraction(one,four),assumptions={epsInDomain})"
   ]
  },
  {
   "cell_type": "code",
   "execution_count": 60,
   "metadata": {
    "collapsed": false
   },
   "outputs": [
    {
     "data": {
      "text/latex": [
       "$\\left(\\sum_{l=\\left(-2^{t - 1}\\right) + 1}^{-\\left(\\varepsilon + 1\\right)} \\left(\\frac{1}{4} \\cdot \\frac{1}{l^{2}}\\right)\\right) = \\left(\\frac{1}{4} \\cdot \\left(\\sum_{l=\\left(-2^{t - 1}\\right) + 1}^{-\\left(\\varepsilon + 1\\right)} \\frac{1}{l^{2}}\\right)\\right)$"
      ],
      "text/plain": [
       "$\\left(\\sum_{l=\\left(-2^{t - 1}\\right) + 1}^{-\\left(\\varepsilon + 1\\right)} \\left(\\frac{1}{4} \\cdot \\frac{1}{l^{2}}\\right)\\right) = \\left(\\frac{1}{4} \\cdot \\left(\\sum_{l=\\left(-2^{t - 1}\\right) + 1}^{-\\left(\\varepsilon + 1\\right)} \\frac{1}{l^{2}}\\right)\\right)$"
      ]
     },
     "execution_count": 60,
     "metadata": {},
     "output_type": "execute_result"
    }
   ],
   "source": [
    "X4.rhs.operands[0].factor(Fraction(one,four),assumptions={epsInDomain}).proven({epsInDomain})"
   ]
  },
  {
   "cell_type": "code",
   "execution_count": 61,
   "metadata": {
    "collapsed": false
   },
   "outputs": [
    {
     "data": {
      "text/latex": [
       "$P_{\\rm fail}\\left(\\varepsilon\\right) \\leq \\left(\\left(\\frac{1}{4} \\cdot \\left(\\sum_{l=\\left(-2^{t - 1}\\right) + 1}^{-\\left(\\varepsilon + 1\\right)} \\frac{1}{l^{2}}\\right)\\right) + \\left(\\frac{1}{4} \\cdot \\left(\\sum_{l=\\varepsilon + 1}^{2^{t - 1}} \\frac{1}{\\left(l - 1\\right)^{2}}\\right)\\right)\\right)$"
      ],
      "text/plain": [
       "$P_{\\rm fail}\\left(\\varepsilon\\right) \\leq \\left(\\left(\\frac{1}{4} \\cdot \\left(\\sum_{l=\\left(-2^{t - 1}\\right) + 1}^{-\\left(\\varepsilon + 1\\right)} \\frac{1}{l^{2}}\\right)\\right) + \\left(\\frac{1}{4} \\cdot \\left(\\sum_{l=\\varepsilon + 1}^{2^{t - 1}} \\frac{1}{\\left(l - 1\\right)^{2}}\\right)\\right)\\right)$"
      ]
     },
     "execution_count": 61,
     "metadata": {},
     "output_type": "execute_result"
    }
   ],
   "source": [
    "X5 = X4.rhs.operands[0].factor(Fraction(one,four),assumptions={epsInDomain}).rhsSubstitute(X4).proven({epsInDomain})\n",
    "X6 = X5.rhs.operands[1].factor(Fraction(one,four),assumptions={epsInDomain}).rhsSubstitute(X5).proven({epsInDomain})\n",
    "X6"
   ]
  },
  {
   "cell_type": "code",
   "execution_count": 62,
   "metadata": {
    "collapsed": false
   },
   "outputs": [
    {
     "data": {
      "text/latex": [
       "$\\forall_{a, b, c \\in \\mathbb{R}} \\left(\\left(\\left(a \\cdot b\\right) + \\left(a \\cdot c\\right)\\right) = \\left(a \\cdot \\left(b + c\\right)\\right)\\right)$"
      ],
      "text/plain": [
       "$\\forall_{a, b, c \\in \\mathbb{R}} \\left(\\left(\\left(a \\cdot b\\right) + \\left(a \\cdot c\\right)\\right) = \\left(a \\cdot \\left(b + c\\right)\\right)\\right)$"
      ]
     },
     "execution_count": 62,
     "metadata": {},
     "output_type": "execute_result"
    }
   ],
   "source": [
    "sumFactor_temp"
   ]
  },
  {
   "cell_type": "code",
   "execution_count": 63,
   "metadata": {
    "collapsed": false
   },
   "outputs": [
    {
     "data": {
      "text/latex": [
       "$P_{\\rm fail}\\left(\\varepsilon\\right) \\leq \\left(\\frac{1}{4} \\cdot \\left(\\left(\\sum_{l=\\left(-2^{t - 1}\\right) + 1}^{-\\left(\\varepsilon + 1\\right)} \\frac{1}{l^{2}}\\right) + \\left(\\sum_{l=\\varepsilon + 1}^{2^{t - 1}} \\frac{1}{\\left(l - 1\\right)^{2}}\\right)\\right)\\right)$"
      ],
      "text/plain": [
       "$P_{\\rm fail}\\left(\\varepsilon\\right) \\leq \\left(\\frac{1}{4} \\cdot \\left(\\left(\\sum_{l=\\left(-2^{t - 1}\\right) + 1}^{-\\left(\\varepsilon + 1\\right)} \\frac{1}{l^{2}}\\right) + \\left(\\sum_{l=\\varepsilon + 1}^{2^{t - 1}} \\frac{1}{\\left(l - 1\\right)^{2}}\\right)\\right)\\right)$"
      ]
     },
     "execution_count": 63,
     "metadata": {},
     "output_type": "execute_result"
    }
   ],
   "source": [
    "deduceInReals(X6.rhs.operands[0].operands[0])\n",
    "deduceInReals(X6.rhs.operands[0].operands[1], {epsInDomain})\n",
    "deduceInReals(X6.rhs.operands[1].operands[1], {epsInDomain})\n",
    "X7 = sumFactor_temp.specialize({a:X6.rhs.operands[0].operands[0], b:X6.rhs.operands[0].operands[1], c:X6.rhs.operands[1].operands[1]}).rhsSubstitute(X6)\n",
    "X7.proven({epsInDomain})"
   ]
  },
  {
   "cell_type": "code",
   "execution_count": 64,
   "metadata": {
    "collapsed": false
   },
   "outputs": [
    {
     "data": {
      "text/latex": [
       "$\\forall_{f} \\left[\\forall_{a, b, c \\in \\mathbb{Z}} \\left(\\left(\\sum_{x=a}^{b} f\\left(x\\right)\\right) = \\left(\\sum_{x=a + c}^{b + c} f\\left(x - c\\right)\\right)\\right)\\right]$"
      ],
      "text/plain": [
       "$\\forall_{f} \\left[\\forall_{a, b, c \\in \\mathbb{Z}} \\left(\\left(\\sum_{x=a}^{b} f\\left(x\\right)\\right) = \\left(\\sum_{x=a + c}^{b + c} f\\left(x - c\\right)\\right)\\right)\\right]$"
      ]
     },
     "execution_count": 64,
     "metadata": {},
     "output_type": "execute_result"
    }
   ],
   "source": [
    "indexShift"
   ]
  },
  {
   "cell_type": "code",
   "execution_count": 65,
   "metadata": {
    "collapsed": false
   },
   "outputs": [
    {
     "data": {
      "text/latex": [
       "$P_{\\rm fail}\\left(\\varepsilon\\right) \\leq \\left(\\frac{1}{4} \\cdot \\left(\\left(\\sum_{l=\\left(-2^{t - 1}\\right) + 1}^{-\\left(\\varepsilon + 1\\right)} \\frac{1}{l^{2}}\\right) + \\left(\\sum_{l=\\left(\\varepsilon + 1\\right) + \\left(-1\\right)}^{2^{t - 1} + \\left(-1\\right)} \\frac{1}{\\left(\\left(l - \\left(-1\\right)\\right) - 1\\right)^{2}}\\right)\\right)\\right)$"
      ],
      "text/plain": [
       "$P_{\\rm fail}\\left(\\varepsilon\\right) \\leq \\left(\\frac{1}{4} \\cdot \\left(\\left(\\sum_{l=\\left(-2^{t - 1}\\right) + 1}^{-\\left(\\varepsilon + 1\\right)} \\frac{1}{l^{2}}\\right) + \\left(\\sum_{l=\\left(\\varepsilon + 1\\right) + \\left(-1\\right)}^{2^{t - 1} + \\left(-1\\right)} \\frac{1}{\\left(\\left(l - \\left(-1\\right)\\right) - 1\\right)^{2}}\\right)\\right)\\right)$"
      ]
     },
     "execution_count": 65,
     "metadata": {},
     "output_type": "execute_result"
    }
   ],
   "source": [
    "deduceInIntegers(negDomain.lowerBound, {epsInDomain})\n",
    "deduceInIntegers(negDomain.upperBound, {epsInDomain})\n",
    "deduceInIntegers(Neg(one))\n",
    "Y11 = indexShift.specialize({Operation(f,l):X7.rhs.operands[1].operands[1].summand,x:l}).specialize({c:Neg(one),a:X7.rhs.operands[1].operands[1].domain.lowerBound, b:X7.rhs.operands[1].operands[1].domain.upperBound}).rhsSubstitute(X7)\n",
    "Y11.proven({epsInDomain})"
   ]
  },
  {
   "cell_type": "code",
   "execution_count": 66,
   "metadata": {
    "collapsed": false
   },
   "outputs": [
    {
     "data": {
      "text/latex": [
       "$\\{\\left(\\varepsilon + 1\\right) + \\left(-1\\right)\\ldots 2^{t - 1} + \\left(-1\\right)\\}$"
      ],
      "text/plain": [
       "$\\{\\left(\\varepsilon + 1\\right) + \\left(-1\\right)\\ldots 2^{t - 1} + \\left(-1\\right)\\}$"
      ]
     },
     "execution_count": 66,
     "metadata": {},
     "output_type": "execute_result"
    }
   ],
   "source": [
    "shiftedDomain = Y11.rhs.operands[1].operands[1].domain\n",
    "shiftedDomain"
   ]
  },
  {
   "cell_type": "code",
   "execution_count": 67,
   "metadata": {
    "collapsed": false
   },
   "outputs": [
    {
     "data": {
      "text/latex": [
       "$\\frac{1}{\\left(\\left(l - \\left(-1\\right)\\right) - 1\\right)^{2}}$"
      ],
      "text/plain": [
       "$\\frac{1}{\\left(\\left(l - \\left(-1\\right)\\right) - 1\\right)^{2}}$"
      ]
     },
     "execution_count": 67,
     "metadata": {},
     "output_type": "execute_result"
    }
   ],
   "source": [
    "summandToSimplify = Y11.rhs.operands[1].operands[1].summand\n",
    "summandToSimplify"
   ]
  },
  {
   "cell_type": "code",
   "execution_count": 68,
   "metadata": {
    "collapsed": false
   },
   "outputs": [
    {
     "data": {
      "text/latex": [
       "$\\forall_{a, b \\in \\mathbb{C}} \\left(\\left(\\left(a - \\left(-b\\right)\\right) - b\\right) = a\\right)$"
      ],
      "text/plain": [
       "$\\forall_{a, b \\in \\mathbb{C}} \\left(\\left(\\left(a - \\left(-b\\right)\\right) - b\\right) = a\\right)$"
      ]
     },
     "execution_count": 68,
     "metadata": {},
     "output_type": "execute_result"
    }
   ],
   "source": [
    "cancelSubAndAdd"
   ]
  },
  {
   "cell_type": "code",
   "execution_count": 69,
   "metadata": {
    "collapsed": false
   },
   "outputs": [
    {
     "data": {
      "text/latex": [
       "$\\left(\\left(l - \\left(-1\\right)\\right) - 1\\right) = l$"
      ],
      "text/plain": [
       "$\\left(\\left(l - \\left(-1\\right)\\right) - 1\\right) = l$"
      ]
     },
     "execution_count": 69,
     "metadata": {},
     "output_type": "execute_result"
    }
   ],
   "source": [
    "lShiftCancellation = cancelSubAndAdd.specialize({a:l,b:one})\n",
    "lShiftCancellation"
   ]
  },
  {
   "cell_type": "code",
   "execution_count": 70,
   "metadata": {
    "collapsed": false
   },
   "outputs": [
    {
     "data": {
      "text/latex": [
       "$l \\in \\mathbb{Z}$"
      ],
      "text/plain": [
       "$l \\in \\mathbb{Z}$"
      ]
     },
     "metadata": {},
     "output_type": "display_data"
    },
    {
     "data": {
      "text/latex": [
       "$\\left(\\left(l - \\left(-1\\right)\\right) - 1\\right) \\in \\mathbb{C}$"
      ],
      "text/plain": [
       "$\\left(\\left(l - \\left(-1\\right)\\right) - 1\\right) \\in \\mathbb{C}$"
      ]
     },
     "metadata": {},
     "output_type": "display_data"
    },
    {
     "data": {
      "text/latex": [
       "$l \\in \\mathbb{C}$"
      ],
      "text/plain": [
       "$l \\in \\mathbb{C}$"
      ]
     },
     "metadata": {},
     "output_type": "display_data"
    },
    {
     "data": {
      "text/latex": [
       "$\\frac{1}{\\left(\\left(l - \\left(-1\\right)\\right) - 1\\right)^{2}} = \\frac{1}{l^{2}}$"
      ],
      "text/plain": [
       "$\\frac{1}{\\left(\\left(l - \\left(-1\\right)\\right) - 1\\right)^{2}} = \\frac{1}{l^{2}}$"
      ]
     },
     "metadata": {},
     "output_type": "display_data"
    },
    {
     "data": {
      "text/latex": [
       "$\\forall_{k \\in \\{\\left(\\left(\\varepsilon + 1\\right) + \\left(-1\\right)\\right)\\ldots \\left(2^{t - 1} + \\left(-1\\right)\\right)\\}} \\left(\\frac{1}{\\left(\\left(k - \\left(-1\\right)\\right) - 1\\right)^{2}} = \\frac{1}{k^{2}}\\right)$"
      ],
      "text/plain": [
       "$\\forall_{k \\in \\{\\left(\\left(\\varepsilon + 1\\right) + \\left(-1\\right)\\right)\\ldots \\left(2^{t - 1} + \\left(-1\\right)\\right)\\}} \\left(\\frac{1}{\\left(\\left(k - \\left(-1\\right)\\right) - 1\\right)^{2}} = \\frac{1}{k^{2}}\\right)$"
      ]
     },
     "execution_count": 70,
     "metadata": {},
     "output_type": "execute_result"
    }
   ],
   "source": [
    "display(shiftedDomain.deduceMemberInIntegers(l, {epsInDomain}).proven({epsInDomain, In(l, shiftedDomain)}))\n",
    "display(deduceInComplexes(lShiftCancellation.lhs, {epsInDomain, In(l, shiftedDomain)}))\n",
    "display(deduceInComplexes(lShiftCancellation.rhs, {epsInDomain, In(l, shiftedDomain)}))\n",
    "summandSimplification = lShiftCancellation.substitution(summandToSimplify)\n",
    "display(summandSimplification)\n",
    "summandSimplification.generalize(l, domain=shiftedDomain).relabel({l:k}).proven({epsInDomain})"
   ]
  },
  {
   "cell_type": "code",
   "execution_count": 71,
   "metadata": {
    "collapsed": false
   },
   "outputs": [
    {
     "data": {
      "text/latex": [
       "$\\forall_{f, g} \\left[\\forall_{m, n \\in \\mathbb{Z}} \\left(\\left[\\forall_{k \\in \\{m\\ldots n\\}} \\left(f\\left(k\\right) = g\\left(k\\right)\\right)\\right] \\Rightarrow \\left(\\left(\\sum_{l=m}^{n} f\\left(l\\right)\\right) = \\left(\\sum_{l=m}^{n} g\\left(l\\right)\\right)\\right)\\right)\\right]$"
      ],
      "text/plain": [
       "$\\forall_{f, g} \\left[\\forall_{m, n \\in \\mathbb{Z}} \\left(\\left[\\forall_{k \\in \\{m\\ldots n\\}} \\left(f\\left(k\\right) = g\\left(k\\right)\\right)\\right] \\Rightarrow \\left(\\left(\\sum_{l=m}^{n} f\\left(l\\right)\\right) = \\left(\\sum_{l=m}^{n} g\\left(l\\right)\\right)\\right)\\right)\\right]$"
      ]
     },
     "execution_count": 71,
     "metadata": {},
     "output_type": "execute_result"
    }
   ],
   "source": [
    "sumEq"
   ]
  },
  {
   "cell_type": "code",
   "execution_count": 72,
   "metadata": {
    "collapsed": false
   },
   "outputs": [
    {
     "data": {
      "text/latex": [
       "$\\left(\\sum_{l=\\left(\\varepsilon + 1\\right) + \\left(-1\\right)}^{2^{t - 1} + \\left(-1\\right)} \\frac{1}{\\left(\\left(l - \\left(-1\\right)\\right) - 1\\right)^{2}}\\right) = \\left(\\sum_{l=\\left(\\varepsilon + 1\\right) + \\left(-1\\right)}^{2^{t - 1} + \\left(-1\\right)} \\frac{1}{l^{2}}\\right)$"
      ],
      "text/plain": [
       "$\\left(\\sum_{l=\\left(\\varepsilon + 1\\right) + \\left(-1\\right)}^{2^{t - 1} + \\left(-1\\right)} \\frac{1}{\\left(\\left(l - \\left(-1\\right)\\right) - 1\\right)^{2}}\\right) = \\left(\\sum_{l=\\left(\\varepsilon + 1\\right) + \\left(-1\\right)}^{2^{t - 1} + \\left(-1\\right)} \\frac{1}{l^{2}}\\right)$"
      ]
     },
     "execution_count": 72,
     "metadata": {},
     "output_type": "execute_result"
    }
   ],
   "source": [
    "deduceInIntegers(shiftedDomain.lowerBound, {epsInDomain})\n",
    "deduceInIntegers(shiftedDomain.upperBound, {epsInDomain})\n",
    "Y12 = sumEq.specialize({Operation(f,l):summandToSimplify, Operation(g,l):summandSimplification.rhs}).specialize({m:shiftedDomain.lowerBound, n:shiftedDomain.upperBound})\n",
    "Y12.conclusion.proven({epsInDomain})"
   ]
  },
  {
   "cell_type": "code",
   "execution_count": 73,
   "metadata": {
    "collapsed": false
   },
   "outputs": [
    {
     "data": {
      "text/latex": [
       "$P_{\\rm fail}\\left(\\varepsilon\\right) \\leq \\left(\\frac{1}{4} \\cdot \\left(\\left(\\sum_{l=\\left(-2^{t - 1}\\right) + 1}^{-\\left(\\varepsilon + 1\\right)} \\frac{1}{l^{2}}\\right) + \\left(\\sum_{l=\\left(\\varepsilon + 1\\right) + \\left(-1\\right)}^{2^{t - 1} + \\left(-1\\right)} \\frac{1}{l^{2}}\\right)\\right)\\right)$"
      ],
      "text/plain": [
       "$P_{\\rm fail}\\left(\\varepsilon\\right) \\leq \\left(\\frac{1}{4} \\cdot \\left(\\left(\\sum_{l=\\left(-2^{t - 1}\\right) + 1}^{-\\left(\\varepsilon + 1\\right)} \\frac{1}{l^{2}}\\right) + \\left(\\sum_{l=\\left(\\varepsilon + 1\\right) + \\left(-1\\right)}^{2^{t - 1} + \\left(-1\\right)} \\frac{1}{l^{2}}\\right)\\right)\\right)$"
      ]
     },
     "execution_count": 73,
     "metadata": {},
     "output_type": "execute_result"
    }
   ],
   "source": [
    "X8 = Y12.conclusion.rhsSubstitute(Y11)\n",
    "X8.proven({epsInDomain})"
   ]
  },
  {
   "cell_type": "code",
   "execution_count": 74,
   "metadata": {
    "collapsed": false
   },
   "outputs": [
    {
     "data": {
      "text/latex": [
       "$\\forall_{f \\in EvenFuncs} \\left[\\forall_{a, b \\in \\mathbb{Z}} \\left(\\left(\\sum_{x=a}^{b} f\\left(x\\right)\\right) = \\left(\\sum_{x=-b}^{-a} f\\left(x\\right)\\right)\\right)\\right]$"
      ],
      "text/plain": [
       "$\\forall_{f \\in EvenFuncs} \\left[\\forall_{a, b \\in \\mathbb{Z}} \\left(\\left(\\sum_{x=a}^{b} f\\left(x\\right)\\right) = \\left(\\sum_{x=-b}^{-a} f\\left(x\\right)\\right)\\right)\\right]$"
      ]
     },
     "execution_count": 74,
     "metadata": {},
     "output_type": "execute_result"
    }
   ],
   "source": [
    "evenFuncSum"
   ]
  },
  {
   "cell_type": "code",
   "execution_count": 127,
   "metadata": {
    "collapsed": false
   },
   "outputs": [
    {
     "data": {
      "text/latex": [
       "$\\forall_{a, b \\in \\mathbb{Z}} \\left(\\left(\\sum_{l=a}^{b} \\frac{1}{l^{2}}\\right) = \\left(\\sum_{l=-b}^{-a} \\frac{1}{l^{2}}\\right)\\right)$"
      ],
      "text/plain": [
       "$\\forall_{a, b \\in \\mathbb{Z}} \\left(\\left(\\sum_{l=a}^{b} \\frac{1}{l^{2}}\\right) = \\left(\\sum_{l=-b}^{-a} \\frac{1}{l^{2}}\\right)\\right)$"
      ]
     },
     "execution_count": 127,
     "metadata": {},
     "output_type": "execute_result"
    }
   ],
   "source": [
    "evenFuncSum.specialize({Operation(f,l):X8.rhs.operands[1].operands[0].summand, x:l})#.specialize({a:X8.rhs.operands[1].operands[0].domain.lowerBound, b:X8.rhs.operands[1].operands[0].domain.upperBound}).rhsSubstitute(X8)\n",
    "#X9.proven({epsInDomain})"
   ]
  },
  {
   "cell_type": "code",
   "execution_count": 76,
   "metadata": {
    "collapsed": false
   },
   "outputs": [
    {
     "data": {
      "text/latex": [
       "$\\forall_{a, b \\in \\mathbb{C}} \\left(\\left(-\\left(a + b\\right)\\right) = \\left(\\left(-a\\right) - b\\right)\\right)$"
      ],
      "text/plain": [
       "$\\forall_{a, b \\in \\mathbb{C}} \\left(\\left(-\\left(a + b\\right)\\right) = \\left(\\left(-a\\right) - b\\right)\\right)$"
      ]
     },
     "execution_count": 76,
     "metadata": {},
     "output_type": "execute_result"
    }
   ],
   "source": [
    "distributeNegOverAdd"
   ]
  },
  {
   "cell_type": "code",
   "execution_count": 77,
   "metadata": {
    "collapsed": false
   },
   "outputs": [
    {
     "data": {
      "text/latex": [
       "$\\forall_{a \\in \\mathbb{C}} \\left(\\left(-\\left(-a\\right)\\right) = a\\right)$"
      ],
      "text/plain": [
       "$\\forall_{a \\in \\mathbb{C}} \\left(\\left(-\\left(-a\\right)\\right) = a\\right)$"
      ]
     },
     "execution_count": 77,
     "metadata": {},
     "output_type": "execute_result"
    }
   ],
   "source": [
    "negNeg"
   ]
  },
  {
   "cell_type": "code",
   "execution_count": 78,
   "metadata": {
    "collapsed": false
   },
   "outputs": [
    {
     "data": {
      "text/latex": [
       "$\\left(-\\left(\\left(-2^{t - 1}\\right) + 1\\right)\\right) = \\left(2^{t - 1} - 1\\right)$"
      ],
      "text/plain": [
       "$\\left(-\\left(\\left(-2^{t - 1}\\right) + 1\\right)\\right) = \\left(2^{t - 1} - 1\\right)$"
      ]
     },
     "execution_count": 78,
     "metadata": {},
     "output_type": "execute_result"
    }
   ],
   "source": [
    "two_pow_tMinusOne = Exponentiate(two, Subtract(t_, one))\n",
    "deduceInComplexes(two_pow_tMinusOne).proven()\n",
    "deduceInComplexes(Neg(two_pow_tMinusOne)).proven()\n",
    "deduceInComplexes(one).proven()\n",
    "cleanLimits1 = distributeNegOverAdd.specialize({a:Neg(two_pow_tMinusOne), b:one})\n",
    "cleanLimits1 = negNeg.specialize({a:two_pow_tMinusOne}).rhsSubstitute(cleanLimits1)\n",
    "cleanLimits1.proven()"
   ]
  },
  {
   "cell_type": "code",
   "execution_count": 79,
   "metadata": {
    "collapsed": false
   },
   "outputs": [
    {
     "data": {
      "text/latex": [
       "$\\left(-\\left(-\\left(\\varepsilon + 1\\right)\\right)\\right) = \\left(\\varepsilon + 1\\right)$"
      ],
      "text/plain": [
       "$\\left(-\\left(-\\left(\\varepsilon + 1\\right)\\right)\\right) = \\left(\\varepsilon + 1\\right)$"
      ]
     },
     "execution_count": 79,
     "metadata": {},
     "output_type": "execute_result"
    }
   ],
   "source": [
    "deduceInComplexes(Add(eps, one), {epsInDomain})\n",
    "cleanLimits2 = negNeg.specialize({a:Add(eps, one)})\n",
    "cleanLimits2.proven({epsInDomain})"
   ]
  },
  {
   "cell_type": "code",
   "execution_count": 80,
   "metadata": {
    "collapsed": false
   },
   "outputs": [
    {
     "data": {
      "text/latex": [
       "$\\left(2^{t - 1} + \\left(-1\\right)\\right) = \\left(2^{t - 1} - 1\\right)$"
      ],
      "text/plain": [
       "$\\left(2^{t - 1} + \\left(-1\\right)\\right) = \\left(2^{t - 1} - 1\\right)$"
      ]
     },
     "execution_count": 80,
     "metadata": {},
     "output_type": "execute_result"
    }
   ],
   "source": [
    "cleanLimits3 = convertAddNegToSub.specialize({a:two_pow_tMinusOne, b:one})\n",
    "cleanLimits3.proven({epsInDomain})"
   ]
  },
  {
   "cell_type": "code",
   "execution_count": 81,
   "metadata": {
    "collapsed": false
   },
   "outputs": [
    {
     "data": {
      "text/latex": [
       "$\\left(\\left(\\varepsilon + 1\\right) + \\left(-1\\right)\\right) = \\varepsilon$"
      ],
      "text/plain": [
       "$\\left(\\left(\\varepsilon + 1\\right) + \\left(-1\\right)\\right) = \\varepsilon$"
      ]
     },
     "execution_count": 81,
     "metadata": {},
     "output_type": "execute_result"
    }
   ],
   "source": [
    "deduceInComplexes(eps, {epsInDomain})\n",
    "cleanLimits4 = cancelAddNeg.specialize({a:eps, b:one})\n",
    "cleanLimits4.proven({epsInDomain})"
   ]
  },
  {
   "cell_type": "code",
   "execution_count": 82,
   "metadata": {
    "collapsed": false
   },
   "outputs": [
    {
     "data": {
      "text/latex": [
       "$P_{\\rm fail}\\left(\\varepsilon\\right) \\leq \\left(\\frac{1}{4} \\cdot \\left(\\left(\\sum_{l=\\varepsilon + 1}^{2^{t - 1} - 1} \\frac{1}{l^{2}}\\right) + \\left(\\sum_{l=\\varepsilon}^{2^{t - 1} - 1} \\frac{1}{l^{2}}\\right)\\right)\\right)$"
      ],
      "text/plain": [
       "$P_{\\rm fail}\\left(\\varepsilon\\right) \\leq \\left(\\frac{1}{4} \\cdot \\left(\\left(\\sum_{l=\\varepsilon + 1}^{2^{t - 1} - 1} \\frac{1}{l^{2}}\\right) + \\left(\\sum_{l=\\varepsilon}^{2^{t - 1} - 1} \\frac{1}{l^{2}}\\right)\\right)\\right)$"
      ]
     },
     "execution_count": 82,
     "metadata": {},
     "output_type": "execute_result"
    }
   ],
   "source": [
    "X10 = cleanLimits1.rhsSubstitute(X9)\n",
    "X10 = cleanLimits2.rhsSubstitute(X10)\n",
    "X10 = cleanLimits3.rhsSubstitute(X10)\n",
    "X10 = cleanLimits4.rhsSubstitute(X10)\n",
    "X10.proven({epsInDomain})"
   ]
  },
  {
   "cell_type": "code",
   "execution_count": 83,
   "metadata": {
    "collapsed": false
   },
   "outputs": [
    {
     "data": {
      "text/latex": [
       "$\\forall_{f} \\left[\\forall_{a, b \\in \\mathbb{Z}~|~a \\leq b} \\left(\\left(\\sum_{l=a}^{b} f\\left(l\\right)\\right) = \\left(\\left(\\sum_{l=a - 1}^{b} f\\left(l\\right)\\right) - f\\left(a - 1\\right)\\right)\\right)\\right]$"
      ],
      "text/plain": [
       "$\\forall_{f} \\left[\\forall_{a, b \\in \\mathbb{Z}~|~a \\leq b} \\left(\\left(\\sum_{l=a}^{b} f\\left(l\\right)\\right) = \\left(\\left(\\sum_{l=a - 1}^{b} f\\left(l\\right)\\right) - f\\left(a - 1\\right)\\right)\\right)\\right]$"
      ]
     },
     "execution_count": 83,
     "metadata": {},
     "output_type": "execute_result"
    }
   ],
   "source": [
    "splitSumOneElem"
   ]
  },
  {
   "cell_type": "code",
   "execution_count": 84,
   "metadata": {
    "collapsed": false
   },
   "outputs": [
    {
     "data": {
      "text/latex": [
       "$\\left(\\varepsilon + 1\\right) \\leq \\left(\\left(2^{t - 1} - 2\\right) + 1\\right)$"
      ],
      "text/plain": [
       "$\\left(\\varepsilon + 1\\right) \\leq \\left(\\left(2^{t - 1} - 2\\right) + 1\\right)$"
      ]
     },
     "metadata": {},
     "output_type": "display_data"
    },
    {
     "data": {
      "text/latex": [
       "$\\left(\\varepsilon + 1\\right) \\leq \\left(2^{t - 1} - 1\\right)$"
      ],
      "text/plain": [
       "$\\left(\\varepsilon + 1\\right) \\leq \\left(2^{t - 1} - 1\\right)$"
      ]
     },
     "metadata": {},
     "output_type": "display_data"
    }
   ],
   "source": [
    "shiftedEpsUpperBound0 = epsUpperBound.deriveShifted(one, assumptions={epsInDomain}).proven({epsInDomain})\n",
    "display(shiftedEpsUpperBound0)\n",
    "shiftedEpsUpperBound = temporarySpecialCaseCancellation.specialize({a:two_pow_tMinusOne}).rhsSubstitute(shiftedEpsUpperBound0).proven({epsInDomain})\n",
    "display(shiftedEpsUpperBound)"
   ]
  },
  {
   "cell_type": "code",
   "execution_count": 85,
   "metadata": {
    "collapsed": false
   },
   "outputs": [
    {
     "data": {
      "text/latex": [
       "$\\left(\\sum_{l=\\varepsilon + 1}^{2^{t - 1} - 1} \\frac{1}{l^{2}}\\right) = \\left(\\left(\\sum_{l=\\left(\\varepsilon + 1\\right) - 1}^{2^{t - 1} - 1} \\frac{1}{l^{2}}\\right) - \\frac{1}{\\left(\\left(\\varepsilon + 1\\right) - 1\\right)^{2}}\\right)$"
      ],
      "text/plain": [
       "$\\left(\\sum_{l=\\varepsilon + 1}^{2^{t - 1} - 1} \\frac{1}{l^{2}}\\right) = \\left(\\left(\\sum_{l=\\left(\\varepsilon + 1\\right) - 1}^{2^{t - 1} - 1} \\frac{1}{l^{2}}\\right) - \\frac{1}{\\left(\\left(\\varepsilon + 1\\right) - 1\\right)^{2}}\\right)$"
      ]
     },
     "execution_count": 85,
     "metadata": {},
     "output_type": "execute_result"
    }
   ],
   "source": [
    "deduceInIntegers(Add(eps, one), {epsInDomain})\n",
    "deduceInIntegers(Subtract(two_pow_tMinusOne, one))\n",
    "Y13 = splitSumOneElem.specialize({Operation(f,l):Fraction(one, Exponentiate(l, two))}).specialize({a:Add(eps, one),\n",
    "                                                                                                   b:Subtract(two_pow_tMinusOne, one)})\n",
    "Y13.proven({epsInDomain})"
   ]
  },
  {
   "cell_type": "code",
   "execution_count": 86,
   "metadata": {
    "collapsed": false
   },
   "outputs": [
    {
     "data": {
      "text/latex": [
       "$P_{\\rm fail}\\left(\\varepsilon\\right) \\leq \\left(\\frac{1}{4} \\cdot \\left(\\left(\\left(\\sum_{l=\\left(\\varepsilon + 1\\right) - 1}^{2^{t - 1} - 1} \\frac{1}{l^{2}}\\right) - \\frac{1}{\\left(\\left(\\varepsilon + 1\\right) - 1\\right)^{2}}\\right) + \\left(\\sum_{l=\\varepsilon}^{2^{t - 1} - 1} \\frac{1}{l^{2}}\\right)\\right)\\right)$"
      ],
      "text/plain": [
       "$P_{\\rm fail}\\left(\\varepsilon\\right) \\leq \\left(\\frac{1}{4} \\cdot \\left(\\left(\\left(\\sum_{l=\\left(\\varepsilon + 1\\right) - 1}^{2^{t - 1} - 1} \\frac{1}{l^{2}}\\right) - \\frac{1}{\\left(\\left(\\varepsilon + 1\\right) - 1\\right)^{2}}\\right) + \\left(\\sum_{l=\\varepsilon}^{2^{t - 1} - 1} \\frac{1}{l^{2}}\\right)\\right)\\right)$"
      ]
     },
     "execution_count": 86,
     "metadata": {},
     "output_type": "execute_result"
    }
   ],
   "source": [
    "X11 = Y13.rhsSubstitute(X10)\n",
    "X11.proven({epsInDomain})"
   ]
  },
  {
   "cell_type": "code",
   "execution_count": 87,
   "metadata": {
    "collapsed": false
   },
   "outputs": [
    {
     "data": {
      "text/latex": [
       "$\\forall_{a, b \\in \\mathbb{C}} \\left(\\left(a + \\left(-b\\right)\\right) = \\left(a - b\\right)\\right)$"
      ],
      "text/plain": [
       "$\\forall_{a, b \\in \\mathbb{C}} \\left(\\left(a + \\left(-b\\right)\\right) = \\left(a - b\\right)\\right)$"
      ]
     },
     "execution_count": 87,
     "metadata": {},
     "output_type": "execute_result"
    }
   ],
   "source": [
    "convertAddNegToSub"
   ]
  },
  {
   "cell_type": "code",
   "execution_count": 88,
   "metadata": {
    "collapsed": false
   },
   "outputs": [
    {
     "data": {
      "text/latex": [
       "$\\left(\\left(\\varepsilon + 1\\right) + \\left(-1\\right)\\right) = \\left(\\left(\\varepsilon + 1\\right) - 1\\right)$"
      ],
      "text/plain": [
       "$\\left(\\left(\\varepsilon + 1\\right) + \\left(-1\\right)\\right) = \\left(\\left(\\varepsilon + 1\\right) - 1\\right)$"
      ]
     },
     "execution_count": 88,
     "metadata": {},
     "output_type": "execute_result"
    }
   ],
   "source": [
    "Y14 = convertAddNegToSub.specialize({a:Add(eps,one),b:one})\n",
    "Y14.proven({epsInDomain})"
   ]
  },
  {
   "cell_type": "code",
   "execution_count": 89,
   "metadata": {
    "collapsed": false
   },
   "outputs": [
    {
     "data": {
      "text/latex": [
       "$\\left(\\left(\\varepsilon + 1\\right) + \\left(-1\\right)\\right) = \\varepsilon$"
      ],
      "text/plain": [
       "$\\left(\\left(\\varepsilon + 1\\right) + \\left(-1\\right)\\right) = \\varepsilon$"
      ]
     },
     "execution_count": 89,
     "metadata": {},
     "output_type": "execute_result"
    }
   ],
   "source": [
    "Y15 = cancelAddNeg.specialize({a:eps,b:one})\n",
    "Y15.proven({epsInDomain})"
   ]
  },
  {
   "cell_type": "code",
   "execution_count": 90,
   "metadata": {
    "collapsed": false
   },
   "outputs": [
    {
     "data": {
      "text/latex": [
       "$\\varepsilon = \\left(\\left(\\varepsilon + 1\\right) - 1\\right)$"
      ],
      "text/plain": [
       "$\\varepsilon = \\left(\\left(\\varepsilon + 1\\right) - 1\\right)$"
      ]
     },
     "execution_count": 90,
     "metadata": {},
     "output_type": "execute_result"
    }
   ],
   "source": [
    "cleanLimits5 = Y15.rhsSubstitute(Y14)\n",
    "cleanLimits5.proven({epsInDomain})"
   ]
  },
  {
   "cell_type": "code",
   "execution_count": 91,
   "metadata": {
    "collapsed": false
   },
   "outputs": [
    {
     "data": {
      "text/latex": [
       "$P_{\\rm fail}\\left(\\varepsilon\\right) \\leq \\left(\\frac{1}{4} \\cdot \\left(\\left(\\left(\\sum_{l=\\varepsilon}^{2^{t - 1} - 1} \\frac{1}{l^{2}}\\right) - \\frac{1}{\\varepsilon^{2}}\\right) + \\left(\\sum_{l=\\varepsilon}^{2^{t - 1} - 1} \\frac{1}{l^{2}}\\right)\\right)\\right)$"
      ],
      "text/plain": [
       "$P_{\\rm fail}\\left(\\varepsilon\\right) \\leq \\left(\\frac{1}{4} \\cdot \\left(\\left(\\left(\\sum_{l=\\varepsilon}^{2^{t - 1} - 1} \\frac{1}{l^{2}}\\right) - \\frac{1}{\\varepsilon^{2}}\\right) + \\left(\\sum_{l=\\varepsilon}^{2^{t - 1} - 1} \\frac{1}{l^{2}}\\right)\\right)\\right)$"
      ]
     },
     "execution_count": 91,
     "metadata": {},
     "output_type": "execute_result"
    }
   ],
   "source": [
    "X12 = cleanLimits5.lhsSubstitute(X11)\n",
    "X12.proven({epsInDomain})"
   ]
  },
  {
   "cell_type": "code",
   "execution_count": 92,
   "metadata": {
    "collapsed": false
   },
   "outputs": [
    {
     "data": {
      "text/latex": [
       "$\\left(\\left(\\sum_{l=\\varepsilon}^{2^{t - 1} - 1} \\frac{1}{l^{2}}\\right) - \\frac{1}{\\varepsilon^{2}}\\right) + \\left(\\sum_{l=\\varepsilon}^{2^{t - 1} - 1} \\frac{1}{l^{2}}\\right)$"
      ],
      "text/plain": [
       "$\\left(\\left(\\sum_{l=\\varepsilon}^{2^{t - 1} - 1} \\frac{1}{l^{2}}\\right) - \\frac{1}{\\varepsilon^{2}}\\right) + \\left(\\sum_{l=\\varepsilon}^{2^{t - 1} - 1} \\frac{1}{l^{2}}\\right)$"
      ]
     },
     "execution_count": 92,
     "metadata": {},
     "output_type": "execute_result"
    }
   ],
   "source": [
    "termToBound = X12.rhs.operands[1]\n",
    "groupAndUngroupAssumptions = {In(eps,Complexes), In(termToBound.operands[1],Complexes), NotEquals(eps,zero)}\n",
    "termToBound"
   ]
  },
  {
   "cell_type": "code",
   "execution_count": 93,
   "metadata": {
    "collapsed": false
   },
   "outputs": [
    {
     "data": {
      "text/latex": [
       "$\\{\\varepsilon\\ldots 2^{t - 1} - 1\\}$"
      ],
      "text/plain": [
       "$\\{\\varepsilon\\ldots 2^{t - 1} - 1\\}$"
      ]
     },
     "execution_count": 93,
     "metadata": {},
     "output_type": "execute_result"
    }
   ],
   "source": [
    "shiftedPosDomain = termToBound.operands[0].operands[0].domain\n",
    "shiftedPosDomain"
   ]
  },
  {
   "cell_type": "code",
   "execution_count": 94,
   "metadata": {
    "collapsed": false
   },
   "outputs": [
    {
     "data": {
      "text/latex": [
       "$l \\in \\mathbb{Z}$"
      ],
      "text/plain": [
       "$l \\in \\mathbb{Z}$"
      ]
     },
     "metadata": {},
     "output_type": "display_data"
    },
    {
     "data": {
      "text/latex": [
       "$l > 0$"
      ],
      "text/plain": [
       "$l > 0$"
      ]
     },
     "metadata": {},
     "output_type": "display_data"
    }
   ],
   "source": [
    "display(shiftedPosDomain.deduceMemberInIntegers(l, {epsInDomain, \n",
    "                                                    In(l, shiftedPosDomain)}).proven({epsInDomain, In(l, shiftedPosDomain)}))\n",
    "lGreaterThanEps = shiftedPosDomain.deduceMemberLowerBound(l, {epsInDomain}).deriveReversed()\n",
    "display(lGreaterThanEps.applyTransitivity(deducePositive(eps, {epsInDomain})).proven({epsInDomain, In(l, shiftedPosDomain)}))"
   ]
  },
  {
   "cell_type": "code",
   "execution_count": 95,
   "metadata": {
    "collapsed": false
   },
   "outputs": [
    {
     "data": {
      "text/latex": [
       "$\\left(\\left(\\left(\\sum_{l=\\varepsilon}^{2^{t - 1} - 1} \\frac{1}{l^{2}}\\right) - \\frac{1}{\\varepsilon^{2}}\\right) + \\left(\\sum_{l=\\varepsilon}^{2^{t - 1} - 1} \\frac{1}{l^{2}}\\right)\\right) = \\left(\\left(\\sum_{l=\\varepsilon}^{2^{t - 1} - 1} \\frac{1}{l^{2}}\\right) + \\left(\\left(\\sum_{l=\\varepsilon}^{2^{t - 1} - 1} \\frac{1}{l^{2}}\\right) - \\frac{1}{\\varepsilon^{2}}\\right)\\right)$"
      ],
      "text/plain": [
       "$\\left(\\left(\\left(\\sum_{l=\\varepsilon}^{2^{t - 1} - 1} \\frac{1}{l^{2}}\\right) - \\frac{1}{\\varepsilon^{2}}\\right) + \\left(\\sum_{l=\\varepsilon}^{2^{t - 1} - 1} \\frac{1}{l^{2}}\\right)\\right) = \\left(\\left(\\sum_{l=\\varepsilon}^{2^{t - 1} - 1} \\frac{1}{l^{2}}\\right) + \\left(\\left(\\sum_{l=\\varepsilon}^{2^{t - 1} - 1} \\frac{1}{l^{2}}\\right) - \\frac{1}{\\varepsilon^{2}}\\right)\\right)$"
      ]
     },
     "execution_count": 95,
     "metadata": {},
     "output_type": "execute_result"
    }
   ],
   "source": [
    "Y16 = termToBound.commute(assumptions={epsInDomain})\n",
    "Y16.proven({epsInDomain})"
   ]
  },
  {
   "cell_type": "code",
   "execution_count": 96,
   "metadata": {
    "collapsed": false
   },
   "outputs": [
    {
     "data": {
      "text/latex": [
       "$\\left(\\left(\\sum_{l=\\varepsilon}^{2^{t - 1} - 1} \\frac{1}{l^{2}}\\right) + \\left(-\\frac{1}{\\varepsilon^{2}}\\right)\\right) = \\left(\\left(\\sum_{l=\\varepsilon}^{2^{t - 1} - 1} \\frac{1}{l^{2}}\\right) - \\frac{1}{\\varepsilon^{2}}\\right)$"
      ],
      "text/plain": [
       "$\\left(\\left(\\sum_{l=\\varepsilon}^{2^{t - 1} - 1} \\frac{1}{l^{2}}\\right) + \\left(-\\frac{1}{\\varepsilon^{2}}\\right)\\right) = \\left(\\left(\\sum_{l=\\varepsilon}^{2^{t - 1} - 1} \\frac{1}{l^{2}}\\right) - \\frac{1}{\\varepsilon^{2}}\\right)$"
      ]
     },
     "execution_count": 96,
     "metadata": {},
     "output_type": "execute_result"
    }
   ],
   "source": [
    "deduceInComplexes(termToBound.operands[0].operands[0], {epsInDomain})\n",
    "deduceInComplexes(termToBound.operands[0].operands[1], {epsInDomain})\n",
    "Y17 = convertAddNegToSub.specialize({a:termToBound.operands[0].operands[0],b:termToBound.operands[0].operands[1]})\n",
    "Y17.proven({epsInDomain})"
   ]
  },
  {
   "cell_type": "code",
   "execution_count": 97,
   "metadata": {
    "collapsed": false
   },
   "outputs": [
    {
     "data": {
      "text/latex": [
       "$\\left(\\left(\\left(\\sum_{l=\\varepsilon}^{2^{t - 1} - 1} \\frac{1}{l^{2}}\\right) - \\frac{1}{\\varepsilon^{2}}\\right) + \\left(\\sum_{l=\\varepsilon}^{2^{t - 1} - 1} \\frac{1}{l^{2}}\\right)\\right) = \\left(\\left(\\sum_{l=\\varepsilon}^{2^{t - 1} - 1} \\frac{1}{l^{2}}\\right) + \\left(\\left(\\sum_{l=\\varepsilon}^{2^{t - 1} - 1} \\frac{1}{l^{2}}\\right) + \\left(-\\frac{1}{\\varepsilon^{2}}\\right)\\right)\\right)$"
      ],
      "text/plain": [
       "$\\left(\\left(\\left(\\sum_{l=\\varepsilon}^{2^{t - 1} - 1} \\frac{1}{l^{2}}\\right) - \\frac{1}{\\varepsilon^{2}}\\right) + \\left(\\sum_{l=\\varepsilon}^{2^{t - 1} - 1} \\frac{1}{l^{2}}\\right)\\right) = \\left(\\left(\\sum_{l=\\varepsilon}^{2^{t - 1} - 1} \\frac{1}{l^{2}}\\right) + \\left(\\left(\\sum_{l=\\varepsilon}^{2^{t - 1} - 1} \\frac{1}{l^{2}}\\right) + \\left(-\\frac{1}{\\varepsilon^{2}}\\right)\\right)\\right)$"
      ]
     },
     "execution_count": 97,
     "metadata": {},
     "output_type": "execute_result"
    }
   ],
   "source": [
    "eqn = Equation(Y16)\n",
    "Y18 = eqn.update(Y17.deriveReversed().substitution(Y16.rhs)).proven({epsInDomain})\n",
    "Y18"
   ]
  },
  {
   "cell_type": "code",
   "execution_count": 98,
   "metadata": {
    "collapsed": false
   },
   "outputs": [
    {
     "data": {
      "text/latex": [
       "$\\left(\\left(\\left(\\sum_{l=\\varepsilon}^{2^{t - 1} - 1} \\frac{1}{l^{2}}\\right) - \\frac{1}{\\varepsilon^{2}}\\right) + \\left(\\sum_{l=\\varepsilon}^{2^{t - 1} - 1} \\frac{1}{l^{2}}\\right)\\right) = \\left(\\left(\\sum_{l=\\varepsilon}^{2^{t - 1} - 1} \\frac{1}{l^{2}}\\right) + \\left(\\sum_{l=\\varepsilon}^{2^{t - 1} - 1} \\frac{1}{l^{2}}\\right) + \\left(-\\frac{1}{\\varepsilon^{2}}\\right)\\right)$"
      ],
      "text/plain": [
       "$\\left(\\left(\\left(\\sum_{l=\\varepsilon}^{2^{t - 1} - 1} \\frac{1}{l^{2}}\\right) - \\frac{1}{\\varepsilon^{2}}\\right) + \\left(\\sum_{l=\\varepsilon}^{2^{t - 1} - 1} \\frac{1}{l^{2}}\\right)\\right) = \\left(\\left(\\sum_{l=\\varepsilon}^{2^{t - 1} - 1} \\frac{1}{l^{2}}\\right) + \\left(\\sum_{l=\\varepsilon}^{2^{t - 1} - 1} \\frac{1}{l^{2}}\\right) + \\left(-\\frac{1}{\\varepsilon^{2}}\\right)\\right)$"
      ]
     },
     "execution_count": 98,
     "metadata": {},
     "output_type": "execute_result"
    }
   ],
   "source": [
    "Y19 = eqn.update(Y18.rhs.ungroup(1, {epsInDomain}))\n",
    "Y19.proven({epsInDomain})"
   ]
  },
  {
   "cell_type": "code",
   "execution_count": 99,
   "metadata": {
    "collapsed": false
   },
   "outputs": [
    {
     "data": {
      "text/latex": [
       "$\\left(\\left(\\left(\\sum_{l=\\varepsilon}^{2^{t - 1} - 1} \\frac{1}{l^{2}}\\right) - \\frac{1}{\\varepsilon^{2}}\\right) + \\left(\\sum_{l=\\varepsilon}^{2^{t - 1} - 1} \\frac{1}{l^{2}}\\right)\\right) = \\left(\\left(\\left(\\sum_{l=\\varepsilon}^{2^{t - 1} - 1} \\frac{1}{l^{2}}\\right) + \\left(\\sum_{l=\\varepsilon}^{2^{t - 1} - 1} \\frac{1}{l^{2}}\\right)\\right) + \\left(-\\frac{1}{\\varepsilon^{2}}\\right)\\right)$"
      ],
      "text/plain": [
       "$\\left(\\left(\\left(\\sum_{l=\\varepsilon}^{2^{t - 1} - 1} \\frac{1}{l^{2}}\\right) - \\frac{1}{\\varepsilon^{2}}\\right) + \\left(\\sum_{l=\\varepsilon}^{2^{t - 1} - 1} \\frac{1}{l^{2}}\\right)\\right) = \\left(\\left(\\left(\\sum_{l=\\varepsilon}^{2^{t - 1} - 1} \\frac{1}{l^{2}}\\right) + \\left(\\sum_{l=\\varepsilon}^{2^{t - 1} - 1} \\frac{1}{l^{2}}\\right)\\right) + \\left(-\\frac{1}{\\varepsilon^{2}}\\right)\\right)$"
      ]
     },
     "execution_count": 99,
     "metadata": {},
     "output_type": "execute_result"
    }
   ],
   "source": [
    "Y20 = Equation(Y19).update(Y19.rhs.group(0,2, assumptions=groupAndUngroupAssumptions))\n",
    "Y20.proven({epsInDomain})"
   ]
  },
  {
   "cell_type": "code",
   "execution_count": 100,
   "metadata": {
    "collapsed": false
   },
   "outputs": [
    {
     "data": {
      "text/latex": [
       "$\\forall_{f} \\left[\\forall_{a, b \\in \\mathbb{Z}} \\left(\\left(\\left(\\sum_{l=a}^{b} f\\left(l\\right)\\right) + \\left(\\sum_{l=a}^{b} f\\left(l\\right)\\right)\\right) = \\left(2 \\cdot \\left(\\sum_{l=a}^{b} f\\left(l\\right)\\right)\\right)\\right)\\right]$"
      ],
      "text/plain": [
       "$\\forall_{f} \\left[\\forall_{a, b \\in \\mathbb{Z}} \\left(\\left(\\left(\\sum_{l=a}^{b} f\\left(l\\right)\\right) + \\left(\\sum_{l=a}^{b} f\\left(l\\right)\\right)\\right) = \\left(2 \\cdot \\left(\\sum_{l=a}^{b} f\\left(l\\right)\\right)\\right)\\right)\\right]$"
      ]
     },
     "execution_count": 100,
     "metadata": {},
     "output_type": "execute_result"
    }
   ],
   "source": [
    "addSums"
   ]
  },
  {
   "cell_type": "code",
   "execution_count": 101,
   "metadata": {
    "collapsed": false
   },
   "outputs": [
    {
     "data": {
      "text/latex": [
       "$\\left(\\left(\\sum_{l=\\varepsilon}^{2^{t - 1} - 1} \\frac{1}{l^{2}}\\right) + \\left(\\sum_{l=\\varepsilon}^{2^{t - 1} - 1} \\frac{1}{l^{2}}\\right)\\right) = \\left(2 \\cdot \\left(\\sum_{l=\\varepsilon}^{2^{t - 1} - 1} \\frac{1}{l^{2}}\\right)\\right)$"
      ],
      "text/plain": [
       "$\\left(\\left(\\sum_{l=\\varepsilon}^{2^{t - 1} - 1} \\frac{1}{l^{2}}\\right) + \\left(\\sum_{l=\\varepsilon}^{2^{t - 1} - 1} \\frac{1}{l^{2}}\\right)\\right) = \\left(2 \\cdot \\left(\\sum_{l=\\varepsilon}^{2^{t - 1} - 1} \\frac{1}{l^{2}}\\right)\\right)$"
      ]
     },
     "execution_count": 101,
     "metadata": {},
     "output_type": "execute_result"
    }
   ],
   "source": [
    "Y21 = addSums.specialize({Operation(f,l):Y19.rhs.operands[0].summand}).specialize({a:Y19.rhs.operands[0].domain.lowerBound, b:Y19.rhs.operands[0].domain.upperBound})\n",
    "Y21.proven({epsInDomain})"
   ]
  },
  {
   "cell_type": "code",
   "execution_count": 102,
   "metadata": {
    "collapsed": false
   },
   "outputs": [
    {
     "data": {
      "text/latex": [
       "$\\left(\\left(\\left(\\sum_{l=\\varepsilon}^{2^{t - 1} - 1} \\frac{1}{l^{2}}\\right) - \\frac{1}{\\varepsilon^{2}}\\right) + \\left(\\sum_{l=\\varepsilon}^{2^{t - 1} - 1} \\frac{1}{l^{2}}\\right)\\right) = \\left(\\left(2 \\cdot \\left(\\sum_{l=\\varepsilon}^{2^{t - 1} - 1} \\frac{1}{l^{2}}\\right)\\right) + \\left(-\\frac{1}{\\varepsilon^{2}}\\right)\\right)$"
      ],
      "text/plain": [
       "$\\left(\\left(\\left(\\sum_{l=\\varepsilon}^{2^{t - 1} - 1} \\frac{1}{l^{2}}\\right) - \\frac{1}{\\varepsilon^{2}}\\right) + \\left(\\sum_{l=\\varepsilon}^{2^{t - 1} - 1} \\frac{1}{l^{2}}\\right)\\right) = \\left(\\left(2 \\cdot \\left(\\sum_{l=\\varepsilon}^{2^{t - 1} - 1} \\frac{1}{l^{2}}\\right)\\right) + \\left(-\\frac{1}{\\varepsilon^{2}}\\right)\\right)$"
      ]
     },
     "execution_count": 102,
     "metadata": {},
     "output_type": "execute_result"
    }
   ],
   "source": [
    "Y22 = Y21.rhsSubstitute(Y20)\n",
    "Y22.proven({epsInDomain})"
   ]
  },
  {
   "cell_type": "code",
   "execution_count": 103,
   "metadata": {
    "collapsed": false
   },
   "outputs": [
    {
     "data": {
      "text/latex": [
       "$\\forall_{a, b \\in \\mathbb{R}~|~b \\leq 0} \\left(\\left(a + b\\right) \\leq a\\right)$"
      ],
      "text/plain": [
       "$\\forall_{a, b \\in \\mathbb{R}~|~b \\leq 0} \\left(\\left(a + b\\right) \\leq a\\right)$"
      ]
     },
     "execution_count": 103,
     "metadata": {},
     "output_type": "execute_result"
    }
   ],
   "source": [
    "ineqThm6a"
   ]
  },
  {
   "cell_type": "code",
   "execution_count": 104,
   "metadata": {
    "collapsed": false
   },
   "outputs": [
    {
     "data": {
      "text/latex": [
       "$\\left(-\\frac{1}{\\varepsilon^{2}}\\right) \\leq 0$"
      ],
      "text/plain": [
       "$\\left(-\\frac{1}{\\varepsilon^{2}}\\right) \\leq 0$"
      ]
     },
     "execution_count": 104,
     "metadata": {},
     "output_type": "execute_result"
    }
   ],
   "source": [
    "deduceNegative(Y22.rhs.operands[1], {epsInDomain}).deriveRelaxed({epsInDomain})"
   ]
  },
  {
   "cell_type": "code",
   "execution_count": 105,
   "metadata": {
    "collapsed": false
   },
   "outputs": [
    {
     "data": {
      "text/latex": [
       "$\\left(\\left(2 \\cdot \\left(\\sum_{l=\\varepsilon}^{2^{t - 1} - 1} \\frac{1}{l^{2}}\\right)\\right) + \\left(-\\frac{1}{\\varepsilon^{2}}\\right)\\right) \\leq \\left(2 \\cdot \\left(\\sum_{l=\\varepsilon}^{2^{t - 1} - 1} \\frac{1}{l^{2}}\\right)\\right)$"
      ],
      "text/plain": [
       "$\\left(\\left(2 \\cdot \\left(\\sum_{l=\\varepsilon}^{2^{t - 1} - 1} \\frac{1}{l^{2}}\\right)\\right) + \\left(-\\frac{1}{\\varepsilon^{2}}\\right)\\right) \\leq \\left(2 \\cdot \\left(\\sum_{l=\\varepsilon}^{2^{t - 1} - 1} \\frac{1}{l^{2}}\\right)\\right)$"
      ]
     },
     "execution_count": 105,
     "metadata": {},
     "output_type": "execute_result"
    }
   ],
   "source": [
    "deduceInReals(Y22.rhs.operands[0], {epsInDomain})\n",
    "deduceInReals(Y22.rhs.operands[1], {epsInDomain})\n",
    "Y23 = ineqThm6a.specialize({a:Y22.rhs.operands[0], b:Y22.rhs.operands[1]})\n",
    "Y23.proven({epsInDomain})"
   ]
  },
  {
   "cell_type": "code",
   "execution_count": 106,
   "metadata": {
    "collapsed": false
   },
   "outputs": [
    {
     "data": {
      "text/latex": [
       "$\\left(2 \\cdot \\left(\\sum_{l=\\varepsilon}^{2^{t - 1} - 1} \\frac{1}{l^{2}}\\right)\\right) \\geq \\left(\\left(\\left(\\sum_{l=\\varepsilon}^{2^{t - 1} - 1} \\frac{1}{l^{2}}\\right) - \\frac{1}{\\varepsilon^{2}}\\right) + \\left(\\sum_{l=\\varepsilon}^{2^{t - 1} - 1} \\frac{1}{l^{2}}\\right)\\right)$"
      ],
      "text/plain": [
       "$\\left(2 \\cdot \\left(\\sum_{l=\\varepsilon}^{2^{t - 1} - 1} \\frac{1}{l^{2}}\\right)\\right) \\geq \\left(\\left(\\left(\\sum_{l=\\varepsilon}^{2^{t - 1} - 1} \\frac{1}{l^{2}}\\right) - \\frac{1}{\\varepsilon^{2}}\\right) + \\left(\\sum_{l=\\varepsilon}^{2^{t - 1} - 1} \\frac{1}{l^{2}}\\right)\\right)$"
      ]
     },
     "execution_count": 106,
     "metadata": {},
     "output_type": "execute_result"
    }
   ],
   "source": [
    "Y24 = Relation(Y22).update(Y23).deriveReversed()\n",
    "Y24.proven({epsInDomain})"
   ]
  },
  {
   "cell_type": "code",
   "execution_count": 107,
   "metadata": {
    "collapsed": false
   },
   "outputs": [
    {
     "data": {
      "text/latex": [
       "$\\forall_{a, b, c \\in \\mathbb{R}~|~c > 0, a \\geq b} \\left(\\left(c \\cdot a\\right) \\geq \\left(c \\cdot b\\right)\\right)$"
      ],
      "text/plain": [
       "$\\forall_{a, b, c \\in \\mathbb{R}~|~c > 0, a \\geq b} \\left(\\left(c \\cdot a\\right) \\geq \\left(c \\cdot b\\right)\\right)$"
      ]
     },
     "execution_count": 107,
     "metadata": {},
     "output_type": "execute_result"
    }
   ],
   "source": [
    "ineqThm5"
   ]
  },
  {
   "cell_type": "code",
   "execution_count": 108,
   "metadata": {
    "collapsed": false
   },
   "outputs": [
    {
     "data": {
      "text/latex": [
       "$\\left(\\frac{1}{4} \\cdot \\left(2 \\cdot \\left(\\sum_{l=\\varepsilon}^{2^{t - 1} - 1} \\frac{1}{l^{2}}\\right)\\right)\\right) \\geq \\left(\\frac{1}{4} \\cdot \\left(\\left(\\left(\\sum_{l=\\varepsilon}^{2^{t - 1} - 1} \\frac{1}{l^{2}}\\right) - \\frac{1}{\\varepsilon^{2}}\\right) + \\left(\\sum_{l=\\varepsilon}^{2^{t - 1} - 1} \\frac{1}{l^{2}}\\right)\\right)\\right)$"
      ],
      "text/plain": [
       "$\\left(\\frac{1}{4} \\cdot \\left(2 \\cdot \\left(\\sum_{l=\\varepsilon}^{2^{t - 1} - 1} \\frac{1}{l^{2}}\\right)\\right)\\right) \\geq \\left(\\frac{1}{4} \\cdot \\left(\\left(\\left(\\sum_{l=\\varepsilon}^{2^{t - 1} - 1} \\frac{1}{l^{2}}\\right) - \\frac{1}{\\varepsilon^{2}}\\right) + \\left(\\sum_{l=\\varepsilon}^{2^{t - 1} - 1} \\frac{1}{l^{2}}\\right)\\right)\\right)$"
      ]
     },
     "execution_count": 108,
     "metadata": {},
     "output_type": "execute_result"
    }
   ],
   "source": [
    "deduceInReals(Y24.lhs, {epsInDomain})\n",
    "deduceInReals(Y24.rhs, {epsInDomain})\n",
    "Y25 = ineqThm5.specialize({a:Y24.lhs, b:Y24.rhs, c:Fraction(one,four)})\n",
    "Y25.proven({epsInDomain})"
   ]
  },
  {
   "cell_type": "code",
   "execution_count": 109,
   "metadata": {
    "collapsed": false
   },
   "outputs": [
    {
     "data": {
      "text/latex": [
       "$P_{\\rm fail}\\left(\\varepsilon\\right) \\leq \\left(\\frac{1}{4} \\cdot \\left(2 \\cdot \\left(\\sum_{l=\\varepsilon}^{2^{t - 1} - 1} \\frac{1}{l^{2}}\\right)\\right)\\right)$"
      ],
      "text/plain": [
       "$P_{\\rm fail}\\left(\\varepsilon\\right) \\leq \\left(\\frac{1}{4} \\cdot \\left(2 \\cdot \\left(\\sum_{l=\\varepsilon}^{2^{t - 1} - 1} \\frac{1}{l^{2}}\\right)\\right)\\right)$"
      ]
     },
     "execution_count": 109,
     "metadata": {},
     "output_type": "execute_result"
    }
   ],
   "source": [
    "X13 = Relation(X12).update(Y25)\n",
    "X13.proven({epsInDomain})"
   ]
  },
  {
   "cell_type": "code",
   "execution_count": 110,
   "metadata": {
    "collapsed": false
   },
   "outputs": [
    {
     "data": {
      "text/latex": [
       "$P_{\\rm fail}\\left(\\varepsilon\\right) \\leq \\left(\\frac{1}{4} \\cdot 2 \\cdot \\left(\\sum_{l=\\varepsilon}^{2^{t - 1} - 1} \\frac{1}{l^{2}}\\right)\\right)$"
      ],
      "text/plain": [
       "$P_{\\rm fail}\\left(\\varepsilon\\right) \\leq \\left(\\frac{1}{4} \\cdot 2 \\cdot \\left(\\sum_{l=\\varepsilon}^{2^{t - 1} - 1} \\frac{1}{l^{2}}\\right)\\right)$"
      ]
     },
     "execution_count": 110,
     "metadata": {},
     "output_type": "execute_result"
    }
   ],
   "source": [
    "X14 = Relation(X13).update(X13.rhs.ungroup(1, assumptions=groupAndUngroupAssumptions))\n",
    "X14.proven({epsInDomain})"
   ]
  },
  {
   "cell_type": "code",
   "execution_count": 111,
   "metadata": {
    "collapsed": false
   },
   "outputs": [
    {
     "data": {
      "text/latex": [
       "$\\left(\\frac{1}{4} \\cdot 2 \\cdot \\left(\\sum_{l=\\varepsilon}^{2^{t - 1} - 1} \\frac{1}{l^{2}}\\right)\\right) = \\left(\\frac{1}{2} \\cdot \\left(\\sum_{l=\\varepsilon}^{2^{t - 1} - 1} \\frac{1}{l^{2}}\\right)\\right)$"
      ],
      "text/plain": [
       "$\\left(\\frac{1}{4} \\cdot 2 \\cdot \\left(\\sum_{l=\\varepsilon}^{2^{t - 1} - 1} \\frac{1}{l^{2}}\\right)\\right) = \\left(\\frac{1}{2} \\cdot \\left(\\sum_{l=\\varepsilon}^{2^{t - 1} - 1} \\frac{1}{l^{2}}\\right)\\right)$"
      ]
     },
     "execution_count": 111,
     "metadata": {},
     "output_type": "execute_result"
    }
   ],
   "source": [
    "Y26 = simplifyQuarterTimesTwo.rhsSubstitute(X14.rhs.group(0,2, assumptions=groupAndUngroupAssumptions))\n",
    "Y26.proven({epsInDomain})"
   ]
  },
  {
   "cell_type": "code",
   "execution_count": 112,
   "metadata": {
    "collapsed": false
   },
   "outputs": [
    {
     "data": {
      "text/latex": [
       "$P_{\\rm fail}\\left(\\varepsilon\\right) \\leq \\left(\\frac{1}{2} \\cdot \\left(\\sum_{l=\\varepsilon}^{2^{t - 1} - 1} \\frac{1}{l^{2}}\\right)\\right)$"
      ],
      "text/plain": [
       "$P_{\\rm fail}\\left(\\varepsilon\\right) \\leq \\left(\\frac{1}{2} \\cdot \\left(\\sum_{l=\\varepsilon}^{2^{t - 1} - 1} \\frac{1}{l^{2}}\\right)\\right)$"
      ]
     },
     "execution_count": 112,
     "metadata": {},
     "output_type": "execute_result"
    }
   ],
   "source": [
    "X15 = Relation(X14).update(Y26)\n",
    "X15.proven({epsInDomain})"
   ]
  },
  {
   "cell_type": "code",
   "execution_count": 113,
   "metadata": {
    "collapsed": false
   },
   "outputs": [
    {
     "data": {
      "text/latex": [
       "$\\forall_{f \\in MonDecFuncs} \\left[\\forall_{a, b \\in \\mathbb{Z}~|~a \\leq b} \\left(\\left(\\sum_{x=a}^{b} f\\left(x\\right)\\right) \\leq \\left(f\\left(a\\right) + \\int_{a}^{b}f\\left(x\\right)dx\\right)\\right)\\right]$"
      ],
      "text/plain": [
       "$\\forall_{f \\in MonDecFuncs} \\left[\\forall_{a, b \\in \\mathbb{Z}~|~a \\leq b} \\left(\\left(\\sum_{x=a}^{b} f\\left(x\\right)\\right) \\leq \\left(f\\left(a\\right) + \\int_{a}^{b}f\\left(x\\right)dx\\right)\\right)\\right]$"
      ]
     },
     "execution_count": 113,
     "metadata": {},
     "output_type": "execute_result"
    }
   ],
   "source": [
    "sumIntegrateIneq1"
   ]
  },
  {
   "cell_type": "code",
   "execution_count": 114,
   "metadata": {
    "collapsed": false
   },
   "outputs": [
    {
     "data": {
      "text/latex": [
       "$\\left[\\left(l\\right) \\rightarrow \\frac{1}{l^{2}}\\right] \\in MonDecFuncs$"
      ],
      "text/plain": [
       "$\\left[\\left(l\\right) \\rightarrow \\frac{1}{l^{2}}\\right] \\in MonDecFuncs$"
      ]
     },
     "execution_count": 114,
     "metadata": {},
     "output_type": "execute_result"
    }
   ],
   "source": [
    "inverseSqrdIsMonDecFunc"
   ]
  },
  {
   "cell_type": "code",
   "execution_count": 115,
   "metadata": {
    "collapsed": false
   },
   "outputs": [
    {
     "data": {
      "text/latex": [
       "$\\varepsilon < \\left(\\varepsilon + 1\\right)$"
      ],
      "text/plain": [
       "$\\varepsilon < \\left(\\varepsilon + 1\\right)$"
      ]
     },
     "metadata": {},
     "output_type": "display_data"
    },
    {
     "data": {
      "text/latex": [
       "$\\varepsilon \\leq \\left(2^{t - 1} - 1\\right)$"
      ],
      "text/plain": [
       "$\\varepsilon \\leq \\left(2^{t - 1} - 1\\right)$"
      ]
     },
     "execution_count": 115,
     "metadata": {},
     "output_type": "execute_result"
    }
   ],
   "source": [
    "epsLessShiftedEps = Add(eps, one).deduceStrictIncrease(0, {epsInDomain}).deriveReversed().proven({epsInDomain})\n",
    "display(epsLessShiftedEps)\n",
    "epsLessShiftedEps.applyTransitivity(shiftedEpsUpperBound).deriveRelaxed({epsInDomain}).proven({epsInDomain})"
   ]
  },
  {
   "cell_type": "code",
   "execution_count": 128,
   "metadata": {
    "collapsed": false
   },
   "outputs": [
    {
     "data": {
      "text/latex": [
       "$\\forall_{f \\in MonDecFuncs} \\left[\\forall_{a, b \\in \\mathbb{Z}~|~a \\leq b} \\left(\\left(\\sum_{x=a}^{b} f\\left(x\\right)\\right) \\leq \\left(f\\left(a\\right) + \\int_{a}^{b}f\\left(x\\right)dx\\right)\\right)\\right]$"
      ],
      "text/plain": [
       "$\\forall_{f \\in MonDecFuncs} \\left[\\forall_{a, b \\in \\mathbb{Z}~|~a \\leq b} \\left(\\left(\\sum_{x=a}^{b} f\\left(x\\right)\\right) \\leq \\left(f\\left(a\\right) + \\int_{a}^{b}f\\left(x\\right)dx\\right)\\right)\\right]$"
      ]
     },
     "execution_count": 128,
     "metadata": {},
     "output_type": "execute_result"
    }
   ],
   "source": [
    "sumIntegrateIneq1"
   ]
  },
  {
   "cell_type": "code",
   "execution_count": 116,
   "metadata": {
    "collapsed": false
   },
   "outputs": [
    {
     "data": {
      "text/latex": [
       "$\\left(\\sum_{l=\\varepsilon}^{2^{t - 1} - 1} \\frac{1}{l^{2}}\\right) \\leq \\left(\\frac{1}{\\varepsilon^{2}} + \\int_{\\varepsilon}^{2^{t - 1} - 1}\\frac{1}{l^{2}}dl\\right)$"
      ],
      "text/plain": [
       "$\\left(\\sum_{l=\\varepsilon}^{2^{t - 1} - 1} \\frac{1}{l^{2}}\\right) \\leq \\left(\\frac{1}{\\varepsilon^{2}} + \\int_{\\varepsilon}^{2^{t - 1} - 1}\\frac{1}{l^{2}}dl\\right)$"
      ]
     },
     "execution_count": 116,
     "metadata": {},
     "output_type": "execute_result"
    }
   ],
   "source": [
    "deduceInIntegers(shiftedPosDomain.lowerBound, {epsInDomain})\n",
    "deduceInIntegers(shiftedPosDomain.upperBound)\n",
    "Y27 = sumIntegrateIneq1.specialize({Operation(f,l):X15.rhs.operands[1].summand, x:l}).specialize({a:shiftedPosDomain.lowerBound,b:shiftedPosDomain.upperBound})\n",
    "Y27.proven({epsInDomain})"
   ]
  },
  {
   "cell_type": "code",
   "execution_count": 117,
   "metadata": {
    "collapsed": false
   },
   "outputs": [
    {
     "data": {
      "text/latex": [
       "$\\forall_{a, b \\in \\mathbb{R}^+~|~a \\leq b} \\left(\\int_{a}^{b}\\frac{1}{l^{2}}dl \\leq \\frac{1}{a}\\right)$"
      ],
      "text/plain": [
       "$\\forall_{a, b \\in \\mathbb{R}^+~|~a \\leq b} \\left(\\int_{a}^{b}\\frac{1}{l^{2}}dl \\leq \\frac{1}{a}\\right)$"
      ]
     },
     "execution_count": 117,
     "metadata": {},
     "output_type": "execute_result"
    }
   ],
   "source": [
    "boundedInvSqrdIntegral"
   ]
  },
  {
   "cell_type": "code",
   "execution_count": 118,
   "metadata": {
    "collapsed": false
   },
   "outputs": [
    {
     "data": {
      "text/latex": [
       "$\\varepsilon \\leq \\left(2^{t - 1} - 1\\right)$"
      ],
      "text/plain": [
       "$\\varepsilon \\leq \\left(2^{t - 1} - 1\\right)$"
      ]
     },
     "execution_count": 118,
     "metadata": {},
     "output_type": "execute_result"
    }
   ],
   "source": [
    "relaxedEpsUpperBound = Add(eps, one).deduceStrictIncrease(0, {epsInDomain}).applyTransitivity(shiftedEpsUpperBound).deriveReversed().deriveRelaxed({epsInDomain})\n",
    "relaxedEpsUpperBound.proven({epsInDomain})"
   ]
  },
  {
   "cell_type": "code",
   "execution_count": 119,
   "metadata": {
    "collapsed": false
   },
   "outputs": [
    {
     "data": {
      "text/latex": [
       "$\\left(2^{t - 1} - 1\\right) \\in \\mathbb{R}^+$"
      ],
      "text/plain": [
       "$\\left(2^{t - 1} - 1\\right) \\in \\mathbb{R}^+$"
      ]
     },
     "execution_count": 119,
     "metadata": {},
     "output_type": "execute_result"
    }
   ],
   "source": [
    "deducePositive(eps, {epsInDomain}).applyTransitivity(relaxedEpsUpperBound).proven({epsInDomain})\n",
    "deduceInRealsPos(relaxedEpsUpperBound.rhs, {epsInDomain}).proven({epsInDomain})"
   ]
  },
  {
   "cell_type": "code",
   "execution_count": 120,
   "metadata": {
    "collapsed": false
   },
   "outputs": [
    {
     "data": {
      "text/latex": [
       "$\\int_{\\varepsilon}^{2^{t - 1} - 1}\\frac{1}{l^{2}}dl \\leq \\frac{1}{\\varepsilon}$"
      ],
      "text/plain": [
       "$\\int_{\\varepsilon}^{2^{t - 1} - 1}\\frac{1}{l^{2}}dl \\leq \\frac{1}{\\varepsilon}$"
      ]
     },
     "execution_count": 120,
     "metadata": {},
     "output_type": "execute_result"
    }
   ],
   "source": [
    "Y28 = boundedInvSqrdIntegral.specialize({a:eps, b:relaxedEpsUpperBound.rhs})\n",
    "Y28.proven({epsInDomain})"
   ]
  },
  {
   "cell_type": "code",
   "execution_count": 121,
   "metadata": {
    "collapsed": false
   },
   "outputs": [
    {
     "data": {
      "text/latex": [
       "$\\left(\\int_{\\varepsilon}^{2^{t - 1} - 1}\\frac{1}{l^{2}}dl + \\frac{1}{\\varepsilon^{2}}\\right) \\leq \\left(\\frac{1}{\\varepsilon} + \\frac{1}{\\varepsilon^{2}}\\right)$"
      ],
      "text/plain": [
       "$\\left(\\int_{\\varepsilon}^{2^{t - 1} - 1}\\frac{1}{l^{2}}dl + \\frac{1}{\\varepsilon^{2}}\\right) \\leq \\left(\\frac{1}{\\varepsilon} + \\frac{1}{\\varepsilon^{2}}\\right)$"
      ]
     },
     "execution_count": 121,
     "metadata": {},
     "output_type": "execute_result"
    }
   ],
   "source": [
    "lLowerBound = Y28.lhs.domain.deduceMemberLowerBound(l, {epsInDomain})\n",
    "lLowerBound.deriveReversed().applyTransitivity(deducePositive(eps, {epsInDomain})).proven({epsInDomain, In(l, Y28.lhs.domain)})\n",
    "Y29 = Y28.deriveShifted(Fraction(one, Exponentiate(eps, two)), assumptions={epsInDomain})\n",
    "Y29.proven({epsInDomain})"
   ]
  },
  {
   "cell_type": "code",
   "execution_count": 122,
   "metadata": {
    "collapsed": false
   },
   "outputs": [
    {
     "data": {
      "text/latex": [
       "$\\left(\\sum_{l=\\varepsilon}^{2^{t - 1} - 1} \\frac{1}{l^{2}}\\right) \\leq \\left(\\frac{1}{\\varepsilon} + \\frac{1}{\\varepsilon^{2}}\\right)$"
      ],
      "text/plain": [
       "$\\left(\\sum_{l=\\varepsilon}^{2^{t - 1} - 1} \\frac{1}{l^{2}}\\right) \\leq \\left(\\frac{1}{\\varepsilon} + \\frac{1}{\\varepsilon^{2}}\\right)$"
      ]
     },
     "execution_count": 122,
     "metadata": {},
     "output_type": "execute_result"
    }
   ],
   "source": [
    "Y30 = autoSubstitute(Y29, 'commute', [], {'assumptions':{epsInDomain}}, superExpr=Y29.lhs).applyTransitivity(Y27)\n",
    "Y30.proven({epsInDomain})"
   ]
  },
  {
   "cell_type": "code",
   "execution_count": 123,
   "metadata": {
    "collapsed": false
   },
   "outputs": [
    {
     "data": {
      "text/latex": [
       "$\\forall_{a, b, c \\in \\mathbb{R}~|~c > 0, a \\geq b} \\left(\\left(c \\cdot a\\right) \\geq \\left(c \\cdot b\\right)\\right)$"
      ],
      "text/plain": [
       "$\\forall_{a, b, c \\in \\mathbb{R}~|~c > 0, a \\geq b} \\left(\\left(c \\cdot a\\right) \\geq \\left(c \\cdot b\\right)\\right)$"
      ]
     },
     "execution_count": 123,
     "metadata": {},
     "output_type": "execute_result"
    }
   ],
   "source": [
    "ineqThm5"
   ]
  },
  {
   "cell_type": "code",
   "execution_count": 124,
   "metadata": {
    "collapsed": false
   },
   "outputs": [
    {
     "data": {
      "text/latex": [
       "$\\left(\\frac{1}{2} \\cdot \\left(\\frac{1}{\\varepsilon} + \\frac{1}{\\varepsilon^{2}}\\right)\\right) \\geq \\left(\\frac{1}{2} \\cdot \\left(\\sum_{l=\\varepsilon}^{2^{t - 1} - 1} \\frac{1}{l^{2}}\\right)\\right)$"
      ],
      "text/plain": [
       "$\\left(\\frac{1}{2} \\cdot \\left(\\frac{1}{\\varepsilon} + \\frac{1}{\\varepsilon^{2}}\\right)\\right) \\geq \\left(\\frac{1}{2} \\cdot \\left(\\sum_{l=\\varepsilon}^{2^{t - 1} - 1} \\frac{1}{l^{2}}\\right)\\right)$"
      ]
     },
     "execution_count": 124,
     "metadata": {},
     "output_type": "execute_result"
    }
   ],
   "source": [
    "Y30.deriveReversed().proven({epsInDomain})\n",
    "deduceInReals(Fraction(one,two))\n",
    "deducePositive(Fraction(one, two))\n",
    "deduceInReals(Y30.lhs, {epsInDomain})\n",
    "deduceInReals(Y30.rhs, {epsInDomain})\n",
    "Y31 = ineqThm5.specialize({a:Y30.rhs, b:Y30.lhs, c:Fraction(one,two)})\n",
    "Y31.proven({epsInDomain})"
   ]
  },
  {
   "cell_type": "code",
   "execution_count": 125,
   "metadata": {
    "collapsed": false
   },
   "outputs": [
    {
     "data": {
      "text/latex": [
       "$P_{\\rm fail}\\left(\\varepsilon\\right) \\leq \\left(\\frac{1}{2} \\cdot \\left(\\frac{1}{\\varepsilon} + \\frac{1}{\\varepsilon^{2}}\\right)\\right)$"
      ],
      "text/plain": [
       "$P_{\\rm fail}\\left(\\varepsilon\\right) \\leq \\left(\\frac{1}{2} \\cdot \\left(\\frac{1}{\\varepsilon} + \\frac{1}{\\varepsilon^{2}}\\right)\\right)$"
      ]
     },
     "execution_count": 125,
     "metadata": {},
     "output_type": "execute_result"
    }
   ],
   "source": [
    "X16 = Relation(X15).update(Y31)\n",
    "X16.proven({epsInDomain})"
   ]
  },
  {
   "cell_type": "code",
   "execution_count": 126,
   "metadata": {
    "collapsed": false
   },
   "outputs": [
    {
     "name": "stdout",
     "output_type": "stream",
     "text": [
      "root forall_{eps in \\{1...(2^(t - 1) - 2)\\}} (Pfail(eps) <= (1 / 2 * (1 / eps + 1 / eps^(2)))) \n",
      "  generalizing Pfail(eps) <= (1 / 2 * (1 / eps + 1 / eps^(2)))  assuming eps in \\{1...(2^(t - 1) - 2)\\} \n",
      "    implication ((1 / 2 * (Summation_{l=eps}^{2^(t - 1) - 1} 1 / l^(2))) <= (1 / 2 * (1 / eps + 1 / eps^(2)))) => (Pfail(eps) <= (1 / 2 * (1 / eps + 1 / eps^(2))))  assuming eps in \\{1...(2^(t - 1) - 2)\\} \n",
      "      implication (Pfail(eps) <= (1 / 2 * (Summation_{l=eps}^{2^(t - 1) - 1} 1 / l^(2)))) => (((1 / 2 * (Summation_{l=eps}^{2^(t - 1) - 1} 1 / l^(2))) <= (1 / 2 * (1 / eps + 1 / eps^(2)))) => (Pfail(eps) <= (1 / 2 * (1 / eps + 1 / eps^(2))))) \n",
      "        specializing forall_{x, y, z} ((x <= y) => ((y <= z) => (x <= z))) \n",
      "          by axiom proveit.number.lessThanEqualsTransLessThanEqualsRight\n",
      "      hypothesis Pfail(eps) <= (1 / 2 * (Summation_{l=eps}^{2^(t - 1) - 1} 1 / l^(2)))  assuming eps in \\{1...(2^(t - 1) - 2)\\} \n",
      "        implication (Pfail(eps) <= (1 / 4 * 2 * (Summation_{l=eps}^{2^(t - 1) - 1} 1 / l^(2)))) => (Pfail(eps) <= (1 / 2 * (Summation_{l=eps}^{2^(t - 1) - 1} 1 / l^(2))))  assuming eps in \\{1...(2^(t - 1) - 2)\\} \n",
      "          implication ((1 / 4 * 2 * (Summation_{l=eps}^{2^(t - 1) - 1} 1 / l^(2))) = (1 / 2 * (Summation_{l=eps}^{2^(t - 1) - 1} 1 / l^(2)))) => ((Pfail(eps) <= (1 / 4 * 2 * (Summation_{l=eps}^{2^(t - 1) - 1} 1 / l^(2)))) => (Pfail(eps) <= (1 / 2 * (Summation_{l=eps}^{2^(t - 1) - 1} 1 / l^(2))))) \n",
      "            specializing forall_{P, x, y} ((x = y) => (P(x) => P(y))) \n",
      "              by theorem proveit.basiclogic.equality.rhsSubstitution\n",
      "          hypothesis (1 / 4 * 2 * (Summation_{l=eps}^{2^(t - 1) - 1} 1 / l^(2))) = (1 / 2 * (Summation_{l=eps}^{2^(t - 1) - 1} 1 / l^(2)))  assuming eps in \\{1...(2^(t - 1) - 2)\\} \n",
      "            implication ((1 / 4 * 2 * (Summation_{l=eps}^{2^(t - 1) - 1} 1 / l^(2))) = ((1 / 4 * 2) * (Summation_{l=eps}^{2^(t - 1) - 1} 1 / l^(2)))) => ((1 / 4 * 2 * (Summation_{l=eps}^{2^(t - 1) - 1} 1 / l^(2))) = (1 / 2 * (Summation_{l=eps}^{2^(t - 1) - 1} 1 / l^(2)))) \n",
      "              implication ((1 / 4 * 2) = 1 / 2) => (((1 / 4 * 2 * (Summation_{l=eps}^{2^(t - 1) - 1} 1 / l^(2))) = ((1 / 4 * 2) * (Summation_{l=eps}^{2^(t - 1) - 1} 1 / l^(2)))) => ((1 / 4 * 2 * (Summation_{l=eps}^{2^(t - 1) - 1} 1 / l^(2))) = (1 / 2 * (Summation_{l=eps}^{2^(t - 1) - 1} 1 / l^(2))))) \n",
      "                specializing forall_{P, x, y} ((x = y) => (P(x) => P(y)))  proven above\n",
      "              hypothesis (1 / 4 * 2) = 1 / 2 \n",
      "                by theorem proveit.number.real.simplifyQuarterTimesTwo\n",
      "            hypothesis (1 / 4 * 2 * (Summation_{l=eps}^{2^(t - 1) - 1} 1 / l^(2))) = ((1 / 4 * 2) * (Summation_{l=eps}^{2^(t - 1) - 1} 1 / l^(2)))  assuming eps in \\{1...(2^(t - 1) - 2)\\} \n",
      "              specializing forall_{..x.., ..y.., ..z.. in Complexes} (( .. * x * ... * y * ... * z * .. ) = ( .. * x * ..  * ( .. * y * .. ) *  .. * z * .. )) \n",
      "                by theorem proveit.number.complex.multAssoc\n",
      "              condition 1 / 4 in Complexes \n",
      "                specializing forall_{a in RealsPos} (a in Complexes) \n",
      "                  by theorem proveit.number.real.inRealsPos_inComplexes\n",
      "                condition 1 / 4 in RealsPos \n",
      "                  specializing forall_{a, b in RealsPos | b != 0} (a / b in RealsPos) \n",
      "                    by theorem proveit.number.real.fractionPosClosure\n",
      "                  condition 4 != 0 \n",
      "                    specializing forall_{a in Reals | a > 0} (a != 0) \n",
      "                      by theorem proveit.number.real.positive_implies_notzero\n",
      "                    condition 4 > 0 \n",
      "                      implication (4 in RealsPos) => (4 > 0) \n",
      "                        implication ((4 in RealsPos) <=> (4 > 0)) => ((4 in RealsPos) => (4 > 0)) \n",
      "                          specializing forall_{A, B} ((A <=> B) => (A => B)) \n",
      "                            by theorem proveit.basiclogic.boolean.iffImpliesRight\n",
      "                        hypothesis (4 in RealsPos) <=> (4 > 0) \n",
      "                          specializing forall_{a in Reals} ((a in RealsPos) <=> (a > 0)) \n",
      "                            by theorem proveit.number.real.inRealsPos_iff_positive\n",
      "                          condition 4 in Reals \n",
      "                            specializing forall_{a in NaturalsPos} (a in Reals) \n",
      "                              by theorem proveit.number.natural.inNatPos_inReals\n",
      "                            condition 4 in NaturalsPos \n",
      "                              by theorem proveit.number.natural.fourInNaturalsPos\n",
      "                      hypothesis 4 in RealsPos \n",
      "                        specializing forall_{a in NaturalsPos} (a in RealsPos) \n",
      "                          by theorem proveit.number.natural.inNatPos_inRealsPos\n",
      "                        condition 4 in NaturalsPos  proven above\n",
      "                    condition 4 in Reals  proven above\n",
      "                  condition 1 in RealsPos \n",
      "                    specializing forall_{a in NaturalsPos} (a in RealsPos)  proven above\n",
      "                    condition 1 in NaturalsPos \n",
      "                  condition 4 in RealsPos  proven above\n",
      "              condition (Summation_{l=eps}^{2^(t - 1) - 1} 1 / l^(2)) in Complexes  assuming eps in \\{1...(2^(t - 1) - 2)\\} \n",
      "                specializing forall_{a in Reals} (a in Complexes) \n",
      "                  by theorem proveit.number.real.inComplexes\n",
      "                condition (Summation_{l=eps}^{2^(t - 1) - 1} 1 / l^(2)) in Reals  assuming eps in \\{1...(2^(t - 1) - 2)\\} \n",
      "                  implication [forall_{l in \\{eps...(2^(t - 1) - 1)\\}} (1 / l^(2) in Reals)] => ((Summation_{l=eps}^{2^(t - 1) - 1} 1 / l^(2)) in Reals) \n",
      "                    specializing forall_{P, S} ([forall_{..x.. in S} (P(..x..) in Reals)] => ([Summation_{..x.. in S} P(..x..)] in Reals)) \n",
      "                      by theorem proveit.number.real.summationClosure\n",
      "                  hypothesis forall_{l in \\{eps...(2^(t - 1) - 1)\\}} (1 / l^(2) in Reals)  assuming eps in \\{1...(2^(t - 1) - 2)\\} \n",
      "                    generalizing 1 / l^(2) in Reals  assuming l in \\{eps...(2^(t - 1) - 1)\\}, eps in \\{1...(2^(t - 1) - 2)\\} \n",
      "                      specializing forall_{a in RealsPos} (a in Reals) \n",
      "                        by theorem proveit.number.real.inRealsPos_inReals\n",
      "                      condition 1 / l^(2) in RealsPos  assuming l in \\{eps...(2^(t - 1) - 1)\\}, eps in \\{1...(2^(t - 1) - 2)\\} \n",
      "                        specializing forall_{a, b in RealsPos | b != 0} (a / b in RealsPos)  proven above\n",
      "                        condition l^(2) != 0  assuming l in \\{eps...(2^(t - 1) - 1)\\}, eps in \\{1...(2^(t - 1) - 2)\\} \n",
      "                          specializing forall_{a, b in Complexes | a != 0} (a^(b) != 0) \n",
      "                            by theorem proveit.number.complex.powNotEqZero\n",
      "                          condition 2 in Complexes \n",
      "                            specializing forall_{a in NaturalsPos} (a in Complexes) \n",
      "                              by theorem proveit.number.natural.inNatPos_inComplexes\n",
      "                            condition 2 in NaturalsPos \n",
      "                              by theorem proveit.number.natural.twoInNaturalsPos\n",
      "                          condition l != 0  assuming l in \\{eps...(2^(t - 1) - 1)\\}, eps in \\{1...(2^(t - 1) - 2)\\} \n",
      "                            specializing forall_{a in Reals | a > 0} (a != 0)  proven above\n",
      "                            condition l > 0  assuming l in \\{eps...(2^(t - 1) - 1)\\}, eps in \\{1...(2^(t - 1) - 2)\\} \n",
      "                              implication (eps > 0) => (l > 0)  assuming l in \\{eps...(2^(t - 1) - 1)\\}, eps in \\{1...(2^(t - 1) - 2)\\} \n",
      "                                implication (l >= eps) => ((eps > 0) => (l > 0)) \n",
      "                                  specializing forall_{x, y, z} ((x >= y) => ((y > z) => (x > z))) \n",
      "                                    by axiom proveit.number.greaterThanEqualsTransGreaterThanRight\n",
      "                                hypothesis l >= eps  assuming l in \\{eps...(2^(t - 1) - 1)\\}, eps in \\{1...(2^(t - 1) - 2)\\} \n",
      "                                  implication (eps <= l) => (l >= eps) \n",
      "                                    specializing forall_{x, y} ((x <= y) => (y >= x)) \n",
      "                                      by axiom proveit.number.reverseLessThanEquals\n",
      "                                  hypothesis eps <= l  assuming l in \\{eps...(2^(t - 1) - 1)\\}, eps in \\{1...(2^(t - 1) - 2)\\} \n",
      "                                    specializing forall_{n in \\{eps...(2^(t - 1) - 1)\\}} (eps <= n)  assuming eps in \\{1...(2^(t - 1) - 2)\\} \n",
      "                                      specializing forall_{a, b in Integers} [forall_{n in \\{a...b\\}} (a <= n)] \n",
      "                                        by theorem proveit.number.integer.intervalLowerBound\n",
      "                                      condition eps in Integers  assuming eps in \\{1...(2^(t - 1) - 2)\\} \n",
      "                                        specializing forall_{a in NaturalsPos} (a in Integers) \n",
      "                                          by theorem proveit.number.natural.inNatPos_inIntegers\n",
      "                                        condition eps in NaturalsPos  assuming eps in \\{1...(2^(t - 1) - 2)\\} \n",
      "                                          specializing forall_{n in \\{1...(2^(t - 1) - 2)\\}} (n in NaturalsPos) \n",
      "                                            specializing forall_{a, b in Integers | a > 0} [forall_{n in \\{a...b\\}} (n in NaturalsPos)] \n",
      "                                              by theorem proveit.number.natural.allInDiscreteInterval_InNatsPos\n",
      "                                            condition 1 > 0 \n",
      "                                              implication (1 in RealsPos) => (1 > 0) \n",
      "                                                implication ((1 in RealsPos) <=> (1 > 0)) => ((1 in RealsPos) => (1 > 0)) \n",
      "                                                  specializing forall_{A, B} ((A <=> B) => (A => B))  proven above\n",
      "                                                hypothesis (1 in RealsPos) <=> (1 > 0) \n",
      "                                                  specializing forall_{a in Reals} ((a in RealsPos) <=> (a > 0))  proven above\n",
      "                                                  condition 1 in Reals \n",
      "                                                    specializing forall_{a in NaturalsPos} (a in Reals)  proven above\n",
      "                                                    condition 1 in NaturalsPos  proven above\n",
      "                                              hypothesis 1 in RealsPos  proven above\n",
      "                                            condition 1 in Integers \n",
      "                                              specializing forall_{a in NaturalsPos} (a in Integers)  proven above\n",
      "                                              condition 1 in NaturalsPos  proven above\n",
      "                                            condition (2^(t - 1) - 2) in Integers \n",
      "                                              specializing forall_{a, b in Integers} ((a - b) in Integers) \n",
      "                                                by theorem proveit.number.integer.subtractClosure\n",
      "                                              condition 2^(t - 1) in Integers \n",
      "                                                specializing forall_{a in NaturalsPos} (a in Integers)  proven above\n",
      "                                                condition 2^(t - 1) in NaturalsPos \n",
      "                                                  by theorem proveit.physics.quantum.QPE.two_pow_tMinusOne_in_posnats\n",
      "                                              condition 2 in Integers \n",
      "                                                specializing forall_{a in NaturalsPos} (a in Integers)  proven above\n",
      "                                                condition 2 in NaturalsPos  proven above\n",
      "                                          condition eps in \\{1...(2^(t - 1) - 2)\\}  assuming eps in \\{1...(2^(t - 1) - 2)\\} \n",
      "                                      condition (2^(t - 1) - 1) in Integers  assuming eps in \\{1...(2^(t - 1) - 2)\\} \n",
      "                                        specializing forall_{a in Naturals} (a in Integers) \n",
      "                                          by theorem proveit.number.natural.inIntegers\n",
      "                                        condition (2^(t - 1) - 1) in Naturals  assuming eps in \\{1...(2^(t - 1) - 2)\\} \n",
      "                                          specializing forall_{a, b in Integers | a >= b} ((a - b) in Naturals) \n",
      "                                            by theorem proveit.number.integer.subtractClosureNats\n",
      "                                          condition 1 in Integers  proven above\n",
      "                                          condition 2^(t - 1) >= 1 \n",
      "                                            specializing forall_{n in NaturalsPos} (n >= 1) \n",
      "                                              by theorem proveit.number.natural.naturalsPosLowerBound\n",
      "                                            condition 2^(t - 1) in NaturalsPos  proven above\n",
      "                                          condition 2^(t - 1) in Integers  assuming eps in \\{1...(2^(t - 1) - 2)\\} \n",
      "                                            specializing forall_{a in NaturalsPos} (a in Integers)  proven above\n",
      "                                            condition 2^(t - 1) in NaturalsPos  proven above\n",
      "                                    condition l in \\{eps...(2^(t - 1) - 1)\\}  assuming l in \\{eps...(2^(t - 1) - 1)\\} \n",
      "                              hypothesis eps > 0  assuming eps in \\{1...(2^(t - 1) - 2)\\} \n",
      "                                implication (eps in RealsPos) => (eps > 0)  assuming eps in \\{1...(2^(t - 1) - 2)\\} \n",
      "                                  implication ((eps in RealsPos) <=> (eps > 0)) => ((eps in RealsPos) => (eps > 0)) \n",
      "                                    specializing forall_{A, B} ((A <=> B) => (A => B))  proven above\n",
      "                                  hypothesis (eps in RealsPos) <=> (eps > 0)  assuming eps in \\{1...(2^(t - 1) - 2)\\} \n",
      "                                    specializing forall_{a in Reals} ((a in RealsPos) <=> (a > 0))  proven above\n",
      "                                    condition eps in Reals  assuming eps in \\{1...(2^(t - 1) - 2)\\} \n",
      "                                      specializing forall_{a in NaturalsPos} (a in Reals)  proven above\n",
      "                                      condition eps in NaturalsPos  assuming eps in \\{1...(2^(t - 1) - 2)\\}  proven above\n",
      "                                hypothesis eps in RealsPos  assuming eps in \\{1...(2^(t - 1) - 2)\\} \n",
      "                                  specializing forall_{a in NaturalsPos} (a in RealsPos)  proven above\n",
      "                                  condition eps in NaturalsPos  assuming eps in \\{1...(2^(t - 1) - 2)\\}  proven above\n",
      "                            condition l in Reals  assuming l in \\{eps...(2^(t - 1) - 1)\\}, eps in \\{1...(2^(t - 1) - 2)\\} \n",
      "                              specializing forall_{a in Integers} (a in Reals) \n",
      "                                by theorem proveit.number.integer.inReals\n",
      "                              condition l in Integers  assuming l in \\{eps...(2^(t - 1) - 1)\\}, eps in \\{1...(2^(t - 1) - 2)\\} \n",
      "                                specializing forall_{n in \\{eps...(2^(t - 1) - 1)\\}} (n in Integers)  assuming eps in \\{1...(2^(t - 1) - 2)\\} \n",
      "                                  specializing forall_{a, b in Integers} [forall_{n in \\{a...b\\}} (n in Integers)] \n",
      "                                    by theorem proveit.number.integer.allInDiscreteInterval_InInts\n",
      "                                  condition eps in Integers  assuming eps in \\{1...(2^(t - 1) - 2)\\}  proven above\n",
      "                                  condition (2^(t - 1) - 1) in Integers  assuming eps in \\{1...(2^(t - 1) - 2)\\}  proven above\n",
      "                                condition l in \\{eps...(2^(t - 1) - 1)\\}  assuming l in \\{eps...(2^(t - 1) - 1)\\}  proven above\n",
      "                          condition l in Complexes  assuming l in \\{eps...(2^(t - 1) - 1)\\}, eps in \\{1...(2^(t - 1) - 2)\\} \n",
      "                            specializing forall_{a in Integers} (a in Complexes) \n",
      "                              by theorem proveit.number.integer.inComplexes\n",
      "                            condition l in Integers  assuming l in \\{eps...(2^(t - 1) - 1)\\}, eps in \\{1...(2^(t - 1) - 2)\\}  proven above\n",
      "                        condition l^(2) in RealsPos  assuming l in \\{eps...(2^(t - 1) - 1)\\}, eps in \\{1...(2^(t - 1) - 2)\\} \n",
      "                          specializing forall_{a in Reals | a != 0} (a^(2) in RealsPos) \n",
      "                            by theorem proveit.number.real.sqrdClosure\n",
      "                          condition l != 0  assuming l in \\{eps...(2^(t - 1) - 1)\\}, eps in \\{1...(2^(t - 1) - 2)\\}  proven above\n",
      "                          condition l in Reals  assuming l in \\{eps...(2^(t - 1) - 1)\\}, eps in \\{1...(2^(t - 1) - 2)\\}  proven above\n",
      "                        condition 1 in RealsPos  proven above\n",
      "              condition 2 in Complexes  proven above\n",
      "        hypothesis Pfail(eps) <= (1 / 4 * 2 * (Summation_{l=eps}^{2^(t - 1) - 1} 1 / l^(2)))  assuming eps in \\{1...(2^(t - 1) - 2)\\} \n",
      "          implication (Pfail(eps) <= (1 / 4 * (2 * (Summation_{l=eps}^{2^(t - 1) - 1} 1 / l^(2))))) => (Pfail(eps) <= (1 / 4 * 2 * (Summation_{l=eps}^{2^(t - 1) - 1} 1 / l^(2))))  assuming eps in \\{1...(2^(t - 1) - 2)\\} \n",
      "            implication ((1 / 4 * (2 * (Summation_{l=eps}^{2^(t - 1) - 1} 1 / l^(2)))) = (1 / 4 * 2 * (Summation_{l=eps}^{2^(t - 1) - 1} 1 / l^(2)))) => ((Pfail(eps) <= (1 / 4 * (2 * (Summation_{l=eps}^{2^(t - 1) - 1} 1 / l^(2))))) => (Pfail(eps) <= (1 / 4 * 2 * (Summation_{l=eps}^{2^(t - 1) - 1} 1 / l^(2))))) \n",
      "              specializing forall_{P, x, y} ((x = y) => (P(x) => P(y)))  proven above\n",
      "            hypothesis (1 / 4 * (2 * (Summation_{l=eps}^{2^(t - 1) - 1} 1 / l^(2)))) = (1 / 4 * 2 * (Summation_{l=eps}^{2^(t - 1) - 1} 1 / l^(2)))  assuming eps in \\{1...(2^(t - 1) - 2)\\} \n",
      "              specializing forall_{..x.., ..y.., ..z.. in Complexes} (( .. * x * ..  * ( .. * y * .. ) *  .. * z * .. ) = ( .. * x * ... * y * ... * z * .. )) \n",
      "                by theorem proveit.number.complex.multAssocRev\n",
      "              condition 1 / 4 in Complexes  proven above\n",
      "              condition (Summation_{l=eps}^{2^(t - 1) - 1} 1 / l^(2)) in Complexes  assuming eps in \\{1...(2^(t - 1) - 2)\\}  proven above\n",
      "              condition 2 in Complexes  proven above\n",
      "          hypothesis Pfail(eps) <= (1 / 4 * (2 * (Summation_{l=eps}^{2^(t - 1) - 1} 1 / l^(2))))  assuming eps in \\{1...(2^(t - 1) - 2)\\} \n",
      "            implication ((1 / 4 * (((Summation_{l=eps}^{2^(t - 1) - 1} 1 / l^(2)) - 1 / eps^(2)) + (Summation_{l=eps}^{2^(t - 1) - 1} 1 / l^(2)))) <= (1 / 4 * (2 * (Summation_{l=eps}^{2^(t - 1) - 1} 1 / l^(2))))) => (Pfail(eps) <= (1 / 4 * (2 * (Summation_{l=eps}^{2^(t - 1) - 1} 1 / l^(2)))))  assuming eps in \\{1...(2^(t - 1) - 2)\\} \n",
      "              implication (Pfail(eps) <= (1 / 4 * (((Summation_{l=eps}^{2^(t - 1) - 1} 1 / l^(2)) - 1 / eps^(2)) + (Summation_{l=eps}^{2^(t - 1) - 1} 1 / l^(2))))) => (((1 / 4 * (((Summation_{l=eps}^{2^(t - 1) - 1} 1 / l^(2)) - 1 / eps^(2)) + (Summation_{l=eps}^{2^(t - 1) - 1} 1 / l^(2)))) <= (1 / 4 * (2 * (Summation_{l=eps}^{2^(t - 1) - 1} 1 / l^(2))))) => (Pfail(eps) <= (1 / 4 * (2 * (Summation_{l=eps}^{2^(t - 1) - 1} 1 / l^(2)))))) \n",
      "                specializing forall_{x, y, z} ((x <= y) => ((y <= z) => (x <= z)))  proven above\n",
      "              hypothesis Pfail(eps) <= (1 / 4 * (((Summation_{l=eps}^{2^(t - 1) - 1} 1 / l^(2)) - 1 / eps^(2)) + (Summation_{l=eps}^{2^(t - 1) - 1} 1 / l^(2))))  assuming eps in \\{1...(2^(t - 1) - 2)\\} \n",
      "                implication (Pfail(eps) <= (1 / 4 * (((Summation_{l=(eps + 1) - 1}^{2^(t - 1) - 1} 1 / l^(2)) - 1 / ((eps + 1) - 1)^(2)) + (Summation_{l=eps}^{2^(t - 1) - 1} 1 / l^(2))))) => (Pfail(eps) <= (1 / 4 * (((Summation_{l=eps}^{2^(t - 1) - 1} 1 / l^(2)) - 1 / eps^(2)) + (Summation_{l=eps}^{2^(t - 1) - 1} 1 / l^(2)))))  assuming eps in \\{1...(2^(t - 1) - 2)\\} \n",
      "                  implication (eps = ((eps + 1) - 1)) => ((Pfail(eps) <= (1 / 4 * (((Summation_{l=(eps + 1) - 1}^{2^(t - 1) - 1} 1 / l^(2)) - 1 / ((eps + 1) - 1)^(2)) + (Summation_{l=eps}^{2^(t - 1) - 1} 1 / l^(2))))) => (Pfail(eps) <= (1 / 4 * (((Summation_{l=eps}^{2^(t - 1) - 1} 1 / l^(2)) - 1 / eps^(2)) + (Summation_{l=eps}^{2^(t - 1) - 1} 1 / l^(2)))))) \n",
      "                    specializing forall_{P, x, y} ((x = y) => (P(y) => P(x))) \n",
      "                      by theorem proveit.basiclogic.equality.lhsSubstitution\n",
      "                  hypothesis eps = ((eps + 1) - 1)  assuming eps in \\{1...(2^(t - 1) - 2)\\} \n",
      "                    implication (((eps + 1) + (-1)) = ((eps + 1) - 1)) => (eps = ((eps + 1) - 1))  assuming eps in \\{1...(2^(t - 1) - 2)\\} \n",
      "                      implication (((eps + 1) + (-1)) = eps) => ((((eps + 1) + (-1)) = ((eps + 1) - 1)) => (eps = ((eps + 1) - 1))) \n",
      "                        specializing forall_{P, x, y} ((x = y) => (P(x) => P(y)))  proven above\n",
      "                      hypothesis ((eps + 1) + (-1)) = eps  assuming eps in \\{1...(2^(t - 1) - 2)\\} \n",
      "                        specializing forall_{a, b in Complexes} (((a + b) + (-b)) = a) \n",
      "                          by theorem proveit.number.complex.cancelAddNeg\n",
      "                        condition 1 in Complexes \n",
      "                          specializing forall_{a in NaturalsPos} (a in Complexes)  proven above\n",
      "                          condition 1 in NaturalsPos  proven above\n",
      "                        condition eps in Complexes  assuming eps in \\{1...(2^(t - 1) - 2)\\} \n",
      "                          specializing forall_{a in NaturalsPos} (a in Complexes)  proven above\n",
      "                          condition eps in NaturalsPos  assuming eps in \\{1...(2^(t - 1) - 2)\\}  proven above\n",
      "                    hypothesis ((eps + 1) + (-1)) = ((eps + 1) - 1)  assuming eps in \\{1...(2^(t - 1) - 2)\\} \n",
      "                      specializing forall_{a, b in Complexes} ((a + (-b)) = (a - b)) \n",
      "                        by theorem proveit.number.complex.convertAddNegToSub\n",
      "                      condition (eps + 1) in Complexes  assuming eps in \\{1...(2^(t - 1) - 2)\\} \n",
      "                        specializing forall_{a in NaturalsPos} (a in Complexes)  proven above\n",
      "                        condition (eps + 1) in NaturalsPos  assuming eps in \\{1...(2^(t - 1) - 2)\\} \n",
      "                          specializing forall_{..a.., b, ..c.. in Naturals | b > 0} (( .. + a + ..  + b +  .. + c + .. ) in NaturalsPos) \n",
      "                            by theorem proveit.number.natural.sumInNatsPos\n",
      "                          condition 1 in Naturals \n",
      "                          condition eps > 0  assuming eps in \\{1...(2^(t - 1) - 2)\\}  proven above\n",
      "                          condition eps in Naturals  assuming eps in \\{1...(2^(t - 1) - 2)\\} \n",
      "                            specializing forall_{a in NaturalsPos} (a in Naturals) \n",
      "                              by theorem proveit.number.natural.inNatPos_inNaturals\n",
      "                            condition eps in NaturalsPos  assuming eps in \\{1...(2^(t - 1) - 2)\\}  proven above\n",
      "                      condition 1 in Complexes  proven above\n",
      "                hypothesis Pfail(eps) <= (1 / 4 * (((Summation_{l=(eps + 1) - 1}^{2^(t - 1) - 1} 1 / l^(2)) - 1 / ((eps + 1) - 1)^(2)) + (Summation_{l=eps}^{2^(t - 1) - 1} 1 / l^(2))))  assuming eps in \\{1...(2^(t - 1) - 2)\\} \n",
      "                  implication (Pfail(eps) <= (1 / 4 * ((Summation_{l=eps + 1}^{2^(t - 1) - 1} 1 / l^(2)) + (Summation_{l=eps}^{2^(t - 1) - 1} 1 / l^(2))))) => (Pfail(eps) <= (1 / 4 * (((Summation_{l=(eps + 1) - 1}^{2^(t - 1) - 1} 1 / l^(2)) - 1 / ((eps + 1) - 1)^(2)) + (Summation_{l=eps}^{2^(t - 1) - 1} 1 / l^(2)))))  assuming eps in \\{1...(2^(t - 1) - 2)\\} \n",
      "                    implication ((Summation_{l=eps + 1}^{2^(t - 1) - 1} 1 / l^(2)) = ((Summation_{l=(eps + 1) - 1}^{2^(t - 1) - 1} 1 / l^(2)) - 1 / ((eps + 1) - 1)^(2))) => ((Pfail(eps) <= (1 / 4 * ((Summation_{l=eps + 1}^{2^(t - 1) - 1} 1 / l^(2)) + (Summation_{l=eps}^{2^(t - 1) - 1} 1 / l^(2))))) => (Pfail(eps) <= (1 / 4 * (((Summation_{l=(eps + 1) - 1}^{2^(t - 1) - 1} 1 / l^(2)) - 1 / ((eps + 1) - 1)^(2)) + (Summation_{l=eps}^{2^(t - 1) - 1} 1 / l^(2)))))) \n",
      "                      specializing forall_{P, x, y} ((x = y) => (P(x) => P(y)))  proven above\n",
      "                    hypothesis (Summation_{l=eps + 1}^{2^(t - 1) - 1} 1 / l^(2)) = ((Summation_{l=(eps + 1) - 1}^{2^(t - 1) - 1} 1 / l^(2)) - 1 / ((eps + 1) - 1)^(2))  assuming eps in \\{1...(2^(t - 1) - 2)\\} \n",
      "                      specializing forall_{a, b in Integers | a <= b} ((Summation_{l=a}^{b} 1 / l^(2)) = ((Summation_{l=a - 1}^{b} 1 / l^(2)) - 1 / (a - 1)^(2))) \n",
      "                        specializing forall_{f} [forall_{a, b in Integers | a <= b} ((Summation_{l=a}^{b} f(l)) = ((Summation_{l=a - 1}^{b} f(l)) - f(a - 1)))] \n",
      "                          by theorem proveit.number.splitSumOneElem\n",
      "                      condition (2^(t - 1) - 1) in Integers  assuming eps in \\{1...(2^(t - 1) - 2)\\}  proven above\n",
      "                      condition (eps + 1) <= (2^(t - 1) - 1)  assuming eps in \\{1...(2^(t - 1) - 2)\\} \n",
      "                        implication ((eps + 1) <= ((2^(t - 1) - 2) + 1)) => ((eps + 1) <= (2^(t - 1) - 1)) \n",
      "                          implication (((2^(t - 1) - 2) + 1) = (2^(t - 1) - 1)) => (((eps + 1) <= ((2^(t - 1) - 2) + 1)) => ((eps + 1) <= (2^(t - 1) - 1))) \n",
      "                            specializing forall_{P, x, y} ((x = y) => (P(x) => P(y)))  proven above\n",
      "                          hypothesis ((2^(t - 1) - 2) + 1) = (2^(t - 1) - 1) \n",
      "                            specializing forall_{a in Complexes} (((a - 2) + 1) = (a - 1)) \n",
      "                              by theorem proveit.number.complex.temporarySpecialCaseCancellation\n",
      "                            condition 2^(t - 1) in Complexes \n",
      "                              specializing forall_{a in NaturalsPos} (a in Complexes)  proven above\n",
      "                              condition 2^(t - 1) in NaturalsPos  proven above\n",
      "                        hypothesis (eps + 1) <= ((2^(t - 1) - 2) + 1)  assuming eps in \\{1...(2^(t - 1) - 2)\\} \n",
      "                          specializing forall_{a, b, c in Reals | a <= b} ((a + c) <= (b + c)) \n",
      "                            by theorem proveit.number.real.lessThanEqualsAddRight\n",
      "                          condition 1 in Reals  proven above\n",
      "                          condition eps <= (2^(t - 1) - 2)  assuming eps in \\{1...(2^(t - 1) - 2)\\} \n",
      "                            specializing forall_{n in \\{1...(2^(t - 1) - 2)\\}} (n <= (2^(t - 1) - 2)) \n",
      "                              specializing forall_{a, b in Integers} [forall_{n in \\{a...b\\}} (n <= b)] \n",
      "                                by theorem proveit.number.integer.intervalUpperBound\n",
      "                              condition 1 in Integers  proven above\n",
      "                              condition (2^(t - 1) - 2) in Integers  proven above\n",
      "                            condition eps in \\{1...(2^(t - 1) - 2)\\}  assuming eps in \\{1...(2^(t - 1) - 2)\\}  proven above\n",
      "                          condition eps in Reals  assuming eps in \\{1...(2^(t - 1) - 2)\\}  proven above\n",
      "                          condition (2^(t - 1) - 2) in Reals  assuming eps in \\{1...(2^(t - 1) - 2)\\} \n",
      "                            specializing forall_{a in Integers} (a in Reals)  proven above\n",
      "                            condition (2^(t - 1) - 2) in Integers  assuming eps in \\{1...(2^(t - 1) - 2)\\} \n",
      "                              specializing forall_{a, b in Integers} ((a - b) in Integers)  proven above\n",
      "                              condition 2^(t - 1) in Integers  assuming eps in \\{1...(2^(t - 1) - 2)\\}  proven above\n",
      "                              condition 2 in Integers  proven above\n",
      "                      condition (eps + 1) in Integers  assuming eps in \\{1...(2^(t - 1) - 2)\\} \n",
      "                        specializing forall_{a in NaturalsPos} (a in Integers)  proven above\n",
      "                        condition (eps + 1) in NaturalsPos  assuming eps in \\{1...(2^(t - 1) - 2)\\}  proven above\n",
      "                  hypothesis Pfail(eps) <= (1 / 4 * ((Summation_{l=eps + 1}^{2^(t - 1) - 1} 1 / l^(2)) + (Summation_{l=eps}^{2^(t - 1) - 1} 1 / l^(2))))  assuming eps in \\{1...(2^(t - 1) - 2)\\} \n",
      "                    implication (Pfail(eps) <= (1 / 4 * ((Summation_{l=eps + 1}^{2^(t - 1) - 1} 1 / l^(2)) + (Summation_{l=(eps + 1) + (-1)}^{2^(t - 1) - 1} 1 / l^(2))))) => (Pfail(eps) <= (1 / 4 * ((Summation_{l=eps + 1}^{2^(t - 1) - 1} 1 / l^(2)) + (Summation_{l=eps}^{2^(t - 1) - 1} 1 / l^(2)))))  assuming eps in \\{1...(2^(t - 1) - 2)\\} \n",
      "                      implication (((eps + 1) + (-1)) = eps) => ((Pfail(eps) <= (1 / 4 * ((Summation_{l=eps + 1}^{2^(t - 1) - 1} 1 / l^(2)) + (Summation_{l=(eps + 1) + (-1)}^{2^(t - 1) - 1} 1 / l^(2))))) => (Pfail(eps) <= (1 / 4 * ((Summation_{l=eps + 1}^{2^(t - 1) - 1} 1 / l^(2)) + (Summation_{l=eps}^{2^(t - 1) - 1} 1 / l^(2)))))) \n",
      "                        specializing forall_{P, x, y} ((x = y) => (P(x) => P(y)))  proven above\n",
      "                      hypothesis ((eps + 1) + (-1)) = eps  assuming eps in \\{1...(2^(t - 1) - 2)\\}  proven above\n",
      "                    hypothesis Pfail(eps) <= (1 / 4 * ((Summation_{l=eps + 1}^{2^(t - 1) - 1} 1 / l^(2)) + (Summation_{l=(eps + 1) + (-1)}^{2^(t - 1) - 1} 1 / l^(2))))  assuming eps in \\{1...(2^(t - 1) - 2)\\} \n",
      "                      implication (Pfail(eps) <= (1 / 4 * ((Summation_{l=eps + 1}^{2^(t - 1) - 1} 1 / l^(2)) + (Summation_{l=(eps + 1) + (-1)}^{2^(t - 1) + (-1)} 1 / l^(2))))) => (Pfail(eps) <= (1 / 4 * ((Summation_{l=eps + 1}^{2^(t - 1) - 1} 1 / l^(2)) + (Summation_{l=(eps + 1) + (-1)}^{2^(t - 1) - 1} 1 / l^(2)))))  assuming eps in \\{1...(2^(t - 1) - 2)\\} \n",
      "                        implication ((2^(t - 1) + (-1)) = (2^(t - 1) - 1)) => ((Pfail(eps) <= (1 / 4 * ((Summation_{l=eps + 1}^{2^(t - 1) - 1} 1 / l^(2)) + (Summation_{l=(eps + 1) + (-1)}^{2^(t - 1) + (-1)} 1 / l^(2))))) => (Pfail(eps) <= (1 / 4 * ((Summation_{l=eps + 1}^{2^(t - 1) - 1} 1 / l^(2)) + (Summation_{l=(eps + 1) + (-1)}^{2^(t - 1) - 1} 1 / l^(2)))))) \n",
      "                          specializing forall_{P, x, y} ((x = y) => (P(x) => P(y)))  proven above\n",
      "                        hypothesis (2^(t - 1) + (-1)) = (2^(t - 1) - 1)  assuming eps in \\{1...(2^(t - 1) - 2)\\} \n",
      "                          specializing forall_{a, b in Complexes} ((a + (-b)) = (a - b))  proven above\n",
      "                          condition 1 in Complexes  proven above\n",
      "                          condition 2^(t - 1) in Complexes  proven above\n",
      "                      hypothesis Pfail(eps) <= (1 / 4 * ((Summation_{l=eps + 1}^{2^(t - 1) - 1} 1 / l^(2)) + (Summation_{l=(eps + 1) + (-1)}^{2^(t - 1) + (-1)} 1 / l^(2))))  assuming eps in \\{1...(2^(t - 1) - 2)\\} \n",
      "                        implication (Pfail(eps) <= (1 / 4 * ((Summation_{l=-(-(eps + 1))}^{2^(t - 1) - 1} 1 / l^(2)) + (Summation_{l=(eps + 1) + (-1)}^{2^(t - 1) + (-1)} 1 / l^(2))))) => (Pfail(eps) <= (1 / 4 * ((Summation_{l=eps + 1}^{2^(t - 1) - 1} 1 / l^(2)) + (Summation_{l=(eps + 1) + (-1)}^{2^(t - 1) + (-1)} 1 / l^(2)))))  assuming eps in \\{1...(2^(t - 1) - 2)\\} \n",
      "                          implication ((-(-(eps + 1))) = (eps + 1)) => ((Pfail(eps) <= (1 / 4 * ((Summation_{l=-(-(eps + 1))}^{2^(t - 1) - 1} 1 / l^(2)) + (Summation_{l=(eps + 1) + (-1)}^{2^(t - 1) + (-1)} 1 / l^(2))))) => (Pfail(eps) <= (1 / 4 * ((Summation_{l=eps + 1}^{2^(t - 1) - 1} 1 / l^(2)) + (Summation_{l=(eps + 1) + (-1)}^{2^(t - 1) + (-1)} 1 / l^(2)))))) \n",
      "                            specializing forall_{P, x, y} ((x = y) => (P(x) => P(y)))  proven above\n",
      "                          hypothesis (-(-(eps + 1))) = (eps + 1)  assuming eps in \\{1...(2^(t - 1) - 2)\\} \n",
      "                            specializing forall_{a in Complexes} ((-(-a)) = a) \n",
      "                              by theorem proveit.number.complex.negNeg\n",
      "                            condition (eps + 1) in Complexes  assuming eps in \\{1...(2^(t - 1) - 2)\\}  proven above\n",
      "                        hypothesis Pfail(eps) <= (1 / 4 * ((Summation_{l=-(-(eps + 1))}^{2^(t - 1) - 1} 1 / l^(2)) + (Summation_{l=(eps + 1) + (-1)}^{2^(t - 1) + (-1)} 1 / l^(2))))  assuming eps in \\{1...(2^(t - 1) - 2)\\} \n",
      "                          implication (Pfail(eps) <= (1 / 4 * ((Summation_{l=-(-(eps + 1))}^{-((-2^(t - 1)) + 1)} 1 / l^(2)) + (Summation_{l=(eps + 1) + (-1)}^{2^(t - 1) + (-1)} 1 / l^(2))))) => (Pfail(eps) <= (1 / 4 * ((Summation_{l=-(-(eps + 1))}^{2^(t - 1) - 1} 1 / l^(2)) + (Summation_{l=(eps + 1) + (-1)}^{2^(t - 1) + (-1)} 1 / l^(2))))) \n",
      "                            implication ((-((-2^(t - 1)) + 1)) = (2^(t - 1) - 1)) => ((Pfail(eps) <= (1 / 4 * ((Summation_{l=-(-(eps + 1))}^{-((-2^(t - 1)) + 1)} 1 / l^(2)) + (Summation_{l=(eps + 1) + (-1)}^{2^(t - 1) + (-1)} 1 / l^(2))))) => (Pfail(eps) <= (1 / 4 * ((Summation_{l=-(-(eps + 1))}^{2^(t - 1) - 1} 1 / l^(2)) + (Summation_{l=(eps + 1) + (-1)}^{2^(t - 1) + (-1)} 1 / l^(2)))))) \n",
      "                              specializing forall_{P, x, y} ((x = y) => (P(x) => P(y)))  proven above\n",
      "                            hypothesis (-((-2^(t - 1)) + 1)) = (2^(t - 1) - 1) \n",
      "                              implication ((-((-2^(t - 1)) + 1)) = ((-(-2^(t - 1))) - 1)) => ((-((-2^(t - 1)) + 1)) = (2^(t - 1) - 1)) \n",
      "                                implication ((-(-2^(t - 1))) = 2^(t - 1)) => (((-((-2^(t - 1)) + 1)) = ((-(-2^(t - 1))) - 1)) => ((-((-2^(t - 1)) + 1)) = (2^(t - 1) - 1))) \n",
      "                                  specializing forall_{P, x, y} ((x = y) => (P(x) => P(y)))  proven above\n",
      "                                hypothesis (-(-2^(t - 1))) = 2^(t - 1) \n",
      "                                  specializing forall_{a in Complexes} ((-(-a)) = a)  proven above\n",
      "                                  condition 2^(t - 1) in Complexes  proven above\n",
      "                              hypothesis (-((-2^(t - 1)) + 1)) = ((-(-2^(t - 1))) - 1) \n",
      "                                specializing forall_{a, b in Complexes} ((-(a + b)) = ((-a) - b)) \n",
      "                                  by theorem proveit.number.complex.distributeNegOverAdd\n",
      "                                condition 1 in Complexes  proven above\n",
      "                                condition (-2^(t - 1)) in Complexes \n",
      "                                  specializing forall_{a in Integers} (a in Complexes)  proven above\n",
      "                                  condition (-2^(t - 1)) in Integers \n",
      "                                    specializing forall_{a in Integers} ((-a) in Integers) \n",
      "                                      by theorem proveit.number.integer.negClosure\n",
      "                                    condition 2^(t - 1) in Integers  proven above\n",
      "                          hypothesis Pfail(eps) <= (1 / 4 * ((Summation_{l=-(-(eps + 1))}^{-((-2^(t - 1)) + 1)} 1 / l^(2)) + (Summation_{l=(eps + 1) + (-1)}^{2^(t - 1) + (-1)} 1 / l^(2))))  assuming eps in \\{1...(2^(t - 1) - 2)\\} \n",
      "                            implication (Pfail(eps) <= (1 / 4 * ((Summation_{l=(-2^(t - 1)) + 1}^{-(eps + 1)} 1 / l^(2)) + (Summation_{l=(eps + 1) + (-1)}^{2^(t - 1) + (-1)} 1 / l^(2))))) => (Pfail(eps) <= (1 / 4 * ((Summation_{l=-(-(eps + 1))}^{-((-2^(t - 1)) + 1)} 1 / l^(2)) + (Summation_{l=(eps + 1) + (-1)}^{2^(t - 1) + (-1)} 1 / l^(2)))))  assuming eps in \\{1...(2^(t - 1) - 2)\\} \n",
      "                              implication ((Summation_{l=(-2^(t - 1)) + 1}^{-(eps + 1)} 1 / l^(2)) = (Summation_{l=-(-(eps + 1))}^{-((-2^(t - 1)) + 1)} 1 / l^(2))) => ((Pfail(eps) <= (1 / 4 * ((Summation_{l=(-2^(t - 1)) + 1}^{-(eps + 1)} 1 / l^(2)) + (Summation_{l=(eps + 1) + (-1)}^{2^(t - 1) + (-1)} 1 / l^(2))))) => (Pfail(eps) <= (1 / 4 * ((Summation_{l=-(-(eps + 1))}^{-((-2^(t - 1)) + 1)} 1 / l^(2)) + (Summation_{l=(eps + 1) + (-1)}^{2^(t - 1) + (-1)} 1 / l^(2)))))) \n",
      "                                specializing forall_{P, x, y} ((x = y) => (P(x) => P(y)))  proven above\n",
      "                              hypothesis (Summation_{l=(-2^(t - 1)) + 1}^{-(eps + 1)} 1 / l^(2)) = (Summation_{l=-(-(eps + 1))}^{-((-2^(t - 1)) + 1)} 1 / l^(2))  assuming eps in \\{1...(2^(t - 1) - 2)\\} \n",
      "                                specializing forall_{a, b in Integers} ((Summation_{l=a}^{b} 1 / l^(2)) = (Summation_{l=-b}^{-a} 1 / l^(2))) \n",
      "                                  specializing forall_{f in EvenFuncs} [forall_{a, b in Integers} ((Summation_{x=a}^{b} f(x)) = (Summation_{x=-b}^{-a} f(x)))] \n",
      "                                    by theorem proveit.number.integer.evenFuncSum\n",
      "                                  condition [(l) -> 1 / l^(2)] in EvenFuncs \n",
      "                                    by theorem proveit.number.real.inverseSqrdIsEvenFunc\n",
      "                                condition (-(eps + 1)) in Integers  assuming eps in \\{1...(2^(t - 1) - 2)\\} \n",
      "                                  specializing forall_{a in Integers} ((-a) in Integers)  proven above\n",
      "                                  condition (eps + 1) in Integers  assuming eps in \\{1...(2^(t - 1) - 2)\\}  proven above\n",
      "                                condition ((-2^(t - 1)) + 1) in Integers \n",
      "                                  specializing forall_{..x.. in Integers} (( .. + x + .. ) in Integers) \n",
      "                                    by theorem proveit.number.integer.addClosure\n",
      "                                  condition 1 in Integers  proven above\n",
      "                                  condition (-2^(t - 1)) in Integers  proven above\n",
      "                            hypothesis Pfail(eps) <= (1 / 4 * ((Summation_{l=(-2^(t - 1)) + 1}^{-(eps + 1)} 1 / l^(2)) + (Summation_{l=(eps + 1) + (-1)}^{2^(t - 1) + (-1)} 1 / l^(2))))  assuming eps in \\{1...(2^(t - 1) - 2)\\} \n",
      "                              implication (Pfail(eps) <= (1 / 4 * ((Summation_{l=(-2^(t - 1)) + 1}^{-(eps + 1)} 1 / l^(2)) + (Summation_{l=(eps + 1) + (-1)}^{2^(t - 1) + (-1)} 1 / ((l - (-1)) - 1)^(2))))) => (Pfail(eps) <= (1 / 4 * ((Summation_{l=(-2^(t - 1)) + 1}^{-(eps + 1)} 1 / l^(2)) + (Summation_{l=(eps + 1) + (-1)}^{2^(t - 1) + (-1)} 1 / l^(2)))))  assuming eps in \\{1...(2^(t - 1) - 2)\\} \n",
      "                                implication ((Summation_{l=(eps + 1) + (-1)}^{2^(t - 1) + (-1)} 1 / ((l - (-1)) - 1)^(2)) = (Summation_{l=(eps + 1) + (-1)}^{2^(t - 1) + (-1)} 1 / l^(2))) => ((Pfail(eps) <= (1 / 4 * ((Summation_{l=(-2^(t - 1)) + 1}^{-(eps + 1)} 1 / l^(2)) + (Summation_{l=(eps + 1) + (-1)}^{2^(t - 1) + (-1)} 1 / ((l - (-1)) - 1)^(2))))) => (Pfail(eps) <= (1 / 4 * ((Summation_{l=(-2^(t - 1)) + 1}^{-(eps + 1)} 1 / l^(2)) + (Summation_{l=(eps + 1) + (-1)}^{2^(t - 1) + (-1)} 1 / l^(2)))))) \n",
      "                                  specializing forall_{P, x, y} ((x = y) => (P(x) => P(y)))  proven above\n",
      "                                hypothesis (Summation_{l=(eps + 1) + (-1)}^{2^(t - 1) + (-1)} 1 / ((l - (-1)) - 1)^(2)) = (Summation_{l=(eps + 1) + (-1)}^{2^(t - 1) + (-1)} 1 / l^(2))  assuming eps in \\{1...(2^(t - 1) - 2)\\} \n",
      "                                  implication [forall_{k in \\{((eps + 1) + (-1))...(2^(t - 1) + (-1))\\}} (1 / ((k - (-1)) - 1)^(2) = 1 / k^(2))] => ((Summation_{l=(eps + 1) + (-1)}^{2^(t - 1) + (-1)} 1 / ((l - (-1)) - 1)^(2)) = (Summation_{l=(eps + 1) + (-1)}^{2^(t - 1) + (-1)} 1 / l^(2)))  assuming eps in \\{1...(2^(t - 1) - 2)\\} \n",
      "                                    specializing forall_{m, n in Integers} ([forall_{k in \\{m...n\\}} (1 / ((k - (-1)) - 1)^(2) = 1 / k^(2))] => ((Summation_{l=m}^{n} 1 / ((l - (-1)) - 1)^(2)) = (Summation_{l=m}^{n} 1 / l^(2)))) \n",
      "                                      specializing forall_{f, g} [forall_{m, n in Integers} ([forall_{k in \\{m...n\\}} (f(k) = g(k))] => ((Summation_{l=m}^{n} f(l)) = (Summation_{l=m}^{n} g(l))))] \n",
      "                                        by theorem proveit.number.integer.sumEq\n",
      "                                    condition ((eps + 1) + (-1)) in Integers  assuming eps in \\{1...(2^(t - 1) - 2)\\} \n",
      "                                      specializing forall_{..x.. in Integers} (( .. + x + .. ) in Integers)  proven above\n",
      "                                      condition (-1) in Integers \n",
      "                                        specializing forall_{a in Integers} ((-a) in Integers)  proven above\n",
      "                                        condition 1 in Integers  proven above\n",
      "                                      condition (eps + 1) in Integers  assuming eps in \\{1...(2^(t - 1) - 2)\\}  proven above\n",
      "                                    condition (2^(t - 1) + (-1)) in Integers  assuming eps in \\{1...(2^(t - 1) - 2)\\} \n",
      "                                      specializing forall_{..x.. in Integers} (( .. + x + .. ) in Integers)  proven above\n",
      "                                      condition (-1) in Integers  proven above\n",
      "                                      condition 2^(t - 1) in Integers  assuming eps in \\{1...(2^(t - 1) - 2)\\}  proven above\n",
      "                                  hypothesis forall_{k in \\{((eps + 1) + (-1))...(2^(t - 1) + (-1))\\}} (1 / ((k - (-1)) - 1)^(2) = 1 / k^(2))  assuming eps in \\{1...(2^(t - 1) - 2)\\} \n",
      "                                    specializing forall_{l in \\{((eps + 1) + (-1))...(2^(t - 1) + (-1))\\}} (1 / ((l - (-1)) - 1)^(2) = 1 / l^(2))  assuming eps in \\{1...(2^(t - 1) - 2)\\} \n",
      "                                      generalizing 1 / ((l - (-1)) - 1)^(2) = 1 / l^(2)  assuming l in \\{((eps + 1) + (-1))...(2^(t - 1) + (-1))\\}, eps in \\{1...(2^(t - 1) - 2)\\} \n",
      "                                        implication (((l - (-1)) - 1) = l) => (1 / ((l - (-1)) - 1)^(2) = 1 / l^(2)) \n",
      "                                          specializing forall_{f, x, y} ((x = y) => (f(x) = f(y))) \n",
      "                                            by axiom proveit.basiclogic.equality.substitution\n",
      "                                        hypothesis ((l - (-1)) - 1) = l  assuming l in \\{((eps + 1) + (-1))...(2^(t - 1) + (-1))\\}, eps in \\{1...(2^(t - 1) - 2)\\} \n",
      "                                          specializing forall_{a, b in Complexes} (((a - (-b)) - b) = a) \n",
      "                                            by theorem proveit.number.complex.cancelSubAndAdd\n",
      "                                          condition 1 in Complexes  proven above\n",
      "                                          condition l in Complexes  assuming l in \\{((eps + 1) + (-1))...(2^(t - 1) + (-1))\\}, eps in \\{1...(2^(t - 1) - 2)\\} \n",
      "                                            specializing forall_{a in Integers} (a in Complexes)  proven above\n",
      "                                            condition l in Integers  assuming l in \\{((eps + 1) + (-1))...(2^(t - 1) + (-1))\\}, eps in \\{1...(2^(t - 1) - 2)\\} \n",
      "                                              specializing forall_{n in \\{((eps + 1) + (-1))...(2^(t - 1) + (-1))\\}} (n in Integers)  assuming eps in \\{1...(2^(t - 1) - 2)\\} \n",
      "                                                specializing forall_{a, b in Integers} [forall_{n in \\{a...b\\}} (n in Integers)]  proven above\n",
      "                                                condition ((eps + 1) + (-1)) in Integers  assuming eps in \\{1...(2^(t - 1) - 2)\\}  proven above\n",
      "                                                condition (2^(t - 1) + (-1)) in Integers  assuming eps in \\{1...(2^(t - 1) - 2)\\}  proven above\n",
      "                                              condition l in \\{((eps + 1) + (-1))...(2^(t - 1) + (-1))\\}  assuming l in \\{((eps + 1) + (-1))...(2^(t - 1) + (-1))\\} \n",
      "                              hypothesis Pfail(eps) <= (1 / 4 * ((Summation_{l=(-2^(t - 1)) + 1}^{-(eps + 1)} 1 / l^(2)) + (Summation_{l=(eps + 1) + (-1)}^{2^(t - 1) + (-1)} 1 / ((l - (-1)) - 1)^(2))))  assuming eps in \\{1...(2^(t - 1) - 2)\\} \n",
      "                                implication (Pfail(eps) <= (1 / 4 * ((Summation_{l=(-2^(t - 1)) + 1}^{-(eps + 1)} 1 / l^(2)) + (Summation_{l=eps + 1}^{2^(t - 1)} 1 / (l - 1)^(2))))) => (Pfail(eps) <= (1 / 4 * ((Summation_{l=(-2^(t - 1)) + 1}^{-(eps + 1)} 1 / l^(2)) + (Summation_{l=(eps + 1) + (-1)}^{2^(t - 1) + (-1)} 1 / ((l - (-1)) - 1)^(2)))))  assuming eps in \\{1...(2^(t - 1) - 2)\\} \n",
      "                                  implication ((Summation_{l=eps + 1}^{2^(t - 1)} 1 / (l - 1)^(2)) = (Summation_{l=(eps + 1) + (-1)}^{2^(t - 1) + (-1)} 1 / ((l - (-1)) - 1)^(2))) => ((Pfail(eps) <= (1 / 4 * ((Summation_{l=(-2^(t - 1)) + 1}^{-(eps + 1)} 1 / l^(2)) + (Summation_{l=eps + 1}^{2^(t - 1)} 1 / (l - 1)^(2))))) => (Pfail(eps) <= (1 / 4 * ((Summation_{l=(-2^(t - 1)) + 1}^{-(eps + 1)} 1 / l^(2)) + (Summation_{l=(eps + 1) + (-1)}^{2^(t - 1) + (-1)} 1 / ((l - (-1)) - 1)^(2)))))) \n",
      "                                    specializing forall_{P, x, y} ((x = y) => (P(x) => P(y)))  proven above\n",
      "                                  hypothesis (Summation_{l=eps + 1}^{2^(t - 1)} 1 / (l - 1)^(2)) = (Summation_{l=(eps + 1) + (-1)}^{2^(t - 1) + (-1)} 1 / ((l - (-1)) - 1)^(2))  assuming eps in \\{1...(2^(t - 1) - 2)\\} \n",
      "                                    specializing forall_{a, b, c in Integers} ((Summation_{l=a}^{b} 1 / (l - 1)^(2)) = (Summation_{l=a + c}^{b + c} 1 / ((l - c) - 1)^(2))) \n",
      "                                      specializing forall_{f} [forall_{a, b, c in Integers} ((Summation_{x=a}^{b} f(x)) = (Summation_{x=a + c}^{b + c} f(x - c)))] \n",
      "                                        by theorem proveit.number.integer.indexShift\n",
      "                                    condition (-1) in Integers  proven above\n",
      "                                    condition 2^(t - 1) in Integers  assuming eps in \\{1...(2^(t - 1) - 2)\\}  proven above\n",
      "                                    condition (eps + 1) in Integers  assuming eps in \\{1...(2^(t - 1) - 2)\\}  proven above\n",
      "                                hypothesis Pfail(eps) <= (1 / 4 * ((Summation_{l=(-2^(t - 1)) + 1}^{-(eps + 1)} 1 / l^(2)) + (Summation_{l=eps + 1}^{2^(t - 1)} 1 / (l - 1)^(2))))  assuming eps in \\{1...(2^(t - 1) - 2)\\} \n",
      "                                  implication (Pfail(eps) <= ((1 / 4 * (Summation_{l=(-2^(t - 1)) + 1}^{-(eps + 1)} 1 / l^(2))) + (1 / 4 * (Summation_{l=eps + 1}^{2^(t - 1)} 1 / (l - 1)^(2))))) => (Pfail(eps) <= (1 / 4 * ((Summation_{l=(-2^(t - 1)) + 1}^{-(eps + 1)} 1 / l^(2)) + (Summation_{l=eps + 1}^{2^(t - 1)} 1 / (l - 1)^(2)))))  assuming eps in \\{1...(2^(t - 1) - 2)\\} \n",
      "                                    implication (((1 / 4 * (Summation_{l=(-2^(t - 1)) + 1}^{-(eps + 1)} 1 / l^(2))) + (1 / 4 * (Summation_{l=eps + 1}^{2^(t - 1)} 1 / (l - 1)^(2)))) = (1 / 4 * ((Summation_{l=(-2^(t - 1)) + 1}^{-(eps + 1)} 1 / l^(2)) + (Summation_{l=eps + 1}^{2^(t - 1)} 1 / (l - 1)^(2))))) => ((Pfail(eps) <= ((1 / 4 * (Summation_{l=(-2^(t - 1)) + 1}^{-(eps + 1)} 1 / l^(2))) + (1 / 4 * (Summation_{l=eps + 1}^{2^(t - 1)} 1 / (l - 1)^(2))))) => (Pfail(eps) <= (1 / 4 * ((Summation_{l=(-2^(t - 1)) + 1}^{-(eps + 1)} 1 / l^(2)) + (Summation_{l=eps + 1}^{2^(t - 1)} 1 / (l - 1)^(2)))))) \n",
      "                                      specializing forall_{P, x, y} ((x = y) => (P(x) => P(y)))  proven above\n",
      "                                    hypothesis ((1 / 4 * (Summation_{l=(-2^(t - 1)) + 1}^{-(eps + 1)} 1 / l^(2))) + (1 / 4 * (Summation_{l=eps + 1}^{2^(t - 1)} 1 / (l - 1)^(2)))) = (1 / 4 * ((Summation_{l=(-2^(t - 1)) + 1}^{-(eps + 1)} 1 / l^(2)) + (Summation_{l=eps + 1}^{2^(t - 1)} 1 / (l - 1)^(2))))  assuming eps in \\{1...(2^(t - 1) - 2)\\} \n",
      "                                      specializing forall_{a, b, c in Reals} (((a * b) + (a * c)) = (a * (b + c))) \n",
      "                                        by theorem proveit.number.real.sumFactor_temp\n",
      "                                      condition 1 / 4 in Reals \n",
      "                                        specializing forall_{a in RealsPos} (a in Reals)  proven above\n",
      "                                        condition 1 / 4 in RealsPos  proven above\n",
      "                                      condition (Summation_{l=(-2^(t - 1)) + 1}^{-(eps + 1)} 1 / l^(2)) in Reals  assuming eps in \\{1...(2^(t - 1) - 2)\\} \n",
      "                                        implication [forall_{l in \\{((-2^(t - 1)) + 1)...(-(eps + 1))\\}} (1 / l^(2) in Reals)] => ((Summation_{l=(-2^(t - 1)) + 1}^{-(eps + 1)} 1 / l^(2)) in Reals) \n",
      "                                          specializing forall_{P, S} ([forall_{..x.. in S} (P(..x..) in Reals)] => ([Summation_{..x.. in S} P(..x..)] in Reals))  proven above\n",
      "                                        hypothesis forall_{l in \\{((-2^(t - 1)) + 1)...(-(eps + 1))\\}} (1 / l^(2) in Reals)  assuming eps in \\{1...(2^(t - 1) - 2)\\} \n",
      "                                          generalizing 1 / l^(2) in Reals  assuming eps in \\{1...(2^(t - 1) - 2)\\}, l in \\{((-2^(t - 1)) + 1)...(-(eps + 1))\\} \n",
      "                                            specializing forall_{a in RealsPos} (a in Reals)  proven above\n",
      "                                            condition 1 / l^(2) in RealsPos  assuming eps in \\{1...(2^(t - 1) - 2)\\}, l in \\{((-2^(t - 1)) + 1)...(-(eps + 1))\\} \n",
      "                                              specializing forall_{a, b in RealsPos | b != 0} (a / b in RealsPos)  proven above\n",
      "                                              condition l^(2) != 0  assuming eps in \\{1...(2^(t - 1) - 2)\\}, l in \\{((-2^(t - 1)) + 1)...(-(eps + 1))\\} \n",
      "                                                specializing forall_{a in Reals | a > 0} (a != 0)  proven above\n",
      "                                                condition l^(2) in Reals  assuming eps in \\{1...(2^(t - 1) - 2)\\}, l in \\{((-2^(t - 1)) + 1)...(-(eps + 1))\\} \n",
      "                                                  specializing forall_{a in RealsPos} (a in Reals)  proven above\n",
      "                                                  condition l^(2) in RealsPos  assuming eps in \\{1...(2^(t - 1) - 2)\\}, l in \\{((-2^(t - 1)) + 1)...(-(eps + 1))\\} \n",
      "                                                    specializing forall_{a in Reals | a != 0} (a^(2) in RealsPos)  proven above\n",
      "                                                    condition l != 0  assuming eps in \\{1...(2^(t - 1) - 2)\\}, l in \\{((-2^(t - 1)) + 1)...(-(eps + 1))\\} \n",
      "                                                      specializing forall_{a in Reals | a < 0} (a != 0) \n",
      "                                                        by theorem proveit.number.real.negative_implies_notzero\n",
      "                                                      condition l < 0  assuming eps in \\{1...(2^(t - 1) - 2)\\}, l in \\{((-2^(t - 1)) + 1)...(-(eps + 1))\\} \n",
      "                                                        specializing forall_{n in \\{((-2^(t - 1)) + 1)...(-(eps + 1))\\}} (n < 0)  assuming eps in \\{1...(2^(t - 1) - 2)\\} \n",
      "                                                          specializing forall_{a, b in Integers | b < 0} [forall_{n in \\{a...b\\}} (n < 0)] \n",
      "                                                            by theorem proveit.number.integer.allInNegativeIntervalAreNegative\n",
      "                                                          condition (-(eps + 1)) in Integers  assuming eps in \\{1...(2^(t - 1) - 2)\\}  proven above\n",
      "                                                          condition ((-2^(t - 1)) + 1) in Integers  proven above\n",
      "                                                          condition (-(eps + 1)) < 0  assuming eps in \\{1...(2^(t - 1) - 2)\\} \n",
      "                                                            specializing forall_{a in Reals | a > 0} ((-a) < 0) \n",
      "                                                              by theorem proveit.number.real.negatedPositiveIsNegative\n",
      "                                                            condition (eps + 1) in Reals  assuming eps in \\{1...(2^(t - 1) - 2)\\} \n",
      "                                                              specializing forall_{a in NaturalsPos} (a in Reals)  proven above\n",
      "                                                              condition (eps + 1) in NaturalsPos  assuming eps in \\{1...(2^(t - 1) - 2)\\}  proven above\n",
      "                                                            condition (eps + 1) > 0  assuming eps in \\{1...(2^(t - 1) - 2)\\} \n",
      "                                                              implication ((eps + 1) in RealsPos) => ((eps + 1) > 0)  assuming eps in \\{1...(2^(t - 1) - 2)\\} \n",
      "                                                                implication (((eps + 1) in RealsPos) <=> ((eps + 1) > 0)) => (((eps + 1) in RealsPos) => ((eps + 1) > 0)) \n",
      "                                                                  specializing forall_{A, B} ((A <=> B) => (A => B))  proven above\n",
      "                                                                hypothesis ((eps + 1) in RealsPos) <=> ((eps + 1) > 0)  assuming eps in \\{1...(2^(t - 1) - 2)\\} \n",
      "                                                                  specializing forall_{a in Reals} ((a in RealsPos) <=> (a > 0))  proven above\n",
      "                                                                  condition (eps + 1) in Reals  assuming eps in \\{1...(2^(t - 1) - 2)\\}  proven above\n",
      "                                                              hypothesis (eps + 1) in RealsPos  assuming eps in \\{1...(2^(t - 1) - 2)\\} \n",
      "                                                                specializing forall_{a in NaturalsPos} (a in RealsPos)  proven above\n",
      "                                                                condition (eps + 1) in NaturalsPos  assuming eps in \\{1...(2^(t - 1) - 2)\\}  proven above\n",
      "                                                        condition l in \\{((-2^(t - 1)) + 1)...(-(eps + 1))\\}  assuming l in \\{((-2^(t - 1)) + 1)...(-(eps + 1))\\} \n",
      "                                                      condition l in Reals  assuming eps in \\{1...(2^(t - 1) - 2)\\}, l in \\{((-2^(t - 1)) + 1)...(-(eps + 1))\\} \n",
      "                                                        specializing forall_{a in Integers} (a in Reals)  proven above\n",
      "                                                        condition l in Integers  assuming eps in \\{1...(2^(t - 1) - 2)\\}, l in \\{((-2^(t - 1)) + 1)...(-(eps + 1))\\} \n",
      "                                                          specializing forall_{n in \\{((-2^(t - 1)) + 1)...(-(eps + 1))\\}} (n in Integers)  assuming eps in \\{1...(2^(t - 1) - 2)\\} \n",
      "                                                            specializing forall_{a, b in Integers} [forall_{n in \\{a...b\\}} (n in Integers)]  proven above\n",
      "                                                            condition (-(eps + 1)) in Integers  assuming eps in \\{1...(2^(t - 1) - 2)\\}  proven above\n",
      "                                                            condition ((-2^(t - 1)) + 1) in Integers  proven above\n",
      "                                                          condition l in \\{((-2^(t - 1)) + 1)...(-(eps + 1))\\}  assuming l in \\{((-2^(t - 1)) + 1)...(-(eps + 1))\\}  proven above\n",
      "                                                    condition l in Reals  assuming eps in \\{1...(2^(t - 1) - 2)\\}, l in \\{((-2^(t - 1)) + 1)...(-(eps + 1))\\}  proven above\n",
      "                                                condition l^(2) > 0  assuming eps in \\{1...(2^(t - 1) - 2)\\}, l in \\{((-2^(t - 1)) + 1)...(-(eps + 1))\\} \n",
      "                                                  implication (l^(2) in RealsPos) => (l^(2) > 0) \n",
      "                                                    hypothetically reasoning l^(2) > 0  assuming l^(2) in RealsPos \n",
      "                                                      implication (l^(2) in RealsPos) => (l^(2) > 0)  assuming l^(2) in RealsPos \n",
      "                                                        implication ((l^(2) in RealsPos) <=> (l^(2) > 0)) => ((l^(2) in RealsPos) => (l^(2) > 0)) \n",
      "                                                          specializing forall_{A, B} ((A <=> B) => (A => B))  proven above\n",
      "                                                        hypothesis (l^(2) in RealsPos) <=> (l^(2) > 0)  assuming l^(2) in RealsPos \n",
      "                                                          specializing forall_{a in Reals} ((a in RealsPos) <=> (a > 0))  proven above\n",
      "                                                          condition l^(2) in Reals  assuming l^(2) in RealsPos \n",
      "                                                            specializing forall_{a in RealsPos} (a in Reals)  proven above\n",
      "                                                            condition l^(2) in RealsPos  assuming l^(2) in RealsPos \n",
      "                                                      hypothesis l^(2) in RealsPos  assuming l^(2) in RealsPos  proven above\n",
      "                                                  hypothesis l^(2) in RealsPos  assuming eps in \\{1...(2^(t - 1) - 2)\\}, l in \\{((-2^(t - 1)) + 1)...(-(eps + 1))\\}  proven above\n",
      "                                              condition l^(2) in RealsPos  assuming eps in \\{1...(2^(t - 1) - 2)\\}, l in \\{((-2^(t - 1)) + 1)...(-(eps + 1))\\}  proven above\n",
      "                                              condition 1 in RealsPos  proven above\n",
      "                                      condition (Summation_{l=eps + 1}^{2^(t - 1)} 1 / (l - 1)^(2)) in Reals  assuming eps in \\{1...(2^(t - 1) - 2)\\} \n",
      "                                        implication [forall_{l in \\{(eps + 1)...2^(t - 1)\\}} (1 / (l - 1)^(2) in Reals)] => ((Summation_{l=eps + 1}^{2^(t - 1)} 1 / (l - 1)^(2)) in Reals) \n",
      "                                          specializing forall_{P, S} ([forall_{..x.. in S} (P(..x..) in Reals)] => ([Summation_{..x.. in S} P(..x..)] in Reals))  proven above\n",
      "                                        hypothesis forall_{l in \\{(eps + 1)...2^(t - 1)\\}} (1 / (l - 1)^(2) in Reals)  assuming eps in \\{1...(2^(t - 1) - 2)\\} \n",
      "                                          generalizing 1 / (l - 1)^(2) in Reals  assuming eps in \\{1...(2^(t - 1) - 2)\\}, l in \\{(eps + 1)...2^(t - 1)\\} \n",
      "                                            specializing forall_{a in RealsPos} (a in Reals)  proven above\n",
      "                                            condition 1 / (l - 1)^(2) in RealsPos  assuming eps in \\{1...(2^(t - 1) - 2)\\}, l in \\{(eps + 1)...2^(t - 1)\\} \n",
      "                                              specializing forall_{a, b in RealsPos | b != 0} (a / b in RealsPos)  proven above\n",
      "                                              condition 1 in RealsPos  proven above\n",
      "                                              condition (l - 1)^(2) in RealsPos  assuming eps in \\{1...(2^(t - 1) - 2)\\}, l in \\{(eps + 1)...2^(t - 1)\\} \n",
      "                                                specializing forall_{a in NaturalsPos} (a in RealsPos)  proven above\n",
      "                                                condition (l - 1)^(2) in NaturalsPos  assuming eps in \\{1...(2^(t - 1) - 2)\\}, l in \\{(eps + 1)...2^(t - 1)\\} \n",
      "                                                  specializing forall_{a, b in Naturals | a != 0} (a^(b) in NaturalsPos) \n",
      "                                                    by theorem proveit.number.natural.powClosure\n",
      "                                                  condition (l - 1) in Naturals  assuming eps in \\{1...(2^(t - 1) - 2)\\}, l in \\{(eps + 1)...2^(t - 1)\\} \n",
      "                                                    specializing forall_{a in NaturalsPos} (a in Naturals)  proven above\n",
      "                                                    condition (l - 1) in NaturalsPos  assuming eps in \\{1...(2^(t - 1) - 2)\\}, l in \\{(eps + 1)...2^(t - 1)\\} \n",
      "                                                      specializing forall_{a, b in Integers | a > b} ((a - b) in NaturalsPos) \n",
      "                                                        by theorem proveit.number.integer.subtractClosureNatsPos\n",
      "                                                      condition 1 in Integers  proven above\n",
      "                                                      condition l > 1  assuming eps in \\{1...(2^(t - 1) - 2)\\}, l in \\{(eps + 1)...2^(t - 1)\\} \n",
      "                                                        implication ((eps + 1) > 1) => (l > 1)  assuming eps in \\{1...(2^(t - 1) - 2)\\}, l in \\{(eps + 1)...2^(t - 1)\\} \n",
      "                                                          implication (l >= (eps + 1)) => (((eps + 1) > 1) => (l > 1)) \n",
      "                                                            specializing forall_{x, y, z} ((x >= y) => ((y > z) => (x > z)))  proven above\n",
      "                                                          hypothesis l >= (eps + 1)  assuming eps in \\{1...(2^(t - 1) - 2)\\}, l in \\{(eps + 1)...2^(t - 1)\\} \n",
      "                                                            implication ((eps + 1) <= l) => (l >= (eps + 1)) \n",
      "                                                              specializing forall_{x, y} ((x <= y) => (y >= x))  proven above\n",
      "                                                            hypothesis (eps + 1) <= l  assuming eps in \\{1...(2^(t - 1) - 2)\\}, l in \\{(eps + 1)...2^(t - 1)\\} \n",
      "                                                              specializing forall_{n in \\{(eps + 1)...2^(t - 1)\\}} ((eps + 1) <= n)  assuming eps in \\{1...(2^(t - 1) - 2)\\} \n",
      "                                                                specializing forall_{a, b in Integers} [forall_{n in \\{a...b\\}} (a <= n)]  proven above\n",
      "                                                                condition 2^(t - 1) in Integers  proven above\n",
      "                                                                condition (eps + 1) in Integers  assuming eps in \\{1...(2^(t - 1) - 2)\\}  proven above\n",
      "                                                              condition l in \\{(eps + 1)...2^(t - 1)\\}  assuming l in \\{(eps + 1)...2^(t - 1)\\} \n",
      "                                                        hypothesis (eps + 1) > 1  assuming eps in \\{1...(2^(t - 1) - 2)\\} \n",
      "                                                          specializing forall_{b in Reals} ((eps + b) > b)  assuming eps in \\{1...(2^(t - 1) - 2)\\} \n",
      "                                                            specializing forall_{..a.., ..c.. in RealsPos} [forall_{b in Reals} (( .. + a + ..  + b +  .. + c + .. ) > b)] \n",
      "                                                              by theorem proveit.number.real.strictlyIncreasingAdditions\n",
      "                                                            condition eps in RealsPos  assuming eps in \\{1...(2^(t - 1) - 2)\\}  proven above\n",
      "                                                          condition 1 in Reals  proven above\n",
      "                                                      condition l in Integers  assuming eps in \\{1...(2^(t - 1) - 2)\\}, l in \\{(eps + 1)...2^(t - 1)\\} \n",
      "                                                        specializing forall_{n in \\{(eps + 1)...2^(t - 1)\\}} (n in Integers)  assuming eps in \\{1...(2^(t - 1) - 2)\\} \n",
      "                                                          specializing forall_{a, b in Integers} [forall_{n in \\{a...b\\}} (n in Integers)]  proven above\n",
      "                                                          condition 2^(t - 1) in Integers  assuming eps in \\{1...(2^(t - 1) - 2)\\}  proven above\n",
      "                                                          condition (eps + 1) in Integers  assuming eps in \\{1...(2^(t - 1) - 2)\\}  proven above\n",
      "                                                        condition l in \\{(eps + 1)...2^(t - 1)\\}  assuming l in \\{(eps + 1)...2^(t - 1)\\}  proven above\n",
      "                                                  condition 2 in Naturals \n",
      "                                                    by theorem proveit.number.natural.twoInNaturals\n",
      "                                                  condition (l - 1) != 0  assuming eps in \\{1...(2^(t - 1) - 2)\\}, l in \\{(eps + 1)...2^(t - 1)\\} \n",
      "                                                    specializing forall_{a in Reals | a > 0} (a != 0)  proven above\n",
      "                                                    condition (l - 1) > 0  assuming eps in \\{1...(2^(t - 1) - 2)\\}, l in \\{(eps + 1)...2^(t - 1)\\} \n",
      "                                                      implication ((l - 1) in RealsPos) => ((l - 1) > 0)  assuming eps in \\{1...(2^(t - 1) - 2)\\}, l in \\{(eps + 1)...2^(t - 1)\\} \n",
      "                                                        implication (((l - 1) in RealsPos) <=> ((l - 1) > 0)) => (((l - 1) in RealsPos) => ((l - 1) > 0)) \n",
      "                                                          specializing forall_{A, B} ((A <=> B) => (A => B))  proven above\n",
      "                                                        hypothesis ((l - 1) in RealsPos) <=> ((l - 1) > 0)  assuming eps in \\{1...(2^(t - 1) - 2)\\}, l in \\{(eps + 1)...2^(t - 1)\\} \n",
      "                                                          specializing forall_{a in Reals} ((a in RealsPos) <=> (a > 0))  proven above\n",
      "                                                          condition (l - 1) in Reals  assuming eps in \\{1...(2^(t - 1) - 2)\\}, l in \\{(eps + 1)...2^(t - 1)\\} \n",
      "                                                            specializing forall_{a in NaturalsPos} (a in Reals)  proven above\n",
      "                                                            condition (l - 1) in NaturalsPos  assuming eps in \\{1...(2^(t - 1) - 2)\\}, l in \\{(eps + 1)...2^(t - 1)\\}  proven above\n",
      "                                                      hypothesis (l - 1) in RealsPos  assuming eps in \\{1...(2^(t - 1) - 2)\\}, l in \\{(eps + 1)...2^(t - 1)\\} \n",
      "                                                        specializing forall_{a in NaturalsPos} (a in RealsPos)  proven above\n",
      "                                                        condition (l - 1) in NaturalsPos  assuming eps in \\{1...(2^(t - 1) - 2)\\}, l in \\{(eps + 1)...2^(t - 1)\\}  proven above\n",
      "                                                    condition (l - 1) in Reals  assuming eps in \\{1...(2^(t - 1) - 2)\\}, l in \\{(eps + 1)...2^(t - 1)\\}  proven above\n",
      "                                              condition (l - 1)^(2) != 0  assuming eps in \\{1...(2^(t - 1) - 2)\\}, l in \\{(eps + 1)...2^(t - 1)\\} \n",
      "                                                specializing forall_{a in Reals | a > 0} (a != 0)  proven above\n",
      "                                                condition (l - 1)^(2) > 0  assuming eps in \\{1...(2^(t - 1) - 2)\\}, l in \\{(eps + 1)...2^(t - 1)\\} \n",
      "                                                  implication ((l - 1)^(2) in RealsPos) => ((l - 1)^(2) > 0)  assuming eps in \\{1...(2^(t - 1) - 2)\\}, l in \\{(eps + 1)...2^(t - 1)\\} \n",
      "                                                    implication (((l - 1)^(2) in RealsPos) <=> ((l - 1)^(2) > 0)) => (((l - 1)^(2) in RealsPos) => ((l - 1)^(2) > 0)) \n",
      "                                                      specializing forall_{A, B} ((A <=> B) => (A => B))  proven above\n",
      "                                                    hypothesis ((l - 1)^(2) in RealsPos) <=> ((l - 1)^(2) > 0)  assuming eps in \\{1...(2^(t - 1) - 2)\\}, l in \\{(eps + 1)...2^(t - 1)\\} \n",
      "                                                      specializing forall_{a in Reals} ((a in RealsPos) <=> (a > 0))  proven above\n",
      "                                                      condition (l - 1)^(2) in Reals  assuming eps in \\{1...(2^(t - 1) - 2)\\}, l in \\{(eps + 1)...2^(t - 1)\\} \n",
      "                                                        specializing forall_{a in NaturalsPos} (a in Reals)  proven above\n",
      "                                                        condition (l - 1)^(2) in NaturalsPos  assuming eps in \\{1...(2^(t - 1) - 2)\\}, l in \\{(eps + 1)...2^(t - 1)\\}  proven above\n",
      "                                                  hypothesis (l - 1)^(2) in RealsPos  assuming eps in \\{1...(2^(t - 1) - 2)\\}, l in \\{(eps + 1)...2^(t - 1)\\}  proven above\n",
      "                                                condition (l - 1)^(2) in Reals  assuming eps in \\{1...(2^(t - 1) - 2)\\}, l in \\{(eps + 1)...2^(t - 1)\\}  proven above\n",
      "                                  hypothesis Pfail(eps) <= ((1 / 4 * (Summation_{l=(-2^(t - 1)) + 1}^{-(eps + 1)} 1 / l^(2))) + (1 / 4 * (Summation_{l=eps + 1}^{2^(t - 1)} 1 / (l - 1)^(2))))  assuming eps in \\{1...(2^(t - 1) - 2)\\} \n",
      "                                    implication (Pfail(eps) <= ((1 / 4 * (Summation_{l=(-2^(t - 1)) + 1}^{-(eps + 1)} 1 / l^(2))) + (Summation_{l=eps + 1}^{2^(t - 1)} (1 / 4 * 1 / (l - 1)^(2))))) => (Pfail(eps) <= ((1 / 4 * (Summation_{l=(-2^(t - 1)) + 1}^{-(eps + 1)} 1 / l^(2))) + (1 / 4 * (Summation_{l=eps + 1}^{2^(t - 1)} 1 / (l - 1)^(2)))))  assuming eps in \\{1...(2^(t - 1) - 2)\\} \n",
      "                                      implication ((Summation_{l=eps + 1}^{2^(t - 1)} (1 / 4 * 1 / (l - 1)^(2))) = (1 / 4 * (Summation_{l=eps + 1}^{2^(t - 1)} 1 / (l - 1)^(2)))) => ((Pfail(eps) <= ((1 / 4 * (Summation_{l=(-2^(t - 1)) + 1}^{-(eps + 1)} 1 / l^(2))) + (Summation_{l=eps + 1}^{2^(t - 1)} (1 / 4 * 1 / (l - 1)^(2))))) => (Pfail(eps) <= ((1 / 4 * (Summation_{l=(-2^(t - 1)) + 1}^{-(eps + 1)} 1 / l^(2))) + (1 / 4 * (Summation_{l=eps + 1}^{2^(t - 1)} 1 / (l - 1)^(2)))))) \n",
      "                                        specializing forall_{P, x, y} ((x = y) => (P(x) => P(y)))  proven above\n",
      "                                      hypothesis (Summation_{l=eps + 1}^{2^(t - 1)} (1 / 4 * 1 / (l - 1)^(2))) = (1 / 4 * (Summation_{l=eps + 1}^{2^(t - 1)} 1 / (l - 1)^(2)))  assuming eps in \\{1...(2^(t - 1) - 2)\\} \n",
      "                                        specializing forall_{.._0_.., .._1_.. in Complexes} ((Summation_{l=eps + 1}^{2^(t - 1)} ( .. * _0_ * ..  * 1 / (l - 1)^(2) *  .. * _1_ * .. )) = ( .. * _0_ * ..  * (Summation_{l=eps + 1}^{2^(t - 1)} 1 / (l - 1)^(2)) *  .. * _1_ * .. ))  assuming eps in \\{1...(2^(t - 1) - 2)\\} \n",
      "                                          implication [forall_{l in \\{(eps + 1)...2^(t - 1)\\}} (1 / (l - 1)^(2) in Complexes)] => [forall_{.._0_.., .._1_.. in Complexes} ((Summation_{l=eps + 1}^{2^(t - 1)} ( .. * _0_ * ..  * 1 / (l - 1)^(2) *  .. * _1_ * .. )) = ( .. * _0_ * ..  * (Summation_{l=eps + 1}^{2^(t - 1)} 1 / (l - 1)^(2)) *  .. * _1_ * .. ))] \n",
      "                                            specializing forall_{P, S} ([forall_{..y.. in S} (P(..y..) in Complexes)] => [forall_{..x.., ..z.. in Complexes} ([Summation_{..y.. in S} ( .. * x * ..  * P(..y..) *  .. * z * .. )] = ( .. * x * ..  * [Summation_{..y.. in S} P(..y..)] *  .. * z * .. ))]) \n",
      "                                              by theorem proveit.number.complex.distributeThroughSummationRev\n",
      "                                          hypothesis forall_{l in \\{(eps + 1)...2^(t - 1)\\}} (1 / (l - 1)^(2) in Complexes)  assuming eps in \\{1...(2^(t - 1) - 2)\\} \n",
      "                                            generalizing 1 / (l - 1)^(2) in Complexes  assuming eps in \\{1...(2^(t - 1) - 2)\\}, l in \\{(eps + 1)...2^(t - 1)\\} \n",
      "                                              specializing forall_{a in RealsPos} (a in Complexes)  proven above\n",
      "                                              condition 1 / (l - 1)^(2) in RealsPos  assuming eps in \\{1...(2^(t - 1) - 2)\\}, l in \\{(eps + 1)...2^(t - 1)\\}  proven above\n",
      "                                        condition 1 / 4 in Complexes  proven above\n",
      "                                    hypothesis Pfail(eps) <= ((1 / 4 * (Summation_{l=(-2^(t - 1)) + 1}^{-(eps + 1)} 1 / l^(2))) + (Summation_{l=eps + 1}^{2^(t - 1)} (1 / 4 * 1 / (l - 1)^(2))))  assuming eps in \\{1...(2^(t - 1) - 2)\\} \n",
      "                                      implication (Pfail(eps) <= ((Summation_{l=(-2^(t - 1)) + 1}^{-(eps + 1)} (1 / 4 * 1 / l^(2))) + (Summation_{l=eps + 1}^{2^(t - 1)} (1 / 4 * 1 / (l - 1)^(2))))) => (Pfail(eps) <= ((1 / 4 * (Summation_{l=(-2^(t - 1)) + 1}^{-(eps + 1)} 1 / l^(2))) + (Summation_{l=eps + 1}^{2^(t - 1)} (1 / 4 * 1 / (l - 1)^(2)))))  assuming eps in \\{1...(2^(t - 1) - 2)\\} \n",
      "                                        implication ((Summation_{l=(-2^(t - 1)) + 1}^{-(eps + 1)} (1 / 4 * 1 / l^(2))) = (1 / 4 * (Summation_{l=(-2^(t - 1)) + 1}^{-(eps + 1)} 1 / l^(2)))) => ((Pfail(eps) <= ((Summation_{l=(-2^(t - 1)) + 1}^{-(eps + 1)} (1 / 4 * 1 / l^(2))) + (Summation_{l=eps + 1}^{2^(t - 1)} (1 / 4 * 1 / (l - 1)^(2))))) => (Pfail(eps) <= ((1 / 4 * (Summation_{l=(-2^(t - 1)) + 1}^{-(eps + 1)} 1 / l^(2))) + (Summation_{l=eps + 1}^{2^(t - 1)} (1 / 4 * 1 / (l - 1)^(2)))))) \n",
      "                                          specializing forall_{P, x, y} ((x = y) => (P(x) => P(y)))  proven above\n",
      "                                        hypothesis (Summation_{l=(-2^(t - 1)) + 1}^{-(eps + 1)} (1 / 4 * 1 / l^(2))) = (1 / 4 * (Summation_{l=(-2^(t - 1)) + 1}^{-(eps + 1)} 1 / l^(2)))  assuming eps in \\{1...(2^(t - 1) - 2)\\} \n",
      "                                          specializing forall_{.._0_.., .._1_.. in Complexes} ((Summation_{l=(-2^(t - 1)) + 1}^{-(eps + 1)} ( .. * _0_ * ..  * 1 / l^(2) *  .. * _1_ * .. )) = ( .. * _0_ * ..  * (Summation_{l=(-2^(t - 1)) + 1}^{-(eps + 1)} 1 / l^(2)) *  .. * _1_ * .. ))  assuming eps in \\{1...(2^(t - 1) - 2)\\} \n",
      "                                            implication [forall_{l in \\{((-2^(t - 1)) + 1)...(-(eps + 1))\\}} (1 / l^(2) in Complexes)] => [forall_{.._0_.., .._1_.. in Complexes} ((Summation_{l=(-2^(t - 1)) + 1}^{-(eps + 1)} ( .. * _0_ * ..  * 1 / l^(2) *  .. * _1_ * .. )) = ( .. * _0_ * ..  * (Summation_{l=(-2^(t - 1)) + 1}^{-(eps + 1)} 1 / l^(2)) *  .. * _1_ * .. ))] \n",
      "                                              specializing forall_{P, S} ([forall_{..y.. in S} (P(..y..) in Complexes)] => [forall_{..x.., ..z.. in Complexes} ([Summation_{..y.. in S} ( .. * x * ..  * P(..y..) *  .. * z * .. )] = ( .. * x * ..  * [Summation_{..y.. in S} P(..y..)] *  .. * z * .. ))])  proven above\n",
      "                                            hypothesis forall_{l in \\{((-2^(t - 1)) + 1)...(-(eps + 1))\\}} (1 / l^(2) in Complexes)  assuming eps in \\{1...(2^(t - 1) - 2)\\} \n",
      "                                              generalizing 1 / l^(2) in Complexes  assuming eps in \\{1...(2^(t - 1) - 2)\\}, l in \\{((-2^(t - 1)) + 1)...(-(eps + 1))\\} \n",
      "                                                specializing forall_{a in RealsPos} (a in Complexes)  proven above\n",
      "                                                condition 1 / l^(2) in RealsPos  assuming eps in \\{1...(2^(t - 1) - 2)\\}, l in \\{((-2^(t - 1)) + 1)...(-(eps + 1))\\}  proven above\n",
      "                                          condition 1 / 4 in Complexes  proven above\n",
      "                                      hypothesis Pfail(eps) <= ((Summation_{l=(-2^(t - 1)) + 1}^{-(eps + 1)} (1 / 4 * 1 / l^(2))) + (Summation_{l=eps + 1}^{2^(t - 1)} (1 / 4 * 1 / (l - 1)^(2))))  assuming eps in \\{1...(2^(t - 1) - 2)\\} \n",
      "                                        implication (((Summation_{l=(-2^(t - 1)) + 1}^{-(eps + 1)} (1 / 4 * 1 / (l - (2^(t) * delta))^(2))) + (Summation_{l=eps + 1}^{2^(t - 1)} (1 / 4 * 1 / (l - (2^(t) * delta))^(2)))) <= ((Summation_{l=(-2^(t - 1)) + 1}^{-(eps + 1)} (1 / 4 * 1 / l^(2))) + (Summation_{l=eps + 1}^{2^(t - 1)} (1 / 4 * 1 / (l - 1)^(2))))) => (Pfail(eps) <= ((Summation_{l=(-2^(t - 1)) + 1}^{-(eps + 1)} (1 / 4 * 1 / l^(2))) + (Summation_{l=eps + 1}^{2^(t - 1)} (1 / 4 * 1 / (l - 1)^(2)))))  assuming eps in \\{1...(2^(t - 1) - 2)\\} \n",
      "                                          implication (Pfail(eps) <= ((Summation_{l=(-2^(t - 1)) + 1}^{-(eps + 1)} (1 / 4 * 1 / (l - (2^(t) * delta))^(2))) + (Summation_{l=eps + 1}^{2^(t - 1)} (1 / 4 * 1 / (l - (2^(t) * delta))^(2))))) => ((((Summation_{l=(-2^(t - 1)) + 1}^{-(eps + 1)} (1 / 4 * 1 / (l - (2^(t) * delta))^(2))) + (Summation_{l=eps + 1}^{2^(t - 1)} (1 / 4 * 1 / (l - (2^(t) * delta))^(2)))) <= ((Summation_{l=(-2^(t - 1)) + 1}^{-(eps + 1)} (1 / 4 * 1 / l^(2))) + (Summation_{l=eps + 1}^{2^(t - 1)} (1 / 4 * 1 / (l - 1)^(2))))) => (Pfail(eps) <= ((Summation_{l=(-2^(t - 1)) + 1}^{-(eps + 1)} (1 / 4 * 1 / l^(2))) + (Summation_{l=eps + 1}^{2^(t - 1)} (1 / 4 * 1 / (l - 1)^(2)))))) \n",
      "                                            specializing forall_{x, y, z} ((x <= y) => ((y <= z) => (x <= z)))  proven above\n",
      "                                          hypothesis Pfail(eps) <= ((Summation_{l=(-2^(t - 1)) + 1}^{-(eps + 1)} (1 / 4 * 1 / (l - (2^(t) * delta))^(2))) + (Summation_{l=eps + 1}^{2^(t - 1)} (1 / 4 * 1 / (l - (2^(t) * delta))^(2))))  assuming eps in \\{1...(2^(t - 1) - 2)\\} \n",
      "                                            implication (Pfail(eps) <= ((Summation_{l=(-2^(t - 1)) + 1}^{-(eps + 1)} (1 / 4 * 1 / (l - (2^(t) * delta))^(2))) + (Summation_{l=eps + 1}^{2^(t - 1)} 1 / (4 * (l - (2^(t) * delta))^(2))))) => (Pfail(eps) <= ((Summation_{l=(-2^(t - 1)) + 1}^{-(eps + 1)} (1 / 4 * 1 / (l - (2^(t) * delta))^(2))) + (Summation_{l=eps + 1}^{2^(t - 1)} (1 / 4 * 1 / (l - (2^(t) * delta))^(2)))))  assuming eps in \\{1...(2^(t - 1) - 2)\\} \n",
      "                                              implication ((Summation_{l=eps + 1}^{2^(t - 1)} 1 / (4 * (l - (2^(t) * delta))^(2))) = (Summation_{l=eps + 1}^{2^(t - 1)} (1 / 4 * 1 / (l - (2^(t) * delta))^(2)))) => ((Pfail(eps) <= ((Summation_{l=(-2^(t - 1)) + 1}^{-(eps + 1)} (1 / 4 * 1 / (l - (2^(t) * delta))^(2))) + (Summation_{l=eps + 1}^{2^(t - 1)} 1 / (4 * (l - (2^(t) * delta))^(2))))) => (Pfail(eps) <= ((Summation_{l=(-2^(t - 1)) + 1}^{-(eps + 1)} (1 / 4 * 1 / (l - (2^(t) * delta))^(2))) + (Summation_{l=eps + 1}^{2^(t - 1)} (1 / 4 * 1 / (l - (2^(t) * delta))^(2)))))) \n",
      "                                                specializing forall_{P, x, y} ((x = y) => (P(x) => P(y)))  proven above\n",
      "                                              hypothesis (Summation_{l=eps + 1}^{2^(t - 1)} 1 / (4 * (l - (2^(t) * delta))^(2))) = (Summation_{l=eps + 1}^{2^(t - 1)} (1 / 4 * 1 / (l - (2^(t) * delta))^(2)))  assuming eps in \\{1...(2^(t - 1) - 2)\\} \n",
      "                                                implication [forall_{l in \\{(eps + 1)...2^(t - 1)\\}} (1 / (4 * (l - (2^(t) * delta))^(2)) = (1 / 4 * 1 / (l - (2^(t) * delta))^(2)))] => ((Summation_{l=eps + 1}^{2^(t - 1)} 1 / (4 * (l - (2^(t) * delta))^(2))) = (Summation_{l=eps + 1}^{2^(t - 1)} (1 / 4 * 1 / (l - (2^(t) * delta))^(2)))) \n",
      "                                                  specializing forall_{Upsilon, ..Q.., f, g, S} ([forall_{..x.. in S | ..Q(..x..)..} (f(..x..) = g(..x..))] => ([Upsilon_{..y.. in S | ..Q(..y..)..} f(..y..)] = [Upsilon_{..z.. in S | ..Q(..z..)..} g(..z..)])) \n",
      "                                                    by axiom proveit.basiclogic.instanceSubstitution\n",
      "                                                hypothesis forall_{l in \\{(eps + 1)...2^(t - 1)\\}} (1 / (4 * (l - (2^(t) * delta))^(2)) = (1 / 4 * 1 / (l - (2^(t) * delta))^(2)))  assuming eps in \\{1...(2^(t - 1) - 2)\\} \n",
      "                                                  generalizing 1 / (4 * (l - (2^(t) * delta))^(2)) = (1 / 4 * 1 / (l - (2^(t) * delta))^(2))  assuming eps in \\{1...(2^(t - 1) - 2)\\}, l in \\{(eps + 1)...2^(t - 1)\\} \n",
      "                                                    specializing forall_{x, y, z in Complexes} (x / (y * z) = (1 / y * x / z)) \n",
      "                                                      by theorem proveit.number.complex.prodOfFracsLeftNumerOneRev\n",
      "                                                    condition 1 in Complexes  proven above\n",
      "                                                    condition 4 in Complexes \n",
      "                                                      specializing forall_{a in NaturalsPos} (a in Complexes)  proven above\n",
      "                                                      condition 4 in NaturalsPos  proven above\n",
      "                                                    condition (l - (2^(t) * delta))^(2) in Complexes  assuming eps in \\{1...(2^(t - 1) - 2)\\}, l in \\{(eps + 1)...2^(t - 1)\\} \n",
      "                                                      specializing forall_{a in RealsPos} (a in Complexes)  proven above\n",
      "                                                      condition (l - (2^(t) * delta))^(2) in RealsPos  assuming eps in \\{1...(2^(t - 1) - 2)\\}, l in \\{(eps + 1)...2^(t - 1)\\} \n",
      "                                                        specializing forall_{a in Reals | a != 0} (a^(2) in RealsPos)  proven above\n",
      "                                                        condition (l - (2^(t) * delta)) != 0  assuming eps in \\{1...(2^(t - 1) - 2)\\}, l in \\{(eps + 1)...2^(t - 1)\\} \n",
      "                                                          specializing forall_{a, b in Complexes | a != b} ((a - b) != 0) \n",
      "                                                            by theorem proveit.number.complex.diffNotEqZero\n",
      "                                                          condition l != (2^(t) * delta)  assuming eps in \\{1...(2^(t - 1) - 2)\\}, l in \\{(eps + 1)...2^(t - 1)\\} \n",
      "                                                            implication ((2^(t) * delta) != l) => (l != (2^(t) * delta)) \n",
      "                                                              specializing forall_{x, y} ((x != y) => (y != x)) \n",
      "                                                                by theorem proveit.basiclogic.equality.notEqualsSymmetry\n",
      "                                                            hypothesis (2^(t) * delta) != l  assuming eps in \\{1...(2^(t - 1) - 2)\\}, l in \\{(eps + 1)...2^(t - 1)\\} \n",
      "                                                              specializing forall_{l in Integers | l != 0} ((2^(t) * delta) != l) \n",
      "                                                                by theorem proveit.physics.quantum.QPE.scaledDelta_notEq_nonzeroInt\n",
      "                                                              condition l != 0  assuming eps in \\{1...(2^(t - 1) - 2)\\}, l in \\{(eps + 1)...2^(t - 1)\\} \n",
      "                                                                specializing forall_{a in Reals | a > 0} (a != 0)  proven above\n",
      "                                                                condition l > 0  assuming eps in \\{1...(2^(t - 1) - 2)\\}, l in \\{(eps + 1)...2^(t - 1)\\} \n",
      "                                                                  specializing forall_{n in \\{(eps + 1)...2^(t - 1)\\}} (n > 0)  assuming eps in \\{1...(2^(t - 1) - 2)\\} \n",
      "                                                                    specializing forall_{a, b in Integers | a > 0} [forall_{n in \\{a...b\\}} (n > 0)] \n",
      "                                                                      by theorem proveit.number.integer.allInPositiveIntervalArePositive\n",
      "                                                                    condition 2^(t - 1) in Integers  proven above\n",
      "                                                                    condition (eps + 1) in Integers  assuming eps in \\{1...(2^(t - 1) - 2)\\}  proven above\n",
      "                                                                    condition (eps + 1) > 0  assuming eps in \\{1...(2^(t - 1) - 2)\\}  proven above\n",
      "                                                                  condition l in \\{(eps + 1)...2^(t - 1)\\}  assuming l in \\{(eps + 1)...2^(t - 1)\\}  proven above\n",
      "                                                                condition l in Reals  assuming eps in \\{1...(2^(t - 1) - 2)\\}, l in \\{(eps + 1)...2^(t - 1)\\} \n",
      "                                                                  specializing forall_{a in Integers} (a in Reals)  proven above\n",
      "                                                                  condition l in Integers  assuming eps in \\{1...(2^(t - 1) - 2)\\}, l in \\{(eps + 1)...2^(t - 1)\\}  proven above\n",
      "                                                              condition l in Integers  assuming eps in \\{1...(2^(t - 1) - 2)\\}, l in \\{(eps + 1)...2^(t - 1)\\}  proven above\n",
      "                                                          condition (2^(t) * delta) in Complexes \n",
      "                                                            specializing forall_{a in Reals} (a in Complexes)  proven above\n",
      "                                                            condition (2^(t) * delta) in Reals \n",
      "                                                              specializing forall_{..x.. in Reals} (( .. * x * .. ) in Reals) \n",
      "                                                                by theorem proveit.number.real.multClosure\n",
      "                                                              condition delta in Reals \n",
      "                                                                by theorem proveit.physics.quantum.QPE.deltaInReals\n",
      "                                                              condition 2^(t) in Reals \n",
      "                                                                specializing forall_{a in NaturalsPos} (a in Reals)  proven above\n",
      "                                                                condition 2^(t) in NaturalsPos \n",
      "                                                                  specializing forall_{a, b in Naturals | a != 0} (a^(b) in NaturalsPos)  proven above\n",
      "                                                                  condition t in Naturals \n",
      "                                                                    specializing forall_{a in NaturalsPos} (a in Naturals)  proven above\n",
      "                                                                    condition t in NaturalsPos \n",
      "                                                                      by axiom proveit.physics.quantum.QPE.tInNaturalsPos\n",
      "                                                                  condition 2 in Naturals  proven above\n",
      "                                                                  condition 2 != 0 \n",
      "                                                                    specializing forall_{a in Reals | a > 0} (a != 0)  proven above\n",
      "                                                                    condition 2 > 0 \n",
      "                                                                      implication (2 in RealsPos) => (2 > 0) \n",
      "                                                                        implication ((2 in RealsPos) <=> (2 > 0)) => ((2 in RealsPos) => (2 > 0)) \n",
      "                                                                          specializing forall_{A, B} ((A <=> B) => (A => B))  proven above\n",
      "                                                                        hypothesis (2 in RealsPos) <=> (2 > 0) \n",
      "                                                                          specializing forall_{a in Reals} ((a in RealsPos) <=> (a > 0))  proven above\n",
      "                                                                          condition 2 in Reals \n",
      "                                                                            specializing forall_{a in NaturalsPos} (a in Reals)  proven above\n",
      "                                                                            condition 2 in NaturalsPos  proven above\n",
      "                                                                      hypothesis 2 in RealsPos \n",
      "                                                                        specializing forall_{a in NaturalsPos} (a in RealsPos)  proven above\n",
      "                                                                        condition 2 in NaturalsPos  proven above\n",
      "                                                                    condition 2 in Reals  proven above\n",
      "                                                          condition l in Complexes  assuming eps in \\{1...(2^(t - 1) - 2)\\}, l in \\{(eps + 1)...2^(t - 1)\\} \n",
      "                                                            specializing forall_{a in Integers} (a in Complexes)  proven above\n",
      "                                                            condition l in Integers  assuming eps in \\{1...(2^(t - 1) - 2)\\}, l in \\{(eps + 1)...2^(t - 1)\\}  proven above\n",
      "                                                        condition (l - (2^(t) * delta)) in Reals  assuming eps in \\{1...(2^(t - 1) - 2)\\}, l in \\{(eps + 1)...2^(t - 1)\\} \n",
      "                                                          specializing forall_{a, b in Reals} ((a - b) in Reals) \n",
      "                                                            by theorem proveit.number.real.subtractClosure\n",
      "                                                          condition (2^(t) * delta) in Reals  proven above\n",
      "                                                          condition l in Reals  assuming eps in \\{1...(2^(t - 1) - 2)\\}, l in \\{(eps + 1)...2^(t - 1)\\}  proven above\n",
      "                                            hypothesis Pfail(eps) <= ((Summation_{l=(-2^(t - 1)) + 1}^{-(eps + 1)} (1 / 4 * 1 / (l - (2^(t) * delta))^(2))) + (Summation_{l=eps + 1}^{2^(t - 1)} 1 / (4 * (l - (2^(t) * delta))^(2))))  assuming eps in \\{1...(2^(t - 1) - 2)\\} \n",
      "                                              implication (Pfail(eps) <= ((Summation_{l=(-2^(t - 1)) + 1}^{-(eps + 1)} 1 / (4 * (l - (2^(t) * delta))^(2))) + (Summation_{l=eps + 1}^{2^(t - 1)} 1 / (4 * (l - (2^(t) * delta))^(2))))) => (Pfail(eps) <= ((Summation_{l=(-2^(t - 1)) + 1}^{-(eps + 1)} (1 / 4 * 1 / (l - (2^(t) * delta))^(2))) + (Summation_{l=eps + 1}^{2^(t - 1)} 1 / (4 * (l - (2^(t) * delta))^(2)))))  assuming eps in \\{1...(2^(t - 1) - 2)\\} \n",
      "                                                implication ((Summation_{l=(-2^(t - 1)) + 1}^{-(eps + 1)} 1 / (4 * (l - (2^(t) * delta))^(2))) = (Summation_{l=(-2^(t - 1)) + 1}^{-(eps + 1)} (1 / 4 * 1 / (l - (2^(t) * delta))^(2)))) => ((Pfail(eps) <= ((Summation_{l=(-2^(t - 1)) + 1}^{-(eps + 1)} 1 / (4 * (l - (2^(t) * delta))^(2))) + (Summation_{l=eps + 1}^{2^(t - 1)} 1 / (4 * (l - (2^(t) * delta))^(2))))) => (Pfail(eps) <= ((Summation_{l=(-2^(t - 1)) + 1}^{-(eps + 1)} (1 / 4 * 1 / (l - (2^(t) * delta))^(2))) + (Summation_{l=eps + 1}^{2^(t - 1)} 1 / (4 * (l - (2^(t) * delta))^(2)))))) \n",
      "                                                  specializing forall_{P, x, y} ((x = y) => (P(x) => P(y)))  proven above\n",
      "                                                hypothesis (Summation_{l=(-2^(t - 1)) + 1}^{-(eps + 1)} 1 / (4 * (l - (2^(t) * delta))^(2))) = (Summation_{l=(-2^(t - 1)) + 1}^{-(eps + 1)} (1 / 4 * 1 / (l - (2^(t) * delta))^(2)))  assuming eps in \\{1...(2^(t - 1) - 2)\\} \n",
      "                                                  implication [forall_{l in \\{((-2^(t - 1)) + 1)...(-(eps + 1))\\}} (1 / (4 * (l - (2^(t) * delta))^(2)) = (1 / 4 * 1 / (l - (2^(t) * delta))^(2)))] => ((Summation_{l=(-2^(t - 1)) + 1}^{-(eps + 1)} 1 / (4 * (l - (2^(t) * delta))^(2))) = (Summation_{l=(-2^(t - 1)) + 1}^{-(eps + 1)} (1 / 4 * 1 / (l - (2^(t) * delta))^(2)))) \n",
      "                                                    specializing forall_{Upsilon, ..Q.., f, g, S} ([forall_{..x.. in S | ..Q(..x..)..} (f(..x..) = g(..x..))] => ([Upsilon_{..y.. in S | ..Q(..y..)..} f(..y..)] = [Upsilon_{..z.. in S | ..Q(..z..)..} g(..z..)]))  proven above\n",
      "                                                  hypothesis forall_{l in \\{((-2^(t - 1)) + 1)...(-(eps + 1))\\}} (1 / (4 * (l - (2^(t) * delta))^(2)) = (1 / 4 * 1 / (l - (2^(t) * delta))^(2)))  assuming eps in \\{1...(2^(t - 1) - 2)\\} \n",
      "                                                    generalizing 1 / (4 * (l - (2^(t) * delta))^(2)) = (1 / 4 * 1 / (l - (2^(t) * delta))^(2))  assuming eps in \\{1...(2^(t - 1) - 2)\\}, l in \\{((-2^(t - 1)) + 1)...(-(eps + 1))\\} \n",
      "                                                      specializing forall_{x, y, z in Complexes} (x / (y * z) = (1 / y * x / z))  proven above\n",
      "                                                      condition 1 in Complexes  proven above\n",
      "                                                      condition 4 in Complexes  proven above\n",
      "                                                      condition (l - (2^(t) * delta))^(2) in Complexes  assuming eps in \\{1...(2^(t - 1) - 2)\\}, l in \\{((-2^(t - 1)) + 1)...(-(eps + 1))\\} \n",
      "                                                        specializing forall_{a in RealsPos} (a in Complexes)  proven above\n",
      "                                                        condition (l - (2^(t) * delta))^(2) in RealsPos  assuming eps in \\{1...(2^(t - 1) - 2)\\}, l in \\{((-2^(t - 1)) + 1)...(-(eps + 1))\\} \n",
      "                                                          specializing forall_{a in Reals | a != 0} (a^(2) in RealsPos)  proven above\n",
      "                                                          condition (l - (2^(t) * delta)) != 0  assuming eps in \\{1...(2^(t - 1) - 2)\\}, l in \\{((-2^(t - 1)) + 1)...(-(eps + 1))\\} \n",
      "                                                            specializing forall_{a, b in Complexes | a != b} ((a - b) != 0)  proven above\n",
      "                                                            condition l != (2^(t) * delta)  assuming eps in \\{1...(2^(t - 1) - 2)\\}, l in \\{((-2^(t - 1)) + 1)...(-(eps + 1))\\} \n",
      "                                                              implication ((2^(t) * delta) != l) => (l != (2^(t) * delta))  proven above\n",
      "                                                              hypothesis (2^(t) * delta) != l  assuming eps in \\{1...(2^(t - 1) - 2)\\}, l in \\{((-2^(t - 1)) + 1)...(-(eps + 1))\\} \n",
      "                                                                specializing forall_{l in Integers | l != 0} ((2^(t) * delta) != l)  proven above\n",
      "                                                                condition l != 0  assuming eps in \\{1...(2^(t - 1) - 2)\\}, l in \\{((-2^(t - 1)) + 1)...(-(eps + 1))\\}  proven above\n",
      "                                                                condition l in Integers  assuming eps in \\{1...(2^(t - 1) - 2)\\}, l in \\{((-2^(t - 1)) + 1)...(-(eps + 1))\\}  proven above\n",
      "                                                            condition (2^(t) * delta) in Complexes  proven above\n",
      "                                                            condition l in Complexes  assuming eps in \\{1...(2^(t - 1) - 2)\\}, l in \\{((-2^(t - 1)) + 1)...(-(eps + 1))\\} \n",
      "                                                              specializing forall_{a in Integers} (a in Complexes)  proven above\n",
      "                                                              condition l in Integers  assuming eps in \\{1...(2^(t - 1) - 2)\\}, l in \\{((-2^(t - 1)) + 1)...(-(eps + 1))\\}  proven above\n",
      "                                                          condition (l - (2^(t) * delta)) in Reals  assuming eps in \\{1...(2^(t - 1) - 2)\\}, l in \\{((-2^(t - 1)) + 1)...(-(eps + 1))\\} \n",
      "                                                            specializing forall_{a, b in Reals} ((a - b) in Reals)  proven above\n",
      "                                                            condition (2^(t) * delta) in Reals  proven above\n",
      "                                                            condition l in Reals  assuming eps in \\{1...(2^(t - 1) - 2)\\}, l in \\{((-2^(t - 1)) + 1)...(-(eps + 1))\\}  proven above\n",
      "                                              hypothesis Pfail(eps) <= ((Summation_{l=(-2^(t - 1)) + 1}^{-(eps + 1)} 1 / (4 * (l - (2^(t) * delta))^(2))) + (Summation_{l=eps + 1}^{2^(t - 1)} 1 / (4 * (l - (2^(t) * delta))^(2))))  assuming eps in \\{1...(2^(t - 1) - 2)\\} \n",
      "                                                implication (((Summation_{l=(-2^(t - 1)) + 1}^{-(eps + 1)} |alpha_{l}|^(2)) + (Summation_{l=eps + 1}^{2^(t - 1)} |alpha_{l}|^(2))) <= ((Summation_{l=(-2^(t - 1)) + 1}^{-(eps + 1)} 1 / (4 * (l - (2^(t) * delta))^(2))) + (Summation_{l=eps + 1}^{2^(t - 1)} 1 / (4 * (l - (2^(t) * delta))^(2))))) => (Pfail(eps) <= ((Summation_{l=(-2^(t - 1)) + 1}^{-(eps + 1)} 1 / (4 * (l - (2^(t) * delta))^(2))) + (Summation_{l=eps + 1}^{2^(t - 1)} 1 / (4 * (l - (2^(t) * delta))^(2)))))  assuming eps in \\{1...(2^(t - 1) - 2)\\} \n",
      "                                                  implication (Pfail(eps) = ((Summation_{l=(-2^(t - 1)) + 1}^{-(eps + 1)} |alpha_{l}|^(2)) + (Summation_{l=eps + 1}^{2^(t - 1)} |alpha_{l}|^(2)))) => ((((Summation_{l=(-2^(t - 1)) + 1}^{-(eps + 1)} |alpha_{l}|^(2)) + (Summation_{l=eps + 1}^{2^(t - 1)} |alpha_{l}|^(2))) <= ((Summation_{l=(-2^(t - 1)) + 1}^{-(eps + 1)} 1 / (4 * (l - (2^(t) * delta))^(2))) + (Summation_{l=eps + 1}^{2^(t - 1)} 1 / (4 * (l - (2^(t) * delta))^(2))))) => (Pfail(eps) <= ((Summation_{l=(-2^(t - 1)) + 1}^{-(eps + 1)} 1 / (4 * (l - (2^(t) * delta))^(2))) + (Summation_{l=eps + 1}^{2^(t - 1)} 1 / (4 * (l - (2^(t) * delta))^(2)))))) \n",
      "                                                    specializing forall_{P, x, y} ((x = y) => (P(y) => P(x)))  proven above\n",
      "                                                  hypothesis Pfail(eps) = ((Summation_{l=(-2^(t - 1)) + 1}^{-(eps + 1)} |alpha_{l}|^(2)) + (Summation_{l=eps + 1}^{2^(t - 1)} |alpha_{l}|^(2)))  assuming eps in \\{1...(2^(t - 1) - 2)\\} \n",
      "                                                    specializing forall_{eps in NaturalsPos} (Pfail(eps) = ((Summation_{l=(-2^(t - 1)) + 1}^{-(eps + 1)} |alpha_{l}|^(2)) + (Summation_{l=eps + 1}^{2^(t - 1)} |alpha_{l}|^(2)))) \n",
      "                                                      by theorem proveit.physics.quantum.QPE.fail_sum\n",
      "                                                    condition eps in NaturalsPos  assuming eps in \\{1...(2^(t - 1) - 2)\\}  proven above\n",
      "                                                hypothesis ((Summation_{l=(-2^(t - 1)) + 1}^{-(eps + 1)} |alpha_{l}|^(2)) + (Summation_{l=eps + 1}^{2^(t - 1)} |alpha_{l}|^(2))) <= ((Summation_{l=(-2^(t - 1)) + 1}^{-(eps + 1)} 1 / (4 * (l - (2^(t) * delta))^(2))) + (Summation_{l=eps + 1}^{2^(t - 1)} 1 / (4 * (l - (2^(t) * delta))^(2))))  assuming eps in \\{1...(2^(t - 1) - 2)\\} \n",
      "                                                  implication (((Summation_{l=(-2^(t - 1)) + 1}^{-(eps + 1)} |alpha_{l}|^(2)) <= (Summation_{l=(-2^(t - 1)) + 1}^{-(eps + 1)} 1 / (4 * (l - (2^(t) * delta))^(2)))) and ((Summation_{l=eps + 1}^{2^(t - 1)} |alpha_{l}|^(2)) <= (Summation_{l=eps + 1}^{2^(t - 1)} 1 / (4 * (l - (2^(t) * delta))^(2))))) => (((Summation_{l=(-2^(t - 1)) + 1}^{-(eps + 1)} |alpha_{l}|^(2)) + (Summation_{l=eps + 1}^{2^(t - 1)} |alpha_{l}|^(2))) <= ((Summation_{l=(-2^(t - 1)) + 1}^{-(eps + 1)} 1 / (4 * (l - (2^(t) * delta))^(2))) + (Summation_{l=eps + 1}^{2^(t - 1)} 1 / (4 * (l - (2^(t) * delta))^(2)))))  assuming eps in \\{1...(2^(t - 1) - 2)\\} \n",
      "                                                    specializing forall_{a, b, c, d in Reals} (((a <= c) and (b <= d)) => ((a + b) <= (c + d))) \n",
      "                                                      by theorem proveit.number.integer.sumIneq2\n",
      "                                                    condition (Summation_{l=(-2^(t - 1)) + 1}^{-(eps + 1)} |alpha_{l}|^(2)) in Reals  assuming eps in \\{1...(2^(t - 1) - 2)\\} \n",
      "                                                      implication [forall_{l in \\{((-2^(t - 1)) + 1)...(-(eps + 1))\\}} (|alpha_{l}|^(2) in Reals)] => ((Summation_{l=(-2^(t - 1)) + 1}^{-(eps + 1)} |alpha_{l}|^(2)) in Reals) \n",
      "                                                        specializing forall_{P, S} ([forall_{..x.. in S} (P(..x..) in Reals)] => ([Summation_{..x.. in S} P(..x..)] in Reals))  proven above\n",
      "                                                      hypothesis forall_{l in \\{((-2^(t - 1)) + 1)...(-(eps + 1))\\}} (|alpha_{l}|^(2) in Reals)  assuming eps in \\{1...(2^(t - 1) - 2)\\} \n",
      "                                                        generalizing |alpha_{l}|^(2) in Reals  assuming eps in \\{1...(2^(t - 1) - 2)\\}, l in \\{((-2^(t - 1)) + 1)...(-(eps + 1))\\} \n",
      "                                                          specializing forall_{a, b in Reals | a >= 0, b > 0} (a^(b) in Reals) \n",
      "                                                            by theorem proveit.number.real.powClosure\n",
      "                                                          condition |alpha_{l}| >= 0  assuming eps in \\{1...(2^(t - 1) - 2)\\}, l in \\{((-2^(t - 1)) + 1)...(-(eps + 1))\\} \n",
      "                                                            implication ((|alpha_{l}| in Reals) and (|alpha_{l}| >= 0)) => (|alpha_{l}| >= 0) \n",
      "                                                              specializing forall_{..A.., B, ..C..} (( .. and A and ..  and B and  .. and C and .. ) => B) \n",
      "                                                                by axiom proveit.basiclogic.boolean.andImpliesEach\n",
      "                                                            hypothesis (|alpha_{l}| in Reals) and (|alpha_{l}| >= 0)  assuming eps in \\{1...(2^(t - 1) - 2)\\}, l in \\{((-2^(t - 1)) + 1)...(-(eps + 1))\\} \n",
      "                                                              specializing forall_{l in Integers} ((|alpha_{l}| in Reals) and (|alpha_{l}| >= 0)) \n",
      "                                                                by theorem proveit.physics.quantum.QPE.all_abs_alpha_l_nonneg\n",
      "                                                              condition l in Integers  assuming eps in \\{1...(2^(t - 1) - 2)\\}, l in \\{((-2^(t - 1)) + 1)...(-(eps + 1))\\}  proven above\n",
      "                                                          condition 2 in Reals  proven above\n",
      "                                                          condition 2 > 0  proven above\n",
      "                                                          condition |alpha_{l}| in Reals  assuming eps in \\{1...(2^(t - 1) - 2)\\}, l in \\{((-2^(t - 1)) + 1)...(-(eps + 1))\\} \n",
      "                                                            implication ((|alpha_{l}| in Reals) and (|alpha_{l}| >= 0)) => (|alpha_{l}| in Reals) \n",
      "                                                              specializing forall_{..A.., B, ..C..} (( .. and A and ..  and B and  .. and C and .. ) => B)  proven above\n",
      "                                                            hypothesis (|alpha_{l}| in Reals) and (|alpha_{l}| >= 0)  assuming eps in \\{1...(2^(t - 1) - 2)\\}, l in \\{((-2^(t - 1)) + 1)...(-(eps + 1))\\}  proven above\n",
      "                                                    condition (Summation_{l=eps + 1}^{2^(t - 1)} 1 / (4 * (l - (2^(t) * delta))^(2))) in Reals  assuming eps in \\{1...(2^(t - 1) - 2)\\} \n",
      "                                                      implication [forall_{l in \\{(eps + 1)...2^(t - 1)\\}} (1 / (4 * (l - (2^(t) * delta))^(2)) in Reals)] => ((Summation_{l=eps + 1}^{2^(t - 1)} 1 / (4 * (l - (2^(t) * delta))^(2))) in Reals) \n",
      "                                                        specializing forall_{P, S} ([forall_{..x.. in S} (P(..x..) in Reals)] => ([Summation_{..x.. in S} P(..x..)] in Reals))  proven above\n",
      "                                                      hypothesis forall_{l in \\{(eps + 1)...2^(t - 1)\\}} (1 / (4 * (l - (2^(t) * delta))^(2)) in Reals)  assuming eps in \\{1...(2^(t - 1) - 2)\\} \n",
      "                                                        generalizing 1 / (4 * (l - (2^(t) * delta))^(2)) in Reals  assuming eps in \\{1...(2^(t - 1) - 2)\\}, l in \\{(eps + 1)...2^(t - 1)\\} \n",
      "                                                          specializing forall_{a in RealsPos} (a in Reals)  proven above\n",
      "                                                          condition 1 / (4 * (l - (2^(t) * delta))^(2)) in RealsPos  assuming eps in \\{1...(2^(t - 1) - 2)\\}, l in \\{(eps + 1)...2^(t - 1)\\} \n",
      "                                                            specializing forall_{a, b in RealsPos | b != 0} (a / b in RealsPos)  proven above\n",
      "                                                            condition 1 in RealsPos  proven above\n",
      "                                                            condition (4 * (l - (2^(t) * delta))^(2)) != 0  assuming eps in \\{1...(2^(t - 1) - 2)\\}, l in \\{(eps + 1)...2^(t - 1)\\} \n",
      "                                                              specializing forall_{a in Reals | a > 0} (a != 0)  proven above\n",
      "                                                              condition (4 * (l - (2^(t) * delta))^(2)) > 0  assuming eps in \\{1...(2^(t - 1) - 2)\\}, l in \\{(eps + 1)...2^(t - 1)\\} \n",
      "                                                                implication ((4 * (l - (2^(t) * delta))^(2)) in RealsPos) => ((4 * (l - (2^(t) * delta))^(2)) > 0) \n",
      "                                                                  hypothetically reasoning (4 * (l - (2^(t) * delta))^(2)) > 0  assuming (4 * (l - (2^(t) * delta))^(2)) in RealsPos \n",
      "                                                                    implication ((4 * (l - (2^(t) * delta))^(2)) in RealsPos) => ((4 * (l - (2^(t) * delta))^(2)) > 0)  assuming (4 * (l - (2^(t) * delta))^(2)) in RealsPos \n",
      "                                                                      implication (((4 * (l - (2^(t) * delta))^(2)) in RealsPos) <=> ((4 * (l - (2^(t) * delta))^(2)) > 0)) => (((4 * (l - (2^(t) * delta))^(2)) in RealsPos) => ((4 * (l - (2^(t) * delta))^(2)) > 0)) \n",
      "                                                                        specializing forall_{A, B} ((A <=> B) => (A => B))  proven above\n",
      "                                                                      hypothesis ((4 * (l - (2^(t) * delta))^(2)) in RealsPos) <=> ((4 * (l - (2^(t) * delta))^(2)) > 0)  assuming (4 * (l - (2^(t) * delta))^(2)) in RealsPos \n",
      "                                                                        specializing forall_{a in Reals} ((a in RealsPos) <=> (a > 0))  proven above\n",
      "                                                                        condition (4 * (l - (2^(t) * delta))^(2)) in Reals  assuming (4 * (l - (2^(t) * delta))^(2)) in RealsPos \n",
      "                                                                          specializing forall_{a in RealsPos} (a in Reals)  proven above\n",
      "                                                                          condition (4 * (l - (2^(t) * delta))^(2)) in RealsPos  assuming (4 * (l - (2^(t) * delta))^(2)) in RealsPos \n",
      "                                                                    hypothesis (4 * (l - (2^(t) * delta))^(2)) in RealsPos  assuming (4 * (l - (2^(t) * delta))^(2)) in RealsPos  proven above\n",
      "                                                                hypothesis (4 * (l - (2^(t) * delta))^(2)) in RealsPos  assuming eps in \\{1...(2^(t - 1) - 2)\\}, l in \\{(eps + 1)...2^(t - 1)\\} \n",
      "                                                                  specializing forall_{..x.. in RealsPos} (( .. * x * .. ) in RealsPos) \n",
      "                                                                    by theorem proveit.number.real.multPosClosure\n",
      "                                                                  condition (l - (2^(t) * delta))^(2) in RealsPos  assuming eps in \\{1...(2^(t - 1) - 2)\\}, l in \\{(eps + 1)...2^(t - 1)\\}  proven above\n",
      "                                                                  condition 4 in RealsPos  proven above\n",
      "                                                              condition (4 * (l - (2^(t) * delta))^(2)) in Reals  assuming eps in \\{1...(2^(t - 1) - 2)\\}, l in \\{(eps + 1)...2^(t - 1)\\} \n",
      "                                                                specializing forall_{a in RealsPos} (a in Reals)  proven above\n",
      "                                                                condition (4 * (l - (2^(t) * delta))^(2)) in RealsPos  assuming eps in \\{1...(2^(t - 1) - 2)\\}, l in \\{(eps + 1)...2^(t - 1)\\}  proven above\n",
      "                                                            condition (4 * (l - (2^(t) * delta))^(2)) in RealsPos  assuming eps in \\{1...(2^(t - 1) - 2)\\}, l in \\{(eps + 1)...2^(t - 1)\\}  proven above\n",
      "                                                    condition (Summation_{l=eps + 1}^{2^(t - 1)} |alpha_{l}|^(2)) in Reals  assuming eps in \\{1...(2^(t - 1) - 2)\\} \n",
      "                                                      implication [forall_{l in \\{(eps + 1)...2^(t - 1)\\}} (|alpha_{l}|^(2) in Reals)] => ((Summation_{l=eps + 1}^{2^(t - 1)} |alpha_{l}|^(2)) in Reals) \n",
      "                                                        specializing forall_{P, S} ([forall_{..x.. in S} (P(..x..) in Reals)] => ([Summation_{..x.. in S} P(..x..)] in Reals))  proven above\n",
      "                                                      hypothesis forall_{l in \\{(eps + 1)...2^(t - 1)\\}} (|alpha_{l}|^(2) in Reals)  assuming eps in \\{1...(2^(t - 1) - 2)\\} \n",
      "                                                        generalizing |alpha_{l}|^(2) in Reals  assuming eps in \\{1...(2^(t - 1) - 2)\\}, l in \\{(eps + 1)...2^(t - 1)\\} \n",
      "                                                          specializing forall_{a, b in Reals | a >= 0, b > 0} (a^(b) in Reals)  proven above\n",
      "                                                          condition |alpha_{l}| >= 0  assuming eps in \\{1...(2^(t - 1) - 2)\\}, l in \\{(eps + 1)...2^(t - 1)\\} \n",
      "                                                            implication ((|alpha_{l}| in Reals) and (|alpha_{l}| >= 0)) => (|alpha_{l}| >= 0)  proven above\n",
      "                                                            hypothesis (|alpha_{l}| in Reals) and (|alpha_{l}| >= 0)  assuming eps in \\{1...(2^(t - 1) - 2)\\}, l in \\{(eps + 1)...2^(t - 1)\\} \n",
      "                                                              specializing forall_{l in Integers} ((|alpha_{l}| in Reals) and (|alpha_{l}| >= 0))  proven above\n",
      "                                                              condition l in Integers  assuming eps in \\{1...(2^(t - 1) - 2)\\}, l in \\{(eps + 1)...2^(t - 1)\\}  proven above\n",
      "                                                          condition 2 in Reals  proven above\n",
      "                                                          condition 2 > 0  proven above\n",
      "                                                          condition |alpha_{l}| in Reals  assuming eps in \\{1...(2^(t - 1) - 2)\\}, l in \\{(eps + 1)...2^(t - 1)\\} \n",
      "                                                            implication ((|alpha_{l}| in Reals) and (|alpha_{l}| >= 0)) => (|alpha_{l}| in Reals)  proven above\n",
      "                                                            hypothesis (|alpha_{l}| in Reals) and (|alpha_{l}| >= 0)  assuming eps in \\{1...(2^(t - 1) - 2)\\}, l in \\{(eps + 1)...2^(t - 1)\\}  proven above\n",
      "                                                    condition (Summation_{l=(-2^(t - 1)) + 1}^{-(eps + 1)} 1 / (4 * (l - (2^(t) * delta))^(2))) in Reals  assuming eps in \\{1...(2^(t - 1) - 2)\\} \n",
      "                                                      implication [forall_{l in \\{((-2^(t - 1)) + 1)...(-(eps + 1))\\}} (1 / (4 * (l - (2^(t) * delta))^(2)) in Reals)] => ((Summation_{l=(-2^(t - 1)) + 1}^{-(eps + 1)} 1 / (4 * (l - (2^(t) * delta))^(2))) in Reals) \n",
      "                                                        specializing forall_{P, S} ([forall_{..x.. in S} (P(..x..) in Reals)] => ([Summation_{..x.. in S} P(..x..)] in Reals))  proven above\n",
      "                                                      hypothesis forall_{l in \\{((-2^(t - 1)) + 1)...(-(eps + 1))\\}} (1 / (4 * (l - (2^(t) * delta))^(2)) in Reals)  assuming eps in \\{1...(2^(t - 1) - 2)\\} \n",
      "                                                        generalizing 1 / (4 * (l - (2^(t) * delta))^(2)) in Reals  assuming eps in \\{1...(2^(t - 1) - 2)\\}, l in \\{((-2^(t - 1)) + 1)...(-(eps + 1))\\} \n",
      "                                                          specializing forall_{a in RealsPos} (a in Reals)  proven above\n",
      "                                                          condition 1 / (4 * (l - (2^(t) * delta))^(2)) in RealsPos  assuming eps in \\{1...(2^(t - 1) - 2)\\}, l in \\{((-2^(t - 1)) + 1)...(-(eps + 1))\\} \n",
      "                                                            specializing forall_{a, b in RealsPos | b != 0} (a / b in RealsPos)  proven above\n",
      "                                                            condition 1 in RealsPos  proven above\n",
      "                                                            condition (4 * (l - (2^(t) * delta))^(2)) != 0  assuming eps in \\{1...(2^(t - 1) - 2)\\}, l in \\{((-2^(t - 1)) + 1)...(-(eps + 1))\\} \n",
      "                                                              specializing forall_{a in Reals | a > 0} (a != 0)  proven above\n",
      "                                                              condition (4 * (l - (2^(t) * delta))^(2)) > 0  assuming eps in \\{1...(2^(t - 1) - 2)\\}, l in \\{((-2^(t - 1)) + 1)...(-(eps + 1))\\} \n",
      "                                                                implication ((4 * (l - (2^(t) * delta))^(2)) in RealsPos) => ((4 * (l - (2^(t) * delta))^(2)) > 0)  proven above\n",
      "                                                                hypothesis (4 * (l - (2^(t) * delta))^(2)) in RealsPos  assuming eps in \\{1...(2^(t - 1) - 2)\\}, l in \\{((-2^(t - 1)) + 1)...(-(eps + 1))\\} \n",
      "                                                                  specializing forall_{..x.. in RealsPos} (( .. * x * .. ) in RealsPos)  proven above\n",
      "                                                                  condition (l - (2^(t) * delta))^(2) in RealsPos  assuming eps in \\{1...(2^(t - 1) - 2)\\}, l in \\{((-2^(t - 1)) + 1)...(-(eps + 1))\\}  proven above\n",
      "                                                                  condition 4 in RealsPos  proven above\n",
      "                                                              condition (4 * (l - (2^(t) * delta))^(2)) in Reals  assuming eps in \\{1...(2^(t - 1) - 2)\\}, l in \\{((-2^(t - 1)) + 1)...(-(eps + 1))\\} \n",
      "                                                                specializing forall_{a in RealsPos} (a in Reals)  proven above\n",
      "                                                                condition (4 * (l - (2^(t) * delta))^(2)) in RealsPos  assuming eps in \\{1...(2^(t - 1) - 2)\\}, l in \\{((-2^(t - 1)) + 1)...(-(eps + 1))\\}  proven above\n",
      "                                                            condition (4 * (l - (2^(t) * delta))^(2)) in RealsPos  assuming eps in \\{1...(2^(t - 1) - 2)\\}, l in \\{((-2^(t - 1)) + 1)...(-(eps + 1))\\}  proven above\n",
      "                                                  hypothesis ((Summation_{l=(-2^(t - 1)) + 1}^{-(eps + 1)} |alpha_{l}|^(2)) <= (Summation_{l=(-2^(t - 1)) + 1}^{-(eps + 1)} 1 / (4 * (l - (2^(t) * delta))^(2)))) and ((Summation_{l=eps + 1}^{2^(t - 1)} |alpha_{l}|^(2)) <= (Summation_{l=eps + 1}^{2^(t - 1)} 1 / (4 * (l - (2^(t) * delta))^(2))))  assuming eps in \\{1...(2^(t - 1) - 2)\\} \n",
      "                                                    specializing forall_{A, B | A, B} (A and B) \n",
      "                                                      by theorem proveit.basiclogic.boolean.conjunctionIntro\n",
      "                                                    condition (Summation_{l=eps + 1}^{2^(t - 1)} |alpha_{l}|^(2)) <= (Summation_{l=eps + 1}^{2^(t - 1)} 1 / (4 * (l - (2^(t) * delta))^(2)))  assuming eps in \\{1...(2^(t - 1) - 2)\\} \n",
      "                                                      implication [forall_{k in \\{(eps + 1)...2^(t - 1)\\}} (|alpha_{k}|^(2) <= 1 / (4 * (k - (2^(t) * delta))^(2)))] => ((Summation_{l=eps + 1}^{2^(t - 1)} |alpha_{l}|^(2)) <= (Summation_{l=eps + 1}^{2^(t - 1)} 1 / (4 * (l - (2^(t) * delta))^(2))))  assuming eps in \\{1...(2^(t - 1) - 2)\\} \n",
      "                                                        specializing forall_{m, n in Integers} ([forall_{k in \\{m...n\\}} (|alpha_{k}|^(2) <= 1 / (4 * (k - (2^(t) * delta))^(2)))] => ((Summation_{l=m}^{n} |alpha_{l}|^(2)) <= (Summation_{l=m}^{n} 1 / (4 * (l - (2^(t) * delta))^(2))))) \n",
      "                                                          specializing forall_{a, b} [forall_{m, n in Integers} ([forall_{k in \\{m...n\\}} (a(k) <= b(k))] => ((Summation_{l=m}^{n} a(l)) <= (Summation_{l=m}^{n} b(l))))] \n",
      "                                                            by theorem proveit.number.integer.sumIneq1\n",
      "                                                        condition 2^(t - 1) in Integers  assuming eps in \\{1...(2^(t - 1) - 2)\\}  proven above\n",
      "                                                        condition (eps + 1) in Integers  assuming eps in \\{1...(2^(t - 1) - 2)\\}  proven above\n",
      "                                                      hypothesis forall_{k in \\{(eps + 1)...2^(t - 1)\\}} (|alpha_{k}|^(2) <= 1 / (4 * (k - (2^(t) * delta))^(2)))  assuming eps in \\{1...(2^(t - 1) - 2)\\} \n",
      "                                                        specializing forall_{l in \\{(eps + 1)...2^(t - 1)\\}} (|alpha_{l}|^(2) <= 1 / (4 * (l - (2^(t) * delta))^(2)))  assuming eps in \\{1...(2^(t - 1) - 2)\\} \n",
      "                                                          generalizing |alpha_{l}|^(2) <= 1 / (4 * (l - (2^(t) * delta))^(2))  assuming eps in \\{1...(2^(t - 1) - 2)\\}, l in \\{(eps + 1)...2^(t - 1)\\} \n",
      "                                                            specializing forall_{l in \\{((-2^(t - 1)) + 1)...2^(t - 1)\\} | l != 0} (|alpha_{l}|^(2) <= 1 / (4 * (l - (2^(t) * delta))^(2))) \n",
      "                                                              by theorem proveit.physics.quantum.QPE.alpha_l_sqrd_ineq\n",
      "                                                            condition l != 0  assuming eps in \\{1...(2^(t - 1) - 2)\\}, l in \\{(eps + 1)...2^(t - 1)\\}  proven above\n",
      "                                                            condition l in \\{((-2^(t - 1)) + 1)...2^(t - 1)\\}  assuming eps in \\{1...(2^(t - 1) - 2)\\}, l in \\{(eps + 1)...2^(t - 1)\\} \n",
      "                                                              specializing forall_{l in \\{(eps + 1)...2^(t - 1)\\}} (l in \\{((-2^(t - 1)) + 1)...2^(t - 1)\\})  assuming eps in \\{1...(2^(t - 1) - 2)\\} \n",
      "                                                                specializing forall_{eps in NaturalsPos} [forall_{l in \\{(eps + 1)...2^(t - 1)\\}} (l in \\{((-2^(t - 1)) + 1)...2^(t - 1)\\})] \n",
      "                                                                  by theorem proveit.physics.quantum.QPE.posDomainInFullDomain\n",
      "                                                                condition eps in NaturalsPos  assuming eps in \\{1...(2^(t - 1) - 2)\\}  proven above\n",
      "                                                              condition l in \\{(eps + 1)...2^(t - 1)\\}  assuming l in \\{(eps + 1)...2^(t - 1)\\}  proven above\n",
      "                                                    condition (Summation_{l=(-2^(t - 1)) + 1}^{-(eps + 1)} |alpha_{l}|^(2)) <= (Summation_{l=(-2^(t - 1)) + 1}^{-(eps + 1)} 1 / (4 * (l - (2^(t) * delta))^(2)))  assuming eps in \\{1...(2^(t - 1) - 2)\\} \n",
      "                                                      implication [forall_{k in \\{((-2^(t - 1)) + 1)...(-(eps + 1))\\}} (|alpha_{k}|^(2) <= 1 / (4 * (k - (2^(t) * delta))^(2)))] => ((Summation_{l=(-2^(t - 1)) + 1}^{-(eps + 1)} |alpha_{l}|^(2)) <= (Summation_{l=(-2^(t - 1)) + 1}^{-(eps + 1)} 1 / (4 * (l - (2^(t) * delta))^(2))))  assuming eps in \\{1...(2^(t - 1) - 2)\\} \n",
      "                                                        specializing forall_{m, n in Integers} ([forall_{k in \\{m...n\\}} (|alpha_{k}|^(2) <= 1 / (4 * (k - (2^(t) * delta))^(2)))] => ((Summation_{l=m}^{n} |alpha_{l}|^(2)) <= (Summation_{l=m}^{n} 1 / (4 * (l - (2^(t) * delta))^(2)))))  proven above\n",
      "                                                        condition (-(eps + 1)) in Integers  assuming eps in \\{1...(2^(t - 1) - 2)\\}  proven above\n",
      "                                                        condition ((-2^(t - 1)) + 1) in Integers  proven above\n",
      "                                                      hypothesis forall_{k in \\{((-2^(t - 1)) + 1)...(-(eps + 1))\\}} (|alpha_{k}|^(2) <= 1 / (4 * (k - (2^(t) * delta))^(2)))  assuming eps in \\{1...(2^(t - 1) - 2)\\} \n",
      "                                                        specializing forall_{l in \\{((-2^(t - 1)) + 1)...(-(eps + 1))\\}} (|alpha_{l}|^(2) <= 1 / (4 * (l - (2^(t) * delta))^(2)))  assuming eps in \\{1...(2^(t - 1) - 2)\\} \n",
      "                                                          generalizing |alpha_{l}|^(2) <= 1 / (4 * (l - (2^(t) * delta))^(2))  assuming eps in \\{1...(2^(t - 1) - 2)\\}, l in \\{((-2^(t - 1)) + 1)...(-(eps + 1))\\} \n",
      "                                                            specializing forall_{l in \\{((-2^(t - 1)) + 1)...2^(t - 1)\\} | l != 0} (|alpha_{l}|^(2) <= 1 / (4 * (l - (2^(t) * delta))^(2)))  proven above\n",
      "                                                            condition l != 0  assuming eps in \\{1...(2^(t - 1) - 2)\\}, l in \\{((-2^(t - 1)) + 1)...(-(eps + 1))\\}  proven above\n",
      "                                                            condition l in \\{((-2^(t - 1)) + 1)...2^(t - 1)\\}  assuming eps in \\{1...(2^(t - 1) - 2)\\}, l in \\{((-2^(t - 1)) + 1)...(-(eps + 1))\\} \n",
      "                                                              specializing forall_{l in \\{((-2^(t - 1)) + 1)...(-(eps + 1))\\}} (l in \\{((-2^(t - 1)) + 1)...2^(t - 1)\\})  assuming eps in \\{1...(2^(t - 1) - 2)\\} \n",
      "                                                                specializing forall_{eps in NaturalsPos} [forall_{l in \\{((-2^(t - 1)) + 1)...(-(eps + 1))\\}} (l in \\{((-2^(t - 1)) + 1)...2^(t - 1)\\})] \n",
      "                                                                  by theorem proveit.physics.quantum.QPE.negDomainInFullDomain\n",
      "                                                                condition eps in NaturalsPos  assuming eps in \\{1...(2^(t - 1) - 2)\\}  proven above\n",
      "                                                              condition l in \\{((-2^(t - 1)) + 1)...(-(eps + 1))\\}  assuming l in \\{((-2^(t - 1)) + 1)...(-(eps + 1))\\}  proven above\n",
      "                                        hypothesis ((Summation_{l=(-2^(t - 1)) + 1}^{-(eps + 1)} (1 / 4 * 1 / (l - (2^(t) * delta))^(2))) + (Summation_{l=eps + 1}^{2^(t - 1)} (1 / 4 * 1 / (l - (2^(t) * delta))^(2)))) <= ((Summation_{l=(-2^(t - 1)) + 1}^{-(eps + 1)} (1 / 4 * 1 / l^(2))) + (Summation_{l=eps + 1}^{2^(t - 1)} (1 / 4 * 1 / (l - 1)^(2))))  assuming eps in \\{1...(2^(t - 1) - 2)\\} \n",
      "                                          implication (((Summation_{l=(-2^(t - 1)) + 1}^{-(eps + 1)} (1 / 4 * 1 / (l - (2^(t) * delta))^(2))) <= (Summation_{l=(-2^(t - 1)) + 1}^{-(eps + 1)} (1 / 4 * 1 / l^(2)))) and ((Summation_{l=eps + 1}^{2^(t - 1)} (1 / 4 * 1 / (l - (2^(t) * delta))^(2))) <= (Summation_{l=eps + 1}^{2^(t - 1)} (1 / 4 * 1 / (l - 1)^(2))))) => (((Summation_{l=(-2^(t - 1)) + 1}^{-(eps + 1)} (1 / 4 * 1 / (l - (2^(t) * delta))^(2))) + (Summation_{l=eps + 1}^{2^(t - 1)} (1 / 4 * 1 / (l - (2^(t) * delta))^(2)))) <= ((Summation_{l=(-2^(t - 1)) + 1}^{-(eps + 1)} (1 / 4 * 1 / l^(2))) + (Summation_{l=eps + 1}^{2^(t - 1)} (1 / 4 * 1 / (l - 1)^(2)))))  assuming eps in \\{1...(2^(t - 1) - 2)\\} \n",
      "                                            specializing forall_{a, b, c, d in Reals} (((a <= c) and (b <= d)) => ((a + b) <= (c + d)))  proven above\n",
      "                                            condition (Summation_{l=eps + 1}^{2^(t - 1)} (1 / 4 * 1 / (l - 1)^(2))) in Reals  assuming eps in \\{1...(2^(t - 1) - 2)\\} \n",
      "                                              implication [forall_{l in \\{(eps + 1)...2^(t - 1)\\}} ((1 / 4 * 1 / (l - 1)^(2)) in Reals)] => ((Summation_{l=eps + 1}^{2^(t - 1)} (1 / 4 * 1 / (l - 1)^(2))) in Reals) \n",
      "                                                specializing forall_{P, S} ([forall_{..x.. in S} (P(..x..) in Reals)] => ([Summation_{..x.. in S} P(..x..)] in Reals))  proven above\n",
      "                                              hypothesis forall_{l in \\{(eps + 1)...2^(t - 1)\\}} ((1 / 4 * 1 / (l - 1)^(2)) in Reals)  assuming eps in \\{1...(2^(t - 1) - 2)\\} \n",
      "                                                generalizing (1 / 4 * 1 / (l - 1)^(2)) in Reals  assuming eps in \\{1...(2^(t - 1) - 2)\\}, l in \\{(eps + 1)...2^(t - 1)\\} \n",
      "                                                  specializing forall_{a in RealsPos} (a in Reals)  proven above\n",
      "                                                  condition (1 / 4 * 1 / (l - 1)^(2)) in RealsPos  assuming eps in \\{1...(2^(t - 1) - 2)\\}, l in \\{(eps + 1)...2^(t - 1)\\} \n",
      "                                                    specializing forall_{..x.. in RealsPos} (( .. * x * .. ) in RealsPos)  proven above\n",
      "                                                    condition 1 / (l - 1)^(2) in RealsPos  assuming eps in \\{1...(2^(t - 1) - 2)\\}, l in \\{(eps + 1)...2^(t - 1)\\}  proven above\n",
      "                                                    condition 1 / 4 in RealsPos  proven above\n",
      "                                            condition (Summation_{l=(-2^(t - 1)) + 1}^{-(eps + 1)} (1 / 4 * 1 / l^(2))) in Reals  assuming eps in \\{1...(2^(t - 1) - 2)\\} \n",
      "                                              implication [forall_{l in \\{((-2^(t - 1)) + 1)...(-(eps + 1))\\}} ((1 / 4 * 1 / l^(2)) in Reals)] => ((Summation_{l=(-2^(t - 1)) + 1}^{-(eps + 1)} (1 / 4 * 1 / l^(2))) in Reals) \n",
      "                                                specializing forall_{P, S} ([forall_{..x.. in S} (P(..x..) in Reals)] => ([Summation_{..x.. in S} P(..x..)] in Reals))  proven above\n",
      "                                              hypothesis forall_{l in \\{((-2^(t - 1)) + 1)...(-(eps + 1))\\}} ((1 / 4 * 1 / l^(2)) in Reals)  assuming eps in \\{1...(2^(t - 1) - 2)\\} \n",
      "                                                generalizing (1 / 4 * 1 / l^(2)) in Reals  assuming eps in \\{1...(2^(t - 1) - 2)\\}, l in \\{((-2^(t - 1)) + 1)...(-(eps + 1))\\} \n",
      "                                                  specializing forall_{a in RealsPos} (a in Reals)  proven above\n",
      "                                                  condition (1 / 4 * 1 / l^(2)) in RealsPos  assuming eps in \\{1...(2^(t - 1) - 2)\\}, l in \\{((-2^(t - 1)) + 1)...(-(eps + 1))\\} \n",
      "                                                    specializing forall_{..x.. in RealsPos} (( .. * x * .. ) in RealsPos)  proven above\n",
      "                                                    condition 1 / l^(2) in RealsPos  assuming eps in \\{1...(2^(t - 1) - 2)\\}, l in \\{((-2^(t - 1)) + 1)...(-(eps + 1))\\}  proven above\n",
      "                                                    condition 1 / 4 in RealsPos  proven above\n",
      "                                            condition (Summation_{l=eps + 1}^{2^(t - 1)} (1 / 4 * 1 / (l - (2^(t) * delta))^(2))) in Reals  assuming eps in \\{1...(2^(t - 1) - 2)\\} \n",
      "                                              implication [forall_{l in \\{(eps + 1)...2^(t - 1)\\}} ((1 / 4 * 1 / (l - (2^(t) * delta))^(2)) in Reals)] => ((Summation_{l=eps + 1}^{2^(t - 1)} (1 / 4 * 1 / (l - (2^(t) * delta))^(2))) in Reals) \n",
      "                                                specializing forall_{P, S} ([forall_{..x.. in S} (P(..x..) in Reals)] => ([Summation_{..x.. in S} P(..x..)] in Reals))  proven above\n",
      "                                              hypothesis forall_{l in \\{(eps + 1)...2^(t - 1)\\}} ((1 / 4 * 1 / (l - (2^(t) * delta))^(2)) in Reals)  assuming eps in \\{1...(2^(t - 1) - 2)\\} \n",
      "                                                generalizing (1 / 4 * 1 / (l - (2^(t) * delta))^(2)) in Reals  assuming eps in \\{1...(2^(t - 1) - 2)\\}, l in \\{(eps + 1)...2^(t - 1)\\} \n",
      "                                                  specializing forall_{a in RealsPos} (a in Reals)  proven above\n",
      "                                                  condition (1 / 4 * 1 / (l - (2^(t) * delta))^(2)) in RealsPos  assuming eps in \\{1...(2^(t - 1) - 2)\\}, l in \\{(eps + 1)...2^(t - 1)\\} \n",
      "                                                    specializing forall_{..x.. in RealsPos} (( .. * x * .. ) in RealsPos)  proven above\n",
      "                                                    condition 1 / (l - (2^(t) * delta))^(2) in RealsPos  assuming eps in \\{1...(2^(t - 1) - 2)\\}, l in \\{(eps + 1)...2^(t - 1)\\} \n",
      "                                                      specializing forall_{a, b in RealsPos | b != 0} (a / b in RealsPos)  proven above\n",
      "                                                      condition (l - (2^(t) * delta))^(2) in RealsPos  assuming eps in \\{1...(2^(t - 1) - 2)\\}, l in \\{(eps + 1)...2^(t - 1)\\}  proven above\n",
      "                                                      condition 1 in RealsPos  proven above\n",
      "                                                      condition (l - (2^(t) * delta))^(2) != 0  assuming eps in \\{1...(2^(t - 1) - 2)\\}, l in \\{(eps + 1)...2^(t - 1)\\} \n",
      "                                                        specializing forall_{a in Reals | a > 0} (a != 0)  proven above\n",
      "                                                        condition (l - (2^(t) * delta))^(2) in Reals  assuming eps in \\{1...(2^(t - 1) - 2)\\}, l in \\{(eps + 1)...2^(t - 1)\\} \n",
      "                                                          specializing forall_{a in RealsPos} (a in Reals)  proven above\n",
      "                                                          condition (l - (2^(t) * delta))^(2) in RealsPos  assuming eps in \\{1...(2^(t - 1) - 2)\\}, l in \\{(eps + 1)...2^(t - 1)\\}  proven above\n",
      "                                                        condition (l - (2^(t) * delta))^(2) > 0  assuming eps in \\{1...(2^(t - 1) - 2)\\}, l in \\{(eps + 1)...2^(t - 1)\\} \n",
      "                                                          implication ((l - (2^(t) * delta))^(2) in RealsPos) => ((l - (2^(t) * delta))^(2) > 0) \n",
      "                                                            hypothetically reasoning (l - (2^(t) * delta))^(2) > 0  assuming (l - (2^(t) * delta))^(2) in RealsPos \n",
      "                                                              implication ((l - (2^(t) * delta))^(2) in RealsPos) => ((l - (2^(t) * delta))^(2) > 0)  assuming (l - (2^(t) * delta))^(2) in RealsPos \n",
      "                                                                implication (((l - (2^(t) * delta))^(2) in RealsPos) <=> ((l - (2^(t) * delta))^(2) > 0)) => (((l - (2^(t) * delta))^(2) in RealsPos) => ((l - (2^(t) * delta))^(2) > 0)) \n",
      "                                                                  specializing forall_{A, B} ((A <=> B) => (A => B))  proven above\n",
      "                                                                hypothesis ((l - (2^(t) * delta))^(2) in RealsPos) <=> ((l - (2^(t) * delta))^(2) > 0)  assuming (l - (2^(t) * delta))^(2) in RealsPos \n",
      "                                                                  specializing forall_{a in Reals} ((a in RealsPos) <=> (a > 0))  proven above\n",
      "                                                                  condition (l - (2^(t) * delta))^(2) in Reals  assuming (l - (2^(t) * delta))^(2) in RealsPos \n",
      "                                                                    specializing forall_{a in RealsPos} (a in Reals)  proven above\n",
      "                                                                    condition (l - (2^(t) * delta))^(2) in RealsPos  assuming (l - (2^(t) * delta))^(2) in RealsPos \n",
      "                                                              hypothesis (l - (2^(t) * delta))^(2) in RealsPos  assuming (l - (2^(t) * delta))^(2) in RealsPos  proven above\n",
      "                                                          hypothesis (l - (2^(t) * delta))^(2) in RealsPos  assuming eps in \\{1...(2^(t - 1) - 2)\\}, l in \\{(eps + 1)...2^(t - 1)\\}  proven above\n",
      "                                                    condition 1 / 4 in RealsPos  proven above\n",
      "                                            condition (Summation_{l=(-2^(t - 1)) + 1}^{-(eps + 1)} (1 / 4 * 1 / (l - (2^(t) * delta))^(2))) in Reals  assuming eps in \\{1...(2^(t - 1) - 2)\\} \n",
      "                                              implication [forall_{l in \\{((-2^(t - 1)) + 1)...(-(eps + 1))\\}} ((1 / 4 * 1 / (l - (2^(t) * delta))^(2)) in Reals)] => ((Summation_{l=(-2^(t - 1)) + 1}^{-(eps + 1)} (1 / 4 * 1 / (l - (2^(t) * delta))^(2))) in Reals) \n",
      "                                                specializing forall_{P, S} ([forall_{..x.. in S} (P(..x..) in Reals)] => ([Summation_{..x.. in S} P(..x..)] in Reals))  proven above\n",
      "                                              hypothesis forall_{l in \\{((-2^(t - 1)) + 1)...(-(eps + 1))\\}} ((1 / 4 * 1 / (l - (2^(t) * delta))^(2)) in Reals)  assuming eps in \\{1...(2^(t - 1) - 2)\\} \n",
      "                                                generalizing (1 / 4 * 1 / (l - (2^(t) * delta))^(2)) in Reals  assuming eps in \\{1...(2^(t - 1) - 2)\\}, l in \\{((-2^(t - 1)) + 1)...(-(eps + 1))\\} \n",
      "                                                  specializing forall_{a in RealsPos} (a in Reals)  proven above\n",
      "                                                  condition (1 / 4 * 1 / (l - (2^(t) * delta))^(2)) in RealsPos  assuming eps in \\{1...(2^(t - 1) - 2)\\}, l in \\{((-2^(t - 1)) + 1)...(-(eps + 1))\\} \n",
      "                                                    specializing forall_{..x.. in RealsPos} (( .. * x * .. ) in RealsPos)  proven above\n",
      "                                                    condition 1 / (l - (2^(t) * delta))^(2) in RealsPos  assuming eps in \\{1...(2^(t - 1) - 2)\\}, l in \\{((-2^(t - 1)) + 1)...(-(eps + 1))\\} \n",
      "                                                      specializing forall_{a, b in RealsPos | b != 0} (a / b in RealsPos)  proven above\n",
      "                                                      condition (l - (2^(t) * delta))^(2) in RealsPos  assuming eps in \\{1...(2^(t - 1) - 2)\\}, l in \\{((-2^(t - 1)) + 1)...(-(eps + 1))\\}  proven above\n",
      "                                                      condition 1 in RealsPos  proven above\n",
      "                                                      condition (l - (2^(t) * delta))^(2) != 0  assuming eps in \\{1...(2^(t - 1) - 2)\\}, l in \\{((-2^(t - 1)) + 1)...(-(eps + 1))\\} \n",
      "                                                        specializing forall_{a in Reals | a > 0} (a != 0)  proven above\n",
      "                                                        condition (l - (2^(t) * delta))^(2) in Reals  assuming eps in \\{1...(2^(t - 1) - 2)\\}, l in \\{((-2^(t - 1)) + 1)...(-(eps + 1))\\} \n",
      "                                                          specializing forall_{a in RealsPos} (a in Reals)  proven above\n",
      "                                                          condition (l - (2^(t) * delta))^(2) in RealsPos  assuming eps in \\{1...(2^(t - 1) - 2)\\}, l in \\{((-2^(t - 1)) + 1)...(-(eps + 1))\\}  proven above\n",
      "                                                        condition (l - (2^(t) * delta))^(2) > 0  assuming eps in \\{1...(2^(t - 1) - 2)\\}, l in \\{((-2^(t - 1)) + 1)...(-(eps + 1))\\} \n",
      "                                                          implication ((l - (2^(t) * delta))^(2) in RealsPos) => ((l - (2^(t) * delta))^(2) > 0)  proven above\n",
      "                                                          hypothesis (l - (2^(t) * delta))^(2) in RealsPos  assuming eps in \\{1...(2^(t - 1) - 2)\\}, l in \\{((-2^(t - 1)) + 1)...(-(eps + 1))\\}  proven above\n",
      "                                                    condition 1 / 4 in RealsPos  proven above\n",
      "                                          hypothesis ((Summation_{l=(-2^(t - 1)) + 1}^{-(eps + 1)} (1 / 4 * 1 / (l - (2^(t) * delta))^(2))) <= (Summation_{l=(-2^(t - 1)) + 1}^{-(eps + 1)} (1 / 4 * 1 / l^(2)))) and ((Summation_{l=eps + 1}^{2^(t - 1)} (1 / 4 * 1 / (l - (2^(t) * delta))^(2))) <= (Summation_{l=eps + 1}^{2^(t - 1)} (1 / 4 * 1 / (l - 1)^(2))))  assuming eps in \\{1...(2^(t - 1) - 2)\\} \n",
      "                                            specializing forall_{A, B | A, B} (A and B)  proven above\n",
      "                                            condition (Summation_{l=(-2^(t - 1)) + 1}^{-(eps + 1)} (1 / 4 * 1 / (l - (2^(t) * delta))^(2))) <= (Summation_{l=(-2^(t - 1)) + 1}^{-(eps + 1)} (1 / 4 * 1 / l^(2)))  assuming eps in \\{1...(2^(t - 1) - 2)\\} \n",
      "                                              implication [forall_{k in \\{((-2^(t - 1)) + 1)...(-(eps + 1))\\}} ((1 / 4 * 1 / (k - (2^(t) * delta))^(2)) <= (1 / 4 * 1 / k^(2)))] => ((Summation_{l=(-2^(t - 1)) + 1}^{-(eps + 1)} (1 / 4 * 1 / (l - (2^(t) * delta))^(2))) <= (Summation_{l=(-2^(t - 1)) + 1}^{-(eps + 1)} (1 / 4 * 1 / l^(2))))  assuming eps in \\{1...(2^(t - 1) - 2)\\} \n",
      "                                                specializing forall_{m, n in Integers} ([forall_{k in \\{m...n\\}} ((1 / 4 * 1 / (k - (2^(t) * delta))^(2)) <= (1 / 4 * 1 / k^(2)))] => ((Summation_{l=m}^{n} (1 / 4 * 1 / (l - (2^(t) * delta))^(2))) <= (Summation_{l=m}^{n} (1 / 4 * 1 / l^(2))))) \n",
      "                                                  specializing forall_{a, b} [forall_{m, n in Integers} ([forall_{k in \\{m...n\\}} (a(k) <= b(k))] => ((Summation_{l=m}^{n} a(l)) <= (Summation_{l=m}^{n} b(l))))]  proven above\n",
      "                                                condition (-(eps + 1)) in Integers  assuming eps in \\{1...(2^(t - 1) - 2)\\}  proven above\n",
      "                                                condition ((-2^(t - 1)) + 1) in Integers  proven above\n",
      "                                              hypothesis forall_{k in \\{((-2^(t - 1)) + 1)...(-(eps + 1))\\}} ((1 / 4 * 1 / (k - (2^(t) * delta))^(2)) <= (1 / 4 * 1 / k^(2)))  assuming eps in \\{1...(2^(t - 1) - 2)\\} \n",
      "                                                specializing forall_{l in \\{((-2^(t - 1)) + 1)...(-(eps + 1))\\}} ((1 / 4 * 1 / (l - (2^(t) * delta))^(2)) <= (1 / 4 * 1 / l^(2)))  assuming eps in \\{1...(2^(t - 1) - 2)\\} \n",
      "                                                  generalizing (1 / 4 * 1 / (l - (2^(t) * delta))^(2)) <= (1 / 4 * 1 / l^(2))  assuming eps in \\{1...(2^(t - 1) - 2)\\}, l in \\{((-2^(t - 1)) + 1)...(-(eps + 1))\\} \n",
      "                                                    specializing forall_{l in Integers | l <= 0} ((1 / 4 * 1 / (l - (2^(t) * delta))^(2)) <= (1 / 4 * 1 / l^(2))) \n",
      "                                                      specializing forall_{a in Reals | a >= 0} [forall_{l in Integers | l <= 0} ((a * 1 / (l - (2^(t) * delta))^(2)) <= (a * 1 / l^(2)))] \n",
      "                                                        specializing forall_{x in Reals | 0 <= x, x <= 1} [forall_{a in Reals | a >= 0} [forall_{l in Integers | l <= 0} ((a * 1 / (l - x)^(2)) <= (a * 1 / l^(2)))]] \n",
      "                                                          by theorem proveit.number.real.ineqThm7a\n",
      "                                                        condition 0 <= (2^(t) * delta) \n",
      "                                                          specializing forall_{x in [0,1)} (0 <= x) \n",
      "                                                            specializing forall_{a, b in Reals} [forall_{x in [a,b)} (a <= x)] \n",
      "                                                              by theorem proveit.number.real.intervalCOLowerBound\n",
      "                                                            condition 1 in Reals  proven above\n",
      "                                                            condition 0 in Reals \n",
      "                                                              specializing forall_{a in Naturals} (a in Reals) \n",
      "                                                                by theorem proveit.number.natural.inReals\n",
      "                                                              condition 0 in Naturals \n",
      "                                                          condition (2^(t) * delta) in [0,1) \n",
      "                                                            by theorem proveit.physics.quantum.QPE.scaledDeltaInInterval\n",
      "                                                        condition (2^(t) * delta) <= 1 \n",
      "                                                          specializing forall_{a, b in Reals | a < b} (a <= b) \n",
      "                                                            by theorem proveit.number.real.relaxLessThan\n",
      "                                                          condition 1 in Reals  proven above\n",
      "                                                          condition (2^(t) * delta) in Reals  proven above\n",
      "                                                          condition (2^(t) * delta) < 1 \n",
      "                                                            specializing forall_{x in [0,1)} (x < 1) \n",
      "                                                              specializing forall_{a, b in Reals} [forall_{x in [a,b)} (x < b)] \n",
      "                                                                by theorem proveit.number.real.intervalCOUpperBound\n",
      "                                                              condition 1 in Reals  proven above\n",
      "                                                              condition 0 in Reals  proven above\n",
      "                                                            condition (2^(t) * delta) in [0,1)  proven above\n",
      "                                                        condition (2^(t) * delta) in Reals  proven above\n",
      "                                                      condition 1 / 4 in Reals  proven above\n",
      "                                                      condition 1 / 4 >= 0 \n",
      "                                                        specializing forall_{a, b in Reals | a > b} (a >= b) \n",
      "                                                          by theorem proveit.number.real.relaxGreaterThan\n",
      "                                                        condition 1 / 4 in Reals  proven above\n",
      "                                                        condition 0 in Reals  proven above\n",
      "                                                        condition 1 / 4 > 0 \n",
      "                                                          implication (1 / 4 in RealsPos) => (1 / 4 > 0) \n",
      "                                                            implication ((1 / 4 in RealsPos) <=> (1 / 4 > 0)) => ((1 / 4 in RealsPos) => (1 / 4 > 0)) \n",
      "                                                              specializing forall_{A, B} ((A <=> B) => (A => B))  proven above\n",
      "                                                            hypothesis (1 / 4 in RealsPos) <=> (1 / 4 > 0) \n",
      "                                                              specializing forall_{a in Reals} ((a in RealsPos) <=> (a > 0))  proven above\n",
      "                                                              condition 1 / 4 in Reals  proven above\n",
      "                                                          hypothesis 1 / 4 in RealsPos  proven above\n",
      "                                                    condition l in Integers  assuming eps in \\{1...(2^(t - 1) - 2)\\}, l in \\{((-2^(t - 1)) + 1)...(-(eps + 1))\\}  proven above\n",
      "                                                    condition l <= 0  assuming eps in \\{1...(2^(t - 1) - 2)\\}, l in \\{((-2^(t - 1)) + 1)...(-(eps + 1))\\} \n",
      "                                                      specializing forall_{a, b in Reals | a < b} (a <= b)  proven above\n",
      "                                                      condition l < 0  assuming eps in \\{1...(2^(t - 1) - 2)\\}, l in \\{((-2^(t - 1)) + 1)...(-(eps + 1))\\}  proven above\n",
      "                                                      condition 0 in Reals  proven above\n",
      "                                                      condition l in Reals  assuming eps in \\{1...(2^(t - 1) - 2)\\}, l in \\{((-2^(t - 1)) + 1)...(-(eps + 1))\\}  proven above\n",
      "                                            condition (Summation_{l=eps + 1}^{2^(t - 1)} (1 / 4 * 1 / (l - (2^(t) * delta))^(2))) <= (Summation_{l=eps + 1}^{2^(t - 1)} (1 / 4 * 1 / (l - 1)^(2)))  assuming eps in \\{1...(2^(t - 1) - 2)\\} \n",
      "                                              implication [forall_{k in \\{(eps + 1)...2^(t - 1)\\}} ((1 / 4 * 1 / (k - (2^(t) * delta))^(2)) <= (1 / 4 * 1 / (k - 1)^(2)))] => ((Summation_{l=eps + 1}^{2^(t - 1)} (1 / 4 * 1 / (l - (2^(t) * delta))^(2))) <= (Summation_{l=eps + 1}^{2^(t - 1)} (1 / 4 * 1 / (l - 1)^(2))))  assuming eps in \\{1...(2^(t - 1) - 2)\\} \n",
      "                                                specializing forall_{m, n in Integers} ([forall_{k in \\{m...n\\}} ((1 / 4 * 1 / (k - (2^(t) * delta))^(2)) <= (1 / 4 * 1 / (k - 1)^(2)))] => ((Summation_{l=m}^{n} (1 / 4 * 1 / (l - (2^(t) * delta))^(2))) <= (Summation_{l=m}^{n} (1 / 4 * 1 / (l - 1)^(2))))) \n",
      "                                                  specializing forall_{a, b} [forall_{m, n in Integers} ([forall_{k in \\{m...n\\}} (a(k) <= b(k))] => ((Summation_{l=m}^{n} a(l)) <= (Summation_{l=m}^{n} b(l))))]  proven above\n",
      "                                                condition 2^(t - 1) in Integers  assuming eps in \\{1...(2^(t - 1) - 2)\\}  proven above\n",
      "                                                condition (eps + 1) in Integers  assuming eps in \\{1...(2^(t - 1) - 2)\\}  proven above\n",
      "                                              hypothesis forall_{k in \\{(eps + 1)...2^(t - 1)\\}} ((1 / 4 * 1 / (k - (2^(t) * delta))^(2)) <= (1 / 4 * 1 / (k - 1)^(2)))  assuming eps in \\{1...(2^(t - 1) - 2)\\} \n",
      "                                                specializing forall_{l in \\{(eps + 1)...2^(t - 1)\\}} ((1 / 4 * 1 / (l - (2^(t) * delta))^(2)) <= (1 / 4 * 1 / (l - 1)^(2)))  assuming eps in \\{1...(2^(t - 1) - 2)\\} \n",
      "                                                  generalizing (1 / 4 * 1 / (l - (2^(t) * delta))^(2)) <= (1 / 4 * 1 / (l - 1)^(2))  assuming eps in \\{1...(2^(t - 1) - 2)\\}, l in \\{(eps + 1)...2^(t - 1)\\} \n",
      "                                                    specializing forall_{l in Integers | l > 0} ((1 / 4 * 1 / (l - (2^(t) * delta))^(2)) <= (1 / 4 * 1 / (l - 1)^(2))) \n",
      "                                                      specializing forall_{a in Reals | a >= 0} [forall_{l in Integers | l > 0} ((a * 1 / (l - (2^(t) * delta))^(2)) <= (a * 1 / (l - 1)^(2)))] \n",
      "                                                        specializing forall_{x in Reals | 0 <= x, x <= 1} [forall_{a in Reals | a >= 0} [forall_{l in Integers | l > 0} ((a * 1 / (l - x)^(2)) <= (a * 1 / (l - 1)^(2)))]] \n",
      "                                                          by theorem proveit.number.real.ineqThm8a\n",
      "                                                        condition 0 <= (2^(t) * delta)  proven above\n",
      "                                                        condition (2^(t) * delta) <= 1  proven above\n",
      "                                                        condition (2^(t) * delta) in Reals  proven above\n",
      "                                                      condition 1 / 4 in Reals  proven above\n",
      "                                                      condition 1 / 4 >= 0  proven above\n",
      "                                                    condition l > 0  assuming eps in \\{1...(2^(t - 1) - 2)\\}, l in \\{(eps + 1)...2^(t - 1)\\}  proven above\n",
      "                                                    condition l in Integers  assuming eps in \\{1...(2^(t - 1) - 2)\\}, l in \\{(eps + 1)...2^(t - 1)\\}  proven above\n",
      "            hypothesis (1 / 4 * (((Summation_{l=eps}^{2^(t - 1) - 1} 1 / l^(2)) - 1 / eps^(2)) + (Summation_{l=eps}^{2^(t - 1) - 1} 1 / l^(2)))) <= (1 / 4 * (2 * (Summation_{l=eps}^{2^(t - 1) - 1} 1 / l^(2))))  assuming eps in \\{1...(2^(t - 1) - 2)\\} \n",
      "              implication ((1 / 4 * (2 * (Summation_{l=eps}^{2^(t - 1) - 1} 1 / l^(2)))) >= (1 / 4 * (((Summation_{l=eps}^{2^(t - 1) - 1} 1 / l^(2)) - 1 / eps^(2)) + (Summation_{l=eps}^{2^(t - 1) - 1} 1 / l^(2))))) => ((1 / 4 * (((Summation_{l=eps}^{2^(t - 1) - 1} 1 / l^(2)) - 1 / eps^(2)) + (Summation_{l=eps}^{2^(t - 1) - 1} 1 / l^(2)))) <= (1 / 4 * (2 * (Summation_{l=eps}^{2^(t - 1) - 1} 1 / l^(2))))) \n",
      "                specializing forall_{x, y} ((x >= y) => (y <= x)) \n",
      "                  by axiom proveit.number.reverseGreaterThanEquals\n",
      "              hypothesis (1 / 4 * (2 * (Summation_{l=eps}^{2^(t - 1) - 1} 1 / l^(2)))) >= (1 / 4 * (((Summation_{l=eps}^{2^(t - 1) - 1} 1 / l^(2)) - 1 / eps^(2)) + (Summation_{l=eps}^{2^(t - 1) - 1} 1 / l^(2))))  assuming eps in \\{1...(2^(t - 1) - 2)\\} \n",
      "                specializing forall_{a, b, c in Reals | c > 0, a >= b} ((c * a) >= (c * b)) \n",
      "                  by theorem proveit.number.real.ineqThm5\n",
      "                condition 1 / 4 in Reals  proven above\n",
      "                condition (((Summation_{l=eps}^{2^(t - 1) - 1} 1 / l^(2)) - 1 / eps^(2)) + (Summation_{l=eps}^{2^(t - 1) - 1} 1 / l^(2))) in Reals  assuming eps in \\{1...(2^(t - 1) - 2)\\} \n",
      "                  specializing forall_{..x.. in Reals} (( .. + x + .. ) in Reals) \n",
      "                    by theorem proveit.number.real.addClosure\n",
      "                  condition ((Summation_{l=eps}^{2^(t - 1) - 1} 1 / l^(2)) - 1 / eps^(2)) in Reals  assuming eps in \\{1...(2^(t - 1) - 2)\\} \n",
      "                    specializing forall_{a, b in Reals} ((a - b) in Reals)  proven above\n",
      "                    condition 1 / eps^(2) in Reals  assuming eps in \\{1...(2^(t - 1) - 2)\\} \n",
      "                      specializing forall_{a, b in Reals | b != 0} (a / b in Reals) \n",
      "                        by theorem proveit.number.real.fractionClosure\n",
      "                      condition 1 in Reals  proven above\n",
      "                      condition eps^(2) != 0  assuming eps in \\{1...(2^(t - 1) - 2)\\} \n",
      "                        specializing forall_{a, b in Complexes | a != 0} (a^(b) != 0)  proven above\n",
      "                        condition 2 in Complexes  proven above\n",
      "                        condition eps != 0  assuming eps in \\{1...(2^(t - 1) - 2)\\} \n",
      "                          specializing forall_{a in Reals | a > 0} (a != 0)  proven above\n",
      "                          condition eps in Reals  assuming eps in \\{1...(2^(t - 1) - 2)\\}  proven above\n",
      "                          condition eps > 0  assuming eps in \\{1...(2^(t - 1) - 2)\\}  proven above\n",
      "                        condition eps in Complexes  assuming eps in \\{1...(2^(t - 1) - 2)\\}  proven above\n",
      "                      condition eps^(2) in Reals  assuming eps in \\{1...(2^(t - 1) - 2)\\} \n",
      "                        specializing forall_{a in NaturalsPos} (a in Reals)  proven above\n",
      "                        condition eps^(2) in NaturalsPos  assuming eps in \\{1...(2^(t - 1) - 2)\\} \n",
      "                          specializing forall_{a, b in Naturals | a != 0} (a^(b) in NaturalsPos)  proven above\n",
      "                          condition eps != 0  assuming eps in \\{1...(2^(t - 1) - 2)\\}  proven above\n",
      "                          condition 2 in Naturals  proven above\n",
      "                          condition eps in Naturals  assuming eps in \\{1...(2^(t - 1) - 2)\\}  proven above\n",
      "                    condition (Summation_{l=eps}^{2^(t - 1) - 1} 1 / l^(2)) in Reals  assuming eps in \\{1...(2^(t - 1) - 2)\\}  proven above\n",
      "                  condition (Summation_{l=eps}^{2^(t - 1) - 1} 1 / l^(2)) in Reals  assuming eps in \\{1...(2^(t - 1) - 2)\\}  proven above\n",
      "                condition 1 / 4 > 0  proven above\n",
      "                condition (2 * (Summation_{l=eps}^{2^(t - 1) - 1} 1 / l^(2))) >= (((Summation_{l=eps}^{2^(t - 1) - 1} 1 / l^(2)) - 1 / eps^(2)) + (Summation_{l=eps}^{2^(t - 1) - 1} 1 / l^(2)))  assuming eps in \\{1...(2^(t - 1) - 2)\\} \n",
      "                  implication ((((Summation_{l=eps}^{2^(t - 1) - 1} 1 / l^(2)) - 1 / eps^(2)) + (Summation_{l=eps}^{2^(t - 1) - 1} 1 / l^(2))) <= (2 * (Summation_{l=eps}^{2^(t - 1) - 1} 1 / l^(2)))) => ((2 * (Summation_{l=eps}^{2^(t - 1) - 1} 1 / l^(2))) >= (((Summation_{l=eps}^{2^(t - 1) - 1} 1 / l^(2)) - 1 / eps^(2)) + (Summation_{l=eps}^{2^(t - 1) - 1} 1 / l^(2)))) \n",
      "                    specializing forall_{x, y} ((x <= y) => (y >= x))  proven above\n",
      "                  hypothesis (((Summation_{l=eps}^{2^(t - 1) - 1} 1 / l^(2)) - 1 / eps^(2)) + (Summation_{l=eps}^{2^(t - 1) - 1} 1 / l^(2))) <= (2 * (Summation_{l=eps}^{2^(t - 1) - 1} 1 / l^(2)))  assuming eps in \\{1...(2^(t - 1) - 2)\\} \n",
      "                    implication (((2 * (Summation_{l=eps}^{2^(t - 1) - 1} 1 / l^(2))) + (-1 / eps^(2))) <= (2 * (Summation_{l=eps}^{2^(t - 1) - 1} 1 / l^(2)))) => ((((Summation_{l=eps}^{2^(t - 1) - 1} 1 / l^(2)) - 1 / eps^(2)) + (Summation_{l=eps}^{2^(t - 1) - 1} 1 / l^(2))) <= (2 * (Summation_{l=eps}^{2^(t - 1) - 1} 1 / l^(2))))  assuming eps in \\{1...(2^(t - 1) - 2)\\} \n",
      "                      implication ((((Summation_{l=eps}^{2^(t - 1) - 1} 1 / l^(2)) - 1 / eps^(2)) + (Summation_{l=eps}^{2^(t - 1) - 1} 1 / l^(2))) = ((2 * (Summation_{l=eps}^{2^(t - 1) - 1} 1 / l^(2))) + (-1 / eps^(2)))) => ((((2 * (Summation_{l=eps}^{2^(t - 1) - 1} 1 / l^(2))) + (-1 / eps^(2))) <= (2 * (Summation_{l=eps}^{2^(t - 1) - 1} 1 / l^(2)))) => ((((Summation_{l=eps}^{2^(t - 1) - 1} 1 / l^(2)) - 1 / eps^(2)) + (Summation_{l=eps}^{2^(t - 1) - 1} 1 / l^(2))) <= (2 * (Summation_{l=eps}^{2^(t - 1) - 1} 1 / l^(2))))) \n",
      "                        specializing forall_{P, x, y} ((x = y) => (P(y) => P(x)))  proven above\n",
      "                      hypothesis (((Summation_{l=eps}^{2^(t - 1) - 1} 1 / l^(2)) - 1 / eps^(2)) + (Summation_{l=eps}^{2^(t - 1) - 1} 1 / l^(2))) = ((2 * (Summation_{l=eps}^{2^(t - 1) - 1} 1 / l^(2))) + (-1 / eps^(2)))  assuming eps in \\{1...(2^(t - 1) - 2)\\} \n",
      "                        implication ((((Summation_{l=eps}^{2^(t - 1) - 1} 1 / l^(2)) - 1 / eps^(2)) + (Summation_{l=eps}^{2^(t - 1) - 1} 1 / l^(2))) = (((Summation_{l=eps}^{2^(t - 1) - 1} 1 / l^(2)) + (Summation_{l=eps}^{2^(t - 1) - 1} 1 / l^(2))) + (-1 / eps^(2)))) => ((((Summation_{l=eps}^{2^(t - 1) - 1} 1 / l^(2)) - 1 / eps^(2)) + (Summation_{l=eps}^{2^(t - 1) - 1} 1 / l^(2))) = ((2 * (Summation_{l=eps}^{2^(t - 1) - 1} 1 / l^(2))) + (-1 / eps^(2))))  assuming eps in \\{1...(2^(t - 1) - 2)\\} \n",
      "                          implication (((Summation_{l=eps}^{2^(t - 1) - 1} 1 / l^(2)) + (Summation_{l=eps}^{2^(t - 1) - 1} 1 / l^(2))) = (2 * (Summation_{l=eps}^{2^(t - 1) - 1} 1 / l^(2)))) => (((((Summation_{l=eps}^{2^(t - 1) - 1} 1 / l^(2)) - 1 / eps^(2)) + (Summation_{l=eps}^{2^(t - 1) - 1} 1 / l^(2))) = (((Summation_{l=eps}^{2^(t - 1) - 1} 1 / l^(2)) + (Summation_{l=eps}^{2^(t - 1) - 1} 1 / l^(2))) + (-1 / eps^(2)))) => ((((Summation_{l=eps}^{2^(t - 1) - 1} 1 / l^(2)) - 1 / eps^(2)) + (Summation_{l=eps}^{2^(t - 1) - 1} 1 / l^(2))) = ((2 * (Summation_{l=eps}^{2^(t - 1) - 1} 1 / l^(2))) + (-1 / eps^(2))))) \n",
      "                            specializing forall_{P, x, y} ((x = y) => (P(x) => P(y)))  proven above\n",
      "                          hypothesis ((Summation_{l=eps}^{2^(t - 1) - 1} 1 / l^(2)) + (Summation_{l=eps}^{2^(t - 1) - 1} 1 / l^(2))) = (2 * (Summation_{l=eps}^{2^(t - 1) - 1} 1 / l^(2)))  assuming eps in \\{1...(2^(t - 1) - 2)\\} \n",
      "                            specializing forall_{a, b in Integers} (((Summation_{l=a}^{b} 1 / l^(2)) + (Summation_{l=a}^{b} 1 / l^(2))) = (2 * (Summation_{l=a}^{b} 1 / l^(2)))) \n",
      "                              specializing forall_{f} [forall_{a, b in Integers} (((Summation_{l=a}^{b} f(l)) + (Summation_{l=a}^{b} f(l))) = (2 * (Summation_{l=a}^{b} f(l))))] \n",
      "                                by theorem proveit.number.addSums\n",
      "                            condition eps in Integers  assuming eps in \\{1...(2^(t - 1) - 2)\\}  proven above\n",
      "                            condition (2^(t - 1) - 1) in Integers  assuming eps in \\{1...(2^(t - 1) - 2)\\}  proven above\n",
      "                        hypothesis (((Summation_{l=eps}^{2^(t - 1) - 1} 1 / l^(2)) - 1 / eps^(2)) + (Summation_{l=eps}^{2^(t - 1) - 1} 1 / l^(2))) = (((Summation_{l=eps}^{2^(t - 1) - 1} 1 / l^(2)) + (Summation_{l=eps}^{2^(t - 1) - 1} 1 / l^(2))) + (-1 / eps^(2)))  assuming eps in \\{1...(2^(t - 1) - 2)\\} \n",
      "                          implication (((Summation_{l=eps}^{2^(t - 1) - 1} 1 / l^(2)) + (Summation_{l=eps}^{2^(t - 1) - 1} 1 / l^(2)) + (-1 / eps^(2))) = (((Summation_{l=eps}^{2^(t - 1) - 1} 1 / l^(2)) + (Summation_{l=eps}^{2^(t - 1) - 1} 1 / l^(2))) + (-1 / eps^(2)))) => ((((Summation_{l=eps}^{2^(t - 1) - 1} 1 / l^(2)) - 1 / eps^(2)) + (Summation_{l=eps}^{2^(t - 1) - 1} 1 / l^(2))) = (((Summation_{l=eps}^{2^(t - 1) - 1} 1 / l^(2)) + (Summation_{l=eps}^{2^(t - 1) - 1} 1 / l^(2))) + (-1 / eps^(2))))  assuming eps in \\{1...(2^(t - 1) - 2)\\} \n",
      "                            implication ((((Summation_{l=eps}^{2^(t - 1) - 1} 1 / l^(2)) - 1 / eps^(2)) + (Summation_{l=eps}^{2^(t - 1) - 1} 1 / l^(2))) = ((Summation_{l=eps}^{2^(t - 1) - 1} 1 / l^(2)) + (Summation_{l=eps}^{2^(t - 1) - 1} 1 / l^(2)) + (-1 / eps^(2)))) => ((((Summation_{l=eps}^{2^(t - 1) - 1} 1 / l^(2)) + (Summation_{l=eps}^{2^(t - 1) - 1} 1 / l^(2)) + (-1 / eps^(2))) = (((Summation_{l=eps}^{2^(t - 1) - 1} 1 / l^(2)) + (Summation_{l=eps}^{2^(t - 1) - 1} 1 / l^(2))) + (-1 / eps^(2)))) => ((((Summation_{l=eps}^{2^(t - 1) - 1} 1 / l^(2)) - 1 / eps^(2)) + (Summation_{l=eps}^{2^(t - 1) - 1} 1 / l^(2))) = (((Summation_{l=eps}^{2^(t - 1) - 1} 1 / l^(2)) + (Summation_{l=eps}^{2^(t - 1) - 1} 1 / l^(2))) + (-1 / eps^(2))))) \n",
      "                              specializing forall_{x, y, z} ((x = y) => ((y = z) => (x = z))) \n",
      "                                by axiom proveit.basiclogic.equality.equalsTransitivity\n",
      "                            hypothesis (((Summation_{l=eps}^{2^(t - 1) - 1} 1 / l^(2)) - 1 / eps^(2)) + (Summation_{l=eps}^{2^(t - 1) - 1} 1 / l^(2))) = ((Summation_{l=eps}^{2^(t - 1) - 1} 1 / l^(2)) + (Summation_{l=eps}^{2^(t - 1) - 1} 1 / l^(2)) + (-1 / eps^(2)))  assuming eps in \\{1...(2^(t - 1) - 2)\\} \n",
      "                              implication (((Summation_{l=eps}^{2^(t - 1) - 1} 1 / l^(2)) + ((Summation_{l=eps}^{2^(t - 1) - 1} 1 / l^(2)) + (-1 / eps^(2)))) = ((Summation_{l=eps}^{2^(t - 1) - 1} 1 / l^(2)) + (Summation_{l=eps}^{2^(t - 1) - 1} 1 / l^(2)) + (-1 / eps^(2)))) => ((((Summation_{l=eps}^{2^(t - 1) - 1} 1 / l^(2)) - 1 / eps^(2)) + (Summation_{l=eps}^{2^(t - 1) - 1} 1 / l^(2))) = ((Summation_{l=eps}^{2^(t - 1) - 1} 1 / l^(2)) + (Summation_{l=eps}^{2^(t - 1) - 1} 1 / l^(2)) + (-1 / eps^(2))))  assuming eps in \\{1...(2^(t - 1) - 2)\\} \n",
      "                                implication ((((Summation_{l=eps}^{2^(t - 1) - 1} 1 / l^(2)) - 1 / eps^(2)) + (Summation_{l=eps}^{2^(t - 1) - 1} 1 / l^(2))) = ((Summation_{l=eps}^{2^(t - 1) - 1} 1 / l^(2)) + ((Summation_{l=eps}^{2^(t - 1) - 1} 1 / l^(2)) + (-1 / eps^(2))))) => ((((Summation_{l=eps}^{2^(t - 1) - 1} 1 / l^(2)) + ((Summation_{l=eps}^{2^(t - 1) - 1} 1 / l^(2)) + (-1 / eps^(2)))) = ((Summation_{l=eps}^{2^(t - 1) - 1} 1 / l^(2)) + (Summation_{l=eps}^{2^(t - 1) - 1} 1 / l^(2)) + (-1 / eps^(2)))) => ((((Summation_{l=eps}^{2^(t - 1) - 1} 1 / l^(2)) - 1 / eps^(2)) + (Summation_{l=eps}^{2^(t - 1) - 1} 1 / l^(2))) = ((Summation_{l=eps}^{2^(t - 1) - 1} 1 / l^(2)) + (Summation_{l=eps}^{2^(t - 1) - 1} 1 / l^(2)) + (-1 / eps^(2))))) \n",
      "                                  specializing forall_{x, y, z} ((x = y) => ((y = z) => (x = z)))  proven above\n",
      "                                hypothesis (((Summation_{l=eps}^{2^(t - 1) - 1} 1 / l^(2)) - 1 / eps^(2)) + (Summation_{l=eps}^{2^(t - 1) - 1} 1 / l^(2))) = ((Summation_{l=eps}^{2^(t - 1) - 1} 1 / l^(2)) + ((Summation_{l=eps}^{2^(t - 1) - 1} 1 / l^(2)) + (-1 / eps^(2))))  assuming eps in \\{1...(2^(t - 1) - 2)\\} \n",
      "                                  implication (((Summation_{l=eps}^{2^(t - 1) - 1} 1 / l^(2)) + ((Summation_{l=eps}^{2^(t - 1) - 1} 1 / l^(2)) - 1 / eps^(2))) = ((Summation_{l=eps}^{2^(t - 1) - 1} 1 / l^(2)) + ((Summation_{l=eps}^{2^(t - 1) - 1} 1 / l^(2)) + (-1 / eps^(2))))) => ((((Summation_{l=eps}^{2^(t - 1) - 1} 1 / l^(2)) - 1 / eps^(2)) + (Summation_{l=eps}^{2^(t - 1) - 1} 1 / l^(2))) = ((Summation_{l=eps}^{2^(t - 1) - 1} 1 / l^(2)) + ((Summation_{l=eps}^{2^(t - 1) - 1} 1 / l^(2)) + (-1 / eps^(2)))))  assuming eps in \\{1...(2^(t - 1) - 2)\\} \n",
      "                                    implication ((((Summation_{l=eps}^{2^(t - 1) - 1} 1 / l^(2)) - 1 / eps^(2)) + (Summation_{l=eps}^{2^(t - 1) - 1} 1 / l^(2))) = ((Summation_{l=eps}^{2^(t - 1) - 1} 1 / l^(2)) + ((Summation_{l=eps}^{2^(t - 1) - 1} 1 / l^(2)) - 1 / eps^(2)))) => ((((Summation_{l=eps}^{2^(t - 1) - 1} 1 / l^(2)) + ((Summation_{l=eps}^{2^(t - 1) - 1} 1 / l^(2)) - 1 / eps^(2))) = ((Summation_{l=eps}^{2^(t - 1) - 1} 1 / l^(2)) + ((Summation_{l=eps}^{2^(t - 1) - 1} 1 / l^(2)) + (-1 / eps^(2))))) => ((((Summation_{l=eps}^{2^(t - 1) - 1} 1 / l^(2)) - 1 / eps^(2)) + (Summation_{l=eps}^{2^(t - 1) - 1} 1 / l^(2))) = ((Summation_{l=eps}^{2^(t - 1) - 1} 1 / l^(2)) + ((Summation_{l=eps}^{2^(t - 1) - 1} 1 / l^(2)) + (-1 / eps^(2)))))) \n",
      "                                      specializing forall_{x, y, z} ((x = y) => ((y = z) => (x = z)))  proven above\n",
      "                                    hypothesis (((Summation_{l=eps}^{2^(t - 1) - 1} 1 / l^(2)) - 1 / eps^(2)) + (Summation_{l=eps}^{2^(t - 1) - 1} 1 / l^(2))) = ((Summation_{l=eps}^{2^(t - 1) - 1} 1 / l^(2)) + ((Summation_{l=eps}^{2^(t - 1) - 1} 1 / l^(2)) - 1 / eps^(2)))  assuming eps in \\{1...(2^(t - 1) - 2)\\} \n",
      "                                      specializing forall_{..v.., ..w.., ..x.., ..y.., ..z.. in Complexes} (( .. + v + ... + w + ... + x + ... + y + ... + z + .. ) = ( .. + v + ... + y + ... + x + ... + w + ... + z + .. )) \n",
      "                                        by theorem proveit.number.complex.addComm\n",
      "                                      condition (Summation_{l=eps}^{2^(t - 1) - 1} 1 / l^(2)) in Complexes  assuming eps in \\{1...(2^(t - 1) - 2)\\}  proven above\n",
      "                                      condition ((Summation_{l=eps}^{2^(t - 1) - 1} 1 / l^(2)) - 1 / eps^(2)) in Complexes  assuming eps in \\{1...(2^(t - 1) - 2)\\} \n",
      "                                        specializing forall_{a in Reals} (a in Complexes)  proven above\n",
      "                                        condition ((Summation_{l=eps}^{2^(t - 1) - 1} 1 / l^(2)) - 1 / eps^(2)) in Reals  assuming eps in \\{1...(2^(t - 1) - 2)\\}  proven above\n",
      "                                  hypothesis ((Summation_{l=eps}^{2^(t - 1) - 1} 1 / l^(2)) + ((Summation_{l=eps}^{2^(t - 1) - 1} 1 / l^(2)) - 1 / eps^(2))) = ((Summation_{l=eps}^{2^(t - 1) - 1} 1 / l^(2)) + ((Summation_{l=eps}^{2^(t - 1) - 1} 1 / l^(2)) + (-1 / eps^(2))))  assuming eps in \\{1...(2^(t - 1) - 2)\\} \n",
      "                                    implication (((Summation_{l=eps}^{2^(t - 1) - 1} 1 / l^(2)) - 1 / eps^(2)) = ((Summation_{l=eps}^{2^(t - 1) - 1} 1 / l^(2)) + (-1 / eps^(2)))) => (((Summation_{l=eps}^{2^(t - 1) - 1} 1 / l^(2)) + ((Summation_{l=eps}^{2^(t - 1) - 1} 1 / l^(2)) - 1 / eps^(2))) = ((Summation_{l=eps}^{2^(t - 1) - 1} 1 / l^(2)) + ((Summation_{l=eps}^{2^(t - 1) - 1} 1 / l^(2)) + (-1 / eps^(2))))) \n",
      "                                      specializing forall_{f, x, y} ((x = y) => (f(x) = f(y)))  proven above\n",
      "                                    hypothesis ((Summation_{l=eps}^{2^(t - 1) - 1} 1 / l^(2)) - 1 / eps^(2)) = ((Summation_{l=eps}^{2^(t - 1) - 1} 1 / l^(2)) + (-1 / eps^(2)))  assuming eps in \\{1...(2^(t - 1) - 2)\\} \n",
      "                                      implication (((Summation_{l=eps}^{2^(t - 1) - 1} 1 / l^(2)) + (-1 / eps^(2))) = ((Summation_{l=eps}^{2^(t - 1) - 1} 1 / l^(2)) - 1 / eps^(2))) => (((Summation_{l=eps}^{2^(t - 1) - 1} 1 / l^(2)) - 1 / eps^(2)) = ((Summation_{l=eps}^{2^(t - 1) - 1} 1 / l^(2)) + (-1 / eps^(2)))) \n",
      "                                        specializing forall_{x, y} ((x = y) => (y = x)) \n",
      "                                          by axiom proveit.basiclogic.equality.equalsSymmetry\n",
      "                                      hypothesis ((Summation_{l=eps}^{2^(t - 1) - 1} 1 / l^(2)) + (-1 / eps^(2))) = ((Summation_{l=eps}^{2^(t - 1) - 1} 1 / l^(2)) - 1 / eps^(2))  assuming eps in \\{1...(2^(t - 1) - 2)\\} \n",
      "                                        specializing forall_{a, b in Complexes} ((a + (-b)) = (a - b))  proven above\n",
      "                                        condition (Summation_{l=eps}^{2^(t - 1) - 1} 1 / l^(2)) in Complexes  assuming eps in \\{1...(2^(t - 1) - 2)\\}  proven above\n",
      "                                        condition 1 / eps^(2) in Complexes  assuming eps in \\{1...(2^(t - 1) - 2)\\} \n",
      "                                          specializing forall_{a in RealsPos} (a in Complexes)  proven above\n",
      "                                          condition 1 / eps^(2) in RealsPos  assuming eps in \\{1...(2^(t - 1) - 2)\\} \n",
      "                                            specializing forall_{a, b in RealsPos | b != 0} (a / b in RealsPos)  proven above\n",
      "                                            condition eps^(2) != 0  assuming eps in \\{1...(2^(t - 1) - 2)\\}  proven above\n",
      "                                            condition 1 in RealsPos  proven above\n",
      "                                            condition eps^(2) in RealsPos  assuming eps in \\{1...(2^(t - 1) - 2)\\} \n",
      "                                              specializing forall_{a in NaturalsPos} (a in RealsPos)  proven above\n",
      "                                              condition eps^(2) in NaturalsPos  assuming eps in \\{1...(2^(t - 1) - 2)\\}  proven above\n",
      "                              hypothesis ((Summation_{l=eps}^{2^(t - 1) - 1} 1 / l^(2)) + ((Summation_{l=eps}^{2^(t - 1) - 1} 1 / l^(2)) + (-1 / eps^(2)))) = ((Summation_{l=eps}^{2^(t - 1) - 1} 1 / l^(2)) + (Summation_{l=eps}^{2^(t - 1) - 1} 1 / l^(2)) + (-1 / eps^(2)))  assuming eps in \\{1...(2^(t - 1) - 2)\\} \n",
      "                                specializing forall_{..x.., ..y.., ..z.. in Complexes} (( .. + x + ..  + ( .. + y + .. ) +  .. + z + .. ) = ( .. + x + ... + y + ... + z + .. )) \n",
      "                                  by theorem proveit.number.complex.addAssocRev\n",
      "                                condition (-1 / eps^(2)) in Complexes  assuming eps in \\{1...(2^(t - 1) - 2)\\} \n",
      "                                  specializing forall_{a in RealsNeg} (a in Complexes) \n",
      "                                    by theorem proveit.number.real.inRealsNeg_inComplexes\n",
      "                                  condition (-1 / eps^(2)) in RealsNeg  assuming eps in \\{1...(2^(t - 1) - 2)\\} \n",
      "                                    implication ((-1 / eps^(2)) < 0) => ((-1 / eps^(2)) in RealsNeg)  assuming eps in \\{1...(2^(t - 1) - 2)\\} \n",
      "                                      implication (((-1 / eps^(2)) in RealsNeg) <=> ((-1 / eps^(2)) < 0)) => (((-1 / eps^(2)) < 0) => ((-1 / eps^(2)) in RealsNeg)) \n",
      "                                        specializing forall_{A, B} ((A <=> B) => (B => A)) \n",
      "                                          by theorem proveit.basiclogic.boolean.iffImpliesLeft\n",
      "                                      hypothesis ((-1 / eps^(2)) in RealsNeg) <=> ((-1 / eps^(2)) < 0)  assuming eps in \\{1...(2^(t - 1) - 2)\\} \n",
      "                                        specializing forall_{a in Reals} ((a in RealsNeg) <=> (a < 0)) \n",
      "                                          by theorem proveit.number.real.inRealsNeg_iff_negative\n",
      "                                        condition (-1 / eps^(2)) in Reals  assuming eps in \\{1...(2^(t - 1) - 2)\\} \n",
      "                                          specializing forall_{a in Reals} ((-a) in Reals) \n",
      "                                            by theorem proveit.number.real.negClosure\n",
      "                                          condition 1 / eps^(2) in Reals  assuming eps in \\{1...(2^(t - 1) - 2)\\}  proven above\n",
      "                                    hypothesis (-1 / eps^(2)) < 0  assuming eps in \\{1...(2^(t - 1) - 2)\\} \n",
      "                                      specializing forall_{a in Reals | a > 0} ((-a) < 0)  proven above\n",
      "                                      condition 1 / eps^(2) > 0  assuming eps in \\{1...(2^(t - 1) - 2)\\} \n",
      "                                        implication (1 / eps^(2) in RealsPos) => (1 / eps^(2) > 0) \n",
      "                                          hypothetically reasoning 1 / eps^(2) > 0  assuming 1 / eps^(2) in RealsPos \n",
      "                                            implication (1 / eps^(2) in RealsPos) => (1 / eps^(2) > 0)  assuming 1 / eps^(2) in RealsPos \n",
      "                                              implication ((1 / eps^(2) in RealsPos) <=> (1 / eps^(2) > 0)) => ((1 / eps^(2) in RealsPos) => (1 / eps^(2) > 0)) \n",
      "                                                specializing forall_{A, B} ((A <=> B) => (A => B))  proven above\n",
      "                                              hypothesis (1 / eps^(2) in RealsPos) <=> (1 / eps^(2) > 0)  assuming 1 / eps^(2) in RealsPos \n",
      "                                                specializing forall_{a in Reals} ((a in RealsPos) <=> (a > 0))  proven above\n",
      "                                                condition 1 / eps^(2) in Reals  assuming 1 / eps^(2) in RealsPos \n",
      "                                                  specializing forall_{a in RealsPos} (a in Reals)  proven above\n",
      "                                                  condition 1 / eps^(2) in RealsPos  assuming 1 / eps^(2) in RealsPos \n",
      "                                            hypothesis 1 / eps^(2) in RealsPos  assuming 1 / eps^(2) in RealsPos  proven above\n",
      "                                        hypothesis 1 / eps^(2) in RealsPos  assuming eps in \\{1...(2^(t - 1) - 2)\\}  proven above\n",
      "                                      condition 1 / eps^(2) in Reals  assuming eps in \\{1...(2^(t - 1) - 2)\\}  proven above\n",
      "                                condition (Summation_{l=eps}^{2^(t - 1) - 1} 1 / l^(2)) in Complexes  assuming eps in \\{1...(2^(t - 1) - 2)\\}  proven above\n",
      "                          hypothesis ((Summation_{l=eps}^{2^(t - 1) - 1} 1 / l^(2)) + (Summation_{l=eps}^{2^(t - 1) - 1} 1 / l^(2)) + (-1 / eps^(2))) = (((Summation_{l=eps}^{2^(t - 1) - 1} 1 / l^(2)) + (Summation_{l=eps}^{2^(t - 1) - 1} 1 / l^(2))) + (-1 / eps^(2)))  assuming eps in \\{1...(2^(t - 1) - 2)\\} \n",
      "                            specializing forall_{..x.., ..y.., ..z.. in Complexes} (( .. + x + ... + y + ... + z + .. ) = ( .. + x + ..  + ( .. + y + .. ) +  .. + z + .. )) \n",
      "                              by theorem proveit.number.complex.addAssoc\n",
      "                            condition (-1 / eps^(2)) in Complexes  assuming eps in \\{1...(2^(t - 1) - 2)\\}  proven above\n",
      "                            condition (Summation_{l=eps}^{2^(t - 1) - 1} 1 / l^(2)) in Complexes  assuming eps in \\{1...(2^(t - 1) - 2)\\}  proven above\n",
      "                    hypothesis ((2 * (Summation_{l=eps}^{2^(t - 1) - 1} 1 / l^(2))) + (-1 / eps^(2))) <= (2 * (Summation_{l=eps}^{2^(t - 1) - 1} 1 / l^(2)))  assuming eps in \\{1...(2^(t - 1) - 2)\\} \n",
      "                      specializing forall_{a, b in Reals | b <= 0} ((a + b) <= a) \n",
      "                        by theorem proveit.number.real.ineqThm6a\n",
      "                      condition (-1 / eps^(2)) in Reals  assuming eps in \\{1...(2^(t - 1) - 2)\\}  proven above\n",
      "                      condition (2 * (Summation_{l=eps}^{2^(t - 1) - 1} 1 / l^(2))) in Reals  assuming eps in \\{1...(2^(t - 1) - 2)\\} \n",
      "                        specializing forall_{..x.. in Reals} (( .. * x * .. ) in Reals)  proven above\n",
      "                        condition (Summation_{l=eps}^{2^(t - 1) - 1} 1 / l^(2)) in Reals  assuming eps in \\{1...(2^(t - 1) - 2)\\}  proven above\n",
      "                        condition 2 in Reals  proven above\n",
      "                      condition (-1 / eps^(2)) <= 0  assuming eps in \\{1...(2^(t - 1) - 2)\\} \n",
      "                        specializing forall_{a, b in Reals | a < b} (a <= b)  proven above\n",
      "                        condition (-1 / eps^(2)) < 0  assuming eps in \\{1...(2^(t - 1) - 2)\\}  proven above\n",
      "                        condition 0 in Reals  proven above\n",
      "                        condition (-1 / eps^(2)) in Reals  assuming eps in \\{1...(2^(t - 1) - 2)\\}  proven above\n",
      "                condition (2 * (Summation_{l=eps}^{2^(t - 1) - 1} 1 / l^(2))) in Reals  assuming eps in \\{1...(2^(t - 1) - 2)\\}  proven above\n",
      "    hypothesis (1 / 2 * (Summation_{l=eps}^{2^(t - 1) - 1} 1 / l^(2))) <= (1 / 2 * (1 / eps + 1 / eps^(2)))  assuming eps in \\{1...(2^(t - 1) - 2)\\} \n",
      "      implication ((1 / 2 * (1 / eps + 1 / eps^(2))) >= (1 / 2 * (Summation_{l=eps}^{2^(t - 1) - 1} 1 / l^(2)))) => ((1 / 2 * (Summation_{l=eps}^{2^(t - 1) - 1} 1 / l^(2))) <= (1 / 2 * (1 / eps + 1 / eps^(2)))) \n",
      "        specializing forall_{x, y} ((x >= y) => (y <= x))  proven above\n",
      "      hypothesis (1 / 2 * (1 / eps + 1 / eps^(2))) >= (1 / 2 * (Summation_{l=eps}^{2^(t - 1) - 1} 1 / l^(2)))  assuming eps in \\{1...(2^(t - 1) - 2)\\} \n",
      "        specializing forall_{a, b, c in Reals | c > 0, a >= b} ((c * a) >= (c * b))  proven above\n",
      "        condition 1 / 2 > 0 \n",
      "          implication (1 / 2 in RealsPos) => (1 / 2 > 0) \n",
      "            hypothetically reasoning 1 / 2 > 0  assuming 1 / 2 in RealsPos \n",
      "              implication (1 / 2 in RealsPos) => (1 / 2 > 0)  assuming 1 / 2 in RealsPos \n",
      "                implication ((1 / 2 in RealsPos) <=> (1 / 2 > 0)) => ((1 / 2 in RealsPos) => (1 / 2 > 0)) \n",
      "                  specializing forall_{A, B} ((A <=> B) => (A => B))  proven above\n",
      "                hypothesis (1 / 2 in RealsPos) <=> (1 / 2 > 0)  assuming 1 / 2 in RealsPos \n",
      "                  specializing forall_{a in Reals} ((a in RealsPos) <=> (a > 0))  proven above\n",
      "                  condition 1 / 2 in Reals  assuming 1 / 2 in RealsPos \n",
      "                    specializing forall_{a in RealsPos} (a in Reals)  proven above\n",
      "                    condition 1 / 2 in RealsPos  assuming 1 / 2 in RealsPos \n",
      "              hypothesis 1 / 2 in RealsPos  assuming 1 / 2 in RealsPos  proven above\n",
      "          hypothesis 1 / 2 in RealsPos \n",
      "            specializing forall_{a, b in RealsPos | b != 0} (a / b in RealsPos)  proven above\n",
      "            condition 2 in RealsPos  proven above\n",
      "            condition 1 in RealsPos  proven above\n",
      "            condition 2 != 0  proven above\n",
      "        condition (1 / eps + 1 / eps^(2)) in Reals  assuming eps in \\{1...(2^(t - 1) - 2)\\} \n",
      "          specializing forall_{..x.. in Reals} (( .. + x + .. ) in Reals)  proven above\n",
      "          condition 1 / eps in Reals  assuming eps in \\{1...(2^(t - 1) - 2)\\} \n",
      "            specializing forall_{a in RealsPos} (a in Reals)  proven above\n",
      "            condition 1 / eps in RealsPos  assuming eps in \\{1...(2^(t - 1) - 2)\\} \n",
      "              specializing forall_{a, b in RealsPos | b != 0} (a / b in RealsPos)  proven above\n",
      "              condition 1 in RealsPos  proven above\n",
      "              condition eps != 0  assuming eps in \\{1...(2^(t - 1) - 2)\\}  proven above\n",
      "              condition eps in RealsPos  assuming eps in \\{1...(2^(t - 1) - 2)\\}  proven above\n",
      "          condition 1 / eps^(2) in Reals  assuming eps in \\{1...(2^(t - 1) - 2)\\}  proven above\n",
      "        condition (Summation_{l=eps}^{2^(t - 1) - 1} 1 / l^(2)) in Reals  assuming eps in \\{1...(2^(t - 1) - 2)\\}  proven above\n",
      "        condition 1 / 2 in Reals \n",
      "          specializing forall_{a in RealsPos} (a in Reals)  proven above\n",
      "          condition 1 / 2 in RealsPos  proven above\n",
      "        condition (1 / eps + 1 / eps^(2)) >= (Summation_{l=eps}^{2^(t - 1) - 1} 1 / l^(2))  assuming eps in \\{1...(2^(t - 1) - 2)\\} \n",
      "          implication ((Summation_{l=eps}^{2^(t - 1) - 1} 1 / l^(2)) <= (1 / eps + 1 / eps^(2))) => ((1 / eps + 1 / eps^(2)) >= (Summation_{l=eps}^{2^(t - 1) - 1} 1 / l^(2))) \n",
      "            specializing forall_{x, y} ((x <= y) => (y >= x))  proven above\n",
      "          hypothesis (Summation_{l=eps}^{2^(t - 1) - 1} 1 / l^(2)) <= (1 / eps + 1 / eps^(2))  assuming eps in \\{1...(2^(t - 1) - 2)\\} \n",
      "            implication ((Summation_{l=eps}^{2^(t - 1) - 1} 1 / l^(2)) <= (1 / eps^(2) + Integrate_{eps}^{2^(t - 1) - 1}1 / l^(2)dl)) => ((Summation_{l=eps}^{2^(t - 1) - 1} 1 / l^(2)) <= (1 / eps + 1 / eps^(2)))  assuming eps in \\{1...(2^(t - 1) - 2)\\} \n",
      "              implication ((1 / eps^(2) + Integrate_{eps}^{2^(t - 1) - 1}1 / l^(2)dl) <= (1 / eps + 1 / eps^(2))) => (((Summation_{l=eps}^{2^(t - 1) - 1} 1 / l^(2)) <= (1 / eps^(2) + Integrate_{eps}^{2^(t - 1) - 1}1 / l^(2)dl)) => ((Summation_{l=eps}^{2^(t - 1) - 1} 1 / l^(2)) <= (1 / eps + 1 / eps^(2)))) \n",
      "                specializing forall_{x, y, z} ((x <= y) => ((z <= x) => (z <= y))) \n",
      "                  by axiom proveit.number.lessThanEqualsTransLessThanEqualsLeft\n",
      "              hypothesis (1 / eps^(2) + Integrate_{eps}^{2^(t - 1) - 1}1 / l^(2)dl) <= (1 / eps + 1 / eps^(2))  assuming eps in \\{1...(2^(t - 1) - 2)\\} \n",
      "                implication ((Integrate_{eps}^{2^(t - 1) - 1}1 / l^(2)dl + 1 / eps^(2)) <= (1 / eps + 1 / eps^(2))) => ((1 / eps^(2) + Integrate_{eps}^{2^(t - 1) - 1}1 / l^(2)dl) <= (1 / eps + 1 / eps^(2)))  assuming eps in \\{1...(2^(t - 1) - 2)\\} \n",
      "                  implication ((Integrate_{eps}^{2^(t - 1) - 1}1 / l^(2)dl + 1 / eps^(2)) = (1 / eps^(2) + Integrate_{eps}^{2^(t - 1) - 1}1 / l^(2)dl)) => (((Integrate_{eps}^{2^(t - 1) - 1}1 / l^(2)dl + 1 / eps^(2)) <= (1 / eps + 1 / eps^(2))) => ((1 / eps^(2) + Integrate_{eps}^{2^(t - 1) - 1}1 / l^(2)dl) <= (1 / eps + 1 / eps^(2)))) \n",
      "                    specializing forall_{P, x, y} ((x = y) => (P(x) => P(y)))  proven above\n",
      "                  hypothesis (Integrate_{eps}^{2^(t - 1) - 1}1 / l^(2)dl + 1 / eps^(2)) = (1 / eps^(2) + Integrate_{eps}^{2^(t - 1) - 1}1 / l^(2)dl)  assuming eps in \\{1...(2^(t - 1) - 2)\\} \n",
      "                    specializing forall_{..v.., ..w.., ..x.., ..y.., ..z.. in Complexes} (( .. + v + ... + w + ... + x + ... + y + ... + z + .. ) = ( .. + v + ... + y + ... + x + ... + w + ... + z + .. ))  proven above\n",
      "                    condition 1 / eps^(2) in Complexes  assuming eps in \\{1...(2^(t - 1) - 2)\\}  proven above\n",
      "                    condition Integrate_{eps}^{2^(t - 1) - 1}1 / l^(2)dl in Complexes  assuming eps in \\{1...(2^(t - 1) - 2)\\} \n",
      "                      specializing forall_{a in Reals} (a in Complexes)  proven above\n",
      "                      condition Integrate_{eps}^{2^(t - 1) - 1}1 / l^(2)dl in Reals  assuming eps in \\{1...(2^(t - 1) - 2)\\} \n",
      "                        implication [forall_{l in [eps,(2^(t - 1) - 1)]} (1 / l^(2) in Reals)] => (Integrate_{eps}^{2^(t - 1) - 1}1 / l^(2)dl in Reals) \n",
      "                          specializing forall_{P, S} ([forall_{..x.. in S} (P(..x..) in Reals)] => (Integrate_{S}P(..x..)d..x.. in Reals)) \n",
      "                            by theorem proveit.number.real.integrationClosure\n",
      "                        hypothesis forall_{l in [eps,(2^(t - 1) - 1)]} (1 / l^(2) in Reals)  assuming eps in \\{1...(2^(t - 1) - 2)\\} \n",
      "                          generalizing 1 / l^(2) in Reals  assuming l in [eps,(2^(t - 1) - 1)], eps in \\{1...(2^(t - 1) - 2)\\} \n",
      "                            specializing forall_{a, b in Reals | b != 0} (a / b in Reals)  proven above\n",
      "                            condition 1 in Reals  proven above\n",
      "                            condition l^(2) != 0  assuming l in [eps,(2^(t - 1) - 1)], eps in \\{1...(2^(t - 1) - 2)\\} \n",
      "                              specializing forall_{a in Reals | a > 0} (a != 0)  proven above\n",
      "                              condition l^(2) in Reals  assuming l in [eps,(2^(t - 1) - 1)], eps in \\{1...(2^(t - 1) - 2)\\} \n",
      "                                specializing forall_{a in RealsPos} (a in Reals)  proven above\n",
      "                                condition l^(2) in RealsPos  assuming l in [eps,(2^(t - 1) - 1)], eps in \\{1...(2^(t - 1) - 2)\\} \n",
      "                                  specializing forall_{a in Reals | a != 0} (a^(2) in RealsPos)  proven above\n",
      "                                  condition l != 0  assuming l in [eps,(2^(t - 1) - 1)], eps in \\{1...(2^(t - 1) - 2)\\} \n",
      "                                    specializing forall_{a in Reals | a > 0} (a != 0)  proven above\n",
      "                                    condition l > 0  assuming l in [eps,(2^(t - 1) - 1)], eps in \\{1...(2^(t - 1) - 2)\\} \n",
      "                                      implication (eps > 0) => (l > 0)  assuming l in [eps,(2^(t - 1) - 1)], eps in \\{1...(2^(t - 1) - 2)\\} \n",
      "                                        implication (l >= eps) => ((eps > 0) => (l > 0))  proven above\n",
      "                                        hypothesis l >= eps  assuming l in [eps,(2^(t - 1) - 1)], eps in \\{1...(2^(t - 1) - 2)\\} \n",
      "                                          implication (eps <= l) => (l >= eps)  proven above\n",
      "                                          hypothesis eps <= l  assuming l in [eps,(2^(t - 1) - 1)], eps in \\{1...(2^(t - 1) - 2)\\} \n",
      "                                            specializing forall_{x in [eps,(2^(t - 1) - 1)]} (eps <= x)  assuming eps in \\{1...(2^(t - 1) - 2)\\} \n",
      "                                              specializing forall_{a, b in Reals} [forall_{x in [a,b]} (a <= x)] \n",
      "                                                by theorem proveit.number.real.intervalCCLowerBound\n",
      "                                              condition eps in Reals  assuming eps in \\{1...(2^(t - 1) - 2)\\}  proven above\n",
      "                                              condition (2^(t - 1) - 1) in Reals  assuming eps in \\{1...(2^(t - 1) - 2)\\} \n",
      "                                                specializing forall_{a in Naturals} (a in Reals)  proven above\n",
      "                                                condition (2^(t - 1) - 1) in Naturals  assuming eps in \\{1...(2^(t - 1) - 2)\\}  proven above\n",
      "                                            condition l in [eps,(2^(t - 1) - 1)]  assuming l in [eps,(2^(t - 1) - 1)] \n",
      "                                      hypothesis eps > 0  assuming eps in \\{1...(2^(t - 1) - 2)\\}  proven above\n",
      "                                    condition l in Reals  assuming l in [eps,(2^(t - 1) - 1)], eps in \\{1...(2^(t - 1) - 2)\\} \n",
      "                                      specializing forall_{x in [eps,(2^(t - 1) - 1)]} (x in Reals)  assuming eps in \\{1...(2^(t - 1) - 2)\\} \n",
      "                                        specializing forall_{a, b in Reals} [forall_{x in [a,b]} (x in Reals)] \n",
      "                                          by theorem proveit.number.real.allInIntervalCC_InReals\n",
      "                                        condition eps in Reals  assuming eps in \\{1...(2^(t - 1) - 2)\\}  proven above\n",
      "                                        condition (2^(t - 1) - 1) in Reals  assuming eps in \\{1...(2^(t - 1) - 2)\\}  proven above\n",
      "                                      condition l in [eps,(2^(t - 1) - 1)]  assuming l in [eps,(2^(t - 1) - 1)]  proven above\n",
      "                                  condition l in Reals  assuming l in [eps,(2^(t - 1) - 1)], eps in \\{1...(2^(t - 1) - 2)\\}  proven above\n",
      "                              condition l^(2) > 0  assuming l in [eps,(2^(t - 1) - 1)], eps in \\{1...(2^(t - 1) - 2)\\} \n",
      "                                implication (l^(2) in RealsPos) => (l^(2) > 0)  proven above\n",
      "                                hypothesis l^(2) in RealsPos  assuming l in [eps,(2^(t - 1) - 1)], eps in \\{1...(2^(t - 1) - 2)\\}  proven above\n",
      "                            condition l^(2) in Reals  assuming l in [eps,(2^(t - 1) - 1)], eps in \\{1...(2^(t - 1) - 2)\\}  proven above\n",
      "                hypothesis (Integrate_{eps}^{2^(t - 1) - 1}1 / l^(2)dl + 1 / eps^(2)) <= (1 / eps + 1 / eps^(2))  assuming eps in \\{1...(2^(t - 1) - 2)\\} \n",
      "                  specializing forall_{a, b, c in Reals | a <= b} ((a + c) <= (b + c))  proven above\n",
      "                  condition 1 / eps in Reals  assuming eps in \\{1...(2^(t - 1) - 2)\\}  proven above\n",
      "                  condition Integrate_{eps}^{2^(t - 1) - 1}1 / l^(2)dl in Reals  assuming eps in \\{1...(2^(t - 1) - 2)\\}  proven above\n",
      "                  condition Integrate_{eps}^{2^(t - 1) - 1}1 / l^(2)dl <= 1 / eps  assuming eps in \\{1...(2^(t - 1) - 2)\\} \n",
      "                    specializing forall_{a, b in RealsPos | a <= b} (Integrate_{a}^{b}1 / l^(2)dl <= 1 / a) \n",
      "                      by theorem proveit.number.real.boundedInvSqrdIntegral\n",
      "                    condition eps <= (2^(t - 1) - 1)  assuming eps in \\{1...(2^(t - 1) - 2)\\} \n",
      "                      specializing forall_{a, b in Reals | a < b} (a <= b)  proven above\n",
      "                      condition eps in Reals  assuming eps in \\{1...(2^(t - 1) - 2)\\}  proven above\n",
      "                      condition eps < (2^(t - 1) - 1)  assuming eps in \\{1...(2^(t - 1) - 2)\\} \n",
      "                        implication ((eps + 1) <= (2^(t - 1) - 1)) => (eps < (2^(t - 1) - 1))  assuming eps in \\{1...(2^(t - 1) - 2)\\} \n",
      "                          implication (eps < (eps + 1)) => (((eps + 1) <= (2^(t - 1) - 1)) => (eps < (2^(t - 1) - 1))) \n",
      "                            specializing forall_{x, y, z} ((x < y) => ((y <= z) => (x < z))) \n",
      "                              by axiom proveit.number.lessThanTransLessThanEqualsRight\n",
      "                          hypothesis eps < (eps + 1)  assuming eps in \\{1...(2^(t - 1) - 2)\\} \n",
      "                            implication ((eps + 1) > eps) => (eps < (eps + 1)) \n",
      "                              specializing forall_{x, y} ((x > y) => (y < x)) \n",
      "                                by axiom proveit.number.reverseGreaterThan\n",
      "                            hypothesis (eps + 1) > eps  assuming eps in \\{1...(2^(t - 1) - 2)\\} \n",
      "                              specializing forall_{b in Reals} ((b + 1) > b) \n",
      "                                specializing forall_{..a.., ..c.. in RealsPos} [forall_{b in Reals} (( .. + a + ..  + b +  .. + c + .. ) > b)]  proven above\n",
      "                                condition 1 in RealsPos  proven above\n",
      "                              condition eps in Reals  assuming eps in \\{1...(2^(t - 1) - 2)\\}  proven above\n",
      "                        hypothesis (eps + 1) <= (2^(t - 1) - 1)  assuming eps in \\{1...(2^(t - 1) - 2)\\}  proven above\n",
      "                      condition (2^(t - 1) - 1) in Reals  assuming eps in \\{1...(2^(t - 1) - 2)\\}  proven above\n",
      "                    condition eps in RealsPos  assuming eps in \\{1...(2^(t - 1) - 2)\\}  proven above\n",
      "                    condition (2^(t - 1) - 1) in RealsPos  assuming eps in \\{1...(2^(t - 1) - 2)\\} \n",
      "                      implication ((2^(t - 1) - 1) > 0) => ((2^(t - 1) - 1) in RealsPos)  assuming eps in \\{1...(2^(t - 1) - 2)\\} \n",
      "                        implication (((2^(t - 1) - 1) in RealsPos) <=> ((2^(t - 1) - 1) > 0)) => (((2^(t - 1) - 1) > 0) => ((2^(t - 1) - 1) in RealsPos)) \n",
      "                          specializing forall_{A, B} ((A <=> B) => (B => A))  proven above\n",
      "                        hypothesis ((2^(t - 1) - 1) in RealsPos) <=> ((2^(t - 1) - 1) > 0)  assuming eps in \\{1...(2^(t - 1) - 2)\\} \n",
      "                          specializing forall_{a in Reals} ((a in RealsPos) <=> (a > 0))  proven above\n",
      "                          condition (2^(t - 1) - 1) in Reals  assuming eps in \\{1...(2^(t - 1) - 2)\\}  proven above\n",
      "                      hypothesis (2^(t - 1) - 1) > 0  assuming eps in \\{1...(2^(t - 1) - 2)\\} \n",
      "                        implication ((2^(t - 1) - 1) >= eps) => ((2^(t - 1) - 1) > 0)  assuming eps in \\{1...(2^(t - 1) - 2)\\} \n",
      "                          implication (eps > 0) => (((2^(t - 1) - 1) >= eps) => ((2^(t - 1) - 1) > 0)) \n",
      "                            specializing forall_{x, y, z} ((x > y) => ((z >= x) => (z > y))) \n",
      "                              by axiom proveit.number.greaterThanTransGreaterThanEqualsLeft\n",
      "                          hypothesis eps > 0  assuming eps in \\{1...(2^(t - 1) - 2)\\}  proven above\n",
      "                        hypothesis (2^(t - 1) - 1) >= eps  assuming eps in \\{1...(2^(t - 1) - 2)\\} \n",
      "                          implication (eps <= (2^(t - 1) - 1)) => ((2^(t - 1) - 1) >= eps) \n",
      "                            specializing forall_{x, y} ((x <= y) => (y >= x))  proven above\n",
      "                          hypothesis eps <= (2^(t - 1) - 1)  assuming eps in \\{1...(2^(t - 1) - 2)\\}  proven above\n",
      "                  condition 1 / eps^(2) in Reals  assuming eps in \\{1...(2^(t - 1) - 2)\\}  proven above\n",
      "            hypothesis (Summation_{l=eps}^{2^(t - 1) - 1} 1 / l^(2)) <= (1 / eps^(2) + Integrate_{eps}^{2^(t - 1) - 1}1 / l^(2)dl)  assuming eps in \\{1...(2^(t - 1) - 2)\\} \n",
      "              specializing forall_{a, b in Integers | a <= b} ((Summation_{l=a}^{b} 1 / l^(2)) <= (1 / a^(2) + Integrate_{a}^{b}1 / l^(2)dl)) \n",
      "                specializing forall_{f in MonDecFuncs} [forall_{a, b in Integers | a <= b} ((Summation_{x=a}^{b} f(x)) <= (f(a) + Integrate_{a}^{b}f(x)dx))] \n",
      "                  by theorem proveit.number.integer.sumIntegrateIneq1\n",
      "                condition [(l) -> 1 / l^(2)] in MonDecFuncs \n",
      "                  by theorem proveit.number.real.inverseSqrdIsMonDecFunc\n",
      "              condition eps <= (2^(t - 1) - 1)  assuming eps in \\{1...(2^(t - 1) - 2)\\}  proven above\n",
      "              condition eps in Integers  assuming eps in \\{1...(2^(t - 1) - 2)\\}  proven above\n",
      "              condition (2^(t - 1) - 1) in Integers  assuming eps in \\{1...(2^(t - 1) - 2)\\}  proven above\n",
      "proveit.basiclogic.boolean.andImpliesEach\n",
      "proveit.basiclogic.equality.equalsSymmetry\n",
      "proveit.basiclogic.equality.equalsTransitivity\n",
      "proveit.basiclogic.equality.substitution\n",
      "proveit.basiclogic.instanceSubstitution\n",
      "proveit.number.greaterThanEqualsTransGreaterThanRight\n",
      "proveit.number.greaterThanTransGreaterThanEqualsLeft\n",
      "proveit.number.lessThanEqualsTransLessThanEqualsLeft\n",
      "proveit.number.lessThanEqualsTransLessThanEqualsRight\n",
      "proveit.number.lessThanTransLessThanEqualsRight\n",
      "proveit.number.reverseGreaterThan\n",
      "proveit.number.reverseGreaterThanEquals\n",
      "proveit.number.reverseLessThanEquals\n",
      "proveit.physics.quantum.QPE.tInNaturalsPos\n",
      "proveit.basiclogic.boolean.conjunctionIntro\n",
      "proveit.basiclogic.boolean.iffImpliesLeft\n",
      "proveit.basiclogic.boolean.iffImpliesRight\n",
      "proveit.basiclogic.equality.lhsSubstitution\n",
      "proveit.basiclogic.equality.notEqualsSymmetry\n",
      "proveit.basiclogic.equality.rhsSubstitution\n",
      "proveit.number.addSums\n",
      "proveit.number.complex.addAssoc\n",
      "proveit.number.complex.addAssocRev\n",
      "proveit.number.complex.addComm\n",
      "proveit.number.complex.cancelAddNeg\n",
      "proveit.number.complex.cancelSubAndAdd\n",
      "proveit.number.complex.convertAddNegToSub\n",
      "proveit.number.complex.diffNotEqZero\n",
      "proveit.number.complex.distributeNegOverAdd\n",
      "proveit.number.complex.distributeThroughSummationRev\n",
      "proveit.number.complex.multAssoc\n",
      "proveit.number.complex.multAssocRev\n",
      "proveit.number.complex.negNeg\n",
      "proveit.number.complex.powNotEqZero\n",
      "proveit.number.complex.prodOfFracsLeftNumerOneRev\n",
      "proveit.number.complex.temporarySpecialCaseCancellation\n",
      "proveit.number.integer.addClosure\n",
      "proveit.number.integer.allInDiscreteInterval_InInts\n",
      "proveit.number.integer.allInNegativeIntervalAreNegative\n",
      "proveit.number.integer.allInPositiveIntervalArePositive\n",
      "proveit.number.integer.evenFuncSum\n",
      "proveit.number.integer.inComplexes\n",
      "proveit.number.integer.inReals\n",
      "proveit.number.integer.indexShift\n",
      "proveit.number.integer.intervalLowerBound\n",
      "proveit.number.integer.intervalUpperBound\n",
      "proveit.number.integer.negClosure\n",
      "proveit.number.integer.subtractClosure\n",
      "proveit.number.integer.subtractClosureNats\n",
      "proveit.number.integer.subtractClosureNatsPos\n",
      "proveit.number.integer.sumEq\n",
      "proveit.number.integer.sumIneq1\n",
      "proveit.number.integer.sumIneq2\n",
      "proveit.number.integer.sumIntegrateIneq1\n",
      "proveit.number.natural.allInDiscreteInterval_InNatsPos\n",
      "proveit.number.natural.fourInNaturalsPos\n",
      "proveit.number.natural.inIntegers\n",
      "proveit.number.natural.inNatPos_inComplexes\n",
      "proveit.number.natural.inNatPos_inIntegers\n",
      "proveit.number.natural.inNatPos_inNaturals\n",
      "proveit.number.natural.inNatPos_inReals\n",
      "proveit.number.natural.inNatPos_inRealsPos\n",
      "proveit.number.natural.inReals\n",
      "proveit.number.natural.naturalsPosLowerBound\n",
      "proveit.number.natural.powClosure\n",
      "proveit.number.natural.sumInNatsPos\n",
      "proveit.number.natural.twoInNaturals\n",
      "proveit.number.natural.twoInNaturalsPos\n",
      "proveit.number.real.addClosure\n",
      "proveit.number.real.allInIntervalCC_InReals\n",
      "proveit.number.real.boundedInvSqrdIntegral\n",
      "proveit.number.real.fractionClosure\n",
      "proveit.number.real.fractionPosClosure\n",
      "proveit.number.real.inComplexes\n",
      "proveit.number.real.inRealsNeg_iff_negative\n",
      "proveit.number.real.inRealsNeg_inComplexes\n",
      "proveit.number.real.inRealsPos_iff_positive\n",
      "proveit.number.real.inRealsPos_inComplexes\n",
      "proveit.number.real.inRealsPos_inReals\n",
      "proveit.number.real.ineqThm5\n",
      "proveit.number.real.ineqThm6a\n",
      "proveit.number.real.ineqThm7a\n",
      "proveit.number.real.ineqThm8a\n",
      "proveit.number.real.integrationClosure\n",
      "proveit.number.real.intervalCCLowerBound\n",
      "proveit.number.real.intervalCOLowerBound\n",
      "proveit.number.real.intervalCOUpperBound\n",
      "proveit.number.real.inverseSqrdIsEvenFunc\n",
      "proveit.number.real.inverseSqrdIsMonDecFunc\n",
      "proveit.number.real.lessThanEqualsAddRight\n",
      "proveit.number.real.multClosure\n",
      "proveit.number.real.multPosClosure\n",
      "proveit.number.real.negClosure\n",
      "proveit.number.real.negatedPositiveIsNegative\n",
      "proveit.number.real.negative_implies_notzero\n",
      "proveit.number.real.positive_implies_notzero\n",
      "proveit.number.real.powClosure\n",
      "proveit.number.real.relaxGreaterThan\n",
      "proveit.number.real.relaxLessThan\n",
      "proveit.number.real.simplifyQuarterTimesTwo\n",
      "proveit.number.real.sqrdClosure\n",
      "proveit.number.real.strictlyIncreasingAdditions\n",
      "proveit.number.real.subtractClosure\n",
      "proveit.number.real.sumFactor_temp\n",
      "proveit.number.real.summationClosure\n",
      "proveit.number.splitSumOneElem\n",
      "proveit.physics.quantum.QPE.all_abs_alpha_l_nonneg\n",
      "proveit.physics.quantum.QPE.alpha_l_sqrd_ineq\n",
      "proveit.physics.quantum.QPE.deltaInReals\n",
      "proveit.physics.quantum.QPE.fail_sum\n",
      "proveit.physics.quantum.QPE.negDomainInFullDomain\n",
      "proveit.physics.quantum.QPE.posDomainInFullDomain\n",
      "proveit.physics.quantum.QPE.scaledDeltaInInterval\n",
      "proveit.physics.quantum.QPE.scaledDelta_notEq_nonzeroInt\n",
      "proveit.physics.quantum.QPE.two_pow_tMinusOne_in_posnats\n",
      "Number of used axioms: 14\n",
      "Number of used theorms: 101\n",
      "Number of derivation tree nodes: 658\n"
     ]
    },
    {
     "data": {
      "text/latex": [
       "$\\forall_{\\varepsilon \\in \\{1\\ldots \\left(2^{t - 1} - 2\\right)\\}} \\left(P_{\\rm fail}\\left(\\varepsilon\\right) \\leq \\left(\\frac{1}{2} \\cdot \\left(\\frac{1}{\\varepsilon} + \\frac{1}{\\varepsilon^{2}}\\right)\\right)\\right)$"
      ],
      "text/plain": [
       "$\\forall_{\\varepsilon \\in \\{1\\ldots \\left(2^{t - 1} - 2\\right)\\}} \\left(P_{\\rm fail}\\left(\\varepsilon\\right) \\leq \\left(\\frac{1}{2} \\cdot \\left(\\frac{1}{\\varepsilon} + \\frac{1}{\\varepsilon^{2}}\\right)\\right)\\right)$"
      ]
     },
     "execution_count": 126,
     "metadata": {},
     "output_type": "execute_result"
    }
   ],
   "source": [
    "X16.generalize(eps, domain=epsInDomain.domain).qed()"
   ]
  },
  {
   "cell_type": "code",
   "execution_count": null,
   "metadata": {
    "collapsed": true
   },
   "outputs": [],
   "source": []
  },
  {
   "cell_type": "code",
   "execution_count": null,
   "metadata": {
    "collapsed": true
   },
   "outputs": [],
   "source": []
  }
 ],
 "metadata": {
  "kernelspec": {
   "display_name": "Python 2",
   "language": "python",
   "name": "python2"
  },
  "language_info": {
   "codemirror_mode": {
    "name": "ipython",
    "version": 2
   },
   "file_extension": ".py",
   "mimetype": "text/x-python",
   "name": "python",
   "nbconvert_exporter": "python",
   "pygments_lexer": "ipython2",
   "version": "2.7.10"
  }
 },
 "nbformat": 4,
 "nbformat_minor": 0
}
