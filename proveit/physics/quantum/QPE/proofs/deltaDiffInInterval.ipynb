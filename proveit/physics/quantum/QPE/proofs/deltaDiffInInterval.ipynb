{
 "cells": [
  {
   "cell_type": "code",
   "execution_count": 1,
   "metadata": {
    "collapsed": false
   },
   "outputs": [],
   "source": [
    "from proveit.basiclogic import In, autoSubstitute\n",
    "from proveit.physics.quantum.QPE.axioms import tInNaturalsPos\n",
    "from proveit.physics.quantum.QPE.theorems import scaledDeltaInInterval, deltaInReals, two_pow_t_in_posnats, two_pow_tMinusOne_in_posnats\n",
    "from proveit.physics.quantum.QPE.common import fullDomain, two_pow_t, t_\n",
    "from proveit.number import IntervalCO, Neg, Fraction, Multiply, Exponentiate\n",
    "from proveit.number.common import one, two\n",
    "from proveit.number.numberSets import deduceInReals, deduceInComplexes\n",
    "from proveit.number.complex.theorems import posTimesNeg, cancelSubThenAdd\n",
    "from proveit.common import a, b, l, x, y\n",
    "from IPython.display import display"
   ]
  },
  {
   "cell_type": "code",
   "execution_count": 2,
   "metadata": {
    "collapsed": false
   },
   "outputs": [
    {
     "data": {
      "text/latex": [
       "$\\left(2^{t} \\cdot \\delta\\right) \\in \\left[0,1\\right)$"
      ],
      "text/plain": [
       "(2^(t) * delta) in [0,1)"
      ]
     },
     "execution_count": 2,
     "metadata": {},
     "output_type": "execute_result"
    }
   ],
   "source": [
    "scaledDeltaInInterval"
   ]
  },
  {
   "cell_type": "code",
   "execution_count": 3,
   "metadata": {
    "collapsed": false
   },
   "outputs": [
    {
     "data": {
      "text/latex": [
       "$0 \\leq \\left(2^{t} \\cdot \\delta\\right)$"
      ],
      "text/plain": [
       "0 <= (2^(t) * delta)"
      ]
     },
     "execution_count": 3,
     "metadata": {},
     "output_type": "execute_result"
    }
   ],
   "source": [
    "scaledDeltaLowerBound = scaledDeltaInInterval.domain.deduceMemberLowerBound(scaledDeltaInInterval.element)\n",
    "scaledDeltaLowerBound.proven()"
   ]
  },
  {
   "cell_type": "code",
   "execution_count": 4,
   "metadata": {
    "collapsed": false
   },
   "outputs": [
    {
     "data": {
      "text/latex": [
       "$\\left(2^{t} \\cdot \\delta\\right) < 1$"
      ],
      "text/plain": [
       "(2^(t) * delta) < 1"
      ]
     },
     "execution_count": 4,
     "metadata": {},
     "output_type": "execute_result"
    }
   ],
   "source": [
    "scaledDeltaUpperBound = scaledDeltaInInterval.domain.deduceMemberUpperBound(scaledDeltaInInterval.element)\n",
    "scaledDeltaUpperBound.proven()"
   ]
  },
  {
   "cell_type": "code",
   "execution_count": 5,
   "metadata": {
    "collapsed": false
   },
   "outputs": [
    {
     "data": {
      "text/latex": [
       "$l \\in \\{\\left(\\left(-2^{t - 1}\\right) + 1\\right)\\ldots 2^{t - 1}\\}$"
      ],
      "text/plain": [
       "l in \\{((-2^(t - 1)) + 1)...2^(t - 1)\\}"
      ]
     },
     "metadata": {},
     "output_type": "display_data"
    },
    {
     "data": {
      "text/latex": [
       "$l \\in \\mathbb{Z}$"
      ],
      "text/plain": [
       "l in Integers"
      ]
     },
     "metadata": {},
     "output_type": "display_data"
    }
   ],
   "source": [
    "lInDomain = In(l, fullDomain)\n",
    "display(lInDomain)\n",
    "display(fullDomain.deduceMemberInIntegers(l).proven({lInDomain}))"
   ]
  },
  {
   "cell_type": "code",
   "execution_count": 6,
   "metadata": {
    "collapsed": false
   },
   "outputs": [
    {
     "data": {
      "text/latex": [
       "$\\left(-\\left(\\left(-2^{t - 1}\\right) + 1\\right)\\right) \\geq \\left(-l\\right)$"
      ],
      "text/plain": [
       "(-((-2^(t - 1)) + 1)) >= (-l)"
      ]
     },
     "execution_count": 6,
     "metadata": {},
     "output_type": "execute_result"
    }
   ],
   "source": [
    "lNegatedLowerBound = lInDomain.domain.deduceMemberLowerBound(l).deriveNegated({lInDomain})\n",
    "lNegatedLowerBound.proven({lInDomain})"
   ]
  },
  {
   "cell_type": "code",
   "execution_count": 7,
   "metadata": {
    "collapsed": false
   },
   "outputs": [
    {
     "data": {
      "text/latex": [
       "$\\left(-l\\right) \\geq \\left(-2^{t - 1}\\right)$"
      ],
      "text/plain": [
       "(-l) >= (-2^(t - 1))"
      ]
     },
     "execution_count": 7,
     "metadata": {},
     "output_type": "execute_result"
    }
   ],
   "source": [
    "lNegatedUpperBound = lInDomain.domain.deduceMemberUpperBound(l).deriveNegated({lInDomain})\n",
    "lNegatedUpperBound.proven({lInDomain})"
   ]
  },
  {
   "cell_type": "code",
   "execution_count": 8,
   "metadata": {
    "collapsed": false
   },
   "outputs": [
    {
     "data": {
      "text/latex": [
       "$\\left(0 + \\left(-2^{t - 1}\\right)\\right) \\leq \\left(\\left(2^{t} \\cdot \\delta\\right) + \\left(-l\\right)\\right)$"
      ],
      "text/plain": [
       "(0 + (-2^(t - 1))) <= ((2^(t) * delta) + (-l))"
      ]
     },
     "execution_count": 8,
     "metadata": {},
     "output_type": "execute_result"
    }
   ],
   "source": [
    "shiftedScaledLowerBound0 = scaledDeltaLowerBound.deriveAdded(lNegatedUpperBound, {lInDomain})\n",
    "shiftedScaledLowerBound0.proven({lInDomain})"
   ]
  },
  {
   "cell_type": "code",
   "execution_count": 9,
   "metadata": {
    "collapsed": false
   },
   "outputs": [
    {
     "data": {
      "text/latex": [
       "$\\left(-2^{t - 1}\\right) \\leq \\left(\\left(2^{t} \\cdot \\delta\\right) + \\left(-l\\right)\\right)$"
      ],
      "text/plain": [
       "(-2^(t - 1)) <= ((2^(t) * delta) + (-l))"
      ]
     },
     "execution_count": 9,
     "metadata": {},
     "output_type": "execute_result"
    }
   ],
   "source": [
    "shiftedScaledLowerBound1 = autoSubstitute(shiftedScaledLowerBound0, 'simplification', [], {'assumptions':{lInDomain}}, superExpr=shiftedScaledLowerBound0.lhs)\n",
    "shiftedScaledLowerBound1.proven({lInDomain})"
   ]
  },
  {
   "cell_type": "code",
   "execution_count": 10,
   "metadata": {
    "collapsed": false
   },
   "outputs": [
    {
     "data": {
      "text/latex": [
       "$\\left(-2^{t - 1}\\right) \\leq \\left(\\left(2^{t} \\cdot \\delta\\right) - l\\right)$"
      ],
      "text/plain": [
       "(-2^(t - 1)) <= ((2^(t) * delta) - l)"
      ]
     },
     "execution_count": 10,
     "metadata": {},
     "output_type": "execute_result"
    }
   ],
   "source": [
    "shiftedScaledLowerBound = autoSubstitute(shiftedScaledLowerBound1, 'subtractionFolding', [], {'assumptions':{lInDomain}}, superExpr=shiftedScaledLowerBound1.rhs)\n",
    "shiftedScaledLowerBound.proven({lInDomain})"
   ]
  },
  {
   "cell_type": "code",
   "execution_count": 11,
   "metadata": {
    "collapsed": false
   },
   "outputs": [
    {
     "data": {
      "text/latex": [
       "$\\left(\\left(2^{t} \\cdot \\delta\\right) + \\left(-l\\right)\\right) < \\left(1 + \\left(-\\left(\\left(-2^{t - 1}\\right) + 1\\right)\\right)\\right)$"
      ],
      "text/plain": [
       "((2^(t) * delta) + (-l)) < (1 + (-((-2^(t - 1)) + 1)))"
      ]
     },
     "execution_count": 11,
     "metadata": {},
     "output_type": "execute_result"
    }
   ],
   "source": [
    "shiftedScaledUpperBound0 = scaledDeltaUpperBound.deriveAdded(lNegatedLowerBound, {lInDomain})\n",
    "shiftedScaledUpperBound0.proven({lInDomain})"
   ]
  },
  {
   "cell_type": "code",
   "execution_count": 12,
   "metadata": {
    "collapsed": false
   },
   "outputs": [
    {
     "data": {
      "text/latex": [
       "$\\left(\\left(2^{t} \\cdot \\delta\\right) - l\\right) < \\left(1 + \\left(-\\left(\\left(-2^{t - 1}\\right) + 1\\right)\\right)\\right)$"
      ],
      "text/plain": [
       "((2^(t) * delta) - l) < (1 + (-((-2^(t - 1)) + 1)))"
      ]
     },
     "execution_count": 12,
     "metadata": {},
     "output_type": "execute_result"
    }
   ],
   "source": [
    "shiftedScaledUpperBound1 = autoSubstitute(shiftedScaledUpperBound0, 'subtractionFolding', [], {'assumptions':{lInDomain}}, superExpr=shiftedScaledUpperBound0.lhs)\n",
    "shiftedScaledUpperBound1.proven({lInDomain})"
   ]
  },
  {
   "cell_type": "code",
   "execution_count": 13,
   "metadata": {
    "collapsed": false
   },
   "outputs": [
    {
     "data": {
      "text/latex": [
       "$\\left(\\left(2^{t} \\cdot \\delta\\right) - l\\right) < \\left(1 - \\left(\\left(-2^{t - 1}\\right) + 1\\right)\\right)$"
      ],
      "text/plain": [
       "((2^(t) * delta) - l) < (1 - ((-2^(t - 1)) + 1))"
      ]
     },
     "execution_count": 13,
     "metadata": {},
     "output_type": "execute_result"
    }
   ],
   "source": [
    "shiftedScaledUpperBound2 = autoSubstitute(shiftedScaledUpperBound1, 'subtractionFolding', [], {'assumptions':{lInDomain}}, superExpr=shiftedScaledUpperBound1.rhs)\n",
    "shiftedScaledUpperBound2.proven({lInDomain})"
   ]
  },
  {
   "cell_type": "code",
   "execution_count": 14,
   "metadata": {
    "collapsed": false
   },
   "outputs": [
    {
     "data": {
      "text/latex": [
       "$\\left(\\left(2^{t} \\cdot \\delta\\right) - l\\right) < 2^{t - 1}$"
      ],
      "text/plain": [
       "((2^(t) * delta) - l) < 2^(t - 1)"
      ]
     },
     "execution_count": 14,
     "metadata": {},
     "output_type": "execute_result"
    }
   ],
   "source": [
    "shiftedScaledUpperBound = autoSubstitute(shiftedScaledUpperBound2, 'cancel', [], {'assumptions':{lInDomain}}, superExpr=shiftedScaledUpperBound2.rhs)\n",
    "shiftedScaledUpperBound.proven({lInDomain})"
   ]
  },
  {
   "cell_type": "code",
   "execution_count": 15,
   "metadata": {
    "collapsed": false
   },
   "outputs": [
    {
     "data": {
      "text/latex": [
       "$\\left(\\left(2^{t} \\cdot \\delta\\right) - l\\right) \\in \\left[\\left(-2^{t - 1}\\right),2^{t - 1}\\right)$"
      ],
      "text/plain": [
       "((2^(t) * delta) - l) in [(-2^(t - 1)),2^(t - 1))"
      ]
     },
     "execution_count": 15,
     "metadata": {},
     "output_type": "execute_result"
    }
   ],
   "source": [
    "shiftedScaled = shiftedScaledUpperBound.lhs\n",
    "two_pow_tMinusOne = shiftedScaledUpperBound.rhs\n",
    "deduceInReals(shiftedScaled, {lInDomain})\n",
    "shiftedScaledInDomain = In(shiftedScaled, IntervalCO(Neg(two_pow_tMinusOne), two_pow_tMinusOne)).concludeAsFolded()\n",
    "shiftedScaledInDomain.proven({lInDomain})"
   ]
  },
  {
   "cell_type": "code",
   "execution_count": 16,
   "metadata": {
    "collapsed": true
   },
   "outputs": [],
   "source": [
    "shiftedRescaledInDomain = list()"
   ]
  },
  {
   "cell_type": "code",
   "execution_count": 17,
   "metadata": {
    "collapsed": false
   },
   "outputs": [
    {
     "data": {
      "text/latex": [
       "$\\left(\\frac{1}{2^{t}} \\cdot \\left(\\left(2^{t} \\cdot \\delta\\right) - l\\right)\\right) \\in \\left[\\left(\\frac{1}{2^{t}} \\cdot \\left(-2^{t - 1}\\right)\\right),\\left(\\frac{1}{2^{t}} \\cdot 2^{t - 1}\\right)\\right)$"
      ],
      "text/plain": [
       "(1 / 2^(t) * ((2^(t) * delta) - l)) in [(1 / 2^(t) * (-2^(t - 1))),(1 / 2^(t) * 2^(t - 1)))"
      ]
     },
     "execution_count": 17,
     "metadata": {},
     "output_type": "execute_result"
    }
   ],
   "source": [
    "shiftedRescaledInDomain.append(shiftedScaledInDomain.domain.deduceRescaledMembership(shiftedScaledInDomain.element, Fraction(one, two_pow_t), {lInDomain}))\n",
    "shiftedRescaledInDomain[-1].proven({lInDomain})"
   ]
  },
  {
   "cell_type": "code",
   "execution_count": 18,
   "metadata": {
    "collapsed": false
   },
   "outputs": [
    {
     "data": {
      "text/latex": [
       "$\\left(\\left(\\frac{1}{2^{t}} \\cdot \\left(2^{t} \\cdot \\delta\\right)\\right) - \\left(\\frac{1}{2^{t}} \\cdot l\\right)\\right) \\in \\left[\\left(\\frac{1}{2^{t}} \\cdot \\left(-2^{t - 1}\\right)\\right),\\left(\\frac{1}{2^{t}} \\cdot 2^{t - 1}\\right)\\right)$"
      ],
      "text/plain": [
       "((1 / 2^(t) * (2^(t) * delta)) - (1 / 2^(t) * l)) in [(1 / 2^(t) * (-2^(t - 1))),(1 / 2^(t) * 2^(t - 1)))"
      ]
     },
     "execution_count": 18,
     "metadata": {},
     "output_type": "execute_result"
    }
   ],
   "source": [
    "shiftedRescaledInDomain.append(autoSubstitute(shiftedRescaledInDomain[-1], 'distribute', [1], {'assumptions':{lInDomain}}))\n",
    "shiftedRescaledInDomain[-1].proven({lInDomain})"
   ]
  },
  {
   "cell_type": "code",
   "execution_count": 19,
   "metadata": {
    "collapsed": false
   },
   "outputs": [
    {
     "data": {
      "text/latex": [
       "$\\forall_{x, y \\in \\mathbb{C}} \\left(\\left(x \\cdot \\left(-y\\right)\\right) = \\left(-\\left(x \\cdot y\\right)\\right)\\right)$"
      ],
      "text/plain": [
       "forall_{x, y in Complexes} ((x * (-y)) = (-(x * y)))"
      ]
     },
     "execution_count": 19,
     "metadata": {},
     "output_type": "execute_result"
    }
   ],
   "source": [
    "posTimesNeg"
   ]
  },
  {
   "cell_type": "code",
   "execution_count": 20,
   "metadata": {
    "collapsed": false
   },
   "outputs": [
    {
     "data": {
      "text/latex": [
       "$\\left(\\left(\\frac{1}{2^{t}} \\cdot \\left(2^{t} \\cdot \\delta\\right)\\right) - \\left(\\frac{1}{2^{t}} \\cdot l\\right)\\right) \\in \\left[\\left(-\\left(\\frac{1}{2^{t}} \\cdot 2^{t - 1}\\right)\\right),\\left(\\frac{1}{2^{t}} \\cdot 2^{t - 1}\\right)\\right)$"
      ],
      "text/plain": [
       "((1 / 2^(t) * (2^(t) * delta)) - (1 / 2^(t) * l)) in [(-(1 / 2^(t) * 2^(t - 1))),(1 / 2^(t) * 2^(t - 1)))"
      ]
     },
     "execution_count": 20,
     "metadata": {},
     "output_type": "execute_result"
    }
   ],
   "source": [
    "shiftedRescaledInDomain.append(posTimesNeg.specialize({x:Fraction(one, two_pow_t), y:two_pow_tMinusOne}).rhsSubstitute(shiftedRescaledInDomain[-1]))\n",
    "shiftedRescaledInDomain[-1].proven({lInDomain})"
   ]
  },
  {
   "cell_type": "code",
   "execution_count": 21,
   "metadata": {
    "collapsed": false
   },
   "outputs": [
    {
     "data": {
      "text/latex": [
       "$\\left(\\frac{2^{t} \\cdot \\delta}{2^{t}} - \\left(\\frac{1}{2^{t}} \\cdot l\\right)\\right) \\in \\left[\\left(-\\left(\\frac{1}{2^{t}} \\cdot 2^{t - 1}\\right)\\right),\\left(\\frac{1}{2^{t}} \\cdot 2^{t - 1}\\right)\\right)$"
      ],
      "text/plain": [
       "((2^(t) * delta) / 2^(t) - (1 / 2^(t) * l)) in [(-(1 / 2^(t) * 2^(t - 1))),(1 / 2^(t) * 2^(t - 1)))"
      ]
     },
     "metadata": {},
     "output_type": "display_data"
    },
    {
     "data": {
      "text/latex": [
       "$\\left(\\frac{2^{t} \\cdot \\delta}{2^{t}} - \\frac{l}{2^{t}}\\right) \\in \\left[\\left(-\\left(\\frac{1}{2^{t}} \\cdot 2^{t - 1}\\right)\\right),\\left(\\frac{1}{2^{t}} \\cdot 2^{t - 1}\\right)\\right)$"
      ],
      "text/plain": [
       "((2^(t) * delta) / 2^(t) - l / 2^(t)) in [(-(1 / 2^(t) * 2^(t - 1))),(1 / 2^(t) * 2^(t - 1)))"
      ]
     },
     "metadata": {},
     "output_type": "display_data"
    },
    {
     "data": {
      "text/latex": [
       "$\\left(\\frac{2^{t} \\cdot \\delta}{2^{t}} - \\frac{l}{2^{t}}\\right) \\in \\left[\\left(-\\frac{2^{t - 1}}{2^{t}}\\right),\\frac{2^{t - 1}}{2^{t}}\\right)$"
      ],
      "text/plain": [
       "((2^(t) * delta) / 2^(t) - l / 2^(t)) in [(-2^(t - 1) / 2^(t)),2^(t - 1) / 2^(t))"
      ]
     },
     "metadata": {},
     "output_type": "display_data"
    }
   ],
   "source": [
    "for k in range(3):\n",
    "    shiftedRescaledInDomain.append(autoSubstitute(shiftedRescaledInDomain[-1], 'distribute', [0], {'assumptions':{lInDomain}}, suppressWarnings=True))\n",
    "    display(shiftedRescaledInDomain[-1].proven({lInDomain}))"
   ]
  },
  {
   "cell_type": "code",
   "execution_count": 22,
   "metadata": {
    "collapsed": false
   },
   "outputs": [
    {
     "data": {
      "text/latex": [
       "$\\left(\\delta - \\frac{l}{2^{t}}\\right) \\in \\left[\\left(-\\frac{2^{t - 1}}{2^{t}}\\right),\\frac{2^{t - 1}}{2^{t}}\\right)$"
      ],
      "text/plain": [
       "(delta - l / 2^(t)) in [(-2^(t - 1) / 2^(t)),2^(t - 1) / 2^(t))"
      ]
     },
     "execution_count": 22,
     "metadata": {},
     "output_type": "execute_result"
    }
   ],
   "source": [
    "shiftedInDomain0 = autoSubstitute(shiftedRescaledInDomain[-1], 'cancel', [two_pow_t], {'assumptions':{lInDomain}}, subExprClass=Fraction)\n",
    "shiftedInDomain0.proven({lInDomain})"
   ]
  },
  {
   "cell_type": "code",
   "execution_count": 23,
   "metadata": {
    "collapsed": false
   },
   "outputs": [
    {
     "data": {
      "text/latex": [
       "$\\left(2 \\cdot 2^{t - 1}\\right) = 2^{1 + \\left(t - 1\\right)}$"
      ],
      "text/plain": [
       "(2 * 2^(t - 1)) = 2^(1 + (t - 1))"
      ]
     },
     "execution_count": 23,
     "metadata": {},
     "output_type": "execute_result"
    }
   ],
   "source": [
    "twoPowersEq0 = Multiply(two, two_pow_tMinusOne).combineExponents()\n",
    "twoPowersEq0.proven()"
   ]
  },
  {
   "cell_type": "code",
   "execution_count": 24,
   "metadata": {
    "collapsed": false
   },
   "outputs": [
    {
     "data": {
      "text/latex": [
       "$\\left(2 \\cdot 2^{t - 1}\\right) = 2^{\\left(t - 1\\right) + 1}$"
      ],
      "text/plain": [
       "(2 * 2^(t - 1)) = 2^((t - 1) + 1)"
      ]
     },
     "execution_count": 24,
     "metadata": {},
     "output_type": "execute_result"
    }
   ],
   "source": [
    "twoPowersEq1 = twoPowersEq0.rhs.exponent.commute().rhsSubstitute(twoPowersEq0)\n",
    "twoPowersEq1.proven()"
   ]
  },
  {
   "cell_type": "code",
   "execution_count": 25,
   "metadata": {
    "collapsed": false
   },
   "outputs": [
    {
     "data": {
      "text/latex": [
       "$2^{t} = \\left(2 \\cdot 2^{t - 1}\\right)$"
      ],
      "text/plain": [
       "2^(t) = (2 * 2^(t - 1))"
      ]
     },
     "execution_count": 25,
     "metadata": {},
     "output_type": "execute_result"
    }
   ],
   "source": [
    "deduceInComplexes(t_)\n",
    "twoPowersEqn = cancelSubThenAdd.specialize({a:t_, b:one}).rhsSubstitute(twoPowersEq1).deriveReversed()\n",
    "twoPowersEqn.proven()"
   ]
  },
  {
   "cell_type": "code",
   "execution_count": 26,
   "metadata": {
    "collapsed": false
   },
   "outputs": [
    {
     "data": {
      "text/latex": [
       "$\\left[\\left(-\\frac{2^{t - 1}}{2^{t}}\\right),\\frac{2^{t - 1}}{2^{t}}\\right) = \\left[\\left(-\\frac{2^{t - 1}}{2 \\cdot 2^{t - 1}}\\right),\\frac{2^{t - 1}}{2 \\cdot 2^{t - 1}}\\right)$"
      ],
      "text/plain": [
       "[(-2^(t - 1) / 2^(t)),2^(t - 1) / 2^(t)) = [(-2^(t - 1) / (2 * 2^(t - 1))),2^(t - 1) / (2 * 2^(t - 1)))"
      ]
     },
     "execution_count": 26,
     "metadata": {},
     "output_type": "execute_result"
    }
   ],
   "source": [
    "domainEq0 = twoPowersEqn.substitution(shiftedRescaledInDomain[-1].domain)\n",
    "domainEq0"
   ]
  },
  {
   "cell_type": "code",
   "execution_count": 27,
   "metadata": {
    "collapsed": false
   },
   "outputs": [
    {
     "data": {
      "text/latex": [
       "$\\left[\\left(-\\frac{2^{t - 1}}{2^{t}}\\right),\\frac{2^{t - 1}}{2^{t}}\\right) = \\left[\\left(-\\frac{1}{2}\\right),\\frac{1}{2}\\right)$"
      ],
      "text/plain": [
       "[(-2^(t - 1) / 2^(t)),2^(t - 1) / 2^(t)) = [(-1 / 2),1 / 2)"
      ]
     },
     "execution_count": 27,
     "metadata": {},
     "output_type": "execute_result"
    }
   ],
   "source": [
    "domainEq1 = autoSubstitute(domainEq0, 'cancel', [two_pow_tMinusOne], superExpr=domainEq0.rhs)\n",
    "domainEq1"
   ]
  },
  {
   "cell_type": "code",
   "execution_count": 28,
   "metadata": {
    "collapsed": false
   },
   "outputs": [
    {
     "data": {
      "text/latex": [
       "$\\left(\\delta - \\frac{l}{2^{t}}\\right) \\in \\left[\\left(-\\frac{1}{2}\\right),\\frac{1}{2}\\right)$"
      ],
      "text/plain": [
       "(delta - l / 2^(t)) in [(-1 / 2),1 / 2)"
      ]
     },
     "execution_count": 28,
     "metadata": {},
     "output_type": "execute_result"
    }
   ],
   "source": [
    "shiftedInDomain = domainEq1.rhsSubstitute(shiftedInDomain0)\n",
    "shiftedInDomain.proven({lInDomain})"
   ]
  },
  {
   "cell_type": "code",
   "execution_count": 29,
   "metadata": {
    "collapsed": false
   },
   "outputs": [
    {
     "data": {
      "text/latex": [
       "$\\forall_{l \\in \\{\\left(\\left(-2^{t - 1}\\right) + 1\\right)\\ldots 2^{t - 1}\\}} \\left(\\left(\\delta - \\frac{l}{2^{t}}\\right) \\in \\left[\\left(-\\frac{1}{2}\\right),\\frac{1}{2}\\right)\\right)$"
      ],
      "text/plain": [
       "forall_{l in \\{((-2^(t - 1)) + 1)...2^(t - 1)\\}} ((delta - l / 2^(t)) in [(-1 / 2),1 / 2))"
      ]
     },
     "execution_count": 29,
     "metadata": {},
     "output_type": "execute_result"
    }
   ],
   "source": [
    "shiftedInDomain.generalize(l, domain=fullDomain).proven()"
   ]
  },
  {
   "cell_type": "code",
   "execution_count": null,
   "metadata": {
    "collapsed": true
   },
   "outputs": [],
   "source": []
  }
 ],
 "metadata": {
  "kernelspec": {
   "display_name": "Python 2",
   "language": "python",
   "name": "python2"
  },
  "language_info": {
   "codemirror_mode": {
    "name": "ipython",
    "version": 2
   },
   "file_extension": ".py",
   "mimetype": "text/x-python",
   "name": "python",
   "nbconvert_exporter": "python",
   "pygments_lexer": "ipython2",
   "version": "2.7.10"
  }
 },
 "nbformat": 4,
 "nbformat_minor": 0
}
