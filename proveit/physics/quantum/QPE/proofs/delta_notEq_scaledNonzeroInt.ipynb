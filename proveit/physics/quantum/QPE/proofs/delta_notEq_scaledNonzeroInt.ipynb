{
 "cells": [
  {
   "cell_type": "code",
   "execution_count": 1,
   "metadata": {
    "collapsed": false
   },
   "outputs": [],
   "source": [
    "from proveit.basiclogic import In, Implies, FALSE, Equals, NotEquals, autoSubstitute\n",
    "from proveit.physics.quantum.QPE.theorems import scaledDelta_notEq_nonzeroInt, two_pow_t_in_posnats\n",
    "from proveit.physics.quantum.QPE.common import two_pow_t, delta_\n",
    "from proveit.number.real.theorems import divIneqThm1\n",
    "from proveit.number.numberSets import Integers\n",
    "from proveit.number.number import zero\n",
    "from proveit.number import Multiply, Fraction\n",
    "from proveit.common import l, X\n",
    "from IPython.display import display"
   ]
  },
  {
   "cell_type": "code",
   "execution_count": 2,
   "metadata": {
    "collapsed": false
   },
   "outputs": [
    {
     "data": {
      "text/latex": [
       "$l \\in \\mathbb{Z}$"
      ],
      "text/plain": [
       "l in Integers"
      ]
     },
     "metadata": {},
     "output_type": "display_data"
    },
    {
     "data": {
      "text/latex": [
       "$l \\neq 0$"
      ],
      "text/plain": [
       "l != 0"
      ]
     },
     "metadata": {},
     "output_type": "display_data"
    }
   ],
   "source": [
    "lInInts = In(l, Integers)\n",
    "lNotZero = NotEquals(l, zero)\n",
    "assumptions = {lInInts, lNotZero}\n",
    "display(lInInts)\n",
    "display(lNotZero)"
   ]
  },
  {
   "cell_type": "code",
   "execution_count": 3,
   "metadata": {
    "collapsed": false
   },
   "outputs": [
    {
     "data": {
      "text/latex": [
       "$\\forall_{l \\in \\mathbb{Z}~|~l \\neq 0} \\left(\\left(2^{t} \\cdot \\delta\\right) \\neq l\\right)$"
      ],
      "text/plain": [
       "forall_{l in Integers | l != 0} ((2^(t) * delta) != l)"
      ]
     },
     "execution_count": 3,
     "metadata": {},
     "output_type": "execute_result"
    }
   ],
   "source": [
    "scaledDelta_notEq_nonzeroInt"
   ]
  },
  {
   "cell_type": "code",
   "execution_count": 4,
   "metadata": {
    "collapsed": false
   },
   "outputs": [
    {
     "data": {
      "text/latex": [
       "$\\delta = \\frac{l}{2^{t}}$"
      ],
      "text/plain": [
       "delta = l / 2^(t)"
      ]
     },
     "execution_count": 4,
     "metadata": {},
     "output_type": "execute_result"
    }
   ],
   "source": [
    "contradiction0 = Equals(delta_, Fraction(l, two_pow_t))\n",
    "contradiction0"
   ]
  },
  {
   "cell_type": "code",
   "execution_count": 5,
   "metadata": {
    "collapsed": false
   },
   "outputs": [
    {
     "data": {
      "text/latex": [
       "$\\left(2^{t} \\cdot \\delta\\right) = \\left(2^{t} \\cdot \\frac{l}{2^{t}}\\right)$"
      ],
      "text/plain": [
       "(2^(t) * delta) = (2^(t) * l / 2^(t))"
      ]
     },
     "execution_count": 5,
     "metadata": {},
     "output_type": "execute_result"
    }
   ],
   "source": [
    "contradiction1 = contradiction0.substitution(Multiply(two_pow_t, X), X)\n",
    "contradiction1.proven({contradiction0})"
   ]
  },
  {
   "cell_type": "code",
   "execution_count": 6,
   "metadata": {
    "collapsed": false
   },
   "outputs": [
    {
     "data": {
      "text/latex": [
       "$\\left(2^{t} \\cdot \\delta\\right) = \\frac{2^{t} \\cdot l}{2^{t}}$"
      ],
      "text/plain": [
       "(2^(t) * delta) = (2^(t) * l) / 2^(t)"
      ]
     },
     "execution_count": 6,
     "metadata": {},
     "output_type": "execute_result"
    }
   ],
   "source": [
    "contradiction2 = autoSubstitute(contradiction1, 'distribute', [1], {'assumptions':assumptions}, superExpr=contradiction1.rhs)\n",
    "contradiction2.proven({contradiction0} | assumptions)"
   ]
  },
  {
   "cell_type": "code",
   "execution_count": 7,
   "metadata": {
    "collapsed": false
   },
   "outputs": [
    {
     "data": {
      "text/latex": [
       "$\\left(2^{t} \\cdot \\delta\\right) = l$"
      ],
      "text/plain": [
       "(2^(t) * delta) = l"
      ]
     },
     "execution_count": 7,
     "metadata": {},
     "output_type": "execute_result"
    }
   ],
   "source": [
    "contradiction3 = autoSubstitute(contradiction2, 'cancel', [two_pow_t], {'assumptions':assumptions}, superExpr=contradiction2.rhs)\n",
    "contradiction3.proven({contradiction0} | assumptions)"
   ]
  },
  {
   "cell_type": "code",
   "execution_count": 8,
   "metadata": {
    "collapsed": false
   },
   "outputs": [
    {
     "data": {
      "text/latex": [
       "$\\mathtt{FALSE}$"
      ],
      "text/plain": [
       "FALSE"
      ]
     },
     "execution_count": 8,
     "metadata": {},
     "output_type": "execute_result"
    }
   ],
   "source": [
    "scaledDelta_notEq_nonzeroInt.specialize().unfold().deriveContradiction().deriveConclusion().proven({contradiction0} | assumptions)"
   ]
  },
  {
   "cell_type": "code",
   "execution_count": 9,
   "metadata": {
    "collapsed": false
   },
   "outputs": [
    {
     "data": {
      "text/latex": [
       "$\\delta \\neq \\frac{l}{2^{t}}$"
      ],
      "text/plain": [
       "delta != l / 2^(t)"
      ]
     },
     "execution_count": 9,
     "metadata": {},
     "output_type": "execute_result"
    }
   ],
   "source": [
    "contradiction0.deduceInBool()\n",
    "ineq = Implies(contradiction0, FALSE).deriveViaContradiction().deriveNotEquals().proven(assumptions)\n",
    "ineq"
   ]
  },
  {
   "cell_type": "code",
   "execution_count": 10,
   "metadata": {
    "collapsed": false
   },
   "outputs": [
    {
     "data": {
      "text/latex": [
       "$\\forall_{l \\in \\mathbb{Z}~|~l \\neq 0} \\left(\\delta \\neq \\frac{l}{2^{t}}\\right)$"
      ],
      "text/plain": [
       "forall_{l in Integers | l != 0} (delta != l / 2^(t))"
      ]
     },
     "execution_count": 10,
     "metadata": {},
     "output_type": "execute_result"
    }
   ],
   "source": [
    "ineq.generalize(l, domain=Integers, conditions=[NotEquals(l, zero)]).proven()"
   ]
  },
  {
   "cell_type": "code",
   "execution_count": null,
   "metadata": {
    "collapsed": true
   },
   "outputs": [],
   "source": []
  }
 ],
 "metadata": {
  "kernelspec": {
   "display_name": "Python 2",
   "language": "python",
   "name": "python2"
  },
  "language_info": {
   "codemirror_mode": {
    "name": "ipython",
    "version": 2
   },
   "file_extension": ".py",
   "mimetype": "text/x-python",
   "name": "python",
   "nbconvert_exporter": "python",
   "pygments_lexer": "ipython2",
   "version": "2.7.10"
  }
 },
 "nbformat": 4,
 "nbformat_minor": 0
}
