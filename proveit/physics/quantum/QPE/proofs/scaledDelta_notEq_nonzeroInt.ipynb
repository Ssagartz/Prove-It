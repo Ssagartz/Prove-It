{
 "cells": [
  {
   "cell_type": "code",
   "execution_count": 1,
   "metadata": {
    "collapsed": false
   },
   "outputs": [],
   "source": [
    "from proveit.basiclogic import Implies, FALSE, In, Equals, NotEquals, autoSubstitute\n",
    "from proveit.physics.quantum.QPE.theorems import two_pow_t_in_posnats, scaledDeltaInInterval, deltaInReals\n",
    "from proveit.physics.quantum.QPE.common import two_pow_t \n",
    "from proveit.common import a, b, c, l, n, x\n",
    "from proveit.number import IntervalOO\n",
    "from proveit.number.common import zero, one\n",
    "from proveit.number.numberSets import Integers, deduceInReals, deduceInIntegers\n",
    "from proveit.number.real.theorems import betweenSuccessiveInts_notInt\n",
    "from proveit.number.natural.axioms import zeroAddOne\n",
    "from IPython.display import display"
   ]
  },
  {
   "cell_type": "code",
   "execution_count": 2,
   "metadata": {
    "collapsed": false
   },
   "outputs": [
    {
     "data": {
      "text/latex": [
       "$l \\in \\mathbb{Z}$"
      ],
      "text/plain": [
       "l in Integers"
      ]
     },
     "metadata": {},
     "output_type": "display_data"
    },
    {
     "data": {
      "text/latex": [
       "$l \\neq 0$"
      ],
      "text/plain": [
       "l != 0"
      ]
     },
     "metadata": {},
     "output_type": "display_data"
    }
   ],
   "source": [
    "lInInts = In(l, Integers)\n",
    "lNotZero = NotEquals(l, zero)\n",
    "assumptions = {lInInts, lNotZero}\n",
    "display(lInInts)\n",
    "display(lNotZero)"
   ]
  },
  {
   "cell_type": "code",
   "execution_count": 3,
   "metadata": {
    "collapsed": false
   },
   "outputs": [
    {
     "data": {
      "text/latex": [
       "$\\left(2^{t} \\cdot \\delta\\right) \\in \\left[0,1\\right)$"
      ],
      "text/plain": [
       "(2^(t) * delta) in [0,1)"
      ]
     },
     "execution_count": 3,
     "metadata": {},
     "output_type": "execute_result"
    }
   ],
   "source": [
    "scaledDelta = scaledDeltaInInterval.element\n",
    "scaledDeltaInInterval"
   ]
  },
  {
   "cell_type": "code",
   "execution_count": 4,
   "metadata": {
    "collapsed": false
   },
   "outputs": [
    {
     "data": {
      "text/latex": [
       "$\\left(2^{t} \\cdot \\delta\\right) = l$"
      ],
      "text/plain": [
       "(2^(t) * delta) = l"
      ]
     },
     "execution_count": 4,
     "metadata": {},
     "output_type": "execute_result"
    }
   ],
   "source": [
    "contradiction = Equals(scaledDelta, l)\n",
    "contradiction"
   ]
  },
  {
   "cell_type": "code",
   "execution_count": 5,
   "metadata": {
    "collapsed": false
   },
   "outputs": [
    {
     "data": {
      "text/latex": [
       "$0 \\leq l$"
      ],
      "text/plain": [
       "0 <= l"
      ]
     },
     "execution_count": 5,
     "metadata": {},
     "output_type": "execute_result"
    }
   ],
   "source": [
    "lLowerBoundLoose = contradiction.rhsSubstitute(scaledDeltaInInterval.domain.deduceMemberLowerBound(scaledDelta))\n",
    "lLowerBoundLoose.proven({contradiction})"
   ]
  },
  {
   "cell_type": "code",
   "execution_count": 6,
   "metadata": {
    "collapsed": false
   },
   "outputs": [
    {
     "data": {
      "text/latex": [
       "$l < 1$"
      ],
      "text/plain": [
       "l < 1"
      ]
     },
     "execution_count": 6,
     "metadata": {},
     "output_type": "execute_result"
    }
   ],
   "source": [
    "lUpperBound = contradiction.rhsSubstitute(scaledDeltaInInterval.domain.deduceMemberUpperBound(scaledDelta))\n",
    "lUpperBound.proven({contradiction})"
   ]
  },
  {
   "cell_type": "code",
   "execution_count": 7,
   "metadata": {
    "collapsed": false
   },
   "outputs": [
    {
     "data": {
      "text/latex": [
       "$\\lnot \\left(0 = l\\right)$"
      ],
      "text/plain": [
       "not(0 = l)"
      ]
     },
     "execution_count": 7,
     "metadata": {},
     "output_type": "execute_result"
    }
   ],
   "source": [
    "lNotZero.deriveReversed().unfold().proven(assumptions)"
   ]
  },
  {
   "cell_type": "code",
   "execution_count": 8,
   "metadata": {
    "collapsed": false
   },
   "outputs": [
    {
     "data": {
      "text/latex": [
       "$0 < l$"
      ],
      "text/plain": [
       "0 < l"
      ]
     },
     "execution_count": 8,
     "metadata": {},
     "output_type": "execute_result"
    }
   ],
   "source": [
    "lLowerBoundTight = lLowerBoundLoose.unfold(assumptions).deriveLeftIfNotRight()\n",
    "lLowerBoundTight.deduceInBooleans(assumptions)\n",
    "lLowerBoundTight.proven({contradiction} | assumptions)"
   ]
  },
  {
   "cell_type": "code",
   "execution_count": 9,
   "metadata": {
    "collapsed": false
   },
   "outputs": [
    {
     "data": {
      "text/latex": [
       "$l \\in \\left(0,1\\right)$"
      ],
      "text/plain": [
       "l in (0,1)"
      ]
     },
     "execution_count": 9,
     "metadata": {},
     "output_type": "execute_result"
    }
   ],
   "source": [
    "deduceInReals(l, {contradiction} | assumptions)\n",
    "deduceInReals(zero)\n",
    "deduceInReals(one)\n",
    "In(l, IntervalOO(zero, one)).concludeAsFolded().proven({contradiction} | assumptions)"
   ]
  },
  {
   "cell_type": "code",
   "execution_count": 10,
   "metadata": {
    "collapsed": false
   },
   "outputs": [
    {
     "data": {
      "text/latex": [
       "$l \\notin \\mathbb{Z}$"
      ],
      "text/plain": [
       "l not in Integers"
      ]
     },
     "execution_count": 10,
     "metadata": {},
     "output_type": "execute_result"
    }
   ],
   "source": [
    "deduceInIntegers(zero)\n",
    "lNotInt = zeroAddOne.rhsSubstitute(betweenSuccessiveInts_notInt.specialize({n:zero, x:l})).specialize()\n",
    "lNotInt.proven({contradiction} | assumptions)"
   ]
  },
  {
   "cell_type": "code",
   "execution_count": 11,
   "metadata": {
    "collapsed": false
   },
   "outputs": [
    {
     "data": {
      "text/latex": [
       "$\\mathtt{FALSE}$"
      ],
      "text/plain": [
       "FALSE"
      ]
     },
     "execution_count": 11,
     "metadata": {},
     "output_type": "execute_result"
    }
   ],
   "source": [
    "lNotInt.unfold().deriveContradiction().conclusion.proven({contradiction} | assumptions)"
   ]
  },
  {
   "cell_type": "code",
   "execution_count": 12,
   "metadata": {
    "collapsed": false
   },
   "outputs": [
    {
     "data": {
      "text/latex": [
       "$\\left(2^{t} \\cdot \\delta\\right) \\neq l$"
      ],
      "text/plain": [
       "(2^(t) * delta) != l"
      ]
     },
     "execution_count": 12,
     "metadata": {},
     "output_type": "execute_result"
    }
   ],
   "source": [
    "contradiction.deduceInBool()\n",
    "ineq = Implies(contradiction, FALSE).deriveViaContradiction().deriveNotEquals().proven(assumptions)\n",
    "ineq"
   ]
  },
  {
   "cell_type": "code",
   "execution_count": 13,
   "metadata": {
    "collapsed": false
   },
   "outputs": [
    {
     "data": {
      "text/latex": [
       "$\\forall_{l \\in \\mathbb{Z}~|~l \\neq 0} \\left(\\left(2^{t} \\cdot \\delta\\right) \\neq l\\right)$"
      ],
      "text/plain": [
       "forall_{l in Integers | l != 0} ((2^(t) * delta) != l)"
      ]
     },
     "execution_count": 13,
     "metadata": {},
     "output_type": "execute_result"
    }
   ],
   "source": [
    "ineq.generalize(l, domain=Integers, conditions=[NotEquals(l, zero)]).proven()"
   ]
  },
  {
   "cell_type": "code",
   "execution_count": null,
   "metadata": {
    "collapsed": true
   },
   "outputs": [],
   "source": []
  }
 ],
 "metadata": {
  "kernelspec": {
   "display_name": "Python 2",
   "language": "python",
   "name": "python2"
  },
  "language_info": {
   "codemirror_mode": {
    "name": "ipython",
    "version": 2
   },
   "file_extension": ".py",
   "mimetype": "text/x-python",
   "name": "python",
   "nbconvert_exporter": "python",
   "pygments_lexer": "ipython2",
   "version": "2.7.10"
  }
 },
 "nbformat": 4,
 "nbformat_minor": 0
}
