{
 "cells": [
  {
   "cell_type": "code",
   "execution_count": 1,
   "metadata": {
    "collapsed": true
   },
   "outputs": [],
   "source": [
    "from proveit.basiclogic import In\n",
    "from proveit.number import Neg\n",
    "from proveit.number.common import one\n",
    "from proveit.common import eps\n",
    "from proveit.physics.quantum.QPE.common import l, fullDomain, negDomain, two_pow_t_minus_one\n",
    "from proveit.physics.quantum.QPE.theorems import two_pow_tMinusOne_in_posnats\n",
    "from proveit.number.numberSets import NaturalsPos, deducePositive, deduceNegative, deduceInIntegers\n",
    "from IPython.display import display"
   ]
  },
  {
   "cell_type": "code",
   "execution_count": 2,
   "metadata": {
    "collapsed": false
   },
   "outputs": [
    {
     "data": {
      "text/latex": [
       "$\\varepsilon \\in \\mathbb{N}^+$"
      ],
      "text/plain": [
       "eps in NaturalsPos"
      ]
     },
     "metadata": {},
     "output_type": "display_data"
    },
    {
     "data": {
      "text/latex": [
       "$l \\in \\{\\left(\\left(-2^{t - 1}\\right) + 1\\right)\\ldots \\left(-\\left(\\varepsilon + 1\\right)\\right)\\}$"
      ],
      "text/plain": [
       "l in \\{((-2^(t - 1)) + 1)...(-(eps + 1))\\}"
      ]
     },
     "metadata": {},
     "output_type": "display_data"
    }
   ],
   "source": [
    "epsInNaturalsPos = In(eps, NaturalsPos)\n",
    "lInNegDomain = In(l, negDomain)\n",
    "assumptions = {epsInNaturalsPos, lInNegDomain}\n",
    "display(epsInNaturalsPos)\n",
    "display(lInNegDomain)"
   ]
  },
  {
   "cell_type": "code",
   "execution_count": 3,
   "metadata": {
    "collapsed": false
   },
   "outputs": [
    {
     "data": {
      "text/latex": [
       "$\\{\\left(-2^{t - 1}\\right) + 1\\ldots 2^{t - 1}\\}$"
      ],
      "text/plain": [
       "\\{(-2^(t - 1)) + 1...2^(t - 1)\\}"
      ]
     },
     "execution_count": 3,
     "metadata": {},
     "output_type": "execute_result"
    }
   ],
   "source": [
    "fullDomain"
   ]
  },
  {
   "cell_type": "code",
   "execution_count": 4,
   "metadata": {
    "collapsed": false
   },
   "outputs": [
    {
     "data": {
      "text/latex": [
       "$\\left(\\left(-2^{t - 1}\\right) + 1\\right) \\leq l$"
      ],
      "text/plain": [
       "((-2^(t - 1)) + 1) <= l"
      ]
     },
     "execution_count": 4,
     "metadata": {},
     "output_type": "execute_result"
    }
   ],
   "source": [
    "negDomain.deduceMemberLowerBound(l, assumptions).proven(assumptions)"
   ]
  },
  {
   "cell_type": "code",
   "execution_count": 5,
   "metadata": {
    "collapsed": false
   },
   "outputs": [
    {
     "data": {
      "text/latex": [
       "$l \\in \\mathbb{Z}$"
      ],
      "text/plain": [
       "l in Integers"
      ]
     },
     "metadata": {},
     "output_type": "display_data"
    },
    {
     "data": {
      "text/latex": [
       "$l < 0$"
      ],
      "text/plain": [
       "l < 0"
      ]
     },
     "metadata": {},
     "output_type": "display_data"
    }
   ],
   "source": [
    "lInInts = negDomain.deduceMemberInIntegers(l, assumptions)\n",
    "display(lInInts)\n",
    "lIsNeg = negDomain.deduceMemberIsNegative(l, assumptions)\n",
    "display(lIsNeg)"
   ]
  },
  {
   "cell_type": "code",
   "execution_count": 6,
   "metadata": {
    "collapsed": false
   },
   "outputs": [
    {
     "data": {
      "text/latex": [
       "$l \\leq 2^{t - 1}$"
      ],
      "text/plain": [
       "l <= 2^(t - 1)"
      ]
     },
     "execution_count": 6,
     "metadata": {},
     "output_type": "execute_result"
    }
   ],
   "source": [
    "deducePositive(fullDomain.upperBound, assumptions).applyTransitivity(lIsNeg).deriveReversed().deriveRelaxed(assumptions).proven(assumptions)"
   ]
  },
  {
   "cell_type": "code",
   "execution_count": 7,
   "metadata": {
    "collapsed": false
   },
   "outputs": [
    {
     "data": {
      "text/latex": [
       "$\\forall_{\\varepsilon \\in \\mathbb{N}^+} \\left[\\forall_{l \\in \\{\\left(\\left(-2^{t - 1}\\right) + 1\\right)\\ldots \\left(-\\left(\\varepsilon + 1\\right)\\right)\\}} \\left(l \\in \\{\\left(\\left(-2^{t - 1}\\right) + 1\\right)\\ldots 2^{t - 1}\\}\\right)\\right]$"
      ],
      "text/plain": [
       "forall_{eps in NaturalsPos} [forall_{l in \\{((-2^(t - 1)) + 1)...(-(eps + 1))\\}} (l in \\{((-2^(t - 1)) + 1)...2^(t - 1)\\})]"
      ]
     },
     "execution_count": 7,
     "metadata": {},
     "output_type": "execute_result"
    }
   ],
   "source": [
    "deduceInIntegers(fullDomain.lowerBound, assumptions)\n",
    "deduceInIntegers(fullDomain.upperBound, assumptions)\n",
    "negDomain.deduceMemberInIntegers(l, assumptions).proven(assumptions)\n",
    "In(l, fullDomain).concludeAsFolded().generalize(l, domain=negDomain).generalize(eps, domain=NaturalsPos).proven()"
   ]
  },
  {
   "cell_type": "code",
   "execution_count": null,
   "metadata": {
    "collapsed": true
   },
   "outputs": [],
   "source": []
  }
 ],
 "metadata": {
  "kernelspec": {
   "display_name": "Python 2",
   "language": "python",
   "name": "python2"
  },
  "language_info": {
   "codemirror_mode": {
    "name": "ipython",
    "version": 2
   },
   "file_extension": ".py",
   "mimetype": "text/x-python",
   "name": "python",
   "nbconvert_exporter": "python",
   "pygments_lexer": "ipython2",
   "version": "2.7.10"
  }
 },
 "nbformat": 4,
 "nbformat_minor": 0
}
