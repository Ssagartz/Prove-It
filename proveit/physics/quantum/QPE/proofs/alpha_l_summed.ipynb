{
 "cells": [
  {
   "cell_type": "code",
   "execution_count": null,
   "metadata": {
    "collapsed": false
   },
   "outputs": [],
   "source": [
    "from proveit.basiclogic import autoSubstitute, autoSubstitution, In, Equation, extractSubExpr\n",
    "from proveit.common import a, b, k, l, r, x\n",
    "from proveit.number import Exponentiate, Add, Subtract, Multiply, Summation\n",
    "from proveit.number.common import Complexes, Integers, one, two, pi, i, e\n",
    "from proveit.physics.quantum.QPE.axioms import phaseInReals, tInNats, modAddDef\n",
    "from proveit.physics.quantum.QPE.theorems import alpha_l_eval, bestInInts, phaseFromBest\n",
    "from proveit.physics.quantum.QPE.common import t_, b_, two_pow_t, phase_, delta_\n",
    "from proveit.physics.quantum.QPE.phaseEstOps import ModAdd\n",
    "from proveit.trigonometry.theorems import exp_neg2pi_i_x\n",
    "from proveit.number.complex.theorems import powOfProd"
   ]
  },
  {
   "cell_type": "code",
   "execution_count": null,
   "metadata": {
    "collapsed": false
   },
   "outputs": [],
   "source": [
    "alpha_l_eq1 = alpha_l_eval.specialize()\n",
    "alpha_l_eq1"
   ]
  },
  {
   "cell_type": "code",
   "execution_count": null,
   "metadata": {
    "collapsed": false
   },
   "outputs": [],
   "source": [
    "alpha_l_summation = alpha_l_eq1.rhs.operands[1]\n",
    "alpha_l_summation"
   ]
  },
  {
   "cell_type": "code",
   "execution_count": null,
   "metadata": {
    "collapsed": false
   },
   "outputs": [],
   "source": [
    "kDomain = alpha_l_summation.domain\n",
    "kDomain"
   ]
  },
  {
   "cell_type": "code",
   "execution_count": null,
   "metadata": {
    "collapsed": false
   },
   "outputs": [],
   "source": [
    "assumptions = {In(k, kDomain), In(l, Integers), In(Exponentiate(two, Subtract(t_, one)), Integers)}\n",
    "kDomain.deduceMemberInIntegers(k, assumptions=assumptions).proven(assumptions)"
   ]
  },
  {
   "cell_type": "code",
   "execution_count": null,
   "metadata": {
    "collapsed": true
   },
   "outputs": [],
   "source": [
    "equation = Equation()"
   ]
  },
  {
   "cell_type": "code",
   "execution_count": null,
   "metadata": {
    "collapsed": false
   },
   "outputs": [],
   "source": [
    "equation.update(autoSubstitution(alpha_l_summation.instanceExpr, 'raiseExpFactor', [k], \n",
    "                                 {'assumptions':assumptions}, subExprClass=Exponentiate,\n",
    "                                 suppressWarnings=True)).proven(assumptions)"
   ]
  },
  {
   "cell_type": "code",
   "execution_count": null,
   "metadata": {
    "collapsed": false
   },
   "outputs": [],
   "source": [
    "equation.update(autoSubstitution(equation.eqExpr.rhs, 'raiseExpFactor', [k], {'assumptions':assumptions}, \n",
    "                        subExprClass=Exponentiate, suppressWarnings=True)).proven(assumptions)"
   ]
  },
  {
   "cell_type": "code",
   "execution_count": null,
   "metadata": {
    "collapsed": false
   },
   "outputs": [],
   "source": [
    "modAddDefSpec = modAddDef.specialize({a:b_, b:l})\n",
    "modAddDefSpec"
   ]
  },
  {
   "cell_type": "code",
   "execution_count": null,
   "metadata": {
    "collapsed": false
   },
   "outputs": [],
   "source": [
    "equation.update(modAddDefSpec.substitution(equation.eqExpr.rhs)).proven(assumptions)"
   ]
  },
  {
   "cell_type": "code",
   "execution_count": null,
   "metadata": {
    "collapsed": false
   },
   "outputs": [],
   "source": [
    "Add(b_, l).deduceInReals(assumptions)\n",
    "two_pow_t.deduceInReals()\n",
    "exp_neg2pi_i_x_spec = exp_neg2pi_i_x.specialize({x:Add(b_, l), r:two_pow_t}).proven(assumptions)\n",
    "exp_neg2pi_i_x_spec"
   ]
  },
  {
   "cell_type": "code",
   "execution_count": null,
   "metadata": {
    "collapsed": false
   },
   "outputs": [],
   "source": [
    "equation.update(exp_neg2pi_i_x_spec.substitution(equation.eqExpr.rhs)).proven(assumptions)"
   ]
  },
  {
   "cell_type": "code",
   "execution_count": null,
   "metadata": {
    "collapsed": false
   },
   "outputs": [],
   "source": [
    "equation.update(equation.eqExpr.rhs.combineExponents(assumptions)).proven(assumptions)"
   ]
  },
  {
   "cell_type": "code",
   "execution_count": null,
   "metadata": {
    "collapsed": false
   },
   "outputs": [],
   "source": [
    "equation.update(autoSubstitution(equation.eqExpr.rhs, 'commute', [], {'assumptions':assumptions}, subExprClass=Multiply)).proven(assumptions)"
   ]
  },
  {
   "cell_type": "code",
   "execution_count": null,
   "metadata": {
    "collapsed": false
   },
   "outputs": [],
   "source": [
    "equation.update(autoSubstitution(equation.eqExpr.rhs, 'combineExponents', [], {'assumptions':assumptions}, subExprClass=Multiply)).proven(assumptions)"
   ]
  },
  {
   "cell_type": "code",
   "execution_count": null,
   "metadata": {
    "collapsed": false
   },
   "outputs": [],
   "source": [
    "equation.eqExpr.rhs.base.exponent.factor(Multiply(two, pi, i), assumptions=assumptions)"
   ]
  },
  {
   "cell_type": "code",
   "execution_count": null,
   "metadata": {
    "collapsed": false
   },
   "outputs": [],
   "source": [
    "equation.update(autoSubstitution(equation.eqExpr.rhs, 'factor', [Multiply(two, pi, i)], {'assumptions':assumptions}, subExprClass=Subtract)).proven(assumptions)"
   ]
  },
  {
   "cell_type": "code",
   "execution_count": null,
   "metadata": {
    "collapsed": false
   },
   "outputs": [],
   "source": [
    "equivalenceForallInstances = equation.eqExpr.generalize(k, domain=kDomain).proven(assumptions)\n",
    "equivalenceForallInstances"
   ]
  },
  {
   "cell_type": "code",
   "execution_count": null,
   "metadata": {
    "collapsed": false
   },
   "outputs": [],
   "source": [
    "summationEquivalence = alpha_l_summation.instanceSubstitution(equivalenceForallInstances).proven(assumptions)\n",
    "summationEquivalence"
   ]
  },
  {
   "cell_type": "code",
   "execution_count": null,
   "metadata": {
    "collapsed": false
   },
   "outputs": [],
   "source": [
    "alpha_l_eq2 = summationEquivalence.rhsSubstitute(alpha_l_eq1).proven(assumptions)\n",
    "alpha_l_eq2"
   ]
  },
  {
   "cell_type": "code",
   "execution_count": null,
   "metadata": {
    "collapsed": false
   },
   "outputs": [],
   "source": [
    "alpha_l_eq3 = phaseFromBest.rhsSubstitute(alpha_l_eq2).proven(assumptions)\n",
    "alpha_l_eq3"
   ]
  },
  {
   "cell_type": "code",
   "execution_count": null,
   "metadata": {
    "collapsed": false
   },
   "outputs": [],
   "source": [
    "extractSubExpr(alpha_l_eq3, subExprClass=Summation)"
   ]
  },
  {
   "cell_type": "code",
   "execution_count": null,
   "metadata": {
    "collapsed": false
   },
   "outputs": [],
   "source": [
    "termPhase = extractSubExpr(extractSubExpr(alpha_l_eq3, subExprClass=Summation).summand, subExprClass=Subtract)\n",
    "termPhase"
   ]
  },
  {
   "cell_type": "code",
   "execution_count": 24,
   "metadata": {
    "collapsed": false
   },
   "outputs": [
    {
     "data": {
      "text/latex": [
       "$\\left(\\left(\\frac{b}{2^{t}} + \\delta\\right) - \\frac{b + l}{2^{t}}\\right) = \\left(\\left(\\frac{b}{2^{t}} + \\delta\\right) - \\left(\\frac{b}{2^{t}} + \\frac{l}{2^{t}}\\right)\\right)$"
      ],
      "text/plain": [
       "((b / 2^(t) + delta) - (b + l) / 2^(t)) = ((b / 2^(t) + delta) - (b / 2^(t) + l / 2^(t)))"
      ]
     },
     "execution_count": 24,
     "metadata": {},
     "output_type": "execute_result"
    }
   ],
   "source": [
    "termPhase2 = termPhase.operands[1].distribute(assumptions=assumptions).substitution(termPhase)\n",
    "termPhase2"
   ]
  },
  {
   "cell_type": "code",
   "execution_count": 31,
   "metadata": {
    "collapsed": false
   },
   "outputs": [
    {
     "ename": "Exception",
     "evalue": "b / 2^(t) not found in b / 2^(t) + l / 2^(t) for a subtraction cancel",
     "output_type": "error",
     "traceback": [
      "\u001b[0;31m---------------------------------------------------------------------------\u001b[0m",
      "\u001b[0;31mException\u001b[0m                                 Traceback (most recent call last)",
      "\u001b[0;32m<ipython-input-31-7aa89fc8c0e8>\u001b[0m in \u001b[0;36m<module>\u001b[0;34m()\u001b[0m\n\u001b[0;32m----> 1\u001b[0;31m \u001b[0mtermPhase2\u001b[0m\u001b[0;34m.\u001b[0m\u001b[0mrhs\u001b[0m\u001b[0;34m.\u001b[0m\u001b[0mcancel\u001b[0m\u001b[0;34m(\u001b[0m\u001b[0;36m0\u001b[0m\u001b[0;34m,\u001b[0m \u001b[0massumptions\u001b[0m\u001b[0;34m=\u001b[0m \u001b[0massumptions\u001b[0m\u001b[0;34m.\u001b[0m\u001b[0munion\u001b[0m\u001b[0;34m(\u001b[0m\u001b[0;34m{\u001b[0m\u001b[0mIn\u001b[0m\u001b[0;34m(\u001b[0m\u001b[0mdelta_\u001b[0m\u001b[0;34m,\u001b[0m \u001b[0mComplexes\u001b[0m\u001b[0;34m)\u001b[0m\u001b[0;34m}\u001b[0m\u001b[0;34m)\u001b[0m\u001b[0;34m)\u001b[0m\u001b[0;34m\u001b[0m\u001b[0m\n\u001b[0m",
      "\u001b[0;32m/Users/wwitzel/proveit/proveit/number/arithmeticOps.py\u001b[0m in \u001b[0;36mcancel\u001b[0;34m(self, idxInFirstSum, assumptions)\u001b[0m\n\u001b[1;32m    470\u001b[0m                     \u001b[0midx2\u001b[0m \u001b[0;34m=\u001b[0m \u001b[0mself\u001b[0m\u001b[0;34m.\u001b[0m\u001b[0moperands\u001b[0m\u001b[0;34m[\u001b[0m\u001b[0;36m1\u001b[0m\u001b[0;34m]\u001b[0m\u001b[0;34m.\u001b[0m\u001b[0mindex\u001b[0m\u001b[0;34m(\u001b[0m\u001b[0mwSub\u001b[0m\u001b[0;34m)\u001b[0m\u001b[0;34m\u001b[0m\u001b[0m\n\u001b[1;32m    471\u001b[0m                 \u001b[0;32mexcept\u001b[0m\u001b[0;34m:\u001b[0m\u001b[0;34m\u001b[0m\u001b[0m\n\u001b[0;32m--> 472\u001b[0;31m                     \u001b[0;32mraise\u001b[0m \u001b[0mException\u001b[0m\u001b[0;34m(\u001b[0m\u001b[0mstr\u001b[0m\u001b[0;34m(\u001b[0m\u001b[0mwSub\u001b[0m\u001b[0;34m)\u001b[0m \u001b[0;34m+\u001b[0m \u001b[0;34m\" not found in \"\u001b[0m \u001b[0;34m+\u001b[0m \u001b[0mstr\u001b[0m\u001b[0;34m(\u001b[0m\u001b[0mself\u001b[0m\u001b[0;34m.\u001b[0m\u001b[0moperands\u001b[0m\u001b[0;34m[\u001b[0m\u001b[0;36m1\u001b[0m\u001b[0;34m]\u001b[0m\u001b[0;34m)\u001b[0m \u001b[0;34m+\u001b[0m \u001b[0;34m\" for a subtraction cancel\"\u001b[0m\u001b[0;34m)\u001b[0m\u001b[0;34m\u001b[0m\u001b[0m\n\u001b[0m\u001b[1;32m    473\u001b[0m                 \u001b[0mvSub\u001b[0m \u001b[0;34m=\u001b[0m \u001b[0mself\u001b[0m\u001b[0;34m.\u001b[0m\u001b[0moperands\u001b[0m\u001b[0;34m[\u001b[0m\u001b[0;36m0\u001b[0m\u001b[0;34m]\u001b[0m\u001b[0;34m.\u001b[0m\u001b[0moperands\u001b[0m\u001b[0;34m[\u001b[0m\u001b[0;34m:\u001b[0m\u001b[0midx1\u001b[0m\u001b[0;34m]\u001b[0m\u001b[0;34m\u001b[0m\u001b[0m\n\u001b[1;32m    474\u001b[0m                 \u001b[0mxSub\u001b[0m \u001b[0;34m=\u001b[0m \u001b[0mself\u001b[0m\u001b[0;34m.\u001b[0m\u001b[0moperands\u001b[0m\u001b[0;34m[\u001b[0m\u001b[0;36m0\u001b[0m\u001b[0;34m]\u001b[0m\u001b[0;34m.\u001b[0m\u001b[0moperands\u001b[0m\u001b[0;34m[\u001b[0m\u001b[0midx1\u001b[0m\u001b[0;34m+\u001b[0m\u001b[0;36m1\u001b[0m\u001b[0;34m:\u001b[0m\u001b[0;34m]\u001b[0m\u001b[0;34m\u001b[0m\u001b[0m\n",
      "\u001b[0;31mException\u001b[0m: b / 2^(t) not found in b / 2^(t) + l / 2^(t) for a subtraction cancel"
     ]
    }
   ],
   "source": [
    "termPhase2.rhs.cancel(0, assumptions= assumptions.union({In(delta_, Complexes)}))"
   ]
  },
  {
   "cell_type": "code",
   "execution_count": 41,
   "metadata": {
    "collapsed": false
   },
   "outputs": [
    {
     "data": {
      "text/latex": [
       "$\\frac{b}{2^{t}} + \\frac{l}{2^{t}}$"
      ],
      "text/plain": [
       "b / 2^(t) + l / 2^(t)"
      ]
     },
     "execution_count": 41,
     "metadata": {},
     "output_type": "execute_result"
    }
   ],
   "source": [
    "termPhase2.rhs.operands[1]."
   ]
  },
  {
   "cell_type": "code",
   "execution_count": null,
   "metadata": {
    "collapsed": true
   },
   "outputs": [],
   "source": [
    "alpha_l_new_summation = alpha_l_new.rhs.operands[1]"
   ]
  },
  {
   "cell_type": "code",
   "execution_count": null,
   "metadata": {
    "collapsed": false
   },
   "outputs": [],
   "source": [
    "alpha_l_new_summation.reduceGeomSum()"
   ]
  },
  {
   "cell_type": "code",
   "execution_count": null,
   "metadata": {
    "collapsed": false
   },
   "outputs": [],
   "source": [
    "from proveit.number.theorems import infGeomSum, finGeomSum\n",
    "finGeomSum"
   ]
  },
  {
   "cell_type": "code",
   "execution_count": null,
   "metadata": {
    "collapsed": true
   },
   "outputs": [],
   "source": []
  }
 ],
 "metadata": {
  "kernelspec": {
   "display_name": "Python 2",
   "language": "python",
   "name": "python2"
  },
  "language_info": {
   "codemirror_mode": {
    "name": "ipython",
    "version": 2
   },
   "file_extension": ".py",
   "mimetype": "text/x-python",
   "name": "python",
   "nbconvert_exporter": "python",
   "pygments_lexer": "ipython2",
   "version": "2.7.10"
  }
 },
 "nbformat": 4,
 "nbformat_minor": 0
}
