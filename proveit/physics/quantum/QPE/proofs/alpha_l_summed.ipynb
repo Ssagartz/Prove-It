{
 "cells": [
  {
   "cell_type": "code",
   "execution_count": 1,
   "metadata": {
    "collapsed": false
   },
   "outputs": [],
   "source": [
    "from proveit.basiclogic import autoSubstitute, autoSubstitution, In, Equation, extractSubExpr\n",
    "from proveit.common import a, b, k, l, r, x\n",
    "from proveit.number import Exponentiate, Add, Subtract, Multiply, Summation\n",
    "from proveit.number.numberSets import deducePositive, deduceInComplexes\n",
    "from proveit.number.common import Complexes, Integers, one, two, pi, i, e\n",
    "from proveit.physics.quantum.QPE.axioms import tInNaturalsPos, modAddDef\n",
    "from proveit.physics.quantum.QPE.theorems import two_pow_t__less__one__in_posnats, phaseInReals, deltaInReals\n",
    "from proveit.physics.quantum.QPE.theorems import alpha_l_eval, bestInInts, phaseFromBest, two_pow_t__less__one__in_posnats\n",
    "from proveit.physics.quantum.QPE.common import t_, b_, two_pow_t, phase_, delta_\n",
    "from proveit.physics.quantum.QPE.phaseEstOps import ModAdd\n",
    "from proveit.trigonometry.theorems import exp_neg2pi_i_x\n",
    "from proveit.number.complex.theorems import powOfProd"
   ]
  },
  {
   "cell_type": "code",
   "execution_count": 2,
   "metadata": {
    "collapsed": false
   },
   "outputs": [
    {
     "data": {
      "text/latex": [
       "$\\alpha_{l} = \\left(\\frac{1}{2^{t}} \\cdot \\left(\\sum_{k=0}^{2^{t} - 1} \\left(e^{\\frac{-\\left(2 \\cdot \\pi \\cdot i \\cdot k \\cdot \\left(b \\oplus l\\right)\\right)}{2^{t}}} \\cdot e^{2 \\cdot \\pi \\cdot i \\cdot \\varphi \\cdot k}\\right)\\right)\\right)$"
      ],
      "text/plain": [
       "alpha_{l} = (1 / 2^(t) * (Summation_{k=0}^{2^(t) - 1} (e^((-(2 * pi * i * k * (b MOD_ADD l))) / 2^(t)) * e^(2 * pi * i * phase * k))))"
      ]
     },
     "execution_count": 2,
     "metadata": {},
     "output_type": "execute_result"
    }
   ],
   "source": [
    "alpha_l_eq1 = alpha_l_eval.specialize()\n",
    "alpha_l_eq1"
   ]
  },
  {
   "cell_type": "code",
   "execution_count": 3,
   "metadata": {
    "collapsed": false
   },
   "outputs": [
    {
     "data": {
      "text/latex": [
       "$\\sum_{k=0}^{2^{t} - 1} e^{\\frac{-\\left(2 \\cdot \\pi \\cdot i \\cdot k \\cdot \\left(b \\oplus l\\right)\\right)}{2^{t}}} \\cdot e^{2 \\cdot \\pi \\cdot i \\cdot \\varphi \\cdot k}$"
      ],
      "text/plain": [
       "Summation_{k=0}^{2^(t) - 1} e^((-(2 * pi * i * k * (b MOD_ADD l))) / 2^(t)) * e^(2 * pi * i * phase * k)"
      ]
     },
     "execution_count": 3,
     "metadata": {},
     "output_type": "execute_result"
    }
   ],
   "source": [
    "alpha_l_summation = alpha_l_eq1.rhs.operands[1]\n",
    "alpha_l_summation"
   ]
  },
  {
   "cell_type": "code",
   "execution_count": 4,
   "metadata": {
    "collapsed": false
   },
   "outputs": [
    {
     "data": {
      "text/latex": [
       "$\\{0\\ldots 2^{t} - 1\\}$"
      ],
      "text/plain": [
       "\\{0...2^(t) - 1\\}"
      ]
     },
     "execution_count": 4,
     "metadata": {},
     "output_type": "execute_result"
    }
   ],
   "source": [
    "kDomain = alpha_l_summation.domain\n",
    "kDomain"
   ]
  },
  {
   "cell_type": "code",
   "execution_count": 5,
   "metadata": {
    "collapsed": false
   },
   "outputs": [
    {
     "data": {
      "text/latex": [
       "$k \\in \\mathbb{Z}$"
      ],
      "text/plain": [
       "k in Integers"
      ]
     },
     "execution_count": 5,
     "metadata": {},
     "output_type": "execute_result"
    }
   ],
   "source": [
    "assumptions = {In(k, kDomain), In(l, Integers)}\n",
    "kDomain.deduceMemberInIntegers(k, assumptions=assumptions).proven(assumptions)"
   ]
  },
  {
   "cell_type": "code",
   "execution_count": 6,
   "metadata": {
    "collapsed": true
   },
   "outputs": [],
   "source": [
    "equation = Equation()"
   ]
  },
  {
   "cell_type": "code",
   "execution_count": 7,
   "metadata": {
    "collapsed": false
   },
   "outputs": [
    {
     "data": {
      "text/latex": [
       "$\\left(e^{\\frac{-\\left(2 \\cdot \\pi \\cdot i \\cdot k \\cdot \\left(b \\oplus l\\right)\\right)}{2^{t}}} \\cdot e^{2 \\cdot \\pi \\cdot i \\cdot \\varphi \\cdot k}\\right) = \\left(\\left(e^{\\frac{-\\left(2 \\cdot \\pi \\cdot i \\cdot \\left(b \\oplus l\\right)\\right)}{2^{t}}}\\right)^{k} \\cdot e^{2 \\cdot \\pi \\cdot i \\cdot \\varphi \\cdot k}\\right)$"
      ],
      "text/plain": [
       "(e^((-(2 * pi * i * k * (b MOD_ADD l))) / 2^(t)) * e^(2 * pi * i * phase * k)) = ((e^((-(2 * pi * i * (b MOD_ADD l))) / 2^(t)))^(k) * e^(2 * pi * i * phase * k))"
      ]
     },
     "execution_count": 7,
     "metadata": {},
     "output_type": "execute_result"
    }
   ],
   "source": [
    "equation.update(autoSubstitution(alpha_l_summation.instanceExpr, 'raiseExpFactor', [k], \n",
    "                                 {'assumptions':assumptions}, subExprClass=Exponentiate,\n",
    "                                 suppressWarnings=True)).proven(assumptions)"
   ]
  },
  {
   "cell_type": "code",
   "execution_count": 8,
   "metadata": {
    "collapsed": false
   },
   "outputs": [
    {
     "data": {
      "text/latex": [
       "$\\left(e^{\\frac{-\\left(2 \\cdot \\pi \\cdot i \\cdot k \\cdot \\left(b \\oplus l\\right)\\right)}{2^{t}}} \\cdot e^{2 \\cdot \\pi \\cdot i \\cdot \\varphi \\cdot k}\\right) = \\left(\\left(e^{\\frac{-\\left(2 \\cdot \\pi \\cdot i \\cdot \\left(b \\oplus l\\right)\\right)}{2^{t}}}\\right)^{k} \\cdot \\left(e^{2 \\cdot \\pi \\cdot i \\cdot \\varphi}\\right)^{k}\\right)$"
      ],
      "text/plain": [
       "(e^((-(2 * pi * i * k * (b MOD_ADD l))) / 2^(t)) * e^(2 * pi * i * phase * k)) = ((e^((-(2 * pi * i * (b MOD_ADD l))) / 2^(t)))^(k) * (e^(2 * pi * i * phase))^(k))"
      ]
     },
     "execution_count": 8,
     "metadata": {},
     "output_type": "execute_result"
    }
   ],
   "source": [
    "equation.update(autoSubstitution(equation.eqExpr.rhs, 'raiseExpFactor', [k], {'assumptions':assumptions}, \n",
    "                        subExprClass=Exponentiate, suppressWarnings=True)).proven(assumptions)"
   ]
  },
  {
   "cell_type": "code",
   "execution_count": 9,
   "metadata": {
    "collapsed": false
   },
   "outputs": [
    {
     "data": {
      "text/latex": [
       "$\\left(b \\oplus l\\right) = \\left(\\left(b + l\\right) ~\\rm{mod}~ 2^{t}\\right)$"
      ],
      "text/plain": [
       "(b MOD_ADD l) = ((b + l) mod 2^(t))"
      ]
     },
     "execution_count": 9,
     "metadata": {},
     "output_type": "execute_result"
    }
   ],
   "source": [
    "modAddDefSpec = modAddDef.specialize({a:b_, b:l})\n",
    "modAddDefSpec"
   ]
  },
  {
   "cell_type": "code",
   "execution_count": 10,
   "metadata": {
    "collapsed": false
   },
   "outputs": [
    {
     "data": {
      "text/latex": [
       "$\\left(e^{\\frac{-\\left(2 \\cdot \\pi \\cdot i \\cdot k \\cdot \\left(b \\oplus l\\right)\\right)}{2^{t}}} \\cdot e^{2 \\cdot \\pi \\cdot i \\cdot \\varphi \\cdot k}\\right) = \\left(\\left(e^{\\frac{-\\left(2 \\cdot \\pi \\cdot i \\cdot \\left(\\left(b + l\\right) ~\\rm{mod}~ 2^{t}\\right)\\right)}{2^{t}}}\\right)^{k} \\cdot \\left(e^{2 \\cdot \\pi \\cdot i \\cdot \\varphi}\\right)^{k}\\right)$"
      ],
      "text/plain": [
       "(e^((-(2 * pi * i * k * (b MOD_ADD l))) / 2^(t)) * e^(2 * pi * i * phase * k)) = ((e^((-(2 * pi * i * ((b + l) mod 2^(t)))) / 2^(t)))^(k) * (e^(2 * pi * i * phase))^(k))"
      ]
     },
     "execution_count": 10,
     "metadata": {},
     "output_type": "execute_result"
    }
   ],
   "source": [
    "equation.update(modAddDefSpec.substitution(equation.eqExpr.rhs)).proven(assumptions)"
   ]
  },
  {
   "cell_type": "code",
   "execution_count": 11,
   "metadata": {
    "collapsed": false
   },
   "outputs": [
    {
     "data": {
      "text/latex": [
       "$e^{\\frac{-\\left(2 \\cdot \\pi \\cdot i \\cdot \\left(\\left(b + l\\right) ~\\rm{mod}~ 2^{t}\\right)\\right)}{2^{t}}} = e^{\\frac{-\\left(2 \\cdot \\pi \\cdot i \\cdot \\left(b + l\\right)\\right)}{2^{t}}}$"
      ],
      "text/plain": [
       "e^((-(2 * pi * i * ((b + l) mod 2^(t)))) / 2^(t)) = e^((-(2 * pi * i * (b + l))) / 2^(t))"
      ]
     },
     "execution_count": 11,
     "metadata": {},
     "output_type": "execute_result"
    }
   ],
   "source": [
    "Add(b_, l).deduceInReals(assumptions)\n",
    "two_pow_t.deduceInReals()\n",
    "exp_neg2pi_i_x_spec = exp_neg2pi_i_x.specialize({x:Add(b_, l), r:two_pow_t}).proven(assumptions)\n",
    "exp_neg2pi_i_x_spec"
   ]
  },
  {
   "cell_type": "code",
   "execution_count": 12,
   "metadata": {
    "collapsed": false
   },
   "outputs": [
    {
     "data": {
      "text/latex": [
       "$\\left(e^{\\frac{-\\left(2 \\cdot \\pi \\cdot i \\cdot k \\cdot \\left(b \\oplus l\\right)\\right)}{2^{t}}} \\cdot e^{2 \\cdot \\pi \\cdot i \\cdot \\varphi \\cdot k}\\right) = \\left(\\left(e^{\\frac{-\\left(2 \\cdot \\pi \\cdot i \\cdot \\left(b + l\\right)\\right)}{2^{t}}}\\right)^{k} \\cdot \\left(e^{2 \\cdot \\pi \\cdot i \\cdot \\varphi}\\right)^{k}\\right)$"
      ],
      "text/plain": [
       "(e^((-(2 * pi * i * k * (b MOD_ADD l))) / 2^(t)) * e^(2 * pi * i * phase * k)) = ((e^((-(2 * pi * i * (b + l))) / 2^(t)))^(k) * (e^(2 * pi * i * phase))^(k))"
      ]
     },
     "execution_count": 12,
     "metadata": {},
     "output_type": "execute_result"
    }
   ],
   "source": [
    "equation.update(exp_neg2pi_i_x_spec.substitution(equation.eqExpr.rhs)).proven(assumptions)"
   ]
  },
  {
   "cell_type": "code",
   "execution_count": 13,
   "metadata": {
    "collapsed": false
   },
   "outputs": [
    {
     "data": {
      "text/latex": [
       "$\\left(e^{\\frac{-\\left(2 \\cdot \\pi \\cdot i \\cdot k \\cdot \\left(b \\oplus l\\right)\\right)}{2^{t}}} \\cdot e^{2 \\cdot \\pi \\cdot i \\cdot \\varphi \\cdot k}\\right) = \\left(e^{\\frac{-\\left(2 \\cdot \\pi \\cdot i \\cdot \\left(b + l\\right)\\right)}{2^{t}}} \\cdot e^{2 \\cdot \\pi \\cdot i \\cdot \\varphi}\\right)^{k}$"
      ],
      "text/plain": [
       "(e^((-(2 * pi * i * k * (b MOD_ADD l))) / 2^(t)) * e^(2 * pi * i * phase * k)) = (e^((-(2 * pi * i * (b + l))) / 2^(t)) * e^(2 * pi * i * phase))^(k)"
      ]
     },
     "execution_count": 13,
     "metadata": {},
     "output_type": "execute_result"
    }
   ],
   "source": [
    "equation.update(equation.eqExpr.rhs.combineExponents(assumptions)).proven(assumptions)"
   ]
  },
  {
   "cell_type": "code",
   "execution_count": 14,
   "metadata": {
    "collapsed": false
   },
   "outputs": [
    {
     "data": {
      "text/latex": [
       "$\\left(e^{\\frac{-\\left(2 \\cdot \\pi \\cdot i \\cdot k \\cdot \\left(b \\oplus l\\right)\\right)}{2^{t}}} \\cdot e^{2 \\cdot \\pi \\cdot i \\cdot \\varphi \\cdot k}\\right) = \\left(e^{2 \\cdot \\pi \\cdot i \\cdot \\varphi} \\cdot e^{\\frac{-\\left(2 \\cdot \\pi \\cdot i \\cdot \\left(b + l\\right)\\right)}{2^{t}}}\\right)^{k}$"
      ],
      "text/plain": [
       "(e^((-(2 * pi * i * k * (b MOD_ADD l))) / 2^(t)) * e^(2 * pi * i * phase * k)) = (e^(2 * pi * i * phase) * e^((-(2 * pi * i * (b + l))) / 2^(t)))^(k)"
      ]
     },
     "execution_count": 14,
     "metadata": {},
     "output_type": "execute_result"
    }
   ],
   "source": [
    "equation.update(autoSubstitution(equation.eqExpr.rhs, 'commute', [], {'assumptions':assumptions}, subExprClass=Multiply)).proven(assumptions)"
   ]
  },
  {
   "cell_type": "code",
   "execution_count": 15,
   "metadata": {
    "collapsed": false
   },
   "outputs": [
    {
     "data": {
      "text/latex": [
       "$\\left(e^{\\frac{-\\left(2 \\cdot \\pi \\cdot i \\cdot k \\cdot \\left(b \\oplus l\\right)\\right)}{2^{t}}} \\cdot e^{2 \\cdot \\pi \\cdot i \\cdot \\varphi \\cdot k}\\right) = \\left(e^{\\left(2 \\cdot \\pi \\cdot i \\cdot \\varphi\\right) - \\frac{2 \\cdot \\pi \\cdot i \\cdot \\left(b + l\\right)}{2^{t}}}\\right)^{k}$"
      ],
      "text/plain": [
       "(e^((-(2 * pi * i * k * (b MOD_ADD l))) / 2^(t)) * e^(2 * pi * i * phase * k)) = (e^((2 * pi * i * phase) - (2 * pi * i * (b + l)) / 2^(t)))^(k)"
      ]
     },
     "execution_count": 15,
     "metadata": {},
     "output_type": "execute_result"
    }
   ],
   "source": [
    "equation.update(autoSubstitution(equation.eqExpr.rhs, 'combineExponents', [], {'assumptions':assumptions}, subExprClass=Multiply)).proven(assumptions)"
   ]
  },
  {
   "cell_type": "code",
   "execution_count": 16,
   "metadata": {
    "collapsed": false
   },
   "outputs": [
    {
     "data": {
      "text/latex": [
       "$\\left(\\left(2 \\cdot \\pi \\cdot i \\cdot \\varphi\\right) - \\frac{2 \\cdot \\pi \\cdot i \\cdot \\left(b + l\\right)}{2^{t}}\\right) = \\left(2 \\cdot \\pi \\cdot i \\cdot \\left(\\varphi - \\frac{b + l}{2^{t}}\\right)\\right)$"
      ],
      "text/plain": [
       "((2 * pi * i * phase) - (2 * pi * i * (b + l)) / 2^(t)) = (2 * pi * i * (phase - (b + l) / 2^(t)))"
      ]
     },
     "execution_count": 16,
     "metadata": {},
     "output_type": "execute_result"
    }
   ],
   "source": [
    "equation.eqExpr.rhs.base.exponent.factor(Multiply(two, pi, i), assumptions=assumptions)"
   ]
  },
  {
   "cell_type": "code",
   "execution_count": 17,
   "metadata": {
    "collapsed": false
   },
   "outputs": [
    {
     "data": {
      "text/latex": [
       "$\\left(e^{\\frac{-\\left(2 \\cdot \\pi \\cdot i \\cdot k \\cdot \\left(b \\oplus l\\right)\\right)}{2^{t}}} \\cdot e^{2 \\cdot \\pi \\cdot i \\cdot \\varphi \\cdot k}\\right) = \\left(e^{2 \\cdot \\pi \\cdot i \\cdot \\left(\\varphi - \\frac{b + l}{2^{t}}\\right)}\\right)^{k}$"
      ],
      "text/plain": [
       "(e^((-(2 * pi * i * k * (b MOD_ADD l))) / 2^(t)) * e^(2 * pi * i * phase * k)) = (e^(2 * pi * i * (phase - (b + l) / 2^(t))))^(k)"
      ]
     },
     "execution_count": 17,
     "metadata": {},
     "output_type": "execute_result"
    }
   ],
   "source": [
    "equation.update(autoSubstitution(equation.eqExpr.rhs, 'factor', [Multiply(two, pi, i)], {'assumptions':assumptions}, subExprClass=Subtract)).proven(assumptions)"
   ]
  },
  {
   "cell_type": "code",
   "execution_count": 18,
   "metadata": {
    "collapsed": false
   },
   "outputs": [
    {
     "data": {
      "text/latex": [
       "$\\forall_{k \\in \\{0\\ldots \\left(2^{t} - 1\\right)\\}} \\left(\\left(e^{\\frac{-\\left(2 \\cdot \\pi \\cdot i \\cdot k \\cdot \\left(b \\oplus l\\right)\\right)}{2^{t}}} \\cdot e^{2 \\cdot \\pi \\cdot i \\cdot \\varphi \\cdot k}\\right) = \\left(e^{2 \\cdot \\pi \\cdot i \\cdot \\left(\\varphi - \\frac{b + l}{2^{t}}\\right)}\\right)^{k}\\right)$"
      ],
      "text/plain": [
       "forall_{k in \\{0...(2^(t) - 1)\\}} ((e^((-(2 * pi * i * k * (b MOD_ADD l))) / 2^(t)) * e^(2 * pi * i * phase * k)) = (e^(2 * pi * i * (phase - (b + l) / 2^(t))))^(k))"
      ]
     },
     "execution_count": 18,
     "metadata": {},
     "output_type": "execute_result"
    }
   ],
   "source": [
    "equivalenceForallInstances = equation.eqExpr.generalize(k, domain=kDomain).proven(assumptions)\n",
    "equivalenceForallInstances"
   ]
  },
  {
   "cell_type": "code",
   "execution_count": 19,
   "metadata": {
    "collapsed": false
   },
   "outputs": [
    {
     "data": {
      "text/latex": [
       "$\\left(\\sum_{k=0}^{2^{t} - 1} \\left(e^{\\frac{-\\left(2 \\cdot \\pi \\cdot i \\cdot k \\cdot \\left(b \\oplus l\\right)\\right)}{2^{t}}} \\cdot e^{2 \\cdot \\pi \\cdot i \\cdot \\varphi \\cdot k}\\right)\\right) = \\left(\\sum_{k=0}^{2^{t} - 1} \\left(e^{2 \\cdot \\pi \\cdot i \\cdot \\left(\\varphi - \\frac{b + l}{2^{t}}\\right)}\\right)^{k}\\right)$"
      ],
      "text/plain": [
       "(Summation_{k=0}^{2^(t) - 1} (e^((-(2 * pi * i * k * (b MOD_ADD l))) / 2^(t)) * e^(2 * pi * i * phase * k))) = (Summation_{k=0}^{2^(t) - 1} (e^(2 * pi * i * (phase - (b + l) / 2^(t))))^(k))"
      ]
     },
     "execution_count": 19,
     "metadata": {},
     "output_type": "execute_result"
    }
   ],
   "source": [
    "summationEquivalence = alpha_l_summation.instanceSubstitution(equivalenceForallInstances).proven(assumptions)\n",
    "summationEquivalence"
   ]
  },
  {
   "cell_type": "code",
   "execution_count": 20,
   "metadata": {
    "collapsed": false
   },
   "outputs": [
    {
     "data": {
      "text/latex": [
       "$\\alpha_{l} = \\left(\\frac{1}{2^{t}} \\cdot \\left(\\sum_{k=0}^{2^{t} - 1} \\left(e^{2 \\cdot \\pi \\cdot i \\cdot \\left(\\varphi - \\frac{b + l}{2^{t}}\\right)}\\right)^{k}\\right)\\right)$"
      ],
      "text/plain": [
       "alpha_{l} = (1 / 2^(t) * (Summation_{k=0}^{2^(t) - 1} (e^(2 * pi * i * (phase - (b + l) / 2^(t))))^(k)))"
      ]
     },
     "execution_count": 20,
     "metadata": {},
     "output_type": "execute_result"
    }
   ],
   "source": [
    "alpha_l_eq2 = summationEquivalence.rhsSubstitute(alpha_l_eq1).proven(assumptions)\n",
    "alpha_l_eq2"
   ]
  },
  {
   "cell_type": "code",
   "execution_count": 21,
   "metadata": {
    "collapsed": false
   },
   "outputs": [
    {
     "data": {
      "text/latex": [
       "$\\alpha_{l} = \\left(\\frac{1}{2^{t}} \\cdot \\left(\\sum_{k=0}^{2^{t} - 1} \\left(e^{2 \\cdot \\pi \\cdot i \\cdot \\left(\\left(\\frac{b}{2^{t}} + \\delta\\right) - \\frac{b + l}{2^{t}}\\right)}\\right)^{k}\\right)\\right)$"
      ],
      "text/plain": [
       "alpha_{l} = (1 / 2^(t) * (Summation_{k=0}^{2^(t) - 1} (e^(2 * pi * i * ((b / 2^(t) + delta) - (b + l) / 2^(t))))^(k)))"
      ]
     },
     "execution_count": 21,
     "metadata": {},
     "output_type": "execute_result"
    }
   ],
   "source": [
    "alpha_l_eq3 = phaseFromBest.rhsSubstitute(alpha_l_eq2).proven(assumptions)\n",
    "alpha_l_eq3"
   ]
  },
  {
   "cell_type": "code",
   "execution_count": 22,
   "metadata": {
    "collapsed": false
   },
   "outputs": [
    {
     "data": {
      "text/latex": [
       "$\\sum_{k=0}^{2^{t} - 1} \\left(e^{2 \\cdot \\pi \\cdot i \\cdot \\left(\\left(\\frac{b}{2^{t}} + \\delta\\right) - \\frac{b + l}{2^{t}}\\right)}\\right)^{k}$"
      ],
      "text/plain": [
       "Summation_{k=0}^{2^(t) - 1} (e^(2 * pi * i * ((b / 2^(t) + delta) - (b + l) / 2^(t))))^(k)"
      ]
     },
     "execution_count": 22,
     "metadata": {},
     "output_type": "execute_result"
    }
   ],
   "source": [
    "extractSubExpr(alpha_l_eq3, subExprClass=Summation)"
   ]
  },
  {
   "cell_type": "code",
   "execution_count": 23,
   "metadata": {
    "collapsed": false
   },
   "outputs": [
    {
     "data": {
      "text/latex": [
       "$\\left(\\frac{b}{2^{t}} + \\delta\\right) - \\frac{b + l}{2^{t}}$"
      ],
      "text/plain": [
       "(b / 2^(t) + delta) - (b + l) / 2^(t)"
      ]
     },
     "execution_count": 23,
     "metadata": {},
     "output_type": "execute_result"
    }
   ],
   "source": [
    "phase1 = extractSubExpr(extractSubExpr(alpha_l_eq3, subExprClass=Summation).summand, subExprClass=Subtract)\n",
    "phase1"
   ]
  },
  {
   "cell_type": "code",
   "execution_count": 24,
   "metadata": {
    "collapsed": false
   },
   "outputs": [
    {
     "data": {
      "text/latex": [
       "$\\left(\\left(\\frac{b}{2^{t}} + \\delta\\right) - \\frac{b + l}{2^{t}}\\right) = \\left(\\left(\\frac{b}{2^{t}} + \\delta\\right) - \\left(\\frac{b}{2^{t}} + \\frac{l}{2^{t}}\\right)\\right)$"
      ],
      "text/plain": [
       "((b / 2^(t) + delta) - (b + l) / 2^(t)) = ((b / 2^(t) + delta) - (b / 2^(t) + l / 2^(t)))"
      ]
     },
     "execution_count": 24,
     "metadata": {},
     "output_type": "execute_result"
    }
   ],
   "source": [
    "phaseEq = Equation(phase1.operands[1].distribute(assumptions=assumptions).substitution(phase1))\n",
    "phaseEq.eqExpr.proven(assumptions)"
   ]
  },
  {
   "cell_type": "code",
   "execution_count": 25,
   "metadata": {
    "collapsed": false
   },
   "outputs": [
    {
     "data": {
      "text/latex": [
       "$\\left(\\left(\\frac{b}{2^{t}} + \\delta\\right) - \\frac{b + l}{2^{t}}\\right) = \\left(\\delta - \\frac{l}{2^{t}}\\right)$"
      ],
      "text/plain": [
       "((b / 2^(t) + delta) - (b + l) / 2^(t)) = (delta - l / 2^(t))"
      ]
     },
     "execution_count": 25,
     "metadata": {},
     "output_type": "execute_result"
    }
   ],
   "source": [
    "phaseEq.update(phaseEq.eqExpr.rhs.cancel(assumptions=assumptions)).proven(assumptions)"
   ]
  },
  {
   "cell_type": "code",
   "execution_count": 26,
   "metadata": {
    "collapsed": false
   },
   "outputs": [
    {
     "data": {
      "text/latex": [
       "$\\alpha_{l} = \\left(\\frac{1}{2^{t}} \\cdot \\left(\\sum_{k=0}^{2^{t} - 1} \\left(e^{2 \\cdot \\pi \\cdot i \\cdot \\left(\\delta - \\frac{l}{2^{t}}\\right)}\\right)^{k}\\right)\\right)$"
      ],
      "text/plain": [
       "alpha_{l} = (1 / 2^(t) * (Summation_{k=0}^{2^(t) - 1} (e^(2 * pi * i * (delta - l / 2^(t))))^(k)))"
      ]
     },
     "execution_count": 26,
     "metadata": {},
     "output_type": "execute_result"
    }
   ],
   "source": [
    "alpha_l_eq4 = phaseEq.eqExpr.rhsSubstitute(alpha_l_eq3)\n",
    "alpha_l_eq4.proven(assumptions)"
   ]
  },
  {
   "cell_type": "code",
   "execution_count": 27,
   "metadata": {
    "collapsed": false
   },
   "outputs": [
    {
     "data": {
      "text/latex": [
       "$0 < \\left(2^{t} - 1\\right)$"
      ],
      "text/plain": [
       "0 < (2^(t) - 1)"
      ]
     },
     "execution_count": 27,
     "metadata": {},
     "output_type": "execute_result"
    }
   ],
   "source": [
    "deducePositive(Subtract(two_pow_t, one)).deriveReversed().proven(assumptions)"
   ]
  },
  {
   "cell_type": "code",
   "execution_count": 28,
   "metadata": {
    "collapsed": false
   },
   "outputs": [
    {
     "data": {
      "text/latex": [
       "$\\alpha_{l} = \\left(\\frac{1}{2^{t}} \\cdot \\frac{\\left(e^{2 \\cdot \\pi \\cdot i \\cdot \\left(\\delta - \\frac{l}{2^{t}}\\right)}\\right)^{\\left(2^{t} - 1\\right) + 1} - \\left(e^{2 \\cdot \\pi \\cdot i \\cdot \\left(\\delta - \\frac{l}{2^{t}}\\right)}\\right)^{0}}{e^{2 \\cdot \\pi \\cdot i \\cdot \\left(\\delta - \\frac{l}{2^{t}}\\right)} - 1}\\right)$"
      ],
      "text/plain": [
       "alpha_{l} = (1 / 2^(t) * ((e^(2 * pi * i * (delta - l / 2^(t))))^((2^(t) - 1) + 1) - (e^(2 * pi * i * (delta - l / 2^(t))))^(0)) / (e^(2 * pi * i * (delta - l / 2^(t))) - 1))"
      ]
     },
     "execution_count": 28,
     "metadata": {},
     "output_type": "execute_result"
    }
   ],
   "source": [
    "alpha_l_eq5 = autoSubstitute(alpha_l_eq4, 'reduceGeomSum', [], {'assumptions':assumptions}, subExprClass=Summation)\n",
    "alpha_l_eq5.proven(assumptions)"
   ]
  },
  {
   "cell_type": "code",
   "execution_count": 29,
   "metadata": {
    "collapsed": false
   },
   "outputs": [
    {
     "data": {
      "text/latex": [
       "$\\alpha_{l} = \\left(\\frac{1}{2^{t}} \\cdot \\frac{\\left(e^{2 \\cdot \\pi \\cdot i \\cdot \\left(\\delta - \\frac{l}{2^{t}}\\right)}\\right)^{\\left(2^{t} - 1\\right) + 1} - 1}{e^{2 \\cdot \\pi \\cdot i \\cdot \\left(\\delta - \\frac{l}{2^{t}}\\right)} - 1}\\right)$"
      ],
      "text/plain": [
       "alpha_{l} = (1 / 2^(t) * ((e^(2 * pi * i * (delta - l / 2^(t))))^((2^(t) - 1) + 1) - 1) / (e^(2 * pi * i * (delta - l / 2^(t))) - 1))"
      ]
     },
     "execution_count": 29,
     "metadata": {},
     "output_type": "execute_result"
    }
   ],
   "source": [
    "alpha_l_eq6 = autoSubstitute(alpha_l_eq5, 'simplification', [], {'assumptions':assumptions}, subExprClass=Exponentiate, suppressWarnings=True)\n",
    "alpha_l_eq6.proven(assumptions)"
   ]
  },
  {
   "cell_type": "code",
   "execution_count": 30,
   "metadata": {
    "collapsed": false
   },
   "outputs": [
    {
     "data": {
      "text/latex": [
       "$\\alpha_{l} = \\left(\\frac{1}{2^{t}} \\cdot \\frac{\\left(e^{2 \\cdot \\pi \\cdot i \\cdot \\left(\\delta - \\frac{l}{2^{t}}\\right)}\\right)^{2^{t}} - 1}{e^{2 \\cdot \\pi \\cdot i \\cdot \\left(\\delta - \\frac{l}{2^{t}}\\right)} - 1}\\right)$"
      ],
      "text/plain": [
       "alpha_{l} = (1 / 2^(t) * ((e^(2 * pi * i * (delta - l / 2^(t))))^(2^(t)) - 1) / (e^(2 * pi * i * (delta - l / 2^(t))) - 1))"
      ]
     },
     "execution_count": 30,
     "metadata": {},
     "output_type": "execute_result"
    }
   ],
   "source": [
    "from proveit.number.complex.theorems import cancelSubThenAdd\n",
    "from proveit.number.common import a, b\n",
    "deduceInComplexes([two_pow_t, one])\n",
    "exponentSimplification = cancelSubThenAdd.specialize({a:two_pow_t, b:one}).proven(assumptions)\n",
    "alpha_l_eq7 = exponentSimplification.rhsSubstitute(alpha_l_eq6)\n",
    "alpha_l_eq7"
   ]
  },
  {
   "cell_type": "code",
   "execution_count": 31,
   "metadata": {
    "collapsed": false
   },
   "outputs": [
    {
     "data": {
      "text/latex": [
       "$\\alpha_{l} = \\left(\\frac{1}{2^{t}} \\cdot \\frac{e^{\\left(2 \\cdot \\pi \\cdot i \\cdot \\left(\\delta - \\frac{l}{2^{t}}\\right)\\right) \\cdot 2^{t}} - 1}{e^{2 \\cdot \\pi \\cdot i \\cdot \\left(\\delta - \\frac{l}{2^{t}}\\right)} - 1}\\right)$"
      ],
      "text/plain": [
       "alpha_{l} = (1 / 2^(t) * (e^((2 * pi * i * (delta - l / 2^(t))) * 2^(t)) - 1) / (e^(2 * pi * i * (delta - l / 2^(t))) - 1))"
      ]
     },
     "execution_count": 31,
     "metadata": {},
     "output_type": "execute_result"
    }
   ],
   "source": [
    "alpha_l_eq8 = autoSubstitute(alpha_l_eq7, 'lowerOuterPow', [], {'assumptions':assumptions}, subExprClass=Exponentiate, suppressWarnings=True)\n",
    "alpha_l_eq8.proven(assumptions)"
   ]
  },
  {
   "cell_type": "code",
   "execution_count": 32,
   "metadata": {
    "collapsed": false
   },
   "outputs": [
    {
     "data": {
      "text/latex": [
       "$\\alpha_{l} = \\left(\\frac{1}{2^{t}} \\cdot \\frac{e^{2 \\cdot \\pi \\cdot i \\cdot \\left(\\delta - \\frac{l}{2^{t}}\\right) \\cdot 2^{t}} - 1}{e^{2 \\cdot \\pi \\cdot i \\cdot \\left(\\delta - \\frac{l}{2^{t}}\\right)} - 1}\\right)$"
      ],
      "text/plain": [
       "alpha_{l} = (1 / 2^(t) * (e^(2 * pi * i * (delta - l / 2^(t)) * 2^(t)) - 1) / (e^(2 * pi * i * (delta - l / 2^(t))) - 1))"
      ]
     },
     "execution_count": 32,
     "metadata": {},
     "output_type": "execute_result"
    }
   ],
   "source": [
    "alpha_l_eq9 = autoSubstitute(alpha_l_eq8, 'ungroup', [0], {'assumptions':assumptions}, subExprClass=Multiply, suppressWarnings=True)\n",
    "alpha_l_eq9.proven(assumptions)"
   ]
  },
  {
   "cell_type": "code",
   "execution_count": 33,
   "metadata": {
    "collapsed": false
   },
   "outputs": [
    {
     "data": {
      "text/latex": [
       "$\\alpha_{l} = \\left(\\frac{1}{2^{t}} \\cdot \\frac{e^{2 \\cdot \\pi \\cdot i \\cdot \\left(\\left(\\delta - \\frac{l}{2^{t}}\\right) \\cdot 2^{t}\\right)} - 1}{e^{2 \\cdot \\pi \\cdot i \\cdot \\left(\\delta - \\frac{l}{2^{t}}\\right)} - 1}\\right)$"
      ],
      "text/plain": [
       "alpha_{l} = (1 / 2^(t) * (e^(2 * pi * i * ((delta - l / 2^(t)) * 2^(t))) - 1) / (e^(2 * pi * i * (delta - l / 2^(t))) - 1))"
      ]
     },
     "execution_count": 33,
     "metadata": {},
     "output_type": "execute_result"
    }
   ],
   "source": [
    "alpha_l_eq10 = autoSubstitute(alpha_l_eq9, 'group', [3,5], {'assumptions':assumptions}, subExprClass=Multiply, suppressWarnings=True)\n",
    "alpha_l_eq10.proven(assumptions)"
   ]
  },
  {
   "cell_type": "code",
   "execution_count": 34,
   "metadata": {
    "collapsed": false
   },
   "outputs": [
    {
     "data": {
      "text/latex": [
       "$\\alpha_{l} = \\left(\\frac{1}{2^{t}} \\cdot \\frac{e^{2 \\cdot \\pi \\cdot i \\cdot \\left(2^{t} \\cdot \\left(\\delta - \\frac{l}{2^{t}}\\right)\\right)} - 1}{e^{2 \\cdot \\pi \\cdot i \\cdot \\left(\\delta - \\frac{l}{2^{t}}\\right)} - 1}\\right)$"
      ],
      "text/plain": [
       "alpha_{l} = (1 / 2^(t) * (e^(2 * pi * i * (2^(t) * (delta - l / 2^(t)))) - 1) / (e^(2 * pi * i * (delta - l / 2^(t))) - 1))"
      ]
     },
     "execution_count": 34,
     "metadata": {},
     "output_type": "execute_result"
    }
   ],
   "source": [
    "alpha_l_eq11 = autoSubstitute(alpha_l_eq10, 'commute', [], {'assumptions':assumptions}, subExprClass=Multiply, criteria=lambda expr:len(expr.operands)==2, suppressWarnings=True)\n",
    "alpha_l_eq11.proven(assumptions)"
   ]
  },
  {
   "cell_type": "code",
   "execution_count": 35,
   "metadata": {
    "collapsed": false
   },
   "outputs": [
    {
     "data": {
      "text/latex": [
       "$\\alpha_{l} = \\left(\\frac{1}{2^{t}} \\cdot \\frac{e^{2 \\cdot \\pi \\cdot i \\cdot \\left(\\left(2^{t} \\cdot \\delta\\right) - \\left(2^{t} \\cdot \\frac{l}{2^{t}}\\right)\\right)} - 1}{e^{2 \\cdot \\pi \\cdot i \\cdot \\left(\\delta - \\frac{l}{2^{t}}\\right)} - 1}\\right)$"
      ],
      "text/plain": [
       "alpha_{l} = (1 / 2^(t) * (e^(2 * pi * i * ((2^(t) * delta) - (2^(t) * l / 2^(t)))) - 1) / (e^(2 * pi * i * (delta - l / 2^(t))) - 1))"
      ]
     },
     "execution_count": 35,
     "metadata": {},
     "output_type": "execute_result"
    }
   ],
   "source": [
    "alpha_l_eq12 = autoSubstitute(alpha_l_eq11, 'distribute', [1], {'assumptions':assumptions}, subExprClass=Multiply, criteria=lambda expr:len(expr.operands)==2, suppressWarnings=True)\n",
    "alpha_l_eq12.proven(assumptions)"
   ]
  },
  {
   "cell_type": "code",
   "execution_count": 36,
   "metadata": {
    "collapsed": false
   },
   "outputs": [
    {
     "data": {
      "text/latex": [
       "$\\alpha_{l} = \\left(\\frac{1}{2^{t}} \\cdot \\frac{e^{2 \\cdot \\pi \\cdot i \\cdot \\left(\\left(2^{t} \\cdot \\delta\\right) - l\\right)} - 1}{e^{2 \\cdot \\pi \\cdot i \\cdot \\left(\\delta - \\frac{l}{2^{t}}\\right)} - 1}\\right)$"
      ],
      "text/plain": [
       "alpha_{l} = (1 / 2^(t) * (e^(2 * pi * i * ((2^(t) * delta) - l)) - 1) / (e^(2 * pi * i * (delta - l / 2^(t))) - 1))"
      ]
     },
     "execution_count": 36,
     "metadata": {},
     "output_type": "execute_result"
    }
   ],
   "source": [
    "from proveit.number.complex.theorems import fracCancel5\n",
    "from proveit.common import x,y\n",
    "deduceInComplexes([two_pow_t, l], assumptions=assumptions)\n",
    "cancellation = fracCancel5.specialize({x:two_pow_t, y:l}).proven(assumptions)\n",
    "alpha_l_eq13 = cancellation.rhsSubstitute(alpha_l_eq12)\n",
    "alpha_l_eq13.proven(assumptions)"
   ]
  },
  {
   "cell_type": "code",
   "execution_count": 39,
   "metadata": {
    "collapsed": false
   },
   "outputs": [
    {
     "data": {
      "text/latex": [
       "$\\alpha_{l} = \\left(\\frac{1}{2^{t}} \\cdot \\frac{1 - e^{2 \\cdot \\pi \\cdot i \\cdot \\left(\\left(2^{t} \\cdot \\delta\\right) - l\\right)}}{1 - e^{2 \\cdot \\pi \\cdot i \\cdot \\left(\\delta - \\frac{l}{2^{t}}\\right)}}\\right)$"
      ],
      "text/plain": [
       "alpha_{l} = (1 / 2^(t) * (1 - e^(2 * pi * i * ((2^(t) * delta) - l))) / (1 - e^(2 * pi * i * (delta - l / 2^(t)))))"
      ]
     },
     "execution_count": 39,
     "metadata": {},
     "output_type": "execute_result"
    }
   ],
   "source": [
    "from proveit.number.complex.theorems import reverseFractionOfSubtractions\n",
    "from proveit.common import w,x,y,z\n",
    "frac = alpha_l_eq13.rhs.operands[1]\n",
    "(wVal, xVal), (yVal, zVal) = frac.numerator.operands, frac.denominator.operands\n",
    "deduceInComplexes([wVal, xVal, yVal, zVal], assumptions=assumptions)\n",
    "reversal = reverseFractionOfSubtractions.specialize({w:wVal, x:xVal, y:yVal, z:zVal}).proven(assumptions)\n",
    "alpha_l_eq14 = reversal.rhsSubstitute(alpha_l_eq13)\n",
    "alpha_l_eq14.proven(assumptions)"
   ]
  },
  {
   "cell_type": "code",
   "execution_count": 40,
   "metadata": {
    "collapsed": false
   },
   "outputs": [
    {
     "data": {
      "text/latex": [
       "$\\forall_{l \\in \\mathbb{Z}} \\left(\\alpha_{l} = \\left(\\frac{1}{2^{t}} \\cdot \\frac{1 - e^{2 \\cdot \\pi \\cdot i \\cdot \\left(\\left(2^{t} \\cdot \\delta\\right) - l\\right)}}{1 - e^{2 \\cdot \\pi \\cdot i \\cdot \\left(\\delta - \\frac{l}{2^{t}}\\right)}}\\right)\\right)$"
      ],
      "text/plain": [
       "forall_{l in Integers} (alpha_{l} = (1 / 2^(t) * (1 - e^(2 * pi * i * ((2^(t) * delta) - l))) / (1 - e^(2 * pi * i * (delta - l / 2^(t))))))"
      ]
     },
     "execution_count": 40,
     "metadata": {},
     "output_type": "execute_result"
    }
   ],
   "source": [
    "alpha_l_eq14.generalize(l, domain=Integers).proven()"
   ]
  },
  {
   "cell_type": "code",
   "execution_count": null,
   "metadata": {
    "collapsed": true
   },
   "outputs": [],
   "source": []
  }
 ],
 "metadata": {
  "kernelspec": {
   "display_name": "Python 2",
   "language": "python",
   "name": "python2"
  }
 },
 "nbformat": 4,
 "nbformat_minor": 0
}
