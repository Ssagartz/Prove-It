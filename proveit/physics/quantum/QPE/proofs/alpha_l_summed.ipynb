{
 "cells": [
  {
   "cell_type": "code",
   "execution_count": 1,
   "metadata": {
    "collapsed": false
   },
   "outputs": [],
   "source": [
    "from proveit.basiclogic import autoSubstitute, autoSubstitution, In, Equation, extractSubExpr\n",
    "from proveit.common import a, b, k, l, r, x\n",
    "from proveit.number import Exponentiate, Add, Subtract, Multiply, Summation\n",
    "from proveit.number.numberSets import deducePositive, deduceInComplexes\n",
    "from proveit.number.common import Complexes, Integers, one, two, pi, i, e\n",
    "from proveit.physics.quantum.QPE.axioms import tInNaturalsPos, modAddDef\n",
    "from proveit.physics.quantum.QPE.theorems import alpha_l_summed, phaseInReals, deltaInReals\n",
    "from proveit.physics.quantum.QPE.theorems import alpha_l_eval, bestInInts, phaseFromBest, two_pow_t_less_one_in_posnats\n",
    "from proveit.physics.quantum.QPE.common import t_, b_, two_pow_t, phase_, delta_\n",
    "from proveit.physics.quantum.QPE.phaseEstOps import ModAdd\n",
    "from proveit.trigonometry.theorems import exp_neg2pi_i_x\n",
    "from proveit.number.complex.theorems import powOfProd"
   ]
  },
  {
   "cell_type": "code",
   "execution_count": 2,
   "metadata": {
    "collapsed": false
   },
   "outputs": [
    {
     "data": {
      "text/latex": [
       "$\\forall_{l \\in \\mathbb{Z}} \\left(\\alpha_{l} = \\left(\\frac{1}{2^{t}} \\cdot \\frac{1 - e^{2 \\cdot \\pi \\cdot i \\cdot \\left(\\left(2^{t} \\cdot \\delta\\right) - l\\right)}}{1 - e^{2 \\cdot \\pi \\cdot i \\cdot \\left(\\delta - \\frac{l}{2^{t}}\\right)}}\\right)\\right)$"
      ],
      "text/plain": [
       "$\\forall_{l \\in \\mathbb{Z}} \\left(\\alpha_{l} = \\left(\\frac{1}{2^{t}} \\cdot \\frac{1 - e^{2 \\cdot \\pi \\cdot i \\cdot \\left(\\left(2^{t} \\cdot \\delta\\right) - l\\right)}}{1 - e^{2 \\cdot \\pi \\cdot i \\cdot \\left(\\delta - \\frac{l}{2^{t}}\\right)}}\\right)\\right)$"
      ]
     },
     "execution_count": 2,
     "metadata": {},
     "output_type": "execute_result"
    }
   ],
   "source": [
    "alpha_l_summed.beginProof()"
   ]
  },
  {
   "cell_type": "code",
   "execution_count": 3,
   "metadata": {
    "collapsed": false
   },
   "outputs": [
    {
     "data": {
      "text/latex": [
       "$\\alpha_{l} = \\left(\\frac{1}{2^{t}} \\cdot \\left(\\sum_{k=0}^{2^{t} - 1} \\left(e^{\\frac{-\\left(2 \\cdot \\pi \\cdot i \\cdot k \\cdot \\left(b \\oplus l\\right)\\right)}{2^{t}}} \\cdot e^{2 \\cdot \\pi \\cdot i \\cdot \\varphi \\cdot k}\\right)\\right)\\right)$"
      ],
      "text/plain": [
       "$\\alpha_{l} = \\left(\\frac{1}{2^{t}} \\cdot \\left(\\sum_{k=0}^{2^{t} - 1} \\left(e^{\\frac{-\\left(2 \\cdot \\pi \\cdot i \\cdot k \\cdot \\left(b \\oplus l\\right)\\right)}{2^{t}}} \\cdot e^{2 \\cdot \\pi \\cdot i \\cdot \\varphi \\cdot k}\\right)\\right)\\right)$"
      ]
     },
     "execution_count": 3,
     "metadata": {},
     "output_type": "execute_result"
    }
   ],
   "source": [
    "alpha_l_eq1 = alpha_l_eval.specialize()\n",
    "alpha_l_eq1"
   ]
  },
  {
   "cell_type": "code",
   "execution_count": 4,
   "metadata": {
    "collapsed": false
   },
   "outputs": [
    {
     "data": {
      "text/latex": [
       "$\\sum_{k=0}^{2^{t} - 1} e^{\\frac{-\\left(2 \\cdot \\pi \\cdot i \\cdot k \\cdot \\left(b \\oplus l\\right)\\right)}{2^{t}}} \\cdot e^{2 \\cdot \\pi \\cdot i \\cdot \\varphi \\cdot k}$"
      ],
      "text/plain": [
       "$\\sum_{k=0}^{2^{t} - 1} e^{\\frac{-\\left(2 \\cdot \\pi \\cdot i \\cdot k \\cdot \\left(b \\oplus l\\right)\\right)}{2^{t}}} \\cdot e^{2 \\cdot \\pi \\cdot i \\cdot \\varphi \\cdot k}$"
      ]
     },
     "execution_count": 4,
     "metadata": {},
     "output_type": "execute_result"
    }
   ],
   "source": [
    "alpha_l_summation = alpha_l_eq1.rhs.operands[1]\n",
    "alpha_l_summation"
   ]
  },
  {
   "cell_type": "code",
   "execution_count": 5,
   "metadata": {
    "collapsed": false
   },
   "outputs": [
    {
     "data": {
      "text/latex": [
       "$\\{0\\ldots 2^{t} - 1\\}$"
      ],
      "text/plain": [
       "$\\{0\\ldots 2^{t} - 1\\}$"
      ]
     },
     "execution_count": 5,
     "metadata": {},
     "output_type": "execute_result"
    }
   ],
   "source": [
    "kDomain = alpha_l_summation.domain\n",
    "kDomain"
   ]
  },
  {
   "cell_type": "code",
   "execution_count": 6,
   "metadata": {
    "collapsed": false
   },
   "outputs": [
    {
     "data": {
      "text/latex": [
       "$k \\in \\mathbb{Z}$"
      ],
      "text/plain": [
       "$k \\in \\mathbb{Z}$"
      ]
     },
     "execution_count": 6,
     "metadata": {},
     "output_type": "execute_result"
    }
   ],
   "source": [
    "assumptions = {In(k, kDomain), In(l, Integers)}\n",
    "kDomain.deduceMemberInIntegers(k, assumptions=assumptions).proven(assumptions)"
   ]
  },
  {
   "cell_type": "code",
   "execution_count": 7,
   "metadata": {
    "collapsed": true
   },
   "outputs": [],
   "source": [
    "equation = Equation()"
   ]
  },
  {
   "cell_type": "code",
   "execution_count": 8,
   "metadata": {
    "collapsed": false
   },
   "outputs": [
    {
     "data": {
      "text/latex": [
       "$\\left(e^{\\frac{-\\left(2 \\cdot \\pi \\cdot i \\cdot k \\cdot \\left(b \\oplus l\\right)\\right)}{2^{t}}} \\cdot e^{2 \\cdot \\pi \\cdot i \\cdot \\varphi \\cdot k}\\right) = \\left(\\left(e^{\\frac{-\\left(2 \\cdot \\pi \\cdot i \\cdot \\left(b \\oplus l\\right)\\right)}{2^{t}}}\\right)^{k} \\cdot e^{2 \\cdot \\pi \\cdot i \\cdot \\varphi \\cdot k}\\right)$"
      ],
      "text/plain": [
       "$\\left(e^{\\frac{-\\left(2 \\cdot \\pi \\cdot i \\cdot k \\cdot \\left(b \\oplus l\\right)\\right)}{2^{t}}} \\cdot e^{2 \\cdot \\pi \\cdot i \\cdot \\varphi \\cdot k}\\right) = \\left(\\left(e^{\\frac{-\\left(2 \\cdot \\pi \\cdot i \\cdot \\left(b \\oplus l\\right)\\right)}{2^{t}}}\\right)^{k} \\cdot e^{2 \\cdot \\pi \\cdot i \\cdot \\varphi \\cdot k}\\right)$"
      ]
     },
     "execution_count": 8,
     "metadata": {},
     "output_type": "execute_result"
    }
   ],
   "source": [
    "equation.update(autoSubstitution(alpha_l_summation.instanceExpr, 'raiseExpFactor', [k], \n",
    "                                 {'assumptions':assumptions}, subExprClass=Exponentiate,\n",
    "                                 suppressWarnings=True)).proven(assumptions)"
   ]
  },
  {
   "cell_type": "code",
   "execution_count": 9,
   "metadata": {
    "collapsed": false
   },
   "outputs": [
    {
     "data": {
      "text/latex": [
       "$\\left(e^{\\frac{-\\left(2 \\cdot \\pi \\cdot i \\cdot k \\cdot \\left(b \\oplus l\\right)\\right)}{2^{t}}} \\cdot e^{2 \\cdot \\pi \\cdot i \\cdot \\varphi \\cdot k}\\right) = \\left(\\left(e^{\\frac{-\\left(2 \\cdot \\pi \\cdot i \\cdot \\left(b \\oplus l\\right)\\right)}{2^{t}}}\\right)^{k} \\cdot \\left(e^{2 \\cdot \\pi \\cdot i \\cdot \\varphi}\\right)^{k}\\right)$"
      ],
      "text/plain": [
       "$\\left(e^{\\frac{-\\left(2 \\cdot \\pi \\cdot i \\cdot k \\cdot \\left(b \\oplus l\\right)\\right)}{2^{t}}} \\cdot e^{2 \\cdot \\pi \\cdot i \\cdot \\varphi \\cdot k}\\right) = \\left(\\left(e^{\\frac{-\\left(2 \\cdot \\pi \\cdot i \\cdot \\left(b \\oplus l\\right)\\right)}{2^{t}}}\\right)^{k} \\cdot \\left(e^{2 \\cdot \\pi \\cdot i \\cdot \\varphi}\\right)^{k}\\right)$"
      ]
     },
     "execution_count": 9,
     "metadata": {},
     "output_type": "execute_result"
    }
   ],
   "source": [
    "equation.update(autoSubstitution(equation.eqExpr.rhs, 'raiseExpFactor', [k], {'assumptions':assumptions}, \n",
    "                        subExprClass=Exponentiate, suppressWarnings=True)).proven(assumptions)"
   ]
  },
  {
   "cell_type": "code",
   "execution_count": 10,
   "metadata": {
    "collapsed": false
   },
   "outputs": [
    {
     "data": {
      "text/latex": [
       "$\\left(b \\oplus l\\right) = \\left(\\left(b + l\\right) ~\\rm{mod}~ 2^{t}\\right)$"
      ],
      "text/plain": [
       "$\\left(b \\oplus l\\right) = \\left(\\left(b + l\\right) ~\\rm{mod}~ 2^{t}\\right)$"
      ]
     },
     "execution_count": 10,
     "metadata": {},
     "output_type": "execute_result"
    }
   ],
   "source": [
    "modAddDefSpec = modAddDef.specialize({a:b_, b:l})\n",
    "modAddDefSpec"
   ]
  },
  {
   "cell_type": "code",
   "execution_count": 11,
   "metadata": {
    "collapsed": false
   },
   "outputs": [
    {
     "data": {
      "text/latex": [
       "$\\left(e^{\\frac{-\\left(2 \\cdot \\pi \\cdot i \\cdot k \\cdot \\left(b \\oplus l\\right)\\right)}{2^{t}}} \\cdot e^{2 \\cdot \\pi \\cdot i \\cdot \\varphi \\cdot k}\\right) = \\left(\\left(e^{\\frac{-\\left(2 \\cdot \\pi \\cdot i \\cdot \\left(\\left(b + l\\right) ~\\rm{mod}~ 2^{t}\\right)\\right)}{2^{t}}}\\right)^{k} \\cdot \\left(e^{2 \\cdot \\pi \\cdot i \\cdot \\varphi}\\right)^{k}\\right)$"
      ],
      "text/plain": [
       "$\\left(e^{\\frac{-\\left(2 \\cdot \\pi \\cdot i \\cdot k \\cdot \\left(b \\oplus l\\right)\\right)}{2^{t}}} \\cdot e^{2 \\cdot \\pi \\cdot i \\cdot \\varphi \\cdot k}\\right) = \\left(\\left(e^{\\frac{-\\left(2 \\cdot \\pi \\cdot i \\cdot \\left(\\left(b + l\\right) ~\\rm{mod}~ 2^{t}\\right)\\right)}{2^{t}}}\\right)^{k} \\cdot \\left(e^{2 \\cdot \\pi \\cdot i \\cdot \\varphi}\\right)^{k}\\right)$"
      ]
     },
     "execution_count": 11,
     "metadata": {},
     "output_type": "execute_result"
    }
   ],
   "source": [
    "equation.update(modAddDefSpec.substitution(equation.eqExpr.rhs)).proven(assumptions)"
   ]
  },
  {
   "cell_type": "code",
   "execution_count": 12,
   "metadata": {
    "collapsed": false
   },
   "outputs": [
    {
     "data": {
      "text/latex": [
       "$e^{\\frac{-\\left(2 \\cdot \\pi \\cdot i \\cdot \\left(\\left(b + l\\right) ~\\rm{mod}~ 2^{t}\\right)\\right)}{2^{t}}} = e^{\\frac{-\\left(2 \\cdot \\pi \\cdot i \\cdot \\left(b + l\\right)\\right)}{2^{t}}}$"
      ],
      "text/plain": [
       "$e^{\\frac{-\\left(2 \\cdot \\pi \\cdot i \\cdot \\left(\\left(b + l\\right) ~\\rm{mod}~ 2^{t}\\right)\\right)}{2^{t}}} = e^{\\frac{-\\left(2 \\cdot \\pi \\cdot i \\cdot \\left(b + l\\right)\\right)}{2^{t}}}$"
      ]
     },
     "execution_count": 12,
     "metadata": {},
     "output_type": "execute_result"
    }
   ],
   "source": [
    "Add(b_, l).deduceInReals(assumptions)\n",
    "two_pow_t.deduceInReals()\n",
    "exp_neg2pi_i_x_spec = exp_neg2pi_i_x.specialize({x:Add(b_, l), r:two_pow_t}).proven(assumptions)\n",
    "exp_neg2pi_i_x_spec"
   ]
  },
  {
   "cell_type": "code",
   "execution_count": 13,
   "metadata": {
    "collapsed": false
   },
   "outputs": [
    {
     "data": {
      "text/latex": [
       "$\\left(e^{\\frac{-\\left(2 \\cdot \\pi \\cdot i \\cdot k \\cdot \\left(b \\oplus l\\right)\\right)}{2^{t}}} \\cdot e^{2 \\cdot \\pi \\cdot i \\cdot \\varphi \\cdot k}\\right) = \\left(\\left(e^{\\frac{-\\left(2 \\cdot \\pi \\cdot i \\cdot \\left(b + l\\right)\\right)}{2^{t}}}\\right)^{k} \\cdot \\left(e^{2 \\cdot \\pi \\cdot i \\cdot \\varphi}\\right)^{k}\\right)$"
      ],
      "text/plain": [
       "$\\left(e^{\\frac{-\\left(2 \\cdot \\pi \\cdot i \\cdot k \\cdot \\left(b \\oplus l\\right)\\right)}{2^{t}}} \\cdot e^{2 \\cdot \\pi \\cdot i \\cdot \\varphi \\cdot k}\\right) = \\left(\\left(e^{\\frac{-\\left(2 \\cdot \\pi \\cdot i \\cdot \\left(b + l\\right)\\right)}{2^{t}}}\\right)^{k} \\cdot \\left(e^{2 \\cdot \\pi \\cdot i \\cdot \\varphi}\\right)^{k}\\right)$"
      ]
     },
     "execution_count": 13,
     "metadata": {},
     "output_type": "execute_result"
    }
   ],
   "source": [
    "equation.update(exp_neg2pi_i_x_spec.substitution(equation.eqExpr.rhs)).proven(assumptions)"
   ]
  },
  {
   "cell_type": "code",
   "execution_count": 14,
   "metadata": {
    "collapsed": false
   },
   "outputs": [
    {
     "data": {
      "text/latex": [
       "$\\left(e^{\\frac{-\\left(2 \\cdot \\pi \\cdot i \\cdot k \\cdot \\left(b \\oplus l\\right)\\right)}{2^{t}}} \\cdot e^{2 \\cdot \\pi \\cdot i \\cdot \\varphi \\cdot k}\\right) = \\left(e^{\\frac{-\\left(2 \\cdot \\pi \\cdot i \\cdot \\left(b + l\\right)\\right)}{2^{t}}} \\cdot e^{2 \\cdot \\pi \\cdot i \\cdot \\varphi}\\right)^{k}$"
      ],
      "text/plain": [
       "$\\left(e^{\\frac{-\\left(2 \\cdot \\pi \\cdot i \\cdot k \\cdot \\left(b \\oplus l\\right)\\right)}{2^{t}}} \\cdot e^{2 \\cdot \\pi \\cdot i \\cdot \\varphi \\cdot k}\\right) = \\left(e^{\\frac{-\\left(2 \\cdot \\pi \\cdot i \\cdot \\left(b + l\\right)\\right)}{2^{t}}} \\cdot e^{2 \\cdot \\pi \\cdot i \\cdot \\varphi}\\right)^{k}$"
      ]
     },
     "execution_count": 14,
     "metadata": {},
     "output_type": "execute_result"
    }
   ],
   "source": [
    "equation.update(equation.eqExpr.rhs.combineExponents(assumptions)).proven(assumptions)"
   ]
  },
  {
   "cell_type": "code",
   "execution_count": 15,
   "metadata": {
    "collapsed": false
   },
   "outputs": [
    {
     "data": {
      "text/latex": [
       "$\\left(e^{\\frac{-\\left(2 \\cdot \\pi \\cdot i \\cdot k \\cdot \\left(b \\oplus l\\right)\\right)}{2^{t}}} \\cdot e^{2 \\cdot \\pi \\cdot i \\cdot \\varphi \\cdot k}\\right) = \\left(e^{2 \\cdot \\pi \\cdot i \\cdot \\varphi} \\cdot e^{\\frac{-\\left(2 \\cdot \\pi \\cdot i \\cdot \\left(b + l\\right)\\right)}{2^{t}}}\\right)^{k}$"
      ],
      "text/plain": [
       "$\\left(e^{\\frac{-\\left(2 \\cdot \\pi \\cdot i \\cdot k \\cdot \\left(b \\oplus l\\right)\\right)}{2^{t}}} \\cdot e^{2 \\cdot \\pi \\cdot i \\cdot \\varphi \\cdot k}\\right) = \\left(e^{2 \\cdot \\pi \\cdot i \\cdot \\varphi} \\cdot e^{\\frac{-\\left(2 \\cdot \\pi \\cdot i \\cdot \\left(b + l\\right)\\right)}{2^{t}}}\\right)^{k}$"
      ]
     },
     "execution_count": 15,
     "metadata": {},
     "output_type": "execute_result"
    }
   ],
   "source": [
    "equation.update(autoSubstitution(equation.eqExpr.rhs, 'commute', [], {'assumptions':assumptions}, subExprClass=Multiply)).proven(assumptions)"
   ]
  },
  {
   "cell_type": "code",
   "execution_count": 16,
   "metadata": {
    "collapsed": false
   },
   "outputs": [
    {
     "data": {
      "text/latex": [
       "$\\left(e^{\\frac{-\\left(2 \\cdot \\pi \\cdot i \\cdot k \\cdot \\left(b \\oplus l\\right)\\right)}{2^{t}}} \\cdot e^{2 \\cdot \\pi \\cdot i \\cdot \\varphi \\cdot k}\\right) = \\left(e^{\\left(2 \\cdot \\pi \\cdot i \\cdot \\varphi\\right) - \\frac{2 \\cdot \\pi \\cdot i \\cdot \\left(b + l\\right)}{2^{t}}}\\right)^{k}$"
      ],
      "text/plain": [
       "$\\left(e^{\\frac{-\\left(2 \\cdot \\pi \\cdot i \\cdot k \\cdot \\left(b \\oplus l\\right)\\right)}{2^{t}}} \\cdot e^{2 \\cdot \\pi \\cdot i \\cdot \\varphi \\cdot k}\\right) = \\left(e^{\\left(2 \\cdot \\pi \\cdot i \\cdot \\varphi\\right) - \\frac{2 \\cdot \\pi \\cdot i \\cdot \\left(b + l\\right)}{2^{t}}}\\right)^{k}$"
      ]
     },
     "execution_count": 16,
     "metadata": {},
     "output_type": "execute_result"
    }
   ],
   "source": [
    "equation.update(autoSubstitution(equation.eqExpr.rhs, 'combineExponents', [], {'assumptions':assumptions}, subExprClass=Multiply)).proven(assumptions)"
   ]
  },
  {
   "cell_type": "code",
   "execution_count": 17,
   "metadata": {
    "collapsed": false
   },
   "outputs": [
    {
     "data": {
      "text/latex": [
       "$\\left(\\left(2 \\cdot \\pi \\cdot i \\cdot \\varphi\\right) - \\frac{2 \\cdot \\pi \\cdot i \\cdot \\left(b + l\\right)}{2^{t}}\\right) = \\left(2 \\cdot \\pi \\cdot i \\cdot \\left(\\varphi - \\frac{b + l}{2^{t}}\\right)\\right)$"
      ],
      "text/plain": [
       "$\\left(\\left(2 \\cdot \\pi \\cdot i \\cdot \\varphi\\right) - \\frac{2 \\cdot \\pi \\cdot i \\cdot \\left(b + l\\right)}{2^{t}}\\right) = \\left(2 \\cdot \\pi \\cdot i \\cdot \\left(\\varphi - \\frac{b + l}{2^{t}}\\right)\\right)$"
      ]
     },
     "execution_count": 17,
     "metadata": {},
     "output_type": "execute_result"
    }
   ],
   "source": [
    "equation.eqExpr.rhs.base.exponent.factor(Multiply(two, pi, i), assumptions=assumptions)"
   ]
  },
  {
   "cell_type": "code",
   "execution_count": 18,
   "metadata": {
    "collapsed": false
   },
   "outputs": [
    {
     "data": {
      "text/latex": [
       "$\\left(e^{\\frac{-\\left(2 \\cdot \\pi \\cdot i \\cdot k \\cdot \\left(b \\oplus l\\right)\\right)}{2^{t}}} \\cdot e^{2 \\cdot \\pi \\cdot i \\cdot \\varphi \\cdot k}\\right) = \\left(e^{2 \\cdot \\pi \\cdot i \\cdot \\left(\\varphi - \\frac{b + l}{2^{t}}\\right)}\\right)^{k}$"
      ],
      "text/plain": [
       "$\\left(e^{\\frac{-\\left(2 \\cdot \\pi \\cdot i \\cdot k \\cdot \\left(b \\oplus l\\right)\\right)}{2^{t}}} \\cdot e^{2 \\cdot \\pi \\cdot i \\cdot \\varphi \\cdot k}\\right) = \\left(e^{2 \\cdot \\pi \\cdot i \\cdot \\left(\\varphi - \\frac{b + l}{2^{t}}\\right)}\\right)^{k}$"
      ]
     },
     "execution_count": 18,
     "metadata": {},
     "output_type": "execute_result"
    }
   ],
   "source": [
    "equation.update(autoSubstitution(equation.eqExpr.rhs, 'factor', [Multiply(two, pi, i)], {'assumptions':assumptions}, subExprClass=Subtract)).proven(assumptions)"
   ]
  },
  {
   "cell_type": "code",
   "execution_count": 19,
   "metadata": {
    "collapsed": false
   },
   "outputs": [
    {
     "data": {
      "text/latex": [
       "$\\forall_{k \\in \\{0\\ldots \\left(2^{t} - 1\\right)\\}} \\left(\\left(e^{\\frac{-\\left(2 \\cdot \\pi \\cdot i \\cdot k \\cdot \\left(b \\oplus l\\right)\\right)}{2^{t}}} \\cdot e^{2 \\cdot \\pi \\cdot i \\cdot \\varphi \\cdot k}\\right) = \\left(e^{2 \\cdot \\pi \\cdot i \\cdot \\left(\\varphi - \\frac{b + l}{2^{t}}\\right)}\\right)^{k}\\right)$"
      ],
      "text/plain": [
       "$\\forall_{k \\in \\{0\\ldots \\left(2^{t} - 1\\right)\\}} \\left(\\left(e^{\\frac{-\\left(2 \\cdot \\pi \\cdot i \\cdot k \\cdot \\left(b \\oplus l\\right)\\right)}{2^{t}}} \\cdot e^{2 \\cdot \\pi \\cdot i \\cdot \\varphi \\cdot k}\\right) = \\left(e^{2 \\cdot \\pi \\cdot i \\cdot \\left(\\varphi - \\frac{b + l}{2^{t}}\\right)}\\right)^{k}\\right)$"
      ]
     },
     "execution_count": 19,
     "metadata": {},
     "output_type": "execute_result"
    }
   ],
   "source": [
    "equivalenceForallInstances = equation.eqExpr.generalize(k, domain=kDomain).proven(assumptions)\n",
    "equivalenceForallInstances"
   ]
  },
  {
   "cell_type": "code",
   "execution_count": 20,
   "metadata": {
    "collapsed": false
   },
   "outputs": [
    {
     "data": {
      "text/latex": [
       "$\\left(\\sum_{k=0}^{2^{t} - 1} \\left(e^{\\frac{-\\left(2 \\cdot \\pi \\cdot i \\cdot k \\cdot \\left(b \\oplus l\\right)\\right)}{2^{t}}} \\cdot e^{2 \\cdot \\pi \\cdot i \\cdot \\varphi \\cdot k}\\right)\\right) = \\left(\\sum_{k=0}^{2^{t} - 1} \\left(e^{2 \\cdot \\pi \\cdot i \\cdot \\left(\\varphi - \\frac{b + l}{2^{t}}\\right)}\\right)^{k}\\right)$"
      ],
      "text/plain": [
       "$\\left(\\sum_{k=0}^{2^{t} - 1} \\left(e^{\\frac{-\\left(2 \\cdot \\pi \\cdot i \\cdot k \\cdot \\left(b \\oplus l\\right)\\right)}{2^{t}}} \\cdot e^{2 \\cdot \\pi \\cdot i \\cdot \\varphi \\cdot k}\\right)\\right) = \\left(\\sum_{k=0}^{2^{t} - 1} \\left(e^{2 \\cdot \\pi \\cdot i \\cdot \\left(\\varphi - \\frac{b + l}{2^{t}}\\right)}\\right)^{k}\\right)$"
      ]
     },
     "execution_count": 20,
     "metadata": {},
     "output_type": "execute_result"
    }
   ],
   "source": [
    "summationEquivalence = alpha_l_summation.instanceSubstitution(equivalenceForallInstances).proven(assumptions)\n",
    "summationEquivalence"
   ]
  },
  {
   "cell_type": "code",
   "execution_count": 21,
   "metadata": {
    "collapsed": false
   },
   "outputs": [
    {
     "data": {
      "text/latex": [
       "$\\alpha_{l} = \\left(\\frac{1}{2^{t}} \\cdot \\left(\\sum_{k=0}^{2^{t} - 1} \\left(e^{2 \\cdot \\pi \\cdot i \\cdot \\left(\\varphi - \\frac{b + l}{2^{t}}\\right)}\\right)^{k}\\right)\\right)$"
      ],
      "text/plain": [
       "$\\alpha_{l} = \\left(\\frac{1}{2^{t}} \\cdot \\left(\\sum_{k=0}^{2^{t} - 1} \\left(e^{2 \\cdot \\pi \\cdot i \\cdot \\left(\\varphi - \\frac{b + l}{2^{t}}\\right)}\\right)^{k}\\right)\\right)$"
      ]
     },
     "execution_count": 21,
     "metadata": {},
     "output_type": "execute_result"
    }
   ],
   "source": [
    "alpha_l_eq2 = summationEquivalence.rhsSubstitute(alpha_l_eq1).proven(assumptions)\n",
    "alpha_l_eq2"
   ]
  },
  {
   "cell_type": "code",
   "execution_count": 22,
   "metadata": {
    "collapsed": false
   },
   "outputs": [
    {
     "data": {
      "text/latex": [
       "$\\alpha_{l} = \\left(\\frac{1}{2^{t}} \\cdot \\left(\\sum_{k=0}^{2^{t} - 1} \\left(e^{2 \\cdot \\pi \\cdot i \\cdot \\left(\\left(\\frac{b}{2^{t}} + \\delta\\right) - \\frac{b + l}{2^{t}}\\right)}\\right)^{k}\\right)\\right)$"
      ],
      "text/plain": [
       "$\\alpha_{l} = \\left(\\frac{1}{2^{t}} \\cdot \\left(\\sum_{k=0}^{2^{t} - 1} \\left(e^{2 \\cdot \\pi \\cdot i \\cdot \\left(\\left(\\frac{b}{2^{t}} + \\delta\\right) - \\frac{b + l}{2^{t}}\\right)}\\right)^{k}\\right)\\right)$"
      ]
     },
     "execution_count": 22,
     "metadata": {},
     "output_type": "execute_result"
    }
   ],
   "source": [
    "alpha_l_eq3 = phaseFromBest.rhsSubstitute(alpha_l_eq2).proven(assumptions)\n",
    "alpha_l_eq3"
   ]
  },
  {
   "cell_type": "code",
   "execution_count": 23,
   "metadata": {
    "collapsed": false
   },
   "outputs": [
    {
     "data": {
      "text/latex": [
       "$\\sum_{k=0}^{2^{t} - 1} \\left(e^{2 \\cdot \\pi \\cdot i \\cdot \\left(\\left(\\frac{b}{2^{t}} + \\delta\\right) - \\frac{b + l}{2^{t}}\\right)}\\right)^{k}$"
      ],
      "text/plain": [
       "$\\sum_{k=0}^{2^{t} - 1} \\left(e^{2 \\cdot \\pi \\cdot i \\cdot \\left(\\left(\\frac{b}{2^{t}} + \\delta\\right) - \\frac{b + l}{2^{t}}\\right)}\\right)^{k}$"
      ]
     },
     "execution_count": 23,
     "metadata": {},
     "output_type": "execute_result"
    }
   ],
   "source": [
    "extractSubExpr(alpha_l_eq3, subExprClass=Summation)"
   ]
  },
  {
   "cell_type": "code",
   "execution_count": 24,
   "metadata": {
    "collapsed": false
   },
   "outputs": [
    {
     "data": {
      "text/latex": [
       "$\\left(\\frac{b}{2^{t}} + \\delta\\right) - \\frac{b + l}{2^{t}}$"
      ],
      "text/plain": [
       "$\\left(\\frac{b}{2^{t}} + \\delta\\right) - \\frac{b + l}{2^{t}}$"
      ]
     },
     "execution_count": 24,
     "metadata": {},
     "output_type": "execute_result"
    }
   ],
   "source": [
    "phase1 = extractSubExpr(extractSubExpr(alpha_l_eq3, subExprClass=Summation).summand, subExprClass=Subtract)\n",
    "phase1"
   ]
  },
  {
   "cell_type": "code",
   "execution_count": 25,
   "metadata": {
    "collapsed": false
   },
   "outputs": [
    {
     "data": {
      "text/latex": [
       "$\\left(\\left(\\frac{b}{2^{t}} + \\delta\\right) - \\frac{b + l}{2^{t}}\\right) = \\left(\\left(\\frac{b}{2^{t}} + \\delta\\right) - \\left(\\frac{b}{2^{t}} + \\frac{l}{2^{t}}\\right)\\right)$"
      ],
      "text/plain": [
       "$\\left(\\left(\\frac{b}{2^{t}} + \\delta\\right) - \\frac{b + l}{2^{t}}\\right) = \\left(\\left(\\frac{b}{2^{t}} + \\delta\\right) - \\left(\\frac{b}{2^{t}} + \\frac{l}{2^{t}}\\right)\\right)$"
      ]
     },
     "execution_count": 25,
     "metadata": {},
     "output_type": "execute_result"
    }
   ],
   "source": [
    "phaseEq = Equation(phase1.operands[1].distribute(assumptions=assumptions).substitution(phase1))\n",
    "phaseEq.eqExpr.proven(assumptions)"
   ]
  },
  {
   "cell_type": "code",
   "execution_count": 26,
   "metadata": {
    "collapsed": false
   },
   "outputs": [
    {
     "data": {
      "text/latex": [
       "$\\left(\\left(\\frac{b}{2^{t}} + \\delta\\right) - \\frac{b + l}{2^{t}}\\right) = \\left(\\delta - \\frac{l}{2^{t}}\\right)$"
      ],
      "text/plain": [
       "$\\left(\\left(\\frac{b}{2^{t}} + \\delta\\right) - \\frac{b + l}{2^{t}}\\right) = \\left(\\delta - \\frac{l}{2^{t}}\\right)$"
      ]
     },
     "execution_count": 26,
     "metadata": {},
     "output_type": "execute_result"
    }
   ],
   "source": [
    "phaseEq.update(phaseEq.eqExpr.rhs.cancel(assumptions=assumptions)).proven(assumptions)"
   ]
  },
  {
   "cell_type": "code",
   "execution_count": 27,
   "metadata": {
    "collapsed": false
   },
   "outputs": [
    {
     "data": {
      "text/latex": [
       "$\\alpha_{l} = \\left(\\frac{1}{2^{t}} \\cdot \\left(\\sum_{k=0}^{2^{t} - 1} \\left(e^{2 \\cdot \\pi \\cdot i \\cdot \\left(\\delta - \\frac{l}{2^{t}}\\right)}\\right)^{k}\\right)\\right)$"
      ],
      "text/plain": [
       "$\\alpha_{l} = \\left(\\frac{1}{2^{t}} \\cdot \\left(\\sum_{k=0}^{2^{t} - 1} \\left(e^{2 \\cdot \\pi \\cdot i \\cdot \\left(\\delta - \\frac{l}{2^{t}}\\right)}\\right)^{k}\\right)\\right)$"
      ]
     },
     "execution_count": 27,
     "metadata": {},
     "output_type": "execute_result"
    }
   ],
   "source": [
    "alpha_l_eq4 = phaseEq.eqExpr.rhsSubstitute(alpha_l_eq3)\n",
    "alpha_l_eq4.proven(assumptions)"
   ]
  },
  {
   "cell_type": "code",
   "execution_count": 28,
   "metadata": {
    "collapsed": false
   },
   "outputs": [
    {
     "data": {
      "text/latex": [
       "$0 < \\left(2^{t} - 1\\right)$"
      ],
      "text/plain": [
       "$0 < \\left(2^{t} - 1\\right)$"
      ]
     },
     "execution_count": 28,
     "metadata": {},
     "output_type": "execute_result"
    }
   ],
   "source": [
    "deducePositive(Subtract(two_pow_t, one)).deriveReversed().proven(assumptions)"
   ]
  },
  {
   "cell_type": "code",
   "execution_count": 29,
   "metadata": {
    "collapsed": false
   },
   "outputs": [
    {
     "data": {
      "text/latex": [
       "$\\alpha_{l} = \\left(\\frac{1}{2^{t}} \\cdot \\frac{\\left(e^{2 \\cdot \\pi \\cdot i \\cdot \\left(\\delta - \\frac{l}{2^{t}}\\right)}\\right)^{\\left(2^{t} - 1\\right) + 1} - \\left(e^{2 \\cdot \\pi \\cdot i \\cdot \\left(\\delta - \\frac{l}{2^{t}}\\right)}\\right)^{0}}{e^{2 \\cdot \\pi \\cdot i \\cdot \\left(\\delta - \\frac{l}{2^{t}}\\right)} - 1}\\right)$"
      ],
      "text/plain": [
       "$\\alpha_{l} = \\left(\\frac{1}{2^{t}} \\cdot \\frac{\\left(e^{2 \\cdot \\pi \\cdot i \\cdot \\left(\\delta - \\frac{l}{2^{t}}\\right)}\\right)^{\\left(2^{t} - 1\\right) + 1} - \\left(e^{2 \\cdot \\pi \\cdot i \\cdot \\left(\\delta - \\frac{l}{2^{t}}\\right)}\\right)^{0}}{e^{2 \\cdot \\pi \\cdot i \\cdot \\left(\\delta - \\frac{l}{2^{t}}\\right)} - 1}\\right)$"
      ]
     },
     "execution_count": 29,
     "metadata": {},
     "output_type": "execute_result"
    }
   ],
   "source": [
    "alpha_l_eq5 = autoSubstitute(alpha_l_eq4, 'reduceGeomSum', [], {'assumptions':assumptions}, subExprClass=Summation)\n",
    "alpha_l_eq5.proven(assumptions)"
   ]
  },
  {
   "cell_type": "code",
   "execution_count": 30,
   "metadata": {
    "collapsed": false
   },
   "outputs": [
    {
     "data": {
      "text/latex": [
       "$\\alpha_{l} = \\left(\\frac{1}{2^{t}} \\cdot \\frac{\\left(e^{2 \\cdot \\pi \\cdot i \\cdot \\left(\\delta - \\frac{l}{2^{t}}\\right)}\\right)^{\\left(2^{t} - 1\\right) + 1} - 1}{e^{2 \\cdot \\pi \\cdot i \\cdot \\left(\\delta - \\frac{l}{2^{t}}\\right)} - 1}\\right)$"
      ],
      "text/plain": [
       "$\\alpha_{l} = \\left(\\frac{1}{2^{t}} \\cdot \\frac{\\left(e^{2 \\cdot \\pi \\cdot i \\cdot \\left(\\delta - \\frac{l}{2^{t}}\\right)}\\right)^{\\left(2^{t} - 1\\right) + 1} - 1}{e^{2 \\cdot \\pi \\cdot i \\cdot \\left(\\delta - \\frac{l}{2^{t}}\\right)} - 1}\\right)$"
      ]
     },
     "execution_count": 30,
     "metadata": {},
     "output_type": "execute_result"
    }
   ],
   "source": [
    "alpha_l_eq6 = autoSubstitute(alpha_l_eq5, 'simplification', [], {'assumptions':assumptions}, subExprClass=Exponentiate, suppressWarnings=True)\n",
    "alpha_l_eq6.proven(assumptions)"
   ]
  },
  {
   "cell_type": "code",
   "execution_count": 31,
   "metadata": {
    "collapsed": false
   },
   "outputs": [
    {
     "data": {
      "text/latex": [
       "$\\alpha_{l} = \\left(\\frac{1}{2^{t}} \\cdot \\frac{\\left(e^{2 \\cdot \\pi \\cdot i \\cdot \\left(\\delta - \\frac{l}{2^{t}}\\right)}\\right)^{2^{t}} - 1}{e^{2 \\cdot \\pi \\cdot i \\cdot \\left(\\delta - \\frac{l}{2^{t}}\\right)} - 1}\\right)$"
      ],
      "text/plain": [
       "$\\alpha_{l} = \\left(\\frac{1}{2^{t}} \\cdot \\frac{\\left(e^{2 \\cdot \\pi \\cdot i \\cdot \\left(\\delta - \\frac{l}{2^{t}}\\right)}\\right)^{2^{t}} - 1}{e^{2 \\cdot \\pi \\cdot i \\cdot \\left(\\delta - \\frac{l}{2^{t}}\\right)} - 1}\\right)$"
      ]
     },
     "execution_count": 31,
     "metadata": {},
     "output_type": "execute_result"
    }
   ],
   "source": [
    "from proveit.number.complex.theorems import cancelSubThenAdd\n",
    "from proveit.number.common import a, b\n",
    "deduceInComplexes([two_pow_t, one])\n",
    "exponentSimplification = cancelSubThenAdd.specialize({a:two_pow_t, b:one}).proven(assumptions)\n",
    "alpha_l_eq7 = exponentSimplification.rhsSubstitute(alpha_l_eq6)\n",
    "alpha_l_eq7"
   ]
  },
  {
   "cell_type": "code",
   "execution_count": 32,
   "metadata": {
    "collapsed": false
   },
   "outputs": [
    {
     "data": {
      "text/latex": [
       "$\\alpha_{l} = \\left(\\frac{1}{2^{t}} \\cdot \\frac{e^{\\left(2 \\cdot \\pi \\cdot i \\cdot \\left(\\delta - \\frac{l}{2^{t}}\\right)\\right) \\cdot 2^{t}} - 1}{e^{2 \\cdot \\pi \\cdot i \\cdot \\left(\\delta - \\frac{l}{2^{t}}\\right)} - 1}\\right)$"
      ],
      "text/plain": [
       "$\\alpha_{l} = \\left(\\frac{1}{2^{t}} \\cdot \\frac{e^{\\left(2 \\cdot \\pi \\cdot i \\cdot \\left(\\delta - \\frac{l}{2^{t}}\\right)\\right) \\cdot 2^{t}} - 1}{e^{2 \\cdot \\pi \\cdot i \\cdot \\left(\\delta - \\frac{l}{2^{t}}\\right)} - 1}\\right)$"
      ]
     },
     "execution_count": 32,
     "metadata": {},
     "output_type": "execute_result"
    }
   ],
   "source": [
    "alpha_l_eq8 = autoSubstitute(alpha_l_eq7, 'lowerOuterPow', [], {'assumptions':assumptions}, subExprClass=Exponentiate, suppressWarnings=True)\n",
    "alpha_l_eq8.proven(assumptions)"
   ]
  },
  {
   "cell_type": "code",
   "execution_count": 33,
   "metadata": {
    "collapsed": false
   },
   "outputs": [
    {
     "data": {
      "text/latex": [
       "$\\alpha_{l} = \\left(\\frac{1}{2^{t}} \\cdot \\frac{e^{2 \\cdot \\pi \\cdot i \\cdot \\left(\\delta - \\frac{l}{2^{t}}\\right) \\cdot 2^{t}} - 1}{e^{2 \\cdot \\pi \\cdot i \\cdot \\left(\\delta - \\frac{l}{2^{t}}\\right)} - 1}\\right)$"
      ],
      "text/plain": [
       "$\\alpha_{l} = \\left(\\frac{1}{2^{t}} \\cdot \\frac{e^{2 \\cdot \\pi \\cdot i \\cdot \\left(\\delta - \\frac{l}{2^{t}}\\right) \\cdot 2^{t}} - 1}{e^{2 \\cdot \\pi \\cdot i \\cdot \\left(\\delta - \\frac{l}{2^{t}}\\right)} - 1}\\right)$"
      ]
     },
     "execution_count": 33,
     "metadata": {},
     "output_type": "execute_result"
    }
   ],
   "source": [
    "alpha_l_eq9 = autoSubstitute(alpha_l_eq8, 'ungroup', [0], {'assumptions':assumptions}, subExprClass=Multiply, suppressWarnings=True)\n",
    "alpha_l_eq9.proven(assumptions)"
   ]
  },
  {
   "cell_type": "code",
   "execution_count": 34,
   "metadata": {
    "collapsed": false
   },
   "outputs": [
    {
     "data": {
      "text/latex": [
       "$\\alpha_{l} = \\left(\\frac{1}{2^{t}} \\cdot \\frac{e^{2 \\cdot \\pi \\cdot i \\cdot \\left(\\left(\\delta - \\frac{l}{2^{t}}\\right) \\cdot 2^{t}\\right)} - 1}{e^{2 \\cdot \\pi \\cdot i \\cdot \\left(\\delta - \\frac{l}{2^{t}}\\right)} - 1}\\right)$"
      ],
      "text/plain": [
       "$\\alpha_{l} = \\left(\\frac{1}{2^{t}} \\cdot \\frac{e^{2 \\cdot \\pi \\cdot i \\cdot \\left(\\left(\\delta - \\frac{l}{2^{t}}\\right) \\cdot 2^{t}\\right)} - 1}{e^{2 \\cdot \\pi \\cdot i \\cdot \\left(\\delta - \\frac{l}{2^{t}}\\right)} - 1}\\right)$"
      ]
     },
     "execution_count": 34,
     "metadata": {},
     "output_type": "execute_result"
    }
   ],
   "source": [
    "alpha_l_eq10 = autoSubstitute(alpha_l_eq9, 'group', [3,5], {'assumptions':assumptions}, subExprClass=Multiply, suppressWarnings=True)\n",
    "alpha_l_eq10.proven(assumptions)"
   ]
  },
  {
   "cell_type": "code",
   "execution_count": 35,
   "metadata": {
    "collapsed": false
   },
   "outputs": [
    {
     "data": {
      "text/latex": [
       "$\\alpha_{l} = \\left(\\frac{1}{2^{t}} \\cdot \\frac{e^{2 \\cdot \\pi \\cdot i \\cdot \\left(2^{t} \\cdot \\left(\\delta - \\frac{l}{2^{t}}\\right)\\right)} - 1}{e^{2 \\cdot \\pi \\cdot i \\cdot \\left(\\delta - \\frac{l}{2^{t}}\\right)} - 1}\\right)$"
      ],
      "text/plain": [
       "$\\alpha_{l} = \\left(\\frac{1}{2^{t}} \\cdot \\frac{e^{2 \\cdot \\pi \\cdot i \\cdot \\left(2^{t} \\cdot \\left(\\delta - \\frac{l}{2^{t}}\\right)\\right)} - 1}{e^{2 \\cdot \\pi \\cdot i \\cdot \\left(\\delta - \\frac{l}{2^{t}}\\right)} - 1}\\right)$"
      ]
     },
     "execution_count": 35,
     "metadata": {},
     "output_type": "execute_result"
    }
   ],
   "source": [
    "alpha_l_eq11 = autoSubstitute(alpha_l_eq10, 'commute', [], {'assumptions':assumptions}, subExprClass=Multiply, criteria=lambda expr:len(expr.operands)==2, suppressWarnings=True)\n",
    "alpha_l_eq11.proven(assumptions)"
   ]
  },
  {
   "cell_type": "code",
   "execution_count": 36,
   "metadata": {
    "collapsed": false
   },
   "outputs": [
    {
     "data": {
      "text/latex": [
       "$\\alpha_{l} = \\left(\\frac{1}{2^{t}} \\cdot \\frac{e^{2 \\cdot \\pi \\cdot i \\cdot \\left(\\left(2^{t} \\cdot \\delta\\right) - \\left(2^{t} \\cdot \\frac{l}{2^{t}}\\right)\\right)} - 1}{e^{2 \\cdot \\pi \\cdot i \\cdot \\left(\\delta - \\frac{l}{2^{t}}\\right)} - 1}\\right)$"
      ],
      "text/plain": [
       "$\\alpha_{l} = \\left(\\frac{1}{2^{t}} \\cdot \\frac{e^{2 \\cdot \\pi \\cdot i \\cdot \\left(\\left(2^{t} \\cdot \\delta\\right) - \\left(2^{t} \\cdot \\frac{l}{2^{t}}\\right)\\right)} - 1}{e^{2 \\cdot \\pi \\cdot i \\cdot \\left(\\delta - \\frac{l}{2^{t}}\\right)} - 1}\\right)$"
      ]
     },
     "execution_count": 36,
     "metadata": {},
     "output_type": "execute_result"
    }
   ],
   "source": [
    "alpha_l_eq12 = autoSubstitute(alpha_l_eq11, 'distribute', [1], {'assumptions':assumptions}, superExpr=alpha_l_eq11.rhs.operands[1].numerator, suppressWarnings=True)\n",
    "alpha_l_eq12.proven(assumptions)"
   ]
  },
  {
   "cell_type": "code",
   "execution_count": 37,
   "metadata": {
    "collapsed": false
   },
   "outputs": [
    {
     "data": {
      "text/latex": [
       "$\\alpha_{l} = \\left(\\frac{1}{2^{t}} \\cdot \\frac{e^{2 \\cdot \\pi \\cdot i \\cdot \\left(\\left(2^{t} \\cdot \\delta\\right) - l\\right)} - 1}{e^{2 \\cdot \\pi \\cdot i \\cdot \\left(\\delta - \\frac{l}{2^{t}}\\right)} - 1}\\right)$"
      ],
      "text/plain": [
       "$\\alpha_{l} = \\left(\\frac{1}{2^{t}} \\cdot \\frac{e^{2 \\cdot \\pi \\cdot i \\cdot \\left(\\left(2^{t} \\cdot \\delta\\right) - l\\right)} - 1}{e^{2 \\cdot \\pi \\cdot i \\cdot \\left(\\delta - \\frac{l}{2^{t}}\\right)} - 1}\\right)$"
      ]
     },
     "execution_count": 37,
     "metadata": {},
     "output_type": "execute_result"
    }
   ],
   "source": [
    "from proveit.number.complex.theorems import fracCancel5\n",
    "from proveit.common import x,y\n",
    "deduceInComplexes([two_pow_t, l], assumptions=assumptions)\n",
    "cancellation = fracCancel5.specialize({x:two_pow_t, y:l}).proven(assumptions)\n",
    "alpha_l_eq13 = cancellation.rhsSubstitute(alpha_l_eq12)\n",
    "alpha_l_eq13.proven(assumptions)"
   ]
  },
  {
   "cell_type": "code",
   "execution_count": 38,
   "metadata": {
    "collapsed": false
   },
   "outputs": [
    {
     "data": {
      "text/latex": [
       "$\\alpha_{l} = \\left(\\frac{1}{2^{t}} \\cdot \\frac{1 - e^{2 \\cdot \\pi \\cdot i \\cdot \\left(\\left(2^{t} \\cdot \\delta\\right) - l\\right)}}{1 - e^{2 \\cdot \\pi \\cdot i \\cdot \\left(\\delta - \\frac{l}{2^{t}}\\right)}}\\right)$"
      ],
      "text/plain": [
       "$\\alpha_{l} = \\left(\\frac{1}{2^{t}} \\cdot \\frac{1 - e^{2 \\cdot \\pi \\cdot i \\cdot \\left(\\left(2^{t} \\cdot \\delta\\right) - l\\right)}}{1 - e^{2 \\cdot \\pi \\cdot i \\cdot \\left(\\delta - \\frac{l}{2^{t}}\\right)}}\\right)$"
      ]
     },
     "execution_count": 38,
     "metadata": {},
     "output_type": "execute_result"
    }
   ],
   "source": [
    "from proveit.number.complex.theorems import reverseFractionOfSubtractions\n",
    "from proveit.common import w,x,y,z\n",
    "frac = alpha_l_eq13.rhs.operands[1]\n",
    "(wVal, xVal), (yVal, zVal) = frac.numerator.operands, frac.denominator.operands\n",
    "deduceInComplexes([wVal, xVal, yVal, zVal], assumptions=assumptions)\n",
    "reversal = reverseFractionOfSubtractions.specialize({w:wVal, x:xVal, y:yVal, z:zVal}).proven(assumptions)\n",
    "alpha_l_eq14 = reversal.rhsSubstitute(alpha_l_eq13)\n",
    "alpha_l_eq14.proven(assumptions)"
   ]
  },
  {
   "cell_type": "code",
   "execution_count": 39,
   "metadata": {
    "collapsed": false
   },
   "outputs": [
    {
     "name": "stdout",
     "output_type": "stream",
     "text": [
      "root forall_{l in Integers} (alpha_{l} = (1 / 2^(t) * (1 - e^(2 * pi * i * ((2^(t) * delta) - l))) / (1 - e^(2 * pi * i * (delta - l / 2^(t)))))) \n",
      "  generalizing alpha_{l} = (1 / 2^(t) * (1 - e^(2 * pi * i * ((2^(t) * delta) - l))) / (1 - e^(2 * pi * i * (delta - l / 2^(t)))))  assuming l in Integers \n",
      "    implication (alpha_{l} = (1 / 2^(t) * (e^(2 * pi * i * ((2^(t) * delta) - l)) - 1) / (e^(2 * pi * i * (delta - l / 2^(t))) - 1))) => (alpha_{l} = (1 / 2^(t) * (1 - e^(2 * pi * i * ((2^(t) * delta) - l))) / (1 - e^(2 * pi * i * (delta - l / 2^(t))))))  assuming l in Integers \n",
      "      implication ((e^(2 * pi * i * ((2^(t) * delta) - l)) - 1) / (e^(2 * pi * i * (delta - l / 2^(t))) - 1) = (1 - e^(2 * pi * i * ((2^(t) * delta) - l))) / (1 - e^(2 * pi * i * (delta - l / 2^(t))))) => ((alpha_{l} = (1 / 2^(t) * (e^(2 * pi * i * ((2^(t) * delta) - l)) - 1) / (e^(2 * pi * i * (delta - l / 2^(t))) - 1))) => (alpha_{l} = (1 / 2^(t) * (1 - e^(2 * pi * i * ((2^(t) * delta) - l))) / (1 - e^(2 * pi * i * (delta - l / 2^(t))))))) \n",
      "        specializing forall_{P, x, y} ((x = y) => (P(x) => P(y))) \n",
      "          by theorem proveit.basiclogic.equality.rhsSubstitution\n",
      "      hypothesis (e^(2 * pi * i * ((2^(t) * delta) - l)) - 1) / (e^(2 * pi * i * (delta - l / 2^(t))) - 1) = (1 - e^(2 * pi * i * ((2^(t) * delta) - l))) / (1 - e^(2 * pi * i * (delta - l / 2^(t))))  assuming l in Integers \n",
      "        specializing forall_{w, x, y, z in Complexes} ((w - x) / (y - z) = (x - w) / (z - y)) \n",
      "          by theorem proveit.number.complex.reverseFractionOfSubtractions\n",
      "        condition 1 in Complexes \n",
      "          specializing forall_{a in NaturalsPos} (a in Complexes) \n",
      "            by theorem proveit.number.natural.inNatPos_inComplexes\n",
      "          condition 1 in NaturalsPos \n",
      "            by theorem proveit.number.natural.oneInNaturalsPos\n",
      "        condition e^(2 * pi * i * (delta - l / 2^(t))) in Complexes  assuming l in Integers \n",
      "          specializing forall_{a, b in Complexes | a != 0} (a^(b) in Complexes) \n",
      "            by theorem proveit.number.complex.powClosure\n",
      "          condition e != 0 \n",
      "            specializing forall_{a in Reals | a > 0} (a != 0) \n",
      "              by theorem proveit.number.real.positive_implies_notzero\n",
      "            condition e in Reals \n",
      "              specializing forall_{a in RealsPos} (a in Reals) \n",
      "                by theorem proveit.number.real.inRealsPos_inReals\n",
      "              condition e in RealsPos \n",
      "                by theorem proveit.number.real.eInRealsPos\n",
      "            condition e > 0 \n",
      "              implication (e in RealsPos) => (e > 0) \n",
      "                implication ((e in RealsPos) <=> (e > 0)) => ((e in RealsPos) => (e > 0)) \n",
      "                  specializing forall_{A, B} ((A <=> B) => (A => B)) \n",
      "                    by theorem proveit.basiclogic.boolean.iffImpliesRight\n",
      "                hypothesis (e in RealsPos) <=> (e > 0) \n",
      "                  specializing forall_{a in Reals} ((a in RealsPos) <=> (a > 0)) \n",
      "                    by theorem proveit.number.real.inRealsPos_iff_positive\n",
      "                  condition e in Reals  proven above\n",
      "              hypothesis e in RealsPos  proven above\n",
      "          condition (2 * pi * i * (delta - l / 2^(t))) in Complexes  assuming l in Integers \n",
      "            specializing forall_{..x.. in Complexes} (( .. * x * .. ) in Complexes) \n",
      "              by theorem proveit.number.complex.multClosure\n",
      "            condition i in Complexes \n",
      "            condition (delta - l / 2^(t)) in Complexes  assuming l in Integers \n",
      "              specializing forall_{a in Reals} (a in Complexes) \n",
      "                by theorem proveit.number.real.inComplexes\n",
      "              condition (delta - l / 2^(t)) in Reals  assuming l in Integers \n",
      "                specializing forall_{a, b in Reals} ((a - b) in Reals) \n",
      "                  by theorem proveit.number.real.subtractClosure\n",
      "                condition l / 2^(t) in Reals  assuming l in Integers \n",
      "                  specializing forall_{a, b in Reals | b != 0} (a / b in Reals) \n",
      "                    by theorem proveit.number.real.fractionClosure\n",
      "                  condition l in Reals  assuming l in Integers \n",
      "                    specializing forall_{a in Integers} (a in Reals) \n",
      "                      by theorem proveit.number.integer.inReals\n",
      "                    condition l in Integers  assuming l in Integers \n",
      "                  condition 2^(t) != 0 \n",
      "                    specializing forall_{a in Reals | a > 0} (a != 0)  proven above\n",
      "                    condition 2^(t) in Reals \n",
      "                      specializing forall_{a in NaturalsPos} (a in Reals) \n",
      "                        by theorem proveit.number.natural.inNatPos_inReals\n",
      "                      condition 2^(t) in NaturalsPos \n",
      "                        specializing forall_{a, b in Naturals | a != 0} (a^(b) in NaturalsPos) \n",
      "                          by theorem proveit.number.natural.powClosure\n",
      "                        condition 2 != 0 \n",
      "                          specializing forall_{a in Reals | a > 0} (a != 0)  proven above\n",
      "                          condition 2 in Reals \n",
      "                            specializing forall_{a in NaturalsPos} (a in Reals)  proven above\n",
      "                            condition 2 in NaturalsPos \n",
      "                              by theorem proveit.number.natural.twoInNaturalsPos\n",
      "                          condition 2 > 0 \n",
      "                            implication (2 in RealsPos) => (2 > 0) \n",
      "                              implication ((2 in RealsPos) <=> (2 > 0)) => ((2 in RealsPos) => (2 > 0)) \n",
      "                                specializing forall_{A, B} ((A <=> B) => (A => B))  proven above\n",
      "                              hypothesis (2 in RealsPos) <=> (2 > 0) \n",
      "                                specializing forall_{a in Reals} ((a in RealsPos) <=> (a > 0))  proven above\n",
      "                                condition 2 in Reals  proven above\n",
      "                            hypothesis 2 in RealsPos \n",
      "                              specializing forall_{a in NaturalsPos} (a in RealsPos) \n",
      "                                by theorem proveit.number.natural.inNatPos_inRealsPos\n",
      "                              condition 2 in NaturalsPos  proven above\n",
      "                        condition t in Naturals \n",
      "                          specializing forall_{a in NaturalsPos} (a in Naturals) \n",
      "                            by theorem proveit.number.natural.inNatPos_inNaturals\n",
      "                          condition t in NaturalsPos \n",
      "                            by axiom proveit.physics.quantum.QPE.tInNaturalsPos\n",
      "                        condition 2 in Naturals \n",
      "                          by theorem proveit.number.natural.twoInNaturals\n",
      "                    condition 2^(t) > 0 \n",
      "                      implication (2^(t) in RealsPos) => (2^(t) > 0) \n",
      "                        implication ((2^(t) in RealsPos) <=> (2^(t) > 0)) => ((2^(t) in RealsPos) => (2^(t) > 0)) \n",
      "                          specializing forall_{A, B} ((A <=> B) => (A => B))  proven above\n",
      "                        hypothesis (2^(t) in RealsPos) <=> (2^(t) > 0) \n",
      "                          specializing forall_{a in Reals} ((a in RealsPos) <=> (a > 0))  proven above\n",
      "                          condition 2^(t) in Reals  proven above\n",
      "                      hypothesis 2^(t) in RealsPos \n",
      "                        specializing forall_{a in NaturalsPos} (a in RealsPos)  proven above\n",
      "                        condition 2^(t) in NaturalsPos  proven above\n",
      "                  condition 2^(t) in Reals  proven above\n",
      "                condition delta in Reals \n",
      "                  by theorem proveit.physics.quantum.QPE.deltaInReals\n",
      "            condition 2 in Complexes \n",
      "              specializing forall_{a in NaturalsPos} (a in Complexes)  proven above\n",
      "              condition 2 in NaturalsPos  proven above\n",
      "            condition pi in Complexes \n",
      "              specializing forall_{a in RealsPos} (a in Complexes) \n",
      "                by theorem proveit.number.real.inRealsPos_inComplexes\n",
      "              condition pi in RealsPos \n",
      "          condition e in Complexes \n",
      "            specializing forall_{a in RealsPos} (a in Complexes)  proven above\n",
      "            condition e in RealsPos  proven above\n",
      "        condition e^(2 * pi * i * ((2^(t) * delta) - l)) in Complexes  assuming l in Integers \n",
      "          specializing forall_{a, b in Complexes | a != 0} (a^(b) in Complexes)  proven above\n",
      "          condition e != 0  proven above\n",
      "          condition (2 * pi * i * ((2^(t) * delta) - l)) in Complexes  assuming l in Integers \n",
      "            specializing forall_{..x.. in Complexes} (( .. * x * .. ) in Complexes)  proven above\n",
      "            condition i in Complexes  proven above\n",
      "            condition ((2^(t) * delta) - l) in Complexes  assuming l in Integers \n",
      "              specializing forall_{a in Reals} (a in Complexes)  proven above\n",
      "              condition ((2^(t) * delta) - l) in Reals  assuming l in Integers \n",
      "                specializing forall_{a, b in Reals} ((a - b) in Reals)  proven above\n",
      "                condition l in Reals  assuming l in Integers  proven above\n",
      "                condition (2^(t) * delta) in Reals \n",
      "                  specializing forall_{..x.. in Reals} (( .. * x * .. ) in Reals) \n",
      "                    by theorem proveit.number.real.multClosure\n",
      "                  condition delta in Reals  proven above\n",
      "                  condition 2^(t) in Reals  proven above\n",
      "            condition 2 in Complexes  proven above\n",
      "            condition pi in Complexes  proven above\n",
      "          condition e in Complexes  proven above\n",
      "    hypothesis alpha_{l} = (1 / 2^(t) * (e^(2 * pi * i * ((2^(t) * delta) - l)) - 1) / (e^(2 * pi * i * (delta - l / 2^(t))) - 1))  assuming l in Integers \n",
      "      implication (alpha_{l} = (1 / 2^(t) * (e^(2 * pi * i * ((2^(t) * delta) - (2^(t) * l / 2^(t)))) - 1) / (e^(2 * pi * i * (delta - l / 2^(t))) - 1))) => (alpha_{l} = (1 / 2^(t) * (e^(2 * pi * i * ((2^(t) * delta) - l)) - 1) / (e^(2 * pi * i * (delta - l / 2^(t))) - 1)))  assuming l in Integers \n",
      "        implication ((2^(t) * l / 2^(t)) = l) => ((alpha_{l} = (1 / 2^(t) * (e^(2 * pi * i * ((2^(t) * delta) - (2^(t) * l / 2^(t)))) - 1) / (e^(2 * pi * i * (delta - l / 2^(t))) - 1))) => (alpha_{l} = (1 / 2^(t) * (e^(2 * pi * i * ((2^(t) * delta) - l)) - 1) / (e^(2 * pi * i * (delta - l / 2^(t))) - 1)))) \n",
      "          specializing forall_{P, x, y} ((x = y) => (P(x) => P(y)))  proven above\n",
      "        hypothesis (2^(t) * l / 2^(t)) = l  assuming l in Integers \n",
      "          specializing forall_{x, y in Complexes | x != 0} ((x * y / x) = y) \n",
      "            by theorem proveit.number.complex.fracCancel5\n",
      "          condition l in Complexes  assuming l in Integers \n",
      "            specializing forall_{a in Integers} (a in Complexes) \n",
      "              by theorem proveit.number.integer.inComplexes\n",
      "            condition l in Integers  assuming l in Integers  proven above\n",
      "          condition 2^(t) != 0  proven above\n",
      "          condition 2^(t) in Complexes \n",
      "            specializing forall_{a in NaturalsPos} (a in Complexes)  proven above\n",
      "            condition 2^(t) in NaturalsPos  proven above\n",
      "      hypothesis alpha_{l} = (1 / 2^(t) * (e^(2 * pi * i * ((2^(t) * delta) - (2^(t) * l / 2^(t)))) - 1) / (e^(2 * pi * i * (delta - l / 2^(t))) - 1))  assuming l in Integers \n",
      "        implication (alpha_{l} = (1 / 2^(t) * (e^(2 * pi * i * (2^(t) * (delta - l / 2^(t)))) - 1) / (e^(2 * pi * i * (delta - l / 2^(t))) - 1))) => (alpha_{l} = (1 / 2^(t) * (e^(2 * pi * i * ((2^(t) * delta) - (2^(t) * l / 2^(t)))) - 1) / (e^(2 * pi * i * (delta - l / 2^(t))) - 1)))  assuming l in Integers \n",
      "          implication ((2^(t) * (delta - l / 2^(t))) = ((2^(t) * delta) - (2^(t) * l / 2^(t)))) => ((alpha_{l} = (1 / 2^(t) * (e^(2 * pi * i * (2^(t) * (delta - l / 2^(t)))) - 1) / (e^(2 * pi * i * (delta - l / 2^(t))) - 1))) => (alpha_{l} = (1 / 2^(t) * (e^(2 * pi * i * ((2^(t) * delta) - (2^(t) * l / 2^(t)))) - 1) / (e^(2 * pi * i * (delta - l / 2^(t))) - 1)))) \n",
      "            specializing forall_{P, x, y} ((x = y) => (P(x) => P(y)))  proven above\n",
      "          hypothesis (2^(t) * (delta - l / 2^(t))) = ((2^(t) * delta) - (2^(t) * l / 2^(t)))  assuming l in Integers \n",
      "            specializing forall_{..w.., x, y, ..z.. in Complexes} (( .. * w * ..  * (x - y) *  .. * z * .. ) = (( .. * w * ..  * x *  .. * z * .. ) - ( .. * w * ..  * y *  .. * z * .. ))) \n",
      "              by theorem proveit.number.complex.distributeThroughSubtract\n",
      "            condition delta in Complexes \n",
      "              specializing forall_{a in Reals} (a in Complexes)  proven above\n",
      "              condition delta in Reals  proven above\n",
      "            condition 2^(t) in Complexes  proven above\n",
      "            condition l / 2^(t) in Complexes  assuming l in Integers \n",
      "              specializing forall_{a in Reals} (a in Complexes)  proven above\n",
      "              condition l / 2^(t) in Reals  assuming l in Integers  proven above\n",
      "        hypothesis alpha_{l} = (1 / 2^(t) * (e^(2 * pi * i * (2^(t) * (delta - l / 2^(t)))) - 1) / (e^(2 * pi * i * (delta - l / 2^(t))) - 1))  assuming l in Integers \n",
      "          implication (alpha_{l} = (1 / 2^(t) * (e^(2 * pi * i * ((delta - l / 2^(t)) * 2^(t))) - 1) / (e^(2 * pi * i * (delta - l / 2^(t))) - 1))) => (alpha_{l} = (1 / 2^(t) * (e^(2 * pi * i * (2^(t) * (delta - l / 2^(t)))) - 1) / (e^(2 * pi * i * (delta - l / 2^(t))) - 1)))  assuming l in Integers \n",
      "            implication (((delta - l / 2^(t)) * 2^(t)) = (2^(t) * (delta - l / 2^(t)))) => ((alpha_{l} = (1 / 2^(t) * (e^(2 * pi * i * ((delta - l / 2^(t)) * 2^(t))) - 1) / (e^(2 * pi * i * (delta - l / 2^(t))) - 1))) => (alpha_{l} = (1 / 2^(t) * (e^(2 * pi * i * (2^(t) * (delta - l / 2^(t)))) - 1) / (e^(2 * pi * i * (delta - l / 2^(t))) - 1)))) \n",
      "              specializing forall_{P, x, y} ((x = y) => (P(x) => P(y)))  proven above\n",
      "            hypothesis ((delta - l / 2^(t)) * 2^(t)) = (2^(t) * (delta - l / 2^(t)))  assuming l in Integers \n",
      "              specializing forall_{..v.., ..w.., ..x.., ..y.., ..z.. in Complexes} (( .. * v * ... * w * ... * x * ... * y * ... * z * .. ) = ( .. * v * ... * y * ... * x * ... * w * ... * z * .. )) \n",
      "                by theorem proveit.number.complex.multComm\n",
      "              condition (delta - l / 2^(t)) in Complexes  assuming l in Integers  proven above\n",
      "              condition 2^(t) in Complexes  proven above\n",
      "          hypothesis alpha_{l} = (1 / 2^(t) * (e^(2 * pi * i * ((delta - l / 2^(t)) * 2^(t))) - 1) / (e^(2 * pi * i * (delta - l / 2^(t))) - 1))  assuming l in Integers \n",
      "            implication (alpha_{l} = (1 / 2^(t) * (e^(2 * pi * i * (delta - l / 2^(t)) * 2^(t)) - 1) / (e^(2 * pi * i * (delta - l / 2^(t))) - 1))) => (alpha_{l} = (1 / 2^(t) * (e^(2 * pi * i * ((delta - l / 2^(t)) * 2^(t))) - 1) / (e^(2 * pi * i * (delta - l / 2^(t))) - 1)))  assuming l in Integers \n",
      "              implication ((2 * pi * i * (delta - l / 2^(t)) * 2^(t)) = (2 * pi * i * ((delta - l / 2^(t)) * 2^(t)))) => ((alpha_{l} = (1 / 2^(t) * (e^(2 * pi * i * (delta - l / 2^(t)) * 2^(t)) - 1) / (e^(2 * pi * i * (delta - l / 2^(t))) - 1))) => (alpha_{l} = (1 / 2^(t) * (e^(2 * pi * i * ((delta - l / 2^(t)) * 2^(t))) - 1) / (e^(2 * pi * i * (delta - l / 2^(t))) - 1)))) \n",
      "                specializing forall_{P, x, y} ((x = y) => (P(x) => P(y)))  proven above\n",
      "              hypothesis (2 * pi * i * (delta - l / 2^(t)) * 2^(t)) = (2 * pi * i * ((delta - l / 2^(t)) * 2^(t)))  assuming l in Integers \n",
      "                specializing forall_{..x.., ..y.., ..z.. in Complexes} (( .. * x * ... * y * ... * z * .. ) = ( .. * x * ..  * ( .. * y * .. ) *  .. * z * .. )) \n",
      "                  by theorem proveit.number.complex.multAssoc\n",
      "                condition i in Complexes  proven above\n",
      "                condition (delta - l / 2^(t)) in Complexes  assuming l in Integers  proven above\n",
      "                condition 2^(t) in Complexes  proven above\n",
      "                condition 2 in Complexes  proven above\n",
      "                condition pi in Complexes  proven above\n",
      "            hypothesis alpha_{l} = (1 / 2^(t) * (e^(2 * pi * i * (delta - l / 2^(t)) * 2^(t)) - 1) / (e^(2 * pi * i * (delta - l / 2^(t))) - 1))  assuming l in Integers \n",
      "              implication (alpha_{l} = (1 / 2^(t) * (e^((2 * pi * i * (delta - l / 2^(t))) * 2^(t)) - 1) / (e^(2 * pi * i * (delta - l / 2^(t))) - 1))) => (alpha_{l} = (1 / 2^(t) * (e^(2 * pi * i * (delta - l / 2^(t)) * 2^(t)) - 1) / (e^(2 * pi * i * (delta - l / 2^(t))) - 1)))  assuming l in Integers \n",
      "                implication (((2 * pi * i * (delta - l / 2^(t))) * 2^(t)) = (2 * pi * i * (delta - l / 2^(t)) * 2^(t))) => ((alpha_{l} = (1 / 2^(t) * (e^((2 * pi * i * (delta - l / 2^(t))) * 2^(t)) - 1) / (e^(2 * pi * i * (delta - l / 2^(t))) - 1))) => (alpha_{l} = (1 / 2^(t) * (e^(2 * pi * i * (delta - l / 2^(t)) * 2^(t)) - 1) / (e^(2 * pi * i * (delta - l / 2^(t))) - 1)))) \n",
      "                  specializing forall_{P, x, y} ((x = y) => (P(x) => P(y)))  proven above\n",
      "                hypothesis ((2 * pi * i * (delta - l / 2^(t))) * 2^(t)) = (2 * pi * i * (delta - l / 2^(t)) * 2^(t))  assuming l in Integers \n",
      "                  specializing forall_{..x.., ..y.., ..z.. in Complexes} (( .. * x * ..  * ( .. * y * .. ) *  .. * z * .. ) = ( .. * x * ... * y * ... * z * .. )) \n",
      "                    by theorem proveit.number.complex.multAssocRev\n",
      "                  condition i in Complexes  proven above\n",
      "                  condition (delta - l / 2^(t)) in Complexes  assuming l in Integers  proven above\n",
      "                  condition 2^(t) in Complexes  proven above\n",
      "                  condition 2 in Complexes  proven above\n",
      "                  condition pi in Complexes  proven above\n",
      "              hypothesis alpha_{l} = (1 / 2^(t) * (e^((2 * pi * i * (delta - l / 2^(t))) * 2^(t)) - 1) / (e^(2 * pi * i * (delta - l / 2^(t))) - 1))  assuming l in Integers \n",
      "                implication (alpha_{l} = (1 / 2^(t) * ((e^(2 * pi * i * (delta - l / 2^(t))))^(2^(t)) - 1) / (e^(2 * pi * i * (delta - l / 2^(t))) - 1))) => (alpha_{l} = (1 / 2^(t) * (e^((2 * pi * i * (delta - l / 2^(t))) * 2^(t)) - 1) / (e^(2 * pi * i * (delta - l / 2^(t))) - 1)))  assuming l in Integers \n",
      "                  implication ((e^(2 * pi * i * (delta - l / 2^(t))))^(2^(t)) = e^((2 * pi * i * (delta - l / 2^(t))) * 2^(t))) => ((alpha_{l} = (1 / 2^(t) * ((e^(2 * pi * i * (delta - l / 2^(t))))^(2^(t)) - 1) / (e^(2 * pi * i * (delta - l / 2^(t))) - 1))) => (alpha_{l} = (1 / 2^(t) * (e^((2 * pi * i * (delta - l / 2^(t))) * 2^(t)) - 1) / (e^(2 * pi * i * (delta - l / 2^(t))) - 1)))) \n",
      "                    specializing forall_{P, x, y} ((x = y) => (P(x) => P(y)))  proven above\n",
      "                  hypothesis (e^(2 * pi * i * (delta - l / 2^(t))))^(2^(t)) = e^((2 * pi * i * (delta - l / 2^(t))) * 2^(t))  assuming l in Integers \n",
      "                    specializing forall_{a, b, c in Complexes} ((a^(b))^(c) = a^(b * c)) \n",
      "                      by theorem proveit.number.complex.powOfPow\n",
      "                    condition e in Complexes  proven above\n",
      "                    condition 2^(t) in Complexes  proven above\n",
      "                    condition (2 * pi * i * (delta - l / 2^(t))) in Complexes  assuming l in Integers  proven above\n",
      "                hypothesis alpha_{l} = (1 / 2^(t) * ((e^(2 * pi * i * (delta - l / 2^(t))))^(2^(t)) - 1) / (e^(2 * pi * i * (delta - l / 2^(t))) - 1))  assuming l in Integers \n",
      "                  implication (alpha_{l} = (1 / 2^(t) * ((e^(2 * pi * i * (delta - l / 2^(t))))^((2^(t) - 1) + 1) - 1) / (e^(2 * pi * i * (delta - l / 2^(t))) - 1))) => (alpha_{l} = (1 / 2^(t) * ((e^(2 * pi * i * (delta - l / 2^(t))))^(2^(t)) - 1) / (e^(2 * pi * i * (delta - l / 2^(t))) - 1))) \n",
      "                    implication (((2^(t) - 1) + 1) = 2^(t)) => ((alpha_{l} = (1 / 2^(t) * ((e^(2 * pi * i * (delta - l / 2^(t))))^((2^(t) - 1) + 1) - 1) / (e^(2 * pi * i * (delta - l / 2^(t))) - 1))) => (alpha_{l} = (1 / 2^(t) * ((e^(2 * pi * i * (delta - l / 2^(t))))^(2^(t)) - 1) / (e^(2 * pi * i * (delta - l / 2^(t))) - 1)))) \n",
      "                      specializing forall_{P, x, y} ((x = y) => (P(x) => P(y)))  proven above\n",
      "                    hypothesis ((2^(t) - 1) + 1) = 2^(t) \n",
      "                      specializing forall_{a, b in Complexes} (((a - b) + b) = a) \n",
      "                        by theorem proveit.number.complex.cancelSubThenAdd\n",
      "                      condition 2^(t) in Complexes  proven above\n",
      "                      condition 1 in Complexes  proven above\n",
      "                  hypothesis alpha_{l} = (1 / 2^(t) * ((e^(2 * pi * i * (delta - l / 2^(t))))^((2^(t) - 1) + 1) - 1) / (e^(2 * pi * i * (delta - l / 2^(t))) - 1))  assuming l in Integers \n",
      "                    implication (alpha_{l} = (1 / 2^(t) * ((e^(2 * pi * i * (delta - l / 2^(t))))^((2^(t) - 1) + 1) - (e^(2 * pi * i * (delta - l / 2^(t))))^(0)) / (e^(2 * pi * i * (delta - l / 2^(t))) - 1))) => (alpha_{l} = (1 / 2^(t) * ((e^(2 * pi * i * (delta - l / 2^(t))))^((2^(t) - 1) + 1) - 1) / (e^(2 * pi * i * (delta - l / 2^(t))) - 1)))  assuming l in Integers \n",
      "                      implication ((e^(2 * pi * i * (delta - l / 2^(t))))^(0) = 1) => ((alpha_{l} = (1 / 2^(t) * ((e^(2 * pi * i * (delta - l / 2^(t))))^((2^(t) - 1) + 1) - (e^(2 * pi * i * (delta - l / 2^(t))))^(0)) / (e^(2 * pi * i * (delta - l / 2^(t))) - 1))) => (alpha_{l} = (1 / 2^(t) * ((e^(2 * pi * i * (delta - l / 2^(t))))^((2^(t) - 1) + 1) - 1) / (e^(2 * pi * i * (delta - l / 2^(t))) - 1)))) \n",
      "                        specializing forall_{P, x, y} ((x = y) => (P(x) => P(y)))  proven above\n",
      "                      hypothesis (e^(2 * pi * i * (delta - l / 2^(t))))^(0) = 1  assuming l in Integers \n",
      "                        specializing forall_{a in Complexes | a != 0} (a^(0) = 1) \n",
      "                          by theorem proveit.number.complex.powZeroEqOne\n",
      "                        condition e^(2 * pi * i * (delta - l / 2^(t))) in Complexes  assuming l in Integers  proven above\n",
      "                        condition e^(2 * pi * i * (delta - l / 2^(t))) != 0  assuming l in Integers \n",
      "                          specializing forall_{a, b in Complexes | a != 0} (a^(b) != 0) \n",
      "                            by theorem proveit.number.complex.powNotEqZero\n",
      "                          condition e != 0  proven above\n",
      "                          condition (2 * pi * i * (delta - l / 2^(t))) in Complexes  assuming l in Integers  proven above\n",
      "                          condition e in Complexes  proven above\n",
      "                    hypothesis alpha_{l} = (1 / 2^(t) * ((e^(2 * pi * i * (delta - l / 2^(t))))^((2^(t) - 1) + 1) - (e^(2 * pi * i * (delta - l / 2^(t))))^(0)) / (e^(2 * pi * i * (delta - l / 2^(t))) - 1))  assuming l in Integers \n",
      "                      implication (alpha_{l} = (1 / 2^(t) * (Summation_{k=0}^{2^(t) - 1} (e^(2 * pi * i * (delta - l / 2^(t))))^(k)))) => (alpha_{l} = (1 / 2^(t) * ((e^(2 * pi * i * (delta - l / 2^(t))))^((2^(t) - 1) + 1) - (e^(2 * pi * i * (delta - l / 2^(t))))^(0)) / (e^(2 * pi * i * (delta - l / 2^(t))) - 1)))  assuming l in Integers \n",
      "                        implication ((Summation_{k=0}^{2^(t) - 1} (e^(2 * pi * i * (delta - l / 2^(t))))^(k)) = ((e^(2 * pi * i * (delta - l / 2^(t))))^((2^(t) - 1) + 1) - (e^(2 * pi * i * (delta - l / 2^(t))))^(0)) / (e^(2 * pi * i * (delta - l / 2^(t))) - 1)) => ((alpha_{l} = (1 / 2^(t) * (Summation_{k=0}^{2^(t) - 1} (e^(2 * pi * i * (delta - l / 2^(t))))^(k)))) => (alpha_{l} = (1 / 2^(t) * ((e^(2 * pi * i * (delta - l / 2^(t))))^((2^(t) - 1) + 1) - (e^(2 * pi * i * (delta - l / 2^(t))))^(0)) / (e^(2 * pi * i * (delta - l / 2^(t))) - 1)))) \n",
      "                          specializing forall_{P, x, y} ((x = y) => (P(x) => P(y)))  proven above\n",
      "                        hypothesis (Summation_{k=0}^{2^(t) - 1} (e^(2 * pi * i * (delta - l / 2^(t))))^(k)) = ((e^(2 * pi * i * (delta - l / 2^(t))))^((2^(t) - 1) + 1) - (e^(2 * pi * i * (delta - l / 2^(t))))^(0)) / (e^(2 * pi * i * (delta - l / 2^(t))) - 1)  assuming l in Integers \n",
      "                          specializing forall_{x, k, l | k in Integers, l in Integers, x in Complexes, k < l} ((Summation_{m=k}^{l} x^(m)) = (x^(l + 1) - x^(k)) / (x - 1)) \n",
      "                            by theorem proveit.number.finGeomSum\n",
      "                          condition 0 in Integers \n",
      "                            specializing forall_{a in Naturals} (a in Integers) \n",
      "                              by theorem proveit.number.natural.inIntegers\n",
      "                            condition 0 in Naturals \n",
      "                          condition (2^(t) - 1) in Integers \n",
      "                            specializing forall_{a in NaturalsPos} (a in Integers) \n",
      "                              by theorem proveit.number.natural.inNatPos_inIntegers\n",
      "                            condition (2^(t) - 1) in NaturalsPos \n",
      "                              by theorem proveit.physics.quantum.QPE.two_pow_t_less_one_in_posnats\n",
      "                          condition 0 < (2^(t) - 1) \n",
      "                            implication ((2^(t) - 1) > 0) => (0 < (2^(t) - 1)) \n",
      "                              specializing forall_{x, y} ((x > y) => (y < x)) \n",
      "                                by axiom proveit.number.reverseGreaterThan\n",
      "                            hypothesis (2^(t) - 1) > 0 \n",
      "                              implication ((2^(t) - 1) in RealsPos) => ((2^(t) - 1) > 0) \n",
      "                                implication (((2^(t) - 1) in RealsPos) <=> ((2^(t) - 1) > 0)) => (((2^(t) - 1) in RealsPos) => ((2^(t) - 1) > 0)) \n",
      "                                  specializing forall_{A, B} ((A <=> B) => (A => B))  proven above\n",
      "                                hypothesis ((2^(t) - 1) in RealsPos) <=> ((2^(t) - 1) > 0) \n",
      "                                  specializing forall_{a in Reals} ((a in RealsPos) <=> (a > 0))  proven above\n",
      "                                  condition (2^(t) - 1) in Reals \n",
      "                                    specializing forall_{a in NaturalsPos} (a in Reals)  proven above\n",
      "                                    condition (2^(t) - 1) in NaturalsPos  proven above\n",
      "                              hypothesis (2^(t) - 1) in RealsPos \n",
      "                                specializing forall_{a in NaturalsPos} (a in RealsPos)  proven above\n",
      "                                condition (2^(t) - 1) in NaturalsPos  proven above\n",
      "                          condition e^(2 * pi * i * (delta - l / 2^(t))) in Complexes  assuming l in Integers  proven above\n",
      "                      hypothesis alpha_{l} = (1 / 2^(t) * (Summation_{k=0}^{2^(t) - 1} (e^(2 * pi * i * (delta - l / 2^(t))))^(k)))  assuming l in Integers \n",
      "                        implication (alpha_{l} = (1 / 2^(t) * (Summation_{k=0}^{2^(t) - 1} (e^(2 * pi * i * ((b / 2^(t) + delta) - (b + l) / 2^(t))))^(k)))) => (alpha_{l} = (1 / 2^(t) * (Summation_{k=0}^{2^(t) - 1} (e^(2 * pi * i * (delta - l / 2^(t))))^(k))))  assuming l in Integers \n",
      "                          implication (((b / 2^(t) + delta) - (b + l) / 2^(t)) = (delta - l / 2^(t))) => ((alpha_{l} = (1 / 2^(t) * (Summation_{k=0}^{2^(t) - 1} (e^(2 * pi * i * ((b / 2^(t) + delta) - (b + l) / 2^(t))))^(k)))) => (alpha_{l} = (1 / 2^(t) * (Summation_{k=0}^{2^(t) - 1} (e^(2 * pi * i * (delta - l / 2^(t))))^(k))))) \n",
      "                            specializing forall_{P, x, y} ((x = y) => (P(x) => P(y)))  proven above\n",
      "                          hypothesis ((b / 2^(t) + delta) - (b + l) / 2^(t)) = (delta - l / 2^(t))  assuming l in Integers \n",
      "                            implication (((b / 2^(t) + delta) - (b / 2^(t) + l / 2^(t))) = (delta - l / 2^(t))) => (((b / 2^(t) + delta) - (b + l) / 2^(t)) = (delta - l / 2^(t)))  assuming l in Integers \n",
      "                              implication (((b / 2^(t) + delta) - (b + l) / 2^(t)) = ((b / 2^(t) + delta) - (b / 2^(t) + l / 2^(t)))) => ((((b / 2^(t) + delta) - (b / 2^(t) + l / 2^(t))) = (delta - l / 2^(t))) => (((b / 2^(t) + delta) - (b + l) / 2^(t)) = (delta - l / 2^(t)))) \n",
      "                                specializing forall_{x, y, z} ((x = y) => ((y = z) => (x = z))) \n",
      "                                  by axiom proveit.basiclogic.equality.equalsTransitivity\n",
      "                              hypothesis ((b / 2^(t) + delta) - (b + l) / 2^(t)) = ((b / 2^(t) + delta) - (b / 2^(t) + l / 2^(t)))  assuming l in Integers \n",
      "                                implication ((b + l) / 2^(t) = (b / 2^(t) + l / 2^(t))) => (((b / 2^(t) + delta) - (b + l) / 2^(t)) = ((b / 2^(t) + delta) - (b / 2^(t) + l / 2^(t)))) \n",
      "                                  specializing forall_{f, x, y} ((x = y) => (f(x) = f(y))) \n",
      "                                    by axiom proveit.basiclogic.equality.substitution\n",
      "                                hypothesis (b + l) / 2^(t) = (b / 2^(t) + l / 2^(t))  assuming l in Integers \n",
      "                                  specializing forall_{..x.., y in Complexes | y != 0} (( .. + x + .. ) / y = ( .. + x / y + .. )) \n",
      "                                    by theorem proveit.number.complex.distributeFractionThroughSum\n",
      "                                  condition l in Complexes  assuming l in Integers  proven above\n",
      "                                  condition 2^(t) != 0  proven above\n",
      "                                  condition 2^(t) in Complexes  proven above\n",
      "                                  condition b in Complexes \n",
      "                                    specializing forall_{a in Integers} (a in Complexes)  proven above\n",
      "                                    condition b in Integers \n",
      "                                      by theorem proveit.physics.quantum.QPE.bestInInts\n",
      "                            hypothesis ((b / 2^(t) + delta) - (b / 2^(t) + l / 2^(t))) = (delta - l / 2^(t))  assuming l in Integers \n",
      "                              specializing forall_{x, y, z in Complexes} (((x + y) - (x + z)) = (y - z)) \n",
      "                                by theorem proveit.number.complex.subtractCancelElimSums\n",
      "                              condition b / 2^(t) in Complexes \n",
      "                                specializing forall_{a in Reals} (a in Complexes)  proven above\n",
      "                                condition b / 2^(t) in Reals \n",
      "                                  specializing forall_{a, b in Reals | b != 0} (a / b in Reals)  proven above\n",
      "                                  condition b in Reals \n",
      "                                    specializing forall_{a in Integers} (a in Reals)  proven above\n",
      "                                    condition b in Integers  proven above\n",
      "                                  condition 2^(t) != 0  proven above\n",
      "                                  condition 2^(t) in Reals  proven above\n",
      "                              condition l / 2^(t) in Complexes  assuming l in Integers  proven above\n",
      "                              condition delta in Complexes  proven above\n",
      "                        hypothesis alpha_{l} = (1 / 2^(t) * (Summation_{k=0}^{2^(t) - 1} (e^(2 * pi * i * ((b / 2^(t) + delta) - (b + l) / 2^(t))))^(k)))  assuming l in Integers \n",
      "                          implication (alpha_{l} = (1 / 2^(t) * (Summation_{k=0}^{2^(t) - 1} (e^(2 * pi * i * (phase - (b + l) / 2^(t))))^(k)))) => (alpha_{l} = (1 / 2^(t) * (Summation_{k=0}^{2^(t) - 1} (e^(2 * pi * i * ((b / 2^(t) + delta) - (b + l) / 2^(t))))^(k)))) \n",
      "                            implication (phase = (b / 2^(t) + delta)) => ((alpha_{l} = (1 / 2^(t) * (Summation_{k=0}^{2^(t) - 1} (e^(2 * pi * i * (phase - (b + l) / 2^(t))))^(k)))) => (alpha_{l} = (1 / 2^(t) * (Summation_{k=0}^{2^(t) - 1} (e^(2 * pi * i * ((b / 2^(t) + delta) - (b + l) / 2^(t))))^(k))))) \n",
      "                              specializing forall_{P, x, y} ((x = y) => (P(x) => P(y)))  proven above\n",
      "                            hypothesis phase = (b / 2^(t) + delta) \n",
      "                              by theorem proveit.physics.quantum.QPE.phaseFromBest\n",
      "                          hypothesis alpha_{l} = (1 / 2^(t) * (Summation_{k=0}^{2^(t) - 1} (e^(2 * pi * i * (phase - (b + l) / 2^(t))))^(k)))  assuming l in Integers \n",
      "                            implication (alpha_{l} = (1 / 2^(t) * (Summation_{k=0}^{2^(t) - 1} (e^((-(2 * pi * i * k * (b MOD_ADD l))) / 2^(t)) * e^(2 * pi * i * phase * k))))) => (alpha_{l} = (1 / 2^(t) * (Summation_{k=0}^{2^(t) - 1} (e^(2 * pi * i * (phase - (b + l) / 2^(t))))^(k))))  assuming l in Integers \n",
      "                              implication ((Summation_{k=0}^{2^(t) - 1} (e^((-(2 * pi * i * k * (b MOD_ADD l))) / 2^(t)) * e^(2 * pi * i * phase * k))) = (Summation_{k=0}^{2^(t) - 1} (e^(2 * pi * i * (phase - (b + l) / 2^(t))))^(k))) => ((alpha_{l} = (1 / 2^(t) * (Summation_{k=0}^{2^(t) - 1} (e^((-(2 * pi * i * k * (b MOD_ADD l))) / 2^(t)) * e^(2 * pi * i * phase * k))))) => (alpha_{l} = (1 / 2^(t) * (Summation_{k=0}^{2^(t) - 1} (e^(2 * pi * i * (phase - (b + l) / 2^(t))))^(k))))) \n",
      "                                specializing forall_{P, x, y} ((x = y) => (P(x) => P(y)))  proven above\n",
      "                              hypothesis (Summation_{k=0}^{2^(t) - 1} (e^((-(2 * pi * i * k * (b MOD_ADD l))) / 2^(t)) * e^(2 * pi * i * phase * k))) = (Summation_{k=0}^{2^(t) - 1} (e^(2 * pi * i * (phase - (b + l) / 2^(t))))^(k))  assuming l in Integers \n",
      "                                implication [forall_{k in \\{0...(2^(t) - 1)\\}} ((e^((-(2 * pi * i * k * (b MOD_ADD l))) / 2^(t)) * e^(2 * pi * i * phase * k)) = (e^(2 * pi * i * (phase - (b + l) / 2^(t))))^(k))] => ((Summation_{k=0}^{2^(t) - 1} (e^((-(2 * pi * i * k * (b MOD_ADD l))) / 2^(t)) * e^(2 * pi * i * phase * k))) = (Summation_{k=0}^{2^(t) - 1} (e^(2 * pi * i * (phase - (b + l) / 2^(t))))^(k))) \n",
      "                                  specializing forall_{Upsilon, ..Q.., f, g, S} ([forall_{..x.. in S | ..Q(..x..)..} (f(..x..) = g(..x..))] => ([Upsilon_{..y.. in S | ..Q(..y..)..} f(..y..)] = [Upsilon_{..z.. in S | ..Q(..z..)..} g(..z..)])) \n",
      "                                    by axiom proveit.basiclogic.instanceSubstitution\n",
      "                                hypothesis forall_{k in \\{0...(2^(t) - 1)\\}} ((e^((-(2 * pi * i * k * (b MOD_ADD l))) / 2^(t)) * e^(2 * pi * i * phase * k)) = (e^(2 * pi * i * (phase - (b + l) / 2^(t))))^(k))  assuming l in Integers \n",
      "                                  generalizing (e^((-(2 * pi * i * k * (b MOD_ADD l))) / 2^(t)) * e^(2 * pi * i * phase * k)) = (e^(2 * pi * i * (phase - (b + l) / 2^(t))))^(k)  assuming k in \\{0...(2^(t) - 1)\\}, l in Integers \n",
      "                                    implication ((e^((2 * pi * i * phase) - (2 * pi * i * (b + l)) / 2^(t)))^(k) = (e^(2 * pi * i * (phase - (b + l) / 2^(t))))^(k)) => ((e^((-(2 * pi * i * k * (b MOD_ADD l))) / 2^(t)) * e^(2 * pi * i * phase * k)) = (e^(2 * pi * i * (phase - (b + l) / 2^(t))))^(k))  assuming k in \\{0...(2^(t) - 1)\\}, l in Integers \n",
      "                                      implication ((e^((-(2 * pi * i * k * (b MOD_ADD l))) / 2^(t)) * e^(2 * pi * i * phase * k)) = (e^((2 * pi * i * phase) - (2 * pi * i * (b + l)) / 2^(t)))^(k)) => (((e^((2 * pi * i * phase) - (2 * pi * i * (b + l)) / 2^(t)))^(k) = (e^(2 * pi * i * (phase - (b + l) / 2^(t))))^(k)) => ((e^((-(2 * pi * i * k * (b MOD_ADD l))) / 2^(t)) * e^(2 * pi * i * phase * k)) = (e^(2 * pi * i * (phase - (b + l) / 2^(t))))^(k))) \n",
      "                                        specializing forall_{x, y, z} ((x = y) => ((y = z) => (x = z)))  proven above\n",
      "                                      hypothesis (e^((-(2 * pi * i * k * (b MOD_ADD l))) / 2^(t)) * e^(2 * pi * i * phase * k)) = (e^((2 * pi * i * phase) - (2 * pi * i * (b + l)) / 2^(t)))^(k)  assuming k in \\{0...(2^(t) - 1)\\}, l in Integers \n",
      "                                        implication ((e^(2 * pi * i * phase) * e^((-(2 * pi * i * (b + l))) / 2^(t)))^(k) = (e^((2 * pi * i * phase) - (2 * pi * i * (b + l)) / 2^(t)))^(k)) => ((e^((-(2 * pi * i * k * (b MOD_ADD l))) / 2^(t)) * e^(2 * pi * i * phase * k)) = (e^((2 * pi * i * phase) - (2 * pi * i * (b + l)) / 2^(t)))^(k))  assuming k in \\{0...(2^(t) - 1)\\}, l in Integers \n",
      "                                          implication ((e^((-(2 * pi * i * k * (b MOD_ADD l))) / 2^(t)) * e^(2 * pi * i * phase * k)) = (e^(2 * pi * i * phase) * e^((-(2 * pi * i * (b + l))) / 2^(t)))^(k)) => (((e^(2 * pi * i * phase) * e^((-(2 * pi * i * (b + l))) / 2^(t)))^(k) = (e^((2 * pi * i * phase) - (2 * pi * i * (b + l)) / 2^(t)))^(k)) => ((e^((-(2 * pi * i * k * (b MOD_ADD l))) / 2^(t)) * e^(2 * pi * i * phase * k)) = (e^((2 * pi * i * phase) - (2 * pi * i * (b + l)) / 2^(t)))^(k))) \n",
      "                                            specializing forall_{x, y, z} ((x = y) => ((y = z) => (x = z)))  proven above\n",
      "                                          hypothesis (e^((-(2 * pi * i * k * (b MOD_ADD l))) / 2^(t)) * e^(2 * pi * i * phase * k)) = (e^(2 * pi * i * phase) * e^((-(2 * pi * i * (b + l))) / 2^(t)))^(k)  assuming k in \\{0...(2^(t) - 1)\\}, l in Integers \n",
      "                                            implication ((e^((-(2 * pi * i * (b + l))) / 2^(t)) * e^(2 * pi * i * phase))^(k) = (e^(2 * pi * i * phase) * e^((-(2 * pi * i * (b + l))) / 2^(t)))^(k)) => ((e^((-(2 * pi * i * k * (b MOD_ADD l))) / 2^(t)) * e^(2 * pi * i * phase * k)) = (e^(2 * pi * i * phase) * e^((-(2 * pi * i * (b + l))) / 2^(t)))^(k))  assuming k in \\{0...(2^(t) - 1)\\}, l in Integers \n",
      "                                              implication ((e^((-(2 * pi * i * k * (b MOD_ADD l))) / 2^(t)) * e^(2 * pi * i * phase * k)) = (e^((-(2 * pi * i * (b + l))) / 2^(t)) * e^(2 * pi * i * phase))^(k)) => (((e^((-(2 * pi * i * (b + l))) / 2^(t)) * e^(2 * pi * i * phase))^(k) = (e^(2 * pi * i * phase) * e^((-(2 * pi * i * (b + l))) / 2^(t)))^(k)) => ((e^((-(2 * pi * i * k * (b MOD_ADD l))) / 2^(t)) * e^(2 * pi * i * phase * k)) = (e^(2 * pi * i * phase) * e^((-(2 * pi * i * (b + l))) / 2^(t)))^(k))) \n",
      "                                                specializing forall_{x, y, z} ((x = y) => ((y = z) => (x = z)))  proven above\n",
      "                                              hypothesis (e^((-(2 * pi * i * k * (b MOD_ADD l))) / 2^(t)) * e^(2 * pi * i * phase * k)) = (e^((-(2 * pi * i * (b + l))) / 2^(t)) * e^(2 * pi * i * phase))^(k)  assuming k in \\{0...(2^(t) - 1)\\}, l in Integers \n",
      "                                                implication (((e^((-(2 * pi * i * (b + l))) / 2^(t)))^(k) * (e^(2 * pi * i * phase))^(k)) = (e^((-(2 * pi * i * (b + l))) / 2^(t)) * e^(2 * pi * i * phase))^(k)) => ((e^((-(2 * pi * i * k * (b MOD_ADD l))) / 2^(t)) * e^(2 * pi * i * phase * k)) = (e^((-(2 * pi * i * (b + l))) / 2^(t)) * e^(2 * pi * i * phase))^(k))  assuming k in \\{0...(2^(t) - 1)\\}, l in Integers \n",
      "                                                  implication ((e^((-(2 * pi * i * k * (b MOD_ADD l))) / 2^(t)) * e^(2 * pi * i * phase * k)) = ((e^((-(2 * pi * i * (b + l))) / 2^(t)))^(k) * (e^(2 * pi * i * phase))^(k))) => ((((e^((-(2 * pi * i * (b + l))) / 2^(t)))^(k) * (e^(2 * pi * i * phase))^(k)) = (e^((-(2 * pi * i * (b + l))) / 2^(t)) * e^(2 * pi * i * phase))^(k)) => ((e^((-(2 * pi * i * k * (b MOD_ADD l))) / 2^(t)) * e^(2 * pi * i * phase * k)) = (e^((-(2 * pi * i * (b + l))) / 2^(t)) * e^(2 * pi * i * phase))^(k))) \n",
      "                                                    specializing forall_{x, y, z} ((x = y) => ((y = z) => (x = z)))  proven above\n",
      "                                                  hypothesis (e^((-(2 * pi * i * k * (b MOD_ADD l))) / 2^(t)) * e^(2 * pi * i * phase * k)) = ((e^((-(2 * pi * i * (b + l))) / 2^(t)))^(k) * (e^(2 * pi * i * phase))^(k))  assuming k in \\{0...(2^(t) - 1)\\}, l in Integers \n",
      "                                                    implication (((e^((-(2 * pi * i * ((b + l) mod 2^(t)))) / 2^(t)))^(k) * (e^(2 * pi * i * phase))^(k)) = ((e^((-(2 * pi * i * (b + l))) / 2^(t)))^(k) * (e^(2 * pi * i * phase))^(k))) => ((e^((-(2 * pi * i * k * (b MOD_ADD l))) / 2^(t)) * e^(2 * pi * i * phase * k)) = ((e^((-(2 * pi * i * (b + l))) / 2^(t)))^(k) * (e^(2 * pi * i * phase))^(k)))  assuming k in \\{0...(2^(t) - 1)\\}, l in Integers \n",
      "                                                      implication ((e^((-(2 * pi * i * k * (b MOD_ADD l))) / 2^(t)) * e^(2 * pi * i * phase * k)) = ((e^((-(2 * pi * i * ((b + l) mod 2^(t)))) / 2^(t)))^(k) * (e^(2 * pi * i * phase))^(k))) => ((((e^((-(2 * pi * i * ((b + l) mod 2^(t)))) / 2^(t)))^(k) * (e^(2 * pi * i * phase))^(k)) = ((e^((-(2 * pi * i * (b + l))) / 2^(t)))^(k) * (e^(2 * pi * i * phase))^(k))) => ((e^((-(2 * pi * i * k * (b MOD_ADD l))) / 2^(t)) * e^(2 * pi * i * phase * k)) = ((e^((-(2 * pi * i * (b + l))) / 2^(t)))^(k) * (e^(2 * pi * i * phase))^(k)))) \n",
      "                                                        specializing forall_{x, y, z} ((x = y) => ((y = z) => (x = z)))  proven above\n",
      "                                                      hypothesis (e^((-(2 * pi * i * k * (b MOD_ADD l))) / 2^(t)) * e^(2 * pi * i * phase * k)) = ((e^((-(2 * pi * i * ((b + l) mod 2^(t)))) / 2^(t)))^(k) * (e^(2 * pi * i * phase))^(k))  assuming k in \\{0...(2^(t) - 1)\\}, l in Integers \n",
      "                                                        implication (((e^((-(2 * pi * i * (b MOD_ADD l))) / 2^(t)))^(k) * (e^(2 * pi * i * phase))^(k)) = ((e^((-(2 * pi * i * ((b + l) mod 2^(t)))) / 2^(t)))^(k) * (e^(2 * pi * i * phase))^(k))) => ((e^((-(2 * pi * i * k * (b MOD_ADD l))) / 2^(t)) * e^(2 * pi * i * phase * k)) = ((e^((-(2 * pi * i * ((b + l) mod 2^(t)))) / 2^(t)))^(k) * (e^(2 * pi * i * phase))^(k)))  assuming k in \\{0...(2^(t) - 1)\\}, l in Integers \n",
      "                                                          implication ((e^((-(2 * pi * i * k * (b MOD_ADD l))) / 2^(t)) * e^(2 * pi * i * phase * k)) = ((e^((-(2 * pi * i * (b MOD_ADD l))) / 2^(t)))^(k) * (e^(2 * pi * i * phase))^(k))) => ((((e^((-(2 * pi * i * (b MOD_ADD l))) / 2^(t)))^(k) * (e^(2 * pi * i * phase))^(k)) = ((e^((-(2 * pi * i * ((b + l) mod 2^(t)))) / 2^(t)))^(k) * (e^(2 * pi * i * phase))^(k))) => ((e^((-(2 * pi * i * k * (b MOD_ADD l))) / 2^(t)) * e^(2 * pi * i * phase * k)) = ((e^((-(2 * pi * i * ((b + l) mod 2^(t)))) / 2^(t)))^(k) * (e^(2 * pi * i * phase))^(k)))) \n",
      "                                                            specializing forall_{x, y, z} ((x = y) => ((y = z) => (x = z)))  proven above\n",
      "                                                          hypothesis (e^((-(2 * pi * i * k * (b MOD_ADD l))) / 2^(t)) * e^(2 * pi * i * phase * k)) = ((e^((-(2 * pi * i * (b MOD_ADD l))) / 2^(t)))^(k) * (e^(2 * pi * i * phase))^(k))  assuming k in \\{0...(2^(t) - 1)\\}, l in Integers \n",
      "                                                            implication (((e^((-(2 * pi * i * (b MOD_ADD l))) / 2^(t)))^(k) * e^(2 * pi * i * phase * k)) = ((e^((-(2 * pi * i * (b MOD_ADD l))) / 2^(t)))^(k) * (e^(2 * pi * i * phase))^(k))) => ((e^((-(2 * pi * i * k * (b MOD_ADD l))) / 2^(t)) * e^(2 * pi * i * phase * k)) = ((e^((-(2 * pi * i * (b MOD_ADD l))) / 2^(t)))^(k) * (e^(2 * pi * i * phase))^(k)))  assuming k in \\{0...(2^(t) - 1)\\}, l in Integers \n",
      "                                                              implication ((e^((-(2 * pi * i * k * (b MOD_ADD l))) / 2^(t)) * e^(2 * pi * i * phase * k)) = ((e^((-(2 * pi * i * (b MOD_ADD l))) / 2^(t)))^(k) * e^(2 * pi * i * phase * k))) => ((((e^((-(2 * pi * i * (b MOD_ADD l))) / 2^(t)))^(k) * e^(2 * pi * i * phase * k)) = ((e^((-(2 * pi * i * (b MOD_ADD l))) / 2^(t)))^(k) * (e^(2 * pi * i * phase))^(k))) => ((e^((-(2 * pi * i * k * (b MOD_ADD l))) / 2^(t)) * e^(2 * pi * i * phase * k)) = ((e^((-(2 * pi * i * (b MOD_ADD l))) / 2^(t)))^(k) * (e^(2 * pi * i * phase))^(k)))) \n",
      "                                                                specializing forall_{x, y, z} ((x = y) => ((y = z) => (x = z)))  proven above\n",
      "                                                              hypothesis (e^((-(2 * pi * i * k * (b MOD_ADD l))) / 2^(t)) * e^(2 * pi * i * phase * k)) = ((e^((-(2 * pi * i * (b MOD_ADD l))) / 2^(t)))^(k) * e^(2 * pi * i * phase * k))  assuming k in \\{0...(2^(t) - 1)\\}, l in Integers \n",
      "                                                                implication (e^((-(2 * pi * i * k * (b MOD_ADD l))) / 2^(t)) = (e^((-(2 * pi * i * (b MOD_ADD l))) / 2^(t)))^(k)) => ((e^((-(2 * pi * i * k * (b MOD_ADD l))) / 2^(t)) * e^(2 * pi * i * phase * k)) = ((e^((-(2 * pi * i * (b MOD_ADD l))) / 2^(t)))^(k) * e^(2 * pi * i * phase * k))) \n",
      "                                                                  specializing forall_{f, x, y} ((x = y) => (f(x) = f(y)))  proven above\n",
      "                                                                hypothesis e^((-(2 * pi * i * k * (b MOD_ADD l))) / 2^(t)) = (e^((-(2 * pi * i * (b MOD_ADD l))) / 2^(t)))^(k)  assuming k in \\{0...(2^(t) - 1)\\}, l in Integers \n",
      "                                                                  implication (e^((-(2 * pi * i * (b MOD_ADD l))) / 2^(t) * k) = (e^((-(2 * pi * i * (b MOD_ADD l))) / 2^(t)))^(k)) => (e^((-(2 * pi * i * k * (b MOD_ADD l))) / 2^(t)) = (e^((-(2 * pi * i * (b MOD_ADD l))) / 2^(t)))^(k))  assuming k in \\{0...(2^(t) - 1)\\}, l in Integers \n",
      "                                                                    implication (e^((-(2 * pi * i * k * (b MOD_ADD l))) / 2^(t)) = e^((-(2 * pi * i * (b MOD_ADD l))) / 2^(t) * k)) => ((e^((-(2 * pi * i * (b MOD_ADD l))) / 2^(t) * k) = (e^((-(2 * pi * i * (b MOD_ADD l))) / 2^(t)))^(k)) => (e^((-(2 * pi * i * k * (b MOD_ADD l))) / 2^(t)) = (e^((-(2 * pi * i * (b MOD_ADD l))) / 2^(t)))^(k))) \n",
      "                                                                      specializing forall_{x, y, z} ((x = y) => ((y = z) => (x = z)))  proven above\n",
      "                                                                    hypothesis e^((-(2 * pi * i * k * (b MOD_ADD l))) / 2^(t)) = e^((-(2 * pi * i * (b MOD_ADD l))) / 2^(t) * k)  assuming k in \\{0...(2^(t) - 1)\\}, l in Integers \n",
      "                                                                      implication ((-(2 * pi * i * k * (b MOD_ADD l))) / 2^(t) = ((-(2 * pi * i * (b MOD_ADD l))) / 2^(t) * k)) => (e^((-(2 * pi * i * k * (b MOD_ADD l))) / 2^(t)) = e^((-(2 * pi * i * (b MOD_ADD l))) / 2^(t) * k)) \n",
      "                                                                        specializing forall_{f, x, y} ((x = y) => (f(x) = f(y)))  proven above\n",
      "                                                                      hypothesis (-(2 * pi * i * k * (b MOD_ADD l))) / 2^(t) = ((-(2 * pi * i * (b MOD_ADD l))) / 2^(t) * k)  assuming k in \\{0...(2^(t) - 1)\\}, l in Integers \n",
      "                                                                        implication (((-(2 * pi * i * (b MOD_ADD l))) * k) / 2^(t) = ((-(2 * pi * i * (b MOD_ADD l))) / 2^(t) * k)) => ((-(2 * pi * i * k * (b MOD_ADD l))) / 2^(t) = ((-(2 * pi * i * (b MOD_ADD l))) / 2^(t) * k))  assuming k in \\{0...(2^(t) - 1)\\}, l in Integers \n",
      "                                                                          implication ((-(2 * pi * i * k * (b MOD_ADD l))) / 2^(t) = ((-(2 * pi * i * (b MOD_ADD l))) * k) / 2^(t)) => ((((-(2 * pi * i * (b MOD_ADD l))) * k) / 2^(t) = ((-(2 * pi * i * (b MOD_ADD l))) / 2^(t) * k)) => ((-(2 * pi * i * k * (b MOD_ADD l))) / 2^(t) = ((-(2 * pi * i * (b MOD_ADD l))) / 2^(t) * k))) \n",
      "                                                                            specializing forall_{x, y, z} ((x = y) => ((y = z) => (x = z)))  proven above\n",
      "                                                                          hypothesis (-(2 * pi * i * k * (b MOD_ADD l))) / 2^(t) = ((-(2 * pi * i * (b MOD_ADD l))) * k) / 2^(t)  assuming k in \\{0...(2^(t) - 1)\\}, l in Integers \n",
      "                                                                            implication ((-(2 * pi * i * k * (b MOD_ADD l))) = ((-(2 * pi * i * (b MOD_ADD l))) * k)) => ((-(2 * pi * i * k * (b MOD_ADD l))) / 2^(t) = ((-(2 * pi * i * (b MOD_ADD l))) * k) / 2^(t)) \n",
      "                                                                              specializing forall_{f, x, y} ((x = y) => (f(x) = f(y)))  proven above\n",
      "                                                                            hypothesis (-(2 * pi * i * k * (b MOD_ADD l))) = ((-(2 * pi * i * (b MOD_ADD l))) * k)  assuming k in \\{0...(2^(t) - 1)\\}, l in Integers \n",
      "                                                                              implication ((-((2 * pi * i * (b MOD_ADD l)) * k)) = ((-(2 * pi * i * (b MOD_ADD l))) * k)) => ((-(2 * pi * i * k * (b MOD_ADD l))) = ((-(2 * pi * i * (b MOD_ADD l))) * k))  assuming k in \\{0...(2^(t) - 1)\\}, l in Integers \n",
      "                                                                                implication ((-(2 * pi * i * k * (b MOD_ADD l))) = (-((2 * pi * i * (b MOD_ADD l)) * k))) => (((-((2 * pi * i * (b MOD_ADD l)) * k)) = ((-(2 * pi * i * (b MOD_ADD l))) * k)) => ((-(2 * pi * i * k * (b MOD_ADD l))) = ((-(2 * pi * i * (b MOD_ADD l))) * k))) \n",
      "                                                                                  specializing forall_{x, y, z} ((x = y) => ((y = z) => (x = z)))  proven above\n",
      "                                                                                hypothesis (-(2 * pi * i * k * (b MOD_ADD l))) = (-((2 * pi * i * (b MOD_ADD l)) * k))  assuming k in \\{0...(2^(t) - 1)\\}, l in Integers \n",
      "                                                                                  implication ((2 * pi * i * k * (b MOD_ADD l)) = ((2 * pi * i * (b MOD_ADD l)) * k)) => ((-(2 * pi * i * k * (b MOD_ADD l))) = (-((2 * pi * i * (b MOD_ADD l)) * k))) \n",
      "                                                                                    specializing forall_{f, x, y} ((x = y) => (f(x) = f(y)))  proven above\n",
      "                                                                                  hypothesis (2 * pi * i * k * (b MOD_ADD l)) = ((2 * pi * i * (b MOD_ADD l)) * k)  assuming k in \\{0...(2^(t) - 1)\\}, l in Integers \n",
      "                                                                                    implication ((2 * pi * i * (b MOD_ADD l) * k) = ((2 * pi * i * (b MOD_ADD l)) * k)) => ((2 * pi * i * k * (b MOD_ADD l)) = ((2 * pi * i * (b MOD_ADD l)) * k))  assuming k in \\{0...(2^(t) - 1)\\}, l in Integers \n",
      "                                                                                      implication ((2 * pi * i * k * (b MOD_ADD l)) = (2 * pi * i * (b MOD_ADD l) * k)) => (((2 * pi * i * (b MOD_ADD l) * k) = ((2 * pi * i * (b MOD_ADD l)) * k)) => ((2 * pi * i * k * (b MOD_ADD l)) = ((2 * pi * i * (b MOD_ADD l)) * k))) \n",
      "                                                                                        specializing forall_{x, y, z} ((x = y) => ((y = z) => (x = z)))  proven above\n",
      "                                                                                      hypothesis (2 * pi * i * k * (b MOD_ADD l)) = (2 * pi * i * (b MOD_ADD l) * k)  assuming k in \\{0...(2^(t) - 1)\\}, l in Integers \n",
      "                                                                                        specializing forall_{..v.., ..w.., ..x.., ..y.., ..z.. in Complexes} (( .. * v * ... * w * ... * x * ... * y * ... * z * .. ) = ( .. * v * ... * y * ... * x * ... * w * ... * z * .. ))  proven above\n",
      "                                                                                        condition i in Complexes  proven above\n",
      "                                                                                        condition (b MOD_ADD l) in Complexes  assuming l in Integers \n",
      "                                                                                          specializing forall_{a in Integers} (a in Complexes)  proven above\n",
      "                                                                                          condition (b MOD_ADD l) in Integers  assuming l in Integers \n",
      "                                                                                            specializing forall_{a, b in Integers} ((a MOD_ADD b) in Integers) \n",
      "                                                                                              by theorem proveit.physics.quantum.QPE.modAddClosure\n",
      "                                                                                            condition b in Integers  proven above\n",
      "                                                                                            condition l in Integers  assuming l in Integers  proven above\n",
      "                                                                                        condition k in Complexes  assuming k in \\{0...(2^(t) - 1)\\}, l in Integers \n",
      "                                                                                          specializing forall_{a in Integers} (a in Complexes)  proven above\n",
      "                                                                                          condition k in Integers  assuming k in \\{0...(2^(t) - 1)\\}, l in Integers \n",
      "                                                                                            specializing forall_{n in \\{0...(2^(t) - 1)\\}} (n in Integers) \n",
      "                                                                                              specializing forall_{a, b in Integers} [forall_{n in \\{a...b\\}} (n in Integers)] \n",
      "                                                                                                by theorem proveit.number.integer.allInDiscreteInterval_InInts\n",
      "                                                                                              condition 0 in Integers  proven above\n",
      "                                                                                              condition (2^(t) - 1) in Integers  proven above\n",
      "                                                                                            condition k in \\{0...(2^(t) - 1)\\}  assuming k in \\{0...(2^(t) - 1)\\} \n",
      "                                                                                        condition 2 in Complexes  proven above\n",
      "                                                                                        condition pi in Complexes  proven above\n",
      "                                                                                    hypothesis (2 * pi * i * (b MOD_ADD l) * k) = ((2 * pi * i * (b MOD_ADD l)) * k)  assuming k in \\{0...(2^(t) - 1)\\}, l in Integers \n",
      "                                                                                      specializing forall_{..x.., ..y.., ..z.. in Complexes} (( .. * x * ... * y * ... * z * .. ) = ( .. * x * ..  * ( .. * y * .. ) *  .. * z * .. ))  proven above\n",
      "                                                                                      condition i in Complexes  proven above\n",
      "                                                                                      condition (b MOD_ADD l) in Complexes  assuming l in Integers  proven above\n",
      "                                                                                      condition k in Complexes  assuming k in \\{0...(2^(t) - 1)\\}, l in Integers  proven above\n",
      "                                                                                      condition 2 in Complexes  proven above\n",
      "                                                                                      condition pi in Complexes  proven above\n",
      "                                                                              hypothesis (-((2 * pi * i * (b MOD_ADD l)) * k)) = ((-(2 * pi * i * (b MOD_ADD l))) * k)  assuming k in \\{0...(2^(t) - 1)\\}, l in Integers \n",
      "                                                                                specializing forall_{x, y in Complexes} ((-(x * y)) = ((-x) * y)) \n",
      "                                                                                  by theorem proveit.number.complex.negTimesPosRev\n",
      "                                                                                condition (2 * pi * i * (b MOD_ADD l)) in Complexes  assuming l in Integers \n",
      "                                                                                  specializing forall_{..x.. in Complexes} (( .. * x * .. ) in Complexes)  proven above\n",
      "                                                                                  condition i in Complexes  proven above\n",
      "                                                                                  condition (b MOD_ADD l) in Complexes  assuming l in Integers  proven above\n",
      "                                                                                  condition 2 in Complexes  proven above\n",
      "                                                                                  condition pi in Complexes  proven above\n",
      "                                                                                condition k in Complexes  assuming k in \\{0...(2^(t) - 1)\\}, l in Integers  proven above\n",
      "                                                                        hypothesis ((-(2 * pi * i * (b MOD_ADD l))) * k) / 2^(t) = ((-(2 * pi * i * (b MOD_ADD l))) / 2^(t) * k)  assuming k in \\{0...(2^(t) - 1)\\}, l in Integers \n",
      "                                                                          specializing forall_{..w.., x, y, ..z.. in Complexes} (( .. * w * ..  * x *  .. * z * .. ) / y = ( .. * w * ..  * x / y *  .. * z * .. )) \n",
      "                                                                            by theorem proveit.number.complex.fracInProdRev\n",
      "                                                                          condition (-(2 * pi * i * (b MOD_ADD l))) in Complexes  assuming l in Integers \n",
      "                                                                            specializing forall_{a in Complexes} ((-a) in Complexes) \n",
      "                                                                              by theorem proveit.number.complex.negClosure\n",
      "                                                                            condition (2 * pi * i * (b MOD_ADD l)) in Complexes  assuming l in Integers  proven above\n",
      "                                                                          condition 2^(t) in Complexes  proven above\n",
      "                                                                          condition k in Complexes  assuming k in \\{0...(2^(t) - 1)\\}, l in Integers  proven above\n",
      "                                                                  hypothesis e^((-(2 * pi * i * (b MOD_ADD l))) / 2^(t) * k) = (e^((-(2 * pi * i * (b MOD_ADD l))) / 2^(t)))^(k)  assuming k in \\{0...(2^(t) - 1)\\}, l in Integers \n",
      "                                                                    implication ((e^((-(2 * pi * i * (b MOD_ADD l))) / 2^(t)))^(k) = e^((-(2 * pi * i * (b MOD_ADD l))) / 2^(t) * k)) => (e^((-(2 * pi * i * (b MOD_ADD l))) / 2^(t) * k) = (e^((-(2 * pi * i * (b MOD_ADD l))) / 2^(t)))^(k)) \n",
      "                                                                      specializing forall_{x, y} ((x = y) => (y = x)) \n",
      "                                                                        by axiom proveit.basiclogic.equality.equalsSymmetry\n",
      "                                                                    hypothesis (e^((-(2 * pi * i * (b MOD_ADD l))) / 2^(t)))^(k) = e^((-(2 * pi * i * (b MOD_ADD l))) / 2^(t) * k)  assuming k in \\{0...(2^(t) - 1)\\}, l in Integers \n",
      "                                                                      specializing forall_{a, b, c in Complexes} ((a^(b))^(c) = a^(b * c))  proven above\n",
      "                                                                      condition e in Complexes  proven above\n",
      "                                                                      condition (-(2 * pi * i * (b MOD_ADD l))) / 2^(t) in Complexes  assuming l in Integers \n",
      "                                                                        specializing forall_{a, b in Complexes | b != 0} (a / b in Complexes) \n",
      "                                                                          by theorem proveit.number.complex.fractionClosure\n",
      "                                                                        condition (-(2 * pi * i * (b MOD_ADD l))) in Complexes  assuming l in Integers  proven above\n",
      "                                                                        condition 2^(t) != 0  proven above\n",
      "                                                                        condition 2^(t) in Complexes  proven above\n",
      "                                                                      condition k in Complexes  assuming k in \\{0...(2^(t) - 1)\\}, l in Integers  proven above\n",
      "                                                            hypothesis ((e^((-(2 * pi * i * (b MOD_ADD l))) / 2^(t)))^(k) * e^(2 * pi * i * phase * k)) = ((e^((-(2 * pi * i * (b MOD_ADD l))) / 2^(t)))^(k) * (e^(2 * pi * i * phase))^(k))  assuming k in \\{0...(2^(t) - 1)\\}, l in Integers \n",
      "                                                              implication (e^(2 * pi * i * phase * k) = (e^(2 * pi * i * phase))^(k)) => (((e^((-(2 * pi * i * (b MOD_ADD l))) / 2^(t)))^(k) * e^(2 * pi * i * phase * k)) = ((e^((-(2 * pi * i * (b MOD_ADD l))) / 2^(t)))^(k) * (e^(2 * pi * i * phase))^(k))) \n",
      "                                                                specializing forall_{f, x, y} ((x = y) => (f(x) = f(y)))  proven above\n",
      "                                                              hypothesis e^(2 * pi * i * phase * k) = (e^(2 * pi * i * phase))^(k)  assuming k in \\{0...(2^(t) - 1)\\}, l in Integers \n",
      "                                                                implication (e^((2 * pi * i * phase) * k) = (e^(2 * pi * i * phase))^(k)) => (e^(2 * pi * i * phase * k) = (e^(2 * pi * i * phase))^(k))  assuming k in \\{0...(2^(t) - 1)\\}, l in Integers \n",
      "                                                                  implication (e^(2 * pi * i * phase * k) = e^((2 * pi * i * phase) * k)) => ((e^((2 * pi * i * phase) * k) = (e^(2 * pi * i * phase))^(k)) => (e^(2 * pi * i * phase * k) = (e^(2 * pi * i * phase))^(k))) \n",
      "                                                                    specializing forall_{x, y, z} ((x = y) => ((y = z) => (x = z)))  proven above\n",
      "                                                                  hypothesis e^(2 * pi * i * phase * k) = e^((2 * pi * i * phase) * k)  assuming k in \\{0...(2^(t) - 1)\\}, l in Integers \n",
      "                                                                    implication ((2 * pi * i * phase * k) = ((2 * pi * i * phase) * k)) => (e^(2 * pi * i * phase * k) = e^((2 * pi * i * phase) * k)) \n",
      "                                                                      specializing forall_{f, x, y} ((x = y) => (f(x) = f(y)))  proven above\n",
      "                                                                    hypothesis (2 * pi * i * phase * k) = ((2 * pi * i * phase) * k)  assuming k in \\{0...(2^(t) - 1)\\}, l in Integers \n",
      "                                                                      specializing forall_{..x.., ..y.., ..z.. in Complexes} (( .. * x * ... * y * ... * z * .. ) = ( .. * x * ..  * ( .. * y * .. ) *  .. * z * .. ))  proven above\n",
      "                                                                      condition i in Complexes  proven above\n",
      "                                                                      condition k in Complexes  assuming k in \\{0...(2^(t) - 1)\\}, l in Integers  proven above\n",
      "                                                                      condition 2 in Complexes  proven above\n",
      "                                                                      condition phase in Complexes \n",
      "                                                                        specializing forall_{a in Reals} (a in Complexes)  proven above\n",
      "                                                                        condition phase in Reals \n",
      "                                                                          by theorem proveit.physics.quantum.QPE.phaseInReals\n",
      "                                                                      condition pi in Complexes  proven above\n",
      "                                                                hypothesis e^((2 * pi * i * phase) * k) = (e^(2 * pi * i * phase))^(k)  assuming k in \\{0...(2^(t) - 1)\\}, l in Integers \n",
      "                                                                  implication ((e^(2 * pi * i * phase))^(k) = e^((2 * pi * i * phase) * k)) => (e^((2 * pi * i * phase) * k) = (e^(2 * pi * i * phase))^(k)) \n",
      "                                                                    specializing forall_{x, y} ((x = y) => (y = x))  proven above\n",
      "                                                                  hypothesis (e^(2 * pi * i * phase))^(k) = e^((2 * pi * i * phase) * k)  assuming k in \\{0...(2^(t) - 1)\\}, l in Integers \n",
      "                                                                    specializing forall_{a, b, c in Complexes} ((a^(b))^(c) = a^(b * c))  proven above\n",
      "                                                                    condition e in Complexes  proven above\n",
      "                                                                    condition (2 * pi * i * phase) in Complexes \n",
      "                                                                      specializing forall_{..x.. in Complexes} (( .. * x * .. ) in Complexes)  proven above\n",
      "                                                                      condition i in Complexes  proven above\n",
      "                                                                      condition 2 in Complexes  proven above\n",
      "                                                                      condition phase in Complexes  proven above\n",
      "                                                                      condition pi in Complexes  proven above\n",
      "                                                                    condition k in Complexes  assuming k in \\{0...(2^(t) - 1)\\}, l in Integers  proven above\n",
      "                                                        hypothesis ((e^((-(2 * pi * i * (b MOD_ADD l))) / 2^(t)))^(k) * (e^(2 * pi * i * phase))^(k)) = ((e^((-(2 * pi * i * ((b + l) mod 2^(t)))) / 2^(t)))^(k) * (e^(2 * pi * i * phase))^(k))  assuming l in Integers \n",
      "                                                          implication ((b MOD_ADD l) = ((b + l) mod 2^(t))) => (((e^((-(2 * pi * i * (b MOD_ADD l))) / 2^(t)))^(k) * (e^(2 * pi * i * phase))^(k)) = ((e^((-(2 * pi * i * ((b + l) mod 2^(t)))) / 2^(t)))^(k) * (e^(2 * pi * i * phase))^(k))) \n",
      "                                                            specializing forall_{f, x, y} ((x = y) => (f(x) = f(y)))  proven above\n",
      "                                                          hypothesis (b MOD_ADD l) = ((b + l) mod 2^(t))  assuming l in Integers \n",
      "                                                            specializing forall_{a, b in Integers} ((a MOD_ADD b) = ((a + b) mod 2^(t))) \n",
      "                                                              by axiom proveit.physics.quantum.QPE.modAddDef\n",
      "                                                            condition b in Integers  proven above\n",
      "                                                            condition l in Integers  assuming l in Integers  proven above\n",
      "                                                    hypothesis ((e^((-(2 * pi * i * ((b + l) mod 2^(t)))) / 2^(t)))^(k) * (e^(2 * pi * i * phase))^(k)) = ((e^((-(2 * pi * i * (b + l))) / 2^(t)))^(k) * (e^(2 * pi * i * phase))^(k))  assuming k in \\{0...(2^(t) - 1)\\}, l in Integers \n",
      "                                                      implication (e^((-(2 * pi * i * ((b + l) mod 2^(t)))) / 2^(t)) = e^((-(2 * pi * i * (b + l))) / 2^(t))) => (((e^((-(2 * pi * i * ((b + l) mod 2^(t)))) / 2^(t)))^(k) * (e^(2 * pi * i * phase))^(k)) = ((e^((-(2 * pi * i * (b + l))) / 2^(t)))^(k) * (e^(2 * pi * i * phase))^(k))) \n",
      "                                                        specializing forall_{f, x, y} ((x = y) => (f(x) = f(y)))  proven above\n",
      "                                                      hypothesis e^((-(2 * pi * i * ((b + l) mod 2^(t)))) / 2^(t)) = e^((-(2 * pi * i * (b + l))) / 2^(t))  assuming k in \\{0...(2^(t) - 1)\\}, l in Integers \n",
      "                                                        specializing forall_{x, r in Reals} (e^((-(2 * pi * i * (x mod r))) / r) = e^((-(2 * pi * i * x)) / r)) \n",
      "                                                          by theorem proveit.trigonometry.exp_neg2pi_i_x\n",
      "                                                        condition 2^(t) in Reals  proven above\n",
      "                                                        condition (b + l) in Reals  assuming l in Integers \n",
      "                                                          specializing forall_{a in Integers} (a in Reals)  proven above\n",
      "                                                          condition (b + l) in Integers  assuming l in Integers \n",
      "                                                            specializing forall_{..x.. in Integers} (( .. + x + .. ) in Integers) \n",
      "                                                              by theorem proveit.number.integer.addClosure\n",
      "                                                            condition b in Integers  proven above\n",
      "                                                            condition l in Integers  assuming l in Integers  proven above\n",
      "                                                hypothesis ((e^((-(2 * pi * i * (b + l))) / 2^(t)))^(k) * (e^(2 * pi * i * phase))^(k)) = (e^((-(2 * pi * i * (b + l))) / 2^(t)) * e^(2 * pi * i * phase))^(k)  assuming k in \\{0...(2^(t) - 1)\\}, l in Integers \n",
      "                                                  specializing forall_{a, b, c in Complexes} ((a^(c) * b^(c)) = (a * b)^(c)) \n",
      "                                                    by theorem proveit.number.complex.powOfProdRev\n",
      "                                                  condition e^(2 * pi * i * phase) in Complexes \n",
      "                                                    specializing forall_{a, b in Complexes | a != 0} (a^(b) in Complexes)  proven above\n",
      "                                                    condition e != 0  proven above\n",
      "                                                    condition e in Complexes  proven above\n",
      "                                                    condition (2 * pi * i * phase) in Complexes  proven above\n",
      "                                                  condition e^((-(2 * pi * i * (b + l))) / 2^(t)) in Complexes  assuming l in Integers \n",
      "                                                    specializing forall_{a, b in Complexes | a != 0} (a^(b) in Complexes)  proven above\n",
      "                                                    condition e != 0  proven above\n",
      "                                                    condition e in Complexes  proven above\n",
      "                                                    condition (-(2 * pi * i * (b + l))) / 2^(t) in Complexes  assuming l in Integers \n",
      "                                                      specializing forall_{a, b in Complexes | b != 0} (a / b in Complexes)  proven above\n",
      "                                                      condition 2^(t) != 0  proven above\n",
      "                                                      condition 2^(t) in Complexes  proven above\n",
      "                                                      condition (-(2 * pi * i * (b + l))) in Complexes  assuming l in Integers \n",
      "                                                        specializing forall_{a in Complexes} ((-a) in Complexes)  proven above\n",
      "                                                        condition (2 * pi * i * (b + l)) in Complexes  assuming l in Integers \n",
      "                                                          specializing forall_{..x.. in Complexes} (( .. * x * .. ) in Complexes)  proven above\n",
      "                                                          condition i in Complexes  proven above\n",
      "                                                          condition (b + l) in Complexes  assuming l in Integers \n",
      "                                                            specializing forall_{a in Integers} (a in Complexes)  proven above\n",
      "                                                            condition (b + l) in Integers  assuming l in Integers  proven above\n",
      "                                                          condition 2 in Complexes  proven above\n",
      "                                                          condition pi in Complexes  proven above\n",
      "                                                  condition k in Complexes  assuming k in \\{0...(2^(t) - 1)\\}, l in Integers  proven above\n",
      "                                            hypothesis (e^((-(2 * pi * i * (b + l))) / 2^(t)) * e^(2 * pi * i * phase))^(k) = (e^(2 * pi * i * phase) * e^((-(2 * pi * i * (b + l))) / 2^(t)))^(k)  assuming l in Integers \n",
      "                                              implication ((e^((-(2 * pi * i * (b + l))) / 2^(t)) * e^(2 * pi * i * phase)) = (e^(2 * pi * i * phase) * e^((-(2 * pi * i * (b + l))) / 2^(t)))) => ((e^((-(2 * pi * i * (b + l))) / 2^(t)) * e^(2 * pi * i * phase))^(k) = (e^(2 * pi * i * phase) * e^((-(2 * pi * i * (b + l))) / 2^(t)))^(k)) \n",
      "                                                specializing forall_{f, x, y} ((x = y) => (f(x) = f(y)))  proven above\n",
      "                                              hypothesis (e^((-(2 * pi * i * (b + l))) / 2^(t)) * e^(2 * pi * i * phase)) = (e^(2 * pi * i * phase) * e^((-(2 * pi * i * (b + l))) / 2^(t)))  assuming l in Integers \n",
      "                                                specializing forall_{..v.., ..w.., ..x.., ..y.., ..z.. in Complexes} (( .. * v * ... * w * ... * x * ... * y * ... * z * .. ) = ( .. * v * ... * y * ... * x * ... * w * ... * z * .. ))  proven above\n",
      "                                                condition e^(2 * pi * i * phase) in Complexes  proven above\n",
      "                                                condition e^((-(2 * pi * i * (b + l))) / 2^(t)) in Complexes  assuming l in Integers  proven above\n",
      "                                        hypothesis (e^(2 * pi * i * phase) * e^((-(2 * pi * i * (b + l))) / 2^(t)))^(k) = (e^((2 * pi * i * phase) - (2 * pi * i * (b + l)) / 2^(t)))^(k)  assuming l in Integers \n",
      "                                          implication ((e^(2 * pi * i * phase) * e^((-(2 * pi * i * (b + l))) / 2^(t))) = e^((2 * pi * i * phase) - (2 * pi * i * (b + l)) / 2^(t))) => ((e^(2 * pi * i * phase) * e^((-(2 * pi * i * (b + l))) / 2^(t)))^(k) = (e^((2 * pi * i * phase) - (2 * pi * i * (b + l)) / 2^(t)))^(k)) \n",
      "                                            specializing forall_{f, x, y} ((x = y) => (f(x) = f(y)))  proven above\n",
      "                                          hypothesis (e^(2 * pi * i * phase) * e^((-(2 * pi * i * (b + l))) / 2^(t))) = e^((2 * pi * i * phase) - (2 * pi * i * (b + l)) / 2^(t))  assuming l in Integers \n",
      "                                            specializing forall_{a, b, c, d in Complexes} ((a^(b) * a^((-c) / d)) = a^(b - c / d)) \n",
      "                                              by theorem proveit.number.complex.diffFracInPowRev\n",
      "                                            condition 2^(t) in Complexes  proven above\n",
      "                                            condition e in Complexes  proven above\n",
      "                                            condition (2 * pi * i * (b + l)) in Complexes  assuming l in Integers  proven above\n",
      "                                            condition (2 * pi * i * phase) in Complexes  proven above\n",
      "                                    hypothesis (e^((2 * pi * i * phase) - (2 * pi * i * (b + l)) / 2^(t)))^(k) = (e^(2 * pi * i * (phase - (b + l) / 2^(t))))^(k)  assuming l in Integers \n",
      "                                      implication (((2 * pi * i * phase) - (2 * pi * i * (b + l)) / 2^(t)) = (2 * pi * i * (phase - (b + l) / 2^(t)))) => ((e^((2 * pi * i * phase) - (2 * pi * i * (b + l)) / 2^(t)))^(k) = (e^(2 * pi * i * (phase - (b + l) / 2^(t))))^(k)) \n",
      "                                        specializing forall_{f, x, y} ((x = y) => (f(x) = f(y)))  proven above\n",
      "                                      hypothesis ((2 * pi * i * phase) - (2 * pi * i * (b + l)) / 2^(t)) = (2 * pi * i * (phase - (b + l) / 2^(t)))  assuming l in Integers \n",
      "                                        implication (((2 * pi * i * phase) - (2 * pi * i * (b + l) / 2^(t))) = (2 * pi * i * (phase - (b + l) / 2^(t)))) => (((2 * pi * i * phase) - (2 * pi * i * (b + l)) / 2^(t)) = (2 * pi * i * (phase - (b + l) / 2^(t))))  assuming l in Integers \n",
      "                                          implication (((2 * pi * i * phase) - (2 * pi * i * (b + l)) / 2^(t)) = ((2 * pi * i * phase) - (2 * pi * i * (b + l) / 2^(t)))) => ((((2 * pi * i * phase) - (2 * pi * i * (b + l) / 2^(t))) = (2 * pi * i * (phase - (b + l) / 2^(t)))) => (((2 * pi * i * phase) - (2 * pi * i * (b + l)) / 2^(t)) = (2 * pi * i * (phase - (b + l) / 2^(t))))) \n",
      "                                            specializing forall_{x, y, z} ((x = y) => ((y = z) => (x = z)))  proven above\n",
      "                                          hypothesis ((2 * pi * i * phase) - (2 * pi * i * (b + l)) / 2^(t)) = ((2 * pi * i * phase) - (2 * pi * i * (b + l) / 2^(t)))  assuming l in Integers \n",
      "                                            implication ((2 * pi * i * (b + l)) / 2^(t) = (2 * pi * i * (b + l) / 2^(t))) => (((2 * pi * i * phase) - (2 * pi * i * (b + l)) / 2^(t)) = ((2 * pi * i * phase) - (2 * pi * i * (b + l) / 2^(t)))) \n",
      "                                              specializing forall_{f, x, y} ((x = y) => (f(x) = f(y)))  proven above\n",
      "                                            hypothesis (2 * pi * i * (b + l)) / 2^(t) = (2 * pi * i * (b + l) / 2^(t))  assuming l in Integers \n",
      "                                              specializing forall_{..w.., x, y, ..z.. in Complexes} (( .. * w * ..  * x *  .. * z * .. ) / y = ( .. * w * ..  * x / y *  .. * z * .. ))  proven above\n",
      "                                              condition i in Complexes  proven above\n",
      "                                              condition (b + l) in Complexes  assuming l in Integers  proven above\n",
      "                                              condition 2^(t) in Complexes  proven above\n",
      "                                              condition 2 in Complexes  proven above\n",
      "                                              condition pi in Complexes  proven above\n",
      "                                        hypothesis ((2 * pi * i * phase) - (2 * pi * i * (b + l) / 2^(t))) = (2 * pi * i * (phase - (b + l) / 2^(t)))  assuming l in Integers \n",
      "                                          specializing forall_{..w.., x, y, ..z.. in Complexes} ((( .. * w * ..  * x *  .. * z * .. ) - ( .. * w * ..  * y *  .. * z * .. )) = ( .. * w * ..  * (x - y) *  .. * z * .. )) \n",
      "                                            by theorem proveit.number.complex.distributeThroughSubtractRev\n",
      "                                          condition i in Complexes  proven above\n",
      "                                          condition (b + l) / 2^(t) in Complexes  assuming l in Integers \n",
      "                                            specializing forall_{a in Reals} (a in Complexes)  proven above\n",
      "                                            condition (b + l) / 2^(t) in Reals  assuming l in Integers \n",
      "                                              specializing forall_{a, b in Reals | b != 0} (a / b in Reals)  proven above\n",
      "                                              condition 2^(t) != 0  proven above\n",
      "                                              condition 2^(t) in Reals  proven above\n",
      "                                              condition (b + l) in Reals  assuming l in Integers  proven above\n",
      "                                          condition 2 in Complexes  proven above\n",
      "                                          condition phase in Complexes  proven above\n",
      "                                          condition pi in Complexes  proven above\n",
      "                            hypothesis alpha_{l} = (1 / 2^(t) * (Summation_{k=0}^{2^(t) - 1} (e^((-(2 * pi * i * k * (b MOD_ADD l))) / 2^(t)) * e^(2 * pi * i * phase * k))))  assuming l in Integers \n",
      "                              specializing forall_{l in Integers} (alpha_{l} = (1 / 2^(t) * (Summation_{k=0}^{2^(t) - 1} (e^((-(2 * pi * i * k * (b MOD_ADD l))) / 2^(t)) * e^(2 * pi * i * phase * k))))) \n",
      "                                by theorem proveit.physics.quantum.QPE.alpha_l_eval\n",
      "                              condition l in Integers  assuming l in Integers  proven above\n",
      "proveit.basiclogic.equality.equalsSymmetry\n",
      "proveit.basiclogic.equality.equalsTransitivity\n",
      "proveit.basiclogic.equality.substitution\n",
      "proveit.basiclogic.instanceSubstitution\n",
      "proveit.number.reverseGreaterThan\n",
      "proveit.physics.quantum.QPE.modAddDef\n",
      "proveit.physics.quantum.QPE.tInNaturalsPos\n",
      "proveit.basiclogic.boolean.iffImpliesRight\n",
      "proveit.basiclogic.equality.rhsSubstitution\n",
      "proveit.number.complex.cancelSubThenAdd\n",
      "proveit.number.complex.diffFracInPowRev\n",
      "proveit.number.complex.distributeFractionThroughSum\n",
      "proveit.number.complex.distributeThroughSubtract\n",
      "proveit.number.complex.distributeThroughSubtractRev\n",
      "proveit.number.complex.fracCancel5\n",
      "proveit.number.complex.fracInProdRev\n",
      "proveit.number.complex.fractionClosure\n",
      "proveit.number.complex.multAssoc\n",
      "proveit.number.complex.multAssocRev\n",
      "proveit.number.complex.multClosure\n",
      "proveit.number.complex.multComm\n",
      "proveit.number.complex.negClosure\n",
      "proveit.number.complex.negTimesPosRev\n",
      "proveit.number.complex.powClosure\n",
      "proveit.number.complex.powNotEqZero\n",
      "proveit.number.complex.powOfPow\n",
      "proveit.number.complex.powOfProdRev\n",
      "proveit.number.complex.powZeroEqOne\n",
      "proveit.number.complex.reverseFractionOfSubtractions\n",
      "proveit.number.complex.subtractCancelElimSums\n",
      "proveit.number.finGeomSum\n",
      "proveit.number.integer.addClosure\n",
      "proveit.number.integer.allInDiscreteInterval_InInts\n",
      "proveit.number.integer.inComplexes\n",
      "proveit.number.integer.inReals\n",
      "proveit.number.natural.inIntegers\n",
      "proveit.number.natural.inNatPos_inComplexes\n",
      "proveit.number.natural.inNatPos_inIntegers\n",
      "proveit.number.natural.inNatPos_inNaturals\n",
      "proveit.number.natural.inNatPos_inReals\n",
      "proveit.number.natural.inNatPos_inRealsPos\n",
      "proveit.number.natural.oneInNaturalsPos\n",
      "proveit.number.natural.powClosure\n",
      "proveit.number.natural.twoInNaturals\n",
      "proveit.number.natural.twoInNaturalsPos\n",
      "proveit.number.real.eInRealsPos\n",
      "proveit.number.real.fractionClosure\n",
      "proveit.number.real.inComplexes\n",
      "proveit.number.real.inRealsPos_iff_positive\n",
      "proveit.number.real.inRealsPos_inComplexes\n",
      "proveit.number.real.inRealsPos_inReals\n",
      "proveit.number.real.multClosure\n",
      "proveit.number.real.positive_implies_notzero\n",
      "proveit.number.real.subtractClosure\n",
      "proveit.physics.quantum.QPE.alpha_l_eval\n",
      "proveit.physics.quantum.QPE.bestInInts\n",
      "proveit.physics.quantum.QPE.deltaInReals\n",
      "proveit.physics.quantum.QPE.modAddClosure\n",
      "proveit.physics.quantum.QPE.phaseFromBest\n",
      "proveit.physics.quantum.QPE.phaseInReals\n",
      "proveit.physics.quantum.QPE.two_pow_t_less_one_in_posnats\n",
      "proveit.trigonometry.exp_neg2pi_i_x\n",
      "Number of used axioms: 7\n",
      "Number of used theorms: 55\n",
      "Number of derivation tree nodes: 285\n"
     ]
    },
    {
     "data": {
      "text/latex": [
       "$\\forall_{l \\in \\mathbb{Z}} \\left(\\alpha_{l} = \\left(\\frac{1}{2^{t}} \\cdot \\frac{1 - e^{2 \\cdot \\pi \\cdot i \\cdot \\left(\\left(2^{t} \\cdot \\delta\\right) - l\\right)}}{1 - e^{2 \\cdot \\pi \\cdot i \\cdot \\left(\\delta - \\frac{l}{2^{t}}\\right)}}\\right)\\right)$"
      ],
      "text/plain": [
       "$\\forall_{l \\in \\mathbb{Z}} \\left(\\alpha_{l} = \\left(\\frac{1}{2^{t}} \\cdot \\frac{1 - e^{2 \\cdot \\pi \\cdot i \\cdot \\left(\\left(2^{t} \\cdot \\delta\\right) - l\\right)}}{1 - e^{2 \\cdot \\pi \\cdot i \\cdot \\left(\\delta - \\frac{l}{2^{t}}\\right)}}\\right)\\right)$"
      ]
     },
     "execution_count": 39,
     "metadata": {},
     "output_type": "execute_result"
    }
   ],
   "source": [
    "alpha_l_eq14.generalize(l, domain=Integers).qed()"
   ]
  },
  {
   "cell_type": "code",
   "execution_count": null,
   "metadata": {
    "collapsed": true
   },
   "outputs": [],
   "source": []
  }
 ],
 "metadata": {
  "kernelspec": {
   "display_name": "Python 2",
   "language": "python",
   "name": "python2"
  },
  "language_info": {
   "codemirror_mode": {
    "name": "ipython",
    "version": 2
   },
   "file_extension": ".py",
   "mimetype": "text/x-python",
   "name": "python",
   "nbconvert_exporter": "python",
   "pygments_lexer": "ipython2",
   "version": "2.7.10"
  }
 },
 "nbformat": 4,
 "nbformat_minor": 0
}
