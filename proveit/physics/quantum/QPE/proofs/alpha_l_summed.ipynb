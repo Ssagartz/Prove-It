{
 "cells": [
  {
   "cell_type": "code",
   "execution_count": 31,
   "metadata": {
    "collapsed": false
   },
   "outputs": [],
   "source": [
    "from proveit.basiclogic import autoSubstitute, autoSubstitution, In, Equation\n",
    "from proveit.common import a, b, k, l, r, x\n",
    "from proveit.number import Exponentiate, Add, Subtract, Multiply\n",
    "from proveit.number.common import Complexes, Integers, one, two, pi, i, e\n",
    "from proveit.physics.quantum.QPE.axioms import phaseInReals, tInNats, modAddDef\n",
    "from proveit.physics.quantum.QPE.theorems import alpha_l_eval, bestInInts\n",
    "from proveit.physics.quantum.QPE.common import t_, b_, two_pow_t, phase_\n",
    "from proveit.physics.quantum.QPE.phaseEstOps import ModAdd\n",
    "from proveit.trigonometry.theorems import exp_neg2pi_i_x\n",
    "from proveit.number.complex.theorems import powOfProd"
   ]
  },
  {
   "cell_type": "code",
   "execution_count": 32,
   "metadata": {
    "collapsed": false
   },
   "outputs": [
    {
     "data": {
      "text/latex": [
       "$\\alpha_{l} = \\sum_{k=0}^{2^{t - 1}}\\left(e^{\\frac{-\\left(2 \\cdot \\pi \\cdot i \\cdot k \\cdot \\left(b \\oplus l\\right)\\right)}{2^{t}}} \\cdot e^{2 \\cdot \\pi \\cdot i \\cdot \\varphi \\cdot k}\\right)$"
      ],
      "text/plain": [
       "alpha_{l} = Summation_{k=0}^{2^(t - 1)}(e^((-(2 * pi * i * k * (b MOD_ADD l))) / 2^(t)) * e^(2 * pi * i * phase * k))"
      ]
     },
     "execution_count": 32,
     "metadata": {},
     "output_type": "execute_result"
    }
   ],
   "source": [
    "alpha_l_eval_special = alpha_l_eval.specialize()\n",
    "alpha_l_eval_special"
   ]
  },
  {
   "cell_type": "code",
   "execution_count": 33,
   "metadata": {
    "collapsed": false
   },
   "outputs": [
    {
     "data": {
      "text/latex": [
       "$\\{0\\ldots 2^{t - 1}\\}$"
      ],
      "text/plain": [
       "\\{0...2^(t - 1)\\}"
      ]
     },
     "execution_count": 33,
     "metadata": {},
     "output_type": "execute_result"
    }
   ],
   "source": [
    "kDomain = alpha_l_eval_special.rhs.domain\n",
    "kDomain"
   ]
  },
  {
   "cell_type": "code",
   "execution_count": 34,
   "metadata": {
    "collapsed": false
   },
   "outputs": [
    {
     "data": {
      "text/latex": [
       "$k \\in \\mathbb{Z}$"
      ],
      "text/plain": [
       "k in Integers"
      ]
     },
     "execution_count": 34,
     "metadata": {},
     "output_type": "execute_result"
    }
   ],
   "source": [
    "assumptions = {In(k, kDomain), In(l, Integers), In(Exponentiate(two, Subtract(t_, one)), Integers)}\n",
    "kDomain.deduceMemberInIntegers(k, assumptions=assumptions).proven(assumptions)"
   ]
  },
  {
   "cell_type": "code",
   "execution_count": 35,
   "metadata": {
    "collapsed": true
   },
   "outputs": [],
   "source": [
    "equation = Equation()"
   ]
  },
  {
   "cell_type": "code",
   "execution_count": 36,
   "metadata": {
    "collapsed": false
   },
   "outputs": [
    {
     "data": {
      "text/latex": [
       "$\\left(e^{\\frac{-\\left(2 \\cdot \\pi \\cdot i \\cdot k \\cdot \\left(b \\oplus l\\right)\\right)}{2^{t}}} \\cdot e^{2 \\cdot \\pi \\cdot i \\cdot \\varphi \\cdot k}\\right) = \\left(\\left(e^{\\frac{-\\left(2 \\cdot \\pi \\cdot i \\cdot \\left(b \\oplus l\\right)\\right)}{2^{t}}}\\right)^{k} \\cdot e^{2 \\cdot \\pi \\cdot i \\cdot \\varphi \\cdot k}\\right)$"
      ],
      "text/plain": [
       "(e^((-(2 * pi * i * k * (b MOD_ADD l))) / 2^(t)) * e^(2 * pi * i * phase * k)) = ((e^((-(2 * pi * i * (b MOD_ADD l))) / 2^(t)))^(k) * e^(2 * pi * i * phase * k))"
      ]
     },
     "execution_count": 36,
     "metadata": {},
     "output_type": "execute_result"
    }
   ],
   "source": [
    "equation.update(autoSubstitution(alpha_l_eval_special.rhs.instanceExpr, 'raiseExpFactor', [k], \n",
    "                                 {'assumptions':assumptions}, subExprClass=Exponentiate,\n",
    "                                 suppressWarnings=True)).proven(assumptions)"
   ]
  },
  {
   "cell_type": "code",
   "execution_count": 37,
   "metadata": {
    "collapsed": false
   },
   "outputs": [
    {
     "data": {
      "text/latex": [
       "$\\left(e^{\\frac{-\\left(2 \\cdot \\pi \\cdot i \\cdot k \\cdot \\left(b \\oplus l\\right)\\right)}{2^{t}}} \\cdot e^{2 \\cdot \\pi \\cdot i \\cdot \\varphi \\cdot k}\\right) = \\left(\\left(e^{\\frac{-\\left(2 \\cdot \\pi \\cdot i \\cdot \\left(b \\oplus l\\right)\\right)}{2^{t}}}\\right)^{k} \\cdot \\left(e^{2 \\cdot \\pi \\cdot i \\cdot \\varphi}\\right)^{k}\\right)$"
      ],
      "text/plain": [
       "(e^((-(2 * pi * i * k * (b MOD_ADD l))) / 2^(t)) * e^(2 * pi * i * phase * k)) = ((e^((-(2 * pi * i * (b MOD_ADD l))) / 2^(t)))^(k) * (e^(2 * pi * i * phase))^(k))"
      ]
     },
     "execution_count": 37,
     "metadata": {},
     "output_type": "execute_result"
    }
   ],
   "source": [
    "equation.update(autoSubstitution(equation.eqExpr.rhs, 'raiseExpFactor', [k], {'assumptions':assumptions}, \n",
    "                        subExprClass=Exponentiate, suppressWarnings=True)).proven(assumptions)"
   ]
  },
  {
   "cell_type": "code",
   "execution_count": 38,
   "metadata": {
    "collapsed": false
   },
   "outputs": [
    {
     "data": {
      "text/latex": [
       "$\\left(b \\oplus l\\right) = \\left(\\left(b + l\\right) ~\\rm{mod}~ 2^{t}\\right)$"
      ],
      "text/plain": [
       "(b MOD_ADD l) = ((b + l) mod 2^(t))"
      ]
     },
     "execution_count": 38,
     "metadata": {},
     "output_type": "execute_result"
    }
   ],
   "source": [
    "modAddDefSpec = modAddDef.specialize({a:b_, b:l})\n",
    "modAddDefSpec"
   ]
  },
  {
   "cell_type": "code",
   "execution_count": 39,
   "metadata": {
    "collapsed": false
   },
   "outputs": [
    {
     "data": {
      "text/latex": [
       "$\\left(e^{\\frac{-\\left(2 \\cdot \\pi \\cdot i \\cdot k \\cdot \\left(b \\oplus l\\right)\\right)}{2^{t}}} \\cdot e^{2 \\cdot \\pi \\cdot i \\cdot \\varphi \\cdot k}\\right) = \\left(\\left(e^{\\frac{-\\left(2 \\cdot \\pi \\cdot i \\cdot \\left(\\left(b + l\\right) ~\\rm{mod}~ 2^{t}\\right)\\right)}{2^{t}}}\\right)^{k} \\cdot \\left(e^{2 \\cdot \\pi \\cdot i \\cdot \\varphi}\\right)^{k}\\right)$"
      ],
      "text/plain": [
       "(e^((-(2 * pi * i * k * (b MOD_ADD l))) / 2^(t)) * e^(2 * pi * i * phase * k)) = ((e^((-(2 * pi * i * ((b + l) mod 2^(t)))) / 2^(t)))^(k) * (e^(2 * pi * i * phase))^(k))"
      ]
     },
     "execution_count": 39,
     "metadata": {},
     "output_type": "execute_result"
    }
   ],
   "source": [
    "equation.update(modAddDefSpec.substitution(equation.eqExpr.rhs)).proven(assumptions)"
   ]
  },
  {
   "cell_type": "code",
   "execution_count": 40,
   "metadata": {
    "collapsed": false
   },
   "outputs": [
    {
     "data": {
      "text/latex": [
       "$e^{\\frac{-\\left(2 \\cdot \\pi \\cdot i \\cdot \\left(\\left(b + l\\right) ~\\rm{mod}~ 2^{t}\\right)\\right)}{2^{t}}} = e^{\\frac{-\\left(2 \\cdot \\pi \\cdot i \\cdot \\left(b + l\\right)\\right)}{2^{t}}}$"
      ],
      "text/plain": [
       "e^((-(2 * pi * i * ((b + l) mod 2^(t)))) / 2^(t)) = e^((-(2 * pi * i * (b + l))) / 2^(t))"
      ]
     },
     "execution_count": 40,
     "metadata": {},
     "output_type": "execute_result"
    }
   ],
   "source": [
    "Add(b_, l).deduceInReals(assumptions)\n",
    "two_pow_t.deduceInReals()\n",
    "exp_neg2pi_i_x_spec = exp_neg2pi_i_x.specialize({x:Add(b_, l), r:two_pow_t}).proven(assumptions)\n",
    "exp_neg2pi_i_x_spec"
   ]
  },
  {
   "cell_type": "code",
   "execution_count": 41,
   "metadata": {
    "collapsed": false
   },
   "outputs": [
    {
     "data": {
      "text/latex": [
       "$\\left(e^{\\frac{-\\left(2 \\cdot \\pi \\cdot i \\cdot k \\cdot \\left(b \\oplus l\\right)\\right)}{2^{t}}} \\cdot e^{2 \\cdot \\pi \\cdot i \\cdot \\varphi \\cdot k}\\right) = \\left(\\left(e^{\\frac{-\\left(2 \\cdot \\pi \\cdot i \\cdot \\left(b + l\\right)\\right)}{2^{t}}}\\right)^{k} \\cdot \\left(e^{2 \\cdot \\pi \\cdot i \\cdot \\varphi}\\right)^{k}\\right)$"
      ],
      "text/plain": [
       "(e^((-(2 * pi * i * k * (b MOD_ADD l))) / 2^(t)) * e^(2 * pi * i * phase * k)) = ((e^((-(2 * pi * i * (b + l))) / 2^(t)))^(k) * (e^(2 * pi * i * phase))^(k))"
      ]
     },
     "execution_count": 41,
     "metadata": {},
     "output_type": "execute_result"
    }
   ],
   "source": [
    "equation.update(exp_neg2pi_i_x_spec.substitution(equation.eqExpr.rhs)).proven(assumptions)"
   ]
  },
  {
   "cell_type": "code",
   "execution_count": 42,
   "metadata": {
    "collapsed": false
   },
   "outputs": [
    {
     "data": {
      "text/latex": [
       "$\\left(e^{\\frac{-\\left(2 \\cdot \\pi \\cdot i \\cdot k \\cdot \\left(b \\oplus l\\right)\\right)}{2^{t}}} \\cdot e^{2 \\cdot \\pi \\cdot i \\cdot \\varphi \\cdot k}\\right) = \\left(e^{\\frac{-\\left(2 \\cdot \\pi \\cdot i \\cdot \\left(b + l\\right)\\right)}{2^{t}}} \\cdot e^{2 \\cdot \\pi \\cdot i \\cdot \\varphi}\\right)^{k}$"
      ],
      "text/plain": [
       "(e^((-(2 * pi * i * k * (b MOD_ADD l))) / 2^(t)) * e^(2 * pi * i * phase * k)) = (e^((-(2 * pi * i * (b + l))) / 2^(t)) * e^(2 * pi * i * phase))^(k)"
      ]
     },
     "execution_count": 42,
     "metadata": {},
     "output_type": "execute_result"
    }
   ],
   "source": [
    "equation.update(equation.eqExpr.rhs.combineExponents(assumptions)).proven(assumptions)"
   ]
  },
  {
   "cell_type": "code",
   "execution_count": 43,
   "metadata": {
    "collapsed": false
   },
   "outputs": [
    {
     "data": {
      "text/latex": [
       "$\\left(e^{\\frac{-\\left(2 \\cdot \\pi \\cdot i \\cdot k \\cdot \\left(b \\oplus l\\right)\\right)}{2^{t}}} \\cdot e^{2 \\cdot \\pi \\cdot i \\cdot \\varphi \\cdot k}\\right) = \\left(e^{2 \\cdot \\pi \\cdot i \\cdot \\varphi} \\cdot e^{\\frac{-\\left(2 \\cdot \\pi \\cdot i \\cdot \\left(b + l\\right)\\right)}{2^{t}}}\\right)^{k}$"
      ],
      "text/plain": [
       "(e^((-(2 * pi * i * k * (b MOD_ADD l))) / 2^(t)) * e^(2 * pi * i * phase * k)) = (e^(2 * pi * i * phase) * e^((-(2 * pi * i * (b + l))) / 2^(t)))^(k)"
      ]
     },
     "execution_count": 43,
     "metadata": {},
     "output_type": "execute_result"
    }
   ],
   "source": [
    "equation.update(autoSubstitution(equation.eqExpr.rhs, 'commute', [], {'assumptions':assumptions}, subExprClass=Multiply)).proven(assumptions)"
   ]
  },
  {
   "cell_type": "code",
   "execution_count": 44,
   "metadata": {
    "collapsed": false
   },
   "outputs": [
    {
     "data": {
      "text/latex": [
       "$\\left(e^{\\frac{-\\left(2 \\cdot \\pi \\cdot i \\cdot k \\cdot \\left(b \\oplus l\\right)\\right)}{2^{t}}} \\cdot e^{2 \\cdot \\pi \\cdot i \\cdot \\varphi \\cdot k}\\right) = \\left(e^{\\left(2 \\cdot \\pi \\cdot i \\cdot \\varphi\\right) - \\frac{2 \\cdot \\pi \\cdot i \\cdot \\left(b + l\\right)}{2^{t}}}\\right)^{k}$"
      ],
      "text/plain": [
       "(e^((-(2 * pi * i * k * (b MOD_ADD l))) / 2^(t)) * e^(2 * pi * i * phase * k)) = (e^((2 * pi * i * phase) - (2 * pi * i * (b + l)) / 2^(t)))^(k)"
      ]
     },
     "execution_count": 44,
     "metadata": {},
     "output_type": "execute_result"
    }
   ],
   "source": [
    "equation.update(autoSubstitution(equation.eqExpr.rhs, 'combineExponents', [], {'assumptions':assumptions}, subExprClass=Multiply)).proven(assumptions)"
   ]
  },
  {
   "cell_type": "code",
   "execution_count": 45,
   "metadata": {
    "collapsed": false
   },
   "outputs": [
    {
     "data": {
      "text/latex": [
       "$\\left(e^{\\frac{-\\left(2 \\cdot \\pi \\cdot i \\cdot k \\cdot \\left(b \\oplus l\\right)\\right)}{2^{t}}} \\cdot e^{2 \\cdot \\pi \\cdot i \\cdot \\varphi \\cdot k}\\right) = \\left(e^{2 \\cdot \\pi \\cdot i \\cdot \\left(\\varphi - \\frac{b + l}{2^{t}}\\right)}\\right)^{k}$"
      ],
      "text/plain": [
       "(e^((-(2 * pi * i * k * (b MOD_ADD l))) / 2^(t)) * e^(2 * pi * i * phase * k)) = (e^(2 * pi * i * (phase - (b + l) / 2^(t))))^(k)"
      ]
     },
     "execution_count": 45,
     "metadata": {},
     "output_type": "execute_result"
    }
   ],
   "source": [
    "equation.update(autoSubstitution(equation.eqExpr.rhs, 'factor', [Multiply(two, pi, i)], {'assumptions':assumptions}, subExprClass=Subtract)).proven(assumptions)"
   ]
  },
  {
   "cell_type": "code",
   "execution_count": 46,
   "metadata": {
    "collapsed": false
   },
   "outputs": [
    {
     "data": {
      "text/latex": [
       "$\\forall_{k \\in \\{0\\ldots 2^{t - 1}\\}} \\left(\\left(e^{\\frac{-\\left(2 \\cdot \\pi \\cdot i \\cdot k \\cdot \\left(b \\oplus l\\right)\\right)}{2^{t}}} \\cdot e^{2 \\cdot \\pi \\cdot i \\cdot \\varphi \\cdot k}\\right) = \\left(e^{2 \\cdot \\pi \\cdot i \\cdot \\left(\\varphi - \\frac{b + l}{2^{t}}\\right)}\\right)^{k}\\right)$"
      ],
      "text/plain": [
       "forall_{k in \\{0...2^(t - 1)\\}} ((e^((-(2 * pi * i * k * (b MOD_ADD l))) / 2^(t)) * e^(2 * pi * i * phase * k)) = (e^(2 * pi * i * (phase - (b + l) / 2^(t))))^(k))"
      ]
     },
     "execution_count": 46,
     "metadata": {},
     "output_type": "execute_result"
    }
   ],
   "source": [
    "equivalenceForallInstances = equation.eqExpr.generalize(k, domain=kDomain)\n",
    "equivalenceForallInstances"
   ]
  },
  {
   "cell_type": "code",
   "execution_count": 47,
   "metadata": {
    "collapsed": false
   },
   "outputs": [
    {
     "data": {
      "text/latex": [
       "$\\sum_{k=0}^{2^{t - 1}}\\left(e^{\\frac{-\\left(2 \\cdot \\pi \\cdot i \\cdot k \\cdot \\left(b \\oplus l\\right)\\right)}{2^{t}}} \\cdot e^{2 \\cdot \\pi \\cdot i \\cdot \\varphi \\cdot k}\\right) = \\sum_{k=0}^{2^{t - 1}}\\left(e^{2 \\cdot \\pi \\cdot i \\cdot \\left(\\varphi - \\frac{b + l}{2^{t}}\\right)}\\right)^{k}$"
      ],
      "text/plain": [
       "Summation_{k=0}^{2^(t - 1)}(e^((-(2 * pi * i * k * (b MOD_ADD l))) / 2^(t)) * e^(2 * pi * i * phase * k)) = Summation_{k=0}^{2^(t - 1)}(e^(2 * pi * i * (phase - (b + l) / 2^(t))))^(k)"
      ]
     },
     "execution_count": 47,
     "metadata": {},
     "output_type": "execute_result"
    }
   ],
   "source": [
    "summationEquivalence = alpha_l_eval_special.rhs.instanceSubstitution(equivalenceForallInstances)\n",
    "summationEquivalence"
   ]
  },
  {
   "cell_type": "code",
   "execution_count": 48,
   "metadata": {
    "collapsed": false
   },
   "outputs": [
    {
     "data": {
      "text/latex": [
       "$\\alpha_{l} = \\sum_{k=0}^{2^{t - 1}}\\left(e^{2 \\cdot \\pi \\cdot i \\cdot \\left(\\varphi - \\frac{b + l}{2^{t}}\\right)}\\right)^{k}$"
      ],
      "text/plain": [
       "alpha_{l} = Summation_{k=0}^{2^(t - 1)}(e^(2 * pi * i * (phase - (b + l) / 2^(t))))^(k)"
      ]
     },
     "execution_count": 48,
     "metadata": {},
     "output_type": "execute_result"
    }
   ],
   "source": [
    "summationEquivalence.rhsSubstitute(alpha_l_eval_special)"
   ]
  },
  {
   "cell_type": "code",
   "execution_count": null,
   "metadata": {
    "collapsed": true
   },
   "outputs": [],
   "source": []
  }
 ],
 "metadata": {
  "kernelspec": {
   "display_name": "Python 2",
   "language": "python",
   "name": "python2"
  },
  "language_info": {
   "codemirror_mode": {
    "name": "ipython",
    "version": 2
   },
   "file_extension": ".py",
   "mimetype": "text/x-python",
   "name": "python",
   "nbconvert_exporter": "python",
   "pygments_lexer": "ipython2",
   "version": "2.7.10"
  }
 },
 "nbformat": 4,
 "nbformat_minor": 0
}
