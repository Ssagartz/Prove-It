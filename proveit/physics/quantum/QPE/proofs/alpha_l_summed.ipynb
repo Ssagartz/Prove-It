{
 "cells": [
  {
   "cell_type": "code",
   "execution_count": 10,
   "metadata": {
    "collapsed": false
   },
   "outputs": [],
   "source": [
    "from proveit.basiclogic import autoSubstitute, autoSubstitution, In\n",
    "from proveit.common import k, l\n",
    "from proveit.number import Exponentiate, Subtract\n",
    "from proveit.number.common import Complexes, Integers, one, two, pi, i, e\n",
    "from proveit.physics.quantum.QPE.axioms import phaseInReals, tInNats\n",
    "from proveit.physics.quantum.QPE.theorems import alpha_l_eval, bestInInts\n",
    "from proveit.physics.quantum.QPE.common import t_, b_, two_pow_t, phase_\n",
    "from proveit.physics.quantum.QPE.phaseEstOps import ModAdd"
   ]
  },
  {
   "cell_type": "code",
   "execution_count": 11,
   "metadata": {
    "collapsed": false
   },
   "outputs": [
    {
     "data": {
      "text/latex": [
       "$\\alpha_{l} = \\sum_{k=0}^{2^{t - 1}}\\left(e^{\\frac{-\\left(2 \\cdot \\pi \\cdot i \\cdot k \\cdot \\left(b \\oplus l\\right)\\right)}{2^{t}}} \\cdot e^{2 \\cdot \\pi \\cdot i \\cdot \\varphi \\cdot k}\\right)$"
      ],
      "text/plain": [
       "alpha_{l} = Summation_{k=0}^{2^(t - 1)}(e^((-(2 * pi * i * k * (b MOD_ADD l))) / 2^(t)) * e^(2 * pi * i * phase * k))"
      ]
     },
     "execution_count": 11,
     "metadata": {},
     "output_type": "execute_result"
    }
   ],
   "source": [
    "alpha_l_eval_special = alpha_l_eval.specialize()\n",
    "alpha_l_eval_special"
   ]
  },
  {
   "cell_type": "code",
   "execution_count": 12,
   "metadata": {
    "collapsed": false
   },
   "outputs": [
    {
     "data": {
      "text/latex": [
       "$\\{0\\ldots 2^{t - 1}\\}$"
      ],
      "text/plain": [
       "\\{0...2^(t - 1)\\}"
      ]
     },
     "execution_count": 12,
     "metadata": {},
     "output_type": "execute_result"
    }
   ],
   "source": [
    "kDomain = alpha_l_eval_special.rhs.domain\n",
    "kDomain"
   ]
  },
  {
   "cell_type": "code",
   "execution_count": 15,
   "metadata": {
    "collapsed": false
   },
   "outputs": [
    {
     "data": {
      "text/latex": [
       "$k \\in \\mathbb{Z}$"
      ],
      "text/plain": [
       "k in Integers"
      ]
     },
     "execution_count": 15,
     "metadata": {},
     "output_type": "execute_result"
    }
   ],
   "source": [
    "assumptions = {In(k, kDomain), In(l, Integers), In(Exponentiate(two, Subtract(t_, one)), Integers)}\n",
    "kDomain.deduceMemberInIntegers(k, assumptions=assumptions).proven(assumptions)"
   ]
  },
  {
   "cell_type": "code",
   "execution_count": 16,
   "metadata": {
    "collapsed": false
   },
   "outputs": [
    {
     "data": {
      "text/latex": [
       "$\\left(e^{\\frac{-\\left(2 \\cdot \\pi \\cdot i \\cdot k \\cdot \\left(b \\oplus l\\right)\\right)}{2^{t}}} \\cdot e^{2 \\cdot \\pi \\cdot i \\cdot \\varphi \\cdot k}\\right) = \\left(\\left(e^{\\frac{-\\left(2 \\cdot \\pi \\cdot i \\cdot \\left(b \\oplus l\\right)\\right)}{2^{t}}}\\right)^{k} \\cdot e^{2 \\cdot \\pi \\cdot i \\cdot \\varphi \\cdot k}\\right)$"
      ],
      "text/plain": [
       "(e^((-(2 * pi * i * k * (b MOD_ADD l))) / 2^(t)) * e^(2 * pi * i * phase * k)) = ((e^((-(2 * pi * i * (b MOD_ADD l))) / 2^(t)))^(k) * e^(2 * pi * i * phase * k))"
      ]
     },
     "execution_count": 16,
     "metadata": {},
     "output_type": "execute_result"
    }
   ],
   "source": [
    "eqn1 = autoSubstitution(alpha_l_eval_special.rhs.instanceExpr, 'raiseExpFactor', [k], {'assumptions':assumptions}, subExprClass=Exponentiate).proven(assumptions)\n",
    "eqn1"
   ]
  },
  {
   "cell_type": "code",
   "execution_count": 17,
   "metadata": {
    "collapsed": false
   },
   "outputs": [
    {
     "data": {
      "text/latex": [
       "$\\left(\\left(e^{\\frac{-\\left(2 \\cdot \\pi \\cdot i \\cdot \\left(b \\oplus l\\right)\\right)}{2^{t}}}\\right)^{k} \\cdot e^{2 \\cdot \\pi \\cdot i \\cdot \\varphi \\cdot k}\\right) = \\left(\\left(e^{\\frac{-\\left(2 \\cdot \\pi \\cdot i \\cdot \\left(b \\oplus l\\right)\\right)}{2^{t}}}\\right)^{k} \\cdot \\left(e^{2 \\cdot \\pi \\cdot i \\cdot \\varphi}\\right)^{k}\\right)$"
      ],
      "text/plain": [
       "((e^((-(2 * pi * i * (b MOD_ADD l))) / 2^(t)))^(k) * e^(2 * pi * i * phase * k)) = ((e^((-(2 * pi * i * (b MOD_ADD l))) / 2^(t)))^(k) * (e^(2 * pi * i * phase))^(k))"
      ]
     },
     "execution_count": 17,
     "metadata": {},
     "output_type": "execute_result"
    }
   ],
   "source": [
    "eqn2 = autoSubstitution(eqn1.rhs, 'raiseExpFactor', [k], {'assumptions':assumptions}, \n",
    "                        subExprClass=Exponentiate, suppressWarnings=True).proven(assumptions)\n",
    "eqn2"
   ]
  },
  {
   "cell_type": "code",
   "execution_count": 20,
   "metadata": {
    "collapsed": false
   },
   "outputs": [
    {
     "data": {
      "text/latex": [
       "$\\forall_{k \\in \\{0\\ldots 2^{t - 1}\\}} \\left(\\left(e^{\\frac{-\\left(2 \\cdot \\pi \\cdot i \\cdot k \\cdot \\left(b \\oplus l\\right)\\right)}{2^{t}}} \\cdot e^{2 \\cdot \\pi \\cdot i \\cdot \\varphi \\cdot k}\\right) = \\left(\\left(e^{\\frac{-\\left(2 \\cdot \\pi \\cdot i \\cdot \\left(b \\oplus l\\right)\\right)}{2^{t}}}\\right)^{k} \\cdot \\left(e^{2 \\cdot \\pi \\cdot i \\cdot \\varphi}\\right)^{k}\\right)\\right)$"
      ],
      "text/plain": [
       "forall_{k in \\{0...2^(t - 1)\\}} ((e^((-(2 * pi * i * k * (b MOD_ADD l))) / 2^(t)) * e^(2 * pi * i * phase * k)) = ((e^((-(2 * pi * i * (b MOD_ADD l))) / 2^(t)))^(k) * (e^(2 * pi * i * phase))^(k)))"
      ]
     },
     "execution_count": 20,
     "metadata": {},
     "output_type": "execute_result"
    }
   ],
   "source": [
    "equivalenceForallInstances = eqn1.applyTransitivity(eqn2).generalize(k, domain = kDomain).proven(assumptions)\n",
    "equivalenceForallInstances"
   ]
  },
  {
   "cell_type": "code",
   "execution_count": 21,
   "metadata": {
    "collapsed": false
   },
   "outputs": [
    {
     "ename": "ImproperSpecialization",
     "evalue": "May only relabel a Variable to a Variable.",
     "output_type": "error",
     "traceback": [
      "\u001b[0;31m---------------------------------------------------------------------------\u001b[0m",
      "\u001b[0;31mImproperSpecialization\u001b[0m                    Traceback (most recent call last)",
      "\u001b[0;32m<ipython-input-21-9bf446c9922f>\u001b[0m in \u001b[0;36m<module>\u001b[0;34m()\u001b[0m\n\u001b[0;32m----> 1\u001b[0;31m \u001b[0malpha_l_eval_special\u001b[0m\u001b[0;34m.\u001b[0m\u001b[0mrhs\u001b[0m\u001b[0;34m.\u001b[0m\u001b[0minstanceSubstitution\u001b[0m\u001b[0;34m(\u001b[0m\u001b[0mequivalenceForallInstances\u001b[0m\u001b[0;34m)\u001b[0m\u001b[0;34m\u001b[0m\u001b[0m\n\u001b[0m",
      "\u001b[0;32m/Users/wwitzel/proveit/proveit/basiclogic/genericOps.pyc\u001b[0m in \u001b[0;36minstanceSubstitution\u001b[0;34m(self, equivalenceForallInstances)\u001b[0m\n\u001b[1;32m    179\u001b[0m             \u001b[0;32mraise\u001b[0m \u001b[0mInstanceSubstitutionException\u001b[0m\u001b[0;34m(\u001b[0m\u001b[0;34m\"lhs of equivalence in equivalenceForallInstances must match the instance expression of the OperationOverInstances having instances substituted\"\u001b[0m\u001b[0;34m,\u001b[0m \u001b[0mself\u001b[0m\u001b[0;34m,\u001b[0m \u001b[0mequivalenceForallInstances\u001b[0m\u001b[0;34m)\u001b[0m\u001b[0;34m\u001b[0m\u001b[0m\n\u001b[1;32m    180\u001b[0m         return instanceSubstitution.specialize({n:num(len(self.instanceVars)), Upsilon:self.operator, xEtc:self.instanceVars, yEtc:self.instanceVars, zEtc:self.instanceVars, \\\n\u001b[0;32m--> 181\u001b[0;31m                                                 etc_QxEtc:self.conditions, S:self.domain, fxEtc:self.instanceExpr, gxEtc:equivalenceForallInstances.instanceExpr.rhs.substituted(iVarSubstitutions)})\n\u001b[0m\u001b[1;32m    182\u001b[0m \u001b[0;34m\u001b[0m\u001b[0m\n\u001b[1;32m    183\u001b[0m     \u001b[0;32mdef\u001b[0m \u001b[0msubstituteInstances\u001b[0m\u001b[0;34m(\u001b[0m\u001b[0mself\u001b[0m\u001b[0;34m,\u001b[0m \u001b[0mequivalenceForallInstances\u001b[0m\u001b[0;34m)\u001b[0m\u001b[0;34m:\u001b[0m\u001b[0;34m\u001b[0m\u001b[0m\n",
      "\u001b[0;32m/Users/wwitzel/proveit/proveit/basiclogic/boolean/quantifiers.pyc\u001b[0m in \u001b[0;36mspecialize\u001b[0;34m(self, subMap, conditionAsHypothesis)\u001b[0m\n\u001b[1;32m     49\u001b[0m         \u001b[0;32mfor\u001b[0m \u001b[0mvar\u001b[0m \u001b[0;32min\u001b[0m \u001b[0miVarSet\u001b[0m\u001b[0;34m:\u001b[0m\u001b[0;34m\u001b[0m\u001b[0m\n\u001b[1;32m     50\u001b[0m             \u001b[0;32mif\u001b[0m \u001b[0mvar\u001b[0m \u001b[0;32mnot\u001b[0m \u001b[0;32min\u001b[0m \u001b[0msubVars\u001b[0m\u001b[0;34m:\u001b[0m \u001b[0msubMap\u001b[0m\u001b[0;34m[\u001b[0m\u001b[0mvar\u001b[0m\u001b[0;34m]\u001b[0m \u001b[0;34m=\u001b[0m \u001b[0mvar\u001b[0m\u001b[0;34m\u001b[0m\u001b[0m\n\u001b[0;32m---> 51\u001b[0;31m         \u001b[0mspecialized\u001b[0m \u001b[0;34m=\u001b[0m \u001b[0mExpression\u001b[0m\u001b[0;34m.\u001b[0m\u001b[0mspecialize\u001b[0m\u001b[0;34m(\u001b[0m\u001b[0mself\u001b[0m\u001b[0;34m,\u001b[0m \u001b[0msubMap\u001b[0m\u001b[0;34m,\u001b[0m \u001b[0mrelabelMap\u001b[0m\u001b[0;34m)\u001b[0m\u001b[0;34m\u001b[0m\u001b[0m\n\u001b[0m\u001b[1;32m     52\u001b[0m         \u001b[0;32mif\u001b[0m \u001b[0mconditionAsHypothesis\u001b[0m \u001b[0;32mand\u001b[0m \u001b[0mself\u001b[0m\u001b[0;34m.\u001b[0m\u001b[0mhasCondition\u001b[0m\u001b[0;34m(\u001b[0m\u001b[0;34m)\u001b[0m\u001b[0;34m:\u001b[0m\u001b[0;34m\u001b[0m\u001b[0m\n\u001b[1;32m     53\u001b[0m             \u001b[0;32mreturn\u001b[0m \u001b[0mImplies\u001b[0m\u001b[0;34m(\u001b[0m\u001b[0mself\u001b[0m\u001b[0;34m.\u001b[0m\u001b[0mconditions\u001b[0m\u001b[0;34m[\u001b[0m\u001b[0;36m0\u001b[0m\u001b[0;34m]\u001b[0m\u001b[0;34m,\u001b[0m \u001b[0mspecialized\u001b[0m\u001b[0;34m)\u001b[0m\u001b[0;34m.\u001b[0m\u001b[0mchecked\u001b[0m\u001b[0;34m(\u001b[0m\u001b[0;34m{\u001b[0m\u001b[0mself\u001b[0m\u001b[0;34m}\u001b[0m\u001b[0;34m)\u001b[0m\u001b[0;34m\u001b[0m\u001b[0m\n",
      "\u001b[0;32m/Users/wwitzel/proveit/proveit/expression.pyc\u001b[0m in \u001b[0;36mspecialize\u001b[0;34m(self, subMap, relabelMap)\u001b[0m\n\u001b[1;32m    223\u001b[0m     \u001b[0;32mdef\u001b[0m \u001b[0mspecialize\u001b[0m\u001b[0;34m(\u001b[0m\u001b[0mself\u001b[0m\u001b[0;34m,\u001b[0m \u001b[0msubMap\u001b[0m\u001b[0;34m=\u001b[0m\u001b[0mNone\u001b[0m\u001b[0;34m,\u001b[0m \u001b[0mrelabelMap\u001b[0m\u001b[0;34m=\u001b[0m\u001b[0mNone\u001b[0m\u001b[0;34m)\u001b[0m\u001b[0;34m:\u001b[0m\u001b[0;34m\u001b[0m\u001b[0m\n\u001b[1;32m    224\u001b[0m         \u001b[0;31m# Can be overridden by the Forall implementation\u001b[0m\u001b[0;34m\u001b[0m\u001b[0;34m\u001b[0m\u001b[0m\n\u001b[0;32m--> 225\u001b[0;31m         \u001b[0;32mreturn\u001b[0m \u001b[0mself\u001b[0m\u001b[0;34m.\u001b[0m\u001b[0m_specialize_or_relabel\u001b[0m\u001b[0;34m(\u001b[0m\u001b[0msubMap\u001b[0m\u001b[0;34m=\u001b[0m\u001b[0msubMap\u001b[0m\u001b[0;34m,\u001b[0m \u001b[0mrelabelMap\u001b[0m\u001b[0;34m=\u001b[0m\u001b[0mrelabelMap\u001b[0m\u001b[0;34m)\u001b[0m\u001b[0;34m\u001b[0m\u001b[0m\n\u001b[0m\u001b[1;32m    226\u001b[0m \u001b[0;34m\u001b[0m\u001b[0m\n\u001b[1;32m    227\u001b[0m     \u001b[0;32mdef\u001b[0m \u001b[0m_specialize_or_relabel\u001b[0m\u001b[0;34m(\u001b[0m\u001b[0mself\u001b[0m\u001b[0;34m,\u001b[0m \u001b[0msubMap\u001b[0m\u001b[0;34m=\u001b[0m\u001b[0mNone\u001b[0m\u001b[0;34m,\u001b[0m \u001b[0mrelabelMap\u001b[0m\u001b[0;34m=\u001b[0m\u001b[0mNone\u001b[0m\u001b[0;34m)\u001b[0m\u001b[0;34m:\u001b[0m\u001b[0;34m\u001b[0m\u001b[0m\n",
      "\u001b[0;32m/Users/wwitzel/proveit/proveit/expression.pyc\u001b[0m in \u001b[0;36m_specialize_or_relabel\u001b[0;34m(self, subMap, relabelMap)\u001b[0m\n\u001b[1;32m    229\u001b[0m         \u001b[0;32mif\u001b[0m \u001b[0msubMap\u001b[0m \u001b[0;32mis\u001b[0m \u001b[0mNone\u001b[0m\u001b[0;34m:\u001b[0m \u001b[0msubMap\u001b[0m \u001b[0;34m=\u001b[0m \u001b[0mdict\u001b[0m\u001b[0;34m(\u001b[0m\u001b[0;34m)\u001b[0m\u001b[0;34m\u001b[0m\u001b[0m\n\u001b[1;32m    230\u001b[0m         \u001b[0;32mif\u001b[0m \u001b[0mrelabelMap\u001b[0m \u001b[0;32mis\u001b[0m \u001b[0mNone\u001b[0m\u001b[0;34m:\u001b[0m \u001b[0mrelabelMap\u001b[0m \u001b[0;34m=\u001b[0m \u001b[0mdict\u001b[0m\u001b[0;34m(\u001b[0m\u001b[0;34m)\u001b[0m\u001b[0;34m\u001b[0m\u001b[0m\n\u001b[0;32m--> 231\u001b[0;31m         \u001b[0;34m(\u001b[0m\u001b[0mspecialization\u001b[0m\u001b[0;34m,\u001b[0m \u001b[0mconditions\u001b[0m\u001b[0;34m)\u001b[0m \u001b[0;34m=\u001b[0m \u001b[0mStatement\u001b[0m\u001b[0;34m.\u001b[0m\u001b[0mspecialize\u001b[0m\u001b[0;34m(\u001b[0m\u001b[0mself\u001b[0m\u001b[0;34m,\u001b[0m \u001b[0msubMap\u001b[0m\u001b[0;34m,\u001b[0m \u001b[0mrelabelMap\u001b[0m\u001b[0;34m)\u001b[0m\u001b[0;34m\u001b[0m\u001b[0m\n\u001b[0m\u001b[1;32m    232\u001b[0m         \u001b[0;32mreturn\u001b[0m \u001b[0mspecialization\u001b[0m\u001b[0;34m.\u001b[0m\u001b[0mchecked\u001b[0m\u001b[0;34m(\u001b[0m\u001b[0;34m{\u001b[0m\u001b[0mself\u001b[0m\u001b[0;34m}\u001b[0m \u001b[0;34m|\u001b[0m \u001b[0mconditions\u001b[0m\u001b[0;34m)\u001b[0m\u001b[0;34m\u001b[0m\u001b[0m\n\u001b[1;32m    233\u001b[0m \u001b[0;34m\u001b[0m\u001b[0m\n",
      "\u001b[0;32m/Users/wwitzel/proveit/proveit/statement.pyc\u001b[0m in \u001b[0;36mspecialize\u001b[0;34m(originalExpr, subMap, relabelMap)\u001b[0m\n\u001b[1;32m    139\u001b[0m             \u001b[0;32mif\u001b[0m \u001b[0misinstance\u001b[0m\u001b[0;34m(\u001b[0m\u001b[0mkey\u001b[0m\u001b[0;34m,\u001b[0m \u001b[0mVariable\u001b[0m\u001b[0;34m)\u001b[0m\u001b[0;34m:\u001b[0m\u001b[0;34m\u001b[0m\u001b[0m\n\u001b[1;32m    140\u001b[0m                 \u001b[0;32mif\u001b[0m \u001b[0;32mnot\u001b[0m \u001b[0misinstance\u001b[0m\u001b[0;34m(\u001b[0m\u001b[0msub\u001b[0m\u001b[0;34m,\u001b[0m \u001b[0mVariable\u001b[0m\u001b[0;34m)\u001b[0m\u001b[0;34m:\u001b[0m\u001b[0;34m\u001b[0m\u001b[0m\n\u001b[0;32m--> 141\u001b[0;31m                     \u001b[0;32mraise\u001b[0m \u001b[0mImproperSpecialization\u001b[0m\u001b[0;34m(\u001b[0m\u001b[0;34m'May only relabel a Variable to a Variable.'\u001b[0m\u001b[0;34m)\u001b[0m\u001b[0;34m\u001b[0m\u001b[0m\n\u001b[0m\u001b[1;32m    142\u001b[0m                 \u001b[0mrelabelVar\u001b[0m \u001b[0;34m=\u001b[0m \u001b[0mkey\u001b[0m\u001b[0;34m\u001b[0m\u001b[0m\n\u001b[1;32m    143\u001b[0m             \u001b[0;32melif\u001b[0m \u001b[0misBundledVar\u001b[0m\u001b[0;34m(\u001b[0m\u001b[0mkey\u001b[0m\u001b[0;34m)\u001b[0m\u001b[0;34m:\u001b[0m\u001b[0;34m\u001b[0m\u001b[0m\n",
      "\u001b[0;31mImproperSpecialization\u001b[0m: May only relabel a Variable to a Variable."
     ]
    }
   ],
   "source": [
    "alpha_l_eval_special.rhs.instanceSubstitution(equivalenceForallInstances)"
   ]
  },
  {
   "cell_type": "code",
   "execution_count": 3,
   "metadata": {
    "collapsed": false
   },
   "outputs": [
    {
     "data": {
      "image/png": "[encoded data removed]",
      "text/plain": [
       "Summation_{k=0}^{2^(t - 1)}e^(-(2 * pi * i * k * (b MOD_ADD l)) / 2^(t)) * e^(2 * pi * i * phase * k)"
      ]
     },
     "execution_count": 3,
     "metadata": {},
     "output_type": "execute_result"
    }
   ],
   "source": [
    "alpha_l_eval_special.rhs.instanceSubstitution()"
   ]
  },
  {
   "cell_type": "code",
   "execution_count": 16,
   "metadata": {
    "collapsed": false
   },
   "outputs": [
    {
     "name": "stdout",
     "output_type": "stream",
     "text": [
      "Warning, failure in autosub attempt when applying 'raiseExpFactor' method to e^(-(2 * pi * i * k * (b MOD_ADD l)) / 2^(t)):\n",
      "May only apply raiseExpFactor to a power with a product as the exponent\n",
      "Continuing on\n",
      "Warning, failure in autosub attempt when applying 'raiseExpFactor' method to 2^(t):\n",
      "May only apply raiseExpFactor to a power with a product as the exponent\n",
      "Continuing on\n",
      "_0_\n",
      "e^(_0_)\n",
      "proveit.number.arithmeticOps.Multiply\n",
      "proveit.number.arithmeticOps.Multiply\n",
      "_0_\n",
      "e^(-(2 * pi * i * k * (b MOD_ADD l)) / 2^(t)) * _0_\n",
      "proveit.number.arithmeticOps.Exponentiate\n",
      "proveit.number.arithmeticOps.Exponentiate\n"
     ]
    },
    {
     "ename": "ProofFailure",
     "evalue": "Proof failed: (e^(-(2 * pi * i * k * (b MOD_ADD l)) / 2^(t)) * e^(2 * pi * i * phase * k)) = (e^(-(2 * pi * i * k * (b MOD_ADD l)) / 2^(t)) * (e^(2 * pi * i * phase))^(k)) assuming {}",
     "output_type": "error",
     "traceback": [
      "\u001b[0;31m---------------------------------------------------------------------------\u001b[0m",
      "\u001b[0;31mProofFailure\u001b[0m                              Traceback (most recent call last)",
      "\u001b[0;32m<ipython-input-16-56d7150665b7>\u001b[0m in \u001b[0;36m<module>\u001b[0;34m()\u001b[0m\n\u001b[0;32m----> 1\u001b[0;31m \u001b[0mautoSubstitution\u001b[0m\u001b[0;34m(\u001b[0m\u001b[0malpha_l_eval_special\u001b[0m\u001b[0;34m.\u001b[0m\u001b[0mrhs\u001b[0m\u001b[0;34m.\u001b[0m\u001b[0minstanceExpr\u001b[0m\u001b[0;34m,\u001b[0m \u001b[0;34m'raiseExpFactor'\u001b[0m\u001b[0;34m,\u001b[0m \u001b[0;34m[\u001b[0m\u001b[0mk\u001b[0m\u001b[0;34m]\u001b[0m\u001b[0;34m,\u001b[0m \u001b[0msubExprClass\u001b[0m\u001b[0;34m=\u001b[0m\u001b[0mExponentiate\u001b[0m\u001b[0;34m)\u001b[0m\u001b[0;34m.\u001b[0m\u001b[0mproven\u001b[0m\u001b[0;34m(\u001b[0m\u001b[0;34m)\u001b[0m\u001b[0;34m\u001b[0m\u001b[0m\n\u001b[0m",
      "\u001b[0;32m/Users/wwitzel/proveit/proveit/expression.pyc\u001b[0m in \u001b[0;36mproven\u001b[0;34m(self, assumptions)\u001b[0m\n\u001b[1;32m     99\u001b[0m             \u001b[0;32mreturn\u001b[0m \u001b[0;34m\"{\"\u001b[0m \u001b[0;34m+\u001b[0m \u001b[0;34m\", \"\u001b[0m\u001b[0;34m.\u001b[0m\u001b[0mjoin\u001b[0m\u001b[0;34m(\u001b[0m\u001b[0;34m[\u001b[0m\u001b[0mstr\u001b[0m\u001b[0;34m(\u001b[0m\u001b[0massumption\u001b[0m\u001b[0;34m)\u001b[0m \u001b[0;32mfor\u001b[0m \u001b[0massumption\u001b[0m \u001b[0;32min\u001b[0m \u001b[0massumptions\u001b[0m\u001b[0;34m]\u001b[0m\u001b[0;34m)\u001b[0m \u001b[0;34m+\u001b[0m \u001b[0;34m\"}\"\u001b[0m\u001b[0;34m\u001b[0m\u001b[0m\n\u001b[1;32m    100\u001b[0m         \u001b[0;32mif\u001b[0m \u001b[0mself\u001b[0m\u001b[0;34m.\u001b[0m\u001b[0misProven\u001b[0m\u001b[0;34m(\u001b[0m\u001b[0massumptions\u001b[0m\u001b[0;34m)\u001b[0m\u001b[0;34m==\u001b[0m\u001b[0mFalse\u001b[0m\u001b[0;34m:\u001b[0m\u001b[0;34m\u001b[0m\u001b[0m\n\u001b[0;32m--> 101\u001b[0;31m             \u001b[0;32mraise\u001b[0m \u001b[0mProofFailure\u001b[0m\u001b[0;34m(\u001b[0m\u001b[0;34m\"Proof failed: \"\u001b[0m \u001b[0;34m+\u001b[0m \u001b[0mstr\u001b[0m\u001b[0;34m(\u001b[0m\u001b[0mself\u001b[0m\u001b[0;34m)\u001b[0m \u001b[0;34m+\u001b[0m \u001b[0;34m\" assuming \"\u001b[0m \u001b[0;34m+\u001b[0m \u001b[0mmakeAssumptionsStr\u001b[0m\u001b[0;34m(\u001b[0m\u001b[0massumptions\u001b[0m\u001b[0;34m)\u001b[0m\u001b[0;34m)\u001b[0m\u001b[0;34m\u001b[0m\u001b[0m\n\u001b[0m\u001b[1;32m    102\u001b[0m         \u001b[0;32mreturn\u001b[0m \u001b[0mself\u001b[0m\u001b[0;34m\u001b[0m\u001b[0m\n\u001b[1;32m    103\u001b[0m \u001b[0;34m\u001b[0m\u001b[0m\n",
      "\u001b[0;31mProofFailure\u001b[0m: Proof failed: (e^(-(2 * pi * i * k * (b MOD_ADD l)) / 2^(t)) * e^(2 * pi * i * phase * k)) = (e^(-(2 * pi * i * k * (b MOD_ADD l)) / 2^(t)) * (e^(2 * pi * i * phase))^(k)) assuming {}"
     ]
    }
   ],
   "source": []
  },
  {
   "cell_type": "code",
   "execution_count": 17,
   "metadata": {
    "collapsed": false
   },
   "outputs": [
    {
     "data": {
      "image/png": "[encoded data removed]",
      "text/plain": [
       "forall_{a, b, c in Complexes} ((a^(b))^(c) = a^(b * c))"
      ]
     },
     "execution_count": 17,
     "metadata": {},
     "output_type": "execute_result"
    }
   ],
   "source": [
    "from proveit.number.complex.theorems import powOfPow\n",
    "powOfPow"
   ]
  },
  {
   "cell_type": "code",
   "execution_count": 18,
   "metadata": {
    "collapsed": true
   },
   "outputs": [],
   "source": [
    "from proveit.number.complex.theorems import multComm, multAssoc"
   ]
  },
  {
   "cell_type": "code",
   "execution_count": 19,
   "metadata": {
    "collapsed": false
   },
   "outputs": [
    {
     "data": {
      "image/png": "[encoded data removed]",
      "text/plain": [
       "forall_{..v.., ..w.., ..x.., ..y.., ..z..} ((..v.. * ..w.. * ..x.. * ..y.. * ..z..) = (..v.. * ..y.. * ..x.. * ..w.. * ..z..))"
      ]
     },
     "execution_count": 19,
     "metadata": {},
     "output_type": "execute_result"
    }
   ],
   "source": [
    "multComm"
   ]
  },
  {
   "cell_type": "code",
   "execution_count": 20,
   "metadata": {
    "collapsed": false
   },
   "outputs": [
    {
     "data": {
      "image/png": "[encoded data removed]",
      "text/plain": [
       "forall_{..w.., ..x.., ..y.., ..z..} ((..w.. * ..x.. * ..y.. * ..z..) = (..w.. * (..x.. * ..y..) * ..z..))"
      ]
     },
     "execution_count": 20,
     "metadata": {},
     "output_type": "execute_result"
    }
   ],
   "source": [
    "multAssoc"
   ]
  },
  {
   "cell_type": "code",
   "execution_count": 21,
   "metadata": {
    "collapsed": true
   },
   "outputs": [],
   "source": [
    "from proveit.number.complex.theorems import fracCancel1, fracCancel2, fracCancel3"
   ]
  },
  {
   "cell_type": "code",
   "execution_count": 22,
   "metadata": {
    "collapsed": false
   },
   "outputs": [
    {
     "data": {
      "image/png": "[encoded data removed]",
      "text/plain": [
       "forall_{x, ..y.., ..z.. in Complexes} ((x * ..y..) / (x * ..z..) = ..y.. / ..z..)"
      ]
     },
     "execution_count": 22,
     "metadata": {},
     "output_type": "execute_result"
    }
   ],
   "source": [
    "fracCancel1"
   ]
  },
  {
   "cell_type": "code",
   "execution_count": 23,
   "metadata": {
    "collapsed": false
   },
   "outputs": [
    {
     "data": {
      "image/png": "[encoded data removed]",
      "text/plain": [
       "forall_{x, ..y.. in Complexes} ((x * ..y..) / x = ..y..)"
      ]
     },
     "execution_count": 23,
     "metadata": {},
     "output_type": "execute_result"
    }
   ],
   "source": [
    "fracCancel2"
   ]
  },
  {
   "cell_type": "code",
   "execution_count": 24,
   "metadata": {
    "collapsed": false
   },
   "outputs": [
    {
     "data": {
      "image/png": "[encoded data removed]",
      "text/plain": [
       "forall_{x, ..y.. in Complexes} (x / (x * ..y..) = 1 / ..y..)"
      ]
     },
     "execution_count": 24,
     "metadata": {},
     "output_type": "execute_result"
    }
   ],
   "source": [
    "fracCancel3"
   ]
  },
  {
   "cell_type": "code",
   "execution_count": null,
   "metadata": {
    "collapsed": true
   },
   "outputs": [],
   "source": []
  }
 ],
 "metadata": {
  "kernelspec": {
   "display_name": "Python 2",
   "language": "python",
   "name": "python2"
  },
  "language_info": {
   "codemirror_mode": {
    "name": "ipython",
    "version": 2
   },
   "file_extension": ".py",
   "mimetype": "text/x-python",
   "name": "python",
   "nbconvert_exporter": "python",
   "pygments_lexer": "ipython2",
   "version": "2.7.10"
  }
 },
 "nbformat": 4,
 "nbformat_minor": 0
}
