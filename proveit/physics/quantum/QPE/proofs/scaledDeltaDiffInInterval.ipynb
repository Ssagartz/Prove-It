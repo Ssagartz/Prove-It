{
 "cells": [
  {
   "cell_type": "code",
   "execution_count": 1,
   "metadata": {
    "collapsed": true
   },
   "outputs": [],
   "source": [
    "from proveit.basiclogic import In, autoSubstitute\n",
    "from proveit.physics.quantum.QPE.theorems import scaledDeltaDiffInInterval, deltaDiffInInterval, two_pow_t_in_posnats, two_pow_tMinusOne_in_posnats, deltaInReals\n",
    "from proveit.physics.quantum.QPE.common import fullDomain\n",
    "from proveit.common import l, x, y\n",
    "from proveit.number import Multiply, Fraction\n",
    "from proveit.number.common import one, two, pi\n",
    "from proveit.number.numberSets import deduceInComplexes\n",
    "from proveit.number.complex.theorems import posTimesNeg\n",
    "from IPython.display import display"
   ]
  },
  {
   "cell_type": "code",
   "execution_count": 2,
   "metadata": {
    "collapsed": false
   },
   "outputs": [
    {
     "data": {
      "text/latex": [
       "$\\forall_{l \\in \\{\\left(\\left(-2^{t - 1}\\right) + 1\\right)\\ldots 2^{t - 1}\\}} \\left(\\left(2 \\cdot \\pi \\cdot \\left(\\delta - \\frac{l}{2^{t}}\\right)\\right) \\in \\left[\\left(-\\pi\\right),\\pi\\right]\\right)$"
      ],
      "text/plain": [
       "forall_{l in \\{((-2^(t - 1)) + 1)...2^(t - 1)\\}} ((2 * pi * (delta - l / 2^(t))) in [(-pi),pi])"
      ]
     },
     "execution_count": 2,
     "metadata": {},
     "output_type": "execute_result"
    }
   ],
   "source": [
    "scaledDeltaDiffInInterval.beginProof()"
   ]
  },
  {
   "cell_type": "code",
   "execution_count": 3,
   "metadata": {
    "collapsed": false
   },
   "outputs": [
    {
     "data": {
      "text/latex": [
       "$l \\in \\{\\left(\\left(-2^{t - 1}\\right) + 1\\right)\\ldots 2^{t - 1}\\}$"
      ],
      "text/plain": [
       "l in \\{((-2^(t - 1)) + 1)...2^(t - 1)\\}"
      ]
     },
     "metadata": {},
     "output_type": "display_data"
    },
    {
     "data": {
      "text/latex": [
       "$l \\in \\mathbb{Z}$"
      ],
      "text/plain": [
       "l in Integers"
      ]
     },
     "metadata": {},
     "output_type": "display_data"
    }
   ],
   "source": [
    "lInDomain = In(l, fullDomain)\n",
    "display(lInDomain)\n",
    "display(lInDomain.domain.deduceMemberInIntegers(l).proven({lInDomain}))"
   ]
  },
  {
   "cell_type": "code",
   "execution_count": 4,
   "metadata": {
    "collapsed": false
   },
   "outputs": [
    {
     "data": {
      "text/latex": [
       "$\\forall_{l \\in \\{\\left(\\left(-2^{t - 1}\\right) + 1\\right)\\ldots 2^{t - 1}\\}} \\left(\\left(\\delta - \\frac{l}{2^{t}}\\right) \\in \\left[\\left(-\\frac{1}{2}\\right),\\frac{1}{2}\\right)\\right)$"
      ],
      "text/plain": [
       "forall_{l in \\{((-2^(t - 1)) + 1)...2^(t - 1)\\}} ((delta - l / 2^(t)) in [(-1 / 2),1 / 2))"
      ]
     },
     "execution_count": 4,
     "metadata": {},
     "output_type": "execute_result"
    }
   ],
   "source": [
    "deltaDiffInInterval"
   ]
  },
  {
   "cell_type": "code",
   "execution_count": 5,
   "metadata": {
    "collapsed": false
   },
   "outputs": [
    {
     "data": {
      "text/latex": [
       "$\\left(\\delta - \\frac{l}{2^{t}}\\right) \\in \\left[\\left(-\\frac{1}{2}\\right),\\frac{1}{2}\\right)$"
      ],
      "text/plain": [
       "(delta - l / 2^(t)) in [(-1 / 2),1 / 2)"
      ]
     },
     "metadata": {},
     "output_type": "display_data"
    },
    {
     "data": {
      "text/latex": [
       "$\\left(\\delta - \\frac{l}{2^{t}}\\right) \\in \\mathbb{R}$"
      ],
      "text/plain": [
       "(delta - l / 2^(t)) in Reals"
      ]
     },
     "metadata": {},
     "output_type": "display_data"
    }
   ],
   "source": [
    "deltaDiffInIntervalSpec = deltaDiffInInterval.specialize()\n",
    "display(deltaDiffInIntervalSpec.proven({lInDomain}))\n",
    "display(deltaDiffInIntervalSpec.domain.deduceMemberInReals(deltaDiffInIntervalSpec.element).proven({lInDomain}))"
   ]
  },
  {
   "cell_type": "code",
   "execution_count": 6,
   "metadata": {
    "collapsed": false
   },
   "outputs": [
    {
     "data": {
      "text/latex": [
       "$\\left(\\delta - \\frac{l}{2^{t}}\\right) \\in \\left[\\left(-\\frac{1}{2}\\right),\\frac{1}{2}\\right]$"
      ],
      "text/plain": [
       "(delta - l / 2^(t)) in [(-1 / 2),1 / 2]"
      ]
     },
     "execution_count": 6,
     "metadata": {},
     "output_type": "execute_result"
    }
   ],
   "source": [
    "scaledDeltaDiffInDomain0 = deltaDiffInIntervalSpec.domain.deduceRelaxedMembership(deltaDiffInIntervalSpec.element)\n",
    "scaledDeltaDiffInDomain0.proven({lInDomain})"
   ]
  },
  {
   "cell_type": "code",
   "execution_count": 7,
   "metadata": {
    "collapsed": false
   },
   "outputs": [
    {
     "data": {
      "text/latex": [
       "$\\left(\\left(2 \\cdot \\pi\\right) \\cdot \\left(\\delta - \\frac{l}{2^{t}}\\right)\\right) \\in \\left[\\left(\\left(2 \\cdot \\pi\\right) \\cdot \\left(-\\frac{1}{2}\\right)\\right),\\left(\\left(2 \\cdot \\pi\\right) \\cdot \\frac{1}{2}\\right)\\right]$"
      ],
      "text/plain": [
       "((2 * pi) * (delta - l / 2^(t))) in [((2 * pi) * (-1 / 2)),((2 * pi) * 1 / 2)]"
      ]
     },
     "execution_count": 7,
     "metadata": {},
     "output_type": "execute_result"
    }
   ],
   "source": [
    "two_pi = Multiply(two, pi)\n",
    "scaledDeltaDiffInDomain1 = scaledDeltaDiffInDomain0.domain.deduceRescaledMembership(scaledDeltaDiffInDomain0.element, two_pi)\n",
    "scaledDeltaDiffInDomain1.proven({lInDomain})"
   ]
  },
  {
   "cell_type": "code",
   "execution_count": 8,
   "metadata": {
    "collapsed": false
   },
   "outputs": [
    {
     "data": {
      "text/latex": [
       "$\\left(2 \\cdot \\pi \\cdot \\left(\\delta - \\frac{l}{2^{t}}\\right)\\right) \\in \\left[\\left(\\left(2 \\cdot \\pi\\right) \\cdot \\left(-\\frac{1}{2}\\right)\\right),\\left(\\left(2 \\cdot \\pi\\right) \\cdot \\frac{1}{2}\\right)\\right]$"
      ],
      "text/plain": [
       "(2 * pi * (delta - l / 2^(t))) in [((2 * pi) * (-1 / 2)),((2 * pi) * 1 / 2)]"
      ]
     },
     "execution_count": 8,
     "metadata": {},
     "output_type": "execute_result"
    }
   ],
   "source": [
    "scaledDeltaDiffInDomain2 = autoSubstitute(scaledDeltaDiffInDomain1, 'ungroup', [0], {'assumptions':{lInDomain}}, superExpr=scaledDeltaDiffInDomain1.element)\n",
    "scaledDeltaDiffInDomain2.proven({lInDomain})"
   ]
  },
  {
   "cell_type": "code",
   "execution_count": 9,
   "metadata": {
    "collapsed": false
   },
   "outputs": [
    {
     "data": {
      "text/latex": [
       "$\\forall_{x, y \\in \\mathbb{C}} \\left(\\left(x \\cdot \\left(-y\\right)\\right) = \\left(-\\left(x \\cdot y\\right)\\right)\\right)$"
      ],
      "text/plain": [
       "forall_{x, y in Complexes} ((x * (-y)) = (-(x * y)))"
      ]
     },
     "execution_count": 9,
     "metadata": {},
     "output_type": "execute_result"
    }
   ],
   "source": [
    "posTimesNeg"
   ]
  },
  {
   "cell_type": "code",
   "execution_count": 10,
   "metadata": {
    "collapsed": false
   },
   "outputs": [
    {
     "data": {
      "text/latex": [
       "$\\left(\\left(2 \\cdot \\pi\\right) \\cdot \\left(-\\frac{1}{2}\\right)\\right) = \\left(-\\left(\\left(2 \\cdot \\pi\\right) \\cdot \\frac{1}{2}\\right)\\right)$"
      ],
      "text/plain": [
       "((2 * pi) * (-1 / 2)) = (-((2 * pi) * 1 / 2))"
      ]
     },
     "execution_count": 10,
     "metadata": {},
     "output_type": "execute_result"
    }
   ],
   "source": [
    "deduceInComplexes(two_pi)\n",
    "deduceInComplexes(Fraction(one, two))\n",
    "lowerBoundEqn = posTimesNeg.specialize({x:two_pi, y:Fraction(one, two)})\n",
    "lowerBoundEqn.proven()"
   ]
  },
  {
   "cell_type": "code",
   "execution_count": 11,
   "metadata": {
    "collapsed": false
   },
   "outputs": [
    {
     "data": {
      "text/latex": [
       "$\\left(2 \\cdot \\pi \\cdot \\left(\\delta - \\frac{l}{2^{t}}\\right)\\right) \\in \\left[\\left(-\\left(\\left(2 \\cdot \\pi\\right) \\cdot \\frac{1}{2}\\right)\\right),\\left(\\left(2 \\cdot \\pi\\right) \\cdot \\frac{1}{2}\\right)\\right]$"
      ],
      "text/plain": [
       "(2 * pi * (delta - l / 2^(t))) in [(-((2 * pi) * 1 / 2)),((2 * pi) * 1 / 2)]"
      ]
     },
     "execution_count": 11,
     "metadata": {},
     "output_type": "execute_result"
    }
   ],
   "source": [
    "scaledDeltaDiffInDomain3 = lowerBoundEqn.rhsSubstitute(scaledDeltaDiffInDomain2)\n",
    "scaledDeltaDiffInDomain3.proven({lInDomain})"
   ]
  },
  {
   "cell_type": "code",
   "execution_count": 12,
   "metadata": {
    "collapsed": false
   },
   "outputs": [
    {
     "data": {
      "text/latex": [
       "$\\left(2 \\cdot \\pi \\cdot \\left(\\delta - \\frac{l}{2^{t}}\\right)\\right) \\in \\left[\\left(-\\frac{2 \\cdot \\pi}{2}\\right),\\frac{2 \\cdot \\pi}{2}\\right]$"
      ],
      "text/plain": [
       "(2 * pi * (delta - l / 2^(t))) in [(-(2 * pi) / 2),(2 * pi) / 2]"
      ]
     },
     "execution_count": 12,
     "metadata": {},
     "output_type": "execute_result"
    }
   ],
   "source": [
    "scaledDeltaDiffInDomain4 = autoSubstitute(scaledDeltaDiffInDomain3, 'distribute', [1], {'assumptions':{lInDomain}}, superExpr=scaledDeltaDiffInDomain3.domain.upperBound)\n",
    "scaledDeltaDiffInDomain4.proven({lInDomain})"
   ]
  },
  {
   "cell_type": "code",
   "execution_count": 13,
   "metadata": {
    "collapsed": false
   },
   "outputs": [
    {
     "data": {
      "text/latex": [
       "$\\left(2 \\cdot \\pi \\cdot \\left(\\delta - \\frac{l}{2^{t}}\\right)\\right) \\in \\left[\\left(-\\pi\\right),\\pi\\right]$"
      ],
      "text/plain": [
       "(2 * pi * (delta - l / 2^(t))) in [(-pi),pi]"
      ]
     },
     "execution_count": 13,
     "metadata": {},
     "output_type": "execute_result"
    }
   ],
   "source": [
    "scaledDeltaDiffInDomain = autoSubstitute(scaledDeltaDiffInDomain4, 'cancel', [two], {'assumptions':{lInDomain}}, superExpr=scaledDeltaDiffInDomain4.domain.upperBound)\n",
    "scaledDeltaDiffInDomain.proven({lInDomain})"
   ]
  },
  {
   "cell_type": "code",
   "execution_count": 14,
   "metadata": {
    "collapsed": false
   },
   "outputs": [
    {
     "name": "stdout",
     "output_type": "stream",
     "text": [
      "root forall_{l in \\{((-2^(t - 1)) + 1)...2^(t - 1)\\}} ((2 * pi * (delta - l / 2^(t))) in [(-pi),pi]) \n",
      "  generalizing (2 * pi * (delta - l / 2^(t))) in [(-pi),pi]  assuming l in \\{((-2^(t - 1)) + 1)...2^(t - 1)\\} \n",
      "    implication ((2 * pi * (delta - l / 2^(t))) in [(-(2 * pi) / 2),(2 * pi) / 2]) => ((2 * pi * (delta - l / 2^(t))) in [(-pi),pi]) \n",
      "      implication ((2 * pi) / 2 = pi) => (((2 * pi * (delta - l / 2^(t))) in [(-(2 * pi) / 2),(2 * pi) / 2]) => ((2 * pi * (delta - l / 2^(t))) in [(-pi),pi])) \n",
      "        specializing forall_{P, x, y} ((x = y) => (P(x) => P(y))) \n",
      "          by theorem proveit.basiclogic.equality.rhsSubstitution\n",
      "      hypothesis (2 * pi) / 2 = pi \n",
      "        specializing forall_{x, y in Complexes | x != 0} ((x * y) / x = y) \n",
      "          by theorem proveit.number.complex.fracCancel2\n",
      "        condition pi in Complexes \n",
      "          specializing forall_{a in RealsPos} (a in Complexes) \n",
      "            by theorem proveit.number.real.inRealsPos_inComplexes\n",
      "          condition pi in RealsPos \n",
      "        condition 2 in Complexes \n",
      "          specializing forall_{a in NaturalsPos} (a in Complexes) \n",
      "            by theorem proveit.number.natural.inNatPos_inComplexes\n",
      "          condition 2 in NaturalsPos \n",
      "            by theorem proveit.number.natural.twoInNaturalsPos\n",
      "        condition 2 != 0 \n",
      "          specializing forall_{a in Reals | a > 0} (a != 0) \n",
      "            by theorem proveit.number.real.positive_implies_notzero\n",
      "          condition 2 in Reals \n",
      "            specializing forall_{a in NaturalsPos} (a in Reals) \n",
      "              by theorem proveit.number.natural.inNatPos_inReals\n",
      "            condition 2 in NaturalsPos  proven above\n",
      "          condition 2 > 0 \n",
      "            implication (2 in RealsPos) => (2 > 0) \n",
      "              implication ((2 in RealsPos) <=> (2 > 0)) => ((2 in RealsPos) => (2 > 0)) \n",
      "                specializing forall_{A, B} ((A <=> B) => (A => B)) \n",
      "                  by theorem proveit.basiclogic.boolean.iffImpliesRight\n",
      "              hypothesis (2 in RealsPos) <=> (2 > 0) \n",
      "                specializing forall_{a in Reals} ((a in RealsPos) <=> (a > 0)) \n",
      "                  by theorem proveit.number.real.inRealsPos_iff_positive\n",
      "                condition 2 in Reals  proven above\n",
      "            hypothesis 2 in RealsPos \n",
      "              specializing forall_{a in NaturalsPos} (a in RealsPos) \n",
      "                by theorem proveit.number.natural.inNatPos_inRealsPos\n",
      "              condition 2 in NaturalsPos  proven above\n",
      "    hypothesis (2 * pi * (delta - l / 2^(t))) in [(-(2 * pi) / 2),(2 * pi) / 2]  assuming l in \\{((-2^(t - 1)) + 1)...2^(t - 1)\\} \n",
      "      implication ((2 * pi * (delta - l / 2^(t))) in [(-((2 * pi) * 1 / 2)),((2 * pi) * 1 / 2)]) => ((2 * pi * (delta - l / 2^(t))) in [(-(2 * pi) / 2),(2 * pi) / 2]) \n",
      "        implication (((2 * pi) * 1 / 2) = (2 * pi) / 2) => (((2 * pi * (delta - l / 2^(t))) in [(-((2 * pi) * 1 / 2)),((2 * pi) * 1 / 2)]) => ((2 * pi * (delta - l / 2^(t))) in [(-(2 * pi) / 2),(2 * pi) / 2])) \n",
      "          specializing forall_{P, x, y} ((x = y) => (P(x) => P(y)))  proven above\n",
      "        hypothesis ((2 * pi) * 1 / 2) = (2 * pi) / 2 \n",
      "          implication (((2 * pi) * 1 / 2) = ((2 * pi) * 1) / 2) => (((2 * pi) * 1 / 2) = (2 * pi) / 2) \n",
      "            implication (((2 * pi) * 1) = (2 * pi)) => ((((2 * pi) * 1 / 2) = ((2 * pi) * 1) / 2) => (((2 * pi) * 1 / 2) = (2 * pi) / 2)) \n",
      "              specializing forall_{P, x, y} ((x = y) => (P(x) => P(y)))  proven above\n",
      "            hypothesis ((2 * pi) * 1) = (2 * pi) \n",
      "              implication ((1 * (2 * pi)) = (2 * pi)) => (((2 * pi) * 1) = (2 * pi)) \n",
      "                implication (((2 * pi) * 1) = (1 * (2 * pi))) => (((1 * (2 * pi)) = (2 * pi)) => (((2 * pi) * 1) = (2 * pi))) \n",
      "                  specializing forall_{x, y, z} ((x = y) => ((y = z) => (x = z))) \n",
      "                    by axiom proveit.basiclogic.equality.equalsTransitivity\n",
      "                hypothesis ((2 * pi) * 1) = (1 * (2 * pi)) \n",
      "                  specializing forall_{..v.., ..w.., ..x.., ..y.., ..z.. in Complexes} (( .. * v * ... * w * ... * x * ... * y * ... * z * .. ) = ( .. * v * ... * y * ... * x * ... * w * ... * z * .. )) \n",
      "                    by theorem proveit.number.complex.multComm\n",
      "                  condition 1 in Complexes \n",
      "                    specializing forall_{a in NaturalsPos} (a in Complexes)  proven above\n",
      "                    condition 1 in NaturalsPos \n",
      "                  condition (2 * pi) in Complexes \n",
      "                    specializing forall_{a in RealsPos} (a in Complexes)  proven above\n",
      "                    condition (2 * pi) in RealsPos \n",
      "                      specializing forall_{..x.. in RealsPos} (( .. * x * .. ) in RealsPos) \n",
      "                        by theorem proveit.number.real.multPosClosure\n",
      "                      condition 2 in RealsPos  proven above\n",
      "                      condition pi in RealsPos  proven above\n",
      "              hypothesis (1 * (2 * pi)) = (2 * pi) \n",
      "                specializing forall_{x in Complexes} ((1 * x) = x) \n",
      "                  by theorem proveit.number.complex.prodOne\n",
      "                condition (2 * pi) in Complexes  proven above\n",
      "          hypothesis ((2 * pi) * 1 / 2) = ((2 * pi) * 1) / 2 \n",
      "            specializing forall_{..w.., x, y, ..z.. in Complexes} (( .. * w * ..  * x / y *  .. * z * .. ) = ( .. * w * ..  * x *  .. * z * .. ) / y) \n",
      "              by theorem proveit.number.complex.fracInProd\n",
      "            condition 1 in Complexes  proven above\n",
      "            condition 2 in Complexes  proven above\n",
      "            condition (2 * pi) in Complexes  proven above\n",
      "      hypothesis (2 * pi * (delta - l / 2^(t))) in [(-((2 * pi) * 1 / 2)),((2 * pi) * 1 / 2)]  assuming l in \\{((-2^(t - 1)) + 1)...2^(t - 1)\\} \n",
      "        implication ((2 * pi * (delta - l / 2^(t))) in [((2 * pi) * (-1 / 2)),((2 * pi) * 1 / 2)]) => ((2 * pi * (delta - l / 2^(t))) in [(-((2 * pi) * 1 / 2)),((2 * pi) * 1 / 2)]) \n",
      "          implication (((2 * pi) * (-1 / 2)) = (-((2 * pi) * 1 / 2))) => (((2 * pi * (delta - l / 2^(t))) in [((2 * pi) * (-1 / 2)),((2 * pi) * 1 / 2)]) => ((2 * pi * (delta - l / 2^(t))) in [(-((2 * pi) * 1 / 2)),((2 * pi) * 1 / 2)])) \n",
      "            specializing forall_{P, x, y} ((x = y) => (P(x) => P(y)))  proven above\n",
      "          hypothesis ((2 * pi) * (-1 / 2)) = (-((2 * pi) * 1 / 2)) \n",
      "            specializing forall_{x, y in Complexes} ((x * (-y)) = (-(x * y))) \n",
      "              by theorem proveit.number.complex.posTimesNeg\n",
      "            condition 1 / 2 in Complexes \n",
      "              specializing forall_{a in RealsPos} (a in Complexes)  proven above\n",
      "              condition 1 / 2 in RealsPos \n",
      "                specializing forall_{a, b in RealsPos | b != 0} (a / b in RealsPos) \n",
      "                  by theorem proveit.number.real.fractionPosClosure\n",
      "                condition 2 in RealsPos  proven above\n",
      "                condition 2 != 0  proven above\n",
      "                condition 1 in RealsPos \n",
      "                  specializing forall_{a in NaturalsPos} (a in RealsPos)  proven above\n",
      "                  condition 1 in NaturalsPos  proven above\n",
      "            condition (2 * pi) in Complexes  proven above\n",
      "        hypothesis (2 * pi * (delta - l / 2^(t))) in [((2 * pi) * (-1 / 2)),((2 * pi) * 1 / 2)]  assuming l in \\{((-2^(t - 1)) + 1)...2^(t - 1)\\} \n",
      "          implication (((2 * pi) * (delta - l / 2^(t))) in [((2 * pi) * (-1 / 2)),((2 * pi) * 1 / 2)]) => ((2 * pi * (delta - l / 2^(t))) in [((2 * pi) * (-1 / 2)),((2 * pi) * 1 / 2)])  assuming l in \\{((-2^(t - 1)) + 1)...2^(t - 1)\\} \n",
      "            implication (((2 * pi) * (delta - l / 2^(t))) = (2 * pi * (delta - l / 2^(t)))) => ((((2 * pi) * (delta - l / 2^(t))) in [((2 * pi) * (-1 / 2)),((2 * pi) * 1 / 2)]) => ((2 * pi * (delta - l / 2^(t))) in [((2 * pi) * (-1 / 2)),((2 * pi) * 1 / 2)])) \n",
      "              specializing forall_{P, x, y} ((x = y) => (P(x) => P(y)))  proven above\n",
      "            hypothesis ((2 * pi) * (delta - l / 2^(t))) = (2 * pi * (delta - l / 2^(t)))  assuming l in \\{((-2^(t - 1)) + 1)...2^(t - 1)\\} \n",
      "              specializing forall_{..x.., ..y.., ..z.. in Complexes} (( .. * x * ..  * ( .. * y * .. ) *  .. * z * .. ) = ( .. * x * ... * y * ... * z * .. )) \n",
      "                by theorem proveit.number.complex.multAssocRev\n",
      "              condition pi in Complexes  proven above\n",
      "              condition (delta - l / 2^(t)) in Complexes  assuming l in \\{((-2^(t - 1)) + 1)...2^(t - 1)\\} \n",
      "                specializing forall_{a in Reals} (a in Complexes) \n",
      "                  by theorem proveit.number.real.inComplexes\n",
      "                condition (delta - l / 2^(t)) in Reals  assuming l in \\{((-2^(t - 1)) + 1)...2^(t - 1)\\} \n",
      "                  specializing forall_{x in [(-1 / 2),1 / 2)} (x in Reals) \n",
      "                    specializing forall_{a, b in Reals} [forall_{x in [a,b)} (x in Reals)] \n",
      "                      by theorem proveit.number.real.allInIntervalCO_InReals\n",
      "                    condition 1 / 2 in Reals \n",
      "                      specializing forall_{a in RealsPos} (a in Reals) \n",
      "                        by theorem proveit.number.real.inRealsPos_inReals\n",
      "                      condition 1 / 2 in RealsPos  proven above\n",
      "                    condition (-1 / 2) in Reals \n",
      "                      specializing forall_{a in Reals} ((-a) in Reals) \n",
      "                        by theorem proveit.number.real.negClosure\n",
      "                      condition 1 / 2 in Reals  proven above\n",
      "                  condition (delta - l / 2^(t)) in [(-1 / 2),1 / 2)  assuming l in \\{((-2^(t - 1)) + 1)...2^(t - 1)\\} \n",
      "                    specializing forall_{l in \\{((-2^(t - 1)) + 1)...2^(t - 1)\\}} ((delta - l / 2^(t)) in [(-1 / 2),1 / 2)) \n",
      "                      by theorem proveit.physics.quantum.QPE.deltaDiffInInterval\n",
      "                    condition l in \\{((-2^(t - 1)) + 1)...2^(t - 1)\\}  assuming l in \\{((-2^(t - 1)) + 1)...2^(t - 1)\\} \n",
      "              condition 2 in Complexes  proven above\n",
      "          hypothesis ((2 * pi) * (delta - l / 2^(t))) in [((2 * pi) * (-1 / 2)),((2 * pi) * 1 / 2)]  assuming l in \\{((-2^(t - 1)) + 1)...2^(t - 1)\\} \n",
      "            specializing forall_{x in [(-1 / 2),1 / 2]} (((2 * pi) * x) in [((2 * pi) * (-1 / 2)),((2 * pi) * 1 / 2)]) \n",
      "              specializing forall_{a, b, c in Reals} [forall_{x in [a,b]} ((c * x) in [(c * a),(c * b)])] \n",
      "                by theorem proveit.number.real.rescaleInIntervalCC\n",
      "              condition 1 / 2 in Reals  proven above\n",
      "              condition (-1 / 2) in Reals  proven above\n",
      "              condition (2 * pi) in Reals \n",
      "                specializing forall_{a in RealsPos} (a in Reals)  proven above\n",
      "                condition (2 * pi) in RealsPos  proven above\n",
      "            condition (delta - l / 2^(t)) in [(-1 / 2),1 / 2]  assuming l in \\{((-2^(t - 1)) + 1)...2^(t - 1)\\} \n",
      "              specializing forall_{x in [(-1 / 2),1 / 2)} (x in [(-1 / 2),1 / 2]) \n",
      "                specializing forall_{a, b in Reals} [forall_{x in [a,b)} (x in [a,b])] \n",
      "                  by theorem proveit.number.real.relaxIntervalCO\n",
      "                condition 1 / 2 in Reals  proven above\n",
      "                condition (-1 / 2) in Reals  proven above\n",
      "              condition (delta - l / 2^(t)) in [(-1 / 2),1 / 2)  assuming l in \\{((-2^(t - 1)) + 1)...2^(t - 1)\\}  proven above\n",
      "Number of derivation tree nodes: 111\n"
     ]
    },
    {
     "data": {
      "text/latex": [
       "$\\forall_{l \\in \\{\\left(\\left(-2^{t - 1}\\right) + 1\\right)\\ldots 2^{t - 1}\\}} \\left(\\left(2 \\cdot \\pi \\cdot \\left(\\delta - \\frac{l}{2^{t}}\\right)\\right) \\in \\left[\\left(-\\pi\\right),\\pi\\right]\\right)$"
      ],
      "text/plain": [
       "forall_{l in \\{((-2^(t - 1)) + 1)...2^(t - 1)\\}} ((2 * pi * (delta - l / 2^(t))) in [(-pi),pi])"
      ]
     },
     "execution_count": 14,
     "metadata": {},
     "output_type": "execute_result"
    }
   ],
   "source": [
    "scaledDeltaDiffInDomain.generalize(l, domain=fullDomain).qed()"
   ]
  },
  {
   "cell_type": "code",
   "execution_count": null,
   "metadata": {
    "collapsed": true
   },
   "outputs": [],
   "source": []
  }
 ],
 "metadata": {
  "kernelspec": {
   "display_name": "Python 2",
   "language": "python",
   "name": "python2"
  },
  "language_info": {
   "codemirror_mode": {
    "name": "ipython",
    "version": 2
   },
   "file_extension": ".py",
   "mimetype": "text/x-python",
   "name": "python",
   "nbconvert_exporter": "python",
   "pygments_lexer": "ipython2",
   "version": "2.7.10"
  }
 },
 "nbformat": 4,
 "nbformat_minor": 0
}
