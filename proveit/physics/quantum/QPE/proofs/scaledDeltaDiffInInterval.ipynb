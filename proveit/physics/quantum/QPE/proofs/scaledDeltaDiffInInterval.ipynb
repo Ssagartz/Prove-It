{
 "cells": [
  {
   "cell_type": "code",
   "execution_count": 1,
   "metadata": {
    "collapsed": true
   },
   "outputs": [],
   "source": [
    "from proveit.basiclogic import In, autoSubstitute\n",
    "from proveit.physics.quantum.QPE.theorems import deltaDiffInInterval, two_pow_t_in_posnats, two_pow_tMinusOne_in_posnats, deltaInReals\n",
    "from proveit.physics.quantum.QPE.common import fullDomain\n",
    "from proveit.common import l, x, y\n",
    "from proveit.number import Multiply, Fraction\n",
    "from proveit.number.common import one, two, pi\n",
    "from proveit.number.numberSets import deduceInComplexes\n",
    "from proveit.number.complex.theorems import posTimesNeg\n",
    "from IPython.display import display"
   ]
  },
  {
   "cell_type": "code",
   "execution_count": 2,
   "metadata": {
    "collapsed": false
   },
   "outputs": [
    {
     "data": {
      "text/latex": [
       "$l \\in \\{\\left(\\left(-2^{t - 1}\\right) + 1\\right)\\ldots 2^{t - 1}\\}$"
      ],
      "text/plain": [
       "l in \\{((-2^(t - 1)) + 1)...2^(t - 1)\\}"
      ]
     },
     "metadata": {},
     "output_type": "display_data"
    },
    {
     "data": {
      "text/latex": [
       "$l \\in \\mathbb{Z}$"
      ],
      "text/plain": [
       "l in Integers"
      ]
     },
     "metadata": {},
     "output_type": "display_data"
    }
   ],
   "source": [
    "lInDomain = In(l, fullDomain)\n",
    "display(lInDomain)\n",
    "display(lInDomain.domain.deduceMemberInIntegers(l).proven({lInDomain}))"
   ]
  },
  {
   "cell_type": "code",
   "execution_count": 3,
   "metadata": {
    "collapsed": false
   },
   "outputs": [
    {
     "data": {
      "text/latex": [
       "$\\forall_{l \\in \\{\\left(\\left(-2^{t - 1}\\right) + 1\\right)\\ldots 2^{t - 1}\\}} \\left(\\left(\\delta - \\frac{l}{2^{t}}\\right) \\in \\left[\\left(-\\frac{1}{2}\\right),\\frac{1}{2}\\right)\\right)$"
      ],
      "text/plain": [
       "forall_{l in \\{((-2^(t - 1)) + 1)...2^(t - 1)\\}} ((delta - l / 2^(t)) in [(-1 / 2),1 / 2))"
      ]
     },
     "execution_count": 3,
     "metadata": {},
     "output_type": "execute_result"
    }
   ],
   "source": [
    "deltaDiffInInterval"
   ]
  },
  {
   "cell_type": "code",
   "execution_count": 4,
   "metadata": {
    "collapsed": false
   },
   "outputs": [
    {
     "data": {
      "text/latex": [
       "$\\left(\\delta - \\frac{l}{2^{t}}\\right) \\in \\left[\\left(-\\frac{1}{2}\\right),\\frac{1}{2}\\right)$"
      ],
      "text/plain": [
       "(delta - l / 2^(t)) in [(-1 / 2),1 / 2)"
      ]
     },
     "metadata": {},
     "output_type": "display_data"
    },
    {
     "data": {
      "text/latex": [
       "$\\left(\\delta - \\frac{l}{2^{t}}\\right) \\in \\mathbb{R}$"
      ],
      "text/plain": [
       "(delta - l / 2^(t)) in Reals"
      ]
     },
     "metadata": {},
     "output_type": "display_data"
    }
   ],
   "source": [
    "deltaDiffInIntervalSpec = deltaDiffInInterval.specialize()\n",
    "display(deltaDiffInIntervalSpec.proven({lInDomain}))\n",
    "display(deltaDiffInIntervalSpec.domain.deduceMemberInReals(deltaDiffInIntervalSpec.element).proven({lInDomain}))"
   ]
  },
  {
   "cell_type": "code",
   "execution_count": 5,
   "metadata": {
    "collapsed": false
   },
   "outputs": [
    {
     "data": {
      "text/latex": [
       "$\\left(\\left(2 \\cdot \\pi\\right) \\cdot \\left(\\delta - \\frac{l}{2^{t}}\\right)\\right) \\in \\left[\\left(\\left(2 \\cdot \\pi\\right) \\cdot \\left(-\\frac{1}{2}\\right)\\right),\\left(\\left(2 \\cdot \\pi\\right) \\cdot \\frac{1}{2}\\right)\\right)$"
      ],
      "text/plain": [
       "((2 * pi) * (delta - l / 2^(t))) in [((2 * pi) * (-1 / 2)),((2 * pi) * 1 / 2))"
      ]
     },
     "execution_count": 5,
     "metadata": {},
     "output_type": "execute_result"
    }
   ],
   "source": [
    "two_pi = Multiply(two, pi)\n",
    "scaledDeltaDiffInDomain0 = deltaDiffInIntervalSpec.domain.deduceRescaledMembership(deltaDiffInIntervalSpec.element, two_pi)\n",
    "scaledDeltaDiffInDomain0.proven({lInDomain})"
   ]
  },
  {
   "cell_type": "code",
   "execution_count": 6,
   "metadata": {
    "collapsed": false
   },
   "outputs": [
    {
     "data": {
      "text/latex": [
       "$\\forall_{x, y \\in \\mathbb{C}} \\left(\\left(x \\cdot \\left(-y\\right)\\right) = \\left(-\\left(x \\cdot y\\right)\\right)\\right)$"
      ],
      "text/plain": [
       "forall_{x, y in Complexes} ((x * (-y)) = (-(x * y)))"
      ]
     },
     "execution_count": 6,
     "metadata": {},
     "output_type": "execute_result"
    }
   ],
   "source": [
    "posTimesNeg"
   ]
  },
  {
   "cell_type": "code",
   "execution_count": 7,
   "metadata": {
    "collapsed": false
   },
   "outputs": [
    {
     "data": {
      "text/latex": [
       "$\\left(\\left(2 \\cdot \\pi\\right) \\cdot \\left(-\\frac{1}{2}\\right)\\right) = \\left(-\\left(\\left(2 \\cdot \\pi\\right) \\cdot \\frac{1}{2}\\right)\\right)$"
      ],
      "text/plain": [
       "((2 * pi) * (-1 / 2)) = (-((2 * pi) * 1 / 2))"
      ]
     },
     "execution_count": 7,
     "metadata": {},
     "output_type": "execute_result"
    }
   ],
   "source": [
    "deduceInComplexes(two_pi)\n",
    "deduceInComplexes(Fraction(one, two))\n",
    "lowerBoundEqn = posTimesNeg.specialize({x:two_pi, y:Fraction(one, two)})\n",
    "lowerBoundEqn.proven()"
   ]
  },
  {
   "cell_type": "code",
   "execution_count": 8,
   "metadata": {
    "collapsed": false
   },
   "outputs": [
    {
     "data": {
      "text/latex": [
       "$\\left(\\left(2 \\cdot \\pi\\right) \\cdot \\left(\\delta - \\frac{l}{2^{t}}\\right)\\right) \\in \\left[\\left(-\\left(\\left(2 \\cdot \\pi\\right) \\cdot \\frac{1}{2}\\right)\\right),\\left(\\left(2 \\cdot \\pi\\right) \\cdot \\frac{1}{2}\\right)\\right)$"
      ],
      "text/plain": [
       "((2 * pi) * (delta - l / 2^(t))) in [(-((2 * pi) * 1 / 2)),((2 * pi) * 1 / 2))"
      ]
     },
     "execution_count": 8,
     "metadata": {},
     "output_type": "execute_result"
    }
   ],
   "source": [
    "scaledDeltaDiffInDomain1 = lowerBoundEqn.rhsSubstitute(scaledDeltaDiffInDomain0)\n",
    "scaledDeltaDiffInDomain1.proven({lInDomain})"
   ]
  },
  {
   "cell_type": "code",
   "execution_count": 9,
   "metadata": {
    "collapsed": false
   },
   "outputs": [
    {
     "name": "stdout",
     "output_type": "stream",
     "text": [
      "((2 * pi) * 1) = (2 * pi)\n"
     ]
    },
    {
     "data": {
      "text/latex": [
       "$\\left(\\left(2 \\cdot \\pi\\right) \\cdot \\left(\\delta - \\frac{l}{2^{t}}\\right)\\right) \\in \\left[\\left(-\\frac{2 \\cdot \\pi}{2}\\right),\\frac{2 \\cdot \\pi}{2}\\right)$"
      ],
      "text/plain": [
       "((2 * pi) * (delta - l / 2^(t))) in [(-(2 * pi) / 2),(2 * pi) / 2)"
      ]
     },
     "execution_count": 9,
     "metadata": {},
     "output_type": "execute_result"
    }
   ],
   "source": [
    "scaledDeltaDiffInDomain2 = autoSubstitute(scaledDeltaDiffInDomain1, 'distribute', [1], {'assumptions':{lInDomain}}, superExpr=scaledDeltaDiffInDomain1.domain)\n",
    "scaledDeltaDiffInDomain2.proven({lInDomain})"
   ]
  },
  {
   "cell_type": "code",
   "execution_count": 10,
   "metadata": {
    "collapsed": false
   },
   "outputs": [
    {
     "data": {
      "text/latex": [
       "$\\left(\\left(2 \\cdot \\pi\\right) \\cdot \\left(\\delta - \\frac{l}{2^{t}}\\right)\\right) \\in \\left[\\left(-\\pi\\right),\\pi\\right)$"
      ],
      "text/plain": [
       "((2 * pi) * (delta - l / 2^(t))) in [(-pi),pi)"
      ]
     },
     "execution_count": 10,
     "metadata": {},
     "output_type": "execute_result"
    }
   ],
   "source": [
    "scaledDeltaDiffInDomain = autoSubstitute(scaledDeltaDiffInDomain2, 'cancel', [two], {'assumptions':{lInDomain}}, superExpr=scaledDeltaDiffInDomain2.domain)\n",
    "scaledDeltaDiffInDomain.proven({lInDomain})"
   ]
  },
  {
   "cell_type": "code",
   "execution_count": 11,
   "metadata": {
    "collapsed": false
   },
   "outputs": [
    {
     "data": {
      "text/latex": [
       "$\\forall_{l \\in \\{\\left(\\left(-2^{t - 1}\\right) + 1\\right)\\ldots 2^{t - 1}\\}} \\left(\\left(\\left(2 \\cdot \\pi\\right) \\cdot \\left(\\delta - \\frac{l}{2^{t}}\\right)\\right) \\in \\left[\\left(-\\pi\\right),\\pi\\right)\\right)$"
      ],
      "text/plain": [
       "forall_{l in \\{((-2^(t - 1)) + 1)...2^(t - 1)\\}} (((2 * pi) * (delta - l / 2^(t))) in [(-pi),pi))"
      ]
     },
     "execution_count": 11,
     "metadata": {},
     "output_type": "execute_result"
    }
   ],
   "source": [
    "scaledDeltaDiffInDomain.generalize(l, domain=fullDomain).proven()"
   ]
  },
  {
   "cell_type": "code",
   "execution_count": null,
   "metadata": {
    "collapsed": true
   },
   "outputs": [],
   "source": []
  }
 ],
 "metadata": {
  "kernelspec": {
   "display_name": "Python 2",
   "language": "python",
   "name": "python2"
  },
  "language_info": {
   "codemirror_mode": {
    "name": "ipython",
    "version": 2
   },
   "file_extension": ".py",
   "mimetype": "text/x-python",
   "name": "python",
   "nbconvert_exporter": "python",
   "pygments_lexer": "ipython2",
   "version": "2.7.10"
  }
 },
 "nbformat": 4,
 "nbformat_minor": 0
}
