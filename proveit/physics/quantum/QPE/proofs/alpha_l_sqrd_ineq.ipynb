{
 "cells": [
  {
   "cell_type": "code",
   "execution_count": 1,
   "metadata": {
    "collapsed": false
   },
   "outputs": [],
   "source": [
    "from proveit.number.arithmeticOps import *\n",
    "from proveit.number.relation import Relation\n",
    "from proveit.number.real.theorems import divIneqThm1, divIneqThm1cor, ineqThm9, ineqThm10, ineqThm10a\n",
    "from proveit.number.complex.theorems import absProd #absProdEtc, \n",
    "from proveit.number.complex.theorems import expAdd1a, oneExp, fracExp, expOne, powOfPow, multOverAdd\n",
    "from proveit.number.complex.theorems import multAssoc, multOne, sumInPow, diffSquareComm, samePowDistribute, multOverSubtract\n",
    "from proveit.number.complex.theorems import fracCancel2, fracCancel4, multComm, powOfProd, squarePosIneq, absIsNonNeg\n",
    "from proveit.basiclogic import In, autoSubstitute, autoSubstitution, NotEquals\n",
    "from proveit.number.real.theorems import absTwoPi, absPos, squarePosEq, relaxGreaterThan, relaxLessThan\n",
    "from proveit.number.natural.theorems import twoSquared\n",
    "from proveit.number.common import *\n",
    "from proveit.trigonometry.theorems import exp_2pi_i_nonInt, boundedUnitModulusDiff\n",
    "from proveit.physics.quantum.QPE.axioms import tInNaturalsPos\n",
    "from proveit.physics.quantum.QPE.theorems import alpha_l_sqrd_ineq, two_pow_tMinusOne_in_posnats, phaseInReals\n",
    "from proveit.physics.quantum.QPE.theorems import deltaInReals\n",
    "from proveit.physics.quantum.QPE.theorems import scaledDeltaInInterval, delta_notEq_scaledNonzeroInt, scaledDelta_notEq_nonzeroInt\n",
    "from proveit.physics.quantum.QPE.theorems import nonIntDeltaDiff, scaledDeltaDiffInInterval\n",
    "from proveit.physics.quantum.QPE.theorems import all_alpha_l_in_complexes, all_abs_alpha_l_nonneg, alpha_l_summed, alpha_l_summed_abs\n",
    "from proveit.physics.quantum.QPE.common import t_, delta_, alpha_l, two_pow_t, two_pow_t_minus_one\n",
    "from proveit.basiclogic.equality.eqOps import extractSubExpr\n",
    "from IPython.display import display"
   ]
  },
  {
   "cell_type": "code",
   "execution_count": 2,
   "metadata": {
    "collapsed": false
   },
   "outputs": [
    {
     "data": {
      "text/latex": [
       "$\\forall_{l \\in \\{\\left(\\left(-2^{t - 1}\\right) + 1\\right)\\ldots 2^{t - 1}\\}~|~l \\neq 0} \\left(\\left|\\alpha_{l}\\right|^{2} \\leq \\frac{1}{4 \\cdot \\left(l - \\left(2^{t} \\cdot \\delta\\right)\\right)^{2}}\\right)$"
      ],
      "text/plain": [
       "$\\forall_{l \\in \\{\\left(\\left(-2^{t - 1}\\right) + 1\\right)\\ldots 2^{t - 1}\\}~|~l \\neq 0} \\left(\\left|\\alpha_{l}\\right|^{2} \\leq \\frac{1}{4 \\cdot \\left(l - \\left(2^{t} \\cdot \\delta\\right)\\right)^{2}}\\right)$"
      ]
     },
     "execution_count": 2,
     "metadata": {},
     "output_type": "execute_result"
    }
   ],
   "source": [
    "alpha_l_sqrd_ineq.beginProof()"
   ]
  },
  {
   "cell_type": "code",
   "execution_count": 3,
   "metadata": {
    "collapsed": false
   },
   "outputs": [
    {
     "data": {
      "text/latex": [
       "$l \\in \\{\\left(\\left(-2^{t - 1}\\right) + 1\\right)\\ldots 2^{t - 1}\\}$"
      ],
      "text/plain": [
       "$l \\in \\{\\left(\\left(-2^{t - 1}\\right) + 1\\right)\\ldots 2^{t - 1}\\}$"
      ]
     },
     "metadata": {},
     "output_type": "display_data"
    },
    {
     "data": {
      "text/latex": [
       "$l \\neq 0$"
      ],
      "text/plain": [
       "$l \\neq 0$"
      ]
     },
     "metadata": {},
     "output_type": "display_data"
    }
   ],
   "source": [
    "domain = DiscreteContiguousSet(Add(Neg(two_pow_t_minus_one), one), two_pow_t_minus_one)\n",
    "display(In(l, domain))\n",
    "display(NotEquals(l, zero))\n",
    "assumptions = {In(l,domain), NotEquals(l, zero)}"
   ]
  },
  {
   "cell_type": "code",
   "execution_count": 4,
   "metadata": {
    "collapsed": false
   },
   "outputs": [
    {
     "data": {
      "text/latex": [
       "$l \\in \\mathbb{Z}$"
      ],
      "text/plain": [
       "$l \\in \\mathbb{Z}$"
      ]
     },
     "metadata": {},
     "output_type": "display_data"
    },
    {
     "data": {
      "text/latex": [
       "$\\left(\\left(-2^{t - 1}\\right) + 1\\right) \\leq l$"
      ],
      "text/plain": [
       "$\\left(\\left(-2^{t - 1}\\right) + 1\\right) \\leq l$"
      ]
     },
     "metadata": {},
     "output_type": "display_data"
    },
    {
     "data": {
      "text/latex": [
       "$l \\leq 2^{t - 1}$"
      ],
      "text/plain": [
       "$l \\leq 2^{t - 1}$"
      ]
     },
     "metadata": {},
     "output_type": "display_data"
    }
   ],
   "source": [
    "display(domain.deduceMemberInIntegers(l, assumptions=assumptions).proven(assumptions))\n",
    "display(domain.deduceMemberLowerBound(l, assumptions=assumptions).proven(assumptions))\n",
    "display(domain.deduceMemberUpperBound(l, assumptions=assumptions).proven(assumptions))"
   ]
  },
  {
   "cell_type": "code",
   "execution_count": 5,
   "metadata": {
    "collapsed": false
   },
   "outputs": [
    {
     "data": {
      "text/latex": [
       "$\\left|\\alpha_{l}\\right| = \\frac{\\left|1 - e^{2 \\cdot \\pi \\cdot i \\cdot \\left(\\left(2^{t} \\cdot \\delta\\right) - l\\right)}\\right|}{2^{t} \\cdot \\left|\\left(1 - e^{2 \\cdot \\pi \\cdot i \\cdot \\left(\\delta - \\frac{l}{2^{t}}\\right)}\\right)\\right|}$"
      ],
      "text/plain": [
       "$\\left|\\alpha_{l}\\right| = \\frac{\\left|1 - e^{2 \\cdot \\pi \\cdot i \\cdot \\left(\\left(2^{t} \\cdot \\delta\\right) - l\\right)}\\right|}{2^{t} \\cdot \\left|\\left(1 - e^{2 \\cdot \\pi \\cdot i \\cdot \\left(\\delta - \\frac{l}{2^{t}}\\right)}\\right)\\right|}$"
      ]
     },
     "execution_count": 5,
     "metadata": {},
     "output_type": "execute_result"
    }
   ],
   "source": [
    "abs_alpha_l = alpha_l_summed_abs.specialize().proven(assumptions)\n",
    "abs_alpha_l"
   ]
  },
  {
   "cell_type": "code",
   "execution_count": 6,
   "metadata": {
    "collapsed": false
   },
   "outputs": [
    {
     "data": {
      "text/latex": [
       "$\\forall_{x \\in \\mathbb{R}~|~x \\notin \\mathbb{Z}} \\left(e^{2 \\cdot \\pi \\cdot i \\cdot x} \\neq 1\\right)$"
      ],
      "text/plain": [
       "$\\forall_{x \\in \\mathbb{R}~|~x \\notin \\mathbb{Z}} \\left(e^{2 \\cdot \\pi \\cdot i \\cdot x} \\neq 1\\right)$"
      ]
     },
     "execution_count": 6,
     "metadata": {},
     "output_type": "execute_result"
    }
   ],
   "source": [
    "exp_2pi_i_nonInt"
   ]
  },
  {
   "cell_type": "code",
   "execution_count": 7,
   "metadata": {
    "collapsed": false
   },
   "outputs": [
    {
     "data": {
      "text/latex": [
       "$\\delta \\neq \\frac{l}{2^{t}}$"
      ],
      "text/plain": [
       "$\\delta \\neq \\frac{l}{2^{t}}$"
      ]
     },
     "metadata": {},
     "output_type": "display_data"
    },
    {
     "data": {
      "text/latex": [
       "$\\left(2^{t} \\cdot \\delta\\right) \\neq l$"
      ],
      "text/plain": [
       "$\\left(2^{t} \\cdot \\delta\\right) \\neq l$"
      ]
     },
     "metadata": {},
     "output_type": "display_data"
    },
    {
     "data": {
      "text/latex": [
       "$\\left(\\delta - \\frac{l}{2^{t}}\\right) \\notin \\mathbb{Z}$"
      ],
      "text/plain": [
       "$\\left(\\delta - \\frac{l}{2^{t}}\\right) \\notin \\mathbb{Z}$"
      ]
     },
     "metadata": {},
     "output_type": "display_data"
    },
    {
     "data": {
      "text/latex": [
       "$\\left(\\delta - \\frac{l}{2^{t}}\\right) \\in \\mathbb{R}$"
      ],
      "text/plain": [
       "$\\left(\\delta - \\frac{l}{2^{t}}\\right) \\in \\mathbb{R}$"
      ]
     },
     "metadata": {},
     "output_type": "display_data"
    },
    {
     "data": {
      "text/latex": [
       "$\\left(2 \\cdot \\pi \\cdot \\left(\\delta - \\frac{l}{2^{t}}\\right)\\right) \\in \\left[\\left(-\\pi\\right),\\pi\\right]$"
      ],
      "text/plain": [
       "$\\left(2 \\cdot \\pi \\cdot \\left(\\delta - \\frac{l}{2^{t}}\\right)\\right) \\in \\left[\\left(-\\pi\\right),\\pi\\right]$"
      ]
     },
     "metadata": {},
     "output_type": "display_data"
    },
    {
     "data": {
      "text/latex": [
       "$e^{2 \\cdot \\pi \\cdot i \\cdot \\left(\\delta - \\frac{l}{2^{t}}\\right)} \\neq 1$"
      ],
      "text/plain": [
       "$e^{2 \\cdot \\pi \\cdot i \\cdot \\left(\\delta - \\frac{l}{2^{t}}\\right)} \\neq 1$"
      ]
     },
     "metadata": {},
     "output_type": "display_data"
    },
    {
     "data": {
      "text/latex": [
       "$e^{i \\cdot 2 \\cdot \\pi \\cdot \\left(\\delta - \\frac{l}{2^{t}}\\right)} \\neq 1$"
      ],
      "text/plain": [
       "$e^{i \\cdot 2 \\cdot \\pi \\cdot \\left(\\delta - \\frac{l}{2^{t}}\\right)} \\neq 1$"
      ]
     },
     "metadata": {},
     "output_type": "display_data"
    },
    {
     "data": {
      "text/latex": [
       "$e^{i \\cdot \\left(2 \\cdot \\pi \\cdot \\left(\\delta - \\frac{l}{2^{t}}\\right)\\right)} \\neq 1$"
      ],
      "text/plain": [
       "$e^{i \\cdot \\left(2 \\cdot \\pi \\cdot \\left(\\delta - \\frac{l}{2^{t}}\\right)\\right)} \\neq 1$"
      ]
     },
     "metadata": {},
     "output_type": "display_data"
    }
   ],
   "source": [
    "display(delta_notEq_scaledNonzeroInt.specialize().proven(assumptions))\n",
    "display(scaledDelta_notEq_nonzeroInt.specialize().proven(assumptions))\n",
    "nonIntDeltaDiffSpec = nonIntDeltaDiff.specialize()\n",
    "display(nonIntDeltaDiffSpec.proven(assumptions))\n",
    "display(nonIntDeltaDiffSpec.element.deduceInReals(assumptions).proven(assumptions))\n",
    "display(scaledDeltaDiffInInterval.specialize().proven(assumptions))\n",
    "expNotOne = exp_2pi_i_nonInt.specialize({x:nonIntDeltaDiffSpec.element}).proven(assumptions)\n",
    "display(expNotOne)\n",
    "display(autoSubstitute(expNotOne, 'factor', [i], {'assumptions':assumptions, 'pull':'left'}).proven(assumptions))\n",
    "display(autoSubstitute(expNotOne, 'factor', [i], {'assumptions':assumptions, 'pull':'left', 'groupRemainder':'True'}).proven(assumptions))"
   ]
  },
  {
   "cell_type": "code",
   "execution_count": 8,
   "metadata": {
    "collapsed": false
   },
   "outputs": [
    {
     "data": {
      "text/latex": [
       "$\\alpha_{l} \\in \\mathbb{C}$"
      ],
      "text/plain": [
       "$\\alpha_{l} \\in \\mathbb{C}$"
      ]
     },
     "metadata": {},
     "output_type": "display_data"
    },
    {
     "data": {
      "text/latex": [
       "$\\left|\\alpha_{l}\\right| \\in \\mathbb{R}$"
      ],
      "text/plain": [
       "$\\left|\\alpha_{l}\\right| \\in \\mathbb{R}$"
      ]
     },
     "metadata": {},
     "output_type": "display_data"
    },
    {
     "data": {
      "text/latex": [
       "$\\left|\\alpha_{l}\\right| \\geq 0$"
      ],
      "text/plain": [
       "$\\left|\\alpha_{l}\\right| \\geq 0$"
      ]
     },
     "metadata": {},
     "output_type": "display_data"
    }
   ],
   "source": [
    "display(all_alpha_l_in_complexes.specialize())\n",
    "abs_alpha_l_real_and_nonneg = all_abs_alpha_l_nonneg.specialize().decompose()\n",
    "display(abs_alpha_l_real_and_nonneg[0])\n",
    "display(abs_alpha_l_real_and_nonneg[1])"
   ]
  },
  {
   "cell_type": "code",
   "execution_count": 9,
   "metadata": {
    "collapsed": false
   },
   "outputs": [
    {
     "data": {
      "text/latex": [
       "$2 \\in \\mathbb{R}$"
      ],
      "text/plain": [
       "$2 \\in \\mathbb{R}$"
      ]
     },
     "metadata": {},
     "output_type": "display_data"
    },
    {
     "data": {
      "text/latex": [
       "$2 > 0$"
      ],
      "text/plain": [
       "$2 > 0$"
      ]
     },
     "metadata": {},
     "output_type": "display_data"
    },
    {
     "data": {
      "text/latex": [
       "$\\pi \\in \\mathbb{R}$"
      ],
      "text/plain": [
       "$\\pi \\in \\mathbb{R}$"
      ]
     },
     "metadata": {},
     "output_type": "display_data"
    },
    {
     "data": {
      "text/latex": [
       "$\\left(2 \\cdot \\pi\\right) \\in \\mathbb{R}$"
      ],
      "text/plain": [
       "$\\left(2 \\cdot \\pi\\right) \\in \\mathbb{R}$"
      ]
     },
     "metadata": {},
     "output_type": "display_data"
    },
    {
     "data": {
      "text/latex": [
       "$\\left(2 \\cdot \\pi\\right) \\in \\mathbb{C}$"
      ],
      "text/plain": [
       "$\\left(2 \\cdot \\pi\\right) \\in \\mathbb{C}$"
      ]
     },
     "metadata": {},
     "output_type": "display_data"
    },
    {
     "data": {
      "text/latex": [
       "$2^{t} \\in \\mathbb{R}$"
      ],
      "text/plain": [
       "$2^{t} \\in \\mathbb{R}$"
      ]
     },
     "metadata": {},
     "output_type": "display_data"
    },
    {
     "data": {
      "text/latex": [
       "$2^{t} > 0$"
      ],
      "text/plain": [
       "$2^{t} > 0$"
      ]
     },
     "metadata": {},
     "output_type": "display_data"
    },
    {
     "data": {
      "text/latex": [
       "$2^{t + 1} \\in \\mathbb{R}$"
      ],
      "text/plain": [
       "$2^{t + 1} \\in \\mathbb{R}$"
      ]
     },
     "metadata": {},
     "output_type": "display_data"
    },
    {
     "data": {
      "text/latex": [
       "$2^{t + 1} \\in \\mathbb{C}$"
      ],
      "text/plain": [
       "$2^{t + 1} \\in \\mathbb{C}$"
      ]
     },
     "metadata": {},
     "output_type": "display_data"
    },
    {
     "data": {
      "text/latex": [
       "$\\left(2 \\cdot \\pi \\cdot \\left(\\left(2^{t} \\cdot \\delta\\right) - l\\right)\\right) \\in \\mathbb{R}$"
      ],
      "text/plain": [
       "$\\left(2 \\cdot \\pi \\cdot \\left(\\left(2^{t} \\cdot \\delta\\right) - l\\right)\\right) \\in \\mathbb{R}$"
      ]
     },
     "metadata": {},
     "output_type": "display_data"
    }
   ],
   "source": [
    "display(deduceInReals(two))\n",
    "display(deducePositive(two))\n",
    "display(deduceInReals(pi))\n",
    "display(deduceInReals(Multiply(two,pi)))\n",
    "display(deduceInComplexes(Multiply(two,pi)))\n",
    "display(deduceInReals(two_pow_t,assumptions))\n",
    "display(deducePositive(two_pow_t,assumptions))\n",
    "display(deduceInReals(Exponentiate(two, Add(t_, one))))\n",
    "display(deduceInComplexes(Exponentiate(two,Add(t_,one))))\n",
    "display(deduceInReals(Multiply(two,pi,Subtract(Multiply(Exponentiate(two,t_),delta_),l)),assumptions))"
   ]
  },
  {
   "cell_type": "code",
   "execution_count": 10,
   "metadata": {
    "collapsed": false
   },
   "outputs": [
    {
     "data": {
      "text/latex": [
       "$\\left|\\alpha_{l}\\right| = \\frac{\\left|1 - e^{i \\cdot 2 \\cdot \\pi \\cdot \\left(\\left(2^{t} \\cdot \\delta\\right) - l\\right)}\\right|}{2^{t} \\cdot \\left|\\left(1 - e^{2 \\cdot \\pi \\cdot i \\cdot \\left(\\delta - \\frac{l}{2^{t}}\\right)}\\right)\\right|}$"
      ],
      "text/plain": [
       "$\\left|\\alpha_{l}\\right| = \\frac{\\left|1 - e^{i \\cdot 2 \\cdot \\pi \\cdot \\left(\\left(2^{t} \\cdot \\delta\\right) - l\\right)}\\right|}{2^{t} \\cdot \\left|\\left(1 - e^{2 \\cdot \\pi \\cdot i \\cdot \\left(\\delta - \\frac{l}{2^{t}}\\right)}\\right)\\right|}$"
      ]
     },
     "execution_count": 10,
     "metadata": {},
     "output_type": "execute_result"
    }
   ],
   "source": [
    "X1 = autoSubstitute(abs_alpha_l, 'factor', [i], {'assumptions':assumptions,'pull':'left'}, superExpr=abs_alpha_l.rhs.numerator, suppressWarnings=True).proven(assumptions)\n",
    "X1"
   ]
  },
  {
   "cell_type": "code",
   "execution_count": 11,
   "metadata": {
    "collapsed": false
   },
   "outputs": [
    {
     "data": {
      "text/latex": [
       "$\\left|\\alpha_{l}\\right| = \\frac{\\left|1 - e^{i \\cdot 2 \\cdot \\pi \\cdot \\left(\\left(2^{t} \\cdot \\delta\\right) - l\\right)}\\right|}{2^{t} \\cdot \\left|\\left(1 - e^{i \\cdot 2 \\cdot \\pi \\cdot \\left(\\delta - \\frac{l}{2^{t}}\\right)}\\right)\\right|}$"
      ],
      "text/plain": [
       "$\\left|\\alpha_{l}\\right| = \\frac{\\left|1 - e^{i \\cdot 2 \\cdot \\pi \\cdot \\left(\\left(2^{t} \\cdot \\delta\\right) - l\\right)}\\right|}{2^{t} \\cdot \\left|\\left(1 - e^{i \\cdot 2 \\cdot \\pi \\cdot \\left(\\delta - \\frac{l}{2^{t}}\\right)}\\right)\\right|}$"
      ]
     },
     "execution_count": 11,
     "metadata": {},
     "output_type": "execute_result"
    }
   ],
   "source": [
    "X2 = autoSubstitute(X1, 'factor', [i], {'assumptions':assumptions}, superExpr=abs_alpha_l.rhs.denominator, suppressWarnings=True).proven(assumptions)\n",
    "X2"
   ]
  },
  {
   "cell_type": "code",
   "execution_count": 12,
   "metadata": {
    "collapsed": false
   },
   "outputs": [
    {
     "data": {
      "text/latex": [
       "$\\left|\\left(1 - e^{i \\cdot \\left(2 \\cdot \\pi \\cdot \\left(\\left(2^{t} \\cdot \\delta\\right) - l\\right)\\right)}\\right)\\right| \\leq 2$"
      ],
      "text/plain": [
       "$\\left|\\left(1 - e^{i \\cdot \\left(2 \\cdot \\pi \\cdot \\left(\\left(2^{t} \\cdot \\delta\\right) - l\\right)\\right)}\\right)\\right| \\leq 2$"
      ]
     },
     "execution_count": 12,
     "metadata": {},
     "output_type": "execute_result"
    }
   ],
   "source": [
    "Y1 = ineqThm9.specialize({theta:Multiply(two,pi,Subtract(Multiply(Exponentiate(two,t_),delta_),l))}).proven(assumptions)\n",
    "Y1"
   ]
  },
  {
   "cell_type": "code",
   "execution_count": 13,
   "metadata": {
    "collapsed": false
   },
   "outputs": [
    {
     "data": {
      "text/latex": [
       "$\\left(2^{t} \\cdot \\left|\\left(1 - e^{i \\cdot 2 \\cdot \\pi \\cdot \\left(\\delta - \\frac{l}{2^{t}}\\right)}\\right)\\right|\\right) \\in \\mathbb{R}^+$"
      ],
      "text/plain": [
       "$\\left(2^{t} \\cdot \\left|\\left(1 - e^{i \\cdot 2 \\cdot \\pi \\cdot \\left(\\delta - \\frac{l}{2^{t}}\\right)}\\right)\\right|\\right) \\in \\mathbb{R}^+$"
      ]
     },
     "execution_count": 13,
     "metadata": {},
     "output_type": "execute_result"
    }
   ],
   "source": [
    "#deduceNotZero(Subtract(one,Exponentiate(e,Multiply(i,two,pi,Subtract(delta_,Fraction(l,Exponentiate(two,t_)))))),assumptions)\n",
    "deduceInRealsPos(X2.rhs.denominator,assumptions)"
   ]
  },
  {
   "cell_type": "code",
   "execution_count": 14,
   "metadata": {
    "collapsed": false
   },
   "outputs": [
    {
     "data": {
      "text/latex": [
       "$\\forall_{a, b, c \\in \\mathbb{R}~|~a \\leq c, b > 0} \\left(\\frac{a}{b} \\leq \\frac{c}{b}\\right)$"
      ],
      "text/plain": [
       "$\\forall_{a, b, c \\in \\mathbb{R}~|~a \\leq c, b > 0} \\left(\\frac{a}{b} \\leq \\frac{c}{b}\\right)$"
      ]
     },
     "execution_count": 14,
     "metadata": {},
     "output_type": "execute_result"
    }
   ],
   "source": [
    "divIneqThm1"
   ]
  },
  {
   "cell_type": "code",
   "execution_count": 15,
   "metadata": {
    "collapsed": false
   },
   "outputs": [
    {
     "data": {
      "text/latex": [
       "$\\left(2^{t} \\cdot \\left|\\left(1 - e^{i \\cdot 2 \\cdot \\pi \\cdot \\left(\\delta - \\frac{l}{2^{t}}\\right)}\\right)\\right|\\right) \\in \\mathbb{R}$"
      ],
      "text/plain": [
       "$\\left(2^{t} \\cdot \\left|\\left(1 - e^{i \\cdot 2 \\cdot \\pi \\cdot \\left(\\delta - \\frac{l}{2^{t}}\\right)}\\right)\\right|\\right) \\in \\mathbb{R}$"
      ]
     },
     "metadata": {},
     "output_type": "display_data"
    },
    {
     "data": {
      "text/latex": [
       "$\\left(2^{t} \\cdot \\left|\\left(1 - e^{i \\cdot 2 \\cdot \\pi \\cdot \\left(\\delta - \\frac{l}{2^{t}}\\right)}\\right)\\right|\\right) > 0$"
      ],
      "text/plain": [
       "$\\left(2^{t} \\cdot \\left|\\left(1 - e^{i \\cdot 2 \\cdot \\pi \\cdot \\left(\\delta - \\frac{l}{2^{t}}\\right)}\\right)\\right|\\right) > 0$"
      ]
     },
     "metadata": {},
     "output_type": "display_data"
    },
    {
     "data": {
      "text/latex": [
       "$\\left|\\left(1 - e^{i \\cdot \\left(2 \\cdot \\pi \\cdot \\left(\\left(2^{t} \\cdot \\delta\\right) - l\\right)\\right)}\\right)\\right| \\in \\mathbb{R}$"
      ],
      "text/plain": [
       "$\\left|\\left(1 - e^{i \\cdot \\left(2 \\cdot \\pi \\cdot \\left(\\left(2^{t} \\cdot \\delta\\right) - l\\right)\\right)}\\right)\\right| \\in \\mathbb{R}$"
      ]
     },
     "metadata": {},
     "output_type": "display_data"
    }
   ],
   "source": [
    "display(deduceInReals(X2.rhs.denominator, assumptions).proven(assumptions))\n",
    "display(deducePositive(X2.rhs.denominator,assumptions).proven(assumptions))\n",
    "display(deduceInReals(Y1.lhs, assumptions).proven(assumptions))"
   ]
  },
  {
   "cell_type": "code",
   "execution_count": 16,
   "metadata": {
    "collapsed": false
   },
   "outputs": [
    {
     "data": {
      "text/latex": [
       "$\\frac{\\left|1 - e^{i \\cdot \\left(2 \\cdot \\pi \\cdot \\left(\\left(2^{t} \\cdot \\delta\\right) - l\\right)\\right)}\\right|}{2^{t} \\cdot \\left|\\left(1 - e^{i \\cdot 2 \\cdot \\pi \\cdot \\left(\\delta - \\frac{l}{2^{t}}\\right)}\\right)\\right|} \\leq \\frac{2}{2^{t} \\cdot \\left|\\left(1 - e^{i \\cdot 2 \\cdot \\pi \\cdot \\left(\\delta - \\frac{l}{2^{t}}\\right)}\\right)\\right|}$"
      ],
      "text/plain": [
       "$\\frac{\\left|1 - e^{i \\cdot \\left(2 \\cdot \\pi \\cdot \\left(\\left(2^{t} \\cdot \\delta\\right) - l\\right)\\right)}\\right|}{2^{t} \\cdot \\left|\\left(1 - e^{i \\cdot 2 \\cdot \\pi \\cdot \\left(\\delta - \\frac{l}{2^{t}}\\right)}\\right)\\right|} \\leq \\frac{2}{2^{t} \\cdot \\left|\\left(1 - e^{i \\cdot 2 \\cdot \\pi \\cdot \\left(\\delta - \\frac{l}{2^{t}}\\right)}\\right)\\right|}$"
      ]
     },
     "execution_count": 16,
     "metadata": {},
     "output_type": "execute_result"
    }
   ],
   "source": [
    "Y2 = divIneqThm1.specialize({a:Y1.lhs,b:X2.rhs.denominator,c:Y1.rhs}).proven(assumptions)\n",
    "Y2"
   ]
  },
  {
   "cell_type": "code",
   "execution_count": 17,
   "metadata": {
    "collapsed": false
   },
   "outputs": [
    {
     "data": {
      "text/latex": [
       "$\\left|\\alpha_{l}\\right| = \\frac{\\left|1 - e^{i \\cdot \\left(2 \\cdot \\pi \\cdot \\left(\\left(2^{t} \\cdot \\delta\\right) - l\\right)\\right)}\\right|}{2^{t} \\cdot \\left|\\left(1 - e^{i \\cdot 2 \\cdot \\pi \\cdot \\left(\\delta - \\frac{l}{2^{t}}\\right)}\\right)\\right|}$"
      ],
      "text/plain": [
       "$\\left|\\alpha_{l}\\right| = \\frac{\\left|1 - e^{i \\cdot \\left(2 \\cdot \\pi \\cdot \\left(\\left(2^{t} \\cdot \\delta\\right) - l\\right)\\right)}\\right|}{2^{t} \\cdot \\left|\\left(1 - e^{i \\cdot 2 \\cdot \\pi \\cdot \\left(\\delta - \\frac{l}{2^{t}}\\right)}\\right)\\right|}$"
      ]
     },
     "execution_count": 17,
     "metadata": {},
     "output_type": "execute_result"
    }
   ],
   "source": [
    "X2a = Multiply(i,two,pi,Subtract(Multiply(Exponentiate(two,t_),delta_),l)).group(1,4,assumptions=assumptions).rhsSubstitute(X2).proven(assumptions)\n",
    "X2a"
   ]
  },
  {
   "cell_type": "code",
   "execution_count": 18,
   "metadata": {
    "collapsed": false
   },
   "outputs": [
    {
     "data": {
      "text/latex": [
       "$\\left|\\alpha_{l}\\right| \\leq \\frac{2}{2^{t} \\cdot \\left|\\left(1 - e^{i \\cdot 2 \\cdot \\pi \\cdot \\left(\\delta - \\frac{l}{2^{t}}\\right)}\\right)\\right|}$"
      ],
      "text/plain": [
       "$\\left|\\alpha_{l}\\right| \\leq \\frac{2}{2^{t} \\cdot \\left|\\left(1 - e^{i \\cdot 2 \\cdot \\pi \\cdot \\left(\\delta - \\frac{l}{2^{t}}\\right)}\\right)\\right|}$"
      ]
     },
     "execution_count": 18,
     "metadata": {},
     "output_type": "execute_result"
    }
   ],
   "source": [
    "X5 = Relation(X2a).update(Y2).proven(assumptions)\n",
    "X5"
   ]
  },
  {
   "cell_type": "code",
   "execution_count": 19,
   "metadata": {
    "collapsed": false
   },
   "outputs": [
    {
     "data": {
      "text/latex": [
       "$\\left|\\alpha_{l}\\right| \\leq \\frac{2}{2^{t} \\cdot \\left|\\left(1 - e^{i \\cdot \\left(2 \\cdot \\pi \\cdot \\left(\\delta - \\frac{l}{2^{t}}\\right)\\right)}\\right)\\right|}$"
      ],
      "text/plain": [
       "$\\left|\\alpha_{l}\\right| \\leq \\frac{2}{2^{t} \\cdot \\left|\\left(1 - e^{i \\cdot \\left(2 \\cdot \\pi \\cdot \\left(\\delta - \\frac{l}{2^{t}}\\right)\\right)}\\right)\\right|}$"
      ]
     },
     "execution_count": 19,
     "metadata": {},
     "output_type": "execute_result"
    }
   ],
   "source": [
    "X5a = multAssoc.specialize({Etcetera(x):i,\n",
    "                            Etcetera(y):[two,pi,Subtract(delta_,Fraction(l,Exponentiate(two,t_)))],\n",
    "                            Etcetera(z):[]}).rhsSubstitute(X5).proven(assumptions)\n",
    "X5a"
   ]
  },
  {
   "cell_type": "code",
   "execution_count": 20,
   "metadata": {
    "collapsed": false
   },
   "outputs": [
    {
     "data": {
      "text/latex": [
       "$\\frac{2 \\cdot \\left|\\left(2 \\cdot \\pi \\cdot \\left(\\delta - \\frac{l}{2^{t}}\\right)\\right)\\right|}{\\pi} \\leq \\left|\\left(1 - e^{i \\cdot \\left(2 \\cdot \\pi \\cdot \\left(\\delta - \\frac{l}{2^{t}}\\right)\\right)}\\right)\\right|$"
      ],
      "text/plain": [
       "$\\frac{2 \\cdot \\left|\\left(2 \\cdot \\pi \\cdot \\left(\\delta - \\frac{l}{2^{t}}\\right)\\right)\\right|}{\\pi} \\leq \\left|\\left(1 - e^{i \\cdot \\left(2 \\cdot \\pi \\cdot \\left(\\delta - \\frac{l}{2^{t}}\\right)\\right)}\\right)\\right|$"
      ]
     },
     "execution_count": 20,
     "metadata": {},
     "output_type": "execute_result"
    }
   ],
   "source": [
    "Y5_0 = boundedUnitModulusDiff.specialize(\n",
    "    {theta:Multiply(two,pi, Subtract(delta_,Fraction(l,Exponentiate(two,t_))))}).proven(assumptions).deriveReversed().proven(assumptions)\n",
    "Y5_0"
   ]
  },
  {
   "cell_type": "code",
   "execution_count": 21,
   "metadata": {
    "collapsed": false
   },
   "outputs": [
    {
     "data": {
      "text/latex": [
       "$\\frac{2 \\cdot \\left|\\left(2 \\cdot \\pi \\cdot \\left(\\delta - \\frac{l}{2^{t}}\\right)\\right)\\right|}{\\pi} \\in \\mathbb{R}$"
      ],
      "text/plain": [
       "$\\frac{2 \\cdot \\left|\\left(2 \\cdot \\pi \\cdot \\left(\\delta - \\frac{l}{2^{t}}\\right)\\right)\\right|}{\\pi} \\in \\mathbb{R}$"
      ]
     },
     "metadata": {},
     "output_type": "display_data"
    },
    {
     "data": {
      "text/latex": [
       "$\\left|\\left(1 - e^{i \\cdot \\left(2 \\cdot \\pi \\cdot \\left(\\delta - \\frac{l}{2^{t}}\\right)\\right)}\\right)\\right| \\in \\mathbb{R}$"
      ],
      "text/plain": [
       "$\\left|\\left(1 - e^{i \\cdot \\left(2 \\cdot \\pi \\cdot \\left(\\delta - \\frac{l}{2^{t}}\\right)\\right)}\\right)\\right| \\in \\mathbb{R}$"
      ]
     },
     "metadata": {},
     "output_type": "display_data"
    }
   ],
   "source": [
    "display(deduceInReals(Y5_0.lhs,assumptions))\n",
    "display(deduceInReals(Y5_0.rhs,assumptions))"
   ]
  },
  {
   "cell_type": "code",
   "execution_count": 22,
   "metadata": {
    "collapsed": false
   },
   "outputs": [
    {
     "data": {
      "text/latex": [
       "$\\left(2^{t} \\cdot \\left|\\left(1 - e^{i \\cdot \\left(2 \\cdot \\pi \\cdot \\left(\\delta - \\frac{l}{2^{t}}\\right)\\right)}\\right)\\right|\\right) \\geq \\left(2^{t} \\cdot \\frac{2 \\cdot \\left|\\left(2 \\cdot \\pi \\cdot \\left(\\delta - \\frac{l}{2^{t}}\\right)\\right)\\right|}{\\pi}\\right)$"
      ],
      "text/plain": [
       "$\\left(2^{t} \\cdot \\left|\\left(1 - e^{i \\cdot \\left(2 \\cdot \\pi \\cdot \\left(\\delta - \\frac{l}{2^{t}}\\right)\\right)}\\right)\\right|\\right) \\geq \\left(2^{t} \\cdot \\frac{2 \\cdot \\left|\\left(2 \\cdot \\pi \\cdot \\left(\\delta - \\frac{l}{2^{t}}\\right)\\right)\\right|}{\\pi}\\right)$"
      ]
     },
     "execution_count": 22,
     "metadata": {},
     "output_type": "execute_result"
    }
   ],
   "source": [
    "Y6 = divIneqThm1cor.specialize({a:Y5_0.lhs,c:Y5_0.rhs,b:Exponentiate(two,t_)}).proven(assumptions).deriveReversed().proven(assumptions)\n",
    "Y6"
   ]
  },
  {
   "cell_type": "code",
   "execution_count": 23,
   "metadata": {
    "collapsed": false
   },
   "outputs": [
    {
     "data": {
      "text/latex": [
       "$\\left(2^{t} \\cdot \\left|\\left(1 - e^{i \\cdot \\left(2 \\cdot \\pi \\cdot \\left(\\delta - \\frac{l}{2^{t}}\\right)\\right)}\\right)\\right|\\right) \\geq \\left(2^{t} \\cdot \\frac{2 \\cdot \\left|\\left(\\left(2 \\cdot \\pi\\right) \\cdot \\left(\\delta - \\frac{l}{2^{t}}\\right)\\right)\\right|}{\\pi}\\right)$"
      ],
      "text/plain": [
       "$\\left(2^{t} \\cdot \\left|\\left(1 - e^{i \\cdot \\left(2 \\cdot \\pi \\cdot \\left(\\delta - \\frac{l}{2^{t}}\\right)\\right)}\\right)\\right|\\right) \\geq \\left(2^{t} \\cdot \\frac{2 \\cdot \\left|\\left(\\left(2 \\cdot \\pi\\right) \\cdot \\left(\\delta - \\frac{l}{2^{t}}\\right)\\right)\\right|}{\\pi}\\right)$"
      ]
     },
     "execution_count": 23,
     "metadata": {},
     "output_type": "execute_result"
    }
   ],
   "source": [
    "Y7 = autoSubstitute(Y6, 'group', [0,2], {'assumptions':assumptions}, superExpr=Y6.rhs, suppressWarnings=True).proven(assumptions)\n",
    "Y7"
   ]
  },
  {
   "cell_type": "code",
   "execution_count": 24,
   "metadata": {
    "collapsed": false
   },
   "outputs": [
    {
     "data": {
      "text/latex": [
       "$\\left|\\left(\\left(2 \\cdot \\pi\\right) \\cdot \\left(\\delta - \\frac{l}{2^{t}}\\right)\\right)\\right| = \\left(\\left|\\left(2 \\cdot \\pi\\right)\\right| \\cdot \\left|\\left(\\delta - \\frac{l}{2^{t}}\\right)\\right|\\right)$"
      ],
      "text/plain": [
       "$\\left|\\left(\\left(2 \\cdot \\pi\\right) \\cdot \\left(\\delta - \\frac{l}{2^{t}}\\right)\\right)\\right| = \\left(\\left|\\left(2 \\cdot \\pi\\right)\\right| \\cdot \\left|\\left(\\delta - \\frac{l}{2^{t}}\\right)\\right|\\right)$"
      ]
     },
     "execution_count": 24,
     "metadata": {},
     "output_type": "execute_result"
    }
   ],
   "source": [
    "Y8 = absProd.specialize({xEtc:Multiply(two,pi),yEtc:Subtract(delta_,Fraction(l,Exponentiate(two,t_)))}).proven(assumptions)\n",
    "Y8"
   ]
  },
  {
   "cell_type": "code",
   "execution_count": 25,
   "metadata": {
    "collapsed": false
   },
   "outputs": [
    {
     "data": {
      "text/latex": [
       "$\\left(2^{t} \\cdot \\left|\\left(1 - e^{i \\cdot \\left(2 \\cdot \\pi \\cdot \\left(\\delta - \\frac{l}{2^{t}}\\right)\\right)}\\right)\\right|\\right) \\geq \\left(2^{t} \\cdot \\frac{2 \\cdot \\left(\\left|\\left(2 \\cdot \\pi\\right)\\right| \\cdot \\left|\\left(\\delta - \\frac{l}{2^{t}}\\right)\\right|\\right)}{\\pi}\\right)$"
      ],
      "text/plain": [
       "$\\left(2^{t} \\cdot \\left|\\left(1 - e^{i \\cdot \\left(2 \\cdot \\pi \\cdot \\left(\\delta - \\frac{l}{2^{t}}\\right)\\right)}\\right)\\right|\\right) \\geq \\left(2^{t} \\cdot \\frac{2 \\cdot \\left(\\left|\\left(2 \\cdot \\pi\\right)\\right| \\cdot \\left|\\left(\\delta - \\frac{l}{2^{t}}\\right)\\right|\\right)}{\\pi}\\right)$"
      ]
     },
     "execution_count": 25,
     "metadata": {},
     "output_type": "execute_result"
    }
   ],
   "source": [
    "Y9 = Y8.rhsSubstitute(Y7).proven(assumptions)\n",
    "Y9"
   ]
  },
  {
   "cell_type": "code",
   "execution_count": 26,
   "metadata": {
    "collapsed": false
   },
   "outputs": [
    {
     "data": {
      "text/latex": [
       "$\\left(2^{t} \\cdot \\left|\\left(1 - e^{i \\cdot \\left(2 \\cdot \\pi \\cdot \\left(\\delta - \\frac{l}{2^{t}}\\right)\\right)}\\right)\\right|\\right) \\geq \\left(2^{t} \\cdot \\frac{2 \\cdot \\left(\\left(2 \\cdot \\pi\\right) \\cdot \\left|\\left(\\delta - \\frac{l}{2^{t}}\\right)\\right|\\right)}{\\pi}\\right)$"
      ],
      "text/plain": [
       "$\\left(2^{t} \\cdot \\left|\\left(1 - e^{i \\cdot \\left(2 \\cdot \\pi \\cdot \\left(\\delta - \\frac{l}{2^{t}}\\right)\\right)}\\right)\\right|\\right) \\geq \\left(2^{t} \\cdot \\frac{2 \\cdot \\left(\\left(2 \\cdot \\pi\\right) \\cdot \\left|\\left(\\delta - \\frac{l}{2^{t}}\\right)\\right|\\right)}{\\pi}\\right)$"
      ]
     },
     "execution_count": 26,
     "metadata": {},
     "output_type": "execute_result"
    }
   ],
   "source": [
    "Y10 = absPos.specialize({a:Multiply(two,pi)}).rhsSubstitute(Y9).proven(assumptions)\n",
    "Y10"
   ]
  },
  {
   "cell_type": "code",
   "execution_count": 27,
   "metadata": {
    "collapsed": false
   },
   "outputs": [
    {
     "data": {
      "text/latex": [
       "$2 \\cdot \\left(2 \\cdot \\pi\\right) \\cdot \\left|\\left(\\delta - \\frac{l}{2^{t}}\\right)\\right|$"
      ],
      "text/plain": [
       "$2 \\cdot \\left(2 \\cdot \\pi\\right) \\cdot \\left|\\left(\\delta - \\frac{l}{2^{t}}\\right)\\right|$"
      ]
     },
     "execution_count": 27,
     "metadata": {},
     "output_type": "execute_result"
    }
   ],
   "source": [
    "Y11_0 = Multiply(two,\n",
    "                Multiply(two,pi),\n",
    "                Abs(Subtract(delta_,Fraction(l,Exponentiate(two,t_)))))\n",
    "Y11_0"
   ]
  },
  {
   "cell_type": "code",
   "execution_count": 28,
   "metadata": {
    "collapsed": false
   },
   "outputs": [
    {
     "data": {
      "text/latex": [
       "$\\left(2 \\cdot \\left(2 \\cdot \\pi\\right) \\cdot \\left|\\left(\\delta - \\frac{l}{2^{t}}\\right)\\right|\\right) = \\left(2 \\cdot \\left(\\left(2 \\cdot \\pi\\right) \\cdot \\left|\\left(\\delta - \\frac{l}{2^{t}}\\right)\\right|\\right)\\right)$"
      ],
      "text/plain": [
       "$\\left(2 \\cdot \\left(2 \\cdot \\pi\\right) \\cdot \\left|\\left(\\delta - \\frac{l}{2^{t}}\\right)\\right|\\right) = \\left(2 \\cdot \\left(\\left(2 \\cdot \\pi\\right) \\cdot \\left|\\left(\\delta - \\frac{l}{2^{t}}\\right)\\right|\\right)\\right)$"
      ]
     },
     "execution_count": 28,
     "metadata": {},
     "output_type": "execute_result"
    }
   ],
   "source": [
    "Y11 = Y11_0.group(1,3,assumptions).proven(assumptions)\n",
    "Y11"
   ]
  },
  {
   "cell_type": "code",
   "execution_count": 29,
   "metadata": {
    "collapsed": false
   },
   "outputs": [
    {
     "data": {
      "text/latex": [
       "$\\left(2^{t} \\cdot \\left|\\left(1 - e^{i \\cdot \\left(2 \\cdot \\pi \\cdot \\left(\\delta - \\frac{l}{2^{t}}\\right)\\right)}\\right)\\right|\\right) \\geq \\left(2^{t} \\cdot \\frac{2 \\cdot \\left(2 \\cdot \\pi\\right) \\cdot \\left|\\left(\\delta - \\frac{l}{2^{t}}\\right)\\right|}{\\pi}\\right)$"
      ],
      "text/plain": [
       "$\\left(2^{t} \\cdot \\left|\\left(1 - e^{i \\cdot \\left(2 \\cdot \\pi \\cdot \\left(\\delta - \\frac{l}{2^{t}}\\right)\\right)}\\right)\\right|\\right) \\geq \\left(2^{t} \\cdot \\frac{2 \\cdot \\left(2 \\cdot \\pi\\right) \\cdot \\left|\\left(\\delta - \\frac{l}{2^{t}}\\right)\\right|}{\\pi}\\right)$"
      ]
     },
     "execution_count": 29,
     "metadata": {},
     "output_type": "execute_result"
    }
   ],
   "source": [
    "Y12 = Y11.lhsSubstitute(Y10).proven(assumptions)\n",
    "Y12"
   ]
  },
  {
   "cell_type": "code",
   "execution_count": 30,
   "metadata": {
    "collapsed": false
   },
   "outputs": [
    {
     "data": {
      "text/latex": [
       "$\\left(2 \\cdot 2 \\cdot \\pi \\cdot \\left|\\left(\\delta - \\frac{l}{2^{t}}\\right)\\right|\\right) = \\left(2 \\cdot \\left(2 \\cdot \\pi\\right) \\cdot \\left|\\left(\\delta - \\frac{l}{2^{t}}\\right)\\right|\\right)$"
      ],
      "text/plain": [
       "$\\left(2 \\cdot 2 \\cdot \\pi \\cdot \\left|\\left(\\delta - \\frac{l}{2^{t}}\\right)\\right|\\right) = \\left(2 \\cdot \\left(2 \\cdot \\pi\\right) \\cdot \\left|\\left(\\delta - \\frac{l}{2^{t}}\\right)\\right|\\right)$"
      ]
     },
     "execution_count": 30,
     "metadata": {},
     "output_type": "execute_result"
    }
   ],
   "source": [
    "Y13 = multAssoc.specialize({Etcetera(x):two,\n",
    "                            Etcetera(y):[two,pi],Etcetera(z):Abs(Subtract(delta_,Fraction(l,Exponentiate(two,t_))))}).proven(assumptions)\n",
    "Y13"
   ]
  },
  {
   "cell_type": "code",
   "execution_count": 31,
   "metadata": {
    "collapsed": false
   },
   "outputs": [
    {
     "data": {
      "text/latex": [
       "$\\left(2^{t} \\cdot \\left|\\left(1 - e^{i \\cdot \\left(2 \\cdot \\pi \\cdot \\left(\\delta - \\frac{l}{2^{t}}\\right)\\right)}\\right)\\right|\\right) \\geq \\left(2^{t} \\cdot \\frac{2 \\cdot 2 \\cdot \\pi \\cdot \\left|\\left(\\delta - \\frac{l}{2^{t}}\\right)\\right|}{\\pi}\\right)$"
      ],
      "text/plain": [
       "$\\left(2^{t} \\cdot \\left|\\left(1 - e^{i \\cdot \\left(2 \\cdot \\pi \\cdot \\left(\\delta - \\frac{l}{2^{t}}\\right)\\right)}\\right)\\right|\\right) \\geq \\left(2^{t} \\cdot \\frac{2 \\cdot 2 \\cdot \\pi \\cdot \\left|\\left(\\delta - \\frac{l}{2^{t}}\\right)\\right|}{\\pi}\\right)$"
      ]
     },
     "execution_count": 31,
     "metadata": {},
     "output_type": "execute_result"
    }
   ],
   "source": [
    "Y14 = Y13.lhsSubstitute(Y12).proven(assumptions)\n",
    "Y14"
   ]
  },
  {
   "cell_type": "code",
   "execution_count": 32,
   "metadata": {
    "collapsed": false
   },
   "outputs": [
    {
     "data": {
      "text/latex": [
       "$\\left(2 \\cdot 2 \\cdot \\left|\\left(\\delta - \\frac{l}{2^{t}}\\right)\\right|\\right) \\in \\mathbb{C}$"
      ],
      "text/plain": [
       "$\\left(2 \\cdot 2 \\cdot \\left|\\left(\\delta - \\frac{l}{2^{t}}\\right)\\right|\\right) \\in \\mathbb{C}$"
      ]
     },
     "metadata": {},
     "output_type": "display_data"
    },
    {
     "data": {
      "text/latex": [
       "$\\left|\\left(\\delta - \\frac{l}{2^{t}}\\right)\\right| \\in \\mathbb{C}$"
      ],
      "text/plain": [
       "$\\left|\\left(\\delta - \\frac{l}{2^{t}}\\right)\\right| \\in \\mathbb{C}$"
      ]
     },
     "metadata": {},
     "output_type": "display_data"
    }
   ],
   "source": [
    "display(deduceInComplexes(Multiply(two,two,Abs(Subtract(delta_,Fraction(l,Exponentiate(two,t_))))),assumptions))\n",
    "display(deduceInComplexes(Abs(Subtract(delta_,Fraction(l,Exponentiate(two,t_)))),assumptions))\n"
   ]
  },
  {
   "cell_type": "code",
   "execution_count": 33,
   "metadata": {
    "collapsed": false
   },
   "outputs": [
    {
     "data": {
      "text/latex": [
       "$\\frac{2 \\cdot 2 \\cdot \\pi \\cdot \\left|\\left(\\delta - \\frac{l}{2^{t}}\\right)\\right|}{\\pi} = \\left(2 \\cdot 2 \\cdot \\left|\\left(\\delta - \\frac{l}{2^{t}}\\right)\\right|\\right)$"
      ],
      "text/plain": [
       "$\\frac{2 \\cdot 2 \\cdot \\pi \\cdot \\left|\\left(\\delta - \\frac{l}{2^{t}}\\right)\\right|}{\\pi} = \\left(2 \\cdot 2 \\cdot \\left|\\left(\\delta - \\frac{l}{2^{t}}\\right)\\right|\\right)$"
      ]
     },
     "execution_count": 33,
     "metadata": {},
     "output_type": "execute_result"
    }
   ],
   "source": [
    "Y15_0 = Y14.rhs.operands[1].cancel(pi,assumptions=assumptions).proven(assumptions)\n",
    "Y15_0"
   ]
  },
  {
   "cell_type": "code",
   "execution_count": 34,
   "metadata": {
    "collapsed": false
   },
   "outputs": [
    {
     "data": {
      "text/latex": [
       "$\\left(2^{t} \\cdot \\left|\\left(1 - e^{i \\cdot \\left(2 \\cdot \\pi \\cdot \\left(\\delta - \\frac{l}{2^{t}}\\right)\\right)}\\right)\\right|\\right) \\geq \\left(2^{t} \\cdot \\left(2 \\cdot 2 \\cdot \\left|\\left(\\delta - \\frac{l}{2^{t}}\\right)\\right|\\right)\\right)$"
      ],
      "text/plain": [
       "$\\left(2^{t} \\cdot \\left|\\left(1 - e^{i \\cdot \\left(2 \\cdot \\pi \\cdot \\left(\\delta - \\frac{l}{2^{t}}\\right)\\right)}\\right)\\right|\\right) \\geq \\left(2^{t} \\cdot \\left(2 \\cdot 2 \\cdot \\left|\\left(\\delta - \\frac{l}{2^{t}}\\right)\\right|\\right)\\right)$"
      ]
     },
     "execution_count": 34,
     "metadata": {},
     "output_type": "execute_result"
    }
   ],
   "source": [
    "Y15 = Y14.rhs.operands[1].cancel(pi,assumptions=assumptions).rhsSubstitute(Y14).proven(assumptions)\n",
    "Y15"
   ]
  },
  {
   "cell_type": "code",
   "execution_count": 35,
   "metadata": {
    "collapsed": false
   },
   "outputs": [
    {
     "data": {
      "text/latex": [
       "$\\left(2^{t} \\cdot \\left(2 \\cdot 2 \\cdot \\left|\\left(\\delta - \\frac{l}{2^{t}}\\right)\\right|\\right)\\right) > 0$"
      ],
      "text/plain": [
       "$\\left(2^{t} \\cdot \\left(2 \\cdot 2 \\cdot \\left|\\left(\\delta - \\frac{l}{2^{t}}\\right)\\right|\\right)\\right) > 0$"
      ]
     },
     "metadata": {},
     "output_type": "display_data"
    },
    {
     "data": {
      "text/latex": [
       "$\\left(2^{t} \\cdot \\left(2 \\cdot 2 \\cdot \\left|\\left(\\delta - \\frac{l}{2^{t}}\\right)\\right|\\right)\\right) \\in \\mathbb{R}$"
      ],
      "text/plain": [
       "$\\left(2^{t} \\cdot \\left(2 \\cdot 2 \\cdot \\left|\\left(\\delta - \\frac{l}{2^{t}}\\right)\\right|\\right)\\right) \\in \\mathbb{R}$"
      ]
     },
     "metadata": {},
     "output_type": "display_data"
    }
   ],
   "source": [
    "Y18 = deducePositive(Y15.rhs, assumptions).proven(assumptions)\n",
    "display(Y18)\n",
    "display(deduceInReals(Y18.lhs,assumptions).proven(assumptions))"
   ]
  },
  {
   "cell_type": "code",
   "execution_count": 36,
   "metadata": {
    "collapsed": false
   },
   "outputs": [
    {
     "data": {
      "text/latex": [
       "$\\left(2^{t} \\cdot \\left|\\left(1 - e^{i \\cdot \\left(2 \\cdot \\pi \\cdot \\left(\\delta - \\frac{l}{2^{t}}\\right)\\right)}\\right)\\right|\\right) > 0$"
      ],
      "text/plain": [
       "$\\left(2^{t} \\cdot \\left|\\left(1 - e^{i \\cdot \\left(2 \\cdot \\pi \\cdot \\left(\\delta - \\frac{l}{2^{t}}\\right)\\right)}\\right)\\right|\\right) > 0$"
      ]
     },
     "execution_count": 36,
     "metadata": {},
     "output_type": "execute_result"
    }
   ],
   "source": [
    "deducePositive(X5a.rhs.denominator, assumptions).proven(assumptions)"
   ]
  },
  {
   "cell_type": "code",
   "execution_count": 37,
   "metadata": {
    "collapsed": false
   },
   "outputs": [
    {
     "data": {
      "text/latex": [
       "$\\left|\\alpha_{l}\\right| \\leq \\frac{2}{2^{t} \\cdot \\left(2 \\cdot 2 \\cdot \\left|\\left(\\delta - \\frac{l}{2^{t}}\\right)\\right|\\right)}$"
      ],
      "text/plain": [
       "$\\left|\\alpha_{l}\\right| \\leq \\frac{2}{2^{t} \\cdot \\left(2 \\cdot 2 \\cdot \\left|\\left(\\delta - \\frac{l}{2^{t}}\\right)\\right|\\right)}$"
      ]
     },
     "execution_count": 37,
     "metadata": {},
     "output_type": "execute_result"
    }
   ],
   "source": [
    "X19 = ineqThm10a.specialize({w:X5.lhs,\n",
    "                      x:X5a.rhs.numerator,\n",
    "                      y:X5a.rhs.denominator,\n",
    "                      z:Y18.lhs}).proven(assumptions)\n",
    "X19"
   ]
  },
  {
   "cell_type": "code",
   "execution_count": 38,
   "metadata": {
    "collapsed": false
   },
   "outputs": [
    {
     "data": {
      "text/latex": [
       "$\\left|\\alpha_{l}\\right| \\leq \\frac{2}{2^{t} \\cdot 2 \\cdot 2 \\cdot \\left|\\left(\\delta - \\frac{l}{2^{t}}\\right)\\right|}$"
      ],
      "text/plain": [
       "$\\left|\\alpha_{l}\\right| \\leq \\frac{2}{2^{t} \\cdot 2 \\cdot 2 \\cdot \\left|\\left(\\delta - \\frac{l}{2^{t}}\\right)\\right|}$"
      ]
     },
     "execution_count": 38,
     "metadata": {},
     "output_type": "execute_result"
    }
   ],
   "source": [
    "X20 = X19.rhs.denominator.ungroup(1,assumptions=assumptions).rhsSubstitute(X19).proven(assumptions)\n",
    "X20"
   ]
  },
  {
   "cell_type": "code",
   "execution_count": 39,
   "metadata": {
    "collapsed": false
   },
   "outputs": [
    {
     "data": {
      "text/latex": [
       "$\\left|\\alpha_{l}\\right| \\leq \\frac{1}{2^{t} \\cdot 2 \\cdot \\left|\\left(\\delta - \\frac{l}{2^{t}}\\right)\\right|}$"
      ],
      "text/plain": [
       "$\\left|\\alpha_{l}\\right| \\leq \\frac{1}{2^{t} \\cdot 2 \\cdot \\left|\\left(\\delta - \\frac{l}{2^{t}}\\right)\\right|}$"
      ]
     },
     "execution_count": 39,
     "metadata": {},
     "output_type": "execute_result"
    }
   ],
   "source": [
    "#21 omitted intentionally\n",
    "X22 = X20.rhs.cancel(two,'left',assumptions).rhsSubstitute(X20).proven(assumptions)\n",
    "X22"
   ]
  },
  {
   "cell_type": "code",
   "execution_count": 40,
   "metadata": {
    "collapsed": false
   },
   "outputs": [
    {
     "data": {
      "text/latex": [
       "$\\left|\\left(\\delta - \\frac{l}{2^{t}}\\right)\\right| \\in \\mathbb{C}$"
      ],
      "text/plain": [
       "$\\left|\\left(\\delta - \\frac{l}{2^{t}}\\right)\\right| \\in \\mathbb{C}$"
      ]
     },
     "execution_count": 40,
     "metadata": {},
     "output_type": "execute_result"
    }
   ],
   "source": [
    "deduceInComplexes(Abs(Subtract(delta_,Fraction(l,Exponentiate(two,t_)))), assumptions)"
   ]
  },
  {
   "cell_type": "code",
   "execution_count": 41,
   "metadata": {
    "collapsed": false
   },
   "outputs": [
    {
     "data": {
      "text/latex": [
       "$2 \\in \\mathbb{C}$"
      ],
      "text/plain": [
       "$2 \\in \\mathbb{C}$"
      ]
     },
     "execution_count": 41,
     "metadata": {},
     "output_type": "execute_result"
    }
   ],
   "source": [
    "deduceInComplexes(two)"
   ]
  },
  {
   "cell_type": "code",
   "execution_count": 42,
   "metadata": {
    "collapsed": false
   },
   "outputs": [
    {
     "data": {
      "text/latex": [
       "$t \\in \\mathbb{C}$"
      ],
      "text/plain": [
       "$t \\in \\mathbb{C}$"
      ]
     },
     "execution_count": 42,
     "metadata": {},
     "output_type": "execute_result"
    }
   ],
   "source": [
    "deduceInComplexes(t_)"
   ]
  },
  {
   "cell_type": "code",
   "execution_count": 43,
   "metadata": {
    "collapsed": false
   },
   "outputs": [
    {
     "data": {
      "text/latex": [
       "$\\left|\\alpha_{l}\\right| \\leq \\frac{1}{2^{t + 1} \\cdot \\left|\\left(\\delta - \\frac{l}{2^{t}}\\right)\\right|}$"
      ],
      "text/plain": [
       "$\\left|\\alpha_{l}\\right| \\leq \\frac{1}{2^{t + 1} \\cdot \\left|\\left(\\delta - \\frac{l}{2^{t}}\\right)\\right|}$"
      ]
     },
     "execution_count": 43,
     "metadata": {},
     "output_type": "execute_result"
    }
   ],
   "source": [
    "#23 omitted intentionally\n",
    "X24 = expAdd1a.specialize({x:two,y:t_,z:Abs(Subtract(delta_,Fraction(l,Exponentiate(two,t_))))}).rhsSubstitute(X22).proven(assumptions)\n",
    "X24"
   ]
  },
  {
   "cell_type": "code",
   "execution_count": 44,
   "metadata": {
    "collapsed": false
   },
   "outputs": [
    {
     "data": {
      "text/latex": [
       "$\\frac{1}{2^{t + 1} \\cdot \\left|\\left(\\delta - \\frac{l}{2^{t}}\\right)\\right|} \\in \\mathbb{R}$"
      ],
      "text/plain": [
       "$\\frac{1}{2^{t + 1} \\cdot \\left|\\left(\\delta - \\frac{l}{2^{t}}\\right)\\right|} \\in \\mathbb{R}$"
      ]
     },
     "execution_count": 44,
     "metadata": {},
     "output_type": "execute_result"
    }
   ],
   "source": [
    "deduceInReals(X24.rhs,assumptions)"
   ]
  },
  {
   "cell_type": "code",
   "execution_count": 45,
   "metadata": {
    "collapsed": false
   },
   "outputs": [
    {
     "data": {
      "text/latex": [
       "$\\forall_{a \\in \\mathbb{C}} \\left[\\forall_{b \\in \\mathbb{R}~|~\\left|a\\right| \\leq b} \\left(\\left|a\\right|^{2} \\leq b^{2}\\right)\\right]$"
      ],
      "text/plain": [
       "$\\forall_{a \\in \\mathbb{C}} \\left[\\forall_{b \\in \\mathbb{R}~|~\\left|a\\right| \\leq b} \\left(\\left|a\\right|^{2} \\leq b^{2}\\right)\\right]$"
      ]
     },
     "execution_count": 45,
     "metadata": {},
     "output_type": "execute_result"
    }
   ],
   "source": [
    "squarePosIneq"
   ]
  },
  {
   "cell_type": "code",
   "execution_count": 46,
   "metadata": {
    "collapsed": false
   },
   "outputs": [
    {
     "data": {
      "text/latex": [
       "$\\left|\\alpha_{l}\\right|^{2} \\leq \\left(\\frac{1}{2^{t + 1} \\cdot \\left|\\left(\\delta - \\frac{l}{2^{t}}\\right)\\right|}\\right)^{2}$"
      ],
      "text/plain": [
       "$\\left|\\alpha_{l}\\right|^{2} \\leq \\left(\\frac{1}{2^{t + 1} \\cdot \\left|\\left(\\delta - \\frac{l}{2^{t}}\\right)\\right|}\\right)^{2}$"
      ]
     },
     "execution_count": 46,
     "metadata": {},
     "output_type": "execute_result"
    }
   ],
   "source": [
    "X25 = squarePosIneq.specialize({a:alpha_l}).specialize({b:X24.rhs})\n",
    "X25.proven(assumptions)"
   ]
  },
  {
   "cell_type": "code",
   "execution_count": 47,
   "metadata": {
    "collapsed": false
   },
   "outputs": [
    {
     "data": {
      "text/latex": [
       "$\\left(2^{t + 1} \\cdot \\left|\\left(\\delta - \\frac{l}{2^{t}}\\right)\\right|\\right) \\in \\mathbb{C}$"
      ],
      "text/plain": [
       "$\\left(2^{t + 1} \\cdot \\left|\\left(\\delta - \\frac{l}{2^{t}}\\right)\\right|\\right) \\in \\mathbb{C}$"
      ]
     },
     "execution_count": 47,
     "metadata": {},
     "output_type": "execute_result"
    }
   ],
   "source": [
    "deduceInComplexes(Multiply(Exponentiate(two,Add(t_,one)),Abs(Subtract(delta_,Fraction(l,Exponentiate(two,t_))))),assumptions)"
   ]
  },
  {
   "cell_type": "code",
   "execution_count": 48,
   "metadata": {
    "collapsed": false
   },
   "outputs": [
    {
     "data": {
      "text/latex": [
       "$\\left|\\alpha_{l}\\right|^{2} \\leq \\frac{1^{2}}{\\left(2^{t + 1} \\cdot \\left|\\left(\\delta - \\frac{l}{2^{t}}\\right)\\right|\\right)^{2}}$"
      ],
      "text/plain": [
       "$\\left|\\alpha_{l}\\right|^{2} \\leq \\frac{1^{2}}{\\left(2^{t + 1} \\cdot \\left|\\left(\\delta - \\frac{l}{2^{t}}\\right)\\right|\\right)^{2}}$"
      ]
     },
     "execution_count": 48,
     "metadata": {},
     "output_type": "execute_result"
    }
   ],
   "source": [
    "X26 = fracExp.specialize({x:one,\n",
    "                          y:Multiply(Exponentiate(two,Add(t_,one)),Abs(Subtract(delta_,Fraction(l,Exponentiate(two,t_))))),\n",
    "                          z:two}).rhsSubstitute(X25)\n",
    "X26.proven(assumptions)"
   ]
  },
  {
   "cell_type": "code",
   "execution_count": 49,
   "metadata": {
    "collapsed": false
   },
   "outputs": [
    {
     "data": {
      "text/latex": [
       "$\\left|\\left(\\delta - \\frac{l}{2^{t}}\\right)\\right| \\in \\mathbb{C}$"
      ],
      "text/plain": [
       "$\\left|\\left(\\delta - \\frac{l}{2^{t}}\\right)\\right| \\in \\mathbb{C}$"
      ]
     },
     "execution_count": 49,
     "metadata": {},
     "output_type": "execute_result"
    }
   ],
   "source": [
    "deduceInComplexes(Abs(Subtract(delta_,Fraction(l,Exponentiate(two,t_)))), assumptions)"
   ]
  },
  {
   "cell_type": "code",
   "execution_count": 50,
   "metadata": {
    "collapsed": false
   },
   "outputs": [
    {
     "data": {
      "text/latex": [
       "$\\left|\\alpha_{l}\\right|^{2} \\leq \\frac{1^{2}}{\\left(2^{t + 1}\\right)^{2} \\cdot \\left|\\left(\\delta - \\frac{l}{2^{t}}\\right)\\right|^{2}}$"
      ],
      "text/plain": [
       "$\\left|\\alpha_{l}\\right|^{2} \\leq \\frac{1^{2}}{\\left(2^{t + 1}\\right)^{2} \\cdot \\left|\\left(\\delta - \\frac{l}{2^{t}}\\right)\\right|^{2}}$"
      ]
     },
     "execution_count": 50,
     "metadata": {},
     "output_type": "execute_result"
    }
   ],
   "source": [
    "X27 = powOfProd.specialize({a:Exponentiate(two,Add(t_,one)),\n",
    "                            b:Abs(Subtract(delta_,Fraction(l,Exponentiate(two,t_)))),\n",
    "                            c:two}).rhsSubstitute(X26)\n",
    "X27.proven(assumptions)"
   ]
  },
  {
   "cell_type": "code",
   "execution_count": 51,
   "metadata": {
    "collapsed": false
   },
   "outputs": [
    {
     "data": {
      "text/latex": [
       "$\\left|\\alpha_{l}\\right|^{2} \\leq \\frac{1}{\\left(2^{t + 1}\\right)^{2} \\cdot \\left|\\left(\\delta - \\frac{l}{2^{t}}\\right)\\right|^{2}}$"
      ],
      "text/plain": [
       "$\\left|\\alpha_{l}\\right|^{2} \\leq \\frac{1}{\\left(2^{t + 1}\\right)^{2} \\cdot \\left|\\left(\\delta - \\frac{l}{2^{t}}\\right)\\right|^{2}}$"
      ]
     },
     "execution_count": 51,
     "metadata": {},
     "output_type": "execute_result"
    }
   ],
   "source": [
    "X28 = expOne.specialize({x:two}).rhsSubstitute(X27)\n",
    "X28.proven(assumptions)"
   ]
  },
  {
   "cell_type": "code",
   "execution_count": 52,
   "metadata": {
    "collapsed": false
   },
   "outputs": [
    {
     "data": {
      "text/latex": [
       "$\\left(t + 1\\right) \\in \\mathbb{C}$"
      ],
      "text/plain": [
       "$\\left(t + 1\\right) \\in \\mathbb{C}$"
      ]
     },
     "execution_count": 52,
     "metadata": {},
     "output_type": "execute_result"
    }
   ],
   "source": [
    "deduceInComplexes(Add(t_,one),assumptions)"
   ]
  },
  {
   "cell_type": "code",
   "execution_count": 53,
   "metadata": {
    "collapsed": false
   },
   "outputs": [
    {
     "data": {
      "text/latex": [
       "$\\left|\\alpha_{l}\\right|^{2} \\leq \\frac{1}{2^{\\left(t + 1\\right) \\cdot 2} \\cdot \\left|\\left(\\delta - \\frac{l}{2^{t}}\\right)\\right|^{2}}$"
      ],
      "text/plain": [
       "$\\left|\\alpha_{l}\\right|^{2} \\leq \\frac{1}{2^{\\left(t + 1\\right) \\cdot 2} \\cdot \\left|\\left(\\delta - \\frac{l}{2^{t}}\\right)\\right|^{2}}$"
      ]
     },
     "execution_count": 53,
     "metadata": {},
     "output_type": "execute_result"
    }
   ],
   "source": [
    "X29 = powOfPow.specialize({a:two,b:Add(t_,one),c:two}).rhsSubstitute(X28)\n",
    "X29.proven(assumptions)"
   ]
  },
  {
   "cell_type": "code",
   "execution_count": 54,
   "metadata": {
    "collapsed": false
   },
   "outputs": [
    {
     "data": {
      "text/latex": [
       "$\\left|\\alpha_{l}\\right|^{2} \\leq \\frac{1}{2^{\\left(t \\cdot 2\\right) + \\left(1 \\cdot 2\\right)} \\cdot \\left|\\left(\\delta - \\frac{l}{2^{t}}\\right)\\right|^{2}}$"
      ],
      "text/plain": [
       "$\\left|\\alpha_{l}\\right|^{2} \\leq \\frac{1}{2^{\\left(t \\cdot 2\\right) + \\left(1 \\cdot 2\\right)} \\cdot \\left|\\left(\\delta - \\frac{l}{2^{t}}\\right)\\right|^{2}}$"
      ]
     },
     "execution_count": 54,
     "metadata": {},
     "output_type": "execute_result"
    }
   ],
   "source": [
    "X30 = multOverAdd.specialize({x:t_,y:one,z:two}).rhsSubstitute(X29)\n",
    "X30.proven(assumptions)"
   ]
  },
  {
   "cell_type": "code",
   "execution_count": 55,
   "metadata": {
    "collapsed": false
   },
   "outputs": [
    {
     "data": {
      "text/latex": [
       "$\\left|\\alpha_{l}\\right|^{2} \\leq \\frac{1}{2^{\\left(t \\cdot 2\\right) + 2} \\cdot \\left|\\left(\\delta - \\frac{l}{2^{t}}\\right)\\right|^{2}}$"
      ],
      "text/plain": [
       "$\\left|\\alpha_{l}\\right|^{2} \\leq \\frac{1}{2^{\\left(t \\cdot 2\\right) + 2} \\cdot \\left|\\left(\\delta - \\frac{l}{2^{t}}\\right)\\right|^{2}}$"
      ]
     },
     "execution_count": 55,
     "metadata": {},
     "output_type": "execute_result"
    }
   ],
   "source": [
    "X31 = multOne.specialize({x:two}).rhsSubstitute(X30)\n",
    "X31.proven(assumptions)"
   ]
  },
  {
   "cell_type": "code",
   "execution_count": 56,
   "metadata": {
    "collapsed": false
   },
   "outputs": [
    {
     "data": {
      "text/latex": [
       "$\\left(t \\cdot 2\\right) \\in \\mathbb{C}$"
      ],
      "text/plain": [
       "$\\left(t \\cdot 2\\right) \\in \\mathbb{C}$"
      ]
     },
     "execution_count": 56,
     "metadata": {},
     "output_type": "execute_result"
    }
   ],
   "source": [
    "deduceInComplexes(Multiply(t_,two),assumptions)"
   ]
  },
  {
   "cell_type": "code",
   "execution_count": 57,
   "metadata": {
    "collapsed": false
   },
   "outputs": [
    {
     "data": {
      "text/latex": [
       "$\\left|\\alpha_{l}\\right|^{2} \\leq \\frac{1}{\\left(2^{t \\cdot 2} \\cdot 2^{2}\\right) \\cdot \\left|\\left(\\delta - \\frac{l}{2^{t}}\\right)\\right|^{2}}$"
      ],
      "text/plain": [
       "$\\left|\\alpha_{l}\\right|^{2} \\leq \\frac{1}{\\left(2^{t \\cdot 2} \\cdot 2^{2}\\right) \\cdot \\left|\\left(\\delta - \\frac{l}{2^{t}}\\right)\\right|^{2}}$"
      ]
     },
     "execution_count": 57,
     "metadata": {},
     "output_type": "execute_result"
    }
   ],
   "source": [
    "X32 = sumInPow.specialize({a:two,b:Multiply(t_,two),c:two}).rhsSubstitute(X31)\n",
    "X32.proven(assumptions)"
   ]
  },
  {
   "cell_type": "code",
   "execution_count": 58,
   "metadata": {
    "collapsed": false
   },
   "outputs": [
    {
     "data": {
      "text/latex": [
       "$\\left|\\alpha_{l}\\right|^{2} \\leq \\frac{1}{\\left(2^{t \\cdot 2} \\cdot 2^{2}\\right) \\cdot \\left(\\delta - \\frac{l}{2^{t}}\\right)^{2}}$"
      ],
      "text/plain": [
       "$\\left|\\alpha_{l}\\right|^{2} \\leq \\frac{1}{\\left(2^{t \\cdot 2} \\cdot 2^{2}\\right) \\cdot \\left(\\delta - \\frac{l}{2^{t}}\\right)^{2}}$"
      ]
     },
     "execution_count": 58,
     "metadata": {},
     "output_type": "execute_result"
    }
   ],
   "source": [
    "X33 = squarePosEq.specialize({a:Subtract(delta_,Fraction(l,Exponentiate(two,t_)))}).rhsSubstitute(X32)\n",
    "X33.proven(assumptions)"
   ]
  },
  {
   "cell_type": "code",
   "execution_count": 59,
   "metadata": {
    "collapsed": false
   },
   "outputs": [
    {
     "data": {
      "text/latex": [
       "$\\delta \\in \\mathbb{C}$"
      ],
      "text/plain": [
       "$\\delta \\in \\mathbb{C}$"
      ]
     },
     "execution_count": 59,
     "metadata": {},
     "output_type": "execute_result"
    }
   ],
   "source": [
    "deduceInComplexes(Fraction(l,Exponentiate(two,t_)),assumptions)\n",
    "deduceInComplexes(delta_,assumptions)"
   ]
  },
  {
   "cell_type": "code",
   "execution_count": 60,
   "metadata": {
    "collapsed": false
   },
   "outputs": [
    {
     "data": {
      "text/latex": [
       "$\\left|\\alpha_{l}\\right|^{2} \\leq \\frac{1}{\\left(2^{t \\cdot 2} \\cdot 2^{2}\\right) \\cdot \\left(\\frac{l}{2^{t}} - \\delta\\right)^{2}}$"
      ],
      "text/plain": [
       "$\\left|\\alpha_{l}\\right|^{2} \\leq \\frac{1}{\\left(2^{t \\cdot 2} \\cdot 2^{2}\\right) \\cdot \\left(\\frac{l}{2^{t}} - \\delta\\right)^{2}}$"
      ]
     },
     "execution_count": 60,
     "metadata": {},
     "output_type": "execute_result"
    }
   ],
   "source": [
    "X34 = diffSquareComm.specialize({a:delta_,b:Fraction(l,Exponentiate(two,t_))}).rhsSubstitute(X33) \n",
    "X34.proven(assumptions)"
   ]
  },
  {
   "cell_type": "code",
   "execution_count": 61,
   "metadata": {
    "collapsed": false
   },
   "outputs": [
    {
     "data": {
      "text/latex": [
       "$\\left|\\alpha_{l}\\right|^{2} \\leq \\frac{1}{\\left(\\left(2^{t}\\right)^{2} \\cdot 2^{2}\\right) \\cdot \\left(\\frac{l}{2^{t}} - \\delta\\right)^{2}}$"
      ],
      "text/plain": [
       "$\\left|\\alpha_{l}\\right|^{2} \\leq \\frac{1}{\\left(\\left(2^{t}\\right)^{2} \\cdot 2^{2}\\right) \\cdot \\left(\\frac{l}{2^{t}} - \\delta\\right)^{2}}$"
      ]
     },
     "execution_count": 61,
     "metadata": {},
     "output_type": "execute_result"
    }
   ],
   "source": [
    "X35 = powOfPow.specialize({a:two,b:t_,c:two}).lhsSubstitute(X34)\n",
    "X35.proven(assumptions)"
   ]
  },
  {
   "cell_type": "code",
   "execution_count": 62,
   "metadata": {
    "collapsed": false
   },
   "outputs": [
    {
     "data": {
      "text/latex": [
       "$\\frac{1}{\\left(\\left(2^{t}\\right)^{2} \\cdot 2^{2}\\right) \\cdot \\left(\\frac{l}{2^{t}} - \\delta\\right)^{2}} \\in \\mathbb{C}$"
      ],
      "text/plain": [
       "$\\frac{1}{\\left(\\left(2^{t}\\right)^{2} \\cdot 2^{2}\\right) \\cdot \\left(\\frac{l}{2^{t}} - \\delta\\right)^{2}} \\in \\mathbb{C}$"
      ]
     },
     "execution_count": 62,
     "metadata": {},
     "output_type": "execute_result"
    }
   ],
   "source": [
    "deduceInComplexes(X35.rhs, assumptions)"
   ]
  },
  {
   "cell_type": "code",
   "execution_count": 63,
   "metadata": {
    "collapsed": false
   },
   "outputs": [
    {
     "data": {
      "text/latex": [
       "$\\left(\\frac{l}{2^{t}} - \\delta\\right)^{2} \\in \\mathbb{C}$"
      ],
      "text/plain": [
       "$\\left(\\frac{l}{2^{t}} - \\delta\\right)^{2} \\in \\mathbb{C}$"
      ]
     },
     "execution_count": 63,
     "metadata": {},
     "output_type": "execute_result"
    }
   ],
   "source": [
    "deduceInComplexes(X35.rhs.denominator.operands[0].operands[0],assumptions)\n",
    "deduceInComplexes(X35.rhs.denominator.operands[0].operands[1],assumptions)\n",
    "deduceInComplexes(X35.rhs.denominator.operands[1],assumptions)"
   ]
  },
  {
   "cell_type": "code",
   "execution_count": 64,
   "metadata": {
    "collapsed": false
   },
   "outputs": [
    {
     "data": {
      "text/latex": [
       "$\\left|\\alpha_{l}\\right|^{2} \\leq \\frac{1}{\\left(2^{t}\\right)^{2} \\cdot 2^{2} \\cdot \\left(\\frac{l}{2^{t}} - \\delta\\right)^{2}}$"
      ],
      "text/plain": [
       "$\\left|\\alpha_{l}\\right|^{2} \\leq \\frac{1}{\\left(2^{t}\\right)^{2} \\cdot 2^{2} \\cdot \\left(\\frac{l}{2^{t}} - \\delta\\right)^{2}}$"
      ]
     },
     "execution_count": 64,
     "metadata": {},
     "output_type": "execute_result"
    }
   ],
   "source": [
    "X36 = multAssoc.specialize({Etcetera(x):[],\n",
    "                      Etcetera(y):X35.rhs.denominator.operands[0].operands,\n",
    "                      Etcetera(z):X35.rhs.denominator.operands[1]}).lhsSubstitute(X35).proven(assumptions)\n",
    "X36"
   ]
  },
  {
   "cell_type": "code",
   "execution_count": 65,
   "metadata": {
    "collapsed": false
   },
   "outputs": [
    {
     "data": {
      "text/latex": [
       "$\\left|\\alpha_{l}\\right|^{2} \\leq \\frac{1}{2^{2} \\cdot \\left(2^{t}\\right)^{2} \\cdot \\left(\\frac{l}{2^{t}} - \\delta\\right)^{2}}$"
      ],
      "text/plain": [
       "$\\left|\\alpha_{l}\\right|^{2} \\leq \\frac{1}{2^{2} \\cdot \\left(2^{t}\\right)^{2} \\cdot \\left(\\frac{l}{2^{t}} - \\delta\\right)^{2}}$"
      ]
     },
     "execution_count": 65,
     "metadata": {},
     "output_type": "execute_result"
    }
   ],
   "source": [
    "X37 = X36.rhs.denominator.commute(0,1,1,2,assumptions).rhsSubstitute(X36).proven(assumptions)\n",
    "X37"
   ]
  },
  {
   "cell_type": "code",
   "execution_count": 66,
   "metadata": {
    "collapsed": false
   },
   "outputs": [
    {
     "data": {
      "text/latex": [
       "$\\left|\\alpha_{l}\\right|^{2} \\leq \\frac{1}{2^{2} \\cdot \\left(\\left(2^{t}\\right)^{2} \\cdot \\left(\\frac{l}{2^{t}} - \\delta\\right)^{2}\\right)}$"
      ],
      "text/plain": [
       "$\\left|\\alpha_{l}\\right|^{2} \\leq \\frac{1}{2^{2} \\cdot \\left(\\left(2^{t}\\right)^{2} \\cdot \\left(\\frac{l}{2^{t}} - \\delta\\right)^{2}\\right)}$"
      ]
     },
     "execution_count": 66,
     "metadata": {},
     "output_type": "execute_result"
    }
   ],
   "source": [
    "X38 = X37.rhs.denominator.group(1,assumptions=assumptions).rhsSubstitute(X37).proven(assumptions)\n",
    "X38"
   ]
  },
  {
   "cell_type": "code",
   "execution_count": 67,
   "metadata": {
    "collapsed": false
   },
   "outputs": [
    {
     "data": {
      "text/latex": [
       "$2^{t} \\in \\mathbb{C}$"
      ],
      "text/plain": [
       "$2^{t} \\in \\mathbb{C}$"
      ]
     },
     "execution_count": 67,
     "metadata": {},
     "output_type": "execute_result"
    }
   ],
   "source": [
    "deduceInComplexes(Exponentiate(two,t_))"
   ]
  },
  {
   "cell_type": "code",
   "execution_count": 68,
   "metadata": {
    "collapsed": false
   },
   "outputs": [
    {
     "data": {
      "text/latex": [
       "$\\left(\\frac{l}{2^{t}} - \\delta\\right) \\in \\mathbb{C}$"
      ],
      "text/plain": [
       "$\\left(\\frac{l}{2^{t}} - \\delta\\right) \\in \\mathbb{C}$"
      ]
     },
     "execution_count": 68,
     "metadata": {},
     "output_type": "execute_result"
    }
   ],
   "source": [
    "deduceInComplexes(Subtract(\n",
    "                Fraction(l,Exponentiate(two,t_))\n",
    "                ,delta_), assumptions)"
   ]
  },
  {
   "cell_type": "code",
   "execution_count": 69,
   "metadata": {
    "collapsed": false
   },
   "outputs": [
    {
     "data": {
      "text/latex": [
       "$\\left|\\alpha_{l}\\right|^{2} \\leq \\frac{1}{2^{2} \\cdot \\left(2^{t} \\cdot \\left(\\frac{l}{2^{t}} - \\delta\\right)\\right)^{2}}$"
      ],
      "text/plain": [
       "$\\left|\\alpha_{l}\\right|^{2} \\leq \\frac{1}{2^{2} \\cdot \\left(2^{t} \\cdot \\left(\\frac{l}{2^{t}} - \\delta\\right)\\right)^{2}}$"
      ]
     },
     "execution_count": 69,
     "metadata": {},
     "output_type": "execute_result"
    }
   ],
   "source": [
    "X39 = samePowDistribute.specialize({x:Exponentiate(two,t_),y:two,z:Subtract(\n",
    "                Fraction(l,Exponentiate(two,t_))\n",
    "                ,delta_)}).rhsSubstitute(X38).proven(assumptions)\n",
    "X39"
   ]
  },
  {
   "cell_type": "code",
   "execution_count": 70,
   "metadata": {
    "collapsed": false
   },
   "outputs": [
    {
     "data": {
      "text/latex": [
       "$\\left|\\alpha_{l}\\right|^{2} \\leq \\frac{1}{2^{2} \\cdot \\left(\\left(\\frac{l}{2^{t}} - \\delta\\right) \\cdot 2^{t}\\right)^{2}}$"
      ],
      "text/plain": [
       "$\\left|\\alpha_{l}\\right|^{2} \\leq \\frac{1}{2^{2} \\cdot \\left(\\left(\\frac{l}{2^{t}} - \\delta\\right) \\cdot 2^{t}\\right)^{2}}$"
      ]
     },
     "execution_count": 70,
     "metadata": {},
     "output_type": "execute_result"
    }
   ],
   "source": [
    "X40 = X39.rhs.denominator.operands[1].base.commute(assumptions=assumptions).rhsSubstitute(X39).proven(assumptions)\n",
    "X40"
   ]
  },
  {
   "cell_type": "code",
   "execution_count": 71,
   "metadata": {
    "collapsed": false
   },
   "outputs": [
    {
     "data": {
      "text/latex": [
       "$\\left|\\alpha_{l}\\right|^{2} \\leq \\frac{1}{2^{2} \\cdot \\left(\\left(\\frac{l}{2^{t}} \\cdot 2^{t}\\right) - \\left(\\delta \\cdot 2^{t}\\right)\\right)^{2}}$"
      ],
      "text/plain": [
       "$\\left|\\alpha_{l}\\right|^{2} \\leq \\frac{1}{2^{2} \\cdot \\left(\\left(\\frac{l}{2^{t}} \\cdot 2^{t}\\right) - \\left(\\delta \\cdot 2^{t}\\right)\\right)^{2}}$"
      ]
     },
     "execution_count": 71,
     "metadata": {},
     "output_type": "execute_result"
    }
   ],
   "source": [
    "X41 = multOverSubtract.specialize({x:Fraction(l,Exponentiate(two,t_)),\n",
    "                                   y:delta_,\n",
    "                                   z:Exponentiate(two,t_)}).rhsSubstitute(X40)\n",
    "X41.proven(assumptions)"
   ]
  },
  {
   "cell_type": "code",
   "execution_count": 72,
   "metadata": {
    "collapsed": false
   },
   "outputs": [
    {
     "data": {
      "text/latex": [
       "$l \\in \\mathbb{C}$"
      ],
      "text/plain": [
       "$l \\in \\mathbb{C}$"
      ]
     },
     "execution_count": 72,
     "metadata": {},
     "output_type": "execute_result"
    }
   ],
   "source": [
    "deduceInComplexes(l,assumptions)"
   ]
  },
  {
   "cell_type": "code",
   "execution_count": 73,
   "metadata": {
    "collapsed": false
   },
   "outputs": [
    {
     "data": {
      "text/latex": [
       "$\\left|\\alpha_{l}\\right|^{2} \\leq \\frac{1}{2^{2} \\cdot \\left(l - \\left(\\delta \\cdot 2^{t}\\right)\\right)^{2}}$"
      ],
      "text/plain": [
       "$\\left|\\alpha_{l}\\right|^{2} \\leq \\frac{1}{2^{2} \\cdot \\left(l - \\left(\\delta \\cdot 2^{t}\\right)\\right)^{2}}$"
      ]
     },
     "execution_count": 73,
     "metadata": {},
     "output_type": "execute_result"
    }
   ],
   "source": [
    "X42 = fracCancel4.specialize({x:l,y:Exponentiate(two,t_)}).rhsSubstitute(X41)\n",
    "X42.proven(assumptions)"
   ]
  },
  {
   "cell_type": "code",
   "execution_count": 74,
   "metadata": {
    "collapsed": false
   },
   "outputs": [
    {
     "data": {
      "text/latex": [
       "$\\left|\\alpha_{l}\\right|^{2} \\leq \\frac{1}{4 \\cdot \\left(l - \\left(\\delta \\cdot 2^{t}\\right)\\right)^{2}}$"
      ],
      "text/plain": [
       "$\\left|\\alpha_{l}\\right|^{2} \\leq \\frac{1}{4 \\cdot \\left(l - \\left(\\delta \\cdot 2^{t}\\right)\\right)^{2}}$"
      ]
     },
     "execution_count": 74,
     "metadata": {},
     "output_type": "execute_result"
    }
   ],
   "source": [
    "X43 = twoSquared.specialize({}).rhsSubstitute(X42)\n",
    "X43.proven(assumptions)"
   ]
  },
  {
   "cell_type": "code",
   "execution_count": 75,
   "metadata": {
    "collapsed": false
   },
   "outputs": [
    {
     "data": {
      "text/latex": [
       "$\\left|\\alpha_{l}\\right|^{2} \\leq \\frac{1}{4 \\cdot \\left(l - \\left(2^{t} \\cdot \\delta\\right)\\right)^{2}}$"
      ],
      "text/plain": [
       "$\\left|\\alpha_{l}\\right|^{2} \\leq \\frac{1}{4 \\cdot \\left(l - \\left(2^{t} \\cdot \\delta\\right)\\right)^{2}}$"
      ]
     },
     "execution_count": 75,
     "metadata": {},
     "output_type": "execute_result"
    }
   ],
   "source": [
    "X44 = X43.rhs.denominator.operands[1].base.operands[1].commute(assumptions=assumptions).rhsSubstitute(X43).proven(assumptions)\n",
    "X44"
   ]
  },
  {
   "cell_type": "code",
   "execution_count": 76,
   "metadata": {
    "collapsed": false
   },
   "outputs": [
    {
     "name": "stdout",
     "output_type": "stream",
     "text": [
      "root forall_{l in \\{((-2^(t - 1)) + 1)...2^(t - 1)\\} | l != 0} (|alpha_{l}|^(2) <= 1 / (4 * (l - (2^(t) * delta))^(2))) \n",
      "  generalizing |alpha_{l}|^(2) <= 1 / (4 * (l - (2^(t) * delta))^(2))  assuming l != 0, l in \\{((-2^(t - 1)) + 1)...2^(t - 1)\\} \n",
      "    implication (|alpha_{l}|^(2) <= 1 / (4 * (l - (delta * 2^(t)))^(2))) => (|alpha_{l}|^(2) <= 1 / (4 * (l - (2^(t) * delta))^(2))) \n",
      "      implication ((delta * 2^(t)) = (2^(t) * delta)) => ((|alpha_{l}|^(2) <= 1 / (4 * (l - (delta * 2^(t)))^(2))) => (|alpha_{l}|^(2) <= 1 / (4 * (l - (2^(t) * delta))^(2)))) \n",
      "        specializing forall_{P, x, y} ((x = y) => (P(x) => P(y))) \n",
      "          by theorem proveit.basiclogic.equality.rhsSubstitution\n",
      "      hypothesis (delta * 2^(t)) = (2^(t) * delta) \n",
      "        specializing forall_{..v.., ..w.., ..x.., ..y.., ..z.. in Complexes} (( .. * v * ... * w * ... * x * ... * y * ... * z * .. ) = ( .. * v * ... * y * ... * x * ... * w * ... * z * .. )) \n",
      "          by theorem proveit.number.complex.multComm\n",
      "        condition 2^(t) in Complexes \n",
      "          specializing forall_{a in NaturalsPos} (a in Complexes) \n",
      "            by theorem proveit.number.natural.inNatPos_inComplexes\n",
      "          condition 2^(t) in NaturalsPos \n",
      "            specializing forall_{a, b in Naturals | a != 0} (a^(b) in NaturalsPos) \n",
      "              by theorem proveit.number.natural.powClosure\n",
      "            condition 2 != 0 \n",
      "              specializing forall_{a in Reals | a > 0} (a != 0) \n",
      "                by theorem proveit.number.real.positive_implies_notzero\n",
      "              condition 2 > 0 \n",
      "                implication (2 in RealsPos) => (2 > 0) \n",
      "                  implication ((2 in RealsPos) <=> (2 > 0)) => ((2 in RealsPos) => (2 > 0)) \n",
      "                    specializing forall_{A, B} ((A <=> B) => (A => B)) \n",
      "                      by theorem proveit.basiclogic.boolean.iffImpliesRight\n",
      "                  hypothesis (2 in RealsPos) <=> (2 > 0) \n",
      "                    specializing forall_{a in Reals} ((a in RealsPos) <=> (a > 0)) \n",
      "                      by theorem proveit.number.real.inRealsPos_iff_positive\n",
      "                    condition 2 in Reals \n",
      "                      specializing forall_{a in NaturalsPos} (a in Reals) \n",
      "                        by theorem proveit.number.natural.inNatPos_inReals\n",
      "                      condition 2 in NaturalsPos \n",
      "                        by theorem proveit.number.natural.twoInNaturalsPos\n",
      "                hypothesis 2 in RealsPos \n",
      "                  specializing forall_{a in NaturalsPos} (a in RealsPos) \n",
      "                    by theorem proveit.number.natural.inNatPos_inRealsPos\n",
      "                  condition 2 in NaturalsPos  proven above\n",
      "              condition 2 in Reals  proven above\n",
      "            condition t in Naturals \n",
      "              specializing forall_{a in NaturalsPos} (a in Naturals) \n",
      "                by theorem proveit.number.natural.inNatPos_inNaturals\n",
      "              condition t in NaturalsPos \n",
      "                by axiom proveit.physics.quantum.QPE.tInNaturalsPos\n",
      "            condition 2 in Naturals \n",
      "              specializing forall_{a in NaturalsPos} (a in Naturals)  proven above\n",
      "              condition 2 in NaturalsPos  proven above\n",
      "        condition delta in Complexes \n",
      "          specializing forall_{a in Reals} (a in Complexes) \n",
      "            by theorem proveit.number.real.inComplexes\n",
      "          condition delta in Reals \n",
      "            by theorem proveit.physics.quantum.QPE.deltaInReals\n",
      "    hypothesis |alpha_{l}|^(2) <= 1 / (4 * (l - (delta * 2^(t)))^(2))  assuming l != 0, l in \\{((-2^(t - 1)) + 1)...2^(t - 1)\\} \n",
      "      implication (|alpha_{l}|^(2) <= 1 / (2^(2) * (l - (delta * 2^(t)))^(2))) => (|alpha_{l}|^(2) <= 1 / (4 * (l - (delta * 2^(t)))^(2))) \n",
      "        implication (2^(2) = 4) => ((|alpha_{l}|^(2) <= 1 / (2^(2) * (l - (delta * 2^(t)))^(2))) => (|alpha_{l}|^(2) <= 1 / (4 * (l - (delta * 2^(t)))^(2)))) \n",
      "          specializing forall_{P, x, y} ((x = y) => (P(x) => P(y)))  proven above\n",
      "        hypothesis 2^(2) = 4 \n",
      "          by theorem proveit.number.natural.twoSquared\n",
      "      hypothesis |alpha_{l}|^(2) <= 1 / (2^(2) * (l - (delta * 2^(t)))^(2))  assuming l != 0, l in \\{((-2^(t - 1)) + 1)...2^(t - 1)\\} \n",
      "        implication (|alpha_{l}|^(2) <= 1 / (2^(2) * ((l / 2^(t) * 2^(t)) - (delta * 2^(t)))^(2))) => (|alpha_{l}|^(2) <= 1 / (2^(2) * (l - (delta * 2^(t)))^(2)))  assuming l != 0, l in \\{((-2^(t - 1)) + 1)...2^(t - 1)\\} \n",
      "          implication ((l / 2^(t) * 2^(t)) = l) => ((|alpha_{l}|^(2) <= 1 / (2^(2) * ((l / 2^(t) * 2^(t)) - (delta * 2^(t)))^(2))) => (|alpha_{l}|^(2) <= 1 / (2^(2) * (l - (delta * 2^(t)))^(2)))) \n",
      "            specializing forall_{P, x, y} ((x = y) => (P(x) => P(y)))  proven above\n",
      "          hypothesis (l / 2^(t) * 2^(t)) = l  assuming l != 0, l in \\{((-2^(t - 1)) + 1)...2^(t - 1)\\} \n",
      "            specializing forall_{x, y in Complexes | y != 0} ((x / y * y) = x) \n",
      "              by theorem proveit.number.complex.fracCancel4\n",
      "            condition l in Complexes  assuming l != 0, l in \\{((-2^(t - 1)) + 1)...2^(t - 1)\\} \n",
      "              specializing forall_{a in Integers} (a in Complexes) \n",
      "                by theorem proveit.number.integer.inComplexes\n",
      "              condition l in Integers  assuming l != 0, l in \\{((-2^(t - 1)) + 1)...2^(t - 1)\\} \n",
      "                specializing forall_{n in \\{((-2^(t - 1)) + 1)...2^(t - 1)\\}} (n in Integers) \n",
      "                  specializing forall_{a, b in Integers} [forall_{n in \\{a...b\\}} (n in Integers)] \n",
      "                    by theorem proveit.number.integer.allInDiscreteInterval_InInts\n",
      "                  condition ((-2^(t - 1)) + 1) in Integers \n",
      "                    specializing forall_{..x.. in Integers} (( .. + x + .. ) in Integers) \n",
      "                      by theorem proveit.number.integer.addClosure\n",
      "                    condition (-2^(t - 1)) in Integers \n",
      "                      specializing forall_{a in Integers} ((-a) in Integers) \n",
      "                        by theorem proveit.number.integer.negClosure\n",
      "                      condition 2^(t - 1) in Integers \n",
      "                        specializing forall_{a in NaturalsPos} (a in Integers) \n",
      "                          by theorem proveit.number.natural.inNatPos_inIntegers\n",
      "                        condition 2^(t - 1) in NaturalsPos \n",
      "                          by theorem proveit.physics.quantum.QPE.two_pow_tMinusOne_in_posnats\n",
      "                    condition 1 in Integers \n",
      "                      specializing forall_{a in NaturalsPos} (a in Integers)  proven above\n",
      "                      condition 1 in NaturalsPos \n",
      "                  condition 2^(t - 1) in Integers  proven above\n",
      "                condition l in \\{((-2^(t - 1)) + 1)...2^(t - 1)\\}  assuming l in \\{((-2^(t - 1)) + 1)...2^(t - 1)\\} \n",
      "            condition 2^(t) != 0 \n",
      "              specializing forall_{a in Reals | a > 0} (a != 0)  proven above\n",
      "              condition 2^(t) in Reals \n",
      "                specializing forall_{a in NaturalsPos} (a in Reals)  proven above\n",
      "                condition 2^(t) in NaturalsPos  proven above\n",
      "              condition 2^(t) > 0 \n",
      "                implication (2^(t) in RealsPos) => (2^(t) > 0) \n",
      "                  implication ((2^(t) in RealsPos) <=> (2^(t) > 0)) => ((2^(t) in RealsPos) => (2^(t) > 0)) \n",
      "                    specializing forall_{A, B} ((A <=> B) => (A => B))  proven above\n",
      "                  hypothesis (2^(t) in RealsPos) <=> (2^(t) > 0) \n",
      "                    specializing forall_{a in Reals} ((a in RealsPos) <=> (a > 0))  proven above\n",
      "                    condition 2^(t) in Reals  proven above\n",
      "                hypothesis 2^(t) in RealsPos \n",
      "                  specializing forall_{a in NaturalsPos} (a in RealsPos)  proven above\n",
      "                  condition 2^(t) in NaturalsPos  proven above\n",
      "            condition 2^(t) in Complexes  proven above\n",
      "        hypothesis |alpha_{l}|^(2) <= 1 / (2^(2) * ((l / 2^(t) * 2^(t)) - (delta * 2^(t)))^(2))  assuming l != 0, l in \\{((-2^(t - 1)) + 1)...2^(t - 1)\\} \n",
      "          implication (|alpha_{l}|^(2) <= 1 / (2^(2) * ((l / 2^(t) - delta) * 2^(t))^(2))) => (|alpha_{l}|^(2) <= 1 / (2^(2) * ((l / 2^(t) * 2^(t)) - (delta * 2^(t)))^(2)))  assuming l != 0, l in \\{((-2^(t - 1)) + 1)...2^(t - 1)\\} \n",
      "            implication (((l / 2^(t) - delta) * 2^(t)) = ((l / 2^(t) * 2^(t)) - (delta * 2^(t)))) => ((|alpha_{l}|^(2) <= 1 / (2^(2) * ((l / 2^(t) - delta) * 2^(t))^(2))) => (|alpha_{l}|^(2) <= 1 / (2^(2) * ((l / 2^(t) * 2^(t)) - (delta * 2^(t)))^(2)))) \n",
      "              specializing forall_{P, x, y} ((x = y) => (P(x) => P(y)))  proven above\n",
      "            hypothesis ((l / 2^(t) - delta) * 2^(t)) = ((l / 2^(t) * 2^(t)) - (delta * 2^(t)))  assuming l != 0, l in \\{((-2^(t - 1)) + 1)...2^(t - 1)\\} \n",
      "              specializing forall_{x, y, z in Complexes} (((x - y) * z) = ((x * z) - (y * z))) \n",
      "                by theorem proveit.number.complex.multOverSubtract\n",
      "              condition 2^(t) in Complexes  proven above\n",
      "              condition delta in Complexes  proven above\n",
      "              condition l / 2^(t) in Complexes  assuming l != 0, l in \\{((-2^(t - 1)) + 1)...2^(t - 1)\\} \n",
      "                specializing forall_{a in Reals} (a in Complexes)  proven above\n",
      "                condition l / 2^(t) in Reals  assuming l != 0, l in \\{((-2^(t - 1)) + 1)...2^(t - 1)\\} \n",
      "                  specializing forall_{a, b in Reals | b != 0} (a / b in Reals) \n",
      "                    by theorem proveit.number.real.fractionClosure\n",
      "                  condition 2^(t) != 0  proven above\n",
      "                  condition l in Reals  assuming l != 0, l in \\{((-2^(t - 1)) + 1)...2^(t - 1)\\} \n",
      "                    specializing forall_{a in Integers} (a in Reals) \n",
      "                      by theorem proveit.number.integer.inReals\n",
      "                    condition l in Integers  assuming l != 0, l in \\{((-2^(t - 1)) + 1)...2^(t - 1)\\}  proven above\n",
      "                  condition 2^(t) in Reals  proven above\n",
      "          hypothesis |alpha_{l}|^(2) <= 1 / (2^(2) * ((l / 2^(t) - delta) * 2^(t))^(2))  assuming l != 0, l in \\{((-2^(t - 1)) + 1)...2^(t - 1)\\} \n",
      "            implication (|alpha_{l}|^(2) <= 1 / (2^(2) * (2^(t) * (l / 2^(t) - delta))^(2))) => (|alpha_{l}|^(2) <= 1 / (2^(2) * ((l / 2^(t) - delta) * 2^(t))^(2)))  assuming l != 0, l in \\{((-2^(t - 1)) + 1)...2^(t - 1)\\} \n",
      "              implication ((2^(t) * (l / 2^(t) - delta)) = ((l / 2^(t) - delta) * 2^(t))) => ((|alpha_{l}|^(2) <= 1 / (2^(2) * (2^(t) * (l / 2^(t) - delta))^(2))) => (|alpha_{l}|^(2) <= 1 / (2^(2) * ((l / 2^(t) - delta) * 2^(t))^(2)))) \n",
      "                specializing forall_{P, x, y} ((x = y) => (P(x) => P(y)))  proven above\n",
      "              hypothesis (2^(t) * (l / 2^(t) - delta)) = ((l / 2^(t) - delta) * 2^(t))  assuming l != 0, l in \\{((-2^(t - 1)) + 1)...2^(t - 1)\\} \n",
      "                specializing forall_{..v.., ..w.., ..x.., ..y.., ..z.. in Complexes} (( .. * v * ... * w * ... * x * ... * y * ... * z * .. ) = ( .. * v * ... * y * ... * x * ... * w * ... * z * .. ))  proven above\n",
      "                condition 2^(t) in Complexes  proven above\n",
      "                condition (l / 2^(t) - delta) in Complexes  assuming l != 0, l in \\{((-2^(t - 1)) + 1)...2^(t - 1)\\} \n",
      "                  specializing forall_{a in Reals} (a in Complexes)  proven above\n",
      "                  condition (l / 2^(t) - delta) in Reals  assuming l != 0, l in \\{((-2^(t - 1)) + 1)...2^(t - 1)\\} \n",
      "                    specializing forall_{a, b in Reals} ((a - b) in Reals) \n",
      "                      by theorem proveit.number.real.subtractClosure\n",
      "                    condition l / 2^(t) in Reals  assuming l != 0, l in \\{((-2^(t - 1)) + 1)...2^(t - 1)\\}  proven above\n",
      "                    condition delta in Reals  proven above\n",
      "            hypothesis |alpha_{l}|^(2) <= 1 / (2^(2) * (2^(t) * (l / 2^(t) - delta))^(2))  assuming l != 0, l in \\{((-2^(t - 1)) + 1)...2^(t - 1)\\} \n",
      "              implication (|alpha_{l}|^(2) <= 1 / (2^(2) * ((2^(t))^(2) * (l / 2^(t) - delta)^(2)))) => (|alpha_{l}|^(2) <= 1 / (2^(2) * (2^(t) * (l / 2^(t) - delta))^(2)))  assuming l != 0, l in \\{((-2^(t - 1)) + 1)...2^(t - 1)\\} \n",
      "                implication (((2^(t))^(2) * (l / 2^(t) - delta)^(2)) = (2^(t) * (l / 2^(t) - delta))^(2)) => ((|alpha_{l}|^(2) <= 1 / (2^(2) * ((2^(t))^(2) * (l / 2^(t) - delta)^(2)))) => (|alpha_{l}|^(2) <= 1 / (2^(2) * (2^(t) * (l / 2^(t) - delta))^(2)))) \n",
      "                  specializing forall_{P, x, y} ((x = y) => (P(x) => P(y)))  proven above\n",
      "                hypothesis ((2^(t))^(2) * (l / 2^(t) - delta)^(2)) = (2^(t) * (l / 2^(t) - delta))^(2)  assuming l != 0, l in \\{((-2^(t - 1)) + 1)...2^(t - 1)\\} \n",
      "                  specializing forall_{x, y, z in Complexes} ((x^(y) * z^(y)) = (x * z)^(y)) \n",
      "                    by theorem proveit.number.complex.samePowDistribute\n",
      "                  condition 2^(t) in Complexes  proven above\n",
      "                  condition 2 in Complexes \n",
      "                    specializing forall_{a in NaturalsPos} (a in Complexes)  proven above\n",
      "                    condition 2 in NaturalsPos  proven above\n",
      "                  condition (l / 2^(t) - delta) in Complexes  assuming l != 0, l in \\{((-2^(t - 1)) + 1)...2^(t - 1)\\}  proven above\n",
      "              hypothesis |alpha_{l}|^(2) <= 1 / (2^(2) * ((2^(t))^(2) * (l / 2^(t) - delta)^(2)))  assuming l != 0, l in \\{((-2^(t - 1)) + 1)...2^(t - 1)\\} \n",
      "                implication (|alpha_{l}|^(2) <= 1 / (2^(2) * (2^(t))^(2) * (l / 2^(t) - delta)^(2))) => (|alpha_{l}|^(2) <= 1 / (2^(2) * ((2^(t))^(2) * (l / 2^(t) - delta)^(2))))  assuming l != 0, l in \\{((-2^(t - 1)) + 1)...2^(t - 1)\\} \n",
      "                  implication ((2^(2) * (2^(t))^(2) * (l / 2^(t) - delta)^(2)) = (2^(2) * ((2^(t))^(2) * (l / 2^(t) - delta)^(2)))) => ((|alpha_{l}|^(2) <= 1 / (2^(2) * (2^(t))^(2) * (l / 2^(t) - delta)^(2))) => (|alpha_{l}|^(2) <= 1 / (2^(2) * ((2^(t))^(2) * (l / 2^(t) - delta)^(2))))) \n",
      "                    specializing forall_{P, x, y} ((x = y) => (P(x) => P(y)))  proven above\n",
      "                  hypothesis (2^(2) * (2^(t))^(2) * (l / 2^(t) - delta)^(2)) = (2^(2) * ((2^(t))^(2) * (l / 2^(t) - delta)^(2)))  assuming l != 0, l in \\{((-2^(t - 1)) + 1)...2^(t - 1)\\} \n",
      "                    specializing forall_{..x.., ..y.., ..z.. in Complexes} (( .. * x * ... * y * ... * z * .. ) = ( .. * x * ..  * ( .. * y * .. ) *  .. * z * .. )) \n",
      "                      by theorem proveit.number.complex.multAssoc\n",
      "                    condition (2^(t))^(2) in Complexes \n",
      "                      specializing forall_{a in NaturalsPos} (a in Complexes)  proven above\n",
      "                      condition (2^(t))^(2) in NaturalsPos \n",
      "                        specializing forall_{a, b in Naturals | a != 0} (a^(b) in NaturalsPos)  proven above\n",
      "                        condition 2^(t) != 0  proven above\n",
      "                        condition 2^(t) in Naturals \n",
      "                          specializing forall_{a in NaturalsPos} (a in Naturals)  proven above\n",
      "                          condition 2^(t) in NaturalsPos  proven above\n",
      "                        condition 2 in Naturals  proven above\n",
      "                    condition 2^(2) in Complexes \n",
      "                      specializing forall_{a in NaturalsPos} (a in Complexes)  proven above\n",
      "                      condition 2^(2) in NaturalsPos \n",
      "                        specializing forall_{a, b in Naturals | a != 0} (a^(b) in NaturalsPos)  proven above\n",
      "                        condition 2 != 0  proven above\n",
      "                        condition 2 in Naturals  proven above\n",
      "                    condition (l / 2^(t) - delta)^(2) in Complexes  assuming l != 0, l in \\{((-2^(t - 1)) + 1)...2^(t - 1)\\} \n",
      "                      specializing forall_{a in RealsPos} (a in Complexes) \n",
      "                        by theorem proveit.number.real.inRealsPos_inComplexes\n",
      "                      condition (l / 2^(t) - delta)^(2) in RealsPos  assuming l != 0, l in \\{((-2^(t - 1)) + 1)...2^(t - 1)\\} \n",
      "                        specializing forall_{a in Reals | a != 0} (a^(2) in RealsPos) \n",
      "                          by theorem proveit.number.real.sqrdClosure\n",
      "                        condition (l / 2^(t) - delta) in Reals  assuming l != 0, l in \\{((-2^(t - 1)) + 1)...2^(t - 1)\\}  proven above\n",
      "                        condition (l / 2^(t) - delta) != 0  assuming l != 0, l in \\{((-2^(t - 1)) + 1)...2^(t - 1)\\} \n",
      "                          specializing forall_{a, b in Complexes | a != b} ((a - b) != 0) \n",
      "                            by theorem proveit.number.complex.diffNotEqZero\n",
      "                          condition delta in Complexes  proven above\n",
      "                          condition l / 2^(t) != delta  assuming l != 0, l in \\{((-2^(t - 1)) + 1)...2^(t - 1)\\} \n",
      "                            implication (delta != l / 2^(t)) => (l / 2^(t) != delta) \n",
      "                              specializing forall_{x, y} ((x != y) => (y != x)) \n",
      "                                by theorem proveit.basiclogic.equality.notEqualsSymmetry\n",
      "                            hypothesis delta != l / 2^(t)  assuming l != 0, l in \\{((-2^(t - 1)) + 1)...2^(t - 1)\\} \n",
      "                              specializing forall_{l in Integers | l != 0} (delta != l / 2^(t)) \n",
      "                                by theorem proveit.physics.quantum.QPE.delta_notEq_scaledNonzeroInt\n",
      "                              condition l != 0  assuming l != 0 \n",
      "                              condition l in Integers  assuming l != 0, l in \\{((-2^(t - 1)) + 1)...2^(t - 1)\\}  proven above\n",
      "                          condition l / 2^(t) in Complexes  assuming l != 0, l in \\{((-2^(t - 1)) + 1)...2^(t - 1)\\}  proven above\n",
      "                hypothesis |alpha_{l}|^(2) <= 1 / (2^(2) * (2^(t))^(2) * (l / 2^(t) - delta)^(2))  assuming l != 0, l in \\{((-2^(t - 1)) + 1)...2^(t - 1)\\} \n",
      "                  implication (|alpha_{l}|^(2) <= 1 / ((2^(t))^(2) * 2^(2) * (l / 2^(t) - delta)^(2))) => (|alpha_{l}|^(2) <= 1 / (2^(2) * (2^(t))^(2) * (l / 2^(t) - delta)^(2)))  assuming l != 0, l in \\{((-2^(t - 1)) + 1)...2^(t - 1)\\} \n",
      "                    implication (((2^(t))^(2) * 2^(2) * (l / 2^(t) - delta)^(2)) = (2^(2) * (2^(t))^(2) * (l / 2^(t) - delta)^(2))) => ((|alpha_{l}|^(2) <= 1 / ((2^(t))^(2) * 2^(2) * (l / 2^(t) - delta)^(2))) => (|alpha_{l}|^(2) <= 1 / (2^(2) * (2^(t))^(2) * (l / 2^(t) - delta)^(2)))) \n",
      "                      specializing forall_{P, x, y} ((x = y) => (P(x) => P(y)))  proven above\n",
      "                    hypothesis ((2^(t))^(2) * 2^(2) * (l / 2^(t) - delta)^(2)) = (2^(2) * (2^(t))^(2) * (l / 2^(t) - delta)^(2))  assuming l != 0, l in \\{((-2^(t - 1)) + 1)...2^(t - 1)\\} \n",
      "                      specializing forall_{..v.., ..w.., ..x.., ..y.., ..z.. in Complexes} (( .. * v * ... * w * ... * x * ... * y * ... * z * .. ) = ( .. * v * ... * y * ... * x * ... * w * ... * z * .. ))  proven above\n",
      "                      condition (2^(t))^(2) in Complexes  proven above\n",
      "                      condition 2^(2) in Complexes  proven above\n",
      "                      condition (l / 2^(t) - delta)^(2) in Complexes  assuming l != 0, l in \\{((-2^(t - 1)) + 1)...2^(t - 1)\\}  proven above\n",
      "                  hypothesis |alpha_{l}|^(2) <= 1 / ((2^(t))^(2) * 2^(2) * (l / 2^(t) - delta)^(2))  assuming l != 0, l in \\{((-2^(t - 1)) + 1)...2^(t - 1)\\} \n",
      "                    implication (|alpha_{l}|^(2) <= 1 / (((2^(t))^(2) * 2^(2)) * (l / 2^(t) - delta)^(2))) => (|alpha_{l}|^(2) <= 1 / ((2^(t))^(2) * 2^(2) * (l / 2^(t) - delta)^(2)))  assuming l != 0, l in \\{((-2^(t - 1)) + 1)...2^(t - 1)\\} \n",
      "                      implication (((2^(t))^(2) * 2^(2) * (l / 2^(t) - delta)^(2)) = (((2^(t))^(2) * 2^(2)) * (l / 2^(t) - delta)^(2))) => ((|alpha_{l}|^(2) <= 1 / (((2^(t))^(2) * 2^(2)) * (l / 2^(t) - delta)^(2))) => (|alpha_{l}|^(2) <= 1 / ((2^(t))^(2) * 2^(2) * (l / 2^(t) - delta)^(2)))) \n",
      "                        specializing forall_{P, x, y} ((x = y) => (P(y) => P(x))) \n",
      "                          by theorem proveit.basiclogic.equality.lhsSubstitution\n",
      "                      hypothesis ((2^(t))^(2) * 2^(2) * (l / 2^(t) - delta)^(2)) = (((2^(t))^(2) * 2^(2)) * (l / 2^(t) - delta)^(2))  assuming l != 0, l in \\{((-2^(t - 1)) + 1)...2^(t - 1)\\} \n",
      "                        specializing forall_{..x.., ..y.., ..z.. in Complexes} (( .. * x * ... * y * ... * z * .. ) = ( .. * x * ..  * ( .. * y * .. ) *  .. * z * .. ))  proven above\n",
      "                        condition (2^(t))^(2) in Complexes  proven above\n",
      "                        condition 2^(2) in Complexes  proven above\n",
      "                        condition (l / 2^(t) - delta)^(2) in Complexes  assuming l != 0, l in \\{((-2^(t - 1)) + 1)...2^(t - 1)\\}  proven above\n",
      "                    hypothesis |alpha_{l}|^(2) <= 1 / (((2^(t))^(2) * 2^(2)) * (l / 2^(t) - delta)^(2))  assuming l != 0, l in \\{((-2^(t - 1)) + 1)...2^(t - 1)\\} \n",
      "                      implication (|alpha_{l}|^(2) <= 1 / ((2^(t * 2) * 2^(2)) * (l / 2^(t) - delta)^(2))) => (|alpha_{l}|^(2) <= 1 / (((2^(t))^(2) * 2^(2)) * (l / 2^(t) - delta)^(2))) \n",
      "                        implication ((2^(t))^(2) = 2^(t * 2)) => ((|alpha_{l}|^(2) <= 1 / ((2^(t * 2) * 2^(2)) * (l / 2^(t) - delta)^(2))) => (|alpha_{l}|^(2) <= 1 / (((2^(t))^(2) * 2^(2)) * (l / 2^(t) - delta)^(2)))) \n",
      "                          specializing forall_{P, x, y} ((x = y) => (P(y) => P(x)))  proven above\n",
      "                        hypothesis (2^(t))^(2) = 2^(t * 2) \n",
      "                          specializing forall_{a, b, c in Complexes} ((a^(b))^(c) = a^(b * c)) \n",
      "                            by theorem proveit.number.complex.powOfPow\n",
      "                          condition t in Complexes \n",
      "                            specializing forall_{a in NaturalsPos} (a in Complexes)  proven above\n",
      "                            condition t in NaturalsPos  proven above\n",
      "                          condition 2 in Complexes  proven above\n",
      "                      hypothesis |alpha_{l}|^(2) <= 1 / ((2^(t * 2) * 2^(2)) * (l / 2^(t) - delta)^(2))  assuming l != 0, l in \\{((-2^(t - 1)) + 1)...2^(t - 1)\\} \n",
      "                        implication (|alpha_{l}|^(2) <= 1 / ((2^(t * 2) * 2^(2)) * (delta - l / 2^(t))^(2))) => (|alpha_{l}|^(2) <= 1 / ((2^(t * 2) * 2^(2)) * (l / 2^(t) - delta)^(2)))  assuming l != 0, l in \\{((-2^(t - 1)) + 1)...2^(t - 1)\\} \n",
      "                          implication ((delta - l / 2^(t))^(2) = (l / 2^(t) - delta)^(2)) => ((|alpha_{l}|^(2) <= 1 / ((2^(t * 2) * 2^(2)) * (delta - l / 2^(t))^(2))) => (|alpha_{l}|^(2) <= 1 / ((2^(t * 2) * 2^(2)) * (l / 2^(t) - delta)^(2)))) \n",
      "                            specializing forall_{P, x, y} ((x = y) => (P(x) => P(y)))  proven above\n",
      "                          hypothesis (delta - l / 2^(t))^(2) = (l / 2^(t) - delta)^(2)  assuming l != 0, l in \\{((-2^(t - 1)) + 1)...2^(t - 1)\\} \n",
      "                            specializing forall_{a, b in Complexes} ((a - b)^(2) = (b - a)^(2)) \n",
      "                              by theorem proveit.number.complex.diffSquareComm\n",
      "                            condition delta in Complexes  proven above\n",
      "                            condition l / 2^(t) in Complexes  assuming l != 0, l in \\{((-2^(t - 1)) + 1)...2^(t - 1)\\}  proven above\n",
      "                        hypothesis |alpha_{l}|^(2) <= 1 / ((2^(t * 2) * 2^(2)) * (delta - l / 2^(t))^(2))  assuming l != 0, l in \\{((-2^(t - 1)) + 1)...2^(t - 1)\\} \n",
      "                          implication (|alpha_{l}|^(2) <= 1 / ((2^(t * 2) * 2^(2)) * |(delta - l / 2^(t))|^(2))) => (|alpha_{l}|^(2) <= 1 / ((2^(t * 2) * 2^(2)) * (delta - l / 2^(t))^(2)))  assuming l != 0, l in \\{((-2^(t - 1)) + 1)...2^(t - 1)\\} \n",
      "                            implication (|(delta - l / 2^(t))|^(2) = (delta - l / 2^(t))^(2)) => ((|alpha_{l}|^(2) <= 1 / ((2^(t * 2) * 2^(2)) * |(delta - l / 2^(t))|^(2))) => (|alpha_{l}|^(2) <= 1 / ((2^(t * 2) * 2^(2)) * (delta - l / 2^(t))^(2)))) \n",
      "                              specializing forall_{P, x, y} ((x = y) => (P(x) => P(y)))  proven above\n",
      "                            hypothesis |(delta - l / 2^(t))|^(2) = (delta - l / 2^(t))^(2)  assuming l != 0, l in \\{((-2^(t - 1)) + 1)...2^(t - 1)\\} \n",
      "                              specializing forall_{a in Reals} (|a|^(2) = a^(2)) \n",
      "                                by theorem proveit.number.real.squarePosEq\n",
      "                              condition (delta - l / 2^(t)) in Reals  assuming l != 0, l in \\{((-2^(t - 1)) + 1)...2^(t - 1)\\} \n",
      "                                specializing forall_{a, b in Reals} ((a - b) in Reals)  proven above\n",
      "                                condition l / 2^(t) in Reals  assuming l != 0, l in \\{((-2^(t - 1)) + 1)...2^(t - 1)\\}  proven above\n",
      "                                condition delta in Reals  proven above\n",
      "                          hypothesis |alpha_{l}|^(2) <= 1 / ((2^(t * 2) * 2^(2)) * |(delta - l / 2^(t))|^(2))  assuming l != 0, l in \\{((-2^(t - 1)) + 1)...2^(t - 1)\\} \n",
      "                            implication (|alpha_{l}|^(2) <= 1 / (2^((t * 2) + 2) * |(delta - l / 2^(t))|^(2))) => (|alpha_{l}|^(2) <= 1 / ((2^(t * 2) * 2^(2)) * |(delta - l / 2^(t))|^(2))) \n",
      "                              implication (2^((t * 2) + 2) = (2^(t * 2) * 2^(2))) => ((|alpha_{l}|^(2) <= 1 / (2^((t * 2) + 2) * |(delta - l / 2^(t))|^(2))) => (|alpha_{l}|^(2) <= 1 / ((2^(t * 2) * 2^(2)) * |(delta - l / 2^(t))|^(2)))) \n",
      "                                specializing forall_{P, x, y} ((x = y) => (P(x) => P(y)))  proven above\n",
      "                              hypothesis 2^((t * 2) + 2) = (2^(t * 2) * 2^(2)) \n",
      "                                specializing forall_{a, b, c in Complexes} (a^(b + c) = (a^(b) * a^(c))) \n",
      "                                  by theorem proveit.number.complex.sumInPow\n",
      "                                condition 2 in Complexes  proven above\n",
      "                                condition (t * 2) in Complexes \n",
      "                                  specializing forall_{a in RealsPos} (a in Complexes)  proven above\n",
      "                                  condition (t * 2) in RealsPos \n",
      "                                    specializing forall_{..x.. in RealsPos} (( .. * x * .. ) in RealsPos) \n",
      "                                      by theorem proveit.number.real.multPosClosure\n",
      "                                    condition 2 in RealsPos  proven above\n",
      "                                    condition t in RealsPos \n",
      "                                      specializing forall_{a in NaturalsPos} (a in RealsPos)  proven above\n",
      "                                      condition t in NaturalsPos  proven above\n",
      "                            hypothesis |alpha_{l}|^(2) <= 1 / (2^((t * 2) + 2) * |(delta - l / 2^(t))|^(2))  assuming l != 0, l in \\{((-2^(t - 1)) + 1)...2^(t - 1)\\} \n",
      "                              implication (|alpha_{l}|^(2) <= 1 / (2^((t * 2) + (1 * 2)) * |(delta - l / 2^(t))|^(2))) => (|alpha_{l}|^(2) <= 1 / (2^((t * 2) + 2) * |(delta - l / 2^(t))|^(2))) \n",
      "                                implication ((1 * 2) = 2) => ((|alpha_{l}|^(2) <= 1 / (2^((t * 2) + (1 * 2)) * |(delta - l / 2^(t))|^(2))) => (|alpha_{l}|^(2) <= 1 / (2^((t * 2) + 2) * |(delta - l / 2^(t))|^(2)))) \n",
      "                                  specializing forall_{P, x, y} ((x = y) => (P(x) => P(y)))  proven above\n",
      "                                hypothesis (1 * 2) = 2 \n",
      "                                  specializing forall_{x in Complexes} ((1 * x) = x) \n",
      "                                    by theorem proveit.number.complex.multOne\n",
      "                                  condition 2 in Complexes  proven above\n",
      "                              hypothesis |alpha_{l}|^(2) <= 1 / (2^((t * 2) + (1 * 2)) * |(delta - l / 2^(t))|^(2))  assuming l != 0, l in \\{((-2^(t - 1)) + 1)...2^(t - 1)\\} \n",
      "                                implication (|alpha_{l}|^(2) <= 1 / (2^((t + 1) * 2) * |(delta - l / 2^(t))|^(2))) => (|alpha_{l}|^(2) <= 1 / (2^((t * 2) + (1 * 2)) * |(delta - l / 2^(t))|^(2))) \n",
      "                                  implication (((t + 1) * 2) = ((t * 2) + (1 * 2))) => ((|alpha_{l}|^(2) <= 1 / (2^((t + 1) * 2) * |(delta - l / 2^(t))|^(2))) => (|alpha_{l}|^(2) <= 1 / (2^((t * 2) + (1 * 2)) * |(delta - l / 2^(t))|^(2)))) \n",
      "                                    specializing forall_{P, x, y} ((x = y) => (P(x) => P(y)))  proven above\n",
      "                                  hypothesis ((t + 1) * 2) = ((t * 2) + (1 * 2)) \n",
      "                                    specializing forall_{x, y, z in Complexes} (((x + y) * z) = ((x * z) + (y * z))) \n",
      "                                      by theorem proveit.number.complex.multOverAdd\n",
      "                                    condition t in Complexes  proven above\n",
      "                                    condition 1 in Complexes \n",
      "                                      specializing forall_{a in NaturalsPos} (a in Complexes)  proven above\n",
      "                                      condition 1 in NaturalsPos  proven above\n",
      "                                    condition 2 in Complexes  proven above\n",
      "                                hypothesis |alpha_{l}|^(2) <= 1 / (2^((t + 1) * 2) * |(delta - l / 2^(t))|^(2))  assuming l != 0, l in \\{((-2^(t - 1)) + 1)...2^(t - 1)\\} \n",
      "                                  implication (|alpha_{l}|^(2) <= 1 / ((2^(t + 1))^(2) * |(delta - l / 2^(t))|^(2))) => (|alpha_{l}|^(2) <= 1 / (2^((t + 1) * 2) * |(delta - l / 2^(t))|^(2))) \n",
      "                                    implication ((2^(t + 1))^(2) = 2^((t + 1) * 2)) => ((|alpha_{l}|^(2) <= 1 / ((2^(t + 1))^(2) * |(delta - l / 2^(t))|^(2))) => (|alpha_{l}|^(2) <= 1 / (2^((t + 1) * 2) * |(delta - l / 2^(t))|^(2)))) \n",
      "                                      specializing forall_{P, x, y} ((x = y) => (P(x) => P(y)))  proven above\n",
      "                                    hypothesis (2^(t + 1))^(2) = 2^((t + 1) * 2) \n",
      "                                      specializing forall_{a, b, c in Complexes} ((a^(b))^(c) = a^(b * c))  proven above\n",
      "                                      condition 2 in Complexes  proven above\n",
      "                                      condition (t + 1) in Complexes \n",
      "                                        specializing forall_{a in NaturalsPos} (a in Complexes)  proven above\n",
      "                                        condition (t + 1) in NaturalsPos \n",
      "                                          specializing forall_{..a.., b, ..c.. in Naturals | b > 0} (( .. + a + ..  + b +  .. + c + .. ) in NaturalsPos) \n",
      "                                            by theorem proveit.number.natural.sumInNatsPos\n",
      "                                          condition 1 in Naturals \n",
      "                                            specializing forall_{a in NaturalsPos} (a in Naturals)  proven above\n",
      "                                            condition 1 in NaturalsPos  proven above\n",
      "                                          condition t > 0 \n",
      "                                            implication (t in RealsPos) => (t > 0) \n",
      "                                              implication ((t in RealsPos) <=> (t > 0)) => ((t in RealsPos) => (t > 0)) \n",
      "                                                specializing forall_{A, B} ((A <=> B) => (A => B))  proven above\n",
      "                                              hypothesis (t in RealsPos) <=> (t > 0) \n",
      "                                                specializing forall_{a in Reals} ((a in RealsPos) <=> (a > 0))  proven above\n",
      "                                                condition t in Reals \n",
      "                                                  specializing forall_{a in NaturalsPos} (a in Reals)  proven above\n",
      "                                                  condition t in NaturalsPos  proven above\n",
      "                                            hypothesis t in RealsPos  proven above\n",
      "                                          condition t in Naturals  proven above\n",
      "                                  hypothesis |alpha_{l}|^(2) <= 1 / ((2^(t + 1))^(2) * |(delta - l / 2^(t))|^(2))  assuming l != 0, l in \\{((-2^(t - 1)) + 1)...2^(t - 1)\\} \n",
      "                                    implication (|alpha_{l}|^(2) <= 1^(2) / ((2^(t + 1))^(2) * |(delta - l / 2^(t))|^(2))) => (|alpha_{l}|^(2) <= 1 / ((2^(t + 1))^(2) * |(delta - l / 2^(t))|^(2))) \n",
      "                                      implication (1^(2) = 1) => ((|alpha_{l}|^(2) <= 1^(2) / ((2^(t + 1))^(2) * |(delta - l / 2^(t))|^(2))) => (|alpha_{l}|^(2) <= 1 / ((2^(t + 1))^(2) * |(delta - l / 2^(t))|^(2)))) \n",
      "                                        specializing forall_{P, x, y} ((x = y) => (P(x) => P(y)))  proven above\n",
      "                                      hypothesis 1^(2) = 1 \n",
      "                                        specializing forall_{x in Complexes} (1^(x) = 1) \n",
      "                                          by theorem proveit.number.complex.expOne\n",
      "                                        condition 2 in Complexes  proven above\n",
      "                                    hypothesis |alpha_{l}|^(2) <= 1^(2) / ((2^(t + 1))^(2) * |(delta - l / 2^(t))|^(2))  assuming l != 0, l in \\{((-2^(t - 1)) + 1)...2^(t - 1)\\} \n",
      "                                      implication (|alpha_{l}|^(2) <= 1^(2) / (2^(t + 1) * |(delta - l / 2^(t))|)^(2)) => (|alpha_{l}|^(2) <= 1^(2) / ((2^(t + 1))^(2) * |(delta - l / 2^(t))|^(2)))  assuming l != 0, l in \\{((-2^(t - 1)) + 1)...2^(t - 1)\\} \n",
      "                                        implication ((2^(t + 1) * |(delta - l / 2^(t))|)^(2) = ((2^(t + 1))^(2) * |(delta - l / 2^(t))|^(2))) => ((|alpha_{l}|^(2) <= 1^(2) / (2^(t + 1) * |(delta - l / 2^(t))|)^(2)) => (|alpha_{l}|^(2) <= 1^(2) / ((2^(t + 1))^(2) * |(delta - l / 2^(t))|^(2)))) \n",
      "                                          specializing forall_{P, x, y} ((x = y) => (P(x) => P(y)))  proven above\n",
      "                                        hypothesis (2^(t + 1) * |(delta - l / 2^(t))|)^(2) = ((2^(t + 1))^(2) * |(delta - l / 2^(t))|^(2))  assuming l != 0, l in \\{((-2^(t - 1)) + 1)...2^(t - 1)\\} \n",
      "                                          specializing forall_{a, b, c in Complexes} ((a * b)^(c) = (a^(c) * b^(c))) \n",
      "                                            by theorem proveit.number.complex.powOfProd\n",
      "                                          condition 2^(t + 1) in Complexes \n",
      "                                            specializing forall_{a in NaturalsPos} (a in Complexes)  proven above\n",
      "                                            condition 2^(t + 1) in NaturalsPos \n",
      "                                              specializing forall_{a, b in Naturals | a != 0} (a^(b) in NaturalsPos)  proven above\n",
      "                                              condition (t + 1) in Naturals \n",
      "                                                specializing forall_{a in NaturalsPos} (a in Naturals)  proven above\n",
      "                                                condition (t + 1) in NaturalsPos  proven above\n",
      "                                              condition 2 != 0  proven above\n",
      "                                              condition 2 in Naturals  proven above\n",
      "                                          condition 2 in Complexes  proven above\n",
      "                                          condition |(delta - l / 2^(t))| in Complexes  assuming l != 0, l in \\{((-2^(t - 1)) + 1)...2^(t - 1)\\} \n",
      "                                            specializing forall_{a in RealsPos} (a in Complexes)  proven above\n",
      "                                            condition |(delta - l / 2^(t))| in RealsPos  assuming l != 0, l in \\{((-2^(t - 1)) + 1)...2^(t - 1)\\} \n",
      "                                              specializing forall_{a in Complexes | a != 0} (|a| in RealsPos) \n",
      "                                                by theorem proveit.number.complex.absPosClosure\n",
      "                                              condition (delta - l / 2^(t)) in Complexes  assuming l != 0, l in \\{((-2^(t - 1)) + 1)...2^(t - 1)\\} \n",
      "                                                specializing forall_{a in Reals} (a in Complexes)  proven above\n",
      "                                                condition (delta - l / 2^(t)) in Reals  assuming l != 0, l in \\{((-2^(t - 1)) + 1)...2^(t - 1)\\}  proven above\n",
      "                                              condition (delta - l / 2^(t)) != 0  assuming l != 0, l in \\{((-2^(t - 1)) + 1)...2^(t - 1)\\} \n",
      "                                                specializing forall_{a, b in Complexes | a != b} ((a - b) != 0)  proven above\n",
      "                                                condition delta in Complexes  proven above\n",
      "                                                condition l / 2^(t) in Complexes  assuming l != 0, l in \\{((-2^(t - 1)) + 1)...2^(t - 1)\\}  proven above\n",
      "                                                condition delta != l / 2^(t)  assuming l != 0, l in \\{((-2^(t - 1)) + 1)...2^(t - 1)\\}  proven above\n",
      "                                      hypothesis |alpha_{l}|^(2) <= 1^(2) / (2^(t + 1) * |(delta - l / 2^(t))|)^(2)  assuming l != 0, l in \\{((-2^(t - 1)) + 1)...2^(t - 1)\\} \n",
      "                                        implication (|alpha_{l}|^(2) <= (1 / (2^(t + 1) * |(delta - l / 2^(t))|))^(2)) => (|alpha_{l}|^(2) <= 1^(2) / (2^(t + 1) * |(delta - l / 2^(t))|)^(2))  assuming l != 0, l in \\{((-2^(t - 1)) + 1)...2^(t - 1)\\} \n",
      "                                          implication ((1 / (2^(t + 1) * |(delta - l / 2^(t))|))^(2) = 1^(2) / (2^(t + 1) * |(delta - l / 2^(t))|)^(2)) => ((|alpha_{l}|^(2) <= (1 / (2^(t + 1) * |(delta - l / 2^(t))|))^(2)) => (|alpha_{l}|^(2) <= 1^(2) / (2^(t + 1) * |(delta - l / 2^(t))|)^(2))) \n",
      "                                            specializing forall_{P, x, y} ((x = y) => (P(x) => P(y)))  proven above\n",
      "                                          hypothesis (1 / (2^(t + 1) * |(delta - l / 2^(t))|))^(2) = 1^(2) / (2^(t + 1) * |(delta - l / 2^(t))|)^(2)  assuming l != 0, l in \\{((-2^(t - 1)) + 1)...2^(t - 1)\\} \n",
      "                                            specializing forall_{x, y, z in Complexes} ((x / y)^(z) = x^(z) / y^(z)) \n",
      "                                              by theorem proveit.number.complex.fracExp\n",
      "                                            condition 1 in Complexes  proven above\n",
      "                                            condition 2 in Complexes  proven above\n",
      "                                            condition (2^(t + 1) * |(delta - l / 2^(t))|) in Complexes  assuming l != 0, l in \\{((-2^(t - 1)) + 1)...2^(t - 1)\\} \n",
      "                                              specializing forall_{a in RealsPos} (a in Complexes)  proven above\n",
      "                                              condition (2^(t + 1) * |(delta - l / 2^(t))|) in RealsPos  assuming l != 0, l in \\{((-2^(t - 1)) + 1)...2^(t - 1)\\} \n",
      "                                                specializing forall_{..x.. in RealsPos} (( .. * x * .. ) in RealsPos)  proven above\n",
      "                                                condition |(delta - l / 2^(t))| in RealsPos  assuming l != 0, l in \\{((-2^(t - 1)) + 1)...2^(t - 1)\\}  proven above\n",
      "                                                condition 2^(t + 1) in RealsPos \n",
      "                                                  specializing forall_{a in NaturalsPos} (a in RealsPos)  proven above\n",
      "                                                  condition 2^(t + 1) in NaturalsPos  proven above\n",
      "                                        hypothesis |alpha_{l}|^(2) <= (1 / (2^(t + 1) * |(delta - l / 2^(t))|))^(2)  assuming l != 0, l in \\{((-2^(t - 1)) + 1)...2^(t - 1)\\} \n",
      "                                          specializing forall_{b in Reals | |alpha_{l}| <= b} (|alpha_{l}|^(2) <= b^(2))  assuming l != 0, l in \\{((-2^(t - 1)) + 1)...2^(t - 1)\\} \n",
      "                                            specializing forall_{a in Complexes} [forall_{b in Reals | |a| <= b} (|a|^(2) <= b^(2))] \n",
      "                                              by theorem proveit.number.complex.squarePosIneq\n",
      "                                            condition alpha_{l} in Complexes  assuming l != 0, l in \\{((-2^(t - 1)) + 1)...2^(t - 1)\\} \n",
      "                                              specializing forall_{l in Integers} (alpha_{l} in Complexes) \n",
      "                                                by theorem proveit.physics.quantum.QPE.all_alpha_l_in_complexes\n",
      "                                              condition l in Integers  assuming l != 0, l in \\{((-2^(t - 1)) + 1)...2^(t - 1)\\}  proven above\n",
      "                                          condition |alpha_{l}| <= 1 / (2^(t + 1) * |(delta - l / 2^(t))|)  assuming l != 0, l in \\{((-2^(t - 1)) + 1)...2^(t - 1)\\} \n",
      "                                            implication (|alpha_{l}| <= 1 / (2^(t) * 2 * |(delta - l / 2^(t))|)) => (|alpha_{l}| <= 1 / (2^(t + 1) * |(delta - l / 2^(t))|))  assuming l != 0, l in \\{((-2^(t - 1)) + 1)...2^(t - 1)\\} \n",
      "                                              implication ((2^(t) * 2 * |(delta - l / 2^(t))|) = (2^(t + 1) * |(delta - l / 2^(t))|)) => ((|alpha_{l}| <= 1 / (2^(t) * 2 * |(delta - l / 2^(t))|)) => (|alpha_{l}| <= 1 / (2^(t + 1) * |(delta - l / 2^(t))|))) \n",
      "                                                specializing forall_{P, x, y} ((x = y) => (P(x) => P(y)))  proven above\n",
      "                                              hypothesis (2^(t) * 2 * |(delta - l / 2^(t))|) = (2^(t + 1) * |(delta - l / 2^(t))|)  assuming l != 0, l in \\{((-2^(t - 1)) + 1)...2^(t - 1)\\} \n",
      "                                                specializing forall_{x, y, z in Complexes} ((x^(y) * x * z) = (x^(y + 1) * z)) \n",
      "                                                  by theorem proveit.number.complex.expAdd1a\n",
      "                                                condition t in Complexes  proven above\n",
      "                                                condition |(delta - l / 2^(t))| in Complexes  assuming l != 0, l in \\{((-2^(t - 1)) + 1)...2^(t - 1)\\}  proven above\n",
      "                                                condition 2 in Complexes  proven above\n",
      "                                            hypothesis |alpha_{l}| <= 1 / (2^(t) * 2 * |(delta - l / 2^(t))|)  assuming l != 0, l in \\{((-2^(t - 1)) + 1)...2^(t - 1)\\} \n",
      "                                              implication (|alpha_{l}| <= 2 / (2^(t) * 2 * 2 * |(delta - l / 2^(t))|)) => (|alpha_{l}| <= 1 / (2^(t) * 2 * |(delta - l / 2^(t))|))  assuming l != 0, l in \\{((-2^(t - 1)) + 1)...2^(t - 1)\\} \n",
      "                                                implication (2 / (2^(t) * 2 * 2 * |(delta - l / 2^(t))|) = 1 / (2^(t) * 2 * |(delta - l / 2^(t))|)) => ((|alpha_{l}| <= 2 / (2^(t) * 2 * 2 * |(delta - l / 2^(t))|)) => (|alpha_{l}| <= 1 / (2^(t) * 2 * |(delta - l / 2^(t))|))) \n",
      "                                                  specializing forall_{P, x, y} ((x = y) => (P(x) => P(y)))  proven above\n",
      "                                                hypothesis 2 / (2^(t) * 2 * 2 * |(delta - l / 2^(t))|) = 1 / (2^(t) * 2 * |(delta - l / 2^(t))|)  assuming l != 0, l in \\{((-2^(t - 1)) + 1)...2^(t - 1)\\} \n",
      "                                                  implication (2 / (2 * (2^(t) * 2 * |(delta - l / 2^(t))|)) = 1 / (2^(t) * 2 * |(delta - l / 2^(t))|)) => (2 / (2^(t) * 2 * 2 * |(delta - l / 2^(t))|) = 1 / (2^(t) * 2 * |(delta - l / 2^(t))|))  assuming l != 0, l in \\{((-2^(t - 1)) + 1)...2^(t - 1)\\} \n",
      "                                                    implication (2 / (2^(t) * 2 * 2 * |(delta - l / 2^(t))|) = 2 / (2 * (2^(t) * 2 * |(delta - l / 2^(t))|))) => ((2 / (2 * (2^(t) * 2 * |(delta - l / 2^(t))|)) = 1 / (2^(t) * 2 * |(delta - l / 2^(t))|)) => (2 / (2^(t) * 2 * 2 * |(delta - l / 2^(t))|) = 1 / (2^(t) * 2 * |(delta - l / 2^(t))|))) \n",
      "                                                      specializing forall_{x, y, z} ((x = y) => ((y = z) => (x = z))) \n",
      "                                                        by axiom proveit.basiclogic.equality.equalsTransitivity\n",
      "                                                    hypothesis 2 / (2^(t) * 2 * 2 * |(delta - l / 2^(t))|) = 2 / (2 * (2^(t) * 2 * |(delta - l / 2^(t))|))  assuming l != 0, l in \\{((-2^(t - 1)) + 1)...2^(t - 1)\\} \n",
      "                                                      implication ((2^(t) * 2 * 2 * |(delta - l / 2^(t))|) = (2 * (2^(t) * 2 * |(delta - l / 2^(t))|))) => (2 / (2^(t) * 2 * 2 * |(delta - l / 2^(t))|) = 2 / (2 * (2^(t) * 2 * |(delta - l / 2^(t))|))) \n",
      "                                                        specializing forall_{f, x, y} ((x = y) => (f(x) = f(y))) \n",
      "                                                          by axiom proveit.basiclogic.equality.substitution\n",
      "                                                      hypothesis (2^(t) * 2 * 2 * |(delta - l / 2^(t))|) = (2 * (2^(t) * 2 * |(delta - l / 2^(t))|))  assuming l != 0, l in \\{((-2^(t - 1)) + 1)...2^(t - 1)\\} \n",
      "                                                        implication ((2 * 2^(t) * 2 * |(delta - l / 2^(t))|) = (2 * (2^(t) * 2 * |(delta - l / 2^(t))|))) => ((2^(t) * 2 * 2 * |(delta - l / 2^(t))|) = (2 * (2^(t) * 2 * |(delta - l / 2^(t))|)))  assuming l != 0, l in \\{((-2^(t - 1)) + 1)...2^(t - 1)\\} \n",
      "                                                          implication ((2^(t) * 2 * 2 * |(delta - l / 2^(t))|) = (2 * 2^(t) * 2 * |(delta - l / 2^(t))|)) => (((2 * 2^(t) * 2 * |(delta - l / 2^(t))|) = (2 * (2^(t) * 2 * |(delta - l / 2^(t))|))) => ((2^(t) * 2 * 2 * |(delta - l / 2^(t))|) = (2 * (2^(t) * 2 * |(delta - l / 2^(t))|)))) \n",
      "                                                            specializing forall_{x, y, z} ((x = y) => ((y = z) => (x = z)))  proven above\n",
      "                                                          hypothesis (2^(t) * 2 * 2 * |(delta - l / 2^(t))|) = (2 * 2^(t) * 2 * |(delta - l / 2^(t))|)  assuming l != 0, l in \\{((-2^(t - 1)) + 1)...2^(t - 1)\\} \n",
      "                                                            specializing forall_{..v.., ..w.., ..x.., ..y.., ..z.. in Complexes} (( .. * v * ... * w * ... * x * ... * y * ... * z * .. ) = ( .. * v * ... * y * ... * x * ... * w * ... * z * .. ))  proven above\n",
      "                                                            condition 2^(t) in Complexes  proven above\n",
      "                                                            condition |(delta - l / 2^(t))| in Complexes  assuming l != 0, l in \\{((-2^(t - 1)) + 1)...2^(t - 1)\\}  proven above\n",
      "                                                            condition 2 in Complexes  proven above\n",
      "                                                        hypothesis (2 * 2^(t) * 2 * |(delta - l / 2^(t))|) = (2 * (2^(t) * 2 * |(delta - l / 2^(t))|))  assuming l != 0, l in \\{((-2^(t - 1)) + 1)...2^(t - 1)\\} \n",
      "                                                          specializing forall_{..x.., ..y.., ..z.. in Complexes} (( .. * x * ... * y * ... * z * .. ) = ( .. * x * ..  * ( .. * y * .. ) *  .. * z * .. ))  proven above\n",
      "                                                          condition 2^(t) in Complexes  proven above\n",
      "                                                          condition |(delta - l / 2^(t))| in Complexes  assuming l != 0, l in \\{((-2^(t - 1)) + 1)...2^(t - 1)\\}  proven above\n",
      "                                                          condition 2 in Complexes  proven above\n",
      "                                                  hypothesis 2 / (2 * (2^(t) * 2 * |(delta - l / 2^(t))|)) = 1 / (2^(t) * 2 * |(delta - l / 2^(t))|)  assuming l != 0, l in \\{((-2^(t - 1)) + 1)...2^(t - 1)\\} \n",
      "                                                    specializing forall_{x, y in Complexes | x != 0} (x / (x * y) = 1 / y) \n",
      "                                                      by theorem proveit.number.complex.fracCancel3\n",
      "                                                    condition (2^(t) * 2 * |(delta - l / 2^(t))|) in Complexes  assuming l != 0, l in \\{((-2^(t - 1)) + 1)...2^(t - 1)\\} \n",
      "                                                      specializing forall_{a in RealsPos} (a in Complexes)  proven above\n",
      "                                                      condition (2^(t) * 2 * |(delta - l / 2^(t))|) in RealsPos  assuming l != 0, l in \\{((-2^(t - 1)) + 1)...2^(t - 1)\\} \n",
      "                                                        specializing forall_{..x.. in RealsPos} (( .. * x * .. ) in RealsPos)  proven above\n",
      "                                                        condition 2 in RealsPos  proven above\n",
      "                                                        condition |(delta - l / 2^(t))| in RealsPos  assuming l != 0, l in \\{((-2^(t - 1)) + 1)...2^(t - 1)\\}  proven above\n",
      "                                                        condition 2^(t) in RealsPos  proven above\n",
      "                                                    condition 2 != 0  proven above\n",
      "                                                    condition 2 in Complexes  proven above\n",
      "                                              hypothesis |alpha_{l}| <= 2 / (2^(t) * 2 * 2 * |(delta - l / 2^(t))|)  assuming l != 0, l in \\{((-2^(t - 1)) + 1)...2^(t - 1)\\} \n",
      "                                                implication (|alpha_{l}| <= 2 / (2^(t) * (2 * 2 * |(delta - l / 2^(t))|))) => (|alpha_{l}| <= 2 / (2^(t) * 2 * 2 * |(delta - l / 2^(t))|))  assuming l != 0, l in \\{((-2^(t - 1)) + 1)...2^(t - 1)\\} \n",
      "                                                  implication ((2^(t) * (2 * 2 * |(delta - l / 2^(t))|)) = (2^(t) * 2 * 2 * |(delta - l / 2^(t))|)) => ((|alpha_{l}| <= 2 / (2^(t) * (2 * 2 * |(delta - l / 2^(t))|))) => (|alpha_{l}| <= 2 / (2^(t) * 2 * 2 * |(delta - l / 2^(t))|))) \n",
      "                                                    specializing forall_{P, x, y} ((x = y) => (P(x) => P(y)))  proven above\n",
      "                                                  hypothesis (2^(t) * (2 * 2 * |(delta - l / 2^(t))|)) = (2^(t) * 2 * 2 * |(delta - l / 2^(t))|)  assuming l != 0, l in \\{((-2^(t - 1)) + 1)...2^(t - 1)\\} \n",
      "                                                    specializing forall_{..x.., ..y.., ..z.. in Complexes} (( .. * x * ..  * ( .. * y * .. ) *  .. * z * .. ) = ( .. * x * ... * y * ... * z * .. )) \n",
      "                                                      by theorem proveit.number.complex.multAssocRev\n",
      "                                                    condition 2^(t) in Complexes  proven above\n",
      "                                                    condition |(delta - l / 2^(t))| in Complexes  assuming l != 0, l in \\{((-2^(t - 1)) + 1)...2^(t - 1)\\}  proven above\n",
      "                                                    condition 2 in Complexes  proven above\n",
      "                                                hypothesis |alpha_{l}| <= 2 / (2^(t) * (2 * 2 * |(delta - l / 2^(t))|))  assuming l != 0, l in \\{((-2^(t - 1)) + 1)...2^(t - 1)\\} \n",
      "                                                  specializing forall_{w, x, y, z in Reals | w <= x / y, y >= z, w >= 0, x > 0, y > 0, z > 0} (w <= x / z) \n",
      "                                                    by theorem proveit.number.real.ineqThm10a\n",
      "                                                  condition |alpha_{l}| in Reals  assuming l != 0, l in \\{((-2^(t - 1)) + 1)...2^(t - 1)\\} \n",
      "                                                    implication ((|alpha_{l}| in Reals) and (|alpha_{l}| >= 0)) => (|alpha_{l}| in Reals) \n",
      "                                                      specializing forall_{..A.., B, ..C..} (( .. and A and ..  and B and  .. and C and .. ) => B) \n",
      "                                                        by axiom proveit.basiclogic.boolean.andImpliesEach\n",
      "                                                    hypothesis (|alpha_{l}| in Reals) and (|alpha_{l}| >= 0)  assuming l != 0, l in \\{((-2^(t - 1)) + 1)...2^(t - 1)\\} \n",
      "                                                      specializing forall_{l in Integers} ((|alpha_{l}| in Reals) and (|alpha_{l}| >= 0)) \n",
      "                                                        by theorem proveit.physics.quantum.QPE.all_abs_alpha_l_nonneg\n",
      "                                                      condition l in Integers  assuming l != 0, l in \\{((-2^(t - 1)) + 1)...2^(t - 1)\\}  proven above\n",
      "                                                  condition (2^(t) * |(1 - e^(i * (2 * pi * (delta - l / 2^(t)))))|) in Reals  assuming l != 0, l in \\{((-2^(t - 1)) + 1)...2^(t - 1)\\} \n",
      "                                                    specializing forall_{a in RealsPos} (a in Reals) \n",
      "                                                      by theorem proveit.number.real.inRealsPos_inReals\n",
      "                                                    condition (2^(t) * |(1 - e^(i * (2 * pi * (delta - l / 2^(t)))))|) in RealsPos  assuming l != 0, l in \\{((-2^(t - 1)) + 1)...2^(t - 1)\\} \n",
      "                                                      specializing forall_{..x.. in RealsPos} (( .. * x * .. ) in RealsPos)  proven above\n",
      "                                                      condition 2^(t) in RealsPos  proven above\n",
      "                                                      condition |(1 - e^(i * (2 * pi * (delta - l / 2^(t)))))| in RealsPos  assuming l != 0, l in \\{((-2^(t - 1)) + 1)...2^(t - 1)\\} \n",
      "                                                        specializing forall_{a in Complexes | a != 0} (|a| in RealsPos)  proven above\n",
      "                                                        condition (1 - e^(i * (2 * pi * (delta - l / 2^(t))))) in Complexes  assuming l != 0, l in \\{((-2^(t - 1)) + 1)...2^(t - 1)\\} \n",
      "                                                          specializing forall_{a, b in Complexes} ((a - b) in Complexes) \n",
      "                                                            by theorem proveit.number.complex.subtractClosure\n",
      "                                                          condition 1 in Complexes  proven above\n",
      "                                                          condition e^(i * (2 * pi * (delta - l / 2^(t)))) in Complexes  assuming l != 0, l in \\{((-2^(t - 1)) + 1)...2^(t - 1)\\} \n",
      "                                                            specializing forall_{a, b in Complexes | a != 0} (a^(b) in Complexes) \n",
      "                                                              by theorem proveit.number.complex.powClosure\n",
      "                                                            condition e != 0 \n",
      "                                                              specializing forall_{a in Reals | a > 0} (a != 0)  proven above\n",
      "                                                              condition e > 0 \n",
      "                                                                implication (e in RealsPos) => (e > 0) \n",
      "                                                                  implication ((e in RealsPos) <=> (e > 0)) => ((e in RealsPos) => (e > 0)) \n",
      "                                                                    specializing forall_{A, B} ((A <=> B) => (A => B))  proven above\n",
      "                                                                  hypothesis (e in RealsPos) <=> (e > 0) \n",
      "                                                                    specializing forall_{a in Reals} ((a in RealsPos) <=> (a > 0))  proven above\n",
      "                                                                    condition e in Reals \n",
      "                                                                      specializing forall_{a in RealsPos} (a in Reals)  proven above\n",
      "                                                                      condition e in RealsPos \n",
      "                                                                        by theorem proveit.number.real.eInRealsPos\n",
      "                                                                hypothesis e in RealsPos  proven above\n",
      "                                                              condition e in Reals  proven above\n",
      "                                                            condition (i * (2 * pi * (delta - l / 2^(t)))) in Complexes  assuming l != 0, l in \\{((-2^(t - 1)) + 1)...2^(t - 1)\\} \n",
      "                                                              specializing forall_{..x.. in Complexes} (( .. * x * .. ) in Complexes) \n",
      "                                                                by theorem proveit.number.complex.multClosure\n",
      "                                                              condition (2 * pi * (delta - l / 2^(t))) in Complexes  assuming l != 0, l in \\{((-2^(t - 1)) + 1)...2^(t - 1)\\} \n",
      "                                                                specializing forall_{a in Reals} (a in Complexes)  proven above\n",
      "                                                                condition (2 * pi * (delta - l / 2^(t))) in Reals  assuming l != 0, l in \\{((-2^(t - 1)) + 1)...2^(t - 1)\\} \n",
      "                                                                  specializing forall_{..x.. in Reals} (( .. * x * .. ) in Reals) \n",
      "                                                                    by theorem proveit.number.real.multClosure\n",
      "                                                                  condition (delta - l / 2^(t)) in Reals  assuming l != 0, l in \\{((-2^(t - 1)) + 1)...2^(t - 1)\\}  proven above\n",
      "                                                                  condition 2 in Reals  proven above\n",
      "                                                                  condition pi in Reals \n",
      "                                                                    specializing forall_{a in RealsPos} (a in Reals)  proven above\n",
      "                                                                    condition pi in RealsPos \n",
      "                                                              condition i in Complexes \n",
      "                                                            condition e in Complexes \n",
      "                                                              specializing forall_{a in RealsPos} (a in Complexes)  proven above\n",
      "                                                              condition e in RealsPos  proven above\n",
      "                                                        condition (1 - e^(i * (2 * pi * (delta - l / 2^(t))))) != 0  assuming l != 0, l in \\{((-2^(t - 1)) + 1)...2^(t - 1)\\} \n",
      "                                                          specializing forall_{a, b in Complexes | a != b} ((a - b) != 0)  proven above\n",
      "                                                          condition 1 in Complexes  proven above\n",
      "                                                          condition 1 != e^(i * (2 * pi * (delta - l / 2^(t))))  assuming l != 0, l in \\{((-2^(t - 1)) + 1)...2^(t - 1)\\} \n",
      "                                                            implication (e^(i * (2 * pi * (delta - l / 2^(t)))) != 1) => (1 != e^(i * (2 * pi * (delta - l / 2^(t))))) \n",
      "                                                              specializing forall_{x, y} ((x != y) => (y != x))  proven above\n",
      "                                                            hypothesis e^(i * (2 * pi * (delta - l / 2^(t)))) != 1  assuming l != 0, l in \\{((-2^(t - 1)) + 1)...2^(t - 1)\\} \n",
      "                                                              implication (e^(2 * pi * i * (delta - l / 2^(t))) != 1) => (e^(i * (2 * pi * (delta - l / 2^(t)))) != 1)  assuming l != 0, l in \\{((-2^(t - 1)) + 1)...2^(t - 1)\\} \n",
      "                                                                implication ((2 * pi * i * (delta - l / 2^(t))) = (i * (2 * pi * (delta - l / 2^(t))))) => ((e^(2 * pi * i * (delta - l / 2^(t))) != 1) => (e^(i * (2 * pi * (delta - l / 2^(t)))) != 1)) \n",
      "                                                                  specializing forall_{P, x, y} ((x = y) => (P(x) => P(y)))  proven above\n",
      "                                                                hypothesis (2 * pi * i * (delta - l / 2^(t))) = (i * (2 * pi * (delta - l / 2^(t))))  assuming l != 0, l in \\{((-2^(t - 1)) + 1)...2^(t - 1)\\} \n",
      "                                                                  implication ((i * 2 * pi * (delta - l / 2^(t))) = (i * (2 * pi * (delta - l / 2^(t))))) => ((2 * pi * i * (delta - l / 2^(t))) = (i * (2 * pi * (delta - l / 2^(t)))))  assuming l != 0, l in \\{((-2^(t - 1)) + 1)...2^(t - 1)\\} \n",
      "                                                                    implication ((2 * pi * i * (delta - l / 2^(t))) = (i * 2 * pi * (delta - l / 2^(t)))) => (((i * 2 * pi * (delta - l / 2^(t))) = (i * (2 * pi * (delta - l / 2^(t))))) => ((2 * pi * i * (delta - l / 2^(t))) = (i * (2 * pi * (delta - l / 2^(t)))))) \n",
      "                                                                      specializing forall_{x, y, z} ((x = y) => ((y = z) => (x = z)))  proven above\n",
      "                                                                    hypothesis (2 * pi * i * (delta - l / 2^(t))) = (i * 2 * pi * (delta - l / 2^(t)))  assuming l != 0, l in \\{((-2^(t - 1)) + 1)...2^(t - 1)\\} \n",
      "                                                                      specializing forall_{..v.., ..w.., ..x.., ..y.., ..z.. in Complexes} (( .. * v * ... * w * ... * x * ... * y * ... * z * .. ) = ( .. * v * ... * y * ... * x * ... * w * ... * z * .. ))  proven above\n",
      "                                                                      condition (delta - l / 2^(t)) in Complexes  assuming l != 0, l in \\{((-2^(t - 1)) + 1)...2^(t - 1)\\}  proven above\n",
      "                                                                      condition pi in Complexes \n",
      "                                                                        specializing forall_{a in RealsPos} (a in Complexes)  proven above\n",
      "                                                                        condition pi in RealsPos  proven above\n",
      "                                                                      condition 2 in Complexes  proven above\n",
      "                                                                      condition i in Complexes  proven above\n",
      "                                                                  hypothesis (i * 2 * pi * (delta - l / 2^(t))) = (i * (2 * pi * (delta - l / 2^(t))))  assuming l != 0, l in \\{((-2^(t - 1)) + 1)...2^(t - 1)\\} \n",
      "                                                                    specializing forall_{..x.., ..y.., ..z.. in Complexes} (( .. * x * ... * y * ... * z * .. ) = ( .. * x * ..  * ( .. * y * .. ) *  .. * z * .. ))  proven above\n",
      "                                                                    condition (delta - l / 2^(t)) in Complexes  assuming l != 0, l in \\{((-2^(t - 1)) + 1)...2^(t - 1)\\}  proven above\n",
      "                                                                    condition pi in Complexes  proven above\n",
      "                                                                    condition 2 in Complexes  proven above\n",
      "                                                                    condition i in Complexes  proven above\n",
      "                                                              hypothesis e^(2 * pi * i * (delta - l / 2^(t))) != 1  assuming l != 0, l in \\{((-2^(t - 1)) + 1)...2^(t - 1)\\} \n",
      "                                                                specializing forall_{x in Reals | x not in Integers} (e^(2 * pi * i * x) != 1) \n",
      "                                                                  by theorem proveit.trigonometry.exp_2pi_i_nonInt\n",
      "                                                                condition (delta - l / 2^(t)) in Reals  assuming l != 0, l in \\{((-2^(t - 1)) + 1)...2^(t - 1)\\}  proven above\n",
      "                                                                condition (delta - l / 2^(t)) not in Integers  assuming l != 0, l in \\{((-2^(t - 1)) + 1)...2^(t - 1)\\} \n",
      "                                                                  specializing forall_{l in \\{((-2^(t - 1)) + 1)...2^(t - 1)\\} | l != 0} ((delta - l / 2^(t)) not in Integers) \n",
      "                                                                    by theorem proveit.physics.quantum.QPE.nonIntDeltaDiff\n",
      "                                                                  condition l != 0  assuming l != 0  proven above\n",
      "                                                                  condition l in \\{((-2^(t - 1)) + 1)...2^(t - 1)\\}  assuming l in \\{((-2^(t - 1)) + 1)...2^(t - 1)\\}  proven above\n",
      "                                                          condition e^(i * (2 * pi * (delta - l / 2^(t)))) in Complexes  assuming l != 0, l in \\{((-2^(t - 1)) + 1)...2^(t - 1)\\}  proven above\n",
      "                                                  condition (2^(t) * |(1 - e^(i * (2 * pi * (delta - l / 2^(t)))))|) >= (2^(t) * (2 * 2 * |(delta - l / 2^(t))|))  assuming l != 0, l in \\{((-2^(t - 1)) + 1)...2^(t - 1)\\} \n",
      "                                                    implication ((2^(t) * |(1 - e^(i * (2 * pi * (delta - l / 2^(t)))))|) >= (2^(t) * (2 * 2 * pi * |(delta - l / 2^(t))|) / pi)) => ((2^(t) * |(1 - e^(i * (2 * pi * (delta - l / 2^(t)))))|) >= (2^(t) * (2 * 2 * |(delta - l / 2^(t))|)))  assuming l != 0, l in \\{((-2^(t - 1)) + 1)...2^(t - 1)\\} \n",
      "                                                      implication ((2 * 2 * pi * |(delta - l / 2^(t))|) / pi = (2 * 2 * |(delta - l / 2^(t))|)) => (((2^(t) * |(1 - e^(i * (2 * pi * (delta - l / 2^(t)))))|) >= (2^(t) * (2 * 2 * pi * |(delta - l / 2^(t))|) / pi)) => ((2^(t) * |(1 - e^(i * (2 * pi * (delta - l / 2^(t)))))|) >= (2^(t) * (2 * 2 * |(delta - l / 2^(t))|)))) \n",
      "                                                        specializing forall_{P, x, y} ((x = y) => (P(x) => P(y)))  proven above\n",
      "                                                      hypothesis (2 * 2 * pi * |(delta - l / 2^(t))|) / pi = (2 * 2 * |(delta - l / 2^(t))|)  assuming l != 0, l in \\{((-2^(t - 1)) + 1)...2^(t - 1)\\} \n",
      "                                                        implication ((pi * (2 * 2 * |(delta - l / 2^(t))|)) / pi = (2 * 2 * |(delta - l / 2^(t))|)) => ((2 * 2 * pi * |(delta - l / 2^(t))|) / pi = (2 * 2 * |(delta - l / 2^(t))|))  assuming l != 0, l in \\{((-2^(t - 1)) + 1)...2^(t - 1)\\} \n",
      "                                                          implication ((2 * 2 * pi * |(delta - l / 2^(t))|) / pi = (pi * (2 * 2 * |(delta - l / 2^(t))|)) / pi) => (((pi * (2 * 2 * |(delta - l / 2^(t))|)) / pi = (2 * 2 * |(delta - l / 2^(t))|)) => ((2 * 2 * pi * |(delta - l / 2^(t))|) / pi = (2 * 2 * |(delta - l / 2^(t))|))) \n",
      "                                                            specializing forall_{x, y, z} ((x = y) => ((y = z) => (x = z)))  proven above\n",
      "                                                          hypothesis (2 * 2 * pi * |(delta - l / 2^(t))|) / pi = (pi * (2 * 2 * |(delta - l / 2^(t))|)) / pi  assuming l != 0, l in \\{((-2^(t - 1)) + 1)...2^(t - 1)\\} \n",
      "                                                            implication ((2 * 2 * pi * |(delta - l / 2^(t))|) = (pi * (2 * 2 * |(delta - l / 2^(t))|))) => ((2 * 2 * pi * |(delta - l / 2^(t))|) / pi = (pi * (2 * 2 * |(delta - l / 2^(t))|)) / pi) \n",
      "                                                              specializing forall_{f, x, y} ((x = y) => (f(x) = f(y)))  proven above\n",
      "                                                            hypothesis (2 * 2 * pi * |(delta - l / 2^(t))|) = (pi * (2 * 2 * |(delta - l / 2^(t))|))  assuming l != 0, l in \\{((-2^(t - 1)) + 1)...2^(t - 1)\\} \n",
      "                                                              implication ((pi * 2 * 2 * |(delta - l / 2^(t))|) = (pi * (2 * 2 * |(delta - l / 2^(t))|))) => ((2 * 2 * pi * |(delta - l / 2^(t))|) = (pi * (2 * 2 * |(delta - l / 2^(t))|)))  assuming l != 0, l in \\{((-2^(t - 1)) + 1)...2^(t - 1)\\} \n",
      "                                                                implication ((2 * 2 * pi * |(delta - l / 2^(t))|) = (pi * 2 * 2 * |(delta - l / 2^(t))|)) => (((pi * 2 * 2 * |(delta - l / 2^(t))|) = (pi * (2 * 2 * |(delta - l / 2^(t))|))) => ((2 * 2 * pi * |(delta - l / 2^(t))|) = (pi * (2 * 2 * |(delta - l / 2^(t))|)))) \n",
      "                                                                  specializing forall_{x, y, z} ((x = y) => ((y = z) => (x = z)))  proven above\n",
      "                                                                hypothesis (2 * 2 * pi * |(delta - l / 2^(t))|) = (pi * 2 * 2 * |(delta - l / 2^(t))|)  assuming l != 0, l in \\{((-2^(t - 1)) + 1)...2^(t - 1)\\} \n",
      "                                                                  specializing forall_{..v.., ..w.., ..x.., ..y.., ..z.. in Complexes} (( .. * v * ... * w * ... * x * ... * y * ... * z * .. ) = ( .. * v * ... * y * ... * x * ... * w * ... * z * .. ))  proven above\n",
      "                                                                  condition pi in Complexes  proven above\n",
      "                                                                  condition 2 in Complexes  proven above\n",
      "                                                                  condition |(delta - l / 2^(t))| in Complexes  assuming l != 0, l in \\{((-2^(t - 1)) + 1)...2^(t - 1)\\}  proven above\n",
      "                                                              hypothesis (pi * 2 * 2 * |(delta - l / 2^(t))|) = (pi * (2 * 2 * |(delta - l / 2^(t))|))  assuming l != 0, l in \\{((-2^(t - 1)) + 1)...2^(t - 1)\\} \n",
      "                                                                specializing forall_{..x.., ..y.., ..z.. in Complexes} (( .. * x * ... * y * ... * z * .. ) = ( .. * x * ..  * ( .. * y * .. ) *  .. * z * .. ))  proven above\n",
      "                                                                condition pi in Complexes  proven above\n",
      "                                                                condition 2 in Complexes  proven above\n",
      "                                                                condition |(delta - l / 2^(t))| in Complexes  assuming l != 0, l in \\{((-2^(t - 1)) + 1)...2^(t - 1)\\}  proven above\n",
      "                                                        hypothesis (pi * (2 * 2 * |(delta - l / 2^(t))|)) / pi = (2 * 2 * |(delta - l / 2^(t))|)  assuming l != 0, l in \\{((-2^(t - 1)) + 1)...2^(t - 1)\\} \n",
      "                                                          specializing forall_{x, y in Complexes | x != 0} ((x * y) / x = y) \n",
      "                                                            by theorem proveit.number.complex.fracCancel2\n",
      "                                                          condition pi != 0 \n",
      "                                                            specializing forall_{a in Reals | a > 0} (a != 0)  proven above\n",
      "                                                            condition pi > 0 \n",
      "                                                              implication (pi in RealsPos) => (pi > 0) \n",
      "                                                                implication ((pi in RealsPos) <=> (pi > 0)) => ((pi in RealsPos) => (pi > 0)) \n",
      "                                                                  specializing forall_{A, B} ((A <=> B) => (A => B))  proven above\n",
      "                                                                hypothesis (pi in RealsPos) <=> (pi > 0) \n",
      "                                                                  specializing forall_{a in Reals} ((a in RealsPos) <=> (a > 0))  proven above\n",
      "                                                                  condition pi in Reals  proven above\n",
      "                                                              hypothesis pi in RealsPos  proven above\n",
      "                                                            condition pi in Reals  proven above\n",
      "                                                          condition pi in Complexes  proven above\n",
      "                                                          condition (2 * 2 * |(delta - l / 2^(t))|) in Complexes  assuming l != 0, l in \\{((-2^(t - 1)) + 1)...2^(t - 1)\\} \n",
      "                                                            specializing forall_{a in RealsPos} (a in Complexes)  proven above\n",
      "                                                            condition (2 * 2 * |(delta - l / 2^(t))|) in RealsPos  assuming l != 0, l in \\{((-2^(t - 1)) + 1)...2^(t - 1)\\} \n",
      "                                                              specializing forall_{..x.. in RealsPos} (( .. * x * .. ) in RealsPos)  proven above\n",
      "                                                              condition 2 in RealsPos  proven above\n",
      "                                                              condition |(delta - l / 2^(t))| in RealsPos  assuming l != 0, l in \\{((-2^(t - 1)) + 1)...2^(t - 1)\\}  proven above\n",
      "                                                    hypothesis (2^(t) * |(1 - e^(i * (2 * pi * (delta - l / 2^(t)))))|) >= (2^(t) * (2 * 2 * pi * |(delta - l / 2^(t))|) / pi)  assuming l != 0, l in \\{((-2^(t - 1)) + 1)...2^(t - 1)\\} \n",
      "                                                      implication ((2^(t) * |(1 - e^(i * (2 * pi * (delta - l / 2^(t)))))|) >= (2^(t) * (2 * (2 * pi) * |(delta - l / 2^(t))|) / pi)) => ((2^(t) * |(1 - e^(i * (2 * pi * (delta - l / 2^(t)))))|) >= (2^(t) * (2 * 2 * pi * |(delta - l / 2^(t))|) / pi))  assuming l != 0, l in \\{((-2^(t - 1)) + 1)...2^(t - 1)\\} \n",
      "                                                        implication ((2 * 2 * pi * |(delta - l / 2^(t))|) = (2 * (2 * pi) * |(delta - l / 2^(t))|)) => (((2^(t) * |(1 - e^(i * (2 * pi * (delta - l / 2^(t)))))|) >= (2^(t) * (2 * (2 * pi) * |(delta - l / 2^(t))|) / pi)) => ((2^(t) * |(1 - e^(i * (2 * pi * (delta - l / 2^(t)))))|) >= (2^(t) * (2 * 2 * pi * |(delta - l / 2^(t))|) / pi))) \n",
      "                                                          specializing forall_{P, x, y} ((x = y) => (P(y) => P(x)))  proven above\n",
      "                                                        hypothesis (2 * 2 * pi * |(delta - l / 2^(t))|) = (2 * (2 * pi) * |(delta - l / 2^(t))|)  assuming l != 0, l in \\{((-2^(t - 1)) + 1)...2^(t - 1)\\} \n",
      "                                                          specializing forall_{..x.., ..y.., ..z.. in Complexes} (( .. * x * ... * y * ... * z * .. ) = ( .. * x * ..  * ( .. * y * .. ) *  .. * z * .. ))  proven above\n",
      "                                                          condition pi in Complexes  proven above\n",
      "                                                          condition 2 in Complexes  proven above\n",
      "                                                          condition |(delta - l / 2^(t))| in Complexes  assuming l != 0, l in \\{((-2^(t - 1)) + 1)...2^(t - 1)\\}  proven above\n",
      "                                                      hypothesis (2^(t) * |(1 - e^(i * (2 * pi * (delta - l / 2^(t)))))|) >= (2^(t) * (2 * (2 * pi) * |(delta - l / 2^(t))|) / pi)  assuming l != 0, l in \\{((-2^(t - 1)) + 1)...2^(t - 1)\\} \n",
      "                                                        implication ((2^(t) * |(1 - e^(i * (2 * pi * (delta - l / 2^(t)))))|) >= (2^(t) * (2 * ((2 * pi) * |(delta - l / 2^(t))|)) / pi)) => ((2^(t) * |(1 - e^(i * (2 * pi * (delta - l / 2^(t)))))|) >= (2^(t) * (2 * (2 * pi) * |(delta - l / 2^(t))|) / pi))  assuming l != 0, l in \\{((-2^(t - 1)) + 1)...2^(t - 1)\\} \n",
      "                                                          implication ((2 * (2 * pi) * |(delta - l / 2^(t))|) = (2 * ((2 * pi) * |(delta - l / 2^(t))|))) => (((2^(t) * |(1 - e^(i * (2 * pi * (delta - l / 2^(t)))))|) >= (2^(t) * (2 * ((2 * pi) * |(delta - l / 2^(t))|)) / pi)) => ((2^(t) * |(1 - e^(i * (2 * pi * (delta - l / 2^(t)))))|) >= (2^(t) * (2 * (2 * pi) * |(delta - l / 2^(t))|) / pi))) \n",
      "                                                            specializing forall_{P, x, y} ((x = y) => (P(y) => P(x)))  proven above\n",
      "                                                          hypothesis (2 * (2 * pi) * |(delta - l / 2^(t))|) = (2 * ((2 * pi) * |(delta - l / 2^(t))|))  assuming l != 0, l in \\{((-2^(t - 1)) + 1)...2^(t - 1)\\} \n",
      "                                                            specializing forall_{..x.., ..y.., ..z.. in Complexes} (( .. * x * ... * y * ... * z * .. ) = ( .. * x * ..  * ( .. * y * .. ) *  .. * z * .. ))  proven above\n",
      "                                                            condition |(delta - l / 2^(t))| in Complexes  assuming l != 0, l in \\{((-2^(t - 1)) + 1)...2^(t - 1)\\}  proven above\n",
      "                                                            condition 2 in Complexes  proven above\n",
      "                                                            condition (2 * pi) in Complexes \n",
      "                                                              specializing forall_{a in RealsPos} (a in Complexes)  proven above\n",
      "                                                              condition (2 * pi) in RealsPos \n",
      "                                                                by theorem proveit.number.real.absTwoPi\n",
      "                                                        hypothesis (2^(t) * |(1 - e^(i * (2 * pi * (delta - l / 2^(t)))))|) >= (2^(t) * (2 * ((2 * pi) * |(delta - l / 2^(t))|)) / pi)  assuming l != 0, l in \\{((-2^(t - 1)) + 1)...2^(t - 1)\\} \n",
      "                                                          implication ((2^(t) * |(1 - e^(i * (2 * pi * (delta - l / 2^(t)))))|) >= (2^(t) * (2 * (|(2 * pi)| * |(delta - l / 2^(t))|)) / pi)) => ((2^(t) * |(1 - e^(i * (2 * pi * (delta - l / 2^(t)))))|) >= (2^(t) * (2 * ((2 * pi) * |(delta - l / 2^(t))|)) / pi)) \n",
      "                                                            implication (|(2 * pi)| = (2 * pi)) => (((2^(t) * |(1 - e^(i * (2 * pi * (delta - l / 2^(t)))))|) >= (2^(t) * (2 * (|(2 * pi)| * |(delta - l / 2^(t))|)) / pi)) => ((2^(t) * |(1 - e^(i * (2 * pi * (delta - l / 2^(t)))))|) >= (2^(t) * (2 * ((2 * pi) * |(delta - l / 2^(t))|)) / pi))) \n",
      "                                                              specializing forall_{P, x, y} ((x = y) => (P(x) => P(y)))  proven above\n",
      "                                                            hypothesis |(2 * pi)| = (2 * pi) \n",
      "                                                              specializing forall_{a in RealsPos} (|a| = a) \n",
      "                                                                by theorem proveit.number.real.absPos\n",
      "                                                              condition (2 * pi) in RealsPos  proven above\n",
      "                                                          hypothesis (2^(t) * |(1 - e^(i * (2 * pi * (delta - l / 2^(t)))))|) >= (2^(t) * (2 * (|(2 * pi)| * |(delta - l / 2^(t))|)) / pi)  assuming l != 0, l in \\{((-2^(t - 1)) + 1)...2^(t - 1)\\} \n",
      "                                                            implication ((2^(t) * |(1 - e^(i * (2 * pi * (delta - l / 2^(t)))))|) >= (2^(t) * (2 * |((2 * pi) * (delta - l / 2^(t)))|) / pi)) => ((2^(t) * |(1 - e^(i * (2 * pi * (delta - l / 2^(t)))))|) >= (2^(t) * (2 * (|(2 * pi)| * |(delta - l / 2^(t))|)) / pi))  assuming l != 0, l in \\{((-2^(t - 1)) + 1)...2^(t - 1)\\} \n",
      "                                                              implication (|((2 * pi) * (delta - l / 2^(t)))| = (|(2 * pi)| * |(delta - l / 2^(t))|)) => (((2^(t) * |(1 - e^(i * (2 * pi * (delta - l / 2^(t)))))|) >= (2^(t) * (2 * |((2 * pi) * (delta - l / 2^(t)))|) / pi)) => ((2^(t) * |(1 - e^(i * (2 * pi * (delta - l / 2^(t)))))|) >= (2^(t) * (2 * (|(2 * pi)| * |(delta - l / 2^(t))|)) / pi))) \n",
      "                                                                specializing forall_{P, x, y} ((x = y) => (P(x) => P(y)))  proven above\n",
      "                                                              hypothesis |((2 * pi) * (delta - l / 2^(t)))| = (|(2 * pi)| * |(delta - l / 2^(t))|)  assuming l != 0, l in \\{((-2^(t - 1)) + 1)...2^(t - 1)\\} \n",
      "                                                                specializing forall_{..x.., ..y.. in Complexes} (|( .. * x * ... * y * .. )| = (|..x..| * |..y..|)) \n",
      "                                                                  by theorem proveit.number.complex.absProd\n",
      "                                                                condition (delta - l / 2^(t)) in Complexes  assuming l != 0, l in \\{((-2^(t - 1)) + 1)...2^(t - 1)\\}  proven above\n",
      "                                                                condition (2 * pi) in Complexes  proven above\n",
      "                                                            hypothesis (2^(t) * |(1 - e^(i * (2 * pi * (delta - l / 2^(t)))))|) >= (2^(t) * (2 * |((2 * pi) * (delta - l / 2^(t)))|) / pi)  assuming l != 0, l in \\{((-2^(t - 1)) + 1)...2^(t - 1)\\} \n",
      "                                                              implication ((2^(t) * |(1 - e^(i * (2 * pi * (delta - l / 2^(t)))))|) >= (2^(t) * (2 * |(2 * pi * (delta - l / 2^(t)))|) / pi)) => ((2^(t) * |(1 - e^(i * (2 * pi * (delta - l / 2^(t)))))|) >= (2^(t) * (2 * |((2 * pi) * (delta - l / 2^(t)))|) / pi))  assuming l != 0, l in \\{((-2^(t - 1)) + 1)...2^(t - 1)\\} \n",
      "                                                                implication ((2 * pi * (delta - l / 2^(t))) = ((2 * pi) * (delta - l / 2^(t)))) => (((2^(t) * |(1 - e^(i * (2 * pi * (delta - l / 2^(t)))))|) >= (2^(t) * (2 * |(2 * pi * (delta - l / 2^(t)))|) / pi)) => ((2^(t) * |(1 - e^(i * (2 * pi * (delta - l / 2^(t)))))|) >= (2^(t) * (2 * |((2 * pi) * (delta - l / 2^(t)))|) / pi))) \n",
      "                                                                  specializing forall_{P, x, y} ((x = y) => (P(x) => P(y)))  proven above\n",
      "                                                                hypothesis (2 * pi * (delta - l / 2^(t))) = ((2 * pi) * (delta - l / 2^(t)))  assuming l != 0, l in \\{((-2^(t - 1)) + 1)...2^(t - 1)\\} \n",
      "                                                                  specializing forall_{..x.., ..y.., ..z.. in Complexes} (( .. * x * ... * y * ... * z * .. ) = ( .. * x * ..  * ( .. * y * .. ) *  .. * z * .. ))  proven above\n",
      "                                                                  condition (delta - l / 2^(t)) in Complexes  assuming l != 0, l in \\{((-2^(t - 1)) + 1)...2^(t - 1)\\}  proven above\n",
      "                                                                  condition pi in Complexes  proven above\n",
      "                                                                  condition 2 in Complexes  proven above\n",
      "                                                              hypothesis (2^(t) * |(1 - e^(i * (2 * pi * (delta - l / 2^(t)))))|) >= (2^(t) * (2 * |(2 * pi * (delta - l / 2^(t)))|) / pi)  assuming l != 0, l in \\{((-2^(t - 1)) + 1)...2^(t - 1)\\} \n",
      "                                                                implication ((2^(t) * (2 * |(2 * pi * (delta - l / 2^(t)))|) / pi) <= (2^(t) * |(1 - e^(i * (2 * pi * (delta - l / 2^(t)))))|)) => ((2^(t) * |(1 - e^(i * (2 * pi * (delta - l / 2^(t)))))|) >= (2^(t) * (2 * |(2 * pi * (delta - l / 2^(t)))|) / pi)) \n",
      "                                                                  specializing forall_{x, y} ((x <= y) => (y >= x)) \n",
      "                                                                    by axiom proveit.number.reverseLessThanEquals\n",
      "                                                                hypothesis (2^(t) * (2 * |(2 * pi * (delta - l / 2^(t)))|) / pi) <= (2^(t) * |(1 - e^(i * (2 * pi * (delta - l / 2^(t)))))|)  assuming l != 0, l in \\{((-2^(t - 1)) + 1)...2^(t - 1)\\} \n",
      "                                                                  specializing forall_{a, b, c in Reals | a <= c, b > 0} ((b * a) <= (b * c)) \n",
      "                                                                    by theorem proveit.number.real.divIneqThm1cor\n",
      "                                                                  condition |(1 - e^(i * (2 * pi * (delta - l / 2^(t)))))| in Reals  assuming l != 0, l in \\{((-2^(t - 1)) + 1)...2^(t - 1)\\} \n",
      "                                                                    specializing forall_{a in RealsPos} (a in Reals)  proven above\n",
      "                                                                    condition |(1 - e^(i * (2 * pi * (delta - l / 2^(t)))))| in RealsPos  assuming l != 0, l in \\{((-2^(t - 1)) + 1)...2^(t - 1)\\}  proven above\n",
      "                                                                  condition 2^(t) in Reals  proven above\n",
      "                                                                  condition (2 * |(2 * pi * (delta - l / 2^(t)))|) / pi in Reals  assuming l != 0, l in \\{((-2^(t - 1)) + 1)...2^(t - 1)\\} \n",
      "                                                                    specializing forall_{a in RealsPos} (a in Reals)  proven above\n",
      "                                                                    condition (2 * |(2 * pi * (delta - l / 2^(t)))|) / pi in RealsPos  assuming l != 0, l in \\{((-2^(t - 1)) + 1)...2^(t - 1)\\} \n",
      "                                                                      specializing forall_{a, b in RealsPos | b != 0} (a / b in RealsPos) \n",
      "                                                                        by theorem proveit.number.real.fractionPosClosure\n",
      "                                                                      condition pi != 0  proven above\n",
      "                                                                      condition (2 * |(2 * pi * (delta - l / 2^(t)))|) in RealsPos  assuming l != 0, l in \\{((-2^(t - 1)) + 1)...2^(t - 1)\\} \n",
      "                                                                        specializing forall_{..x.. in RealsPos} (( .. * x * .. ) in RealsPos)  proven above\n",
      "                                                                        condition 2 in RealsPos  proven above\n",
      "                                                                        condition |(2 * pi * (delta - l / 2^(t)))| in RealsPos  assuming l != 0, l in \\{((-2^(t - 1)) + 1)...2^(t - 1)\\} \n",
      "                                                                          specializing forall_{a in Complexes | a != 0} (|a| in RealsPos)  proven above\n",
      "                                                                          condition (2 * pi * (delta - l / 2^(t))) != 0  assuming l != 0, l in \\{((-2^(t - 1)) + 1)...2^(t - 1)\\} \n",
      "                                                                            specializing forall_{..x.. in (Complexes - {0})} (( .. * x * .. ) != 0) \n",
      "                                                                              by theorem proveit.number.complex.multNotEqZero\n",
      "                                                                            condition 2 in (Complexes - {0}) \n",
      "                                                                              specializing forall_{a in Complexes | a != 0} (a in (Complexes - {0})) \n",
      "                                                                                by theorem proveit.number.complex.inComplexesSansZero\n",
      "                                                                              condition 2 != 0  proven above\n",
      "                                                                              condition 2 in Complexes  proven above\n",
      "                                                                            condition pi in (Complexes - {0}) \n",
      "                                                                              specializing forall_{a in Complexes | a != 0} (a in (Complexes - {0}))  proven above\n",
      "                                                                              condition pi != 0  proven above\n",
      "                                                                              condition pi in Complexes  proven above\n",
      "                                                                            condition (delta - l / 2^(t)) in (Complexes - {0})  assuming l != 0, l in \\{((-2^(t - 1)) + 1)...2^(t - 1)\\} \n",
      "                                                                              specializing forall_{a in Complexes | a != 0} (a in (Complexes - {0}))  proven above\n",
      "                                                                              condition (delta - l / 2^(t)) in Complexes  assuming l != 0, l in \\{((-2^(t - 1)) + 1)...2^(t - 1)\\}  proven above\n",
      "                                                                              condition (delta - l / 2^(t)) != 0  assuming l != 0, l in \\{((-2^(t - 1)) + 1)...2^(t - 1)\\}  proven above\n",
      "                                                                          condition (2 * pi * (delta - l / 2^(t))) in Complexes  assuming l != 0, l in \\{((-2^(t - 1)) + 1)...2^(t - 1)\\}  proven above\n",
      "                                                                      condition pi in RealsPos  proven above\n",
      "                                                                  condition 2^(t) > 0  proven above\n",
      "                                                                  condition (2 * |(2 * pi * (delta - l / 2^(t)))|) / pi <= |(1 - e^(i * (2 * pi * (delta - l / 2^(t)))))|  assuming l != 0, l in \\{((-2^(t - 1)) + 1)...2^(t - 1)\\} \n",
      "                                                                    implication (|(1 - e^(i * (2 * pi * (delta - l / 2^(t)))))| >= (2 * |(2 * pi * (delta - l / 2^(t)))|) / pi) => ((2 * |(2 * pi * (delta - l / 2^(t)))|) / pi <= |(1 - e^(i * (2 * pi * (delta - l / 2^(t)))))|) \n",
      "                                                                      specializing forall_{x, y} ((x >= y) => (y <= x)) \n",
      "                                                                        by axiom proveit.number.reverseGreaterThanEquals\n",
      "                                                                    hypothesis |(1 - e^(i * (2 * pi * (delta - l / 2^(t)))))| >= (2 * |(2 * pi * (delta - l / 2^(t)))|) / pi  assuming l != 0, l in \\{((-2^(t - 1)) + 1)...2^(t - 1)\\} \n",
      "                                                                      specializing forall_{theta in [(-pi),pi]} (|(1 - e^(i * theta))| >= (2 * |theta|) / pi) \n",
      "                                                                        by theorem proveit.trigonometry.boundedUnitModulusDiff\n",
      "                                                                      condition (2 * pi * (delta - l / 2^(t))) in [(-pi),pi]  assuming l != 0, l in \\{((-2^(t - 1)) + 1)...2^(t - 1)\\} \n",
      "                                                                        specializing forall_{l in \\{((-2^(t - 1)) + 1)...2^(t - 1)\\}} ((2 * pi * (delta - l / 2^(t))) in [(-pi),pi]) \n",
      "                                                                          by theorem proveit.physics.quantum.QPE.scaledDeltaDiffInInterval\n",
      "                                                                        condition l in \\{((-2^(t - 1)) + 1)...2^(t - 1)\\}  assuming l in \\{((-2^(t - 1)) + 1)...2^(t - 1)\\}  proven above\n",
      "                                                  condition |alpha_{l}| >= 0  assuming l != 0, l in \\{((-2^(t - 1)) + 1)...2^(t - 1)\\} \n",
      "                                                    implication ((|alpha_{l}| in Reals) and (|alpha_{l}| >= 0)) => (|alpha_{l}| >= 0) \n",
      "                                                      specializing forall_{..A.., B, ..C..} (( .. and A and ..  and B and  .. and C and .. ) => B)  proven above\n",
      "                                                    hypothesis (|alpha_{l}| in Reals) and (|alpha_{l}| >= 0)  assuming l != 0, l in \\{((-2^(t - 1)) + 1)...2^(t - 1)\\}  proven above\n",
      "                                                  condition 2 > 0  proven above\n",
      "                                                  condition (2^(t) * (2 * 2 * |(delta - l / 2^(t))|)) > 0  assuming l != 0, l in \\{((-2^(t - 1)) + 1)...2^(t - 1)\\} \n",
      "                                                    implication ((2^(t) * (2 * 2 * |(delta - l / 2^(t))|)) in RealsPos) => ((2^(t) * (2 * 2 * |(delta - l / 2^(t))|)) > 0) \n",
      "                                                      hypothetically reasoning (2^(t) * (2 * 2 * |(delta - l / 2^(t))|)) > 0  assuming (2^(t) * (2 * 2 * |(delta - l / 2^(t))|)) in RealsPos \n",
      "                                                        implication ((2^(t) * (2 * 2 * |(delta - l / 2^(t))|)) in RealsPos) => ((2^(t) * (2 * 2 * |(delta - l / 2^(t))|)) > 0)  assuming (2^(t) * (2 * 2 * |(delta - l / 2^(t))|)) in RealsPos \n",
      "                                                          implication (((2^(t) * (2 * 2 * |(delta - l / 2^(t))|)) in RealsPos) <=> ((2^(t) * (2 * 2 * |(delta - l / 2^(t))|)) > 0)) => (((2^(t) * (2 * 2 * |(delta - l / 2^(t))|)) in RealsPos) => ((2^(t) * (2 * 2 * |(delta - l / 2^(t))|)) > 0)) \n",
      "                                                            specializing forall_{A, B} ((A <=> B) => (A => B))  proven above\n",
      "                                                          hypothesis ((2^(t) * (2 * 2 * |(delta - l / 2^(t))|)) in RealsPos) <=> ((2^(t) * (2 * 2 * |(delta - l / 2^(t))|)) > 0)  assuming (2^(t) * (2 * 2 * |(delta - l / 2^(t))|)) in RealsPos \n",
      "                                                            specializing forall_{a in Reals} ((a in RealsPos) <=> (a > 0))  proven above\n",
      "                                                            condition (2^(t) * (2 * 2 * |(delta - l / 2^(t))|)) in Reals  assuming (2^(t) * (2 * 2 * |(delta - l / 2^(t))|)) in RealsPos \n",
      "                                                              specializing forall_{a in RealsPos} (a in Reals)  proven above\n",
      "                                                              condition (2^(t) * (2 * 2 * |(delta - l / 2^(t))|)) in RealsPos  assuming (2^(t) * (2 * 2 * |(delta - l / 2^(t))|)) in RealsPos \n",
      "                                                        hypothesis (2^(t) * (2 * 2 * |(delta - l / 2^(t))|)) in RealsPos  assuming (2^(t) * (2 * 2 * |(delta - l / 2^(t))|)) in RealsPos  proven above\n",
      "                                                    hypothesis (2^(t) * (2 * 2 * |(delta - l / 2^(t))|)) in RealsPos  assuming l != 0, l in \\{((-2^(t - 1)) + 1)...2^(t - 1)\\} \n",
      "                                                      specializing forall_{..x.. in RealsPos} (( .. * x * .. ) in RealsPos)  proven above\n",
      "                                                      condition 2^(t) in RealsPos  proven above\n",
      "                                                      condition (2 * 2 * |(delta - l / 2^(t))|) in RealsPos  assuming l != 0, l in \\{((-2^(t - 1)) + 1)...2^(t - 1)\\}  proven above\n",
      "                                                  condition 2 in Reals  proven above\n",
      "                                                  condition (2^(t) * |(1 - e^(i * (2 * pi * (delta - l / 2^(t)))))|) > 0  assuming l != 0, l in \\{((-2^(t - 1)) + 1)...2^(t - 1)\\} \n",
      "                                                    implication ((2^(t) * |(1 - e^(i * (2 * pi * (delta - l / 2^(t)))))|) in RealsPos) => ((2^(t) * |(1 - e^(i * (2 * pi * (delta - l / 2^(t)))))|) > 0) \n",
      "                                                      hypothetically reasoning (2^(t) * |(1 - e^(i * (2 * pi * (delta - l / 2^(t)))))|) > 0  assuming (2^(t) * |(1 - e^(i * (2 * pi * (delta - l / 2^(t)))))|) in RealsPos \n",
      "                                                        implication ((2^(t) * |(1 - e^(i * (2 * pi * (delta - l / 2^(t)))))|) in RealsPos) => ((2^(t) * |(1 - e^(i * (2 * pi * (delta - l / 2^(t)))))|) > 0)  assuming (2^(t) * |(1 - e^(i * (2 * pi * (delta - l / 2^(t)))))|) in RealsPos \n",
      "                                                          implication (((2^(t) * |(1 - e^(i * (2 * pi * (delta - l / 2^(t)))))|) in RealsPos) <=> ((2^(t) * |(1 - e^(i * (2 * pi * (delta - l / 2^(t)))))|) > 0)) => (((2^(t) * |(1 - e^(i * (2 * pi * (delta - l / 2^(t)))))|) in RealsPos) => ((2^(t) * |(1 - e^(i * (2 * pi * (delta - l / 2^(t)))))|) > 0)) \n",
      "                                                            specializing forall_{A, B} ((A <=> B) => (A => B))  proven above\n",
      "                                                          hypothesis ((2^(t) * |(1 - e^(i * (2 * pi * (delta - l / 2^(t)))))|) in RealsPos) <=> ((2^(t) * |(1 - e^(i * (2 * pi * (delta - l / 2^(t)))))|) > 0)  assuming (2^(t) * |(1 - e^(i * (2 * pi * (delta - l / 2^(t)))))|) in RealsPos \n",
      "                                                            specializing forall_{a in Reals} ((a in RealsPos) <=> (a > 0))  proven above\n",
      "                                                            condition (2^(t) * |(1 - e^(i * (2 * pi * (delta - l / 2^(t)))))|) in Reals  assuming (2^(t) * |(1 - e^(i * (2 * pi * (delta - l / 2^(t)))))|) in RealsPos \n",
      "                                                              specializing forall_{a in RealsPos} (a in Reals)  proven above\n",
      "                                                              condition (2^(t) * |(1 - e^(i * (2 * pi * (delta - l / 2^(t)))))|) in RealsPos  assuming (2^(t) * |(1 - e^(i * (2 * pi * (delta - l / 2^(t)))))|) in RealsPos \n",
      "                                                        hypothesis (2^(t) * |(1 - e^(i * (2 * pi * (delta - l / 2^(t)))))|) in RealsPos  assuming (2^(t) * |(1 - e^(i * (2 * pi * (delta - l / 2^(t)))))|) in RealsPos  proven above\n",
      "                                                    hypothesis (2^(t) * |(1 - e^(i * (2 * pi * (delta - l / 2^(t)))))|) in RealsPos  assuming l != 0, l in \\{((-2^(t - 1)) + 1)...2^(t - 1)\\}  proven above\n",
      "                                                  condition (2^(t) * (2 * 2 * |(delta - l / 2^(t))|)) in Reals  assuming l != 0, l in \\{((-2^(t - 1)) + 1)...2^(t - 1)\\} \n",
      "                                                    specializing forall_{a in RealsPos} (a in Reals)  proven above\n",
      "                                                    condition (2^(t) * (2 * 2 * |(delta - l / 2^(t))|)) in RealsPos  assuming l != 0, l in \\{((-2^(t - 1)) + 1)...2^(t - 1)\\}  proven above\n",
      "                                                  condition |alpha_{l}| <= 2 / (2^(t) * |(1 - e^(i * (2 * pi * (delta - l / 2^(t)))))|)  assuming l != 0, l in \\{((-2^(t - 1)) + 1)...2^(t - 1)\\} \n",
      "                                                    implication (|alpha_{l}| <= 2 / (2^(t) * |(1 - e^(i * 2 * pi * (delta - l / 2^(t))))|)) => (|alpha_{l}| <= 2 / (2^(t) * |(1 - e^(i * (2 * pi * (delta - l / 2^(t)))))|))  assuming l != 0, l in \\{((-2^(t - 1)) + 1)...2^(t - 1)\\} \n",
      "                                                      implication ((i * 2 * pi * (delta - l / 2^(t))) = (i * (2 * pi * (delta - l / 2^(t))))) => ((|alpha_{l}| <= 2 / (2^(t) * |(1 - e^(i * 2 * pi * (delta - l / 2^(t))))|)) => (|alpha_{l}| <= 2 / (2^(t) * |(1 - e^(i * (2 * pi * (delta - l / 2^(t)))))|))) \n",
      "                                                        specializing forall_{P, x, y} ((x = y) => (P(x) => P(y)))  proven above\n",
      "                                                      hypothesis (i * 2 * pi * (delta - l / 2^(t))) = (i * (2 * pi * (delta - l / 2^(t))))  assuming l != 0, l in \\{((-2^(t - 1)) + 1)...2^(t - 1)\\}  proven above\n",
      "                                                    hypothesis |alpha_{l}| <= 2 / (2^(t) * |(1 - e^(i * 2 * pi * (delta - l / 2^(t))))|)  assuming l != 0, l in \\{((-2^(t - 1)) + 1)...2^(t - 1)\\} \n",
      "                                                      implication (|(1 - e^(i * (2 * pi * ((2^(t) * delta) - l))))| / (2^(t) * |(1 - e^(i * 2 * pi * (delta - l / 2^(t))))|) <= 2 / (2^(t) * |(1 - e^(i * 2 * pi * (delta - l / 2^(t))))|)) => (|alpha_{l}| <= 2 / (2^(t) * |(1 - e^(i * 2 * pi * (delta - l / 2^(t))))|))  assuming l != 0, l in \\{((-2^(t - 1)) + 1)...2^(t - 1)\\} \n",
      "                                                        implication (|alpha_{l}| = |(1 - e^(i * (2 * pi * ((2^(t) * delta) - l))))| / (2^(t) * |(1 - e^(i * 2 * pi * (delta - l / 2^(t))))|)) => ((|(1 - e^(i * (2 * pi * ((2^(t) * delta) - l))))| / (2^(t) * |(1 - e^(i * 2 * pi * (delta - l / 2^(t))))|) <= 2 / (2^(t) * |(1 - e^(i * 2 * pi * (delta - l / 2^(t))))|)) => (|alpha_{l}| <= 2 / (2^(t) * |(1 - e^(i * 2 * pi * (delta - l / 2^(t))))|))) \n",
      "                                                          specializing forall_{P, x, y} ((x = y) => (P(y) => P(x)))  proven above\n",
      "                                                        hypothesis |alpha_{l}| = |(1 - e^(i * (2 * pi * ((2^(t) * delta) - l))))| / (2^(t) * |(1 - e^(i * 2 * pi * (delta - l / 2^(t))))|)  assuming l != 0, l in \\{((-2^(t - 1)) + 1)...2^(t - 1)\\} \n",
      "                                                          implication (|alpha_{l}| = |(1 - e^(i * 2 * pi * ((2^(t) * delta) - l)))| / (2^(t) * |(1 - e^(i * 2 * pi * (delta - l / 2^(t))))|)) => (|alpha_{l}| = |(1 - e^(i * (2 * pi * ((2^(t) * delta) - l))))| / (2^(t) * |(1 - e^(i * 2 * pi * (delta - l / 2^(t))))|))  assuming l != 0, l in \\{((-2^(t - 1)) + 1)...2^(t - 1)\\} \n",
      "                                                            implication ((i * 2 * pi * ((2^(t) * delta) - l)) = (i * (2 * pi * ((2^(t) * delta) - l)))) => ((|alpha_{l}| = |(1 - e^(i * 2 * pi * ((2^(t) * delta) - l)))| / (2^(t) * |(1 - e^(i * 2 * pi * (delta - l / 2^(t))))|)) => (|alpha_{l}| = |(1 - e^(i * (2 * pi * ((2^(t) * delta) - l))))| / (2^(t) * |(1 - e^(i * 2 * pi * (delta - l / 2^(t))))|))) \n",
      "                                                              specializing forall_{P, x, y} ((x = y) => (P(x) => P(y)))  proven above\n",
      "                                                            hypothesis (i * 2 * pi * ((2^(t) * delta) - l)) = (i * (2 * pi * ((2^(t) * delta) - l)))  assuming l != 0, l in \\{((-2^(t - 1)) + 1)...2^(t - 1)\\} \n",
      "                                                              specializing forall_{..x.., ..y.., ..z.. in Complexes} (( .. * x * ... * y * ... * z * .. ) = ( .. * x * ..  * ( .. * y * .. ) *  .. * z * .. ))  proven above\n",
      "                                                              condition pi in Complexes  proven above\n",
      "                                                              condition 2 in Complexes  proven above\n",
      "                                                              condition i in Complexes  proven above\n",
      "                                                              condition ((2^(t) * delta) - l) in Complexes  assuming l != 0, l in \\{((-2^(t - 1)) + 1)...2^(t - 1)\\} \n",
      "                                                                specializing forall_{a in Reals} (a in Complexes)  proven above\n",
      "                                                                condition ((2^(t) * delta) - l) in Reals  assuming l != 0, l in \\{((-2^(t - 1)) + 1)...2^(t - 1)\\} \n",
      "                                                                  specializing forall_{a, b in Reals} ((a - b) in Reals)  proven above\n",
      "                                                                  condition l in Reals  assuming l != 0, l in \\{((-2^(t - 1)) + 1)...2^(t - 1)\\}  proven above\n",
      "                                                                  condition (2^(t) * delta) in Reals \n",
      "                                                                    specializing forall_{..x.. in Reals} (( .. * x * .. ) in Reals)  proven above\n",
      "                                                                    condition delta in Reals  proven above\n",
      "                                                                    condition 2^(t) in Reals  proven above\n",
      "                                                          hypothesis |alpha_{l}| = |(1 - e^(i * 2 * pi * ((2^(t) * delta) - l)))| / (2^(t) * |(1 - e^(i * 2 * pi * (delta - l / 2^(t))))|)  assuming l != 0, l in \\{((-2^(t - 1)) + 1)...2^(t - 1)\\} \n",
      "                                                            implication (|alpha_{l}| = |(1 - e^(i * 2 * pi * ((2^(t) * delta) - l)))| / (2^(t) * |(1 - e^(2 * pi * i * (delta - l / 2^(t))))|)) => (|alpha_{l}| = |(1 - e^(i * 2 * pi * ((2^(t) * delta) - l)))| / (2^(t) * |(1 - e^(i * 2 * pi * (delta - l / 2^(t))))|))  assuming l != 0, l in \\{((-2^(t - 1)) + 1)...2^(t - 1)\\} \n",
      "                                                              implication ((2 * pi * i * (delta - l / 2^(t))) = (i * 2 * pi * (delta - l / 2^(t)))) => ((|alpha_{l}| = |(1 - e^(i * 2 * pi * ((2^(t) * delta) - l)))| / (2^(t) * |(1 - e^(2 * pi * i * (delta - l / 2^(t))))|)) => (|alpha_{l}| = |(1 - e^(i * 2 * pi * ((2^(t) * delta) - l)))| / (2^(t) * |(1 - e^(i * 2 * pi * (delta - l / 2^(t))))|))) \n",
      "                                                                specializing forall_{P, x, y} ((x = y) => (P(x) => P(y)))  proven above\n",
      "                                                              hypothesis (2 * pi * i * (delta - l / 2^(t))) = (i * 2 * pi * (delta - l / 2^(t)))  assuming l != 0, l in \\{((-2^(t - 1)) + 1)...2^(t - 1)\\}  proven above\n",
      "                                                            hypothesis |alpha_{l}| = |(1 - e^(i * 2 * pi * ((2^(t) * delta) - l)))| / (2^(t) * |(1 - e^(2 * pi * i * (delta - l / 2^(t))))|)  assuming l != 0, l in \\{((-2^(t - 1)) + 1)...2^(t - 1)\\} \n",
      "                                                              implication (|alpha_{l}| = |(1 - e^(2 * pi * i * ((2^(t) * delta) - l)))| / (2^(t) * |(1 - e^(2 * pi * i * (delta - l / 2^(t))))|)) => (|alpha_{l}| = |(1 - e^(i * 2 * pi * ((2^(t) * delta) - l)))| / (2^(t) * |(1 - e^(2 * pi * i * (delta - l / 2^(t))))|))  assuming l != 0, l in \\{((-2^(t - 1)) + 1)...2^(t - 1)\\} \n",
      "                                                                implication ((2 * pi * i * ((2^(t) * delta) - l)) = (i * 2 * pi * ((2^(t) * delta) - l))) => ((|alpha_{l}| = |(1 - e^(2 * pi * i * ((2^(t) * delta) - l)))| / (2^(t) * |(1 - e^(2 * pi * i * (delta - l / 2^(t))))|)) => (|alpha_{l}| = |(1 - e^(i * 2 * pi * ((2^(t) * delta) - l)))| / (2^(t) * |(1 - e^(2 * pi * i * (delta - l / 2^(t))))|))) \n",
      "                                                                  specializing forall_{P, x, y} ((x = y) => (P(x) => P(y)))  proven above\n",
      "                                                                hypothesis (2 * pi * i * ((2^(t) * delta) - l)) = (i * 2 * pi * ((2^(t) * delta) - l))  assuming l != 0, l in \\{((-2^(t - 1)) + 1)...2^(t - 1)\\} \n",
      "                                                                  specializing forall_{..v.., ..w.., ..x.., ..y.., ..z.. in Complexes} (( .. * v * ... * w * ... * x * ... * y * ... * z * .. ) = ( .. * v * ... * y * ... * x * ... * w * ... * z * .. ))  proven above\n",
      "                                                                  condition pi in Complexes  proven above\n",
      "                                                                  condition 2 in Complexes  proven above\n",
      "                                                                  condition i in Complexes  proven above\n",
      "                                                                  condition ((2^(t) * delta) - l) in Complexes  assuming l != 0, l in \\{((-2^(t - 1)) + 1)...2^(t - 1)\\}  proven above\n",
      "                                                              hypothesis |alpha_{l}| = |(1 - e^(2 * pi * i * ((2^(t) * delta) - l)))| / (2^(t) * |(1 - e^(2 * pi * i * (delta - l / 2^(t))))|)  assuming l != 0, l in \\{((-2^(t - 1)) + 1)...2^(t - 1)\\} \n",
      "                                                                specializing forall_{l in Integers} (|alpha_{l}| = |(1 - e^(2 * pi * i * ((2^(t) * delta) - l)))| / (2^(t) * |(1 - e^(2 * pi * i * (delta - l / 2^(t))))|)) \n",
      "                                                                  by theorem proveit.physics.quantum.QPE.alpha_l_summed_abs\n",
      "                                                                condition l in Integers  assuming l != 0, l in \\{((-2^(t - 1)) + 1)...2^(t - 1)\\}  proven above\n",
      "                                                      hypothesis |(1 - e^(i * (2 * pi * ((2^(t) * delta) - l))))| / (2^(t) * |(1 - e^(i * 2 * pi * (delta - l / 2^(t))))|) <= 2 / (2^(t) * |(1 - e^(i * 2 * pi * (delta - l / 2^(t))))|)  assuming l != 0, l in \\{((-2^(t - 1)) + 1)...2^(t - 1)\\} \n",
      "                                                        specializing forall_{a, b, c in Reals | a <= c, b > 0} (a / b <= c / b) \n",
      "                                                          by theorem proveit.number.real.divIneqThm1\n",
      "                                                        condition |(1 - e^(i * (2 * pi * ((2^(t) * delta) - l))))| <= 2  assuming l != 0, l in \\{((-2^(t - 1)) + 1)...2^(t - 1)\\} \n",
      "                                                          specializing forall_{theta in Reals} (|(1 - e^(i * theta))| <= 2) \n",
      "                                                            by theorem proveit.number.real.ineqThm9\n",
      "                                                          condition (2 * pi * ((2^(t) * delta) - l)) in Reals  assuming l != 0, l in \\{((-2^(t - 1)) + 1)...2^(t - 1)\\} \n",
      "                                                            specializing forall_{..x.. in Reals} (( .. * x * .. ) in Reals)  proven above\n",
      "                                                            condition ((2^(t) * delta) - l) in Reals  assuming l != 0, l in \\{((-2^(t - 1)) + 1)...2^(t - 1)\\}  proven above\n",
      "                                                            condition 2 in Reals  proven above\n",
      "                                                            condition pi in Reals  proven above\n",
      "                                                        condition (2^(t) * |(1 - e^(i * 2 * pi * (delta - l / 2^(t))))|) > 0  assuming l != 0, l in \\{((-2^(t - 1)) + 1)...2^(t - 1)\\} \n",
      "                                                          implication ((2^(t) * |(1 - e^(i * 2 * pi * (delta - l / 2^(t))))|) in RealsPos) => ((2^(t) * |(1 - e^(i * 2 * pi * (delta - l / 2^(t))))|) > 0)  assuming l != 0, l in \\{((-2^(t - 1)) + 1)...2^(t - 1)\\} \n",
      "                                                            implication (((2^(t) * |(1 - e^(i * 2 * pi * (delta - l / 2^(t))))|) in RealsPos) <=> ((2^(t) * |(1 - e^(i * 2 * pi * (delta - l / 2^(t))))|) > 0)) => (((2^(t) * |(1 - e^(i * 2 * pi * (delta - l / 2^(t))))|) in RealsPos) => ((2^(t) * |(1 - e^(i * 2 * pi * (delta - l / 2^(t))))|) > 0)) \n",
      "                                                              specializing forall_{A, B} ((A <=> B) => (A => B))  proven above\n",
      "                                                            hypothesis ((2^(t) * |(1 - e^(i * 2 * pi * (delta - l / 2^(t))))|) in RealsPos) <=> ((2^(t) * |(1 - e^(i * 2 * pi * (delta - l / 2^(t))))|) > 0)  assuming l != 0, l in \\{((-2^(t - 1)) + 1)...2^(t - 1)\\} \n",
      "                                                              specializing forall_{a in Reals} ((a in RealsPos) <=> (a > 0))  proven above\n",
      "                                                              condition (2^(t) * |(1 - e^(i * 2 * pi * (delta - l / 2^(t))))|) in Reals  assuming l != 0, l in \\{((-2^(t - 1)) + 1)...2^(t - 1)\\} \n",
      "                                                                specializing forall_{a in RealsPos} (a in Reals)  proven above\n",
      "                                                                condition (2^(t) * |(1 - e^(i * 2 * pi * (delta - l / 2^(t))))|) in RealsPos  assuming l != 0, l in \\{((-2^(t - 1)) + 1)...2^(t - 1)\\} \n",
      "                                                                  specializing forall_{..x.. in RealsPos} (( .. * x * .. ) in RealsPos)  proven above\n",
      "                                                                  condition 2^(t) in RealsPos  proven above\n",
      "                                                                  condition |(1 - e^(i * 2 * pi * (delta - l / 2^(t))))| in RealsPos  assuming l != 0, l in \\{((-2^(t - 1)) + 1)...2^(t - 1)\\} \n",
      "                                                                    specializing forall_{a in Complexes | a != 0} (|a| in RealsPos)  proven above\n",
      "                                                                    condition (1 - e^(i * 2 * pi * (delta - l / 2^(t)))) != 0  assuming l != 0, l in \\{((-2^(t - 1)) + 1)...2^(t - 1)\\} \n",
      "                                                                      specializing forall_{a, b in Complexes | a != b} ((a - b) != 0)  proven above\n",
      "                                                                      condition 1 in Complexes  proven above\n",
      "                                                                      condition e^(i * 2 * pi * (delta - l / 2^(t))) in Complexes  assuming l != 0, l in \\{((-2^(t - 1)) + 1)...2^(t - 1)\\} \n",
      "                                                                        specializing forall_{a, b in Complexes | a != 0} (a^(b) in Complexes)  proven above\n",
      "                                                                        condition (i * 2 * pi * (delta - l / 2^(t))) in Complexes  assuming l != 0, l in \\{((-2^(t - 1)) + 1)...2^(t - 1)\\} \n",
      "                                                                          specializing forall_{..x.. in Complexes} (( .. * x * .. ) in Complexes)  proven above\n",
      "                                                                          condition (delta - l / 2^(t)) in Complexes  assuming l != 0, l in \\{((-2^(t - 1)) + 1)...2^(t - 1)\\}  proven above\n",
      "                                                                          condition pi in Complexes  proven above\n",
      "                                                                          condition 2 in Complexes  proven above\n",
      "                                                                          condition i in Complexes  proven above\n",
      "                                                                        condition e != 0  proven above\n",
      "                                                                        condition e in Complexes  proven above\n",
      "                                                                      condition 1 != e^(i * 2 * pi * (delta - l / 2^(t)))  assuming l != 0, l in \\{((-2^(t - 1)) + 1)...2^(t - 1)\\} \n",
      "                                                                        implication (e^(i * 2 * pi * (delta - l / 2^(t))) != 1) => (1 != e^(i * 2 * pi * (delta - l / 2^(t)))) \n",
      "                                                                          specializing forall_{x, y} ((x != y) => (y != x))  proven above\n",
      "                                                                        hypothesis e^(i * 2 * pi * (delta - l / 2^(t))) != 1  assuming l != 0, l in \\{((-2^(t - 1)) + 1)...2^(t - 1)\\} \n",
      "                                                                          implication (e^(2 * pi * i * (delta - l / 2^(t))) != 1) => (e^(i * 2 * pi * (delta - l / 2^(t))) != 1)  assuming l != 0, l in \\{((-2^(t - 1)) + 1)...2^(t - 1)\\} \n",
      "                                                                            implication ((2 * pi * i * (delta - l / 2^(t))) = (i * 2 * pi * (delta - l / 2^(t)))) => ((e^(2 * pi * i * (delta - l / 2^(t))) != 1) => (e^(i * 2 * pi * (delta - l / 2^(t))) != 1)) \n",
      "                                                                              specializing forall_{P, x, y} ((x = y) => (P(x) => P(y)))  proven above\n",
      "                                                                            hypothesis (2 * pi * i * (delta - l / 2^(t))) = (i * 2 * pi * (delta - l / 2^(t)))  assuming l != 0, l in \\{((-2^(t - 1)) + 1)...2^(t - 1)\\}  proven above\n",
      "                                                                          hypothesis e^(2 * pi * i * (delta - l / 2^(t))) != 1  assuming l != 0, l in \\{((-2^(t - 1)) + 1)...2^(t - 1)\\}  proven above\n",
      "                                                                    condition (1 - e^(i * 2 * pi * (delta - l / 2^(t)))) in Complexes  assuming l != 0, l in \\{((-2^(t - 1)) + 1)...2^(t - 1)\\} \n",
      "                                                                      specializing forall_{a, b in Complexes} ((a - b) in Complexes)  proven above\n",
      "                                                                      condition 1 in Complexes  proven above\n",
      "                                                                      condition e^(i * 2 * pi * (delta - l / 2^(t))) in Complexes  assuming l != 0, l in \\{((-2^(t - 1)) + 1)...2^(t - 1)\\}  proven above\n",
      "                                                          hypothesis (2^(t) * |(1 - e^(i * 2 * pi * (delta - l / 2^(t))))|) in RealsPos  assuming l != 0, l in \\{((-2^(t - 1)) + 1)...2^(t - 1)\\}  proven above\n",
      "                                                        condition |(1 - e^(i * (2 * pi * ((2^(t) * delta) - l))))| in Reals  assuming l != 0, l in \\{((-2^(t - 1)) + 1)...2^(t - 1)\\} \n",
      "                                                          specializing forall_{a in Complexes} (|a| in Reals) \n",
      "                                                            by theorem proveit.number.complex.absClosure\n",
      "                                                          condition (1 - e^(i * (2 * pi * ((2^(t) * delta) - l)))) in Complexes  assuming l != 0, l in \\{((-2^(t - 1)) + 1)...2^(t - 1)\\} \n",
      "                                                            specializing forall_{a, b in Complexes} ((a - b) in Complexes)  proven above\n",
      "                                                            condition 1 in Complexes  proven above\n",
      "                                                            condition e^(i * (2 * pi * ((2^(t) * delta) - l))) in Complexes  assuming l != 0, l in \\{((-2^(t - 1)) + 1)...2^(t - 1)\\} \n",
      "                                                              specializing forall_{a, b in Complexes | a != 0} (a^(b) in Complexes)  proven above\n",
      "                                                              condition (i * (2 * pi * ((2^(t) * delta) - l))) in Complexes  assuming l != 0, l in \\{((-2^(t - 1)) + 1)...2^(t - 1)\\} \n",
      "                                                                specializing forall_{..x.. in Complexes} (( .. * x * .. ) in Complexes)  proven above\n",
      "                                                                condition (2 * pi * ((2^(t) * delta) - l)) in Complexes  assuming l != 0, l in \\{((-2^(t - 1)) + 1)...2^(t - 1)\\} \n",
      "                                                                  specializing forall_{a in Reals} (a in Complexes)  proven above\n",
      "                                                                  condition (2 * pi * ((2^(t) * delta) - l)) in Reals  assuming l != 0, l in \\{((-2^(t - 1)) + 1)...2^(t - 1)\\}  proven above\n",
      "                                                                condition i in Complexes  proven above\n",
      "                                                              condition e != 0  proven above\n",
      "                                                              condition e in Complexes  proven above\n",
      "                                                        condition (2^(t) * |(1 - e^(i * 2 * pi * (delta - l / 2^(t))))|) in Reals  assuming l != 0, l in \\{((-2^(t - 1)) + 1)...2^(t - 1)\\}  proven above\n",
      "                                                        condition 2 in Reals  proven above\n",
      "                                          condition 1 / (2^(t + 1) * |(delta - l / 2^(t))|) in Reals  assuming l != 0, l in \\{((-2^(t - 1)) + 1)...2^(t - 1)\\} \n",
      "                                            specializing forall_{a in RealsPos} (a in Reals)  proven above\n",
      "                                            condition 1 / (2^(t + 1) * |(delta - l / 2^(t))|) in RealsPos  assuming l != 0, l in \\{((-2^(t - 1)) + 1)...2^(t - 1)\\} \n",
      "                                              specializing forall_{a, b in RealsPos | b != 0} (a / b in RealsPos)  proven above\n",
      "                                              condition (2^(t + 1) * |(delta - l / 2^(t))|) != 0  assuming l != 0, l in \\{((-2^(t - 1)) + 1)...2^(t - 1)\\} \n",
      "                                                specializing forall_{a in Reals | a > 0} (a != 0)  proven above\n",
      "                                                condition (2^(t + 1) * |(delta - l / 2^(t))|) > 0  assuming l != 0, l in \\{((-2^(t - 1)) + 1)...2^(t - 1)\\} \n",
      "                                                  implication ((2^(t + 1) * |(delta - l / 2^(t))|) in RealsPos) => ((2^(t + 1) * |(delta - l / 2^(t))|) > 0) \n",
      "                                                    hypothetically reasoning (2^(t + 1) * |(delta - l / 2^(t))|) > 0  assuming (2^(t + 1) * |(delta - l / 2^(t))|) in RealsPos \n",
      "                                                      implication ((2^(t + 1) * |(delta - l / 2^(t))|) in RealsPos) => ((2^(t + 1) * |(delta - l / 2^(t))|) > 0)  assuming (2^(t + 1) * |(delta - l / 2^(t))|) in RealsPos \n",
      "                                                        implication (((2^(t + 1) * |(delta - l / 2^(t))|) in RealsPos) <=> ((2^(t + 1) * |(delta - l / 2^(t))|) > 0)) => (((2^(t + 1) * |(delta - l / 2^(t))|) in RealsPos) => ((2^(t + 1) * |(delta - l / 2^(t))|) > 0)) \n",
      "                                                          specializing forall_{A, B} ((A <=> B) => (A => B))  proven above\n",
      "                                                        hypothesis ((2^(t + 1) * |(delta - l / 2^(t))|) in RealsPos) <=> ((2^(t + 1) * |(delta - l / 2^(t))|) > 0)  assuming (2^(t + 1) * |(delta - l / 2^(t))|) in RealsPos \n",
      "                                                          specializing forall_{a in Reals} ((a in RealsPos) <=> (a > 0))  proven above\n",
      "                                                          condition (2^(t + 1) * |(delta - l / 2^(t))|) in Reals  assuming (2^(t + 1) * |(delta - l / 2^(t))|) in RealsPos \n",
      "                                                            specializing forall_{a in RealsPos} (a in Reals)  proven above\n",
      "                                                            condition (2^(t + 1) * |(delta - l / 2^(t))|) in RealsPos  assuming (2^(t + 1) * |(delta - l / 2^(t))|) in RealsPos \n",
      "                                                      hypothesis (2^(t + 1) * |(delta - l / 2^(t))|) in RealsPos  assuming (2^(t + 1) * |(delta - l / 2^(t))|) in RealsPos  proven above\n",
      "                                                  hypothesis (2^(t + 1) * |(delta - l / 2^(t))|) in RealsPos  assuming l != 0, l in \\{((-2^(t - 1)) + 1)...2^(t - 1)\\}  proven above\n",
      "                                                condition (2^(t + 1) * |(delta - l / 2^(t))|) in Reals  assuming l != 0, l in \\{((-2^(t - 1)) + 1)...2^(t - 1)\\} \n",
      "                                                  specializing forall_{a in RealsPos} (a in Reals)  proven above\n",
      "                                                  condition (2^(t + 1) * |(delta - l / 2^(t))|) in RealsPos  assuming l != 0, l in \\{((-2^(t - 1)) + 1)...2^(t - 1)\\}  proven above\n",
      "                                              condition 1 in RealsPos \n",
      "                                                specializing forall_{a in NaturalsPos} (a in RealsPos)  proven above\n",
      "                                                condition 1 in NaturalsPos  proven above\n",
      "                                              condition (2^(t + 1) * |(delta - l / 2^(t))|) in RealsPos  assuming l != 0, l in \\{((-2^(t - 1)) + 1)...2^(t - 1)\\}  proven above\n",
      "proveit.basiclogic.boolean.andImpliesEach\n",
      "proveit.basiclogic.equality.equalsTransitivity\n",
      "proveit.basiclogic.equality.substitution\n",
      "proveit.number.reverseGreaterThanEquals\n",
      "proveit.number.reverseLessThanEquals\n",
      "proveit.physics.quantum.QPE.tInNaturalsPos\n",
      "proveit.basiclogic.boolean.iffImpliesRight\n",
      "proveit.basiclogic.equality.lhsSubstitution\n",
      "proveit.basiclogic.equality.notEqualsSymmetry\n",
      "proveit.basiclogic.equality.rhsSubstitution\n",
      "proveit.number.complex.absClosure\n",
      "proveit.number.complex.absPosClosure\n",
      "proveit.number.complex.absProd\n",
      "proveit.number.complex.diffNotEqZero\n",
      "proveit.number.complex.diffSquareComm\n",
      "proveit.number.complex.expAdd1a\n",
      "proveit.number.complex.expOne\n",
      "proveit.number.complex.fracCancel2\n",
      "proveit.number.complex.fracCancel3\n",
      "proveit.number.complex.fracCancel4\n",
      "proveit.number.complex.fracExp\n",
      "proveit.number.complex.inComplexesSansZero\n",
      "proveit.number.complex.multAssoc\n",
      "proveit.number.complex.multAssocRev\n",
      "proveit.number.complex.multClosure\n",
      "proveit.number.complex.multComm\n",
      "proveit.number.complex.multNotEqZero\n",
      "proveit.number.complex.multOne\n",
      "proveit.number.complex.multOverAdd\n",
      "proveit.number.complex.multOverSubtract\n",
      "proveit.number.complex.powClosure\n",
      "proveit.number.complex.powOfPow\n",
      "proveit.number.complex.powOfProd\n",
      "proveit.number.complex.samePowDistribute\n",
      "proveit.number.complex.squarePosIneq\n",
      "proveit.number.complex.subtractClosure\n",
      "proveit.number.complex.sumInPow\n",
      "proveit.number.integer.addClosure\n",
      "proveit.number.integer.allInDiscreteInterval_InInts\n",
      "proveit.number.integer.inComplexes\n",
      "proveit.number.integer.inReals\n",
      "proveit.number.integer.negClosure\n",
      "proveit.number.natural.inNatPos_inComplexes\n",
      "proveit.number.natural.inNatPos_inIntegers\n",
      "proveit.number.natural.inNatPos_inNaturals\n",
      "proveit.number.natural.inNatPos_inReals\n",
      "proveit.number.natural.inNatPos_inRealsPos\n",
      "proveit.number.natural.powClosure\n",
      "proveit.number.natural.sumInNatsPos\n",
      "proveit.number.natural.twoInNaturalsPos\n",
      "proveit.number.natural.twoSquared\n",
      "proveit.number.real.absPos\n",
      "proveit.number.real.absTwoPi\n",
      "proveit.number.real.divIneqThm1\n",
      "proveit.number.real.divIneqThm1cor\n",
      "proveit.number.real.eInRealsPos\n",
      "proveit.number.real.fractionClosure\n",
      "proveit.number.real.fractionPosClosure\n",
      "proveit.number.real.inComplexes\n",
      "proveit.number.real.inRealsPos_iff_positive\n",
      "proveit.number.real.inRealsPos_inComplexes\n",
      "proveit.number.real.inRealsPos_inReals\n",
      "proveit.number.real.ineqThm10a\n",
      "proveit.number.real.ineqThm9\n",
      "proveit.number.real.multClosure\n",
      "proveit.number.real.multPosClosure\n",
      "proveit.number.real.positive_implies_notzero\n",
      "proveit.number.real.sqrdClosure\n",
      "proveit.number.real.squarePosEq\n",
      "proveit.number.real.subtractClosure\n",
      "proveit.physics.quantum.QPE.all_abs_alpha_l_nonneg\n",
      "proveit.physics.quantum.QPE.all_alpha_l_in_complexes\n",
      "proveit.physics.quantum.QPE.alpha_l_summed_abs\n",
      "proveit.physics.quantum.QPE.deltaInReals\n",
      "proveit.physics.quantum.QPE.delta_notEq_scaledNonzeroInt\n",
      "proveit.physics.quantum.QPE.nonIntDeltaDiff\n",
      "proveit.physics.quantum.QPE.scaledDeltaDiffInInterval\n",
      "proveit.physics.quantum.QPE.two_pow_tMinusOne_in_posnats\n",
      "proveit.trigonometry.boundedUnitModulusDiff\n",
      "proveit.trigonometry.exp_2pi_i_nonInt\n",
      "Number of used axioms: 6\n",
      "Number of used theorms: 74\n",
      "Number of derivation tree nodes: 425\n"
     ]
    },
    {
     "data": {
      "text/latex": [
       "$\\forall_{l \\in \\{\\left(\\left(-2^{t - 1}\\right) + 1\\right)\\ldots 2^{t - 1}\\}~|~l \\neq 0} \\left(\\left|\\alpha_{l}\\right|^{2} \\leq \\frac{1}{4 \\cdot \\left(l - \\left(2^{t} \\cdot \\delta\\right)\\right)^{2}}\\right)$"
      ],
      "text/plain": [
       "$\\forall_{l \\in \\{\\left(\\left(-2^{t - 1}\\right) + 1\\right)\\ldots 2^{t - 1}\\}~|~l \\neq 0} \\left(\\left|\\alpha_{l}\\right|^{2} \\leq \\frac{1}{4 \\cdot \\left(l - \\left(2^{t} \\cdot \\delta\\right)\\right)^{2}}\\right)$"
      ]
     },
     "execution_count": 76,
     "metadata": {},
     "output_type": "execute_result"
    }
   ],
   "source": [
    "X44.generalize(l,domain=domain,conditions=[NotEquals(l, zero)]).qed()"
   ]
  }
 ],
 "metadata": {
  "kernelspec": {
   "display_name": "Python 2",
   "language": "python",
   "name": "python2"
  },
  "language_info": {
   "codemirror_mode": {
    "name": "ipython",
    "version": 2
   },
   "file_extension": ".py",
   "mimetype": "text/x-python",
   "name": "python",
   "nbconvert_exporter": "python",
   "pygments_lexer": "ipython2",
   "version": "2.7.10"
  }
 },
 "nbformat": 4,
 "nbformat_minor": 0
}
