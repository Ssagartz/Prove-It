{
 "cells": [
  {
   "cell_type": "code",
   "execution_count": 1,
   "metadata": {
    "collapsed": false
   },
   "outputs": [],
   "source": [
    "from proveit.number.arithmeticOps import *\n",
    "from proveit.number.relation import Relation\n",
    "from proveit.number.real.theorems import divIneqThm1, divIneqThm1cor, ineqThm9, ineqThm10, ineqThm10a\n",
    "from proveit.number.complex.theorems import absProd #absProdEtc, \n",
    "from proveit.number.complex.theorems import expAdd1a, oneExp, fracExp, expOne, powOfPow, multOverAdd\n",
    "from proveit.number.complex.theorems import multAssoc, multOne, sumInPow, diffSquareComm, samePowDistribute, multOverSubtract\n",
    "from proveit.number.complex.theorems import fracCancel2, fracCancel4, multComm, powOfProd, squarePosIneq, absIsNonNeg\n",
    "from proveit.basiclogic import In, autoSubstitute, autoSubstitution, NotEquals\n",
    "from proveit.number.real.theorems import absTwoPi, absPos, squarePosEq, relaxGreaterThan, relaxLessThan\n",
    "from proveit.number.natural.theorems import twoSquared\n",
    "from proveit.number.common import *\n",
    "from proveit.trigonometry.theorems import exp_2pi_i_nonInt, boundedUnitModulusDiff\n",
    "from proveit.physics.quantum.QPE.axioms import tInNaturalsPos\n",
    "from proveit.physics.quantum.QPE.theorems import two_pow_tMinusOne_in_posnats, phaseInReals\n",
    "from proveit.physics.quantum.QPE.theorems import deltaInReals\n",
    "from proveit.physics.quantum.QPE.theorems import scaledDeltaInInterval, delta_notEq_scaledNonzeroInt, scaledDelta_notEq_nonzeroInt\n",
    "from proveit.physics.quantum.QPE.theorems import nonIntDeltaDiff, scaledDeltaDiffInInterval\n",
    "from proveit.physics.quantum.QPE.theorems import all_alpha_l_in_complexes, alpha_l_summed, alpha_l_summed_abs\n",
    "from proveit.physics.quantum.QPE.common import t_, delta_, alpha_l, two_pow_t, two_pow_t_minus_one\n",
    "from proveit.basiclogic.equality.eqOps import extractSubExpr\n",
    "from IPython.display import display"
   ]
  },
  {
   "cell_type": "code",
   "execution_count": 2,
   "metadata": {
    "collapsed": false
   },
   "outputs": [
    {
     "data": {
      "text/latex": [
       "$l \\in \\{\\left(\\left(-2^{t - 1}\\right) + 1\\right)\\ldots 2^{t - 1}\\}$"
      ],
      "text/plain": [
       "l in \\{((-2^(t - 1)) + 1)...2^(t - 1)\\}"
      ]
     },
     "metadata": {},
     "output_type": "display_data"
    },
    {
     "data": {
      "text/latex": [
       "$l \\neq 0$"
      ],
      "text/plain": [
       "l != 0"
      ]
     },
     "metadata": {},
     "output_type": "display_data"
    }
   ],
   "source": [
    "domain = DiscreteContiguousSet(Add(Neg(two_pow_t_minus_one), one), two_pow_t_minus_one)\n",
    "display(In(l, domain))\n",
    "display(NotEquals(l, zero))\n",
    "assumptions = {In(l,domain), NotEquals(l, zero)}"
   ]
  },
  {
   "cell_type": "code",
   "execution_count": 3,
   "metadata": {
    "collapsed": false
   },
   "outputs": [
    {
     "data": {
      "text/latex": [
       "$l \\in \\mathbb{Z}$"
      ],
      "text/plain": [
       "l in Integers"
      ]
     },
     "metadata": {},
     "output_type": "display_data"
    },
    {
     "data": {
      "text/latex": [
       "$\\left(\\left(-2^{t - 1}\\right) + 1\\right) \\leq l$"
      ],
      "text/plain": [
       "((-2^(t - 1)) + 1) <= l"
      ]
     },
     "metadata": {},
     "output_type": "display_data"
    },
    {
     "data": {
      "text/latex": [
       "$l \\leq 2^{t - 1}$"
      ],
      "text/plain": [
       "l <= 2^(t - 1)"
      ]
     },
     "metadata": {},
     "output_type": "display_data"
    }
   ],
   "source": [
    "display(domain.deduceMemberInIntegers(l, assumptions=assumptions).proven(assumptions))\n",
    "display(domain.deduceMemberLowerBound(l, assumptions=assumptions).proven(assumptions))\n",
    "display(domain.deduceMemberUpperBound(l, assumptions=assumptions).proven(assumptions))"
   ]
  },
  {
   "cell_type": "code",
   "execution_count": 4,
   "metadata": {
    "collapsed": false
   },
   "outputs": [
    {
     "data": {
      "text/latex": [
       "$\\left|\\alpha_{l}\\right| = \\frac{\\left|1 - e^{2 \\cdot \\pi \\cdot i \\cdot \\left(\\left(2^{t} \\cdot \\delta\\right) - l\\right)}\\right|}{2^{t} \\cdot \\left|\\left(1 - e^{2 \\cdot \\pi \\cdot i \\cdot \\left(\\delta - \\frac{l}{2^{t}}\\right)}\\right)\\right|}$"
      ],
      "text/plain": [
       "|alpha_{l}| = |(1 - e^(2 * pi * i * ((2^(t) * delta) - l)))| / (2^(t) * |(1 - e^(2 * pi * i * (delta - l / 2^(t))))|)"
      ]
     },
     "execution_count": 4,
     "metadata": {},
     "output_type": "execute_result"
    }
   ],
   "source": [
    "abs_alpha_l = alpha_l_summed_abs.specialize().proven(assumptions)\n",
    "abs_alpha_l"
   ]
  },
  {
   "cell_type": "code",
   "execution_count": 5,
   "metadata": {
    "collapsed": false
   },
   "outputs": [
    {
     "data": {
      "text/latex": [
       "$\\forall_{x \\in \\mathbb{R}~|~x \\notin \\mathbb{Z}} \\left(e^{2 \\cdot \\pi \\cdot i \\cdot x} \\neq 1\\right)$"
      ],
      "text/plain": [
       "forall_{x in Reals | x not in Integers} (e^(2 * pi * i * x) != 1)"
      ]
     },
     "execution_count": 5,
     "metadata": {},
     "output_type": "execute_result"
    }
   ],
   "source": [
    "exp_2pi_i_nonInt"
   ]
  },
  {
   "cell_type": "code",
   "execution_count": 6,
   "metadata": {
    "collapsed": false
   },
   "outputs": [
    {
     "data": {
      "text/latex": [
       "$\\delta \\neq \\frac{l}{2^{t}}$"
      ],
      "text/plain": [
       "delta != l / 2^(t)"
      ]
     },
     "metadata": {},
     "output_type": "display_data"
    },
    {
     "data": {
      "text/latex": [
       "$\\left(2^{t} \\cdot \\delta\\right) \\neq l$"
      ],
      "text/plain": [
       "(2^(t) * delta) != l"
      ]
     },
     "metadata": {},
     "output_type": "display_data"
    },
    {
     "data": {
      "text/latex": [
       "$\\left(\\delta - \\frac{l}{2^{t}}\\right) \\notin \\mathbb{Z}$"
      ],
      "text/plain": [
       "(delta - l / 2^(t)) not in Integers"
      ]
     },
     "metadata": {},
     "output_type": "display_data"
    },
    {
     "data": {
      "text/latex": [
       "$\\left(\\delta - \\frac{l}{2^{t}}\\right) \\in \\mathbb{R}$"
      ],
      "text/plain": [
       "(delta - l / 2^(t)) in Reals"
      ]
     },
     "metadata": {},
     "output_type": "display_data"
    },
    {
     "data": {
      "text/latex": [
       "$\\left(2 \\cdot \\pi \\cdot \\left(\\delta - \\frac{l}{2^{t}}\\right)\\right) \\in \\left[\\left(-\\pi\\right),\\pi\\right]$"
      ],
      "text/plain": [
       "(2 * pi * (delta - l / 2^(t))) in [(-pi),pi]"
      ]
     },
     "metadata": {},
     "output_type": "display_data"
    },
    {
     "data": {
      "text/latex": [
       "$e^{2 \\cdot \\pi \\cdot i \\cdot \\left(\\delta - \\frac{l}{2^{t}}\\right)} \\neq 1$"
      ],
      "text/plain": [
       "e^(2 * pi * i * (delta - l / 2^(t))) != 1"
      ]
     },
     "metadata": {},
     "output_type": "display_data"
    },
    {
     "data": {
      "text/latex": [
       "$e^{i \\cdot 2 \\cdot \\pi \\cdot \\left(\\delta - \\frac{l}{2^{t}}\\right)} \\neq 1$"
      ],
      "text/plain": [
       "e^(i * 2 * pi * (delta - l / 2^(t))) != 1"
      ]
     },
     "metadata": {},
     "output_type": "display_data"
    },
    {
     "data": {
      "text/latex": [
       "$e^{i \\cdot \\left(2 \\cdot \\pi \\cdot \\left(\\delta - \\frac{l}{2^{t}}\\right)\\right)} \\neq 1$"
      ],
      "text/plain": [
       "e^(i * (2 * pi * (delta - l / 2^(t)))) != 1"
      ]
     },
     "metadata": {},
     "output_type": "display_data"
    }
   ],
   "source": [
    "display(delta_notEq_scaledNonzeroInt.specialize().proven(assumptions))\n",
    "display(scaledDelta_notEq_nonzeroInt.specialize().proven(assumptions))\n",
    "nonIntDeltaDiffSpec = nonIntDeltaDiff.specialize()\n",
    "display(nonIntDeltaDiffSpec.proven(assumptions))\n",
    "display(nonIntDeltaDiffSpec.element.deduceInReals(assumptions).proven(assumptions))\n",
    "display(scaledDeltaDiffInInterval.specialize().proven(assumptions))\n",
    "expNotOne = exp_2pi_i_nonInt.specialize({x:nonIntDeltaDiffSpec.element}).proven(assumptions)\n",
    "display(expNotOne)\n",
    "display(autoSubstitute(expNotOne, 'factor', [i], {'assumptions':assumptions, 'pull':'left'}).proven(assumptions))\n",
    "display(autoSubstitute(expNotOne, 'factor', [i], {'assumptions':assumptions, 'pull':'left', 'groupRemainder':'True'}).proven(assumptions))"
   ]
  },
  {
   "cell_type": "code",
   "execution_count": 7,
   "metadata": {
    "collapsed": false
   },
   "outputs": [
    {
     "data": {
      "text/latex": [
       "$\\alpha_{l} \\in \\mathbb{C}$"
      ],
      "text/plain": [
       "alpha_{l} in Complexes"
      ]
     },
     "metadata": {},
     "output_type": "display_data"
    },
    {
     "data": {
      "text/latex": [
       "$\\left|\\alpha_{l}\\right| \\in \\mathbb{R}$"
      ],
      "text/plain": [
       "|alpha_{l}| in Reals"
      ]
     },
     "metadata": {},
     "output_type": "display_data"
    },
    {
     "data": {
      "text/latex": [
       "$\\left|\\alpha_{l}\\right| \\in \\mathbb{C}$"
      ],
      "text/plain": [
       "|alpha_{l}| in Complexes"
      ]
     },
     "metadata": {},
     "output_type": "display_data"
    },
    {
     "data": {
      "text/latex": [
       "$\\left|\\alpha_{l}\\right| \\geq 0$"
      ],
      "text/plain": [
       "|alpha_{l}| >= 0"
      ]
     },
     "metadata": {},
     "output_type": "display_data"
    }
   ],
   "source": [
    "display(all_alpha_l_in_complexes.specialize().proven(assumptions))\n",
    "display(deduceInReals(Abs(alpha_l), assumptions))\n",
    "display(deduceInComplexes(Abs(alpha_l), assumptions))\n",
    "display(absIsNonNeg.specialize({a:alpha_l}).proven(assumptions))"
   ]
  },
  {
   "cell_type": "code",
   "execution_count": 8,
   "metadata": {
    "collapsed": false
   },
   "outputs": [
    {
     "data": {
      "text/latex": [
       "$2 \\in \\mathbb{R}$"
      ],
      "text/plain": [
       "2 in Reals"
      ]
     },
     "metadata": {},
     "output_type": "display_data"
    },
    {
     "data": {
      "text/latex": [
       "$2 > 0$"
      ],
      "text/plain": [
       "2 > 0"
      ]
     },
     "metadata": {},
     "output_type": "display_data"
    },
    {
     "data": {
      "text/latex": [
       "$\\pi \\in \\mathbb{R}$"
      ],
      "text/plain": [
       "pi in Reals"
      ]
     },
     "metadata": {},
     "output_type": "display_data"
    },
    {
     "data": {
      "text/latex": [
       "$\\left(2 \\cdot \\pi\\right) \\in \\mathbb{R}$"
      ],
      "text/plain": [
       "(2 * pi) in Reals"
      ]
     },
     "metadata": {},
     "output_type": "display_data"
    },
    {
     "data": {
      "text/latex": [
       "$\\left(2 \\cdot \\pi\\right) \\in \\mathbb{C}$"
      ],
      "text/plain": [
       "(2 * pi) in Complexes"
      ]
     },
     "metadata": {},
     "output_type": "display_data"
    },
    {
     "data": {
      "text/latex": [
       "$2^{t} \\in \\mathbb{R}$"
      ],
      "text/plain": [
       "2^(t) in Reals"
      ]
     },
     "metadata": {},
     "output_type": "display_data"
    },
    {
     "data": {
      "text/latex": [
       "$2^{t} > 0$"
      ],
      "text/plain": [
       "2^(t) > 0"
      ]
     },
     "metadata": {},
     "output_type": "display_data"
    },
    {
     "data": {
      "text/latex": [
       "$2^{t + 1} \\in \\mathbb{R}$"
      ],
      "text/plain": [
       "2^(t + 1) in Reals"
      ]
     },
     "metadata": {},
     "output_type": "display_data"
    },
    {
     "data": {
      "text/latex": [
       "$2^{t + 1} \\in \\mathbb{C}$"
      ],
      "text/plain": [
       "2^(t + 1) in Complexes"
      ]
     },
     "metadata": {},
     "output_type": "display_data"
    },
    {
     "data": {
      "text/latex": [
       "$\\left(2 \\cdot \\pi \\cdot \\left(\\left(2^{t} \\cdot \\delta\\right) - l\\right)\\right) \\in \\mathbb{R}$"
      ],
      "text/plain": [
       "(2 * pi * ((2^(t) * delta) - l)) in Reals"
      ]
     },
     "metadata": {},
     "output_type": "display_data"
    }
   ],
   "source": [
    "display(deduceInReals(two))\n",
    "display(deducePositive(two))\n",
    "display(deduceInReals(pi))\n",
    "display(deduceInReals(Multiply(two,pi)))\n",
    "display(deduceInComplexes(Multiply(two,pi)))\n",
    "display(deduceInReals(two_pow_t,assumptions))\n",
    "display(deducePositive(two_pow_t,assumptions))\n",
    "display(deduceInReals(Exponentiate(two, Add(t_, one))))\n",
    "display(deduceInComplexes(Exponentiate(two,Add(t_,one))))\n",
    "display(deduceInReals(Multiply(two,pi,Subtract(Multiply(Exponentiate(two,t_),delta_),l)),assumptions))"
   ]
  },
  {
   "cell_type": "code",
   "execution_count": 9,
   "metadata": {
    "collapsed": false
   },
   "outputs": [
    {
     "data": {
      "text/latex": [
       "$\\left|\\alpha_{l}\\right| = \\frac{\\left|1 - e^{i \\cdot 2 \\cdot \\pi \\cdot \\left(\\left(2^{t} \\cdot \\delta\\right) - l\\right)}\\right|}{2^{t} \\cdot \\left|\\left(1 - e^{2 \\cdot \\pi \\cdot i \\cdot \\left(\\delta - \\frac{l}{2^{t}}\\right)}\\right)\\right|}$"
      ],
      "text/plain": [
       "|alpha_{l}| = |(1 - e^(i * 2 * pi * ((2^(t) * delta) - l)))| / (2^(t) * |(1 - e^(2 * pi * i * (delta - l / 2^(t))))|)"
      ]
     },
     "execution_count": 9,
     "metadata": {},
     "output_type": "execute_result"
    }
   ],
   "source": [
    "X1 = autoSubstitute(abs_alpha_l, 'factor', [i], {'assumptions':assumptions,'pull':'left'}, superExpr=abs_alpha_l.rhs.numerator, suppressWarnings=True).proven(assumptions)\n",
    "X1"
   ]
  },
  {
   "cell_type": "code",
   "execution_count": 10,
   "metadata": {
    "collapsed": false
   },
   "outputs": [
    {
     "data": {
      "text/latex": [
       "$\\left|\\alpha_{l}\\right| = \\frac{\\left|1 - e^{i \\cdot 2 \\cdot \\pi \\cdot \\left(\\left(2^{t} \\cdot \\delta\\right) - l\\right)}\\right|}{2^{t} \\cdot \\left|\\left(1 - e^{i \\cdot 2 \\cdot \\pi \\cdot \\left(\\delta - \\frac{l}{2^{t}}\\right)}\\right)\\right|}$"
      ],
      "text/plain": [
       "|alpha_{l}| = |(1 - e^(i * 2 * pi * ((2^(t) * delta) - l)))| / (2^(t) * |(1 - e^(i * 2 * pi * (delta - l / 2^(t))))|)"
      ]
     },
     "execution_count": 10,
     "metadata": {},
     "output_type": "execute_result"
    }
   ],
   "source": [
    "X2 = autoSubstitute(X1, 'factor', [i], {'assumptions':assumptions}, superExpr=abs_alpha_l.rhs.denominator, suppressWarnings=True).proven(assumptions)\n",
    "X2"
   ]
  },
  {
   "cell_type": "code",
   "execution_count": 11,
   "metadata": {
    "collapsed": false
   },
   "outputs": [
    {
     "data": {
      "text/latex": [
       "$\\left|\\left(1 - e^{i \\cdot \\left(2 \\cdot \\pi \\cdot \\left(\\left(2^{t} \\cdot \\delta\\right) - l\\right)\\right)}\\right)\\right| \\leq 2$"
      ],
      "text/plain": [
       "|(1 - e^(i * (2 * pi * ((2^(t) * delta) - l))))| <= 2"
      ]
     },
     "execution_count": 11,
     "metadata": {},
     "output_type": "execute_result"
    }
   ],
   "source": [
    "Y1 = ineqThm9.specialize({theta:Multiply(two,pi,Subtract(Multiply(Exponentiate(two,t_),delta_),l))}).proven(assumptions)\n",
    "Y1"
   ]
  },
  {
   "cell_type": "code",
   "execution_count": 12,
   "metadata": {
    "collapsed": false
   },
   "outputs": [
    {
     "data": {
      "text/latex": [
       "$\\left(2^{t} \\cdot \\left|\\left(1 - e^{i \\cdot 2 \\cdot \\pi \\cdot \\left(\\delta - \\frac{l}{2^{t}}\\right)}\\right)\\right|\\right) \\in \\mathbb{R}^+$"
      ],
      "text/plain": [
       "(2^(t) * |(1 - e^(i * 2 * pi * (delta - l / 2^(t))))|) in RealsPos"
      ]
     },
     "execution_count": 12,
     "metadata": {},
     "output_type": "execute_result"
    }
   ],
   "source": [
    "#deduceNotZero(Subtract(one,Exponentiate(e,Multiply(i,two,pi,Subtract(delta_,Fraction(l,Exponentiate(two,t_)))))),assumptions)\n",
    "deduceInRealsPos(X2.rhs.denominator,assumptions)"
   ]
  },
  {
   "cell_type": "code",
   "execution_count": 13,
   "metadata": {
    "collapsed": false
   },
   "outputs": [
    {
     "data": {
      "text/latex": [
       "$\\forall_{a, b, c \\in \\mathbb{R}~|~a \\leq c, b > 0} \\left(\\frac{a}{b} \\leq \\frac{c}{b}\\right)$"
      ],
      "text/plain": [
       "forall_{a, b, c in Reals | a <= c, b > 0} (a / b <= c / b)"
      ]
     },
     "execution_count": 13,
     "metadata": {},
     "output_type": "execute_result"
    }
   ],
   "source": [
    "divIneqThm1"
   ]
  },
  {
   "cell_type": "code",
   "execution_count": 14,
   "metadata": {
    "collapsed": false
   },
   "outputs": [
    {
     "data": {
      "text/latex": [
       "$\\left(2^{t} \\cdot \\left|\\left(1 - e^{i \\cdot 2 \\cdot \\pi \\cdot \\left(\\delta - \\frac{l}{2^{t}}\\right)}\\right)\\right|\\right) \\in \\mathbb{R}$"
      ],
      "text/plain": [
       "(2^(t) * |(1 - e^(i * 2 * pi * (delta - l / 2^(t))))|) in Reals"
      ]
     },
     "metadata": {},
     "output_type": "display_data"
    },
    {
     "data": {
      "text/latex": [
       "$\\left(2^{t} \\cdot \\left|\\left(1 - e^{i \\cdot 2 \\cdot \\pi \\cdot \\left(\\delta - \\frac{l}{2^{t}}\\right)}\\right)\\right|\\right) > 0$"
      ],
      "text/plain": [
       "(2^(t) * |(1 - e^(i * 2 * pi * (delta - l / 2^(t))))|) > 0"
      ]
     },
     "metadata": {},
     "output_type": "display_data"
    },
    {
     "data": {
      "text/latex": [
       "$\\left|\\left(1 - e^{i \\cdot \\left(2 \\cdot \\pi \\cdot \\left(\\left(2^{t} \\cdot \\delta\\right) - l\\right)\\right)}\\right)\\right| \\in \\mathbb{R}$"
      ],
      "text/plain": [
       "|(1 - e^(i * (2 * pi * ((2^(t) * delta) - l))))| in Reals"
      ]
     },
     "metadata": {},
     "output_type": "display_data"
    }
   ],
   "source": [
    "display(deduceInReals(X2.rhs.denominator, assumptions).proven(assumptions))\n",
    "display(deducePositive(X2.rhs.denominator,assumptions).proven(assumptions))\n",
    "display(deduceInReals(Y1.lhs, assumptions).proven(assumptions))"
   ]
  },
  {
   "cell_type": "code",
   "execution_count": 15,
   "metadata": {
    "collapsed": false
   },
   "outputs": [
    {
     "data": {
      "text/latex": [
       "$\\frac{\\left|1 - e^{i \\cdot \\left(2 \\cdot \\pi \\cdot \\left(\\left(2^{t} \\cdot \\delta\\right) - l\\right)\\right)}\\right|}{2^{t} \\cdot \\left|\\left(1 - e^{i \\cdot 2 \\cdot \\pi \\cdot \\left(\\delta - \\frac{l}{2^{t}}\\right)}\\right)\\right|} \\leq \\frac{2}{2^{t} \\cdot \\left|\\left(1 - e^{i \\cdot 2 \\cdot \\pi \\cdot \\left(\\delta - \\frac{l}{2^{t}}\\right)}\\right)\\right|}$"
      ],
      "text/plain": [
       "|(1 - e^(i * (2 * pi * ((2^(t) * delta) - l))))| / (2^(t) * |(1 - e^(i * 2 * pi * (delta - l / 2^(t))))|) <= 2 / (2^(t) * |(1 - e^(i * 2 * pi * (delta - l / 2^(t))))|)"
      ]
     },
     "execution_count": 15,
     "metadata": {},
     "output_type": "execute_result"
    }
   ],
   "source": [
    "Y2 = divIneqThm1.specialize({a:Y1.lhs,b:X2.rhs.denominator,c:Y1.rhs}).proven(assumptions)\n",
    "Y2"
   ]
  },
  {
   "cell_type": "code",
   "execution_count": 16,
   "metadata": {
    "collapsed": false
   },
   "outputs": [
    {
     "data": {
      "text/latex": [
       "$\\left|\\alpha_{l}\\right| = \\frac{\\left|1 - e^{i \\cdot \\left(2 \\cdot \\pi \\cdot \\left(\\left(2^{t} \\cdot \\delta\\right) - l\\right)\\right)}\\right|}{2^{t} \\cdot \\left|\\left(1 - e^{i \\cdot 2 \\cdot \\pi \\cdot \\left(\\delta - \\frac{l}{2^{t}}\\right)}\\right)\\right|}$"
      ],
      "text/plain": [
       "|alpha_{l}| = |(1 - e^(i * (2 * pi * ((2^(t) * delta) - l))))| / (2^(t) * |(1 - e^(i * 2 * pi * (delta - l / 2^(t))))|)"
      ]
     },
     "execution_count": 16,
     "metadata": {},
     "output_type": "execute_result"
    }
   ],
   "source": [
    "X2a = Multiply(i,two,pi,Subtract(Multiply(Exponentiate(two,t_),delta_),l)).group(1,4,assumptions=assumptions).rhsSubstitute(X2).proven(assumptions)\n",
    "X2a"
   ]
  },
  {
   "cell_type": "code",
   "execution_count": 17,
   "metadata": {
    "collapsed": false
   },
   "outputs": [
    {
     "data": {
      "text/latex": [
       "$\\left|\\alpha_{l}\\right| \\leq \\frac{2}{2^{t} \\cdot \\left|\\left(1 - e^{i \\cdot 2 \\cdot \\pi \\cdot \\left(\\delta - \\frac{l}{2^{t}}\\right)}\\right)\\right|}$"
      ],
      "text/plain": [
       "|alpha_{l}| <= 2 / (2^(t) * |(1 - e^(i * 2 * pi * (delta - l / 2^(t))))|)"
      ]
     },
     "execution_count": 17,
     "metadata": {},
     "output_type": "execute_result"
    }
   ],
   "source": [
    "X5 = Relation(X2a).update(Y2).proven(assumptions)\n",
    "X5"
   ]
  },
  {
   "cell_type": "code",
   "execution_count": 18,
   "metadata": {
    "collapsed": false
   },
   "outputs": [
    {
     "data": {
      "text/latex": [
       "$\\left|\\alpha_{l}\\right| \\leq \\frac{2}{2^{t} \\cdot \\left|\\left(1 - e^{i \\cdot \\left(2 \\cdot \\pi \\cdot \\left(\\delta - \\frac{l}{2^{t}}\\right)\\right)}\\right)\\right|}$"
      ],
      "text/plain": [
       "|alpha_{l}| <= 2 / (2^(t) * |(1 - e^(i * (2 * pi * (delta - l / 2^(t)))))|)"
      ]
     },
     "execution_count": 18,
     "metadata": {},
     "output_type": "execute_result"
    }
   ],
   "source": [
    "X5a = multAssoc.specialize({Etcetera(x):i,\n",
    "                            Etcetera(y):[two,pi,Subtract(delta_,Fraction(l,Exponentiate(two,t_)))],\n",
    "                            Etcetera(z):[]}).rhsSubstitute(X5).proven(assumptions)\n",
    "X5a"
   ]
  },
  {
   "cell_type": "code",
   "execution_count": 19,
   "metadata": {
    "collapsed": false
   },
   "outputs": [
    {
     "data": {
      "text/latex": [
       "$\\frac{2 \\cdot \\left|\\left(2 \\cdot \\pi \\cdot \\left(\\delta - \\frac{l}{2^{t}}\\right)\\right)\\right|}{\\pi} \\leq \\left|\\left(1 - e^{i \\cdot \\left(2 \\cdot \\pi \\cdot \\left(\\delta - \\frac{l}{2^{t}}\\right)\\right)}\\right)\\right|$"
      ],
      "text/plain": [
       "(2 * |(2 * pi * (delta - l / 2^(t)))|) / pi <= |(1 - e^(i * (2 * pi * (delta - l / 2^(t)))))|"
      ]
     },
     "execution_count": 19,
     "metadata": {},
     "output_type": "execute_result"
    }
   ],
   "source": [
    "Y5_0 = boundedUnitModulusDiff.specialize(\n",
    "    {theta:Multiply(two,pi, Subtract(delta_,Fraction(l,Exponentiate(two,t_))))}).proven(assumptions).deriveReversed().proven(assumptions)\n",
    "Y5_0"
   ]
  },
  {
   "cell_type": "code",
   "execution_count": 20,
   "metadata": {
    "collapsed": false
   },
   "outputs": [
    {
     "data": {
      "text/latex": [
       "$\\frac{2 \\cdot \\left|\\left(2 \\cdot \\pi \\cdot \\left(\\delta - \\frac{l}{2^{t}}\\right)\\right)\\right|}{\\pi} \\in \\mathbb{R}$"
      ],
      "text/plain": [
       "(2 * |(2 * pi * (delta - l / 2^(t)))|) / pi in Reals"
      ]
     },
     "metadata": {},
     "output_type": "display_data"
    },
    {
     "data": {
      "text/latex": [
       "$\\left|\\left(1 - e^{i \\cdot \\left(2 \\cdot \\pi \\cdot \\left(\\delta - \\frac{l}{2^{t}}\\right)\\right)}\\right)\\right| \\in \\mathbb{R}$"
      ],
      "text/plain": [
       "|(1 - e^(i * (2 * pi * (delta - l / 2^(t)))))| in Reals"
      ]
     },
     "metadata": {},
     "output_type": "display_data"
    }
   ],
   "source": [
    "display(deduceInReals(Y5_0.lhs,assumptions))\n",
    "display(deduceInReals(Y5_0.rhs,assumptions))"
   ]
  },
  {
   "cell_type": "code",
   "execution_count": 21,
   "metadata": {
    "collapsed": false
   },
   "outputs": [
    {
     "data": {
      "text/latex": [
       "$\\left(2^{t} \\cdot \\left|\\left(1 - e^{i \\cdot \\left(2 \\cdot \\pi \\cdot \\left(\\delta - \\frac{l}{2^{t}}\\right)\\right)}\\right)\\right|\\right) \\geq \\left(2^{t} \\cdot \\frac{2 \\cdot \\left|\\left(2 \\cdot \\pi \\cdot \\left(\\delta - \\frac{l}{2^{t}}\\right)\\right)\\right|}{\\pi}\\right)$"
      ],
      "text/plain": [
       "(2^(t) * |(1 - e^(i * (2 * pi * (delta - l / 2^(t)))))|) >= (2^(t) * (2 * |(2 * pi * (delta - l / 2^(t)))|) / pi)"
      ]
     },
     "execution_count": 21,
     "metadata": {},
     "output_type": "execute_result"
    }
   ],
   "source": [
    "Y6 = divIneqThm1cor.specialize({a:Y5_0.lhs,c:Y5_0.rhs,b:Exponentiate(two,t_)}).proven(assumptions).deriveReversed().proven(assumptions)\n",
    "Y6"
   ]
  },
  {
   "cell_type": "code",
   "execution_count": 22,
   "metadata": {
    "collapsed": false
   },
   "outputs": [
    {
     "data": {
      "text/latex": [
       "$\\left(2^{t} \\cdot \\left|\\left(1 - e^{i \\cdot \\left(2 \\cdot \\pi \\cdot \\left(\\delta - \\frac{l}{2^{t}}\\right)\\right)}\\right)\\right|\\right) \\geq \\left(2^{t} \\cdot \\frac{2 \\cdot \\left|\\left(\\left(2 \\cdot \\pi\\right) \\cdot \\left(\\delta - \\frac{l}{2^{t}}\\right)\\right)\\right|}{\\pi}\\right)$"
      ],
      "text/plain": [
       "(2^(t) * |(1 - e^(i * (2 * pi * (delta - l / 2^(t)))))|) >= (2^(t) * (2 * |((2 * pi) * (delta - l / 2^(t)))|) / pi)"
      ]
     },
     "execution_count": 22,
     "metadata": {},
     "output_type": "execute_result"
    }
   ],
   "source": [
    "Y7 = autoSubstitute(Y6, 'group', [0,2], {'assumptions':assumptions}, superExpr=Y6.rhs, suppressWarnings=True).proven(assumptions)\n",
    "Y7"
   ]
  },
  {
   "cell_type": "code",
   "execution_count": 23,
   "metadata": {
    "collapsed": false
   },
   "outputs": [
    {
     "data": {
      "text/latex": [
       "$\\left|\\left(\\left(2 \\cdot \\pi\\right) \\cdot \\left(\\delta - \\frac{l}{2^{t}}\\right)\\right)\\right| = \\left(\\left|\\left(2 \\cdot \\pi\\right)\\right| \\cdot \\left|\\left(\\delta - \\frac{l}{2^{t}}\\right)\\right|\\right)$"
      ],
      "text/plain": [
       "|((2 * pi) * (delta - l / 2^(t)))| = (|(2 * pi)| * |(delta - l / 2^(t))|)"
      ]
     },
     "execution_count": 23,
     "metadata": {},
     "output_type": "execute_result"
    }
   ],
   "source": [
    "Y8 = absProd.specialize({xEtc:Multiply(two,pi),yEtc:Subtract(delta_,Fraction(l,Exponentiate(two,t_)))}).proven(assumptions)\n",
    "Y8"
   ]
  },
  {
   "cell_type": "code",
   "execution_count": 24,
   "metadata": {
    "collapsed": false
   },
   "outputs": [
    {
     "data": {
      "text/latex": [
       "$\\left(2^{t} \\cdot \\left|\\left(1 - e^{i \\cdot \\left(2 \\cdot \\pi \\cdot \\left(\\delta - \\frac{l}{2^{t}}\\right)\\right)}\\right)\\right|\\right) \\geq \\left(2^{t} \\cdot \\frac{2 \\cdot \\left(\\left|\\left(2 \\cdot \\pi\\right)\\right| \\cdot \\left|\\left(\\delta - \\frac{l}{2^{t}}\\right)\\right|\\right)}{\\pi}\\right)$"
      ],
      "text/plain": [
       "(2^(t) * |(1 - e^(i * (2 * pi * (delta - l / 2^(t)))))|) >= (2^(t) * (2 * (|(2 * pi)| * |(delta - l / 2^(t))|)) / pi)"
      ]
     },
     "execution_count": 24,
     "metadata": {},
     "output_type": "execute_result"
    }
   ],
   "source": [
    "Y9 = Y8.rhsSubstitute(Y7).proven(assumptions)\n",
    "Y9"
   ]
  },
  {
   "cell_type": "code",
   "execution_count": 25,
   "metadata": {
    "collapsed": false
   },
   "outputs": [
    {
     "data": {
      "text/latex": [
       "$\\left(2^{t} \\cdot \\left|\\left(1 - e^{i \\cdot \\left(2 \\cdot \\pi \\cdot \\left(\\delta - \\frac{l}{2^{t}}\\right)\\right)}\\right)\\right|\\right) \\geq \\left(2^{t} \\cdot \\frac{2 \\cdot \\left(\\left(2 \\cdot \\pi\\right) \\cdot \\left|\\left(\\delta - \\frac{l}{2^{t}}\\right)\\right|\\right)}{\\pi}\\right)$"
      ],
      "text/plain": [
       "(2^(t) * |(1 - e^(i * (2 * pi * (delta - l / 2^(t)))))|) >= (2^(t) * (2 * ((2 * pi) * |(delta - l / 2^(t))|)) / pi)"
      ]
     },
     "execution_count": 25,
     "metadata": {},
     "output_type": "execute_result"
    }
   ],
   "source": [
    "Y10 = absPos.specialize({a:Multiply(two,pi)}).rhsSubstitute(Y9).proven(assumptions)\n",
    "Y10"
   ]
  },
  {
   "cell_type": "code",
   "execution_count": 26,
   "metadata": {
    "collapsed": false
   },
   "outputs": [
    {
     "data": {
      "text/latex": [
       "$2 \\cdot \\left(2 \\cdot \\pi\\right) \\cdot \\left|\\left(\\delta - \\frac{l}{2^{t}}\\right)\\right|$"
      ],
      "text/plain": [
       "2 * (2 * pi) * |(delta - l / 2^(t))|"
      ]
     },
     "execution_count": 26,
     "metadata": {},
     "output_type": "execute_result"
    }
   ],
   "source": [
    "Y11_0 = Multiply(two,\n",
    "                Multiply(two,pi),\n",
    "                Abs(Subtract(delta_,Fraction(l,Exponentiate(two,t_)))))\n",
    "Y11_0"
   ]
  },
  {
   "cell_type": "code",
   "execution_count": 27,
   "metadata": {
    "collapsed": false
   },
   "outputs": [
    {
     "data": {
      "text/latex": [
       "$\\left(2 \\cdot \\left(2 \\cdot \\pi\\right) \\cdot \\left|\\left(\\delta - \\frac{l}{2^{t}}\\right)\\right|\\right) = \\left(2 \\cdot \\left(\\left(2 \\cdot \\pi\\right) \\cdot \\left|\\left(\\delta - \\frac{l}{2^{t}}\\right)\\right|\\right)\\right)$"
      ],
      "text/plain": [
       "(2 * (2 * pi) * |(delta - l / 2^(t))|) = (2 * ((2 * pi) * |(delta - l / 2^(t))|))"
      ]
     },
     "execution_count": 27,
     "metadata": {},
     "output_type": "execute_result"
    }
   ],
   "source": [
    "Y11 = Y11_0.group(1,3,assumptions).proven(assumptions)\n",
    "Y11"
   ]
  },
  {
   "cell_type": "code",
   "execution_count": 28,
   "metadata": {
    "collapsed": false
   },
   "outputs": [
    {
     "data": {
      "text/latex": [
       "$\\left(2^{t} \\cdot \\left|\\left(1 - e^{i \\cdot \\left(2 \\cdot \\pi \\cdot \\left(\\delta - \\frac{l}{2^{t}}\\right)\\right)}\\right)\\right|\\right) \\geq \\left(2^{t} \\cdot \\frac{2 \\cdot \\left(2 \\cdot \\pi\\right) \\cdot \\left|\\left(\\delta - \\frac{l}{2^{t}}\\right)\\right|}{\\pi}\\right)$"
      ],
      "text/plain": [
       "(2^(t) * |(1 - e^(i * (2 * pi * (delta - l / 2^(t)))))|) >= (2^(t) * (2 * (2 * pi) * |(delta - l / 2^(t))|) / pi)"
      ]
     },
     "execution_count": 28,
     "metadata": {},
     "output_type": "execute_result"
    }
   ],
   "source": [
    "Y12 = Y11.lhsSubstitute(Y10).proven(assumptions)\n",
    "Y12"
   ]
  },
  {
   "cell_type": "code",
   "execution_count": 29,
   "metadata": {
    "collapsed": false
   },
   "outputs": [
    {
     "data": {
      "text/latex": [
       "$\\left(2 \\cdot 2 \\cdot \\pi \\cdot \\left|\\left(\\delta - \\frac{l}{2^{t}}\\right)\\right|\\right) = \\left(2 \\cdot \\left(2 \\cdot \\pi\\right) \\cdot \\left|\\left(\\delta - \\frac{l}{2^{t}}\\right)\\right|\\right)$"
      ],
      "text/plain": [
       "(2 * 2 * pi * |(delta - l / 2^(t))|) = (2 * (2 * pi) * |(delta - l / 2^(t))|)"
      ]
     },
     "execution_count": 29,
     "metadata": {},
     "output_type": "execute_result"
    }
   ],
   "source": [
    "Y13 = multAssoc.specialize({Etcetera(x):two,\n",
    "                            Etcetera(y):[two,pi],Etcetera(z):Abs(Subtract(delta_,Fraction(l,Exponentiate(two,t_))))}).proven(assumptions)\n",
    "Y13"
   ]
  },
  {
   "cell_type": "code",
   "execution_count": 30,
   "metadata": {
    "collapsed": false
   },
   "outputs": [
    {
     "data": {
      "text/latex": [
       "$\\left(2^{t} \\cdot \\left|\\left(1 - e^{i \\cdot \\left(2 \\cdot \\pi \\cdot \\left(\\delta - \\frac{l}{2^{t}}\\right)\\right)}\\right)\\right|\\right) \\geq \\left(2^{t} \\cdot \\frac{2 \\cdot 2 \\cdot \\pi \\cdot \\left|\\left(\\delta - \\frac{l}{2^{t}}\\right)\\right|}{\\pi}\\right)$"
      ],
      "text/plain": [
       "(2^(t) * |(1 - e^(i * (2 * pi * (delta - l / 2^(t)))))|) >= (2^(t) * (2 * 2 * pi * |(delta - l / 2^(t))|) / pi)"
      ]
     },
     "execution_count": 30,
     "metadata": {},
     "output_type": "execute_result"
    }
   ],
   "source": [
    "Y14 = Y13.lhsSubstitute(Y12).proven(assumptions)\n",
    "Y14"
   ]
  },
  {
   "cell_type": "code",
   "execution_count": 31,
   "metadata": {
    "collapsed": false
   },
   "outputs": [
    {
     "data": {
      "text/latex": [
       "$\\left(2 \\cdot 2 \\cdot \\left|\\left(\\delta - \\frac{l}{2^{t}}\\right)\\right|\\right) \\in \\mathbb{C}$"
      ],
      "text/plain": [
       "(2 * 2 * |(delta - l / 2^(t))|) in Complexes"
      ]
     },
     "metadata": {},
     "output_type": "display_data"
    },
    {
     "data": {
      "text/latex": [
       "$\\left|\\left(\\delta - \\frac{l}{2^{t}}\\right)\\right| \\in \\mathbb{C}$"
      ],
      "text/plain": [
       "|(delta - l / 2^(t))| in Complexes"
      ]
     },
     "metadata": {},
     "output_type": "display_data"
    }
   ],
   "source": [
    "display(deduceInComplexes(Multiply(two,two,Abs(Subtract(delta_,Fraction(l,Exponentiate(two,t_))))),assumptions))\n",
    "display(deduceInComplexes(Abs(Subtract(delta_,Fraction(l,Exponentiate(two,t_)))),assumptions))\n"
   ]
  },
  {
   "cell_type": "code",
   "execution_count": 32,
   "metadata": {
    "collapsed": false
   },
   "outputs": [
    {
     "data": {
      "text/latex": [
       "$\\frac{2 \\cdot 2 \\cdot \\pi \\cdot \\left|\\left(\\delta - \\frac{l}{2^{t}}\\right)\\right|}{\\pi} = \\left(2 \\cdot 2 \\cdot \\left|\\left(\\delta - \\frac{l}{2^{t}}\\right)\\right|\\right)$"
      ],
      "text/plain": [
       "(2 * 2 * pi * |(delta - l / 2^(t))|) / pi = (2 * 2 * |(delta - l / 2^(t))|)"
      ]
     },
     "execution_count": 32,
     "metadata": {},
     "output_type": "execute_result"
    }
   ],
   "source": [
    "Y15_0 = Y14.rhs.operands[1].cancel(pi,assumptions=assumptions).proven(assumptions)\n",
    "Y15_0"
   ]
  },
  {
   "cell_type": "code",
   "execution_count": 33,
   "metadata": {
    "collapsed": false
   },
   "outputs": [
    {
     "data": {
      "text/latex": [
       "$\\left(2^{t} \\cdot \\left|\\left(1 - e^{i \\cdot \\left(2 \\cdot \\pi \\cdot \\left(\\delta - \\frac{l}{2^{t}}\\right)\\right)}\\right)\\right|\\right) \\geq \\left(2^{t} \\cdot \\left(2 \\cdot 2 \\cdot \\left|\\left(\\delta - \\frac{l}{2^{t}}\\right)\\right|\\right)\\right)$"
      ],
      "text/plain": [
       "(2^(t) * |(1 - e^(i * (2 * pi * (delta - l / 2^(t)))))|) >= (2^(t) * (2 * 2 * |(delta - l / 2^(t))|))"
      ]
     },
     "execution_count": 33,
     "metadata": {},
     "output_type": "execute_result"
    }
   ],
   "source": [
    "Y15 = Y14.rhs.operands[1].cancel(pi,assumptions=assumptions).rhsSubstitute(Y14).proven(assumptions)\n",
    "Y15"
   ]
  },
  {
   "cell_type": "code",
   "execution_count": 34,
   "metadata": {
    "collapsed": false
   },
   "outputs": [
    {
     "data": {
      "text/latex": [
       "$\\left(2^{t} \\cdot \\left(2 \\cdot 2 \\cdot \\left|\\left(\\delta - \\frac{l}{2^{t}}\\right)\\right|\\right)\\right) > 0$"
      ],
      "text/plain": [
       "(2^(t) * (2 * 2 * |(delta - l / 2^(t))|)) > 0"
      ]
     },
     "metadata": {},
     "output_type": "display_data"
    },
    {
     "data": {
      "text/latex": [
       "$\\left(2^{t} \\cdot \\left(2 \\cdot 2 \\cdot \\left|\\left(\\delta - \\frac{l}{2^{t}}\\right)\\right|\\right)\\right) \\in \\mathbb{R}$"
      ],
      "text/plain": [
       "(2^(t) * (2 * 2 * |(delta - l / 2^(t))|)) in Reals"
      ]
     },
     "metadata": {},
     "output_type": "display_data"
    }
   ],
   "source": [
    "Y18 = deducePositive(Y15.rhs, assumptions).proven(assumptions)\n",
    "display(Y18)\n",
    "display(deduceInReals(Y18.lhs,assumptions).proven(assumptions))"
   ]
  },
  {
   "cell_type": "code",
   "execution_count": 35,
   "metadata": {
    "collapsed": false
   },
   "outputs": [
    {
     "data": {
      "text/latex": [
       "$\\left(2^{t} \\cdot \\left|\\left(1 - e^{i \\cdot \\left(2 \\cdot \\pi \\cdot \\left(\\delta - \\frac{l}{2^{t}}\\right)\\right)}\\right)\\right|\\right) > 0$"
      ],
      "text/plain": [
       "(2^(t) * |(1 - e^(i * (2 * pi * (delta - l / 2^(t)))))|) > 0"
      ]
     },
     "execution_count": 35,
     "metadata": {},
     "output_type": "execute_result"
    }
   ],
   "source": [
    "deducePositive(X5a.rhs.denominator, assumptions).proven(assumptions)"
   ]
  },
  {
   "cell_type": "code",
   "execution_count": 36,
   "metadata": {
    "collapsed": false
   },
   "outputs": [
    {
     "data": {
      "text/latex": [
       "$\\left|\\alpha_{l}\\right| \\leq \\frac{2}{2^{t} \\cdot \\left(2 \\cdot 2 \\cdot \\left|\\left(\\delta - \\frac{l}{2^{t}}\\right)\\right|\\right)}$"
      ],
      "text/plain": [
       "|alpha_{l}| <= 2 / (2^(t) * (2 * 2 * |(delta - l / 2^(t))|))"
      ]
     },
     "execution_count": 36,
     "metadata": {},
     "output_type": "execute_result"
    }
   ],
   "source": [
    "X19 = ineqThm10a.specialize({w:X5.lhs,\n",
    "                      x:X5a.rhs.numerator,\n",
    "                      y:X5a.rhs.denominator,\n",
    "                      z:Y18.lhs}).proven(assumptions)\n",
    "X19"
   ]
  },
  {
   "cell_type": "code",
   "execution_count": 37,
   "metadata": {
    "collapsed": false
   },
   "outputs": [
    {
     "data": {
      "text/latex": [
       "$\\left|\\alpha_{l}\\right| \\leq \\frac{2}{2^{t} \\cdot 2 \\cdot 2 \\cdot \\left|\\left(\\delta - \\frac{l}{2^{t}}\\right)\\right|}$"
      ],
      "text/plain": [
       "|alpha_{l}| <= 2 / (2^(t) * 2 * 2 * |(delta - l / 2^(t))|)"
      ]
     },
     "execution_count": 37,
     "metadata": {},
     "output_type": "execute_result"
    }
   ],
   "source": [
    "X20 = X19.rhs.denominator.ungroup(1,assumptions=assumptions).rhsSubstitute(X19).proven(assumptions)\n",
    "X20"
   ]
  },
  {
   "cell_type": "code",
   "execution_count": 38,
   "metadata": {
    "collapsed": false
   },
   "outputs": [
    {
     "data": {
      "text/latex": [
       "$\\left|\\alpha_{l}\\right| \\leq \\frac{1}{2^{t} \\cdot 2 \\cdot \\left|\\left(\\delta - \\frac{l}{2^{t}}\\right)\\right|}$"
      ],
      "text/plain": [
       "|alpha_{l}| <= 1 / (2^(t) * 2 * |(delta - l / 2^(t))|)"
      ]
     },
     "execution_count": 38,
     "metadata": {},
     "output_type": "execute_result"
    }
   ],
   "source": [
    "#21 omitted intentionally\n",
    "X22 = X20.rhs.cancel(two,'left',assumptions).rhsSubstitute(X20).proven(assumptions)\n",
    "X22"
   ]
  },
  {
   "cell_type": "code",
   "execution_count": 39,
   "metadata": {
    "collapsed": false
   },
   "outputs": [
    {
     "data": {
      "text/latex": [
       "$\\left|\\left(\\delta - \\frac{l}{2^{t}}\\right)\\right| \\in \\mathbb{C}$"
      ],
      "text/plain": [
       "|(delta - l / 2^(t))| in Complexes"
      ]
     },
     "execution_count": 39,
     "metadata": {},
     "output_type": "execute_result"
    }
   ],
   "source": [
    "deduceInComplexes(Abs(Subtract(delta_,Fraction(l,Exponentiate(two,t_)))), assumptions)"
   ]
  },
  {
   "cell_type": "code",
   "execution_count": 40,
   "metadata": {
    "collapsed": false
   },
   "outputs": [
    {
     "data": {
      "text/latex": [
       "$2 \\in \\mathbb{C}$"
      ],
      "text/plain": [
       "2 in Complexes"
      ]
     },
     "execution_count": 40,
     "metadata": {},
     "output_type": "execute_result"
    }
   ],
   "source": [
    "deduceInComplexes(two)"
   ]
  },
  {
   "cell_type": "code",
   "execution_count": 41,
   "metadata": {
    "collapsed": false
   },
   "outputs": [
    {
     "data": {
      "text/latex": [
       "$t \\in \\mathbb{C}$"
      ],
      "text/plain": [
       "t in Complexes"
      ]
     },
     "execution_count": 41,
     "metadata": {},
     "output_type": "execute_result"
    }
   ],
   "source": [
    "deduceInComplexes(t_)"
   ]
  },
  {
   "cell_type": "code",
   "execution_count": 42,
   "metadata": {
    "collapsed": false
   },
   "outputs": [
    {
     "data": {
      "text/latex": [
       "$\\left|\\alpha_{l}\\right| \\leq \\frac{1}{2^{t + 1} \\cdot \\left|\\left(\\delta - \\frac{l}{2^{t}}\\right)\\right|}$"
      ],
      "text/plain": [
       "|alpha_{l}| <= 1 / (2^(t + 1) * |(delta - l / 2^(t))|)"
      ]
     },
     "execution_count": 42,
     "metadata": {},
     "output_type": "execute_result"
    }
   ],
   "source": [
    "#23 omitted intentionally\n",
    "X24 = expAdd1a.specialize({x:two,y:t_,z:Abs(Subtract(delta_,Fraction(l,Exponentiate(two,t_))))}).rhsSubstitute(X22).proven(assumptions)\n",
    "X24"
   ]
  },
  {
   "cell_type": "code",
   "execution_count": 43,
   "metadata": {
    "collapsed": false
   },
   "outputs": [
    {
     "data": {
      "text/latex": [
       "$\\frac{1}{2^{t + 1} \\cdot \\left|\\left(\\delta - \\frac{l}{2^{t}}\\right)\\right|} \\in \\mathbb{R}$"
      ],
      "text/plain": [
       "1 / (2^(t + 1) * |(delta - l / 2^(t))|) in Reals"
      ]
     },
     "execution_count": 43,
     "metadata": {},
     "output_type": "execute_result"
    }
   ],
   "source": [
    "deduceInReals(X24.rhs,assumptions)"
   ]
  },
  {
   "cell_type": "code",
   "execution_count": 44,
   "metadata": {
    "collapsed": false
   },
   "outputs": [
    {
     "data": {
      "text/latex": [
       "$\\left|\\alpha_{l}\\right|^{2} \\leq \\left(\\frac{1}{2^{t + 1} \\cdot \\left|\\left(\\delta - \\frac{l}{2^{t}}\\right)\\right|}\\right)^{2}$"
      ],
      "text/plain": [
       "|alpha_{l}|^(2) <= (1 / (2^(t + 1) * |(delta - l / 2^(t))|))^(2)"
      ]
     },
     "execution_count": 44,
     "metadata": {},
     "output_type": "execute_result"
    }
   ],
   "source": [
    "X25 = squarePosIneq.specialize({a:alpha_l}).specialize({b:X24.rhs})\n",
    "X25.proven(assumptions)"
   ]
  },
  {
   "cell_type": "code",
   "execution_count": 45,
   "metadata": {
    "collapsed": false
   },
   "outputs": [
    {
     "data": {
      "text/latex": [
       "$\\left(2^{t + 1} \\cdot \\left|\\left(\\delta - \\frac{l}{2^{t}}\\right)\\right|\\right) \\in \\mathbb{C}$"
      ],
      "text/plain": [
       "(2^(t + 1) * |(delta - l / 2^(t))|) in Complexes"
      ]
     },
     "execution_count": 45,
     "metadata": {},
     "output_type": "execute_result"
    }
   ],
   "source": [
    "deduceInComplexes(Multiply(Exponentiate(two,Add(t_,one)),Abs(Subtract(delta_,Fraction(l,Exponentiate(two,t_))))),assumptions)"
   ]
  },
  {
   "cell_type": "code",
   "execution_count": 46,
   "metadata": {
    "collapsed": false
   },
   "outputs": [
    {
     "data": {
      "text/latex": [
       "$\\left|\\alpha_{l}\\right|^{2} \\leq \\frac{1^{2}}{\\left(2^{t + 1} \\cdot \\left|\\left(\\delta - \\frac{l}{2^{t}}\\right)\\right|\\right)^{2}}$"
      ],
      "text/plain": [
       "|alpha_{l}|^(2) <= 1^(2) / (2^(t + 1) * |(delta - l / 2^(t))|)^(2)"
      ]
     },
     "execution_count": 46,
     "metadata": {},
     "output_type": "execute_result"
    }
   ],
   "source": [
    "X26 = fracExp.specialize({x:one,\n",
    "                          y:Multiply(Exponentiate(two,Add(t_,one)),Abs(Subtract(delta_,Fraction(l,Exponentiate(two,t_))))),\n",
    "                          z:two}).rhsSubstitute(X25)\n",
    "X26.proven(assumptions)"
   ]
  },
  {
   "cell_type": "code",
   "execution_count": 47,
   "metadata": {
    "collapsed": false
   },
   "outputs": [
    {
     "data": {
      "text/latex": [
       "$\\left|\\left(\\delta - \\frac{l}{2^{t}}\\right)\\right| \\in \\mathbb{C}$"
      ],
      "text/plain": [
       "|(delta - l / 2^(t))| in Complexes"
      ]
     },
     "execution_count": 47,
     "metadata": {},
     "output_type": "execute_result"
    }
   ],
   "source": [
    "deduceInComplexes(Abs(Subtract(delta_,Fraction(l,Exponentiate(two,t_)))), assumptions)"
   ]
  },
  {
   "cell_type": "code",
   "execution_count": 48,
   "metadata": {
    "collapsed": false
   },
   "outputs": [
    {
     "data": {
      "text/latex": [
       "$\\left|\\alpha_{l}\\right|^{2} \\leq \\frac{1^{2}}{\\left(2^{t + 1}\\right)^{2} \\cdot \\left|\\left(\\delta - \\frac{l}{2^{t}}\\right)\\right|^{2}}$"
      ],
      "text/plain": [
       "|alpha_{l}|^(2) <= 1^(2) / ((2^(t + 1))^(2) * |(delta - l / 2^(t))|^(2))"
      ]
     },
     "execution_count": 48,
     "metadata": {},
     "output_type": "execute_result"
    }
   ],
   "source": [
    "X27 = powOfProd.specialize({a:Exponentiate(two,Add(t_,one)),\n",
    "                            b:Abs(Subtract(delta_,Fraction(l,Exponentiate(two,t_)))),\n",
    "                            c:two}).rhsSubstitute(X26)\n",
    "X27.proven(assumptions)"
   ]
  },
  {
   "cell_type": "code",
   "execution_count": 49,
   "metadata": {
    "collapsed": false
   },
   "outputs": [
    {
     "data": {
      "text/latex": [
       "$\\left|\\alpha_{l}\\right|^{2} \\leq \\frac{1}{\\left(2^{t + 1}\\right)^{2} \\cdot \\left|\\left(\\delta - \\frac{l}{2^{t}}\\right)\\right|^{2}}$"
      ],
      "text/plain": [
       "|alpha_{l}|^(2) <= 1 / ((2^(t + 1))^(2) * |(delta - l / 2^(t))|^(2))"
      ]
     },
     "execution_count": 49,
     "metadata": {},
     "output_type": "execute_result"
    }
   ],
   "source": [
    "X28 = expOne.specialize({x:two}).rhsSubstitute(X27)\n",
    "X28.proven(assumptions)"
   ]
  },
  {
   "cell_type": "code",
   "execution_count": 50,
   "metadata": {
    "collapsed": false
   },
   "outputs": [
    {
     "data": {
      "text/latex": [
       "$\\left(t + 1\\right) \\in \\mathbb{C}$"
      ],
      "text/plain": [
       "(t + 1) in Complexes"
      ]
     },
     "execution_count": 50,
     "metadata": {},
     "output_type": "execute_result"
    }
   ],
   "source": [
    "deduceInComplexes(Add(t_,one),assumptions)"
   ]
  },
  {
   "cell_type": "code",
   "execution_count": 51,
   "metadata": {
    "collapsed": false
   },
   "outputs": [
    {
     "data": {
      "text/latex": [
       "$\\left|\\alpha_{l}\\right|^{2} \\leq \\frac{1}{2^{\\left(t + 1\\right) \\cdot 2} \\cdot \\left|\\left(\\delta - \\frac{l}{2^{t}}\\right)\\right|^{2}}$"
      ],
      "text/plain": [
       "|alpha_{l}|^(2) <= 1 / (2^((t + 1) * 2) * |(delta - l / 2^(t))|^(2))"
      ]
     },
     "execution_count": 51,
     "metadata": {},
     "output_type": "execute_result"
    }
   ],
   "source": [
    "X29 = powOfPow.specialize({a:two,b:Add(t_,one),c:two}).rhsSubstitute(X28)\n",
    "X29.proven(assumptions)"
   ]
  },
  {
   "cell_type": "code",
   "execution_count": 52,
   "metadata": {
    "collapsed": false
   },
   "outputs": [
    {
     "data": {
      "text/latex": [
       "$\\left|\\alpha_{l}\\right|^{2} \\leq \\frac{1}{2^{\\left(t \\cdot 2\\right) + \\left(1 \\cdot 2\\right)} \\cdot \\left|\\left(\\delta - \\frac{l}{2^{t}}\\right)\\right|^{2}}$"
      ],
      "text/plain": [
       "|alpha_{l}|^(2) <= 1 / (2^((t * 2) + (1 * 2)) * |(delta - l / 2^(t))|^(2))"
      ]
     },
     "execution_count": 52,
     "metadata": {},
     "output_type": "execute_result"
    }
   ],
   "source": [
    "X30 = multOverAdd.specialize({x:t_,y:one,z:two}).rhsSubstitute(X29)\n",
    "X30.proven(assumptions)"
   ]
  },
  {
   "cell_type": "code",
   "execution_count": 53,
   "metadata": {
    "collapsed": false
   },
   "outputs": [
    {
     "data": {
      "text/latex": [
       "$\\left|\\alpha_{l}\\right|^{2} \\leq \\frac{1}{2^{\\left(t \\cdot 2\\right) + 2} \\cdot \\left|\\left(\\delta - \\frac{l}{2^{t}}\\right)\\right|^{2}}$"
      ],
      "text/plain": [
       "|alpha_{l}|^(2) <= 1 / (2^((t * 2) + 2) * |(delta - l / 2^(t))|^(2))"
      ]
     },
     "execution_count": 53,
     "metadata": {},
     "output_type": "execute_result"
    }
   ],
   "source": [
    "X31 = multOne.specialize({x:two}).rhsSubstitute(X30)\n",
    "X31.proven(assumptions)"
   ]
  },
  {
   "cell_type": "code",
   "execution_count": 54,
   "metadata": {
    "collapsed": false
   },
   "outputs": [
    {
     "data": {
      "text/latex": [
       "$\\left(t \\cdot 2\\right) \\in \\mathbb{C}$"
      ],
      "text/plain": [
       "(t * 2) in Complexes"
      ]
     },
     "execution_count": 54,
     "metadata": {},
     "output_type": "execute_result"
    }
   ],
   "source": [
    "deduceInComplexes(Multiply(t_,two),assumptions)"
   ]
  },
  {
   "cell_type": "code",
   "execution_count": 55,
   "metadata": {
    "collapsed": false
   },
   "outputs": [
    {
     "data": {
      "text/latex": [
       "$\\left|\\alpha_{l}\\right|^{2} \\leq \\frac{1}{\\left(2^{t \\cdot 2} \\cdot 2^{2}\\right) \\cdot \\left|\\left(\\delta - \\frac{l}{2^{t}}\\right)\\right|^{2}}$"
      ],
      "text/plain": [
       "|alpha_{l}|^(2) <= 1 / ((2^(t * 2) * 2^(2)) * |(delta - l / 2^(t))|^(2))"
      ]
     },
     "execution_count": 55,
     "metadata": {},
     "output_type": "execute_result"
    }
   ],
   "source": [
    "X32 = sumInPow.specialize({a:two,b:Multiply(t_,two),c:two}).rhsSubstitute(X31)\n",
    "X32.proven(assumptions)"
   ]
  },
  {
   "cell_type": "code",
   "execution_count": 56,
   "metadata": {
    "collapsed": false
   },
   "outputs": [
    {
     "data": {
      "text/latex": [
       "$\\left|\\alpha_{l}\\right|^{2} \\leq \\frac{1}{\\left(2^{t \\cdot 2} \\cdot 2^{2}\\right) \\cdot \\left(\\delta - \\frac{l}{2^{t}}\\right)^{2}}$"
      ],
      "text/plain": [
       "|alpha_{l}|^(2) <= 1 / ((2^(t * 2) * 2^(2)) * (delta - l / 2^(t))^(2))"
      ]
     },
     "execution_count": 56,
     "metadata": {},
     "output_type": "execute_result"
    }
   ],
   "source": [
    "X33 = squarePosEq.specialize({a:Subtract(delta_,Fraction(l,Exponentiate(two,t_)))}).rhsSubstitute(X32)\n",
    "X33.proven(assumptions)"
   ]
  },
  {
   "cell_type": "code",
   "execution_count": 57,
   "metadata": {
    "collapsed": false
   },
   "outputs": [
    {
     "data": {
      "text/latex": [
       "$\\delta \\in \\mathbb{C}$"
      ],
      "text/plain": [
       "delta in Complexes"
      ]
     },
     "execution_count": 57,
     "metadata": {},
     "output_type": "execute_result"
    }
   ],
   "source": [
    "deduceInComplexes(Fraction(l,Exponentiate(two,t_)),assumptions)\n",
    "deduceInComplexes(delta_,assumptions)"
   ]
  },
  {
   "cell_type": "code",
   "execution_count": 58,
   "metadata": {
    "collapsed": false
   },
   "outputs": [
    {
     "data": {
      "text/latex": [
       "$\\left|\\alpha_{l}\\right|^{2} \\leq \\frac{1}{\\left(2^{t \\cdot 2} \\cdot 2^{2}\\right) \\cdot \\left(\\frac{l}{2^{t}} - \\delta\\right)^{2}}$"
      ],
      "text/plain": [
       "|alpha_{l}|^(2) <= 1 / ((2^(t * 2) * 2^(2)) * (l / 2^(t) - delta)^(2))"
      ]
     },
     "execution_count": 58,
     "metadata": {},
     "output_type": "execute_result"
    }
   ],
   "source": [
    "X34 = diffSquareComm.specialize({a:delta_,b:Fraction(l,Exponentiate(two,t_))}).rhsSubstitute(X33) \n",
    "X34.proven(assumptions)"
   ]
  },
  {
   "cell_type": "code",
   "execution_count": 59,
   "metadata": {
    "collapsed": false
   },
   "outputs": [
    {
     "data": {
      "text/latex": [
       "$\\left|\\alpha_{l}\\right|^{2} \\leq \\frac{1}{\\left(\\left(2^{t}\\right)^{2} \\cdot 2^{2}\\right) \\cdot \\left(\\frac{l}{2^{t}} - \\delta\\right)^{2}}$"
      ],
      "text/plain": [
       "|alpha_{l}|^(2) <= 1 / (((2^(t))^(2) * 2^(2)) * (l / 2^(t) - delta)^(2))"
      ]
     },
     "execution_count": 59,
     "metadata": {},
     "output_type": "execute_result"
    }
   ],
   "source": [
    "X35 = powOfPow.specialize({a:two,b:t_,c:two}).lhsSubstitute(X34)\n",
    "X35.proven(assumptions)"
   ]
  },
  {
   "cell_type": "code",
   "execution_count": 60,
   "metadata": {
    "collapsed": false
   },
   "outputs": [
    {
     "data": {
      "text/latex": [
       "$\\frac{1}{\\left(\\left(2^{t}\\right)^{2} \\cdot 2^{2}\\right) \\cdot \\left(\\frac{l}{2^{t}} - \\delta\\right)^{2}} \\in \\mathbb{C}$"
      ],
      "text/plain": [
       "1 / (((2^(t))^(2) * 2^(2)) * (l / 2^(t) - delta)^(2)) in Complexes"
      ]
     },
     "execution_count": 60,
     "metadata": {},
     "output_type": "execute_result"
    }
   ],
   "source": [
    "deduceInComplexes(X35.rhs, assumptions)"
   ]
  },
  {
   "cell_type": "code",
   "execution_count": 61,
   "metadata": {
    "collapsed": false
   },
   "outputs": [
    {
     "data": {
      "text/latex": [
       "$\\left(\\frac{l}{2^{t}} - \\delta\\right)^{2} \\in \\mathbb{C}$"
      ],
      "text/plain": [
       "(l / 2^(t) - delta)^(2) in Complexes"
      ]
     },
     "execution_count": 61,
     "metadata": {},
     "output_type": "execute_result"
    }
   ],
   "source": [
    "deduceInComplexes(X35.rhs.denominator.operands[0].operands[0],assumptions)\n",
    "deduceInComplexes(X35.rhs.denominator.operands[0].operands[1],assumptions)\n",
    "deduceInComplexes(X35.rhs.denominator.operands[1],assumptions)"
   ]
  },
  {
   "cell_type": "code",
   "execution_count": 62,
   "metadata": {
    "collapsed": false
   },
   "outputs": [
    {
     "data": {
      "text/latex": [
       "$\\left|\\alpha_{l}\\right|^{2} \\leq \\frac{1}{\\left(2^{t}\\right)^{2} \\cdot 2^{2} \\cdot \\left(\\frac{l}{2^{t}} - \\delta\\right)^{2}}$"
      ],
      "text/plain": [
       "|alpha_{l}|^(2) <= 1 / ((2^(t))^(2) * 2^(2) * (l / 2^(t) - delta)^(2))"
      ]
     },
     "execution_count": 62,
     "metadata": {},
     "output_type": "execute_result"
    }
   ],
   "source": [
    "X36 = multAssoc.specialize({Etcetera(x):[],\n",
    "                      Etcetera(y):X35.rhs.denominator.operands[0].operands,\n",
    "                      Etcetera(z):X35.rhs.denominator.operands[1]}).lhsSubstitute(X35).proven(assumptions)\n",
    "X36"
   ]
  },
  {
   "cell_type": "code",
   "execution_count": 63,
   "metadata": {
    "collapsed": false
   },
   "outputs": [
    {
     "data": {
      "text/latex": [
       "$\\left|\\alpha_{l}\\right|^{2} \\leq \\frac{1}{2^{2} \\cdot \\left(2^{t}\\right)^{2} \\cdot \\left(\\frac{l}{2^{t}} - \\delta\\right)^{2}}$"
      ],
      "text/plain": [
       "|alpha_{l}|^(2) <= 1 / (2^(2) * (2^(t))^(2) * (l / 2^(t) - delta)^(2))"
      ]
     },
     "execution_count": 63,
     "metadata": {},
     "output_type": "execute_result"
    }
   ],
   "source": [
    "X37 = X36.rhs.denominator.commute(0,1,1,2,assumptions).rhsSubstitute(X36).proven(assumptions)\n",
    "X37"
   ]
  },
  {
   "cell_type": "code",
   "execution_count": 64,
   "metadata": {
    "collapsed": false
   },
   "outputs": [
    {
     "data": {
      "text/latex": [
       "$\\left|\\alpha_{l}\\right|^{2} \\leq \\frac{1}{2^{2} \\cdot \\left(\\left(2^{t}\\right)^{2} \\cdot \\left(\\frac{l}{2^{t}} - \\delta\\right)^{2}\\right)}$"
      ],
      "text/plain": [
       "|alpha_{l}|^(2) <= 1 / (2^(2) * ((2^(t))^(2) * (l / 2^(t) - delta)^(2)))"
      ]
     },
     "execution_count": 64,
     "metadata": {},
     "output_type": "execute_result"
    }
   ],
   "source": [
    "X38 = X37.rhs.denominator.group(1,assumptions=assumptions).rhsSubstitute(X37).proven(assumptions)\n",
    "X38"
   ]
  },
  {
   "cell_type": "code",
   "execution_count": 65,
   "metadata": {
    "collapsed": false
   },
   "outputs": [
    {
     "data": {
      "text/latex": [
       "$2^{t} \\in \\mathbb{C}$"
      ],
      "text/plain": [
       "2^(t) in Complexes"
      ]
     },
     "execution_count": 65,
     "metadata": {},
     "output_type": "execute_result"
    }
   ],
   "source": [
    "deduceInComplexes(Exponentiate(two,t_))"
   ]
  },
  {
   "cell_type": "code",
   "execution_count": 66,
   "metadata": {
    "collapsed": false
   },
   "outputs": [
    {
     "data": {
      "text/latex": [
       "$\\left(\\frac{l}{2^{t}} - \\delta\\right) \\in \\mathbb{C}$"
      ],
      "text/plain": [
       "(l / 2^(t) - delta) in Complexes"
      ]
     },
     "execution_count": 66,
     "metadata": {},
     "output_type": "execute_result"
    }
   ],
   "source": [
    "deduceInComplexes(Subtract(\n",
    "                Fraction(l,Exponentiate(two,t_))\n",
    "                ,delta_), assumptions)"
   ]
  },
  {
   "cell_type": "code",
   "execution_count": 67,
   "metadata": {
    "collapsed": false
   },
   "outputs": [
    {
     "data": {
      "text/latex": [
       "$\\left|\\alpha_{l}\\right|^{2} \\leq \\frac{1}{2^{2} \\cdot \\left(2^{t} \\cdot \\left(\\frac{l}{2^{t}} - \\delta\\right)\\right)^{2}}$"
      ],
      "text/plain": [
       "|alpha_{l}|^(2) <= 1 / (2^(2) * (2^(t) * (l / 2^(t) - delta))^(2))"
      ]
     },
     "execution_count": 67,
     "metadata": {},
     "output_type": "execute_result"
    }
   ],
   "source": [
    "X39 = samePowDistribute.specialize({x:Exponentiate(two,t_),y:two,z:Subtract(\n",
    "                Fraction(l,Exponentiate(two,t_))\n",
    "                ,delta_)}).rhsSubstitute(X38).proven(assumptions)\n",
    "X39"
   ]
  },
  {
   "cell_type": "code",
   "execution_count": 68,
   "metadata": {
    "collapsed": false
   },
   "outputs": [
    {
     "data": {
      "text/latex": [
       "$\\left|\\alpha_{l}\\right|^{2} \\leq \\frac{1}{2^{2} \\cdot \\left(\\left(\\frac{l}{2^{t}} - \\delta\\right) \\cdot 2^{t}\\right)^{2}}$"
      ],
      "text/plain": [
       "|alpha_{l}|^(2) <= 1 / (2^(2) * ((l / 2^(t) - delta) * 2^(t))^(2))"
      ]
     },
     "execution_count": 68,
     "metadata": {},
     "output_type": "execute_result"
    }
   ],
   "source": [
    "X40 = X39.rhs.denominator.operands[1].base.commute(assumptions=assumptions).rhsSubstitute(X39).proven(assumptions)\n",
    "X40"
   ]
  },
  {
   "cell_type": "code",
   "execution_count": 69,
   "metadata": {
    "collapsed": false
   },
   "outputs": [
    {
     "data": {
      "text/latex": [
       "$\\left|\\alpha_{l}\\right|^{2} \\leq \\frac{1}{2^{2} \\cdot \\left(\\left(\\frac{l}{2^{t}} \\cdot 2^{t}\\right) - \\left(\\delta \\cdot 2^{t}\\right)\\right)^{2}}$"
      ],
      "text/plain": [
       "|alpha_{l}|^(2) <= 1 / (2^(2) * ((l / 2^(t) * 2^(t)) - (delta * 2^(t)))^(2))"
      ]
     },
     "execution_count": 69,
     "metadata": {},
     "output_type": "execute_result"
    }
   ],
   "source": [
    "X41 = multOverSubtract.specialize({x:Fraction(l,Exponentiate(two,t_)),\n",
    "                                   y:delta_,\n",
    "                                   z:Exponentiate(two,t_)}).rhsSubstitute(X40)\n",
    "X41.proven(assumptions)"
   ]
  },
  {
   "cell_type": "code",
   "execution_count": 70,
   "metadata": {
    "collapsed": false
   },
   "outputs": [
    {
     "data": {
      "text/latex": [
       "$l \\in \\mathbb{C}$"
      ],
      "text/plain": [
       "l in Complexes"
      ]
     },
     "execution_count": 70,
     "metadata": {},
     "output_type": "execute_result"
    }
   ],
   "source": [
    "deduceInComplexes(l,assumptions)"
   ]
  },
  {
   "cell_type": "code",
   "execution_count": 71,
   "metadata": {
    "collapsed": false
   },
   "outputs": [
    {
     "data": {
      "text/latex": [
       "$\\left|\\alpha_{l}\\right|^{2} \\leq \\frac{1}{2^{2} \\cdot \\left(l - \\left(\\delta \\cdot 2^{t}\\right)\\right)^{2}}$"
      ],
      "text/plain": [
       "|alpha_{l}|^(2) <= 1 / (2^(2) * (l - (delta * 2^(t)))^(2))"
      ]
     },
     "execution_count": 71,
     "metadata": {},
     "output_type": "execute_result"
    }
   ],
   "source": [
    "X42 = fracCancel4.specialize({x:l,y:Exponentiate(two,t_)}).rhsSubstitute(X41)\n",
    "X42.proven(assumptions)"
   ]
  },
  {
   "cell_type": "code",
   "execution_count": 72,
   "metadata": {
    "collapsed": false
   },
   "outputs": [
    {
     "data": {
      "text/latex": [
       "$\\left|\\alpha_{l}\\right|^{2} \\leq \\frac{1}{4 \\cdot \\left(l - \\left(\\delta \\cdot 2^{t}\\right)\\right)^{2}}$"
      ],
      "text/plain": [
       "|alpha_{l}|^(2) <= 1 / (4 * (l - (delta * 2^(t)))^(2))"
      ]
     },
     "execution_count": 72,
     "metadata": {},
     "output_type": "execute_result"
    }
   ],
   "source": [
    "X43 = twoSquared.specialize({}).rhsSubstitute(X42)\n",
    "X43.proven(assumptions)"
   ]
  },
  {
   "cell_type": "code",
   "execution_count": 73,
   "metadata": {
    "collapsed": false
   },
   "outputs": [
    {
     "data": {
      "text/latex": [
       "$\\left|\\alpha_{l}\\right|^{2} \\leq \\frac{1}{4 \\cdot \\left(l - \\left(2^{t} \\cdot \\delta\\right)\\right)^{2}}$"
      ],
      "text/plain": [
       "|alpha_{l}|^(2) <= 1 / (4 * (l - (2^(t) * delta))^(2))"
      ]
     },
     "execution_count": 73,
     "metadata": {},
     "output_type": "execute_result"
    }
   ],
   "source": [
    "X44 = X43.rhs.denominator.operands[1].base.operands[1].commute(assumptions=assumptions).rhsSubstitute(X43).proven(assumptions)\n",
    "X44"
   ]
  },
  {
   "cell_type": "code",
   "execution_count": 74,
   "metadata": {
    "collapsed": false
   },
   "outputs": [
    {
     "data": {
      "text/latex": [
       "$\\forall_{l \\in \\{\\left(\\left(-2^{t - 1}\\right) + 1\\right)\\ldots 2^{t - 1}\\}~|~l \\neq 0} \\left(\\left|\\alpha_{l}\\right|^{2} \\leq \\frac{1}{4 \\cdot \\left(l - \\left(2^{t} \\cdot \\delta\\right)\\right)^{2}}\\right)$"
      ],
      "text/plain": [
       "forall_{l in \\{((-2^(t - 1)) + 1)...2^(t - 1)\\} | l != 0} (|alpha_{l}|^(2) <= 1 / (4 * (l - (2^(t) * delta))^(2)))"
      ]
     },
     "execution_count": 74,
     "metadata": {},
     "output_type": "execute_result"
    }
   ],
   "source": [
    "X44.generalize(l,domain=domain,conditions=[NotEquals(l, zero)]).proven()"
   ]
  }
 ],
 "metadata": {
  "kernelspec": {
   "display_name": "Python 2",
   "language": "python",
   "name": "python2"
  },
  "language_info": {
   "codemirror_mode": {
    "name": "ipython",
    "version": 2
   },
   "file_extension": ".py",
   "mimetype": "text/x-python",
   "name": "python",
   "nbconvert_exporter": "python",
   "pygments_lexer": "ipython2",
   "version": "2.7.10"
  }
 },
 "nbformat": 4,
 "nbformat_minor": 0
}
