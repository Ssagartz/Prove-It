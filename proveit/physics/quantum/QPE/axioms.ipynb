{
 "cells": [
  {
   "cell_type": "code",
   "execution_count": 1,
   "metadata": {
    "collapsed": false
   },
   "outputs": [],
   "source": [
    "import proveit.specialStatementMagic # for %begin_axioms and %end_axioms\n",
    "from proveit.expression import Operation\n",
    "from proveit.basiclogic import Forall, In, Equals\n",
    "from proveit.number import Add, Subtract, Multiply, Exponentiate, Fraction, Abs, LessThanEquals, Mod, Round\n",
    "from proveit.number.common import e, i, one, two, pi, two_pi, Integers, Reals\n",
    "from proveit.trigonometry import AngDiff\n",
    "from proveit.linalg import MatrixProd, ScalarProd, SU\n",
    "from proveit.statistics import Prob\n",
    "from proveit.physics.quantum import Bra, Ket, Meas\n",
    "from proveit.physics.quantum.QFT import QFT\n",
    "# Note that U_, u_, and t_ are Literals that will eventually be converted to\n",
    "# Variable counterparts through meta-reasoning.\n",
    "from proveit.physics.quantum.QPE.common import U_, n_, u_, phase_, t_, Psi_, m_, phase_m_, b_, delta_, two_pow_t\n",
    "from proveit.physics.quantum.QPE import QPE, PhaseEst\n",
    "from proveit.physics.quantum.QPE.phaseEstOps import Psuccess, Pfail, Alpha, ModAdd\n",
    "from proveit.common import U, u, t, eps, a, b, l\n",
    "from IPython.display import display"
   ]
  },
  {
   "cell_type": "code",
   "execution_count": 2,
   "metadata": {
    "collapsed": false
   },
   "outputs": [],
   "source": [
    "%begin_axioms"
   ]
  },
  {
   "cell_type": "markdown",
   "metadata": {},
   "source": [
    "Let $U$ be a unitary operator that acts on $n$ qubits, $u$ an eigenstate of U with eigenvalue $e^{i \\varphi}$:"
   ]
  },
  {
   "cell_type": "code",
   "execution_count": 3,
   "metadata": {
    "collapsed": false
   },
   "outputs": [
    {
     "data": {
      "image/png": "[encoded data removed]",
      "text/plain": [
       "U in SU(n)"
      ]
     },
     "metadata": {},
     "output_type": "display_data"
    },
    {
     "data": {
      "image/png": "[encoded data removed]",
      "text/plain": [
       "(U . |u>) = (e^((i * phase)) * |u>)"
      ]
     },
     "metadata": {},
     "output_type": "display_data"
    }
   ],
   "source": [
    "unitaryU = In(U_, SU(n_))\n",
    "eigenUu = Equals(MatrixProd(U_, Ket(u_)), ScalarProd(Exponentiate(e, Multiply(i, phase_)), Ket(u_)))\n",
    "display(unitaryU)\n",
    "display(eigenUu)  "
   ]
  },
  {
   "cell_type": "markdown",
   "metadata": {},
   "source": [
    "Define the Quantum Phase Estimation algorithm, for any U, u, and number of registers, using quantum circuit representations and recursion:"
   ]
  },
  {
   "cell_type": "code",
   "execution_count": 4,
   "metadata": {
    "collapsed": false
   },
   "outputs": [
    {
     "data": {
      "image/png": "[encoded data removed]",
      "text/plain": [
       "forall_{U, t} QPE(U, t)"
      ]
     },
     "execution_count": 4,
     "metadata": {},
     "output_type": "execute_result"
    }
   ],
   "source": [
    "Forall((U, t), QPE(U, t)) # TODO"
   ]
  },
  {
   "cell_type": "markdown",
   "metadata": {},
   "source": [
    "Let $\\lvert \\Psi \\rangle$ be the outcome of the $t$-qubit register of ${\\rm QPE}(U, t)$ acting on $\\lvert u \\rangle$, $m$ be a random variable representing the measurement of Psi with the register interpretted as an integer (via binary representation), and $\\varphi_m = 2 \\pi m/2^t$ be the random variable phase outcome of ${\\rm QPE}(U, t)$:"
   ]
  },
  {
   "cell_type": "code",
   "execution_count": 5,
   "metadata": {
    "collapsed": false
   },
   "outputs": [
    {
     "data": {
      "image/png": "[encoded data removed]",
      "text/plain": [
       "|Psi> = (QPE(U, t) . |u>)"
      ]
     },
     "metadata": {},
     "output_type": "display_data"
    },
    {
     "data": {
      "image/png": "[encoded data removed]",
      "text/plain": [
       "m = MEAS(|Psi>)"
      ]
     },
     "metadata": {},
     "output_type": "display_data"
    },
    {
     "data": {
      "image/png": "[encoded data removed]",
      "text/plain": [
       "phase_m = (2 * pi * m) / 2^(t)"
      ]
     },
     "metadata": {},
     "output_type": "display_data"
    }
   ],
   "source": [
    "PsiDef = Equals(Ket(Psi_), MatrixProd(QPE(U_, t_), Ket(u_)))\n",
    "mDef = Equals(m_, Meas(Ket(Psi_)))\n",
    "phase_m_def = Equals(phase_m_, Fraction(Multiply(two, pi, m_), two_pow_t))\n",
    "display(PsiDef)\n",
    "display(mDef)\n",
    "display(phase_m_def)"
   ]
  },
  {
   "cell_type": "markdown",
   "metadata": {},
   "source": [
    "The probability of success is defined as $\\theta_m$ being within some epsilon of $\\theta$: "
   ]
  },
  {
   "cell_type": "code",
   "execution_count": 6,
   "metadata": {
    "collapsed": false
   },
   "outputs": [
    {
     "data": {
      "image/png": "[encoded data removed]",
      "text/plain": [
       "forall_{eps in Reals} (Psuccess(eps) = Pr[(|AngDiff(phase_m, phase)| <= eps)])"
      ]
     },
     "metadata": {},
     "output_type": "display_data"
    },
    {
     "data": {
      "image/png": "[encoded data removed]",
      "text/plain": [
       "forall_{eps in Reals} (Pfail(eps) = (1 - Psuccess(eps)))"
      ]
     },
     "metadata": {},
     "output_type": "display_data"
    }
   ],
   "source": [
    "successDef = Forall(eps, Equals(Psuccess(eps), Prob(LessThanEquals(Abs(AngDiff(phase_m_, phase_)), eps))), domain=Reals)\n",
    "failDef = Forall(eps, Equals(Pfail(eps), Subtract(one, Psuccess(eps))), domain=Reals)\n",
    "display(successDef)\n",
    "display(failDef)             "
   ]
  },
  {
   "cell_type": "markdown",
   "metadata": {},
   "source": [
    "Let $b$ be the best value for $m$, minimizing the difference between $\\varphi$ and $\\varphi_m$, and let $\\delta$ be this difference.  Let $\\alpha_l$ be the amplitude of $\\lvert \\Psi \\rangle$ for the $b \\oplus l$ state, where $\\oplus$ is defined as addition modulo $2^t$:"
   ]
  },
  {
   "cell_type": "code",
   "execution_count": 7,
   "metadata": {
    "collapsed": false
   },
   "outputs": [
    {
     "data": {
      "image/png": "[encoded data removed]",
      "text/plain": [
       "b = (Round(phase / (2 * pi) * 2^(t)) mod 2^(t))"
      ]
     },
     "metadata": {},
     "output_type": "display_data"
    },
    {
     "data": {
      "image/png": "[encoded data removed]",
      "text/plain": [
       "delta = (phase - (2 * pi * b) / 2^(t))"
      ]
     },
     "metadata": {},
     "output_type": "display_data"
    },
    {
     "data": {
      "image/png": "[encoded data removed]",
      "text/plain": [
       "forall_{a, b in Integers} ((a MOD_ADD b) = ((a + b) mod 2^(t)))"
      ]
     },
     "metadata": {},
     "output_type": "display_data"
    },
    {
     "data": {
      "image/png": "[encoded data removed]",
      "text/plain": [
       "forall_{l in Integers} (alpha_{l} = (<b MOD_ADD l| . |Psi>))"
      ]
     },
     "metadata": {},
     "output_type": "display_data"
    }
   ],
   "source": [
    "bestDef = Equals(b_, Mod(Round(Multiply(Fraction(phase_, two_pi), two_pow_t)), two_pow_t))\n",
    "deltaDef = Equals(delta_, Subtract(phase_, Fraction(Multiply(two, pi, b_), two_pow_t)))\n",
    "modAddDef = Forall((a, b), Equals(ModAdd(a, b), Mod(Add(a, b), two_pow_t)), domain=Integers)\n",
    "alphaDef = Forall(l, Equals(Alpha(l), MatrixProd(Bra(ModAdd(b_, l)), Ket(Psi_))), domain=Integers)\n",
    "display(bestDef)\n",
    "display(deltaDef)\n",
    "display(modAddDef)\n",
    "display(alphaDef)"
   ]
  },
  {
   "cell_type": "code",
   "execution_count": 8,
   "metadata": {
    "collapsed": false
   },
   "outputs": [
    {
     "name": "stdout",
     "output_type": "stream",
     "text": [
      "Creating axioms *.dill and *.pv_it files in the __pv_it__ directory\n",
      "alphaDef has changed.  Replace it? (yes/no/all)a\n",
      "These axioms may be imported from proveit.physics.quantum.QPE.axioms\n"
     ]
    }
   ],
   "source": [
    "%end_axioms"
   ]
  },
  {
   "cell_type": "code",
   "execution_count": null,
   "metadata": {
    "collapsed": true
   },
   "outputs": [],
   "source": []
  }
 ],
 "metadata": {
  "kernelspec": {
   "display_name": "Python 2",
   "language": "python",
   "name": "python2"
  },
  "language_info": {
   "codemirror_mode": {
    "name": "ipython",
    "version": 2
   },
   "file_extension": ".py",
   "mimetype": "text/x-python",
   "name": "python",
   "nbconvert_exporter": "python",
   "pygments_lexer": "ipython2",
   "version": "2.7.10"
  }
 },
 "nbformat": 4,
 "nbformat_minor": 0
}
