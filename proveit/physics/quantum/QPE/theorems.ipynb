{
 "cells": [
  {
   "cell_type": "code",
   "execution_count": 1,
   "metadata": {
    "collapsed": false
   },
   "outputs": [],
   "source": [
    "from proveit import specialStatementMagic # for %begin_theorems and %end_theorems\n",
    "from proveit.basiclogic import Forall, Equals\n",
    "from proveit.number import Summation, DiscreteContiguousSet, Abs, Neg, Add, Subtract, Multiply, Fraction, Exponentiate\n",
    "from proveit.number import GreaterThan, LessThanEquals, DiscreteContiguousSet, Ceil, Floor, Mod\n",
    "from proveit.statistics import Prob\n",
    "from proveit.common import l, t, eps, k\n",
    "from proveit.number.common import zero, one, two, four, e, pi, i\n",
    "from proveit.linalg import MatrixProd\n",
    "from proveit.physics.quantum import Bra, Ket\n",
    "from proveit.physics.quantum.QPE.common import phase_, m_, b_, delta_, two_pow_t, two_pow_t_minus_one, alpha_l, alpha_l_sqrd\n",
    "from proveit.physics.quantum.QPE.phaseEstOps import Psuccess, Pfail, ModAdd\n",
    "from IPython.display import display"
   ]
  },
  {
   "cell_type": "markdown",
   "metadata": {},
   "source": [
    "Some theorem sub-expressions before we define the theorems:"
   ]
  },
  {
   "cell_type": "code",
   "execution_count": 2,
   "metadata": {
    "collapsed": false
   },
   "outputs": [
    {
     "data": {
      "image/png": "[encoded data removed]",
      "text/plain": [
       "(2^(t) * delta) - l"
      ]
     },
     "metadata": {},
     "output_type": "display_data"
    },
    {
     "data": {
      "image/png": "[encoded data removed]",
      "text/plain": [
       "l / 2^(t) - delta"
      ]
     },
     "metadata": {},
     "output_type": "display_data"
    }
   ],
   "source": [
    "two_pow_t_delta__minus__l = Subtract(Multiply(two_pow_t, delta_), l)\n",
    "l_over_two_pow_t__minus__delta = Subtract(Fraction(l, two_pow_t), delta_)\n",
    "display(two_pow_t_delta__minus__l)\n",
    "display(l_over_two_pow_t__minus__delta)"
   ]
  },
  {
   "cell_type": "code",
   "execution_count": 3,
   "metadata": {
    "collapsed": false
   },
   "outputs": [
    {
     "data": {
      "image/png": "[encoded data removed]",
      "text/plain": [
       "|1 - e^((2 * pi * i * ((2^(t) * delta) - l)))|"
      ]
     },
     "metadata": {},
     "output_type": "display_data"
    },
    {
     "data": {
      "image/png": "[encoded data removed]",
      "text/plain": [
       "|1 - e^((2 * pi * i * (l / 2^(t) - delta)))|"
      ]
     },
     "metadata": {},
     "output_type": "display_data"
    }
   ],
   "source": [
    "alpha_l_summed_numer = Abs(Subtract(one, Exponentiate(e, Multiply(two, pi, i, \n",
    "                                                                two_pow_t_delta__minus__l))))\n",
    "alpha_l_summed_denom = Abs(Subtract(one, Exponentiate(e, Multiply(two, pi, i, \n",
    "                                                                  l_over_two_pow_t__minus__delta))))\n",
    "display(alpha_l_summed_numer)\n",
    "display(alpha_l_summed_denom)           "
   ]
  },
  {
   "cell_type": "code",
   "execution_count": 4,
   "metadata": {
    "collapsed": false
   },
   "outputs": [],
   "source": [
    "%begin_theorems"
   ]
  },
  {
   "cell_type": "markdown",
   "metadata": {},
   "source": [
    "Success probability as sum of individual success event probabilities:"
   ]
  },
  {
   "cell_type": "code",
   "execution_count": 5,
   "metadata": {
    "collapsed": false
   },
   "outputs": [
    {
     "data": {
      "image/png": "[encoded data removed]",
      "text/plain": [
       "forall_{eps} (Psuccess(eps) = Summation_{l=FLOOR(-eps)}^{FLOOR(eps)}Pr[(|(m - b)| = l)])"
      ]
     },
     "execution_count": 5,
     "metadata": {},
     "output_type": "execute_result"
    }
   ],
   "source": [
    "success_sum = Forall(eps, Equals(Psuccess(eps), Summation(l, Prob(Equals(Abs(Subtract(m_, b_)), l)), DiscreteContiguousSet(Ceil(Neg(eps)), Floor(eps)))))\n",
    "success_sum"
   ]
  },
  {
   "cell_type": "markdown",
   "metadata": {},
   "source": [
    "Failure probability as sum of individual failure event probabilities in terms of $\\alpha_l$, amplitude of $\\lvert \\Psi \\rangle$ for a state specified relative to $b$ (the best outcome state):"
   ]
  },
  {
   "cell_type": "code",
   "execution_count": 6,
   "metadata": {
    "collapsed": false
   },
   "outputs": [
    {
     "data": {
      "image/png": "[encoded data removed]",
      "text/plain": [
       "forall_{eps} (Pfail(eps) = (Summation_{l=-(2^((t - 1)) + 1)}^{FLOOR(-(eps + 1))}|alpha_{l}|^(2) + Summation_{l=FLOOR(eps + 1)}^{2^(t - 1)}|alpha_{l}|^(2)))"
      ]
     },
     "execution_count": 6,
     "metadata": {},
     "output_type": "execute_result"
    }
   ],
   "source": [
    "fail_sum = Forall(eps, Equals(Pfail(eps), Add(Summation(l, alpha_l_sqrd, \n",
    "                                                        DiscreteContiguousSet(Neg(Add(two_pow_t_minus_one, one)), \n",
    "                                                                              Ceil(Neg(Add(eps, one))))),\n",
    "                                              Summation(l, alpha_l_sqrd, \n",
    "                                                        DiscreteContiguousSet(Floor(Add(eps, one)), \n",
    "                                                                              two_pow_t_minus_one)))))\n",
    "fail_sum"
   ]
  },
  {
   "cell_type": "markdown",
   "metadata": {},
   "source": [
    "Direct evaluation of $\\alpha_l$:"
   ]
  },
  {
   "cell_type": "code",
   "execution_count": 8,
   "metadata": {
    "collapsed": false
   },
   "outputs": [
    {
     "data": {
      "image/png": "[encoded data removed]",
      "text/plain": [
       "forall_{l} (alpha_{l} = Summation_{k=0}^{2^(t - 1)}(e^(-(2 * pi * i * k * (b MOD_ADD l)) / 2^(t)) * e^((2 * pi * i * phase * k))))"
      ]
     },
     "execution_count": 8,
     "metadata": {},
     "output_type": "execute_result"
    }
   ],
   "source": [
    "alpha_l_eval = Forall(l, Equals(alpha_l, \n",
    "                                Summation(k, Multiply(Exponentiate(e, Fraction(Neg(Multiply(two, pi, i, k, \n",
    "                                                                                            ModAdd(b_, l))),\n",
    "                                                                               two_pow_t)), \n",
    "                                                      Exponentiate(e, Multiply(two, pi, i, phase_, k))),\n",
    "                                          DiscreteContiguousSet(zero, two_pow_t_minus_one))))\n",
    "alpha_l_eval"
   ]
  },
  {
   "cell_type": "markdown",
   "metadata": {},
   "source": [
    "Evaluation of $\\alpha_l$ after performing the geometric series summation:"
   ]
  },
  {
   "cell_type": "code",
   "execution_count": 9,
   "metadata": {
    "collapsed": false,
    "scrolled": true
   },
   "outputs": [
    {
     "data": {
      "image/png": "[encoded data removed]",
      "text/plain": [
       "forall_{l} (alpha_{l} = (1 / 2^(t) * |(1 - e^((2 * pi * i * ((2^(t) * delta) - l))))| / |(1 - e^((2 * pi * i * (l / 2^(t) - delta))))|))"
      ]
     },
     "execution_count": 9,
     "metadata": {},
     "output_type": "execute_result"
    }
   ],
   "source": [
    "alpha_l_summed = Forall(l, Equals(alpha_l, Multiply(Fraction(one, two_pow_t), \n",
    "                                                    Fraction(alpha_l_summed_numer, alpha_l_summed_denom))))\n",
    "alpha_l_summed"
   ]
  },
  {
   "cell_type": "markdown",
   "metadata": {},
   "source": [
    "$| \\alpha_l |^2$ inequality to bound the failure probability:"
   ]
  },
  {
   "cell_type": "code",
   "execution_count": 12,
   "metadata": {
    "collapsed": false
   },
   "outputs": [
    {
     "data": {
      "image/png": "[encoded data removed]",
      "text/plain": [
       "forall_{l} (|alpha_{l}|^(2) <= 1 / (4 * (l - (2^(t) * delta))^(2)))"
      ]
     },
     "execution_count": 12,
     "metadata": {},
     "output_type": "execute_result"
    }
   ],
   "source": [
    "alpha_l_sqrd_ineq = Forall(l, LessThanEquals(alpha_l_sqrd, \n",
    "                                             Fraction(one, \n",
    "                                                      Multiply(four, \n",
    "                                                               Exponentiate(Subtract(l, \n",
    "                                                                                     Multiply(two_pow_t, \n",
    "                                                                                              delta_)), \n",
    "                                                                            two)))))\n",
    "alpha_l_sqrd_ineq"
   ]
  },
  {
   "cell_type": "markdown",
   "metadata": {},
   "source": [
    "A bound on the failure probability:"
   ]
  },
  {
   "cell_type": "code",
   "execution_count": 13,
   "metadata": {
    "collapsed": false
   },
   "outputs": [
    {
     "data": {
      "image/png": "[encoded data removed]",
      "text/plain": [
       "forall_{eps} (Pfail(eps) <= 1 / (2 * (eps - 1)))"
      ]
     },
     "execution_count": 13,
     "metadata": {},
     "output_type": "execute_result"
    }
   ],
   "source": [
    "fail_ineq = Forall(eps, LessThanEquals(Pfail(eps), Fraction(one, Multiply(two, Subtract(eps, one)))))\n",
    "fail_ineq"
   ]
  },
  {
   "cell_type": "code",
   "execution_count": 14,
   "metadata": {
    "collapsed": false
   },
   "outputs": [
    {
     "name": "stdout",
     "output_type": "stream",
     "text": [
      "Creating theorems *.dill and *.pv_it files in the __pv_it__ directory\n",
      "success_sum has changed.  Replace it? (yes/no/all)a\n",
      "These theorems may be imported from proveit.physics.quantum.QPE.theorems\n"
     ]
    }
   ],
   "source": [
    "%end_theorems"
   ]
  },
  {
   "cell_type": "code",
   "execution_count": null,
   "metadata": {
    "collapsed": true
   },
   "outputs": [],
   "source": []
  }
 ],
 "metadata": {
  "kernelspec": {
   "display_name": "Python 2",
   "language": "python",
   "name": "python2"
  }
 },
 "nbformat": 4,
 "nbformat_minor": 0
}
