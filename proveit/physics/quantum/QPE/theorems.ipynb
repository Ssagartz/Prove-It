{
 "cells": [
  {
   "cell_type": "code",
   "execution_count": 1,
   "metadata": {
    "collapsed": false
   },
   "outputs": [],
   "source": [
    "from proveit import specialStatementMagic # for %begin_theorems and %end_theorems\n",
    "from proveit.basiclogic import In, Forall, Equals\n",
    "from proveit.number import Summation, DiscreteContiguousSet, Abs, Neg, Add, Subtract, Multiply, Fraction, Exponentiate\n",
    "from proveit.number import GreaterThan, LessThanEquals, DiscreteContiguousSet, Ceil, Floor, Mod\n",
    "from proveit.statistics import Prob\n",
    "from proveit.common import a, b, l, t, eps, k\n",
    "from proveit.number.common import zero, one, two, four, e, pi, i, Reals, Integers\n",
    "from proveit.linalg import MatrixProd\n",
    "from proveit.physics.quantum import Bra, Ket\n",
    "from proveit.physics.quantum.QPE.common import phase_, m_, b_, delta_, two_pow_t, two_pow_t_minus_one, alpha_l, alpha_l_sqrd\n",
    "from proveit.physics.quantum.QPE.phaseEstOps import Psuccess, Pfail, ModAdd\n",
    "from IPython.display import display"
   ]
  },
  {
   "cell_type": "markdown",
   "metadata": {},
   "source": [
    "Convenience methods for building expressions:"
   ]
  },
  {
   "cell_type": "code",
   "execution_count": 2,
   "metadata": {
    "collapsed": false
   },
   "outputs": [
    {
     "data": {
      "image/png": "[encoded data removed]",
      "text/plain": [
       "e^(2 * pi * i * a * b)"
      ]
     },
     "metadata": {},
     "output_type": "display_data"
    },
    {
     "data": {
      "image/png": "[encoded data removed]",
      "text/plain": [
       "e^((2 * pi * i * a * b) / 2^(t))"
      ]
     },
     "metadata": {},
     "output_type": "display_data"
    },
    {
     "data": {
      "image/png": "[encoded data removed]",
      "text/plain": [
       "e^(-(2 * pi * i * a * b) / 2^(t))"
      ]
     },
     "metadata": {},
     "output_type": "display_data"
    }
   ],
   "source": [
    "def exp2pi_i(*exp_factors):\n",
    "    return Exponentiate(e, Multiply(*((two, pi, i) + exp_factors)))\n",
    "\n",
    "def exp2pi_i_on_two_pow_t(*exp_factors):\n",
    "    return Exponentiate(e, Fraction(Multiply(*((two, pi, i) + exp_factors)), two_pow_t))\n",
    "\n",
    "def expNeg2pi_i_on_two_pow_t(*exp_factors):\n",
    "    return Exponentiate(e, Fraction(Neg(Multiply(*((two, pi, i) + exp_factors))), two_pow_t))\n",
    "\n",
    "display(exp2pi_i(a, b))\n",
    "display(exp2pi_i_on_two_pow_t(a, b))\n",
    "display(expNeg2pi_i_on_two_pow_t(a, b))"
   ]
  },
  {
   "cell_type": "code",
   "execution_count": 3,
   "metadata": {
    "collapsed": false
   },
   "outputs": [],
   "source": [
    "%begin_theorems"
   ]
  },
  {
   "cell_type": "markdown",
   "metadata": {},
   "source": [
    "Our addition modulo $2^t$ is closed for integers."
   ]
  },
  {
   "cell_type": "code",
   "execution_count": 4,
   "metadata": {
    "collapsed": false
   },
   "outputs": [
    {
     "data": {
      "image/png": "[encoded data removed]",
      "text/plain": [
       "forall_{a, b in Integers} ((a MOD_ADD b) in Integers)"
      ]
     },
     "execution_count": 4,
     "metadata": {},
     "output_type": "execute_result"
    }
   ],
   "source": [
    "modAddClosure = Forall((a, b), In(ModAdd(a, b), Integers), domain=Integers)\n",
    "modAddClosure"
   ]
  },
  {
   "cell_type": "markdown",
   "metadata": {},
   "source": [
    "Take care of number domain issues:"
   ]
  },
  {
   "cell_type": "code",
   "execution_count": 5,
   "metadata": {
    "collapsed": false
   },
   "outputs": [
    {
     "data": {
      "image/png": "[encoded data removed]",
      "text/plain": [
       "delta in Reals"
      ]
     },
     "execution_count": 5,
     "metadata": {},
     "output_type": "execute_result"
    }
   ],
   "source": [
    "deltaInReals = In(delta_, Reals)\n",
    "deltaInReals"
   ]
  },
  {
   "cell_type": "markdown",
   "metadata": {},
   "source": [
    "Success probability as sum of individual success event probabilities:"
   ]
  },
  {
   "cell_type": "code",
   "execution_count": 6,
   "metadata": {
    "collapsed": false
   },
   "outputs": [
    {
     "data": {
      "image/png": "[encoded data removed]",
      "text/plain": [
       "forall_{eps in Reals} (Psuccess(eps) = Summation_{l=FLOOR(-eps)}^{FLOOR(eps)}Pr[(|(m - b)| = l)])"
      ]
     },
     "execution_count": 6,
     "metadata": {},
     "output_type": "execute_result"
    }
   ],
   "source": [
    "success_sum = Forall(eps, Equals(Psuccess(eps), Summation(l, Prob(Equals(Abs(Subtract(m_, b_)), l)), \n",
    "                                                          DiscreteContiguousSet(Ceil(Neg(eps)), Floor(eps)))),\n",
    "                    domain=Reals)\n",
    "success_sum"
   ]
  },
  {
   "cell_type": "markdown",
   "metadata": {},
   "source": [
    "Failure probability as sum of individual failure event probabilities in terms of $\\alpha_l$, amplitude of $\\lvert \\Psi \\rangle$ for a state specified relative to $b$ (the best outcome state):"
   ]
  },
  {
   "cell_type": "code",
   "execution_count": 7,
   "metadata": {
    "collapsed": false
   },
   "outputs": [
    {
     "data": {
      "image/png": "[encoded data removed]",
      "text/plain": [
       "forall_{eps in Reals} (Pfail(eps) = (Summation_{l=-(2^(t - 1) + 1)}^{FLOOR(-(eps + 1))}|alpha_{l}|^(2) + Summation_{l=FLOOR(eps + 1)}^{2^(t - 1)}|alpha_{l}|^(2)))"
      ]
     },
     "execution_count": 7,
     "metadata": {},
     "output_type": "execute_result"
    }
   ],
   "source": [
    "fail_sum = Forall(eps, Equals(Pfail(eps), Add(Summation(l, alpha_l_sqrd, \n",
    "                                                        DiscreteContiguousSet(Neg(Add(two_pow_t_minus_one, one)), \n",
    "                                                                              Ceil(Neg(Add(eps, one))))),\n",
    "                                              Summation(l, alpha_l_sqrd, \n",
    "                                                        DiscreteContiguousSet(Floor(Add(eps, one)), \n",
    "                                                                              two_pow_t_minus_one)))),\n",
    "                 domain=Reals)\n",
    "fail_sum"
   ]
  },
  {
   "cell_type": "markdown",
   "metadata": {},
   "source": [
    "Modulo addition may be converted to regular addition within $2 \\pi i$ exponentiation:"
   ]
  },
  {
   "cell_type": "code",
   "execution_count": 8,
   "metadata": {
    "collapsed": false
   },
   "outputs": [
    {
     "data": {
      "image/png": "[encoded data removed]",
      "text/plain": [
       "forall_{a, b in Integers} (e^((2 * pi * i * (a MOD_ADD b)) / 2^(t)) = e^((2 * pi * i * (a + b)) / 2^(t)))"
      ]
     },
     "execution_count": 8,
     "metadata": {},
     "output_type": "execute_result"
    }
   ],
   "source": [
    "exp2pi_i_modadd = Forall((a, b), Equals(exp2pi_i_on_two_pow_t(ModAdd(a, b)), \n",
    "                                       exp2pi_i_on_two_pow_t(Add(a, b))), domain=Integers)\n",
    "exp2pi_i_modadd"
   ]
  },
  {
   "cell_type": "markdown",
   "metadata": {},
   "source": [
    "Direct evaluation of $\\alpha_l$:"
   ]
  },
  {
   "cell_type": "code",
   "execution_count": 9,
   "metadata": {
    "collapsed": false
   },
   "outputs": [
    {
     "data": {
      "image/png": "[encoded data removed]",
      "text/plain": [
       "forall_{l in Integers} (alpha_{l} = Summation_{k=0}^{2^(t - 1)}(e^(-(2 * pi * i * k * (b MOD_ADD l)) / 2^(t)) * e^(2 * pi * i * phase * k)))"
      ]
     },
     "execution_count": 9,
     "metadata": {},
     "output_type": "execute_result"
    }
   ],
   "source": [
    "alpha_l_eval = Forall(l, Equals(alpha_l, \n",
    "                                Summation(k, Multiply(expNeg2pi_i_on_two_pow_t(k, ModAdd(b_, l)), \n",
    "                                                      exp2pi_i(phase_, k)),\n",
    "                                          DiscreteContiguousSet(zero, two_pow_t_minus_one))),\n",
    "                     domain=Integers)\n",
    "alpha_l_eval"
   ]
  },
  {
   "cell_type": "markdown",
   "metadata": {},
   "source": [
    "Evaluation of $\\alpha_l$ after performing the geometric series summation:"
   ]
  },
  {
   "cell_type": "code",
   "execution_count": 10,
   "metadata": {
    "collapsed": false,
    "scrolled": true
   },
   "outputs": [
    {
     "data": {
      "image/png": "[encoded data removed]",
      "text/plain": [
       "forall_{l in Integers} (alpha_{l} = (1 / 2^(t) * (1 - e^(2 * pi * i * ((2^(t) * delta) - l))) / (1 - e^(2 * pi * i * (l / 2^(t) - delta)))))"
      ]
     },
     "execution_count": 10,
     "metadata": {},
     "output_type": "execute_result"
    }
   ],
   "source": [
    "alpha_l_summed = Forall(l, Equals(alpha_l, Multiply(Fraction(one, two_pow_t), \n",
    "                                                    Fraction(Subtract(one, exp2pi_i(Subtract(Multiply(two_pow_t, delta_), l))),\n",
    "                                                             Subtract(one, exp2pi_i(Subtract(Fraction(l, two_pow_t), delta_)))))),\n",
    "                       domain=Integers)\n",
    "alpha_l_summed"
   ]
  },
  {
   "cell_type": "markdown",
   "metadata": {},
   "source": [
    "$| \\alpha_l |^2$ inequality to bound the failure probability:"
   ]
  },
  {
   "cell_type": "code",
   "execution_count": 11,
   "metadata": {
    "collapsed": false
   },
   "outputs": [
    {
     "data": {
      "image/png": "[encoded data removed]",
      "text/plain": [
       "forall_{l in Integers} (|alpha_{l}|^(2) <= 1 / (4 * (l - (2^(t) * delta))^(2)))"
      ]
     },
     "execution_count": 11,
     "metadata": {},
     "output_type": "execute_result"
    }
   ],
   "source": [
    "alpha_l_sqrd_ineq = Forall(l, LessThanEquals(alpha_l_sqrd, \n",
    "                                             Fraction(one, \n",
    "                                                      Multiply(four, \n",
    "                                                               Exponentiate(Subtract(l, \n",
    "                                                                                     Multiply(two_pow_t, \n",
    "                                                                                              delta_)), \n",
    "                                                                            two)))),\n",
    "                          domain=Integers)\n",
    "alpha_l_sqrd_ineq"
   ]
  },
  {
   "cell_type": "markdown",
   "metadata": {},
   "source": [
    "A bound on the failure probability:"
   ]
  },
  {
   "cell_type": "code",
   "execution_count": 12,
   "metadata": {
    "collapsed": false
   },
   "outputs": [
    {
     "data": {
      "image/png": "[encoded data removed]",
      "text/plain": [
       "forall_{eps in Reals} (Pfail(eps) <= 1 / (2 * (eps - 1)))"
      ]
     },
     "execution_count": 12,
     "metadata": {},
     "output_type": "execute_result"
    }
   ],
   "source": [
    "fail_ineq = Forall(eps, LessThanEquals(Pfail(eps), Fraction(one, Multiply(two, Subtract(eps, one)))), domain=Reals)\n",
    "fail_ineq"
   ]
  },
  {
   "cell_type": "code",
   "execution_count": 13,
   "metadata": {
    "collapsed": false
   },
   "outputs": [
    {
     "name": "stdout",
     "output_type": "stream",
     "text": [
      "Creating theorems *.dill and *.pv_it files in the __pv_it__ directory\n",
      "two_pow_t_in_real appears to be obsolete.  Remove it?  (yes/no/all)a\n",
      "These theorems may be imported from proveit.physics.quantum.QPE.theorems\n"
     ]
    }
   ],
   "source": [
    "%end_theorems"
   ]
  },
  {
   "cell_type": "code",
   "execution_count": null,
   "metadata": {
    "collapsed": true
   },
   "outputs": [],
   "source": []
  }
 ],
 "metadata": {
  "kernelspec": {
   "display_name": "Python 2",
   "language": "python",
   "name": "python2"
  },
  "language_info": {
   "codemirror_mode": {
    "name": "ipython",
    "version": 2
   },
   "file_extension": ".py",
   "mimetype": "text/x-python",
   "name": "python",
   "nbconvert_exporter": "python",
   "pygments_lexer": "ipython2",
   "version": "2.7.10"
  }
 },
 "nbformat": 4,
 "nbformat_minor": 0
}
