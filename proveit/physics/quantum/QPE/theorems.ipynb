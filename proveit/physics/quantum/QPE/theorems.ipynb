{
 "cells": [
  {
   "cell_type": "code",
   "execution_count": 1,
   "metadata": {
    "collapsed": false
   },
   "outputs": [],
   "source": [
    "from proveit import specialStatementMagic # for %begin_theorems and %end_theorems\n",
    "from proveit.expression import Lambda\n",
    "from proveit.basiclogic import In, NotIn, Forall, Equals, NotEquals\n",
    "from proveit.number import Summation, DiscreteContiguousSet, Abs, Neg, Add, Subtract, Multiply, Fraction, Exponentiate\n",
    "from proveit.number import GreaterThan, GreaterThanEquals, LessThan, LessThanEquals, DiscreteContiguousSet, Mod\n",
    "from proveit.number.arithmeticOps import Integrate, IntervalCC, IntervalCO, IntervalOO\n",
    "from proveit.statistics import Prob\n",
    "from proveit.common import a, b, l, t, eps, k\n",
    "from proveit.number.common import zero, one, two, three, four, five, eight, e, pi, i, Reals, Naturals, NaturalsPos, Integers, Complexes, EvenFuncs, MonDecFuncs\n",
    "from proveit.linalg import MatrixProd\n",
    "from proveit.physics.quantum import Bra, Ket\n",
    "from proveit.physics.quantum.QPE.common import t_, phase_, m_, b_, delta_, two_pow_t, two_pow_t_minus_one, \\\n",
    "    alpha_l, alpha_l_sqrd, fullDomain, negDomain, posDomain, epsDomain\n",
    "from proveit.physics.quantum.QPE.phaseEstOps import Psuccess, Pfail, ModAdd\n",
    "from IPython.display import display\n"
   ]
  },
  {
   "cell_type": "markdown",
   "metadata": {},
   "source": [
    "Convenience methods for building expressions:"
   ]
  },
  {
   "cell_type": "code",
   "execution_count": 2,
   "metadata": {
    "collapsed": false
   },
   "outputs": [
    {
     "data": {
      "text/latex": [
       "$e^{2 \\cdot \\pi \\cdot i \\cdot a \\cdot b}$"
      ],
      "text/plain": [
       "e^(2 * pi * i * a * b)"
      ]
     },
     "metadata": {},
     "output_type": "display_data"
    },
    {
     "data": {
      "text/latex": [
       "$e^{\\frac{2 \\cdot \\pi \\cdot i \\cdot a \\cdot b}{2^{t}}}$"
      ],
      "text/plain": [
       "e^((2 * pi * i * a * b) / 2^(t))"
      ]
     },
     "metadata": {},
     "output_type": "display_data"
    },
    {
     "data": {
      "text/latex": [
       "$e^{\\frac{-\\left(2 \\cdot \\pi \\cdot i \\cdot a \\cdot b\\right)}{2^{t}}}$"
      ],
      "text/plain": [
       "e^((-(2 * pi * i * a * b)) / 2^(t))"
      ]
     },
     "metadata": {},
     "output_type": "display_data"
    }
   ],
   "source": [
    "def exp2pi_i(*exp_factors):\n",
    "    return Exponentiate(e, Multiply(*((two, pi, i) + exp_factors)))\n",
    "\n",
    "def exp2pi_i_on_two_pow_t(*exp_factors):\n",
    "    return Exponentiate(e, Fraction(Multiply(*((two, pi, i) + exp_factors)), two_pow_t))\n",
    "\n",
    "def expNeg2pi_i_on_two_pow_t(*exp_factors):\n",
    "    return Exponentiate(e, Fraction(Neg(Multiply(*((two, pi, i) + exp_factors))), two_pow_t))\n",
    "\n",
    "display(exp2pi_i(a, b))\n",
    "display(exp2pi_i_on_two_pow_t(a, b))\n",
    "display(expNeg2pi_i_on_two_pow_t(a, b))"
   ]
  },
  {
   "cell_type": "code",
   "execution_count": 3,
   "metadata": {
    "collapsed": false
   },
   "outputs": [],
   "source": [
    "%begin_theorems"
   ]
  },
  {
   "cell_type": "markdown",
   "metadata": {},
   "source": [
    "Take care of number domain issues:"
   ]
  },
  {
   "cell_type": "code",
   "execution_count": 4,
   "metadata": {
    "collapsed": false
   },
   "outputs": [
    {
     "data": {
      "text/latex": [
       "$2^{t} \\in \\mathbb{N}^+$"
      ],
      "text/plain": [
       "2^(t) in NaturalsPos"
      ]
     },
     "execution_count": 4,
     "metadata": {},
     "output_type": "execute_result"
    }
   ],
   "source": [
    "two_pow_t_in_posnats = In(two_pow_t, NaturalsPos)\n",
    "two_pow_t_in_posnats"
   ]
  },
  {
   "cell_type": "code",
   "execution_count": 5,
   "metadata": {
    "collapsed": false
   },
   "outputs": [
    {
     "data": {
      "text/latex": [
       "$2^{t - 1} \\in \\mathbb{N}^+$"
      ],
      "text/plain": [
       "2^(t - 1) in NaturalsPos"
      ]
     },
     "execution_count": 5,
     "metadata": {},
     "output_type": "execute_result"
    }
   ],
   "source": [
    "two_pow_tMinusOne_in_posnats = In(Exponentiate(two, Subtract(t_, one)), NaturalsPos)\n",
    "two_pow_tMinusOne_in_posnats"
   ]
  },
  {
   "cell_type": "code",
   "execution_count": 6,
   "metadata": {
    "collapsed": false
   },
   "outputs": [
    {
     "data": {
      "text/latex": [
       "$2^{t} \\neq 0$"
      ],
      "text/plain": [
       "2^(t) != 0"
      ]
     },
     "execution_count": 6,
     "metadata": {},
     "output_type": "execute_result"
    }
   ],
   "source": [
    "two_pow_t_not_zero = NotEquals(two_pow_t, zero)\n",
    "two_pow_t_not_zero"
   ]
  },
  {
   "cell_type": "code",
   "execution_count": 7,
   "metadata": {
    "collapsed": false
   },
   "outputs": [
    {
     "data": {
      "text/latex": [
       "$\\forall_{a, b \\in \\mathbb{Z}} \\left(\\left(a \\oplus b\\right) \\in \\mathbb{Z}\\right)$"
      ],
      "text/plain": [
       "forall_{a, b in Integers} ((a MOD_ADD b) in Integers)"
      ]
     },
     "execution_count": 7,
     "metadata": {},
     "output_type": "execute_result"
    }
   ],
   "source": [
    "modAddClosure = Forall((a, b), In(ModAdd(a, b), Integers), domain=Integers)\n",
    "modAddClosure"
   ]
  },
  {
   "cell_type": "code",
   "execution_count": 8,
   "metadata": {
    "collapsed": false
   },
   "outputs": [
    {
     "data": {
      "text/latex": [
       "$\\varphi \\in \\mathbb{R}$"
      ],
      "text/plain": [
       "phase in Reals"
      ]
     },
     "execution_count": 8,
     "metadata": {},
     "output_type": "execute_result"
    }
   ],
   "source": [
    "phaseInReals = In(phase_, Reals)\n",
    "phaseInReals"
   ]
  },
  {
   "cell_type": "code",
   "execution_count": 9,
   "metadata": {
    "collapsed": false
   },
   "outputs": [
    {
     "data": {
      "text/latex": [
       "$b \\in \\mathbb{Z}$"
      ],
      "text/plain": [
       "b in Integers"
      ]
     },
     "execution_count": 9,
     "metadata": {},
     "output_type": "execute_result"
    }
   ],
   "source": [
    "bestInInts = In(b_, Integers)\n",
    "bestInInts"
   ]
  },
  {
   "cell_type": "code",
   "execution_count": 10,
   "metadata": {
    "collapsed": false
   },
   "outputs": [
    {
     "data": {
      "text/latex": [
       "$\\forall_{\\varepsilon \\in \\mathbb{N}^+} \\left[\\forall_{l \\in \\{\\left(\\varepsilon + 1\\right)\\ldots 2^{t - 1}\\}} \\left(l \\in \\{\\left(\\left(-2^{t - 1}\\right) + 1\\right)\\ldots 2^{t - 1}\\}\\right)\\right]$"
      ],
      "text/plain": [
       "forall_{eps in NaturalsPos} [forall_{l in \\{(eps + 1)...2^(t - 1)\\}} (l in \\{((-2^(t - 1)) + 1)...2^(t - 1)\\})]"
      ]
     },
     "execution_count": 10,
     "metadata": {},
     "output_type": "execute_result"
    }
   ],
   "source": [
    "posDomainInFullDomain = Forall(eps, Forall(l, In(l, fullDomain), domain=posDomain), domain=NaturalsPos)\n",
    "posDomainInFullDomain"
   ]
  },
  {
   "cell_type": "code",
   "execution_count": 11,
   "metadata": {
    "collapsed": false
   },
   "outputs": [
    {
     "data": {
      "text/latex": [
       "$\\forall_{\\varepsilon \\in \\mathbb{N}^+} \\left[\\forall_{l \\in \\{\\left(\\left(-2^{t - 1}\\right) + 1\\right)\\ldots \\left(-\\left(\\varepsilon + 1\\right)\\right)\\}} \\left(l \\in \\{\\left(\\left(-2^{t - 1}\\right) + 1\\right)\\ldots 2^{t - 1}\\}\\right)\\right]$"
      ],
      "text/plain": [
       "forall_{eps in NaturalsPos} [forall_{l in \\{((-2^(t - 1)) + 1)...(-(eps + 1))\\}} (l in \\{((-2^(t - 1)) + 1)...2^(t - 1)\\})]"
      ]
     },
     "execution_count": 11,
     "metadata": {},
     "output_type": "execute_result"
    }
   ],
   "source": [
    "negDomainInFullDomain = Forall(eps, Forall(l, In(l, fullDomain), domain=negDomain), domain=NaturalsPos)\n",
    "negDomainInFullDomain"
   ]
  },
  {
   "cell_type": "markdown",
   "metadata": {},
   "source": [
    "This derives from $\\delta$ being the difference between $\\delta$ and its best $t$-bit estimate (without going over):"
   ]
  },
  {
   "cell_type": "code",
   "execution_count": 12,
   "metadata": {
    "collapsed": false
   },
   "outputs": [
    {
     "data": {
      "text/latex": [
       "$\\left(2^{t} \\cdot \\delta\\right) \\in \\left[0,1\\right)$"
      ],
      "text/plain": [
       "(2^(t) * delta) in [0,1)"
      ]
     },
     "execution_count": 12,
     "metadata": {},
     "output_type": "execute_result"
    }
   ],
   "source": [
    "scaledDeltaInInterval = In(Multiply(two_pow_t, delta_), IntervalCO(zero, one))\n",
    "scaledDeltaInInterval"
   ]
  },
  {
   "cell_type": "code",
   "execution_count": 13,
   "metadata": {
    "collapsed": false
   },
   "outputs": [
    {
     "data": {
      "text/latex": [
       "$\\delta \\in \\mathbb{R}$"
      ],
      "text/plain": [
       "delta in Reals"
      ]
     },
     "execution_count": 13,
     "metadata": {},
     "output_type": "execute_result"
    }
   ],
   "source": [
    "deltaInReals = In(delta_, Reals)\n",
    "deltaInReals"
   ]
  },
  {
   "cell_type": "code",
   "execution_count": 14,
   "metadata": {
    "collapsed": false
   },
   "outputs": [
    {
     "data": {
      "text/latex": [
       "$\\forall_{l \\in \\mathbb{Z}} \\left(\\alpha_{l} \\in \\mathbb{C}\\right)$"
      ],
      "text/plain": [
       "forall_{l in Integers} (alpha_{l} in Complexes)"
      ]
     },
     "execution_count": 14,
     "metadata": {},
     "output_type": "execute_result"
    }
   ],
   "source": [
    "all_alpha_l_in_complexes = Forall(l, In(alpha_l, Complexes), Integers)\n",
    "all_alpha_l_in_complexes"
   ]
  },
  {
   "cell_type": "code",
   "execution_count": 15,
   "metadata": {
    "collapsed": false
   },
   "outputs": [
    {
     "data": {
      "text/latex": [
       "$\\forall_{l \\in \\mathbb{Z}} \\left(\\left|\\alpha_{l}\\right|^{2} \\in \\mathbb{R}\\right)$"
      ],
      "text/plain": [
       "forall_{l in Integers} (|alpha_{l}|^(2) in Reals)"
      ]
     },
     "execution_count": 15,
     "metadata": {},
     "output_type": "execute_result"
    }
   ],
   "source": [
    "all_alpha_l_sqrd_in_reals = Forall(l, In(alpha_l_sqrd, Reals), Integers)\n",
    "all_alpha_l_sqrd_in_reals"
   ]
  },
  {
   "cell_type": "markdown",
   "metadata": {},
   "source": [
    "Follows from scaledDeltaInInterval:"
   ]
  },
  {
   "cell_type": "code",
   "execution_count": 17,
   "metadata": {
    "collapsed": false
   },
   "outputs": [
    {
     "data": {
      "text/latex": [
       "$\\forall_{l \\in \\mathbb{Z}~|~l \\neq 0} \\left(\\left(2^{t} \\cdot \\delta\\right) \\neq l\\right)$"
      ],
      "text/plain": [
       "forall_{l in Integers | l != 0} ((2^(t) * delta) != l)"
      ]
     },
     "execution_count": 17,
     "metadata": {},
     "output_type": "execute_result"
    }
   ],
   "source": [
    "scaledDelta_notEq_nonzeroInt = Forall(l, NotEquals(Multiply(two_pow_t, delta_), l), domain=Integers, conditions = NotEquals(l, zero))\n",
    "scaledDelta_notEq_nonzeroInt"
   ]
  },
  {
   "cell_type": "code",
   "execution_count": 16,
   "metadata": {
    "collapsed": false
   },
   "outputs": [
    {
     "data": {
      "text/latex": [
       "$\\forall_{l \\in \\mathbb{Z}~|~l \\neq 0} \\left(\\delta \\neq \\frac{l}{2^{t}}\\right)$"
      ],
      "text/plain": [
       "forall_{l in Integers | l != 0} (delta != l / 2^(t))"
      ]
     },
     "execution_count": 16,
     "metadata": {},
     "output_type": "execute_result"
    }
   ],
   "source": [
    "delta_notEq_scaledNonzeroInt = Forall(l, NotEquals(delta_, Fraction(l, two_pow_t)), domain=Integers, conditions = NotEquals(l, zero))\n",
    "delta_notEq_scaledNonzeroInt"
   ]
  },
  {
   "cell_type": "code",
   "execution_count": 18,
   "metadata": {
    "collapsed": false
   },
   "outputs": [
    {
     "data": {
      "text/latex": [
       "$\\forall_{l \\in \\{\\left(\\left(-2^{t - 1}\\right) + 1\\right)\\ldots 2^{t - 1}\\}} \\left(\\left(\\delta - \\frac{l}{2^{t}}\\right) \\in \\left[\\left(-\\frac{1}{2}\\right),\\frac{1}{2}\\right)\\right)$"
      ],
      "text/plain": [
       "forall_{l in \\{((-2^(t - 1)) + 1)...2^(t - 1)\\}} ((delta - l / 2^(t)) in [(-1 / 2),1 / 2))"
      ]
     },
     "execution_count": 18,
     "metadata": {},
     "output_type": "execute_result"
    }
   ],
   "source": [
    "deltaDiffInInterval = Forall(l, In(Subtract(delta_, Fraction(l, two_pow_t)), IntervalCO(Neg(Fraction(one, two)), Fraction(one, two))), domain=fullDomain)\n",
    "deltaDiffInInterval"
   ]
  },
  {
   "cell_type": "code",
   "execution_count": 19,
   "metadata": {
    "collapsed": false
   },
   "outputs": [
    {
     "data": {
      "text/latex": [
       "$\\forall_{l \\in \\{\\left(\\left(-2^{t - 1}\\right) + 1\\right)\\ldots 2^{t - 1}\\}} \\left(\\left(2 \\cdot \\pi \\cdot \\left(\\delta - \\frac{l}{2^{t}}\\right)\\right) \\in \\left[\\left(-\\pi\\right),\\pi\\right]\\right)$"
      ],
      "text/plain": [
       "forall_{l in \\{((-2^(t - 1)) + 1)...2^(t - 1)\\}} ((2 * pi * (delta - l / 2^(t))) in [(-pi),pi])"
      ]
     },
     "execution_count": 19,
     "metadata": {},
     "output_type": "execute_result"
    }
   ],
   "source": [
    "scaledDeltaDiffInInterval = Forall(l, In(Multiply(two, pi, Subtract(delta_, Fraction(l, two_pow_t))), IntervalCC(Neg(pi), pi)), domain=fullDomain)\n",
    "scaledDeltaDiffInInterval"
   ]
  },
  {
   "cell_type": "code",
   "execution_count": 20,
   "metadata": {
    "collapsed": false
   },
   "outputs": [
    {
     "data": {
      "text/latex": [
       "$\\forall_{l \\in \\{\\left(\\left(-2^{t - 1}\\right) + 1\\right)\\ldots 2^{t - 1}\\}~|~l \\neq 0} \\left(\\left(\\delta - \\frac{l}{2^{t}}\\right) \\notin \\mathbb{Z}\\right)$"
      ],
      "text/plain": [
       "forall_{l in \\{((-2^(t - 1)) + 1)...2^(t - 1)\\} | l != 0} ((delta - l / 2^(t)) not in Integers)"
      ]
     },
     "execution_count": 20,
     "metadata": {},
     "output_type": "execute_result"
    }
   ],
   "source": [
    "nonIntDeltaDiff = Forall(l, NotIn(Subtract(delta_, Fraction(l, two_pow_t)), Integers), \n",
    "                         domain=fullDomain,\n",
    "                         conditions = [NotEquals(l, zero)])\n",
    "nonIntDeltaDiff"
   ]
  },
  {
   "cell_type": "markdown",
   "metadata": {},
   "source": [
    "Success probability as sum of individual success event probabilities:"
   ]
  },
  {
   "cell_type": "code",
   "execution_count": 21,
   "metadata": {
    "collapsed": false
   },
   "outputs": [
    {
     "data": {
      "text/latex": [
       "$\\forall_{\\varepsilon \\in \\mathbb{N}} \\left(P_{\\rm success}\\left(\\varepsilon\\right) = \\left(\\sum_{l=-\\varepsilon}^{\\varepsilon} Pr[\\left(\\left|\\left(m - b\\right)\\right| = l\\right)]\\right)\\right)$"
      ],
      "text/plain": [
       "forall_{eps in Naturals} (Psuccess(eps) = (Summation_{l=-eps}^{eps} Pr[(|(m - b)| = l)]))"
      ]
     },
     "execution_count": 21,
     "metadata": {},
     "output_type": "execute_result"
    }
   ],
   "source": [
    "success_sum = Forall(eps, Equals(Psuccess(eps), Summation(l, Prob(Equals(Abs(Subtract(m_, b_)), l)), \n",
    "                                                          DiscreteContiguousSet(Neg(eps), eps))),\n",
    "                    domain=Naturals)\n",
    "success_sum"
   ]
  },
  {
   "cell_type": "markdown",
   "metadata": {},
   "source": [
    "Failure probability as sum of individual failure event probabilities in terms of $\\alpha_l$, amplitude of $\\lvert \\Psi \\rangle$ for a state specified relative to $b$ (the best outcome state):"
   ]
  },
  {
   "cell_type": "code",
   "execution_count": 22,
   "metadata": {
    "collapsed": false
   },
   "outputs": [
    {
     "data": {
      "text/latex": [
       "$\\forall_{\\varepsilon \\in \\mathbb{N}^+} \\left(P_{\\rm fail}\\left(\\varepsilon\\right) = \\left(\\left(\\sum_{l=\\left(-2^{t - 1}\\right) + 1}^{-\\left(\\varepsilon + 1\\right)} \\left|\\alpha_{l}\\right|^{2}\\right) + \\left(\\sum_{l=\\varepsilon + 1}^{2^{t - 1}} \\left|\\alpha_{l}\\right|^{2}\\right)\\right)\\right)$"
      ],
      "text/plain": [
       "forall_{eps in NaturalsPos} (Pfail(eps) = ((Summation_{l=(-2^(t - 1)) + 1}^{-(eps + 1)} |alpha_{l}|^(2)) + (Summation_{l=eps + 1}^{2^(t - 1)} |alpha_{l}|^(2))))"
      ]
     },
     "execution_count": 22,
     "metadata": {},
     "output_type": "execute_result"
    }
   ],
   "source": [
    "fail_sum = Forall(eps, Equals(Pfail(eps), Add(Summation(l, alpha_l_sqrd, \n",
    "                                                        negDomain),\n",
    "                                              Summation(l, alpha_l_sqrd, \n",
    "                                                        posDomain))),\n",
    "                 domain=NaturalsPos)\n",
    "fail_sum"
   ]
  },
  {
   "cell_type": "markdown",
   "metadata": {},
   "source": [
    "Modulo addition may be converted to regular addition within $2 \\pi i$ exponentiation:"
   ]
  },
  {
   "cell_type": "code",
   "execution_count": 23,
   "metadata": {
    "collapsed": false
   },
   "outputs": [
    {
     "data": {
      "text/latex": [
       "$\\forall_{a, b \\in \\mathbb{Z}} \\left(e^{\\frac{2 \\cdot \\pi \\cdot i \\cdot \\left(a \\oplus b\\right)}{2^{t}}} = e^{\\frac{2 \\cdot \\pi \\cdot i \\cdot \\left(a + b\\right)}{2^{t}}}\\right)$"
      ],
      "text/plain": [
       "forall_{a, b in Integers} (e^((2 * pi * i * (a MOD_ADD b)) / 2^(t)) = e^((2 * pi * i * (a + b)) / 2^(t)))"
      ]
     },
     "execution_count": 23,
     "metadata": {},
     "output_type": "execute_result"
    }
   ],
   "source": [
    "exp2pi_i_modadd = Forall((a, b), Equals(exp2pi_i_on_two_pow_t(ModAdd(a, b)), \n",
    "                                       exp2pi_i_on_two_pow_t(Add(a, b))), domain=Integers)\n",
    "exp2pi_i_modadd"
   ]
  },
  {
   "cell_type": "markdown",
   "metadata": {},
   "source": [
    "Direct evaluation of $\\alpha_l$:"
   ]
  },
  {
   "cell_type": "code",
   "execution_count": 24,
   "metadata": {
    "collapsed": false
   },
   "outputs": [
    {
     "data": {
      "text/latex": [
       "$\\forall_{l \\in \\mathbb{Z}} \\left(\\alpha_{l} = \\left(\\frac{1}{2^{t}} \\cdot \\left(\\sum_{k=0}^{2^{t} - 1} \\left(e^{\\frac{-\\left(2 \\cdot \\pi \\cdot i \\cdot k \\cdot \\left(b \\oplus l\\right)\\right)}{2^{t}}} \\cdot e^{2 \\cdot \\pi \\cdot i \\cdot \\varphi \\cdot k}\\right)\\right)\\right)\\right)$"
      ],
      "text/plain": [
       "forall_{l in Integers} (alpha_{l} = (1 / 2^(t) * (Summation_{k=0}^{2^(t) - 1} (e^((-(2 * pi * i * k * (b MOD_ADD l))) / 2^(t)) * e^(2 * pi * i * phase * k)))))"
      ]
     },
     "execution_count": 24,
     "metadata": {},
     "output_type": "execute_result"
    }
   ],
   "source": [
    "alpha_l_eval = Forall(l, Equals(alpha_l, \n",
    "                                Multiply(Fraction(one, two_pow_t),\n",
    "                                         Summation(k, Multiply(expNeg2pi_i_on_two_pow_t(k, ModAdd(b_, l)), \n",
    "                                                          exp2pi_i(phase_, k)),\n",
    "                                                   DiscreteContiguousSet(zero, Subtract(two_pow_t, one))))),\n",
    "                     domain=Integers)\n",
    "alpha_l_eval"
   ]
  },
  {
   "cell_type": "markdown",
   "metadata": {},
   "source": [
    "Evaluation of $\\alpha_l$ after performing the geometric series summation in terms of $\\delta$:"
   ]
  },
  {
   "cell_type": "code",
   "execution_count": 25,
   "metadata": {
    "collapsed": false
   },
   "outputs": [
    {
     "data": {
      "text/latex": [
       "$\\varphi = \\left(\\frac{b}{2^{t}} + \\delta\\right)$"
      ],
      "text/plain": [
       "phase = (b / 2^(t) + delta)"
      ]
     },
     "execution_count": 25,
     "metadata": {},
     "output_type": "execute_result"
    }
   ],
   "source": [
    "phaseFromBest = Equals(phase_, Add(Fraction(b_, two_pow_t), delta_))\n",
    "phaseFromBest"
   ]
  },
  {
   "cell_type": "code",
   "execution_count": 26,
   "metadata": {
    "collapsed": false,
    "scrolled": true
   },
   "outputs": [
    {
     "data": {
      "text/latex": [
       "$\\forall_{l \\in \\mathbb{Z}} \\left(\\alpha_{l} = \\left(\\frac{1}{2^{t}} \\cdot \\frac{1 - e^{2 \\cdot \\pi \\cdot i \\cdot \\left(\\left(2^{t} \\cdot \\delta\\right) - l\\right)}}{1 - e^{2 \\cdot \\pi \\cdot i \\cdot \\left(\\frac{l}{2^{t}} - \\delta\\right)}}\\right)\\right)$"
      ],
      "text/plain": [
       "forall_{l in Integers} (alpha_{l} = (1 / 2^(t) * (1 - e^(2 * pi * i * ((2^(t) * delta) - l))) / (1 - e^(2 * pi * i * (l / 2^(t) - delta)))))"
      ]
     },
     "execution_count": 26,
     "metadata": {},
     "output_type": "execute_result"
    }
   ],
   "source": [
    "alpha_l_summed = Forall(l, Equals(alpha_l, Multiply(Fraction(one, two_pow_t), \n",
    "                                                    Fraction(Subtract(one, exp2pi_i(Subtract(Multiply(two_pow_t, delta_), l))),\n",
    "                                                             Subtract(one, exp2pi_i(Subtract(Fraction(l, two_pow_t), delta_)))))),\n",
    "                       domain=Integers)\n",
    "alpha_l_summed"
   ]
  },
  {
   "cell_type": "code",
   "execution_count": 27,
   "metadata": {
    "collapsed": false
   },
   "outputs": [
    {
     "data": {
      "text/latex": [
       "$\\forall_{l \\in \\mathbb{Z}} \\left(\\left|\\alpha_{l}\\right| = \\frac{\\left|1 - e^{2 \\cdot \\pi \\cdot i \\cdot \\left(\\left(2^{t} \\cdot \\delta\\right) - l\\right)}\\right|}{2^{t} \\cdot \\left|\\left(1 - e^{2 \\cdot \\pi \\cdot i \\cdot \\left(\\delta - \\frac{l}{2^{t}}\\right)}\\right)\\right|}\\right)$"
      ],
      "text/plain": [
       "forall_{l in Integers} (|alpha_{l}| = |(1 - e^(2 * pi * i * ((2^(t) * delta) - l)))| / (2^(t) * |(1 - e^(2 * pi * i * (delta - l / 2^(t))))|))"
      ]
     },
     "execution_count": 27,
     "metadata": {},
     "output_type": "execute_result"
    }
   ],
   "source": [
    "alpha_l_summed_abs = Forall(l,\n",
    "                           Equals(Abs(alpha_l),\n",
    "                        Fraction(\n",
    "                                Abs(Subtract(one,\n",
    "                                            Exponentiate(e,\n",
    "                                                        Multiply(two,pi,i,\n",
    "                                                                Subtract(\n",
    "                                                                        Multiply(\n",
    "                                                                                Exponentiate(two,t_),delta_),\n",
    "                                                                        l)\n",
    "                )))\n",
    "    ),\n",
    "                            Multiply(Exponentiate(two,t_),    \n",
    "                            Abs(Subtract(one,\n",
    "                                            Exponentiate(e,\n",
    "                                                        Multiply(two,pi,i,\n",
    "                                                                Subtract(\n",
    "                                                                        delta_,\n",
    "                                                                        Fraction(l,Exponentiate(two,t_))\n",
    "                                \n",
    "\n",
    ")\n",
    "                                                                 )\n",
    "                    )\n",
    "                                             )\n",
    "                                    ))\n",
    "        )\n",
    "    ),\n",
    "                           domain=Integers)\n",
    "alpha_l_summed_abs"
   ]
  },
  {
   "cell_type": "markdown",
   "metadata": {},
   "source": [
    "$| \\alpha_l |^2$ inequality to bound the failure probability:"
   ]
  },
  {
   "cell_type": "code",
   "execution_count": 28,
   "metadata": {
    "collapsed": false
   },
   "outputs": [
    {
     "data": {
      "text/latex": [
       "$\\forall_{l \\in \\{\\left(\\left(-2^{t - 1}\\right) + 1\\right)\\ldots 2^{t - 1}\\}~|~l \\neq 0} \\left(\\left|\\alpha_{l}\\right|^{2} \\leq \\frac{1}{4 \\cdot \\left(l - \\left(2^{t} \\cdot \\delta\\right)\\right)^{2}}\\right)$"
      ],
      "text/plain": [
       "forall_{l in \\{((-2^(t - 1)) + 1)...2^(t - 1)\\} | l != 0} (|alpha_{l}|^(2) <= 1 / (4 * (l - (2^(t) * delta))^(2)))"
      ]
     },
     "execution_count": 28,
     "metadata": {},
     "output_type": "execute_result"
    }
   ],
   "source": [
    "alpha_l_sqrd_ineq = Forall(l, LessThanEquals(alpha_l_sqrd, \n",
    "                                             Fraction(one, \n",
    "                                                      Multiply(four, \n",
    "                                                               Exponentiate(Subtract(l, \n",
    "                                                                                     Multiply(two_pow_t, \n",
    "                                                                                              delta_)), \n",
    "                                                                            two)))),\n",
    "                           domain=fullDomain,\n",
    "                           conditions=NotEquals(l, zero))\n",
    "alpha_l_sqrd_ineq"
   ]
  },
  {
   "cell_type": "markdown",
   "metadata": {},
   "source": [
    "A bound on the failure probability:"
   ]
  },
  {
   "cell_type": "code",
   "execution_count": 29,
   "metadata": {
    "collapsed": false
   },
   "outputs": [
    {
     "data": {
      "text/latex": [
       "$\\forall_{\\varepsilon \\in \\{1\\ldots \\left(2^{t - 1} - 2\\right)\\}} \\left(P_{\\rm fail}\\left(\\varepsilon\\right) \\leq \\left(\\frac{1}{2} \\cdot \\left(\\frac{1}{\\varepsilon} + \\frac{1}{\\varepsilon^{2}}\\right)\\right)\\right)$"
      ],
      "text/plain": [
       "forall_{eps in \\{1...(2^(t - 1) - 2)\\}} (Pfail(eps) <= (1 / 2 * (1 / eps + 1 / eps^(2))))"
      ]
     },
     "execution_count": 29,
     "metadata": {},
     "output_type": "execute_result"
    }
   ],
   "source": [
    "fail_ineq = Forall(eps, LessThanEquals(Pfail(eps), Multiply(Fraction(one,two), \n",
    "                                                            Add(Fraction(one,eps), \n",
    "                                                                Fraction(one, Exponentiate(eps, two))))), domain=epsDomain)\n",
    "fail_ineq"
   ]
  },
  {
   "cell_type": "code",
   "execution_count": 30,
   "metadata": {
    "collapsed": false
   },
   "outputs": [
    {
     "data": {
      "text/latex": [
       "$P_{\\rm fail}\\left(2\\right) \\leq \\frac{3}{8}$"
      ],
      "text/plain": [
       "Pfail(2) <= 3 / 8"
      ]
     },
     "execution_count": 30,
     "metadata": {},
     "output_type": "execute_result"
    }
   ],
   "source": [
    "fail_two_units = LessThanEquals(Pfail(two), Fraction(three, eight))\n",
    "fail_two_units"
   ]
  },
  {
   "cell_type": "code",
   "execution_count": 31,
   "metadata": {
    "collapsed": false
   },
   "outputs": [
    {
     "data": {
      "text/latex": [
       "$P_{\\rm success}\\left(2\\right) \\geq \\frac{5}{8}$"
      ],
      "text/plain": [
       "Psuccess(2) >= 5 / 8"
      ]
     },
     "execution_count": 31,
     "metadata": {},
     "output_type": "execute_result"
    }
   ],
   "source": [
    "success_two_units = GreaterThanEquals(Psuccess(two), Fraction(five, eight))\n",
    "success_two_units"
   ]
  },
  {
   "cell_type": "code",
   "execution_count": 32,
   "metadata": {
    "collapsed": false
   },
   "outputs": [
    {
     "name": "stdout",
     "output_type": "stream",
     "text": [
      "Creating theorems *.dill and *.pv_it files in the __pv_it__ directory\n",
      "These theorems may be imported from proveit.physics.quantum.QPE.theorems\n"
     ]
    }
   ],
   "source": [
    "%end_theorems"
   ]
  },
  {
   "cell_type": "code",
   "execution_count": null,
   "metadata": {
    "collapsed": true
   },
   "outputs": [],
   "source": []
  },
  {
   "cell_type": "code",
   "execution_count": null,
   "metadata": {
    "collapsed": true
   },
   "outputs": [],
   "source": []
  }
 ],
 "metadata": {
  "kernelspec": {
   "display_name": "Python 2",
   "language": "python",
   "name": "python2"
  },
  "language_info": {
   "codemirror_mode": {
    "name": "ipython",
    "version": 2
   },
   "file_extension": ".py",
   "mimetype": "text/x-python",
   "name": "python",
   "nbconvert_exporter": "python",
   "pygments_lexer": "ipython2",
   "version": "2.7.10"
  }
 },
 "nbformat": 4,
 "nbformat_minor": 0
}
