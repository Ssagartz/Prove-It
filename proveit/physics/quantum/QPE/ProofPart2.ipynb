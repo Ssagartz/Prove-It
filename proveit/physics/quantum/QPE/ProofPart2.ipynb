{
 "cells": [
  {
   "cell_type": "code",
   "execution_count": 1,
   "metadata": {
    "collapsed": false
   },
   "outputs": [],
   "source": [
    "from proveit.number.arithmeticOps import *\n",
    "#from proveit.number.real.theorems import *\n",
    "from proveit.number.real.theorems import divIneqThm1, divIneqThm1cor, ineqThm3, ineqThm4a, ineqThm4b, ineqThm9\n",
    "from proveit.number.complex.theorems import absProd, absProdEtc\n",
    "from proveit.number.relation import Relation\n",
    "from proveit.basiclogic import In\n",
    "from proveit.statistics import Prob"
   ]
  },
  {
   "cell_type": "code",
   "execution_count": 2,
   "metadata": {
    "collapsed": true
   },
   "outputs": [],
   "source": [
    "from proveit.number.real.theorems import absTwoPi, absPos"
   ]
  },
  {
   "cell_type": "code",
   "execution_count": 3,
   "metadata": {
    "collapsed": false
   },
   "outputs": [],
   "source": [
    "from proveit.number.complex.theorems import multAssoc\n",
    "from proveit.number.integer.theorems import sumIneq1, sumIneq2"
   ]
  },
  {
   "cell_type": "code",
   "execution_count": 4,
   "metadata": {
    "collapsed": false
   },
   "outputs": [],
   "source": [
    "error_prob = Prob(GreaterThan(Abs(Subtract(m,b)),eps))\n",
    "alpha_l = Operation(Variable('alpha',{STRING:'alpha',LATEX:r'\\alpha'}),l)"
   ]
  },
  {
   "cell_type": "code",
   "execution_count": 5,
   "metadata": {
    "collapsed": false
   },
   "outputs": [],
   "source": [
    "abs_alpha_l_sq_bound = LessThanEquals(Exponentiate(Abs(alpha_l),two),\n",
    "                        Fraction(one,\n",
    "                                 Multiply(four, Exponentiate(Subtract(l, Multiply(Exponentiate(two,t),delta)),two))))"
   ]
  },
  {
   "cell_type": "code",
   "execution_count": 6,
   "metadata": {
    "collapsed": false
   },
   "outputs": [
    {
     "data": {
      "image/png": "[encoded data removed]",
      "text/plain": [
       "|alpha(l)|^(2) <= 1 / (4 * (l - (2^(t) * delta))^(2))"
      ]
     },
     "execution_count": 6,
     "metadata": {},
     "output_type": "execute_result"
    }
   ],
   "source": [
    "abs_alpha_l_sq_bound"
   ]
  },
  {
   "cell_type": "code",
   "execution_count": 12,
   "metadata": {
    "collapsed": false
   },
   "outputs": [
    {
     "data": {
      "image/png": "[encoded data removed]",
      "text/plain": [
       "Pr[(|(m - b)| > eps)] = (Summation_{l=-2^((t - 1)) + 1}^{-eps - 1}|alpha(l)|^(2) + Summation_{l=eps + 1}^{2^(t - 1)}|alpha(l)|^(2))"
      ]
     },
     "execution_count": 12,
     "metadata": {},
     "output_type": "execute_result"
    }
   ],
   "source": [
    "Expr = Equals(error_prob, Add(Summation(l,Exponentiate(Abs(alpha_l),two),DiscreteContiguousSet(Add(Neg(Exponentiate(two,Subtract(t,one))),one),Subtract(Neg(eps),one))), \n",
    "                Summation(l,Exponentiate(Abs(alpha_l),two),DiscreteContiguousSet(Add(eps,one), Exponentiate(two,Subtract(t,one))))))\n",
    "Expr"
   ]
  },
  {
   "cell_type": "code",
   "execution_count": 8,
   "metadata": {
    "collapsed": true
   },
   "outputs": [],
   "source": [
    "assumptions = {abs_alpha_l_sq_bound}"
   ]
  },
  {
   "cell_type": "code",
   "execution_count": 9,
   "metadata": {
    "collapsed": false
   },
   "outputs": [
    {
     "data": {
      "image/png": "[encoded data removed]",
      "text/plain": [
       "forall_{a, b in Funcs} [forall_{m, n in Integers} ([forall_{k in \\{m...n\\}} (a(k) <= b(k))] => (Summation_{l=m}^{n}a(l) <= Summation_{l=m}^{n}b(l)))]"
      ]
     },
     "execution_count": 9,
     "metadata": {},
     "output_type": "execute_result"
    }
   ],
   "source": [
    "sumIneq1"
   ]
  },
  {
   "cell_type": "code",
   "execution_count": 10,
   "metadata": {
    "collapsed": false
   },
   "outputs": [
    {
     "data": {
      "image/png": "[encoded data removed]",
      "text/plain": [
       "[forall_{k in \\{-2^((t - 1)) + 1...-eps - 1\\}} (|alpha(k)|^(2) <= 1 / (4 * (k - (2^(t) * delta))^(2)))] => (Summation_{l=-2^((t - 1)) + 1}^{-eps - 1}|alpha(l)|^(2) <= Summation_{l=-2^((t - 1)) + 1}^{-eps - 1}1 / (4 * (l - (2^(t) * delta))^(2)))"
      ]
     },
     "execution_count": 10,
     "metadata": {},
     "output_type": "execute_result"
    }
   ],
   "source": [
    "Y1 = sumIneq1.specialize({Operation(a,l):Exponentiate(Abs(alpha_l),two), Operation(b,l):abs_alpha_l_sq_bound.rhs}).specialize({m:Add(Neg(Exponentiate(two,Subtract(t,one))),one), n:Subtract(Neg(eps),one)})\n",
    "Y1"
   ]
  },
  {
   "cell_type": "code",
   "execution_count": 13,
   "metadata": {
    "collapsed": false
   },
   "outputs": [
    {
     "data": {
      "image/png": "[encoded data removed]",
      "text/plain": [
       "[forall_{k in \\{eps + 1...2^(t - 1)\\}} (|alpha(k)|^(2) <= 1 / (4 * (k - (2^(t) * delta))^(2)))] => (Summation_{l=eps + 1}^{2^(t - 1)}|alpha(l)|^(2) <= Summation_{l=eps + 1}^{2^(t - 1)}1 / (4 * (l - (2^(t) * delta))^(2)))"
      ]
     },
     "execution_count": 13,
     "metadata": {},
     "output_type": "execute_result"
    }
   ],
   "source": [
    "Y2 = sumIneq1.specialize({Operation(a,l):Exponentiate(Abs(alpha_l),two), Operation(b,l):abs_alpha_l_sq_bound.rhs}).specialize({m:Add(eps,one), n:Exponentiate(two,Subtract(t,one))})\n",
    "Y2"
   ]
  },
  {
   "cell_type": "code",
   "execution_count": 19,
   "metadata": {
    "collapsed": false
   },
   "outputs": [
    {
     "data": {
      "image/png": "[encoded data removed]",
      "text/plain": [
       "((Summation_{l=-2^((t - 1)) + 1}^{-eps - 1}|alpha(l)|^(2) <= Summation_{l=-2^((t - 1)) + 1}^{-eps - 1}1 / (4 * (l - (2^(t) * delta))^(2))) and (Summation_{l=eps + 1}^{2^(t - 1)}|alpha(l)|^(2) <= Summation_{l=eps + 1}^{2^(t - 1)}1 / (4 * (l - (2^(t) * delta))^(2)))) => ((Summation_{l=-2^((t - 1)) + 1}^{-eps - 1}|alpha(l)|^(2) + Summation_{l=eps + 1}^{2^(t - 1)}|alpha(l)|^(2)) <= (Summation_{l=-2^((t - 1)) + 1}^{-eps - 1}1 / (4 * (l - (2^(t) * delta))^(2)) + Summation_{l=eps + 1}^{2^(t - 1)}1 / (4 * (l - (2^(t) * delta))^(2))))"
      ]
     },
     "execution_count": 19,
     "metadata": {},
     "output_type": "execute_result"
    }
   ],
   "source": [
    "Y3 = sumIneq2.specialize({a:Expr.rhs.operands[0], b:Expr.rhs.operands[1], c:Y1.conclusion.rhs, d:Y2.conclusion.rhs})\n",
    "Y3"
   ]
  },
  {
   "cell_type": "code",
   "execution_count": 22,
   "metadata": {
    "collapsed": false
   },
   "outputs": [
    {
     "data": {
      "image/png": "[encoded data removed]",
      "text/plain": [
       "Pr[(|(m - b)| > eps)] <= (Summation_{l=-2^((t - 1)) + 1}^{-eps - 1}1 / (4 * (l - (2^(t) * delta))^(2)) + Summation_{l=eps + 1}^{2^(t - 1)}1 / (4 * (l - (2^(t) * delta))^(2)))"
      ]
     },
     "execution_count": 22,
     "metadata": {},
     "output_type": "execute_result"
    }
   ],
   "source": [
    "X1 = Relation(Expr).update(Y3.conclusion)\n",
    "X1"
   ]
  },
  {
   "cell_type": "code",
   "execution_count": 37,
   "metadata": {
    "collapsed": false
   },
   "outputs": [
    {
     "data": {
      "image/png": "[encoded data removed]",
      "text/plain": [
       "(4 * (l - (2^(t) * delta))^(2)) = (4 * (l - (2^(t) * delta))^(2))"
      ]
     },
     "execution_count": 37,
     "metadata": {},
     "output_type": "execute_result"
    }
   ],
   "source": [
    "X1.rhs.operands[0].summand.denominator.factor(four)"
   ]
  },
  {
   "cell_type": "code",
   "execution_count": 26,
   "metadata": {
    "collapsed": false
   },
   "outputs": [
    {
     "data": {
      "text/plain": [
       "{Pr[(|(m - b)| > eps)],\n",
       " |alpha(l)|^(2) <= 1 / (4 * (l - (2^(t) * delta))^(2)),\n",
       " |alpha(l)|^(2) in Funcs,\n",
       " 1 / (4 * (l - (2^(t) * delta))^(2)) in Funcs,\n",
       " (-2^((t - 1)) + 1) in Integers,\n",
       " (-eps - 1) in Integers,\n",
       " (eps + 1) in Integers,\n",
       " 2^((t - 1)) in Integers,\n",
       " Summation_{l=-2^((t - 1)) + 1}^{-eps - 1}|alpha(l)|^(2) in Reals,\n",
       " Summation_{l=eps + 1}^{2^(t - 1)}|alpha(l)|^(2) in Reals,\n",
       " Summation_{l=-2^((t - 1)) + 1}^{-eps - 1}1 / (4 * (l - (2^(t) * delta))^(2)) in Reals,\n",
       " Summation_{l=eps + 1}^{2^(t - 1)}1 / (4 * (l - (2^(t) * delta))^(2)) in Reals}"
      ]
     },
     "execution_count": 26,
     "metadata": {},
     "output_type": "execute_result"
    }
   ],
   "source": [
    "assumptions.union({Y1,Y2,Y3})\n",
    "assumptions.union({In(Exponentiate(Abs(alpha_l),two),Funcs),\n",
    "                   In(abs_alpha_l_sq_bound.rhs, Funcs), \n",
    "                   In(Add(Neg(Exponentiate(two,Subtract(t,one))),one),Integers),\n",
    "                   In(Subtract(Neg(eps),one), Integers),\n",
    "                   In(Add(eps,one), Integers),\n",
    "                   In(Exponentiate(two,Subtract(t,one)), Integers),\n",
    "                   In(Expr.rhs.operands[0], Reals),\n",
    "                   In(Expr.rhs.operands[1], Reals),\n",
    "                   In(Y1.conclusion.rhs, Reals),\n",
    "                   In(Y2.conclusion.rhs, Reals)})"
   ]
  },
  {
   "cell_type": "code",
   "execution_count": 27,
   "metadata": {
    "collapsed": false
   },
   "outputs": [
    {
     "ename": "ProofFailure",
     "evalue": "Proof failed: Pr[(|(m - b)| > eps)] <= (Summation_{l=-2^((t - 1)) + 1}^{-eps - 1}1 / (4 * (l - (2^(t) * delta))^(2)) + Summation_{l=eps + 1}^{2^(t - 1)}1 / (4 * (l - (2^(t) * delta))^(2))) assuming {|alpha(l)|^(2) <= 1 / (4 * (l - (2^(t) * delta))^(2)), Pr[(|(m - b)| > eps)]}",
     "output_type": "error",
     "traceback": [
      "\u001b[0;31m---------------------------------------------------------------------------\u001b[0m",
      "\u001b[0;31mProofFailure\u001b[0m                              Traceback (most recent call last)",
      "\u001b[0;32m<ipython-input-27-2ff67003c843>\u001b[0m in \u001b[0;36m<module>\u001b[0;34m()\u001b[0m\n\u001b[0;32m----> 1\u001b[0;31m \u001b[0mX1\u001b[0m\u001b[0;34m.\u001b[0m\u001b[0mproven\u001b[0m\u001b[0;34m(\u001b[0m\u001b[0massumptions\u001b[0m\u001b[0;34m)\u001b[0m\u001b[0;34m\u001b[0m\u001b[0m\n\u001b[0m",
      "\u001b[0;32m/Users/mnsarov/Documents/projects/formal_methods/witzel/proveit/proveit/expression.pyc\u001b[0m in \u001b[0;36mproven\u001b[0;34m(self, assumptions)\u001b[0m\n\u001b[1;32m     99\u001b[0m             \u001b[0;32mreturn\u001b[0m \u001b[0;34m\"{\"\u001b[0m \u001b[0;34m+\u001b[0m \u001b[0;34m\", \"\u001b[0m\u001b[0;34m.\u001b[0m\u001b[0mjoin\u001b[0m\u001b[0;34m(\u001b[0m\u001b[0;34m[\u001b[0m\u001b[0mstr\u001b[0m\u001b[0;34m(\u001b[0m\u001b[0massumption\u001b[0m\u001b[0;34m)\u001b[0m \u001b[0;32mfor\u001b[0m \u001b[0massumption\u001b[0m \u001b[0;32min\u001b[0m \u001b[0massumptions\u001b[0m\u001b[0;34m]\u001b[0m\u001b[0;34m)\u001b[0m \u001b[0;34m+\u001b[0m \u001b[0;34m\"}\"\u001b[0m\u001b[0;34m\u001b[0m\u001b[0m\n\u001b[1;32m    100\u001b[0m         \u001b[0;32mif\u001b[0m \u001b[0mself\u001b[0m\u001b[0;34m.\u001b[0m\u001b[0misProven\u001b[0m\u001b[0;34m(\u001b[0m\u001b[0massumptions\u001b[0m\u001b[0;34m)\u001b[0m\u001b[0;34m==\u001b[0m\u001b[0mFalse\u001b[0m\u001b[0;34m:\u001b[0m\u001b[0;34m\u001b[0m\u001b[0m\n\u001b[0;32m--> 101\u001b[0;31m             \u001b[0;32mraise\u001b[0m \u001b[0mProofFailure\u001b[0m\u001b[0;34m(\u001b[0m\u001b[0;34m\"Proof failed: \"\u001b[0m \u001b[0;34m+\u001b[0m \u001b[0mstr\u001b[0m\u001b[0;34m(\u001b[0m\u001b[0mself\u001b[0m\u001b[0;34m)\u001b[0m \u001b[0;34m+\u001b[0m \u001b[0;34m\" assuming \"\u001b[0m \u001b[0;34m+\u001b[0m \u001b[0mmakeAssumptionsStr\u001b[0m\u001b[0;34m(\u001b[0m\u001b[0massumptions\u001b[0m\u001b[0;34m)\u001b[0m\u001b[0;34m)\u001b[0m\u001b[0;34m\u001b[0m\u001b[0m\n\u001b[0m\u001b[1;32m    102\u001b[0m         \u001b[0;32mreturn\u001b[0m \u001b[0mself\u001b[0m\u001b[0;34m\u001b[0m\u001b[0m\n\u001b[1;32m    103\u001b[0m \u001b[0;34m\u001b[0m\u001b[0m\n",
      "\u001b[0;31mProofFailure\u001b[0m: Proof failed: Pr[(|(m - b)| > eps)] <= (Summation_{l=-2^((t - 1)) + 1}^{-eps - 1}1 / (4 * (l - (2^(t) * delta))^(2)) + Summation_{l=eps + 1}^{2^(t - 1)}1 / (4 * (l - (2^(t) * delta))^(2))) assuming {|alpha(l)|^(2) <= 1 / (4 * (l - (2^(t) * delta))^(2)), Pr[(|(m - b)| > eps)]}"
     ]
    }
   ],
   "source": [
    "X1.proven(assumptions)"
   ]
  },
  {
   "cell_type": "code",
   "execution_count": 8,
   "metadata": {
    "collapsed": false
   },
   "outputs": [
    {
     "data": {
      "image/png": "[encoded data removed]",
      "text/plain": [
       "(2 * pi * i * ((2^(t) * delta) - l)) = (i * (2 * pi * ((2^(t) * delta) - l)))"
      ]
     },
     "execution_count": 8,
     "metadata": {},
     "output_type": "execute_result"
    }
   ],
   "source": [
    "abs_alpha_l.rhs.numerator.operand.rightOperand.exponent.factor(i)"
   ]
  },
  {
   "cell_type": "code",
   "execution_count": 9,
   "metadata": {
    "collapsed": false
   },
   "outputs": [
    {
     "data": {
      "image/png": "[encoded data removed]",
      "text/plain": [
       "|alpha(l)| = |(1 - e^((i * (2 * pi * ((2^(t) * delta) - l)))))| / (2^(t) * |(1 - e^((i * (2 * pi * (delta - l / 2^(t))))))|)"
      ]
     },
     "execution_count": 9,
     "metadata": {},
     "output_type": "execute_result"
    }
   ],
   "source": [
    "X1 = abs_alpha_l.rhs.numerator.operand.rightOperand.exponent.factor(i).rhsSubstitute(abs_alpha_l)\n",
    "X2 = X1.rhs.denominator.operands[1].operand.rightOperand.exponent.factor(i).rhsSubstitute(X1)\n",
    "X2"
   ]
  },
  {
   "cell_type": "code",
   "execution_count": 10,
   "metadata": {
    "collapsed": false
   },
   "outputs": [
    {
     "data": {
      "image/png": "[encoded data removed]",
      "text/plain": [
       "|alpha(l)| = |(1 - e^((i * (2 * pi * ((2^(t) * delta) - l)))))| / (2^(t) * |(1 - e^((2 * pi * i * (delta - l / 2^(t)))))|)"
      ]
     },
     "execution_count": 10,
     "metadata": {},
     "output_type": "execute_result"
    }
   ],
   "source": [
    "X1.proven(assumptions)"
   ]
  },
  {
   "cell_type": "code",
   "execution_count": 11,
   "metadata": {
    "collapsed": false
   },
   "outputs": [
    {
     "data": {
      "image/png": "[encoded data removed]",
      "text/plain": [
       "|alpha(l)| = |(1 - e^((i * (2 * pi * ((2^(t) * delta) - l)))))| / (2^(t) * |(1 - e^((i * (2 * pi * (delta - l / 2^(t))))))|)"
      ]
     },
     "execution_count": 11,
     "metadata": {},
     "output_type": "execute_result"
    }
   ],
   "source": [
    "X2.proven(assumptions)"
   ]
  },
  {
   "cell_type": "code",
   "execution_count": 16,
   "metadata": {
    "collapsed": true
   },
   "outputs": [],
   "source": [
    "assumptions = assumptions.union({X2})"
   ]
  },
  {
   "cell_type": "code",
   "execution_count": 11,
   "metadata": {
    "collapsed": false
   },
   "outputs": [
    {
     "data": {
      "image/png": "[encoded data removed]",
      "text/plain": [
       "|(1 - e^((i * (2 * pi * ((2^(t) * delta) - l)))))| <= 2"
      ]
     },
     "execution_count": 11,
     "metadata": {},
     "output_type": "execute_result"
    }
   ],
   "source": [
    "X3 = ineqThm9.specialize({theta:X2.rhs.numerator.operand.operands[1].exponent.operands[1]})\n",
    "X3"
   ]
  },
  {
   "cell_type": "code",
   "execution_count": 12,
   "metadata": {
    "collapsed": false
   },
   "outputs": [
    {
     "data": {
      "image/png": "[encoded data removed]",
      "text/plain": [
       "|(1 - e^((i * (2 * pi * ((2^(t) * delta) - l)))))| <= 2"
      ]
     },
     "execution_count": 12,
     "metadata": {},
     "output_type": "execute_result"
    }
   ],
   "source": [
    "assumptions = assumptions.union({In(X3.lhs.operand.operands[1].exponent.operands[1],Reals)})\n",
    "X3.proven(assumptions)"
   ]
  },
  {
   "cell_type": "code",
   "execution_count": 13,
   "metadata": {
    "collapsed": false
   },
   "outputs": [
    {
     "data": {
      "image/png": "[encoded data removed]",
      "text/plain": [
       "|(1 - e^((i * (2 * pi * ((2^(t) * delta) - l)))))| / (2^(t) * |(1 - e^((i * (2 * pi * (delta - l / 2^(t))))))|) <= 2 / (2^(t) * |(1 - e^((i * (2 * pi * (delta - l / 2^(t))))))|)"
      ]
     },
     "execution_count": 13,
     "metadata": {},
     "output_type": "execute_result"
    }
   ],
   "source": [
    "X4 = divIneqThm1.specialize({a:X3.lhs,b:X2.rhs.denominator,c:X3.rhs})\n",
    "X4"
   ]
  },
  {
   "cell_type": "code",
   "execution_count": 14,
   "metadata": {
    "collapsed": false
   },
   "outputs": [],
   "source": [
    "assumptions = assumptions.union({GreaterThan(X2.rhs.denominator,zero),\n",
    "                                 In(X3.lhs,Reals),\n",
    "                                 In(X3.rhs,Reals),\n",
    "                                 In(X2.rhs.denominator,Reals)})"
   ]
  },
  {
   "cell_type": "code",
   "execution_count": 15,
   "metadata": {
    "collapsed": false
   },
   "outputs": [
    {
     "data": {
      "image/png": "[encoded data removed]",
      "text/plain": [
       "|(1 - e^((i * (2 * pi * ((2^(t) * delta) - l)))))| / (2^(t) * |(1 - e^((i * (2 * pi * (delta - l / 2^(t))))))|) <= 2 / (2^(t) * |(1 - e^((i * (2 * pi * (delta - l / 2^(t))))))|)"
      ]
     },
     "execution_count": 15,
     "metadata": {},
     "output_type": "execute_result"
    }
   ],
   "source": [
    "X4.proven(assumptions)"
   ]
  },
  {
   "cell_type": "code",
   "execution_count": 16,
   "metadata": {
    "collapsed": false
   },
   "outputs": [
    {
     "data": {
      "image/png": "[encoded data removed]",
      "text/plain": [
       "|alpha(l)| <= 2 / (2^(t) * |(1 - e^((i * (2 * pi * (delta - l / 2^(t))))))|)"
      ]
     },
     "execution_count": 16,
     "metadata": {},
     "output_type": "execute_result"
    }
   ],
   "source": [
    "X5 = Relation(X2).update(X4)\n",
    "X5.proven(assumptions)"
   ]
  },
  {
   "cell_type": "code",
   "execution_count": 17,
   "metadata": {
    "collapsed": false
   },
   "outputs": [
    {
     "data": {
      "image/png": "[encoded data removed]",
      "text/plain": [
       "2^(t) * |(1 - e^((i * (2 * pi * (delta - l / 2^(t))))))|"
      ]
     },
     "execution_count": 17,
     "metadata": {},
     "output_type": "execute_result"
    }
   ],
   "source": [
    "X5.rhs.denominator"
   ]
  },
  {
   "cell_type": "code",
   "execution_count": 18,
   "metadata": {
    "collapsed": true
   },
   "outputs": [],
   "source": [
    "assumptions = assumptions.union({In(l,Integers),In(t,Naturals),In(delta,Reals),\n",
    "                                                    LessThanEquals(Neg(Exponentiate(two,Subtract(t,one))),l),\n",
    "                                                    LessThanEquals(l,Exponentiate(two,Subtract(t,one))),\n",
    "                                                    LessThanEquals(zero,delta),\n",
    "                                                    LessThanEquals(delta,Exponentiate(two,Neg(t)))})"
   ]
  },
  {
   "cell_type": "code",
   "execution_count": 19,
   "metadata": {
    "collapsed": false
   },
   "outputs": [
    {
     "data": {
      "image/png": "[encoded data removed]",
      "text/plain": [
       "-pi <= ((2 * pi) * (delta - l / 2^(t)))"
      ]
     },
     "execution_count": 19,
     "metadata": {},
     "output_type": "execute_result"
    }
   ],
   "source": [
    "X6 = ineqThm4a.specialize().proven(assumptions)\n",
    "X6"
   ]
  },
  {
   "cell_type": "code",
   "execution_count": 20,
   "metadata": {
    "collapsed": false
   },
   "outputs": [
    {
     "data": {
      "image/png": "[encoded data removed]",
      "text/plain": [
       "((2 * pi) * (delta - l / 2^(t))) < pi"
      ]
     },
     "execution_count": 20,
     "metadata": {},
     "output_type": "execute_result"
    }
   ],
   "source": [
    "X7 = ineqThm4b.specialize().proven(assumptions)\n",
    "X7"
   ]
  },
  {
   "cell_type": "code",
   "execution_count": 21,
   "metadata": {
    "collapsed": false
   },
   "outputs": [
    {
     "data": {
      "text/plain": [
       "{|alpha(l)| = |(1 - e^((2 * pi * i * ((2^(t) * delta) - l))))| / (2^(t) * |(1 - e^((2 * pi * i * (delta - l / 2^(t)))))|),\n",
       " (2 * pi * ((2^(t) * delta) - l)) in Reals,\n",
       " (2^(t) * |(1 - e^((i * (2 * pi * (delta - l / 2^(t))))))|) in Reals,\n",
       " |(1 - e^((i * (2 * pi * ((2^(t) * delta) - l)))))| in Reals,\n",
       " 2 in Reals,\n",
       " (2^(t) * |(1 - e^((i * (2 * pi * (delta - l / 2^(t))))))|) > 0,\n",
       " |alpha(l)| = |(1 - e^((i * (2 * pi * ((2^(t) * delta) - l)))))| / (2^(t) * |(1 - e^((i * (2 * pi * (delta - l / 2^(t))))))|),\n",
       " l in Integers,\n",
       " t in Naturals,\n",
       " delta in Reals,\n",
       " -2^((t - 1)) <= l,\n",
       " l <= 2^((t - 1)),\n",
       " 0 <= delta,\n",
       " delta <= 2^(-t),\n",
       " -pi <= ((2 * pi) * (delta - l / 2^(t))),\n",
       " ((2 * pi) * (delta - l / 2^(t))) < pi}"
      ]
     },
     "execution_count": 21,
     "metadata": {},
     "output_type": "execute_result"
    }
   ],
   "source": [
    "assumptions = assumptions.union({X6,X7})\n",
    "assumptions"
   ]
  },
  {
   "cell_type": "code",
   "execution_count": 22,
   "metadata": {
    "collapsed": false
   },
   "outputs": [
    {
     "data": {
      "image/png": "[encoded data removed]",
      "text/plain": [
       "forall_{theta in Reals | -pi <= theta, theta <= pi} (|(1 - e^((i * theta)))| >= (2 * |theta|) / pi)"
      ]
     },
     "execution_count": 22,
     "metadata": {},
     "output_type": "execute_result"
    }
   ],
   "source": [
    "ineqThm3"
   ]
  },
  {
   "cell_type": "code",
   "execution_count": 23,
   "metadata": {
    "collapsed": false
   },
   "outputs": [
    {
     "data": {
      "image/png": "[encoded data removed]",
      "text/plain": [
       "|(1 - e^((i * (2 * pi * (delta - l / 2^(t))))))| >= (2 * |(2 * pi * (delta - l / 2^(t)))|) / pi"
      ]
     },
     "execution_count": 23,
     "metadata": {},
     "output_type": "execute_result"
    }
   ],
   "source": [
    "ineqThm3.specialize({theta:X5.rhs.denominator.operands[1].operand.operands[1].exponent.operands[1]})"
   ]
  },
  {
   "cell_type": "code",
   "execution_count": 17,
   "metadata": {
    "collapsed": false
   },
   "outputs": [
    {
     "data": {
      "image/png": "[encoded data removed]",
      "text/plain": [
       "2 * pi * (delta - l / 2^(t))"
      ]
     },
     "execution_count": 17,
     "metadata": {},
     "output_type": "execute_result"
    }
   ],
   "source": [
    "Multiply(two,pi,Subtract(delta,Fraction(l,Exponentiate(two,t))))"
   ]
  },
  {
   "cell_type": "code",
   "execution_count": 24,
   "metadata": {
    "collapsed": false
   },
   "outputs": [
    {
     "data": {
      "image/png": "[encoded data removed]",
      "text/plain": [
       "|(1 - e^((i * (2 * pi * (delta - l / 2^(t))))))| >= (2 * |(2 * pi * (delta - l / 2^(t)))|) / pi"
      ]
     },
     "execution_count": 24,
     "metadata": {},
     "output_type": "execute_result"
    }
   ],
   "source": [
    "ineqThm3.specialize({theta:X5.rhs.denominator.operands[1].operand.operands[1].exponent.operands[1]}).proven((\n",
    "    In(X5.rhs.denominator.operands[1].operand.operands[1].exponent.operands[1],Reals),\n",
    "    LessThanEquals(Neg(pi),X5.rhs.denominator.operands[1].operand.operands[1].exponent.operands[1]),\n",
    "    LessThanEquals(X5.rhs.denominator.operands[1].operand.operands[1].exponent.operands[1],pi)))"
   ]
  },
  {
   "cell_type": "code",
   "execution_count": 25,
   "metadata": {
    "collapsed": false
   },
   "outputs": [
    {
     "data": {
      "text/plain": [
       "{|alpha(l)| = |(1 - e^((2 * pi * i * ((2^(t) * delta) - l))))| / (2^(t) * |(1 - e^((2 * pi * i * (delta - l / 2^(t)))))|),\n",
       " (2 * pi * ((2^(t) * delta) - l)) in Reals,\n",
       " (2^(t) * |(1 - e^((i * (2 * pi * (delta - l / 2^(t))))))|) in Reals,\n",
       " |(1 - e^((i * (2 * pi * ((2^(t) * delta) - l)))))| in Reals,\n",
       " 2 in Reals,\n",
       " (2^(t) * |(1 - e^((i * (2 * pi * (delta - l / 2^(t))))))|) > 0,\n",
       " (2 * pi * (delta - l / 2^(t))) in Reals,\n",
       " |alpha(l)| = |(1 - e^((i * (2 * pi * ((2^(t) * delta) - l)))))| / (2^(t) * |(1 - e^((i * (2 * pi * (delta - l / 2^(t))))))|),\n",
       " l in Integers,\n",
       " t in Naturals,\n",
       " delta in Reals,\n",
       " -2^((t - 1)) <= l,\n",
       " l <= 2^((t - 1)),\n",
       " 0 <= delta,\n",
       " delta <= 2^(-t),\n",
       " -pi <= ((2 * pi) * (delta - l / 2^(t))),\n",
       " ((2 * pi) * (delta - l / 2^(t))) < pi,\n",
       " -pi <= (2 * pi * (delta - l / 2^(t))),\n",
       " (2 * pi * (delta - l / 2^(t))) <= pi}"
      ]
     },
     "execution_count": 25,
     "metadata": {},
     "output_type": "execute_result"
    }
   ],
   "source": [
    "assumptions = assumptions.union({In(X5.rhs.denominator.operands[1].operand.operands[1].exponent.operands[1],Reals),\n",
    "    LessThanEquals(Neg(pi),X5.rhs.denominator.operands[1].operand.operands[1].exponent.operands[1]),\n",
    "    LessThanEquals(X5.rhs.denominator.operands[1].operand.operands[1].exponent.operands[1],pi)})\n",
    "assumptions"
   ]
  },
  {
   "cell_type": "code",
   "execution_count": 26,
   "metadata": {
    "collapsed": false
   },
   "outputs": [
    {
     "data": {
      "image/png": "[encoded data removed]",
      "text/plain": [
       "(2 * |(2 * pi * (delta - l / 2^(t)))|) / pi <= |(1 - e^((i * (2 * pi * (delta - l / 2^(t))))))|"
      ]
     },
     "execution_count": 26,
     "metadata": {},
     "output_type": "execute_result"
    }
   ],
   "source": [
    "X8 = ineqThm3.specialize({theta:X5.rhs.denominator.operands[1].operand.operands[1].exponent.operands[1]}).proven(\n",
    "    assumptions).deriveReversed().proven(assumptions)\n",
    "X8"
   ]
  },
  {
   "cell_type": "code",
   "execution_count": 27,
   "metadata": {
    "collapsed": true
   },
   "outputs": [],
   "source": [
    "assumptions = assumptions.union({X8})"
   ]
  },
  {
   "cell_type": "code",
   "execution_count": 28,
   "metadata": {
    "collapsed": false
   },
   "outputs": [
    {
     "data": {
      "image/png": "[encoded data removed]",
      "text/plain": [
       "(2^(t) * (2 * |(2 * pi * (delta - l / 2^(t)))|) / pi) <= (2^(t) * |(1 - e^((i * (2 * pi * (delta - l / 2^(t))))))|)"
      ]
     },
     "execution_count": 28,
     "metadata": {},
     "output_type": "execute_result"
    }
   ],
   "source": [
    "divIneqThm1cor.specialize({a:X8.lhs,c:X8.rhs,b:Exponentiate(two,t)}).proven(assumptions.union(\n",
    "        {In(X8.lhs,Reals),In(X8.rhs,Reals),In(Exponentiate(two,t),Reals),GreaterThan(Exponentiate(two,t),zero)}))"
   ]
  },
  {
   "cell_type": "code",
   "execution_count": 29,
   "metadata": {
    "collapsed": true
   },
   "outputs": [],
   "source": [
    "assumptions = assumptions.union({In(X8.lhs,Reals),In(X8.rhs,Reals),In(Exponentiate(two,t),Reals),GreaterThan(Exponentiate(two,t),zero)})"
   ]
  },
  {
   "cell_type": "code",
   "execution_count": 30,
   "metadata": {
    "collapsed": false
   },
   "outputs": [
    {
     "data": {
      "image/png": "[encoded data removed]",
      "text/plain": [
       "(2^(t) * |(1 - e^((i * (2 * pi * (delta - l / 2^(t))))))|) >= (2^(t) * (2 * |(2 * pi * (delta - l / 2^(t)))|) / pi)"
      ]
     },
     "execution_count": 30,
     "metadata": {},
     "output_type": "execute_result"
    }
   ],
   "source": [
    "X9 = divIneqThm1cor.specialize({a:X8.lhs,c:X8.rhs,b:Exponentiate(two,t)}).proven(assumptions).deriveReversed().proven(assumptions)\n",
    "X9.proven(assumptions)"
   ]
  },
  {
   "cell_type": "code",
   "execution_count": 31,
   "metadata": {
    "collapsed": false
   },
   "outputs": [
    {
     "data": {
      "image/png": "[encoded data removed]",
      "text/plain": [
       "|((2 * pi) * (delta - l / 2^(t)))| = (|(2 * pi)| * |(delta - l / 2^(t))|)"
      ]
     },
     "execution_count": 31,
     "metadata": {},
     "output_type": "execute_result"
    }
   ],
   "source": [
    "absProdEtc.specialize({Etcetera(a):Multiply(two,pi),Etcetera(b):Subtract(delta,Fraction(l,Exponentiate(two,t)))})"
   ]
  },
  {
   "cell_type": "code",
   "execution_count": 38,
   "metadata": {
    "collapsed": false
   },
   "outputs": [
    {
     "data": {
      "image/png": "[encoded data removed]",
      "text/plain": [
       "|((2 * pi) * (delta - l / 2^(t)))| = (|(2 * pi)| * |(delta - l / 2^(t))|)"
      ]
     },
     "execution_count": 38,
     "metadata": {},
     "output_type": "execute_result"
    }
   ],
   "source": [
    "X10 = absProdEtc.specialize({Etcetera(a):Multiply(two,pi),Etcetera(b):Subtract(delta,Fraction(l,Exponentiate(two,t)))})\n",
    "X10.proven({In(X10.lhs.operand.operands[0],Complexes),In(X10.lhs.operand.operands[1],Complexes)})"
   ]
  },
  {
   "cell_type": "code",
   "execution_count": 39,
   "metadata": {
    "collapsed": true
   },
   "outputs": [],
   "source": [
    "assumptions = assumptions.union({In(X10.lhs.operand.operands[0],Complexes),In(X10.lhs.operand.operands[1],Complexes)})"
   ]
  },
  {
   "cell_type": "code",
   "execution_count": 86,
   "metadata": {
    "collapsed": false
   },
   "outputs": [
    {
     "data": {
      "image/png": "[encoded data removed]",
      "text/plain": [
       "|((2 * pi) * (delta - l / 2^(t)))| = (|(2 * pi)| * |(delta - l / 2^(t))|)"
      ]
     },
     "execution_count": 86,
     "metadata": {},
     "output_type": "execute_result"
    }
   ],
   "source": [
    "X10.proven(assumptions)"
   ]
  },
  {
   "cell_type": "code",
   "execution_count": 78,
   "metadata": {
    "collapsed": false
   },
   "outputs": [
    {
     "data": {
      "image/png": "[encoded data removed]",
      "text/plain": [
       "(2 * pi * (delta - l / 2^(t))) = ((2 * pi) * (delta - l / 2^(t)))"
      ]
     },
     "execution_count": 78,
     "metadata": {},
     "output_type": "execute_result"
    }
   ],
   "source": [
    "multAssoc.specialize(\n",
    "    {Etcetera(w):[],Etcetera(x):two,Etcetera(y):pi,Etcetera(z):Subtract(delta,Fraction(l,Exponentiate(two,t)))})"
   ]
  },
  {
   "cell_type": "code",
   "execution_count": 81,
   "metadata": {
    "collapsed": false
   },
   "outputs": [
    {
     "data": {
      "image/png": "[encoded data removed]",
      "text/plain": [
       "(2^(t) * |(1 - e^((i * ((2 * pi) * (delta - l / 2^(t))))))|) >= (2^(t) * (2 * |((2 * pi) * (delta - l / 2^(t)))|) / pi)"
      ]
     },
     "execution_count": 81,
     "metadata": {},
     "output_type": "execute_result"
    }
   ],
   "source": [
    "X11 = multAssoc.specialize(\n",
    "    {Etcetera(w):[],Etcetera(x):two,Etcetera(y):pi,Etcetera(z):Subtract(delta,Fraction(l,Exponentiate(two,t)))}).rhsSubstitute(X9)\n",
    "X11"
   ]
  },
  {
   "cell_type": "code",
   "execution_count": 88,
   "metadata": {
    "collapsed": false
   },
   "outputs": [
    {
     "data": {
      "image/png": "[encoded data removed]",
      "text/plain": [
       "(2^(t) * |(1 - e^((i * ((2 * pi) * (delta - l / 2^(t))))))|) >= (2^(t) * (2 * |((2 * pi) * (delta - l / 2^(t)))|) / pi)"
      ]
     },
     "execution_count": 88,
     "metadata": {},
     "output_type": "execute_result"
    }
   ],
   "source": [
    "X11.proven(assumptions)"
   ]
  },
  {
   "cell_type": "code",
   "execution_count": 89,
   "metadata": {
    "collapsed": false
   },
   "outputs": [
    {
     "data": {
      "image/png": "[encoded data removed]",
      "text/plain": [
       "(2^(t) * |(1 - e^((i * ((2 * pi) * (delta - l / 2^(t))))))|) >= (2^(t) * (2 * (|(2 * pi)| * |(delta - l / 2^(t))|)) / pi)"
      ]
     },
     "execution_count": 89,
     "metadata": {},
     "output_type": "execute_result"
    }
   ],
   "source": [
    "X12 = X10.rhsSubstitute(X11)\n",
    "X12.proven(assumptions)"
   ]
  },
  {
   "cell_type": "code",
   "execution_count": 92,
   "metadata": {
    "collapsed": false
   },
   "outputs": [
    {
     "data": {
      "image/png": "[encoded data removed]",
      "text/plain": [
       "(2^(t) * |(1 - e^((i * ((2 * pi) * (delta - l / 2^(t))))))|) >= (2^(t) * (2 * ((2 * pi) * |(delta - l / 2^(t))|)) / pi)"
      ]
     },
     "execution_count": 92,
     "metadata": {},
     "output_type": "execute_result"
    }
   ],
   "source": [
    "X13 = absPos.specialize({a:X10.rhs.operands[0].operand}).rhsSubstitute(X12)\n",
    "X13.proven(assumptions)"
   ]
  },
  {
   "cell_type": "code",
   "execution_count": 97,
   "metadata": {
    "collapsed": false
   },
   "outputs": [
    {
     "data": {
      "image/png": "[encoded data removed]",
      "text/plain": [
       "(2 * (2 * pi) * |(delta - l / 2^(t))|) = (2 * ((2 * pi) * |(delta - l / 2^(t))|))"
      ]
     },
     "execution_count": 97,
     "metadata": {},
     "output_type": "execute_result"
    }
   ],
   "source": [
    "X14 = multAssoc.specialize({Etcetera(w):two,Etcetera(x):Multiply(two,pi),\n",
    "                     Etcetera(y):Abs(Subtract(delta,Fraction(l,Exponentiate(two,t)))),Etcetera(z):[]})\n",
    "X14.proven(assumptions)"
   ]
  },
  {
   "cell_type": "code",
   "execution_count": 98,
   "metadata": {
    "collapsed": false
   },
   "outputs": [
    {
     "data": {
      "image/png": "[encoded data removed]",
      "text/plain": [
       "(2^(t) * |(1 - e^((i * ((2 * pi) * (delta - l / 2^(t))))))|) >= (2^(t) * (2 * (2 * pi) * |(delta - l / 2^(t))|) / pi)"
      ]
     },
     "execution_count": 98,
     "metadata": {},
     "output_type": "execute_result"
    }
   ],
   "source": [
    "X15 = X14.lhsSubstitute(X13)\n",
    "X15.proven(assumptions)"
   ]
  },
  {
   "cell_type": "code",
   "execution_count": 100,
   "metadata": {
    "collapsed": false
   },
   "outputs": [
    {
     "data": {
      "image/png": "[encoded data removed]",
      "text/plain": [
       "(2 * 2 * pi * |(delta - l / 2^(t))|) = (2 * (2 * pi) * |(delta - l / 2^(t))|)"
      ]
     },
     "execution_count": 100,
     "metadata": {},
     "output_type": "execute_result"
    }
   ],
   "source": [
    "X16 = multAssoc.specialize({Etcetera(w):two,Etcetera(x):two,\n",
    "                            Etcetera(y):pi,Etcetera(z):Abs(Subtract(delta,Fraction(l,Exponentiate(two,t))))})\n",
    "X16.proven()"
   ]
  },
  {
   "cell_type": "code",
   "execution_count": 103,
   "metadata": {
    "collapsed": false
   },
   "outputs": [
    {
     "data": {
      "image/png": "[encoded data removed]",
      "text/plain": [
       "(2^(t) * |(1 - e^((i * ((2 * pi) * (delta - l / 2^(t))))))|) >= (2^(t) * (2 * 2 * pi * |(delta - l / 2^(t))|) / pi)"
      ]
     },
     "execution_count": 103,
     "metadata": {},
     "output_type": "execute_result"
    }
   ],
   "source": [
    "X17 = X16.lhsSubstitute(X15)\n",
    "X17.proven(assumptions)"
   ]
  },
  {
   "cell_type": "code",
   "execution_count": 45,
   "metadata": {
    "collapsed": false
   },
   "outputs": [
    {
     "data": {
      "image/png": "[encoded data removed]",
      "text/plain": [
       "|(2 * pi)| = (2 * pi)"
      ]
     },
     "execution_count": 45,
     "metadata": {},
     "output_type": "execute_result"
    }
   ],
   "source": [
    "absPos.specialize({a:X10.rhs.operands[0].operand})"
   ]
  },
  {
   "cell_type": "code",
   "execution_count": 35,
   "metadata": {
    "collapsed": false
   },
   "outputs": [
    {
     "data": {
      "image/png": "[encoded data removed]",
      "text/plain": [
       "(2 * pi) in RealsPos"
      ]
     },
     "execution_count": 35,
     "metadata": {},
     "output_type": "execute_result"
    }
   ],
   "source": [
    "absTwoPi"
   ]
  },
  {
   "cell_type": "code",
   "execution_count": 32,
   "metadata": {
    "collapsed": false
   },
   "outputs": [
    {
     "ename": "TypeError",
     "evalue": "rhsSubstitute() takes at least 2 arguments (1 given)",
     "output_type": "error",
     "traceback": [
      "\u001b[0;31m---------------------------------------------------------------------------\u001b[0m",
      "\u001b[0;31mTypeError\u001b[0m                                 Traceback (most recent call last)",
      "\u001b[0;32m<ipython-input-32-0383c485939d>\u001b[0m in \u001b[0;36m<module>\u001b[0;34m()\u001b[0m\n\u001b[0;32m----> 1\u001b[0;31m \u001b[0mabsProdEtc\u001b[0m\u001b[0;34m.\u001b[0m\u001b[0mspecialize\u001b[0m\u001b[0;34m(\u001b[0m\u001b[0;34m{\u001b[0m\u001b[0mEtcetera\u001b[0m\u001b[0;34m(\u001b[0m\u001b[0ma\u001b[0m\u001b[0;34m)\u001b[0m\u001b[0;34m:\u001b[0m\u001b[0mMultiply\u001b[0m\u001b[0;34m(\u001b[0m\u001b[0mtwo\u001b[0m\u001b[0;34m,\u001b[0m\u001b[0mpi\u001b[0m\u001b[0;34m)\u001b[0m\u001b[0;34m,\u001b[0m\u001b[0mEtcetera\u001b[0m\u001b[0;34m(\u001b[0m\u001b[0mb\u001b[0m\u001b[0;34m)\u001b[0m\u001b[0;34m:\u001b[0m\u001b[0mSubtract\u001b[0m\u001b[0;34m(\u001b[0m\u001b[0mdelta\u001b[0m\u001b[0;34m,\u001b[0m\u001b[0mFraction\u001b[0m\u001b[0;34m(\u001b[0m\u001b[0ml\u001b[0m\u001b[0;34m,\u001b[0m\u001b[0mExponentiate\u001b[0m\u001b[0;34m(\u001b[0m\u001b[0mtwo\u001b[0m\u001b[0;34m,\u001b[0m\u001b[0mt\u001b[0m\u001b[0;34m)\u001b[0m\u001b[0;34m)\u001b[0m\u001b[0;34m)\u001b[0m\u001b[0;34m}\u001b[0m\u001b[0;34m)\u001b[0m\u001b[0;34m.\u001b[0m\u001b[0mrhsSubstitute\u001b[0m\u001b[0;34m(\u001b[0m\u001b[0;34m)\u001b[0m\u001b[0;34m\u001b[0m\u001b[0m\n\u001b[0m",
      "\u001b[0;31mTypeError\u001b[0m: rhsSubstitute() takes at least 2 arguments (1 given)"
     ]
    }
   ],
   "source": [
    "absProdEtc.specialize({Etcetera(a):Multiply(two,pi),Etcetera(b):Subtract(delta,Fraction(l,Exponentiate(two,t)))}).rhsSubstitute()"
   ]
  },
  {
   "cell_type": "code",
   "execution_count": 43,
   "metadata": {
    "collapsed": false
   },
   "outputs": [
    {
     "data": {
      "image/png": "[encoded data removed]",
      "text/plain": [
       "forall_{..w.., ..x.., ..y.., ..z..} ((..w.. * ..x.. * ..y.. * ..z..) = (..w.. * (..x.. * ..y..) * ..z..))"
      ]
     },
     "execution_count": 43,
     "metadata": {},
     "output_type": "execute_result"
    }
   ],
   "source": [
    "multAssoc"
   ]
  },
  {
   "cell_type": "code",
   "execution_count": 46,
   "metadata": {
    "collapsed": false
   },
   "outputs": [
    {
     "data": {
      "image/png": "[encoded data removed]",
      "text/plain": [
       "((2 * pi) * ..y.. * ..z..) = (((2 * pi) * ..y..) * ..z..)"
      ]
     },
     "execution_count": 46,
     "metadata": {},
     "output_type": "execute_result"
    }
   ],
   "source": [
    "multAssoc.specialize({\n",
    "        Etcetera(w):[],\n",
    "        Etcetera(x):Multiply(X9.rhs.operands[1].numerator.operands[1].operand.operands[0],X9.rhs.operands[1].numerator.operands[1].operand.operands[1])})\n"
   ]
  },
  {
   "cell_type": "code",
   "execution_count": null,
   "metadata": {
    "collapsed": true
   },
   "outputs": [],
   "source": []
  },
  {
   "cell_type": "code",
   "execution_count": null,
   "metadata": {
    "collapsed": true
   },
   "outputs": [],
   "source": []
  },
  {
   "cell_type": "code",
   "execution_count": null,
   "metadata": {
    "collapsed": true
   },
   "outputs": [],
   "source": []
  },
  {
   "cell_type": "code",
   "execution_count": null,
   "metadata": {
    "collapsed": true
   },
   "outputs": [],
   "source": [
    "ineqThm4a.pro"
   ]
  },
  {
   "cell_type": "code",
   "execution_count": 17,
   "metadata": {
    "collapsed": false
   },
   "outputs": [
    {
     "data": {
      "image/png": "[encoded data removed]",
      "text/plain": [
       "2 * pi * (delta - l / 2^(t))"
      ]
     },
     "execution_count": 17,
     "metadata": {},
     "output_type": "execute_result"
    }
   ],
   "source": [
    "X6 = X5.rhs.denominator.operands[1].operand.operands[1].exponent.operands[1]\n",
    "X6"
   ]
  },
  {
   "cell_type": "code",
   "execution_count": 19,
   "metadata": {
    "collapsed": false
   },
   "outputs": [
    {
     "data": {
      "image/png": "[encoded data removed]",
      "text/plain": [
       "forall_{l, t, delta | l in Integers, t in Naturals, delta in Reals, -2^((t - 1)) <= l, l <= 2^((t - 1)), 0 <= delta, delta <= 2^(-t)} (-pi <= ((2 * pi) * (delta - l / 2^(t))))"
      ]
     },
     "execution_count": 19,
     "metadata": {},
     "output_type": "execute_result"
    }
   ],
   "source": [
    "ineqThm4a"
   ]
  },
  {
   "cell_type": "code",
   "execution_count": 20,
   "metadata": {
    "collapsed": false
   },
   "outputs": [
    {
     "data": {
      "image/png": "[encoded data removed]",
      "text/plain": [
       "-pi <= ((2 * pi) * (delta - l / 2^(t)))"
      ]
     },
     "execution_count": 20,
     "metadata": {},
     "output_type": "execute_result"
    }
   ],
   "source": [
    "ineqThm4a.specialize({delta:delta,l:l,t:t})"
   ]
  },
  {
   "cell_type": "code",
   "execution_count": 23,
   "metadata": {
    "collapsed": false
   },
   "outputs": [
    {
     "data": {
      "image/png": "[encoded data removed]",
      "text/plain": [
       "|(1 - e^((i * (2 * pi * (delta - l / 2^(t))))))| >= (2 * |(2 * pi * (delta - l / 2^(t)))|) / pi"
      ]
     },
     "execution_count": 23,
     "metadata": {},
     "output_type": "execute_result"
    }
   ],
   "source": [
    "ineqThm3.specialize({theta:X5.rhs.denominator.operands[1].operand.operands[1].exponent.operands[1]})"
   ]
  },
  {
   "cell_type": "code",
   "execution_count": 28,
   "metadata": {
    "collapsed": false
   },
   "outputs": [
    {
     "data": {
      "image/png": "[encoded data removed]",
      "text/plain": [
       "forall_{theta in Reals | -pi <= theta, theta <= pi} (|(1 - e^((i * theta)))| >= (2 * |theta|) / pi)"
      ]
     },
     "execution_count": 28,
     "metadata": {},
     "output_type": "execute_result"
    }
   ],
   "source": [
    "ineqThm3"
   ]
  },
  {
   "cell_type": "code",
   "execution_count": 27,
   "metadata": {
    "collapsed": false
   },
   "outputs": [
    {
     "ename": "ProofFailure",
     "evalue": "Proof failed: |(1 - e^((i * (2 * pi * (delta - l / 2^(t))))))| >= (2 * |(2 * pi * (delta - l / 2^(t)))|) / pi assuming {(2 * pi * (delta - l / 2^(t))) in Reals}",
     "output_type": "error",
     "traceback": [
      "\u001b[0;31m---------------------------------------------------------------------------\u001b[0m",
      "\u001b[0;31mProofFailure\u001b[0m                              Traceback (most recent call last)",
      "\u001b[0;32m<ipython-input-27-b6dfd05477c0>\u001b[0m in \u001b[0;36m<module>\u001b[0;34m()\u001b[0m\n\u001b[1;32m      1\u001b[0m ineqThm3.specialize({theta:X5.rhs.denominator.operands[1].operand.operands[1].exponent.operands[1]}).proven(\n\u001b[0;32m----> 2\u001b[0;31m     {In(X5.rhs.denominator.operands[1].operand.operands[1].exponent.operands[1],Reals)})\n\u001b[0m",
      "\u001b[0;32m/Users/kmrudin/proveit/proveit/expression.pyc\u001b[0m in \u001b[0;36mproven\u001b[0;34m(self, assumptions)\u001b[0m\n\u001b[1;32m     92\u001b[0m             \u001b[0;32mreturn\u001b[0m \u001b[0;34m\"{\"\u001b[0m \u001b[0;34m+\u001b[0m \u001b[0;34m\", \"\u001b[0m\u001b[0;34m.\u001b[0m\u001b[0mjoin\u001b[0m\u001b[0;34m(\u001b[0m\u001b[0;34m[\u001b[0m\u001b[0mstr\u001b[0m\u001b[0;34m(\u001b[0m\u001b[0massumption\u001b[0m\u001b[0;34m)\u001b[0m \u001b[0;32mfor\u001b[0m \u001b[0massumption\u001b[0m \u001b[0;32min\u001b[0m \u001b[0massumptions\u001b[0m\u001b[0;34m]\u001b[0m\u001b[0;34m)\u001b[0m \u001b[0;34m+\u001b[0m \u001b[0;34m\"}\"\u001b[0m\u001b[0;34m\u001b[0m\u001b[0m\n\u001b[1;32m     93\u001b[0m         \u001b[0;32mif\u001b[0m \u001b[0mself\u001b[0m\u001b[0;34m.\u001b[0m\u001b[0misProven\u001b[0m\u001b[0;34m(\u001b[0m\u001b[0massumptions\u001b[0m\u001b[0;34m)\u001b[0m\u001b[0;34m==\u001b[0m\u001b[0mFalse\u001b[0m\u001b[0;34m:\u001b[0m\u001b[0;34m\u001b[0m\u001b[0m\n\u001b[0;32m---> 94\u001b[0;31m             \u001b[0;32mraise\u001b[0m \u001b[0mProofFailure\u001b[0m\u001b[0;34m(\u001b[0m\u001b[0;34m\"Proof failed: \"\u001b[0m \u001b[0;34m+\u001b[0m \u001b[0mstr\u001b[0m\u001b[0;34m(\u001b[0m\u001b[0mself\u001b[0m\u001b[0;34m)\u001b[0m \u001b[0;34m+\u001b[0m \u001b[0;34m\" assuming \"\u001b[0m \u001b[0;34m+\u001b[0m \u001b[0mmakeAssumptionsStr\u001b[0m\u001b[0;34m(\u001b[0m\u001b[0massumptions\u001b[0m\u001b[0;34m)\u001b[0m\u001b[0;34m)\u001b[0m\u001b[0;34m\u001b[0m\u001b[0m\n\u001b[0m\u001b[1;32m     95\u001b[0m         \u001b[0;32mreturn\u001b[0m \u001b[0mself\u001b[0m\u001b[0;34m\u001b[0m\u001b[0m\n\u001b[1;32m     96\u001b[0m \u001b[0;34m\u001b[0m\u001b[0m\n",
      "\u001b[0;31mProofFailure\u001b[0m: Proof failed: |(1 - e^((i * (2 * pi * (delta - l / 2^(t))))))| >= (2 * |(2 * pi * (delta - l / 2^(t)))|) / pi assuming {(2 * pi * (delta - l / 2^(t))) in Reals}"
     ]
    }
   ],
   "source": [
    "ineqThm3.specialize({theta:X5.rhs.denominator.operands[1].operand.operands[1].exponent.operands[1]}).proven(\n",
    "    {In(X5.rhs.denominator.operands[1].operand.operands[1].exponent.operands[1],Reals)})"
   ]
  },
  {
   "cell_type": "code",
   "execution_count": 26,
   "metadata": {
    "collapsed": false
   },
   "outputs": [
    {
     "data": {
      "image/png": "[encoded data removed]",
      "text/plain": [
       "(2 * pi * (delta - l / 2^(t))) in Reals"
      ]
     },
     "execution_count": 26,
     "metadata": {},
     "output_type": "execute_result"
    }
   ],
   "source": [
    "In(X5.rhs.denominator.operands[1].operand.operands[1].exponent.operands[1],Reals)"
   ]
  },
  {
   "cell_type": "code",
   "execution_count": null,
   "metadata": {
    "collapsed": true
   },
   "outputs": [],
   "source": []
  }
 ],
 "metadata": {
  "kernelspec": {
   "display_name": "Python 2",
   "language": "python",
   "name": "python2"
  },
  "language_info": {
   "codemirror_mode": {
    "name": "ipython",
    "version": 2
   },
   "file_extension": ".py",
   "mimetype": "text/x-python",
   "name": "python",
   "nbconvert_exporter": "python",
   "pygments_lexer": "ipython2",
   "version": "2.7.6"
  }
 },
 "nbformat": 4,
 "nbformat_minor": 0
}
