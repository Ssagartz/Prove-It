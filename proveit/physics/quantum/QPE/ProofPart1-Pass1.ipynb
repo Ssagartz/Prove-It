{
 "cells": [
  {
   "cell_type": "code",
   "execution_count": 1,
   "metadata": {
    "collapsed": false
   },
   "outputs": [],
   "source": [
    "from proveit.number.arithmeticOps import *\n",
    "#from proveit.number.real.theorems import *\n",
    "from proveit.number.relation import Relation\n",
    "from proveit.number.real.theorems import divIneqThm1, divIneqThm1cor, ineqThm3, ineqThm4a, ineqThm4b, ineqThm9, ineqThm10\n",
    "from proveit.number.real.theorems import posProd, posOfExps, squarePosIneq\n",
    "from proveit.number.complex.theorems import absProd, absProdEtc, expAdd1a, oneExp, fracExp, expOne, powOfPow, multOverAdd\n",
    "from proveit.number.complex.theorems import multAssoc, multOne, sumInPow, diffSquareComm, samePowDistribute, multOverSubtract\n",
    "from proveit.number.complex.theorems import fracCancel4, multComm, powOfProd\n",
    "from proveit.basiclogic import In, autoSubstitute, autoSubstitution\n",
    "from proveit.number.real.theorems import absTwoPi, absPos, squarePosEq\n",
    "from proveit.number.natural.theorems import twoSquared\n",
    "from proveit.number.common import *"
   ]
  },
  {
   "cell_type": "code",
   "execution_count": 2,
   "metadata": {
    "collapsed": true
   },
   "outputs": [],
   "source": [
    "from proveit.number.complex.theorems import fracCancel4"
   ]
  },
  {
   "cell_type": "code",
   "execution_count": 3,
   "metadata": {
    "collapsed": false
   },
   "outputs": [],
   "source": [
    "from proveit.number.real.theorems import squarePosEq"
   ]
  },
  {
   "cell_type": "code",
   "execution_count": 4,
   "metadata": {
    "collapsed": true
   },
   "outputs": [],
   "source": [
    "alpha_l = Operation(Variable('alpha',{STRING:'alpha',LATEX:r'\\alpha'}),l)"
   ]
  },
  {
   "cell_type": "code",
   "execution_count": 5,
   "metadata": {
    "collapsed": false
   },
   "outputs": [
    {
     "data": {
      "image/png": "[encoded data removed]",
      "text/plain": [
       "|alpha(l)| = |(1 - e^(2 * pi * i * ((2^(t) * delta) - l)))| / (2^(t) * |(1 - e^(2 * pi * i * (delta - l / 2^(t))))|)"
      ]
     },
     "execution_count": 5,
     "metadata": {},
     "output_type": "execute_result"
    }
   ],
   "source": [
    "abs_alpha_l = Equals(Abs(alpha_l),\n",
    "                        Fraction(\n",
    "                                Abs(Subtract(one,\n",
    "                                            Exponentiate(e,\n",
    "                                                        Multiply(two,pi,i,\n",
    "                                                                Subtract(\n",
    "                                                                        Multiply(\n",
    "                                                                                Exponentiate(two,t),delta),\n",
    "                                                                        l)\n",
    "                )))\n",
    "    ),\n",
    "                            Multiply(Exponentiate(two,t),    \n",
    "                            Abs(Subtract(one,\n",
    "                                            Exponentiate(e,\n",
    "                                                        Multiply(two,pi,i,\n",
    "                                                                Subtract(\n",
    "                                                                        delta,\n",
    "                                                                        Fraction(l,Exponentiate(two,t))\n",
    "                                \n",
    "\n",
    ")\n",
    "                                                                 )\n",
    "                    )\n",
    "                                             )\n",
    "                                    ))\n",
    "        )\n",
    "    )\n",
    "abs_alpha_l"
   ]
  },
  {
   "cell_type": "code",
   "execution_count": 6,
   "metadata": {
    "collapsed": true
   },
   "outputs": [],
   "source": [
    "assumptions = {abs_alpha_l}"
   ]
  },
  {
   "cell_type": "code",
   "execution_count": 7,
   "metadata": {
    "collapsed": false
   },
   "outputs": [
    {
     "data": {
      "image/png": "[encoded data removed]",
      "text/plain": [
       "|alpha(l)| = |(1 - e^(i * (2 * pi * ((2^(t) * delta) - l))))| / (2^(t) * |(1 - e^(2 * pi * i * (delta - l / 2^(t))))|)"
      ]
     },
     "execution_count": 7,
     "metadata": {},
     "output_type": "execute_result"
    }
   ],
   "source": [
    "X1 = autoSubstitute(abs_alpha_l, 'factor', [i], superExpr=abs_alpha_l.rhs.numerator, suppressWarnings=True).proven(assumptions)\n",
    "X1.proven(assumptions)"
   ]
  },
  {
   "cell_type": "code",
   "execution_count": 8,
   "metadata": {
    "collapsed": false
   },
   "outputs": [],
   "source": [
    "assumptions = assumptions.union({X1})"
   ]
  },
  {
   "cell_type": "code",
   "execution_count": 9,
   "metadata": {
    "collapsed": false
   },
   "outputs": [
    {
     "data": {
      "image/png": "[encoded data removed]",
      "text/plain": [
       "|alpha(l)| = |(1 - e^(i * (2 * pi * ((2^(t) * delta) - l))))| / (2^(t) * |(1 - e^(i * (2 * pi * (delta - l / 2^(t)))))|)"
      ]
     },
     "execution_count": 9,
     "metadata": {},
     "output_type": "execute_result"
    }
   ],
   "source": [
    "X2 = autoSubstitute(X1, 'factor', [i], superExpr=abs_alpha_l.rhs.denominator, suppressWarnings=True).proven(assumptions)\n",
    "X2"
   ]
  },
  {
   "cell_type": "code",
   "execution_count": 10,
   "metadata": {
    "collapsed": false
   },
   "outputs": [
    {
     "data": {
      "image/png": "[encoded data removed]",
      "text/plain": [
       "|(1 - e^(i * (2 * pi * ((2^(t) * delta) - l))))| <= 2"
      ]
     },
     "execution_count": 10,
     "metadata": {},
     "output_type": "execute_result"
    }
   ],
   "source": [
    "Y1 = ineqThm9.specialize({theta:X2.rhs.numerator.operand.operands[1].exponent.operands[1]})\n",
    "assumptions = assumptions.union({In(Y1.lhs.operand.operands[1].exponent.operands[1],Reals)})\n",
    "Y1.proven(assumptions)"
   ]
  },
  {
   "cell_type": "code",
   "execution_count": 11,
   "metadata": {
    "collapsed": false
   },
   "outputs": [
    {
     "data": {
      "image/png": "[encoded data removed]",
      "text/plain": [
       "|(1 - e^(i * (2 * pi * ((2^(t) * delta) - l))))| / (2^(t) * |(1 - e^(i * (2 * pi * (delta - l / 2^(t)))))|) <= 2 / (2^(t) * |(1 - e^(i * (2 * pi * (delta - l / 2^(t)))))|)"
      ]
     },
     "execution_count": 11,
     "metadata": {},
     "output_type": "execute_result"
    }
   ],
   "source": [
    "Y2 = divIneqThm1.specialize({a:Y1.lhs,b:X2.rhs.denominator,c:Y1.rhs})\n",
    "assumptions = assumptions.union({GreaterThan(X2.rhs.denominator,zero),\n",
    "                                 In(Y1.lhs,Reals),\n",
    "                                 In(Y1.rhs,Reals),\n",
    "                                 In(X2.rhs.denominator,Reals)})\n",
    "Y2.proven(assumptions)"
   ]
  },
  {
   "cell_type": "code",
   "execution_count": 12,
   "metadata": {
    "collapsed": false
   },
   "outputs": [
    {
     "data": {
      "image/png": "[encoded data removed]",
      "text/plain": [
       "|alpha(l)| <= 2 / (2^(t) * |(1 - e^(i * (2 * pi * (delta - l / 2^(t)))))|)"
      ]
     },
     "execution_count": 12,
     "metadata": {},
     "output_type": "execute_result"
    }
   ],
   "source": [
    "X5 = Relation(X2).update(Y2)\n",
    "X5.proven(assumptions)"
   ]
  },
  {
   "cell_type": "code",
   "execution_count": 13,
   "metadata": {
    "collapsed": false
   },
   "outputs": [
    {
     "data": {
      "image/png": "[encoded data removed]",
      "text/plain": [
       "|alpha(l)| <= 2 / (2^(t) * |(1 - e^(i * ((2 * pi) * (delta - l / 2^(t)))))|)"
      ]
     },
     "execution_count": 13,
     "metadata": {},
     "output_type": "execute_result"
    }
   ],
   "source": [
    "X5a = multAssoc.specialize({Etcetera(w):[],\n",
    "                            Etcetera(x):two,\n",
    "                            Etcetera(y):pi,\n",
    "                     Etcetera(z):Subtract(delta,Fraction(l,Exponentiate(two,t)))}).rhsSubstitute(X5).proven(assumptions)\n",
    "X5a.proven(assumptions)"
   ]
  },
  {
   "cell_type": "code",
   "execution_count": 14,
   "metadata": {
    "collapsed": true
   },
   "outputs": [],
   "source": [
    "assumptions = assumptions.union({In(l,Integers),In(t,Naturals),In(delta,Reals),\n",
    "                                                    LessThanEquals(Neg(Exponentiate(two,Subtract(t,one))),l),\n",
    "                                                    LessThanEquals(l,Exponentiate(two,Subtract(t,one))),\n",
    "                                                    LessThanEquals(zero,delta),\n",
    "                                                    LessThanEquals(delta,Exponentiate(two,Neg(t)))})"
   ]
  },
  {
   "cell_type": "code",
   "execution_count": 15,
   "metadata": {
    "collapsed": false
   },
   "outputs": [
    {
     "data": {
      "image/png": "[encoded data removed]",
      "text/plain": [
       "-pi <= ((2 * pi) * (delta - l / 2^(t)))"
      ]
     },
     "execution_count": 15,
     "metadata": {},
     "output_type": "execute_result"
    }
   ],
   "source": [
    "Y3 = ineqThm4a.specialize().proven(assumptions)\n",
    "Y3"
   ]
  },
  {
   "cell_type": "code",
   "execution_count": 16,
   "metadata": {
    "collapsed": false
   },
   "outputs": [
    {
     "data": {
      "image/png": "[encoded data removed]",
      "text/plain": [
       "((2 * pi) * (delta - l / 2^(t))) < pi"
      ]
     },
     "execution_count": 16,
     "metadata": {},
     "output_type": "execute_result"
    }
   ],
   "source": [
    "Y4 = ineqThm4b.specialize().proven(assumptions)\n",
    "Y4"
   ]
  },
  {
   "cell_type": "code",
   "execution_count": 17,
   "metadata": {
    "collapsed": true
   },
   "outputs": [],
   "source": [
    "assumptions = assumptions.union({Y3,Y4})"
   ]
  },
  {
   "cell_type": "code",
   "execution_count": 18,
   "metadata": {
    "collapsed": true
   },
   "outputs": [],
   "source": [
    "assumptions = assumptions.union({In(X5.rhs.denominator.operands[1].operand.operands[1].exponent.operands[1],Reals),\n",
    "    LessThanEquals(Neg(pi),X5.rhs.denominator.operands[1].operand.operands[1].exponent.operands[1]),\n",
    "    LessThanEquals(X5.rhs.denominator.operands[1].operand.operands[1].exponent.operands[1],pi)})"
   ]
  },
  {
   "cell_type": "code",
   "execution_count": 19,
   "metadata": {
    "collapsed": false
   },
   "outputs": [
    {
     "data": {
      "image/png": "[encoded data removed]",
      "text/plain": [
       "(2 * |(2 * pi * (delta - l / 2^(t)))|) / pi <= |(1 - e^(i * (2 * pi * (delta - l / 2^(t)))))|"
      ]
     },
     "execution_count": 19,
     "metadata": {},
     "output_type": "execute_result"
    }
   ],
   "source": [
    "Y5 = ineqThm3.specialize({theta:X5.rhs.denominator.operands[1].operand.operands[1].exponent.operands[1]}).proven(\n",
    "    assumptions).deriveReversed().proven(assumptions)\n",
    "Y5"
   ]
  },
  {
   "cell_type": "code",
   "execution_count": 20,
   "metadata": {
    "collapsed": true
   },
   "outputs": [],
   "source": [
    "assumptions = assumptions.union({Y5})"
   ]
  },
  {
   "cell_type": "code",
   "execution_count": 21,
   "metadata": {
    "collapsed": true
   },
   "outputs": [],
   "source": [
    "assumptions = assumptions.union({In(Y5.lhs,Reals),In(Y5.rhs,Reals),In(Exponentiate(two,t),Reals),GreaterThan(Exponentiate(two,t),zero)})"
   ]
  },
  {
   "cell_type": "code",
   "execution_count": 22,
   "metadata": {
    "collapsed": false
   },
   "outputs": [
    {
     "data": {
      "image/png": "[encoded data removed]",
      "text/plain": [
       "(2^(t) * |(1 - e^(i * (2 * pi * (delta - l / 2^(t)))))|) >= (2^(t) * (2 * |(2 * pi * (delta - l / 2^(t)))|) / pi)"
      ]
     },
     "execution_count": 22,
     "metadata": {},
     "output_type": "execute_result"
    }
   ],
   "source": [
    "Y6 = divIneqThm1cor.specialize({a:Y5.lhs,c:Y5.rhs,b:Exponentiate(two,t)}).proven(assumptions).deriveReversed().proven(assumptions)\n",
    "Y6.proven(assumptions)"
   ]
  },
  {
   "cell_type": "code",
   "execution_count": 23,
   "metadata": {
    "collapsed": false
   },
   "outputs": [
    {
     "data": {
      "image/png": "[encoded data removed]",
      "text/plain": [
       "|((2 * pi) * (delta - l / 2^(t)))| = (|(2 * pi)| * |(delta - l / 2^(t))|)"
      ]
     },
     "execution_count": 23,
     "metadata": {},
     "output_type": "execute_result"
    }
   ],
   "source": [
    "Y7 = absProdEtc.specialize({Etcetera(a):Multiply(two,pi),Etcetera(b):Subtract(delta,Fraction(l,Exponentiate(two,t)))})\n",
    "assumptions = assumptions.union({In(Y7.lhs.operand.operands[0],Complexes),In(Y7.lhs.operand.operands[1],Complexes)})\n",
    "Y7.proven(assumptions)"
   ]
  },
  {
   "cell_type": "code",
   "execution_count": 24,
   "metadata": {
    "collapsed": false
   },
   "outputs": [
    {
     "data": {
      "image/png": "[encoded data removed]",
      "text/plain": [
       "(2^(t) * |(1 - e^(i * ((2 * pi) * (delta - l / 2^(t)))))|) >= (2^(t) * (2 * |((2 * pi) * (delta - l / 2^(t)))|) / pi)"
      ]
     },
     "execution_count": 24,
     "metadata": {},
     "output_type": "execute_result"
    }
   ],
   "source": [
    "Y8 = multAssoc.specialize(\n",
    "    {Etcetera(w):[],Etcetera(x):two,Etcetera(y):pi,Etcetera(z):Subtract(delta,Fraction(l,Exponentiate(two,t)))}).rhsSubstitute(Y6)\n",
    "Y8.proven(assumptions)"
   ]
  },
  {
   "cell_type": "code",
   "execution_count": 25,
   "metadata": {
    "collapsed": false
   },
   "outputs": [
    {
     "data": {
      "image/png": "[encoded data removed]",
      "text/plain": [
       "(2^(t) * |(1 - e^(i * ((2 * pi) * (delta - l / 2^(t)))))|) >= (2^(t) * (2 * (|(2 * pi)| * |(delta - l / 2^(t))|)) / pi)"
      ]
     },
     "execution_count": 25,
     "metadata": {},
     "output_type": "execute_result"
    }
   ],
   "source": [
    "Y9 = Y7.rhsSubstitute(Y8)\n",
    "Y9.proven(assumptions)"
   ]
  },
  {
   "cell_type": "code",
   "execution_count": 26,
   "metadata": {
    "collapsed": false
   },
   "outputs": [
    {
     "data": {
      "image/png": "[encoded data removed]",
      "text/plain": [
       "(2^(t) * |(1 - e^(i * ((2 * pi) * (delta - l / 2^(t)))))|) >= (2^(t) * (2 * ((2 * pi) * |(delta - l / 2^(t))|)) / pi)"
      ]
     },
     "execution_count": 26,
     "metadata": {},
     "output_type": "execute_result"
    }
   ],
   "source": [
    "Y10 = absPos.specialize({a:Y7.rhs.operands[0].operand}).rhsSubstitute(Y9)\n",
    "Y10.proven(assumptions)"
   ]
  },
  {
   "cell_type": "code",
   "execution_count": 27,
   "metadata": {
    "collapsed": false
   },
   "outputs": [
    {
     "data": {
      "image/png": "[encoded data removed]",
      "text/plain": [
       "(2 * (2 * pi) * |(delta - l / 2^(t))|) = (2 * ((2 * pi) * |(delta - l / 2^(t))|))"
      ]
     },
     "execution_count": 27,
     "metadata": {},
     "output_type": "execute_result"
    }
   ],
   "source": [
    "Y11 = multAssoc.specialize({Etcetera(w):two,Etcetera(x):Multiply(two,pi),\n",
    "                     Etcetera(y):Abs(Subtract(delta,Fraction(l,Exponentiate(two,t)))),Etcetera(z):[]})\n",
    "Y11.proven(assumptions)"
   ]
  },
  {
   "cell_type": "code",
   "execution_count": 28,
   "metadata": {
    "collapsed": false
   },
   "outputs": [
    {
     "data": {
      "image/png": "[encoded data removed]",
      "text/plain": [
       "(2^(t) * |(1 - e^(i * ((2 * pi) * (delta - l / 2^(t)))))|) >= (2^(t) * (2 * (2 * pi) * |(delta - l / 2^(t))|) / pi)"
      ]
     },
     "execution_count": 28,
     "metadata": {},
     "output_type": "execute_result"
    }
   ],
   "source": [
    "Y12 = Y11.lhsSubstitute(Y10)\n",
    "Y12.proven(assumptions)"
   ]
  },
  {
   "cell_type": "code",
   "execution_count": 29,
   "metadata": {
    "collapsed": false
   },
   "outputs": [
    {
     "data": {
      "image/png": "[encoded data removed]",
      "text/plain": [
       "(2 * 2 * pi * |(delta - l / 2^(t))|) = (2 * (2 * pi) * |(delta - l / 2^(t))|)"
      ]
     },
     "execution_count": 29,
     "metadata": {},
     "output_type": "execute_result"
    }
   ],
   "source": [
    "Y13 = multAssoc.specialize({Etcetera(w):two,Etcetera(x):two,\n",
    "                            Etcetera(y):pi,Etcetera(z):Abs(Subtract(delta,Fraction(l,Exponentiate(two,t))))})\n",
    "Y13.proven()"
   ]
  },
  {
   "cell_type": "code",
   "execution_count": 30,
   "metadata": {
    "collapsed": false
   },
   "outputs": [
    {
     "data": {
      "image/png": "[encoded data removed]",
      "text/plain": [
       "(2^(t) * |(1 - e^(i * ((2 * pi) * (delta - l / 2^(t)))))|) >= (2^(t) * (2 * 2 * pi * |(delta - l / 2^(t))|) / pi)"
      ]
     },
     "execution_count": 30,
     "metadata": {},
     "output_type": "execute_result"
    }
   ],
   "source": [
    "Y14 = Y13.lhsSubstitute(Y12)\n",
    "Y14.proven(assumptions)"
   ]
  },
  {
   "cell_type": "code",
   "execution_count": 31,
   "metadata": {
    "collapsed": true
   },
   "outputs": [],
   "source": [
    "assumptions = assumptions.union({In(pi,Complexes),\n",
    "                              In(Multiply(two,two,Abs(Subtract(delta,Fraction(l,Exponentiate(two,t))))),Complexes)\n",
    "                             })"
   ]
  },
  {
   "cell_type": "code",
   "execution_count": 32,
   "metadata": {
    "collapsed": false
   },
   "outputs": [
    {
     "name": "stdout",
     "output_type": "stream",
     "text": [
      "_0_\n",
      "_0_ / pi\n",
      "proveit.number.arithmeticOps.Multiply\n",
      "proveit.number.arithmeticOps.Multiply\n"
     ]
    },
    {
     "data": {
      "image/png": "[encoded data removed]",
      "text/plain": [
       "(2^(t) * |(1 - e^(i * ((2 * pi) * (delta - l / 2^(t)))))|) >= (2^(t) * (2 * 2 * |(delta - l / 2^(t))|))"
      ]
     },
     "execution_count": 32,
     "metadata": {},
     "output_type": "execute_result"
    }
   ],
   "source": [
    "Y15 = Y14.rhs.operands[1].cancel(pi).rhsSubstitute(Y14)\n",
    "Y15.proven(assumptions)"
   ]
  },
  {
   "cell_type": "code",
   "execution_count": 33,
   "metadata": {
    "collapsed": false
   },
   "outputs": [
    {
     "data": {
      "image/png": "[encoded data removed]",
      "text/plain": [
       "|alpha(l)| <= 2 / (2^(t) * |(1 - e^(i * (2 * pi * (delta - l / 2^(t)))))|)"
      ]
     },
     "execution_count": 33,
     "metadata": {},
     "output_type": "execute_result"
    }
   ],
   "source": [
    "X5"
   ]
  },
  {
   "cell_type": "code",
   "execution_count": 34,
   "metadata": {
    "collapsed": true
   },
   "outputs": [],
   "source": [
    "assumptions = assumptions.union({In(two,Reals),In(t,Reals),GreaterThan(two,zero)})"
   ]
  },
  {
   "cell_type": "code",
   "execution_count": 35,
   "metadata": {
    "collapsed": false
   },
   "outputs": [
    {
     "data": {
      "image/png": "[encoded data removed]",
      "text/plain": [
       "2^(t) > 0"
      ]
     },
     "execution_count": 35,
     "metadata": {},
     "output_type": "execute_result"
    }
   ],
   "source": [
    "Y16 = posOfExps.specialize({x:two,y:t}).proven(assumptions)\n",
    "Y16"
   ]
  },
  {
   "cell_type": "code",
   "execution_count": 36,
   "metadata": {
    "collapsed": false
   },
   "outputs": [
    {
     "data": {
      "image/png": "[encoded data removed]",
      "text/plain": [
       "(2 * 2 * |(delta - l / 2^(t))|) > 0"
      ]
     },
     "execution_count": 36,
     "metadata": {},
     "output_type": "execute_result"
    }
   ],
   "source": [
    "Y17 = GreaterThan(Multiply(two,two,Abs(Subtract(delta,Fraction(l,Exponentiate(two,t))))),zero)\n",
    "Y17.proven({Y17})#Will need to go back and prove Y17"
   ]
  },
  {
   "cell_type": "code",
   "execution_count": 37,
   "metadata": {
    "collapsed": true
   },
   "outputs": [],
   "source": [
    "assumptions = assumptions.union({Y16,Y17,In(Y16.lhs,Reals),In(Y17.lhs,Reals)})"
   ]
  },
  {
   "cell_type": "code",
   "execution_count": 38,
   "metadata": {
    "collapsed": false
   },
   "outputs": [
    {
     "data": {
      "image/png": "[encoded data removed]",
      "text/plain": [
       "(2^(t) * (2 * 2 * |(delta - l / 2^(t))|)) > 0"
      ]
     },
     "execution_count": 38,
     "metadata": {},
     "output_type": "execute_result"
    }
   ],
   "source": [
    "Y18 = posProd.specialize({x:Y16.lhs,y:Y17.lhs})\n",
    "Y18.proven(assumptions)"
   ]
  },
  {
   "cell_type": "code",
   "execution_count": 39,
   "metadata": {
    "collapsed": false
   },
   "outputs": [
    {
     "data": {
      "image/png": "[encoded data removed]",
      "text/plain": [
       "|alpha(l)| <= 2 / (2^(t) * |(1 - e^(i * ((2 * pi) * (delta - l / 2^(t)))))|)"
      ]
     },
     "execution_count": 39,
     "metadata": {},
     "output_type": "execute_result"
    }
   ],
   "source": [
    "X5a = multAssoc.specialize({Etcetera(w):[],\n",
    "                            Etcetera(x):two,\n",
    "                            Etcetera(y):pi,\n",
    "                     Etcetera(z):Subtract(delta,Fraction(l,Exponentiate(two,t)))}).rhsSubstitute(X5).proven(assumptions)\n",
    "X5a"
   ]
  },
  {
   "cell_type": "code",
   "execution_count": 40,
   "metadata": {
    "collapsed": false
   },
   "outputs": [
    {
     "data": {
      "image/png": "[encoded data removed]",
      "text/plain": [
       "|alpha(l)| <= 2 / (2^(t) * (2 * 2 * |(delta - l / 2^(t))|))"
      ]
     },
     "execution_count": 40,
     "metadata": {},
     "output_type": "execute_result"
    }
   ],
   "source": [
    "X19 = ineqThm10.specialize({w:X5.lhs,\n",
    "                      x:X5a.rhs.numerator,\n",
    "                      y:X5a.rhs.denominator,\n",
    "                      z:Y18.lhs})\n",
    "assumptions = assumptions.union({In(X5a.lhs,Reals),\n",
    "                                 In(X5a.rhs.numerator,Reals),\n",
    "                                 In(X5a.rhs.denominator,Reals),\n",
    "                                 In(Y18.lhs,Reals),\n",
    "                                 X5a,\n",
    "                                 Y15,\n",
    "                                 GreaterThan(X5a.lhs,zero),\n",
    "                                 GreaterThan(two,zero),\n",
    "                                 GreaterThan(X5a.rhs.denominator,zero),\n",
    "                                 Y18\n",
    "                                })#,\n",
    "#                                 \n",
    "#                                 ,})\n",
    "X19.proven(assumptions)"
   ]
  },
  {
   "cell_type": "code",
   "execution_count": 41,
   "metadata": {
    "collapsed": false
   },
   "outputs": [
    {
     "data": {
      "image/png": "[encoded data removed]",
      "text/plain": [
       "(2^(t) * 2 * 2 * |(delta - l / 2^(t))|) = (2^(t) * (2 * 2 * |(delta - l / 2^(t))|))"
      ]
     },
     "execution_count": 41,
     "metadata": {},
     "output_type": "execute_result"
    }
   ],
   "source": [
    "multAssoc.specialize({Etcetera(w):Exponentiate(two,t),\n",
    "                      Etcetera(x):[two,two],\n",
    "                      Etcetera(y):Abs(Subtract(delta,Fraction(l,Exponentiate(two,t)))),\n",
    "                      Etcetera(z):[]})"
   ]
  },
  {
   "cell_type": "code",
   "execution_count": 42,
   "metadata": {
    "collapsed": false
   },
   "outputs": [
    {
     "data": {
      "image/png": "[encoded data removed]",
      "text/plain": [
       "|alpha(l)| <= 2 / (2^(t) * 2 * 2 * |(delta - l / 2^(t))|)"
      ]
     },
     "execution_count": 42,
     "metadata": {},
     "output_type": "execute_result"
    }
   ],
   "source": [
    "X20 = multAssoc.specialize({Etcetera(w):Exponentiate(two,t),\n",
    "                      Etcetera(x):[two,two],\n",
    "                      Etcetera(y):Abs(Subtract(delta,Fraction(l,Exponentiate(two,t)))),\n",
    "                      Etcetera(z):[]}).lhsSubstitute(X19).proven(assumptions)\n",
    "X20"
   ]
  },
  {
   "cell_type": "code",
   "execution_count": null,
   "metadata": {
    "collapsed": true
   },
   "outputs": [],
   "source": []
  },
  {
   "cell_type": "code",
   "execution_count": 43,
   "metadata": {
    "collapsed": false
   },
   "outputs": [
    {
     "name": "stdout",
     "output_type": "stream",
     "text": [
      "_0_\n",
      "2 / _0_\n",
      "proveit.number.arithmeticOps.Multiply\n",
      "proveit.number.arithmeticOps.Multiply\n"
     ]
    },
    {
     "data": {
      "image/png": "[encoded data removed]",
      "text/plain": [
       "2 / (2^(t) * 2 * 2 * |(delta - l / 2^(t))|) = 1 / (2^(t) * 2 * |(delta - l / 2^(t))|)"
      ]
     },
     "execution_count": 43,
     "metadata": {},
     "output_type": "execute_result"
    }
   ],
   "source": [
    "Y21 = X20.rhs.cancel(two)\n",
    "assumptions = assumptions.union({In(two,Complexes),In(Multiply(Exponentiate(two,t),two,Abs(Subtract(delta,Fraction(l,Exponentiate(two,t))))),Complexes)})\n",
    "Y21.proven(assumptions)"
   ]
  },
  {
   "cell_type": "code",
   "execution_count": 44,
   "metadata": {
    "collapsed": false
   },
   "outputs": [
    {
     "data": {
      "image/png": "[encoded data removed]",
      "text/plain": [
       "|alpha(l)| <= 1 / (2^(t) * 2 * |(delta - l / 2^(t))|)"
      ]
     },
     "execution_count": 44,
     "metadata": {},
     "output_type": "execute_result"
    }
   ],
   "source": [
    "X22 = Y21.rhsSubstitute(X20)\n",
    "X22.proven(assumptions)"
   ]
  },
  {
   "cell_type": "code",
   "execution_count": null,
   "metadata": {
    "collapsed": true
   },
   "outputs": [],
   "source": []
  },
  {
   "cell_type": "code",
   "execution_count": 45,
   "metadata": {
    "collapsed": false
   },
   "outputs": [
    {
     "data": {
      "image/png": "[encoded data removed]",
      "text/plain": [
       "(2^(t) * 2 * |(delta - l / 2^(t))|) = (2^(t + 1) * |(delta - l / 2^(t))|)"
      ]
     },
     "execution_count": 45,
     "metadata": {},
     "output_type": "execute_result"
    }
   ],
   "source": [
    "assumptions = assumptions.union({In(t,Complexes),In(two,Complexes),In(Abs(Subtract(delta,Fraction(l,Exponentiate(two,t)))),Complexes)})\n",
    "Y23 = expAdd1a.specialize({x:two,y:t,z:Abs(Subtract(delta,Fraction(l,Exponentiate(two,t))))})\n",
    "Y23.proven(assumptions)"
   ]
  },
  {
   "cell_type": "code",
   "execution_count": 46,
   "metadata": {
    "collapsed": false
   },
   "outputs": [
    {
     "data": {
      "image/png": "[encoded data removed]",
      "text/plain": [
       "|alpha(l)| <= 1 / (2^(t + 1) * |(delta - l / 2^(t))|)"
      ]
     },
     "execution_count": 46,
     "metadata": {},
     "output_type": "execute_result"
    }
   ],
   "source": [
    "X24 = Y23.rhsSubstitute(X22)\n",
    "X24.proven(assumptions)"
   ]
  },
  {
   "cell_type": "code",
   "execution_count": 47,
   "metadata": {
    "collapsed": true
   },
   "outputs": [],
   "source": [
    "from proveit.number.real.theorems import squarePosIneq"
   ]
  },
  {
   "cell_type": "code",
   "execution_count": 48,
   "metadata": {
    "collapsed": false
   },
   "outputs": [
    {
     "data": {
      "image/png": "[encoded data removed]",
      "text/plain": [
       "forall_{a, b in Reals | |a| <= b} (|a|^(2) <= b^(2))"
      ]
     },
     "execution_count": 48,
     "metadata": {},
     "output_type": "execute_result"
    }
   ],
   "source": [
    "squarePosIneq"
   ]
  },
  {
   "cell_type": "code",
   "execution_count": 49,
   "metadata": {
    "collapsed": false
   },
   "outputs": [
    {
     "data": {
      "image/png": "[encoded data removed]",
      "text/plain": [
       "|alpha(l)|^(2) <= (1 / (2^(t + 1) * |(delta - l / 2^(t))|))^(2)"
      ]
     },
     "execution_count": 49,
     "metadata": {},
     "output_type": "execute_result"
    }
   ],
   "source": [
    "X25 = squarePosIneq.specialize({a:alpha_l,b:X24.rhs})\n",
    "assumptions = assumptions.union({X24,In(alpha_l,Reals),In(X24.rhs,Reals)})\n",
    "X25.proven(assumptions)"
   ]
  },
  {
   "cell_type": "code",
   "execution_count": 50,
   "metadata": {
    "collapsed": false
   },
   "outputs": [
    {
     "data": {
      "image/png": "[encoded data removed]",
      "text/plain": [
       "|alpha(l)|^(2) <= 1^(2) / (2^(t + 1) * |(delta - l / 2^(t))|)^(2)"
      ]
     },
     "execution_count": 50,
     "metadata": {},
     "output_type": "execute_result"
    }
   ],
   "source": [
    "X26 = fracExp.specialize({x:one,\n",
    "                          y:Multiply(Exponentiate(two,Add(t,one)),Abs(Subtract(delta,Fraction(l,Exponentiate(two,t))))),\n",
    "                          z:two}).rhsSubstitute(X25)\n",
    "assumptions = assumptions.union({In(one,Complexes),In(X26.rhs.denominator.base,Complexes),In(two,Complexes)})\n",
    "X26.proven(assumptions)"
   ]
  },
  {
   "cell_type": "code",
   "execution_count": 51,
   "metadata": {
    "collapsed": false
   },
   "outputs": [
    {
     "data": {
      "image/png": "[encoded data removed]",
      "text/plain": [
       "forall_{a, b, c in Complexes} ((a * b)^(c) = (a^(c) * b^(c)))"
      ]
     },
     "execution_count": 51,
     "metadata": {},
     "output_type": "execute_result"
    }
   ],
   "source": [
    "powOfProd"
   ]
  },
  {
   "cell_type": "code",
   "execution_count": 52,
   "metadata": {
    "collapsed": false
   },
   "outputs": [
    {
     "data": {
      "image/png": "[encoded data removed]",
      "text/plain": [
       "|alpha(l)|^(2) <= 1^(2) / ((2^(t + 1))^(2) * |(delta - l / 2^(t))|^(2))"
      ]
     },
     "execution_count": 52,
     "metadata": {},
     "output_type": "execute_result"
    }
   ],
   "source": [
    "X27 = powOfProd.specialize({a:Exponentiate(two,Add(t,one)),\n",
    "                            b:Abs(Subtract(delta,Fraction(l,Exponentiate(two,t)))),\n",
    "                            c:two}).rhsSubstitute(X26)\n",
    "assumptions = assumptions.union({In(Exponentiate(two,Add(t,one)),Complexes),\n",
    "                                 In(Abs(Subtract(delta,Fraction(l,Exponentiate(two,t)))),Complexes),\n",
    "                                 In(two,Complexes)})\n",
    "X27.proven(assumptions)"
   ]
  },
  {
   "cell_type": "code",
   "execution_count": 53,
   "metadata": {
    "collapsed": false
   },
   "outputs": [
    {
     "data": {
      "image/png": "[encoded data removed]",
      "text/plain": [
       "|alpha(l)|^(2) <= 1 / ((2^(t + 1))^(2) * |(delta - l / 2^(t))|^(2))"
      ]
     },
     "execution_count": 53,
     "metadata": {},
     "output_type": "execute_result"
    }
   ],
   "source": [
    "X28 = expOne.specialize({x:two}).rhsSubstitute(X27)\n",
    "assumptions = assumptions.union({In(two,Reals)})\n",
    "X28.proven(assumptions)"
   ]
  },
  {
   "cell_type": "code",
   "execution_count": 54,
   "metadata": {
    "collapsed": false
   },
   "outputs": [
    {
     "data": {
      "image/png": "[encoded data removed]",
      "text/plain": [
       "|alpha(l)|^(2) <= 1 / (2^((t + 1) * 2) * |(delta - l / 2^(t))|^(2))"
      ]
     },
     "execution_count": 54,
     "metadata": {},
     "output_type": "execute_result"
    }
   ],
   "source": [
    "X29 = powOfPow.specialize({a:two,b:Add(t,one),c:two}).rhsSubstitute(X28)\n",
    "assumptions = assumptions.union({In(Add(t,one),Complexes)})\n",
    "X29.proven(assumptions)"
   ]
  },
  {
   "cell_type": "code",
   "execution_count": 55,
   "metadata": {
    "collapsed": false
   },
   "outputs": [
    {
     "data": {
      "image/png": "[encoded data removed]",
      "text/plain": [
       "|alpha(l)|^(2) <= 1 / (2^((t * 2) + (1 * 2)) * |(delta - l / 2^(t))|^(2))"
      ]
     },
     "execution_count": 55,
     "metadata": {},
     "output_type": "execute_result"
    }
   ],
   "source": [
    "X30 = multOverAdd.specialize({x:t,y:one,z:two}).rhsSubstitute(X29)\n",
    "X30.proven(assumptions)"
   ]
  },
  {
   "cell_type": "code",
   "execution_count": 56,
   "metadata": {
    "collapsed": false
   },
   "outputs": [
    {
     "data": {
      "image/png": "[encoded data removed]",
      "text/plain": [
       "|alpha(l)|^(2) <= 1 / (2^((t * 2) + 2) * |(delta - l / 2^(t))|^(2))"
      ]
     },
     "execution_count": 56,
     "metadata": {},
     "output_type": "execute_result"
    }
   ],
   "source": [
    "X31 = multOne.specialize({x:two}).rhsSubstitute(X30)\n",
    "X31.proven(assumptions)"
   ]
  },
  {
   "cell_type": "code",
   "execution_count": 57,
   "metadata": {
    "collapsed": false
   },
   "outputs": [
    {
     "data": {
      "image/png": "[encoded data removed]",
      "text/plain": [
       "forall_{a, b, c in Complexes} ((a^(b))^(c) = a^(b * c))"
      ]
     },
     "execution_count": 57,
     "metadata": {},
     "output_type": "execute_result"
    }
   ],
   "source": [
    "powOfPow"
   ]
  },
  {
   "cell_type": "code",
   "execution_count": 58,
   "metadata": {
    "collapsed": false
   },
   "outputs": [
    {
     "data": {
      "image/png": "[encoded data removed]",
      "text/plain": [
       "|alpha(l)|^(2) <= 1 / ((2^(t * 2) * 2^(2)) * |(delta - l / 2^(t))|^(2))"
      ]
     },
     "execution_count": 58,
     "metadata": {},
     "output_type": "execute_result"
    }
   ],
   "source": [
    "X32 = sumInPow.specialize({a:two,b:Multiply(t,two),c:two}).rhsSubstitute(X31)\n",
    "assumptions = assumptions.union({In(Multiply(t,two),Complexes)})\n",
    "X32.proven(assumptions)"
   ]
  },
  {
   "cell_type": "code",
   "execution_count": 59,
   "metadata": {
    "collapsed": false
   },
   "outputs": [
    {
     "data": {
      "image/png": "[encoded data removed]",
      "text/plain": [
       "|alpha(l)|^(2) <= 1 / ((2^(t * 2) * 2^(2)) * (delta - l / 2^(t))^(2))"
      ]
     },
     "execution_count": 59,
     "metadata": {},
     "output_type": "execute_result"
    }
   ],
   "source": [
    "X33 = squarePosEq.specialize({a:Subtract(delta,Fraction(l,Exponentiate(two,t)))}).rhsSubstitute(X32)\n",
    "assumptions = assumptions.union({In(Subtract(delta,Fraction(l,Exponentiate(two,t))),Reals)})\n",
    "X33.proven(assumptions)"
   ]
  },
  {
   "cell_type": "code",
   "execution_count": 60,
   "metadata": {
    "collapsed": false
   },
   "outputs": [
    {
     "data": {
      "image/png": "[encoded data removed]",
      "text/plain": [
       "|alpha(l)|^(2) <= 1 / ((2^(t * 2) * 2^(2)) * (l / 2^(t) - delta)^(2))"
      ]
     },
     "execution_count": 60,
     "metadata": {},
     "output_type": "execute_result"
    }
   ],
   "source": [
    "X34 = diffSquareComm.specialize({a:delta,b:Fraction(l,Exponentiate(two,t))}).rhsSubstitute(X33) \n",
    "assumptions = assumptions.union({In(delta,Complexes),In(Fraction(l,Exponentiate(two,t)),Complexes)})\n",
    "X34.proven(assumptions)"
   ]
  },
  {
   "cell_type": "code",
   "execution_count": 61,
   "metadata": {
    "collapsed": false
   },
   "outputs": [
    {
     "data": {
      "image/png": "[encoded data removed]",
      "text/plain": [
       "|alpha(l)|^(2) <= 1 / (((2^(t))^(2) * 2^(2)) * (l / 2^(t) - delta)^(2))"
      ]
     },
     "execution_count": 61,
     "metadata": {},
     "output_type": "execute_result"
    }
   ],
   "source": [
    "X35 = powOfPow.specialize({a:two,b:t,c:two}).lhsSubstitute(X34)\n",
    "X35.proven(assumptions)"
   ]
  },
  {
   "cell_type": "code",
   "execution_count": 62,
   "metadata": {
    "collapsed": false
   },
   "outputs": [
    {
     "data": {
      "image/png": "[encoded data removed]",
      "text/plain": [
       "|alpha(l)|^(2) <= 1 / ((2^(t))^(2) * 2^(2) * (l / 2^(t) - delta)^(2))"
      ]
     },
     "execution_count": 62,
     "metadata": {},
     "output_type": "execute_result"
    }
   ],
   "source": [
    "X36 = multAssoc.specialize({Etcetera(w):[],\n",
    "                     Etcetera(x):Exponentiate(Exponentiate(two,t),two),\n",
    "                     Etcetera(y):Exponentiate(two,two),\n",
    "                     Etcetera(z):Exponentiate(\n",
    "            Subtract(\n",
    "                Fraction(l,Exponentiate(two,t))\n",
    "                ,delta),two)}).lhsSubstitute(X35)\n",
    "X36.proven(assumptions)"
   ]
  },
  {
   "cell_type": "code",
   "execution_count": 63,
   "metadata": {
    "collapsed": false
   },
   "outputs": [
    {
     "data": {
      "image/png": "[encoded data removed]",
      "text/plain": [
       "|alpha(l)|^(2) <= 1 / (2^(2) * (2^(t))^(2) * (l / 2^(t) - delta)^(2))"
      ]
     },
     "execution_count": 63,
     "metadata": {},
     "output_type": "execute_result"
    }
   ],
   "source": [
    "X37 = multComm.specialize({Etcetera(v):[],\n",
    "                           Etcetera(w):Exponentiate(Exponentiate(two,t),two),\n",
    "                           Etcetera(x):[],\n",
    "                           Etcetera(y):Exponentiate(two,two),\n",
    "                           Etcetera(z):Exponentiate(\n",
    "            Subtract(\n",
    "                Fraction(l,Exponentiate(two,t))\n",
    "                ,delta),two)}).rhsSubstitute(X36)\n",
    "X37.proven(assumptions)"
   ]
  },
  {
   "cell_type": "code",
   "execution_count": 64,
   "metadata": {
    "collapsed": false
   },
   "outputs": [
    {
     "data": {
      "image/png": "[encoded data removed]",
      "text/plain": [
       "|alpha(l)|^(2) <= 1 / (2^(2) * ((2^(t))^(2) * (l / 2^(t) - delta)^(2)))"
      ]
     },
     "execution_count": 64,
     "metadata": {},
     "output_type": "execute_result"
    }
   ],
   "source": [
    "X38 = multAssoc.specialize({Etcetera(w):Exponentiate(two,two),\n",
    "                            Etcetera(x):Exponentiate(Exponentiate(two,t),two),\n",
    "                            Etcetera(y):Exponentiate(\n",
    "            Subtract(\n",
    "                Fraction(l,Exponentiate(two,t))\n",
    "                ,delta),two),\n",
    "                            Etcetera(z):[]}).rhsSubstitute(X37)\n",
    "X38.proven(assumptions)"
   ]
  },
  {
   "cell_type": "code",
   "execution_count": 65,
   "metadata": {
    "collapsed": false
   },
   "outputs": [
    {
     "data": {
      "image/png": "[encoded data removed]",
      "text/plain": [
       "|alpha(l)|^(2) <= 1 / (2^(2) * (2^(t) * (l / 2^(t) - delta))^(2))"
      ]
     },
     "execution_count": 65,
     "metadata": {},
     "output_type": "execute_result"
    }
   ],
   "source": [
    "X39 = samePowDistribute.specialize({x:Exponentiate(two,t),y:two,z:Subtract(\n",
    "                Fraction(l,Exponentiate(two,t))\n",
    "                ,delta)}).rhsSubstitute(X38)\n",
    "assumptions = assumptions.union({\n",
    "            In(Exponentiate(two,t),Complexes),\n",
    "            In(Subtract(\n",
    "                Fraction(l,Exponentiate(two,t))\n",
    "                ,delta),Complexes)\n",
    "        })\n",
    "X39.proven(assumptions)"
   ]
  },
  {
   "cell_type": "code",
   "execution_count": 66,
   "metadata": {
    "collapsed": false
   },
   "outputs": [
    {
     "data": {
      "image/png": "[encoded data removed]",
      "text/plain": [
       "|alpha(l)|^(2) <= 1 / (2^(2) * ((l / 2^(t) - delta) * 2^(t))^(2))"
      ]
     },
     "execution_count": 66,
     "metadata": {},
     "output_type": "execute_result"
    }
   ],
   "source": [
    "X40 = multComm.specialize({Etcetera(v):[],\n",
    "                           Etcetera(w):Exponentiate(two,t),\n",
    "                           Etcetera(x):[],\n",
    "                           Etcetera(y):Subtract(Fraction(l,Exponentiate(two,t)),delta),\n",
    "                           Etcetera(z):[]}).rhsSubstitute(X39)\n",
    "X40.proven(assumptions)"
   ]
  },
  {
   "cell_type": "code",
   "execution_count": 67,
   "metadata": {
    "collapsed": false
   },
   "outputs": [
    {
     "data": {
      "image/png": "[encoded data removed]",
      "text/plain": [
       "|alpha(l)|^(2) <= 1 / (2^(2) * ((l / 2^(t) * 2^(t)) - (delta * 2^(t)))^(2))"
      ]
     },
     "execution_count": 67,
     "metadata": {},
     "output_type": "execute_result"
    }
   ],
   "source": [
    "X41 = multOverSubtract.specialize({x:Fraction(l,Exponentiate(two,t)),\n",
    "                                   y:delta,\n",
    "                                   z:Exponentiate(two,t)}).rhsSubstitute(X40)\n",
    "X41.proven(assumptions)"
   ]
  },
  {
   "cell_type": "code",
   "execution_count": 68,
   "metadata": {
    "collapsed": false
   },
   "outputs": [
    {
     "data": {
      "image/png": "[encoded data removed]",
      "text/plain": [
       "|alpha(l)|^(2) <= 1 / (2^(2) * (l - (delta * 2^(t)))^(2))"
      ]
     },
     "execution_count": 68,
     "metadata": {},
     "output_type": "execute_result"
    }
   ],
   "source": [
    "X42 = fracCancel4.specialize({x:l,y:Exponentiate(two,t)}).rhsSubstitute(X41)\n",
    "assumptions = assumptions.union({In(l,Complexes)})\n",
    "X42.proven(assumptions)"
   ]
  },
  {
   "cell_type": "code",
   "execution_count": 72,
   "metadata": {
    "collapsed": false
   },
   "outputs": [
    {
     "data": {
      "image/png": "[encoded data removed]",
      "text/plain": [
       "|alpha(l)|^(2) <= 1 / (4 * (l - (delta * 2^(t)))^(2))"
      ]
     },
     "execution_count": 72,
     "metadata": {},
     "output_type": "execute_result"
    }
   ],
   "source": [
    "X43 = twoSquared.specialize({}).rhsSubstitute(X42)\n",
    "X43.proven(assumptions)"
   ]
  },
  {
   "cell_type": "code",
   "execution_count": 73,
   "metadata": {
    "collapsed": false
   },
   "outputs": [
    {
     "data": {
      "image/png": "[encoded data removed]",
      "text/plain": [
       "|alpha(l)|^(2) <= 1 / (4 * (l - (2^(t) * delta))^(2))"
      ]
     },
     "execution_count": 73,
     "metadata": {},
     "output_type": "execute_result"
    }
   ],
   "source": [
    "X44 = multComm.specialize({Etcetera(v):[],\n",
    "                           Etcetera(w):delta,\n",
    "                           Etcetera(x):[],\n",
    "                           Etcetera(y):Exponentiate(two,t),\n",
    "                           Etcetera(z):[]}).rhsSubstitute(X43)\n",
    "X44.proven(assumptions)"
   ]
  },
  {
   "cell_type": "code",
   "execution_count": null,
   "metadata": {
    "collapsed": true
   },
   "outputs": [],
   "source": []
  }
 ],
 "metadata": {
  "kernelspec": {
   "display_name": "Python 2",
   "language": "python",
   "name": "python2"
  },
  "language_info": {
   "codemirror_mode": {
    "name": "ipython",
    "version": 2
   },
   "file_extension": ".py",
   "mimetype": "text/x-python",
   "name": "python",
   "nbconvert_exporter": "python",
   "pygments_lexer": "ipython2",
   "version": "2.7.10"
  }
 },
 "nbformat": 4,
 "nbformat_minor": 0
}
