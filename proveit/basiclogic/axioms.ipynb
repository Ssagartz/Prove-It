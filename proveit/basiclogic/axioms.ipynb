{
 "cells": [
  {
   "cell_type": "code",
   "execution_count": 1,
   "metadata": {
    "collapsed": true
   },
   "outputs": [],
   "source": [
    "import proveit.specialStatementMagic # for %begin_axioms and %end_axioms\n",
    "from proveit.basiclogic import OperationOverInstances, Forall, Equals, Implies, In\n",
    "from proveit.common import n, Qetc, xEtc, yEtc, zEtc, etc_QxEtc, etc_QyEtc, etc_QzEtc, f, g, fxEtc, fyEtc, gxEtc, gzEtc, Upsilon, S\n",
    "from proveit.number.common import Naturals\n",
    "from proveit.basiclogic.common import n_of_xEtc, n_of_yEtc, n_of_zEtc"
   ]
  },
  {
   "cell_type": "code",
   "execution_count": 2,
   "metadata": {
    "collapsed": false
   },
   "outputs": [],
   "source": [
    "%begin_axioms"
   ]
  },
  {
   "cell_type": "markdown",
   "metadata": {},
   "source": [
    "instanceSubstition: For any OperationOverInstance operator $\\Upsilon$, such as $\\forall$ or $\\sum$ or $\\prod$, we may substitute an instance expression that is equivalent for all relevant instances with respect to the domain $S$ and conditions $..Q..$.  This could not be implemented with normal substitution in proveit.basiclogic.equals.axioms because that would violate scope restrictions with respect to the instance variables."
   ]
  },
  {
   "cell_type": "code",
   "execution_count": 3,
   "metadata": {
    "collapsed": false
   },
   "outputs": [
    {
     "data": {
      "text/latex": [
       "$\\forall_{\\Upsilon, ..Q.., f, g, S} \\left(\\left[\\forall_{..x.. \\in S | ..Q\\left(..x..\\right)..} \\left(f\\left(..x..\\right) = g\\left(..x..\\right)\\right)\\right] \\Rightarrow \\left(\\left[\\Upsilon_{..y.. \\in S | ..Q\\left(..y..\\right)..} f\\left(..y..\\right)\\right] = \\left[\\Upsilon_{..z.. \\in S | ..Q\\left(..z..\\right)..} g\\left(..z..\\right)\\right]\\right)\\right)$"
      ],
      "text/plain": [
       "forall_{Upsilon, ..Q.., f, g, S} ([forall_{..x.. in S | ..Q(..x..)..} (f(..x..) = g(..x..))] => ([Upsilon_{..y.. in S | ..Q(..y..)..} f(..y..)] = [Upsilon_{..z.. in S | ..Q(..z..)..} g(..z..)]))"
      ]
     },
     "execution_count": 3,
     "metadata": {},
     "output_type": "execute_result"
    }
   ],
   "source": [
    "instanceSubstitution = \\\n",
    "    Forall((Upsilon, Qetc, f, g, S), \n",
    "                     Implies(Forall(xEtc, Equals(fxEtc, gxEtc), domain=S, conditions=etc_QxEtc),\n",
    "                             Equals(OperationOverInstances(Upsilon, yEtc, fyEtc, domain=S, conditions=etc_QyEtc),\n",
    "                                    OperationOverInstances(Upsilon, zEtc, gzEtc, domain=S, conditions=etc_QzEtc))))\n",
    "instanceSubstitution"
   ]
  },
  {
   "cell_type": "code",
   "execution_count": 4,
   "metadata": {
    "collapsed": false
   },
   "outputs": [
    {
     "name": "stdout",
     "output_type": "stream",
     "text": [
      "Creating axioms *.dill and *.pv_it files in the __pv_it__ directory\n",
      "instanceSubstitution has changed.  Replace it? (yes/no/all)a\n",
      "These axioms may be imported from proveit.basiclogic.axioms\n"
     ]
    }
   ],
   "source": [
    "%end_axioms"
   ]
  },
  {
   "cell_type": "code",
   "execution_count": null,
   "metadata": {
    "collapsed": true
   },
   "outputs": [],
   "source": []
  }
 ],
 "metadata": {
  "kernelspec": {
   "display_name": "Python 2",
   "language": "python",
   "name": "python2"
  },
  "language_info": {
   "codemirror_mode": {
    "name": "ipython",
    "version": 2
   },
   "file_extension": ".py",
   "mimetype": "text/x-python",
   "name": "python",
   "nbconvert_exporter": "python",
   "pygments_lexer": "ipython2",
   "version": "2.7.10"
  }
 },
 "nbformat": 4,
 "nbformat_minor": 0
}
