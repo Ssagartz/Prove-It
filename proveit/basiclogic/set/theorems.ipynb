{
 "cells": [
  {
   "cell_type": "code",
   "execution_count": 1,
   "metadata": {
    "collapsed": false
   },
   "outputs": [],
   "source": [
    "import proveit.specialStatementMagic # for %begin_theorems and %end_theorems\n",
    "from proveit.basiclogic import BOOLEANS, Forall, Exists, And, Or, Not, Implies, Iff, Equals, NotEquals, \\\n",
    "In, NotIn, Singleton, Union, Intersection, Difference, SubsetEq, SupersetEq, SetOfAll\n",
    "from proveit.common import f, x, y, A, B, C, S, P, fy, Px, Py, yEtc, fyEtc, Qetc, etc_QyEtc"
   ]
  },
  {
   "cell_type": "code",
   "execution_count": 2,
   "metadata": {
    "collapsed": true
   },
   "outputs": [],
   "source": [
    "%begin_theorems"
   ]
  },
  {
   "cell_type": "code",
   "execution_count": 3,
   "metadata": {
    "collapsed": false
   },
   "outputs": [
    {
     "data": {
      "image/png": "[encoded data removed]",
      "text/plain": [
       "$\\forall_{ x , S } \\left(\\left(x \\notin S\\right) \\in \\mathbb{B}\\right)$"
      ]
     },
     "execution_count": 3,
     "metadata": {},
     "output_type": "execute_result"
    }
   ],
   "source": [
    "notInSetIsInBool = Forall((x, S), In(NotIn(x, S), BOOLEANS))\n",
    "notInSetIsInBool"
   ]
  },
  {
   "cell_type": "code",
   "execution_count": 4,
   "metadata": {
    "collapsed": false
   },
   "outputs": [
    {
     "data": {
      "image/png": "[encoded data removed]",
      "text/plain": [
       "$\\forall_{ x , S } \\left((\\lnot \\left(x \\in S\\right)) \\Rightarrow \\left(x \\notin S\\right)\\right)$"
      ]
     },
     "execution_count": 4,
     "metadata": {},
     "output_type": "execute_result"
    }
   ],
   "source": [
    "foldNotIn = Forall((x, S), Implies(Not(In(x, S)), NotIn(x, S)))\n",
    "foldNotIn"
   ]
  },
  {
   "cell_type": "code",
   "execution_count": 5,
   "metadata": {
    "collapsed": false
   },
   "outputs": [
    {
     "data": {
      "image/png": "[encoded data removed]",
      "text/plain": [
       "$\\forall_{ x , S } \\left(\\left(x \\notin S\\right) \\Rightarrow (\\lnot \\left(x \\in S\\right))\\right)$"
      ]
     },
     "execution_count": 5,
     "metadata": {},
     "output_type": "execute_result"
    }
   ],
   "source": [
    "unfoldNotIn = Forall((x, S), Implies(NotIn(x, S), Not(In(x, S))))\n",
    "unfoldNotIn"
   ]
  },
  {
   "cell_type": "code",
   "execution_count": 6,
   "metadata": {
    "collapsed": false
   },
   "outputs": [
    {
     "data": {
      "image/png": "[encoded data removed]",
      "text/plain": [
       "$\\forall_{ x , y } \\left(\\left(x \\notin \\{y\\}\\right) = \\left(x \\neq y\\right)\\right)$"
      ]
     },
     "execution_count": 6,
     "metadata": {},
     "output_type": "execute_result"
    }
   ],
   "source": [
    "notInSingleton = Forall((x, y), Equals(NotIn(x, Singleton(y)), NotEquals(x, y)))\n",
    "notInSingleton"
   ]
  },
  {
   "cell_type": "code",
   "execution_count": 7,
   "metadata": {
    "collapsed": false
   },
   "outputs": [
    {
     "data": {
      "image/png": "[encoded data removed]",
      "text/plain": [
       "$\\forall_{ x , S , y } \\left(\\left(x \\in \\left(S - \\{y\\}\\right)\\right) \\Leftrightarrow \\left( \\left(x \\in S\\right) \\land \\left(x \\neq y\\right) \\right)\\right)$"
      ]
     },
     "execution_count": 7,
     "metadata": {},
     "output_type": "execute_result"
    }
   ],
   "source": [
    "inAllButOne = Forall((x, S, y), Iff(In(x, Difference(S, Singleton(y))), \n",
    "                                    And(In(x, S), NotEquals(x, y))))\n",
    "inAllButOne"
   ]
  },
  {
   "cell_type": "code",
   "execution_count": 8,
   "metadata": {
    "collapsed": false
   },
   "outputs": [
    {
     "data": {
      "image/png": "[encoded data removed]",
      "text/plain": [
       "$\\forall_{ A , B } \\left(\\left(A \\subseteq B\\right) \\Rightarrow \\left[\\forall_{ x  \\in A} \\left(x \\in B\\right)\\right]\\right)$"
      ]
     },
     "execution_count": 8,
     "metadata": {},
     "output_type": "execute_result"
    }
   ],
   "source": [
    "unfoldSubsetEq = Forall((A, B), Implies(SubsetEq(A, B), Forall(x, In(x, B), A)))\n",
    "unfoldSubsetEq"
   ]
  },
  {
   "cell_type": "code",
   "execution_count": 9,
   "metadata": {
    "collapsed": false
   },
   "outputs": [
    {
     "data": {
      "image/png": "[encoded data removed]",
      "text/plain": [
       "$\\forall_{ A , B } \\left(\\left[\\forall_{ x  \\in A} \\left(x \\in B\\right)\\right] \\Rightarrow \\left(A \\subseteq B\\right)\\right)$"
      ]
     },
     "execution_count": 9,
     "metadata": {},
     "output_type": "execute_result"
    }
   ],
   "source": [
    "foldSubsetEq = Forall((A, B), Implies(Forall(x, In(x, B), A), SubsetEq(A, B)))\n",
    "foldSubsetEq"
   ]
  },
  {
   "cell_type": "code",
   "execution_count": 10,
   "metadata": {
    "collapsed": false
   },
   "outputs": [
    {
     "data": {
      "image/png": "[encoded data removed]",
      "text/plain": [
       "$\\forall_{ A , B } \\left(\\left(A \\supseteq B\\right) \\Rightarrow \\left[\\forall_{ x  \\in B} \\left(x \\in A\\right)\\right]\\right)$"
      ]
     },
     "execution_count": 10,
     "metadata": {},
     "output_type": "execute_result"
    }
   ],
   "source": [
    "unfoldSupersetEq = Forall((A, B), Implies(SupersetEq(A, B), Forall(x, In(x, A), B)))\n",
    "unfoldSupersetEq"
   ]
  },
  {
   "cell_type": "code",
   "execution_count": 11,
   "metadata": {
    "collapsed": false
   },
   "outputs": [
    {
     "data": {
      "image/png": "[encoded data removed]",
      "text/plain": [
       "$\\forall_{ A , B } \\left(\\left[\\forall_{ x  \\in B} \\left(x \\in A\\right)\\right] \\Rightarrow \\left(A \\supseteq B\\right)\\right)$"
      ]
     },
     "execution_count": 11,
     "metadata": {},
     "output_type": "execute_result"
    }
   ],
   "source": [
    "foldSupersetEq = Forall((A, B), Implies(Forall(x, In(x, A), B), SupersetEq(A, B)))\n",
    "foldSupersetEq"
   ]
  },
  {
   "cell_type": "code",
   "execution_count": 12,
   "metadata": {
    "collapsed": false
   },
   "outputs": [
    {
     "data": {
      "image/png": "[encoded data removed]",
      "text/plain": [
       "$\\forall_{~.., Q_{\\Box} ,..~, f , x } \\left(\\left(x \\in \\left\\{f\\left(~.., y_{\\Box} ,..~\\right)~|~~.., Q_{\\Box}\\left(~.., y_{\\Box} ,..~\\right) ,..~\\right\\}_{~.., y_{\\Box} ,..~}\\right) \\Rightarrow \\left[\\exists_{~.., y_{\\Box} ,..~~|~~.., Q_{\\Box}\\left(~.., y_{\\Box} ,..~\\right) ,..~} \\left(x = f\\left(~.., y_{\\Box} ,..~\\right)\\right)\\right]\\right)$"
      ]
     },
     "execution_count": 12,
     "metadata": {},
     "output_type": "execute_result"
    }
   ],
   "source": [
    "unfoldSetOfAll = Forall((Qetc, f, x), Implies(In(x, SetOfAll(yEtc, fyEtc, conditions=etc_QyEtc)), Exists(yEtc, Equals(x, fyEtc), conditions=etc_QyEtc)))\n",
    "unfoldSetOfAll"
   ]
  },
  {
   "cell_type": "code",
   "execution_count": 13,
   "metadata": {
    "collapsed": false
   },
   "outputs": [
    {
     "data": {
      "image/png": "[encoded data removed]",
      "text/plain": [
       "$\\forall_{~.., Q_{\\Box} ,..~, f , x } \\left(\\left[\\exists_{~.., y_{\\Box} ,..~~|~~.., Q_{\\Box}\\left(~.., y_{\\Box} ,..~\\right) ,..~} \\left(x = f\\left(~.., y_{\\Box} ,..~\\right)\\right)\\right] \\Rightarrow \\left(x \\in \\left\\{f\\left(~.., y_{\\Box} ,..~\\right)~|~~.., Q_{\\Box}\\left(~.., y_{\\Box} ,..~\\right) ,..~\\right\\}_{~.., y_{\\Box} ,..~}\\right)\\right)$"
      ]
     },
     "execution_count": 13,
     "metadata": {},
     "output_type": "execute_result"
    }
   ],
   "source": [
    "foldSetOfAll = Forall((Qetc, f, x), Implies(Exists(yEtc, Equals(x, fyEtc), conditions=etc_QyEtc), In(x, SetOfAll(yEtc, fyEtc, conditions=etc_QyEtc))))\n",
    "foldSetOfAll"
   ]
  },
  {
   "cell_type": "code",
   "execution_count": 14,
   "metadata": {
    "collapsed": false
   },
   "outputs": [
    {
     "data": {
      "image/png": "[encoded data removed]",
      "text/plain": [
       "$\\forall_{ P , x } \\left(\\left(x \\in \\left\\{y~|~ P\\left( y \\right) \\right\\}_{ y }\\right) \\Rightarrow P\\left( x \\right)\\right)$"
      ]
     },
     "execution_count": 14,
     "metadata": {},
     "output_type": "execute_result"
    }
   ],
   "source": [
    "unfoldSimpleSetOfAll = Forall((P, x), Implies(In(x, SetOfAll(y, y, conditions=Py)), Px))\n",
    "unfoldSimpleSetOfAll"
   ]
  },
  {
   "cell_type": "code",
   "execution_count": 15,
   "metadata": {
    "collapsed": false
   },
   "outputs": [
    {
     "data": {
      "image/png": "[encoded data removed]",
      "text/plain": [
       "$\\forall_{ P , x } \\left(P\\left( x \\right) \\Rightarrow \\left(x \\in \\left\\{y~|~ P\\left( y \\right) \\right\\}_{ y }\\right)\\right)$"
      ]
     },
     "execution_count": 15,
     "metadata": {},
     "output_type": "execute_result"
    }
   ],
   "source": [
    "foldSimpleSetOfAll = Forall((P, x), Implies(Px, In(x, SetOfAll(y, y, conditions=Py))))\n",
    "foldSimpleSetOfAll"
   ]
  },
  {
   "cell_type": "code",
   "execution_count": 16,
   "metadata": {
    "collapsed": false
   },
   "outputs": [
    {
     "name": "stdout",
     "output_type": "stream",
     "text": [
      "Creating theorems *.dill and *.pv_it files in the __pv_it__ directory\n",
      "These theorems may be imported from proveit.basiclogic.set.theorems\n"
     ]
    }
   ],
   "source": [
    "%end_theorems"
   ]
  },
  {
   "cell_type": "code",
   "execution_count": null,
   "metadata": {
    "collapsed": true
   },
   "outputs": [],
   "source": []
  },
  {
   "cell_type": "code",
   "execution_count": null,
   "metadata": {
    "collapsed": true
   },
   "outputs": [],
   "source": []
  }
 ],
 "metadata": {
  "kernelspec": {
   "display_name": "Python 2",
   "language": "python",
   "name": "python2"
  },
  "language_info": {
   "codemirror_mode": {
    "name": "ipython",
    "version": 2
   },
   "file_extension": ".py",
   "mimetype": "text/x-python",
   "name": "python",
   "nbconvert_exporter": "python",
   "pygments_lexer": "ipython2",
   "version": "2.7.10"
  }
 },
 "nbformat": 4,
 "nbformat_minor": 0
}
