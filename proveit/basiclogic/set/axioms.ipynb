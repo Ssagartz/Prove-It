{
 "cells": [
  {
   "cell_type": "code",
   "execution_count": 1,
   "metadata": {
    "collapsed": false
   },
   "outputs": [],
   "source": [
    "import proveit.specialStatementMagic # for %begin_axioms and %end_axioms\n",
    "from proveit.basiclogic import BOOLEANS, Forall, Exists, And, Or, Not, Implies, Iff, Equals, \\\n",
    "In, NotIn, Singleton, Union, Intersection, Difference, SubsetEq, SupersetEq, SetOfAll, EVERYTHING, NOTHING\n",
    "from proveit.common import x, y, z, A, B, C, Cetc, S, f, P, fy, Py"
   ]
  },
  {
   "cell_type": "code",
   "execution_count": 2,
   "metadata": {
    "collapsed": true
   },
   "outputs": [],
   "source": [
    "%begin_axioms"
   ]
  },
  {
   "cell_type": "code",
   "execution_count": 3,
   "metadata": {
    "collapsed": false
   },
   "outputs": [
    {
     "data": {
      "text/latex": [
       "$\\forall_{x, S} \\left(\\left(x \\in S\\right) \\in \\cal{B}\\right)$"
      ],
      "text/plain": [
       "forall_{x, S} ((x in S) in BOOLEANS)"
      ]
     },
     "execution_count": 3,
     "metadata": {},
     "output_type": "execute_result"
    }
   ],
   "source": [
    "inSetIsInBool = Forall((x, S), In(In(x, S), BOOLEANS))\n",
    "inSetIsInBool"
   ]
  },
  {
   "cell_type": "code",
   "execution_count": 4,
   "metadata": {
    "collapsed": false
   },
   "outputs": [
    {
     "data": {
      "text/latex": [
       "$\\forall_{x, S} \\left(\\left(x \\notin S\\right) = (\\lnot \\left(x \\in S\\right))\\right)$"
      ],
      "text/plain": [
       "forall_{x, S} ((x not in S) = not(x in S))"
      ]
     },
     "execution_count": 4,
     "metadata": {},
     "output_type": "execute_result"
    }
   ],
   "source": [
    "notInDef = Forall((x, S), Equals(NotIn(x, S), Not(In(x, S))))\n",
    "notInDef"
   ]
  },
  {
   "cell_type": "code",
   "execution_count": 5,
   "metadata": {
    "collapsed": false
   },
   "outputs": [
    {
     "data": {
      "text/latex": [
       "$\\forall_{x, y} \\left(\\left(x \\in \\{y\\}\\right) = \\left(x = y\\right)\\right)$"
      ],
      "text/plain": [
       "forall_{x, y} ((x in {y}) = (x = y))"
      ]
     },
     "execution_count": 5,
     "metadata": {},
     "output_type": "execute_result"
    }
   ],
   "source": [
    "singletonDef = Forall((x, y), Equals(In(x, Singleton(y)), Equals(x, y)))\n",
    "singletonDef"
   ]
  },
  {
   "cell_type": "code",
   "execution_count": 6,
   "metadata": {
    "collapsed": false
   },
   "outputs": [
    {
     "data": {
      "text/latex": [
       "$\\forall_{x, A, B} \\left(\\left(x \\in \\left(A \\bigcup B\\right)\\right) \\Leftrightarrow \\left(\\left(x \\in A\\right) \\lor \\left(x \\in B\\right)\\right)\\right)$"
      ],
      "text/plain": [
       "forall_{x, A, B} ((x in (A union B)) <=> ((x in A) or (x in B)))"
      ]
     },
     "execution_count": 6,
     "metadata": {},
     "output_type": "execute_result"
    }
   ],
   "source": [
    "unionDef = Forall((x, A, B), Iff(In(x, Union(A, B)), Or(In(x, A), In(x, B))))\n",
    "unionDef"
   ]
  },
  {
   "cell_type": "code",
   "execution_count": 7,
   "metadata": {
    "collapsed": false
   },
   "outputs": [
    {
     "data": {
      "text/latex": [
       "$\\forall_{x, A, B} \\left(\\left(x \\in \\left(A \\bigcap B\\right)\\right) \\Leftrightarrow \\left(\\left(x \\in A\\right) \\land \\left(x \\in B\\right)\\right)\\right)$"
      ],
      "text/plain": [
       "forall_{x, A, B} ((x in (A intersection B)) <=> ((x in A) and (x in B)))"
      ]
     },
     "execution_count": 7,
     "metadata": {},
     "output_type": "execute_result"
    }
   ],
   "source": [
    "intersectionDef = Forall((x, A, B), Iff(In(x, Intersection(A, B)), And(In(x, A), In(x, B))))\n",
    "intersectionDef"
   ]
  },
  {
   "cell_type": "code",
   "execution_count": 8,
   "metadata": {
    "collapsed": false
   },
   "outputs": [
    {
     "data": {
      "text/latex": [
       "$\\forall_{A, B, ..C..} \\left(\\left(A \\bigcup B \\bigcup ..C..\\right) = \\left(A \\bigcup \\left(B \\bigcup ..C..\\right)\\right)\\right)$"
      ],
      "text/plain": [
       "forall_{A, B, ..C..} ((A union B union ..C..) = (A union (B union ..C..)))"
      ]
     },
     "execution_count": 8,
     "metadata": {},
     "output_type": "execute_result"
    }
   ],
   "source": [
    "unionComposition = Forall((A, B, Cetc), Equals(Union(A, B, Cetc), Union(A, Union(B, Cetc))))\n",
    "unionComposition"
   ]
  },
  {
   "cell_type": "code",
   "execution_count": 9,
   "metadata": {
    "collapsed": false
   },
   "outputs": [
    {
     "data": {
      "text/latex": [
       "$\\forall_{A, B, ..C..} \\left(\\left(A \\bigcap B \\bigcap ..C..\\right) = \\left(A \\bigcap \\left(B \\bigcap ..C..\\right)\\right)\\right)$"
      ],
      "text/plain": [
       "forall_{A, B, ..C..} ((A intersection B intersection ..C..) = (A intersection (B intersection ..C..)))"
      ]
     },
     "execution_count": 9,
     "metadata": {},
     "output_type": "execute_result"
    }
   ],
   "source": [
    "intersectionComposition = Forall((A, B, Cetc), Equals(Intersection(A, B, Cetc), Intersection(A, Intersection(B, Cetc))))\n",
    "intersectionComposition"
   ]
  },
  {
   "cell_type": "code",
   "execution_count": 10,
   "metadata": {
    "collapsed": false
   },
   "outputs": [
    {
     "data": {
      "text/latex": [
       "$\\forall_{x, A, B} \\left(\\left(x \\in \\left(A - B\\right)\\right) \\Leftrightarrow \\left(\\left(x \\in A\\right) \\land \\left(x \\notin B\\right)\\right)\\right)$"
      ],
      "text/plain": [
       "forall_{x, A, B} ((x in (A - B)) <=> ((x in A) and (x not in B)))"
      ]
     },
     "execution_count": 10,
     "metadata": {},
     "output_type": "execute_result"
    }
   ],
   "source": [
    "differenceDef = Forall((x, A, B), Iff(In(x, Difference(A, B)), \n",
    "                                      And(In(x, A), NotIn(x, B))))\n",
    "differenceDef"
   ]
  },
  {
   "cell_type": "code",
   "execution_count": 11,
   "metadata": {
    "collapsed": false
   },
   "outputs": [
    {
     "data": {
      "text/latex": [
       "$\\forall_{A, B} \\left(\\left(A \\subseteq B\\right) \\Leftrightarrow \\left[\\forall_{x \\in A} \\left(x \\in B\\right)\\right]\\right)$"
      ],
      "text/plain": [
       "forall_{A, B} ((A subseteq B) <=> [forall_{x in A} (x in B)])"
      ]
     },
     "execution_count": 11,
     "metadata": {},
     "output_type": "execute_result"
    }
   ],
   "source": [
    "subsetDef = Forall((A, B), Iff(SubsetEq(A, B), Forall(x, In(x, B), A)))\n",
    "subsetDef"
   ]
  },
  {
   "cell_type": "code",
   "execution_count": 12,
   "metadata": {
    "collapsed": false
   },
   "outputs": [
    {
     "data": {
      "text/latex": [
       "$\\forall_{A, B} \\left(\\left(A \\supseteq B\\right) \\Leftrightarrow \\left[\\forall_{x \\in B} \\left(x \\in A\\right)\\right]\\right)$"
      ],
      "text/plain": [
       "forall_{A, B} ((A superseteq B) <=> [forall_{x in B} (x in A)])"
      ]
     },
     "execution_count": 12,
     "metadata": {},
     "output_type": "execute_result"
    }
   ],
   "source": [
    "supersetDef = Forall((A, B), Iff(SupersetEq(A, B), Forall(x, In(x, A), B)))\n",
    "supersetDef"
   ]
  },
  {
   "cell_type": "code",
   "execution_count": 13,
   "metadata": {
    "collapsed": false
   },
   "outputs": [
    {
     "data": {
      "text/latex": [
       "$\\forall_{P, f, x} \\left(\\left(x \\in \\left\\{f\\left(y\\right)~|~(P\\left(y\\right))\\right\\}\\right) \\Leftrightarrow \\left[\\exists_{y | P\\left(y\\right)} \\left(x = f\\left(y\\right)\\right)\\right]\\right)$"
      ],
      "text/plain": [
       "forall_{P, f, x} ((x in {f(y) s.t. (P(y))}) <=> [exists_{y | P(y)} (x = f(y))])"
      ]
     },
     "execution_count": 13,
     "metadata": {},
     "output_type": "execute_result"
    }
   ],
   "source": [
    "setOfAllDef = Forall((P, f, x), Iff(In(x, SetOfAll(y, fy, conditions=Py)), Exists(y, Equals(x, fy), conditions=Py)))\n",
    "setOfAllDef"
   ]
  },
  {
   "cell_type": "code",
   "execution_count": 14,
   "metadata": {
    "collapsed": false
   },
   "outputs": [
    {
     "data": {
      "text/latex": [
       "$\\forall_{A, B} \\left(\\left[\\forall_{x} \\left(\\left(x \\in A\\right) \\Leftrightarrow \\left(x \\in B\\right)\\right)\\right] \\Rightarrow \\left(A = B\\right)\\right)$"
      ],
      "text/plain": [
       "forall_{A, B} ([forall_{x} ((x in A) <=> (x in B))] => (A = B))"
      ]
     },
     "execution_count": 14,
     "metadata": {},
     "output_type": "execute_result"
    }
   ],
   "source": [
    "setIsAsSetContains = Forall((A, B), Implies(Forall(x, Iff(In(x, A), In(x, B))), Equals(A, B)))\n",
    "setIsAsSetContains"
   ]
  },
  {
   "cell_type": "code",
   "execution_count": 15,
   "metadata": {
    "collapsed": false
   },
   "outputs": [
    {
     "data": {
      "text/latex": [
       "$\\forall_{x} \\left(x \\in \\rm{EVERYTHING}\\right)$"
      ],
      "text/plain": [
       "forall_{x} (x in EVERYTHING)"
      ]
     },
     "execution_count": 15,
     "metadata": {},
     "output_type": "execute_result"
    }
   ],
   "source": [
    "allInEverything = Forall(x, In(x, EVERYTHING))\n",
    "allInEverything"
   ]
  },
  {
   "cell_type": "code",
   "execution_count": 16,
   "metadata": {
    "collapsed": false
   },
   "outputs": [
    {
     "data": {
      "text/latex": [
       "$\\forall_{x} \\left(x \\notin \\emptyset\\right)$"
      ],
      "text/plain": [
       "forall_{x} (x not in NOTHING)"
      ]
     },
     "execution_count": 16,
     "metadata": {},
     "output_type": "execute_result"
    }
   ],
   "source": [
    "allNotInNothing = Forall(x, NotIn(x, NOTHING))\n",
    "allNotInNothing"
   ]
  },
  {
   "cell_type": "code",
   "execution_count": 17,
   "metadata": {
    "collapsed": false
   },
   "outputs": [
    {
     "name": "stdout",
     "output_type": "stream",
     "text": [
      "Creating axioms *.dill and *.pv_it files in the __pv_it__ directory\n",
      "These axioms may be imported from proveit.basiclogic.set.axioms\n"
     ]
    }
   ],
   "source": [
    "%end_axioms"
   ]
  },
  {
   "cell_type": "code",
   "execution_count": null,
   "metadata": {
    "collapsed": true
   },
   "outputs": [],
   "source": []
  }
 ],
 "metadata": {
  "kernelspec": {
   "display_name": "Python 2",
   "language": "python",
   "name": "python2"
  },
  "language_info": {
   "codemirror_mode": {
    "name": "ipython",
    "version": 2
   },
   "file_extension": ".py",
   "mimetype": "text/x-python",
   "name": "python",
   "nbconvert_exporter": "python",
   "pygments_lexer": "ipython2",
   "version": "2.7.10"
  }
 },
 "nbformat": 4,
 "nbformat_minor": 0
}
