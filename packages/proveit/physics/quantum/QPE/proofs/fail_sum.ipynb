{
 "cells": [
  {
   "cell_type": "code",
   "execution_count": 21,
   "metadata": {
    "collapsed": false
   },
   "outputs": [],
   "source": [
    "from proveit.basiclogic import In, Equals, autoSubstitute\n",
    "from proveit.physics.quantum.QPE.axioms import failDef, alphaDef, mDef, tInNaturalsPos, modAddDef, PsiKetInQRegSpace\n",
    "from proveit.physics.quantum.QPE.theorems import fail_sum, success_sum, bestInInts, \\\n",
    "    two_pow_t_in_posnats, two_pow_tMinusOne_in_posnats, successProbInReals\n",
    "from proveit.physics.quantum.QPE.common import t_, m_, Psi_, two_pow_t, two_pow_t_minus_one, b_, fullDomain\n",
    "from proveit.physics.quantum.QPE.phaseEstOps import ModAdd\n",
    "from proveit.physics.quantum.theorems import registerQubitBornRule, registerQubitAllProbs\n",
    "from proveit.common import a, b, c, k, l, n, x, y, fx, gy, eps, m, N, Psi, R, S\n",
    "from proveit.number import Add, Neg, Subtract, Exponentiate, DiscreteContiguousSet\n",
    "from proveit.number.common import zero, one, two\n",
    "from proveit.number.natural.axioms import zeroAddOne\n",
    "from proveit.number.numberSets import deduceInIntegers, deduceInReals, deduceInComplexes, NaturalsPos, Reals, \\\n",
    "    deduceNegative, deducePositive\n",
    "from proveit.number.integer.theorems import inNaturalsPosIfPos, fullModularRangeEquivLeftShift\n",
    "from proveit.number.complex.theorems import equivSums, addTwice, outerCancel, subTwoAddOne\n",
    "from proveit.statistics import Prob\n",
    "from IPython.display import display"
   ]
  },
  {
   "cell_type": "code",
   "execution_count": 2,
   "metadata": {
    "collapsed": false
   },
   "outputs": [
    {
     "data": {
      "image/png": "[encoded data removed]",
      "text/plain": [
       "$\\forall_{ \\varepsilon  \\in \\{1\\ldots \\left(\\left(2^{t - 1}\\right) - 2\\right)\\}} \\left(P_{\\rm fail}\\left( \\varepsilon \\right) \\leq \\left( \\left(\\sum_{l= \\left(-\\left(2^{t - 1}\\right)\\right) + 1 }^{-\\left( \\varepsilon + 1 \\right)} \\left(\\left|\\alpha_{l}\\right|^{2}\\right)\\right) + \\left(\\sum_{l= \\varepsilon + 1 }^{2^{t - 1}} \\left(\\left|\\alpha_{l}\\right|^{2}\\right)\\right) \\right)\\right)$"
      ]
     },
     "execution_count": 2,
     "metadata": {},
     "output_type": "execute_result"
    }
   ],
   "source": [
    "fail_sum.beginProof()"
   ]
  },
  {
   "cell_type": "code",
   "execution_count": 3,
   "metadata": {
    "collapsed": false
   },
   "outputs": [
    {
     "data": {
      "image/png": "[encoded data removed]",
      "text/plain": [
       "$\\varepsilon \\in \\{1\\ldots \\left(\\left(2^{t - 1}\\right) - 2\\right)\\}$"
      ]
     },
     "execution_count": 3,
     "metadata": {},
     "output_type": "execute_result"
    }
   ],
   "source": [
    "epsInDomain = In(eps, fail_sum.domain)\n",
    "epsInDomain"
   ]
  },
  {
   "cell_type": "code",
   "execution_count": 4,
   "metadata": {
    "collapsed": false
   },
   "outputs": [
    {
     "data": {
      "image/png": "[encoded data removed]",
      "text/plain": [
       "$1 > 0$"
      ]
     },
     "execution_count": 4,
     "metadata": {},
     "output_type": "execute_result"
    }
   ],
   "source": [
    "oneMoreThanZero = zeroAddOne.rhsSubstitute(Add(zero, one).deduceStrictIncrease(0)).proven()\n",
    "oneMoreThanZero"
   ]
  },
  {
   "cell_type": "code",
   "execution_count": 5,
   "metadata": {
    "collapsed": false
   },
   "outputs": [
    {
     "data": {
      "image/png": "[encoded data removed]",
      "text/plain": [
       "$\\varepsilon \\in \\mathbb{N}^+$"
      ]
     },
     "execution_count": 5,
     "metadata": {},
     "output_type": "execute_result"
    }
   ],
   "source": [
    "epsInDomain.domain.deduceMemberInIntegers(eps).proven({epsInDomain})\n",
    "epsInDomain.domain.deduceMemberLowerBound(eps).applyTransitivity(oneMoreThanZero).deriveReversed().proven({epsInDomain})\n",
    "inNaturalsPosIfPos.specialize({a:eps}).proven({epsInDomain})"
   ]
  },
  {
   "cell_type": "code",
   "execution_count": 6,
   "metadata": {
    "collapsed": false
   },
   "outputs": [
    {
     "data": {
      "image/png": "[encoded data removed]",
      "text/plain": [
       "$\\forall_{ \\varepsilon  \\in \\mathbb{N}^+} \\left(P_{\\rm fail}\\left( \\varepsilon \\right) = \\left(1 - P_{\\rm success}\\left( \\varepsilon \\right)\\right)\\right)$"
      ]
     },
     "execution_count": 6,
     "metadata": {},
     "output_type": "execute_result"
    }
   ],
   "source": [
    "failDef"
   ]
  },
  {
   "cell_type": "code",
   "execution_count": 7,
   "metadata": {
    "collapsed": false
   },
   "outputs": [
    {
     "data": {
      "image/png": "[encoded data removed]",
      "text/plain": [
       "$P_{\\rm fail}\\left( \\varepsilon \\right) = \\left(1 - P_{\\rm success}\\left( \\varepsilon \\right)\\right)$"
      ]
     },
     "execution_count": 7,
     "metadata": {},
     "output_type": "execute_result"
    }
   ],
   "source": [
    "failDefSpec = failDef.specialize()\n",
    "failDefSpec.proven({epsInDomain})"
   ]
  },
  {
   "cell_type": "code",
   "execution_count": 8,
   "metadata": {
    "collapsed": false
   },
   "outputs": [
    {
     "data": {
      "image/png": "[encoded data removed]",
      "text/plain": [
       "$\\forall_{ \\varepsilon  \\in \\mathbb{N}^+} \\left(P_{\\rm success}\\left( \\varepsilon \\right) \\in \\mathbb{R}\\right)$"
      ]
     },
     "execution_count": 8,
     "metadata": {},
     "output_type": "execute_result"
    }
   ],
   "source": [
    "successProbInReals"
   ]
  },
  {
   "cell_type": "code",
   "execution_count": 9,
   "metadata": {
    "collapsed": false
   },
   "outputs": [
    {
     "data": {
      "image/png": "[encoded data removed]",
      "text/plain": [
       "$P_{\\rm success}\\left( \\varepsilon \\right) \\in \\mathbb{R}$"
      ]
     },
     "execution_count": 9,
     "metadata": {},
     "output_type": "execute_result"
    }
   ],
   "source": [
    "successProbInReals.specialize().proven({epsInDomain})"
   ]
  },
  {
   "cell_type": "code",
   "execution_count": 10,
   "metadata": {
    "collapsed": false
   },
   "outputs": [
    {
     "data": {
      "image/png": "[encoded data removed]",
      "text/plain": [
       "$\\forall_{ \\varepsilon  \\in \\mathbb{N}^+} \\left(P_{\\rm success}\\left( \\varepsilon \\right) \\geq \\left(\\sum_{l=-\\varepsilon}^{\\varepsilon} Pr_{m}[m = \\left(b \\oplus l\\right)]\\right)\\right)$"
      ]
     },
     "execution_count": 10,
     "metadata": {},
     "output_type": "execute_result"
    }
   ],
   "source": [
    "success_sum"
   ]
  },
  {
   "cell_type": "code",
   "execution_count": 11,
   "metadata": {
    "collapsed": false
   },
   "outputs": [
    {
     "data": {
      "image/png": "[encoded data removed]",
      "text/plain": [
       "$P_{\\rm success}\\left( \\varepsilon \\right) \\geq \\left(\\sum_{l=-\\varepsilon}^{\\varepsilon} Pr_{m}[m = \\left(b \\oplus l\\right)]\\right)$"
      ]
     },
     "execution_count": 11,
     "metadata": {},
     "output_type": "execute_result"
    }
   ],
   "source": [
    "successSum1 = success_sum.specialize()\n",
    "successSum1.specialize().proven({epsInDomain})"
   ]
  },
  {
   "cell_type": "code",
   "execution_count": 12,
   "metadata": {
    "collapsed": false
   },
   "outputs": [
    {
     "data": {
      "image/png": "[encoded data removed]",
      "text/plain": [
       "$\\left(\\sum_{l=-\\varepsilon}^{\\varepsilon} Pr_{m}[m = \\left(b \\oplus l\\right)]\\right) \\in \\mathbb{R}$"
      ]
     },
     "execution_count": 12,
     "metadata": {},
     "output_type": "execute_result"
    }
   ],
   "source": [
    "deduceInReals(successSum1.rhs, {epsInDomain}).proven({epsInDomain})"
   ]
  },
  {
   "cell_type": "code",
   "execution_count": 13,
   "metadata": {
    "collapsed": false
   },
   "outputs": [
    {
     "data": {
      "image/png": "[encoded data removed]",
      "text/plain": [
       "$\\left(-P_{\\rm success}\\left( \\varepsilon \\right)\\right) \\leq \\left(-\\left(\\sum_{l=-\\varepsilon}^{\\varepsilon} Pr_{m}[m = \\left(b \\oplus l\\right)]\\right)\\right)$"
      ]
     },
     "execution_count": 13,
     "metadata": {},
     "output_type": "execute_result"
    }
   ],
   "source": [
    "successSum2 = successSum1.deriveNegated({epsInDomain})\n",
    "successSum2.proven({epsInDomain})"
   ]
  },
  {
   "cell_type": "code",
   "execution_count": 14,
   "metadata": {
    "collapsed": false
   },
   "outputs": [
    {
     "data": {
      "image/png": "[encoded data removed]",
      "text/plain": [
       "$\\left( 1 + \\left(-P_{\\rm success}\\left( \\varepsilon \\right)\\right) \\right) \\leq \\left( 1 + \\left(-\\left(\\sum_{l=-\\varepsilon}^{\\varepsilon} Pr_{m}[m = \\left(b \\oplus l\\right)]\\right)\\right) \\right)$"
      ]
     },
     "execution_count": 14,
     "metadata": {},
     "output_type": "execute_result"
    }
   ],
   "source": [
    "successSum3 = successSum2.deriveShifted(one, addendSide='left', assumptions={epsInDomain})\n",
    "successSum3.proven({epsInDomain})"
   ]
  },
  {
   "cell_type": "code",
   "execution_count": 15,
   "metadata": {
    "collapsed": false
   },
   "outputs": [
    {
     "data": {
      "image/png": "[encoded data removed]",
      "text/plain": [
       "$\\left(1 - P_{\\rm success}\\left( \\varepsilon \\right)\\right) \\leq \\left( 1 + \\left(-\\left(\\sum_{l=-\\varepsilon}^{\\varepsilon} Pr_{m}[m = \\left(b \\oplus l\\right)]\\right)\\right) \\right)$"
      ]
     },
     "execution_count": 15,
     "metadata": {},
     "output_type": "execute_result"
    }
   ],
   "source": [
    "successSum4 = autoSubstitute(successSum3, 'subtractionFolding', [1], {'assumptions':{epsInDomain}})\n",
    "successSum4.proven({epsInDomain})"
   ]
  },
  {
   "cell_type": "code",
   "execution_count": 16,
   "metadata": {
    "collapsed": false
   },
   "outputs": [
    {
     "data": {
      "image/png": "[encoded data removed]",
      "text/plain": [
       "$\\left(1 - P_{\\rm success}\\left( \\varepsilon \\right)\\right) \\leq \\left(1 - \\left(\\sum_{l=-\\varepsilon}^{\\varepsilon} Pr_{m}[m = \\left(b \\oplus l\\right)]\\right)\\right)$"
      ]
     },
     "execution_count": 16,
     "metadata": {},
     "output_type": "execute_result"
    }
   ],
   "source": [
    "successSum5 = autoSubstitute(successSum4, 'subtractionFolding', [1], {'assumptions':{epsInDomain}})\n",
    "successSum5.proven({epsInDomain})"
   ]
  },
  {
   "cell_type": "code",
   "execution_count": 17,
   "metadata": {
    "collapsed": false
   },
   "outputs": [
    {
     "data": {
      "image/png": "[encoded data removed]",
      "text/plain": [
       "$P_{\\rm fail}\\left( \\varepsilon \\right) \\leq \\left(1 - \\left(\\sum_{l=-\\varepsilon}^{\\varepsilon} Pr_{m}[m = \\left(b \\oplus l\\right)]\\right)\\right)$"
      ]
     },
     "execution_count": 17,
     "metadata": {},
     "output_type": "execute_result"
    }
   ],
   "source": [
    "failSum1 = failDefSpec.lhsSubstitute(successSum5)\n",
    "failSum1.proven({epsInDomain})"
   ]
  },
  {
   "cell_type": "code",
   "execution_count": 18,
   "metadata": {
    "collapsed": false
   },
   "outputs": [
    {
     "data": {
      "image/png": "[encoded data removed]",
      "text/plain": [
       "$\\forall_{ n  \\in \\mathbb{N}^+} \\left[\\forall_{ \\Psi , m ~|~ \\left(\\lvert \\Psi \\rangle \\in \\left(\\mathbb{C}^{2}\\right)^{\\otimes n}\\right) , \\left(m = {\\cal M}\\left( \\lvert \\Psi \\rangle \\right)\\right) } \\left(\\left(\\sum_{k=0}^{\\left(2^{n}\\right) - 1} Pr_{m}[m = k]\\right) = 1\\right)\\right]$"
      ]
     },
     "execution_count": 18,
     "metadata": {},
     "output_type": "execute_result"
    }
   ],
   "source": [
    "registerQubitAllProbs"
   ]
  },
  {
   "cell_type": "code",
   "execution_count": 22,
   "metadata": {
    "collapsed": false
   },
   "outputs": [
    {
     "data": {
      "image/png": "[encoded data removed]",
      "text/plain": [
       "$\\left(\\sum_{k=0}^{\\left(2^{t}\\right) - 1} Pr_{m}[m = k]\\right) = 1$"
      ]
     },
     "execution_count": 22,
     "metadata": {},
     "output_type": "execute_result"
    }
   ],
   "source": [
    "allProbEqualsOne = registerQubitAllProbs.specialize({n:t_}).specialize({Psi:Psi_, m:m_})\n",
    "allProbEqualsOne.proven({epsInDomain})"
   ]
  },
  {
   "cell_type": "code",
   "execution_count": 23,
   "metadata": {
    "collapsed": false
   },
   "outputs": [
    {
     "data": {
      "image/png": "[encoded data removed]",
      "text/plain": [
       "$\\left(2^{t}\\right) \\in \\mathbb{Z}$"
      ]
     },
     "metadata": {},
     "output_type": "display_data"
    },
    {
     "data": {
      "image/png": "[encoded data removed]",
      "text/plain": [
       "$\\left( \\left(-\\left(2^{t - 1}\\right)\\right) + 1 \\right) \\in \\mathbb{Z}$"
      ]
     },
     "metadata": {},
     "output_type": "display_data"
    },
    {
     "data": {
      "image/png": "[encoded data removed]",
      "text/plain": [
       "$\\left(2^{t - 1}\\right) \\in \\mathbb{Z}$"
      ]
     },
     "metadata": {},
     "output_type": "display_data"
    }
   ],
   "source": [
    "lowerBound = Add(Neg(two_pow_t_minus_one), one)\n",
    "upperBound = two_pow_t_minus_one\n",
    "display(deduceInIntegers(two_pow_t).proven())\n",
    "display(deduceInIntegers(lowerBound).proven())\n",
    "display(deduceInIntegers(upperBound).proven())"
   ]
  },
  {
   "cell_type": "code",
   "execution_count": 24,
   "metadata": {
    "collapsed": false
   },
   "outputs": [
    {
     "data": {
      "image/png": "[encoded data removed]",
      "text/plain": [
       "$\\left(\\left(2^{t - 1}\\right) - \\left( \\left(-\\left(2^{t - 1}\\right)\\right) + 1 \\right)\\right) = \\left( \\left(2^{t - 1}\\right) + \\left(2^{t - 1}\\right) + \\left(-1\\right) \\right)$"
      ]
     },
     "execution_count": 24,
     "metadata": {},
     "output_type": "execute_result"
    }
   ],
   "source": [
    "boundDiffEq1 = Subtract(upperBound, lowerBound).distribute()\n",
    "boundDiffEq1.proven()"
   ]
  },
  {
   "cell_type": "code",
   "execution_count": 25,
   "metadata": {
    "collapsed": false
   },
   "outputs": [
    {
     "data": {
      "image/png": "[encoded data removed]",
      "text/plain": [
       "$\\left(\\left(2^{t - 1}\\right) - \\left( \\left(-\\left(2^{t - 1}\\right)\\right) + 1 \\right)\\right) = \\left( \\left( \\left(2^{t - 1}\\right) + \\left(2^{t - 1}\\right) \\right) + \\left(-1\\right) \\right)$"
      ]
     },
     "execution_count": 25,
     "metadata": {},
     "output_type": "execute_result"
    }
   ],
   "source": [
    "boundDiffEq2 = boundDiffEq1.applyTransitivity(boundDiffEq1.rhs.group(0, 2))\n",
    "boundDiffEq2.proven()"
   ]
  },
  {
   "cell_type": "code",
   "execution_count": 26,
   "metadata": {
    "collapsed": false
   },
   "outputs": [
    {
     "data": {
      "image/png": "[encoded data removed]",
      "text/plain": [
       "$\\left(\\left(2^{t - 1}\\right) - \\left( \\left(-\\left(2^{t - 1}\\right)\\right) + 1 \\right)\\right) = \\left(\\left( \\left(2^{t - 1}\\right) + \\left(2^{t - 1}\\right) \\right) - 1\\right)$"
      ]
     },
     "execution_count": 26,
     "metadata": {},
     "output_type": "execute_result"
    }
   ],
   "source": [
    "boundDiffEq3 = boundDiffEq2.applyTransitivity(boundDiffEq2.rhs.subtractionFolding())\n",
    "boundDiffEq3.proven()"
   ]
  },
  {
   "cell_type": "code",
   "execution_count": 27,
   "metadata": {
    "collapsed": false
   },
   "outputs": [
    {
     "data": {
      "image/png": "[encoded data removed]",
      "text/plain": [
       "$\\forall_{ a  \\in \\mathbb{C}} \\left(\\left( a + a \\right) = \\left( 2 \\cdot a \\right)\\right)$"
      ]
     },
     "execution_count": 27,
     "metadata": {},
     "output_type": "execute_result"
    }
   ],
   "source": [
    "addTwice"
   ]
  },
  {
   "cell_type": "code",
   "execution_count": 28,
   "metadata": {
    "collapsed": false
   },
   "outputs": [
    {
     "data": {
      "image/png": "[encoded data removed]",
      "text/plain": [
       "$\\left(\\left(2^{t - 1}\\right) - \\left( \\left(-\\left(2^{t - 1}\\right)\\right) + 1 \\right)\\right) = \\left(\\left( 2 \\cdot \\left(2^{t - 1}\\right) \\right) - 1\\right)$"
      ]
     },
     "execution_count": 28,
     "metadata": {},
     "output_type": "execute_result"
    }
   ],
   "source": [
    "boundDiffEq4 = addTwice.specialize({a:two_pow_t_minus_one}).rhsSubstitute(boundDiffEq3)\n",
    "boundDiffEq4.proven()"
   ]
  },
  {
   "cell_type": "code",
   "execution_count": 29,
   "metadata": {
    "collapsed": false
   },
   "outputs": [
    {
     "data": {
      "image/png": "[encoded data removed]",
      "text/plain": [
       "$\\left(\\left(2^{t - 1}\\right) - \\left( \\left(-\\left(2^{t - 1}\\right)\\right) + 1 \\right)\\right) = \\left(\\left(2^{ 1 + \\left(t - 1\\right) }\\right) - 1\\right)$"
      ]
     },
     "execution_count": 29,
     "metadata": {},
     "output_type": "execute_result"
    }
   ],
   "source": [
    "boundDiffEq5 = boundDiffEq4.rhs.operands[0].combineExponents().rhsSubstitute(boundDiffEq4)\n",
    "boundDiffEq5.proven()"
   ]
  },
  {
   "cell_type": "code",
   "execution_count": 30,
   "metadata": {
    "collapsed": false
   },
   "outputs": [
    {
     "data": {
      "image/png": "[encoded data removed]",
      "text/plain": [
       "$\\forall_{ a , b  \\in \\mathbb{C}} \\left(\\left( a + \\left(b - a\\right) \\right) = b\\right)$"
      ]
     },
     "execution_count": 30,
     "metadata": {},
     "output_type": "execute_result"
    }
   ],
   "source": [
    "outerCancel"
   ]
  },
  {
   "cell_type": "code",
   "execution_count": 31,
   "metadata": {
    "collapsed": false
   },
   "outputs": [
    {
     "data": {
      "image/png": "[encoded data removed]",
      "text/plain": [
       "$\\left(\\left(2^{t - 1}\\right) - \\left( \\left(-\\left(2^{t - 1}\\right)\\right) + 1 \\right)\\right) = \\left(\\left(2^{t}\\right) - 1\\right)$"
      ]
     },
     "execution_count": 31,
     "metadata": {},
     "output_type": "execute_result"
    }
   ],
   "source": [
    "deduceInComplexes(one)\n",
    "deduceInComplexes(t_)\n",
    "boundDiffEq6 = outerCancel.specialize({a:one, b:t_}).rhsSubstitute(boundDiffEq5)\n",
    "boundDiffEq6.proven()"
   ]
  },
  {
   "cell_type": "code",
   "execution_count": 32,
   "metadata": {
    "collapsed": false
   },
   "outputs": [
    {
     "data": {
      "image/png": "[encoded data removed]",
      "text/plain": [
       "$\\forall_{ N , a , b , c  \\in \\mathbb{Z}~|~ \\left(\\left(b - a\\right) = \\left(N - 1\\right)\\right) } \\left(\\left\\{\\left( c + x \\right) ~\\rm{mod}~ N\\right\\}_{ x  \\in \\{a\\ldots b\\}} = \\{0\\ldots \\left(N - 1\\right)\\}\\right)$"
      ]
     },
     "execution_count": 32,
     "metadata": {},
     "output_type": "execute_result"
    }
   ],
   "source": [
    "fullModularRangeEquivLeftShift"
   ]
  },
  {
   "cell_type": "code",
   "execution_count": 33,
   "metadata": {
    "collapsed": false
   },
   "outputs": [
    {
     "data": {
      "image/png": "[encoded data removed]",
      "text/plain": [
       "$\\left\\{\\left( b + l \\right) ~\\rm{mod}~ \\left(2^{t}\\right)\\right\\}_{ l  \\in \\{\\left( \\left(-\\left(2^{t - 1}\\right)\\right) + 1 \\right)\\ldots \\left(2^{t - 1}\\right)\\}} = \\{0\\ldots \\left(\\left(2^{t}\\right) - 1\\right)\\}$"
      ]
     },
     "execution_count": 33,
     "metadata": {},
     "output_type": "execute_result"
    }
   ],
   "source": [
    "rangeEquiv1 = fullModularRangeEquivLeftShift.specialize({N:two_pow_t, a:lowerBound, b:upperBound, c:b_, x:l}).proven()\n",
    "rangeEquiv1"
   ]
  },
  {
   "cell_type": "code",
   "execution_count": 34,
   "metadata": {
    "collapsed": false
   },
   "outputs": [
    {
     "data": {
      "image/png": "[encoded data removed]",
      "text/plain": [
       "$\\forall_{ a , b  \\in \\mathbb{Z}} \\left(\\left(a \\oplus b\\right) = \\left(\\left( a + b \\right) ~\\rm{mod}~ \\left(2^{t}\\right)\\right)\\right)$"
      ]
     },
     "execution_count": 34,
     "metadata": {},
     "output_type": "execute_result"
    }
   ],
   "source": [
    "modAddDef"
   ]
  },
  {
   "cell_type": "code",
   "execution_count": 35,
   "metadata": {
    "collapsed": false
   },
   "outputs": [
    {
     "data": {
      "image/png": "[encoded data removed]",
      "text/plain": [
       "$l \\in \\mathbb{Z}$"
      ]
     },
     "execution_count": 35,
     "metadata": {},
     "output_type": "execute_result"
    }
   ],
   "source": [
    "rangeEquiv1.lhs.domain.deduceMemberInIntegers(l)"
   ]
  },
  {
   "cell_type": "code",
   "execution_count": 36,
   "metadata": {
    "collapsed": false
   },
   "outputs": [
    {
     "data": {
      "image/png": "[encoded data removed]",
      "text/plain": [
       "$\\left(b \\oplus l\\right) = \\left(\\left( b + l \\right) ~\\rm{mod}~ \\left(2^{t}\\right)\\right)$"
      ]
     },
     "execution_count": 36,
     "metadata": {},
     "output_type": "execute_result"
    }
   ],
   "source": [
    "b_modadd_l_def = modAddDef.specialize({a:b_, b:l})\n",
    "b_modadd_l_def"
   ]
  },
  {
   "cell_type": "code",
   "execution_count": 37,
   "metadata": {
    "collapsed": false
   },
   "outputs": [
    {
     "data": {
      "image/png": "[encoded data removed]",
      "text/plain": [
       "$\\left\\{\\left( b + l \\right) ~\\rm{mod}~ \\left(2^{t}\\right)\\right\\}_{ l  \\in \\{\\left( \\left(-\\left(2^{t - 1}\\right)\\right) + 1 \\right)\\ldots \\left(2^{t - 1}\\right)\\}} = \\left\\{b \\oplus l\\right\\}_{ l  \\in \\{\\left( \\left(-\\left(2^{t - 1}\\right)\\right) + 1 \\right)\\ldots \\left(2^{t - 1}\\right)\\}}$"
      ]
     },
     "execution_count": 37,
     "metadata": {},
     "output_type": "execute_result"
    }
   ],
   "source": [
    "setOfAllModAddEquiv = rangeEquiv1.lhs.instanceSubstitution(b_modadd_l_def.deriveReversed().generalize(l, domain=rangeEquiv1.lhs.domain))\n",
    "setOfAllModAddEquiv"
   ]
  },
  {
   "cell_type": "code",
   "execution_count": 38,
   "metadata": {
    "collapsed": false
   },
   "outputs": [
    {
     "data": {
      "image/png": "[encoded data removed]",
      "text/plain": [
       "$\\left\\{b \\oplus l\\right\\}_{ l  \\in \\{\\left( \\left(-\\left(2^{t - 1}\\right)\\right) + 1 \\right)\\ldots \\left(2^{t - 1}\\right)\\}} = \\{0\\ldots \\left(\\left(2^{t}\\right) - 1\\right)\\}$"
      ]
     },
     "execution_count": 38,
     "metadata": {},
     "output_type": "execute_result"
    }
   ],
   "source": [
    "rangeEquiv = setOfAllModAddEquiv.rhsSubstitute(rangeEquiv1)\n",
    "rangeEquiv.proven()"
   ]
  },
  {
   "cell_type": "code",
   "execution_count": 39,
   "metadata": {
    "collapsed": false
   },
   "outputs": [
    {
     "data": {
      "image/png": "[encoded data removed]",
      "text/plain": [
       "$\\forall_{ f , g , R , S ~|~ \\left(\\left\\{g\\left( y \\right)\\right\\}_{ y  \\in S} = R\\right) } \\left(\\left[\\forall_{ a  \\in R} \\left(f\\left( a \\right) \\in \\mathbb{C}\\right)\\right] \\Rightarrow \\left(\\left[\\sum_{ x  \\in R} f\\left( x \\right)\\right] = \\left[\\sum_{ y  \\in S} f\\left( g\\left( y \\right) \\right)\\right]\\right)\\right)$"
      ]
     },
     "execution_count": 39,
     "metadata": {},
     "output_type": "execute_result"
    }
   ],
   "source": [
    "equivSums"
   ]
  },
  {
   "cell_type": "code",
   "execution_count": 40,
   "metadata": {
    "collapsed": false
   },
   "outputs": [
    {
     "data": {
      "image/png": "[encoded data removed]",
      "text/plain": [
       "$\\left[\\forall_{ a  \\in \\{0\\ldots \\left(\\left(2^{t}\\right) - 1\\right)\\}} \\left(Pr_{m}[m = a] \\in \\mathbb{C}\\right)\\right] \\Rightarrow \\left(\\left(\\sum_{k=0}^{\\left(2^{t}\\right) - 1} Pr_{m}[m = k]\\right) = \\left(\\sum_{l= \\left(-\\left(2^{t - 1}\\right)\\right) + 1 }^{2^{t - 1}} Pr_{m}[m = \\left(b \\oplus l\\right)]\\right)\\right)$"
      ]
     },
     "execution_count": 40,
     "metadata": {},
     "output_type": "execute_result"
    }
   ],
   "source": [
    "equivSumsSpec = equivSums.specialize({fx:Prob(Equals(m_, x), m_), gy:ModAdd(b_, y), R:rangeEquiv.rhs, S:rangeEquiv.lhs.domain, x:k, y:l})\n",
    "equivSumsSpec.proven()"
   ]
  },
  {
   "cell_type": "code",
   "execution_count": 41,
   "metadata": {
    "collapsed": false
   },
   "outputs": [
    {
     "data": {
      "image/png": "[encoded data removed]",
      "text/plain": [
       "$\\forall_{ a  \\in \\{0\\ldots \\left(\\left(2^{t}\\right) - 1\\right)\\}} \\left(Pr_{m}[m = a] \\in \\mathbb{C}\\right)$"
      ]
     },
     "execution_count": 41,
     "metadata": {},
     "output_type": "execute_result"
    }
   ],
   "source": [
    "deduceInComplexes(equivSumsSpec.hypothesis.instanceExpr.element).generalize(a, equivSumsSpec.hypothesis.domain).proven()"
   ]
  },
  {
   "cell_type": "code",
   "execution_count": 42,
   "metadata": {
    "collapsed": false
   },
   "outputs": [
    {
     "data": {
      "image/png": "[encoded data removed]",
      "text/plain": [
       "$\\left(\\sum_{l= \\left(-\\left(2^{t - 1}\\right)\\right) + 1 }^{2^{t - 1}} Pr_{m}[m = \\left(b \\oplus l\\right)]\\right) = 1$"
      ]
     },
     "execution_count": 42,
     "metadata": {},
     "output_type": "execute_result"
    }
   ],
   "source": [
    "shiftedAllProbEqualsOne = equivSumsSpec.deriveConclusion().rhsSubstitute(allProbEqualsOne).proven()\n",
    "shiftedAllProbEqualsOne.proven()"
   ]
  },
  {
   "cell_type": "code",
   "execution_count": 43,
   "metadata": {
    "collapsed": false
   },
   "outputs": [
    {
     "data": {
      "image/png": "[encoded data removed]",
      "text/plain": [
       "$P_{\\rm fail}\\left( \\varepsilon \\right) \\leq \\left(\\left(\\sum_{l= \\left(-\\left(2^{t - 1}\\right)\\right) + 1 }^{2^{t - 1}} Pr_{m}[m = \\left(b \\oplus l\\right)]\\right) - \\left(\\sum_{l=-\\varepsilon}^{\\varepsilon} Pr_{m}[m = \\left(b \\oplus l\\right)]\\right)\\right)$"
      ]
     },
     "execution_count": 43,
     "metadata": {},
     "output_type": "execute_result"
    }
   ],
   "source": [
    "failSum2 = shiftedAllProbEqualsOne.lhsSubstitute(failSum1)\n",
    "failSum2.proven({epsInDomain})"
   ]
  },
  {
   "cell_type": "code",
   "execution_count": 44,
   "metadata": {
    "collapsed": false
   },
   "outputs": [
    {
     "data": {
      "image/png": "[encoded data removed]",
      "text/plain": [
       "$\\varepsilon \\leq \\left(\\left(2^{t - 1}\\right) - 2\\right)$"
      ]
     },
     "execution_count": 44,
     "metadata": {},
     "output_type": "execute_result"
    }
   ],
   "source": [
    "epsUpperBound = epsInDomain.domain.deduceMemberUpperBound(eps)\n",
    "epsUpperBound.proven({epsInDomain})"
   ]
  },
  {
   "cell_type": "code",
   "execution_count": 45,
   "metadata": {
    "collapsed": false
   },
   "outputs": [
    {
     "data": {
      "image/png": "[encoded data removed]",
      "text/plain": [
       "$\\left( \\left(\\left(2^{t - 1}\\right) - 2\\right) + 2 \\right) > \\varepsilon$"
      ]
     },
     "execution_count": 45,
     "metadata": {},
     "output_type": "execute_result"
    }
   ],
   "source": [
    "relaxedEpsUpperBound1 = Add(epsUpperBound.rhs, two).deduceStrictIncrease(0).applyTransitivity(epsUpperBound)\n",
    "relaxedEpsUpperBound1.proven({epsInDomain})"
   ]
  },
  {
   "cell_type": "code",
   "execution_count": 46,
   "metadata": {
    "collapsed": false
   },
   "outputs": [
    {
     "data": {
      "image/png": "[encoded data removed]",
      "text/plain": [
       "$\\left( 2 + \\left(\\left(2^{t - 1}\\right) - 2\\right) \\right) > \\varepsilon$"
      ]
     },
     "execution_count": 46,
     "metadata": {},
     "output_type": "execute_result"
    }
   ],
   "source": [
    "relaxedEpsUpperBound2 = relaxedEpsUpperBound1.lhs.commute().rhsSubstitute(relaxedEpsUpperBound1)\n",
    "relaxedEpsUpperBound2.proven({epsInDomain})"
   ]
  },
  {
   "cell_type": "code",
   "execution_count": 47,
   "metadata": {
    "collapsed": false
   },
   "outputs": [
    {
     "data": {
      "image/png": "[encoded data removed]",
      "text/plain": [
       "$\\varepsilon < \\left(2^{t - 1}\\right)$"
      ]
     },
     "execution_count": 47,
     "metadata": {},
     "output_type": "execute_result"
    }
   ],
   "source": [
    "relaxedEpsUpperBound = outerCancel.specialize({a:two, b:two_pow_t_minus_one}).rhsSubstitute(relaxedEpsUpperBound2).deriveReversed()\n",
    "relaxedEpsUpperBound.proven({epsInDomain})"
   ]
  },
  {
   "cell_type": "code",
   "execution_count": 48,
   "metadata": {
    "collapsed": false
   },
   "outputs": [
    {
     "data": {
      "image/png": "[encoded data removed]",
      "text/plain": [
       "$\\left(-\\left(2^{t - 1}\\right)\\right) < 0$"
      ]
     },
     "execution_count": 48,
     "metadata": {},
     "output_type": "execute_result"
    }
   ],
   "source": [
    "deduceNegative(Neg(two_pow_t_minus_one))"
   ]
  },
  {
   "cell_type": "code",
   "execution_count": 49,
   "metadata": {
    "collapsed": false
   },
   "outputs": [
    {
     "data": {
      "image/png": "[encoded data removed]",
      "text/plain": [
       "$\\left( \\left(-\\left(2^{t - 1}\\right)\\right) + 1 \\right) < 1$"
      ]
     },
     "execution_count": 49,
     "metadata": {},
     "output_type": "execute_result"
    }
   ],
   "source": [
    "lowerBoundLessThanOne = Add(Neg(two_pow_t_minus_one), one).deduceStrictDecrease(1)\n",
    "lowerBoundLessThanOne"
   ]
  },
  {
   "cell_type": "code",
   "execution_count": 50,
   "metadata": {
    "collapsed": false
   },
   "outputs": [
    {
     "data": {
      "image/png": "[encoded data removed]",
      "text/plain": [
       "$1 \\leq \\varepsilon$"
      ]
     },
     "execution_count": 50,
     "metadata": {},
     "output_type": "execute_result"
    }
   ],
   "source": [
    "epsLowerBound = epsInDomain.domain.deduceMemberLowerBound(eps)\n",
    "epsLowerBound.proven({epsInDomain})"
   ]
  },
  {
   "cell_type": "code",
   "execution_count": 51,
   "metadata": {
    "collapsed": false
   },
   "outputs": [
    {
     "data": {
      "image/png": "[encoded data removed]",
      "text/plain": [
       "$\\left( \\left(-\\left(2^{t - 1}\\right)\\right) + 1 \\right) \\leq \\varepsilon$"
      ]
     },
     "execution_count": 51,
     "metadata": {},
     "output_type": "execute_result"
    }
   ],
   "source": [
    "relaxedEpsLowerBound = epsLowerBound.applyTransitivity(lowerBoundLessThanOne).deriveRelaxed({epsInDomain})\n",
    "relaxedEpsLowerBound.proven({epsInDomain})"
   ]
  },
  {
   "cell_type": "code",
   "execution_count": 52,
   "metadata": {
    "collapsed": false
   },
   "outputs": [
    {
     "data": {
      "image/png": "[encoded data removed]",
      "text/plain": [
       "$\\left(\\sum_{l= \\left(-\\left(2^{t - 1}\\right)\\right) + 1 }^{2^{t - 1}} Pr_{m}[m = \\left(b \\oplus l\\right)]\\right) = \\left( \\left(\\sum_{l= \\left(-\\left(2^{t - 1}\\right)\\right) + 1 }^{\\varepsilon} Pr_{m}[m = \\left(b \\oplus l\\right)]\\right) + \\left(\\sum_{l= \\varepsilon + 1 }^{2^{t - 1}} Pr_{m}[m = \\left(b \\oplus l\\right)]\\right) \\right)$"
      ]
     },
     "execution_count": 52,
     "metadata": {},
     "output_type": "execute_result"
    }
   ],
   "source": [
    "shiftedAllProb = shiftedAllProbEqualsOne.lhs\n",
    "shiftedAllProbSplit1 = shiftedAllProb.split(eps, side='after', assumptions={epsInDomain})\n",
    "shiftedAllProbSplit1.proven({epsInDomain})"
   ]
  },
  {
   "cell_type": "code",
   "execution_count": 53,
   "metadata": {
    "collapsed": false
   },
   "outputs": [
    {
     "data": {
      "image/png": "[encoded data removed]",
      "text/plain": [
       "$\\left(-\\varepsilon\\right) \\leq \\varepsilon$"
      ]
     },
     "execution_count": 53,
     "metadata": {},
     "output_type": "execute_result"
    }
   ],
   "source": [
    "negEpsLessEqEps = deduceNegative(Neg(eps), {epsInDomain}).applyTransitivity(deducePositive(eps, {epsInDomain})).deriveRelaxed({epsInDomain})\n",
    "negEpsLessEqEps"
   ]
  },
  {
   "cell_type": "code",
   "execution_count": 54,
   "metadata": {
    "collapsed": false
   },
   "outputs": [
    {
     "data": {
      "image/png": "[encoded data removed]",
      "text/plain": [
       "$ \\left(\\left(2^{t - 1}\\right) - 2\\right) + 1 $"
      ]
     },
     "execution_count": 54,
     "metadata": {},
     "output_type": "execute_result"
    }
   ],
   "source": [
    "upperBoundAddOne = Add(epsUpperBound.rhs, one)\n",
    "upperBoundAddOne"
   ]
  },
  {
   "cell_type": "code",
   "execution_count": 55,
   "metadata": {
    "collapsed": false
   },
   "outputs": [
    {
     "data": {
      "image/png": "[encoded data removed]",
      "text/plain": [
       "$\\left(-\\left( \\left(\\left(2^{t - 1}\\right) - 2\\right) + 1 \\right)\\right) < \\left(-\\varepsilon\\right)$"
      ]
     },
     "execution_count": 55,
     "metadata": {},
     "output_type": "execute_result"
    }
   ],
   "source": [
    "relaxedNegEpsLowerBound1 = upperBoundAddOne.deduceStrictIncrease(0).applyTransitivity(epsUpperBound).deriveNegated({epsInDomain})\n",
    "relaxedNegEpsLowerBound1.proven({epsInDomain})"
   ]
  },
  {
   "cell_type": "code",
   "execution_count": 56,
   "metadata": {
    "collapsed": false
   },
   "outputs": [
    {
     "data": {
      "image/png": "[encoded data removed]",
      "text/plain": [
       "$\\forall_{ a  \\in \\mathbb{C}} \\left(\\left( \\left(a - 2\\right) + 1 \\right) = \\left(a - 1\\right)\\right)$"
      ]
     },
     "execution_count": 56,
     "metadata": {},
     "output_type": "execute_result"
    }
   ],
   "source": [
    "subTwoAddOne"
   ]
  },
  {
   "cell_type": "code",
   "execution_count": 57,
   "metadata": {
    "collapsed": false
   },
   "outputs": [
    {
     "data": {
      "image/png": "[encoded data removed]",
      "text/plain": [
       "$\\left(-\\left(\\left(2^{t - 1}\\right) - 1\\right)\\right) < \\left(-\\varepsilon\\right)$"
      ]
     },
     "execution_count": 57,
     "metadata": {},
     "output_type": "execute_result"
    }
   ],
   "source": [
    "relaxedNegEpsLowerBound2 = subTwoAddOne.specialize({a:two_pow_t_minus_one}).rhsSubstitute(relaxedNegEpsLowerBound1)\n",
    "relaxedNegEpsLowerBound2.proven({epsInDomain})"
   ]
  },
  {
   "cell_type": "code",
   "execution_count": 58,
   "metadata": {
    "collapsed": false
   },
   "outputs": [
    {
     "data": {
      "image/png": "[encoded data removed]",
      "text/plain": [
       "$\\left( \\left(-\\left(2^{t - 1}\\right)\\right) + 1 \\right) < \\left(-\\varepsilon\\right)$"
      ]
     },
     "execution_count": 58,
     "metadata": {},
     "output_type": "execute_result"
    }
   ],
   "source": [
    "relaxedNegEpsLowerBound3 = relaxedNegEpsLowerBound2.lhs.distribute().rhsSubstitute(relaxedNegEpsLowerBound2)\n",
    "relaxedNegEpsLowerBound3.proven({epsInDomain})"
   ]
  },
  {
   "cell_type": "code",
   "execution_count": 59,
   "metadata": {
    "collapsed": false
   },
   "outputs": [
    {
     "data": {
      "image/png": "[encoded data removed]",
      "text/plain": [
       "$\\left(\\sum_{l= \\left(-\\left(2^{t - 1}\\right)\\right) + 1 }^{2^{t - 1}} Pr_{m}[m = \\left(b \\oplus l\\right)]\\right) = \\left( \\left( \\left(\\sum_{l= \\left(-\\left(2^{t - 1}\\right)\\right) + 1 }^{\\left(-\\varepsilon\\right) - 1} Pr_{m}[m = \\left(b \\oplus l\\right)]\\right) + \\left(\\sum_{l=-\\varepsilon}^{\\varepsilon} Pr_{m}[m = \\left(b \\oplus l\\right)]\\right) \\right) + \\left(\\sum_{l= \\varepsilon + 1 }^{2^{t - 1}} Pr_{m}[m = \\left(b \\oplus l\\right)]\\right) \\right)$"
      ]
     },
     "execution_count": 59,
     "metadata": {},
     "output_type": "execute_result"
    }
   ],
   "source": [
    "shiftedAllProbSplit2 = shiftedAllProbSplit1.rhs.terms[0].split(Neg(eps), side='before', assumptions={epsInDomain}).rhsSubstitute(shiftedAllProbSplit1)\n",
    "shiftedAllProbSplit2.proven({epsInDomain})"
   ]
  },
  {
   "cell_type": "code",
   "execution_count": 60,
   "metadata": {
    "collapsed": false
   },
   "outputs": [
    {
     "data": {
      "image/png": "[encoded data removed]",
      "text/plain": [
       "$\\left(\\sum_{l= \\left(-\\left(2^{t - 1}\\right)\\right) + 1 }^{2^{t - 1}} Pr_{m}[m = \\left(b \\oplus l\\right)]\\right) = \\left( \\left(\\sum_{l= \\left(-\\left(2^{t - 1}\\right)\\right) + 1 }^{\\left(-\\varepsilon\\right) - 1} Pr_{m}[m = \\left(b \\oplus l\\right)]\\right) + \\left(\\sum_{l=-\\varepsilon}^{\\varepsilon} Pr_{m}[m = \\left(b \\oplus l\\right)]\\right) + \\left(\\sum_{l= \\varepsilon + 1 }^{2^{t - 1}} Pr_{m}[m = \\left(b \\oplus l\\right)]\\right) \\right)$"
      ]
     },
     "execution_count": 60,
     "metadata": {},
     "output_type": "execute_result"
    }
   ],
   "source": [
    "shiftedAllProbSplit3 = shiftedAllProbSplit2.rhs.ungroup(0).rhsSubstitute(shiftedAllProbSplit2)\n",
    "shiftedAllProbSplit3.proven({epsInDomain})"
   ]
  },
  {
   "cell_type": "code",
   "execution_count": 61,
   "metadata": {
    "collapsed": false
   },
   "outputs": [
    {
     "data": {
      "image/png": "[encoded data removed]",
      "text/plain": [
       "$P_{\\rm fail}\\left( \\varepsilon \\right) \\leq \\left(\\left( \\left(\\sum_{l= \\left(-\\left(2^{t - 1}\\right)\\right) + 1 }^{\\left(-\\varepsilon\\right) - 1} Pr_{m}[m = \\left(b \\oplus l\\right)]\\right) + \\left(\\sum_{l=-\\varepsilon}^{\\varepsilon} Pr_{m}[m = \\left(b \\oplus l\\right)]\\right) + \\left(\\sum_{l= \\varepsilon + 1 }^{2^{t - 1}} Pr_{m}[m = \\left(b \\oplus l\\right)]\\right) \\right) - \\left(\\sum_{l=-\\varepsilon}^{\\varepsilon} Pr_{m}[m = \\left(b \\oplus l\\right)]\\right)\\right)$"
      ]
     },
     "execution_count": 61,
     "metadata": {},
     "output_type": "execute_result"
    }
   ],
   "source": [
    "failSum3 = shiftedAllProbSplit3.rhsSubstitute(failSum2)\n",
    "failSum3.proven({epsInDomain})"
   ]
  },
  {
   "cell_type": "code",
   "execution_count": 62,
   "metadata": {
    "collapsed": false
   },
   "outputs": [
    {
     "data": {
      "image/png": "[encoded data removed]",
      "text/plain": [
       "$P_{\\rm fail}\\left( \\varepsilon \\right) \\leq \\left( \\left(\\sum_{l= \\left(-\\left(2^{t - 1}\\right)\\right) + 1 }^{\\left(-\\varepsilon\\right) - 1} Pr_{m}[m = \\left(b \\oplus l\\right)]\\right) + \\left(\\sum_{l= \\varepsilon + 1 }^{2^{t - 1}} Pr_{m}[m = \\left(b \\oplus l\\right)]\\right) \\right)$"
      ]
     },
     "execution_count": 62,
     "metadata": {},
     "output_type": "execute_result"
    }
   ],
   "source": [
    "failSum4 = failSum3.rhs.cancel().rhsSubstitute(failSum3)\n",
    "failSum4.proven({epsInDomain})"
   ]
  },
  {
   "cell_type": "code",
   "execution_count": 63,
   "metadata": {
    "collapsed": false
   },
   "outputs": [
    {
     "data": {
      "image/png": "[encoded data removed]",
      "text/plain": [
       "$\\forall_{ n  \\in \\mathbb{N}^+} \\left[\\forall_{ k  \\in \\{0\\ldots \\left(\\left(2^{n}\\right) - 1\\right)\\}} \\left[\\forall_{ \\Psi , m ~|~ \\left(\\lvert \\Psi \\rangle \\in \\left(\\mathbb{C}^{2}\\right)^{\\otimes n}\\right) , \\left(m = {\\cal M}\\left( \\lvert \\Psi \\rangle \\right)\\right) } \\left(Pr_{m}[m = k] = \\left(\\left|\\prescript{}{n}\\langle k \\rvert\\Psi \\rangle\\right|^{2}\\right)\\right)\\right]\\right]$"
      ]
     },
     "execution_count": 63,
     "metadata": {},
     "output_type": "execute_result"
    }
   ],
   "source": [
    "registerQubitBornRule"
   ]
  },
  {
   "cell_type": "code",
   "execution_count": 64,
   "metadata": {
    "collapsed": false
   },
   "outputs": [
    {
     "data": {
      "image/png": "[encoded data removed]",
      "text/plain": [
       "$l \\in \\{\\left( \\left(-\\left(2^{t - 1}\\right)\\right) + 1 \\right)\\ldots \\left(2^{t - 1}\\right)\\}$"
      ]
     },
     "execution_count": 64,
     "metadata": {},
     "output_type": "execute_result"
    }
   ],
   "source": [
    "lInDomain = In(l, fullDomain)\n",
    "lInDomain"
   ]
  },
  {
   "cell_type": "code",
   "execution_count": 65,
   "metadata": {
    "collapsed": false
   },
   "outputs": [
    {
     "data": {
      "image/png": "[encoded data removed]",
      "text/plain": [
       "$\\left(b \\oplus l\\right) \\in \\{0\\ldots \\left(\\left(2^{t}\\right) - 1\\right)\\}$"
      ]
     },
     "execution_count": 65,
     "metadata": {},
     "output_type": "execute_result"
    }
   ],
   "source": [
    "b_modadd_l_def.lhsSubstitute(b_modadd_l_def.rhs.deduceInInterval({lInDomain})).proven({lInDomain})"
   ]
  },
  {
   "cell_type": "code",
   "execution_count": 67,
   "metadata": {
    "collapsed": false
   },
   "outputs": [
    {
     "data": {
      "image/png": "[encoded data removed]",
      "text/plain": [
       "$Pr_{m}[m = \\left(b \\oplus l\\right)] = \\left(\\left|\\prescript{}{t}\\langle b \\oplus l \\rvert\\Psi \\rangle\\right|^{2}\\right)$"
      ]
     },
     "execution_count": 67,
     "metadata": {},
     "output_type": "execute_result"
    }
   ],
   "source": [
    "prob_b_modadd_l_eq1 = registerQubitBornRule.specialize({n:t_}).specialize({k:ModAdd(b_, l)}).specialize({Psi:Psi_, m:m_}).proven({lInDomain})\n",
    "prob_b_modadd_l_eq1"
   ]
  },
  {
   "cell_type": "code",
   "execution_count": 68,
   "metadata": {
    "collapsed": false
   },
   "outputs": [
    {
     "data": {
      "image/png": "[encoded data removed]",
      "text/plain": [
       "$l \\in \\mathbb{Z}$"
      ]
     },
     "execution_count": 68,
     "metadata": {},
     "output_type": "execute_result"
    }
   ],
   "source": [
    "lInDomain.domain.deduceMemberInIntegers(l).proven({lInDomain})"
   ]
  },
  {
   "cell_type": "code",
   "execution_count": 69,
   "metadata": {
    "collapsed": false
   },
   "outputs": [
    {
     "data": {
      "image/png": "[encoded data removed]",
      "text/plain": [
       "$\\forall_{ l  \\in \\mathbb{Z}} \\left(\\alpha_{l} = \\prescript{}{t}\\langle b \\oplus l \\rvert\\Psi \\rangle\\right)$"
      ]
     },
     "execution_count": 69,
     "metadata": {},
     "output_type": "execute_result"
    }
   ],
   "source": [
    "alphaDef"
   ]
  },
  {
   "cell_type": "code",
   "execution_count": 70,
   "metadata": {
    "collapsed": false
   },
   "outputs": [
    {
     "data": {
      "image/png": "[encoded data removed]",
      "text/plain": [
       "$\\alpha_{l} = \\prescript{}{t}\\langle b \\oplus l \\rvert\\Psi \\rangle$"
      ]
     },
     "execution_count": 70,
     "metadata": {},
     "output_type": "execute_result"
    }
   ],
   "source": [
    "alphaDefSpec = alphaDef.specialize().proven({lInDomain})\n",
    "alphaDefSpec"
   ]
  },
  {
   "cell_type": "code",
   "execution_count": 71,
   "metadata": {
    "collapsed": false
   },
   "outputs": [
    {
     "data": {
      "image/png": "[encoded data removed]",
      "text/plain": [
       "$Pr_{m}[m = \\left(b \\oplus l\\right)] = \\left(\\left|\\alpha_{l}\\right|^{2}\\right)$"
      ]
     },
     "execution_count": 71,
     "metadata": {},
     "output_type": "execute_result"
    }
   ],
   "source": [
    "probAsAlphaSqrd = alphaDefSpec.lhsSubstitute(prob_b_modadd_l_eq1)\n",
    "probAsAlphaSqrd"
   ]
  },
  {
   "cell_type": "code",
   "execution_count": 72,
   "metadata": {
    "collapsed": false
   },
   "outputs": [
    {
     "data": {
      "image/png": "[encoded data removed]",
      "text/plain": [
       "$\\{ \\left(-\\left(2^{t - 1}\\right)\\right) + 1 \\ldots \\left(-\\varepsilon\\right) - 1\\}$"
      ]
     },
     "metadata": {},
     "output_type": "display_data"
    },
    {
     "data": {
      "image/png": "[encoded data removed]",
      "text/plain": [
       "$\\{ \\varepsilon + 1 \\ldots 2^{t - 1}\\}$"
      ]
     },
     "metadata": {},
     "output_type": "display_data"
    }
   ],
   "source": [
    "negDomain = failSum4.rhs.terms[0].domain\n",
    "posDomain = failSum4.rhs.terms[1].domain\n",
    "display(negDomain)\n",
    "display(posDomain)"
   ]
  },
  {
   "cell_type": "code",
   "execution_count": 73,
   "metadata": {
    "collapsed": false
   },
   "outputs": [
    {
     "data": {
      "image/png": "[encoded data removed]",
      "text/plain": [
       "$l \\in \\mathbb{Z}$"
      ]
     },
     "execution_count": 73,
     "metadata": {},
     "output_type": "execute_result"
    }
   ],
   "source": [
    "negDomain.deduceMemberInIntegers(l, {epsInDomain}).proven({In(l, negDomain), epsInDomain})\n",
    "posDomain.deduceMemberInIntegers(l, {epsInDomain}).proven({In(l, posDomain), epsInDomain})"
   ]
  },
  {
   "cell_type": "code",
   "execution_count": 74,
   "metadata": {
    "collapsed": false
   },
   "outputs": [
    {
     "data": {
      "image/png": "[encoded data removed]",
      "text/plain": [
       "$\\forall_{ l  \\in \\{\\left( \\left(-\\left(2^{t - 1}\\right)\\right) + 1 \\right)\\ldots \\left(\\left(-\\varepsilon\\right) - 1\\right)\\}} \\left(Pr_{m}[m = \\left(b \\oplus l\\right)] = \\left(\\left|\\alpha_{l}\\right|^{2}\\right)\\right)$"
      ]
     },
     "execution_count": 74,
     "metadata": {},
     "output_type": "execute_result"
    }
   ],
   "source": [
    "probAsAlphaSqrdOverNegDomain = probAsAlphaSqrd.generalize(l, negDomain)\n",
    "probAsAlphaSqrdOverNegDomain.proven({epsInDomain})"
   ]
  },
  {
   "cell_type": "code",
   "execution_count": 75,
   "metadata": {
    "collapsed": false
   },
   "outputs": [
    {
     "data": {
      "image/png": "[encoded data removed]",
      "text/plain": [
       "$\\forall_{ l  \\in \\{\\left( \\varepsilon + 1 \\right)\\ldots \\left(2^{t - 1}\\right)\\}} \\left(Pr_{m}[m = \\left(b \\oplus l\\right)] = \\left(\\left|\\alpha_{l}\\right|^{2}\\right)\\right)$"
      ]
     },
     "execution_count": 75,
     "metadata": {},
     "output_type": "execute_result"
    }
   ],
   "source": [
    "probAsAlphaSqrdOverPosDomain = probAsAlphaSqrd.generalize(l, failSum4.rhs.terms[1].domain)\n",
    "probAsAlphaSqrdOverPosDomain.proven({epsInDomain})"
   ]
  },
  {
   "cell_type": "code",
   "execution_count": 76,
   "metadata": {
    "collapsed": false
   },
   "outputs": [
    {
     "data": {
      "image/png": "[encoded data removed]",
      "text/plain": [
       "$\\left(\\sum_{l= \\left(-\\left(2^{t - 1}\\right)\\right) + 1 }^{\\left(-\\varepsilon\\right) - 1} Pr_{m}[m = \\left(b \\oplus l\\right)]\\right) = \\left(\\sum_{l= \\left(-\\left(2^{t - 1}\\right)\\right) + 1 }^{\\left(-\\varepsilon\\right) - 1} \\left(\\left|\\alpha_{l}\\right|^{2}\\right)\\right)$"
      ]
     },
     "execution_count": 76,
     "metadata": {},
     "output_type": "execute_result"
    }
   ],
   "source": [
    "negDomainSumEq = failSum4.rhs.terms[0].instanceSubstitution(probAsAlphaSqrdOverNegDomain)\n",
    "negDomainSumEq.proven({epsInDomain})"
   ]
  },
  {
   "cell_type": "code",
   "execution_count": 77,
   "metadata": {
    "collapsed": false
   },
   "outputs": [
    {
     "data": {
      "image/png": "[encoded data removed]",
      "text/plain": [
       "$\\left(\\sum_{l= \\varepsilon + 1 }^{2^{t - 1}} Pr_{m}[m = \\left(b \\oplus l\\right)]\\right) = \\left(\\sum_{l= \\varepsilon + 1 }^{2^{t - 1}} \\left(\\left|\\alpha_{l}\\right|^{2}\\right)\\right)$"
      ]
     },
     "execution_count": 77,
     "metadata": {},
     "output_type": "execute_result"
    }
   ],
   "source": [
    "posDomainSumEq = failSum4.rhs.terms[1].instanceSubstitution(probAsAlphaSqrdOverPosDomain)\n",
    "posDomainSumEq.proven({epsInDomain})"
   ]
  },
  {
   "cell_type": "code",
   "execution_count": 78,
   "metadata": {
    "collapsed": false
   },
   "outputs": [
    {
     "data": {
      "image/png": "[encoded data removed]",
      "text/plain": [
       "$P_{\\rm fail}\\left( \\varepsilon \\right) \\leq \\left( \\left(\\sum_{l= \\left(-\\left(2^{t - 1}\\right)\\right) + 1 }^{\\left(-\\varepsilon\\right) - 1} \\left(\\left|\\alpha_{l}\\right|^{2}\\right)\\right) + \\left(\\sum_{l= \\varepsilon + 1 }^{2^{t - 1}} Pr_{m}[m = \\left(b \\oplus l\\right)]\\right) \\right)$"
      ]
     },
     "execution_count": 78,
     "metadata": {},
     "output_type": "execute_result"
    }
   ],
   "source": [
    "failSum5 = negDomainSumEq.rhsSubstitute(failSum4)\n",
    "failSum5.proven({epsInDomain})"
   ]
  },
  {
   "cell_type": "code",
   "execution_count": 79,
   "metadata": {
    "collapsed": false
   },
   "outputs": [
    {
     "data": {
      "image/png": "[encoded data removed]",
      "text/plain": [
       "$P_{\\rm fail}\\left( \\varepsilon \\right) \\leq \\left( \\left(\\sum_{l= \\left(-\\left(2^{t - 1}\\right)\\right) + 1 }^{\\left(-\\varepsilon\\right) - 1} \\left(\\left|\\alpha_{l}\\right|^{2}\\right)\\right) + \\left(\\sum_{l= \\varepsilon + 1 }^{2^{t - 1}} \\left(\\left|\\alpha_{l}\\right|^{2}\\right)\\right) \\right)$"
      ]
     },
     "execution_count": 79,
     "metadata": {},
     "output_type": "execute_result"
    }
   ],
   "source": [
    "failSum6 = posDomainSumEq.rhsSubstitute(failSum5)\n",
    "failSum6.proven({epsInDomain})"
   ]
  },
  {
   "cell_type": "code",
   "execution_count": 80,
   "metadata": {
    "collapsed": false
   },
   "outputs": [
    {
     "data": {
      "image/png": "[encoded data removed]",
      "text/plain": [
       "$\\left(-\\left( \\varepsilon + 1 \\right)\\right) = \\left( \\left(-\\varepsilon\\right) + \\left(-1\\right) \\right)$"
      ]
     },
     "execution_count": 80,
     "metadata": {},
     "output_type": "execute_result"
    }
   ],
   "source": [
    "cleanNegUpperBound1 = Neg(Add(eps, one)).distribute({epsInDomain})\n",
    "cleanNegUpperBound1.proven({epsInDomain})"
   ]
  },
  {
   "cell_type": "code",
   "execution_count": 81,
   "metadata": {
    "collapsed": false
   },
   "outputs": [
    {
     "data": {
      "image/png": "[encoded data removed]",
      "text/plain": [
       "$\\left(-\\left( \\varepsilon + 1 \\right)\\right) = \\left(\\left(-\\varepsilon\\right) - 1\\right)$"
      ]
     },
     "execution_count": 81,
     "metadata": {},
     "output_type": "execute_result"
    }
   ],
   "source": [
    "cleanNegUpperBound2 = cleanNegUpperBound1.rhs.subtractionFolding(1, {epsInDomain}).rhsSubstitute(cleanNegUpperBound1)\n",
    "cleanNegUpperBound2.proven({epsInDomain})"
   ]
  },
  {
   "cell_type": "code",
   "execution_count": 82,
   "metadata": {
    "collapsed": false
   },
   "outputs": [
    {
     "data": {
      "image/png": "[encoded data removed]",
      "text/plain": [
       "$P_{\\rm fail}\\left( \\varepsilon \\right) \\leq \\left( \\left(\\sum_{l= \\left(-\\left(2^{t - 1}\\right)\\right) + 1 }^{-\\left( \\varepsilon + 1 \\right)} \\left(\\left|\\alpha_{l}\\right|^{2}\\right)\\right) + \\left(\\sum_{l= \\varepsilon + 1 }^{2^{t - 1}} \\left(\\left|\\alpha_{l}\\right|^{2}\\right)\\right) \\right)$"
      ]
     },
     "execution_count": 82,
     "metadata": {},
     "output_type": "execute_result"
    }
   ],
   "source": [
    "failSum7 = cleanNegUpperBound2.lhsSubstitute(failSum6)\n",
    "failSum7.proven({epsInDomain})"
   ]
  },
  {
   "cell_type": "code",
   "execution_count": 84,
   "metadata": {
    "collapsed": false
   },
   "outputs": [
    {
     "data": {
      "image/png": "[encoded data removed]",
      "text/plain": [
       "$\\forall_{ \\varepsilon  \\in \\{1\\ldots \\left(\\left(2^{t - 1}\\right) - 2\\right)\\}} \\left(P_{\\rm fail}\\left( \\varepsilon \\right) \\leq \\left( \\left(\\sum_{l= \\left(-\\left(2^{t - 1}\\right)\\right) + 1 }^{-\\left( \\varepsilon + 1 \\right)} \\left(\\left|\\alpha_{l}\\right|^{2}\\right)\\right) + \\left(\\sum_{l= \\varepsilon + 1 }^{2^{t - 1}} \\left(\\left|\\alpha_{l}\\right|^{2}\\right)\\right) \\right)\\right)$"
      ]
     },
     "execution_count": 84,
     "metadata": {},
     "output_type": "execute_result"
    },
    {
     "name": "stdout",
     "output_type": "stream",
     "text": [
      "\n"
     ]
    }
   ],
   "source": [
    "failSum7.generalize(eps, domain=epsInDomain.domain)#.qed()"
   ]
  },
  {
   "cell_type": "code",
   "execution_count": null,
   "metadata": {
    "collapsed": true
   },
   "outputs": [],
   "source": []
  }
 ],
 "metadata": {
  "kernelspec": {
   "display_name": "Python 2",
   "language": "python",
   "name": "python2"
  },
  "language_info": {
   "codemirror_mode": {
    "name": "ipython",
    "version": 2
   },
   "file_extension": ".py",
   "mimetype": "text/x-python",
   "name": "python",
   "nbconvert_exporter": "python",
   "pygments_lexer": "ipython2",
   "version": "2.7.10"
  }
 },
 "nbformat": 4,
 "nbformat_minor": 0
}
