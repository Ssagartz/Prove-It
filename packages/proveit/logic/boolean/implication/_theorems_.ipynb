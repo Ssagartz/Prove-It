{
 "cells": [
  {
   "cell_type": "markdown",
   "metadata": {
    "collapsed": true,
    "deletable": true,
    "editable": true
   },
   "source": [
    "Theorems for context <a href=\"_context_.ipynb\">proveit.logic.boolean.implication</a>\n",
    "========"
   ]
  },
  {
   "cell_type": "code",
   "execution_count": 1,
   "metadata": {
    "collapsed": false,
    "deletable": true,
    "editable": true
   },
   "outputs": [
    {
     "name": "stdout",
     "output_type": "stream",
     "text": [
      "Defining theorems for context 'proveit.logic.boolean.implication'\n",
      "Subsequent end-of-cell assignments will define theorems\n",
      "%end_theorems will finalize the definitions\n"
     ]
    }
   ],
   "source": [
    "from proveit.logic import Equals, Implies, TRUE, FALSE, Iff, Forall, And, Not, inBool, Booleans\n",
    "from proveit._common_ import A, B, C\n",
    "%begin_theorems"
   ]
  },
  {
   "cell_type": "code",
   "execution_count": 2,
   "metadata": {
    "collapsed": false,
    "deletable": true,
    "editable": true
   },
   "outputs": [
    {
     "data": {
      "text/html": [
       "<strong id=\"selfImplication\"><a href=\"_proofs_\\selfImplication.ipynb\" target=\"_blank\">selfImplication</a>:</strong> <a href=\"__pv_it\\f0df0a196195413097522efcc5d0aa5847f3f6c30\\expr.ipynb\" target=\"_blank\"><img src=\"__pv_it\\f0df0a196195413097522efcc5d0aa5847f3f6c30\\expr.png\" style=\"display:inline;vertical-align:middle;\" /></a><br>"
      ],
      "text/plain": [
       "selfImplication: forall_{A} (A => A)"
      ]
     },
     "execution_count": 2,
     "metadata": {},
     "output_type": "execute_result"
    }
   ],
   "source": [
    "selfImplication = Forall(A, Implies(A, A))"
   ]
  },
  {
   "cell_type": "code",
   "execution_count": 3,
   "metadata": {
    "collapsed": false,
    "deletable": true,
    "editable": true
   },
   "outputs": [
    {
     "data": {
      "text/html": [
       "<strong id=\"trueImpliesTrue\"><a href=\"_proofs_\\trueImpliesTrue.ipynb\" target=\"_blank\">trueImpliesTrue</a>:</strong> <a href=\"__pv_it\\7d2b4c882bd010e591e4691a6dcb49f56c161f140\\expr.ipynb\" target=\"_blank\"><img src=\"__pv_it\\7d2b4c882bd010e591e4691a6dcb49f56c161f140\\expr.png\" style=\"display:inline;vertical-align:middle;\" /></a><br>"
      ],
      "text/plain": [
       "trueImpliesTrue: TRUE => TRUE"
      ]
     },
     "execution_count": 3,
     "metadata": {},
     "output_type": "execute_result"
    }
   ],
   "source": [
    "trueImpliesTrue = Implies(TRUE, TRUE)"
   ]
  },
  {
   "cell_type": "code",
   "execution_count": 4,
   "metadata": {
    "collapsed": false,
    "deletable": true,
    "editable": true
   },
   "outputs": [
    {
     "data": {
      "text/html": [
       "<strong id=\"falseImpliesFalse\"><a href=\"_proofs_\\falseImpliesFalse.ipynb\" target=\"_blank\">falseImpliesFalse</a>:</strong> <a href=\"__pv_it\\b7c4c6ec3bce95341dd74ab87f0b68dc0447ac420\\expr.ipynb\" target=\"_blank\"><img src=\"__pv_it\\b7c4c6ec3bce95341dd74ab87f0b68dc0447ac420\\expr.png\" style=\"display:inline;vertical-align:middle;\" /></a><br>"
      ],
      "text/plain": [
       "falseImpliesFalse: FALSE => FALSE"
      ]
     },
     "execution_count": 4,
     "metadata": {},
     "output_type": "execute_result"
    }
   ],
   "source": [
    "falseImpliesFalse = Implies(FALSE, FALSE)"
   ]
  },
  {
   "cell_type": "code",
   "execution_count": 5,
   "metadata": {
    "collapsed": false,
    "deletable": true,
    "editable": true
   },
   "outputs": [
    {
     "data": {
      "text/html": [
       "<strong id=\"falseImpliesTrue\"><a href=\"_proofs_\\falseImpliesTrue.ipynb\" target=\"_blank\">falseImpliesTrue</a>:</strong> <a href=\"__pv_it\\c12e29f2a539ff5e23dca30e2166083326c7eeca0\\expr.ipynb\" target=\"_blank\"><img src=\"__pv_it\\c12e29f2a539ff5e23dca30e2166083326c7eeca0\\expr.png\" style=\"display:inline;vertical-align:middle;\" /></a><br>"
      ],
      "text/plain": [
       "falseImpliesTrue: FALSE => TRUE"
      ]
     },
     "execution_count": 5,
     "metadata": {},
     "output_type": "execute_result"
    }
   ],
   "source": [
    "falseImpliesTrue = Implies(FALSE, TRUE)"
   ]
  },
  {
   "cell_type": "code",
   "execution_count": 6,
   "metadata": {
    "collapsed": false,
    "deletable": true,
    "editable": true
   },
   "outputs": [
    {
     "data": {
      "text/html": [
       "<strong id=\"impliesTT\"><a href=\"_proofs_\\impliesTT.ipynb\" target=\"_blank\">impliesTT</a>:</strong> <a href=\"__pv_it\\1c57cf36ab6c85ec2a48555197af251085448fa20\\expr.ipynb\" target=\"_blank\"><img src=\"__pv_it\\1c57cf36ab6c85ec2a48555197af251085448fa20\\expr.png\" style=\"display:inline;vertical-align:middle;\" /></a><br>"
      ],
      "text/plain": [
       "impliesTT: (TRUE => TRUE) = TRUE"
      ]
     },
     "execution_count": 6,
     "metadata": {},
     "output_type": "execute_result"
    }
   ],
   "source": [
    "impliesTT = Equals(Implies(TRUE, TRUE), TRUE)"
   ]
  },
  {
   "cell_type": "code",
   "execution_count": 7,
   "metadata": {
    "collapsed": false,
    "deletable": true,
    "editable": true
   },
   "outputs": [
    {
     "data": {
      "text/html": [
       "<strong id=\"impliesFF\"><a href=\"_proofs_\\impliesFF.ipynb\" target=\"_blank\">impliesFF</a>:</strong> <a href=\"__pv_it\\e8f1efa0f115936f838b540915083c15b4f92d700\\expr.ipynb\" target=\"_blank\"><img src=\"__pv_it\\e8f1efa0f115936f838b540915083c15b4f92d700\\expr.png\" style=\"display:inline;vertical-align:middle;\" /></a><br>"
      ],
      "text/plain": [
       "impliesFF: (FALSE => FALSE) = TRUE"
      ]
     },
     "execution_count": 7,
     "metadata": {},
     "output_type": "execute_result"
    }
   ],
   "source": [
    "impliesFF = Equals(Implies(FALSE, FALSE), TRUE)"
   ]
  },
  {
   "cell_type": "code",
   "execution_count": 8,
   "metadata": {
    "collapsed": false,
    "deletable": true,
    "editable": true
   },
   "outputs": [
    {
     "data": {
      "text/html": [
       "<strong id=\"impliesFT\"><a href=\"_proofs_\\impliesFT.ipynb\" target=\"_blank\">impliesFT</a>:</strong> <a href=\"__pv_it\\59075835e83bd99509a4db52d93b25c72e58b1540\\expr.ipynb\" target=\"_blank\"><img src=\"__pv_it\\59075835e83bd99509a4db52d93b25c72e58b1540\\expr.png\" style=\"display:inline;vertical-align:middle;\" /></a><br>"
      ],
      "text/plain": [
       "impliesFT: (FALSE => TRUE) = TRUE"
      ]
     },
     "execution_count": 8,
     "metadata": {},
     "output_type": "execute_result"
    }
   ],
   "source": [
    "impliesFT = Equals(Implies(FALSE, TRUE), TRUE)"
   ]
  },
  {
   "cell_type": "code",
   "execution_count": 9,
   "metadata": {
    "collapsed": false,
    "deletable": true,
    "editable": true
   },
   "outputs": [
    {
     "data": {
      "text/html": [
       "<strong id=\"impliesTF\"><a href=\"_proofs_\\impliesTF.ipynb\" target=\"_blank\">impliesTF</a>:</strong> <a href=\"__pv_it\\d95f0b628f8cdfae31c42352940cb7d8eef74fa20\\expr.ipynb\" target=\"_blank\"><img src=\"__pv_it\\d95f0b628f8cdfae31c42352940cb7d8eef74fa20\\expr.png\" style=\"display:inline;vertical-align:middle;\" /></a><br>"
      ],
      "text/plain": [
       "impliesTF: (TRUE => FALSE) = FALSE"
      ]
     },
     "execution_count": 9,
     "metadata": {},
     "output_type": "execute_result"
    }
   ],
   "source": [
    "impliesTF = Equals(Implies(TRUE, FALSE), FALSE)"
   ]
  },
  {
   "cell_type": "code",
   "execution_count": 10,
   "metadata": {
    "collapsed": false,
    "deletable": true,
    "editable": true
   },
   "outputs": [
    {
     "data": {
      "text/html": [
       "<strong id=\"trueImpliesFalseNegated\"><a href=\"_proofs_\\trueImpliesFalseNegated.ipynb\" target=\"_blank\">trueImpliesFalseNegated</a>:</strong> <a href=\"__pv_it\\ddb28f9d8f5764ca031a17e0db2424c8abba04690\\expr.ipynb\" target=\"_blank\"><img src=\"__pv_it\\ddb28f9d8f5764ca031a17e0db2424c8abba04690\\expr.png\" style=\"display:inline;vertical-align:middle;\" /></a><br>"
      ],
      "text/plain": [
       "trueImpliesFalseNegated: not(TRUE => FALSE)"
      ]
     },
     "execution_count": 10,
     "metadata": {},
     "output_type": "execute_result"
    }
   ],
   "source": [
    "trueImpliesFalseNegated = Not(Implies(TRUE, FALSE))"
   ]
  },
  {
   "cell_type": "code",
   "execution_count": 11,
   "metadata": {
    "collapsed": false,
    "deletable": true,
    "editable": true
   },
   "outputs": [
    {
     "data": {
      "text/html": [
       "<strong id=\"contradictionElim\"><a href=\"_proofs_\\contradictionElim.ipynb\" target=\"_blank\">contradictionElim</a>:</strong> <a href=\"__pv_it\\456f460bb66a339d25d7bb4ba9c38cfdcd815be50\\expr.ipynb\" target=\"_blank\"><img src=\"__pv_it\\456f460bb66a339d25d7bb4ba9c38cfdcd815be50\\expr.png\" style=\"display:inline;vertical-align:middle;\" /></a><br>"
      ],
      "text/plain": [
       "contradictionElim: forall_{A in BOOLEANS | (not(A) => FALSE)} A"
      ]
     },
     "execution_count": 11,
     "metadata": {},
     "output_type": "execute_result"
    }
   ],
   "source": [
    "contradictionElim = Forall(A, A, domain=Booleans, conditions=[Implies(Not(A), FALSE)])"
   ]
  },
  {
   "cell_type": "code",
   "execution_count": 12,
   "metadata": {
    "collapsed": false,
    "deletable": true,
    "editable": true
   },
   "outputs": [
    {
     "data": {
      "text/html": [
       "<strong id=\"implicationTransitivity\"><a href=\"_proofs_\\implicationTransitivity.ipynb\" target=\"_blank\">implicationTransitivity</a>:</strong> <a href=\"__pv_it\\bc08d3312b0702801b3de9b71c6284b50c4b234e0\\expr.ipynb\" target=\"_blank\"><img src=\"__pv_it\\bc08d3312b0702801b3de9b71c6284b50c4b234e0\\expr.png\" style=\"display:inline;vertical-align:middle;\" /></a><br>"
      ],
      "text/plain": [
       "implicationTransitivity: forall_{A, B, C | (A => B),(B => C)} (A => C)"
      ]
     },
     "execution_count": 12,
     "metadata": {},
     "output_type": "execute_result"
    }
   ],
   "source": [
    "implicationTransitivity = Forall((A, B, C), Implies(A, C), conditions=[Implies(A, B), Implies(B, C)])"
   ]
  },
  {
   "cell_type": "code",
   "execution_count": 13,
   "metadata": {
    "collapsed": false,
    "deletable": true,
    "editable": true
   },
   "outputs": [
    {
     "data": {
      "text/html": [
       "<strong id=\"trueIffTrue\"><a href=\"_proofs_\\trueIffTrue.ipynb\" target=\"_blank\">trueIffTrue</a>:</strong> <a href=\"__pv_it\\8d581d2122482e345139ee6bd2dcaea9575bca550\\expr.ipynb\" target=\"_blank\"><img src=\"__pv_it\\8d581d2122482e345139ee6bd2dcaea9575bca550\\expr.png\" style=\"display:inline;vertical-align:middle;\" /></a><br>"
      ],
      "text/plain": [
       "trueIffTrue: TRUE <=> TRUE"
      ]
     },
     "execution_count": 13,
     "metadata": {},
     "output_type": "execute_result"
    }
   ],
   "source": [
    "trueIffTrue = Iff(TRUE, TRUE)"
   ]
  },
  {
   "cell_type": "code",
   "execution_count": 14,
   "metadata": {
    "collapsed": false,
    "deletable": true,
    "editable": true
   },
   "outputs": [
    {
     "data": {
      "text/html": [
       "<strong id=\"iffTT\"><a href=\"_proofs_\\iffTT.ipynb\" target=\"_blank\">iffTT</a>:</strong> <a href=\"__pv_it\\6c068db8f298b0ba715b135b443c8e45124bdbc30\\expr.ipynb\" target=\"_blank\"><img src=\"__pv_it\\6c068db8f298b0ba715b135b443c8e45124bdbc30\\expr.png\" style=\"display:inline;vertical-align:middle;\" /></a><br>"
      ],
      "text/plain": [
       "iffTT: (TRUE <=> TRUE) = TRUE"
      ]
     },
     "execution_count": 14,
     "metadata": {},
     "output_type": "execute_result"
    }
   ],
   "source": [
    "iffTT = Equals(Iff(TRUE, TRUE), TRUE)"
   ]
  },
  {
   "cell_type": "code",
   "execution_count": 15,
   "metadata": {
    "collapsed": false,
    "deletable": true,
    "editable": true
   },
   "outputs": [
    {
     "data": {
      "text/html": [
       "<strong id=\"falseIffFalse\"><a href=\"_proofs_\\falseIffFalse.ipynb\" target=\"_blank\">falseIffFalse</a>:</strong> <a href=\"__pv_it\\7e5d18e3fe3ae2bb9241353eda43d9a4e680253d0\\expr.ipynb\" target=\"_blank\"><img src=\"__pv_it\\7e5d18e3fe3ae2bb9241353eda43d9a4e680253d0\\expr.png\" style=\"display:inline;vertical-align:middle;\" /></a><br>"
      ],
      "text/plain": [
       "falseIffFalse: FALSE <=> FALSE"
      ]
     },
     "execution_count": 15,
     "metadata": {},
     "output_type": "execute_result"
    }
   ],
   "source": [
    "falseIffFalse = Iff(FALSE, FALSE)"
   ]
  },
  {
   "cell_type": "code",
   "execution_count": 16,
   "metadata": {
    "collapsed": false,
    "deletable": true,
    "editable": true
   },
   "outputs": [
    {
     "data": {
      "text/html": [
       "<strong id=\"iffFF\"><a href=\"_proofs_\\iffFF.ipynb\" target=\"_blank\">iffFF</a>:</strong> <a href=\"__pv_it\\ffbd665f895b7097676a15da85f00e4fd77e00fe0\\expr.ipynb\" target=\"_blank\"><img src=\"__pv_it\\ffbd665f895b7097676a15da85f00e4fd77e00fe0\\expr.png\" style=\"display:inline;vertical-align:middle;\" /></a><br>"
      ],
      "text/plain": [
       "iffFF: (FALSE <=> FALSE) = TRUE"
      ]
     },
     "execution_count": 16,
     "metadata": {},
     "output_type": "execute_result"
    }
   ],
   "source": [
    "iffFF = Equals(Iff(FALSE, FALSE), TRUE)"
   ]
  },
  {
   "cell_type": "code",
   "execution_count": 17,
   "metadata": {
    "collapsed": false,
    "deletable": true,
    "editable": true
   },
   "outputs": [
    {
     "data": {
      "text/html": [
       "<strong id=\"trueIffFalseNegated\"><a href=\"_proofs_\\trueIffFalseNegated.ipynb\" target=\"_blank\">trueIffFalseNegated</a>:</strong> <a href=\"__pv_it\\04eb693148ef8384d08654bb2284553263b4a0c20\\expr.ipynb\" target=\"_blank\"><img src=\"__pv_it\\04eb693148ef8384d08654bb2284553263b4a0c20\\expr.png\" style=\"display:inline;vertical-align:middle;\" /></a><br>"
      ],
      "text/plain": [
       "trueIffFalseNegated: not(TRUE <=> FALSE)"
      ]
     },
     "execution_count": 17,
     "metadata": {},
     "output_type": "execute_result"
    }
   ],
   "source": [
    "trueIffFalseNegated = Not(Iff(TRUE, FALSE))"
   ]
  },
  {
   "cell_type": "code",
   "execution_count": 18,
   "metadata": {
    "collapsed": false,
    "deletable": true,
    "editable": true
   },
   "outputs": [
    {
     "data": {
      "text/html": [
       "<strong id=\"iffTF\"><a href=\"_proofs_\\iffTF.ipynb\" target=\"_blank\">iffTF</a>:</strong> <a href=\"__pv_it\\b03415328cff2736ac21fa1fbd9ad9105d45a1ee0\\expr.ipynb\" target=\"_blank\"><img src=\"__pv_it\\b03415328cff2736ac21fa1fbd9ad9105d45a1ee0\\expr.png\" style=\"display:inline;vertical-align:middle;\" /></a><br>"
      ],
      "text/plain": [
       "iffTF: (TRUE <=> FALSE) = FALSE"
      ]
     },
     "execution_count": 18,
     "metadata": {},
     "output_type": "execute_result"
    }
   ],
   "source": [
    "iffTF = Equals(Iff(TRUE, FALSE), FALSE)"
   ]
  },
  {
   "cell_type": "code",
   "execution_count": 19,
   "metadata": {
    "collapsed": false,
    "deletable": true,
    "editable": true
   },
   "outputs": [
    {
     "data": {
      "text/html": [
       "<strong id=\"falseIffTrueNegated\"><a href=\"_proofs_\\falseIffTrueNegated.ipynb\" target=\"_blank\">falseIffTrueNegated</a>:</strong> <a href=\"__pv_it\\3ce142d04f1b163f99a7bab1a4b5694f5db595910\\expr.ipynb\" target=\"_blank\"><img src=\"__pv_it\\3ce142d04f1b163f99a7bab1a4b5694f5db595910\\expr.png\" style=\"display:inline;vertical-align:middle;\" /></a><br>"
      ],
      "text/plain": [
       "falseIffTrueNegated: not(FALSE <=> TRUE)"
      ]
     },
     "execution_count": 19,
     "metadata": {},
     "output_type": "execute_result"
    }
   ],
   "source": [
    "falseIffTrueNegated = Not(Iff(FALSE, TRUE))"
   ]
  },
  {
   "cell_type": "code",
   "execution_count": 20,
   "metadata": {
    "collapsed": false,
    "deletable": true,
    "editable": true
   },
   "outputs": [
    {
     "data": {
      "text/html": [
       "<strong id=\"iffFT\"><a href=\"_proofs_\\iffFT.ipynb\" target=\"_blank\">iffFT</a>:</strong> <a href=\"__pv_it\\3461991bd6ecf30903de20cd501a68ab55f44ace0\\expr.ipynb\" target=\"_blank\"><img src=\"__pv_it\\3461991bd6ecf30903de20cd501a68ab55f44ace0\\expr.png\" style=\"display:inline;vertical-align:middle;\" /></a><br>"
      ],
      "text/plain": [
       "iffFT: (FALSE <=> TRUE) = FALSE"
      ]
     },
     "execution_count": 20,
     "metadata": {},
     "output_type": "execute_result"
    }
   ],
   "source": [
    "iffFT = Equals(Iff(FALSE, TRUE), FALSE)"
   ]
  },
  {
   "cell_type": "code",
   "execution_count": 21,
   "metadata": {
    "collapsed": false,
    "deletable": true,
    "editable": true
   },
   "outputs": [
    {
     "data": {
      "text/html": [
       "<strong id=\"iffImpliesRight\"><a href=\"_proofs_\\iffImpliesRight.ipynb\" target=\"_blank\">iffImpliesRight</a>:</strong> <a href=\"__pv_it\\626ed5b935d824c0776776f2835a9893a6fe13c30\\expr.ipynb\" target=\"_blank\"><img src=\"__pv_it\\626ed5b935d824c0776776f2835a9893a6fe13c30\\expr.png\" style=\"display:inline;vertical-align:middle;\" /></a><br>"
      ],
      "text/plain": [
       "iffImpliesRight: forall_{A, B | (A <=> B)} (A => B)"
      ]
     },
     "execution_count": 21,
     "metadata": {},
     "output_type": "execute_result"
    }
   ],
   "source": [
    "iffImpliesRight = Forall((A, B), Implies(A, B), conditions=[Iff(A, B)])"
   ]
  },
  {
   "cell_type": "code",
   "execution_count": 22,
   "metadata": {
    "collapsed": false,
    "deletable": true,
    "editable": true
   },
   "outputs": [
    {
     "data": {
      "text/html": [
       "<strong id=\"iffImpliesLeft\"><a href=\"_proofs_\\iffImpliesLeft.ipynb\" target=\"_blank\">iffImpliesLeft</a>:</strong> <a href=\"__pv_it\\d38e577373f2fcc319a1863a1754230f0a77d3d10\\expr.ipynb\" target=\"_blank\"><img src=\"__pv_it\\d38e577373f2fcc319a1863a1754230f0a77d3d10\\expr.png\" style=\"display:inline;vertical-align:middle;\" /></a><br>"
      ],
      "text/plain": [
       "iffImpliesLeft: forall_{A, B | (A <=> B)} (B => A)"
      ]
     },
     "execution_count": 22,
     "metadata": {},
     "output_type": "execute_result"
    }
   ],
   "source": [
    "iffImpliesLeft = Forall((A, B), Implies(B, A), conditions=[Iff(A, B)])"
   ]
  },
  {
   "cell_type": "code",
   "execution_count": 23,
   "metadata": {
    "collapsed": false,
    "deletable": true,
    "editable": true
   },
   "outputs": [
    {
     "data": {
      "text/html": [
       "<strong id=\"rightFromIff\"><a href=\"_proofs_\\rightFromIff.ipynb\" target=\"_blank\">rightFromIff</a>:</strong> <a href=\"__pv_it\\b5b3b85771e90149e616ed84d165f403a34e101f0\\expr.ipynb\" target=\"_blank\"><img src=\"__pv_it\\b5b3b85771e90149e616ed84d165f403a34e101f0\\expr.png\" style=\"display:inline;vertical-align:middle;\" /></a><br>"
      ],
      "text/plain": [
       "rightFromIff: forall_{A, B | A,(A <=> B)} B"
      ]
     },
     "execution_count": 23,
     "metadata": {},
     "output_type": "execute_result"
    }
   ],
   "source": [
    "rightFromIff = Forall((A, B), B, conditions=[A, Iff(A, B)])"
   ]
  },
  {
   "cell_type": "code",
   "execution_count": 24,
   "metadata": {
    "collapsed": false,
    "deletable": true,
    "editable": true
   },
   "outputs": [
    {
     "data": {
      "text/html": [
       "<strong id=\"leftFromIff\"><a href=\"_proofs_\\leftFromIff.ipynb\" target=\"_blank\">leftFromIff</a>:</strong> <a href=\"__pv_it\\68ab413a595b1af69d2c75a8ae4224cd62b98c3f0\\expr.ipynb\" target=\"_blank\"><img src=\"__pv_it\\68ab413a595b1af69d2c75a8ae4224cd62b98c3f0\\expr.png\" style=\"display:inline;vertical-align:middle;\" /></a><br>"
      ],
      "text/plain": [
       "leftFromIff: forall_{A, B | (A <=> B),B} A"
      ]
     },
     "execution_count": 24,
     "metadata": {},
     "output_type": "execute_result"
    }
   ],
   "source": [
    "leftFromIff = Forall((A, B), A, conditions=[Iff(A, B), B])"
   ]
  },
  {
   "cell_type": "code",
   "execution_count": 25,
   "metadata": {
    "collapsed": false,
    "deletable": true,
    "editable": true
   },
   "outputs": [
    {
     "data": {
      "text/html": [
       "<strong id=\"iffSymmetry\"><a href=\"_proofs_\\iffSymmetry.ipynb\" target=\"_blank\">iffSymmetry</a>:</strong> <a href=\"__pv_it\\9cbb24b50fea7406e5fbc55b6c9c2c8ce71cb9440\\expr.ipynb\" target=\"_blank\"><img src=\"__pv_it\\9cbb24b50fea7406e5fbc55b6c9c2c8ce71cb9440\\expr.png\" style=\"display:inline;vertical-align:middle;\" /></a><br>"
      ],
      "text/plain": [
       "iffSymmetry: forall_{A, B | (A <=> B)} (B <=> A)"
      ]
     },
     "execution_count": 25,
     "metadata": {},
     "output_type": "execute_result"
    }
   ],
   "source": [
    "iffSymmetry = Forall((A, B), Iff(B, A), conditions=[Iff(A, B)])"
   ]
  },
  {
   "cell_type": "code",
   "execution_count": 26,
   "metadata": {
    "collapsed": false,
    "deletable": true,
    "editable": true
   },
   "outputs": [
    {
     "data": {
      "text/html": [
       "<strong id=\"iffTransitivity\"><a href=\"_proofs_\\iffTransitivity.ipynb\" target=\"_blank\">iffTransitivity</a>:</strong> <a href=\"__pv_it\\07dbb6c6664ccfc3caeca35d228c913d01d8af670\\expr.ipynb\" target=\"_blank\"><img src=\"__pv_it\\07dbb6c6664ccfc3caeca35d228c913d01d8af670\\expr.png\" style=\"display:inline;vertical-align:middle;\" /></a><br>"
      ],
      "text/plain": [
       "iffTransitivity: forall_{A, B, C | (A <=> B),(B <=> C)} (A <=> C)"
      ]
     },
     "execution_count": 26,
     "metadata": {},
     "output_type": "execute_result"
    }
   ],
   "source": [
    "iffTransitivity = Forall((A, B, C), Iff(A, C), conditions=[Iff(A, B), Iff(B, C)])"
   ]
  },
  {
   "cell_type": "code",
   "execution_count": 27,
   "metadata": {
    "collapsed": false,
    "deletable": true,
    "editable": true
   },
   "outputs": [
    {
     "data": {
      "text/html": [
       "<strong id=\"affirmViaContradiction\"><a href=\"_proofs_\\affirmViaContradiction.ipynb\" target=\"_blank\">affirmViaContradiction</a>:</strong> <a href=\"__pv_it\\456f460bb66a339d25d7bb4ba9c38cfdcd815be50\\expr.ipynb\" target=\"_blank\"><img src=\"__pv_it\\456f460bb66a339d25d7bb4ba9c38cfdcd815be50\\expr.png\" style=\"display:inline;vertical-align:middle;\" /></a><br>"
      ],
      "text/plain": [
       "affirmViaContradiction: forall_{A in BOOLEANS | (not(A) => FALSE)} A"
      ]
     },
     "execution_count": 27,
     "metadata": {},
     "output_type": "execute_result"
    }
   ],
   "source": [
    "affirmViaContradiction = Forall(A, A, domain=Booleans, conditions=[Implies(Not(A), FALSE)])"
   ]
  },
  {
   "cell_type": "code",
   "execution_count": 28,
   "metadata": {
    "collapsed": false,
    "deletable": true,
    "editable": true
   },
   "outputs": [
    {
     "data": {
      "text/html": [
       "<strong id=\"modusTollensAffirmation\"><a href=\"_proofs_\\modusTollensAffirmation.ipynb\" target=\"_blank\">modusTollensAffirmation</a>:</strong> <a href=\"__pv_it\\cf10149f48d782c314b1ae03a6992176ac737c290\\expr.ipynb\" target=\"_blank\"><img src=\"__pv_it\\cf10149f48d782c314b1ae03a6992176ac737c290\\expr.png\" style=\"display:inline;vertical-align:middle;\" /></a><br>"
      ],
      "text/plain": [
       "modusTollensAffirmation: forall_{A in BOOLEANS} [forall_{B | (not(A) => B),not(B)} A]"
      ]
     },
     "execution_count": 28,
     "metadata": {},
     "output_type": "execute_result"
    }
   ],
   "source": [
    "modusTollensAffirmation = Forall(A, Forall(B, A, conditions=[Implies(Not(A), B), Not(B)]), domain=Booleans)"
   ]
  },
  {
   "cell_type": "code",
   "execution_count": 29,
   "metadata": {
    "collapsed": false,
    "deletable": true,
    "editable": true
   },
   "outputs": [
    {
     "data": {
      "text/html": [
       "<strong id=\"modusTollensDenial\"><a href=\"_proofs_\\modusTollensDenial.ipynb\" target=\"_blank\">modusTollensDenial</a>:</strong> <a href=\"__pv_it\\63a905ddcb3bf0b025bc9af248aecf6d8c8ae36b0\\expr.ipynb\" target=\"_blank\"><img src=\"__pv_it\\63a905ddcb3bf0b025bc9af248aecf6d8c8ae36b0\\expr.png\" style=\"display:inline;vertical-align:middle;\" /></a><br>"
      ],
      "text/plain": [
       "modusTollensDenial: forall_{A in BOOLEANS} [forall_{B | (A => B),not(B)} not(A)]"
      ]
     },
     "execution_count": 29,
     "metadata": {},
     "output_type": "execute_result"
    }
   ],
   "source": [
    "modusTollensDenial = Forall(A, Forall(B, Not(A), conditions=[Implies(A, B), Not(B)]), domain=Booleans)"
   ]
  },
  {
   "cell_type": "code",
   "execution_count": 30,
   "metadata": {
    "collapsed": true,
    "deletable": true,
    "editable": true
   },
   "outputs": [],
   "source": []
  },
  {
   "cell_type": "code",
   "execution_count": 30,
   "metadata": {
    "collapsed": false,
    "deletable": true,
    "editable": true
   },
   "outputs": [
    {
     "data": {
      "text/html": [
       "<strong id=\"denyViaContradiction\"><a href=\"_proofs_\\denyViaContradiction.ipynb\" target=\"_blank\">denyViaContradiction</a>:</strong> <a href=\"__pv_it\\b7a7492186b4d615155c5b0883b5fe153722b7600\\expr.ipynb\" target=\"_blank\"><img src=\"__pv_it\\b7a7492186b4d615155c5b0883b5fe153722b7600\\expr.png\" style=\"display:inline;vertical-align:middle;\" /></a><br>"
      ],
      "text/plain": [
       "denyViaContradiction: forall_{A in BOOLEANS | (A => FALSE)} not(A)"
      ]
     },
     "execution_count": 30,
     "metadata": {},
     "output_type": "execute_result"
    }
   ],
   "source": [
    "denyViaContradiction = Forall(A, Not(A), domain=Booleans, conditions=[Implies(A, FALSE)])"
   ]
  },
  {
   "cell_type": "code",
   "execution_count": 31,
   "metadata": {
    "collapsed": true,
    "deletable": true,
    "editable": true
   },
   "outputs": [],
   "source": []
  },
  {
   "cell_type": "code",
   "execution_count": 31,
   "metadata": {
    "collapsed": false,
    "deletable": true,
    "editable": true
   },
   "outputs": [
    {
     "data": {
      "text/html": [
       "<strong id=\"fromContraposition\"><a href=\"_proofs_\\fromContraposition.ipynb\" target=\"_blank\">fromContraposition</a>:</strong> <a href=\"__pv_it\\200f86924e2dabf98a658f8061ef596299eb29c20\\expr.ipynb\" target=\"_blank\"><img src=\"__pv_it\\200f86924e2dabf98a658f8061ef596299eb29c20\\expr.png\" style=\"display:inline;vertical-align:middle;\" /></a><br>"
      ],
      "text/plain": [
       "fromContraposition: forall_{A, B | (not(B) => not(A)),(B in BOOLEANS)} (A => B)"
      ]
     },
     "execution_count": 31,
     "metadata": {},
     "output_type": "execute_result"
    }
   ],
   "source": [
    "fromContraposition = Forall((A, B), Implies(A, B), conditions=[Implies(Not(B), Not(A)), inBool(B)])"
   ]
  },
  {
   "cell_type": "code",
   "execution_count": 32,
   "metadata": {
    "collapsed": false,
    "deletable": true,
    "editable": true
   },
   "outputs": [
    {
     "data": {
      "text/html": [
       "<strong id=\"toContraposition\"><a href=\"_proofs_\\toContraposition.ipynb\" target=\"_blank\">toContraposition</a>:</strong> <a href=\"__pv_it\\50fe8ae480539f57e6369dd1d4aa6270af8252f60\\expr.ipynb\" target=\"_blank\"><img src=\"__pv_it\\50fe8ae480539f57e6369dd1d4aa6270af8252f60\\expr.png\" style=\"display:inline;vertical-align:middle;\" /></a><br>"
      ],
      "text/plain": [
       "toContraposition: forall_{A, B | (A => B),(A in BOOLEANS)} (not(B) => not(A))"
      ]
     },
     "execution_count": 32,
     "metadata": {},
     "output_type": "execute_result"
    }
   ],
   "source": [
    "toContraposition = Forall((A, B), Implies(Not(B), Not(A)), conditions=[Implies(A, B), inBool(A)])"
   ]
  },
  {
   "cell_type": "code",
   "execution_count": 33,
   "metadata": {
    "collapsed": true,
    "deletable": true,
    "editable": true
   },
   "outputs": [],
   "source": []
  },
  {
   "cell_type": "code",
   "execution_count": 33,
   "metadata": {
    "collapsed": true,
    "deletable": true,
    "editable": true
   },
   "outputs": [],
   "source": []
  },
  {
   "cell_type": "code",
   "execution_count": 33,
   "metadata": {
    "collapsed": false,
    "deletable": true,
    "editable": true
   },
   "outputs": [
    {
     "data": {
      "text/html": [
       "<strong id=\"transpositionFromNegated\"><a href=\"_proofs_\\transpositionFromNegated.ipynb\" target=\"_blank\">transpositionFromNegated</a>:</strong> <a href=\"__pv_it\\200f86924e2dabf98a658f8061ef596299eb29c20\\expr.ipynb\" target=\"_blank\"><img src=\"__pv_it\\200f86924e2dabf98a658f8061ef596299eb29c20\\expr.png\" style=\"display:inline;vertical-align:middle;\" /></a><br>"
      ],
      "text/plain": [
       "transpositionFromNegated: forall_{A, B | (not(B) => not(A)),(B in BOOLEANS)} (A => B)"
      ]
     },
     "execution_count": 33,
     "metadata": {},
     "output_type": "execute_result"
    }
   ],
   "source": [
    "transpositionFromNegated = Forall((A, B), Implies(A, B), conditions=[Implies(Not(B), Not(A)), inBool(B)])"
   ]
  },
  {
   "cell_type": "code",
   "execution_count": 34,
   "metadata": {
    "collapsed": true,
    "deletable": true,
    "editable": true
   },
   "outputs": [],
   "source": []
  },
  {
   "cell_type": "code",
   "execution_count": 34,
   "metadata": {
    "collapsed": false,
    "deletable": true,
    "editable": true
   },
   "outputs": [
    {
     "data": {
      "text/html": [
       "<strong id=\"doubleNegateConclusion\"><a href=\"_proofs_\\doubleNegateConclusion.ipynb\" target=\"_blank\">doubleNegateConclusion</a>:</strong> <a href=\"__pv_it\\f7f6e22eebc92ef2d49b28c3907cb76e847f3a610\\expr.ipynb\" target=\"_blank\"><img src=\"__pv_it\\f7f6e22eebc92ef2d49b28c3907cb76e847f3a610\\expr.png\" style=\"display:inline;vertical-align:middle;\" /></a><br>"
      ],
      "text/plain": [
       "doubleNegateConclusion: forall_{A, B | (A => B),(B in BOOLEANS)} (A => not(not(B)))"
      ]
     },
     "execution_count": 34,
     "metadata": {},
     "output_type": "execute_result"
    }
   ],
   "source": [
    "doubleNegateConclusion = Forall((A, B), Implies(A, Not(Not(B))), conditions=[Implies(A, B), inBool(B)])"
   ]
  },
  {
   "cell_type": "code",
   "execution_count": 35,
   "metadata": {
    "collapsed": false,
    "deletable": true,
    "editable": true
   },
   "outputs": [
    {
     "data": {
      "text/html": [
       "<strong id=\"transpositionFromNegatedHypothesis\"><a href=\"_proofs_\\transpositionFromNegatedHypothesis.ipynb\" target=\"_blank\">transpositionFromNegatedHypothesis</a>:</strong> <a href=\"__pv_it\\68f9c9e4dccb6c073cc793f6778c2ff7923732cf0\\expr.ipynb\" target=\"_blank\"><img src=\"__pv_it\\68f9c9e4dccb6c073cc793f6778c2ff7923732cf0\\expr.png\" style=\"display:inline;vertical-align:middle;\" /></a><br>"
      ],
      "text/plain": [
       "transpositionFromNegatedHypothesis: forall_{A, B in BOOLEANS} ((not(B) => A) => (not(A) => B))"
      ]
     },
     "execution_count": 35,
     "metadata": {},
     "output_type": "execute_result"
    }
   ],
   "source": [
    "transpositionFromNegatedHypothesis = Forall((A, B), Implies(Implies(Not(B), A), Implies(Not(A), B)), domain=Booleans)"
   ]
  },
  {
   "cell_type": "code",
   "execution_count": 36,
   "metadata": {
    "collapsed": false,
    "deletable": true,
    "editable": true
   },
   "outputs": [
    {
     "data": {
      "text/html": [
       "<strong id=\"transpositionFromNegatedConclusion\"><a href=\"_proofs_\\transpositionFromNegatedConclusion.ipynb\" target=\"_blank\">transpositionFromNegatedConclusion</a>:</strong> <a href=\"__pv_it\\199212066da82be445fe29197b703bfd515603b00\\expr.ipynb\" target=\"_blank\"><img src=\"__pv_it\\199212066da82be445fe29197b703bfd515603b00\\expr.png\" style=\"display:inline;vertical-align:middle;\" /></a><br>"
      ],
      "text/plain": [
       "transpositionFromNegatedConclusion: forall_{A, B | (B in BOOLEANS)} ((B => not(A)) => (A => not(B)))"
      ]
     },
     "execution_count": 36,
     "metadata": {},
     "output_type": "execute_result"
    }
   ],
   "source": [
    "transpositionFromNegatedConclusion = Forall((A, B), Implies(Implies(B, Not(A)), Implies(A, Not(B))), conditions=inBool(B))"
   ]
  },
  {
   "cell_type": "code",
   "execution_count": 37,
   "metadata": {
    "collapsed": false,
    "deletable": true,
    "editable": true
   },
   "outputs": [
    {
     "data": {
      "text/html": [
       "<strong id=\"transpositionToNegated\"><a href=\"_proofs_\\transpositionToNegated.ipynb\" target=\"_blank\">transpositionToNegated</a>:</strong> <a href=\"__pv_it\\c93c65f8967616f381a78232dac3d49b435ea0da0\\expr.ipynb\" target=\"_blank\"><img src=\"__pv_it\\c93c65f8967616f381a78232dac3d49b435ea0da0\\expr.png\" style=\"display:inline;vertical-align:middle;\" /></a><br>"
      ],
      "text/plain": [
       "transpositionToNegated: forall_{A, B in BOOLEANS} ((B => A) => (not(A) => not(B)))"
      ]
     },
     "execution_count": 37,
     "metadata": {},
     "output_type": "execute_result"
    }
   ],
   "source": [
    "transpositionToNegated = Forall((A, B), Implies(Implies(B, A), Implies(Not(A), Not(B))), domain=Booleans)"
   ]
  },
  {
   "cell_type": "code",
   "execution_count": 38,
   "metadata": {
    "collapsed": false,
    "deletable": true,
    "editable": true
   },
   "outputs": [
    {
     "data": {
      "text/html": [
       "<strong id=\"iffOverBoolImplEq\"><a href=\"_proofs_\\iffOverBoolImplEq.ipynb\" target=\"_blank\">iffOverBoolImplEq</a>:</strong> <a href=\"__pv_it\\ed77b23932636da62ff2bae07350b6eea12afb5c0\\expr.ipynb\" target=\"_blank\"><img src=\"__pv_it\\ed77b23932636da62ff2bae07350b6eea12afb5c0\\expr.png\" style=\"display:inline;vertical-align:middle;\" /></a><br>"
      ],
      "text/plain": [
       "iffOverBoolImplEq: forall_{A, B in BOOLEANS | (A <=> B)} (A = B)"
      ]
     },
     "execution_count": 38,
     "metadata": {},
     "output_type": "execute_result"
    }
   ],
   "source": [
    "iffOverBoolImplEq = Forall((A, B), Equals(A, B), conditions=[Iff(A, B)], domain=Booleans)"
   ]
  },
  {
   "cell_type": "code",
   "execution_count": 39,
   "metadata": {
    "collapsed": false,
    "deletable": true,
    "editable": true
   },
   "outputs": [
    {
     "data": {
      "text/html": [
       "<strong id=\"implicationClosure\"><a href=\"_proofs_\\implicationClosure.ipynb\" target=\"_blank\">implicationClosure</a>:</strong> <a href=\"__pv_it\\2a25a87f00523d50c5851d8bb1046d6f0f60c4fe0\\expr.ipynb\" target=\"_blank\"><img src=\"__pv_it\\2a25a87f00523d50c5851d8bb1046d6f0f60c4fe0\\expr.png\" style=\"display:inline;vertical-align:middle;\" /></a><br>"
      ],
      "text/plain": [
       "implicationClosure: forall_{A, B in BOOLEANS} ((A => B) in BOOLEANS)"
      ]
     },
     "execution_count": 39,
     "metadata": {},
     "output_type": "execute_result"
    }
   ],
   "source": [
    "implicationClosure = Forall((A, B), inBool(Implies(A, B)), domain=Booleans)"
   ]
  },
  {
   "cell_type": "code",
   "execution_count": 40,
   "metadata": {
    "collapsed": false,
    "deletable": true,
    "editable": true
   },
   "outputs": [
    {
     "data": {
      "text/html": [
       "<strong id=\"iffClosure\"><a href=\"_proofs_\\iffClosure.ipynb\" target=\"_blank\">iffClosure</a>:</strong> <a href=\"__pv_it\\5e245b4d453015befa4e4f4aef4730f4271769f40\\expr.ipynb\" target=\"_blank\"><img src=\"__pv_it\\5e245b4d453015befa4e4f4aef4730f4271769f40\\expr.png\" style=\"display:inline;vertical-align:middle;\" /></a><br>"
      ],
      "text/plain": [
       "iffClosure: forall_{A, B in BOOLEANS} ((A <=> B) in BOOLEANS)"
      ]
     },
     "execution_count": 40,
     "metadata": {},
     "output_type": "execute_result"
    }
   ],
   "source": [
    "iffClosure = Forall((A, B), inBool(Iff(A, B)), domain=Booleans)"
   ]
  },
  {
   "cell_type": "code",
   "execution_count": 41,
   "metadata": {
    "collapsed": false,
    "deletable": true,
    "editable": true
   },
   "outputs": [
    {
     "name": "stdout",
     "output_type": "stream",
     "text": [
      "Theorems may be imported from autogenerated _theorems_.py\n"
     ]
    }
   ],
   "source": [
    "%end_theorems"
   ]
  },
  {
   "cell_type": "code",
   "execution_count": 42,
   "metadata": {
    "collapsed": true,
    "deletable": true,
    "editable": true
   },
   "outputs": [],
   "source": []
  }
 ],
 "metadata": {
  "kernelspec": {
   "display_name": "Python 2",
   "language": "python",
   "name": "python2"
  },
  "language_info": {
   "codemirror_mode": {
    "name": "ipython",
    "version": 2
   },
   "file_extension": ".py",
   "mimetype": "text/x-python",
   "name": "python",
   "nbconvert_exporter": "python",
   "pygments_lexer": "ipython2",
   "version": "2.7.11"
  }
 },
 "nbformat": 4,
 "nbformat_minor": 0
}
