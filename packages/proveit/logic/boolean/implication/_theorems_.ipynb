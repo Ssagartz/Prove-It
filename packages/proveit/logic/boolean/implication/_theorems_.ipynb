{
 "cells": [
  {
   "cell_type": "markdown",
   "metadata": {
    "collapsed": true,
    "deletable": true,
    "editable": true
   },
   "source": [
    "Theorems for context <a href=\"_context_.ipynb\" class=\"ProveItLink\">proveit.logic.boolean.implication</a>\n",
    "========"
   ]
  },
  {
   "cell_type": "code",
   "execution_count": 1,
   "metadata": {
    "collapsed": false,
    "deletable": true,
    "editable": true
   },
   "outputs": [
    {
     "name": "stdout",
     "output_type": "stream",
     "text": [
      "proveit.logic.boolean.negation __path__\n",
      "proveit.logic.boolean.negation notFalse\n",
      "|= [not](FALSE)\n",
      "proveit.logic.boolean.negation __path__\n",
      "proveit.logic.boolean.negation untrueFromNegation\n",
      "proveit.logic.equality __path__\n",
      "proveit.logic.equality notEqualsSymmetry\n",
      "proveit.logic.equality __path__\n",
      "proveit.logic.equality notEqualsSymmetry\n",
      "proveit.logic.boolean __path__\n",
      "proveit.logic.boolean fromNotFalse\n",
      "proveit.logic.equality __path__\n",
      "proveit.logic.equality unfoldNotEquals\n",
      "|= [not](TRUE = FALSE)\n",
      "proveit.logic.boolean.negation __path__\n",
      "proveit.logic.boolean.negation negationContradiction\n",
      "proveit.logic.equality __path__\n",
      "proveit.logic.equality foldNotEquals\n",
      "proveit.logic.boolean.negation __path__\n",
      "proveit.logic.boolean.negation fromNegatedFalsification\n",
      "proveit.logic.boolean __path__\n",
      "proveit.logic.boolean unfoldForallOverBool\n",
      "proveit.logic.equality __path__\n",
      "proveit.logic.equality unfoldNotEquals\n",
      "|= [not](FALSE = TRUE)\n",
      "proveit.logic.boolean.negation __path__\n",
      "proveit.logic.boolean.negation negationContradiction\n",
      "proveit.logic.equality __path__\n",
      "proveit.logic.equality foldNotEquals\n",
      "proveit.logic.boolean.negation __path__\n",
      "proveit.logic.boolean.negation negationContradiction\n",
      "proveit.logic.boolean.negation notF\n",
      "proveit.logic.equality __path__\n",
      "proveit.logic.equality equalsReversal\n",
      "proveit.logic.equality __path__\n",
      "proveit.logic.equality equalsReversal\n",
      "proveit.logic.boolean.negation notT\n",
      "proveit.logic.equality __path__\n",
      "proveit.logic.equality equalsReversal\n",
      "proveit.logic.equality __path__\n",
      "proveit.logic.equality equalsReversal\n",
      "proveit.logic.equality __path__\n",
      "proveit.logic.equality contradictionViaFalsification\n",
      "proveit.logic.boolean.negation __path__\n",
      "proveit.logic.boolean.negation toDoubleNegation\n",
      "|= [not]([not](TRUE))\n",
      "proveit.logic.boolean.negation __path__\n",
      "proveit.logic.boolean.negation untrueFromNegation\n",
      "proveit.logic.equality __path__\n",
      "proveit.logic.equality notEqualsSymmetry\n",
      "proveit.logic.equality __path__\n",
      "proveit.logic.equality notEqualsSymmetry\n",
      "proveit.logic.equality __path__\n",
      "proveit.logic.equality unfoldNotEquals\n",
      "|= [not](TRUE = [not](TRUE))\n",
      "proveit.logic.boolean.negation __path__\n",
      "proveit.logic.boolean.negation negationContradiction\n",
      "proveit.logic.equality __path__\n",
      "proveit.logic.equality foldNotEquals\n",
      "proveit.logic.equality __path__\n",
      "proveit.logic.equality unfoldNotEquals\n",
      "|= [not]([not](TRUE) = TRUE)\n",
      "proveit.logic.boolean.negation __path__\n",
      "proveit.logic.boolean.negation negationContradiction\n",
      "proveit.logic.equality __path__\n",
      "proveit.logic.equality foldNotEquals\n",
      "proveit.logic.boolean.negation __path__\n",
      "proveit.logic.boolean.negation fromDoubleNegation\n",
      "proveit.logic.boolean.negation __path__\n",
      "proveit.logic.boolean.negation negationContradiction\n",
      "proveit.logic.boolean.negation notTimpliesF\n",
      "proveit.logic.boolean.implication __path__\n",
      "proveit.logic.boolean.implication affirmViaContradiction\n",
      "proveit.logic.boolean.implication __path__\n",
      "proveit.logic.boolean.implication trueImpliesTrue\n",
      "Defining theorems for context 'proveit.logic.boolean.implication'\n",
      "Subsequent end-of-cell assignments will define theorems\n",
      "'%end theorems' will finalize the definitions\n"
     ]
    }
   ],
   "source": [
    "from proveit.logic import Equals, Implies, TRUE, FALSE, Iff, Forall, And, Not, inBool, Booleans\n",
    "from proveit._common_ import A, B, C\n",
    "%begin theorems"
   ]
  },
  {
   "cell_type": "code",
   "execution_count": 2,
   "metadata": {
    "collapsed": false,
    "deletable": true,
    "editable": true
   },
   "outputs": [
    {
     "data": {
      "text/html": [
       "<strong id=\"selfImplication\"><a class=\"ProveItLink\" href=\"_proofs_\\selfImplication.ipynb\">selfImplication</a>:</strong> <a class=\"ProveItLink\" href=\"__pv_it\\18ac28593bb77a9d7e51fc37c9b143afee5bcabd0\\expr.ipynb\"><img src=\"__pv_it\\18ac28593bb77a9d7e51fc37c9b143afee5bcabd0\\expr.png\" style=\"display:inline;vertical-align:middle;\" /></a><br>"
      ],
      "text/plain": [
       "selfImplication: forall_{A} (A => A)"
      ]
     },
     "execution_count": 2,
     "metadata": {},
     "output_type": "execute_result"
    }
   ],
   "source": [
    "selfImplication = Forall(A, Implies(A, A))"
   ]
  },
  {
   "cell_type": "code",
   "execution_count": 3,
   "metadata": {
    "collapsed": false,
    "deletable": true,
    "editable": true
   },
   "outputs": [
    {
     "data": {
      "text/html": [
       "<strong id=\"trueImpliesTrue\"><a class=\"ProveItLink\" href=\"_proofs_\\trueImpliesTrue.ipynb\">trueImpliesTrue</a>:</strong> <a class=\"ProveItLink\" href=\"__pv_it\\3e62e6b2d3a1f24fa4b8ae37e4b41f6d5fb8d36c0\\expr.ipynb\"><img src=\"__pv_it\\3e62e6b2d3a1f24fa4b8ae37e4b41f6d5fb8d36c0\\expr.png\" style=\"display:inline;vertical-align:middle;\" /></a><br>"
      ],
      "text/plain": [
       "trueImpliesTrue: TRUE => TRUE"
      ]
     },
     "execution_count": 3,
     "metadata": {},
     "output_type": "execute_result"
    }
   ],
   "source": [
    "trueImpliesTrue = Implies(TRUE, TRUE)"
   ]
  },
  {
   "cell_type": "code",
   "execution_count": 4,
   "metadata": {
    "collapsed": false,
    "deletable": true,
    "editable": true
   },
   "outputs": [
    {
     "data": {
      "text/html": [
       "<strong id=\"falseImpliesFalse\"><a class=\"ProveItLink\" href=\"_proofs_\\falseImpliesFalse.ipynb\">falseImpliesFalse</a>:</strong> <a class=\"ProveItLink\" href=\"__pv_it\\62ce320b5482b261eb869c379c38ac613e5dfe5c0\\expr.ipynb\"><img src=\"__pv_it\\62ce320b5482b261eb869c379c38ac613e5dfe5c0\\expr.png\" style=\"display:inline;vertical-align:middle;\" /></a><br>"
      ],
      "text/plain": [
       "falseImpliesFalse: FALSE => FALSE"
      ]
     },
     "execution_count": 4,
     "metadata": {},
     "output_type": "execute_result"
    }
   ],
   "source": [
    "falseImpliesFalse = Implies(FALSE, FALSE)"
   ]
  },
  {
   "cell_type": "code",
   "execution_count": 5,
   "metadata": {
    "collapsed": false,
    "deletable": true,
    "editable": true
   },
   "outputs": [
    {
     "data": {
      "text/html": [
       "<strong id=\"falseImpliesTrue\"><a class=\"ProveItLink\" href=\"_proofs_\\falseImpliesTrue.ipynb\">falseImpliesTrue</a>:</strong> <a class=\"ProveItLink\" href=\"__pv_it\\549b1b1740029cd080395ad73f1f39c6f761ee740\\expr.ipynb\"><img src=\"__pv_it\\549b1b1740029cd080395ad73f1f39c6f761ee740\\expr.png\" style=\"display:inline;vertical-align:middle;\" /></a><br>"
      ],
      "text/plain": [
       "falseImpliesTrue: FALSE => TRUE"
      ]
     },
     "execution_count": 5,
     "metadata": {},
     "output_type": "execute_result"
    }
   ],
   "source": [
    "falseImpliesTrue = Implies(FALSE, TRUE)"
   ]
  },
  {
   "cell_type": "code",
   "execution_count": 6,
   "metadata": {
    "collapsed": false,
    "deletable": true,
    "editable": true
   },
   "outputs": [
    {
     "data": {
      "text/html": [
       "<strong id=\"falseAntecedentImplication\"><a class=\"ProveItLink\" href=\"_proofs_\\falseAntecedentImplication.ipynb\">falseAntecedentImplication</a>:</strong> <a class=\"ProveItLink\" href=\"__pv_it\\bd14d4c6f6cc2f901db9efab16887879ad4381280\\expr.ipynb\"><img src=\"__pv_it\\bd14d4c6f6cc2f901db9efab16887879ad4381280\\expr.png\" style=\"display:inline;vertical-align:middle;\" /></a><br>"
      ],
      "text/plain": [
       "falseAntecedentImplication: forall_{A, B | [not](A)} (A => B)"
      ]
     },
     "execution_count": 6,
     "metadata": {},
     "output_type": "execute_result"
    }
   ],
   "source": [
    "falseAntecedentImplication = Forall((A, B), Implies(A, B), conditions=[Not(A)])"
   ]
  },
  {
   "cell_type": "code",
   "execution_count": 7,
   "metadata": {
    "collapsed": false,
    "deletable": true,
    "editable": true
   },
   "outputs": [
    {
     "data": {
      "text/html": [
       "<strong id=\"impliesTT\"><a class=\"ProveItLink\" href=\"_proofs_\\impliesTT.ipynb\">impliesTT</a>:</strong> <a class=\"ProveItLink\" href=\"__pv_it\\9308db4be97af4a7efde2053c2e07bb7f5a428b80\\expr.ipynb\"><img src=\"__pv_it\\9308db4be97af4a7efde2053c2e07bb7f5a428b80\\expr.png\" style=\"display:inline;vertical-align:middle;\" /></a><br>"
      ],
      "text/plain": [
       "impliesTT: (TRUE => TRUE) = TRUE"
      ]
     },
     "execution_count": 7,
     "metadata": {},
     "output_type": "execute_result"
    }
   ],
   "source": [
    "impliesTT = Equals(Implies(TRUE, TRUE), TRUE)"
   ]
  },
  {
   "cell_type": "code",
   "execution_count": 8,
   "metadata": {
    "collapsed": false,
    "deletable": true,
    "editable": true
   },
   "outputs": [
    {
     "data": {
      "text/html": [
       "<strong id=\"impliesFF\"><a class=\"ProveItLink\" href=\"_proofs_\\impliesFF.ipynb\">impliesFF</a>:</strong> <a class=\"ProveItLink\" href=\"__pv_it\\8d3241d7e40e2b2a3dbc060ca7cce989c9df95f90\\expr.ipynb\"><img src=\"__pv_it\\8d3241d7e40e2b2a3dbc060ca7cce989c9df95f90\\expr.png\" style=\"display:inline;vertical-align:middle;\" /></a><br>"
      ],
      "text/plain": [
       "impliesFF: (FALSE => FALSE) = TRUE"
      ]
     },
     "execution_count": 8,
     "metadata": {},
     "output_type": "execute_result"
    }
   ],
   "source": [
    "impliesFF = Equals(Implies(FALSE, FALSE), TRUE)"
   ]
  },
  {
   "cell_type": "code",
   "execution_count": 9,
   "metadata": {
    "collapsed": false,
    "deletable": true,
    "editable": true
   },
   "outputs": [
    {
     "data": {
      "text/html": [
       "<strong id=\"impliesFT\"><a class=\"ProveItLink\" href=\"_proofs_\\impliesFT.ipynb\">impliesFT</a>:</strong> <a class=\"ProveItLink\" href=\"__pv_it\\148f1ef14ffa65adfab7d249bcdd42b023ba0e910\\expr.ipynb\"><img src=\"__pv_it\\148f1ef14ffa65adfab7d249bcdd42b023ba0e910\\expr.png\" style=\"display:inline;vertical-align:middle;\" /></a><br>"
      ],
      "text/plain": [
       "impliesFT: (FALSE => TRUE) = TRUE"
      ]
     },
     "execution_count": 9,
     "metadata": {},
     "output_type": "execute_result"
    }
   ],
   "source": [
    "impliesFT = Equals(Implies(FALSE, TRUE), TRUE)"
   ]
  },
  {
   "cell_type": "code",
   "execution_count": 10,
   "metadata": {
    "collapsed": false,
    "deletable": true,
    "editable": true
   },
   "outputs": [
    {
     "data": {
      "text/html": [
       "<strong id=\"impliesTF\"><a class=\"ProveItLink\" href=\"_proofs_\\impliesTF.ipynb\">impliesTF</a>:</strong> <a class=\"ProveItLink\" href=\"__pv_it\\5dab7a6606093029fca05baddca308a3fa91ce780\\expr.ipynb\"><img src=\"__pv_it\\5dab7a6606093029fca05baddca308a3fa91ce780\\expr.png\" style=\"display:inline;vertical-align:middle;\" /></a><br>"
      ],
      "text/plain": [
       "impliesTF: (TRUE => FALSE) = FALSE"
      ]
     },
     "execution_count": 10,
     "metadata": {},
     "output_type": "execute_result"
    }
   ],
   "source": [
    "impliesTF = Equals(Implies(TRUE, FALSE), FALSE)"
   ]
  },
  {
   "cell_type": "code",
   "execution_count": 11,
   "metadata": {
    "collapsed": false,
    "deletable": true,
    "editable": true
   },
   "outputs": [
    {
     "data": {
      "text/html": [
       "<strong id=\"trueImpliesFalseNegated\"><a class=\"ProveItLink\" href=\"_proofs_\\trueImpliesFalseNegated.ipynb\">trueImpliesFalseNegated</a>:</strong> <a class=\"ProveItLink\" href=\"__pv_it\\4a375d13bbba80379d9881f1ae43e73d4dfb79240\\expr.ipynb\"><img src=\"__pv_it\\4a375d13bbba80379d9881f1ae43e73d4dfb79240\\expr.png\" style=\"display:inline;vertical-align:middle;\" /></a><br>"
      ],
      "text/plain": [
       "trueImpliesFalseNegated: [not](TRUE => FALSE)"
      ]
     },
     "execution_count": 11,
     "metadata": {},
     "output_type": "execute_result"
    }
   ],
   "source": [
    "trueImpliesFalseNegated = Not(Implies(TRUE, FALSE))"
   ]
  },
  {
   "cell_type": "code",
   "execution_count": 12,
   "metadata": {
    "collapsed": false,
    "deletable": true,
    "editable": true
   },
   "outputs": [
    {
     "data": {
      "text/html": [
       "<strong id=\"contradictionElim\"><a class=\"ProveItLink\" href=\"_proofs_\\contradictionElim.ipynb\">contradictionElim</a>:</strong> <a class=\"ProveItLink\" href=\"__pv_it\\3746d4e899d3fc31cf160ea879c45f6d88c5a88b0\\expr.ipynb\"><img src=\"__pv_it\\3746d4e899d3fc31cf160ea879c45f6d88c5a88b0\\expr.png\" style=\"display:inline;vertical-align:middle;\" /></a><br>"
      ],
      "text/plain": [
       "contradictionElim: forall_{A in BOOLEANS | [not](A) => FALSE} A"
      ]
     },
     "execution_count": 12,
     "metadata": {},
     "output_type": "execute_result"
    }
   ],
   "source": [
    "contradictionElim = Forall(A, A, domain=Booleans, conditions=[Implies(Not(A), FALSE)])"
   ]
  },
  {
   "cell_type": "code",
   "execution_count": 13,
   "metadata": {
    "collapsed": false,
    "deletable": true,
    "editable": true
   },
   "outputs": [
    {
     "data": {
      "text/html": [
       "<strong id=\"implicationTransitivity\"><a class=\"ProveItLink\" href=\"_proofs_\\implicationTransitivity.ipynb\">implicationTransitivity</a>:</strong> <a class=\"ProveItLink\" href=\"__pv_it\\cb34861dab1745b4e5c76624c09bf87fa323ffd20\\expr.ipynb\"><img src=\"__pv_it\\cb34861dab1745b4e5c76624c09bf87fa323ffd20\\expr.png\" style=\"display:inline;vertical-align:middle;\" /></a><br>"
      ],
      "text/plain": [
       "implicationTransitivity: forall_{A, B, C | A => B , B => C} (A => C)"
      ]
     },
     "execution_count": 13,
     "metadata": {},
     "output_type": "execute_result"
    }
   ],
   "source": [
    "implicationTransitivity = Forall((A, B, C), Implies(A, C), conditions=[Implies(A, B), Implies(B, C)])"
   ]
  },
  {
   "cell_type": "code",
   "execution_count": 14,
   "metadata": {
    "collapsed": false,
    "deletable": true,
    "editable": true
   },
   "outputs": [
    {
     "data": {
      "text/html": [
       "<strong id=\"trueIffTrue\"><a class=\"ProveItLink\" href=\"_proofs_\\trueIffTrue.ipynb\">trueIffTrue</a>:</strong> <a class=\"ProveItLink\" href=\"__pv_it\\27fb0d685bb0656161bbb80ee10d4fdf28c0733d0\\expr.ipynb\"><img src=\"__pv_it\\27fb0d685bb0656161bbb80ee10d4fdf28c0733d0\\expr.png\" style=\"display:inline;vertical-align:middle;\" /></a><br>"
      ],
      "text/plain": [
       "trueIffTrue: TRUE <=> TRUE"
      ]
     },
     "execution_count": 14,
     "metadata": {},
     "output_type": "execute_result"
    }
   ],
   "source": [
    "trueIffTrue = Iff(TRUE, TRUE)"
   ]
  },
  {
   "cell_type": "code",
   "execution_count": 15,
   "metadata": {
    "collapsed": false,
    "deletable": true,
    "editable": true
   },
   "outputs": [
    {
     "data": {
      "text/html": [
       "<strong id=\"iffTT\"><a class=\"ProveItLink\" href=\"_proofs_\\iffTT.ipynb\">iffTT</a>:</strong> <a class=\"ProveItLink\" href=\"__pv_it\\12f977de0250cc0015a9b5b7369d1050079c56b10\\expr.ipynb\"><img src=\"__pv_it\\12f977de0250cc0015a9b5b7369d1050079c56b10\\expr.png\" style=\"display:inline;vertical-align:middle;\" /></a><br>"
      ],
      "text/plain": [
       "iffTT: (TRUE <=> TRUE) = TRUE"
      ]
     },
     "execution_count": 15,
     "metadata": {},
     "output_type": "execute_result"
    }
   ],
   "source": [
    "iffTT = Equals(Iff(TRUE, TRUE), TRUE)"
   ]
  },
  {
   "cell_type": "code",
   "execution_count": 16,
   "metadata": {
    "collapsed": false,
    "deletable": true,
    "editable": true
   },
   "outputs": [
    {
     "data": {
      "text/html": [
       "<strong id=\"falseIffFalse\"><a class=\"ProveItLink\" href=\"_proofs_\\falseIffFalse.ipynb\">falseIffFalse</a>:</strong> <a class=\"ProveItLink\" href=\"__pv_it\\cf364a7a7bdfd5cbb2645e799eac8fde179fb3270\\expr.ipynb\"><img src=\"__pv_it\\cf364a7a7bdfd5cbb2645e799eac8fde179fb3270\\expr.png\" style=\"display:inline;vertical-align:middle;\" /></a><br>"
      ],
      "text/plain": [
       "falseIffFalse: FALSE <=> FALSE"
      ]
     },
     "execution_count": 16,
     "metadata": {},
     "output_type": "execute_result"
    }
   ],
   "source": [
    "falseIffFalse = Iff(FALSE, FALSE)"
   ]
  },
  {
   "cell_type": "code",
   "execution_count": 17,
   "metadata": {
    "collapsed": false,
    "deletable": true,
    "editable": true
   },
   "outputs": [
    {
     "data": {
      "text/html": [
       "<strong id=\"iffFF\"><a class=\"ProveItLink\" href=\"_proofs_\\iffFF.ipynb\">iffFF</a>:</strong> <a class=\"ProveItLink\" href=\"__pv_it\\d0eade3ff4c12bdecaf2224f2cabb47191f52a860\\expr.ipynb\"><img src=\"__pv_it\\d0eade3ff4c12bdecaf2224f2cabb47191f52a860\\expr.png\" style=\"display:inline;vertical-align:middle;\" /></a><br>"
      ],
      "text/plain": [
       "iffFF: (FALSE <=> FALSE) = TRUE"
      ]
     },
     "execution_count": 17,
     "metadata": {},
     "output_type": "execute_result"
    }
   ],
   "source": [
    "iffFF = Equals(Iff(FALSE, FALSE), TRUE)"
   ]
  },
  {
   "cell_type": "code",
   "execution_count": 18,
   "metadata": {
    "collapsed": false,
    "deletable": true,
    "editable": true
   },
   "outputs": [
    {
     "data": {
      "text/html": [
       "<strong id=\"trueIffFalseNegated\"><a class=\"ProveItLink\" href=\"_proofs_\\trueIffFalseNegated.ipynb\">trueIffFalseNegated</a>:</strong> <a class=\"ProveItLink\" href=\"__pv_it\\a7b36120442e389a697d5939dbc03b22e606f6450\\expr.ipynb\"><img src=\"__pv_it\\a7b36120442e389a697d5939dbc03b22e606f6450\\expr.png\" style=\"display:inline;vertical-align:middle;\" /></a><br>"
      ],
      "text/plain": [
       "trueIffFalseNegated: [not](TRUE <=> FALSE)"
      ]
     },
     "execution_count": 18,
     "metadata": {},
     "output_type": "execute_result"
    }
   ],
   "source": [
    "trueIffFalseNegated = Not(Iff(TRUE, FALSE))"
   ]
  },
  {
   "cell_type": "code",
   "execution_count": 19,
   "metadata": {
    "collapsed": false,
    "deletable": true,
    "editable": true
   },
   "outputs": [
    {
     "data": {
      "text/html": [
       "<strong id=\"iffTF\"><a class=\"ProveItLink\" href=\"_proofs_\\iffTF.ipynb\">iffTF</a>:</strong> <a class=\"ProveItLink\" href=\"__pv_it\\96b4526aae842eefcea7a48ea81332de975910ef0\\expr.ipynb\"><img src=\"__pv_it\\96b4526aae842eefcea7a48ea81332de975910ef0\\expr.png\" style=\"display:inline;vertical-align:middle;\" /></a><br>"
      ],
      "text/plain": [
       "iffTF: (TRUE <=> FALSE) = FALSE"
      ]
     },
     "execution_count": 19,
     "metadata": {},
     "output_type": "execute_result"
    }
   ],
   "source": [
    "iffTF = Equals(Iff(TRUE, FALSE), FALSE)"
   ]
  },
  {
   "cell_type": "code",
   "execution_count": 20,
   "metadata": {
    "collapsed": false,
    "deletable": true,
    "editable": true
   },
   "outputs": [
    {
     "data": {
      "text/html": [
       "<strong id=\"falseIffTrueNegated\"><a class=\"ProveItLink\" href=\"_proofs_\\falseIffTrueNegated.ipynb\">falseIffTrueNegated</a>:</strong> <a class=\"ProveItLink\" href=\"__pv_it\\a17c37a27245683ce55e3e939fffdcae6468d3b00\\expr.ipynb\"><img src=\"__pv_it\\a17c37a27245683ce55e3e939fffdcae6468d3b00\\expr.png\" style=\"display:inline;vertical-align:middle;\" /></a><br>"
      ],
      "text/plain": [
       "falseIffTrueNegated: [not](FALSE <=> TRUE)"
      ]
     },
     "execution_count": 20,
     "metadata": {},
     "output_type": "execute_result"
    }
   ],
   "source": [
    "falseIffTrueNegated = Not(Iff(FALSE, TRUE))"
   ]
  },
  {
   "cell_type": "code",
   "execution_count": 21,
   "metadata": {
    "collapsed": false,
    "deletable": true,
    "editable": true
   },
   "outputs": [
    {
     "data": {
      "text/html": [
       "<strong id=\"iffFT\"><a class=\"ProveItLink\" href=\"_proofs_\\iffFT.ipynb\">iffFT</a>:</strong> <a class=\"ProveItLink\" href=\"__pv_it\\27114ece0e8a6f587b77546a12061760db47b95c0\\expr.ipynb\"><img src=\"__pv_it\\27114ece0e8a6f587b77546a12061760db47b95c0\\expr.png\" style=\"display:inline;vertical-align:middle;\" /></a><br>"
      ],
      "text/plain": [
       "iffFT: (FALSE <=> TRUE) = FALSE"
      ]
     },
     "execution_count": 21,
     "metadata": {},
     "output_type": "execute_result"
    }
   ],
   "source": [
    "iffFT = Equals(Iff(FALSE, TRUE), FALSE)"
   ]
  },
  {
   "cell_type": "code",
   "execution_count": 22,
   "metadata": {
    "collapsed": false,
    "deletable": true,
    "editable": true
   },
   "outputs": [
    {
     "data": {
      "text/html": [
       "<strong id=\"iffImpliesRight\"><a class=\"ProveItLink\" href=\"_proofs_\\iffImpliesRight.ipynb\">iffImpliesRight</a>:</strong> <a class=\"ProveItLink\" href=\"__pv_it\\a02378d0f7555d18d64c57b7a4a630ed97ba07fa0\\expr.ipynb\"><img src=\"__pv_it\\a02378d0f7555d18d64c57b7a4a630ed97ba07fa0\\expr.png\" style=\"display:inline;vertical-align:middle;\" /></a><br>"
      ],
      "text/plain": [
       "iffImpliesRight: forall_{A, B | A <=> B} (A => B)"
      ]
     },
     "execution_count": 22,
     "metadata": {},
     "output_type": "execute_result"
    }
   ],
   "source": [
    "iffImpliesRight = Forall((A, B), Implies(A, B), conditions=[Iff(A, B)])"
   ]
  },
  {
   "cell_type": "code",
   "execution_count": 23,
   "metadata": {
    "collapsed": false,
    "deletable": true,
    "editable": true
   },
   "outputs": [
    {
     "data": {
      "text/html": [
       "<strong id=\"iffImpliesLeft\"><a class=\"ProveItLink\" href=\"_proofs_\\iffImpliesLeft.ipynb\">iffImpliesLeft</a>:</strong> <a class=\"ProveItLink\" href=\"__pv_it\\04e3ccbd0580ec6b13e841bff04d5d483c6fb2a00\\expr.ipynb\"><img src=\"__pv_it\\04e3ccbd0580ec6b13e841bff04d5d483c6fb2a00\\expr.png\" style=\"display:inline;vertical-align:middle;\" /></a><br>"
      ],
      "text/plain": [
       "iffImpliesLeft: forall_{A, B | A <=> B} (B => A)"
      ]
     },
     "execution_count": 23,
     "metadata": {},
     "output_type": "execute_result"
    }
   ],
   "source": [
    "iffImpliesLeft = Forall((A, B), Implies(B, A), conditions=[Iff(A, B)])"
   ]
  },
  {
   "cell_type": "code",
   "execution_count": 24,
   "metadata": {
    "collapsed": false,
    "deletable": true,
    "editable": true
   },
   "outputs": [
    {
     "data": {
      "text/html": [
       "<strong id=\"rightFromIff\"><a class=\"ProveItLink\" href=\"_proofs_\\rightFromIff.ipynb\">rightFromIff</a>:</strong> <a class=\"ProveItLink\" href=\"__pv_it\\ec8786c944278cf676e0a0a508987da4c4b189350\\expr.ipynb\"><img src=\"__pv_it\\ec8786c944278cf676e0a0a508987da4c4b189350\\expr.png\" style=\"display:inline;vertical-align:middle;\" /></a><br>"
      ],
      "text/plain": [
       "rightFromIff: forall_{A, B | A , A <=> B} B"
      ]
     },
     "execution_count": 24,
     "metadata": {},
     "output_type": "execute_result"
    }
   ],
   "source": [
    "rightFromIff = Forall((A, B), B, conditions=[A, Iff(A, B)])"
   ]
  },
  {
   "cell_type": "code",
   "execution_count": 25,
   "metadata": {
    "collapsed": false,
    "deletable": true,
    "editable": true
   },
   "outputs": [
    {
     "data": {
      "text/html": [
       "<strong id=\"leftFromIff\"><a class=\"ProveItLink\" href=\"_proofs_\\leftFromIff.ipynb\">leftFromIff</a>:</strong> <a class=\"ProveItLink\" href=\"__pv_it\\9349155eee3538a4b9491cbb075b04966057eaa50\\expr.ipynb\"><img src=\"__pv_it\\9349155eee3538a4b9491cbb075b04966057eaa50\\expr.png\" style=\"display:inline;vertical-align:middle;\" /></a><br>"
      ],
      "text/plain": [
       "leftFromIff: forall_{A, B | A <=> B , B} A"
      ]
     },
     "execution_count": 25,
     "metadata": {},
     "output_type": "execute_result"
    }
   ],
   "source": [
    "leftFromIff = Forall((A, B), A, conditions=[Iff(A, B), B])"
   ]
  },
  {
   "cell_type": "code",
   "execution_count": 26,
   "metadata": {
    "collapsed": false,
    "deletable": true,
    "editable": true
   },
   "outputs": [
    {
     "data": {
      "text/html": [
       "<strong id=\"iffSymmetry\"><a class=\"ProveItLink\" href=\"_proofs_\\iffSymmetry.ipynb\">iffSymmetry</a>:</strong> <a class=\"ProveItLink\" href=\"__pv_it\\99200058b0776d53cab06af143a40f3ede6cf7210\\expr.ipynb\"><img src=\"__pv_it\\99200058b0776d53cab06af143a40f3ede6cf7210\\expr.png\" style=\"display:inline;vertical-align:middle;\" /></a><br>"
      ],
      "text/plain": [
       "iffSymmetry: forall_{A, B | A <=> B} (B <=> A)"
      ]
     },
     "execution_count": 26,
     "metadata": {},
     "output_type": "execute_result"
    }
   ],
   "source": [
    "iffSymmetry = Forall((A, B), Iff(B, A), conditions=[Iff(A, B)])"
   ]
  },
  {
   "cell_type": "code",
   "execution_count": 27,
   "metadata": {
    "collapsed": false,
    "deletable": true,
    "editable": true
   },
   "outputs": [
    {
     "data": {
      "text/html": [
       "<strong id=\"iffTransitivity\"><a class=\"ProveItLink\" href=\"_proofs_\\iffTransitivity.ipynb\">iffTransitivity</a>:</strong> <a class=\"ProveItLink\" href=\"__pv_it\\d609c89c48857db51f5ea916e4b92b4e4e23fa820\\expr.ipynb\"><img src=\"__pv_it\\d609c89c48857db51f5ea916e4b92b4e4e23fa820\\expr.png\" style=\"display:inline;vertical-align:middle;\" /></a><br>"
      ],
      "text/plain": [
       "iffTransitivity: forall_{A, B, C | A <=> B , B <=> C} (A <=> C)"
      ]
     },
     "execution_count": 27,
     "metadata": {},
     "output_type": "execute_result"
    }
   ],
   "source": [
    "iffTransitivity = Forall((A, B, C), Iff(A, C), conditions=[Iff(A, B), Iff(B, C)])"
   ]
  },
  {
   "cell_type": "code",
   "execution_count": 28,
   "metadata": {
    "collapsed": false,
    "deletable": true,
    "editable": true
   },
   "outputs": [
    {
     "data": {
      "text/html": [
       "<strong id=\"affirmViaContradiction\"><a class=\"ProveItLink\" href=\"_proofs_\\affirmViaContradiction.ipynb\">affirmViaContradiction</a>:</strong> <a class=\"ProveItLink\" href=\"__pv_it\\3746d4e899d3fc31cf160ea879c45f6d88c5a88b0\\expr.ipynb\"><img src=\"__pv_it\\3746d4e899d3fc31cf160ea879c45f6d88c5a88b0\\expr.png\" style=\"display:inline;vertical-align:middle;\" /></a><br>"
      ],
      "text/plain": [
       "affirmViaContradiction: forall_{A in BOOLEANS | [not](A) => FALSE} A"
      ]
     },
     "execution_count": 28,
     "metadata": {},
     "output_type": "execute_result"
    }
   ],
   "source": [
    "affirmViaContradiction = Forall(A, A, domain=Booleans, conditions=[Implies(Not(A), FALSE)])"
   ]
  },
  {
   "cell_type": "code",
   "execution_count": 29,
   "metadata": {
    "collapsed": false,
    "deletable": true,
    "editable": true
   },
   "outputs": [
    {
     "data": {
      "text/html": [
       "<strong id=\"modusTollensAffirmation\"><a class=\"ProveItLink\" href=\"_proofs_\\modusTollensAffirmation.ipynb\">modusTollensAffirmation</a>:</strong> <a class=\"ProveItLink\" href=\"__pv_it\\10ef0860be21d615c3f43e16dcfd1a00a3fb26930\\expr.ipynb\"><img src=\"__pv_it\\10ef0860be21d615c3f43e16dcfd1a00a3fb26930\\expr.png\" style=\"display:inline;vertical-align:middle;\" /></a><br>"
      ],
      "text/plain": [
       "modusTollensAffirmation: forall_{A in BOOLEANS} [forall_{B | [not](A) => B , [not](B)} A]"
      ]
     },
     "execution_count": 29,
     "metadata": {},
     "output_type": "execute_result"
    }
   ],
   "source": [
    "modusTollensAffirmation = Forall(A, Forall(B, A, conditions=[Implies(Not(A), B), Not(B)]), domain=Booleans)"
   ]
  },
  {
   "cell_type": "code",
   "execution_count": 30,
   "metadata": {
    "collapsed": false,
    "deletable": true,
    "editable": true
   },
   "outputs": [
    {
     "data": {
      "text/html": [
       "<strong id=\"modusTollensDenial\"><a class=\"ProveItLink\" href=\"_proofs_\\modusTollensDenial.ipynb\">modusTollensDenial</a>:</strong> <a class=\"ProveItLink\" href=\"__pv_it\\a1f0e894e915554e100baf9745823e4f6ec917870\\expr.ipynb\"><img src=\"__pv_it\\a1f0e894e915554e100baf9745823e4f6ec917870\\expr.png\" style=\"display:inline;vertical-align:middle;\" /></a><br>"
      ],
      "text/plain": [
       "modusTollensDenial: forall_{A in BOOLEANS} [forall_{B | A => B , [not](B)} [not](A)]"
      ]
     },
     "execution_count": 30,
     "metadata": {},
     "output_type": "execute_result"
    }
   ],
   "source": [
    "modusTollensDenial = Forall(A, Forall(B, Not(A), conditions=[Implies(A, B), Not(B)]), domain=Booleans)"
   ]
  },
  {
   "cell_type": "code",
   "execution_count": 31,
   "metadata": {
    "collapsed": true,
    "deletable": true,
    "editable": true
   },
   "outputs": [],
   "source": []
  },
  {
   "cell_type": "code",
   "execution_count": 31,
   "metadata": {
    "collapsed": false,
    "deletable": true,
    "editable": true
   },
   "outputs": [
    {
     "data": {
      "text/html": [
       "<strong id=\"denyViaContradiction\"><a class=\"ProveItLink\" href=\"_proofs_\\denyViaContradiction.ipynb\" target=\"_blank\">denyViaContradiction</a>:</strong> <a href=\"__pv_it\\b7a7492186b4d615155c5b0883b5fe153722b7600\\expr.ipynb\" target=\"_blank\"><img src=\"__pv_it\\b7a7492186b4d615155c5b0883b5fe153722b7600\\expr.png\" style=\"display:inline;vertical-align:middle;\" /></a><br>"
      ],
      "text/plain": [
       "denyViaContradiction: forall_{A in BOOLEANS | (A => FALSE)} not(A)"
      ]
     },
     "execution_count": 31,
     "metadata": {},
     "output_type": "execute_result"
    }
   ],
   "source": [
    "denyViaContradiction = Forall(A, Not(A), domain=Booleans, conditions=[Implies(A, FALSE)])"
   ]
  },
  {
   "cell_type": "code",
   "execution_count": 32,
   "metadata": {
    "collapsed": true,
    "deletable": true,
    "editable": true
   },
   "outputs": [],
   "source": []
  },
  {
   "cell_type": "code",
   "execution_count": 32,
   "metadata": {
    "collapsed": false,
    "deletable": true,
    "editable": true
   },
   "outputs": [
    {
     "data": {
      "text/html": [
       "<strong id=\"fromContraposition\"><a class=\"ProveItLink\" href=\"_proofs_\\fromContraposition.ipynb\" target=\"_blank\">fromContraposition</a>:</strong> <a href=\"__pv_it\\200f86924e2dabf98a658f8061ef596299eb29c20\\expr.ipynb\" target=\"_blank\"><img src=\"__pv_it\\200f86924e2dabf98a658f8061ef596299eb29c20\\expr.png\" style=\"display:inline;vertical-align:middle;\" /></a><br>"
      ],
      "text/plain": [
       "fromContraposition: forall_{A, B | (not(B) => not(A)),(B in BOOLEANS)} (A => B)"
      ]
     },
     "execution_count": 32,
     "metadata": {},
     "output_type": "execute_result"
    }
   ],
   "source": [
    "fromContraposition = Forall((A, B), Implies(A, B), conditions=[Implies(Not(B), Not(A)), inBool(B)])"
   ]
  },
  {
   "cell_type": "code",
   "execution_count": 33,
   "metadata": {
    "collapsed": false,
    "deletable": true,
    "editable": true
   },
   "outputs": [
    {
     "data": {
      "text/html": [
       "<strong id=\"toContraposition\"><a class=\"ProveItLink\" href=\"_proofs_\\toContraposition.ipynb\" target=\"_blank\">toContraposition</a>:</strong> <a href=\"__pv_it\\50fe8ae480539f57e6369dd1d4aa6270af8252f60\\expr.ipynb\" target=\"_blank\"><img src=\"__pv_it\\50fe8ae480539f57e6369dd1d4aa6270af8252f60\\expr.png\" style=\"display:inline;vertical-align:middle;\" /></a><br>"
      ],
      "text/plain": [
       "toContraposition: forall_{A, B | (A => B),(A in BOOLEANS)} (not(B) => not(A))"
      ]
     },
     "execution_count": 33,
     "metadata": {},
     "output_type": "execute_result"
    }
   ],
   "source": [
    "toContraposition = Forall((A, B), Implies(Not(B), Not(A)), conditions=[Implies(A, B), inBool(A)])"
   ]
  },
  {
   "cell_type": "code",
   "execution_count": 34,
   "metadata": {
    "collapsed": true,
    "deletable": true,
    "editable": true
   },
   "outputs": [],
   "source": []
  },
  {
   "cell_type": "code",
   "execution_count": 34,
   "metadata": {
    "collapsed": true,
    "deletable": true,
    "editable": true
   },
   "outputs": [],
   "source": []
  },
  {
   "cell_type": "code",
   "execution_count": 34,
   "metadata": {
    "collapsed": false,
    "deletable": true,
    "editable": true
   },
   "outputs": [
    {
     "data": {
      "text/html": [
       "<strong id=\"transpositionFromNegated\"><a class=\"ProveItLink\" href=\"_proofs_\\transpositionFromNegated.ipynb\" target=\"_blank\">transpositionFromNegated</a>:</strong> <a href=\"__pv_it\\200f86924e2dabf98a658f8061ef596299eb29c20\\expr.ipynb\" target=\"_blank\"><img src=\"__pv_it\\200f86924e2dabf98a658f8061ef596299eb29c20\\expr.png\" style=\"display:inline;vertical-align:middle;\" /></a><br>"
      ],
      "text/plain": [
       "transpositionFromNegated: forall_{A, B | (not(B) => not(A)),(B in BOOLEANS)} (A => B)"
      ]
     },
     "execution_count": 34,
     "metadata": {},
     "output_type": "execute_result"
    }
   ],
   "source": [
    "transpositionFromNegated = Forall((A, B), Implies(A, B), conditions=[Implies(Not(B), Not(A)), inBool(B)])"
   ]
  },
  {
   "cell_type": "code",
   "execution_count": 35,
   "metadata": {
    "collapsed": true,
    "deletable": true,
    "editable": true
   },
   "outputs": [],
   "source": []
  },
  {
   "cell_type": "code",
   "execution_count": 35,
   "metadata": {
    "collapsed": false,
    "deletable": true,
    "editable": true
   },
   "outputs": [
    {
     "data": {
      "text/html": [
       "<strong id=\"doubleNegateConclusion\"><a class=\"ProveItLink\" href=\"_proofs_\\doubleNegateConclusion.ipynb\" target=\"_blank\">doubleNegateConclusion</a>:</strong> <a href=\"__pv_it\\f7f6e22eebc92ef2d49b28c3907cb76e847f3a610\\expr.ipynb\" target=\"_blank\"><img src=\"__pv_it\\f7f6e22eebc92ef2d49b28c3907cb76e847f3a610\\expr.png\" style=\"display:inline;vertical-align:middle;\" /></a><br>"
      ],
      "text/plain": [
       "doubleNegateConclusion: forall_{A, B | (A => B),(B in BOOLEANS)} (A => not(not(B)))"
      ]
     },
     "execution_count": 35,
     "metadata": {},
     "output_type": "execute_result"
    }
   ],
   "source": [
    "doubleNegateConclusion = Forall((A, B), Implies(A, Not(Not(B))), conditions=[Implies(A, B), inBool(B)])"
   ]
  },
  {
   "cell_type": "code",
   "execution_count": 36,
   "metadata": {
    "collapsed": false,
    "deletable": true,
    "editable": true
   },
   "outputs": [
    {
     "data": {
      "text/html": [
       "<strong id=\"transpositionFromNegatedHypothesis\"><a class=\"ProveItLink\" href=\"_proofs_\\transpositionFromNegatedHypothesis.ipynb\" target=\"_blank\">transpositionFromNegatedHypothesis</a>:</strong> <a href=\"__pv_it\\68f9c9e4dccb6c073cc793f6778c2ff7923732cf0\\expr.ipynb\" target=\"_blank\"><img src=\"__pv_it\\68f9c9e4dccb6c073cc793f6778c2ff7923732cf0\\expr.png\" style=\"display:inline;vertical-align:middle;\" /></a><br>"
      ],
      "text/plain": [
       "transpositionFromNegatedHypothesis: forall_{A, B in BOOLEANS} ((not(B) => A) => (not(A) => B))"
      ]
     },
     "execution_count": 36,
     "metadata": {},
     "output_type": "execute_result"
    }
   ],
   "source": [
    "transpositionFromNegatedHypothesis = Forall((A, B), Implies(Implies(Not(B), A), Implies(Not(A), B)), domain=Booleans)"
   ]
  },
  {
   "cell_type": "code",
   "execution_count": 37,
   "metadata": {
    "collapsed": false,
    "deletable": true,
    "editable": true
   },
   "outputs": [
    {
     "data": {
      "text/html": [
       "<strong id=\"transpositionFromNegatedConclusion\"><a class=\"ProveItLink\" href=\"_proofs_\\transpositionFromNegatedConclusion.ipynb\" target=\"_blank\">transpositionFromNegatedConclusion</a>:</strong> <a href=\"__pv_it\\199212066da82be445fe29197b703bfd515603b00\\expr.ipynb\" target=\"_blank\"><img src=\"__pv_it\\199212066da82be445fe29197b703bfd515603b00\\expr.png\" style=\"display:inline;vertical-align:middle;\" /></a><br>"
      ],
      "text/plain": [
       "transpositionFromNegatedConclusion: forall_{A, B | (B in BOOLEANS)} ((B => not(A)) => (A => not(B)))"
      ]
     },
     "execution_count": 37,
     "metadata": {},
     "output_type": "execute_result"
    }
   ],
   "source": [
    "transpositionFromNegatedConclusion = Forall((A, B), Implies(Implies(B, Not(A)), Implies(A, Not(B))), conditions=inBool(B))"
   ]
  },
  {
   "cell_type": "code",
   "execution_count": 38,
   "metadata": {
    "collapsed": false,
    "deletable": true,
    "editable": true
   },
   "outputs": [
    {
     "data": {
      "text/html": [
       "<strong id=\"transpositionToNegated\"><a class=\"ProveItLink\" href=\"_proofs_\\transpositionToNegated.ipynb\" target=\"_blank\">transpositionToNegated</a>:</strong> <a href=\"__pv_it\\c93c65f8967616f381a78232dac3d49b435ea0da0\\expr.ipynb\" target=\"_blank\"><img src=\"__pv_it\\c93c65f8967616f381a78232dac3d49b435ea0da0\\expr.png\" style=\"display:inline;vertical-align:middle;\" /></a><br>"
      ],
      "text/plain": [
       "transpositionToNegated: forall_{A, B in BOOLEANS} ((B => A) => (not(A) => not(B)))"
      ]
     },
     "execution_count": 38,
     "metadata": {},
     "output_type": "execute_result"
    }
   ],
   "source": [
    "transpositionToNegated = Forall((A, B), Implies(Implies(B, A), Implies(Not(A), Not(B))), domain=Booleans)"
   ]
  },
  {
   "cell_type": "code",
   "execution_count": 39,
   "metadata": {
    "collapsed": false,
    "deletable": true,
    "editable": true
   },
   "outputs": [
    {
     "data": {
      "text/html": [
       "<strong id=\"iffOverBoolImplEq\"><a class=\"ProveItLink\" href=\"_proofs_\\iffOverBoolImplEq.ipynb\" target=\"_blank\">iffOverBoolImplEq</a>:</strong> <a href=\"__pv_it\\ed77b23932636da62ff2bae07350b6eea12afb5c0\\expr.ipynb\" target=\"_blank\"><img src=\"__pv_it\\ed77b23932636da62ff2bae07350b6eea12afb5c0\\expr.png\" style=\"display:inline;vertical-align:middle;\" /></a><br>"
      ],
      "text/plain": [
       "iffOverBoolImplEq: forall_{A, B in BOOLEANS | (A <=> B)} (A = B)"
      ]
     },
     "execution_count": 39,
     "metadata": {},
     "output_type": "execute_result"
    }
   ],
   "source": [
    "iffOverBoolImplEq = Forall((A, B), Equals(A, B), conditions=[Iff(A, B)], domain=Booleans)"
   ]
  },
  {
   "cell_type": "code",
   "execution_count": 40,
   "metadata": {
    "collapsed": false,
    "deletable": true,
    "editable": true
   },
   "outputs": [
    {
     "data": {
      "text/html": [
       "<strong id=\"implicationClosure\"><a class=\"ProveItLink\" href=\"_proofs_\\implicationClosure.ipynb\" target=\"_blank\">implicationClosure</a>:</strong> <a href=\"__pv_it\\2a25a87f00523d50c5851d8bb1046d6f0f60c4fe0\\expr.ipynb\" target=\"_blank\"><img src=\"__pv_it\\2a25a87f00523d50c5851d8bb1046d6f0f60c4fe0\\expr.png\" style=\"display:inline;vertical-align:middle;\" /></a><br>"
      ],
      "text/plain": [
       "implicationClosure: forall_{A, B in BOOLEANS} ((A => B) in BOOLEANS)"
      ]
     },
     "execution_count": 40,
     "metadata": {},
     "output_type": "execute_result"
    }
   ],
   "source": [
    "implicationClosure = Forall((A, B), inBool(Implies(A, B)), domain=Booleans)"
   ]
  },
  {
   "cell_type": "code",
   "execution_count": 41,
   "metadata": {
    "collapsed": false,
    "deletable": true,
    "editable": true
   },
   "outputs": [
    {
     "data": {
      "text/html": [
       "<strong id=\"iffClosure\"><a class=\"ProveItLink\" href=\"_proofs_\\iffClosure.ipynb\" target=\"_blank\">iffClosure</a>:</strong> <a href=\"__pv_it\\5e245b4d453015befa4e4f4aef4730f4271769f40\\expr.ipynb\" target=\"_blank\"><img src=\"__pv_it\\5e245b4d453015befa4e4f4aef4730f4271769f40\\expr.png\" style=\"display:inline;vertical-align:middle;\" /></a><br>"
      ],
      "text/plain": [
       "iffClosure: forall_{A, B in BOOLEANS} ((A <=> B) in BOOLEANS)"
      ]
     },
     "execution_count": 41,
     "metadata": {},
     "output_type": "execute_result"
    }
   ],
   "source": [
    "iffClosure = Forall((A, B), inBool(Iff(A, B)), domain=Booleans)"
   ]
  },
  {
   "cell_type": "code",
   "execution_count": 31,
   "metadata": {
    "collapsed": false,
    "deletable": true,
    "editable": true
   },
   "outputs": [
    {
     "name": "stdout",
     "output_type": "stream",
     "text": [
      "Modifying theorem selfImplication in proveit.logic.boolean.implication context\n",
      "Modifying theorem trueImpliesTrue in proveit.logic.boolean.implication context\n",
      "Modifying theorem falseImpliesFalse in proveit.logic.boolean.implication context\n",
      "Modifying theorem falseImpliesTrue in proveit.logic.boolean.implication context\n",
      "Modifying theorem falseAntecedentImplication in proveit.logic.boolean.implication context\n",
      "Modifying theorem impliesTT in proveit.logic.boolean.implication context\n",
      "Modifying theorem impliesFF in proveit.logic.boolean.implication context\n",
      "Modifying theorem impliesFT in proveit.logic.boolean.implication context\n",
      "Modifying theorem impliesTF in proveit.logic.boolean.implication context\n",
      "Modifying theorem trueImpliesFalseNegated in proveit.logic.boolean.implication context\n",
      "Modifying theorem contradictionElim in proveit.logic.boolean.implication context\n",
      "Modifying theorem implicationTransitivity in proveit.logic.boolean.implication context\n",
      "Modifying theorem trueIffTrue in proveit.logic.boolean.implication context\n",
      "Modifying theorem iffTT in proveit.logic.boolean.implication context\n",
      "Modifying theorem falseIffFalse in proveit.logic.boolean.implication context\n",
      "Modifying theorem iffFF in proveit.logic.boolean.implication context\n",
      "Modifying theorem trueIffFalseNegated in proveit.logic.boolean.implication context\n",
      "Modifying theorem iffTF in proveit.logic.boolean.implication context\n",
      "Modifying theorem falseIffTrueNegated in proveit.logic.boolean.implication context\n",
      "Modifying theorem iffFT in proveit.logic.boolean.implication context\n",
      "Modifying theorem iffImpliesRight in proveit.logic.boolean.implication context\n",
      "Modifying theorem iffImpliesLeft in proveit.logic.boolean.implication context\n",
      "Modifying theorem rightFromIff in proveit.logic.boolean.implication context\n",
      "Modifying theorem leftFromIff in proveit.logic.boolean.implication context\n",
      "Modifying theorem iffSymmetry in proveit.logic.boolean.implication context\n",
      "Modifying theorem iffTransitivity in proveit.logic.boolean.implication context\n",
      "Modifying theorem affirmViaContradiction in proveit.logic.boolean.implication context\n",
      "Modifying theorem modusTollensAffirmation in proveit.logic.boolean.implication context\n",
      "Modifying theorem modusTollensDenial in proveit.logic.boolean.implication context\n",
      "Removing theorem denyViaContradiction from proveit.logic.boolean.implication context\n",
      "Removing theorem doubleNegateConclusion from proveit.logic.boolean.implication context\n",
      "Removing theorem fromContraposition from proveit.logic.boolean.implication context\n",
      "Removing theorem iffClosure from proveit.logic.boolean.implication context\n",
      "Removing theorem iffOverBoolImplEq from proveit.logic.boolean.implication context\n",
      "Removing theorem implicationClosure from proveit.logic.boolean.implication context\n",
      "Removing theorem toContraposition from proveit.logic.boolean.implication context\n",
      "Removing theorem transpositionFromNegated from proveit.logic.boolean.implication context\n",
      "Removing theorem transpositionFromNegatedConclusion from proveit.logic.boolean.implication context\n",
      "Removing theorem transpositionFromNegatedHypothesis from proveit.logic.boolean.implication context\n",
      "Removing theorem transpositionToNegated from proveit.logic.boolean.implication context\n",
      "impliesFF expression notebook is being updated\n",
      "trueIffTrue expression notebook is being updated\n",
      "falseIffFalse expression notebook is being updated\n",
      "leftFromIff expression notebook is being updated\n",
      "impliesFT expression notebook is being updated\n",
      "iffFT expression notebook is being updated\n",
      "falseImpliesFalse expression notebook is being updated\n",
      "trueImpliesFalseNegated expression notebook is being updated\n",
      "impliesTT expression notebook is being updated\n",
      "modusTollensAffirmation expression notebook is being updated\n",
      "iffImpliesLeft expression notebook is being updated\n",
      "iffImpliesRight expression notebook is being updated\n",
      "impliesTF expression notebook is being updated\n",
      "selfImplication expression notebook is being updated\n",
      "iffTT expression notebook is being updated\n",
      "falseIffTrueNegated expression notebook is being updated\n",
      "falseAntecedentImplication expression notebook is being updated\n",
      "contradictionElim expression notebook is being updated\n",
      "falseImpliesTrue expression notebook is being updated\n",
      "iffTF expression notebook is being updated\n",
      "trueIffFalseNegated expression notebook is being updated\n",
      "iffSymmetry expression notebook is being updated\n",
      "trueImpliesTrue expression notebook is being updated\n",
      "rightFromIff expression notebook is being updated\n",
      "implicationTransitivity expression notebook is being updated\n",
      "modusTollensDenial expression notebook is being updated\n",
      "iffTransitivity expression notebook is being updated\n",
      "iffFF expression notebook is being updated\n",
      "Theorems may be imported from autogenerated _theorems_.py\n",
      "Stashing _proofs_\\denyViaContradiction.ipynb to _proofs_\\denyViaContradiction~stashed~1.ipynb in case it is needed.\n",
      "Stashing _proofs_\\doubleNegateConclusion.ipynb to _proofs_\\doubleNegateConclusion~stashed~1.ipynb in case it is needed.\n",
      "Stashing _proofs_\\fromContraposition.ipynb to _proofs_\\fromContraposition~stashed~1.ipynb in case it is needed.\n",
      "Stashing _proofs_\\iffClosure.ipynb to _proofs_\\iffClosure~stashed~1.ipynb in case it is needed.\n",
      "Stashing _proofs_\\iffOverBoolImplEq.ipynb to _proofs_\\iffOverBoolImplEq~stashed~1.ipynb in case it is needed.\n",
      "Stashing _proofs_\\implicationClosure.ipynb to _proofs_\\implicationClosure~stashed~1.ipynb in case it is needed.\n",
      "Stashing _proofs_\\toContraposition.ipynb to _proofs_\\toContraposition~stashed~1.ipynb in case it is needed.\n",
      "Stashing _proofs_\\transpositionFromNegated.ipynb to _proofs_\\transpositionFromNegated~stashed~1.ipynb in case it is needed.\n",
      "Stashing _proofs_\\transpositionFromNegatedConclusion.ipynb to _proofs_\\transpositionFromNegatedConclusion~stashed~1.ipynb in case it is needed.\n",
      "Stashing _proofs_\\transpositionFromNegatedHypothesis.ipynb to _proofs_\\transpositionFromNegatedHypothesis~stashed~1.ipynb in case it is needed.\n",
      "Stashing _proofs_\\transpositionToNegated.ipynb to _proofs_\\transpositionToNegated~stashed~1.ipynb in case it is needed.\n"
     ]
    }
   ],
   "source": [
    "%end theorems"
   ]
  },
  {
   "cell_type": "code",
   "execution_count": null,
   "metadata": {
    "collapsed": true
   },
   "outputs": [],
   "source": []
  }
 ],
 "metadata": {
  "kernelspec": {
   "display_name": "Python 2",
   "language": "python",
   "name": "python2"
  },
  "language_info": {
   "codemirror_mode": {
    "name": "ipython",
    "version": 2
   },
   "file_extension": ".py",
   "mimetype": "text/x-python",
   "name": "python",
   "nbconvert_exporter": "python",
   "pygments_lexer": "ipython2",
   "version": "2.7.11"
  }
 },
 "nbformat": 4,
 "nbformat_minor": 0
}
