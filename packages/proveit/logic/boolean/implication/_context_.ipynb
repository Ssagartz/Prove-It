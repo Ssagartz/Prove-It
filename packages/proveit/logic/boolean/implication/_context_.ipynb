{
 "cells": [
  {
   "cell_type": "markdown",
   "metadata": {
    "collapsed": true,
    "deletable": true,
    "editable": true
   },
   "source": [
    "Context: <a href=\"..\\..\\..\\_context_.ipynb\">proveit</a>.<a href=\"..\\..\\_context_.ipynb\">logic</a>.<a href=\"..\\_context_.ipynb\">boolean</a>.implication\n",
    "========\n",
    "\n",
    "Context for implication operations: `Implies` ($\\Rightarrow$) and `Iff` ($\\Leftrightarrow$).  The `Implies` operation has an `antecedent` and a `consequent`.  For example, in $A \\Rightarrow B$, $A$ is the `antecedent` and $B$ is the `consequent`.  If an implication is true and the `antecedent` is true (e.g., $A$), the `consequent` must also be true (e.g. $B$).  That is $B$ is true *if* $A$ is true.  `Iff` should be read \"if and only if\" and is defined to mean that the implication goes both ways.  That is $A \\Leftrightarrow B$ means $A \\Rightarrow B$ and $B \\Rightarrow A$."
   ]
  },
  {
   "cell_type": "code",
   "execution_count": null,
   "metadata": {
    "collapsed": false,
    "deletable": true,
    "editable": true
   },
   "outputs": [],
   "source": [
    "import proveit\n",
    "%context"
   ]
  },
  {
   "cell_type": "code",
   "execution_count": null,
   "metadata": {
    "collapsed": true,
    "deletable": true,
    "editable": true
   },
   "outputs": [],
   "source": []
  }
 ],
 "metadata": {
  "kernelspec": {
   "display_name": "Python 2",
   "language": "python",
   "name": "python2"
  },
  "language_info": {
   "codemirror_mode": {
    "name": "ipython",
    "version": 2
   },
   "file_extension": ".py",
   "mimetype": "text/x-python",
   "name": "python",
   "nbconvert_exporter": "python",
   "pygments_lexer": "ipython2",
   "version": "2.7.11"
  }
 },
 "nbformat": 4,
 "nbformat_minor": 0
}