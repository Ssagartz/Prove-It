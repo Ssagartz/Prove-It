{
 "cells": [
  {
   "cell_type": "markdown",
   "metadata": {
    "collapsed": true,
    "deletable": true,
    "editable": true
   },
   "source": [
    "Proof of <a class=\"ProveItLink\" href=\"..\\..\\..\\..\\_context_.ipynb\">proveit</a>.<a class=\"ProveItLink\" href=\"..\\..\\..\\_context_.ipynb\">logic</a>.<a class=\"ProveItLink\" href=\"..\\..\\_context_.ipynb\">boolean</a>.<a class=\"ProveItLink\" href=\"..\\_context_.ipynb\">implication</a>.<a href=\"../_theorems_.ipynb#iffTransitivity\" class=\"ProveItLink\">iffTransitivity</a> theorem\n",
    "========"
   ]
  },
  {
   "cell_type": "code",
   "execution_count": 1,
   "metadata": {
    "collapsed": true,
    "deletable": true,
    "editable": true
   },
   "outputs": [],
   "source": [
    "import proveit\n",
    "context = proveit.Context('..') # the theorem's context is in the parent directory"
   ]
  },
  {
   "cell_type": "code",
   "execution_count": 2,
   "metadata": {
    "collapsed": false,
    "deletable": true,
    "editable": true
   },
   "outputs": [
    {
     "name": "stdout",
     "output_type": "stream",
     "text": [
      "Beginning proof of iffTransitivity\n",
      "Recorded 'presuming' information\n"
     ]
    },
    {
     "name": "stdout",
     "output_type": "stream",
     "text": [
      "Presuming previous theorem(s) in this context (and any of their dependencies).\n"
     ]
    },
    {
     "data": {
      "text/html": [
       "<strong id=\"iffTransitivity\">iffTransitivity:</strong> <a class=\"ProveItLink\" href=\"..\\__pv_it\\159ed6057aca73b19f6e089d2947577dfa13f5560\\expr.ipynb\"><img src=\"..\\__pv_it\\159ed6057aca73b19f6e089d2947577dfa13f5560\\expr.png\" style=\"display:inline;vertical-align:middle;\" /></a><br>(see <a class=\"ProveItLink\" href=\"..\\__pv_it\\159ed6057aca73b19f6e089d2947577dfa13f5560\\dependencies.ipynb\">dependencies</a>)"
      ],
      "text/plain": [
       "iffTransitivity: forall_{A, B, C | A <=> B , B <=> C} (A <=> C)"
      ]
     },
     "execution_count": 2,
     "metadata": {},
     "output_type": "execute_result"
    }
   ],
   "source": [
    "%proving iffTransitivity presuming []"
   ]
  },
  {
   "cell_type": "code",
   "execution_count": 3,
   "metadata": {
    "collapsed": false,
    "deletable": true,
    "editable": true
   },
   "outputs": [
    {
     "data": {
      "text/html": [
       "<table><tr><th>&nbsp;</th><th>step type</th><th>requirements</th><th>statement</th></tr>\n",
       "<tr><td>0</td><td>generalizaton</td><td>1</td><td><span style=\"font-size:20px;\"> &#x22A2;&nbsp;<a class=\"ProveItLink\" href=\"..\\__pv_it\\159ed6057aca73b19f6e089d2947577dfa13f5560\\expr.ipynb\"><img src=\"..\\__pv_it\\159ed6057aca73b19f6e089d2947577dfa13f5560\\expr.png\" style=\"display:inline;vertical-align:middle;\" /></a></span></td></tr>\n",
       "<tr><td>1</td><td>specialization</td><td>2, 3, 4</td><td><span style=\"font-size:20px;\"><a class=\"ProveItLink\" href=\"..\\__pv_it\\c7aacdbde5a9936bd52dbb99c355aaeadd6b72db0\\expr.ipynb\"><img src=\"..\\__pv_it\\c7aacdbde5a9936bd52dbb99c355aaeadd6b72db0\\expr.png\" style=\"display:inline;vertical-align:middle;\" /></a> &#x22A2;&nbsp;<a class=\"ProveItLink\" href=\"..\\__pv_it\\2edda506b23c2c09193538d96de680897449b41e0\\expr.ipynb\"><img src=\"..\\__pv_it\\2edda506b23c2c09193538d96de680897449b41e0\\expr.png\" style=\"display:inline;vertical-align:middle;\" /></a></span></td></tr>\n",
       "<tr><td>&nbsp;</td><td colspan=4 style=\"text-align:left\"><span style=\"font-size:20px;\"><a class=\"ProveItLink\" href=\"..\\__pv_it\\e2ee195baea449ecf67452694c66cbd67b2c19580\\expr.ipynb\"><img src=\"..\\__pv_it\\e2ee195baea449ecf67452694c66cbd67b2c19580\\expr.png\" style=\"display:inline;vertical-align:middle;\" /></a>, <a class=\"ProveItLink\" href=\"..\\__pv_it\\980e1b45d0249a0ec2ea73c3cc60691f9afcb8530\\expr.ipynb\"><img src=\"..\\__pv_it\\980e1b45d0249a0ec2ea73c3cc60691f9afcb8530\\expr.png\" style=\"display:inline;vertical-align:middle;\" /></a></span></td></tr><tr><td>2</td><td>theorem</td><td></td><td><span style=\"font-size:20px;\"> &#x22A2;&nbsp;<a class=\"ProveItLink\" href=\"..\\__pv_it\\2abf32a421c3a4a72948e5081ce3f4c03faf87130\\expr.ipynb\"><img src=\"..\\__pv_it\\2abf32a421c3a4a72948e5081ce3f4c03faf87130\\expr.png\" style=\"display:inline;vertical-align:middle;\" /></a></span></td></tr>\n",
       "<tr><td>&nbsp;</td><td colspan=4 style-\"text-align:left\"><a class=\"ProveItLink\" href=\"iffIntro.ipynb\">proveit.logic.boolean.implication.iffIntro</a></td></tr><tr><td>3</td><td>hypothetical reasoning</td><td>5</td><td><span style=\"font-size:20px;\"><a class=\"ProveItLink\" href=\"..\\__pv_it\\c7aacdbde5a9936bd52dbb99c355aaeadd6b72db0\\expr.ipynb\"><img src=\"..\\__pv_it\\c7aacdbde5a9936bd52dbb99c355aaeadd6b72db0\\expr.png\" style=\"display:inline;vertical-align:middle;\" /></a> &#x22A2;&nbsp;<a class=\"ProveItLink\" href=\"..\\__pv_it\\8affff1f8d6a799192f6c7ceb935a0058b7d63560\\expr.ipynb\"><img src=\"..\\__pv_it\\8affff1f8d6a799192f6c7ceb935a0058b7d63560\\expr.png\" style=\"display:inline;vertical-align:middle;\" /></a></span></td></tr>\n",
       "<tr><td>4</td><td>hypothetical reasoning</td><td>6</td><td><span style=\"font-size:20px;\"><a class=\"ProveItLink\" href=\"..\\__pv_it\\c7aacdbde5a9936bd52dbb99c355aaeadd6b72db0\\expr.ipynb\"><img src=\"..\\__pv_it\\c7aacdbde5a9936bd52dbb99c355aaeadd6b72db0\\expr.png\" style=\"display:inline;vertical-align:middle;\" /></a> &#x22A2;&nbsp;<a class=\"ProveItLink\" href=\"..\\__pv_it\\0953037c9687d539a90005dc42e33f2f146ed2330\\expr.ipynb\"><img src=\"..\\__pv_it\\0953037c9687d539a90005dc42e33f2f146ed2330\\expr.png\" style=\"display:inline;vertical-align:middle;\" /></a></span></td></tr>\n",
       "<tr><td>5</td><td>modus ponens</td><td>7, 8</td><td><span style=\"font-size:20px;\"><a class=\"ProveItLink\" href=\"..\\__pv_it\\fd92cf1c4d90cea35e4b08d0ce28b9ecd4514aba0\\expr.ipynb\"><img src=\"..\\__pv_it\\fd92cf1c4d90cea35e4b08d0ce28b9ecd4514aba0\\expr.png\" style=\"display:inline;vertical-align:middle;\" /></a> &#x22A2;&nbsp;<a class=\"ProveItLink\" href=\"..\\..\\..\\..\\__pv_it\\985a1bdf1540838275dec15f4ad6de261cca93ce0\\expr.ipynb\"><img src=\"..\\..\\..\\..\\__pv_it\\985a1bdf1540838275dec15f4ad6de261cca93ce0\\expr.png\" style=\"display:inline;vertical-align:middle;\" /></a></span></td></tr>\n",
       "<tr><td>6</td><td>modus ponens</td><td>9, 10</td><td><span style=\"font-size:20px;\"><a class=\"ProveItLink\" href=\"..\\__pv_it\\2577608e26f7d736ebb57e5efff038bcef7d79940\\expr.ipynb\"><img src=\"..\\__pv_it\\2577608e26f7d736ebb57e5efff038bcef7d79940\\expr.png\" style=\"display:inline;vertical-align:middle;\" /></a> &#x22A2;&nbsp;<a class=\"ProveItLink\" href=\"..\\..\\..\\..\\__pv_it\\2cbe72a7ad6f655694dd697106680215e8489b600\\expr.ipynb\"><img src=\"..\\..\\..\\..\\__pv_it\\2cbe72a7ad6f655694dd697106680215e8489b600\\expr.png\" style=\"display:inline;vertical-align:middle;\" /></a></span></td></tr>\n",
       "<tr><td>7</td><td>specialization</td><td>15, 18</td><td><span style=\"font-size:20px;\"><a class=\"ProveItLink\" href=\"..\\__pv_it\\7e8182bcdfd6b8cd0f73405ac4abdf54275b4e200\\expr.ipynb\"><img src=\"..\\__pv_it\\7e8182bcdfd6b8cd0f73405ac4abdf54275b4e200\\expr.png\" style=\"display:inline;vertical-align:middle;\" /></a> &#x22A2;&nbsp;<a class=\"ProveItLink\" href=\"..\\__pv_it\\8248a3ffba4d5240b8a0a829ef60767a62f894140\\expr.ipynb\"><img src=\"..\\__pv_it\\8248a3ffba4d5240b8a0a829ef60767a62f894140\\expr.png\" style=\"display:inline;vertical-align:middle;\" /></a></span></td></tr>\n",
       "<tr><td>&nbsp;</td><td colspan=4 style=\"text-align:left\"><span style=\"font-size:20px;\"><a class=\"ProveItLink\" href=\"..\\__pv_it\\788ef5511dfca54206679fdb7d1131e45dc4c3d50\\expr.ipynb\"><img src=\"..\\__pv_it\\788ef5511dfca54206679fdb7d1131e45dc4c3d50\\expr.png\" style=\"display:inline;vertical-align:middle;\" /></a>, <a class=\"ProveItLink\" href=\"..\\__pv_it\\980e1b45d0249a0ec2ea73c3cc60691f9afcb8530\\expr.ipynb\"><img src=\"..\\__pv_it\\980e1b45d0249a0ec2ea73c3cc60691f9afcb8530\\expr.png\" style=\"display:inline;vertical-align:middle;\" /></a></span></td></tr><tr><td>8</td><td>modus ponens</td><td>11, 12</td><td><span style=\"font-size:20px;\"><a class=\"ProveItLink\" href=\"..\\__pv_it\\99d8fd1f1d3d9688343284837b646832dd2d69af0\\expr.ipynb\"><img src=\"..\\__pv_it\\99d8fd1f1d3d9688343284837b646832dd2d69af0\\expr.png\" style=\"display:inline;vertical-align:middle;\" /></a> &#x22A2;&nbsp;<a class=\"ProveItLink\" href=\"..\\..\\..\\..\\__pv_it\\077b2ff79244fb4582cbe22c6e3356fa92a52f2f0\\expr.ipynb\"><img src=\"..\\..\\..\\..\\__pv_it\\077b2ff79244fb4582cbe22c6e3356fa92a52f2f0\\expr.png\" style=\"display:inline;vertical-align:middle;\" /></a></span></td></tr>\n",
       "<tr><td>9</td><td>specialization</td><td>17, 16</td><td><span style=\"font-size:20px;\"><a class=\"ProveItLink\" href=\"..\\__pv_it\\e50116be5e9fecc63354891410412e4e2485d8200\\expr.ipynb\"><img src=\"..\\__pv_it\\e50116be5e9fecc63354891410412e4e2485d8200\\expr.png\" style=\"display:inline;vertical-align:middle;\" /></a> &#x22A2;&nbsp;<a class=\"ProveItLink\" href=\"..\\__pv_it\\58231239aa3ff75feba4340b3e09a295f56b05c20\\expr.ipynb\"><img src=\"..\\__pv_it\\58231239aa3ff75feba4340b3e09a295f56b05c20\\expr.png\" style=\"display:inline;vertical-align:middle;\" /></a></span></td></tr>\n",
       "<tr><td>&nbsp;</td><td colspan=4 style=\"text-align:left\"><span style=\"font-size:20px;\"><a class=\"ProveItLink\" href=\"..\\__pv_it\\e2ee195baea449ecf67452694c66cbd67b2c19580\\expr.ipynb\"><img src=\"..\\__pv_it\\e2ee195baea449ecf67452694c66cbd67b2c19580\\expr.png\" style=\"display:inline;vertical-align:middle;\" /></a>, <a class=\"ProveItLink\" href=\"..\\__pv_it\\3da54a39405853797ebcbd9cbd4fe26001295deb0\\expr.ipynb\"><img src=\"..\\__pv_it\\3da54a39405853797ebcbd9cbd4fe26001295deb0\\expr.png\" style=\"display:inline;vertical-align:middle;\" /></a></span></td></tr><tr><td>10</td><td>modus ponens</td><td>13, 14</td><td><span style=\"font-size:20px;\"><a class=\"ProveItLink\" href=\"..\\__pv_it\\32698a498d1e70062b4e69ebaaeca368481772250\\expr.ipynb\"><img src=\"..\\__pv_it\\32698a498d1e70062b4e69ebaaeca368481772250\\expr.png\" style=\"display:inline;vertical-align:middle;\" /></a> &#x22A2;&nbsp;<a class=\"ProveItLink\" href=\"..\\..\\..\\..\\__pv_it\\077b2ff79244fb4582cbe22c6e3356fa92a52f2f0\\expr.ipynb\"><img src=\"..\\..\\..\\..\\__pv_it\\077b2ff79244fb4582cbe22c6e3356fa92a52f2f0\\expr.png\" style=\"display:inline;vertical-align:middle;\" /></a></span></td></tr>\n",
       "<tr><td>11</td><td>specialization</td><td>15, 16</td><td><span style=\"font-size:20px;\"><a class=\"ProveItLink\" href=\"..\\__pv_it\\e50116be5e9fecc63354891410412e4e2485d8200\\expr.ipynb\"><img src=\"..\\__pv_it\\e50116be5e9fecc63354891410412e4e2485d8200\\expr.png\" style=\"display:inline;vertical-align:middle;\" /></a> &#x22A2;&nbsp;<a class=\"ProveItLink\" href=\"..\\__pv_it\\e73a70c11cb4dd0ed268f52ee1583e255f8135080\\expr.ipynb\"><img src=\"..\\__pv_it\\e73a70c11cb4dd0ed268f52ee1583e255f8135080\\expr.png\" style=\"display:inline;vertical-align:middle;\" /></a></span></td></tr>\n",
       "<tr><td>&nbsp;</td><td colspan=4 style=\"text-align:left\"><span style=\"font-size:20px;\"><a class=\"ProveItLink\" href=\"..\\__pv_it\\e2ee195baea449ecf67452694c66cbd67b2c19580\\expr.ipynb\"><img src=\"..\\__pv_it\\e2ee195baea449ecf67452694c66cbd67b2c19580\\expr.png\" style=\"display:inline;vertical-align:middle;\" /></a>, <a class=\"ProveItLink\" href=\"..\\__pv_it\\3da54a39405853797ebcbd9cbd4fe26001295deb0\\expr.ipynb\"><img src=\"..\\__pv_it\\3da54a39405853797ebcbd9cbd4fe26001295deb0\\expr.png\" style=\"display:inline;vertical-align:middle;\" /></a></span></td></tr><tr><td>12</td><td>assumption</td><td></td><td><span style=\"font-size:20px;\"><a class=\"ProveItLink\" href=\"..\\__pv_it\\158bdc91074824c720728a23dba5d58593c8cc480\\expr.ipynb\"><img src=\"..\\__pv_it\\158bdc91074824c720728a23dba5d58593c8cc480\\expr.png\" style=\"display:inline;vertical-align:middle;\" /></a> &#x22A2;&nbsp;<a class=\"ProveItLink\" href=\"..\\..\\..\\..\\__pv_it\\2cbe72a7ad6f655694dd697106680215e8489b600\\expr.ipynb\"><img src=\"..\\..\\..\\..\\__pv_it\\2cbe72a7ad6f655694dd697106680215e8489b600\\expr.png\" style=\"display:inline;vertical-align:middle;\" /></a></span></td></tr>\n",
       "<tr><td>13</td><td>specialization</td><td>17, 18</td><td><span style=\"font-size:20px;\"><a class=\"ProveItLink\" href=\"..\\__pv_it\\7e8182bcdfd6b8cd0f73405ac4abdf54275b4e200\\expr.ipynb\"><img src=\"..\\__pv_it\\7e8182bcdfd6b8cd0f73405ac4abdf54275b4e200\\expr.png\" style=\"display:inline;vertical-align:middle;\" /></a> &#x22A2;&nbsp;<a class=\"ProveItLink\" href=\"..\\__pv_it\\075da54d02064a6bfd387939f529c5962758cff40\\expr.ipynb\"><img src=\"..\\__pv_it\\075da54d02064a6bfd387939f529c5962758cff40\\expr.png\" style=\"display:inline;vertical-align:middle;\" /></a></span></td></tr>\n",
       "<tr><td>&nbsp;</td><td colspan=4 style=\"text-align:left\"><span style=\"font-size:20px;\"><a class=\"ProveItLink\" href=\"..\\__pv_it\\788ef5511dfca54206679fdb7d1131e45dc4c3d50\\expr.ipynb\"><img src=\"..\\__pv_it\\788ef5511dfca54206679fdb7d1131e45dc4c3d50\\expr.png\" style=\"display:inline;vertical-align:middle;\" /></a>, <a class=\"ProveItLink\" href=\"..\\__pv_it\\980e1b45d0249a0ec2ea73c3cc60691f9afcb8530\\expr.ipynb\"><img src=\"..\\__pv_it\\980e1b45d0249a0ec2ea73c3cc60691f9afcb8530\\expr.png\" style=\"display:inline;vertical-align:middle;\" /></a></span></td></tr><tr><td>14</td><td>assumption</td><td></td><td><span style=\"font-size:20px;\"><a class=\"ProveItLink\" href=\"..\\__pv_it\\b870f93226db8fd4cf85152efb55897b119f058c0\\expr.ipynb\"><img src=\"..\\__pv_it\\b870f93226db8fd4cf85152efb55897b119f058c0\\expr.png\" style=\"display:inline;vertical-align:middle;\" /></a> &#x22A2;&nbsp;<a class=\"ProveItLink\" href=\"..\\..\\..\\..\\__pv_it\\985a1bdf1540838275dec15f4ad6de261cca93ce0\\expr.ipynb\"><img src=\"..\\..\\..\\..\\__pv_it\\985a1bdf1540838275dec15f4ad6de261cca93ce0\\expr.png\" style=\"display:inline;vertical-align:middle;\" /></a></span></td></tr>\n",
       "<tr><td>15</td><td>theorem</td><td></td><td><span style=\"font-size:20px;\"> &#x22A2;&nbsp;<a class=\"ProveItLink\" href=\"..\\__pv_it\\314d948b7084310c1dc19721d8129adc9c252f5c0\\expr.ipynb\"><img src=\"..\\__pv_it\\314d948b7084310c1dc19721d8129adc9c252f5c0\\expr.png\" style=\"display:inline;vertical-align:middle;\" /></a></span></td></tr>\n",
       "<tr><td>&nbsp;</td><td colspan=4 style-\"text-align:left\"><a class=\"ProveItLink\" href=\"iffImpliesRight.ipynb\">proveit.logic.boolean.implication.iffImpliesRight</a></td></tr><tr><td>16</td><td>assumption</td><td></td><td><span style=\"font-size:20px;\"><a class=\"ProveItLink\" href=\"..\\__pv_it\\e50116be5e9fecc63354891410412e4e2485d8200\\expr.ipynb\"><img src=\"..\\__pv_it\\e50116be5e9fecc63354891410412e4e2485d8200\\expr.png\" style=\"display:inline;vertical-align:middle;\" /></a> &#x22A2;&nbsp;<a class=\"ProveItLink\" href=\"..\\__pv_it\\315d469da84f8bd61c78705cff800abb69da38bc0\\expr.ipynb\"><img src=\"..\\__pv_it\\315d469da84f8bd61c78705cff800abb69da38bc0\\expr.png\" style=\"display:inline;vertical-align:middle;\" /></a></span></td></tr>\n",
       "<tr><td>17</td><td>theorem</td><td></td><td><span style=\"font-size:20px;\"> &#x22A2;&nbsp;<a class=\"ProveItLink\" href=\"..\\__pv_it\\ff6aa31eb9c981edd08a448c443877708f95d3420\\expr.ipynb\"><img src=\"..\\__pv_it\\ff6aa31eb9c981edd08a448c443877708f95d3420\\expr.png\" style=\"display:inline;vertical-align:middle;\" /></a></span></td></tr>\n",
       "<tr><td>&nbsp;</td><td colspan=4 style-\"text-align:left\"><a class=\"ProveItLink\" href=\"iffImpliesLeft.ipynb\">proveit.logic.boolean.implication.iffImpliesLeft</a></td></tr><tr><td>18</td><td>assumption</td><td></td><td><span style=\"font-size:20px;\"><a class=\"ProveItLink\" href=\"..\\__pv_it\\7e8182bcdfd6b8cd0f73405ac4abdf54275b4e200\\expr.ipynb\"><img src=\"..\\__pv_it\\7e8182bcdfd6b8cd0f73405ac4abdf54275b4e200\\expr.png\" style=\"display:inline;vertical-align:middle;\" /></a> &#x22A2;&nbsp;<a class=\"ProveItLink\" href=\"..\\__pv_it\\54322dca8c726a8aacf959d54971b0da131547540\\expr.ipynb\"><img src=\"..\\__pv_it\\54322dca8c726a8aacf959d54971b0da131547540\\expr.png\" style=\"display:inline;vertical-align:middle;\" /></a></span></td></tr>\n",
       "</table>"
      ],
      "text/plain": [
       "\tstep type\trequirements\tstatement\n",
       "0\tgeneralizaton\t1\t|= forall_{A, B, C | A <=> B , B <=> C} (A <=> C)\n",
       "1\tspecialization\t2, 3, 4\t{A <=> B , B <=> C} |= A <=> C\n",
       "\tA -> A, B -> C\n",
       "2\ttheorem\t\t|= forall_{A, B | A => B , B => A} (A <=> B)\n",
       "\tproveit.logic.boolean.implication.iffIntro\n",
       "3\thypothetical reasoning\t5\t{A <=> B , B <=> C} |= A => C\n",
       "4\thypothetical reasoning\t6\t{A <=> B , B <=> C} |= C => A\n",
       "5\tmodus ponens\t7, 8\t{A <=> B , B <=> C , A} |= C\n",
       "6\tmodus ponens\t9, 10\t{A <=> B , B <=> C , C} |= A\n",
       "7\tspecialization\t15, 18\t{B <=> C} |= B => C\n",
       "\tA -> B, B -> C\n",
       "8\tmodus ponens\t11, 12\t{A <=> B , A} |= B\n",
       "9\tspecialization\t17, 16\t{A <=> B} |= B => A\n",
       "\tA -> A, B -> B\n",
       "10\tmodus ponens\t13, 14\t{B <=> C , C} |= B\n",
       "11\tspecialization\t15, 16\t{A <=> B} |= A => B\n",
       "\tA -> A, B -> B\n",
       "12\tassumption\t\t{A} |= A\n",
       "13\tspecialization\t17, 18\t{B <=> C} |= C => B\n",
       "\tA -> B, B -> C\n",
       "14\tassumption\t\t{C} |= C\n",
       "15\ttheorem\t\t|= forall_{A, B | A <=> B} (A => B)\n",
       "\tproveit.logic.boolean.implication.iffImpliesRight\n",
       "16\tassumption\t\t{A <=> B} |= A <=> B\n",
       "17\ttheorem\t\t|= forall_{A, B | A <=> B} (B => A)\n",
       "\tproveit.logic.boolean.implication.iffImpliesLeft\n",
       "18\tassumption\t\t{B <=> C} |= B <=> C"
      ]
     },
     "execution_count": 3,
     "metadata": {},
     "output_type": "execute_result"
    }
   ],
   "source": [
    "%qed # automation can handle this"
   ]
  },
  {
   "cell_type": "code",
   "execution_count": 4,
   "metadata": {
    "collapsed": true
   },
   "outputs": [],
   "source": []
  }
 ],
 "metadata": {
  "kernelspec": {
   "display_name": "Python 2",
   "language": "python",
   "name": "python2"
  },
  "language_info": {
   "codemirror_mode": {
    "name": "ipython",
    "version": 2
   },
   "file_extension": ".py",
   "mimetype": "text/x-python",
   "name": "python",
   "nbconvert_exporter": "python",
   "pygments_lexer": "ipython2",
   "version": "2.7.11"
  }
 },
 "nbformat": 4,
 "nbformat_minor": 0
}
