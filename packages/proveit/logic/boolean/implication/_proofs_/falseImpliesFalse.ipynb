{
 "cells": [
  {
   "cell_type": "markdown",
   "metadata": {
    "collapsed": true,
    "deletable": true,
    "editable": true
   },
   "source": [
    "Proof of <a class=\"ProveItLink\" href=\"..\\..\\..\\..\\_context_.ipynb\">proveit</a>.<a class=\"ProveItLink\" href=\"..\\..\\..\\_context_.ipynb\">logic</a>.<a class=\"ProveItLink\" href=\"..\\..\\_context_.ipynb\">boolean</a>.<a class=\"ProveItLink\" href=\"..\\_context_.ipynb\">implication</a>.<a href=\"../_theorems_.ipynb#falseImpliesFalse\" class=\"ProveItLink\">falseImpliesFalse</a> theorem\n",
    "========"
   ]
  },
  {
   "cell_type": "code",
   "execution_count": 1,
   "metadata": {
    "collapsed": true,
    "deletable": true,
    "editable": true
   },
   "outputs": [],
   "source": [
    "import proveit\n",
    "context = proveit.Context('..') # the theorem's context is in the parent directory"
   ]
  },
  {
   "cell_type": "code",
   "execution_count": 2,
   "metadata": {
    "collapsed": false,
    "deletable": true,
    "editable": true
   },
   "outputs": [
    {
     "name": "stdout",
     "output_type": "stream",
     "text": [
      "Beginning proof of falseImpliesFalse\n",
      "Recorded 'presuming' information\n",
      "Presuming previous theorems in this context (and any of their dependencies).\n"
     ]
    },
    {
     "data": {
      "text/html": [
       "<strong id=\"falseImpliesFalse\">falseImpliesFalse:</strong> <a class=\"ProveItLink\" href=\"..\\__pv_it\\a2c1fd2703ff7e9468d04b875f4fb8dd37d9755f0\\expr.ipynb\"><img src=\"..\\__pv_it\\a2c1fd2703ff7e9468d04b875f4fb8dd37d9755f0\\expr.png\" style=\"display:inline;vertical-align:middle;\" /></a><br>(see <a class=\"ProveItLink\" href=\"..\\__pv_it\\a2c1fd2703ff7e9468d04b875f4fb8dd37d9755f0\\dependencies.ipynb\">dependencies</a>)"
      ],
      "text/plain": [
       "falseImpliesFalse: FALSE => FALSE"
      ]
     },
     "execution_count": 2,
     "metadata": {},
     "output_type": "execute_result"
    }
   ],
   "source": [
    "%proving falseImpliesFalse presuming []"
   ]
  },
  {
   "cell_type": "code",
   "execution_count": 3,
   "metadata": {
    "collapsed": false,
    "deletable": true,
    "editable": true
   },
   "outputs": [
    {
     "data": {
      "text/html": [
       "<table><tr><th>&nbsp;</th><th>step type</th><th>requirements</th><th>statement</th></tr>\n",
       "<tr><td>0</td><td>specialization</td><td>1</td><td><span style=\"font-size:20px;\"> &#x22A2;&nbsp;<a class=\"ProveItLink\" href=\"..\\__pv_it\\a2c1fd2703ff7e9468d04b875f4fb8dd37d9755f0\\expr.ipynb\"><img src=\"..\\__pv_it\\a2c1fd2703ff7e9468d04b875f4fb8dd37d9755f0\\expr.png\" style=\"display:inline;vertical-align:middle;\" /></a></span></td></tr>\n",
       "<tr><td>&nbsp;</td><td colspan=4 style=\"text-align:left\"><span style=\"font-size:20px;\"><a class=\"ProveItLink\" href=\"..\\__pv_it\\bbad5e5f791c422e78ea21c9c7508d556ab4e3c40\\expr.ipynb\"><img src=\"..\\__pv_it\\bbad5e5f791c422e78ea21c9c7508d556ab4e3c40\\expr.png\" style=\"display:inline;vertical-align:middle;\" /></a></span></td></tr><tr><td>1</td><td>theorem</td><td></td><td><span style=\"font-size:20px;\"> &#x22A2;&nbsp;<a class=\"ProveItLink\" href=\"..\\__pv_it\\47d2019e4b232ac9571c6ce637c86af57d090bee0\\expr.ipynb\"><img src=\"..\\__pv_it\\47d2019e4b232ac9571c6ce637c86af57d090bee0\\expr.png\" style=\"display:inline;vertical-align:middle;\" /></a></span></td></tr>\n",
       "<tr><td>&nbsp;</td><td colspan=4 style-\"text-align:left\"><a class=\"ProveItLink\" href=\"selfImplication.ipynb\">proveit.logic.boolean.implication.selfImplication</a></td></tr>"
      ],
      "text/plain": [
       "<proveit._core_.proof.Specialization instance at 0x0000000008F14308>"
      ]
     },
     "execution_count": 3,
     "metadata": {},
     "output_type": "execute_result"
    }
   ],
   "source": [
    "%qed"
   ]
  },
  {
   "cell_type": "code",
   "execution_count": null,
   "metadata": {
    "collapsed": true,
    "deletable": true,
    "editable": true
   },
   "outputs": [],
   "source": []
  }
 ],
 "metadata": {
  "kernelspec": {
   "display_name": "Python 2",
   "language": "python",
   "name": "python2"
  },
  "language_info": {
   "codemirror_mode": {
    "name": "ipython",
    "version": 2
   },
   "file_extension": ".py",
   "mimetype": "text/x-python",
   "name": "python",
   "nbconvert_exporter": "python",
   "pygments_lexer": "ipython2",
   "version": "2.7.11"
  }
 },
 "nbformat": 4,
 "nbformat_minor": 0
}
