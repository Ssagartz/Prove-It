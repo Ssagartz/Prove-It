{
 "cells": [
  {
   "cell_type": "markdown",
   "metadata": {
    "collapsed": true,
    "deletable": true,
    "editable": true
   },
   "source": [
    "Proof of <a class=\"ProveItLink\" href=\"..\\..\\..\\..\\_context_.ipynb\">proveit</a>.<a class=\"ProveItLink\" href=\"..\\..\\..\\_context_.ipynb\">logic</a>.<a class=\"ProveItLink\" href=\"..\\..\\_context_.ipynb\">boolean</a>.<a class=\"ProveItLink\" href=\"..\\_context_.ipynb\">implication</a>.<a href=\"../_theorems_.ipynb#iffImpliesRight\" class=\"ProveItLink\">iffImpliesRight</a> theorem\n",
    "========"
   ]
  },
  {
   "cell_type": "code",
   "execution_count": 1,
   "metadata": {
    "collapsed": true,
    "deletable": true,
    "editable": true
   },
   "outputs": [],
   "source": [
    "import proveit\n",
    "from proveit.logic.boolean.implication._axioms_ import iffDef\n",
    "context = proveit.Context('..') # the theorem's context is in the parent directory"
   ]
  },
  {
   "cell_type": "code",
   "execution_count": 2,
   "metadata": {
    "collapsed": false,
    "deletable": true,
    "editable": true
   },
   "outputs": [
    {
     "name": "stdout",
     "output_type": "stream",
     "text": [
      "Beginning proof of iffImpliesRight\n",
      "Recorded 'presuming' information\n"
     ]
    },
    {
     "name": "stdout",
     "output_type": "stream",
     "text": [
      "Presuming proveit.logic.boolean.conjunction.leftFromAnd theorem(s).\n",
      "Presuming previous theorems in this context (and any of their dependencies).\n"
     ]
    },
    {
     "data": {
      "text/html": [
       "<strong id=\"iffImpliesRight\">iffImpliesRight:</strong> <a class=\"ProveItLink\" href=\"..\\__pv_it\\314d948b7084310c1dc19721d8129adc9c252f5c0\\expr.ipynb\"><img src=\"..\\__pv_it\\314d948b7084310c1dc19721d8129adc9c252f5c0\\expr.png\" style=\"display:inline;vertical-align:middle;\" /></a><br>(see <a class=\"ProveItLink\" href=\"..\\__pv_it\\314d948b7084310c1dc19721d8129adc9c252f5c0\\dependencies.ipynb\">dependencies</a>)"
      ],
      "text/plain": [
       "iffImpliesRight: forall_{A, B | A <=> B} (A => B)"
      ]
     },
     "execution_count": 2,
     "metadata": {},
     "output_type": "execute_result"
    }
   ],
   "source": [
    "%proving iffImpliesRight presuming [proveit.logic.boolean.conjunction.leftFromAnd]"
   ]
  },
  {
   "cell_type": "code",
   "execution_count": 3,
   "metadata": {
    "collapsed": false
   },
   "outputs": [
    {
     "data": {
      "text/html": [
       "<span style=\"font-size:20px;\"> &#x22A2;&nbsp;<a class=\"ProveItLink\" href=\"..\\__pv_it\\ff800f46f36167e6381dcac76c3de56b95f173d40\\expr.ipynb\"><img src=\"..\\__pv_it\\ff800f46f36167e6381dcac76c3de56b95f173d40\\expr.png\" style=\"display:inline;vertical-align:middle;\" /></a></span>"
      ],
      "text/plain": [
       "|= forall_{A, B} ((A <=> B) = ((A => B) and (B => A)))"
      ]
     },
     "execution_count": 3,
     "metadata": {},
     "output_type": "execute_result"
    }
   ],
   "source": [
    "iffDef"
   ]
  },
  {
   "cell_type": "code",
   "execution_count": 4,
   "metadata": {
    "collapsed": false
   },
   "outputs": [
    {
     "data": {
      "text/html": [
       "<strong id=\"iffDefSpec\">iffDefSpec:</strong> <span style=\"font-size:20px;\"> &#x22A2;&nbsp;<a class=\"ProveItLink\" href=\"..\\__pv_it\\f5fd5d4e2da4d672b76d3263b49fecf019d092370\\expr.ipynb\"><img src=\"..\\__pv_it\\f5fd5d4e2da4d672b76d3263b49fecf019d092370\\expr.png\" style=\"display:inline;vertical-align:middle;\" /></a></span><br>"
      ],
      "text/plain": [
       "iffDefSpec: |= (A <=> B) = ((A => B) and (B => A))"
      ]
     },
     "execution_count": 4,
     "metadata": {},
     "output_type": "execute_result"
    }
   ],
   "source": [
    "iffDefSpec = iffDef.specialize()"
   ]
  },
  {
   "cell_type": "code",
   "execution_count": 5,
   "metadata": {
    "collapsed": false
   },
   "outputs": [
    {
     "data": {
      "text/html": [
       "<span style=\"font-size:20px;\"><a class=\"ProveItLink\" href=\"..\\__pv_it\\e50116be5e9fecc63354891410412e4e2485d8200\\expr.ipynb\"><img src=\"..\\__pv_it\\e50116be5e9fecc63354891410412e4e2485d8200\\expr.png\" style=\"display:inline;vertical-align:middle;\" /></a> &#x22A2;&nbsp;<a class=\"ProveItLink\" href=\"..\\__pv_it\\434148932d7b270f25113c0ed7ba844d5c70a34f0\\expr.ipynb\"><img src=\"..\\__pv_it\\434148932d7b270f25113c0ed7ba844d5c70a34f0\\expr.png\" style=\"display:inline;vertical-align:middle;\" /></a></span>"
      ],
      "text/plain": [
       "{A <=> B} |= (A => B) and (B => A)"
      ]
     },
     "execution_count": 5,
     "metadata": {},
     "output_type": "execute_result"
    }
   ],
   "source": [
    "iffDefSpec.deriveRightViaEquivalence(iffImpliesRight.conditions)"
   ]
  },
  {
   "cell_type": "code",
   "execution_count": 6,
   "metadata": {
    "collapsed": false,
    "deletable": true,
    "editable": true
   },
   "outputs": [
    {
     "data": {
      "text/html": [
       "<table><tr><th>&nbsp;</th><th>step type</th><th>requirements</th><th>statement</th></tr>\n",
       "<tr><td>0</td><td>generalizaton</td><td>1</td><td><span style=\"font-size:20px;\"> &#x22A2;&nbsp;<a class=\"ProveItLink\" href=\"..\\__pv_it\\314d948b7084310c1dc19721d8129adc9c252f5c0\\expr.ipynb\"><img src=\"..\\__pv_it\\314d948b7084310c1dc19721d8129adc9c252f5c0\\expr.png\" style=\"display:inline;vertical-align:middle;\" /></a></span></td></tr>\n",
       "<tr><td>1</td><td>specialization</td><td>2, 3</td><td><span style=\"font-size:20px;\"><a class=\"ProveItLink\" href=\"..\\__pv_it\\e50116be5e9fecc63354891410412e4e2485d8200\\expr.ipynb\"><img src=\"..\\__pv_it\\e50116be5e9fecc63354891410412e4e2485d8200\\expr.png\" style=\"display:inline;vertical-align:middle;\" /></a> &#x22A2;&nbsp;<a class=\"ProveItLink\" href=\"..\\__pv_it\\e73a70c11cb4dd0ed268f52ee1583e255f8135080\\expr.ipynb\"><img src=\"..\\__pv_it\\e73a70c11cb4dd0ed268f52ee1583e255f8135080\\expr.png\" style=\"display:inline;vertical-align:middle;\" /></a></span></td></tr>\n",
       "<tr><td>&nbsp;</td><td colspan=4 style=\"text-align:left\"><span style=\"font-size:20px;\"><a class=\"ProveItLink\" href=\"..\\__pv_it\\fd3fa6e1924e8cc97c4f7badf097c09289424e7c0\\expr.ipynb\"><img src=\"..\\__pv_it\\fd3fa6e1924e8cc97c4f7badf097c09289424e7c0\\expr.png\" style=\"display:inline;vertical-align:middle;\" /></a>, <a class=\"ProveItLink\" href=\"..\\__pv_it\\19535f1e6017fa56cb5d241772540ece82656f500\\expr.ipynb\"><img src=\"..\\__pv_it\\19535f1e6017fa56cb5d241772540ece82656f500\\expr.png\" style=\"display:inline;vertical-align:middle;\" /></a></span></td></tr><tr><td>2</td><td>theorem</td><td></td><td><span style=\"font-size:20px;\"> &#x22A2;&nbsp;<a class=\"ProveItLink\" href=\"..\\..\\conjunction\\__pv_it\\02f63a5ed79febf39563abd5215f100e326a61450\\expr.ipynb\"><img src=\"..\\..\\conjunction\\__pv_it\\02f63a5ed79febf39563abd5215f100e326a61450\\expr.png\" style=\"display:inline;vertical-align:middle;\" /></a></span></td></tr>\n",
       "<tr><td>&nbsp;</td><td colspan=4 style-\"text-align:left\"><a class=\"ProveItLink\" href=\"..\\..\\conjunction\\_proofs_\\leftFromAnd.ipynb\">proveit.logic.boolean.conjunction.leftFromAnd</a></td></tr><tr><td>3</td><td>specialization</td><td>4, 5, 6</td><td><span style=\"font-size:20px;\"><a class=\"ProveItLink\" href=\"..\\__pv_it\\e50116be5e9fecc63354891410412e4e2485d8200\\expr.ipynb\"><img src=\"..\\__pv_it\\e50116be5e9fecc63354891410412e4e2485d8200\\expr.png\" style=\"display:inline;vertical-align:middle;\" /></a> &#x22A2;&nbsp;<a class=\"ProveItLink\" href=\"..\\__pv_it\\434148932d7b270f25113c0ed7ba844d5c70a34f0\\expr.ipynb\"><img src=\"..\\__pv_it\\434148932d7b270f25113c0ed7ba844d5c70a34f0\\expr.png\" style=\"display:inline;vertical-align:middle;\" /></a></span></td></tr>\n",
       "<tr><td>&nbsp;</td><td colspan=4 style=\"text-align:left\"><span style=\"font-size:20px;\"><a class=\"ProveItLink\" href=\"..\\__pv_it\\5db8553d9289bee522a84469e51ec020769b1c260\\expr.ipynb\"><img src=\"..\\__pv_it\\5db8553d9289bee522a84469e51ec020769b1c260\\expr.png\" style=\"display:inline;vertical-align:middle;\" /></a>, <a class=\"ProveItLink\" href=\"..\\__pv_it\\3caf044de10b0bc8e6f2f42d1821085a08eafe350\\expr.ipynb\"><img src=\"..\\__pv_it\\3caf044de10b0bc8e6f2f42d1821085a08eafe350\\expr.png\" style=\"display:inline;vertical-align:middle;\" /></a></span></td></tr><tr><td>4</td><td>theorem</td><td></td><td><span style=\"font-size:20px;\"> &#x22A2;&nbsp;<a class=\"ProveItLink\" href=\"..\\..\\..\\equality\\__pv_it\\20f6197d92a4d6f4184131bc4d9ee6adbfe00fd00\\expr.ipynb\"><img src=\"..\\..\\..\\equality\\__pv_it\\20f6197d92a4d6f4184131bc4d9ee6adbfe00fd00\\expr.png\" style=\"display:inline;vertical-align:middle;\" /></a></span></td></tr>\n",
       "<tr><td>&nbsp;</td><td colspan=4 style-\"text-align:left\"><a class=\"ProveItLink\" href=\"..\\..\\..\\equality\\_proofs_\\rhsViaEquivalence.ipynb\">proveit.logic.equality.rhsViaEquivalence</a></td></tr><tr><td>5</td><td>assumption</td><td></td><td><span style=\"font-size:20px;\"><a class=\"ProveItLink\" href=\"..\\__pv_it\\e50116be5e9fecc63354891410412e4e2485d8200\\expr.ipynb\"><img src=\"..\\__pv_it\\e50116be5e9fecc63354891410412e4e2485d8200\\expr.png\" style=\"display:inline;vertical-align:middle;\" /></a> &#x22A2;&nbsp;<a class=\"ProveItLink\" href=\"..\\__pv_it\\315d469da84f8bd61c78705cff800abb69da38bc0\\expr.ipynb\"><img src=\"..\\__pv_it\\315d469da84f8bd61c78705cff800abb69da38bc0\\expr.png\" style=\"display:inline;vertical-align:middle;\" /></a></span></td></tr>\n",
       "<tr><td>6</td><td>specialization</td><td>7</td><td><span style=\"font-size:20px;\"> &#x22A2;&nbsp;<a class=\"ProveItLink\" href=\"..\\__pv_it\\f5fd5d4e2da4d672b76d3263b49fecf019d092370\\expr.ipynb\"><img src=\"..\\__pv_it\\f5fd5d4e2da4d672b76d3263b49fecf019d092370\\expr.png\" style=\"display:inline;vertical-align:middle;\" /></a></span></td></tr>\n",
       "<tr><td>&nbsp;</td><td colspan=4 style=\"text-align:left\"><span style=\"font-size:20px;\"><a class=\"ProveItLink\" href=\"..\\__pv_it\\5b95cb72eb1ff91be07c25f9560c4137469349290\\expr.ipynb\"><img src=\"..\\__pv_it\\5b95cb72eb1ff91be07c25f9560c4137469349290\\expr.png\" style=\"display:inline;vertical-align:middle;\" /></a>, <a class=\"ProveItLink\" href=\"..\\__pv_it\\3334e72368546b53f46ba6f20a2be2bdd11384bb0\\expr.ipynb\"><img src=\"..\\__pv_it\\3334e72368546b53f46ba6f20a2be2bdd11384bb0\\expr.png\" style=\"display:inline;vertical-align:middle;\" /></a></span></td></tr><tr><td>7</td><td>axiom</td><td></td><td><span style=\"font-size:20px;\"> &#x22A2;&nbsp;<a class=\"ProveItLink\" href=\"..\\__pv_it\\ff800f46f36167e6381dcac76c3de56b95f173d40\\expr.ipynb\"><img src=\"..\\__pv_it\\ff800f46f36167e6381dcac76c3de56b95f173d40\\expr.png\" style=\"display:inline;vertical-align:middle;\" /></a></span></td></tr>\n",
       "<tr><td>&nbsp;</td><td colspan=4 style-\"text-align:left\"><a class=\"ProveItLink\" href=\"..\\_axioms_.ipynb#iffDef\">proveit.logic.boolean.implication.iffDef</a></td></tr>"
      ],
      "text/plain": [
       "<proveit._core_.proof.Generalization instance at 0x000000000905BC48>"
      ]
     },
     "execution_count": 6,
     "metadata": {},
     "output_type": "execute_result"
    }
   ],
   "source": [
    "%qed"
   ]
  },
  {
   "cell_type": "code",
   "execution_count": 7,
   "metadata": {
    "collapsed": true
   },
   "outputs": [],
   "source": []
  }
 ],
 "metadata": {
  "kernelspec": {
   "display_name": "Python 2",
   "language": "python",
   "name": "python2"
  },
  "language_info": {
   "codemirror_mode": {
    "name": "ipython",
    "version": 2
   },
   "file_extension": ".py",
   "mimetype": "text/x-python",
   "name": "python",
   "nbconvert_exporter": "python",
   "pygments_lexer": "ipython2",
   "version": "2.7.11"
  }
 },
 "nbformat": 4,
 "nbformat_minor": 0
}
