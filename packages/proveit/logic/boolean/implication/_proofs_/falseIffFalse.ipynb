{
 "cells": [
  {
   "cell_type": "markdown",
   "metadata": {
    "collapsed": true,
    "deletable": true,
    "editable": true
   },
   "source": [
    "Proof of <a class=\"ProveItLink\" href=\"..\\..\\..\\..\\_context_.ipynb\">proveit</a>.<a class=\"ProveItLink\" href=\"..\\..\\..\\_context_.ipynb\">logic</a>.<a class=\"ProveItLink\" href=\"..\\..\\_context_.ipynb\">boolean</a>.<a class=\"ProveItLink\" href=\"..\\_context_.ipynb\">implication</a>.<a href=\"../_theorems_.ipynb#falseIffFalse\" class=\"ProveItLink\">falseIffFalse</a> theorem\n",
    "========"
   ]
  },
  {
   "cell_type": "code",
   "execution_count": 1,
   "metadata": {
    "collapsed": true,
    "deletable": true,
    "editable": true
   },
   "outputs": [],
   "source": [
    "import proveit\n",
    "from proveit.logic.boolean.implication._theorems_ import falseImpliesFalse\n",
    "context = proveit.Context('..') # the theorem's context is in the parent directory"
   ]
  },
  {
   "cell_type": "code",
   "execution_count": 2,
   "metadata": {
    "collapsed": false,
    "deletable": true,
    "editable": true
   },
   "outputs": [
    {
     "name": "stdout",
     "output_type": "stream",
     "text": [
      "Beginning proof of falseIffFalse\n",
      "Recorded 'presuming' information\n",
      "Presuming previous theorems in this context (and any of their dependencies).\n"
     ]
    },
    {
     "data": {
      "text/html": [
       "<strong id=\"falseIffFalse\">falseIffFalse:</strong> <a class=\"ProveItLink\" href=\"..\\__pv_it\\7da4614eba375c61069b012d4d1136dad27103f80\\expr.ipynb\"><img src=\"..\\__pv_it\\7da4614eba375c61069b012d4d1136dad27103f80\\expr.png\" style=\"display:inline;vertical-align:middle;\" /></a><br>(see <a class=\"ProveItLink\" href=\"..\\__pv_it\\7da4614eba375c61069b012d4d1136dad27103f80\\dependencies.ipynb\">dependencies</a>)"
      ],
      "text/plain": [
       "falseIffFalse: FALSE <=> FALSE"
      ]
     },
     "execution_count": 2,
     "metadata": {},
     "output_type": "execute_result"
    }
   ],
   "source": [
    "%proving falseIffFalse presuming []"
   ]
  },
  {
   "cell_type": "code",
   "execution_count": 3,
   "metadata": {
    "collapsed": false,
    "deletable": true,
    "editable": true
   },
   "outputs": [
    {
     "data": {
      "text/html": [
       "<table><tr><th>&nbsp;</th><th>step type</th><th>requirements</th><th>statement</th></tr>\n",
       "<tr><td>0</td><td>specialization</td><td>1, 2</td><td><span style=\"font-size:20px;\"> &#x22A2;&nbsp;<a class=\"ProveItLink\" href=\"..\\__pv_it\\7da4614eba375c61069b012d4d1136dad27103f80\\expr.ipynb\"><img src=\"..\\__pv_it\\7da4614eba375c61069b012d4d1136dad27103f80\\expr.png\" style=\"display:inline;vertical-align:middle;\" /></a></span></td></tr>\n",
       "<tr><td>&nbsp;</td><td colspan=4 style=\"text-align:left\"><span style=\"font-size:20px;\"><a class=\"ProveItLink\" href=\"..\\__pv_it\\bbad5e5f791c422e78ea21c9c7508d556ab4e3c40\\expr.ipynb\"><img src=\"..\\__pv_it\\bbad5e5f791c422e78ea21c9c7508d556ab4e3c40\\expr.png\" style=\"display:inline;vertical-align:middle;\" /></a>, <a class=\"ProveItLink\" href=\"..\\__pv_it\\b1c0ef89ac3ce179b1079b8be6835744fec8ad5b0\\expr.ipynb\"><img src=\"..\\__pv_it\\b1c0ef89ac3ce179b1079b8be6835744fec8ad5b0\\expr.png\" style=\"display:inline;vertical-align:middle;\" /></a></span></td></tr><tr><td>1</td><td>theorem</td><td></td><td><span style=\"font-size:20px;\"> &#x22A2;&nbsp;<a class=\"ProveItLink\" href=\"..\\__pv_it\\2abf32a421c3a4a72948e5081ce3f4c03faf87130\\expr.ipynb\"><img src=\"..\\__pv_it\\2abf32a421c3a4a72948e5081ce3f4c03faf87130\\expr.png\" style=\"display:inline;vertical-align:middle;\" /></a></span></td></tr>\n",
       "<tr><td>&nbsp;</td><td colspan=4 style-\"text-align:left\"><a class=\"ProveItLink\" href=\"iffIntro.ipynb\">proveit.logic.boolean.implication.iffIntro</a></td></tr><tr><td>2</td><td>theorem</td><td></td><td><span style=\"font-size:20px;\"> &#x22A2;&nbsp;<a class=\"ProveItLink\" href=\"..\\__pv_it\\a2c1fd2703ff7e9468d04b875f4fb8dd37d9755f0\\expr.ipynb\"><img src=\"..\\__pv_it\\a2c1fd2703ff7e9468d04b875f4fb8dd37d9755f0\\expr.png\" style=\"display:inline;vertical-align:middle;\" /></a></span></td></tr>\n",
       "<tr><td>&nbsp;</td><td colspan=4 style-\"text-align:left\"><a class=\"ProveItLink\" href=\"falseImpliesFalse.ipynb\">proveit.logic.boolean.implication.falseImpliesFalse</a></td></tr>"
      ],
      "text/plain": [
       "<proveit._core_.proof.Specialization instance at 0x0000000008EE5688>"
      ]
     },
     "execution_count": 3,
     "metadata": {},
     "output_type": "execute_result"
    }
   ],
   "source": [
    "%qed"
   ]
  },
  {
   "cell_type": "code",
   "execution_count": null,
   "metadata": {
    "collapsed": true
   },
   "outputs": [],
   "source": []
  }
 ],
 "metadata": {
  "kernelspec": {
   "display_name": "Python 2",
   "language": "python",
   "name": "python2"
  },
  "language_info": {
   "codemirror_mode": {
    "name": "ipython",
    "version": 2
   },
   "file_extension": ".py",
   "mimetype": "text/x-python",
   "name": "python",
   "nbconvert_exporter": "python",
   "pygments_lexer": "ipython2",
   "version": "2.7.11"
  }
 },
 "nbformat": 4,
 "nbformat_minor": 0
}
