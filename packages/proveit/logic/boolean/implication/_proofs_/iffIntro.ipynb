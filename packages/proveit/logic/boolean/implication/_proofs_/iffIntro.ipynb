{
 "cells": [
  {
   "cell_type": "markdown",
   "metadata": {
    "collapsed": true,
    "deletable": true,
    "editable": true
   },
   "source": [
    "Proof of <a class=\"ProveItLink\" href=\"..\\..\\..\\..\\_context_.ipynb\">proveit</a>.<a class=\"ProveItLink\" href=\"..\\..\\..\\_context_.ipynb\">logic</a>.<a class=\"ProveItLink\" href=\"..\\..\\_context_.ipynb\">boolean</a>.<a class=\"ProveItLink\" href=\"..\\_context_.ipynb\">implication</a>.<a class=\"ProveItLink\" href=\"../_theorems_.ipynb#iffIntro\">iffIntro</a> theorem\n",
    "========"
   ]
  },
  {
   "cell_type": "code",
   "execution_count": 1,
   "metadata": {
    "collapsed": false,
    "deletable": true,
    "editable": true
   },
   "outputs": [],
   "source": [
    "import proveit\n",
    "from proveit.logic import compose\n",
    "from proveit.logic.boolean.implication._axioms_ import iffDef\n",
    "from proveit.logic.boolean.conjunction._theorems_ import andIfBoth \n",
    "from proveit.logic.equality._theorems_ import lhsSubstitute\n",
    "context = proveit.Context('..') # the theorem's context is in the parent directory"
   ]
  },
  {
   "cell_type": "code",
   "execution_count": 2,
   "metadata": {
    "collapsed": false,
    "deletable": true,
    "editable": true
   },
   "outputs": [
    {
     "name": "stdout",
     "output_type": "stream",
     "text": [
      "Beginning proof of iffIntro\n",
      "Recorded 'presuming' information\n",
      "Presuming proveit.logic.boolean.conjunction.andIfBoth, proveit.logic.equality.lhsSubstitute theorem(s).\n",
      "Presuming previous theorems in this context (and any of their dependencies).\n"
     ]
    },
    {
     "data": {
      "text/html": [
       "<strong id=\"iffIntro\">iffIntro:</strong> <a class=\"ProveItLink\" href=\"..\\__pv_it\\2abf32a421c3a4a72948e5081ce3f4c03faf87130\\expr.ipynb\"><img src=\"..\\__pv_it\\2abf32a421c3a4a72948e5081ce3f4c03faf87130\\expr.png\" style=\"display:inline;vertical-align:middle;\" /></a><br>(see <a class=\"ProveItLink\" href=\"..\\__pv_it\\2abf32a421c3a4a72948e5081ce3f4c03faf87130\\dependencies.ipynb\">dependencies</a>)"
      ],
      "text/plain": [
       "iffIntro: forall_{A, B | A => B , B => A} (A <=> B)"
      ]
     },
     "execution_count": 2,
     "metadata": {},
     "output_type": "execute_result"
    }
   ],
   "source": [
    "%proving iffIntro presuming [andIfBoth, lhsSubstitute]"
   ]
  },
  {
   "cell_type": "code",
   "execution_count": 3,
   "metadata": {
    "collapsed": false
   },
   "outputs": [
    {
     "data": {
      "text/html": [
       "<strong id=\"conditions\">conditions:</strong> <a class=\"ProveItLink\" href=\"..\\__pv_it\\50b5ae0ba6d83c1f726674e31357a5d70f19e69f0\\expr.ipynb\"><img src=\"..\\__pv_it\\50b5ae0ba6d83c1f726674e31357a5d70f19e69f0\\expr.png\" style=\"display:inline;vertical-align:middle;\" /></a><br>"
      ],
      "text/plain": [
       "conditions: (A => B , B => A)"
      ]
     },
     "execution_count": 3,
     "metadata": {},
     "output_type": "execute_result"
    }
   ],
   "source": [
    "conditions = iffIntro.conditions"
   ]
  },
  {
   "cell_type": "code",
   "execution_count": 4,
   "metadata": {
    "collapsed": false
   },
   "outputs": [
    {
     "data": {
      "text/html": [
       "<strong id=\"mutualImpl\">mutualImpl:</strong> <span style=\"font-size:20px;\"><a class=\"ProveItLink\" href=\"..\\__pv_it\\528ccd0fd9393a44356d12a181b8dfd4a45ada410\\expr.ipynb\"><img src=\"..\\__pv_it\\528ccd0fd9393a44356d12a181b8dfd4a45ada410\\expr.png\" style=\"display:inline;vertical-align:middle;\" /></a> &#x22A2;&nbsp;<a class=\"ProveItLink\" href=\"..\\__pv_it\\434148932d7b270f25113c0ed7ba844d5c70a34f0\\expr.ipynb\"><img src=\"..\\__pv_it\\434148932d7b270f25113c0ed7ba844d5c70a34f0\\expr.png\" style=\"display:inline;vertical-align:middle;\" /></a></span><br>"
      ],
      "text/plain": [
       "mutualImpl: {A => B , B => A} |= (A => B) and (B => A)"
      ]
     },
     "execution_count": 4,
     "metadata": {},
     "output_type": "execute_result"
    }
   ],
   "source": [
    "mutualImpl = compose(conditions, assumptions=conditions)"
   ]
  },
  {
   "cell_type": "code",
   "execution_count": 5,
   "metadata": {
    "collapsed": false,
    "deletable": true,
    "editable": true
   },
   "outputs": [
    {
     "data": {
      "text/html": [
       "<span style=\"font-size:20px;\"> &#x22A2;&nbsp;<a class=\"ProveItLink\" href=\"..\\__pv_it\\e14666a53eff5780fcf6eed1892c0b483d6e1f450\\expr.ipynb\"><img src=\"..\\__pv_it\\e14666a53eff5780fcf6eed1892c0b483d6e1f450\\expr.png\" style=\"display:inline;vertical-align:middle;\" /></a></span>"
      ],
      "text/plain": [
       "|= forall_{A, B} ((A <=> B) = ((A => B) and (B => A)))"
      ]
     },
     "execution_count": 5,
     "metadata": {},
     "output_type": "execute_result"
    }
   ],
   "source": [
    "iffDef"
   ]
  },
  {
   "cell_type": "code",
   "execution_count": 6,
   "metadata": {
    "collapsed": false
   },
   "outputs": [
    {
     "data": {
      "text/html": [
       "<span style=\"font-size:20px;\"><a class=\"ProveItLink\" href=\"..\\__pv_it\\528ccd0fd9393a44356d12a181b8dfd4a45ada410\\expr.ipynb\"><img src=\"..\\__pv_it\\528ccd0fd9393a44356d12a181b8dfd4a45ada410\\expr.png\" style=\"display:inline;vertical-align:middle;\" /></a> &#x22A2;&nbsp;<a class=\"ProveItLink\" href=\"..\\__pv_it\\315d469da84f8bd61c78705cff800abb69da38bc0\\expr.ipynb\"><img src=\"..\\__pv_it\\315d469da84f8bd61c78705cff800abb69da38bc0\\expr.png\" style=\"display:inline;vertical-align:middle;\" /></a></span>"
      ],
      "text/plain": [
       "{A => B , B => A} |= A <=> B"
      ]
     },
     "execution_count": 6,
     "metadata": {},
     "output_type": "execute_result"
    }
   ],
   "source": [
    "iffDef.specialize().lhsSubstitute(mutualImpl, assumptions=conditions)"
   ]
  },
  {
   "cell_type": "code",
   "execution_count": 7,
   "metadata": {
    "collapsed": false
   },
   "outputs": [
    {
     "data": {
      "text/html": [
       "<table><tr><th>&nbsp;</th><th>step type</th><th>requirements</th><th>statement</th></tr>\n",
       "<tr><td>0</td><td>generalizaton</td><td>1</td><td><span style=\"font-size:20px;\"> &#x22A2;&nbsp;<a class=\"ProveItLink\" href=\"..\\__pv_it\\2abf32a421c3a4a72948e5081ce3f4c03faf87130\\expr.ipynb\"><img src=\"..\\__pv_it\\2abf32a421c3a4a72948e5081ce3f4c03faf87130\\expr.png\" style=\"display:inline;vertical-align:middle;\" /></a></span></td></tr>\n",
       "<tr><td>1</td><td>specialization</td><td>2, 3, 4</td><td><span style=\"font-size:20px;\"><a class=\"ProveItLink\" href=\"..\\__pv_it\\528ccd0fd9393a44356d12a181b8dfd4a45ada410\\expr.ipynb\"><img src=\"..\\__pv_it\\528ccd0fd9393a44356d12a181b8dfd4a45ada410\\expr.png\" style=\"display:inline;vertical-align:middle;\" /></a> &#x22A2;&nbsp;<a class=\"ProveItLink\" href=\"..\\__pv_it\\315d469da84f8bd61c78705cff800abb69da38bc0\\expr.ipynb\"><img src=\"..\\__pv_it\\315d469da84f8bd61c78705cff800abb69da38bc0\\expr.png\" style=\"display:inline;vertical-align:middle;\" /></a></span></td></tr>\n",
       "<tr><td>&nbsp;</td><td colspan=4 style=\"text-align:left\"><span style=\"font-size:20px;\"><a class=\"ProveItLink\" href=\"..\\__pv_it\\c734bd3c9ae26f9275848353e212a88d7490d4fc0\\expr.ipynb\"><img src=\"..\\__pv_it\\c734bd3c9ae26f9275848353e212a88d7490d4fc0\\expr.png\" style=\"display:inline;vertical-align:middle;\" /></a>, <a class=\"ProveItLink\" href=\"..\\__pv_it\\8356d35a7b134a582d42ac77d7bb091d5546bcf60\\expr.ipynb\"><img src=\"..\\__pv_it\\8356d35a7b134a582d42ac77d7bb091d5546bcf60\\expr.png\" style=\"display:inline;vertical-align:middle;\" /></a>, <a class=\"ProveItLink\" href=\"..\\__pv_it\\fcca8401254aac9ba2907c139091624fbf28e7530\\expr.ipynb\"><img src=\"..\\__pv_it\\fcca8401254aac9ba2907c139091624fbf28e7530\\expr.png\" style=\"display:inline;vertical-align:middle;\" /></a></span></td></tr><tr><td>2</td><td>theorem</td><td></td><td><span style=\"font-size:20px;\"> &#x22A2;&nbsp;<a class=\"ProveItLink\" href=\"..\\..\\..\\equality\\__pv_it\\6425c7b64708730992bfb72314f6aeaa5dc1d76c0\\expr.ipynb\"><img src=\"..\\..\\..\\equality\\__pv_it\\6425c7b64708730992bfb72314f6aeaa5dc1d76c0\\expr.png\" style=\"display:inline;vertical-align:middle;\" /></a></span></td></tr>\n",
       "<tr><td>&nbsp;</td><td colspan=4 style-\"text-align:left\"><a class=\"ProveItLink\" href=\"..\\..\\..\\equality\\_proofs_\\lhsSubstitute.ipynb\">proveit.logic.equality.lhsSubstitute</a></td></tr><tr><td>3</td><td>specialization</td><td>5, 6, 7</td><td><span style=\"font-size:20px;\"><a class=\"ProveItLink\" href=\"..\\__pv_it\\528ccd0fd9393a44356d12a181b8dfd4a45ada410\\expr.ipynb\"><img src=\"..\\__pv_it\\528ccd0fd9393a44356d12a181b8dfd4a45ada410\\expr.png\" style=\"display:inline;vertical-align:middle;\" /></a> &#x22A2;&nbsp;<a class=\"ProveItLink\" href=\"..\\__pv_it\\434148932d7b270f25113c0ed7ba844d5c70a34f0\\expr.ipynb\"><img src=\"..\\__pv_it\\434148932d7b270f25113c0ed7ba844d5c70a34f0\\expr.png\" style=\"display:inline;vertical-align:middle;\" /></a></span></td></tr>\n",
       "<tr><td>&nbsp;</td><td colspan=4 style=\"text-align:left\"><span style=\"font-size:20px;\"><a class=\"ProveItLink\" href=\"..\\__pv_it\\3e070e973102380ecde472334b619cac3e99c8a10\\expr.ipynb\"><img src=\"..\\__pv_it\\3e070e973102380ecde472334b619cac3e99c8a10\\expr.png\" style=\"display:inline;vertical-align:middle;\" /></a>, <a class=\"ProveItLink\" href=\"..\\__pv_it\\aed04b4ae9fcf92dd46c07b4e5557465e17bd0440\\expr.ipynb\"><img src=\"..\\__pv_it\\aed04b4ae9fcf92dd46c07b4e5557465e17bd0440\\expr.png\" style=\"display:inline;vertical-align:middle;\" /></a></span></td></tr><tr><td>4</td><td>specialization</td><td>8</td><td><span style=\"font-size:20px;\"> &#x22A2;&nbsp;<a class=\"ProveItLink\" href=\"..\\__pv_it\\f5fd5d4e2da4d672b76d3263b49fecf019d092370\\expr.ipynb\"><img src=\"..\\__pv_it\\f5fd5d4e2da4d672b76d3263b49fecf019d092370\\expr.png\" style=\"display:inline;vertical-align:middle;\" /></a></span></td></tr>\n",
       "<tr><td>&nbsp;</td><td colspan=4 style=\"text-align:left\"><span style=\"font-size:20px;\"><a class=\"ProveItLink\" href=\"..\\__pv_it\\0022c0b9025feab4aa176c5ee33173e1813a9b4e0\\expr.ipynb\"><img src=\"..\\__pv_it\\0022c0b9025feab4aa176c5ee33173e1813a9b4e0\\expr.png\" style=\"display:inline;vertical-align:middle;\" /></a>, <a class=\"ProveItLink\" href=\"..\\__pv_it\\43ee6f2f4ebf76dfb28d60f7c86d355936f2e8ea0\\expr.ipynb\"><img src=\"..\\__pv_it\\43ee6f2f4ebf76dfb28d60f7c86d355936f2e8ea0\\expr.png\" style=\"display:inline;vertical-align:middle;\" /></a></span></td></tr><tr><td>5</td><td>theorem</td><td></td><td><span style=\"font-size:20px;\"> &#x22A2;&nbsp;<a class=\"ProveItLink\" href=\"..\\..\\conjunction\\__pv_it\\75b95a60b89ba91524c4552093030c827fffaab20\\expr.ipynb\"><img src=\"..\\..\\conjunction\\__pv_it\\75b95a60b89ba91524c4552093030c827fffaab20\\expr.png\" style=\"display:inline;vertical-align:middle;\" /></a></span></td></tr>\n",
       "<tr><td>&nbsp;</td><td colspan=4 style-\"text-align:left\"><a class=\"ProveItLink\" href=\"..\\..\\conjunction\\_proofs_\\andIfBoth.ipynb\">proveit.logic.boolean.conjunction.andIfBoth</a></td></tr><tr><td>6</td><td>assumption</td><td></td><td><span style=\"font-size:20px;\"><a class=\"ProveItLink\" href=\"..\\__pv_it\\8d04ecf879774d31acd77f374aea66cf4d7877660\\expr.ipynb\"><img src=\"..\\__pv_it\\8d04ecf879774d31acd77f374aea66cf4d7877660\\expr.png\" style=\"display:inline;vertical-align:middle;\" /></a> &#x22A2;&nbsp;<a class=\"ProveItLink\" href=\"..\\__pv_it\\e73a70c11cb4dd0ed268f52ee1583e255f8135080\\expr.ipynb\"><img src=\"..\\__pv_it\\e73a70c11cb4dd0ed268f52ee1583e255f8135080\\expr.png\" style=\"display:inline;vertical-align:middle;\" /></a></span></td></tr>\n",
       "<tr><td>7</td><td>assumption</td><td></td><td><span style=\"font-size:20px;\"><a class=\"ProveItLink\" href=\"..\\__pv_it\\64c29a144d84013c2e66e5f9f84e11d152049c050\\expr.ipynb\"><img src=\"..\\__pv_it\\64c29a144d84013c2e66e5f9f84e11d152049c050\\expr.png\" style=\"display:inline;vertical-align:middle;\" /></a> &#x22A2;&nbsp;<a class=\"ProveItLink\" href=\"..\\__pv_it\\58231239aa3ff75feba4340b3e09a295f56b05c20\\expr.ipynb\"><img src=\"..\\__pv_it\\58231239aa3ff75feba4340b3e09a295f56b05c20\\expr.png\" style=\"display:inline;vertical-align:middle;\" /></a></span></td></tr>\n",
       "<tr><td>8</td><td>axiom</td><td></td><td><span style=\"font-size:20px;\"> &#x22A2;&nbsp;<a class=\"ProveItLink\" href=\"..\\__pv_it\\e14666a53eff5780fcf6eed1892c0b483d6e1f450\\expr.ipynb\"><img src=\"..\\__pv_it\\e14666a53eff5780fcf6eed1892c0b483d6e1f450\\expr.png\" style=\"display:inline;vertical-align:middle;\" /></a></span></td></tr>\n",
       "<tr><td>&nbsp;</td><td colspan=4 style-\"text-align:left\"><a class=\"ProveItLink\" href=\"..\\_axioms_.ipynb#iffDef\">proveit.logic.boolean.implication.iffDef</a></td></tr>"
      ],
      "text/plain": [
       "<proveit._core_.proof.Generalization instance at 0x0000000009264EC8>"
      ]
     },
     "execution_count": 7,
     "metadata": {},
     "output_type": "execute_result"
    }
   ],
   "source": [
    "%qed"
   ]
  },
  {
   "cell_type": "code",
   "execution_count": null,
   "metadata": {
    "collapsed": true
   },
   "outputs": [],
   "source": []
  }
 ],
 "metadata": {
  "kernelspec": {
   "display_name": "Python 2",
   "language": "python",
   "name": "python2"
  },
  "language_info": {
   "codemirror_mode": {
    "name": "ipython",
    "version": 2
   },
   "file_extension": ".py",
   "mimetype": "text/x-python",
   "name": "python",
   "nbconvert_exporter": "python",
   "pygments_lexer": "ipython2",
   "version": "2.7.11"
  }
 },
 "nbformat": 4,
 "nbformat_minor": 0
}
