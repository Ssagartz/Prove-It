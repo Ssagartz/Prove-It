{
 "cells": [
  {
   "cell_type": "markdown",
   "metadata": {
    "collapsed": true,
    "deletable": true,
    "editable": true
   },
   "source": [
    "Proof of <a class=\"ProveItLink\" href=\"..\\..\\..\\..\\_context_.ipynb\">proveit</a>.<a class=\"ProveItLink\" href=\"..\\..\\..\\_context_.ipynb\">logic</a>.<a class=\"ProveItLink\" href=\"..\\..\\_context_.ipynb\">boolean</a>.<a class=\"ProveItLink\" href=\"..\\_context_.ipynb\">implication</a>.<a href=\"../_theorems_.ipynb#iffSymmetry\" class=\"ProveItLink\">iffSymmetry</a> theorem\n",
    "========"
   ]
  },
  {
   "cell_type": "code",
   "execution_count": 1,
   "metadata": {
    "collapsed": false,
    "deletable": true,
    "editable": true
   },
   "outputs": [],
   "source": [
    "import proveit\n",
    "context = proveit.Context('..') # the theorem's context is in the parent directory"
   ]
  },
  {
   "cell_type": "code",
   "execution_count": 2,
   "metadata": {
    "collapsed": false,
    "deletable": true,
    "editable": true
   },
   "outputs": [
    {
     "name": "stdout",
     "output_type": "stream",
     "text": [
      "Beginning proof of iffSymmetry\n",
      "Recorded 'presuming' information\n",
      "Presuming previous theorems in this context (and any of their dependencies).\n"
     ]
    },
    {
     "data": {
      "text/html": [
       "<strong id=\"iffSymmetry\">iffSymmetry:</strong> <a class=\"ProveItLink\" href=\"..\\__pv_it\\56ee8cc64d78a1b299c2351567d0a801eb1d24c60\\expr.ipynb\"><img src=\"..\\__pv_it\\56ee8cc64d78a1b299c2351567d0a801eb1d24c60\\expr.png\" style=\"display:inline;vertical-align:middle;\" /></a><br>(see <a class=\"ProveItLink\" href=\"..\\__pv_it\\56ee8cc64d78a1b299c2351567d0a801eb1d24c60\\dependencies.ipynb\">dependencies</a>)"
      ],
      "text/plain": [
       "iffSymmetry: forall_{A, B | A <=> B} (B <=> A)"
      ]
     },
     "execution_count": 2,
     "metadata": {},
     "output_type": "execute_result"
    }
   ],
   "source": [
    "%proving iffSymmetry presuming []"
   ]
  },
  {
   "cell_type": "code",
   "execution_count": 3,
   "metadata": {
    "collapsed": false
   },
   "outputs": [
    {
     "data": {
      "text/html": [
       "<table><tr><th>&nbsp;</th><th>step type</th><th>requirements</th><th>statement</th></tr>\n",
       "<tr><td>0</td><td>generalizaton</td><td>1</td><td><span style=\"font-size:20px;\"> &#x22A2;&nbsp;<a class=\"ProveItLink\" href=\"..\\__pv_it\\56ee8cc64d78a1b299c2351567d0a801eb1d24c60\\expr.ipynb\"><img src=\"..\\__pv_it\\56ee8cc64d78a1b299c2351567d0a801eb1d24c60\\expr.png\" style=\"display:inline;vertical-align:middle;\" /></a></span></td></tr>\n",
       "<tr><td>1</td><td>specialization</td><td>2, 3, 4</td><td><span style=\"font-size:20px;\"><a class=\"ProveItLink\" href=\"..\\__pv_it\\e50116be5e9fecc63354891410412e4e2485d8200\\expr.ipynb\"><img src=\"..\\__pv_it\\e50116be5e9fecc63354891410412e4e2485d8200\\expr.png\" style=\"display:inline;vertical-align:middle;\" /></a> &#x22A2;&nbsp;<a class=\"ProveItLink\" href=\"..\\__pv_it\\c9f1030a038e11100e74ac55ccc3a605e9e364220\\expr.ipynb\"><img src=\"..\\__pv_it\\c9f1030a038e11100e74ac55ccc3a605e9e364220\\expr.png\" style=\"display:inline;vertical-align:middle;\" /></a></span></td></tr>\n",
       "<tr><td>&nbsp;</td><td colspan=4 style=\"text-align:left\"><span style=\"font-size:20px;\"><a class=\"ProveItLink\" href=\"..\\__pv_it\\797aab36db2b30dd34ef2649311513e9d37abb660\\expr.ipynb\"><img src=\"..\\__pv_it\\797aab36db2b30dd34ef2649311513e9d37abb660\\expr.png\" style=\"display:inline;vertical-align:middle;\" /></a>, <a class=\"ProveItLink\" href=\"..\\__pv_it\\6bb0325cb47da75cd6e0af744b06a99c363a51800\\expr.ipynb\"><img src=\"..\\__pv_it\\6bb0325cb47da75cd6e0af744b06a99c363a51800\\expr.png\" style=\"display:inline;vertical-align:middle;\" /></a></span></td></tr><tr><td>2</td><td>theorem</td><td></td><td><span style=\"font-size:20px;\"> &#x22A2;&nbsp;<a class=\"ProveItLink\" href=\"..\\__pv_it\\2abf32a421c3a4a72948e5081ce3f4c03faf87130\\expr.ipynb\"><img src=\"..\\__pv_it\\2abf32a421c3a4a72948e5081ce3f4c03faf87130\\expr.png\" style=\"display:inline;vertical-align:middle;\" /></a></span></td></tr>\n",
       "<tr><td>&nbsp;</td><td colspan=4 style-\"text-align:left\"><a class=\"ProveItLink\" href=\"iffIntro.ipynb\">proveit.logic.boolean.implication.iffIntro</a></td></tr><tr><td>3</td><td>specialization</td><td>5, 7</td><td><span style=\"font-size:20px;\"><a class=\"ProveItLink\" href=\"..\\__pv_it\\e50116be5e9fecc63354891410412e4e2485d8200\\expr.ipynb\"><img src=\"..\\__pv_it\\e50116be5e9fecc63354891410412e4e2485d8200\\expr.png\" style=\"display:inline;vertical-align:middle;\" /></a> &#x22A2;&nbsp;<a class=\"ProveItLink\" href=\"..\\__pv_it\\58231239aa3ff75feba4340b3e09a295f56b05c20\\expr.ipynb\"><img src=\"..\\__pv_it\\58231239aa3ff75feba4340b3e09a295f56b05c20\\expr.png\" style=\"display:inline;vertical-align:middle;\" /></a></span></td></tr>\n",
       "<tr><td>&nbsp;</td><td colspan=4 style=\"text-align:left\"><span style=\"font-size:20px;\"><a class=\"ProveItLink\" href=\"..\\__pv_it\\507ea7067d5ddfd40d77b6b571c0dbf2bbae36900\\expr.ipynb\"><img src=\"..\\__pv_it\\507ea7067d5ddfd40d77b6b571c0dbf2bbae36900\\expr.png\" style=\"display:inline;vertical-align:middle;\" /></a>, <a class=\"ProveItLink\" href=\"..\\__pv_it\\fc18514395402db9ba7826e258c42a5330bd71e20\\expr.ipynb\"><img src=\"..\\__pv_it\\fc18514395402db9ba7826e258c42a5330bd71e20\\expr.png\" style=\"display:inline;vertical-align:middle;\" /></a></span></td></tr><tr><td>4</td><td>specialization</td><td>6, 7</td><td><span style=\"font-size:20px;\"><a class=\"ProveItLink\" href=\"..\\__pv_it\\e50116be5e9fecc63354891410412e4e2485d8200\\expr.ipynb\"><img src=\"..\\__pv_it\\e50116be5e9fecc63354891410412e4e2485d8200\\expr.png\" style=\"display:inline;vertical-align:middle;\" /></a> &#x22A2;&nbsp;<a class=\"ProveItLink\" href=\"..\\__pv_it\\e73a70c11cb4dd0ed268f52ee1583e255f8135080\\expr.ipynb\"><img src=\"..\\__pv_it\\e73a70c11cb4dd0ed268f52ee1583e255f8135080\\expr.png\" style=\"display:inline;vertical-align:middle;\" /></a></span></td></tr>\n",
       "<tr><td>&nbsp;</td><td colspan=4 style=\"text-align:left\"><span style=\"font-size:20px;\"><a class=\"ProveItLink\" href=\"..\\__pv_it\\507ea7067d5ddfd40d77b6b571c0dbf2bbae36900\\expr.ipynb\"><img src=\"..\\__pv_it\\507ea7067d5ddfd40d77b6b571c0dbf2bbae36900\\expr.png\" style=\"display:inline;vertical-align:middle;\" /></a>, <a class=\"ProveItLink\" href=\"..\\__pv_it\\fc18514395402db9ba7826e258c42a5330bd71e20\\expr.ipynb\"><img src=\"..\\__pv_it\\fc18514395402db9ba7826e258c42a5330bd71e20\\expr.png\" style=\"display:inline;vertical-align:middle;\" /></a></span></td></tr><tr><td>5</td><td>theorem</td><td></td><td><span style=\"font-size:20px;\"> &#x22A2;&nbsp;<a class=\"ProveItLink\" href=\"..\\__pv_it\\ff6aa31eb9c981edd08a448c443877708f95d3420\\expr.ipynb\"><img src=\"..\\__pv_it\\ff6aa31eb9c981edd08a448c443877708f95d3420\\expr.png\" style=\"display:inline;vertical-align:middle;\" /></a></span></td></tr>\n",
       "<tr><td>&nbsp;</td><td colspan=4 style-\"text-align:left\"><a class=\"ProveItLink\" href=\"iffImpliesLeft.ipynb\">proveit.logic.boolean.implication.iffImpliesLeft</a></td></tr><tr><td>6</td><td>theorem</td><td></td><td><span style=\"font-size:20px;\"> &#x22A2;&nbsp;<a class=\"ProveItLink\" href=\"..\\__pv_it\\314d948b7084310c1dc19721d8129adc9c252f5c0\\expr.ipynb\"><img src=\"..\\__pv_it\\314d948b7084310c1dc19721d8129adc9c252f5c0\\expr.png\" style=\"display:inline;vertical-align:middle;\" /></a></span></td></tr>\n",
       "<tr><td>&nbsp;</td><td colspan=4 style-\"text-align:left\"><a class=\"ProveItLink\" href=\"iffImpliesRight.ipynb\">proveit.logic.boolean.implication.iffImpliesRight</a></td></tr><tr><td>7</td><td>assumption</td><td></td><td><span style=\"font-size:20px;\"><a class=\"ProveItLink\" href=\"..\\__pv_it\\e50116be5e9fecc63354891410412e4e2485d8200\\expr.ipynb\"><img src=\"..\\__pv_it\\e50116be5e9fecc63354891410412e4e2485d8200\\expr.png\" style=\"display:inline;vertical-align:middle;\" /></a> &#x22A2;&nbsp;<a class=\"ProveItLink\" href=\"..\\__pv_it\\315d469da84f8bd61c78705cff800abb69da38bc0\\expr.ipynb\"><img src=\"..\\__pv_it\\315d469da84f8bd61c78705cff800abb69da38bc0\\expr.png\" style=\"display:inline;vertical-align:middle;\" /></a></span></td></tr>\n"
      ],
      "text/plain": [
       "<proveit._core_.proof.Generalization instance at 0x00000000091D9808>"
      ]
     },
     "execution_count": 3,
     "metadata": {},
     "output_type": "execute_result"
    }
   ],
   "source": [
    "%qed # automation can handle this"
   ]
  },
  {
   "cell_type": "code",
   "execution_count": null,
   "metadata": {
    "collapsed": true
   },
   "outputs": [],
   "source": []
  }
 ],
 "metadata": {
  "kernelspec": {
   "display_name": "Python 2",
   "language": "python",
   "name": "python2"
  },
  "language_info": {
   "codemirror_mode": {
    "name": "ipython",
    "version": 2
   },
   "file_extension": ".py",
   "mimetype": "text/x-python",
   "name": "python",
   "nbconvert_exporter": "python",
   "pygments_lexer": "ipython2",
   "version": "2.7.11"
  }
 },
 "nbformat": 4,
 "nbformat_minor": 0
}
