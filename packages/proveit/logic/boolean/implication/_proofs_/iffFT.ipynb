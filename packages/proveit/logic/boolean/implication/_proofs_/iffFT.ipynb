{
 "cells": [
  {
   "cell_type": "markdown",
   "metadata": {
    "collapsed": true,
    "deletable": true,
    "editable": true
   },
   "source": [
    "Proof of <a class=\"ProveItLink\" href=\"..\\..\\..\\..\\_context_.ipynb\">proveit</a>.<a class=\"ProveItLink\" href=\"..\\..\\..\\_context_.ipynb\">logic</a>.<a class=\"ProveItLink\" href=\"..\\..\\_context_.ipynb\">boolean</a>.<a class=\"ProveItLink\" href=\"..\\_context_.ipynb\">implication</a>.<a href=\"../_theorems_.ipynb#iffFT\" class=\"ProveItLink\">iffFT</a> theorem\n",
    "========"
   ]
  },
  {
   "cell_type": "code",
   "execution_count": 1,
   "metadata": {
    "collapsed": false,
    "deletable": true,
    "editable": true
   },
   "outputs": [],
   "source": [
    "import proveit\n",
    "from proveit._common_ import A, B\n",
    "from proveit.logic import TRUE, FALSE\n",
    "from proveit.logic.boolean.implication._axioms_ import iffDef\n",
    "from proveit.logic.boolean.implication._theorems_ import falseIffTrueNegated, falseImpliesTrue, trueImpliesFalseNegated\n",
    "from proveit.logic.boolean.conjunction._axioms_ import andTF\n",
    "from proveit.logic.equality._theorems_ import substituteInTrue, substituteInFalse\n",
    "context = proveit.Context('..') # the theorem's context is in the parent directory"
   ]
  },
  {
   "cell_type": "code",
   "execution_count": 2,
   "metadata": {
    "collapsed": false,
    "deletable": true,
    "editable": true
   },
   "outputs": [
    {
     "name": "stdout",
     "output_type": "stream",
     "text": [
      "Beginning proof of iffFT\n",
      "Recorded 'presuming' information\n",
      "Presuming proveit.logic.equality.substituteInFalse, proveit.logic.equality.substituteInTrue theorem(s).\n",
      "Presuming previous theorems in this context (and any of their dependencies).\n"
     ]
    },
    {
     "data": {
      "text/html": [
       "<strong id=\"iffFT\">iffFT:</strong> <a class=\"ProveItLink\" href=\"..\\__pv_it\\7aebe96ec9201e8046df06abe9cb9428728f8bec0\\expr.ipynb\"><img src=\"..\\__pv_it\\7aebe96ec9201e8046df06abe9cb9428728f8bec0\\expr.png\" style=\"display:inline;vertical-align:middle;\" /></a><br>(see <a class=\"ProveItLink\" href=\"..\\__pv_it\\7aebe96ec9201e8046df06abe9cb9428728f8bec0\\dependencies.ipynb\">dependencies</a>)"
      ],
      "text/plain": [
       "iffFT: (FALSE <=> TRUE) = FALSE"
      ]
     },
     "execution_count": 2,
     "metadata": {},
     "output_type": "execute_result"
    }
   ],
   "source": [
    "%proving iffFT presuming [substituteInTrue, substituteInFalse]"
   ]
  },
  {
   "cell_type": "code",
   "execution_count": 3,
   "metadata": {
    "collapsed": false,
    "deletable": true,
    "editable": true
   },
   "outputs": [
    {
     "data": {
      "text/html": [
       "<span style=\"font-size:20px;\"> &#x22A2;&nbsp;<a class=\"ProveItLink\" href=\"..\\__pv_it\\e14666a53eff5780fcf6eed1892c0b483d6e1f450\\expr.ipynb\"><img src=\"..\\__pv_it\\e14666a53eff5780fcf6eed1892c0b483d6e1f450\\expr.png\" style=\"display:inline;vertical-align:middle;\" /></a></span>"
      ],
      "text/plain": [
       "|= forall_{A, B} ((A <=> B) = ((A => B) and (B => A)))"
      ]
     },
     "execution_count": 3,
     "metadata": {},
     "output_type": "execute_result"
    }
   ],
   "source": [
    "iffDef"
   ]
  },
  {
   "cell_type": "code",
   "execution_count": 4,
   "metadata": {
    "collapsed": false
   },
   "outputs": [
    {
     "data": {
      "text/html": [
       "<strong id=\"iffDefFT\">iffDefFT:</strong> <span style=\"font-size:20px;\"> &#x22A2;&nbsp;<a class=\"ProveItLink\" href=\"..\\__pv_it\\3493330536800fd57d19731a0262bac0e9cb38a70\\expr.ipynb\"><img src=\"..\\__pv_it\\3493330536800fd57d19731a0262bac0e9cb38a70\\expr.png\" style=\"display:inline;vertical-align:middle;\" /></a></span><br>"
      ],
      "text/plain": [
       "iffDefFT: |= (FALSE <=> TRUE) = ((FALSE => TRUE) and (TRUE => FALSE))"
      ]
     },
     "execution_count": 4,
     "metadata": {},
     "output_type": "execute_result"
    }
   ],
   "source": [
    "iffDefFT = iffDef.specialize({A:FALSE, B:TRUE})"
   ]
  },
  {
   "cell_type": "code",
   "execution_count": 5,
   "metadata": {
    "collapsed": false
   },
   "outputs": [
    {
     "name": "stdout",
     "output_type": "stream",
     "text": [
      "iffFT has been proven.  Now simply execute \"%qed\".\n"
     ]
    },
    {
     "data": {
      "text/html": [
       "<span style=\"font-size:20px;\"> &#x22A2;&nbsp;<a class=\"ProveItLink\" href=\"..\\__pv_it\\7aebe96ec9201e8046df06abe9cb9428728f8bec0\\expr.ipynb\"><img src=\"..\\__pv_it\\7aebe96ec9201e8046df06abe9cb9428728f8bec0\\expr.png\" style=\"display:inline;vertical-align:middle;\" /></a></span>"
      ],
      "text/plain": [
       "|= (FALSE <=> TRUE) = FALSE"
      ]
     },
     "execution_count": 5,
     "metadata": {},
     "output_type": "execute_result"
    }
   ],
   "source": [
    "iffDefFT.innerExpr().rhs.evaluation()"
   ]
  },
  {
   "cell_type": "code",
   "execution_count": 6,
   "metadata": {
    "collapsed": false
   },
   "outputs": [
    {
     "data": {
      "text/html": [
       "<table><tr><th>&nbsp;</th><th>step type</th><th>requirements</th><th>statement</th></tr>\n",
       "<tr><td>0</td><td>specialization</td><td>6, 1, 2</td><td><span style=\"font-size:20px;\"> &#x22A2;&nbsp;<a class=\"ProveItLink\" href=\"..\\__pv_it\\7aebe96ec9201e8046df06abe9cb9428728f8bec0\\expr.ipynb\"><img src=\"..\\__pv_it\\7aebe96ec9201e8046df06abe9cb9428728f8bec0\\expr.png\" style=\"display:inline;vertical-align:middle;\" /></a></span></td></tr>\n",
       "<tr><td>&nbsp;</td><td colspan=4 style=\"text-align:left\"><span style=\"font-size:20px;\"><a class=\"ProveItLink\" href=\"..\\__pv_it\\cab9bc561f95121063eb680ffd34629a3a6a62a60\\expr.ipynb\"><img src=\"..\\__pv_it\\cab9bc561f95121063eb680ffd34629a3a6a62a60\\expr.png\" style=\"display:inline;vertical-align:middle;\" /></a>, <a class=\"ProveItLink\" href=\"..\\__pv_it\\2f7f7d2c4c91a7bd8dfb7652424b00ea3e1a226f0\\expr.ipynb\"><img src=\"..\\__pv_it\\2f7f7d2c4c91a7bd8dfb7652424b00ea3e1a226f0\\expr.png\" style=\"display:inline;vertical-align:middle;\" /></a>, <a class=\"ProveItLink\" href=\"..\\__pv_it\\62fc5007cfa6c735f71b311e3b247f10027889190\\expr.ipynb\"><img src=\"..\\__pv_it\\62fc5007cfa6c735f71b311e3b247f10027889190\\expr.png\" style=\"display:inline;vertical-align:middle;\" /></a></span></td></tr><tr><td>1</td><td>specialization</td><td>3, 4, 5</td><td><span style=\"font-size:20px;\"> &#x22A2;&nbsp;<a class=\"ProveItLink\" href=\"..\\__pv_it\\38a5e15e2b7538dcf5036f2642e363cb48eb38d10\\expr.ipynb\"><img src=\"..\\__pv_it\\38a5e15e2b7538dcf5036f2642e363cb48eb38d10\\expr.png\" style=\"display:inline;vertical-align:middle;\" /></a></span></td></tr>\n",
       "<tr><td>&nbsp;</td><td colspan=4 style=\"text-align:left\"><span style=\"font-size:20px;\"><a class=\"ProveItLink\" href=\"..\\__pv_it\\66e47f6302b6f80e70cebfb64481ebabbe8653b50\\expr.ipynb\"><img src=\"..\\__pv_it\\66e47f6302b6f80e70cebfb64481ebabbe8653b50\\expr.png\" style=\"display:inline;vertical-align:middle;\" /></a>, <a class=\"ProveItLink\" href=\"..\\__pv_it\\81a51a7f4b7218ef7a6c5fca3e6c3144caf487c90\\expr.ipynb\"><img src=\"..\\__pv_it\\81a51a7f4b7218ef7a6c5fca3e6c3144caf487c90\\expr.png\" style=\"display:inline;vertical-align:middle;\" /></a></span></td></tr><tr><td>2</td><td>axiom</td><td></td><td><span style=\"font-size:20px;\"> &#x22A2;&nbsp;<a class=\"ProveItLink\" href=\"..\\..\\conjunction\\__pv_it\\bf71336d19004bcf68c4f8a839cdcc9eb9f93c420\\expr.ipynb\"><img src=\"..\\..\\conjunction\\__pv_it\\bf71336d19004bcf68c4f8a839cdcc9eb9f93c420\\expr.png\" style=\"display:inline;vertical-align:middle;\" /></a></span></td></tr>\n",
       "<tr><td>&nbsp;</td><td colspan=4 style-\"text-align:left\"><a class=\"ProveItLink\" href=\"..\\..\\conjunction\\_axioms_.ipynb#andTF\">proveit.logic.boolean.conjunction.andTF</a></td></tr><tr><td>3</td><td>theorem</td><td></td><td><span style=\"font-size:20px;\"> &#x22A2;&nbsp;<a class=\"ProveItLink\" href=\"..\\..\\..\\equality\\__pv_it\\f287652a8b549a9e50c5775e0059552e341861ac0\\expr.ipynb\"><img src=\"..\\..\\..\\equality\\__pv_it\\f287652a8b549a9e50c5775e0059552e341861ac0\\expr.png\" style=\"display:inline;vertical-align:middle;\" /></a></span></td></tr>\n",
       "<tr><td>&nbsp;</td><td colspan=4 style-\"text-align:left\"><a class=\"ProveItLink\" href=\"..\\..\\..\\equality\\_proofs_\\substituteInFalse.ipynb\">proveit.logic.equality.substituteInFalse</a></td></tr><tr><td>4</td><td>specialization</td><td>6, 7, 8</td><td><span style=\"font-size:20px;\"> &#x22A2;&nbsp;<a class=\"ProveItLink\" href=\"..\\__pv_it\\316e1b14e75d57c61207dcbe7a8870e749dcb6e40\\expr.ipynb\"><img src=\"..\\__pv_it\\316e1b14e75d57c61207dcbe7a8870e749dcb6e40\\expr.png\" style=\"display:inline;vertical-align:middle;\" /></a></span></td></tr>\n",
       "<tr><td>&nbsp;</td><td colspan=4 style=\"text-align:left\"><span style=\"font-size:20px;\"><a class=\"ProveItLink\" href=\"..\\__pv_it\\09b0b719a3c5ea9da833446055057f4af5cf6ac30\\expr.ipynb\"><img src=\"..\\__pv_it\\09b0b719a3c5ea9da833446055057f4af5cf6ac30\\expr.png\" style=\"display:inline;vertical-align:middle;\" /></a>, <a class=\"ProveItLink\" href=\"..\\__pv_it\\0a19d19e644a9ccdb1b5b15b770b2c1eae0439ec0\\expr.ipynb\"><img src=\"..\\__pv_it\\0a19d19e644a9ccdb1b5b15b770b2c1eae0439ec0\\expr.png\" style=\"display:inline;vertical-align:middle;\" /></a>, <a class=\"ProveItLink\" href=\"..\\__pv_it\\95234de2f8932bfa1908fb7032e268bab15311800\\expr.ipynb\"><img src=\"..\\__pv_it\\95234de2f8932bfa1908fb7032e268bab15311800\\expr.png\" style=\"display:inline;vertical-align:middle;\" /></a></span></td></tr><tr><td>5</td><td>theorem</td><td></td><td><span style=\"font-size:20px;\"> &#x22A2;&nbsp;<a class=\"ProveItLink\" href=\"..\\__pv_it\\d03ab80c19fc62ba3b955af9050ec263c8cf15170\\expr.ipynb\"><img src=\"..\\__pv_it\\d03ab80c19fc62ba3b955af9050ec263c8cf15170\\expr.png\" style=\"display:inline;vertical-align:middle;\" /></a></span></td></tr>\n",
       "<tr><td>&nbsp;</td><td colspan=4 style-\"text-align:left\"><a class=\"ProveItLink\" href=\"trueImpliesFalseNegated.ipynb\">proveit.logic.boolean.implication.trueImpliesFalseNegated</a></td></tr><tr><td>6</td><td>theorem</td><td></td><td><span style=\"font-size:20px;\"> &#x22A2;&nbsp;<a class=\"ProveItLink\" href=\"..\\..\\..\\equality\\__pv_it\\5b6686687da80bc69920c8ed469622d49cb40ce40\\expr.ipynb\"><img src=\"..\\..\\..\\equality\\__pv_it\\5b6686687da80bc69920c8ed469622d49cb40ce40\\expr.png\" style=\"display:inline;vertical-align:middle;\" /></a></span></td></tr>\n",
       "<tr><td>&nbsp;</td><td colspan=4 style-\"text-align:left\"><a class=\"ProveItLink\" href=\"..\\..\\..\\equality\\_proofs_\\rhsSubstitute.ipynb\">proveit.logic.equality.rhsSubstitute</a></td></tr><tr><td>7</td><td>specialization</td><td>9</td><td><span style=\"font-size:20px;\"> &#x22A2;&nbsp;<a class=\"ProveItLink\" href=\"..\\__pv_it\\3493330536800fd57d19731a0262bac0e9cb38a70\\expr.ipynb\"><img src=\"..\\__pv_it\\3493330536800fd57d19731a0262bac0e9cb38a70\\expr.png\" style=\"display:inline;vertical-align:middle;\" /></a></span></td></tr>\n",
       "<tr><td>&nbsp;</td><td colspan=4 style=\"text-align:left\"><span style=\"font-size:20px;\"><a class=\"ProveItLink\" href=\"..\\__pv_it\\f91299cf39038ce0ac65372c656c08b7c33489c70\\expr.ipynb\"><img src=\"..\\__pv_it\\f91299cf39038ce0ac65372c656c08b7c33489c70\\expr.png\" style=\"display:inline;vertical-align:middle;\" /></a>, <a class=\"ProveItLink\" href=\"..\\__pv_it\\c06fcd396a728cb40de93b003d37889acd5fee080\\expr.ipynb\"><img src=\"..\\__pv_it\\c06fcd396a728cb40de93b003d37889acd5fee080\\expr.png\" style=\"display:inline;vertical-align:middle;\" /></a></span></td></tr><tr><td>8</td><td>theorem</td><td></td><td><span style=\"font-size:20px;\"> &#x22A2;&nbsp;<a class=\"ProveItLink\" href=\"..\\__pv_it\\242a8e89c9da4ff530695ea7510d88a21e4a0bfd0\\expr.ipynb\"><img src=\"..\\__pv_it\\242a8e89c9da4ff530695ea7510d88a21e4a0bfd0\\expr.png\" style=\"display:inline;vertical-align:middle;\" /></a></span></td></tr>\n",
       "<tr><td>&nbsp;</td><td colspan=4 style-\"text-align:left\"><a class=\"ProveItLink\" href=\"impliesFT.ipynb\">proveit.logic.boolean.implication.impliesFT</a></td></tr><tr><td>9</td><td>axiom</td><td></td><td><span style=\"font-size:20px;\"> &#x22A2;&nbsp;<a class=\"ProveItLink\" href=\"..\\__pv_it\\e14666a53eff5780fcf6eed1892c0b483d6e1f450\\expr.ipynb\"><img src=\"..\\__pv_it\\e14666a53eff5780fcf6eed1892c0b483d6e1f450\\expr.png\" style=\"display:inline;vertical-align:middle;\" /></a></span></td></tr>\n",
       "<tr><td>&nbsp;</td><td colspan=4 style-\"text-align:left\"><a class=\"ProveItLink\" href=\"..\\_axioms_.ipynb#iffDef\">proveit.logic.boolean.implication.iffDef</a></td></tr>"
      ],
      "text/plain": [
       "<proveit._core_.proof.Specialization instance at 0x0000000009905E88>"
      ]
     },
     "execution_count": 6,
     "metadata": {},
     "output_type": "execute_result"
    }
   ],
   "source": [
    "%qed"
   ]
  },
  {
   "cell_type": "code",
   "execution_count": null,
   "metadata": {
    "collapsed": true
   },
   "outputs": [],
   "source": []
  }
 ],
 "metadata": {
  "kernelspec": {
   "display_name": "Python 2",
   "language": "python",
   "name": "python2"
  },
  "language_info": {
   "codemirror_mode": {
    "name": "ipython",
    "version": 2
   },
   "file_extension": ".py",
   "mimetype": "text/x-python",
   "name": "python",
   "nbconvert_exporter": "python",
   "pygments_lexer": "ipython2",
   "version": "2.7.11"
  }
 },
 "nbformat": 4,
 "nbformat_minor": 0
}
