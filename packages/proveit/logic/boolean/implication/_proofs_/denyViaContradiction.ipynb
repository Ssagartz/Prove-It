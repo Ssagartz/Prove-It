{
 "cells": [
  {
   "cell_type": "markdown",
   "metadata": {
    "collapsed": true,
    "deletable": true,
    "editable": true
   },
   "source": [
    "Proof of <a class=\"ProveItLink\" href=\"..\\..\\..\\..\\_context_.ipynb\">proveit</a>.<a class=\"ProveItLink\" href=\"..\\..\\..\\_context_.ipynb\">logic</a>.<a class=\"ProveItLink\" href=\"..\\..\\_context_.ipynb\">boolean</a>.<a class=\"ProveItLink\" href=\"..\\_context_.ipynb\">implication</a>.<a class=\"ProveItLink\" href=\"../_theorems_.ipynb#denyViaContradiction\">denyViaContradiction</a> theorem\n",
    "========"
   ]
  },
  {
   "cell_type": "code",
   "execution_count": 1,
   "metadata": {
    "collapsed": false,
    "deletable": true,
    "editable": true
   },
   "outputs": [],
   "source": [
    "import proveit\n",
    "from proveit._common_ import A\n",
    "from proveit.logic import Not\n",
    "from proveit.logic.boolean.implication._theorems_ import affirmViaContradiction\n",
    "from proveit.logic.boolean.negation._theorems_ import closure, fromDoubleNegation\n",
    "context = proveit.Context('..') # the theorem's context is in the parent directory"
   ]
  },
  {
   "cell_type": "code",
   "execution_count": 2,
   "metadata": {
    "collapsed": false,
    "deletable": true,
    "editable": true
   },
   "outputs": [
    {
     "name": "stdout",
     "output_type": "stream",
     "text": [
      "Beginning proof of denyViaContradiction\n",
      "Recorded 'presuming' information\n",
      "Presuming proveit.logic.boolean.conjunction.andIfBoth, proveit.logic.boolean.falseInBool, proveit.logic.boolean.foldForallOverBool, proveit.logic.boolean.negation.closure, proveit.logic.boolean.negation.fromDoubleNegation, proveit.logic.boolean.trueInBool, proveit.logic.equality.lhsSubstitute theorem(s).\n",
      "Presuming previous theorems in this context (and any of their dependencies).\n"
     ]
    },
    {
     "data": {
      "text/html": [
       "<strong id=\"denyViaContradiction\">denyViaContradiction:</strong> <a class=\"ProveItLink\" href=\"..\\__pv_it\\545ba38d3e777b901c2850d200810188621506940\\expr.ipynb\"><img src=\"..\\__pv_it\\545ba38d3e777b901c2850d200810188621506940\\expr.png\" style=\"display:inline;vertical-align:middle;\" /></a><br>(see <a class=\"ProveItLink\" href=\"..\\__pv_it\\545ba38d3e777b901c2850d200810188621506940\\dependencies.ipynb\">dependencies</a>)"
      ],
      "text/plain": [
       "denyViaContradiction: forall_{A in BOOLEANS | A => FALSE} [not](A)"
      ]
     },
     "execution_count": 2,
     "metadata": {},
     "output_type": "execute_result"
    }
   ],
   "source": [
    "%proving denyViaContradiction presuming [closure, fromDoubleNegation]"
   ]
  },
  {
   "cell_type": "code",
   "execution_count": 3,
   "metadata": {
    "collapsed": false,
    "deletable": true,
    "editable": true
   },
   "outputs": [
    {
     "data": {
      "text/html": [
       "<span style=\"font-size:20px;\"> &#x22A2;&nbsp;<a class=\"ProveItLink\" href=\"..\\__pv_it\\05b1074bdf7e5312355ad17d011a54289088008d0\\expr.ipynb\"><img src=\"..\\__pv_it\\05b1074bdf7e5312355ad17d011a54289088008d0\\expr.png\" style=\"display:inline;vertical-align:middle;\" /></a></span>"
      ],
      "text/plain": [
       "|= forall_{A in BOOLEANS | [not](A) => FALSE} A"
      ]
     },
     "execution_count": 3,
     "metadata": {},
     "output_type": "execute_result"
    }
   ],
   "source": [
    "affirmViaContradiction"
   ]
  },
  {
   "cell_type": "code",
   "execution_count": 4,
   "metadata": {
    "collapsed": false,
    "deletable": true,
    "editable": true
   },
   "outputs": [
    {
     "data": {
      "text/html": [
       "<span style=\"font-size:20px;\"><a class=\"ProveItLink\" href=\"..\\__pv_it\\b2d1a4af3255e634beae967c06e1e6fc1a70c80d0\\expr.ipynb\"><img src=\"..\\__pv_it\\b2d1a4af3255e634beae967c06e1e6fc1a70c80d0\\expr.png\" style=\"display:inline;vertical-align:middle;\" /></a> &#x22A2;&nbsp;<a class=\"ProveItLink\" href=\"..\\__pv_it\\feaa1d0e6d92ad9ead8e5ffd1f92697e3912387a0\\expr.ipynb\"><img src=\"..\\__pv_it\\feaa1d0e6d92ad9ead8e5ffd1f92697e3912387a0\\expr.png\" style=\"display:inline;vertical-align:middle;\" /></a></span>"
      ],
      "text/plain": [
       "{A in BOOLEANS , A => FALSE} |= [not](A)"
      ]
     },
     "execution_count": 4,
     "metadata": {},
     "output_type": "execute_result"
    }
   ],
   "source": [
    "affirmViaContradiction.specialize({A:Not(A)}, assumptions=denyViaContradiction.conditions)"
   ]
  },
  {
   "cell_type": "code",
   "execution_count": 5,
   "metadata": {
    "collapsed": false,
    "deletable": true,
    "editable": true
   },
   "outputs": [
    {
     "data": {
      "text/html": [
       "<table><tr><th>&nbsp;</th><th>step type</th><th>requirements</th><th>statement</th></tr>\n",
       "<tr><td>0</td><td>generalizaton</td><td>1</td><td><span style=\"font-size:20px;\"> &#x22A2;&nbsp;<a class=\"ProveItLink\" href=\"..\\__pv_it\\545ba38d3e777b901c2850d200810188621506940\\expr.ipynb\"><img src=\"..\\__pv_it\\545ba38d3e777b901c2850d200810188621506940\\expr.png\" style=\"display:inline;vertical-align:middle;\" /></a></span></td></tr>\n",
       "<tr><td>1</td><td>specialization</td><td>2, 3, 4</td><td><span style=\"font-size:20px;\"><a class=\"ProveItLink\" href=\"..\\__pv_it\\b2d1a4af3255e634beae967c06e1e6fc1a70c80d0\\expr.ipynb\"><img src=\"..\\__pv_it\\b2d1a4af3255e634beae967c06e1e6fc1a70c80d0\\expr.png\" style=\"display:inline;vertical-align:middle;\" /></a> &#x22A2;&nbsp;<a class=\"ProveItLink\" href=\"..\\__pv_it\\feaa1d0e6d92ad9ead8e5ffd1f92697e3912387a0\\expr.ipynb\"><img src=\"..\\__pv_it\\feaa1d0e6d92ad9ead8e5ffd1f92697e3912387a0\\expr.png\" style=\"display:inline;vertical-align:middle;\" /></a></span></td></tr>\n",
       "<tr><td>&nbsp;</td><td colspan=4 style=\"text-align:left\"><span style=\"font-size:20px;\"><a class=\"ProveItLink\" href=\"..\\__pv_it\\8f6f575347428288279cc4259dae13cbb6e7b1e50\\expr.ipynb\"><img src=\"..\\__pv_it\\8f6f575347428288279cc4259dae13cbb6e7b1e50\\expr.png\" style=\"display:inline;vertical-align:middle;\" /></a></span></td></tr><tr><td>2</td><td>theorem</td><td></td><td><span style=\"font-size:20px;\"> &#x22A2;&nbsp;<a class=\"ProveItLink\" href=\"..\\__pv_it\\05b1074bdf7e5312355ad17d011a54289088008d0\\expr.ipynb\"><img src=\"..\\__pv_it\\05b1074bdf7e5312355ad17d011a54289088008d0\\expr.png\" style=\"display:inline;vertical-align:middle;\" /></a></span></td></tr>\n",
       "<tr><td>&nbsp;</td><td colspan=4 style-\"text-align:left\"><a class=\"ProveItLink\" href=\"affirmViaContradiction.ipynb\">proveit.logic.boolean.implication.affirmViaContradiction</a></td></tr><tr><td>3</td><td>specialization</td><td>5, 6</td><td><span style=\"font-size:20px;\"><a class=\"ProveItLink\" href=\"..\\__pv_it\\017ca8cfa034181c90ba15dd10869f0f4e516d6a0\\expr.ipynb\"><img src=\"..\\__pv_it\\017ca8cfa034181c90ba15dd10869f0f4e516d6a0\\expr.png\" style=\"display:inline;vertical-align:middle;\" /></a> &#x22A2;&nbsp;<a class=\"ProveItLink\" href=\"..\\__pv_it\\986d2e7ca8eb67a3fbf4b28f256b01dbf875a3f20\\expr.ipynb\"><img src=\"..\\__pv_it\\986d2e7ca8eb67a3fbf4b28f256b01dbf875a3f20\\expr.png\" style=\"display:inline;vertical-align:middle;\" /></a></span></td></tr>\n",
       "<tr><td>&nbsp;</td><td colspan=4 style=\"text-align:left\"><span style=\"font-size:20px;\"><a class=\"ProveItLink\" href=\"..\\__pv_it\\507ea7067d5ddfd40d77b6b571c0dbf2bbae36900\\expr.ipynb\"><img src=\"..\\__pv_it\\507ea7067d5ddfd40d77b6b571c0dbf2bbae36900\\expr.png\" style=\"display:inline;vertical-align:middle;\" /></a></span></td></tr><tr><td>4</td><td>hypothetical reasoning</td><td>7</td><td><span style=\"font-size:20px;\"><a class=\"ProveItLink\" href=\"..\\__pv_it\\c9514caadfc9ac1cd8c0b1df7d6bc2034a44ad270\\expr.ipynb\"><img src=\"..\\__pv_it\\c9514caadfc9ac1cd8c0b1df7d6bc2034a44ad270\\expr.png\" style=\"display:inline;vertical-align:middle;\" /></a> &#x22A2;&nbsp;<a class=\"ProveItLink\" href=\"..\\__pv_it\\dda89e1184441767510575d0ed029585ed7e592f0\\expr.ipynb\"><img src=\"..\\__pv_it\\dda89e1184441767510575d0ed029585ed7e592f0\\expr.png\" style=\"display:inline;vertical-align:middle;\" /></a></span></td></tr>\n",
       "<tr><td>5</td><td>theorem</td><td></td><td><span style=\"font-size:20px;\"> &#x22A2;&nbsp;<a class=\"ProveItLink\" href=\"..\\..\\negation\\__pv_it\\42428db6bfee298352d8bfd952e14d632c260fd90\\expr.ipynb\"><img src=\"..\\..\\negation\\__pv_it\\42428db6bfee298352d8bfd952e14d632c260fd90\\expr.png\" style=\"display:inline;vertical-align:middle;\" /></a></span></td></tr>\n",
       "<tr><td>&nbsp;</td><td colspan=4 style-\"text-align:left\"><a class=\"ProveItLink\" href=\"..\\..\\negation\\_proofs_\\closure.ipynb\">proveit.logic.boolean.negation.closure</a></td></tr><tr><td>6</td><td>assumption</td><td></td><td><span style=\"font-size:20px;\"><a class=\"ProveItLink\" href=\"..\\__pv_it\\017ca8cfa034181c90ba15dd10869f0f4e516d6a0\\expr.ipynb\"><img src=\"..\\__pv_it\\017ca8cfa034181c90ba15dd10869f0f4e516d6a0\\expr.png\" style=\"display:inline;vertical-align:middle;\" /></a> &#x22A2;&nbsp;<a class=\"ProveItLink\" href=\"..\\__pv_it\\03a5c2b5cc6fc2c3cd686b4bcf84379b893abe210\\expr.ipynb\"><img src=\"..\\__pv_it\\03a5c2b5cc6fc2c3cd686b4bcf84379b893abe210\\expr.png\" style=\"display:inline;vertical-align:middle;\" /></a></span></td></tr>\n",
       "<tr><td>7</td><td>modus ponens</td><td>8, 9</td><td><span style=\"font-size:20px;\"><a class=\"ProveItLink\" href=\"..\\__pv_it\\1c1cde56847798ced2946f72734eec6373b65f270\\expr.ipynb\"><img src=\"..\\__pv_it\\1c1cde56847798ced2946f72734eec6373b65f270\\expr.png\" style=\"display:inline;vertical-align:middle;\" /></a> &#x22A2;&nbsp;<a class=\"ProveItLink\" href=\"..\\..\\__pv_it\\8f1f7fac882de28c72b62ab80a1700b6d8fd066b0\\expr.ipynb\"><img src=\"..\\..\\__pv_it\\8f1f7fac882de28c72b62ab80a1700b6d8fd066b0\\expr.png\" style=\"display:inline;vertical-align:middle;\" /></a></span></td></tr>\n",
       "<tr><td>8</td><td>assumption</td><td></td><td><span style=\"font-size:20px;\"><a class=\"ProveItLink\" href=\"..\\__pv_it\\c9514caadfc9ac1cd8c0b1df7d6bc2034a44ad270\\expr.ipynb\"><img src=\"..\\__pv_it\\c9514caadfc9ac1cd8c0b1df7d6bc2034a44ad270\\expr.png\" style=\"display:inline;vertical-align:middle;\" /></a> &#x22A2;&nbsp;<a class=\"ProveItLink\" href=\"..\\__pv_it\\131faa60c2e4ea5a0a341e04ff4a15488128809e0\\expr.ipynb\"><img src=\"..\\__pv_it\\131faa60c2e4ea5a0a341e04ff4a15488128809e0\\expr.png\" style=\"display:inline;vertical-align:middle;\" /></a></span></td></tr>\n",
       "<tr><td>9</td><td>specialization</td><td>10, 11</td><td><span style=\"font-size:20px;\"><a class=\"ProveItLink\" href=\"..\\__pv_it\\7b9c28b0b6fadc30bc93e524edc1b11f6ec5ab8a0\\expr.ipynb\"><img src=\"..\\__pv_it\\7b9c28b0b6fadc30bc93e524edc1b11f6ec5ab8a0\\expr.png\" style=\"display:inline;vertical-align:middle;\" /></a> &#x22A2;&nbsp;<a class=\"ProveItLink\" href=\"..\\..\\..\\..\\__pv_it\\2cbe72a7ad6f655694dd697106680215e8489b600\\expr.ipynb\"><img src=\"..\\..\\..\\..\\__pv_it\\2cbe72a7ad6f655694dd697106680215e8489b600\\expr.png\" style=\"display:inline;vertical-align:middle;\" /></a></span></td></tr>\n",
       "<tr><td>&nbsp;</td><td colspan=4 style=\"text-align:left\"><span style=\"font-size:20px;\"><a class=\"ProveItLink\" href=\"..\\__pv_it\\507ea7067d5ddfd40d77b6b571c0dbf2bbae36900\\expr.ipynb\"><img src=\"..\\__pv_it\\507ea7067d5ddfd40d77b6b571c0dbf2bbae36900\\expr.png\" style=\"display:inline;vertical-align:middle;\" /></a></span></td></tr><tr><td>10</td><td>theorem</td><td></td><td><span style=\"font-size:20px;\"> &#x22A2;&nbsp;<a class=\"ProveItLink\" href=\"..\\..\\negation\\__pv_it\\8d0f8484eb17320992bfc5724dfb622a3bf048fa0\\expr.ipynb\"><img src=\"..\\..\\negation\\__pv_it\\8d0f8484eb17320992bfc5724dfb622a3bf048fa0\\expr.png\" style=\"display:inline;vertical-align:middle;\" /></a></span></td></tr>\n",
       "<tr><td>&nbsp;</td><td colspan=4 style-\"text-align:left\"><a class=\"ProveItLink\" href=\"..\\..\\negation\\_proofs_\\fromDoubleNegation.ipynb\">proveit.logic.boolean.negation.fromDoubleNegation</a></td></tr><tr><td>11</td><td>assumption</td><td></td><td><span style=\"font-size:20px;\"><a class=\"ProveItLink\" href=\"..\\__pv_it\\7b9c28b0b6fadc30bc93e524edc1b11f6ec5ab8a0\\expr.ipynb\"><img src=\"..\\__pv_it\\7b9c28b0b6fadc30bc93e524edc1b11f6ec5ab8a0\\expr.png\" style=\"display:inline;vertical-align:middle;\" /></a> &#x22A2;&nbsp;<a class=\"ProveItLink\" href=\"..\\__pv_it\\690f844a8265fe01f189bf903fced7412f5ba46b0\\expr.ipynb\"><img src=\"..\\__pv_it\\690f844a8265fe01f189bf903fced7412f5ba46b0\\expr.png\" style=\"display:inline;vertical-align:middle;\" /></a></span></td></tr>\n"
      ],
      "text/plain": [
       "<proveit._core_.proof.Generalization instance at 0x00000000092DCC08>"
      ]
     },
     "execution_count": 5,
     "metadata": {},
     "output_type": "execute_result"
    }
   ],
   "source": [
    "%qed"
   ]
  },
  {
   "cell_type": "code",
   "execution_count": null,
   "metadata": {
    "collapsed": true,
    "deletable": true,
    "editable": true
   },
   "outputs": [],
   "source": []
  }
 ],
 "metadata": {
  "kernelspec": {
   "display_name": "Python 2",
   "language": "python",
   "name": "python2"
  },
  "language_info": {
   "codemirror_mode": {
    "name": "ipython",
    "version": 2
   },
   "file_extension": ".py",
   "mimetype": "text/x-python",
   "name": "python",
   "nbconvert_exporter": "python",
   "pygments_lexer": "ipython2",
   "version": "2.7.11"
  }
 },
 "nbformat": 4,
 "nbformat_minor": 0
}
