{
 "cells": [
  {
   "cell_type": "markdown",
   "metadata": {
    "collapsed": true,
    "deletable": true,
    "editable": true
   },
   "source": [
    "Proof of <a class=\"ProveItLink\" href=\"../_theorems_.ipynb#falseAntecedentImplication\">falseAntecedentImplication</a> theorem\n",
    "========"
   ]
  },
  {
   "cell_type": "code",
   "execution_count": 1,
   "metadata": {
    "collapsed": false,
    "deletable": true,
    "editable": true
   },
   "outputs": [],
   "source": [
    "import proveit\n",
    "context = proveit.Context('..') # the theorem's context is in the parent directory\n",
    "from proveit.logic.boolean.implication._axioms_ import untrueAntecedentImplication\n",
    "from proveit.logic import Not\n",
    "from proveit._common_ import A, B"
   ]
  },
  {
   "cell_type": "code",
   "execution_count": 2,
   "metadata": {
    "collapsed": false,
    "deletable": true,
    "editable": true
   },
   "outputs": [
    {
     "name": "stdout",
     "output_type": "stream",
     "text": [
      "Recorded 'presuming' information\n",
      "Presuming proveit.logic.boolean.negation.untrueFromNegation theorem(s) (and any of their dependencies)\n",
      "Presuming previous theorems in this context (and any of their dependencies).\n",
      "Beginning proof of\n"
     ]
    },
    {
     "data": {
      "text/html": [
       "<strong id=\"falseAntecedentImplication\">falseAntecedentImplication:</strong> <a href=\"..\\__pv_it\\ea20db606242b77968c35d080bdc9bf08956a3310\\expr.ipynb\" target=\"_blank\"><img src=\"..\\__pv_it\\ea20db606242b77968c35d080bdc9bf08956a3310\\expr.png\" style=\"display:inline;vertical-align:middle;\" /></a><br>(see <a class=\"ProveItLink\" href=\"..\\__pv_it\\ea20db606242b77968c35d080bdc9bf08956a3310\\dependencies.ipynb\" target=\"_blank\">dependencies</a>)"
      ],
      "text/plain": [
       "falseAntecedentImplication: forall_{A, B | not(A)} (A => B)"
      ]
     },
     "execution_count": 2,
     "metadata": {},
     "output_type": "execute_result"
    }
   ],
   "source": [
    "%begin_proof falseAntecedentImplication presuming [proveit.logic.boolean.negation.untrueFromNegation ]"
   ]
  },
  {
   "cell_type": "code",
   "execution_count": 3,
   "metadata": {
    "collapsed": false,
    "deletable": true,
    "editable": true
   },
   "outputs": [
    {
     "data": {
      "text/html": [
       "<span style=\"font-size:20px;\"> &#x22A2;&nbsp;<a href=\"..\\__pv_it\\f23d1f692fc58540dc51e3200f577a9ea7986f860\\expr.ipynb\" target=\"_blank\"><img src=\"..\\__pv_it\\f23d1f692fc58540dc51e3200f577a9ea7986f860\\expr.png\" style=\"display:inline;vertical-align:middle;\" /></a></span>"
      ],
      "text/plain": [
       "|= forall_{A, B | (A != TRUE)} (A => B)"
      ]
     },
     "execution_count": 3,
     "metadata": {},
     "output_type": "execute_result"
    }
   ],
   "source": [
    "untrueAntecedentImplication"
   ]
  },
  {
   "cell_type": "code",
   "execution_count": 4,
   "metadata": {
    "collapsed": false,
    "deletable": true,
    "editable": true
   },
   "outputs": [
    {
     "data": {
      "text/html": [
       "<strong id=\"A_implies_B\">A_implies_B:</strong> <span style=\"font-size:20px;\"><a href=\"..\\__pv_it\\872fbacacf493a8f20d5c989387bbba82680703b0\\expr.ipynb\" target=\"_blank\"><img src=\"..\\__pv_it\\872fbacacf493a8f20d5c989387bbba82680703b0\\expr.png\" style=\"display:inline;vertical-align:middle;\" /></a> &#x22A2;&nbsp;<a href=\"..\\__pv_it\\15ac6dd5807fd7d67debb0134a82afa803660bbc0\\expr.ipynb\" target=\"_blank\"><img src=\"..\\__pv_it\\15ac6dd5807fd7d67debb0134a82afa803660bbc0\\expr.png\" style=\"display:inline;vertical-align:middle;\" /></a></span><br>"
      ],
      "text/plain": [
       "A_implies_B: {not(A)} |= A => B"
      ]
     },
     "execution_count": 4,
     "metadata": {},
     "output_type": "execute_result"
    }
   ],
   "source": [
    "A_implies_B = untrueAntecedentImplication.specialize(assumptions=[Not(A)])"
   ]
  },
  {
   "cell_type": "code",
   "execution_count": 5,
   "metadata": {
    "collapsed": false,
    "deletable": true,
    "editable": true
   },
   "outputs": [
    {
     "name": "stdout",
     "output_type": "stream",
     "text": [
      "falseAntecedentImplication has been proven.  Now simply execute \"%qed\".\n"
     ]
    },
    {
     "data": {
      "text/html": [
       "<span style=\"font-size:20px;\"> &#x22A2;&nbsp;<a href=\"..\\__pv_it\\ea20db606242b77968c35d080bdc9bf08956a3310\\expr.ipynb\" target=\"_blank\"><img src=\"..\\__pv_it\\ea20db606242b77968c35d080bdc9bf08956a3310\\expr.png\" style=\"display:inline;vertical-align:middle;\" /></a></span>"
      ],
      "text/plain": [
       "|= forall_{A, B | not(A)} (A => B)"
      ]
     },
     "execution_count": 5,
     "metadata": {},
     "output_type": "execute_result"
    }
   ],
   "source": [
    "A_implies_B.generalize((A, B), conditions=[Not(A)])"
   ]
  },
  {
   "cell_type": "code",
   "execution_count": 6,
   "metadata": {
    "collapsed": false
   },
   "outputs": [
    {
     "data": {
      "text/html": [
       "<table><tr><th>&nbsp;</th><th>step type</th><th>requirements</th><th>statement</th></tr>\n",
       "<tr><td>0</td><td>generalizaton</td><td>1</td><td><span style=\"font-size:20px;\"> &#x22A2;&nbsp;<a href=\"..\\__pv_it\\ea20db606242b77968c35d080bdc9bf08956a3310\\expr.ipynb\" target=\"_blank\"><img src=\"..\\__pv_it\\ea20db606242b77968c35d080bdc9bf08956a3310\\expr.png\" style=\"display:inline;vertical-align:middle;\" /></a></span></td></tr>\n",
       "<tr><td>1</td><td>specialization</td><td>2, 3</td><td><span style=\"font-size:20px;\"><a href=\"..\\__pv_it\\872fbacacf493a8f20d5c989387bbba82680703b0\\expr.ipynb\" target=\"_blank\"><img src=\"..\\__pv_it\\872fbacacf493a8f20d5c989387bbba82680703b0\\expr.png\" style=\"display:inline;vertical-align:middle;\" /></a> &#x22A2;&nbsp;<a href=\"..\\__pv_it\\15ac6dd5807fd7d67debb0134a82afa803660bbc0\\expr.ipynb\" target=\"_blank\"><img src=\"..\\__pv_it\\15ac6dd5807fd7d67debb0134a82afa803660bbc0\\expr.png\" style=\"display:inline;vertical-align:middle;\" /></a></span></td></tr>\n",
       "<tr><td>&nbsp;</td><td colspan=4 style=\"text-align:left\"><span style=\"font-size:20px;\"><a href=\"..\\__pv_it\\11c54b0d7cd8245498f330f187e329ef7bb5234a0\\expr.ipynb\" target=\"_blank\"><img src=\"..\\__pv_it\\11c54b0d7cd8245498f330f187e329ef7bb5234a0\\expr.png\" style=\"display:inline;vertical-align:middle;\" /></a>, <a href=\"..\\__pv_it\\da692410c3f164eff207ef0e61be91691d2acfdc0\\expr.ipynb\" target=\"_blank\"><img src=\"..\\__pv_it\\da692410c3f164eff207ef0e61be91691d2acfdc0\\expr.png\" style=\"display:inline;vertical-align:middle;\" /></a></span></td></tr><tr><td>2</td><td>axiom</td><td></td><td><span style=\"font-size:20px;\"> &#x22A2;&nbsp;<a href=\"..\\__pv_it\\f23d1f692fc58540dc51e3200f577a9ea7986f860\\expr.ipynb\" target=\"_blank\"><img src=\"..\\__pv_it\\f23d1f692fc58540dc51e3200f577a9ea7986f860\\expr.png\" style=\"display:inline;vertical-align:middle;\" /></a></span></td></tr>\n",
       "<tr><td>&nbsp;</td><td colspan=4 style-\"text-align:left\"><a href=\"..\\_axioms_.ipynb#untrueAntecedentImplication\" target=\"_blank\">proveit.logic.boolean.implication.untrueAntecedentImplication</a></td></tr><tr><td>3</td><td>specialization</td><td>4, 5</td><td><span style=\"font-size:20px;\"><a href=\"..\\__pv_it\\872fbacacf493a8f20d5c989387bbba82680703b0\\expr.ipynb\" target=\"_blank\"><img src=\"..\\__pv_it\\872fbacacf493a8f20d5c989387bbba82680703b0\\expr.png\" style=\"display:inline;vertical-align:middle;\" /></a> &#x22A2;&nbsp;<a href=\"..\\__pv_it\\d8bb7b71db8554198c33edc8485caca6755b3e680\\expr.ipynb\" target=\"_blank\"><img src=\"..\\__pv_it\\d8bb7b71db8554198c33edc8485caca6755b3e680\\expr.png\" style=\"display:inline;vertical-align:middle;\" /></a></span></td></tr>\n",
       "<tr><td>&nbsp;</td><td colspan=4 style=\"text-align:left\"><span style=\"font-size:20px;\"><a href=\"..\\__pv_it\\11c54b0d7cd8245498f330f187e329ef7bb5234a0\\expr.ipynb\" target=\"_blank\"><img src=\"..\\__pv_it\\11c54b0d7cd8245498f330f187e329ef7bb5234a0\\expr.png\" style=\"display:inline;vertical-align:middle;\" /></a></span></td></tr><tr><td>4</td><td>theorem</td><td></td><td><span style=\"font-size:20px;\"> &#x22A2;&nbsp;<a href=\"..\\..\\negation\\__pv_it\\b1f538baff9996ab8f583d17faf0434beb799e290\\expr.ipynb\" target=\"_blank\"><img src=\"..\\..\\negation\\__pv_it\\b1f538baff9996ab8f583d17faf0434beb799e290\\expr.png\" style=\"display:inline;vertical-align:middle;\" /></a></span></td></tr>\n",
       "<tr><td>&nbsp;</td><td colspan=4 style-\"text-align:left\"><a href=\"..\\..\\negation\\_proofs_\\untrueFromNegation.ipynb\" target=\"_blank\">proveit.logic.boolean.negation.untrueFromNegation</a></td></tr><tr><td>5</td><td>assumption</td><td></td><td><span style=\"font-size:20px;\"><a href=\"..\\__pv_it\\872fbacacf493a8f20d5c989387bbba82680703b0\\expr.ipynb\" target=\"_blank\"><img src=\"..\\__pv_it\\872fbacacf493a8f20d5c989387bbba82680703b0\\expr.png\" style=\"display:inline;vertical-align:middle;\" /></a> &#x22A2;&nbsp;<a href=\"..\\__pv_it\\fa7c7e430433467ea6ce222a8693443de92a5f160\\expr.ipynb\" target=\"_blank\"><img src=\"..\\__pv_it\\fa7c7e430433467ea6ce222a8693443de92a5f160\\expr.png\" style=\"display:inline;vertical-align:middle;\" /></a></span></td></tr>\n"
      ],
      "text/plain": [
       "<proveit._core_.proof.Generalization instance at 0x0000000006515708>"
      ]
     },
     "execution_count": 6,
     "metadata": {},
     "output_type": "execute_result"
    }
   ],
   "source": [
    "%qed"
   ]
  },
  {
   "cell_type": "code",
   "execution_count": 7,
   "metadata": {
    "collapsed": true
   },
   "outputs": [],
   "source": []
  }
 ],
 "metadata": {
  "kernelspec": {
   "display_name": "Python 2",
   "language": "python",
   "name": "python2"
  },
  "language_info": {
   "codemirror_mode": {
    "name": "ipython",
    "version": 2
   },
   "file_extension": ".py",
   "mimetype": "text/x-python",
   "name": "python",
   "nbconvert_exporter": "python",
   "pygments_lexer": "ipython2",
   "version": "2.7.11"
  }
 },
 "nbformat": 4,
 "nbformat_minor": 0
}
