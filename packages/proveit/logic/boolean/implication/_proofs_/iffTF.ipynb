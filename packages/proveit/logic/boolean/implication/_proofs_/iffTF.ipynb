{
 "cells": [
  {
   "cell_type": "markdown",
   "metadata": {
    "collapsed": true,
    "deletable": true,
    "editable": true
   },
   "source": [
    "Proof of <a class=\"ProveItLink\" href=\"..\\..\\..\\..\\_context_.ipynb\">proveit</a>.<a class=\"ProveItLink\" href=\"..\\..\\..\\_context_.ipynb\">logic</a>.<a class=\"ProveItLink\" href=\"..\\..\\_context_.ipynb\">boolean</a>.<a class=\"ProveItLink\" href=\"..\\_context_.ipynb\">implication</a>.<a href=\"../_theorems_.ipynb#iffTF\" class=\"ProveItLink\">iffTF</a> theorem\n",
    "========"
   ]
  },
  {
   "cell_type": "code",
   "execution_count": 1,
   "metadata": {
    "collapsed": true,
    "deletable": true,
    "editable": true
   },
   "outputs": [],
   "source": [
    "import proveit\n",
    "from proveit._common_ import A, B\n",
    "from proveit.logic import TRUE, FALSE\n",
    "from proveit.logic.boolean.implication._axioms_ import iffDef\n",
    "from proveit.logic.boolean.implication._theorems_ import trueIffFalseNegated, falseImpliesTrue, trueImpliesFalseNegated\n",
    "from proveit.logic.boolean.conjunction._axioms_ import andFT\n",
    "from proveit.logic.equality._theorems_ import substituteInTrue, substituteInFalse\n",
    "context = proveit.Context('..') # the theorem's context is in the parent directory"
   ]
  },
  {
   "cell_type": "code",
   "execution_count": 2,
   "metadata": {
    "collapsed": false,
    "deletable": true,
    "editable": true
   },
   "outputs": [
    {
     "name": "stdout",
     "output_type": "stream",
     "text": [
      "Beginning proof of iffTF\n",
      "Recorded 'presuming' information\n"
     ]
    },
    {
     "name": "stdout",
     "output_type": "stream",
     "text": [
      "Presuming proveit.logic.equality.substituteInFalse, proveit.logic.equality.substituteInTrue theorem(s).\n",
      "Presuming previous theorems in this context (and any of their dependencies).\n"
     ]
    },
    {
     "data": {
      "text/html": [
       "<strong id=\"iffTF\">iffTF:</strong> <a class=\"ProveItLink\" href=\"..\\__pv_it\\e4dc936fddf6357abd3abda63e48efa0c1212dd10\\expr.ipynb\"><img src=\"..\\__pv_it\\e4dc936fddf6357abd3abda63e48efa0c1212dd10\\expr.png\" style=\"display:inline;vertical-align:middle;\" /></a><br>(see <a class=\"ProveItLink\" href=\"..\\__pv_it\\e4dc936fddf6357abd3abda63e48efa0c1212dd10\\dependencies.ipynb\">dependencies</a>)"
      ],
      "text/plain": [
       "iffTF: (TRUE <=> FALSE) = FALSE"
      ]
     },
     "execution_count": 2,
     "metadata": {},
     "output_type": "execute_result"
    }
   ],
   "source": [
    "%proving iffTF presuming [substituteInTrue, substituteInFalse]"
   ]
  },
  {
   "cell_type": "code",
   "execution_count": 3,
   "metadata": {
    "collapsed": false,
    "deletable": true,
    "editable": true
   },
   "outputs": [
    {
     "data": {
      "text/html": [
       "<span style=\"font-size:20px;\"> &#x22A2;&nbsp;<a class=\"ProveItLink\" href=\"..\\__pv_it\\e14666a53eff5780fcf6eed1892c0b483d6e1f450\\expr.ipynb\"><img src=\"..\\__pv_it\\e14666a53eff5780fcf6eed1892c0b483d6e1f450\\expr.png\" style=\"display:inline;vertical-align:middle;\" /></a></span>"
      ],
      "text/plain": [
       "|= forall_{A, B} ((A <=> B) = ((A => B) and (B => A)))"
      ]
     },
     "execution_count": 3,
     "metadata": {},
     "output_type": "execute_result"
    }
   ],
   "source": [
    "iffDef"
   ]
  },
  {
   "cell_type": "code",
   "execution_count": 4,
   "metadata": {
    "collapsed": false,
    "deletable": true,
    "editable": true
   },
   "outputs": [
    {
     "data": {
      "text/html": [
       "<strong id=\"iffDefTF\">iffDefTF:</strong> <span style=\"font-size:20px;\"> &#x22A2;&nbsp;<a class=\"ProveItLink\" href=\"..\\__pv_it\\fc8a1f3008f531e5272b8234b02cec37b17b39e70\\expr.ipynb\"><img src=\"..\\__pv_it\\fc8a1f3008f531e5272b8234b02cec37b17b39e70\\expr.png\" style=\"display:inline;vertical-align:middle;\" /></a></span><br>"
      ],
      "text/plain": [
       "iffDefTF: |= (TRUE <=> FALSE) = ((TRUE => FALSE) and (FALSE => TRUE))"
      ]
     },
     "execution_count": 4,
     "metadata": {},
     "output_type": "execute_result"
    }
   ],
   "source": [
    "iffDefTF = iffDef.specialize({A:TRUE, B:FALSE})"
   ]
  },
  {
   "cell_type": "code",
   "execution_count": 5,
   "metadata": {
    "collapsed": false,
    "deletable": true,
    "editable": true
   },
   "outputs": [
    {
     "name": "stdout",
     "output_type": "stream",
     "text": [
      "iffTF has been proven.  Now simply execute \"%qed\".\n"
     ]
    },
    {
     "data": {
      "text/html": [
       "<span style=\"font-size:20px;\"> &#x22A2;&nbsp;<a class=\"ProveItLink\" href=\"..\\__pv_it\\e4dc936fddf6357abd3abda63e48efa0c1212dd10\\expr.ipynb\"><img src=\"..\\__pv_it\\e4dc936fddf6357abd3abda63e48efa0c1212dd10\\expr.png\" style=\"display:inline;vertical-align:middle;\" /></a></span>"
      ],
      "text/plain": [
       "|= (TRUE <=> FALSE) = FALSE"
      ]
     },
     "execution_count": 5,
     "metadata": {},
     "output_type": "execute_result"
    }
   ],
   "source": [
    "iffDefTF.innerExpr().rhs.evaluate()"
   ]
  },
  {
   "cell_type": "code",
   "execution_count": 6,
   "metadata": {
    "collapsed": false,
    "deletable": true,
    "editable": true
   },
   "outputs": [
    {
     "data": {
      "text/html": [
       "<table><tr><th>&nbsp;</th><th>step type</th><th>requirements</th><th>statement</th></tr>\n",
       "<tr><td>0</td><td>specialization</td><td>5, 1, 2</td><td><span style=\"font-size:20px;\"> &#x22A2;&nbsp;<a class=\"ProveItLink\" href=\"..\\__pv_it\\e4dc936fddf6357abd3abda63e48efa0c1212dd10\\expr.ipynb\"><img src=\"..\\__pv_it\\e4dc936fddf6357abd3abda63e48efa0c1212dd10\\expr.png\" style=\"display:inline;vertical-align:middle;\" /></a></span></td></tr>\n",
       "<tr><td>&nbsp;</td><td colspan=4 style=\"text-align:left\"><span style=\"font-size:20px;\"><a class=\"ProveItLink\" href=\"..\\__pv_it\\f89f84de7374dbedfe16d3299edbb81b33ed2a110\\expr.ipynb\"><img src=\"..\\__pv_it\\f89f84de7374dbedfe16d3299edbb81b33ed2a110\\expr.png\" style=\"display:inline;vertical-align:middle;\" /></a>, <a class=\"ProveItLink\" href=\"..\\__pv_it\\ff8472c0331a426c647caf288556ce6c920892cd0\\expr.ipynb\"><img src=\"..\\__pv_it\\ff8472c0331a426c647caf288556ce6c920892cd0\\expr.png\" style=\"display:inline;vertical-align:middle;\" /></a>, <a class=\"ProveItLink\" href=\"..\\__pv_it\\9fcbe233155f7e124010446d11752dbb33bd2ef40\\expr.ipynb\"><img src=\"..\\__pv_it\\9fcbe233155f7e124010446d11752dbb33bd2ef40\\expr.png\" style=\"display:inline;vertical-align:middle;\" /></a></span></td></tr><tr><td>1</td><td>specialization</td><td>5, 3, 4</td><td><span style=\"font-size:20px;\"> &#x22A2;&nbsp;<a class=\"ProveItLink\" href=\"..\\__pv_it\\6415c504a3abe6a46e8b11803b7e820dffdfd63d0\\expr.ipynb\"><img src=\"..\\__pv_it\\6415c504a3abe6a46e8b11803b7e820dffdfd63d0\\expr.png\" style=\"display:inline;vertical-align:middle;\" /></a></span></td></tr>\n",
       "<tr><td>&nbsp;</td><td colspan=4 style=\"text-align:left\"><span style=\"font-size:20px;\"><a class=\"ProveItLink\" href=\"..\\__pv_it\\187be901fea01b4fc78df3d29be59948fcc4e9890\\expr.ipynb\"><img src=\"..\\__pv_it\\187be901fea01b4fc78df3d29be59948fcc4e9890\\expr.png\" style=\"display:inline;vertical-align:middle;\" /></a>, <a class=\"ProveItLink\" href=\"..\\__pv_it\\d151275950e5cc91cef829190011b640138b0d660\\expr.ipynb\"><img src=\"..\\__pv_it\\d151275950e5cc91cef829190011b640138b0d660\\expr.png\" style=\"display:inline;vertical-align:middle;\" /></a>, <a class=\"ProveItLink\" href=\"..\\__pv_it\\2737a2247b400aa2282d989b70bdb7d0af7eb9b80\\expr.ipynb\"><img src=\"..\\__pv_it\\2737a2247b400aa2282d989b70bdb7d0af7eb9b80\\expr.png\" style=\"display:inline;vertical-align:middle;\" /></a></span></td></tr><tr><td>2</td><td>axiom</td><td></td><td><span style=\"font-size:20px;\"> &#x22A2;&nbsp;<a class=\"ProveItLink\" href=\"..\\..\\conjunction\\__pv_it\\d54a4c9f80bf23554462e7252a7e121d66eb7fc10\\expr.ipynb\"><img src=\"..\\..\\conjunction\\__pv_it\\d54a4c9f80bf23554462e7252a7e121d66eb7fc10\\expr.png\" style=\"display:inline;vertical-align:middle;\" /></a></span></td></tr>\n",
       "<tr><td>&nbsp;</td><td colspan=4 style-\"text-align:left\"><a class=\"ProveItLink\" href=\"..\\..\\conjunction\\_axioms_.ipynb#andFT\">proveit.logic.boolean.conjunction.andFT</a></td></tr><tr><td>3</td><td>specialization</td><td>5, 6, 7</td><td><span style=\"font-size:20px;\"> &#x22A2;&nbsp;<a class=\"ProveItLink\" href=\"..\\__pv_it\\4725866a06febcaca9b8af4b757a7e49cd2161350\\expr.ipynb\"><img src=\"..\\__pv_it\\4725866a06febcaca9b8af4b757a7e49cd2161350\\expr.png\" style=\"display:inline;vertical-align:middle;\" /></a></span></td></tr>\n",
       "<tr><td>&nbsp;</td><td colspan=4 style=\"text-align:left\"><span style=\"font-size:20px;\"><a class=\"ProveItLink\" href=\"..\\__pv_it\\2d9a0f36e90f4591658632d44180924b98315ff70\\expr.ipynb\"><img src=\"..\\__pv_it\\2d9a0f36e90f4591658632d44180924b98315ff70\\expr.png\" style=\"display:inline;vertical-align:middle;\" /></a>, <a class=\"ProveItLink\" href=\"..\\__pv_it\\e0edd393152e51589c8488149edb503991c474860\\expr.ipynb\"><img src=\"..\\__pv_it\\e0edd393152e51589c8488149edb503991c474860\\expr.png\" style=\"display:inline;vertical-align:middle;\" /></a>, <a class=\"ProveItLink\" href=\"..\\__pv_it\\9fcbe233155f7e124010446d11752dbb33bd2ef40\\expr.ipynb\"><img src=\"..\\__pv_it\\9fcbe233155f7e124010446d11752dbb33bd2ef40\\expr.png\" style=\"display:inline;vertical-align:middle;\" /></a></span></td></tr><tr><td>4</td><td>theorem</td><td></td><td><span style=\"font-size:20px;\"> &#x22A2;&nbsp;<a class=\"ProveItLink\" href=\"..\\__pv_it\\242a8e89c9da4ff530695ea7510d88a21e4a0bfd0\\expr.ipynb\"><img src=\"..\\__pv_it\\242a8e89c9da4ff530695ea7510d88a21e4a0bfd0\\expr.png\" style=\"display:inline;vertical-align:middle;\" /></a></span></td></tr>\n",
       "<tr><td>&nbsp;</td><td colspan=4 style-\"text-align:left\"><a class=\"ProveItLink\" href=\"impliesFT.ipynb\">proveit.logic.boolean.implication.impliesFT</a></td></tr><tr><td>5</td><td>theorem</td><td></td><td><span style=\"font-size:20px;\"> &#x22A2;&nbsp;<a class=\"ProveItLink\" href=\"..\\..\\..\\equality\\__pv_it\\5b6686687da80bc69920c8ed469622d49cb40ce40\\expr.ipynb\"><img src=\"..\\..\\..\\equality\\__pv_it\\5b6686687da80bc69920c8ed469622d49cb40ce40\\expr.png\" style=\"display:inline;vertical-align:middle;\" /></a></span></td></tr>\n",
       "<tr><td>&nbsp;</td><td colspan=4 style-\"text-align:left\"><a class=\"ProveItLink\" href=\"..\\..\\..\\equality\\_proofs_\\subRightSideInto.ipynb\">proveit.logic.equality.subRightSideInto</a></td></tr><tr><td>6</td><td>specialization</td><td>8</td><td><span style=\"font-size:20px;\"> &#x22A2;&nbsp;<a class=\"ProveItLink\" href=\"..\\__pv_it\\fc8a1f3008f531e5272b8234b02cec37b17b39e70\\expr.ipynb\"><img src=\"..\\__pv_it\\fc8a1f3008f531e5272b8234b02cec37b17b39e70\\expr.png\" style=\"display:inline;vertical-align:middle;\" /></a></span></td></tr>\n",
       "<tr><td>&nbsp;</td><td colspan=4 style=\"text-align:left\"><span style=\"font-size:20px;\"><a class=\"ProveItLink\" href=\"..\\__pv_it\\a7bbe6d97f0aaee438c5e1bba87b1d14d575eb030\\expr.ipynb\"><img src=\"..\\__pv_it\\a7bbe6d97f0aaee438c5e1bba87b1d14d575eb030\\expr.png\" style=\"display:inline;vertical-align:middle;\" /></a>, <a class=\"ProveItLink\" href=\"..\\__pv_it\\2eccb813d75896b9f285e9597e40142c93b890d20\\expr.ipynb\"><img src=\"..\\__pv_it\\2eccb813d75896b9f285e9597e40142c93b890d20\\expr.png\" style=\"display:inline;vertical-align:middle;\" /></a></span></td></tr><tr><td>7</td><td>theorem</td><td></td><td><span style=\"font-size:20px;\"> &#x22A2;&nbsp;<a class=\"ProveItLink\" href=\"..\\__pv_it\\8595b046f57eaa00d3f3f5979ea0b9041b5e95ad0\\expr.ipynb\"><img src=\"..\\__pv_it\\8595b046f57eaa00d3f3f5979ea0b9041b5e95ad0\\expr.png\" style=\"display:inline;vertical-align:middle;\" /></a></span></td></tr>\n",
       "<tr><td>&nbsp;</td><td colspan=4 style-\"text-align:left\"><a class=\"ProveItLink\" href=\"impliesTF.ipynb\">proveit.logic.boolean.implication.impliesTF</a></td></tr><tr><td>8</td><td>axiom</td><td></td><td><span style=\"font-size:20px;\"> &#x22A2;&nbsp;<a class=\"ProveItLink\" href=\"..\\__pv_it\\e14666a53eff5780fcf6eed1892c0b483d6e1f450\\expr.ipynb\"><img src=\"..\\__pv_it\\e14666a53eff5780fcf6eed1892c0b483d6e1f450\\expr.png\" style=\"display:inline;vertical-align:middle;\" /></a></span></td></tr>\n",
       "<tr><td>&nbsp;</td><td colspan=4 style-\"text-align:left\"><a class=\"ProveItLink\" href=\"..\\_axioms_.ipynb#iffDef\">proveit.logic.boolean.implication.iffDef</a></td></tr>"
      ],
      "text/plain": [
       "<proveit._core_.proof.Specialization instance at 0x000000000A0E2488>"
      ]
     },
     "execution_count": 6,
     "metadata": {},
     "output_type": "execute_result"
    }
   ],
   "source": [
    "%qed"
   ]
  },
  {
   "cell_type": "code",
   "execution_count": 7,
   "metadata": {
    "collapsed": true,
    "deletable": true,
    "editable": true
   },
   "outputs": [],
   "source": []
  }
 ],
 "metadata": {
  "kernelspec": {
   "display_name": "Python 2",
   "language": "python",
   "name": "python2"
  },
  "language_info": {
   "codemirror_mode": {
    "name": "ipython",
    "version": 2
   },
   "file_extension": ".py",
   "mimetype": "text/x-python",
   "name": "python",
   "nbconvert_exporter": "python",
   "pygments_lexer": "ipython2",
   "version": "2.7.11"
  }
 },
 "nbformat": 4,
 "nbformat_minor": 0
}
