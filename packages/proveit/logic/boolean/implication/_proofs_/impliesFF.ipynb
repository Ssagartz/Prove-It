{
 "cells": [
  {
   "cell_type": "markdown",
   "metadata": {
    "collapsed": true,
    "deletable": true,
    "editable": true
   },
   "source": [
    "Proof of <a class=\"ProveItLink\" href=\"..\\..\\..\\..\\_context_.ipynb\">proveit</a>.<a class=\"ProveItLink\" href=\"..\\..\\..\\_context_.ipynb\">logic</a>.<a class=\"ProveItLink\" href=\"..\\..\\_context_.ipynb\">boolean</a>.<a class=\"ProveItLink\" href=\"..\\_context_.ipynb\">implication</a>.<a href=\"../_theorems_.ipynb#impliesFF\" class=\"ProveItLink\">impliesFF</a> theorem\n",
    "========"
   ]
  },
  {
   "cell_type": "code",
   "execution_count": 1,
   "metadata": {
    "collapsed": true,
    "deletable": true,
    "editable": true
   },
   "outputs": [],
   "source": [
    "import proveit\n",
    "context = proveit.Context('..') # the theorem's context is in the parent directory"
   ]
  },
  {
   "cell_type": "code",
   "execution_count": 2,
   "metadata": {
    "collapsed": false,
    "deletable": true,
    "editable": true
   },
   "outputs": [
    {
     "name": "stdout",
     "output_type": "stream",
     "text": [
      "Recorded 'presuming' information\n",
      "Presuming previous theorems in this context (and any of their dependencies).\n",
      "Beginning proof of\n"
     ]
    },
    {
     "data": {
      "text/html": [
       "<strong id=\"impliesFF\">impliesFF:</strong> <a href=\"..\\__pv_it\\e8f1efa0f115936f838b540915083c15b4f92d700\\expr.ipynb\" target=\"_blank\"><img src=\"..\\__pv_it\\e8f1efa0f115936f838b540915083c15b4f92d700\\expr.png\" style=\"display:inline;vertical-align:middle;\" /></a><br>(see <a class=\"ProveItLink\" href=\"..\\__pv_it\\e8f1efa0f115936f838b540915083c15b4f92d700\\dependencies.ipynb\" target=\"_blank\">dependencies</a>)"
      ],
      "text/plain": [
       "impliesFF: (FALSE => FALSE) = TRUE"
      ]
     },
     "execution_count": 2,
     "metadata": {},
     "output_type": "execute_result"
    }
   ],
   "source": [
    "%begin_proof impliesFF presuming []"
   ]
  },
  {
   "cell_type": "code",
   "execution_count": 3,
   "metadata": {
    "collapsed": false,
    "deletable": true,
    "editable": true
   },
   "outputs": [
    {
     "data": {
      "text/html": [
       "<table><tr><th>&nbsp;</th><th>step type</th><th>requirements</th><th>statement</th></tr>\n",
       "<tr><td>0</td><td>specialization</td><td>1, 2</td><td><span style=\"font-size:20px;\"> &#x22A2;&nbsp;<a href=\"..\\__pv_it\\e8f1efa0f115936f838b540915083c15b4f92d700\\expr.ipynb\" target=\"_blank\"><img src=\"..\\__pv_it\\e8f1efa0f115936f838b540915083c15b4f92d700\\expr.png\" style=\"display:inline;vertical-align:middle;\" /></a></span></td></tr>\n",
       "<tr><td>&nbsp;</td><td colspan=4 style=\"text-align:left\"><span style=\"font-size:20px;\"><a href=\"..\\__pv_it\\3f0696b827908beccb3b8c6917e79e646ce9fc050\\expr.ipynb\" target=\"_blank\"><img src=\"..\\__pv_it\\3f0696b827908beccb3b8c6917e79e646ce9fc050\\expr.png\" style=\"display:inline;vertical-align:middle;\" /></a></span></td></tr><tr><td>1</td><td>axiom</td><td></td><td><span style=\"font-size:20px;\"> &#x22A2;&nbsp;<a href=\"..\\..\\__pv_it\\8ac190437801bd0eefa35912c86faf4c574c7f5f0\\expr.ipynb\" target=\"_blank\"><img src=\"..\\..\\__pv_it\\8ac190437801bd0eefa35912c86faf4c574c7f5f0\\expr.png\" style=\"display:inline;vertical-align:middle;\" /></a></span></td></tr>\n",
       "<tr><td>&nbsp;</td><td colspan=4 style-\"text-align:left\"><a href=\"..\\..\\_axioms_.ipynb#eqTrueIntro\" target=\"_blank\">proveit.logic.boolean.eqTrueIntro</a></td></tr><tr><td>2</td><td>theorem</td><td></td><td><span style=\"font-size:20px;\"> &#x22A2;&nbsp;<a href=\"..\\__pv_it\\b7c4c6ec3bce95341dd74ab87f0b68dc0447ac420\\expr.ipynb\" target=\"_blank\"><img src=\"..\\__pv_it\\b7c4c6ec3bce95341dd74ab87f0b68dc0447ac420\\expr.png\" style=\"display:inline;vertical-align:middle;\" /></a></span></td></tr>\n",
       "<tr><td>&nbsp;</td><td colspan=4 style-\"text-align:left\"><a href=\"falseImpliesFalse.ipynb\" target=\"_blank\">proveit.logic.boolean.implication.falseImpliesFalse</a></td></tr>"
      ],
      "text/plain": [
       "<proveit._core_.proof.Specialization instance at 0x0000000006412608>"
      ]
     },
     "execution_count": 3,
     "metadata": {},
     "output_type": "execute_result"
    }
   ],
   "source": [
    "%qed"
   ]
  },
  {
   "cell_type": "code",
   "execution_count": 4,
   "metadata": {
    "collapsed": true
   },
   "outputs": [],
   "source": []
  }
 ],
 "metadata": {
  "kernelspec": {
   "display_name": "Python 2",
   "language": "python",
   "name": "python2"
  },
  "language_info": {
   "codemirror_mode": {
    "name": "ipython",
    "version": 2
   },
   "file_extension": ".py",
   "mimetype": "text/x-python",
   "name": "python",
   "nbconvert_exporter": "python",
   "pygments_lexer": "ipython2",
   "version": "2.7.11"
  }
 },
 "nbformat": 4,
 "nbformat_minor": 0
}
