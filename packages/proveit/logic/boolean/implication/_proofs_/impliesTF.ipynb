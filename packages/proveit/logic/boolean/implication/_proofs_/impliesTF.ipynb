{
 "cells": [
  {
   "cell_type": "markdown",
   "metadata": {
    "collapsed": true,
    "deletable": true,
    "editable": true
   },
   "source": [
    "Proof of <a class=\"ProveItLink\" href=\"..\\..\\..\\..\\_context_.ipynb\">proveit</a>.<a class=\"ProveItLink\" href=\"..\\..\\..\\_context_.ipynb\">logic</a>.<a class=\"ProveItLink\" href=\"..\\..\\_context_.ipynb\">boolean</a>.<a class=\"ProveItLink\" href=\"..\\_context_.ipynb\">implication</a>.<a href=\"../_theorems_.ipynb#impliesTF\" class=\"ProveItLink\">impliesTF</a> theorem\n",
    "========"
   ]
  },
  {
   "cell_type": "code",
   "execution_count": 1,
   "metadata": {
    "collapsed": false,
    "deletable": true,
    "editable": true
   },
   "outputs": [],
   "source": [
    "import proveit\n",
    "context = proveit.Context('..') # the theorem's context is in the parent directory\n",
    "from proveit.logic.boolean.implication._axioms_ import impliesFalseDef\n",
    "from proveit.logic import FALSE, Not\n",
    "from proveit._common_ import A"
   ]
  },
  {
   "cell_type": "code",
   "execution_count": 2,
   "metadata": {
    "collapsed": false,
    "deletable": true,
    "editable": true
   },
   "outputs": [
    {
     "name": "stdout",
     "output_type": "stream",
     "text": [
      "Recorded 'presuming' information\n",
      "Presuming proveit.logic.boolean.falseInBool, proveit.logic.boolean.negation.notF, proveit.logic.equality.rhsSubstitute theorem(s) (and any of their dependencies)\n",
      "Presuming previous theorems in this context (and any of their dependencies).\n",
      "Beginning proof of\n"
     ]
    },
    {
     "data": {
      "text/html": [
       "<strong id=\"impliesTF\">impliesTF:</strong> <a href=\"..\\__pv_it\\d95f0b628f8cdfae31c42352940cb7d8eef74fa20\\expr.ipynb\" target=\"_blank\"><img src=\"..\\__pv_it\\d95f0b628f8cdfae31c42352940cb7d8eef74fa20\\expr.png\" style=\"display:inline;vertical-align:middle;\" /></a><br>(see <a class=\"ProveItLink\" href=\"..\\__pv_it\\d95f0b628f8cdfae31c42352940cb7d8eef74fa20\\dependencies.ipynb\" target=\"_blank\">dependencies</a>)"
      ],
      "text/plain": [
       "impliesTF: (TRUE => FALSE) = FALSE"
      ]
     },
     "execution_count": 2,
     "metadata": {},
     "output_type": "execute_result"
    }
   ],
   "source": [
    "%begin_proof impliesTF presuming [proveit.logic.boolean.falseInBool, \\\n",
    "                                  proveit.logic.boolean.negation.notF, \\\n",
    "                                  proveit.logic.equality.rhsSubstitute]"
   ]
  },
  {
   "cell_type": "code",
   "execution_count": 3,
   "metadata": {
    "collapsed": false
   },
   "outputs": [
    {
     "data": {
      "text/html": [
       "<span style=\"font-size:20px;\"> &#x22A2;&nbsp;<a href=\"..\\__pv_it\\c01addd64e3d399b6a0aea0dee7a18f8b3c215f60\\expr.ipynb\" target=\"_blank\"><img src=\"..\\__pv_it\\c01addd64e3d399b6a0aea0dee7a18f8b3c215f60\\expr.png\" style=\"display:inline;vertical-align:middle;\" /></a></span>"
      ],
      "text/plain": [
       "|= forall_{A in BOOLEANS} ((not(A) => FALSE) = A)"
      ]
     },
     "execution_count": 3,
     "metadata": {},
     "output_type": "execute_result"
    }
   ],
   "source": [
    "impliesFalseDef"
   ]
  },
  {
   "cell_type": "code",
   "execution_count": 4,
   "metadata": {
    "collapsed": false
   },
   "outputs": [
    {
     "data": {
      "text/html": [
       "<span style=\"font-size:20px;\"> &#x22A2;&nbsp;<a href=\"..\\__pv_it\\ebe9afa45692eb12a34a4c8f81e97687cdf699c50\\expr.ipynb\" target=\"_blank\"><img src=\"..\\__pv_it\\ebe9afa45692eb12a34a4c8f81e97687cdf699c50\\expr.png\" style=\"display:inline;vertical-align:middle;\" /></a></span>"
      ],
      "text/plain": [
       "|= (not(FALSE) => FALSE) = FALSE"
      ]
     },
     "execution_count": 4,
     "metadata": {},
     "output_type": "execute_result"
    }
   ],
   "source": [
    "trueImpliesFalseEquiv = impliesFalseDef.specialize({A:FALSE})\n",
    "trueImpliesFalseEquiv"
   ]
  },
  {
   "cell_type": "code",
   "execution_count": 5,
   "metadata": {
    "collapsed": false
   },
   "outputs": [
    {
     "data": {
      "text/html": [
       "<span style=\"font-size:20px;\"> &#x22A2;&nbsp;<a href=\"..\\..\\negation\\__pv_it\\13168a5d966168adc860ee474f8a71a61375cb5b0\\expr.ipynb\" target=\"_blank\"><img src=\"..\\..\\negation\\__pv_it\\13168a5d966168adc860ee474f8a71a61375cb5b0\\expr.png\" style=\"display:inline;vertical-align:middle;\" /></a></span>"
      ],
      "text/plain": [
       "|= not(FALSE) = TRUE"
      ]
     },
     "execution_count": 5,
     "metadata": {},
     "output_type": "execute_result"
    }
   ],
   "source": [
    "notFalseEval = Not(FALSE).evaluate()\n",
    "notFalseEval"
   ]
  },
  {
   "cell_type": "code",
   "execution_count": 6,
   "metadata": {
    "collapsed": false
   },
   "outputs": [
    {
     "name": "stdout",
     "output_type": "stream",
     "text": [
      "impliesTF has been proven.  Now simply execute \"%qed\".\n"
     ]
    },
    {
     "data": {
      "text/html": [
       "<span style=\"font-size:20px;\"> &#x22A2;&nbsp;<a href=\"..\\__pv_it\\d95f0b628f8cdfae31c42352940cb7d8eef74fa20\\expr.ipynb\" target=\"_blank\"><img src=\"..\\__pv_it\\d95f0b628f8cdfae31c42352940cb7d8eef74fa20\\expr.png\" style=\"display:inline;vertical-align:middle;\" /></a></span>"
      ],
      "text/plain": [
       "|= (TRUE => FALSE) = FALSE"
      ]
     },
     "execution_count": 6,
     "metadata": {},
     "output_type": "execute_result"
    }
   ],
   "source": [
    "notFalseEval.rhsSubstitute(trueImpliesFalseEquiv)"
   ]
  },
  {
   "cell_type": "code",
   "execution_count": 7,
   "metadata": {
    "collapsed": false
   },
   "outputs": [
    {
     "data": {
      "text/html": [
       "<table><tr><th>&nbsp;</th><th>step type</th><th>requirements</th><th>statement</th></tr>\n",
       "<tr><td>0</td><td>specialization</td><td>1, 2, 3</td><td><span style=\"font-size:20px;\"> &#x22A2;&nbsp;<a href=\"..\\__pv_it\\d95f0b628f8cdfae31c42352940cb7d8eef74fa20\\expr.ipynb\" target=\"_blank\"><img src=\"..\\__pv_it\\d95f0b628f8cdfae31c42352940cb7d8eef74fa20\\expr.png\" style=\"display:inline;vertical-align:middle;\" /></a></span></td></tr>\n",
       "<tr><td>&nbsp;</td><td colspan=4 style=\"text-align:left\"><span style=\"font-size:20px;\"><a href=\"..\\__pv_it\\2a17fff3edaf528c6a8745734be9c3c7ceea75020\\expr.ipynb\" target=\"_blank\"><img src=\"..\\__pv_it\\2a17fff3edaf528c6a8745734be9c3c7ceea75020\\expr.png\" style=\"display:inline;vertical-align:middle;\" /></a>, <a href=\"..\\__pv_it\\60e1c33eefb2d213c801f6c773ca8c54377aaefe0\\expr.ipynb\" target=\"_blank\"><img src=\"..\\__pv_it\\60e1c33eefb2d213c801f6c773ca8c54377aaefe0\\expr.png\" style=\"display:inline;vertical-align:middle;\" /></a>, <a href=\"..\\__pv_it\\da9dfed6b84198b7c2e4f317bbaef163d2aa03ee0\\expr.ipynb\" target=\"_blank\"><img src=\"..\\__pv_it\\da9dfed6b84198b7c2e4f317bbaef163d2aa03ee0\\expr.png\" style=\"display:inline;vertical-align:middle;\" /></a></span></td></tr><tr><td>1</td><td>theorem</td><td></td><td><span style=\"font-size:20px;\"> &#x22A2;&nbsp;<a href=\"..\\..\\..\\equality\\__pv_it\\22dd8e1c766360a90e962fac5bfe0529c88147fa0\\expr.ipynb\" target=\"_blank\"><img src=\"..\\..\\..\\equality\\__pv_it\\22dd8e1c766360a90e962fac5bfe0529c88147fa0\\expr.png\" style=\"display:inline;vertical-align:middle;\" /></a></span></td></tr>\n",
       "<tr><td>&nbsp;</td><td colspan=4 style-\"text-align:left\"><a href=\"..\\..\\..\\equality\\_proofs_\\rhsSubstitute.ipynb\" target=\"_blank\">proveit.logic.equality.rhsSubstitute</a></td></tr><tr><td>2</td><td>specialization</td><td>4, 5</td><td><span style=\"font-size:20px;\"> &#x22A2;&nbsp;<a href=\"..\\__pv_it\\ebe9afa45692eb12a34a4c8f81e97687cdf699c50\\expr.ipynb\" target=\"_blank\"><img src=\"..\\__pv_it\\ebe9afa45692eb12a34a4c8f81e97687cdf699c50\\expr.png\" style=\"display:inline;vertical-align:middle;\" /></a></span></td></tr>\n",
       "<tr><td>&nbsp;</td><td colspan=4 style=\"text-align:left\"><span style=\"font-size:20px;\"><a href=\"..\\__pv_it\\bc7c3636b6cd389a31a6295ab7e13cf85f9dcc870\\expr.ipynb\" target=\"_blank\"><img src=\"..\\__pv_it\\bc7c3636b6cd389a31a6295ab7e13cf85f9dcc870\\expr.png\" style=\"display:inline;vertical-align:middle;\" /></a></span></td></tr><tr><td>3</td><td>theorem</td><td></td><td><span style=\"font-size:20px;\"> &#x22A2;&nbsp;<a href=\"..\\..\\negation\\__pv_it\\13168a5d966168adc860ee474f8a71a61375cb5b0\\expr.ipynb\" target=\"_blank\"><img src=\"..\\..\\negation\\__pv_it\\13168a5d966168adc860ee474f8a71a61375cb5b0\\expr.png\" style=\"display:inline;vertical-align:middle;\" /></a></span></td></tr>\n",
       "<tr><td>&nbsp;</td><td colspan=4 style-\"text-align:left\"><a href=\"..\\..\\negation\\_proofs_\\notF.ipynb\" target=\"_blank\">proveit.logic.boolean.negation.notF</a></td></tr><tr><td>4</td><td>axiom</td><td></td><td><span style=\"font-size:20px;\"> &#x22A2;&nbsp;<a href=\"..\\__pv_it\\c01addd64e3d399b6a0aea0dee7a18f8b3c215f60\\expr.ipynb\" target=\"_blank\"><img src=\"..\\__pv_it\\c01addd64e3d399b6a0aea0dee7a18f8b3c215f60\\expr.png\" style=\"display:inline;vertical-align:middle;\" /></a></span></td></tr>\n",
       "<tr><td>&nbsp;</td><td colspan=4 style-\"text-align:left\"><a href=\"..\\_axioms_.ipynb#impliesFalseDef\" target=\"_blank\">proveit.logic.boolean.implication.impliesFalseDef</a></td></tr><tr><td>5</td><td>theorem</td><td></td><td><span style=\"font-size:20px;\"> &#x22A2;&nbsp;<a href=\"..\\..\\__pv_it\\04d8bdd91d114667f9e584c082d221f055480a800\\expr.ipynb\" target=\"_blank\"><img src=\"..\\..\\__pv_it\\04d8bdd91d114667f9e584c082d221f055480a800\\expr.png\" style=\"display:inline;vertical-align:middle;\" /></a></span></td></tr>\n",
       "<tr><td>&nbsp;</td><td colspan=4 style-\"text-align:left\"><a href=\"..\\..\\_proofs_\\falseInBool.ipynb\" target=\"_blank\">proveit.logic.boolean.falseInBool</a></td></tr>"
      ],
      "text/plain": [
       "<proveit._core_.proof.Specialization instance at 0x00000000066E8A48>"
      ]
     },
     "execution_count": 7,
     "metadata": {},
     "output_type": "execute_result"
    }
   ],
   "source": [
    "%qed"
   ]
  },
  {
   "cell_type": "code",
   "execution_count": 8,
   "metadata": {
    "collapsed": true
   },
   "outputs": [],
   "source": []
  }
 ],
 "metadata": {
  "kernelspec": {
   "display_name": "Python 2",
   "language": "python",
   "name": "python2"
  },
  "language_info": {
   "codemirror_mode": {
    "name": "ipython",
    "version": 2
   },
   "file_extension": ".py",
   "mimetype": "text/x-python",
   "name": "python",
   "nbconvert_exporter": "python",
   "pygments_lexer": "ipython2",
   "version": "2.7.11"
  }
 },
 "nbformat": 4,
 "nbformat_minor": 0
}
