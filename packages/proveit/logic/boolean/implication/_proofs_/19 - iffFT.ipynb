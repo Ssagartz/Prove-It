{
 "cells": [
  {
   "cell_type": "code",
   "execution_count": 1,
   "metadata": {
    "collapsed": false
   },
   "outputs": [],
   "source": [
    "from proveit.logic.boolean.implication._theorems_ import iffFT, falseIffTrueNegated"
   ]
  },
  {
   "cell_type": "code",
   "execution_count": 2,
   "metadata": {
    "collapsed": false
   },
   "outputs": [
    {
     "name": "stdout",
     "output_type": "stream",
     "text": [
      "Theorem already proven.  Calling qed() method.\n",
      "proveit.logic.boolean.implication.iffFT has a proof\n"
     ]
    },
    {
     "data": {
      "image/png": "[encoded data removed]",
      "text/plain": [
       "<proveit._core_.proof.Specialization instance at 0x0000000004396C88>"
      ]
     },
     "execution_count": 2,
     "metadata": {},
     "output_type": "execute_result"
    }
   ],
   "source": [
    "iffFT.beginProof([falseIffTrueNegated])"
   ]
  },
  {
   "cell_type": "code",
   "execution_count": 3,
   "metadata": {
    "collapsed": false
   },
   "outputs": [
    {
     "name": "stdout",
     "output_type": "stream",
     "text": [
      "proveit.logic.boolean.boolsDef\n",
      "proveit.logic.boolean.disjunction.orFT\n",
      "proveit.logic.boolean.eqTrueElim\n",
      "proveit.logic.boolean.eqTrueIntro\n",
      "proveit.logic.boolean.falseNotTrue\n",
      "proveit.logic.boolean.implication.iffDef\n",
      "proveit.logic.boolean.implication.impliesFalseDef\n",
      "proveit.logic.boolean.negation.negationElim\n",
      "proveit.logic.boolean.negation.negationIntro\n",
      "proveit.logic.boolean.trueAxiom\n",
      "proveit.logic.equality.equalsReflexivity\n",
      "proveit.logic.equality.equalsSymmetry\n",
      "proveit.logic.equality.equalsTransitivity\n",
      "proveit.logic.equality.notEqualsDef\n",
      "proveit.logic.equality.substitution\n",
      "proveit.logic.set_theory.singletonDef\n",
      "proveit.logic.set_theory.unification.unionDef\n",
      "\n",
      "Unproven theorems:\n",
      "proveit.logic.boolean.conjunction.trueAndFalseNegated\n"
     ]
    }
   ],
   "source": [
    "iffFT.printRequirements()"
   ]
  },
  {
   "cell_type": "code",
   "execution_count": null,
   "metadata": {
    "collapsed": true
   },
   "outputs": [],
   "source": []
  }
 ],
 "metadata": {
  "kernelspec": {
   "display_name": "Python 2",
   "language": "python",
   "name": "python2"
  },
  "language_info": {
   "codemirror_mode": {
    "name": "ipython",
    "version": 2
   },
   "file_extension": ".py",
   "mimetype": "text/x-python",
   "name": "python",
   "nbconvert_exporter": "python",
   "pygments_lexer": "ipython2",
   "version": "2.7.11"
  }
 },
 "nbformat": 4,
 "nbformat_minor": 0
}
