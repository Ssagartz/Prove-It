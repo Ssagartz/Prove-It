{
 "cells": [
  {
   "cell_type": "markdown",
   "metadata": {
    "collapsed": true,
    "deletable": true,
    "editable": true
   },
   "source": [
    "Axioms for context <a href=\"_context_.ipynb\" class=\"ProveItLink\">proveit.logic.boolean</a>\n",
    "========"
   ]
  },
  {
   "cell_type": "code",
   "execution_count": 1,
   "metadata": {
    "collapsed": false,
    "deletable": true,
    "editable": true
   },
   "outputs": [
    {
     "name": "stdout",
     "output_type": "stream",
     "text": [
      "proveit.logic.boolean.negation __path__\n",
      "proveit.logic.boolean.negation notFalse\n",
      "|= [not](FALSE)\n",
      "proveit.logic.boolean.negation __path__\n",
      "proveit.logic.boolean.negation untrueFromNegation\n",
      "proveit.logic.equality __path__\n",
      "proveit.logic.equality notEqualsSymmetry\n",
      "proveit.logic.equality __path__\n",
      "proveit.logic.equality notEqualsSymmetry\n",
      "proveit.logic.boolean __path__\n",
      "proveit.logic.boolean fromNotFalse\n",
      "proveit.logic.equality __path__\n",
      "proveit.logic.equality unfoldNotEquals\n",
      "|= [not](TRUE = FALSE)\n",
      "proveit.logic.boolean.negation __path__\n",
      "proveit.logic.boolean.negation negationContradiction\n",
      "proveit.logic.equality __path__\n",
      "proveit.logic.equality foldNotEquals\n",
      "proveit.logic.boolean.negation __path__\n",
      "proveit.logic.boolean.negation fromNegatedFalsification\n",
      "proveit.logic.boolean __path__\n",
      "proveit.logic.boolean unfoldForallOverBool\n",
      "proveit.logic.equality __path__\n",
      "proveit.logic.equality unfoldNotEquals\n",
      "|= [not](FALSE = TRUE)\n",
      "proveit.logic.boolean.negation __path__\n",
      "proveit.logic.boolean.negation negationContradiction\n",
      "proveit.logic.equality __path__\n",
      "proveit.logic.equality foldNotEquals\n",
      "proveit.logic.boolean.negation __path__\n",
      "proveit.logic.boolean.negation negationContradiction\n",
      "proveit.logic.boolean.negation notF\n",
      "proveit.logic.equality __path__\n",
      "proveit.logic.equality equalsReversal\n",
      "proveit.logic.equality __path__\n",
      "proveit.logic.equality equalsReversal\n",
      "proveit.logic.boolean.negation notT\n",
      "proveit.logic.equality __path__\n",
      "proveit.logic.equality equalsReversal\n",
      "proveit.logic.equality __path__\n",
      "proveit.logic.equality equalsReversal\n",
      "proveit.logic.equality __path__\n",
      "proveit.logic.equality contradictionViaFalsification\n",
      "proveit.logic.boolean.negation __path__\n",
      "proveit.logic.boolean.negation toDoubleNegation\n",
      "|= [not]([not](TRUE))\n",
      "proveit.logic.boolean.negation __path__\n",
      "proveit.logic.boolean.negation untrueFromNegation\n",
      "proveit.logic.equality __path__\n",
      "proveit.logic.equality notEqualsSymmetry\n",
      "proveit.logic.equality __path__\n",
      "proveit.logic.equality notEqualsSymmetry\n",
      "proveit.logic.equality __path__\n",
      "proveit.logic.equality unfoldNotEquals\n",
      "|= [not](TRUE = [not](TRUE))\n",
      "proveit.logic.boolean.negation __path__\n",
      "proveit.logic.boolean.negation negationContradiction\n",
      "proveit.logic.equality __path__\n",
      "proveit.logic.equality foldNotEquals\n",
      "proveit.logic.equality __path__\n",
      "proveit.logic.equality unfoldNotEquals\n",
      "|= [not]([not](TRUE) = TRUE)\n",
      "proveit.logic.boolean.negation __path__\n",
      "proveit.logic.boolean.negation negationContradiction\n",
      "proveit.logic.equality __path__\n",
      "proveit.logic.equality foldNotEquals\n",
      "proveit.logic.boolean.negation __path__\n",
      "proveit.logic.boolean.negation fromDoubleNegation\n",
      "proveit.logic.boolean.negation __path__\n",
      "proveit.logic.boolean.negation negationContradiction\n",
      "proveit.logic.boolean.negation notTimpliesF\n",
      "proveit.logic.boolean.implication __path__\n",
      "proveit.logic.boolean.implication affirmViaContradiction\n",
      "proveit.logic.boolean __path__\n",
      "proveit.logic.boolean unfoldForallOverBool\n",
      "proveit.logic.boolean.implication denyViaContradiction\n",
      "proveit.logic.boolean.implication __path__\n",
      "proveit.logic.boolean.implication trueImpliesTrue\n",
      "proveit.logic.boolean.implication falseImpliesTrue\n",
      "proveit.logic.boolean.implication falseImpliesFalse\n",
      "proveit.logic.boolean.implication __path__\n",
      "proveit.logic.boolean.implication affirmViaContradiction\n",
      "proveit.logic.boolean __path__\n",
      "proveit.logic.boolean unfoldForallOverBool\n",
      "proveit.logic.boolean.implication denyViaContradiction\n"
     ]
    }
   ],
   "source": [
    "import proveit\n",
    "from proveit.logic import Booleans, TRUE, FALSE, Forall, Equals, NotEquals, Union, Set\n",
    "from proveit._common_ import A"
   ]
  },
  {
   "cell_type": "code",
   "execution_count": 2,
   "metadata": {
    "collapsed": false,
    "deletable": true,
    "editable": true
   },
   "outputs": [
    {
     "name": "stdout",
     "output_type": "stream",
     "text": [
      "Defining axioms for context 'proveit.logic.boolean'\n",
      "Subsequent end-of-cell assignments will define axioms\n",
      "%end_axioms will finalize the definitions\n"
     ]
    }
   ],
   "source": [
    "%begin axioms"
   ]
  },
  {
   "cell_type": "markdown",
   "metadata": {
    "deletable": true,
    "editable": true
   },
   "source": [
    "**The `TRUE` literal ($\\top$) is itself a true statement as an axiom:**"
   ]
  },
  {
   "cell_type": "code",
   "execution_count": 3,
   "metadata": {
    "collapsed": false,
    "deletable": true,
    "editable": true
   },
   "outputs": [
    {
     "data": {
      "text/html": [
       "<strong id=\"trueAxiom\">trueAxiom:</strong> <a class=\"ProveItLink\" href=\"__pv_it\\bcacd17d2d009ecbf75058f732f40f2104c608320\\expr.ipynb\"><img src=\"__pv_it\\bcacd17d2d009ecbf75058f732f40f2104c608320\\expr.png\" style=\"display:inline;vertical-align:middle;\" /></a><br>"
      ],
      "text/plain": [
       "trueAxiom: TRUE"
      ]
     },
     "execution_count": 3,
     "metadata": {},
     "output_type": "execute_result"
    }
   ],
   "source": [
    "trueAxiom = TRUE"
   ]
  },
  {
   "cell_type": "markdown",
   "metadata": {
    "deletable": true,
    "editable": true
   },
   "source": [
    "**The set of booleans, $\\mathbb{B}$, is the set containing only `TRUE` ($\\top$) and `FALSE` ($\\bot$):**"
   ]
  },
  {
   "cell_type": "code",
   "execution_count": 4,
   "metadata": {
    "collapsed": false,
    "deletable": true,
    "editable": true
   },
   "outputs": [
    {
     "data": {
      "text/html": [
       "<strong id=\"boolsDef\">boolsDef:</strong> <a class=\"ProveItLink\" href=\"__pv_it\\6cbac1fe9485bfcc052455a3c02d5b062b5801620\\expr.ipynb\"><img src=\"__pv_it\\6cbac1fe9485bfcc052455a3c02d5b062b5801620\\expr.png\" style=\"display:inline;vertical-align:middle;\" /></a><br>"
      ],
      "text/plain": [
       "boolsDef: BOOLEANS = {TRUE , FALSE}"
      ]
     },
     "execution_count": 4,
     "metadata": {},
     "output_type": "execute_result"
    }
   ],
   "source": [
    "boolsDef = Equals(Booleans, Set(TRUE, FALSE))"
   ]
  },
  {
   "cell_type": "markdown",
   "metadata": {
    "deletable": true,
    "editable": true
   },
   "source": [
    "**`TRUE` ($\\top$) and `FALSE` ($\\bot$) are defined to be different from each other:**"
   ]
  },
  {
   "cell_type": "code",
   "execution_count": 5,
   "metadata": {
    "collapsed": false,
    "deletable": true,
    "editable": true
   },
   "outputs": [
    {
     "data": {
      "text/html": [
       "<strong id=\"falseNotTrue\">falseNotTrue:</strong> <a class=\"ProveItLink\" href=\"__pv_it\\8bb40d64f87f3d0a58b4b4c542a7e6b3a2c8a6560\\expr.ipynb\"><img src=\"__pv_it\\8bb40d64f87f3d0a58b4b4c542a7e6b3a2c8a6560\\expr.png\" style=\"display:inline;vertical-align:middle;\" /></a><br>"
      ],
      "text/plain": [
       "falseNotTrue: FALSE != TRUE"
      ]
     },
     "execution_count": 5,
     "metadata": {},
     "output_type": "execute_result"
    }
   ],
   "source": [
    "falseNotTrue = NotEquals(FALSE, TRUE)"
   ]
  },
  {
   "cell_type": "markdown",
   "metadata": {
    "deletable": true,
    "editable": true
   },
   "source": [
    "**When an expression is a KnownTruth, it is equal to `TRUE` and vice-versa:**"
   ]
  },
  {
   "cell_type": "code",
   "execution_count": 6,
   "metadata": {
    "collapsed": false,
    "deletable": true,
    "editable": true
   },
   "outputs": [
    {
     "data": {
      "text/html": [
       "<strong id=\"eqTrueIntro\">eqTrueIntro:</strong> <a class=\"ProveItLink\" href=\"__pv_it\\1031750fae1a9be7ddfd97a5662b123b13e708790\\expr.ipynb\"><img src=\"__pv_it\\1031750fae1a9be7ddfd97a5662b123b13e708790\\expr.png\" style=\"display:inline;vertical-align:middle;\" /></a><br>"
      ],
      "text/plain": [
       "eqTrueIntro: forall_{A | A} (A = TRUE)"
      ]
     },
     "execution_count": 6,
     "metadata": {},
     "output_type": "execute_result"
    }
   ],
   "source": [
    "eqTrueIntro = Forall(A, Equals(A, TRUE), conditions=[A])"
   ]
  },
  {
   "cell_type": "code",
   "execution_count": 7,
   "metadata": {
    "collapsed": false,
    "deletable": true,
    "editable": true
   },
   "outputs": [
    {
     "data": {
      "text/html": [
       "<strong id=\"eqTrueElim\">eqTrueElim:</strong> <a class=\"ProveItLink\" href=\"__pv_it\\147c160e8b2e15ef0f64d14de6579b2514d100ca0\\expr.ipynb\"><img src=\"__pv_it\\147c160e8b2e15ef0f64d14de6579b2514d100ca0\\expr.png\" style=\"display:inline;vertical-align:middle;\" /></a><br>"
      ],
      "text/plain": [
       "eqTrueElim: forall_{A | A = TRUE} A"
      ]
     },
     "execution_count": 7,
     "metadata": {},
     "output_type": "execute_result"
    }
   ],
   "source": [
    "eqTrueElim = Forall(A, A, conditions=[Equals(A, TRUE)])"
   ]
  },
  {
   "cell_type": "code",
   "execution_count": 8,
   "metadata": {
    "collapsed": false,
    "deletable": true,
    "editable": true
   },
   "outputs": [
    {
     "name": "stdout",
     "output_type": "stream",
     "text": [
      "Axioms may be imported from autogenerated _axioms_.py\n"
     ]
    }
   ],
   "source": [
    "%end axioms"
   ]
  },
  {
   "cell_type": "code",
   "execution_count": null,
   "metadata": {
    "collapsed": true,
    "deletable": true,
    "editable": true
   },
   "outputs": [],
   "source": []
  }
 ],
 "metadata": {
  "kernelspec": {
   "display_name": "Python 2",
   "language": "python",
   "name": "python2"
  },
  "language_info": {
   "codemirror_mode": {
    "name": "ipython",
    "version": 2
   },
   "file_extension": ".py",
   "mimetype": "text/x-python",
   "name": "python",
   "nbconvert_exporter": "python",
   "pygments_lexer": "ipython2",
   "version": "2.7.11"
  }
 },
 "nbformat": 4,
 "nbformat_minor": 0
}
