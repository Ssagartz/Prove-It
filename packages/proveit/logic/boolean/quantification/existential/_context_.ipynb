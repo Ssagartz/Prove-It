{
 "cells": [
  {
   "cell_type": "markdown",
   "metadata": {
    "collapsed": true,
    "deletable": true,
    "editable": true
   },
   "source": [
    "Context: <a href=\"..\\..\\..\\..\\_context_.ipynb\">proveit</a>.<a href=\"..\\..\\..\\_context_.ipynb\">logic</a>.<a href=\"..\\..\\_context_.ipynb\">boolean</a>.<a href=\"..\\_context_.ipynb\">quantification</a>.existential\n",
    "========\n",
    "\n",
    "Existential quantification is a general expression about *something* (`Exists`: $\\exists$).  \n",
    "The `Exists` **Expression** derives from `proveit._generic_.operation_over_instances.OperationOverInstances`.  As such, it has instance variables (`instanceVars`) with an instance expression (`instanceExpr`) and may be restricted to a `domain` and have zero or more `conditions`.  For example $\\exists_{x, y \\in S~|~Q(x, y),~R(y)} P(x, y)$ means that $P(x, y)$ is `TRUE` for some occurrence of $x$ and $y$ in domain $S$ for which the conditions $Q(x, y)$ and $R(y)$ are satisfied.  The `conditions` may be any **Expression**s involving the instance variables.\n",
    "\n",
    "The negation of the existential quantification is compactly expressed as $\\nexists$, represented by the `NotExists` **Expression** type."
   ]
  },
  {
   "cell_type": "code",
   "execution_count": null,
   "metadata": {
    "collapsed": false,
    "deletable": true,
    "editable": true
   },
   "outputs": [],
   "source": [
    "import proveit\n",
    "%context"
   ]
  },
  {
   "cell_type": "code",
   "execution_count": null,
   "metadata": {
    "collapsed": true
   },
   "outputs": [],
   "source": []
  }
 ],
 "metadata": {
  "kernelspec": {
   "display_name": "Python 2",
   "language": "python",
   "name": "python2"
  },
  "language_info": {
   "codemirror_mode": {
    "name": "ipython",
    "version": 2
   },
   "file_extension": ".py",
   "mimetype": "text/x-python",
   "name": "python",
   "nbconvert_exporter": "python",
   "pygments_lexer": "ipython2",
   "version": "2.7.11"
  }
 },
 "nbformat": 4,
 "nbformat_minor": 0
}