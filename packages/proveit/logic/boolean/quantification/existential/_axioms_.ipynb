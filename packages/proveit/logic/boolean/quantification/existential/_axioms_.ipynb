{
 "cells": [
  {
   "cell_type": "markdown",
   "metadata": {
    "collapsed": true,
    "deletable": true,
    "editable": true
   },
   "source": [
    "Axioms for context <a href=\"_context_.ipynb\">proveit.logic.boolean.quantification.existential</a>\n",
    "========\n",
    "\n",
    "Unlike `Forall`, `Exists` is not fundamentally defined in the core of **Prove-It**.  It must be defined via its relationship with `Forall`."
   ]
  },
  {
   "cell_type": "code",
   "execution_count": null,
   "metadata": {
    "collapsed": false,
    "deletable": true,
    "editable": true
   },
   "outputs": [],
   "source": [
    "from proveit.logic import TRUE, inBool, Forall, Exists, NotExists, Not, Equals, NotEquals\n",
    "from proveit._common_ import P, Q, S, Qmulti, xMulti, PxEtc, Qetc, xEtc, etc_QxEtc\n",
    "%begin_axioms"
   ]
  },
  {
   "cell_type": "markdown",
   "metadata": {},
   "source": [
    "***Defines the $\\exists$ operation generically for any number of instance variables or conditions by equating it to an equivalent expression in terms of $\\forall$***:"
   ]
  },
  {
   "cell_type": "code",
   "execution_count": null,
   "metadata": {
    "collapsed": false
   },
   "outputs": [],
   "source": [
    "existsDef = Forall((P, Qmulti, S), Equals(Exists(xMulti, PxEtc, S, etc_QxEtc), Not(Forall(xMulti, NotEquals(PxEtc, TRUE), S, etc_QxEtc))))"
   ]
  },
  {
   "cell_type": "markdown",
   "metadata": {},
   "source": [
    "The equivalent expression to saying \"there exists an instance of $x_{\\Box}$ variables in $S$ for which the set of $Q_{\\Diamond}$ conditions are satisfied such that $P\\left(~..,x_{\\Box},..~\\right)$ is true\" is to say that the following is *not* true: \"for all occurrences of $x_{\\Box}$ in $S$ for which the set of $Q_{\\Diamond}$ conditions are satisfied, $P\\left(~..,x_{\\Box},..~\\right)$ is not equal to `TRUE`\".  That is, \"there exists appropriately constrained operands of $P$ for which the $P$ operation is true\" means that \"it is *not* the case that all appropriately constrained operands of $P$ cause the $P$ operation to *not* evaluate to true\".  This is expressed in a way that does not assume that the $P$ operation returns a Boolean, exploiting the fact that `Equals` ($=$) is defined to always evaluate to a Boolean and therefore `NotEquals` ($\\neq$) as well.  Existence in this context means that the $P$ operation evaluates to true for some instance of appropriately constrained operands but it does not mean that the $P$ operation always evaluates to a Boolean under this constraint."
   ]
  },
  {
   "cell_type": "markdown",
   "metadata": {},
   "source": [
    "***Defines the $\\nexists$ operation generically for any number of instance variables or conditions by equating it to the negation of the corresponding $\\exists$ operation***:"
   ]
  },
  {
   "cell_type": "code",
   "execution_count": null,
   "metadata": {
    "collapsed": false
   },
   "outputs": [],
   "source": [
    "notExistsDef = Forall((P, Qmulti, S), Equals(NotExists(xMulti, PxEtc, S, etc_QxEtc), Not(Exists(xMulti, PxEtc, S, etc_QxEtc))))"
   ]
  },
  {
   "cell_type": "code",
   "execution_count": null,
   "metadata": {
    "collapsed": false
   },
   "outputs": [],
   "source": [
    "%end_axioms"
   ]
  },
  {
   "cell_type": "code",
   "execution_count": null,
   "metadata": {
    "collapsed": true
   },
   "outputs": [],
   "source": []
  }
 ],
 "metadata": {
  "kernelspec": {
   "display_name": "Python 2",
   "language": "python",
   "name": "python2"
  },
  "language_info": {
   "codemirror_mode": {
    "name": "ipython",
    "version": 2
   },
   "file_extension": ".py",
   "mimetype": "text/x-python",
   "name": "python",
   "nbconvert_exporter": "python",
   "pygments_lexer": "ipython2",
   "version": "2.7.11"
  }
 },
 "nbformat": 4,
 "nbformat_minor": 0
}