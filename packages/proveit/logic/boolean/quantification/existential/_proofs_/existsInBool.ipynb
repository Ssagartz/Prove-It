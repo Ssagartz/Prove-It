{
 "cells": [
  {
   "cell_type": "markdown",
   "metadata": {
    "collapsed": true,
    "deletable": true,
    "editable": true
   },
   "source": [
    "Proof of <a class=\"ProveItLink\" href=\"..\\..\\..\\..\\..\\_context_.ipynb\">proveit</a>.<a class=\"ProveItLink\" href=\"..\\..\\..\\..\\_context_.ipynb\">logic</a>.<a class=\"ProveItLink\" href=\"..\\..\\..\\_context_.ipynb\">boolean</a>.<a class=\"ProveItLink\" href=\"..\\..\\_context_.ipynb\">quantification</a>.<a class=\"ProveItLink\" href=\"..\\_context_.ipynb\">existential</a>.<a href=\"../_theorems_.ipynb#existsInBool\" class=\"ProveItLink\">existsInBool</a> theorem\n",
    "========\n",
    "*** see <a href=\"../__pv_it/84700d9fefa54ea1d425e5f5147806a4ff4396650/dependencies.ipynb\" class=\"ProveItLink\">dependencies</a> ***"
   ]
  },
  {
   "cell_type": "code",
   "execution_count": 1,
   "metadata": {
    "collapsed": true,
    "deletable": true,
    "editable": true
   },
   "outputs": [
    {
     "name": "stdout",
     "output_type": "stream",
     "text": [
      "Recorded 'presuming' information\n",
      "Beginning proof of\n"
     ]
    },
    {
     "data": {
      "text/html": [
       "<strong id=\"existsInBool\">existsInBool:</strong> <a href=\"..\\__pv_it\\84700d9fefa54ea1d425e5f5147806a4ff4396650\\expr.ipynb\" target=\"_blank\"><img src=\"..\\__pv_it\\84700d9fefa54ea1d425e5f5147806a4ff4396650\\expr.png\" style=\"display:inline;vertical-align:middle;\" /></a><br>(see <a class=\"ProveItLink\" href=\"..\\__pv_it\\84700d9fefa54ea1d425e5f5147806a4ff4396650\\dependencies.ipynb\" target=\"_blank\">dependencies</a>)"
      ],
      "text/plain": [
       "existsInBool: forall_{P, Q_{#}, S} ([exists_{x_{*} in S |  ..,Q_{#}( ..,x_{*},.. ),.. } P( ..,x_{*},.. )] in BOOLEANS)"
      ]
     },
     "execution_count": 1,
     "metadata": {},
     "output_type": "execute_result"
    }
   ],
   "source": [
    "import proveit\n",
    "%begin_proof existsInBool presuming []"
   ]
  },
  {
   "cell_type": "code",
   "execution_count": 2,
   "metadata": {
    "collapsed": true,
    "deletable": true,
    "editable": true
   },
   "outputs": [],
   "source": []
  }
 ],
 "metadata": {
  "kernelspec": {
   "display_name": "Python 2",
   "language": "python",
   "name": "python2"
  },
  "language_info": {
   "codemirror_mode": {
    "name": "ipython",
    "version": 2
   },
   "file_extension": ".py",
   "mimetype": "text/x-python",
   "name": "python",
   "nbconvert_exporter": "python",
   "pygments_lexer": "ipython2",
   "version": "2.7.11"
  }
 },
 "nbformat": 4,
 "nbformat_minor": 0
}
