{
 "cells": [
  {
   "cell_type": "markdown",
   "metadata": {
    "collapsed": true,
    "deletable": true,
    "editable": true
   },
   "source": [
    "Proof of <a class=\"ProveItLink\" href=\"..\\..\\..\\..\\..\\_context_.ipynb\">proveit</a>.<a class=\"ProveItLink\" href=\"..\\..\\..\\..\\_context_.ipynb\">logic</a>.<a class=\"ProveItLink\" href=\"..\\..\\..\\_context_.ipynb\">boolean</a>.<a class=\"ProveItLink\" href=\"..\\..\\_context_.ipynb\">quantification</a>.<a class=\"ProveItLink\" href=\"..\\_context_.ipynb\">existential</a>.<a href=\"../_theorems_.ipynb#existentialImplication\" class=\"ProveItLink\">existentialImplication</a> theorem\n",
    "========\n",
    "*** see <a href=\"../__pv_it/b7c2395a387f20cef2bcfb3676fc2b2ac95b6e880/dependencies.ipynb\" class=\"ProveItLink\">dependencies</a> ***"
   ]
  },
  {
   "cell_type": "code",
   "execution_count": 1,
   "metadata": {
    "collapsed": true,
    "deletable": true,
    "editable": true
   },
   "outputs": [
    {
     "name": "stdout",
     "output_type": "stream",
     "text": [
      "Recorded 'presuming' information\n"
     ]
    },
    {
     "name": "stdout",
     "output_type": "stream",
     "text": [
      "Presuming previous theorems in this context (and any of their dependencies).\n",
      "Beginning proof of\n"
     ]
    },
    {
     "data": {
      "text/html": [
       "<strong id=\"existentialImplication\">existentialImplication:</strong> <a href=\"..\\__pv_it\\c548e092812f3bc753f59cedc326ac77d3d21cdc0\\expr.ipynb\" target=\"_blank\"><img src=\"..\\__pv_it\\c548e092812f3bc753f59cedc326ac77d3d21cdc0\\expr.png\" style=\"display:inline;vertical-align:middle;\" /></a><br>(see <a class=\"ProveItLink\" href=\"..\\__pv_it\\c548e092812f3bc753f59cedc326ac77d3d21cdc0\\dependencies.ipynb\" target=\"_blank\">dependencies</a>)"
      ],
      "text/plain": [
       "existentialImplication: forall_{P, R, Q_{#}, S} ([forall_{x_{*} in S | P( ..,x_{*},.. ), ..,Q_{#}( ..,x_{*},.. ),.. } R( ..,x_{*},.. )] => ([exists_{y_{*} in S |  ..,Q_{#}( ..,y_{*},.. ),.. } P( ..,y_{*},.. )] => [exists_{z_{*} in S |  ..,Q_{#}( ..,z_{*},.. ),.. } R( ..,z_{*},.. )]))"
      ]
     },
     "execution_count": 1,
     "metadata": {},
     "output_type": "execute_result"
    }
   ],
   "source": [
    "import proveit\n",
    "%begin_proof existentialImplication presuming []"
   ]
  },
  {
   "cell_type": "code",
   "execution_count": 2,
   "metadata": {
    "collapsed": true,
    "deletable": true,
    "editable": true
   },
   "outputs": [],
   "source": []
  }
 ],
 "metadata": {
  "kernelspec": {
   "display_name": "Python 2",
   "language": "python",
   "name": "python2"
  },
  "language_info": {
   "codemirror_mode": {
    "name": "ipython",
    "version": 2
   },
   "file_extension": ".py",
   "mimetype": "text/x-python",
   "name": "python",
   "nbconvert_exporter": "python",
   "pygments_lexer": "ipython2",
   "version": "2.7.11"
  }
 },
 "nbformat": 4,
 "nbformat_minor": 0
}
