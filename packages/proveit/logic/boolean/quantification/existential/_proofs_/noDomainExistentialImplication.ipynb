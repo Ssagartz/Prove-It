{
 "cells": [
  {
   "cell_type": "markdown",
   "metadata": {
    "collapsed": true,
    "deletable": true,
    "editable": true
   },
   "source": [
    "Proof of <a class=\\\"ProveItLink\\\" href=\\\"..\\\\..\\\\..\\\\..\\\\..\\\\_context_.ipynb\\\">proveit</a>.<a class=\\\"ProveItLink\\\" href=\\\"..\\\\..\\\\..\\\\..\\\\_context_.ipynb\\\">logic</a>.<a class=\\\"ProveItLink\\\" href=\\\"..\\\\..\\\\..\\\\_context_.ipynb\\\">boolean</a>.<a class=\\\"ProveItLink\\\" href=\\\"..\\\\..\\\\_context_.ipynb\\\">quantification</a>.<a class=\\\"ProveItLink\\\" href=\\\"..\\\\_context_.ipynb\\\">existential</a>.<a href=\"../_theorems_.ipynb#noDomainExistentialImplication\" class=\"ProveItLink\">noDomainExistentialImplication</a> theorem\n",
    "========\n",
    "*** see <a href=\"../__pv_it/bb6ee0a3137639f715b4e98ff38d6b846be84fd80/dependencies.ipynb\" class=\"ProveItLink\">dependencies</a> ***"
   ]
  },
  {
   "cell_type": "code",
   "execution_count": 1,
   "metadata": {
    "collapsed": true,
    "deletable": true,
    "editable": true
   },
   "outputs": [
    {
     "name": "stdout",
     "output_type": "stream",
     "text": [
      "Recorded 'presuming' information\n"
     ]
    },
    {
     "name": "stdout",
     "output_type": "stream",
     "text": [
      "Presuming previous theorems in this context (and any of their dependencies).\n",
      "Beginning proof of\n"
     ]
    },
    {
     "data": {
      "text/html": [
       "<strong id=\"noDomainExistentialImplication\">noDomainExistentialImplication:</strong> <a href=\"..\\__pv_it\\766a35cf294ca82a68851342eeaf807b583e76450\\expr.ipynb\" target=\"_blank\"><img src=\"..\\__pv_it\\766a35cf294ca82a68851342eeaf807b583e76450\\expr.png\" style=\"display:inline;vertical-align:middle;\" /></a><br>(see <a class=\"ProveItLink\" href=\"..\\__pv_it\\766a35cf294ca82a68851342eeaf807b583e76450\\dependencies.ipynb\" target=\"_blank\">dependencies</a>)"
      ],
      "text/plain": [
       "noDomainExistentialImplication: forall_{P, R, Q_{#}} ([forall_{x_{*} | P( ..,x_{*},.. ), ..,Q_{#}( ..,x_{*},.. ),.. } R( ..,x_{*},.. )] => ([exists_{y_{*} |  ..,Q_{#}( ..,y_{*},.. ),.. } P( ..,y_{*},.. )] => [exists_{z_{*} |  ..,Q_{#}( ..,z_{*},.. ),.. } R( ..,z_{*},.. )]))"
      ]
     },
     "execution_count": 1,
     "metadata": {},
     "output_type": "execute_result"
    }
   ],
   "source": [
    "import proveit\n",
    "%begin_proof noDomainExistentialImplication presuming []"
   ]
  },
  {
   "cell_type": "code",
   "execution_count": 2,
   "metadata": {
    "collapsed": true,
    "deletable": true,
    "editable": true
   },
   "outputs": [],
   "source": []
  }
 ],
 "metadata": {
  "kernelspec": {
   "display_name": "Python 2",
   "language": "python",
   "name": "python2"
  },
  "language_info": {
   "codemirror_mode": {
    "name": "ipython",
    "version": 2
   },
   "file_extension": ".py",
   "mimetype": "text/x-python",
   "name": "python",
   "nbconvert_exporter": "python",
   "pygments_lexer": "ipython2",
   "version": "2.7.11"
  }
 },
 "nbformat": 4,
 "nbformat_minor": 0
}
