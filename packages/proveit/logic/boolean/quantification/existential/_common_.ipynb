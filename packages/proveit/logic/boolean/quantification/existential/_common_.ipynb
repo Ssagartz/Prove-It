{
 "cells": [
  {
   "cell_type": "markdown",
   "metadata": {
    "collapsed": true,
    "deletable": true,
    "editable": true
   },
   "source": [
    "Common expressions for context <a href=\"_context_.ipynb\" class=\"ProveItLink\">proveit.logic.boolean.quantification.existential</a>\n",
    "========"
   ]
  },
  {
   "cell_type": "code",
   "execution_count": 1,
   "metadata": {
    "collapsed": false,
    "deletable": true,
    "editable": true
   },
   "outputs": [
    {
     "name": "stdout",
     "output_type": "stream",
     "text": [
      "Defining common sub-expressions for context 'proveit.logic.boolean.quantification.existential'\n",
      "Subsequent end-of-cell assignments will define common sub-expressions\n",
      "%end_common will finalize the definitions\n"
     ]
    }
   ],
   "source": [
    "from proveit.logic import Exists, NotExists, Not, inBool, Equals\n",
    "from proveit.number import Naturals, NaturalsPos, Len\n",
    "from proveit._common_ import m, n, A, B, P, S, QQ, xx\n",
    "from proveit.logic._common_ import xIter1l, yIter1l, yIter1n, zIter1l\n",
    "from proveit.logic._common_ import P_xIter1l, P_xIter1l_yIter1n, P_yIter1l\n",
    "from proveit.logic._common_ import iterQ1k, iterQ1k_xIter1l, iterQ1k_zIter1l, iterQ1i_xIter1l, iterQjk_xIter1l, iterQ1k_yIter1l\n",
    "from proveit.logic._common_ import R_zIter1l, iterR1m_xIter1l_yIter1n\n",
    "%begin common"
   ]
  },
  {
   "cell_type": "code",
   "execution_count": 2,
   "metadata": {
    "collapsed": false,
    "deletable": true,
    "editable": true
   },
   "outputs": [
    {
     "data": {
      "text/html": [
       "<strong id=\"generalExists_Px\">generalExists_Px:</strong> <a class=\"ProveItLink\" href=\"__pv_it\\2968fb697910ddbc808c99ef9a9d1918696b64ee0\\expr.ipynb\"><img src=\"__pv_it\\2968fb697910ddbc808c99ef9a9d1918696b64ee0\\expr.png\" style=\"display:inline;vertical-align:middle;\" /></a><br>"
      ],
      "text/plain": [
       "generalExists_Px: exists_{x_(1),...,x_(l) | Q_(1)(x_(1),...,x_(l)) ,  ...  , Q_(k)(x_(1),...,x_(l))} P(x_(1),...,x_(l))"
      ]
     },
     "execution_count": 2,
     "metadata": {},
     "output_type": "execute_result"
    }
   ],
   "source": [
    "generalExists_Px = Exists(xIter1l, P_xIter1l, conditions=[iterQ1k_xIter1l])"
   ]
  },
  {
   "cell_type": "code",
   "execution_count": 3,
   "metadata": {
    "collapsed": false
   },
   "outputs": [
    {
     "data": {
      "text/html": [
       "<strong id=\"generalExists_Py\">generalExists_Py:</strong> <a class=\"ProveItLink\" href=\"__pv_it\\1b61c4e6cfcbac6a6044a2fc0e8f85b3716d00c90\\expr.ipynb\"><img src=\"__pv_it\\1b61c4e6cfcbac6a6044a2fc0e8f85b3716d00c90\\expr.png\" style=\"display:inline;vertical-align:middle;\" /></a><br>"
      ],
      "text/plain": [
       "generalExists_Py: exists_{y_(1),...,y_(l) | Q_(1)(y_(1),...,y_(l)) ,  ...  , Q_(k)(y_(1),...,y_(l))} P(y_(1),...,y_(l))"
      ]
     },
     "execution_count": 3,
     "metadata": {},
     "output_type": "execute_result"
    }
   ],
   "source": [
    "generalExists_Py = Exists(yIter1l, P_yIter1l, conditions=[iterQ1k_yIter1l])"
   ]
  },
  {
   "cell_type": "code",
   "execution_count": 4,
   "metadata": {
    "collapsed": false
   },
   "outputs": [
    {
     "data": {
      "text/html": [
       "<strong id=\"generalExists_Rz\">generalExists_Rz:</strong> <a class=\"ProveItLink\" href=\"__pv_it\\37fbaaae132abdb30575fe40e4b184e0d7dd36830\\expr.ipynb\"><img src=\"__pv_it\\37fbaaae132abdb30575fe40e4b184e0d7dd36830\\expr.png\" style=\"display:inline;vertical-align:middle;\" /></a><br>"
      ],
      "text/plain": [
       "generalExists_Rz: exists_{z_(1),...,z_(l) | Q_(1)(z_(1),...,z_(l)) ,  ...  , Q_(k)(z_(1),...,z_(l))} R(z_(1),...,z_(l))"
      ]
     },
     "execution_count": 4,
     "metadata": {},
     "output_type": "execute_result"
    }
   ],
   "source": [
    "generalExists_Rz = Exists(zIter1l, R_zIter1l, conditions=[iterQ1k_zIter1l])"
   ]
  },
  {
   "cell_type": "code",
   "execution_count": 5,
   "metadata": {
    "collapsed": false
   },
   "outputs": [
    {
     "data": {
      "text/html": [
       "<strong id=\"exists_Px_Q1i_Qjk\">exists_Px_Q1i_Qjk:</strong> <a class=\"ProveItLink\" href=\"__pv_it\\28ebd217486df3eb20898125c74b0ecf93bbf1740\\expr.ipynb\"><img src=\"__pv_it\\28ebd217486df3eb20898125c74b0ecf93bbf1740\\expr.png\" style=\"display:inline;vertical-align:middle;\" /></a><br>"
      ],
      "text/plain": [
       "exists_Px_Q1i_Qjk: exists_{x_(1),...,x_(l) | Q_(1)(x_(1),...,x_(l)) ,  ...  , Q_(i)(x_(1),...,x_(l)) , Q_(j)(x_(1),...,x_(l)) ,  ...  , Q_(k)(x_(1),...,x_(l))} P(x_(1),...,x_(l))"
      ]
     },
     "execution_count": 5,
     "metadata": {},
     "output_type": "execute_result"
    }
   ],
   "source": [
    "exists_Px_Q1i_Qjk = Exists(xIter1l, P_xIter1l, conditions=[iterQ1i_xIter1l, iterQjk_xIter1l])"
   ]
  },
  {
   "cell_type": "code",
   "execution_count": 6,
   "metadata": {
    "collapsed": false
   },
   "outputs": [
    {
     "data": {
      "text/html": [
       "<strong id=\"generalExistsInA_Px\">generalExistsInA_Px:</strong> <a class=\"ProveItLink\" href=\"__pv_it\\7475aba58bc1942aea0df7064390f64a7099fd900\\expr.ipynb\"><img src=\"__pv_it\\7475aba58bc1942aea0df7064390f64a7099fd900\\expr.png\" style=\"display:inline;vertical-align:middle;\" /></a><br>"
      ],
      "text/plain": [
       "generalExistsInA_Px: exists_{x_(1),...,x_(l) in A | Q_(1)(x_(1),...,x_(l)) ,  ...  , Q_(k)(x_(1),...,x_(l))} P(x_(1),...,x_(l))"
      ]
     },
     "execution_count": 6,
     "metadata": {},
     "output_type": "execute_result"
    }
   ],
   "source": [
    "generalExistsInA_Px = Exists(xIter1l, P_xIter1l, domain=A, conditions=[iterQ1k_xIter1l])"
   ]
  },
  {
   "cell_type": "code",
   "execution_count": 7,
   "metadata": {
    "collapsed": false
   },
   "outputs": [
    {
     "data": {
      "text/html": [
       "<strong id=\"generalExistsInB_Py\">generalExistsInB_Py:</strong> <a class=\"ProveItLink\" href=\"__pv_it\\104f4032ad5e52767b3f47ce0618041cb62da4310\\expr.ipynb\"><img src=\"__pv_it\\104f4032ad5e52767b3f47ce0618041cb62da4310\\expr.png\" style=\"display:inline;vertical-align:middle;\" /></a><br>"
      ],
      "text/plain": [
       "generalExistsInB_Py: exists_{y_(1),...,y_(l) in B | Q_(1)(y_(1),...,y_(l)) ,  ...  , Q_(k)(y_(1),...,y_(l))} P(y_(1),...,y_(l))"
      ]
     },
     "execution_count": 7,
     "metadata": {},
     "output_type": "execute_result"
    }
   ],
   "source": [
    "generalExistsInB_Py = Exists(yIter1l, P_yIter1l, domain=B, conditions=[iterQ1k_yIter1l])"
   ]
  },
  {
   "cell_type": "code",
   "execution_count": 8,
   "metadata": {
    "collapsed": false,
    "deletable": true,
    "editable": true
   },
   "outputs": [
    {
     "data": {
      "text/html": [
       "<strong id=\"generalNotExists_Px\">generalNotExists_Px:</strong> <a class=\"ProveItLink\" href=\"__pv_it\\9ec67958095eb6a4ec9e6c9eacc79d92ff6a62180\\expr.ipynb\"><img src=\"__pv_it\\9ec67958095eb6a4ec9e6c9eacc79d92ff6a62180\\expr.png\" style=\"display:inline;vertical-align:middle;\" /></a><br>"
      ],
      "text/plain": [
       "generalNotExists_Px: notexists_{x_(1),...,x_(l) | Q_(1)(x_(1),...,x_(l)) ,  ...  , Q_(k)(x_(1),...,x_(l))} P(x_(1),...,x_(l))"
      ]
     },
     "execution_count": 8,
     "metadata": {},
     "output_type": "execute_result"
    }
   ],
   "source": [
    "generalNotExists_Px = NotExists(xIter1l, P_xIter1l, conditions=[iterQ1k_xIter1l])"
   ]
  },
  {
   "cell_type": "code",
   "execution_count": 9,
   "metadata": {
    "collapsed": false
   },
   "outputs": [
    {
     "data": {
      "text/html": [
       "<strong id=\"generalNotExists_Py\">generalNotExists_Py:</strong> <a class=\"ProveItLink\" href=\"__pv_it\\dcc2df919398017788edb487caf7c4258bb08e530\\expr.ipynb\"><img src=\"__pv_it\\dcc2df919398017788edb487caf7c4258bb08e530\\expr.png\" style=\"display:inline;vertical-align:middle;\" /></a><br>"
      ],
      "text/plain": [
       "generalNotExists_Py: notexists_{y_(1),...,y_(l) | Q_(1)(y_(1),...,y_(l)) ,  ...  , Q_(k)(y_(1),...,y_(l))} P(y_(1),...,y_(l))"
      ]
     },
     "execution_count": 9,
     "metadata": {},
     "output_type": "execute_result"
    }
   ],
   "source": [
    "generalNotExists_Py = NotExists(yIter1l, P_yIter1l, conditions=[iterQ1k_yIter1l])"
   ]
  },
  {
   "cell_type": "code",
   "execution_count": 10,
   "metadata": {
    "collapsed": false,
    "deletable": true,
    "editable": true
   },
   "outputs": [
    {
     "data": {
      "text/html": [
       "<strong id=\"generalExists_notPx\">generalExists_notPx:</strong> <a class=\"ProveItLink\" href=\"__pv_it\\2b8f0d0095f6c42881ba8cf02337efb00dcf04880\\expr.ipynb\"><img src=\"__pv_it\\2b8f0d0095f6c42881ba8cf02337efb00dcf04880\\expr.png\" style=\"display:inline;vertical-align:middle;\" /></a><br>"
      ],
      "text/plain": [
       "generalExists_notPx: exists_{x_(1),...,x_(l) | Q_(1)(x_(1),...,x_(l)) ,  ...  , Q_(k)(x_(1),...,x_(l))} [not](P(x_(1),...,x_(l)))"
      ]
     },
     "execution_count": 10,
     "metadata": {},
     "output_type": "execute_result"
    }
   ],
   "source": [
    "generalExists_notPx = Exists(xIter1l, Not(P_xIter1l), conditions=[iterQ1k_xIter1l])"
   ]
  },
  {
   "cell_type": "code",
   "execution_count": 11,
   "metadata": {
    "collapsed": false
   },
   "outputs": [
    {
     "data": {
      "text/html": [
       "<strong id=\"generalExists_notPy\">generalExists_notPy:</strong> <a class=\"ProveItLink\" href=\"__pv_it\\7d3a573a0fb70e5e4267a745d266e1d16ec828ff0\\expr.ipynb\"><img src=\"__pv_it\\7d3a573a0fb70e5e4267a745d266e1d16ec828ff0\\expr.png\" style=\"display:inline;vertical-align:middle;\" /></a><br>"
      ],
      "text/plain": [
       "generalExists_notPy: exists_{y_(1),...,y_(l) | Q_(1)(y_(1),...,y_(l)) ,  ...  , Q_(k)(y_(1),...,y_(l))} [not](P(y_(1),...,y_(l)))"
      ]
     },
     "execution_count": 11,
     "metadata": {},
     "output_type": "execute_result"
    }
   ],
   "source": [
    "generalExists_notPy = Exists(yIter1l, Not(P_yIter1l), conditions=[iterQ1k_yIter1l])"
   ]
  },
  {
   "cell_type": "code",
   "execution_count": 12,
   "metadata": {
    "collapsed": false
   },
   "outputs": [
    {
     "data": {
      "text/html": [
       "<strong id=\"generalNotExists_notPx\">generalNotExists_notPx:</strong> <a class=\"ProveItLink\" href=\"__pv_it\\7016b3445d6deebf88fe36484874792eaaa3ccb10\\expr.ipynb\"><img src=\"__pv_it\\7016b3445d6deebf88fe36484874792eaaa3ccb10\\expr.png\" style=\"display:inline;vertical-align:middle;\" /></a><br>"
      ],
      "text/plain": [
       "generalNotExists_notPx: notexists_{x_(1),...,x_(l) | Q_(1)(x_(1),...,x_(l)) ,  ...  , Q_(k)(x_(1),...,x_(l))} [not](P(x_(1),...,x_(l)))"
      ]
     },
     "execution_count": 12,
     "metadata": {},
     "output_type": "execute_result"
    }
   ],
   "source": [
    "generalNotExists_notPx = NotExists(xIter1l, Not(P_xIter1l), conditions=[iterQ1k_xIter1l])"
   ]
  },
  {
   "cell_type": "code",
   "execution_count": 13,
   "metadata": {
    "collapsed": false
   },
   "outputs": [
    {
     "data": {
      "text/html": [
       "<strong id=\"generalNotExists_notPy\">generalNotExists_notPy:</strong> <a class=\"ProveItLink\" href=\"__pv_it\\5d783974f8ba194c6f55ab731bf50f49ec0948cd0\\expr.ipynb\"><img src=\"__pv_it\\5d783974f8ba194c6f55ab731bf50f49ec0948cd0\\expr.png\" style=\"display:inline;vertical-align:middle;\" /></a><br>"
      ],
      "text/plain": [
       "generalNotExists_notPy: notexists_{y_(1),...,y_(l) | Q_(1)(y_(1),...,y_(l)) ,  ...  , Q_(k)(y_(1),...,y_(l))} [not](P(y_(1),...,y_(l)))"
      ]
     },
     "execution_count": 13,
     "metadata": {},
     "output_type": "execute_result"
    }
   ],
   "source": [
    "generalNotExists_notPy = NotExists(yIter1l, Not(P_yIter1l), conditions=[iterQ1k_yIter1l])"
   ]
  },
  {
   "cell_type": "code",
   "execution_count": 14,
   "metadata": {
    "collapsed": false,
    "deletable": true,
    "editable": true
   },
   "outputs": [
    {
     "data": {
      "text/html": [
       "<strong id=\"generalNestedExists_Pxy\">generalNestedExists_Pxy:</strong> <a class=\"ProveItLink\" href=\"__pv_it\\7ef0bb46ea18c286a36e539093ae1051ab6a35130\\expr.ipynb\"><img src=\"__pv_it\\7ef0bb46ea18c286a36e539093ae1051ab6a35130\\expr.png\" style=\"display:inline;vertical-align:middle;\" /></a><br>"
      ],
      "text/plain": [
       "generalNestedExists_Pxy: exists_{x_(1),...,x_(l) | Q_(1)(x_(1),...,x_(l)) ,  ...  , Q_(k)(x_(1),...,x_(l))} [exists_{y_(1),...,y_(n) | R_(1)(x_(1) ,  ...  , x_(l) , y_(1) ,  ...  , y_(n)) ,  ...  , R_(m)(x_(1) ,  ...  , x_(l) , y_(1) ,  ...  , y_(n))} P(x_(1) ,  ...  , x_(l) , y_(1) ,  ...  , y_(n))]"
      ]
     },
     "execution_count": 14,
     "metadata": {},
     "output_type": "execute_result"
    }
   ],
   "source": [
    "generalNestedExists_Pxy = Exists(xIter1l, Exists(yIter1n, P_xIter1l_yIter1n, \n",
    "                                             conditions=[iterR1m_xIter1l_yIter1n]),\n",
    "                             conditions=[iterQ1k_xIter1l])"
   ]
  },
  {
   "cell_type": "code",
   "execution_count": 15,
   "metadata": {
    "collapsed": false,
    "deletable": true,
    "editable": true
   },
   "outputs": [
    {
     "data": {
      "text/html": [
       "<strong id=\"generalBundledExists_Pxy\">generalBundledExists_Pxy:</strong> <a class=\"ProveItLink\" href=\"__pv_it\\b57ea31cc2fa342c89351d93cca004b10e7b82530\\expr.ipynb\"><img src=\"__pv_it\\b57ea31cc2fa342c89351d93cca004b10e7b82530\\expr.png\" style=\"display:inline;vertical-align:middle;\" /></a><br>"
      ],
      "text/plain": [
       "generalBundledExists_Pxy: exists_{x_(1),...,x_(l), y_(1),...,y_(n) | Q_(1)(x_(1),...,x_(l)) ,  ...  , Q_(k)(x_(1),...,x_(l)) , R_(1)(x_(1) ,  ...  , x_(l) , y_(1) ,  ...  , y_(n)) ,  ...  , R_(m)(x_(1) ,  ...  , x_(l) , y_(1) ,  ...  , y_(n))} P(x_(1) ,  ...  , x_(l) , y_(1) ,  ...  , y_(n))"
      ]
     },
     "execution_count": 15,
     "metadata": {},
     "output_type": "execute_result"
    }
   ],
   "source": [
    "generalBundledExists_Pxy = Exists([xIter1l, yIter1n], P_xIter1l_yIter1n,\n",
    "                              conditions=[iterQ1k_xIter1l, iterR1m_xIter1l_yIter1n])"
   ]
  },
  {
   "cell_type": "code",
   "execution_count": 16,
   "metadata": {
    "collapsed": false,
    "deletable": true,
    "editable": true
   },
   "outputs": [
    {
     "name": "stdout",
     "output_type": "stream",
     "text": [
      "generalExists_Rz expression notebook is being updated\n",
      "Common expressions may be imported from autogenerated _common_.py\n"
     ]
    }
   ],
   "source": [
    "%end common"
   ]
  },
  {
   "cell_type": "code",
   "execution_count": null,
   "metadata": {
    "collapsed": true,
    "deletable": true,
    "editable": true
   },
   "outputs": [],
   "source": []
  }
 ],
 "metadata": {
  "kernelspec": {
   "display_name": "Python 2",
   "language": "python",
   "name": "python2"
  },
  "language_info": {
   "codemirror_mode": {
    "name": "ipython",
    "version": 2
   },
   "file_extension": ".py",
   "mimetype": "text/x-python",
   "name": "python",
   "nbconvert_exporter": "python",
   "pygments_lexer": "ipython2",
   "version": "2.7.11"
  }
 },
 "nbformat": 4,
 "nbformat_minor": 0
}
