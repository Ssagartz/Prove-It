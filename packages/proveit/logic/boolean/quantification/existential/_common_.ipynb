{
 "cells": [
  {
   "cell_type": "markdown",
   "metadata": {
    "collapsed": true,
    "deletable": true,
    "editable": true
   },
   "source": [
    "Common expressions for context <a href=\"_context_.ipynb\" class=\"ProveItLink\">proveit.logic.boolean.quantification.existential</a>\n",
    "========"
   ]
  },
  {
   "cell_type": "code",
   "execution_count": 1,
   "metadata": {
    "collapsed": false,
    "deletable": true,
    "editable": true
   },
   "outputs": [
    {
     "name": "stdout",
     "output_type": "stream",
     "text": [
      "Defining common sub-expressions for context 'proveit.logic.boolean.quantification.existential'\n",
      "Subsequent end-of-cell assignments will define common sub-expressions\n",
      "%end_common will finalize the definitions\n"
     ]
    }
   ],
   "source": [
    "from proveit.logic import Exists, NotExists, Not, inBool, Equals\n",
    "from proveit.number import Naturals, NaturalsPos, Len\n",
    "from proveit._common_ import m, n, A, B, P, S, QQ, xx\n",
    "from proveit.logic._common_ import xIter1l, yIter1l, yIter1n, zIter1l\n",
    "from proveit.logic._common_ import P_xIter1l, P_xIter1l_yIter1n, P_yIter1l\n",
    "from proveit.logic._common_ import iterQ1k, iterQ1k_xIter1l, iterQ1k_zIter1l, iterQ1i_xIter1l, iterQjk_xIter1l, iterQ1k_yIter1l\n",
    "from proveit.logic._common_ import R_zIter1l, iterR1m_xIter1l_yIter1n\n",
    "%begin common"
   ]
  },
  {
   "cell_type": "code",
   "execution_count": 2,
   "metadata": {
    "collapsed": false,
    "deletable": true,
    "editable": true
   },
   "outputs": [
    {
     "data": {
      "text/html": [
       "<strong id=\"generalExists_Px\">generalExists_Px:</strong> <a class=\"ProveItLink\" href=\"__pv_it\\ff110439faf8b78dd61d01ac6a22537216d66f790\\expr.ipynb\"><img src=\"__pv_it\\ff110439faf8b78dd61d01ac6a22537216d66f790\\expr.png\" style=\"display:inline;vertical-align:middle;\" /></a><br>"
      ],
      "text/plain": [
       "generalExists_Px: exists_{x_(1),...,x_(l) | Q_(1)(x_(1),...,x_(l)) ,  ...  , Q_(k)(x_(1),...,x_(l))} P(x_(1),...,x_(l))"
      ]
     },
     "execution_count": 2,
     "metadata": {},
     "output_type": "execute_result"
    }
   ],
   "source": [
    "generalExists_Px = Exists(xIter1l, P_xIter1l, conditions=[iterQ1k_xIter1l])"
   ]
  },
  {
   "cell_type": "code",
   "execution_count": 3,
   "metadata": {
    "collapsed": false
   },
   "outputs": [
    {
     "data": {
      "text/html": [
       "<strong id=\"generalExists_Py\">generalExists_Py:</strong> <a class=\"ProveItLink\" href=\"__pv_it\\f5b0d444607a3b7e8c0960b64af512d4c2e6cd390\\expr.ipynb\"><img src=\"__pv_it\\f5b0d444607a3b7e8c0960b64af512d4c2e6cd390\\expr.png\" style=\"display:inline;vertical-align:middle;\" /></a><br>"
      ],
      "text/plain": [
       "generalExists_Py: exists_{y_(1),...,y_(l) | Q_(1)(y_(1),...,y_(l)) ,  ...  , Q_(k)(y_(1),...,y_(l))} P(y_(1),...,y_(l))"
      ]
     },
     "execution_count": 3,
     "metadata": {},
     "output_type": "execute_result"
    }
   ],
   "source": [
    "generalExists_Py = Exists(yIter1l, P_yIter1l, conditions=[iterQ1k_yIter1l])"
   ]
  },
  {
   "cell_type": "code",
   "execution_count": 4,
   "metadata": {
    "collapsed": false
   },
   "outputs": [
    {
     "data": {
      "text/html": [
       "<strong id=\"generalExists_Rz\">generalExists_Rz:</strong> <a class=\"ProveItLink\" href=\"__pv_it\\643596e806f3c29e27908fe6bfd25a6fda7a7b640\\expr.ipynb\"><img src=\"__pv_it\\643596e806f3c29e27908fe6bfd25a6fda7a7b640\\expr.png\" style=\"display:inline;vertical-align:middle;\" /></a><br>"
      ],
      "text/plain": [
       "generalExists_Rz: exists_{z_(1),...,z_(l) | Q_(1)(z_(1),...,z_(l)) ,  ...  , Q_(k)(z_(1),...,z_(l))} R(z_(1),...,z_(l))"
      ]
     },
     "execution_count": 4,
     "metadata": {},
     "output_type": "execute_result"
    }
   ],
   "source": [
    "generalExists_Rz = Exists(zIter1l, R_zIter1l, conditions=[iterQ1k_zIter1l])"
   ]
  },
  {
   "cell_type": "code",
   "execution_count": 5,
   "metadata": {
    "collapsed": false
   },
   "outputs": [
    {
     "data": {
      "text/html": [
       "<strong id=\"exists_Px_Q1i_Qjk\">exists_Px_Q1i_Qjk:</strong> <a class=\"ProveItLink\" href=\"__pv_it\\8453e0990135e973bb9834230eb801b895344e6a0\\expr.ipynb\"><img src=\"__pv_it\\8453e0990135e973bb9834230eb801b895344e6a0\\expr.png\" style=\"display:inline;vertical-align:middle;\" /></a><br>"
      ],
      "text/plain": [
       "exists_Px_Q1i_Qjk: exists_{x_(1),...,x_(l) | Q_(1)(x_(1),...,x_(l)) ,  ...  , Q_(i)(x_(1),...,x_(l)) , Q_(j)(x_(1),...,x_(l)) ,  ...  , Q_(k)(x_(1),...,x_(l))} P(x_(1),...,x_(l))"
      ]
     },
     "execution_count": 5,
     "metadata": {},
     "output_type": "execute_result"
    }
   ],
   "source": [
    "exists_Px_Q1i_Qjk = Exists(xIter1l, P_xIter1l, conditions=[iterQ1i_xIter1l, iterQjk_xIter1l])"
   ]
  },
  {
   "cell_type": "code",
   "execution_count": 6,
   "metadata": {
    "collapsed": false
   },
   "outputs": [
    {
     "data": {
      "text/html": [
       "<strong id=\"generalExistsInA_Px\">generalExistsInA_Px:</strong> <a class=\"ProveItLink\" href=\"__pv_it\\6c921a3cab70f49c34cc14e9143c791ec2c049ca0\\expr.ipynb\"><img src=\"__pv_it\\6c921a3cab70f49c34cc14e9143c791ec2c049ca0\\expr.png\" style=\"display:inline;vertical-align:middle;\" /></a><br>"
      ],
      "text/plain": [
       "generalExistsInA_Px: exists_{x_(1),...,x_(l) in A | Q_(1)(x_(1),...,x_(l)) ,  ...  , Q_(k)(x_(1),...,x_(l))} P(x_(1),...,x_(l))"
      ]
     },
     "execution_count": 6,
     "metadata": {},
     "output_type": "execute_result"
    }
   ],
   "source": [
    "generalExistsInA_Px = Exists(xIter1l, P_xIter1l, domain=A, conditions=[iterQ1k_xIter1l])"
   ]
  },
  {
   "cell_type": "code",
   "execution_count": 7,
   "metadata": {
    "collapsed": false
   },
   "outputs": [
    {
     "data": {
      "text/html": [
       "<strong id=\"generalExistsInB_Py\">generalExistsInB_Py:</strong> <a class=\"ProveItLink\" href=\"__pv_it\\76b2dfeebe450eac76a04468b30ef57811a391d90\\expr.ipynb\"><img src=\"__pv_it\\76b2dfeebe450eac76a04468b30ef57811a391d90\\expr.png\" style=\"display:inline;vertical-align:middle;\" /></a><br>"
      ],
      "text/plain": [
       "generalExistsInB_Py: exists_{y_(1),...,y_(l) in B | Q_(1)(y_(1),...,y_(l)) ,  ...  , Q_(k)(y_(1),...,y_(l))} P(y_(1),...,y_(l))"
      ]
     },
     "execution_count": 7,
     "metadata": {},
     "output_type": "execute_result"
    }
   ],
   "source": [
    "generalExistsInB_Py = Exists(yIter1l, P_yIter1l, domain=B, conditions=[iterQ1k_yIter1l])"
   ]
  },
  {
   "cell_type": "code",
   "execution_count": 8,
   "metadata": {
    "collapsed": false,
    "deletable": true,
    "editable": true
   },
   "outputs": [
    {
     "data": {
      "text/html": [
       "<strong id=\"generalNotExists_Px\">generalNotExists_Px:</strong> <a class=\"ProveItLink\" href=\"__pv_it\\aff06060f0bf7a26261e44d852d67cdf6c02045c0\\expr.ipynb\"><img src=\"__pv_it\\aff06060f0bf7a26261e44d852d67cdf6c02045c0\\expr.png\" style=\"display:inline;vertical-align:middle;\" /></a><br>"
      ],
      "text/plain": [
       "generalNotExists_Px: notexists_{x_(1),...,x_(l) | Q_(1)(x_(1),...,x_(l)) ,  ...  , Q_(k)(x_(1),...,x_(l))} P(x_(1),...,x_(l))"
      ]
     },
     "execution_count": 8,
     "metadata": {},
     "output_type": "execute_result"
    }
   ],
   "source": [
    "generalNotExists_Px = NotExists(xIter1l, P_xIter1l, conditions=[iterQ1k_xIter1l])"
   ]
  },
  {
   "cell_type": "code",
   "execution_count": 9,
   "metadata": {
    "collapsed": false
   },
   "outputs": [
    {
     "data": {
      "text/html": [
       "<strong id=\"generalNotExists_Py\">generalNotExists_Py:</strong> <a class=\"ProveItLink\" href=\"__pv_it\\667aafb12e61ad622e00958f6c48c1fb0e922a880\\expr.ipynb\"><img src=\"__pv_it\\667aafb12e61ad622e00958f6c48c1fb0e922a880\\expr.png\" style=\"display:inline;vertical-align:middle;\" /></a><br>"
      ],
      "text/plain": [
       "generalNotExists_Py: notexists_{y_(1),...,y_(l) | Q_(1)(y_(1),...,y_(l)) ,  ...  , Q_(k)(y_(1),...,y_(l))} P(y_(1),...,y_(l))"
      ]
     },
     "execution_count": 9,
     "metadata": {},
     "output_type": "execute_result"
    }
   ],
   "source": [
    "generalNotExists_Py = NotExists(yIter1l, P_yIter1l, conditions=[iterQ1k_yIter1l])"
   ]
  },
  {
   "cell_type": "code",
   "execution_count": 10,
   "metadata": {
    "collapsed": false,
    "deletable": true,
    "editable": true
   },
   "outputs": [
    {
     "data": {
      "text/html": [
       "<strong id=\"generalExists_notPx\">generalExists_notPx:</strong> <a class=\"ProveItLink\" href=\"__pv_it\\7718f99b4df841d839df085c036a010d2bc3c5400\\expr.ipynb\"><img src=\"__pv_it\\7718f99b4df841d839df085c036a010d2bc3c5400\\expr.png\" style=\"display:inline;vertical-align:middle;\" /></a><br>"
      ],
      "text/plain": [
       "generalExists_notPx: exists_{x_(1),...,x_(l) | Q_(1)(x_(1),...,x_(l)) ,  ...  , Q_(k)(x_(1),...,x_(l))} [not](P(x_(1),...,x_(l)))"
      ]
     },
     "execution_count": 10,
     "metadata": {},
     "output_type": "execute_result"
    }
   ],
   "source": [
    "generalExists_notPx = Exists(xIter1l, Not(P_xIter1l), conditions=[iterQ1k_xIter1l])"
   ]
  },
  {
   "cell_type": "code",
   "execution_count": 11,
   "metadata": {
    "collapsed": false
   },
   "outputs": [
    {
     "data": {
      "text/html": [
       "<strong id=\"generalExists_notPy\">generalExists_notPy:</strong> <a class=\"ProveItLink\" href=\"__pv_it\\b3a2535db4fbc19ce4ac5349faae65d101157f230\\expr.ipynb\"><img src=\"__pv_it\\b3a2535db4fbc19ce4ac5349faae65d101157f230\\expr.png\" style=\"display:inline;vertical-align:middle;\" /></a><br>"
      ],
      "text/plain": [
       "generalExists_notPy: exists_{y_(1),...,y_(l) | Q_(1)(y_(1),...,y_(l)) ,  ...  , Q_(k)(y_(1),...,y_(l))} [not](P(y_(1),...,y_(l)))"
      ]
     },
     "execution_count": 11,
     "metadata": {},
     "output_type": "execute_result"
    }
   ],
   "source": [
    "generalExists_notPy = Exists(yIter1l, Not(P_yIter1l), conditions=[iterQ1k_yIter1l])"
   ]
  },
  {
   "cell_type": "code",
   "execution_count": 12,
   "metadata": {
    "collapsed": false
   },
   "outputs": [
    {
     "data": {
      "text/html": [
       "<strong id=\"generalNotExists_notPx\">generalNotExists_notPx:</strong> <a class=\"ProveItLink\" href=\"__pv_it\\4dcd2735fffa3e87d8e79a45f30ab0e759e376af0\\expr.ipynb\"><img src=\"__pv_it\\4dcd2735fffa3e87d8e79a45f30ab0e759e376af0\\expr.png\" style=\"display:inline;vertical-align:middle;\" /></a><br>"
      ],
      "text/plain": [
       "generalNotExists_notPx: notexists_{x_(1),...,x_(l) | Q_(1)(x_(1),...,x_(l)) ,  ...  , Q_(k)(x_(1),...,x_(l))} [not](P(x_(1),...,x_(l)))"
      ]
     },
     "execution_count": 12,
     "metadata": {},
     "output_type": "execute_result"
    }
   ],
   "source": [
    "generalNotExists_notPx = NotExists(xIter1l, Not(P_xIter1l), conditions=[iterQ1k_xIter1l])"
   ]
  },
  {
   "cell_type": "code",
   "execution_count": 13,
   "metadata": {
    "collapsed": false
   },
   "outputs": [
    {
     "data": {
      "text/html": [
       "<strong id=\"generalNotExists_notPy\">generalNotExists_notPy:</strong> <a class=\"ProveItLink\" href=\"__pv_it\\22995449c25ffad7594e0b53b1bd51b39adc1f9c0\\expr.ipynb\"><img src=\"__pv_it\\22995449c25ffad7594e0b53b1bd51b39adc1f9c0\\expr.png\" style=\"display:inline;vertical-align:middle;\" /></a><br>"
      ],
      "text/plain": [
       "generalNotExists_notPy: notexists_{y_(1),...,y_(l) | Q_(1)(y_(1),...,y_(l)) ,  ...  , Q_(k)(y_(1),...,y_(l))} [not](P(y_(1),...,y_(l)))"
      ]
     },
     "execution_count": 13,
     "metadata": {},
     "output_type": "execute_result"
    }
   ],
   "source": [
    "generalNotExists_notPy = NotExists(yIter1l, Not(P_yIter1l), conditions=[iterQ1k_yIter1l])"
   ]
  },
  {
   "cell_type": "code",
   "execution_count": 14,
   "metadata": {
    "collapsed": false,
    "deletable": true,
    "editable": true
   },
   "outputs": [
    {
     "data": {
      "text/html": [
       "<strong id=\"generalNestedExists_Pxy\">generalNestedExists_Pxy:</strong> <a class=\"ProveItLink\" href=\"__pv_it\\0e66754f370dcc649b3b8b73401e4d9509e1ea070\\expr.ipynb\"><img src=\"__pv_it\\0e66754f370dcc649b3b8b73401e4d9509e1ea070\\expr.png\" style=\"display:inline;vertical-align:middle;\" /></a><br>"
      ],
      "text/plain": [
       "generalNestedExists_Pxy: exists_{x_(1),...,x_(l) | Q_(1)(x_(1),...,x_(l)) ,  ...  , Q_(k)(x_(1),...,x_(l))} [exists_{y_(1),...,y_(n) | R_(1)(x_(1) ,  ...  , x_(l) , y_(1) ,  ...  , y_(n)) ,  ...  , R_(m)(x_(1) ,  ...  , x_(l) , y_(1) ,  ...  , y_(n))} P(x_(1) ,  ...  , x_(l) , y_(1) ,  ...  , y_(n))]"
      ]
     },
     "execution_count": 14,
     "metadata": {},
     "output_type": "execute_result"
    }
   ],
   "source": [
    "generalNestedExists_Pxy = Exists(xIter1l, Exists(yIter1n, P_xIter1l_yIter1n, \n",
    "                                             conditions=[iterR1m_xIter1l_yIter1n]),\n",
    "                             conditions=[iterQ1k_xIter1l])"
   ]
  },
  {
   "cell_type": "code",
   "execution_count": 15,
   "metadata": {
    "collapsed": false,
    "deletable": true,
    "editable": true
   },
   "outputs": [
    {
     "data": {
      "text/html": [
       "<strong id=\"generalBundledExists_Pxy\">generalBundledExists_Pxy:</strong> <a class=\"ProveItLink\" href=\"__pv_it\\45ed82570e457dd4bb5d847655fc1aaf5e592e060\\expr.ipynb\"><img src=\"__pv_it\\45ed82570e457dd4bb5d847655fc1aaf5e592e060\\expr.png\" style=\"display:inline;vertical-align:middle;\" /></a><br>"
      ],
      "text/plain": [
       "generalBundledExists_Pxy: exists_{x_(1),...,x_(l), y_(1),...,y_(n) | Q_(1)(x_(1),...,x_(l)) ,  ...  , Q_(k)(x_(1),...,x_(l)) , R_(1)(x_(1) ,  ...  , x_(l) , y_(1) ,  ...  , y_(n)) ,  ...  , R_(m)(x_(1) ,  ...  , x_(l) , y_(1) ,  ...  , y_(n))} P(x_(1) ,  ...  , x_(l) , y_(1) ,  ...  , y_(n))"
      ]
     },
     "execution_count": 15,
     "metadata": {},
     "output_type": "execute_result"
    }
   ],
   "source": [
    "generalBundledExists_Pxy = Exists([xIter1l, yIter1n], P_xIter1l_yIter1n,\n",
    "                              conditions=[iterQ1k_xIter1l, iterR1m_xIter1l_yIter1n])"
   ]
  },
  {
   "cell_type": "code",
   "execution_count": 16,
   "metadata": {
    "collapsed": false,
    "deletable": true,
    "editable": true
   },
   "outputs": [
    {
     "name": "stdout",
     "output_type": "stream",
     "text": [
      "Common expressions may be imported from autogenerated _common_.py\n"
     ]
    }
   ],
   "source": [
    "%end common"
   ]
  },
  {
   "cell_type": "code",
   "execution_count": 17,
   "metadata": {
    "collapsed": true,
    "deletable": true,
    "editable": true
   },
   "outputs": [],
   "source": []
  }
 ],
 "metadata": {
  "kernelspec": {
   "display_name": "Python 2",
   "language": "python",
   "name": "python2"
  },
  "language_info": {
   "codemirror_mode": {
    "name": "ipython",
    "version": 2
   },
   "file_extension": ".py",
   "mimetype": "text/x-python",
   "name": "python",
   "nbconvert_exporter": "python",
   "pygments_lexer": "ipython2",
   "version": "2.7.11"
  }
 },
 "nbformat": 4,
 "nbformat_minor": 0
}
