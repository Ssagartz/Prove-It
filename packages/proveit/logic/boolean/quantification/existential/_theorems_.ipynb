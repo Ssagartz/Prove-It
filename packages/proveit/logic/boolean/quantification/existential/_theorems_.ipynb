{
 "cells": [
  {
   "cell_type": "markdown",
   "metadata": {
    "collapsed": true,
    "deletable": true,
    "editable": true
   },
   "source": [
    "Theorems for context <a href=\"_context_.ipynb\">proveit.logic.boolean.quantification.existential</a>\n",
    "========"
   ]
  },
  {
   "cell_type": "code",
   "execution_count": null,
   "metadata": {
    "collapsed": false,
    "deletable": true,
    "editable": true
   },
   "outputs": [],
   "source": [
    "from proveit.logic import Forall, Implies, Equals, TRUE, NotExists, NotEquals, Not, Exists, inBool\n",
    "from proveit._common_ import P, S, Qmulti, xMulti, yMulti, yEtc, PxEtc, PyEtc, etc_QxEtc, etc_QyEtc\n",
    "%begin_theorems"
   ]
  },
  {
   "cell_type": "markdown",
   "metadata": {},
   "source": [
    "***By our definition for $\\exists$, such an expression is always a Boolean (it acquires this property from $\\forall$):***"
   ]
  },
  {
   "cell_type": "code",
   "execution_count": null,
   "metadata": {
    "collapsed": false
   },
   "outputs": [],
   "source": [
    "existsInBool = Forall((P, Qmulti, S), inBool(Exists(xMulti, PxEtc, S, etc_QxEtc)))"
   ]
  },
  {
   "cell_type": "markdown",
   "metadata": {},
   "source": [
    "***Providing a legitimate example is one way to prove that something exists:***"
   ]
  },
  {
   "cell_type": "code",
   "execution_count": null,
   "metadata": {
    "collapsed": false
   },
   "outputs": [],
   "source": [
    "existenceByExample = Forall((P, Qmulti, S), Forall(xMulti, Implies(PxEtc, \n",
    "                                                                   Exists(yMulti, PyEtc, S, etc_QyEtc)), \n",
    "                                                   S, etc_QxEtc))"
   ]
  },
  {
   "cell_type": "markdown",
   "metadata": {},
   "source": [
    "***If the negation of some instance exists, then it cannot always be true:***"
   ]
  },
  {
   "cell_type": "code",
   "execution_count": null,
   "metadata": {
    "collapsed": false
   },
   "outputs": [],
   "source": [
    "existsNotImpliesNotForall = Forall((P, Qmulti, S), Implies(Exists(xMulti, Not(PxEtc), S, etc_QxEtc), \n",
    "                                                           Not(Forall(xMulti, PxEtc, S, etc_QxEtc))))"
   ]
  },
  {
   "cell_type": "markdown",
   "metadata": {},
   "source": [
    "***Negating both sides of existsDef:***"
   ]
  },
  {
   "cell_type": "code",
   "execution_count": null,
   "metadata": {
    "collapsed": false
   },
   "outputs": [],
   "source": [
    "existsDefNegation = Forall((P, Qmulti, S), Equals(NotExists(xMulti, PxEtc, S, etc_QxEtc), \n",
    "                                                  Forall(xMulti, NotEquals(PxEtc, TRUE), S, etc_QxEtc)))"
   ]
  },
  {
   "cell_type": "markdown",
   "metadata": {},
   "source": [
    "***\"Unfold\" $\\nexists$ to $\\lnot \\exists$:***"
   ]
  },
  {
   "cell_type": "code",
   "execution_count": null,
   "metadata": {
    "collapsed": false
   },
   "outputs": [],
   "source": [
    "notExistsUnfolding = Forall((P, Qmulti, S), Implies(NotExists(xMulti, PxEtc, S, etc_QxEtc), \n",
    "                                                    Not(Exists(xMulti, PxEtc, S, etc_QxEtc))))"
   ]
  },
  {
   "cell_type": "markdown",
   "metadata": {},
   "source": [
    "***\"Fold\" $\\lnot \\exists$ into $\\nexists$:***"
   ]
  },
  {
   "cell_type": "code",
   "execution_count": null,
   "metadata": {
    "collapsed": false
   },
   "outputs": [],
   "source": [
    "notExistsFolding = Forall((P, Qmulti, S), Implies(Not(Exists(xMulti, PxEtc, S, etc_QxEtc)), \n",
    "                                                  NotExists(xMulti, PxEtc, S, etc_QxEtc)))"
   ]
  },
  {
   "cell_type": "markdown",
   "metadata": {},
   "source": [
    "***If all instances are true, then there exists no counter-example:***"
   ]
  },
  {
   "cell_type": "code",
   "execution_count": null,
   "metadata": {
    "collapsed": false
   },
   "outputs": [],
   "source": [
    "forallImpliesNotExistsNot = Forall((P, Qmulti, S), Implies(Forall(xMulti, PxEtc, S, etc_QxEtc), \n",
    "                                                           NotExists(xMulti, Not(PxEtc), S, etc_QxEtc)))"
   ]
  },
  {
   "cell_type": "code",
   "execution_count": null,
   "metadata": {
    "collapsed": false
   },
   "outputs": [],
   "source": [
    "%end_theorems"
   ]
  },
  {
   "cell_type": "code",
   "execution_count": null,
   "metadata": {
    "collapsed": true
   },
   "outputs": [],
   "source": []
  }
 ],
 "metadata": {
  "kernelspec": {
   "display_name": "Python 2",
   "language": "python",
   "name": "python2"
  },
  "language_info": {
   "codemirror_mode": {
    "name": "ipython",
    "version": 2
   },
   "file_extension": ".py",
   "mimetype": "text/x-python",
   "name": "python",
   "nbconvert_exporter": "python",
   "pygments_lexer": "ipython2",
   "version": "2.7.11"
  }
 },
 "nbformat": 4,
 "nbformat_minor": 0
}