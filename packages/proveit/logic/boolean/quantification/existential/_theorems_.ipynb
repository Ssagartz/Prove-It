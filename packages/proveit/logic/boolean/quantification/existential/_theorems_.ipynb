{
 "cells": [
  {
   "cell_type": "markdown",
   "metadata": {
    "collapsed": true,
    "deletable": true,
    "editable": true
   },
   "source": [
    "Theorems for context <a href=\"_context_.ipynb\">proveit.logic.boolean.quantification.existential</a>\n",
    "========"
   ]
  },
  {
   "cell_type": "code",
   "execution_count": null,
   "metadata": {
    "collapsed": false,
    "deletable": true,
    "editable": true
   },
   "outputs": [],
   "source": [
    "from proveit.logic import Forall, Exists, NotExists\n",
    "from proveit.logic import Implies, Equals, TRUE, NotEquals, Not, And, inBool, SubsetEq\n",
    "from proveit._common_ import A, B, P, R, S, Qmulti, xMulti, yMulti, zMulti\n",
    "from proveit._common_ import PxEtc, PyEtc, PzEtc, etc_QxEtc, etc_QyEtc, etc_QzEtc, RxEtc, RyEtc, RzEtc\n",
    "%begin_theorems"
   ]
  },
  {
   "cell_type": "markdown",
   "metadata": {
    "deletable": true,
    "editable": true
   },
   "source": [
    "**By our definition for $\\exists$, such an expression is always a Boolean (it acquires this property from $\\forall$):**"
   ]
  },
  {
   "cell_type": "code",
   "execution_count": null,
   "metadata": {
    "collapsed": false,
    "deletable": true,
    "editable": true
   },
   "outputs": [],
   "source": [
    "existsInBool = Forall((P, Qmulti, S), inBool(Exists(xMulti, PxEtc, S, etc_QxEtc)))"
   ]
  },
  {
   "cell_type": "markdown",
   "metadata": {
    "deletable": true,
    "editable": true
   },
   "source": [
    "**Providing a legitimate example is one way to prove that something exists:**"
   ]
  },
  {
   "cell_type": "code",
   "execution_count": null,
   "metadata": {
    "collapsed": false,
    "deletable": true,
    "editable": true
   },
   "outputs": [],
   "source": [
    "existenceByExample = Forall((P, Qmulti, S), Forall(xMulti, Implies(PxEtc, \n",
    "                                                                   Exists(yMulti, PyEtc, S, etc_QyEtc)), \n",
    "                                                   S, etc_QxEtc))"
   ]
  },
  {
   "cell_type": "markdown",
   "metadata": {
    "deletable": true,
    "editable": true
   },
   "source": [
    "**If the negation of some instance exists, then it cannot always be true:**"
   ]
  },
  {
   "cell_type": "code",
   "execution_count": null,
   "metadata": {
    "collapsed": false,
    "deletable": true,
    "editable": true
   },
   "outputs": [],
   "source": [
    "existsNotImpliesNotForall = Forall((P, Qmulti, S), Implies(Exists(xMulti, Not(PxEtc), S, etc_QxEtc), \n",
    "                                                           Not(Forall(xMulti, PxEtc, S, etc_QxEtc))))"
   ]
  },
  {
   "cell_type": "markdown",
   "metadata": {
    "deletable": true,
    "editable": true
   },
   "source": [
    "**Negating both sides of existsDef:**"
   ]
  },
  {
   "cell_type": "code",
   "execution_count": null,
   "metadata": {
    "collapsed": false,
    "deletable": true,
    "editable": true
   },
   "outputs": [],
   "source": [
    "existsDefNegation = Forall((P, Qmulti, S), Equals(NotExists(xMulti, PxEtc, S, etc_QxEtc), \n",
    "                                                  Forall(xMulti, NotEquals(PxEtc, TRUE), S, etc_QxEtc)))"
   ]
  },
  {
   "cell_type": "markdown",
   "metadata": {
    "deletable": true,
    "editable": true
   },
   "source": [
    "**\"Unfold\" $\\nexists$ to $\\lnot \\exists$:**"
   ]
  },
  {
   "cell_type": "code",
   "execution_count": null,
   "metadata": {
    "collapsed": false,
    "deletable": true,
    "editable": true
   },
   "outputs": [],
   "source": [
    "notExistsUnfolding = Forall((P, Qmulti, S), Implies(NotExists(xMulti, PxEtc, S, etc_QxEtc), \n",
    "                                                    Not(Exists(xMulti, PxEtc, S, etc_QxEtc))))"
   ]
  },
  {
   "cell_type": "markdown",
   "metadata": {
    "deletable": true,
    "editable": true
   },
   "source": [
    "**\"Fold\" $\\lnot \\exists$ into $\\nexists$:**"
   ]
  },
  {
   "cell_type": "code",
   "execution_count": null,
   "metadata": {
    "collapsed": false,
    "deletable": true,
    "editable": true
   },
   "outputs": [],
   "source": [
    "notExistsFolding = Forall((P, Qmulti, S), Implies(Not(Exists(xMulti, PxEtc, S, etc_QxEtc)), \n",
    "                                                  NotExists(xMulti, PxEtc, S, etc_QxEtc)))"
   ]
  },
  {
   "cell_type": "markdown",
   "metadata": {
    "deletable": true,
    "editable": true
   },
   "source": [
    "**If all instances are true, then there exists no counter-example:**"
   ]
  },
  {
   "cell_type": "code",
   "execution_count": null,
   "metadata": {
    "collapsed": false,
    "deletable": true,
    "editable": true
   },
   "outputs": [],
   "source": [
    "forallImpliesNotExistsNot = Forall((P, Qmulti, S), Implies(Forall(xMulti, PxEtc, S, etc_QxEtc), \n",
    "                                                           NotExists(xMulti, Not(PxEtc), S, etc_QxEtc)))"
   ]
  },
  {
   "cell_type": "markdown",
   "metadata": {},
   "source": [
    "**If an element exists in $A$ that satisfies some criteria, it also exists in $B$ given that $A \\subseteq B$ (simply because all elements in $A$ also exist in $B$):**"
   ]
  },
  {
   "cell_type": "code",
   "execution_count": null,
   "metadata": {
    "collapsed": false
   },
   "outputs": [],
   "source": [
    "existsInSuperset = Forall((P, Qmulti, A, B), Implies(Exists(xMulti, PxEtc, A, etc_QxEtc),\n",
    "                                                     Exists(yMulti, PyEtc, B, etc_QyEtc)),\n",
    "                          conditions=[SubsetEq(A, B)])"
   ]
  },
  {
   "cell_type": "markdown",
   "metadata": {},
   "source": [
    "**If an element exists in $S$ that satisfies some criteria, it also exists generally with no specified domain:**"
   ]
  },
  {
   "cell_type": "code",
   "execution_count": null,
   "metadata": {
    "collapsed": false
   },
   "outputs": [],
   "source": [
    "existsInGeneral = Forall((P, Qmulti, S), Implies(Exists(xMulti, PxEtc, S, etc_QxEtc),\n",
    "                                                 Exists(yMulti, PyEtc, conditions=[etc_QyEtc])))"
   ]
  },
  {
   "cell_type": "markdown",
   "metadata": {
    "deletable": true,
    "editable": true
   },
   "source": [
    "** If $P(..x..) \\Rightarrow R(..x..)$ for all appropriately conditioned instances, then existence of a satisfying instance of the former implies existence of a satisfying instance of the latter (e.g., the same instance). **"
   ]
  },
  {
   "cell_type": "code",
   "execution_count": null,
   "metadata": {
    "collapsed": false,
    "deletable": true,
    "editable": true
   },
   "outputs": [],
   "source": [
    "existentialImplication = Forall((P, R, Qmulti, S), Implies(Forall(xMulti, RxEtc, S, conditions=[PxEtc, etc_QxEtc]),\n",
    "                                                                Implies(Exists(yMulti, PyEtc, S, etc_QyEtc),\n",
    "                                                                        Exists(zMulti, RzEtc, S, etc_QzEtc))))"
   ]
  },
  {
   "cell_type": "code",
   "execution_count": null,
   "metadata": {
    "collapsed": false,
    "deletable": true,
    "editable": true
   },
   "outputs": [],
   "source": [
    "noDomainExistentialImplication = Forall((P, R, Qmulti), Implies(Forall(xMulti, RxEtc, conditions=[PxEtc, etc_QxEtc]),\n",
    "                                                                       Implies(Exists(yMulti, PyEtc, conditions=etc_QyEtc),\n",
    "                                                                               Exists(zMulti, RzEtc, conditions=etc_QzEtc))))"
   ]
  },
  {
   "cell_type": "code",
   "execution_count": null,
   "metadata": {
    "collapsed": false,
    "deletable": true,
    "editable": true,
    "scrolled": false
   },
   "outputs": [],
   "source": [
    "%end_theorems"
   ]
  },
  {
   "cell_type": "code",
   "execution_count": null,
   "metadata": {
    "collapsed": true,
    "deletable": true,
    "editable": true
   },
   "outputs": [],
   "source": []
  },
  {
   "cell_type": "code",
   "execution_count": null,
   "metadata": {
    "collapsed": true,
    "deletable": true,
    "editable": true
   },
   "outputs": [],
   "source": []
  }
 ],
 "metadata": {
  "kernelspec": {
   "display_name": "Python 2",
   "language": "python",
   "name": "python2"
  },
  "language_info": {
   "codemirror_mode": {
    "name": "ipython",
    "version": 2
   },
   "file_extension": ".py",
   "mimetype": "text/x-python",
   "name": "python",
   "nbconvert_exporter": "python",
   "pygments_lexer": "ipython2",
   "version": "2.7.11"
  }
 },
 "nbformat": 4,
 "nbformat_minor": 0
}