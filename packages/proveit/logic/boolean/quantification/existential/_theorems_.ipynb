{
 "cells": [
  {
   "cell_type": "markdown",
   "metadata": {
    "collapsed": true,
    "deletable": true,
    "editable": true
   },
   "source": [
    "Theorems for context <a href=\"_context_.ipynb\" class=\"ProveItLink\">proveit.logic.boolean.quantification.existential</a>\n",
    "========"
   ]
  },
  {
   "cell_type": "code",
   "execution_count": 1,
   "metadata": {
    "collapsed": false,
    "deletable": true,
    "editable": true
   },
   "outputs": [
    {
     "name": "stdout",
     "output_type": "stream",
     "text": [
      "Defining theorems for context 'proveit.logic.boolean.quantification.existential'\n",
      "Subsequent end-of-cell assignments will define theorems\n",
      "'%end theorems' will finalize the definitions\n"
     ]
    }
   ],
   "source": [
    "from proveit.logic import Forall, Exists, NotExists\n",
    "from proveit.logic import Implies, Equals, TRUE, NotEquals, Not, And, inBool, SubsetEq\n",
    "from proveit.number import Naturals, NaturalsPos, one, Less, LessEq, LesserSequence\n",
    "from proveit._common_ import i, j, k, l, A, B, P, R\n",
    "from proveit.logic._common_ import yIter1l, P_xIter1l, P_yIter1l, iterQ1k, iterQ1k_yIter1l\n",
    "from proveit.logic.boolean.quantification.universal._common_ import generalForall_Px, generalForall_Py, generalForall_PyNotT, generalForall_Rx_given_Px\n",
    "from proveit.logic.boolean.quantification.existential._common_ import generalExists_Px, generalExists_Py, generalExistsInA_Px, generalExistsInB_Py, exists_Px_Q1i_Qjk, generalExists_Rz\n",
    "from proveit.logic.boolean.quantification.existential._common_ import generalNotExists_Px, generalNotExists_Py, generalExists_notPx, generalExists_notPy, generalNotExists_notPx, generalNotExists_notPy\n",
    "%begin theorems"
   ]
  },
  {
   "cell_type": "markdown",
   "metadata": {
    "deletable": true,
    "editable": true
   },
   "source": [
    "**By our definition for $\\exists$, such an expression is always a Boolean (it acquires this property from $\\forall$):**"
   ]
  },
  {
   "cell_type": "code",
   "execution_count": 2,
   "metadata": {
    "collapsed": false,
    "deletable": true,
    "editable": true
   },
   "outputs": [
    {
     "data": {
      "text/html": [
       "<strong id=\"existsInBool\"><a class=\"ProveItLink\" href=\"_proofs_\\existsInBool.ipynb\">existsInBool</a>:</strong> <a class=\"ProveItLink\" href=\"__pv_it\\10cba71374bc37a5634de52314681f46ab910b490\\expr.ipynb\"><img src=\"__pv_it\\10cba71374bc37a5634de52314681f46ab910b490\\expr.png\" style=\"display:inline;vertical-align:middle;\" /></a><br>"
      ],
      "text/plain": [
       "existsInBool: forall_{(k, l) in Naturals * NaturalsPos} [forall_{P, Q_(1),...,Q_(k)} ([exists_{x_(1),...,x_(l) | Q_(1)(x_(1),...,x_(l)) ,  ...  , Q_(k)(x_(1),...,x_(l))} P(x_(1),...,x_(l))] in BOOLEANS)]"
      ]
     },
     "execution_count": 2,
     "metadata": {},
     "output_type": "execute_result"
    }
   ],
   "source": [
    "existsInBool = Forall((k, l), Forall((P, iterQ1k), inBool(generalExists_Px)),\n",
    "                      domains=[Naturals, NaturalsPos])"
   ]
  },
  {
   "cell_type": "markdown",
   "metadata": {
    "deletable": true,
    "editable": true
   },
   "source": [
    "**Providing a legitimate example is one way to prove that something exists:**"
   ]
  },
  {
   "cell_type": "code",
   "execution_count": 3,
   "metadata": {
    "collapsed": false,
    "deletable": true,
    "editable": true
   },
   "outputs": [
    {
     "data": {
      "text/html": [
       "<strong id=\"existenceByExample\"><a class=\"ProveItLink\" href=\"_proofs_\\existenceByExample.ipynb\">existenceByExample</a>:</strong> <a class=\"ProveItLink\" href=\"__pv_it\\61c0ae379291ce98335e814ce318b388f4e174aa0\\expr.ipynb\"><img src=\"__pv_it\\61c0ae379291ce98335e814ce318b388f4e174aa0\\expr.png\" style=\"display:inline;vertical-align:middle;\" /></a><br>"
      ],
      "text/plain": [
       "existenceByExample: forall_{(k, l) in Naturals * NaturalsPos} [forall_{P, Q_(1),...,Q_(k)} [forall_{y_(1),...,y_(l) | Q_(1)(y_(1),...,y_(l)) ,  ...  , Q_(k)(y_(1),...,y_(l))} (P(y_(1),...,y_(l)) =>  \\\\ [exists_{x_(1),...,x_(l) | Q_(1)(x_(1),...,x_(l)) ,  ...  , Q_(k)(x_(1),...,x_(l))} P(x_(1),...,x_(l))])]]"
      ]
     },
     "execution_count": 3,
     "metadata": {},
     "output_type": "execute_result"
    }
   ],
   "source": [
    "existenceByExample = Forall((k, l), \n",
    "                            Forall((P, iterQ1k),\n",
    "                                    Forall(yIter1l,\n",
    "                                           Implies(P_yIter1l, generalExists_Px).withWrapAfterOperator(),\n",
    "                                           conditions=[iterQ1k_yIter1l])),\n",
    "                            domains=[Naturals, NaturalsPos])"
   ]
  },
  {
   "cell_type": "markdown",
   "metadata": {
    "deletable": true,
    "editable": true
   },
   "source": [
    "**If the negation of some instance exists, then it cannot always be true:**"
   ]
  },
  {
   "cell_type": "code",
   "execution_count": 4,
   "metadata": {
    "collapsed": false,
    "deletable": true,
    "editable": true
   },
   "outputs": [
    {
     "data": {
      "text/html": [
       "<strong id=\"existsNotImpliesNotForall\"><a class=\"ProveItLink\" href=\"_proofs_\\existsNotImpliesNotForall.ipynb\">existsNotImpliesNotForall</a>:</strong> <a class=\"ProveItLink\" href=\"__pv_it\\6883a8b9c73f0c38889804ecb8cf5d7b87dab9cc0\\expr.ipynb\"><img src=\"__pv_it\\6883a8b9c73f0c38889804ecb8cf5d7b87dab9cc0\\expr.png\" style=\"display:inline;vertical-align:middle;\" /></a><br>"
      ],
      "text/plain": [
       "existsNotImpliesNotForall: forall_{(k, l) in Naturals * NaturalsPos} [forall_{P, Q_(1),...,Q_(k)} ([exists_{x_(1),...,x_(l) | Q_(1)(x_(1),...,x_(l)) ,  ...  , Q_(k)(x_(1),...,x_(l))} [not](P(x_(1),...,x_(l)))] =>  \\\\ [not](forall_{y_(1),...,y_(l) | Q_(1)(y_(1),...,y_(l)) ,  ...  , Q_(k)(y_(1),...,y_(l))} P(y_(1),...,y_(l))))]"
      ]
     },
     "execution_count": 4,
     "metadata": {},
     "output_type": "execute_result"
    }
   ],
   "source": [
    "existsNotImpliesNotForall = Forall((k, l), Forall((P, iterQ1k), \n",
    "                                     Implies(generalExists_notPx, Not(generalForall_Py)).withWrapAfterOperator()),\n",
    "                      domains=[Naturals, NaturalsPos])"
   ]
  },
  {
   "cell_type": "markdown",
   "metadata": {
    "deletable": true,
    "editable": true
   },
   "source": [
    "**Negating both sides of existsDef:**"
   ]
  },
  {
   "cell_type": "code",
   "execution_count": 5,
   "metadata": {
    "collapsed": false,
    "deletable": true,
    "editable": true
   },
   "outputs": [
    {
     "data": {
      "text/html": [
       "<strong id=\"existsDefNegation\"><a class=\"ProveItLink\" href=\"_proofs_\\existsDefNegation.ipynb\">existsDefNegation</a>:</strong> <a class=\"ProveItLink\" href=\"__pv_it\\32bc9d7cdc39a8d6996c2b0294fa6ddbe50c40ba0\\expr.ipynb\"><img src=\"__pv_it\\32bc9d7cdc39a8d6996c2b0294fa6ddbe50c40ba0\\expr.png\" style=\"display:inline;vertical-align:middle;\" /></a><br>"
      ],
      "text/plain": [
       "existsDefNegation: forall_{(k, l) in Naturals * NaturalsPos} [forall_{P, Q_(1),...,Q_(k)} ([notexists_{x_(1),...,x_(l) | Q_(1)(x_(1),...,x_(l)) ,  ...  , Q_(k)(x_(1),...,x_(l))} P(x_(1),...,x_(l))] =  \\\\ [forall_{y_(1),...,y_(l) | Q_(1)(y_(1),...,y_(l)) ,  ...  , Q_(k)(y_(1),...,y_(l))} (P(y_(1),...,y_(l)) != TRUE)])]"
      ]
     },
     "execution_count": 5,
     "metadata": {},
     "output_type": "execute_result"
    }
   ],
   "source": [
    "existsDefNegation = Forall((k, l), Forall((P, iterQ1k),\n",
    "                                          Equals(generalNotExists_Px, generalForall_PyNotT).withWrapAfterOperator()),\n",
    "                           domains=[Naturals, NaturalsPos])"
   ]
  },
  {
   "cell_type": "markdown",
   "metadata": {
    "deletable": true,
    "editable": true
   },
   "source": [
    "**\"Unfold\" $\\nexists$ to $\\lnot \\exists$:**"
   ]
  },
  {
   "cell_type": "code",
   "execution_count": 6,
   "metadata": {
    "collapsed": false,
    "deletable": true,
    "editable": true
   },
   "outputs": [
    {
     "data": {
      "text/html": [
       "<strong id=\"notExistsUnfolding\"><a class=\"ProveItLink\" href=\"_proofs_\\notExistsUnfolding.ipynb\">notExistsUnfolding</a>:</strong> <a class=\"ProveItLink\" href=\"__pv_it\\c3539b30ff3e8b176b61584b92c64dfd4663a4bc0\\expr.ipynb\"><img src=\"__pv_it\\c3539b30ff3e8b176b61584b92c64dfd4663a4bc0\\expr.png\" style=\"display:inline;vertical-align:middle;\" /></a><br>"
      ],
      "text/plain": [
       "notExistsUnfolding: forall_{(k, l) in Naturals * NaturalsPos} [forall_{P, Q_(1),...,Q_(k)} ([notexists_{x_(1),...,x_(l) | Q_(1)(x_(1),...,x_(l)) ,  ...  , Q_(k)(x_(1),...,x_(l))} P(x_(1),...,x_(l))] =>  \\\\ [not](exists_{y_(1),...,y_(l) | Q_(1)(y_(1),...,y_(l)) ,  ...  , Q_(k)(y_(1),...,y_(l))} P(y_(1),...,y_(l))))]"
      ]
     },
     "execution_count": 6,
     "metadata": {},
     "output_type": "execute_result"
    }
   ],
   "source": [
    "notExistsUnfolding = Forall((k, l), Forall((P, iterQ1k), \n",
    "                                           Implies(generalNotExists_Px, Not(generalExists_Py)).withWrapAfterOperator()),\n",
    "                           domains=[Naturals, NaturalsPos])"
   ]
  },
  {
   "cell_type": "markdown",
   "metadata": {
    "deletable": true,
    "editable": true
   },
   "source": [
    "**\"Fold\" $\\lnot \\exists$ into $\\nexists$:**"
   ]
  },
  {
   "cell_type": "code",
   "execution_count": 7,
   "metadata": {
    "collapsed": false,
    "deletable": true,
    "editable": true
   },
   "outputs": [
    {
     "data": {
      "text/html": [
       "<strong id=\"notExistsFolding\"><a class=\"ProveItLink\" href=\"_proofs_\\notExistsFolding.ipynb\">notExistsFolding</a>:</strong> <a class=\"ProveItLink\" href=\"__pv_it\\d9a18813e1de04c55e5e4e63b5316f59dd57d4260\\expr.ipynb\"><img src=\"__pv_it\\d9a18813e1de04c55e5e4e63b5316f59dd57d4260\\expr.png\" style=\"display:inline;vertical-align:middle;\" /></a><br>"
      ],
      "text/plain": [
       "notExistsFolding: forall_{(k, l) in Naturals * NaturalsPos} [forall_{P, Q_(1),...,Q_(k)} ([not](exists_{x_(1),...,x_(l) | Q_(1)(x_(1),...,x_(l)) ,  ...  , Q_(k)(x_(1),...,x_(l))} P(x_(1),...,x_(l))) =>  \\\\ [notexists_{y_(1),...,y_(l) | Q_(1)(y_(1),...,y_(l)) ,  ...  , Q_(k)(y_(1),...,y_(l))} P(y_(1),...,y_(l))])]"
      ]
     },
     "execution_count": 7,
     "metadata": {},
     "output_type": "execute_result"
    }
   ],
   "source": [
    "notExistsFolding = Forall((k, l), Forall((P, iterQ1k),\n",
    "                                         Implies(Not(generalExists_Px), generalNotExists_Py).withWrapAfterOperator()),\n",
    "                          domains=[Naturals, NaturalsPos])"
   ]
  },
  {
   "cell_type": "markdown",
   "metadata": {
    "deletable": true,
    "editable": true
   },
   "source": [
    "**If all instances are true, then there exists no counter-example:**"
   ]
  },
  {
   "cell_type": "code",
   "execution_count": 8,
   "metadata": {
    "collapsed": false,
    "deletable": true,
    "editable": true
   },
   "outputs": [
    {
     "data": {
      "text/html": [
       "<strong id=\"forallImpliesNotExistsNot\"><a class=\"ProveItLink\" href=\"_proofs_\\forallImpliesNotExistsNot.ipynb\">forallImpliesNotExistsNot</a>:</strong> <a class=\"ProveItLink\" href=\"__pv_it\\c60ab30780ed77bc470378a6bf76776e2f2bd89a0\\expr.ipynb\"><img src=\"__pv_it\\c60ab30780ed77bc470378a6bf76776e2f2bd89a0\\expr.png\" style=\"display:inline;vertical-align:middle;\" /></a><br>"
      ],
      "text/plain": [
       "forallImpliesNotExistsNot: forall_{(k, l) in Naturals * NaturalsPos} [forall_{P, Q_(1),...,Q_(k)} ([forall_{x_(1),...,x_(l) | Q_(1)(x_(1),...,x_(l)) ,  ...  , Q_(k)(x_(1),...,x_(l))} P(x_(1),...,x_(l))] =>  \\\\ [notexists_{y_(1),...,y_(l) | Q_(1)(y_(1),...,y_(l)) ,  ...  , Q_(k)(y_(1),...,y_(l))} [not](P(y_(1),...,y_(l)))])]"
      ]
     },
     "execution_count": 8,
     "metadata": {},
     "output_type": "execute_result"
    }
   ],
   "source": [
    "forallImpliesNotExistsNot = Forall((k, l), Forall((P, iterQ1k),\n",
    "                                                  Implies(generalForall_Px, \n",
    "                                                          generalNotExists_notPy).withWrapAfterOperator()),\n",
    "                                  domains=[Naturals, NaturalsPos])"
   ]
  },
  {
   "cell_type": "markdown",
   "metadata": {
    "deletable": true,
    "editable": true
   },
   "source": [
    "**If elements exists in $A$ that satisfies some criteria, they also exist in $B$ given that $A \\subseteq B$ (simply because all elements in $A$ also exist in $B$):**"
   ]
  },
  {
   "cell_type": "code",
   "execution_count": 9,
   "metadata": {
    "collapsed": false,
    "deletable": true,
    "editable": true
   },
   "outputs": [
    {
     "data": {
      "text/html": [
       "<strong id=\"existsInSuperset\"><a class=\"ProveItLink\" href=\"_proofs_\\existsInSuperset.ipynb\">existsInSuperset</a>:</strong> <a class=\"ProveItLink\" href=\"__pv_it\\08399b35241bb77841c9e5f6bf124e2b30f199d90\\expr.ipynb\"><img src=\"__pv_it\\08399b35241bb77841c9e5f6bf124e2b30f199d90\\expr.png\" style=\"display:inline;vertical-align:middle;\" /></a><br>"
      ],
      "text/plain": [
       "existsInSuperset: forall_{(k, l) in Naturals * NaturalsPos} [forall_{P, A, B, Q_(1),...,Q_(k) | A subseteq B} ([exists_{x_(1),...,x_(l) in A | Q_(1)(x_(1),...,x_(l)) ,  ...  , Q_(k)(x_(1),...,x_(l))} P(x_(1),...,x_(l))] =>  \\\\ [exists_{y_(1),...,y_(l) in B | Q_(1)(y_(1),...,y_(l)) ,  ...  , Q_(k)(y_(1),...,y_(l))} P(y_(1),...,y_(l))])]"
      ]
     },
     "execution_count": 9,
     "metadata": {},
     "output_type": "execute_result"
    }
   ],
   "source": [
    "existsInSuperset = Forall((k, l), Forall((P, A, B, iterQ1k),\n",
    "                                         Implies(generalExistsInA_Px, generalExistsInB_Py).withWrapAfterOperator(),\n",
    "                                         conditions=[SubsetEq(A, B)]),\n",
    "                         domains=[Naturals, NaturalsPos])"
   ]
  },
  {
   "cell_type": "markdown",
   "metadata": {
    "deletable": true,
    "editable": true
   },
   "source": [
    "**If an element exists satisfies some criteria under a certain set of conditions, it also exists under less restrictive criteria:**"
   ]
  },
  {
   "cell_type": "code",
   "execution_count": 10,
   "metadata": {
    "collapsed": false,
    "deletable": true,
    "editable": true
   },
   "outputs": [
    {
     "data": {
      "text/html": [
       "<strong id=\"existsMoreGenerally\"><a class=\"ProveItLink\" href=\"_proofs_\\existsMoreGenerally.ipynb\">existsMoreGenerally</a>:</strong> <a class=\"ProveItLink\" href=\"__pv_it\\591a7b691ed10072abeded47a409c8de93c5907e0\\expr.ipynb\"><img src=\"__pv_it\\591a7b691ed10072abeded47a409c8de93c5907e0\\expr.png\" style=\"display:inline;vertical-align:middle;\" /></a><br>"
      ],
      "text/plain": [
       "existsMoreGenerally: forall_{i, j, k in Naturals | 1 <= i < j <= k} [forall_{l in NaturalsPos} [forall_{P, Q_(1),...,Q_(k)} ([exists_{x_(1),...,x_(l) | Q_(1)(x_(1),...,x_(l)) ,  ...  , Q_(k)(x_(1),...,x_(l))} P(x_(1),...,x_(l))] =>  \\\\ [exists_{x_(1),...,x_(l) | Q_(1)(x_(1),...,x_(l)) ,  ...  , Q_(i)(x_(1),...,x_(l)) , Q_(j)(x_(1),...,x_(l)) ,  ...  , Q_(k)(x_(1),...,x_(l))} P(x_(1),...,x_(l))])]]"
      ]
     },
     "execution_count": 10,
     "metadata": {},
     "output_type": "execute_result"
    }
   ],
   "source": [
    "LessOp = Less._operator_\n",
    "LessEqOp = LessEq._operator_\n",
    "existsMoreGenerally = Forall((i, j, k), \n",
    "                             Forall(l, Forall((P, iterQ1k), \n",
    "                                              Implies(generalExists_Px,\n",
    "                                                      exists_Px_Q1i_Qjk).withWrapAfterOperator()),\n",
    "                                    domain=NaturalsPos),\n",
    "                             domain=Naturals, \n",
    "                             conditions=[LesserSequence((LessEqOp, LessOp, LessEqOp),\n",
    "                                                        (one, i, j, k))])"
   ]
  },
  {
   "cell_type": "markdown",
   "metadata": {
    "deletable": true,
    "editable": true
   },
   "source": [
    "** If $P(x_{1},\\ldots,x_{l})$ given $R(x_1,\\ldots,x_{l})$ for all appropriately conditioned instances, then existence of a satisfying instance of the former implies existence of a satisfying instance of the latter (e.g., the same instance). **"
   ]
  },
  {
   "cell_type": "code",
   "execution_count": 11,
   "metadata": {
    "collapsed": false,
    "deletable": true,
    "editable": true
   },
   "outputs": [
    {
     "data": {
      "text/html": [
       "<strong id=\"existentialImplication\"><a class=\"ProveItLink\" href=\"_proofs_\\existentialImplication.ipynb\">existentialImplication</a>:</strong> <a class=\"ProveItLink\" href=\"__pv_it\\2578fe408138462a15b76748f4b5c2cb7332a6a70\\expr.ipynb\"><img src=\"__pv_it\\2578fe408138462a15b76748f4b5c2cb7332a6a70\\expr.png\" style=\"display:inline;vertical-align:middle;\" /></a><br>"
      ],
      "text/plain": [
       "existentialImplication: forall_{(k, l) in Naturals * NaturalsPos} [forall_{P, Q_(1),...,Q_(k), R} ([forall_{x_(1),...,x_(l) | P(x_(1),...,x_(l)) , Q_(1)(x_(1),...,x_(l)) ,  ...  , Q_(k)(x_(1),...,x_(l))} R(x_(1),...,x_(l))] =>  \\\\ ([exists_{y_(1),...,y_(l) | Q_(1)(y_(1),...,y_(l)) ,  ...  , Q_(k)(y_(1),...,y_(l))} P(y_(1),...,y_(l))] =>  \\\\ [exists_{z_(1),...,z_(l) | Q_(1)(z_(1),...,z_(l)) ,  ...  , Q_(k)(z_(1),...,z_(l))} R(z_(1),...,z_(l))]))]"
      ]
     },
     "execution_count": 11,
     "metadata": {},
     "output_type": "execute_result"
    }
   ],
   "source": [
    "existentialImplication = Forall((k, l), Forall((P, iterQ1k, R),\n",
    "                                               Implies(generalForall_Rx_given_Px,\n",
    "                                                       Implies(generalExists_Py,\n",
    "                                                               generalExists_Rz).withWrapAfterOperator()).withWrapAfterOperator()),\n",
    "                                domains=[Naturals, NaturalsPos])"
   ]
  },
  {
   "cell_type": "code",
   "execution_count": 12,
   "metadata": {
    "collapsed": false,
    "deletable": true,
    "editable": true,
    "scrolled": false
   },
   "outputs": [
    {
     "name": "stdout",
     "output_type": "stream",
     "text": [
      "Theorems may be imported from autogenerated _theorems_.py\n"
     ]
    }
   ],
   "source": [
    "%end theorems"
   ]
  },
  {
   "cell_type": "code",
   "execution_count": 13,
   "metadata": {
    "collapsed": true,
    "deletable": true,
    "editable": true
   },
   "outputs": [],
   "source": []
  },
  {
   "cell_type": "code",
   "execution_count": 13,
   "metadata": {
    "collapsed": true,
    "deletable": true,
    "editable": true
   },
   "outputs": [],
   "source": []
  }
 ],
 "metadata": {
  "kernelspec": {
   "display_name": "Python 2",
   "language": "python",
   "name": "python2"
  },
  "language_info": {
   "codemirror_mode": {
    "name": "ipython",
    "version": 2
   },
   "file_extension": ".py",
   "mimetype": "text/x-python",
   "name": "python",
   "nbconvert_exporter": "python",
   "pygments_lexer": "ipython2",
   "version": "2.7.11"
  }
 },
 "nbformat": 4,
 "nbformat_minor": 0
}
