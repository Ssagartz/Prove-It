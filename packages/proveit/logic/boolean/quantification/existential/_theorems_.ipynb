{
 "cells": [
  {
   "cell_type": "markdown",
   "metadata": {
    "collapsed": true,
    "deletable": true,
    "editable": true
   },
   "source": [
    "Theorems for context <a href=\"_context_.ipynb\" class=\"ProveItLink\">proveit.logic.boolean.quantification.existential</a>\n",
    "========"
   ]
  },
  {
   "cell_type": "code",
   "execution_count": 1,
   "metadata": {
    "collapsed": false,
    "deletable": true,
    "editable": true
   },
   "outputs": [
    {
     "name": "stdout",
     "output_type": "stream",
     "text": [
      "Defining theorems for context 'proveit.logic.boolean.quantification.existential'\n",
      "Subsequent end-of-cell assignments will define theorems\n",
      "'%end theorems' will finalize the definitions\n"
     ]
    }
   ],
   "source": [
    "from proveit.logic import Forall, Exists, NotExists\n",
    "from proveit.logic import Implies, Equals, TRUE, NotEquals, Not, And, inBool, SubsetEq\n",
    "from proveit._common_ import A, B, P, R, S, Qmulti, xMulti, yMulti, zMulti\n",
    "from proveit._common_ import PxEtc, PyEtc, PzEtc, etc_QxEtc, etc_QyEtc, etc_QzEtc, RxEtc, RyEtc, RzEtc\n",
    "%begin theorems"
   ]
  },
  {
   "cell_type": "markdown",
   "metadata": {
    "deletable": true,
    "editable": true
   },
   "source": [
    "**By our definition for $\\exists$, such an expression is always a Boolean (it acquires this property from $\\forall$):**"
   ]
  },
  {
   "cell_type": "code",
   "execution_count": 2,
   "metadata": {
    "collapsed": false,
    "deletable": true,
    "editable": true
   },
   "outputs": [
    {
     "data": {
      "text/html": [
       "<strong id=\"existsInBool\"><a class=\"ProveItLink\" href=\"_proofs_\\existsInBool.ipynb\" target=\"_blank\">existsInBool</a>:</strong> <a href=\"__pv_it\\84700d9fefa54ea1d425e5f5147806a4ff4396650\\expr.ipynb\" target=\"_blank\"><img src=\"__pv_it\\84700d9fefa54ea1d425e5f5147806a4ff4396650\\expr.png\" style=\"display:inline;vertical-align:middle;\" /></a><br>"
      ],
      "text/plain": [
       "existsInBool: forall_{P, Q_{#}, S} ([exists_{x_{*} in S |  ..,Q_{#}( ..,x_{*},.. ),.. } P( ..,x_{*},.. )] in BOOLEANS)"
      ]
     },
     "execution_count": 2,
     "metadata": {},
     "output_type": "execute_result"
    }
   ],
   "source": [
    "existsInBool = Forall((P, Qmulti, S), inBool(Exists(xMulti, PxEtc, S, etc_QxEtc)))"
   ]
  },
  {
   "cell_type": "markdown",
   "metadata": {
    "deletable": true,
    "editable": true
   },
   "source": [
    "**Providing a legitimate example is one way to prove that something exists:**"
   ]
  },
  {
   "cell_type": "code",
   "execution_count": 3,
   "metadata": {
    "collapsed": false,
    "deletable": true,
    "editable": true
   },
   "outputs": [
    {
     "data": {
      "text/html": [
       "<strong id=\"existenceByExample\"><a class=\"ProveItLink\" href=\"_proofs_\\existenceByExample.ipynb\" target=\"_blank\">existenceByExample</a>:</strong> <a href=\"__pv_it\\bc2bd06df4a38a6f1f0897e25770909436175d1b0\\expr.ipynb\" target=\"_blank\"><img src=\"__pv_it\\bc2bd06df4a38a6f1f0897e25770909436175d1b0\\expr.png\" style=\"display:inline;vertical-align:middle;\" /></a><br>"
      ],
      "text/plain": [
       "existenceByExample: forall_{P, Q_{#}, S} [forall_{x_{*} in S |  ..,Q_{#}( ..,x_{*},.. ),.. } (P( ..,x_{*},.. ) => [exists_{y_{*} in S |  ..,Q_{#}( ..,y_{*},.. ),.. } P( ..,y_{*},.. )])]"
      ]
     },
     "execution_count": 3,
     "metadata": {},
     "output_type": "execute_result"
    }
   ],
   "source": [
    "existenceByExample = Forall((P, Qmulti, S), Forall(xMulti, Implies(PxEtc, \n",
    "                                                                   Exists(yMulti, PyEtc, S, etc_QyEtc)), \n",
    "                                                   S, etc_QxEtc))"
   ]
  },
  {
   "cell_type": "markdown",
   "metadata": {
    "deletable": true,
    "editable": true
   },
   "source": [
    "**If the negation of some instance exists, then it cannot always be true:**"
   ]
  },
  {
   "cell_type": "code",
   "execution_count": 4,
   "metadata": {
    "collapsed": false,
    "deletable": true,
    "editable": true
   },
   "outputs": [
    {
     "data": {
      "text/html": [
       "<strong id=\"existsNotImpliesNotForall\"><a class=\"ProveItLink\" href=\"_proofs_\\existsNotImpliesNotForall.ipynb\" target=\"_blank\">existsNotImpliesNotForall</a>:</strong> <a href=\"__pv_it\\d4bc3a79fce958a589b27184855c0498ae128f210\\expr.ipynb\" target=\"_blank\"><img src=\"__pv_it\\d4bc3a79fce958a589b27184855c0498ae128f210\\expr.png\" style=\"display:inline;vertical-align:middle;\" /></a><br>"
      ],
      "text/plain": [
       "existsNotImpliesNotForall: forall_{P, Q_{#}, S} ([exists_{x_{*} in S |  ..,Q_{#}( ..,x_{*},.. ),.. } not(P( ..,x_{*},.. ))] => not(forall_{x_{*} in S |  ..,Q_{#}( ..,x_{*},.. ),.. } P( ..,x_{*},.. )))"
      ]
     },
     "execution_count": 4,
     "metadata": {},
     "output_type": "execute_result"
    }
   ],
   "source": [
    "existsNotImpliesNotForall = Forall((P, Qmulti, S), Implies(Exists(xMulti, Not(PxEtc), S, etc_QxEtc), \n",
    "                                                           Not(Forall(xMulti, PxEtc, S, etc_QxEtc))))"
   ]
  },
  {
   "cell_type": "markdown",
   "metadata": {
    "deletable": true,
    "editable": true
   },
   "source": [
    "**Negating both sides of existsDef:**"
   ]
  },
  {
   "cell_type": "code",
   "execution_count": 5,
   "metadata": {
    "collapsed": false,
    "deletable": true,
    "editable": true
   },
   "outputs": [
    {
     "data": {
      "text/html": [
       "<strong id=\"existsDefNegation\"><a class=\"ProveItLink\" href=\"_proofs_\\existsDefNegation.ipynb\" target=\"_blank\">existsDefNegation</a>:</strong> <a href=\"__pv_it\\e304fe195c1d88c93b5cd79ab69083b7a12411be0\\expr.ipynb\" target=\"_blank\"><img src=\"__pv_it\\e304fe195c1d88c93b5cd79ab69083b7a12411be0\\expr.png\" style=\"display:inline;vertical-align:middle;\" /></a><br>"
      ],
      "text/plain": [
       "existsDefNegation: forall_{P, Q_{#}, S} ([notexists_{x_{*} in S |  ..,Q_{#}( ..,x_{*},.. ),.. } P( ..,x_{*},.. )] = [forall_{x_{*} in S |  ..,Q_{#}( ..,x_{*},.. ),.. } (P( ..,x_{*},.. ) != TRUE)])"
      ]
     },
     "execution_count": 5,
     "metadata": {},
     "output_type": "execute_result"
    }
   ],
   "source": [
    "existsDefNegation = Forall((P, Qmulti, S), Equals(NotExists(xMulti, PxEtc, S, etc_QxEtc), \n",
    "                                                  Forall(xMulti, NotEquals(PxEtc, TRUE), S, etc_QxEtc)))"
   ]
  },
  {
   "cell_type": "markdown",
   "metadata": {
    "deletable": true,
    "editable": true
   },
   "source": [
    "**\"Unfold\" $\\nexists$ to $\\lnot \\exists$:**"
   ]
  },
  {
   "cell_type": "code",
   "execution_count": 6,
   "metadata": {
    "collapsed": false,
    "deletable": true,
    "editable": true
   },
   "outputs": [
    {
     "data": {
      "text/html": [
       "<strong id=\"notExistsUnfolding\"><a class=\"ProveItLink\" href=\"_proofs_\\notExistsUnfolding.ipynb\" target=\"_blank\">notExistsUnfolding</a>:</strong> <a href=\"__pv_it\\22b0cfceaa9ba294293316d6478da37e53220b130\\expr.ipynb\" target=\"_blank\"><img src=\"__pv_it\\22b0cfceaa9ba294293316d6478da37e53220b130\\expr.png\" style=\"display:inline;vertical-align:middle;\" /></a><br>"
      ],
      "text/plain": [
       "notExistsUnfolding: forall_{P, Q_{#}, S} ([notexists_{x_{*} in S |  ..,Q_{#}( ..,x_{*},.. ),.. } P( ..,x_{*},.. )] => not(exists_{x_{*} in S |  ..,Q_{#}( ..,x_{*},.. ),.. } P( ..,x_{*},.. )))"
      ]
     },
     "execution_count": 6,
     "metadata": {},
     "output_type": "execute_result"
    }
   ],
   "source": [
    "notExistsUnfolding = Forall((P, Qmulti, S), Implies(NotExists(xMulti, PxEtc, S, etc_QxEtc), \n",
    "                                                    Not(Exists(xMulti, PxEtc, S, etc_QxEtc))))"
   ]
  },
  {
   "cell_type": "markdown",
   "metadata": {
    "deletable": true,
    "editable": true
   },
   "source": [
    "**\"Fold\" $\\lnot \\exists$ into $\\nexists$:**"
   ]
  },
  {
   "cell_type": "code",
   "execution_count": 7,
   "metadata": {
    "collapsed": false,
    "deletable": true,
    "editable": true
   },
   "outputs": [
    {
     "data": {
      "text/html": [
       "<strong id=\"notExistsFolding\"><a class=\"ProveItLink\" href=\"_proofs_\\notExistsFolding.ipynb\" target=\"_blank\">notExistsFolding</a>:</strong> <a href=\"__pv_it\\001ea83b9779952cbaf541294b7e9d2f7afb20930\\expr.ipynb\" target=\"_blank\"><img src=\"__pv_it\\001ea83b9779952cbaf541294b7e9d2f7afb20930\\expr.png\" style=\"display:inline;vertical-align:middle;\" /></a><br>"
      ],
      "text/plain": [
       "notExistsFolding: forall_{P, Q_{#}, S} (not(exists_{x_{*} in S |  ..,Q_{#}( ..,x_{*},.. ),.. } P( ..,x_{*},.. )) => [notexists_{x_{*} in S |  ..,Q_{#}( ..,x_{*},.. ),.. } P( ..,x_{*},.. )])"
      ]
     },
     "execution_count": 7,
     "metadata": {},
     "output_type": "execute_result"
    }
   ],
   "source": [
    "notExistsFolding = Forall((P, Qmulti, S), Implies(Not(Exists(xMulti, PxEtc, S, etc_QxEtc)), \n",
    "                                                  NotExists(xMulti, PxEtc, S, etc_QxEtc)))"
   ]
  },
  {
   "cell_type": "markdown",
   "metadata": {
    "deletable": true,
    "editable": true
   },
   "source": [
    "**If all instances are true, then there exists no counter-example:**"
   ]
  },
  {
   "cell_type": "code",
   "execution_count": 8,
   "metadata": {
    "collapsed": false,
    "deletable": true,
    "editable": true
   },
   "outputs": [
    {
     "data": {
      "text/html": [
       "<strong id=\"forallImpliesNotExistsNot\"><a class=\"ProveItLink\" href=\"_proofs_\\forallImpliesNotExistsNot.ipynb\" target=\"_blank\">forallImpliesNotExistsNot</a>:</strong> <a href=\"__pv_it\\5c82fbbeaa194e33fb66e5df9d65f1958495a69c0\\expr.ipynb\" target=\"_blank\"><img src=\"__pv_it\\5c82fbbeaa194e33fb66e5df9d65f1958495a69c0\\expr.png\" style=\"display:inline;vertical-align:middle;\" /></a><br>"
      ],
      "text/plain": [
       "forallImpliesNotExistsNot: forall_{P, Q_{#}, S} ([forall_{x_{*} in S |  ..,Q_{#}( ..,x_{*},.. ),.. } P( ..,x_{*},.. )] => [notexists_{x_{*} in S |  ..,Q_{#}( ..,x_{*},.. ),.. } not(P( ..,x_{*},.. ))])"
      ]
     },
     "execution_count": 8,
     "metadata": {},
     "output_type": "execute_result"
    }
   ],
   "source": [
    "forallImpliesNotExistsNot = Forall((P, Qmulti, S), Implies(Forall(xMulti, PxEtc, S, etc_QxEtc), \n",
    "                                                           NotExists(xMulti, Not(PxEtc), S, etc_QxEtc)))"
   ]
  },
  {
   "cell_type": "markdown",
   "metadata": {},
   "source": [
    "**If an element exists in $A$ that satisfies some criteria, it also exists in $B$ given that $A \\subseteq B$ (simply because all elements in $A$ also exist in $B$):**"
   ]
  },
  {
   "cell_type": "code",
   "execution_count": 9,
   "metadata": {
    "collapsed": false
   },
   "outputs": [
    {
     "data": {
      "text/html": [
       "<strong id=\"existsInSuperset\"><a class=\"ProveItLink\" href=\"_proofs_\\existsInSuperset.ipynb\" target=\"_blank\">existsInSuperset</a>:</strong> <a href=\"__pv_it\\3553eebe48263e45c92d07a6b13cb954649b9f4b0\\expr.ipynb\" target=\"_blank\"><img src=\"__pv_it\\3553eebe48263e45c92d07a6b13cb954649b9f4b0\\expr.png\" style=\"display:inline;vertical-align:middle;\" /></a><br>"
      ],
      "text/plain": [
       "existsInSuperset: forall_{P, Q_{#}, A, B | (A subseteq B)} ([exists_{x_{*} in A |  ..,Q_{#}( ..,x_{*},.. ),.. } P( ..,x_{*},.. )] => [exists_{y_{*} in B |  ..,Q_{#}( ..,y_{*},.. ),.. } P( ..,y_{*},.. )])"
      ]
     },
     "execution_count": 9,
     "metadata": {},
     "output_type": "execute_result"
    }
   ],
   "source": [
    "existsInSuperset = Forall((P, Qmulti, A, B), Implies(Exists(xMulti, PxEtc, A, etc_QxEtc),\n",
    "                                                     Exists(yMulti, PyEtc, B, etc_QyEtc)),\n",
    "                          conditions=[SubsetEq(A, B)])"
   ]
  },
  {
   "cell_type": "markdown",
   "metadata": {},
   "source": [
    "**If an element exists in $S$ that satisfies some criteria, it also exists generally with no specified domain:**"
   ]
  },
  {
   "cell_type": "code",
   "execution_count": 10,
   "metadata": {
    "collapsed": false
   },
   "outputs": [
    {
     "data": {
      "text/html": [
       "<strong id=\"existsInGeneral\"><a class=\"ProveItLink\" href=\"_proofs_\\existsInGeneral.ipynb\" target=\"_blank\">existsInGeneral</a>:</strong> <a href=\"__pv_it\\fca0d67eb6b3a5f5e3f0424947d9d499bdba35df0\\expr.ipynb\" target=\"_blank\"><img src=\"__pv_it\\fca0d67eb6b3a5f5e3f0424947d9d499bdba35df0\\expr.png\" style=\"display:inline;vertical-align:middle;\" /></a><br>"
      ],
      "text/plain": [
       "existsInGeneral: forall_{P, Q_{#}, S} ([exists_{x_{*} in S |  ..,Q_{#}( ..,x_{*},.. ),.. } P( ..,x_{*},.. )] => [exists_{y_{*} |  ..,Q_{#}( ..,y_{*},.. ),.. } P( ..,y_{*},.. )])"
      ]
     },
     "execution_count": 10,
     "metadata": {},
     "output_type": "execute_result"
    }
   ],
   "source": [
    "existsInGeneral = Forall((P, Qmulti, S), Implies(Exists(xMulti, PxEtc, S, etc_QxEtc),\n",
    "                                                 Exists(yMulti, PyEtc, conditions=[etc_QyEtc])))"
   ]
  },
  {
   "cell_type": "markdown",
   "metadata": {
    "deletable": true,
    "editable": true
   },
   "source": [
    "** If $P(..x..) \\Rightarrow R(..x..)$ for all appropriately conditioned instances, then existence of a satisfying instance of the former implies existence of a satisfying instance of the latter (e.g., the same instance). **"
   ]
  },
  {
   "cell_type": "code",
   "execution_count": 11,
   "metadata": {
    "collapsed": false,
    "deletable": true,
    "editable": true
   },
   "outputs": [
    {
     "data": {
      "text/html": [
       "<strong id=\"existentialImplication\"><a class=\"ProveItLink\" href=\"_proofs_\\existentialImplication.ipynb\" target=\"_blank\">existentialImplication</a>:</strong> <a href=\"__pv_it\\c548e092812f3bc753f59cedc326ac77d3d21cdc0\\expr.ipynb\" target=\"_blank\"><img src=\"__pv_it\\c548e092812f3bc753f59cedc326ac77d3d21cdc0\\expr.png\" style=\"display:inline;vertical-align:middle;\" /></a><br>"
      ],
      "text/plain": [
       "existentialImplication: forall_{P, R, Q_{#}, S} ([forall_{x_{*} in S | P( ..,x_{*},.. ), ..,Q_{#}( ..,x_{*},.. ),.. } R( ..,x_{*},.. )] => ([exists_{y_{*} in S |  ..,Q_{#}( ..,y_{*},.. ),.. } P( ..,y_{*},.. )] => [exists_{z_{*} in S |  ..,Q_{#}( ..,z_{*},.. ),.. } R( ..,z_{*},.. )]))"
      ]
     },
     "execution_count": 11,
     "metadata": {},
     "output_type": "execute_result"
    }
   ],
   "source": [
    "existentialImplication = Forall((P, R, Qmulti, S), Implies(Forall(xMulti, RxEtc, S, conditions=[PxEtc, etc_QxEtc]),\n",
    "                                                                Implies(Exists(yMulti, PyEtc, S, etc_QyEtc),\n",
    "                                                                        Exists(zMulti, RzEtc, S, etc_QzEtc))))"
   ]
  },
  {
   "cell_type": "code",
   "execution_count": 12,
   "metadata": {
    "collapsed": false,
    "deletable": true,
    "editable": true
   },
   "outputs": [
    {
     "data": {
      "text/html": [
       "<strong id=\"noDomainExistentialImplication\"><a class=\"ProveItLink\" href=\"_proofs_\\noDomainExistentialImplication.ipynb\" target=\"_blank\">noDomainExistentialImplication</a>:</strong> <a href=\"__pv_it\\766a35cf294ca82a68851342eeaf807b583e76450\\expr.ipynb\" target=\"_blank\"><img src=\"__pv_it\\766a35cf294ca82a68851342eeaf807b583e76450\\expr.png\" style=\"display:inline;vertical-align:middle;\" /></a><br>"
      ],
      "text/plain": [
       "noDomainExistentialImplication: forall_{P, R, Q_{#}} ([forall_{x_{*} | P( ..,x_{*},.. ), ..,Q_{#}( ..,x_{*},.. ),.. } R( ..,x_{*},.. )] => ([exists_{y_{*} |  ..,Q_{#}( ..,y_{*},.. ),.. } P( ..,y_{*},.. )] => [exists_{z_{*} |  ..,Q_{#}( ..,z_{*},.. ),.. } R( ..,z_{*},.. )]))"
      ]
     },
     "execution_count": 12,
     "metadata": {},
     "output_type": "execute_result"
    }
   ],
   "source": [
    "noDomainExistentialImplication = Forall((P, R, Qmulti), Implies(Forall(xMulti, RxEtc, conditions=[PxEtc, etc_QxEtc]),\n",
    "                                                                       Implies(Exists(yMulti, PyEtc, conditions=etc_QyEtc),\n",
    "                                                                               Exists(zMulti, RzEtc, conditions=etc_QzEtc))))"
   ]
  },
  {
   "cell_type": "code",
   "execution_count": 13,
   "metadata": {
    "collapsed": false,
    "deletable": true,
    "editable": true,
    "scrolled": false
   },
   "outputs": [
    {
     "name": "stdout",
     "output_type": "stream",
     "text": [
      "Theorems may be imported from autogenerated _theorems_.py\n"
     ]
    }
   ],
   "source": [
    "%end theorems"
   ]
  },
  {
   "cell_type": "code",
   "execution_count": 14,
   "metadata": {
    "collapsed": true,
    "deletable": true,
    "editable": true
   },
   "outputs": [],
   "source": []
  },
  {
   "cell_type": "code",
   "execution_count": 14,
   "metadata": {
    "collapsed": true,
    "deletable": true,
    "editable": true
   },
   "outputs": [],
   "source": []
  }
 ],
 "metadata": {
  "kernelspec": {
   "display_name": "Python 2",
   "language": "python",
   "name": "python2"
  },
  "language_info": {
   "codemirror_mode": {
    "name": "ipython",
    "version": 2
   },
   "file_extension": ".py",
   "mimetype": "text/x-python",
   "name": "python",
   "nbconvert_exporter": "python",
   "pygments_lexer": "ipython2",
   "version": "2.7.11"
  }
 },
 "nbformat": 4,
 "nbformat_minor": 0
}
