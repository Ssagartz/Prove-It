{
 "cells": [
  {
   "cell_type": "markdown",
   "metadata": {
    "collapsed": true,
    "deletable": true,
    "editable": true
   },
   "source": [
    "Context: <a href=\"..\\..\\..\\_context_.ipynb\">proveit</a>.<a href=\"..\\..\\_context_.ipynb\">logic</a>.<a href=\"..\\_context_.ipynb\">boolean</a>.quantification\n",
    "========\n",
    "\n",
    "Logical quantification is a general expression about *everything* (`Forall`: $\\forall$), *something* (`Exists`: $\\exists$), or *nothing* (`NotExists`: $\\nexists$).  These quantify over instance variables (`instanceVars`) with an instance expression (`instanceExpr`) and may be restricted to a `domain` and have zero or more `conditions`.  For example $\\forall_{x \\in S~|~Q(x)} P(x)$ means that $P(x)$ is `TRUE` for all occurrences of $x$ in domain $S$ given that the condition $Q(x)$ is satisfied.  $\\exists_{x \\in S~|~Q(x)} P(x)$ means that there exists a value for $x$ in domain $S$ with $Q(x)$ satisfied such that $P(x)$ is `TRUE`.  $\\forall$ is the universal quantifier.  $\\exists$ is the existential quantifier.  $\\nexists$ is the negation of the existential quantifier."
   ]
  },
  {
   "cell_type": "code",
   "execution_count": null,
   "metadata": {
    "collapsed": false,
    "deletable": true,
    "editable": true
   },
   "outputs": [],
   "source": [
    "import proveit\n",
    "%context"
   ]
  },
  {
   "cell_type": "code",
   "execution_count": null,
   "metadata": {
    "collapsed": true,
    "deletable": true,
    "editable": true
   },
   "outputs": [],
   "source": []
  }
 ],
 "metadata": {
  "kernelspec": {
   "display_name": "Python 2",
   "language": "python",
   "name": "python2"
  },
  "language_info": {
   "codemirror_mode": {
    "name": "ipython",
    "version": 2
   },
   "file_extension": ".py",
   "mimetype": "text/x-python",
   "name": "python",
   "nbconvert_exporter": "python",
   "pygments_lexer": "ipython2",
   "version": "2.7.11"
  }
 },
 "nbformat": 4,
 "nbformat_minor": 0
}