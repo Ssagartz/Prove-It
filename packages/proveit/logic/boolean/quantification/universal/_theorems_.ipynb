{
 "cells": [
  {
   "cell_type": "markdown",
   "metadata": {
    "collapsed": true,
    "deletable": true,
    "editable": true
   },
   "source": [
    "Theorems for context <a href=\"_context_.ipynb\">proveit.logic.boolean.quantification.universal</a>\n",
    "========"
   ]
  },
  {
   "cell_type": "code",
   "execution_count": null,
   "metadata": {
    "collapsed": false,
    "deletable": true,
    "editable": true
   },
   "outputs": [],
   "source": [
    "from proveit import Operation\n",
    "from proveit.logic import Forall, Implies, Booleans, And, Equals, TRUE, NotExists, Not, FALSE\n",
    "from proveit._common_ import y, A, B, P, S, PofA, xMulti, yMulti, Qmulti, Rmulti, xEtc, yEtc, Qetc, Retc, PxEtc, PxyEtc, etc_RxyEtc, etc_QxEtc\n",
    "from proveit.logic.boolean.quantification._common_ import generalNestedForall, generalNoDomainNestedForall, generalBundledForall, generalNoDomainBundledForall\n",
    "from proveit.logic._common_ import PofTrue, PofFalse\n",
    "%begin_theorems"
   ]
  },
  {
   "cell_type": "markdown",
   "metadata": {
    "deletable": true,
    "editable": true
   },
   "source": [
    "**A statement of nested $\\forall$ expressions with the same domain may be bundled together into a single $\\forall$:**"
   ]
  },
  {
   "cell_type": "code",
   "execution_count": null,
   "metadata": {
    "collapsed": false,
    "deletable": true,
    "editable": true
   },
   "outputs": [],
   "source": [
    "forallBundling = Forall((P, Qmulti, Rmulti, S), Implies(generalNestedForall, generalBundledForall))"
   ]
  },
  {
   "cell_type": "code",
   "execution_count": null,
   "metadata": {
    "collapsed": false,
    "deletable": true,
    "editable": true
   },
   "outputs": [],
   "source": [
    "forallBundlingNoDomain = Forall((P, Qmulti, Rmulti), Implies(generalNoDomainBundledForall, generalNoDomainNestedForall))"
   ]
  },
  {
   "cell_type": "markdown",
   "metadata": {
    "deletable": true,
    "editable": true
   },
   "source": [
    "**A statement of a $\\forall$ with multiple instance variables may be unravelled into nested $\\forall$ expressions:**"
   ]
  },
  {
   "cell_type": "code",
   "execution_count": null,
   "metadata": {
    "collapsed": false,
    "deletable": true,
    "editable": true
   },
   "outputs": [],
   "source": [
    "forallUnraveling = Forall((P, Qmulti, Rmulti, S), Implies(generalBundledForall, generalNestedForall))"
   ]
  },
  {
   "cell_type": "code",
   "execution_count": null,
   "metadata": {
    "collapsed": false,
    "deletable": true,
    "editable": true
   },
   "outputs": [],
   "source": [
    "forallUnravelingNoDomain = Forall((P, Qmulti, Rmulti), Implies(generalNoDomainNestedForall, generalNoDomainBundledForall))"
   ]
  },
  {
   "cell_type": "markdown",
   "metadata": {
    "deletable": true,
    "editable": true
   },
   "source": [
    "**A statement of a $\\forall$ with multiple instance variables is equivalent to one with nested $\\forall$ expressions:**"
   ]
  },
  {
   "cell_type": "code",
   "execution_count": null,
   "metadata": {
    "collapsed": false,
    "deletable": true,
    "editable": true
   },
   "outputs": [],
   "source": [
    "forallBundledEquiv = Forall((P, Qmulti, Rmulti, S), Equals(generalBundledForall, generalNestedForall))"
   ]
  },
  {
   "cell_type": "markdown",
   "metadata": {
    "deletable": true,
    "editable": true
   },
   "source": [
    "** Induction to any number of $\\forall$ instance variables: **"
   ]
  },
  {
   "cell_type": "code",
   "execution_count": null,
   "metadata": {
    "collapsed": false,
    "deletable": true,
    "editable": true
   },
   "outputs": [],
   "source": [
    "forallInduction = Forall((P, Qmulti, S), Implies(And(Operation(P, []), \n",
    "                                                     Implies(Forall(xMulti, PxEtc, S), \n",
    "                                            Forall((xMulti, y), Operation(P, [xEtc, y]), S))),\n",
    "                                    Forall(xMulti, PxEtc, S)))"
   ]
  },
  {
   "cell_type": "code",
   "execution_count": null,
   "metadata": {
    "collapsed": false,
    "deletable": true,
    "editable": true
   },
   "outputs": [],
   "source": [
    "forallInductionNoDomain = Forall(P, Implies(And(Operation(P, []), \n",
    "                                                Implies(Forall(xMulti, PxEtc), \n",
    "                                                        Forall((xMulti, y), Operation(P, [xEtc, y])))),\n",
    "                                            Forall(xMulti, PxEtc)))"
   ]
  },
  {
   "cell_type": "code",
   "execution_count": null,
   "metadata": {
    "collapsed": false,
    "deletable": true,
    "editable": true
   },
   "outputs": [],
   "source": [
    "%end_theorems"
   ]
  },
  {
   "cell_type": "code",
   "execution_count": null,
   "metadata": {
    "collapsed": true,
    "deletable": true,
    "editable": true
   },
   "outputs": [],
   "source": []
  }
 ],
 "metadata": {
  "kernelspec": {
   "display_name": "Python 2",
   "language": "python",
   "name": "python2"
  },
  "language_info": {
   "codemirror_mode": {
    "name": "ipython",
    "version": 2
   },
   "file_extension": ".py",
   "mimetype": "text/x-python",
   "name": "python",
   "nbconvert_exporter": "python",
   "pygments_lexer": "ipython2",
   "version": "2.7.11"
  }
 },
 "nbformat": 4,
 "nbformat_minor": 0
}