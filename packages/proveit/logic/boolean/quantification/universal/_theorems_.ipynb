{
 "cells": [
  {
   "cell_type": "markdown",
   "metadata": {
    "collapsed": true,
    "deletable": true,
    "editable": true
   },
   "source": [
    "Theorems for context <a href=\"_context_.ipynb\" class=\"ProveItLink\">proveit.logic.boolean.quantification.universal</a>\n",
    "========"
   ]
  },
  {
   "cell_type": "code",
   "execution_count": 1,
   "metadata": {
    "collapsed": false,
    "deletable": true,
    "editable": true
   },
   "outputs": [
    {
     "name": "stdout",
     "output_type": "stream",
     "text": [
      "Defining theorems for context 'proveit.logic.boolean.quantification.universal'\n",
      "Subsequent end-of-cell assignments will define theorems\n",
      "'%end theorems' will finalize the definitions\n"
     ]
    }
   ],
   "source": [
    "from proveit import Function\n",
    "from proveit.logic import Forall, Implies, Booleans, And, Equals, TRUE, NotExists, Not, FALSE\n",
    "from proveit._common_ import k, l, m, n, xx, y, P, Q, Qy\n",
    "from proveit.logic._common_ import xIter1l, P_xIter1l, P_xIter1l_y, iterQ1k, iterQ1k_xIter1l, iterQ1k_xIter1l_y\n",
    "from proveit.logic._common_ import iterR1m, PofTrue, PofFalse\n",
    "from proveit.logic.boolean.quantification.universal._common_ import generalForall_Px, consolidatedConditionForall_Px, generalNestedForall_Pxy, generalBundledForall_Pxy\n",
    "from proveit.number import Naturals, NaturalsPos\n",
    "%begin theorems"
   ]
  },
  {
   "cell_type": "code",
   "execution_count": null,
   "metadata": {
    "collapsed": true
   },
   "outputs": [],
   "source": []
  },
  {
   "cell_type": "code",
   "execution_count": 2,
   "metadata": {
    "collapsed": false
   },
   "outputs": [
    {
     "ename": "NameError",
     "evalue": "name 'generalForall_Px' is not defined",
     "output_type": "error",
     "traceback": [
      "\u001b[1;31m\u001b[0m",
      "\u001b[1;31mNameError\u001b[0mTraceback (most recent call last)",
      "\u001b[1;32m<ipython-input-2-5f463a6166c3>\u001b[0m in \u001b[0;36m<module>\u001b[1;34m()\u001b[0m\n\u001b[1;32m----> 1\u001b[1;33m consolidateConditions = Forall((k, l), Implies(generalForall_Px, consolidatedConditionForall_Px),\n\u001b[0m\u001b[0;32m      2\u001b[0m                                domain=NaturalsPos)\n\u001b[0;32m      3\u001b[0m \u001b[0mAssignments\u001b[0m\u001b[1;33m(\u001b[0m\u001b[1;33m[\u001b[0m\u001b[1;34m'consolidateConditions'\u001b[0m\u001b[1;33m]\u001b[0m\u001b[1;33m,\u001b[0m \u001b[1;33m[\u001b[0m\u001b[0mconsolidateConditions\u001b[0m\u001b[1;33m]\u001b[0m\u001b[1;33m)\u001b[0m\u001b[1;33m\u001b[0m\u001b[0m\n",
      "\u001b[1;31mNameError\u001b[0m: name 'generalForall_Px' is not defined"
     ]
    }
   ],
   "source": [
    "consolidateConditions = Forall((k, l), Implies(generalForall_Px, consolidatedConditionForall_Px),\n",
    "                               domain=NaturalsPos)"
   ]
  },
  {
   "cell_type": "markdown",
   "metadata": {
    "deletable": true,
    "editable": true
   },
   "source": [
    "**A statement of nested $\\forall$ expressions may be bundled together into a single $\\forall$:**"
   ]
  },
  {
   "cell_type": "code",
   "execution_count": 2,
   "metadata": {
    "collapsed": false,
    "deletable": true,
    "editable": true
   },
   "outputs": [
    {
     "data": {
      "text/html": [
       "<strong id=\"bundling\"><a class=\"ProveItLink\" href=\"_proofs_\\bundling.ipynb\">bundling</a>:</strong> <a class=\"ProveItLink\" href=\"__pv_it\\1adb59e02e121d6ec843a9ee4917354e0645d2a10\\expr.ipynb\"><img src=\"__pv_it\\1adb59e02e121d6ec843a9ee4917354e0645d2a10\\expr.png\" style=\"display:inline;vertical-align:middle;\" /></a><br>"
      ],
      "text/plain": [
       "bundling: forall_{k, m in Naturals} [forall_{l, n in NaturalsPos} [forall_{P, Q_(1),...,Q_(k), R_(1),...,R_(m)} ([forall_{x_(1),...,x_(l) | Q_(1)(x_(1),...,x_(l)) ,  ...  , Q_(k)(x_(1),...,x_(l))} [forall_{y_(1),...,y_(n) | R_(1)(x_(1) ,  ...  , x_(l) , y_(1) ,  ...  , y_(n)) ,  ...  , R_(m)(x_(1) ,  ...  , x_(l) , y_(1) ,  ...  , y_(n))} P(x_(1) ,  ...  , x_(l) , y_(1) ,  ...  , y_(n))]] \\\\  => [forall_{x_(1),...,x_(l), y_(1),...,y_(n) | Q_(1)(x_(1),...,x_(l)) ,  ...  , Q_(k)(x_(1),...,x_(l)) , R_(1)(x_(1) ,  ...  , x_(l) , y_(1) ,  ...  , y_(n)) ,  ...  , R_(m)(x_(1) ,  ...  , x_(l) , y_(1) ,  ...  , y_(n))} P(x_(1) ,  ...  , x_(l) , y_(1) ,  ...  , y_(n))])]]"
      ]
     },
     "execution_count": 2,
     "metadata": {},
     "output_type": "execute_result"
    }
   ],
   "source": [
    "bundling = Forall((k, m),\n",
    "                  Forall((l, n),\n",
    "                         Forall((P, iterQ1k, iterR1m),\n",
    "                                Implies(generalNestedForall_Pxy, generalBundledForall_Pxy).withWrapBeforeOperator()),\n",
    "                         domain=NaturalsPos),\n",
    "                  domain=Naturals)"
   ]
  },
  {
   "cell_type": "code",
   "execution_count": null,
   "metadata": {
    "collapsed": true
   },
   "outputs": [],
   "source": []
  },
  {
   "cell_type": "markdown",
   "metadata": {
    "deletable": true,
    "editable": true
   },
   "source": [
    "**A statement of a $\\forall$ with multiple instance variables and disjoint conditions may be unravelled into nested $\\forall$ expressions:**"
   ]
  },
  {
   "cell_type": "code",
   "execution_count": 3,
   "metadata": {
    "collapsed": false,
    "deletable": true,
    "editable": true
   },
   "outputs": [
    {
     "data": {
      "text/html": [
       "<strong id=\"unraveling\"><a class=\"ProveItLink\" href=\"_proofs_\\unraveling.ipynb\">unraveling</a>:</strong> <a class=\"ProveItLink\" href=\"__pv_it\\46ad228065e5c4f0c4b44e57cdf25ce6a96c8df70\\expr.ipynb\"><img src=\"__pv_it\\46ad228065e5c4f0c4b44e57cdf25ce6a96c8df70\\expr.png\" style=\"display:inline;vertical-align:middle;\" /></a><br>"
      ],
      "text/plain": [
       "unraveling: forall_{k, m in Naturals} [forall_{l, n in NaturalsPos} [forall_{P, Q_(1),...,Q_(k), R_(1),...,R_(m)} ([forall_{x_(1),...,x_(l), y_(1),...,y_(n) | Q_(1)(x_(1),...,x_(l)) ,  ...  , Q_(k)(x_(1),...,x_(l)) , R_(1)(x_(1) ,  ...  , x_(l) , y_(1) ,  ...  , y_(n)) ,  ...  , R_(m)(x_(1) ,  ...  , x_(l) , y_(1) ,  ...  , y_(n))} P(x_(1) ,  ...  , x_(l) , y_(1) ,  ...  , y_(n))] =>  \\\\ [forall_{x_(1),...,x_(l) | Q_(1)(x_(1),...,x_(l)) ,  ...  , Q_(k)(x_(1),...,x_(l))} [forall_{y_(1),...,y_(n) | R_(1)(x_(1) ,  ...  , x_(l) , y_(1) ,  ...  , y_(n)) ,  ...  , R_(m)(x_(1) ,  ...  , x_(l) , y_(1) ,  ...  , y_(n))} P(x_(1) ,  ...  , x_(l) , y_(1) ,  ...  , y_(n))]])]]"
      ]
     },
     "execution_count": 3,
     "metadata": {},
     "output_type": "execute_result"
    }
   ],
   "source": [
    "unraveling = Forall((k, m),\n",
    "                    Forall((l, n), \n",
    "                           Forall((P, iterQ1k, iterR1m), \n",
    "                                  Implies(generalBundledForall_Pxy, generalNestedForall_Pxy).withWrapAfterOperator()),\n",
    "                           domain=NaturalsPos),\n",
    "                    domain=Naturals)"
   ]
  },
  {
   "cell_type": "markdown",
   "metadata": {
    "deletable": true,
    "editable": true
   },
   "source": [
    "**A statement of a $\\forall$ with multiple instance variables is equivalent to one with nested $\\forall$ expressions:**"
   ]
  },
  {
   "cell_type": "code",
   "execution_count": 4,
   "metadata": {
    "collapsed": false,
    "deletable": true,
    "editable": true
   },
   "outputs": [
    {
     "data": {
      "text/html": [
       "<strong id=\"bundledEquiv\"><a class=\"ProveItLink\" href=\"_proofs_\\bundledEquiv.ipynb\">bundledEquiv</a>:</strong> <a class=\"ProveItLink\" href=\"__pv_it\\d5507319a080e780b719332fbd595d6ed003c6bd0\\expr.ipynb\"><img src=\"__pv_it\\d5507319a080e780b719332fbd595d6ed003c6bd0\\expr.png\" style=\"display:inline;vertical-align:middle;\" /></a><br>"
      ],
      "text/plain": [
       "bundledEquiv: forall_{k, m in Naturals} [forall_{l, n in NaturalsPos} [forall_{P, Q_(1),...,Q_(k), R_(1),...,R_(m)} ([forall_{x_(1),...,x_(l), y_(1),...,y_(n) | Q_(1)(x_(1),...,x_(l)) ,  ...  , Q_(k)(x_(1),...,x_(l)) , R_(1)(x_(1) ,  ...  , x_(l) , y_(1) ,  ...  , y_(n)) ,  ...  , R_(m)(x_(1) ,  ...  , x_(l) , y_(1) ,  ...  , y_(n))} P(x_(1) ,  ...  , x_(l) , y_(1) ,  ...  , y_(n))] =  \\\\ [forall_{x_(1),...,x_(l) | Q_(1)(x_(1),...,x_(l)) ,  ...  , Q_(k)(x_(1),...,x_(l))} [forall_{y_(1),...,y_(n) | R_(1)(x_(1) ,  ...  , x_(l) , y_(1) ,  ...  , y_(n)) ,  ...  , R_(m)(x_(1) ,  ...  , x_(l) , y_(1) ,  ...  , y_(n))} P(x_(1) ,  ...  , x_(l) , y_(1) ,  ...  , y_(n))]])]]"
      ]
     },
     "execution_count": 4,
     "metadata": {},
     "output_type": "execute_result"
    }
   ],
   "source": [
    "bundledEquiv = Forall((k, m),\n",
    "                      Forall((l, n),\n",
    "                             Forall((P, iterQ1k, iterR1m),\n",
    "                                    Equals(generalBundledForall_Pxy, generalNestedForall_Pxy).withWrapAfterOperator()),\n",
    "                             domain=NaturalsPos),\n",
    "                      domain=Naturals)"
   ]
  },
  {
   "cell_type": "markdown",
   "metadata": {
    "deletable": true,
    "editable": true
   },
   "source": [
    "** Induction to any number of $\\forall$ instance variables: **"
   ]
  },
  {
   "cell_type": "code",
   "execution_count": 5,
   "metadata": {
    "collapsed": false,
    "deletable": true,
    "editable": true
   },
   "outputs": [
    {
     "data": {
      "text/html": [
       "<strong id=\"forallInduction\"><a class=\"ProveItLink\" href=\"_proofs_\\forallInduction.ipynb\">forallInduction</a>:</strong> <a class=\"ProveItLink\" href=\"__pv_it\\f42cff6d44c8552f2d25ad49e5ca06b6286f5e5e0\\expr.ipynb\"><img src=\"__pv_it\\f42cff6d44c8552f2d25ad49e5ca06b6286f5e5e0\\expr.png\" style=\"display:inline;vertical-align:middle;\" /></a><br>"
      ],
      "text/plain": [
       "forallInduction: forall_{k in Naturals} [forall_{P, Q_(1),...,Q_(k)} ((P() and [forall_{l in Naturals} ([forall_{x_(1),...,x_(l) | Q_(1)(x_(1),...,x_(l)) ,  ...  , Q_(k)(x_(1),...,x_(l))} P(x_(1),...,x_(l))] =>  \\\\ [forall_{x_(1),...,x_(l), y | Q_(1)(x_(1) ,  ...  , x_(l) , y) ,  ...  , Q_(k)(x_(1) ,  ...  , x_(l) , y)} P(x_(1) ,  ...  , x_(l) , y)])]) \\\\  => [forall_{l in Naturals} [forall_{x_(1),...,x_(l) | Q_(1)(x_(1),...,x_(l)) ,  ...  , Q_(k)(x_(1),...,x_(l))} P(x_(1),...,x_(l))]])]"
      ]
     },
     "execution_count": 5,
     "metadata": {},
     "output_type": "execute_result"
    }
   ],
   "source": [
    "forallInduction = Forall(k, \n",
    "                         Forall((P, iterQ1k), \n",
    "                                Implies(And(Function(P, []),\n",
    "                                            Forall(l, Implies(Forall(xIter1l, P_xIter1l, conditions=[iterQ1k_xIter1l]),\n",
    "                                                              Forall((xIter1l, y), P_xIter1l_y, conditions=[iterQ1k_xIter1l_y])).withWrapAfterOperator(),\n",
    "                                                   domain=Naturals)),\n",
    "                                        Forall(l, Forall(xIter1l, P_xIter1l, conditions=[iterQ1k_xIter1l]),\n",
    "                                               domain=Naturals)).withWrapBeforeOperator()),\n",
    "                        domain=Naturals)"
   ]
  },
  {
   "cell_type": "code",
   "execution_count": 6,
   "metadata": {
    "collapsed": false,
    "deletable": true,
    "editable": true
   },
   "outputs": [
    {
     "name": "stdout",
     "output_type": "stream",
     "text": [
      "Theorems may be imported from autogenerated _theorems_.py\n"
     ]
    }
   ],
   "source": [
    "%end theorems"
   ]
  },
  {
   "cell_type": "code",
   "execution_count": 7,
   "metadata": {
    "collapsed": true,
    "deletable": true,
    "editable": true
   },
   "outputs": [],
   "source": []
  }
 ],
 "metadata": {
  "kernelspec": {
   "display_name": "Python 2",
   "language": "python",
   "name": "python2"
  },
  "language_info": {
   "codemirror_mode": {
    "name": "ipython",
    "version": 2
   },
   "file_extension": ".py",
   "mimetype": "text/x-python",
   "name": "python",
   "nbconvert_exporter": "python",
   "pygments_lexer": "ipython2",
   "version": "2.7.11"
  }
 },
 "nbformat": 4,
 "nbformat_minor": 0
}
