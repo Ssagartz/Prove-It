{
 "cells": [
  {
   "cell_type": "markdown",
   "metadata": {
    "collapsed": true,
    "deletable": true,
    "editable": true
   },
   "source": [
    "Theorems for context <a href=\"_context_.ipynb\" class=\"ProveItLink\">proveit.logic.boolean.quantification.universal</a>\n",
    "========"
   ]
  },
  {
   "cell_type": "code",
   "execution_count": 1,
   "metadata": {
    "collapsed": false,
    "deletable": true,
    "editable": true
   },
   "outputs": [
    {
     "name": "stdout",
     "output_type": "stream",
     "text": [
      "Defining theorems for context 'proveit.logic.boolean.quantification.universal'\n",
      "Subsequent end-of-cell assignments will define theorems\n",
      "'%end theorems' will finalize the definitions\n"
     ]
    }
   ],
   "source": [
    "from proveit import Operation\n",
    "from proveit.logic import Forall, Implies, Booleans, And, Equals, TRUE, NotExists, Not, FALSE\n",
    "from proveit._common_ import y, A, B, P, S, PofA, xMulti, yMulti, Qmulti, Rmulti, xEtc, yEtc, Qetc, Retc, PxEtc, PxyEtc, etc_RxyEtc, etc_QxEtc\n",
    "from proveit.logic.boolean.quantification._common_ import generalNestedForall, generalNoDomainNestedForall, generalBundledForall, generalNoDomainBundledForall\n",
    "from proveit.logic._common_ import PofTrue, PofFalse\n",
    "%begin theorems"
   ]
  },
  {
   "cell_type": "markdown",
   "metadata": {
    "deletable": true,
    "editable": true
   },
   "source": [
    "**A statement of nested $\\forall$ expressions with the same domain may be bundled together into a single $\\forall$:**"
   ]
  },
  {
   "cell_type": "code",
   "execution_count": 2,
   "metadata": {
    "collapsed": false,
    "deletable": true,
    "editable": true
   },
   "outputs": [
    {
     "data": {
      "text/html": [
       "<strong id=\"forallBundling\"><a class=\"ProveItLink\" href=\"_proofs_\\forallBundling.ipynb\" target=\"_blank\">forallBundling</a>:</strong> <a href=\"__pv_it\\34f6e96aee52ca4704e3327ec8c9911218fb3b240\\expr.ipynb\" target=\"_blank\"><img src=\"__pv_it\\34f6e96aee52ca4704e3327ec8c9911218fb3b240\\expr.png\" style=\"display:inline;vertical-align:middle;\" /></a><br>"
      ],
      "text/plain": [
       "forallBundling: forall_{P, Q_{#}, R_{#}, S} ([forall_{x_{*} in S |  ..,Q_{#}( ..,x_{*},.. ),.. } [forall_{y_{*} in S |  ..,R_{#}( ..,x_{*},...,y_{*},.. ),.. } P( ..,x_{*},...,y_{*},.. )]] => [forall_{x_{*}, y_{*} in S |  ..,Q_{#}( ..,x_{*},.. ),...,R_{#}( ..,x_{*},...,y_{*},.. ),.. } P( ..,x_{*},...,y_{*},.. )])"
      ]
     },
     "execution_count": 2,
     "metadata": {},
     "output_type": "execute_result"
    }
   ],
   "source": [
    "forallBundling = Forall((P, Qmulti, Rmulti, S), Implies(generalNestedForall, generalBundledForall))"
   ]
  },
  {
   "cell_type": "code",
   "execution_count": 3,
   "metadata": {
    "collapsed": false,
    "deletable": true,
    "editable": true
   },
   "outputs": [
    {
     "data": {
      "text/html": [
       "<strong id=\"forallBundlingNoDomain\"><a class=\"ProveItLink\" href=\"_proofs_\\forallBundlingNoDomain.ipynb\" target=\"_blank\">forallBundlingNoDomain</a>:</strong> <a href=\"__pv_it\\7947bdb7c2ca9de84d18cd6b01984710a7defd070\\expr.ipynb\" target=\"_blank\"><img src=\"__pv_it\\7947bdb7c2ca9de84d18cd6b01984710a7defd070\\expr.png\" style=\"display:inline;vertical-align:middle;\" /></a><br>"
      ],
      "text/plain": [
       "forallBundlingNoDomain: forall_{P, Q_{#}, R_{#}} ([forall_{x_{*}, y_{*} |  ..,Q_{#}( ..,x_{*},.. ),...,R_{#}( ..,x_{*},...,y_{*},.. ),.. } P( ..,x_{*},...,y_{*},.. )] => [forall_{x_{*} |  ..,Q_{#}( ..,x_{*},.. ),.. } [forall_{y_{*} |  ..,R_{#}( ..,x_{*},...,y_{*},.. ),.. } P( ..,x_{*},...,y_{*},.. )]])"
      ]
     },
     "execution_count": 3,
     "metadata": {},
     "output_type": "execute_result"
    }
   ],
   "source": [
    "forallBundlingNoDomain = Forall((P, Qmulti, Rmulti), Implies(generalNoDomainBundledForall, generalNoDomainNestedForall))"
   ]
  },
  {
   "cell_type": "markdown",
   "metadata": {
    "deletable": true,
    "editable": true
   },
   "source": [
    "**A statement of a $\\forall$ with multiple instance variables may be unravelled into nested $\\forall$ expressions:**"
   ]
  },
  {
   "cell_type": "code",
   "execution_count": 4,
   "metadata": {
    "collapsed": false,
    "deletable": true,
    "editable": true
   },
   "outputs": [
    {
     "data": {
      "text/html": [
       "<strong id=\"forallUnraveling\"><a class=\"ProveItLink\" href=\"_proofs_\\forallUnraveling.ipynb\" target=\"_blank\">forallUnraveling</a>:</strong> <a href=\"__pv_it\\f6523c136643ff425571070c75b5f029ad17e0640\\expr.ipynb\" target=\"_blank\"><img src=\"__pv_it\\f6523c136643ff425571070c75b5f029ad17e0640\\expr.png\" style=\"display:inline;vertical-align:middle;\" /></a><br>"
      ],
      "text/plain": [
       "forallUnraveling: forall_{P, Q_{#}, R_{#}, S} ([forall_{x_{*}, y_{*} in S |  ..,Q_{#}( ..,x_{*},.. ),...,R_{#}( ..,x_{*},...,y_{*},.. ),.. } P( ..,x_{*},...,y_{*},.. )] => [forall_{x_{*} in S |  ..,Q_{#}( ..,x_{*},.. ),.. } [forall_{y_{*} in S |  ..,R_{#}( ..,x_{*},...,y_{*},.. ),.. } P( ..,x_{*},...,y_{*},.. )]])"
      ]
     },
     "execution_count": 4,
     "metadata": {},
     "output_type": "execute_result"
    }
   ],
   "source": [
    "forallUnraveling = Forall((P, Qmulti, Rmulti, S), Implies(generalBundledForall, generalNestedForall))"
   ]
  },
  {
   "cell_type": "code",
   "execution_count": 5,
   "metadata": {
    "collapsed": false,
    "deletable": true,
    "editable": true
   },
   "outputs": [
    {
     "data": {
      "text/html": [
       "<strong id=\"forallUnravelingNoDomain\"><a class=\"ProveItLink\" href=\"_proofs_\\forallUnravelingNoDomain.ipynb\" target=\"_blank\">forallUnravelingNoDomain</a>:</strong> <a href=\"__pv_it\\66e0314f47e4f557514b24139fd22cdb4650ae0c0\\expr.ipynb\" target=\"_blank\"><img src=\"__pv_it\\66e0314f47e4f557514b24139fd22cdb4650ae0c0\\expr.png\" style=\"display:inline;vertical-align:middle;\" /></a><br>"
      ],
      "text/plain": [
       "forallUnravelingNoDomain: forall_{P, Q_{#}, R_{#}} ([forall_{x_{*} |  ..,Q_{#}( ..,x_{*},.. ),.. } [forall_{y_{*} |  ..,R_{#}( ..,x_{*},...,y_{*},.. ),.. } P( ..,x_{*},...,y_{*},.. )]] => [forall_{x_{*}, y_{*} |  ..,Q_{#}( ..,x_{*},.. ),...,R_{#}( ..,x_{*},...,y_{*},.. ),.. } P( ..,x_{*},...,y_{*},.. )])"
      ]
     },
     "execution_count": 5,
     "metadata": {},
     "output_type": "execute_result"
    }
   ],
   "source": [
    "forallUnravelingNoDomain = Forall((P, Qmulti, Rmulti), Implies(generalNoDomainNestedForall, generalNoDomainBundledForall))"
   ]
  },
  {
   "cell_type": "markdown",
   "metadata": {
    "deletable": true,
    "editable": true
   },
   "source": [
    "**A statement of a $\\forall$ with multiple instance variables is equivalent to one with nested $\\forall$ expressions:**"
   ]
  },
  {
   "cell_type": "code",
   "execution_count": 6,
   "metadata": {
    "collapsed": false,
    "deletable": true,
    "editable": true
   },
   "outputs": [
    {
     "data": {
      "text/html": [
       "<strong id=\"forallBundledEquiv\"><a class=\"ProveItLink\" href=\"_proofs_\\forallBundledEquiv.ipynb\" target=\"_blank\">forallBundledEquiv</a>:</strong> <a href=\"__pv_it\\29dea0e3c7ea7a8f8a2045f80c752fc2b278ef150\\expr.ipynb\" target=\"_blank\"><img src=\"__pv_it\\29dea0e3c7ea7a8f8a2045f80c752fc2b278ef150\\expr.png\" style=\"display:inline;vertical-align:middle;\" /></a><br>"
      ],
      "text/plain": [
       "forallBundledEquiv: forall_{P, Q_{#}, R_{#}, S} ([forall_{x_{*}, y_{*} in S |  ..,Q_{#}( ..,x_{*},.. ),...,R_{#}( ..,x_{*},...,y_{*},.. ),.. } P( ..,x_{*},...,y_{*},.. )] = [forall_{x_{*} in S |  ..,Q_{#}( ..,x_{*},.. ),.. } [forall_{y_{*} in S |  ..,R_{#}( ..,x_{*},...,y_{*},.. ),.. } P( ..,x_{*},...,y_{*},.. )]])"
      ]
     },
     "execution_count": 6,
     "metadata": {},
     "output_type": "execute_result"
    }
   ],
   "source": [
    "forallBundledEquiv = Forall((P, Qmulti, Rmulti, S), Equals(generalBundledForall, generalNestedForall))"
   ]
  },
  {
   "cell_type": "markdown",
   "metadata": {
    "deletable": true,
    "editable": true
   },
   "source": [
    "** Induction to any number of $\\forall$ instance variables: **"
   ]
  },
  {
   "cell_type": "code",
   "execution_count": 7,
   "metadata": {
    "collapsed": false,
    "deletable": true,
    "editable": true
   },
   "outputs": [
    {
     "data": {
      "text/html": [
       "<strong id=\"forallInduction\"><a class=\"ProveItLink\" href=\"_proofs_\\forallInduction.ipynb\" target=\"_blank\">forallInduction</a>:</strong> <a href=\"__pv_it\\00fe0479a036b83a6d85dde2dcffb720b25bb9360\\expr.ipynb\" target=\"_blank\"><img src=\"__pv_it\\00fe0479a036b83a6d85dde2dcffb720b25bb9360\\expr.png\" style=\"display:inline;vertical-align:middle;\" /></a><br>"
      ],
      "text/plain": [
       "forallInduction: forall_{P, Q_{#}, S} ((P() and ([forall_{x_{*} in S} P( ..,x_{*},.. )] => [forall_{x_{*}, y in S} P( ..,x_{*},.. ,y)])) => [forall_{x_{*} in S} P( ..,x_{*},.. )])"
      ]
     },
     "execution_count": 7,
     "metadata": {},
     "output_type": "execute_result"
    }
   ],
   "source": [
    "forallInduction = Forall((P, Qmulti, S), Implies(And(Operation(P, []), \n",
    "                                                     Implies(Forall(xMulti, PxEtc, S), \n",
    "                                            Forall((xMulti, y), Operation(P, [xEtc, y]), S))),\n",
    "                                    Forall(xMulti, PxEtc, S)))"
   ]
  },
  {
   "cell_type": "code",
   "execution_count": 8,
   "metadata": {
    "collapsed": false,
    "deletable": true,
    "editable": true
   },
   "outputs": [
    {
     "data": {
      "text/html": [
       "<strong id=\"forallInductionNoDomain\"><a class=\"ProveItLink\" href=\"_proofs_\\forallInductionNoDomain.ipynb\" target=\"_blank\">forallInductionNoDomain</a>:</strong> <a href=\"__pv_it\\d8d20a3e164569c3eaa8ae67812b8d6ceaaeade30\\expr.ipynb\" target=\"_blank\"><img src=\"__pv_it\\d8d20a3e164569c3eaa8ae67812b8d6ceaaeade30\\expr.png\" style=\"display:inline;vertical-align:middle;\" /></a><br>"
      ],
      "text/plain": [
       "forallInductionNoDomain: forall_{P} ((P() and ([forall_{x_{*}} P( ..,x_{*},.. )] => [forall_{x_{*}, y} P( ..,x_{*},.. ,y)])) => [forall_{x_{*}} P( ..,x_{*},.. )])"
      ]
     },
     "execution_count": 8,
     "metadata": {},
     "output_type": "execute_result"
    }
   ],
   "source": [
    "forallInductionNoDomain = Forall(P, Implies(And(Operation(P, []), \n",
    "                                                Implies(Forall(xMulti, PxEtc), \n",
    "                                                        Forall((xMulti, y), Operation(P, [xEtc, y])))),\n",
    "                                            Forall(xMulti, PxEtc)))"
   ]
  },
  {
   "cell_type": "code",
   "execution_count": 9,
   "metadata": {
    "collapsed": false,
    "deletable": true,
    "editable": true
   },
   "outputs": [
    {
     "name": "stdout",
     "output_type": "stream",
     "text": [
      "Theorems may be imported from autogenerated _theorems_.py\n"
     ]
    }
   ],
   "source": [
    "%end theorems"
   ]
  },
  {
   "cell_type": "code",
   "execution_count": 10,
   "metadata": {
    "collapsed": true,
    "deletable": true,
    "editable": true
   },
   "outputs": [],
   "source": []
  }
 ],
 "metadata": {
  "kernelspec": {
   "display_name": "Python 2",
   "language": "python",
   "name": "python2"
  },
  "language_info": {
   "codemirror_mode": {
    "name": "ipython",
    "version": 2
   },
   "file_extension": ".py",
   "mimetype": "text/x-python",
   "name": "python",
   "nbconvert_exporter": "python",
   "pygments_lexer": "ipython2",
   "version": "2.7.11"
  }
 },
 "nbformat": 4,
 "nbformat_minor": 0
}
