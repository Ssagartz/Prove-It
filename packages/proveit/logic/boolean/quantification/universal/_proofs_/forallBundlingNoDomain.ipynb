{
 "cells": [
  {
   "cell_type": "markdown",
   "metadata": {
    "collapsed": true,
    "deletable": true,
    "editable": true
   },
   "source": [
    "Proof of <a class=\"ProveItLink\" href=\"..\\..\\..\\..\\..\\_context_.ipynb\">proveit</a>.<a class=\"ProveItLink\" href=\"..\\..\\..\\..\\_context_.ipynb\">logic</a>.<a class=\"ProveItLink\" href=\"..\\..\\..\\_context_.ipynb\">boolean</a>.<a class=\"ProveItLink\" href=\"..\\..\\_context_.ipynb\">quantification</a>.<a class=\"ProveItLink\" href=\"..\\_context_.ipynb\">universal</a>.<a href=\"../_theorems_.ipynb#forallBundlingNoDomain\" class=\"ProveItLink\">forallBundlingNoDomain</a> theorem\n",
    "========\n",
    "*** see <a href=\"../__pv_it/7947bdb7c2ca9de84d18cd6b01984710a7defd070/dependencies.ipynb\" class=\"ProveItLink\">dependencies</a> ***"
   ]
  },
  {
   "cell_type": "code",
   "execution_count": 1,
   "metadata": {
    "collapsed": true,
    "deletable": true,
    "editable": true
   },
   "outputs": [
    {
     "name": "stdout",
     "output_type": "stream",
     "text": [
      "Recorded 'presuming' information\n",
      "Presuming previous theorems in this context (and any of their dependencies).\n",
      "Beginning proof of\n"
     ]
    },
    {
     "data": {
      "text/html": [
       "<strong id=\"forallBundlingNoDomain\">forallBundlingNoDomain:</strong> <a href=\"..\\__pv_it\\7947bdb7c2ca9de84d18cd6b01984710a7defd070\\expr.ipynb\" target=\"_blank\"><img src=\"..\\__pv_it\\7947bdb7c2ca9de84d18cd6b01984710a7defd070\\expr.png\" style=\"display:inline;vertical-align:middle;\" /></a><br>(see <a class=\"ProveItLink\" href=\"..\\__pv_it\\7947bdb7c2ca9de84d18cd6b01984710a7defd070\\dependencies.ipynb\" target=\"_blank\">dependencies</a>)"
      ],
      "text/plain": [
       "forallBundlingNoDomain: forall_{P, Q_{#}, R_{#}} ([forall_{x_{*}, y_{*} |  ..,Q_{#}( ..,x_{*},.. ),...,R_{#}( ..,x_{*},...,y_{*},.. ),.. } P( ..,x_{*},...,y_{*},.. )] => [forall_{x_{*} |  ..,Q_{#}( ..,x_{*},.. ),.. } [forall_{y_{*} |  ..,R_{#}( ..,x_{*},...,y_{*},.. ),.. } P( ..,x_{*},...,y_{*},.. )]])"
      ]
     },
     "execution_count": 1,
     "metadata": {},
     "output_type": "execute_result"
    }
   ],
   "source": [
    "import proveit\n",
    "%begin_proof forallBundlingNoDomain presuming []"
   ]
  },
  {
   "cell_type": "code",
   "execution_count": 2,
   "metadata": {
    "collapsed": true,
    "deletable": true,
    "editable": true
   },
   "outputs": [],
   "source": []
  }
 ],
 "metadata": {
  "kernelspec": {
   "display_name": "Python 2",
   "language": "python",
   "name": "python2"
  },
  "language_info": {
   "codemirror_mode": {
    "name": "ipython",
    "version": 2
   },
   "file_extension": ".py",
   "mimetype": "text/x-python",
   "name": "python",
   "nbconvert_exporter": "python",
   "pygments_lexer": "ipython2",
   "version": "2.7.11"
  }
 },
 "nbformat": 4,
 "nbformat_minor": 0
}
