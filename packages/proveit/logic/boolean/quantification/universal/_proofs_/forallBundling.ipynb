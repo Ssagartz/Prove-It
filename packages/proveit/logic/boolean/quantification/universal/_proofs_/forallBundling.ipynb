{
 "cells": [
  {
   "cell_type": "markdown",
   "metadata": {
    "collapsed": true,
    "deletable": true,
    "editable": true
   },
   "source": [
    "Proof of <a href=\"../_theorems_.ipynb#forallBundling\">forallBundling</a> theorem\n",
    "========\n",
    "*** see <a href=\"../__pv_it/34f6e96aee52ca4704e3327ec8c9911218fb3b240/dependencies.ipynb\">dependencies</a> ***"
   ]
  },
  {
   "cell_type": "code",
   "execution_count": 1,
   "metadata": {
    "collapsed": false,
    "deletable": true,
    "editable": true
   },
   "outputs": [
    {
     "name": "stdout",
     "output_type": "stream",
     "text": [
      "Beginning proof of\n"
     ]
    },
    {
     "data": {
      "text/html": [
       "<strong id=\"forallBundling\">forallBundling:</strong> <a href=\"..\\__pv_it\\34f6e96aee52ca4704e3327ec8c9911218fb3b240\\expr.ipynb\" target=\"_blank\"><img src=\"..\\__pv_it\\34f6e96aee52ca4704e3327ec8c9911218fb3b240\\expr.png\" style=\"display:inline;vertical-align:middle;\" /></a><br>"
      ],
      "text/plain": [
       "forallBundling: forall_{P, Q_{#}, R_{#}, S} ([forall_{x_{*} in S |  ..,Q_{#}( ..,x_{*},.. ),.. } [forall_{y_{*} in S |  ..,R_{#}( ..,x_{*},...,y_{*},.. ),.. } P( ..,x_{*},...,y_{*},.. )]] => [forall_{x_{*}, y_{*} in S |  ..,Q_{#}( ..,x_{*},.. ),...,R_{#}( ..,x_{*},...,y_{*},.. ),.. } P( ..,x_{*},...,y_{*},.. )])"
      ]
     },
     "execution_count": 1,
     "metadata": {},
     "output_type": "execute_result"
    }
   ],
   "source": [
    "from proveit import Etcetera\n",
    "from proveit.logic.boolean.quantification._common_ import generalNestedForall\n",
    "from proveit._common_ import xMulti, xEtc, yMulti, etc_QxEtc, etc_RxyEtc, S\n",
    "from proveit.logic import InSet\n",
    "%begin_proof forallBundling presuming []"
   ]
  },
  {
   "cell_type": "code",
   "execution_count": 2,
   "metadata": {
    "collapsed": false,
    "deletable": true,
    "editable": true
   },
   "outputs": [
    {
     "data": {
      "text/html": [
       "<strong id=\"assumptions\">assumptions:</strong> <a href=\"..\\__pv_it\\acc34bfec92e055db3fa1e6609cf78343f5e4a580\\expr.ipynb\" target=\"_blank\"><img src=\"..\\__pv_it\\acc34bfec92e055db3fa1e6609cf78343f5e4a580\\expr.png\" style=\"display:inline;vertical-align:middle;\" /></a><br>"
      ],
      "text/plain": [
       "assumptions: ([forall_{x_{*} in S |  ..,Q_{#}( ..,x_{*},.. ),.. } [forall_{y_{*} in S |  ..,R_{#}( ..,x_{*},...,y_{*},.. ),.. } P( ..,x_{*},...,y_{*},.. )]], ..,(x_{*} in S),...,Q_{#}( ..,x_{*},.. ),...,(y_{*} in S),...,R_{#}( ..,x_{*},...,y_{*},.. ),.. )"
      ]
     },
     "execution_count": 2,
     "metadata": {},
     "output_type": "execute_result"
    }
   ],
   "source": [
    "assumptions = [generalNestedForall, Etcetera(InSet(xMulti, S)), etc_QxEtc, Etcetera(InSet(yMulti, S)), etc_RxyEtc]"
   ]
  },
  {
   "cell_type": "code",
   "execution_count": 3,
   "metadata": {
    "collapsed": false,
    "deletable": true,
    "editable": true
   },
   "outputs": [
    {
     "data": {
      "text/html": [
       "<strong id=\"instanceExpr\">instanceExpr:</strong> <span style=\"font-size:20px;\"><a href=\"..\\__pv_it\\4f2d6fa2e2216da098b6a3233a2628a9e71050080\\expr.ipynb\" target=\"_blank\"><img src=\"..\\__pv_it\\4f2d6fa2e2216da098b6a3233a2628a9e71050080\\expr.png\" style=\"display:inline;vertical-align:middle;\" /></a> &#x22A2;&nbsp;<a href=\"..\\__pv_it\\364ff1a0a52db4add1357adc7cd49da79d5e7e8f0\\expr.ipynb\" target=\"_blank\"><img src=\"..\\__pv_it\\364ff1a0a52db4add1357adc7cd49da79d5e7e8f0\\expr.png\" style=\"display:inline;vertical-align:middle;\" /></a></span><br>"
      ],
      "text/plain": [
       "instanceExpr: {[forall_{x_{*} in S |  ..,Q_{#}( ..,x_{*},.. ),.. } [forall_{y_{*} in S |  ..,R_{#}( ..,x_{*},...,y_{*},.. ),.. } P( ..,x_{*},...,y_{*},.. )]], ..,(x_{*} in S),...,Q_{#}( ..,x_{*},.. ),...,(y_{*} in S),...,R_{#}( ..,x_{*},...,y_{*},.. ),.. } |= P( ..,x_{*},...,y_{*},.. )"
      ]
     },
     "execution_count": 3,
     "metadata": {},
     "output_type": "execute_result"
    }
   ],
   "source": [
    "instanceExpr = generalNestedForall.specialize({yMulti:yMulti}, assumptions=assumptions)"
   ]
  },
  {
   "cell_type": "code",
   "execution_count": 4,
   "metadata": {
    "collapsed": false,
    "deletable": true,
    "editable": true
   },
   "outputs": [
    {
     "data": {
      "text/html": [
       "<strong id=\"bundledForall\">bundledForall:</strong> <span style=\"font-size:20px;\"><a href=\"..\\__pv_it\\9223a9ba79185e822dbfba9f50697f7182c5dc800\\expr.ipynb\" target=\"_blank\"><img src=\"..\\__pv_it\\9223a9ba79185e822dbfba9f50697f7182c5dc800\\expr.png\" style=\"display:inline;vertical-align:middle;\" /></a> &#x22A2;&nbsp;<a href=\"..\\__pv_it\\aac4b164cb1368358744996d0bdcf073b9a91e500\\expr.ipynb\" target=\"_blank\"><img src=\"..\\__pv_it\\aac4b164cb1368358744996d0bdcf073b9a91e500\\expr.png\" style=\"display:inline;vertical-align:middle;\" /></a></span><br>"
      ],
      "text/plain": [
       "bundledForall: {[forall_{x_{*} in S |  ..,Q_{#}( ..,x_{*},.. ),.. } [forall_{y_{*} in S |  ..,R_{#}( ..,x_{*},...,y_{*},.. ),.. } P( ..,x_{*},...,y_{*},.. )]]} |= forall_{x_{*}, y_{*} in S |  ..,Q_{#}( ..,x_{*},.. ),...,R_{#}( ..,x_{*},...,y_{*},.. ),.. } P( ..,x_{*},...,y_{*},.. )"
      ]
     },
     "execution_count": 4,
     "metadata": {},
     "output_type": "execute_result"
    }
   ],
   "source": [
    "bundledForall = instanceExpr.generalize((xMulti, yMulti), domain=S, conditions=[etc_QxEtc, etc_RxyEtc])"
   ]
  },
  {
   "cell_type": "code",
   "execution_count": 5,
   "metadata": {
    "collapsed": false,
    "deletable": true,
    "editable": true
   },
   "outputs": [
    {
     "data": {
      "text/html": [
       "<strong id=\"implication\">implication:</strong> <span style=\"font-size:20px;\"> &#x22A2;&nbsp;<a href=\"..\\__pv_it\\e07f511cd4e6aa0cd75e5267965882398c04c4410\\expr.ipynb\" target=\"_blank\"><img src=\"..\\__pv_it\\e07f511cd4e6aa0cd75e5267965882398c04c4410\\expr.png\" style=\"display:inline;vertical-align:middle;\" /></a></span><br>"
      ],
      "text/plain": [
       "implication: |= [forall_{x_{*} in S |  ..,Q_{#}( ..,x_{*},.. ),.. } [forall_{y_{*} in S |  ..,R_{#}( ..,x_{*},...,y_{*},.. ),.. } P( ..,x_{*},...,y_{*},.. )]] => [forall_{x_{*}, y_{*} in S |  ..,Q_{#}( ..,x_{*},.. ),...,R_{#}( ..,x_{*},...,y_{*},.. ),.. } P( ..,x_{*},...,y_{*},.. )]"
      ]
     },
     "execution_count": 5,
     "metadata": {},
     "output_type": "execute_result"
    }
   ],
   "source": [
    "implication = bundledForall.asImplication(generalNestedForall)"
   ]
  },
  {
   "cell_type": "code",
   "execution_count": 6,
   "metadata": {
    "collapsed": false,
    "deletable": true,
    "editable": true
   },
   "outputs": [
    {
     "name": "stdout",
     "output_type": "stream",
     "text": [
      "forallBundling has been proven.  Now just execute \"%qed\".\n"
     ]
    },
    {
     "data": {
      "text/html": [
       "<span style=\"font-size:20px;\"> &#x22A2;&nbsp;<a href=\"..\\__pv_it\\34f6e96aee52ca4704e3327ec8c9911218fb3b240\\expr.ipynb\" target=\"_blank\"><img src=\"..\\__pv_it\\34f6e96aee52ca4704e3327ec8c9911218fb3b240\\expr.png\" style=\"display:inline;vertical-align:middle;\" /></a></span>"
      ],
      "text/plain": [
       "|= forall_{P, Q_{#}, R_{#}, S} ([forall_{x_{*} in S |  ..,Q_{#}( ..,x_{*},.. ),.. } [forall_{y_{*} in S |  ..,R_{#}( ..,x_{*},...,y_{*},.. ),.. } P( ..,x_{*},...,y_{*},.. )]] => [forall_{x_{*}, y_{*} in S |  ..,Q_{#}( ..,x_{*},.. ),...,R_{#}( ..,x_{*},...,y_{*},.. ),.. } P( ..,x_{*},...,y_{*},.. )])"
      ]
     },
     "execution_count": 6,
     "metadata": {},
     "output_type": "execute_result"
    }
   ],
   "source": [
    "implication.generalize(forallBundling.instanceVars)"
   ]
  },
  {
   "cell_type": "code",
   "execution_count": 7,
   "metadata": {
    "collapsed": false,
    "deletable": true,
    "editable": true
   },
   "outputs": [
    {
     "name": "stdout",
     "output_type": "stream",
     "text": [
      "proveit.logic.boolean.quantification.universal.forallBundling has a proof\n",
      "proveit.logic.boolean.quantification.universal.forallBundling has been completely proven\n"
     ]
    },
    {
     "data": {
      "text/html": [
       "<table><tr><th colspan=2>statement</th><th>step type</th><th>requirements</th></tr>\n",
       "<tr><td>0</td><td><span style=\"font-size:20px;\"> &#x22A2;&nbsp;<a href=\"..\\__pv_it\\34f6e96aee52ca4704e3327ec8c9911218fb3b240\\expr.ipynb\" target=\"_blank\"><img src=\"..\\__pv_it\\34f6e96aee52ca4704e3327ec8c9911218fb3b240\\expr.png\" style=\"display:inline;vertical-align:middle;\" /></a></span></td><td>generalizaton</td><td>1</td></tr>\n",
       "<tr><td>1</td><td><span style=\"font-size:20px;\"> &#x22A2;&nbsp;<a href=\"..\\__pv_it\\e07f511cd4e6aa0cd75e5267965882398c04c4410\\expr.ipynb\" target=\"_blank\"><img src=\"..\\__pv_it\\e07f511cd4e6aa0cd75e5267965882398c04c4410\\expr.png\" style=\"display:inline;vertical-align:middle;\" /></a></span></td><td>hypothetical reasoning</td><td>2</td></tr>\n",
       "<tr><td>2</td><td><span style=\"font-size:20px;\"><a href=\"..\\__pv_it\\9223a9ba79185e822dbfba9f50697f7182c5dc800\\expr.ipynb\" target=\"_blank\"><img src=\"..\\__pv_it\\9223a9ba79185e822dbfba9f50697f7182c5dc800\\expr.png\" style=\"display:inline;vertical-align:middle;\" /></a> &#x22A2;&nbsp;<a href=\"..\\__pv_it\\aac4b164cb1368358744996d0bdcf073b9a91e500\\expr.ipynb\" target=\"_blank\"><img src=\"..\\__pv_it\\aac4b164cb1368358744996d0bdcf073b9a91e500\\expr.png\" style=\"display:inline;vertical-align:middle;\" /></a></span></td><td>generalizaton</td><td>3</td></tr>\n",
       "<tr><td>3</td><td><span style=\"font-size:20px;\"><a href=\"..\\__pv_it\\4f2d6fa2e2216da098b6a3233a2628a9e71050080\\expr.ipynb\" target=\"_blank\"><img src=\"..\\__pv_it\\4f2d6fa2e2216da098b6a3233a2628a9e71050080\\expr.png\" style=\"display:inline;vertical-align:middle;\" /></a> &#x22A2;&nbsp;<a href=\"..\\__pv_it\\364ff1a0a52db4add1357adc7cd49da79d5e7e8f0\\expr.ipynb\" target=\"_blank\"><img src=\"..\\__pv_it\\364ff1a0a52db4add1357adc7cd49da79d5e7e8f0\\expr.png\" style=\"display:inline;vertical-align:middle;\" /></a></span></td><td>specialization</td><td>4, 5, 6, 7, 8</td></tr>\n",
       "<tr><td colspan=5 style=\"text-align:center\"><span style=\"font-size:20px;\"><a href=\"..\\__pv_it\\83741be5d3fd367ab74341487080947fee59ecb40\\expr.ipynb\" target=\"_blank\"><img src=\"..\\__pv_it\\83741be5d3fd367ab74341487080947fee59ecb40\\expr.png\" style=\"display:inline;vertical-align:middle;\" /></a>, <a href=\"..\\__pv_it\\362f8b56f0fbab0ce16993f05a36dab973c849480\\expr.ipynb\" target=\"_blank\"><img src=\"..\\__pv_it\\362f8b56f0fbab0ce16993f05a36dab973c849480\\expr.png\" style=\"display:inline;vertical-align:middle;\" /></a></span></td></tr><tr><td>4</td><td><span style=\"font-size:20px;\"><a href=\"..\\__pv_it\\9223a9ba79185e822dbfba9f50697f7182c5dc800\\expr.ipynb\" target=\"_blank\"><img src=\"..\\__pv_it\\9223a9ba79185e822dbfba9f50697f7182c5dc800\\expr.png\" style=\"display:inline;vertical-align:middle;\" /></a> &#x22A2;&nbsp;<a href=\"..\\..\\__pv_it\\81cd04903d457b3ec44154e31c27ea995002beea0\\expr.ipynb\" target=\"_blank\"><img src=\"..\\..\\__pv_it\\81cd04903d457b3ec44154e31c27ea995002beea0\\expr.png\" style=\"display:inline;vertical-align:middle;\" /></a></span></td><td>assumption</td><td></td></tr>\n",
       "<tr><td>5</td><td><span style=\"font-size:20px;\"><a href=\"..\\__pv_it\\008728aefce9198d533b913a8129c129d82753960\\expr.ipynb\" target=\"_blank\"><img src=\"..\\__pv_it\\008728aefce9198d533b913a8129c129d82753960\\expr.png\" style=\"display:inline;vertical-align:middle;\" /></a> &#x22A2;&nbsp;<a href=\"..\\..\\..\\..\\..\\__pv_it\\b197981dd84b1f1029cc5825b0687b0874336f660\\expr.ipynb\" target=\"_blank\"><img src=\"..\\..\\..\\..\\..\\__pv_it\\b197981dd84b1f1029cc5825b0687b0874336f660\\expr.png\" style=\"display:inline;vertical-align:middle;\" /></a></span></td><td>assumption</td><td></td></tr>\n",
       "<tr><td>6</td><td><span style=\"font-size:20px;\"><a href=\"..\\__pv_it\\7483bac93310539a0e52d166fe41c1b29b56f13c0\\expr.ipynb\" target=\"_blank\"><img src=\"..\\__pv_it\\7483bac93310539a0e52d166fe41c1b29b56f13c0\\expr.png\" style=\"display:inline;vertical-align:middle;\" /></a> &#x22A2;&nbsp;<a href=\"..\\__pv_it\\ad0388a811495fa164b26defdbc20570c8a0cfde0\\expr.ipynb\" target=\"_blank\"><img src=\"..\\__pv_it\\ad0388a811495fa164b26defdbc20570c8a0cfde0\\expr.png\" style=\"display:inline;vertical-align:middle;\" /></a></span></td><td>assumption</td><td></td></tr>\n",
       "<tr><td>7</td><td><span style=\"font-size:20px;\"><a href=\"..\\__pv_it\\786c23da5b8c408dcd213bd8a795fdfccbb302390\\expr.ipynb\" target=\"_blank\"><img src=\"..\\__pv_it\\786c23da5b8c408dcd213bd8a795fdfccbb302390\\expr.png\" style=\"display:inline;vertical-align:middle;\" /></a> &#x22A2;&nbsp;<a href=\"..\\..\\..\\..\\..\\__pv_it\\3c5e759d0c8cbf4f313208f17237d8a75b72a7db0\\expr.ipynb\" target=\"_blank\"><img src=\"..\\..\\..\\..\\..\\__pv_it\\3c5e759d0c8cbf4f313208f17237d8a75b72a7db0\\expr.png\" style=\"display:inline;vertical-align:middle;\" /></a></span></td><td>assumption</td><td></td></tr>\n",
       "<tr><td>8</td><td><span style=\"font-size:20px;\"><a href=\"..\\__pv_it\\f283decfe9f52de57457e91d77011a0bc28bd1c60\\expr.ipynb\" target=\"_blank\"><img src=\"..\\__pv_it\\f283decfe9f52de57457e91d77011a0bc28bd1c60\\expr.png\" style=\"display:inline;vertical-align:middle;\" /></a> &#x22A2;&nbsp;<a href=\"..\\__pv_it\\1a9bd9f7c768ecb006e7eabef1c881d96d1ddf0f0\\expr.ipynb\" target=\"_blank\"><img src=\"..\\__pv_it\\1a9bd9f7c768ecb006e7eabef1c881d96d1ddf0f0\\expr.png\" style=\"display:inline;vertical-align:middle;\" /></a></span></td><td>assumption</td><td></td></tr>\n"
      ],
      "text/plain": [
       "<proveit._core_.proof.Generalization instance at 0x00000000062D7888>"
      ]
     },
     "execution_count": 7,
     "metadata": {},
     "output_type": "execute_result"
    }
   ],
   "source": [
    "%qed"
   ]
  },
  {
   "cell_type": "code",
   "execution_count": null,
   "metadata": {
    "collapsed": true,
    "deletable": true,
    "editable": true
   },
   "outputs": [],
   "source": []
  }
 ],
 "metadata": {
  "kernelspec": {
   "display_name": "Python 2",
   "language": "python",
   "name": "python2"
  },
  "language_info": {
   "codemirror_mode": {
    "name": "ipython",
    "version": 2
   },
   "file_extension": ".py",
   "mimetype": "text/x-python",
   "name": "python",
   "nbconvert_exporter": "python",
   "pygments_lexer": "ipython2",
   "version": "2.7.11"
  }
 },
 "nbformat": 4,
 "nbformat_minor": 0
}
