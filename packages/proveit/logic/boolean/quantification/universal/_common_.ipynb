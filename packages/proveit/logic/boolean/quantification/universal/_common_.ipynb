{
 "cells": [
  {
   "cell_type": "markdown",
   "metadata": {
    "collapsed": true,
    "deletable": true,
    "editable": true
   },
   "source": [
    "Common expressions for context <a href=\"_context_.ipynb\" class=\"ProveItLink\">proveit.logic.boolean.quantification.universal</a>\n",
    "========"
   ]
  },
  {
   "cell_type": "code",
   "execution_count": 1,
   "metadata": {
    "collapsed": false,
    "deletable": true,
    "editable": true
   },
   "outputs": [
    {
     "name": "stdout",
     "output_type": "stream",
     "text": [
      "Defining common sub-expressions for context 'proveit.logic.boolean.quantification.universal'\n",
      "Subsequent end-of-cell assignments will define common sub-expressions\n",
      "%end_common will finalize the definitions\n"
     ]
    }
   ],
   "source": [
    "from proveit.logic import TRUE, inBool, And, Forall, Equals, NotEquals\n",
    "from proveit.number import Naturals, NaturalsPos, Len\n",
    "from proveit._common_ import m, n, P, S, QQ, xx\n",
    "from proveit.logic._common_ import xIter1l, yIter1l, yIter1n, zIter1l\n",
    "from proveit.logic._common_ import P_xIter1l, P_xIter1l_yIter1n, P_yIter1l\n",
    "from proveit.logic._common_ import iterQ1k, iterQ1k_xIter1l, iterQ1k_yIter1l, iterQ1k_zIter1l\n",
    "from proveit.logic._common_ import R_xIter1l, R_zIter1l, iterR1m, iterR1m_xIter1l_yIter1n\n",
    "%begin common"
   ]
  },
  {
   "cell_type": "code",
   "execution_count": 2,
   "metadata": {
    "collapsed": false,
    "deletable": true,
    "editable": true
   },
   "outputs": [
    {
     "data": {
      "text/html": [
       "<strong id=\"generalForall_Px\">generalForall_Px:</strong> <a class=\"ProveItLink\" href=\"__pv_it\\b5ab08f7407da6f726b5309f01717b2b544ad8280\\expr.ipynb\"><img src=\"__pv_it\\b5ab08f7407da6f726b5309f01717b2b544ad8280\\expr.png\" style=\"display:inline;vertical-align:middle;\" /></a><br>"
      ],
      "text/plain": [
       "generalForall_Px: forall_{x_(1),...,x_(l) | Q_(1)(x_(1),...,x_(l)) ,  ...  , Q_(k)(x_(1),...,x_(l))} P(x_(1),...,x_(l))"
      ]
     },
     "execution_count": 2,
     "metadata": {},
     "output_type": "execute_result"
    }
   ],
   "source": [
    "generalForall_Px = Forall(xIter1l, P_xIter1l, conditions=[iterQ1k_xIter1l])"
   ]
  },
  {
   "cell_type": "code",
   "execution_count": 3,
   "metadata": {
    "collapsed": false
   },
   "outputs": [
    {
     "data": {
      "text/html": [
       "<strong id=\"consolidatedConditionForall_Px\">consolidatedConditionForall_Px:</strong> <a class=\"ProveItLink\" href=\"__pv_it\\6f8632eb4d951666b8e81a37ff74f1a0d4538ff40\\expr.ipynb\"><img src=\"__pv_it\\6f8632eb4d951666b8e81a37ff74f1a0d4538ff40\\expr.png\" style=\"display:inline;vertical-align:middle;\" /></a><br>"
      ],
      "text/plain": [
       "consolidatedConditionForall_Px: forall_{x_(1),...,x_(l) | Q_(1)(x_(1),...,x_(l)) and  ...  and Q_(k)(x_(1),...,x_(l))} P(x_(1),...,x_(l))"
      ]
     },
     "execution_count": 3,
     "metadata": {},
     "output_type": "execute_result"
    }
   ],
   "source": [
    "consolidatedConditionForall_Px = Forall(xIter1l, P_xIter1l, conditions=[And(iterQ1k_xIter1l)])"
   ]
  },
  {
   "cell_type": "code",
   "execution_count": 4,
   "metadata": {
    "collapsed": false,
    "deletable": true,
    "editable": true
   },
   "outputs": [
    {
     "data": {
      "text/html": [
       "<strong id=\"generalForall_Py\">generalForall_Py:</strong> <a class=\"ProveItLink\" href=\"__pv_it\\976d1670a54cc9178db7e39b8a3e0f80dc9dbfc00\\expr.ipynb\"><img src=\"__pv_it\\976d1670a54cc9178db7e39b8a3e0f80dc9dbfc00\\expr.png\" style=\"display:inline;vertical-align:middle;\" /></a><br>"
      ],
      "text/plain": [
       "generalForall_Py: forall_{y_(1),...,y_(l) | Q_(1)(y_(1),...,y_(l)) ,  ...  , Q_(k)(y_(1),...,y_(l))} P(y_(1),...,y_(l))"
      ]
     },
     "execution_count": 4,
     "metadata": {},
     "output_type": "execute_result"
    }
   ],
   "source": [
    "generalForall_Py = Forall(yIter1l, P_yIter1l, conditions=[iterQ1k_yIter1l])"
   ]
  },
  {
   "cell_type": "code",
   "execution_count": 5,
   "metadata": {
    "collapsed": false,
    "deletable": true,
    "editable": true
   },
   "outputs": [
    {
     "data": {
      "text/html": [
       "<strong id=\"generalForall_Rz\">generalForall_Rz:</strong> <a class=\"ProveItLink\" href=\"__pv_it\\cd454e936d00c8bac7f3394525f0d9d2639f42060\\expr.ipynb\"><img src=\"__pv_it\\cd454e936d00c8bac7f3394525f0d9d2639f42060\\expr.png\" style=\"display:inline;vertical-align:middle;\" /></a><br>"
      ],
      "text/plain": [
       "generalForall_Rz: forall_{z_(1),...,z_(l) | Q_(1)(z_(1),...,z_(l)) ,  ...  , Q_(k)(z_(1),...,z_(l))} R(z_(1),...,z_(l))"
      ]
     },
     "execution_count": 5,
     "metadata": {},
     "output_type": "execute_result"
    }
   ],
   "source": [
    "generalForall_Rz = Forall(zIter1l, R_zIter1l, conditions=[iterQ1k_zIter1l])"
   ]
  },
  {
   "cell_type": "code",
   "execution_count": 6,
   "metadata": {
    "collapsed": false,
    "deletable": true,
    "editable": true
   },
   "outputs": [
    {
     "data": {
      "text/html": [
       "<strong id=\"generalForall_Rx_given_Px\">generalForall_Rx_given_Px:</strong> <a class=\"ProveItLink\" href=\"__pv_it\\6843cae1e771f624fc805a0e6edd00785b96ef760\\expr.ipynb\"><img src=\"__pv_it\\6843cae1e771f624fc805a0e6edd00785b96ef760\\expr.png\" style=\"display:inline;vertical-align:middle;\" /></a><br>"
      ],
      "text/plain": [
       "generalForall_Rx_given_Px: forall_{x_(1),...,x_(l) | P(x_(1),...,x_(l)) , Q_(1)(x_(1),...,x_(l)) ,  ...  , Q_(k)(x_(1),...,x_(l))} R(x_(1),...,x_(l))"
      ]
     },
     "execution_count": 6,
     "metadata": {},
     "output_type": "execute_result"
    }
   ],
   "source": [
    "generalForall_Rx_given_Px = Forall([xIter1l], R_xIter1l, conditions=[P_xIter1l, iterQ1k_xIter1l])"
   ]
  },
  {
   "cell_type": "code",
   "execution_count": 7,
   "metadata": {
    "collapsed": false,
    "deletable": true,
    "editable": true
   },
   "outputs": [
    {
     "data": {
      "text/html": [
       "<strong id=\"generalForall_PyNotT\">generalForall_PyNotT:</strong> <a class=\"ProveItLink\" href=\"__pv_it\\bbb32001f70ed08ac308c39720f3a4c4694ece6a0\\expr.ipynb\"><img src=\"__pv_it\\bbb32001f70ed08ac308c39720f3a4c4694ece6a0\\expr.png\" style=\"display:inline;vertical-align:middle;\" /></a><br>"
      ],
      "text/plain": [
       "generalForall_PyNotT: forall_{y_(1),...,y_(l) | Q_(1)(y_(1),...,y_(l)) ,  ...  , Q_(k)(y_(1),...,y_(l))} (P(y_(1),...,y_(l)) != TRUE)"
      ]
     },
     "execution_count": 7,
     "metadata": {},
     "output_type": "execute_result"
    }
   ],
   "source": [
    "generalForall_PyNotT = Forall(yIter1l, NotEquals(P_yIter1l, TRUE), conditions=[iterQ1k_yIter1l])"
   ]
  },
  {
   "cell_type": "code",
   "execution_count": 8,
   "metadata": {
    "collapsed": false,
    "deletable": true,
    "editable": true
   },
   "outputs": [
    {
     "data": {
      "text/html": [
       "<strong id=\"generalNestedForall_Pxy\">generalNestedForall_Pxy:</strong> <a class=\"ProveItLink\" href=\"__pv_it\\979ff5778ddf93269708ea0e7d3082b989b81b7e0\\expr.ipynb\"><img src=\"__pv_it\\979ff5778ddf93269708ea0e7d3082b989b81b7e0\\expr.png\" style=\"display:inline;vertical-align:middle;\" /></a><br>"
      ],
      "text/plain": [
       "generalNestedForall_Pxy: forall_{x_(1),...,x_(l) | Q_(1)(x_(1),...,x_(l)) ,  ...  , Q_(k)(x_(1),...,x_(l))} [forall_{y_(1),...,y_(n) | R_(1)(x_(1) ,  ...  , x_(l) , y_(1) ,  ...  , y_(n)) ,  ...  , R_(m)(x_(1) ,  ...  , x_(l) , y_(1) ,  ...  , y_(n))} P(x_(1) ,  ...  , x_(l) , y_(1) ,  ...  , y_(n))]"
      ]
     },
     "execution_count": 8,
     "metadata": {},
     "output_type": "execute_result"
    }
   ],
   "source": [
    "generalNestedForall_Pxy = Forall(xIter1l, Forall(yIter1n, P_xIter1l_yIter1n,\n",
    "                                                 conditions=[iterR1m_xIter1l_yIter1n]),\n",
    "                                 conditions=[iterQ1k_xIter1l])"
   ]
  },
  {
   "cell_type": "code",
   "execution_count": 9,
   "metadata": {
    "collapsed": false,
    "deletable": true,
    "editable": true
   },
   "outputs": [
    {
     "data": {
      "text/html": [
       "<strong id=\"generalBundledForall_Pxy\">generalBundledForall_Pxy:</strong> <a class=\"ProveItLink\" href=\"__pv_it\\20e4998b6e8a5bac099abb09297e88cebffa7d940\\expr.ipynb\"><img src=\"__pv_it\\20e4998b6e8a5bac099abb09297e88cebffa7d940\\expr.png\" style=\"display:inline;vertical-align:middle;\" /></a><br>"
      ],
      "text/plain": [
       "generalBundledForall_Pxy: forall_{x_(1),...,x_(l), y_(1),...,y_(n) | Q_(1)(x_(1),...,x_(l)) ,  ...  , Q_(k)(x_(1),...,x_(l)) , R_(1)(x_(1) ,  ...  , x_(l) , y_(1) ,  ...  , y_(n)) ,  ...  , R_(m)(x_(1) ,  ...  , x_(l) , y_(1) ,  ...  , y_(n))} P(x_(1) ,  ...  , x_(l) , y_(1) ,  ...  , y_(n))"
      ]
     },
     "execution_count": 9,
     "metadata": {},
     "output_type": "execute_result"
    }
   ],
   "source": [
    "generalBundledForall_Pxy = Forall([xIter1l, yIter1n], P_xIter1l_yIter1n,\n",
    "                                  conditions=[iterQ1k_xIter1l, iterR1m_xIter1l_yIter1n])"
   ]
  },
  {
   "cell_type": "code",
   "execution_count": 10,
   "metadata": {
    "collapsed": false,
    "deletable": true,
    "editable": true
   },
   "outputs": [
    {
     "name": "stdout",
     "output_type": "stream",
     "text": [
      "Common expressions may be imported from autogenerated _common_.py\n"
     ]
    }
   ],
   "source": [
    "%end common"
   ]
  },
  {
   "cell_type": "code",
   "execution_count": 11,
   "metadata": {
    "collapsed": true,
    "deletable": true,
    "editable": true
   },
   "outputs": [],
   "source": []
  }
 ],
 "metadata": {
  "kernelspec": {
   "display_name": "Python 2",
   "language": "python",
   "name": "python2"
  },
  "language_info": {
   "codemirror_mode": {
    "name": "ipython",
    "version": 2
   },
   "file_extension": ".py",
   "mimetype": "text/x-python",
   "name": "python",
   "nbconvert_exporter": "python",
   "pygments_lexer": "ipython2",
   "version": "2.7.11"
  }
 },
 "nbformat": 4,
 "nbformat_minor": 0
}
