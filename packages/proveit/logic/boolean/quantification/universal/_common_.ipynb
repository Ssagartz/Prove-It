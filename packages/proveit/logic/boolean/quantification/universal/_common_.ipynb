{
 "cells": [
  {
   "cell_type": "markdown",
   "metadata": {
    "collapsed": true,
    "deletable": true,
    "editable": true
   },
   "source": [
    "Common expressions for context <a href=\"_context_.ipynb\" class=\"ProveItLink\">proveit.logic.boolean.quantification.universal</a>\n",
    "========"
   ]
  },
  {
   "cell_type": "code",
   "execution_count": 1,
   "metadata": {
    "collapsed": false,
    "deletable": true,
    "editable": true
   },
   "outputs": [
    {
     "name": "stdout",
     "output_type": "stream",
     "text": [
      "Defining common sub-expressions for context 'proveit.logic.boolean.quantification.universal'\n",
      "Subsequent end-of-cell assignments will define common sub-expressions\n",
      "%end_common will finalize the definitions\n"
     ]
    }
   ],
   "source": [
    "from proveit.logic import TRUE, inBool, And, Forall, Equals, NotEquals\n",
    "from proveit.number import Naturals, NaturalsPos, Len\n",
    "from proveit._common_ import m, n, P, S, QQ, xx\n",
    "from proveit.logic._common_ import xIter1l, yIter1l, yIter1n, zIter1l\n",
    "from proveit.logic._common_ import P_xIter1l, P_xIter1l_yIter1n, P_yIter1l\n",
    "from proveit.logic._common_ import iterQ1k, iterQ1k_xIter1l, iterQ1k_yIter1l, iterQ1k_zIter1l\n",
    "from proveit.logic._common_ import R_xIter1l, R_zIter1l, iterR1m, iterR1m_xIter1l_yIter1n\n",
    "%begin common"
   ]
  },
  {
   "cell_type": "code",
   "execution_count": 2,
   "metadata": {
    "collapsed": false,
    "deletable": true,
    "editable": true
   },
   "outputs": [
    {
     "data": {
      "text/html": [
       "<strong id=\"generalForall_Px\">generalForall_Px:</strong> <a class=\"ProveItLink\" href=\"__pv_it/5fe65500225a1faf4d1092ffea7e1b123c9caac80/expr.ipynb\"><img src=\"__pv_it/5fe65500225a1faf4d1092ffea7e1b123c9caac80/expr.png\" style=\"display:inline;vertical-align:middle;\" /></a><br>"
      ],
      "text/plain": [
       "generalForall_Px: forall_{x_(1),...,x_(l) | Q_(1)(x_(1),...,x_(l)) ,  ...  , Q_(k)(x_(1),...,x_(l))} P(x_(1),...,x_(l))"
      ]
     },
     "execution_count": 2,
     "metadata": {},
     "output_type": "execute_result"
    }
   ],
   "source": [
    "generalForall_Px = Forall(xIter1l, P_xIter1l, conditions=[iterQ1k_xIter1l])"
   ]
  },
  {
   "cell_type": "code",
   "execution_count": 3,
   "metadata": {
    "collapsed": false,
    "deletable": true,
    "editable": true
   },
   "outputs": [
    {
     "data": {
      "text/html": [
       "<strong id=\"consolidatedConditionForall_Px\">consolidatedConditionForall_Px:</strong> <a class=\"ProveItLink\" href=\"__pv_it/0a43e960e997130af78373b88b01bf342749c91a0/expr.ipynb\"><img src=\"__pv_it/0a43e960e997130af78373b88b01bf342749c91a0/expr.png\" style=\"display:inline;vertical-align:middle;\" /></a><br>"
      ],
      "text/plain": [
       "consolidatedConditionForall_Px: forall_{x_(1),...,x_(l) | Q_(1)(x_(1),...,x_(l)) and  ...  and Q_(k)(x_(1),...,x_(l))} P(x_(1),...,x_(l))"
      ]
     },
     "execution_count": 3,
     "metadata": {},
     "output_type": "execute_result"
    }
   ],
   "source": [
    "consolidatedConditionForall_Px = Forall(xIter1l, P_xIter1l, conditions=[And(iterQ1k_xIter1l)])"
   ]
  },
  {
   "cell_type": "code",
   "execution_count": 4,
   "metadata": {
    "collapsed": false,
    "deletable": true,
    "editable": true
   },
   "outputs": [
    {
     "data": {
      "text/html": [
       "<strong id=\"generalForall_Py\">generalForall_Py:</strong> <a class=\"ProveItLink\" href=\"__pv_it/847aa388956818e738daf2e3587d2e65eedc0c0f0/expr.ipynb\"><img src=\"__pv_it/847aa388956818e738daf2e3587d2e65eedc0c0f0/expr.png\" style=\"display:inline;vertical-align:middle;\" /></a><br>"
      ],
      "text/plain": [
       "generalForall_Py: forall_{y_(1),...,y_(l) | Q_(1)(y_(1),...,y_(l)) ,  ...  , Q_(k)(y_(1),...,y_(l))} P(y_(1),...,y_(l))"
      ]
     },
     "execution_count": 4,
     "metadata": {},
     "output_type": "execute_result"
    }
   ],
   "source": [
    "generalForall_Py = Forall(yIter1l, P_yIter1l, conditions=[iterQ1k_yIter1l])"
   ]
  },
  {
   "cell_type": "code",
   "execution_count": 5,
   "metadata": {
    "collapsed": false,
    "deletable": true,
    "editable": true
   },
   "outputs": [
    {
     "data": {
      "text/html": [
       "<strong id=\"generalForall_Rz\">generalForall_Rz:</strong> <a class=\"ProveItLink\" href=\"__pv_it/1d3f888272aba7e1a56bd2ada0e389fe57e030610/expr.ipynb\"><img src=\"__pv_it/1d3f888272aba7e1a56bd2ada0e389fe57e030610/expr.png\" style=\"display:inline;vertical-align:middle;\" /></a><br>"
      ],
      "text/plain": [
       "generalForall_Rz: forall_{z_(1),...,z_(l) | Q_(1)(z_(1),...,z_(l)) ,  ...  , Q_(k)(z_(1),...,z_(l))} R(z_(1),...,z_(l))"
      ]
     },
     "execution_count": 5,
     "metadata": {},
     "output_type": "execute_result"
    }
   ],
   "source": [
    "generalForall_Rz = Forall(zIter1l, R_zIter1l, conditions=[iterQ1k_zIter1l])"
   ]
  },
  {
   "cell_type": "code",
   "execution_count": 6,
   "metadata": {
    "collapsed": false,
    "deletable": true,
    "editable": true
   },
   "outputs": [
    {
     "data": {
      "text/html": [
       "<strong id=\"generalForall_Rx_given_Px\">generalForall_Rx_given_Px:</strong> <a class=\"ProveItLink\" href=\"__pv_it/7bf369051a94402c08a54725b57b91b855d3be320/expr.ipynb\"><img src=\"__pv_it/7bf369051a94402c08a54725b57b91b855d3be320/expr.png\" style=\"display:inline;vertical-align:middle;\" /></a><br>"
      ],
      "text/plain": [
       "generalForall_Rx_given_Px: forall_{x_(1),...,x_(l) | P(x_(1),...,x_(l)) , Q_(1)(x_(1),...,x_(l)) ,  ...  , Q_(k)(x_(1),...,x_(l))} R(x_(1),...,x_(l))"
      ]
     },
     "execution_count": 6,
     "metadata": {},
     "output_type": "execute_result"
    }
   ],
   "source": [
    "generalForall_Rx_given_Px = Forall([xIter1l], R_xIter1l, conditions=[P_xIter1l, iterQ1k_xIter1l])"
   ]
  },
  {
   "cell_type": "code",
   "execution_count": 7,
   "metadata": {
    "collapsed": false,
    "deletable": true,
    "editable": true
   },
   "outputs": [
    {
     "data": {
      "text/html": [
       "<strong id=\"generalForall_PyNotT\">generalForall_PyNotT:</strong> <a class=\"ProveItLink\" href=\"__pv_it/e40dfad84ebec874faabe222de26b80b3c3c692c0/expr.ipynb\"><img src=\"__pv_it/e40dfad84ebec874faabe222de26b80b3c3c692c0/expr.png\" style=\"display:inline;vertical-align:middle;\" /></a><br>"
      ],
      "text/plain": [
       "generalForall_PyNotT: forall_{y_(1),...,y_(l) | Q_(1)(y_(1),...,y_(l)) ,  ...  , Q_(k)(y_(1),...,y_(l))} (P(y_(1),...,y_(l)) != TRUE)"
      ]
     },
     "execution_count": 7,
     "metadata": {},
     "output_type": "execute_result"
    }
   ],
   "source": [
    "generalForall_PyNotT = Forall(yIter1l, NotEquals(P_yIter1l, TRUE), conditions=[iterQ1k_yIter1l])"
   ]
  },
  {
   "cell_type": "code",
   "execution_count": 8,
   "metadata": {
    "collapsed": false,
    "deletable": true,
    "editable": true
   },
   "outputs": [
    {
     "data": {
      "text/html": [
       "<strong id=\"generalNestedForall_Pxy\">generalNestedForall_Pxy:</strong> <a class=\"ProveItLink\" href=\"__pv_it/d6464d98713567e9fa3e15df62ecde9ed9d36e270/expr.ipynb\"><img src=\"__pv_it/d6464d98713567e9fa3e15df62ecde9ed9d36e270/expr.png\" style=\"display:inline;vertical-align:middle;\" /></a><br>"
      ],
      "text/plain": [
       "generalNestedForall_Pxy: forall_{x_(1),...,x_(l) | Q_(1)(x_(1),...,x_(l)) ,  ...  , Q_(k)(x_(1),...,x_(l))} [forall_{y_(1),...,y_(n) | R_(1)(x_(1) ,  ...  , x_(l) , y_(1) ,  ...  , y_(n)) ,  ...  , R_(m)(x_(1) ,  ...  , x_(l) , y_(1) ,  ...  , y_(n))} P(x_(1) ,  ...  , x_(l) , y_(1) ,  ...  , y_(n))]"
      ]
     },
     "execution_count": 8,
     "metadata": {},
     "output_type": "execute_result"
    }
   ],
   "source": [
    "generalNestedForall_Pxy = Forall(xIter1l, Forall(yIter1n, P_xIter1l_yIter1n,\n",
    "                                                 conditions=[iterR1m_xIter1l_yIter1n]),\n",
    "                                 conditions=[iterQ1k_xIter1l])"
   ]
  },
  {
   "cell_type": "code",
   "execution_count": 9,
   "metadata": {
    "collapsed": false,
    "deletable": true,
    "editable": true
   },
   "outputs": [
    {
     "data": {
      "text/html": [
       "<strong id=\"generalBundledForall_Pxy\">generalBundledForall_Pxy:</strong> <a class=\"ProveItLink\" href=\"__pv_it/ab340f3bf9ffbc37fc4fe4783738304a27082d690/expr.ipynb\"><img src=\"__pv_it/ab340f3bf9ffbc37fc4fe4783738304a27082d690/expr.png\" style=\"display:inline;vertical-align:middle;\" /></a><br>"
      ],
      "text/plain": [
       "generalBundledForall_Pxy: forall_{x_(1),...,x_(l), y_(1),...,y_(n) | Q_(1)(x_(1),...,x_(l)) ,  ...  , Q_(k)(x_(1),...,x_(l)) , R_(1)(x_(1) ,  ...  , x_(l) , y_(1) ,  ...  , y_(n)) ,  ...  , R_(m)(x_(1) ,  ...  , x_(l) , y_(1) ,  ...  , y_(n))} P(x_(1) ,  ...  , x_(l) , y_(1) ,  ...  , y_(n))"
      ]
     },
     "execution_count": 9,
     "metadata": {},
     "output_type": "execute_result"
    }
   ],
   "source": [
    "generalBundledForall_Pxy = Forall([xIter1l, yIter1n], P_xIter1l_yIter1n,\n",
    "                                  conditions=[iterQ1k_xIter1l, iterR1m_xIter1l_yIter1n])"
   ]
  },
  {
   "cell_type": "code",
   "execution_count": 10,
   "metadata": {
    "collapsed": false,
    "deletable": true,
    "editable": true
   },
   "outputs": [
    {
     "name": "stdout",
     "output_type": "stream",
     "text": [
      "Common expressions may be imported from autogenerated _common_.py\n"
     ]
    }
   ],
   "source": [
    "%end common"
   ]
  },
  {
   "cell_type": "code",
   "execution_count": 11,
   "metadata": {
    "collapsed": true,
    "deletable": true,
    "editable": true
   },
   "outputs": [],
   "source": []
  }
 ],
 "metadata": {
  "kernelspec": {
   "display_name": "Python 2",
   "language": "python",
   "name": "python2"
  },
  "language_info": {
   "codemirror_mode": {
    "name": "ipython",
    "version": 2
   },
   "file_extension": ".py",
   "mimetype": "text/x-python",
   "name": "python",
   "nbconvert_exporter": "python",
   "pygments_lexer": "ipython2",
   "version": "2.7.11"
  }
 },
 "nbformat": 4,
 "nbformat_minor": 0
}
