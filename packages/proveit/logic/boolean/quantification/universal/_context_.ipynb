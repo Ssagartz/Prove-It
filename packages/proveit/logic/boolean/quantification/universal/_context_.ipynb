{
 "cells": [
  {
   "cell_type": "markdown",
   "metadata": {
    "collapsed": true,
    "deletable": true,
    "editable": true
   },
   "source": [
    "Context: <a href=\"..\\..\\..\\..\\_context_.ipynb\">proveit</a>.<a href=\"..\\..\\..\\_context_.ipynb\">logic</a>.<a href=\"..\\..\\_context_.ipynb\">boolean</a>.<a href=\"..\\_context_.ipynb\">quantification</a>.universal\n",
    "========\n",
    "\n",
    "Universal quantification is a general expression about *everything* (`Forall`: $\\forall$).  \n",
    "The `Forall` **Expression** derives from `proveit._generic_.operation_over_instances.OperationOverInstances`.  As such, it has instance variables (`instanceVars`) with an instance expression (`instanceExpr`) and may be restricted to a `domain` and have zero or more `conditions`.  For example $\\forall_{x, y \\in S~|~Q(x),~R(x, y)} P(x, y)$ means that $P(x, y)$ is `TRUE` for all occurrences of $x$ and $y$ in domain $S$ given that the conditions $Q(x)$ and $R(x, y)$ are satisfied.    The `conditions` may be any **Expression**s involving the instance variables."
   ]
  },
  {
   "cell_type": "code",
   "execution_count": 1,
   "metadata": {
    "collapsed": false,
    "deletable": true,
    "editable": true
   },
   "outputs": [
    {
     "data": {
      "application/vnd.jupyter.widget-view+json": {
       "model_id": "4994a73f35f24c279d96a563e5ae4705"
      }
     },
     "metadata": {},
     "output_type": "display_data"
    }
   ],
   "source": [
    "import proveit\n",
    "%context"
   ]
  },
  {
   "cell_type": "code",
   "execution_count": null,
   "metadata": {
    "collapsed": true,
    "deletable": true,
    "editable": true
   },
   "outputs": [],
   "source": []
  }
 ],
 "metadata": {
  "kernelspec": {
   "display_name": "Python 2",
   "language": "python",
   "name": "python2"
  },
  "language_info": {
   "codemirror_mode": {
    "name": "ipython",
    "version": 2
   },
   "file_extension": ".py",
   "mimetype": "text/x-python",
   "name": "python",
   "nbconvert_exporter": "python",
   "pygments_lexer": "ipython2",
   "version": "2.7.11"
  }
 },
 "nbformat": 4,
 "nbformat_minor": 0
}
