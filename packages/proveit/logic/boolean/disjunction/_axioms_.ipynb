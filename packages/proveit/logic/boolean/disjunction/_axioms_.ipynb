{
 "cells": [
  {
   "cell_type": "markdown",
   "metadata": {
    "collapsed": true,
    "deletable": true,
    "editable": true
   },
   "source": [
    "Axioms for context <a href=\"_context_.ipynb\">proveit.logic.boolean.disjunction</a>\n",
    "========"
   ]
  },
  {
   "cell_type": "code",
   "execution_count": 1,
   "metadata": {
    "collapsed": true,
    "deletable": true,
    "editable": true
   },
   "outputs": [],
   "source": [
    "from proveit.logic import Equals, Or, TRUE, FALSE, Forall, inBool\n",
    "from proveit._common_ import A, B, Bmulti, Betc"
   ]
  },
  {
   "cell_type": "code",
   "execution_count": 2,
   "metadata": {
    "collapsed": false,
    "deletable": true,
    "editable": true
   },
   "outputs": [
    {
     "name": "stdout",
     "output_type": "stream",
     "text": [
      "Defining axioms for context 'proveit.logic.boolean.disjunction'\n",
      "Subsequent end-of-cell assignments will define axioms\n",
      "%end_axioms will finalize the definitions\n"
     ]
    }
   ],
   "source": [
    "%begin_axioms"
   ]
  },
  {
   "cell_type": "markdown",
   "metadata": {
    "deletable": true,
    "editable": true
   },
   "source": [
    "### Truth table definitions:"
   ]
  },
  {
   "cell_type": "code",
   "execution_count": 3,
   "metadata": {
    "collapsed": false,
    "deletable": true,
    "editable": true
   },
   "outputs": [
    {
     "data": {
      "text/html": [
       "<strong id=\"orTT\">orTT:</strong> <a href=\"__pv_it\\d98274a836cfc13fc111ac751ccdefe5afb6fe5f0\\expr.ipynb\" target=\"_blank\"><img src=\"__pv_it\\d98274a836cfc13fc111ac751ccdefe5afb6fe5f0\\expr.png\" style=\"display:inline;vertical-align:middle;\" /></a><br>"
      ],
      "text/plain": [
       "orTT: (TRUE or TRUE) = TRUE"
      ]
     },
     "execution_count": 3,
     "metadata": {},
     "output_type": "execute_result"
    }
   ],
   "source": [
    "orTT = Equals(Or(TRUE, TRUE), TRUE)"
   ]
  },
  {
   "cell_type": "code",
   "execution_count": 4,
   "metadata": {
    "collapsed": false,
    "deletable": true,
    "editable": true
   },
   "outputs": [
    {
     "data": {
      "text/html": [
       "<strong id=\"orTF\">orTF:</strong> <a href=\"__pv_it\\9896082b6d140585130da6d2452722f712be8fc60\\expr.ipynb\" target=\"_blank\"><img src=\"__pv_it\\9896082b6d140585130da6d2452722f712be8fc60\\expr.png\" style=\"display:inline;vertical-align:middle;\" /></a><br>"
      ],
      "text/plain": [
       "orTF: (TRUE or FALSE) = TRUE"
      ]
     },
     "execution_count": 4,
     "metadata": {},
     "output_type": "execute_result"
    }
   ],
   "source": [
    "orTF = Equals(Or(TRUE, FALSE), TRUE)"
   ]
  },
  {
   "cell_type": "code",
   "execution_count": 5,
   "metadata": {
    "collapsed": false,
    "deletable": true,
    "editable": true
   },
   "outputs": [
    {
     "data": {
      "text/html": [
       "<strong id=\"orFT\">orFT:</strong> <a href=\"__pv_it\\b797e2fa5799cf6c5e90c4a3f864373e3585fea20\\expr.ipynb\" target=\"_blank\"><img src=\"__pv_it\\b797e2fa5799cf6c5e90c4a3f864373e3585fea20\\expr.png\" style=\"display:inline;vertical-align:middle;\" /></a><br>"
      ],
      "text/plain": [
       "orFT: (FALSE or TRUE) = TRUE"
      ]
     },
     "execution_count": 5,
     "metadata": {},
     "output_type": "execute_result"
    }
   ],
   "source": [
    "orFT = Equals(Or(FALSE, TRUE), TRUE)"
   ]
  },
  {
   "cell_type": "code",
   "execution_count": 6,
   "metadata": {
    "collapsed": false,
    "deletable": true,
    "editable": true
   },
   "outputs": [
    {
     "data": {
      "text/html": [
       "<strong id=\"orFF\">orFF:</strong> <a href=\"__pv_it\\eb52b2f973f613f49e32230e3d3006346e64f9180\\expr.ipynb\" target=\"_blank\"><img src=\"__pv_it\\eb52b2f973f613f49e32230e3d3006346e64f9180\\expr.png\" style=\"display:inline;vertical-align:middle;\" /></a><br>"
      ],
      "text/plain": [
       "orFF: (FALSE or FALSE) = FALSE"
      ]
     },
     "execution_count": 6,
     "metadata": {},
     "output_type": "execute_result"
    }
   ],
   "source": [
    "orFF = Equals(Or(FALSE, FALSE), FALSE)"
   ]
  },
  {
   "cell_type": "markdown",
   "metadata": {
    "deletable": true,
    "editable": true
   },
   "source": [
    "### Disjunction only well-defined when each input is a Boolean:"
   ]
  },
  {
   "cell_type": "code",
   "execution_count": 7,
   "metadata": {
    "collapsed": false,
    "deletable": true,
    "editable": true
   },
   "outputs": [
    {
     "data": {
      "text/html": [
       "<strong id=\"leftInBool\">leftInBool:</strong> <a href=\"__pv_it\\c6215d78a440e81fdea3097c7934b1c9b5e40d7c0\\expr.ipynb\" target=\"_blank\"><img src=\"__pv_it\\c6215d78a440e81fdea3097c7934b1c9b5e40d7c0\\expr.png\" style=\"display:inline;vertical-align:middle;\" /></a><br>"
      ],
      "text/plain": [
       "leftInBool: forall_{A, B | ((A or B) in BOOLEANS)} (A in BOOLEANS)"
      ]
     },
     "execution_count": 7,
     "metadata": {},
     "output_type": "execute_result"
    }
   ],
   "source": [
    "leftInBool = Forall((A, B), inBool(A), conditions=[inBool(Or(A, B))]) "
   ]
  },
  {
   "cell_type": "code",
   "execution_count": 8,
   "metadata": {
    "collapsed": false,
    "deletable": true,
    "editable": true
   },
   "outputs": [
    {
     "data": {
      "text/html": [
       "<strong id=\"rightInBool\">rightInBool:</strong> <a href=\"__pv_it\\194624f3b8bf0a65f12e9a510fe313fe0a0a6c4d0\\expr.ipynb\" target=\"_blank\"><img src=\"__pv_it\\194624f3b8bf0a65f12e9a510fe313fe0a0a6c4d0\\expr.png\" style=\"display:inline;vertical-align:middle;\" /></a><br>"
      ],
      "text/plain": [
       "rightInBool: forall_{A, B | ((A or B) in BOOLEANS)} (B in BOOLEANS)"
      ]
     },
     "execution_count": 8,
     "metadata": {},
     "output_type": "execute_result"
    }
   ],
   "source": [
    "rightInBool = Forall((A, B), inBool(B), conditions=[inBool(Or(A, B))]) "
   ]
  },
  {
   "cell_type": "markdown",
   "metadata": {
    "deletable": true,
    "editable": true
   },
   "source": [
    "### Definition of multi-operand disjunction"
   ]
  },
  {
   "cell_type": "code",
   "execution_count": 9,
   "metadata": {
    "collapsed": false,
    "deletable": true,
    "editable": true
   },
   "outputs": [
    {
     "data": {
      "text/html": [
       "<strong id=\"emptyDisjunction\">emptyDisjunction:</strong> <a href=\"__pv_it\\8022d29ffae9223d49f0e71e7da9db08d88b9cf90\\expr.ipynb\" target=\"_blank\"><img src=\"__pv_it\\8022d29ffae9223d49f0e71e7da9db08d88b9cf90\\expr.png\" style=\"display:inline;vertical-align:middle;\" /></a><br>"
      ],
      "text/plain": [
       "emptyDisjunction: \\left[or\n",
       "ight]() = FALSE"
      ]
     },
     "execution_count": 9,
     "metadata": {},
     "output_type": "execute_result"
    }
   ],
   "source": [
    "emptyDisjunction = Equals(Or(), FALSE) # base case"
   ]
  },
  {
   "cell_type": "code",
   "execution_count": 10,
   "metadata": {
    "collapsed": false,
    "deletable": true,
    "editable": true
   },
   "outputs": [
    {
     "data": {
      "text/html": [
       "<strong id=\"composition\">composition:</strong> <a href=\"__pv_it\\af878f5efe91751c23a0ae759271d31cee2fc4970\\expr.ipynb\" target=\"_blank\"><img src=\"__pv_it\\af878f5efe91751c23a0ae759271d31cee2fc4970\\expr.png\" style=\"display:inline;vertical-align:middle;\" /></a><br>"
      ],
      "text/plain": [
       "composition: forall_{A, B_{#}} ((A or  .. or B_{#} or .. ) = (A or ( .. or B_{#} or .. )))"
      ]
     },
     "execution_count": 10,
     "metadata": {},
     "output_type": "execute_result"
    }
   ],
   "source": [
    "composition = Forall((A, Bmulti), Equals(Or(A, Betc), Or(A, Or(Betc))))"
   ]
  },
  {
   "cell_type": "code",
   "execution_count": 11,
   "metadata": {
    "collapsed": false,
    "deletable": true,
    "editable": true
   },
   "outputs": [
    {
     "name": "stdout",
     "output_type": "stream",
     "text": [
      "Axioms may be imported from autogenerated _axioms_.py\n"
     ]
    }
   ],
   "source": [
    "%end_axioms"
   ]
  },
  {
   "cell_type": "code",
   "execution_count": 12,
   "metadata": {
    "collapsed": true,
    "deletable": true,
    "editable": true
   },
   "outputs": [],
   "source": []
  }
 ],
 "metadata": {
  "kernelspec": {
   "display_name": "Python 2",
   "language": "python",
   "name": "python2"
  },
  "language_info": {
   "codemirror_mode": {
    "name": "ipython",
    "version": 2
   },
   "file_extension": ".py",
   "mimetype": "text/x-python",
   "name": "python",
   "nbconvert_exporter": "python",
   "pygments_lexer": "ipython2",
   "version": "2.7.11"
  }
 },
 "nbformat": 4,
 "nbformat_minor": 0
}
