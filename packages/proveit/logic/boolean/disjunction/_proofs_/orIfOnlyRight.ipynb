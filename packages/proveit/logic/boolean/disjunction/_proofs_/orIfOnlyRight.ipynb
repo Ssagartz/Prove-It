{
 "cells": [
  {
   "cell_type": "markdown",
   "metadata": {
    "collapsed": true,
    "deletable": true,
    "editable": true
   },
   "source": [
    "Proof of <a class=\"ProveItLink\" href=\"..\\..\\..\\..\\_context_.ipynb\">proveit</a>.<a class=\"ProveItLink\" href=\"..\\..\\..\\_context_.ipynb\">logic</a>.<a class=\"ProveItLink\" href=\"..\\..\\_context_.ipynb\">boolean</a>.<a class=\"ProveItLink\" href=\"..\\_context_.ipynb\">disjunction</a>.<a href=\"../_theorems_.ipynb#orIfOnlyRight\" class=\"ProveItLink\">orIfOnlyRight</a> theorem\n",
    "========"
   ]
  },
  {
   "cell_type": "code",
   "execution_count": 1,
   "metadata": {
    "collapsed": true,
    "deletable": true,
    "editable": true
   },
   "outputs": [],
   "source": [
    "import proveit\n",
    "from proveit import defaults\n",
    "from proveit._common_ import A, B\n",
    "from proveit.logic.boolean.disjunction._theorems_ import falseOrTrue\n",
    "context = proveit.Context('..') # the theorem's context is in the parent directory"
   ]
  },
  {
   "cell_type": "code",
   "execution_count": 2,
   "metadata": {
    "collapsed": false,
    "deletable": true,
    "editable": true
   },
   "outputs": [
    {
     "name": "stdout",
     "output_type": "stream",
     "text": [
      "Beginning proof of orIfOnlyRight\n",
      "Recorded 'presuming' information\n",
      "Presuming previous theorems in this context (and any of their dependencies).\n"
     ]
    },
    {
     "data": {
      "text/html": [
       "<strong id=\"orIfOnlyRight\">orIfOnlyRight:</strong> <a class=\"ProveItLink\" href=\"..\\__pv_it\\6a6b5ffde6b6ce6b719d9815d06baed453e246970\\expr.ipynb\"><img src=\"..\\__pv_it\\6a6b5ffde6b6ce6b719d9815d06baed453e246970\\expr.png\" style=\"display:inline;vertical-align:middle;\" /></a><br>(see <a class=\"ProveItLink\" href=\"..\\__pv_it\\6a6b5ffde6b6ce6b719d9815d06baed453e246970\\dependencies.ipynb\">dependencies</a>)"
      ],
      "text/plain": [
       "orIfOnlyRight: forall_{A, B | [not](A) , B} (A or B)"
      ]
     },
     "execution_count": 2,
     "metadata": {},
     "output_type": "execute_result"
    }
   ],
   "source": [
    "%proving orIfOnlyRight presuming []"
   ]
  },
  {
   "cell_type": "code",
   "execution_count": 3,
   "metadata": {
    "collapsed": false,
    "deletable": true,
    "editable": true
   },
   "outputs": [
    {
     "data": {
      "text/html": [
       "<strong id=\"defaults.assumptions\">defaults.assumptions:</strong> <a class=\"ProveItLink\" href=\"..\\__pv_it\\2209f8bc5293f5fd4e4b1797b448a283e44e35fe0\\expr.ipynb\"><img src=\"..\\__pv_it\\2209f8bc5293f5fd4e4b1797b448a283e44e35fe0\\expr.png\" style=\"display:inline;vertical-align:middle;\" /></a><br>"
      ],
      "text/plain": [
       "defaults.assumptions: ([not](A) , B)"
      ]
     },
     "execution_count": 3,
     "metadata": {},
     "output_type": "execute_result"
    }
   ],
   "source": [
    "defaults.assumptions = orIfOnlyRight.conditions"
   ]
  },
  {
   "cell_type": "code",
   "execution_count": 4,
   "metadata": {
    "collapsed": false,
    "deletable": true,
    "editable": true
   },
   "outputs": [
    {
     "data": {
      "text/html": [
       "<strong id=\"AeqF\">AeqF:</strong> <span style=\"font-size:20px;\"><a class=\"ProveItLink\" href=\"..\\__pv_it\\d70bb8509ebbd8eaacf9f16c016cbcdff0854f010\\expr.ipynb\"><img src=\"..\\__pv_it\\d70bb8509ebbd8eaacf9f16c016cbcdff0854f010\\expr.png\" style=\"display:inline;vertical-align:middle;\" /></a> &#x22A2;&nbsp;<a class=\"ProveItLink\" href=\"..\\__pv_it\\59b818aa3070d9f9cb643715737df9a2274cbc840\\expr.ipynb\"><img src=\"..\\__pv_it\\59b818aa3070d9f9cb643715737df9a2274cbc840\\expr.png\" style=\"display:inline;vertical-align:middle;\" /></a></span><br>"
      ],
      "text/plain": [
       "AeqF: {[not](A)} |= A = FALSE"
      ]
     },
     "execution_count": 4,
     "metadata": {},
     "output_type": "execute_result"
    }
   ],
   "source": [
    "AeqF = A.evaluation()"
   ]
  },
  {
   "cell_type": "code",
   "execution_count": 5,
   "metadata": {
    "collapsed": false,
    "deletable": true,
    "editable": true
   },
   "outputs": [
    {
     "data": {
      "text/html": [
       "<strong id=\"BeqT\">BeqT:</strong> <span style=\"font-size:20px;\"><a class=\"ProveItLink\" href=\"..\\__pv_it\\1612ee39be24e00576045a5f0471ba42a9eab2970\\expr.ipynb\"><img src=\"..\\__pv_it\\1612ee39be24e00576045a5f0471ba42a9eab2970\\expr.png\" style=\"display:inline;vertical-align:middle;\" /></a> &#x22A2;&nbsp;<a class=\"ProveItLink\" href=\"..\\__pv_it\\7f8413a78900282a37dba43b921b29b8acb133c80\\expr.ipynb\"><img src=\"..\\__pv_it\\7f8413a78900282a37dba43b921b29b8acb133c80\\expr.png\" style=\"display:inline;vertical-align:middle;\" /></a></span><br>"
      ],
      "text/plain": [
       "BeqT: {B} |= B = TRUE"
      ]
     },
     "execution_count": 5,
     "metadata": {},
     "output_type": "execute_result"
    }
   ],
   "source": [
    "BeqT = B.evaluation()"
   ]
  },
  {
   "cell_type": "code",
   "execution_count": 6,
   "metadata": {
    "collapsed": false
   },
   "outputs": [
    {
     "data": {
      "text/html": [
       "<span style=\"font-size:20px;\"> &#x22A2;&nbsp;<a class=\"ProveItLink\" href=\"..\\__pv_it\\1da6b0e09dcd4642d4419ced0432f25c508208780\\expr.ipynb\"><img src=\"..\\__pv_it\\1da6b0e09dcd4642d4419ced0432f25c508208780\\expr.png\" style=\"display:inline;vertical-align:middle;\" /></a></span>"
      ],
      "text/plain": [
       "|= FALSE or TRUE"
      ]
     },
     "execution_count": 6,
     "metadata": {},
     "output_type": "execute_result"
    }
   ],
   "source": [
    "falseOrTrue"
   ]
  },
  {
   "cell_type": "code",
   "execution_count": 7,
   "metadata": {
    "collapsed": false,
    "deletable": true,
    "editable": true
   },
   "outputs": [
    {
     "data": {
      "text/html": [
       "<strong id=\"AorT\">AorT:</strong> <span style=\"font-size:20px;\"><a class=\"ProveItLink\" href=\"..\\__pv_it\\d70bb8509ebbd8eaacf9f16c016cbcdff0854f010\\expr.ipynb\"><img src=\"..\\__pv_it\\d70bb8509ebbd8eaacf9f16c016cbcdff0854f010\\expr.png\" style=\"display:inline;vertical-align:middle;\" /></a> &#x22A2;&nbsp;<a class=\"ProveItLink\" href=\"..\\__pv_it\\4e9d50466b43dfc3725ab8fe96829e0ed3cd4c670\\expr.ipynb\"><img src=\"..\\__pv_it\\4e9d50466b43dfc3725ab8fe96829e0ed3cd4c670\\expr.png\" style=\"display:inline;vertical-align:middle;\" /></a></span><br>"
      ],
      "text/plain": [
       "AorT: {[not](A)} |= A or TRUE"
      ]
     },
     "execution_count": 7,
     "metadata": {},
     "output_type": "execute_result"
    }
   ],
   "source": [
    "AorT = AeqF.subLeftSideInto(falseOrTrue)"
   ]
  },
  {
   "cell_type": "code",
   "execution_count": 8,
   "metadata": {
    "collapsed": false,
    "deletable": true,
    "editable": true
   },
   "outputs": [
    {
     "data": {
      "text/html": [
       "<strong id=\"ForT\">ForT:</strong> <span style=\"font-size:20px;\"><a class=\"ProveItLink\" href=\"..\\__pv_it\\06038d34be62564b20fe85a773885189f0023e990\\expr.ipynb\"><img src=\"..\\__pv_it\\06038d34be62564b20fe85a773885189f0023e990\\expr.png\" style=\"display:inline;vertical-align:middle;\" /></a> &#x22A2;&nbsp;<a class=\"ProveItLink\" href=\"..\\__pv_it\\6b085089c20090840d052459f8893dc577d9cac10\\expr.ipynb\"><img src=\"..\\__pv_it\\6b085089c20090840d052459f8893dc577d9cac10\\expr.png\" style=\"display:inline;vertical-align:middle;\" /></a></span><br>"
      ],
      "text/plain": [
       "ForT: {[not](A) , B} |= A or B"
      ]
     },
     "execution_count": 8,
     "metadata": {},
     "output_type": "execute_result"
    }
   ],
   "source": [
    "ForT = BeqT.subLeftSideInto(AorT)"
   ]
  },
  {
   "cell_type": "code",
   "execution_count": 9,
   "metadata": {
    "collapsed": false,
    "deletable": true,
    "editable": true
   },
   "outputs": [
    {
     "data": {
      "text/html": [
       "<table><tr><th>&nbsp;</th><th>step type</th><th>requirements</th><th>statement</th></tr>\n",
       "<tr><td>0</td><td>generalizaton</td><td>1</td><td><span style=\"font-size:20px;\"> &#x22A2;&nbsp;<a class=\"ProveItLink\" href=\"..\\__pv_it\\6a6b5ffde6b6ce6b719d9815d06baed453e246970\\expr.ipynb\"><img src=\"..\\__pv_it\\6a6b5ffde6b6ce6b719d9815d06baed453e246970\\expr.png\" style=\"display:inline;vertical-align:middle;\" /></a></span></td></tr>\n",
       "<tr><td>1</td><td>specialization</td><td>4, 2, 3</td><td><span style=\"font-size:20px;\"><a class=\"ProveItLink\" href=\"..\\__pv_it\\06038d34be62564b20fe85a773885189f0023e990\\expr.ipynb\"><img src=\"..\\__pv_it\\06038d34be62564b20fe85a773885189f0023e990\\expr.png\" style=\"display:inline;vertical-align:middle;\" /></a> &#x22A2;&nbsp;<a class=\"ProveItLink\" href=\"..\\__pv_it\\6b085089c20090840d052459f8893dc577d9cac10\\expr.ipynb\"><img src=\"..\\__pv_it\\6b085089c20090840d052459f8893dc577d9cac10\\expr.png\" style=\"display:inline;vertical-align:middle;\" /></a></span></td></tr>\n",
       "<tr><td>&nbsp;</td><td colspan=4 style=\"text-align:left\"><span style=\"font-size:20px;\"><a class=\"ProveItLink\" href=\"..\\__pv_it\\5fc8a2cec0d1f374bd31c3398ba9230bf25f15e20\\expr.ipynb\"><img src=\"..\\__pv_it\\5fc8a2cec0d1f374bd31c3398ba9230bf25f15e20\\expr.png\" style=\"display:inline;vertical-align:middle;\" /></a>, <a class=\"ProveItLink\" href=\"..\\__pv_it\\1e6abeb569cd7c0157a33c50577e196f4a2d28d20\\expr.ipynb\"><img src=\"..\\__pv_it\\1e6abeb569cd7c0157a33c50577e196f4a2d28d20\\expr.png\" style=\"display:inline;vertical-align:middle;\" /></a>, <a class=\"ProveItLink\" href=\"..\\__pv_it\\2737a2247b400aa2282d989b70bdb7d0af7eb9b80\\expr.ipynb\"><img src=\"..\\__pv_it\\2737a2247b400aa2282d989b70bdb7d0af7eb9b80\\expr.png\" style=\"display:inline;vertical-align:middle;\" /></a></span></td></tr><tr><td>2</td><td>specialization</td><td>4, 5, 6</td><td><span style=\"font-size:20px;\"><a class=\"ProveItLink\" href=\"..\\__pv_it\\d70bb8509ebbd8eaacf9f16c016cbcdff0854f010\\expr.ipynb\"><img src=\"..\\__pv_it\\d70bb8509ebbd8eaacf9f16c016cbcdff0854f010\\expr.png\" style=\"display:inline;vertical-align:middle;\" /></a> &#x22A2;&nbsp;<a class=\"ProveItLink\" href=\"..\\__pv_it\\4e9d50466b43dfc3725ab8fe96829e0ed3cd4c670\\expr.ipynb\"><img src=\"..\\__pv_it\\4e9d50466b43dfc3725ab8fe96829e0ed3cd4c670\\expr.png\" style=\"display:inline;vertical-align:middle;\" /></a></span></td></tr>\n",
       "<tr><td>&nbsp;</td><td colspan=4 style=\"text-align:left\"><span style=\"font-size:20px;\"><a class=\"ProveItLink\" href=\"..\\__pv_it\\cef8d67c79de9641c9e48f5c874a42584c6f071c0\\expr.ipynb\"><img src=\"..\\__pv_it\\cef8d67c79de9641c9e48f5c874a42584c6f071c0\\expr.png\" style=\"display:inline;vertical-align:middle;\" /></a>, <a class=\"ProveItLink\" href=\"..\\__pv_it\\bfef4cd0d5e2ee0a3aac3754860b97676a70f27b0\\expr.ipynb\"><img src=\"..\\__pv_it\\bfef4cd0d5e2ee0a3aac3754860b97676a70f27b0\\expr.png\" style=\"display:inline;vertical-align:middle;\" /></a>, <a class=\"ProveItLink\" href=\"..\\__pv_it\\9fcbe233155f7e124010446d11752dbb33bd2ef40\\expr.ipynb\"><img src=\"..\\__pv_it\\9fcbe233155f7e124010446d11752dbb33bd2ef40\\expr.png\" style=\"display:inline;vertical-align:middle;\" /></a></span></td></tr><tr><td>3</td><td>specialization</td><td>7, 8</td><td><span style=\"font-size:20px;\"><a class=\"ProveItLink\" href=\"..\\__pv_it\\1612ee39be24e00576045a5f0471ba42a9eab2970\\expr.ipynb\"><img src=\"..\\__pv_it\\1612ee39be24e00576045a5f0471ba42a9eab2970\\expr.png\" style=\"display:inline;vertical-align:middle;\" /></a> &#x22A2;&nbsp;<a class=\"ProveItLink\" href=\"..\\__pv_it\\7f8413a78900282a37dba43b921b29b8acb133c80\\expr.ipynb\"><img src=\"..\\__pv_it\\7f8413a78900282a37dba43b921b29b8acb133c80\\expr.png\" style=\"display:inline;vertical-align:middle;\" /></a></span></td></tr>\n",
       "<tr><td>&nbsp;</td><td colspan=4 style=\"text-align:left\"><span style=\"font-size:20px;\"><a class=\"ProveItLink\" href=\"..\\__pv_it\\827b5af30ec15ef59c74ea73a5901db5568cc2380\\expr.ipynb\"><img src=\"..\\__pv_it\\827b5af30ec15ef59c74ea73a5901db5568cc2380\\expr.png\" style=\"display:inline;vertical-align:middle;\" /></a></span></td></tr><tr><td>4</td><td>theorem</td><td></td><td><span style=\"font-size:20px;\"> &#x22A2;&nbsp;<a class=\"ProveItLink\" href=\"..\\..\\..\\equality\\__pv_it\\6425c7b64708730992bfb72314f6aeaa5dc1d76c0\\expr.ipynb\"><img src=\"..\\..\\..\\equality\\__pv_it\\6425c7b64708730992bfb72314f6aeaa5dc1d76c0\\expr.png\" style=\"display:inline;vertical-align:middle;\" /></a></span></td></tr>\n",
       "<tr><td>&nbsp;</td><td colspan=4 style-\"text-align:left\"><a class=\"ProveItLink\" href=\"..\\..\\..\\equality\\_proofs_\\subLeftSideInto.ipynb\">proveit.logic.equality.subLeftSideInto</a></td></tr><tr><td>5</td><td>theorem</td><td></td><td><span style=\"font-size:20px;\"> &#x22A2;&nbsp;<a class=\"ProveItLink\" href=\"..\\__pv_it\\1da6b0e09dcd4642d4419ced0432f25c508208780\\expr.ipynb\"><img src=\"..\\__pv_it\\1da6b0e09dcd4642d4419ced0432f25c508208780\\expr.png\" style=\"display:inline;vertical-align:middle;\" /></a></span></td></tr>\n",
       "<tr><td>&nbsp;</td><td colspan=4 style-\"text-align:left\"><a class=\"ProveItLink\" href=\"falseOrTrue.ipynb\">proveit.logic.boolean.disjunction.falseOrTrue</a></td></tr><tr><td>6</td><td>specialization</td><td>9, 10</td><td><span style=\"font-size:20px;\"><a class=\"ProveItLink\" href=\"..\\__pv_it\\d70bb8509ebbd8eaacf9f16c016cbcdff0854f010\\expr.ipynb\"><img src=\"..\\__pv_it\\d70bb8509ebbd8eaacf9f16c016cbcdff0854f010\\expr.png\" style=\"display:inline;vertical-align:middle;\" /></a> &#x22A2;&nbsp;<a class=\"ProveItLink\" href=\"..\\__pv_it\\59b818aa3070d9f9cb643715737df9a2274cbc840\\expr.ipynb\"><img src=\"..\\__pv_it\\59b818aa3070d9f9cb643715737df9a2274cbc840\\expr.png\" style=\"display:inline;vertical-align:middle;\" /></a></span></td></tr>\n",
       "<tr><td>&nbsp;</td><td colspan=4 style=\"text-align:left\"><span style=\"font-size:20px;\"><a class=\"ProveItLink\" href=\"..\\__pv_it\\5758c3a6b8b1a61d059f14908f0186a1d5ae540a0\\expr.ipynb\"><img src=\"..\\__pv_it\\5758c3a6b8b1a61d059f14908f0186a1d5ae540a0\\expr.png\" style=\"display:inline;vertical-align:middle;\" /></a></span></td></tr><tr><td>7</td><td>axiom</td><td></td><td><span style=\"font-size:20px;\"> &#x22A2;&nbsp;<a class=\"ProveItLink\" href=\"..\\..\\__pv_it\\17736e5847b2b74f86dc8cccbef45d3aeb8a06e80\\expr.ipynb\"><img src=\"..\\..\\__pv_it\\17736e5847b2b74f86dc8cccbef45d3aeb8a06e80\\expr.png\" style=\"display:inline;vertical-align:middle;\" /></a></span></td></tr>\n",
       "<tr><td>&nbsp;</td><td colspan=4 style-\"text-align:left\"><a class=\"ProveItLink\" href=\"..\\..\\_axioms_.ipynb#eqTrueIntro\">proveit.logic.boolean.eqTrueIntro</a></td></tr><tr><td>8</td><td>assumption</td><td></td><td><span style=\"font-size:20px;\"><a class=\"ProveItLink\" href=\"..\\__pv_it\\1612ee39be24e00576045a5f0471ba42a9eab2970\\expr.ipynb\"><img src=\"..\\__pv_it\\1612ee39be24e00576045a5f0471ba42a9eab2970\\expr.png\" style=\"display:inline;vertical-align:middle;\" /></a> &#x22A2;&nbsp;<a class=\"ProveItLink\" href=\"..\\..\\..\\..\\__pv_it\\077b2ff79244fb4582cbe22c6e3356fa92a52f2f0\\expr.ipynb\"><img src=\"..\\..\\..\\..\\__pv_it\\077b2ff79244fb4582cbe22c6e3356fa92a52f2f0\\expr.png\" style=\"display:inline;vertical-align:middle;\" /></a></span></td></tr>\n",
       "<tr><td>9</td><td>axiom</td><td></td><td><span style=\"font-size:20px;\"> &#x22A2;&nbsp;<a class=\"ProveItLink\" href=\"..\\..\\negation\\__pv_it\\4b5dd3f037f440d68a8f1e360a14677af00fd6dd0\\expr.ipynb\"><img src=\"..\\..\\negation\\__pv_it\\4b5dd3f037f440d68a8f1e360a14677af00fd6dd0\\expr.png\" style=\"display:inline;vertical-align:middle;\" /></a></span></td></tr>\n",
       "<tr><td>&nbsp;</td><td colspan=4 style-\"text-align:left\"><a class=\"ProveItLink\" href=\"..\\..\\negation\\_axioms_.ipynb#negationElim\">proveit.logic.boolean.negation.negationElim</a></td></tr><tr><td>10</td><td>assumption</td><td></td><td><span style=\"font-size:20px;\"><a class=\"ProveItLink\" href=\"..\\__pv_it\\d70bb8509ebbd8eaacf9f16c016cbcdff0854f010\\expr.ipynb\"><img src=\"..\\__pv_it\\d70bb8509ebbd8eaacf9f16c016cbcdff0854f010\\expr.png\" style=\"display:inline;vertical-align:middle;\" /></a> &#x22A2;&nbsp;<a class=\"ProveItLink\" href=\"..\\__pv_it\\feaa1d0e6d92ad9ead8e5ffd1f92697e3912387a0\\expr.ipynb\"><img src=\"..\\__pv_it\\feaa1d0e6d92ad9ead8e5ffd1f92697e3912387a0\\expr.png\" style=\"display:inline;vertical-align:middle;\" /></a></span></td></tr>\n"
      ],
      "text/plain": [
       "<proveit._core_.proof.Generalization instance at 0x0000000009593E88>"
      ]
     },
     "execution_count": 9,
     "metadata": {},
     "output_type": "execute_result"
    }
   ],
   "source": [
    "%qed"
   ]
  },
  {
   "cell_type": "code",
   "execution_count": 10,
   "metadata": {
    "collapsed": true,
    "deletable": true,
    "editable": true
   },
   "outputs": [],
   "source": []
  }
 ],
 "metadata": {
  "kernelspec": {
   "display_name": "Python 2",
   "language": "python",
   "name": "python2"
  },
  "language_info": {
   "codemirror_mode": {
    "name": "ipython",
    "version": 2
   },
   "file_extension": ".py",
   "mimetype": "text/x-python",
   "name": "python",
   "nbconvert_exporter": "python",
   "pygments_lexer": "ipython2",
   "version": "2.7.11"
  }
 },
 "nbformat": 4,
 "nbformat_minor": 0
}
