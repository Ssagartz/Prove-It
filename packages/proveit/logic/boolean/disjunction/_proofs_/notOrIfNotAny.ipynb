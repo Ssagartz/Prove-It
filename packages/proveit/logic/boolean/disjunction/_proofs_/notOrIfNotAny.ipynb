{
 "cells": [
  {
   "cell_type": "markdown",
   "metadata": {
    "collapsed": true,
    "deletable": true,
    "editable": true
   },
   "source": [
    "Proof of <a class=\\\"ProveItLink\\\" href=\\\"..\\\\..\\\\..\\\\..\\\\_context_.ipynb\\\">proveit</a>.<a class=\\\"ProveItLink\\\" href=\\\"..\\\\..\\\\..\\\\_context_.ipynb\\\">logic</a>.<a class=\\\"ProveItLink\\\" href=\\\"..\\\\..\\\\_context_.ipynb\\\">boolean</a>.<a class=\\\"ProveItLink\\\" href=\\\"..\\\\_context_.ipynb\\\">disjunction</a>.<a href=\"../_theorems_.ipynb#notOrIfNotAny\" class=\"ProveItLink\">notOrIfNotAny</a> theorem\n",
    "========"
   ]
  },
  {
   "cell_type": "code",
   "execution_count": 1,
   "metadata": {
    "collapsed": true,
    "deletable": true,
    "editable": true
   },
   "outputs": [],
   "source": [
    "import proveit\n",
    "context = proveit.Context('..') # the theorem's context is in the parent directory"
   ]
  },
  {
   "cell_type": "code",
   "execution_count": 2,
   "metadata": {
    "collapsed": true,
    "deletable": true,
    "editable": true
   },
   "outputs": [
    {
     "name": "stdout",
     "output_type": "stream",
     "text": [
      "Recorded 'presuming' information\n"
     ]
    },
    {
     "name": "stdout",
     "output_type": "stream",
     "text": [
      "Presuming previous theorems in this context (and any of their dependencies).\n",
      "Beginning proof of\n"
     ]
    },
    {
     "data": {
      "text/html": [
       "<strong id=\"notOrIfNotAny\">notOrIfNotAny:</strong> <a href=\"..\\__pv_it\\dd919d0e483b61aa043a2443e7cb629d13469cfe0\\expr.ipynb\" target=\"_blank\"><img src=\"..\\__pv_it\\dd919d0e483b61aa043a2443e7cb629d13469cfe0\\expr.png\" style=\"display:inline;vertical-align:middle;\" /></a><br>(see <a class=\"ProveItLink\" href=\"..\\__pv_it\\dd919d0e483b61aa043a2443e7cb629d13469cfe0\\dependencies.ipynb\" target=\"_blank\">dependencies</a>)"
      ],
      "text/plain": [
       "notOrIfNotAny: forall_{A_{#} in BOOLEANS |  ..,not(A_{#}),.. } not( .. or A_{#} or .. )"
      ]
     },
     "execution_count": 2,
     "metadata": {},
     "output_type": "execute_result"
    }
   ],
   "source": [
    "%begin_proof notOrIfNotAny presuming []"
   ]
  },
  {
   "cell_type": "code",
   "execution_count": 3,
   "metadata": {
    "collapsed": true,
    "deletable": true,
    "editable": true
   },
   "outputs": [],
   "source": []
  }
 ],
 "metadata": {
  "kernelspec": {
   "display_name": "Python 2",
   "language": "python",
   "name": "python2"
  },
  "language_info": {
   "codemirror_mode": {
    "name": "ipython",
    "version": 2
   },
   "file_extension": ".py",
   "mimetype": "text/x-python",
   "name": "python",
   "nbconvert_exporter": "python",
   "pygments_lexer": "ipython2",
   "version": "2.7.11"
  }
 },
 "nbformat": 4,
 "nbformat_minor": 0
}
