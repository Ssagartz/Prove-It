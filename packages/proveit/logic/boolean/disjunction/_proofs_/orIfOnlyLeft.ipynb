{
 "cells": [
  {
   "cell_type": "markdown",
   "metadata": {
    "collapsed": true,
    "deletable": true,
    "editable": true
   },
   "source": [
    "Proof of <a class=\"ProveItLink\" href=\"..\\..\\..\\..\\_context_.ipynb\">proveit</a>.<a class=\"ProveItLink\" href=\"..\\..\\..\\_context_.ipynb\">logic</a>.<a class=\"ProveItLink\" href=\"..\\..\\_context_.ipynb\">boolean</a>.<a class=\"ProveItLink\" href=\"..\\_context_.ipynb\">disjunction</a>.<a href=\"../_theorems_.ipynb#orIfOnlyLeft\" class=\"ProveItLink\">orIfOnlyLeft</a> theorem\n",
    "========"
   ]
  },
  {
   "cell_type": "code",
   "execution_count": 1,
   "metadata": {
    "collapsed": true,
    "deletable": true,
    "editable": true
   },
   "outputs": [],
   "source": [
    "import proveit\n",
    "context = proveit.Context('..') # the theorem's context is in the parent directory"
   ]
  },
  {
   "cell_type": "code",
   "execution_count": 2,
   "metadata": {
    "collapsed": true,
    "deletable": true,
    "editable": true
   },
   "outputs": [
    {
     "name": "stdout",
     "output_type": "stream",
     "text": [
      "Recorded 'presuming' information\n",
      "Presuming previous theorems in this context (and any of their dependencies).\n",
      "Beginning proof of\n"
     ]
    },
    {
     "data": {
      "text/html": [
       "<strong id=\"orIfOnlyLeft\">orIfOnlyLeft:</strong> <a href=\"..\\__pv_it\\5d4b215f0de52ddc857d7c9faf57d0bd9417a8a40\\expr.ipynb\" target=\"_blank\"><img src=\"..\\__pv_it\\5d4b215f0de52ddc857d7c9faf57d0bd9417a8a40\\expr.png\" style=\"display:inline;vertical-align:middle;\" /></a><br>(see <a class=\"ProveItLink\" href=\"..\\__pv_it\\5d4b215f0de52ddc857d7c9faf57d0bd9417a8a40\\dependencies.ipynb\" target=\"_blank\">dependencies</a>)"
      ],
      "text/plain": [
       "orIfOnlyLeft: forall_{A, B | A,not(B)} (A or B)"
      ]
     },
     "execution_count": 2,
     "metadata": {},
     "output_type": "execute_result"
    }
   ],
   "source": [
    "%begin_proof orIfOnlyLeft presuming []"
   ]
  },
  {
   "cell_type": "code",
   "execution_count": 3,
   "metadata": {
    "collapsed": true,
    "deletable": true,
    "editable": true
   },
   "outputs": [],
   "source": []
  }
 ],
 "metadata": {
  "kernelspec": {
   "display_name": "Python 2",
   "language": "python",
   "name": "python2"
  },
  "language_info": {
   "codemirror_mode": {
    "name": "ipython",
    "version": 2
   },
   "file_extension": ".py",
   "mimetype": "text/x-python",
   "name": "python",
   "nbconvert_exporter": "python",
   "pygments_lexer": "ipython2",
   "version": "2.7.11"
  }
 },
 "nbformat": 4,
 "nbformat_minor": 0
}
