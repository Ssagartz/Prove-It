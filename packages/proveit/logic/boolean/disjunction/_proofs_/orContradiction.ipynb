{
 "cells": [
  {
   "cell_type": "markdown",
   "metadata": {
    "collapsed": true,
    "deletable": true,
    "editable": true
   },
   "source": [
    "Proof of <a class=\"ProveItLink\" href=\"..\\..\\..\\..\\_context_.ipynb\">proveit</a>.<a class=\"ProveItLink\" href=\"..\\..\\..\\_context_.ipynb\">logic</a>.<a class=\"ProveItLink\" href=\"..\\..\\_context_.ipynb\">boolean</a>.<a class=\"ProveItLink\" href=\"..\\_context_.ipynb\">disjunction</a>.<a href=\"../_theorems_.ipynb#orContradiction\" class=\"ProveItLink\">orContradiction</a> theorem\n",
    "========"
   ]
  },
  {
   "cell_type": "code",
   "execution_count": 1,
   "metadata": {
    "collapsed": true,
    "deletable": true,
    "editable": true
   },
   "outputs": [],
   "source": [
    "import proveit\n",
    "context = proveit.Context('..') # the theorem's context is in the parent directory"
   ]
  },
  {
   "cell_type": "code",
   "execution_count": 2,
   "metadata": {
    "collapsed": true,
    "deletable": true,
    "editable": true
   },
   "outputs": [
    {
     "name": "stdout",
     "output_type": "stream",
     "text": [
      "Beginning proof of orContradiction\n",
      "Recorded 'presuming' information\n"
     ]
    },
    {
     "name": "stdout",
     "output_type": "stream",
     "text": [
      "Presuming previous theorems in this context (and any of their dependencies).\n"
     ]
    },
    {
     "data": {
      "text/html": [
       "<strong id=\"orContradiction\">orContradiction:</strong> <a class=\"ProveItLink\" href=\"..\\__pv_it\\cc202c79e0309986d4b4491349411d39dc9c09b90\\expr.ipynb\"><img src=\"..\\__pv_it\\cc202c79e0309986d4b4491349411d39dc9c09b90\\expr.png\" style=\"display:inline;vertical-align:middle;\" /></a><br>(see <a class=\"ProveItLink\" href=\"..\\__pv_it\\cc202c79e0309986d4b4491349411d39dc9c09b90\\dependencies.ipynb\">dependencies</a>)"
      ],
      "text/plain": [
       "orContradiction: forall_{m in Naturals} [forall_{A | A_(1) or  ...  or A_(m) , [not](A_(1)) ,  ...  , [not](A_(m))} FALSE]"
      ]
     },
     "execution_count": 2,
     "metadata": {},
     "output_type": "execute_result"
    }
   ],
   "source": [
    "%proving orContradiction presuming []"
   ]
  },
  {
   "cell_type": "code",
   "execution_count": 3,
   "metadata": {
    "collapsed": true,
    "deletable": true,
    "editable": true
   },
   "outputs": [],
   "source": []
  }
 ],
 "metadata": {
  "kernelspec": {
   "display_name": "Python 2",
   "language": "python",
   "name": "python2"
  },
  "language_info": {
   "codemirror_mode": {
    "name": "ipython",
    "version": 2
   },
   "file_extension": ".py",
   "mimetype": "text/x-python",
   "name": "python",
   "nbconvert_exporter": "python",
   "pygments_lexer": "ipython2",
   "version": "2.7.11"
  }
 },
 "nbformat": 4,
 "nbformat_minor": 0
}
