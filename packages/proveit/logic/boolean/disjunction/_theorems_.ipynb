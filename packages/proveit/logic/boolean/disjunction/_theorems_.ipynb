{
 "cells": [
  {
   "cell_type": "markdown",
   "metadata": {
    "collapsed": true,
    "deletable": true,
    "editable": true
   },
   "source": [
    "Theorems for context <a href=\"_context_.ipynb\">proveit.logic.boolean.disjunction</a>\n",
    "========"
   ]
  },
  {
   "cell_type": "code",
   "execution_count": 1,
   "metadata": {
    "collapsed": false,
    "deletable": true,
    "editable": true
   },
   "outputs": [
    {
     "name": "stdout",
     "output_type": "stream",
     "text": [
      "Defining theorems for context 'proveit.logic.boolean.disjunction'\n",
      "Subsequent end-of-cell assignments will define theorems\n",
      "%end_theorems will finalize the definitions\n"
     ]
    }
   ],
   "source": [
    "from proveit.logic import Or, TRUE, FALSE, Forall, Implies, Not, inBool, And, Booleans, Equals, Set\n",
    "from proveit._common_ import A, B, C, D, Amulti, Cmulti, Aetc, Cetc\n",
    "from proveit import Etcetera\n",
    "%begin_theorems"
   ]
  },
  {
   "cell_type": "code",
   "execution_count": 2,
   "metadata": {
    "collapsed": false
   },
   "outputs": [
    {
     "data": {
      "text/html": [
       "<strong id=\"trueOrTrue\"><a href=\"_proofs_\\trueOrTrue.ipynb\" target=\"_blank\">trueOrTrue</a>:</strong> <a href=\"__pv_it\\f73fb4862ff55bb72a829e690bf78e0403045f3d0\\expr.ipynb\" target=\"_blank\"><img src=\"__pv_it\\f73fb4862ff55bb72a829e690bf78e0403045f3d0\\expr.png\" style=\"display:inline;vertical-align:middle;\" /></a><br>"
      ],
      "text/plain": [
       "trueOrTrue: TRUE or TRUE"
      ]
     },
     "execution_count": 2,
     "metadata": {},
     "output_type": "execute_result"
    }
   ],
   "source": [
    "trueOrTrue = Or(TRUE, TRUE)"
   ]
  },
  {
   "cell_type": "code",
   "execution_count": 3,
   "metadata": {
    "collapsed": false
   },
   "outputs": [
    {
     "data": {
      "text/html": [
       "<strong id=\"trueOrFalse\"><a href=\"_proofs_\\trueOrFalse.ipynb\" target=\"_blank\">trueOrFalse</a>:</strong> <a href=\"__pv_it\\861f6fb9bf911f912400ba6bc1740177430dc8dd0\\expr.ipynb\" target=\"_blank\"><img src=\"__pv_it\\861f6fb9bf911f912400ba6bc1740177430dc8dd0\\expr.png\" style=\"display:inline;vertical-align:middle;\" /></a><br>"
      ],
      "text/plain": [
       "trueOrFalse: TRUE or FALSE"
      ]
     },
     "execution_count": 3,
     "metadata": {},
     "output_type": "execute_result"
    }
   ],
   "source": [
    "trueOrFalse = Or(TRUE, FALSE)"
   ]
  },
  {
   "cell_type": "code",
   "execution_count": 4,
   "metadata": {
    "collapsed": false
   },
   "outputs": [
    {
     "data": {
      "text/html": [
       "<strong id=\"falseOrTrue\"><a href=\"_proofs_\\falseOrTrue.ipynb\" target=\"_blank\">falseOrTrue</a>:</strong> <a href=\"__pv_it\\711982c1b65ccd1a0357a8bdfe22a8f1001d36dc0\\expr.ipynb\" target=\"_blank\"><img src=\"__pv_it\\711982c1b65ccd1a0357a8bdfe22a8f1001d36dc0\\expr.png\" style=\"display:inline;vertical-align:middle;\" /></a><br>"
      ],
      "text/plain": [
       "falseOrTrue: FALSE or TRUE"
      ]
     },
     "execution_count": 4,
     "metadata": {},
     "output_type": "execute_result"
    }
   ],
   "source": [
    "falseOrTrue = Or(FALSE, TRUE)"
   ]
  },
  {
   "cell_type": "code",
   "execution_count": 5,
   "metadata": {
    "collapsed": false
   },
   "outputs": [
    {
     "data": {
      "text/html": [
       "<strong id=\"falseOrFalseNegated\"><a href=\"_proofs_\\falseOrFalseNegated.ipynb\" target=\"_blank\">falseOrFalseNegated</a>:</strong> <a href=\"__pv_it\\bbad4ca7f06b88bfb431e0add18d05e2d3d355d90\\expr.ipynb\" target=\"_blank\"><img src=\"__pv_it\\bbad4ca7f06b88bfb431e0add18d05e2d3d355d90\\expr.png\" style=\"display:inline;vertical-align:middle;\" /></a><br>"
      ],
      "text/plain": [
       "falseOrFalseNegated: not(FALSE or FALSE)"
      ]
     },
     "execution_count": 5,
     "metadata": {},
     "output_type": "execute_result"
    }
   ],
   "source": [
    "falseOrFalseNegated = Not(Or(FALSE, FALSE))"
   ]
  },
  {
   "cell_type": "code",
   "execution_count": 6,
   "metadata": {
    "collapsed": false
   },
   "outputs": [
    {
     "data": {
      "text/html": [
       "<strong id=\"orIfBoth\"><a href=\"_proofs_\\orIfBoth.ipynb\" target=\"_blank\">orIfBoth</a>:</strong> <a href=\"__pv_it\\b5c89fa7f8bf8fb7206ac66573d9023c9456d9d70\\expr.ipynb\" target=\"_blank\"><img src=\"__pv_it\\b5c89fa7f8bf8fb7206ac66573d9023c9456d9d70\\expr.png\" style=\"display:inline;vertical-align:middle;\" /></a><br>"
      ],
      "text/plain": [
       "orIfBoth: forall_{A, B | A,B} (A or B)"
      ]
     },
     "execution_count": 6,
     "metadata": {},
     "output_type": "execute_result"
    }
   ],
   "source": [
    "orIfBoth = Forall((A, B), Or(A, B), conditions=[A, B])"
   ]
  },
  {
   "cell_type": "code",
   "execution_count": 7,
   "metadata": {
    "collapsed": false
   },
   "outputs": [
    {
     "data": {
      "text/html": [
       "<strong id=\"orIfOnlyLeft\"><a href=\"_proofs_\\orIfOnlyLeft.ipynb\" target=\"_blank\">orIfOnlyLeft</a>:</strong> <a href=\"__pv_it\\5d4b215f0de52ddc857d7c9faf57d0bd9417a8a40\\expr.ipynb\" target=\"_blank\"><img src=\"__pv_it\\5d4b215f0de52ddc857d7c9faf57d0bd9417a8a40\\expr.png\" style=\"display:inline;vertical-align:middle;\" /></a><br>"
      ],
      "text/plain": [
       "orIfOnlyLeft: forall_{A, B | A,not(B)} (A or B)"
      ]
     },
     "execution_count": 7,
     "metadata": {},
     "output_type": "execute_result"
    }
   ],
   "source": [
    "orIfOnlyLeft = Forall((A, B), Or(A, B), conditions=[A, Not(B)])"
   ]
  },
  {
   "cell_type": "code",
   "execution_count": 8,
   "metadata": {
    "collapsed": false
   },
   "outputs": [
    {
     "data": {
      "text/html": [
       "<strong id=\"orIfOnlyRight\"><a href=\"_proofs_\\orIfOnlyRight.ipynb\" target=\"_blank\">orIfOnlyRight</a>:</strong> <a href=\"__pv_it\\0ae9a7f0ad98ae775c157b2d71e72171eb2d4aa50\\expr.ipynb\" target=\"_blank\"><img src=\"__pv_it\\0ae9a7f0ad98ae775c157b2d71e72171eb2d4aa50\\expr.png\" style=\"display:inline;vertical-align:middle;\" /></a><br>"
      ],
      "text/plain": [
       "orIfOnlyRight: forall_{A, B | not(A),B} (A or B)"
      ]
     },
     "execution_count": 8,
     "metadata": {},
     "output_type": "execute_result"
    }
   ],
   "source": [
    "orIfOnlyRight = Forall((A, B), Or(A, B), conditions=[Not(A), B])"
   ]
  },
  {
   "cell_type": "code",
   "execution_count": 9,
   "metadata": {
    "collapsed": false
   },
   "outputs": [
    {
     "data": {
      "text/html": [
       "<strong id=\"neitherIntro\"><a href=\"_proofs_\\neitherIntro.ipynb\" target=\"_blank\">neitherIntro</a>:</strong> <a href=\"__pv_it\\3c3c6978c7af8e8d629677718fad8aceeb7434110\\expr.ipynb\" target=\"_blank\"><img src=\"__pv_it\\3c3c6978c7af8e8d629677718fad8aceeb7434110\\expr.png\" style=\"display:inline;vertical-align:middle;\" /></a><br>"
      ],
      "text/plain": [
       "neitherIntro: forall_{A, B | not(A),not(B)} not(A or B)"
      ]
     },
     "execution_count": 9,
     "metadata": {},
     "output_type": "execute_result"
    }
   ],
   "source": [
    "neitherIntro = Forall((A, B), Not(Or(A, B)), conditions=[Not(A), Not(B)])"
   ]
  },
  {
   "cell_type": "code",
   "execution_count": 10,
   "metadata": {
    "collapsed": false
   },
   "outputs": [
    {
     "data": {
      "text/html": [
       "<strong id=\"binaryOrContradiction\"><a href=\"_proofs_\\binaryOrContradiction.ipynb\" target=\"_blank\">binaryOrContradiction</a>:</strong> <a href=\"__pv_it\\ab8c92b7078a8d81fdb02edb1dcec226b1fa79b00\\expr.ipynb\" target=\"_blank\"><img src=\"__pv_it\\ab8c92b7078a8d81fdb02edb1dcec226b1fa79b00\\expr.png\" style=\"display:inline;vertical-align:middle;\" /></a><br>"
      ],
      "text/plain": [
       "binaryOrContradiction: forall_{A, B | (A or B),not(A),not(B)} FALSE"
      ]
     },
     "execution_count": 10,
     "metadata": {},
     "output_type": "execute_result"
    }
   ],
   "source": [
    "binaryOrContradiction = Forall((A, B), FALSE, conditions=(Or(A, B), Not(A), Not(B)))"
   ]
  },
  {
   "cell_type": "code",
   "execution_count": 11,
   "metadata": {
    "collapsed": false
   },
   "outputs": [
    {
     "data": {
      "text/html": [
       "<strong id=\"leftIfNotRight\"><a href=\"_proofs_\\leftIfNotRight.ipynb\" target=\"_blank\">leftIfNotRight</a>:</strong> <a href=\"__pv_it\\5b540d4d1507d7af04dedde8f58054346c3ae0ba0\\expr.ipynb\" target=\"_blank\"><img src=\"__pv_it\\5b540d4d1507d7af04dedde8f58054346c3ae0ba0\\expr.png\" style=\"display:inline;vertical-align:middle;\" /></a><br>"
      ],
      "text/plain": [
       "leftIfNotRight: forall_{A, B in BOOLEANS | (A or B),not(B)} A"
      ]
     },
     "execution_count": 11,
     "metadata": {},
     "output_type": "execute_result"
    }
   ],
   "source": [
    "leftIfNotRight = Forall((A, B), A, domain=Booleans, conditions=(Or(A, B), Not(B)))"
   ]
  },
  {
   "cell_type": "code",
   "execution_count": 12,
   "metadata": {
    "collapsed": false
   },
   "outputs": [
    {
     "data": {
      "text/html": [
       "<strong id=\"rightIfNotLeft\"><a href=\"_proofs_\\rightIfNotLeft.ipynb\" target=\"_blank\">rightIfNotLeft</a>:</strong> <a href=\"__pv_it\\bb0d5edd03cb6519c72ac2df62aeac1eb3b8d8cb0\\expr.ipynb\" target=\"_blank\"><img src=\"__pv_it\\bb0d5edd03cb6519c72ac2df62aeac1eb3b8d8cb0\\expr.png\" style=\"display:inline;vertical-align:middle;\" /></a><br>"
      ],
      "text/plain": [
       "rightIfNotLeft: forall_{A, B in BOOLEANS | (A or B),not(A)} B"
      ]
     },
     "execution_count": 12,
     "metadata": {},
     "output_type": "execute_result"
    }
   ],
   "source": [
    "rightIfNotLeft = Forall((A, B), B, domain=Booleans, conditions=(Or(A, B), Not(A)))"
   ]
  },
  {
   "cell_type": "code",
   "execution_count": 13,
   "metadata": {
    "collapsed": false
   },
   "outputs": [
    {
     "data": {
      "text/html": [
       "<strong id=\"singularConstructiveDilemma\"><a href=\"_proofs_\\singularConstructiveDilemma.ipynb\" target=\"_blank\">singularConstructiveDilemma</a>:</strong> <a href=\"__pv_it\\3c8b93f40e23214e250a47da72c1a266ea09ca810\\expr.ipynb\" target=\"_blank\"><img src=\"__pv_it\\3c8b93f40e23214e250a47da72c1a266ea09ca810\\expr.png\" style=\"display:inline;vertical-align:middle;\" /></a><br>"
      ],
      "text/plain": [
       "singularConstructiveDilemma: forall_{A, B in BOOLEANS} [forall_{C | (A or B),(A => C),(B => C)} C]"
      ]
     },
     "execution_count": 13,
     "metadata": {},
     "output_type": "execute_result"
    }
   ],
   "source": [
    "singularConstructiveDilemma = Forall((A, B), Forall(C, C, conditions=[Or(A, B), Implies(A, C), Implies(B, C)]), domain=Booleans)"
   ]
  },
  {
   "cell_type": "code",
   "execution_count": 14,
   "metadata": {
    "collapsed": true
   },
   "outputs": [],
   "source": []
  },
  {
   "cell_type": "code",
   "execution_count": 14,
   "metadata": {
    "collapsed": false
   },
   "outputs": [
    {
     "data": {
      "text/html": [
       "<strong id=\"notLeftIfNeither\"><a href=\"_proofs_\\notLeftIfNeither.ipynb\" target=\"_blank\">notLeftIfNeither</a>:</strong> <a href=\"__pv_it\\7806903c61e60ff6a8058470c3bc664fc7313db90\\expr.ipynb\" target=\"_blank\"><img src=\"__pv_it\\7806903c61e60ff6a8058470c3bc664fc7313db90\\expr.png\" style=\"display:inline;vertical-align:middle;\" /></a><br>"
      ],
      "text/plain": [
       "notLeftIfNeither: forall_{A, B | not(A or B)} not(A)"
      ]
     },
     "execution_count": 14,
     "metadata": {},
     "output_type": "execute_result"
    }
   ],
   "source": [
    "notLeftIfNeither = Forall((A, B), Not(A), conditions=(Not(Or(A, B))))"
   ]
  },
  {
   "cell_type": "code",
   "execution_count": 15,
   "metadata": {
    "collapsed": false
   },
   "outputs": [
    {
     "data": {
      "text/html": [
       "<strong id=\"notRightIfNeither\"><a href=\"_proofs_\\notRightIfNeither.ipynb\" target=\"_blank\">notRightIfNeither</a>:</strong> <a href=\"__pv_it\\9ee1a6aa9126991bb32b3d8ffa16fcf517177e780\\expr.ipynb\" target=\"_blank\"><img src=\"__pv_it\\9ee1a6aa9126991bb32b3d8ffa16fcf517177e780\\expr.png\" style=\"display:inline;vertical-align:middle;\" /></a><br>"
      ],
      "text/plain": [
       "notRightIfNeither: forall_{A, B | not(A or B)} not(B)"
      ]
     },
     "execution_count": 15,
     "metadata": {},
     "output_type": "execute_result"
    }
   ],
   "source": [
    "notRightIfNeither = Forall((A, B), Not(B), conditions=(Not(Or(A, B))))"
   ]
  },
  {
   "cell_type": "code",
   "execution_count": 16,
   "metadata": {
    "collapsed": true
   },
   "outputs": [],
   "source": []
  },
  {
   "cell_type": "code",
   "execution_count": 16,
   "metadata": {
    "collapsed": false
   },
   "outputs": [
    {
     "data": {
      "text/html": [
       "<strong id=\"constructiveDilemma\"><a href=\"_proofs_\\constructiveDilemma.ipynb\" target=\"_blank\">constructiveDilemma</a>:</strong> <a href=\"__pv_it\\d71f992451fb27053c6627155d8b44d6dccfdd8c0\\expr.ipynb\" target=\"_blank\"><img src=\"__pv_it\\d71f992451fb27053c6627155d8b44d6dccfdd8c0\\expr.png\" style=\"display:inline;vertical-align:middle;\" /></a><br>"
      ],
      "text/plain": [
       "constructiveDilemma: forall_{A, B, C, D in BOOLEANS | (A or B),(A => C),(B => D)} (C or D)"
      ]
     },
     "execution_count": 16,
     "metadata": {},
     "output_type": "execute_result"
    }
   ],
   "source": [
    "constructiveDilemma = Forall((A, B, C, D), Or(C, D), domain=Booleans, conditions=[Or(A, B), Implies(A, C), Implies(B, D)])"
   ]
  },
  {
   "cell_type": "code",
   "execution_count": 17,
   "metadata": {
    "collapsed": false
   },
   "outputs": [
    {
     "data": {
      "text/html": [
       "<strong id=\"destructiveDilemma\"><a href=\"_proofs_\\destructiveDilemma.ipynb\" target=\"_blank\">destructiveDilemma</a>:</strong> <a href=\"__pv_it\\83ffa294edd701ce65f90a9daff6aa519abe77880\\expr.ipynb\" target=\"_blank\"><img src=\"__pv_it\\83ffa294edd701ce65f90a9daff6aa519abe77880\\expr.png\" style=\"display:inline;vertical-align:middle;\" /></a><br>"
      ],
      "text/plain": [
       "destructiveDilemma: forall_{A, B, C, D in BOOLEANS | (not(C) or not(D)),(A => C),(B => D)} (not(A) or not(B))"
      ]
     },
     "execution_count": 17,
     "metadata": {},
     "output_type": "execute_result"
    }
   ],
   "source": [
    "destructiveDilemma = Forall((A, B, C, D), Or(Not(A), Not(B)), domain=Booleans, conditions=[Or(Not(C), Not(D)), Implies(A, C), Implies(B, D)])"
   ]
  },
  {
   "cell_type": "code",
   "execution_count": 18,
   "metadata": {
    "collapsed": true
   },
   "outputs": [],
   "source": []
  },
  {
   "cell_type": "code",
   "execution_count": 18,
   "metadata": {
    "collapsed": false
   },
   "outputs": [
    {
     "data": {
      "text/html": [
       "<strong id=\"orIfLeft\"><a href=\"_proofs_\\orIfLeft.ipynb\" target=\"_blank\">orIfLeft</a>:</strong> <a href=\"__pv_it\\c8e385fb79025cd05f4a1e0d4028accac8d4884e0\\expr.ipynb\" target=\"_blank\"><img src=\"__pv_it\\c8e385fb79025cd05f4a1e0d4028accac8d4884e0\\expr.png\" style=\"display:inline;vertical-align:middle;\" /></a><br>"
      ],
      "text/plain": [
       "orIfLeft: forall_{A, B in BOOLEANS | A} (A or B)"
      ]
     },
     "execution_count": 18,
     "metadata": {},
     "output_type": "execute_result"
    }
   ],
   "source": [
    "orIfLeft = Forall((A, B), Or(A, B), domain=Booleans, conditions=[A])"
   ]
  },
  {
   "cell_type": "code",
   "execution_count": 19,
   "metadata": {
    "collapsed": false
   },
   "outputs": [
    {
     "data": {
      "text/html": [
       "<strong id=\"orIfRight\"><a href=\"_proofs_\\orIfRight.ipynb\" target=\"_blank\">orIfRight</a>:</strong> <a href=\"__pv_it\\7ad1249dea9fb52e0aede3508b0aa6f8bd8ea6350\\expr.ipynb\" target=\"_blank\"><img src=\"__pv_it\\7ad1249dea9fb52e0aede3508b0aa6f8bd8ea6350\\expr.png\" style=\"display:inline;vertical-align:middle;\" /></a><br>"
      ],
      "text/plain": [
       "orIfRight: forall_{A, B in BOOLEANS | B} (A or B)"
      ]
     },
     "execution_count": 19,
     "metadata": {},
     "output_type": "execute_result"
    }
   ],
   "source": [
    "orIfRight = Forall((A, B), Or(A, B), domain=Booleans, conditions=[B])"
   ]
  },
  {
   "cell_type": "code",
   "execution_count": 20,
   "metadata": {
    "collapsed": true
   },
   "outputs": [],
   "source": []
  },
  {
   "cell_type": "code",
   "execution_count": 20,
   "metadata": {
    "collapsed": false
   },
   "outputs": [
    {
     "data": {
      "text/html": [
       "<strong id=\"eachInBool\"><a href=\"_proofs_\\eachInBool.ipynb\" target=\"_blank\">eachInBool</a>:</strong> <a href=\"__pv_it\\baf8f9b379b2c0faa5adb74ebb75fe4490eca02a0\\expr.ipynb\" target=\"_blank\"><img src=\"__pv_it\\baf8f9b379b2c0faa5adb74ebb75fe4490eca02a0\\expr.png\" style=\"display:inline;vertical-align:middle;\" /></a><br>"
      ],
      "text/plain": [
       "eachInBool: forall_{A_{#}, B, C_{#} | (( .. or A_{#} or ..  or B or  .. or C_{#} or .. ) in BOOLEANS)} (B in BOOLEANS)"
      ]
     },
     "execution_count": 20,
     "metadata": {},
     "output_type": "execute_result"
    }
   ],
   "source": [
    "eachInBool = Forall((Amulti, B, Cmulti), inBool(B), conditions=inBool(Or(Aetc, B, Cetc)))"
   ]
  },
  {
   "cell_type": "code",
   "execution_count": 21,
   "metadata": {
    "collapsed": false
   },
   "outputs": [
    {
     "data": {
      "text/html": [
       "<strong id=\"orIfAny\"><a href=\"_proofs_\\orIfAny.ipynb\" target=\"_blank\">orIfAny</a>:</strong> <a href=\"__pv_it\\0e960e63315c1bd7c23d0f3261996c8ba269cd070\\expr.ipynb\" target=\"_blank\"><img src=\"__pv_it\\0e960e63315c1bd7c23d0f3261996c8ba269cd070\\expr.png\" style=\"display:inline;vertical-align:middle;\" /></a><br>"
      ],
      "text/plain": [
       "orIfAny: forall_{A_{#}, B, C_{#} in BOOLEANS | B} ( .. or A_{#} or ..  or B or  .. or C_{#} or .. )"
      ]
     },
     "execution_count": 21,
     "metadata": {},
     "output_type": "execute_result"
    }
   ],
   "source": [
    "orIfAny = Forall((Amulti, B, Cmulti), Or(Aetc, B, Cetc), domain=Booleans, conditions=[B])"
   ]
  },
  {
   "cell_type": "code",
   "execution_count": 22,
   "metadata": {
    "collapsed": false
   },
   "outputs": [
    {
     "data": {
      "text/html": [
       "<strong id=\"notOrIfNotAny\"><a href=\"_proofs_\\notOrIfNotAny.ipynb\" target=\"_blank\">notOrIfNotAny</a>:</strong> <a href=\"__pv_it\\dd919d0e483b61aa043a2443e7cb629d13469cfe0\\expr.ipynb\" target=\"_blank\"><img src=\"__pv_it\\dd919d0e483b61aa043a2443e7cb629d13469cfe0\\expr.png\" style=\"display:inline;vertical-align:middle;\" /></a><br>"
      ],
      "text/plain": [
       "notOrIfNotAny: forall_{A_{#} in BOOLEANS |  ..,not(A_{#}),.. } not( .. or A_{#} or .. )"
      ]
     },
     "execution_count": 22,
     "metadata": {},
     "output_type": "execute_result"
    }
   ],
   "source": [
    "notOrIfNotAny = Forall((Amulti), Not(Or(Aetc)), domain=Booleans, conditions=[Etcetera(Not(Amulti))])"
   ]
  },
  {
   "cell_type": "code",
   "execution_count": 23,
   "metadata": {
    "collapsed": false
   },
   "outputs": [
    {
     "data": {
      "text/html": [
       "<strong id=\"orContradiction\"><a href=\"_proofs_\\orContradiction.ipynb\" target=\"_blank\">orContradiction</a>:</strong> <a href=\"__pv_it\\288e8f372c2f3211f2312465b9a6dc6daf688c970\\expr.ipynb\" target=\"_blank\"><img src=\"__pv_it\\288e8f372c2f3211f2312465b9a6dc6daf688c970\\expr.png\" style=\"display:inline;vertical-align:middle;\" /></a><br>"
      ],
      "text/plain": [
       "orContradiction: forall_{A_{#} | \\left[or\n",
       "ight](A_{#}), ..,not(A_{#}),.. } FALSE"
      ]
     },
     "execution_count": 23,
     "metadata": {},
     "output_type": "execute_result"
    }
   ],
   "source": [
    "orContradiction = Forall(Amulti, FALSE, conditions=(Or(Amulti), Etcetera(Not(Amulti))))"
   ]
  },
  {
   "cell_type": "code",
   "execution_count": 24,
   "metadata": {
    "collapsed": false
   },
   "outputs": [
    {
     "data": {
      "text/html": [
       "<strong id=\"disjunctionTrueEval\"><a href=\"_proofs_\\disjunctionTrueEval.ipynb\" target=\"_blank\">disjunctionTrueEval</a>:</strong> <a href=\"__pv_it\\c0d67b5d6d3452dc07620864c85f2f9ef77ca09d0\\expr.ipynb\" target=\"_blank\"><img src=\"__pv_it\\c0d67b5d6d3452dc07620864c85f2f9ef77ca09d0\\expr.png\" style=\"display:inline;vertical-align:middle;\" /></a><br>"
      ],
      "text/plain": [
       "disjunctionTrueEval: forall_{A_{#}, C_{#} in BOOLEANS} (( .. or A_{#} or ..  or TRUE or  .. or C_{#} or .. ) = TRUE)"
      ]
     },
     "execution_count": 24,
     "metadata": {},
     "output_type": "execute_result"
    }
   ],
   "source": [
    "disjunctionTrueEval = Forall((Amulti, Cmulti), Equals(Or(Aetc, TRUE, Cetc), TRUE), domain=Booleans)"
   ]
  },
  {
   "cell_type": "code",
   "execution_count": 25,
   "metadata": {
    "collapsed": false
   },
   "outputs": [
    {
     "data": {
      "text/html": [
       "<strong id=\"disjunctionFalseEval\"><a href=\"_proofs_\\disjunctionFalseEval.ipynb\" target=\"_blank\">disjunctionFalseEval</a>:</strong> <a href=\"__pv_it\\7a811c052e66598ecc904cafc2011c5a646c1ef40\\expr.ipynb\" target=\"_blank\"><img src=\"__pv_it\\7a811c052e66598ecc904cafc2011c5a646c1ef40\\expr.png\" style=\"display:inline;vertical-align:middle;\" /></a><br>"
      ],
      "text/plain": [
       "disjunctionFalseEval: forall_{A_{#} in {FALSE}} (( .. or A_{#} or .. ) = FALSE)"
      ]
     },
     "execution_count": 25,
     "metadata": {},
     "output_type": "execute_result"
    }
   ],
   "source": [
    "disjunctionFalseEval = Forall(Amulti, Equals(Or(Aetc), FALSE), domain=Set(FALSE))"
   ]
  },
  {
   "cell_type": "code",
   "execution_count": 26,
   "metadata": {
    "collapsed": true
   },
   "outputs": [],
   "source": []
  },
  {
   "cell_type": "code",
   "execution_count": 26,
   "metadata": {
    "collapsed": false
   },
   "outputs": [
    {
     "data": {
      "text/html": [
       "<strong id=\"binaryClosure\"><a href=\"_proofs_\\binaryClosure.ipynb\" target=\"_blank\">binaryClosure</a>:</strong> <a href=\"__pv_it\\e1ef5500727a05258345695a3e8961fd952746d90\\expr.ipynb\" target=\"_blank\"><img src=\"__pv_it\\e1ef5500727a05258345695a3e8961fd952746d90\\expr.png\" style=\"display:inline;vertical-align:middle;\" /></a><br>"
      ],
      "text/plain": [
       "binaryClosure: forall_{A, B in BOOLEANS} ((A or B) in BOOLEANS)"
      ]
     },
     "execution_count": 26,
     "metadata": {},
     "output_type": "execute_result"
    }
   ],
   "source": [
    "binaryClosure = Forall((A, B), inBool(Or(A, B)), domain=Booleans)"
   ]
  },
  {
   "cell_type": "code",
   "execution_count": 27,
   "metadata": {
    "collapsed": false
   },
   "outputs": [
    {
     "data": {
      "text/html": [
       "<strong id=\"closure\"><a href=\"_proofs_\\closure.ipynb\" target=\"_blank\">closure</a>:</strong> <a href=\"__pv_it\\e7065cbfd9e13f4e714c9c7a01afa335b02ae1690\\expr.ipynb\" target=\"_blank\"><img src=\"__pv_it\\e7065cbfd9e13f4e714c9c7a01afa335b02ae1690\\expr.png\" style=\"display:inline;vertical-align:middle;\" /></a><br>"
      ],
      "text/plain": [
       "closure: forall_{A_{#} in BOOLEANS} (( .. or A_{#} or .. ) in BOOLEANS)"
      ]
     },
     "execution_count": 27,
     "metadata": {},
     "output_type": "execute_result"
    }
   ],
   "source": [
    "closure = Forall(Amulti, inBool(Or(Aetc)), domain=Booleans)"
   ]
  },
  {
   "cell_type": "code",
   "execution_count": 28,
   "metadata": {
    "collapsed": false
   },
   "outputs": [
    {
     "name": "stdout",
     "output_type": "stream",
     "text": [
      "Theorems may be imported from autogenerated _theorems_.py\n"
     ]
    }
   ],
   "source": [
    "%end_theorems"
   ]
  }
 ],
 "metadata": {
  "kernelspec": {
   "display_name": "Python 2",
   "language": "python",
   "name": "python2"
  },
  "language_info": {
   "codemirror_mode": {
    "name": "ipython",
    "version": 2
   },
   "file_extension": ".py",
   "mimetype": "text/x-python",
   "name": "python",
   "nbconvert_exporter": "python",
   "pygments_lexer": "ipython2",
   "version": "2.7.11"
  }
 },
 "nbformat": 4,
 "nbformat_minor": 0
}
