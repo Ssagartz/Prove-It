{
 "cells": [
  {
   "cell_type": "markdown",
   "metadata": {
    "collapsed": true,
    "deletable": true,
    "editable": true
   },
   "source": [
    "Theorems for context <a href=\"_context_.ipynb\" class=\"ProveItLink\">proveit.logic.boolean</a>\n",
    "========"
   ]
  },
  {
   "cell_type": "code",
   "execution_count": 1,
   "metadata": {
    "collapsed": false,
    "deletable": true,
    "editable": true
   },
   "outputs": [],
   "source": [
    "import proveit\n",
    "from proveit.logic import Booleans, TRUE, FALSE, Equals, NotEquals, Forall, And, Implies, InSet\n",
    "from proveit._common_ import A, P, PofA\n",
    "from proveit.logic._common_ import PofTrue, PofFalse"
   ]
  },
  {
   "cell_type": "code",
   "execution_count": 2,
   "metadata": {
    "collapsed": false,
    "deletable": true,
    "editable": true
   },
   "outputs": [
    {
     "name": "stdout",
     "output_type": "stream",
     "text": [
      "Defining theorems for context 'proveit.logic.boolean'\n",
      "Subsequent end-of-cell assignments will define theorems\n",
      "%end_theorems will finalize the definitions\n"
     ]
    }
   ],
   "source": [
    "%begin_theorems"
   ]
  },
  {
   "cell_type": "markdown",
   "metadata": {
    "deletable": true,
    "editable": true
   },
   "source": [
    "### Comparisons between Booleans"
   ]
  },
  {
   "cell_type": "code",
   "execution_count": 3,
   "metadata": {
    "collapsed": false,
    "deletable": true,
    "editable": true,
    "scrolled": true
   },
   "outputs": [
    {
     "data": {
      "text/html": [
       "<strong id=\"trueEqTrue\"><a class=\"ProveItLink\" href=\"_proofs_\\trueEqTrue.ipynb\" target=\"_blank\">trueEqTrue</a>:</strong> <a href=\"__pv_it\\46289694c5c5501856e7f6e2bf26b31b47b37d490\\expr.ipynb\" target=\"_blank\"><img src=\"__pv_it\\46289694c5c5501856e7f6e2bf26b31b47b37d490\\expr.png\" style=\"display:inline;vertical-align:middle;\" /></a><br>"
      ],
      "text/plain": [
       "trueEqTrue: TRUE = TRUE"
      ]
     },
     "execution_count": 3,
     "metadata": {},
     "output_type": "execute_result"
    }
   ],
   "source": [
    "trueEqTrue = Equals(TRUE, TRUE)"
   ]
  },
  {
   "cell_type": "code",
   "execution_count": 4,
   "metadata": {
    "collapsed": false,
    "deletable": true,
    "editable": true
   },
   "outputs": [
    {
     "data": {
      "text/html": [
       "<strong id=\"falseEqFalse\"><a class=\"ProveItLink\" href=\"_proofs_\\falseEqFalse.ipynb\" target=\"_blank\">falseEqFalse</a>:</strong> <a href=\"__pv_it\\e50d19beb01c50dfd4faa406229959d192ebe0940\\expr.ipynb\" target=\"_blank\"><img src=\"__pv_it\\e50d19beb01c50dfd4faa406229959d192ebe0940\\expr.png\" style=\"display:inline;vertical-align:middle;\" /></a><br>"
      ],
      "text/plain": [
       "falseEqFalse: FALSE = FALSE"
      ]
     },
     "execution_count": 4,
     "metadata": {},
     "output_type": "execute_result"
    }
   ],
   "source": [
    "falseEqFalse = Equals(FALSE, FALSE)"
   ]
  },
  {
   "cell_type": "code",
   "execution_count": 5,
   "metadata": {
    "collapsed": false,
    "deletable": true,
    "editable": true
   },
   "outputs": [
    {
     "data": {
      "text/html": [
       "<strong id=\"trueNotFalse\"><a class=\"ProveItLink\" href=\"_proofs_\\trueNotFalse.ipynb\" target=\"_blank\">trueNotFalse</a>:</strong> <a href=\"__pv_it\\3d6e20fbb367d28360d30e8b1a57ae06ede3aa820\\expr.ipynb\" target=\"_blank\"><img src=\"__pv_it\\3d6e20fbb367d28360d30e8b1a57ae06ede3aa820\\expr.png\" style=\"display:inline;vertical-align:middle;\" /></a><br>"
      ],
      "text/plain": [
       "trueNotFalse: TRUE != FALSE"
      ]
     },
     "execution_count": 5,
     "metadata": {},
     "output_type": "execute_result"
    }
   ],
   "source": [
    "trueNotFalse = NotEquals(TRUE, FALSE)"
   ]
  },
  {
   "cell_type": "markdown",
   "metadata": {
    "deletable": true,
    "editable": true
   },
   "source": [
    "### `TRUE` and `FALSE` are in the set of Booleans:"
   ]
  },
  {
   "cell_type": "code",
   "execution_count": 6,
   "metadata": {
    "collapsed": false,
    "deletable": true,
    "editable": true
   },
   "outputs": [
    {
     "data": {
      "text/html": [
       "<strong id=\"trueInBool\"><a class=\"ProveItLink\" href=\"_proofs_\\trueInBool.ipynb\" target=\"_blank\">trueInBool</a>:</strong> <a href=\"__pv_it\\a7d9437c8d21a917e57967d1fff404c0ffa1196c0\\expr.ipynb\" target=\"_blank\"><img src=\"__pv_it\\a7d9437c8d21a917e57967d1fff404c0ffa1196c0\\expr.png\" style=\"display:inline;vertical-align:middle;\" /></a><br>"
      ],
      "text/plain": [
       "trueInBool: TRUE in BOOLEANS"
      ]
     },
     "execution_count": 6,
     "metadata": {},
     "output_type": "execute_result"
    }
   ],
   "source": [
    "trueInBool = InSet(TRUE, Booleans)"
   ]
  },
  {
   "cell_type": "code",
   "execution_count": 7,
   "metadata": {
    "collapsed": false,
    "deletable": true,
    "editable": true
   },
   "outputs": [
    {
     "data": {
      "text/html": [
       "<strong id=\"falseInBool\"><a class=\"ProveItLink\" href=\"_proofs_\\falseInBool.ipynb\" target=\"_blank\">falseInBool</a>:</strong> <a href=\"__pv_it\\04d8bdd91d114667f9e584c082d221f055480a800\\expr.ipynb\" target=\"_blank\"><img src=\"__pv_it\\04d8bdd91d114667f9e584c082d221f055480a800\\expr.png\" style=\"display:inline;vertical-align:middle;\" /></a><br>"
      ],
      "text/plain": [
       "falseInBool: FALSE in BOOLEANS"
      ]
     },
     "execution_count": 7,
     "metadata": {},
     "output_type": "execute_result"
    }
   ],
   "source": [
    "falseInBool = InSet(FALSE, Booleans)"
   ]
  },
  {
   "cell_type": "markdown",
   "metadata": {
    "deletable": true,
    "editable": true
   },
   "source": [
    "### Evaluation of $\\forall$ over the Boolean domain"
   ]
  },
  {
   "cell_type": "code",
   "execution_count": 8,
   "metadata": {
    "collapsed": false,
    "deletable": true,
    "editable": true
   },
   "outputs": [
    {
     "data": {
      "text/html": [
       "<strong id=\"forallBoolEvalTrue\"><a class=\"ProveItLink\" href=\"_proofs_\\forallBoolEvalTrue.ipynb\" target=\"_blank\">forallBoolEvalTrue</a>:</strong> <a href=\"__pv_it\\588bab141294274e86f7fa602b91d82e99eed5460\\expr.ipynb\" target=\"_blank\"><img src=\"__pv_it\\588bab141294274e86f7fa602b91d82e99eed5460\\expr.png\" style=\"display:inline;vertical-align:middle;\" /></a><br>"
      ],
      "text/plain": [
       "forallBoolEvalTrue: forall_{P} (((P(TRUE) = TRUE) and (P(FALSE) = TRUE)) => ([forall_{A in BOOLEANS} P(A)] = TRUE))"
      ]
     },
     "execution_count": 8,
     "metadata": {},
     "output_type": "execute_result"
    }
   ],
   "source": [
    "forallBoolEvalTrue = Forall(P, Implies(And(Equals(PofTrue, TRUE), Equals(PofFalse, TRUE)), \n",
    "                             Equals(Forall(A, PofA, domain=Booleans), TRUE)))"
   ]
  },
  {
   "cell_type": "markdown",
   "metadata": {
    "deletable": true,
    "editable": true
   },
   "source": [
    "**Various ways for a $\\forall$ expression over the set of Booleans to evaluate to `FALSE`:**"
   ]
  },
  {
   "cell_type": "code",
   "execution_count": 9,
   "metadata": {
    "collapsed": true,
    "deletable": true,
    "editable": true
   },
   "outputs": [],
   "source": [
    "def _forallBoolEvalFalse(PofTrueVal, PofFalseVal):\n",
    "    return Forall(P, Implies(And(Equals(PofTrue, PofTrueVal), Equals(PofFalse, PofFalseVal)), \n",
    "                             Equals(Forall(A, PofA, domain=Booleans), FALSE)))"
   ]
  },
  {
   "cell_type": "code",
   "execution_count": 10,
   "metadata": {
    "collapsed": false,
    "deletable": true,
    "editable": true
   },
   "outputs": [
    {
     "data": {
      "text/html": [
       "<strong id=\"forallBoolEvalFalseViaFF\"><a class=\"ProveItLink\" href=\"_proofs_\\forallBoolEvalFalseViaFF.ipynb\" target=\"_blank\">forallBoolEvalFalseViaFF</a>:</strong> <a href=\"__pv_it\\cf24811e3331105d72c34c7ce2eaafb5042c865c0\\expr.ipynb\" target=\"_blank\"><img src=\"__pv_it\\cf24811e3331105d72c34c7ce2eaafb5042c865c0\\expr.png\" style=\"display:inline;vertical-align:middle;\" /></a><br>"
      ],
      "text/plain": [
       "forallBoolEvalFalseViaFF: forall_{P} (((P(TRUE) = FALSE) and (P(FALSE) = FALSE)) => ([forall_{A in BOOLEANS} P(A)] = FALSE))"
      ]
     },
     "execution_count": 10,
     "metadata": {},
     "output_type": "execute_result"
    }
   ],
   "source": [
    "forallBoolEvalFalseViaFF = _forallBoolEvalFalse(FALSE, FALSE)"
   ]
  },
  {
   "cell_type": "code",
   "execution_count": 11,
   "metadata": {
    "collapsed": false,
    "deletable": true,
    "editable": true
   },
   "outputs": [
    {
     "data": {
      "text/html": [
       "<strong id=\"forallBoolEvalFalseViaFT\"><a class=\"ProveItLink\" href=\"_proofs_\\forallBoolEvalFalseViaFT.ipynb\" target=\"_blank\">forallBoolEvalFalseViaFT</a>:</strong> <a href=\"__pv_it\\80132eabca31802320422de1bbd7466a7f7618780\\expr.ipynb\" target=\"_blank\"><img src=\"__pv_it\\80132eabca31802320422de1bbd7466a7f7618780\\expr.png\" style=\"display:inline;vertical-align:middle;\" /></a><br>"
      ],
      "text/plain": [
       "forallBoolEvalFalseViaFT: forall_{P} (((P(TRUE) = FALSE) and (P(FALSE) = TRUE)) => ([forall_{A in BOOLEANS} P(A)] = FALSE))"
      ]
     },
     "execution_count": 11,
     "metadata": {},
     "output_type": "execute_result"
    }
   ],
   "source": [
    "forallBoolEvalFalseViaFT = _forallBoolEvalFalse(FALSE, TRUE)"
   ]
  },
  {
   "cell_type": "code",
   "execution_count": 12,
   "metadata": {
    "collapsed": false,
    "deletable": true,
    "editable": true
   },
   "outputs": [
    {
     "data": {
      "text/html": [
       "<strong id=\"forallBoolEvalFalseViaTF\"><a class=\"ProveItLink\" href=\"_proofs_\\forallBoolEvalFalseViaTF.ipynb\" target=\"_blank\">forallBoolEvalFalseViaTF</a>:</strong> <a href=\"__pv_it\\280e7be1057f96978e175d586e1881b3abe0487b0\\expr.ipynb\" target=\"_blank\"><img src=\"__pv_it\\280e7be1057f96978e175d586e1881b3abe0487b0\\expr.png\" style=\"display:inline;vertical-align:middle;\" /></a><br>"
      ],
      "text/plain": [
       "forallBoolEvalFalseViaTF: forall_{P} (((P(TRUE) = TRUE) and (P(FALSE) = FALSE)) => ([forall_{A in BOOLEANS} P(A)] = FALSE))"
      ]
     },
     "execution_count": 12,
     "metadata": {},
     "output_type": "execute_result"
    }
   ],
   "source": [
    "forallBoolEvalFalseViaTF = _forallBoolEvalFalse(TRUE, FALSE)"
   ]
  },
  {
   "cell_type": "code",
   "execution_count": 13,
   "metadata": {
    "collapsed": false,
    "deletable": true,
    "editable": true
   },
   "outputs": [
    {
     "name": "stdout",
     "output_type": "stream",
     "text": [
      "Theorems may be imported from autogenerated _theorems_.py\n"
     ]
    }
   ],
   "source": [
    "%end_theorems"
   ]
  },
  {
   "cell_type": "code",
   "execution_count": 14,
   "metadata": {
    "collapsed": true,
    "deletable": true,
    "editable": true
   },
   "outputs": [],
   "source": []
  }
 ],
 "metadata": {
  "kernelspec": {
   "display_name": "Python 2",
   "language": "python",
   "name": "python2"
  },
  "language_info": {
   "codemirror_mode": {
    "name": "ipython",
    "version": 2
   },
   "file_extension": ".py",
   "mimetype": "text/x-python",
   "name": "python",
   "nbconvert_exporter": "python",
   "pygments_lexer": "ipython2",
   "version": "2.7.11"
  }
 },
 "nbformat": 4,
 "nbformat_minor": 0
}
