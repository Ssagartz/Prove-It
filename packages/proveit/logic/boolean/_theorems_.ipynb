{
 "cells": [
  {
   "cell_type": "markdown",
   "metadata": {
    "collapsed": true,
    "deletable": true,
    "editable": true
   },
   "source": [
    "Theorems for context <a href=\"_context_.ipynb\" class=\"ProveItLink\">proveit.logic.boolean</a>\n",
    "========"
   ]
  },
  {
   "cell_type": "code",
   "execution_count": 1,
   "metadata": {
    "collapsed": false,
    "deletable": true,
    "editable": true
   },
   "outputs": [],
   "source": [
    "import proveit\n",
    "from proveit.logic import Booleans, TRUE, FALSE, Equals, NotEquals, Forall, And, Not, Implies, InSet, inBool\n",
    "from proveit._common_ import A, P, PofA\n",
    "from proveit.logic._common_ import PofTrue, PofFalse"
   ]
  },
  {
   "cell_type": "code",
   "execution_count": 2,
   "metadata": {
    "collapsed": false,
    "deletable": true,
    "editable": true
   },
   "outputs": [
    {
     "name": "stdout",
     "output_type": "stream",
     "text": [
      "Defining theorems for context 'proveit.logic.boolean'\n",
      "Subsequent end-of-cell assignments will define theorems\n",
      "'%end theorems' will finalize the definitions\n"
     ]
    }
   ],
   "source": [
    "%begin theorems"
   ]
  },
  {
   "cell_type": "markdown",
   "metadata": {
    "deletable": true,
    "editable": true
   },
   "source": [
    "### Comparisons between Booleans"
   ]
  },
  {
   "cell_type": "code",
   "execution_count": 3,
   "metadata": {
    "collapsed": false,
    "deletable": true,
    "editable": true,
    "scrolled": true
   },
   "outputs": [
    {
     "data": {
      "text/html": [
       "<strong id=\"trueEqTrue\"><a class=\"ProveItLink\" href=\"_proofs_\\trueEqTrue.ipynb\">trueEqTrue</a>:</strong> <a class=\"ProveItLink\" href=\"__pv_it\\0914d103119bd189a3ff5d0b33421783500028be0\\expr.ipynb\"><img src=\"__pv_it\\0914d103119bd189a3ff5d0b33421783500028be0\\expr.png\" style=\"display:inline;vertical-align:middle;\" /></a><br>"
      ],
      "text/plain": [
       "trueEqTrue: TRUE = TRUE"
      ]
     },
     "execution_count": 3,
     "metadata": {},
     "output_type": "execute_result"
    }
   ],
   "source": [
    "trueEqTrue = Equals(TRUE, TRUE)"
   ]
  },
  {
   "cell_type": "code",
   "execution_count": 4,
   "metadata": {
    "collapsed": false,
    "deletable": true,
    "editable": true
   },
   "outputs": [
    {
     "data": {
      "text/html": [
       "<strong id=\"falseEqFalse\"><a class=\"ProveItLink\" href=\"_proofs_\\falseEqFalse.ipynb\">falseEqFalse</a>:</strong> <a class=\"ProveItLink\" href=\"__pv_it\\16869f8ee73224790b442c4aabe98cc382af02ae0\\expr.ipynb\"><img src=\"__pv_it\\16869f8ee73224790b442c4aabe98cc382af02ae0\\expr.png\" style=\"display:inline;vertical-align:middle;\" /></a><br>"
      ],
      "text/plain": [
       "falseEqFalse: FALSE = FALSE"
      ]
     },
     "execution_count": 4,
     "metadata": {},
     "output_type": "execute_result"
    }
   ],
   "source": [
    "falseEqFalse = Equals(FALSE, FALSE)"
   ]
  },
  {
   "cell_type": "code",
   "execution_count": 5,
   "metadata": {
    "collapsed": false,
    "deletable": true,
    "editable": true
   },
   "outputs": [
    {
     "data": {
      "text/html": [
       "<strong id=\"trueNotFalse\"><a class=\"ProveItLink\" href=\"_proofs_\\trueNotFalse.ipynb\">trueNotFalse</a>:</strong> <a class=\"ProveItLink\" href=\"__pv_it\\2124c7804dd4112ff3a589fbb0b57590a98d875f0\\expr.ipynb\"><img src=\"__pv_it\\2124c7804dd4112ff3a589fbb0b57590a98d875f0\\expr.png\" style=\"display:inline;vertical-align:middle;\" /></a><br>"
      ],
      "text/plain": [
       "trueNotFalse: TRUE != FALSE"
      ]
     },
     "execution_count": 5,
     "metadata": {},
     "output_type": "execute_result"
    }
   ],
   "source": [
    "trueNotFalse = NotEquals(TRUE, FALSE)"
   ]
  },
  {
   "cell_type": "markdown",
   "metadata": {
    "deletable": true,
    "editable": true
   },
   "source": [
    "### `TRUE` and `FALSE` are in the set of Booleans:"
   ]
  },
  {
   "cell_type": "code",
   "execution_count": 6,
   "metadata": {
    "collapsed": false,
    "deletable": true,
    "editable": true
   },
   "outputs": [
    {
     "data": {
      "text/html": [
       "<strong id=\"trueInBool\"><a class=\"ProveItLink\" href=\"_proofs_\\trueInBool.ipynb\">trueInBool</a>:</strong> <a class=\"ProveItLink\" href=\"__pv_it\\1b4480d943df8c0fb5cbb417f4fd021ec5e00cce0\\expr.ipynb\"><img src=\"__pv_it\\1b4480d943df8c0fb5cbb417f4fd021ec5e00cce0\\expr.png\" style=\"display:inline;vertical-align:middle;\" /></a><br>"
      ],
      "text/plain": [
       "trueInBool: TRUE in BOOLEANS"
      ]
     },
     "execution_count": 6,
     "metadata": {},
     "output_type": "execute_result"
    }
   ],
   "source": [
    "trueInBool = InSet(TRUE, Booleans)"
   ]
  },
  {
   "cell_type": "code",
   "execution_count": 7,
   "metadata": {
    "collapsed": false,
    "deletable": true,
    "editable": true
   },
   "outputs": [
    {
     "data": {
      "text/html": [
       "<strong id=\"falseInBool\"><a class=\"ProveItLink\" href=\"_proofs_\\falseInBool.ipynb\">falseInBool</a>:</strong> <a class=\"ProveItLink\" href=\"__pv_it\\910a79a03997e58f83c099a19d090ef222c334510\\expr.ipynb\"><img src=\"__pv_it\\910a79a03997e58f83c099a19d090ef222c334510\\expr.png\" style=\"display:inline;vertical-align:middle;\" /></a><br>"
      ],
      "text/plain": [
       "falseInBool: FALSE in BOOLEANS"
      ]
     },
     "execution_count": 7,
     "metadata": {},
     "output_type": "execute_result"
    }
   ],
   "source": [
    "falseInBool = InSet(FALSE, Booleans)"
   ]
  },
  {
   "cell_type": "code",
   "execution_count": 8,
   "metadata": {
    "collapsed": false,
    "deletable": true,
    "editable": true
   },
   "outputs": [
    {
     "data": {
      "text/html": [
       "<strong id=\"inBoolIfTrue\"><a class=\"ProveItLink\" href=\"_proofs_\\inBoolIfTrue.ipynb\">inBoolIfTrue</a>:</strong> <a class=\"ProveItLink\" href=\"__pv_it\\5d4ecfa36b8b4a5f73ec45cff01703361dd436560\\expr.ipynb\"><img src=\"__pv_it\\5d4ecfa36b8b4a5f73ec45cff01703361dd436560\\expr.png\" style=\"display:inline;vertical-align:middle;\" /></a><br>"
      ],
      "text/plain": [
       "inBoolIfTrue: forall_{A | A} (A in BOOLEANS)"
      ]
     },
     "execution_count": 8,
     "metadata": {},
     "output_type": "execute_result"
    }
   ],
   "source": [
    "inBoolIfTrue = Forall(A, inBool(A), conditions=[A])"
   ]
  },
  {
   "cell_type": "code",
   "execution_count": 9,
   "metadata": {
    "collapsed": false,
    "deletable": true,
    "editable": true
   },
   "outputs": [
    {
     "data": {
      "text/html": [
       "<strong id=\"inBoolIfFalse\"><a class=\"ProveItLink\" href=\"_proofs_\\inBoolIfFalse.ipynb\">inBoolIfFalse</a>:</strong> <a class=\"ProveItLink\" href=\"__pv_it\\d8fb4fa40b4f702018cf85a87997b028876cd8260\\expr.ipynb\"><img src=\"__pv_it\\d8fb4fa40b4f702018cf85a87997b028876cd8260\\expr.png\" style=\"display:inline;vertical-align:middle;\" /></a><br>"
      ],
      "text/plain": [
       "inBoolIfFalse: forall_{A | [not](A)} (A in BOOLEANS)"
      ]
     },
     "execution_count": 9,
     "metadata": {},
     "output_type": "execute_result"
    }
   ],
   "source": [
    "inBoolIfFalse = Forall(A, inBool(A), conditions=[Not(A)])"
   ]
  },
  {
   "cell_type": "markdown",
   "metadata": {
    "deletable": true,
    "editable": true
   },
   "source": [
    "### Evaluation of $\\forall$ over the Boolean domain"
   ]
  },
  {
   "cell_type": "code",
   "execution_count": 10,
   "metadata": {
    "collapsed": false,
    "deletable": true,
    "editable": true
   },
   "outputs": [
    {
     "data": {
      "text/html": [
       "<strong id=\"forallBoolEvalTrue\"><a class=\"ProveItLink\" href=\"_proofs_\\forallBoolEvalTrue.ipynb\">forallBoolEvalTrue</a>:</strong> <a class=\"ProveItLink\" href=\"__pv_it\\101c8c7fc4d0e7b20decc675dfbd3c149b1297390\\expr.ipynb\"><img src=\"__pv_it\\101c8c7fc4d0e7b20decc675dfbd3c149b1297390\\expr.png\" style=\"display:inline;vertical-align:middle;\" /></a><br>"
      ],
      "text/plain": [
       "forallBoolEvalTrue: forall_{P} (((P(TRUE) = TRUE) and (P(FALSE) = TRUE)) => ([forall_{A in BOOLEANS} P(A)] = TRUE))"
      ]
     },
     "execution_count": 10,
     "metadata": {},
     "output_type": "execute_result"
    }
   ],
   "source": [
    "forallBoolEvalTrue = Forall(P, Implies(And(Equals(PofTrue, TRUE), Equals(PofFalse, TRUE)), \n",
    "                             Equals(Forall(A, PofA, domain=Booleans), TRUE)))"
   ]
  },
  {
   "cell_type": "markdown",
   "metadata": {
    "deletable": true,
    "editable": true
   },
   "source": [
    "**Various ways for a $\\forall$ expression over the set of Booleans to evaluate to `FALSE`:**"
   ]
  },
  {
   "cell_type": "code",
   "execution_count": 11,
   "metadata": {
    "collapsed": true,
    "deletable": true,
    "editable": true
   },
   "outputs": [],
   "source": [
    "def _forallBoolEvalFalse(PofTrueVal, PofFalseVal):\n",
    "    return Forall(P, Implies(And(Equals(PofTrue, PofTrueVal), Equals(PofFalse, PofFalseVal)), \n",
    "                             Equals(Forall(A, PofA, domain=Booleans), FALSE)))"
   ]
  },
  {
   "cell_type": "code",
   "execution_count": 12,
   "metadata": {
    "collapsed": false,
    "deletable": true,
    "editable": true
   },
   "outputs": [
    {
     "data": {
      "text/html": [
       "<strong id=\"forallBoolEvalFalseViaFF\"><a class=\"ProveItLink\" href=\"_proofs_\\forallBoolEvalFalseViaFF.ipynb\">forallBoolEvalFalseViaFF</a>:</strong> <a class=\"ProveItLink\" href=\"__pv_it\\f589987c95bc0e8cdbbeb72849f75529b16e2aa70\\expr.ipynb\"><img src=\"__pv_it\\f589987c95bc0e8cdbbeb72849f75529b16e2aa70\\expr.png\" style=\"display:inline;vertical-align:middle;\" /></a><br>"
      ],
      "text/plain": [
       "forallBoolEvalFalseViaFF: forall_{P} (((P(TRUE) = FALSE) and (P(FALSE) = FALSE)) => ([forall_{A in BOOLEANS} P(A)] = FALSE))"
      ]
     },
     "execution_count": 12,
     "metadata": {},
     "output_type": "execute_result"
    }
   ],
   "source": [
    "forallBoolEvalFalseViaFF = _forallBoolEvalFalse(FALSE, FALSE)"
   ]
  },
  {
   "cell_type": "code",
   "execution_count": 13,
   "metadata": {
    "collapsed": false,
    "deletable": true,
    "editable": true
   },
   "outputs": [
    {
     "data": {
      "text/html": [
       "<strong id=\"forallBoolEvalFalseViaFT\"><a class=\"ProveItLink\" href=\"_proofs_\\forallBoolEvalFalseViaFT.ipynb\">forallBoolEvalFalseViaFT</a>:</strong> <a class=\"ProveItLink\" href=\"__pv_it\\322e66e8d5d8c61e24d2e6f2956c33fafb36be070\\expr.ipynb\"><img src=\"__pv_it\\322e66e8d5d8c61e24d2e6f2956c33fafb36be070\\expr.png\" style=\"display:inline;vertical-align:middle;\" /></a><br>"
      ],
      "text/plain": [
       "forallBoolEvalFalseViaFT: forall_{P} (((P(TRUE) = FALSE) and (P(FALSE) = TRUE)) => ([forall_{A in BOOLEANS} P(A)] = FALSE))"
      ]
     },
     "execution_count": 13,
     "metadata": {},
     "output_type": "execute_result"
    }
   ],
   "source": [
    "forallBoolEvalFalseViaFT = _forallBoolEvalFalse(FALSE, TRUE)"
   ]
  },
  {
   "cell_type": "code",
   "execution_count": 14,
   "metadata": {
    "collapsed": false,
    "deletable": true,
    "editable": true
   },
   "outputs": [
    {
     "data": {
      "text/html": [
       "<strong id=\"forallBoolEvalFalseViaTF\"><a class=\"ProveItLink\" href=\"_proofs_\\forallBoolEvalFalseViaTF.ipynb\">forallBoolEvalFalseViaTF</a>:</strong> <a class=\"ProveItLink\" href=\"__pv_it\\0b84af6b5d226e14e490f9f31a96d38ab46e29020\\expr.ipynb\"><img src=\"__pv_it\\0b84af6b5d226e14e490f9f31a96d38ab46e29020\\expr.png\" style=\"display:inline;vertical-align:middle;\" /></a><br>"
      ],
      "text/plain": [
       "forallBoolEvalFalseViaTF: forall_{P} (((P(TRUE) = TRUE) and (P(FALSE) = FALSE)) => ([forall_{A in BOOLEANS} P(A)] = FALSE))"
      ]
     },
     "execution_count": 14,
     "metadata": {},
     "output_type": "execute_result"
    }
   ],
   "source": [
    "forallBoolEvalFalseViaTF = _forallBoolEvalFalse(TRUE, FALSE)"
   ]
  },
  {
   "cell_type": "code",
   "execution_count": 15,
   "metadata": {
    "collapsed": false,
    "deletable": true,
    "editable": true
   },
   "outputs": [
    {
     "name": "stdout",
     "output_type": "stream",
     "text": [
      "Adding theorem trueEqTrue to proveit.logic.boolean context\n",
      "Adding theorem falseEqFalse to proveit.logic.boolean context\n",
      "Adding theorem trueNotFalse to proveit.logic.boolean context\n",
      "Adding theorem trueInBool to proveit.logic.boolean context\n",
      "Adding theorem falseInBool to proveit.logic.boolean context\n",
      "Adding theorem inBoolIfTrue to proveit.logic.boolean context\n",
      "Adding theorem inBoolIfFalse to proveit.logic.boolean context\n",
      "Adding theorem forallBoolEvalTrue to proveit.logic.boolean context\n",
      "Adding theorem forallBoolEvalFalseViaFF to proveit.logic.boolean context\n",
      "Adding theorem forallBoolEvalFalseViaFT to proveit.logic.boolean context\n",
      "Adding theorem forallBoolEvalFalseViaTF to proveit.logic.boolean context\n",
      "trueEqTrue expression notebook is being updated\n",
      "forallBoolEvalTrue expression notebook is being updated\n",
      "falseInBool expression notebook is being updated\n",
      "forallBoolEvalFalseViaTF expression notebook is being updated\n",
      "falseEqFalse expression notebook is being updated\n",
      "forallBoolEvalFalseViaFT expression notebook is being updated\n",
      "trueInBool expression notebook is being updated\n",
      "inBoolIfFalse expression notebook is being updated\n",
      "trueNotFalse expression notebook is being updated\n",
      "inBoolIfTrue expression notebook is being updated\n",
      "forallBoolEvalFalseViaFF expression notebook is being updated\n",
      "Theorems may be imported from autogenerated _theorems_.py\n"
     ]
    }
   ],
   "source": [
    "%end theorems"
   ]
  },
  {
   "cell_type": "code",
   "execution_count": null,
   "metadata": {
    "collapsed": true,
    "deletable": true,
    "editable": true
   },
   "outputs": [],
   "source": []
  }
 ],
 "metadata": {
  "kernelspec": {
   "display_name": "Python 2",
   "language": "python",
   "name": "python2"
  },
  "language_info": {
   "codemirror_mode": {
    "name": "ipython",
    "version": 2
   },
   "file_extension": ".py",
   "mimetype": "text/x-python",
   "name": "python",
   "nbconvert_exporter": "python",
   "pygments_lexer": "ipython2",
   "version": "2.7.11"
  }
 },
 "nbformat": 4,
 "nbformat_minor": 0
}
