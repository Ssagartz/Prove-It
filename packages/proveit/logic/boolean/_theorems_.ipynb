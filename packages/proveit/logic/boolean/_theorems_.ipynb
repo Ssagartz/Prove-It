{
 "cells": [
  {
   "cell_type": "markdown",
   "metadata": {
    "collapsed": true,
    "deletable": true,
    "editable": true
   },
   "source": [
    "Theorems for context <a href=\"_context_.ipynb\" class=\"ProveItLink\">proveit.logic.boolean</a>\n",
    "========"
   ]
  },
  {
   "cell_type": "code",
   "execution_count": 1,
   "metadata": {
    "collapsed": false,
    "deletable": true,
    "editable": true
   },
   "outputs": [],
   "source": [
    "import proveit\n",
    "from proveit.logic import Booleans, TRUE, FALSE, Equals, NotEquals, Forall, And, Not, Implies, InSet, inBool\n",
    "from proveit._common_ import A, P, PofA\n",
    "from proveit.logic._common_ import PofTrue, PofFalse"
   ]
  },
  {
   "cell_type": "code",
   "execution_count": 2,
   "metadata": {
    "collapsed": false,
    "deletable": true,
    "editable": true
   },
   "outputs": [
    {
     "name": "stdout",
     "output_type": "stream",
     "text": [
      "Defining theorems for context 'proveit.logic.boolean'\n",
      "Subsequent end-of-cell assignments will define theorems\n",
      "'%end theorems' will finalize the definitions\n"
     ]
    }
   ],
   "source": [
    "%begin theorems"
   ]
  },
  {
   "cell_type": "markdown",
   "metadata": {
    "deletable": true,
    "editable": true
   },
   "source": [
    "### Comparisons between Booleans"
   ]
  },
  {
   "cell_type": "code",
   "execution_count": 3,
   "metadata": {
    "collapsed": false,
    "deletable": true,
    "editable": true,
    "scrolled": true
   },
   "outputs": [
    {
     "data": {
      "text/html": [
       "<strong id=\"trueEqTrue\"><a class=\"ProveItLink\" href=\"_proofs_\\trueEqTrue.ipynb\">trueEqTrue</a>:</strong> <a class=\"ProveItLink\" href=\"__pv_it\\39b7bb11d9285a053f62e0eb2edba7c6180380300\\expr.ipynb\"><img src=\"__pv_it\\39b7bb11d9285a053f62e0eb2edba7c6180380300\\expr.png\" style=\"display:inline;vertical-align:middle;\" /></a><br>"
      ],
      "text/plain": [
       "trueEqTrue: TRUE = TRUE"
      ]
     },
     "execution_count": 3,
     "metadata": {},
     "output_type": "execute_result"
    }
   ],
   "source": [
    "trueEqTrue = Equals(TRUE, TRUE)"
   ]
  },
  {
   "cell_type": "code",
   "execution_count": 4,
   "metadata": {
    "collapsed": false,
    "deletable": true,
    "editable": true
   },
   "outputs": [
    {
     "data": {
      "text/html": [
       "<strong id=\"falseEqFalse\"><a class=\"ProveItLink\" href=\"_proofs_\\falseEqFalse.ipynb\">falseEqFalse</a>:</strong> <a class=\"ProveItLink\" href=\"__pv_it\\8ea916c02b75ccfcfc2b0e367a466f2a5eea21560\\expr.ipynb\"><img src=\"__pv_it\\8ea916c02b75ccfcfc2b0e367a466f2a5eea21560\\expr.png\" style=\"display:inline;vertical-align:middle;\" /></a><br>"
      ],
      "text/plain": [
       "falseEqFalse: FALSE = FALSE"
      ]
     },
     "execution_count": 4,
     "metadata": {},
     "output_type": "execute_result"
    }
   ],
   "source": [
    "falseEqFalse = Equals(FALSE, FALSE)"
   ]
  },
  {
   "cell_type": "code",
   "execution_count": 5,
   "metadata": {
    "collapsed": false,
    "deletable": true,
    "editable": true
   },
   "outputs": [
    {
     "data": {
      "text/html": [
       "<strong id=\"trueNotFalse\"><a class=\"ProveItLink\" href=\"_proofs_\\trueNotFalse.ipynb\">trueNotFalse</a>:</strong> <a class=\"ProveItLink\" href=\"__pv_it\\b021c743ee41463bf5901121b5b091f2d2a9a6ee0\\expr.ipynb\"><img src=\"__pv_it\\b021c743ee41463bf5901121b5b091f2d2a9a6ee0\\expr.png\" style=\"display:inline;vertical-align:middle;\" /></a><br>"
      ],
      "text/plain": [
       "trueNotFalse: TRUE != FALSE"
      ]
     },
     "execution_count": 5,
     "metadata": {},
     "output_type": "execute_result"
    }
   ],
   "source": [
    "trueNotFalse = NotEquals(TRUE, FALSE)"
   ]
  },
  {
   "cell_type": "markdown",
   "metadata": {
    "deletable": true,
    "editable": true
   },
   "source": [
    "### `TRUE` and `FALSE` are in the set of Booleans:"
   ]
  },
  {
   "cell_type": "code",
   "execution_count": 6,
   "metadata": {
    "collapsed": false,
    "deletable": true,
    "editable": true
   },
   "outputs": [
    {
     "data": {
      "text/html": [
       "<strong id=\"trueInBool\"><a class=\"ProveItLink\" href=\"_proofs_\\trueInBool.ipynb\">trueInBool</a>:</strong> <a class=\"ProveItLink\" href=\"__pv_it\\3e7350f116816f72fa422609af12e912bbd1845d0\\expr.ipynb\"><img src=\"__pv_it\\3e7350f116816f72fa422609af12e912bbd1845d0\\expr.png\" style=\"display:inline;vertical-align:middle;\" /></a><br>"
      ],
      "text/plain": [
       "trueInBool: TRUE in BOOLEANS"
      ]
     },
     "execution_count": 6,
     "metadata": {},
     "output_type": "execute_result"
    }
   ],
   "source": [
    "trueInBool = InSet(TRUE, Booleans)"
   ]
  },
  {
   "cell_type": "code",
   "execution_count": 7,
   "metadata": {
    "collapsed": false,
    "deletable": true,
    "editable": true
   },
   "outputs": [
    {
     "data": {
      "text/html": [
       "<strong id=\"falseInBool\"><a class=\"ProveItLink\" href=\"_proofs_\\falseInBool.ipynb\">falseInBool</a>:</strong> <a class=\"ProveItLink\" href=\"__pv_it\\9f85861a2422bfaf1627227c7d0968a483b71e9d0\\expr.ipynb\"><img src=\"__pv_it\\9f85861a2422bfaf1627227c7d0968a483b71e9d0\\expr.png\" style=\"display:inline;vertical-align:middle;\" /></a><br>"
      ],
      "text/plain": [
       "falseInBool: FALSE in BOOLEANS"
      ]
     },
     "execution_count": 7,
     "metadata": {},
     "output_type": "execute_result"
    }
   ],
   "source": [
    "falseInBool = InSet(FALSE, Booleans)"
   ]
  },
  {
   "cell_type": "code",
   "execution_count": 8,
   "metadata": {
    "collapsed": false,
    "deletable": true,
    "editable": true
   },
   "outputs": [
    {
     "data": {
      "text/html": [
       "<strong id=\"inBoolIfTrue\"><a class=\"ProveItLink\" href=\"_proofs_\\inBoolIfTrue.ipynb\">inBoolIfTrue</a>:</strong> <a class=\"ProveItLink\" href=\"__pv_it\\49ce9164c9f40fa208c8b44249516511406fd11e0\\expr.ipynb\"><img src=\"__pv_it\\49ce9164c9f40fa208c8b44249516511406fd11e0\\expr.png\" style=\"display:inline;vertical-align:middle;\" /></a><br>"
      ],
      "text/plain": [
       "inBoolIfTrue: forall_{A | A} (A in BOOLEANS)"
      ]
     },
     "execution_count": 8,
     "metadata": {},
     "output_type": "execute_result"
    }
   ],
   "source": [
    "inBoolIfTrue = Forall(A, inBool(A), conditions=[A])"
   ]
  },
  {
   "cell_type": "code",
   "execution_count": 9,
   "metadata": {
    "collapsed": false,
    "deletable": true,
    "editable": true
   },
   "outputs": [
    {
     "data": {
      "text/html": [
       "<strong id=\"inBoolIfFalse\"><a class=\"ProveItLink\" href=\"_proofs_\\inBoolIfFalse.ipynb\">inBoolIfFalse</a>:</strong> <a class=\"ProveItLink\" href=\"__pv_it\\2a1a5fe690a804e91151801a4e4fb8c4f23149570\\expr.ipynb\"><img src=\"__pv_it\\2a1a5fe690a804e91151801a4e4fb8c4f23149570\\expr.png\" style=\"display:inline;vertical-align:middle;\" /></a><br>"
      ],
      "text/plain": [
       "inBoolIfFalse: forall_{A | [not](A)} (A in BOOLEANS)"
      ]
     },
     "execution_count": 9,
     "metadata": {},
     "output_type": "execute_result"
    }
   ],
   "source": [
    "inBoolIfFalse = Forall(A, inBool(A), conditions=[Not(A)])"
   ]
  },
  {
   "cell_type": "markdown",
   "metadata": {
    "deletable": true,
    "editable": true
   },
   "source": [
    "### Evaluation of $\\forall$ over the Boolean domain"
   ]
  },
  {
   "cell_type": "code",
   "execution_count": 10,
   "metadata": {
    "collapsed": false,
    "deletable": true,
    "editable": true
   },
   "outputs": [
    {
     "data": {
      "text/html": [
       "<strong id=\"forallBoolEvalTrue\"><a class=\"ProveItLink\" href=\"_proofs_\\forallBoolEvalTrue.ipynb\">forallBoolEvalTrue</a>:</strong> <a class=\"ProveItLink\" href=\"__pv_it\\1a2ad2720299bacfa31464ea951924dc1faa72ac0\\expr.ipynb\"><img src=\"__pv_it\\1a2ad2720299bacfa31464ea951924dc1faa72ac0\\expr.png\" style=\"display:inline;vertical-align:middle;\" /></a><br>"
      ],
      "text/plain": [
       "forallBoolEvalTrue: forall_{P} (((P(TRUE) = TRUE) and (P(FALSE) = TRUE)) => ([forall_{A in BOOLEANS} P(A)] = TRUE))"
      ]
     },
     "execution_count": 10,
     "metadata": {},
     "output_type": "execute_result"
    }
   ],
   "source": [
    "forallBoolEvalTrue = Forall(P, Implies(And(Equals(PofTrue, TRUE), Equals(PofFalse, TRUE)), \n",
    "                             Equals(Forall(A, PofA, domain=Booleans), TRUE)))"
   ]
  },
  {
   "cell_type": "markdown",
   "metadata": {
    "deletable": true,
    "editable": true
   },
   "source": [
    "**Various ways for a $\\forall$ expression over the set of Booleans to evaluate to `FALSE`:**"
   ]
  },
  {
   "cell_type": "code",
   "execution_count": 11,
   "metadata": {
    "collapsed": true,
    "deletable": true,
    "editable": true
   },
   "outputs": [],
   "source": [
    "def _forallBoolEvalFalse(PofTrueVal, PofFalseVal):\n",
    "    return Forall(P, Implies(And(Equals(PofTrue, PofTrueVal), Equals(PofFalse, PofFalseVal)), \n",
    "                             Equals(Forall(A, PofA, domain=Booleans), FALSE)))"
   ]
  },
  {
   "cell_type": "code",
   "execution_count": 12,
   "metadata": {
    "collapsed": false,
    "deletable": true,
    "editable": true
   },
   "outputs": [
    {
     "data": {
      "text/html": [
       "<strong id=\"forallBoolEvalFalseViaFF\"><a class=\"ProveItLink\" href=\"_proofs_\\forallBoolEvalFalseViaFF.ipynb\">forallBoolEvalFalseViaFF</a>:</strong> <a class=\"ProveItLink\" href=\"__pv_it\\b9a57363999e3718b30d611a58e876f75c3190a10\\expr.ipynb\"><img src=\"__pv_it\\b9a57363999e3718b30d611a58e876f75c3190a10\\expr.png\" style=\"display:inline;vertical-align:middle;\" /></a><br>"
      ],
      "text/plain": [
       "forallBoolEvalFalseViaFF: forall_{P} (((P(TRUE) = FALSE) and (P(FALSE) = FALSE)) => ([forall_{A in BOOLEANS} P(A)] = FALSE))"
      ]
     },
     "execution_count": 12,
     "metadata": {},
     "output_type": "execute_result"
    }
   ],
   "source": [
    "forallBoolEvalFalseViaFF = _forallBoolEvalFalse(FALSE, FALSE)"
   ]
  },
  {
   "cell_type": "code",
   "execution_count": 13,
   "metadata": {
    "collapsed": false,
    "deletable": true,
    "editable": true
   },
   "outputs": [
    {
     "data": {
      "text/html": [
       "<strong id=\"forallBoolEvalFalseViaFT\"><a class=\"ProveItLink\" href=\"_proofs_\\forallBoolEvalFalseViaFT.ipynb\">forallBoolEvalFalseViaFT</a>:</strong> <a class=\"ProveItLink\" href=\"__pv_it\\9e1b33fe06d91c27c865d50d166817c58b8111fa0\\expr.ipynb\"><img src=\"__pv_it\\9e1b33fe06d91c27c865d50d166817c58b8111fa0\\expr.png\" style=\"display:inline;vertical-align:middle;\" /></a><br>"
      ],
      "text/plain": [
       "forallBoolEvalFalseViaFT: forall_{P} (((P(TRUE) = FALSE) and (P(FALSE) = TRUE)) => ([forall_{A in BOOLEANS} P(A)] = FALSE))"
      ]
     },
     "execution_count": 13,
     "metadata": {},
     "output_type": "execute_result"
    }
   ],
   "source": [
    "forallBoolEvalFalseViaFT = _forallBoolEvalFalse(FALSE, TRUE)"
   ]
  },
  {
   "cell_type": "code",
   "execution_count": 14,
   "metadata": {
    "collapsed": false,
    "deletable": true,
    "editable": true
   },
   "outputs": [
    {
     "data": {
      "text/html": [
       "<strong id=\"forallBoolEvalFalseViaTF\"><a class=\"ProveItLink\" href=\"_proofs_\\forallBoolEvalFalseViaTF.ipynb\">forallBoolEvalFalseViaTF</a>:</strong> <a class=\"ProveItLink\" href=\"__pv_it\\2fc1b51de508da6db6ee9bff1557841530d3a4560\\expr.ipynb\"><img src=\"__pv_it\\2fc1b51de508da6db6ee9bff1557841530d3a4560\\expr.png\" style=\"display:inline;vertical-align:middle;\" /></a><br>"
      ],
      "text/plain": [
       "forallBoolEvalFalseViaTF: forall_{P} (((P(TRUE) = TRUE) and (P(FALSE) = FALSE)) => ([forall_{A in BOOLEANS} P(A)] = FALSE))"
      ]
     },
     "execution_count": 14,
     "metadata": {},
     "output_type": "execute_result"
    }
   ],
   "source": [
    "forallBoolEvalFalseViaTF = _forallBoolEvalFalse(TRUE, FALSE)"
   ]
  },
  {
   "cell_type": "code",
   "execution_count": 15,
   "metadata": {
    "collapsed": false,
    "deletable": true,
    "editable": true
   },
   "outputs": [
    {
     "name": "stdout",
     "output_type": "stream",
     "text": [
      "Modifying theorem forallBoolEvalTrue in proveit.logic.boolean context\n",
      "Modifying theorem forallBoolEvalFalseViaFF in proveit.logic.boolean context\n",
      "Modifying theorem forallBoolEvalFalseViaFT in proveit.logic.boolean context\n",
      "Modifying theorem forallBoolEvalFalseViaTF in proveit.logic.boolean context\n",
      "forallBoolEvalTrue expression notebook is being updated\n",
      "forallBoolEvalFalseViaTF expression notebook is being updated\n",
      "forallBoolEvalFalseViaFT expression notebook is being updated\n",
      "forallBoolEvalFalseViaFF expression notebook is being updated\n",
      "Theorems may be imported from autogenerated _theorems_.py\n"
     ]
    }
   ],
   "source": [
    "%end theorems"
   ]
  },
  {
   "cell_type": "code",
   "execution_count": 16,
   "metadata": {
    "collapsed": true,
    "deletable": true,
    "editable": true
   },
   "outputs": [],
   "source": []
  }
 ],
 "metadata": {
  "kernelspec": {
   "display_name": "Python 2",
   "language": "python",
   "name": "python2"
  },
  "language_info": {
   "codemirror_mode": {
    "name": "ipython",
    "version": 2
   },
   "file_extension": ".py",
   "mimetype": "text/x-python",
   "name": "python",
   "nbconvert_exporter": "python",
   "pygments_lexer": "ipython2",
   "version": "2.7.11"
  }
 },
 "nbformat": 4,
 "nbformat_minor": 0
}
