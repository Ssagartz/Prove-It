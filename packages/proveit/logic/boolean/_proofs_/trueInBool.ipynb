{
 "cells": [
  {
   "cell_type": "markdown",
   "metadata": {
    "collapsed": true,
    "deletable": true,
    "editable": true
   },
   "source": [
    "Proof of <a class=\"ProveItLink\" href=\"..\\..\\..\\_context_.ipynb\">proveit</a>.<a class=\"ProveItLink\" href=\"..\\..\\_context_.ipynb\">logic</a>.<a class=\"ProveItLink\" href=\"..\\_context_.ipynb\">boolean</a>.<a class=\"ProveItLink\" href=\"../_theorems_.ipynb#trueInBool\">trueInBool</a> theorem\n",
    "========"
   ]
  },
  {
   "cell_type": "code",
   "execution_count": 1,
   "metadata": {
    "collapsed": true,
    "deletable": true,
    "editable": true
   },
   "outputs": [],
   "source": [
    "import proveit\n",
    "from proveit._common_ import A\n",
    "from proveit.logic import TRUE, FALSE, Or, Equals\n",
    "from proveit.logic.boolean._theorems_ import foldInBool\n",
    "from proveit.logic.boolean.disjunction._theorems_ import trueOrFalse\n",
    "from proveit.logic.equality._theorems_ import unfoldNotEquals, subLeftSideInto\n",
    "context = proveit.Context('..') # the theorem's context is in the parent directory"
   ]
  },
  {
   "cell_type": "code",
   "execution_count": 2,
   "metadata": {
    "collapsed": false,
    "deletable": true,
    "editable": true
   },
   "outputs": [
    {
     "name": "stdout",
     "output_type": "stream",
     "text": [
      "Beginning proof of trueInBool\n",
      "Recorded 'presuming' information\n",
      "Presuming proveit.logic.boolean.disjunction.trueOrFalse, proveit.logic.equality.subLeftSideInto, proveit.logic.equality.unfoldNotEquals theorem(s).\n",
      "Presuming previous theorems in this context (and any of their dependencies).\n"
     ]
    },
    {
     "data": {
      "text/html": [
       "<strong id=\"trueInBool\">trueInBool:</strong> <a class=\"ProveItLink\" href=\"..\\__pv_it\\3e7350f116816f72fa422609af12e912bbd1845d0\\expr.ipynb\"><img src=\"..\\__pv_it\\3e7350f116816f72fa422609af12e912bbd1845d0\\expr.png\" style=\"display:inline;vertical-align:middle;\" /></a><br>(see <a class=\"ProveItLink\" href=\"..\\__pv_it\\3e7350f116816f72fa422609af12e912bbd1845d0\\dependencies.ipynb\">dependencies</a>)"
      ],
      "text/plain": [
       "trueInBool: TRUE in BOOLEANS"
      ]
     },
     "execution_count": 2,
     "metadata": {},
     "output_type": "execute_result"
    }
   ],
   "source": [
    "%proving trueInBool presuming [trueOrFalse, unfoldNotEquals, subLeftSideInto]"
   ]
  },
  {
   "cell_type": "code",
   "execution_count": 3,
   "metadata": {
    "collapsed": false
   },
   "outputs": [
    {
     "data": {
      "text/html": [
       "<span style=\"font-size:20px;\"> &#x22A2;&nbsp;<a class=\"ProveItLink\" href=\"..\\__pv_it\\b979d3fddb89057d4f0a79714f75e2bc71c0bf560\\expr.ipynb\"><img src=\"..\\__pv_it\\b979d3fddb89057d4f0a79714f75e2bc71c0bf560\\expr.png\" style=\"display:inline;vertical-align:middle;\" /></a></span>"
      ],
      "text/plain": [
       "|= forall_{A | (A = TRUE) or (A = FALSE)} (A in BOOLEANS)"
      ]
     },
     "execution_count": 3,
     "metadata": {},
     "output_type": "execute_result"
    }
   ],
   "source": [
    "foldInBool"
   ]
  },
  {
   "cell_type": "code",
   "execution_count": 4,
   "metadata": {
    "collapsed": false,
    "deletable": true,
    "editable": true
   },
   "outputs": [
    {
     "data": {
      "text/html": [
       "<span style=\"font-size:20px;\"> &#x22A2;&nbsp;<a class=\"ProveItLink\" href=\"..\\disjunction\\__pv_it\\eec5dacd574712698e86760b8b62868c1668cdd80\\expr.ipynb\"><img src=\"..\\disjunction\\__pv_it\\eec5dacd574712698e86760b8b62868c1668cdd80\\expr.png\" style=\"display:inline;vertical-align:middle;\" /></a></span>"
      ],
      "text/plain": [
       "|= TRUE or FALSE"
      ]
     },
     "execution_count": 4,
     "metadata": {},
     "output_type": "execute_result"
    }
   ],
   "source": [
    "trueOrFalse"
   ]
  },
  {
   "cell_type": "code",
   "execution_count": 5,
   "metadata": {
    "collapsed": false,
    "deletable": true,
    "editable": true
   },
   "outputs": [
    {
     "data": {
      "text/html": [
       "<strong id=\"TeqT_eval\">TeqT_eval:</strong> <span style=\"font-size:20px;\"> &#x22A2;&nbsp;<a class=\"ProveItLink\" href=\"..\\__pv_it\\0c5d44311c8662f403d113df2e26e3c504f697990\\expr.ipynb\"><img src=\"..\\__pv_it\\0c5d44311c8662f403d113df2e26e3c504f697990\\expr.png\" style=\"display:inline;vertical-align:middle;\" /></a></span><br>"
      ],
      "text/plain": [
       "TeqT_eval: |= (TRUE = TRUE) = TRUE"
      ]
     },
     "execution_count": 5,
     "metadata": {},
     "output_type": "execute_result"
    }
   ],
   "source": [
    "TeqT_eval = Equals(TRUE, TRUE).evaluation()"
   ]
  },
  {
   "cell_type": "code",
   "execution_count": 6,
   "metadata": {
    "collapsed": false,
    "deletable": true,
    "editable": true
   },
   "outputs": [
    {
     "data": {
      "text/html": [
       "<strong id=\"TeqF_eval\">TeqF_eval:</strong> <span style=\"font-size:20px;\"> &#x22A2;&nbsp;<a class=\"ProveItLink\" href=\"..\\__pv_it\\5907fd36ce68ee2249a7694a531d27bb334248380\\expr.ipynb\"><img src=\"..\\__pv_it\\5907fd36ce68ee2249a7694a531d27bb334248380\\expr.png\" style=\"display:inline;vertical-align:middle;\" /></a></span><br>"
      ],
      "text/plain": [
       "TeqF_eval: |= (TRUE = FALSE) = FALSE"
      ]
     },
     "execution_count": 6,
     "metadata": {},
     "output_type": "execute_result"
    }
   ],
   "source": [
    "TeqF_eval = Equals(TRUE, FALSE).evaluation()"
   ]
  },
  {
   "cell_type": "code",
   "execution_count": 7,
   "metadata": {
    "collapsed": false,
    "deletable": true,
    "editable": true
   },
   "outputs": [
    {
     "data": {
      "text/html": [
       "<strong id=\"TeqT_or_F\">TeqT_or_F:</strong> <span style=\"font-size:20px;\"> &#x22A2;&nbsp;<a class=\"ProveItLink\" href=\"..\\__pv_it\\a59e47fbfa0e1f1334d90b250046cc60f14d35310\\expr.ipynb\"><img src=\"..\\__pv_it\\a59e47fbfa0e1f1334d90b250046cc60f14d35310\\expr.png\" style=\"display:inline;vertical-align:middle;\" /></a></span><br>"
      ],
      "text/plain": [
       "TeqT_or_F: |= (TRUE = TRUE) or FALSE"
      ]
     },
     "execution_count": 7,
     "metadata": {},
     "output_type": "execute_result"
    }
   ],
   "source": [
    "TeqT_or_F = TeqT_eval.subLeftSideInto(trueOrFalse)"
   ]
  },
  {
   "cell_type": "code",
   "execution_count": 8,
   "metadata": {
    "collapsed": false,
    "deletable": true,
    "editable": true
   },
   "outputs": [
    {
     "data": {
      "text/html": [
       "<span style=\"font-size:20px;\"> &#x22A2;&nbsp;<a class=\"ProveItLink\" href=\"..\\__pv_it\\311769ff8de2a297fe40673d08d26ffc9d783ac70\\expr.ipynb\"><img src=\"..\\__pv_it\\311769ff8de2a297fe40673d08d26ffc9d783ac70\\expr.png\" style=\"display:inline;vertical-align:middle;\" /></a></span>"
      ],
      "text/plain": [
       "|= (TRUE = TRUE) or (TRUE = FALSE)"
      ]
     },
     "execution_count": 8,
     "metadata": {},
     "output_type": "execute_result"
    }
   ],
   "source": [
    "TeqF_eval.subLeftSideInto(TeqT_or_F)"
   ]
  },
  {
   "cell_type": "code",
   "execution_count": 9,
   "metadata": {
    "collapsed": false,
    "deletable": true,
    "editable": true
   },
   "outputs": [
    {
     "name": "stdout",
     "output_type": "stream",
     "text": [
      "trueInBool has been proven.  Now simply execute \"%qed\".\n"
     ]
    },
    {
     "data": {
      "text/html": [
       "<span style=\"font-size:20px;\"> &#x22A2;&nbsp;<a class=\"ProveItLink\" href=\"..\\__pv_it\\3e7350f116816f72fa422609af12e912bbd1845d0\\expr.ipynb\"><img src=\"..\\__pv_it\\3e7350f116816f72fa422609af12e912bbd1845d0\\expr.png\" style=\"display:inline;vertical-align:middle;\" /></a></span>"
      ],
      "text/plain": [
       "|= TRUE in BOOLEANS"
      ]
     },
     "execution_count": 9,
     "metadata": {},
     "output_type": "execute_result"
    }
   ],
   "source": [
    "foldInBool.specialize({A:TRUE})"
   ]
  },
  {
   "cell_type": "code",
   "execution_count": 10,
   "metadata": {
    "collapsed": false,
    "deletable": true,
    "editable": true
   },
   "outputs": [
    {
     "data": {
      "text/html": [
       "<table><tr><th>&nbsp;</th><th>step type</th><th>requirements</th><th>statement</th></tr>\n",
       "<tr><td>0</td><td>specialization</td><td>1, 2</td><td><span style=\"font-size:20px;\"> &#x22A2;&nbsp;<a class=\"ProveItLink\" href=\"..\\__pv_it\\3e7350f116816f72fa422609af12e912bbd1845d0\\expr.ipynb\"><img src=\"..\\__pv_it\\3e7350f116816f72fa422609af12e912bbd1845d0\\expr.png\" style=\"display:inline;vertical-align:middle;\" /></a></span></td></tr>\n",
       "<tr><td>&nbsp;</td><td colspan=4 style=\"text-align:left\"><span style=\"font-size:20px;\"><a class=\"ProveItLink\" href=\"..\\__pv_it\\a0eee3b4747572115e4016cd4bed5cf52c4513f60\\expr.ipynb\"><img src=\"..\\__pv_it\\a0eee3b4747572115e4016cd4bed5cf52c4513f60\\expr.png\" style=\"display:inline;vertical-align:middle;\" /></a></span></td></tr><tr><td>1</td><td>theorem</td><td></td><td><span style=\"font-size:20px;\"> &#x22A2;&nbsp;<a class=\"ProveItLink\" href=\"..\\__pv_it\\b979d3fddb89057d4f0a79714f75e2bc71c0bf560\\expr.ipynb\"><img src=\"..\\__pv_it\\b979d3fddb89057d4f0a79714f75e2bc71c0bf560\\expr.png\" style=\"display:inline;vertical-align:middle;\" /></a></span></td></tr>\n",
       "<tr><td>&nbsp;</td><td colspan=4 style-\"text-align:left\"><a class=\"ProveItLink\" href=\"foldInBool.ipynb\">proveit.logic.boolean.foldInBool</a></td></tr><tr><td>2</td><td>specialization</td><td>5, 3, 4</td><td><span style=\"font-size:20px;\"> &#x22A2;&nbsp;<a class=\"ProveItLink\" href=\"..\\__pv_it\\311769ff8de2a297fe40673d08d26ffc9d783ac70\\expr.ipynb\"><img src=\"..\\__pv_it\\311769ff8de2a297fe40673d08d26ffc9d783ac70\\expr.png\" style=\"display:inline;vertical-align:middle;\" /></a></span></td></tr>\n",
       "<tr><td>&nbsp;</td><td colspan=4 style=\"text-align:left\"><span style=\"font-size:20px;\"><a class=\"ProveItLink\" href=\"..\\__pv_it\\8bf7198ed0a5a50562b80195ba0858815c0799a70\\expr.ipynb\"><img src=\"..\\__pv_it\\8bf7198ed0a5a50562b80195ba0858815c0799a70\\expr.png\" style=\"display:inline;vertical-align:middle;\" /></a>, <a class=\"ProveItLink\" href=\"..\\__pv_it\\bbed1388ae86bef6ad10ec4630a4c9f3c96d866c0\\expr.ipynb\"><img src=\"..\\__pv_it\\bbed1388ae86bef6ad10ec4630a4c9f3c96d866c0\\expr.png\" style=\"display:inline;vertical-align:middle;\" /></a>, <a class=\"ProveItLink\" href=\"..\\__pv_it\\1f29680043edde37fa534b29060f3033aee0068c0\\expr.ipynb\"><img src=\"..\\__pv_it\\1f29680043edde37fa534b29060f3033aee0068c0\\expr.png\" style=\"display:inline;vertical-align:middle;\" /></a></span></td></tr><tr><td>3</td><td>specialization</td><td>5, 6, 7</td><td><span style=\"font-size:20px;\"> &#x22A2;&nbsp;<a class=\"ProveItLink\" href=\"..\\__pv_it\\a59e47fbfa0e1f1334d90b250046cc60f14d35310\\expr.ipynb\"><img src=\"..\\__pv_it\\a59e47fbfa0e1f1334d90b250046cc60f14d35310\\expr.png\" style=\"display:inline;vertical-align:middle;\" /></a></span></td></tr>\n",
       "<tr><td>&nbsp;</td><td colspan=4 style=\"text-align:left\"><span style=\"font-size:20px;\"><a class=\"ProveItLink\" href=\"..\\__pv_it\\d8bc4bb97b6354d210c3a53a87b844d95dd134b10\\expr.ipynb\"><img src=\"..\\__pv_it\\d8bc4bb97b6354d210c3a53a87b844d95dd134b10\\expr.png\" style=\"display:inline;vertical-align:middle;\" /></a>, <a class=\"ProveItLink\" href=\"..\\__pv_it\\8050daaf9f3924ef3f19a84ba6c3a7d9ae4614570\\expr.ipynb\"><img src=\"..\\__pv_it\\8050daaf9f3924ef3f19a84ba6c3a7d9ae4614570\\expr.png\" style=\"display:inline;vertical-align:middle;\" /></a>, <a class=\"ProveItLink\" href=\"..\\__pv_it\\648691e44fa38b8ddad42674e3d4f23fad66ae920\\expr.ipynb\"><img src=\"..\\__pv_it\\648691e44fa38b8ddad42674e3d4f23fad66ae920\\expr.png\" style=\"display:inline;vertical-align:middle;\" /></a></span></td></tr><tr><td>4</td><td>specialization</td><td>8, 9</td><td><span style=\"font-size:20px;\"> &#x22A2;&nbsp;<a class=\"ProveItLink\" href=\"..\\__pv_it\\5907fd36ce68ee2249a7694a531d27bb334248380\\expr.ipynb\"><img src=\"..\\__pv_it\\5907fd36ce68ee2249a7694a531d27bb334248380\\expr.png\" style=\"display:inline;vertical-align:middle;\" /></a></span></td></tr>\n",
       "<tr><td>&nbsp;</td><td colspan=4 style=\"text-align:left\"><span style=\"font-size:20px;\"><a class=\"ProveItLink\" href=\"..\\__pv_it\\30cc05418592228200270d1b4286e8c92b8e35fc0\\expr.ipynb\"><img src=\"..\\__pv_it\\30cc05418592228200270d1b4286e8c92b8e35fc0\\expr.png\" style=\"display:inline;vertical-align:middle;\" /></a></span></td></tr><tr><td>5</td><td>theorem</td><td></td><td><span style=\"font-size:20px;\"> &#x22A2;&nbsp;<a class=\"ProveItLink\" href=\"..\\..\\equality\\__pv_it\\6425c7b64708730992bfb72314f6aeaa5dc1d76c0\\expr.ipynb\"><img src=\"..\\..\\equality\\__pv_it\\6425c7b64708730992bfb72314f6aeaa5dc1d76c0\\expr.png\" style=\"display:inline;vertical-align:middle;\" /></a></span></td></tr>\n",
       "<tr><td>&nbsp;</td><td colspan=4 style-\"text-align:left\"><a class=\"ProveItLink\" href=\"..\\..\\equality\\_proofs_\\subLeftSideInto.ipynb\">proveit.logic.equality.subLeftSideInto</a></td></tr><tr><td>6</td><td>theorem</td><td></td><td><span style=\"font-size:20px;\"> &#x22A2;&nbsp;<a class=\"ProveItLink\" href=\"..\\disjunction\\__pv_it\\eec5dacd574712698e86760b8b62868c1668cdd80\\expr.ipynb\"><img src=\"..\\disjunction\\__pv_it\\eec5dacd574712698e86760b8b62868c1668cdd80\\expr.png\" style=\"display:inline;vertical-align:middle;\" /></a></span></td></tr>\n",
       "<tr><td>&nbsp;</td><td colspan=4 style-\"text-align:left\"><a class=\"ProveItLink\" href=\"..\\disjunction\\_proofs_\\trueOrFalse.ipynb\">proveit.logic.boolean.disjunction.trueOrFalse</a></td></tr><tr><td>7</td><td>specialization</td><td>10, 11</td><td><span style=\"font-size:20px;\"> &#x22A2;&nbsp;<a class=\"ProveItLink\" href=\"..\\__pv_it\\0c5d44311c8662f403d113df2e26e3c504f697990\\expr.ipynb\"><img src=\"..\\__pv_it\\0c5d44311c8662f403d113df2e26e3c504f697990\\expr.png\" style=\"display:inline;vertical-align:middle;\" /></a></span></td></tr>\n",
       "<tr><td>&nbsp;</td><td colspan=4 style=\"text-align:left\"><span style=\"font-size:20px;\"><a class=\"ProveItLink\" href=\"..\\__pv_it\\ec489428a418d87645dd2c3da7e3dc28270119e40\\expr.ipynb\"><img src=\"..\\__pv_it\\ec489428a418d87645dd2c3da7e3dc28270119e40\\expr.png\" style=\"display:inline;vertical-align:middle;\" /></a></span></td></tr><tr><td>8</td><td>axiom</td><td></td><td><span style=\"font-size:20px;\"> &#x22A2;&nbsp;<a class=\"ProveItLink\" href=\"..\\negation\\__pv_it\\4b5dd3f037f440d68a8f1e360a14677af00fd6dd0\\expr.ipynb\"><img src=\"..\\negation\\__pv_it\\4b5dd3f037f440d68a8f1e360a14677af00fd6dd0\\expr.png\" style=\"display:inline;vertical-align:middle;\" /></a></span></td></tr>\n",
       "<tr><td>&nbsp;</td><td colspan=4 style-\"text-align:left\"><a class=\"ProveItLink\" href=\"..\\negation\\_axioms_.ipynb#negationElim\">proveit.logic.boolean.negation.negationElim</a></td></tr><tr><td>9</td><td>specialization</td><td>12, 13</td><td><span style=\"font-size:20px;\"> &#x22A2;&nbsp;<a class=\"ProveItLink\" href=\"..\\__pv_it\\37fb4ed9c5ef0fb16a5113a92d7f31d90f8defe10\\expr.ipynb\"><img src=\"..\\__pv_it\\37fb4ed9c5ef0fb16a5113a92d7f31d90f8defe10\\expr.png\" style=\"display:inline;vertical-align:middle;\" /></a></span></td></tr>\n",
       "<tr><td>&nbsp;</td><td colspan=4 style=\"text-align:left\"><span style=\"font-size:20px;\"><a class=\"ProveItLink\" href=\"..\\__pv_it\\87bd96d40d057d3566cc481e08bcac05025e33fc0\\expr.ipynb\"><img src=\"..\\__pv_it\\87bd96d40d057d3566cc481e08bcac05025e33fc0\\expr.png\" style=\"display:inline;vertical-align:middle;\" /></a>, <a class=\"ProveItLink\" href=\"..\\__pv_it\\1f29680043edde37fa534b29060f3033aee0068c0\\expr.ipynb\"><img src=\"..\\__pv_it\\1f29680043edde37fa534b29060f3033aee0068c0\\expr.png\" style=\"display:inline;vertical-align:middle;\" /></a></span></td></tr><tr><td>10</td><td>axiom</td><td></td><td><span style=\"font-size:20px;\"> &#x22A2;&nbsp;<a class=\"ProveItLink\" href=\"..\\__pv_it\\17736e5847b2b74f86dc8cccbef45d3aeb8a06e80\\expr.ipynb\"><img src=\"..\\__pv_it\\17736e5847b2b74f86dc8cccbef45d3aeb8a06e80\\expr.png\" style=\"display:inline;vertical-align:middle;\" /></a></span></td></tr>\n",
       "<tr><td>&nbsp;</td><td colspan=4 style-\"text-align:left\"><a class=\"ProveItLink\" href=\"..\\_axioms_.ipynb#eqTrueIntro\">proveit.logic.boolean.eqTrueIntro</a></td></tr><tr><td>11</td><td>theorem</td><td></td><td><span style=\"font-size:20px;\"> &#x22A2;&nbsp;<a class=\"ProveItLink\" href=\"..\\__pv_it\\39b7bb11d9285a053f62e0eb2edba7c6180380300\\expr.ipynb\"><img src=\"..\\__pv_it\\39b7bb11d9285a053f62e0eb2edba7c6180380300\\expr.png\" style=\"display:inline;vertical-align:middle;\" /></a></span></td></tr>\n",
       "<tr><td>&nbsp;</td><td colspan=4 style-\"text-align:left\"><a class=\"ProveItLink\" href=\"trueEqTrue.ipynb\">proveit.logic.boolean.trueEqTrue</a></td></tr><tr><td>12</td><td>theorem</td><td></td><td><span style=\"font-size:20px;\"> &#x22A2;&nbsp;<a class=\"ProveItLink\" href=\"..\\..\\equality\\__pv_it\\f9d207e192d579db6f280d162f39b8df3d44c2310\\expr.ipynb\"><img src=\"..\\..\\equality\\__pv_it\\f9d207e192d579db6f280d162f39b8df3d44c2310\\expr.png\" style=\"display:inline;vertical-align:middle;\" /></a></span></td></tr>\n",
       "<tr><td>&nbsp;</td><td colspan=4 style-\"text-align:left\"><a class=\"ProveItLink\" href=\"..\\..\\equality\\_proofs_\\unfoldNotEquals.ipynb\">proveit.logic.equality.unfoldNotEquals</a></td></tr><tr><td>13</td><td>theorem</td><td></td><td><span style=\"font-size:20px;\"> &#x22A2;&nbsp;<a class=\"ProveItLink\" href=\"..\\__pv_it\\b021c743ee41463bf5901121b5b091f2d2a9a6ee0\\expr.ipynb\"><img src=\"..\\__pv_it\\b021c743ee41463bf5901121b5b091f2d2a9a6ee0\\expr.png\" style=\"display:inline;vertical-align:middle;\" /></a></span></td></tr>\n",
       "<tr><td>&nbsp;</td><td colspan=4 style-\"text-align:left\"><a class=\"ProveItLink\" href=\"trueNotFalse.ipynb\">proveit.logic.boolean.trueNotFalse</a></td></tr>"
      ],
      "text/plain": [
       "<proveit._core_.proof.Specialization instance at 0x0000000008EDE448>"
      ]
     },
     "execution_count": 10,
     "metadata": {},
     "output_type": "execute_result"
    }
   ],
   "source": [
    "%qed"
   ]
  },
  {
   "cell_type": "code",
   "execution_count": 11,
   "metadata": {
    "collapsed": true,
    "deletable": true,
    "editable": true
   },
   "outputs": [],
   "source": []
  }
 ],
 "metadata": {
  "kernelspec": {
   "display_name": "Python 2",
   "language": "python",
   "name": "python2"
  },
  "language_info": {
   "codemirror_mode": {
    "name": "ipython",
    "version": 2
   },
   "file_extension": ".py",
   "mimetype": "text/x-python",
   "name": "python",
   "nbconvert_exporter": "python",
   "pygments_lexer": "ipython2",
   "version": "2.7.11"
  }
 },
 "nbformat": 4,
 "nbformat_minor": 0
}
