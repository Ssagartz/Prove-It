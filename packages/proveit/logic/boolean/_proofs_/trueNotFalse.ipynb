{
 "cells": [
  {
   "cell_type": "markdown",
   "metadata": {
    "collapsed": true,
    "deletable": true,
    "editable": true
   },
   "source": [
    "Proof of <a class=\"ProveItLink\" href=\"..\\..\\..\\_context_.ipynb\">proveit</a>.<a class=\"ProveItLink\" href=\"..\\..\\_context_.ipynb\">logic</a>.<a class=\"ProveItLink\" href=\"..\\_context_.ipynb\">boolean</a>.<a href=\"../_theorems_.ipynb#trueNotFalse\" class=\"ProveItLink\">trueNotFalse</a> theorem\n",
    "========\n",
    "*** see <a href=\"../__pv_it/3d6e20fbb367d28360d30e8b1a57ae06ede3aa820/dependencies.ipynb\" class=\"ProveItLink\">dependencies</a> ***"
   ]
  },
  {
   "cell_type": "code",
   "execution_count": 1,
   "metadata": {
    "collapsed": false,
    "deletable": true,
    "editable": true
   },
   "outputs": [
    {
     "name": "stdout",
     "output_type": "stream",
     "text": [
      "Recorded 'presuming' information\n",
      "trueNotFalse has been proven.  Now simply execute \"%qed\".\n",
      "Beginning proof of\n"
     ]
    },
    {
     "data": {
      "text/html": [
       "<strong id=\"trueNotFalse\">trueNotFalse:</strong> <a href=\"..\\__pv_it\\3d6e20fbb367d28360d30e8b1a57ae06ede3aa820\\expr.ipynb\" target=\"_blank\"><img src=\"..\\__pv_it\\3d6e20fbb367d28360d30e8b1a57ae06ede3aa820\\expr.png\" style=\"display:inline;vertical-align:middle;\" /></a><br>(see <a class=\"ProveItLink\" href=\"..\\__pv_it\\3d6e20fbb367d28360d30e8b1a57ae06ede3aa820\\dependencies.ipynb\" target=\"_blank\">dependencies</a>)"
      ],
      "text/plain": [
       "trueNotFalse: TRUE != FALSE"
      ]
     },
     "execution_count": 1,
     "metadata": {},
     "output_type": "execute_result"
    }
   ],
   "source": [
    "from proveit.logic.boolean._axioms_ import falseNotTrue\n",
    "%begin_proof trueNotFalse presuming [proveit.logic.equality.notEqualsSymmetry]"
   ]
  },
  {
   "cell_type": "code",
   "execution_count": 2,
   "metadata": {
    "collapsed": false,
    "deletable": true,
    "editable": true
   },
   "outputs": [
    {
     "name": "stdout",
     "output_type": "stream",
     "text": [
      "proveit.logic.boolean.trueNotFalse has a proof\n"
     ]
    },
    {
     "data": {
      "text/html": [
       "<table><tr><th>&nbsp;</th><th>step type</th><th>requirements</th><th>statement</th></tr>\n",
       "<tr><td>0</td><td>specialization</td><td>1, 2</td><td><span style=\"font-size:20px;\"> &#x22A2;&nbsp;<a href=\"..\\__pv_it\\3d6e20fbb367d28360d30e8b1a57ae06ede3aa820\\expr.ipynb\" target=\"_blank\"><img src=\"..\\__pv_it\\3d6e20fbb367d28360d30e8b1a57ae06ede3aa820\\expr.png\" style=\"display:inline;vertical-align:middle;\" /></a></span></td></tr>\n",
       "<tr><td>&nbsp;</td><td colspan=4 style=\"text-align:left\"><span style=\"font-size:20px;\"><a href=\"..\\__pv_it\\8f4e2ae93a9cafb47fe069e0e23e2eaecedbb0f00\\expr.ipynb\" target=\"_blank\"><img src=\"..\\__pv_it\\8f4e2ae93a9cafb47fe069e0e23e2eaecedbb0f00\\expr.png\" style=\"display:inline;vertical-align:middle;\" /></a>, <a href=\"..\\__pv_it\\3cc8315e4c0129c0831a4743725a70557a9071370\\expr.ipynb\" target=\"_blank\"><img src=\"..\\__pv_it\\3cc8315e4c0129c0831a4743725a70557a9071370\\expr.png\" style=\"display:inline;vertical-align:middle;\" /></a></span></td></tr><tr><td>1</td><td>theorem</td><td></td><td><span style=\"font-size:20px;\"> &#x22A2;&nbsp;<a href=\"..\\..\\equality\\__pv_it\\eba0b18a26ea26292c4dc216c0e851d64b283cd20\\expr.ipynb\" target=\"_blank\"><img src=\"..\\..\\equality\\__pv_it\\eba0b18a26ea26292c4dc216c0e851d64b283cd20\\expr.png\" style=\"display:inline;vertical-align:middle;\" /></a></span></td></tr>\n",
       "<tr><td>&nbsp;</td><td colspan=4 style-\"text-align:left\"><a href=\"..\\..\\equality\\_proofs_\\notEqualsSymmetry.ipynb\" target=\"_blank\">proveit.logic.equality.notEqualsSymmetry</a></td></tr><tr><td>2</td><td>axiom</td><td></td><td><span style=\"font-size:20px;\"> &#x22A2;&nbsp;<a href=\"..\\__pv_it\\a47eededa9cd5f7287a2b669923af4fea46d13eb0\\expr.ipynb\" target=\"_blank\"><img src=\"..\\__pv_it\\a47eededa9cd5f7287a2b669923af4fea46d13eb0\\expr.png\" style=\"display:inline;vertical-align:middle;\" /></a></span></td></tr>\n",
       "<tr><td>&nbsp;</td><td colspan=4 style-\"text-align:left\"><a href=\"..\\_axioms_.ipynb#falseNotTrue\" target=\"_blank\">proveit.logic.boolean.falseNotTrue</a></td></tr>"
      ],
      "text/plain": [
       "<proveit._core_.proof.Specialization instance at 0x00000000064F51C8>"
      ]
     },
     "execution_count": 2,
     "metadata": {},
     "output_type": "execute_result"
    }
   ],
   "source": [
    "%qed"
   ]
  },
  {
   "cell_type": "code",
   "execution_count": 2,
   "metadata": {
    "collapsed": false,
    "deletable": true,
    "editable": true
   },
   "outputs": [
    {
     "data": {
      "text/plain": [
       "5"
      ]
     },
     "execution_count": 2,
     "metadata": {},
     "output_type": "execute_result"
    }
   ],
   "source": [
    "c=5\n",
    "c"
   ]
  }
 ],
 "metadata": {
  "kernelspec": {
   "display_name": "Python 2",
   "language": "python",
   "name": "python2"
  },
  "language_info": {
   "codemirror_mode": {
    "name": "ipython",
    "version": 2
   },
   "file_extension": ".py",
   "mimetype": "text/x-python",
   "name": "python",
   "nbconvert_exporter": "python",
   "pygments_lexer": "ipython2",
   "version": "2.7.11"
  }
 },
 "nbformat": 4,
 "nbformat_minor": 0
}
