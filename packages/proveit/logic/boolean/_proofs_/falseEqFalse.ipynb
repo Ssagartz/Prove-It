{
 "cells": [
  {
   "cell_type": "markdown",
   "metadata": {
    "collapsed": true,
    "deletable": true,
    "editable": true
   },
   "source": [
    "Proof of <a class=\"ProveItLink\" href=\"..\\..\\..\\_context_.ipynb\">proveit</a>.<a class=\"ProveItLink\" href=\"..\\..\\_context_.ipynb\">logic</a>.<a class=\"ProveItLink\" href=\"..\\_context_.ipynb\">boolean</a>.<a href=\"../_theorems_.ipynb#falseEqFalse\" class=\"ProveItLink\">falseEqFalse</a> theorem\n",
    "========\n",
    "*** see <a href=\"../__pv_it/e50d19beb01c50dfd4faa406229959d192ebe0940/dependencies.ipynb\" class=\"ProveItLink\">dependencies</a> ***"
   ]
  },
  {
   "cell_type": "code",
   "execution_count": 1,
   "metadata": {
    "collapsed": false,
    "deletable": true,
    "editable": true
   },
   "outputs": [
    {
     "name": "stdout",
     "output_type": "stream",
     "text": [
      "Recorded 'presuming' information\n",
      "Presuming previous theorems in this context (and any of their dependencies).\n",
      "Beginning proof of\n"
     ]
    },
    {
     "data": {
      "text/html": [
       "<strong id=\"falseEqFalse\">falseEqFalse:</strong> <a href=\"..\\__pv_it\\e50d19beb01c50dfd4faa406229959d192ebe0940\\expr.ipynb\" target=\"_blank\"><img src=\"..\\__pv_it\\e50d19beb01c50dfd4faa406229959d192ebe0940\\expr.png\" style=\"display:inline;vertical-align:middle;\" /></a><br>(see <a class=\"ProveItLink\" href=\"..\\__pv_it\\e50d19beb01c50dfd4faa406229959d192ebe0940\\dependencies.ipynb\" target=\"_blank\">dependencies</a>)"
      ],
      "text/plain": [
       "falseEqFalse: FALSE = FALSE"
      ]
     },
     "execution_count": 1,
     "metadata": {},
     "output_type": "execute_result"
    }
   ],
   "source": [
    "import proveit\n",
    "%begin_proof falseEqFalse presuming []"
   ]
  },
  {
   "cell_type": "code",
   "execution_count": 2,
   "metadata": {
    "collapsed": false,
    "deletable": true,
    "editable": true
   },
   "outputs": [
    {
     "data": {
      "text/html": [
       "<table><tr><th>&nbsp;</th><th>step type</th><th>requirements</th><th>statement</th></tr>\n",
       "<tr><td>0</td><td>specialization</td><td>1</td><td><span style=\"font-size:20px;\"> &#x22A2;&nbsp;<a href=\"..\\__pv_it\\e50d19beb01c50dfd4faa406229959d192ebe0940\\expr.ipynb\" target=\"_blank\"><img src=\"..\\__pv_it\\e50d19beb01c50dfd4faa406229959d192ebe0940\\expr.png\" style=\"display:inline;vertical-align:middle;\" /></a></span></td></tr>\n",
       "<tr><td>&nbsp;</td><td colspan=4 style=\"text-align:left\"><span style=\"font-size:20px;\"><a href=\"..\\__pv_it\\8f4e2ae93a9cafb47fe069e0e23e2eaecedbb0f00\\expr.ipynb\" target=\"_blank\"><img src=\"..\\__pv_it\\8f4e2ae93a9cafb47fe069e0e23e2eaecedbb0f00\\expr.png\" style=\"display:inline;vertical-align:middle;\" /></a></span></td></tr><tr><td>1</td><td>axiom</td><td></td><td><span style=\"font-size:20px;\"> &#x22A2;&nbsp;<a href=\"..\\..\\equality\\__pv_it\\e8ab2bd55e5bf868fc504a81374f6605cba561110\\expr.ipynb\" target=\"_blank\"><img src=\"..\\..\\equality\\__pv_it\\e8ab2bd55e5bf868fc504a81374f6605cba561110\\expr.png\" style=\"display:inline;vertical-align:middle;\" /></a></span></td></tr>\n",
       "<tr><td>&nbsp;</td><td colspan=4 style-\"text-align:left\"><a href=\"..\\..\\equality\\_axioms_.ipynb#equalsReflexivity\" target=\"_blank\">proveit.logic.equality.equalsReflexivity</a></td></tr>"
      ],
      "text/plain": [
       "<proveit._core_.proof.Specialization instance at 0x000000000642A408>"
      ]
     },
     "execution_count": 2,
     "metadata": {},
     "output_type": "execute_result"
    }
   ],
   "source": [
    "%qed"
   ]
  },
  {
   "cell_type": "code",
   "execution_count": 3,
   "metadata": {
    "collapsed": true,
    "deletable": true,
    "editable": true
   },
   "outputs": [],
   "source": []
  }
 ],
 "metadata": {
  "kernelspec": {
   "display_name": "Python 2",
   "language": "python",
   "name": "python2"
  },
  "language_info": {
   "codemirror_mode": {
    "name": "ipython",
    "version": 2
   },
   "file_extension": ".py",
   "mimetype": "text/x-python",
   "name": "python",
   "nbconvert_exporter": "python",
   "pygments_lexer": "ipython2",
   "version": "2.7.11"
  }
 },
 "nbformat": 4,
 "nbformat_minor": 0
}
