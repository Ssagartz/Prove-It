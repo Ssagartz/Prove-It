{
 "cells": [
  {
   "cell_type": "markdown",
   "metadata": {
    "collapsed": true,
    "deletable": true,
    "editable": true
   },
   "source": [
    "Proof of <a class=\"ProveItLink\" href=\"..\\..\\..\\_context_.ipynb\">proveit</a>.<a class=\"ProveItLink\" href=\"..\\..\\_context_.ipynb\">logic</a>.<a class=\"ProveItLink\" href=\"..\\_context_.ipynb\">boolean</a>.<a class=\"ProveItLink\" href=\"../_theorems_.ipynb#falseEqFalse\">falseEqFalse</a> theorem\n",
    "========"
   ]
  },
  {
   "cell_type": "code",
   "execution_count": 1,
   "metadata": {
    "collapsed": true,
    "deletable": true,
    "editable": true
   },
   "outputs": [],
   "source": [
    "import proveit\n",
    "context = proveit.Context('..') # the theorem's context is in the parent directory"
   ]
  },
  {
   "cell_type": "code",
   "execution_count": 2,
   "metadata": {
    "collapsed": false,
    "deletable": true,
    "editable": true
   },
   "outputs": [
    {
     "name": "stdout",
     "output_type": "stream",
     "text": [
      "Beginning proof of falseEqFalse\n",
      "Recorded 'presuming' information\n",
      "Presuming previous theorems in this context (and any of their dependencies).\n"
     ]
    },
    {
     "data": {
      "text/html": [
       "<strong id=\"falseEqFalse\">falseEqFalse:</strong> <a class=\"ProveItLink\" href=\"..\\__pv_it\\8ea916c02b75ccfcfc2b0e367a466f2a5eea21560\\expr.ipynb\"><img src=\"..\\__pv_it\\8ea916c02b75ccfcfc2b0e367a466f2a5eea21560\\expr.png\" style=\"display:inline;vertical-align:middle;\" /></a><br>(see <a class=\"ProveItLink\" href=\"..\\__pv_it\\8ea916c02b75ccfcfc2b0e367a466f2a5eea21560\\dependencies.ipynb\">dependencies</a>)"
      ],
      "text/plain": [
       "falseEqFalse: FALSE = FALSE"
      ]
     },
     "execution_count": 2,
     "metadata": {},
     "output_type": "execute_result"
    }
   ],
   "source": [
    "%proving falseEqFalse presuming []"
   ]
  },
  {
   "cell_type": "code",
   "execution_count": 3,
   "metadata": {
    "collapsed": false,
    "deletable": true,
    "editable": true
   },
   "outputs": [
    {
     "data": {
      "text/html": [
       "<table><tr><th>&nbsp;</th><th>step type</th><th>requirements</th><th>statement</th></tr>\n",
       "<tr><td>0</td><td>specialization</td><td>1</td><td><span style=\"font-size:20px;\"> &#x22A2;&nbsp;<a class=\"ProveItLink\" href=\"..\\__pv_it\\8ea916c02b75ccfcfc2b0e367a466f2a5eea21560\\expr.ipynb\"><img src=\"..\\__pv_it\\8ea916c02b75ccfcfc2b0e367a466f2a5eea21560\\expr.png\" style=\"display:inline;vertical-align:middle;\" /></a></span></td></tr>\n",
       "<tr><td>&nbsp;</td><td colspan=4 style=\"text-align:left\"><span style=\"font-size:20px;\"><a class=\"ProveItLink\" href=\"..\\__pv_it\\9e0642f2c27e6a6011da46b2354db6f67f0815d70\\expr.ipynb\"><img src=\"..\\__pv_it\\9e0642f2c27e6a6011da46b2354db6f67f0815d70\\expr.png\" style=\"display:inline;vertical-align:middle;\" /></a></span></td></tr><tr><td>1</td><td>axiom</td><td></td><td><span style=\"font-size:20px;\"> &#x22A2;&nbsp;<a class=\"ProveItLink\" href=\"..\\..\\equality\\__pv_it\\da44a048a87c47a01f4f018a99bcec7897478c730\\expr.ipynb\"><img src=\"..\\..\\equality\\__pv_it\\da44a048a87c47a01f4f018a99bcec7897478c730\\expr.png\" style=\"display:inline;vertical-align:middle;\" /></a></span></td></tr>\n",
       "<tr><td>&nbsp;</td><td colspan=4 style-\"text-align:left\"><a class=\"ProveItLink\" href=\"..\\..\\equality\\_axioms_.ipynb#equalsReflexivity\">proveit.logic.equality.equalsReflexivity</a></td></tr>"
      ],
      "text/plain": [
       "<proveit._core_.proof.Specialization instance at 0x00000000089A65C8>"
      ]
     },
     "execution_count": 3,
     "metadata": {},
     "output_type": "execute_result"
    }
   ],
   "source": [
    "%qed # automatically proven via Equals.concludeViaReflexivity"
   ]
  },
  {
   "cell_type": "code",
   "execution_count": null,
   "metadata": {
    "collapsed": true
   },
   "outputs": [],
   "source": []
  }
 ],
 "metadata": {
  "kernelspec": {
   "display_name": "Python 2",
   "language": "python",
   "name": "python2"
  },
  "language_info": {
   "codemirror_mode": {
    "name": "ipython",
    "version": 2
   },
   "file_extension": ".py",
   "mimetype": "text/x-python",
   "name": "python",
   "nbconvert_exporter": "python",
   "pygments_lexer": "ipython2",
   "version": "2.7.13"
  }
 },
 "nbformat": 4,
 "nbformat_minor": 0
}
