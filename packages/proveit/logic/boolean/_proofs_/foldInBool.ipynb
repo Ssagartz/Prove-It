{
 "cells": [
  {
   "cell_type": "markdown",
   "metadata": {
    "collapsed": true,
    "deletable": true,
    "editable": true
   },
   "source": [
    "Proof of <a class=\"ProveItLink\" href=\"..\\..\\..\\_context_.ipynb\">proveit</a>.<a class=\"ProveItLink\" href=\"..\\..\\_context_.ipynb\">logic</a>.<a class=\"ProveItLink\" href=\"..\\_context_.ipynb\">boolean</a>.<a class=\"ProveItLink\" href=\"../_theorems_.ipynb#foldInBool\">foldInBool</a> theorem\n",
    "========"
   ]
  },
  {
   "cell_type": "code",
   "execution_count": 1,
   "metadata": {
    "collapsed": false,
    "deletable": true,
    "editable": true
   },
   "outputs": [],
   "source": [
    "import proveit\n",
    "from proveit import defaults\n",
    "from proveit._common_ import A\n",
    "from proveit.logic import InSet\n",
    "from proveit.logic.boolean._axioms_ import boolsDef\n",
    "context = proveit.Context('..') # the theorem's context is in the parent directory"
   ]
  },
  {
   "cell_type": "code",
   "execution_count": 2,
   "metadata": {
    "collapsed": false,
    "deletable": true,
    "editable": true
   },
   "outputs": [
    {
     "name": "stdout",
     "output_type": "stream",
     "text": [
      "Beginning proof of foldInBool\n",
      "Recorded 'presuming' information\n"
     ]
    },
    {
     "name": "stdout",
     "output_type": "stream",
     "text": [
      "Presuming proveit.logic.equality.subLeftSideInto, proveit.logic.set_theory.enumeration.fold, proveit.number.numeral.decimal.add_1_1, proveit.number.numeral.decimal.nat2 theorem(s).\n",
      "Presuming previous theorems in this context (and any of their dependencies).\n"
     ]
    },
    {
     "data": {
      "text/html": [
       "<strong id=\"foldInBool\">foldInBool:</strong> <a class=\"ProveItLink\" href=\"..\\__pv_it\\b979d3fddb89057d4f0a79714f75e2bc71c0bf560\\expr.ipynb\"><img src=\"..\\__pv_it\\b979d3fddb89057d4f0a79714f75e2bc71c0bf560\\expr.png\" style=\"display:inline;vertical-align:middle;\" /></a><br>(see <a class=\"ProveItLink\" href=\"..\\__pv_it\\b979d3fddb89057d4f0a79714f75e2bc71c0bf560\\dependencies.ipynb\">dependencies</a>)"
      ],
      "text/plain": [
       "foldInBool: forall_{A | (A = TRUE) or (A = FALSE)} (A in BOOLEANS)"
      ]
     },
     "execution_count": 2,
     "metadata": {},
     "output_type": "execute_result"
    }
   ],
   "source": [
    "%proving foldInBool presuming [proveit.logic.set_theory.enumeration.fold, proveit.logic.equality.subLeftSideInto, proveit.number.numeral.decimal.nat2, proveit.number.numeral.decimal.add_1_1]"
   ]
  },
  {
   "cell_type": "code",
   "execution_count": 3,
   "metadata": {
    "collapsed": false,
    "deletable": true,
    "editable": true
   },
   "outputs": [
    {
     "data": {
      "text/html": [
       "<strong id=\"defaults.assumptions\">defaults.assumptions:</strong> <a class=\"ProveItLink\" href=\"..\\__pv_it\\5b6b7647554bfae52312afd1009cd2d6993a13bc0\\expr.ipynb\"><img src=\"..\\__pv_it\\5b6b7647554bfae52312afd1009cd2d6993a13bc0\\expr.png\" style=\"display:inline;vertical-align:middle;\" /></a><br>"
      ],
      "text/plain": [
       "defaults.assumptions: ((A = TRUE) or (A = FALSE))"
      ]
     },
     "execution_count": 3,
     "metadata": {},
     "output_type": "execute_result"
    }
   ],
   "source": [
    "defaults.assumptions = foldInBool.conditions"
   ]
  },
  {
   "cell_type": "code",
   "execution_count": 4,
   "metadata": {
    "collapsed": false,
    "deletable": true,
    "editable": true
   },
   "outputs": [
    {
     "data": {
      "text/html": [
       "<span style=\"font-size:20px;\"> &#x22A2;&nbsp;<a class=\"ProveItLink\" href=\"..\\__pv_it\\aa5390c906b6d4813c3789ada2f606bc3134f1390\\expr.ipynb\"><img src=\"..\\__pv_it\\aa5390c906b6d4813c3789ada2f606bc3134f1390\\expr.png\" style=\"display:inline;vertical-align:middle;\" /></a></span>"
      ],
      "text/plain": [
       "|= BOOLEANS = {(TRUE , FALSE)}"
      ]
     },
     "execution_count": 4,
     "metadata": {},
     "output_type": "execute_result"
    }
   ],
   "source": [
    "boolsDef"
   ]
  },
  {
   "cell_type": "code",
   "execution_count": 5,
   "metadata": {
    "collapsed": false,
    "deletable": true,
    "editable": true,
    "scrolled": true
   },
   "outputs": [
    {
     "data": {
      "text/html": [
       "<strong id=\"A_in_TorF\">A_in_TorF:</strong> <span style=\"font-size:20px;\"><a class=\"ProveItLink\" href=\"..\\__pv_it\\a8293cfc9686cd646ab5854f39f6181bef0b95db0\\expr.ipynb\"><img src=\"..\\__pv_it\\a8293cfc9686cd646ab5854f39f6181bef0b95db0\\expr.png\" style=\"display:inline;vertical-align:middle;\" /></a> &#x22A2;&nbsp;<a class=\"ProveItLink\" href=\"..\\__pv_it\\8dec59ef3f1f1868f096955eadd8c8ee657c93490\\expr.ipynb\"><img src=\"..\\__pv_it\\8dec59ef3f1f1868f096955eadd8c8ee657c93490\\expr.png\" style=\"display:inline;vertical-align:middle;\" /></a></span><br>"
      ],
      "text/plain": [
       "A_in_TorF: {(A = TRUE) or (A = FALSE)} |= A in {(TRUE , FALSE)}"
      ]
     },
     "execution_count": 5,
     "metadata": {},
     "output_type": "execute_result"
    }
   ],
   "source": [
    "A_in_TorF = InSet(A, boolsDef.rhs).prove()"
   ]
  },
  {
   "cell_type": "code",
   "execution_count": 6,
   "metadata": {
    "collapsed": false,
    "deletable": true,
    "editable": true
   },
   "outputs": [
    {
     "data": {
      "text/html": [
       "<span style=\"font-size:20px;\"><a class=\"ProveItLink\" href=\"..\\__pv_it\\a8293cfc9686cd646ab5854f39f6181bef0b95db0\\expr.ipynb\"><img src=\"..\\__pv_it\\a8293cfc9686cd646ab5854f39f6181bef0b95db0\\expr.png\" style=\"display:inline;vertical-align:middle;\" /></a> &#x22A2;&nbsp;<a class=\"ProveItLink\" href=\"..\\__pv_it\\7837821d5a6b48e91a78e6fc66f6982c08b02a650\\expr.ipynb\"><img src=\"..\\__pv_it\\7837821d5a6b48e91a78e6fc66f6982c08b02a650\\expr.png\" style=\"display:inline;vertical-align:middle;\" /></a></span>"
      ],
      "text/plain": [
       "{(A = TRUE) or (A = FALSE)} |= A in BOOLEANS"
      ]
     },
     "execution_count": 6,
     "metadata": {},
     "output_type": "execute_result"
    }
   ],
   "source": [
    "boolsDef.subLeftSideInto(A_in_TorF)"
   ]
  },
  {
   "cell_type": "code",
   "execution_count": 7,
   "metadata": {
    "collapsed": false,
    "deletable": true,
    "editable": true
   },
   "outputs": [
    {
     "data": {
      "text/html": [
       "<table><tr><th>&nbsp;</th><th>step type</th><th>requirements</th><th>statement</th></tr>\n",
       "<tr><td>0</td><td>generalizaton</td><td>1</td><td><span style=\"font-size:20px;\"> &#x22A2;&nbsp;<a class=\"ProveItLink\" href=\"..\\__pv_it\\b979d3fddb89057d4f0a79714f75e2bc71c0bf560\\expr.ipynb\"><img src=\"..\\__pv_it\\b979d3fddb89057d4f0a79714f75e2bc71c0bf560\\expr.png\" style=\"display:inline;vertical-align:middle;\" /></a></span></td></tr>\n",
       "<tr><td>1</td><td>specialization</td><td>2, 3, 4</td><td><span style=\"font-size:20px;\"><a class=\"ProveItLink\" href=\"..\\__pv_it\\a8293cfc9686cd646ab5854f39f6181bef0b95db0\\expr.ipynb\"><img src=\"..\\__pv_it\\a8293cfc9686cd646ab5854f39f6181bef0b95db0\\expr.png\" style=\"display:inline;vertical-align:middle;\" /></a> &#x22A2;&nbsp;<a class=\"ProveItLink\" href=\"..\\__pv_it\\7837821d5a6b48e91a78e6fc66f6982c08b02a650\\expr.ipynb\"><img src=\"..\\__pv_it\\7837821d5a6b48e91a78e6fc66f6982c08b02a650\\expr.png\" style=\"display:inline;vertical-align:middle;\" /></a></span></td></tr>\n",
       "<tr><td>&nbsp;</td><td colspan=4 style=\"text-align:left\"><span style=\"font-size:20px;\"><a class=\"ProveItLink\" href=\"..\\__pv_it\\e999db5f685f494a4ef903ddc06f6e0cf1472b830\\expr.ipynb\"><img src=\"..\\__pv_it\\e999db5f685f494a4ef903ddc06f6e0cf1472b830\\expr.png\" style=\"display:inline;vertical-align:middle;\" /></a>, <a class=\"ProveItLink\" href=\"..\\__pv_it\\dc06f901ae16ad8fe1fb35e2ee2e531acff76d2a0\\expr.ipynb\"><img src=\"..\\__pv_it\\dc06f901ae16ad8fe1fb35e2ee2e531acff76d2a0\\expr.png\" style=\"display:inline;vertical-align:middle;\" /></a>, <a class=\"ProveItLink\" href=\"..\\__pv_it\\ad5c6ab9365be6e42cee3f7f87da9359a8b694920\\expr.ipynb\"><img src=\"..\\__pv_it\\ad5c6ab9365be6e42cee3f7f87da9359a8b694920\\expr.png\" style=\"display:inline;vertical-align:middle;\" /></a></span></td></tr><tr><td>2</td><td>theorem</td><td></td><td><span style=\"font-size:20px;\"> &#x22A2;&nbsp;<a class=\"ProveItLink\" href=\"..\\..\\equality\\__pv_it\\6425c7b64708730992bfb72314f6aeaa5dc1d76c0\\expr.ipynb\"><img src=\"..\\..\\equality\\__pv_it\\6425c7b64708730992bfb72314f6aeaa5dc1d76c0\\expr.png\" style=\"display:inline;vertical-align:middle;\" /></a></span></td></tr>\n",
       "<tr><td>&nbsp;</td><td colspan=4 style-\"text-align:left\"><a class=\"ProveItLink\" href=\"..\\..\\equality\\_proofs_\\subLeftSideInto.ipynb\">proveit.logic.equality.subLeftSideInto</a></td></tr><tr><td>3</td><td>specialization</td><td>5, 6, 7, 8</td><td><span style=\"font-size:20px;\"><a class=\"ProveItLink\" href=\"..\\__pv_it\\a8293cfc9686cd646ab5854f39f6181bef0b95db0\\expr.ipynb\"><img src=\"..\\__pv_it\\a8293cfc9686cd646ab5854f39f6181bef0b95db0\\expr.png\" style=\"display:inline;vertical-align:middle;\" /></a> &#x22A2;&nbsp;<a class=\"ProveItLink\" href=\"..\\__pv_it\\8dec59ef3f1f1868f096955eadd8c8ee657c93490\\expr.ipynb\"><img src=\"..\\__pv_it\\8dec59ef3f1f1868f096955eadd8c8ee657c93490\\expr.png\" style=\"display:inline;vertical-align:middle;\" /></a></span></td></tr>\n",
       "<tr><td>&nbsp;</td><td colspan=4 style=\"text-align:left\"><span style=\"font-size:20px;\"><a class=\"ProveItLink\" href=\"..\\__pv_it\\8187c439eea71ef242b28511a1cb072d70a265460\\expr.ipynb\"><img src=\"..\\__pv_it\\8187c439eea71ef242b28511a1cb072d70a265460\\expr.png\" style=\"display:inline;vertical-align:middle;\" /></a>, <a class=\"ProveItLink\" href=\"..\\__pv_it\\f9860b97878d3cf712e1bc1512a4c69553dbc5db0\\expr.ipynb\"><img src=\"..\\__pv_it\\f9860b97878d3cf712e1bc1512a4c69553dbc5db0\\expr.png\" style=\"display:inline;vertical-align:middle;\" /></a></span></td></tr><tr><td>4</td><td>axiom</td><td></td><td><span style=\"font-size:20px;\"> &#x22A2;&nbsp;<a class=\"ProveItLink\" href=\"..\\__pv_it\\aa5390c906b6d4813c3789ada2f606bc3134f1390\\expr.ipynb\"><img src=\"..\\__pv_it\\aa5390c906b6d4813c3789ada2f606bc3134f1390\\expr.png\" style=\"display:inline;vertical-align:middle;\" /></a></span></td></tr>\n",
       "<tr><td>&nbsp;</td><td colspan=4 style-\"text-align:left\"><a class=\"ProveItLink\" href=\"..\\_axioms_.ipynb#boolsDef\">proveit.logic.boolean.boolsDef</a></td></tr><tr><td>5</td><td>theorem</td><td></td><td><span style=\"font-size:20px;\"> &#x22A2;&nbsp;<a class=\"ProveItLink\" href=\"..\\..\\set_theory\\enumeration\\__pv_it\\5a0e91502e70d0bc98270bc531ff52da7e4c58730\\expr.ipynb\"><img src=\"..\\..\\set_theory\\enumeration\\__pv_it\\5a0e91502e70d0bc98270bc531ff52da7e4c58730\\expr.png\" style=\"display:inline;vertical-align:middle;\" /></a></span></td></tr>\n",
       "<tr><td>&nbsp;</td><td colspan=4 style-\"text-align:left\"><a class=\"ProveItLink\" href=\"..\\..\\set_theory\\enumeration\\_proofs_\\fold.ipynb\">proveit.logic.set_theory.enumeration.fold</a></td></tr><tr><td>6</td><td>theorem</td><td></td><td><span style=\"font-size:20px;\"> &#x22A2;&nbsp;<a class=\"ProveItLink\" href=\"..\\..\\..\\number\\numeral\\decimal\\__pv_it\\286f0443dba55bdb259c90cef1db0ca273fac95e0\\expr.ipynb\"><img src=\"..\\..\\..\\number\\numeral\\decimal\\__pv_it\\286f0443dba55bdb259c90cef1db0ca273fac95e0\\expr.png\" style=\"display:inline;vertical-align:middle;\" /></a></span></td></tr>\n",
       "<tr><td>&nbsp;</td><td colspan=4 style-\"text-align:left\"><a class=\"ProveItLink\" href=\"..\\..\\..\\number\\numeral\\decimal\\_proofs_\\nat2.ipynb\">proveit.number.numeral.decimal.nat2</a></td></tr><tr><td>7</td><td>assumption</td><td></td><td><span style=\"font-size:20px;\"><a class=\"ProveItLink\" href=\"..\\__pv_it\\a8293cfc9686cd646ab5854f39f6181bef0b95db0\\expr.ipynb\"><img src=\"..\\__pv_it\\a8293cfc9686cd646ab5854f39f6181bef0b95db0\\expr.png\" style=\"display:inline;vertical-align:middle;\" /></a> &#x22A2;&nbsp;<a class=\"ProveItLink\" href=\"..\\__pv_it\\1c6a94bc3b8eaae2e256f029ad0abda795dee51e0\\expr.ipynb\"><img src=\"..\\__pv_it\\1c6a94bc3b8eaae2e256f029ad0abda795dee51e0\\expr.png\" style=\"display:inline;vertical-align:middle;\" /></a></span></td></tr>\n",
       "<tr><td>8</td><td>theorem</td><td></td><td><span style=\"font-size:20px;\"> &#x22A2;&nbsp;<a class=\"ProveItLink\" href=\"..\\..\\..\\number\\numeral\\decimal\\__pv_it\\c5d3f2ba07647aec518bec1929b16561d1a340400\\expr.ipynb\"><img src=\"..\\..\\..\\number\\numeral\\decimal\\__pv_it\\c5d3f2ba07647aec518bec1929b16561d1a340400\\expr.png\" style=\"display:inline;vertical-align:middle;\" /></a></span></td></tr>\n",
       "<tr><td>&nbsp;</td><td colspan=4 style-\"text-align:left\"><a class=\"ProveItLink\" href=\"..\\..\\..\\number\\numeral\\decimal\\_proofs_\\add_1_1.ipynb\">proveit.number.numeral.decimal.add_1_1</a></td></tr>"
      ],
      "text/plain": [
       "<proveit._core_.proof.Generalization instance at 0x0000000009C97F48>"
      ]
     },
     "execution_count": 7,
     "metadata": {},
     "output_type": "execute_result"
    }
   ],
   "source": [
    "%qed"
   ]
  },
  {
   "cell_type": "code",
   "execution_count": 8,
   "metadata": {
    "collapsed": true
   },
   "outputs": [],
   "source": []
  }
 ],
 "metadata": {
  "kernelspec": {
   "display_name": "Python 2",
   "language": "python",
   "name": "python2"
  },
  "language_info": {
   "codemirror_mode": {
    "name": "ipython",
    "version": 2
   },
   "file_extension": ".py",
   "mimetype": "text/x-python",
   "name": "python",
   "nbconvert_exporter": "python",
   "pygments_lexer": "ipython2",
   "version": "2.7.11"
  }
 },
 "nbformat": 4,
 "nbformat_minor": 0
}
