{
 "cells": [
  {
   "cell_type": "markdown",
   "metadata": {
    "collapsed": true,
    "deletable": true,
    "editable": true
   },
   "source": [
    "Proof of <a class=\"ProveItLink\" href=\"..\\..\\..\\_context_.ipynb\">proveit</a>.<a class=\"ProveItLink\" href=\"..\\..\\_context_.ipynb\">logic</a>.<a class=\"ProveItLink\" href=\"..\\_context_.ipynb\">boolean</a>.<a class=\"ProveItLink\" href=\"../_theorems_.ipynb#unfoldInBool\">unfoldInBool</a> theorem\n",
    "========"
   ]
  },
  {
   "cell_type": "code",
   "execution_count": 1,
   "metadata": {
    "collapsed": true,
    "deletable": true,
    "editable": true
   },
   "outputs": [],
   "source": [
    "import proveit\n",
    "from proveit import defaults\n",
    "from proveit.logic.boolean._theorems_ import unfoldInBoolExplicit\n",
    "from proveit.logic.boolean.negation._theorems_ import closure\n",
    "negClosure = closure\n",
    "from proveit.logic.boolean.disjunction._theorems_ import constructiveDilemma\n",
    "context = proveit.Context('..') # the theorem's context is in the parent directory"
   ]
  },
  {
   "cell_type": "code",
   "execution_count": 2,
   "metadata": {
    "collapsed": false,
    "deletable": true,
    "editable": true
   },
   "outputs": [
    {
     "name": "stdout",
     "output_type": "stream",
     "text": [
      "Beginning proof of unfoldInBool\n",
      "Recorded 'presuming' information\n",
      "Presuming proveit.logic.boolean.conjunction.andIfBoth, proveit.logic.boolean.disjunction.constructiveDilemma, proveit.logic.boolean.disjunction.falseOrTrue, proveit.logic.boolean.disjunction.trueOrFalse, proveit.logic.boolean.falseInBool, proveit.logic.boolean.foldForallOverBool, proveit.logic.boolean.negation.closure, proveit.logic.boolean.trueInBool, proveit.logic.equality.subLeftSideInto, proveit.logic.equality.unfoldNotEquals theorem(s).\n",
      "Presuming previous theorems in this context (and any of their dependencies).\n"
     ]
    },
    {
     "data": {
      "text/html": [
       "<strong id=\"unfoldInBool\">unfoldInBool:</strong> <a class=\"ProveItLink\" href=\"..\\__pv_it\\4fb5bc72bb793d3fe0bbf07e51b7bad308e903a40\\expr.ipynb\"><img src=\"..\\__pv_it\\4fb5bc72bb793d3fe0bbf07e51b7bad308e903a40\\expr.png\" style=\"display:inline;vertical-align:middle;\" /></a><br>(see <a class=\"ProveItLink\" href=\"..\\__pv_it\\4fb5bc72bb793d3fe0bbf07e51b7bad308e903a40\\dependencies.ipynb\">dependencies</a>)"
      ],
      "text/plain": [
       "unfoldInBool: forall_{A in BOOLEANS} (A or [not](A))"
      ]
     },
     "execution_count": 2,
     "metadata": {},
     "output_type": "execute_result"
    }
   ],
   "source": [
    "%proving unfoldInBool presuming [negClosure, constructiveDilemma]"
   ]
  },
  {
   "cell_type": "code",
   "execution_count": 3,
   "metadata": {
    "collapsed": false
   },
   "outputs": [
    {
     "data": {
      "text/html": [
       "<strong id=\"defaults.assumptions\">defaults.assumptions:</strong> <a class=\"ProveItLink\" href=\"..\\__pv_it\\e3dccca28d4aa81eddfb38c9a8ab6b6bbe722b9e0\\expr.ipynb\"><img src=\"..\\__pv_it\\e3dccca28d4aa81eddfb38c9a8ab6b6bbe722b9e0\\expr.png\" style=\"display:inline;vertical-align:middle;\" /></a><br>"
      ],
      "text/plain": [
       "defaults.assumptions: (A in BOOLEANS)"
      ]
     },
     "execution_count": 3,
     "metadata": {},
     "output_type": "execute_result"
    }
   ],
   "source": [
    "defaults.assumptions = unfoldInBool.conditions"
   ]
  },
  {
   "cell_type": "code",
   "execution_count": 4,
   "metadata": {
    "collapsed": false,
    "deletable": true,
    "editable": true
   },
   "outputs": [
    {
     "data": {
      "text/html": [
       "<span style=\"font-size:20px;\"> &#x22A2;&nbsp;<a class=\"ProveItLink\" href=\"..\\__pv_it\\1979d13edd9c0543cc94aa76a589e0cb6645ed2a0\\expr.ipynb\"><img src=\"..\\__pv_it\\1979d13edd9c0543cc94aa76a589e0cb6645ed2a0\\expr.png\" style=\"display:inline;vertical-align:middle;\" /></a></span>"
      ],
      "text/plain": [
       "|= forall_{A in BOOLEANS} ((A = TRUE) or (A = FALSE))"
      ]
     },
     "execution_count": 4,
     "metadata": {},
     "output_type": "execute_result"
    }
   ],
   "source": [
    "unfoldInBoolExplicit"
   ]
  },
  {
   "cell_type": "code",
   "execution_count": 5,
   "metadata": {
    "collapsed": false
   },
   "outputs": [
    {
     "data": {
      "text/html": [
       "<strong id=\"explicitForm\">explicitForm:</strong> <span style=\"font-size:20px;\"><a class=\"ProveItLink\" href=\"..\\__pv_it\\a54570eacc2cdfc354a22076eb1ab1c1fc77fd870\\expr.ipynb\"><img src=\"..\\__pv_it\\a54570eacc2cdfc354a22076eb1ab1c1fc77fd870\\expr.png\" style=\"display:inline;vertical-align:middle;\" /></a> &#x22A2;&nbsp;<a class=\"ProveItLink\" href=\"..\\__pv_it\\1c6a94bc3b8eaae2e256f029ad0abda795dee51e0\\expr.ipynb\"><img src=\"..\\__pv_it\\1c6a94bc3b8eaae2e256f029ad0abda795dee51e0\\expr.png\" style=\"display:inline;vertical-align:middle;\" /></a></span><br>"
      ],
      "text/plain": [
       "explicitForm: {A in BOOLEANS} |= (A = TRUE) or (A = FALSE)"
      ]
     },
     "execution_count": 5,
     "metadata": {},
     "output_type": "execute_result"
    }
   ],
   "source": [
    "explicitForm = unfoldInBoolExplicit.specialize()"
   ]
  },
  {
   "cell_type": "code",
   "execution_count": 6,
   "metadata": {
    "collapsed": false
   },
   "outputs": [
    {
     "data": {
      "text/html": [
       "<span style=\"font-size:20px;\"><a class=\"ProveItLink\" href=\"..\\__pv_it\\a54570eacc2cdfc354a22076eb1ab1c1fc77fd870\\expr.ipynb\"><img src=\"..\\__pv_it\\a54570eacc2cdfc354a22076eb1ab1c1fc77fd870\\expr.png\" style=\"display:inline;vertical-align:middle;\" /></a> &#x22A2;&nbsp;<a class=\"ProveItLink\" href=\"..\\__pv_it\\5e0f1fecc33243e3f89e2f824cc9ebed175239310\\expr.ipynb\"><img src=\"..\\__pv_it\\5e0f1fecc33243e3f89e2f824cc9ebed175239310\\expr.png\" style=\"display:inline;vertical-align:middle;\" /></a></span>"
      ],
      "text/plain": [
       "{A in BOOLEANS} |= A or [not](A)"
      ]
     },
     "execution_count": 6,
     "metadata": {},
     "output_type": "execute_result"
    }
   ],
   "source": [
    "explicitForm.deriveViaDilemma(unfoldInBool.instanceExpr)"
   ]
  },
  {
   "cell_type": "code",
   "execution_count": 7,
   "metadata": {
    "collapsed": false
   },
   "outputs": [
    {
     "data": {
      "text/html": [
       "<table><tr><th>&nbsp;</th><th>step type</th><th>requirements</th><th>statement</th></tr>\n",
       "<tr><td>0</td><td>generalizaton</td><td>1</td><td><span style=\"font-size:20px;\"> &#x22A2;&nbsp;<a class=\"ProveItLink\" href=\"..\\__pv_it\\4fb5bc72bb793d3fe0bbf07e51b7bad308e903a40\\expr.ipynb\"><img src=\"..\\__pv_it\\4fb5bc72bb793d3fe0bbf07e51b7bad308e903a40\\expr.png\" style=\"display:inline;vertical-align:middle;\" /></a></span></td></tr>\n",
       "<tr><td>1</td><td>specialization</td><td>2, 3, 4, 12, 5, 6, 7, 8</td><td><span style=\"font-size:20px;\"><a class=\"ProveItLink\" href=\"..\\__pv_it\\a54570eacc2cdfc354a22076eb1ab1c1fc77fd870\\expr.ipynb\"><img src=\"..\\__pv_it\\a54570eacc2cdfc354a22076eb1ab1c1fc77fd870\\expr.png\" style=\"display:inline;vertical-align:middle;\" /></a> &#x22A2;&nbsp;<a class=\"ProveItLink\" href=\"..\\__pv_it\\5e0f1fecc33243e3f89e2f824cc9ebed175239310\\expr.ipynb\"><img src=\"..\\__pv_it\\5e0f1fecc33243e3f89e2f824cc9ebed175239310\\expr.png\" style=\"display:inline;vertical-align:middle;\" /></a></span></td></tr>\n",
       "<tr><td>&nbsp;</td><td colspan=4 style=\"text-align:left\"><span style=\"font-size:20px;\"><a class=\"ProveItLink\" href=\"..\\__pv_it\\5edaa2129fb21f93e6e3f7f7d997d708ccb837940\\expr.ipynb\"><img src=\"..\\__pv_it\\5edaa2129fb21f93e6e3f7f7d997d708ccb837940\\expr.png\" style=\"display:inline;vertical-align:middle;\" /></a>, <a class=\"ProveItLink\" href=\"..\\__pv_it\\6058240a63ff1f7689e6fb00aefdb4efacc2f23d0\\expr.ipynb\"><img src=\"..\\__pv_it\\6058240a63ff1f7689e6fb00aefdb4efacc2f23d0\\expr.png\" style=\"display:inline;vertical-align:middle;\" /></a>, <a class=\"ProveItLink\" href=\"..\\__pv_it\\6a81274f1b8cda90d5b5b4974f08e6f75811d6ea0\\expr.ipynb\"><img src=\"..\\__pv_it\\6a81274f1b8cda90d5b5b4974f08e6f75811d6ea0\\expr.png\" style=\"display:inline;vertical-align:middle;\" /></a>, <a class=\"ProveItLink\" href=\"..\\__pv_it\\8ef882d90a56e35fd2b7bb2819e0812fed5f56640\\expr.ipynb\"><img src=\"..\\__pv_it\\8ef882d90a56e35fd2b7bb2819e0812fed5f56640\\expr.png\" style=\"display:inline;vertical-align:middle;\" /></a></span></td></tr><tr><td>2</td><td>theorem</td><td></td><td><span style=\"font-size:20px;\"> &#x22A2;&nbsp;<a class=\"ProveItLink\" href=\"..\\disjunction\\__pv_it\\9a082ebbf13415ad7005d8649b68a4c58660aa360\\expr.ipynb\"><img src=\"..\\disjunction\\__pv_it\\9a082ebbf13415ad7005d8649b68a4c58660aa360\\expr.png\" style=\"display:inline;vertical-align:middle;\" /></a></span></td></tr>\n",
       "<tr><td>&nbsp;</td><td colspan=4 style-\"text-align:left\"><a class=\"ProveItLink\" href=\"..\\disjunction\\_proofs_\\constructiveDilemma.ipynb\">proveit.logic.boolean.disjunction.constructiveDilemma</a></td></tr><tr><td>3</td><td>specialization</td><td>9</td><td><span style=\"font-size:20px;\"> &#x22A2;&nbsp;<a class=\"ProveItLink\" href=\"..\\__pv_it\\5ca53fe37cfb7ea87b7d26b5ecf99bf0b67fb0a40\\expr.ipynb\"><img src=\"..\\__pv_it\\5ca53fe37cfb7ea87b7d26b5ecf99bf0b67fb0a40\\expr.png\" style=\"display:inline;vertical-align:middle;\" /></a></span></td></tr>\n",
       "<tr><td>&nbsp;</td><td colspan=4 style=\"text-align:left\"><span style=\"font-size:20px;\"><a class=\"ProveItLink\" href=\"..\\__pv_it\\bfef4cd0d5e2ee0a3aac3754860b97676a70f27b0\\expr.ipynb\"><img src=\"..\\__pv_it\\bfef4cd0d5e2ee0a3aac3754860b97676a70f27b0\\expr.png\" style=\"display:inline;vertical-align:middle;\" /></a>, <a class=\"ProveItLink\" href=\"..\\__pv_it\\648691e44fa38b8ddad42674e3d4f23fad66ae920\\expr.ipynb\"><img src=\"..\\__pv_it\\648691e44fa38b8ddad42674e3d4f23fad66ae920\\expr.png\" style=\"display:inline;vertical-align:middle;\" /></a></span></td></tr><tr><td>4</td><td>specialization</td><td>9</td><td><span style=\"font-size:20px;\"> &#x22A2;&nbsp;<a class=\"ProveItLink\" href=\"..\\__pv_it\\09cb06ded97cbf2ae8e1775da02f1688a100142d0\\expr.ipynb\"><img src=\"..\\__pv_it\\09cb06ded97cbf2ae8e1775da02f1688a100142d0\\expr.png\" style=\"display:inline;vertical-align:middle;\" /></a></span></td></tr>\n",
       "<tr><td>&nbsp;</td><td colspan=4 style=\"text-align:left\"><span style=\"font-size:20px;\"><a class=\"ProveItLink\" href=\"..\\__pv_it\\bfef4cd0d5e2ee0a3aac3754860b97676a70f27b0\\expr.ipynb\"><img src=\"..\\__pv_it\\bfef4cd0d5e2ee0a3aac3754860b97676a70f27b0\\expr.png\" style=\"display:inline;vertical-align:middle;\" /></a>, <a class=\"ProveItLink\" href=\"..\\__pv_it\\1f29680043edde37fa534b29060f3033aee0068c0\\expr.ipynb\"><img src=\"..\\__pv_it\\1f29680043edde37fa534b29060f3033aee0068c0\\expr.png\" style=\"display:inline;vertical-align:middle;\" /></a></span></td></tr><tr><td>5</td><td>specialization</td><td>10, 12</td><td><span style=\"font-size:20px;\"><a class=\"ProveItLink\" href=\"..\\__pv_it\\a54570eacc2cdfc354a22076eb1ab1c1fc77fd870\\expr.ipynb\"><img src=\"..\\__pv_it\\a54570eacc2cdfc354a22076eb1ab1c1fc77fd870\\expr.png\" style=\"display:inline;vertical-align:middle;\" /></a> &#x22A2;&nbsp;<a class=\"ProveItLink\" href=\"..\\__pv_it\\d6a86d88df256144550e1447bc2740af10be4b810\\expr.ipynb\"><img src=\"..\\__pv_it\\d6a86d88df256144550e1447bc2740af10be4b810\\expr.png\" style=\"display:inline;vertical-align:middle;\" /></a></span></td></tr>\n",
       "<tr><td>&nbsp;</td><td colspan=4 style=\"text-align:left\"><span style=\"font-size:20px;\"><a class=\"ProveItLink\" href=\"..\\__pv_it\\5758c3a6b8b1a61d059f14908f0186a1d5ae540a0\\expr.ipynb\"><img src=\"..\\__pv_it\\5758c3a6b8b1a61d059f14908f0186a1d5ae540a0\\expr.png\" style=\"display:inline;vertical-align:middle;\" /></a></span></td></tr><tr><td>6</td><td>specialization</td><td>11, 12</td><td><span style=\"font-size:20px;\"><a class=\"ProveItLink\" href=\"..\\__pv_it\\a54570eacc2cdfc354a22076eb1ab1c1fc77fd870\\expr.ipynb\"><img src=\"..\\__pv_it\\a54570eacc2cdfc354a22076eb1ab1c1fc77fd870\\expr.png\" style=\"display:inline;vertical-align:middle;\" /></a> &#x22A2;&nbsp;<a class=\"ProveItLink\" href=\"..\\__pv_it\\1c6a94bc3b8eaae2e256f029ad0abda795dee51e0\\expr.ipynb\"><img src=\"..\\__pv_it\\1c6a94bc3b8eaae2e256f029ad0abda795dee51e0\\expr.png\" style=\"display:inline;vertical-align:middle;\" /></a></span></td></tr>\n",
       "<tr><td>&nbsp;</td><td colspan=4 style=\"text-align:left\"><span style=\"font-size:20px;\"><a class=\"ProveItLink\" href=\"..\\__pv_it\\5758c3a6b8b1a61d059f14908f0186a1d5ae540a0\\expr.ipynb\"><img src=\"..\\__pv_it\\5758c3a6b8b1a61d059f14908f0186a1d5ae540a0\\expr.png\" style=\"display:inline;vertical-align:middle;\" /></a></span></td></tr><tr><td>7</td><td>hypothetical reasoning</td><td>13</td><td><span style=\"font-size:20px;\"> &#x22A2;&nbsp;<a class=\"ProveItLink\" href=\"..\\__pv_it\\b87b5eda8346ede61ae3ac7279837b3e3d314d390\\expr.ipynb\"><img src=\"..\\__pv_it\\b87b5eda8346ede61ae3ac7279837b3e3d314d390\\expr.png\" style=\"display:inline;vertical-align:middle;\" /></a></span></td></tr>\n",
       "<tr><td>8</td><td>hypothetical reasoning</td><td>14</td><td><span style=\"font-size:20px;\"> &#x22A2;&nbsp;<a class=\"ProveItLink\" href=\"..\\__pv_it\\7bc5bb1c4722d31d84ce94c5bca0834451ba32430\\expr.ipynb\"><img src=\"..\\__pv_it\\7bc5bb1c4722d31d84ce94c5bca0834451ba32430\\expr.png\" style=\"display:inline;vertical-align:middle;\" /></a></span></td></tr>\n",
       "<tr><td>9</td><td>axiom</td><td></td><td><span style=\"font-size:20px;\"> &#x22A2;&nbsp;<a class=\"ProveItLink\" href=\"..\\..\\equality\\__pv_it\\a04e4c493415fee9a159e247b4d0f6cb828828ce0\\expr.ipynb\"><img src=\"..\\..\\equality\\__pv_it\\a04e4c493415fee9a159e247b4d0f6cb828828ce0\\expr.png\" style=\"display:inline;vertical-align:middle;\" /></a></span></td></tr>\n",
       "<tr><td>&nbsp;</td><td colspan=4 style-\"text-align:left\"><a class=\"ProveItLink\" href=\"..\\..\\equality\\_axioms_.ipynb#equalityInBool\">proveit.logic.equality.equalityInBool</a></td></tr><tr><td>10</td><td>theorem</td><td></td><td><span style=\"font-size:20px;\"> &#x22A2;&nbsp;<a class=\"ProveItLink\" href=\"..\\negation\\__pv_it\\2bf039a75462a829870dcf59b07f81bfb03962800\\expr.ipynb\"><img src=\"..\\negation\\__pv_it\\2bf039a75462a829870dcf59b07f81bfb03962800\\expr.png\" style=\"display:inline;vertical-align:middle;\" /></a></span></td></tr>\n",
       "<tr><td>&nbsp;</td><td colspan=4 style-\"text-align:left\"><a class=\"ProveItLink\" href=\"..\\negation\\_proofs_\\closure.ipynb\">proveit.logic.boolean.negation.closure</a></td></tr><tr><td>11</td><td>theorem</td><td></td><td><span style=\"font-size:20px;\"> &#x22A2;&nbsp;<a class=\"ProveItLink\" href=\"..\\__pv_it\\1979d13edd9c0543cc94aa76a589e0cb6645ed2a0\\expr.ipynb\"><img src=\"..\\__pv_it\\1979d13edd9c0543cc94aa76a589e0cb6645ed2a0\\expr.png\" style=\"display:inline;vertical-align:middle;\" /></a></span></td></tr>\n",
       "<tr><td>&nbsp;</td><td colspan=4 style-\"text-align:left\"><a class=\"ProveItLink\" href=\"unfoldInBoolExplicit.ipynb\">proveit.logic.boolean.unfoldInBoolExplicit</a></td></tr><tr><td>12</td><td>assumption</td><td></td><td><span style=\"font-size:20px;\"><a class=\"ProveItLink\" href=\"..\\__pv_it\\a54570eacc2cdfc354a22076eb1ab1c1fc77fd870\\expr.ipynb\"><img src=\"..\\__pv_it\\a54570eacc2cdfc354a22076eb1ab1c1fc77fd870\\expr.png\" style=\"display:inline;vertical-align:middle;\" /></a> &#x22A2;&nbsp;<a class=\"ProveItLink\" href=\"..\\__pv_it\\7837821d5a6b48e91a78e6fc66f6982c08b02a650\\expr.ipynb\"><img src=\"..\\__pv_it\\7837821d5a6b48e91a78e6fc66f6982c08b02a650\\expr.png\" style=\"display:inline;vertical-align:middle;\" /></a></span></td></tr>\n",
       "<tr><td>13</td><td>specialization</td><td>15, 16</td><td><span style=\"font-size:20px;\"><a class=\"ProveItLink\" href=\"..\\__pv_it\\b1adb8bbd9fdec361bc7afbc91534bd7d285e4100\\expr.ipynb\"><img src=\"..\\__pv_it\\b1adb8bbd9fdec361bc7afbc91534bd7d285e4100\\expr.png\" style=\"display:inline;vertical-align:middle;\" /></a> &#x22A2;&nbsp;<a class=\"ProveItLink\" href=\"..\\..\\..\\__pv_it\\2cbe72a7ad6f655694dd697106680215e8489b600\\expr.ipynb\"><img src=\"..\\..\\..\\__pv_it\\2cbe72a7ad6f655694dd697106680215e8489b600\\expr.png\" style=\"display:inline;vertical-align:middle;\" /></a></span></td></tr>\n",
       "<tr><td>&nbsp;</td><td colspan=4 style=\"text-align:left\"><span style=\"font-size:20px;\"><a class=\"ProveItLink\" href=\"..\\__pv_it\\5758c3a6b8b1a61d059f14908f0186a1d5ae540a0\\expr.ipynb\"><img src=\"..\\__pv_it\\5758c3a6b8b1a61d059f14908f0186a1d5ae540a0\\expr.png\" style=\"display:inline;vertical-align:middle;\" /></a></span></td></tr><tr><td>14</td><td>specialization</td><td>17, 18</td><td><span style=\"font-size:20px;\"><a class=\"ProveItLink\" href=\"..\\__pv_it\\84e3d9e3d115c9cb2cd01229dd798b80d0475bf40\\expr.ipynb\"><img src=\"..\\__pv_it\\84e3d9e3d115c9cb2cd01229dd798b80d0475bf40\\expr.png\" style=\"display:inline;vertical-align:middle;\" /></a> &#x22A2;&nbsp;<a class=\"ProveItLink\" href=\"..\\__pv_it\\feaa1d0e6d92ad9ead8e5ffd1f92697e3912387a0\\expr.ipynb\"><img src=\"..\\__pv_it\\feaa1d0e6d92ad9ead8e5ffd1f92697e3912387a0\\expr.png\" style=\"display:inline;vertical-align:middle;\" /></a></span></td></tr>\n",
       "<tr><td>&nbsp;</td><td colspan=4 style=\"text-align:left\"><span style=\"font-size:20px;\"><a class=\"ProveItLink\" href=\"..\\__pv_it\\5758c3a6b8b1a61d059f14908f0186a1d5ae540a0\\expr.ipynb\"><img src=\"..\\__pv_it\\5758c3a6b8b1a61d059f14908f0186a1d5ae540a0\\expr.png\" style=\"display:inline;vertical-align:middle;\" /></a></span></td></tr><tr><td>15</td><td>axiom</td><td></td><td><span style=\"font-size:20px;\"> &#x22A2;&nbsp;<a class=\"ProveItLink\" href=\"..\\__pv_it\\1abd0401f7baebea707022eba957f2c3d2c647cd0\\expr.ipynb\"><img src=\"..\\__pv_it\\1abd0401f7baebea707022eba957f2c3d2c647cd0\\expr.png\" style=\"display:inline;vertical-align:middle;\" /></a></span></td></tr>\n",
       "<tr><td>&nbsp;</td><td colspan=4 style-\"text-align:left\"><a class=\"ProveItLink\" href=\"..\\_axioms_.ipynb#eqTrueElim\">proveit.logic.boolean.eqTrueElim</a></td></tr><tr><td>16</td><td>assumption</td><td></td><td><span style=\"font-size:20px;\"><a class=\"ProveItLink\" href=\"..\\__pv_it\\b1adb8bbd9fdec361bc7afbc91534bd7d285e4100\\expr.ipynb\"><img src=\"..\\__pv_it\\b1adb8bbd9fdec361bc7afbc91534bd7d285e4100\\expr.png\" style=\"display:inline;vertical-align:middle;\" /></a> &#x22A2;&nbsp;<a class=\"ProveItLink\" href=\"..\\__pv_it\\09ebc2ea01ecf2a438ce94bebdce9b190b7a79220\\expr.ipynb\"><img src=\"..\\__pv_it\\09ebc2ea01ecf2a438ce94bebdce9b190b7a79220\\expr.png\" style=\"display:inline;vertical-align:middle;\" /></a></span></td></tr>\n",
       "<tr><td>17</td><td>axiom</td><td></td><td><span style=\"font-size:20px;\"> &#x22A2;&nbsp;<a class=\"ProveItLink\" href=\"..\\negation\\__pv_it\\07247e05a1947299288ef312670c6e912da6cc800\\expr.ipynb\"><img src=\"..\\negation\\__pv_it\\07247e05a1947299288ef312670c6e912da6cc800\\expr.png\" style=\"display:inline;vertical-align:middle;\" /></a></span></td></tr>\n",
       "<tr><td>&nbsp;</td><td colspan=4 style-\"text-align:left\"><a class=\"ProveItLink\" href=\"..\\negation\\_axioms_.ipynb#negationIntro\">proveit.logic.boolean.negation.negationIntro</a></td></tr><tr><td>18</td><td>assumption</td><td></td><td><span style=\"font-size:20px;\"><a class=\"ProveItLink\" href=\"..\\__pv_it\\84e3d9e3d115c9cb2cd01229dd798b80d0475bf40\\expr.ipynb\"><img src=\"..\\__pv_it\\84e3d9e3d115c9cb2cd01229dd798b80d0475bf40\\expr.png\" style=\"display:inline;vertical-align:middle;\" /></a> &#x22A2;&nbsp;<a class=\"ProveItLink\" href=\"..\\__pv_it\\30b1ade828de18bfe5f2ffe442492b3db1c911ac0\\expr.ipynb\"><img src=\"..\\__pv_it\\30b1ade828de18bfe5f2ffe442492b3db1c911ac0\\expr.png\" style=\"display:inline;vertical-align:middle;\" /></a></span></td></tr>\n"
      ],
      "text/plain": [
       "<proveit._core_.proof.Generalization instance at 0x000000000973BD88>"
      ]
     },
     "execution_count": 7,
     "metadata": {},
     "output_type": "execute_result"
    }
   ],
   "source": [
    "%qed"
   ]
  },
  {
   "cell_type": "code",
   "execution_count": null,
   "metadata": {
    "collapsed": true
   },
   "outputs": [],
   "source": []
  }
 ],
 "metadata": {
  "kernelspec": {
   "display_name": "Python 2",
   "language": "python",
   "name": "python2"
  },
  "language_info": {
   "codemirror_mode": {
    "name": "ipython",
    "version": 2
   },
   "file_extension": ".py",
   "mimetype": "text/x-python",
   "name": "python",
   "nbconvert_exporter": "python",
   "pygments_lexer": "ipython2",
   "version": "2.7.11"
  }
 },
 "nbformat": 4,
 "nbformat_minor": 0
}
