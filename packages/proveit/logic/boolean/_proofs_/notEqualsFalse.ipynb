{
 "cells": [
  {
   "cell_type": "markdown",
   "metadata": {
    "collapsed": true,
    "deletable": true,
    "editable": true
   },
   "source": [
    "Proof of <a class=\"ProveItLink\" href=\"..\\..\\..\\_context_.ipynb\">proveit</a>.<a class=\"ProveItLink\" href=\"..\\..\\_context_.ipynb\">logic</a>.<a class=\"ProveItLink\" href=\"..\\_context_.ipynb\">boolean</a>.<a class=\"ProveItLink\" href=\"../_theorems_.ipynb#notEqualsFalse\">notEqualsFalse</a> theorem\n",
    "========"
   ]
  },
  {
   "cell_type": "code",
   "execution_count": 3,
   "metadata": {
    "collapsed": true,
    "deletable": true,
    "editable": true
   },
   "outputs": [],
   "source": [
    "import proveit\n",
    "from proveit._common_ import A\n",
    "from proveit.logic.boolean._theorems_ import trueNotFalse\n",
    "context = proveit.Context('..') # the theorem's context is in the parent directory"
   ]
  },
  {
   "cell_type": "code",
   "execution_count": 2,
   "metadata": {
    "collapsed": false,
    "deletable": true,
    "editable": true
   },
   "outputs": [
    {
     "name": "stdout",
     "output_type": "stream",
     "text": [
      "Beginning proof of notEqualsFalse\n",
      "Recorded 'presuming' information\n",
      "Presuming previous theorems in this context (and any of their dependencies).\n"
     ]
    },
    {
     "data": {
      "text/html": [
       "<strong id=\"notEqualsFalse\">notEqualsFalse:</strong> <a class=\"ProveItLink\" href=\"..\\__pv_it\\49254736c435df258a8062fb40cc88d4289191dd0\\expr.ipynb\"><img src=\"..\\__pv_it\\49254736c435df258a8062fb40cc88d4289191dd0\\expr.png\" style=\"display:inline;vertical-align:middle;\" /></a><br>(see <a class=\"ProveItLink\" href=\"..\\__pv_it\\49254736c435df258a8062fb40cc88d4289191dd0\\dependencies.ipynb\">dependencies</a>)"
      ],
      "text/plain": [
       "notEqualsFalse: forall_{A | A} (A != FALSE)"
      ]
     },
     "execution_count": 2,
     "metadata": {},
     "output_type": "execute_result"
    }
   ],
   "source": [
    "%proving notEqualsFalse presuming []"
   ]
  },
  {
   "cell_type": "code",
   "execution_count": 4,
   "metadata": {
    "collapsed": false,
    "deletable": true,
    "editable": true
   },
   "outputs": [
    {
     "data": {
      "text/html": [
       "<span style=\"font-size:20px;\"> &#x22A2;&nbsp;<a class=\"ProveItLink\" href=\"..\\__pv_it\\b021c743ee41463bf5901121b5b091f2d2a9a6ee0\\expr.ipynb\"><img src=\"..\\__pv_it\\b021c743ee41463bf5901121b5b091f2d2a9a6ee0\\expr.png\" style=\"display:inline;vertical-align:middle;\" /></a></span>"
      ],
      "text/plain": [
       "|= TRUE != FALSE"
      ]
     },
     "execution_count": 4,
     "metadata": {},
     "output_type": "execute_result"
    }
   ],
   "source": [
    "trueNotFalse"
   ]
  },
  {
   "cell_type": "code",
   "execution_count": 5,
   "metadata": {
    "collapsed": false
   },
   "outputs": [
    {
     "data": {
      "text/html": [
       "<strong id=\"AeqT\">AeqT:</strong> <span style=\"font-size:20px;\"><a class=\"ProveItLink\" href=\"..\\__pv_it\\158bdc91074824c720728a23dba5d58593c8cc480\\expr.ipynb\"><img src=\"..\\__pv_it\\158bdc91074824c720728a23dba5d58593c8cc480\\expr.png\" style=\"display:inline;vertical-align:middle;\" /></a> &#x22A2;&nbsp;<a class=\"ProveItLink\" href=\"..\\__pv_it\\09ebc2ea01ecf2a438ce94bebdce9b190b7a79220\\expr.ipynb\"><img src=\"..\\__pv_it\\09ebc2ea01ecf2a438ce94bebdce9b190b7a79220\\expr.png\" style=\"display:inline;vertical-align:middle;\" /></a></span><br>"
      ],
      "text/plain": [
       "AeqT: {A} |= A = TRUE"
      ]
     },
     "execution_count": 5,
     "metadata": {},
     "output_type": "execute_result"
    }
   ],
   "source": [
    "AeqT = A.evaluation([A])"
   ]
  },
  {
   "cell_type": "code",
   "execution_count": 6,
   "metadata": {
    "collapsed": false
   },
   "outputs": [
    {
     "data": {
      "text/html": [
       "<span style=\"font-size:20px;\"><a class=\"ProveItLink\" href=\"..\\__pv_it\\158bdc91074824c720728a23dba5d58593c8cc480\\expr.ipynb\"><img src=\"..\\__pv_it\\158bdc91074824c720728a23dba5d58593c8cc480\\expr.png\" style=\"display:inline;vertical-align:middle;\" /></a> &#x22A2;&nbsp;<a class=\"ProveItLink\" href=\"..\\__pv_it\\12ef3ed575247cd2edcda004c63c41a91f2dbe870\\expr.ipynb\"><img src=\"..\\__pv_it\\12ef3ed575247cd2edcda004c63c41a91f2dbe870\\expr.png\" style=\"display:inline;vertical-align:middle;\" /></a></span>"
      ],
      "text/plain": [
       "{A} |= A != FALSE"
      ]
     },
     "execution_count": 6,
     "metadata": {},
     "output_type": "execute_result"
    }
   ],
   "source": [
    "AeqT.subLeftSideInto(trueNotFalse)"
   ]
  },
  {
   "cell_type": "code",
   "execution_count": 7,
   "metadata": {
    "collapsed": false
   },
   "outputs": [
    {
     "data": {
      "text/html": [
       "<table><tr><th>&nbsp;</th><th>step type</th><th>requirements</th><th>statement</th></tr>\n",
       "<tr><td>0</td><td>generalizaton</td><td>1</td><td><span style=\"font-size:20px;\"> &#x22A2;&nbsp;<a class=\"ProveItLink\" href=\"..\\__pv_it\\49254736c435df258a8062fb40cc88d4289191dd0\\expr.ipynb\"><img src=\"..\\__pv_it\\49254736c435df258a8062fb40cc88d4289191dd0\\expr.png\" style=\"display:inline;vertical-align:middle;\" /></a></span></td></tr>\n",
       "<tr><td>1</td><td>specialization</td><td>2, 3, 4</td><td><span style=\"font-size:20px;\"><a class=\"ProveItLink\" href=\"..\\__pv_it\\158bdc91074824c720728a23dba5d58593c8cc480\\expr.ipynb\"><img src=\"..\\__pv_it\\158bdc91074824c720728a23dba5d58593c8cc480\\expr.png\" style=\"display:inline;vertical-align:middle;\" /></a> &#x22A2;&nbsp;<a class=\"ProveItLink\" href=\"..\\__pv_it\\12ef3ed575247cd2edcda004c63c41a91f2dbe870\\expr.ipynb\"><img src=\"..\\__pv_it\\12ef3ed575247cd2edcda004c63c41a91f2dbe870\\expr.png\" style=\"display:inline;vertical-align:middle;\" /></a></span></td></tr>\n",
       "<tr><td>&nbsp;</td><td colspan=4 style=\"text-align:left\"><span style=\"font-size:20px;\"><a class=\"ProveItLink\" href=\"..\\__pv_it\\3be3923f5a4152130fdeadbf1f1ed6b8c41b29440\\expr.ipynb\"><img src=\"..\\__pv_it\\3be3923f5a4152130fdeadbf1f1ed6b8c41b29440\\expr.png\" style=\"display:inline;vertical-align:middle;\" /></a>, <a class=\"ProveItLink\" href=\"..\\__pv_it\\d20519e0f9109df04f3f538b2e9b58d3c15a5bc80\\expr.ipynb\"><img src=\"..\\__pv_it\\d20519e0f9109df04f3f538b2e9b58d3c15a5bc80\\expr.png\" style=\"display:inline;vertical-align:middle;\" /></a>, <a class=\"ProveItLink\" href=\"..\\__pv_it\\38ebdc936d86780c75c031a4663b19e1c6f6d9800\\expr.ipynb\"><img src=\"..\\__pv_it\\38ebdc936d86780c75c031a4663b19e1c6f6d9800\\expr.png\" style=\"display:inline;vertical-align:middle;\" /></a></span></td></tr><tr><td>2</td><td>theorem</td><td></td><td><span style=\"font-size:20px;\"> &#x22A2;&nbsp;<a class=\"ProveItLink\" href=\"..\\..\\equality\\__pv_it\\6425c7b64708730992bfb72314f6aeaa5dc1d76c0\\expr.ipynb\"><img src=\"..\\..\\equality\\__pv_it\\6425c7b64708730992bfb72314f6aeaa5dc1d76c0\\expr.png\" style=\"display:inline;vertical-align:middle;\" /></a></span></td></tr>\n",
       "<tr><td>&nbsp;</td><td colspan=4 style-\"text-align:left\"><a class=\"ProveItLink\" href=\"..\\..\\equality\\_proofs_\\subLeftSideInto.ipynb\">proveit.logic.equality.subLeftSideInto</a></td></tr><tr><td>3</td><td>theorem</td><td></td><td><span style=\"font-size:20px;\"> &#x22A2;&nbsp;<a class=\"ProveItLink\" href=\"..\\__pv_it\\b021c743ee41463bf5901121b5b091f2d2a9a6ee0\\expr.ipynb\"><img src=\"..\\__pv_it\\b021c743ee41463bf5901121b5b091f2d2a9a6ee0\\expr.png\" style=\"display:inline;vertical-align:middle;\" /></a></span></td></tr>\n",
       "<tr><td>&nbsp;</td><td colspan=4 style-\"text-align:left\"><a class=\"ProveItLink\" href=\"trueNotFalse.ipynb\">proveit.logic.boolean.trueNotFalse</a></td></tr><tr><td>4</td><td>specialization</td><td>5, 6</td><td><span style=\"font-size:20px;\"><a class=\"ProveItLink\" href=\"..\\__pv_it\\158bdc91074824c720728a23dba5d58593c8cc480\\expr.ipynb\"><img src=\"..\\__pv_it\\158bdc91074824c720728a23dba5d58593c8cc480\\expr.png\" style=\"display:inline;vertical-align:middle;\" /></a> &#x22A2;&nbsp;<a class=\"ProveItLink\" href=\"..\\__pv_it\\09ebc2ea01ecf2a438ce94bebdce9b190b7a79220\\expr.ipynb\"><img src=\"..\\__pv_it\\09ebc2ea01ecf2a438ce94bebdce9b190b7a79220\\expr.png\" style=\"display:inline;vertical-align:middle;\" /></a></span></td></tr>\n",
       "<tr><td>&nbsp;</td><td colspan=4 style=\"text-align:left\"><span style=\"font-size:20px;\"><a class=\"ProveItLink\" href=\"..\\__pv_it\\5b95cb72eb1ff91be07c25f9560c4137469349290\\expr.ipynb\"><img src=\"..\\__pv_it\\5b95cb72eb1ff91be07c25f9560c4137469349290\\expr.png\" style=\"display:inline;vertical-align:middle;\" /></a></span></td></tr><tr><td>5</td><td>axiom</td><td></td><td><span style=\"font-size:20px;\"> &#x22A2;&nbsp;<a class=\"ProveItLink\" href=\"..\\__pv_it\\17736e5847b2b74f86dc8cccbef45d3aeb8a06e80\\expr.ipynb\"><img src=\"..\\__pv_it\\17736e5847b2b74f86dc8cccbef45d3aeb8a06e80\\expr.png\" style=\"display:inline;vertical-align:middle;\" /></a></span></td></tr>\n",
       "<tr><td>&nbsp;</td><td colspan=4 style-\"text-align:left\"><a class=\"ProveItLink\" href=\"..\\_axioms_.ipynb#eqTrueIntro\">proveit.logic.boolean.eqTrueIntro</a></td></tr><tr><td>6</td><td>assumption</td><td></td><td><span style=\"font-size:20px;\"><a class=\"ProveItLink\" href=\"..\\__pv_it\\158bdc91074824c720728a23dba5d58593c8cc480\\expr.ipynb\"><img src=\"..\\__pv_it\\158bdc91074824c720728a23dba5d58593c8cc480\\expr.png\" style=\"display:inline;vertical-align:middle;\" /></a> &#x22A2;&nbsp;<a class=\"ProveItLink\" href=\"..\\..\\..\\__pv_it\\2cbe72a7ad6f655694dd697106680215e8489b600\\expr.ipynb\"><img src=\"..\\..\\..\\__pv_it\\2cbe72a7ad6f655694dd697106680215e8489b600\\expr.png\" style=\"display:inline;vertical-align:middle;\" /></a></span></td></tr>\n"
      ],
      "text/plain": [
       "<proveit._core_.proof.Generalization instance at 0x0000000009215348>"
      ]
     },
     "execution_count": 7,
     "metadata": {},
     "output_type": "execute_result"
    }
   ],
   "source": [
    "%qed"
   ]
  },
  {
   "cell_type": "code",
   "execution_count": null,
   "metadata": {
    "collapsed": true
   },
   "outputs": [],
   "source": []
  }
 ],
 "metadata": {
  "kernelspec": {
   "display_name": "Python 2",
   "language": "python",
   "name": "python2"
  },
  "language_info": {
   "codemirror_mode": {
    "name": "ipython",
    "version": 2
   },
   "file_extension": ".py",
   "mimetype": "text/x-python",
   "name": "python",
   "nbconvert_exporter": "python",
   "pygments_lexer": "ipython2",
   "version": "2.7.11"
  }
 },
 "nbformat": 4,
 "nbformat_minor": 0
}
