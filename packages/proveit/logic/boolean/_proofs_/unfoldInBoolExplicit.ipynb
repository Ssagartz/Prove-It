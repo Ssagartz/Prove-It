{
 "cells": [
  {
   "cell_type": "markdown",
   "metadata": {
    "collapsed": true,
    "deletable": true,
    "editable": true
   },
   "source": [
    "Proof of <a class=\"ProveItLink\" href=\"..\\..\\..\\_context_.ipynb\">proveit</a>.<a class=\"ProveItLink\" href=\"..\\..\\_context_.ipynb\">logic</a>.<a class=\"ProveItLink\" href=\"..\\_context_.ipynb\">boolean</a>.<a class=\"ProveItLink\" href=\"../_theorems_.ipynb#unfoldInBoolExplicit\">unfoldInBoolExplicit</a> theorem\n",
    "========"
   ]
  },
  {
   "cell_type": "code",
   "execution_count": 1,
   "metadata": {
    "collapsed": true,
    "deletable": true,
    "editable": true
   },
   "outputs": [],
   "source": [
    "import proveit\n",
    "from proveit import defaults\n",
    "from proveit.logic.boolean._axioms_ import boolsDef\n",
    "context = proveit.Context('..') # the theorem's context is in the parent directory"
   ]
  },
  {
   "cell_type": "code",
   "execution_count": 2,
   "metadata": {
    "collapsed": false,
    "deletable": true,
    "editable": true
   },
   "outputs": [
    {
     "name": "stdout",
     "output_type": "stream",
     "text": [
      "Beginning proof of unfoldInBoolExplicit\n",
      "Recorded 'presuming' information\n",
      "Presuming proveit.logic.set_theory.enumeration.unfold theorem(s).\n",
      "Presuming previous theorems in this context (and any of their dependencies).\n"
     ]
    },
    {
     "data": {
      "text/html": [
       "<strong id=\"unfoldInBoolExplicit\">unfoldInBoolExplicit:</strong> <a class=\"ProveItLink\" href=\"..\\__pv_it\\1979d13edd9c0543cc94aa76a589e0cb6645ed2a0\\expr.ipynb\"><img src=\"..\\__pv_it\\1979d13edd9c0543cc94aa76a589e0cb6645ed2a0\\expr.png\" style=\"display:inline;vertical-align:middle;\" /></a><br>(see <a class=\"ProveItLink\" href=\"..\\__pv_it\\1979d13edd9c0543cc94aa76a589e0cb6645ed2a0\\dependencies.ipynb\">dependencies</a>)"
      ],
      "text/plain": [
       "unfoldInBoolExplicit: forall_{A in BOOLEANS} ((A = TRUE) or (A = FALSE))"
      ]
     },
     "execution_count": 2,
     "metadata": {},
     "output_type": "execute_result"
    }
   ],
   "source": [
    "%proving unfoldInBoolExplicit presuming [proveit.logic.set_theory.enumeration.unfold ]"
   ]
  },
  {
   "cell_type": "code",
   "execution_count": 3,
   "metadata": {
    "collapsed": false
   },
   "outputs": [
    {
     "data": {
      "text/html": [
       "<strong id=\"AinBool\">AinBool:</strong> <a class=\"ProveItLink\" href=\"..\\__pv_it\\7837821d5a6b48e91a78e6fc66f6982c08b02a650\\expr.ipynb\"><img src=\"..\\__pv_it\\7837821d5a6b48e91a78e6fc66f6982c08b02a650\\expr.png\" style=\"display:inline;vertical-align:middle;\" /></a><br>"
      ],
      "text/plain": [
       "AinBool: A in BOOLEANS"
      ]
     },
     "execution_count": 3,
     "metadata": {},
     "output_type": "execute_result"
    }
   ],
   "source": [
    "AinBool = unfoldInBoolExplicit.conditions[0]"
   ]
  },
  {
   "cell_type": "code",
   "execution_count": 4,
   "metadata": {
    "collapsed": false,
    "deletable": true,
    "editable": true
   },
   "outputs": [
    {
     "data": {
      "text/html": [
       "<strong id=\"defaults.assumptions\">defaults.assumptions:</strong> <a class=\"ProveItLink\" href=\"..\\__pv_it\\e3dccca28d4aa81eddfb38c9a8ab6b6bbe722b9e0\\expr.ipynb\"><img src=\"..\\__pv_it\\e3dccca28d4aa81eddfb38c9a8ab6b6bbe722b9e0\\expr.png\" style=\"display:inline;vertical-align:middle;\" /></a><br>"
      ],
      "text/plain": [
       "defaults.assumptions: (A in BOOLEANS)"
      ]
     },
     "execution_count": 4,
     "metadata": {},
     "output_type": "execute_result"
    }
   ],
   "source": [
    "defaults.assumptions = [AinBool]"
   ]
  },
  {
   "cell_type": "code",
   "execution_count": 5,
   "metadata": {
    "collapsed": false
   },
   "outputs": [
    {
     "data": {
      "text/html": [
       "<span style=\"font-size:20px;\"> &#x22A2;&nbsp;<a class=\"ProveItLink\" href=\"..\\__pv_it\\aa5390c906b6d4813c3789ada2f606bc3134f1390\\expr.ipynb\"><img src=\"..\\__pv_it\\aa5390c906b6d4813c3789ada2f606bc3134f1390\\expr.png\" style=\"display:inline;vertical-align:middle;\" /></a></span>"
      ],
      "text/plain": [
       "|= BOOLEANS = {(TRUE , FALSE)}"
      ]
     },
     "execution_count": 5,
     "metadata": {},
     "output_type": "execute_result"
    }
   ],
   "source": [
    "boolsDef"
   ]
  },
  {
   "cell_type": "code",
   "execution_count": 6,
   "metadata": {
    "collapsed": false
   },
   "outputs": [
    {
     "data": {
      "text/html": [
       "<strong id=\"AinTFset\">AinTFset:</strong> <span style=\"font-size:20px;\"><a class=\"ProveItLink\" href=\"..\\__pv_it\\a54570eacc2cdfc354a22076eb1ab1c1fc77fd870\\expr.ipynb\"><img src=\"..\\__pv_it\\a54570eacc2cdfc354a22076eb1ab1c1fc77fd870\\expr.png\" style=\"display:inline;vertical-align:middle;\" /></a> &#x22A2;&nbsp;<a class=\"ProveItLink\" href=\"..\\__pv_it\\8dec59ef3f1f1868f096955eadd8c8ee657c93490\\expr.ipynb\"><img src=\"..\\__pv_it\\8dec59ef3f1f1868f096955eadd8c8ee657c93490\\expr.png\" style=\"display:inline;vertical-align:middle;\" /></a></span><br>"
      ],
      "text/plain": [
       "AinTFset: {A in BOOLEANS} |= A in {(TRUE , FALSE)}"
      ]
     },
     "execution_count": 6,
     "metadata": {},
     "output_type": "execute_result"
    }
   ],
   "source": [
    "AinTFset = boolsDef.subRightSideInto(AinBool)"
   ]
  },
  {
   "cell_type": "code",
   "execution_count": 7,
   "metadata": {
    "collapsed": false
   },
   "outputs": [
    {
     "data": {
      "text/html": [
       "<table><tr><th>&nbsp;</th><th>step type</th><th>requirements</th><th>statement</th></tr>\n",
       "<tr><td>0</td><td>generalizaton</td><td>1</td><td><span style=\"font-size:20px;\"> &#x22A2;&nbsp;<a class=\"ProveItLink\" href=\"..\\__pv_it\\1979d13edd9c0543cc94aa76a589e0cb6645ed2a0\\expr.ipynb\"><img src=\"..\\__pv_it\\1979d13edd9c0543cc94aa76a589e0cb6645ed2a0\\expr.png\" style=\"display:inline;vertical-align:middle;\" /></a></span></td></tr>\n",
       "<tr><td>1</td><td>specialization</td><td>2, 3, 4, 5</td><td><span style=\"font-size:20px;\"><a class=\"ProveItLink\" href=\"..\\__pv_it\\a54570eacc2cdfc354a22076eb1ab1c1fc77fd870\\expr.ipynb\"><img src=\"..\\__pv_it\\a54570eacc2cdfc354a22076eb1ab1c1fc77fd870\\expr.png\" style=\"display:inline;vertical-align:middle;\" /></a> &#x22A2;&nbsp;<a class=\"ProveItLink\" href=\"..\\__pv_it\\1c6a94bc3b8eaae2e256f029ad0abda795dee51e0\\expr.ipynb\"><img src=\"..\\__pv_it\\1c6a94bc3b8eaae2e256f029ad0abda795dee51e0\\expr.png\" style=\"display:inline;vertical-align:middle;\" /></a></span></td></tr>\n",
       "<tr><td>&nbsp;</td><td colspan=4 style=\"text-align:left\"><span style=\"font-size:20px;\"><a class=\"ProveItLink\" href=\"..\\__pv_it\\8187c439eea71ef242b28511a1cb072d70a265460\\expr.ipynb\"><img src=\"..\\__pv_it\\8187c439eea71ef242b28511a1cb072d70a265460\\expr.png\" style=\"display:inline;vertical-align:middle;\" /></a>, <a class=\"ProveItLink\" href=\"..\\__pv_it\\f9860b97878d3cf712e1bc1512a4c69553dbc5db0\\expr.ipynb\"><img src=\"..\\__pv_it\\f9860b97878d3cf712e1bc1512a4c69553dbc5db0\\expr.png\" style=\"display:inline;vertical-align:middle;\" /></a></span></td></tr><tr><td>2</td><td>theorem</td><td></td><td><span style=\"font-size:20px;\"> &#x22A2;&nbsp;<a class=\"ProveItLink\" href=\"..\\..\\set_theory\\enumeration\\__pv_it\\f5765529f91b392d07ea7dd1dfc32713df5c8a4d0\\expr.ipynb\"><img src=\"..\\..\\set_theory\\enumeration\\__pv_it\\f5765529f91b392d07ea7dd1dfc32713df5c8a4d0\\expr.png\" style=\"display:inline;vertical-align:middle;\" /></a></span></td></tr>\n",
       "<tr><td>&nbsp;</td><td colspan=4 style-\"text-align:left\"><a class=\"ProveItLink\" href=\"..\\..\\set_theory\\enumeration\\_proofs_\\unfold.ipynb\">proveit.logic.set_theory.enumeration.unfold</a></td></tr><tr><td>3</td><td>theorem</td><td></td><td><span style=\"font-size:20px;\"> &#x22A2;&nbsp;<a class=\"ProveItLink\" href=\"..\\..\\..\\number\\numeral\\decimal\\__pv_it\\286f0443dba55bdb259c90cef1db0ca273fac95e0\\expr.ipynb\"><img src=\"..\\..\\..\\number\\numeral\\decimal\\__pv_it\\286f0443dba55bdb259c90cef1db0ca273fac95e0\\expr.png\" style=\"display:inline;vertical-align:middle;\" /></a></span></td></tr>\n",
       "<tr><td>&nbsp;</td><td colspan=4 style-\"text-align:left\"><a class=\"ProveItLink\" href=\"..\\..\\..\\number\\numeral\\decimal\\_proofs_\\nat2.ipynb\">proveit.number.numeral.decimal.nat2</a></td></tr><tr><td>4</td><td>specialization</td><td>6, 7, 8</td><td><span style=\"font-size:20px;\"><a class=\"ProveItLink\" href=\"..\\__pv_it\\a54570eacc2cdfc354a22076eb1ab1c1fc77fd870\\expr.ipynb\"><img src=\"..\\__pv_it\\a54570eacc2cdfc354a22076eb1ab1c1fc77fd870\\expr.png\" style=\"display:inline;vertical-align:middle;\" /></a> &#x22A2;&nbsp;<a class=\"ProveItLink\" href=\"..\\__pv_it\\8dec59ef3f1f1868f096955eadd8c8ee657c93490\\expr.ipynb\"><img src=\"..\\__pv_it\\8dec59ef3f1f1868f096955eadd8c8ee657c93490\\expr.png\" style=\"display:inline;vertical-align:middle;\" /></a></span></td></tr>\n",
       "<tr><td>&nbsp;</td><td colspan=4 style=\"text-align:left\"><span style=\"font-size:20px;\"><a class=\"ProveItLink\" href=\"..\\__pv_it\\e999db5f685f494a4ef903ddc06f6e0cf1472b830\\expr.ipynb\"><img src=\"..\\__pv_it\\e999db5f685f494a4ef903ddc06f6e0cf1472b830\\expr.png\" style=\"display:inline;vertical-align:middle;\" /></a>, <a class=\"ProveItLink\" href=\"..\\__pv_it\\dc06f901ae16ad8fe1fb35e2ee2e531acff76d2a0\\expr.ipynb\"><img src=\"..\\__pv_it\\dc06f901ae16ad8fe1fb35e2ee2e531acff76d2a0\\expr.png\" style=\"display:inline;vertical-align:middle;\" /></a>, <a class=\"ProveItLink\" href=\"..\\__pv_it\\ad5c6ab9365be6e42cee3f7f87da9359a8b694920\\expr.ipynb\"><img src=\"..\\__pv_it\\ad5c6ab9365be6e42cee3f7f87da9359a8b694920\\expr.png\" style=\"display:inline;vertical-align:middle;\" /></a></span></td></tr><tr><td>5</td><td>theorem</td><td></td><td><span style=\"font-size:20px;\"> &#x22A2;&nbsp;<a class=\"ProveItLink\" href=\"..\\..\\..\\number\\numeral\\decimal\\__pv_it\\c5d3f2ba07647aec518bec1929b16561d1a340400\\expr.ipynb\"><img src=\"..\\..\\..\\number\\numeral\\decimal\\__pv_it\\c5d3f2ba07647aec518bec1929b16561d1a340400\\expr.png\" style=\"display:inline;vertical-align:middle;\" /></a></span></td></tr>\n",
       "<tr><td>&nbsp;</td><td colspan=4 style-\"text-align:left\"><a class=\"ProveItLink\" href=\"..\\..\\..\\number\\numeral\\decimal\\_proofs_\\add_1_1.ipynb\">proveit.number.numeral.decimal.add_1_1</a></td></tr><tr><td>6</td><td>theorem</td><td></td><td><span style=\"font-size:20px;\"> &#x22A2;&nbsp;<a class=\"ProveItLink\" href=\"..\\..\\equality\\__pv_it\\5b6686687da80bc69920c8ed469622d49cb40ce40\\expr.ipynb\"><img src=\"..\\..\\equality\\__pv_it\\5b6686687da80bc69920c8ed469622d49cb40ce40\\expr.png\" style=\"display:inline;vertical-align:middle;\" /></a></span></td></tr>\n",
       "<tr><td>&nbsp;</td><td colspan=4 style-\"text-align:left\"><a class=\"ProveItLink\" href=\"..\\..\\equality\\_proofs_\\subRightSideInto.ipynb\">proveit.logic.equality.subRightSideInto</a></td></tr><tr><td>7</td><td>assumption</td><td></td><td><span style=\"font-size:20px;\"><a class=\"ProveItLink\" href=\"..\\__pv_it\\a54570eacc2cdfc354a22076eb1ab1c1fc77fd870\\expr.ipynb\"><img src=\"..\\__pv_it\\a54570eacc2cdfc354a22076eb1ab1c1fc77fd870\\expr.png\" style=\"display:inline;vertical-align:middle;\" /></a> &#x22A2;&nbsp;<a class=\"ProveItLink\" href=\"..\\__pv_it\\7837821d5a6b48e91a78e6fc66f6982c08b02a650\\expr.ipynb\"><img src=\"..\\__pv_it\\7837821d5a6b48e91a78e6fc66f6982c08b02a650\\expr.png\" style=\"display:inline;vertical-align:middle;\" /></a></span></td></tr>\n",
       "<tr><td>8</td><td>axiom</td><td></td><td><span style=\"font-size:20px;\"> &#x22A2;&nbsp;<a class=\"ProveItLink\" href=\"..\\__pv_it\\aa5390c906b6d4813c3789ada2f606bc3134f1390\\expr.ipynb\"><img src=\"..\\__pv_it\\aa5390c906b6d4813c3789ada2f606bc3134f1390\\expr.png\" style=\"display:inline;vertical-align:middle;\" /></a></span></td></tr>\n",
       "<tr><td>&nbsp;</td><td colspan=4 style-\"text-align:left\"><a class=\"ProveItLink\" href=\"..\\_axioms_.ipynb#boolsDef\">proveit.logic.boolean.boolsDef</a></td></tr>"
      ],
      "text/plain": [
       "<proveit._core_.proof.Generalization instance at 0x000000000998BA48>"
      ]
     },
     "execution_count": 7,
     "metadata": {},
     "output_type": "execute_result"
    }
   ],
   "source": [
    "%qed # unfolding the enumerated set via automation"
   ]
  },
  {
   "cell_type": "code",
   "execution_count": null,
   "metadata": {
    "collapsed": true
   },
   "outputs": [],
   "source": []
  }
 ],
 "metadata": {
  "kernelspec": {
   "display_name": "Python 2",
   "language": "python",
   "name": "python2"
  },
  "language_info": {
   "codemirror_mode": {
    "name": "ipython",
    "version": 2
   },
   "file_extension": ".py",
   "mimetype": "text/x-python",
   "name": "python",
   "nbconvert_exporter": "python",
   "pygments_lexer": "ipython2",
   "version": "2.7.11"
  }
 },
 "nbformat": 4,
 "nbformat_minor": 0
}
