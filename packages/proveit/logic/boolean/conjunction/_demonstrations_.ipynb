{
 "cells": [
  {
   "cell_type": "markdown",
   "metadata": {
    "collapsed": true,
    "deletable": true,
    "editable": true
   },
   "source": [
    "Demonstrations for context <a class=\"ProveItLink\" href=\"_context_.ipynb\">proveit.logic.boolean.conjunction</a>\n",
    "========"
   ]
  },
  {
   "cell_type": "code",
   "execution_count": 1,
   "metadata": {
    "collapsed": false,
    "deletable": true,
    "editable": true
   },
   "outputs": [],
   "source": [
    "from proveit.logic import And, Or, Not, TRUE, FALSE\n",
    "%begin demonstrations"
   ]
  },
  {
   "cell_type": "code",
   "execution_count": 2,
   "metadata": {
    "collapsed": true,
    "deletable": true,
    "editable": true
   },
   "outputs": [],
   "source": [
    "from proveit._common_ import a, b, c, d, e, f"
   ]
  },
  {
   "cell_type": "code",
   "execution_count": 3,
   "metadata": {
    "collapsed": false,
    "deletable": true,
    "editable": true
   },
   "outputs": [
    {
     "data": {
      "text/html": [
       "<strong id=\"expr\">expr:</strong> <a class=\"ProveItLink\" href=\"__pv_it\\4c8026c62c14799e3587064b73dc4b83953e8c580\\expr.ipynb\"><img src=\"__pv_it\\4c8026c62c14799e3587064b73dc4b83953e8c580\\expr.png\" style=\"display:inline;vertical-align:middle;\" /></a><br>"
      ],
      "text/plain": [
       "expr: a and b and c and d and e and f"
      ]
     },
     "execution_count": 3,
     "metadata": {},
     "output_type": "execute_result"
    }
   ],
   "source": [
    "expr = And(a, b, c, d, e, f)"
   ]
  },
  {
   "cell_type": "code",
   "execution_count": 4,
   "metadata": {
    "collapsed": false,
    "deletable": true,
    "editable": true
   },
   "outputs": [
    {
     "data": {
      "text/html": [
       "<a class=\"ProveItLink\" href=\"__pv_it\\baa12e4b0b47a3f1a4360b0cd630f213a8327a6a0\\expr.ipynb\"><img src=\"__pv_it\\baa12e4b0b47a3f1a4360b0cd630f213a8327a6a0\\expr.png\" style=\"display:inline;vertical-align:middle;\" /></a>"
      ],
      "text/plain": [
       "a and b \\\\  and c and d and e and f"
      ]
     },
     "execution_count": 4,
     "metadata": {},
     "output_type": "execute_result"
    }
   ],
   "source": [
    "expr.copy().withWrappingAt(3)"
   ]
  },
  {
   "cell_type": "code",
   "execution_count": 5,
   "metadata": {
    "collapsed": false,
    "deletable": true,
    "editable": true
   },
   "outputs": [
    {
     "data": {
      "text/html": [
       "<strong id=\"new_expr\">new_expr:</strong> <a class=\"ProveItLink\" href=\"__pv_it\\baa12e4b0b47a3f1a4360b0cd630f213a8327a6a0\\expr.ipynb\"><img src=\"__pv_it\\baa12e4b0b47a3f1a4360b0cd630f213a8327a6a0\\expr.png\" style=\"display:inline;vertical-align:middle;\" /></a><br>"
      ],
      "text/plain": [
       "new_expr: a and b \\\\  and c and d and e and f"
      ]
     },
     "execution_count": 5,
     "metadata": {},
     "output_type": "execute_result"
    }
   ],
   "source": [
    "new_expr = expr.copy().withWrappingAt(3)"
   ]
  },
  {
   "cell_type": "code",
   "execution_count": 6,
   "metadata": {
    "collapsed": false,
    "deletable": true,
    "editable": true
   },
   "outputs": [
    {
     "data": {
      "text/html": [
       "<a class=\"ProveItLink\" href=\"__pv_it\\4c8026c62c14799e3587064b73dc4b83953e8c580\\expr.ipynb\"><img src=\"__pv_it\\4c8026c62c14799e3587064b73dc4b83953e8c580\\expr.png\" style=\"display:inline;vertical-align:middle;\" /></a>"
      ],
      "text/plain": [
       "a and b and c and d and e and f"
      ]
     },
     "execution_count": 6,
     "metadata": {},
     "output_type": "execute_result"
    }
   ],
   "source": [
    "expr"
   ]
  },
  {
   "cell_type": "code",
   "execution_count": 7,
   "metadata": {
    "collapsed": false,
    "deletable": true,
    "editable": true
   },
   "outputs": [
    {
     "data": {
      "text/html": [
       "<a class=\"ProveItLink\" href=\"__pv_it\\baa12e4b0b47a3f1a4360b0cd630f213a8327a6a0\\expr.ipynb\"><img src=\"__pv_it\\baa12e4b0b47a3f1a4360b0cd630f213a8327a6a0\\expr.png\" style=\"display:inline;vertical-align:middle;\" /></a>"
      ],
      "text/plain": [
       "a and b \\\\  and c and d and e and f"
      ]
     },
     "execution_count": 7,
     "metadata": {},
     "output_type": "execute_result"
    }
   ],
   "source": [
    "new_expr"
   ]
  },
  {
   "cell_type": "code",
   "execution_count": 8,
   "metadata": {
    "collapsed": false,
    "deletable": true,
    "editable": true
   },
   "outputs": [
    {
     "data": {
      "text/html": [
       "<strong id=\"expr\">expr:</strong> <a class=\"ProveItLink\" href=\"__pv_it\\5824965cacdde9563e74cccf07df80e295794cd30\\expr.ipynb\"><img src=\"__pv_it\\5824965cacdde9563e74cccf07df80e295794cd30\\expr.png\" style=\"display:inline;vertical-align:middle;\" /></a><br>"
      ],
      "text/plain": [
       "expr: (a or b or c) and (b or c or d) and (d or e or f)"
      ]
     },
     "execution_count": 8,
     "metadata": {},
     "output_type": "execute_result"
    }
   ],
   "source": [
    "expr = And(Or(a, b, c), Or(b, c, d), Or(d, e, f))"
   ]
  },
  {
   "cell_type": "code",
   "execution_count": 9,
   "metadata": {
    "collapsed": false,
    "deletable": true,
    "editable": true
   },
   "outputs": [
    {
     "data": {
      "text/html": [
       "<strong id=\"new_expr\">new_expr:</strong> <a class=\"ProveItLink\" href=\"__pv_it\\5824965cacdde9563e74cccf07df80e295794cd30\\expr.ipynb\"><img src=\"__pv_it\\5824965cacdde9563e74cccf07df80e295794cd30\\expr.png\" style=\"display:inline;vertical-align:middle;\" /></a><br>"
      ],
      "text/plain": [
       "new_expr: (a or b or c) and (b or c or d) and (d or e or f)"
      ]
     },
     "execution_count": 9,
     "metadata": {},
     "output_type": "execute_result"
    }
   ],
   "source": [
    "new_expr = expr.copy()"
   ]
  },
  {
   "cell_type": "code",
   "execution_count": 10,
   "metadata": {
    "collapsed": false,
    "deletable": true,
    "editable": true
   },
   "outputs": [
    {
     "data": {
      "text/html": [
       "<a class=\"ProveItLink\" href=\"__pv_it\\4735ca7416649d98c3aac132471605c7128c4bcc0\\expr.ipynb\"><img src=\"__pv_it\\4735ca7416649d98c3aac132471605c7128c4bcc0\\expr.png\" style=\"display:inline;vertical-align:middle;\" /></a>"
      ],
      "text/plain": [
       "(a or b or c) and (b or c \\\\  or d) and (d or e or f)"
      ]
     },
     "execution_count": 10,
     "metadata": {},
     "output_type": "execute_result"
    }
   ],
   "source": [
    "new_expr.innerExpr().operands[1].withWrappingAt(3)"
   ]
  },
  {
   "cell_type": "code",
   "execution_count": 11,
   "metadata": {
    "collapsed": false,
    "deletable": true,
    "editable": true
   },
   "outputs": [
    {
     "data": {
      "text/html": [
       "<a class=\"ProveItLink\" href=\"__pv_it\\5824965cacdde9563e74cccf07df80e295794cd30\\expr.ipynb\"><img src=\"__pv_it\\5824965cacdde9563e74cccf07df80e295794cd30\\expr.png\" style=\"display:inline;vertical-align:middle;\" /></a>"
      ],
      "text/plain": [
       "(a or b or c) and (b or c or d) and (d or e or f)"
      ]
     },
     "execution_count": 11,
     "metadata": {},
     "output_type": "execute_result"
    }
   ],
   "source": [
    "expr"
   ]
  },
  {
   "cell_type": "code",
   "execution_count": 12,
   "metadata": {
    "collapsed": false,
    "deletable": true,
    "editable": true
   },
   "outputs": [
    {
     "name": "stdout",
     "output_type": "stream",
     "text": [
      "True\n"
     ]
    }
   ],
   "source": [
    "print expr==new_expr"
   ]
  },
  {
   "cell_type": "code",
   "execution_count": 13,
   "metadata": {
    "collapsed": false,
    "deletable": true,
    "editable": true
   },
   "outputs": [
    {
     "data": {
      "text/html": [
       "<table><tr><th>&nbsp;</th><th>step type</th><th>requirements</th><th>statement</th></tr>\n",
       "<tr><td>0</td><td>axiom</td><td></td><td><span style=\"font-size:20px;\"> &#x22A2;&nbsp;<a class=\"ProveItLink\" href=\"__pv_it\\8898576b5e2da836accfecb245314d00556cd07d0\\expr.ipynb\"><img src=\"__pv_it\\8898576b5e2da836accfecb245314d00556cd07d0\\expr.png\" style=\"display:inline;vertical-align:middle;\" /></a></span></td></tr>\n",
       "<tr><td>&nbsp;</td><td colspan=4 style-\"text-align:left\"><a class=\"ProveItLink\" href=\"_axioms_.ipynb#andTT\">proveit.logic.boolean.conjunction.andTT</a></td></tr>"
      ],
      "text/plain": [
       "<proveit._core_.proof.Axiom instance at 0x0000000008C8D388>"
      ]
     },
     "execution_count": 13,
     "metadata": {},
     "output_type": "execute_result"
    }
   ],
   "source": [
    "And(TRUE, TRUE).evaluation().proof()"
   ]
  },
  {
   "cell_type": "code",
   "execution_count": 14,
   "metadata": {
    "collapsed": false
   },
   "outputs": [
    {
     "data": {
      "text/html": [
       "<table><tr><th>&nbsp;</th><th>step type</th><th>requirements</th><th>statement</th></tr>\n",
       "<tr><td>0</td><td>specialization</td><td>1</td><td><span style=\"font-size:20px;\"> &#x22A2;&nbsp;<a class=\"ProveItLink\" href=\"__pv_it\\bebacfbb3175bb722a2d1c3c2d8ad4b2cdddc1ec0\\expr.ipynb\"><img src=\"__pv_it\\bebacfbb3175bb722a2d1c3c2d8ad4b2cdddc1ec0\\expr.png\" style=\"display:inline;vertical-align:middle;\" /></a></span></td></tr>\n",
       "<tr><td>&nbsp;</td><td colspan=4 style=\"text-align:left\"><span style=\"font-size:20px;\"><a class=\"ProveItLink\" href=\"__pv_it\\4889044a60a5faee40aefa1ee2b2c036024d4ae60\\expr.ipynb\"><img src=\"__pv_it\\4889044a60a5faee40aefa1ee2b2c036024d4ae60\\expr.png\" style=\"display:inline;vertical-align:middle;\" /></a></span></td></tr><tr><td>1</td><td>axiom</td><td></td><td><span style=\"font-size:20px;\"> &#x22A2;&nbsp;<a class=\"ProveItLink\" href=\"..\\..\\equality\\__pv_it\\9a90e898c4d3ae04aeb72e8486eda7c9b4fb2cc30\\expr.ipynb\"><img src=\"..\\..\\equality\\__pv_it\\9a90e898c4d3ae04aeb72e8486eda7c9b4fb2cc30\\expr.png\" style=\"display:inline;vertical-align:middle;\" /></a></span></td></tr>\n",
       "<tr><td>&nbsp;</td><td colspan=4 style-\"text-align:left\"><a class=\"ProveItLink\" href=\"..\\..\\equality\\_axioms_.ipynb#equalsReflexivity\">proveit.logic.equality.equalsReflexivity</a></td></tr>"
      ],
      "text/plain": [
       "<proveit._core_.proof.Specialization instance at 0x000000000964DB88>"
      ]
     },
     "execution_count": 14,
     "metadata": {},
     "output_type": "execute_result"
    }
   ],
   "source": [
    "from proveit.number import Less, one\n",
    "Less.sort([one, one]).proof()"
   ]
  },
  {
   "cell_type": "code",
   "execution_count": 15,
   "metadata": {
    "collapsed": false,
    "deletable": true,
    "editable": true
   },
   "outputs": [
    {
     "data": {
      "text/html": [
       "<table><tr><th>&nbsp;</th><th>step type</th><th>requirements</th><th>statement</th></tr>\n",
       "<tr><td>0</td><td>specialization</td><td>1, 2, 3, 4, 5</td><td><span style=\"font-size:20px;\"> &#x22A2;&nbsp;<a class=\"ProveItLink\" href=\"__pv_it\\a9e718e251f915d4ceee90af6867080678bc77320\\expr.ipynb\"><img src=\"__pv_it\\a9e718e251f915d4ceee90af6867080678bc77320\\expr.png\" style=\"display:inline;vertical-align:middle;\" /></a></span></td></tr>\n",
       "<tr><td>&nbsp;</td><td colspan=4 style=\"text-align:left\"><span style=\"font-size:20px;\"><a class=\"ProveItLink\" href=\"__pv_it\\a5fbc5c392095b77a86937360732b3ebcf05fbd90\\expr.ipynb\"><img src=\"__pv_it\\a5fbc5c392095b77a86937360732b3ebcf05fbd90\\expr.png\" style=\"display:inline;vertical-align:middle;\" /></a>, <a class=\"ProveItLink\" href=\"__pv_it\\e7d8df570f8c701af280b1327d76c6b9ba99edd10\\expr.ipynb\"><img src=\"__pv_it\\e7d8df570f8c701af280b1327d76c6b9ba99edd10\\expr.png\" style=\"display:inline;vertical-align:middle;\" /></a></span></td></tr><tr><td>1</td><td>theorem</td><td></td><td><span style=\"font-size:20px;\"> &#x22A2;&nbsp;<a class=\"ProveItLink\" href=\"__pv_it\\81bdb5004cc89cf6b102ccd5a93621614aefba8c0\\expr.ipynb\"><img src=\"__pv_it\\81bdb5004cc89cf6b102ccd5a93621614aefba8c0\\expr.png\" style=\"display:inline;vertical-align:middle;\" /></a></span></td></tr>\n",
       "<tr><td>&nbsp;</td><td colspan=4 style-\"text-align:left\"><a class=\"ProveItLink\" href=\"_proofs_\\trueEval.ipynb\">proveit.logic.boolean.conjunction.trueEval</a></td></tr><tr><td>2</td><td>theorem</td><td></td><td><span style=\"font-size:20px;\"> &#x22A2;&nbsp;<a class=\"ProveItLink\" href=\"..\\..\\..\\number\\numeral\\decimal\\__pv_it\\106bf174ef7755d5609db086689abcc208d6bf3d0\\expr.ipynb\"><img src=\"..\\..\\..\\number\\numeral\\decimal\\__pv_it\\106bf174ef7755d5609db086689abcc208d6bf3d0\\expr.png\" style=\"display:inline;vertical-align:middle;\" /></a></span></td></tr>\n",
       "<tr><td>&nbsp;</td><td colspan=4 style-\"text-align:left\"><a class=\"ProveItLink\" href=\"..\\..\\..\\number\\numeral\\decimal\\_proofs_\\nat3.ipynb\">proveit.number.numeral.decimal.nat3</a></td></tr><tr><td>3</td><td>axiom</td><td></td><td><span style=\"font-size:20px;\"> &#x22A2;&nbsp;<a class=\"ProveItLink\" href=\"..\\__pv_it\\68a87cc3370287d726c7086ace789e680e4461c30\\expr.ipynb\"><img src=\"..\\__pv_it\\68a87cc3370287d726c7086ace789e680e4461c30\\expr.png\" style=\"display:inline;vertical-align:middle;\" /></a></span></td></tr>\n",
       "<tr><td>&nbsp;</td><td colspan=4 style-\"text-align:left\"><a class=\"ProveItLink\" href=\"..\\_axioms_.ipynb#trueAxiom\">proveit.logic.boolean.trueAxiom</a></td></tr><tr><td>4</td><td>theorem</td><td></td><td><span style=\"font-size:20px;\"> &#x22A2;&nbsp;<a class=\"ProveItLink\" href=\"..\\..\\..\\number\\numeral\\decimal\\__pv_it\\c5d3f2ba07647aec518bec1929b16561d1a340400\\expr.ipynb\"><img src=\"..\\..\\..\\number\\numeral\\decimal\\__pv_it\\c5d3f2ba07647aec518bec1929b16561d1a340400\\expr.png\" style=\"display:inline;vertical-align:middle;\" /></a></span></td></tr>\n",
       "<tr><td>&nbsp;</td><td colspan=4 style-\"text-align:left\"><a class=\"ProveItLink\" href=\"..\\..\\..\\number\\numeral\\decimal\\_proofs_\\add_1_1.ipynb\">proveit.number.numeral.decimal.add_1_1</a></td></tr><tr><td>5</td><td>theorem</td><td></td><td><span style=\"font-size:20px;\"> &#x22A2;&nbsp;<a class=\"ProveItLink\" href=\"..\\..\\..\\number\\numeral\\decimal\\__pv_it\\21aa4b60034093b61b7d779cdd54bc7d2d51c73e0\\expr.ipynb\"><img src=\"..\\..\\..\\number\\numeral\\decimal\\__pv_it\\21aa4b60034093b61b7d779cdd54bc7d2d51c73e0\\expr.png\" style=\"display:inline;vertical-align:middle;\" /></a></span></td></tr>\n",
       "<tr><td>&nbsp;</td><td colspan=4 style-\"text-align:left\"><a class=\"ProveItLink\" href=\"..\\..\\..\\number\\numeral\\decimal\\_proofs_\\add_2_1.ipynb\">proveit.number.numeral.decimal.add_2_1</a></td></tr>"
      ],
      "text/plain": [
       "<proveit._core_.proof.Specialization instance at 0x00000000091C2DC8>"
      ]
     },
     "execution_count": 15,
     "metadata": {},
     "output_type": "execute_result"
    }
   ],
   "source": [
    "And(TRUE, TRUE, TRUE).evaluation().proof()"
   ]
  },
  {
   "cell_type": "code",
   "execution_count": 16,
   "metadata": {
    "collapsed": false,
    "deletable": true,
    "editable": true
   },
   "outputs": [
    {
     "data": {
      "text/html": [
       "<table><tr><th>&nbsp;</th><th>step type</th><th>requirements</th><th>statement</th></tr>\n",
       "<tr><td>0</td><td>theorem</td><td></td><td><span style=\"font-size:20px;\"> &#x22A2;&nbsp;<a class=\"ProveItLink\" href=\"..\\negation\\__pv_it\\01165fd25131c0df966b8e8c1626e275fd04f3050\\expr.ipynb\"><img src=\"..\\negation\\__pv_it\\01165fd25131c0df966b8e8c1626e275fd04f3050\\expr.png\" style=\"display:inline;vertical-align:middle;\" /></a></span></td></tr>\n",
       "<tr><td>&nbsp;</td><td colspan=4 style-\"text-align:left\"><a class=\"ProveItLink\" href=\"..\\negation\\_proofs_\\notFalse.ipynb\">proveit.logic.boolean.negation.notFalse</a></td></tr>"
      ],
      "text/plain": [
       "<proveit._core_.proof.Theorem instance at 0x0000000008850A08>"
      ]
     },
     "execution_count": 16,
     "metadata": {},
     "output_type": "execute_result"
    }
   ],
   "source": [
    "Not(FALSE).prove().proof()"
   ]
  },
  {
   "cell_type": "code",
   "execution_count": 17,
   "metadata": {
    "collapsed": false,
    "deletable": true,
    "editable": true
   },
   "outputs": [
    {
     "data": {
      "text/html": [
       "<table><tr><th>&nbsp;</th><th>step type</th><th>requirements</th><th>statement</th></tr>\n",
       "<tr><td>0</td><td>specialization</td><td>1, 2, 3</td><td><span style=\"font-size:20px;\"> &#x22A2;&nbsp;<a class=\"ProveItLink\" href=\"__pv_it\\f5adcd719b05bafa1bd3afcd6087e46c85f514880\\expr.ipynb\"><img src=\"__pv_it\\f5adcd719b05bafa1bd3afcd6087e46c85f514880\\expr.png\" style=\"display:inline;vertical-align:middle;\" /></a></span></td></tr>\n",
       "<tr><td>&nbsp;</td><td colspan=4 style=\"text-align:left\"><span style=\"font-size:20px;\"><a class=\"ProveItLink\" href=\"__pv_it\\b2607271ab16dc31aa223e0b391e90133350571d0\\expr.ipynb\"><img src=\"__pv_it\\b2607271ab16dc31aa223e0b391e90133350571d0\\expr.png\" style=\"display:inline;vertical-align:middle;\" /></a>, <a class=\"ProveItLink\" href=\"__pv_it\\13fb9fccddbe030c93c2fc63b7e8586dd920b0ff0\\expr.ipynb\"><img src=\"__pv_it\\13fb9fccddbe030c93c2fc63b7e8586dd920b0ff0\\expr.png\" style=\"display:inline;vertical-align:middle;\" /></a>, <a class=\"ProveItLink\" href=\"__pv_it\\7f78af5729f4f406cb9d094b4f8d3c7ef1cf6e180\\expr.ipynb\"><img src=\"__pv_it\\7f78af5729f4f406cb9d094b4f8d3c7ef1cf6e180\\expr.png\" style=\"display:inline;vertical-align:middle;\" /></a></span></td></tr><tr><td>1</td><td>axiom</td><td></td><td><span style=\"font-size:20px;\"> &#x22A2;&nbsp;<a class=\"ProveItLink\" href=\"..\\..\\equality\\__pv_it\\8568f704f865c42c6973d1dbf089a1e8c8b69dcf0\\expr.ipynb\"><img src=\"..\\..\\equality\\__pv_it\\8568f704f865c42c6973d1dbf089a1e8c8b69dcf0\\expr.png\" style=\"display:inline;vertical-align:middle;\" /></a></span></td></tr>\n",
       "<tr><td>&nbsp;</td><td colspan=4 style-\"text-align:left\"><a class=\"ProveItLink\" href=\"..\\..\\equality\\_axioms_.ipynb#equalsTransitivity\">proveit.logic.equality.equalsTransitivity</a></td></tr><tr><td>2</td><td>specialization</td><td>4, 5</td><td><span style=\"font-size:20px;\"> &#x22A2;&nbsp;<a class=\"ProveItLink\" href=\"__pv_it\\c73256e2fe7c2dec0e574447ee472e60213e27050\\expr.ipynb\"><img src=\"__pv_it\\c73256e2fe7c2dec0e574447ee472e60213e27050\\expr.png\" style=\"display:inline;vertical-align:middle;\" /></a></span></td></tr>\n",
       "<tr><td>&nbsp;</td><td colspan=4 style=\"text-align:left\"><span style=\"font-size:20px;\"><a class=\"ProveItLink\" href=\"__pv_it\\98ea6140c93cd61354a0b2f7077cb6b60677186a0\\expr.ipynb\"><img src=\"__pv_it\\98ea6140c93cd61354a0b2f7077cb6b60677186a0\\expr.png\" style=\"display:inline;vertical-align:middle;\" /></a>, <a class=\"ProveItLink\" href=\"__pv_it\\d26b6c429936d5d53cef8ff1bd67cacb920b716e0\\expr.ipynb\"><img src=\"__pv_it\\d26b6c429936d5d53cef8ff1bd67cacb920b716e0\\expr.png\" style=\"display:inline;vertical-align:middle;\" /></a>, <a class=\"ProveItLink\" href=\"__pv_it\\2737a2247b400aa2282d989b70bdb7d0af7eb9b80\\expr.ipynb\"><img src=\"__pv_it\\2737a2247b400aa2282d989b70bdb7d0af7eb9b80\\expr.png\" style=\"display:inline;vertical-align:middle;\" /></a></span></td></tr><tr><td>3</td><td>specialization</td><td>6, 7, 8, 9, 10</td><td><span style=\"font-size:20px;\"> &#x22A2;&nbsp;<a class=\"ProveItLink\" href=\"__pv_it\\a9e718e251f915d4ceee90af6867080678bc77320\\expr.ipynb\"><img src=\"__pv_it\\a9e718e251f915d4ceee90af6867080678bc77320\\expr.png\" style=\"display:inline;vertical-align:middle;\" /></a></span></td></tr>\n",
       "<tr><td>&nbsp;</td><td colspan=4 style=\"text-align:left\"><span style=\"font-size:20px;\"><a class=\"ProveItLink\" href=\"__pv_it\\a5fbc5c392095b77a86937360732b3ebcf05fbd90\\expr.ipynb\"><img src=\"__pv_it\\a5fbc5c392095b77a86937360732b3ebcf05fbd90\\expr.png\" style=\"display:inline;vertical-align:middle;\" /></a>, <a class=\"ProveItLink\" href=\"__pv_it\\e7d8df570f8c701af280b1327d76c6b9ba99edd10\\expr.ipynb\"><img src=\"__pv_it\\e7d8df570f8c701af280b1327d76c6b9ba99edd10\\expr.png\" style=\"display:inline;vertical-align:middle;\" /></a></span></td></tr><tr><td>4</td><td>axiom</td><td></td><td><span style=\"font-size:20px;\"> &#x22A2;&nbsp;<a class=\"ProveItLink\" href=\"..\\..\\equality\\__pv_it\\bbfdd4b897b23eab94ccd38e967c2b310ba4362c0\\expr.ipynb\"><img src=\"..\\..\\equality\\__pv_it\\bbfdd4b897b23eab94ccd38e967c2b310ba4362c0\\expr.png\" style=\"display:inline;vertical-align:middle;\" /></a></span></td></tr>\n",
       "<tr><td>&nbsp;</td><td colspan=4 style-\"text-align:left\"><a class=\"ProveItLink\" href=\"..\\..\\equality\\_axioms_.ipynb#substitution\">proveit.logic.equality.substitution</a></td></tr><tr><td>5</td><td>theorem</td><td></td><td><span style=\"font-size:20px;\"> &#x22A2;&nbsp;<a class=\"ProveItLink\" href=\"..\\negation\\__pv_it\\d15a94745248812aa8487be134f06c9c5d8bf36b0\\expr.ipynb\"><img src=\"..\\negation\\__pv_it\\d15a94745248812aa8487be134f06c9c5d8bf36b0\\expr.png\" style=\"display:inline;vertical-align:middle;\" /></a></span></td></tr>\n",
       "<tr><td>&nbsp;</td><td colspan=4 style-\"text-align:left\"><a class=\"ProveItLink\" href=\"..\\negation\\_proofs_\\notF.ipynb\">proveit.logic.boolean.negation.notF</a></td></tr><tr><td>6</td><td>theorem</td><td></td><td><span style=\"font-size:20px;\"> &#x22A2;&nbsp;<a class=\"ProveItLink\" href=\"__pv_it\\81bdb5004cc89cf6b102ccd5a93621614aefba8c0\\expr.ipynb\"><img src=\"__pv_it\\81bdb5004cc89cf6b102ccd5a93621614aefba8c0\\expr.png\" style=\"display:inline;vertical-align:middle;\" /></a></span></td></tr>\n",
       "<tr><td>&nbsp;</td><td colspan=4 style-\"text-align:left\"><a class=\"ProveItLink\" href=\"_proofs_\\trueEval.ipynb\">proveit.logic.boolean.conjunction.trueEval</a></td></tr><tr><td>7</td><td>theorem</td><td></td><td><span style=\"font-size:20px;\"> &#x22A2;&nbsp;<a class=\"ProveItLink\" href=\"..\\..\\..\\number\\numeral\\decimal\\__pv_it\\106bf174ef7755d5609db086689abcc208d6bf3d0\\expr.ipynb\"><img src=\"..\\..\\..\\number\\numeral\\decimal\\__pv_it\\106bf174ef7755d5609db086689abcc208d6bf3d0\\expr.png\" style=\"display:inline;vertical-align:middle;\" /></a></span></td></tr>\n",
       "<tr><td>&nbsp;</td><td colspan=4 style-\"text-align:left\"><a class=\"ProveItLink\" href=\"..\\..\\..\\number\\numeral\\decimal\\_proofs_\\nat3.ipynb\">proveit.number.numeral.decimal.nat3</a></td></tr><tr><td>8</td><td>axiom</td><td></td><td><span style=\"font-size:20px;\"> &#x22A2;&nbsp;<a class=\"ProveItLink\" href=\"..\\__pv_it\\68a87cc3370287d726c7086ace789e680e4461c30\\expr.ipynb\"><img src=\"..\\__pv_it\\68a87cc3370287d726c7086ace789e680e4461c30\\expr.png\" style=\"display:inline;vertical-align:middle;\" /></a></span></td></tr>\n",
       "<tr><td>&nbsp;</td><td colspan=4 style-\"text-align:left\"><a class=\"ProveItLink\" href=\"..\\_axioms_.ipynb#trueAxiom\">proveit.logic.boolean.trueAxiom</a></td></tr><tr><td>9</td><td>theorem</td><td></td><td><span style=\"font-size:20px;\"> &#x22A2;&nbsp;<a class=\"ProveItLink\" href=\"..\\..\\..\\number\\numeral\\decimal\\__pv_it\\c5d3f2ba07647aec518bec1929b16561d1a340400\\expr.ipynb\"><img src=\"..\\..\\..\\number\\numeral\\decimal\\__pv_it\\c5d3f2ba07647aec518bec1929b16561d1a340400\\expr.png\" style=\"display:inline;vertical-align:middle;\" /></a></span></td></tr>\n",
       "<tr><td>&nbsp;</td><td colspan=4 style-\"text-align:left\"><a class=\"ProveItLink\" href=\"..\\..\\..\\number\\numeral\\decimal\\_proofs_\\add_1_1.ipynb\">proveit.number.numeral.decimal.add_1_1</a></td></tr><tr><td>10</td><td>theorem</td><td></td><td><span style=\"font-size:20px;\"> &#x22A2;&nbsp;<a class=\"ProveItLink\" href=\"..\\..\\..\\number\\numeral\\decimal\\__pv_it\\21aa4b60034093b61b7d779cdd54bc7d2d51c73e0\\expr.ipynb\"><img src=\"..\\..\\..\\number\\numeral\\decimal\\__pv_it\\21aa4b60034093b61b7d779cdd54bc7d2d51c73e0\\expr.png\" style=\"display:inline;vertical-align:middle;\" /></a></span></td></tr>\n",
       "<tr><td>&nbsp;</td><td colspan=4 style-\"text-align:left\"><a class=\"ProveItLink\" href=\"..\\..\\..\\number\\numeral\\decimal\\_proofs_\\add_2_1.ipynb\">proveit.number.numeral.decimal.add_2_1</a></td></tr>"
      ],
      "text/plain": [
       "<proveit._core_.proof.Specialization instance at 0x000000000A3B9F48>"
      ]
     },
     "execution_count": 17,
     "metadata": {},
     "output_type": "execute_result"
    }
   ],
   "source": [
    "And(TRUE, Not(FALSE), TRUE).evaluation().proof()"
   ]
  },
  {
   "cell_type": "code",
   "execution_count": 18,
   "metadata": {
    "collapsed": false,
    "deletable": true,
    "editable": true
   },
   "outputs": [
    {
     "data": {
      "text/html": [
       "<table><tr><th>&nbsp;</th><th>step type</th><th>requirements</th><th>statement</th></tr>\n",
       "<tr><td>0</td><td>specialization</td><td>1, 2</td><td><span style=\"font-size:20px;\"> &#x22A2;&nbsp;<a class=\"ProveItLink\" href=\"__pv_it\\ab0b163a5ef2a7ca08e291e707e4a928a5fff2310\\expr.ipynb\"><img src=\"__pv_it\\ab0b163a5ef2a7ca08e291e707e4a928a5fff2310\\expr.png\" style=\"display:inline;vertical-align:middle;\" /></a></span></td></tr>\n",
       "<tr><td>&nbsp;</td><td colspan=4 style=\"text-align:left\"><span style=\"font-size:20px;\"><a class=\"ProveItLink\" href=\"__pv_it\\8072673b9c90c4e00c617c77f244f58cd2bebd5b0\\expr.ipynb\"><img src=\"__pv_it\\8072673b9c90c4e00c617c77f244f58cd2bebd5b0\\expr.png\" style=\"display:inline;vertical-align:middle;\" /></a></span></td></tr><tr><td>1</td><td>axiom</td><td></td><td><span style=\"font-size:20px;\"> &#x22A2;&nbsp;<a class=\"ProveItLink\" href=\"..\\__pv_it\\1abd0401f7baebea707022eba957f2c3d2c647cd0\\expr.ipynb\"><img src=\"..\\__pv_it\\1abd0401f7baebea707022eba957f2c3d2c647cd0\\expr.png\" style=\"display:inline;vertical-align:middle;\" /></a></span></td></tr>\n",
       "<tr><td>&nbsp;</td><td colspan=4 style-\"text-align:left\"><a class=\"ProveItLink\" href=\"..\\_axioms_.ipynb#eqTrueElim\">proveit.logic.boolean.eqTrueElim</a></td></tr><tr><td>2</td><td>specialization</td><td>3, 4, 5</td><td><span style=\"font-size:20px;\"> &#x22A2;&nbsp;<a class=\"ProveItLink\" href=\"__pv_it\\f5adcd719b05bafa1bd3afcd6087e46c85f514880\\expr.ipynb\"><img src=\"__pv_it\\f5adcd719b05bafa1bd3afcd6087e46c85f514880\\expr.png\" style=\"display:inline;vertical-align:middle;\" /></a></span></td></tr>\n",
       "<tr><td>&nbsp;</td><td colspan=4 style=\"text-align:left\"><span style=\"font-size:20px;\"><a class=\"ProveItLink\" href=\"__pv_it\\b2607271ab16dc31aa223e0b391e90133350571d0\\expr.ipynb\"><img src=\"__pv_it\\b2607271ab16dc31aa223e0b391e90133350571d0\\expr.png\" style=\"display:inline;vertical-align:middle;\" /></a>, <a class=\"ProveItLink\" href=\"__pv_it\\13fb9fccddbe030c93c2fc63b7e8586dd920b0ff0\\expr.ipynb\"><img src=\"__pv_it\\13fb9fccddbe030c93c2fc63b7e8586dd920b0ff0\\expr.png\" style=\"display:inline;vertical-align:middle;\" /></a>, <a class=\"ProveItLink\" href=\"__pv_it\\7f78af5729f4f406cb9d094b4f8d3c7ef1cf6e180\\expr.ipynb\"><img src=\"__pv_it\\7f78af5729f4f406cb9d094b4f8d3c7ef1cf6e180\\expr.png\" style=\"display:inline;vertical-align:middle;\" /></a></span></td></tr><tr><td>3</td><td>axiom</td><td></td><td><span style=\"font-size:20px;\"> &#x22A2;&nbsp;<a class=\"ProveItLink\" href=\"..\\..\\equality\\__pv_it\\8568f704f865c42c6973d1dbf089a1e8c8b69dcf0\\expr.ipynb\"><img src=\"..\\..\\equality\\__pv_it\\8568f704f865c42c6973d1dbf089a1e8c8b69dcf0\\expr.png\" style=\"display:inline;vertical-align:middle;\" /></a></span></td></tr>\n",
       "<tr><td>&nbsp;</td><td colspan=4 style-\"text-align:left\"><a class=\"ProveItLink\" href=\"..\\..\\equality\\_axioms_.ipynb#equalsTransitivity\">proveit.logic.equality.equalsTransitivity</a></td></tr><tr><td>4</td><td>specialization</td><td>6, 7</td><td><span style=\"font-size:20px;\"> &#x22A2;&nbsp;<a class=\"ProveItLink\" href=\"__pv_it\\c73256e2fe7c2dec0e574447ee472e60213e27050\\expr.ipynb\"><img src=\"__pv_it\\c73256e2fe7c2dec0e574447ee472e60213e27050\\expr.png\" style=\"display:inline;vertical-align:middle;\" /></a></span></td></tr>\n",
       "<tr><td>&nbsp;</td><td colspan=4 style=\"text-align:left\"><span style=\"font-size:20px;\"><a class=\"ProveItLink\" href=\"__pv_it\\98ea6140c93cd61354a0b2f7077cb6b60677186a0\\expr.ipynb\"><img src=\"__pv_it\\98ea6140c93cd61354a0b2f7077cb6b60677186a0\\expr.png\" style=\"display:inline;vertical-align:middle;\" /></a>, <a class=\"ProveItLink\" href=\"__pv_it\\d26b6c429936d5d53cef8ff1bd67cacb920b716e0\\expr.ipynb\"><img src=\"__pv_it\\d26b6c429936d5d53cef8ff1bd67cacb920b716e0\\expr.png\" style=\"display:inline;vertical-align:middle;\" /></a>, <a class=\"ProveItLink\" href=\"__pv_it\\2737a2247b400aa2282d989b70bdb7d0af7eb9b80\\expr.ipynb\"><img src=\"__pv_it\\2737a2247b400aa2282d989b70bdb7d0af7eb9b80\\expr.png\" style=\"display:inline;vertical-align:middle;\" /></a></span></td></tr><tr><td>5</td><td>specialization</td><td>8, 9, 10, 11, 12</td><td><span style=\"font-size:20px;\"> &#x22A2;&nbsp;<a class=\"ProveItLink\" href=\"__pv_it\\a9e718e251f915d4ceee90af6867080678bc77320\\expr.ipynb\"><img src=\"__pv_it\\a9e718e251f915d4ceee90af6867080678bc77320\\expr.png\" style=\"display:inline;vertical-align:middle;\" /></a></span></td></tr>\n",
       "<tr><td>&nbsp;</td><td colspan=4 style=\"text-align:left\"><span style=\"font-size:20px;\"><a class=\"ProveItLink\" href=\"__pv_it\\a5fbc5c392095b77a86937360732b3ebcf05fbd90\\expr.ipynb\"><img src=\"__pv_it\\a5fbc5c392095b77a86937360732b3ebcf05fbd90\\expr.png\" style=\"display:inline;vertical-align:middle;\" /></a>, <a class=\"ProveItLink\" href=\"__pv_it\\e7d8df570f8c701af280b1327d76c6b9ba99edd10\\expr.ipynb\"><img src=\"__pv_it\\e7d8df570f8c701af280b1327d76c6b9ba99edd10\\expr.png\" style=\"display:inline;vertical-align:middle;\" /></a></span></td></tr><tr><td>6</td><td>axiom</td><td></td><td><span style=\"font-size:20px;\"> &#x22A2;&nbsp;<a class=\"ProveItLink\" href=\"..\\..\\equality\\__pv_it\\bbfdd4b897b23eab94ccd38e967c2b310ba4362c0\\expr.ipynb\"><img src=\"..\\..\\equality\\__pv_it\\bbfdd4b897b23eab94ccd38e967c2b310ba4362c0\\expr.png\" style=\"display:inline;vertical-align:middle;\" /></a></span></td></tr>\n",
       "<tr><td>&nbsp;</td><td colspan=4 style-\"text-align:left\"><a class=\"ProveItLink\" href=\"..\\..\\equality\\_axioms_.ipynb#substitution\">proveit.logic.equality.substitution</a></td></tr><tr><td>7</td><td>theorem</td><td></td><td><span style=\"font-size:20px;\"> &#x22A2;&nbsp;<a class=\"ProveItLink\" href=\"..\\negation\\__pv_it\\d15a94745248812aa8487be134f06c9c5d8bf36b0\\expr.ipynb\"><img src=\"..\\negation\\__pv_it\\d15a94745248812aa8487be134f06c9c5d8bf36b0\\expr.png\" style=\"display:inline;vertical-align:middle;\" /></a></span></td></tr>\n",
       "<tr><td>&nbsp;</td><td colspan=4 style-\"text-align:left\"><a class=\"ProveItLink\" href=\"..\\negation\\_proofs_\\notF.ipynb\">proveit.logic.boolean.negation.notF</a></td></tr><tr><td>8</td><td>theorem</td><td></td><td><span style=\"font-size:20px;\"> &#x22A2;&nbsp;<a class=\"ProveItLink\" href=\"__pv_it\\81bdb5004cc89cf6b102ccd5a93621614aefba8c0\\expr.ipynb\"><img src=\"__pv_it\\81bdb5004cc89cf6b102ccd5a93621614aefba8c0\\expr.png\" style=\"display:inline;vertical-align:middle;\" /></a></span></td></tr>\n",
       "<tr><td>&nbsp;</td><td colspan=4 style-\"text-align:left\"><a class=\"ProveItLink\" href=\"_proofs_\\trueEval.ipynb\">proveit.logic.boolean.conjunction.trueEval</a></td></tr><tr><td>9</td><td>theorem</td><td></td><td><span style=\"font-size:20px;\"> &#x22A2;&nbsp;<a class=\"ProveItLink\" href=\"..\\..\\..\\number\\numeral\\decimal\\__pv_it\\106bf174ef7755d5609db086689abcc208d6bf3d0\\expr.ipynb\"><img src=\"..\\..\\..\\number\\numeral\\decimal\\__pv_it\\106bf174ef7755d5609db086689abcc208d6bf3d0\\expr.png\" style=\"display:inline;vertical-align:middle;\" /></a></span></td></tr>\n",
       "<tr><td>&nbsp;</td><td colspan=4 style-\"text-align:left\"><a class=\"ProveItLink\" href=\"..\\..\\..\\number\\numeral\\decimal\\_proofs_\\nat3.ipynb\">proveit.number.numeral.decimal.nat3</a></td></tr><tr><td>10</td><td>axiom</td><td></td><td><span style=\"font-size:20px;\"> &#x22A2;&nbsp;<a class=\"ProveItLink\" href=\"..\\__pv_it\\68a87cc3370287d726c7086ace789e680e4461c30\\expr.ipynb\"><img src=\"..\\__pv_it\\68a87cc3370287d726c7086ace789e680e4461c30\\expr.png\" style=\"display:inline;vertical-align:middle;\" /></a></span></td></tr>\n",
       "<tr><td>&nbsp;</td><td colspan=4 style-\"text-align:left\"><a class=\"ProveItLink\" href=\"..\\_axioms_.ipynb#trueAxiom\">proveit.logic.boolean.trueAxiom</a></td></tr><tr><td>11</td><td>theorem</td><td></td><td><span style=\"font-size:20px;\"> &#x22A2;&nbsp;<a class=\"ProveItLink\" href=\"..\\..\\..\\number\\numeral\\decimal\\__pv_it\\c5d3f2ba07647aec518bec1929b16561d1a340400\\expr.ipynb\"><img src=\"..\\..\\..\\number\\numeral\\decimal\\__pv_it\\c5d3f2ba07647aec518bec1929b16561d1a340400\\expr.png\" style=\"display:inline;vertical-align:middle;\" /></a></span></td></tr>\n",
       "<tr><td>&nbsp;</td><td colspan=4 style-\"text-align:left\"><a class=\"ProveItLink\" href=\"..\\..\\..\\number\\numeral\\decimal\\_proofs_\\add_1_1.ipynb\">proveit.number.numeral.decimal.add_1_1</a></td></tr><tr><td>12</td><td>theorem</td><td></td><td><span style=\"font-size:20px;\"> &#x22A2;&nbsp;<a class=\"ProveItLink\" href=\"..\\..\\..\\number\\numeral\\decimal\\__pv_it\\21aa4b60034093b61b7d779cdd54bc7d2d51c73e0\\expr.ipynb\"><img src=\"..\\..\\..\\number\\numeral\\decimal\\__pv_it\\21aa4b60034093b61b7d779cdd54bc7d2d51c73e0\\expr.png\" style=\"display:inline;vertical-align:middle;\" /></a></span></td></tr>\n",
       "<tr><td>&nbsp;</td><td colspan=4 style-\"text-align:left\"><a class=\"ProveItLink\" href=\"..\\..\\..\\number\\numeral\\decimal\\_proofs_\\add_2_1.ipynb\">proveit.number.numeral.decimal.add_2_1</a></td></tr>"
      ],
      "text/plain": [
       "<proveit._core_.proof.Specialization instance at 0x000000000A7793C8>"
      ]
     },
     "execution_count": 18,
     "metadata": {},
     "output_type": "execute_result"
    }
   ],
   "source": [
    "And(TRUE, Not(FALSE), TRUE).prove().proof()"
   ]
  },
  {
   "cell_type": "code",
   "execution_count": 19,
   "metadata": {
    "collapsed": false,
    "deletable": true,
    "editable": true
   },
   "outputs": [
    {
     "data": {
      "text/html": [
       "<table><tr><th>&nbsp;</th><th>step type</th><th>requirements</th><th>statement</th></tr>\n",
       "<tr><td>0</td><td>specialization</td><td>1, 2, 3</td><td><span style=\"font-size:20px;\"> &#x22A2;&nbsp;<a class=\"ProveItLink\" href=\"__pv_it\\f5adcd719b05bafa1bd3afcd6087e46c85f514880\\expr.ipynb\"><img src=\"__pv_it\\f5adcd719b05bafa1bd3afcd6087e46c85f514880\\expr.png\" style=\"display:inline;vertical-align:middle;\" /></a></span></td></tr>\n",
       "<tr><td>&nbsp;</td><td colspan=4 style=\"text-align:left\"><span style=\"font-size:20px;\"><a class=\"ProveItLink\" href=\"__pv_it\\b2607271ab16dc31aa223e0b391e90133350571d0\\expr.ipynb\"><img src=\"__pv_it\\b2607271ab16dc31aa223e0b391e90133350571d0\\expr.png\" style=\"display:inline;vertical-align:middle;\" /></a>, <a class=\"ProveItLink\" href=\"__pv_it\\13fb9fccddbe030c93c2fc63b7e8586dd920b0ff0\\expr.ipynb\"><img src=\"__pv_it\\13fb9fccddbe030c93c2fc63b7e8586dd920b0ff0\\expr.png\" style=\"display:inline;vertical-align:middle;\" /></a>, <a class=\"ProveItLink\" href=\"__pv_it\\7f78af5729f4f406cb9d094b4f8d3c7ef1cf6e180\\expr.ipynb\"><img src=\"__pv_it\\7f78af5729f4f406cb9d094b4f8d3c7ef1cf6e180\\expr.png\" style=\"display:inline;vertical-align:middle;\" /></a></span></td></tr><tr><td>1</td><td>axiom</td><td></td><td><span style=\"font-size:20px;\"> &#x22A2;&nbsp;<a class=\"ProveItLink\" href=\"..\\..\\equality\\__pv_it\\8568f704f865c42c6973d1dbf089a1e8c8b69dcf0\\expr.ipynb\"><img src=\"..\\..\\equality\\__pv_it\\8568f704f865c42c6973d1dbf089a1e8c8b69dcf0\\expr.png\" style=\"display:inline;vertical-align:middle;\" /></a></span></td></tr>\n",
       "<tr><td>&nbsp;</td><td colspan=4 style-\"text-align:left\"><a class=\"ProveItLink\" href=\"..\\..\\equality\\_axioms_.ipynb#equalsTransitivity\">proveit.logic.equality.equalsTransitivity</a></td></tr><tr><td>2</td><td>specialization</td><td>4, 5</td><td><span style=\"font-size:20px;\"> &#x22A2;&nbsp;<a class=\"ProveItLink\" href=\"__pv_it\\c73256e2fe7c2dec0e574447ee472e60213e27050\\expr.ipynb\"><img src=\"__pv_it\\c73256e2fe7c2dec0e574447ee472e60213e27050\\expr.png\" style=\"display:inline;vertical-align:middle;\" /></a></span></td></tr>\n",
       "<tr><td>&nbsp;</td><td colspan=4 style=\"text-align:left\"><span style=\"font-size:20px;\"><a class=\"ProveItLink\" href=\"__pv_it\\98ea6140c93cd61354a0b2f7077cb6b60677186a0\\expr.ipynb\"><img src=\"__pv_it\\98ea6140c93cd61354a0b2f7077cb6b60677186a0\\expr.png\" style=\"display:inline;vertical-align:middle;\" /></a>, <a class=\"ProveItLink\" href=\"__pv_it\\d26b6c429936d5d53cef8ff1bd67cacb920b716e0\\expr.ipynb\"><img src=\"__pv_it\\d26b6c429936d5d53cef8ff1bd67cacb920b716e0\\expr.png\" style=\"display:inline;vertical-align:middle;\" /></a>, <a class=\"ProveItLink\" href=\"__pv_it\\2737a2247b400aa2282d989b70bdb7d0af7eb9b80\\expr.ipynb\"><img src=\"__pv_it\\2737a2247b400aa2282d989b70bdb7d0af7eb9b80\\expr.png\" style=\"display:inline;vertical-align:middle;\" /></a></span></td></tr><tr><td>3</td><td>specialization</td><td>6, 7, 8, 9, 10</td><td><span style=\"font-size:20px;\"> &#x22A2;&nbsp;<a class=\"ProveItLink\" href=\"__pv_it\\a9e718e251f915d4ceee90af6867080678bc77320\\expr.ipynb\"><img src=\"__pv_it\\a9e718e251f915d4ceee90af6867080678bc77320\\expr.png\" style=\"display:inline;vertical-align:middle;\" /></a></span></td></tr>\n",
       "<tr><td>&nbsp;</td><td colspan=4 style=\"text-align:left\"><span style=\"font-size:20px;\"><a class=\"ProveItLink\" href=\"__pv_it\\a5fbc5c392095b77a86937360732b3ebcf05fbd90\\expr.ipynb\"><img src=\"__pv_it\\a5fbc5c392095b77a86937360732b3ebcf05fbd90\\expr.png\" style=\"display:inline;vertical-align:middle;\" /></a>, <a class=\"ProveItLink\" href=\"__pv_it\\e7d8df570f8c701af280b1327d76c6b9ba99edd10\\expr.ipynb\"><img src=\"__pv_it\\e7d8df570f8c701af280b1327d76c6b9ba99edd10\\expr.png\" style=\"display:inline;vertical-align:middle;\" /></a></span></td></tr><tr><td>4</td><td>axiom</td><td></td><td><span style=\"font-size:20px;\"> &#x22A2;&nbsp;<a class=\"ProveItLink\" href=\"..\\..\\equality\\__pv_it\\bbfdd4b897b23eab94ccd38e967c2b310ba4362c0\\expr.ipynb\"><img src=\"..\\..\\equality\\__pv_it\\bbfdd4b897b23eab94ccd38e967c2b310ba4362c0\\expr.png\" style=\"display:inline;vertical-align:middle;\" /></a></span></td></tr>\n",
       "<tr><td>&nbsp;</td><td colspan=4 style-\"text-align:left\"><a class=\"ProveItLink\" href=\"..\\..\\equality\\_axioms_.ipynb#substitution\">proveit.logic.equality.substitution</a></td></tr><tr><td>5</td><td>theorem</td><td></td><td><span style=\"font-size:20px;\"> &#x22A2;&nbsp;<a class=\"ProveItLink\" href=\"..\\negation\\__pv_it\\d15a94745248812aa8487be134f06c9c5d8bf36b0\\expr.ipynb\"><img src=\"..\\negation\\__pv_it\\d15a94745248812aa8487be134f06c9c5d8bf36b0\\expr.png\" style=\"display:inline;vertical-align:middle;\" /></a></span></td></tr>\n",
       "<tr><td>&nbsp;</td><td colspan=4 style-\"text-align:left\"><a class=\"ProveItLink\" href=\"..\\negation\\_proofs_\\notF.ipynb\">proveit.logic.boolean.negation.notF</a></td></tr><tr><td>6</td><td>theorem</td><td></td><td><span style=\"font-size:20px;\"> &#x22A2;&nbsp;<a class=\"ProveItLink\" href=\"__pv_it\\81bdb5004cc89cf6b102ccd5a93621614aefba8c0\\expr.ipynb\"><img src=\"__pv_it\\81bdb5004cc89cf6b102ccd5a93621614aefba8c0\\expr.png\" style=\"display:inline;vertical-align:middle;\" /></a></span></td></tr>\n",
       "<tr><td>&nbsp;</td><td colspan=4 style-\"text-align:left\"><a class=\"ProveItLink\" href=\"_proofs_\\trueEval.ipynb\">proveit.logic.boolean.conjunction.trueEval</a></td></tr><tr><td>7</td><td>theorem</td><td></td><td><span style=\"font-size:20px;\"> &#x22A2;&nbsp;<a class=\"ProveItLink\" href=\"..\\..\\..\\number\\numeral\\decimal\\__pv_it\\106bf174ef7755d5609db086689abcc208d6bf3d0\\expr.ipynb\"><img src=\"..\\..\\..\\number\\numeral\\decimal\\__pv_it\\106bf174ef7755d5609db086689abcc208d6bf3d0\\expr.png\" style=\"display:inline;vertical-align:middle;\" /></a></span></td></tr>\n",
       "<tr><td>&nbsp;</td><td colspan=4 style-\"text-align:left\"><a class=\"ProveItLink\" href=\"..\\..\\..\\number\\numeral\\decimal\\_proofs_\\nat3.ipynb\">proveit.number.numeral.decimal.nat3</a></td></tr><tr><td>8</td><td>axiom</td><td></td><td><span style=\"font-size:20px;\"> &#x22A2;&nbsp;<a class=\"ProveItLink\" href=\"..\\__pv_it\\68a87cc3370287d726c7086ace789e680e4461c30\\expr.ipynb\"><img src=\"..\\__pv_it\\68a87cc3370287d726c7086ace789e680e4461c30\\expr.png\" style=\"display:inline;vertical-align:middle;\" /></a></span></td></tr>\n",
       "<tr><td>&nbsp;</td><td colspan=4 style-\"text-align:left\"><a class=\"ProveItLink\" href=\"..\\_axioms_.ipynb#trueAxiom\">proveit.logic.boolean.trueAxiom</a></td></tr><tr><td>9</td><td>theorem</td><td></td><td><span style=\"font-size:20px;\"> &#x22A2;&nbsp;<a class=\"ProveItLink\" href=\"..\\..\\..\\number\\numeral\\decimal\\__pv_it\\c5d3f2ba07647aec518bec1929b16561d1a340400\\expr.ipynb\"><img src=\"..\\..\\..\\number\\numeral\\decimal\\__pv_it\\c5d3f2ba07647aec518bec1929b16561d1a340400\\expr.png\" style=\"display:inline;vertical-align:middle;\" /></a></span></td></tr>\n",
       "<tr><td>&nbsp;</td><td colspan=4 style-\"text-align:left\"><a class=\"ProveItLink\" href=\"..\\..\\..\\number\\numeral\\decimal\\_proofs_\\add_1_1.ipynb\">proveit.number.numeral.decimal.add_1_1</a></td></tr><tr><td>10</td><td>theorem</td><td></td><td><span style=\"font-size:20px;\"> &#x22A2;&nbsp;<a class=\"ProveItLink\" href=\"..\\..\\..\\number\\numeral\\decimal\\__pv_it\\21aa4b60034093b61b7d779cdd54bc7d2d51c73e0\\expr.ipynb\"><img src=\"..\\..\\..\\number\\numeral\\decimal\\__pv_it\\21aa4b60034093b61b7d779cdd54bc7d2d51c73e0\\expr.png\" style=\"display:inline;vertical-align:middle;\" /></a></span></td></tr>\n",
       "<tr><td>&nbsp;</td><td colspan=4 style-\"text-align:left\"><a class=\"ProveItLink\" href=\"..\\..\\..\\number\\numeral\\decimal\\_proofs_\\add_2_1.ipynb\">proveit.number.numeral.decimal.add_2_1</a></td></tr>"
      ],
      "text/plain": [
       "<proveit._core_.proof.Specialization instance at 0x000000000A3B9F48>"
      ]
     },
     "execution_count": 19,
     "metadata": {},
     "output_type": "execute_result"
    }
   ],
   "source": [
    "And(TRUE, Not(FALSE), TRUE).evaluation().proof()"
   ]
  },
  {
   "cell_type": "code",
   "execution_count": 20,
   "metadata": {
    "collapsed": false,
    "deletable": true,
    "editable": true
   },
   "outputs": [
    {
     "data": {
      "text/html": [
       "<table><tr><th>&nbsp;</th><th>step type</th><th>requirements</th><th>statement</th></tr>\n",
       "<tr><td>0</td><td>specialization</td><td>1, 2, 3</td><td><span style=\"font-size:20px;\"> &#x22A2;&nbsp;<a class=\"ProveItLink\" href=\"__pv_it\\6d6e70461d97ebfd09153883ac60fa1a6af9565f0\\expr.ipynb\"><img src=\"__pv_it\\6d6e70461d97ebfd09153883ac60fa1a6af9565f0\\expr.png\" style=\"display:inline;vertical-align:middle;\" /></a></span></td></tr>\n",
       "<tr><td>&nbsp;</td><td colspan=4 style=\"text-align:left\"><span style=\"font-size:20px;\"><a class=\"ProveItLink\" href=\"__pv_it\\e03a641e5d242cd09867511cbeee1526fe5281db0\\expr.ipynb\"><img src=\"__pv_it\\e03a641e5d242cd09867511cbeee1526fe5281db0\\expr.png\" style=\"display:inline;vertical-align:middle;\" /></a>, <a class=\"ProveItLink\" href=\"__pv_it\\3634366daeca417624f83fef96fdf24986da32b20\\expr.ipynb\"><img src=\"__pv_it\\3634366daeca417624f83fef96fdf24986da32b20\\expr.png\" style=\"display:inline;vertical-align:middle;\" /></a>, <a class=\"ProveItLink\" href=\"__pv_it\\7f78af5729f4f406cb9d094b4f8d3c7ef1cf6e180\\expr.ipynb\"><img src=\"__pv_it\\7f78af5729f4f406cb9d094b4f8d3c7ef1cf6e180\\expr.png\" style=\"display:inline;vertical-align:middle;\" /></a></span></td></tr><tr><td>1</td><td>axiom</td><td></td><td><span style=\"font-size:20px;\"> &#x22A2;&nbsp;<a class=\"ProveItLink\" href=\"..\\..\\equality\\__pv_it\\8568f704f865c42c6973d1dbf089a1e8c8b69dcf0\\expr.ipynb\"><img src=\"..\\..\\equality\\__pv_it\\8568f704f865c42c6973d1dbf089a1e8c8b69dcf0\\expr.png\" style=\"display:inline;vertical-align:middle;\" /></a></span></td></tr>\n",
       "<tr><td>&nbsp;</td><td colspan=4 style-\"text-align:left\"><a class=\"ProveItLink\" href=\"..\\..\\equality\\_axioms_.ipynb#equalsTransitivity\">proveit.logic.equality.equalsTransitivity</a></td></tr><tr><td>2</td><td>specialization</td><td>4, 5</td><td><span style=\"font-size:20px;\"> &#x22A2;&nbsp;<a class=\"ProveItLink\" href=\"__pv_it\\acecd1b32acfeb620124f1ef23a200d3a46673030\\expr.ipynb\"><img src=\"__pv_it\\acecd1b32acfeb620124f1ef23a200d3a46673030\\expr.png\" style=\"display:inline;vertical-align:middle;\" /></a></span></td></tr>\n",
       "<tr><td>&nbsp;</td><td colspan=4 style=\"text-align:left\"><span style=\"font-size:20px;\"><a class=\"ProveItLink\" href=\"__pv_it\\2ace9fd9dc75138b47d71d0f2f337d18462359570\\expr.ipynb\"><img src=\"__pv_it\\2ace9fd9dc75138b47d71d0f2f337d18462359570\\expr.png\" style=\"display:inline;vertical-align:middle;\" /></a>, <a class=\"ProveItLink\" href=\"__pv_it\\a6f7f9d96279aae3fda96f2986763e04a9aa62700\\expr.ipynb\"><img src=\"__pv_it\\a6f7f9d96279aae3fda96f2986763e04a9aa62700\\expr.png\" style=\"display:inline;vertical-align:middle;\" /></a>, <a class=\"ProveItLink\" href=\"__pv_it\\2737a2247b400aa2282d989b70bdb7d0af7eb9b80\\expr.ipynb\"><img src=\"__pv_it\\2737a2247b400aa2282d989b70bdb7d0af7eb9b80\\expr.png\" style=\"display:inline;vertical-align:middle;\" /></a></span></td></tr><tr><td>3</td><td>axiom</td><td></td><td><span style=\"font-size:20px;\"> &#x22A2;&nbsp;<a class=\"ProveItLink\" href=\"__pv_it\\8898576b5e2da836accfecb245314d00556cd07d0\\expr.ipynb\"><img src=\"__pv_it\\8898576b5e2da836accfecb245314d00556cd07d0\\expr.png\" style=\"display:inline;vertical-align:middle;\" /></a></span></td></tr>\n",
       "<tr><td>&nbsp;</td><td colspan=4 style-\"text-align:left\"><a class=\"ProveItLink\" href=\"_axioms_.ipynb#andTT\">proveit.logic.boolean.conjunction.andTT</a></td></tr><tr><td>4</td><td>axiom</td><td></td><td><span style=\"font-size:20px;\"> &#x22A2;&nbsp;<a class=\"ProveItLink\" href=\"..\\..\\equality\\__pv_it\\bbfdd4b897b23eab94ccd38e967c2b310ba4362c0\\expr.ipynb\"><img src=\"..\\..\\equality\\__pv_it\\bbfdd4b897b23eab94ccd38e967c2b310ba4362c0\\expr.png\" style=\"display:inline;vertical-align:middle;\" /></a></span></td></tr>\n",
       "<tr><td>&nbsp;</td><td colspan=4 style-\"text-align:left\"><a class=\"ProveItLink\" href=\"..\\..\\equality\\_axioms_.ipynb#substitution\">proveit.logic.equality.substitution</a></td></tr><tr><td>5</td><td>axiom</td><td></td><td><span style=\"font-size:20px;\"> &#x22A2;&nbsp;<a class=\"ProveItLink\" href=\"..\\disjunction\\__pv_it\\c6a5e272e6b810bb3e810161783e4a60ed64985c0\\expr.ipynb\"><img src=\"..\\disjunction\\__pv_it\\c6a5e272e6b810bb3e810161783e4a60ed64985c0\\expr.png\" style=\"display:inline;vertical-align:middle;\" /></a></span></td></tr>\n",
       "<tr><td>&nbsp;</td><td colspan=4 style-\"text-align:left\"><a class=\"ProveItLink\" href=\"..\\disjunction\\_axioms_.ipynb#orTF\">proveit.logic.boolean.disjunction.orTF</a></td></tr>"
      ],
      "text/plain": [
       "<proveit._core_.proof.Specialization instance at 0x000000000AD34608>"
      ]
     },
     "execution_count": 20,
     "metadata": {},
     "output_type": "execute_result"
    }
   ],
   "source": [
    "And(TRUE, Or(TRUE, FALSE)).evaluation().proof()"
   ]
  },
  {
   "cell_type": "code",
   "execution_count": 21,
   "metadata": {
    "collapsed": false,
    "deletable": true,
    "editable": true
   },
   "outputs": [
    {
     "data": {
      "text/html": [
       "<table><tr><th>&nbsp;</th><th>step type</th><th>requirements</th><th>statement</th></tr>\n",
       "<tr><td>0</td><td>specialization</td><td>1, 2, 3</td><td><span style=\"font-size:20px;\"> &#x22A2;&nbsp;<a class=\"ProveItLink\" href=\"__pv_it\\e5544dca52d2b72d406c63b94a5c451676d6d30c0\\expr.ipynb\"><img src=\"__pv_it\\e5544dca52d2b72d406c63b94a5c451676d6d30c0\\expr.png\" style=\"display:inline;vertical-align:middle;\" /></a></span></td></tr>\n",
       "<tr><td>&nbsp;</td><td colspan=4 style=\"text-align:left\"><span style=\"font-size:20px;\"><a class=\"ProveItLink\" href=\"__pv_it\\997875afa71ff79f8b51a4210e7738acc38bf6340\\expr.ipynb\"><img src=\"__pv_it\\997875afa71ff79f8b51a4210e7738acc38bf6340\\expr.png\" style=\"display:inline;vertical-align:middle;\" /></a>, <a class=\"ProveItLink\" href=\"__pv_it\\87db3ef7abc3792797eba5e18ddc59e0ed541a8a0\\expr.ipynb\"><img src=\"__pv_it\\87db3ef7abc3792797eba5e18ddc59e0ed541a8a0\\expr.png\" style=\"display:inline;vertical-align:middle;\" /></a>, <a class=\"ProveItLink\" href=\"__pv_it\\20e652c74f6b8f6bdcf099f7b50a98cd7123dd220\\expr.ipynb\"><img src=\"__pv_it\\20e652c74f6b8f6bdcf099f7b50a98cd7123dd220\\expr.png\" style=\"display:inline;vertical-align:middle;\" /></a></span></td></tr><tr><td>1</td><td>axiom</td><td></td><td><span style=\"font-size:20px;\"> &#x22A2;&nbsp;<a class=\"ProveItLink\" href=\"..\\..\\equality\\__pv_it\\8568f704f865c42c6973d1dbf089a1e8c8b69dcf0\\expr.ipynb\"><img src=\"..\\..\\equality\\__pv_it\\8568f704f865c42c6973d1dbf089a1e8c8b69dcf0\\expr.png\" style=\"display:inline;vertical-align:middle;\" /></a></span></td></tr>\n",
       "<tr><td>&nbsp;</td><td colspan=4 style-\"text-align:left\"><a class=\"ProveItLink\" href=\"..\\..\\equality\\_axioms_.ipynb#equalsTransitivity\">proveit.logic.equality.equalsTransitivity</a></td></tr><tr><td>2</td><td>specialization</td><td>4, 5</td><td><span style=\"font-size:20px;\"> &#x22A2;&nbsp;<a class=\"ProveItLink\" href=\"__pv_it\\93e3ce0427b51baed73655aaa523308e9363311d0\\expr.ipynb\"><img src=\"__pv_it\\93e3ce0427b51baed73655aaa523308e9363311d0\\expr.png\" style=\"display:inline;vertical-align:middle;\" /></a></span></td></tr>\n",
       "<tr><td>&nbsp;</td><td colspan=4 style=\"text-align:left\"><span style=\"font-size:20px;\"><a class=\"ProveItLink\" href=\"__pv_it\\c1e79593fd2fc600c3cf963edccb6800b16d76010\\expr.ipynb\"><img src=\"__pv_it\\c1e79593fd2fc600c3cf963edccb6800b16d76010\\expr.png\" style=\"display:inline;vertical-align:middle;\" /></a>, <a class=\"ProveItLink\" href=\"__pv_it\\a6f7f9d96279aae3fda96f2986763e04a9aa62700\\expr.ipynb\"><img src=\"__pv_it\\a6f7f9d96279aae3fda96f2986763e04a9aa62700\\expr.png\" style=\"display:inline;vertical-align:middle;\" /></a>, <a class=\"ProveItLink\" href=\"__pv_it\\2737a2247b400aa2282d989b70bdb7d0af7eb9b80\\expr.ipynb\"><img src=\"__pv_it\\2737a2247b400aa2282d989b70bdb7d0af7eb9b80\\expr.png\" style=\"display:inline;vertical-align:middle;\" /></a></span></td></tr><tr><td>3</td><td>specialization</td><td>6, 7, 8, 9, 10, 11, 12</td><td><span style=\"font-size:20px;\"> &#x22A2;&nbsp;<a class=\"ProveItLink\" href=\"__pv_it\\fb5d8433ae91db5c5a6bbe02c23aeff21834753d0\\expr.ipynb\"><img src=\"__pv_it\\fb5d8433ae91db5c5a6bbe02c23aeff21834753d0\\expr.png\" style=\"display:inline;vertical-align:middle;\" /></a></span></td></tr>\n",
       "<tr><td>&nbsp;</td><td colspan=4 style=\"text-align:left\"><span style=\"font-size:20px;\"><a class=\"ProveItLink\" href=\"__pv_it\\f6e4ba41612be4eeec32c2045b02a3be499426530\\expr.ipynb\"><img src=\"__pv_it\\f6e4ba41612be4eeec32c2045b02a3be499426530\\expr.png\" style=\"display:inline;vertical-align:middle;\" /></a>, <a class=\"ProveItLink\" href=\"__pv_it\\cd43d03b030a4717a89f5ba6a519518d9c4fd9bd0\\expr.ipynb\"><img src=\"__pv_it\\cd43d03b030a4717a89f5ba6a519518d9c4fd9bd0\\expr.png\" style=\"display:inline;vertical-align:middle;\" /></a></span></td></tr><tr><td>4</td><td>axiom</td><td></td><td><span style=\"font-size:20px;\"> &#x22A2;&nbsp;<a class=\"ProveItLink\" href=\"..\\..\\equality\\__pv_it\\bbfdd4b897b23eab94ccd38e967c2b310ba4362c0\\expr.ipynb\"><img src=\"..\\..\\equality\\__pv_it\\bbfdd4b897b23eab94ccd38e967c2b310ba4362c0\\expr.png\" style=\"display:inline;vertical-align:middle;\" /></a></span></td></tr>\n",
       "<tr><td>&nbsp;</td><td colspan=4 style-\"text-align:left\"><a class=\"ProveItLink\" href=\"..\\..\\equality\\_axioms_.ipynb#substitution\">proveit.logic.equality.substitution</a></td></tr><tr><td>5</td><td>axiom</td><td></td><td><span style=\"font-size:20px;\"> &#x22A2;&nbsp;<a class=\"ProveItLink\" href=\"..\\disjunction\\__pv_it\\c6a5e272e6b810bb3e810161783e4a60ed64985c0\\expr.ipynb\"><img src=\"..\\disjunction\\__pv_it\\c6a5e272e6b810bb3e810161783e4a60ed64985c0\\expr.png\" style=\"display:inline;vertical-align:middle;\" /></a></span></td></tr>\n",
       "<tr><td>&nbsp;</td><td colspan=4 style-\"text-align:left\"><a class=\"ProveItLink\" href=\"..\\disjunction\\_axioms_.ipynb#orTF\">proveit.logic.boolean.disjunction.orTF</a></td></tr><tr><td>6</td><td>theorem</td><td></td><td><span style=\"font-size:20px;\"> &#x22A2;&nbsp;<a class=\"ProveItLink\" href=\"__pv_it\\95f3ad440d16d1045e67570e6e806316b33e92c40\\expr.ipynb\"><img src=\"__pv_it\\95f3ad440d16d1045e67570e6e806316b33e92c40\\expr.png\" style=\"display:inline;vertical-align:middle;\" /></a></span></td></tr>\n",
       "<tr><td>&nbsp;</td><td colspan=4 style-\"text-align:left\"><a class=\"ProveItLink\" href=\"_proofs_\\falseEval.ipynb\">proveit.logic.boolean.conjunction.falseEval</a></td></tr><tr><td>7</td><td>theorem</td><td></td><td><span style=\"font-size:20px;\"> &#x22A2;&nbsp;<a class=\"ProveItLink\" href=\"..\\..\\..\\number\\numeral\\decimal\\__pv_it\\286f0443dba55bdb259c90cef1db0ca273fac95e0\\expr.ipynb\"><img src=\"..\\..\\..\\number\\numeral\\decimal\\__pv_it\\286f0443dba55bdb259c90cef1db0ca273fac95e0\\expr.png\" style=\"display:inline;vertical-align:middle;\" /></a></span></td></tr>\n",
       "<tr><td>&nbsp;</td><td colspan=4 style-\"text-align:left\"><a class=\"ProveItLink\" href=\"..\\..\\..\\number\\numeral\\decimal\\_proofs_\\nat2.ipynb\">proveit.number.numeral.decimal.nat2</a></td></tr><tr><td>8</td><td>theorem</td><td></td><td><span style=\"font-size:20px;\"> &#x22A2;&nbsp;<a class=\"ProveItLink\" href=\"..\\..\\..\\number\\sets\\integer\\__pv_it\\50688835e4f8f7c7ea93ceb53b4c2bc2c084e66a0\\expr.ipynb\"><img src=\"..\\..\\..\\number\\sets\\integer\\__pv_it\\50688835e4f8f7c7ea93ceb53b4c2bc2c084e66a0\\expr.png\" style=\"display:inline;vertical-align:middle;\" /></a></span></td></tr>\n",
       "<tr><td>&nbsp;</td><td colspan=4 style-\"text-align:left\"><a class=\"ProveItLink\" href=\"..\\..\\..\\number\\sets\\integer\\_proofs_\\zeroInNats.ipynb\">proveit.number.sets.integer.zeroInNats</a></td></tr><tr><td>9</td><td>specialization</td><td>13, 14</td><td><span style=\"font-size:20px;\"> &#x22A2;&nbsp;<a class=\"ProveItLink\" href=\"__pv_it\\e54eb18f756cfa320620025005bca9857b5b3a400\\expr.ipynb\"><img src=\"__pv_it\\e54eb18f756cfa320620025005bca9857b5b3a400\\expr.png\" style=\"display:inline;vertical-align:middle;\" /></a></span></td></tr>\n",
       "<tr><td>&nbsp;</td><td colspan=4 style=\"text-align:left\"><span style=\"font-size:20px;\"><a class=\"ProveItLink\" href=\"__pv_it\\de5f108a75775476fe97c213c2c72ebae9a35ee40\\expr.ipynb\"><img src=\"__pv_it\\de5f108a75775476fe97c213c2c72ebae9a35ee40\\expr.png\" style=\"display:inline;vertical-align:middle;\" /></a>, <a class=\"ProveItLink\" href=\"__pv_it\\b07a0f0a9e6235a23d5fa59c9802c4f96cfd22ca0\\expr.ipynb\"><img src=\"__pv_it\\b07a0f0a9e6235a23d5fa59c9802c4f96cfd22ca0\\expr.png\" style=\"display:inline;vertical-align:middle;\" /></a></span></td></tr><tr><td>10</td><td>specialization</td><td>15, 16</td><td><span style=\"font-size:20px;\"> &#x22A2;&nbsp;<a class=\"ProveItLink\" href=\"__pv_it\\0226fe2d1b6fdca630dbc54733caa42c567c63400\\expr.ipynb\"><img src=\"__pv_it\\0226fe2d1b6fdca630dbc54733caa42c567c63400\\expr.png\" style=\"display:inline;vertical-align:middle;\" /></a></span></td></tr>\n",
       "<tr><td>&nbsp;</td><td colspan=4 style=\"text-align:left\"><span style=\"font-size:20px;\"><a class=\"ProveItLink\" href=\"__pv_it\\6d1ed20add3dab3ad47e67780e25854d69a723220\\expr.ipynb\"><img src=\"__pv_it\\6d1ed20add3dab3ad47e67780e25854d69a723220\\expr.png\" style=\"display:inline;vertical-align:middle;\" /></a>, <a class=\"ProveItLink\" href=\"__pv_it\\d56fc197801a18a39e9f26fb86e333c8dc90c9ae0\\expr.ipynb\"><img src=\"__pv_it\\d56fc197801a18a39e9f26fb86e333c8dc90c9ae0\\expr.png\" style=\"display:inline;vertical-align:middle;\" /></a></span></td></tr><tr><td>11</td><td>theorem</td><td></td><td><span style=\"font-size:20px;\"> &#x22A2;&nbsp;<a class=\"ProveItLink\" href=\"..\\..\\..\\number\\numeral\\decimal\\__pv_it\\c5d3f2ba07647aec518bec1929b16561d1a340400\\expr.ipynb\"><img src=\"..\\..\\..\\number\\numeral\\decimal\\__pv_it\\c5d3f2ba07647aec518bec1929b16561d1a340400\\expr.png\" style=\"display:inline;vertical-align:middle;\" /></a></span></td></tr>\n",
       "<tr><td>&nbsp;</td><td colspan=4 style-\"text-align:left\"><a class=\"ProveItLink\" href=\"..\\..\\..\\number\\numeral\\decimal\\_proofs_\\add_1_1.ipynb\">proveit.number.numeral.decimal.add_1_1</a></td></tr><tr><td>12</td><td>theorem</td><td></td><td><span style=\"font-size:20px;\"> &#x22A2;&nbsp;<a class=\"ProveItLink\" href=\"..\\..\\..\\number\\numeral\\decimal\\__pv_it\\d060bd26c883154e5b471568d486c4165d01a0d00\\expr.ipynb\"><img src=\"..\\..\\..\\number\\numeral\\decimal\\__pv_it\\d060bd26c883154e5b471568d486c4165d01a0d00\\expr.png\" style=\"display:inline;vertical-align:middle;\" /></a></span></td></tr>\n",
       "<tr><td>&nbsp;</td><td colspan=4 style-\"text-align:left\"><a class=\"ProveItLink\" href=\"..\\..\\..\\number\\numeral\\decimal\\_proofs_\\less_0_1.ipynb\">proveit.number.numeral.decimal.less_0_1</a></td></tr><tr><td>13</td><td>theorem</td><td></td><td><span style=\"font-size:20px;\"> &#x22A2;&nbsp;<a class=\"ProveItLink\" href=\"..\\..\\set_theory\\membership\\__pv_it\\dd0ce170312d2a0c3788f10c3828376205bb609c0\\expr.ipynb\"><img src=\"..\\..\\set_theory\\membership\\__pv_it\\dd0ce170312d2a0c3788f10c3828376205bb609c0\\expr.png\" style=\"display:inline;vertical-align:middle;\" /></a></span></td></tr>\n",
       "<tr><td>&nbsp;</td><td colspan=4 style-\"text-align:left\"><a class=\"ProveItLink\" href=\"..\\..\\set_theory\\membership\\_proofs_\\exp_set_2.ipynb\">proveit.logic.set_theory.membership.exp_set_2</a></td></tr><tr><td>14</td><td>theorem</td><td></td><td><span style=\"font-size:20px;\"> &#x22A2;&nbsp;<a class=\"ProveItLink\" href=\"..\\__pv_it\\3e7350f116816f72fa422609af12e912bbd1845d0\\expr.ipynb\"><img src=\"..\\__pv_it\\3e7350f116816f72fa422609af12e912bbd1845d0\\expr.png\" style=\"display:inline;vertical-align:middle;\" /></a></span></td></tr>\n",
       "<tr><td>&nbsp;</td><td colspan=4 style-\"text-align:left\"><a class=\"ProveItLink\" href=\"..\\_proofs_\\trueInBool.ipynb\">proveit.logic.boolean.trueInBool</a></td></tr><tr><td>15</td><td>theorem</td><td></td><td><span style=\"font-size:20px;\"> &#x22A2;&nbsp;<a class=\"ProveItLink\" href=\"..\\..\\set_theory\\membership\\__pv_it\\4298b770a2486765574dac38f09d72ecce8d9a5c0\\expr.ipynb\"><img src=\"..\\..\\set_theory\\membership\\__pv_it\\4298b770a2486765574dac38f09d72ecce8d9a5c0\\expr.png\" style=\"display:inline;vertical-align:middle;\" /></a></span></td></tr>\n",
       "<tr><td>&nbsp;</td><td colspan=4 style-\"text-align:left\"><a class=\"ProveItLink\" href=\"..\\..\\set_theory\\membership\\_proofs_\\exp_set_0.ipynb\">proveit.logic.set_theory.membership.exp_set_0</a></td></tr><tr><td>16</td><td>axiom</td><td></td><td><span style=\"font-size:20px;\"> &#x22A2;&nbsp;<a class=\"ProveItLink\" href=\"..\\..\\..\\number\\sets\\integer\\__pv_it\\195c4bf6af531822d1141a32b5dbc600e20fbc790\\expr.ipynb\"><img src=\"..\\..\\..\\number\\sets\\integer\\__pv_it\\195c4bf6af531822d1141a32b5dbc600e20fbc790\\expr.png\" style=\"display:inline;vertical-align:middle;\" /></a></span></td></tr>\n",
       "<tr><td>&nbsp;</td><td colspan=4 style-\"text-align:left\"><a class=\"ProveItLink\" href=\"..\\..\\..\\number\\sets\\integer\\_axioms_.ipynb#listLen0\">proveit.number.sets.integer.listLen0</a></td></tr>"
      ],
      "text/plain": [
       "<proveit._core_.proof.Specialization instance at 0x000000000B3DEF88>"
      ]
     },
     "execution_count": 21,
     "metadata": {},
     "output_type": "execute_result"
    }
   ],
   "source": [
    "And(TRUE, Or(TRUE, FALSE), FALSE).evaluation().proof()"
   ]
  },
  {
   "cell_type": "code",
   "execution_count": 22,
   "metadata": {
    "collapsed": false,
    "deletable": true,
    "editable": true
   },
   "outputs": [],
   "source": [
    "%end demonstrations"
   ]
  },
  {
   "cell_type": "code",
   "execution_count": 23,
   "metadata": {
    "collapsed": true,
    "deletable": true,
    "editable": true
   },
   "outputs": [],
   "source": []
  }
 ],
 "metadata": {
  "kernelspec": {
   "display_name": "Python 2",
   "language": "python",
   "name": "python2"
  },
  "language_info": {
   "codemirror_mode": {
    "name": "ipython",
    "version": 2
   },
   "file_extension": ".py",
   "mimetype": "text/x-python",
   "name": "python",
   "nbconvert_exporter": "python",
   "pygments_lexer": "ipython2",
   "version": "2.7.11"
  }
 },
 "nbformat": 4,
 "nbformat_minor": 0
}
