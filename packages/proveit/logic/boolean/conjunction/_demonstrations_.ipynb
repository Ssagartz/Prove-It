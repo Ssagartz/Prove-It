{
 "cells": [
  {
   "cell_type": "markdown",
   "metadata": {
    "collapsed": true,
    "deletable": true,
    "editable": true
   },
   "source": [
    "Demonstrations for context <a class=\"ProveItLink\" href=\"_context_.ipynb\">proveit.logic.boolean.conjunction</a>\n",
    "========"
   ]
  },
  {
   "cell_type": "code",
   "execution_count": 1,
   "metadata": {
    "collapsed": true,
    "deletable": true,
    "editable": true
   },
   "outputs": [],
   "source": [
    "from proveit.logic import And, Or, Not, TRUE, FALSE\n",
    "%begin demonstrations"
   ]
  },
  {
   "cell_type": "code",
   "execution_count": 2,
   "metadata": {
    "collapsed": false,
    "deletable": true,
    "editable": true
   },
   "outputs": [
    {
     "data": {
      "text/html": [
       "<table><tr><th>&nbsp;</th><th>step type</th><th>requirements</th><th>statement</th></tr>\n",
       "<tr><td>0</td><td>axiom</td><td></td><td><span style=\"font-size:20px;\"> &#x22A2;&nbsp;<a href=\"__pv_it\\3212ce8b206d3ab630362f515b0bc5faafb831960\\expr.ipynb\" target=\"_blank\"><img src=\"__pv_it\\3212ce8b206d3ab630362f515b0bc5faafb831960\\expr.png\" style=\"display:inline;vertical-align:middle;\" /></a></span></td></tr>\n",
       "<tr><td>&nbsp;</td><td colspan=4 style-\"text-align:left\"><a href=\"_axioms_.ipynb#andTT\" target=\"_blank\">proveit.logic.boolean.conjunction.andTT</a></td></tr>"
      ],
      "text/plain": [
       "<proveit._core_.proof.Axiom instance at 0x000000000658D588>"
      ]
     },
     "execution_count": 2,
     "metadata": {},
     "output_type": "execute_result"
    }
   ],
   "source": [
    "And(TRUE, TRUE).evaluate().proof()"
   ]
  },
  {
   "cell_type": "code",
   "execution_count": 3,
   "metadata": {
    "collapsed": false
   },
   "outputs": [
    {
     "data": {
      "text/html": [
       "<table><tr><th>&nbsp;</th><th>step type</th><th>requirements</th><th>statement</th></tr>\n",
       "<tr><td>0</td><td>specialization</td><td>1, 2, 2, 2</td><td><span style=\"font-size:20px;\"> &#x22A2;&nbsp;<a href=\"__pv_it\\2eeb31a717371b7dd9ce828a0ab62f04acc662be0\\expr.ipynb\" target=\"_blank\"><img src=\"__pv_it\\2eeb31a717371b7dd9ce828a0ab62f04acc662be0\\expr.png\" style=\"display:inline;vertical-align:middle;\" /></a></span></td></tr>\n",
       "<tr><td>&nbsp;</td><td colspan=4 style=\"text-align:left\"><span style=\"font-size:20px;\"><a href=\"__pv_it\\f3dbd5bb6e321c64d059ffaefd3cbc6e748cf8df0\\expr.ipynb\" target=\"_blank\"><img src=\"__pv_it\\f3dbd5bb6e321c64d059ffaefd3cbc6e748cf8df0\\expr.png\" style=\"display:inline;vertical-align:middle;\" /></a></span></td></tr><tr><td>1</td><td>theorem</td><td></td><td><span style=\"font-size:20px;\"> &#x22A2;&nbsp;<a href=\"__pv_it\\68af3b80cfe5b18425d3989cd450f76a23aa6b9d0\\expr.ipynb\" target=\"_blank\"><img src=\"__pv_it\\68af3b80cfe5b18425d3989cd450f76a23aa6b9d0\\expr.png\" style=\"display:inline;vertical-align:middle;\" /></a></span></td></tr>\n",
       "<tr><td>&nbsp;</td><td colspan=4 style-\"text-align:left\"><a href=\"_proofs_\\conjunctionTrueEval.ipynb\" target=\"_blank\">proveit.logic.boolean.conjunction.conjunctionTrueEval</a></td></tr><tr><td>2</td><td>axiom</td><td></td><td><span style=\"font-size:20px;\"> &#x22A2;&nbsp;<a href=\"..\\__pv_it\\bcacd17d2d009ecbf75058f732f40f2104c608320\\expr.ipynb\" target=\"_blank\"><img src=\"..\\__pv_it\\bcacd17d2d009ecbf75058f732f40f2104c608320\\expr.png\" style=\"display:inline;vertical-align:middle;\" /></a></span></td></tr>\n",
       "<tr><td>&nbsp;</td><td colspan=4 style-\"text-align:left\"><a href=\"..\\_axioms_.ipynb#trueAxiom\" target=\"_blank\">proveit.logic.boolean.trueAxiom</a></td></tr>"
      ],
      "text/plain": [
       "<proveit._core_.proof.Specialization instance at 0x0000000006A22F48>"
      ]
     },
     "execution_count": 3,
     "metadata": {},
     "output_type": "execute_result"
    }
   ],
   "source": [
    "And(TRUE, TRUE, TRUE).evaluate().proof()"
   ]
  },
  {
   "cell_type": "code",
   "execution_count": 4,
   "metadata": {
    "collapsed": false
   },
   "outputs": [
    {
     "data": {
      "text/html": [
       "<table><tr><th>&nbsp;</th><th>step type</th><th>requirements</th><th>statement</th></tr>\n",
       "<tr><td>0</td><td>theorem</td><td></td><td><span style=\"font-size:20px;\"> &#x22A2;&nbsp;<a href=\"..\\negation\\__pv_it\\0d44395a89fd59811250466525237a266acbd1150\\expr.ipynb\" target=\"_blank\"><img src=\"..\\negation\\__pv_it\\0d44395a89fd59811250466525237a266acbd1150\\expr.png\" style=\"display:inline;vertical-align:middle;\" /></a></span></td></tr>\n",
       "<tr><td>&nbsp;</td><td colspan=4 style-\"text-align:left\"><a href=\"..\\negation\\_proofs_\\notFalse.ipynb\" target=\"_blank\">proveit.logic.boolean.negation.notFalse</a></td></tr>"
      ],
      "text/plain": [
       "<proveit._core_.proof.Theorem instance at 0x0000000006570F08>"
      ]
     },
     "execution_count": 4,
     "metadata": {},
     "output_type": "execute_result"
    }
   ],
   "source": [
    "Not(FALSE).prove().proof()"
   ]
  },
  {
   "cell_type": "code",
   "execution_count": 5,
   "metadata": {
    "collapsed": false
   },
   "outputs": [
    {
     "data": {
      "text/html": [
       "<table><tr><th>&nbsp;</th><th>step type</th><th>requirements</th><th>statement</th></tr>\n",
       "<tr><td>0</td><td>specialization</td><td>1, 2</td><td><span style=\"font-size:20px;\"> &#x22A2;&nbsp;<a href=\"__pv_it\\e5d298402a337c3ed5093528c6b05903a65783910\\expr.ipynb\" target=\"_blank\"><img src=\"__pv_it\\e5d298402a337c3ed5093528c6b05903a65783910\\expr.png\" style=\"display:inline;vertical-align:middle;\" /></a></span></td></tr>\n",
       "<tr><td>&nbsp;</td><td colspan=4 style=\"text-align:left\"><span style=\"font-size:20px;\"><a href=\"__pv_it\\0852c82267913b416355611db6394cdce27c14e90\\expr.ipynb\" target=\"_blank\"><img src=\"__pv_it\\0852c82267913b416355611db6394cdce27c14e90\\expr.png\" style=\"display:inline;vertical-align:middle;\" /></a></span></td></tr><tr><td>1</td><td>axiom</td><td></td><td><span style=\"font-size:20px;\"> &#x22A2;&nbsp;<a href=\"..\\__pv_it\\8ac190437801bd0eefa35912c86faf4c574c7f5f0\\expr.ipynb\" target=\"_blank\"><img src=\"..\\__pv_it\\8ac190437801bd0eefa35912c86faf4c574c7f5f0\\expr.png\" style=\"display:inline;vertical-align:middle;\" /></a></span></td></tr>\n",
       "<tr><td>&nbsp;</td><td colspan=4 style-\"text-align:left\"><a href=\"..\\_axioms_.ipynb#eqTrueIntro\" target=\"_blank\">proveit.logic.boolean.eqTrueIntro</a></td></tr><tr><td>2</td><td>specialization</td><td>3, 5, 4, 5</td><td><span style=\"font-size:20px;\"> &#x22A2;&nbsp;<a href=\"__pv_it\\6b1d0795febe618e5f742e8d92bbaa6a63407f060\\expr.ipynb\" target=\"_blank\"><img src=\"__pv_it\\6b1d0795febe618e5f742e8d92bbaa6a63407f060\\expr.png\" style=\"display:inline;vertical-align:middle;\" /></a></span></td></tr>\n",
       "<tr><td>&nbsp;</td><td colspan=4 style=\"text-align:left\"><span style=\"font-size:20px;\"><a href=\"__pv_it\\373c5273068dcdd0ab9029a6d0c660086b26f3420\\expr.ipynb\" target=\"_blank\"><img src=\"__pv_it\\373c5273068dcdd0ab9029a6d0c660086b26f3420\\expr.png\" style=\"display:inline;vertical-align:middle;\" /></a></span></td></tr><tr><td>3</td><td>theorem</td><td></td><td><span style=\"font-size:20px;\"> &#x22A2;&nbsp;<a href=\"__pv_it\\2e0e3b340ca3cf9d4d27cae2b77a1a34c526e2140\\expr.ipynb\" target=\"_blank\"><img src=\"__pv_it\\2e0e3b340ca3cf9d4d27cae2b77a1a34c526e2140\\expr.png\" style=\"display:inline;vertical-align:middle;\" /></a></span></td></tr>\n",
       "<tr><td>&nbsp;</td><td colspan=4 style-\"text-align:left\"><a href=\"_proofs_\\andIfAll.ipynb\" target=\"_blank\">proveit.logic.boolean.conjunction.andIfAll</a></td></tr><tr><td>4</td><td>theorem</td><td></td><td><span style=\"font-size:20px;\"> &#x22A2;&nbsp;<a href=\"..\\negation\\__pv_it\\0d44395a89fd59811250466525237a266acbd1150\\expr.ipynb\" target=\"_blank\"><img src=\"..\\negation\\__pv_it\\0d44395a89fd59811250466525237a266acbd1150\\expr.png\" style=\"display:inline;vertical-align:middle;\" /></a></span></td></tr>\n",
       "<tr><td>&nbsp;</td><td colspan=4 style-\"text-align:left\"><a href=\"..\\negation\\_proofs_\\notFalse.ipynb\" target=\"_blank\">proveit.logic.boolean.negation.notFalse</a></td></tr><tr><td>5</td><td>axiom</td><td></td><td><span style=\"font-size:20px;\"> &#x22A2;&nbsp;<a href=\"..\\__pv_it\\bcacd17d2d009ecbf75058f732f40f2104c608320\\expr.ipynb\" target=\"_blank\"><img src=\"..\\__pv_it\\bcacd17d2d009ecbf75058f732f40f2104c608320\\expr.png\" style=\"display:inline;vertical-align:middle;\" /></a></span></td></tr>\n",
       "<tr><td>&nbsp;</td><td colspan=4 style-\"text-align:left\"><a href=\"..\\_axioms_.ipynb#trueAxiom\" target=\"_blank\">proveit.logic.boolean.trueAxiom</a></td></tr>"
      ],
      "text/plain": [
       "<proveit._core_.proof.Specialization instance at 0x0000000006E2DE48>"
      ]
     },
     "execution_count": 5,
     "metadata": {},
     "output_type": "execute_result"
    }
   ],
   "source": [
    "And(TRUE, Not(FALSE), TRUE).evaluate().proof()"
   ]
  },
  {
   "cell_type": "code",
   "execution_count": 6,
   "metadata": {
    "collapsed": false
   },
   "outputs": [
    {
     "data": {
      "text/html": [
       "<table><tr><th>&nbsp;</th><th>step type</th><th>requirements</th><th>statement</th></tr>\n",
       "<tr><td>0</td><td>specialization</td><td>1, 3, 2, 3</td><td><span style=\"font-size:20px;\"> &#x22A2;&nbsp;<a href=\"__pv_it\\6b1d0795febe618e5f742e8d92bbaa6a63407f060\\expr.ipynb\" target=\"_blank\"><img src=\"__pv_it\\6b1d0795febe618e5f742e8d92bbaa6a63407f060\\expr.png\" style=\"display:inline;vertical-align:middle;\" /></a></span></td></tr>\n",
       "<tr><td>&nbsp;</td><td colspan=4 style=\"text-align:left\"><span style=\"font-size:20px;\"><a href=\"__pv_it\\373c5273068dcdd0ab9029a6d0c660086b26f3420\\expr.ipynb\" target=\"_blank\"><img src=\"__pv_it\\373c5273068dcdd0ab9029a6d0c660086b26f3420\\expr.png\" style=\"display:inline;vertical-align:middle;\" /></a></span></td></tr><tr><td>1</td><td>theorem</td><td></td><td><span style=\"font-size:20px;\"> &#x22A2;&nbsp;<a href=\"__pv_it\\2e0e3b340ca3cf9d4d27cae2b77a1a34c526e2140\\expr.ipynb\" target=\"_blank\"><img src=\"__pv_it\\2e0e3b340ca3cf9d4d27cae2b77a1a34c526e2140\\expr.png\" style=\"display:inline;vertical-align:middle;\" /></a></span></td></tr>\n",
       "<tr><td>&nbsp;</td><td colspan=4 style-\"text-align:left\"><a href=\"_proofs_\\andIfAll.ipynb\" target=\"_blank\">proveit.logic.boolean.conjunction.andIfAll</a></td></tr><tr><td>2</td><td>theorem</td><td></td><td><span style=\"font-size:20px;\"> &#x22A2;&nbsp;<a href=\"..\\negation\\__pv_it\\0d44395a89fd59811250466525237a266acbd1150\\expr.ipynb\" target=\"_blank\"><img src=\"..\\negation\\__pv_it\\0d44395a89fd59811250466525237a266acbd1150\\expr.png\" style=\"display:inline;vertical-align:middle;\" /></a></span></td></tr>\n",
       "<tr><td>&nbsp;</td><td colspan=4 style-\"text-align:left\"><a href=\"..\\negation\\_proofs_\\notFalse.ipynb\" target=\"_blank\">proveit.logic.boolean.negation.notFalse</a></td></tr><tr><td>3</td><td>axiom</td><td></td><td><span style=\"font-size:20px;\"> &#x22A2;&nbsp;<a href=\"..\\__pv_it\\bcacd17d2d009ecbf75058f732f40f2104c608320\\expr.ipynb\" target=\"_blank\"><img src=\"..\\__pv_it\\bcacd17d2d009ecbf75058f732f40f2104c608320\\expr.png\" style=\"display:inline;vertical-align:middle;\" /></a></span></td></tr>\n",
       "<tr><td>&nbsp;</td><td colspan=4 style-\"text-align:left\"><a href=\"..\\_axioms_.ipynb#trueAxiom\" target=\"_blank\">proveit.logic.boolean.trueAxiom</a></td></tr>"
      ],
      "text/plain": [
       "<proveit._core_.proof.Specialization instance at 0x0000000006E53088>"
      ]
     },
     "execution_count": 6,
     "metadata": {},
     "output_type": "execute_result"
    }
   ],
   "source": [
    "And(TRUE, Not(FALSE), TRUE).prove().proof()"
   ]
  },
  {
   "cell_type": "code",
   "execution_count": 7,
   "metadata": {
    "collapsed": false
   },
   "outputs": [
    {
     "data": {
      "text/html": [
       "<table><tr><th>&nbsp;</th><th>step type</th><th>requirements</th><th>statement</th></tr>\n",
       "<tr><td>0</td><td>specialization</td><td>1, 2</td><td><span style=\"font-size:20px;\"> &#x22A2;&nbsp;<a href=\"__pv_it\\e5d298402a337c3ed5093528c6b05903a65783910\\expr.ipynb\" target=\"_blank\"><img src=\"__pv_it\\e5d298402a337c3ed5093528c6b05903a65783910\\expr.png\" style=\"display:inline;vertical-align:middle;\" /></a></span></td></tr>\n",
       "<tr><td>&nbsp;</td><td colspan=4 style=\"text-align:left\"><span style=\"font-size:20px;\"><a href=\"__pv_it\\0852c82267913b416355611db6394cdce27c14e90\\expr.ipynb\" target=\"_blank\"><img src=\"__pv_it\\0852c82267913b416355611db6394cdce27c14e90\\expr.png\" style=\"display:inline;vertical-align:middle;\" /></a></span></td></tr><tr><td>1</td><td>axiom</td><td></td><td><span style=\"font-size:20px;\"> &#x22A2;&nbsp;<a href=\"..\\__pv_it\\8ac190437801bd0eefa35912c86faf4c574c7f5f0\\expr.ipynb\" target=\"_blank\"><img src=\"..\\__pv_it\\8ac190437801bd0eefa35912c86faf4c574c7f5f0\\expr.png\" style=\"display:inline;vertical-align:middle;\" /></a></span></td></tr>\n",
       "<tr><td>&nbsp;</td><td colspan=4 style-\"text-align:left\"><a href=\"..\\_axioms_.ipynb#eqTrueIntro\" target=\"_blank\">proveit.logic.boolean.eqTrueIntro</a></td></tr><tr><td>2</td><td>specialization</td><td>3, 5, 4, 5</td><td><span style=\"font-size:20px;\"> &#x22A2;&nbsp;<a href=\"__pv_it\\6b1d0795febe618e5f742e8d92bbaa6a63407f060\\expr.ipynb\" target=\"_blank\"><img src=\"__pv_it\\6b1d0795febe618e5f742e8d92bbaa6a63407f060\\expr.png\" style=\"display:inline;vertical-align:middle;\" /></a></span></td></tr>\n",
       "<tr><td>&nbsp;</td><td colspan=4 style=\"text-align:left\"><span style=\"font-size:20px;\"><a href=\"__pv_it\\373c5273068dcdd0ab9029a6d0c660086b26f3420\\expr.ipynb\" target=\"_blank\"><img src=\"__pv_it\\373c5273068dcdd0ab9029a6d0c660086b26f3420\\expr.png\" style=\"display:inline;vertical-align:middle;\" /></a></span></td></tr><tr><td>3</td><td>theorem</td><td></td><td><span style=\"font-size:20px;\"> &#x22A2;&nbsp;<a href=\"__pv_it\\2e0e3b340ca3cf9d4d27cae2b77a1a34c526e2140\\expr.ipynb\" target=\"_blank\"><img src=\"__pv_it\\2e0e3b340ca3cf9d4d27cae2b77a1a34c526e2140\\expr.png\" style=\"display:inline;vertical-align:middle;\" /></a></span></td></tr>\n",
       "<tr><td>&nbsp;</td><td colspan=4 style-\"text-align:left\"><a href=\"_proofs_\\andIfAll.ipynb\" target=\"_blank\">proveit.logic.boolean.conjunction.andIfAll</a></td></tr><tr><td>4</td><td>theorem</td><td></td><td><span style=\"font-size:20px;\"> &#x22A2;&nbsp;<a href=\"..\\negation\\__pv_it\\0d44395a89fd59811250466525237a266acbd1150\\expr.ipynb\" target=\"_blank\"><img src=\"..\\negation\\__pv_it\\0d44395a89fd59811250466525237a266acbd1150\\expr.png\" style=\"display:inline;vertical-align:middle;\" /></a></span></td></tr>\n",
       "<tr><td>&nbsp;</td><td colspan=4 style-\"text-align:left\"><a href=\"..\\negation\\_proofs_\\notFalse.ipynb\" target=\"_blank\">proveit.logic.boolean.negation.notFalse</a></td></tr><tr><td>5</td><td>axiom</td><td></td><td><span style=\"font-size:20px;\"> &#x22A2;&nbsp;<a href=\"..\\__pv_it\\bcacd17d2d009ecbf75058f732f40f2104c608320\\expr.ipynb\" target=\"_blank\"><img src=\"..\\__pv_it\\bcacd17d2d009ecbf75058f732f40f2104c608320\\expr.png\" style=\"display:inline;vertical-align:middle;\" /></a></span></td></tr>\n",
       "<tr><td>&nbsp;</td><td colspan=4 style-\"text-align:left\"><a href=\"..\\_axioms_.ipynb#trueAxiom\" target=\"_blank\">proveit.logic.boolean.trueAxiom</a></td></tr>"
      ],
      "text/plain": [
       "<proveit._core_.proof.Specialization instance at 0x0000000006E2DE48>"
      ]
     },
     "execution_count": 7,
     "metadata": {},
     "output_type": "execute_result"
    }
   ],
   "source": [
    "And(TRUE, Not(FALSE), TRUE).evaluate().proof()"
   ]
  },
  {
   "cell_type": "code",
   "execution_count": 8,
   "metadata": {
    "collapsed": false
   },
   "outputs": [
    {
     "data": {
      "text/html": [
       "<table><tr><th>&nbsp;</th><th>step type</th><th>requirements</th><th>statement</th></tr>\n",
       "<tr><td>0</td><td>specialization</td><td>1, 2</td><td><span style=\"font-size:20px;\"> &#x22A2;&nbsp;<a href=\"__pv_it\\375936ac57356ca287917781684e35f8a67eba510\\expr.ipynb\" target=\"_blank\"><img src=\"__pv_it\\375936ac57356ca287917781684e35f8a67eba510\\expr.png\" style=\"display:inline;vertical-align:middle;\" /></a></span></td></tr>\n",
       "<tr><td>&nbsp;</td><td colspan=4 style=\"text-align:left\"><span style=\"font-size:20px;\"><a href=\"__pv_it\\d76e859ed3bf1ad2c6b737846b3657469de768040\\expr.ipynb\" target=\"_blank\"><img src=\"__pv_it\\d76e859ed3bf1ad2c6b737846b3657469de768040\\expr.png\" style=\"display:inline;vertical-align:middle;\" /></a></span></td></tr><tr><td>1</td><td>axiom</td><td></td><td><span style=\"font-size:20px;\"> &#x22A2;&nbsp;<a href=\"..\\__pv_it\\8ac190437801bd0eefa35912c86faf4c574c7f5f0\\expr.ipynb\" target=\"_blank\"><img src=\"..\\__pv_it\\8ac190437801bd0eefa35912c86faf4c574c7f5f0\\expr.png\" style=\"display:inline;vertical-align:middle;\" /></a></span></td></tr>\n",
       "<tr><td>&nbsp;</td><td colspan=4 style-\"text-align:left\"><a href=\"..\\_axioms_.ipynb#eqTrueIntro\" target=\"_blank\">proveit.logic.boolean.eqTrueIntro</a></td></tr><tr><td>2</td><td>specialization</td><td>3, 4, 5</td><td><span style=\"font-size:20px;\"> &#x22A2;&nbsp;<a href=\"__pv_it\\09870aa001e79570288554c0dd44dcd5f89735650\\expr.ipynb\" target=\"_blank\"><img src=\"__pv_it\\09870aa001e79570288554c0dd44dcd5f89735650\\expr.png\" style=\"display:inline;vertical-align:middle;\" /></a></span></td></tr>\n",
       "<tr><td>&nbsp;</td><td colspan=4 style=\"text-align:left\"><span style=\"font-size:20px;\"><a href=\"__pv_it\\eee7d35e771dfce7ce1a2511af728905b14b47c90\\expr.ipynb\" target=\"_blank\"><img src=\"__pv_it\\eee7d35e771dfce7ce1a2511af728905b14b47c90\\expr.png\" style=\"display:inline;vertical-align:middle;\" /></a>, <a href=\"__pv_it\\c5b0979ace3f29fc78c78134f6944cdda48e63d60\\expr.ipynb\" target=\"_blank\"><img src=\"__pv_it\\c5b0979ace3f29fc78c78134f6944cdda48e63d60\\expr.png\" style=\"display:inline;vertical-align:middle;\" /></a></span></td></tr><tr><td>3</td><td>theorem</td><td></td><td><span style=\"font-size:20px;\"> &#x22A2;&nbsp;<a href=\"__pv_it\\22f91b4d488d0d03eb950f612755d066f75e3ac70\\expr.ipynb\" target=\"_blank\"><img src=\"__pv_it\\22f91b4d488d0d03eb950f612755d066f75e3ac70\\expr.png\" style=\"display:inline;vertical-align:middle;\" /></a></span></td></tr>\n",
       "<tr><td>&nbsp;</td><td colspan=4 style-\"text-align:left\"><a href=\"_proofs_\\andIfBoth.ipynb\" target=\"_blank\">proveit.logic.boolean.conjunction.andIfBoth</a></td></tr><tr><td>4</td><td>axiom</td><td></td><td><span style=\"font-size:20px;\"> &#x22A2;&nbsp;<a href=\"..\\__pv_it\\bcacd17d2d009ecbf75058f732f40f2104c608320\\expr.ipynb\" target=\"_blank\"><img src=\"..\\__pv_it\\bcacd17d2d009ecbf75058f732f40f2104c608320\\expr.png\" style=\"display:inline;vertical-align:middle;\" /></a></span></td></tr>\n",
       "<tr><td>&nbsp;</td><td colspan=4 style-\"text-align:left\"><a href=\"..\\_axioms_.ipynb#trueAxiom\" target=\"_blank\">proveit.logic.boolean.trueAxiom</a></td></tr><tr><td>5</td><td>specialization</td><td>6, 7</td><td><span style=\"font-size:20px;\"> &#x22A2;&nbsp;<a href=\"__pv_it\\dbaa67fdc1ea69dfcaf47a8a6aa1046974ec105b0\\expr.ipynb\" target=\"_blank\"><img src=\"__pv_it\\dbaa67fdc1ea69dfcaf47a8a6aa1046974ec105b0\\expr.png\" style=\"display:inline;vertical-align:middle;\" /></a></span></td></tr>\n",
       "<tr><td>&nbsp;</td><td colspan=4 style=\"text-align:left\"><span style=\"font-size:20px;\"><a href=\"__pv_it\\57719c736daf60fba5af53cf20ffc8267cd6965f0\\expr.ipynb\" target=\"_blank\"><img src=\"__pv_it\\57719c736daf60fba5af53cf20ffc8267cd6965f0\\expr.png\" style=\"display:inline;vertical-align:middle;\" /></a></span></td></tr><tr><td>6</td><td>axiom</td><td></td><td><span style=\"font-size:20px;\"> &#x22A2;&nbsp;<a href=\"..\\__pv_it\\35b0a3ba67caf9ae1e44a8ea3fd5f5902c16f27b0\\expr.ipynb\" target=\"_blank\"><img src=\"..\\__pv_it\\35b0a3ba67caf9ae1e44a8ea3fd5f5902c16f27b0\\expr.png\" style=\"display:inline;vertical-align:middle;\" /></a></span></td></tr>\n",
       "<tr><td>&nbsp;</td><td colspan=4 style-\"text-align:left\"><a href=\"..\\_axioms_.ipynb#eqTrueElim\" target=\"_blank\">proveit.logic.boolean.eqTrueElim</a></td></tr><tr><td>7</td><td>axiom</td><td></td><td><span style=\"font-size:20px;\"> &#x22A2;&nbsp;<a href=\"..\\disjunction\\__pv_it\\9896082b6d140585130da6d2452722f712be8fc60\\expr.ipynb\" target=\"_blank\"><img src=\"..\\disjunction\\__pv_it\\9896082b6d140585130da6d2452722f712be8fc60\\expr.png\" style=\"display:inline;vertical-align:middle;\" /></a></span></td></tr>\n",
       "<tr><td>&nbsp;</td><td colspan=4 style-\"text-align:left\"><a href=\"..\\disjunction\\_axioms_.ipynb#orTF\" target=\"_blank\">proveit.logic.boolean.disjunction.orTF</a></td></tr>"
      ],
      "text/plain": [
       "<proveit._core_.proof.Specialization instance at 0x0000000007112D48>"
      ]
     },
     "execution_count": 8,
     "metadata": {},
     "output_type": "execute_result"
    }
   ],
   "source": [
    "And(TRUE, Or(TRUE, FALSE)).evaluate().proof()"
   ]
  },
  {
   "cell_type": "code",
   "execution_count": 9,
   "metadata": {
    "collapsed": false
   },
   "outputs": [
    {
     "data": {
      "text/html": [
       "<table><tr><th>&nbsp;</th><th>step type</th><th>requirements</th><th>statement</th></tr>\n",
       "<tr><td>0</td><td>specialization</td><td>1, 2, 3</td><td><span style=\"font-size:20px;\"> &#x22A2;&nbsp;<a href=\"__pv_it\\d90645143a617a11ab59274e7ff2d51d7ba8698e0\\expr.ipynb\" target=\"_blank\"><img src=\"__pv_it\\d90645143a617a11ab59274e7ff2d51d7ba8698e0\\expr.png\" style=\"display:inline;vertical-align:middle;\" /></a></span></td></tr>\n",
       "<tr><td>&nbsp;</td><td colspan=4 style=\"text-align:left\"><span style=\"font-size:20px;\"><a href=\"__pv_it\\5e6e479d1606e20bc36ab2c300493c166ba1e4310\\expr.ipynb\" target=\"_blank\"><img src=\"__pv_it\\5e6e479d1606e20bc36ab2c300493c166ba1e4310\\expr.png\" style=\"display:inline;vertical-align:middle;\" /></a>, <a href=\"__pv_it\\726337ba25cf3aa0581aa9ce1a931733ae9875a80\\expr.ipynb\" target=\"_blank\"><img src=\"__pv_it\\726337ba25cf3aa0581aa9ce1a931733ae9875a80\\expr.png\" style=\"display:inline;vertical-align:middle;\" /></a>, <a href=\"__pv_it\\4c312e5494d4efc4d6ac6456e0ba7355928db0d60\\expr.ipynb\" target=\"_blank\"><img src=\"__pv_it\\4c312e5494d4efc4d6ac6456e0ba7355928db0d60\\expr.png\" style=\"display:inline;vertical-align:middle;\" /></a></span></td></tr><tr><td>1</td><td>axiom</td><td></td><td><span style=\"font-size:20px;\"> &#x22A2;&nbsp;<a href=\"..\\..\\equality\\__pv_it\\035a666cf34adcaab3a4e671008eefd05f40bf790\\expr.ipynb\" target=\"_blank\"><img src=\"..\\..\\equality\\__pv_it\\035a666cf34adcaab3a4e671008eefd05f40bf790\\expr.png\" style=\"display:inline;vertical-align:middle;\" /></a></span></td></tr>\n",
       "<tr><td>&nbsp;</td><td colspan=4 style-\"text-align:left\"><a href=\"..\\..\\equality\\_axioms_.ipynb#equalsTransitivity\" target=\"_blank\">proveit.logic.equality.equalsTransitivity</a></td></tr><tr><td>2</td><td>specialization</td><td>4, 5</td><td><span style=\"font-size:20px;\"> &#x22A2;&nbsp;<a href=\"__pv_it\\3be6fa5438c3c692a690b484f89fd88a4b729de80\\expr.ipynb\" target=\"_blank\"><img src=\"__pv_it\\3be6fa5438c3c692a690b484f89fd88a4b729de80\\expr.png\" style=\"display:inline;vertical-align:middle;\" /></a></span></td></tr>\n",
       "<tr><td>&nbsp;</td><td colspan=4 style=\"text-align:left\"><span style=\"font-size:20px;\"><a href=\"__pv_it\\d9b8316fb146d575eac55284bd07f8c0c3cdb8a90\\expr.ipynb\" target=\"_blank\"><img src=\"__pv_it\\d9b8316fb146d575eac55284bd07f8c0c3cdb8a90\\expr.png\" style=\"display:inline;vertical-align:middle;\" /></a>, <a href=\"__pv_it\\037324c7f6ffda294bfe8708a5729779442c111e0\\expr.ipynb\" target=\"_blank\"><img src=\"__pv_it\\037324c7f6ffda294bfe8708a5729779442c111e0\\expr.png\" style=\"display:inline;vertical-align:middle;\" /></a>, <a href=\"__pv_it\\da9dfed6b84198b7c2e4f317bbaef163d2aa03ee0\\expr.ipynb\" target=\"_blank\"><img src=\"__pv_it\\da9dfed6b84198b7c2e4f317bbaef163d2aa03ee0\\expr.png\" style=\"display:inline;vertical-align:middle;\" /></a></span></td></tr><tr><td>3</td><td>specialization</td><td>6, 7, 7</td><td><span style=\"font-size:20px;\"> &#x22A2;&nbsp;<a href=\"__pv_it\\c4bf4a7a0c9fc1046913521e8e33818695a34d5f0\\expr.ipynb\" target=\"_blank\"><img src=\"__pv_it\\c4bf4a7a0c9fc1046913521e8e33818695a34d5f0\\expr.png\" style=\"display:inline;vertical-align:middle;\" /></a></span></td></tr>\n",
       "<tr><td>&nbsp;</td><td colspan=4 style=\"text-align:left\"><span style=\"font-size:20px;\"><a href=\"__pv_it\\96001cbc2ac5ef4c8682677afe94d864efd7adf40\\expr.ipynb\" target=\"_blank\"><img src=\"__pv_it\\96001cbc2ac5ef4c8682677afe94d864efd7adf40\\expr.png\" style=\"display:inline;vertical-align:middle;\" /></a>, <a href=\"__pv_it\\83219a4fa55c7a9771eb64f54e71d1ef66c2019d0\\expr.ipynb\" target=\"_blank\"><img src=\"__pv_it\\83219a4fa55c7a9771eb64f54e71d1ef66c2019d0\\expr.png\" style=\"display:inline;vertical-align:middle;\" /></a></span></td></tr><tr><td>4</td><td>axiom</td><td></td><td><span style=\"font-size:20px;\"> &#x22A2;&nbsp;<a href=\"..\\..\\equality\\__pv_it\\62300a7f16d8d724dedf5116e83a23b0c29e12e00\\expr.ipynb\" target=\"_blank\"><img src=\"..\\..\\equality\\__pv_it\\62300a7f16d8d724dedf5116e83a23b0c29e12e00\\expr.png\" style=\"display:inline;vertical-align:middle;\" /></a></span></td></tr>\n",
       "<tr><td>&nbsp;</td><td colspan=4 style-\"text-align:left\"><a href=\"..\\..\\equality\\_axioms_.ipynb#substitution\" target=\"_blank\">proveit.logic.equality.substitution</a></td></tr><tr><td>5</td><td>axiom</td><td></td><td><span style=\"font-size:20px;\"> &#x22A2;&nbsp;<a href=\"..\\disjunction\\__pv_it\\9896082b6d140585130da6d2452722f712be8fc60\\expr.ipynb\" target=\"_blank\"><img src=\"..\\disjunction\\__pv_it\\9896082b6d140585130da6d2452722f712be8fc60\\expr.png\" style=\"display:inline;vertical-align:middle;\" /></a></span></td></tr>\n",
       "<tr><td>&nbsp;</td><td colspan=4 style-\"text-align:left\"><a href=\"..\\disjunction\\_axioms_.ipynb#orTF\" target=\"_blank\">proveit.logic.boolean.disjunction.orTF</a></td></tr><tr><td>6</td><td>theorem</td><td></td><td><span style=\"font-size:20px;\"> &#x22A2;&nbsp;<a href=\"__pv_it\\027220a366c1e90517ed1084c1aab03c9ef5fab50\\expr.ipynb\" target=\"_blank\"><img src=\"__pv_it\\027220a366c1e90517ed1084c1aab03c9ef5fab50\\expr.png\" style=\"display:inline;vertical-align:middle;\" /></a></span></td></tr>\n",
       "<tr><td>&nbsp;</td><td colspan=4 style-\"text-align:left\"><a href=\"_proofs_\\conjunctionFalseEval.ipynb\" target=\"_blank\">proveit.logic.boolean.conjunction.conjunctionFalseEval</a></td></tr><tr><td>7</td><td>theorem</td><td></td><td><span style=\"font-size:20px;\"> &#x22A2;&nbsp;<a href=\"..\\__pv_it\\a7d9437c8d21a917e57967d1fff404c0ffa1196c0\\expr.ipynb\" target=\"_blank\"><img src=\"..\\__pv_it\\a7d9437c8d21a917e57967d1fff404c0ffa1196c0\\expr.png\" style=\"display:inline;vertical-align:middle;\" /></a></span></td></tr>\n",
       "<tr><td>&nbsp;</td><td colspan=4 style-\"text-align:left\"><a href=\"..\\_proofs_\\trueInBool.ipynb\" target=\"_blank\">proveit.logic.boolean.trueInBool</a></td></tr>"
      ],
      "text/plain": [
       "<proveit._core_.proof.Specialization instance at 0x0000000007519508>"
      ]
     },
     "execution_count": 9,
     "metadata": {},
     "output_type": "execute_result"
    }
   ],
   "source": [
    "And(TRUE, Or(TRUE, FALSE), FALSE).evaluate().proof()"
   ]
  },
  {
   "cell_type": "code",
   "execution_count": 10,
   "metadata": {
    "collapsed": true,
    "deletable": true,
    "editable": true
   },
   "outputs": [],
   "source": [
    "%end demonstrations"
   ]
  },
  {
   "cell_type": "code",
   "execution_count": null,
   "metadata": {
    "collapsed": true
   },
   "outputs": [],
   "source": []
  }
 ],
 "metadata": {
  "kernelspec": {
   "display_name": "Python 2",
   "language": "python",
   "name": "python2"
  },
  "language_info": {
   "codemirror_mode": {
    "name": "ipython",
    "version": 2
   },
   "file_extension": ".py",
   "mimetype": "text/x-python",
   "name": "python",
   "nbconvert_exporter": "python",
   "pygments_lexer": "ipython2",
   "version": "2.7.11"
  }
 },
 "nbformat": 4,
 "nbformat_minor": 0
}
