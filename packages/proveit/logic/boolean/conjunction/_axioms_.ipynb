{
 "cells": [
  {
   "cell_type": "markdown",
   "metadata": {
    "collapsed": true,
    "deletable": true,
    "editable": true
   },
   "source": [
    "Axioms for context <a href=\"_context_.ipynb\">proveit.logic.boolean.conjunction</a>\n",
    "========"
   ]
  },
  {
   "cell_type": "code",
   "execution_count": 1,
   "metadata": {
    "collapsed": false,
    "deletable": true,
    "editable": true,
    "scrolled": true
   },
   "outputs": [],
   "source": [
    "from proveit.logic import Equals, And, TRUE, FALSE, Forall, inBool\n",
    "from proveit._common_ import A, B, Bmulti, Betc"
   ]
  },
  {
   "cell_type": "code",
   "execution_count": 2,
   "metadata": {
    "collapsed": false,
    "deletable": true,
    "editable": true
   },
   "outputs": [
    {
     "name": "stdout",
     "output_type": "stream",
     "text": [
      "Defining axioms for context 'proveit.logic.boolean.conjunction'\n",
      "Subsequent end-of-cell assignments will define axioms\n",
      "%end_axioms will finalize the definitions\n"
     ]
    }
   ],
   "source": [
    "%begin_axioms"
   ]
  },
  {
   "cell_type": "markdown",
   "metadata": {
    "deletable": true,
    "editable": true
   },
   "source": [
    "### Truth table definitions:"
   ]
  },
  {
   "cell_type": "code",
   "execution_count": 3,
   "metadata": {
    "collapsed": false,
    "deletable": true,
    "editable": true
   },
   "outputs": [
    {
     "data": {
      "text/html": [
       "<strong id=\"andTT\">andTT:</strong> <a href=\"__pv_it\\3212ce8b206d3ab630362f515b0bc5faafb831960\\expr.ipynb\" target=\"_blank\"><img src=\"__pv_it\\3212ce8b206d3ab630362f515b0bc5faafb831960\\expr.png\" style=\"display:inline;vertical-align:middle;\" /></a><br>"
      ],
      "text/plain": [
       "andTT: (TRUE and TRUE) = TRUE"
      ]
     },
     "execution_count": 3,
     "metadata": {},
     "output_type": "execute_result"
    }
   ],
   "source": [
    "andTT = Equals(And(TRUE, TRUE), TRUE)"
   ]
  },
  {
   "cell_type": "code",
   "execution_count": 4,
   "metadata": {
    "collapsed": false,
    "deletable": true,
    "editable": true
   },
   "outputs": [
    {
     "data": {
      "text/html": [
       "<strong id=\"andTF\">andTF:</strong> <a href=\"__pv_it\\4c71057c636f80bc07ba780f209bcaced8c12c4b0\\expr.ipynb\" target=\"_blank\"><img src=\"__pv_it\\4c71057c636f80bc07ba780f209bcaced8c12c4b0\\expr.png\" style=\"display:inline;vertical-align:middle;\" /></a><br>"
      ],
      "text/plain": [
       "andTF: (TRUE and FALSE) = FALSE"
      ]
     },
     "execution_count": 4,
     "metadata": {},
     "output_type": "execute_result"
    }
   ],
   "source": [
    "andTF = Equals(And(TRUE, FALSE), FALSE)"
   ]
  },
  {
   "cell_type": "code",
   "execution_count": 5,
   "metadata": {
    "collapsed": false,
    "deletable": true,
    "editable": true
   },
   "outputs": [
    {
     "data": {
      "text/html": [
       "<strong id=\"andFT\">andFT:</strong> <a href=\"__pv_it\\1c0f3eae80804e89d06425a7b0b6de6f733e9ea30\\expr.ipynb\" target=\"_blank\"><img src=\"__pv_it\\1c0f3eae80804e89d06425a7b0b6de6f733e9ea30\\expr.png\" style=\"display:inline;vertical-align:middle;\" /></a><br>"
      ],
      "text/plain": [
       "andFT: (FALSE and TRUE) = FALSE"
      ]
     },
     "execution_count": 5,
     "metadata": {},
     "output_type": "execute_result"
    }
   ],
   "source": [
    "andFT = Equals(And(FALSE, TRUE), FALSE)"
   ]
  },
  {
   "cell_type": "code",
   "execution_count": 6,
   "metadata": {
    "collapsed": false,
    "deletable": true,
    "editable": true
   },
   "outputs": [
    {
     "data": {
      "text/html": [
       "<strong id=\"andFF\">andFF:</strong> <a href=\"__pv_it\\5a8142a1b05e972918eace80c67de80bbb1e07670\\expr.ipynb\" target=\"_blank\"><img src=\"__pv_it\\5a8142a1b05e972918eace80c67de80bbb1e07670\\expr.png\" style=\"display:inline;vertical-align:middle;\" /></a><br>"
      ],
      "text/plain": [
       "andFF: (FALSE and FALSE) = FALSE"
      ]
     },
     "execution_count": 6,
     "metadata": {},
     "output_type": "execute_result"
    }
   ],
   "source": [
    "andFF = Equals(And(FALSE, FALSE), FALSE)"
   ]
  },
  {
   "cell_type": "markdown",
   "metadata": {
    "deletable": true,
    "editable": true
   },
   "source": [
    "### Conjunction is only well-defined when each input is a Boolean:"
   ]
  },
  {
   "cell_type": "code",
   "execution_count": 7,
   "metadata": {
    "collapsed": false,
    "deletable": true,
    "editable": true
   },
   "outputs": [
    {
     "data": {
      "text/html": [
       "<strong id=\"leftInBool\">leftInBool:</strong> <a href=\"__pv_it\\663e7bce7d3664964ed8303840847d1fe34529380\\expr.ipynb\" target=\"_blank\"><img src=\"__pv_it\\663e7bce7d3664964ed8303840847d1fe34529380\\expr.png\" style=\"display:inline;vertical-align:middle;\" /></a><br>"
      ],
      "text/plain": [
       "leftInBool: forall_{A, B | ((A and B) in BOOLEANS)} (A in BOOLEANS)"
      ]
     },
     "execution_count": 7,
     "metadata": {},
     "output_type": "execute_result"
    }
   ],
   "source": [
    "leftInBool = Forall((A, B), inBool(A), conditions=[inBool(And(A, B))]) "
   ]
  },
  {
   "cell_type": "code",
   "execution_count": 8,
   "metadata": {
    "collapsed": false,
    "deletable": true,
    "editable": true
   },
   "outputs": [
    {
     "data": {
      "text/html": [
       "<strong id=\"rightInBool\">rightInBool:</strong> <a href=\"__pv_it\\a698df23161f4a8f7f7501096884135ed0d957820\\expr.ipynb\" target=\"_blank\"><img src=\"__pv_it\\a698df23161f4a8f7f7501096884135ed0d957820\\expr.png\" style=\"display:inline;vertical-align:middle;\" /></a><br>"
      ],
      "text/plain": [
       "rightInBool: forall_{A, B | ((A and B) in BOOLEANS)} (B in BOOLEANS)"
      ]
     },
     "execution_count": 8,
     "metadata": {},
     "output_type": "execute_result"
    }
   ],
   "source": [
    "rightInBool = Forall((A, B), inBool(B), conditions=[inBool(And(A, B))]) "
   ]
  },
  {
   "cell_type": "markdown",
   "metadata": {
    "deletable": true,
    "editable": true
   },
   "source": [
    "### Definition of multi-operand conjunction:"
   ]
  },
  {
   "cell_type": "code",
   "execution_count": 9,
   "metadata": {
    "collapsed": false,
    "deletable": true,
    "editable": true
   },
   "outputs": [
    {
     "data": {
      "text/html": [
       "<strong id=\"emptyConjunction\">emptyConjunction:</strong> <a href=\"__pv_it\\de7c5a378aa5153ef8b25a2839d7571f424433920\\expr.ipynb\" target=\"_blank\"><img src=\"__pv_it\\de7c5a378aa5153ef8b25a2839d7571f424433920\\expr.png\" style=\"display:inline;vertical-align:middle;\" /></a><br>"
      ],
      "text/plain": [
       "emptyConjunction: \\left[and\n",
       "ight]() = TRUE"
      ]
     },
     "execution_count": 9,
     "metadata": {},
     "output_type": "execute_result"
    }
   ],
   "source": [
    "emptyConjunction = Equals(And(), TRUE) # base case"
   ]
  },
  {
   "cell_type": "code",
   "execution_count": 10,
   "metadata": {
    "collapsed": false,
    "deletable": true,
    "editable": true
   },
   "outputs": [
    {
     "data": {
      "text/html": [
       "<strong id=\"composition\">composition:</strong> <a href=\"__pv_it\\b043f2f8630d45a6d8e795b82f5a336e646ef2e90\\expr.ipynb\" target=\"_blank\"><img src=\"__pv_it\\b043f2f8630d45a6d8e795b82f5a336e646ef2e90\\expr.png\" style=\"display:inline;vertical-align:middle;\" /></a><br>"
      ],
      "text/plain": [
       "composition: forall_{A, B_{#}} ((A and  .. and B_{#} and .. ) = (A and ( .. and B_{#} and .. )))"
      ]
     },
     "execution_count": 10,
     "metadata": {},
     "output_type": "execute_result"
    }
   ],
   "source": [
    "composition = Forall((A, Bmulti), Equals(And(A, Betc), And(A, And(Betc))))"
   ]
  },
  {
   "cell_type": "code",
   "execution_count": 11,
   "metadata": {
    "collapsed": false,
    "deletable": true,
    "editable": true
   },
   "outputs": [
    {
     "name": "stdout",
     "output_type": "stream",
     "text": [
      "Axioms may be imported from autogenerated _axioms_.py\n"
     ]
    }
   ],
   "source": [
    "%end_axioms"
   ]
  },
  {
   "cell_type": "code",
   "execution_count": 12,
   "metadata": {
    "collapsed": true,
    "deletable": true,
    "editable": true
   },
   "outputs": [],
   "source": []
  }
 ],
 "metadata": {
  "kernelspec": {
   "display_name": "Python 2",
   "language": "python",
   "name": "python2"
  },
  "language_info": {
   "codemirror_mode": {
    "name": "ipython",
    "version": 2
   },
   "file_extension": ".py",
   "mimetype": "text/x-python",
   "name": "python",
   "nbconvert_exporter": "python",
   "pygments_lexer": "ipython2",
   "version": "2.7.11"
  }
 },
 "nbformat": 4,
 "nbformat_minor": 0
}
