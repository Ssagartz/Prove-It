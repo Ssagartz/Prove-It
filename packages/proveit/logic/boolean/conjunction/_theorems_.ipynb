{
 "cells": [
  {
   "cell_type": "markdown",
   "metadata": {
    "collapsed": true,
    "deletable": true,
    "editable": true
   },
   "source": [
    "Theorems for context <a href=\"_context_.ipynb\" class=\"ProveItLink\">proveit.logic.boolean.conjunction</a>\n",
    "========"
   ]
  },
  {
   "cell_type": "code",
   "execution_count": 1,
   "metadata": {
    "collapsed": false,
    "deletable": true,
    "editable": true
   },
   "outputs": [
    {
     "name": "stdout",
     "output_type": "stream",
     "text": [
      "Defining theorems for context 'proveit.logic.boolean.conjunction'\n",
      "Subsequent end-of-cell assignments will define theorems\n",
      "'%end theorems' will finalize the definitions\n"
     ]
    }
   ],
   "source": [
    "from proveit.logic import And, Not, TRUE, FALSE, Forall, inBool, Booleans, Equals\n",
    "from proveit._common_ import A, B, AA, BB, CC, DD, EE\n",
    "%begin theorems"
   ]
  },
  {
   "cell_type": "code",
   "execution_count": 2,
   "metadata": {
    "collapsed": false,
    "deletable": true,
    "editable": true
   },
   "outputs": [
    {
     "data": {
      "text/html": [
       "<strong id=\"trueAndTrue\"><a class=\"ProveItLink\" href=\"_proofs_\\trueAndTrue.ipynb\">trueAndTrue</a>:</strong> <a class=\"ProveItLink\" href=\"__pv_it\\415e3c33474bbab315eb563b8800a1779cbc7d740\\expr.ipynb\"><img src=\"__pv_it\\415e3c33474bbab315eb563b8800a1779cbc7d740\\expr.png\" style=\"display:inline;vertical-align:middle;\" /></a><br>"
      ],
      "text/plain": [
       "trueAndTrue: TRUE and TRUE"
      ]
     },
     "execution_count": 2,
     "metadata": {},
     "output_type": "execute_result"
    }
   ],
   "source": [
    "trueAndTrue = And(TRUE, TRUE)"
   ]
  },
  {
   "cell_type": "code",
   "execution_count": 3,
   "metadata": {
    "collapsed": false,
    "deletable": true,
    "editable": true
   },
   "outputs": [
    {
     "data": {
      "text/html": [
       "<strong id=\"trueAndFalseNegated\"><a class=\"ProveItLink\" href=\"_proofs_\\trueAndFalseNegated.ipynb\">trueAndFalseNegated</a>:</strong> <a class=\"ProveItLink\" href=\"__pv_it\\ccf35ff2e75b859994930ce151108bec3e1ef3ee0\\expr.ipynb\"><img src=\"__pv_it\\ccf35ff2e75b859994930ce151108bec3e1ef3ee0\\expr.png\" style=\"display:inline;vertical-align:middle;\" /></a><br>"
      ],
      "text/plain": [
       "trueAndFalseNegated: [not](TRUE and FALSE)"
      ]
     },
     "execution_count": 3,
     "metadata": {},
     "output_type": "execute_result"
    }
   ],
   "source": [
    "trueAndFalseNegated = Not(And(TRUE, FALSE))"
   ]
  },
  {
   "cell_type": "code",
   "execution_count": 4,
   "metadata": {
    "collapsed": false,
    "deletable": true,
    "editable": true
   },
   "outputs": [
    {
     "data": {
      "text/html": [
       "<strong id=\"falseAndTrueNegated\"><a class=\"ProveItLink\" href=\"_proofs_\\falseAndTrueNegated.ipynb\">falseAndTrueNegated</a>:</strong> <a class=\"ProveItLink\" href=\"__pv_it\\b6ff417d88f83d8e9223b199747f64827c0254a00\\expr.ipynb\"><img src=\"__pv_it\\b6ff417d88f83d8e9223b199747f64827c0254a00\\expr.png\" style=\"display:inline;vertical-align:middle;\" /></a><br>"
      ],
      "text/plain": [
       "falseAndTrueNegated: [not](FALSE and TRUE)"
      ]
     },
     "execution_count": 4,
     "metadata": {},
     "output_type": "execute_result"
    }
   ],
   "source": [
    "falseAndTrueNegated = Not(And(FALSE, TRUE))"
   ]
  },
  {
   "cell_type": "code",
   "execution_count": 5,
   "metadata": {
    "collapsed": false,
    "deletable": true,
    "editable": true
   },
   "outputs": [
    {
     "data": {
      "text/html": [
       "<strong id=\"falseAndFalseNegated\"><a class=\"ProveItLink\" href=\"_proofs_\\falseAndFalseNegated.ipynb\">falseAndFalseNegated</a>:</strong> <a class=\"ProveItLink\" href=\"__pv_it\\3f8f40c98007120c0455af43def14548b36e3ac80\\expr.ipynb\"><img src=\"__pv_it\\3f8f40c98007120c0455af43def14548b36e3ac80\\expr.png\" style=\"display:inline;vertical-align:middle;\" /></a><br>"
      ],
      "text/plain": [
       "falseAndFalseNegated: [not](FALSE and FALSE)"
      ]
     },
     "execution_count": 5,
     "metadata": {},
     "output_type": "execute_result"
    }
   ],
   "source": [
    "falseAndFalseNegated = Not(And(FALSE, FALSE))"
   ]
  },
  {
   "cell_type": "code",
   "execution_count": 6,
   "metadata": {
    "collapsed": false,
    "deletable": true,
    "editable": true
   },
   "outputs": [
    {
     "data": {
      "text/html": [
       "<strong id=\"andIfBoth\"><a class=\"ProveItLink\" href=\"_proofs_\\andIfBoth.ipynb\">andIfBoth</a>:</strong> <a class=\"ProveItLink\" href=\"__pv_it\\ebe70fd015ab2e716d7bcb5752d257c27d2cc42f0\\expr.ipynb\"><img src=\"__pv_it\\ebe70fd015ab2e716d7bcb5752d257c27d2cc42f0\\expr.png\" style=\"display:inline;vertical-align:middle;\" /></a><br>"
      ],
      "text/plain": [
       "andIfBoth: forall_{A, B | A , B} (A and B)"
      ]
     },
     "execution_count": 6,
     "metadata": {},
     "output_type": "execute_result"
    }
   ],
   "source": [
    "andIfBoth = Forall((A, B), And(A, B), conditions=[A, B])"
   ]
  },
  {
   "cell_type": "code",
   "execution_count": 7,
   "metadata": {
    "collapsed": false,
    "deletable": true,
    "editable": true
   },
   "outputs": [
    {
     "data": {
      "text/html": [
       "<strong id=\"nandIfNotRight\"><a class=\"ProveItLink\" href=\"_proofs_\\nandIfNotRight.ipynb\">nandIfNotRight</a>:</strong> <a class=\"ProveItLink\" href=\"__pv_it\\f1d7b3b92ec9c43902badd190f4fc2eda6773b8f0\\expr.ipynb\"><img src=\"__pv_it\\f1d7b3b92ec9c43902badd190f4fc2eda6773b8f0\\expr.png\" style=\"display:inline;vertical-align:middle;\" /></a><br>"
      ],
      "text/plain": [
       "nandIfNotRight: forall_{A, B | A , [not](B)} [not](A and B)"
      ]
     },
     "execution_count": 7,
     "metadata": {},
     "output_type": "execute_result"
    }
   ],
   "source": [
    "nandIfNotRight = Forall((A, B), Not(And(A, B)), conditions=[A, Not(B)])"
   ]
  },
  {
   "cell_type": "code",
   "execution_count": 8,
   "metadata": {
    "collapsed": false,
    "deletable": true,
    "editable": true
   },
   "outputs": [
    {
     "data": {
      "text/html": [
       "<strong id=\"nandIfNotLeft\"><a class=\"ProveItLink\" href=\"_proofs_\\nandIfNotLeft.ipynb\">nandIfNotLeft</a>:</strong> <a class=\"ProveItLink\" href=\"__pv_it\\09496da85e7a4c5d7d66d3f98334c1c0088a716e0\\expr.ipynb\"><img src=\"__pv_it\\09496da85e7a4c5d7d66d3f98334c1c0088a716e0\\expr.png\" style=\"display:inline;vertical-align:middle;\" /></a><br>"
      ],
      "text/plain": [
       "nandIfNotLeft: forall_{A, B | [not](A) , B} [not](A and B)"
      ]
     },
     "execution_count": 8,
     "metadata": {},
     "output_type": "execute_result"
    }
   ],
   "source": [
    "nandIfNotLeft = Forall((A, B), Not(And(A, B)), conditions=[Not(A), B])"
   ]
  },
  {
   "cell_type": "code",
   "execution_count": 9,
   "metadata": {
    "collapsed": false,
    "deletable": true,
    "editable": true
   },
   "outputs": [
    {
     "data": {
      "text/html": [
       "<strong id=\"nandIfNeither\"><a class=\"ProveItLink\" href=\"_proofs_\\nandIfNeither.ipynb\">nandIfNeither</a>:</strong> <a class=\"ProveItLink\" href=\"__pv_it\\01d27f4e3f0ecdb54c6e6d4ff0c5557c2a284fb10\\expr.ipynb\"><img src=\"__pv_it\\01d27f4e3f0ecdb54c6e6d4ff0c5557c2a284fb10\\expr.png\" style=\"display:inline;vertical-align:middle;\" /></a><br>"
      ],
      "text/plain": [
       "nandIfNeither: forall_{A, B | [not](A) , [not](B)} [not](A and B)"
      ]
     },
     "execution_count": 9,
     "metadata": {},
     "output_type": "execute_result"
    }
   ],
   "source": [
    "nandIfNeither = Forall((A, B), Not(And(A, B)), conditions=[Not(A), Not(B)])"
   ]
  },
  {
   "cell_type": "code",
   "execution_count": 10,
   "metadata": {
    "collapsed": false,
    "deletable": true,
    "editable": true
   },
   "outputs": [
    {
     "data": {
      "text/html": [
       "<strong id=\"falsifiedAndIfNotRight\"><a class=\"ProveItLink\" href=\"_proofs_\\falsifiedAndIfNotRight.ipynb\">falsifiedAndIfNotRight</a>:</strong> <a class=\"ProveItLink\" href=\"__pv_it\\c0e72e18a85eb04935c217a50ff36608cc6684c90\\expr.ipynb\"><img src=\"__pv_it\\c0e72e18a85eb04935c217a50ff36608cc6684c90\\expr.png\" style=\"display:inline;vertical-align:middle;\" /></a><br>"
      ],
      "text/plain": [
       "falsifiedAndIfNotRight: forall_{A, B | A , [not](B)} ((A and B) = FALSE)"
      ]
     },
     "execution_count": 10,
     "metadata": {},
     "output_type": "execute_result"
    }
   ],
   "source": [
    "falsifiedAndIfNotRight = Forall((A, B), Equals(And(A, B), FALSE), conditions=[A, Not(B)])"
   ]
  },
  {
   "cell_type": "code",
   "execution_count": 11,
   "metadata": {
    "collapsed": false,
    "deletable": true,
    "editable": true
   },
   "outputs": [
    {
     "data": {
      "text/html": [
       "<strong id=\"falsifiedAndIfNotLeft\"><a class=\"ProveItLink\" href=\"_proofs_\\falsifiedAndIfNotLeft.ipynb\">falsifiedAndIfNotLeft</a>:</strong> <a class=\"ProveItLink\" href=\"__pv_it\\b207c7e0bb7fe8f787edb6651cddff7b40a37b310\\expr.ipynb\"><img src=\"__pv_it\\b207c7e0bb7fe8f787edb6651cddff7b40a37b310\\expr.png\" style=\"display:inline;vertical-align:middle;\" /></a><br>"
      ],
      "text/plain": [
       "falsifiedAndIfNotLeft: forall_{A, B | [not](A) , B} ((A and B) = FALSE)"
      ]
     },
     "execution_count": 11,
     "metadata": {},
     "output_type": "execute_result"
    }
   ],
   "source": [
    "falsifiedAndIfNotLeft = Forall((A, B), Equals(And(A, B), FALSE), conditions=[Not(A), B])"
   ]
  },
  {
   "cell_type": "code",
   "execution_count": 12,
   "metadata": {
    "collapsed": false,
    "deletable": true,
    "editable": true
   },
   "outputs": [
    {
     "data": {
      "text/html": [
       "<strong id=\"falsifiedAndIfNeither\"><a class=\"ProveItLink\" href=\"_proofs_\\falsifiedAndIfNeither.ipynb\">falsifiedAndIfNeither</a>:</strong> <a class=\"ProveItLink\" href=\"__pv_it\\6776e1f7c3fe859a91c146da46de277efad931750\\expr.ipynb\"><img src=\"__pv_it\\6776e1f7c3fe859a91c146da46de277efad931750\\expr.png\" style=\"display:inline;vertical-align:middle;\" /></a><br>"
      ],
      "text/plain": [
       "falsifiedAndIfNeither: forall_{A, B | [not](A) , [not](B)} ((A and B) = FALSE)"
      ]
     },
     "execution_count": 12,
     "metadata": {},
     "output_type": "execute_result"
    }
   ],
   "source": [
    "falsifiedAndIfNeither = Forall((A, B), Equals(And(A, B), FALSE), conditions=[Not(A), Not(B)])"
   ]
  },
  {
   "cell_type": "code",
   "execution_count": 13,
   "metadata": {
    "collapsed": true,
    "deletable": true,
    "editable": true
   },
   "outputs": [],
   "source": []
  },
  {
   "cell_type": "code",
   "execution_count": 13,
   "metadata": {
    "collapsed": false,
    "deletable": true,
    "editable": true
   },
   "outputs": [
    {
     "data": {
      "text/html": [
       "<strong id=\"leftFromAnd\"><a class=\"ProveItLink\" href=\"_proofs_\\leftFromAnd.ipynb\" target=\"_blank\">leftFromAnd</a>:</strong> <a href=\"__pv_it\\b16e3c5ced7c8ddbc6b4ee493488a525154bd5380\\expr.ipynb\" target=\"_blank\"><img src=\"__pv_it\\b16e3c5ced7c8ddbc6b4ee493488a525154bd5380\\expr.png\" style=\"display:inline;vertical-align:middle;\" /></a><br>"
      ],
      "text/plain": [
       "leftFromAnd: forall_{A, B | (A and B)} A"
      ]
     },
     "execution_count": 13,
     "metadata": {},
     "output_type": "execute_result"
    }
   ],
   "source": [
    "leftFromAnd = Forall((A, B), A, conditions=[And(A, B)])"
   ]
  },
  {
   "cell_type": "code",
   "execution_count": 14,
   "metadata": {
    "collapsed": false,
    "deletable": true,
    "editable": true
   },
   "outputs": [
    {
     "data": {
      "text/html": [
       "<strong id=\"rightFromAnd\"><a class=\"ProveItLink\" href=\"_proofs_\\rightFromAnd.ipynb\" target=\"_blank\">rightFromAnd</a>:</strong> <a href=\"__pv_it\\e55e20fdc51ad3aaa101a1ee39fa2fbd7fe7ceb30\\expr.ipynb\" target=\"_blank\"><img src=\"__pv_it\\e55e20fdc51ad3aaa101a1ee39fa2fbd7fe7ceb30\\expr.png\" style=\"display:inline;vertical-align:middle;\" /></a><br>"
      ],
      "text/plain": [
       "rightFromAnd: forall_{A, B | (A and B)} B"
      ]
     },
     "execution_count": 14,
     "metadata": {},
     "output_type": "execute_result"
    }
   ],
   "source": [
    "rightFromAnd = Forall((A, B), B, conditions=[And(A, B)])"
   ]
  },
  {
   "cell_type": "code",
   "execution_count": 15,
   "metadata": {
    "collapsed": false,
    "deletable": true,
    "editable": true
   },
   "outputs": [
    {
     "data": {
      "text/html": [
       "<strong id=\"binaryCommutation\"><a class=\"ProveItLink\" href=\"_proofs_\\binaryCommutation.ipynb\" target=\"_blank\">binaryCommutation</a>:</strong> <a href=\"__pv_it\\2a607bf51c805e903555abc9ee131eee1e2e922a0\\expr.ipynb\" target=\"_blank\"><img src=\"__pv_it\\2a607bf51c805e903555abc9ee131eee1e2e922a0\\expr.png\" style=\"display:inline;vertical-align:middle;\" /></a><br>"
      ],
      "text/plain": [
       "binaryCommutation: forall_{A, B | (A and B)} (B and A)"
      ]
     },
     "execution_count": 15,
     "metadata": {},
     "output_type": "execute_result"
    }
   ],
   "source": [
    "binaryCommutation = Forall((A, B), And(B, A), conditions=[And(A, B)])"
   ]
  },
  {
   "cell_type": "code",
   "execution_count": 16,
   "metadata": {
    "collapsed": true,
    "deletable": true,
    "editable": true
   },
   "outputs": [],
   "source": []
  },
  {
   "cell_type": "code",
   "execution_count": 16,
   "metadata": {
    "collapsed": false,
    "deletable": true,
    "editable": true
   },
   "outputs": [
    {
     "data": {
      "text/html": [
       "<strong id=\"eachInBool\"><a class=\"ProveItLink\" href=\"_proofs_\\eachInBool.ipynb\" target=\"_blank\">eachInBool</a>:</strong> <a href=\"__pv_it\\2fa67b8fa6a7f6a3ba67dd269714228d1601ac730\\expr.ipynb\" target=\"_blank\"><img src=\"__pv_it\\2fa67b8fa6a7f6a3ba67dd269714228d1601ac730\\expr.png\" style=\"display:inline;vertical-align:middle;\" /></a><br>"
      ],
      "text/plain": [
       "eachInBool: forall_{A_{#}, B, C_{#} | (( .. and A_{#} and ..  and B and  .. and C_{#} and .. ) in BOOLEANS)} (B in BOOLEANS)"
      ]
     },
     "execution_count": 16,
     "metadata": {},
     "output_type": "execute_result"
    }
   ],
   "source": [
    "eachInBool = Forall((Amulti, B, Cmulti), inBool(B), conditions=inBool(And(Aetc, B, Cetc)))"
   ]
  },
  {
   "cell_type": "code",
   "execution_count": 17,
   "metadata": {
    "collapsed": false,
    "deletable": true,
    "editable": true
   },
   "outputs": [
    {
     "data": {
      "text/html": [
       "<strong id=\"anyFromAnd\"><a class=\"ProveItLink\" href=\"_proofs_\\anyFromAnd.ipynb\" target=\"_blank\">anyFromAnd</a>:</strong> <a href=\"__pv_it\\9dd1864bb8e41defb6e047f6c39e00665c7ab2b40\\expr.ipynb\" target=\"_blank\"><img src=\"__pv_it\\9dd1864bb8e41defb6e047f6c39e00665c7ab2b40\\expr.png\" style=\"display:inline;vertical-align:middle;\" /></a><br>"
      ],
      "text/plain": [
       "anyFromAnd: forall_{A_{#}, B, C_{#} | ( .. and A_{#} and ..  and B and  .. and C_{#} and .. )} B"
      ]
     },
     "execution_count": 17,
     "metadata": {},
     "output_type": "execute_result"
    }
   ],
   "source": [
    "anyFromAnd = Forall((Amulti, B, Cmulti), B, conditions=[And(Aetc, B, Cetc)])"
   ]
  },
  {
   "cell_type": "code",
   "execution_count": 18,
   "metadata": {
    "collapsed": false,
    "deletable": true,
    "editable": true
   },
   "outputs": [
    {
     "data": {
      "text/html": [
       "<strong id=\"andIfAll\"><a class=\"ProveItLink\" href=\"_proofs_\\andIfAll.ipynb\" target=\"_blank\">andIfAll</a>:</strong> <a href=\"__pv_it\\2e0e3b340ca3cf9d4d27cae2b77a1a34c526e2140\\expr.ipynb\" target=\"_blank\"><img src=\"__pv_it\\2e0e3b340ca3cf9d4d27cae2b77a1a34c526e2140\\expr.png\" style=\"display:inline;vertical-align:middle;\" /></a><br>"
      ],
      "text/plain": [
       "andIfAll: forall_{A_{#} |  ..,A_{#},.. } ( .. and A_{#} and .. )"
      ]
     },
     "execution_count": 18,
     "metadata": {},
     "output_type": "execute_result"
    }
   ],
   "source": [
    "andIfAll = Forall(Amulti, And(Aetc), conditions=[Aetc])"
   ]
  },
  {
   "cell_type": "code",
   "execution_count": 19,
   "metadata": {
    "collapsed": false,
    "deletable": true,
    "editable": true
   },
   "outputs": [
    {
     "data": {
      "text/html": [
       "<strong id=\"andCommutation\"><a class=\"ProveItLink\" href=\"_proofs_\\andCommutation.ipynb\" target=\"_blank\">andCommutation</a>:</strong> <a href=\"__pv_it\\b0a80e3a61ecd879069b98eff0f64bb38e55efd30\\expr.ipynb\" target=\"_blank\"><img src=\"__pv_it\\b0a80e3a61ecd879069b98eff0f64bb38e55efd30\\expr.png\" style=\"display:inline;vertical-align:middle;\" /></a><br>"
      ],
      "text/plain": [
       "andCommutation: forall_{A_{#}, B_{#}, C_{#}, D_{#}, E_{#} | ( .. and A_{#} and ... and B_{#} and ... and C_{#} and ... and D_{#} and ... and E_{#} and .. )} ( .. and A_{#} and ... and D_{#} and ... and C_{#} and ... and B_{#} and ... and E_{#} and .. )"
      ]
     },
     "execution_count": 19,
     "metadata": {},
     "output_type": "execute_result"
    }
   ],
   "source": [
    "andCommutation = Forall((Amulti, Bmulti, Cmulti, Dmulti, Emulti), And(Aetc, Detc, Cetc, Betc, Eetc), conditions=[And(Aetc, Betc, Cetc, Detc, Eetc)])"
   ]
  },
  {
   "cell_type": "code",
   "execution_count": 20,
   "metadata": {
    "collapsed": false,
    "deletable": true,
    "editable": true
   },
   "outputs": [
    {
     "data": {
      "text/html": [
       "<strong id=\"conjunctionTrueEval\"><a class=\"ProveItLink\" href=\"_proofs_\\conjunctionTrueEval.ipynb\" target=\"_blank\">conjunctionTrueEval</a>:</strong> <a href=\"__pv_it\\68af3b80cfe5b18425d3989cd450f76a23aa6b9d0\\expr.ipynb\" target=\"_blank\"><img src=\"__pv_it\\68af3b80cfe5b18425d3989cd450f76a23aa6b9d0\\expr.png\" style=\"display:inline;vertical-align:middle;\" /></a><br>"
      ],
      "text/plain": [
       "conjunctionTrueEval: forall_{A_{#} |  ..,A_{#},.. } (( .. and A_{#} and .. ) = TRUE)"
      ]
     },
     "execution_count": 20,
     "metadata": {},
     "output_type": "execute_result"
    }
   ],
   "source": [
    "conjunctionTrueEval = Forall(Amulti, Equals(And(Aetc), TRUE), conditions=[Aetc])"
   ]
  },
  {
   "cell_type": "code",
   "execution_count": 21,
   "metadata": {
    "collapsed": false,
    "deletable": true,
    "editable": true
   },
   "outputs": [
    {
     "data": {
      "text/html": [
       "<strong id=\"conjunctionFalseEval\"><a class=\"ProveItLink\" href=\"_proofs_\\conjunctionFalseEval.ipynb\" target=\"_blank\">conjunctionFalseEval</a>:</strong> <a href=\"__pv_it\\027220a366c1e90517ed1084c1aab03c9ef5fab50\\expr.ipynb\" target=\"_blank\"><img src=\"__pv_it\\027220a366c1e90517ed1084c1aab03c9ef5fab50\\expr.png\" style=\"display:inline;vertical-align:middle;\" /></a><br>"
      ],
      "text/plain": [
       "conjunctionFalseEval: forall_{A_{#}, C_{#} in BOOLEANS} (( .. and A_{#} and ..  and FALSE and  .. and C_{#} and .. ) = FALSE)"
      ]
     },
     "execution_count": 21,
     "metadata": {},
     "output_type": "execute_result"
    }
   ],
   "source": [
    "conjunctionFalseEval = Forall((Amulti, Cmulti), Equals(And(Aetc, FALSE, Cetc), FALSE), domain=Booleans)"
   ]
  },
  {
   "cell_type": "code",
   "execution_count": 22,
   "metadata": {
    "collapsed": false,
    "deletable": true,
    "editable": true
   },
   "outputs": [
    {
     "data": {
      "text/html": [
       "<strong id=\"conjunctionClosure\"><a class=\"ProveItLink\" href=\"_proofs_\\conjunctionClosure.ipynb\" target=\"_blank\">conjunctionClosure</a>:</strong> <a href=\"__pv_it\\6332fb913728cd44a07e4f9c71cfdcdc056772ea0\\expr.ipynb\" target=\"_blank\"><img src=\"__pv_it\\6332fb913728cd44a07e4f9c71cfdcdc056772ea0\\expr.png\" style=\"display:inline;vertical-align:middle;\" /></a><br>"
      ],
      "text/plain": [
       "conjunctionClosure: forall_{A_{#} in BOOLEANS} (( .. and A_{#} and .. ) in BOOLEANS)"
      ]
     },
     "execution_count": 22,
     "metadata": {},
     "output_type": "execute_result"
    }
   ],
   "source": [
    "conjunctionClosure = Forall(Amulti, inBool(And(Aetc)), domain=Booleans)"
   ]
  },
  {
   "cell_type": "code",
   "execution_count": 13,
   "metadata": {
    "collapsed": false,
    "deletable": true,
    "editable": true
   },
   "outputs": [
    {
     "name": "stdout",
     "output_type": "stream",
     "text": [
      "Modifying theorem trueAndTrue in proveit.logic.boolean.conjunction context\n",
      "Modifying theorem trueAndFalseNegated in proveit.logic.boolean.conjunction context\n",
      "Modifying theorem falseAndTrueNegated in proveit.logic.boolean.conjunction context\n",
      "Modifying theorem falseAndFalseNegated in proveit.logic.boolean.conjunction context\n",
      "Modifying theorem andIfBoth in proveit.logic.boolean.conjunction context\n",
      "Modifying theorem nandIfNotRight in proveit.logic.boolean.conjunction context\n",
      "Modifying theorem nandIfNotLeft in proveit.logic.boolean.conjunction context\n",
      "Modifying theorem nandIfNeither in proveit.logic.boolean.conjunction context\n",
      "Modifying theorem falsifiedAndIfNotRight in proveit.logic.boolean.conjunction context\n",
      "Modifying theorem falsifiedAndIfNotLeft in proveit.logic.boolean.conjunction context\n",
      "Modifying theorem falsifiedAndIfNeither in proveit.logic.boolean.conjunction context\n",
      "Removing theorem andCommutation from proveit.logic.boolean.conjunction context\n",
      "Removing theorem andIfAll from proveit.logic.boolean.conjunction context\n",
      "Removing theorem anyFromAnd from proveit.logic.boolean.conjunction context\n",
      "Removing theorem binaryCommutation from proveit.logic.boolean.conjunction context\n",
      "Removing theorem conjunctionClosure from proveit.logic.boolean.conjunction context\n",
      "Removing theorem conjunctionFalseEval from proveit.logic.boolean.conjunction context\n",
      "Removing theorem conjunctionTrueEval from proveit.logic.boolean.conjunction context\n",
      "Removing theorem eachInBool from proveit.logic.boolean.conjunction context\n",
      "Removing theorem leftFromAnd from proveit.logic.boolean.conjunction context\n",
      "Removing theorem rightFromAnd from proveit.logic.boolean.conjunction context\n",
      "nandIfNeither expression notebook is being updated\n",
      "falseAndTrueNegated expression notebook is being updated\n",
      "trueAndTrue expression notebook is being updated\n",
      "falsifiedAndIfNotRight expression notebook is being updated\n",
      "trueAndFalseNegated expression notebook is being updated\n",
      "falseAndFalseNegated expression notebook is being updated\n",
      "falsifiedAndIfNeither expression notebook is being updated\n",
      "nandIfNotLeft expression notebook is being updated\n",
      "andIfBoth expression notebook is being updated\n",
      "nandIfNotRight expression notebook is being updated\n",
      "falsifiedAndIfNotLeft expression notebook is being updated\n",
      "Theorems may be imported from autogenerated _theorems_.py\n",
      "Stashing _proofs_\\andCommutation.ipynb to _proofs_\\andCommutation~stashed~2.ipynb in case it is needed.\n",
      "Stashing _proofs_\\andIfAll.ipynb to _proofs_\\andIfAll~stashed~2.ipynb in case it is needed.\n",
      "Stashing _proofs_\\anyFromAnd.ipynb to _proofs_\\anyFromAnd~stashed~2.ipynb in case it is needed.\n",
      "Stashing _proofs_\\binaryCommutation.ipynb to _proofs_\\binaryCommutation~stashed~2.ipynb in case it is needed.\n",
      "Stashing _proofs_\\conjunctionClosure.ipynb to _proofs_\\conjunctionClosure~stashed~2.ipynb in case it is needed.\n",
      "Stashing _proofs_\\conjunctionFalseEval.ipynb to _proofs_\\conjunctionFalseEval~stashed~2.ipynb in case it is needed.\n",
      "Stashing _proofs_\\conjunctionTrueEval.ipynb to _proofs_\\conjunctionTrueEval~stashed~2.ipynb in case it is needed.\n",
      "Stashing _proofs_\\eachInBool.ipynb to _proofs_\\eachInBool~stashed~2.ipynb in case it is needed.\n",
      "Stashing _proofs_\\leftFromAnd.ipynb to _proofs_\\leftFromAnd~stashed~2.ipynb in case it is needed.\n",
      "Stashing _proofs_\\rightFromAnd.ipynb to _proofs_\\rightFromAnd~stashed~2.ipynb in case it is needed.\n"
     ]
    }
   ],
   "source": [
    "%end theorems"
   ]
  },
  {
   "cell_type": "code",
   "execution_count": 24,
   "metadata": {
    "collapsed": true,
    "deletable": true,
    "editable": true
   },
   "outputs": [],
   "source": []
  }
 ],
 "metadata": {
  "kernelspec": {
   "display_name": "Python 2",
   "language": "python",
   "name": "python2"
  },
  "language_info": {
   "codemirror_mode": {
    "name": "ipython",
    "version": 2
   },
   "file_extension": ".py",
   "mimetype": "text/x-python",
   "name": "python",
   "nbconvert_exporter": "python",
   "pygments_lexer": "ipython2",
   "version": "2.7.11"
  }
 },
 "nbformat": 4,
 "nbformat_minor": 0
}
