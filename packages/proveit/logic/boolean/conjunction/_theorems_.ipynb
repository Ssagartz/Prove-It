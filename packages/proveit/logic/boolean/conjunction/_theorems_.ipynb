{
 "cells": [
  {
   "cell_type": "markdown",
   "metadata": {
    "collapsed": true,
    "deletable": true,
    "editable": true
   },
   "source": [
    "Theorems for context <a href=\"_context_.ipynb\" class=\"ProveItLink\">proveit.logic.boolean.conjunction</a>\n",
    "========"
   ]
  },
  {
   "cell_type": "code",
   "execution_count": 1,
   "metadata": {
    "collapsed": false,
    "deletable": true,
    "editable": true
   },
   "outputs": [
    {
     "name": "stdout",
     "output_type": "stream",
     "text": [
      "Defining theorems for context 'proveit.logic.boolean.conjunction'\n",
      "Subsequent end-of-cell assignments will define theorems\n",
      "'%end theorems' will finalize the definitions\n"
     ]
    }
   ],
   "source": [
    "from proveit.logic import And, Not, TRUE, FALSE, Forall, inBool, Booleans, Equals\n",
    "from proveit._common_ import A, B, Amulti, Bmulti, Cmulti, Dmulti, Emulti, Aetc, Betc, Cetc, Detc, Eetc\n",
    "%begin theorems"
   ]
  },
  {
   "cell_type": "code",
   "execution_count": 2,
   "metadata": {
    "collapsed": false,
    "deletable": true,
    "editable": true
   },
   "outputs": [
    {
     "data": {
      "text/html": [
       "<strong id=\"trueAndTrue\"><a class=\"ProveItLink\" href=\"_proofs_\\trueAndTrue.ipynb\" target=\"_blank\">trueAndTrue</a>:</strong> <a href=\"__pv_it\\aeccb91ad16850e9c8524053d363bb94f0d994b70\\expr.ipynb\" target=\"_blank\"><img src=\"__pv_it\\aeccb91ad16850e9c8524053d363bb94f0d994b70\\expr.png\" style=\"display:inline;vertical-align:middle;\" /></a><br>"
      ],
      "text/plain": [
       "trueAndTrue: TRUE and TRUE"
      ]
     },
     "execution_count": 2,
     "metadata": {},
     "output_type": "execute_result"
    }
   ],
   "source": [
    "trueAndTrue = And(TRUE, TRUE)"
   ]
  },
  {
   "cell_type": "code",
   "execution_count": 3,
   "metadata": {
    "collapsed": false,
    "deletable": true,
    "editable": true
   },
   "outputs": [
    {
     "data": {
      "text/html": [
       "<strong id=\"trueAndFalseNegated\"><a class=\"ProveItLink\" href=\"_proofs_\\trueAndFalseNegated.ipynb\" target=\"_blank\">trueAndFalseNegated</a>:</strong> <a href=\"__pv_it\\9ab15c342266b100e8c0002e68f14cd33130668c0\\expr.ipynb\" target=\"_blank\"><img src=\"__pv_it\\9ab15c342266b100e8c0002e68f14cd33130668c0\\expr.png\" style=\"display:inline;vertical-align:middle;\" /></a><br>"
      ],
      "text/plain": [
       "trueAndFalseNegated: not(TRUE and FALSE)"
      ]
     },
     "execution_count": 3,
     "metadata": {},
     "output_type": "execute_result"
    }
   ],
   "source": [
    "trueAndFalseNegated = Not(And(TRUE, FALSE))"
   ]
  },
  {
   "cell_type": "code",
   "execution_count": 4,
   "metadata": {
    "collapsed": false,
    "deletable": true,
    "editable": true
   },
   "outputs": [
    {
     "data": {
      "text/html": [
       "<strong id=\"falseAndTrueNegated\"><a class=\"ProveItLink\" href=\"_proofs_\\falseAndTrueNegated.ipynb\" target=\"_blank\">falseAndTrueNegated</a>:</strong> <a href=\"__pv_it\\7dee449b58db1d3fee0d8f9108b6b8655ef4f1cf0\\expr.ipynb\" target=\"_blank\"><img src=\"__pv_it\\7dee449b58db1d3fee0d8f9108b6b8655ef4f1cf0\\expr.png\" style=\"display:inline;vertical-align:middle;\" /></a><br>"
      ],
      "text/plain": [
       "falseAndTrueNegated: not(FALSE and TRUE)"
      ]
     },
     "execution_count": 4,
     "metadata": {},
     "output_type": "execute_result"
    }
   ],
   "source": [
    "falseAndTrueNegated = Not(And(FALSE, TRUE))"
   ]
  },
  {
   "cell_type": "code",
   "execution_count": 5,
   "metadata": {
    "collapsed": false,
    "deletable": true,
    "editable": true
   },
   "outputs": [
    {
     "data": {
      "text/html": [
       "<strong id=\"falseAndFalseNegated\"><a class=\"ProveItLink\" href=\"_proofs_\\falseAndFalseNegated.ipynb\" target=\"_blank\">falseAndFalseNegated</a>:</strong> <a href=\"__pv_it\\1562cae6bc07e8d40f7667143097bee7718d2c450\\expr.ipynb\" target=\"_blank\"><img src=\"__pv_it\\1562cae6bc07e8d40f7667143097bee7718d2c450\\expr.png\" style=\"display:inline;vertical-align:middle;\" /></a><br>"
      ],
      "text/plain": [
       "falseAndFalseNegated: not(FALSE and FALSE)"
      ]
     },
     "execution_count": 5,
     "metadata": {},
     "output_type": "execute_result"
    }
   ],
   "source": [
    "falseAndFalseNegated = Not(And(FALSE, FALSE))"
   ]
  },
  {
   "cell_type": "code",
   "execution_count": 6,
   "metadata": {
    "collapsed": false,
    "deletable": true,
    "editable": true
   },
   "outputs": [
    {
     "data": {
      "text/html": [
       "<strong id=\"andIfBoth\"><a class=\"ProveItLink\" href=\"_proofs_\\andIfBoth.ipynb\" target=\"_blank\">andIfBoth</a>:</strong> <a href=\"__pv_it\\22f91b4d488d0d03eb950f612755d066f75e3ac70\\expr.ipynb\" target=\"_blank\"><img src=\"__pv_it\\22f91b4d488d0d03eb950f612755d066f75e3ac70\\expr.png\" style=\"display:inline;vertical-align:middle;\" /></a><br>"
      ],
      "text/plain": [
       "andIfBoth: forall_{A, B | A,B} (A and B)"
      ]
     },
     "execution_count": 6,
     "metadata": {},
     "output_type": "execute_result"
    }
   ],
   "source": [
    "andIfBoth = Forall((A, B), And(A, B), conditions=[A, B])"
   ]
  },
  {
   "cell_type": "code",
   "execution_count": 7,
   "metadata": {
    "collapsed": false,
    "deletable": true,
    "editable": true
   },
   "outputs": [
    {
     "data": {
      "text/html": [
       "<strong id=\"nandIfNotRight\"><a class=\"ProveItLink\" href=\"_proofs_\\nandIfNotRight.ipynb\" target=\"_blank\">nandIfNotRight</a>:</strong> <a href=\"__pv_it\\2846b5c1d9dbf0de676511f1a018b28ef037758a0\\expr.ipynb\" target=\"_blank\"><img src=\"__pv_it\\2846b5c1d9dbf0de676511f1a018b28ef037758a0\\expr.png\" style=\"display:inline;vertical-align:middle;\" /></a><br>"
      ],
      "text/plain": [
       "nandIfNotRight: forall_{A, B | A,not(B)} not(A and B)"
      ]
     },
     "execution_count": 7,
     "metadata": {},
     "output_type": "execute_result"
    }
   ],
   "source": [
    "nandIfNotRight = Forall((A, B), Not(And(A, B)), conditions=[A, Not(B)])"
   ]
  },
  {
   "cell_type": "code",
   "execution_count": 8,
   "metadata": {
    "collapsed": false,
    "deletable": true,
    "editable": true
   },
   "outputs": [
    {
     "data": {
      "text/html": [
       "<strong id=\"nandIfNotLeft\"><a class=\"ProveItLink\" href=\"_proofs_\\nandIfNotLeft.ipynb\" target=\"_blank\">nandIfNotLeft</a>:</strong> <a href=\"__pv_it\\0b21ee4a2a73de9e1bf9b33362482fd31e8850320\\expr.ipynb\" target=\"_blank\"><img src=\"__pv_it\\0b21ee4a2a73de9e1bf9b33362482fd31e8850320\\expr.png\" style=\"display:inline;vertical-align:middle;\" /></a><br>"
      ],
      "text/plain": [
       "nandIfNotLeft: forall_{A, B | not(A),B} not(A and B)"
      ]
     },
     "execution_count": 8,
     "metadata": {},
     "output_type": "execute_result"
    }
   ],
   "source": [
    "nandIfNotLeft = Forall((A, B), Not(And(A, B)), conditions=[Not(A), B])"
   ]
  },
  {
   "cell_type": "code",
   "execution_count": 9,
   "metadata": {
    "collapsed": false,
    "deletable": true,
    "editable": true
   },
   "outputs": [
    {
     "data": {
      "text/html": [
       "<strong id=\"nandIfNeither\"><a class=\"ProveItLink\" href=\"_proofs_\\nandIfNeither.ipynb\" target=\"_blank\">nandIfNeither</a>:</strong> <a href=\"__pv_it\\6c69d20361ba413752190449026231cd3b6d8b660\\expr.ipynb\" target=\"_blank\"><img src=\"__pv_it\\6c69d20361ba413752190449026231cd3b6d8b660\\expr.png\" style=\"display:inline;vertical-align:middle;\" /></a><br>"
      ],
      "text/plain": [
       "nandIfNeither: forall_{A, B | not(A),not(B)} not(A and B)"
      ]
     },
     "execution_count": 9,
     "metadata": {},
     "output_type": "execute_result"
    }
   ],
   "source": [
    "nandIfNeither = Forall((A, B), Not(And(A, B)), conditions=[Not(A), Not(B)])"
   ]
  },
  {
   "cell_type": "code",
   "execution_count": 10,
   "metadata": {
    "collapsed": false,
    "deletable": true,
    "editable": true
   },
   "outputs": [
    {
     "data": {
      "text/html": [
       "<strong id=\"falsifiedAndIfNotRight\"><a class=\"ProveItLink\" href=\"_proofs_\\falsifiedAndIfNotRight.ipynb\" target=\"_blank\">falsifiedAndIfNotRight</a>:</strong> <a href=\"__pv_it\\2277b1fcb5cc2724c0aa2aa7fe42f80d3d1ffce30\\expr.ipynb\" target=\"_blank\"><img src=\"__pv_it\\2277b1fcb5cc2724c0aa2aa7fe42f80d3d1ffce30\\expr.png\" style=\"display:inline;vertical-align:middle;\" /></a><br>"
      ],
      "text/plain": [
       "falsifiedAndIfNotRight: forall_{A, B | A,not(B)} ((A and B) = FALSE)"
      ]
     },
     "execution_count": 10,
     "metadata": {},
     "output_type": "execute_result"
    }
   ],
   "source": [
    "falsifiedAndIfNotRight = Forall((A, B), Equals(And(A, B), FALSE), conditions=[A, Not(B)])"
   ]
  },
  {
   "cell_type": "code",
   "execution_count": 11,
   "metadata": {
    "collapsed": false,
    "deletable": true,
    "editable": true
   },
   "outputs": [
    {
     "data": {
      "text/html": [
       "<strong id=\"falsifiedAndIfNotLeft\"><a class=\"ProveItLink\" href=\"_proofs_\\falsifiedAndIfNotLeft.ipynb\" target=\"_blank\">falsifiedAndIfNotLeft</a>:</strong> <a href=\"__pv_it\\11ff579c68254b1dc5ae8b86f88f598b8a83c5f80\\expr.ipynb\" target=\"_blank\"><img src=\"__pv_it\\11ff579c68254b1dc5ae8b86f88f598b8a83c5f80\\expr.png\" style=\"display:inline;vertical-align:middle;\" /></a><br>"
      ],
      "text/plain": [
       "falsifiedAndIfNotLeft: forall_{A, B | not(A),B} ((A and B) = FALSE)"
      ]
     },
     "execution_count": 11,
     "metadata": {},
     "output_type": "execute_result"
    }
   ],
   "source": [
    "falsifiedAndIfNotLeft = Forall((A, B), Equals(And(A, B), FALSE), conditions=[Not(A), B])"
   ]
  },
  {
   "cell_type": "code",
   "execution_count": 12,
   "metadata": {
    "collapsed": false,
    "deletable": true,
    "editable": true
   },
   "outputs": [
    {
     "data": {
      "text/html": [
       "<strong id=\"falsifiedAndIfNeither\"><a class=\"ProveItLink\" href=\"_proofs_\\falsifiedAndIfNeither.ipynb\" target=\"_blank\">falsifiedAndIfNeither</a>:</strong> <a href=\"__pv_it\\c001b5bd09a50b762975d78122a0e56aac6ab08c0\\expr.ipynb\" target=\"_blank\"><img src=\"__pv_it\\c001b5bd09a50b762975d78122a0e56aac6ab08c0\\expr.png\" style=\"display:inline;vertical-align:middle;\" /></a><br>"
      ],
      "text/plain": [
       "falsifiedAndIfNeither: forall_{A, B | not(A),not(B)} ((A and B) = FALSE)"
      ]
     },
     "execution_count": 12,
     "metadata": {},
     "output_type": "execute_result"
    }
   ],
   "source": [
    "falsifiedAndIfNeither = Forall((A, B), Equals(And(A, B), FALSE), conditions=[Not(A), Not(B)])"
   ]
  },
  {
   "cell_type": "code",
   "execution_count": 13,
   "metadata": {
    "collapsed": true,
    "deletable": true,
    "editable": true
   },
   "outputs": [],
   "source": []
  },
  {
   "cell_type": "code",
   "execution_count": 13,
   "metadata": {
    "collapsed": false,
    "deletable": true,
    "editable": true
   },
   "outputs": [
    {
     "data": {
      "text/html": [
       "<strong id=\"leftFromAnd\"><a class=\"ProveItLink\" href=\"_proofs_\\leftFromAnd.ipynb\" target=\"_blank\">leftFromAnd</a>:</strong> <a href=\"__pv_it\\b16e3c5ced7c8ddbc6b4ee493488a525154bd5380\\expr.ipynb\" target=\"_blank\"><img src=\"__pv_it\\b16e3c5ced7c8ddbc6b4ee493488a525154bd5380\\expr.png\" style=\"display:inline;vertical-align:middle;\" /></a><br>"
      ],
      "text/plain": [
       "leftFromAnd: forall_{A, B | (A and B)} A"
      ]
     },
     "execution_count": 13,
     "metadata": {},
     "output_type": "execute_result"
    }
   ],
   "source": [
    "leftFromAnd = Forall((A, B), A, conditions=[And(A, B)])"
   ]
  },
  {
   "cell_type": "code",
   "execution_count": 14,
   "metadata": {
    "collapsed": false,
    "deletable": true,
    "editable": true
   },
   "outputs": [
    {
     "data": {
      "text/html": [
       "<strong id=\"rightFromAnd\"><a class=\"ProveItLink\" href=\"_proofs_\\rightFromAnd.ipynb\" target=\"_blank\">rightFromAnd</a>:</strong> <a href=\"__pv_it\\e55e20fdc51ad3aaa101a1ee39fa2fbd7fe7ceb30\\expr.ipynb\" target=\"_blank\"><img src=\"__pv_it\\e55e20fdc51ad3aaa101a1ee39fa2fbd7fe7ceb30\\expr.png\" style=\"display:inline;vertical-align:middle;\" /></a><br>"
      ],
      "text/plain": [
       "rightFromAnd: forall_{A, B | (A and B)} B"
      ]
     },
     "execution_count": 14,
     "metadata": {},
     "output_type": "execute_result"
    }
   ],
   "source": [
    "rightFromAnd = Forall((A, B), B, conditions=[And(A, B)])"
   ]
  },
  {
   "cell_type": "code",
   "execution_count": 15,
   "metadata": {
    "collapsed": false,
    "deletable": true,
    "editable": true
   },
   "outputs": [
    {
     "data": {
      "text/html": [
       "<strong id=\"binaryCommutation\"><a class=\"ProveItLink\" href=\"_proofs_\\binaryCommutation.ipynb\" target=\"_blank\">binaryCommutation</a>:</strong> <a href=\"__pv_it\\2a607bf51c805e903555abc9ee131eee1e2e922a0\\expr.ipynb\" target=\"_blank\"><img src=\"__pv_it\\2a607bf51c805e903555abc9ee131eee1e2e922a0\\expr.png\" style=\"display:inline;vertical-align:middle;\" /></a><br>"
      ],
      "text/plain": [
       "binaryCommutation: forall_{A, B | (A and B)} (B and A)"
      ]
     },
     "execution_count": 15,
     "metadata": {},
     "output_type": "execute_result"
    }
   ],
   "source": [
    "binaryCommutation = Forall((A, B), And(B, A), conditions=[And(A, B)])"
   ]
  },
  {
   "cell_type": "code",
   "execution_count": 16,
   "metadata": {
    "collapsed": true,
    "deletable": true,
    "editable": true
   },
   "outputs": [],
   "source": []
  },
  {
   "cell_type": "code",
   "execution_count": 16,
   "metadata": {
    "collapsed": false,
    "deletable": true,
    "editable": true
   },
   "outputs": [
    {
     "data": {
      "text/html": [
       "<strong id=\"eachInBool\"><a class=\"ProveItLink\" href=\"_proofs_\\eachInBool.ipynb\" target=\"_blank\">eachInBool</a>:</strong> <a href=\"__pv_it\\2fa67b8fa6a7f6a3ba67dd269714228d1601ac730\\expr.ipynb\" target=\"_blank\"><img src=\"__pv_it\\2fa67b8fa6a7f6a3ba67dd269714228d1601ac730\\expr.png\" style=\"display:inline;vertical-align:middle;\" /></a><br>"
      ],
      "text/plain": [
       "eachInBool: forall_{A_{#}, B, C_{#} | (( .. and A_{#} and ..  and B and  .. and C_{#} and .. ) in BOOLEANS)} (B in BOOLEANS)"
      ]
     },
     "execution_count": 16,
     "metadata": {},
     "output_type": "execute_result"
    }
   ],
   "source": [
    "eachInBool = Forall((Amulti, B, Cmulti), inBool(B), conditions=inBool(And(Aetc, B, Cetc)))"
   ]
  },
  {
   "cell_type": "code",
   "execution_count": 17,
   "metadata": {
    "collapsed": false,
    "deletable": true,
    "editable": true
   },
   "outputs": [
    {
     "data": {
      "text/html": [
       "<strong id=\"anyFromAnd\"><a class=\"ProveItLink\" href=\"_proofs_\\anyFromAnd.ipynb\" target=\"_blank\">anyFromAnd</a>:</strong> <a href=\"__pv_it\\9dd1864bb8e41defb6e047f6c39e00665c7ab2b40\\expr.ipynb\" target=\"_blank\"><img src=\"__pv_it\\9dd1864bb8e41defb6e047f6c39e00665c7ab2b40\\expr.png\" style=\"display:inline;vertical-align:middle;\" /></a><br>"
      ],
      "text/plain": [
       "anyFromAnd: forall_{A_{#}, B, C_{#} | ( .. and A_{#} and ..  and B and  .. and C_{#} and .. )} B"
      ]
     },
     "execution_count": 17,
     "metadata": {},
     "output_type": "execute_result"
    }
   ],
   "source": [
    "anyFromAnd = Forall((Amulti, B, Cmulti), B, conditions=[And(Aetc, B, Cetc)])"
   ]
  },
  {
   "cell_type": "code",
   "execution_count": 18,
   "metadata": {
    "collapsed": false,
    "deletable": true,
    "editable": true
   },
   "outputs": [
    {
     "data": {
      "text/html": [
       "<strong id=\"andIfAll\"><a class=\"ProveItLink\" href=\"_proofs_\\andIfAll.ipynb\" target=\"_blank\">andIfAll</a>:</strong> <a href=\"__pv_it\\2e0e3b340ca3cf9d4d27cae2b77a1a34c526e2140\\expr.ipynb\" target=\"_blank\"><img src=\"__pv_it\\2e0e3b340ca3cf9d4d27cae2b77a1a34c526e2140\\expr.png\" style=\"display:inline;vertical-align:middle;\" /></a><br>"
      ],
      "text/plain": [
       "andIfAll: forall_{A_{#} |  ..,A_{#},.. } ( .. and A_{#} and .. )"
      ]
     },
     "execution_count": 18,
     "metadata": {},
     "output_type": "execute_result"
    }
   ],
   "source": [
    "andIfAll = Forall(Amulti, And(Aetc), conditions=[Aetc])"
   ]
  },
  {
   "cell_type": "code",
   "execution_count": 19,
   "metadata": {
    "collapsed": false,
    "deletable": true,
    "editable": true
   },
   "outputs": [
    {
     "data": {
      "text/html": [
       "<strong id=\"andCommutation\"><a class=\"ProveItLink\" href=\"_proofs_\\andCommutation.ipynb\" target=\"_blank\">andCommutation</a>:</strong> <a href=\"__pv_it\\b0a80e3a61ecd879069b98eff0f64bb38e55efd30\\expr.ipynb\" target=\"_blank\"><img src=\"__pv_it\\b0a80e3a61ecd879069b98eff0f64bb38e55efd30\\expr.png\" style=\"display:inline;vertical-align:middle;\" /></a><br>"
      ],
      "text/plain": [
       "andCommutation: forall_{A_{#}, B_{#}, C_{#}, D_{#}, E_{#} | ( .. and A_{#} and ... and B_{#} and ... and C_{#} and ... and D_{#} and ... and E_{#} and .. )} ( .. and A_{#} and ... and D_{#} and ... and C_{#} and ... and B_{#} and ... and E_{#} and .. )"
      ]
     },
     "execution_count": 19,
     "metadata": {},
     "output_type": "execute_result"
    }
   ],
   "source": [
    "andCommutation = Forall((Amulti, Bmulti, Cmulti, Dmulti, Emulti), And(Aetc, Detc, Cetc, Betc, Eetc), conditions=[And(Aetc, Betc, Cetc, Detc, Eetc)])"
   ]
  },
  {
   "cell_type": "code",
   "execution_count": 20,
   "metadata": {
    "collapsed": false,
    "deletable": true,
    "editable": true
   },
   "outputs": [
    {
     "data": {
      "text/html": [
       "<strong id=\"conjunctionTrueEval\"><a class=\"ProveItLink\" href=\"_proofs_\\conjunctionTrueEval.ipynb\" target=\"_blank\">conjunctionTrueEval</a>:</strong> <a href=\"__pv_it\\68af3b80cfe5b18425d3989cd450f76a23aa6b9d0\\expr.ipynb\" target=\"_blank\"><img src=\"__pv_it\\68af3b80cfe5b18425d3989cd450f76a23aa6b9d0\\expr.png\" style=\"display:inline;vertical-align:middle;\" /></a><br>"
      ],
      "text/plain": [
       "conjunctionTrueEval: forall_{A_{#} |  ..,A_{#},.. } (( .. and A_{#} and .. ) = TRUE)"
      ]
     },
     "execution_count": 20,
     "metadata": {},
     "output_type": "execute_result"
    }
   ],
   "source": [
    "conjunctionTrueEval = Forall(Amulti, Equals(And(Aetc), TRUE), conditions=[Aetc])"
   ]
  },
  {
   "cell_type": "code",
   "execution_count": 21,
   "metadata": {
    "collapsed": false,
    "deletable": true,
    "editable": true
   },
   "outputs": [
    {
     "data": {
      "text/html": [
       "<strong id=\"conjunctionFalseEval\"><a class=\"ProveItLink\" href=\"_proofs_\\conjunctionFalseEval.ipynb\" target=\"_blank\">conjunctionFalseEval</a>:</strong> <a href=\"__pv_it\\027220a366c1e90517ed1084c1aab03c9ef5fab50\\expr.ipynb\" target=\"_blank\"><img src=\"__pv_it\\027220a366c1e90517ed1084c1aab03c9ef5fab50\\expr.png\" style=\"display:inline;vertical-align:middle;\" /></a><br>"
      ],
      "text/plain": [
       "conjunctionFalseEval: forall_{A_{#}, C_{#} in BOOLEANS} (( .. and A_{#} and ..  and FALSE and  .. and C_{#} and .. ) = FALSE)"
      ]
     },
     "execution_count": 21,
     "metadata": {},
     "output_type": "execute_result"
    }
   ],
   "source": [
    "conjunctionFalseEval = Forall((Amulti, Cmulti), Equals(And(Aetc, FALSE, Cetc), FALSE), domain=Booleans)"
   ]
  },
  {
   "cell_type": "code",
   "execution_count": 22,
   "metadata": {
    "collapsed": false,
    "deletable": true,
    "editable": true
   },
   "outputs": [
    {
     "data": {
      "text/html": [
       "<strong id=\"conjunctionClosure\"><a class=\"ProveItLink\" href=\"_proofs_\\conjunctionClosure.ipynb\" target=\"_blank\">conjunctionClosure</a>:</strong> <a href=\"__pv_it\\6332fb913728cd44a07e4f9c71cfdcdc056772ea0\\expr.ipynb\" target=\"_blank\"><img src=\"__pv_it\\6332fb913728cd44a07e4f9c71cfdcdc056772ea0\\expr.png\" style=\"display:inline;vertical-align:middle;\" /></a><br>"
      ],
      "text/plain": [
       "conjunctionClosure: forall_{A_{#} in BOOLEANS} (( .. and A_{#} and .. ) in BOOLEANS)"
      ]
     },
     "execution_count": 22,
     "metadata": {},
     "output_type": "execute_result"
    }
   ],
   "source": [
    "conjunctionClosure = Forall(Amulti, inBool(And(Aetc)), domain=Booleans)"
   ]
  },
  {
   "cell_type": "code",
   "execution_count": 23,
   "metadata": {
    "collapsed": false,
    "deletable": true,
    "editable": true
   },
   "outputs": [
    {
     "name": "stdout",
     "output_type": "stream",
     "text": [
      "Theorems may be imported from autogenerated _theorems_.py\n"
     ]
    }
   ],
   "source": [
    "%end theorems"
   ]
  },
  {
   "cell_type": "code",
   "execution_count": 24,
   "metadata": {
    "collapsed": true,
    "deletable": true,
    "editable": true
   },
   "outputs": [],
   "source": []
  }
 ],
 "metadata": {
  "kernelspec": {
   "display_name": "Python 2",
   "language": "python",
   "name": "python2"
  },
  "language_info": {
   "codemirror_mode": {
    "name": "ipython",
    "version": 2
   },
   "file_extension": ".py",
   "mimetype": "text/x-python",
   "name": "python",
   "nbconvert_exporter": "python",
   "pygments_lexer": "ipython2",
   "version": "2.7.11"
  }
 },
 "nbformat": 4,
 "nbformat_minor": 0
}
