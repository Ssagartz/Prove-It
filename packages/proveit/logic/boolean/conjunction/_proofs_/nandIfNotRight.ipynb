{
 "cells": [
  {
   "cell_type": "markdown",
   "metadata": {
    "collapsed": true,
    "deletable": true,
    "editable": true
   },
   "source": [
    "Proof of <a class=\"ProveItLink\" href=\"..\\..\\..\\..\\_context_.ipynb\">proveit</a>.<a class=\"ProveItLink\" href=\"..\\..\\..\\_context_.ipynb\">logic</a>.<a class=\"ProveItLink\" href=\"..\\..\\_context_.ipynb\">boolean</a>.<a class=\"ProveItLink\" href=\"..\\_context_.ipynb\">conjunction</a>.<a class=\"ProveItLink\" href=\"../_theorems_.ipynb#nandIfNotRight\">nandIfNotRight</a> theorem\n",
    "========"
   ]
  },
  {
   "cell_type": "code",
   "execution_count": 1,
   "metadata": {
    "collapsed": true,
    "deletable": true,
    "editable": true
   },
   "outputs": [],
   "source": [
    "import proveit\n",
    "from proveit import defaults\n",
    "from proveit._common_ import A, B\n",
    "from proveit.logic.boolean.conjunction._theorems_ import trueAndFalseNegated\n",
    "context = proveit.Context('..') # the theorem's context is in the parent directory"
   ]
  },
  {
   "cell_type": "code",
   "execution_count": 2,
   "metadata": {
    "collapsed": false,
    "deletable": true,
    "editable": true
   },
   "outputs": [
    {
     "name": "stdout",
     "output_type": "stream",
     "text": [
      "Beginning proof of nandIfNotRight\n",
      "Recorded 'presuming' information\n",
      "Presuming previous theorems in this context (and any of their dependencies).\n"
     ]
    },
    {
     "data": {
      "text/html": [
       "<strong id=\"nandIfNotRight\">nandIfNotRight:</strong> <a class=\"ProveItLink\" href=\"..\\__pv_it\\417bc04e47c3b38c12ecfc460c405cb41b06ef570\\expr.ipynb\"><img src=\"..\\__pv_it\\417bc04e47c3b38c12ecfc460c405cb41b06ef570\\expr.png\" style=\"display:inline;vertical-align:middle;\" /></a><br>(see <a class=\"ProveItLink\" href=\"..\\__pv_it\\417bc04e47c3b38c12ecfc460c405cb41b06ef570\\dependencies.ipynb\">dependencies</a>)"
      ],
      "text/plain": [
       "nandIfNotRight: forall_{A, B | A , [not](B)} [not](A and B)"
      ]
     },
     "execution_count": 2,
     "metadata": {},
     "output_type": "execute_result"
    }
   ],
   "source": [
    "%proving nandIfNotRight presuming []"
   ]
  },
  {
   "cell_type": "code",
   "execution_count": 3,
   "metadata": {
    "collapsed": false
   },
   "outputs": [
    {
     "data": {
      "text/html": [
       "<strong id=\"defaults.assumptions\">defaults.assumptions:</strong> <a class=\"ProveItLink\" href=\"..\\__pv_it\\e028ac08f83abdb3b639fc21c2aed1e347fa581d0\\expr.ipynb\"><img src=\"..\\__pv_it\\e028ac08f83abdb3b639fc21c2aed1e347fa581d0\\expr.png\" style=\"display:inline;vertical-align:middle;\" /></a><br>"
      ],
      "text/plain": [
       "defaults.assumptions: (A , [not](B))"
      ]
     },
     "execution_count": 3,
     "metadata": {},
     "output_type": "execute_result"
    }
   ],
   "source": [
    "defaults.assumptions = nandIfNotRight.conditions"
   ]
  },
  {
   "cell_type": "code",
   "execution_count": 4,
   "metadata": {
    "collapsed": false,
    "deletable": true,
    "editable": true
   },
   "outputs": [
    {
     "data": {
      "text/html": [
       "<strong id=\"AeqT\">AeqT:</strong> <span style=\"font-size:20px;\"><a class=\"ProveItLink\" href=\"..\\__pv_it\\158bdc91074824c720728a23dba5d58593c8cc480\\expr.ipynb\"><img src=\"..\\__pv_it\\158bdc91074824c720728a23dba5d58593c8cc480\\expr.png\" style=\"display:inline;vertical-align:middle;\" /></a> &#x22A2;&nbsp;<a class=\"ProveItLink\" href=\"..\\__pv_it\\f4d6ed37799a8ea3909d9764c457e2a3fa701b6f0\\expr.ipynb\"><img src=\"..\\__pv_it\\f4d6ed37799a8ea3909d9764c457e2a3fa701b6f0\\expr.png\" style=\"display:inline;vertical-align:middle;\" /></a></span><br>"
      ],
      "text/plain": [
       "AeqT: {A} |= A = TRUE"
      ]
     },
     "execution_count": 4,
     "metadata": {},
     "output_type": "execute_result"
    }
   ],
   "source": [
    "AeqT = A.evaluation()"
   ]
  },
  {
   "cell_type": "code",
   "execution_count": 5,
   "metadata": {
    "collapsed": false,
    "deletable": true,
    "editable": true
   },
   "outputs": [
    {
     "data": {
      "text/html": [
       "<strong id=\"BeqF\">BeqF:</strong> <span style=\"font-size:20px;\"><a class=\"ProveItLink\" href=\"..\\__pv_it\\b7e31d75543b3ce9f0c6e088e7bca956c708f1740\\expr.ipynb\"><img src=\"..\\__pv_it\\b7e31d75543b3ce9f0c6e088e7bca956c708f1740\\expr.png\" style=\"display:inline;vertical-align:middle;\" /></a> &#x22A2;&nbsp;<a class=\"ProveItLink\" href=\"..\\__pv_it\\0e6513d9653529587ef99bc5f365bb0e33131b8f0\\expr.ipynb\"><img src=\"..\\__pv_it\\0e6513d9653529587ef99bc5f365bb0e33131b8f0\\expr.png\" style=\"display:inline;vertical-align:middle;\" /></a></span><br>"
      ],
      "text/plain": [
       "BeqF: {[not](B)} |= B = FALSE"
      ]
     },
     "execution_count": 5,
     "metadata": {},
     "output_type": "execute_result"
    }
   ],
   "source": [
    "BeqF = B.evaluation()"
   ]
  },
  {
   "cell_type": "code",
   "execution_count": 6,
   "metadata": {
    "collapsed": false,
    "deletable": true,
    "editable": true
   },
   "outputs": [
    {
     "data": {
      "text/html": [
       "<strong id=\"AandFnegated\">AandFnegated:</strong> <span style=\"font-size:20px;\"><a class=\"ProveItLink\" href=\"..\\__pv_it\\158bdc91074824c720728a23dba5d58593c8cc480\\expr.ipynb\"><img src=\"..\\__pv_it\\158bdc91074824c720728a23dba5d58593c8cc480\\expr.png\" style=\"display:inline;vertical-align:middle;\" /></a> &#x22A2;&nbsp;<a class=\"ProveItLink\" href=\"..\\__pv_it\\a039f04e2da6f8e7a8b52c9808b2535ba1617dbf0\\expr.ipynb\"><img src=\"..\\__pv_it\\a039f04e2da6f8e7a8b52c9808b2535ba1617dbf0\\expr.png\" style=\"display:inline;vertical-align:middle;\" /></a></span><br>"
      ],
      "text/plain": [
       "AandFnegated: {A} |= [not](A and FALSE)"
      ]
     },
     "execution_count": 6,
     "metadata": {},
     "output_type": "execute_result"
    }
   ],
   "source": [
    "AandFnegated = AeqT.lhsSubstitute(trueAndFalseNegated)"
   ]
  },
  {
   "cell_type": "code",
   "execution_count": 7,
   "metadata": {
    "collapsed": false,
    "deletable": true,
    "editable": true
   },
   "outputs": [
    {
     "data": {
      "text/html": [
       "<strong id=\"AandNotBnegated\">AandNotBnegated:</strong> <span style=\"font-size:20px;\"><a class=\"ProveItLink\" href=\"..\\__pv_it\\6a31bb605d8df310cdd16e25cf8b7154b040475d0\\expr.ipynb\"><img src=\"..\\__pv_it\\6a31bb605d8df310cdd16e25cf8b7154b040475d0\\expr.png\" style=\"display:inline;vertical-align:middle;\" /></a> &#x22A2;&nbsp;<a class=\"ProveItLink\" href=\"..\\__pv_it\\ae82521a31d6f99f099862f4802f5d78f95d4a870\\expr.ipynb\"><img src=\"..\\__pv_it\\ae82521a31d6f99f099862f4802f5d78f95d4a870\\expr.png\" style=\"display:inline;vertical-align:middle;\" /></a></span><br>"
      ],
      "text/plain": [
       "AandNotBnegated: {A , [not](B)} |= [not](A and B)"
      ]
     },
     "execution_count": 7,
     "metadata": {},
     "output_type": "execute_result"
    }
   ],
   "source": [
    "AandNotBnegated = BeqF.lhsSubstitute(AandFnegated)"
   ]
  },
  {
   "cell_type": "code",
   "execution_count": 8,
   "metadata": {
    "collapsed": false,
    "deletable": true,
    "editable": true
   },
   "outputs": [
    {
     "data": {
      "text/html": [
       "<table><tr><th>&nbsp;</th><th>step type</th><th>requirements</th><th>statement</th></tr>\n",
       "<tr><td>0</td><td>generalizaton</td><td>1</td><td><span style=\"font-size:20px;\"> &#x22A2;&nbsp;<a class=\"ProveItLink\" href=\"..\\__pv_it\\417bc04e47c3b38c12ecfc460c405cb41b06ef570\\expr.ipynb\"><img src=\"..\\__pv_it\\417bc04e47c3b38c12ecfc460c405cb41b06ef570\\expr.png\" style=\"display:inline;vertical-align:middle;\" /></a></span></td></tr>\n",
       "<tr><td>1</td><td>specialization</td><td>4, 2, 3</td><td><span style=\"font-size:20px;\"><a class=\"ProveItLink\" href=\"..\\__pv_it\\6a31bb605d8df310cdd16e25cf8b7154b040475d0\\expr.ipynb\"><img src=\"..\\__pv_it\\6a31bb605d8df310cdd16e25cf8b7154b040475d0\\expr.png\" style=\"display:inline;vertical-align:middle;\" /></a> &#x22A2;&nbsp;<a class=\"ProveItLink\" href=\"..\\__pv_it\\ae82521a31d6f99f099862f4802f5d78f95d4a870\\expr.ipynb\"><img src=\"..\\__pv_it\\ae82521a31d6f99f099862f4802f5d78f95d4a870\\expr.png\" style=\"display:inline;vertical-align:middle;\" /></a></span></td></tr>\n",
       "<tr><td>&nbsp;</td><td colspan=4 style=\"text-align:left\"><span style=\"font-size:20px;\"><a class=\"ProveItLink\" href=\"..\\__pv_it\\1891a8e0f3f6b06ca2ccc32786b98ad71e34d68d0\\expr.ipynb\"><img src=\"..\\__pv_it\\1891a8e0f3f6b06ca2ccc32786b98ad71e34d68d0\\expr.png\" style=\"display:inline;vertical-align:middle;\" /></a>, <a class=\"ProveItLink\" href=\"..\\__pv_it\\295216cfff86046c1a4f671b23fcfb1b72417e730\\expr.ipynb\"><img src=\"..\\__pv_it\\295216cfff86046c1a4f671b23fcfb1b72417e730\\expr.png\" style=\"display:inline;vertical-align:middle;\" /></a>, <a class=\"ProveItLink\" href=\"..\\__pv_it\\62fc5007cfa6c735f71b311e3b247f10027889190\\expr.ipynb\"><img src=\"..\\__pv_it\\62fc5007cfa6c735f71b311e3b247f10027889190\\expr.png\" style=\"display:inline;vertical-align:middle;\" /></a></span></td></tr><tr><td>2</td><td>specialization</td><td>4, 5, 6</td><td><span style=\"font-size:20px;\"><a class=\"ProveItLink\" href=\"..\\__pv_it\\158bdc91074824c720728a23dba5d58593c8cc480\\expr.ipynb\"><img src=\"..\\__pv_it\\158bdc91074824c720728a23dba5d58593c8cc480\\expr.png\" style=\"display:inline;vertical-align:middle;\" /></a> &#x22A2;&nbsp;<a class=\"ProveItLink\" href=\"..\\__pv_it\\a039f04e2da6f8e7a8b52c9808b2535ba1617dbf0\\expr.ipynb\"><img src=\"..\\__pv_it\\a039f04e2da6f8e7a8b52c9808b2535ba1617dbf0\\expr.png\" style=\"display:inline;vertical-align:middle;\" /></a></span></td></tr>\n",
       "<tr><td>&nbsp;</td><td colspan=4 style=\"text-align:left\"><span style=\"font-size:20px;\"><a class=\"ProveItLink\" href=\"..\\__pv_it\\c072baa3e4e7369c6784f28fb61467fbf27ac43f0\\expr.ipynb\"><img src=\"..\\__pv_it\\c072baa3e4e7369c6784f28fb61467fbf27ac43f0\\expr.png\" style=\"display:inline;vertical-align:middle;\" /></a>, <a class=\"ProveItLink\" href=\"..\\__pv_it\\efae654d2c4d9921a1c6bf9b4d32c5e2311d70ca0\\expr.ipynb\"><img src=\"..\\__pv_it\\efae654d2c4d9921a1c6bf9b4d32c5e2311d70ca0\\expr.png\" style=\"display:inline;vertical-align:middle;\" /></a>, <a class=\"ProveItLink\" href=\"..\\__pv_it\\95234de2f8932bfa1908fb7032e268bab15311800\\expr.ipynb\"><img src=\"..\\__pv_it\\95234de2f8932bfa1908fb7032e268bab15311800\\expr.png\" style=\"display:inline;vertical-align:middle;\" /></a></span></td></tr><tr><td>3</td><td>specialization</td><td>7, 8</td><td><span style=\"font-size:20px;\"><a class=\"ProveItLink\" href=\"..\\__pv_it\\b7e31d75543b3ce9f0c6e088e7bca956c708f1740\\expr.ipynb\"><img src=\"..\\__pv_it\\b7e31d75543b3ce9f0c6e088e7bca956c708f1740\\expr.png\" style=\"display:inline;vertical-align:middle;\" /></a> &#x22A2;&nbsp;<a class=\"ProveItLink\" href=\"..\\__pv_it\\0e6513d9653529587ef99bc5f365bb0e33131b8f0\\expr.ipynb\"><img src=\"..\\__pv_it\\0e6513d9653529587ef99bc5f365bb0e33131b8f0\\expr.png\" style=\"display:inline;vertical-align:middle;\" /></a></span></td></tr>\n",
       "<tr><td>&nbsp;</td><td colspan=4 style=\"text-align:left\"><span style=\"font-size:20px;\"><a class=\"ProveItLink\" href=\"..\\__pv_it\\d741dd76976820e8878cef0f4ba62ab9831abce50\\expr.ipynb\"><img src=\"..\\__pv_it\\d741dd76976820e8878cef0f4ba62ab9831abce50\\expr.png\" style=\"display:inline;vertical-align:middle;\" /></a></span></td></tr><tr><td>4</td><td>theorem</td><td></td><td><span style=\"font-size:20px;\"> &#x22A2;&nbsp;<a class=\"ProveItLink\" href=\"..\\..\\..\\equality\\__pv_it\\6425c7b64708730992bfb72314f6aeaa5dc1d76c0\\expr.ipynb\"><img src=\"..\\..\\..\\equality\\__pv_it\\6425c7b64708730992bfb72314f6aeaa5dc1d76c0\\expr.png\" style=\"display:inline;vertical-align:middle;\" /></a></span></td></tr>\n",
       "<tr><td>&nbsp;</td><td colspan=4 style-\"text-align:left\"><a class=\"ProveItLink\" href=\"..\\..\\..\\equality\\_proofs_\\lhsSubstitute.ipynb\">proveit.logic.equality.lhsSubstitute</a></td></tr><tr><td>5</td><td>theorem</td><td></td><td><span style=\"font-size:20px;\"> &#x22A2;&nbsp;<a class=\"ProveItLink\" href=\"..\\__pv_it\\7f2fc15a9f23e5089f6bb79aeb43e3459be023490\\expr.ipynb\"><img src=\"..\\__pv_it\\7f2fc15a9f23e5089f6bb79aeb43e3459be023490\\expr.png\" style=\"display:inline;vertical-align:middle;\" /></a></span></td></tr>\n",
       "<tr><td>&nbsp;</td><td colspan=4 style-\"text-align:left\"><a class=\"ProveItLink\" href=\"trueAndFalseNegated.ipynb\">proveit.logic.boolean.conjunction.trueAndFalseNegated</a></td></tr><tr><td>6</td><td>specialization</td><td>9, 10</td><td><span style=\"font-size:20px;\"><a class=\"ProveItLink\" href=\"..\\__pv_it\\158bdc91074824c720728a23dba5d58593c8cc480\\expr.ipynb\"><img src=\"..\\__pv_it\\158bdc91074824c720728a23dba5d58593c8cc480\\expr.png\" style=\"display:inline;vertical-align:middle;\" /></a> &#x22A2;&nbsp;<a class=\"ProveItLink\" href=\"..\\__pv_it\\f4d6ed37799a8ea3909d9764c457e2a3fa701b6f0\\expr.ipynb\"><img src=\"..\\__pv_it\\f4d6ed37799a8ea3909d9764c457e2a3fa701b6f0\\expr.png\" style=\"display:inline;vertical-align:middle;\" /></a></span></td></tr>\n",
       "<tr><td>&nbsp;</td><td colspan=4 style=\"text-align:left\"><span style=\"font-size:20px;\"><a class=\"ProveItLink\" href=\"..\\__pv_it\\0022c0b9025feab4aa176c5ee33173e1813a9b4e0\\expr.ipynb\"><img src=\"..\\__pv_it\\0022c0b9025feab4aa176c5ee33173e1813a9b4e0\\expr.png\" style=\"display:inline;vertical-align:middle;\" /></a></span></td></tr><tr><td>7</td><td>axiom</td><td></td><td><span style=\"font-size:20px;\"> &#x22A2;&nbsp;<a class=\"ProveItLink\" href=\"..\\..\\negation\\__pv_it\\946c53681efc8125a86640bb96b3bc8a7b22cecf0\\expr.ipynb\"><img src=\"..\\..\\negation\\__pv_it\\946c53681efc8125a86640bb96b3bc8a7b22cecf0\\expr.png\" style=\"display:inline;vertical-align:middle;\" /></a></span></td></tr>\n",
       "<tr><td>&nbsp;</td><td colspan=4 style-\"text-align:left\"><a class=\"ProveItLink\" href=\"..\\..\\negation\\_axioms_.ipynb#negationElim\">proveit.logic.boolean.negation.negationElim</a></td></tr><tr><td>8</td><td>assumption</td><td></td><td><span style=\"font-size:20px;\"><a class=\"ProveItLink\" href=\"..\\__pv_it\\b7e31d75543b3ce9f0c6e088e7bca956c708f1740\\expr.ipynb\"><img src=\"..\\__pv_it\\b7e31d75543b3ce9f0c6e088e7bca956c708f1740\\expr.png\" style=\"display:inline;vertical-align:middle;\" /></a> &#x22A2;&nbsp;<a class=\"ProveItLink\" href=\"..\\__pv_it\\1da4e2fe7c44632f084fa27ea32e26dc689384c20\\expr.ipynb\"><img src=\"..\\__pv_it\\1da4e2fe7c44632f084fa27ea32e26dc689384c20\\expr.png\" style=\"display:inline;vertical-align:middle;\" /></a></span></td></tr>\n",
       "<tr><td>9</td><td>axiom</td><td></td><td><span style=\"font-size:20px;\"> &#x22A2;&nbsp;<a class=\"ProveItLink\" href=\"..\\..\\__pv_it\\19bb6771c5c42047ca0c96c63e91a0481d754bac0\\expr.ipynb\"><img src=\"..\\..\\__pv_it\\19bb6771c5c42047ca0c96c63e91a0481d754bac0\\expr.png\" style=\"display:inline;vertical-align:middle;\" /></a></span></td></tr>\n",
       "<tr><td>&nbsp;</td><td colspan=4 style-\"text-align:left\"><a class=\"ProveItLink\" href=\"..\\..\\_axioms_.ipynb#eqTrueIntro\">proveit.logic.boolean.eqTrueIntro</a></td></tr><tr><td>10</td><td>assumption</td><td></td><td><span style=\"font-size:20px;\"><a class=\"ProveItLink\" href=\"..\\__pv_it\\158bdc91074824c720728a23dba5d58593c8cc480\\expr.ipynb\"><img src=\"..\\__pv_it\\158bdc91074824c720728a23dba5d58593c8cc480\\expr.png\" style=\"display:inline;vertical-align:middle;\" /></a> &#x22A2;&nbsp;<a class=\"ProveItLink\" href=\"..\\..\\..\\..\\__pv_it\\2cbe72a7ad6f655694dd697106680215e8489b600\\expr.ipynb\"><img src=\"..\\..\\..\\..\\__pv_it\\2cbe72a7ad6f655694dd697106680215e8489b600\\expr.png\" style=\"display:inline;vertical-align:middle;\" /></a></span></td></tr>\n"
      ],
      "text/plain": [
       "<proveit._core_.proof.Generalization instance at 0x00000000092CA7C8>"
      ]
     },
     "execution_count": 8,
     "metadata": {},
     "output_type": "execute_result"
    }
   ],
   "source": [
    "# To do this manually, execute AandNotBnegated.generalize((A, B), conditions=[A, Not(B)]).\n",
    "# But this can be figured out via automation.\n",
    "%qed"
   ]
  },
  {
   "cell_type": "code",
   "execution_count": 9,
   "metadata": {
    "collapsed": true,
    "deletable": true,
    "editable": true
   },
   "outputs": [],
   "source": []
  }
 ],
 "metadata": {
  "kernelspec": {
   "display_name": "Python 2",
   "language": "python",
   "name": "python2"
  },
  "language_info": {
   "codemirror_mode": {
    "name": "ipython",
    "version": 2
   },
   "file_extension": ".py",
   "mimetype": "text/x-python",
   "name": "python",
   "nbconvert_exporter": "python",
   "pygments_lexer": "ipython2",
   "version": "2.7.11"
  }
 },
 "nbformat": 4,
 "nbformat_minor": 0
}
