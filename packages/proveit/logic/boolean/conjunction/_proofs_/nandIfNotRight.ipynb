{
 "cells": [
  {
   "cell_type": "markdown",
   "metadata": {
    "collapsed": true,
    "deletable": true,
    "editable": true
   },
   "source": [
    "Proof of <a class=\"ProveItLink\" href=\"..\\..\\..\\..\\_context_.ipynb\">proveit</a>.<a class=\"ProveItLink\" href=\"..\\..\\..\\_context_.ipynb\">logic</a>.<a class=\"ProveItLink\" href=\"..\\..\\_context_.ipynb\">boolean</a>.<a class=\"ProveItLink\" href=\"..\\_context_.ipynb\">conjunction</a>.<a class=\"ProveItLink\" href=\"../_theorems_.ipynb#nandIfNotRight\">nandIfNotRight</a> theorem\n",
    "========"
   ]
  },
  {
   "cell_type": "code",
   "execution_count": 1,
   "metadata": {
    "collapsed": true,
    "deletable": true,
    "editable": true
   },
   "outputs": [],
   "source": [
    "import proveit\n",
    "from proveit import defaults\n",
    "from proveit._common_ import A, B\n",
    "from proveit.logic.boolean.conjunction._theorems_ import trueAndFalseNegated\n",
    "context = proveit.Context('..') # the theorem's context is in the parent directory"
   ]
  },
  {
   "cell_type": "code",
   "execution_count": 2,
   "metadata": {
    "collapsed": false,
    "deletable": true,
    "editable": true
   },
   "outputs": [
    {
     "name": "stdout",
     "output_type": "stream",
     "text": [
      "Beginning proof of nandIfNotRight\n",
      "Recorded 'presuming' information\n",
      "Presuming previous theorems in this context (and any of their dependencies).\n"
     ]
    },
    {
     "data": {
      "text/html": [
       "<strong id=\"nandIfNotRight\">nandIfNotRight:</strong> <a class=\"ProveItLink\" href=\"..\\__pv_it\\417bc04e47c3b38c12ecfc460c405cb41b06ef570\\expr.ipynb\"><img src=\"..\\__pv_it\\417bc04e47c3b38c12ecfc460c405cb41b06ef570\\expr.png\" style=\"display:inline;vertical-align:middle;\" /></a><br>(see <a class=\"ProveItLink\" href=\"..\\__pv_it\\417bc04e47c3b38c12ecfc460c405cb41b06ef570\\dependencies.ipynb\">dependencies</a>)"
      ],
      "text/plain": [
       "nandIfNotRight: forall_{A, B | A , [not](B)} [not](A and B)"
      ]
     },
     "execution_count": 2,
     "metadata": {},
     "output_type": "execute_result"
    }
   ],
   "source": [
    "%proving nandIfNotRight presuming []"
   ]
  },
  {
   "cell_type": "code",
   "execution_count": 3,
   "metadata": {
    "collapsed": false
   },
   "outputs": [
    {
     "data": {
      "text/html": [
       "<strong id=\"defaults.assumptions\">defaults.assumptions:</strong> <a class=\"ProveItLink\" href=\"..\\__pv_it\\e028ac08f83abdb3b639fc21c2aed1e347fa581d0\\expr.ipynb\"><img src=\"..\\__pv_it\\e028ac08f83abdb3b639fc21c2aed1e347fa581d0\\expr.png\" style=\"display:inline;vertical-align:middle;\" /></a><br>"
      ],
      "text/plain": [
       "defaults.assumptions: (A , [not](B))"
      ]
     },
     "execution_count": 3,
     "metadata": {},
     "output_type": "execute_result"
    }
   ],
   "source": [
    "defaults.assumptions = nandIfNotRight.conditions"
   ]
  },
  {
   "cell_type": "code",
   "execution_count": 4,
   "metadata": {
    "collapsed": false,
    "deletable": true,
    "editable": true
   },
   "outputs": [
    {
     "data": {
      "text/html": [
       "<strong id=\"AeqT\">AeqT:</strong> <span style=\"font-size:20px;\"><a class=\"ProveItLink\" href=\"..\\__pv_it\\158bdc91074824c720728a23dba5d58593c8cc480\\expr.ipynb\"><img src=\"..\\__pv_it\\158bdc91074824c720728a23dba5d58593c8cc480\\expr.png\" style=\"display:inline;vertical-align:middle;\" /></a> &#x22A2;&nbsp;<a class=\"ProveItLink\" href=\"..\\__pv_it\\f4d6ed37799a8ea3909d9764c457e2a3fa701b6f0\\expr.ipynb\"><img src=\"..\\__pv_it\\f4d6ed37799a8ea3909d9764c457e2a3fa701b6f0\\expr.png\" style=\"display:inline;vertical-align:middle;\" /></a></span><br>"
      ],
      "text/plain": [
       "AeqT: {A} |= A = TRUE"
      ]
     },
     "execution_count": 4,
     "metadata": {},
     "output_type": "execute_result"
    }
   ],
   "source": [
    "AeqT = A.evaluation()"
   ]
  },
  {
   "cell_type": "code",
   "execution_count": 5,
   "metadata": {
    "collapsed": false,
    "deletable": true,
    "editable": true
   },
   "outputs": [
    {
     "data": {
      "text/html": [
       "<strong id=\"BeqF\">BeqF:</strong> <span style=\"font-size:20px;\"><a class=\"ProveItLink\" href=\"..\\__pv_it\\b7e31d75543b3ce9f0c6e088e7bca956c708f1740\\expr.ipynb\"><img src=\"..\\__pv_it\\b7e31d75543b3ce9f0c6e088e7bca956c708f1740\\expr.png\" style=\"display:inline;vertical-align:middle;\" /></a> &#x22A2;&nbsp;<a class=\"ProveItLink\" href=\"..\\__pv_it\\0e6513d9653529587ef99bc5f365bb0e33131b8f0\\expr.ipynb\"><img src=\"..\\__pv_it\\0e6513d9653529587ef99bc5f365bb0e33131b8f0\\expr.png\" style=\"display:inline;vertical-align:middle;\" /></a></span><br>"
      ],
      "text/plain": [
       "BeqF: {[not](B)} |= B = FALSE"
      ]
     },
     "execution_count": 5,
     "metadata": {},
     "output_type": "execute_result"
    }
   ],
   "source": [
    "BeqF = B.evaluation()"
   ]
  },
  {
   "cell_type": "code",
   "execution_count": 6,
   "metadata": {
    "collapsed": false,
    "deletable": true,
    "editable": true
   },
   "outputs": [
    {
     "data": {
      "text/html": [
       "<strong id=\"AandFnegated\">AandFnegated:</strong> <span style=\"font-size:20px;\"><a class=\"ProveItLink\" href=\"..\\__pv_it\\158bdc91074824c720728a23dba5d58593c8cc480\\expr.ipynb\"><img src=\"..\\__pv_it\\158bdc91074824c720728a23dba5d58593c8cc480\\expr.png\" style=\"display:inline;vertical-align:middle;\" /></a> &#x22A2;&nbsp;<a class=\"ProveItLink\" href=\"..\\__pv_it\\a039f04e2da6f8e7a8b52c9808b2535ba1617dbf0\\expr.ipynb\"><img src=\"..\\__pv_it\\a039f04e2da6f8e7a8b52c9808b2535ba1617dbf0\\expr.png\" style=\"display:inline;vertical-align:middle;\" /></a></span><br>"
      ],
      "text/plain": [
       "AandFnegated: {A} |= [not](A and FALSE)"
      ]
     },
     "execution_count": 6,
     "metadata": {},
     "output_type": "execute_result"
    }
   ],
   "source": [
    "AandFnegated = AeqT.subLeftSideInto(trueAndFalseNegated)"
   ]
  },
  {
   "cell_type": "code",
   "execution_count": 7,
   "metadata": {
    "collapsed": false,
    "deletable": true,
    "editable": true
   },
   "outputs": [
    {
     "data": {
      "text/html": [
       "<strong id=\"AandNotBnegated\">AandNotBnegated:</strong> <span style=\"font-size:20px;\"><a class=\"ProveItLink\" href=\"..\\__pv_it\\6a31bb605d8df310cdd16e25cf8b7154b040475d0\\expr.ipynb\"><img src=\"..\\__pv_it\\6a31bb605d8df310cdd16e25cf8b7154b040475d0\\expr.png\" style=\"display:inline;vertical-align:middle;\" /></a> &#x22A2;&nbsp;<a class=\"ProveItLink\" href=\"..\\__pv_it\\ae82521a31d6f99f099862f4802f5d78f95d4a870\\expr.ipynb\"><img src=\"..\\__pv_it\\ae82521a31d6f99f099862f4802f5d78f95d4a870\\expr.png\" style=\"display:inline;vertical-align:middle;\" /></a></span><br>"
      ],
      "text/plain": [
       "AandNotBnegated: {A , [not](B)} |= [not](A and B)"
      ]
     },
     "execution_count": 7,
     "metadata": {},
     "output_type": "execute_result"
    }
   ],
   "source": [
    "AandNotBnegated = BeqF.subLeftSideInto(AandFnegated)"
   ]
  },
  {
   "cell_type": "code",
   "execution_count": 8,
   "metadata": {
    "collapsed": false,
    "deletable": true,
    "editable": true
   },
   "outputs": [
    {
     "data": {
      "text/html": [
       "<table><tr><th>&nbsp;</th><th>step type</th><th>requirements</th><th>statement</th></tr>\n",
       "<tr><td>0</td><td>generalizaton</td><td>1</td><td><span style=\"font-size:20px;\"> &#x22A2;&nbsp;<a class=\"ProveItLink\" href=\"..\\__pv_it\\417bc04e47c3b38c12ecfc460c405cb41b06ef570\\expr.ipynb\"><img src=\"..\\__pv_it\\417bc04e47c3b38c12ecfc460c405cb41b06ef570\\expr.png\" style=\"display:inline;vertical-align:middle;\" /></a></span></td></tr>\n",
       "<tr><td>1</td><td>specialization</td><td>4, 2, 3</td><td><span style=\"font-size:20px;\"><a class=\"ProveItLink\" href=\"..\\__pv_it\\6a31bb605d8df310cdd16e25cf8b7154b040475d0\\expr.ipynb\"><img src=\"..\\__pv_it\\6a31bb605d8df310cdd16e25cf8b7154b040475d0\\expr.png\" style=\"display:inline;vertical-align:middle;\" /></a> &#x22A2;&nbsp;<a class=\"ProveItLink\" href=\"..\\__pv_it\\ae82521a31d6f99f099862f4802f5d78f95d4a870\\expr.ipynb\"><img src=\"..\\__pv_it\\ae82521a31d6f99f099862f4802f5d78f95d4a870\\expr.png\" style=\"display:inline;vertical-align:middle;\" /></a></span></td></tr>\n",
       "<tr><td>&nbsp;</td><td colspan=4 style=\"text-align:left\"><span style=\"font-size:20px;\"><a class=\"ProveItLink\" href=\"..\\__pv_it\\cddb1edb32711eb11e56f03bb69519bb27d107040\\expr.ipynb\"><img src=\"..\\__pv_it\\cddb1edb32711eb11e56f03bb69519bb27d107040\\expr.png\" style=\"display:inline;vertical-align:middle;\" /></a>, <a class=\"ProveItLink\" href=\"..\\__pv_it\\1e6abeb569cd7c0157a33c50577e196f4a2d28d20\\expr.ipynb\"><img src=\"..\\__pv_it\\1e6abeb569cd7c0157a33c50577e196f4a2d28d20\\expr.png\" style=\"display:inline;vertical-align:middle;\" /></a>, <a class=\"ProveItLink\" href=\"..\\__pv_it\\9fcbe233155f7e124010446d11752dbb33bd2ef40\\expr.ipynb\"><img src=\"..\\__pv_it\\9fcbe233155f7e124010446d11752dbb33bd2ef40\\expr.png\" style=\"display:inline;vertical-align:middle;\" /></a></span></td></tr><tr><td>2</td><td>specialization</td><td>4, 5, 6</td><td><span style=\"font-size:20px;\"><a class=\"ProveItLink\" href=\"..\\__pv_it\\158bdc91074824c720728a23dba5d58593c8cc480\\expr.ipynb\"><img src=\"..\\__pv_it\\158bdc91074824c720728a23dba5d58593c8cc480\\expr.png\" style=\"display:inline;vertical-align:middle;\" /></a> &#x22A2;&nbsp;<a class=\"ProveItLink\" href=\"..\\__pv_it\\a039f04e2da6f8e7a8b52c9808b2535ba1617dbf0\\expr.ipynb\"><img src=\"..\\__pv_it\\a039f04e2da6f8e7a8b52c9808b2535ba1617dbf0\\expr.png\" style=\"display:inline;vertical-align:middle;\" /></a></span></td></tr>\n",
       "<tr><td>&nbsp;</td><td colspan=4 style=\"text-align:left\"><span style=\"font-size:20px;\"><a class=\"ProveItLink\" href=\"..\\__pv_it\\7d3977b34d4639cc17e79a4a18976cc0b5efc77b0\\expr.ipynb\"><img src=\"..\\__pv_it\\7d3977b34d4639cc17e79a4a18976cc0b5efc77b0\\expr.png\" style=\"display:inline;vertical-align:middle;\" /></a>, <a class=\"ProveItLink\" href=\"..\\__pv_it\\bfef4cd0d5e2ee0a3aac3754860b97676a70f27b0\\expr.ipynb\"><img src=\"..\\__pv_it\\bfef4cd0d5e2ee0a3aac3754860b97676a70f27b0\\expr.png\" style=\"display:inline;vertical-align:middle;\" /></a>, <a class=\"ProveItLink\" href=\"..\\__pv_it\\2737a2247b400aa2282d989b70bdb7d0af7eb9b80\\expr.ipynb\"><img src=\"..\\__pv_it\\2737a2247b400aa2282d989b70bdb7d0af7eb9b80\\expr.png\" style=\"display:inline;vertical-align:middle;\" /></a></span></td></tr><tr><td>3</td><td>specialization</td><td>7, 8</td><td><span style=\"font-size:20px;\"><a class=\"ProveItLink\" href=\"..\\__pv_it\\b7e31d75543b3ce9f0c6e088e7bca956c708f1740\\expr.ipynb\"><img src=\"..\\__pv_it\\b7e31d75543b3ce9f0c6e088e7bca956c708f1740\\expr.png\" style=\"display:inline;vertical-align:middle;\" /></a> &#x22A2;&nbsp;<a class=\"ProveItLink\" href=\"..\\__pv_it\\0e6513d9653529587ef99bc5f365bb0e33131b8f0\\expr.ipynb\"><img src=\"..\\__pv_it\\0e6513d9653529587ef99bc5f365bb0e33131b8f0\\expr.png\" style=\"display:inline;vertical-align:middle;\" /></a></span></td></tr>\n",
       "<tr><td>&nbsp;</td><td colspan=4 style=\"text-align:left\"><span style=\"font-size:20px;\"><a class=\"ProveItLink\" href=\"..\\__pv_it\\827b5af30ec15ef59c74ea73a5901db5568cc2380\\expr.ipynb\"><img src=\"..\\__pv_it\\827b5af30ec15ef59c74ea73a5901db5568cc2380\\expr.png\" style=\"display:inline;vertical-align:middle;\" /></a></span></td></tr><tr><td>4</td><td>theorem</td><td></td><td><span style=\"font-size:20px;\"> &#x22A2;&nbsp;<a class=\"ProveItLink\" href=\"..\\..\\..\\equality\\__pv_it\\6425c7b64708730992bfb72314f6aeaa5dc1d76c0\\expr.ipynb\"><img src=\"..\\..\\..\\equality\\__pv_it\\6425c7b64708730992bfb72314f6aeaa5dc1d76c0\\expr.png\" style=\"display:inline;vertical-align:middle;\" /></a></span></td></tr>\n",
       "<tr><td>&nbsp;</td><td colspan=4 style-\"text-align:left\"><a class=\"ProveItLink\" href=\"..\\..\\..\\equality\\_proofs_\\subLeftSideInto.ipynb\">proveit.logic.equality.subLeftSideInto</a></td></tr><tr><td>5</td><td>theorem</td><td></td><td><span style=\"font-size:20px;\"> &#x22A2;&nbsp;<a class=\"ProveItLink\" href=\"..\\__pv_it\\7f2fc15a9f23e5089f6bb79aeb43e3459be023490\\expr.ipynb\"><img src=\"..\\__pv_it\\7f2fc15a9f23e5089f6bb79aeb43e3459be023490\\expr.png\" style=\"display:inline;vertical-align:middle;\" /></a></span></td></tr>\n",
       "<tr><td>&nbsp;</td><td colspan=4 style-\"text-align:left\"><a class=\"ProveItLink\" href=\"trueAndFalseNegated.ipynb\">proveit.logic.boolean.conjunction.trueAndFalseNegated</a></td></tr><tr><td>6</td><td>specialization</td><td>9, 10</td><td><span style=\"font-size:20px;\"><a class=\"ProveItLink\" href=\"..\\__pv_it\\158bdc91074824c720728a23dba5d58593c8cc480\\expr.ipynb\"><img src=\"..\\__pv_it\\158bdc91074824c720728a23dba5d58593c8cc480\\expr.png\" style=\"display:inline;vertical-align:middle;\" /></a> &#x22A2;&nbsp;<a class=\"ProveItLink\" href=\"..\\__pv_it\\f4d6ed37799a8ea3909d9764c457e2a3fa701b6f0\\expr.ipynb\"><img src=\"..\\__pv_it\\f4d6ed37799a8ea3909d9764c457e2a3fa701b6f0\\expr.png\" style=\"display:inline;vertical-align:middle;\" /></a></span></td></tr>\n",
       "<tr><td>&nbsp;</td><td colspan=4 style=\"text-align:left\"><span style=\"font-size:20px;\"><a class=\"ProveItLink\" href=\"..\\__pv_it\\5758c3a6b8b1a61d059f14908f0186a1d5ae540a0\\expr.ipynb\"><img src=\"..\\__pv_it\\5758c3a6b8b1a61d059f14908f0186a1d5ae540a0\\expr.png\" style=\"display:inline;vertical-align:middle;\" /></a></span></td></tr><tr><td>7</td><td>axiom</td><td></td><td><span style=\"font-size:20px;\"> &#x22A2;&nbsp;<a class=\"ProveItLink\" href=\"..\\..\\negation\\__pv_it\\4b5dd3f037f440d68a8f1e360a14677af00fd6dd0\\expr.ipynb\"><img src=\"..\\..\\negation\\__pv_it\\4b5dd3f037f440d68a8f1e360a14677af00fd6dd0\\expr.png\" style=\"display:inline;vertical-align:middle;\" /></a></span></td></tr>\n",
       "<tr><td>&nbsp;</td><td colspan=4 style-\"text-align:left\"><a class=\"ProveItLink\" href=\"..\\..\\negation\\_axioms_.ipynb#negationElim\">proveit.logic.boolean.negation.negationElim</a></td></tr><tr><td>8</td><td>assumption</td><td></td><td><span style=\"font-size:20px;\"><a class=\"ProveItLink\" href=\"..\\__pv_it\\b7e31d75543b3ce9f0c6e088e7bca956c708f1740\\expr.ipynb\"><img src=\"..\\__pv_it\\b7e31d75543b3ce9f0c6e088e7bca956c708f1740\\expr.png\" style=\"display:inline;vertical-align:middle;\" /></a> &#x22A2;&nbsp;<a class=\"ProveItLink\" href=\"..\\__pv_it\\1da4e2fe7c44632f084fa27ea32e26dc689384c20\\expr.ipynb\"><img src=\"..\\__pv_it\\1da4e2fe7c44632f084fa27ea32e26dc689384c20\\expr.png\" style=\"display:inline;vertical-align:middle;\" /></a></span></td></tr>\n",
       "<tr><td>9</td><td>axiom</td><td></td><td><span style=\"font-size:20px;\"> &#x22A2;&nbsp;<a class=\"ProveItLink\" href=\"..\\..\\__pv_it\\17736e5847b2b74f86dc8cccbef45d3aeb8a06e80\\expr.ipynb\"><img src=\"..\\..\\__pv_it\\17736e5847b2b74f86dc8cccbef45d3aeb8a06e80\\expr.png\" style=\"display:inline;vertical-align:middle;\" /></a></span></td></tr>\n",
       "<tr><td>&nbsp;</td><td colspan=4 style-\"text-align:left\"><a class=\"ProveItLink\" href=\"..\\..\\_axioms_.ipynb#eqTrueIntro\">proveit.logic.boolean.eqTrueIntro</a></td></tr><tr><td>10</td><td>assumption</td><td></td><td><span style=\"font-size:20px;\"><a class=\"ProveItLink\" href=\"..\\__pv_it\\158bdc91074824c720728a23dba5d58593c8cc480\\expr.ipynb\"><img src=\"..\\__pv_it\\158bdc91074824c720728a23dba5d58593c8cc480\\expr.png\" style=\"display:inline;vertical-align:middle;\" /></a> &#x22A2;&nbsp;<a class=\"ProveItLink\" href=\"..\\..\\..\\..\\__pv_it\\2cbe72a7ad6f655694dd697106680215e8489b600\\expr.ipynb\"><img src=\"..\\..\\..\\..\\__pv_it\\2cbe72a7ad6f655694dd697106680215e8489b600\\expr.png\" style=\"display:inline;vertical-align:middle;\" /></a></span></td></tr>\n"
      ],
      "text/plain": [
       "<proveit._core_.proof.Generalization instance at 0x00000000099CB5C8>"
      ]
     },
     "execution_count": 8,
     "metadata": {},
     "output_type": "execute_result"
    }
   ],
   "source": [
    "# To do this manually, execute AandNotBnegated.generalize((A, B), conditions=[A, Not(B)]).\n",
    "# But this can be figured out via automation.\n",
    "%qed"
   ]
  },
  {
   "cell_type": "code",
   "execution_count": 9,
   "metadata": {
    "collapsed": true,
    "deletable": true,
    "editable": true
   },
   "outputs": [],
   "source": []
  }
 ],
 "metadata": {
  "kernelspec": {
   "display_name": "Python 2",
   "language": "python",
   "name": "python2"
  },
  "language_info": {
   "codemirror_mode": {
    "name": "ipython",
    "version": 2
   },
   "file_extension": ".py",
   "mimetype": "text/x-python",
   "name": "python",
   "nbconvert_exporter": "python",
   "pygments_lexer": "ipython2",
   "version": "2.7.11"
  }
 },
 "nbformat": 4,
 "nbformat_minor": 0
}
