{
 "cells": [
  {
   "cell_type": "markdown",
   "metadata": {
    "collapsed": true,
    "deletable": true,
    "editable": true
   },
   "source": [
    "Proof of <a class=\\\"ProveItLink\\\" href=\\\"..\\\\..\\\\..\\\\..\\\\_context_.ipynb\\\">proveit</a>.<a class=\\\"ProveItLink\\\" href=\\\"..\\\\..\\\\..\\\\_context_.ipynb\\\">logic</a>.<a class=\\\"ProveItLink\\\" href=\\\"..\\\\..\\\\_context_.ipynb\\\">boolean</a>.<a class=\\\"ProveItLink\\\" href=\\\"..\\\\_context_.ipynb\\\">conjunction</a>.<a href=\"../_theorems_.ipynb#anyFromAnd\" class=\"ProveItLink\">anyFromAnd</a> theorem\n",
    "========"
   ]
  },
  {
   "cell_type": "code",
   "execution_count": 1,
   "metadata": {
    "collapsed": true,
    "deletable": true,
    "editable": true
   },
   "outputs": [],
   "source": [
    "import proveit\n",
    "context = proveit.Context('..') # the theorem's context is in the parent directory"
   ]
  },
  {
   "cell_type": "code",
   "execution_count": 2,
   "metadata": {
    "collapsed": true,
    "deletable": true,
    "editable": true
   },
   "outputs": [
    {
     "name": "stdout",
     "output_type": "stream",
     "text": [
      "Recorded 'presuming' information\n"
     ]
    },
    {
     "name": "stdout",
     "output_type": "stream",
     "text": [
      "Presuming previous theorems in this context (and any of their dependencies).\n",
      "Beginning proof of\n"
     ]
    },
    {
     "data": {
      "text/html": [
       "<strong id=\"anyFromAnd\">anyFromAnd:</strong> <a href=\"..\\__pv_it\\9dd1864bb8e41defb6e047f6c39e00665c7ab2b40\\expr.ipynb\" target=\"_blank\"><img src=\"..\\__pv_it\\9dd1864bb8e41defb6e047f6c39e00665c7ab2b40\\expr.png\" style=\"display:inline;vertical-align:middle;\" /></a><br>(see <a class=\"ProveItLink\" href=\"..\\__pv_it\\9dd1864bb8e41defb6e047f6c39e00665c7ab2b40\\dependencies.ipynb\" target=\"_blank\">dependencies</a>)"
      ],
      "text/plain": [
       "anyFromAnd: forall_{A_{#}, B, C_{#} | ( .. and A_{#} and ..  and B and  .. and C_{#} and .. )} B"
      ]
     },
     "execution_count": 2,
     "metadata": {},
     "output_type": "execute_result"
    }
   ],
   "source": [
    "%begin_proof anyFromAnd presuming []"
   ]
  },
  {
   "cell_type": "code",
   "execution_count": 3,
   "metadata": {
    "collapsed": true,
    "deletable": true,
    "editable": true
   },
   "outputs": [],
   "source": []
  }
 ],
 "metadata": {
  "kernelspec": {
   "display_name": "Python 2",
   "language": "python",
   "name": "python2"
  },
  "language_info": {
   "codemirror_mode": {
    "name": "ipython",
    "version": 2
   },
   "file_extension": ".py",
   "mimetype": "text/x-python",
   "name": "python",
   "nbconvert_exporter": "python",
   "pygments_lexer": "ipython2",
   "version": "2.7.11"
  }
 },
 "nbformat": 4,
 "nbformat_minor": 0
}
