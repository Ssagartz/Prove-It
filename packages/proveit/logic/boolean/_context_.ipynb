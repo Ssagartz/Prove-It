{
 "cells": [
  {
   "cell_type": "markdown",
   "metadata": {
    "collapsed": true,
    "deletable": true,
    "editable": true
   },
   "source": [
    "Context: <a href=\"..\\..\\_context_.ipynb\">proveit</a>.<a href=\"..\\_context_.ipynb\">logic</a>.boolean\n",
    "========\n",
    "\n",
    "Boolean arithmetic.  Booleans ($\\mathbb{B}$) is the set containing only TRUE ($\\top$) and FALSE ($\\bot$).  This context contains operations that are defined to act on Boolean elements: implication ($\\Rightarrow$, $\\Leftrightarrow$), negation ($\\neg$), conjunction ($\\land$), and disjunction ($\\lor$).  The quantification operations, universal ($\\forall$) and existential ($\\exists$), are also defined in this context because these operate on multiple instances of Booleans."
   ]
  },
  {
   "cell_type": "code",
   "execution_count": 2,
   "metadata": {
    "collapsed": false,
    "deletable": true,
    "editable": true
   },
   "outputs": [
    {
     "data": {
      "application/vnd.jupyter.widget-view+json": {
       "model_id": "bcaabccf5eff488b9c26f5920672aa08"
      }
     },
     "metadata": {},
     "output_type": "display_data"
    }
   ],
   "source": [
    "import proveit\n",
    "%context"
   ]
  },
  {
   "cell_type": "code",
   "execution_count": null,
   "metadata": {
    "collapsed": true,
    "deletable": true,
    "editable": true
   },
   "outputs": [],
   "source": []
  }
 ],
 "metadata": {
  "kernelspec": {
   "display_name": "Python 2",
   "language": "python",
   "name": "python2"
  },
  "language_info": {
   "codemirror_mode": {
    "name": "ipython",
    "version": 2
   },
   "file_extension": ".py",
   "mimetype": "text/x-python",
   "name": "python",
   "nbconvert_exporter": "python",
   "pygments_lexer": "ipython2",
   "version": "2.7.11"
  }
 },
 "nbformat": 4,
 "nbformat_minor": 0
}
