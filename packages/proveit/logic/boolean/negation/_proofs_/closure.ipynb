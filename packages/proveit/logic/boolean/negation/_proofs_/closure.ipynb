{
 "cells": [
  {
   "cell_type": "markdown",
   "metadata": {
    "collapsed": true,
    "deletable": true,
    "editable": true
   },
   "source": [
    "Proof of <a class=\"ProveItLink\" href=\"..\\..\\..\\..\\_context_.ipynb\">proveit</a>.<a class=\"ProveItLink\" href=\"..\\..\\..\\_context_.ipynb\">logic</a>.<a class=\"ProveItLink\" href=\"..\\..\\_context_.ipynb\">boolean</a>.<a class=\"ProveItLink\" href=\"..\\_context_.ipynb\">negation</a>.<a href=\"../_theorems_.ipynb#closure\" class=\"ProveItLink\">closure</a> theorem\n",
    "========"
   ]
  },
  {
   "cell_type": "code",
   "execution_count": 1,
   "metadata": {
    "collapsed": false,
    "deletable": true,
    "editable": true
   },
   "outputs": [],
   "source": [
    "import proveit\n",
    "from proveit.logic.boolean._theorems_ import trueInBool, falseInBool, foldForallOverBool\n",
    "from proveit.logic.boolean.conjunction._theorems_ import andIfBoth \n",
    "from proveit.logic.boolean.negation._theorems_ import notF, notT\n",
    "from proveit import defaults\n",
    "context = proveit.Context('..') # the theorem's context is in the parent directory"
   ]
  },
  {
   "cell_type": "code",
   "execution_count": 2,
   "metadata": {
    "collapsed": false,
    "deletable": true,
    "editable": true
   },
   "outputs": [
    {
     "name": "stdout",
     "output_type": "stream",
     "text": [
      "Beginning proof of closure\n",
      "Recorded 'presuming' information\n",
      "Presuming proveit.logic.boolean.conjunction.andIfBoth, proveit.logic.boolean.falseInBool, proveit.logic.boolean.foldForallOverBool, proveit.logic.boolean.trueInBool, proveit.logic.equality.lhsSubstitute theorem(s).\n",
      "Presuming previous theorems in this context (and any of their dependencies).\n"
     ]
    },
    {
     "data": {
      "text/html": [
       "<strong id=\"closure\">closure:</strong> <a class=\"ProveItLink\" href=\"..\\__pv_it\\42428db6bfee298352d8bfd952e14d632c260fd90\\expr.ipynb\"><img src=\"..\\__pv_it\\42428db6bfee298352d8bfd952e14d632c260fd90\\expr.png\" style=\"display:inline;vertical-align:middle;\" /></a><br>(see <a class=\"ProveItLink\" href=\"..\\__pv_it\\42428db6bfee298352d8bfd952e14d632c260fd90\\dependencies.ipynb\">dependencies</a>)"
      ],
      "text/plain": [
       "closure: forall_{A in BOOLEANS} ([not](A) in BOOLEANS)"
      ]
     },
     "execution_count": 2,
     "metadata": {},
     "output_type": "execute_result"
    }
   ],
   "source": [
    "%proving closure presuming [andIfBoth, trueInBool, falseInBool, foldForallOverBool]"
   ]
  },
  {
   "cell_type": "code",
   "execution_count": 3,
   "metadata": {
    "collapsed": false
   },
   "outputs": [
    {
     "data": {
      "text/html": [
       "<span style=\"font-size:20px;\"> &#x22A2;&nbsp;<a class=\"ProveItLink\" href=\"..\\..\\__pv_it\\3e7350f116816f72fa422609af12e912bbd1845d0\\expr.ipynb\"><img src=\"..\\..\\__pv_it\\3e7350f116816f72fa422609af12e912bbd1845d0\\expr.png\" style=\"display:inline;vertical-align:middle;\" /></a></span>"
      ],
      "text/plain": [
       "|= TRUE in BOOLEANS"
      ]
     },
     "execution_count": 3,
     "metadata": {},
     "output_type": "execute_result"
    }
   ],
   "source": [
    "trueInBool"
   ]
  },
  {
   "cell_type": "code",
   "execution_count": 4,
   "metadata": {
    "collapsed": false,
    "deletable": true,
    "editable": true
   },
   "outputs": [
    {
     "data": {
      "text/html": [
       "<span style=\"font-size:20px;\"> &#x22A2;&nbsp;<a class=\"ProveItLink\" href=\"..\\__pv_it\\d15a94745248812aa8487be134f06c9c5d8bf36b0\\expr.ipynb\"><img src=\"..\\__pv_it\\d15a94745248812aa8487be134f06c9c5d8bf36b0\\expr.png\" style=\"display:inline;vertical-align:middle;\" /></a></span>"
      ],
      "text/plain": [
       "|= [not](FALSE) = TRUE"
      ]
     },
     "execution_count": 4,
     "metadata": {},
     "output_type": "execute_result"
    }
   ],
   "source": [
    "notF"
   ]
  },
  {
   "cell_type": "code",
   "execution_count": 5,
   "metadata": {
    "collapsed": false
   },
   "outputs": [
    {
     "data": {
      "text/html": [
       "<span style=\"font-size:20px;\"> &#x22A2;&nbsp;<a class=\"ProveItLink\" href=\"..\\__pv_it\\e155f3dd0587304a8d684a07669736f27d3552cd0\\expr.ipynb\"><img src=\"..\\__pv_it\\e155f3dd0587304a8d684a07669736f27d3552cd0\\expr.png\" style=\"display:inline;vertical-align:middle;\" /></a></span>"
      ],
      "text/plain": [
       "|= [not](FALSE) in BOOLEANS"
      ]
     },
     "execution_count": 5,
     "metadata": {},
     "output_type": "execute_result"
    }
   ],
   "source": [
    "notF.lhsSubstitute(trueInBool)"
   ]
  },
  {
   "cell_type": "code",
   "execution_count": 6,
   "metadata": {
    "collapsed": false
   },
   "outputs": [
    {
     "data": {
      "text/html": [
       "<span style=\"font-size:20px;\"> &#x22A2;&nbsp;<a class=\"ProveItLink\" href=\"..\\..\\__pv_it\\9f85861a2422bfaf1627227c7d0968a483b71e9d0\\expr.ipynb\"><img src=\"..\\..\\__pv_it\\9f85861a2422bfaf1627227c7d0968a483b71e9d0\\expr.png\" style=\"display:inline;vertical-align:middle;\" /></a></span>"
      ],
      "text/plain": [
       "|= FALSE in BOOLEANS"
      ]
     },
     "execution_count": 6,
     "metadata": {},
     "output_type": "execute_result"
    }
   ],
   "source": [
    "falseInBool"
   ]
  },
  {
   "cell_type": "code",
   "execution_count": 7,
   "metadata": {
    "collapsed": false
   },
   "outputs": [
    {
     "data": {
      "text/html": [
       "<span style=\"font-size:20px;\"> &#x22A2;&nbsp;<a class=\"ProveItLink\" href=\"..\\__pv_it\\616bbddf0a07cdf603496a9c8ad63f9accda890d0\\expr.ipynb\"><img src=\"..\\__pv_it\\616bbddf0a07cdf603496a9c8ad63f9accda890d0\\expr.png\" style=\"display:inline;vertical-align:middle;\" /></a></span>"
      ],
      "text/plain": [
       "|= [not](TRUE) = FALSE"
      ]
     },
     "execution_count": 7,
     "metadata": {},
     "output_type": "execute_result"
    }
   ],
   "source": [
    "notT"
   ]
  },
  {
   "cell_type": "code",
   "execution_count": 8,
   "metadata": {
    "collapsed": false
   },
   "outputs": [
    {
     "data": {
      "text/html": [
       "<span style=\"font-size:20px;\"> &#x22A2;&nbsp;<a class=\"ProveItLink\" href=\"..\\__pv_it\\3fec9a1912bf09585aa2323dac656417ffba08060\\expr.ipynb\"><img src=\"..\\__pv_it\\3fec9a1912bf09585aa2323dac656417ffba08060\\expr.png\" style=\"display:inline;vertical-align:middle;\" /></a></span>"
      ],
      "text/plain": [
       "|= [not](TRUE) in BOOLEANS"
      ]
     },
     "execution_count": 8,
     "metadata": {},
     "output_type": "execute_result"
    }
   ],
   "source": [
    "notT.lhsSubstitute(falseInBool)"
   ]
  },
  {
   "cell_type": "code",
   "execution_count": 9,
   "metadata": {
    "collapsed": false
   },
   "outputs": [
    {
     "data": {
      "text/html": [
       "<table><tr><th>&nbsp;</th><th>step type</th><th>requirements</th><th>statement</th></tr>\n",
       "<tr><td>0</td><td>specialization</td><td>1, 2, 3</td><td><span style=\"font-size:20px;\"> &#x22A2;&nbsp;<a class=\"ProveItLink\" href=\"..\\__pv_it\\42428db6bfee298352d8bfd952e14d632c260fd90\\expr.ipynb\"><img src=\"..\\__pv_it\\42428db6bfee298352d8bfd952e14d632c260fd90\\expr.png\" style=\"display:inline;vertical-align:middle;\" /></a></span></td></tr>\n",
       "<tr><td>&nbsp;</td><td colspan=4 style=\"text-align:left\"><span style=\"font-size:20px;\"><a class=\"ProveItLink\" href=\"..\\__pv_it\\28948508083e6d464b949aa31ff050238af660c20\\expr.ipynb\"><img src=\"..\\__pv_it\\28948508083e6d464b949aa31ff050238af660c20\\expr.png\" style=\"display:inline;vertical-align:middle;\" /></a></span></td></tr><tr><td>1</td><td>theorem</td><td></td><td><span style=\"font-size:20px;\"> &#x22A2;&nbsp;<a class=\"ProveItLink\" href=\"..\\..\\__pv_it\\ee17fc0cf05a76997868c9a70d70d12406c97eb30\\expr.ipynb\"><img src=\"..\\..\\__pv_it\\ee17fc0cf05a76997868c9a70d70d12406c97eb30\\expr.png\" style=\"display:inline;vertical-align:middle;\" /></a></span></td></tr>\n",
       "<tr><td>&nbsp;</td><td colspan=4 style-\"text-align:left\"><a class=\"ProveItLink\" href=\"..\\..\\_proofs_\\foldForallOverBool.ipynb\">proveit.logic.boolean.foldForallOverBool</a></td></tr><tr><td>2</td><td>specialization</td><td>6, 4, 5</td><td><span style=\"font-size:20px;\"> &#x22A2;&nbsp;<a class=\"ProveItLink\" href=\"..\\__pv_it\\3fec9a1912bf09585aa2323dac656417ffba08060\\expr.ipynb\"><img src=\"..\\__pv_it\\3fec9a1912bf09585aa2323dac656417ffba08060\\expr.png\" style=\"display:inline;vertical-align:middle;\" /></a></span></td></tr>\n",
       "<tr><td>&nbsp;</td><td colspan=4 style=\"text-align:left\"><span style=\"font-size:20px;\"><a class=\"ProveItLink\" href=\"..\\__pv_it\\9109dce707673a41d6f6ee16e447a201a66002b90\\expr.ipynb\"><img src=\"..\\__pv_it\\9109dce707673a41d6f6ee16e447a201a66002b90\\expr.png\" style=\"display:inline;vertical-align:middle;\" /></a>, <a class=\"ProveItLink\" href=\"..\\__pv_it\\7b9aa7933c4cbce4b98024580e43e761af62d3c10\\expr.ipynb\"><img src=\"..\\__pv_it\\7b9aa7933c4cbce4b98024580e43e761af62d3c10\\expr.png\" style=\"display:inline;vertical-align:middle;\" /></a>, <a class=\"ProveItLink\" href=\"..\\__pv_it\\4d87a4484fb0d1b132dc947738ff178d45e52e490\\expr.ipynb\"><img src=\"..\\__pv_it\\4d87a4484fb0d1b132dc947738ff178d45e52e490\\expr.png\" style=\"display:inline;vertical-align:middle;\" /></a></span></td></tr><tr><td>3</td><td>specialization</td><td>6, 7, 8</td><td><span style=\"font-size:20px;\"> &#x22A2;&nbsp;<a class=\"ProveItLink\" href=\"..\\__pv_it\\e155f3dd0587304a8d684a07669736f27d3552cd0\\expr.ipynb\"><img src=\"..\\__pv_it\\e155f3dd0587304a8d684a07669736f27d3552cd0\\expr.png\" style=\"display:inline;vertical-align:middle;\" /></a></span></td></tr>\n",
       "<tr><td>&nbsp;</td><td colspan=4 style=\"text-align:left\"><span style=\"font-size:20px;\"><a class=\"ProveItLink\" href=\"..\\__pv_it\\9109dce707673a41d6f6ee16e447a201a66002b90\\expr.ipynb\"><img src=\"..\\__pv_it\\9109dce707673a41d6f6ee16e447a201a66002b90\\expr.png\" style=\"display:inline;vertical-align:middle;\" /></a>, <a class=\"ProveItLink\" href=\"..\\__pv_it\\90b4d3da21c37e2340734de786dc12b528a4b1640\\expr.ipynb\"><img src=\"..\\__pv_it\\90b4d3da21c37e2340734de786dc12b528a4b1640\\expr.png\" style=\"display:inline;vertical-align:middle;\" /></a>, <a class=\"ProveItLink\" href=\"..\\__pv_it\\214b3f24d1c0dc6a5a937c9e445eaf4711e2a00e0\\expr.ipynb\"><img src=\"..\\__pv_it\\214b3f24d1c0dc6a5a937c9e445eaf4711e2a00e0\\expr.png\" style=\"display:inline;vertical-align:middle;\" /></a></span></td></tr><tr><td>4</td><td>theorem</td><td></td><td><span style=\"font-size:20px;\"> &#x22A2;&nbsp;<a class=\"ProveItLink\" href=\"..\\..\\__pv_it\\9f85861a2422bfaf1627227c7d0968a483b71e9d0\\expr.ipynb\"><img src=\"..\\..\\__pv_it\\9f85861a2422bfaf1627227c7d0968a483b71e9d0\\expr.png\" style=\"display:inline;vertical-align:middle;\" /></a></span></td></tr>\n",
       "<tr><td>&nbsp;</td><td colspan=4 style-\"text-align:left\"><a class=\"ProveItLink\" href=\"..\\..\\_proofs_\\falseInBool.ipynb\">proveit.logic.boolean.falseInBool</a></td></tr><tr><td>5</td><td>theorem</td><td></td><td><span style=\"font-size:20px;\"> &#x22A2;&nbsp;<a class=\"ProveItLink\" href=\"..\\__pv_it\\616bbddf0a07cdf603496a9c8ad63f9accda890d0\\expr.ipynb\"><img src=\"..\\__pv_it\\616bbddf0a07cdf603496a9c8ad63f9accda890d0\\expr.png\" style=\"display:inline;vertical-align:middle;\" /></a></span></td></tr>\n",
       "<tr><td>&nbsp;</td><td colspan=4 style-\"text-align:left\"><a class=\"ProveItLink\" href=\"notT.ipynb\">proveit.logic.boolean.negation.notT</a></td></tr><tr><td>6</td><td>theorem</td><td></td><td><span style=\"font-size:20px;\"> &#x22A2;&nbsp;<a class=\"ProveItLink\" href=\"..\\..\\..\\equality\\__pv_it\\6425c7b64708730992bfb72314f6aeaa5dc1d76c0\\expr.ipynb\"><img src=\"..\\..\\..\\equality\\__pv_it\\6425c7b64708730992bfb72314f6aeaa5dc1d76c0\\expr.png\" style=\"display:inline;vertical-align:middle;\" /></a></span></td></tr>\n",
       "<tr><td>&nbsp;</td><td colspan=4 style-\"text-align:left\"><a class=\"ProveItLink\" href=\"..\\..\\..\\equality\\_proofs_\\lhsSubstitute.ipynb\">proveit.logic.equality.lhsSubstitute</a></td></tr><tr><td>7</td><td>theorem</td><td></td><td><span style=\"font-size:20px;\"> &#x22A2;&nbsp;<a class=\"ProveItLink\" href=\"..\\..\\__pv_it\\3e7350f116816f72fa422609af12e912bbd1845d0\\expr.ipynb\"><img src=\"..\\..\\__pv_it\\3e7350f116816f72fa422609af12e912bbd1845d0\\expr.png\" style=\"display:inline;vertical-align:middle;\" /></a></span></td></tr>\n",
       "<tr><td>&nbsp;</td><td colspan=4 style-\"text-align:left\"><a class=\"ProveItLink\" href=\"..\\..\\_proofs_\\trueInBool.ipynb\">proveit.logic.boolean.trueInBool</a></td></tr><tr><td>8</td><td>theorem</td><td></td><td><span style=\"font-size:20px;\"> &#x22A2;&nbsp;<a class=\"ProveItLink\" href=\"..\\__pv_it\\d15a94745248812aa8487be134f06c9c5d8bf36b0\\expr.ipynb\"><img src=\"..\\__pv_it\\d15a94745248812aa8487be134f06c9c5d8bf36b0\\expr.png\" style=\"display:inline;vertical-align:middle;\" /></a></span></td></tr>\n",
       "<tr><td>&nbsp;</td><td colspan=4 style-\"text-align:left\"><a class=\"ProveItLink\" href=\"notF.ipynb\">proveit.logic.boolean.negation.notF</a></td></tr>"
      ],
      "text/plain": [
       "<proveit._core_.proof.Specialization instance at 0x0000000008FF36C8>"
      ]
     },
     "execution_count": 9,
     "metadata": {},
     "output_type": "execute_result"
    }
   ],
   "source": [
    "%qed"
   ]
  },
  {
   "cell_type": "code",
   "execution_count": 10,
   "metadata": {
    "collapsed": true
   },
   "outputs": [],
   "source": []
  }
 ],
 "metadata": {
  "kernelspec": {
   "display_name": "Python 2",
   "language": "python",
   "name": "python2"
  },
  "language_info": {
   "codemirror_mode": {
    "name": "ipython",
    "version": 2
   },
   "file_extension": ".py",
   "mimetype": "text/x-python",
   "name": "python",
   "nbconvert_exporter": "python",
   "pygments_lexer": "ipython2",
   "version": "2.7.11"
  }
 },
 "nbformat": 4,
 "nbformat_minor": 0
}
