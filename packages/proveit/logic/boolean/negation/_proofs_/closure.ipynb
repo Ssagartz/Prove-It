{
 "cells": [
  {
   "cell_type": "markdown",
   "metadata": {
    "collapsed": true,
    "deletable": true,
    "editable": true
   },
   "source": [
    "Proof of <a class=\"ProveItLink\" href=\"..\\..\\..\\..\\_context_.ipynb\">proveit</a>.<a class=\"ProveItLink\" href=\"..\\..\\..\\_context_.ipynb\">logic</a>.<a class=\"ProveItLink\" href=\"..\\..\\_context_.ipynb\">boolean</a>.<a class=\"ProveItLink\" href=\"..\\_context_.ipynb\">negation</a>.<a href=\"../_theorems_.ipynb#closure\" class=\"ProveItLink\">closure</a> theorem\n",
    "========"
   ]
  },
  {
   "cell_type": "code",
   "execution_count": 1,
   "metadata": {
    "collapsed": false,
    "deletable": true,
    "editable": true
   },
   "outputs": [],
   "source": [
    "import proveit\n",
    "from proveit.logic.boolean._theorems_ import trueInBool, falseInBool, foldForallOverBool\n",
    "from proveit.logic.boolean.conjunction._theorems_ import andIfBoth \n",
    "from proveit.logic.boolean.negation._theorems_ import notF, notT\n",
    "from proveit import defaults\n",
    "context = proveit.Context('..') # the theorem's context is in the parent directory"
   ]
  },
  {
   "cell_type": "code",
   "execution_count": 2,
   "metadata": {
    "collapsed": false,
    "deletable": true,
    "editable": true
   },
   "outputs": [
    {
     "name": "stdout",
     "output_type": "stream",
     "text": [
      "Beginning proof of closure\n",
      "Recorded 'presuming' information\n"
     ]
    },
    {
     "name": "stdout",
     "output_type": "stream",
     "text": [
      "Presuming proveit.logic.boolean.conjunction.andIfBoth, proveit.logic.boolean.disjunction.falseOrTrue, proveit.logic.boolean.disjunction.trueOrFalse, proveit.logic.boolean.falseInBool, proveit.logic.boolean.foldForallOverBool, proveit.logic.boolean.trueInBool, proveit.logic.equality.subLeftSideInto, proveit.logic.equality.unfoldNotEquals theorem(s).\n",
      "Presuming previous theorems in this context (and any of their dependencies).\n"
     ]
    },
    {
     "data": {
      "text/html": [
       "<strong id=\"closure\">closure:</strong> <a class=\"ProveItLink\" href=\"..\\__pv_it\\2bf039a75462a829870dcf59b07f81bfb03962800\\expr.ipynb\"><img src=\"..\\__pv_it\\2bf039a75462a829870dcf59b07f81bfb03962800\\expr.png\" style=\"display:inline;vertical-align:middle;\" /></a><br>(see <a class=\"ProveItLink\" href=\"..\\__pv_it\\2bf039a75462a829870dcf59b07f81bfb03962800\\dependencies.ipynb\">dependencies</a>)"
      ],
      "text/plain": [
       "closure: forall_{A in BOOLEANS} ([not](A) in BOOLEANS)"
      ]
     },
     "execution_count": 2,
     "metadata": {},
     "output_type": "execute_result"
    }
   ],
   "source": [
    "%proving closure presuming [andIfBoth, trueInBool, falseInBool, foldForallOverBool]"
   ]
  },
  {
   "cell_type": "code",
   "execution_count": 3,
   "metadata": {
    "collapsed": false,
    "deletable": true,
    "editable": true
   },
   "outputs": [
    {
     "data": {
      "text/html": [
       "<span style=\"font-size:20px;\"> &#x22A2;&nbsp;<a class=\"ProveItLink\" href=\"..\\..\\__pv_it\\3e7350f116816f72fa422609af12e912bbd1845d0\\expr.ipynb\"><img src=\"..\\..\\__pv_it\\3e7350f116816f72fa422609af12e912bbd1845d0\\expr.png\" style=\"display:inline;vertical-align:middle;\" /></a></span>"
      ],
      "text/plain": [
       "|= TRUE in BOOLEANS"
      ]
     },
     "execution_count": 3,
     "metadata": {},
     "output_type": "execute_result"
    }
   ],
   "source": [
    "trueInBool"
   ]
  },
  {
   "cell_type": "code",
   "execution_count": 4,
   "metadata": {
    "collapsed": false,
    "deletable": true,
    "editable": true
   },
   "outputs": [
    {
     "data": {
      "text/html": [
       "<span style=\"font-size:20px;\"> &#x22A2;&nbsp;<a class=\"ProveItLink\" href=\"..\\__pv_it\\d15a94745248812aa8487be134f06c9c5d8bf36b0\\expr.ipynb\"><img src=\"..\\__pv_it\\d15a94745248812aa8487be134f06c9c5d8bf36b0\\expr.png\" style=\"display:inline;vertical-align:middle;\" /></a></span>"
      ],
      "text/plain": [
       "|= [not](FALSE) = TRUE"
      ]
     },
     "execution_count": 4,
     "metadata": {},
     "output_type": "execute_result"
    }
   ],
   "source": [
    "notF"
   ]
  },
  {
   "cell_type": "code",
   "execution_count": 5,
   "metadata": {
    "collapsed": false,
    "deletable": true,
    "editable": true
   },
   "outputs": [
    {
     "data": {
      "text/html": [
       "<span style=\"font-size:20px;\"> &#x22A2;&nbsp;<a class=\"ProveItLink\" href=\"..\\__pv_it\\e155f3dd0587304a8d684a07669736f27d3552cd0\\expr.ipynb\"><img src=\"..\\__pv_it\\e155f3dd0587304a8d684a07669736f27d3552cd0\\expr.png\" style=\"display:inline;vertical-align:middle;\" /></a></span>"
      ],
      "text/plain": [
       "|= [not](FALSE) in BOOLEANS"
      ]
     },
     "execution_count": 5,
     "metadata": {},
     "output_type": "execute_result"
    }
   ],
   "source": [
    "notF.subLeftSideInto(trueInBool)"
   ]
  },
  {
   "cell_type": "code",
   "execution_count": 6,
   "metadata": {
    "collapsed": false,
    "deletable": true,
    "editable": true
   },
   "outputs": [
    {
     "data": {
      "text/html": [
       "<span style=\"font-size:20px;\"> &#x22A2;&nbsp;<a class=\"ProveItLink\" href=\"..\\..\\__pv_it\\9f85861a2422bfaf1627227c7d0968a483b71e9d0\\expr.ipynb\"><img src=\"..\\..\\__pv_it\\9f85861a2422bfaf1627227c7d0968a483b71e9d0\\expr.png\" style=\"display:inline;vertical-align:middle;\" /></a></span>"
      ],
      "text/plain": [
       "|= FALSE in BOOLEANS"
      ]
     },
     "execution_count": 6,
     "metadata": {},
     "output_type": "execute_result"
    }
   ],
   "source": [
    "falseInBool"
   ]
  },
  {
   "cell_type": "code",
   "execution_count": 7,
   "metadata": {
    "collapsed": false,
    "deletable": true,
    "editable": true
   },
   "outputs": [
    {
     "data": {
      "text/html": [
       "<span style=\"font-size:20px;\"> &#x22A2;&nbsp;<a class=\"ProveItLink\" href=\"..\\__pv_it\\616bbddf0a07cdf603496a9c8ad63f9accda890d0\\expr.ipynb\"><img src=\"..\\__pv_it\\616bbddf0a07cdf603496a9c8ad63f9accda890d0\\expr.png\" style=\"display:inline;vertical-align:middle;\" /></a></span>"
      ],
      "text/plain": [
       "|= [not](TRUE) = FALSE"
      ]
     },
     "execution_count": 7,
     "metadata": {},
     "output_type": "execute_result"
    }
   ],
   "source": [
    "notT"
   ]
  },
  {
   "cell_type": "code",
   "execution_count": 8,
   "metadata": {
    "collapsed": false,
    "deletable": true,
    "editable": true
   },
   "outputs": [
    {
     "data": {
      "text/html": [
       "<span style=\"font-size:20px;\"> &#x22A2;&nbsp;<a class=\"ProveItLink\" href=\"..\\__pv_it\\3fec9a1912bf09585aa2323dac656417ffba08060\\expr.ipynb\"><img src=\"..\\__pv_it\\3fec9a1912bf09585aa2323dac656417ffba08060\\expr.png\" style=\"display:inline;vertical-align:middle;\" /></a></span>"
      ],
      "text/plain": [
       "|= [not](TRUE) in BOOLEANS"
      ]
     },
     "execution_count": 8,
     "metadata": {},
     "output_type": "execute_result"
    }
   ],
   "source": [
    "notT.subLeftSideInto(falseInBool)"
   ]
  },
  {
   "cell_type": "code",
   "execution_count": 9,
   "metadata": {
    "collapsed": false,
    "deletable": true,
    "editable": true
   },
   "outputs": [
    {
     "data": {
      "text/html": [
       "<table><tr><th>&nbsp;</th><th>step type</th><th>requirements</th><th>statement</th></tr>\n",
       "<tr><td>0</td><td>specialization</td><td>1, 2, 3</td><td><span style=\"font-size:20px;\"> &#x22A2;&nbsp;<a class=\"ProveItLink\" href=\"..\\__pv_it\\2bf039a75462a829870dcf59b07f81bfb03962800\\expr.ipynb\"><img src=\"..\\__pv_it\\2bf039a75462a829870dcf59b07f81bfb03962800\\expr.png\" style=\"display:inline;vertical-align:middle;\" /></a></span></td></tr>\n",
       "<tr><td>&nbsp;</td><td colspan=4 style=\"text-align:left\"><span style=\"font-size:20px;\"><a class=\"ProveItLink\" href=\"..\\__pv_it\\fb99effa06424a2bfd39f30e2c2adb938a07dc920\\expr.ipynb\"><img src=\"..\\__pv_it\\fb99effa06424a2bfd39f30e2c2adb938a07dc920\\expr.png\" style=\"display:inline;vertical-align:middle;\" /></a></span></td></tr><tr><td>1</td><td>theorem</td><td></td><td><span style=\"font-size:20px;\"> &#x22A2;&nbsp;<a class=\"ProveItLink\" href=\"..\\..\\__pv_it\\965473c685174e6d5954e33f39f8de1cc1c417c10\\expr.ipynb\"><img src=\"..\\..\\__pv_it\\965473c685174e6d5954e33f39f8de1cc1c417c10\\expr.png\" style=\"display:inline;vertical-align:middle;\" /></a></span></td></tr>\n",
       "<tr><td>&nbsp;</td><td colspan=4 style-\"text-align:left\"><a class=\"ProveItLink\" href=\"..\\..\\_proofs_\\foldForallOverBool.ipynb\">proveit.logic.boolean.foldForallOverBool</a></td></tr><tr><td>2</td><td>specialization</td><td>6, 4, 5</td><td><span style=\"font-size:20px;\"> &#x22A2;&nbsp;<a class=\"ProveItLink\" href=\"..\\__pv_it\\3fec9a1912bf09585aa2323dac656417ffba08060\\expr.ipynb\"><img src=\"..\\__pv_it\\3fec9a1912bf09585aa2323dac656417ffba08060\\expr.png\" style=\"display:inline;vertical-align:middle;\" /></a></span></td></tr>\n",
       "<tr><td>&nbsp;</td><td colspan=4 style=\"text-align:left\"><span style=\"font-size:20px;\"><a class=\"ProveItLink\" href=\"..\\__pv_it\\f972f9af5a764b91495172fab109962a8fc54a2c0\\expr.ipynb\"><img src=\"..\\__pv_it\\f972f9af5a764b91495172fab109962a8fc54a2c0\\expr.png\" style=\"display:inline;vertical-align:middle;\" /></a>, <a class=\"ProveItLink\" href=\"..\\__pv_it\\6ce4e5bfdf8bd84856f20e4126ba81fa699a4ae70\\expr.ipynb\"><img src=\"..\\__pv_it\\6ce4e5bfdf8bd84856f20e4126ba81fa699a4ae70\\expr.png\" style=\"display:inline;vertical-align:middle;\" /></a>, <a class=\"ProveItLink\" href=\"..\\__pv_it\\9fcbe233155f7e124010446d11752dbb33bd2ef40\\expr.ipynb\"><img src=\"..\\__pv_it\\9fcbe233155f7e124010446d11752dbb33bd2ef40\\expr.png\" style=\"display:inline;vertical-align:middle;\" /></a></span></td></tr><tr><td>3</td><td>specialization</td><td>6, 7, 8</td><td><span style=\"font-size:20px;\"> &#x22A2;&nbsp;<a class=\"ProveItLink\" href=\"..\\__pv_it\\e155f3dd0587304a8d684a07669736f27d3552cd0\\expr.ipynb\"><img src=\"..\\__pv_it\\e155f3dd0587304a8d684a07669736f27d3552cd0\\expr.png\" style=\"display:inline;vertical-align:middle;\" /></a></span></td></tr>\n",
       "<tr><td>&nbsp;</td><td colspan=4 style=\"text-align:left\"><span style=\"font-size:20px;\"><a class=\"ProveItLink\" href=\"..\\__pv_it\\f972f9af5a764b91495172fab109962a8fc54a2c0\\expr.ipynb\"><img src=\"..\\__pv_it\\f972f9af5a764b91495172fab109962a8fc54a2c0\\expr.png\" style=\"display:inline;vertical-align:middle;\" /></a>, <a class=\"ProveItLink\" href=\"..\\__pv_it\\cea82650c23b8ff11ff895378d5f6f73e9327a090\\expr.ipynb\"><img src=\"..\\__pv_it\\cea82650c23b8ff11ff895378d5f6f73e9327a090\\expr.png\" style=\"display:inline;vertical-align:middle;\" /></a>, <a class=\"ProveItLink\" href=\"..\\__pv_it\\2737a2247b400aa2282d989b70bdb7d0af7eb9b80\\expr.ipynb\"><img src=\"..\\__pv_it\\2737a2247b400aa2282d989b70bdb7d0af7eb9b80\\expr.png\" style=\"display:inline;vertical-align:middle;\" /></a></span></td></tr><tr><td>4</td><td>theorem</td><td></td><td><span style=\"font-size:20px;\"> &#x22A2;&nbsp;<a class=\"ProveItLink\" href=\"..\\..\\__pv_it\\9f85861a2422bfaf1627227c7d0968a483b71e9d0\\expr.ipynb\"><img src=\"..\\..\\__pv_it\\9f85861a2422bfaf1627227c7d0968a483b71e9d0\\expr.png\" style=\"display:inline;vertical-align:middle;\" /></a></span></td></tr>\n",
       "<tr><td>&nbsp;</td><td colspan=4 style-\"text-align:left\"><a class=\"ProveItLink\" href=\"..\\..\\_proofs_\\falseInBool.ipynb\">proveit.logic.boolean.falseInBool</a></td></tr><tr><td>5</td><td>theorem</td><td></td><td><span style=\"font-size:20px;\"> &#x22A2;&nbsp;<a class=\"ProveItLink\" href=\"..\\__pv_it\\616bbddf0a07cdf603496a9c8ad63f9accda890d0\\expr.ipynb\"><img src=\"..\\__pv_it\\616bbddf0a07cdf603496a9c8ad63f9accda890d0\\expr.png\" style=\"display:inline;vertical-align:middle;\" /></a></span></td></tr>\n",
       "<tr><td>&nbsp;</td><td colspan=4 style-\"text-align:left\"><a class=\"ProveItLink\" href=\"notT.ipynb\">proveit.logic.boolean.negation.notT</a></td></tr><tr><td>6</td><td>theorem</td><td></td><td><span style=\"font-size:20px;\"> &#x22A2;&nbsp;<a class=\"ProveItLink\" href=\"..\\..\\..\\equality\\__pv_it\\6425c7b64708730992bfb72314f6aeaa5dc1d76c0\\expr.ipynb\"><img src=\"..\\..\\..\\equality\\__pv_it\\6425c7b64708730992bfb72314f6aeaa5dc1d76c0\\expr.png\" style=\"display:inline;vertical-align:middle;\" /></a></span></td></tr>\n",
       "<tr><td>&nbsp;</td><td colspan=4 style-\"text-align:left\"><a class=\"ProveItLink\" href=\"..\\..\\..\\equality\\_proofs_\\subLeftSideInto.ipynb\">proveit.logic.equality.subLeftSideInto</a></td></tr><tr><td>7</td><td>theorem</td><td></td><td><span style=\"font-size:20px;\"> &#x22A2;&nbsp;<a class=\"ProveItLink\" href=\"..\\..\\__pv_it\\3e7350f116816f72fa422609af12e912bbd1845d0\\expr.ipynb\"><img src=\"..\\..\\__pv_it\\3e7350f116816f72fa422609af12e912bbd1845d0\\expr.png\" style=\"display:inline;vertical-align:middle;\" /></a></span></td></tr>\n",
       "<tr><td>&nbsp;</td><td colspan=4 style-\"text-align:left\"><a class=\"ProveItLink\" href=\"..\\..\\_proofs_\\trueInBool.ipynb\">proveit.logic.boolean.trueInBool</a></td></tr><tr><td>8</td><td>theorem</td><td></td><td><span style=\"font-size:20px;\"> &#x22A2;&nbsp;<a class=\"ProveItLink\" href=\"..\\__pv_it\\d15a94745248812aa8487be134f06c9c5d8bf36b0\\expr.ipynb\"><img src=\"..\\__pv_it\\d15a94745248812aa8487be134f06c9c5d8bf36b0\\expr.png\" style=\"display:inline;vertical-align:middle;\" /></a></span></td></tr>\n",
       "<tr><td>&nbsp;</td><td colspan=4 style-\"text-align:left\"><a class=\"ProveItLink\" href=\"notF.ipynb\">proveit.logic.boolean.negation.notF</a></td></tr>"
      ],
      "text/plain": [
       "<proveit._core_.proof.Specialization instance at 0x000000000958EDC8>"
      ]
     },
     "execution_count": 9,
     "metadata": {},
     "output_type": "execute_result"
    }
   ],
   "source": [
    "%qed"
   ]
  },
  {
   "cell_type": "code",
   "execution_count": 10,
   "metadata": {
    "collapsed": true,
    "deletable": true,
    "editable": true
   },
   "outputs": [],
   "source": []
  }
 ],
 "metadata": {
  "kernelspec": {
   "display_name": "Python 2",
   "language": "python",
   "name": "python2"
  },
  "language_info": {
   "codemirror_mode": {
    "name": "ipython",
    "version": 2
   },
   "file_extension": ".py",
   "mimetype": "text/x-python",
   "name": "python",
   "nbconvert_exporter": "python",
   "pygments_lexer": "ipython2",
   "version": "2.7.11"
  }
 },
 "nbformat": 4,
 "nbformat_minor": 0
}
