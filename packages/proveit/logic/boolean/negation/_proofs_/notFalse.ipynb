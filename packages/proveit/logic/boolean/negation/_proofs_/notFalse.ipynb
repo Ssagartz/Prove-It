{
 "cells": [
  {
   "cell_type": "markdown",
   "metadata": {
    "collapsed": true,
    "deletable": true,
    "editable": true
   },
   "source": [
    "Proof of <a class=\"ProveItLink\" href=\"..\\..\\..\\..\\_context_.ipynb\">proveit</a>.<a class=\"ProveItLink\" href=\"..\\..\\..\\_context_.ipynb\">logic</a>.<a class=\"ProveItLink\" href=\"..\\..\\_context_.ipynb\">boolean</a>.<a class=\"ProveItLink\" href=\"..\\_context_.ipynb\">negation</a>.<a href=\"../_theorems_.ipynb#notFalse\" class=\"ProveItLink\">notFalse</a> theorem\n",
    "========"
   ]
  },
  {
   "cell_type": "code",
   "execution_count": 1,
   "metadata": {
    "collapsed": true,
    "deletable": true,
    "editable": true
   },
   "outputs": [],
   "source": [
    "import proveit\n",
    "context = proveit.Context('..') # the theorem's context is in the parent directory\n",
    "from proveit.logic.boolean.negation._axioms_ import negationIntro\n",
    "from proveit._common_ import A\n",
    "from proveit.logic import FALSE"
   ]
  },
  {
   "cell_type": "code",
   "execution_count": 2,
   "metadata": {
    "collapsed": false,
    "deletable": true,
    "editable": true
   },
   "outputs": [
    {
     "name": "stdout",
     "output_type": "stream",
     "text": [
      "Recorded 'presuming' information\n",
      "Beginning proof of\n"
     ]
    },
    {
     "data": {
      "text/html": [
       "<strong id=\"notFalse\">notFalse:</strong> <a href=\"..\\__pv_it\\0d44395a89fd59811250466525237a266acbd1150\\expr.ipynb\" target=\"_blank\"><img src=\"..\\__pv_it\\0d44395a89fd59811250466525237a266acbd1150\\expr.png\" style=\"display:inline;vertical-align:middle;\" /></a><br>(see <a class=\"ProveItLink\" href=\"..\\__pv_it\\0d44395a89fd59811250466525237a266acbd1150\\dependencies.ipynb\" target=\"_blank\">dependencies</a>)"
      ],
      "text/plain": [
       "notFalse: not(FALSE)"
      ]
     },
     "execution_count": 2,
     "metadata": {},
     "output_type": "execute_result"
    }
   ],
   "source": [
    "%begin_proof notFalse presuming []"
   ]
  },
  {
   "cell_type": "code",
   "execution_count": 3,
   "metadata": {
    "collapsed": false
   },
   "outputs": [
    {
     "data": {
      "text/html": [
       "<span style=\"font-size:20px;\"> &#x22A2;&nbsp;<a href=\"..\\__pv_it\\b55c48e53444b96957af642628ea1af29f6bcabb0\\expr.ipynb\" target=\"_blank\"><img src=\"..\\__pv_it\\b55c48e53444b96957af642628ea1af29f6bcabb0\\expr.png\" style=\"display:inline;vertical-align:middle;\" /></a></span>"
      ],
      "text/plain": [
       "|= forall_{A | (A = FALSE)} not(A)"
      ]
     },
     "execution_count": 3,
     "metadata": {},
     "output_type": "execute_result"
    }
   ],
   "source": [
    "negationIntro"
   ]
  },
  {
   "cell_type": "code",
   "execution_count": 4,
   "metadata": {
    "collapsed": false,
    "deletable": true,
    "editable": true
   },
   "outputs": [
    {
     "name": "stdout",
     "output_type": "stream",
     "text": [
      "notFalse has been proven.  Now simply execute \"%qed\".\n"
     ]
    },
    {
     "data": {
      "text/html": [
       "<span style=\"font-size:20px;\"> &#x22A2;&nbsp;<a href=\"..\\__pv_it\\0d44395a89fd59811250466525237a266acbd1150\\expr.ipynb\" target=\"_blank\"><img src=\"..\\__pv_it\\0d44395a89fd59811250466525237a266acbd1150\\expr.png\" style=\"display:inline;vertical-align:middle;\" /></a></span>"
      ],
      "text/plain": [
       "|= not(FALSE)"
      ]
     },
     "execution_count": 4,
     "metadata": {},
     "output_type": "execute_result"
    }
   ],
   "source": [
    "negationIntro.specialize({A:FALSE})"
   ]
  },
  {
   "cell_type": "code",
   "execution_count": 5,
   "metadata": {
    "collapsed": false,
    "deletable": true,
    "editable": true
   },
   "outputs": [
    {
     "name": "stdout",
     "output_type": "stream",
     "text": [
      "proveit.logic.boolean.negation.notFalse has a proof\n",
      "proveit.logic.boolean.negation.notFalse has been completely proven\n",
      "proveit.logic.boolean.negation.notF has been completely proven\n"
     ]
    },
    {
     "data": {
      "text/html": [
       "<table><tr><th>&nbsp;</th><th>step type</th><th>requirements</th><th>statement</th></tr>\n",
       "<tr><td>0</td><td>specialization</td><td>1, 2</td><td><span style=\"font-size:20px;\"> &#x22A2;&nbsp;<a href=\"..\\__pv_it\\0d44395a89fd59811250466525237a266acbd1150\\expr.ipynb\" target=\"_blank\"><img src=\"..\\__pv_it\\0d44395a89fd59811250466525237a266acbd1150\\expr.png\" style=\"display:inline;vertical-align:middle;\" /></a></span></td></tr>\n",
       "<tr><td>&nbsp;</td><td colspan=4 style=\"text-align:left\"><span style=\"font-size:20px;\"><a href=\"..\\__pv_it\\bc7c3636b6cd389a31a6295ab7e13cf85f9dcc870\\expr.ipynb\" target=\"_blank\"><img src=\"..\\__pv_it\\bc7c3636b6cd389a31a6295ab7e13cf85f9dcc870\\expr.png\" style=\"display:inline;vertical-align:middle;\" /></a></span></td></tr><tr><td>1</td><td>axiom</td><td></td><td><span style=\"font-size:20px;\"> &#x22A2;&nbsp;<a href=\"..\\__pv_it\\b55c48e53444b96957af642628ea1af29f6bcabb0\\expr.ipynb\" target=\"_blank\"><img src=\"..\\__pv_it\\b55c48e53444b96957af642628ea1af29f6bcabb0\\expr.png\" style=\"display:inline;vertical-align:middle;\" /></a></span></td></tr>\n",
       "<tr><td>&nbsp;</td><td colspan=4 style-\"text-align:left\"><a href=\"..\\_axioms_.ipynb#negationIntro\" target=\"_blank\">proveit.logic.boolean.negation.negationIntro</a></td></tr><tr><td>2</td><td>specialization</td><td>3</td><td><span style=\"font-size:20px;\"> &#x22A2;&nbsp;<a href=\"..\\__pv_it\\7afe859d32be3c601bce5378b287de980eb2e9200\\expr.ipynb\" target=\"_blank\"><img src=\"..\\__pv_it\\7afe859d32be3c601bce5378b287de980eb2e9200\\expr.png\" style=\"display:inline;vertical-align:middle;\" /></a></span></td></tr>\n",
       "<tr><td>&nbsp;</td><td colspan=4 style=\"text-align:left\"><span style=\"font-size:20px;\"><a href=\"..\\__pv_it\\bc9bcfb447726dffc257794f7b98b54670c7f3460\\expr.ipynb\" target=\"_blank\"><img src=\"..\\__pv_it\\bc9bcfb447726dffc257794f7b98b54670c7f3460\\expr.png\" style=\"display:inline;vertical-align:middle;\" /></a></span></td></tr><tr><td>3</td><td>axiom</td><td></td><td><span style=\"font-size:20px;\"> &#x22A2;&nbsp;<a href=\"..\\..\\..\\equality\\__pv_it\\e8ab2bd55e5bf868fc504a81374f6605cba561110\\expr.ipynb\" target=\"_blank\"><img src=\"..\\..\\..\\equality\\__pv_it\\e8ab2bd55e5bf868fc504a81374f6605cba561110\\expr.png\" style=\"display:inline;vertical-align:middle;\" /></a></span></td></tr>\n",
       "<tr><td>&nbsp;</td><td colspan=4 style-\"text-align:left\"><a href=\"..\\..\\..\\equality\\_axioms_.ipynb#equalsReflexivity\" target=\"_blank\">proveit.logic.equality.equalsReflexivity</a></td></tr>"
      ],
      "text/plain": [
       "<proveit._core_.proof.Specialization instance at 0x0000000006703B48>"
      ]
     },
     "execution_count": 5,
     "metadata": {},
     "output_type": "execute_result"
    }
   ],
   "source": [
    "%qed"
   ]
  },
  {
   "cell_type": "code",
   "execution_count": null,
   "metadata": {
    "collapsed": true,
    "deletable": true,
    "editable": true
   },
   "outputs": [],
   "source": []
  }
 ],
 "metadata": {
  "kernelspec": {
   "display_name": "Python 2",
   "language": "python",
   "name": "python2"
  },
  "language_info": {
   "codemirror_mode": {
    "name": "ipython",
    "version": 2
   },
   "file_extension": ".py",
   "mimetype": "text/x-python",
   "name": "python",
   "nbconvert_exporter": "python",
   "pygments_lexer": "ipython2",
   "version": "2.7.11"
  }
 },
 "nbformat": 4,
 "nbformat_minor": 0
}
