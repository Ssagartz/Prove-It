{
 "cells": [
  {
   "cell_type": "markdown",
   "metadata": {
    "collapsed": true,
    "deletable": true,
    "editable": true
   },
   "source": [
    "Proof of <a class=\"ProveItLink\" href=\"..\\..\\..\\..\\_context_.ipynb\">proveit</a>.<a class=\"ProveItLink\" href=\"..\\..\\..\\_context_.ipynb\">logic</a>.<a class=\"ProveItLink\" href=\"..\\..\\_context_.ipynb\">boolean</a>.<a class=\"ProveItLink\" href=\"..\\_context_.ipynb\">negation</a>.<a class=\"ProveItLink\" href=\"../_theorems_.ipynb#operandInBool\">operandInBool</a> theorem\n",
    "========"
   ]
  },
  {
   "cell_type": "code",
   "execution_count": 1,
   "metadata": {
    "collapsed": false,
    "deletable": true,
    "editable": true
   },
   "outputs": [],
   "source": [
    "import proveit\n",
    "from proveit import defaults\n",
    "from proveit._common_ import A\n",
    "from proveit.logic import inBool, Not\n",
    "from proveit.logic.boolean._theorems_ import inBoolIfFalse, inBoolIfTrue, fromExcludedMiddle\n",
    "context = proveit.Context('..') # the theorem's context is in the parent directory"
   ]
  },
  {
   "cell_type": "code",
   "execution_count": 2,
   "metadata": {
    "collapsed": false,
    "deletable": true,
    "editable": true
   },
   "outputs": [
    {
     "name": "stdout",
     "output_type": "stream",
     "text": [
      "Beginning proof of operandInBool\n",
      "Recorded 'presuming' information\n",
      "Presuming proveit.logic.boolean.fromExcludedMiddle, proveit.logic.boolean.inBoolIfFalse, proveit.logic.boolean.inBoolIfTrue theorem(s).\n",
      "Presuming previous theorems in this context (and any of their dependencies).\n"
     ]
    },
    {
     "data": {
      "text/html": [
       "<strong id=\"operandInBool\">operandInBool:</strong> <a class=\"ProveItLink\" href=\"..\\__pv_it\\efb4a1c9f578df562d5200978e49bf9a77a2673e0\\expr.ipynb\"><img src=\"..\\__pv_it\\efb4a1c9f578df562d5200978e49bf9a77a2673e0\\expr.png\" style=\"display:inline;vertical-align:middle;\" /></a><br>(see <a class=\"ProveItLink\" href=\"..\\__pv_it\\efb4a1c9f578df562d5200978e49bf9a77a2673e0\\dependencies.ipynb\">dependencies</a>)"
      ],
      "text/plain": [
       "operandInBool: forall_{A | [not](A) in BOOLEANS} (A in BOOLEANS)"
      ]
     },
     "execution_count": 2,
     "metadata": {},
     "output_type": "execute_result"
    }
   ],
   "source": [
    "%proving operandInBool presuming [inBoolIfFalse, inBoolIfTrue, fromExcludedMiddle]"
   ]
  },
  {
   "cell_type": "code",
   "execution_count": 3,
   "metadata": {
    "collapsed": false,
    "deletable": true,
    "editable": true
   },
   "outputs": [
    {
     "data": {
      "text/html": [
       "<strong id=\"notA_in_Bool\">notA_in_Bool:</strong> <a class=\"ProveItLink\" href=\"..\\__pv_it\\950545f9a03f5164a11b771df9eb43356be92a000\\expr.ipynb\"><img src=\"..\\__pv_it\\950545f9a03f5164a11b771df9eb43356be92a000\\expr.png\" style=\"display:inline;vertical-align:middle;\" /></a><br>"
      ],
      "text/plain": [
       "notA_in_Bool: [not](A) in BOOLEANS"
      ]
     },
     "execution_count": 3,
     "metadata": {},
     "output_type": "execute_result"
    }
   ],
   "source": [
    "notA_in_Bool = inBool(Not(A))"
   ]
  },
  {
   "cell_type": "code",
   "execution_count": 4,
   "metadata": {
    "collapsed": false
   },
   "outputs": [
    {
     "data": {
      "text/html": [
       "<strong id=\"A_in_Bool\">A_in_Bool:</strong> <a class=\"ProveItLink\" href=\"..\\__pv_it\\03a5c2b5cc6fc2c3cd686b4bcf84379b893abe210\\expr.ipynb\"><img src=\"..\\__pv_it\\03a5c2b5cc6fc2c3cd686b4bcf84379b893abe210\\expr.png\" style=\"display:inline;vertical-align:middle;\" /></a><br>"
      ],
      "text/plain": [
       "A_in_Bool: A in BOOLEANS"
      ]
     },
     "execution_count": 4,
     "metadata": {},
     "output_type": "execute_result"
    }
   ],
   "source": [
    "A_in_Bool = inBool(A)"
   ]
  },
  {
   "cell_type": "markdown",
   "metadata": {},
   "source": [
    "***Prove via the 'law of the excluded middle'.  $\\lnot A$ must be true or false.  Either way, $A$ must be in the set of Booleans.***"
   ]
  },
  {
   "cell_type": "code",
   "execution_count": 5,
   "metadata": {
    "collapsed": false
   },
   "outputs": [
    {
     "data": {
      "text/html": [
       "<span style=\"font-size:20px;\"><a class=\"ProveItLink\" href=\"..\\__pv_it\\1abb8211440e823069bf8cd4e6bcfc72112bba6c0\\expr.ipynb\"><img src=\"..\\__pv_it\\1abb8211440e823069bf8cd4e6bcfc72112bba6c0\\expr.png\" style=\"display:inline;vertical-align:middle;\" /></a> &#x22A2;&nbsp;<a class=\"ProveItLink\" href=\"..\\__pv_it\\03a5c2b5cc6fc2c3cd686b4bcf84379b893abe210\\expr.ipynb\"><img src=\"..\\__pv_it\\03a5c2b5cc6fc2c3cd686b4bcf84379b893abe210\\expr.png\" style=\"display:inline;vertical-align:middle;\" /></a></span>"
      ],
      "text/plain": [
       "{[not](A) in BOOLEANS} |= A in BOOLEANS"
      ]
     },
     "execution_count": 5,
     "metadata": {},
     "output_type": "execute_result"
    }
   ],
   "source": [
    "notA_in_Bool.deriveViaExcludedMiddle(A_in_Bool, assumptions=[notA_in_Bool])"
   ]
  },
  {
   "cell_type": "code",
   "execution_count": 6,
   "metadata": {
    "collapsed": false
   },
   "outputs": [
    {
     "data": {
      "text/html": [
       "<table><tr><th>&nbsp;</th><th>step type</th><th>requirements</th><th>statement</th></tr>\n",
       "<tr><td>0</td><td>generalizaton</td><td>1</td><td><span style=\"font-size:20px;\"> &#x22A2;&nbsp;<a class=\"ProveItLink\" href=\"..\\__pv_it\\efb4a1c9f578df562d5200978e49bf9a77a2673e0\\expr.ipynb\"><img src=\"..\\__pv_it\\efb4a1c9f578df562d5200978e49bf9a77a2673e0\\expr.png\" style=\"display:inline;vertical-align:middle;\" /></a></span></td></tr>\n",
       "<tr><td>1</td><td>specialization</td><td>2, 3, 4, 5</td><td><span style=\"font-size:20px;\"><a class=\"ProveItLink\" href=\"..\\__pv_it\\1abb8211440e823069bf8cd4e6bcfc72112bba6c0\\expr.ipynb\"><img src=\"..\\__pv_it\\1abb8211440e823069bf8cd4e6bcfc72112bba6c0\\expr.png\" style=\"display:inline;vertical-align:middle;\" /></a> &#x22A2;&nbsp;<a class=\"ProveItLink\" href=\"..\\__pv_it\\03a5c2b5cc6fc2c3cd686b4bcf84379b893abe210\\expr.ipynb\"><img src=\"..\\__pv_it\\03a5c2b5cc6fc2c3cd686b4bcf84379b893abe210\\expr.png\" style=\"display:inline;vertical-align:middle;\" /></a></span></td></tr>\n",
       "<tr><td>&nbsp;</td><td colspan=4 style=\"text-align:left\"><span style=\"font-size:20px;\"><a class=\"ProveItLink\" href=\"..\\__pv_it\\244637140f54ef99e3cd857972e9e848b4a4f49e0\\expr.ipynb\"><img src=\"..\\__pv_it\\244637140f54ef99e3cd857972e9e848b4a4f49e0\\expr.png\" style=\"display:inline;vertical-align:middle;\" /></a>, <a class=\"ProveItLink\" href=\"..\\__pv_it\\5c2f0b066a928abe66a2ef4a62a894878cc4f8e90\\expr.ipynb\"><img src=\"..\\__pv_it\\5c2f0b066a928abe66a2ef4a62a894878cc4f8e90\\expr.png\" style=\"display:inline;vertical-align:middle;\" /></a></span></td></tr><tr><td>2</td><td>theorem</td><td></td><td><span style=\"font-size:20px;\"> &#x22A2;&nbsp;<a class=\"ProveItLink\" href=\"..\\..\\__pv_it\\c7c83f4524ddaf15ba1858af2e28ef9c01b272500\\expr.ipynb\"><img src=\"..\\..\\__pv_it\\c7c83f4524ddaf15ba1858af2e28ef9c01b272500\\expr.png\" style=\"display:inline;vertical-align:middle;\" /></a></span></td></tr>\n",
       "<tr><td>&nbsp;</td><td colspan=4 style-\"text-align:left\"><a class=\"ProveItLink\" href=\"..\\..\\_proofs_\\fromExcludedMiddle.ipynb\">proveit.logic.boolean.fromExcludedMiddle</a></td></tr><tr><td>3</td><td>assumption</td><td></td><td><span style=\"font-size:20px;\"><a class=\"ProveItLink\" href=\"..\\__pv_it\\1abb8211440e823069bf8cd4e6bcfc72112bba6c0\\expr.ipynb\"><img src=\"..\\__pv_it\\1abb8211440e823069bf8cd4e6bcfc72112bba6c0\\expr.png\" style=\"display:inline;vertical-align:middle;\" /></a> &#x22A2;&nbsp;<a class=\"ProveItLink\" href=\"..\\__pv_it\\950545f9a03f5164a11b771df9eb43356be92a000\\expr.ipynb\"><img src=\"..\\__pv_it\\950545f9a03f5164a11b771df9eb43356be92a000\\expr.png\" style=\"display:inline;vertical-align:middle;\" /></a></span></td></tr>\n",
       "<tr><td>4</td><td>hypothetical reasoning</td><td>6</td><td><span style=\"font-size:20px;\"> &#x22A2;&nbsp;<a class=\"ProveItLink\" href=\"..\\__pv_it\\d6c6d2f06859cdebf985911d45b30a227970112a0\\expr.ipynb\"><img src=\"..\\__pv_it\\d6c6d2f06859cdebf985911d45b30a227970112a0\\expr.png\" style=\"display:inline;vertical-align:middle;\" /></a></span></td></tr>\n",
       "<tr><td>5</td><td>hypothetical reasoning</td><td>7</td><td><span style=\"font-size:20px;\"> &#x22A2;&nbsp;<a class=\"ProveItLink\" href=\"..\\__pv_it\\fc225362738cd6f4f2256d5a47f7b1a5b96838fc0\\expr.ipynb\"><img src=\"..\\__pv_it\\fc225362738cd6f4f2256d5a47f7b1a5b96838fc0\\expr.png\" style=\"display:inline;vertical-align:middle;\" /></a></span></td></tr>\n",
       "<tr><td>6</td><td>specialization</td><td>8, 9</td><td><span style=\"font-size:20px;\"><a class=\"ProveItLink\" href=\"..\\__pv_it\\7680528e1ee86122472bd9f62475b835210285660\\expr.ipynb\"><img src=\"..\\__pv_it\\7680528e1ee86122472bd9f62475b835210285660\\expr.png\" style=\"display:inline;vertical-align:middle;\" /></a> &#x22A2;&nbsp;<a class=\"ProveItLink\" href=\"..\\__pv_it\\03a5c2b5cc6fc2c3cd686b4bcf84379b893abe210\\expr.ipynb\"><img src=\"..\\__pv_it\\03a5c2b5cc6fc2c3cd686b4bcf84379b893abe210\\expr.png\" style=\"display:inline;vertical-align:middle;\" /></a></span></td></tr>\n",
       "<tr><td>&nbsp;</td><td colspan=4 style=\"text-align:left\"><span style=\"font-size:20px;\"><a class=\"ProveItLink\" href=\"..\\__pv_it\\507ea7067d5ddfd40d77b6b571c0dbf2bbae36900\\expr.ipynb\"><img src=\"..\\__pv_it\\507ea7067d5ddfd40d77b6b571c0dbf2bbae36900\\expr.png\" style=\"display:inline;vertical-align:middle;\" /></a></span></td></tr><tr><td>7</td><td>specialization</td><td>10, 11</td><td><span style=\"font-size:20px;\"><a class=\"ProveItLink\" href=\"..\\__pv_it\\4b2dac16b5306d2030e982eb7376c5bdc8b6e15e0\\expr.ipynb\"><img src=\"..\\__pv_it\\4b2dac16b5306d2030e982eb7376c5bdc8b6e15e0\\expr.png\" style=\"display:inline;vertical-align:middle;\" /></a> &#x22A2;&nbsp;<a class=\"ProveItLink\" href=\"..\\__pv_it\\03a5c2b5cc6fc2c3cd686b4bcf84379b893abe210\\expr.ipynb\"><img src=\"..\\__pv_it\\03a5c2b5cc6fc2c3cd686b4bcf84379b893abe210\\expr.png\" style=\"display:inline;vertical-align:middle;\" /></a></span></td></tr>\n",
       "<tr><td>&nbsp;</td><td colspan=4 style=\"text-align:left\"><span style=\"font-size:20px;\"><a class=\"ProveItLink\" href=\"..\\__pv_it\\507ea7067d5ddfd40d77b6b571c0dbf2bbae36900\\expr.ipynb\"><img src=\"..\\__pv_it\\507ea7067d5ddfd40d77b6b571c0dbf2bbae36900\\expr.png\" style=\"display:inline;vertical-align:middle;\" /></a></span></td></tr><tr><td>8</td><td>theorem</td><td></td><td><span style=\"font-size:20px;\"> &#x22A2;&nbsp;<a class=\"ProveItLink\" href=\"..\\..\\__pv_it\\2a1a5fe690a804e91151801a4e4fb8c4f23149570\\expr.ipynb\"><img src=\"..\\..\\__pv_it\\2a1a5fe690a804e91151801a4e4fb8c4f23149570\\expr.png\" style=\"display:inline;vertical-align:middle;\" /></a></span></td></tr>\n",
       "<tr><td>&nbsp;</td><td colspan=4 style-\"text-align:left\"><a class=\"ProveItLink\" href=\"..\\..\\_proofs_\\inBoolIfFalse.ipynb\">proveit.logic.boolean.inBoolIfFalse</a></td></tr><tr><td>9</td><td>assumption</td><td></td><td><span style=\"font-size:20px;\"><a class=\"ProveItLink\" href=\"..\\__pv_it\\7680528e1ee86122472bd9f62475b835210285660\\expr.ipynb\"><img src=\"..\\__pv_it\\7680528e1ee86122472bd9f62475b835210285660\\expr.png\" style=\"display:inline;vertical-align:middle;\" /></a> &#x22A2;&nbsp;<a class=\"ProveItLink\" href=\"..\\__pv_it\\2c81ead3bf46a86573cd5304798392177b4792b40\\expr.ipynb\"><img src=\"..\\__pv_it\\2c81ead3bf46a86573cd5304798392177b4792b40\\expr.png\" style=\"display:inline;vertical-align:middle;\" /></a></span></td></tr>\n",
       "<tr><td>10</td><td>theorem</td><td></td><td><span style=\"font-size:20px;\"> &#x22A2;&nbsp;<a class=\"ProveItLink\" href=\"..\\..\\__pv_it\\49ce9164c9f40fa208c8b44249516511406fd11e0\\expr.ipynb\"><img src=\"..\\..\\__pv_it\\49ce9164c9f40fa208c8b44249516511406fd11e0\\expr.png\" style=\"display:inline;vertical-align:middle;\" /></a></span></td></tr>\n",
       "<tr><td>&nbsp;</td><td colspan=4 style-\"text-align:left\"><a class=\"ProveItLink\" href=\"..\\..\\_proofs_\\inBoolIfTrue.ipynb\">proveit.logic.boolean.inBoolIfTrue</a></td></tr><tr><td>11</td><td>specialization</td><td>12, 13</td><td><span style=\"font-size:20px;\"><a class=\"ProveItLink\" href=\"..\\__pv_it\\4b2dac16b5306d2030e982eb7376c5bdc8b6e15e0\\expr.ipynb\"><img src=\"..\\__pv_it\\4b2dac16b5306d2030e982eb7376c5bdc8b6e15e0\\expr.png\" style=\"display:inline;vertical-align:middle;\" /></a> &#x22A2;&nbsp;<a class=\"ProveItLink\" href=\"..\\..\\..\\..\\__pv_it\\2cbe72a7ad6f655694dd697106680215e8489b600\\expr.ipynb\"><img src=\"..\\..\\..\\..\\__pv_it\\2cbe72a7ad6f655694dd697106680215e8489b600\\expr.png\" style=\"display:inline;vertical-align:middle;\" /></a></span></td></tr>\n",
       "<tr><td>&nbsp;</td><td colspan=4 style=\"text-align:left\"><span style=\"font-size:20px;\"><a class=\"ProveItLink\" href=\"..\\__pv_it\\507ea7067d5ddfd40d77b6b571c0dbf2bbae36900\\expr.ipynb\"><img src=\"..\\__pv_it\\507ea7067d5ddfd40d77b6b571c0dbf2bbae36900\\expr.png\" style=\"display:inline;vertical-align:middle;\" /></a></span></td></tr><tr><td>12</td><td>theorem</td><td></td><td><span style=\"font-size:20px;\"> &#x22A2;&nbsp;<a class=\"ProveItLink\" href=\"..\\__pv_it\\8d0f8484eb17320992bfc5724dfb622a3bf048fa0\\expr.ipynb\"><img src=\"..\\__pv_it\\8d0f8484eb17320992bfc5724dfb622a3bf048fa0\\expr.png\" style=\"display:inline;vertical-align:middle;\" /></a></span></td></tr>\n",
       "<tr><td>&nbsp;</td><td colspan=4 style-\"text-align:left\"><a class=\"ProveItLink\" href=\"fromDoubleNegation.ipynb\">proveit.logic.boolean.negation.fromDoubleNegation</a></td></tr><tr><td>13</td><td>assumption</td><td></td><td><span style=\"font-size:20px;\"><a class=\"ProveItLink\" href=\"..\\__pv_it\\4b2dac16b5306d2030e982eb7376c5bdc8b6e15e0\\expr.ipynb\"><img src=\"..\\__pv_it\\4b2dac16b5306d2030e982eb7376c5bdc8b6e15e0\\expr.png\" style=\"display:inline;vertical-align:middle;\" /></a> &#x22A2;&nbsp;<a class=\"ProveItLink\" href=\"..\\__pv_it\\1402334a33158525da829a77129fd462405ae6cf0\\expr.ipynb\"><img src=\"..\\__pv_it\\1402334a33158525da829a77129fd462405ae6cf0\\expr.png\" style=\"display:inline;vertical-align:middle;\" /></a></span></td></tr>\n"
      ],
      "text/plain": [
       "<proveit._core_.proof.Generalization instance at 0x0000000009186108>"
      ]
     },
     "execution_count": 6,
     "metadata": {},
     "output_type": "execute_result"
    }
   ],
   "source": [
    "%qed"
   ]
  },
  {
   "cell_type": "code",
   "execution_count": null,
   "metadata": {
    "collapsed": true,
    "deletable": true,
    "editable": true
   },
   "outputs": [],
   "source": []
  }
 ],
 "metadata": {
  "kernelspec": {
   "display_name": "Python 2",
   "language": "python",
   "name": "python2"
  },
  "language_info": {
   "codemirror_mode": {
    "name": "ipython",
    "version": 2
   },
   "file_extension": ".py",
   "mimetype": "text/x-python",
   "name": "python",
   "nbconvert_exporter": "python",
   "pygments_lexer": "ipython2",
   "version": "2.7.11"
  }
 },
 "nbformat": 4,
 "nbformat_minor": 0
}
