{
 "cells": [
  {
   "cell_type": "markdown",
   "metadata": {
    "collapsed": true,
    "deletable": true,
    "editable": true
   },
   "source": [
    "Proof of <a class=\"ProveItLink\" href=\"..\\..\\..\\..\\_context_.ipynb\">proveit</a>.<a class=\"ProveItLink\" href=\"..\\..\\..\\_context_.ipynb\">logic</a>.<a class=\"ProveItLink\" href=\"..\\..\\_context_.ipynb\">boolean</a>.<a class=\"ProveItLink\" href=\"..\\_context_.ipynb\">negation</a>.<a href=\"../_theorems_.ipynb#notTimpliesF\" class=\"ProveItLink\">notTimpliesF</a> theorem\n",
    "========"
   ]
  },
  {
   "cell_type": "code",
   "execution_count": 1,
   "metadata": {
    "collapsed": true,
    "deletable": true,
    "editable": true
   },
   "outputs": [],
   "source": [
    "import proveit\n",
    "context = proveit.Context('..') # the theorem's context is in the parent directory\n",
    "from proveit.logic.boolean.negation._theorems_ import notT"
   ]
  },
  {
   "cell_type": "code",
   "execution_count": 2,
   "metadata": {
    "collapsed": false,
    "deletable": true,
    "editable": true
   },
   "outputs": [
    {
     "name": "stdout",
     "output_type": "stream",
     "text": [
      "Recorded 'presuming' information\n",
      "Presuming proveit.logic.equality.rhsViaEquivalence theorem(s) (and any of their dependencies)\n",
      "Presuming previous theorems in this context (and any of their dependencies).\n",
      "Beginning proof of\n"
     ]
    },
    {
     "data": {
      "text/html": [
       "<strong id=\"notTimpliesF\">notTimpliesF:</strong> <a href=\"..\\__pv_it\\779a1efeaf4b30ecab25a1a2a8f70603eb7d445c0\\expr.ipynb\" target=\"_blank\"><img src=\"..\\__pv_it\\779a1efeaf4b30ecab25a1a2a8f70603eb7d445c0\\expr.png\" style=\"display:inline;vertical-align:middle;\" /></a><br>(see <a class=\"ProveItLink\" href=\"..\\__pv_it\\779a1efeaf4b30ecab25a1a2a8f70603eb7d445c0\\dependencies.ipynb\" target=\"_blank\">dependencies</a>)"
      ],
      "text/plain": [
       "notTimpliesF: not(TRUE) => FALSE"
      ]
     },
     "execution_count": 2,
     "metadata": {},
     "output_type": "execute_result"
    }
   ],
   "source": [
    "%begin_proof notTimpliesF presuming [proveit.logic.equality.rhsViaEquivalence]"
   ]
  },
  {
   "cell_type": "code",
   "execution_count": 3,
   "metadata": {
    "collapsed": false,
    "deletable": true,
    "editable": true
   },
   "outputs": [
    {
     "data": {
      "text/html": [
       "<span style=\"font-size:20px;\"> &#x22A2;&nbsp;<a href=\"..\\__pv_it\\f795b888fbd7f18c772da60613b3527a32928b940\\expr.ipynb\" target=\"_blank\"><img src=\"..\\__pv_it\\f795b888fbd7f18c772da60613b3527a32928b940\\expr.png\" style=\"display:inline;vertical-align:middle;\" /></a></span>"
      ],
      "text/plain": [
       "|= not(TRUE) = FALSE"
      ]
     },
     "execution_count": 3,
     "metadata": {},
     "output_type": "execute_result"
    }
   ],
   "source": [
    "notT"
   ]
  },
  {
   "cell_type": "code",
   "execution_count": 4,
   "metadata": {
    "collapsed": false
   },
   "outputs": [
    {
     "data": {
      "text/html": [
       "<strong id=\"contradiction\">contradiction:</strong> <span style=\"font-size:20px;\"><a href=\"..\\__pv_it\\717ecece14e4bd33b1cdd065b81185ad07c9641d0\\expr.ipynb\" target=\"_blank\"><img src=\"..\\__pv_it\\717ecece14e4bd33b1cdd065b81185ad07c9641d0\\expr.png\" style=\"display:inline;vertical-align:middle;\" /></a> &#x22A2;&nbsp;<a href=\"..\\..\\__pv_it\\47da52792f39d479a35c809d6a76a38f9bc20f310\\expr.ipynb\" target=\"_blank\"><img src=\"..\\..\\__pv_it\\47da52792f39d479a35c809d6a76a38f9bc20f310\\expr.png\" style=\"display:inline;vertical-align:middle;\" /></a></span><br>"
      ],
      "text/plain": [
       "contradiction: {not(TRUE)} |= FALSE"
      ]
     },
     "execution_count": 4,
     "metadata": {},
     "output_type": "execute_result"
    }
   ],
   "source": [
    "contradiction = notT.deriveRightViaEquivalence([notT.lhs])"
   ]
  },
  {
   "cell_type": "code",
   "execution_count": 5,
   "metadata": {
    "collapsed": false
   },
   "outputs": [
    {
     "name": "stdout",
     "output_type": "stream",
     "text": [
      "notTimpliesF has been proven.  Now simply execute \"%qed\".\n"
     ]
    },
    {
     "data": {
      "text/html": [
       "<span style=\"font-size:20px;\"> &#x22A2;&nbsp;<a href=\"..\\__pv_it\\779a1efeaf4b30ecab25a1a2a8f70603eb7d445c0\\expr.ipynb\" target=\"_blank\"><img src=\"..\\__pv_it\\779a1efeaf4b30ecab25a1a2a8f70603eb7d445c0\\expr.png\" style=\"display:inline;vertical-align:middle;\" /></a></span>"
      ],
      "text/plain": [
       "|= not(TRUE) => FALSE"
      ]
     },
     "execution_count": 5,
     "metadata": {},
     "output_type": "execute_result"
    }
   ],
   "source": [
    "contradiction.asImplication(notT.lhs)"
   ]
  },
  {
   "cell_type": "code",
   "execution_count": 6,
   "metadata": {
    "collapsed": false
   },
   "outputs": [
    {
     "data": {
      "text/html": [
       "<table><tr><th>&nbsp;</th><th>step type</th><th>requirements</th><th>statement</th></tr>\n",
       "<tr><td>0</td><td>hypothetical reasoning</td><td>1</td><td><span style=\"font-size:20px;\"> &#x22A2;&nbsp;<a href=\"..\\__pv_it\\779a1efeaf4b30ecab25a1a2a8f70603eb7d445c0\\expr.ipynb\" target=\"_blank\"><img src=\"..\\__pv_it\\779a1efeaf4b30ecab25a1a2a8f70603eb7d445c0\\expr.png\" style=\"display:inline;vertical-align:middle;\" /></a></span></td></tr>\n",
       "<tr><td>1</td><td>specialization</td><td>2, 3, 4</td><td><span style=\"font-size:20px;\"><a href=\"..\\__pv_it\\717ecece14e4bd33b1cdd065b81185ad07c9641d0\\expr.ipynb\" target=\"_blank\"><img src=\"..\\__pv_it\\717ecece14e4bd33b1cdd065b81185ad07c9641d0\\expr.png\" style=\"display:inline;vertical-align:middle;\" /></a> &#x22A2;&nbsp;<a href=\"..\\..\\__pv_it\\47da52792f39d479a35c809d6a76a38f9bc20f310\\expr.ipynb\" target=\"_blank\"><img src=\"..\\..\\__pv_it\\47da52792f39d479a35c809d6a76a38f9bc20f310\\expr.png\" style=\"display:inline;vertical-align:middle;\" /></a></span></td></tr>\n",
       "<tr><td>&nbsp;</td><td colspan=4 style=\"text-align:left\"><span style=\"font-size:20px;\"><a href=\"..\\__pv_it\\fdf3d9bb112417a7500b37fdb61a2c87888daee80\\expr.ipynb\" target=\"_blank\"><img src=\"..\\__pv_it\\fdf3d9bb112417a7500b37fdb61a2c87888daee80\\expr.png\" style=\"display:inline;vertical-align:middle;\" /></a>, <a href=\"..\\__pv_it\\759afd55b4e594cd2c5f3026d96d67c6ea58e2e10\\expr.ipynb\" target=\"_blank\"><img src=\"..\\__pv_it\\759afd55b4e594cd2c5f3026d96d67c6ea58e2e10\\expr.png\" style=\"display:inline;vertical-align:middle;\" /></a></span></td></tr><tr><td>2</td><td>theorem</td><td></td><td><span style=\"font-size:20px;\"> &#x22A2;&nbsp;<a href=\"..\\..\\..\\equality\\__pv_it\\8f81ff053040ea55b7fbd2aa249f014e7eef320a0\\expr.ipynb\" target=\"_blank\"><img src=\"..\\..\\..\\equality\\__pv_it\\8f81ff053040ea55b7fbd2aa249f014e7eef320a0\\expr.png\" style=\"display:inline;vertical-align:middle;\" /></a></span></td></tr>\n",
       "<tr><td>&nbsp;</td><td colspan=4 style-\"text-align:left\"><a href=\"..\\..\\..\\equality\\_proofs_\\rhsViaEquivalence.ipynb\" target=\"_blank\">proveit.logic.equality.rhsViaEquivalence</a></td></tr><tr><td>3</td><td>assumption</td><td></td><td><span style=\"font-size:20px;\"><a href=\"..\\__pv_it\\717ecece14e4bd33b1cdd065b81185ad07c9641d0\\expr.ipynb\" target=\"_blank\"><img src=\"..\\__pv_it\\717ecece14e4bd33b1cdd065b81185ad07c9641d0\\expr.png\" style=\"display:inline;vertical-align:middle;\" /></a> &#x22A2;&nbsp;<a href=\"..\\__pv_it\\22e1039355af635bd12ff27e18e927314693b0690\\expr.ipynb\" target=\"_blank\"><img src=\"..\\__pv_it\\22e1039355af635bd12ff27e18e927314693b0690\\expr.png\" style=\"display:inline;vertical-align:middle;\" /></a></span></td></tr>\n",
       "<tr><td>4</td><td>theorem</td><td></td><td><span style=\"font-size:20px;\"> &#x22A2;&nbsp;<a href=\"..\\__pv_it\\f795b888fbd7f18c772da60613b3527a32928b940\\expr.ipynb\" target=\"_blank\"><img src=\"..\\__pv_it\\f795b888fbd7f18c772da60613b3527a32928b940\\expr.png\" style=\"display:inline;vertical-align:middle;\" /></a></span></td></tr>\n",
       "<tr><td>&nbsp;</td><td colspan=4 style-\"text-align:left\"><a href=\"notT.ipynb\" target=\"_blank\">proveit.logic.boolean.negation.notT</a></td></tr>"
      ],
      "text/plain": [
       "<proveit._core_.proof.HypotheticalReasoning instance at 0x00000000064DE4C8>"
      ]
     },
     "execution_count": 6,
     "metadata": {},
     "output_type": "execute_result"
    }
   ],
   "source": [
    "%qed"
   ]
  },
  {
   "cell_type": "code",
   "execution_count": 7,
   "metadata": {
    "collapsed": true
   },
   "outputs": [],
   "source": []
  }
 ],
 "metadata": {
  "kernelspec": {
   "display_name": "Python 2",
   "language": "python",
   "name": "python2"
  },
  "language_info": {
   "codemirror_mode": {
    "name": "ipython",
    "version": 2
   },
   "file_extension": ".py",
   "mimetype": "text/x-python",
   "name": "python",
   "nbconvert_exporter": "python",
   "pygments_lexer": "ipython2",
   "version": "2.7.11"
  }
 },
 "nbformat": 4,
 "nbformat_minor": 0
}
