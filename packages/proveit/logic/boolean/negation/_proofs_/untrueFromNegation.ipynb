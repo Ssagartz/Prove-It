{
 "cells": [
  {
   "cell_type": "markdown",
   "metadata": {
    "collapsed": true,
    "deletable": true,
    "editable": true
   },
   "source": [
    "Proof of <a class=\"ProveItLink\" href=\"../_theorems_.ipynb#untrueFromNegation\">untrueFromNegation</a> theorem\n",
    "========"
   ]
  },
  {
   "cell_type": "code",
   "execution_count": 1,
   "metadata": {
    "collapsed": true,
    "deletable": true,
    "editable": true
   },
   "outputs": [],
   "source": [
    "import proveit\n",
    "context = proveit.Context('..') # the theorem's context is in the parent directory\n",
    "from proveit.logic.boolean._axioms_ import falseNotTrue\n",
    "from proveit.logic import Not\n",
    "from proveit._common_ import A"
   ]
  },
  {
   "cell_type": "code",
   "execution_count": 2,
   "metadata": {
    "collapsed": false,
    "deletable": true,
    "editable": true
   },
   "outputs": [
    {
     "name": "stdout",
     "output_type": "stream",
     "text": [
      "Recorded 'presuming' information\n",
      "Presuming proveit.logic.equality.lhsSubstitute theorem(s) (and any of their dependencies)\n",
      "Presuming previous theorems in this context (and any of their dependencies).\n",
      "Beginning proof of\n"
     ]
    },
    {
     "data": {
      "text/html": [
       "<strong id=\"untrueFromNegation\">untrueFromNegation:</strong> <a href=\"..\\__pv_it\\b1f538baff9996ab8f583d17faf0434beb799e290\\expr.ipynb\" target=\"_blank\"><img src=\"..\\__pv_it\\b1f538baff9996ab8f583d17faf0434beb799e290\\expr.png\" style=\"display:inline;vertical-align:middle;\" /></a><br>(see <a class=\"ProveItLink\" href=\"..\\__pv_it\\b1f538baff9996ab8f583d17faf0434beb799e290\\dependencies.ipynb\" target=\"_blank\">dependencies</a>)"
      ],
      "text/plain": [
       "untrueFromNegation: forall_{A | not(A)} (A != TRUE)"
      ]
     },
     "execution_count": 2,
     "metadata": {},
     "output_type": "execute_result"
    }
   ],
   "source": [
    "%begin_proof untrueFromNegation presuming [proveit.logic.equality.lhsSubstitute ]"
   ]
  },
  {
   "cell_type": "code",
   "execution_count": 3,
   "metadata": {
    "collapsed": false
   },
   "outputs": [
    {
     "data": {
      "text/html": [
       "<span style=\"font-size:20px;\"> &#x22A2;&nbsp;<a href=\"..\\..\\__pv_it\\a47eededa9cd5f7287a2b669923af4fea46d13eb0\\expr.ipynb\" target=\"_blank\"><img src=\"..\\..\\__pv_it\\a47eededa9cd5f7287a2b669923af4fea46d13eb0\\expr.png\" style=\"display:inline;vertical-align:middle;\" /></a></span>"
      ],
      "text/plain": [
       "|= FALSE != TRUE"
      ]
     },
     "execution_count": 3,
     "metadata": {},
     "output_type": "execute_result"
    }
   ],
   "source": [
    "falseNotTrue"
   ]
  },
  {
   "cell_type": "code",
   "execution_count": 4,
   "metadata": {
    "collapsed": false,
    "deletable": true,
    "editable": true
   },
   "outputs": [
    {
     "data": {
      "text/html": [
       "<strong id=\"A_eq_F\">A_eq_F:</strong> <span style=\"font-size:20px;\"><a href=\"..\\__pv_it\\fa3d89aaf7940fc0ca583f85ec8b216e9b46987c0\\expr.ipynb\" target=\"_blank\"><img src=\"..\\__pv_it\\fa3d89aaf7940fc0ca583f85ec8b216e9b46987c0\\expr.png\" style=\"display:inline;vertical-align:middle;\" /></a> &#x22A2;&nbsp;<a href=\"..\\__pv_it\\0ac50b239e0e21e9cedb0cff1f1722ad521eb6470\\expr.ipynb\" target=\"_blank\"><img src=\"..\\__pv_it\\0ac50b239e0e21e9cedb0cff1f1722ad521eb6470\\expr.png\" style=\"display:inline;vertical-align:middle;\" /></a></span><br>"
      ],
      "text/plain": [
       "A_eq_F: {not(A)} |= A = FALSE"
      ]
     },
     "execution_count": 4,
     "metadata": {},
     "output_type": "execute_result"
    }
   ],
   "source": [
    "A_eq_F = Not(A).prove([Not(A)]).equateNegatedToFalse()"
   ]
  },
  {
   "cell_type": "code",
   "execution_count": 5,
   "metadata": {
    "collapsed": false
   },
   "outputs": [
    {
     "data": {
      "text/html": [
       "<strong id=\"A_untrue\">A_untrue:</strong> <span style=\"font-size:20px;\"><a href=\"..\\__pv_it\\fa3d89aaf7940fc0ca583f85ec8b216e9b46987c0\\expr.ipynb\" target=\"_blank\"><img src=\"..\\__pv_it\\fa3d89aaf7940fc0ca583f85ec8b216e9b46987c0\\expr.png\" style=\"display:inline;vertical-align:middle;\" /></a> &#x22A2;&nbsp;<a href=\"..\\__pv_it\\d8bb7b71db8554198c33edc8485caca6755b3e680\\expr.ipynb\" target=\"_blank\"><img src=\"..\\__pv_it\\d8bb7b71db8554198c33edc8485caca6755b3e680\\expr.png\" style=\"display:inline;vertical-align:middle;\" /></a></span><br>"
      ],
      "text/plain": [
       "A_untrue: {not(A)} |= A != TRUE"
      ]
     },
     "execution_count": 5,
     "metadata": {},
     "output_type": "execute_result"
    }
   ],
   "source": [
    "A_untrue = A_eq_F.lhsSubstitute(falseNotTrue)"
   ]
  },
  {
   "cell_type": "code",
   "execution_count": 6,
   "metadata": {
    "collapsed": false
   },
   "outputs": [
    {
     "name": "stdout",
     "output_type": "stream",
     "text": [
      "untrueFromNegation has been proven.  Now simply execute \"%qed\".\n"
     ]
    },
    {
     "data": {
      "text/html": [
       "<span style=\"font-size:20px;\"> &#x22A2;&nbsp;<a href=\"..\\__pv_it\\b1f538baff9996ab8f583d17faf0434beb799e290\\expr.ipynb\" target=\"_blank\"><img src=\"..\\__pv_it\\b1f538baff9996ab8f583d17faf0434beb799e290\\expr.png\" style=\"display:inline;vertical-align:middle;\" /></a></span>"
      ],
      "text/plain": [
       "|= forall_{A | not(A)} (A != TRUE)"
      ]
     },
     "execution_count": 6,
     "metadata": {},
     "output_type": "execute_result"
    }
   ],
   "source": [
    "A_untrue.generalize(A, conditions=[Not(A)])"
   ]
  },
  {
   "cell_type": "code",
   "execution_count": 7,
   "metadata": {
    "collapsed": false
   },
   "outputs": [
    {
     "data": {
      "text/html": [
       "<table><tr><th>&nbsp;</th><th>step type</th><th>requirements</th><th>statement</th></tr>\n",
       "<tr><td>0</td><td>generalizaton</td><td>1</td><td><span style=\"font-size:20px;\"> &#x22A2;&nbsp;<a href=\"..\\__pv_it\\b1f538baff9996ab8f583d17faf0434beb799e290\\expr.ipynb\" target=\"_blank\"><img src=\"..\\__pv_it\\b1f538baff9996ab8f583d17faf0434beb799e290\\expr.png\" style=\"display:inline;vertical-align:middle;\" /></a></span></td></tr>\n",
       "<tr><td>1</td><td>specialization</td><td>2, 3, 4</td><td><span style=\"font-size:20px;\"><a href=\"..\\__pv_it\\fa3d89aaf7940fc0ca583f85ec8b216e9b46987c0\\expr.ipynb\" target=\"_blank\"><img src=\"..\\__pv_it\\fa3d89aaf7940fc0ca583f85ec8b216e9b46987c0\\expr.png\" style=\"display:inline;vertical-align:middle;\" /></a> &#x22A2;&nbsp;<a href=\"..\\__pv_it\\d8bb7b71db8554198c33edc8485caca6755b3e680\\expr.ipynb\" target=\"_blank\"><img src=\"..\\__pv_it\\d8bb7b71db8554198c33edc8485caca6755b3e680\\expr.png\" style=\"display:inline;vertical-align:middle;\" /></a></span></td></tr>\n",
       "<tr><td>&nbsp;</td><td colspan=4 style=\"text-align:left\"><span style=\"font-size:20px;\"><a href=\"..\\__pv_it\\85ae3a5cdf3e88b0e9a92675ec92df3ba962ef5c0\\expr.ipynb\" target=\"_blank\"><img src=\"..\\__pv_it\\85ae3a5cdf3e88b0e9a92675ec92df3ba962ef5c0\\expr.png\" style=\"display:inline;vertical-align:middle;\" /></a>, <a href=\"..\\__pv_it\\1f746156d85f038d225520424c26103bfcb5b9b40\\expr.ipynb\" target=\"_blank\"><img src=\"..\\__pv_it\\1f746156d85f038d225520424c26103bfcb5b9b40\\expr.png\" style=\"display:inline;vertical-align:middle;\" /></a>, <a href=\"..\\__pv_it\\426754e0a5435f56b4cbabdfd1fb747d59b8cfd20\\expr.ipynb\" target=\"_blank\"><img src=\"..\\__pv_it\\426754e0a5435f56b4cbabdfd1fb747d59b8cfd20\\expr.png\" style=\"display:inline;vertical-align:middle;\" /></a></span></td></tr><tr><td>2</td><td>theorem</td><td></td><td><span style=\"font-size:20px;\"> &#x22A2;&nbsp;<a href=\"..\\..\\..\\equality\\__pv_it\\ddf6dd80e23d6ec126eeff291ac5fb9fcc4663370\\expr.ipynb\" target=\"_blank\"><img src=\"..\\..\\..\\equality\\__pv_it\\ddf6dd80e23d6ec126eeff291ac5fb9fcc4663370\\expr.png\" style=\"display:inline;vertical-align:middle;\" /></a></span></td></tr>\n",
       "<tr><td>&nbsp;</td><td colspan=4 style-\"text-align:left\"><a href=\"..\\..\\..\\equality\\_proofs_\\lhsSubstitute.ipynb\" target=\"_blank\">proveit.logic.equality.lhsSubstitute</a></td></tr><tr><td>3</td><td>axiom</td><td></td><td><span style=\"font-size:20px;\"> &#x22A2;&nbsp;<a href=\"..\\..\\__pv_it\\a47eededa9cd5f7287a2b669923af4fea46d13eb0\\expr.ipynb\" target=\"_blank\"><img src=\"..\\..\\__pv_it\\a47eededa9cd5f7287a2b669923af4fea46d13eb0\\expr.png\" style=\"display:inline;vertical-align:middle;\" /></a></span></td></tr>\n",
       "<tr><td>&nbsp;</td><td colspan=4 style-\"text-align:left\"><a href=\"..\\..\\_axioms_.ipynb#falseNotTrue\" target=\"_blank\">proveit.logic.boolean.falseNotTrue</a></td></tr><tr><td>4</td><td>specialization</td><td>5, 6</td><td><span style=\"font-size:20px;\"><a href=\"..\\__pv_it\\fa3d89aaf7940fc0ca583f85ec8b216e9b46987c0\\expr.ipynb\" target=\"_blank\"><img src=\"..\\__pv_it\\fa3d89aaf7940fc0ca583f85ec8b216e9b46987c0\\expr.png\" style=\"display:inline;vertical-align:middle;\" /></a> &#x22A2;&nbsp;<a href=\"..\\__pv_it\\0ac50b239e0e21e9cedb0cff1f1722ad521eb6470\\expr.ipynb\" target=\"_blank\"><img src=\"..\\__pv_it\\0ac50b239e0e21e9cedb0cff1f1722ad521eb6470\\expr.png\" style=\"display:inline;vertical-align:middle;\" /></a></span></td></tr>\n",
       "<tr><td>&nbsp;</td><td colspan=4 style=\"text-align:left\"><span style=\"font-size:20px;\"><a href=\"..\\__pv_it\\11c54b0d7cd8245498f330f187e329ef7bb5234a0\\expr.ipynb\" target=\"_blank\"><img src=\"..\\__pv_it\\11c54b0d7cd8245498f330f187e329ef7bb5234a0\\expr.png\" style=\"display:inline;vertical-align:middle;\" /></a></span></td></tr><tr><td>5</td><td>axiom</td><td></td><td><span style=\"font-size:20px;\"> &#x22A2;&nbsp;<a href=\"..\\__pv_it\\eb47b71305c8642bf59edee985769812467450310\\expr.ipynb\" target=\"_blank\"><img src=\"..\\__pv_it\\eb47b71305c8642bf59edee985769812467450310\\expr.png\" style=\"display:inline;vertical-align:middle;\" /></a></span></td></tr>\n",
       "<tr><td>&nbsp;</td><td colspan=4 style-\"text-align:left\"><a href=\"..\\_axioms_.ipynb#negationElim\" target=\"_blank\">proveit.logic.boolean.negation.negationElim</a></td></tr><tr><td>6</td><td>assumption</td><td></td><td><span style=\"font-size:20px;\"><a href=\"..\\__pv_it\\fa3d89aaf7940fc0ca583f85ec8b216e9b46987c0\\expr.ipynb\" target=\"_blank\"><img src=\"..\\__pv_it\\fa3d89aaf7940fc0ca583f85ec8b216e9b46987c0\\expr.png\" style=\"display:inline;vertical-align:middle;\" /></a> &#x22A2;&nbsp;<a href=\"..\\__pv_it\\6d71afbf0aac76c0a79a84f132860a2989f69fe50\\expr.ipynb\" target=\"_blank\"><img src=\"..\\__pv_it\\6d71afbf0aac76c0a79a84f132860a2989f69fe50\\expr.png\" style=\"display:inline;vertical-align:middle;\" /></a></span></td></tr>\n"
      ],
      "text/plain": [
       "<proveit._core_.proof.Generalization instance at 0x00000000065A08C8>"
      ]
     },
     "execution_count": 7,
     "metadata": {},
     "output_type": "execute_result"
    }
   ],
   "source": [
    "%qed"
   ]
  },
  {
   "cell_type": "code",
   "execution_count": 8,
   "metadata": {
    "collapsed": true
   },
   "outputs": [],
   "source": []
  }
 ],
 "metadata": {
  "kernelspec": {
   "display_name": "Python 2",
   "language": "python",
   "name": "python2"
  },
  "language_info": {
   "codemirror_mode": {
    "name": "ipython",
    "version": 2
   },
   "file_extension": ".py",
   "mimetype": "text/x-python",
   "name": "python",
   "nbconvert_exporter": "python",
   "pygments_lexer": "ipython2",
   "version": "2.7.11"
  }
 },
 "nbformat": 4,
 "nbformat_minor": 0
}
