{
 "cells": [
  {
   "cell_type": "markdown",
   "metadata": {
    "collapsed": true,
    "deletable": true,
    "editable": true
   },
   "source": [
    "Proof of <a class=\"ProveItLink\" href=\"../_theorems_.ipynb#untrueFromNegation\">untrueFromNegation</a> theorem\n",
    "========"
   ]
  },
  {
   "cell_type": "code",
   "execution_count": 1,
   "metadata": {
    "collapsed": false,
    "deletable": true,
    "editable": true
   },
   "outputs": [],
   "source": [
    "import proveit\n",
    "from proveit._common_ import A\n",
    "from proveit.logic import Not\n",
    "from proveit.logic.boolean._axioms_ import falseNotTrue\n",
    "context = proveit.Context('..') # the theorem's context is in the parent directory"
   ]
  },
  {
   "cell_type": "code",
   "execution_count": 2,
   "metadata": {
    "collapsed": false,
    "deletable": true,
    "editable": true
   },
   "outputs": [
    {
     "name": "stdout",
     "output_type": "stream",
     "text": [
      "Beginning proof of untrueFromNegation\n",
      "Recorded 'presuming' information\n",
      "Presuming proveit.logic.equality.lhsSubstitute theorem(s).\n",
      "Presuming previous theorems in this context (and any of their dependencies).\n"
     ]
    },
    {
     "data": {
      "text/html": [
       "<strong id=\"untrueFromNegation\">untrueFromNegation:</strong> <a class=\"ProveItLink\" href=\"..\\__pv_it\\62a710f4f8a9544d43a0ef817f81e2d1256622540\\expr.ipynb\"><img src=\"..\\__pv_it\\62a710f4f8a9544d43a0ef817f81e2d1256622540\\expr.png\" style=\"display:inline;vertical-align:middle;\" /></a><br>(see <a class=\"ProveItLink\" href=\"..\\__pv_it\\62a710f4f8a9544d43a0ef817f81e2d1256622540\\dependencies.ipynb\">dependencies</a>)"
      ],
      "text/plain": [
       "untrueFromNegation: forall_{A | [not](A)} (A != TRUE)"
      ]
     },
     "execution_count": 2,
     "metadata": {},
     "output_type": "execute_result"
    }
   ],
   "source": [
    "%proving untrueFromNegation presuming [proveit.logic.equality.lhsSubstitute ]"
   ]
  },
  {
   "cell_type": "code",
   "execution_count": 3,
   "metadata": {
    "collapsed": false,
    "deletable": true,
    "editable": true
   },
   "outputs": [
    {
     "data": {
      "text/html": [
       "<span style=\"font-size:20px;\"> &#x22A2;&nbsp;<a class=\"ProveItLink\" href=\"..\\..\\__pv_it\\3e28545b304b5eec31fcc9e7531755af827b4bfc0\\expr.ipynb\"><img src=\"..\\..\\__pv_it\\3e28545b304b5eec31fcc9e7531755af827b4bfc0\\expr.png\" style=\"display:inline;vertical-align:middle;\" /></a></span>"
      ],
      "text/plain": [
       "|= FALSE != TRUE"
      ]
     },
     "execution_count": 3,
     "metadata": {},
     "output_type": "execute_result"
    }
   ],
   "source": [
    "falseNotTrue"
   ]
  },
  {
   "cell_type": "code",
   "execution_count": 4,
   "metadata": {
    "collapsed": false,
    "deletable": true,
    "editable": true
   },
   "outputs": [
    {
     "data": {
      "text/html": [
       "<strong id=\"A_eq_F\">A_eq_F:</strong> <span style=\"font-size:20px;\"><a class=\"ProveItLink\" href=\"..\\__pv_it\\7680528e1ee86122472bd9f62475b835210285660\\expr.ipynb\"><img src=\"..\\__pv_it\\7680528e1ee86122472bd9f62475b835210285660\\expr.png\" style=\"display:inline;vertical-align:middle;\" /></a> &#x22A2;&nbsp;<a class=\"ProveItLink\" href=\"..\\__pv_it\\59b818aa3070d9f9cb643715737df9a2274cbc840\\expr.ipynb\"><img src=\"..\\__pv_it\\59b818aa3070d9f9cb643715737df9a2274cbc840\\expr.png\" style=\"display:inline;vertical-align:middle;\" /></a></span><br>"
      ],
      "text/plain": [
       "A_eq_F: {[not](A)} |= A = FALSE"
      ]
     },
     "execution_count": 4,
     "metadata": {},
     "output_type": "execute_result"
    }
   ],
   "source": [
    "A_eq_F = Not(A).prove([Not(A)]).equateNegatedToFalse()"
   ]
  },
  {
   "cell_type": "code",
   "execution_count": 5,
   "metadata": {
    "collapsed": false,
    "deletable": true,
    "editable": true
   },
   "outputs": [
    {
     "data": {
      "text/html": [
       "<strong id=\"A_untrue\">A_untrue:</strong> <span style=\"font-size:20px;\"><a class=\"ProveItLink\" href=\"..\\__pv_it\\7680528e1ee86122472bd9f62475b835210285660\\expr.ipynb\"><img src=\"..\\__pv_it\\7680528e1ee86122472bd9f62475b835210285660\\expr.png\" style=\"display:inline;vertical-align:middle;\" /></a> &#x22A2;&nbsp;<a class=\"ProveItLink\" href=\"..\\__pv_it\\e26de46c7e40f81759f2054c0268daeac375fd1c0\\expr.ipynb\"><img src=\"..\\__pv_it\\e26de46c7e40f81759f2054c0268daeac375fd1c0\\expr.png\" style=\"display:inline;vertical-align:middle;\" /></a></span><br>"
      ],
      "text/plain": [
       "A_untrue: {[not](A)} |= A != TRUE"
      ]
     },
     "execution_count": 5,
     "metadata": {},
     "output_type": "execute_result"
    }
   ],
   "source": [
    "A_untrue = A_eq_F.lhsSubstitute(falseNotTrue)"
   ]
  },
  {
   "cell_type": "code",
   "execution_count": 6,
   "metadata": {
    "collapsed": false,
    "deletable": true,
    "editable": true
   },
   "outputs": [
    {
     "name": "stdout",
     "output_type": "stream",
     "text": [
      "untrueFromNegation has been proven.  Now simply execute \"%qed\".\n"
     ]
    },
    {
     "data": {
      "text/html": [
       "<span style=\"font-size:20px;\"> &#x22A2;&nbsp;<a class=\"ProveItLink\" href=\"..\\__pv_it\\62a710f4f8a9544d43a0ef817f81e2d1256622540\\expr.ipynb\"><img src=\"..\\__pv_it\\62a710f4f8a9544d43a0ef817f81e2d1256622540\\expr.png\" style=\"display:inline;vertical-align:middle;\" /></a></span>"
      ],
      "text/plain": [
       "|= forall_{A | [not](A)} (A != TRUE)"
      ]
     },
     "execution_count": 6,
     "metadata": {},
     "output_type": "execute_result"
    }
   ],
   "source": [
    "A_untrue.generalize(A, conditions=[Not(A)])"
   ]
  },
  {
   "cell_type": "code",
   "execution_count": 7,
   "metadata": {
    "collapsed": false,
    "deletable": true,
    "editable": true
   },
   "outputs": [
    {
     "data": {
      "text/html": [
       "<table><tr><th>&nbsp;</th><th>step type</th><th>requirements</th><th>statement</th></tr>\n",
       "<tr><td>0</td><td>generalizaton</td><td>1</td><td><span style=\"font-size:20px;\"> &#x22A2;&nbsp;<a class=\"ProveItLink\" href=\"..\\__pv_it\\62a710f4f8a9544d43a0ef817f81e2d1256622540\\expr.ipynb\"><img src=\"..\\__pv_it\\62a710f4f8a9544d43a0ef817f81e2d1256622540\\expr.png\" style=\"display:inline;vertical-align:middle;\" /></a></span></td></tr>\n",
       "<tr><td>1</td><td>specialization</td><td>2, 3, 4</td><td><span style=\"font-size:20px;\"><a class=\"ProveItLink\" href=\"..\\__pv_it\\7680528e1ee86122472bd9f62475b835210285660\\expr.ipynb\"><img src=\"..\\__pv_it\\7680528e1ee86122472bd9f62475b835210285660\\expr.png\" style=\"display:inline;vertical-align:middle;\" /></a> &#x22A2;&nbsp;<a class=\"ProveItLink\" href=\"..\\__pv_it\\e26de46c7e40f81759f2054c0268daeac375fd1c0\\expr.ipynb\"><img src=\"..\\__pv_it\\e26de46c7e40f81759f2054c0268daeac375fd1c0\\expr.png\" style=\"display:inline;vertical-align:middle;\" /></a></span></td></tr>\n",
       "<tr><td>&nbsp;</td><td colspan=4 style=\"text-align:left\"><span style=\"font-size:20px;\"><a class=\"ProveItLink\" href=\"..\\__pv_it\\514aeae6cc9763ae74e4eb301b1dc6fbc9e1ce3d0\\expr.ipynb\"><img src=\"..\\__pv_it\\514aeae6cc9763ae74e4eb301b1dc6fbc9e1ce3d0\\expr.png\" style=\"display:inline;vertical-align:middle;\" /></a>, <a class=\"ProveItLink\" href=\"..\\__pv_it\\08be50c478d27df06dda5e1dddade02d3009470b0\\expr.ipynb\"><img src=\"..\\__pv_it\\08be50c478d27df06dda5e1dddade02d3009470b0\\expr.png\" style=\"display:inline;vertical-align:middle;\" /></a>, <a class=\"ProveItLink\" href=\"..\\__pv_it\\4d87a4484fb0d1b132dc947738ff178d45e52e490\\expr.ipynb\"><img src=\"..\\__pv_it\\4d87a4484fb0d1b132dc947738ff178d45e52e490\\expr.png\" style=\"display:inline;vertical-align:middle;\" /></a></span></td></tr><tr><td>2</td><td>theorem</td><td></td><td><span style=\"font-size:20px;\"> &#x22A2;&nbsp;<a class=\"ProveItLink\" href=\"..\\..\\..\\equality\\__pv_it\\6425c7b64708730992bfb72314f6aeaa5dc1d76c0\\expr.ipynb\"><img src=\"..\\..\\..\\equality\\__pv_it\\6425c7b64708730992bfb72314f6aeaa5dc1d76c0\\expr.png\" style=\"display:inline;vertical-align:middle;\" /></a></span></td></tr>\n",
       "<tr><td>&nbsp;</td><td colspan=4 style-\"text-align:left\"><a class=\"ProveItLink\" href=\"..\\..\\..\\equality\\_proofs_\\lhsSubstitute.ipynb\">proveit.logic.equality.lhsSubstitute</a></td></tr><tr><td>3</td><td>axiom</td><td></td><td><span style=\"font-size:20px;\"> &#x22A2;&nbsp;<a class=\"ProveItLink\" href=\"..\\..\\__pv_it\\3e28545b304b5eec31fcc9e7531755af827b4bfc0\\expr.ipynb\"><img src=\"..\\..\\__pv_it\\3e28545b304b5eec31fcc9e7531755af827b4bfc0\\expr.png\" style=\"display:inline;vertical-align:middle;\" /></a></span></td></tr>\n",
       "<tr><td>&nbsp;</td><td colspan=4 style-\"text-align:left\"><a class=\"ProveItLink\" href=\"..\\..\\_axioms_.ipynb#falseNotTrue\">proveit.logic.boolean.falseNotTrue</a></td></tr><tr><td>4</td><td>specialization</td><td>5, 6</td><td><span style=\"font-size:20px;\"><a class=\"ProveItLink\" href=\"..\\__pv_it\\7680528e1ee86122472bd9f62475b835210285660\\expr.ipynb\"><img src=\"..\\__pv_it\\7680528e1ee86122472bd9f62475b835210285660\\expr.png\" style=\"display:inline;vertical-align:middle;\" /></a> &#x22A2;&nbsp;<a class=\"ProveItLink\" href=\"..\\__pv_it\\59b818aa3070d9f9cb643715737df9a2274cbc840\\expr.ipynb\"><img src=\"..\\__pv_it\\59b818aa3070d9f9cb643715737df9a2274cbc840\\expr.png\" style=\"display:inline;vertical-align:middle;\" /></a></span></td></tr>\n",
       "<tr><td>&nbsp;</td><td colspan=4 style=\"text-align:left\"><span style=\"font-size:20px;\"><a class=\"ProveItLink\" href=\"..\\__pv_it\\507ea7067d5ddfd40d77b6b571c0dbf2bbae36900\\expr.ipynb\"><img src=\"..\\__pv_it\\507ea7067d5ddfd40d77b6b571c0dbf2bbae36900\\expr.png\" style=\"display:inline;vertical-align:middle;\" /></a></span></td></tr><tr><td>5</td><td>axiom</td><td></td><td><span style=\"font-size:20px;\"> &#x22A2;&nbsp;<a class=\"ProveItLink\" href=\"..\\__pv_it\\946c53681efc8125a86640bb96b3bc8a7b22cecf0\\expr.ipynb\"><img src=\"..\\__pv_it\\946c53681efc8125a86640bb96b3bc8a7b22cecf0\\expr.png\" style=\"display:inline;vertical-align:middle;\" /></a></span></td></tr>\n",
       "<tr><td>&nbsp;</td><td colspan=4 style-\"text-align:left\"><a class=\"ProveItLink\" href=\"..\\_axioms_.ipynb#negationElim\">proveit.logic.boolean.negation.negationElim</a></td></tr><tr><td>6</td><td>assumption</td><td></td><td><span style=\"font-size:20px;\"><a class=\"ProveItLink\" href=\"..\\__pv_it\\7680528e1ee86122472bd9f62475b835210285660\\expr.ipynb\"><img src=\"..\\__pv_it\\7680528e1ee86122472bd9f62475b835210285660\\expr.png\" style=\"display:inline;vertical-align:middle;\" /></a> &#x22A2;&nbsp;<a class=\"ProveItLink\" href=\"..\\__pv_it\\2c81ead3bf46a86573cd5304798392177b4792b40\\expr.ipynb\"><img src=\"..\\__pv_it\\2c81ead3bf46a86573cd5304798392177b4792b40\\expr.png\" style=\"display:inline;vertical-align:middle;\" /></a></span></td></tr>\n"
      ],
      "text/plain": [
       "<proveit._core_.proof.Generalization instance at 0x0000000008FDBB08>"
      ]
     },
     "execution_count": 7,
     "metadata": {},
     "output_type": "execute_result"
    }
   ],
   "source": [
    "%qed"
   ]
  },
  {
   "cell_type": "code",
   "execution_count": 8,
   "metadata": {
    "collapsed": true,
    "deletable": true,
    "editable": true
   },
   "outputs": [],
   "source": []
  }
 ],
 "metadata": {
  "kernelspec": {
   "display_name": "Python 2",
   "language": "python",
   "name": "python2"
  },
  "language_info": {
   "codemirror_mode": {
    "name": "ipython",
    "version": 2
   },
   "file_extension": ".py",
   "mimetype": "text/x-python",
   "name": "python",
   "nbconvert_exporter": "python",
   "pygments_lexer": "ipython2",
   "version": "2.7.11"
  }
 },
 "nbformat": 4,
 "nbformat_minor": 0
}
