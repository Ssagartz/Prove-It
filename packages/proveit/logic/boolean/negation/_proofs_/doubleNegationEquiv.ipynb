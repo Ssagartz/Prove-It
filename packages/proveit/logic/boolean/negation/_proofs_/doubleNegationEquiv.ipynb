{
 "cells": [
  {
   "cell_type": "markdown",
   "metadata": {
    "collapsed": true,
    "deletable": true,
    "editable": true
   },
   "source": [
    "Proof of <a class=\"ProveItLink\" href=\"..\\..\\..\\..\\_context_.ipynb\">proveit</a>.<a class=\"ProveItLink\" href=\"..\\..\\..\\_context_.ipynb\">logic</a>.<a class=\"ProveItLink\" href=\"..\\..\\_context_.ipynb\">boolean</a>.<a class=\"ProveItLink\" href=\"..\\_context_.ipynb\">negation</a>.<a class=\"ProveItLink\" href=\"../_theorems_.ipynb#doubleNegationEquiv\">doubleNegationEquiv</a> theorem\n",
    "========"
   ]
  },
  {
   "cell_type": "code",
   "execution_count": 1,
   "metadata": {
    "collapsed": true,
    "deletable": true,
    "editable": true
   },
   "outputs": [],
   "source": [
    "import proveit\n",
    "context = proveit.Context('..') # the theorem's context is in the parent directory"
   ]
  },
  {
   "cell_type": "code",
   "execution_count": 2,
   "metadata": {
    "collapsed": false,
    "deletable": true,
    "editable": true
   },
   "outputs": [
    {
     "name": "stdout",
     "output_type": "stream",
     "text": [
      "Beginning proof of doubleNegationEquiv\n",
      "Recorded 'presuming' information\n",
      "Presuming previous theorems in this context (and any of their dependencies).\n"
     ]
    },
    {
     "data": {
      "text/html": [
       "<strong id=\"doubleNegationEquiv\">doubleNegationEquiv:</strong> <a class=\"ProveItLink\" href=\"..\\__pv_it\\142310516941938a397bbb05a15a71acda7c78920\\expr.ipynb\"><img src=\"..\\__pv_it\\142310516941938a397bbb05a15a71acda7c78920\\expr.png\" style=\"display:inline;vertical-align:middle;\" /></a><br>(see <a class=\"ProveItLink\" href=\"..\\__pv_it\\142310516941938a397bbb05a15a71acda7c78920\\dependencies.ipynb\">dependencies</a>)"
      ],
      "text/plain": [
       "doubleNegationEquiv: forall_{A in BOOLEANS} ([not]([not](A)) = A)"
      ]
     },
     "execution_count": 2,
     "metadata": {},
     "output_type": "execute_result"
    }
   ],
   "source": [
    "%proving doubleNegationEquiv presuming []"
   ]
  },
  {
   "cell_type": "markdown",
   "metadata": {},
   "source": [
    "*** Automated proof, folding the forall over the set of Booleans.\n",
    "This is a shorter proof than via $\\lnot (\\lnot A) \\Leftrightarrow A$.***"
   ]
  },
  {
   "cell_type": "code",
   "execution_count": 3,
   "metadata": {
    "collapsed": false
   },
   "outputs": [
    {
     "data": {
      "text/html": [
       "<table><tr><th>&nbsp;</th><th>step type</th><th>requirements</th><th>statement</th></tr>\n",
       "<tr><td>0</td><td>specialization</td><td>1, 2, 3</td><td><span style=\"font-size:20px;\"> &#x22A2;&nbsp;<a class=\"ProveItLink\" href=\"..\\__pv_it\\142310516941938a397bbb05a15a71acda7c78920\\expr.ipynb\"><img src=\"..\\__pv_it\\142310516941938a397bbb05a15a71acda7c78920\\expr.png\" style=\"display:inline;vertical-align:middle;\" /></a></span></td></tr>\n",
       "<tr><td>&nbsp;</td><td colspan=4 style=\"text-align:left\"><span style=\"font-size:20px;\"><a class=\"ProveItLink\" href=\"..\\__pv_it\\cf3795f5f8f6e1c8131948b56bfaad28c7a8ca470\\expr.ipynb\"><img src=\"..\\__pv_it\\cf3795f5f8f6e1c8131948b56bfaad28c7a8ca470\\expr.png\" style=\"display:inline;vertical-align:middle;\" /></a></span></td></tr><tr><td>1</td><td>theorem</td><td></td><td><span style=\"font-size:20px;\"> &#x22A2;&nbsp;<a class=\"ProveItLink\" href=\"..\\..\\__pv_it\\ee17fc0cf05a76997868c9a70d70d12406c97eb30\\expr.ipynb\"><img src=\"..\\..\\__pv_it\\ee17fc0cf05a76997868c9a70d70d12406c97eb30\\expr.png\" style=\"display:inline;vertical-align:middle;\" /></a></span></td></tr>\n",
       "<tr><td>&nbsp;</td><td colspan=4 style-\"text-align:left\"><a class=\"ProveItLink\" href=\"..\\..\\_proofs_\\foldForallOverBool.ipynb\">proveit.logic.boolean.foldForallOverBool</a></td></tr><tr><td>2</td><td>specialization</td><td>4, 5</td><td><span style=\"font-size:20px;\"> &#x22A2;&nbsp;<a class=\"ProveItLink\" href=\"..\\__pv_it\\74498f3e9a411c8fb18df7f7e3af73043cab3e330\\expr.ipynb\"><img src=\"..\\__pv_it\\74498f3e9a411c8fb18df7f7e3af73043cab3e330\\expr.png\" style=\"display:inline;vertical-align:middle;\" /></a></span></td></tr>\n",
       "<tr><td>&nbsp;</td><td colspan=4 style=\"text-align:left\"><span style=\"font-size:20px;\"><a class=\"ProveItLink\" href=\"..\\__pv_it\\3e2365fed36b4b2e1b3e782b487f76d5d326c1530\\expr.ipynb\"><img src=\"..\\__pv_it\\3e2365fed36b4b2e1b3e782b487f76d5d326c1530\\expr.png\" style=\"display:inline;vertical-align:middle;\" /></a></span></td></tr><tr><td>3</td><td>specialization</td><td>6, 7</td><td><span style=\"font-size:20px;\"> &#x22A2;&nbsp;<a class=\"ProveItLink\" href=\"..\\__pv_it\\1cd529e777b594dc36f97ec8cdbb031c08185eeb0\\expr.ipynb\"><img src=\"..\\__pv_it\\1cd529e777b594dc36f97ec8cdbb031c08185eeb0\\expr.png\" style=\"display:inline;vertical-align:middle;\" /></a></span></td></tr>\n",
       "<tr><td>&nbsp;</td><td colspan=4 style=\"text-align:left\"><span style=\"font-size:20px;\"><a class=\"ProveItLink\" href=\"..\\__pv_it\\ccbe7fe650254379a6d3f268e6f0a9181459af710\\expr.ipynb\"><img src=\"..\\__pv_it\\ccbe7fe650254379a6d3f268e6f0a9181459af710\\expr.png\" style=\"display:inline;vertical-align:middle;\" /></a></span></td></tr><tr><td>4</td><td>axiom</td><td></td><td><span style=\"font-size:20px;\"> &#x22A2;&nbsp;<a class=\"ProveItLink\" href=\"..\\..\\__pv_it\\19bb6771c5c42047ca0c96c63e91a0481d754bac0\\expr.ipynb\"><img src=\"..\\..\\__pv_it\\19bb6771c5c42047ca0c96c63e91a0481d754bac0\\expr.png\" style=\"display:inline;vertical-align:middle;\" /></a></span></td></tr>\n",
       "<tr><td>&nbsp;</td><td colspan=4 style-\"text-align:left\"><a class=\"ProveItLink\" href=\"..\\..\\_axioms_.ipynb#eqTrueIntro\">proveit.logic.boolean.eqTrueIntro</a></td></tr><tr><td>5</td><td>specialization</td><td>8, 9</td><td><span style=\"font-size:20px;\"> &#x22A2;&nbsp;<a class=\"ProveItLink\" href=\"..\\__pv_it\\6a76d9949f04b9a849b98209d9cf3a8195a409fe0\\expr.ipynb\"><img src=\"..\\__pv_it\\6a76d9949f04b9a849b98209d9cf3a8195a409fe0\\expr.png\" style=\"display:inline;vertical-align:middle;\" /></a></span></td></tr>\n",
       "<tr><td>&nbsp;</td><td colspan=4 style=\"text-align:left\"><span style=\"font-size:20px;\"><a class=\"ProveItLink\" href=\"..\\__pv_it\\2b5d2cbc39b4cda7ad3141834aa0b53cfcf3f0ec0\\expr.ipynb\"><img src=\"..\\__pv_it\\2b5d2cbc39b4cda7ad3141834aa0b53cfcf3f0ec0\\expr.png\" style=\"display:inline;vertical-align:middle;\" /></a></span></td></tr><tr><td>6</td><td>axiom</td><td></td><td><span style=\"font-size:20px;\"> &#x22A2;&nbsp;<a class=\"ProveItLink\" href=\"..\\__pv_it\\6ac688862579fbaa8c1fc7cdecbbaac75eaebdd30\\expr.ipynb\"><img src=\"..\\__pv_it\\6ac688862579fbaa8c1fc7cdecbbaac75eaebdd30\\expr.png\" style=\"display:inline;vertical-align:middle;\" /></a></span></td></tr>\n",
       "<tr><td>&nbsp;</td><td colspan=4 style-\"text-align:left\"><a class=\"ProveItLink\" href=\"..\\_axioms_.ipynb#falsifiedNegationIntro\">proveit.logic.boolean.negation.falsifiedNegationIntro</a></td></tr><tr><td>7</td><td>theorem</td><td></td><td><span style=\"font-size:20px;\"> &#x22A2;&nbsp;<a class=\"ProveItLink\" href=\"..\\__pv_it\\01165fd25131c0df966b8e8c1626e275fd04f3050\\expr.ipynb\"><img src=\"..\\__pv_it\\01165fd25131c0df966b8e8c1626e275fd04f3050\\expr.png\" style=\"display:inline;vertical-align:middle;\" /></a></span></td></tr>\n",
       "<tr><td>&nbsp;</td><td colspan=4 style-\"text-align:left\"><a class=\"ProveItLink\" href=\"notFalse.ipynb\">proveit.logic.boolean.negation.notFalse</a></td></tr><tr><td>8</td><td>axiom</td><td></td><td><span style=\"font-size:20px;\"> &#x22A2;&nbsp;<a class=\"ProveItLink\" href=\"..\\__pv_it\\a1cbf2cc4ad40720546c75a4175d170a4c9824fa0\\expr.ipynb\"><img src=\"..\\__pv_it\\a1cbf2cc4ad40720546c75a4175d170a4c9824fa0\\expr.png\" style=\"display:inline;vertical-align:middle;\" /></a></span></td></tr>\n",
       "<tr><td>&nbsp;</td><td colspan=4 style-\"text-align:left\"><a class=\"ProveItLink\" href=\"..\\_axioms_.ipynb#negationIntro\">proveit.logic.boolean.negation.negationIntro</a></td></tr><tr><td>9</td><td>theorem</td><td></td><td><span style=\"font-size:20px;\"> &#x22A2;&nbsp;<a class=\"ProveItLink\" href=\"..\\__pv_it\\616bbddf0a07cdf603496a9c8ad63f9accda890d0\\expr.ipynb\"><img src=\"..\\__pv_it\\616bbddf0a07cdf603496a9c8ad63f9accda890d0\\expr.png\" style=\"display:inline;vertical-align:middle;\" /></a></span></td></tr>\n",
       "<tr><td>&nbsp;</td><td colspan=4 style-\"text-align:left\"><a class=\"ProveItLink\" href=\"notT.ipynb\">proveit.logic.boolean.negation.notT</a></td></tr>"
      ],
      "text/plain": [
       "<proveit._core_.proof.Specialization instance at 0x000000000900E9C8>"
      ]
     },
     "execution_count": 3,
     "metadata": {},
     "output_type": "execute_result"
    }
   ],
   "source": [
    "%qed "
   ]
  },
  {
   "cell_type": "code",
   "execution_count": null,
   "metadata": {
    "collapsed": true,
    "deletable": true,
    "editable": true
   },
   "outputs": [],
   "source": []
  }
 ],
 "metadata": {
  "kernelspec": {
   "display_name": "Python 2",
   "language": "python",
   "name": "python2"
  },
  "language_info": {
   "codemirror_mode": {
    "name": "ipython",
    "version": 2
   },
   "file_extension": ".py",
   "mimetype": "text/x-python",
   "name": "python",
   "nbconvert_exporter": "python",
   "pygments_lexer": "ipython2",
   "version": "2.7.11"
  }
 },
 "nbformat": 4,
 "nbformat_minor": 0
}
