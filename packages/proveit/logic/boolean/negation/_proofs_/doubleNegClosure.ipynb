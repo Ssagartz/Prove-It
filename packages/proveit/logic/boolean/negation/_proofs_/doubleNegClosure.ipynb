{
 "cells": [
  {
   "cell_type": "markdown",
   "metadata": {
    "collapsed": true,
    "deletable": true,
    "editable": true
   },
   "source": [
    "Proof of <a class=\"ProveItLink\" href=\"..\\..\\..\\..\\_context_.ipynb\">proveit</a>.<a class=\"ProveItLink\" href=\"..\\..\\..\\_context_.ipynb\">logic</a>.<a class=\"ProveItLink\" href=\"..\\..\\_context_.ipynb\">boolean</a>.<a class=\"ProveItLink\" href=\"..\\_context_.ipynb\">negation</a>.<a class=\"ProveItLink\" href=\"../_theorems_.ipynb#doubleNegClosure\">doubleNegClosure</a> theorem\n",
    "========"
   ]
  },
  {
   "cell_type": "code",
   "execution_count": 1,
   "metadata": {
    "collapsed": true,
    "deletable": true,
    "editable": true
   },
   "outputs": [],
   "source": [
    "import proveit\n",
    "from proveit._common_ import A\n",
    "from proveit.logic import Not\n",
    "from proveit.logic.boolean.negation._theorems_ import closure\n",
    "context = proveit.Context('..') # the theorem's context is in the parent directory"
   ]
  },
  {
   "cell_type": "code",
   "execution_count": 2,
   "metadata": {
    "collapsed": false,
    "deletable": true,
    "editable": true,
    "scrolled": true
   },
   "outputs": [
    {
     "name": "stdout",
     "output_type": "stream",
     "text": [
      "Beginning proof of doubleNegClosure\n",
      "Recorded 'presuming' information\n",
      "Presuming previous theorems in this context (and any of their dependencies).\n"
     ]
    },
    {
     "data": {
      "text/html": [
       "<strong id=\"doubleNegClosure\">doubleNegClosure:</strong> <a class=\"ProveItLink\" href=\"..\\__pv_it\\12523096af41a0b870dc45cecf45aa87e2e7e1370\\expr.ipynb\"><img src=\"..\\__pv_it\\12523096af41a0b870dc45cecf45aa87e2e7e1370\\expr.png\" style=\"display:inline;vertical-align:middle;\" /></a><br>(see <a class=\"ProveItLink\" href=\"..\\__pv_it\\12523096af41a0b870dc45cecf45aa87e2e7e1370\\dependencies.ipynb\">dependencies</a>)"
      ],
      "text/plain": [
       "doubleNegClosure: forall_{A in BOOLEANS} ([not]([not](A)) in BOOLEANS)"
      ]
     },
     "execution_count": 2,
     "metadata": {},
     "output_type": "execute_result"
    }
   ],
   "source": [
    "%proving doubleNegClosure presuming []"
   ]
  },
  {
   "cell_type": "code",
   "execution_count": 3,
   "metadata": {
    "collapsed": false
   },
   "outputs": [
    {
     "data": {
      "text/html": [
       "<span style=\"font-size:20px;\"> &#x22A2;&nbsp;<a class=\"ProveItLink\" href=\"..\\__pv_it\\42428db6bfee298352d8bfd952e14d632c260fd90\\expr.ipynb\"><img src=\"..\\__pv_it\\42428db6bfee298352d8bfd952e14d632c260fd90\\expr.png\" style=\"display:inline;vertical-align:middle;\" /></a></span>"
      ],
      "text/plain": [
       "|= forall_{A in BOOLEANS} ([not](A) in BOOLEANS)"
      ]
     },
     "execution_count": 3,
     "metadata": {},
     "output_type": "execute_result"
    }
   ],
   "source": [
    "closure"
   ]
  },
  {
   "cell_type": "code",
   "execution_count": 4,
   "metadata": {
    "collapsed": false
   },
   "outputs": [
    {
     "data": {
      "text/html": [
       "<span style=\"font-size:20px;\"><a class=\"ProveItLink\" href=\"..\\__pv_it\\017ca8cfa034181c90ba15dd10869f0f4e516d6a0\\expr.ipynb\"><img src=\"..\\__pv_it\\017ca8cfa034181c90ba15dd10869f0f4e516d6a0\\expr.png\" style=\"display:inline;vertical-align:middle;\" /></a> &#x22A2;&nbsp;<a class=\"ProveItLink\" href=\"..\\__pv_it\\adfc9e9b47fedc1cfd036037fb8bbac2551a4efd0\\expr.ipynb\"><img src=\"..\\__pv_it\\adfc9e9b47fedc1cfd036037fb8bbac2551a4efd0\\expr.png\" style=\"display:inline;vertical-align:middle;\" /></a></span>"
      ],
      "text/plain": [
       "{A in BOOLEANS} |= [not]([not](A)) in BOOLEANS"
      ]
     },
     "execution_count": 4,
     "metadata": {},
     "output_type": "execute_result"
    }
   ],
   "source": [
    "closure.specialize({A:Not(A)}, assumptions=doubleNegClosure.conditions)"
   ]
  },
  {
   "cell_type": "code",
   "execution_count": 5,
   "metadata": {
    "collapsed": false,
    "deletable": true,
    "editable": true,
    "scrolled": false
   },
   "outputs": [
    {
     "data": {
      "text/html": [
       "<table><tr><th>&nbsp;</th><th>step type</th><th>requirements</th><th>statement</th></tr>\n",
       "<tr><td>0</td><td>generalizaton</td><td>1</td><td><span style=\"font-size:20px;\"> &#x22A2;&nbsp;<a class=\"ProveItLink\" href=\"..\\__pv_it\\12523096af41a0b870dc45cecf45aa87e2e7e1370\\expr.ipynb\"><img src=\"..\\__pv_it\\12523096af41a0b870dc45cecf45aa87e2e7e1370\\expr.png\" style=\"display:inline;vertical-align:middle;\" /></a></span></td></tr>\n",
       "<tr><td>1</td><td>specialization</td><td>3, 2</td><td><span style=\"font-size:20px;\"><a class=\"ProveItLink\" href=\"..\\__pv_it\\017ca8cfa034181c90ba15dd10869f0f4e516d6a0\\expr.ipynb\"><img src=\"..\\__pv_it\\017ca8cfa034181c90ba15dd10869f0f4e516d6a0\\expr.png\" style=\"display:inline;vertical-align:middle;\" /></a> &#x22A2;&nbsp;<a class=\"ProveItLink\" href=\"..\\__pv_it\\adfc9e9b47fedc1cfd036037fb8bbac2551a4efd0\\expr.ipynb\"><img src=\"..\\__pv_it\\adfc9e9b47fedc1cfd036037fb8bbac2551a4efd0\\expr.png\" style=\"display:inline;vertical-align:middle;\" /></a></span></td></tr>\n",
       "<tr><td>&nbsp;</td><td colspan=4 style=\"text-align:left\"><span style=\"font-size:20px;\"><a class=\"ProveItLink\" href=\"..\\__pv_it\\f76cdc152445ee6ff4488454ff8bf401b244fa280\\expr.ipynb\"><img src=\"..\\__pv_it\\f76cdc152445ee6ff4488454ff8bf401b244fa280\\expr.png\" style=\"display:inline;vertical-align:middle;\" /></a></span></td></tr><tr><td>2</td><td>specialization</td><td>3, 4</td><td><span style=\"font-size:20px;\"><a class=\"ProveItLink\" href=\"..\\__pv_it\\017ca8cfa034181c90ba15dd10869f0f4e516d6a0\\expr.ipynb\"><img src=\"..\\__pv_it\\017ca8cfa034181c90ba15dd10869f0f4e516d6a0\\expr.png\" style=\"display:inline;vertical-align:middle;\" /></a> &#x22A2;&nbsp;<a class=\"ProveItLink\" href=\"..\\__pv_it\\950545f9a03f5164a11b771df9eb43356be92a000\\expr.ipynb\"><img src=\"..\\__pv_it\\950545f9a03f5164a11b771df9eb43356be92a000\\expr.png\" style=\"display:inline;vertical-align:middle;\" /></a></span></td></tr>\n",
       "<tr><td>&nbsp;</td><td colspan=4 style=\"text-align:left\"><span style=\"font-size:20px;\"><a class=\"ProveItLink\" href=\"..\\__pv_it\\507ea7067d5ddfd40d77b6b571c0dbf2bbae36900\\expr.ipynb\"><img src=\"..\\__pv_it\\507ea7067d5ddfd40d77b6b571c0dbf2bbae36900\\expr.png\" style=\"display:inline;vertical-align:middle;\" /></a></span></td></tr><tr><td>3</td><td>theorem</td><td></td><td><span style=\"font-size:20px;\"> &#x22A2;&nbsp;<a class=\"ProveItLink\" href=\"..\\__pv_it\\42428db6bfee298352d8bfd952e14d632c260fd90\\expr.ipynb\"><img src=\"..\\__pv_it\\42428db6bfee298352d8bfd952e14d632c260fd90\\expr.png\" style=\"display:inline;vertical-align:middle;\" /></a></span></td></tr>\n",
       "<tr><td>&nbsp;</td><td colspan=4 style-\"text-align:left\"><a class=\"ProveItLink\" href=\"closure.ipynb\">proveit.logic.boolean.negation.closure</a></td></tr><tr><td>4</td><td>assumption</td><td></td><td><span style=\"font-size:20px;\"><a class=\"ProveItLink\" href=\"..\\__pv_it\\017ca8cfa034181c90ba15dd10869f0f4e516d6a0\\expr.ipynb\"><img src=\"..\\__pv_it\\017ca8cfa034181c90ba15dd10869f0f4e516d6a0\\expr.png\" style=\"display:inline;vertical-align:middle;\" /></a> &#x22A2;&nbsp;<a class=\"ProveItLink\" href=\"..\\__pv_it\\03a5c2b5cc6fc2c3cd686b4bcf84379b893abe210\\expr.ipynb\"><img src=\"..\\__pv_it\\03a5c2b5cc6fc2c3cd686b4bcf84379b893abe210\\expr.png\" style=\"display:inline;vertical-align:middle;\" /></a></span></td></tr>\n"
      ],
      "text/plain": [
       "<proveit._core_.proof.Generalization instance at 0x0000000008F8D648>"
      ]
     },
     "execution_count": 5,
     "metadata": {},
     "output_type": "execute_result"
    }
   ],
   "source": [
    "%qed"
   ]
  },
  {
   "cell_type": "code",
   "execution_count": 6,
   "metadata": {
    "collapsed": true
   },
   "outputs": [],
   "source": []
  }
 ],
 "metadata": {
  "kernelspec": {
   "display_name": "Python 2",
   "language": "python",
   "name": "python2"
  },
  "language_info": {
   "codemirror_mode": {
    "name": "ipython",
    "version": 2
   },
   "file_extension": ".py",
   "mimetype": "text/x-python",
   "name": "python",
   "nbconvert_exporter": "python",
   "pygments_lexer": "ipython2",
   "version": "2.7.11"
  }
 },
 "nbformat": 4,
 "nbformat_minor": 0
}
