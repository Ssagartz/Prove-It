{
 "cells": [
  {
   "cell_type": "markdown",
   "metadata": {
    "collapsed": true,
    "deletable": true,
    "editable": true
   },
   "source": [
    "Theorems for context <a href=\"_context_.ipynb\" class=\"ProveItLink\">proveit.logic.boolean.negation</a>\n",
    "========"
   ]
  },
  {
   "cell_type": "code",
   "execution_count": 1,
   "metadata": {
    "collapsed": false,
    "deletable": true,
    "editable": true
   },
   "outputs": [
    {
     "name": "stdout",
     "output_type": "stream",
     "text": [
      "Defining theorems for context 'proveit.logic.boolean.negation'\n",
      "Subsequent end-of-cell assignments will define theorems\n",
      "'%end theorems' will finalize the definitions\n"
     ]
    }
   ],
   "source": [
    "from proveit.logic import Not, FALSE, Forall, Implies, Equals, TRUE, Or, NotEquals, Booleans, inBool\n",
    "from proveit._common_ import A, B\n",
    "%begin theorems"
   ]
  },
  {
   "cell_type": "code",
   "execution_count": 2,
   "metadata": {
    "collapsed": false,
    "deletable": true,
    "editable": true
   },
   "outputs": [
    {
     "data": {
      "text/html": [
       "<strong id=\"notFalse\"><a class=\"ProveItLink\" href=\"_proofs_\\notFalse.ipynb\">notFalse</a>:</strong> <a class=\"ProveItLink\" href=\"__pv_it\\a19c8862aee5a1096cfa0c378703dfadd393c4420\\expr.ipynb\"><img src=\"__pv_it\\a19c8862aee5a1096cfa0c378703dfadd393c4420\\expr.png\" style=\"display:inline;vertical-align:middle;\" /></a><br>"
      ],
      "text/plain": [
       "notFalse: [not](FALSE)"
      ]
     },
     "execution_count": 2,
     "metadata": {},
     "output_type": "execute_result"
    }
   ],
   "source": [
    "notFalse = Not(FALSE)"
   ]
  },
  {
   "cell_type": "markdown",
   "metadata": {
    "deletable": true,
    "editable": true
   },
   "source": [
    "**We derive these two truth table theorems from stronger axioms:**"
   ]
  },
  {
   "cell_type": "code",
   "execution_count": 3,
   "metadata": {
    "collapsed": false,
    "deletable": true,
    "editable": true
   },
   "outputs": [
    {
     "data": {
      "text/html": [
       "<strong id=\"notF\"><a class=\"ProveItLink\" href=\"_proofs_\\notF.ipynb\">notF</a>:</strong> <a class=\"ProveItLink\" href=\"__pv_it\\d71c969f5cbc69e2d0781758055dce02f53d39140\\expr.ipynb\"><img src=\"__pv_it\\d71c969f5cbc69e2d0781758055dce02f53d39140\\expr.png\" style=\"display:inline;vertical-align:middle;\" /></a><br>\n",
       "<strong id=\"notT\"><a class=\"ProveItLink\" href=\"_proofs_\\notT.ipynb\">notT</a>:</strong> <a class=\"ProveItLink\" href=\"__pv_it\\7d0e97d26a4f26030b7595335c5a3e41683823a00\\expr.ipynb\"><img src=\"__pv_it\\7d0e97d26a4f26030b7595335c5a3e41683823a00\\expr.png\" style=\"display:inline;vertical-align:middle;\" /></a><br>"
      ],
      "text/plain": [
       "notF: [not](FALSE) = TRUE\n",
       "notT: [not](TRUE) = FALSE"
      ]
     },
     "execution_count": 3,
     "metadata": {},
     "output_type": "execute_result"
    }
   ],
   "source": [
    "notF, notT = Equals(Not(FALSE), TRUE), Equals(Not(TRUE), FALSE)"
   ]
  },
  {
   "cell_type": "code",
   "execution_count": 4,
   "metadata": {
    "collapsed": false,
    "deletable": true,
    "editable": true
   },
   "outputs": [
    {
     "data": {
      "text/html": [
       "<strong id=\"notTimpliesF\"><a class=\"ProveItLink\" href=\"_proofs_\\notTimpliesF.ipynb\">notTimpliesF</a>:</strong> <a class=\"ProveItLink\" href=\"__pv_it\\c7b43cbdf236cf7c7214f044c27bdf67d9d04bd20\\expr.ipynb\"><img src=\"__pv_it\\c7b43cbdf236cf7c7214f044c27bdf67d9d04bd20\\expr.png\" style=\"display:inline;vertical-align:middle;\" /></a><br>"
      ],
      "text/plain": [
       "notTimpliesF: [not](TRUE) => FALSE"
      ]
     },
     "execution_count": 4,
     "metadata": {},
     "output_type": "execute_result"
    }
   ],
   "source": [
    "notTimpliesF = Implies(Not(TRUE), FALSE)"
   ]
  },
  {
   "cell_type": "code",
   "execution_count": 5,
   "metadata": {
    "collapsed": false,
    "deletable": true,
    "editable": true
   },
   "outputs": [
    {
     "data": {
      "text/html": [
       "<strong id=\"untrueFromNegation\"><a class=\"ProveItLink\" href=\"_proofs_\\untrueFromNegation.ipynb\">untrueFromNegation</a>:</strong> <a class=\"ProveItLink\" href=\"__pv_it\\6d6108015a3b6e1d2ee9aff1f2ed3eb6f8b701b40\\expr.ipynb\"><img src=\"__pv_it\\6d6108015a3b6e1d2ee9aff1f2ed3eb6f8b701b40\\expr.png\" style=\"display:inline;vertical-align:middle;\" /></a><br>"
      ],
      "text/plain": [
       "untrueFromNegation: forall_{A | [not](A)} (A != TRUE)"
      ]
     },
     "execution_count": 5,
     "metadata": {},
     "output_type": "execute_result"
    }
   ],
   "source": [
    "untrueFromNegation = Forall(A, NotEquals(A, TRUE), conditions=[Not(A)])"
   ]
  },
  {
   "cell_type": "code",
   "execution_count": 6,
   "metadata": {
    "collapsed": false,
    "deletable": true,
    "editable": true
   },
   "outputs": [
    {
     "data": {
      "text/html": [
       "<strong id=\"toDoubleNegation\"><a class=\"ProveItLink\" href=\"_proofs_\\toDoubleNegation.ipynb\">toDoubleNegation</a>:</strong> <a class=\"ProveItLink\" href=\"__pv_it\\ea0c0a8b9c5bf6dc76b6565bf87eb74a8b35ca1e0\\expr.ipynb\"><img src=\"__pv_it\\ea0c0a8b9c5bf6dc76b6565bf87eb74a8b35ca1e0\\expr.png\" style=\"display:inline;vertical-align:middle;\" /></a><br>"
      ],
      "text/plain": [
       "toDoubleNegation: forall_{A | A} [not]([not](A))"
      ]
     },
     "execution_count": 6,
     "metadata": {},
     "output_type": "execute_result"
    }
   ],
   "source": [
    "toDoubleNegation = Forall(A, Not(Not(A)), conditions=[A])"
   ]
  },
  {
   "cell_type": "code",
   "execution_count": 7,
   "metadata": {
    "collapsed": false,
    "deletable": true,
    "editable": true
   },
   "outputs": [
    {
     "data": {
      "text/html": [
       "<strong id=\"fromDoubleNegation\"><a class=\"ProveItLink\" href=\"_proofs_\\fromDoubleNegation.ipynb\">fromDoubleNegation</a>:</strong> <a class=\"ProveItLink\" href=\"__pv_it\\9fd45c157bebbbb94e42ba8bcd8db2368e9dae9f0\\expr.ipynb\"><img src=\"__pv_it\\9fd45c157bebbbb94e42ba8bcd8db2368e9dae9f0\\expr.png\" style=\"display:inline;vertical-align:middle;\" /></a><br>"
      ],
      "text/plain": [
       "fromDoubleNegation: forall_{A | [not]([not](A))} A"
      ]
     },
     "execution_count": 7,
     "metadata": {},
     "output_type": "execute_result"
    }
   ],
   "source": [
    "fromDoubleNegation = Forall(A, A, conditions=[Not(Not(A))])"
   ]
  },
  {
   "cell_type": "code",
   "execution_count": 8,
   "metadata": {
    "collapsed": false,
    "deletable": true,
    "editable": true
   },
   "outputs": [
    {
     "data": {
      "text/html": [
       "<strong id=\"negationContradiction\"><a class=\"ProveItLink\" href=\"_proofs_\\negationContradiction.ipynb\">negationContradiction</a>:</strong> <a class=\"ProveItLink\" href=\"__pv_it\\eb2b1f156e75289dbc903aef011a5272e534f2bc0\\expr.ipynb\"><img src=\"__pv_it\\eb2b1f156e75289dbc903aef011a5272e534f2bc0\\expr.png\" style=\"display:inline;vertical-align:middle;\" /></a><br>"
      ],
      "text/plain": [
       "negationContradiction: forall_{A | A , [not](A)} FALSE"
      ]
     },
     "execution_count": 8,
     "metadata": {},
     "output_type": "execute_result"
    }
   ],
   "source": [
    "negationContradiction = Forall(A, FALSE, conditions=[A, Not(A)])"
   ]
  },
  {
   "cell_type": "code",
   "execution_count": 9,
   "metadata": {
    "collapsed": false,
    "deletable": true,
    "editable": true
   },
   "outputs": [
    {
     "data": {
      "text/html": [
       "<strong id=\"fromNegatedFalsification\"><a class=\"ProveItLink\" href=\"_proofs_\\fromNegatedFalsification.ipynb\">fromNegatedFalsification</a>:</strong> <a class=\"ProveItLink\" href=\"__pv_it\\291049ca1dcd81e877d5a3df374d1b1a8b8eed9f0\\expr.ipynb\"><img src=\"__pv_it\\291049ca1dcd81e877d5a3df374d1b1a8b8eed9f0\\expr.png\" style=\"display:inline;vertical-align:middle;\" /></a><br>"
      ],
      "text/plain": [
       "fromNegatedFalsification: forall_{A in BOOLEANS | [not](A = FALSE)} A"
      ]
     },
     "execution_count": 9,
     "metadata": {},
     "output_type": "execute_result"
    }
   ],
   "source": [
    "fromNegatedFalsification = Forall(A, A, domain=Booleans, conditions=[Not(Equals(A, FALSE))])"
   ]
  },
  {
   "cell_type": "code",
   "execution_count": 10,
   "metadata": {
    "collapsed": false,
    "deletable": true,
    "editable": true
   },
   "outputs": [
    {
     "data": {
      "text/html": [
       "<strong id=\"closure\"><a class=\"ProveItLink\" href=\"_proofs_\\closure.ipynb\">closure</a>:</strong> <a class=\"ProveItLink\" href=\"__pv_it\\8ff953441b4cb91f5d1a56eba6adfbc4c27c2a530\\expr.ipynb\"><img src=\"__pv_it\\8ff953441b4cb91f5d1a56eba6adfbc4c27c2a530\\expr.png\" style=\"display:inline;vertical-align:middle;\" /></a><br>"
      ],
      "text/plain": [
       "closure: forall_{A in BOOLEANS} ([not](A) in BOOLEANS)"
      ]
     },
     "execution_count": 10,
     "metadata": {},
     "output_type": "execute_result"
    }
   ],
   "source": [
    "closure = Forall(A, inBool(Not(A)), domain=Booleans)"
   ]
  },
  {
   "cell_type": "code",
   "execution_count": null,
   "metadata": {
    "collapsed": true,
    "deletable": true,
    "editable": true
   },
   "outputs": [],
   "source": []
  },
  {
   "cell_type": "code",
   "execution_count": 11,
   "metadata": {
    "collapsed": false,
    "deletable": true,
    "editable": true
   },
   "outputs": [
    {
     "data": {
      "text/html": [
       "<strong id=\"operandInBool\"><a class=\"ProveItLink\" href=\"_proofs_\\operandInBool.ipynb\" target=\"_blank\">operandInBool</a>:</strong> <a href=\"__pv_it\\e1419cca132f7a4b0217d21589e56aba2b2cd2260\\expr.ipynb\" target=\"_blank\"><img src=\"__pv_it\\e1419cca132f7a4b0217d21589e56aba2b2cd2260\\expr.png\" style=\"display:inline;vertical-align:middle;\" /></a><br>"
      ],
      "text/plain": [
       "operandInBool: forall_{A | (not(A) in BOOLEANS)} (A in BOOLEANS)"
      ]
     },
     "execution_count": 11,
     "metadata": {},
     "output_type": "execute_result"
    }
   ],
   "source": [
    "operandInBool = Forall(A, inBool(A), conditions=inBool(Not(A)))"
   ]
  },
  {
   "cell_type": "code",
   "execution_count": 12,
   "metadata": {
    "collapsed": false,
    "deletable": true,
    "editable": true
   },
   "outputs": [
    {
     "data": {
      "text/html": [
       "<strong id=\"doubleNegationEquiv\"><a class=\"ProveItLink\" href=\"_proofs_\\doubleNegationEquiv.ipynb\" target=\"_blank\">doubleNegationEquiv</a>:</strong> <a href=\"__pv_it\\a6e9efa1d6a6807589fb9fcbce61984556a875d30\\expr.ipynb\" target=\"_blank\"><img src=\"__pv_it\\a6e9efa1d6a6807589fb9fcbce61984556a875d30\\expr.png\" style=\"display:inline;vertical-align:middle;\" /></a><br>"
      ],
      "text/plain": [
       "doubleNegationEquiv: forall_{A in BOOLEANS} (not(not(A)) = A)"
      ]
     },
     "execution_count": 12,
     "metadata": {},
     "output_type": "execute_result"
    }
   ],
   "source": [
    "doubleNegationEquiv = Forall(A, Equals(Not(Not(A)), A), domain=Booleans)"
   ]
  },
  {
   "cell_type": "code",
   "execution_count": 11,
   "metadata": {
    "collapsed": false,
    "deletable": true,
    "editable": true
   },
   "outputs": [
    {
     "name": "stdout",
     "output_type": "stream",
     "text": [
      "Modifying theorem notFalse in proveit.logic.boolean.negation context\n",
      "Modifying theorem notF in proveit.logic.boolean.negation context\n",
      "Modifying theorem notT in proveit.logic.boolean.negation context\n",
      "Modifying theorem notTimpliesF in proveit.logic.boolean.negation context\n",
      "Modifying theorem untrueFromNegation in proveit.logic.boolean.negation context\n",
      "Modifying theorem toDoubleNegation in proveit.logic.boolean.negation context\n",
      "Modifying theorem fromDoubleNegation in proveit.logic.boolean.negation context\n",
      "Modifying theorem negationContradiction in proveit.logic.boolean.negation context\n",
      "Modifying theorem fromNegatedFalsification in proveit.logic.boolean.negation context\n",
      "Modifying theorem closure in proveit.logic.boolean.negation context\n",
      "Removing theorem doubleNegationEquiv from proveit.logic.boolean.negation context\n",
      "Removing theorem operandInBool from proveit.logic.boolean.negation context\n",
      "closure expression notebook is being updated\n",
      "notT expression notebook is being updated\n",
      "fromDoubleNegation expression notebook is being updated\n",
      "notTimpliesF expression notebook is being updated\n",
      "negationContradiction expression notebook is being updated\n",
      "fromNegatedFalsification expression notebook is being updated\n",
      "toDoubleNegation expression notebook is being updated\n",
      "notF expression notebook is being updated\n",
      "notFalse expression notebook is being updated\n",
      "untrueFromNegation expression notebook is being updated\n",
      "Theorems may be imported from autogenerated _theorems_.py\n",
      "Stashing _proofs_\\doubleNegationEquiv.ipynb to _proofs_\\doubleNegationEquiv~stashed~1.ipynb in case it is needed.\n",
      "Stashing _proofs_\\operandInBool.ipynb to _proofs_\\operandInBool~stashed~1.ipynb in case it is needed.\n"
     ]
    }
   ],
   "source": [
    "%end theorems"
   ]
  },
  {
   "cell_type": "code",
   "execution_count": 14,
   "metadata": {
    "collapsed": true,
    "deletable": true,
    "editable": true
   },
   "outputs": [],
   "source": []
  }
 ],
 "metadata": {
  "kernelspec": {
   "display_name": "Python 2",
   "language": "python",
   "name": "python2"
  },
  "language_info": {
   "codemirror_mode": {
    "name": "ipython",
    "version": 2
   },
   "file_extension": ".py",
   "mimetype": "text/x-python",
   "name": "python",
   "nbconvert_exporter": "python",
   "pygments_lexer": "ipython2",
   "version": "2.7.11"
  }
 },
 "nbformat": 4,
 "nbformat_minor": 0
}
