{
 "cells": [
  {
   "cell_type": "markdown",
   "metadata": {
    "collapsed": true,
    "deletable": true,
    "editable": true
   },
   "source": [
    "Theorems for context <a href=\"_context_.ipynb\">proveit.logic.boolean.negation</a>\n",
    "========"
   ]
  },
  {
   "cell_type": "code",
   "execution_count": 1,
   "metadata": {
    "collapsed": false,
    "deletable": true,
    "editable": true
   },
   "outputs": [
    {
     "name": "stdout",
     "output_type": "stream",
     "text": [
      "Defining theorems for context 'proveit.logic.boolean.negation'\n",
      "Subsequent end-of-cell assignments will define theorems\n",
      "%end_theorems will finalize the definitions\n"
     ]
    }
   ],
   "source": [
    "from proveit.logic import Not, FALSE, Forall, Implies, Equals, TRUE, Or, NotEquals, Booleans, inBool\n",
    "from proveit._common_ import A, B\n",
    "%begin_theorems"
   ]
  },
  {
   "cell_type": "code",
   "execution_count": 2,
   "metadata": {
    "collapsed": false,
    "deletable": true,
    "editable": true
   },
   "outputs": [
    {
     "data": {
      "text/html": [
       "<strong id=\"notFalse\"><a href=\"_proofs_\\notFalse.ipynb\" target=\"_blank\">notFalse</a>:</strong> <a href=\"__pv_it\\0d44395a89fd59811250466525237a266acbd1150\\expr.ipynb\" target=\"_blank\"><img src=\"__pv_it\\0d44395a89fd59811250466525237a266acbd1150\\expr.png\" style=\"display:inline;vertical-align:middle;\" /></a><br>"
      ],
      "text/plain": [
       "notFalse: not(FALSE)"
      ]
     },
     "execution_count": 2,
     "metadata": {},
     "output_type": "execute_result"
    }
   ],
   "source": [
    "notFalse = Not(FALSE)"
   ]
  },
  {
   "cell_type": "markdown",
   "metadata": {
    "deletable": true,
    "editable": true
   },
   "source": [
    "**We derive these two truth table theorems from stronger axioms:**"
   ]
  },
  {
   "cell_type": "code",
   "execution_count": 3,
   "metadata": {
    "collapsed": false,
    "deletable": true,
    "editable": true
   },
   "outputs": [
    {
     "data": {
      "text/html": [
       "<strong id=\"notF\"><a href=\"_proofs_\\notF.ipynb\" target=\"_blank\">notF</a>:</strong> <a href=\"__pv_it\\13168a5d966168adc860ee474f8a71a61375cb5b0\\expr.ipynb\" target=\"_blank\"><img src=\"__pv_it\\13168a5d966168adc860ee474f8a71a61375cb5b0\\expr.png\" style=\"display:inline;vertical-align:middle;\" /></a><br>\n",
       "<strong id=\"notT\"><a href=\"_proofs_\\notT.ipynb\" target=\"_blank\">notT</a>:</strong> <a href=\"__pv_it\\f795b888fbd7f18c772da60613b3527a32928b940\\expr.ipynb\" target=\"_blank\"><img src=\"__pv_it\\f795b888fbd7f18c772da60613b3527a32928b940\\expr.png\" style=\"display:inline;vertical-align:middle;\" /></a><br>"
      ],
      "text/plain": [
       "notF: not(FALSE) = TRUE\n",
       "notT: not(TRUE) = FALSE"
      ]
     },
     "execution_count": 3,
     "metadata": {},
     "output_type": "execute_result"
    }
   ],
   "source": [
    "notF, notT = Equals(Not(FALSE), TRUE), Equals(Not(TRUE), FALSE)"
   ]
  },
  {
   "cell_type": "code",
   "execution_count": 4,
   "metadata": {
    "collapsed": false,
    "deletable": true,
    "editable": true
   },
   "outputs": [
    {
     "data": {
      "text/html": [
       "<strong id=\"notTimpliesF\"><a href=\"_proofs_\\notTimpliesF.ipynb\" target=\"_blank\">notTimpliesF</a>:</strong> <a href=\"__pv_it\\779a1efeaf4b30ecab25a1a2a8f70603eb7d445c0\\expr.ipynb\" target=\"_blank\"><img src=\"__pv_it\\779a1efeaf4b30ecab25a1a2a8f70603eb7d445c0\\expr.png\" style=\"display:inline;vertical-align:middle;\" /></a><br>"
      ],
      "text/plain": [
       "notTimpliesF: not(TRUE) => FALSE"
      ]
     },
     "execution_count": 4,
     "metadata": {},
     "output_type": "execute_result"
    }
   ],
   "source": [
    "notTimpliesF = Implies(Not(TRUE), FALSE)"
   ]
  },
  {
   "cell_type": "code",
   "execution_count": 5,
   "metadata": {
    "collapsed": false,
    "deletable": true,
    "editable": true
   },
   "outputs": [
    {
     "data": {
      "text/html": [
       "<strong id=\"toDoubleNegation\"><a href=\"_proofs_\\toDoubleNegation.ipynb\" target=\"_blank\">toDoubleNegation</a>:</strong> <a href=\"__pv_it\\286adcbe8023a18978d5c70912cd35edd88ee99f0\\expr.ipynb\" target=\"_blank\"><img src=\"__pv_it\\286adcbe8023a18978d5c70912cd35edd88ee99f0\\expr.png\" style=\"display:inline;vertical-align:middle;\" /></a><br>"
      ],
      "text/plain": [
       "toDoubleNegation: forall_{A | A} not(not(A))"
      ]
     },
     "execution_count": 5,
     "metadata": {},
     "output_type": "execute_result"
    }
   ],
   "source": [
    "toDoubleNegation = Forall(A, Not(Not(A)), conditions=[A])"
   ]
  },
  {
   "cell_type": "code",
   "execution_count": 6,
   "metadata": {
    "collapsed": false,
    "deletable": true,
    "editable": true
   },
   "outputs": [
    {
     "data": {
      "text/html": [
       "<strong id=\"fromDoubleNegation\"><a href=\"_proofs_\\fromDoubleNegation.ipynb\" target=\"_blank\">fromDoubleNegation</a>:</strong> <a href=\"__pv_it\\ef6736a837a2f7fe9c31c05f1998df5f39ade7f10\\expr.ipynb\" target=\"_blank\"><img src=\"__pv_it\\ef6736a837a2f7fe9c31c05f1998df5f39ade7f10\\expr.png\" style=\"display:inline;vertical-align:middle;\" /></a><br>"
      ],
      "text/plain": [
       "fromDoubleNegation: forall_{A | not(not(A))} A"
      ]
     },
     "execution_count": 6,
     "metadata": {},
     "output_type": "execute_result"
    }
   ],
   "source": [
    "fromDoubleNegation = Forall(A, A, conditions=[Not(Not(A))])"
   ]
  },
  {
   "cell_type": "code",
   "execution_count": 7,
   "metadata": {
    "collapsed": false,
    "deletable": true,
    "editable": true
   },
   "outputs": [
    {
     "data": {
      "text/html": [
       "<strong id=\"negationContradiction\"><a href=\"_proofs_\\negationContradiction.ipynb\" target=\"_blank\">negationContradiction</a>:</strong> <a href=\"__pv_it\\5dc12644c28bfbecfc3cb97e786effc5c5e2e4360\\expr.ipynb\" target=\"_blank\"><img src=\"__pv_it\\5dc12644c28bfbecfc3cb97e786effc5c5e2e4360\\expr.png\" style=\"display:inline;vertical-align:middle;\" /></a><br>"
      ],
      "text/plain": [
       "negationContradiction: forall_{A | A,not(A)} FALSE"
      ]
     },
     "execution_count": 7,
     "metadata": {},
     "output_type": "execute_result"
    }
   ],
   "source": [
    "negationContradiction = Forall(A, FALSE, conditions=[A, Not(A)])"
   ]
  },
  {
   "cell_type": "code",
   "execution_count": 8,
   "metadata": {
    "collapsed": false,
    "deletable": true,
    "editable": true
   },
   "outputs": [
    {
     "data": {
      "text/html": [
       "<strong id=\"fromNegatedFalsification\"><a href=\"_proofs_\\fromNegatedFalsification.ipynb\" target=\"_blank\">fromNegatedFalsification</a>:</strong> <a href=\"__pv_it\\231b768f088e71ebad53b80f007070b2d34b3dd80\\expr.ipynb\" target=\"_blank\"><img src=\"__pv_it\\231b768f088e71ebad53b80f007070b2d34b3dd80\\expr.png\" style=\"display:inline;vertical-align:middle;\" /></a><br>"
      ],
      "text/plain": [
       "fromNegatedFalsification: forall_{A in BOOLEANS | not(A = FALSE)} A"
      ]
     },
     "execution_count": 8,
     "metadata": {},
     "output_type": "execute_result"
    }
   ],
   "source": [
    "fromNegatedFalsification = Forall(A, A, domain=Booleans, conditions=[Not(Equals(A, FALSE))])"
   ]
  },
  {
   "cell_type": "code",
   "execution_count": 9,
   "metadata": {
    "collapsed": false,
    "deletable": true,
    "editable": true
   },
   "outputs": [
    {
     "data": {
      "text/html": [
       "<strong id=\"closure\"><a href=\"_proofs_\\closure.ipynb\" target=\"_blank\">closure</a>:</strong> <a href=\"__pv_it\\71f7442c12ce8436bff5adedd8d574459e7aeaf90\\expr.ipynb\" target=\"_blank\"><img src=\"__pv_it\\71f7442c12ce8436bff5adedd8d574459e7aeaf90\\expr.png\" style=\"display:inline;vertical-align:middle;\" /></a><br>"
      ],
      "text/plain": [
       "closure: forall_{A in BOOLEANS} (not(A) in BOOLEANS)"
      ]
     },
     "execution_count": 9,
     "metadata": {},
     "output_type": "execute_result"
    }
   ],
   "source": [
    "closure = Forall(A, inBool(Not(A)), domain=Booleans)"
   ]
  },
  {
   "cell_type": "code",
   "execution_count": 10,
   "metadata": {
    "collapsed": true,
    "deletable": true,
    "editable": true
   },
   "outputs": [],
   "source": []
  },
  {
   "cell_type": "code",
   "execution_count": 10,
   "metadata": {
    "collapsed": false,
    "deletable": true,
    "editable": true
   },
   "outputs": [
    {
     "data": {
      "text/html": [
       "<strong id=\"operandInBool\"><a href=\"_proofs_\\operandInBool.ipynb\" target=\"_blank\">operandInBool</a>:</strong> <a href=\"__pv_it\\e1419cca132f7a4b0217d21589e56aba2b2cd2260\\expr.ipynb\" target=\"_blank\"><img src=\"__pv_it\\e1419cca132f7a4b0217d21589e56aba2b2cd2260\\expr.png\" style=\"display:inline;vertical-align:middle;\" /></a><br>"
      ],
      "text/plain": [
       "operandInBool: forall_{A | (not(A) in BOOLEANS)} (A in BOOLEANS)"
      ]
     },
     "execution_count": 10,
     "metadata": {},
     "output_type": "execute_result"
    }
   ],
   "source": [
    "operandInBool = Forall(A, inBool(A), conditions=inBool(Not(A)))"
   ]
  },
  {
   "cell_type": "code",
   "execution_count": 11,
   "metadata": {
    "collapsed": false,
    "deletable": true,
    "editable": true
   },
   "outputs": [
    {
     "data": {
      "text/html": [
       "<strong id=\"doubleNegationEquiv\"><a href=\"_proofs_\\doubleNegationEquiv.ipynb\" target=\"_blank\">doubleNegationEquiv</a>:</strong> <a href=\"__pv_it\\a6e9efa1d6a6807589fb9fcbce61984556a875d30\\expr.ipynb\" target=\"_blank\"><img src=\"__pv_it\\a6e9efa1d6a6807589fb9fcbce61984556a875d30\\expr.png\" style=\"display:inline;vertical-align:middle;\" /></a><br>"
      ],
      "text/plain": [
       "doubleNegationEquiv: forall_{A in BOOLEANS} (not(not(A)) = A)"
      ]
     },
     "execution_count": 11,
     "metadata": {},
     "output_type": "execute_result"
    }
   ],
   "source": [
    "doubleNegationEquiv = Forall(A, Equals(Not(Not(A)), A), domain=Booleans)"
   ]
  },
  {
   "cell_type": "code",
   "execution_count": 12,
   "metadata": {
    "collapsed": false,
    "deletable": true,
    "editable": true
   },
   "outputs": [
    {
     "name": "stdout",
     "output_type": "stream",
     "text": [
      "Theorems may be imported from autogenerated _theorems_.py\n"
     ]
    }
   ],
   "source": [
    "%end_theorems"
   ]
  },
  {
   "cell_type": "code",
   "execution_count": 13,
   "metadata": {
    "collapsed": true,
    "deletable": true,
    "editable": true
   },
   "outputs": [],
   "source": []
  }
 ],
 "metadata": {
  "kernelspec": {
   "display_name": "Python 2",
   "language": "python",
   "name": "python2"
  },
  "language_info": {
   "codemirror_mode": {
    "name": "ipython",
    "version": 2
   },
   "file_extension": ".py",
   "mimetype": "text/x-python",
   "name": "python",
   "nbconvert_exporter": "python",
   "pygments_lexer": "ipython2",
   "version": "2.7.11"
  }
 },
 "nbformat": 4,
 "nbformat_minor": 0
}
