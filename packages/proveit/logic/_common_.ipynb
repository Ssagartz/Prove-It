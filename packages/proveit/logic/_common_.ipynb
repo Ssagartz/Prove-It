{
 "cells": [
  {
   "cell_type": "markdown",
   "metadata": {
    "collapsed": true
   },
   "source": [
    "Common expressions for context <a href=\"_context_.ipynb\" class=\"ProveItLink\">proveit.logic</a>\n",
    "========"
   ]
  },
  {
   "cell_type": "code",
   "execution_count": 1,
   "metadata": {},
   "outputs": [
    {
     "name": "stdout",
     "output_type": "stream",
     "text": [
      "Defining common sub-expressions for context 'proveit.logic'\n",
      "Subsequent end-of-cell assignments will define common sub-expressions\n",
      "%end_common will finalize the definitions\n"
     ]
    }
   ],
   "source": [
    "import proveit\n",
    "from proveit import Lambda, Iter, Indexed, varIter, Function\n",
    "from proveit._common_ import f, g, i, j, k, l, m, n, x, y, xx, yy, zz\n",
    "from proveit._common_ import P, R, AA, BB, CC, Q, QQ, RR, fx, gx\n",
    "from proveit.logic import TRUE, FALSE, Implies, Equals\n",
    "from proveit.number import one, Len\n",
    "%begin common"
   ]
  },
  {
   "cell_type": "code",
   "execution_count": 2,
   "metadata": {},
   "outputs": [
    {
     "data": {
      "text/html": [
       "<strong id=\"iterA1m\">iterA1m:</strong> <a class=\"ProveItLink\" href=\"__pv_it/2e9aa6c924119d1f728345d54c0f04c0238931150/expr.ipynb\"><img src=\"__pv_it/2e9aa6c924119d1f728345d54c0f04c0238931150/expr.png\" style=\"display:inline;vertical-align:middle;\" /></a><br>"
      ],
      "text/plain": [
       "iterA1m: A_(1),...,A_(m)"
      ]
     },
     "execution_count": 2,
     "metadata": {},
     "output_type": "execute_result"
    }
   ],
   "source": [
    "iterA1m = varIter(AA, one, m)"
   ]
  },
  {
   "cell_type": "code",
   "execution_count": 3,
   "metadata": {},
   "outputs": [
    {
     "data": {
      "text/html": [
       "<strong id=\"iterB1n\">iterB1n:</strong> <a class=\"ProveItLink\" href=\"__pv_it/5119aa9b5431a1c0753b95d669e5eac67b2d10800/expr.ipynb\"><img src=\"__pv_it/5119aa9b5431a1c0753b95d669e5eac67b2d10800/expr.png\" style=\"display:inline;vertical-align:middle;\" /></a><br>"
      ],
      "text/plain": [
       "iterB1n: B_(1),...,B_(n)"
      ]
     },
     "execution_count": 3,
     "metadata": {},
     "output_type": "execute_result"
    }
   ],
   "source": [
    "iterB1n = varIter(BB, one, n)"
   ]
  },
  {
   "cell_type": "code",
   "execution_count": 4,
   "metadata": {},
   "outputs": [
    {
     "data": {
      "text/html": [
       "<strong id=\"iterC1n\">iterC1n:</strong> <a class=\"ProveItLink\" href=\"__pv_it/10115199ec0c9a4c56655748bea359a8c12a79f10/expr.ipynb\"><img src=\"__pv_it/10115199ec0c9a4c56655748bea359a8c12a79f10/expr.png\" style=\"display:inline;vertical-align:middle;\" /></a><br>"
      ],
      "text/plain": [
       "iterC1n: C_(1),...,C_(n)"
      ]
     },
     "execution_count": 4,
     "metadata": {},
     "output_type": "execute_result"
    }
   ],
   "source": [
    "iterC1n = varIter(CC, one, n)"
   ]
  },
  {
   "cell_type": "code",
   "execution_count": 5,
   "metadata": {},
   "outputs": [
    {
     "data": {
      "text/html": [
       "<strong id=\"xIter1l\">xIter1l:</strong> <a class=\"ProveItLink\" href=\"__pv_it/cda09be9fb56399bf1f80f0580afccc60604e66d0/expr.ipynb\"><img src=\"__pv_it/cda09be9fb56399bf1f80f0580afccc60604e66d0/expr.png\" style=\"display:inline;vertical-align:middle;\" /></a><br>"
      ],
      "text/plain": [
       "xIter1l: x_(1),...,x_(l)"
      ]
     },
     "execution_count": 5,
     "metadata": {},
     "output_type": "execute_result"
    }
   ],
   "source": [
    "xIter1l = varIter(xx, one, l)"
   ]
  },
  {
   "cell_type": "code",
   "execution_count": 6,
   "metadata": {},
   "outputs": [
    {
     "data": {
      "text/html": [
       "<strong id=\"xIter1n\">xIter1n:</strong> <a class=\"ProveItLink\" href=\"__pv_it/64f385c279d2182b834cc97e315e3e8ec098b01c0/expr.ipynb\"><img src=\"__pv_it/64f385c279d2182b834cc97e315e3e8ec098b01c0/expr.png\" style=\"display:inline;vertical-align:middle;\" /></a><br>"
      ],
      "text/plain": [
       "xIter1n: x_(1),...,x_(n)"
      ]
     },
     "execution_count": 6,
     "metadata": {},
     "output_type": "execute_result"
    }
   ],
   "source": [
    "xIter1n = varIter(xx, one, n)"
   ]
  },
  {
   "cell_type": "code",
   "execution_count": 7,
   "metadata": {},
   "outputs": [
    {
     "data": {
      "text/html": [
       "<strong id=\"yIter1l\">yIter1l:</strong> <a class=\"ProveItLink\" href=\"__pv_it/18f25e3132b0f0b6f4ded25e06b0fa5238f2acff0/expr.ipynb\"><img src=\"__pv_it/18f25e3132b0f0b6f4ded25e06b0fa5238f2acff0/expr.png\" style=\"display:inline;vertical-align:middle;\" /></a><br>"
      ],
      "text/plain": [
       "yIter1l: y_(1),...,y_(l)"
      ]
     },
     "execution_count": 7,
     "metadata": {},
     "output_type": "execute_result"
    }
   ],
   "source": [
    "yIter1l = varIter(yy, one, l)"
   ]
  },
  {
   "cell_type": "code",
   "execution_count": 8,
   "metadata": {},
   "outputs": [
    {
     "data": {
      "text/html": [
       "<strong id=\"yIter1n\">yIter1n:</strong> <a class=\"ProveItLink\" href=\"__pv_it/7166ee77ec18f9c20efffcc9951879b903744e1f0/expr.ipynb\"><img src=\"__pv_it/7166ee77ec18f9c20efffcc9951879b903744e1f0/expr.png\" style=\"display:inline;vertical-align:middle;\" /></a><br>"
      ],
      "text/plain": [
       "yIter1n: y_(1),...,y_(n)"
      ]
     },
     "execution_count": 8,
     "metadata": {},
     "output_type": "execute_result"
    }
   ],
   "source": [
    "yIter1n = varIter(yy, one, n)"
   ]
  },
  {
   "cell_type": "code",
   "execution_count": 9,
   "metadata": {},
   "outputs": [
    {
     "data": {
      "text/html": [
       "<strong id=\"zIter1l\">zIter1l:</strong> <a class=\"ProveItLink\" href=\"__pv_it/6eee87698d64f00f3131212a448d8b9f7a2d2c930/expr.ipynb\"><img src=\"__pv_it/6eee87698d64f00f3131212a448d8b9f7a2d2c930/expr.png\" style=\"display:inline;vertical-align:middle;\" /></a><br>"
      ],
      "text/plain": [
       "zIter1l: z_(1),...,z_(l)"
      ]
     },
     "execution_count": 9,
     "metadata": {},
     "output_type": "execute_result"
    }
   ],
   "source": [
    "zIter1l = varIter(zz, one, l)"
   ]
  },
  {
   "cell_type": "code",
   "execution_count": 10,
   "metadata": {},
   "outputs": [
    {
     "data": {
      "text/html": [
       "<strong id=\"f_xIter1l\">f_xIter1l:</strong> <a class=\"ProveItLink\" href=\"__pv_it/4fc76e2964e62b2ebf13fed65a433c0b931f4fe30/expr.ipynb\"><img src=\"__pv_it/4fc76e2964e62b2ebf13fed65a433c0b931f4fe30/expr.png\" style=\"display:inline;vertical-align:middle;\" /></a><br>"
      ],
      "text/plain": [
       "f_xIter1l: f(x_(1),...,x_(l))"
      ]
     },
     "execution_count": 10,
     "metadata": {},
     "output_type": "execute_result"
    }
   ],
   "source": [
    "f_xIter1l = Function(f, xIter1l)"
   ]
  },
  {
   "cell_type": "code",
   "execution_count": 11,
   "metadata": {},
   "outputs": [
    {
     "data": {
      "text/html": [
       "<strong id=\"f_yIter1l\">f_yIter1l:</strong> <a class=\"ProveItLink\" href=\"__pv_it/deccbdff45e6319db30a9796c973e69915990f770/expr.ipynb\"><img src=\"__pv_it/deccbdff45e6319db30a9796c973e69915990f770/expr.png\" style=\"display:inline;vertical-align:middle;\" /></a><br>"
      ],
      "text/plain": [
       "f_yIter1l: f(y_(1),...,y_(l))"
      ]
     },
     "execution_count": 11,
     "metadata": {},
     "output_type": "execute_result"
    }
   ],
   "source": [
    "f_yIter1l = Function(f, yIter1l)"
   ]
  },
  {
   "cell_type": "code",
   "execution_count": 12,
   "metadata": {},
   "outputs": [
    {
     "data": {
      "text/html": [
       "<strong id=\"f_zIter1l\">f_zIter1l:</strong> <a class=\"ProveItLink\" href=\"__pv_it/446b2d073c8871fb12420c6dc7c3132dc5dd21600/expr.ipynb\"><img src=\"__pv_it/446b2d073c8871fb12420c6dc7c3132dc5dd21600/expr.png\" style=\"display:inline;vertical-align:middle;\" /></a><br>"
      ],
      "text/plain": [
       "f_zIter1l: f(z_(1),...,z_(l))"
      ]
     },
     "execution_count": 12,
     "metadata": {},
     "output_type": "execute_result"
    }
   ],
   "source": [
    "f_zIter1l = Function(f, zIter1l)"
   ]
  },
  {
   "cell_type": "code",
   "execution_count": 13,
   "metadata": {},
   "outputs": [
    {
     "data": {
      "text/html": [
       "<strong id=\"g_xIter1l\">g_xIter1l:</strong> <a class=\"ProveItLink\" href=\"__pv_it/7e931f4b05b5f4f9726729c53d410d6b65a538810/expr.ipynb\"><img src=\"__pv_it/7e931f4b05b5f4f9726729c53d410d6b65a538810/expr.png\" style=\"display:inline;vertical-align:middle;\" /></a><br>"
      ],
      "text/plain": [
       "g_xIter1l: g(x_(1),...,x_(l))"
      ]
     },
     "execution_count": 13,
     "metadata": {},
     "output_type": "execute_result"
    }
   ],
   "source": [
    "g_xIter1l = Function(g, xIter1l)"
   ]
  },
  {
   "cell_type": "code",
   "execution_count": 14,
   "metadata": {},
   "outputs": [
    {
     "data": {
      "text/html": [
       "<strong id=\"g_yIter1l\">g_yIter1l:</strong> <a class=\"ProveItLink\" href=\"__pv_it/6eee13ef228d587baede44533154da5000f7817e0/expr.ipynb\"><img src=\"__pv_it/6eee13ef228d587baede44533154da5000f7817e0/expr.png\" style=\"display:inline;vertical-align:middle;\" /></a><br>"
      ],
      "text/plain": [
       "g_yIter1l: g(y_(1),...,y_(l))"
      ]
     },
     "execution_count": 14,
     "metadata": {},
     "output_type": "execute_result"
    }
   ],
   "source": [
    "g_yIter1l = Function(g, yIter1l)"
   ]
  },
  {
   "cell_type": "code",
   "execution_count": 15,
   "metadata": {},
   "outputs": [
    {
     "data": {
      "text/html": [
       "<strong id=\"g_zIter1l\">g_zIter1l:</strong> <a class=\"ProveItLink\" href=\"__pv_it/1c8633d38f68d9a084fcd81c47e3e2a43dc741810/expr.ipynb\"><img src=\"__pv_it/1c8633d38f68d9a084fcd81c47e3e2a43dc741810/expr.png\" style=\"display:inline;vertical-align:middle;\" /></a><br>"
      ],
      "text/plain": [
       "g_zIter1l: g(z_(1),...,z_(l))"
      ]
     },
     "execution_count": 15,
     "metadata": {},
     "output_type": "execute_result"
    }
   ],
   "source": [
    "g_zIter1l = Function(g, zIter1l)"
   ]
  },
  {
   "cell_type": "code",
   "execution_count": 16,
   "metadata": {},
   "outputs": [
    {
     "data": {
      "text/html": [
       "<strong id=\"fx_eq_gx\">fx_eq_gx:</strong> <a class=\"ProveItLink\" href=\"__pv_it/f6320177a0d686efe3cd35bece66186b4096c5fb0/expr.ipynb\"><img src=\"__pv_it/f6320177a0d686efe3cd35bece66186b4096c5fb0/expr.png\" style=\"display:inline;vertical-align:middle;\" /></a><br>"
      ],
      "text/plain": [
       "fx_eq_gx: f(x) = g(x)"
      ]
     },
     "execution_count": 16,
     "metadata": {},
     "output_type": "execute_result"
    }
   ],
   "source": [
    "fx_eq_gx = Equals(fx, gx)"
   ]
  },
  {
   "cell_type": "code",
   "execution_count": 17,
   "metadata": {
    "scrolled": true
   },
   "outputs": [
    {
     "data": {
      "text/html": [
       "<strong id=\"PofTrue\">PofTrue:</strong> <a class=\"ProveItLink\" href=\"__pv_it/e620067e5fc1a01f6e7ce2f053b97db25219d34a0/expr.ipynb\"><img src=\"__pv_it/e620067e5fc1a01f6e7ce2f053b97db25219d34a0/expr.png\" style=\"display:inline;vertical-align:middle;\" /></a><br>"
      ],
      "text/plain": [
       "PofTrue: P(TRUE)"
      ]
     },
     "execution_count": 17,
     "metadata": {},
     "output_type": "execute_result"
    }
   ],
   "source": [
    "PofTrue = Function(P, TRUE)"
   ]
  },
  {
   "cell_type": "code",
   "execution_count": 18,
   "metadata": {},
   "outputs": [
    {
     "data": {
      "text/html": [
       "<strong id=\"PofFalse\">PofFalse:</strong> <a class=\"ProveItLink\" href=\"__pv_it/4d7c4165a9fdb279e98a557bae75d7e45eb1c31a0/expr.ipynb\"><img src=\"__pv_it/4d7c4165a9fdb279e98a557bae75d7e45eb1c31a0/expr.png\" style=\"display:inline;vertical-align:middle;\" /></a><br>"
      ],
      "text/plain": [
       "PofFalse: P(FALSE)"
      ]
     },
     "execution_count": 18,
     "metadata": {},
     "output_type": "execute_result"
    }
   ],
   "source": [
    "PofFalse = Function(P, FALSE)"
   ]
  },
  {
   "cell_type": "code",
   "execution_count": 19,
   "metadata": {},
   "outputs": [
    {
     "data": {
      "text/html": [
       "<strong id=\"QimplPofTrue\">QimplPofTrue:</strong> <a class=\"ProveItLink\" href=\"__pv_it/c23bff255c761f01e52a091ba3f1fdf4285d319a0/expr.ipynb\"><img src=\"__pv_it/c23bff255c761f01e52a091ba3f1fdf4285d319a0/expr.png\" style=\"display:inline;vertical-align:middle;\" /></a><br>"
      ],
      "text/plain": [
       "QimplPofTrue: Q(TRUE) => P(TRUE)"
      ]
     },
     "execution_count": 19,
     "metadata": {},
     "output_type": "execute_result"
    }
   ],
   "source": [
    "QimplPofTrue = Implies(Function(Q, TRUE), PofTrue)"
   ]
  },
  {
   "cell_type": "code",
   "execution_count": 20,
   "metadata": {},
   "outputs": [
    {
     "data": {
      "text/html": [
       "<strong id=\"QimplPofFalse\">QimplPofFalse:</strong> <a class=\"ProveItLink\" href=\"__pv_it/1d123c26ccfeb4cf8fca953853d9541ba3d4e4650/expr.ipynb\"><img src=\"__pv_it/1d123c26ccfeb4cf8fca953853d9541ba3d4e4650/expr.png\" style=\"display:inline;vertical-align:middle;\" /></a><br>"
      ],
      "text/plain": [
       "QimplPofFalse: Q(FALSE) => P(FALSE)"
      ]
     },
     "execution_count": 20,
     "metadata": {},
     "output_type": "execute_result"
    }
   ],
   "source": [
    "QimplPofFalse = Implies(Function(Q, FALSE), PofFalse)"
   ]
  },
  {
   "cell_type": "code",
   "execution_count": 21,
   "metadata": {},
   "outputs": [
    {
     "data": {
      "text/html": [
       "<strong id=\"P_xIter1l\">P_xIter1l:</strong> <a class=\"ProveItLink\" href=\"__pv_it/62a77a934dd27b6bae6d647906f5ad3f7d57b97a0/expr.ipynb\"><img src=\"__pv_it/62a77a934dd27b6bae6d647906f5ad3f7d57b97a0/expr.png\" style=\"display:inline;vertical-align:middle;\" /></a><br>"
      ],
      "text/plain": [
       "P_xIter1l: P(x_(1),...,x_(l))"
      ]
     },
     "execution_count": 21,
     "metadata": {},
     "output_type": "execute_result"
    }
   ],
   "source": [
    "P_xIter1l = Function(P, xIter1l) "
   ]
  },
  {
   "cell_type": "code",
   "execution_count": 22,
   "metadata": {},
   "outputs": [
    {
     "data": {
      "text/html": [
       "<strong id=\"P_yIter1l\">P_yIter1l:</strong> <a class=\"ProveItLink\" href=\"__pv_it/4bffa72e7f85729fd09ca9241e450dcce47928b80/expr.ipynb\"><img src=\"__pv_it/4bffa72e7f85729fd09ca9241e450dcce47928b80/expr.png\" style=\"display:inline;vertical-align:middle;\" /></a><br>"
      ],
      "text/plain": [
       "P_yIter1l: P(y_(1),...,y_(l))"
      ]
     },
     "execution_count": 22,
     "metadata": {},
     "output_type": "execute_result"
    }
   ],
   "source": [
    "P_yIter1l = Function(P, yIter1l) "
   ]
  },
  {
   "cell_type": "code",
   "execution_count": 23,
   "metadata": {},
   "outputs": [
    {
     "data": {
      "text/html": [
       "<strong id=\"P_xIter1l_y\">P_xIter1l_y:</strong> <a class=\"ProveItLink\" href=\"__pv_it/f79efa0f56c0ed33455f96b205328544e9b64b7e0/expr.ipynb\"><img src=\"__pv_it/f79efa0f56c0ed33455f96b205328544e9b64b7e0/expr.png\" style=\"display:inline;vertical-align:middle;\" /></a><br>"
      ],
      "text/plain": [
       "P_xIter1l_y: P(x_(1) ,  ...  , x_(l) , y)"
      ]
     },
     "execution_count": 23,
     "metadata": {},
     "output_type": "execute_result"
    }
   ],
   "source": [
    "P_xIter1l_y = Function(P, [xIter1l, y]) "
   ]
  },
  {
   "cell_type": "code",
   "execution_count": 24,
   "metadata": {},
   "outputs": [
    {
     "data": {
      "text/html": [
       "<strong id=\"P_xIter1l_yIter1n\">P_xIter1l_yIter1n:</strong> <a class=\"ProveItLink\" href=\"__pv_it/768003ccea3e1b8eea1c7de5090830fbe69f23640/expr.ipynb\"><img src=\"__pv_it/768003ccea3e1b8eea1c7de5090830fbe69f23640/expr.png\" style=\"display:inline;vertical-align:middle;\" /></a><br>"
      ],
      "text/plain": [
       "P_xIter1l_yIter1n: P(x_(1) ,  ...  , x_(l) , y_(1) ,  ...  , y_(n))"
      ]
     },
     "execution_count": 24,
     "metadata": {},
     "output_type": "execute_result"
    }
   ],
   "source": [
    "P_xIter1l_yIter1n = Function(P, [xIter1l, yIter1n]) "
   ]
  },
  {
   "cell_type": "code",
   "execution_count": 25,
   "metadata": {},
   "outputs": [
    {
     "data": {
      "text/html": [
       "<strong id=\"iterQ1k\">iterQ1k:</strong> <a class=\"ProveItLink\" href=\"__pv_it/bdfc75ba6f54bef44aaddf724081b21c22c14a7a0/expr.ipynb\"><img src=\"__pv_it/bdfc75ba6f54bef44aaddf724081b21c22c14a7a0/expr.png\" style=\"display:inline;vertical-align:middle;\" /></a><br>"
      ],
      "text/plain": [
       "iterQ1k: Q_(1),...,Q_(k)"
      ]
     },
     "execution_count": 25,
     "metadata": {},
     "output_type": "execute_result"
    }
   ],
   "source": [
    "iterQ1k = varIter(QQ, one, k)"
   ]
  },
  {
   "cell_type": "code",
   "execution_count": 26,
   "metadata": {},
   "outputs": [
    {
     "data": {
      "text/html": [
       "<strong id=\"iterQ1k_x\">iterQ1k_x:</strong> <a class=\"ProveItLink\" href=\"__pv_it/7a0c8a10fbbb5bf2f3422a125254b1d9320baa730/expr.ipynb\"><img src=\"__pv_it/7a0c8a10fbbb5bf2f3422a125254b1d9320baa730/expr.png\" style=\"display:inline;vertical-align:middle;\" /></a><br>"
      ],
      "text/plain": [
       "iterQ1k_x: Q_(1)(x),...,Q_(k)(x)"
      ]
     },
     "execution_count": 26,
     "metadata": {},
     "output_type": "execute_result"
    }
   ],
   "source": [
    "iterQ1k_x = Iter(Lambda(i, Function(Indexed(QQ, i), x)), one, k)"
   ]
  },
  {
   "cell_type": "code",
   "execution_count": 27,
   "metadata": {},
   "outputs": [
    {
     "data": {
      "text/html": [
       "<strong id=\"iterQ1k_y\">iterQ1k_y:</strong> <a class=\"ProveItLink\" href=\"__pv_it/c60e4349575d557e55a903038fa30f09bdf72b6b0/expr.ipynb\"><img src=\"__pv_it/c60e4349575d557e55a903038fa30f09bdf72b6b0/expr.png\" style=\"display:inline;vertical-align:middle;\" /></a><br>"
      ],
      "text/plain": [
       "iterQ1k_y: Q_(1)(y),...,Q_(k)(y)"
      ]
     },
     "execution_count": 27,
     "metadata": {},
     "output_type": "execute_result"
    }
   ],
   "source": [
    "iterQ1k_y = Iter(Lambda(i, Function(Indexed(QQ, i), y)), one, k)"
   ]
  },
  {
   "cell_type": "code",
   "execution_count": 28,
   "metadata": {},
   "outputs": [
    {
     "data": {
      "text/html": [
       "<strong id=\"iterQ1k_xIter1l\">iterQ1k_xIter1l:</strong> <a class=\"ProveItLink\" href=\"__pv_it/d2205ec8a332c5cc35d508435c56b7fa9b58d6470/expr.ipynb\"><img src=\"__pv_it/d2205ec8a332c5cc35d508435c56b7fa9b58d6470/expr.png\" style=\"display:inline;vertical-align:middle;\" /></a><br>"
      ],
      "text/plain": [
       "iterQ1k_xIter1l: Q_(1)(x_(1),...,x_(l)),...,Q_(k)(x_(1),...,x_(l))"
      ]
     },
     "execution_count": 28,
     "metadata": {},
     "output_type": "execute_result"
    }
   ],
   "source": [
    "iterQ1k_xIter1l = Iter(Lambda(i, Function(Indexed(QQ, i), xIter1l)), one, k)"
   ]
  },
  {
   "cell_type": "code",
   "execution_count": 29,
   "metadata": {},
   "outputs": [
    {
     "data": {
      "text/html": [
       "<strong id=\"iterQ1i_xIter1l\">iterQ1i_xIter1l:</strong> <a class=\"ProveItLink\" href=\"__pv_it/5e9dce21c520112916b0866d7bcde1a55313f7110/expr.ipynb\"><img src=\"__pv_it/5e9dce21c520112916b0866d7bcde1a55313f7110/expr.png\" style=\"display:inline;vertical-align:middle;\" /></a><br>"
      ],
      "text/plain": [
       "iterQ1i_xIter1l: Q_(1)(x_(1),...,x_(l)),...,Q_(i)(x_(1),...,x_(l))"
      ]
     },
     "execution_count": 29,
     "metadata": {},
     "output_type": "execute_result"
    }
   ],
   "source": [
    "iterQ1i_xIter1l = Iter(Lambda(j, Function(Indexed(QQ, j), xIter1l)), one, i)"
   ]
  },
  {
   "cell_type": "code",
   "execution_count": 30,
   "metadata": {},
   "outputs": [
    {
     "data": {
      "text/html": [
       "<strong id=\"iterQjk_xIter1l\">iterQjk_xIter1l:</strong> <a class=\"ProveItLink\" href=\"__pv_it/371ac5af8a55f7d6b2144f505f005b73d74b3eb40/expr.ipynb\"><img src=\"__pv_it/371ac5af8a55f7d6b2144f505f005b73d74b3eb40/expr.png\" style=\"display:inline;vertical-align:middle;\" /></a><br>"
      ],
      "text/plain": [
       "iterQjk_xIter1l: Q_(j)(x_(1),...,x_(l)),...,Q_(k)(x_(1),...,x_(l))"
      ]
     },
     "execution_count": 30,
     "metadata": {},
     "output_type": "execute_result"
    }
   ],
   "source": [
    "iterQjk_xIter1l = Iter(Lambda(i, Function(Indexed(QQ, i), xIter1l)), j, k)"
   ]
  },
  {
   "cell_type": "code",
   "execution_count": 31,
   "metadata": {},
   "outputs": [
    {
     "data": {
      "text/html": [
       "<strong id=\"iterQ1k_yIter1l\">iterQ1k_yIter1l:</strong> <a class=\"ProveItLink\" href=\"__pv_it/fd7489e449028a419352f7c45a72211ce75effb90/expr.ipynb\"><img src=\"__pv_it/fd7489e449028a419352f7c45a72211ce75effb90/expr.png\" style=\"display:inline;vertical-align:middle;\" /></a><br>"
      ],
      "text/plain": [
       "iterQ1k_yIter1l: Q_(1)(y_(1),...,y_(l)),...,Q_(k)(y_(1),...,y_(l))"
      ]
     },
     "execution_count": 31,
     "metadata": {},
     "output_type": "execute_result"
    }
   ],
   "source": [
    "iterQ1k_yIter1l = Iter(Lambda(i, Function(Indexed(QQ, i), yIter1l)), one, k)"
   ]
  },
  {
   "cell_type": "code",
   "execution_count": 32,
   "metadata": {},
   "outputs": [
    {
     "data": {
      "text/html": [
       "<strong id=\"iterQ1k_zIter1l\">iterQ1k_zIter1l:</strong> <a class=\"ProveItLink\" href=\"__pv_it/e3f63f210afe49f1819999507f80a40d159f34580/expr.ipynb\"><img src=\"__pv_it/e3f63f210afe49f1819999507f80a40d159f34580/expr.png\" style=\"display:inline;vertical-align:middle;\" /></a><br>"
      ],
      "text/plain": [
       "iterQ1k_zIter1l: Q_(1)(z_(1),...,z_(l)),...,Q_(k)(z_(1),...,z_(l))"
      ]
     },
     "execution_count": 32,
     "metadata": {},
     "output_type": "execute_result"
    }
   ],
   "source": [
    "iterQ1k_zIter1l = Iter(Lambda(i, Function(Indexed(QQ, i), zIter1l)), one, k)"
   ]
  },
  {
   "cell_type": "code",
   "execution_count": 33,
   "metadata": {},
   "outputs": [
    {
     "data": {
      "text/html": [
       "<strong id=\"iterQ1k_xIter1l_y\">iterQ1k_xIter1l_y:</strong> <a class=\"ProveItLink\" href=\"__pv_it/dc0e8a1823c967a5244453170443bc74174c449d0/expr.ipynb\"><img src=\"__pv_it/dc0e8a1823c967a5244453170443bc74174c449d0/expr.png\" style=\"display:inline;vertical-align:middle;\" /></a><br>"
      ],
      "text/plain": [
       "iterQ1k_xIter1l_y: Q_(1)(x_(1) ,  ...  , x_(l) , y),...,Q_(k)(x_(1) ,  ...  , x_(l) , y)"
      ]
     },
     "execution_count": 33,
     "metadata": {},
     "output_type": "execute_result"
    }
   ],
   "source": [
    "iterQ1k_xIter1l_y = Iter(Lambda(i, Function(Indexed(QQ, i), [xIter1l, y])), one, k)"
   ]
  },
  {
   "cell_type": "code",
   "execution_count": 34,
   "metadata": {},
   "outputs": [
    {
     "data": {
      "text/html": [
       "<strong id=\"iterR1m\">iterR1m:</strong> <a class=\"ProveItLink\" href=\"__pv_it/ca7065e3efe226ff3de5cee8d4bf444b1b29f9e00/expr.ipynb\"><img src=\"__pv_it/ca7065e3efe226ff3de5cee8d4bf444b1b29f9e00/expr.png\" style=\"display:inline;vertical-align:middle;\" /></a><br>"
      ],
      "text/plain": [
       "iterR1m: R_(1),...,R_(m)"
      ]
     },
     "execution_count": 34,
     "metadata": {},
     "output_type": "execute_result"
    }
   ],
   "source": [
    "iterR1m = varIter(RR, one, m)"
   ]
  },
  {
   "cell_type": "code",
   "execution_count": 35,
   "metadata": {},
   "outputs": [
    {
     "data": {
      "text/html": [
       "<strong id=\"R_xIter1l\">R_xIter1l:</strong> <a class=\"ProveItLink\" href=\"__pv_it/4c59f5075658bdbf9ee9582c31960265e1b962ec0/expr.ipynb\"><img src=\"__pv_it/4c59f5075658bdbf9ee9582c31960265e1b962ec0/expr.png\" style=\"display:inline;vertical-align:middle;\" /></a><br>"
      ],
      "text/plain": [
       "R_xIter1l: R(x_(1),...,x_(l))"
      ]
     },
     "execution_count": 35,
     "metadata": {},
     "output_type": "execute_result"
    }
   ],
   "source": [
    "R_xIter1l = Function(R, xIter1l) "
   ]
  },
  {
   "cell_type": "code",
   "execution_count": 36,
   "metadata": {},
   "outputs": [
    {
     "data": {
      "text/html": [
       "<strong id=\"R_zIter1l\">R_zIter1l:</strong> <a class=\"ProveItLink\" href=\"__pv_it/d2f41557b249c78311ec96a3dbfcf54893b516830/expr.ipynb\"><img src=\"__pv_it/d2f41557b249c78311ec96a3dbfcf54893b516830/expr.png\" style=\"display:inline;vertical-align:middle;\" /></a><br>"
      ],
      "text/plain": [
       "R_zIter1l: R(z_(1),...,z_(l))"
      ]
     },
     "execution_count": 36,
     "metadata": {},
     "output_type": "execute_result"
    }
   ],
   "source": [
    "R_zIter1l = Function(R, zIter1l) "
   ]
  },
  {
   "cell_type": "code",
   "execution_count": 37,
   "metadata": {},
   "outputs": [
    {
     "data": {
      "text/html": [
       "<strong id=\"iterR1m_xIter1l_yIter1n\">iterR1m_xIter1l_yIter1n:</strong> <a class=\"ProveItLink\" href=\"__pv_it/95742e7fb6ca8f6762c068e084476e3834c767410/expr.ipynb\"><img src=\"__pv_it/95742e7fb6ca8f6762c068e084476e3834c767410/expr.png\" style=\"display:inline;vertical-align:middle;\" /></a><br>"
      ],
      "text/plain": [
       "iterR1m_xIter1l_yIter1n: R_(1)(x_(1) ,  ...  , x_(l) , y_(1) ,  ...  , y_(n)),...,R_(m)(x_(1) ,  ...  , x_(l) , y_(1) ,  ...  , y_(n))"
      ]
     },
     "execution_count": 37,
     "metadata": {},
     "output_type": "execute_result"
    }
   ],
   "source": [
    "iterR1m_xIter1l_yIter1n = Iter(Lambda(i, Function(Indexed(RR, i), [xIter1l, yIter1n])), one, m)"
   ]
  },
  {
   "cell_type": "code",
   "execution_count": 38,
   "metadata": {},
   "outputs": [
    {
     "name": "stdout",
     "output_type": "stream",
     "text": [
      "Common expressions may be imported from autogenerated _common_.py\n"
     ]
    }
   ],
   "source": [
    "%end common"
   ]
  },
  {
   "cell_type": "code",
   "execution_count": null,
   "metadata": {},
   "outputs": [],
   "source": []
  }
 ],
 "metadata": {
  "kernelspec": {
   "display_name": "Python 2",
   "language": "python",
   "name": "python2"
  },
  "language_info": {
   "codemirror_mode": {
    "name": "ipython",
    "version": 2
   },
   "file_extension": ".py",
   "mimetype": "text/x-python",
   "name": "python",
   "nbconvert_exporter": "python",
   "pygments_lexer": "ipython2",
   "version": "2.7.11"
  }
 },
 "nbformat": 4,
 "nbformat_minor": 1
}
