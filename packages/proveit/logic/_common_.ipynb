{
 "cells": [
  {
   "cell_type": "markdown",
   "metadata": {
    "collapsed": true,
    "deletable": true,
    "editable": true
   },
   "source": [
    "Common expressions for context <a href=\"_context_.ipynb\" class=\"ProveItLink\">proveit.logic</a>\n",
    "========"
   ]
  },
  {
   "cell_type": "code",
   "execution_count": 1,
   "metadata": {
    "collapsed": false,
    "deletable": true,
    "editable": true
   },
   "outputs": [
    {
     "name": "stdout",
     "output_type": "stream",
     "text": [
      "Defining common sub-expressions for context 'proveit.logic'\n",
      "Subsequent end-of-cell assignments will define common sub-expressions\n",
      "%end_common will finalize the definitions\n"
     ]
    }
   ],
   "source": [
    "import proveit\n",
    "from proveit import Lambda, Iter, Indexed, varIter, Function\n",
    "from proveit._common_ import f, g, i, j, k, l, m, n, x, y, xx, yy, zz\n",
    "from proveit._common_ import P, R, AA, BB, CC, Q, QQ, RR, fx, gx\n",
    "from proveit.logic import TRUE, FALSE, Implies, Equals\n",
    "from proveit.number import one, Len\n",
    "%begin common"
   ]
  },
  {
   "cell_type": "code",
   "execution_count": 2,
   "metadata": {
    "collapsed": false,
    "deletable": true,
    "editable": true
   },
   "outputs": [
    {
     "data": {
      "text/html": [
       "<strong id=\"iterA1m\">iterA1m:</strong> <a class=\"ProveItLink\" href=\"__pv_it\\e47add327cd73c239a9730842444d386974f138b0\\expr.ipynb\"><img src=\"__pv_it\\e47add327cd73c239a9730842444d386974f138b0\\expr.png\" style=\"display:inline;vertical-align:middle;\" /></a><br>"
      ],
      "text/plain": [
       "iterA1m: A_(1),...,A_(m)"
      ]
     },
     "execution_count": 2,
     "metadata": {},
     "output_type": "execute_result"
    }
   ],
   "source": [
    "iterA1m = varIter(AA, one, m)"
   ]
  },
  {
   "cell_type": "code",
   "execution_count": 3,
   "metadata": {
    "collapsed": false,
    "deletable": true,
    "editable": true
   },
   "outputs": [
    {
     "data": {
      "text/html": [
       "<strong id=\"iterB1n\">iterB1n:</strong> <a class=\"ProveItLink\" href=\"__pv_it\\73267fb187f081ad93e3351aca6ce7e8503dd5990\\expr.ipynb\"><img src=\"__pv_it\\73267fb187f081ad93e3351aca6ce7e8503dd5990\\expr.png\" style=\"display:inline;vertical-align:middle;\" /></a><br>"
      ],
      "text/plain": [
       "iterB1n: B_(1),...,B_(n)"
      ]
     },
     "execution_count": 3,
     "metadata": {},
     "output_type": "execute_result"
    }
   ],
   "source": [
    "iterB1n = varIter(BB, one, n)"
   ]
  },
  {
   "cell_type": "code",
   "execution_count": 4,
   "metadata": {
    "collapsed": false,
    "deletable": true,
    "editable": true
   },
   "outputs": [
    {
     "data": {
      "text/html": [
       "<strong id=\"iterC1n\">iterC1n:</strong> <a class=\"ProveItLink\" href=\"__pv_it\\21efe49dfce178cc2f0473b1609c410879c2088a0\\expr.ipynb\"><img src=\"__pv_it\\21efe49dfce178cc2f0473b1609c410879c2088a0\\expr.png\" style=\"display:inline;vertical-align:middle;\" /></a><br>"
      ],
      "text/plain": [
       "iterC1n: C_(1),...,C_(n)"
      ]
     },
     "execution_count": 4,
     "metadata": {},
     "output_type": "execute_result"
    }
   ],
   "source": [
    "iterC1n = varIter(CC, one, n)"
   ]
  },
  {
   "cell_type": "code",
   "execution_count": 5,
   "metadata": {
    "collapsed": false,
    "deletable": true,
    "editable": true
   },
   "outputs": [
    {
     "data": {
      "text/html": [
       "<strong id=\"xIter1l\">xIter1l:</strong> <a class=\"ProveItLink\" href=\"__pv_it\\392b62910fbcfe26e80ee4bf9317fe66104b1d430\\expr.ipynb\"><img src=\"__pv_it\\392b62910fbcfe26e80ee4bf9317fe66104b1d430\\expr.png\" style=\"display:inline;vertical-align:middle;\" /></a><br>"
      ],
      "text/plain": [
       "xIter1l: x_(1),...,x_(l)"
      ]
     },
     "execution_count": 5,
     "metadata": {},
     "output_type": "execute_result"
    }
   ],
   "source": [
    "xIter1l = varIter(xx, one, l)"
   ]
  },
  {
   "cell_type": "code",
   "execution_count": 6,
   "metadata": {
    "collapsed": false,
    "deletable": true,
    "editable": true
   },
   "outputs": [
    {
     "data": {
      "text/html": [
       "<strong id=\"xIter1n\">xIter1n:</strong> <a class=\"ProveItLink\" href=\"__pv_it\\7fa851e19478480b299b6511b83e9ee0295902440\\expr.ipynb\"><img src=\"__pv_it\\7fa851e19478480b299b6511b83e9ee0295902440\\expr.png\" style=\"display:inline;vertical-align:middle;\" /></a><br>"
      ],
      "text/plain": [
       "xIter1n: x_(1),...,x_(n)"
      ]
     },
     "execution_count": 6,
     "metadata": {},
     "output_type": "execute_result"
    }
   ],
   "source": [
    "xIter1n = varIter(xx, one, n)"
   ]
  },
  {
   "cell_type": "code",
   "execution_count": 7,
   "metadata": {
    "collapsed": false,
    "deletable": true,
    "editable": true
   },
   "outputs": [
    {
     "data": {
      "text/html": [
       "<strong id=\"yIter1l\">yIter1l:</strong> <a class=\"ProveItLink\" href=\"__pv_it\\5cf102b7b5e87af89524c75a99bdf5392d700f6e0\\expr.ipynb\"><img src=\"__pv_it\\5cf102b7b5e87af89524c75a99bdf5392d700f6e0\\expr.png\" style=\"display:inline;vertical-align:middle;\" /></a><br>"
      ],
      "text/plain": [
       "yIter1l: y_(1),...,y_(l)"
      ]
     },
     "execution_count": 7,
     "metadata": {},
     "output_type": "execute_result"
    }
   ],
   "source": [
    "yIter1l = varIter(yy, one, l)"
   ]
  },
  {
   "cell_type": "code",
   "execution_count": 8,
   "metadata": {
    "collapsed": false,
    "deletable": true,
    "editable": true
   },
   "outputs": [
    {
     "data": {
      "text/html": [
       "<strong id=\"yIter1n\">yIter1n:</strong> <a class=\"ProveItLink\" href=\"__pv_it\\3f66cd52502c62dbd6303c18d5d55d04852a40de0\\expr.ipynb\"><img src=\"__pv_it\\3f66cd52502c62dbd6303c18d5d55d04852a40de0\\expr.png\" style=\"display:inline;vertical-align:middle;\" /></a><br>"
      ],
      "text/plain": [
       "yIter1n: y_(1),...,y_(n)"
      ]
     },
     "execution_count": 8,
     "metadata": {},
     "output_type": "execute_result"
    }
   ],
   "source": [
    "yIter1n = varIter(yy, one, n)"
   ]
  },
  {
   "cell_type": "code",
   "execution_count": 9,
   "metadata": {
    "collapsed": false,
    "deletable": true,
    "editable": true
   },
   "outputs": [
    {
     "data": {
      "text/html": [
       "<strong id=\"zIter1l\">zIter1l:</strong> <a class=\"ProveItLink\" href=\"__pv_it\\d97cda3cd0ff68908d2b851625ac819c70c8e7c40\\expr.ipynb\"><img src=\"__pv_it\\d97cda3cd0ff68908d2b851625ac819c70c8e7c40\\expr.png\" style=\"display:inline;vertical-align:middle;\" /></a><br>"
      ],
      "text/plain": [
       "zIter1l: z_(1),...,z_(l)"
      ]
     },
     "execution_count": 9,
     "metadata": {},
     "output_type": "execute_result"
    }
   ],
   "source": [
    "zIter1l = varIter(zz, one, l)"
   ]
  },
  {
   "cell_type": "code",
   "execution_count": 10,
   "metadata": {
    "collapsed": false,
    "deletable": true,
    "editable": true
   },
   "outputs": [
    {
     "data": {
      "text/html": [
       "<strong id=\"f_xIter1l\">f_xIter1l:</strong> <a class=\"ProveItLink\" href=\"__pv_it\\9d6e73207ae203e8c0887ef4bf25044359d72ff80\\expr.ipynb\"><img src=\"__pv_it\\9d6e73207ae203e8c0887ef4bf25044359d72ff80\\expr.png\" style=\"display:inline;vertical-align:middle;\" /></a><br>"
      ],
      "text/plain": [
       "f_xIter1l: f(x_(1),...,x_(l))"
      ]
     },
     "execution_count": 10,
     "metadata": {},
     "output_type": "execute_result"
    }
   ],
   "source": [
    "f_xIter1l = Function(f, xIter1l)"
   ]
  },
  {
   "cell_type": "code",
   "execution_count": 11,
   "metadata": {
    "collapsed": false,
    "deletable": true,
    "editable": true
   },
   "outputs": [
    {
     "data": {
      "text/html": [
       "<strong id=\"f_yIter1l\">f_yIter1l:</strong> <a class=\"ProveItLink\" href=\"__pv_it\\ab77e2118ec3c7694f07e9634af15dd4738625a30\\expr.ipynb\"><img src=\"__pv_it\\ab77e2118ec3c7694f07e9634af15dd4738625a30\\expr.png\" style=\"display:inline;vertical-align:middle;\" /></a><br>"
      ],
      "text/plain": [
       "f_yIter1l: f(y_(1),...,y_(l))"
      ]
     },
     "execution_count": 11,
     "metadata": {},
     "output_type": "execute_result"
    }
   ],
   "source": [
    "f_yIter1l = Function(f, yIter1l)"
   ]
  },
  {
   "cell_type": "code",
   "execution_count": 12,
   "metadata": {
    "collapsed": false,
    "deletable": true,
    "editable": true
   },
   "outputs": [
    {
     "data": {
      "text/html": [
       "<strong id=\"f_zIter1l\">f_zIter1l:</strong> <a class=\"ProveItLink\" href=\"__pv_it\\a8ada23626e6a007dc5665248328d63c1d4760b20\\expr.ipynb\"><img src=\"__pv_it\\a8ada23626e6a007dc5665248328d63c1d4760b20\\expr.png\" style=\"display:inline;vertical-align:middle;\" /></a><br>"
      ],
      "text/plain": [
       "f_zIter1l: f(z_(1),...,z_(l))"
      ]
     },
     "execution_count": 12,
     "metadata": {},
     "output_type": "execute_result"
    }
   ],
   "source": [
    "f_zIter1l = Function(f, zIter1l)"
   ]
  },
  {
   "cell_type": "code",
   "execution_count": 13,
   "metadata": {
    "collapsed": false,
    "deletable": true,
    "editable": true
   },
   "outputs": [
    {
     "data": {
      "text/html": [
       "<strong id=\"g_xIter1l\">g_xIter1l:</strong> <a class=\"ProveItLink\" href=\"__pv_it\\9db923bf61f95be411a6cc5076f897a628b03a040\\expr.ipynb\"><img src=\"__pv_it\\9db923bf61f95be411a6cc5076f897a628b03a040\\expr.png\" style=\"display:inline;vertical-align:middle;\" /></a><br>"
      ],
      "text/plain": [
       "g_xIter1l: g(x_(1),...,x_(l))"
      ]
     },
     "execution_count": 13,
     "metadata": {},
     "output_type": "execute_result"
    }
   ],
   "source": [
    "g_xIter1l = Function(g, xIter1l)"
   ]
  },
  {
   "cell_type": "code",
   "execution_count": 14,
   "metadata": {
    "collapsed": false,
    "deletable": true,
    "editable": true
   },
   "outputs": [
    {
     "data": {
      "text/html": [
       "<strong id=\"g_yIter1l\">g_yIter1l:</strong> <a class=\"ProveItLink\" href=\"__pv_it\\d2c4716e0a5da79dc234433362d6ca0b3dc509220\\expr.ipynb\"><img src=\"__pv_it\\d2c4716e0a5da79dc234433362d6ca0b3dc509220\\expr.png\" style=\"display:inline;vertical-align:middle;\" /></a><br>"
      ],
      "text/plain": [
       "g_yIter1l: g(y_(1),...,y_(l))"
      ]
     },
     "execution_count": 14,
     "metadata": {},
     "output_type": "execute_result"
    }
   ],
   "source": [
    "g_yIter1l = Function(g, yIter1l)"
   ]
  },
  {
   "cell_type": "code",
   "execution_count": 15,
   "metadata": {
    "collapsed": false,
    "deletable": true,
    "editable": true
   },
   "outputs": [
    {
     "data": {
      "text/html": [
       "<strong id=\"g_zIter1l\">g_zIter1l:</strong> <a class=\"ProveItLink\" href=\"__pv_it\\8c5bc2b328efa2a57c9a978a619c93d412ff76c30\\expr.ipynb\"><img src=\"__pv_it\\8c5bc2b328efa2a57c9a978a619c93d412ff76c30\\expr.png\" style=\"display:inline;vertical-align:middle;\" /></a><br>"
      ],
      "text/plain": [
       "g_zIter1l: g(z_(1),...,z_(l))"
      ]
     },
     "execution_count": 15,
     "metadata": {},
     "output_type": "execute_result"
    }
   ],
   "source": [
    "g_zIter1l = Function(g, zIter1l)"
   ]
  },
  {
   "cell_type": "code",
   "execution_count": 16,
   "metadata": {
    "collapsed": false,
    "deletable": true,
    "editable": true
   },
   "outputs": [
    {
     "data": {
      "text/html": [
       "<strong id=\"fx_eq_gx\">fx_eq_gx:</strong> <a class=\"ProveItLink\" href=\"__pv_it\\f6320177a0d686efe3cd35bece66186b4096c5fb0\\expr.ipynb\"><img src=\"__pv_it\\f6320177a0d686efe3cd35bece66186b4096c5fb0\\expr.png\" style=\"display:inline;vertical-align:middle;\" /></a><br>"
      ],
      "text/plain": [
       "fx_eq_gx: f(x) = g(x)"
      ]
     },
     "execution_count": 16,
     "metadata": {},
     "output_type": "execute_result"
    }
   ],
   "source": [
    "fx_eq_gx = Equals(fx, gx)"
   ]
  },
  {
   "cell_type": "code",
   "execution_count": 17,
   "metadata": {
    "collapsed": false,
    "deletable": true,
    "editable": true,
    "scrolled": true
   },
   "outputs": [
    {
     "data": {
      "text/html": [
       "<strong id=\"PofTrue\">PofTrue:</strong> <a class=\"ProveItLink\" href=\"__pv_it\\e620067e5fc1a01f6e7ce2f053b97db25219d34a0\\expr.ipynb\"><img src=\"__pv_it\\e620067e5fc1a01f6e7ce2f053b97db25219d34a0\\expr.png\" style=\"display:inline;vertical-align:middle;\" /></a><br>"
      ],
      "text/plain": [
       "PofTrue: P(TRUE)"
      ]
     },
     "execution_count": 17,
     "metadata": {},
     "output_type": "execute_result"
    }
   ],
   "source": [
    "PofTrue = Function(P, TRUE)"
   ]
  },
  {
   "cell_type": "code",
   "execution_count": 18,
   "metadata": {
    "collapsed": false,
    "deletable": true,
    "editable": true
   },
   "outputs": [
    {
     "data": {
      "text/html": [
       "<strong id=\"PofFalse\">PofFalse:</strong> <a class=\"ProveItLink\" href=\"__pv_it\\4d7c4165a9fdb279e98a557bae75d7e45eb1c31a0\\expr.ipynb\"><img src=\"__pv_it\\4d7c4165a9fdb279e98a557bae75d7e45eb1c31a0\\expr.png\" style=\"display:inline;vertical-align:middle;\" /></a><br>"
      ],
      "text/plain": [
       "PofFalse: P(FALSE)"
      ]
     },
     "execution_count": 18,
     "metadata": {},
     "output_type": "execute_result"
    }
   ],
   "source": [
    "PofFalse = Function(P, FALSE)"
   ]
  },
  {
   "cell_type": "code",
   "execution_count": 19,
   "metadata": {
    "collapsed": false
   },
   "outputs": [
    {
     "data": {
      "text/html": [
       "<strong id=\"QimplPofTrue\">QimplPofTrue:</strong> <a class=\"ProveItLink\" href=\"__pv_it\\c23bff255c761f01e52a091ba3f1fdf4285d319a0\\expr.ipynb\"><img src=\"__pv_it\\c23bff255c761f01e52a091ba3f1fdf4285d319a0\\expr.png\" style=\"display:inline;vertical-align:middle;\" /></a><br>"
      ],
      "text/plain": [
       "QimplPofTrue: Q(TRUE) => P(TRUE)"
      ]
     },
     "execution_count": 19,
     "metadata": {},
     "output_type": "execute_result"
    }
   ],
   "source": [
    "QimplPofTrue = Implies(Function(Q, TRUE), PofTrue)"
   ]
  },
  {
   "cell_type": "code",
   "execution_count": 20,
   "metadata": {
    "collapsed": false
   },
   "outputs": [
    {
     "data": {
      "text/html": [
       "<strong id=\"QimplPofFalse\">QimplPofFalse:</strong> <a class=\"ProveItLink\" href=\"__pv_it\\1d123c26ccfeb4cf8fca953853d9541ba3d4e4650\\expr.ipynb\"><img src=\"__pv_it\\1d123c26ccfeb4cf8fca953853d9541ba3d4e4650\\expr.png\" style=\"display:inline;vertical-align:middle;\" /></a><br>"
      ],
      "text/plain": [
       "QimplPofFalse: Q(FALSE) => P(FALSE)"
      ]
     },
     "execution_count": 20,
     "metadata": {},
     "output_type": "execute_result"
    }
   ],
   "source": [
    "QimplPofFalse = Implies(Function(Q, FALSE), PofFalse)"
   ]
  },
  {
   "cell_type": "code",
   "execution_count": 21,
   "metadata": {
    "collapsed": false,
    "deletable": true,
    "editable": true
   },
   "outputs": [
    {
     "data": {
      "text/html": [
       "<strong id=\"P_xIter1l\">P_xIter1l:</strong> <a class=\"ProveItLink\" href=\"__pv_it\\95b170b5e1b18f4831008dd2c2a0d2977925f9580\\expr.ipynb\"><img src=\"__pv_it\\95b170b5e1b18f4831008dd2c2a0d2977925f9580\\expr.png\" style=\"display:inline;vertical-align:middle;\" /></a><br>"
      ],
      "text/plain": [
       "P_xIter1l: P(x_(1),...,x_(l))"
      ]
     },
     "execution_count": 21,
     "metadata": {},
     "output_type": "execute_result"
    }
   ],
   "source": [
    "P_xIter1l = Function(P, xIter1l) "
   ]
  },
  {
   "cell_type": "code",
   "execution_count": 22,
   "metadata": {
    "collapsed": false,
    "deletable": true,
    "editable": true
   },
   "outputs": [
    {
     "data": {
      "text/html": [
       "<strong id=\"P_yIter1l\">P_yIter1l:</strong> <a class=\"ProveItLink\" href=\"__pv_it\\2b92eb83693ddd703d28ea4aa39acebbb7c4a2560\\expr.ipynb\"><img src=\"__pv_it\\2b92eb83693ddd703d28ea4aa39acebbb7c4a2560\\expr.png\" style=\"display:inline;vertical-align:middle;\" /></a><br>"
      ],
      "text/plain": [
       "P_yIter1l: P(y_(1),...,y_(l))"
      ]
     },
     "execution_count": 22,
     "metadata": {},
     "output_type": "execute_result"
    }
   ],
   "source": [
    "P_yIter1l = Function(P, yIter1l) "
   ]
  },
  {
   "cell_type": "code",
   "execution_count": 23,
   "metadata": {
    "collapsed": false,
    "deletable": true,
    "editable": true
   },
   "outputs": [
    {
     "data": {
      "text/html": [
       "<strong id=\"P_xIter1l_y\">P_xIter1l_y:</strong> <a class=\"ProveItLink\" href=\"__pv_it\\4240b1f806222b8c5ea59b2f4c447e567a4890ec0\\expr.ipynb\"><img src=\"__pv_it\\4240b1f806222b8c5ea59b2f4c447e567a4890ec0\\expr.png\" style=\"display:inline;vertical-align:middle;\" /></a><br>"
      ],
      "text/plain": [
       "P_xIter1l_y: P(x_(1) ,  ...  , x_(l) , y)"
      ]
     },
     "execution_count": 23,
     "metadata": {},
     "output_type": "execute_result"
    }
   ],
   "source": [
    "P_xIter1l_y = Function(P, [xIter1l, y]) "
   ]
  },
  {
   "cell_type": "code",
   "execution_count": 24,
   "metadata": {
    "collapsed": false,
    "deletable": true,
    "editable": true
   },
   "outputs": [
    {
     "data": {
      "text/html": [
       "<strong id=\"P_xIter1l_yIter1n\">P_xIter1l_yIter1n:</strong> <a class=\"ProveItLink\" href=\"__pv_it\\e1fa2d628a8119a4cfd728e9701e2f85dd96dbf30\\expr.ipynb\"><img src=\"__pv_it\\e1fa2d628a8119a4cfd728e9701e2f85dd96dbf30\\expr.png\" style=\"display:inline;vertical-align:middle;\" /></a><br>"
      ],
      "text/plain": [
       "P_xIter1l_yIter1n: P(x_(1) ,  ...  , x_(l) , y_(1) ,  ...  , y_(n))"
      ]
     },
     "execution_count": 24,
     "metadata": {},
     "output_type": "execute_result"
    }
   ],
   "source": [
    "P_xIter1l_yIter1n = Function(P, [xIter1l, yIter1n]) "
   ]
  },
  {
   "cell_type": "code",
   "execution_count": 25,
   "metadata": {
    "collapsed": false,
    "deletable": true,
    "editable": true
   },
   "outputs": [
    {
     "data": {
      "text/html": [
       "<strong id=\"iterQ1k\">iterQ1k:</strong> <a class=\"ProveItLink\" href=\"__pv_it\\5f466d8d5d80d7789234d0b19c4405443864485b0\\expr.ipynb\"><img src=\"__pv_it\\5f466d8d5d80d7789234d0b19c4405443864485b0\\expr.png\" style=\"display:inline;vertical-align:middle;\" /></a><br>"
      ],
      "text/plain": [
       "iterQ1k: Q_(1),...,Q_(k)"
      ]
     },
     "execution_count": 25,
     "metadata": {},
     "output_type": "execute_result"
    }
   ],
   "source": [
    "iterQ1k = varIter(QQ, one, k)"
   ]
  },
  {
   "cell_type": "code",
   "execution_count": 26,
   "metadata": {
    "collapsed": false,
    "deletable": true,
    "editable": true
   },
   "outputs": [
    {
     "data": {
      "text/html": [
       "<strong id=\"iterQ1k_x\">iterQ1k_x:</strong> <a class=\"ProveItLink\" href=\"__pv_it\\7d1a124e4c05f204d0803454d4fedb808021ee3c0\\expr.ipynb\"><img src=\"__pv_it\\7d1a124e4c05f204d0803454d4fedb808021ee3c0\\expr.png\" style=\"display:inline;vertical-align:middle;\" /></a><br>"
      ],
      "text/plain": [
       "iterQ1k_x: Q_(1)(x),...,Q_(k)(x)"
      ]
     },
     "execution_count": 26,
     "metadata": {},
     "output_type": "execute_result"
    }
   ],
   "source": [
    "iterQ1k_x = Iter(Lambda(i, Function(Indexed(QQ, i), x)), one, k)"
   ]
  },
  {
   "cell_type": "code",
   "execution_count": 27,
   "metadata": {
    "collapsed": false,
    "deletable": true,
    "editable": true
   },
   "outputs": [
    {
     "data": {
      "text/html": [
       "<strong id=\"iterQ1k_y\">iterQ1k_y:</strong> <a class=\"ProveItLink\" href=\"__pv_it\\2e47f20b05e1900c4f37bed72aa672d93fcbbb260\\expr.ipynb\"><img src=\"__pv_it\\2e47f20b05e1900c4f37bed72aa672d93fcbbb260\\expr.png\" style=\"display:inline;vertical-align:middle;\" /></a><br>"
      ],
      "text/plain": [
       "iterQ1k_y: Q_(1)(y),...,Q_(k)(y)"
      ]
     },
     "execution_count": 27,
     "metadata": {},
     "output_type": "execute_result"
    }
   ],
   "source": [
    "iterQ1k_y = Iter(Lambda(i, Function(Indexed(QQ, i), y)), one, k)"
   ]
  },
  {
   "cell_type": "code",
   "execution_count": 28,
   "metadata": {
    "collapsed": false,
    "deletable": true,
    "editable": true
   },
   "outputs": [
    {
     "data": {
      "text/html": [
       "<strong id=\"iterQ1k_xIter1l\">iterQ1k_xIter1l:</strong> <a class=\"ProveItLink\" href=\"__pv_it\\5ead9c0f065c18d1a5aee5a7c1743b3373a9f89e0\\expr.ipynb\"><img src=\"__pv_it\\5ead9c0f065c18d1a5aee5a7c1743b3373a9f89e0\\expr.png\" style=\"display:inline;vertical-align:middle;\" /></a><br>"
      ],
      "text/plain": [
       "iterQ1k_xIter1l: Q_(1)(x_(1),...,x_(l)),...,Q_(k)(x_(1),...,x_(l))"
      ]
     },
     "execution_count": 28,
     "metadata": {},
     "output_type": "execute_result"
    }
   ],
   "source": [
    "iterQ1k_xIter1l = Iter(Lambda(i, Function(Indexed(QQ, i), xIter1l)), one, k)"
   ]
  },
  {
   "cell_type": "code",
   "execution_count": 29,
   "metadata": {
    "collapsed": false,
    "deletable": true,
    "editable": true
   },
   "outputs": [
    {
     "data": {
      "text/html": [
       "<strong id=\"iterQ1i_xIter1l\">iterQ1i_xIter1l:</strong> <a class=\"ProveItLink\" href=\"__pv_it\\5d83f93e60c1455842b2ca81c598d4593b6098b80\\expr.ipynb\"><img src=\"__pv_it\\5d83f93e60c1455842b2ca81c598d4593b6098b80\\expr.png\" style=\"display:inline;vertical-align:middle;\" /></a><br>"
      ],
      "text/plain": [
       "iterQ1i_xIter1l: Q_(1)(x_(1),...,x_(l)),...,Q_(i)(x_(1),...,x_(l))"
      ]
     },
     "execution_count": 29,
     "metadata": {},
     "output_type": "execute_result"
    }
   ],
   "source": [
    "iterQ1i_xIter1l = Iter(Lambda(j, Function(Indexed(QQ, j), xIter1l)), one, i)"
   ]
  },
  {
   "cell_type": "code",
   "execution_count": 30,
   "metadata": {
    "collapsed": false,
    "deletable": true,
    "editable": true
   },
   "outputs": [
    {
     "data": {
      "text/html": [
       "<strong id=\"iterQjk_xIter1l\">iterQjk_xIter1l:</strong> <a class=\"ProveItLink\" href=\"__pv_it\\b78d39a3905ae5c6e2d525f22ee7e72cd76a31600\\expr.ipynb\"><img src=\"__pv_it\\b78d39a3905ae5c6e2d525f22ee7e72cd76a31600\\expr.png\" style=\"display:inline;vertical-align:middle;\" /></a><br>"
      ],
      "text/plain": [
       "iterQjk_xIter1l: Q_(j)(x_(1),...,x_(l)),...,Q_(k)(x_(1),...,x_(l))"
      ]
     },
     "execution_count": 30,
     "metadata": {},
     "output_type": "execute_result"
    }
   ],
   "source": [
    "iterQjk_xIter1l = Iter(Lambda(i, Function(Indexed(QQ, i), xIter1l)), j, k)"
   ]
  },
  {
   "cell_type": "code",
   "execution_count": 31,
   "metadata": {
    "collapsed": false,
    "deletable": true,
    "editable": true
   },
   "outputs": [
    {
     "data": {
      "text/html": [
       "<strong id=\"iterQ1k_yIter1l\">iterQ1k_yIter1l:</strong> <a class=\"ProveItLink\" href=\"__pv_it\\2d6408e200c33f0a5e328ae66b853305cf3f2b9e0\\expr.ipynb\"><img src=\"__pv_it\\2d6408e200c33f0a5e328ae66b853305cf3f2b9e0\\expr.png\" style=\"display:inline;vertical-align:middle;\" /></a><br>"
      ],
      "text/plain": [
       "iterQ1k_yIter1l: Q_(1)(y_(1),...,y_(l)),...,Q_(k)(y_(1),...,y_(l))"
      ]
     },
     "execution_count": 31,
     "metadata": {},
     "output_type": "execute_result"
    }
   ],
   "source": [
    "iterQ1k_yIter1l = Iter(Lambda(i, Function(Indexed(QQ, i), yIter1l)), one, k)"
   ]
  },
  {
   "cell_type": "code",
   "execution_count": 32,
   "metadata": {
    "collapsed": false,
    "deletable": true,
    "editable": true
   },
   "outputs": [
    {
     "data": {
      "text/html": [
       "<strong id=\"iterQ1k_zIter1l\">iterQ1k_zIter1l:</strong> <a class=\"ProveItLink\" href=\"__pv_it\\aec722616150554fd0b0ff2e009e92f6d55fe4d90\\expr.ipynb\"><img src=\"__pv_it\\aec722616150554fd0b0ff2e009e92f6d55fe4d90\\expr.png\" style=\"display:inline;vertical-align:middle;\" /></a><br>"
      ],
      "text/plain": [
       "iterQ1k_zIter1l: Q_(1)(z_(1),...,z_(l)),...,Q_(k)(z_(1),...,z_(l))"
      ]
     },
     "execution_count": 32,
     "metadata": {},
     "output_type": "execute_result"
    }
   ],
   "source": [
    "iterQ1k_zIter1l = Iter(Lambda(i, Function(Indexed(QQ, i), zIter1l)), one, k)"
   ]
  },
  {
   "cell_type": "code",
   "execution_count": 33,
   "metadata": {
    "collapsed": false,
    "deletable": true,
    "editable": true
   },
   "outputs": [
    {
     "data": {
      "text/html": [
       "<strong id=\"iterQ1k_xIter1l_y\">iterQ1k_xIter1l_y:</strong> <a class=\"ProveItLink\" href=\"__pv_it\\1e62616c341c8b4550ab368f310572dcc3cbab520\\expr.ipynb\"><img src=\"__pv_it\\1e62616c341c8b4550ab368f310572dcc3cbab520\\expr.png\" style=\"display:inline;vertical-align:middle;\" /></a><br>"
      ],
      "text/plain": [
       "iterQ1k_xIter1l_y: Q_(1)(x_(1) ,  ...  , x_(l) , y),...,Q_(k)(x_(1) ,  ...  , x_(l) , y)"
      ]
     },
     "execution_count": 33,
     "metadata": {},
     "output_type": "execute_result"
    }
   ],
   "source": [
    "iterQ1k_xIter1l_y = Iter(Lambda(i, Function(Indexed(QQ, i), [xIter1l, y])), one, k)"
   ]
  },
  {
   "cell_type": "code",
   "execution_count": 34,
   "metadata": {
    "collapsed": false,
    "deletable": true,
    "editable": true
   },
   "outputs": [
    {
     "data": {
      "text/html": [
       "<strong id=\"iterR1m\">iterR1m:</strong> <a class=\"ProveItLink\" href=\"__pv_it\\f6817439c0148bd13fb85bf38b532a7e15292bd50\\expr.ipynb\"><img src=\"__pv_it\\f6817439c0148bd13fb85bf38b532a7e15292bd50\\expr.png\" style=\"display:inline;vertical-align:middle;\" /></a><br>"
      ],
      "text/plain": [
       "iterR1m: R_(1),...,R_(m)"
      ]
     },
     "execution_count": 34,
     "metadata": {},
     "output_type": "execute_result"
    }
   ],
   "source": [
    "iterR1m = varIter(RR, one, m)"
   ]
  },
  {
   "cell_type": "code",
   "execution_count": 35,
   "metadata": {
    "collapsed": false,
    "deletable": true,
    "editable": true
   },
   "outputs": [
    {
     "data": {
      "text/html": [
       "<strong id=\"R_xIter1l\">R_xIter1l:</strong> <a class=\"ProveItLink\" href=\"__pv_it\\cc78aee04b902bfd37c679b4c5cdc9cf95cdd44c0\\expr.ipynb\"><img src=\"__pv_it\\cc78aee04b902bfd37c679b4c5cdc9cf95cdd44c0\\expr.png\" style=\"display:inline;vertical-align:middle;\" /></a><br>"
      ],
      "text/plain": [
       "R_xIter1l: R(x_(1),...,x_(l))"
      ]
     },
     "execution_count": 35,
     "metadata": {},
     "output_type": "execute_result"
    }
   ],
   "source": [
    "R_xIter1l = Function(R, xIter1l) "
   ]
  },
  {
   "cell_type": "code",
   "execution_count": 36,
   "metadata": {
    "collapsed": false,
    "deletable": true,
    "editable": true
   },
   "outputs": [
    {
     "data": {
      "text/html": [
       "<strong id=\"R_zIter1l\">R_zIter1l:</strong> <a class=\"ProveItLink\" href=\"__pv_it\\d45ab5d06ed5d0bf9309b365240c6638d51f68a10\\expr.ipynb\"><img src=\"__pv_it\\d45ab5d06ed5d0bf9309b365240c6638d51f68a10\\expr.png\" style=\"display:inline;vertical-align:middle;\" /></a><br>"
      ],
      "text/plain": [
       "R_zIter1l: R(z_(1),...,z_(l))"
      ]
     },
     "execution_count": 36,
     "metadata": {},
     "output_type": "execute_result"
    }
   ],
   "source": [
    "R_zIter1l = Function(R, zIter1l) "
   ]
  },
  {
   "cell_type": "code",
   "execution_count": 37,
   "metadata": {
    "collapsed": false,
    "deletable": true,
    "editable": true
   },
   "outputs": [
    {
     "data": {
      "text/html": [
       "<strong id=\"iterR1m_xIter1l_yIter1n\">iterR1m_xIter1l_yIter1n:</strong> <a class=\"ProveItLink\" href=\"__pv_it\\b8cb6fc59a75ed158d67825ad392a56ce6bc47530\\expr.ipynb\"><img src=\"__pv_it\\b8cb6fc59a75ed158d67825ad392a56ce6bc47530\\expr.png\" style=\"display:inline;vertical-align:middle;\" /></a><br>"
      ],
      "text/plain": [
       "iterR1m_xIter1l_yIter1n: R_(1)(x_(1) ,  ...  , x_(l) , y_(1) ,  ...  , y_(n)),...,R_(m)(x_(1) ,  ...  , x_(l) , y_(1) ,  ...  , y_(n))"
      ]
     },
     "execution_count": 37,
     "metadata": {},
     "output_type": "execute_result"
    }
   ],
   "source": [
    "iterR1m_xIter1l_yIter1n = Iter(Lambda(i, Function(Indexed(RR, i), [xIter1l, yIter1n])), one, m)"
   ]
  },
  {
   "cell_type": "code",
   "execution_count": 38,
   "metadata": {
    "collapsed": false,
    "deletable": true,
    "editable": true
   },
   "outputs": [
    {
     "name": "stdout",
     "output_type": "stream",
     "text": [
      "Common expressions may be imported from autogenerated _common_.py\n"
     ]
    }
   ],
   "source": [
    "%end common"
   ]
  },
  {
   "cell_type": "code",
   "execution_count": 39,
   "metadata": {
    "collapsed": true,
    "deletable": true,
    "editable": true
   },
   "outputs": [],
   "source": []
  }
 ],
 "metadata": {
  "kernelspec": {
   "display_name": "Python 2",
   "language": "python",
   "name": "python2"
  },
  "language_info": {
   "codemirror_mode": {
    "name": "ipython",
    "version": 2
   },
   "file_extension": ".py",
   "mimetype": "text/x-python",
   "name": "python",
   "nbconvert_exporter": "python",
   "pygments_lexer": "ipython2",
   "version": "2.7.11"
  }
 },
 "nbformat": 4,
 "nbformat_minor": 0
}
