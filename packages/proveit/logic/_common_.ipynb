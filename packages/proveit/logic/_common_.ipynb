{
 "cells": [
  {
   "cell_type": "markdown",
   "metadata": {
    "collapsed": true,
    "deletable": true,
    "editable": true
   },
   "source": [
    "Common expressions for context <a href=\"_context_.ipynb\" class=\"ProveItLink\">proveit.logic</a>\n",
    "========"
   ]
  },
  {
   "cell_type": "code",
   "execution_count": 1,
   "metadata": {
    "collapsed": false,
    "deletable": true,
    "editable": true
   },
   "outputs": [
    {
     "name": "stdout",
     "output_type": "stream",
     "text": [
      "Defining common sub-expressions for context 'proveit.logic'\n",
      "Subsequent end-of-cell assignments will define common sub-expressions\n",
      "%end_common will finalize the definitions\n"
     ]
    }
   ],
   "source": [
    "import proveit\n",
    "from proveit import Lambda, Iter, Indexed, varIter, Function\n",
    "from proveit._common_ import f, g, i, j, k, l, m, n, x, y, xx, yy, zz\n",
    "from proveit._common_ import P, R, AA, BB, CC, Q, QQ, RR, fx, gx\n",
    "from proveit.logic import Equals, TRUE, FALSE\n",
    "from proveit.number import one, Len\n",
    "%begin common"
   ]
  },
  {
   "cell_type": "code",
   "execution_count": 2,
   "metadata": {
    "collapsed": false,
    "deletable": true,
    "editable": true
   },
   "outputs": [
    {
     "data": {
      "text/html": [
       "<strong id=\"iterA1m\">iterA1m:</strong> <a class=\"ProveItLink\" href=\"__pv_it\\febbbac85c38b9725ed01bb6ebad572e7f0f291e0\\expr.ipynb\"><img src=\"__pv_it\\febbbac85c38b9725ed01bb6ebad572e7f0f291e0\\expr.png\" style=\"display:inline;vertical-align:middle;\" /></a><br>"
      ],
      "text/plain": [
       "iterA1m: A_(1),...,A_(m)"
      ]
     },
     "execution_count": 2,
     "metadata": {},
     "output_type": "execute_result"
    }
   ],
   "source": [
    "iterA1m = varIter(AA, one, m)"
   ]
  },
  {
   "cell_type": "code",
   "execution_count": 3,
   "metadata": {
    "collapsed": false,
    "deletable": true,
    "editable": true
   },
   "outputs": [
    {
     "data": {
      "text/html": [
       "<strong id=\"iterB1n\">iterB1n:</strong> <a class=\"ProveItLink\" href=\"__pv_it\\98873bf70a73e3c363a9dd922dd3ecc59cce9d470\\expr.ipynb\"><img src=\"__pv_it\\98873bf70a73e3c363a9dd922dd3ecc59cce9d470\\expr.png\" style=\"display:inline;vertical-align:middle;\" /></a><br>"
      ],
      "text/plain": [
       "iterB1n: B_(1),...,B_(n)"
      ]
     },
     "execution_count": 3,
     "metadata": {},
     "output_type": "execute_result"
    }
   ],
   "source": [
    "iterB1n = varIter(BB, one, n)"
   ]
  },
  {
   "cell_type": "code",
   "execution_count": 4,
   "metadata": {
    "collapsed": false,
    "deletable": true,
    "editable": true
   },
   "outputs": [
    {
     "data": {
      "text/html": [
       "<strong id=\"iterC1n\">iterC1n:</strong> <a class=\"ProveItLink\" href=\"__pv_it\\5380367a6f8911cce039a90a721efd5efeb1102d0\\expr.ipynb\"><img src=\"__pv_it\\5380367a6f8911cce039a90a721efd5efeb1102d0\\expr.png\" style=\"display:inline;vertical-align:middle;\" /></a><br>"
      ],
      "text/plain": [
       "iterC1n: C_(1),...,C_(n)"
      ]
     },
     "execution_count": 4,
     "metadata": {},
     "output_type": "execute_result"
    }
   ],
   "source": [
    "iterC1n = varIter(CC, one, n)"
   ]
  },
  {
   "cell_type": "code",
   "execution_count": 5,
   "metadata": {
    "collapsed": false,
    "deletable": true,
    "editable": true
   },
   "outputs": [
    {
     "data": {
      "text/html": [
       "<strong id=\"xIter1l\">xIter1l:</strong> <a class=\"ProveItLink\" href=\"__pv_it\\203ed19cec26faef8241340cd96971d5ca1b36380\\expr.ipynb\"><img src=\"__pv_it\\203ed19cec26faef8241340cd96971d5ca1b36380\\expr.png\" style=\"display:inline;vertical-align:middle;\" /></a><br>"
      ],
      "text/plain": [
       "xIter1l: x_(1),...,x_(l)"
      ]
     },
     "execution_count": 5,
     "metadata": {},
     "output_type": "execute_result"
    }
   ],
   "source": [
    "xIter1l = varIter(xx, one, l)"
   ]
  },
  {
   "cell_type": "code",
   "execution_count": 6,
   "metadata": {
    "collapsed": false,
    "deletable": true,
    "editable": true
   },
   "outputs": [
    {
     "data": {
      "text/html": [
       "<strong id=\"xIter1n\">xIter1n:</strong> <a class=\"ProveItLink\" href=\"__pv_it\\908bcbf9abf7f78173cb402d4e39139a83ba48460\\expr.ipynb\"><img src=\"__pv_it\\908bcbf9abf7f78173cb402d4e39139a83ba48460\\expr.png\" style=\"display:inline;vertical-align:middle;\" /></a><br>"
      ],
      "text/plain": [
       "xIter1n: x_(1),...,x_(n)"
      ]
     },
     "execution_count": 6,
     "metadata": {},
     "output_type": "execute_result"
    }
   ],
   "source": [
    "xIter1n = varIter(xx, one, n)"
   ]
  },
  {
   "cell_type": "code",
   "execution_count": 7,
   "metadata": {
    "collapsed": false,
    "deletable": true,
    "editable": true
   },
   "outputs": [
    {
     "data": {
      "text/html": [
       "<strong id=\"yIter1l\">yIter1l:</strong> <a class=\"ProveItLink\" href=\"__pv_it\\5d1ae76daa722e15c622c81fe954ab2abdbb78990\\expr.ipynb\"><img src=\"__pv_it\\5d1ae76daa722e15c622c81fe954ab2abdbb78990\\expr.png\" style=\"display:inline;vertical-align:middle;\" /></a><br>"
      ],
      "text/plain": [
       "yIter1l: y_(1),...,y_(l)"
      ]
     },
     "execution_count": 7,
     "metadata": {},
     "output_type": "execute_result"
    }
   ],
   "source": [
    "yIter1l = varIter(yy, one, l)"
   ]
  },
  {
   "cell_type": "code",
   "execution_count": 8,
   "metadata": {
    "collapsed": false,
    "deletable": true,
    "editable": true
   },
   "outputs": [
    {
     "data": {
      "text/html": [
       "<strong id=\"yIter1n\">yIter1n:</strong> <a class=\"ProveItLink\" href=\"__pv_it\\23a61c821f95cce2b2b2952228a180fd307b39210\\expr.ipynb\"><img src=\"__pv_it\\23a61c821f95cce2b2b2952228a180fd307b39210\\expr.png\" style=\"display:inline;vertical-align:middle;\" /></a><br>"
      ],
      "text/plain": [
       "yIter1n: y_(1),...,y_(n)"
      ]
     },
     "execution_count": 8,
     "metadata": {},
     "output_type": "execute_result"
    }
   ],
   "source": [
    "yIter1n = varIter(yy, one, n)"
   ]
  },
  {
   "cell_type": "code",
   "execution_count": 9,
   "metadata": {
    "collapsed": false,
    "deletable": true,
    "editable": true
   },
   "outputs": [
    {
     "data": {
      "text/html": [
       "<strong id=\"zIter1l\">zIter1l:</strong> <a class=\"ProveItLink\" href=\"__pv_it\\19acfb0d37e69c38f9374896bc6d49755b9aace20\\expr.ipynb\"><img src=\"__pv_it\\19acfb0d37e69c38f9374896bc6d49755b9aace20\\expr.png\" style=\"display:inline;vertical-align:middle;\" /></a><br>"
      ],
      "text/plain": [
       "zIter1l: z_(1),...,z_(l)"
      ]
     },
     "execution_count": 9,
     "metadata": {},
     "output_type": "execute_result"
    }
   ],
   "source": [
    "zIter1l = varIter(zz, one, l)"
   ]
  },
  {
   "cell_type": "code",
   "execution_count": 10,
   "metadata": {
    "collapsed": false,
    "deletable": true,
    "editable": true
   },
   "outputs": [
    {
     "data": {
      "text/html": [
       "<strong id=\"f_xIter1l\">f_xIter1l:</strong> <a class=\"ProveItLink\" href=\"__pv_it\\1175338ab382841adb6e1dcbad50a638b14e78ad0\\expr.ipynb\"><img src=\"__pv_it\\1175338ab382841adb6e1dcbad50a638b14e78ad0\\expr.png\" style=\"display:inline;vertical-align:middle;\" /></a><br>"
      ],
      "text/plain": [
       "f_xIter1l: f(x_(1),...,x_(l))"
      ]
     },
     "execution_count": 10,
     "metadata": {},
     "output_type": "execute_result"
    }
   ],
   "source": [
    "f_xIter1l = Function(f, xIter1l)"
   ]
  },
  {
   "cell_type": "code",
   "execution_count": 11,
   "metadata": {
    "collapsed": false,
    "deletable": true,
    "editable": true
   },
   "outputs": [
    {
     "data": {
      "text/html": [
       "<strong id=\"f_yIter1l\">f_yIter1l:</strong> <a class=\"ProveItLink\" href=\"__pv_it\\6fe632e004a97309f0a7c30bb8308ca5f7aaac2f0\\expr.ipynb\"><img src=\"__pv_it\\6fe632e004a97309f0a7c30bb8308ca5f7aaac2f0\\expr.png\" style=\"display:inline;vertical-align:middle;\" /></a><br>"
      ],
      "text/plain": [
       "f_yIter1l: f(y_(1),...,y_(l))"
      ]
     },
     "execution_count": 11,
     "metadata": {},
     "output_type": "execute_result"
    }
   ],
   "source": [
    "f_yIter1l = Function(f, yIter1l)"
   ]
  },
  {
   "cell_type": "code",
   "execution_count": 12,
   "metadata": {
    "collapsed": false
   },
   "outputs": [
    {
     "data": {
      "text/html": [
       "<strong id=\"f_zIter1l\">f_zIter1l:</strong> <a class=\"ProveItLink\" href=\"__pv_it\\0ee46f3fd1cd992ea7a270d7522652e20aa9f94b0\\expr.ipynb\"><img src=\"__pv_it\\0ee46f3fd1cd992ea7a270d7522652e20aa9f94b0\\expr.png\" style=\"display:inline;vertical-align:middle;\" /></a><br>"
      ],
      "text/plain": [
       "f_zIter1l: f(z_(1),...,z_(l))"
      ]
     },
     "execution_count": 12,
     "metadata": {},
     "output_type": "execute_result"
    }
   ],
   "source": [
    "f_zIter1l = Function(f, zIter1l)"
   ]
  },
  {
   "cell_type": "code",
   "execution_count": 13,
   "metadata": {
    "collapsed": false,
    "deletable": true,
    "editable": true
   },
   "outputs": [
    {
     "data": {
      "text/html": [
       "<strong id=\"g_xIter1l\">g_xIter1l:</strong> <a class=\"ProveItLink\" href=\"__pv_it\\d3324a2560a23de7c5ee4623f62c5bede3f7ccca0\\expr.ipynb\"><img src=\"__pv_it\\d3324a2560a23de7c5ee4623f62c5bede3f7ccca0\\expr.png\" style=\"display:inline;vertical-align:middle;\" /></a><br>"
      ],
      "text/plain": [
       "g_xIter1l: g(x_(1),...,x_(l))"
      ]
     },
     "execution_count": 13,
     "metadata": {},
     "output_type": "execute_result"
    }
   ],
   "source": [
    "g_xIter1l = Function(g, xIter1l)"
   ]
  },
  {
   "cell_type": "code",
   "execution_count": 14,
   "metadata": {
    "collapsed": false,
    "deletable": true,
    "editable": true
   },
   "outputs": [
    {
     "data": {
      "text/html": [
       "<strong id=\"g_yIter1l\">g_yIter1l:</strong> <a class=\"ProveItLink\" href=\"__pv_it\\472f1f4ee37f779e02a91234524b2c915b4648a80\\expr.ipynb\"><img src=\"__pv_it\\472f1f4ee37f779e02a91234524b2c915b4648a80\\expr.png\" style=\"display:inline;vertical-align:middle;\" /></a><br>"
      ],
      "text/plain": [
       "g_yIter1l: g(y_(1),...,y_(l))"
      ]
     },
     "execution_count": 14,
     "metadata": {},
     "output_type": "execute_result"
    }
   ],
   "source": [
    "g_yIter1l = Function(g, yIter1l)"
   ]
  },
  {
   "cell_type": "code",
   "execution_count": 15,
   "metadata": {
    "collapsed": false
   },
   "outputs": [
    {
     "data": {
      "text/html": [
       "<strong id=\"g_zIter1l\">g_zIter1l:</strong> <a class=\"ProveItLink\" href=\"__pv_it\\3c7eabd3fcaced6da5a96320f1a2ca9d4b1b69600\\expr.ipynb\"><img src=\"__pv_it\\3c7eabd3fcaced6da5a96320f1a2ca9d4b1b69600\\expr.png\" style=\"display:inline;vertical-align:middle;\" /></a><br>"
      ],
      "text/plain": [
       "g_zIter1l: g(z_(1),...,z_(l))"
      ]
     },
     "execution_count": 15,
     "metadata": {},
     "output_type": "execute_result"
    }
   ],
   "source": [
    "g_zIter1l = Function(g, zIter1l)"
   ]
  },
  {
   "cell_type": "code",
   "execution_count": 16,
   "metadata": {
    "collapsed": false,
    "deletable": true,
    "editable": true
   },
   "outputs": [
    {
     "data": {
      "text/html": [
       "<strong id=\"fx_eq_gx\">fx_eq_gx:</strong> <a class=\"ProveItLink\" href=\"__pv_it\\f6320177a0d686efe3cd35bece66186b4096c5fb0\\expr.ipynb\"><img src=\"__pv_it\\f6320177a0d686efe3cd35bece66186b4096c5fb0\\expr.png\" style=\"display:inline;vertical-align:middle;\" /></a><br>"
      ],
      "text/plain": [
       "fx_eq_gx: f(x) = g(x)"
      ]
     },
     "execution_count": 16,
     "metadata": {},
     "output_type": "execute_result"
    }
   ],
   "source": [
    "fx_eq_gx = Equals(fx, gx)"
   ]
  },
  {
   "cell_type": "code",
   "execution_count": 17,
   "metadata": {
    "collapsed": false,
    "deletable": true,
    "editable": true,
    "scrolled": true
   },
   "outputs": [
    {
     "data": {
      "text/html": [
       "<strong id=\"PofTrue\">PofTrue:</strong> <a class=\"ProveItLink\" href=\"__pv_it\\e620067e5fc1a01f6e7ce2f053b97db25219d34a0\\expr.ipynb\"><img src=\"__pv_it\\e620067e5fc1a01f6e7ce2f053b97db25219d34a0\\expr.png\" style=\"display:inline;vertical-align:middle;\" /></a><br>"
      ],
      "text/plain": [
       "PofTrue: P(TRUE)"
      ]
     },
     "execution_count": 17,
     "metadata": {},
     "output_type": "execute_result"
    }
   ],
   "source": [
    "PofTrue = Function(P, TRUE)"
   ]
  },
  {
   "cell_type": "code",
   "execution_count": 18,
   "metadata": {
    "collapsed": false,
    "deletable": true,
    "editable": true
   },
   "outputs": [
    {
     "data": {
      "text/html": [
       "<strong id=\"PofFalse\">PofFalse:</strong> <a class=\"ProveItLink\" href=\"__pv_it\\4d7c4165a9fdb279e98a557bae75d7e45eb1c31a0\\expr.ipynb\"><img src=\"__pv_it\\4d7c4165a9fdb279e98a557bae75d7e45eb1c31a0\\expr.png\" style=\"display:inline;vertical-align:middle;\" /></a><br>"
      ],
      "text/plain": [
       "PofFalse: P(FALSE)"
      ]
     },
     "execution_count": 18,
     "metadata": {},
     "output_type": "execute_result"
    }
   ],
   "source": [
    "PofFalse = Function(P, FALSE)"
   ]
  },
  {
   "cell_type": "code",
   "execution_count": 19,
   "metadata": {
    "collapsed": false,
    "deletable": true,
    "editable": true
   },
   "outputs": [
    {
     "data": {
      "text/html": [
       "<strong id=\"P_xIter1l\">P_xIter1l:</strong> <a class=\"ProveItLink\" href=\"__pv_it\\f3003f95e2fda2e38fe5cd63e6b470fa98b066a40\\expr.ipynb\"><img src=\"__pv_it\\f3003f95e2fda2e38fe5cd63e6b470fa98b066a40\\expr.png\" style=\"display:inline;vertical-align:middle;\" /></a><br>"
      ],
      "text/plain": [
       "P_xIter1l: P(x_(1),...,x_(l))"
      ]
     },
     "execution_count": 19,
     "metadata": {},
     "output_type": "execute_result"
    }
   ],
   "source": [
    "P_xIter1l = Function(P, xIter1l) "
   ]
  },
  {
   "cell_type": "code",
   "execution_count": 20,
   "metadata": {
    "collapsed": false,
    "deletable": true,
    "editable": true
   },
   "outputs": [
    {
     "data": {
      "text/html": [
       "<strong id=\"P_yIter1l\">P_yIter1l:</strong> <a class=\"ProveItLink\" href=\"__pv_it\\e0794436d7a8f9649e3ec66a71377ffd9d44b7880\\expr.ipynb\"><img src=\"__pv_it\\e0794436d7a8f9649e3ec66a71377ffd9d44b7880\\expr.png\" style=\"display:inline;vertical-align:middle;\" /></a><br>"
      ],
      "text/plain": [
       "P_yIter1l: P(y_(1),...,y_(l))"
      ]
     },
     "execution_count": 20,
     "metadata": {},
     "output_type": "execute_result"
    }
   ],
   "source": [
    "P_yIter1l = Function(P, yIter1l) "
   ]
  },
  {
   "cell_type": "code",
   "execution_count": 21,
   "metadata": {
    "collapsed": false,
    "deletable": true,
    "editable": true
   },
   "outputs": [
    {
     "data": {
      "text/html": [
       "<strong id=\"P_xIter1l_y\">P_xIter1l_y:</strong> <a class=\"ProveItLink\" href=\"__pv_it\\d007c1644bc9801319000d818592dff50b101bec0\\expr.ipynb\"><img src=\"__pv_it\\d007c1644bc9801319000d818592dff50b101bec0\\expr.png\" style=\"display:inline;vertical-align:middle;\" /></a><br>"
      ],
      "text/plain": [
       "P_xIter1l_y: P(x_(1) ,  ...  , x_(l) , y)"
      ]
     },
     "execution_count": 21,
     "metadata": {},
     "output_type": "execute_result"
    }
   ],
   "source": [
    "P_xIter1l_y = Function(P, [xIter1l, y]) "
   ]
  },
  {
   "cell_type": "code",
   "execution_count": 22,
   "metadata": {
    "collapsed": false,
    "deletable": true,
    "editable": true
   },
   "outputs": [
    {
     "data": {
      "text/html": [
       "<strong id=\"P_xIter1l_yIter1n\">P_xIter1l_yIter1n:</strong> <a class=\"ProveItLink\" href=\"__pv_it\\72f89f21afc50bce9c422a71fa24a5d812e93a700\\expr.ipynb\"><img src=\"__pv_it\\72f89f21afc50bce9c422a71fa24a5d812e93a700\\expr.png\" style=\"display:inline;vertical-align:middle;\" /></a><br>"
      ],
      "text/plain": [
       "P_xIter1l_yIter1n: P(x_(1) ,  ...  , x_(l) , y_(1) ,  ...  , y_(n))"
      ]
     },
     "execution_count": 22,
     "metadata": {},
     "output_type": "execute_result"
    }
   ],
   "source": [
    "P_xIter1l_yIter1n = Function(P, [xIter1l, yIter1n]) "
   ]
  },
  {
   "cell_type": "code",
   "execution_count": 23,
   "metadata": {
    "collapsed": false,
    "deletable": true,
    "editable": true
   },
   "outputs": [
    {
     "data": {
      "text/html": [
       "<strong id=\"iterQ1k\">iterQ1k:</strong> <a class=\"ProveItLink\" href=\"__pv_it\\ebaf63fef877cbc4f6e001877b1370d459dabf8d0\\expr.ipynb\"><img src=\"__pv_it\\ebaf63fef877cbc4f6e001877b1370d459dabf8d0\\expr.png\" style=\"display:inline;vertical-align:middle;\" /></a><br>"
      ],
      "text/plain": [
       "iterQ1k: Q_(1),...,Q_(k)"
      ]
     },
     "execution_count": 23,
     "metadata": {},
     "output_type": "execute_result"
    }
   ],
   "source": [
    "iterQ1k = varIter(QQ, one, k)"
   ]
  },
  {
   "cell_type": "code",
   "execution_count": 24,
   "metadata": {
    "collapsed": false,
    "deletable": true,
    "editable": true
   },
   "outputs": [
    {
     "data": {
      "text/html": [
       "<strong id=\"iterQ1k_x\">iterQ1k_x:</strong> <a class=\"ProveItLink\" href=\"__pv_it\\e035080814c911d37f9c9721771180ffc898211e0\\expr.ipynb\"><img src=\"__pv_it\\e035080814c911d37f9c9721771180ffc898211e0\\expr.png\" style=\"display:inline;vertical-align:middle;\" /></a><br>"
      ],
      "text/plain": [
       "iterQ1k_x: Q_(1)(x),...,Q_(k)(x)"
      ]
     },
     "execution_count": 24,
     "metadata": {},
     "output_type": "execute_result"
    }
   ],
   "source": [
    "iterQ1k_x = Iter(Lambda(i, Function(Indexed(QQ, i), x)), one, k)"
   ]
  },
  {
   "cell_type": "code",
   "execution_count": 25,
   "metadata": {
    "collapsed": false,
    "deletable": true,
    "editable": true
   },
   "outputs": [
    {
     "data": {
      "text/html": [
       "<strong id=\"iterQ1k_y\">iterQ1k_y:</strong> <a class=\"ProveItLink\" href=\"__pv_it\\0e943e69db235c266cbecd1e6cb06964217d6c0d0\\expr.ipynb\"><img src=\"__pv_it\\0e943e69db235c266cbecd1e6cb06964217d6c0d0\\expr.png\" style=\"display:inline;vertical-align:middle;\" /></a><br>"
      ],
      "text/plain": [
       "iterQ1k_y: Q_(1)(y),...,Q_(k)(y)"
      ]
     },
     "execution_count": 25,
     "metadata": {},
     "output_type": "execute_result"
    }
   ],
   "source": [
    "iterQ1k_y = Iter(Lambda(i, Function(Indexed(QQ, i), y)), one, k)"
   ]
  },
  {
   "cell_type": "code",
   "execution_count": 26,
   "metadata": {
    "collapsed": false,
    "deletable": true,
    "editable": true
   },
   "outputs": [
    {
     "data": {
      "text/html": [
       "<strong id=\"iterQ1k_xIter1l\">iterQ1k_xIter1l:</strong> <a class=\"ProveItLink\" href=\"__pv_it\\99741e49844ecc3c57a3ae30bf5886847fbd19b10\\expr.ipynb\"><img src=\"__pv_it\\99741e49844ecc3c57a3ae30bf5886847fbd19b10\\expr.png\" style=\"display:inline;vertical-align:middle;\" /></a><br>"
      ],
      "text/plain": [
       "iterQ1k_xIter1l: Q_(1)(x_(1),...,x_(l)),...,Q_(k)(x_(1),...,x_(l))"
      ]
     },
     "execution_count": 26,
     "metadata": {},
     "output_type": "execute_result"
    }
   ],
   "source": [
    "iterQ1k_xIter1l = Iter(Lambda(i, Function(Indexed(QQ, i), xIter1l)), one, k)"
   ]
  },
  {
   "cell_type": "code",
   "execution_count": 27,
   "metadata": {
    "collapsed": false,
    "deletable": true,
    "editable": true
   },
   "outputs": [
    {
     "data": {
      "text/html": [
       "<strong id=\"iterQ1i_xIter1l\">iterQ1i_xIter1l:</strong> <a class=\"ProveItLink\" href=\"__pv_it\\156b90d119f44cc5939177d677949dd727f875dc0\\expr.ipynb\"><img src=\"__pv_it\\156b90d119f44cc5939177d677949dd727f875dc0\\expr.png\" style=\"display:inline;vertical-align:middle;\" /></a><br>"
      ],
      "text/plain": [
       "iterQ1i_xIter1l: Q_(1)(x_(1),...,x_(l)),...,Q_(i)(x_(1),...,x_(l))"
      ]
     },
     "execution_count": 27,
     "metadata": {},
     "output_type": "execute_result"
    }
   ],
   "source": [
    "iterQ1i_xIter1l = Iter(Lambda(j, Function(Indexed(QQ, j), xIter1l)), one, i)"
   ]
  },
  {
   "cell_type": "code",
   "execution_count": 28,
   "metadata": {
    "collapsed": false,
    "deletable": true,
    "editable": true
   },
   "outputs": [
    {
     "data": {
      "text/html": [
       "<strong id=\"iterQjk_xIter1l\">iterQjk_xIter1l:</strong> <a class=\"ProveItLink\" href=\"__pv_it\\a63be69933f137a62b3dd8aa4fcc190c4b77bf050\\expr.ipynb\"><img src=\"__pv_it\\a63be69933f137a62b3dd8aa4fcc190c4b77bf050\\expr.png\" style=\"display:inline;vertical-align:middle;\" /></a><br>"
      ],
      "text/plain": [
       "iterQjk_xIter1l: Q_(j)(x_(1),...,x_(l)),...,Q_(k)(x_(1),...,x_(l))"
      ]
     },
     "execution_count": 28,
     "metadata": {},
     "output_type": "execute_result"
    }
   ],
   "source": [
    "iterQjk_xIter1l = Iter(Lambda(i, Function(Indexed(QQ, i), xIter1l)), j, k)"
   ]
  },
  {
   "cell_type": "code",
   "execution_count": 29,
   "metadata": {
    "collapsed": false,
    "deletable": true,
    "editable": true
   },
   "outputs": [
    {
     "data": {
      "text/html": [
       "<strong id=\"iterQ1k_yIter1l\">iterQ1k_yIter1l:</strong> <a class=\"ProveItLink\" href=\"__pv_it\\c404dd0e5b1827aafbc1807d7b02c547046bb6470\\expr.ipynb\"><img src=\"__pv_it\\c404dd0e5b1827aafbc1807d7b02c547046bb6470\\expr.png\" style=\"display:inline;vertical-align:middle;\" /></a><br>"
      ],
      "text/plain": [
       "iterQ1k_yIter1l: Q_(1)(y_(1),...,y_(l)),...,Q_(k)(y_(1),...,y_(l))"
      ]
     },
     "execution_count": 29,
     "metadata": {},
     "output_type": "execute_result"
    }
   ],
   "source": [
    "iterQ1k_yIter1l = Iter(Lambda(i, Function(Indexed(QQ, i), yIter1l)), one, k)"
   ]
  },
  {
   "cell_type": "code",
   "execution_count": 30,
   "metadata": {
    "collapsed": false,
    "deletable": true,
    "editable": true
   },
   "outputs": [
    {
     "data": {
      "text/html": [
       "<strong id=\"iterQ1k_zIter1l\">iterQ1k_zIter1l:</strong> <a class=\"ProveItLink\" href=\"__pv_it\\be1ab5775b6b391d17bb63a00b6d5a3b4392476c0\\expr.ipynb\"><img src=\"__pv_it\\be1ab5775b6b391d17bb63a00b6d5a3b4392476c0\\expr.png\" style=\"display:inline;vertical-align:middle;\" /></a><br>"
      ],
      "text/plain": [
       "iterQ1k_zIter1l: Q_(1)(z_(1),...,z_(l)),...,Q_(k)(z_(1),...,z_(l))"
      ]
     },
     "execution_count": 30,
     "metadata": {},
     "output_type": "execute_result"
    }
   ],
   "source": [
    "iterQ1k_zIter1l = Iter(Lambda(i, Function(Indexed(QQ, i), zIter1l)), one, k)"
   ]
  },
  {
   "cell_type": "code",
   "execution_count": 31,
   "metadata": {
    "collapsed": false,
    "deletable": true,
    "editable": true
   },
   "outputs": [
    {
     "data": {
      "text/html": [
       "<strong id=\"iterQ1k_xIter1l_y\">iterQ1k_xIter1l_y:</strong> <a class=\"ProveItLink\" href=\"__pv_it\\5a00d47db6ff9f128efb52a87887d743713b1f8d0\\expr.ipynb\"><img src=\"__pv_it\\5a00d47db6ff9f128efb52a87887d743713b1f8d0\\expr.png\" style=\"display:inline;vertical-align:middle;\" /></a><br>"
      ],
      "text/plain": [
       "iterQ1k_xIter1l_y: Q_(1)(x_(1) ,  ...  , x_(l) , y),...,Q_(k)(x_(1) ,  ...  , x_(l) , y)"
      ]
     },
     "execution_count": 31,
     "metadata": {},
     "output_type": "execute_result"
    }
   ],
   "source": [
    "iterQ1k_xIter1l_y = Iter(Lambda(i, Function(Indexed(QQ, i), [xIter1l, y])), one, k)"
   ]
  },
  {
   "cell_type": "code",
   "execution_count": 32,
   "metadata": {
    "collapsed": false,
    "deletable": true,
    "editable": true
   },
   "outputs": [
    {
     "data": {
      "text/html": [
       "<strong id=\"iterR1m\">iterR1m:</strong> <a class=\"ProveItLink\" href=\"__pv_it\\a2bc24eae28cda2c62b650c5d65a2c4fb50aae400\\expr.ipynb\"><img src=\"__pv_it\\a2bc24eae28cda2c62b650c5d65a2c4fb50aae400\\expr.png\" style=\"display:inline;vertical-align:middle;\" /></a><br>"
      ],
      "text/plain": [
       "iterR1m: R_(1),...,R_(m)"
      ]
     },
     "execution_count": 32,
     "metadata": {},
     "output_type": "execute_result"
    }
   ],
   "source": [
    "iterR1m = varIter(RR, one, m)"
   ]
  },
  {
   "cell_type": "code",
   "execution_count": 33,
   "metadata": {
    "collapsed": false,
    "deletable": true,
    "editable": true
   },
   "outputs": [
    {
     "data": {
      "text/html": [
       "<strong id=\"R_xIter1l\">R_xIter1l:</strong> <a class=\"ProveItLink\" href=\"__pv_it\\beaf5a93f0589dcbef29c51527e29033f162eca70\\expr.ipynb\"><img src=\"__pv_it\\beaf5a93f0589dcbef29c51527e29033f162eca70\\expr.png\" style=\"display:inline;vertical-align:middle;\" /></a><br>"
      ],
      "text/plain": [
       "R_xIter1l: R(x_(1),...,x_(l))"
      ]
     },
     "execution_count": 33,
     "metadata": {},
     "output_type": "execute_result"
    }
   ],
   "source": [
    "R_xIter1l = Function(R, xIter1l) "
   ]
  },
  {
   "cell_type": "code",
   "execution_count": 34,
   "metadata": {
    "collapsed": false,
    "deletable": true,
    "editable": true
   },
   "outputs": [
    {
     "data": {
      "text/html": [
       "<strong id=\"R_zIter1l\">R_zIter1l:</strong> <a class=\"ProveItLink\" href=\"__pv_it\\fec8e5bd3041f578e9e196bea5be35c393ba18ed0\\expr.ipynb\"><img src=\"__pv_it\\fec8e5bd3041f578e9e196bea5be35c393ba18ed0\\expr.png\" style=\"display:inline;vertical-align:middle;\" /></a><br>"
      ],
      "text/plain": [
       "R_zIter1l: R(z_(1),...,z_(l))"
      ]
     },
     "execution_count": 34,
     "metadata": {},
     "output_type": "execute_result"
    }
   ],
   "source": [
    "R_zIter1l = Function(R, zIter1l) "
   ]
  },
  {
   "cell_type": "code",
   "execution_count": 35,
   "metadata": {
    "collapsed": false,
    "deletable": true,
    "editable": true
   },
   "outputs": [
    {
     "data": {
      "text/html": [
       "<strong id=\"iterR1m_xIter1l_yIter1n\">iterR1m_xIter1l_yIter1n:</strong> <a class=\"ProveItLink\" href=\"__pv_it\\c4379c2a8df728a17d5fbbcf3c4eade853d77d640\\expr.ipynb\"><img src=\"__pv_it\\c4379c2a8df728a17d5fbbcf3c4eade853d77d640\\expr.png\" style=\"display:inline;vertical-align:middle;\" /></a><br>"
      ],
      "text/plain": [
       "iterR1m_xIter1l_yIter1n: R_(1)(x_(1) ,  ...  , x_(l) , y_(1) ,  ...  , y_(n)),...,R_(m)(x_(1) ,  ...  , x_(l) , y_(1) ,  ...  , y_(n))"
      ]
     },
     "execution_count": 35,
     "metadata": {},
     "output_type": "execute_result"
    }
   ],
   "source": [
    "iterR1m_xIter1l_yIter1n = Iter(Lambda(i, Function(Indexed(RR, i), [xIter1l, yIter1n])), one, m)"
   ]
  },
  {
   "cell_type": "code",
   "execution_count": 36,
   "metadata": {
    "collapsed": false,
    "deletable": true,
    "editable": true
   },
   "outputs": [
    {
     "name": "stdout",
     "output_type": "stream",
     "text": [
      "PofFalse expression notebook is being updated\n",
      "PofTrue expression notebook is being updated\n",
      "Common expressions may be imported from autogenerated _common_.py\n"
     ]
    }
   ],
   "source": [
    "%end common"
   ]
  },
  {
   "cell_type": "code",
   "execution_count": 37,
   "metadata": {
    "collapsed": true,
    "deletable": true,
    "editable": true
   },
   "outputs": [],
   "source": []
  }
 ],
 "metadata": {
  "kernelspec": {
   "display_name": "Python 2",
   "language": "python",
   "name": "python2"
  },
  "language_info": {
   "codemirror_mode": {
    "name": "ipython",
    "version": 2
   },
   "file_extension": ".py",
   "mimetype": "text/x-python",
   "name": "python",
   "nbconvert_exporter": "python",
   "pygments_lexer": "ipython2",
   "version": "2.7.11"
  }
 },
 "nbformat": 4,
 "nbformat_minor": 0
}
