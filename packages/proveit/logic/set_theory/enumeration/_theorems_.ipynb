{
 "cells": [
  {
   "cell_type": "markdown",
   "metadata": {
    "collapsed": true,
    "deletable": true,
    "editable": true
   },
   "source": [
    "Theorems for context <a href=\"_context_.ipynb\" class=\"ProveItLink\">proveit.logic.set_theory.enumeration</a>\n",
    "========"
   ]
  },
  {
   "cell_type": "code",
   "execution_count": 1,
   "metadata": {
    "collapsed": false,
    "deletable": true,
    "editable": true
   },
   "outputs": [
    {
     "name": "stdout",
     "output_type": "stream",
     "text": [
      "Defining theorems for context 'proveit.logic.set_theory.enumeration'\n",
      "Subsequent end-of-cell assignments will define theorems\n",
      "'%end theorems' will finalize the definitions\n"
     ]
    }
   ],
   "source": [
    "from proveit._common_ import f, l, x, y\n",
    "from proveit.logic import Booleans, TRUE, FALSE, Forall, Or, And, Equals, NotEquals, InSet, NotInSet, Set\n",
    "from proveit.logic._common_ import yIter1l\n",
    "from proveit.logic.set_theory._common_ import x_equals_any_y, x_notequals_all_y\n",
    "from proveit.number import Naturals\n",
    "%begin theorems"
   ]
  },
  {
   "cell_type": "code",
   "execution_count": 2,
   "metadata": {
    "collapsed": false,
    "deletable": true,
    "editable": true
   },
   "outputs": [
    {
     "data": {
      "text/html": [
       "<strong id=\"unfold\"><a class=\"ProveItLink\" href=\"_proofs_\\unfold.ipynb\">unfold</a>:</strong> <a class=\"ProveItLink\" href=\"__pv_it\\14e634fd9fbb5b3e27c2e70c0ccd07f7feff2d8d0\\expr.ipynb\"><img src=\"__pv_it\\14e634fd9fbb5b3e27c2e70c0ccd07f7feff2d8d0\\expr.png\" style=\"display:inline;vertical-align:middle;\" /></a><br>"
      ],
      "text/plain": [
       "unfold: forall_{l in Naturals} [forall_{x, y_(1),...,y_(l) | x in {y_(1) ,  ...  , y_(l)}} ((x = y_(1)) or  ...  or (x = y_(l)))]"
      ]
     },
     "execution_count": 2,
     "metadata": {},
     "output_type": "execute_result"
    }
   ],
   "source": [
    "unfold = Forall(l, Forall((x, yIter1l), \n",
    "                          x_equals_any_y, \n",
    "                          conditions=[InSet(x, Set(yIter1l))]),\n",
    "                domain=Naturals)"
   ]
  },
  {
   "cell_type": "code",
   "execution_count": 3,
   "metadata": {
    "collapsed": false,
    "deletable": true,
    "editable": true
   },
   "outputs": [
    {
     "data": {
      "text/html": [
       "<strong id=\"fold\"><a class=\"ProveItLink\" href=\"_proofs_\\fold.ipynb\">fold</a>:</strong> <a class=\"ProveItLink\" href=\"__pv_it\\fa40261e03967dbbf38a762394181dc502a1c7d00\\expr.ipynb\"><img src=\"__pv_it\\fa40261e03967dbbf38a762394181dc502a1c7d00\\expr.png\" style=\"display:inline;vertical-align:middle;\" /></a><br>"
      ],
      "text/plain": [
       "fold: forall_{l in Naturals} [forall_{x, y_(1),...,y_(l) | (x = y_(1)) or  ...  or (x = y_(l))} (x in {y_(1) ,  ...  , y_(l)})]"
      ]
     },
     "execution_count": 3,
     "metadata": {},
     "output_type": "execute_result"
    }
   ],
   "source": [
    "fold = Forall(l, Forall((x, yIter1l), \n",
    "                          InSet(x, Set(yIter1l)), \n",
    "                          conditions=[x_equals_any_y]),\n",
    "                domain=Naturals)"
   ]
  },
  {
   "cell_type": "code",
   "execution_count": 4,
   "metadata": {
    "collapsed": false,
    "deletable": true,
    "editable": true
   },
   "outputs": [
    {
     "data": {
      "text/html": [
       "<strong id=\"nonmembershipEquiv\"><a class=\"ProveItLink\" href=\"_proofs_\\nonmembershipEquiv.ipynb\">nonmembershipEquiv</a>:</strong> <a class=\"ProveItLink\" href=\"__pv_it\\e77ffb5ddfb48e5f3b2a0dcf90acc2a790d959110\\expr.ipynb\"><img src=\"__pv_it\\e77ffb5ddfb48e5f3b2a0dcf90acc2a790d959110\\expr.png\" style=\"display:inline;vertical-align:middle;\" /></a><br>"
      ],
      "text/plain": [
       "nonmembershipEquiv: forall_{l in Naturals} [forall_{x, y_(1),...,y_(l)} ((x not-in {y_(1) ,  ...  , y_(l)}) = ((x != y_(1)) and  ...  and (x != y_(l))))]"
      ]
     },
     "execution_count": 4,
     "metadata": {},
     "output_type": "execute_result"
    }
   ],
   "source": [
    "nonmembershipEquiv = Forall(l, Forall((x, yIter1l), \n",
    "                                      Equals(NotInSet(x, Set(yIter1l)), \n",
    "                                             x_notequals_all_y)),\n",
    "                           domain=Naturals)"
   ]
  },
  {
   "cell_type": "code",
   "execution_count": 5,
   "metadata": {
    "collapsed": false,
    "deletable": true,
    "editable": true
   },
   "outputs": [
    {
     "data": {
      "text/html": [
       "<strong id=\"singletonDef\"><a class=\"ProveItLink\" href=\"_proofs_\\singletonDef.ipynb\">singletonDef</a>:</strong> <a class=\"ProveItLink\" href=\"__pv_it\\69cb91408304a17c46918899696e35cef2427a4b0\\expr.ipynb\"><img src=\"__pv_it\\69cb91408304a17c46918899696e35cef2427a4b0\\expr.png\" style=\"display:inline;vertical-align:middle;\" /></a><br>"
      ],
      "text/plain": [
       "singletonDef: forall_{x, y} ((x in {y}) = (x = y))"
      ]
     },
     "execution_count": 5,
     "metadata": {},
     "output_type": "execute_result"
    }
   ],
   "source": [
    "singletonDef = Forall((x, y), Equals(InSet(x, Set(y)), Equals(x, y)))"
   ]
  },
  {
   "cell_type": "code",
   "execution_count": 6,
   "metadata": {
    "collapsed": false,
    "deletable": true,
    "editable": true
   },
   "outputs": [
    {
     "data": {
      "text/html": [
       "<strong id=\"unfoldSingleton\"><a class=\"ProveItLink\" href=\"_proofs_\\unfoldSingleton.ipynb\">unfoldSingleton</a>:</strong> <a class=\"ProveItLink\" href=\"__pv_it\\29d13b9dcd8017c74735e2239f667f9d01c338030\\expr.ipynb\"><img src=\"__pv_it\\29d13b9dcd8017c74735e2239f667f9d01c338030\\expr.png\" style=\"display:inline;vertical-align:middle;\" /></a><br>"
      ],
      "text/plain": [
       "unfoldSingleton: forall_{x, y | x in {y}} (x = y)"
      ]
     },
     "execution_count": 6,
     "metadata": {},
     "output_type": "execute_result"
    }
   ],
   "source": [
    "unfoldSingleton = Forall((x, y), Equals(x, y), conditions=[InSet(x, Set(y))])"
   ]
  },
  {
   "cell_type": "code",
   "execution_count": 7,
   "metadata": {
    "collapsed": false,
    "deletable": true,
    "editable": true
   },
   "outputs": [
    {
     "data": {
      "text/html": [
       "<strong id=\"foldSingleton\"><a class=\"ProveItLink\" href=\"_proofs_\\foldSingleton.ipynb\">foldSingleton</a>:</strong> <a class=\"ProveItLink\" href=\"__pv_it\\ea9673a38b11780d28747d1409dd000e7bf379a60\\expr.ipynb\"><img src=\"__pv_it\\ea9673a38b11780d28747d1409dd000e7bf379a60\\expr.png\" style=\"display:inline;vertical-align:middle;\" /></a><br>"
      ],
      "text/plain": [
       "foldSingleton: forall_{x, y | x = y} (x in {y})"
      ]
     },
     "execution_count": 7,
     "metadata": {},
     "output_type": "execute_result"
    }
   ],
   "source": [
    "foldSingleton = Forall((x, y), InSet(x, Set(y)), conditions=[Equals(x, y)])"
   ]
  },
  {
   "cell_type": "code",
   "execution_count": 8,
   "metadata": {
    "collapsed": false,
    "deletable": true,
    "editable": true
   },
   "outputs": [
    {
     "data": {
      "text/html": [
       "<strong id=\"notInSingletonEquiv\"><a class=\"ProveItLink\" href=\"_proofs_\\notInSingletonEquiv.ipynb\">notInSingletonEquiv</a>:</strong> <a class=\"ProveItLink\" href=\"__pv_it\\40a37894611909c07ff6bad0ffb851e2be9c38b20\\expr.ipynb\"><img src=\"__pv_it\\40a37894611909c07ff6bad0ffb851e2be9c38b20\\expr.png\" style=\"display:inline;vertical-align:middle;\" /></a><br>"
      ],
      "text/plain": [
       "notInSingletonEquiv: forall_{x, y} ((x not-in {y}) = (x != y))"
      ]
     },
     "execution_count": 8,
     "metadata": {},
     "output_type": "execute_result"
    }
   ],
   "source": [
    "notInSingletonEquiv = Forall((x, y), Equals(NotInSet(x, Set(y)), NotEquals(x, y)))"
   ]
  },
  {
   "cell_type": "code",
   "execution_count": 9,
   "metadata": {
    "collapsed": false,
    "deletable": true,
    "editable": true
   },
   "outputs": [
    {
     "data": {
      "text/html": [
       "<strong id=\"inSingletonIsBool\"><a class=\"ProveItLink\" href=\"_proofs_\\inSingletonIsBool.ipynb\">inSingletonIsBool</a>:</strong> <a class=\"ProveItLink\" href=\"__pv_it\\1148b9bc4f33bde1d459404885cd4c190ec546460\\expr.ipynb\"><img src=\"__pv_it\\1148b9bc4f33bde1d459404885cd4c190ec546460\\expr.png\" style=\"display:inline;vertical-align:middle;\" /></a><br>"
      ],
      "text/plain": [
       "inSingletonIsBool: forall_{x, y} ((x in {y}) in BOOLEANS)"
      ]
     },
     "execution_count": 9,
     "metadata": {},
     "output_type": "execute_result"
    }
   ],
   "source": [
    "inSingletonIsBool = Forall((x, y), InSet(InSet(x, Set(y)), Booleans))"
   ]
  },
  {
   "cell_type": "code",
   "execution_count": 10,
   "metadata": {
    "collapsed": false,
    "deletable": true,
    "editable": true
   },
   "outputs": [
    {
     "data": {
      "text/html": [
       "<strong id=\"inSingletonEvalTrue\"><a class=\"ProveItLink\" href=\"_proofs_\\inSingletonEvalTrue.ipynb\">inSingletonEvalTrue</a>:</strong> <a class=\"ProveItLink\" href=\"__pv_it\\6b1fc392ef1d9fc19fd0beb1cadbdfedc371da530\\expr.ipynb\"><img src=\"__pv_it\\6b1fc392ef1d9fc19fd0beb1cadbdfedc371da530\\expr.png\" style=\"display:inline;vertical-align:middle;\" /></a><br>"
      ],
      "text/plain": [
       "inSingletonEvalTrue: forall_{x, y | x = y} ((x in {y}) = TRUE)"
      ]
     },
     "execution_count": 10,
     "metadata": {},
     "output_type": "execute_result"
    }
   ],
   "source": [
    "inSingletonEvalTrue = Forall((x, y), Equals(InSet(x, Set(y)), TRUE), conditions=[Equals(x, y)])"
   ]
  },
  {
   "cell_type": "code",
   "execution_count": 11,
   "metadata": {
    "collapsed": false,
    "deletable": true,
    "editable": true
   },
   "outputs": [
    {
     "data": {
      "text/html": [
       "<strong id=\"inSingletonEvalFalse\"><a class=\"ProveItLink\" href=\"_proofs_\\inSingletonEvalFalse.ipynb\">inSingletonEvalFalse</a>:</strong> <a class=\"ProveItLink\" href=\"__pv_it\\4fbbcfa667acae634e839f54cf0d38ac68281bc10\\expr.ipynb\"><img src=\"__pv_it\\4fbbcfa667acae634e839f54cf0d38ac68281bc10\\expr.png\" style=\"display:inline;vertical-align:middle;\" /></a><br>"
      ],
      "text/plain": [
       "inSingletonEvalFalse: forall_{x, y | x != y} ((x in {y}) = FALSE)"
      ]
     },
     "execution_count": 11,
     "metadata": {},
     "output_type": "execute_result"
    }
   ],
   "source": [
    "inSingletonEvalFalse = Forall((x, y), Equals(InSet(x, Set(y)), FALSE), conditions=[NotEquals(x, y)])"
   ]
  },
  {
   "cell_type": "code",
   "execution_count": 12,
   "metadata": {
    "collapsed": false,
    "deletable": true,
    "editable": true
   },
   "outputs": [
    {
     "name": "stdout",
     "output_type": "stream",
     "text": [
      "Adding theorem unfold to proveit.logic.set_theory.enumeration context\n",
      "Adding theorem fold to proveit.logic.set_theory.enumeration context\n",
      "Adding theorem nonmembershipEquiv to proveit.logic.set_theory.enumeration context\n",
      "Adding theorem singletonDef to proveit.logic.set_theory.enumeration context\n",
      "Adding theorem unfoldSingleton to proveit.logic.set_theory.enumeration context\n",
      "Adding theorem foldSingleton to proveit.logic.set_theory.enumeration context\n",
      "Adding theorem notInSingletonEquiv to proveit.logic.set_theory.enumeration context\n",
      "Adding theorem inSingletonIsBool to proveit.logic.set_theory.enumeration context\n",
      "Adding theorem inSingletonEvalTrue to proveit.logic.set_theory.enumeration context\n",
      "Adding theorem inSingletonEvalFalse to proveit.logic.set_theory.enumeration context\n",
      "foldSingleton expression notebook is being updated\n",
      "inSingletonEvalFalse expression notebook is being updated\n",
      "nonmembershipEquiv expression notebook is being updated\n",
      "inSingletonIsBool expression notebook is being updated\n",
      "fold expression notebook is being updated\n",
      "notInSingletonEquiv expression notebook is being updated\n",
      "unfoldSingleton expression notebook is being updated\n",
      "unfold expression notebook is being updated\n",
      "inSingletonEvalTrue expression notebook is being updated\n",
      "singletonDef expression notebook is being updated\n",
      "Theorems may be imported from autogenerated _theorems_.py\n"
     ]
    }
   ],
   "source": [
    "%end theorems"
   ]
  },
  {
   "cell_type": "code",
   "execution_count": 13,
   "metadata": {
    "collapsed": true,
    "deletable": true,
    "editable": true
   },
   "outputs": [],
   "source": []
  }
 ],
 "metadata": {
  "kernelspec": {
   "display_name": "Python 2",
   "language": "python",
   "name": "python2"
  },
  "language_info": {
   "codemirror_mode": {
    "name": "ipython",
    "version": 2
   },
   "file_extension": ".py",
   "mimetype": "text/x-python",
   "name": "python",
   "nbconvert_exporter": "python",
   "pygments_lexer": "ipython2",
   "version": "2.7.11"
  }
 },
 "nbformat": 4,
 "nbformat_minor": 0
}
