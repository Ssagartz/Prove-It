{
 "cells": [
  {
   "cell_type": "markdown",
   "metadata": {
    "collapsed": true,
    "deletable": true,
    "editable": true
   },
   "source": [
    "Theorems for context <a href=\"_context_.ipynb\" class=\"ProveItLink\">proveit.logic.set_theory.enumeration</a>\n",
    "========"
   ]
  },
  {
   "cell_type": "code",
   "execution_count": 1,
   "metadata": {
    "collapsed": false,
    "deletable": true,
    "editable": true
   },
   "outputs": [
    {
     "name": "stdout",
     "output_type": "stream",
     "text": [
      "Defining theorems for context 'proveit.logic.set_theory.enumeration'\n",
      "Subsequent end-of-cell assignments will define theorems\n",
      "%end_theorems will finalize the definitions\n"
     ]
    }
   ],
   "source": [
    "from proveit import Etcetera\n",
    "from proveit.logic import Booleans, TRUE, FALSE, Forall, Or, And, Equals, NotEquals, InSet, NotInSet, Set\n",
    "from proveit._common_ import f, x, y, yMulti, yEtc\n",
    "%begin_theorems"
   ]
  },
  {
   "cell_type": "code",
   "execution_count": 2,
   "metadata": {
    "collapsed": false,
    "deletable": true,
    "editable": true
   },
   "outputs": [
    {
     "data": {
      "text/html": [
       "<strong id=\"singletonDef\"><a class=\"ProveItLink\" href=\"_proofs_\\singletonDef.ipynb\" target=\"_blank\">singletonDef</a>:</strong> <a href=\"__pv_it\\b375ce77e19409a2cd3e0128d32580c0df6fa3340\\expr.ipynb\" target=\"_blank\"><img src=\"__pv_it\\b375ce77e19409a2cd3e0128d32580c0df6fa3340\\expr.png\" style=\"display:inline;vertical-align:middle;\" /></a><br>"
      ],
      "text/plain": [
       "singletonDef: forall_{x, y} ((x in {y}) = (x = y))"
      ]
     },
     "execution_count": 2,
     "metadata": {},
     "output_type": "execute_result"
    }
   ],
   "source": [
    "singletonDef = Forall((x, y), Equals(InSet(x, Set(y)), Equals(x, y)))"
   ]
  },
  {
   "cell_type": "code",
   "execution_count": 3,
   "metadata": {
    "collapsed": false,
    "deletable": true,
    "editable": true
   },
   "outputs": [
    {
     "data": {
      "text/html": [
       "<strong id=\"unfoldSingleton\"><a class=\"ProveItLink\" href=\"_proofs_\\unfoldSingleton.ipynb\" target=\"_blank\">unfoldSingleton</a>:</strong> <a href=\"__pv_it\\388ccdf8814b17c34471b9f6668be0ca49d21e5f0\\expr.ipynb\" target=\"_blank\"><img src=\"__pv_it\\388ccdf8814b17c34471b9f6668be0ca49d21e5f0\\expr.png\" style=\"display:inline;vertical-align:middle;\" /></a><br>"
      ],
      "text/plain": [
       "unfoldSingleton: forall_{x, y | (x in {y})} (x = y)"
      ]
     },
     "execution_count": 3,
     "metadata": {},
     "output_type": "execute_result"
    }
   ],
   "source": [
    "unfoldSingleton = Forall((x, y), Equals(x, y), conditions=[InSet(x, Set(y))])"
   ]
  },
  {
   "cell_type": "code",
   "execution_count": 4,
   "metadata": {
    "collapsed": false,
    "deletable": true,
    "editable": true
   },
   "outputs": [
    {
     "data": {
      "text/html": [
       "<strong id=\"foldSingleton\"><a class=\"ProveItLink\" href=\"_proofs_\\foldSingleton.ipynb\" target=\"_blank\">foldSingleton</a>:</strong> <a href=\"__pv_it\\d7a9db2d1feeaa5118756db70085b31517897b790\\expr.ipynb\" target=\"_blank\"><img src=\"__pv_it\\d7a9db2d1feeaa5118756db70085b31517897b790\\expr.png\" style=\"display:inline;vertical-align:middle;\" /></a><br>"
      ],
      "text/plain": [
       "foldSingleton: forall_{x, y | (x = y)} (x in {y})"
      ]
     },
     "execution_count": 4,
     "metadata": {},
     "output_type": "execute_result"
    }
   ],
   "source": [
    "foldSingleton = Forall((x, y), InSet(x, Set(y)), conditions=[Equals(x, y)])"
   ]
  },
  {
   "cell_type": "code",
   "execution_count": 5,
   "metadata": {
    "collapsed": false,
    "deletable": true,
    "editable": true
   },
   "outputs": [
    {
     "data": {
      "text/html": [
       "<strong id=\"notInSingletonEquiv\"><a class=\"ProveItLink\" href=\"_proofs_\\notInSingletonEquiv.ipynb\" target=\"_blank\">notInSingletonEquiv</a>:</strong> <a href=\"__pv_it\\e01334021ef9c34218bff021a7505fe298f897910\\expr.ipynb\" target=\"_blank\"><img src=\"__pv_it\\e01334021ef9c34218bff021a7505fe298f897910\\expr.png\" style=\"display:inline;vertical-align:middle;\" /></a><br>"
      ],
      "text/plain": [
       "notInSingletonEquiv: forall_{x, y} ((x not-in {y}) = (x != y))"
      ]
     },
     "execution_count": 5,
     "metadata": {},
     "output_type": "execute_result"
    }
   ],
   "source": [
    "notInSingletonEquiv = Forall((x, y), Equals(NotInSet(x, Set(y)), NotEquals(x, y)))"
   ]
  },
  {
   "cell_type": "code",
   "execution_count": 6,
   "metadata": {
    "collapsed": false,
    "deletable": true,
    "editable": true
   },
   "outputs": [
    {
     "data": {
      "text/html": [
       "<strong id=\"inSingletonIsBool\"><a class=\"ProveItLink\" href=\"_proofs_\\inSingletonIsBool.ipynb\" target=\"_blank\">inSingletonIsBool</a>:</strong> <a href=\"__pv_it\\d5bb7f785830415e08d6beb17e355812e1b93b430\\expr.ipynb\" target=\"_blank\"><img src=\"__pv_it\\d5bb7f785830415e08d6beb17e355812e1b93b430\\expr.png\" style=\"display:inline;vertical-align:middle;\" /></a><br>"
      ],
      "text/plain": [
       "inSingletonIsBool: forall_{x, y} ((x in {y}) in BOOLEANS)"
      ]
     },
     "execution_count": 6,
     "metadata": {},
     "output_type": "execute_result"
    }
   ],
   "source": [
    "inSingletonIsBool = Forall((x, y), InSet(InSet(x, Set(y)), Booleans))"
   ]
  },
  {
   "cell_type": "code",
   "execution_count": 7,
   "metadata": {
    "collapsed": false,
    "deletable": true,
    "editable": true
   },
   "outputs": [
    {
     "data": {
      "text/html": [
       "<strong id=\"inSingletonEvalTrue\"><a class=\"ProveItLink\" href=\"_proofs_\\inSingletonEvalTrue.ipynb\" target=\"_blank\">inSingletonEvalTrue</a>:</strong> <a href=\"__pv_it\\d54b0fde8b81d29e5cd335f6b161fc34b2a266ec0\\expr.ipynb\" target=\"_blank\"><img src=\"__pv_it\\d54b0fde8b81d29e5cd335f6b161fc34b2a266ec0\\expr.png\" style=\"display:inline;vertical-align:middle;\" /></a><br>"
      ],
      "text/plain": [
       "inSingletonEvalTrue: forall_{x, y | (x = y)} ((x in {y}) = TRUE)"
      ]
     },
     "execution_count": 7,
     "metadata": {},
     "output_type": "execute_result"
    }
   ],
   "source": [
    "inSingletonEvalTrue = Forall((x, y), Equals(InSet(x, Set(y)), TRUE), conditions=[Equals(x, y)])"
   ]
  },
  {
   "cell_type": "code",
   "execution_count": 8,
   "metadata": {
    "collapsed": false,
    "deletable": true,
    "editable": true
   },
   "outputs": [
    {
     "data": {
      "text/html": [
       "<strong id=\"inSingletonEvalFalse\"><a class=\"ProveItLink\" href=\"_proofs_\\inSingletonEvalFalse.ipynb\" target=\"_blank\">inSingletonEvalFalse</a>:</strong> <a href=\"__pv_it\\374d5ac709d899cb895d67c9e0faf41792c5dfa70\\expr.ipynb\" target=\"_blank\"><img src=\"__pv_it\\374d5ac709d899cb895d67c9e0faf41792c5dfa70\\expr.png\" style=\"display:inline;vertical-align:middle;\" /></a><br>"
      ],
      "text/plain": [
       "inSingletonEvalFalse: forall_{x, y | (x != y)} ((x in {y}) = FALSE)"
      ]
     },
     "execution_count": 8,
     "metadata": {},
     "output_type": "execute_result"
    }
   ],
   "source": [
    "inSingletonEvalFalse = Forall((x, y), Equals(InSet(x, Set(y)), FALSE), conditions=[NotEquals(x, y)])"
   ]
  },
  {
   "cell_type": "code",
   "execution_count": 9,
   "metadata": {
    "collapsed": false,
    "deletable": true,
    "editable": true
   },
   "outputs": [
    {
     "data": {
      "text/html": [
       "<strong id=\"notInSingleton\"><a class=\"ProveItLink\" href=\"_proofs_\\notInSingleton.ipynb\" target=\"_blank\">notInSingleton</a>:</strong> <a href=\"__pv_it\\e01334021ef9c34218bff021a7505fe298f897910\\expr.ipynb\" target=\"_blank\"><img src=\"__pv_it\\e01334021ef9c34218bff021a7505fe298f897910\\expr.png\" style=\"display:inline;vertical-align:middle;\" /></a><br>"
      ],
      "text/plain": [
       "notInSingleton: forall_{x, y} ((x not-in {y}) = (x != y))"
      ]
     },
     "execution_count": 9,
     "metadata": {},
     "output_type": "execute_result"
    }
   ],
   "source": [
    "notInSingleton = Forall((x, y), Equals(NotInSet(x, Set(y)), NotEquals(x, y)))"
   ]
  },
  {
   "cell_type": "code",
   "execution_count": 10,
   "metadata": {
    "collapsed": false,
    "deletable": true,
    "editable": true
   },
   "outputs": [
    {
     "data": {
      "text/html": [
       "<strong id=\"unfold\"><a class=\"ProveItLink\" href=\"_proofs_\\unfold.ipynb\" target=\"_blank\">unfold</a>:</strong> <a href=\"__pv_it\\b4e0e013be878a4c77f8dbfff5095973b7bbdd180\\expr.ipynb\" target=\"_blank\"><img src=\"__pv_it\\b4e0e013be878a4c77f8dbfff5095973b7bbdd180\\expr.png\" style=\"display:inline;vertical-align:middle;\" /></a><br>"
      ],
      "text/plain": [
       "unfold: forall_{x, y_{*} | (x in { ..,y_{*},.. })} ( .. or (x = y_{*}) or .. )"
      ]
     },
     "execution_count": 10,
     "metadata": {},
     "output_type": "execute_result"
    }
   ],
   "source": [
    "unfold = Forall((x, yMulti), Or(Etcetera(Equals(x, yMulti))), conditions=[InSet(x, Set(yEtc))])"
   ]
  },
  {
   "cell_type": "code",
   "execution_count": 11,
   "metadata": {
    "collapsed": false,
    "deletable": true,
    "editable": true
   },
   "outputs": [
    {
     "data": {
      "text/html": [
       "<strong id=\"fold\"><a class=\"ProveItLink\" href=\"_proofs_\\fold.ipynb\" target=\"_blank\">fold</a>:</strong> <a href=\"__pv_it\\70f837faf9d82074d76a0d975ccf34cb140bbf6c0\\expr.ipynb\" target=\"_blank\"><img src=\"__pv_it\\70f837faf9d82074d76a0d975ccf34cb140bbf6c0\\expr.png\" style=\"display:inline;vertical-align:middle;\" /></a><br>"
      ],
      "text/plain": [
       "fold: forall_{x, y_{*} | ( .. or (x = y_{*}) or .. )} (x in { ..,y_{*},.. })"
      ]
     },
     "execution_count": 11,
     "metadata": {},
     "output_type": "execute_result"
    }
   ],
   "source": [
    "fold = Forall((x, yMulti), InSet(x, Set(yEtc)), conditions=[Or(Etcetera(Equals(x, yMulti)))])"
   ]
  },
  {
   "cell_type": "code",
   "execution_count": 12,
   "metadata": {
    "collapsed": false,
    "deletable": true,
    "editable": true
   },
   "outputs": [
    {
     "data": {
      "text/html": [
       "<strong id=\"nonmembershipEquiv\"><a class=\"ProveItLink\" href=\"_proofs_\\nonmembershipEquiv.ipynb\" target=\"_blank\">nonmembershipEquiv</a>:</strong> <a href=\"__pv_it\\0baf103cdedeb3f73f0a6718593c200d2596027d0\\expr.ipynb\" target=\"_blank\"><img src=\"__pv_it\\0baf103cdedeb3f73f0a6718593c200d2596027d0\\expr.png\" style=\"display:inline;vertical-align:middle;\" /></a><br>"
      ],
      "text/plain": [
       "nonmembershipEquiv: forall_{x, y_{*}} ((x not-in { ..,y_{*},.. }) = ( .. and (x != y_{*}) and .. ))"
      ]
     },
     "execution_count": 12,
     "metadata": {},
     "output_type": "execute_result"
    }
   ],
   "source": [
    "nonmembershipEquiv = Forall((x, yMulti), Equals(NotInSet(x, Set(yEtc)), And(Etcetera(NotEquals(x, yMulti)))))"
   ]
  },
  {
   "cell_type": "code",
   "execution_count": 13,
   "metadata": {
    "collapsed": false,
    "deletable": true,
    "editable": true
   },
   "outputs": [
    {
     "name": "stdout",
     "output_type": "stream",
     "text": [
      "Theorems may be imported from autogenerated _theorems_.py\n"
     ]
    }
   ],
   "source": [
    "%end_theorems"
   ]
  },
  {
   "cell_type": "code",
   "execution_count": 14,
   "metadata": {
    "collapsed": true,
    "deletable": true,
    "editable": true
   },
   "outputs": [],
   "source": []
  }
 ],
 "metadata": {
  "kernelspec": {
   "display_name": "Python 2",
   "language": "python",
   "name": "python2"
  },
  "language_info": {
   "codemirror_mode": {
    "name": "ipython",
    "version": 2
   },
   "file_extension": ".py",
   "mimetype": "text/x-python",
   "name": "python",
   "nbconvert_exporter": "python",
   "pygments_lexer": "ipython2",
   "version": "2.7.11"
  }
 },
 "nbformat": 4,
 "nbformat_minor": 0
}
