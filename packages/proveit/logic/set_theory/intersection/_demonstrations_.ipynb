{
 "cells": [
  {
   "cell_type": "markdown",
   "metadata": {
    "collapsed": true,
    "deletable": true,
    "editable": true
   },
   "source": [
    "Demonstrations for context <a class=\"ProveItLink\" href=\"_context_.ipynb\">proveit.logic.set_theory.intersection</a>\n",
    "========"
   ]
  },
  {
   "cell_type": "code",
   "execution_count": 1,
   "metadata": {
    "collapsed": false,
    "deletable": true,
    "editable": true
   },
   "outputs": [],
   "source": [
    "import proveit\n",
    "from proveit.logic import Forall, Intersect, SubsetEq \n",
    "from proveit._common_ import S"
   ]
  },
  {
   "cell_type": "code",
   "execution_count": 2,
   "metadata": {
    "collapsed": false,
    "deletable": true,
    "editable": true
   },
   "outputs": [
    {
     "data": {
      "text/html": [
       "<strong id=\"selfIntersectionContainment\">selfIntersectionContainment:</strong> <span style=\"font-size:20px;\"> &#x22A2;&nbsp;<a class=\"ProveItLink\" href=\"__pv_it\\e14d531ea1d3153ba1dcb2d8fc3aa4e8b58b25640\\expr.ipynb\"><img src=\"__pv_it\\e14d531ea1d3153ba1dcb2d8fc3aa4e8b58b25640\\expr.png\" style=\"display:inline;vertical-align:middle;\" /></a></span><br>"
      ],
      "text/plain": [
       "selfIntersectionContainment: |= forall_{S} (S subseteq (S intersect S))"
      ]
     },
     "execution_count": 2,
     "metadata": {},
     "output_type": "execute_result"
    }
   ],
   "source": [
    "selfIntersectionContainment = Forall(S, SubsetEq(S, Intersect(S, S))).prove()"
   ]
  },
  {
   "cell_type": "code",
   "execution_count": 3,
   "metadata": {
    "collapsed": false,
    "deletable": true,
    "editable": true,
    "scrolled": false
   },
   "outputs": [
    {
     "data": {
      "text/html": [
       "<table><tr><th>&nbsp;</th><th>step type</th><th>requirements</th><th>statement</th></tr>\n",
       "<tr><td>0</td><td>generalizaton</td><td>1</td><td><span style=\"font-size:20px;\"> &#x22A2;&nbsp;<a class=\"ProveItLink\" href=\"__pv_it\\e14d531ea1d3153ba1dcb2d8fc3aa4e8b58b25640\\expr.ipynb\"><img src=\"__pv_it\\e14d531ea1d3153ba1dcb2d8fc3aa4e8b58b25640\\expr.png\" style=\"display:inline;vertical-align:middle;\" /></a></span></td></tr>\n",
       "<tr><td>1</td><td>modus ponens</td><td>2, 3</td><td><span style=\"font-size:20px;\"> &#x22A2;&nbsp;<a class=\"ProveItLink\" href=\"__pv_it\\9b9e7c4331361c4695a46b41351adb89ec78425d0\\expr.ipynb\"><img src=\"__pv_it\\9b9e7c4331361c4695a46b41351adb89ec78425d0\\expr.png\" style=\"display:inline;vertical-align:middle;\" /></a></span></td></tr>\n",
       "<tr><td>2</td><td>specialization</td><td>4</td><td><span style=\"font-size:20px;\"> &#x22A2;&nbsp;<a class=\"ProveItLink\" href=\"__pv_it\\25356401aebb4b6cb21931a937f347011481ce860\\expr.ipynb\"><img src=\"__pv_it\\25356401aebb4b6cb21931a937f347011481ce860\\expr.png\" style=\"display:inline;vertical-align:middle;\" /></a></span></td></tr>\n",
       "<tr><td>&nbsp;</td><td colspan=4 style=\"text-align:left\"><span style=\"font-size:20px;\"><a class=\"ProveItLink\" href=\"__pv_it\\058424da67fc36d37c0a63d247e78c928c52cf750\\expr.ipynb\"><img src=\"__pv_it\\058424da67fc36d37c0a63d247e78c928c52cf750\\expr.png\" style=\"display:inline;vertical-align:middle;\" /></a>, relabeling <a class=\"ProveItLink\" href=\"__pv_it\\53e684fadea501348f42206f76d1aa5e7d60d81e0\\expr.ipynb\"><img src=\"__pv_it\\53e684fadea501348f42206f76d1aa5e7d60d81e0\\expr.png\" style=\"display:inline;vertical-align:middle;\" /></a></span></td></tr><tr><td>3</td><td>generalizaton</td><td>5</td><td><span style=\"font-size:20px;\"> &#x22A2;&nbsp;<a class=\"ProveItLink\" href=\"__pv_it\\def20eda1011082060bc9a95cfe2eee20a6b76af0\\expr.ipynb\"><img src=\"__pv_it\\def20eda1011082060bc9a95cfe2eee20a6b76af0\\expr.png\" style=\"display:inline;vertical-align:middle;\" /></a></span></td></tr>\n",
       "<tr><td>4</td><td>theorem</td><td></td><td><span style=\"font-size:20px;\"> &#x22A2;&nbsp;<a class=\"ProveItLink\" href=\"..\\containment\\__pv_it\\bf94797f6f328354b2f94be9b76114a5c3f7d9090\\expr.ipynb\"><img src=\"..\\containment\\__pv_it\\bf94797f6f328354b2f94be9b76114a5c3f7d9090\\expr.png\" style=\"display:inline;vertical-align:middle;\" /></a></span></td></tr>\n",
       "<tr><td>&nbsp;</td><td colspan=4 style-\"text-align:left\"><a class=\"ProveItLink\" href=\"..\\containment\\_proofs_\\foldSubsetEq.ipynb\">proveit.logic.set_theory.containment.foldSubsetEq</a></td></tr><tr><td>5</td><td>specialization</td><td>6, 7, 8, 9</td><td><span style=\"font-size:20px;\"><a class=\"ProveItLink\" href=\"__pv_it\\bcaaf9486d985733cf1582f2f010bca8127c30cb0\\expr.ipynb\"><img src=\"__pv_it\\bcaaf9486d985733cf1582f2f010bca8127c30cb0\\expr.png\" style=\"display:inline;vertical-align:middle;\" /></a> &#x22A2;&nbsp;<a class=\"ProveItLink\" href=\"__pv_it\\a8a69914dae8a6530b05f0ea8ebd00773957164c0\\expr.ipynb\"><img src=\"__pv_it\\a8a69914dae8a6530b05f0ea8ebd00773957164c0\\expr.png\" style=\"display:inline;vertical-align:middle;\" /></a></span></td></tr>\n",
       "<tr><td>&nbsp;</td><td colspan=4 style=\"text-align:left\"><span style=\"font-size:20px;\"><a class=\"ProveItLink\" href=\"__pv_it\\8ec9b62e0680fa5519a369dcec7b4fd46c811e9e0\\expr.ipynb\"><img src=\"__pv_it\\8ec9b62e0680fa5519a369dcec7b4fd46c811e9e0\\expr.png\" style=\"display:inline;vertical-align:middle;\" /></a>, <a class=\"ProveItLink\" href=\"__pv_it\\69d4b09601e1a3aa12e2763926fcadab6f817a810\\expr.ipynb\"><img src=\"__pv_it\\69d4b09601e1a3aa12e2763926fcadab6f817a810\\expr.png\" style=\"display:inline;vertical-align:middle;\" /></a></span></td></tr><tr><td>6</td><td>theorem</td><td></td><td><span style=\"font-size:20px;\"> &#x22A2;&nbsp;<a class=\"ProveItLink\" href=\"__pv_it\\eec540cf19c2f5a281d6fcc2554c9460bc6f27060\\expr.ipynb\"><img src=\"__pv_it\\eec540cf19c2f5a281d6fcc2554c9460bc6f27060\\expr.png\" style=\"display:inline;vertical-align:middle;\" /></a></span></td></tr>\n",
       "<tr><td>&nbsp;</td><td colspan=4 style-\"text-align:left\"><a class=\"ProveItLink\" href=\"_proofs_\\membershipFolding.ipynb\">proveit.logic.set_theory.intersection.membershipFolding</a></td></tr><tr><td>7</td><td>theorem</td><td></td><td><span style=\"font-size:20px;\"> &#x22A2;&nbsp;<a class=\"ProveItLink\" href=\"..\\..\\..\\number\\numeral\\decimal\\__pv_it\\f756e867d4776d98aaa65961a2694bfce519f3cb0\\expr.ipynb\"><img src=\"..\\..\\..\\number\\numeral\\decimal\\__pv_it\\f756e867d4776d98aaa65961a2694bfce519f3cb0\\expr.png\" style=\"display:inline;vertical-align:middle;\" /></a></span></td></tr>\n",
       "<tr><td>&nbsp;</td><td colspan=4 style-\"text-align:left\"><a class=\"ProveItLink\" href=\"..\\..\\..\\number\\numeral\\decimal\\_proofs_\\nats_pos_2.ipynb\">proveit.number.numeral.decimal.nats_pos_2</a></td></tr><tr><td>8</td><td>assumption</td><td></td><td><span style=\"font-size:20px;\"><a class=\"ProveItLink\" href=\"__pv_it\\bcaaf9486d985733cf1582f2f010bca8127c30cb0\\expr.ipynb\"><img src=\"__pv_it\\bcaaf9486d985733cf1582f2f010bca8127c30cb0\\expr.png\" style=\"display:inline;vertical-align:middle;\" /></a> &#x22A2;&nbsp;<a class=\"ProveItLink\" href=\"__pv_it\\64bf7872915b2bce59a78b2065ca91ed3b21efae0\\expr.ipynb\"><img src=\"__pv_it\\64bf7872915b2bce59a78b2065ca91ed3b21efae0\\expr.png\" style=\"display:inline;vertical-align:middle;\" /></a></span></td></tr>\n",
       "<tr><td>9</td><td>theorem</td><td></td><td><span style=\"font-size:20px;\"> &#x22A2;&nbsp;<a class=\"ProveItLink\" href=\"..\\..\\..\\number\\numeral\\decimal\\__pv_it\\1f5fc30393a03c999c6f5f3c0d0b67dcf686209a0\\expr.ipynb\"><img src=\"..\\..\\..\\number\\numeral\\decimal\\__pv_it\\1f5fc30393a03c999c6f5f3c0d0b67dcf686209a0\\expr.png\" style=\"display:inline;vertical-align:middle;\" /></a></span></td></tr>\n",
       "<tr><td>&nbsp;</td><td colspan=4 style-\"text-align:left\"><a class=\"ProveItLink\" href=\"..\\..\\..\\number\\numeral\\decimal\\_proofs_\\add_1_1.ipynb\">proveit.number.numeral.decimal.add_1_1</a></td></tr>"
      ],
      "text/plain": [
       "<proveit._core_.proof.Generalization instance at 0x0000000008C6DE88>"
      ]
     },
     "execution_count": 3,
     "metadata": {},
     "output_type": "execute_result"
    }
   ],
   "source": [
    "selfIntersectionContainment.proof()"
   ]
  },
  {
   "cell_type": "code",
   "execution_count": 4,
   "metadata": {
    "collapsed": false,
    "deletable": true,
    "editable": true
   },
   "outputs": [
    {
     "ename": "AttributeError",
     "evalue": "'NoneType' object has no attribute 'referenceDisplayedExpressions'",
     "output_type": "error",
     "traceback": [
      "\u001b[1;31m\u001b[0m",
      "\u001b[1;31mAttributeError\u001b[0mTraceback (most recent call last)",
      "\u001b[1;32m<ipython-input-4-76067ed6c349>\u001b[0m in \u001b[0;36m<module>\u001b[1;34m()\u001b[0m\n\u001b[1;32m----> 1\u001b[1;33m \u001b[0mget_ipython\u001b[0m\u001b[1;33m(\u001b[0m\u001b[1;33m)\u001b[0m\u001b[1;33m.\u001b[0m\u001b[0mmagic\u001b[0m\u001b[1;33m(\u001b[0m\u001b[1;34mu'end demonstrations'\u001b[0m\u001b[1;33m)\u001b[0m\u001b[1;33m\u001b[0m\u001b[0m\n\u001b[0m",
      "\u001b[1;32mC:\\Users\\wwitzel\\AppData\\Local\\Enthought\\Canopy\\User\\lib\\site-packages\\IPython\\core\\interactiveshell.pyc\u001b[0m in \u001b[0;36mmagic\u001b[1;34m(self, arg_s)\u001b[0m\n\u001b[0;32m   2156\u001b[0m         \u001b[0mmagic_name\u001b[0m\u001b[1;33m,\u001b[0m \u001b[0m_\u001b[0m\u001b[1;33m,\u001b[0m \u001b[0mmagic_arg_s\u001b[0m \u001b[1;33m=\u001b[0m \u001b[0marg_s\u001b[0m\u001b[1;33m.\u001b[0m\u001b[0mpartition\u001b[0m\u001b[1;33m(\u001b[0m\u001b[1;34m' '\u001b[0m\u001b[1;33m)\u001b[0m\u001b[1;33m\u001b[0m\u001b[0m\n\u001b[0;32m   2157\u001b[0m         \u001b[0mmagic_name\u001b[0m \u001b[1;33m=\u001b[0m \u001b[0mmagic_name\u001b[0m\u001b[1;33m.\u001b[0m\u001b[0mlstrip\u001b[0m\u001b[1;33m(\u001b[0m\u001b[0mprefilter\u001b[0m\u001b[1;33m.\u001b[0m\u001b[0mESC_MAGIC\u001b[0m\u001b[1;33m)\u001b[0m\u001b[1;33m\u001b[0m\u001b[0m\n\u001b[1;32m-> 2158\u001b[1;33m         \u001b[1;32mreturn\u001b[0m \u001b[0mself\u001b[0m\u001b[1;33m.\u001b[0m\u001b[0mrun_line_magic\u001b[0m\u001b[1;33m(\u001b[0m\u001b[0mmagic_name\u001b[0m\u001b[1;33m,\u001b[0m \u001b[0mmagic_arg_s\u001b[0m\u001b[1;33m)\u001b[0m\u001b[1;33m\u001b[0m\u001b[0m\n\u001b[0m\u001b[0;32m   2159\u001b[0m \u001b[1;33m\u001b[0m\u001b[0m\n\u001b[0;32m   2160\u001b[0m     \u001b[1;31m#-------------------------------------------------------------------------\u001b[0m\u001b[1;33m\u001b[0m\u001b[1;33m\u001b[0m\u001b[0m\n",
      "\u001b[1;32mC:\\Users\\wwitzel\\AppData\\Local\\Enthought\\Canopy\\User\\lib\\site-packages\\IPython\\core\\interactiveshell.pyc\u001b[0m in \u001b[0;36mrun_line_magic\u001b[1;34m(self, magic_name, line)\u001b[0m\n\u001b[0;32m   2077\u001b[0m                 \u001b[0mkwargs\u001b[0m\u001b[1;33m[\u001b[0m\u001b[1;34m'local_ns'\u001b[0m\u001b[1;33m]\u001b[0m \u001b[1;33m=\u001b[0m \u001b[0msys\u001b[0m\u001b[1;33m.\u001b[0m\u001b[0m_getframe\u001b[0m\u001b[1;33m(\u001b[0m\u001b[0mstack_depth\u001b[0m\u001b[1;33m)\u001b[0m\u001b[1;33m.\u001b[0m\u001b[0mf_locals\u001b[0m\u001b[1;33m\u001b[0m\u001b[0m\n\u001b[0;32m   2078\u001b[0m             \u001b[1;32mwith\u001b[0m \u001b[0mself\u001b[0m\u001b[1;33m.\u001b[0m\u001b[0mbuiltin_trap\u001b[0m\u001b[1;33m:\u001b[0m\u001b[1;33m\u001b[0m\u001b[0m\n\u001b[1;32m-> 2079\u001b[1;33m                 \u001b[0mresult\u001b[0m \u001b[1;33m=\u001b[0m \u001b[0mfn\u001b[0m\u001b[1;33m(\u001b[0m\u001b[1;33m*\u001b[0m\u001b[0margs\u001b[0m\u001b[1;33m,\u001b[0m\u001b[1;33m**\u001b[0m\u001b[0mkwargs\u001b[0m\u001b[1;33m)\u001b[0m\u001b[1;33m\u001b[0m\u001b[0m\n\u001b[0m\u001b[0;32m   2080\u001b[0m             \u001b[1;32mreturn\u001b[0m \u001b[0mresult\u001b[0m\u001b[1;33m\u001b[0m\u001b[0m\n\u001b[0;32m   2081\u001b[0m \u001b[1;33m\u001b[0m\u001b[0m\n",
      "\u001b[1;32m<decorator-gen-126>\u001b[0m in \u001b[0;36mend\u001b[1;34m(self, line)\u001b[0m\n",
      "\u001b[1;32mC:\\Users\\wwitzel\\AppData\\Local\\Enthought\\Canopy\\User\\lib\\site-packages\\IPython\\core\\magic.pyc\u001b[0m in \u001b[0;36m<lambda>\u001b[1;34m(f, *a, **k)\u001b[0m\n\u001b[0;32m    186\u001b[0m     \u001b[1;31m# but it's overkill for just that one bit of state.\u001b[0m\u001b[1;33m\u001b[0m\u001b[1;33m\u001b[0m\u001b[0m\n\u001b[0;32m    187\u001b[0m     \u001b[1;32mdef\u001b[0m \u001b[0mmagic_deco\u001b[0m\u001b[1;33m(\u001b[0m\u001b[0marg\u001b[0m\u001b[1;33m)\u001b[0m\u001b[1;33m:\u001b[0m\u001b[1;33m\u001b[0m\u001b[0m\n\u001b[1;32m--> 188\u001b[1;33m         \u001b[0mcall\u001b[0m \u001b[1;33m=\u001b[0m \u001b[1;32mlambda\u001b[0m \u001b[0mf\u001b[0m\u001b[1;33m,\u001b[0m \u001b[1;33m*\u001b[0m\u001b[0ma\u001b[0m\u001b[1;33m,\u001b[0m \u001b[1;33m**\u001b[0m\u001b[0mk\u001b[0m\u001b[1;33m:\u001b[0m \u001b[0mf\u001b[0m\u001b[1;33m(\u001b[0m\u001b[1;33m*\u001b[0m\u001b[0ma\u001b[0m\u001b[1;33m,\u001b[0m \u001b[1;33m**\u001b[0m\u001b[0mk\u001b[0m\u001b[1;33m)\u001b[0m\u001b[1;33m\u001b[0m\u001b[0m\n\u001b[0m\u001b[0;32m    189\u001b[0m \u001b[1;33m\u001b[0m\u001b[0m\n\u001b[0;32m    190\u001b[0m         \u001b[1;32mif\u001b[0m \u001b[0mcallable\u001b[0m\u001b[1;33m(\u001b[0m\u001b[0marg\u001b[0m\u001b[1;33m)\u001b[0m\u001b[1;33m:\u001b[0m\u001b[1;33m\u001b[0m\u001b[0m\n",
      "\u001b[1;32mC:\\users\\wwitzel\\Prove-It\\packages\\proveit\\_core_\\magics.pyc\u001b[0m in \u001b[0;36mend\u001b[1;34m(self, line)\u001b[0m\n\u001b[0;32m    406\u001b[0m             \u001b[0mself\u001b[0m\u001b[1;33m.\u001b[0m\u001b[0mend_common\u001b[0m\u001b[1;33m(\u001b[0m\u001b[1;33m)\u001b[0m\u001b[1;33m\u001b[0m\u001b[0m\n\u001b[0;32m    407\u001b[0m         \u001b[1;31m# reference any expressions that were displayed:\u001b[0m\u001b[1;33m\u001b[0m\u001b[1;33m\u001b[0m\u001b[0m\n\u001b[1;32m--> 408\u001b[1;33m         \u001b[0mself\u001b[0m\u001b[1;33m.\u001b[0m\u001b[0mcontext\u001b[0m\u001b[1;33m.\u001b[0m\u001b[0mreferenceDisplayedExpressions\u001b[0m\u001b[1;33m(\u001b[0m\u001b[0mkind\u001b[0m\u001b[1;33m)\u001b[0m\u001b[1;33m\u001b[0m\u001b[0m\n\u001b[0m\u001b[0;32m    409\u001b[0m         \u001b[1;31m# clean unreferenced expressions:\u001b[0m\u001b[1;33m\u001b[0m\u001b[1;33m\u001b[0m\u001b[0m\n\u001b[0;32m    410\u001b[0m         \u001b[0mself\u001b[0m\u001b[1;33m.\u001b[0m\u001b[0mcontext\u001b[0m\u001b[1;33m.\u001b[0m\u001b[0mclean\u001b[0m\u001b[1;33m(\u001b[0m\u001b[1;33m)\u001b[0m\u001b[1;33m\u001b[0m\u001b[0m\n",
      "\u001b[1;31mAttributeError\u001b[0m: 'NoneType' object has no attribute 'referenceDisplayedExpressions'"
     ]
    }
   ],
   "source": [
    "%end demonstrations"
   ]
  },
  {
   "cell_type": "code",
   "execution_count": null,
   "metadata": {
    "collapsed": true,
    "deletable": true,
    "editable": true
   },
   "outputs": [],
   "source": []
  }
 ],
 "metadata": {
  "kernelspec": {
   "display_name": "Python 2",
   "language": "python",
   "name": "python2"
  },
  "language_info": {
   "codemirror_mode": {
    "name": "ipython",
    "version": 2
   },
   "file_extension": ".py",
   "mimetype": "text/x-python",
   "name": "python",
   "nbconvert_exporter": "python",
   "pygments_lexer": "ipython2",
   "version": "2.7.11"
  }
 },
 "nbformat": 4,
 "nbformat_minor": 0
}
