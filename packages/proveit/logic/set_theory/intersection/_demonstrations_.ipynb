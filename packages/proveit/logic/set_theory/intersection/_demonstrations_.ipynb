{
 "cells": [
  {
   "cell_type": "markdown",
   "metadata": {
    "collapsed": true,
    "deletable": true,
    "editable": true
   },
   "source": [
    "Demonstrations for context <a class=\"ProveItLink\" href=\"_context_.ipynb\">proveit.logic.set_theory.intersection</a>\n",
    "========"
   ]
  },
  {
   "cell_type": "code",
   "execution_count": 1,
   "metadata": {
    "collapsed": false,
    "deletable": true,
    "editable": true
   },
   "outputs": [],
   "source": [
    "import proveit\n",
    "from proveit.logic import Forall, Intersect, SubsetEq \n",
    "from proveit._common_ import S"
   ]
  },
  {
   "cell_type": "code",
   "execution_count": 2,
   "metadata": {
    "collapsed": false,
    "deletable": true,
    "editable": true
   },
   "outputs": [
    {
     "data": {
      "text/html": [
       "<strong id=\"selfIntersectionContainment\">selfIntersectionContainment:</strong> <span style=\"font-size:20px;\"> &#x22A2;&nbsp;<a class=\"ProveItLink\" href=\"__pv_it\\a5de436d209ee85b4378fbf14f2d1947743ea8590\\expr.ipynb\"><img src=\"__pv_it\\a5de436d209ee85b4378fbf14f2d1947743ea8590\\expr.png\" style=\"display:inline;vertical-align:middle;\" /></a></span><br>"
      ],
      "text/plain": [
       "selfIntersectionContainment: |= forall_{S} (S subseteq (S intersect S))"
      ]
     },
     "execution_count": 2,
     "metadata": {},
     "output_type": "execute_result"
    }
   ],
   "source": [
    "selfIntersectionContainment = Forall(S, SubsetEq(S, Intersect(S, S))).prove()"
   ]
  },
  {
   "cell_type": "code",
   "execution_count": 3,
   "metadata": {
    "collapsed": false,
    "deletable": true,
    "editable": true
   },
   "outputs": [
    {
     "data": {
      "text/html": [
       "<table><tr><th>&nbsp;</th><th>step type</th><th>requirements</th><th>statement</th></tr>\n",
       "<tr><td>0</td><td>generalizaton</td><td>1</td><td><span style=\"font-size:20px;\"> &#x22A2;&nbsp;<a class=\"ProveItLink\" href=\"__pv_it\\a5de436d209ee85b4378fbf14f2d1947743ea8590\\expr.ipynb\"><img src=\"__pv_it\\a5de436d209ee85b4378fbf14f2d1947743ea8590\\expr.png\" style=\"display:inline;vertical-align:middle;\" /></a></span></td></tr>\n",
       "<tr><td>1</td><td>modus ponens</td><td>2, 3</td><td><span style=\"font-size:20px;\"> &#x22A2;&nbsp;<a class=\"ProveItLink\" href=\"__pv_it\\9b9e7c4331361c4695a46b41351adb89ec78425d0\\expr.ipynb\"><img src=\"__pv_it\\9b9e7c4331361c4695a46b41351adb89ec78425d0\\expr.png\" style=\"display:inline;vertical-align:middle;\" /></a></span></td></tr>\n",
       "<tr><td>2</td><td>specialization</td><td>4</td><td><span style=\"font-size:20px;\"> &#x22A2;&nbsp;<a class=\"ProveItLink\" href=\"__pv_it\\be5c2ac03593aa653cbd69ca3ebc87265e2679090\\expr.ipynb\"><img src=\"__pv_it\\be5c2ac03593aa653cbd69ca3ebc87265e2679090\\expr.png\" style=\"display:inline;vertical-align:middle;\" /></a></span></td></tr>\n",
       "<tr><td>&nbsp;</td><td colspan=4 style=\"text-align:left\"><span style=\"font-size:20px;\"><a class=\"ProveItLink\" href=\"__pv_it\\058424da67fc36d37c0a63d247e78c928c52cf750\\expr.ipynb\"><img src=\"__pv_it\\058424da67fc36d37c0a63d247e78c928c52cf750\\expr.png\" style=\"display:inline;vertical-align:middle;\" /></a>, relabeling <a class=\"ProveItLink\" href=\"__pv_it\\704591a6e905b24e986c5fa1badb7b192c8797c70\\expr.ipynb\"><img src=\"__pv_it\\704591a6e905b24e986c5fa1badb7b192c8797c70\\expr.png\" style=\"display:inline;vertical-align:middle;\" /></a></span></td></tr><tr><td>3</td><td>generalizaton</td><td>5</td><td><span style=\"font-size:20px;\"> &#x22A2;&nbsp;<a class=\"ProveItLink\" href=\"__pv_it\\eb51b687311f43b89ac776ac7d80c3468e7771ef0\\expr.ipynb\"><img src=\"__pv_it\\eb51b687311f43b89ac776ac7d80c3468e7771ef0\\expr.png\" style=\"display:inline;vertical-align:middle;\" /></a></span></td></tr>\n",
       "<tr><td>4</td><td>theorem</td><td></td><td><span style=\"font-size:20px;\"> &#x22A2;&nbsp;<a class=\"ProveItLink\" href=\"..\\containment\\__pv_it\\5622e7f6699b8a22e800de3031d27266d4541e420\\expr.ipynb\"><img src=\"..\\containment\\__pv_it\\5622e7f6699b8a22e800de3031d27266d4541e420\\expr.png\" style=\"display:inline;vertical-align:middle;\" /></a></span></td></tr>\n",
       "<tr><td>&nbsp;</td><td colspan=4 style-\"text-align:left\"><a class=\"ProveItLink\" href=\"..\\containment\\_proofs_\\foldSubsetEq.ipynb\">proveit.logic.set_theory.containment.foldSubsetEq</a></td></tr><tr><td>5</td><td>specialization</td><td>6, 7, 8, 9</td><td><span style=\"font-size:20px;\"><a class=\"ProveItLink\" href=\"__pv_it\\1bd47d8aef059aba267451c34f157702903452500\\expr.ipynb\"><img src=\"__pv_it\\1bd47d8aef059aba267451c34f157702903452500\\expr.png\" style=\"display:inline;vertical-align:middle;\" /></a> &#x22A2;&nbsp;<a class=\"ProveItLink\" href=\"__pv_it\\f5de925366ea8c47e04123229090eebd0c1561300\\expr.ipynb\"><img src=\"__pv_it\\f5de925366ea8c47e04123229090eebd0c1561300\\expr.png\" style=\"display:inline;vertical-align:middle;\" /></a></span></td></tr>\n",
       "<tr><td>&nbsp;</td><td colspan=4 style=\"text-align:left\"><span style=\"font-size:20px;\"><a class=\"ProveItLink\" href=\"__pv_it\\8ec9b62e0680fa5519a369dcec7b4fd46c811e9e0\\expr.ipynb\"><img src=\"__pv_it\\8ec9b62e0680fa5519a369dcec7b4fd46c811e9e0\\expr.png\" style=\"display:inline;vertical-align:middle;\" /></a>, <a class=\"ProveItLink\" href=\"__pv_it\\32222eb817e23e195b29dcefcb2eb51253d204b70\\expr.ipynb\"><img src=\"__pv_it\\32222eb817e23e195b29dcefcb2eb51253d204b70\\expr.png\" style=\"display:inline;vertical-align:middle;\" /></a></span></td></tr><tr><td>6</td><td>theorem</td><td></td><td><span style=\"font-size:20px;\"> &#x22A2;&nbsp;<a class=\"ProveItLink\" href=\"__pv_it\\8ae28564cb6edf505a104985ff0bd07866a5dc6b0\\expr.ipynb\"><img src=\"__pv_it\\8ae28564cb6edf505a104985ff0bd07866a5dc6b0\\expr.png\" style=\"display:inline;vertical-align:middle;\" /></a></span></td></tr>\n",
       "<tr><td>&nbsp;</td><td colspan=4 style-\"text-align:left\"><a class=\"ProveItLink\" href=\"_proofs_\\membershipFolding.ipynb\">proveit.logic.set_theory.intersection.membershipFolding</a></td></tr><tr><td>7</td><td>theorem</td><td></td><td><span style=\"font-size:20px;\"> &#x22A2;&nbsp;<a class=\"ProveItLink\" href=\"..\\..\\..\\number\\numeral\\decimal\\__pv_it\\f756e867d4776d98aaa65961a2694bfce519f3cb0\\expr.ipynb\"><img src=\"..\\..\\..\\number\\numeral\\decimal\\__pv_it\\f756e867d4776d98aaa65961a2694bfce519f3cb0\\expr.png\" style=\"display:inline;vertical-align:middle;\" /></a></span></td></tr>\n",
       "<tr><td>&nbsp;</td><td colspan=4 style-\"text-align:left\"><a class=\"ProveItLink\" href=\"..\\..\\..\\number\\numeral\\decimal\\_proofs_\\nats_pos_2.ipynb\">proveit.number.numeral.decimal.nats_pos_2</a></td></tr><tr><td>8</td><td>assumption</td><td></td><td><span style=\"font-size:20px;\"><a class=\"ProveItLink\" href=\"__pv_it\\1bd47d8aef059aba267451c34f157702903452500\\expr.ipynb\"><img src=\"__pv_it\\1bd47d8aef059aba267451c34f157702903452500\\expr.png\" style=\"display:inline;vertical-align:middle;\" /></a> &#x22A2;&nbsp;<a class=\"ProveItLink\" href=\"__pv_it\\ca0c06ca238b9dbb2878019d1ecbc2a92b1ce2e40\\expr.ipynb\"><img src=\"__pv_it\\ca0c06ca238b9dbb2878019d1ecbc2a92b1ce2e40\\expr.png\" style=\"display:inline;vertical-align:middle;\" /></a></span></td></tr>\n",
       "<tr><td>9</td><td>theorem</td><td></td><td><span style=\"font-size:20px;\"> &#x22A2;&nbsp;<a class=\"ProveItLink\" href=\"..\\..\\..\\number\\numeral\\decimal\\__pv_it\\1f5fc30393a03c999c6f5f3c0d0b67dcf686209a0\\expr.ipynb\"><img src=\"..\\..\\..\\number\\numeral\\decimal\\__pv_it\\1f5fc30393a03c999c6f5f3c0d0b67dcf686209a0\\expr.png\" style=\"display:inline;vertical-align:middle;\" /></a></span></td></tr>\n",
       "<tr><td>&nbsp;</td><td colspan=4 style-\"text-align:left\"><a class=\"ProveItLink\" href=\"..\\..\\..\\number\\numeral\\decimal\\_proofs_\\add_1_1.ipynb\">proveit.number.numeral.decimal.add_1_1</a></td></tr>"
      ],
      "text/plain": [
       "<proveit._core_.proof.Generalization instance at 0x0000000008973BC8>"
      ]
     },
     "execution_count": 3,
     "metadata": {},
     "output_type": "execute_result"
    }
   ],
   "source": [
    "selfIntersectionContainment.proof()"
   ]
  },
  {
   "cell_type": "code",
   "execution_count": 4,
   "metadata": {
    "collapsed": false,
    "deletable": true,
    "editable": true
   },
   "outputs": [],
   "source": [
    "%end demonstrations"
   ]
  },
  {
   "cell_type": "code",
   "execution_count": null,
   "metadata": {
    "collapsed": true
   },
   "outputs": [],
   "source": []
  }
 ],
 "metadata": {
  "kernelspec": {
   "display_name": "Python 2",
   "language": "python",
   "name": "python2"
  },
  "language_info": {
   "codemirror_mode": {
    "name": "ipython",
    "version": 2
   },
   "file_extension": ".py",
   "mimetype": "text/x-python",
   "name": "python",
   "nbconvert_exporter": "python",
   "pygments_lexer": "ipython2",
   "version": "2.7.11"
  }
 },
 "nbformat": 4,
 "nbformat_minor": 0
}
