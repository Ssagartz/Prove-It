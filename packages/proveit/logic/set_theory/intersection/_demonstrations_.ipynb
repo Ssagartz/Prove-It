{
 "cells": [
  {
   "cell_type": "markdown",
   "metadata": {
    "collapsed": true,
    "deletable": true,
    "editable": true
   },
   "source": [
    "Demonstrations for context <a class=\"ProveItLink\" href=\"_context_.ipynb\">proveit.logic.set_theory.intersection</a>\n",
    "========"
   ]
  },
  {
   "cell_type": "code",
   "execution_count": 1,
   "metadata": {
    "collapsed": false,
    "deletable": true,
    "editable": true
   },
   "outputs": [],
   "source": [
    "import proveit\n",
    "from proveit.logic import Forall, Intersect, SubsetEq \n",
    "from proveit._common_ import S\n",
    "%begin demonstrations"
   ]
  },
  {
   "cell_type": "code",
   "execution_count": 2,
   "metadata": {
    "collapsed": false,
    "deletable": true,
    "editable": true
   },
   "outputs": [
    {
     "data": {
      "text/html": [
       "<strong id=\"selfIntersectionContainment\">selfIntersectionContainment:</strong> <span style=\"font-size:20px;\"> &#x22A2;&nbsp;<a class=\"ProveItLink\" href=\"__pv_it\\13aa658fb90a21789ece1e7379b59af1a6feca080\\expr.ipynb\"><img src=\"__pv_it\\13aa658fb90a21789ece1e7379b59af1a6feca080\\expr.png\" style=\"display:inline;vertical-align:middle;\" /></a></span><br>"
      ],
      "text/plain": [
       "selfIntersectionContainment: |= forall_{S} (S subseteq (S intersect S))"
      ]
     },
     "execution_count": 2,
     "metadata": {},
     "output_type": "execute_result"
    }
   ],
   "source": [
    "selfIntersectionContainment = Forall(S, SubsetEq(S, Intersect(S, S))).prove()"
   ]
  },
  {
   "cell_type": "code",
   "execution_count": 3,
   "metadata": {
    "collapsed": false,
    "deletable": true,
    "editable": true,
    "scrolled": false
   },
   "outputs": [
    {
     "data": {
      "text/html": [
       "<table><tr><th>&nbsp;</th><th>step type</th><th>requirements</th><th>statement</th></tr>\n",
       "<tr><td>0</td><td>generalizaton</td><td>1</td><td><span style=\"font-size:20px;\"> &#x22A2;&nbsp;<a class=\"ProveItLink\" href=\"__pv_it\\13aa658fb90a21789ece1e7379b59af1a6feca080\\expr.ipynb\"><img src=\"__pv_it\\13aa658fb90a21789ece1e7379b59af1a6feca080\\expr.png\" style=\"display:inline;vertical-align:middle;\" /></a></span></td></tr>\n",
       "<tr><td>1</td><td>modus ponens</td><td>2, 3</td><td><span style=\"font-size:20px;\"> &#x22A2;&nbsp;<a class=\"ProveItLink\" href=\"__pv_it\\266cb102954aaae576def140e892a6dec803defc0\\expr.ipynb\"><img src=\"__pv_it\\266cb102954aaae576def140e892a6dec803defc0\\expr.png\" style=\"display:inline;vertical-align:middle;\" /></a></span></td></tr>\n",
       "<tr><td>2</td><td>specialization</td><td>4</td><td><span style=\"font-size:20px;\"> &#x22A2;&nbsp;<a class=\"ProveItLink\" href=\"__pv_it\\5a8f31e5ce32f9102443486b029c734353dd03e80\\expr.ipynb\"><img src=\"__pv_it\\5a8f31e5ce32f9102443486b029c734353dd03e80\\expr.png\" style=\"display:inline;vertical-align:middle;\" /></a></span></td></tr>\n",
       "<tr><td>&nbsp;</td><td colspan=4 style=\"text-align:left\"><span style=\"font-size:20px;\"><a class=\"ProveItLink\" href=\"__pv_it\\6f94947b5bcf3a27e91d4294665960282140f2ff0\\expr.ipynb\"><img src=\"__pv_it\\6f94947b5bcf3a27e91d4294665960282140f2ff0\\expr.png\" style=\"display:inline;vertical-align:middle;\" /></a>, relabeling <a class=\"ProveItLink\" href=\"__pv_it\\558c61cd72537bf4f3529698f92d251dd2a8fdda0\\expr.ipynb\"><img src=\"__pv_it\\558c61cd72537bf4f3529698f92d251dd2a8fdda0\\expr.png\" style=\"display:inline;vertical-align:middle;\" /></a></span></td></tr><tr><td>3</td><td>generalizaton</td><td>5</td><td><span style=\"font-size:20px;\"> &#x22A2;&nbsp;<a class=\"ProveItLink\" href=\"__pv_it\\46de7868e0ce3184e02c2a0df2763de9d85ae7cc0\\expr.ipynb\"><img src=\"__pv_it\\46de7868e0ce3184e02c2a0df2763de9d85ae7cc0\\expr.png\" style=\"display:inline;vertical-align:middle;\" /></a></span></td></tr>\n",
       "<tr><td>4</td><td>theorem</td><td></td><td><span style=\"font-size:20px;\"> &#x22A2;&nbsp;<a class=\"ProveItLink\" href=\"..\\containment\\__pv_it\\88bf811ac3a6156a0e22de166e40560b70ca58980\\expr.ipynb\"><img src=\"..\\containment\\__pv_it\\88bf811ac3a6156a0e22de166e40560b70ca58980\\expr.png\" style=\"display:inline;vertical-align:middle;\" /></a></span></td></tr>\n",
       "<tr><td>&nbsp;</td><td colspan=4 style-\"text-align:left\"><a class=\"ProveItLink\" href=\"..\\containment\\_proofs_\\foldSubsetEq.ipynb\">proveit.logic.set_theory.containment.foldSubsetEq</a></td></tr><tr><td>5</td><td>specialization</td><td>6, 7, 8, 9</td><td><span style=\"font-size:20px;\"><a class=\"ProveItLink\" href=\"__pv_it\\5142080cc5614a346bd6f27756fb977a82885b5b0\\expr.ipynb\"><img src=\"__pv_it\\5142080cc5614a346bd6f27756fb977a82885b5b0\\expr.png\" style=\"display:inline;vertical-align:middle;\" /></a> &#x22A2;&nbsp;<a class=\"ProveItLink\" href=\"__pv_it\\0cf8ad6dc6e6190e896a8dc1373bb5a58295b9ac0\\expr.ipynb\"><img src=\"__pv_it\\0cf8ad6dc6e6190e896a8dc1373bb5a58295b9ac0\\expr.png\" style=\"display:inline;vertical-align:middle;\" /></a></span></td></tr>\n",
       "<tr><td>&nbsp;</td><td colspan=4 style=\"text-align:left\"><span style=\"font-size:20px;\"><a class=\"ProveItLink\" href=\"__pv_it\\1a9b8a59c817577700958d8833089398675d63e50\\expr.ipynb\"><img src=\"__pv_it\\1a9b8a59c817577700958d8833089398675d63e50\\expr.png\" style=\"display:inline;vertical-align:middle;\" /></a>, <a class=\"ProveItLink\" href=\"__pv_it\\9506d749e50d72433fed39a8efea72743e5007e40\\expr.ipynb\"><img src=\"__pv_it\\9506d749e50d72433fed39a8efea72743e5007e40\\expr.png\" style=\"display:inline;vertical-align:middle;\" /></a></span></td></tr><tr><td>6</td><td>theorem</td><td></td><td><span style=\"font-size:20px;\"> &#x22A2;&nbsp;<a class=\"ProveItLink\" href=\"__pv_it\\5703a827f09957073de46453992f1362d49714660\\expr.ipynb\"><img src=\"__pv_it\\5703a827f09957073de46453992f1362d49714660\\expr.png\" style=\"display:inline;vertical-align:middle;\" /></a></span></td></tr>\n",
       "<tr><td>&nbsp;</td><td colspan=4 style-\"text-align:left\"><a class=\"ProveItLink\" href=\"_proofs_\\membershipFolding.ipynb\">proveit.logic.set_theory.intersection.membershipFolding</a></td></tr><tr><td>7</td><td>theorem</td><td></td><td><span style=\"font-size:20px;\"> &#x22A2;&nbsp;<a class=\"ProveItLink\" href=\"..\\..\\..\\number\\numeral\\decimal\\__pv_it\\cc8f030bf3f8fa8886abea87852067059d7e0b5a0\\expr.ipynb\"><img src=\"..\\..\\..\\number\\numeral\\decimal\\__pv_it\\cc8f030bf3f8fa8886abea87852067059d7e0b5a0\\expr.png\" style=\"display:inline;vertical-align:middle;\" /></a></span></td></tr>\n",
       "<tr><td>&nbsp;</td><td colspan=4 style-\"text-align:left\"><a class=\"ProveItLink\" href=\"..\\..\\..\\number\\numeral\\decimal\\_proofs_\\posnat2.ipynb\">proveit.number.numeral.decimal.posnat2</a></td></tr><tr><td>8</td><td>specialization</td><td>10, 11</td><td><span style=\"font-size:20px;\"><a class=\"ProveItLink\" href=\"__pv_it\\5142080cc5614a346bd6f27756fb977a82885b5b0\\expr.ipynb\"><img src=\"__pv_it\\5142080cc5614a346bd6f27756fb977a82885b5b0\\expr.png\" style=\"display:inline;vertical-align:middle;\" /></a> &#x22A2;&nbsp;<a class=\"ProveItLink\" href=\"__pv_it\\1bfb35152fe7f85292828df08a5dfe082150a24c0\\expr.ipynb\"><img src=\"__pv_it\\1bfb35152fe7f85292828df08a5dfe082150a24c0\\expr.png\" style=\"display:inline;vertical-align:middle;\" /></a></span></td></tr>\n",
       "<tr><td>&nbsp;</td><td colspan=4 style=\"text-align:left\"><span style=\"font-size:20px;\"><a class=\"ProveItLink\" href=\"__pv_it\\6077ec667f3dc6348ad58224396d1a192ae358590\\expr.ipynb\"><img src=\"__pv_it\\6077ec667f3dc6348ad58224396d1a192ae358590\\expr.png\" style=\"display:inline;vertical-align:middle;\" /></a>, <a class=\"ProveItLink\" href=\"__pv_it\\fbc8d179134c817c5f1897e47370e44bffcf0c870\\expr.ipynb\"><img src=\"__pv_it\\fbc8d179134c817c5f1897e47370e44bffcf0c870\\expr.png\" style=\"display:inline;vertical-align:middle;\" /></a></span></td></tr><tr><td>9</td><td>theorem</td><td></td><td><span style=\"font-size:20px;\"> &#x22A2;&nbsp;<a class=\"ProveItLink\" href=\"..\\..\\..\\number\\numeral\\decimal\\__pv_it\\c5d3f2ba07647aec518bec1929b16561d1a340400\\expr.ipynb\"><img src=\"..\\..\\..\\number\\numeral\\decimal\\__pv_it\\c5d3f2ba07647aec518bec1929b16561d1a340400\\expr.png\" style=\"display:inline;vertical-align:middle;\" /></a></span></td></tr>\n",
       "<tr><td>&nbsp;</td><td colspan=4 style-\"text-align:left\"><a class=\"ProveItLink\" href=\"..\\..\\..\\number\\numeral\\decimal\\_proofs_\\add_1_1.ipynb\">proveit.number.numeral.decimal.add_1_1</a></td></tr><tr><td>10</td><td>theorem</td><td></td><td><span style=\"font-size:20px;\"> &#x22A2;&nbsp;<a class=\"ProveItLink\" href=\"..\\..\\boolean\\conjunction\\__pv_it\\75b95a60b89ba91524c4552093030c827fffaab20\\expr.ipynb\"><img src=\"..\\..\\boolean\\conjunction\\__pv_it\\75b95a60b89ba91524c4552093030c827fffaab20\\expr.png\" style=\"display:inline;vertical-align:middle;\" /></a></span></td></tr>\n",
       "<tr><td>&nbsp;</td><td colspan=4 style-\"text-align:left\"><a class=\"ProveItLink\" href=\"..\\..\\boolean\\conjunction\\_proofs_\\andIfBoth.ipynb\">proveit.logic.boolean.conjunction.andIfBoth</a></td></tr><tr><td>11</td><td>assumption</td><td></td><td><span style=\"font-size:20px;\"><a class=\"ProveItLink\" href=\"__pv_it\\5142080cc5614a346bd6f27756fb977a82885b5b0\\expr.ipynb\"><img src=\"__pv_it\\5142080cc5614a346bd6f27756fb977a82885b5b0\\expr.png\" style=\"display:inline;vertical-align:middle;\" /></a> &#x22A2;&nbsp;<a class=\"ProveItLink\" href=\"__pv_it\\b0393b8e81a82b50e47d1dba3d88bb9e9b5a00cf0\\expr.ipynb\"><img src=\"__pv_it\\b0393b8e81a82b50e47d1dba3d88bb9e9b5a00cf0\\expr.png\" style=\"display:inline;vertical-align:middle;\" /></a></span></td></tr>\n"
      ],
      "text/plain": [
       "<proveit._core_.proof.Generalization instance at 0x0000000008FE6148>"
      ]
     },
     "execution_count": 3,
     "metadata": {},
     "output_type": "execute_result"
    }
   ],
   "source": [
    "selfIntersectionContainment.proof()"
   ]
  },
  {
   "cell_type": "code",
   "execution_count": 4,
   "metadata": {
    "collapsed": false,
    "deletable": true,
    "editable": true
   },
   "outputs": [],
   "source": [
    "%end demonstrations"
   ]
  },
  {
   "cell_type": "code",
   "execution_count": 5,
   "metadata": {
    "collapsed": true
   },
   "outputs": [],
   "source": []
  }
 ],
 "metadata": {
  "kernelspec": {
   "display_name": "Python 2",
   "language": "python",
   "name": "python2"
  },
  "language_info": {
   "codemirror_mode": {
    "name": "ipython",
    "version": 2
   },
   "file_extension": ".py",
   "mimetype": "text/x-python",
   "name": "python",
   "nbconvert_exporter": "python",
   "pygments_lexer": "ipython2",
   "version": "2.7.11"
  }
 },
 "nbformat": 4,
 "nbformat_minor": 0
}
