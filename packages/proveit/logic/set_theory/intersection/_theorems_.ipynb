{
 "cells": [
  {
   "cell_type": "markdown",
   "metadata": {
    "collapsed": true,
    "deletable": true,
    "editable": true
   },
   "source": [
    "Theorems for context <a href=\"_context_.ipynb\" class=\"ProveItLink\">proveit.logic.set_theory.intersection</a>\n",
    "========"
   ]
  },
  {
   "cell_type": "code",
   "execution_count": 1,
   "metadata": {
    "collapsed": false,
    "deletable": true,
    "editable": true
   },
   "outputs": [
    {
     "name": "stdout",
     "output_type": "stream",
     "text": [
      "Defining theorems for context 'proveit.logic.set_theory.intersection'\n",
      "Subsequent end-of-cell assignments will define theorems\n",
      "%end_theorems will finalize the definitions\n"
     ]
    }
   ],
   "source": [
    "from proveit import Etcetera\n",
    "from proveit.logic import Forall, Equals, Or, And, InSet, NotInSet, Intersect\n",
    "from proveit._common_ import A, B, Amulti, Aetc, x\n",
    "%begin_theorems"
   ]
  },
  {
   "cell_type": "code",
   "execution_count": 2,
   "metadata": {
    "collapsed": false,
    "deletable": true,
    "editable": true
   },
   "outputs": [
    {
     "data": {
      "text/html": [
       "<strong id=\"membershipUnfolding\"><a class=\"ProveItLink\" href=\"_proofs_\\membershipUnfolding.ipynb\" target=\"_blank\">membershipUnfolding</a>:</strong> <a href=\"__pv_it\\da98d65b02a111e5db3da601a6a74d714cb6cd920\\expr.ipynb\" target=\"_blank\"><img src=\"__pv_it\\da98d65b02a111e5db3da601a6a74d714cb6cd920\\expr.png\" style=\"display:inline;vertical-align:middle;\" /></a><br>"
      ],
      "text/plain": [
       "membershipUnfolding: forall_{x, A_{#} | (x in ( .. intersect A_{#} intersect .. ))} ( .. and (x in A_{#}) and .. )"
      ]
     },
     "execution_count": 2,
     "metadata": {},
     "output_type": "execute_result"
    }
   ],
   "source": [
    "membershipUnfolding = Forall((x, Amulti), And(Etcetera(InSet(x, Amulti))), \n",
    "                             conditions=[InSet(x, Intersect(Aetc))])"
   ]
  },
  {
   "cell_type": "code",
   "execution_count": 3,
   "metadata": {
    "collapsed": false,
    "deletable": true,
    "editable": true
   },
   "outputs": [
    {
     "data": {
      "text/html": [
       "<strong id=\"membershipFolding\"><a class=\"ProveItLink\" href=\"_proofs_\\membershipFolding.ipynb\" target=\"_blank\">membershipFolding</a>:</strong> <a href=\"__pv_it\\cb139a3405b1d5851337d8322a9fde40e93b3eee0\\expr.ipynb\" target=\"_blank\"><img src=\"__pv_it\\cb139a3405b1d5851337d8322a9fde40e93b3eee0\\expr.png\" style=\"display:inline;vertical-align:middle;\" /></a><br>"
      ],
      "text/plain": [
       "membershipFolding: forall_{x, A_{#} | ( .. and (x in A_{#}) and .. )} (x in ( .. intersect A_{#} intersect .. ))"
      ]
     },
     "execution_count": 3,
     "metadata": {},
     "output_type": "execute_result"
    }
   ],
   "source": [
    "membershipFolding = Forall((x, Amulti), InSet(x, Intersect(Aetc)), \n",
    "                           conditions=[And(Etcetera(InSet(x, Amulti)))])"
   ]
  },
  {
   "cell_type": "code",
   "execution_count": 4,
   "metadata": {
    "collapsed": false,
    "deletable": true,
    "editable": true
   },
   "outputs": [
    {
     "data": {
      "text/html": [
       "<strong id=\"nonmembershipEquiv\"><a class=\"ProveItLink\" href=\"_proofs_\\nonmembershipEquiv.ipynb\" target=\"_blank\">nonmembershipEquiv</a>:</strong> <a href=\"__pv_it\\017557b03e19e86b76498fc09b1f9642a6828b810\\expr.ipynb\" target=\"_blank\"><img src=\"__pv_it\\017557b03e19e86b76498fc09b1f9642a6828b810\\expr.png\" style=\"display:inline;vertical-align:middle;\" /></a><br>"
      ],
      "text/plain": [
       "nonmembershipEquiv: forall_{x, A_{#}} ((x not-in ( .. intersect A_{#} intersect .. )) = ( .. or (x not-in A_{#}) or .. ))"
      ]
     },
     "execution_count": 4,
     "metadata": {},
     "output_type": "execute_result"
    }
   ],
   "source": [
    "nonmembershipEquiv = Forall((x, Amulti), Equals(NotInSet(x, Intersect(Aetc)), \n",
    "                                                Or(Etcetera(NotInSet(x, Amulti)))))"
   ]
  },
  {
   "cell_type": "code",
   "execution_count": 5,
   "metadata": {
    "collapsed": false,
    "deletable": true,
    "editable": true
   },
   "outputs": [
    {
     "data": {
      "text/html": [
       "<strong id=\"nonmembershipFolding\"><a class=\"ProveItLink\" href=\"_proofs_\\nonmembershipFolding.ipynb\" target=\"_blank\">nonmembershipFolding</a>:</strong> <a href=\"__pv_it\\285d62d054ff693628af052fb7e55b5cbf2c04f40\\expr.ipynb\" target=\"_blank\"><img src=\"__pv_it\\285d62d054ff693628af052fb7e55b5cbf2c04f40\\expr.png\" style=\"display:inline;vertical-align:middle;\" /></a><br>"
      ],
      "text/plain": [
       "nonmembershipFolding: forall_{x, A_{#} | ( .. or (x not-in A_{#}) or .. )} (x not-in ( .. intersect A_{#} intersect .. ))"
      ]
     },
     "execution_count": 5,
     "metadata": {},
     "output_type": "execute_result"
    }
   ],
   "source": [
    "nonmembershipFolding = Forall((x, Amulti), NotInSet(x, Intersect(Aetc)), \n",
    "                              conditions=[Or(Etcetera(NotInSet(x, Amulti)))])\n"
   ]
  },
  {
   "cell_type": "code",
   "execution_count": 6,
   "metadata": {
    "collapsed": false,
    "deletable": true,
    "editable": true
   },
   "outputs": [
    {
     "name": "stdout",
     "output_type": "stream",
     "text": [
      "Theorems may be imported from autogenerated _theorems_.py\n"
     ]
    }
   ],
   "source": [
    "%end_theorems"
   ]
  }
 ],
 "metadata": {
  "kernelspec": {
   "display_name": "Python 2",
   "language": "python",
   "name": "python2"
  },
  "language_info": {
   "codemirror_mode": {
    "name": "ipython",
    "version": 2
   },
   "file_extension": ".py",
   "mimetype": "text/x-python",
   "name": "python",
   "nbconvert_exporter": "python",
   "pygments_lexer": "ipython2",
   "version": "2.7.11"
  }
 },
 "nbformat": 4,
 "nbformat_minor": 0
}
