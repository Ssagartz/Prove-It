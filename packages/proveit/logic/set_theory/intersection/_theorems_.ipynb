{
 "cells": [
  {
   "cell_type": "markdown",
   "metadata": {
    "collapsed": true,
    "deletable": true,
    "editable": true
   },
   "source": [
    "Theorems for context <a href=\"_context_.ipynb\">proveit.logic.set_theory.intersection</a>\n",
    "========"
   ]
  },
  {
   "cell_type": "code",
   "execution_count": null,
   "metadata": {
    "collapsed": false,
    "deletable": true,
    "editable": true
   },
   "outputs": [],
   "source": [
    "from proveit import Etcetera\n",
    "from proveit.logic import Forall, Equals, Or, And, InSet, NotInSet, Intersect\n",
    "from proveit._common_ import A, B, Amulti, Aetc, x\n",
    "%begin_theorems"
   ]
  },
  {
   "cell_type": "code",
   "execution_count": null,
   "metadata": {
    "collapsed": false
   },
   "outputs": [],
   "source": [
    "membershipUnfolding = Forall((x, Amulti), And(Etcetera(InSet(x, Amulti))), \n",
    "                             conditions=[InSet(x, Intersect(Aetc))])"
   ]
  },
  {
   "cell_type": "code",
   "execution_count": null,
   "metadata": {
    "collapsed": false
   },
   "outputs": [],
   "source": [
    "membershipFolding = Forall((x, Amulti), InSet(x, Intersect(Aetc)), \n",
    "                           conditions=[And(Etcetera(InSet(x, Amulti)))])"
   ]
  },
  {
   "cell_type": "code",
   "execution_count": null,
   "metadata": {
    "collapsed": false
   },
   "outputs": [],
   "source": [
    "nonmembershipEquiv = Forall((x, Amulti), Equals(NotInSet(x, Intersect(Aetc)), \n",
    "                                                Or(Etcetera(NotInSet(x, Amulti)))))"
   ]
  },
  {
   "cell_type": "code",
   "execution_count": null,
   "metadata": {
    "collapsed": false
   },
   "outputs": [],
   "source": [
    "nonmembershipFolding = Forall((x, Amulti), NotInSet(x, Intersect(Aetc)), \n",
    "                              conditions=[Or(Etcetera(NotInSet(x, Amulti)))])\n"
   ]
  },
  {
   "cell_type": "code",
   "execution_count": null,
   "metadata": {
    "collapsed": true
   },
   "outputs": [],
   "source": []
  }
 ],
 "metadata": {
  "kernelspec": {
   "display_name": "Python 2",
   "language": "python",
   "name": "python2"
  },
  "language_info": {
   "codemirror_mode": {
    "name": "ipython",
    "version": 2
   },
   "file_extension": ".py",
   "mimetype": "text/x-python",
   "name": "python",
   "nbconvert_exporter": "python",
   "pygments_lexer": "ipython2",
   "version": "2.7.11"
  }
 },
 "nbformat": 4,
 "nbformat_minor": 0
}