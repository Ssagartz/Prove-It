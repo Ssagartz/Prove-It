{
 "cells": [
  {
   "cell_type": "markdown",
   "metadata": {
    "collapsed": true,
    "deletable": true,
    "editable": true
   },
   "source": [
    "Axioms for context <a href=\"_context_.ipynb\" class=\"ProveItLink\">proveit.logic.set_theory.disjointness</a>\n",
    "========"
   ]
  },
  {
   "cell_type": "code",
   "execution_count": 1,
   "metadata": {
    "collapsed": false,
    "deletable": true,
    "editable": true,
    "scrolled": true
   },
   "outputs": [
    {
     "name": "stdout",
     "output_type": "stream",
     "text": [
      "Defining axioms for context 'proveit.logic.set_theory.disjointness'\n",
      "Subsequent end-of-cell assignments will define axioms\n",
      "%end_axioms will finalize the definitions\n"
     ]
    }
   ],
   "source": [
    "from proveit.logic import Forall, Iff, Equals, And, Distinct, Disjoint, Intersect, EmptySet, NotInSet, Set\n",
    "from proveit._common_ import l, m, y, A, B, X\n",
    "from proveit.logic._common_ import iterA1m, xIter1l\n",
    "from proveit.logic.set_theory._common_ import iter_x_singletons\n",
    "from proveit.number import Naturals, NaturalsPos\n",
    "%begin axioms"
   ]
  },
  {
   "cell_type": "markdown",
   "metadata": {
    "deletable": true,
    "editable": true
   },
   "source": [
    "**An empty collection of sets are mutually disjoint simply because there are no pairs:**"
   ]
  },
  {
   "cell_type": "code",
   "execution_count": 2,
   "metadata": {
    "collapsed": false,
    "deletable": true,
    "editable": true
   },
   "outputs": [
    {
     "data": {
      "text/html": [
       "<strong id=\"vacuouslyDisjoint\">vacuouslyDisjoint:</strong> <a class=\"ProveItLink\" href=\"__pv_it\\0cc91fe8882e3526e5cb4b50f7509c4f2d6c08580\\expr.ipynb\"><img src=\"__pv_it\\0cc91fe8882e3526e5cb4b50f7509c4f2d6c08580\\expr.png\" style=\"display:inline;vertical-align:middle;\" /></a><br>"
      ],
      "text/plain": [
       "vacuouslyDisjoint: disjoint()"
      ]
     },
     "execution_count": 2,
     "metadata": {},
     "output_type": "execute_result"
    }
   ],
   "source": [
    "vacuouslyDisjoint = Disjoint()"
   ]
  },
  {
   "cell_type": "markdown",
   "metadata": {
    "deletable": true,
    "editable": true
   },
   "source": [
    "**Define `disjoint` for a pair of sets to mean that the intersection of the pair is the empty set:**"
   ]
  },
  {
   "cell_type": "code",
   "execution_count": 3,
   "metadata": {
    "collapsed": false,
    "deletable": true,
    "editable": true
   },
   "outputs": [
    {
     "data": {
      "text/html": [
       "<strong id=\"disjointPairDef\">disjointPairDef:</strong> <a class=\"ProveItLink\" href=\"__pv_it\\debb72b4066965535d008968b5ff069ef5fd12ef0\\expr.ipynb\"><img src=\"__pv_it\\debb72b4066965535d008968b5ff069ef5fd12ef0\\expr.png\" style=\"display:inline;vertical-align:middle;\" /></a><br>"
      ],
      "text/plain": [
       "disjointPairDef: forall_{A, B} (disjoint(A , B) <=> ((A intersect B) = emptyset))"
      ]
     },
     "execution_count": 3,
     "metadata": {},
     "output_type": "execute_result"
    }
   ],
   "source": [
    "disjointPairDef = Forall((A, B), Iff(Disjoint(A, B), Equals(Intersect(A, B), EmptySet)))"
   ]
  },
  {
   "cell_type": "markdown",
   "metadata": {
    "deletable": true,
    "editable": true
   },
   "source": [
    "**Define `disjoint` (mutually disjoint) through induction: adding a set to a `disjoint` collection will maintain disjointness if and only if the new set is disjoint with all of the sets in the original collection:**"
   ]
  },
  {
   "cell_type": "code",
   "execution_count": 4,
   "metadata": {
    "collapsed": false,
    "deletable": true,
    "editable": true
   },
   "outputs": [
    {
     "data": {
      "text/html": [
       "<strong id=\"disjointInduction\">disjointInduction:</strong> <a class=\"ProveItLink\" href=\"__pv_it\\df360aa87c0f628e4963c09262a044c38c7cb2e40\\expr.ipynb\"><img src=\"__pv_it\\df360aa87c0f628e4963c09262a044c38c7cb2e40\\expr.png\" style=\"display:inline;vertical-align:middle;\" /></a><br>"
      ],
      "text/plain": [
       "disjointInduction: forall_{m in Naturals} [forall_{A_(1),...,A_(m), B} (disjoint(A_(1) ,  ...  , A_(m) , B) <=> (disjoint(A_(1) ,  ...  , A_(m)) and [forall_{X in {A_(1) ,  ...  , A_(m)}} disjoint(X , B)]))]"
      ]
     },
     "execution_count": 4,
     "metadata": {},
     "output_type": "execute_result"
    }
   ],
   "source": [
    "disjointInduction = Forall(m, Forall((iterA1m, B),\n",
    "                                     Iff(Disjoint(iterA1m, B),\n",
    "                                         And(Disjoint(iterA1m),\n",
    "                                             Forall(X, Disjoint(X, B),\n",
    "                                                    domain=Set(iterA1m))))),\n",
    "                           domain=Naturals)"
   ]
  },
  {
   "cell_type": "markdown",
   "metadata": {
    "deletable": true,
    "editable": true
   },
   "source": [
    "**Elements being `distinct` is the same as their associated singletons being `disjoint`:**"
   ]
  },
  {
   "cell_type": "code",
   "execution_count": 5,
   "metadata": {
    "collapsed": false,
    "deletable": true,
    "editable": true
   },
   "outputs": [
    {
     "data": {
      "text/html": [
       "<strong id=\"distinctDef\">distinctDef:</strong> <a class=\"ProveItLink\" href=\"__pv_it\\edc8507ed36ddf8b4d41bc001c0cfdf2528af2b40\\expr.ipynb\"><img src=\"__pv_it\\edc8507ed36ddf8b4d41bc001c0cfdf2528af2b40\\expr.png\" style=\"display:inline;vertical-align:middle;\" /></a><br>"
      ],
      "text/plain": [
       "distinctDef: forall_{l in NaturalsPos} [forall_{x_(1),...,x_(l)} (distinct(x_(1) ,  ...  , x_(l)) = disjoint({x_(1)} ,  ...  , {x_(l)}))]"
      ]
     },
     "execution_count": 5,
     "metadata": {},
     "output_type": "execute_result"
    }
   ],
   "source": [
    "distinctDef = Forall(l, Forall(xIter1l, \n",
    "                               Equals(Distinct(xIter1l), \n",
    "                                      Disjoint(iter_x_singletons))),\n",
    "                    domain=NaturalsPos)"
   ]
  },
  {
   "cell_type": "code",
   "execution_count": 6,
   "metadata": {
    "collapsed": false,
    "deletable": true,
    "editable": true
   },
   "outputs": [
    {
     "name": "stdout",
     "output_type": "stream",
     "text": [
      "Adding axiom vacuouslyDisjoint to proveit.logic.set_theory.disjointness context\n",
      "Adding axiom disjointPairDef to proveit.logic.set_theory.disjointness context\n",
      "Adding axiom disjointInduction to proveit.logic.set_theory.disjointness context\n",
      "Adding axiom distinctDef to proveit.logic.set_theory.disjointness context\n",
      "distinctDef expression notebook is being updated\n",
      "disjointInduction expression notebook is being updated\n",
      "disjointPairDef expression notebook is being updated\n",
      "vacuouslyDisjoint expression notebook is being updated\n",
      "Axioms may be imported from autogenerated _axioms_.py\n"
     ]
    }
   ],
   "source": [
    "%end axioms"
   ]
  },
  {
   "cell_type": "code",
   "execution_count": 7,
   "metadata": {
    "collapsed": true
   },
   "outputs": [],
   "source": []
  },
  {
   "cell_type": "code",
   "execution_count": 7,
   "metadata": {
    "collapsed": true
   },
   "outputs": [],
   "source": []
  }
 ],
 "metadata": {
  "kernelspec": {
   "display_name": "Python 2",
   "language": "python",
   "name": "python2"
  },
  "language_info": {
   "codemirror_mode": {
    "name": "ipython",
    "version": 2
   },
   "file_extension": ".py",
   "mimetype": "text/x-python",
   "name": "python",
   "nbconvert_exporter": "python",
   "pygments_lexer": "ipython2",
   "version": "2.7.11"
  }
 },
 "nbformat": 4,
 "nbformat_minor": 0
}
