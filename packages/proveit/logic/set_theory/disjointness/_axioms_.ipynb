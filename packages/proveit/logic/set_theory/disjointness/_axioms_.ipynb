{
 "cells": [
  {
   "cell_type": "markdown",
   "metadata": {
    "collapsed": true,
    "deletable": true,
    "editable": true
   },
   "source": [
    "Axioms for context <a href=\"_context_.ipynb\">proveit.logic.set_theory.disjointness</a>\n",
    "========"
   ]
  },
  {
   "cell_type": "code",
   "execution_count": 1,
   "metadata": {
    "collapsed": false,
    "deletable": true,
    "editable": true,
    "scrolled": true
   },
   "outputs": [
    {
     "name": "stdout",
     "output_type": "stream",
     "text": [
      "Defining axioms for context 'proveit.logic.set_theory.disjointness'\n",
      "Subsequent end-of-cell assignments will define axioms\n",
      "%end_axioms will finalize the definitions\n"
     ]
    }
   ],
   "source": [
    "from proveit import Etcetera\n",
    "from proveit.logic import Forall, Iff, Equals, And, Distinct, Disjoint, Intersect, EmptySet, NotInSet, Set\n",
    "from proveit._common_ import A, Amulti, Aetc, B, X, xMulti, xEtc, y\n",
    "%begin_axioms"
   ]
  },
  {
   "cell_type": "markdown",
   "metadata": {
    "deletable": true,
    "editable": true
   },
   "source": [
    "**An empty collection of sets are mutually disjoint simply because there are no pairs:**"
   ]
  },
  {
   "cell_type": "code",
   "execution_count": 2,
   "metadata": {
    "collapsed": false,
    "deletable": true,
    "editable": true
   },
   "outputs": [
    {
     "data": {
      "text/html": [
       "<strong id=\"vacuouslyDisjoint\">vacuouslyDisjoint:</strong> <a href=\"__pv_it\\014636a05c92bc582e92ff14a1de35e5d454f1440\\expr.ipynb\" target=\"_blank\"><img src=\"__pv_it\\014636a05c92bc582e92ff14a1de35e5d454f1440\\expr.png\" style=\"display:inline;vertical-align:middle;\" /></a><br>"
      ],
      "text/plain": [
       "vacuouslyDisjoint: disjoint()"
      ]
     },
     "execution_count": 2,
     "metadata": {},
     "output_type": "execute_result"
    }
   ],
   "source": [
    "vacuouslyDisjoint = Disjoint()"
   ]
  },
  {
   "cell_type": "markdown",
   "metadata": {
    "deletable": true,
    "editable": true
   },
   "source": [
    "**Define `disjoint` for a pair of sets to mean that the intersection of the pair is the empty set:**"
   ]
  },
  {
   "cell_type": "code",
   "execution_count": 3,
   "metadata": {
    "collapsed": false,
    "deletable": true,
    "editable": true
   },
   "outputs": [
    {
     "data": {
      "text/html": [
       "<strong id=\"disjointPairDef\">disjointPairDef:</strong> <a href=\"__pv_it\\966383116ff0a1eadb95371fbe6114215f28a9100\\expr.ipynb\" target=\"_blank\"><img src=\"__pv_it\\966383116ff0a1eadb95371fbe6114215f28a9100\\expr.png\" style=\"display:inline;vertical-align:middle;\" /></a><br>"
      ],
      "text/plain": [
       "disjointPairDef: forall_{A, B} (disjoint(A,B) <=> ((A intersect B) = emptyset))"
      ]
     },
     "execution_count": 3,
     "metadata": {},
     "output_type": "execute_result"
    }
   ],
   "source": [
    "disjointPairDef = Forall((A, B), Iff(Disjoint(A, B), Equals(Intersect(A, B), EmptySet)))"
   ]
  },
  {
   "cell_type": "markdown",
   "metadata": {
    "deletable": true,
    "editable": true
   },
   "source": [
    "**Define `disjoint` (mutually disjoint) through induction: adding a set to a `disjoint` collection will maintain disjointness if and only if the new set is disjoint with all of the sets in the original collection:**"
   ]
  },
  {
   "cell_type": "code",
   "execution_count": 4,
   "metadata": {
    "collapsed": false,
    "deletable": true,
    "editable": true
   },
   "outputs": [
    {
     "data": {
      "text/html": [
       "<strong id=\"disjointInduction\">disjointInduction:</strong> <a href=\"__pv_it\\b486bd2158e8728cba328c55e084b68ba2e018190\\expr.ipynb\" target=\"_blank\"><img src=\"__pv_it\\b486bd2158e8728cba328c55e084b68ba2e018190\\expr.png\" style=\"display:inline;vertical-align:middle;\" /></a><br>"
      ],
      "text/plain": [
       "disjointInduction: forall_{A_{#}} [forall_{B} (disjoint( ..,A_{#},.. ,B) <=> (disjoint( ..,A_{#},.. ) and [forall_{X in { ..,A_{#},.. }} disjoint(X,B)]))]"
      ]
     },
     "execution_count": 4,
     "metadata": {},
     "output_type": "execute_result"
    }
   ],
   "source": [
    "disjointInduction = Forall(Amulti, Forall(B, Iff(Disjoint(Aetc, B),\n",
    "                                                 And(Disjoint(Aetc), Forall(X, Disjoint(X, B), domain=Set(Aetc))))))"
   ]
  },
  {
   "cell_type": "markdown",
   "metadata": {
    "deletable": true,
    "editable": true
   },
   "source": [
    "**Elements being `distinct` is the same as their associated singletons being `disjoint`:**"
   ]
  },
  {
   "cell_type": "code",
   "execution_count": 5,
   "metadata": {
    "collapsed": false,
    "deletable": true,
    "editable": true
   },
   "outputs": [
    {
     "data": {
      "text/html": [
       "<strong id=\"distinctDef\">distinctDef:</strong> <a href=\"__pv_it\\5a2dceeb706ee8d84c894c2552b711c7940e1f160\\expr.ipynb\" target=\"_blank\"><img src=\"__pv_it\\5a2dceeb706ee8d84c894c2552b711c7940e1f160\\expr.png\" style=\"display:inline;vertical-align:middle;\" /></a><br>"
      ],
      "text/plain": [
       "distinctDef: forall_{x_{*}} (distinct( ..,x_{*},.. ) = disjoint( ..,{x_{*}},.. ))"
      ]
     },
     "execution_count": 5,
     "metadata": {},
     "output_type": "execute_result"
    }
   ],
   "source": [
    "distinctDef = Forall(xMulti, Equals(Distinct(xEtc), Disjoint(Etcetera(Set(xMulti)))))"
   ]
  },
  {
   "cell_type": "code",
   "execution_count": 6,
   "metadata": {
    "collapsed": false,
    "deletable": true,
    "editable": true
   },
   "outputs": [
    {
     "name": "stdout",
     "output_type": "stream",
     "text": [
      "Axioms may be imported from autogenerated _axioms_.py\n"
     ]
    }
   ],
   "source": [
    "%end_axioms"
   ]
  }
 ],
 "metadata": {
  "kernelspec": {
   "display_name": "Python 2",
   "language": "python",
   "name": "python2"
  },
  "language_info": {
   "codemirror_mode": {
    "name": "ipython",
    "version": 2
   },
   "file_extension": ".py",
   "mimetype": "text/x-python",
   "name": "python",
   "nbconvert_exporter": "python",
   "pygments_lexer": "ipython2",
   "version": "2.7.11"
  }
 },
 "nbformat": 4,
 "nbformat_minor": 0
}
