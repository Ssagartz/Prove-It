{
 "cells": [
  {
   "cell_type": "markdown",
   "metadata": {
    "collapsed": true,
    "deletable": true,
    "editable": true
   },
   "source": [
    "Proof of <a class=\\\"ProveItLink\\\" href=\\\"..\\\\..\\\\..\\\\..\\\\_context_.ipynb\\\">proveit</a>.<a class=\\\"ProveItLink\\\" href=\\\"..\\\\..\\\\..\\\\_context_.ipynb\\\">logic</a>.<a class=\\\"ProveItLink\\\" href=\\\"..\\\\..\\\\_context_.ipynb\\\">set_theory</a>.<a class=\\\"ProveItLink\\\" href=\\\"..\\\\_context_.ipynb\\\">comprehension</a>.<a href=\"../_theorems_.ipynb#foldBasicComprehension\" class=\"ProveItLink\">foldBasicComprehension</a> theorem\n",
    "========\n",
    "*** see <a href=\"../__pv_it/975f6aeb886115b8aea1b557e02cb54df466e49b0/dependencies.ipynb\" class=\"ProveItLink\">dependencies</a> ***"
   ]
  },
  {
   "cell_type": "code",
   "execution_count": 1,
   "metadata": {
    "collapsed": true,
    "deletable": true,
    "editable": true
   },
   "outputs": [
    {
     "name": "stdout",
     "output_type": "stream",
     "text": [
      "Recorded 'presuming' information\n"
     ]
    },
    {
     "name": "stdout",
     "output_type": "stream",
     "text": [
      "Presuming previous theorems in this context (and any of their dependencies).\n",
      "Beginning proof of\n"
     ]
    },
    {
     "data": {
      "text/html": [
       "<strong id=\"foldBasicComprehension\">foldBasicComprehension:</strong> <a href=\"..\\__pv_it\\975f6aeb886115b8aea1b557e02cb54df466e49b0\\expr.ipynb\" target=\"_blank\"><img src=\"..\\__pv_it\\975f6aeb886115b8aea1b557e02cb54df466e49b0\\expr.png\" style=\"display:inline;vertical-align:middle;\" /></a><br>(see <a class=\"ProveItLink\" href=\"..\\__pv_it\\975f6aeb886115b8aea1b557e02cb54df466e49b0\\dependencies.ipynb\" target=\"_blank\">dependencies</a>)"
      ],
      "text/plain": [
       "foldBasicComprehension: forall_{S, Q_{#}} [forall_{x in S |  ..,Q_{#}(x),.. } (x in {y s.t.  ..,Q_{#}(y),.. }_{y in S})]"
      ]
     },
     "execution_count": 1,
     "metadata": {},
     "output_type": "execute_result"
    }
   ],
   "source": [
    "import proveit\n",
    "%begin_proof foldBasicComprehension presuming []"
   ]
  },
  {
   "cell_type": "code",
   "execution_count": 2,
   "metadata": {
    "collapsed": true,
    "deletable": true,
    "editable": true
   },
   "outputs": [],
   "source": []
  }
 ],
 "metadata": {
  "kernelspec": {
   "display_name": "Python 2",
   "language": "python",
   "name": "python2"
  },
  "language_info": {
   "codemirror_mode": {
    "name": "ipython",
    "version": 2
   },
   "file_extension": ".py",
   "mimetype": "text/x-python",
   "name": "python",
   "nbconvert_exporter": "python",
   "pygments_lexer": "ipython2",
   "version": "2.7.11"
  }
 },
 "nbformat": 4,
 "nbformat_minor": 0
}
