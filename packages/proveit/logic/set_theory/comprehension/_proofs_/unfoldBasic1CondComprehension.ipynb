{
 "cells": [
  {
   "cell_type": "markdown",
   "metadata": {
    "collapsed": true,
    "deletable": true,
    "editable": true
   },
   "source": [
    "Proof of <a class=\\\"ProveItLink\\\" href=\\\"..\\\\..\\\\..\\\\..\\\\_context_.ipynb\\\">proveit</a>.<a class=\\\"ProveItLink\\\" href=\\\"..\\\\..\\\\..\\\\_context_.ipynb\\\">logic</a>.<a class=\\\"ProveItLink\\\" href=\\\"..\\\\..\\\\_context_.ipynb\\\">set_theory</a>.<a class=\\\"ProveItLink\\\" href=\\\"..\\\\_context_.ipynb\\\">comprehension</a>.<a href=\"../_theorems_.ipynb#unfoldBasic1CondComprehension\" class=\"ProveItLink\">unfoldBasic1CondComprehension</a> theorem\n",
    "========\n",
    "*** see <a href=\"../__pv_it/26f4fcf4cd5b7d45edf5f3314b23890f5b50cd0b0/dependencies.ipynb\" class=\"ProveItLink\">dependencies</a> ***"
   ]
  },
  {
   "cell_type": "code",
   "execution_count": 1,
   "metadata": {
    "collapsed": true
   },
   "outputs": [],
   "source": [
    "import proveit"
   ]
  },
  {
   "cell_type": "code",
   "execution_count": 2,
   "metadata": {
    "collapsed": true,
    "deletable": true,
    "editable": true
   },
   "outputs": [
    {
     "name": "stdout",
     "output_type": "stream",
     "text": [
      "Recorded 'presuming' information\n"
     ]
    },
    {
     "name": "stdout",
     "output_type": "stream",
     "text": [
      "Presuming previous theorems in this context (and any of their dependencies).\n",
      "Beginning proof of\n"
     ]
    },
    {
     "data": {
      "text/html": [
       "<strong id=\"unfoldBasic1CondComprehension\">unfoldBasic1CondComprehension:</strong> <a href=\"..\\__pv_it\\26f4fcf4cd5b7d45edf5f3314b23890f5b50cd0b0\\expr.ipynb\" target=\"_blank\"><img src=\"..\\__pv_it\\26f4fcf4cd5b7d45edf5f3314b23890f5b50cd0b0\\expr.png\" style=\"display:inline;vertical-align:middle;\" /></a><br>(see <a class=\"ProveItLink\" href=\"..\\__pv_it\\26f4fcf4cd5b7d45edf5f3314b23890f5b50cd0b0\\dependencies.ipynb\" target=\"_blank\">dependencies</a>)"
      ],
      "text/plain": [
       "unfoldBasic1CondComprehension: forall_{S, Q} [forall_{x in {y s.t. Q(y)}_{y in S}} ((x in S) and Q(x))]"
      ]
     },
     "execution_count": 2,
     "metadata": {},
     "output_type": "execute_result"
    }
   ],
   "source": [
    "%begin_proof unfoldBasic1CondComprehension presuming []"
   ]
  },
  {
   "cell_type": "code",
   "execution_count": 3,
   "metadata": {
    "collapsed": true,
    "deletable": true,
    "editable": true
   },
   "outputs": [],
   "source": []
  }
 ],
 "metadata": {
  "kernelspec": {
   "display_name": "Python 2",
   "language": "python",
   "name": "python2"
  },
  "language_info": {
   "codemirror_mode": {
    "name": "ipython",
    "version": 2
   },
   "file_extension": ".py",
   "mimetype": "text/x-python",
   "name": "python",
   "nbconvert_exporter": "python",
   "pygments_lexer": "ipython2",
   "version": "2.7.11"
  }
 },
 "nbformat": 4,
 "nbformat_minor": 0
}
