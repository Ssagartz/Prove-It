{
 "cells": [
  {
   "cell_type": "markdown",
   "metadata": {
    "collapsed": true,
    "deletable": true,
    "editable": true
   },
   "source": [
    "Theorems for context <a href=\"_context_.ipynb\">proveit.logic.set_theory.comprehension</a>\n",
    "========"
   ]
  },
  {
   "cell_type": "code",
   "execution_count": null,
   "metadata": {
    "collapsed": false,
    "deletable": true,
    "editable": true
   },
   "outputs": [],
   "source": [
    "from proveit.logic import Forall, Exists, And, Implies, Equals, InSet, SubsetEq, SetOfAll\n",
    "from proveit._common_ import f, x, y, S, yMulti, fyEtc, Q, Qx, Qy, Qmulti, etc_Qx, etc_Qy, etc_QyEtc\n",
    "%begin_theorems"
   ]
  },
  {
   "cell_type": "code",
   "execution_count": null,
   "metadata": {
    "collapsed": false,
    "deletable": true,
    "editable": true
   },
   "outputs": [],
   "source": [
    "unfoldComprehension = Forall((S, Qmulti, f, x), Implies(InSet(x, SetOfAll(yMulti, fyEtc, domain=S, conditions=etc_QyEtc)), \n",
    "                                                        Exists(yMulti, Equals(x, fyEtc), domain=S, conditions=etc_QyEtc)))"
   ]
  },
  {
   "cell_type": "code",
   "execution_count": null,
   "metadata": {
    "collapsed": false,
    "deletable": true,
    "editable": true
   },
   "outputs": [],
   "source": [
    "foldComprehension = Forall((S, Qmulti, f, x), Implies(Exists(yMulti, Equals(x, fyEtc), domain=S, conditions=etc_QyEtc), \n",
    "                                                      InSet(x, SetOfAll(yMulti, fyEtc, domain=S, conditions=etc_QyEtc))))"
   ]
  },
  {
   "cell_type": "code",
   "execution_count": null,
   "metadata": {
    "collapsed": false,
    "deletable": true,
    "editable": true
   },
   "outputs": [],
   "source": [
    "basicComprehension = Forall((S, Qmulti, x), Equals(InSet(x, SetOfAll(y, y, domain=S, conditions=etc_Qy)), \n",
    "                                                   And(InSet(x, S), etc_Qx)))"
   ]
  },
  {
   "cell_type": "code",
   "execution_count": null,
   "metadata": {
    "collapsed": false,
    "deletable": true,
    "editable": true
   },
   "outputs": [],
   "source": [
    "unfoldBasicComprehension = Forall((S, Qmulti), Forall(x, And(InSet(x, S), etc_Qx), \n",
    "                                                      domain=SetOfAll(y, y, domain=S, conditions=etc_Qy)))"
   ]
  },
  {
   "cell_type": "code",
   "execution_count": null,
   "metadata": {
    "collapsed": false,
    "deletable": true,
    "editable": true
   },
   "outputs": [],
   "source": [
    "unfoldBasic1CondComprehension = Forall((S, Q), Forall(x, And(InSet(x, S), Qx), \n",
    "                                                      domain=SetOfAll(y, y, domain=S, conditions=Qy)))"
   ]
  },
  {
   "cell_type": "code",
   "execution_count": null,
   "metadata": {
    "collapsed": false,
    "deletable": true,
    "editable": true
   },
   "outputs": [],
   "source": [
    "inSupersetIfInComprehension = Forall((S, Qmulti), Forall(x, InSet(x, S), \n",
    "                                                         domain=SetOfAll(y, y, domain=S, conditions=etc_Qy)))"
   ]
  },
  {
   "cell_type": "code",
   "execution_count": null,
   "metadata": {
    "collapsed": false,
    "deletable": true,
    "editable": true
   },
   "outputs": [],
   "source": [
    "comprehensionIsSubset = Forall((S, Qmulti), SubsetEq(SetOfAll(x, x, domain=S, conditions=etc_Qx), \n",
    "                                                     S))"
   ]
  },
  {
   "cell_type": "code",
   "execution_count": null,
   "metadata": {
    "collapsed": false,
    "deletable": true,
    "editable": true
   },
   "outputs": [],
   "source": [
    "foldBasicComprehension = Forall((S, Qmulti), Forall(x, InSet(x, SetOfAll(y, y, domain=S, conditions=etc_Qy)), \n",
    "                                                    domain=S, conditions=[etc_Qx]))"
   ]
  },
  {
   "cell_type": "code",
   "execution_count": null,
   "metadata": {
    "collapsed": false,
    "deletable": true,
    "editable": true
   },
   "outputs": [],
   "source": [
    "%end_theorems"
   ]
  },
  {
   "cell_type": "code",
   "execution_count": null,
   "metadata": {
    "collapsed": true
   },
   "outputs": [],
   "source": []
  }
 ],
 "metadata": {
  "kernelspec": {
   "display_name": "Python 2",
   "language": "python",
   "name": "python2"
  },
  "language_info": {
   "codemirror_mode": {
    "name": "ipython",
    "version": 2
   },
   "file_extension": ".py",
   "mimetype": "text/x-python",
   "name": "python",
   "nbconvert_exporter": "python",
   "pygments_lexer": "ipython2",
   "version": "2.7.11"
  }
 },
 "nbformat": 4,
 "nbformat_minor": 0
}