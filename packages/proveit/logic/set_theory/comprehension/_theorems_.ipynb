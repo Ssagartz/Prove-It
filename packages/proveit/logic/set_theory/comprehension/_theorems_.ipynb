{
 "cells": [
  {
   "cell_type": "markdown",
   "metadata": {
    "collapsed": true,
    "deletable": true,
    "editable": true
   },
   "source": [
    "Theorems for context <a href=\"_context_.ipynb\" class=\"ProveItLink\">proveit.logic.set_theory.comprehension</a>\n",
    "========"
   ]
  },
  {
   "cell_type": "code",
   "execution_count": 1,
   "metadata": {
    "collapsed": false,
    "deletable": true,
    "editable": true
   },
   "outputs": [
    {
     "name": "stdout",
     "output_type": "stream",
     "text": [
      "Defining theorems for context 'proveit.logic.set_theory.comprehension'\n",
      "Subsequent end-of-cell assignments will define theorems\n",
      "'%end theorems' will finalize the definitions\n"
     ]
    }
   ],
   "source": [
    "from proveit.logic import And, Implies, Forall, Equals, InSet, SetOfAll, Exists, SubsetEq\n",
    "from proveit.logic._common_ import iterQ1k, iterQ1k_yIter1l\n",
    "from proveit._common_ import k, l, x, y, S, f, yy\n",
    "from proveit.logic._common_ import yIter1l, f_yIter1l, iterQ1k, iterQ1k_x, iterQ1k_yIter1l\n",
    "from proveit.logic.set_theory._common_ import generalComprehension_fy, basicComprehension_y\n",
    "from proveit.number import Exp, Naturals, NaturalsPos\n",
    "%begin theorems"
   ]
  },
  {
   "cell_type": "code",
   "execution_count": 2,
   "metadata": {
    "collapsed": false,
    "deletable": true,
    "editable": true
   },
   "outputs": [
    {
     "data": {
      "text/html": [
       "<strong id=\"unfold\"><a class=\"ProveItLink\" href=\"_proofs_\\unfold.ipynb\">unfold</a>:</strong> <a class=\"ProveItLink\" href=\"__pv_it\\ec9a4b28307b65fd78fc14953461a6b7ecdd44030\\expr.ipynb\"><img src=\"__pv_it\\ec9a4b28307b65fd78fc14953461a6b7ecdd44030\\expr.png\" style=\"display:inline;vertical-align:middle;\" /></a><br>"
      ],
      "text/plain": [
       "unfold: forall_{(k, l) in Naturals * NaturalsPos} [forall_{S, Q_(1),...,Q_(k), f, x} ((x in {f(y_(1),...,y_(l)) s.t. Q_(1)(y_(1),...,y_(l)) ,  ...  , Q_(k)(y_(1),...,y_(l))}_{y in S^{l}}) \\\\  => [exists_{y in S^{l} | Q_(1)(y_(1),...,y_(l)) ,  ...  , Q_(k)(y_(1),...,y_(l))} (x = f(y_(1),...,y_(l)))])]"
      ]
     },
     "execution_count": 2,
     "metadata": {},
     "output_type": "execute_result"
    }
   ],
   "source": [
    "unfold = Forall((k, l), Forall((S, iterQ1k, f, x), \n",
    "                               Implies(InSet(x, generalComprehension_fy),\n",
    "                                       Exists(yy, Equals(x, f_yIter1l),\n",
    "                                              domain=Exp(S, l),\n",
    "                                              conditions=[iterQ1k_yIter1l])).withWrapBeforeOperator()),\n",
    "                domains=(Naturals, NaturalsPos))"
   ]
  },
  {
   "cell_type": "code",
   "execution_count": 3,
   "metadata": {
    "collapsed": false,
    "deletable": true,
    "editable": true
   },
   "outputs": [
    {
     "data": {
      "text/html": [
       "<strong id=\"fold\"><a class=\"ProveItLink\" href=\"_proofs_\\fold.ipynb\">fold</a>:</strong> <a class=\"ProveItLink\" href=\"__pv_it\\94f41ecfaef45998130a4707138d8335bdf15f0f0\\expr.ipynb\"><img src=\"__pv_it\\94f41ecfaef45998130a4707138d8335bdf15f0f0\\expr.png\" style=\"display:inline;vertical-align:middle;\" /></a><br>"
      ],
      "text/plain": [
       "fold: forall_{(k, l) in Naturals * NaturalsPos} [forall_{S, Q_(1),...,Q_(k), f, x} ([exists_{y in S^{l} | Q_(1)(y_(1),...,y_(l)) ,  ...  , Q_(k)(y_(1),...,y_(l))} (x = f(y_(1),...,y_(l)))] =>  \\\\ (x in {f(y_(1),...,y_(l)) s.t. Q_(1)(y_(1),...,y_(l)) ,  ...  , Q_(k)(y_(1),...,y_(l))}_{y in S^{l}}))]"
      ]
     },
     "execution_count": 3,
     "metadata": {},
     "output_type": "execute_result"
    }
   ],
   "source": [
    "fold = Forall((k, l), Forall((S, iterQ1k, f, x), \n",
    "                             Implies(Exists(yy, Equals(x, f_yIter1l),\n",
    "                                            domain=Exp(S, l),\n",
    "                                            conditions=[iterQ1k_yIter1l]),\n",
    "                                     InSet(x, generalComprehension_fy)).withWrapAfterOperator()),\n",
    "              domains=(Naturals, NaturalsPos))"
   ]
  },
  {
   "cell_type": "code",
   "execution_count": 4,
   "metadata": {
    "collapsed": false,
    "deletable": true,
    "editable": true
   },
   "outputs": [
    {
     "data": {
      "text/html": [
       "<strong id=\"basicComprehension\"><a class=\"ProveItLink\" href=\"_proofs_\\basicComprehension.ipynb\">basicComprehension</a>:</strong> <a class=\"ProveItLink\" href=\"__pv_it\\b27eef8afee089e8dc1b9beb2162a409d493206e0\\expr.ipynb\"><img src=\"__pv_it\\b27eef8afee089e8dc1b9beb2162a409d493206e0\\expr.png\" style=\"display:inline;vertical-align:middle;\" /></a><br>"
      ],
      "text/plain": [
       "basicComprehension: forall_{(k, l) in Naturals * NaturalsPos} [forall_{S, Q_(1),...,Q_(k), x} ((x in {y s.t. Q_(1)(y) ,  ...  , Q_(k)(y)}_{y in S}) \\\\  = ((x in S) and Q_(1)(x) and  ...  and Q_(k)(x)))]"
      ]
     },
     "execution_count": 4,
     "metadata": {},
     "output_type": "execute_result"
    }
   ],
   "source": [
    "basicComprehension = Forall((k, l), Forall((S, iterQ1k, x),\n",
    "                                           Equals(InSet(x, basicComprehension_y),\n",
    "                                                  And(InSet(x, S), iterQ1k_x)).withWrapBeforeOperator()),\n",
    "                          domains=(Naturals, NaturalsPos))"
   ]
  },
  {
   "cell_type": "code",
   "execution_count": 5,
   "metadata": {
    "collapsed": false,
    "deletable": true,
    "editable": true
   },
   "outputs": [
    {
     "data": {
      "text/html": [
       "<strong id=\"unfoldBasicComprehension\"><a class=\"ProveItLink\" href=\"_proofs_\\unfoldBasicComprehension.ipynb\">unfoldBasicComprehension</a>:</strong> <a class=\"ProveItLink\" href=\"__pv_it\\a7dccd8525292be1dd081db057fd3402cc2dcc550\\expr.ipynb\"><img src=\"__pv_it\\a7dccd8525292be1dd081db057fd3402cc2dcc550\\expr.png\" style=\"display:inline;vertical-align:middle;\" /></a><br>"
      ],
      "text/plain": [
       "unfoldBasicComprehension: forall_{k in NaturalsPos} [forall_{S, Q_(1),...,Q_(k)} [forall_{x in {y s.t. Q_(1)(y) ,  ...  , Q_(k)(y)}_{y in S}} ((x in S) and Q_(1)(x) and  ...  and Q_(k)(x))]]"
      ]
     },
     "execution_count": 5,
     "metadata": {},
     "output_type": "execute_result"
    }
   ],
   "source": [
    "unfoldBasicComprehension = Forall(k, Forall((S, iterQ1k), \n",
    "                                            Forall(x, And(InSet(x, S), iterQ1k_x),\n",
    "                                                   domain=basicComprehension_y)),\n",
    "                                  domain=NaturalsPos)"
   ]
  },
  {
   "cell_type": "code",
   "execution_count": 6,
   "metadata": {
    "collapsed": false,
    "deletable": true,
    "editable": true
   },
   "outputs": [
    {
     "data": {
      "text/html": [
       "<strong id=\"inSupersetIfInComprehension\"><a class=\"ProveItLink\" href=\"_proofs_\\inSupersetIfInComprehension.ipynb\">inSupersetIfInComprehension</a>:</strong> <a class=\"ProveItLink\" href=\"__pv_it\\cb22dd394f353148107394b6a7ec6613639bd29e0\\expr.ipynb\"><img src=\"__pv_it\\cb22dd394f353148107394b6a7ec6613639bd29e0\\expr.png\" style=\"display:inline;vertical-align:middle;\" /></a><br>"
      ],
      "text/plain": [
       "inSupersetIfInComprehension: forall_{k in NaturalsPos} [forall_{S, Q_(1),...,Q_(k)} [forall_{x in {y s.t. Q_(1)(y) ,  ...  , Q_(k)(y)}_{y in S}} (x in S)]]"
      ]
     },
     "execution_count": 6,
     "metadata": {},
     "output_type": "execute_result"
    }
   ],
   "source": [
    "inSupersetIfInComprehension = Forall(k, Forall((S, iterQ1k), \n",
    "                                               Forall(x, InSet(x, S), \n",
    "                                                      domain=basicComprehension_y)),\n",
    "                                    domain=NaturalsPos)"
   ]
  },
  {
   "cell_type": "code",
   "execution_count": 7,
   "metadata": {
    "collapsed": false,
    "deletable": true,
    "editable": true
   },
   "outputs": [
    {
     "data": {
      "text/html": [
       "<strong id=\"comprehensionIsSubset\"><a class=\"ProveItLink\" href=\"_proofs_\\comprehensionIsSubset.ipynb\">comprehensionIsSubset</a>:</strong> <a class=\"ProveItLink\" href=\"__pv_it\\fb17d6aa29665037371733eafa44a4ccd9602e620\\expr.ipynb\"><img src=\"__pv_it\\fb17d6aa29665037371733eafa44a4ccd9602e620\\expr.png\" style=\"display:inline;vertical-align:middle;\" /></a><br>"
      ],
      "text/plain": [
       "comprehensionIsSubset: forall_{k in NaturalsPos} [forall_{S, Q_(1),...,Q_(k)} ({y s.t. Q_(1)(y) ,  ...  , Q_(k)(y)}_{y in S} subseteq S)]"
      ]
     },
     "execution_count": 7,
     "metadata": {},
     "output_type": "execute_result"
    }
   ],
   "source": [
    "comprehensionIsSubset = Forall(k, Forall((S, iterQ1k), \n",
    "                                         SubsetEq(basicComprehension_y, S)),\n",
    "                               domain=NaturalsPos)"
   ]
  },
  {
   "cell_type": "code",
   "execution_count": 8,
   "metadata": {
    "collapsed": false,
    "deletable": true,
    "editable": true
   },
   "outputs": [
    {
     "data": {
      "text/html": [
       "<strong id=\"foldBasicComprehension\"><a class=\"ProveItLink\" href=\"_proofs_\\foldBasicComprehension.ipynb\">foldBasicComprehension</a>:</strong> <a class=\"ProveItLink\" href=\"__pv_it\\e20ed2af523f456869afcf353144617a95f905b60\\expr.ipynb\"><img src=\"__pv_it\\e20ed2af523f456869afcf353144617a95f905b60\\expr.png\" style=\"display:inline;vertical-align:middle;\" /></a><br>"
      ],
      "text/plain": [
       "foldBasicComprehension: forall_{k} [forall_{S, Q_(1),...,Q_(k)} [forall_{x in S | Q_(1)(x) ,  ...  , Q_(k)(x)} (x in {y s.t. Q_(1)(y) ,  ...  , Q_(k)(y)}_{y in S})]]"
      ]
     },
     "execution_count": 8,
     "metadata": {},
     "output_type": "execute_result"
    }
   ],
   "source": [
    "foldBasicComprehension = Forall(k, Forall((S, iterQ1k), \n",
    "                                          Forall(x, InSet(x, basicComprehension_y),\n",
    "                                                 domain=S, conditions=[iterQ1k_x])))"
   ]
  },
  {
   "cell_type": "code",
   "execution_count": 9,
   "metadata": {
    "collapsed": false,
    "deletable": true,
    "editable": true
   },
   "outputs": [
    {
     "name": "stdout",
     "output_type": "stream",
     "text": [
      "Theorems may be imported from autogenerated _theorems_.py\n"
     ]
    }
   ],
   "source": [
    "%end theorems"
   ]
  },
  {
   "cell_type": "code",
   "execution_count": 10,
   "metadata": {
    "collapsed": true,
    "deletable": true,
    "editable": true
   },
   "outputs": [],
   "source": []
  }
 ],
 "metadata": {
  "kernelspec": {
   "display_name": "Python 2",
   "language": "python",
   "name": "python2"
  },
  "language_info": {
   "codemirror_mode": {
    "name": "ipython",
    "version": 2
   },
   "file_extension": ".py",
   "mimetype": "text/x-python",
   "name": "python",
   "nbconvert_exporter": "python",
   "pygments_lexer": "ipython2",
   "version": "2.7.11"
  }
 },
 "nbformat": 4,
 "nbformat_minor": 0
}
