{
 "cells": [
  {
   "cell_type": "markdown",
   "metadata": {
    "collapsed": true,
    "deletable": true,
    "editable": true
   },
   "source": [
    "Theorems for context <a href=\"_context_.ipynb\">proveit.logic.set_theory.comprehension</a>\n",
    "========"
   ]
  },
  {
   "cell_type": "code",
   "execution_count": 1,
   "metadata": {
    "collapsed": false,
    "deletable": true,
    "editable": true
   },
   "outputs": [
    {
     "name": "stdout",
     "output_type": "stream",
     "text": [
      "Defining theorems for context 'proveit.logic.set_theory.comprehension'\n",
      "Subsequent end-of-cell assignments will define theorems\n",
      "%end_theorems will finalize the definitions\n"
     ]
    }
   ],
   "source": [
    "from proveit.logic import Forall, Exists, And, Implies, Equals, InSet, SubsetEq, SetOfAll\n",
    "from proveit._common_ import f, x, y, S, yMulti, fyEtc, Q, Qx, Qy, Qmulti, etc_Qx, etc_Qy, etc_QyEtc\n",
    "%begin_theorems"
   ]
  },
  {
   "cell_type": "code",
   "execution_count": 2,
   "metadata": {
    "collapsed": false,
    "deletable": true,
    "editable": true
   },
   "outputs": [
    {
     "data": {
      "text/html": [
       "<strong id=\"unfoldComprehension\"><a class=\"ProveItLink\" href=\"_proofs_\\unfoldComprehension.ipynb\" target=\"_blank\">unfoldComprehension</a>:</strong> <a href=\"__pv_it\\44498b342fd40db49a24fde285edcd5929abf8340\\expr.ipynb\" target=\"_blank\"><img src=\"__pv_it\\44498b342fd40db49a24fde285edcd5929abf8340\\expr.png\" style=\"display:inline;vertical-align:middle;\" /></a><br>"
      ],
      "text/plain": [
       "unfoldComprehension: forall_{S, Q_{#}, f, x} ((x in {f( ..,y_{*},.. ) s.t.  ..,Q_{#}( ..,y_{*},.. ),.. }_{y_{*} in S}) => [exists_{y_{*} in S |  ..,Q_{#}( ..,y_{*},.. ),.. } (x = f( ..,y_{*},.. ))])"
      ]
     },
     "execution_count": 2,
     "metadata": {},
     "output_type": "execute_result"
    }
   ],
   "source": [
    "unfoldComprehension = Forall((S, Qmulti, f, x), Implies(InSet(x, SetOfAll(yMulti, fyEtc, domain=S, conditions=etc_QyEtc)), \n",
    "                                                        Exists(yMulti, Equals(x, fyEtc), domain=S, conditions=etc_QyEtc)))"
   ]
  },
  {
   "cell_type": "code",
   "execution_count": 3,
   "metadata": {
    "collapsed": false,
    "deletable": true,
    "editable": true
   },
   "outputs": [
    {
     "data": {
      "text/html": [
       "<strong id=\"foldComprehension\"><a class=\"ProveItLink\" href=\"_proofs_\\foldComprehension.ipynb\" target=\"_blank\">foldComprehension</a>:</strong> <a href=\"__pv_it\\d0631b2a01f66aa464e9b52abffd99a928cb054b0\\expr.ipynb\" target=\"_blank\"><img src=\"__pv_it\\d0631b2a01f66aa464e9b52abffd99a928cb054b0\\expr.png\" style=\"display:inline;vertical-align:middle;\" /></a><br>"
      ],
      "text/plain": [
       "foldComprehension: forall_{S, Q_{#}, f, x} ([exists_{y_{*} in S |  ..,Q_{#}( ..,y_{*},.. ),.. } (x = f( ..,y_{*},.. ))] => (x in {f( ..,y_{*},.. ) s.t.  ..,Q_{#}( ..,y_{*},.. ),.. }_{y_{*} in S}))"
      ]
     },
     "execution_count": 3,
     "metadata": {},
     "output_type": "execute_result"
    }
   ],
   "source": [
    "foldComprehension = Forall((S, Qmulti, f, x), Implies(Exists(yMulti, Equals(x, fyEtc), domain=S, conditions=etc_QyEtc), \n",
    "                                                      InSet(x, SetOfAll(yMulti, fyEtc, domain=S, conditions=etc_QyEtc))))"
   ]
  },
  {
   "cell_type": "code",
   "execution_count": 4,
   "metadata": {
    "collapsed": false,
    "deletable": true,
    "editable": true
   },
   "outputs": [
    {
     "data": {
      "text/html": [
       "<strong id=\"basicComprehension\"><a class=\"ProveItLink\" href=\"_proofs_\\basicComprehension.ipynb\" target=\"_blank\">basicComprehension</a>:</strong> <a href=\"__pv_it\\af965531058f8ce696fabfbbe8b63a4ea74c10570\\expr.ipynb\" target=\"_blank\"><img src=\"__pv_it\\af965531058f8ce696fabfbbe8b63a4ea74c10570\\expr.png\" style=\"display:inline;vertical-align:middle;\" /></a><br>"
      ],
      "text/plain": [
       "basicComprehension: forall_{S, Q_{#}, x} ((x in {y s.t.  ..,Q_{#}(y),.. }_{y in S}) = ((x in S) and  .. and Q_{#}(x) and .. ))"
      ]
     },
     "execution_count": 4,
     "metadata": {},
     "output_type": "execute_result"
    }
   ],
   "source": [
    "basicComprehension = Forall((S, Qmulti, x), Equals(InSet(x, SetOfAll(y, y, domain=S, conditions=etc_Qy)), \n",
    "                                                   And(InSet(x, S), etc_Qx)))"
   ]
  },
  {
   "cell_type": "code",
   "execution_count": 5,
   "metadata": {
    "collapsed": false,
    "deletable": true,
    "editable": true
   },
   "outputs": [
    {
     "data": {
      "text/html": [
       "<strong id=\"unfoldBasicComprehension\"><a class=\"ProveItLink\" href=\"_proofs_\\unfoldBasicComprehension.ipynb\" target=\"_blank\">unfoldBasicComprehension</a>:</strong> <a href=\"__pv_it\\ca7a29990deb11e5671c678be8e749d09ef208110\\expr.ipynb\" target=\"_blank\"><img src=\"__pv_it\\ca7a29990deb11e5671c678be8e749d09ef208110\\expr.png\" style=\"display:inline;vertical-align:middle;\" /></a><br>"
      ],
      "text/plain": [
       "unfoldBasicComprehension: forall_{S, Q_{#}} [forall_{x in {y s.t.  ..,Q_{#}(y),.. }_{y in S}} ((x in S) and  .. and Q_{#}(x) and .. )]"
      ]
     },
     "execution_count": 5,
     "metadata": {},
     "output_type": "execute_result"
    }
   ],
   "source": [
    "unfoldBasicComprehension = Forall((S, Qmulti), Forall(x, And(InSet(x, S), etc_Qx), \n",
    "                                                      domain=SetOfAll(y, y, domain=S, conditions=etc_Qy)))"
   ]
  },
  {
   "cell_type": "code",
   "execution_count": 6,
   "metadata": {
    "collapsed": false,
    "deletable": true,
    "editable": true
   },
   "outputs": [
    {
     "data": {
      "text/html": [
       "<strong id=\"unfoldBasic1CondComprehension\"><a class=\"ProveItLink\" href=\"_proofs_\\unfoldBasic1CondComprehension.ipynb\" target=\"_blank\">unfoldBasic1CondComprehension</a>:</strong> <a href=\"__pv_it\\26f4fcf4cd5b7d45edf5f3314b23890f5b50cd0b0\\expr.ipynb\" target=\"_blank\"><img src=\"__pv_it\\26f4fcf4cd5b7d45edf5f3314b23890f5b50cd0b0\\expr.png\" style=\"display:inline;vertical-align:middle;\" /></a><br>"
      ],
      "text/plain": [
       "unfoldBasic1CondComprehension: forall_{S, Q} [forall_{x in {y s.t. Q(y)}_{y in S}} ((x in S) and Q(x))]"
      ]
     },
     "execution_count": 6,
     "metadata": {},
     "output_type": "execute_result"
    }
   ],
   "source": [
    "unfoldBasic1CondComprehension = Forall((S, Q), Forall(x, And(InSet(x, S), Qx), \n",
    "                                                      domain=SetOfAll(y, y, domain=S, conditions=Qy)))"
   ]
  },
  {
   "cell_type": "code",
   "execution_count": 7,
   "metadata": {
    "collapsed": false,
    "deletable": true,
    "editable": true
   },
   "outputs": [
    {
     "data": {
      "text/html": [
       "<strong id=\"inSupersetIfInComprehension\"><a class=\"ProveItLink\" href=\"_proofs_\\inSupersetIfInComprehension.ipynb\" target=\"_blank\">inSupersetIfInComprehension</a>:</strong> <a href=\"__pv_it\\30b26353cad019d5e3fa042a74847c015692f9b90\\expr.ipynb\" target=\"_blank\"><img src=\"__pv_it\\30b26353cad019d5e3fa042a74847c015692f9b90\\expr.png\" style=\"display:inline;vertical-align:middle;\" /></a><br>"
      ],
      "text/plain": [
       "inSupersetIfInComprehension: forall_{S, Q_{#}} [forall_{x in {y s.t.  ..,Q_{#}(y),.. }_{y in S}} (x in S)]"
      ]
     },
     "execution_count": 7,
     "metadata": {},
     "output_type": "execute_result"
    }
   ],
   "source": [
    "inSupersetIfInComprehension = Forall((S, Qmulti), Forall(x, InSet(x, S), \n",
    "                                                         domain=SetOfAll(y, y, domain=S, conditions=etc_Qy)))"
   ]
  },
  {
   "cell_type": "code",
   "execution_count": 8,
   "metadata": {
    "collapsed": false,
    "deletable": true,
    "editable": true
   },
   "outputs": [
    {
     "data": {
      "text/html": [
       "<strong id=\"comprehensionIsSubset\"><a class=\"ProveItLink\" href=\"_proofs_\\comprehensionIsSubset.ipynb\" target=\"_blank\">comprehensionIsSubset</a>:</strong> <a href=\"__pv_it\\3789f520db72ad01ef06fa9755928117a385b3370\\expr.ipynb\" target=\"_blank\"><img src=\"__pv_it\\3789f520db72ad01ef06fa9755928117a385b3370\\expr.png\" style=\"display:inline;vertical-align:middle;\" /></a><br>"
      ],
      "text/plain": [
       "comprehensionIsSubset: forall_{S, Q_{#}} ({x s.t.  ..,Q_{#}(x),.. }_{x in S} subseteq S)"
      ]
     },
     "execution_count": 8,
     "metadata": {},
     "output_type": "execute_result"
    }
   ],
   "source": [
    "comprehensionIsSubset = Forall((S, Qmulti), SubsetEq(SetOfAll(x, x, domain=S, conditions=etc_Qx), \n",
    "                                                     S))"
   ]
  },
  {
   "cell_type": "code",
   "execution_count": 9,
   "metadata": {
    "collapsed": false,
    "deletable": true,
    "editable": true
   },
   "outputs": [
    {
     "data": {
      "text/html": [
       "<strong id=\"foldBasicComprehension\"><a class=\"ProveItLink\" href=\"_proofs_\\foldBasicComprehension.ipynb\" target=\"_blank\">foldBasicComprehension</a>:</strong> <a href=\"__pv_it\\975f6aeb886115b8aea1b557e02cb54df466e49b0\\expr.ipynb\" target=\"_blank\"><img src=\"__pv_it\\975f6aeb886115b8aea1b557e02cb54df466e49b0\\expr.png\" style=\"display:inline;vertical-align:middle;\" /></a><br>"
      ],
      "text/plain": [
       "foldBasicComprehension: forall_{S, Q_{#}} [forall_{x in S |  ..,Q_{#}(x),.. } (x in {y s.t.  ..,Q_{#}(y),.. }_{y in S})]"
      ]
     },
     "execution_count": 9,
     "metadata": {},
     "output_type": "execute_result"
    }
   ],
   "source": [
    "foldBasicComprehension = Forall((S, Qmulti), Forall(x, InSet(x, SetOfAll(y, y, domain=S, conditions=etc_Qy)), \n",
    "                                                    domain=S, conditions=[etc_Qx]))"
   ]
  },
  {
   "cell_type": "code",
   "execution_count": 10,
   "metadata": {
    "collapsed": false,
    "deletable": true,
    "editable": true
   },
   "outputs": [
    {
     "name": "stdout",
     "output_type": "stream",
     "text": [
      "Theorems may be imported from autogenerated _theorems_.py\n"
     ]
    }
   ],
   "source": [
    "%end_theorems"
   ]
  },
  {
   "cell_type": "code",
   "execution_count": 11,
   "metadata": {
    "collapsed": true,
    "deletable": true,
    "editable": true
   },
   "outputs": [],
   "source": []
  }
 ],
 "metadata": {
  "kernelspec": {
   "display_name": "Python 2",
   "language": "python",
   "name": "python2"
  },
  "language_info": {
   "codemirror_mode": {
    "name": "ipython",
    "version": 2
   },
   "file_extension": ".py",
   "mimetype": "text/x-python",
   "name": "python",
   "nbconvert_exporter": "python",
   "pygments_lexer": "ipython2",
   "version": "2.7.11"
  }
 },
 "nbformat": 4,
 "nbformat_minor": 0
}
