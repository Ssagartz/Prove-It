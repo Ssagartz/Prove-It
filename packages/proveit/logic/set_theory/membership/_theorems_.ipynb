{
 "cells": [
  {
   "cell_type": "markdown",
   "metadata": {
    "collapsed": true,
    "deletable": true,
    "editable": true
   },
   "source": [
    "Theorems for context <a href=\"_context_.ipynb\" class=\"ProveItLink\">proveit.logic.set_theory.membership</a>\n",
    "========"
   ]
  },
  {
   "cell_type": "code",
   "execution_count": 1,
   "metadata": {
    "collapsed": false,
    "deletable": true,
    "editable": true
   },
   "outputs": [
    {
     "name": "stdout",
     "output_type": "stream",
     "text": [
      "Defining theorems for context 'proveit.logic.set_theory.membership'\n",
      "Subsequent end-of-cell assignments will define theorems\n",
      "'%end theorems' will finalize the definitions\n"
     ]
    }
   ],
   "source": [
    "from proveit import ExprList\n",
    "from proveit.logic import Forall, Not, Equals, InSet, NotInSet, EmptySet\n",
    "import proveit._common_\n",
    "from proveit._common_ import i, x, S\n",
    "from proveit.number import zero, num, Len, Exp\n",
    "%begin theorems"
   ]
  },
  {
   "cell_type": "code",
   "execution_count": 2,
   "metadata": {
    "collapsed": false,
    "deletable": true,
    "editable": true
   },
   "outputs": [
    {
     "data": {
      "text/html": [
       "<strong id=\"exp_set_0\"><a class=\"ProveItLink\" href=\"_proofs_\\exp_set_0.ipynb\">exp_set_0</a>:</strong> <a class=\"ProveItLink\" href=\"__pv_it\\4298b770a2486765574dac38f09d72ecce8d9a5c0\\expr.ipynb\"><img src=\"__pv_it\\4298b770a2486765574dac38f09d72ecce8d9a5c0\\expr.png\" style=\"display:inline;vertical-align:middle;\" /></a><br>"
      ],
      "text/plain": [
       "exp_set_0: forall_{x, S | |x| = 0} (x in S^{0})"
      ]
     },
     "execution_count": 2,
     "metadata": {},
     "output_type": "execute_result"
    }
   ],
   "source": [
    "exp_set_0 = Forall((x, S), InSet(x, Exp(S, zero)), conditions=[Equals(Len(x), zero)])"
   ]
  },
  {
   "cell_type": "code",
   "execution_count": 3,
   "metadata": {
    "collapsed": false,
    "deletable": true,
    "editable": true
   },
   "outputs": [
    {
     "data": {
      "text/html": [
       "<strong id=\"exp_set_1\"><a class=\"ProveItLink\" href=\"_proofs_\\exp_set_1.ipynb\">exp_set_1</a>:</strong> <a class=\"ProveItLink\" href=\"__pv_it\\80da2c8c5ec0c32a9da86459c0163b33706a137e0\\expr.ipynb\"><img src=\"__pv_it\\80da2c8c5ec0c32a9da86459c0163b33706a137e0\\expr.png\" style=\"display:inline;vertical-align:middle;\" /></a><br>\n",
       "<strong id=\"exp_set_2\"><a class=\"ProveItLink\" href=\"_proofs_\\exp_set_2.ipynb\">exp_set_2</a>:</strong> <a class=\"ProveItLink\" href=\"__pv_it\\06ed82b15d3eadc4bc3c13c2b5fda1c4acf5b0440\\expr.ipynb\"><img src=\"__pv_it\\06ed82b15d3eadc4bc3c13c2b5fda1c4acf5b0440\\expr.png\" style=\"display:inline;vertical-align:middle;\" /></a><br>\n",
       "<strong id=\"exp_set_3\"><a class=\"ProveItLink\" href=\"_proofs_\\exp_set_3.ipynb\">exp_set_3</a>:</strong> <a class=\"ProveItLink\" href=\"__pv_it\\46f23c26df119765af46864be4de99d36edc6a560\\expr.ipynb\"><img src=\"__pv_it\\46f23c26df119765af46864be4de99d36edc6a560\\expr.png\" style=\"display:inline;vertical-align:middle;\" /></a><br>\n",
       "<strong id=\"exp_set_4\"><a class=\"ProveItLink\" href=\"_proofs_\\exp_set_4.ipynb\">exp_set_4</a>:</strong> <a class=\"ProveItLink\" href=\"__pv_it\\e912450f005f24cefb0bf1ae6b5cd49a448b547d0\\expr.ipynb\"><img src=\"__pv_it\\e912450f005f24cefb0bf1ae6b5cd49a448b547d0\\expr.png\" style=\"display:inline;vertical-align:middle;\" /></a><br>\n",
       "<strong id=\"exp_set_5\"><a class=\"ProveItLink\" href=\"_proofs_\\exp_set_5.ipynb\">exp_set_5</a>:</strong> <a class=\"ProveItLink\" href=\"__pv_it\\881732c01a45207bed48d295f988bd7dc723c1bd0\\expr.ipynb\"><img src=\"__pv_it\\881732c01a45207bed48d295f988bd7dc723c1bd0\\expr.png\" style=\"display:inline;vertical-align:middle;\" /></a><br>\n",
       "<strong id=\"exp_set_6\"><a class=\"ProveItLink\" href=\"_proofs_\\exp_set_6.ipynb\">exp_set_6</a>:</strong> <a class=\"ProveItLink\" href=\"__pv_it\\b9e9a655bf39d97adbceabec41c59a30d65aa7c30\\expr.ipynb\"><img src=\"__pv_it\\b9e9a655bf39d97adbceabec41c59a30d65aa7c30\\expr.png\" style=\"display:inline;vertical-align:middle;\" /></a><br>\n",
       "<strong id=\"exp_set_7\"><a class=\"ProveItLink\" href=\"_proofs_\\exp_set_7.ipynb\">exp_set_7</a>:</strong> <a class=\"ProveItLink\" href=\"__pv_it\\2135a56cedd00f48d36bd8f55731685149e6fa420\\expr.ipynb\"><img src=\"__pv_it\\2135a56cedd00f48d36bd8f55731685149e6fa420\\expr.png\" style=\"display:inline;vertical-align:middle;\" /></a><br>\n",
       "<strong id=\"exp_set_8\"><a class=\"ProveItLink\" href=\"_proofs_\\exp_set_8.ipynb\">exp_set_8</a>:</strong> <a class=\"ProveItLink\" href=\"__pv_it\\45d62839bb49071e01fc782b4011a3a864ad96a10\\expr.ipynb\"><img src=\"__pv_it\\45d62839bb49071e01fc782b4011a3a864ad96a10\\expr.png\" style=\"display:inline;vertical-align:middle;\" /></a><br>\n",
       "<strong id=\"exp_set_9\"><a class=\"ProveItLink\" href=\"_proofs_\\exp_set_9.ipynb\">exp_set_9</a>:</strong> <a class=\"ProveItLink\" href=\"__pv_it\\da4f0c97b5c56c892c6d600caffbcce8b97bb9be0\\expr.ipynb\"><img src=\"__pv_it\\da4f0c97b5c56c892c6d600caffbcce8b97bb9be0\\expr.png\" style=\"display:inline;vertical-align:middle;\" /></a><br>"
      ],
      "text/plain": [
       "exp_set_1: forall_{S} [forall_{a in S} ((a) in S^{1})]\n",
       "exp_set_2: forall_{S} [forall_{a, b in S} ((a , b) in S^{2})]\n",
       "exp_set_3: forall_{S} [forall_{a, b, c in S} ((a , b , c) in S^{3})]\n",
       "exp_set_4: forall_{S} [forall_{a, b, c, d in S} ((a , b , c , d) in S^{4})]\n",
       "exp_set_5: forall_{S} [forall_{a, b, c, d, e in S} ((a , b , c , d , e) in S^{5})]\n",
       "exp_set_6: forall_{S} [forall_{a, b, c, d, e, f in S} ((a , b , c , d , e , f) in S^{6})]\n",
       "exp_set_7: forall_{S} [forall_{a, b, c, d, e, f, g in S} ((a , b , c , d , e , f , g) in S^{7})]\n",
       "exp_set_8: forall_{S} [forall_{a, b, c, d, e, f, g, h in S} ((a , b , c , d , e , f , g , h) in S^{8})]\n",
       "exp_set_9: forall_{S} [forall_{a, b, c, d, e, f, g, h, i in S} ((a , b , c , d , e , f , g , h , i) in S^{9})]"
      ]
     },
     "execution_count": 3,
     "metadata": {},
     "output_type": "execute_result"
    }
   ],
   "source": [
    "def nvars(n):\n",
    "    return [proveit._common_.__getattr__(chr(ord('a')+k)) for k in xrange(n)]\n",
    "exp_set_1, exp_set_2, exp_set_3, exp_set_4, exp_set_5, exp_set_6, exp_set_7, exp_set_8, exp_set_9 = \\\n",
    "    [Forall(S, Forall(nvars(n), InSet(ExprList(*nvars(n)), Exp(S, num(n))), domain=S)) for n in xrange(1, 10)]"
   ]
  },
  {
   "cell_type": "code",
   "execution_count": 4,
   "metadata": {
    "collapsed": false,
    "deletable": true,
    "editable": true
   },
   "outputs": [
    {
     "data": {
      "text/html": [
       "<strong id=\"unfoldNotInSet\"><a class=\"ProveItLink\" href=\"_proofs_\\unfoldNotInSet.ipynb\">unfoldNotInSet</a>:</strong> <a class=\"ProveItLink\" href=\"__pv_it\\2e0dd8f89ab94aaafcb751e4de51d54d43bc94d60\\expr.ipynb\"><img src=\"__pv_it\\2e0dd8f89ab94aaafcb751e4de51d54d43bc94d60\\expr.png\" style=\"display:inline;vertical-align:middle;\" /></a><br>"
      ],
      "text/plain": [
       "unfoldNotInSet: forall_{x, S | x not-in S} [not](x in S)"
      ]
     },
     "execution_count": 4,
     "metadata": {},
     "output_type": "execute_result"
    }
   ],
   "source": [
    "unfoldNotInSet = Forall((x, S), Not(InSet(x, S)), conditions=[NotInSet(x, S)])"
   ]
  },
  {
   "cell_type": "code",
   "execution_count": 5,
   "metadata": {
    "collapsed": false,
    "deletable": true,
    "editable": true
   },
   "outputs": [
    {
     "data": {
      "text/html": [
       "<strong id=\"foldNotInSet\"><a class=\"ProveItLink\" href=\"_proofs_\\foldNotInSet.ipynb\">foldNotInSet</a>:</strong> <a class=\"ProveItLink\" href=\"__pv_it\\d54c92255ca93a3e1f5de929aaf0603230af9e530\\expr.ipynb\"><img src=\"__pv_it\\d54c92255ca93a3e1f5de929aaf0603230af9e530\\expr.png\" style=\"display:inline;vertical-align:middle;\" /></a><br>"
      ],
      "text/plain": [
       "foldNotInSet: forall_{x, S | [not](x in S)} (x not-in S)"
      ]
     },
     "execution_count": 5,
     "metadata": {},
     "output_type": "execute_result"
    }
   ],
   "source": [
    "foldNotInSet = Forall((x, S), NotInSet(x, S), conditions=[Not(InSet(x, S))])"
   ]
  },
  {
   "cell_type": "code",
   "execution_count": 6,
   "metadata": {
    "collapsed": false,
    "deletable": true,
    "editable": true
   },
   "outputs": [
    {
     "name": "stdout",
     "output_type": "stream",
     "text": [
      "Theorems may be imported from autogenerated _theorems_.py\n"
     ]
    }
   ],
   "source": [
    "%end theorems"
   ]
  },
  {
   "cell_type": "code",
   "execution_count": 7,
   "metadata": {
    "collapsed": true,
    "deletable": true,
    "editable": true
   },
   "outputs": [],
   "source": []
  }
 ],
 "metadata": {
  "kernelspec": {
   "display_name": "Python 2",
   "language": "python",
   "name": "python2"
  },
  "language_info": {
   "codemirror_mode": {
    "name": "ipython",
    "version": 2
   },
   "file_extension": ".py",
   "mimetype": "text/x-python",
   "name": "python",
   "nbconvert_exporter": "python",
   "pygments_lexer": "ipython2",
   "version": "2.7.11"
  }
 },
 "nbformat": 4,
 "nbformat_minor": 0
}
