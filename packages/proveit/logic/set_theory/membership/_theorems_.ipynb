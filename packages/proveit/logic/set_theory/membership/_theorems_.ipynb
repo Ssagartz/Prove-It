{
 "cells": [
  {
   "cell_type": "markdown",
   "metadata": {
    "collapsed": true,
    "deletable": true,
    "editable": true
   },
   "source": [
    "Theorems for context <a href=\"_context_.ipynb\" class=\"ProveItLink\">proveit.logic.set_theory.membership</a>\n",
    "========"
   ]
  },
  {
   "cell_type": "code",
   "execution_count": 1,
   "metadata": {
    "collapsed": false,
    "deletable": true,
    "editable": true
   },
   "outputs": [
    {
     "name": "stdout",
     "output_type": "stream",
     "text": [
      "Defining theorems for context 'proveit.logic.set_theory.membership'\n",
      "Subsequent end-of-cell assignments will define theorems\n",
      "'%end theorems' will finalize the definitions\n"
     ]
    }
   ],
   "source": [
    "from proveit import ExprList\n",
    "from proveit.logic import Forall, Not, Equals, InSet, NotInSet, EmptySet\n",
    "import proveit._common_\n",
    "from proveit._common_ import i, x, S\n",
    "from proveit.number import zero, num, Len, Exp\n",
    "%begin theorems"
   ]
  },
  {
   "cell_type": "code",
   "execution_count": 2,
   "metadata": {
    "collapsed": false
   },
   "outputs": [
    {
     "data": {
      "text/html": [
       "<strong id=\"exp_set_0\"><a class=\"ProveItLink\" href=\"_proofs_\\exp_set_0.ipynb\">exp_set_0</a>:</strong> <a class=\"ProveItLink\" href=\"__pv_it\\96e9ef02faddd34487f2a2dfad715844ac7b98de0\\expr.ipynb\"><img src=\"__pv_it\\96e9ef02faddd34487f2a2dfad715844ac7b98de0\\expr.png\" style=\"display:inline;vertical-align:middle;\" /></a><br>"
      ],
      "text/plain": [
       "exp_set_0: forall_{x, S | |x| = 0} (x in S^{0})"
      ]
     },
     "execution_count": 2,
     "metadata": {},
     "output_type": "execute_result"
    }
   ],
   "source": [
    "exp_set_0 = Forall((x, S), InSet(x, Exp(S, zero)), conditions=[Equals(Len(x), zero)])"
   ]
  },
  {
   "cell_type": "code",
   "execution_count": 3,
   "metadata": {
    "collapsed": false
   },
   "outputs": [
    {
     "data": {
      "text/html": [
       "<strong id=\"exp_set_1\"><a class=\"ProveItLink\" href=\"_proofs_\\exp_set_1.ipynb\">exp_set_1</a>:</strong> <a class=\"ProveItLink\" href=\"__pv_it\\b784f023d7f07bc8ffd39087d7f87baf282700710\\expr.ipynb\"><img src=\"__pv_it\\b784f023d7f07bc8ffd39087d7f87baf282700710\\expr.png\" style=\"display:inline;vertical-align:middle;\" /></a><br>\n",
       "<strong id=\"exp_set_2\"><a class=\"ProveItLink\" href=\"_proofs_\\exp_set_2.ipynb\">exp_set_2</a>:</strong> <a class=\"ProveItLink\" href=\"__pv_it\\b6e48e5bab33fe0b05a466099a69e361b9dfe59f0\\expr.ipynb\"><img src=\"__pv_it\\b6e48e5bab33fe0b05a466099a69e361b9dfe59f0\\expr.png\" style=\"display:inline;vertical-align:middle;\" /></a><br>\n",
       "<strong id=\"exp_set_3\"><a class=\"ProveItLink\" href=\"_proofs_\\exp_set_3.ipynb\">exp_set_3</a>:</strong> <a class=\"ProveItLink\" href=\"__pv_it\\b8652b393465b34eb1ab2702ebac957e7acab4a40\\expr.ipynb\"><img src=\"__pv_it\\b8652b393465b34eb1ab2702ebac957e7acab4a40\\expr.png\" style=\"display:inline;vertical-align:middle;\" /></a><br>\n",
       "<strong id=\"exp_set_4\"><a class=\"ProveItLink\" href=\"_proofs_\\exp_set_4.ipynb\">exp_set_4</a>:</strong> <a class=\"ProveItLink\" href=\"__pv_it\\f7e11007fd87ce16168fa9c3281fa02cd002748c0\\expr.ipynb\"><img src=\"__pv_it\\f7e11007fd87ce16168fa9c3281fa02cd002748c0\\expr.png\" style=\"display:inline;vertical-align:middle;\" /></a><br>\n",
       "<strong id=\"exp_set_5\"><a class=\"ProveItLink\" href=\"_proofs_\\exp_set_5.ipynb\">exp_set_5</a>:</strong> <a class=\"ProveItLink\" href=\"__pv_it\\1a350ce100d9465f0a6946d50719ad9eb7e771f10\\expr.ipynb\"><img src=\"__pv_it\\1a350ce100d9465f0a6946d50719ad9eb7e771f10\\expr.png\" style=\"display:inline;vertical-align:middle;\" /></a><br>\n",
       "<strong id=\"exp_set_6\"><a class=\"ProveItLink\" href=\"_proofs_\\exp_set_6.ipynb\">exp_set_6</a>:</strong> <a class=\"ProveItLink\" href=\"__pv_it\\9ac9fb8f8df252ea7d50040678109bdae64193b50\\expr.ipynb\"><img src=\"__pv_it\\9ac9fb8f8df252ea7d50040678109bdae64193b50\\expr.png\" style=\"display:inline;vertical-align:middle;\" /></a><br>\n",
       "<strong id=\"exp_set_7\"><a class=\"ProveItLink\" href=\"_proofs_\\exp_set_7.ipynb\">exp_set_7</a>:</strong> <a class=\"ProveItLink\" href=\"__pv_it\\6a6271c08816ff5e8985fb6528ae5820cb453bf60\\expr.ipynb\"><img src=\"__pv_it\\6a6271c08816ff5e8985fb6528ae5820cb453bf60\\expr.png\" style=\"display:inline;vertical-align:middle;\" /></a><br>\n",
       "<strong id=\"exp_set_8\"><a class=\"ProveItLink\" href=\"_proofs_\\exp_set_8.ipynb\">exp_set_8</a>:</strong> <a class=\"ProveItLink\" href=\"__pv_it\\51f994326271bf9a59f82dc9ce157ee404ec3c510\\expr.ipynb\"><img src=\"__pv_it\\51f994326271bf9a59f82dc9ce157ee404ec3c510\\expr.png\" style=\"display:inline;vertical-align:middle;\" /></a><br>\n",
       "<strong id=\"exp_set_9\"><a class=\"ProveItLink\" href=\"_proofs_\\exp_set_9.ipynb\">exp_set_9</a>:</strong> <a class=\"ProveItLink\" href=\"__pv_it\\86dd772789ba694acb4b5c1a2881ae260fb3cc280\\expr.ipynb\"><img src=\"__pv_it\\86dd772789ba694acb4b5c1a2881ae260fb3cc280\\expr.png\" style=\"display:inline;vertical-align:middle;\" /></a><br>"
      ],
      "text/plain": [
       "exp_set_1: forall_{S} [forall_{a in S} ((a) in S^{1})]\n",
       "exp_set_2: forall_{S} [forall_{a, b in S} ((a , b) in S^{2})]\n",
       "exp_set_3: forall_{S} [forall_{a, b, c in S} ((a , b , c) in S^{3})]\n",
       "exp_set_4: forall_{S} [forall_{a, b, c, d in S} ((a , b , c , d) in S^{4})]\n",
       "exp_set_5: forall_{S} [forall_{a, b, c, d, e in S} ((a , b , c , d , e) in S^{5})]\n",
       "exp_set_6: forall_{S} [forall_{a, b, c, d, e, f in S} ((a , b , c , d , e , f) in S^{6})]\n",
       "exp_set_7: forall_{S} [forall_{a, b, c, d, e, f, g in S} ((a , b , c , d , e , f , g) in S^{7})]\n",
       "exp_set_8: forall_{S} [forall_{a, b, c, d, e, f, g, h in S} ((a , b , c , d , e , f , g , h) in S^{8})]\n",
       "exp_set_9: forall_{S} [forall_{a, b, c, d, e, f, g, h, i in S} ((a , b , c , d , e , f , g , h , i) in S^{9})]"
      ]
     },
     "execution_count": 3,
     "metadata": {},
     "output_type": "execute_result"
    }
   ],
   "source": [
    "def nvars(n):\n",
    "    return [proveit._common_.__getattr__(chr(ord('a')+k)) for k in xrange(n)]\n",
    "exp_set_1, exp_set_2, exp_set_3, exp_set_4, exp_set_5, exp_set_6, exp_set_7, exp_set_8, exp_set_9 = \\\n",
    "    [Forall(S, Forall(nvars(n), InSet(ExprList(*nvars(n)), Exp(S, num(n))), domain=S)) for n in xrange(1, 10)]"
   ]
  },
  {
   "cell_type": "code",
   "execution_count": 4,
   "metadata": {
    "collapsed": false,
    "deletable": true,
    "editable": true
   },
   "outputs": [
    {
     "data": {
      "text/html": [
       "<strong id=\"unfoldNotInSet\"><a class=\"ProveItLink\" href=\"_proofs_\\unfoldNotInSet.ipynb\">unfoldNotInSet</a>:</strong> <a class=\"ProveItLink\" href=\"__pv_it\\d3ca07aed1918e9f8372804c4de2858aa21cbfcc0\\expr.ipynb\"><img src=\"__pv_it\\d3ca07aed1918e9f8372804c4de2858aa21cbfcc0\\expr.png\" style=\"display:inline;vertical-align:middle;\" /></a><br>"
      ],
      "text/plain": [
       "unfoldNotInSet: forall_{x, S | x not-in S} [not](x in S)"
      ]
     },
     "execution_count": 4,
     "metadata": {},
     "output_type": "execute_result"
    }
   ],
   "source": [
    "unfoldNotInSet = Forall((x, S), Not(InSet(x, S)), conditions=[NotInSet(x, S)])"
   ]
  },
  {
   "cell_type": "code",
   "execution_count": 5,
   "metadata": {
    "collapsed": false,
    "deletable": true,
    "editable": true
   },
   "outputs": [
    {
     "data": {
      "text/html": [
       "<strong id=\"foldNotInSet\"><a class=\"ProveItLink\" href=\"_proofs_\\foldNotInSet.ipynb\">foldNotInSet</a>:</strong> <a class=\"ProveItLink\" href=\"__pv_it\\ea6b6de868c02772befe0b339898d61d71e2ea9d0\\expr.ipynb\"><img src=\"__pv_it\\ea6b6de868c02772befe0b339898d61d71e2ea9d0\\expr.png\" style=\"display:inline;vertical-align:middle;\" /></a><br>"
      ],
      "text/plain": [
       "foldNotInSet: forall_{x, S | [not](x in S)} (x not-in S)"
      ]
     },
     "execution_count": 5,
     "metadata": {},
     "output_type": "execute_result"
    }
   ],
   "source": [
    "foldNotInSet = Forall((x, S), NotInSet(x, S), conditions=[Not(InSet(x, S))])"
   ]
  },
  {
   "cell_type": "code",
   "execution_count": 6,
   "metadata": {
    "collapsed": false,
    "deletable": true,
    "editable": true
   },
   "outputs": [
    {
     "name": "stdout",
     "output_type": "stream",
     "text": [
      "Theorems may be imported from autogenerated _theorems_.py\n"
     ]
    }
   ],
   "source": [
    "%end theorems"
   ]
  },
  {
   "cell_type": "code",
   "execution_count": null,
   "metadata": {
    "collapsed": true
   },
   "outputs": [],
   "source": []
  }
 ],
 "metadata": {
  "kernelspec": {
   "display_name": "Python 2",
   "language": "python",
   "name": "python2"
  },
  "language_info": {
   "codemirror_mode": {
    "name": "ipython",
    "version": 2
   },
   "file_extension": ".py",
   "mimetype": "text/x-python",
   "name": "python",
   "nbconvert_exporter": "python",
   "pygments_lexer": "ipython2",
   "version": "2.7.11"
  }
 },
 "nbformat": 4,
 "nbformat_minor": 0
}
