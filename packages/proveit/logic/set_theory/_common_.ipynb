{
 "cells": [
  {
   "cell_type": "markdown",
   "metadata": {
    "collapsed": true,
    "deletable": true,
    "editable": true
   },
   "source": [
    "Common expressions for context <a href=\"_context_.ipynb\" class=\"ProveItLink\">proveit.logic.set_theory</a>\n",
    "========"
   ]
  },
  {
   "cell_type": "code",
   "execution_count": 1,
   "metadata": {
    "collapsed": false,
    "deletable": true,
    "editable": true,
    "scrolled": true
   },
   "outputs": [
    {
     "name": "stdout",
     "output_type": "stream",
     "text": [
      "Defining common sub-expressions for context 'proveit.logic.set_theory'\n",
      "Subsequent end-of-cell assignments will define common sub-expressions\n",
      "%end_common will finalize the definitions\n"
     ]
    }
   ],
   "source": [
    "import proveit\n",
    "from proveit import Lambda, Iter, Indexed\n",
    "from proveit._common_ import i, l, m, n, x, y, xx, yy, S, AA\n",
    "from proveit.logic import And, Or, Equals, NotEquals, Set, InSet, NotInSet, SetOfAll\n",
    "from proveit.logic._common_ import yIter1l, f_yIter1l, iterA1m, iterQ1k_y, iterQ1k_yIter1l\n",
    "from proveit.number import one, Exp\n",
    "from empty_set import EmptySetLiteral\n",
    "%begin common"
   ]
  },
  {
   "cell_type": "code",
   "execution_count": 2,
   "metadata": {
    "collapsed": false,
    "deletable": true,
    "editable": true
   },
   "outputs": [
    {
     "data": {
      "text/html": [
       "<strong id=\"EmptySet\">EmptySet:</strong> <a class=\"ProveItLink\" href=\"__pv_it\\a1840c5aa3e17b4f28e5e0844d37e58325ff6fdb0\\expr.ipynb\"><img src=\"__pv_it\\a1840c5aa3e17b4f28e5e0844d37e58325ff6fdb0\\expr.png\" style=\"display:inline;vertical-align:middle;\" /></a><br>"
      ],
      "text/plain": [
       "EmptySet: emptyset"
      ]
     },
     "execution_count": 2,
     "metadata": {},
     "output_type": "execute_result"
    }
   ],
   "source": [
    "EmptySet = EmptySetLiteral()"
   ]
  },
  {
   "cell_type": "code",
   "execution_count": 3,
   "metadata": {
    "collapsed": false
   },
   "outputs": [
    {
     "data": {
      "text/html": [
       "<strong id=\"each_x_in_S\">each_x_in_S:</strong> <a class=\"ProveItLink\" href=\"__pv_it\\5bf1b8c3b9e07062d17cd5f4993f57da735a89b10\\expr.ipynb\"><img src=\"__pv_it\\5bf1b8c3b9e07062d17cd5f4993f57da735a89b10\\expr.png\" style=\"display:inline;vertical-align:middle;\" /></a><br>"
      ],
      "text/plain": [
       "each_x_in_S: (x_(1) in S),...,(x_(n) in S)"
      ]
     },
     "execution_count": 3,
     "metadata": {},
     "output_type": "execute_result"
    }
   ],
   "source": [
    "each_x_in_S = Iter(Lambda(i, InSet(Indexed(xx, i), S)), one, n)"
   ]
  },
  {
   "cell_type": "code",
   "execution_count": 4,
   "metadata": {
    "collapsed": false
   },
   "outputs": [
    {
     "data": {
      "text/html": [
       "<strong id=\"x_equals_any_y\">x_equals_any_y:</strong> <a class=\"ProveItLink\" href=\"__pv_it\\c26725469f181ce4fd5f62e76a951de33e51fe9f0\\expr.ipynb\"><img src=\"__pv_it\\c26725469f181ce4fd5f62e76a951de33e51fe9f0\\expr.png\" style=\"display:inline;vertical-align:middle;\" /></a><br>"
      ],
      "text/plain": [
       "x_equals_any_y: (x = y_(1)) or  ...  or (x = y_(l))"
      ]
     },
     "execution_count": 4,
     "metadata": {},
     "output_type": "execute_result"
    }
   ],
   "source": [
    "x_equals_any_y = Or(Iter(Lambda(i, Equals(x, Indexed(yy, i))), one, l))"
   ]
  },
  {
   "cell_type": "code",
   "execution_count": 5,
   "metadata": {
    "collapsed": false
   },
   "outputs": [
    {
     "data": {
      "text/html": [
       "<strong id=\"x_notequals_all_y\">x_notequals_all_y:</strong> <a class=\"ProveItLink\" href=\"__pv_it\\2b4951cbccd3eddc2a74ac048a962e674582c7570\\expr.ipynb\"><img src=\"__pv_it\\2b4951cbccd3eddc2a74ac048a962e674582c7570\\expr.png\" style=\"display:inline;vertical-align:middle;\" /></a><br>"
      ],
      "text/plain": [
       "x_notequals_all_y: (x != y_(1)) and  ...  and (x != y_(l))"
      ]
     },
     "execution_count": 5,
     "metadata": {},
     "output_type": "execute_result"
    }
   ],
   "source": [
    "x_notequals_all_y = And(Iter(Lambda(i, NotEquals(x, Indexed(yy, i))), one, l))"
   ]
  },
  {
   "cell_type": "code",
   "execution_count": 6,
   "metadata": {
    "collapsed": false
   },
   "outputs": [
    {
     "data": {
      "text/html": [
       "<strong id=\"x_in_any_A\">x_in_any_A:</strong> <a class=\"ProveItLink\" href=\"__pv_it\\ec8893de27ba4bc56b77b4d94f620f2bba6211310\\expr.ipynb\"><img src=\"__pv_it\\ec8893de27ba4bc56b77b4d94f620f2bba6211310\\expr.png\" style=\"display:inline;vertical-align:middle;\" /></a><br>"
      ],
      "text/plain": [
       "x_in_any_A: (x in A_(1)) or  ...  or (x in A_(m))"
      ]
     },
     "execution_count": 6,
     "metadata": {},
     "output_type": "execute_result"
    }
   ],
   "source": [
    "x_in_any_A = Or(Iter(Lambda(i, InSet(x, Indexed(AA, i))), one, m))"
   ]
  },
  {
   "cell_type": "code",
   "execution_count": 7,
   "metadata": {
    "collapsed": false
   },
   "outputs": [
    {
     "data": {
      "text/html": [
       "<strong id=\"x_notin_all_A\">x_notin_all_A:</strong> <a class=\"ProveItLink\" href=\"__pv_it\\2e2ed890d77ab2d2a335f5610c060ce10fd106570\\expr.ipynb\"><img src=\"__pv_it\\2e2ed890d77ab2d2a335f5610c060ce10fd106570\\expr.png\" style=\"display:inline;vertical-align:middle;\" /></a><br>"
      ],
      "text/plain": [
       "x_notin_all_A: (x not-in A_(1)) and  ...  and (x not-in A_(m))"
      ]
     },
     "execution_count": 7,
     "metadata": {},
     "output_type": "execute_result"
    }
   ],
   "source": [
    "x_notin_all_A = And(Iter(Lambda(i, NotInSet(x, Indexed(AA, i))), one, m))"
   ]
  },
  {
   "cell_type": "code",
   "execution_count": 8,
   "metadata": {
    "collapsed": false
   },
   "outputs": [
    {
     "data": {
      "text/html": [
       "<strong id=\"x_in_every_A\">x_in_every_A:</strong> <a class=\"ProveItLink\" href=\"__pv_it\\c66a601f6d94e69b5187c44b3f47493532b0ffe80\\expr.ipynb\"><img src=\"__pv_it\\c66a601f6d94e69b5187c44b3f47493532b0ffe80\\expr.png\" style=\"display:inline;vertical-align:middle;\" /></a><br>"
      ],
      "text/plain": [
       "x_in_every_A: (x in A_(1)) and  ...  and (x in A_(m))"
      ]
     },
     "execution_count": 8,
     "metadata": {},
     "output_type": "execute_result"
    }
   ],
   "source": [
    "x_in_every_A = And(Iter(Lambda(i, InSet(x, Indexed(AA, i))), one, m))"
   ]
  },
  {
   "cell_type": "code",
   "execution_count": 9,
   "metadata": {
    "collapsed": false
   },
   "outputs": [
    {
     "data": {
      "text/html": [
       "<strong id=\"x_notin_some_A\">x_notin_some_A:</strong> <a class=\"ProveItLink\" href=\"__pv_it\\8ed8ad7f228715c7735b2badbd57a39d3852fad90\\expr.ipynb\"><img src=\"__pv_it\\8ed8ad7f228715c7735b2badbd57a39d3852fad90\\expr.png\" style=\"display:inline;vertical-align:middle;\" /></a><br>"
      ],
      "text/plain": [
       "x_notin_some_A: (x not-in A_(1)) or  ...  or (x not-in A_(m))"
      ]
     },
     "execution_count": 9,
     "metadata": {},
     "output_type": "execute_result"
    }
   ],
   "source": [
    "x_notin_some_A = Or(Iter(Lambda(i, NotInSet(x, Indexed(AA, i))), one, m))"
   ]
  },
  {
   "cell_type": "code",
   "execution_count": 10,
   "metadata": {
    "collapsed": false
   },
   "outputs": [
    {
     "data": {
      "text/html": [
       "<strong id=\"iter_x_singletons\">iter_x_singletons:</strong> <a class=\"ProveItLink\" href=\"__pv_it\\36531f0f4a80cf7e80ef504ba30fdb39b32614750\\expr.ipynb\"><img src=\"__pv_it\\36531f0f4a80cf7e80ef504ba30fdb39b32614750\\expr.png\" style=\"display:inline;vertical-align:middle;\" /></a><br>"
      ],
      "text/plain": [
       "iter_x_singletons: {x_(1)},...,{x_(l)}"
      ]
     },
     "execution_count": 10,
     "metadata": {},
     "output_type": "execute_result"
    }
   ],
   "source": [
    "iter_x_singletons = Iter(Lambda(i, Set(Indexed(xx, i))), one, l)"
   ]
  },
  {
   "cell_type": "code",
   "execution_count": 11,
   "metadata": {
    "collapsed": false
   },
   "outputs": [
    {
     "data": {
      "text/html": [
       "<strong id=\"generalComprehension_fy\">generalComprehension_fy:</strong> <a class=\"ProveItLink\" href=\"__pv_it\\b4beac88aeb5f5ee4d61a56647e21968a8023a380\\expr.ipynb\"><img src=\"__pv_it\\b4beac88aeb5f5ee4d61a56647e21968a8023a380\\expr.png\" style=\"display:inline;vertical-align:middle;\" /></a><br>"
      ],
      "text/plain": [
       "generalComprehension_fy: {f(y_(1),...,y_(l)) s.t. Q_(1)(y_(1),...,y_(l)) ,  ...  , Q_(k)(y_(1),...,y_(l))}_{y in S^{l}}"
      ]
     },
     "execution_count": 11,
     "metadata": {},
     "output_type": "execute_result"
    }
   ],
   "source": [
    "generalComprehension_fy = SetOfAll(yy, f_yIter1l, Exp(S, l), conditions=[iterQ1k_yIter1l])"
   ]
  },
  {
   "cell_type": "code",
   "execution_count": 12,
   "metadata": {
    "collapsed": false
   },
   "outputs": [
    {
     "data": {
      "text/html": [
       "<strong id=\"basicComprehension_y\">basicComprehension_y:</strong> <a class=\"ProveItLink\" href=\"__pv_it\\4be06d086ea09f6326d923aa1df73bd300f0cd320\\expr.ipynb\"><img src=\"__pv_it\\4be06d086ea09f6326d923aa1df73bd300f0cd320\\expr.png\" style=\"display:inline;vertical-align:middle;\" /></a><br>"
      ],
      "text/plain": [
       "basicComprehension_y: {y s.t. Q_(1)(y) ,  ...  , Q_(k)(y)}_{y in S}"
      ]
     },
     "execution_count": 12,
     "metadata": {},
     "output_type": "execute_result"
    }
   ],
   "source": [
    "basicComprehension_y = SetOfAll(y, y, S, conditions=[iterQ1k_y])"
   ]
  },
  {
   "cell_type": "code",
   "execution_count": 13,
   "metadata": {
    "collapsed": false,
    "deletable": true,
    "editable": true,
    "scrolled": true
   },
   "outputs": [
    {
     "name": "stdout",
     "output_type": "stream",
     "text": [
      "Common expressions may be imported from autogenerated _common_.py\n"
     ]
    }
   ],
   "source": [
    "%end common"
   ]
  },
  {
   "cell_type": "code",
   "execution_count": 14,
   "metadata": {
    "collapsed": true,
    "deletable": true,
    "editable": true
   },
   "outputs": [],
   "source": []
  }
 ],
 "metadata": {
  "kernelspec": {
   "display_name": "Python 2",
   "language": "python",
   "name": "python2"
  },
  "language_info": {
   "codemirror_mode": {
    "name": "ipython",
    "version": 2
   },
   "file_extension": ".py",
   "mimetype": "text/x-python",
   "name": "python",
   "nbconvert_exporter": "python",
   "pygments_lexer": "ipython2",
   "version": "2.7.11"
  }
 },
 "nbformat": 4,
 "nbformat_minor": 0
}
