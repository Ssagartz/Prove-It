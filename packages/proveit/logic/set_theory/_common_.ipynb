{
 "cells": [
  {
   "cell_type": "markdown",
   "metadata": {
    "collapsed": true,
    "deletable": true,
    "editable": true
   },
   "source": [
    "Common expressions for context <a href=\"_context_.ipynb\" class=\"ProveItLink\">proveit.logic.set_theory</a>\n",
    "========"
   ]
  },
  {
   "cell_type": "code",
   "execution_count": 1,
   "metadata": {
    "collapsed": false,
    "deletable": true,
    "editable": true,
    "scrolled": true
   },
   "outputs": [
    {
     "name": "stdout",
     "output_type": "stream",
     "text": [
      "Unset common expression __path__ <type 'exceptions.KeyError'>\n",
      "(get common) putting A in context c:\\users\\wwitzel\\prove-it\\packages\\proveit\n",
      "(get common) putting B in context c:\\users\\wwitzel\\prove-it\\packages\\proveit\n",
      "(get common) putting P in context c:\\users\\wwitzel\\prove-it\\packages\\proveit\n",
      "(get common) putting R in context c:\\users\\wwitzel\\prove-it\\packages\\proveit\n",
      "(get common) putting S in context c:\\users\\wwitzel\\prove-it\\packages\\proveit\n",
      "(get common) putting x in context c:\\users\\wwitzel\\prove-it\\packages\\proveit\n",
      "(get common) putting y in context c:\\users\\wwitzel\\prove-it\\packages\\proveit\n",
      "(get common) putting Q in context c:\\users\\wwitzel\\prove-it\\packages\\proveit\n",
      "Unset common expression __path__ <type 'exceptions.KeyError'>\n",
      "(get common) putting Q in context c:\\users\\wwitzel\\prove-it\\packages\\proveit\n",
      "Unset common expression __path__ <type 'exceptions.KeyError'>\n",
      "(get common) putting R in context c:\\users\\wwitzel\\prove-it\\packages\\proveit\n",
      "Unset common expression __path__ <type 'exceptions.KeyError'>\n",
      "Unset common expression __path__ <type 'exceptions.KeyError'>\n",
      "Unset common expression __path__ <type 'exceptions.KeyError'>\n",
      "Unset common expression __path__ <type 'exceptions.KeyError'>\n",
      "(get common) putting C in context c:\\users\\wwitzel\\prove-it\\packages\\proveit\n",
      "(get common) putting A in context c:\\users\\wwitzel\\prove-it\\packages\\proveit\n",
      "(get common) putting C in context c:\\users\\wwitzel\\prove-it\\packages\\proveit\n",
      "Unset common expression __path__ <type 'exceptions.KeyError'>\n",
      "(get common) putting x in context c:\\users\\wwitzel\\prove-it\\packages\\proveit\n",
      "(get common) putting y in context c:\\users\\wwitzel\\prove-it\\packages\\proveit\n",
      "Unset common expression __path__ <type 'exceptions.KeyError'>\n",
      "Unset common expression __path__ <type 'exceptions.KeyError'>\n",
      "Unset common expression __path__ <type 'exceptions.KeyError'>\n",
      "Unset common expression __path__ <type 'exceptions.KeyError'>\n",
      "Unset common expression __path__ <type 'exceptions.KeyError'>\n",
      "Unset common expression __path__ <type 'exceptions.KeyError'>\n",
      "(get common) putting f in context c:\\users\\wwitzel\\prove-it\\packages\\proveit\n",
      "Unset common expression __path__ <type 'exceptions.KeyError'>\n",
      "Unset common expression __path__ <type 'exceptions.KeyError'>\n",
      "(get common) putting n in context c:\\users\\wwitzel\\prove-it\\packages\\proveit\n",
      "Unset common expression __path__ <type 'exceptions.KeyError'>\n",
      "Unset common expression __path__ <type 'exceptions.KeyError'>\n",
      "Unset common expression __path__ <type 'exceptions.KeyError'>\n",
      "Unset common expression __path__ <type 'exceptions.KeyError'>\n",
      "(get common) putting a in context c:\\users\\wwitzel\\prove-it\\packages\\proveit\n",
      "(get common) putting b in context c:\\users\\wwitzel\\prove-it\\packages\\proveit\n",
      "(get common) putting N in context c:\\users\\wwitzel\\prove-it\\packages\\proveit\n",
      "Unset common expression __path__ <class 'proveit._core_.context.UnsetCommonExpressions'>\n",
      "Unset common expression EmptySet <class 'proveit._core_.context.UnsetCommonExpressions'>\n",
      "Unset common expression EmptySet <class 'proveit._core_.context.UnsetCommonExpressions'>\n",
      "Unset common expression __path__ <type 'exceptions.KeyError'>\n",
      "(get common) putting z in context c:\\users\\wwitzel\\prove-it\\packages\\proveit\n",
      "Unset common expression __path__ <type 'exceptions.KeyError'>\n",
      "(get common) putting X in context c:\\users\\wwitzel\\prove-it\\packages\\proveit\n",
      "(get) putting [not](FALSE) in context c:\\users\\wwitzel\\prove-it\\packages\\proveit\\logic\\boolean\\negation\n",
      "Defining common sub-expressions for context 'proveit.logic.set_theory'\n",
      "Subsequent end-of-cell assignments will define common sub-expressions\n",
      "%end_common will finalize the definitions\n"
     ]
    }
   ],
   "source": [
    "from empty_set import EmptySetLiteral\n",
    "%begin common"
   ]
  },
  {
   "cell_type": "code",
   "execution_count": 2,
   "metadata": {
    "collapsed": false,
    "deletable": true,
    "editable": true
   },
   "outputs": [
    {
     "name": "stdout",
     "output_type": "stream",
     "text": [
      "False\n",
      "c:\\users\\wwitzel\\prove-it\\packages\\proveit\\logic\\set_theory\n",
      "True\n"
     ]
    },
    {
     "data": {
      "text/html": [
       "<strong id=\"EmptySet\">EmptySet:</strong> <a class=\"ProveItLink\" href=\"__pv_it\\a1840c5aa3e17b4f28e5e0844d37e58325ff6fdb0\\expr.ipynb\"><img src=\"__pv_it\\a1840c5aa3e17b4f28e5e0844d37e58325ff6fdb0\\expr.png\" style=\"display:inline;vertical-align:middle;\" /></a><br>"
      ],
      "text/plain": [
       "EmptySet: emptyset"
      ]
     },
     "execution_count": 2,
     "metadata": {},
     "output_type": "execute_result"
    }
   ],
   "source": [
    "EmptySet = EmptySetLiteral()"
   ]
  },
  {
   "cell_type": "code",
   "execution_count": 3,
   "metadata": {
    "collapsed": false,
    "deletable": true,
    "editable": true,
    "scrolled": true
   },
   "outputs": [
    {
     "name": "stdout",
     "output_type": "stream",
     "text": [
      "True\n",
      "c:\\users\\wwitzel\\prove-it\\packages\\proveit\\logic\\set_theory\n",
      "True\n",
      "EmptySet expression notebook is being updated\n",
      "Unset common expression __path__ <type 'exceptions.KeyError'>\n",
      "Common expressions may be imported from autogenerated _common_.py\n"
     ]
    }
   ],
   "source": [
    "%end common"
   ]
  },
  {
   "cell_type": "code",
   "execution_count": null,
   "metadata": {
    "collapsed": true
   },
   "outputs": [],
   "source": []
  }
 ],
 "metadata": {
  "kernelspec": {
   "display_name": "Python 2",
   "language": "python",
   "name": "python2"
  },
  "language_info": {
   "codemirror_mode": {
    "name": "ipython",
    "version": 2
   },
   "file_extension": ".py",
   "mimetype": "text/x-python",
   "name": "python",
   "nbconvert_exporter": "python",
   "pygments_lexer": "ipython2",
   "version": "2.7.11"
  }
 },
 "nbformat": 4,
 "nbformat_minor": 0
}
