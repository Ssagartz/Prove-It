{
 "cells": [
  {
   "cell_type": "markdown",
   "metadata": {
    "collapsed": true,
    "deletable": true,
    "editable": true
   },
   "source": [
    "Theorems for context <a href=\"_context_.ipynb\">proveit.logic.set_theory.subtraction</a>\n",
    "========"
   ]
  },
  {
   "cell_type": "code",
   "execution_count": 1,
   "metadata": {
    "collapsed": false,
    "deletable": true,
    "editable": true
   },
   "outputs": [
    {
     "name": "stdout",
     "output_type": "stream",
     "text": [
      "Defining theorems for context 'proveit.logic.set_theory.subtraction'\n",
      "Subsequent end-of-cell assignments will define theorems\n",
      "%end_theorems will finalize the definitions\n"
     ]
    }
   ],
   "source": [
    "from proveit.logic import Forall, Iff, InSet, NotInSet, Set, Difference, And, Or, Equals, NotEquals\n",
    "from proveit._common_ import x, y, S, A, B\n",
    "%begin_theorems"
   ]
  },
  {
   "cell_type": "code",
   "execution_count": 2,
   "metadata": {
    "collapsed": false,
    "deletable": true,
    "editable": true
   },
   "outputs": [
    {
     "data": {
      "text/html": [
       "<strong id=\"membershipUnfolding\"><a class=\"ProveItLink\" href=\"_proofs_\\membershipUnfolding.ipynb\" target=\"_blank\">membershipUnfolding</a>:</strong> <a href=\"__pv_it\\9bceb393aee24cba97a1db82cc1f39fc094c33800\\expr.ipynb\" target=\"_blank\"><img src=\"__pv_it\\9bceb393aee24cba97a1db82cc1f39fc094c33800\\expr.png\" style=\"display:inline;vertical-align:middle;\" /></a><br>"
      ],
      "text/plain": [
       "membershipUnfolding: forall_{x, A, B | (x in (A - B))} ((x in A) and (x not-in B))"
      ]
     },
     "execution_count": 2,
     "metadata": {},
     "output_type": "execute_result"
    }
   ],
   "source": [
    "membershipUnfolding = Forall((x, A, B), And(InSet(x, A), NotInSet(x, B)), \n",
    "                             conditions=[InSet(x, Difference(A, B))])"
   ]
  },
  {
   "cell_type": "code",
   "execution_count": 3,
   "metadata": {
    "collapsed": false,
    "deletable": true,
    "editable": true
   },
   "outputs": [
    {
     "data": {
      "text/html": [
       "<strong id=\"membershipFolding\"><a class=\"ProveItLink\" href=\"_proofs_\\membershipFolding.ipynb\" target=\"_blank\">membershipFolding</a>:</strong> <a href=\"__pv_it\\20cc5e063b108349a91332c1a63324af257d5c2e0\\expr.ipynb\" target=\"_blank\"><img src=\"__pv_it\\20cc5e063b108349a91332c1a63324af257d5c2e0\\expr.png\" style=\"display:inline;vertical-align:middle;\" /></a><br>"
      ],
      "text/plain": [
       "membershipFolding: forall_{x, A, B | (x in A),(x not-in B)} (x in (A - B))"
      ]
     },
     "execution_count": 3,
     "metadata": {},
     "output_type": "execute_result"
    }
   ],
   "source": [
    "membershipFolding = Forall((x, A, B), InSet(x, Difference(A, B)), \n",
    "                           conditions=[InSet(x, A), NotInSet(x, B)])"
   ]
  },
  {
   "cell_type": "code",
   "execution_count": 4,
   "metadata": {
    "collapsed": false,
    "deletable": true,
    "editable": true
   },
   "outputs": [
    {
     "data": {
      "text/html": [
       "<strong id=\"nonmembershipEquiv\"><a class=\"ProveItLink\" href=\"_proofs_\\nonmembershipEquiv.ipynb\" target=\"_blank\">nonmembershipEquiv</a>:</strong> <a href=\"__pv_it\\535084f5575f2896033e67a90d0a117da06a03c70\\expr.ipynb\" target=\"_blank\"><img src=\"__pv_it\\535084f5575f2896033e67a90d0a117da06a03c70\\expr.png\" style=\"display:inline;vertical-align:middle;\" /></a><br>"
      ],
      "text/plain": [
       "nonmembershipEquiv: forall_{x, A, B} ((x not-in (A - B)) = ((x not-in A) or (x in B)))"
      ]
     },
     "execution_count": 4,
     "metadata": {},
     "output_type": "execute_result"
    }
   ],
   "source": [
    "nonmembershipEquiv = Forall((x, A, B), Equals(NotInSet(x, Difference(A, B)), \n",
    "                                              Or(NotInSet(x, A), InSet(x, B))))"
   ]
  },
  {
   "cell_type": "code",
   "execution_count": 5,
   "metadata": {
    "collapsed": false,
    "deletable": true,
    "editable": true
   },
   "outputs": [
    {
     "data": {
      "text/html": [
       "<strong id=\"nonmembershipFolding\"><a class=\"ProveItLink\" href=\"_proofs_\\nonmembershipFolding.ipynb\" target=\"_blank\">nonmembershipFolding</a>:</strong> <a href=\"__pv_it\\0452ef6f32e5f09e4d3cbe4c2789cce71d6948f90\\expr.ipynb\" target=\"_blank\"><img src=\"__pv_it\\0452ef6f32e5f09e4d3cbe4c2789cce71d6948f90\\expr.png\" style=\"display:inline;vertical-align:middle;\" /></a><br>"
      ],
      "text/plain": [
       "nonmembershipFolding: forall_{x, A, B | ((x not-in A) or (x in B))} (x not-in (A - B))"
      ]
     },
     "execution_count": 5,
     "metadata": {},
     "output_type": "execute_result"
    }
   ],
   "source": [
    "nonmembershipFolding = Forall((x, A, B), NotInSet(x, Difference(A, B)), \n",
    "                              conditions=[Or(NotInSet(x, A), InSet(x, B))])"
   ]
  },
  {
   "cell_type": "code",
   "execution_count": 6,
   "metadata": {
    "collapsed": false,
    "deletable": true,
    "editable": true
   },
   "outputs": [
    {
     "data": {
      "text/html": [
       "<strong id=\"inAllButOne\"><a class=\"ProveItLink\" href=\"_proofs_\\inAllButOne.ipynb\" target=\"_blank\">inAllButOne</a>:</strong> <a href=\"__pv_it\\b1b4ffd6baaa57210b30d83dcaa354021ee7fd9a0\\expr.ipynb\" target=\"_blank\"><img src=\"__pv_it\\b1b4ffd6baaa57210b30d83dcaa354021ee7fd9a0\\expr.png\" style=\"display:inline;vertical-align:middle;\" /></a><br>"
      ],
      "text/plain": [
       "inAllButOne: forall_{x, S, y} ((x in (S - {y})) <=> ((x in S) and (x != y)))"
      ]
     },
     "execution_count": 6,
     "metadata": {},
     "output_type": "execute_result"
    }
   ],
   "source": [
    "inAllButOne = Forall((x, S, y), Iff(InSet(x, Difference(S, Set(y))), \n",
    "                                    And(InSet(x, S), NotEquals(x, y))))"
   ]
  },
  {
   "cell_type": "code",
   "execution_count": 7,
   "metadata": {
    "collapsed": false,
    "deletable": true,
    "editable": true
   },
   "outputs": [
    {
     "name": "stdout",
     "output_type": "stream",
     "text": [
      "Theorems may be imported from autogenerated _theorems_.py\n"
     ]
    }
   ],
   "source": [
    "%end_theorems"
   ]
  }
 ],
 "metadata": {
  "kernelspec": {
   "display_name": "Python 2",
   "language": "python",
   "name": "python2"
  },
  "language_info": {
   "codemirror_mode": {
    "name": "ipython",
    "version": 2
   },
   "file_extension": ".py",
   "mimetype": "text/x-python",
   "name": "python",
   "nbconvert_exporter": "python",
   "pygments_lexer": "ipython2",
   "version": "2.7.11"
  }
 },
 "nbformat": 4,
 "nbformat_minor": 0
}
