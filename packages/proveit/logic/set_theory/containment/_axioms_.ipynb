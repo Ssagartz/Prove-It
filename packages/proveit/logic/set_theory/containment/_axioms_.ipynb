{
 "cells": [
  {
   "cell_type": "markdown",
   "metadata": {
    "collapsed": true,
    "deletable": true,
    "editable": true
   },
   "source": [
    "Axioms for context <a href=\"_context_.ipynb\" class=\"ProveItLink\">proveit.logic.set_theory.containment</a>\n",
    "========"
   ]
  },
  {
   "cell_type": "code",
   "execution_count": 1,
   "metadata": {
    "collapsed": false,
    "deletable": true,
    "editable": true
   },
   "outputs": [
    {
     "name": "stdout",
     "output_type": "stream",
     "text": [
      "Defining axioms for context 'proveit.logic.set_theory.containment'\n",
      "Subsequent end-of-cell assignments will define axioms\n",
      "%end_axioms will finalize the definitions\n"
     ]
    }
   ],
   "source": [
    "from proveit.logic import SubsetEq, SupersetEq, Subset, Superset, NotSubsetEq, NotSupersetEq\n",
    "from proveit.logic import Forall, Equals, And, InSet, Not\n",
    "from proveit._common_ import A, B, x\n",
    "%begin axioms"
   ]
  },
  {
   "cell_type": "markdown",
   "metadata": {
    "deletable": true,
    "editable": true
   },
   "source": [
    "**$A \\subseteq B$ is equivalent to saying that every element in $A$ is also in $B$:**"
   ]
  },
  {
   "cell_type": "code",
   "execution_count": 2,
   "metadata": {
    "collapsed": false,
    "deletable": true,
    "editable": true
   },
   "outputs": [
    {
     "data": {
      "text/html": [
       "<strong id=\"subsetEqDef\">subsetEqDef:</strong> <a class=\"ProveItLink\" href=\"__pv_it\\730f608566706cefa88113124d80e925fd0e19890\\expr.ipynb\"><img src=\"__pv_it\\730f608566706cefa88113124d80e925fd0e19890\\expr.png\" style=\"display:inline;vertical-align:middle;\" /></a><br>"
      ],
      "text/plain": [
       "subsetEqDef: forall_{A, B} ((A subseteq B) = [forall_{x in A} (x in B)])"
      ]
     },
     "execution_count": 2,
     "metadata": {},
     "output_type": "execute_result"
    }
   ],
   "source": [
    "subsetEqDef = Forall((A, B), Equals(SubsetEq(A, B), Forall(x, InSet(x, B), A)))"
   ]
  },
  {
   "cell_type": "markdown",
   "metadata": {
    "deletable": true,
    "editable": true
   },
   "source": [
    "**$A \\supseteq B$ is equivalent to saying that every element in $B$ is also in $A$:**"
   ]
  },
  {
   "cell_type": "code",
   "execution_count": 3,
   "metadata": {
    "collapsed": false,
    "deletable": true,
    "editable": true
   },
   "outputs": [
    {
     "data": {
      "text/html": [
       "<strong id=\"supersetEqDef\">supersetEqDef:</strong> <a class=\"ProveItLink\" href=\"__pv_it\\a8affc37ea47bc6602e3c640e2592d6f009701c10\\expr.ipynb\"><img src=\"__pv_it\\a8affc37ea47bc6602e3c640e2592d6f009701c10\\expr.png\" style=\"display:inline;vertical-align:middle;\" /></a><br>"
      ],
      "text/plain": [
       "supersetEqDef: forall_{A, B} ((A supseteq B) = [forall_{x in B} (x in A)])"
      ]
     },
     "execution_count": 3,
     "metadata": {},
     "output_type": "execute_result"
    }
   ],
   "source": [
    "supersetEqDef = Forall((A, B), Equals(SupersetEq(A, B), Forall(x, InSet(x, A), B)))"
   ]
  },
  {
   "cell_type": "markdown",
   "metadata": {
    "deletable": true,
    "editable": true
   },
   "source": [
    "**Define $A \\nsubseteq B$ as $\\lnot (A \\subseteq B)$:**"
   ]
  },
  {
   "cell_type": "code",
   "execution_count": 4,
   "metadata": {
    "collapsed": false,
    "deletable": true,
    "editable": true
   },
   "outputs": [
    {
     "data": {
      "text/html": [
       "<strong id=\"notSubsetEqDef\">notSubsetEqDef:</strong> <a class=\"ProveItLink\" href=\"__pv_it\\65be1beda2551b6a16b40b93a2855d99b88c6c900\\expr.ipynb\"><img src=\"__pv_it\\65be1beda2551b6a16b40b93a2855d99b88c6c900\\expr.png\" style=\"display:inline;vertical-align:middle;\" /></a><br>"
      ],
      "text/plain": [
       "notSubsetEqDef: forall_{A, B} ((A nsubseteq B) = [not](A subseteq B))"
      ]
     },
     "execution_count": 4,
     "metadata": {},
     "output_type": "execute_result"
    }
   ],
   "source": [
    "notSubsetEqDef = Forall((A, B), Equals(NotSubsetEq(A, B), Not(SubsetEq(A, B))))"
   ]
  },
  {
   "cell_type": "markdown",
   "metadata": {
    "deletable": true,
    "editable": true
   },
   "source": [
    "**Define $A \\nsupseteq B$ as $\\lnot (A \\supseteq B)$:**"
   ]
  },
  {
   "cell_type": "code",
   "execution_count": 5,
   "metadata": {
    "collapsed": false,
    "deletable": true,
    "editable": true
   },
   "outputs": [
    {
     "data": {
      "text/html": [
       "<strong id=\"notSupersetEqDef\">notSupersetEqDef:</strong> <a class=\"ProveItLink\" href=\"__pv_it\\9a2aad24b92d238a681eb263604fe401aeaffd210\\expr.ipynb\"><img src=\"__pv_it\\9a2aad24b92d238a681eb263604fe401aeaffd210\\expr.png\" style=\"display:inline;vertical-align:middle;\" /></a><br>"
      ],
      "text/plain": [
       "notSupersetEqDef: forall_{A, B} ((A nsupseteq B) = [not](A supseteq B))"
      ]
     },
     "execution_count": 5,
     "metadata": {},
     "output_type": "execute_result"
    }
   ],
   "source": [
    "notSupersetEqDef = Forall((A, B), Equals(NotSupersetEq(A, B), Not(SupersetEq(A, B))))"
   ]
  },
  {
   "cell_type": "markdown",
   "metadata": {
    "deletable": true,
    "editable": true
   },
   "source": [
    "**$A$ is a proper subset of $B$, $A \\subset B$, means that $A \\subseteq B$ but $A \\nsupseteq B$; that is, every element in $A$ is also in $B$ but not the other way around:**"
   ]
  },
  {
   "cell_type": "code",
   "execution_count": 6,
   "metadata": {
    "collapsed": false,
    "deletable": true,
    "editable": true
   },
   "outputs": [
    {
     "data": {
      "text/html": [
       "<strong id=\"subsetDef\">subsetDef:</strong> <a class=\"ProveItLink\" href=\"__pv_it\\a24c8669b78990aa2b05f3a9b09a9a29a446e2380\\expr.ipynb\"><img src=\"__pv_it\\a24c8669b78990aa2b05f3a9b09a9a29a446e2380\\expr.png\" style=\"display:inline;vertical-align:middle;\" /></a><br>"
      ],
      "text/plain": [
       "subsetDef: forall_{A, B} ((A subset B) = ((A subseteq B) and (A nsupseteq B)))"
      ]
     },
     "execution_count": 6,
     "metadata": {},
     "output_type": "execute_result"
    }
   ],
   "source": [
    "subsetDef = Forall((A, B), Equals(Subset(A, B), And(SubsetEq(A, B), NotSupersetEq(A, B))))"
   ]
  },
  {
   "cell_type": "markdown",
   "metadata": {
    "deletable": true,
    "editable": true
   },
   "source": [
    "**$A$ is a proper subset of $B$, $A \\subset B$, means that $A \\subseteq B$ but $A \\nsupseteq B$; that is, every element in $A$ is also in $B$ but not the other way around:**"
   ]
  },
  {
   "cell_type": "code",
   "execution_count": 7,
   "metadata": {
    "collapsed": false,
    "deletable": true,
    "editable": true
   },
   "outputs": [
    {
     "data": {
      "text/html": [
       "<strong id=\"supersetDef\">supersetDef:</strong> <a class=\"ProveItLink\" href=\"__pv_it\\9d1da6c40949014f4eeb01e5ee9c2109af9eef480\\expr.ipynb\"><img src=\"__pv_it\\9d1da6c40949014f4eeb01e5ee9c2109af9eef480\\expr.png\" style=\"display:inline;vertical-align:middle;\" /></a><br>"
      ],
      "text/plain": [
       "supersetDef: forall_{A, B} ((A supset B) = ((A supseteq B) and (A nsubseteq B)))"
      ]
     },
     "execution_count": 7,
     "metadata": {},
     "output_type": "execute_result"
    }
   ],
   "source": [
    "supersetDef = Forall((A, B), Equals(Superset(A, B), And(SupersetEq(A, B), NotSubsetEq(A, B))))"
   ]
  },
  {
   "cell_type": "code",
   "execution_count": 8,
   "metadata": {
    "collapsed": false,
    "deletable": true,
    "editable": true
   },
   "outputs": [
    {
     "name": "stdout",
     "output_type": "stream",
     "text": [
      "Modifying axiom subsetEqDef in proveit.logic.set_theory.containment context\n",
      "Modifying axiom supersetEqDef in proveit.logic.set_theory.containment context\n",
      "Modifying axiom notSubsetEqDef in proveit.logic.set_theory.containment context\n",
      "Modifying axiom notSupersetEqDef in proveit.logic.set_theory.containment context\n",
      "Modifying axiom subsetDef in proveit.logic.set_theory.containment context\n",
      "Modifying axiom supersetDef in proveit.logic.set_theory.containment context\n",
      "supersetEqDef expression notebook is being updated\n",
      "subsetEqDef expression notebook is being updated\n",
      "notSupersetEqDef expression notebook is being updated\n",
      "subsetDef expression notebook is being updated\n",
      "supersetDef expression notebook is being updated\n",
      "notSubsetEqDef expression notebook is being updated\n",
      "Axioms may be imported from autogenerated _axioms_.py\n"
     ]
    }
   ],
   "source": [
    "%end axioms"
   ]
  },
  {
   "cell_type": "code",
   "execution_count": null,
   "metadata": {
    "collapsed": true,
    "deletable": true,
    "editable": true
   },
   "outputs": [],
   "source": []
  }
 ],
 "metadata": {
  "kernelspec": {
   "display_name": "Python 2",
   "language": "python",
   "name": "python2"
  },
  "language_info": {
   "codemirror_mode": {
    "name": "ipython",
    "version": 2
   },
   "file_extension": ".py",
   "mimetype": "text/x-python",
   "name": "python",
   "nbconvert_exporter": "python",
   "pygments_lexer": "ipython2",
   "version": "2.7.11"
  }
 },
 "nbformat": 4,
 "nbformat_minor": 0
}
