{
 "cells": [
  {
   "cell_type": "markdown",
   "metadata": {
    "collapsed": true,
    "deletable": true,
    "editable": true
   },
   "source": [
    "Axioms for context <a href=\"_context_.ipynb\" class=\"ProveItLink\">proveit.logic.set_theory.containment</a>\n",
    "========"
   ]
  },
  {
   "cell_type": "code",
   "execution_count": 1,
   "metadata": {
    "collapsed": false,
    "deletable": true,
    "editable": true
   },
   "outputs": [
    {
     "name": "stdout",
     "output_type": "stream",
     "text": [
      "Defining axioms for context 'proveit.logic.set_theory.containment'\n",
      "Subsequent end-of-cell assignments will define axioms\n",
      "%end_axioms will finalize the definitions\n"
     ]
    }
   ],
   "source": [
    "from proveit.logic import SubsetEq, SupersetEq, Subset, Superset, NotSubsetEq, NotSupersetEq\n",
    "from proveit.logic import Forall, Equals, And, InSet, Not\n",
    "from proveit._common_ import A, B, x\n",
    "%begin_axioms"
   ]
  },
  {
   "cell_type": "markdown",
   "metadata": {
    "deletable": true,
    "editable": true
   },
   "source": [
    "**$A \\subseteq B$ is equivalent to saying that every element in $A$ is also in $B$:**"
   ]
  },
  {
   "cell_type": "code",
   "execution_count": 2,
   "metadata": {
    "collapsed": false,
    "deletable": true,
    "editable": true
   },
   "outputs": [
    {
     "data": {
      "text/html": [
       "<strong id=\"subsetEqDef\">subsetEqDef:</strong> <a href=\"__pv_it\\d39c5314568d2449c2cb4e5cbf70080da7fe360d0\\expr.ipynb\" target=\"_blank\"><img src=\"__pv_it\\d39c5314568d2449c2cb4e5cbf70080da7fe360d0\\expr.png\" style=\"display:inline;vertical-align:middle;\" /></a><br>"
      ],
      "text/plain": [
       "subsetEqDef: forall_{A, B} ((A subseteq B) = [forall_{x in A} (x in B)])"
      ]
     },
     "execution_count": 2,
     "metadata": {},
     "output_type": "execute_result"
    }
   ],
   "source": [
    "subsetEqDef = Forall((A, B), Equals(SubsetEq(A, B), Forall(x, InSet(x, B), A)))"
   ]
  },
  {
   "cell_type": "markdown",
   "metadata": {
    "deletable": true,
    "editable": true
   },
   "source": [
    "**$A \\supseteq B$ is equivalent to saying that every element in $B$ is also in $A$:**"
   ]
  },
  {
   "cell_type": "code",
   "execution_count": 3,
   "metadata": {
    "collapsed": false,
    "deletable": true,
    "editable": true
   },
   "outputs": [
    {
     "data": {
      "text/html": [
       "<strong id=\"supersetEqDef\">supersetEqDef:</strong> <a href=\"__pv_it\\ee9837b8753d7b0ffde0a8c97dc2c0791563d6710\\expr.ipynb\" target=\"_blank\"><img src=\"__pv_it\\ee9837b8753d7b0ffde0a8c97dc2c0791563d6710\\expr.png\" style=\"display:inline;vertical-align:middle;\" /></a><br>"
      ],
      "text/plain": [
       "supersetEqDef: forall_{A, B} ((A supseteq B) = [forall_{x in B} (x in A)])"
      ]
     },
     "execution_count": 3,
     "metadata": {},
     "output_type": "execute_result"
    }
   ],
   "source": [
    "supersetEqDef = Forall((A, B), Equals(SupersetEq(A, B), Forall(x, InSet(x, A), B)))"
   ]
  },
  {
   "cell_type": "markdown",
   "metadata": {},
   "source": [
    "**Define $A \\nsubseteq B$ as $\\lnot (A \\subseteq B)$:**"
   ]
  },
  {
   "cell_type": "code",
   "execution_count": 4,
   "metadata": {
    "collapsed": false
   },
   "outputs": [
    {
     "data": {
      "text/html": [
       "<strong id=\"notSubsetEqDef\">notSubsetEqDef:</strong> <a href=\"__pv_it\\5158c9190fba1636a07730b68d901b59111f13a70\\expr.ipynb\" target=\"_blank\"><img src=\"__pv_it\\5158c9190fba1636a07730b68d901b59111f13a70\\expr.png\" style=\"display:inline;vertical-align:middle;\" /></a><br>"
      ],
      "text/plain": [
       "notSubsetEqDef: forall_{A, B} ((A nsubseteq B) = not(A subseteq B))"
      ]
     },
     "execution_count": 4,
     "metadata": {},
     "output_type": "execute_result"
    }
   ],
   "source": [
    "notSubsetEqDef = Forall((A, B), Equals(NotSubsetEq(A, B), Not(SubsetEq(A, B))))"
   ]
  },
  {
   "cell_type": "markdown",
   "metadata": {},
   "source": [
    "**Define $A \\nsupseteq B$ as $\\lnot (A \\supseteq B)$:**"
   ]
  },
  {
   "cell_type": "code",
   "execution_count": 5,
   "metadata": {
    "collapsed": false
   },
   "outputs": [
    {
     "data": {
      "text/html": [
       "<strong id=\"notSupersetEqDef\">notSupersetEqDef:</strong> <a href=\"__pv_it\\8fc68b12ee8d355f7563556b703090dc3688d9fb0\\expr.ipynb\" target=\"_blank\"><img src=\"__pv_it\\8fc68b12ee8d355f7563556b703090dc3688d9fb0\\expr.png\" style=\"display:inline;vertical-align:middle;\" /></a><br>"
      ],
      "text/plain": [
       "notSupersetEqDef: forall_{A, B} ((A nsupseteq B) = not(A supseteq B))"
      ]
     },
     "execution_count": 5,
     "metadata": {},
     "output_type": "execute_result"
    }
   ],
   "source": [
    "notSupersetEqDef = Forall((A, B), Equals(NotSupersetEq(A, B), Not(SupersetEq(A, B))))"
   ]
  },
  {
   "cell_type": "markdown",
   "metadata": {},
   "source": [
    "**$A$ is a proper subset of $B$, $A \\subset B$, means that $A \\subseteq B$ but $A \\nsupseteq B$; that is, every element in $A$ is also in $B$ but not the other way around:**"
   ]
  },
  {
   "cell_type": "code",
   "execution_count": 6,
   "metadata": {
    "collapsed": false
   },
   "outputs": [
    {
     "data": {
      "text/html": [
       "<strong id=\"subsetDef\">subsetDef:</strong> <a href=\"__pv_it\\b3ba275402763dc6e6318c2525f9e93d9a8cf22e0\\expr.ipynb\" target=\"_blank\"><img src=\"__pv_it\\b3ba275402763dc6e6318c2525f9e93d9a8cf22e0\\expr.png\" style=\"display:inline;vertical-align:middle;\" /></a><br>"
      ],
      "text/plain": [
       "subsetDef: forall_{A, B} ((A subset B) = ((A subseteq B) and (A nsupseteq B)))"
      ]
     },
     "execution_count": 6,
     "metadata": {},
     "output_type": "execute_result"
    }
   ],
   "source": [
    "subsetDef = Forall((A, B), Equals(Subset(A, B), And(SubsetEq(A, B), NotSupersetEq(A, B))))"
   ]
  },
  {
   "cell_type": "markdown",
   "metadata": {},
   "source": [
    "**$A$ is a proper subset of $B$, $A \\subset B$, means that $A \\subseteq B$ but $A \\nsupseteq B$; that is, every element in $A$ is also in $B$ but not the other way around:**"
   ]
  },
  {
   "cell_type": "code",
   "execution_count": 7,
   "metadata": {
    "collapsed": false
   },
   "outputs": [
    {
     "data": {
      "text/html": [
       "<strong id=\"supersetDef\">supersetDef:</strong> <a href=\"__pv_it\\50f3f8ee8c349c1faea82a829ce7a21c9172641b0\\expr.ipynb\" target=\"_blank\"><img src=\"__pv_it\\50f3f8ee8c349c1faea82a829ce7a21c9172641b0\\expr.png\" style=\"display:inline;vertical-align:middle;\" /></a><br>"
      ],
      "text/plain": [
       "supersetDef: forall_{A, B} ((A supset B) = ((A supseteq B) and (A nsubseteq B)))"
      ]
     },
     "execution_count": 7,
     "metadata": {},
     "output_type": "execute_result"
    }
   ],
   "source": [
    "supersetDef = Forall((A, B), Equals(Superset(A, B), And(SupersetEq(A, B), NotSubsetEq(A, B))))"
   ]
  },
  {
   "cell_type": "code",
   "execution_count": 8,
   "metadata": {
    "collapsed": false,
    "deletable": true,
    "editable": true
   },
   "outputs": [
    {
     "name": "stdout",
     "output_type": "stream",
     "text": [
      "Axioms may be imported from autogenerated _axioms_.py\n"
     ]
    }
   ],
   "source": [
    "%end_axioms"
   ]
  },
  {
   "cell_type": "code",
   "execution_count": 9,
   "metadata": {
    "collapsed": true,
    "deletable": true,
    "editable": true
   },
   "outputs": [],
   "source": []
  }
 ],
 "metadata": {
  "kernelspec": {
   "display_name": "Python 2",
   "language": "python",
   "name": "python2"
  },
  "language_info": {
   "codemirror_mode": {
    "name": "ipython",
    "version": 2
   },
   "file_extension": ".py",
   "mimetype": "text/x-python",
   "name": "python",
   "nbconvert_exporter": "python",
   "pygments_lexer": "ipython2",
   "version": "2.7.11"
  }
 },
 "nbformat": 4,
 "nbformat_minor": 0
}
