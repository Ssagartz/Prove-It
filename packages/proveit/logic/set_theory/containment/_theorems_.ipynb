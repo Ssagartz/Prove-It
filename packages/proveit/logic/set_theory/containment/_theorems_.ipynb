{
 "cells": [
  {
   "cell_type": "markdown",
   "metadata": {
    "collapsed": true,
    "deletable": true,
    "editable": true
   },
   "source": [
    "Theorems for context <a href=\"_context_.ipynb\" class=\"ProveItLink\">proveit.logic.set_theory.containment</a>\n",
    "========"
   ]
  },
  {
   "cell_type": "code",
   "execution_count": 1,
   "metadata": {
    "collapsed": false,
    "deletable": true,
    "editable": true
   },
   "outputs": [
    {
     "name": "stdout",
     "output_type": "stream",
     "text": [
      "Defining theorems for context 'proveit.logic.set_theory.containment'\n",
      "Subsequent end-of-cell assignments will define theorems\n",
      "'%end theorems' will finalize the definitions\n"
     ]
    }
   ],
   "source": [
    "from proveit.logic import Forall, Implies, InSet, Equals, Not\n",
    "from proveit.logic import SubsetEq, SupersetEq, Subset, Superset, NotSubsetEq, NotSupersetEq\n",
    "from proveit._common_ import A, B, C, x\n",
    "%begin theorems"
   ]
  },
  {
   "cell_type": "code",
   "execution_count": 2,
   "metadata": {
    "collapsed": false,
    "deletable": true,
    "editable": true
   },
   "outputs": [
    {
     "data": {
      "text/html": [
       "<strong id=\"unfoldSubsetEq\"><a class=\"ProveItLink\" href=\"_proofs_\\unfoldSubsetEq.ipynb\" target=\"_blank\">unfoldSubsetEq</a>:</strong> <a href=\"__pv_it\\9486244b9832ed3f7b0702be6580e16e2e1b87dc0\\expr.ipynb\" target=\"_blank\"><img src=\"__pv_it\\9486244b9832ed3f7b0702be6580e16e2e1b87dc0\\expr.png\" style=\"display:inline;vertical-align:middle;\" /></a><br>"
      ],
      "text/plain": [
       "unfoldSubsetEq: forall_{A, B | (A subseteq B)} [forall_{x in A} (x in B)]"
      ]
     },
     "execution_count": 2,
     "metadata": {},
     "output_type": "execute_result"
    }
   ],
   "source": [
    "unfoldSubsetEq = Forall((A, B), Forall(x, InSet(x, B), A), conditions=SubsetEq(A, B))"
   ]
  },
  {
   "cell_type": "code",
   "execution_count": 3,
   "metadata": {
    "collapsed": false,
    "deletable": true,
    "editable": true
   },
   "outputs": [
    {
     "data": {
      "text/html": [
       "<strong id=\"foldSubsetEq\"><a class=\"ProveItLink\" href=\"_proofs_\\foldSubsetEq.ipynb\" target=\"_blank\">foldSubsetEq</a>:</strong> <a href=\"__pv_it\\b090847780d98ea79be30c8a57bc77ef8f7f0f730\\expr.ipynb\" target=\"_blank\"><img src=\"__pv_it\\b090847780d98ea79be30c8a57bc77ef8f7f0f730\\expr.png\" style=\"display:inline;vertical-align:middle;\" /></a><br>"
      ],
      "text/plain": [
       "foldSubsetEq: forall_{A, B} ([forall_{x in A} (x in B)] => (A subseteq B))"
      ]
     },
     "execution_count": 3,
     "metadata": {},
     "output_type": "execute_result"
    }
   ],
   "source": [
    "foldSubsetEq = Forall((A, B), Implies(Forall(x, InSet(x, B), A), SubsetEq(A, B)))"
   ]
  },
  {
   "cell_type": "code",
   "execution_count": 4,
   "metadata": {
    "collapsed": false,
    "deletable": true,
    "editable": true
   },
   "outputs": [
    {
     "data": {
      "text/html": [
       "<strong id=\"unfoldSupsetEq\"><a class=\"ProveItLink\" href=\"_proofs_\\unfoldSupsetEq.ipynb\" target=\"_blank\">unfoldSupsetEq</a>:</strong> <a href=\"__pv_it\\ab7f73ed2097369361ef9a77db4dab07f70a2c460\\expr.ipynb\" target=\"_blank\"><img src=\"__pv_it\\ab7f73ed2097369361ef9a77db4dab07f70a2c460\\expr.png\" style=\"display:inline;vertical-align:middle;\" /></a><br>"
      ],
      "text/plain": [
       "unfoldSupsetEq: forall_{A, B | (A supseteq B)} [forall_{x in B} (x in A)]"
      ]
     },
     "execution_count": 4,
     "metadata": {},
     "output_type": "execute_result"
    }
   ],
   "source": [
    "unfoldSupsetEq = Forall((A, B), Forall(x, InSet(x, A), B), conditions=SupersetEq(A, B))"
   ]
  },
  {
   "cell_type": "code",
   "execution_count": 5,
   "metadata": {
    "collapsed": false,
    "deletable": true,
    "editable": true
   },
   "outputs": [
    {
     "data": {
      "text/html": [
       "<strong id=\"foldSupsetEq\"><a class=\"ProveItLink\" href=\"_proofs_\\foldSupsetEq.ipynb\" target=\"_blank\">foldSupsetEq</a>:</strong> <a href=\"__pv_it\\13c8449c6359b8d33e209b38210cd4ce6cbe930c0\\expr.ipynb\" target=\"_blank\"><img src=\"__pv_it\\13c8449c6359b8d33e209b38210cd4ce6cbe930c0\\expr.png\" style=\"display:inline;vertical-align:middle;\" /></a><br>"
      ],
      "text/plain": [
       "foldSupsetEq: forall_{A, B} ([forall_{x in B} (x in A)] => (A supseteq B))"
      ]
     },
     "execution_count": 5,
     "metadata": {},
     "output_type": "execute_result"
    }
   ],
   "source": [
    "foldSupsetEq = Forall((A, B), Implies(Forall(x, InSet(x, A), B), SupersetEq(A, B)))"
   ]
  },
  {
   "cell_type": "code",
   "execution_count": 6,
   "metadata": {
    "collapsed": false
   },
   "outputs": [
    {
     "data": {
      "text/html": [
       "<strong id=\"unfoldNotSubsetEq\"><a class=\"ProveItLink\" href=\"_proofs_\\unfoldNotSubsetEq.ipynb\" target=\"_blank\">unfoldNotSubsetEq</a>:</strong> <a href=\"__pv_it\\8c2f8d0b3712495ce0a21fc4952b1350777fa2f60\\expr.ipynb\" target=\"_blank\"><img src=\"__pv_it\\8c2f8d0b3712495ce0a21fc4952b1350777fa2f60\\expr.png\" style=\"display:inline;vertical-align:middle;\" /></a><br>"
      ],
      "text/plain": [
       "unfoldNotSubsetEq: forall_{A, B | (A nsubseteq B)} not(A subseteq B)"
      ]
     },
     "execution_count": 6,
     "metadata": {},
     "output_type": "execute_result"
    }
   ],
   "source": [
    "unfoldNotSubsetEq = Forall((A, B), Not(SubsetEq(A, B)), conditions=[NotSubsetEq(A, B)])"
   ]
  },
  {
   "cell_type": "code",
   "execution_count": 7,
   "metadata": {
    "collapsed": false
   },
   "outputs": [
    {
     "data": {
      "text/html": [
       "<strong id=\"foldNotSubsetEq\"><a class=\"ProveItLink\" href=\"_proofs_\\foldNotSubsetEq.ipynb\" target=\"_blank\">foldNotSubsetEq</a>:</strong> <a href=\"__pv_it\\0408971381fca2145b9037571b0c8dff73e65af30\\expr.ipynb\" target=\"_blank\"><img src=\"__pv_it\\0408971381fca2145b9037571b0c8dff73e65af30\\expr.png\" style=\"display:inline;vertical-align:middle;\" /></a><br>"
      ],
      "text/plain": [
       "foldNotSubsetEq: forall_{A, B | not(A subseteq B)} (A nsubseteq B)"
      ]
     },
     "execution_count": 7,
     "metadata": {},
     "output_type": "execute_result"
    }
   ],
   "source": [
    "foldNotSubsetEq = Forall((A, B), NotSubsetEq(A, B), conditions=[Not(SubsetEq(A, B))])"
   ]
  },
  {
   "cell_type": "code",
   "execution_count": 8,
   "metadata": {
    "collapsed": false
   },
   "outputs": [
    {
     "data": {
      "text/html": [
       "<strong id=\"unfoldNotSupsetEq\"><a class=\"ProveItLink\" href=\"_proofs_\\unfoldNotSupsetEq.ipynb\" target=\"_blank\">unfoldNotSupsetEq</a>:</strong> <a href=\"__pv_it\\ebbd9cec3ee8fa637184e0660899556f484780e00\\expr.ipynb\" target=\"_blank\"><img src=\"__pv_it\\ebbd9cec3ee8fa637184e0660899556f484780e00\\expr.png\" style=\"display:inline;vertical-align:middle;\" /></a><br>"
      ],
      "text/plain": [
       "unfoldNotSupsetEq: forall_{A, B | (A nsupseteq B)} not(A supseteq B)"
      ]
     },
     "execution_count": 8,
     "metadata": {},
     "output_type": "execute_result"
    }
   ],
   "source": [
    "unfoldNotSupsetEq = Forall((A, B), Not(SupersetEq(A, B)), conditions=[NotSupersetEq(A, B)])"
   ]
  },
  {
   "cell_type": "code",
   "execution_count": 9,
   "metadata": {
    "collapsed": false
   },
   "outputs": [
    {
     "data": {
      "text/html": [
       "<strong id=\"foldNotSupsetEq\"><a class=\"ProveItLink\" href=\"_proofs_\\foldNotSupsetEq.ipynb\" target=\"_blank\">foldNotSupsetEq</a>:</strong> <a href=\"__pv_it\\435d783922aeb42736886693785645f5c0cf44b00\\expr.ipynb\" target=\"_blank\"><img src=\"__pv_it\\435d783922aeb42736886693785645f5c0cf44b00\\expr.png\" style=\"display:inline;vertical-align:middle;\" /></a><br>"
      ],
      "text/plain": [
       "foldNotSupsetEq: forall_{A, B | not(A supseteq B)} (A nsupseteq B)"
      ]
     },
     "execution_count": 9,
     "metadata": {},
     "output_type": "execute_result"
    }
   ],
   "source": [
    "foldNotSupsetEq = Forall((A, B), NotSupersetEq(A, B), conditions=[Not(SupersetEq(A, B))])"
   ]
  },
  {
   "cell_type": "code",
   "execution_count": 10,
   "metadata": {
    "collapsed": false
   },
   "outputs": [
    {
     "data": {
      "text/html": [
       "<strong id=\"reverseSubset\"><a class=\"ProveItLink\" href=\"_proofs_\\reverseSubset.ipynb\" target=\"_blank\">reverseSubset</a>:</strong> <a href=\"__pv_it\\39e3401c6bfc0d3b78de2a2a24b8a203f777ec3f0\\expr.ipynb\" target=\"_blank\"><img src=\"__pv_it\\39e3401c6bfc0d3b78de2a2a24b8a203f777ec3f0\\expr.png\" style=\"display:inline;vertical-align:middle;\" /></a><br>"
      ],
      "text/plain": [
       "reverseSubset: forall_{A, B | (A subset B)} (B supset A)"
      ]
     },
     "execution_count": 10,
     "metadata": {},
     "output_type": "execute_result"
    }
   ],
   "source": [
    "reverseSubset = Forall((A, B), Superset(B, A), conditions=[Subset(A, B)])"
   ]
  },
  {
   "cell_type": "code",
   "execution_count": 11,
   "metadata": {
    "collapsed": false
   },
   "outputs": [
    {
     "data": {
      "text/html": [
       "<strong id=\"reverseSubsetEq\"><a class=\"ProveItLink\" href=\"_proofs_\\reverseSubsetEq.ipynb\" target=\"_blank\">reverseSubsetEq</a>:</strong> <a href=\"__pv_it\\f27db91c81ed57eba1dff628e1f66c5de60053210\\expr.ipynb\" target=\"_blank\"><img src=\"__pv_it\\f27db91c81ed57eba1dff628e1f66c5de60053210\\expr.png\" style=\"display:inline;vertical-align:middle;\" /></a><br>"
      ],
      "text/plain": [
       "reverseSubsetEq: forall_{A, B | (A subseteq B)} (B supseteq A)"
      ]
     },
     "execution_count": 11,
     "metadata": {},
     "output_type": "execute_result"
    }
   ],
   "source": [
    "reverseSubsetEq = Forall((A, B), SupersetEq(B, A), conditions=[SubsetEq(A, B)])"
   ]
  },
  {
   "cell_type": "code",
   "execution_count": 12,
   "metadata": {
    "collapsed": false
   },
   "outputs": [
    {
     "data": {
      "text/html": [
       "<strong id=\"reverseSupset\"><a class=\"ProveItLink\" href=\"_proofs_\\reverseSupset.ipynb\" target=\"_blank\">reverseSupset</a>:</strong> <a href=\"__pv_it\\a01fcca4d7dcd18a6c9b77e33d18161158d5ba030\\expr.ipynb\" target=\"_blank\"><img src=\"__pv_it\\a01fcca4d7dcd18a6c9b77e33d18161158d5ba030\\expr.png\" style=\"display:inline;vertical-align:middle;\" /></a><br>"
      ],
      "text/plain": [
       "reverseSupset: forall_{A, B | (A supset B)} (B subset A)"
      ]
     },
     "execution_count": 12,
     "metadata": {},
     "output_type": "execute_result"
    }
   ],
   "source": [
    "reverseSupset = Forall((A, B), Subset(B, A), conditions=[Superset(A, B)])"
   ]
  },
  {
   "cell_type": "code",
   "execution_count": 13,
   "metadata": {
    "collapsed": false
   },
   "outputs": [
    {
     "data": {
      "text/html": [
       "<strong id=\"reverseSupsetEq\"><a class=\"ProveItLink\" href=\"_proofs_\\reverseSupsetEq.ipynb\" target=\"_blank\">reverseSupsetEq</a>:</strong> <a href=\"__pv_it\\bd8bc242a49349c5ffc23f42c19fa4d4614a04970\\expr.ipynb\" target=\"_blank\"><img src=\"__pv_it\\bd8bc242a49349c5ffc23f42c19fa4d4614a04970\\expr.png\" style=\"display:inline;vertical-align:middle;\" /></a><br>"
      ],
      "text/plain": [
       "reverseSupsetEq: forall_{A, B | (A supseteq B)} (B subseteq A)"
      ]
     },
     "execution_count": 13,
     "metadata": {},
     "output_type": "execute_result"
    }
   ],
   "source": [
    "reverseSupsetEq = Forall((A, B), SubsetEq(B, A), conditions=[SupersetEq(A, B)])"
   ]
  },
  {
   "cell_type": "code",
   "execution_count": 14,
   "metadata": {
    "collapsed": false
   },
   "outputs": [
    {
     "data": {
      "text/html": [
       "<strong id=\"relaxSubset\"><a class=\"ProveItLink\" href=\"_proofs_\\relaxSubset.ipynb\" target=\"_blank\">relaxSubset</a>:</strong> <a href=\"__pv_it\\22410e01fbf285fe104ca049789b1a6225f1b23b0\\expr.ipynb\" target=\"_blank\"><img src=\"__pv_it\\22410e01fbf285fe104ca049789b1a6225f1b23b0\\expr.png\" style=\"display:inline;vertical-align:middle;\" /></a><br>"
      ],
      "text/plain": [
       "relaxSubset: forall_{A, B | (A subset B)} (A subseteq B)"
      ]
     },
     "execution_count": 14,
     "metadata": {},
     "output_type": "execute_result"
    }
   ],
   "source": [
    "relaxSubset = Forall((A, B), SubsetEq(A, B), conditions=[Subset(A, B)])"
   ]
  },
  {
   "cell_type": "code",
   "execution_count": 15,
   "metadata": {
    "collapsed": false
   },
   "outputs": [
    {
     "data": {
      "text/html": [
       "<strong id=\"relaxSupset\"><a class=\"ProveItLink\" href=\"_proofs_\\relaxSupset.ipynb\" target=\"_blank\">relaxSupset</a>:</strong> <a href=\"__pv_it\\c015e12d61b7b0b2b6b189e44fa61bec4b2738b90\\expr.ipynb\" target=\"_blank\"><img src=\"__pv_it\\c015e12d61b7b0b2b6b189e44fa61bec4b2738b90\\expr.png\" style=\"display:inline;vertical-align:middle;\" /></a><br>"
      ],
      "text/plain": [
       "relaxSupset: forall_{A, B | (A supset B)} (A supseteq B)"
      ]
     },
     "execution_count": 15,
     "metadata": {},
     "output_type": "execute_result"
    }
   ],
   "source": [
    "relaxSupset = Forall((A, B), SupersetEq(A, B), conditions=[Superset(A, B)])"
   ]
  },
  {
   "cell_type": "code",
   "execution_count": 16,
   "metadata": {
    "collapsed": false,
    "deletable": true,
    "editable": true
   },
   "outputs": [
    {
     "data": {
      "text/html": [
       "<strong id=\"subsetEqViaEquality\"><a class=\"ProveItLink\" href=\"_proofs_\\subsetEqViaEquality.ipynb\" target=\"_blank\">subsetEqViaEquality</a>:</strong> <a href=\"__pv_it\\90bfff67cb1be9b9c51eae64eb88665968fe98400\\expr.ipynb\" target=\"_blank\"><img src=\"__pv_it\\90bfff67cb1be9b9c51eae64eb88665968fe98400\\expr.png\" style=\"display:inline;vertical-align:middle;\" /></a><br>"
      ],
      "text/plain": [
       "subsetEqViaEquality: forall_{A, B | (A = B)} (A subseteq B)"
      ]
     },
     "execution_count": 16,
     "metadata": {},
     "output_type": "execute_result"
    }
   ],
   "source": [
    "subsetEqViaEquality = Forall((A, B), SubsetEq(A, B), conditions=[Equals(A, B)])"
   ]
  },
  {
   "cell_type": "code",
   "execution_count": 17,
   "metadata": {
    "collapsed": false,
    "deletable": true,
    "editable": true
   },
   "outputs": [
    {
     "data": {
      "text/html": [
       "<strong id=\"supersetEqViaEquality\"><a class=\"ProveItLink\" href=\"_proofs_\\supersetEqViaEquality.ipynb\" target=\"_blank\">supersetEqViaEquality</a>:</strong> <a href=\"__pv_it\\71e41d88a897bcb0f8517eb051ec7bdf0de2ed880\\expr.ipynb\" target=\"_blank\"><img src=\"__pv_it\\71e41d88a897bcb0f8517eb051ec7bdf0de2ed880\\expr.png\" style=\"display:inline;vertical-align:middle;\" /></a><br>"
      ],
      "text/plain": [
       "supersetEqViaEquality: forall_{A, B | (A = B)} (A supseteq B)"
      ]
     },
     "execution_count": 17,
     "metadata": {},
     "output_type": "execute_result"
    }
   ],
   "source": [
    "supersetEqViaEquality = Forall((A, B), SupersetEq(A, B), conditions=[Equals(A, B)])"
   ]
  },
  {
   "cell_type": "code",
   "execution_count": 18,
   "metadata": {
    "collapsed": false
   },
   "outputs": [
    {
     "data": {
      "text/html": [
       "<strong id=\"transitivitySubsetSubset\"><a class=\"ProveItLink\" href=\"_proofs_\\transitivitySubsetSubset.ipynb\" target=\"_blank\">transitivitySubsetSubset</a>:</strong> <a href=\"__pv_it\\5ecd8d997abe5cb17044ae792b30683ede317b8b0\\expr.ipynb\" target=\"_blank\"><img src=\"__pv_it\\5ecd8d997abe5cb17044ae792b30683ede317b8b0\\expr.png\" style=\"display:inline;vertical-align:middle;\" /></a><br>"
      ],
      "text/plain": [
       "transitivitySubsetSubset: forall_{A, B, C | (A subset B),(B subset C)} (A subset C)"
      ]
     },
     "execution_count": 18,
     "metadata": {},
     "output_type": "execute_result"
    }
   ],
   "source": [
    "transitivitySubsetSubset = Forall((A, B, C), Subset(A, C), conditions=[Subset(A, B), Subset(B, C)])"
   ]
  },
  {
   "cell_type": "code",
   "execution_count": 19,
   "metadata": {
    "collapsed": false
   },
   "outputs": [
    {
     "data": {
      "text/html": [
       "<strong id=\"transitivitySubsetEqSubset\"><a class=\"ProveItLink\" href=\"_proofs_\\transitivitySubsetEqSubset.ipynb\" target=\"_blank\">transitivitySubsetEqSubset</a>:</strong> <a href=\"__pv_it\\266136353abe5b054af8493215c66ba9fe4809a30\\expr.ipynb\" target=\"_blank\"><img src=\"__pv_it\\266136353abe5b054af8493215c66ba9fe4809a30\\expr.png\" style=\"display:inline;vertical-align:middle;\" /></a><br>"
      ],
      "text/plain": [
       "transitivitySubsetEqSubset: forall_{A, B, C | (A subseteq B),(B subset C)} (A subset C)"
      ]
     },
     "execution_count": 19,
     "metadata": {},
     "output_type": "execute_result"
    }
   ],
   "source": [
    "transitivitySubsetEqSubset = Forall((A, B, C), Subset(A, C), conditions=[SubsetEq(A, B), Subset(B, C)])"
   ]
  },
  {
   "cell_type": "code",
   "execution_count": 20,
   "metadata": {
    "collapsed": false
   },
   "outputs": [
    {
     "data": {
      "text/html": [
       "<strong id=\"transitivitySubsetSubsetEq\"><a class=\"ProveItLink\" href=\"_proofs_\\transitivitySubsetSubsetEq.ipynb\" target=\"_blank\">transitivitySubsetSubsetEq</a>:</strong> <a href=\"__pv_it\\1676a0455837064585dcc3bc6546848125f47a850\\expr.ipynb\" target=\"_blank\"><img src=\"__pv_it\\1676a0455837064585dcc3bc6546848125f47a850\\expr.png\" style=\"display:inline;vertical-align:middle;\" /></a><br>"
      ],
      "text/plain": [
       "transitivitySubsetSubsetEq: forall_{A, B, C | (A subset B),(B subseteq C)} (A subset C)"
      ]
     },
     "execution_count": 20,
     "metadata": {},
     "output_type": "execute_result"
    }
   ],
   "source": [
    "transitivitySubsetSubsetEq = Forall((A, B, C), Subset(A, C), conditions=[Subset(A, B), SubsetEq(B, C)])"
   ]
  },
  {
   "cell_type": "code",
   "execution_count": 21,
   "metadata": {
    "collapsed": false
   },
   "outputs": [
    {
     "data": {
      "text/html": [
       "<strong id=\"transitivitySubsetEqSubsetEq\"><a class=\"ProveItLink\" href=\"_proofs_\\transitivitySubsetEqSubsetEq.ipynb\" target=\"_blank\">transitivitySubsetEqSubsetEq</a>:</strong> <a href=\"__pv_it\\13d1ec174814e26692c6194b5302748cfbe890190\\expr.ipynb\" target=\"_blank\"><img src=\"__pv_it\\13d1ec174814e26692c6194b5302748cfbe890190\\expr.png\" style=\"display:inline;vertical-align:middle;\" /></a><br>"
      ],
      "text/plain": [
       "transitivitySubsetEqSubsetEq: forall_{A, B, C | (A subseteq B),(B subseteq C)} (A subseteq C)"
      ]
     },
     "execution_count": 21,
     "metadata": {},
     "output_type": "execute_result"
    }
   ],
   "source": [
    "transitivitySubsetEqSubsetEq = Forall((A, B, C), SubsetEq(A, C), conditions=[SubsetEq(A, B), SubsetEq(B, C)])"
   ]
  },
  {
   "cell_type": "code",
   "execution_count": 22,
   "metadata": {
    "collapsed": false
   },
   "outputs": [
    {
     "data": {
      "text/html": [
       "<strong id=\"transitivitySupsetSupset\"><a class=\"ProveItLink\" href=\"_proofs_\\transitivitySupsetSupset.ipynb\" target=\"_blank\">transitivitySupsetSupset</a>:</strong> <a href=\"__pv_it\\ddb49a3b4614f47a354d98f6decda3a14f6312370\\expr.ipynb\" target=\"_blank\"><img src=\"__pv_it\\ddb49a3b4614f47a354d98f6decda3a14f6312370\\expr.png\" style=\"display:inline;vertical-align:middle;\" /></a><br>"
      ],
      "text/plain": [
       "transitivitySupsetSupset: forall_{A, B, C | (A supset B),(B supset C)} (A supset C)"
      ]
     },
     "execution_count": 22,
     "metadata": {},
     "output_type": "execute_result"
    }
   ],
   "source": [
    "transitivitySupsetSupset = Forall((A, B, C), Superset(A, C), conditions=[Superset(A, B), Superset(B, C)])"
   ]
  },
  {
   "cell_type": "code",
   "execution_count": 23,
   "metadata": {
    "collapsed": false
   },
   "outputs": [
    {
     "data": {
      "text/html": [
       "<strong id=\"transitivitySupsetEqSupset\"><a class=\"ProveItLink\" href=\"_proofs_\\transitivitySupsetEqSupset.ipynb\" target=\"_blank\">transitivitySupsetEqSupset</a>:</strong> <a href=\"__pv_it\\332b823e1158c56de3cc7793724a2ad7964894ac0\\expr.ipynb\" target=\"_blank\"><img src=\"__pv_it\\332b823e1158c56de3cc7793724a2ad7964894ac0\\expr.png\" style=\"display:inline;vertical-align:middle;\" /></a><br>"
      ],
      "text/plain": [
       "transitivitySupsetEqSupset: forall_{A, B, C | (A supseteq B),(B supset C)} (A supset C)"
      ]
     },
     "execution_count": 23,
     "metadata": {},
     "output_type": "execute_result"
    }
   ],
   "source": [
    "transitivitySupsetEqSupset = Forall((A, B, C), Superset(A, C), conditions=[SupersetEq(A, B), Superset(B, C)])"
   ]
  },
  {
   "cell_type": "code",
   "execution_count": 24,
   "metadata": {
    "collapsed": false
   },
   "outputs": [
    {
     "data": {
      "text/html": [
       "<strong id=\"transitivitySupsetSupsetEq\"><a class=\"ProveItLink\" href=\"_proofs_\\transitivitySupsetSupsetEq.ipynb\" target=\"_blank\">transitivitySupsetSupsetEq</a>:</strong> <a href=\"__pv_it\\0a6a4883ec33244df4bd7efdc7c589fb31ff790d0\\expr.ipynb\" target=\"_blank\"><img src=\"__pv_it\\0a6a4883ec33244df4bd7efdc7c589fb31ff790d0\\expr.png\" style=\"display:inline;vertical-align:middle;\" /></a><br>"
      ],
      "text/plain": [
       "transitivitySupsetSupsetEq: forall_{A, B, C | (A supset B),(B supseteq C)} (A supset C)"
      ]
     },
     "execution_count": 24,
     "metadata": {},
     "output_type": "execute_result"
    }
   ],
   "source": [
    "transitivitySupsetSupsetEq = Forall((A, B, C), Superset(A, C), conditions=[Superset(A, B), SupersetEq(B, C)])"
   ]
  },
  {
   "cell_type": "code",
   "execution_count": 25,
   "metadata": {
    "collapsed": false
   },
   "outputs": [
    {
     "data": {
      "text/html": [
       "<strong id=\"transitivitySupsetEqSupsetEq\"><a class=\"ProveItLink\" href=\"_proofs_\\transitivitySupsetEqSupsetEq.ipynb\" target=\"_blank\">transitivitySupsetEqSupsetEq</a>:</strong> <a href=\"__pv_it\\aa952b9a031733fddcd09d9c2d3fa76052e46ebf0\\expr.ipynb\" target=\"_blank\"><img src=\"__pv_it\\aa952b9a031733fddcd09d9c2d3fa76052e46ebf0\\expr.png\" style=\"display:inline;vertical-align:middle;\" /></a><br>"
      ],
      "text/plain": [
       "transitivitySupsetEqSupsetEq: forall_{A, B, C | (A supseteq B),(B supseteq C)} (A supset C)"
      ]
     },
     "execution_count": 25,
     "metadata": {},
     "output_type": "execute_result"
    }
   ],
   "source": [
    "transitivitySupsetEqSupsetEq = Forall((A, B, C), Superset(A, C), conditions=[SupersetEq(A, B), SupersetEq(B, C)])"
   ]
  },
  {
   "cell_type": "code",
   "execution_count": 26,
   "metadata": {
    "collapsed": false,
    "deletable": true,
    "editable": true
   },
   "outputs": [
    {
     "name": "stdout",
     "output_type": "stream",
     "text": [
      "Theorems may be imported from autogenerated _theorems_.py\n"
     ]
    }
   ],
   "source": [
    "%end theorems"
   ]
  },
  {
   "cell_type": "code",
   "execution_count": 27,
   "metadata": {
    "collapsed": true,
    "deletable": true,
    "editable": true
   },
   "outputs": [],
   "source": []
  }
 ],
 "metadata": {
  "kernelspec": {
   "display_name": "Python 2",
   "language": "python",
   "name": "python2"
  },
  "language_info": {
   "codemirror_mode": {
    "name": "ipython",
    "version": 2
   },
   "file_extension": ".py",
   "mimetype": "text/x-python",
   "name": "python",
   "nbconvert_exporter": "python",
   "pygments_lexer": "ipython2",
   "version": "2.7.11"
  }
 },
 "nbformat": 4,
 "nbformat_minor": 0
}
