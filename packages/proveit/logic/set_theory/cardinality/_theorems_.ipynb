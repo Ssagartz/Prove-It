{
 "cells": [
  {
   "cell_type": "markdown",
   "metadata": {
    "collapsed": true,
    "deletable": true,
    "editable": true
   },
   "source": [
    "Theorems for context <a href=\"_context_.ipynb\" class=\"ProveItLink\">proveit.logic.set_theory.cardinality</a>\n",
    "========"
   ]
  },
  {
   "cell_type": "code",
   "execution_count": 1,
   "metadata": {
    "collapsed": false,
    "deletable": true,
    "editable": true
   },
   "outputs": [
    {
     "name": "stdout",
     "output_type": "stream",
     "text": [
      "Defining theorems for context 'proveit.logic.set_theory.cardinality'\n",
      "Subsequent end-of-cell assignments will define theorems\n",
      "'%end theorems' will finalize the definitions\n"
     ]
    }
   ],
   "source": [
    "from proveit.logic import Forall, Exists, Implies, Equals, NotEquals, Card, Set, Distinct\n",
    "from proveit.number import GreaterEq, num, Len\n",
    "from proveit._common_ import a, b, l, N, S\n",
    "from proveit.logic._common_ import xIter1l\n",
    "from proveit.number import NaturalsPos\n",
    "%begin theorems"
   ]
  },
  {
   "cell_type": "markdown",
   "metadata": {
    "deletable": true,
    "editable": true
   },
   "source": [
    "**The cardinality of an enumerated set of unique elements is the number of these unique elements:**"
   ]
  },
  {
   "cell_type": "code",
   "execution_count": 2,
   "metadata": {
    "collapsed": false,
    "deletable": true,
    "editable": true
   },
   "outputs": [
    {
     "data": {
      "text/html": [
       "<strong id=\"enumSetCard\"><a class=\"ProveItLink\" href=\"_proofs_/enumSetCard.ipynb\">enumSetCard</a>:</strong> <a class=\"ProveItLink\" href=\"__pv_it/a9e645fe6a6056fd9721557ee376ea8eb800e1980/expr.ipynb\"><img src=\"__pv_it/a9e645fe6a6056fd9721557ee376ea8eb800e1980/expr.png\" style=\"display:inline;vertical-align:middle;\" /></a><br>"
      ],
      "text/plain": [
       "enumSetCard: forall_{l in NaturalsPos} [forall_{x_(1),...,x_(l) | distinct(x_(1) ,  ...  , x_(l))} (|{x_(1) ,  ...  , x_(l)}| = |x_(1),...,x_(l)|)]"
      ]
     },
     "execution_count": 2,
     "metadata": {},
     "output_type": "execute_result"
    }
   ],
   "source": [
    "enumSetCard = Forall(l, Forall(xIter1l, Equals(Card(Set(xIter1l)), Len(xIter1l)), \n",
    "                               conditions=[Distinct(xIter1l)]),\n",
    "                    domain=NaturalsPos)"
   ]
  },
  {
   "cell_type": "markdown",
   "metadata": {
    "deletable": true,
    "editable": true
   },
   "source": [
    "**If there are two or more elements in a set, there exists a pair of elements in the set that are not the same:**"
   ]
  },
  {
   "cell_type": "code",
   "execution_count": 3,
   "metadata": {
    "collapsed": false,
    "deletable": true,
    "editable": true
   },
   "outputs": [
    {
     "data": {
      "text/html": [
       "<strong id=\"distinctSubsetExistence\"><a class=\"ProveItLink\" href=\"_proofs_/distinctSubsetExistence.ipynb\">distinctSubsetExistence</a>:</strong> <a class=\"ProveItLink\" href=\"__pv_it/4478d1bab4550cf1a83cd683226805071ee888e90/expr.ipynb\"><img src=\"__pv_it/4478d1bab4550cf1a83cd683226805071ee888e90/expr.png\" style=\"display:inline;vertical-align:middle;\" /></a><br>"
      ],
      "text/plain": [
       "distinctSubsetExistence: forall_{l in NaturalsPos} [forall_{S, N | |S| >= N} [exists_{x_(1),...,x_(l) in S | |x_(1),...,x_(l)| = N} distinct(x_(1) ,  ...  , x_(l))]]"
      ]
     },
     "execution_count": 3,
     "metadata": {},
     "output_type": "execute_result"
    }
   ],
   "source": [
    "distinctSubsetExistence = Forall(l, Forall((S, N), \n",
    "                                           Exists(xIter1l, Distinct(xIter1l), domain=S,\n",
    "                                                  conditions=[Equals(Len(xIter1l), N)]),\n",
    "                                           conditions=[GreaterEq(Card(S), N)]),\n",
    "                                 domain=NaturalsPos)"
   ]
  },
  {
   "cell_type": "code",
   "execution_count": 4,
   "metadata": {
    "collapsed": false,
    "deletable": true,
    "editable": true
   },
   "outputs": [
    {
     "data": {
      "text/html": [
       "<strong id=\"distinctPairExistence\"><a class=\"ProveItLink\" href=\"_proofs_/distinctPairExistence.ipynb\">distinctPairExistence</a>:</strong> <a class=\"ProveItLink\" href=\"__pv_it/a09d6c412912906570a8386892cd72880b4b84b10/expr.ipynb\"><img src=\"__pv_it/a09d6c412912906570a8386892cd72880b4b84b10/expr.png\" style=\"display:inline;vertical-align:middle;\" /></a><br>"
      ],
      "text/plain": [
       "distinctPairExistence: forall_{S | |S| >= 2} [exists_{a, b in S} (a != b)]"
      ]
     },
     "execution_count": 4,
     "metadata": {},
     "output_type": "execute_result"
    }
   ],
   "source": [
    "distinctPairExistence = Forall(S, Exists((a, b), NotEquals(a, b), domain=S),\n",
    "                               conditions=[GreaterEq(Card(S), num(2))])"
   ]
  },
  {
   "cell_type": "code",
   "execution_count": 5,
   "metadata": {
    "collapsed": false,
    "deletable": true,
    "editable": true
   },
   "outputs": [
    {
     "name": "stdout",
     "output_type": "stream",
     "text": [
      "Theorems may be imported from autogenerated _theorems_.py\n"
     ]
    }
   ],
   "source": [
    "%end theorems"
   ]
  },
  {
   "cell_type": "code",
   "execution_count": 6,
   "metadata": {
    "collapsed": true,
    "deletable": true,
    "editable": true
   },
   "outputs": [],
   "source": []
  }
 ],
 "metadata": {
  "kernelspec": {
   "display_name": "Python 2",
   "language": "python",
   "name": "python2"
  },
  "language_info": {
   "codemirror_mode": {
    "name": "ipython",
    "version": 2
   },
   "file_extension": ".py",
   "mimetype": "text/x-python",
   "name": "python",
   "nbconvert_exporter": "python",
   "pygments_lexer": "ipython2",
   "version": "2.7.11"
  }
 },
 "nbformat": 4,
 "nbformat_minor": 0
}
