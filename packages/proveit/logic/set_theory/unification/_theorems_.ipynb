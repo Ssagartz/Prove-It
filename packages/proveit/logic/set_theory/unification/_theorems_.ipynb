{
 "cells": [
  {
   "cell_type": "markdown",
   "metadata": {
    "collapsed": true,
    "deletable": true,
    "editable": true
   },
   "source": [
    "Theorems for context <a href=\"_context_.ipynb\" class=\"ProveItLink\">proveit.logic.set_theory.unification</a>\n",
    "========"
   ]
  },
  {
   "cell_type": "code",
   "execution_count": 1,
   "metadata": {
    "collapsed": false,
    "deletable": true,
    "editable": true
   },
   "outputs": [
    {
     "name": "stdout",
     "output_type": "stream",
     "text": [
      "Defining theorems for context 'proveit.logic.set_theory.unification'\n",
      "Subsequent end-of-cell assignments will define theorems\n",
      "%end_theorems will finalize the definitions\n"
     ]
    }
   ],
   "source": [
    "from proveit import Etcetera\n",
    "from proveit.logic import Forall, Equals, Or, And, InSet, NotInSet, Union\n",
    "from proveit._common_ import A, B, Amulti, Aetc, x\n",
    "%begin_theorems"
   ]
  },
  {
   "cell_type": "code",
   "execution_count": 2,
   "metadata": {
    "collapsed": false,
    "deletable": true,
    "editable": true
   },
   "outputs": [
    {
     "data": {
      "text/html": [
       "<strong id=\"membershipUnfolding\"><a class=\"ProveItLink\" href=\"_proofs_\\membershipUnfolding.ipynb\" target=\"_blank\">membershipUnfolding</a>:</strong> <a href=\"__pv_it\\4844221c8e6552ac926997569f1c568644f055d40\\expr.ipynb\" target=\"_blank\"><img src=\"__pv_it\\4844221c8e6552ac926997569f1c568644f055d40\\expr.png\" style=\"display:inline;vertical-align:middle;\" /></a><br>"
      ],
      "text/plain": [
       "membershipUnfolding: forall_{x, A_{#} | (x in ( .. union A_{#} union .. ))} ( .. or (x in A_{#}) or .. )"
      ]
     },
     "execution_count": 2,
     "metadata": {},
     "output_type": "execute_result"
    }
   ],
   "source": [
    "membershipUnfolding = Forall((x, Amulti), Or(Etcetera(InSet(x, Amulti))), \n",
    "                             conditions=[InSet(x, Union(Aetc))])"
   ]
  },
  {
   "cell_type": "code",
   "execution_count": 3,
   "metadata": {
    "collapsed": false,
    "deletable": true,
    "editable": true
   },
   "outputs": [
    {
     "data": {
      "text/html": [
       "<strong id=\"membershipFolding\"><a class=\"ProveItLink\" href=\"_proofs_\\membershipFolding.ipynb\" target=\"_blank\">membershipFolding</a>:</strong> <a href=\"__pv_it\\709fc20852943228921ca5b87c9e3d9f188037870\\expr.ipynb\" target=\"_blank\"><img src=\"__pv_it\\709fc20852943228921ca5b87c9e3d9f188037870\\expr.png\" style=\"display:inline;vertical-align:middle;\" /></a><br>"
      ],
      "text/plain": [
       "membershipFolding: forall_{x, A_{#} | ( .. or (x in A_{#}) or .. )} (x in ( .. union A_{#} union .. ))"
      ]
     },
     "execution_count": 3,
     "metadata": {},
     "output_type": "execute_result"
    }
   ],
   "source": [
    "membershipFolding = Forall((x, Amulti), InSet(x, Union(Aetc)), \n",
    "                           conditions=[Or(Etcetera(InSet(x, Amulti)))])"
   ]
  },
  {
   "cell_type": "code",
   "execution_count": 4,
   "metadata": {
    "collapsed": false,
    "deletable": true,
    "editable": true
   },
   "outputs": [
    {
     "data": {
      "text/html": [
       "<strong id=\"nonmembershipEquiv\"><a class=\"ProveItLink\" href=\"_proofs_\\nonmembershipEquiv.ipynb\" target=\"_blank\">nonmembershipEquiv</a>:</strong> <a href=\"__pv_it\\854cf0af7c88a41ec358a13859a40b0a912441e50\\expr.ipynb\" target=\"_blank\"><img src=\"__pv_it\\854cf0af7c88a41ec358a13859a40b0a912441e50\\expr.png\" style=\"display:inline;vertical-align:middle;\" /></a><br>"
      ],
      "text/plain": [
       "nonmembershipEquiv: forall_{x, A_{#}} ((x not-in ( .. union A_{#} union .. )) = ( .. and (x not-in A_{#}) and .. ))"
      ]
     },
     "execution_count": 4,
     "metadata": {},
     "output_type": "execute_result"
    }
   ],
   "source": [
    "nonmembershipEquiv = Forall((x, Amulti), Equals(NotInSet(x, Union(Aetc)), \n",
    "                                                And(Etcetera(NotInSet(x, Amulti)))))"
   ]
  },
  {
   "cell_type": "code",
   "execution_count": 5,
   "metadata": {
    "collapsed": false,
    "deletable": true,
    "editable": true
   },
   "outputs": [
    {
     "data": {
      "text/html": [
       "<strong id=\"nonmembershipFolding\"><a class=\"ProveItLink\" href=\"_proofs_\\nonmembershipFolding.ipynb\" target=\"_blank\">nonmembershipFolding</a>:</strong> <a href=\"__pv_it\\9fe5b885d7e25e9a607d2316d4088e17b5b145040\\expr.ipynb\" target=\"_blank\"><img src=\"__pv_it\\9fe5b885d7e25e9a607d2316d4088e17b5b145040\\expr.png\" style=\"display:inline;vertical-align:middle;\" /></a><br>"
      ],
      "text/plain": [
       "nonmembershipFolding: forall_{x, A_{#} |  ..,(x not-in A_{#}),.. } (x not-in ( .. union A_{#} union .. ))"
      ]
     },
     "execution_count": 5,
     "metadata": {},
     "output_type": "execute_result"
    }
   ],
   "source": [
    "nonmembershipFolding = Forall((x, Amulti), NotInSet(x, Union(Aetc)), \n",
    "                              conditions=[Etcetera(NotInSet(x, Amulti))])"
   ]
  },
  {
   "cell_type": "code",
   "execution_count": 6,
   "metadata": {
    "collapsed": false,
    "deletable": true,
    "editable": true
   },
   "outputs": [
    {
     "name": "stdout",
     "output_type": "stream",
     "text": [
      "Theorems may be imported from autogenerated _theorems_.py\n"
     ]
    }
   ],
   "source": [
    "%end_theorems"
   ]
  },
  {
   "cell_type": "code",
   "execution_count": 7,
   "metadata": {
    "collapsed": true,
    "deletable": true,
    "editable": true
   },
   "outputs": [],
   "source": []
  }
 ],
 "metadata": {
  "kernelspec": {
   "display_name": "Python 2",
   "language": "python",
   "name": "python2"
  },
  "language_info": {
   "codemirror_mode": {
    "name": "ipython",
    "version": 2
   },
   "file_extension": ".py",
   "mimetype": "text/x-python",
   "name": "python",
   "nbconvert_exporter": "python",
   "pygments_lexer": "ipython2",
   "version": "2.7.11"
  }
 },
 "nbformat": 4,
 "nbformat_minor": 0
}
