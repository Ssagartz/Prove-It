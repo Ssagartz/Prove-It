{
 "cells": [
  {
   "cell_type": "markdown",
   "metadata": {
    "collapsed": true,
    "deletable": true,
    "editable": true
   },
   "source": [
    "Theorems for context <a href=\"_context_.ipynb\" class=\"ProveItLink\">proveit.logic.set_theory.unification</a>\n",
    "========"
   ]
  },
  {
   "cell_type": "code",
   "execution_count": 1,
   "metadata": {
    "collapsed": false,
    "deletable": true,
    "editable": true
   },
   "outputs": [
    {
     "name": "stdout",
     "output_type": "stream",
     "text": [
      "Defining theorems for context 'proveit.logic.set_theory.unification'\n",
      "Subsequent end-of-cell assignments will define theorems\n",
      "'%end theorems' will finalize the definitions\n"
     ]
    }
   ],
   "source": [
    "from proveit.logic import Forall, And, Or, Equals, InSet, NotInSet, Union\n",
    "from proveit._common_ import A, B, m, x, AA\n",
    "from proveit.logic._common_ import iterA1m\n",
    "from proveit.logic.set_theory._common_ import x_in_any_A, x_notin_all_A\n",
    "from proveit.number import NaturalsPos\n",
    "%begin theorems"
   ]
  },
  {
   "cell_type": "code",
   "execution_count": 2,
   "metadata": {
    "collapsed": false,
    "deletable": true,
    "editable": true
   },
   "outputs": [
    {
     "data": {
      "text/html": [
       "<strong id=\"membershipUnfolding\"><a class=\"ProveItLink\" href=\"_proofs_\\membershipUnfolding.ipynb\">membershipUnfolding</a>:</strong> <a class=\"ProveItLink\" href=\"__pv_it\\65b419be452a28d3b5fa17388771e7ff553483d80\\expr.ipynb\"><img src=\"__pv_it\\65b419be452a28d3b5fa17388771e7ff553483d80\\expr.png\" style=\"display:inline;vertical-align:middle;\" /></a><br>"
      ],
      "text/plain": [
       "membershipUnfolding: forall_{m in NaturalsPos} [forall_{x, A_(1),...,A_(m) | x in (A_(1) union  ...  union A_(m))} ((x in A_(1)) or  ...  or (x in A_(m)))]"
      ]
     },
     "execution_count": 2,
     "metadata": {},
     "output_type": "execute_result"
    }
   ],
   "source": [
    "membershipUnfolding = Forall(m, Forall((x, iterA1m), x_in_any_A, \n",
    "                                       conditions=[InSet(x, Union(iterA1m))]),\n",
    "                             domain=NaturalsPos)"
   ]
  },
  {
   "cell_type": "code",
   "execution_count": 3,
   "metadata": {
    "collapsed": false,
    "deletable": true,
    "editable": true
   },
   "outputs": [
    {
     "data": {
      "text/html": [
       "<strong id=\"membershipFolding\"><a class=\"ProveItLink\" href=\"_proofs_\\membershipFolding.ipynb\">membershipFolding</a>:</strong> <a class=\"ProveItLink\" href=\"__pv_it\\1570ecd20a08f6b2d9f9bea9848a72264e5652240\\expr.ipynb\"><img src=\"__pv_it\\1570ecd20a08f6b2d9f9bea9848a72264e5652240\\expr.png\" style=\"display:inline;vertical-align:middle;\" /></a><br>"
      ],
      "text/plain": [
       "membershipFolding: forall_{m in NaturalsPos} [forall_{x, A_(1),...,A_(m) | (x in A_(1)) or  ...  or (x in A_(m))} (x in (A_(1) union  ...  union A_(m)))]"
      ]
     },
     "execution_count": 3,
     "metadata": {},
     "output_type": "execute_result"
    }
   ],
   "source": [
    "membershipFolding = Forall(m, Forall((x, iterA1m), InSet(x, Union(iterA1m)), \n",
    "                                     conditions=[x_in_any_A]),\n",
    "                           domain=NaturalsPos)"
   ]
  },
  {
   "cell_type": "code",
   "execution_count": 4,
   "metadata": {
    "collapsed": false,
    "deletable": true,
    "editable": true
   },
   "outputs": [
    {
     "data": {
      "text/html": [
       "<strong id=\"nonmembershipEquiv\"><a class=\"ProveItLink\" href=\"_proofs_\\nonmembershipEquiv.ipynb\">nonmembershipEquiv</a>:</strong> <a class=\"ProveItLink\" href=\"__pv_it\\52b6cc3b935e17537be315c0169585cb84285ba60\\expr.ipynb\"><img src=\"__pv_it\\52b6cc3b935e17537be315c0169585cb84285ba60\\expr.png\" style=\"display:inline;vertical-align:middle;\" /></a><br>"
      ],
      "text/plain": [
       "nonmembershipEquiv: forall_{m in NaturalsPos} [forall_{x, A_(1),...,A_(m)} ((x not-in (A_(1) union  ...  union A_(m))) = ((x not-in A_(1)) and  ...  and (x not-in A_(m))))]"
      ]
     },
     "execution_count": 4,
     "metadata": {},
     "output_type": "execute_result"
    }
   ],
   "source": [
    "nonmembershipEquiv = Forall(m, Forall((x, iterA1m), \n",
    "                                      Equals(NotInSet(x, Union(iterA1m)),\n",
    "                                             x_notin_all_A)),\n",
    "                            domain=NaturalsPos)"
   ]
  },
  {
   "cell_type": "code",
   "execution_count": 5,
   "metadata": {
    "collapsed": false,
    "deletable": true,
    "editable": true
   },
   "outputs": [
    {
     "data": {
      "text/html": [
       "<strong id=\"nonmembershipFolding\"><a class=\"ProveItLink\" href=\"_proofs_\\nonmembershipFolding.ipynb\">nonmembershipFolding</a>:</strong> <a class=\"ProveItLink\" href=\"__pv_it\\b487173d5ad735f825658406a04b0fcf178d97380\\expr.ipynb\"><img src=\"__pv_it\\b487173d5ad735f825658406a04b0fcf178d97380\\expr.png\" style=\"display:inline;vertical-align:middle;\" /></a><br>"
      ],
      "text/plain": [
       "nonmembershipFolding: forall_{m in NaturalsPos} [forall_{x, A_(1),...,A_(m) | (x not-in A_(1)) and  ...  and (x not-in A_(m))} (x not-in (A_(1) union  ...  union A_(m)))]"
      ]
     },
     "execution_count": 5,
     "metadata": {},
     "output_type": "execute_result"
    }
   ],
   "source": [
    "nonmembershipFolding = Forall(m, Forall((x, iterA1m), \n",
    "                                        NotInSet(x, Union(iterA1m)),\n",
    "                                        conditions=[x_notin_all_A]),\n",
    "                              domain=NaturalsPos)"
   ]
  },
  {
   "cell_type": "code",
   "execution_count": 6,
   "metadata": {
    "collapsed": false,
    "deletable": true,
    "editable": true
   },
   "outputs": [
    {
     "name": "stdout",
     "output_type": "stream",
     "text": [
      "Theorems may be imported from autogenerated _theorems_.py\n"
     ]
    }
   ],
   "source": [
    "%end theorems"
   ]
  },
  {
   "cell_type": "code",
   "execution_count": 7,
   "metadata": {
    "collapsed": true,
    "deletable": true,
    "editable": true
   },
   "outputs": [],
   "source": []
  }
 ],
 "metadata": {
  "kernelspec": {
   "display_name": "Python 2",
   "language": "python",
   "name": "python2"
  },
  "language_info": {
   "codemirror_mode": {
    "name": "ipython",
    "version": 2
   },
   "file_extension": ".py",
   "mimetype": "text/x-python",
   "name": "python",
   "nbconvert_exporter": "python",
   "pygments_lexer": "ipython2",
   "version": "2.7.11"
  }
 },
 "nbformat": 4,
 "nbformat_minor": 0
}
