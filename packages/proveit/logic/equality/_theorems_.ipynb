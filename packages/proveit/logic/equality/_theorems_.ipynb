{
 "cells": [
  {
   "cell_type": "markdown",
   "metadata": {
    "collapsed": true,
    "deletable": true,
    "editable": true
   },
   "source": [
    "Theorems for context <a href=\"_context_.ipynb\" class=\"ProveItLink\">proveit.logic.equality</a>\n",
    "========"
   ]
  },
  {
   "cell_type": "code",
   "execution_count": 1,
   "metadata": {
    "collapsed": false,
    "deletable": true,
    "editable": true
   },
   "outputs": [
    {
     "name": "stdout",
     "output_type": "stream",
     "text": [
      "Defining theorems for context 'proveit.logic.equality'\n",
      "Subsequent end-of-cell assignments will define theorems\n",
      "'%end theorems' will finalize the definitions\n"
     ]
    }
   ],
   "source": [
    "from proveit.logic import Equals, NotEquals, Implies, Not, And, Forall, FALSE, inBool\n",
    "from proveit._common_ import A, a, b, c, x, y, z, f, P, fa, fab, fx, fxy, Px, Py, Q\n",
    "from proveit.logic._common_ import PofTrue, PofFalse\n",
    "%begin theorems"
   ]
  },
  {
   "cell_type": "markdown",
   "metadata": {
    "deletable": true,
    "editable": true
   },
   "source": [
    "**Applying symmetry, we can reverse any known equality:**"
   ]
  },
  {
   "cell_type": "code",
   "execution_count": 2,
   "metadata": {
    "collapsed": false,
    "deletable": true,
    "editable": true
   },
   "outputs": [
    {
     "data": {
      "text/html": [
       "<strong id=\"equalsReversal\"><a class=\"ProveItLink\" href=\"_proofs_\\equalsReversal.ipynb\">equalsReversal</a>:</strong> <a class=\"ProveItLink\" href=\"__pv_it\\2264953c266d297cc3bc6166daadfbbf139557020\\expr.ipynb\"><img src=\"__pv_it\\2264953c266d297cc3bc6166daadfbbf139557020\\expr.png\" style=\"display:inline;vertical-align:middle;\" /></a><br>"
      ],
      "text/plain": [
       "equalsReversal: forall_{x, y | (x = y)} (y = x)"
      ]
     },
     "execution_count": 2,
     "metadata": {},
     "output_type": "execute_result"
    }
   ],
   "source": [
    "equalsReversal = Forall((x, y), Equals(y, x), conditions=[Equals(x, y)])"
   ]
  },
  {
   "cell_type": "markdown",
   "metadata": {
    "deletable": true,
    "editable": true
   },
   "source": [
    "### Substitution within a statement that is known to be true"
   ]
  },
  {
   "cell_type": "code",
   "execution_count": 3,
   "metadata": {
    "collapsed": false,
    "deletable": true,
    "editable": true
   },
   "outputs": [
    {
     "data": {
      "text/html": [
       "<strong id=\"lhsSubstitute\"><a class=\"ProveItLink\" href=\"_proofs_\\lhsSubstitute.ipynb\">lhsSubstitute</a>:</strong> <a class=\"ProveItLink\" href=\"__pv_it\\d1ede1fa39a2326c77ab1affc77281f57398214b0\\expr.ipynb\"><img src=\"__pv_it\\d1ede1fa39a2326c77ab1affc77281f57398214b0\\expr.png\" style=\"display:inline;vertical-align:middle;\" /></a><br>"
      ],
      "text/plain": [
       "lhsSubstitute: forall_{P, x, y | P(y),(x = y)} P(x)"
      ]
     },
     "execution_count": 3,
     "metadata": {},
     "output_type": "execute_result"
    }
   ],
   "source": [
    "lhsSubstitute = Forall((P, x, y), Px, conditions=[Py, Equals(x, y)])"
   ]
  },
  {
   "cell_type": "code",
   "execution_count": 4,
   "metadata": {
    "collapsed": false,
    "deletable": true,
    "editable": true
   },
   "outputs": [
    {
     "data": {
      "text/html": [
       "<strong id=\"rhsSubstitute\"><a class=\"ProveItLink\" href=\"_proofs_\\rhsSubstitute.ipynb\">rhsSubstitute</a>:</strong> <a class=\"ProveItLink\" href=\"__pv_it\\3ea435251a75bc6cc28cf23b193be378bdaa8a0a0\\expr.ipynb\"><img src=\"__pv_it\\3ea435251a75bc6cc28cf23b193be378bdaa8a0a0\\expr.png\" style=\"display:inline;vertical-align:middle;\" /></a><br>"
      ],
      "text/plain": [
       "rhsSubstitute: forall_{P, x, y | P(x),(x = y)} P(y)"
      ]
     },
     "execution_count": 4,
     "metadata": {},
     "output_type": "execute_result"
    }
   ],
   "source": [
    "rhsSubstitute = Forall((P, x, y), Py, conditions=[Px, Equals(x, y)])"
   ]
  },
  {
   "cell_type": "markdown",
   "metadata": {
    "deletable": true,
    "editable": true
   },
   "source": [
    "### Special substitution involving Booleans"
   ]
  },
  {
   "cell_type": "code",
   "execution_count": 5,
   "metadata": {
    "collapsed": false,
    "deletable": true,
    "editable": true
   },
   "outputs": [
    {
     "data": {
      "text/html": [
       "<strong id=\"substituteInTrue\"><a class=\"ProveItLink\" href=\"_proofs_\\substituteInTrue.ipynb\">substituteInTrue</a>:</strong> <a class=\"ProveItLink\" href=\"__pv_it\\ef02abe1e80b1fe4a2df0f9aa27666cc527e65400\\expr.ipynb\"><img src=\"__pv_it\\ef02abe1e80b1fe4a2df0f9aa27666cc527e65400\\expr.png\" style=\"display:inline;vertical-align:middle;\" /></a><br>"
      ],
      "text/plain": [
       "substituteInTrue: forall_{P, x | P(x),x} P(TRUE)"
      ]
     },
     "execution_count": 5,
     "metadata": {},
     "output_type": "execute_result"
    }
   ],
   "source": [
    "substituteInTrue = Forall((P, x), PofTrue, conditions=[Px, x])"
   ]
  },
  {
   "cell_type": "code",
   "execution_count": 6,
   "metadata": {
    "collapsed": false,
    "deletable": true,
    "editable": true
   },
   "outputs": [
    {
     "data": {
      "text/html": [
       "<strong id=\"substituteTruth\"><a class=\"ProveItLink\" href=\"_proofs_\\substituteTruth.ipynb\">substituteTruth</a>:</strong> <a class=\"ProveItLink\" href=\"__pv_it\\13232f60ca7a2fa7709f558d0cdb8557557708f20\\expr.ipynb\"><img src=\"__pv_it\\13232f60ca7a2fa7709f558d0cdb8557557708f20\\expr.png\" style=\"display:inline;vertical-align:middle;\" /></a><br>"
      ],
      "text/plain": [
       "substituteTruth: forall_{P, x | P(TRUE),x} P(x)"
      ]
     },
     "execution_count": 6,
     "metadata": {},
     "output_type": "execute_result"
    }
   ],
   "source": [
    "substituteTruth = Forall((P, x), Px, conditions=[PofTrue, x])"
   ]
  },
  {
   "cell_type": "code",
   "execution_count": 7,
   "metadata": {
    "collapsed": false,
    "deletable": true,
    "editable": true
   },
   "outputs": [
    {
     "data": {
      "text/html": [
       "<strong id=\"substituteInFalse\"><a class=\"ProveItLink\" href=\"_proofs_\\substituteInFalse.ipynb\">substituteInFalse</a>:</strong> <a class=\"ProveItLink\" href=\"__pv_it\\e035f12b735dfffd6d81e0fe30f7b029c72bb0110\\expr.ipynb\"><img src=\"__pv_it\\e035f12b735dfffd6d81e0fe30f7b029c72bb0110\\expr.png\" style=\"display:inline;vertical-align:middle;\" /></a><br>"
      ],
      "text/plain": [
       "substituteInFalse: forall_{P, x | P(x),not(x)} P(FALSE)"
      ]
     },
     "execution_count": 7,
     "metadata": {},
     "output_type": "execute_result"
    }
   ],
   "source": [
    "substituteInFalse = Forall((P, x), PofFalse, conditions=[Px, Not(x)])"
   ]
  },
  {
   "cell_type": "code",
   "execution_count": 8,
   "metadata": {
    "collapsed": false,
    "deletable": true,
    "editable": true
   },
   "outputs": [
    {
     "data": {
      "text/html": [
       "<strong id=\"substituteFalsehood\"><a class=\"ProveItLink\" href=\"_proofs_\\substituteFalsehood.ipynb\">substituteFalsehood</a>:</strong> <a class=\"ProveItLink\" href=\"__pv_it\\a17d5e8fd344c3c3ca54c76e95e40200d8bd7f760\\expr.ipynb\"><img src=\"__pv_it\\a17d5e8fd344c3c3ca54c76e95e40200d8bd7f760\\expr.png\" style=\"display:inline;vertical-align:middle;\" /></a><br>"
      ],
      "text/plain": [
       "substituteFalsehood: forall_{P, x | P(FALSE),not(x)} P(x)"
      ]
     },
     "execution_count": 8,
     "metadata": {},
     "output_type": "execute_result"
    }
   ],
   "source": [
    "substituteFalsehood = Forall((P, x), Px, conditions=[PofFalse, Not(x)])"
   ]
  },
  {
   "cell_type": "markdown",
   "metadata": {
    "deletable": true,
    "editable": true
   },
   "source": [
    "### Special cases of equivalence with a statement that is known to be true"
   ]
  },
  {
   "cell_type": "code",
   "execution_count": 9,
   "metadata": {
    "collapsed": false,
    "deletable": true,
    "editable": true
   },
   "outputs": [
    {
     "data": {
      "text/html": [
       "<strong id=\"rhsViaEquivalence\"><a class=\"ProveItLink\" href=\"_proofs_\\rhsViaEquivalence.ipynb\">rhsViaEquivalence</a>:</strong> <a class=\"ProveItLink\" href=\"__pv_it\\11347fc63dad67af6a89aaebfbaf1e4bf01fe9950\\expr.ipynb\"><img src=\"__pv_it\\11347fc63dad67af6a89aaebfbaf1e4bf01fe9950\\expr.png\" style=\"display:inline;vertical-align:middle;\" /></a><br>"
      ],
      "text/plain": [
       "rhsViaEquivalence: forall_{P, Q | P,(P = Q)} Q"
      ]
     },
     "execution_count": 9,
     "metadata": {},
     "output_type": "execute_result"
    }
   ],
   "source": [
    "rhsViaEquivalence = Forall((P, Q), Q, conditions=[P, Equals(P, Q)])"
   ]
  },
  {
   "cell_type": "code",
   "execution_count": 10,
   "metadata": {
    "collapsed": false,
    "deletable": true,
    "editable": true
   },
   "outputs": [
    {
     "data": {
      "text/html": [
       "<strong id=\"lhsViaEquivalence\"><a class=\"ProveItLink\" href=\"_proofs_\\lhsViaEquivalence.ipynb\">lhsViaEquivalence</a>:</strong> <a class=\"ProveItLink\" href=\"__pv_it\\db757dcaeba77f2b06d7c1f68397798fddaaa3090\\expr.ipynb\"><img src=\"__pv_it\\db757dcaeba77f2b06d7c1f68397798fddaaa3090\\expr.png\" style=\"display:inline;vertical-align:middle;\" /></a><br>"
      ],
      "text/plain": [
       "lhsViaEquivalence: forall_{P, Q | Q,(P = Q)} P"
      ]
     },
     "execution_count": 10,
     "metadata": {},
     "output_type": "execute_result"
    }
   ],
   "source": [
    "lhsViaEquivalence = Forall((P, Q), P, conditions=[Q, Equals(P, Q)])"
   ]
  },
  {
   "cell_type": "markdown",
   "metadata": {
    "deletable": true,
    "editable": true
   },
   "source": [
    "### Folding and unfolding $\\neq$"
   ]
  },
  {
   "cell_type": "code",
   "execution_count": 11,
   "metadata": {
    "collapsed": false,
    "deletable": true,
    "editable": true
   },
   "outputs": [
    {
     "data": {
      "text/html": [
       "<strong id=\"unfoldNotEquals\"><a class=\"ProveItLink\" href=\"_proofs_\\unfoldNotEquals.ipynb\">unfoldNotEquals</a>:</strong> <a class=\"ProveItLink\" href=\"__pv_it\\de2cdff2d5421332d0ea17ea5715a95e85afc87a0\\expr.ipynb\"><img src=\"__pv_it\\de2cdff2d5421332d0ea17ea5715a95e85afc87a0\\expr.png\" style=\"display:inline;vertical-align:middle;\" /></a><br>"
      ],
      "text/plain": [
       "unfoldNotEquals: forall_{x, y | (x != y)} not(x = y)"
      ]
     },
     "execution_count": 11,
     "metadata": {},
     "output_type": "execute_result"
    }
   ],
   "source": [
    "unfoldNotEquals = Forall((x, y), Not(Equals(x, y)), conditions=[NotEquals(x, y)])"
   ]
  },
  {
   "cell_type": "code",
   "execution_count": 12,
   "metadata": {
    "collapsed": false,
    "deletable": true,
    "editable": true
   },
   "outputs": [
    {
     "data": {
      "text/html": [
       "<strong id=\"foldNotEquals\"><a class=\"ProveItLink\" href=\"_proofs_\\foldNotEquals.ipynb\">foldNotEquals</a>:</strong> <a class=\"ProveItLink\" href=\"__pv_it\\73ada1fc0a134f9d5b706596e485f6025433f08b0\\expr.ipynb\"><img src=\"__pv_it\\73ada1fc0a134f9d5b706596e485f6025433f08b0\\expr.png\" style=\"display:inline;vertical-align:middle;\" /></a><br>"
      ],
      "text/plain": [
       "foldNotEquals: forall_{x, y | not(x = y)} (x != y)"
      ]
     },
     "execution_count": 12,
     "metadata": {},
     "output_type": "execute_result"
    }
   ],
   "source": [
    "foldNotEquals = Forall((x, y), NotEquals(x, y), conditions=[Not(Equals(x, y))])"
   ]
  },
  {
   "cell_type": "markdown",
   "metadata": {
    "deletable": true,
    "editable": true
   },
   "source": [
    "**$\\neq$ is also symmetric:**"
   ]
  },
  {
   "cell_type": "code",
   "execution_count": 13,
   "metadata": {
    "collapsed": false,
    "deletable": true,
    "editable": true
   },
   "outputs": [
    {
     "data": {
      "text/html": [
       "<strong id=\"notEqualsSymmetry\"><a class=\"ProveItLink\" href=\"_proofs_\\notEqualsSymmetry.ipynb\">notEqualsSymmetry</a>:</strong> <a class=\"ProveItLink\" href=\"__pv_it\\2a4510e841857e4a4eddbb06aeac4c51c025fb610\\expr.ipynb\"><img src=\"__pv_it\\2a4510e841857e4a4eddbb06aeac4c51c025fb610\\expr.png\" style=\"display:inline;vertical-align:middle;\" /></a><br>"
      ],
      "text/plain": [
       "notEqualsSymmetry: forall_{x, y | (x != y)} (y != x)"
      ]
     },
     "execution_count": 13,
     "metadata": {},
     "output_type": "execute_result"
    }
   ],
   "source": [
    "notEqualsSymmetry = Forall((x, y), NotEquals(y, x), conditions=[NotEquals(x, y)])"
   ]
  },
  {
   "cell_type": "markdown",
   "metadata": {
    "deletable": true,
    "editable": true
   },
   "source": [
    "**If two things are both equal and not equal, there is a contradiction:**"
   ]
  },
  {
   "cell_type": "code",
   "execution_count": 14,
   "metadata": {
    "collapsed": false,
    "deletable": true,
    "editable": true
   },
   "outputs": [
    {
     "data": {
      "text/html": [
       "<strong id=\"notEqualsContradiction\"><a class=\"ProveItLink\" href=\"_proofs_\\notEqualsContradiction.ipynb\">notEqualsContradiction</a>:</strong> <a class=\"ProveItLink\" href=\"__pv_it\\7a9bcd44cb0d058798181091955fe8da96645cc40\\expr.ipynb\"><img src=\"__pv_it\\7a9bcd44cb0d058798181091955fe8da96645cc40\\expr.png\" style=\"display:inline;vertical-align:middle;\" /></a><br>"
      ],
      "text/plain": [
       "notEqualsContradiction: forall_{x, y | (x = y),(x != y)} FALSE"
      ]
     },
     "execution_count": 14,
     "metadata": {},
     "output_type": "execute_result"
    }
   ],
   "source": [
    "notEqualsContradiction = Forall((x, y), FALSE, conditions=[Equals(x, y), NotEquals(x, y)]) "
   ]
  },
  {
   "cell_type": "code",
   "execution_count": null,
   "metadata": {
    "collapsed": true,
    "deletable": true,
    "editable": true
   },
   "outputs": [],
   "source": []
  },
  {
   "cell_type": "code",
   "execution_count": 15,
   "metadata": {
    "collapsed": true,
    "deletable": true,
    "editable": true
   },
   "outputs": [],
   "source": []
  },
  {
   "cell_type": "code",
   "execution_count": 15,
   "metadata": {
    "collapsed": false,
    "deletable": true,
    "editable": true
   },
   "outputs": [
    {
     "data": {
      "text/html": [
       "<strong id=\"unaryEvaluation\"><a class=\"ProveItLink\" href=\"_proofs_\\unaryEvaluation.ipynb\" target=\"_blank\">unaryEvaluation</a>:</strong> <a href=\"__pv_it\\9fd283472156d29b46a5741222b0475c0c3e19f50\\expr.ipynb\" target=\"_blank\"><img src=\"__pv_it\\9fd283472156d29b46a5741222b0475c0c3e19f50\\expr.png\" style=\"display:inline;vertical-align:middle;\" /></a><br>"
      ],
      "text/plain": [
       "unaryEvaluation: forall_{f, x, a, c} ((x = a) => ((f(a) = c) => (f(x) = c)))"
      ]
     },
     "execution_count": 15,
     "metadata": {},
     "output_type": "execute_result"
    }
   ],
   "source": [
    "unaryEvaluation = Forall((f, x, a, c), Implies(Equals(x, a), Implies(Equals(fa, c), Equals(fx, c))))"
   ]
  },
  {
   "cell_type": "code",
   "execution_count": 16,
   "metadata": {
    "collapsed": false,
    "deletable": true,
    "editable": true
   },
   "outputs": [
    {
     "data": {
      "text/html": [
       "<strong id=\"binarySubstitution\"><a class=\"ProveItLink\" href=\"_proofs_\\binarySubstitution.ipynb\" target=\"_blank\">binarySubstitution</a>:</strong> <a href=\"__pv_it\\c81e60ade92c307abedf35e518efd447cca703710\\expr.ipynb\" target=\"_blank\"><img src=\"__pv_it\\c81e60ade92c307abedf35e518efd447cca703710\\expr.png\" style=\"display:inline;vertical-align:middle;\" /></a><br>"
      ],
      "text/plain": [
       "binarySubstitution: forall_{f, x, y, a, b} (((x = a) and (y = b)) => (f(x,y) = f(a,b)))"
      ]
     },
     "execution_count": 16,
     "metadata": {},
     "output_type": "execute_result"
    }
   ],
   "source": [
    "binarySubstitution = Forall((f, x, y, a, b), Implies(And(Equals(x, a), Equals(y, b)), Equals(fxy, fab)))"
   ]
  },
  {
   "cell_type": "code",
   "execution_count": 17,
   "metadata": {
    "collapsed": false,
    "deletable": true,
    "editable": true
   },
   "outputs": [
    {
     "data": {
      "text/html": [
       "<strong id=\"binaryEvaluation\"><a class=\"ProveItLink\" href=\"_proofs_\\binaryEvaluation.ipynb\" target=\"_blank\">binaryEvaluation</a>:</strong> <a href=\"__pv_it\\32a86239819e7b9787866049567479ed6e2c7b540\\expr.ipynb\" target=\"_blank\"><img src=\"__pv_it\\32a86239819e7b9787866049567479ed6e2c7b540\\expr.png\" style=\"display:inline;vertical-align:middle;\" /></a><br>"
      ],
      "text/plain": [
       "binaryEvaluation: forall_{f, x, y, a, b, c} (((x = a) and (y = b)) => ((f(a,b) = c) => (f(x,y) = c)))"
      ]
     },
     "execution_count": 17,
     "metadata": {},
     "output_type": "execute_result"
    }
   ],
   "source": [
    "binaryEvaluation = Forall((f, x, y, a, b, c), Implies(And(Equals(x, a), Equals(y, b)), Implies(Equals(fab, c), Equals(fxy, c))))"
   ]
  },
  {
   "cell_type": "code",
   "execution_count": 18,
   "metadata": {
    "collapsed": false,
    "deletable": true,
    "editable": true
   },
   "outputs": [
    {
     "data": {
      "text/html": [
       "<strong id=\"notEqualsInBool\"><a class=\"ProveItLink\" href=\"_proofs_\\notEqualsInBool.ipynb\" target=\"_blank\">notEqualsInBool</a>:</strong> <a href=\"__pv_it\\1f7e4d7152ba89280c294e417e6650d412a2d1fb0\\expr.ipynb\" target=\"_blank\"><img src=\"__pv_it\\1f7e4d7152ba89280c294e417e6650d412a2d1fb0\\expr.png\" style=\"display:inline;vertical-align:middle;\" /></a><br>"
      ],
      "text/plain": [
       "notEqualsInBool: forall_{x, y} ((x != y) in BOOLEANS)"
      ]
     },
     "execution_count": 18,
     "metadata": {},
     "output_type": "execute_result"
    }
   ],
   "source": [
    "notEqualsInBool = Forall((x, y), inBool(NotEquals(x, y)))"
   ]
  },
  {
   "cell_type": "code",
   "execution_count": 19,
   "metadata": {
    "collapsed": false,
    "deletable": true,
    "editable": true
   },
   "outputs": [
    {
     "data": {
      "text/html": [
       "<strong id=\"contradictionViaFalsification\"><a class=\"ProveItLink\" href=\"_proofs_\\contradictionViaFalsification.ipynb\" target=\"_blank\">contradictionViaFalsification</a>:</strong> <a href=\"__pv_it\\616425f77ced9eb2e6df6d9942b2b19e787e70cb0\\expr.ipynb\" target=\"_blank\"><img src=\"__pv_it\\616425f77ced9eb2e6df6d9942b2b19e787e70cb0\\expr.png\" style=\"display:inline;vertical-align:middle;\" /></a><br>"
      ],
      "text/plain": [
       "contradictionViaFalsification: forall_{A | A,(A = FALSE)} FALSE"
      ]
     },
     "execution_count": 19,
     "metadata": {},
     "output_type": "execute_result"
    }
   ],
   "source": [
    "contradictionViaFalsification = Forall(A, FALSE, conditions=[A, Equals(A, FALSE)])"
   ]
  },
  {
   "cell_type": "code",
   "execution_count": 15,
   "metadata": {
    "collapsed": false,
    "deletable": true,
    "editable": true
   },
   "outputs": [
    {
     "name": "stdout",
     "output_type": "stream",
     "text": [
      "Modifying theorem equalsReversal in proveit.logic.equality context\n",
      "Modifying theorem lhsSubstitute in proveit.logic.equality context\n",
      "Modifying theorem rhsSubstitute in proveit.logic.equality context\n",
      "Modifying theorem substituteInTrue in proveit.logic.equality context\n",
      "Modifying theorem substituteTruth in proveit.logic.equality context\n",
      "Modifying theorem substituteInFalse in proveit.logic.equality context\n",
      "Modifying theorem substituteFalsehood in proveit.logic.equality context\n",
      "Modifying theorem rhsViaEquivalence in proveit.logic.equality context\n",
      "Modifying theorem lhsViaEquivalence in proveit.logic.equality context\n",
      "Modifying theorem unfoldNotEquals in proveit.logic.equality context\n",
      "Modifying theorem foldNotEquals in proveit.logic.equality context\n",
      "Modifying theorem notEqualsSymmetry in proveit.logic.equality context\n",
      "Modifying theorem notEqualsContradiction in proveit.logic.equality context\n",
      "Removing theorem binaryEvaluation from proveit.logic.equality context\n",
      "Removing theorem binarySubstitution from proveit.logic.equality context\n",
      "Removing theorem contradictionViaFalsification from proveit.logic.equality context\n",
      "Removing theorem notEqualsInBool from proveit.logic.equality context\n",
      "Removing theorem unaryEvaluation from proveit.logic.equality context\n",
      "substituteFalsehood expression notebook is being updated\n",
      "foldNotEquals expression notebook is being updated\n",
      "lhsSubstitute expression notebook is being updated\n",
      "substituteInFalse expression notebook is being updated\n",
      "rhsViaEquivalence expression notebook is being updated\n",
      "unfoldNotEquals expression notebook is being updated\n",
      "notEqualsContradiction expression notebook is being updated\n",
      "substituteInTrue expression notebook is being updated\n",
      "equalsReversal expression notebook is being updated\n",
      "substituteTruth expression notebook is being updated\n",
      "notEqualsSymmetry expression notebook is being updated\n",
      "rhsSubstitute expression notebook is being updated\n",
      "lhsViaEquivalence expression notebook is being updated\n",
      "Theorems may be imported from autogenerated _theorems_.py\n",
      "Stashing _proofs_\\binaryEvaluation.ipynb to _proofs_\\binaryEvaluation~stashed~1.ipynb in case it is needed.\n",
      "Stashing _proofs_\\binarySubstitution.ipynb to _proofs_\\binarySubstitution~stashed~1.ipynb in case it is needed.\n",
      "Stashing _proofs_\\contradictionViaFalsification.ipynb to _proofs_\\contradictionViaFalsification~stashed~1.ipynb in case it is needed.\n",
      "Stashing _proofs_\\notEqualsInBool.ipynb to _proofs_\\notEqualsInBool~stashed~1.ipynb in case it is needed.\n",
      "Stashing _proofs_\\unaryEvaluation.ipynb to _proofs_\\unaryEvaluation~stashed~1.ipynb in case it is needed.\n"
     ]
    }
   ],
   "source": [
    "%end theorems"
   ]
  },
  {
   "cell_type": "code",
   "execution_count": 21,
   "metadata": {
    "collapsed": true,
    "deletable": true,
    "editable": true
   },
   "outputs": [],
   "source": []
  }
 ],
 "metadata": {
  "kernelspec": {
   "display_name": "Python 2",
   "language": "python",
   "name": "python2"
  },
  "language_info": {
   "codemirror_mode": {
    "name": "ipython",
    "version": 2
   },
   "file_extension": ".py",
   "mimetype": "text/x-python",
   "name": "python",
   "nbconvert_exporter": "python",
   "pygments_lexer": "ipython2",
   "version": "2.7.11"
  }
 },
 "nbformat": 4,
 "nbformat_minor": 0
}
