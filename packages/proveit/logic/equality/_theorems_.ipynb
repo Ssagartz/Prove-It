{
 "cells": [
  {
   "cell_type": "markdown",
   "metadata": {
    "collapsed": true,
    "deletable": true,
    "editable": true
   },
   "source": [
    "Theorems for context <a href=\"_context_.ipynb\" class=\"ProveItLink\">proveit.logic.equality</a>\n",
    "========"
   ]
  },
  {
   "cell_type": "code",
   "execution_count": 1,
   "metadata": {
    "collapsed": false,
    "deletable": true,
    "editable": true
   },
   "outputs": [
    {
     "name": "stdout",
     "output_type": "stream",
     "text": [
      "Defining theorems for context 'proveit.logic.equality'\n",
      "Subsequent end-of-cell assignments will define theorems\n",
      "'%end theorems' will finalize the definitions\n"
     ]
    }
   ],
   "source": [
    "from proveit.logic import Equals, NotEquals, Implies, Not, And, Forall, FALSE, inBool\n",
    "from proveit._common_ import A, a, b, c, x, y, z, f, P, fa, fab, fx, fxy, Px, Py, Q\n",
    "from proveit.logic._common_ import PofTrue, PofFalse\n",
    "%begin theorems"
   ]
  },
  {
   "cell_type": "markdown",
   "metadata": {
    "deletable": true,
    "editable": true
   },
   "source": [
    "**Applying symmetry, we can reverse any known equality:**"
   ]
  },
  {
   "cell_type": "code",
   "execution_count": 2,
   "metadata": {
    "collapsed": false,
    "deletable": true,
    "editable": true
   },
   "outputs": [
    {
     "data": {
      "text/html": [
       "<strong id=\"equalsReversal\"><a class=\"ProveItLink\" href=\"_proofs_\\equalsReversal.ipynb\" target=\"_blank\">equalsReversal</a>:</strong> <a href=\"__pv_it\\cac46856bf74ea5a1aa7df0d5d0912a3fb79d0500\\expr.ipynb\" target=\"_blank\"><img src=\"__pv_it\\cac46856bf74ea5a1aa7df0d5d0912a3fb79d0500\\expr.png\" style=\"display:inline;vertical-align:middle;\" /></a><br>"
      ],
      "text/plain": [
       "equalsReversal: forall_{x, y | (x = y)} (y = x)"
      ]
     },
     "execution_count": 2,
     "metadata": {},
     "output_type": "execute_result"
    }
   ],
   "source": [
    "equalsReversal = Forall((x, y), Equals(y, x), conditions=[Equals(x, y)])"
   ]
  },
  {
   "cell_type": "markdown",
   "metadata": {
    "deletable": true,
    "editable": true
   },
   "source": [
    "### Substitution within a statement that is known to be true"
   ]
  },
  {
   "cell_type": "code",
   "execution_count": 3,
   "metadata": {
    "collapsed": false,
    "deletable": true,
    "editable": true
   },
   "outputs": [
    {
     "data": {
      "text/html": [
       "<strong id=\"lhsSubstitute\"><a class=\"ProveItLink\" href=\"_proofs_\\lhsSubstitute.ipynb\" target=\"_blank\">lhsSubstitute</a>:</strong> <a href=\"__pv_it\\ddf6dd80e23d6ec126eeff291ac5fb9fcc4663370\\expr.ipynb\" target=\"_blank\"><img src=\"__pv_it\\ddf6dd80e23d6ec126eeff291ac5fb9fcc4663370\\expr.png\" style=\"display:inline;vertical-align:middle;\" /></a><br>"
      ],
      "text/plain": [
       "lhsSubstitute: forall_{P, x, y | P(y),(x = y)} P(x)"
      ]
     },
     "execution_count": 3,
     "metadata": {},
     "output_type": "execute_result"
    }
   ],
   "source": [
    "lhsSubstitute = Forall((P, x, y), Px, conditions=[Py, Equals(x, y)])"
   ]
  },
  {
   "cell_type": "code",
   "execution_count": 4,
   "metadata": {
    "collapsed": false,
    "deletable": true,
    "editable": true
   },
   "outputs": [
    {
     "data": {
      "text/html": [
       "<strong id=\"rhsSubstitute\"><a class=\"ProveItLink\" href=\"_proofs_\\rhsSubstitute.ipynb\" target=\"_blank\">rhsSubstitute</a>:</strong> <a href=\"__pv_it\\22dd8e1c766360a90e962fac5bfe0529c88147fa0\\expr.ipynb\" target=\"_blank\"><img src=\"__pv_it\\22dd8e1c766360a90e962fac5bfe0529c88147fa0\\expr.png\" style=\"display:inline;vertical-align:middle;\" /></a><br>"
      ],
      "text/plain": [
       "rhsSubstitute: forall_{P, x, y | P(x),(x = y)} P(y)"
      ]
     },
     "execution_count": 4,
     "metadata": {},
     "output_type": "execute_result"
    }
   ],
   "source": [
    "rhsSubstitute = Forall((P, x, y), Py, conditions=[Px, Equals(x, y)])"
   ]
  },
  {
   "cell_type": "markdown",
   "metadata": {
    "deletable": true,
    "editable": true
   },
   "source": [
    "### Special substitution involving Booleans"
   ]
  },
  {
   "cell_type": "code",
   "execution_count": 5,
   "metadata": {
    "collapsed": false,
    "deletable": true,
    "editable": true
   },
   "outputs": [
    {
     "data": {
      "text/html": [
       "<strong id=\"substituteInTrue\"><a class=\"ProveItLink\" href=\"_proofs_\\substituteInTrue.ipynb\" target=\"_blank\">substituteInTrue</a>:</strong> <a href=\"__pv_it\\29499bdaaf1fd19507be2be1a2bc96c73880bc040\\expr.ipynb\" target=\"_blank\"><img src=\"__pv_it\\29499bdaaf1fd19507be2be1a2bc96c73880bc040\\expr.png\" style=\"display:inline;vertical-align:middle;\" /></a><br>"
      ],
      "text/plain": [
       "substituteInTrue: forall_{P, x | P(x),x} P(TRUE)"
      ]
     },
     "execution_count": 5,
     "metadata": {},
     "output_type": "execute_result"
    }
   ],
   "source": [
    "substituteInTrue = Forall((P, x), PofTrue, conditions=[Px, x])"
   ]
  },
  {
   "cell_type": "code",
   "execution_count": 6,
   "metadata": {
    "collapsed": false,
    "deletable": true,
    "editable": true
   },
   "outputs": [
    {
     "data": {
      "text/html": [
       "<strong id=\"substituteTruth\"><a class=\"ProveItLink\" href=\"_proofs_\\substituteTruth.ipynb\" target=\"_blank\">substituteTruth</a>:</strong> <a href=\"__pv_it\\c72e57b9e18ef94d34d5cb959e0fe8fa7dea62a00\\expr.ipynb\" target=\"_blank\"><img src=\"__pv_it\\c72e57b9e18ef94d34d5cb959e0fe8fa7dea62a00\\expr.png\" style=\"display:inline;vertical-align:middle;\" /></a><br>"
      ],
      "text/plain": [
       "substituteTruth: forall_{P, x | P(TRUE),x} P(x)"
      ]
     },
     "execution_count": 6,
     "metadata": {},
     "output_type": "execute_result"
    }
   ],
   "source": [
    "substituteTruth = Forall((P, x), Px, conditions=[PofTrue, x])"
   ]
  },
  {
   "cell_type": "code",
   "execution_count": 7,
   "metadata": {
    "collapsed": false,
    "deletable": true,
    "editable": true
   },
   "outputs": [
    {
     "data": {
      "text/html": [
       "<strong id=\"substituteInFalse\"><a class=\"ProveItLink\" href=\"_proofs_\\substituteInFalse.ipynb\" target=\"_blank\">substituteInFalse</a>:</strong> <a href=\"__pv_it\\5cefa4508a1642e7e96235e3a8c07242032ec9570\\expr.ipynb\" target=\"_blank\"><img src=\"__pv_it\\5cefa4508a1642e7e96235e3a8c07242032ec9570\\expr.png\" style=\"display:inline;vertical-align:middle;\" /></a><br>"
      ],
      "text/plain": [
       "substituteInFalse: forall_{P, x | P(x),not(x)} P(FALSE)"
      ]
     },
     "execution_count": 7,
     "metadata": {},
     "output_type": "execute_result"
    }
   ],
   "source": [
    "substituteInFalse = Forall((P, x), PofFalse, conditions=[Px, Not(x)])"
   ]
  },
  {
   "cell_type": "code",
   "execution_count": 8,
   "metadata": {
    "collapsed": false,
    "deletable": true,
    "editable": true
   },
   "outputs": [
    {
     "data": {
      "text/html": [
       "<strong id=\"substituteFalsehood\"><a class=\"ProveItLink\" href=\"_proofs_\\substituteFalsehood.ipynb\" target=\"_blank\">substituteFalsehood</a>:</strong> <a href=\"__pv_it\\5265720e087362a0fd2eaebf0c0f62ea29312f6f0\\expr.ipynb\" target=\"_blank\"><img src=\"__pv_it\\5265720e087362a0fd2eaebf0c0f62ea29312f6f0\\expr.png\" style=\"display:inline;vertical-align:middle;\" /></a><br>"
      ],
      "text/plain": [
       "substituteFalsehood: forall_{P, x | P(FALSE),not(x)} P(x)"
      ]
     },
     "execution_count": 8,
     "metadata": {},
     "output_type": "execute_result"
    }
   ],
   "source": [
    "substituteFalsehood = Forall((P, x), Px, conditions=[PofFalse, Not(x)])"
   ]
  },
  {
   "cell_type": "markdown",
   "metadata": {
    "deletable": true,
    "editable": true
   },
   "source": [
    "### Special cases of equivalence with a statement that is known to be true"
   ]
  },
  {
   "cell_type": "code",
   "execution_count": 9,
   "metadata": {
    "collapsed": false,
    "deletable": true,
    "editable": true
   },
   "outputs": [
    {
     "data": {
      "text/html": [
       "<strong id=\"rhsViaEquivalence\"><a class=\"ProveItLink\" href=\"_proofs_\\rhsViaEquivalence.ipynb\" target=\"_blank\">rhsViaEquivalence</a>:</strong> <a href=\"__pv_it\\8f81ff053040ea55b7fbd2aa249f014e7eef320a0\\expr.ipynb\" target=\"_blank\"><img src=\"__pv_it\\8f81ff053040ea55b7fbd2aa249f014e7eef320a0\\expr.png\" style=\"display:inline;vertical-align:middle;\" /></a><br>"
      ],
      "text/plain": [
       "rhsViaEquivalence: forall_{P, Q | P,(P = Q)} Q"
      ]
     },
     "execution_count": 9,
     "metadata": {},
     "output_type": "execute_result"
    }
   ],
   "source": [
    "rhsViaEquivalence = Forall((P, Q), Q, conditions=[P, Equals(P, Q)])"
   ]
  },
  {
   "cell_type": "code",
   "execution_count": 10,
   "metadata": {
    "collapsed": false,
    "deletable": true,
    "editable": true
   },
   "outputs": [
    {
     "data": {
      "text/html": [
       "<strong id=\"lhsViaEquivalence\"><a class=\"ProveItLink\" href=\"_proofs_\\lhsViaEquivalence.ipynb\" target=\"_blank\">lhsViaEquivalence</a>:</strong> <a href=\"__pv_it\\be288c337d5d8a3a02aeaa6e7432a9975e2368070\\expr.ipynb\" target=\"_blank\"><img src=\"__pv_it\\be288c337d5d8a3a02aeaa6e7432a9975e2368070\\expr.png\" style=\"display:inline;vertical-align:middle;\" /></a><br>"
      ],
      "text/plain": [
       "lhsViaEquivalence: forall_{P, Q | Q,(P = Q)} P"
      ]
     },
     "execution_count": 10,
     "metadata": {},
     "output_type": "execute_result"
    }
   ],
   "source": [
    "lhsViaEquivalence = Forall((P, Q), P, conditions=[Q, Equals(P, Q)])"
   ]
  },
  {
   "cell_type": "markdown",
   "metadata": {
    "deletable": true,
    "editable": true
   },
   "source": [
    "### Folding and unfolding $\\neq$"
   ]
  },
  {
   "cell_type": "code",
   "execution_count": 11,
   "metadata": {
    "collapsed": false,
    "deletable": true,
    "editable": true
   },
   "outputs": [
    {
     "data": {
      "text/html": [
       "<strong id=\"unfoldNotEquals\"><a class=\"ProveItLink\" href=\"_proofs_\\unfoldNotEquals.ipynb\" target=\"_blank\">unfoldNotEquals</a>:</strong> <a href=\"__pv_it\\2b3064459bc0191f077cc0abfacd54a8509739690\\expr.ipynb\" target=\"_blank\"><img src=\"__pv_it\\2b3064459bc0191f077cc0abfacd54a8509739690\\expr.png\" style=\"display:inline;vertical-align:middle;\" /></a><br>"
      ],
      "text/plain": [
       "unfoldNotEquals: forall_{x, y | (x != y)} not(x = y)"
      ]
     },
     "execution_count": 11,
     "metadata": {},
     "output_type": "execute_result"
    }
   ],
   "source": [
    "unfoldNotEquals = Forall((x, y), Not(Equals(x, y)), conditions=[NotEquals(x, y)])"
   ]
  },
  {
   "cell_type": "code",
   "execution_count": 12,
   "metadata": {
    "collapsed": false,
    "deletable": true,
    "editable": true
   },
   "outputs": [
    {
     "data": {
      "text/html": [
       "<strong id=\"foldNotEquals\"><a class=\"ProveItLink\" href=\"_proofs_\\foldNotEquals.ipynb\" target=\"_blank\">foldNotEquals</a>:</strong> <a href=\"__pv_it\\7699daf8cf1db07c17fa3d989694db08d297e06f0\\expr.ipynb\" target=\"_blank\"><img src=\"__pv_it\\7699daf8cf1db07c17fa3d989694db08d297e06f0\\expr.png\" style=\"display:inline;vertical-align:middle;\" /></a><br>"
      ],
      "text/plain": [
       "foldNotEquals: forall_{x, y | not(x = y)} (x != y)"
      ]
     },
     "execution_count": 12,
     "metadata": {},
     "output_type": "execute_result"
    }
   ],
   "source": [
    "foldNotEquals = Forall((x, y), NotEquals(x, y), conditions=[Not(Equals(x, y))])"
   ]
  },
  {
   "cell_type": "markdown",
   "metadata": {
    "deletable": true,
    "editable": true
   },
   "source": [
    "**$\\neq$ is also symmetric:**"
   ]
  },
  {
   "cell_type": "code",
   "execution_count": 13,
   "metadata": {
    "collapsed": false,
    "deletable": true,
    "editable": true
   },
   "outputs": [
    {
     "data": {
      "text/html": [
       "<strong id=\"notEqualsSymmetry\"><a class=\"ProveItLink\" href=\"_proofs_\\notEqualsSymmetry.ipynb\" target=\"_blank\">notEqualsSymmetry</a>:</strong> <a href=\"__pv_it\\eba0b18a26ea26292c4dc216c0e851d64b283cd20\\expr.ipynb\" target=\"_blank\"><img src=\"__pv_it\\eba0b18a26ea26292c4dc216c0e851d64b283cd20\\expr.png\" style=\"display:inline;vertical-align:middle;\" /></a><br>"
      ],
      "text/plain": [
       "notEqualsSymmetry: forall_{x, y | (x != y)} (y != x)"
      ]
     },
     "execution_count": 13,
     "metadata": {},
     "output_type": "execute_result"
    }
   ],
   "source": [
    "notEqualsSymmetry = Forall((x, y), NotEquals(y, x), conditions=[NotEquals(x, y)])"
   ]
  },
  {
   "cell_type": "markdown",
   "metadata": {
    "deletable": true,
    "editable": true
   },
   "source": [
    "**If two things are both equal and not equal, there is a contradiction:**"
   ]
  },
  {
   "cell_type": "code",
   "execution_count": 14,
   "metadata": {
    "collapsed": false,
    "deletable": true,
    "editable": true
   },
   "outputs": [
    {
     "data": {
      "text/html": [
       "<strong id=\"notEqualsContradiction\"><a class=\"ProveItLink\" href=\"_proofs_\\notEqualsContradiction.ipynb\" target=\"_blank\">notEqualsContradiction</a>:</strong> <a href=\"__pv_it\\471813d704798396526999947630dfbd6d1935c40\\expr.ipynb\" target=\"_blank\"><img src=\"__pv_it\\471813d704798396526999947630dfbd6d1935c40\\expr.png\" style=\"display:inline;vertical-align:middle;\" /></a><br>"
      ],
      "text/plain": [
       "notEqualsContradiction: forall_{x, y | (x = y),(x != y)} FALSE"
      ]
     },
     "execution_count": 14,
     "metadata": {},
     "output_type": "execute_result"
    }
   ],
   "source": [
    "notEqualsContradiction = Forall((x, y), FALSE, conditions=[Equals(x, y), NotEquals(x, y)]) "
   ]
  },
  {
   "cell_type": "code",
   "execution_count": 15,
   "metadata": {
    "collapsed": true,
    "deletable": true,
    "editable": true
   },
   "outputs": [],
   "source": []
  },
  {
   "cell_type": "code",
   "execution_count": 15,
   "metadata": {
    "collapsed": true,
    "deletable": true,
    "editable": true
   },
   "outputs": [],
   "source": []
  },
  {
   "cell_type": "code",
   "execution_count": 15,
   "metadata": {
    "collapsed": false,
    "deletable": true,
    "editable": true
   },
   "outputs": [
    {
     "data": {
      "text/html": [
       "<strong id=\"unaryEvaluation\"><a class=\"ProveItLink\" href=\"_proofs_\\unaryEvaluation.ipynb\" target=\"_blank\">unaryEvaluation</a>:</strong> <a href=\"__pv_it\\9fd283472156d29b46a5741222b0475c0c3e19f50\\expr.ipynb\" target=\"_blank\"><img src=\"__pv_it\\9fd283472156d29b46a5741222b0475c0c3e19f50\\expr.png\" style=\"display:inline;vertical-align:middle;\" /></a><br>"
      ],
      "text/plain": [
       "unaryEvaluation: forall_{f, x, a, c} ((x = a) => ((f(a) = c) => (f(x) = c)))"
      ]
     },
     "execution_count": 15,
     "metadata": {},
     "output_type": "execute_result"
    }
   ],
   "source": [
    "unaryEvaluation = Forall((f, x, a, c), Implies(Equals(x, a), Implies(Equals(fa, c), Equals(fx, c))))"
   ]
  },
  {
   "cell_type": "code",
   "execution_count": 16,
   "metadata": {
    "collapsed": false,
    "deletable": true,
    "editable": true
   },
   "outputs": [
    {
     "data": {
      "text/html": [
       "<strong id=\"binarySubstitution\"><a class=\"ProveItLink\" href=\"_proofs_\\binarySubstitution.ipynb\" target=\"_blank\">binarySubstitution</a>:</strong> <a href=\"__pv_it\\c81e60ade92c307abedf35e518efd447cca703710\\expr.ipynb\" target=\"_blank\"><img src=\"__pv_it\\c81e60ade92c307abedf35e518efd447cca703710\\expr.png\" style=\"display:inline;vertical-align:middle;\" /></a><br>"
      ],
      "text/plain": [
       "binarySubstitution: forall_{f, x, y, a, b} (((x = a) and (y = b)) => (f(x,y) = f(a,b)))"
      ]
     },
     "execution_count": 16,
     "metadata": {},
     "output_type": "execute_result"
    }
   ],
   "source": [
    "binarySubstitution = Forall((f, x, y, a, b), Implies(And(Equals(x, a), Equals(y, b)), Equals(fxy, fab)))"
   ]
  },
  {
   "cell_type": "code",
   "execution_count": 17,
   "metadata": {
    "collapsed": false,
    "deletable": true,
    "editable": true
   },
   "outputs": [
    {
     "data": {
      "text/html": [
       "<strong id=\"binaryEvaluation\"><a class=\"ProveItLink\" href=\"_proofs_\\binaryEvaluation.ipynb\" target=\"_blank\">binaryEvaluation</a>:</strong> <a href=\"__pv_it\\32a86239819e7b9787866049567479ed6e2c7b540\\expr.ipynb\" target=\"_blank\"><img src=\"__pv_it\\32a86239819e7b9787866049567479ed6e2c7b540\\expr.png\" style=\"display:inline;vertical-align:middle;\" /></a><br>"
      ],
      "text/plain": [
       "binaryEvaluation: forall_{f, x, y, a, b, c} (((x = a) and (y = b)) => ((f(a,b) = c) => (f(x,y) = c)))"
      ]
     },
     "execution_count": 17,
     "metadata": {},
     "output_type": "execute_result"
    }
   ],
   "source": [
    "binaryEvaluation = Forall((f, x, y, a, b, c), Implies(And(Equals(x, a), Equals(y, b)), Implies(Equals(fab, c), Equals(fxy, c))))"
   ]
  },
  {
   "cell_type": "code",
   "execution_count": 18,
   "metadata": {
    "collapsed": false,
    "deletable": true,
    "editable": true
   },
   "outputs": [
    {
     "data": {
      "text/html": [
       "<strong id=\"notEqualsInBool\"><a class=\"ProveItLink\" href=\"_proofs_\\notEqualsInBool.ipynb\" target=\"_blank\">notEqualsInBool</a>:</strong> <a href=\"__pv_it\\1f7e4d7152ba89280c294e417e6650d412a2d1fb0\\expr.ipynb\" target=\"_blank\"><img src=\"__pv_it\\1f7e4d7152ba89280c294e417e6650d412a2d1fb0\\expr.png\" style=\"display:inline;vertical-align:middle;\" /></a><br>"
      ],
      "text/plain": [
       "notEqualsInBool: forall_{x, y} ((x != y) in BOOLEANS)"
      ]
     },
     "execution_count": 18,
     "metadata": {},
     "output_type": "execute_result"
    }
   ],
   "source": [
    "notEqualsInBool = Forall((x, y), inBool(NotEquals(x, y)))"
   ]
  },
  {
   "cell_type": "code",
   "execution_count": 19,
   "metadata": {
    "collapsed": false,
    "deletable": true,
    "editable": true
   },
   "outputs": [
    {
     "data": {
      "text/html": [
       "<strong id=\"contradictionViaFalsification\"><a class=\"ProveItLink\" href=\"_proofs_\\contradictionViaFalsification.ipynb\" target=\"_blank\">contradictionViaFalsification</a>:</strong> <a href=\"__pv_it\\616425f77ced9eb2e6df6d9942b2b19e787e70cb0\\expr.ipynb\" target=\"_blank\"><img src=\"__pv_it\\616425f77ced9eb2e6df6d9942b2b19e787e70cb0\\expr.png\" style=\"display:inline;vertical-align:middle;\" /></a><br>"
      ],
      "text/plain": [
       "contradictionViaFalsification: forall_{A | A,(A = FALSE)} FALSE"
      ]
     },
     "execution_count": 19,
     "metadata": {},
     "output_type": "execute_result"
    }
   ],
   "source": [
    "contradictionViaFalsification = Forall(A, FALSE, conditions=[A, Equals(A, FALSE)])"
   ]
  },
  {
   "cell_type": "code",
   "execution_count": 20,
   "metadata": {
    "collapsed": false,
    "deletable": true,
    "editable": true
   },
   "outputs": [
    {
     "name": "stdout",
     "output_type": "stream",
     "text": [
      "Theorems may be imported from autogenerated _theorems_.py\n"
     ]
    }
   ],
   "source": [
    "%end theorems"
   ]
  },
  {
   "cell_type": "code",
   "execution_count": 21,
   "metadata": {
    "collapsed": true,
    "deletable": true,
    "editable": true
   },
   "outputs": [],
   "source": []
  }
 ],
 "metadata": {
  "kernelspec": {
   "display_name": "Python 2",
   "language": "python",
   "name": "python2"
  },
  "language_info": {
   "codemirror_mode": {
    "name": "ipython",
    "version": 2
   },
   "file_extension": ".py",
   "mimetype": "text/x-python",
   "name": "python",
   "nbconvert_exporter": "python",
   "pygments_lexer": "ipython2",
   "version": "2.7.11"
  }
 },
 "nbformat": 4,
 "nbformat_minor": 0
}
