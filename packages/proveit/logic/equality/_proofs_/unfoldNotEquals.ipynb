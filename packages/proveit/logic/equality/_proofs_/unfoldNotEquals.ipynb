{
 "cells": [
  {
   "cell_type": "markdown",
   "metadata": {
    "collapsed": true,
    "deletable": true,
    "editable": true
   },
   "source": [
    "Proof of <a class=\"ProveItLink\" href=\"..\\..\\..\\_context_.ipynb\">proveit</a>.<a class=\"ProveItLink\" href=\"..\\..\\_context_.ipynb\">logic</a>.<a class=\"ProveItLink\" href=\"..\\_context_.ipynb\">equality</a>.<a href=\"../_theorems_.ipynb#unfoldNotEquals\" class=\"ProveItLink\">unfoldNotEquals</a> theorem\n",
    "========"
   ]
  },
  {
   "cell_type": "code",
   "execution_count": 1,
   "metadata": {
    "collapsed": true,
    "deletable": true,
    "editable": true
   },
   "outputs": [],
   "source": [
    "import proveit\n",
    "from proveit import defaults\n",
    "from proveit.logic.equality._axioms_ import notEqualsDef\n",
    "context = proveit.Context('..') # the theorem's context is in the parent directory"
   ]
  },
  {
   "cell_type": "code",
   "execution_count": 2,
   "metadata": {
    "collapsed": false,
    "deletable": true,
    "editable": true
   },
   "outputs": [
    {
     "name": "stdout",
     "output_type": "stream",
     "text": [
      "Beginning proof of unfoldNotEquals\n",
      "Recorded 'presuming' information\n",
      "Presuming previous theorems in this context (and any of their dependencies).\n"
     ]
    },
    {
     "data": {
      "text/html": [
       "<strong id=\"unfoldNotEquals\">unfoldNotEquals:</strong> <a class=\"ProveItLink\" href=\"..\\__pv_it\\f9d207e192d579db6f280d162f39b8df3d44c2310\\expr.ipynb\"><img src=\"..\\__pv_it\\f9d207e192d579db6f280d162f39b8df3d44c2310\\expr.png\" style=\"display:inline;vertical-align:middle;\" /></a><br>(see <a class=\"ProveItLink\" href=\"..\\__pv_it\\f9d207e192d579db6f280d162f39b8df3d44c2310\\dependencies.ipynb\">dependencies</a>)"
      ],
      "text/plain": [
       "unfoldNotEquals: forall_{x, y | x != y} [not](x = y)"
      ]
     },
     "execution_count": 2,
     "metadata": {},
     "output_type": "execute_result"
    }
   ],
   "source": [
    "%proving unfoldNotEquals presuming []"
   ]
  },
  {
   "cell_type": "code",
   "execution_count": 3,
   "metadata": {
    "collapsed": false,
    "deletable": true,
    "editable": true
   },
   "outputs": [
    {
     "data": {
      "text/html": [
       "<strong id=\"defaults.assumptions\">defaults.assumptions:</strong> <a class=\"ProveItLink\" href=\"..\\__pv_it\\43f3f7398e5f49463c7eb47522b5b6065a82165d0\\expr.ipynb\"><img src=\"..\\__pv_it\\43f3f7398e5f49463c7eb47522b5b6065a82165d0\\expr.png\" style=\"display:inline;vertical-align:middle;\" /></a><br>"
      ],
      "text/plain": [
       "defaults.assumptions: (x != y)"
      ]
     },
     "execution_count": 3,
     "metadata": {},
     "output_type": "execute_result"
    }
   ],
   "source": [
    "defaults.assumptions = unfoldNotEquals.conditions"
   ]
  },
  {
   "cell_type": "code",
   "execution_count": 4,
   "metadata": {
    "collapsed": false
   },
   "outputs": [
    {
     "data": {
      "text/html": [
       "<span style=\"font-size:20px;\"> &#x22A2;&nbsp;<a class=\"ProveItLink\" href=\"..\\__pv_it\\88e81522c3a2b11de8fcd10a167a75b3ca8d25ac0\\expr.ipynb\"><img src=\"..\\__pv_it\\88e81522c3a2b11de8fcd10a167a75b3ca8d25ac0\\expr.png\" style=\"display:inline;vertical-align:middle;\" /></a></span>"
      ],
      "text/plain": [
       "|= forall_{x, y} ((x != y) = [not](x = y))"
      ]
     },
     "execution_count": 4,
     "metadata": {},
     "output_type": "execute_result"
    }
   ],
   "source": [
    "notEqualsDef"
   ]
  },
  {
   "cell_type": "code",
   "execution_count": 5,
   "metadata": {
    "collapsed": false
   },
   "outputs": [
    {
     "data": {
      "text/html": [
       "<span style=\"font-size:20px;\"><a class=\"ProveItLink\" href=\"..\\__pv_it\\0a0c3733a14282ba7131d88b1f2c47f4d6a357dd0\\expr.ipynb\"><img src=\"..\\__pv_it\\0a0c3733a14282ba7131d88b1f2c47f4d6a357dd0\\expr.png\" style=\"display:inline;vertical-align:middle;\" /></a> &#x22A2;&nbsp;<a class=\"ProveItLink\" href=\"..\\__pv_it\\ba803e74a545c0e769490f0360bfdd9ef850012c0\\expr.ipynb\"><img src=\"..\\__pv_it\\ba803e74a545c0e769490f0360bfdd9ef850012c0\\expr.png\" style=\"display:inline;vertical-align:middle;\" /></a></span>"
      ],
      "text/plain": [
       "{x != y} |= [not](x = y)"
      ]
     },
     "execution_count": 5,
     "metadata": {},
     "output_type": "execute_result"
    }
   ],
   "source": [
    "notEqualsDef.specialize().deriveRightViaEquivalence()"
   ]
  },
  {
   "cell_type": "code",
   "execution_count": 6,
   "metadata": {
    "collapsed": false
   },
   "outputs": [
    {
     "data": {
      "text/html": [
       "<table><tr><th>&nbsp;</th><th>step type</th><th>requirements</th><th>statement</th></tr>\n",
       "<tr><td>0</td><td>generalizaton</td><td>1</td><td><span style=\"font-size:20px;\"> &#x22A2;&nbsp;<a class=\"ProveItLink\" href=\"..\\__pv_it\\f9d207e192d579db6f280d162f39b8df3d44c2310\\expr.ipynb\"><img src=\"..\\__pv_it\\f9d207e192d579db6f280d162f39b8df3d44c2310\\expr.png\" style=\"display:inline;vertical-align:middle;\" /></a></span></td></tr>\n",
       "<tr><td>1</td><td>specialization</td><td>2, 3, 4</td><td><span style=\"font-size:20px;\"><a class=\"ProveItLink\" href=\"..\\__pv_it\\0a0c3733a14282ba7131d88b1f2c47f4d6a357dd0\\expr.ipynb\"><img src=\"..\\__pv_it\\0a0c3733a14282ba7131d88b1f2c47f4d6a357dd0\\expr.png\" style=\"display:inline;vertical-align:middle;\" /></a> &#x22A2;&nbsp;<a class=\"ProveItLink\" href=\"..\\__pv_it\\ba803e74a545c0e769490f0360bfdd9ef850012c0\\expr.ipynb\"><img src=\"..\\__pv_it\\ba803e74a545c0e769490f0360bfdd9ef850012c0\\expr.png\" style=\"display:inline;vertical-align:middle;\" /></a></span></td></tr>\n",
       "<tr><td>&nbsp;</td><td colspan=4 style=\"text-align:left\"><span style=\"font-size:20px;\"><a class=\"ProveItLink\" href=\"..\\__pv_it\\0a8dbdedaa4e1ab086ddacfd189d26c27c20483c0\\expr.ipynb\"><img src=\"..\\__pv_it\\0a8dbdedaa4e1ab086ddacfd189d26c27c20483c0\\expr.png\" style=\"display:inline;vertical-align:middle;\" /></a>, <a class=\"ProveItLink\" href=\"..\\__pv_it\\35ae1a01f21ed93061aff7b59c05dfe912e4452e0\\expr.ipynb\"><img src=\"..\\__pv_it\\35ae1a01f21ed93061aff7b59c05dfe912e4452e0\\expr.png\" style=\"display:inline;vertical-align:middle;\" /></a></span></td></tr><tr><td>2</td><td>theorem</td><td></td><td><span style=\"font-size:20px;\"> &#x22A2;&nbsp;<a class=\"ProveItLink\" href=\"..\\__pv_it\\20f6197d92a4d6f4184131bc4d9ee6adbfe00fd00\\expr.ipynb\"><img src=\"..\\__pv_it\\20f6197d92a4d6f4184131bc4d9ee6adbfe00fd00\\expr.png\" style=\"display:inline;vertical-align:middle;\" /></a></span></td></tr>\n",
       "<tr><td>&nbsp;</td><td colspan=4 style-\"text-align:left\"><a class=\"ProveItLink\" href=\"rhsViaEquivalence.ipynb\">proveit.logic.equality.rhsViaEquivalence</a></td></tr><tr><td>3</td><td>assumption</td><td></td><td><span style=\"font-size:20px;\"><a class=\"ProveItLink\" href=\"..\\__pv_it\\0a0c3733a14282ba7131d88b1f2c47f4d6a357dd0\\expr.ipynb\"><img src=\"..\\__pv_it\\0a0c3733a14282ba7131d88b1f2c47f4d6a357dd0\\expr.png\" style=\"display:inline;vertical-align:middle;\" /></a> &#x22A2;&nbsp;<a class=\"ProveItLink\" href=\"..\\__pv_it\\d653f83d068ba3b3b2ff1f6849298500353558900\\expr.ipynb\"><img src=\"..\\__pv_it\\d653f83d068ba3b3b2ff1f6849298500353558900\\expr.png\" style=\"display:inline;vertical-align:middle;\" /></a></span></td></tr>\n",
       "<tr><td>4</td><td>specialization</td><td>5</td><td><span style=\"font-size:20px;\"> &#x22A2;&nbsp;<a class=\"ProveItLink\" href=\"..\\__pv_it\\ceff45681db55742dc31f8a1be7304ba7564535b0\\expr.ipynb\"><img src=\"..\\__pv_it\\ceff45681db55742dc31f8a1be7304ba7564535b0\\expr.png\" style=\"display:inline;vertical-align:middle;\" /></a></span></td></tr>\n",
       "<tr><td>&nbsp;</td><td colspan=4 style=\"text-align:left\"><span style=\"font-size:20px;\"><a class=\"ProveItLink\" href=\"..\\__pv_it\\1a9d7410315f0e0994a116f471e5b8ad6b53002f0\\expr.ipynb\"><img src=\"..\\__pv_it\\1a9d7410315f0e0994a116f471e5b8ad6b53002f0\\expr.png\" style=\"display:inline;vertical-align:middle;\" /></a>, <a class=\"ProveItLink\" href=\"..\\__pv_it\\1508a34b03e842065c701031c3d1f7b4347abf2f0\\expr.ipynb\"><img src=\"..\\__pv_it\\1508a34b03e842065c701031c3d1f7b4347abf2f0\\expr.png\" style=\"display:inline;vertical-align:middle;\" /></a></span></td></tr><tr><td>5</td><td>axiom</td><td></td><td><span style=\"font-size:20px;\"> &#x22A2;&nbsp;<a class=\"ProveItLink\" href=\"..\\__pv_it\\88e81522c3a2b11de8fcd10a167a75b3ca8d25ac0\\expr.ipynb\"><img src=\"..\\__pv_it\\88e81522c3a2b11de8fcd10a167a75b3ca8d25ac0\\expr.png\" style=\"display:inline;vertical-align:middle;\" /></a></span></td></tr>\n",
       "<tr><td>&nbsp;</td><td colspan=4 style-\"text-align:left\"><a class=\"ProveItLink\" href=\"..\\_axioms_.ipynb#notEqualsDef\">proveit.logic.equality.notEqualsDef</a></td></tr>"
      ],
      "text/plain": [
       "<proveit._core_.proof.Generalization instance at 0x0000000008DE3D48>"
      ]
     },
     "execution_count": 6,
     "metadata": {},
     "output_type": "execute_result"
    }
   ],
   "source": [
    "%qed"
   ]
  },
  {
   "cell_type": "code",
   "execution_count": null,
   "metadata": {
    "collapsed": true
   },
   "outputs": [],
   "source": []
  }
 ],
 "metadata": {
  "kernelspec": {
   "display_name": "Python 2",
   "language": "python",
   "name": "python2"
  },
  "language_info": {
   "codemirror_mode": {
    "name": "ipython",
    "version": 2
   },
   "file_extension": ".py",
   "mimetype": "text/x-python",
   "name": "python",
   "nbconvert_exporter": "python",
   "pygments_lexer": "ipython2",
   "version": "2.7.11"
  }
 },
 "nbformat": 4,
 "nbformat_minor": 0
}
