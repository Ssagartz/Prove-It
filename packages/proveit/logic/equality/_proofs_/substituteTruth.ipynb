{
 "cells": [
  {
   "cell_type": "markdown",
   "metadata": {
    "collapsed": true,
    "deletable": true,
    "editable": true
   },
   "source": [
    "Proof of <a class=\"ProveItLink\" href=\"..\\..\\..\\_context_.ipynb\">proveit</a>.<a class=\"ProveItLink\" href=\"..\\..\\_context_.ipynb\">logic</a>.<a class=\"ProveItLink\" href=\"..\\_context_.ipynb\">equality</a>.<a href=\"../_theorems_.ipynb#substituteTruth\" class=\"ProveItLink\">substituteTruth</a> theorem\n",
    "========"
   ]
  },
  {
   "cell_type": "code",
   "execution_count": 3,
   "metadata": {
    "collapsed": true,
    "deletable": true,
    "editable": true
   },
   "outputs": [],
   "source": [
    "import proveit\n",
    "from proveit import defaults\n",
    "from proveit._common_ import x, P, Px\n",
    "from proveit.logic._common_ import PofTrue\n",
    "context = proveit.Context('..') # the theorem's context is in the parent directory"
   ]
  },
  {
   "cell_type": "code",
   "execution_count": 2,
   "metadata": {
    "collapsed": false,
    "deletable": true,
    "editable": true
   },
   "outputs": [
    {
     "name": "stdout",
     "output_type": "stream",
     "text": [
      "Beginning proof of substituteTruth\n",
      "Recorded 'presuming' information\n",
      "Presuming previous theorems in this context (and any of their dependencies).\n"
     ]
    },
    {
     "data": {
      "text/html": [
       "<strong id=\"substituteTruth\">substituteTruth:</strong> <a class=\"ProveItLink\" href=\"..\\__pv_it\\852e1ee2fa958d278b508802e036ae808ae8febe0\\expr.ipynb\"><img src=\"..\\__pv_it\\852e1ee2fa958d278b508802e036ae808ae8febe0\\expr.png\" style=\"display:inline;vertical-align:middle;\" /></a><br>(see <a class=\"ProveItLink\" href=\"..\\__pv_it\\852e1ee2fa958d278b508802e036ae808ae8febe0\\dependencies.ipynb\">dependencies</a>)"
      ],
      "text/plain": [
       "substituteTruth: forall_{P, x | P(TRUE) , x} P(x)"
      ]
     },
     "execution_count": 2,
     "metadata": {},
     "output_type": "execute_result"
    }
   ],
   "source": [
    "%proving substituteTruth presuming []"
   ]
  },
  {
   "cell_type": "code",
   "execution_count": 4,
   "metadata": {
    "collapsed": false,
    "deletable": true,
    "editable": true
   },
   "outputs": [
    {
     "data": {
      "text/html": [
       "<strong id=\"defaults.assumptions\">defaults.assumptions:</strong> <a class=\"ProveItLink\" href=\"..\\__pv_it\\4b671b5e93f72804d295e013ffafb62dc583410a0\\expr.ipynb\"><img src=\"..\\__pv_it\\4b671b5e93f72804d295e013ffafb62dc583410a0\\expr.png\" style=\"display:inline;vertical-align:middle;\" /></a><br>"
      ],
      "text/plain": [
       "defaults.assumptions: (P(TRUE) , x)"
      ]
     },
     "execution_count": 4,
     "metadata": {},
     "output_type": "execute_result"
    }
   ],
   "source": [
    "defaults.assumptions = substituteTruth.conditions"
   ]
  },
  {
   "cell_type": "code",
   "execution_count": 6,
   "metadata": {
    "collapsed": false
   },
   "outputs": [
    {
     "data": {
      "text/html": [
       "<strong id=\"x_eq_T\">x_eq_T:</strong> <span style=\"font-size:20px;\"><a class=\"ProveItLink\" href=\"..\\__pv_it\\b2478803f52c7420584c6bce8a7109cabd894b3b0\\expr.ipynb\"><img src=\"..\\__pv_it\\b2478803f52c7420584c6bce8a7109cabd894b3b0\\expr.png\" style=\"display:inline;vertical-align:middle;\" /></a> &#x22A2;&nbsp;<a class=\"ProveItLink\" href=\"..\\__pv_it\\f2b440b43eeb1bb27b40db946f695a59a24bee350\\expr.ipynb\"><img src=\"..\\__pv_it\\f2b440b43eeb1bb27b40db946f695a59a24bee350\\expr.png\" style=\"display:inline;vertical-align:middle;\" /></a></span><br>"
      ],
      "text/plain": [
       "x_eq_T: {x} |= x = TRUE"
      ]
     },
     "execution_count": 6,
     "metadata": {},
     "output_type": "execute_result"
    }
   ],
   "source": [
    "x_eq_T = x.evaluate()"
   ]
  },
  {
   "cell_type": "code",
   "execution_count": 7,
   "metadata": {
    "collapsed": false
   },
   "outputs": [
    {
     "data": {
      "text/html": [
       "<span style=\"font-size:20px;\"><a class=\"ProveItLink\" href=\"..\\__pv_it\\a0357c461a7e1f674f482f3399413c8d50e919380\\expr.ipynb\"><img src=\"..\\__pv_it\\a0357c461a7e1f674f482f3399413c8d50e919380\\expr.png\" style=\"display:inline;vertical-align:middle;\" /></a> &#x22A2;&nbsp;<a class=\"ProveItLink\" href=\"..\\..\\..\\__pv_it\\8c735c381b4cbf3c87e86ca2468da4e5c976f9b00\\expr.ipynb\"><img src=\"..\\..\\..\\__pv_it\\8c735c381b4cbf3c87e86ca2468da4e5c976f9b00\\expr.png\" style=\"display:inline;vertical-align:middle;\" /></a></span>"
      ],
      "text/plain": [
       "{P(TRUE) , x} |= P(x)"
      ]
     },
     "execution_count": 7,
     "metadata": {},
     "output_type": "execute_result"
    }
   ],
   "source": [
    "x_eq_T.lhsSubstitute(PofTrue)"
   ]
  },
  {
   "cell_type": "code",
   "execution_count": 8,
   "metadata": {
    "collapsed": false
   },
   "outputs": [
    {
     "data": {
      "text/html": [
       "<table><tr><th>&nbsp;</th><th>step type</th><th>requirements</th><th>statement</th></tr>\n",
       "<tr><td>0</td><td>generalizaton</td><td>1</td><td><span style=\"font-size:20px;\"> &#x22A2;&nbsp;<a class=\"ProveItLink\" href=\"..\\__pv_it\\852e1ee2fa958d278b508802e036ae808ae8febe0\\expr.ipynb\"><img src=\"..\\__pv_it\\852e1ee2fa958d278b508802e036ae808ae8febe0\\expr.png\" style=\"display:inline;vertical-align:middle;\" /></a></span></td></tr>\n",
       "<tr><td>1</td><td>specialization</td><td>2, 3, 4</td><td><span style=\"font-size:20px;\"><a class=\"ProveItLink\" href=\"..\\__pv_it\\a0357c461a7e1f674f482f3399413c8d50e919380\\expr.ipynb\"><img src=\"..\\__pv_it\\a0357c461a7e1f674f482f3399413c8d50e919380\\expr.png\" style=\"display:inline;vertical-align:middle;\" /></a> &#x22A2;&nbsp;<a class=\"ProveItLink\" href=\"..\\..\\..\\__pv_it\\8c735c381b4cbf3c87e86ca2468da4e5c976f9b00\\expr.ipynb\"><img src=\"..\\..\\..\\__pv_it\\8c735c381b4cbf3c87e86ca2468da4e5c976f9b00\\expr.png\" style=\"display:inline;vertical-align:middle;\" /></a></span></td></tr>\n",
       "<tr><td>&nbsp;</td><td colspan=4 style=\"text-align:left\"><span style=\"font-size:20px;\"><a class=\"ProveItLink\" href=\"..\\__pv_it\\0f67a85aae5c4593db9b9bfe9a88a6d4e6f7b7140\\expr.ipynb\"><img src=\"..\\__pv_it\\0f67a85aae5c4593db9b9bfe9a88a6d4e6f7b7140\\expr.png\" style=\"display:inline;vertical-align:middle;\" /></a>, <a class=\"ProveItLink\" href=\"..\\__pv_it\\1a9d7410315f0e0994a116f471e5b8ad6b53002f0\\expr.ipynb\"><img src=\"..\\__pv_it\\1a9d7410315f0e0994a116f471e5b8ad6b53002f0\\expr.png\" style=\"display:inline;vertical-align:middle;\" /></a>, <a class=\"ProveItLink\" href=\"..\\__pv_it\\214b3f24d1c0dc6a5a937c9e445eaf4711e2a00e0\\expr.ipynb\"><img src=\"..\\__pv_it\\214b3f24d1c0dc6a5a937c9e445eaf4711e2a00e0\\expr.png\" style=\"display:inline;vertical-align:middle;\" /></a></span></td></tr><tr><td>2</td><td>theorem</td><td></td><td><span style=\"font-size:20px;\"> &#x22A2;&nbsp;<a class=\"ProveItLink\" href=\"..\\__pv_it\\6425c7b64708730992bfb72314f6aeaa5dc1d76c0\\expr.ipynb\"><img src=\"..\\__pv_it\\6425c7b64708730992bfb72314f6aeaa5dc1d76c0\\expr.png\" style=\"display:inline;vertical-align:middle;\" /></a></span></td></tr>\n",
       "<tr><td>&nbsp;</td><td colspan=4 style-\"text-align:left\"><a class=\"ProveItLink\" href=\"lhsSubstitute.ipynb\">proveit.logic.equality.lhsSubstitute</a></td></tr><tr><td>3</td><td>assumption</td><td></td><td><span style=\"font-size:20px;\"><a class=\"ProveItLink\" href=\"..\\__pv_it\\58cf87a94fdf0369fa40c430b48667627ba7b7e30\\expr.ipynb\"><img src=\"..\\__pv_it\\58cf87a94fdf0369fa40c430b48667627ba7b7e30\\expr.png\" style=\"display:inline;vertical-align:middle;\" /></a> &#x22A2;&nbsp;<a class=\"ProveItLink\" href=\"..\\..\\__pv_it\\e620067e5fc1a01f6e7ce2f053b97db25219d34a0\\expr.ipynb\"><img src=\"..\\..\\__pv_it\\e620067e5fc1a01f6e7ce2f053b97db25219d34a0\\expr.png\" style=\"display:inline;vertical-align:middle;\" /></a></span></td></tr>\n",
       "<tr><td>4</td><td>specialization</td><td>5, 6</td><td><span style=\"font-size:20px;\"><a class=\"ProveItLink\" href=\"..\\__pv_it\\b2478803f52c7420584c6bce8a7109cabd894b3b0\\expr.ipynb\"><img src=\"..\\__pv_it\\b2478803f52c7420584c6bce8a7109cabd894b3b0\\expr.png\" style=\"display:inline;vertical-align:middle;\" /></a> &#x22A2;&nbsp;<a class=\"ProveItLink\" href=\"..\\__pv_it\\f2b440b43eeb1bb27b40db946f695a59a24bee350\\expr.ipynb\"><img src=\"..\\__pv_it\\f2b440b43eeb1bb27b40db946f695a59a24bee350\\expr.png\" style=\"display:inline;vertical-align:middle;\" /></a></span></td></tr>\n",
       "<tr><td>&nbsp;</td><td colspan=4 style=\"text-align:left\"><span style=\"font-size:20px;\"><a class=\"ProveItLink\" href=\"..\\__pv_it\\a00d8f0bea44fb69d00fbde9134ec3e6e2c15c7a0\\expr.ipynb\"><img src=\"..\\__pv_it\\a00d8f0bea44fb69d00fbde9134ec3e6e2c15c7a0\\expr.png\" style=\"display:inline;vertical-align:middle;\" /></a></span></td></tr><tr><td>5</td><td>axiom</td><td></td><td><span style=\"font-size:20px;\"> &#x22A2;&nbsp;<a class=\"ProveItLink\" href=\"..\\..\\boolean\\__pv_it\\19bb6771c5c42047ca0c96c63e91a0481d754bac0\\expr.ipynb\"><img src=\"..\\..\\boolean\\__pv_it\\19bb6771c5c42047ca0c96c63e91a0481d754bac0\\expr.png\" style=\"display:inline;vertical-align:middle;\" /></a></span></td></tr>\n",
       "<tr><td>&nbsp;</td><td colspan=4 style-\"text-align:left\"><a class=\"ProveItLink\" href=\"..\\..\\boolean\\_axioms_.ipynb#eqTrueIntro\">proveit.logic.boolean.eqTrueIntro</a></td></tr><tr><td>6</td><td>assumption</td><td></td><td><span style=\"font-size:20px;\"><a class=\"ProveItLink\" href=\"..\\__pv_it\\b2478803f52c7420584c6bce8a7109cabd894b3b0\\expr.ipynb\"><img src=\"..\\__pv_it\\b2478803f52c7420584c6bce8a7109cabd894b3b0\\expr.png\" style=\"display:inline;vertical-align:middle;\" /></a> &#x22A2;&nbsp;<a class=\"ProveItLink\" href=\"..\\..\\..\\__pv_it\\530be409e3083890784cf1d7b28c9e67e90af9360\\expr.ipynb\"><img src=\"..\\..\\..\\__pv_it\\530be409e3083890784cf1d7b28c9e67e90af9360\\expr.png\" style=\"display:inline;vertical-align:middle;\" /></a></span></td></tr>\n"
      ],
      "text/plain": [
       "<proveit._core_.proof.Generalization instance at 0x0000000008E64808>"
      ]
     },
     "execution_count": 8,
     "metadata": {},
     "output_type": "execute_result"
    }
   ],
   "source": [
    "%qed"
   ]
  },
  {
   "cell_type": "code",
   "execution_count": null,
   "metadata": {
    "collapsed": true
   },
   "outputs": [],
   "source": []
  }
 ],
 "metadata": {
  "kernelspec": {
   "display_name": "Python 2",
   "language": "python",
   "name": "python2"
  },
  "language_info": {
   "codemirror_mode": {
    "name": "ipython",
    "version": 2
   },
   "file_extension": ".py",
   "mimetype": "text/x-python",
   "name": "python",
   "nbconvert_exporter": "python",
   "pygments_lexer": "ipython2",
   "version": "2.7.11"
  }
 },
 "nbformat": 4,
 "nbformat_minor": 0
}
