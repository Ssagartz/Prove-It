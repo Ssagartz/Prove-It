{
 "cells": [
  {
   "cell_type": "markdown",
   "metadata": {
    "collapsed": true,
    "deletable": true,
    "editable": true
   },
   "source": [
    "Proof of <a class=\"ProveItLink\" href=\"..\\..\\..\\_context_.ipynb\">proveit</a>.<a class=\"ProveItLink\" href=\"..\\..\\_context_.ipynb\">logic</a>.<a class=\"ProveItLink\" href=\"..\\_context_.ipynb\">equality</a>.<a href=\"../_theorems_.ipynb#lhsSubstitute\" class=\"ProveItLink\">lhsSubstitute</a> theorem\n",
    "========"
   ]
  },
  {
   "cell_type": "code",
   "execution_count": 1,
   "metadata": {
    "collapsed": true,
    "deletable": true,
    "editable": true
   },
   "outputs": [],
   "source": [
    "import proveit\n",
    "from proveit import defaults\n",
    "from proveit._common_ import f, P, Py\n",
    "from proveit.logic.equality._axioms_ import substitution\n",
    "context = proveit.Context('..') # the theorem's context is in the parent directory"
   ]
  },
  {
   "cell_type": "code",
   "execution_count": 2,
   "metadata": {
    "collapsed": false,
    "deletable": true,
    "editable": true
   },
   "outputs": [
    {
     "name": "stdout",
     "output_type": "stream",
     "text": [
      "Beginning proof of lhsSubstitute\n",
      "Recorded 'presuming' information\n"
     ]
    },
    {
     "data": {
      "text/html": [
       "<strong id=\"lhsSubstitute\">lhsSubstitute:</strong> <a class=\"ProveItLink\" href=\"..\\__pv_it\\6425c7b64708730992bfb72314f6aeaa5dc1d76c0\\expr.ipynb\"><img src=\"..\\__pv_it\\6425c7b64708730992bfb72314f6aeaa5dc1d76c0\\expr.png\" style=\"display:inline;vertical-align:middle;\" /></a><br>(see <a class=\"ProveItLink\" href=\"..\\__pv_it\\6425c7b64708730992bfb72314f6aeaa5dc1d76c0\\dependencies.ipynb\">dependencies</a>)"
      ],
      "text/plain": [
       "lhsSubstitute: forall_{P, x, y | P(y) , x = y} P(x)"
      ]
     },
     "execution_count": 2,
     "metadata": {},
     "output_type": "execute_result"
    }
   ],
   "source": [
    "%proving lhsSubstitute presuming []"
   ]
  },
  {
   "cell_type": "code",
   "execution_count": 3,
   "metadata": {
    "collapsed": false
   },
   "outputs": [
    {
     "data": {
      "text/html": [
       "<strong id=\"defaults.assumptions\">defaults.assumptions:</strong> <a class=\"ProveItLink\" href=\"..\\__pv_it\\df4e9dc4bf8214a6d3293b3f466e0a3adb62ce170\\expr.ipynb\"><img src=\"..\\__pv_it\\df4e9dc4bf8214a6d3293b3f466e0a3adb62ce170\\expr.png\" style=\"display:inline;vertical-align:middle;\" /></a><br>"
      ],
      "text/plain": [
       "defaults.assumptions: (P(y) , x = y)"
      ]
     },
     "execution_count": 3,
     "metadata": {},
     "output_type": "execute_result"
    }
   ],
   "source": [
    "# use these assumptions by default:\n",
    "defaults.assumptions = lhsSubstitute.conditions"
   ]
  },
  {
   "cell_type": "code",
   "execution_count": 4,
   "metadata": {
    "collapsed": false,
    "deletable": true,
    "editable": true
   },
   "outputs": [
    {
     "data": {
      "text/html": [
       "<span style=\"font-size:20px;\"> &#x22A2;&nbsp;<a class=\"ProveItLink\" href=\"..\\__pv_it\\bbfdd4b897b23eab94ccd38e967c2b310ba4362c0\\expr.ipynb\"><img src=\"..\\__pv_it\\bbfdd4b897b23eab94ccd38e967c2b310ba4362c0\\expr.png\" style=\"display:inline;vertical-align:middle;\" /></a></span>"
      ],
      "text/plain": [
       "|= forall_{f, x, y | x = y} (f(x) = f(y))"
      ]
     },
     "execution_count": 4,
     "metadata": {},
     "output_type": "execute_result"
    }
   ],
   "source": [
    "substitution"
   ]
  },
  {
   "cell_type": "code",
   "execution_count": 5,
   "metadata": {
    "collapsed": false
   },
   "outputs": [
    {
     "data": {
      "text/html": [
       "<strong id=\"Px_equals_Py\">Px_equals_Py:</strong> <span style=\"font-size:20px;\"><a class=\"ProveItLink\" href=\"..\\__pv_it\\b5bbd1e9e015b666e46c9a5cde50f5d4df7e71bb0\\expr.ipynb\"><img src=\"..\\__pv_it\\b5bbd1e9e015b666e46c9a5cde50f5d4df7e71bb0\\expr.png\" style=\"display:inline;vertical-align:middle;\" /></a> &#x22A2;&nbsp;<a class=\"ProveItLink\" href=\"..\\__pv_it\\55c043756668e16be71913509b7b2d31fac4c2ff0\\expr.ipynb\"><img src=\"..\\__pv_it\\55c043756668e16be71913509b7b2d31fac4c2ff0\\expr.png\" style=\"display:inline;vertical-align:middle;\" /></a></span><br>"
      ],
      "text/plain": [
       "Px_equals_Py: {x = y} |= P(x) = P(y)"
      ]
     },
     "execution_count": 5,
     "metadata": {},
     "output_type": "execute_result"
    }
   ],
   "source": [
    "Px_equals_Py = substitution.specialize({f:P})"
   ]
  },
  {
   "cell_type": "code",
   "execution_count": 6,
   "metadata": {
    "collapsed": false
   },
   "outputs": [
    {
     "data": {
      "text/html": [
       "<strong id=\"Py_equals_T\">Py_equals_T:</strong> <span style=\"font-size:20px;\"><a class=\"ProveItLink\" href=\"..\\__pv_it\\f1b1db31983877065123488140064755697fc5f20\\expr.ipynb\"><img src=\"..\\__pv_it\\f1b1db31983877065123488140064755697fc5f20\\expr.png\" style=\"display:inline;vertical-align:middle;\" /></a> &#x22A2;&nbsp;<a class=\"ProveItLink\" href=\"..\\__pv_it\\f3e4b6ef2021176b1b61fb300e46e97c4edc7bbb0\\expr.ipynb\"><img src=\"..\\__pv_it\\f3e4b6ef2021176b1b61fb300e46e97c4edc7bbb0\\expr.png\" style=\"display:inline;vertical-align:middle;\" /></a></span><br>"
      ],
      "text/plain": [
       "Py_equals_T: {P(y)} |= P(y) = TRUE"
      ]
     },
     "execution_count": 6,
     "metadata": {},
     "output_type": "execute_result"
    }
   ],
   "source": [
    "Py_equals_T = Py.evaluate()"
   ]
  },
  {
   "cell_type": "code",
   "execution_count": 7,
   "metadata": {
    "collapsed": false
   },
   "outputs": [
    {
     "data": {
      "text/html": [
       "<strong id=\"Px_equals_T\">Px_equals_T:</strong> <span style=\"font-size:20px;\"><a class=\"ProveItLink\" href=\"..\\__pv_it\\2b6b072d1875cbc586f6f9d66f26c99ae9ba05e70\\expr.ipynb\"><img src=\"..\\__pv_it\\2b6b072d1875cbc586f6f9d66f26c99ae9ba05e70\\expr.png\" style=\"display:inline;vertical-align:middle;\" /></a> &#x22A2;&nbsp;<a class=\"ProveItLink\" href=\"..\\__pv_it\\d78a6a9d3e6d4c747bb4a38268fcab0fb03377600\\expr.ipynb\"><img src=\"..\\__pv_it\\d78a6a9d3e6d4c747bb4a38268fcab0fb03377600\\expr.png\" style=\"display:inline;vertical-align:middle;\" /></a></span><br>"
      ],
      "text/plain": [
       "Px_equals_T: {P(y) , x = y} |= P(x) = TRUE"
      ]
     },
     "execution_count": 7,
     "metadata": {},
     "output_type": "execute_result"
    }
   ],
   "source": [
    "Px_equals_T = Px_equals_Py.applyTransitivity(Py_equals_T)"
   ]
  },
  {
   "cell_type": "code",
   "execution_count": 8,
   "metadata": {
    "collapsed": false
   },
   "outputs": [
    {
     "data": {
      "text/html": [
       "<table><tr><th>&nbsp;</th><th>step type</th><th>requirements</th><th>statement</th></tr>\n",
       "<tr><td>0</td><td>generalizaton</td><td>1</td><td><span style=\"font-size:20px;\"> &#x22A2;&nbsp;<a class=\"ProveItLink\" href=\"..\\__pv_it\\6425c7b64708730992bfb72314f6aeaa5dc1d76c0\\expr.ipynb\"><img src=\"..\\__pv_it\\6425c7b64708730992bfb72314f6aeaa5dc1d76c0\\expr.png\" style=\"display:inline;vertical-align:middle;\" /></a></span></td></tr>\n",
       "<tr><td>1</td><td>specialization</td><td>2, 3</td><td><span style=\"font-size:20px;\"><a class=\"ProveItLink\" href=\"..\\__pv_it\\2b6b072d1875cbc586f6f9d66f26c99ae9ba05e70\\expr.ipynb\"><img src=\"..\\__pv_it\\2b6b072d1875cbc586f6f9d66f26c99ae9ba05e70\\expr.png\" style=\"display:inline;vertical-align:middle;\" /></a> &#x22A2;&nbsp;<a class=\"ProveItLink\" href=\"..\\..\\..\\__pv_it\\8c735c381b4cbf3c87e86ca2468da4e5c976f9b00\\expr.ipynb\"><img src=\"..\\..\\..\\__pv_it\\8c735c381b4cbf3c87e86ca2468da4e5c976f9b00\\expr.png\" style=\"display:inline;vertical-align:middle;\" /></a></span></td></tr>\n",
       "<tr><td>&nbsp;</td><td colspan=4 style=\"text-align:left\"><span style=\"font-size:20px;\"><a class=\"ProveItLink\" href=\"..\\__pv_it\\7460096c41755d8113910bcbf19862511ff035800\\expr.ipynb\"><img src=\"..\\__pv_it\\7460096c41755d8113910bcbf19862511ff035800\\expr.png\" style=\"display:inline;vertical-align:middle;\" /></a></span></td></tr><tr><td>2</td><td>axiom</td><td></td><td><span style=\"font-size:20px;\"> &#x22A2;&nbsp;<a class=\"ProveItLink\" href=\"..\\..\\boolean\\__pv_it\\bcf59aeacd17d21c1d8352deda0d1be1086f8fca0\\expr.ipynb\"><img src=\"..\\..\\boolean\\__pv_it\\bcf59aeacd17d21c1d8352deda0d1be1086f8fca0\\expr.png\" style=\"display:inline;vertical-align:middle;\" /></a></span></td></tr>\n",
       "<tr><td>&nbsp;</td><td colspan=4 style-\"text-align:left\"><a class=\"ProveItLink\" href=\"..\\..\\boolean\\_axioms_.ipynb#eqTrueElim\">proveit.logic.boolean.eqTrueElim</a></td></tr><tr><td>3</td><td>specialization</td><td>4, 5, 6</td><td><span style=\"font-size:20px;\"><a class=\"ProveItLink\" href=\"..\\__pv_it\\2b6b072d1875cbc586f6f9d66f26c99ae9ba05e70\\expr.ipynb\"><img src=\"..\\__pv_it\\2b6b072d1875cbc586f6f9d66f26c99ae9ba05e70\\expr.png\" style=\"display:inline;vertical-align:middle;\" /></a> &#x22A2;&nbsp;<a class=\"ProveItLink\" href=\"..\\__pv_it\\d78a6a9d3e6d4c747bb4a38268fcab0fb03377600\\expr.ipynb\"><img src=\"..\\__pv_it\\d78a6a9d3e6d4c747bb4a38268fcab0fb03377600\\expr.png\" style=\"display:inline;vertical-align:middle;\" /></a></span></td></tr>\n",
       "<tr><td>&nbsp;</td><td colspan=4 style=\"text-align:left\"><span style=\"font-size:20px;\"><a class=\"ProveItLink\" href=\"..\\__pv_it\\6fde500a3717f7f4cce6c700e03895e526300a800\\expr.ipynb\"><img src=\"..\\__pv_it\\6fde500a3717f7f4cce6c700e03895e526300a800\\expr.png\" style=\"display:inline;vertical-align:middle;\" /></a>, <a class=\"ProveItLink\" href=\"..\\__pv_it\\c035cf2993642da5d3369079d221898df66c70980\\expr.ipynb\"><img src=\"..\\__pv_it\\c035cf2993642da5d3369079d221898df66c70980\\expr.png\" style=\"display:inline;vertical-align:middle;\" /></a>, <a class=\"ProveItLink\" href=\"..\\__pv_it\\e1296fb7d7e99b573fe8954a3fdac717173e13620\\expr.ipynb\"><img src=\"..\\__pv_it\\e1296fb7d7e99b573fe8954a3fdac717173e13620\\expr.png\" style=\"display:inline;vertical-align:middle;\" /></a></span></td></tr><tr><td>4</td><td>axiom</td><td></td><td><span style=\"font-size:20px;\"> &#x22A2;&nbsp;<a class=\"ProveItLink\" href=\"..\\__pv_it\\8568f704f865c42c6973d1dbf089a1e8c8b69dcf0\\expr.ipynb\"><img src=\"..\\__pv_it\\8568f704f865c42c6973d1dbf089a1e8c8b69dcf0\\expr.png\" style=\"display:inline;vertical-align:middle;\" /></a></span></td></tr>\n",
       "<tr><td>&nbsp;</td><td colspan=4 style-\"text-align:left\"><a class=\"ProveItLink\" href=\"..\\_axioms_.ipynb#equalsTransitivity\">proveit.logic.equality.equalsTransitivity</a></td></tr><tr><td>5</td><td>specialization</td><td>7, 8</td><td><span style=\"font-size:20px;\"><a class=\"ProveItLink\" href=\"..\\__pv_it\\b5bbd1e9e015b666e46c9a5cde50f5d4df7e71bb0\\expr.ipynb\"><img src=\"..\\__pv_it\\b5bbd1e9e015b666e46c9a5cde50f5d4df7e71bb0\\expr.png\" style=\"display:inline;vertical-align:middle;\" /></a> &#x22A2;&nbsp;<a class=\"ProveItLink\" href=\"..\\__pv_it\\55c043756668e16be71913509b7b2d31fac4c2ff0\\expr.ipynb\"><img src=\"..\\__pv_it\\55c043756668e16be71913509b7b2d31fac4c2ff0\\expr.png\" style=\"display:inline;vertical-align:middle;\" /></a></span></td></tr>\n",
       "<tr><td>&nbsp;</td><td colspan=4 style=\"text-align:left\"><span style=\"font-size:20px;\"><a class=\"ProveItLink\" href=\"..\\__pv_it\\e83d5e0fe1d9e0f8c3258e51e4a4cac44664cb140\\expr.ipynb\"><img src=\"..\\__pv_it\\e83d5e0fe1d9e0f8c3258e51e4a4cac44664cb140\\expr.png\" style=\"display:inline;vertical-align:middle;\" /></a>, <a class=\"ProveItLink\" href=\"..\\__pv_it\\1a9d7410315f0e0994a116f471e5b8ad6b53002f0\\expr.ipynb\"><img src=\"..\\__pv_it\\1a9d7410315f0e0994a116f471e5b8ad6b53002f0\\expr.png\" style=\"display:inline;vertical-align:middle;\" /></a>, <a class=\"ProveItLink\" href=\"..\\__pv_it\\1508a34b03e842065c701031c3d1f7b4347abf2f0\\expr.ipynb\"><img src=\"..\\__pv_it\\1508a34b03e842065c701031c3d1f7b4347abf2f0\\expr.png\" style=\"display:inline;vertical-align:middle;\" /></a></span></td></tr><tr><td>6</td><td>specialization</td><td>9, 10</td><td><span style=\"font-size:20px;\"><a class=\"ProveItLink\" href=\"..\\__pv_it\\f1b1db31983877065123488140064755697fc5f20\\expr.ipynb\"><img src=\"..\\__pv_it\\f1b1db31983877065123488140064755697fc5f20\\expr.png\" style=\"display:inline;vertical-align:middle;\" /></a> &#x22A2;&nbsp;<a class=\"ProveItLink\" href=\"..\\__pv_it\\f3e4b6ef2021176b1b61fb300e46e97c4edc7bbb0\\expr.ipynb\"><img src=\"..\\__pv_it\\f3e4b6ef2021176b1b61fb300e46e97c4edc7bbb0\\expr.png\" style=\"display:inline;vertical-align:middle;\" /></a></span></td></tr>\n",
       "<tr><td>&nbsp;</td><td colspan=4 style=\"text-align:left\"><span style=\"font-size:20px;\"><a class=\"ProveItLink\" href=\"..\\__pv_it\\e6e90012f981ee34144ebec2ebec58f235970a7f0\\expr.ipynb\"><img src=\"..\\__pv_it\\e6e90012f981ee34144ebec2ebec58f235970a7f0\\expr.png\" style=\"display:inline;vertical-align:middle;\" /></a></span></td></tr><tr><td>7</td><td>axiom</td><td></td><td><span style=\"font-size:20px;\"> &#x22A2;&nbsp;<a class=\"ProveItLink\" href=\"..\\__pv_it\\bbfdd4b897b23eab94ccd38e967c2b310ba4362c0\\expr.ipynb\"><img src=\"..\\__pv_it\\bbfdd4b897b23eab94ccd38e967c2b310ba4362c0\\expr.png\" style=\"display:inline;vertical-align:middle;\" /></a></span></td></tr>\n",
       "<tr><td>&nbsp;</td><td colspan=4 style-\"text-align:left\"><a class=\"ProveItLink\" href=\"..\\_axioms_.ipynb#substitution\">proveit.logic.equality.substitution</a></td></tr><tr><td>8</td><td>assumption</td><td></td><td><span style=\"font-size:20px;\"><a class=\"ProveItLink\" href=\"..\\__pv_it\\b5bbd1e9e015b666e46c9a5cde50f5d4df7e71bb0\\expr.ipynb\"><img src=\"..\\__pv_it\\b5bbd1e9e015b666e46c9a5cde50f5d4df7e71bb0\\expr.png\" style=\"display:inline;vertical-align:middle;\" /></a> &#x22A2;&nbsp;<a class=\"ProveItLink\" href=\"..\\__pv_it\\4c4fb7e6d6cc6c4aef91243b02a9bdb408e1b6510\\expr.ipynb\"><img src=\"..\\__pv_it\\4c4fb7e6d6cc6c4aef91243b02a9bdb408e1b6510\\expr.png\" style=\"display:inline;vertical-align:middle;\" /></a></span></td></tr>\n",
       "<tr><td>9</td><td>axiom</td><td></td><td><span style=\"font-size:20px;\"> &#x22A2;&nbsp;<a class=\"ProveItLink\" href=\"..\\..\\boolean\\__pv_it\\19bb6771c5c42047ca0c96c63e91a0481d754bac0\\expr.ipynb\"><img src=\"..\\..\\boolean\\__pv_it\\19bb6771c5c42047ca0c96c63e91a0481d754bac0\\expr.png\" style=\"display:inline;vertical-align:middle;\" /></a></span></td></tr>\n",
       "<tr><td>&nbsp;</td><td colspan=4 style-\"text-align:left\"><a class=\"ProveItLink\" href=\"..\\..\\boolean\\_axioms_.ipynb#eqTrueIntro\">proveit.logic.boolean.eqTrueIntro</a></td></tr><tr><td>10</td><td>assumption</td><td></td><td><span style=\"font-size:20px;\"><a class=\"ProveItLink\" href=\"..\\__pv_it\\f1b1db31983877065123488140064755697fc5f20\\expr.ipynb\"><img src=\"..\\__pv_it\\f1b1db31983877065123488140064755697fc5f20\\expr.png\" style=\"display:inline;vertical-align:middle;\" /></a> &#x22A2;&nbsp;<a class=\"ProveItLink\" href=\"..\\..\\..\\__pv_it\\c5f09cc3a2885e6789037be52d7dfbf4f0376cee0\\expr.ipynb\"><img src=\"..\\..\\..\\__pv_it\\c5f09cc3a2885e6789037be52d7dfbf4f0376cee0\\expr.png\" style=\"display:inline;vertical-align:middle;\" /></a></span></td></tr>\n"
      ],
      "text/plain": [
       "<proveit._core_.proof.Generalization instance at 0x0000000008D76988>"
      ]
     },
     "execution_count": 8,
     "metadata": {},
     "output_type": "execute_result"
    }
   ],
   "source": [
    "%qed # via automation at this point"
   ]
  },
  {
   "cell_type": "code",
   "execution_count": null,
   "metadata": {
    "collapsed": true
   },
   "outputs": [],
   "source": []
  }
 ],
 "metadata": {
  "kernelspec": {
   "display_name": "Python 2",
   "language": "python",
   "name": "python2"
  },
  "language_info": {
   "codemirror_mode": {
    "name": "ipython",
    "version": 2
   },
   "file_extension": ".py",
   "mimetype": "text/x-python",
   "name": "python",
   "nbconvert_exporter": "python",
   "pygments_lexer": "ipython2",
   "version": "2.7.11"
  }
 },
 "nbformat": 4,
 "nbformat_minor": 0
}
