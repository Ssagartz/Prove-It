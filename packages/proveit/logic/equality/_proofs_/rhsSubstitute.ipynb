{
 "cells": [
  {
   "cell_type": "markdown",
   "metadata": {
    "collapsed": true,
    "deletable": true,
    "editable": true
   },
   "source": [
    "Proof of <a class=\"ProveItLink\" href=\"..\\..\\..\\_context_.ipynb\">proveit</a>.<a class=\"ProveItLink\" href=\"..\\..\\_context_.ipynb\">logic</a>.<a class=\"ProveItLink\" href=\"..\\_context_.ipynb\">equality</a>.<a href=\"../_theorems_.ipynb#rhsSubstitute\" class=\"ProveItLink\">rhsSubstitute</a> theorem\n",
    "========"
   ]
  },
  {
   "cell_type": "code",
   "execution_count": 1,
   "metadata": {
    "collapsed": true,
    "deletable": true,
    "editable": true
   },
   "outputs": [],
   "source": [
    "import proveit\n",
    "from proveit import defaults\n",
    "from proveit._common_ import x, y\n",
    "from proveit.logic.equality._theorems_ import lhsSubstitute\n",
    "context = proveit.Context('..') # the theorem's context is in the parent directory"
   ]
  },
  {
   "cell_type": "code",
   "execution_count": 2,
   "metadata": {
    "collapsed": false,
    "deletable": true,
    "editable": true
   },
   "outputs": [
    {
     "name": "stdout",
     "output_type": "stream",
     "text": [
      "Beginning proof of rhsSubstitute\n",
      "Recorded 'presuming' information\n",
      "Presuming previous theorems in this context (and any of their dependencies).\n"
     ]
    },
    {
     "data": {
      "text/html": [
       "<strong id=\"rhsSubstitute\">rhsSubstitute:</strong> <a class=\"ProveItLink\" href=\"..\\__pv_it\\5b6686687da80bc69920c8ed469622d49cb40ce40\\expr.ipynb\"><img src=\"..\\__pv_it\\5b6686687da80bc69920c8ed469622d49cb40ce40\\expr.png\" style=\"display:inline;vertical-align:middle;\" /></a><br>(see <a class=\"ProveItLink\" href=\"..\\__pv_it\\5b6686687da80bc69920c8ed469622d49cb40ce40\\dependencies.ipynb\">dependencies</a>)"
      ],
      "text/plain": [
       "rhsSubstitute: forall_{P, x, y | P(x) , x = y} P(y)"
      ]
     },
     "execution_count": 2,
     "metadata": {},
     "output_type": "execute_result"
    }
   ],
   "source": [
    "%proving rhsSubstitute presuming []"
   ]
  },
  {
   "cell_type": "code",
   "execution_count": 3,
   "metadata": {
    "collapsed": false
   },
   "outputs": [
    {
     "data": {
      "text/html": [
       "<span style=\"font-size:20px;\"> &#x22A2;&nbsp;<a class=\"ProveItLink\" href=\"..\\__pv_it\\6425c7b64708730992bfb72314f6aeaa5dc1d76c0\\expr.ipynb\"><img src=\"..\\__pv_it\\6425c7b64708730992bfb72314f6aeaa5dc1d76c0\\expr.png\" style=\"display:inline;vertical-align:middle;\" /></a></span>"
      ],
      "text/plain": [
       "|= forall_{P, x, y | P(y) , x = y} P(x)"
      ]
     },
     "execution_count": 3,
     "metadata": {},
     "output_type": "execute_result"
    }
   ],
   "source": [
    "lhsSubstitute"
   ]
  },
  {
   "cell_type": "code",
   "execution_count": 4,
   "metadata": {
    "collapsed": false
   },
   "outputs": [
    {
     "data": {
      "text/html": [
       "<span style=\"font-size:20px;\"><a class=\"ProveItLink\" href=\"..\\__pv_it\\30da3118d295b04c01cda5c12664211a7eb6bed20\\expr.ipynb\"><img src=\"..\\__pv_it\\30da3118d295b04c01cda5c12664211a7eb6bed20\\expr.png\" style=\"display:inline;vertical-align:middle;\" /></a> &#x22A2;&nbsp;<a class=\"ProveItLink\" href=\"..\\..\\..\\__pv_it\\c5f09cc3a2885e6789037be52d7dfbf4f0376cee0\\expr.ipynb\"><img src=\"..\\..\\..\\__pv_it\\c5f09cc3a2885e6789037be52d7dfbf4f0376cee0\\expr.png\" style=\"display:inline;vertical-align:middle;\" /></a></span>"
      ],
      "text/plain": [
       "{P(x) , x = y} |= P(y)"
      ]
     },
     "execution_count": 4,
     "metadata": {},
     "output_type": "execute_result"
    }
   ],
   "source": [
    "lhsSubstitute.specialize({x:y, y:x}, assumptions=rhsSubstitute.conditions)"
   ]
  },
  {
   "cell_type": "code",
   "execution_count": 5,
   "metadata": {
    "collapsed": false
   },
   "outputs": [
    {
     "data": {
      "text/html": [
       "<table><tr><th>&nbsp;</th><th>step type</th><th>requirements</th><th>statement</th></tr>\n",
       "<tr><td>0</td><td>generalizaton</td><td>1</td><td><span style=\"font-size:20px;\"> &#x22A2;&nbsp;<a class=\"ProveItLink\" href=\"..\\__pv_it\\5b6686687da80bc69920c8ed469622d49cb40ce40\\expr.ipynb\"><img src=\"..\\__pv_it\\5b6686687da80bc69920c8ed469622d49cb40ce40\\expr.png\" style=\"display:inline;vertical-align:middle;\" /></a></span></td></tr>\n",
       "<tr><td>1</td><td>specialization</td><td>2, 3, 4</td><td><span style=\"font-size:20px;\"><a class=\"ProveItLink\" href=\"..\\__pv_it\\30da3118d295b04c01cda5c12664211a7eb6bed20\\expr.ipynb\"><img src=\"..\\__pv_it\\30da3118d295b04c01cda5c12664211a7eb6bed20\\expr.png\" style=\"display:inline;vertical-align:middle;\" /></a> &#x22A2;&nbsp;<a class=\"ProveItLink\" href=\"..\\..\\..\\__pv_it\\c5f09cc3a2885e6789037be52d7dfbf4f0376cee0\\expr.ipynb\"><img src=\"..\\..\\..\\__pv_it\\c5f09cc3a2885e6789037be52d7dfbf4f0376cee0\\expr.png\" style=\"display:inline;vertical-align:middle;\" /></a></span></td></tr>\n",
       "<tr><td>&nbsp;</td><td colspan=4 style=\"text-align:left\"><span style=\"font-size:20px;\"><a class=\"ProveItLink\" href=\"..\\__pv_it\\a2cef7dacd59c447c655e1a5594e42a448634a100\\expr.ipynb\"><img src=\"..\\__pv_it\\a2cef7dacd59c447c655e1a5594e42a448634a100\\expr.png\" style=\"display:inline;vertical-align:middle;\" /></a>, <a class=\"ProveItLink\" href=\"..\\__pv_it\\d2b62ca9575342683a288d56da8c017f320caded0\\expr.ipynb\"><img src=\"..\\__pv_it\\d2b62ca9575342683a288d56da8c017f320caded0\\expr.png\" style=\"display:inline;vertical-align:middle;\" /></a>, <a class=\"ProveItLink\" href=\"..\\__pv_it\\07c0e4eecd25b9880bf574db9840cd01536d67b30\\expr.ipynb\"><img src=\"..\\__pv_it\\07c0e4eecd25b9880bf574db9840cd01536d67b30\\expr.png\" style=\"display:inline;vertical-align:middle;\" /></a></span></td></tr><tr><td>2</td><td>theorem</td><td></td><td><span style=\"font-size:20px;\"> &#x22A2;&nbsp;<a class=\"ProveItLink\" href=\"..\\__pv_it\\6425c7b64708730992bfb72314f6aeaa5dc1d76c0\\expr.ipynb\"><img src=\"..\\__pv_it\\6425c7b64708730992bfb72314f6aeaa5dc1d76c0\\expr.png\" style=\"display:inline;vertical-align:middle;\" /></a></span></td></tr>\n",
       "<tr><td>&nbsp;</td><td colspan=4 style-\"text-align:left\"><a class=\"ProveItLink\" href=\"lhsSubstitute.ipynb\">proveit.logic.equality.lhsSubstitute</a></td></tr><tr><td>3</td><td>assumption</td><td></td><td><span style=\"font-size:20px;\"><a class=\"ProveItLink\" href=\"..\\__pv_it\\8cf695abc81f60280655be3ca704e2c4a9bbc8e20\\expr.ipynb\"><img src=\"..\\__pv_it\\8cf695abc81f60280655be3ca704e2c4a9bbc8e20\\expr.png\" style=\"display:inline;vertical-align:middle;\" /></a> &#x22A2;&nbsp;<a class=\"ProveItLink\" href=\"..\\..\\..\\__pv_it\\8c735c381b4cbf3c87e86ca2468da4e5c976f9b00\\expr.ipynb\"><img src=\"..\\..\\..\\__pv_it\\8c735c381b4cbf3c87e86ca2468da4e5c976f9b00\\expr.png\" style=\"display:inline;vertical-align:middle;\" /></a></span></td></tr>\n",
       "<tr><td>4</td><td>specialization</td><td>5, 6</td><td><span style=\"font-size:20px;\"><a class=\"ProveItLink\" href=\"..\\__pv_it\\b5bbd1e9e015b666e46c9a5cde50f5d4df7e71bb0\\expr.ipynb\"><img src=\"..\\__pv_it\\b5bbd1e9e015b666e46c9a5cde50f5d4df7e71bb0\\expr.png\" style=\"display:inline;vertical-align:middle;\" /></a> &#x22A2;&nbsp;<a class=\"ProveItLink\" href=\"..\\__pv_it\\8af38aa54237efb74cfeba69a92d7bf2987e11080\\expr.ipynb\"><img src=\"..\\__pv_it\\8af38aa54237efb74cfeba69a92d7bf2987e11080\\expr.png\" style=\"display:inline;vertical-align:middle;\" /></a></span></td></tr>\n",
       "<tr><td>&nbsp;</td><td colspan=4 style=\"text-align:left\"><span style=\"font-size:20px;\"><a class=\"ProveItLink\" href=\"..\\__pv_it\\1a9d7410315f0e0994a116f471e5b8ad6b53002f0\\expr.ipynb\"><img src=\"..\\__pv_it\\1a9d7410315f0e0994a116f471e5b8ad6b53002f0\\expr.png\" style=\"display:inline;vertical-align:middle;\" /></a>, <a class=\"ProveItLink\" href=\"..\\__pv_it\\1508a34b03e842065c701031c3d1f7b4347abf2f0\\expr.ipynb\"><img src=\"..\\__pv_it\\1508a34b03e842065c701031c3d1f7b4347abf2f0\\expr.png\" style=\"display:inline;vertical-align:middle;\" /></a></span></td></tr><tr><td>5</td><td>theorem</td><td></td><td><span style=\"font-size:20px;\"> &#x22A2;&nbsp;<a class=\"ProveItLink\" href=\"..\\__pv_it\\ea30f81e570e9291b945594aa271523b96695fa70\\expr.ipynb\"><img src=\"..\\__pv_it\\ea30f81e570e9291b945594aa271523b96695fa70\\expr.png\" style=\"display:inline;vertical-align:middle;\" /></a></span></td></tr>\n",
       "<tr><td>&nbsp;</td><td colspan=4 style-\"text-align:left\"><a class=\"ProveItLink\" href=\"equalsReversal.ipynb\">proveit.logic.equality.equalsReversal</a></td></tr><tr><td>6</td><td>assumption</td><td></td><td><span style=\"font-size:20px;\"><a class=\"ProveItLink\" href=\"..\\__pv_it\\b5bbd1e9e015b666e46c9a5cde50f5d4df7e71bb0\\expr.ipynb\"><img src=\"..\\__pv_it\\b5bbd1e9e015b666e46c9a5cde50f5d4df7e71bb0\\expr.png\" style=\"display:inline;vertical-align:middle;\" /></a> &#x22A2;&nbsp;<a class=\"ProveItLink\" href=\"..\\__pv_it\\4c4fb7e6d6cc6c4aef91243b02a9bdb408e1b6510\\expr.ipynb\"><img src=\"..\\__pv_it\\4c4fb7e6d6cc6c4aef91243b02a9bdb408e1b6510\\expr.png\" style=\"display:inline;vertical-align:middle;\" /></a></span></td></tr>\n"
      ],
      "text/plain": [
       "<proveit._core_.proof.Generalization instance at 0x0000000008B4CAC8>"
      ]
     },
     "execution_count": 5,
     "metadata": {},
     "output_type": "execute_result"
    }
   ],
   "source": [
    "%qed"
   ]
  },
  {
   "cell_type": "code",
   "execution_count": null,
   "metadata": {
    "collapsed": true
   },
   "outputs": [],
   "source": []
  }
 ],
 "metadata": {
  "kernelspec": {
   "display_name": "Python 2",
   "language": "python",
   "name": "python2"
  },
  "language_info": {
   "codemirror_mode": {
    "name": "ipython",
    "version": 2
   },
   "file_extension": ".py",
   "mimetype": "text/x-python",
   "name": "python",
   "nbconvert_exporter": "python",
   "pygments_lexer": "ipython2",
   "version": "2.7.11"
  }
 },
 "nbformat": 4,
 "nbformat_minor": 0
}
