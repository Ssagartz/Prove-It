{
 "cells": [
  {
   "cell_type": "markdown",
   "metadata": {
    "collapsed": true,
    "deletable": true,
    "editable": true
   },
   "source": [
    "Proof of <a class=\"ProveItLink\" href=\"..\\..\\..\\_context_.ipynb\">proveit</a>.<a class=\"ProveItLink\" href=\"..\\..\\_context_.ipynb\">logic</a>.<a class=\"ProveItLink\" href=\"..\\_context_.ipynb\">equality</a>.<a href=\"../_theorems_.ipynb#notEqualsContradiction\" class=\"ProveItLink\">notEqualsContradiction</a> theorem\n",
    "========"
   ]
  },
  {
   "cell_type": "code",
   "execution_count": 1,
   "metadata": {
    "collapsed": false,
    "deletable": true,
    "editable": true
   },
   "outputs": [],
   "source": [
    "from proveit._common_ import x, y"
   ]
  },
  {
   "cell_type": "code",
   "execution_count": 2,
   "metadata": {
    "collapsed": false,
    "deletable": true,
    "editable": true
   },
   "outputs": [
    {
     "name": "stdout",
     "output_type": "stream",
     "text": [
      "Recorded 'presuming' information\n",
      "Presuming proveit.logic.boolean.negation.negationContradiction theorem(s) (and any of their dependencies)\n",
      "Presuming previous theorems in this context (and any of their dependencies).\n",
      "Beginning proof of\n"
     ]
    },
    {
     "data": {
      "text/html": [
       "<strong id=\"notEqualsContradiction\">notEqualsContradiction:</strong> <a class=\"ProveItLink\" href=\"..\\__pv_it\\7a9bcd44cb0d058798181091955fe8da96645cc40\\expr.ipynb\"><img src=\"..\\__pv_it\\7a9bcd44cb0d058798181091955fe8da96645cc40\\expr.png\" style=\"display:inline;vertical-align:middle;\" /></a><br>(see <a class=\"ProveItLink\" href=\"..\\__pv_it\\7a9bcd44cb0d058798181091955fe8da96645cc40\\dependencies.ipynb\">dependencies</a>)"
      ],
      "text/plain": [
       "notEqualsContradiction: forall_{x, y | x = y , x != y} FALSE"
      ]
     },
     "execution_count": 2,
     "metadata": {},
     "output_type": "execute_result"
    }
   ],
   "source": [
    "%begin_proof notEqualsContradiction presuming [proveit.logic.boolean.negation.negationContradiction]"
   ]
  },
  {
   "cell_type": "code",
   "execution_count": 3,
   "metadata": {
    "collapsed": false,
    "deletable": true,
    "editable": true
   },
   "outputs": [
    {
     "data": {
      "text/html": [
       "<strong id=\"conditions\">conditions:</strong> <a class=\"ProveItLink\" href=\"..\\__pv_it\\c2d76d46ab58a31e7131694340585bc1d12e80860\\expr.ipynb\"><img src=\"..\\__pv_it\\c2d76d46ab58a31e7131694340585bc1d12e80860\\expr.png\" style=\"display:inline;vertical-align:middle;\" /></a><br>"
      ],
      "text/plain": [
       "conditions: (x = y , x != y)"
      ]
     },
     "execution_count": 3,
     "metadata": {},
     "output_type": "execute_result"
    }
   ],
   "source": [
    "conditions = notEqualsContradiction.conditions"
   ]
  },
  {
   "cell_type": "code",
   "execution_count": 4,
   "metadata": {
    "collapsed": false,
    "deletable": true,
    "editable": true
   },
   "outputs": [
    {
     "data": {
      "text/html": [
       "<strong id=\"x_neq_y\">x_neq_y:</strong> <a class=\"ProveItLink\" href=\"..\\__pv_it\\cac116d931b2c7ab3931fff9b72ac12e314471740\\expr.ipynb\"><img src=\"..\\__pv_it\\cac116d931b2c7ab3931fff9b72ac12e314471740\\expr.png\" style=\"display:inline;vertical-align:middle;\" /></a><br>"
      ],
      "text/plain": [
       "x_neq_y: x != y"
      ]
     },
     "execution_count": 4,
     "metadata": {},
     "output_type": "execute_result"
    }
   ],
   "source": [
    "x_neq_y = conditions[1]"
   ]
  },
  {
   "cell_type": "code",
   "execution_count": 5,
   "metadata": {
    "collapsed": false,
    "deletable": true,
    "editable": true
   },
   "outputs": [
    {
     "data": {
      "text/html": [
       "<strong id=\"not__x_eq_y\">not__x_eq_y:</strong> <span style=\"font-size:20px;\"><a class=\"ProveItLink\" href=\"..\\__pv_it\\e9245d1c186a4cb469d2dd66d2620abcd8b4c7b10\\expr.ipynb\"><img src=\"..\\__pv_it\\e9245d1c186a4cb469d2dd66d2620abcd8b4c7b10\\expr.png\" style=\"display:inline;vertical-align:middle;\" /></a> &#x22A2;&nbsp;<a class=\"ProveItLink\" href=\"..\\__pv_it\\f8fb9626fa794896c5f461171d550473c13d0e3d0\\expr.ipynb\"><img src=\"..\\__pv_it\\f8fb9626fa794896c5f461171d550473c13d0e3d0\\expr.png\" style=\"display:inline;vertical-align:middle;\" /></a></span><br>"
      ],
      "text/plain": [
       "not__x_eq_y: {x != y} |= [not](x = y)"
      ]
     },
     "execution_count": 5,
     "metadata": {},
     "output_type": "execute_result"
    }
   ],
   "source": [
    "not__x_eq_y = x_neq_y.unfold(assumptions=[x_neq_y])"
   ]
  },
  {
   "cell_type": "code",
   "execution_count": 6,
   "metadata": {
    "collapsed": false,
    "deletable": true,
    "editable": true
   },
   "outputs": [
    {
     "data": {
      "text/html": [
       "<strong id=\"conclusion\">conclusion:</strong> <span style=\"font-size:20px;\"><a class=\"ProveItLink\" href=\"..\\__pv_it\\67cc0b1440cd92ff98e4a0d8d7bd38a7098317c70\\expr.ipynb\"><img src=\"..\\__pv_it\\67cc0b1440cd92ff98e4a0d8d7bd38a7098317c70\\expr.png\" style=\"display:inline;vertical-align:middle;\" /></a> &#x22A2;&nbsp;<a class=\"ProveItLink\" href=\"..\\..\\boolean\\__pv_it\\47da52792f39d479a35c809d6a76a38f9bc20f310\\expr.ipynb\"><img src=\"..\\..\\boolean\\__pv_it\\47da52792f39d479a35c809d6a76a38f9bc20f310\\expr.png\" style=\"display:inline;vertical-align:middle;\" /></a></span><br>"
      ],
      "text/plain": [
       "conclusion: {x = y , x != y} |= FALSE"
      ]
     },
     "execution_count": 6,
     "metadata": {},
     "output_type": "execute_result"
    }
   ],
   "source": [
    "conclusion = not__x_eq_y.deriveContradiction(assumptions=conditions)"
   ]
  },
  {
   "cell_type": "code",
   "execution_count": 10,
   "metadata": {
    "collapsed": false
   },
   "outputs": [
    {
     "data": {
      "text/plain": [
       "'<span style=\"font-size:20px;\"><a class=\"ProveItLink\" href=\"..\\\\__pv_it\\\\67cc0b1440cd92ff98e4a0d8d7bd38a7098317c70\\\\expr.ipynb\"><img src=\"..\\\\__pv_it\\\\67cc0b1440cd92ff98e4a0d8d7bd38a7098317c70\\\\expr.png\" style=\"display:inline;vertical-align:middle;\" /></a> &#x22A2;&nbsp;<a class=\"ProveItLink\" href=\"..\\\\..\\\\boolean\\\\__pv_it\\\\47da52792f39d479a35c809d6a76a38f9bc20f310\\\\expr.ipynb\"><img src=\"..\\\\..\\\\boolean\\\\__pv_it\\\\47da52792f39d479a35c809d6a76a38f9bc20f310\\\\expr.png\" style=\"display:inline;vertical-align:middle;\" /></a></span>'"
      ]
     },
     "execution_count": 10,
     "metadata": {},
     "output_type": "execute_result"
    }
   ],
   "source": [
    "conclusion._repr_html_()"
   ]
  },
  {
   "cell_type": "code",
   "execution_count": 7,
   "metadata": {
    "collapsed": false,
    "deletable": true,
    "editable": true
   },
   "outputs": [
    {
     "name": "stdout",
     "output_type": "stream",
     "text": [
      "notEqualsContradiction has been proven.  Now simply execute \"%qed\".\n"
     ]
    },
    {
     "data": {
      "text/html": [
       "<span style=\"font-size:20px;\"> &#x22A2;&nbsp;<a class=\"ProveItLink\" href=\"..\\__pv_it\\7a9bcd44cb0d058798181091955fe8da96645cc40\\expr.ipynb\"><img src=\"..\\__pv_it\\7a9bcd44cb0d058798181091955fe8da96645cc40\\expr.png\" style=\"display:inline;vertical-align:middle;\" /></a></span>"
      ],
      "text/plain": [
       "|= forall_{x, y | x = y , x != y} FALSE"
      ]
     },
     "execution_count": 7,
     "metadata": {},
     "output_type": "execute_result"
    }
   ],
   "source": [
    "conclusion.generalize((x,y), conditions=conditions)"
   ]
  },
  {
   "cell_type": "code",
   "execution_count": 8,
   "metadata": {
    "collapsed": false,
    "deletable": true,
    "editable": true
   },
   "outputs": [
    {
     "data": {
      "text/html": [
       "<table><tr><th>&nbsp;</th><th>step type</th><th>requirements</th><th>statement</th></tr>\n",
       "<tr><td>0</td><td>generalizaton</td><td>1</td><td><span style=\"font-size:20px;\"> &#x22A2;&nbsp;<a class=\"ProveItLink\" href=\"..\\__pv_it\\7a9bcd44cb0d058798181091955fe8da96645cc40\\expr.ipynb\"><img src=\"..\\__pv_it\\7a9bcd44cb0d058798181091955fe8da96645cc40\\expr.png\" style=\"display:inline;vertical-align:middle;\" /></a></span></td></tr>\n",
       "<tr><td>1</td><td>specialization</td><td>2, 3, 4</td><td><span style=\"font-size:20px;\"><a class=\"ProveItLink\" href=\"..\\__pv_it\\67cc0b1440cd92ff98e4a0d8d7bd38a7098317c70\\expr.ipynb\"><img src=\"..\\__pv_it\\67cc0b1440cd92ff98e4a0d8d7bd38a7098317c70\\expr.png\" style=\"display:inline;vertical-align:middle;\" /></a> &#x22A2;&nbsp;<a class=\"ProveItLink\" href=\"..\\..\\boolean\\__pv_it\\47da52792f39d479a35c809d6a76a38f9bc20f310\\expr.ipynb\"><img src=\"..\\..\\boolean\\__pv_it\\47da52792f39d479a35c809d6a76a38f9bc20f310\\expr.png\" style=\"display:inline;vertical-align:middle;\" /></a></span></td></tr>\n",
       "<tr><td>&nbsp;</td><td colspan=4 style=\"text-align:left\"><span style=\"font-size:20px;\"><a class=\"ProveItLink\" href=\"..\\__pv_it\\94011b9fec0850cdffc91dc6eeba3c30ca87bfea0\\expr.ipynb\"><img src=\"..\\__pv_it\\94011b9fec0850cdffc91dc6eeba3c30ca87bfea0\\expr.png\" style=\"display:inline;vertical-align:middle;\" /></a></span></td></tr><tr><td>2</td><td>theorem</td><td></td><td><span style=\"font-size:20px;\"> &#x22A2;&nbsp;<a class=\"ProveItLink\" href=\"..\\..\\boolean\\negation\\__pv_it\\eb2b1f156e75289dbc903aef011a5272e534f2bc0\\expr.ipynb\"><img src=\"..\\..\\boolean\\negation\\__pv_it\\eb2b1f156e75289dbc903aef011a5272e534f2bc0\\expr.png\" style=\"display:inline;vertical-align:middle;\" /></a></span></td></tr>\n",
       "<tr><td>&nbsp;</td><td colspan=4 style-\"text-align:left\"><a class=\"ProveItLink\" href=\"..\\..\\boolean\\negation\\_proofs_\\negationContradiction.ipynb\">proveit.logic.boolean.negation.negationContradiction</a></td></tr><tr><td>3</td><td>assumption</td><td></td><td><span style=\"font-size:20px;\"><a class=\"ProveItLink\" href=\"..\\__pv_it\\6d293553dab9b66ba7ffc8219a2113656bc1fdce0\\expr.ipynb\"><img src=\"..\\__pv_it\\6d293553dab9b66ba7ffc8219a2113656bc1fdce0\\expr.png\" style=\"display:inline;vertical-align:middle;\" /></a> &#x22A2;&nbsp;<a class=\"ProveItLink\" href=\"..\\__pv_it\\5eb8d50c6e0f74093e56a055e4f47af5b742b2630\\expr.ipynb\"><img src=\"..\\__pv_it\\5eb8d50c6e0f74093e56a055e4f47af5b742b2630\\expr.png\" style=\"display:inline;vertical-align:middle;\" /></a></span></td></tr>\n",
       "<tr><td>4</td><td>specialization</td><td>5, 6</td><td><span style=\"font-size:20px;\"><a class=\"ProveItLink\" href=\"..\\__pv_it\\e9245d1c186a4cb469d2dd66d2620abcd8b4c7b10\\expr.ipynb\"><img src=\"..\\__pv_it\\e9245d1c186a4cb469d2dd66d2620abcd8b4c7b10\\expr.png\" style=\"display:inline;vertical-align:middle;\" /></a> &#x22A2;&nbsp;<a class=\"ProveItLink\" href=\"..\\__pv_it\\f8fb9626fa794896c5f461171d550473c13d0e3d0\\expr.ipynb\"><img src=\"..\\__pv_it\\f8fb9626fa794896c5f461171d550473c13d0e3d0\\expr.png\" style=\"display:inline;vertical-align:middle;\" /></a></span></td></tr>\n",
       "<tr><td>&nbsp;</td><td colspan=4 style=\"text-align:left\"><span style=\"font-size:20px;\"><a class=\"ProveItLink\" href=\"..\\__pv_it\\c2cdf4253a9a404e3bcd879299023f36296f13a80\\expr.ipynb\"><img src=\"..\\__pv_it\\c2cdf4253a9a404e3bcd879299023f36296f13a80\\expr.png\" style=\"display:inline;vertical-align:middle;\" /></a>, <a class=\"ProveItLink\" href=\"..\\__pv_it\\ac7074575c9abc7287a033224c39d1512d4f066f0\\expr.ipynb\"><img src=\"..\\__pv_it\\ac7074575c9abc7287a033224c39d1512d4f066f0\\expr.png\" style=\"display:inline;vertical-align:middle;\" /></a></span></td></tr><tr><td>5</td><td>theorem</td><td></td><td><span style=\"font-size:20px;\"> &#x22A2;&nbsp;<a class=\"ProveItLink\" href=\"..\\__pv_it\\de2cdff2d5421332d0ea17ea5715a95e85afc87a0\\expr.ipynb\"><img src=\"..\\__pv_it\\de2cdff2d5421332d0ea17ea5715a95e85afc87a0\\expr.png\" style=\"display:inline;vertical-align:middle;\" /></a></span></td></tr>\n",
       "<tr><td>&nbsp;</td><td colspan=4 style-\"text-align:left\"><a class=\"ProveItLink\" href=\"unfoldNotEquals.ipynb\">proveit.logic.equality.unfoldNotEquals</a></td></tr><tr><td>6</td><td>assumption</td><td></td><td><span style=\"font-size:20px;\"><a class=\"ProveItLink\" href=\"..\\__pv_it\\e9245d1c186a4cb469d2dd66d2620abcd8b4c7b10\\expr.ipynb\"><img src=\"..\\__pv_it\\e9245d1c186a4cb469d2dd66d2620abcd8b4c7b10\\expr.png\" style=\"display:inline;vertical-align:middle;\" /></a> &#x22A2;&nbsp;<a class=\"ProveItLink\" href=\"..\\__pv_it\\cac116d931b2c7ab3931fff9b72ac12e314471740\\expr.ipynb\"><img src=\"..\\__pv_it\\cac116d931b2c7ab3931fff9b72ac12e314471740\\expr.png\" style=\"display:inline;vertical-align:middle;\" /></a></span></td></tr>\n"
      ],
      "text/plain": [
       "<proveit._core_.proof.Generalization instance at 0x0000000008B60708>"
      ]
     },
     "execution_count": 8,
     "metadata": {},
     "output_type": "execute_result"
    }
   ],
   "source": [
    "%qed"
   ]
  },
  {
   "cell_type": "code",
   "execution_count": null,
   "metadata": {
    "collapsed": true,
    "deletable": true,
    "editable": true
   },
   "outputs": [],
   "source": []
  }
 ],
 "metadata": {
  "kernelspec": {
   "display_name": "Python 2",
   "language": "python",
   "name": "python2"
  },
  "language_info": {
   "codemirror_mode": {
    "name": "ipython",
    "version": 2
   },
   "file_extension": ".py",
   "mimetype": "text/x-python",
   "name": "python",
   "nbconvert_exporter": "python",
   "pygments_lexer": "ipython2",
   "version": "2.7.11"
  }
 },
 "nbformat": 4,
 "nbformat_minor": 0
}
