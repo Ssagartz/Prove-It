{
 "cells": [
  {
   "cell_type": "markdown",
   "metadata": {
    "collapsed": true,
    "deletable": true,
    "editable": true
   },
   "source": [
    "Proof of <a class=\"ProveItLink\" href=\"..\\..\\..\\_context_.ipynb\">proveit</a>.<a class=\"ProveItLink\" href=\"..\\..\\_context_.ipynb\">logic</a>.<a class=\"ProveItLink\" href=\"..\\_context_.ipynb\">equality</a>.<a href=\"../_theorems_.ipynb#notEqualsSymmetry\" class=\"ProveItLink\">notEqualsSymmetry</a> theorem\n",
    "========"
   ]
  },
  {
   "cell_type": "code",
   "execution_count": 1,
   "metadata": {
    "collapsed": true,
    "deletable": true,
    "editable": true
   },
   "outputs": [],
   "source": [
    "import proveit\n",
    "from proveit import defaults\n",
    "from proveit.logic.equality._axioms_ import equalsSymmetry\n",
    "context = proveit.Context('..') # the theorem's context is in the parent directory"
   ]
  },
  {
   "cell_type": "code",
   "execution_count": 2,
   "metadata": {
    "collapsed": false,
    "deletable": true,
    "editable": true
   },
   "outputs": [
    {
     "name": "stdout",
     "output_type": "stream",
     "text": [
      "Beginning proof of notEqualsSymmetry\n",
      "Recorded 'presuming' information\n",
      "Presuming previous theorems in this context (and any of their dependencies).\n"
     ]
    },
    {
     "data": {
      "text/html": [
       "<strong id=\"notEqualsSymmetry\">notEqualsSymmetry:</strong> <a class=\"ProveItLink\" href=\"..\\__pv_it\\0b1a437b9f792461539a8cc416ec7b68c666b42b0\\expr.ipynb\"><img src=\"..\\__pv_it\\0b1a437b9f792461539a8cc416ec7b68c666b42b0\\expr.png\" style=\"display:inline;vertical-align:middle;\" /></a><br>(see <a class=\"ProveItLink\" href=\"..\\__pv_it\\0b1a437b9f792461539a8cc416ec7b68c666b42b0\\dependencies.ipynb\">dependencies</a>)"
      ],
      "text/plain": [
       "notEqualsSymmetry: forall_{x, y | x != y} (y != x)"
      ]
     },
     "execution_count": 2,
     "metadata": {},
     "output_type": "execute_result"
    }
   ],
   "source": [
    "%proving notEqualsSymmetry presuming []"
   ]
  },
  {
   "cell_type": "code",
   "execution_count": 3,
   "metadata": {
    "collapsed": false
   },
   "outputs": [
    {
     "data": {
      "text/html": [
       "<strong id=\"defaults.assumptions\">defaults.assumptions:</strong> <a class=\"ProveItLink\" href=\"..\\__pv_it\\43f3f7398e5f49463c7eb47522b5b6065a82165d0\\expr.ipynb\"><img src=\"..\\__pv_it\\43f3f7398e5f49463c7eb47522b5b6065a82165d0\\expr.png\" style=\"display:inline;vertical-align:middle;\" /></a><br>"
      ],
      "text/plain": [
       "defaults.assumptions: (x != y)"
      ]
     },
     "execution_count": 3,
     "metadata": {},
     "output_type": "execute_result"
    }
   ],
   "source": [
    "defaults.assumptions = notEqualsSymmetry.conditions"
   ]
  },
  {
   "cell_type": "code",
   "execution_count": 4,
   "metadata": {
    "collapsed": false,
    "deletable": true,
    "editable": true
   },
   "outputs": [
    {
     "data": {
      "text/html": [
       "<strong id=\"x_neq_y\">x_neq_y:</strong> <a class=\"ProveItLink\" href=\"..\\__pv_it\\d653f83d068ba3b3b2ff1f6849298500353558900\\expr.ipynb\"><img src=\"..\\__pv_it\\d653f83d068ba3b3b2ff1f6849298500353558900\\expr.png\" style=\"display:inline;vertical-align:middle;\" /></a><br>"
      ],
      "text/plain": [
       "x_neq_y: x != y"
      ]
     },
     "execution_count": 4,
     "metadata": {},
     "output_type": "execute_result"
    }
   ],
   "source": [
    "x_neq_y = notEqualsSymmetry.conditions[0]"
   ]
  },
  {
   "cell_type": "code",
   "execution_count": 5,
   "metadata": {
    "collapsed": false
   },
   "outputs": [
    {
     "data": {
      "text/html": [
       "<strong id=\"not__x_eq_y\">not__x_eq_y:</strong> <span style=\"font-size:20px;\"><a class=\"ProveItLink\" href=\"..\\__pv_it\\0a0c3733a14282ba7131d88b1f2c47f4d6a357dd0\\expr.ipynb\"><img src=\"..\\__pv_it\\0a0c3733a14282ba7131d88b1f2c47f4d6a357dd0\\expr.png\" style=\"display:inline;vertical-align:middle;\" /></a> &#x22A2;&nbsp;<a class=\"ProveItLink\" href=\"..\\__pv_it\\ba803e74a545c0e769490f0360bfdd9ef850012c0\\expr.ipynb\"><img src=\"..\\__pv_it\\ba803e74a545c0e769490f0360bfdd9ef850012c0\\expr.png\" style=\"display:inline;vertical-align:middle;\" /></a></span><br>"
      ],
      "text/plain": [
       "not__x_eq_y: {x != y} |= [not](x = y)"
      ]
     },
     "execution_count": 5,
     "metadata": {},
     "output_type": "execute_result"
    }
   ],
   "source": [
    "not__x_eq_y = x_neq_y.unfold()"
   ]
  },
  {
   "cell_type": "code",
   "execution_count": 6,
   "metadata": {
    "collapsed": false
   },
   "outputs": [
    {
     "data": {
      "text/html": [
       "<span style=\"font-size:20px;\"> &#x22A2;&nbsp;<a class=\"ProveItLink\" href=\"..\\__pv_it\\080cda3d0bc1ed8d8e16c50e2c572655cf0235280\\expr.ipynb\"><img src=\"..\\__pv_it\\080cda3d0bc1ed8d8e16c50e2c572655cf0235280\\expr.png\" style=\"display:inline;vertical-align:middle;\" /></a></span>"
      ],
      "text/plain": [
       "|= forall_{x, y} ((y = x) = (x = y))"
      ]
     },
     "execution_count": 6,
     "metadata": {},
     "output_type": "execute_result"
    }
   ],
   "source": [
    "equalsSymmetry"
   ]
  },
  {
   "cell_type": "code",
   "execution_count": 7,
   "metadata": {
    "collapsed": false
   },
   "outputs": [
    {
     "data": {
      "text/html": [
       "<span style=\"font-size:20px;\"><a class=\"ProveItLink\" href=\"..\\__pv_it\\0a0c3733a14282ba7131d88b1f2c47f4d6a357dd0\\expr.ipynb\"><img src=\"..\\__pv_it\\0a0c3733a14282ba7131d88b1f2c47f4d6a357dd0\\expr.png\" style=\"display:inline;vertical-align:middle;\" /></a> &#x22A2;&nbsp;<a class=\"ProveItLink\" href=\"..\\__pv_it\\35eb9ee83ff94a45a3e0679ee81fba29f47091040\\expr.ipynb\"><img src=\"..\\__pv_it\\35eb9ee83ff94a45a3e0679ee81fba29f47091040\\expr.png\" style=\"display:inline;vertical-align:middle;\" /></a></span>"
      ],
      "text/plain": [
       "{x != y} |= [not](y = x)"
      ]
     },
     "execution_count": 7,
     "metadata": {},
     "output_type": "execute_result"
    }
   ],
   "source": [
    "# substitute x=y with y=x within Not(x=y)\n",
    "equalsSymmetry.specialize().subLeftSideInto(not__x_eq_y.innerExpr().operand)"
   ]
  },
  {
   "cell_type": "code",
   "execution_count": 8,
   "metadata": {
    "collapsed": false
   },
   "outputs": [
    {
     "data": {
      "text/html": [
       "<table><tr><th>&nbsp;</th><th>step type</th><th>requirements</th><th>statement</th></tr>\n",
       "<tr><td>0</td><td>generalizaton</td><td>1</td><td><span style=\"font-size:20px;\"> &#x22A2;&nbsp;<a class=\"ProveItLink\" href=\"..\\__pv_it\\0b1a437b9f792461539a8cc416ec7b68c666b42b0\\expr.ipynb\"><img src=\"..\\__pv_it\\0b1a437b9f792461539a8cc416ec7b68c666b42b0\\expr.png\" style=\"display:inline;vertical-align:middle;\" /></a></span></td></tr>\n",
       "<tr><td>1</td><td>specialization</td><td>2, 3</td><td><span style=\"font-size:20px;\"><a class=\"ProveItLink\" href=\"..\\__pv_it\\0a0c3733a14282ba7131d88b1f2c47f4d6a357dd0\\expr.ipynb\"><img src=\"..\\__pv_it\\0a0c3733a14282ba7131d88b1f2c47f4d6a357dd0\\expr.png\" style=\"display:inline;vertical-align:middle;\" /></a> &#x22A2;&nbsp;<a class=\"ProveItLink\" href=\"..\\__pv_it\\4698e384fc479c906a8d774275149ce3a14f02f30\\expr.ipynb\"><img src=\"..\\__pv_it\\4698e384fc479c906a8d774275149ce3a14f02f30\\expr.png\" style=\"display:inline;vertical-align:middle;\" /></a></span></td></tr>\n",
       "<tr><td>&nbsp;</td><td colspan=4 style=\"text-align:left\"><span style=\"font-size:20px;\"><a class=\"ProveItLink\" href=\"..\\__pv_it\\61e4d8af41314a77da9b78e382ce63db421fe6660\\expr.ipynb\"><img src=\"..\\__pv_it\\61e4d8af41314a77da9b78e382ce63db421fe6660\\expr.png\" style=\"display:inline;vertical-align:middle;\" /></a>, <a class=\"ProveItLink\" href=\"..\\__pv_it\\79c957b616b22cf2d253a1a8b34fc7a1f3f6b7950\\expr.ipynb\"><img src=\"..\\__pv_it\\79c957b616b22cf2d253a1a8b34fc7a1f3f6b7950\\expr.png\" style=\"display:inline;vertical-align:middle;\" /></a></span></td></tr><tr><td>2</td><td>theorem</td><td></td><td><span style=\"font-size:20px;\"> &#x22A2;&nbsp;<a class=\"ProveItLink\" href=\"..\\__pv_it\\a7d53f946ce05c1193bee9cdef74ca79869c77560\\expr.ipynb\"><img src=\"..\\__pv_it\\a7d53f946ce05c1193bee9cdef74ca79869c77560\\expr.png\" style=\"display:inline;vertical-align:middle;\" /></a></span></td></tr>\n",
       "<tr><td>&nbsp;</td><td colspan=4 style-\"text-align:left\"><a class=\"ProveItLink\" href=\"foldNotEquals.ipynb\">proveit.logic.equality.foldNotEquals</a></td></tr><tr><td>3</td><td>specialization</td><td>4, 5, 6</td><td><span style=\"font-size:20px;\"><a class=\"ProveItLink\" href=\"..\\__pv_it\\0a0c3733a14282ba7131d88b1f2c47f4d6a357dd0\\expr.ipynb\"><img src=\"..\\__pv_it\\0a0c3733a14282ba7131d88b1f2c47f4d6a357dd0\\expr.png\" style=\"display:inline;vertical-align:middle;\" /></a> &#x22A2;&nbsp;<a class=\"ProveItLink\" href=\"..\\__pv_it\\35eb9ee83ff94a45a3e0679ee81fba29f47091040\\expr.ipynb\"><img src=\"..\\__pv_it\\35eb9ee83ff94a45a3e0679ee81fba29f47091040\\expr.png\" style=\"display:inline;vertical-align:middle;\" /></a></span></td></tr>\n",
       "<tr><td>&nbsp;</td><td colspan=4 style=\"text-align:left\"><span style=\"font-size:20px;\"><a class=\"ProveItLink\" href=\"..\\__pv_it\\df6821e012f98f64b15cfcf620d0b2e5b496138e0\\expr.ipynb\"><img src=\"..\\__pv_it\\df6821e012f98f64b15cfcf620d0b2e5b496138e0\\expr.png\" style=\"display:inline;vertical-align:middle;\" /></a>, <a class=\"ProveItLink\" href=\"..\\__pv_it\\90f9ed48abaf717bf5d066bf8034057f98e4183d0\\expr.ipynb\"><img src=\"..\\__pv_it\\90f9ed48abaf717bf5d066bf8034057f98e4183d0\\expr.png\" style=\"display:inline;vertical-align:middle;\" /></a>, <a class=\"ProveItLink\" href=\"..\\__pv_it\\051b9aa72791e2da57756c7cc168693d7a6a13ce0\\expr.ipynb\"><img src=\"..\\__pv_it\\051b9aa72791e2da57756c7cc168693d7a6a13ce0\\expr.png\" style=\"display:inline;vertical-align:middle;\" /></a></span></td></tr><tr><td>4</td><td>theorem</td><td></td><td><span style=\"font-size:20px;\"> &#x22A2;&nbsp;<a class=\"ProveItLink\" href=\"..\\__pv_it\\6425c7b64708730992bfb72314f6aeaa5dc1d76c0\\expr.ipynb\"><img src=\"..\\__pv_it\\6425c7b64708730992bfb72314f6aeaa5dc1d76c0\\expr.png\" style=\"display:inline;vertical-align:middle;\" /></a></span></td></tr>\n",
       "<tr><td>&nbsp;</td><td colspan=4 style-\"text-align:left\"><a class=\"ProveItLink\" href=\"subLeftSideInto.ipynb\">proveit.logic.equality.subLeftSideInto</a></td></tr><tr><td>5</td><td>specialization</td><td>7, 8</td><td><span style=\"font-size:20px;\"><a class=\"ProveItLink\" href=\"..\\__pv_it\\0a0c3733a14282ba7131d88b1f2c47f4d6a357dd0\\expr.ipynb\"><img src=\"..\\__pv_it\\0a0c3733a14282ba7131d88b1f2c47f4d6a357dd0\\expr.png\" style=\"display:inline;vertical-align:middle;\" /></a> &#x22A2;&nbsp;<a class=\"ProveItLink\" href=\"..\\__pv_it\\ba803e74a545c0e769490f0360bfdd9ef850012c0\\expr.ipynb\"><img src=\"..\\__pv_it\\ba803e74a545c0e769490f0360bfdd9ef850012c0\\expr.png\" style=\"display:inline;vertical-align:middle;\" /></a></span></td></tr>\n",
       "<tr><td>&nbsp;</td><td colspan=4 style=\"text-align:left\"><span style=\"font-size:20px;\"><a class=\"ProveItLink\" href=\"..\\__pv_it\\e186273e4c539cade37b518e2616defd36d9d3380\\expr.ipynb\"><img src=\"..\\__pv_it\\e186273e4c539cade37b518e2616defd36d9d3380\\expr.png\" style=\"display:inline;vertical-align:middle;\" /></a>, <a class=\"ProveItLink\" href=\"..\\__pv_it\\878db9e8f06f27b267a2b4752c288a316564d9270\\expr.ipynb\"><img src=\"..\\__pv_it\\878db9e8f06f27b267a2b4752c288a316564d9270\\expr.png\" style=\"display:inline;vertical-align:middle;\" /></a></span></td></tr><tr><td>6</td><td>specialization</td><td>9</td><td><span style=\"font-size:20px;\"> &#x22A2;&nbsp;<a class=\"ProveItLink\" href=\"..\\__pv_it\\8dee02ee4c88bea63be2bc8fde0bda0db4dec59c0\\expr.ipynb\"><img src=\"..\\__pv_it\\8dee02ee4c88bea63be2bc8fde0bda0db4dec59c0\\expr.png\" style=\"display:inline;vertical-align:middle;\" /></a></span></td></tr>\n",
       "<tr><td>&nbsp;</td><td colspan=4 style=\"text-align:left\"><span style=\"font-size:20px;\"><a class=\"ProveItLink\" href=\"..\\__pv_it\\e186273e4c539cade37b518e2616defd36d9d3380\\expr.ipynb\"><img src=\"..\\__pv_it\\e186273e4c539cade37b518e2616defd36d9d3380\\expr.png\" style=\"display:inline;vertical-align:middle;\" /></a>, <a class=\"ProveItLink\" href=\"..\\__pv_it\\878db9e8f06f27b267a2b4752c288a316564d9270\\expr.ipynb\"><img src=\"..\\__pv_it\\878db9e8f06f27b267a2b4752c288a316564d9270\\expr.png\" style=\"display:inline;vertical-align:middle;\" /></a></span></td></tr><tr><td>7</td><td>theorem</td><td></td><td><span style=\"font-size:20px;\"> &#x22A2;&nbsp;<a class=\"ProveItLink\" href=\"..\\__pv_it\\f9d207e192d579db6f280d162f39b8df3d44c2310\\expr.ipynb\"><img src=\"..\\__pv_it\\f9d207e192d579db6f280d162f39b8df3d44c2310\\expr.png\" style=\"display:inline;vertical-align:middle;\" /></a></span></td></tr>\n",
       "<tr><td>&nbsp;</td><td colspan=4 style-\"text-align:left\"><a class=\"ProveItLink\" href=\"unfoldNotEquals.ipynb\">proveit.logic.equality.unfoldNotEquals</a></td></tr><tr><td>8</td><td>assumption</td><td></td><td><span style=\"font-size:20px;\"><a class=\"ProveItLink\" href=\"..\\__pv_it\\0a0c3733a14282ba7131d88b1f2c47f4d6a357dd0\\expr.ipynb\"><img src=\"..\\__pv_it\\0a0c3733a14282ba7131d88b1f2c47f4d6a357dd0\\expr.png\" style=\"display:inline;vertical-align:middle;\" /></a> &#x22A2;&nbsp;<a class=\"ProveItLink\" href=\"..\\__pv_it\\d653f83d068ba3b3b2ff1f6849298500353558900\\expr.ipynb\"><img src=\"..\\__pv_it\\d653f83d068ba3b3b2ff1f6849298500353558900\\expr.png\" style=\"display:inline;vertical-align:middle;\" /></a></span></td></tr>\n",
       "<tr><td>9</td><td>axiom</td><td></td><td><span style=\"font-size:20px;\"> &#x22A2;&nbsp;<a class=\"ProveItLink\" href=\"..\\__pv_it\\080cda3d0bc1ed8d8e16c50e2c572655cf0235280\\expr.ipynb\"><img src=\"..\\__pv_it\\080cda3d0bc1ed8d8e16c50e2c572655cf0235280\\expr.png\" style=\"display:inline;vertical-align:middle;\" /></a></span></td></tr>\n",
       "<tr><td>&nbsp;</td><td colspan=4 style-\"text-align:left\"><a class=\"ProveItLink\" href=\"..\\_axioms_.ipynb#equalsSymmetry\">proveit.logic.equality.equalsSymmetry</a></td></tr>"
      ],
      "text/plain": [
       "<proveit._core_.proof.Generalization instance at 0x0000000009195D08>"
      ]
     },
     "execution_count": 8,
     "metadata": {},
     "output_type": "execute_result"
    }
   ],
   "source": [
    "%qed"
   ]
  },
  {
   "cell_type": "code",
   "execution_count": 9,
   "metadata": {
    "collapsed": true
   },
   "outputs": [],
   "source": []
  }
 ],
 "metadata": {
  "kernelspec": {
   "display_name": "Python 2",
   "language": "python",
   "name": "python2"
  },
  "language_info": {
   "codemirror_mode": {
    "name": "ipython",
    "version": 2
   },
   "file_extension": ".py",
   "mimetype": "text/x-python",
   "name": "python",
   "nbconvert_exporter": "python",
   "pygments_lexer": "ipython2",
   "version": "2.7.11"
  }
 },
 "nbformat": 4,
 "nbformat_minor": 0
}
