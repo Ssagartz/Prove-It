{
 "cells": [
  {
   "cell_type": "markdown",
   "metadata": {
    "collapsed": true,
    "deletable": true,
    "editable": true
   },
   "source": [
    "Proof of <a class=\"ProveItLink\" href=\"..\\..\\..\\_context_.ipynb\">proveit</a>.<a class=\"ProveItLink\" href=\"..\\..\\_context_.ipynb\">logic</a>.<a class=\"ProveItLink\" href=\"..\\_context_.ipynb\">equality</a>.<a href=\"../_theorems_.ipynb#equalsReversal\" class=\"ProveItLink\">equalsReversal</a> theorem\n",
    "========"
   ]
  },
  {
   "cell_type": "code",
   "execution_count": 1,
   "metadata": {
    "collapsed": true,
    "deletable": true,
    "editable": true
   },
   "outputs": [],
   "source": [
    "import proveit\n",
    "from proveit.logic.equality._axioms_ import equalsSymmetry\n",
    "context = proveit.Context('..') # the theorem's context is in the parent directory"
   ]
  },
  {
   "cell_type": "code",
   "execution_count": 2,
   "metadata": {
    "collapsed": false,
    "deletable": true,
    "editable": true
   },
   "outputs": [
    {
     "name": "stdout",
     "output_type": "stream",
     "text": [
      "Beginning proof of equalsReversal\n",
      "Recorded 'presuming' information\n",
      "Presuming previous theorems in this context (and any of their dependencies).\n"
     ]
    },
    {
     "data": {
      "text/html": [
       "<strong id=\"equalsReversal\">equalsReversal:</strong> <a class=\"ProveItLink\" href=\"..\\__pv_it\\ea30f81e570e9291b945594aa271523b96695fa70\\expr.ipynb\"><img src=\"..\\__pv_it\\ea30f81e570e9291b945594aa271523b96695fa70\\expr.png\" style=\"display:inline;vertical-align:middle;\" /></a><br>(see <a class=\"ProveItLink\" href=\"..\\__pv_it\\ea30f81e570e9291b945594aa271523b96695fa70\\dependencies.ipynb\">dependencies</a>)"
      ],
      "text/plain": [
       "equalsReversal: forall_{x, y | x = y} (y = x)"
      ]
     },
     "execution_count": 2,
     "metadata": {},
     "output_type": "execute_result"
    }
   ],
   "source": [
    "%proving equalsReversal presuming []"
   ]
  },
  {
   "cell_type": "code",
   "execution_count": 3,
   "metadata": {
    "collapsed": false
   },
   "outputs": [
    {
     "data": {
      "text/html": [
       "<strong id=\"conditions\">conditions:</strong> <a class=\"ProveItLink\" href=\"..\\__pv_it\\007cf67f2f1d3e7dd3124a7473bce3203cd61c750\\expr.ipynb\"><img src=\"..\\__pv_it\\007cf67f2f1d3e7dd3124a7473bce3203cd61c750\\expr.png\" style=\"display:inline;vertical-align:middle;\" /></a><br>"
      ],
      "text/plain": [
       "conditions: (x = y)"
      ]
     },
     "execution_count": 3,
     "metadata": {},
     "output_type": "execute_result"
    }
   ],
   "source": [
    "conditions = equalsReversal.conditions"
   ]
  },
  {
   "cell_type": "code",
   "execution_count": 4,
   "metadata": {
    "collapsed": false,
    "deletable": true,
    "editable": true
   },
   "outputs": [
    {
     "data": {
      "text/html": [
       "<span style=\"font-size:20px;\"> &#x22A2;&nbsp;<a class=\"ProveItLink\" href=\"..\\__pv_it\\080cda3d0bc1ed8d8e16c50e2c572655cf0235280\\expr.ipynb\"><img src=\"..\\__pv_it\\080cda3d0bc1ed8d8e16c50e2c572655cf0235280\\expr.png\" style=\"display:inline;vertical-align:middle;\" /></a></span>"
      ],
      "text/plain": [
       "|= forall_{x, y} ((y = x) = (x = y))"
      ]
     },
     "execution_count": 4,
     "metadata": {},
     "output_type": "execute_result"
    }
   ],
   "source": [
    "equalsSymmetry"
   ]
  },
  {
   "cell_type": "code",
   "execution_count": 5,
   "metadata": {
    "collapsed": false
   },
   "outputs": [
    {
     "data": {
      "text/html": [
       "<strong id=\"eq_sym\">eq_sym:</strong> <span style=\"font-size:20px;\"> &#x22A2;&nbsp;<a class=\"ProveItLink\" href=\"..\\__pv_it\\8dee02ee4c88bea63be2bc8fde0bda0db4dec59c0\\expr.ipynb\"><img src=\"..\\__pv_it\\8dee02ee4c88bea63be2bc8fde0bda0db4dec59c0\\expr.png\" style=\"display:inline;vertical-align:middle;\" /></a></span><br>"
      ],
      "text/plain": [
       "eq_sym: |= (y = x) = (x = y)"
      ]
     },
     "execution_count": 5,
     "metadata": {},
     "output_type": "execute_result"
    }
   ],
   "source": [
    "eq_sym = equalsSymmetry.specialize()"
   ]
  },
  {
   "cell_type": "code",
   "execution_count": 6,
   "metadata": {
    "collapsed": false
   },
   "outputs": [
    {
     "data": {
      "text/html": [
       "<span style=\"font-size:20px;\"><a class=\"ProveItLink\" href=\"..\\__pv_it\\b5bbd1e9e015b666e46c9a5cde50f5d4df7e71bb0\\expr.ipynb\"><img src=\"..\\__pv_it\\b5bbd1e9e015b666e46c9a5cde50f5d4df7e71bb0\\expr.png\" style=\"display:inline;vertical-align:middle;\" /></a> &#x22A2;&nbsp;<a class=\"ProveItLink\" href=\"..\\__pv_it\\8af38aa54237efb74cfeba69a92d7bf2987e11080\\expr.ipynb\"><img src=\"..\\__pv_it\\8af38aa54237efb74cfeba69a92d7bf2987e11080\\expr.png\" style=\"display:inline;vertical-align:middle;\" /></a></span>"
      ],
      "text/plain": [
       "{x = y} |= y = x"
      ]
     },
     "execution_count": 6,
     "metadata": {},
     "output_type": "execute_result"
    }
   ],
   "source": [
    "eq_sym.deriveLeftViaEquivalence(assumptions=conditions)"
   ]
  },
  {
   "cell_type": "code",
   "execution_count": 7,
   "metadata": {
    "collapsed": false
   },
   "outputs": [
    {
     "data": {
      "text/html": [
       "<table><tr><th>&nbsp;</th><th>step type</th><th>requirements</th><th>statement</th></tr>\n",
       "<tr><td>0</td><td>generalizaton</td><td>1</td><td><span style=\"font-size:20px;\"> &#x22A2;&nbsp;<a class=\"ProveItLink\" href=\"..\\__pv_it\\ea30f81e570e9291b945594aa271523b96695fa70\\expr.ipynb\"><img src=\"..\\__pv_it\\ea30f81e570e9291b945594aa271523b96695fa70\\expr.png\" style=\"display:inline;vertical-align:middle;\" /></a></span></td></tr>\n",
       "<tr><td>1</td><td>specialization</td><td>2, 3, 4</td><td><span style=\"font-size:20px;\"><a class=\"ProveItLink\" href=\"..\\__pv_it\\b5bbd1e9e015b666e46c9a5cde50f5d4df7e71bb0\\expr.ipynb\"><img src=\"..\\__pv_it\\b5bbd1e9e015b666e46c9a5cde50f5d4df7e71bb0\\expr.png\" style=\"display:inline;vertical-align:middle;\" /></a> &#x22A2;&nbsp;<a class=\"ProveItLink\" href=\"..\\__pv_it\\8af38aa54237efb74cfeba69a92d7bf2987e11080\\expr.ipynb\"><img src=\"..\\__pv_it\\8af38aa54237efb74cfeba69a92d7bf2987e11080\\expr.png\" style=\"display:inline;vertical-align:middle;\" /></a></span></td></tr>\n",
       "<tr><td>&nbsp;</td><td colspan=4 style=\"text-align:left\"><span style=\"font-size:20px;\"><a class=\"ProveItLink\" href=\"..\\__pv_it\\358d8e819322e4fd4db675f00ab1609056c30a650\\expr.ipynb\"><img src=\"..\\__pv_it\\358d8e819322e4fd4db675f00ab1609056c30a650\\expr.png\" style=\"display:inline;vertical-align:middle;\" /></a>, <a class=\"ProveItLink\" href=\"..\\__pv_it\\673145b1dde6150feeb26828a918d38cd97e04200\\expr.ipynb\"><img src=\"..\\__pv_it\\673145b1dde6150feeb26828a918d38cd97e04200\\expr.png\" style=\"display:inline;vertical-align:middle;\" /></a></span></td></tr><tr><td>2</td><td>theorem</td><td></td><td><span style=\"font-size:20px;\"> &#x22A2;&nbsp;<a class=\"ProveItLink\" href=\"..\\__pv_it\\82f80bbaaee458801b8536aadd7872d9a72c5f490\\expr.ipynb\"><img src=\"..\\__pv_it\\82f80bbaaee458801b8536aadd7872d9a72c5f490\\expr.png\" style=\"display:inline;vertical-align:middle;\" /></a></span></td></tr>\n",
       "<tr><td>&nbsp;</td><td colspan=4 style-\"text-align:left\"><a class=\"ProveItLink\" href=\"lhsViaEquivalence.ipynb\">proveit.logic.equality.lhsViaEquivalence</a></td></tr><tr><td>3</td><td>assumption</td><td></td><td><span style=\"font-size:20px;\"><a class=\"ProveItLink\" href=\"..\\__pv_it\\b5bbd1e9e015b666e46c9a5cde50f5d4df7e71bb0\\expr.ipynb\"><img src=\"..\\__pv_it\\b5bbd1e9e015b666e46c9a5cde50f5d4df7e71bb0\\expr.png\" style=\"display:inline;vertical-align:middle;\" /></a> &#x22A2;&nbsp;<a class=\"ProveItLink\" href=\"..\\__pv_it\\4c4fb7e6d6cc6c4aef91243b02a9bdb408e1b6510\\expr.ipynb\"><img src=\"..\\__pv_it\\4c4fb7e6d6cc6c4aef91243b02a9bdb408e1b6510\\expr.png\" style=\"display:inline;vertical-align:middle;\" /></a></span></td></tr>\n",
       "<tr><td>4</td><td>specialization</td><td>5</td><td><span style=\"font-size:20px;\"> &#x22A2;&nbsp;<a class=\"ProveItLink\" href=\"..\\__pv_it\\8dee02ee4c88bea63be2bc8fde0bda0db4dec59c0\\expr.ipynb\"><img src=\"..\\__pv_it\\8dee02ee4c88bea63be2bc8fde0bda0db4dec59c0\\expr.png\" style=\"display:inline;vertical-align:middle;\" /></a></span></td></tr>\n",
       "<tr><td>&nbsp;</td><td colspan=4 style=\"text-align:left\"><span style=\"font-size:20px;\"><a class=\"ProveItLink\" href=\"..\\__pv_it\\e186273e4c539cade37b518e2616defd36d9d3380\\expr.ipynb\"><img src=\"..\\__pv_it\\e186273e4c539cade37b518e2616defd36d9d3380\\expr.png\" style=\"display:inline;vertical-align:middle;\" /></a>, <a class=\"ProveItLink\" href=\"..\\__pv_it\\878db9e8f06f27b267a2b4752c288a316564d9270\\expr.ipynb\"><img src=\"..\\__pv_it\\878db9e8f06f27b267a2b4752c288a316564d9270\\expr.png\" style=\"display:inline;vertical-align:middle;\" /></a></span></td></tr><tr><td>5</td><td>axiom</td><td></td><td><span style=\"font-size:20px;\"> &#x22A2;&nbsp;<a class=\"ProveItLink\" href=\"..\\__pv_it\\080cda3d0bc1ed8d8e16c50e2c572655cf0235280\\expr.ipynb\"><img src=\"..\\__pv_it\\080cda3d0bc1ed8d8e16c50e2c572655cf0235280\\expr.png\" style=\"display:inline;vertical-align:middle;\" /></a></span></td></tr>\n",
       "<tr><td>&nbsp;</td><td colspan=4 style-\"text-align:left\"><a class=\"ProveItLink\" href=\"..\\_axioms_.ipynb#equalsSymmetry\">proveit.logic.equality.equalsSymmetry</a></td></tr>"
      ],
      "text/plain": [
       "<proveit._core_.proof.Generalization instance at 0x0000000008FBF648>"
      ]
     },
     "execution_count": 7,
     "metadata": {},
     "output_type": "execute_result"
    }
   ],
   "source": [
    "%qed"
   ]
  },
  {
   "cell_type": "code",
   "execution_count": 8,
   "metadata": {
    "collapsed": true
   },
   "outputs": [],
   "source": []
  }
 ],
 "metadata": {
  "kernelspec": {
   "display_name": "Python 2",
   "language": "python",
   "name": "python2"
  },
  "language_info": {
   "codemirror_mode": {
    "name": "ipython",
    "version": 2
   },
   "file_extension": ".py",
   "mimetype": "text/x-python",
   "name": "python",
   "nbconvert_exporter": "python",
   "pygments_lexer": "ipython2",
   "version": "2.7.11"
  }
 },
 "nbformat": 4,
 "nbformat_minor": 0
}
