{
 "cells": [
  {
   "cell_type": "markdown",
   "metadata": {
    "collapsed": true,
    "deletable": true,
    "editable": true
   },
   "source": [
    "Proof of <a class=\"ProveItLink\" href=\"..\\..\\..\\_context_.ipynb\">proveit</a>.<a class=\"ProveItLink\" href=\"..\\..\\_context_.ipynb\">logic</a>.<a class=\"ProveItLink\" href=\"..\\_context_.ipynb\">equality</a>.<a href=\"../_theorems_.ipynb#substituteFalsehood\" class=\"ProveItLink\">substituteFalsehood</a> theorem\n",
    "========"
   ]
  },
  {
   "cell_type": "code",
   "execution_count": 1,
   "metadata": {
    "collapsed": true,
    "deletable": true,
    "editable": true
   },
   "outputs": [],
   "source": [
    "import proveit\n",
    "from proveit import defaults\n",
    "from proveit._common_ import x, P, Px\n",
    "from proveit.logic._common_ import PofFalse\n",
    "context = proveit.Context('..') # the theorem's context is in the parent directory"
   ]
  },
  {
   "cell_type": "code",
   "execution_count": 2,
   "metadata": {
    "collapsed": false,
    "deletable": true,
    "editable": true
   },
   "outputs": [
    {
     "name": "stdout",
     "output_type": "stream",
     "text": [
      "Beginning proof of substituteFalsehood\n",
      "Recorded 'presuming' information\n",
      "Presuming previous theorems in this context (and any of their dependencies).\n"
     ]
    },
    {
     "data": {
      "text/html": [
       "<strong id=\"substituteFalsehood\">substituteFalsehood:</strong> <a class=\"ProveItLink\" href=\"..\\__pv_it\\c9f60a12cf66cdd6e93a0a14db2852a9185d17cc0\\expr.ipynb\"><img src=\"..\\__pv_it\\c9f60a12cf66cdd6e93a0a14db2852a9185d17cc0\\expr.png\" style=\"display:inline;vertical-align:middle;\" /></a><br>(see <a class=\"ProveItLink\" href=\"..\\__pv_it\\c9f60a12cf66cdd6e93a0a14db2852a9185d17cc0\\dependencies.ipynb\">dependencies</a>)"
      ],
      "text/plain": [
       "substituteFalsehood: forall_{P, x | P(FALSE) , [not](x)} P(x)"
      ]
     },
     "execution_count": 2,
     "metadata": {},
     "output_type": "execute_result"
    }
   ],
   "source": [
    "%proving substituteFalsehood presuming []"
   ]
  },
  {
   "cell_type": "code",
   "execution_count": 3,
   "metadata": {
    "collapsed": false,
    "deletable": true,
    "editable": true
   },
   "outputs": [
    {
     "data": {
      "text/html": [
       "<strong id=\"defaults.assumptions\">defaults.assumptions:</strong> <a class=\"ProveItLink\" href=\"..\\__pv_it\\261150ea9536b836d5c3986046384d7e09af04230\\expr.ipynb\"><img src=\"..\\__pv_it\\261150ea9536b836d5c3986046384d7e09af04230\\expr.png\" style=\"display:inline;vertical-align:middle;\" /></a><br>"
      ],
      "text/plain": [
       "defaults.assumptions: (P(FALSE) , [not](x))"
      ]
     },
     "execution_count": 3,
     "metadata": {},
     "output_type": "execute_result"
    }
   ],
   "source": [
    "defaults.assumptions = substituteFalsehood.conditions"
   ]
  },
  {
   "cell_type": "code",
   "execution_count": 4,
   "metadata": {
    "collapsed": false
   },
   "outputs": [
    {
     "data": {
      "text/html": [
       "<strong id=\"x_eq_F\">x_eq_F:</strong> <span style=\"font-size:20px;\"><a class=\"ProveItLink\" href=\"..\\__pv_it\\688b0dbebe6868e10c0bfa44157608a9e6c399150\\expr.ipynb\"><img src=\"..\\__pv_it\\688b0dbebe6868e10c0bfa44157608a9e6c399150\\expr.png\" style=\"display:inline;vertical-align:middle;\" /></a> &#x22A2;&nbsp;<a class=\"ProveItLink\" href=\"..\\__pv_it\\bfde2fa374beef60ac871fc92a38624946eac7bb0\\expr.ipynb\"><img src=\"..\\__pv_it\\bfde2fa374beef60ac871fc92a38624946eac7bb0\\expr.png\" style=\"display:inline;vertical-align:middle;\" /></a></span><br>"
      ],
      "text/plain": [
       "x_eq_F: {[not](x)} |= x = FALSE"
      ]
     },
     "execution_count": 4,
     "metadata": {},
     "output_type": "execute_result"
    }
   ],
   "source": [
    "x_eq_F = x.evaluate()"
   ]
  },
  {
   "cell_type": "code",
   "execution_count": 5,
   "metadata": {
    "collapsed": false
   },
   "outputs": [
    {
     "data": {
      "text/html": [
       "<span style=\"font-size:20px;\"><a class=\"ProveItLink\" href=\"..\\__pv_it\\04935493bbb26e3f4c3a9497781be68cb8da3f1f0\\expr.ipynb\"><img src=\"..\\__pv_it\\04935493bbb26e3f4c3a9497781be68cb8da3f1f0\\expr.png\" style=\"display:inline;vertical-align:middle;\" /></a> &#x22A2;&nbsp;<a class=\"ProveItLink\" href=\"..\\..\\..\\__pv_it\\8c735c381b4cbf3c87e86ca2468da4e5c976f9b00\\expr.ipynb\"><img src=\"..\\..\\..\\__pv_it\\8c735c381b4cbf3c87e86ca2468da4e5c976f9b00\\expr.png\" style=\"display:inline;vertical-align:middle;\" /></a></span>"
      ],
      "text/plain": [
       "{P(FALSE) , [not](x)} |= P(x)"
      ]
     },
     "execution_count": 5,
     "metadata": {},
     "output_type": "execute_result"
    }
   ],
   "source": [
    "x_eq_F.lhsSubstitute(PofFalse)"
   ]
  },
  {
   "cell_type": "code",
   "execution_count": 6,
   "metadata": {
    "collapsed": false
   },
   "outputs": [
    {
     "data": {
      "text/html": [
       "<table><tr><th>&nbsp;</th><th>step type</th><th>requirements</th><th>statement</th></tr>\n",
       "<tr><td>0</td><td>generalizaton</td><td>1</td><td><span style=\"font-size:20px;\"> &#x22A2;&nbsp;<a class=\"ProveItLink\" href=\"..\\__pv_it\\c9f60a12cf66cdd6e93a0a14db2852a9185d17cc0\\expr.ipynb\"><img src=\"..\\__pv_it\\c9f60a12cf66cdd6e93a0a14db2852a9185d17cc0\\expr.png\" style=\"display:inline;vertical-align:middle;\" /></a></span></td></tr>\n",
       "<tr><td>1</td><td>specialization</td><td>2, 3, 4</td><td><span style=\"font-size:20px;\"><a class=\"ProveItLink\" href=\"..\\__pv_it\\04935493bbb26e3f4c3a9497781be68cb8da3f1f0\\expr.ipynb\"><img src=\"..\\__pv_it\\04935493bbb26e3f4c3a9497781be68cb8da3f1f0\\expr.png\" style=\"display:inline;vertical-align:middle;\" /></a> &#x22A2;&nbsp;<a class=\"ProveItLink\" href=\"..\\..\\..\\__pv_it\\8c735c381b4cbf3c87e86ca2468da4e5c976f9b00\\expr.ipynb\"><img src=\"..\\..\\..\\__pv_it\\8c735c381b4cbf3c87e86ca2468da4e5c976f9b00\\expr.png\" style=\"display:inline;vertical-align:middle;\" /></a></span></td></tr>\n",
       "<tr><td>&nbsp;</td><td colspan=4 style=\"text-align:left\"><span style=\"font-size:20px;\"><a class=\"ProveItLink\" href=\"..\\__pv_it\\0f67a85aae5c4593db9b9bfe9a88a6d4e6f7b7140\\expr.ipynb\"><img src=\"..\\__pv_it\\0f67a85aae5c4593db9b9bfe9a88a6d4e6f7b7140\\expr.png\" style=\"display:inline;vertical-align:middle;\" /></a>, <a class=\"ProveItLink\" href=\"..\\__pv_it\\1a9d7410315f0e0994a116f471e5b8ad6b53002f0\\expr.ipynb\"><img src=\"..\\__pv_it\\1a9d7410315f0e0994a116f471e5b8ad6b53002f0\\expr.png\" style=\"display:inline;vertical-align:middle;\" /></a>, <a class=\"ProveItLink\" href=\"..\\__pv_it\\4d87a4484fb0d1b132dc947738ff178d45e52e490\\expr.ipynb\"><img src=\"..\\__pv_it\\4d87a4484fb0d1b132dc947738ff178d45e52e490\\expr.png\" style=\"display:inline;vertical-align:middle;\" /></a></span></td></tr><tr><td>2</td><td>theorem</td><td></td><td><span style=\"font-size:20px;\"> &#x22A2;&nbsp;<a class=\"ProveItLink\" href=\"..\\__pv_it\\6425c7b64708730992bfb72314f6aeaa5dc1d76c0\\expr.ipynb\"><img src=\"..\\__pv_it\\6425c7b64708730992bfb72314f6aeaa5dc1d76c0\\expr.png\" style=\"display:inline;vertical-align:middle;\" /></a></span></td></tr>\n",
       "<tr><td>&nbsp;</td><td colspan=4 style-\"text-align:left\"><a class=\"ProveItLink\" href=\"lhsSubstitute.ipynb\">proveit.logic.equality.lhsSubstitute</a></td></tr><tr><td>3</td><td>assumption</td><td></td><td><span style=\"font-size:20px;\"><a class=\"ProveItLink\" href=\"..\\__pv_it\\392149febb64c25029811c7bdeff26a02602d8160\\expr.ipynb\"><img src=\"..\\__pv_it\\392149febb64c25029811c7bdeff26a02602d8160\\expr.png\" style=\"display:inline;vertical-align:middle;\" /></a> &#x22A2;&nbsp;<a class=\"ProveItLink\" href=\"..\\..\\__pv_it\\4d7c4165a9fdb279e98a557bae75d7e45eb1c31a0\\expr.ipynb\"><img src=\"..\\..\\__pv_it\\4d7c4165a9fdb279e98a557bae75d7e45eb1c31a0\\expr.png\" style=\"display:inline;vertical-align:middle;\" /></a></span></td></tr>\n",
       "<tr><td>4</td><td>specialization</td><td>5, 6</td><td><span style=\"font-size:20px;\"><a class=\"ProveItLink\" href=\"..\\__pv_it\\688b0dbebe6868e10c0bfa44157608a9e6c399150\\expr.ipynb\"><img src=\"..\\__pv_it\\688b0dbebe6868e10c0bfa44157608a9e6c399150\\expr.png\" style=\"display:inline;vertical-align:middle;\" /></a> &#x22A2;&nbsp;<a class=\"ProveItLink\" href=\"..\\__pv_it\\bfde2fa374beef60ac871fc92a38624946eac7bb0\\expr.ipynb\"><img src=\"..\\__pv_it\\bfde2fa374beef60ac871fc92a38624946eac7bb0\\expr.png\" style=\"display:inline;vertical-align:middle;\" /></a></span></td></tr>\n",
       "<tr><td>&nbsp;</td><td colspan=4 style=\"text-align:left\"><span style=\"font-size:20px;\"><a class=\"ProveItLink\" href=\"..\\__pv_it\\a00d8f0bea44fb69d00fbde9134ec3e6e2c15c7a0\\expr.ipynb\"><img src=\"..\\__pv_it\\a00d8f0bea44fb69d00fbde9134ec3e6e2c15c7a0\\expr.png\" style=\"display:inline;vertical-align:middle;\" /></a></span></td></tr><tr><td>5</td><td>axiom</td><td></td><td><span style=\"font-size:20px;\"> &#x22A2;&nbsp;<a class=\"ProveItLink\" href=\"..\\..\\boolean\\negation\\__pv_it\\946c53681efc8125a86640bb96b3bc8a7b22cecf0\\expr.ipynb\"><img src=\"..\\..\\boolean\\negation\\__pv_it\\946c53681efc8125a86640bb96b3bc8a7b22cecf0\\expr.png\" style=\"display:inline;vertical-align:middle;\" /></a></span></td></tr>\n",
       "<tr><td>&nbsp;</td><td colspan=4 style-\"text-align:left\"><a class=\"ProveItLink\" href=\"..\\..\\boolean\\negation\\_axioms_.ipynb#negationElim\">proveit.logic.boolean.negation.negationElim</a></td></tr><tr><td>6</td><td>assumption</td><td></td><td><span style=\"font-size:20px;\"><a class=\"ProveItLink\" href=\"..\\__pv_it\\688b0dbebe6868e10c0bfa44157608a9e6c399150\\expr.ipynb\"><img src=\"..\\__pv_it\\688b0dbebe6868e10c0bfa44157608a9e6c399150\\expr.png\" style=\"display:inline;vertical-align:middle;\" /></a> &#x22A2;&nbsp;<a class=\"ProveItLink\" href=\"..\\__pv_it\\5257302be1da79642d1552c1da1a429d5b167c980\\expr.ipynb\"><img src=\"..\\__pv_it\\5257302be1da79642d1552c1da1a429d5b167c980\\expr.png\" style=\"display:inline;vertical-align:middle;\" /></a></span></td></tr>\n"
      ],
      "text/plain": [
       "<proveit._core_.proof.Generalization instance at 0x0000000008DE3048>"
      ]
     },
     "execution_count": 6,
     "metadata": {},
     "output_type": "execute_result"
    }
   ],
   "source": [
    "%qed"
   ]
  },
  {
   "cell_type": "code",
   "execution_count": null,
   "metadata": {
    "collapsed": true
   },
   "outputs": [],
   "source": []
  }
 ],
 "metadata": {
  "kernelspec": {
   "display_name": "Python 2",
   "language": "python",
   "name": "python2"
  },
  "language_info": {
   "codemirror_mode": {
    "name": "ipython",
    "version": 2
   },
   "file_extension": ".py",
   "mimetype": "text/x-python",
   "name": "python",
   "nbconvert_exporter": "python",
   "pygments_lexer": "ipython2",
   "version": "2.7.11"
  }
 },
 "nbformat": 4,
 "nbformat_minor": 0
}
