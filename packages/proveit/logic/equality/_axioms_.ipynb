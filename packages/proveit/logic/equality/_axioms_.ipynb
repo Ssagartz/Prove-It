{
 "cells": [
  {
   "cell_type": "markdown",
   "metadata": {
    "collapsed": true,
    "deletable": true,
    "editable": true
   },
   "source": [
    "Axioms for context <a href=\"_context_.ipynb\" class=\"ProveItLink\">proveit.logic.equality</a>\n",
    "========"
   ]
  },
  {
   "cell_type": "code",
   "execution_count": 1,
   "metadata": {
    "collapsed": false,
    "deletable": true,
    "editable": true
   },
   "outputs": [
    {
     "name": "stdout",
     "output_type": "stream",
     "text": [
      "Defining axioms for context 'proveit.logic.equality'\n",
      "Subsequent end-of-cell assignments will define axioms\n",
      "%end_axioms will finalize the definitions\n"
     ]
    }
   ],
   "source": [
    "from proveit import Lambda\n",
    "from proveit.optypes import OperationOverInstances\n",
    "from proveit.logic import Equals, NotEquals, Not, Forall, Implies, inBool\n",
    "from proveit._common_ import x, y, z, f, fx, fy, Qmulti, xMulti, xMulti, yMulti, zMulti\n",
    "from proveit._common_ import Upsilon, S\n",
    "%begin axioms"
   ]
  },
  {
   "cell_type": "markdown",
   "metadata": {
    "deletable": true,
    "editable": true
   },
   "source": [
    "**By definition, two expressions are either equal or not (though one may not always be able to know which it is):**"
   ]
  },
  {
   "cell_type": "code",
   "execution_count": 2,
   "metadata": {
    "collapsed": false,
    "deletable": true,
    "editable": true
   },
   "outputs": [
    {
     "data": {
      "text/html": [
       "<strong id=\"equalityInBool\">equalityInBool:</strong> <a class=\"ProveItLink\" href=\"__pv_it\\139b6b2b3a770fc1a6af3e4320882a61397db4af0\\expr.ipynb\"><img src=\"__pv_it\\139b6b2b3a770fc1a6af3e4320882a61397db4af0\\expr.png\" style=\"display:inline;vertical-align:middle;\" /></a><br>"
      ],
      "text/plain": [
       "equalityInBool: forall_{x, y} ((x = y) in BOOLEANS)"
      ]
     },
     "execution_count": 2,
     "metadata": {},
     "output_type": "execute_result"
    }
   ],
   "source": [
    "equalityInBool = Forall((x, y), inBool(Equals(x, y)))"
   ]
  },
  {
   "cell_type": "markdown",
   "metadata": {
    "deletable": true,
    "editable": true
   },
   "source": [
    "**Equality is transitive (two things equal to the same thing must be equal to each other):**"
   ]
  },
  {
   "cell_type": "code",
   "execution_count": 3,
   "metadata": {
    "collapsed": false,
    "deletable": true,
    "editable": true
   },
   "outputs": [
    {
     "data": {
      "text/html": [
       "<strong id=\"equalsTransitivity\">equalsTransitivity:</strong> <a class=\"ProveItLink\" href=\"__pv_it\\7bbc723083f8049977d065bd191d8b28374f23270\\expr.ipynb\"><img src=\"__pv_it\\7bbc723083f8049977d065bd191d8b28374f23270\\expr.png\" style=\"display:inline;vertical-align:middle;\" /></a><br>"
      ],
      "text/plain": [
       "equalsTransitivity: forall_{x, y, z | (x = y),(y = z)} (x = z)"
      ]
     },
     "execution_count": 3,
     "metadata": {},
     "output_type": "execute_result"
    }
   ],
   "source": [
    "equalsTransitivity = Forall((x, y, z), Equals(x, z), conditions=[Equals(x, y), Equals(y, z)])"
   ]
  },
  {
   "cell_type": "markdown",
   "metadata": {
    "deletable": true,
    "editable": true
   },
   "source": [
    "**Equality is reflexive (everything is equal to itself):**"
   ]
  },
  {
   "cell_type": "code",
   "execution_count": 4,
   "metadata": {
    "collapsed": false,
    "deletable": true,
    "editable": true
   },
   "outputs": [
    {
     "data": {
      "text/html": [
       "<strong id=\"equalsReflexivity\">equalsReflexivity:</strong> <a class=\"ProveItLink\" href=\"__pv_it\\b3e15f8068df3cc2839068b437f7df3936a6df950\\expr.ipynb\"><img src=\"__pv_it\\b3e15f8068df3cc2839068b437f7df3936a6df950\\expr.png\" style=\"display:inline;vertical-align:middle;\" /></a><br>"
      ],
      "text/plain": [
       "equalsReflexivity: forall_{x} (x = x)"
      ]
     },
     "execution_count": 4,
     "metadata": {},
     "output_type": "execute_result"
    }
   ],
   "source": [
    "equalsReflexivity = Forall(x, Equals(x, x))"
   ]
  },
  {
   "cell_type": "markdown",
   "metadata": {
    "deletable": true,
    "editable": true
   },
   "source": [
    "**Equality is symmetric (it is a mutual relationship):**"
   ]
  },
  {
   "cell_type": "code",
   "execution_count": 5,
   "metadata": {
    "collapsed": false,
    "deletable": true,
    "editable": true
   },
   "outputs": [
    {
     "data": {
      "text/html": [
       "<strong id=\"equalsSymmetry\">equalsSymmetry:</strong> <a class=\"ProveItLink\" href=\"__pv_it\\480c852f1b3e10a2002860782c67ef38b92b29540\\expr.ipynb\"><img src=\"__pv_it\\480c852f1b3e10a2002860782c67ef38b92b29540\\expr.png\" style=\"display:inline;vertical-align:middle;\" /></a><br>"
      ],
      "text/plain": [
       "equalsSymmetry: forall_{x, y} ((y = x) = (x = y))"
      ]
     },
     "execution_count": 5,
     "metadata": {},
     "output_type": "execute_result"
    }
   ],
   "source": [
    "equalsSymmetry = Forall((x, y), Equals(Equals(y, x), Equals(x, y)))"
   ]
  },
  {
   "cell_type": "markdown",
   "metadata": {
    "deletable": true,
    "editable": true
   },
   "source": [
    "**$\\neq$ is defined as the negation of $=$:**"
   ]
  },
  {
   "cell_type": "code",
   "execution_count": 6,
   "metadata": {
    "collapsed": false,
    "deletable": true,
    "editable": true
   },
   "outputs": [
    {
     "data": {
      "text/html": [
       "<strong id=\"notEqualsDef\">notEqualsDef:</strong> <a class=\"ProveItLink\" href=\"__pv_it\\29fba1aff99d44a98032f9fbf289bda3079a8de20\\expr.ipynb\"><img src=\"__pv_it\\29fba1aff99d44a98032f9fbf289bda3079a8de20\\expr.png\" style=\"display:inline;vertical-align:middle;\" /></a><br>"
      ],
      "text/plain": [
       "notEqualsDef: forall_{x, y} ((x != y) = [not](x = y))"
      ]
     },
     "execution_count": 6,
     "metadata": {},
     "output_type": "execute_result"
    }
   ],
   "source": [
    "notEqualsDef = Forall((x, y), Equals(NotEquals(x, y), Not(Equals(x, y))))"
   ]
  },
  {
   "cell_type": "markdown",
   "metadata": {
    "deletable": true,
    "editable": true
   },
   "source": [
    "**When two things are equal, one may be substituted the other within any expression:**"
   ]
  },
  {
   "cell_type": "code",
   "execution_count": 7,
   "metadata": {
    "collapsed": false,
    "deletable": true,
    "editable": true
   },
   "outputs": [
    {
     "data": {
      "text/html": [
       "<strong id=\"substitution\">substitution:</strong> <a class=\"ProveItLink\" href=\"__pv_it\\801f919b4e4769be17b55956a1916c288a592e2a0\\expr.ipynb\"><img src=\"__pv_it\\801f919b4e4769be17b55956a1916c288a592e2a0\\expr.png\" style=\"display:inline;vertical-align:middle;\" /></a><br>"
      ],
      "text/plain": [
       "substitution: forall_{f, x, y | (x = y)} (f(x) = f(y))"
      ]
     },
     "execution_count": 7,
     "metadata": {},
     "output_type": "execute_result"
    }
   ],
   "source": [
    "substitution = Forall((f, x, y), Equals(fx, fy), conditions=Equals(x, y))"
   ]
  },
  {
   "cell_type": "markdown",
   "metadata": {
    "deletable": true,
    "editable": true
   },
   "source": [
    "**We can substitute the mapping within a `Lambda` map if the mapping is the same for all instances of the parameters:**"
   ]
  },
  {
   "cell_type": "code",
   "execution_count": 8,
   "metadata": {
    "collapsed": false,
    "deletable": true,
    "editable": true
   },
   "outputs": [
    {
     "ename": "NameError",
     "evalue": "name 'g' is not defined",
     "output_type": "error",
     "traceback": [
      "\u001b[1;31m\u001b[0m",
      "\u001b[1;31mNameError\u001b[0mTraceback (most recent call last)",
      "\u001b[1;32m<ipython-input-8-9af231024ba3>\u001b[0m in \u001b[0;36m<module>\u001b[1;34m()\u001b[0m\n\u001b[1;32m----> 1\u001b[1;33m mappingSubstitution = Forall((f, g), Implies(Forall(xMulti, Equals(fxEtc, gxEtc)),\n\u001b[0m\u001b[0;32m      2\u001b[0m                                              Equals(Lambda(xMulti, fxEtc),\n\u001b[0;32m      3\u001b[0m                                                     Lambda(xMulti, gxEtc))))\n\u001b[0;32m      4\u001b[0m \u001b[0mAssignments\u001b[0m\u001b[1;33m(\u001b[0m\u001b[1;33m[\u001b[0m\u001b[1;34m'mappingSubstitution'\u001b[0m\u001b[1;33m]\u001b[0m\u001b[1;33m,\u001b[0m \u001b[1;33m[\u001b[0m\u001b[0mmappingSubstitution\u001b[0m\u001b[1;33m]\u001b[0m\u001b[1;33m)\u001b[0m\u001b[1;33m\u001b[0m\u001b[0m\n",
      "\u001b[1;31mNameError\u001b[0m: name 'g' is not defined"
     ]
    }
   ],
   "source": [
    "mappingSubstitution = Forall((f, g), Implies(Forall(xMulti, Equals(fxEtc, gxEtc)),\n",
    "                                             Equals(Lambda(xMulti, fxEtc),\n",
    "                                                    Lambda(xMulti, gxEtc))))"
   ]
  },
  {
   "cell_type": "markdown",
   "metadata": {
    "deletable": true,
    "editable": true
   },
   "source": [
    "**We also need a special rule for substitution within an `OperationOverInstances` (e.g., $\\forall$, $\\exists$, $\\sum$, $\\prod$) to limit the equality requirement to just the relevant domain and conditions:**"
   ]
  },
  {
   "cell_type": "code",
   "execution_count": null,
   "metadata": {
    "collapsed": false,
    "deletable": true,
    "editable": true
   },
   "outputs": [],
   "source": [
    "instanceSubstitution = Forall((Upsilon, Qmulti, f, g, S), \n",
    "                              Implies(Forall(xMulti, Equals(fxEtc, gxEtc), domain=S, conditions=etc_QxEtc),\n",
    "                                      Equals(OperationOverInstances(Upsilon, yMulti, fyEtc, domain=S, conditions=etc_QyEtc),\n",
    "                                             OperationOverInstances(Upsilon, zMulti, gzEtc, domain=S, conditions=etc_QzEtc))))"
   ]
  },
  {
   "cell_type": "markdown",
   "metadata": {
    "deletable": true,
    "editable": true
   },
   "source": [
    "**We need another rule for substitution within an `OperationOverInstances` (e.g., $\\forall$, $\\exists$) when there is no explicit domain (just conditions):**"
   ]
  },
  {
   "cell_type": "code",
   "execution_count": null,
   "metadata": {
    "collapsed": false,
    "deletable": true,
    "editable": true
   },
   "outputs": [],
   "source": [
    "noDomainInstanceSubstitution = Forall((Upsilon, Qmulti, f, g), \n",
    "                                      Implies(Forall(xMulti, Equals(fxEtc, gxEtc), conditions=etc_QxEtc),\n",
    "                                              Equals(OperationOverInstances(Upsilon, yMulti, fyEtc, conditions=etc_QyEtc),\n",
    "                                                     OperationOverInstances(Upsilon, zMulti, gzEtc, conditions=etc_QzEtc))))"
   ]
  },
  {
   "cell_type": "code",
   "execution_count": 9,
   "metadata": {
    "collapsed": false,
    "deletable": true,
    "editable": true
   },
   "outputs": [
    {
     "name": "stdout",
     "output_type": "stream",
     "text": [
      "Modifying axiom substitution in proveit.logic.equality context\n",
      "substitution expression notebook is being updated\n",
      "Axioms may be imported from autogenerated _axioms_.py\n"
     ]
    }
   ],
   "source": [
    "%end axioms"
   ]
  },
  {
   "cell_type": "code",
   "execution_count": null,
   "metadata": {
    "collapsed": true,
    "deletable": true,
    "editable": true
   },
   "outputs": [],
   "source": []
  }
 ],
 "metadata": {
  "kernelspec": {
   "display_name": "Python 2",
   "language": "python",
   "name": "python2"
  },
  "language_info": {
   "codemirror_mode": {
    "name": "ipython",
    "version": 2
   },
   "file_extension": ".py",
   "mimetype": "text/x-python",
   "name": "python",
   "nbconvert_exporter": "python",
   "pygments_lexer": "ipython2",
   "version": "2.7.11"
  }
 },
 "nbformat": 4,
 "nbformat_minor": 0
}
