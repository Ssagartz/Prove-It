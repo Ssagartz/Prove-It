{
 "cells": [
  {
   "cell_type": "markdown",
   "metadata": {
    "collapsed": true,
    "deletable": true,
    "editable": true
   },
   "source": [
    "Axioms for context <a href=\"_context_.ipynb\">proveit.logic.equality</a>\n",
    "========"
   ]
  },
  {
   "cell_type": "code",
   "execution_count": 1,
   "metadata": {
    "collapsed": false,
    "deletable": true,
    "editable": true
   },
   "outputs": [
    {
     "name": "stdout",
     "output_type": "stream",
     "text": [
      "Defining axioms for context 'proveit.logic.equality'\n",
      "Subsequent end-of-cell assignments will define axioms\n",
      "%end_axioms will finalize the definitions\n"
     ]
    }
   ],
   "source": [
    "from proveit import Lambda\n",
    "from proveit._generic_ import OperationOverInstances\n",
    "from proveit.logic import Equals, NotEquals, Not, Forall, Implies, inBool\n",
    "from proveit._common_ import x, y, z, f, fx, fy, Qmulti, Qetc, xMulti, xMulti, xEtc, yMulti, yEtc, zMulti, zEtc\n",
    "from proveit._common_ import etc_QxEtc, etc_QyEtc, etc_QzEtc, f, g, fxEtc, fyEtc, gxEtc, gzEtc, Upsilon, S\n",
    "%begin_axioms"
   ]
  },
  {
   "cell_type": "markdown",
   "metadata": {
    "deletable": true,
    "editable": true
   },
   "source": [
    "**By definition, two expressions are either equal or not (though one may not always be able to know which it is):**"
   ]
  },
  {
   "cell_type": "code",
   "execution_count": 2,
   "metadata": {
    "collapsed": false,
    "deletable": true,
    "editable": true
   },
   "outputs": [
    {
     "data": {
      "text/html": [
       "<strong id=\"equalityInBool\">equalityInBool:</strong> <a href=\"__pv_it\\6f9af3a0208a65e3fc066e91f372d475e547985d0\\expr.ipynb\" target=\"_blank\"><img src=\"__pv_it\\6f9af3a0208a65e3fc066e91f372d475e547985d0\\expr.png\" style=\"display:inline;vertical-align:middle;\" /></a><br>"
      ],
      "text/plain": [
       "equalityInBool: forall_{x, y} ((x = y) in BOOLEANS)"
      ]
     },
     "execution_count": 2,
     "metadata": {},
     "output_type": "execute_result"
    }
   ],
   "source": [
    "equalityInBool = Forall((x, y), inBool(Equals(x, y)))"
   ]
  },
  {
   "cell_type": "markdown",
   "metadata": {
    "deletable": true,
    "editable": true
   },
   "source": [
    "**Equality is transitive (two things equal to the same thing must be equal to each other):**"
   ]
  },
  {
   "cell_type": "code",
   "execution_count": 3,
   "metadata": {
    "collapsed": false,
    "deletable": true,
    "editable": true
   },
   "outputs": [
    {
     "data": {
      "text/html": [
       "<strong id=\"equalsTransitivity\">equalsTransitivity:</strong> <a href=\"__pv_it\\035a666cf34adcaab3a4e671008eefd05f40bf790\\expr.ipynb\" target=\"_blank\"><img src=\"__pv_it\\035a666cf34adcaab3a4e671008eefd05f40bf790\\expr.png\" style=\"display:inline;vertical-align:middle;\" /></a><br>"
      ],
      "text/plain": [
       "equalsTransitivity: forall_{x, y, z | (x = y),(y = z)} (x = z)"
      ]
     },
     "execution_count": 3,
     "metadata": {},
     "output_type": "execute_result"
    }
   ],
   "source": [
    "equalsTransitivity = Forall((x, y, z), Equals(x, z), conditions=[Equals(x, y), Equals(y, z)])"
   ]
  },
  {
   "cell_type": "markdown",
   "metadata": {
    "deletable": true,
    "editable": true
   },
   "source": [
    "**Equality is reflexive (everything is equal to itself):**"
   ]
  },
  {
   "cell_type": "code",
   "execution_count": 4,
   "metadata": {
    "collapsed": false,
    "deletable": true,
    "editable": true
   },
   "outputs": [
    {
     "data": {
      "text/html": [
       "<strong id=\"equalsReflexivity\">equalsReflexivity:</strong> <a href=\"__pv_it\\e8ab2bd55e5bf868fc504a81374f6605cba561110\\expr.ipynb\" target=\"_blank\"><img src=\"__pv_it\\e8ab2bd55e5bf868fc504a81374f6605cba561110\\expr.png\" style=\"display:inline;vertical-align:middle;\" /></a><br>"
      ],
      "text/plain": [
       "equalsReflexivity: forall_{x} (x = x)"
      ]
     },
     "execution_count": 4,
     "metadata": {},
     "output_type": "execute_result"
    }
   ],
   "source": [
    "equalsReflexivity = Forall(x, Equals(x, x))"
   ]
  },
  {
   "cell_type": "markdown",
   "metadata": {
    "deletable": true,
    "editable": true
   },
   "source": [
    "**Equality is symmetric (it is a mutual relationship):**"
   ]
  },
  {
   "cell_type": "code",
   "execution_count": 5,
   "metadata": {
    "collapsed": false,
    "deletable": true,
    "editable": true
   },
   "outputs": [
    {
     "data": {
      "text/html": [
       "<strong id=\"equalsSymmetry\">equalsSymmetry:</strong> <a href=\"__pv_it\\0ae54de9efc1995837a2762e00a43a3429d0c64d0\\expr.ipynb\" target=\"_blank\"><img src=\"__pv_it\\0ae54de9efc1995837a2762e00a43a3429d0c64d0\\expr.png\" style=\"display:inline;vertical-align:middle;\" /></a><br>"
      ],
      "text/plain": [
       "equalsSymmetry: forall_{x, y} ((y = x) = (x = y))"
      ]
     },
     "execution_count": 5,
     "metadata": {},
     "output_type": "execute_result"
    }
   ],
   "source": [
    "equalsSymmetry = Forall((x, y), Equals(Equals(y, x), Equals(x, y)))"
   ]
  },
  {
   "cell_type": "markdown",
   "metadata": {
    "deletable": true,
    "editable": true
   },
   "source": [
    "**$\\neq$ is defined as the negation of $=$:**"
   ]
  },
  {
   "cell_type": "code",
   "execution_count": 6,
   "metadata": {
    "collapsed": false,
    "deletable": true,
    "editable": true
   },
   "outputs": [
    {
     "data": {
      "text/html": [
       "<strong id=\"notEqualsDef\">notEqualsDef:</strong> <a href=\"__pv_it\\fac45f699b77d323cb425b36ddc83aa313405c830\\expr.ipynb\" target=\"_blank\"><img src=\"__pv_it\\fac45f699b77d323cb425b36ddc83aa313405c830\\expr.png\" style=\"display:inline;vertical-align:middle;\" /></a><br>"
      ],
      "text/plain": [
       "notEqualsDef: forall_{x, y} ((x != y) = not(x = y))"
      ]
     },
     "execution_count": 6,
     "metadata": {},
     "output_type": "execute_result"
    }
   ],
   "source": [
    "notEqualsDef = Forall((x, y), Equals(NotEquals(x, y), Not(Equals(x, y))))"
   ]
  },
  {
   "cell_type": "markdown",
   "metadata": {
    "deletable": true,
    "editable": true
   },
   "source": [
    "**When two things are equal, one may be substituted the other within any expression:**"
   ]
  },
  {
   "cell_type": "code",
   "execution_count": 7,
   "metadata": {
    "collapsed": false,
    "deletable": true,
    "editable": true
   },
   "outputs": [
    {
     "data": {
      "text/html": [
       "<strong id=\"substitution\">substitution:</strong> <a href=\"__pv_it\\62300a7f16d8d724dedf5116e83a23b0c29e12e00\\expr.ipynb\" target=\"_blank\"><img src=\"__pv_it\\62300a7f16d8d724dedf5116e83a23b0c29e12e00\\expr.png\" style=\"display:inline;vertical-align:middle;\" /></a><br>"
      ],
      "text/plain": [
       "substitution: forall_{f, x, y | (x = y)} (f(x) = f(y))"
      ]
     },
     "execution_count": 7,
     "metadata": {},
     "output_type": "execute_result"
    }
   ],
   "source": [
    "substitution = Forall((f, x, y), Equals(fx, fy), conditions=Equals(x, y))"
   ]
  },
  {
   "cell_type": "markdown",
   "metadata": {
    "deletable": true,
    "editable": true
   },
   "source": [
    "**We can substitute the mapping within a `Lambda` map if the mapping is the same for all instances of the parameters:**"
   ]
  },
  {
   "cell_type": "code",
   "execution_count": 8,
   "metadata": {
    "collapsed": false,
    "deletable": true,
    "editable": true
   },
   "outputs": [
    {
     "data": {
      "text/html": [
       "<strong id=\"mappingSubstitution\">mappingSubstitution:</strong> <a href=\"__pv_it\\7bad4466146e690b395bec37ab33b237abb894900\\expr.ipynb\" target=\"_blank\"><img src=\"__pv_it\\7bad4466146e690b395bec37ab33b237abb894900\\expr.png\" style=\"display:inline;vertical-align:middle;\" /></a><br>"
      ],
      "text/plain": [
       "mappingSubstitution: forall_{f, g} ([forall_{x_{*}} (f( ..,x_{*},.. ) = g( ..,x_{*},.. ))] => ([x_{*} -> f( ..,x_{*},.. )] = [x_{*} -> g( ..,x_{*},.. )]))"
      ]
     },
     "execution_count": 8,
     "metadata": {},
     "output_type": "execute_result"
    }
   ],
   "source": [
    "mappingSubstitution = Forall((f, g), Implies(Forall(xMulti, Equals(fxEtc, gxEtc)),\n",
    "                                             Equals(Lambda(xMulti, fxEtc),\n",
    "                                                    Lambda(xMulti, gxEtc))))"
   ]
  },
  {
   "cell_type": "markdown",
   "metadata": {
    "deletable": true,
    "editable": true
   },
   "source": [
    "**We also need a special rule for substitution within an `OperationOverInstances` (e.g., $\\forall$, $\\exists$, $\\sum$, $\\prod$) to limit the equality requirement to just the relevant domain and conditions:**"
   ]
  },
  {
   "cell_type": "code",
   "execution_count": 9,
   "metadata": {
    "collapsed": false,
    "deletable": true,
    "editable": true
   },
   "outputs": [
    {
     "data": {
      "text/html": [
       "<strong id=\"instanceSubstitution\">instanceSubstitution:</strong> <a href=\"__pv_it\\ca8b6dc60d81473309b531b7c734f408370ecd650\\expr.ipynb\" target=\"_blank\"><img src=\"__pv_it\\ca8b6dc60d81473309b531b7c734f408370ecd650\\expr.png\" style=\"display:inline;vertical-align:middle;\" /></a><br>"
      ],
      "text/plain": [
       "instanceSubstitution: forall_{Upsilon, Q_{#}, f, g, S} ([forall_{x_{*} in S |  ..,Q_{#}( ..,x_{*},.. ),.. } (f( ..,x_{*},.. ) = g( ..,x_{*},.. ))] => ([Upsilon_{y_{*} in S |  ..,Q_{#}( ..,y_{*},.. ),.. } f( ..,y_{*},.. )] = [Upsilon_{z_{*} in S |  ..,Q_{#}( ..,z_{*},.. ),.. } g( ..,z_{*},.. )]))"
      ]
     },
     "execution_count": 9,
     "metadata": {},
     "output_type": "execute_result"
    }
   ],
   "source": [
    "instanceSubstitution = Forall((Upsilon, Qmulti, f, g, S), \n",
    "                              Implies(Forall(xMulti, Equals(fxEtc, gxEtc), domain=S, conditions=etc_QxEtc),\n",
    "                                      Equals(OperationOverInstances(Upsilon, yMulti, fyEtc, domain=S, conditions=etc_QyEtc),\n",
    "                                             OperationOverInstances(Upsilon, zMulti, gzEtc, domain=S, conditions=etc_QzEtc))))"
   ]
  },
  {
   "cell_type": "markdown",
   "metadata": {
    "deletable": true,
    "editable": true
   },
   "source": [
    "**We need another rule for substitution within an `OperationOverInstances` (e.g., $\\forall$, $\\exists$) when there is no explicit domain (just conditions):**"
   ]
  },
  {
   "cell_type": "code",
   "execution_count": 10,
   "metadata": {
    "collapsed": false,
    "deletable": true,
    "editable": true
   },
   "outputs": [
    {
     "data": {
      "text/html": [
       "<strong id=\"noDomainInstanceSubstitution\">noDomainInstanceSubstitution:</strong> <a href=\"__pv_it\\782a32e0efe424359716e867b27f2e7a1730d1800\\expr.ipynb\" target=\"_blank\"><img src=\"__pv_it\\782a32e0efe424359716e867b27f2e7a1730d1800\\expr.png\" style=\"display:inline;vertical-align:middle;\" /></a><br>"
      ],
      "text/plain": [
       "noDomainInstanceSubstitution: forall_{Upsilon, Q_{#}, f, g} ([forall_{x_{*} |  ..,Q_{#}( ..,x_{*},.. ),.. } (f( ..,x_{*},.. ) = g( ..,x_{*},.. ))] => ([Upsilon_{y_{*} |  ..,Q_{#}( ..,y_{*},.. ),.. } f( ..,y_{*},.. )] = [Upsilon_{z_{*} |  ..,Q_{#}( ..,z_{*},.. ),.. } g( ..,z_{*},.. )]))"
      ]
     },
     "execution_count": 10,
     "metadata": {},
     "output_type": "execute_result"
    }
   ],
   "source": [
    "noDomainInstanceSubstitution = Forall((Upsilon, Qmulti, f, g), \n",
    "                                      Implies(Forall(xMulti, Equals(fxEtc, gxEtc), conditions=etc_QxEtc),\n",
    "                                              Equals(OperationOverInstances(Upsilon, yMulti, fyEtc, conditions=etc_QyEtc),\n",
    "                                                     OperationOverInstances(Upsilon, zMulti, gzEtc, conditions=etc_QzEtc))))"
   ]
  },
  {
   "cell_type": "code",
   "execution_count": 11,
   "metadata": {
    "collapsed": false,
    "deletable": true,
    "editable": true
   },
   "outputs": [
    {
     "name": "stdout",
     "output_type": "stream",
     "text": [
      "Axioms may be imported from autogenerated _axioms_.py\n"
     ]
    }
   ],
   "source": [
    "%end_axioms"
   ]
  },
  {
   "cell_type": "code",
   "execution_count": 12,
   "metadata": {
    "collapsed": true,
    "deletable": true,
    "editable": true
   },
   "outputs": [],
   "source": []
  }
 ],
 "metadata": {
  "kernelspec": {
   "display_name": "Python 2",
   "language": "python",
   "name": "python2"
  },
  "language_info": {
   "codemirror_mode": {
    "name": "ipython",
    "version": 2
   },
   "file_extension": ".py",
   "mimetype": "text/x-python",
   "name": "python",
   "nbconvert_exporter": "python",
   "pygments_lexer": "ipython2",
   "version": "2.7.11"
  }
 },
 "nbformat": 4,
 "nbformat_minor": 0
}
