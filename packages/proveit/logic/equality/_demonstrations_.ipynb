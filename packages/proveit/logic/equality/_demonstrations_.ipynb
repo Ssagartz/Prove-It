{
 "cells": [
  {
   "cell_type": "markdown",
   "metadata": {
    "deletable": true,
    "editable": true
   },
   "source": [
    "Demonstrations for context <a class=\"ProveItLink\" href=\"_context_.ipynb\">proveit.logic.equality</a>\n",
    "========"
   ]
  },
  {
   "cell_type": "code",
   "execution_count": 1,
   "metadata": {
    "collapsed": true,
    "deletable": true,
    "editable": true
   },
   "outputs": [],
   "source": [
    "import proveit\n",
    "%begin demonstrations"
   ]
  },
  {
   "cell_type": "markdown",
   "metadata": {
    "deletable": true,
    "editable": true
   },
   "source": [
    "## Substitution"
   ]
  },
  {
   "cell_type": "markdown",
   "metadata": {
    "deletable": true,
    "editable": true
   },
   "source": [
    "Equality is a fundamental concept of logic.  When two mathematical operations are equal, then one may be substituted for the other.  This is rule is defined by the `substitution` axiom:"
   ]
  },
  {
   "cell_type": "code",
   "execution_count": 2,
   "metadata": {
    "collapsed": false,
    "deletable": true,
    "editable": true
   },
   "outputs": [
    {
     "data": {
      "text/html": [
       "<span style=\"font-size:20px;\"> &#x22A2;&nbsp;<a href=\"__pv_it\\62300a7f16d8d724dedf5116e83a23b0c29e12e00\\expr.ipynb\" target=\"_blank\"><img src=\"__pv_it\\62300a7f16d8d724dedf5116e83a23b0c29e12e00\\expr.png\" style=\"display:inline;vertical-align:middle;\" /></a></span>"
      ],
      "text/plain": [
       "|= forall_{f, x, y | (x = y)} (f(x) = f(y))"
      ]
     },
     "execution_count": 2,
     "metadata": {},
     "output_type": "execute_result"
    }
   ],
   "source": [
    "from proveit.logic.equality._axioms_ import substitution\n",
    "from proveit._common_ import a, b, c, d, x, y, z, fx # we'll use these later\n",
    "substitution"
   ]
  },
  {
   "cell_type": "markdown",
   "metadata": {
    "deletable": true,
    "editable": true
   },
   "source": [
    "The English translation of this axiom is: for any function $f$ and any $x, y$ such that $x=y$, $f(x) = f(y)$.  In other words, we may substitute $y$ for $x$ in any function whenever $x=y$.  The equality of $x$ and $y$ transfers to an equality between $f(x)$ and $f(y)$.  This is fundamental to the meaning of equality regardless of what $f$ does (as long as it can act on a single argument).  We may specialize this axiom using any operation for $f$.  For example,"
   ]
  },
  {
   "cell_type": "code",
   "execution_count": 3,
   "metadata": {
    "collapsed": false,
    "deletable": true,
    "editable": true
   },
   "outputs": [
    {
     "data": {
      "text/html": [
       "<span style=\"font-size:20px;\"><a href=\"__pv_it\\3c581f9b9a55a4d345eb7b057c46a0640b00c8100\\expr.ipynb\" target=\"_blank\"><img src=\"__pv_it\\3c581f9b9a55a4d345eb7b057c46a0640b00c8100\\expr.png\" style=\"display:inline;vertical-align:middle;\" /></a> &#x22A2;&nbsp;<a href=\"__pv_it\\cd037227784d646fbc4fdc4e521748c33beade4e0\\expr.ipynb\" target=\"_blank\"><img src=\"__pv_it\\cd037227784d646fbc4fdc4e521748c33beade4e0\\expr.png\" style=\"display:inline;vertical-align:middle;\" /></a></span>"
      ],
      "text/plain": [
       "{(a = b)} |= not(a) = not(b)"
      ]
     },
     "execution_count": 3,
     "metadata": {},
     "output_type": "execute_result"
    }
   ],
   "source": [
    "from proveit.logic import Not, Equals\n",
    "substitution.specialize({fx:Not(x), x:a, y:b}, assumptions=[Equals(a, b)])"
   ]
  },
  {
   "cell_type": "markdown",
   "metadata": {
    "deletable": true,
    "editable": true
   },
   "source": [
    "There are more convenient ways to apply this substitution rule than manual specialization that was demonstrated in the previous input.  The `Equals` class has the `substitution`, `lhsSubstitute` and `rhsSubstitute` methods for conveniently applying substitution and its variants, as we will demonstrate below.  Each of these methods takes a `lambdaMap` argument to provide a context for the substitution -- what is being substituted and where.  A `lambdaMap` can be a **Lambda** expression or an object with a `lambdaMap` method that returns a **Lambda** expression.  The `proveit.lambda_map` package contains convenient methods/classes for constructing such objects.  As a further convenience, one may also supply a non-**Lambda** **Expression** and the default lambda mapping will be a global replacement.  We demonstrate the substitution methods and `proveit.lambda_map` below with examples for the different ways of specifying a lambda mapping."
   ]
  },
  {
   "cell_type": "code",
   "execution_count": 4,
   "metadata": {
    "collapsed": false,
    "deletable": true,
    "editable": true
   },
   "outputs": [
    {
     "data": {
      "text/html": [
       "<strong id=\"expr\">expr:</strong> <a href=\"__pv_it\\3510248563ec9ccea7fbc4c29e2d4f39cb1dde330\\expr.ipynb\" target=\"_blank\"><img src=\"__pv_it\\3510248563ec9ccea7fbc4c29e2d4f39cb1dde330\\expr.png\" style=\"display:inline;vertical-align:middle;\" /></a><br>"
      ],
      "text/plain": [
       "expr: a = (b + fraction(c,d) + c^{d})"
      ]
     },
     "execution_count": 4,
     "metadata": {},
     "output_type": "execute_result"
    }
   ],
   "source": [
    "from proveit.lambda_map import globalRepl, SubExprRepl\n",
    "from proveit.number import Add, Fraction, Exp\n",
    "expr = Equals(a, Add(b, Fraction(c, d), Exp(c, d)))          "
   ]
  },
  {
   "cell_type": "markdown",
   "metadata": {
    "deletable": true,
    "editable": true
   },
   "source": [
    "`proveit.lambda_map.globalRepl` is useful for creating a global replacement lambda map.  Below, we create a map for replacing every occurence of $d$ in `expr` with anything else:"
   ]
  },
  {
   "cell_type": "code",
   "execution_count": 5,
   "metadata": {
    "collapsed": false,
    "deletable": true,
    "editable": true
   },
   "outputs": [
    {
     "data": {
      "text/html": [
       "<strong id=\"gRepl\">gRepl:</strong> <a href=\"__pv_it\\92e853eed61bb49bf2438e89a0e8d6efa07f8af00\\expr.ipynb\" target=\"_blank\"><img src=\"__pv_it\\92e853eed61bb49bf2438e89a0e8d6efa07f8af00\\expr.png\" style=\"display:inline;vertical-align:middle;\" /></a><br>"
      ],
      "text/plain": [
       "gRepl: _X_ -> (a = (b + fraction(c,_X_) + c^{_X_}))"
      ]
     },
     "execution_count": 5,
     "metadata": {},
     "output_type": "execute_result"
    }
   ],
   "source": [
    "gRepl = globalRepl(expr, d)"
   ]
  },
  {
   "cell_type": "markdown",
   "metadata": {
    "deletable": true,
    "editable": true
   },
   "source": [
    "We now use this lambda map to replace occurences of $d$ in `expr` with $y$:"
   ]
  },
  {
   "cell_type": "code",
   "execution_count": 6,
   "metadata": {
    "collapsed": false,
    "deletable": true,
    "editable": true
   },
   "outputs": [
    {
     "data": {
      "text/html": [
       "<strong id=\"d_eq_y\">d_eq_y:</strong> <a href=\"__pv_it\\eb69f785b3a3445916e2a800bad9b2cf4cb3c0df0\\expr.ipynb\" target=\"_blank\"><img src=\"__pv_it\\eb69f785b3a3445916e2a800bad9b2cf4cb3c0df0\\expr.png\" style=\"display:inline;vertical-align:middle;\" /></a><br>"
      ],
      "text/plain": [
       "d_eq_y: d = y"
      ]
     },
     "execution_count": 6,
     "metadata": {},
     "output_type": "execute_result"
    }
   ],
   "source": [
    "d_eq_y = Equals(d, y)"
   ]
  },
  {
   "cell_type": "code",
   "execution_count": 7,
   "metadata": {
    "collapsed": false,
    "deletable": true,
    "editable": true
   },
   "outputs": [
    {
     "data": {
      "text/html": [
       "<span style=\"font-size:20px;\"><a href=\"__pv_it\\fb834f9269c5f7c580f22a2a581084d61eda9cdb0\\expr.ipynb\" target=\"_blank\"><img src=\"__pv_it\\fb834f9269c5f7c580f22a2a581084d61eda9cdb0\\expr.png\" style=\"display:inline;vertical-align:middle;\" /></a> &#x22A2;&nbsp;<a href=\"__pv_it\\e23ad5d7b9ac6766669d8acc56bbf26f853291d20\\expr.ipynb\" target=\"_blank\"><img src=\"__pv_it\\e23ad5d7b9ac6766669d8acc56bbf26f853291d20\\expr.png\" style=\"display:inline;vertical-align:middle;\" /></a></span>"
      ],
      "text/plain": [
       "{(d = y)} |= (a = (b + fraction(c,d) + c^{d})) = (a = (b + fraction(c,y) + c^{y}))"
      ]
     },
     "execution_count": 7,
     "metadata": {},
     "output_type": "execute_result"
    }
   ],
   "source": [
    "d_eq_y.substitution(gRepl, assumptions=[d_eq_y])"
   ]
  },
  {
   "cell_type": "markdown",
   "metadata": {
    "deletable": true,
    "editable": true
   },
   "source": [
    "Or we can take advantage of that a global replacement is performed by default when a non-**Lambda** expression is provided as the \"`lambdaMap`\"."
   ]
  },
  {
   "cell_type": "code",
   "execution_count": 8,
   "metadata": {
    "collapsed": false,
    "deletable": true,
    "editable": true
   },
   "outputs": [
    {
     "data": {
      "text/html": [
       "<span style=\"font-size:20px;\"><a href=\"__pv_it\\fb834f9269c5f7c580f22a2a581084d61eda9cdb0\\expr.ipynb\" target=\"_blank\"><img src=\"__pv_it\\fb834f9269c5f7c580f22a2a581084d61eda9cdb0\\expr.png\" style=\"display:inline;vertical-align:middle;\" /></a> &#x22A2;&nbsp;<a href=\"__pv_it\\e23ad5d7b9ac6766669d8acc56bbf26f853291d20\\expr.ipynb\" target=\"_blank\"><img src=\"__pv_it\\e23ad5d7b9ac6766669d8acc56bbf26f853291d20\\expr.png\" style=\"display:inline;vertical-align:middle;\" /></a></span>"
      ],
      "text/plain": [
       "{(d = y)} |= (a = (b + fraction(c,d) + c^{d})) = (a = (b + fraction(c,y) + c^{y}))"
      ]
     },
     "execution_count": 8,
     "metadata": {},
     "output_type": "execute_result"
    }
   ],
   "source": [
    "d_eq_y.substitution(expr, assumptions=[d_eq_y])"
   ]
  },
  {
   "cell_type": "markdown",
   "metadata": {
    "deletable": true,
    "editable": true
   },
   "source": [
    "Either way, the generated proof is the same:"
   ]
  },
  {
   "cell_type": "code",
   "execution_count": 9,
   "metadata": {
    "collapsed": false,
    "deletable": true,
    "editable": true
   },
   "outputs": [
    {
     "data": {
      "text/html": [
       "<table><tr><th>&nbsp;</th><th>step type</th><th>requirements</th><th>statement</th></tr>\n",
       "<tr><td>0</td><td>specialization</td><td>1, 2</td><td><span style=\"font-size:20px;\"><a href=\"__pv_it\\fb834f9269c5f7c580f22a2a581084d61eda9cdb0\\expr.ipynb\" target=\"_blank\"><img src=\"__pv_it\\fb834f9269c5f7c580f22a2a581084d61eda9cdb0\\expr.png\" style=\"display:inline;vertical-align:middle;\" /></a> &#x22A2;&nbsp;<a href=\"__pv_it\\e23ad5d7b9ac6766669d8acc56bbf26f853291d20\\expr.ipynb\" target=\"_blank\"><img src=\"__pv_it\\e23ad5d7b9ac6766669d8acc56bbf26f853291d20\\expr.png\" style=\"display:inline;vertical-align:middle;\" /></a></span></td></tr>\n",
       "<tr><td>&nbsp;</td><td colspan=4 style=\"text-align:left\"><span style=\"font-size:20px;\"><a href=\"__pv_it\\00dbe13707eed0569a81242237389239f5b5bec70\\expr.ipynb\" target=\"_blank\"><img src=\"__pv_it\\00dbe13707eed0569a81242237389239f5b5bec70\\expr.png\" style=\"display:inline;vertical-align:middle;\" /></a>, <a href=\"__pv_it\\c5cc36058fe275499af7a2bd6fe102c3eb7bc5ca0\\expr.ipynb\" target=\"_blank\"><img src=\"__pv_it\\c5cc36058fe275499af7a2bd6fe102c3eb7bc5ca0\\expr.png\" style=\"display:inline;vertical-align:middle;\" /></a>, <a href=\"__pv_it\\f7cf9377673a22ca74102be8805e979f8ead65c60\\expr.ipynb\" target=\"_blank\"><img src=\"__pv_it\\f7cf9377673a22ca74102be8805e979f8ead65c60\\expr.png\" style=\"display:inline;vertical-align:middle;\" /></a></span></td></tr><tr><td>1</td><td>axiom</td><td></td><td><span style=\"font-size:20px;\"> &#x22A2;&nbsp;<a href=\"__pv_it\\62300a7f16d8d724dedf5116e83a23b0c29e12e00\\expr.ipynb\" target=\"_blank\"><img src=\"__pv_it\\62300a7f16d8d724dedf5116e83a23b0c29e12e00\\expr.png\" style=\"display:inline;vertical-align:middle;\" /></a></span></td></tr>\n",
       "<tr><td>&nbsp;</td><td colspan=4 style-\"text-align:left\"><a href=\"_axioms_.ipynb#substitution\" target=\"_blank\">proveit.logic.equality.substitution</a></td></tr><tr><td>2</td><td>assumption</td><td></td><td><span style=\"font-size:20px;\"><a href=\"__pv_it\\fb834f9269c5f7c580f22a2a581084d61eda9cdb0\\expr.ipynb\" target=\"_blank\"><img src=\"__pv_it\\fb834f9269c5f7c580f22a2a581084d61eda9cdb0\\expr.png\" style=\"display:inline;vertical-align:middle;\" /></a> &#x22A2;&nbsp;<a href=\"__pv_it\\eb69f785b3a3445916e2a800bad9b2cf4cb3c0df0\\expr.ipynb\" target=\"_blank\"><img src=\"__pv_it\\eb69f785b3a3445916e2a800bad9b2cf4cb3c0df0\\expr.png\" style=\"display:inline;vertical-align:middle;\" /></a></span></td></tr>\n"
      ],
      "text/plain": [
       "<proveit._core_.proof.Specialization instance at 0x0000000006733348>"
      ]
     },
     "execution_count": 9,
     "metadata": {},
     "output_type": "execute_result"
    }
   ],
   "source": [
    "d_eq_y.substitution(expr, assumptions=[d_eq_y]).proof()"
   ]
  },
  {
   "cell_type": "markdown",
   "metadata": {
    "deletable": true,
    "editable": true
   },
   "source": [
    "If we want to perform substitution for a specific sub-expression, and not necessarily a global replacement, the `proveit.lambda_map.SubExprRepl` class is extremely convenient.  It uses some Python tricks via implementing the `__getitem__` and `__getattr__` methods.  First, you create the SubExprRepl object by providing a \"master\" expression:"
   ]
  },
  {
   "cell_type": "code",
   "execution_count": 10,
   "metadata": {
    "collapsed": false,
    "deletable": true,
    "editable": true
   },
   "outputs": [
    {
     "data": {
      "text/html": [
       "<strong id=\"subExprRepl\">subExprRepl:</strong> <a href=\"__pv_it\\13bb395a35cc3229d2e79032bb1975c6e3907ed20\\expr.ipynb\" target=\"_blank\"><img src=\"__pv_it\\13bb395a35cc3229d2e79032bb1975c6e3907ed20\\expr.png\" style=\"display:inline;vertical-align:middle;\" /></a><br>"
      ],
      "text/plain": [
       "subExprRepl: <proveit.lambda_map.sub_expr_repl.SubExprRepl instance at 0x000000000673F188>"
      ]
     },
     "execution_count": 10,
     "metadata": {},
     "output_type": "execute_result"
    }
   ],
   "source": [
    "subExprRepl = SubExprRepl(expr)"
   ]
  },
  {
   "cell_type": "markdown",
   "metadata": {
    "deletable": true,
    "editable": true
   },
   "source": [
    "The `SubExprMap` object displays itself with two important pieces of information: the lambda map that it represents and the sub-expression of the master expression that would be replaced by this lambda map.  The point is that we will be able to \"dig\" in to sub-expressions of the master expression via accessing sub-expression attributes.  For example, we next will \"dig\" into the \"right hand side\" (`rhs`) of the master expression: "
   ]
  },
  {
   "cell_type": "code",
   "execution_count": 11,
   "metadata": {
    "collapsed": false,
    "deletable": true,
    "editable": true
   },
   "outputs": [
    {
     "data": {
      "text/html": [
       "<strong id=\"subExprRepl\">subExprRepl:</strong> <a href=\"__pv_it\\0b1ad323b980c43f9e142a0bd605fb78995b962f0\\expr.ipynb\" target=\"_blank\"><img src=\"__pv_it\\0b1ad323b980c43f9e142a0bd605fb78995b962f0\\expr.png\" style=\"display:inline;vertical-align:middle;\" /></a><br>"
      ],
      "text/plain": [
       "subExprRepl: <proveit.lambda_map.sub_expr_repl.SubExprRepl instance at 0x000000000673FE88>"
      ]
     },
     "execution_count": 11,
     "metadata": {},
     "output_type": "execute_result"
    }
   ],
   "source": [
    "subExprRepl = subExprRepl.rhs"
   ]
  },
  {
   "cell_type": "markdown",
   "metadata": {
    "deletable": true,
    "editable": true
   },
   "source": [
    "By accessing the `rhs` attribute, we created a new `SubExprRepl` object that has the same master expression as the original but has a new current sub-expression.  Note that the `SubExprRepl` does not know anything about the `rhs` attribute itself; it is relying on the fact that the previous sub-expression has this attribute.  The `SubExprRepl` class also has tricks for getting an sub-expression with an index (or key):"
   ]
  },
  {
   "cell_type": "code",
   "execution_count": 12,
   "metadata": {
    "collapsed": false,
    "deletable": true,
    "editable": true
   },
   "outputs": [
    {
     "data": {
      "text/html": [
       "<strong id=\"subExprRepl\">subExprRepl:</strong> <a href=\"__pv_it\\555e2ce98bb75833f7caf17dd2e3cbdd567c3fd30\\expr.ipynb\" target=\"_blank\"><img src=\"__pv_it\\555e2ce98bb75833f7caf17dd2e3cbdd567c3fd30\\expr.png\" style=\"display:inline;vertical-align:middle;\" /></a><br>"
      ],
      "text/plain": [
       "subExprRepl: <proveit.lambda_map.sub_expr_repl.SubExprRepl instance at 0x000000000673DB88>"
      ]
     },
     "execution_count": 12,
     "metadata": {},
     "output_type": "execute_result"
    }
   ],
   "source": [
    "subExprRepl = subExprRepl.operands[1]"
   ]
  },
  {
   "cell_type": "markdown",
   "metadata": {
    "deletable": true,
    "editable": true
   },
   "source": [
    "Now will \"dig\" down to the denominator of $\\frac{c}{d}$ and show how we use the `SubExprRepl` class to replace a particular occurence of $d$ rather than a global replacement:"
   ]
  },
  {
   "cell_type": "code",
   "execution_count": 13,
   "metadata": {
    "collapsed": false,
    "deletable": true,
    "editable": true
   },
   "outputs": [
    {
     "data": {
      "text/html": [
       "<strong id=\"subExprRepl\">subExprRepl:</strong> <a href=\"__pv_it\\bb4aa2a0713b369e1789615c47a854f5acbea5be0\\expr.ipynb\" target=\"_blank\"><img src=\"__pv_it\\bb4aa2a0713b369e1789615c47a854f5acbea5be0\\expr.png\" style=\"display:inline;vertical-align:middle;\" /></a><br>"
      ],
      "text/plain": [
       "subExprRepl: <proveit.lambda_map.sub_expr_repl.SubExprRepl instance at 0x00000000066503C8>"
      ]
     },
     "execution_count": 13,
     "metadata": {},
     "output_type": "execute_result"
    }
   ],
   "source": [
    "subExprRepl = subExprRepl.denominator"
   ]
  },
  {
   "cell_type": "code",
   "execution_count": 14,
   "metadata": {
    "collapsed": false,
    "deletable": true,
    "editable": true
   },
   "outputs": [
    {
     "data": {
      "text/html": [
       "<span style=\"font-size:20px;\"><a href=\"__pv_it\\fb834f9269c5f7c580f22a2a581084d61eda9cdb0\\expr.ipynb\" target=\"_blank\"><img src=\"__pv_it\\fb834f9269c5f7c580f22a2a581084d61eda9cdb0\\expr.png\" style=\"display:inline;vertical-align:middle;\" /></a> &#x22A2;&nbsp;<a href=\"__pv_it\\152112803c7ba1c7d9a2c4dac6d1041dfc782ec60\\expr.ipynb\" target=\"_blank\"><img src=\"__pv_it\\152112803c7ba1c7d9a2c4dac6d1041dfc782ec60\\expr.png\" style=\"display:inline;vertical-align:middle;\" /></a></span>"
      ],
      "text/plain": [
       "{(d = y)} |= (a = (b + fraction(c,d) + c^{d})) = (a = (b + fraction(c,y) + c^{d}))"
      ]
     },
     "execution_count": 14,
     "metadata": {},
     "output_type": "execute_result"
    }
   ],
   "source": [
    "d_eq_y.substitution(subExprRepl, assumptions=[d_eq_y])"
   ]
  },
  {
   "cell_type": "markdown",
   "metadata": {
    "deletable": true,
    "editable": true
   },
   "source": [
    "Let us demonstrate this technique again, replacing the other occurrence of $d$.  This time we do this more succinctly, without the extra pedogogial steps:"
   ]
  },
  {
   "cell_type": "code",
   "execution_count": 15,
   "metadata": {
    "collapsed": false,
    "deletable": true,
    "editable": true
   },
   "outputs": [
    {
     "data": {
      "text/html": [
       "<span style=\"font-size:20px;\"><a href=\"__pv_it\\fb834f9269c5f7c580f22a2a581084d61eda9cdb0\\expr.ipynb\" target=\"_blank\"><img src=\"__pv_it\\fb834f9269c5f7c580f22a2a581084d61eda9cdb0\\expr.png\" style=\"display:inline;vertical-align:middle;\" /></a> &#x22A2;&nbsp;<a href=\"__pv_it\\c4274036cd94b959b42183a35b51174d62c81de90\\expr.ipynb\" target=\"_blank\"><img src=\"__pv_it\\c4274036cd94b959b42183a35b51174d62c81de90\\expr.png\" style=\"display:inline;vertical-align:middle;\" /></a></span>"
      ],
      "text/plain": [
       "{(d = y)} |= (a = (b + fraction(c,d) + c^{d})) = (a = (b + fraction(c,d) + c^{y}))"
      ]
     },
     "execution_count": 15,
     "metadata": {},
     "output_type": "execute_result"
    }
   ],
   "source": [
    "d_eq_y.substitution(SubExprRepl(expr).rhs.operands[2].exponent, assumptions=[d_eq_y])"
   ]
  },
  {
   "cell_type": "markdown",
   "metadata": {
    "deletable": true,
    "editable": true
   },
   "source": [
    "The `substition` method, that we demonstrated above, is a direct application of the `substitution` axiom.  It proves the equality between some $f(x)$ and some $f(y)$.  We often will want to take a shortcut to perform a statement substitution in which we prove some $P(y)$ is true assuming that $P(x)$ is true and $P(x) = P(y)$.  For this, we have the `rhsSubstitute` and `lhsSubstitute` methods."
   ]
  },
  {
   "cell_type": "markdown",
   "metadata": {
    "deletable": true,
    "editable": true
   },
   "source": [
    "If the expression that we want to substitute in is on the right hand side of the `Equals` object playing the role of $x=y$, then we use `rhsSubstitute`: "
   ]
  },
  {
   "cell_type": "code",
   "execution_count": 16,
   "metadata": {
    "collapsed": false,
    "deletable": true,
    "editable": true
   },
   "outputs": [
    {
     "data": {
      "text/html": [
       "<span style=\"font-size:20px;\"><a href=\"__pv_it\\9f1c18028af6a0eab4c0ef3bf876b0f7b6e3c4d70\\expr.ipynb\" target=\"_blank\"><img src=\"__pv_it\\9f1c18028af6a0eab4c0ef3bf876b0f7b6e3c4d70\\expr.png\" style=\"display:inline;vertical-align:middle;\" /></a> &#x22A2;&nbsp;<a href=\"__pv_it\\665dc398525591668a52dc6872172e4f63b6b97a0\\expr.ipynb\" target=\"_blank\"><img src=\"__pv_it\\665dc398525591668a52dc6872172e4f63b6b97a0\\expr.png\" style=\"display:inline;vertical-align:middle;\" /></a></span>"
      ],
      "text/plain": [
       "{(d = y),(a = (b + fraction(c,d) + c^{d}))} |= a = (b + fraction(c,y) + c^{y})"
      ]
     },
     "execution_count": 16,
     "metadata": {},
     "output_type": "execute_result"
    }
   ],
   "source": [
    "d_eq_y.rhsSubstitute(gRepl, assumptions=[d_eq_y,expr])"
   ]
  },
  {
   "cell_type": "markdown",
   "metadata": {
    "deletable": true,
    "editable": true
   },
   "source": [
    "We can also take advantage of the global replacement default and provide a non-**Lambda** **Expression**."
   ]
  },
  {
   "cell_type": "code",
   "execution_count": 17,
   "metadata": {
    "collapsed": false,
    "deletable": true,
    "editable": true
   },
   "outputs": [
    {
     "data": {
      "text/html": [
       "<span style=\"font-size:20px;\"><a href=\"__pv_it\\9f1c18028af6a0eab4c0ef3bf876b0f7b6e3c4d70\\expr.ipynb\" target=\"_blank\"><img src=\"__pv_it\\9f1c18028af6a0eab4c0ef3bf876b0f7b6e3c4d70\\expr.png\" style=\"display:inline;vertical-align:middle;\" /></a> &#x22A2;&nbsp;<a href=\"__pv_it\\665dc398525591668a52dc6872172e4f63b6b97a0\\expr.ipynb\" target=\"_blank\"><img src=\"__pv_it\\665dc398525591668a52dc6872172e4f63b6b97a0\\expr.png\" style=\"display:inline;vertical-align:middle;\" /></a></span>"
      ],
      "text/plain": [
       "{(d = y),(a = (b + fraction(c,d) + c^{d}))} |= a = (b + fraction(c,y) + c^{y})"
      ]
     },
     "execution_count": 17,
     "metadata": {},
     "output_type": "execute_result"
    }
   ],
   "source": [
    "d_eq_y.rhsSubstitute(expr, assumptions=[d_eq_y,expr])"
   ]
  },
  {
   "cell_type": "markdown",
   "metadata": {
    "deletable": true,
    "editable": true
   },
   "source": [
    "If the expression that we want to substitute in is on the left hand side of the `Equals` object playing the role of $x=y$, then we use `lhsSubstitute`: "
   ]
  },
  {
   "cell_type": "code",
   "execution_count": 18,
   "metadata": {
    "collapsed": false,
    "deletable": true,
    "editable": true
   },
   "outputs": [
    {
     "data": {
      "text/html": [
       "<strong id=\"y_eq_d\">y_eq_d:</strong> <a href=\"__pv_it\\643898829966284e3c865f86676fe1a12fd74dca0\\expr.ipynb\" target=\"_blank\"><img src=\"__pv_it\\643898829966284e3c865f86676fe1a12fd74dca0\\expr.png\" style=\"display:inline;vertical-align:middle;\" /></a><br>"
      ],
      "text/plain": [
       "y_eq_d: y = d"
      ]
     },
     "execution_count": 18,
     "metadata": {},
     "output_type": "execute_result"
    }
   ],
   "source": [
    "y_eq_d = Equals(y, d)"
   ]
  },
  {
   "cell_type": "code",
   "execution_count": 19,
   "metadata": {
    "collapsed": false,
    "deletable": true,
    "editable": true,
    "scrolled": true
   },
   "outputs": [
    {
     "data": {
      "text/html": [
       "<span style=\"font-size:20px;\"><a href=\"__pv_it\\077c907209f7b9db734792799cdf456315497a590\\expr.ipynb\" target=\"_blank\"><img src=\"__pv_it\\077c907209f7b9db734792799cdf456315497a590\\expr.png\" style=\"display:inline;vertical-align:middle;\" /></a> &#x22A2;&nbsp;<a href=\"__pv_it\\665dc398525591668a52dc6872172e4f63b6b97a0\\expr.ipynb\" target=\"_blank\"><img src=\"__pv_it\\665dc398525591668a52dc6872172e4f63b6b97a0\\expr.png\" style=\"display:inline;vertical-align:middle;\" /></a></span>"
      ],
      "text/plain": [
       "{(y = d),(a = (b + fraction(c,d) + c^{d}))} |= a = (b + fraction(c,y) + c^{y})"
      ]
     },
     "execution_count": 19,
     "metadata": {},
     "output_type": "execute_result"
    }
   ],
   "source": [
    "y_eq_d.lhsSubstitute(gRepl, assumptions=[y_eq_d,expr])"
   ]
  },
  {
   "cell_type": "markdown",
   "metadata": {
    "deletable": true,
    "editable": true
   },
   "source": [
    "Again, we can provide a non-**Lambda** **Expression** to do a simple global replacement."
   ]
  },
  {
   "cell_type": "code",
   "execution_count": 20,
   "metadata": {
    "collapsed": false,
    "deletable": true,
    "editable": true
   },
   "outputs": [
    {
     "data": {
      "text/html": [
       "<span style=\"font-size:20px;\"><a href=\"__pv_it\\077c907209f7b9db734792799cdf456315497a590\\expr.ipynb\" target=\"_blank\"><img src=\"__pv_it\\077c907209f7b9db734792799cdf456315497a590\\expr.png\" style=\"display:inline;vertical-align:middle;\" /></a> &#x22A2;&nbsp;<a href=\"__pv_it\\665dc398525591668a52dc6872172e4f63b6b97a0\\expr.ipynb\" target=\"_blank\"><img src=\"__pv_it\\665dc398525591668a52dc6872172e4f63b6b97a0\\expr.png\" style=\"display:inline;vertical-align:middle;\" /></a></span>"
      ],
      "text/plain": [
       "{(y = d),(a = (b + fraction(c,d) + c^{d}))} |= a = (b + fraction(c,y) + c^{y})"
      ]
     },
     "execution_count": 20,
     "metadata": {},
     "output_type": "execute_result"
    }
   ],
   "source": [
    "y_eq_d.lhsSubstitute(expr, assumptions=[y_eq_d,expr])"
   ]
  },
  {
   "cell_type": "markdown",
   "metadata": {
    "deletable": true,
    "editable": true
   },
   "source": [
    "The proof uses a theorem the relies upon the `substitution` axiom, rather than using the `substition` axiom directly:"
   ]
  },
  {
   "cell_type": "code",
   "execution_count": 21,
   "metadata": {
    "collapsed": false,
    "deletable": true,
    "editable": true
   },
   "outputs": [
    {
     "data": {
      "text/html": [
       "<table><tr><th>&nbsp;</th><th>step type</th><th>requirements</th><th>statement</th></tr>\n",
       "<tr><td>0</td><td>specialization</td><td>1, 2, 3</td><td><span style=\"font-size:20px;\"><a href=\"__pv_it\\077c907209f7b9db734792799cdf456315497a590\\expr.ipynb\" target=\"_blank\"><img src=\"__pv_it\\077c907209f7b9db734792799cdf456315497a590\\expr.png\" style=\"display:inline;vertical-align:middle;\" /></a> &#x22A2;&nbsp;<a href=\"__pv_it\\665dc398525591668a52dc6872172e4f63b6b97a0\\expr.ipynb\" target=\"_blank\"><img src=\"__pv_it\\665dc398525591668a52dc6872172e4f63b6b97a0\\expr.png\" style=\"display:inline;vertical-align:middle;\" /></a></span></td></tr>\n",
       "<tr><td>&nbsp;</td><td colspan=4 style=\"text-align:left\"><span style=\"font-size:20px;\"><a href=\"__pv_it\\eb91377c4a4296a0e9bbe7e43211e81cf83d1eb20\\expr.ipynb\" target=\"_blank\"><img src=\"__pv_it\\eb91377c4a4296a0e9bbe7e43211e81cf83d1eb20\\expr.png\" style=\"display:inline;vertical-align:middle;\" /></a>, <a href=\"__pv_it\\012ddcdd3e885f52a92b353d938affd450c6d8630\\expr.ipynb\" target=\"_blank\"><img src=\"__pv_it\\012ddcdd3e885f52a92b353d938affd450c6d8630\\expr.png\" style=\"display:inline;vertical-align:middle;\" /></a>, <a href=\"__pv_it\\c5b1db7b0f21081e2f61120ee73d7aa8ca7d698f0\\expr.ipynb\" target=\"_blank\"><img src=\"__pv_it\\c5b1db7b0f21081e2f61120ee73d7aa8ca7d698f0\\expr.png\" style=\"display:inline;vertical-align:middle;\" /></a></span></td></tr><tr><td>1</td><td>theorem</td><td></td><td><span style=\"font-size:20px;\"> &#x22A2;&nbsp;<a href=\"__pv_it\\ddf6dd80e23d6ec126eeff291ac5fb9fcc4663370\\expr.ipynb\" target=\"_blank\"><img src=\"__pv_it\\ddf6dd80e23d6ec126eeff291ac5fb9fcc4663370\\expr.png\" style=\"display:inline;vertical-align:middle;\" /></a></span></td></tr>\n",
       "<tr><td>&nbsp;</td><td colspan=4 style-\"text-align:left\"><a href=\"_proofs_\\lhsSubstitute.ipynb\" target=\"_blank\">proveit.logic.equality.lhsSubstitute</a></td></tr><tr><td>2</td><td>assumption</td><td></td><td><span style=\"font-size:20px;\"><a href=\"__pv_it\\dda97053047234057cf303537046b3e8ecb2a0080\\expr.ipynb\" target=\"_blank\"><img src=\"__pv_it\\dda97053047234057cf303537046b3e8ecb2a0080\\expr.png\" style=\"display:inline;vertical-align:middle;\" /></a> &#x22A2;&nbsp;<a href=\"__pv_it\\3510248563ec9ccea7fbc4c29e2d4f39cb1dde330\\expr.ipynb\" target=\"_blank\"><img src=\"__pv_it\\3510248563ec9ccea7fbc4c29e2d4f39cb1dde330\\expr.png\" style=\"display:inline;vertical-align:middle;\" /></a></span></td></tr>\n",
       "<tr><td>3</td><td>assumption</td><td></td><td><span style=\"font-size:20px;\"><a href=\"__pv_it\\ce541a26d45044598a4768a22d46e3e7a3c8c29d0\\expr.ipynb\" target=\"_blank\"><img src=\"__pv_it\\ce541a26d45044598a4768a22d46e3e7a3c8c29d0\\expr.png\" style=\"display:inline;vertical-align:middle;\" /></a> &#x22A2;&nbsp;<a href=\"__pv_it\\643898829966284e3c865f86676fe1a12fd74dca0\\expr.ipynb\" target=\"_blank\"><img src=\"__pv_it\\643898829966284e3c865f86676fe1a12fd74dca0\\expr.png\" style=\"display:inline;vertical-align:middle;\" /></a></span></td></tr>\n"
      ],
      "text/plain": [
       "<proveit._core_.proof.Specialization instance at 0x000000000682F408>"
      ]
     },
     "execution_count": 21,
     "metadata": {},
     "output_type": "execute_result"
    }
   ],
   "source": [
    "y_eq_d.lhsSubstitute(expr, assumptions=[y_eq_d,expr]).proof()"
   ]
  },
  {
   "cell_type": "markdown",
   "metadata": {
    "deletable": true,
    "editable": true
   },
   "source": [
    "## Reflexivity, symmetry, and transitivity"
   ]
  },
  {
   "cell_type": "markdown",
   "metadata": {
    "deletable": true,
    "editable": true
   },
   "source": [
    "Reflexivity, symmetry, and transitivity are also fundamental properties of equality, in addition to the ability to perform substitution.  Reflexivity is the fact that any mathematical object is equal to itself.  Symmetry is the fact that $x = y$ and $y = x$ are equivalent (either both of these are true or both of these false).  Transitivity is the ability to derive $x=z$ from $x=y$ and $y=z$.  These are all axioms."
   ]
  },
  {
   "cell_type": "code",
   "execution_count": 22,
   "metadata": {
    "collapsed": false,
    "deletable": true,
    "editable": true
   },
   "outputs": [],
   "source": [
    "from proveit.logic.equality._axioms_ import equalsReflexivity, equalsSymmetry, equalsTransitivity"
   ]
  },
  {
   "cell_type": "code",
   "execution_count": 23,
   "metadata": {
    "collapsed": false,
    "deletable": true,
    "editable": true
   },
   "outputs": [
    {
     "data": {
      "text/html": [
       "<span style=\"font-size:20px;\"> &#x22A2;&nbsp;<a href=\"__pv_it\\e8ab2bd55e5bf868fc504a81374f6605cba561110\\expr.ipynb\" target=\"_blank\"><img src=\"__pv_it\\e8ab2bd55e5bf868fc504a81374f6605cba561110\\expr.png\" style=\"display:inline;vertical-align:middle;\" /></a></span>"
      ],
      "text/plain": [
       "|= forall_{x} (x = x)"
      ]
     },
     "execution_count": 23,
     "metadata": {},
     "output_type": "execute_result"
    }
   ],
   "source": [
    "equalsReflexivity"
   ]
  },
  {
   "cell_type": "code",
   "execution_count": 24,
   "metadata": {
    "collapsed": false,
    "deletable": true,
    "editable": true
   },
   "outputs": [
    {
     "data": {
      "text/html": [
       "<span style=\"font-size:20px;\"> &#x22A2;&nbsp;<a href=\"__pv_it\\0ae54de9efc1995837a2762e00a43a3429d0c64d0\\expr.ipynb\" target=\"_blank\"><img src=\"__pv_it\\0ae54de9efc1995837a2762e00a43a3429d0c64d0\\expr.png\" style=\"display:inline;vertical-align:middle;\" /></a></span>"
      ],
      "text/plain": [
       "|= forall_{x, y} ((y = x) = (x = y))"
      ]
     },
     "execution_count": 24,
     "metadata": {},
     "output_type": "execute_result"
    }
   ],
   "source": [
    "equalsSymmetry"
   ]
  },
  {
   "cell_type": "code",
   "execution_count": 25,
   "metadata": {
    "collapsed": false,
    "deletable": true,
    "editable": true
   },
   "outputs": [
    {
     "data": {
      "text/html": [
       "<span style=\"font-size:20px;\"> &#x22A2;&nbsp;<a href=\"__pv_it\\035a666cf34adcaab3a4e671008eefd05f40bf790\\expr.ipynb\" target=\"_blank\"><img src=\"__pv_it\\035a666cf34adcaab3a4e671008eefd05f40bf790\\expr.png\" style=\"display:inline;vertical-align:middle;\" /></a></span>"
      ],
      "text/plain": [
       "|= forall_{x, y, z | (x = y),(y = z)} (x = z)"
      ]
     },
     "execution_count": 25,
     "metadata": {},
     "output_type": "execute_result"
    }
   ],
   "source": [
    "equalsTransitivity"
   ]
  },
  {
   "cell_type": "markdown",
   "metadata": {
    "deletable": true,
    "editable": true
   },
   "source": [
    "`equalsReversal` is a useful theorem for applying the symmetry property of equality:"
   ]
  },
  {
   "cell_type": "code",
   "execution_count": 26,
   "metadata": {
    "collapsed": false,
    "deletable": true,
    "editable": true
   },
   "outputs": [
    {
     "data": {
      "text/html": [
       "<span style=\"font-size:20px;\"> &#x22A2;&nbsp;<a href=\"__pv_it\\cac46856bf74ea5a1aa7df0d5d0912a3fb79d0500\\expr.ipynb\" target=\"_blank\"><img src=\"__pv_it\\cac46856bf74ea5a1aa7df0d5d0912a3fb79d0500\\expr.png\" style=\"display:inline;vertical-align:middle;\" /></a></span>"
      ],
      "text/plain": [
       "|= forall_{x, y | (x = y)} (y = x)"
      ]
     },
     "execution_count": 26,
     "metadata": {},
     "output_type": "execute_result"
    }
   ],
   "source": [
    "from proveit.logic.equality._theorems_ import equalsReversal\n",
    "equalsReversal # y=x derives from x=y"
   ]
  },
  {
   "cell_type": "markdown",
   "metadata": {
    "deletable": true,
    "editable": true
   },
   "source": [
    "These three properties are applied automatically for `Equals` objects"
   ]
  },
  {
   "cell_type": "markdown",
   "metadata": {
    "deletable": true,
    "editable": true
   },
   "source": [
    "Reflexivity is concluded automatically:"
   ]
  },
  {
   "cell_type": "code",
   "execution_count": 27,
   "metadata": {
    "collapsed": false,
    "deletable": true,
    "editable": true
   },
   "outputs": [
    {
     "data": {
      "text/html": [
       "<span style=\"font-size:20px;\"> &#x22A2;&nbsp;<a href=\"__pv_it\\0bae4c9db7031d7ed17300eb3ad0cc61666156c80\\expr.ipynb\" target=\"_blank\"><img src=\"__pv_it\\0bae4c9db7031d7ed17300eb3ad0cc61666156c80\\expr.png\" style=\"display:inline;vertical-align:middle;\" /></a></span>"
      ],
      "text/plain": [
       "|= a = a"
      ]
     },
     "execution_count": 27,
     "metadata": {},
     "output_type": "execute_result"
    }
   ],
   "source": [
    "Equals(a, a).prove()"
   ]
  },
  {
   "cell_type": "code",
   "execution_count": 28,
   "metadata": {
    "collapsed": false,
    "deletable": true,
    "editable": true
   },
   "outputs": [
    {
     "data": {
      "text/html": [
       "<table><tr><th>&nbsp;</th><th>step type</th><th>requirements</th><th>statement</th></tr>\n",
       "<tr><td>0</td><td>specialization</td><td>1</td><td><span style=\"font-size:20px;\"> &#x22A2;&nbsp;<a href=\"__pv_it\\0bae4c9db7031d7ed17300eb3ad0cc61666156c80\\expr.ipynb\" target=\"_blank\"><img src=\"__pv_it\\0bae4c9db7031d7ed17300eb3ad0cc61666156c80\\expr.png\" style=\"display:inline;vertical-align:middle;\" /></a></span></td></tr>\n",
       "<tr><td>&nbsp;</td><td colspan=4 style=\"text-align:left\"><span style=\"font-size:20px;\"><a href=\"__pv_it\\13859e70f2fd014e6a89679f87c2573da47e36a20\\expr.ipynb\" target=\"_blank\"><img src=\"__pv_it\\13859e70f2fd014e6a89679f87c2573da47e36a20\\expr.png\" style=\"display:inline;vertical-align:middle;\" /></a></span></td></tr><tr><td>1</td><td>axiom</td><td></td><td><span style=\"font-size:20px;\"> &#x22A2;&nbsp;<a href=\"__pv_it\\e8ab2bd55e5bf868fc504a81374f6605cba561110\\expr.ipynb\" target=\"_blank\"><img src=\"__pv_it\\e8ab2bd55e5bf868fc504a81374f6605cba561110\\expr.png\" style=\"display:inline;vertical-align:middle;\" /></a></span></td></tr>\n",
       "<tr><td>&nbsp;</td><td colspan=4 style-\"text-align:left\"><a href=\"_axioms_.ipynb#equalsReflexivity\" target=\"_blank\">proveit.logic.equality.equalsReflexivity</a></td></tr>"
      ],
      "text/plain": [
       "<proveit._core_.proof.Specialization instance at 0x00000000068425C8>"
      ]
     },
     "execution_count": 28,
     "metadata": {},
     "output_type": "execute_result"
    }
   ],
   "source": [
    "Equals(a, a).prove().proof()"
   ]
  },
  {
   "cell_type": "markdown",
   "metadata": {
    "deletable": true,
    "editable": true
   },
   "source": [
    "Symmetric statements are derived as side-effects.  Note that the `KnownTruth.deriveSideEffects` method employs a mechanism to prevent infinite recursion or this would not be possible (it would continually go back and forth, proving $y=x$ from $x=y$ then $x=y$ from $y=x$, ad infinitum)"
   ]
  },
  {
   "cell_type": "code",
   "execution_count": 29,
   "metadata": {
    "collapsed": false,
    "deletable": true,
    "editable": true
   },
   "outputs": [
    {
     "data": {
      "text/html": [
       "<strong id=\"a_eq_b\">a_eq_b:</strong> <a href=\"__pv_it\\e83dd5114d4e4c385ad9c5fed1008898ebf853630\\expr.ipynb\" target=\"_blank\"><img src=\"__pv_it\\e83dd5114d4e4c385ad9c5fed1008898ebf853630\\expr.png\" style=\"display:inline;vertical-align:middle;\" /></a><br>"
      ],
      "text/plain": [
       "a_eq_b: a = b"
      ]
     },
     "execution_count": 29,
     "metadata": {},
     "output_type": "execute_result"
    }
   ],
   "source": [
    "a_eq_b = Equals(a, b)"
   ]
  },
  {
   "cell_type": "code",
   "execution_count": 30,
   "metadata": {
    "collapsed": false,
    "deletable": true,
    "editable": true
   },
   "outputs": [
    {
     "data": {
      "text/html": [
       "<span style=\"font-size:20px;\"><a href=\"__pv_it\\3c581f9b9a55a4d345eb7b057c46a0640b00c8100\\expr.ipynb\" target=\"_blank\"><img src=\"__pv_it\\3c581f9b9a55a4d345eb7b057c46a0640b00c8100\\expr.png\" style=\"display:inline;vertical-align:middle;\" /></a> &#x22A2;&nbsp;<a href=\"__pv_it\\e9495f164769d9aafcbf0ddda3793be25a35e58e0\\expr.ipynb\" target=\"_blank\"><img src=\"__pv_it\\e9495f164769d9aafcbf0ddda3793be25a35e58e0\\expr.png\" style=\"display:inline;vertical-align:middle;\" /></a></span>"
      ],
      "text/plain": [
       "{(a = b)} |= b = a"
      ]
     },
     "execution_count": 30,
     "metadata": {},
     "output_type": "execute_result"
    }
   ],
   "source": [
    "Equals(b, a).prove([a_eq_b])"
   ]
  },
  {
   "cell_type": "markdown",
   "metadata": {
    "deletable": true,
    "editable": true
   },
   "source": [
    "The reversed form may also be derived explicitly via `deriveReversed`.  The proof is the same."
   ]
  },
  {
   "cell_type": "code",
   "execution_count": 31,
   "metadata": {
    "collapsed": false,
    "deletable": true,
    "editable": true
   },
   "outputs": [
    {
     "data": {
      "text/html": [
       "<table><tr><th>&nbsp;</th><th>step type</th><th>requirements</th><th>statement</th></tr>\n",
       "<tr><td>0</td><td>specialization</td><td>1, 2</td><td><span style=\"font-size:20px;\"><a href=\"__pv_it\\3c581f9b9a55a4d345eb7b057c46a0640b00c8100\\expr.ipynb\" target=\"_blank\"><img src=\"__pv_it\\3c581f9b9a55a4d345eb7b057c46a0640b00c8100\\expr.png\" style=\"display:inline;vertical-align:middle;\" /></a> &#x22A2;&nbsp;<a href=\"__pv_it\\e9495f164769d9aafcbf0ddda3793be25a35e58e0\\expr.ipynb\" target=\"_blank\"><img src=\"__pv_it\\e9495f164769d9aafcbf0ddda3793be25a35e58e0\\expr.png\" style=\"display:inline;vertical-align:middle;\" /></a></span></td></tr>\n",
       "<tr><td>&nbsp;</td><td colspan=4 style=\"text-align:left\"><span style=\"font-size:20px;\"><a href=\"__pv_it\\13859e70f2fd014e6a89679f87c2573da47e36a20\\expr.ipynb\" target=\"_blank\"><img src=\"__pv_it\\13859e70f2fd014e6a89679f87c2573da47e36a20\\expr.png\" style=\"display:inline;vertical-align:middle;\" /></a>, <a href=\"__pv_it\\df345c595a967fd0d4ca4f1281e9c8988a9ffbc10\\expr.ipynb\" target=\"_blank\"><img src=\"__pv_it\\df345c595a967fd0d4ca4f1281e9c8988a9ffbc10\\expr.png\" style=\"display:inline;vertical-align:middle;\" /></a></span></td></tr><tr><td>1</td><td>theorem</td><td></td><td><span style=\"font-size:20px;\"> &#x22A2;&nbsp;<a href=\"__pv_it\\cac46856bf74ea5a1aa7df0d5d0912a3fb79d0500\\expr.ipynb\" target=\"_blank\"><img src=\"__pv_it\\cac46856bf74ea5a1aa7df0d5d0912a3fb79d0500\\expr.png\" style=\"display:inline;vertical-align:middle;\" /></a></span></td></tr>\n",
       "<tr><td>&nbsp;</td><td colspan=4 style-\"text-align:left\"><a href=\"_proofs_\\equalsReversal.ipynb\" target=\"_blank\">proveit.logic.equality.equalsReversal</a></td></tr><tr><td>2</td><td>assumption</td><td></td><td><span style=\"font-size:20px;\"><a href=\"__pv_it\\3c581f9b9a55a4d345eb7b057c46a0640b00c8100\\expr.ipynb\" target=\"_blank\"><img src=\"__pv_it\\3c581f9b9a55a4d345eb7b057c46a0640b00c8100\\expr.png\" style=\"display:inline;vertical-align:middle;\" /></a> &#x22A2;&nbsp;<a href=\"__pv_it\\e83dd5114d4e4c385ad9c5fed1008898ebf853630\\expr.ipynb\" target=\"_blank\"><img src=\"__pv_it\\e83dd5114d4e4c385ad9c5fed1008898ebf853630\\expr.png\" style=\"display:inline;vertical-align:middle;\" /></a></span></td></tr>\n"
      ],
      "text/plain": [
       "<proveit._core_.proof.Specialization instance at 0x00000000068B4108>"
      ]
     },
     "execution_count": 31,
     "metadata": {},
     "output_type": "execute_result"
    }
   ],
   "source": [
    "a_eq_b.prove([a_eq_b]).deriveReversed().proof()"
   ]
  },
  {
   "cell_type": "markdown",
   "metadata": {
    "deletable": true,
    "editable": true
   },
   "source": [
    "Transitivity derivations are attempted with automation via the `conclude` method using the `trensitivitySearch` function in `proveit.logic.equality.transitivity_search`.  This performs a breadth-first, bidirectional search (meeting in the middle from both ends) over the space of **KnownTruth** objects representing equality and using appropriate assumptions.  This is therefore reasonably efficient.  Efficiency should not really be an issue, anyways, as long as proofs for each theorem are relatively small.  A long proof should be broken up into several smaller proofs for lemma-like theorems.  In that case (in the setting of small proofs), the space of **KnownTruth**s will be small and this search algorithm will have ample efficiency. "
   ]
  },
  {
   "cell_type": "code",
   "execution_count": 32,
   "metadata": {
    "collapsed": false,
    "deletable": true,
    "editable": true
   },
   "outputs": [
    {
     "data": {
      "text/html": [
       "<strong id=\"c_eq_b\">c_eq_b:</strong> <a href=\"__pv_it\\e6986388240b65233fa2f0f17790c045b1938a020\\expr.ipynb\" target=\"_blank\"><img src=\"__pv_it\\e6986388240b65233fa2f0f17790c045b1938a020\\expr.png\" style=\"display:inline;vertical-align:middle;\" /></a><br>"
      ],
      "text/plain": [
       "c_eq_b: c = b"
      ]
     },
     "execution_count": 32,
     "metadata": {},
     "output_type": "execute_result"
    }
   ],
   "source": [
    "# We'll make this interesting by reversing some of the equations in the chain.\n",
    "c_eq_b = Equals(c, b) "
   ]
  },
  {
   "cell_type": "code",
   "execution_count": 33,
   "metadata": {
    "collapsed": false,
    "deletable": true,
    "editable": true
   },
   "outputs": [
    {
     "data": {
      "text/html": [
       "<strong id=\"d_eq_c\">d_eq_c:</strong> <a href=\"__pv_it\\c5f490d8c2c2bb208a19f1c3bb71e6b948a821810\\expr.ipynb\" target=\"_blank\"><img src=\"__pv_it\\c5f490d8c2c2bb208a19f1c3bb71e6b948a821810\\expr.png\" style=\"display:inline;vertical-align:middle;\" /></a><br>"
      ],
      "text/plain": [
       "d_eq_c: d = c"
      ]
     },
     "execution_count": 33,
     "metadata": {},
     "output_type": "execute_result"
    }
   ],
   "source": [
    "d_eq_c = Equals(d, c)"
   ]
  },
  {
   "cell_type": "code",
   "execution_count": 34,
   "metadata": {
    "collapsed": false,
    "deletable": true,
    "editable": true
   },
   "outputs": [
    {
     "data": {
      "text/html": [
       "<strong id=\"d_eq_z\">d_eq_z:</strong> <a href=\"__pv_it\\36b17cf9d85f76ec3bba137202fc75a6a5f3a6310\\expr.ipynb\" target=\"_blank\"><img src=\"__pv_it\\36b17cf9d85f76ec3bba137202fc75a6a5f3a6310\\expr.png\" style=\"display:inline;vertical-align:middle;\" /></a><br>"
      ],
      "text/plain": [
       "d_eq_z: d = z"
      ]
     },
     "execution_count": 34,
     "metadata": {},
     "output_type": "execute_result"
    }
   ],
   "source": [
    "d_eq_z = Equals(d, z)"
   ]
  },
  {
   "cell_type": "code",
   "execution_count": 35,
   "metadata": {
    "collapsed": false,
    "deletable": true,
    "editable": true
   },
   "outputs": [
    {
     "data": {
      "text/html": [
       "<strong id=\"a_eq_z\">a_eq_z:</strong> <span style=\"font-size:20px;\"><a href=\"__pv_it\\68a64898922da15877d418244b570a11c5352c4d0\\expr.ipynb\" target=\"_blank\"><img src=\"__pv_it\\68a64898922da15877d418244b570a11c5352c4d0\\expr.png\" style=\"display:inline;vertical-align:middle;\" /></a> &#x22A2;&nbsp;<a href=\"__pv_it\\26597cd2583d8dbb6fb5a4679c3fbe6aaa537d010\\expr.ipynb\" target=\"_blank\"><img src=\"__pv_it\\26597cd2583d8dbb6fb5a4679c3fbe6aaa537d010\\expr.png\" style=\"display:inline;vertical-align:middle;\" /></a></span><br>"
      ],
      "text/plain": [
       "a_eq_z: {(a = b),(c = b),(d = c),(d = z)} |= a = z"
      ]
     },
     "execution_count": 35,
     "metadata": {},
     "output_type": "execute_result"
    }
   ],
   "source": [
    "a_eq_z = Equals(a, z).prove(assumptions=[a_eq_b, c_eq_b, d_eq_c, d_eq_z])"
   ]
  },
  {
   "cell_type": "code",
   "execution_count": 36,
   "metadata": {
    "collapsed": false,
    "deletable": true,
    "editable": true
   },
   "outputs": [
    {
     "data": {
      "text/html": [
       "<table><tr><th>&nbsp;</th><th>step type</th><th>requirements</th><th>statement</th></tr>\n",
       "<tr><td>0</td><td>specialization</td><td>5, 1, 2</td><td><span style=\"font-size:20px;\"><a href=\"__pv_it\\68a64898922da15877d418244b570a11c5352c4d0\\expr.ipynb\" target=\"_blank\"><img src=\"__pv_it\\68a64898922da15877d418244b570a11c5352c4d0\\expr.png\" style=\"display:inline;vertical-align:middle;\" /></a> &#x22A2;&nbsp;<a href=\"__pv_it\\26597cd2583d8dbb6fb5a4679c3fbe6aaa537d010\\expr.ipynb\" target=\"_blank\"><img src=\"__pv_it\\26597cd2583d8dbb6fb5a4679c3fbe6aaa537d010\\expr.png\" style=\"display:inline;vertical-align:middle;\" /></a></span></td></tr>\n",
       "<tr><td>&nbsp;</td><td colspan=4 style=\"text-align:left\"><span style=\"font-size:20px;\"><a href=\"__pv_it\\13859e70f2fd014e6a89679f87c2573da47e36a20\\expr.ipynb\" target=\"_blank\"><img src=\"__pv_it\\13859e70f2fd014e6a89679f87c2573da47e36a20\\expr.png\" style=\"display:inline;vertical-align:middle;\" /></a>, <a href=\"__pv_it\\c5b1db7b0f21081e2f61120ee73d7aa8ca7d698f0\\expr.ipynb\" target=\"_blank\"><img src=\"__pv_it\\c5b1db7b0f21081e2f61120ee73d7aa8ca7d698f0\\expr.png\" style=\"display:inline;vertical-align:middle;\" /></a>, <a href=\"__pv_it\\bf9e86b9bf77723f078e41e165a6e59a2368d86f0\\expr.ipynb\" target=\"_blank\"><img src=\"__pv_it\\bf9e86b9bf77723f078e41e165a6e59a2368d86f0\\expr.png\" style=\"display:inline;vertical-align:middle;\" /></a></span></td></tr><tr><td>1</td><td>specialization</td><td>5, 3, 4</td><td><span style=\"font-size:20px;\"><a href=\"__pv_it\\50639473267bbb4e682ee6ce63d8dbaa95aef4fc0\\expr.ipynb\" target=\"_blank\"><img src=\"__pv_it\\50639473267bbb4e682ee6ce63d8dbaa95aef4fc0\\expr.png\" style=\"display:inline;vertical-align:middle;\" /></a> &#x22A2;&nbsp;<a href=\"__pv_it\\2815943abf5e3ed7a1a267c5ddd83f8292f056360\\expr.ipynb\" target=\"_blank\"><img src=\"__pv_it\\2815943abf5e3ed7a1a267c5ddd83f8292f056360\\expr.png\" style=\"display:inline;vertical-align:middle;\" /></a></span></td></tr>\n",
       "<tr><td>&nbsp;</td><td colspan=4 style=\"text-align:left\"><span style=\"font-size:20px;\"><a href=\"__pv_it\\13859e70f2fd014e6a89679f87c2573da47e36a20\\expr.ipynb\" target=\"_blank\"><img src=\"__pv_it\\13859e70f2fd014e6a89679f87c2573da47e36a20\\expr.png\" style=\"display:inline;vertical-align:middle;\" /></a>, <a href=\"__pv_it\\712e312766299ae55d8f161b5b8c3f7fb71e00820\\expr.ipynb\" target=\"_blank\"><img src=\"__pv_it\\712e312766299ae55d8f161b5b8c3f7fb71e00820\\expr.png\" style=\"display:inline;vertical-align:middle;\" /></a>, <a href=\"__pv_it\\8c7e4af89f72fbb5be4ca3812465f1adfdcb68de0\\expr.ipynb\" target=\"_blank\"><img src=\"__pv_it\\8c7e4af89f72fbb5be4ca3812465f1adfdcb68de0\\expr.png\" style=\"display:inline;vertical-align:middle;\" /></a></span></td></tr><tr><td>2</td><td>assumption</td><td></td><td><span style=\"font-size:20px;\"><a href=\"__pv_it\\3525c468955587c4fca678cbe70ec60fa47ca07e0\\expr.ipynb\" target=\"_blank\"><img src=\"__pv_it\\3525c468955587c4fca678cbe70ec60fa47ca07e0\\expr.png\" style=\"display:inline;vertical-align:middle;\" /></a> &#x22A2;&nbsp;<a href=\"__pv_it\\36b17cf9d85f76ec3bba137202fc75a6a5f3a6310\\expr.ipynb\" target=\"_blank\"><img src=\"__pv_it\\36b17cf9d85f76ec3bba137202fc75a6a5f3a6310\\expr.png\" style=\"display:inline;vertical-align:middle;\" /></a></span></td></tr>\n",
       "<tr><td>3</td><td>specialization</td><td>5, 6, 7</td><td><span style=\"font-size:20px;\"><a href=\"__pv_it\\183eb393238c60b9d69e3b64434a5fc715fcd12e0\\expr.ipynb\" target=\"_blank\"><img src=\"__pv_it\\183eb393238c60b9d69e3b64434a5fc715fcd12e0\\expr.png\" style=\"display:inline;vertical-align:middle;\" /></a> &#x22A2;&nbsp;<a href=\"__pv_it\\e33e02100057e333dbe0d00229770c342a810d840\\expr.ipynb\" target=\"_blank\"><img src=\"__pv_it\\e33e02100057e333dbe0d00229770c342a810d840\\expr.png\" style=\"display:inline;vertical-align:middle;\" /></a></span></td></tr>\n",
       "<tr><td>&nbsp;</td><td colspan=4 style=\"text-align:left\"><span style=\"font-size:20px;\"><a href=\"__pv_it\\13859e70f2fd014e6a89679f87c2573da47e36a20\\expr.ipynb\" target=\"_blank\"><img src=\"__pv_it\\13859e70f2fd014e6a89679f87c2573da47e36a20\\expr.png\" style=\"display:inline;vertical-align:middle;\" /></a>, <a href=\"__pv_it\\df345c595a967fd0d4ca4f1281e9c8988a9ffbc10\\expr.ipynb\" target=\"_blank\"><img src=\"__pv_it\\df345c595a967fd0d4ca4f1281e9c8988a9ffbc10\\expr.png\" style=\"display:inline;vertical-align:middle;\" /></a>, <a href=\"__pv_it\\51a4d35c15aa75039c30a853e0c7b0d5c2e8d5030\\expr.ipynb\" target=\"_blank\"><img src=\"__pv_it\\51a4d35c15aa75039c30a853e0c7b0d5c2e8d5030\\expr.png\" style=\"display:inline;vertical-align:middle;\" /></a></span></td></tr><tr><td>4</td><td>specialization</td><td>9, 8</td><td><span style=\"font-size:20px;\"><a href=\"__pv_it\\281550726d202b2037ea896172cead28d81b35050\\expr.ipynb\" target=\"_blank\"><img src=\"__pv_it\\281550726d202b2037ea896172cead28d81b35050\\expr.png\" style=\"display:inline;vertical-align:middle;\" /></a> &#x22A2;&nbsp;<a href=\"__pv_it\\f01e05dac97d6fd1f52690364cd2e5585b198d9b0\\expr.ipynb\" target=\"_blank\"><img src=\"__pv_it\\f01e05dac97d6fd1f52690364cd2e5585b198d9b0\\expr.png\" style=\"display:inline;vertical-align:middle;\" /></a></span></td></tr>\n",
       "<tr><td>&nbsp;</td><td colspan=4 style=\"text-align:left\"><span style=\"font-size:20px;\"><a href=\"__pv_it\\c5cc36058fe275499af7a2bd6fe102c3eb7bc5ca0\\expr.ipynb\" target=\"_blank\"><img src=\"__pv_it\\c5cc36058fe275499af7a2bd6fe102c3eb7bc5ca0\\expr.png\" style=\"display:inline;vertical-align:middle;\" /></a>, <a href=\"__pv_it\\712e312766299ae55d8f161b5b8c3f7fb71e00820\\expr.ipynb\" target=\"_blank\"><img src=\"__pv_it\\712e312766299ae55d8f161b5b8c3f7fb71e00820\\expr.png\" style=\"display:inline;vertical-align:middle;\" /></a></span></td></tr><tr><td>5</td><td>axiom</td><td></td><td><span style=\"font-size:20px;\"> &#x22A2;&nbsp;<a href=\"__pv_it\\035a666cf34adcaab3a4e671008eefd05f40bf790\\expr.ipynb\" target=\"_blank\"><img src=\"__pv_it\\035a666cf34adcaab3a4e671008eefd05f40bf790\\expr.png\" style=\"display:inline;vertical-align:middle;\" /></a></span></td></tr>\n",
       "<tr><td>&nbsp;</td><td colspan=4 style-\"text-align:left\"><a href=\"_axioms_.ipynb#equalsTransitivity\" target=\"_blank\">proveit.logic.equality.equalsTransitivity</a></td></tr><tr><td>6</td><td>assumption</td><td></td><td><span style=\"font-size:20px;\"><a href=\"__pv_it\\3c581f9b9a55a4d345eb7b057c46a0640b00c8100\\expr.ipynb\" target=\"_blank\"><img src=\"__pv_it\\3c581f9b9a55a4d345eb7b057c46a0640b00c8100\\expr.png\" style=\"display:inline;vertical-align:middle;\" /></a> &#x22A2;&nbsp;<a href=\"__pv_it\\e83dd5114d4e4c385ad9c5fed1008898ebf853630\\expr.ipynb\" target=\"_blank\"><img src=\"__pv_it\\e83dd5114d4e4c385ad9c5fed1008898ebf853630\\expr.png\" style=\"display:inline;vertical-align:middle;\" /></a></span></td></tr>\n",
       "<tr><td>7</td><td>specialization</td><td>9, 10</td><td><span style=\"font-size:20px;\"><a href=\"__pv_it\\83049f67f226472ca7b382aa6823fb359956e5990\\expr.ipynb\" target=\"_blank\"><img src=\"__pv_it\\83049f67f226472ca7b382aa6823fb359956e5990\\expr.png\" style=\"display:inline;vertical-align:middle;\" /></a> &#x22A2;&nbsp;<a href=\"__pv_it\\f9c38bf51a4a820aac8efe3d065560d10d7323be0\\expr.ipynb\" target=\"_blank\"><img src=\"__pv_it\\f9c38bf51a4a820aac8efe3d065560d10d7323be0\\expr.png\" style=\"display:inline;vertical-align:middle;\" /></a></span></td></tr>\n",
       "<tr><td>&nbsp;</td><td colspan=4 style=\"text-align:left\"><span style=\"font-size:20px;\"><a href=\"__pv_it\\59d6d25700cccd7e0a8f1f526f3b67c27a2342fd0\\expr.ipynb\" target=\"_blank\"><img src=\"__pv_it\\59d6d25700cccd7e0a8f1f526f3b67c27a2342fd0\\expr.png\" style=\"display:inline;vertical-align:middle;\" /></a>, <a href=\"__pv_it\\df345c595a967fd0d4ca4f1281e9c8988a9ffbc10\\expr.ipynb\" target=\"_blank\"><img src=\"__pv_it\\df345c595a967fd0d4ca4f1281e9c8988a9ffbc10\\expr.png\" style=\"display:inline;vertical-align:middle;\" /></a></span></td></tr><tr><td>8</td><td>assumption</td><td></td><td><span style=\"font-size:20px;\"><a href=\"__pv_it\\281550726d202b2037ea896172cead28d81b35050\\expr.ipynb\" target=\"_blank\"><img src=\"__pv_it\\281550726d202b2037ea896172cead28d81b35050\\expr.png\" style=\"display:inline;vertical-align:middle;\" /></a> &#x22A2;&nbsp;<a href=\"__pv_it\\c5f490d8c2c2bb208a19f1c3bb71e6b948a821810\\expr.ipynb\" target=\"_blank\"><img src=\"__pv_it\\c5f490d8c2c2bb208a19f1c3bb71e6b948a821810\\expr.png\" style=\"display:inline;vertical-align:middle;\" /></a></span></td></tr>\n",
       "<tr><td>9</td><td>theorem</td><td></td><td><span style=\"font-size:20px;\"> &#x22A2;&nbsp;<a href=\"__pv_it\\cac46856bf74ea5a1aa7df0d5d0912a3fb79d0500\\expr.ipynb\" target=\"_blank\"><img src=\"__pv_it\\cac46856bf74ea5a1aa7df0d5d0912a3fb79d0500\\expr.png\" style=\"display:inline;vertical-align:middle;\" /></a></span></td></tr>\n",
       "<tr><td>&nbsp;</td><td colspan=4 style-\"text-align:left\"><a href=\"_proofs_\\equalsReversal.ipynb\" target=\"_blank\">proveit.logic.equality.equalsReversal</a></td></tr><tr><td>10</td><td>assumption</td><td></td><td><span style=\"font-size:20px;\"><a href=\"__pv_it\\83049f67f226472ca7b382aa6823fb359956e5990\\expr.ipynb\" target=\"_blank\"><img src=\"__pv_it\\83049f67f226472ca7b382aa6823fb359956e5990\\expr.png\" style=\"display:inline;vertical-align:middle;\" /></a> &#x22A2;&nbsp;<a href=\"__pv_it\\e6986388240b65233fa2f0f17790c045b1938a020\\expr.ipynb\" target=\"_blank\"><img src=\"__pv_it\\e6986388240b65233fa2f0f17790c045b1938a020\\expr.png\" style=\"display:inline;vertical-align:middle;\" /></a></span></td></tr>\n"
      ],
      "text/plain": [
       "<proveit._core_.proof.Specialization instance at 0x00000000068D1188>"
      ]
     },
     "execution_count": 36,
     "metadata": {},
     "output_type": "execute_result"
    }
   ],
   "source": [
    "a_eq_z.proof()"
   ]
  },
  {
   "cell_type": "markdown",
   "metadata": {
    "deletable": true,
    "editable": true
   },
   "source": [
    "The `applyTransivity` method applies the transitivity relation explicity. "
   ]
  },
  {
   "cell_type": "code",
   "execution_count": 37,
   "metadata": {
    "collapsed": false,
    "deletable": true,
    "editable": true
   },
   "outputs": [
    {
     "data": {
      "text/html": [
       "<span style=\"font-size:20px;\"><a href=\"__pv_it\\e9be7b4a72ab801a163c80a16a984578f6a1882c0\\expr.ipynb\" target=\"_blank\"><img src=\"__pv_it\\e9be7b4a72ab801a163c80a16a984578f6a1882c0\\expr.png\" style=\"display:inline;vertical-align:middle;\" /></a> &#x22A2;&nbsp;<a href=\"__pv_it\\e33e02100057e333dbe0d00229770c342a810d840\\expr.ipynb\" target=\"_blank\"><img src=\"__pv_it\\e33e02100057e333dbe0d00229770c342a810d840\\expr.png\" style=\"display:inline;vertical-align:middle;\" /></a></span>"
      ],
      "text/plain": [
       "{(c = b),(a = b)} |= a = c"
      ]
     },
     "execution_count": 37,
     "metadata": {},
     "output_type": "execute_result"
    }
   ],
   "source": [
    "a_eq_b.prove([a_eq_b]).applyTransitivity(c_eq_b, assumptions=[c_eq_b])"
   ]
  },
  {
   "cell_type": "markdown",
   "metadata": {
    "deletable": true,
    "editable": true
   },
   "source": [
    "## Evaluation\n",
    "\n",
    "An evaluation is an equality in which the right hand side is an irreducible value (specifically, an instance of `proveit.logic.equality.irreducible_value.IrreducibleValue`).  An irreducible value represents a mathematical object in its simplest form.  It cannot be reduced.  The evaluation of an `IrreducibleValue` is itself.  When an evaluation is proven, the associated **KnownTruth** is stored for future reference in `Equals.evaluations` for making other evaluations."
   ]
  },
  {
   "cell_type": "markdown",
   "metadata": {
    "deletable": true,
    "editable": true
   },
   "source": [
    "`TRUE` ($\\top$) and `FALSE` ($\\bot$) are both `IrreducibleValue`s:"
   ]
  },
  {
   "cell_type": "code",
   "execution_count": 38,
   "metadata": {
    "collapsed": false,
    "deletable": true,
    "editable": true
   },
   "outputs": [],
   "source": [
    "from proveit.logic import TRUE, FALSE\n",
    "from proveit._generic_.irreducible_value import IrreducibleValue"
   ]
  },
  {
   "cell_type": "code",
   "execution_count": 39,
   "metadata": {
    "collapsed": false,
    "deletable": true,
    "editable": true
   },
   "outputs": [
    {
     "data": {
      "text/plain": [
       "True"
      ]
     },
     "execution_count": 39,
     "metadata": {},
     "output_type": "execute_result"
    }
   ],
   "source": [
    "isinstance(TRUE, IrreducibleValue)"
   ]
  },
  {
   "cell_type": "code",
   "execution_count": 40,
   "metadata": {
    "collapsed": false,
    "deletable": true,
    "editable": true
   },
   "outputs": [
    {
     "data": {
      "text/plain": [
       "True"
      ]
     },
     "execution_count": 40,
     "metadata": {},
     "output_type": "execute_result"
    }
   ],
   "source": [
    "isinstance(FALSE, IrreducibleValue)"
   ]
  },
  {
   "cell_type": "code",
   "execution_count": 41,
   "metadata": {
    "collapsed": false,
    "deletable": true,
    "editable": true
   },
   "outputs": [
    {
     "data": {
      "text/html": [
       "<span style=\"font-size:20px;\"> &#x22A2;&nbsp;<a href=\"__pv_it\\62d27cf0d48c8b5144d7cc4a3796412a4bd68bd40\\expr.ipynb\" target=\"_blank\"><img src=\"__pv_it\\62d27cf0d48c8b5144d7cc4a3796412a4bd68bd40\\expr.png\" style=\"display:inline;vertical-align:middle;\" /></a></span>"
      ],
      "text/plain": [
       "|= TRUE = TRUE"
      ]
     },
     "execution_count": 41,
     "metadata": {},
     "output_type": "execute_result"
    }
   ],
   "source": [
    "TRUE.evaluate()"
   ]
  },
  {
   "cell_type": "markdown",
   "metadata": {
    "deletable": true,
    "editable": true
   },
   "source": [
    "An `IrreducibleValue` should implement the `evalEquality` and `notEqual` methods to prove equality relations with other `IrreducibleValue`s as appropriate."
   ]
  },
  {
   "cell_type": "code",
   "execution_count": 42,
   "metadata": {
    "collapsed": false,
    "deletable": true,
    "editable": true
   },
   "outputs": [
    {
     "data": {
      "text/html": [
       "<span style=\"font-size:20px;\"><a href=\"__pv_it\\d927d76cf36b0096e63333a5a52d5380ef309e510\\expr.ipynb\" target=\"_blank\"><img src=\"__pv_it\\d927d76cf36b0096e63333a5a52d5380ef309e510\\expr.png\" style=\"display:inline;vertical-align:middle;\" /></a> &#x22A2;&nbsp;<a href=\"..\\boolean\\__pv_it\\47da52792f39d479a35c809d6a76a38f9bc20f310\\expr.ipynb\" target=\"_blank\"><img src=\"..\\boolean\\__pv_it\\47da52792f39d479a35c809d6a76a38f9bc20f310\\expr.png\" style=\"display:inline;vertical-align:middle;\" /></a></span>"
      ],
      "text/plain": [
       "{(FALSE = TRUE)} |= FALSE"
      ]
     },
     "execution_count": 42,
     "metadata": {},
     "output_type": "execute_result"
    }
   ],
   "source": [
    "Equals(Equals(FALSE, TRUE), FALSE).deriveContradiction([Equals(FALSE, TRUE)])"
   ]
  },
  {
   "cell_type": "code",
   "execution_count": 43,
   "metadata": {
    "collapsed": false,
    "deletable": true,
    "editable": true
   },
   "outputs": [
    {
     "data": {
      "text/html": [
       "<span style=\"font-size:20px;\"> &#x22A2;&nbsp;<a href=\"__pv_it\\7164e6e3401936ab9b15b937cbb2a7cd66b43efc0\\expr.ipynb\" target=\"_blank\"><img src=\"__pv_it\\7164e6e3401936ab9b15b937cbb2a7cd66b43efc0\\expr.png\" style=\"display:inline;vertical-align:middle;\" /></a></span>"
      ],
      "text/plain": [
       "|= (TRUE = TRUE) = TRUE"
      ]
     },
     "execution_count": 43,
     "metadata": {},
     "output_type": "execute_result"
    }
   ],
   "source": [
    "TRUE.evalEquality(TRUE)"
   ]
  },
  {
   "cell_type": "code",
   "execution_count": 44,
   "metadata": {
    "collapsed": false,
    "deletable": true,
    "editable": true
   },
   "outputs": [
    {
     "data": {
      "text/plain": [
       "[{not(TRUE)} |= FALSE, {(FALSE = TRUE)} |= FALSE]"
      ]
     },
     "execution_count": 44,
     "metadata": {},
     "output_type": "execute_result"
    }
   ],
   "source": [
    "from proveit import KnownTruth\n",
    "KnownTruth.lookup_dict[FALSE]"
   ]
  },
  {
   "cell_type": "code",
   "execution_count": 45,
   "metadata": {
    "collapsed": false,
    "deletable": true,
    "editable": true
   },
   "outputs": [
    {
     "data": {
      "text/html": [
       "<span style=\"font-size:20px;\"> &#x22A2;&nbsp;<a href=\"__pv_it\\c54d1a51003e12b2f674e338162d4fb6b29a20960\\expr.ipynb\" target=\"_blank\"><img src=\"__pv_it\\c54d1a51003e12b2f674e338162d4fb6b29a20960\\expr.png\" style=\"display:inline;vertical-align:middle;\" /></a></span>"
      ],
      "text/plain": [
       "|= (TRUE = FALSE) = FALSE"
      ]
     },
     "execution_count": 45,
     "metadata": {},
     "output_type": "execute_result"
    }
   ],
   "source": [
    "TRUE.evalEquality(FALSE)"
   ]
  },
  {
   "cell_type": "code",
   "execution_count": 46,
   "metadata": {
    "collapsed": false,
    "deletable": true,
    "editable": true
   },
   "outputs": [
    {
     "data": {
      "text/html": [
       "<span style=\"font-size:20px;\"> &#x22A2;&nbsp;<a href=\"..\\boolean\\__pv_it\\3d6e20fbb367d28360d30e8b1a57ae06ede3aa820\\expr.ipynb\" target=\"_blank\"><img src=\"..\\boolean\\__pv_it\\3d6e20fbb367d28360d30e8b1a57ae06ede3aa820\\expr.png\" style=\"display:inline;vertical-align:middle;\" /></a></span>"
      ],
      "text/plain": [
       "|= TRUE != FALSE"
      ]
     },
     "execution_count": 46,
     "metadata": {},
     "output_type": "execute_result"
    }
   ],
   "source": [
    "TRUE.notEqual(FALSE)"
   ]
  },
  {
   "cell_type": "markdown",
   "metadata": {
    "deletable": true,
    "editable": true
   },
   "source": [
    "A proven expression will evaluate to `TRUE`."
   ]
  },
  {
   "cell_type": "code",
   "execution_count": 47,
   "metadata": {
    "collapsed": false,
    "deletable": true,
    "editable": true
   },
   "outputs": [
    {
     "data": {
      "text/html": [
       "<strong id=\"a_eq_T\">a_eq_T:</strong> <span style=\"font-size:20px;\"><a href=\"__pv_it\\977dc7cf8fa594770591c0856704bf4f1b456fa30\\expr.ipynb\" target=\"_blank\"><img src=\"__pv_it\\977dc7cf8fa594770591c0856704bf4f1b456fa30\\expr.png\" style=\"display:inline;vertical-align:middle;\" /></a> &#x22A2;&nbsp;<a href=\"__pv_it\\4fa8845c62c2e64e15580783017e0b85b627e88f0\\expr.ipynb\" target=\"_blank\"><img src=\"__pv_it\\4fa8845c62c2e64e15580783017e0b85b627e88f0\\expr.png\" style=\"display:inline;vertical-align:middle;\" /></a></span><br>"
      ],
      "text/plain": [
       "a_eq_T: {a} |= a = TRUE"
      ]
     },
     "execution_count": 47,
     "metadata": {},
     "output_type": "execute_result"
    }
   ],
   "source": [
    "a_eq_T = a.evaluate([a])"
   ]
  },
  {
   "cell_type": "code",
   "execution_count": 48,
   "metadata": {
    "collapsed": false,
    "deletable": true,
    "editable": true
   },
   "outputs": [
    {
     "data": {
      "text/html": [
       "<table><tr><th>&nbsp;</th><th>step type</th><th>requirements</th><th>statement</th></tr>\n",
       "<tr><td>0</td><td>specialization</td><td>1, 2</td><td><span style=\"font-size:20px;\"><a href=\"__pv_it\\977dc7cf8fa594770591c0856704bf4f1b456fa30\\expr.ipynb\" target=\"_blank\"><img src=\"__pv_it\\977dc7cf8fa594770591c0856704bf4f1b456fa30\\expr.png\" style=\"display:inline;vertical-align:middle;\" /></a> &#x22A2;&nbsp;<a href=\"__pv_it\\4fa8845c62c2e64e15580783017e0b85b627e88f0\\expr.ipynb\" target=\"_blank\"><img src=\"__pv_it\\4fa8845c62c2e64e15580783017e0b85b627e88f0\\expr.png\" style=\"display:inline;vertical-align:middle;\" /></a></span></td></tr>\n",
       "<tr><td>&nbsp;</td><td colspan=4 style=\"text-align:left\"><span style=\"font-size:20px;\"><a href=\"__pv_it\\ea62ac184f800545049d3be25c53fe60f1d1c83a0\\expr.ipynb\" target=\"_blank\"><img src=\"__pv_it\\ea62ac184f800545049d3be25c53fe60f1d1c83a0\\expr.png\" style=\"display:inline;vertical-align:middle;\" /></a></span></td></tr><tr><td>1</td><td>axiom</td><td></td><td><span style=\"font-size:20px;\"> &#x22A2;&nbsp;<a href=\"..\\boolean\\__pv_it\\8ac190437801bd0eefa35912c86faf4c574c7f5f0\\expr.ipynb\" target=\"_blank\"><img src=\"..\\boolean\\__pv_it\\8ac190437801bd0eefa35912c86faf4c574c7f5f0\\expr.png\" style=\"display:inline;vertical-align:middle;\" /></a></span></td></tr>\n",
       "<tr><td>&nbsp;</td><td colspan=4 style-\"text-align:left\"><a href=\"..\\boolean\\_axioms_.ipynb#eqTrueIntro\" target=\"_blank\">proveit.logic.boolean.eqTrueIntro</a></td></tr><tr><td>2</td><td>assumption</td><td></td><td><span style=\"font-size:20px;\"><a href=\"__pv_it\\977dc7cf8fa594770591c0856704bf4f1b456fa30\\expr.ipynb\" target=\"_blank\"><img src=\"__pv_it\\977dc7cf8fa594770591c0856704bf4f1b456fa30\\expr.png\" style=\"display:inline;vertical-align:middle;\" /></a> &#x22A2;&nbsp;<a href=\"..\\..\\__pv_it\\563df418b2f4501a697ee1a058c2ee5ff8e481000\\expr.ipynb\" target=\"_blank\"><img src=\"..\\..\\__pv_it\\563df418b2f4501a697ee1a058c2ee5ff8e481000\\expr.png\" style=\"display:inline;vertical-align:middle;\" /></a></span></td></tr>\n"
      ],
      "text/plain": [
       "<proveit._core_.proof.Specialization instance at 0x0000000006B3C708>"
      ]
     },
     "execution_count": 48,
     "metadata": {},
     "output_type": "execute_result"
    }
   ],
   "source": [
    "a_eq_T.proof()"
   ]
  },
  {
   "cell_type": "markdown",
   "metadata": {
    "deletable": true,
    "editable": true
   },
   "source": [
    "A disproven expression will evaluate to `FALSE`."
   ]
  },
  {
   "cell_type": "code",
   "execution_count": 49,
   "metadata": {
    "collapsed": false,
    "deletable": true,
    "editable": true
   },
   "outputs": [
    {
     "data": {
      "text/html": [
       "<strong id=\"a_eq_F\">a_eq_F:</strong> <span style=\"font-size:20px;\"><a href=\"__pv_it\\c846c88bf184ccb785b179e1addc6a1db93ad1fb0\\expr.ipynb\" target=\"_blank\"><img src=\"__pv_it\\c846c88bf184ccb785b179e1addc6a1db93ad1fb0\\expr.png\" style=\"display:inline;vertical-align:middle;\" /></a> &#x22A2;&nbsp;<a href=\"__pv_it\\022ae0288107f394774a445f2b4126e0705786b20\\expr.ipynb\" target=\"_blank\"><img src=\"__pv_it\\022ae0288107f394774a445f2b4126e0705786b20\\expr.png\" style=\"display:inline;vertical-align:middle;\" /></a></span><br>"
      ],
      "text/plain": [
       "a_eq_F: {not(a)} |= a = FALSE"
      ]
     },
     "execution_count": 49,
     "metadata": {},
     "output_type": "execute_result"
    }
   ],
   "source": [
    "a_eq_F = a.evaluate([Not(a)])"
   ]
  },
  {
   "cell_type": "code",
   "execution_count": 50,
   "metadata": {
    "collapsed": false,
    "deletable": true,
    "editable": true
   },
   "outputs": [
    {
     "data": {
      "text/html": [
       "<table><tr><th>&nbsp;</th><th>step type</th><th>requirements</th><th>statement</th></tr>\n",
       "<tr><td>0</td><td>specialization</td><td>1, 2</td><td><span style=\"font-size:20px;\"><a href=\"__pv_it\\c846c88bf184ccb785b179e1addc6a1db93ad1fb0\\expr.ipynb\" target=\"_blank\"><img src=\"__pv_it\\c846c88bf184ccb785b179e1addc6a1db93ad1fb0\\expr.png\" style=\"display:inline;vertical-align:middle;\" /></a> &#x22A2;&nbsp;<a href=\"__pv_it\\022ae0288107f394774a445f2b4126e0705786b20\\expr.ipynb\" target=\"_blank\"><img src=\"__pv_it\\022ae0288107f394774a445f2b4126e0705786b20\\expr.png\" style=\"display:inline;vertical-align:middle;\" /></a></span></td></tr>\n",
       "<tr><td>&nbsp;</td><td colspan=4 style=\"text-align:left\"><span style=\"font-size:20px;\"><a href=\"__pv_it\\ea62ac184f800545049d3be25c53fe60f1d1c83a0\\expr.ipynb\" target=\"_blank\"><img src=\"__pv_it\\ea62ac184f800545049d3be25c53fe60f1d1c83a0\\expr.png\" style=\"display:inline;vertical-align:middle;\" /></a></span></td></tr><tr><td>1</td><td>axiom</td><td></td><td><span style=\"font-size:20px;\"> &#x22A2;&nbsp;<a href=\"..\\boolean\\negation\\__pv_it\\eb47b71305c8642bf59edee985769812467450310\\expr.ipynb\" target=\"_blank\"><img src=\"..\\boolean\\negation\\__pv_it\\eb47b71305c8642bf59edee985769812467450310\\expr.png\" style=\"display:inline;vertical-align:middle;\" /></a></span></td></tr>\n",
       "<tr><td>&nbsp;</td><td colspan=4 style-\"text-align:left\"><a href=\"..\\boolean\\negation\\_axioms_.ipynb#negationElim\" target=\"_blank\">proveit.logic.boolean.negation.negationElim</a></td></tr><tr><td>2</td><td>assumption</td><td></td><td><span style=\"font-size:20px;\"><a href=\"__pv_it\\c846c88bf184ccb785b179e1addc6a1db93ad1fb0\\expr.ipynb\" target=\"_blank\"><img src=\"__pv_it\\c846c88bf184ccb785b179e1addc6a1db93ad1fb0\\expr.png\" style=\"display:inline;vertical-align:middle;\" /></a> &#x22A2;&nbsp;<a href=\"__pv_it\\7d29e8e73dc4cd4a867f2d1fc2813df10a2f1f0c0\\expr.ipynb\" target=\"_blank\"><img src=\"__pv_it\\7d29e8e73dc4cd4a867f2d1fc2813df10a2f1f0c0\\expr.png\" style=\"display:inline;vertical-align:middle;\" /></a></span></td></tr>\n"
      ],
      "text/plain": [
       "<proveit._core_.proof.Specialization instance at 0x0000000006A1EBC8>"
      ]
     },
     "execution_count": 50,
     "metadata": {},
     "output_type": "execute_result"
    }
   ],
   "source": [
    "a_eq_F.proof()"
   ]
  },
  {
   "cell_type": "markdown",
   "metadata": {
    "deletable": true,
    "editable": true
   },
   "source": [
    "If the expression to be evaluated is known to be equal to an expression that has already been evaluated, transitivity will automatically be applied."
   ]
  },
  {
   "cell_type": "code",
   "execution_count": 51,
   "metadata": {
    "collapsed": false,
    "deletable": true,
    "editable": true
   },
   "outputs": [
    {
     "data": {
      "text/html": [
       "<strong id=\"b_eq_F\">b_eq_F:</strong> <span style=\"font-size:20px;\"><a href=\"__pv_it\\59a600a8e4c0e45787356993edc27096f30822a30\\expr.ipynb\" target=\"_blank\"><img src=\"__pv_it\\59a600a8e4c0e45787356993edc27096f30822a30\\expr.png\" style=\"display:inline;vertical-align:middle;\" /></a> &#x22A2;&nbsp;<a href=\"__pv_it\\abbc49ef962f9d8be87857ab8289cb2ba90f10760\\expr.ipynb\" target=\"_blank\"><img src=\"__pv_it\\abbc49ef962f9d8be87857ab8289cb2ba90f10760\\expr.png\" style=\"display:inline;vertical-align:middle;\" /></a></span><br>"
      ],
      "text/plain": [
       "b_eq_F: {(b = a),not(a)} |= b = FALSE"
      ]
     },
     "execution_count": 51,
     "metadata": {},
     "output_type": "execute_result"
    }
   ],
   "source": [
    "b_eq_F = b.evaluate([Equals(b, a), Not(a)])"
   ]
  },
  {
   "cell_type": "code",
   "execution_count": 52,
   "metadata": {
    "collapsed": false,
    "deletable": true,
    "editable": true
   },
   "outputs": [
    {
     "data": {
      "text/html": [
       "<table><tr><th>&nbsp;</th><th>step type</th><th>requirements</th><th>statement</th></tr>\n",
       "<tr><td>0</td><td>specialization</td><td>1, 2, 3</td><td><span style=\"font-size:20px;\"><a href=\"__pv_it\\59a600a8e4c0e45787356993edc27096f30822a30\\expr.ipynb\" target=\"_blank\"><img src=\"__pv_it\\59a600a8e4c0e45787356993edc27096f30822a30\\expr.png\" style=\"display:inline;vertical-align:middle;\" /></a> &#x22A2;&nbsp;<a href=\"__pv_it\\abbc49ef962f9d8be87857ab8289cb2ba90f10760\\expr.ipynb\" target=\"_blank\"><img src=\"__pv_it\\abbc49ef962f9d8be87857ab8289cb2ba90f10760\\expr.png\" style=\"display:inline;vertical-align:middle;\" /></a></span></td></tr>\n",
       "<tr><td>&nbsp;</td><td colspan=4 style=\"text-align:left\"><span style=\"font-size:20px;\"><a href=\"__pv_it\\1a908f670f0c610d1903c14528ad1a91530294d50\\expr.ipynb\" target=\"_blank\"><img src=\"__pv_it\\1a908f670f0c610d1903c14528ad1a91530294d50\\expr.png\" style=\"display:inline;vertical-align:middle;\" /></a>, <a href=\"__pv_it\\ce6e3ad18634f7b85aa57c16fdb7eff302faa98a0\\expr.ipynb\" target=\"_blank\"><img src=\"__pv_it\\ce6e3ad18634f7b85aa57c16fdb7eff302faa98a0\\expr.png\" style=\"display:inline;vertical-align:middle;\" /></a>, <a href=\"__pv_it\\4c312e5494d4efc4d6ac6456e0ba7355928db0d60\\expr.ipynb\" target=\"_blank\"><img src=\"__pv_it\\4c312e5494d4efc4d6ac6456e0ba7355928db0d60\\expr.png\" style=\"display:inline;vertical-align:middle;\" /></a></span></td></tr><tr><td>1</td><td>axiom</td><td></td><td><span style=\"font-size:20px;\"> &#x22A2;&nbsp;<a href=\"__pv_it\\035a666cf34adcaab3a4e671008eefd05f40bf790\\expr.ipynb\" target=\"_blank\"><img src=\"__pv_it\\035a666cf34adcaab3a4e671008eefd05f40bf790\\expr.png\" style=\"display:inline;vertical-align:middle;\" /></a></span></td></tr>\n",
       "<tr><td>&nbsp;</td><td colspan=4 style-\"text-align:left\"><a href=\"_axioms_.ipynb#equalsTransitivity\" target=\"_blank\">proveit.logic.equality.equalsTransitivity</a></td></tr><tr><td>2</td><td>assumption</td><td></td><td><span style=\"font-size:20px;\"><a href=\"__pv_it\\f314c6db0dd9afdd2fd0fecf4549e02cd6a07d770\\expr.ipynb\" target=\"_blank\"><img src=\"__pv_it\\f314c6db0dd9afdd2fd0fecf4549e02cd6a07d770\\expr.png\" style=\"display:inline;vertical-align:middle;\" /></a> &#x22A2;&nbsp;<a href=\"__pv_it\\e9495f164769d9aafcbf0ddda3793be25a35e58e0\\expr.ipynb\" target=\"_blank\"><img src=\"__pv_it\\e9495f164769d9aafcbf0ddda3793be25a35e58e0\\expr.png\" style=\"display:inline;vertical-align:middle;\" /></a></span></td></tr>\n",
       "<tr><td>3</td><td>specialization</td><td>4, 5</td><td><span style=\"font-size:20px;\"><a href=\"__pv_it\\c846c88bf184ccb785b179e1addc6a1db93ad1fb0\\expr.ipynb\" target=\"_blank\"><img src=\"__pv_it\\c846c88bf184ccb785b179e1addc6a1db93ad1fb0\\expr.png\" style=\"display:inline;vertical-align:middle;\" /></a> &#x22A2;&nbsp;<a href=\"__pv_it\\022ae0288107f394774a445f2b4126e0705786b20\\expr.ipynb\" target=\"_blank\"><img src=\"__pv_it\\022ae0288107f394774a445f2b4126e0705786b20\\expr.png\" style=\"display:inline;vertical-align:middle;\" /></a></span></td></tr>\n",
       "<tr><td>&nbsp;</td><td colspan=4 style=\"text-align:left\"><span style=\"font-size:20px;\"><a href=\"__pv_it\\ea62ac184f800545049d3be25c53fe60f1d1c83a0\\expr.ipynb\" target=\"_blank\"><img src=\"__pv_it\\ea62ac184f800545049d3be25c53fe60f1d1c83a0\\expr.png\" style=\"display:inline;vertical-align:middle;\" /></a></span></td></tr><tr><td>4</td><td>axiom</td><td></td><td><span style=\"font-size:20px;\"> &#x22A2;&nbsp;<a href=\"..\\boolean\\negation\\__pv_it\\eb47b71305c8642bf59edee985769812467450310\\expr.ipynb\" target=\"_blank\"><img src=\"..\\boolean\\negation\\__pv_it\\eb47b71305c8642bf59edee985769812467450310\\expr.png\" style=\"display:inline;vertical-align:middle;\" /></a></span></td></tr>\n",
       "<tr><td>&nbsp;</td><td colspan=4 style-\"text-align:left\"><a href=\"..\\boolean\\negation\\_axioms_.ipynb#negationElim\" target=\"_blank\">proveit.logic.boolean.negation.negationElim</a></td></tr><tr><td>5</td><td>assumption</td><td></td><td><span style=\"font-size:20px;\"><a href=\"__pv_it\\c846c88bf184ccb785b179e1addc6a1db93ad1fb0\\expr.ipynb\" target=\"_blank\"><img src=\"__pv_it\\c846c88bf184ccb785b179e1addc6a1db93ad1fb0\\expr.png\" style=\"display:inline;vertical-align:middle;\" /></a> &#x22A2;&nbsp;<a href=\"__pv_it\\7d29e8e73dc4cd4a867f2d1fc2813df10a2f1f0c0\\expr.ipynb\" target=\"_blank\"><img src=\"__pv_it\\7d29e8e73dc4cd4a867f2d1fc2813df10a2f1f0c0\\expr.png\" style=\"display:inline;vertical-align:middle;\" /></a></span></td></tr>\n"
      ],
      "text/plain": [
       "<proveit._core_.proof.Specialization instance at 0x0000000006C42A88>"
      ]
     },
     "execution_count": 52,
     "metadata": {},
     "output_type": "execute_result"
    }
   ],
   "source": [
    "b_eq_F.proof()"
   ]
  },
  {
   "cell_type": "markdown",
   "metadata": {
    "deletable": true,
    "editable": true
   },
   "source": [
    "When evaluating an expression, an evaluation of the operands will be attempted.  The operation class is responsible for overridding the `evaluate` method in order to properly treat the operation applied to irreducible values or generate a more efficient proof as appropriate."
   ]
  },
  {
   "cell_type": "code",
   "execution_count": 53,
   "metadata": {
    "collapsed": true,
    "deletable": true,
    "editable": true
   },
   "outputs": [],
   "source": [
    "from proveit.logic import Or, Not, inBool"
   ]
  },
  {
   "cell_type": "code",
   "execution_count": 54,
   "metadata": {
    "collapsed": false,
    "deletable": true,
    "editable": true
   },
   "outputs": [
    {
     "data": {
      "text/html": [
       "<strong id=\"nested_eval\">nested_eval:</strong> <span style=\"font-size:20px;\"><a href=\"__pv_it\\977dc7cf8fa594770591c0856704bf4f1b456fa30\\expr.ipynb\" target=\"_blank\"><img src=\"__pv_it\\977dc7cf8fa594770591c0856704bf4f1b456fa30\\expr.png\" style=\"display:inline;vertical-align:middle;\" /></a> &#x22A2;&nbsp;<a href=\"__pv_it\\104a31959453cc3d8a176ad7ac726930651008220\\expr.ipynb\" target=\"_blank\"><img src=\"__pv_it\\104a31959453cc3d8a176ad7ac726930651008220\\expr.png\" style=\"display:inline;vertical-align:middle;\" /></a></span><br>"
      ],
      "text/plain": [
       "nested_eval: {a} |= (a or not(a)) = TRUE"
      ]
     },
     "execution_count": 54,
     "metadata": {},
     "output_type": "execute_result"
    }
   ],
   "source": [
    "nested_eval = Or(a, Not(a)).evaluate([a])"
   ]
  },
  {
   "cell_type": "code",
   "execution_count": 55,
   "metadata": {
    "collapsed": false,
    "deletable": true,
    "editable": true
   },
   "outputs": [
    {
     "data": {
      "text/html": [
       "<table><tr><th>&nbsp;</th><th>step type</th><th>requirements</th><th>statement</th></tr>\n",
       "<tr><td>0</td><td>specialization</td><td>1, 2</td><td><span style=\"font-size:20px;\"><a href=\"__pv_it\\977dc7cf8fa594770591c0856704bf4f1b456fa30\\expr.ipynb\" target=\"_blank\"><img src=\"__pv_it\\977dc7cf8fa594770591c0856704bf4f1b456fa30\\expr.png\" style=\"display:inline;vertical-align:middle;\" /></a> &#x22A2;&nbsp;<a href=\"__pv_it\\104a31959453cc3d8a176ad7ac726930651008220\\expr.ipynb\" target=\"_blank\"><img src=\"__pv_it\\104a31959453cc3d8a176ad7ac726930651008220\\expr.png\" style=\"display:inline;vertical-align:middle;\" /></a></span></td></tr>\n",
       "<tr><td>&nbsp;</td><td colspan=4 style=\"text-align:left\"><span style=\"font-size:20px;\"><a href=\"__pv_it\\9b8c792239f05c0c416deb23e3cb367c976aa4900\\expr.ipynb\" target=\"_blank\"><img src=\"__pv_it\\9b8c792239f05c0c416deb23e3cb367c976aa4900\\expr.png\" style=\"display:inline;vertical-align:middle;\" /></a></span></td></tr><tr><td>1</td><td>axiom</td><td></td><td><span style=\"font-size:20px;\"> &#x22A2;&nbsp;<a href=\"..\\boolean\\__pv_it\\8ac190437801bd0eefa35912c86faf4c574c7f5f0\\expr.ipynb\" target=\"_blank\"><img src=\"..\\boolean\\__pv_it\\8ac190437801bd0eefa35912c86faf4c574c7f5f0\\expr.png\" style=\"display:inline;vertical-align:middle;\" /></a></span></td></tr>\n",
       "<tr><td>&nbsp;</td><td colspan=4 style-\"text-align:left\"><a href=\"..\\boolean\\_axioms_.ipynb#eqTrueIntro\" target=\"_blank\">proveit.logic.boolean.eqTrueIntro</a></td></tr><tr><td>2</td><td>specialization</td><td>3, 6, 4</td><td><span style=\"font-size:20px;\"><a href=\"__pv_it\\977dc7cf8fa594770591c0856704bf4f1b456fa30\\expr.ipynb\" target=\"_blank\"><img src=\"__pv_it\\977dc7cf8fa594770591c0856704bf4f1b456fa30\\expr.png\" style=\"display:inline;vertical-align:middle;\" /></a> &#x22A2;&nbsp;<a href=\"__pv_it\\761d26a9e7e0f5636289ca2cce2aef9798f82ec80\\expr.ipynb\" target=\"_blank\"><img src=\"__pv_it\\761d26a9e7e0f5636289ca2cce2aef9798f82ec80\\expr.png\" style=\"display:inline;vertical-align:middle;\" /></a></span></td></tr>\n",
       "<tr><td>&nbsp;</td><td colspan=4 style=\"text-align:left\"><span style=\"font-size:20px;\"><a href=\"__pv_it\\ea62ac184f800545049d3be25c53fe60f1d1c83a0\\expr.ipynb\" target=\"_blank\"><img src=\"__pv_it\\ea62ac184f800545049d3be25c53fe60f1d1c83a0\\expr.png\" style=\"display:inline;vertical-align:middle;\" /></a>, <a href=\"__pv_it\\332b51fda81000d0c93930302d33ed0269dfb8020\\expr.ipynb\" target=\"_blank\"><img src=\"__pv_it\\332b51fda81000d0c93930302d33ed0269dfb8020\\expr.png\" style=\"display:inline;vertical-align:middle;\" /></a></span></td></tr><tr><td>3</td><td>theorem</td><td></td><td><span style=\"font-size:20px;\"> &#x22A2;&nbsp;<a href=\"..\\boolean\\disjunction\\__pv_it\\5d4b215f0de52ddc857d7c9faf57d0bd9417a8a40\\expr.ipynb\" target=\"_blank\"><img src=\"..\\boolean\\disjunction\\__pv_it\\5d4b215f0de52ddc857d7c9faf57d0bd9417a8a40\\expr.png\" style=\"display:inline;vertical-align:middle;\" /></a></span></td></tr>\n",
       "<tr><td>&nbsp;</td><td colspan=4 style-\"text-align:left\"><a href=\"..\\boolean\\disjunction\\_proofs_\\orIfOnlyLeft.ipynb\" target=\"_blank\">proveit.logic.boolean.disjunction.orIfOnlyLeft</a></td></tr><tr><td>4</td><td>specialization</td><td>5, 6</td><td><span style=\"font-size:20px;\"><a href=\"__pv_it\\977dc7cf8fa594770591c0856704bf4f1b456fa30\\expr.ipynb\" target=\"_blank\"><img src=\"__pv_it\\977dc7cf8fa594770591c0856704bf4f1b456fa30\\expr.png\" style=\"display:inline;vertical-align:middle;\" /></a> &#x22A2;&nbsp;<a href=\"__pv_it\\20501da30b78ef7a83017061da5763f3a7369c810\\expr.ipynb\" target=\"_blank\"><img src=\"__pv_it\\20501da30b78ef7a83017061da5763f3a7369c810\\expr.png\" style=\"display:inline;vertical-align:middle;\" /></a></span></td></tr>\n",
       "<tr><td>&nbsp;</td><td colspan=4 style=\"text-align:left\"><span style=\"font-size:20px;\"><a href=\"__pv_it\\ea62ac184f800545049d3be25c53fe60f1d1c83a0\\expr.ipynb\" target=\"_blank\"><img src=\"__pv_it\\ea62ac184f800545049d3be25c53fe60f1d1c83a0\\expr.png\" style=\"display:inline;vertical-align:middle;\" /></a></span></td></tr><tr><td>5</td><td>theorem</td><td></td><td><span style=\"font-size:20px;\"> &#x22A2;&nbsp;<a href=\"..\\boolean\\negation\\__pv_it\\286adcbe8023a18978d5c70912cd35edd88ee99f0\\expr.ipynb\" target=\"_blank\"><img src=\"..\\boolean\\negation\\__pv_it\\286adcbe8023a18978d5c70912cd35edd88ee99f0\\expr.png\" style=\"display:inline;vertical-align:middle;\" /></a></span></td></tr>\n",
       "<tr><td>&nbsp;</td><td colspan=4 style-\"text-align:left\"><a href=\"..\\boolean\\negation\\_proofs_\\toDoubleNegation.ipynb\" target=\"_blank\">proveit.logic.boolean.negation.toDoubleNegation</a></td></tr><tr><td>6</td><td>assumption</td><td></td><td><span style=\"font-size:20px;\"><a href=\"__pv_it\\977dc7cf8fa594770591c0856704bf4f1b456fa30\\expr.ipynb\" target=\"_blank\"><img src=\"__pv_it\\977dc7cf8fa594770591c0856704bf4f1b456fa30\\expr.png\" style=\"display:inline;vertical-align:middle;\" /></a> &#x22A2;&nbsp;<a href=\"..\\..\\__pv_it\\563df418b2f4501a697ee1a058c2ee5ff8e481000\\expr.ipynb\" target=\"_blank\"><img src=\"..\\..\\__pv_it\\563df418b2f4501a697ee1a058c2ee5ff8e481000\\expr.png\" style=\"display:inline;vertical-align:middle;\" /></a></span></td></tr>\n"
      ],
      "text/plain": [
       "<proveit._core_.proof.Specialization instance at 0x00000000071A1B08>"
      ]
     },
     "execution_count": 55,
     "metadata": {},
     "output_type": "execute_result"
    }
   ],
   "source": [
    "nested_eval.proof()"
   ]
  },
  {
   "cell_type": "markdown",
   "metadata": {
    "deletable": true,
    "editable": true
   },
   "source": [
    "## Boolean equality\n",
    "\n",
    "Equality with `TRUE` ($\\top$) or `FALSE` ($\\bot$) has special logical consequences.  The `Equals` object has automation capabilities to treat these special kinds of equations."
   ]
  },
  {
   "cell_type": "code",
   "execution_count": 56,
   "metadata": {
    "collapsed": false,
    "deletable": true,
    "editable": true
   },
   "outputs": [
    {
     "data": {
      "text/html": [
       "<a href=\"..\\boolean\\__pv_it\\bcacd17d2d009ecbf75058f732f40f2104c608320\\expr.ipynb\" target=\"_blank\"><img src=\"..\\boolean\\__pv_it\\bcacd17d2d009ecbf75058f732f40f2104c608320\\expr.png\" style=\"display:inline;vertical-align:middle;\" /></a>"
      ],
      "text/plain": [
       "TRUE"
      ]
     },
     "execution_count": 56,
     "metadata": {},
     "output_type": "execute_result"
    }
   ],
   "source": [
    "TRUE"
   ]
  },
  {
   "cell_type": "code",
   "execution_count": 57,
   "metadata": {
    "collapsed": false,
    "deletable": true,
    "editable": true
   },
   "outputs": [
    {
     "data": {
      "text/html": [
       "<a href=\"..\\boolean\\__pv_it\\47da52792f39d479a35c809d6a76a38f9bc20f310\\expr.ipynb\" target=\"_blank\"><img src=\"..\\boolean\\__pv_it\\47da52792f39d479a35c809d6a76a38f9bc20f310\\expr.png\" style=\"display:inline;vertical-align:middle;\" /></a>"
      ],
      "text/plain": [
       "FALSE"
      ]
     },
     "execution_count": 57,
     "metadata": {},
     "output_type": "execute_result"
    }
   ],
   "source": [
    "FALSE"
   ]
  },
  {
   "cell_type": "markdown",
   "metadata": {
    "deletable": true,
    "editable": true
   },
   "source": [
    "Proofs via boolean equality are automatic via `Equals.deduceSideEffects`:"
   ]
  },
  {
   "cell_type": "code",
   "execution_count": 58,
   "metadata": {
    "collapsed": false,
    "deletable": true,
    "editable": true
   },
   "outputs": [
    {
     "data": {
      "text/html": [
       "<span style=\"font-size:20px;\"><a href=\"__pv_it\\bb9183bb972ca02454f46a38ef57dd143ec595d90\\expr.ipynb\" target=\"_blank\"><img src=\"__pv_it\\bb9183bb972ca02454f46a38ef57dd143ec595d90\\expr.png\" style=\"display:inline;vertical-align:middle;\" /></a> &#x22A2;&nbsp;<a href=\"..\\..\\__pv_it\\563df418b2f4501a697ee1a058c2ee5ff8e481000\\expr.ipynb\" target=\"_blank\"><img src=\"..\\..\\__pv_it\\563df418b2f4501a697ee1a058c2ee5ff8e481000\\expr.png\" style=\"display:inline;vertical-align:middle;\" /></a></span>"
      ],
      "text/plain": [
       "{(a = TRUE)} |= a"
      ]
     },
     "execution_count": 58,
     "metadata": {},
     "output_type": "execute_result"
    }
   ],
   "source": [
    "a.prove([Equals(a, TRUE)])"
   ]
  },
  {
   "cell_type": "code",
   "execution_count": 59,
   "metadata": {
    "collapsed": false,
    "deletable": true,
    "editable": true
   },
   "outputs": [
    {
     "data": {
      "text/html": [
       "<table><tr><th>&nbsp;</th><th>step type</th><th>requirements</th><th>statement</th></tr>\n",
       "<tr><td>0</td><td>specialization</td><td>1, 2</td><td><span style=\"font-size:20px;\"><a href=\"__pv_it\\bb9183bb972ca02454f46a38ef57dd143ec595d90\\expr.ipynb\" target=\"_blank\"><img src=\"__pv_it\\bb9183bb972ca02454f46a38ef57dd143ec595d90\\expr.png\" style=\"display:inline;vertical-align:middle;\" /></a> &#x22A2;&nbsp;<a href=\"..\\..\\__pv_it\\563df418b2f4501a697ee1a058c2ee5ff8e481000\\expr.ipynb\" target=\"_blank\"><img src=\"..\\..\\__pv_it\\563df418b2f4501a697ee1a058c2ee5ff8e481000\\expr.png\" style=\"display:inline;vertical-align:middle;\" /></a></span></td></tr>\n",
       "<tr><td>&nbsp;</td><td colspan=4 style=\"text-align:left\"><span style=\"font-size:20px;\"><a href=\"__pv_it\\ea62ac184f800545049d3be25c53fe60f1d1c83a0\\expr.ipynb\" target=\"_blank\"><img src=\"__pv_it\\ea62ac184f800545049d3be25c53fe60f1d1c83a0\\expr.png\" style=\"display:inline;vertical-align:middle;\" /></a></span></td></tr><tr><td>1</td><td>axiom</td><td></td><td><span style=\"font-size:20px;\"> &#x22A2;&nbsp;<a href=\"..\\boolean\\__pv_it\\35b0a3ba67caf9ae1e44a8ea3fd5f5902c16f27b0\\expr.ipynb\" target=\"_blank\"><img src=\"..\\boolean\\__pv_it\\35b0a3ba67caf9ae1e44a8ea3fd5f5902c16f27b0\\expr.png\" style=\"display:inline;vertical-align:middle;\" /></a></span></td></tr>\n",
       "<tr><td>&nbsp;</td><td colspan=4 style-\"text-align:left\"><a href=\"..\\boolean\\_axioms_.ipynb#eqTrueElim\" target=\"_blank\">proveit.logic.boolean.eqTrueElim</a></td></tr><tr><td>2</td><td>assumption</td><td></td><td><span style=\"font-size:20px;\"><a href=\"__pv_it\\bb9183bb972ca02454f46a38ef57dd143ec595d90\\expr.ipynb\" target=\"_blank\"><img src=\"__pv_it\\bb9183bb972ca02454f46a38ef57dd143ec595d90\\expr.png\" style=\"display:inline;vertical-align:middle;\" /></a> &#x22A2;&nbsp;<a href=\"__pv_it\\4fa8845c62c2e64e15580783017e0b85b627e88f0\\expr.ipynb\" target=\"_blank\"><img src=\"__pv_it\\4fa8845c62c2e64e15580783017e0b85b627e88f0\\expr.png\" style=\"display:inline;vertical-align:middle;\" /></a></span></td></tr>\n"
      ],
      "text/plain": [
       "<proveit._core_.proof.Specialization instance at 0x0000000006C45508>"
      ]
     },
     "execution_count": 59,
     "metadata": {},
     "output_type": "execute_result"
    }
   ],
   "source": [
    "a.prove([Equals(a, TRUE)]).proof()"
   ]
  },
  {
   "cell_type": "code",
   "execution_count": 60,
   "metadata": {
    "collapsed": false,
    "deletable": true,
    "editable": true
   },
   "outputs": [
    {
     "data": {
      "text/html": [
       "<span style=\"font-size:20px;\"><a href=\"__pv_it\\80e95c3553ca7c35fb653c7ebbbeabda3a9509590\\expr.ipynb\" target=\"_blank\"><img src=\"__pv_it\\80e95c3553ca7c35fb653c7ebbbeabda3a9509590\\expr.png\" style=\"display:inline;vertical-align:middle;\" /></a> &#x22A2;&nbsp;<a href=\"__pv_it\\14e5307965a0f2efb3fce04d31ff4b4f54c049750\\expr.ipynb\" target=\"_blank\"><img src=\"__pv_it\\14e5307965a0f2efb3fce04d31ff4b4f54c049750\\expr.png\" style=\"display:inline;vertical-align:middle;\" /></a></span>"
      ],
      "text/plain": [
       "{(b = FALSE)} |= not(b)"
      ]
     },
     "execution_count": 60,
     "metadata": {},
     "output_type": "execute_result"
    }
   ],
   "source": [
    "Not(b).prove([Equals(b, FALSE)])"
   ]
  },
  {
   "cell_type": "code",
   "execution_count": 61,
   "metadata": {
    "collapsed": false,
    "deletable": true,
    "editable": true
   },
   "outputs": [
    {
     "data": {
      "text/html": [
       "<table><tr><th>&nbsp;</th><th>step type</th><th>requirements</th><th>statement</th></tr>\n",
       "<tr><td>0</td><td>specialization</td><td>1, 2</td><td><span style=\"font-size:20px;\"><a href=\"__pv_it\\80e95c3553ca7c35fb653c7ebbbeabda3a9509590\\expr.ipynb\" target=\"_blank\"><img src=\"__pv_it\\80e95c3553ca7c35fb653c7ebbbeabda3a9509590\\expr.png\" style=\"display:inline;vertical-align:middle;\" /></a> &#x22A2;&nbsp;<a href=\"__pv_it\\14e5307965a0f2efb3fce04d31ff4b4f54c049750\\expr.ipynb\" target=\"_blank\"><img src=\"__pv_it\\14e5307965a0f2efb3fce04d31ff4b4f54c049750\\expr.png\" style=\"display:inline;vertical-align:middle;\" /></a></span></td></tr>\n",
       "<tr><td>&nbsp;</td><td colspan=4 style=\"text-align:left\"><span style=\"font-size:20px;\"><a href=\"__pv_it\\1935b6b81fb1014ee6500a8b165edc4f95a55df30\\expr.ipynb\" target=\"_blank\"><img src=\"__pv_it\\1935b6b81fb1014ee6500a8b165edc4f95a55df30\\expr.png\" style=\"display:inline;vertical-align:middle;\" /></a></span></td></tr><tr><td>1</td><td>axiom</td><td></td><td><span style=\"font-size:20px;\"> &#x22A2;&nbsp;<a href=\"..\\boolean\\negation\\__pv_it\\b55c48e53444b96957af642628ea1af29f6bcabb0\\expr.ipynb\" target=\"_blank\"><img src=\"..\\boolean\\negation\\__pv_it\\b55c48e53444b96957af642628ea1af29f6bcabb0\\expr.png\" style=\"display:inline;vertical-align:middle;\" /></a></span></td></tr>\n",
       "<tr><td>&nbsp;</td><td colspan=4 style-\"text-align:left\"><a href=\"..\\boolean\\negation\\_axioms_.ipynb#negationIntro\" target=\"_blank\">proveit.logic.boolean.negation.negationIntro</a></td></tr><tr><td>2</td><td>assumption</td><td></td><td><span style=\"font-size:20px;\"><a href=\"__pv_it\\80e95c3553ca7c35fb653c7ebbbeabda3a9509590\\expr.ipynb\" target=\"_blank\"><img src=\"__pv_it\\80e95c3553ca7c35fb653c7ebbbeabda3a9509590\\expr.png\" style=\"display:inline;vertical-align:middle;\" /></a> &#x22A2;&nbsp;<a href=\"__pv_it\\abbc49ef962f9d8be87857ab8289cb2ba90f10760\\expr.ipynb\" target=\"_blank\"><img src=\"__pv_it\\abbc49ef962f9d8be87857ab8289cb2ba90f10760\\expr.png\" style=\"display:inline;vertical-align:middle;\" /></a></span></td></tr>\n"
      ],
      "text/plain": [
       "<proveit._core_.proof.Specialization instance at 0x000000000744A948>"
      ]
     },
     "execution_count": 61,
     "metadata": {},
     "output_type": "execute_result"
    }
   ],
   "source": [
    "Not(b).prove([Equals(b, FALSE)]).proof()"
   ]
  },
  {
   "cell_type": "markdown",
   "metadata": {
    "deletable": true,
    "editable": true
   },
   "source": [
    "Going the other direction, boolean equalities are proven automatically via `Equals.conclude`:"
   ]
  },
  {
   "cell_type": "code",
   "execution_count": 62,
   "metadata": {
    "collapsed": false,
    "deletable": true,
    "editable": true
   },
   "outputs": [
    {
     "data": {
      "text/html": [
       "<span style=\"font-size:20px;\"><a href=\"__pv_it\\61ec5c91ac01adb84c5321f61336a7c2a51828630\\expr.ipynb\" target=\"_blank\"><img src=\"__pv_it\\61ec5c91ac01adb84c5321f61336a7c2a51828630\\expr.png\" style=\"display:inline;vertical-align:middle;\" /></a> &#x22A2;&nbsp;<a href=\"__pv_it\\b14a65dae089357404acdae67f3e401775855ff70\\expr.ipynb\" target=\"_blank\"><img src=\"__pv_it\\b14a65dae089357404acdae67f3e401775855ff70\\expr.png\" style=\"display:inline;vertical-align:middle;\" /></a></span>"
      ],
      "text/plain": [
       "{x} |= x = TRUE"
      ]
     },
     "execution_count": 62,
     "metadata": {},
     "output_type": "execute_result"
    }
   ],
   "source": [
    "Equals(x, TRUE).prove([x])"
   ]
  },
  {
   "cell_type": "code",
   "execution_count": 63,
   "metadata": {
    "collapsed": false,
    "deletable": true,
    "editable": true
   },
   "outputs": [
    {
     "data": {
      "text/html": [
       "<span style=\"font-size:20px;\"><a href=\"__pv_it\\5f74a7b2bbae546c2e07ee309440e95587fc17a10\\expr.ipynb\" target=\"_blank\"><img src=\"__pv_it\\5f74a7b2bbae546c2e07ee309440e95587fc17a10\\expr.png\" style=\"display:inline;vertical-align:middle;\" /></a> &#x22A2;&nbsp;<a href=\"__pv_it\\356b53e65781826c89f98a2abc5d2555391ab6220\\expr.ipynb\" target=\"_blank\"><img src=\"__pv_it\\356b53e65781826c89f98a2abc5d2555391ab6220\\expr.png\" style=\"display:inline;vertical-align:middle;\" /></a></span>"
      ],
      "text/plain": [
       "{y} |= TRUE = y"
      ]
     },
     "execution_count": 63,
     "metadata": {},
     "output_type": "execute_result"
    }
   ],
   "source": [
    "Equals(TRUE, y).prove([y])"
   ]
  },
  {
   "cell_type": "code",
   "execution_count": 64,
   "metadata": {
    "collapsed": false,
    "deletable": true,
    "editable": true
   },
   "outputs": [
    {
     "data": {
      "text/html": [
       "<span style=\"font-size:20px;\"><a href=\"__pv_it\\11c41e53a4ef0e80116d079243e23c0932ec4f3f0\\expr.ipynb\" target=\"_blank\"><img src=\"__pv_it\\11c41e53a4ef0e80116d079243e23c0932ec4f3f0\\expr.png\" style=\"display:inline;vertical-align:middle;\" /></a> &#x22A2;&nbsp;<a href=\"__pv_it\\35b4f2419ec4738e1dd4d49cd738ece68d3bfe6b0\\expr.ipynb\" target=\"_blank\"><img src=\"__pv_it\\35b4f2419ec4738e1dd4d49cd738ece68d3bfe6b0\\expr.png\" style=\"display:inline;vertical-align:middle;\" /></a></span>"
      ],
      "text/plain": [
       "{not(c)} |= c = FALSE"
      ]
     },
     "execution_count": 64,
     "metadata": {},
     "output_type": "execute_result"
    }
   ],
   "source": [
    "Equals(c, FALSE).prove([Not(c)])"
   ]
  },
  {
   "cell_type": "code",
   "execution_count": 65,
   "metadata": {
    "collapsed": false,
    "deletable": true,
    "editable": true
   },
   "outputs": [
    {
     "data": {
      "text/html": [
       "<span style=\"font-size:20px;\"><a href=\"__pv_it\\11c41e53a4ef0e80116d079243e23c0932ec4f3f0\\expr.ipynb\" target=\"_blank\"><img src=\"__pv_it\\11c41e53a4ef0e80116d079243e23c0932ec4f3f0\\expr.png\" style=\"display:inline;vertical-align:middle;\" /></a> &#x22A2;&nbsp;<a href=\"__pv_it\\cafa9d66966c87b27ea90665c566b05bd18788e10\\expr.ipynb\" target=\"_blank\"><img src=\"__pv_it\\cafa9d66966c87b27ea90665c566b05bd18788e10\\expr.png\" style=\"display:inline;vertical-align:middle;\" /></a></span>"
      ],
      "text/plain": [
       "{not(c)} |= FALSE = c"
      ]
     },
     "execution_count": 65,
     "metadata": {},
     "output_type": "execute_result"
    }
   ],
   "source": [
    "Equals(FALSE, c).prove([Not(c)])"
   ]
  },
  {
   "cell_type": "markdown",
   "metadata": {
    "collapsed": true,
    "deletable": true,
    "editable": true
   },
   "source": [
    "When something is equal to `FALSE` and known to be true, there is a contradiction.  That is, `FALSE` is a consequence.  The `deriveContradiction` method of `Equals` can be used to prove such a contradiction:"
   ]
  },
  {
   "cell_type": "code",
   "execution_count": 66,
   "metadata": {
    "collapsed": false,
    "deletable": true,
    "editable": true
   },
   "outputs": [
    {
     "data": {
      "text/html": [
       "<strong id=\"contradiction\">contradiction:</strong> <span style=\"font-size:20px;\"><a href=\"__pv_it\\709284c314f6d0a4f870a63008d3125dfdf3a19a0\\expr.ipynb\" target=\"_blank\"><img src=\"__pv_it\\709284c314f6d0a4f870a63008d3125dfdf3a19a0\\expr.png\" style=\"display:inline;vertical-align:middle;\" /></a> &#x22A2;&nbsp;<a href=\"..\\boolean\\__pv_it\\47da52792f39d479a35c809d6a76a38f9bc20f310\\expr.ipynb\" target=\"_blank\"><img src=\"..\\boolean\\__pv_it\\47da52792f39d479a35c809d6a76a38f9bc20f310\\expr.png\" style=\"display:inline;vertical-align:middle;\" /></a></span><br>"
      ],
      "text/plain": [
       "contradiction: {a,(a = FALSE)} |= FALSE"
      ]
     },
     "execution_count": 66,
     "metadata": {},
     "output_type": "execute_result"
    }
   ],
   "source": [
    "contradiction = Equals(a, FALSE).deriveContradiction([a, Equals(a, FALSE)])"
   ]
  },
  {
   "cell_type": "code",
   "execution_count": 67,
   "metadata": {
    "collapsed": false,
    "deletable": true,
    "editable": true
   },
   "outputs": [
    {
     "data": {
      "text/html": [
       "<table><tr><th>&nbsp;</th><th>step type</th><th>requirements</th><th>statement</th></tr>\n",
       "<tr><td>0</td><td>specialization</td><td>1, 2, 3</td><td><span style=\"font-size:20px;\"><a href=\"__pv_it\\709284c314f6d0a4f870a63008d3125dfdf3a19a0\\expr.ipynb\" target=\"_blank\"><img src=\"__pv_it\\709284c314f6d0a4f870a63008d3125dfdf3a19a0\\expr.png\" style=\"display:inline;vertical-align:middle;\" /></a> &#x22A2;&nbsp;<a href=\"..\\boolean\\__pv_it\\47da52792f39d479a35c809d6a76a38f9bc20f310\\expr.ipynb\" target=\"_blank\"><img src=\"..\\boolean\\__pv_it\\47da52792f39d479a35c809d6a76a38f9bc20f310\\expr.png\" style=\"display:inline;vertical-align:middle;\" /></a></span></td></tr>\n",
       "<tr><td>&nbsp;</td><td colspan=4 style=\"text-align:left\"><span style=\"font-size:20px;\"><a href=\"__pv_it\\ea62ac184f800545049d3be25c53fe60f1d1c83a0\\expr.ipynb\" target=\"_blank\"><img src=\"__pv_it\\ea62ac184f800545049d3be25c53fe60f1d1c83a0\\expr.png\" style=\"display:inline;vertical-align:middle;\" /></a></span></td></tr><tr><td>1</td><td>theorem</td><td></td><td><span style=\"font-size:20px;\"> &#x22A2;&nbsp;<a href=\"__pv_it\\616425f77ced9eb2e6df6d9942b2b19e787e70cb0\\expr.ipynb\" target=\"_blank\"><img src=\"__pv_it\\616425f77ced9eb2e6df6d9942b2b19e787e70cb0\\expr.png\" style=\"display:inline;vertical-align:middle;\" /></a></span></td></tr>\n",
       "<tr><td>&nbsp;</td><td colspan=4 style-\"text-align:left\"><a href=\"_proofs_\\contradictionViaFalsification.ipynb\" target=\"_blank\">proveit.logic.equality.contradictionViaFalsification</a></td></tr><tr><td>2</td><td>assumption</td><td></td><td><span style=\"font-size:20px;\"><a href=\"__pv_it\\977dc7cf8fa594770591c0856704bf4f1b456fa30\\expr.ipynb\" target=\"_blank\"><img src=\"__pv_it\\977dc7cf8fa594770591c0856704bf4f1b456fa30\\expr.png\" style=\"display:inline;vertical-align:middle;\" /></a> &#x22A2;&nbsp;<a href=\"..\\..\\__pv_it\\563df418b2f4501a697ee1a058c2ee5ff8e481000\\expr.ipynb\" target=\"_blank\"><img src=\"..\\..\\__pv_it\\563df418b2f4501a697ee1a058c2ee5ff8e481000\\expr.png\" style=\"display:inline;vertical-align:middle;\" /></a></span></td></tr>\n",
       "<tr><td>3</td><td>assumption</td><td></td><td><span style=\"font-size:20px;\"><a href=\"__pv_it\\f7e4649fa5e0b4788ba7fa8d89ae556875e3c8980\\expr.ipynb\" target=\"_blank\"><img src=\"__pv_it\\f7e4649fa5e0b4788ba7fa8d89ae556875e3c8980\\expr.png\" style=\"display:inline;vertical-align:middle;\" /></a> &#x22A2;&nbsp;<a href=\"__pv_it\\022ae0288107f394774a445f2b4126e0705786b20\\expr.ipynb\" target=\"_blank\"><img src=\"__pv_it\\022ae0288107f394774a445f2b4126e0705786b20\\expr.png\" style=\"display:inline;vertical-align:middle;\" /></a></span></td></tr>\n"
      ],
      "text/plain": [
       "<proveit._core_.proof.Specialization instance at 0x0000000007671248>"
      ]
     },
     "execution_count": 67,
     "metadata": {},
     "output_type": "execute_result"
    }
   ],
   "source": [
    "contradiction.proof()"
   ]
  },
  {
   "cell_type": "markdown",
   "metadata": {
    "deletable": true,
    "editable": true
   },
   "source": [
    "Contradictions are useful in making contradiction proofs (reductio ad absurdum).  The `affirmViaContradiction` and `denyViaContradiction` methods are useful in making such a proof.  They both use `deriveContradiction`.  For example:"
   ]
  },
  {
   "cell_type": "code",
   "execution_count": 68,
   "metadata": {
    "collapsed": false,
    "deletable": true,
    "editable": true
   },
   "outputs": [
    {
     "data": {
      "text/html": [
       "<strong id=\"not_a__truth\">not_a__truth:</strong> <span style=\"font-size:20px;\"><a href=\"__pv_it\\f4c3a20f91ce7dc68ae14f47cf088aeca723d30d0\\expr.ipynb\" target=\"_blank\"><img src=\"__pv_it\\f4c3a20f91ce7dc68ae14f47cf088aeca723d30d0\\expr.png\" style=\"display:inline;vertical-align:middle;\" /></a> &#x22A2;&nbsp;<a href=\"__pv_it\\7d29e8e73dc4cd4a867f2d1fc2813df10a2f1f0c0\\expr.ipynb\" target=\"_blank\"><img src=\"__pv_it\\7d29e8e73dc4cd4a867f2d1fc2813df10a2f1f0c0\\expr.png\" style=\"display:inline;vertical-align:middle;\" /></a></span><br>"
      ],
      "text/plain": [
       "not_a__truth: {(a => (a = FALSE)),(a in BOOLEANS)} |= not(a)"
      ]
     },
     "execution_count": 68,
     "metadata": {},
     "output_type": "execute_result"
    }
   ],
   "source": [
    "from proveit.logic import Implies, inBool\n",
    "not_a__truth = Equals(a, FALSE).affirmViaContradiction(Not(a), [Implies(a, Equals(a, FALSE)), inBool(a)])"
   ]
  },
  {
   "cell_type": "code",
   "execution_count": 69,
   "metadata": {
    "collapsed": false,
    "deletable": true,
    "editable": true
   },
   "outputs": [
    {
     "data": {
      "text/plain": [
       "13"
      ]
     },
     "execution_count": 69,
     "metadata": {},
     "output_type": "execute_result"
    }
   ],
   "source": [
    "not_a__truth.proof().numSteps"
   ]
  },
  {
   "cell_type": "markdown",
   "metadata": {
    "deletable": true,
    "editable": true
   },
   "source": [
    "It is more efficient to use `denyViaContradiction` when proving the negation of something.  Here we prove the same as above but in fewer steps."
   ]
  },
  {
   "cell_type": "code",
   "execution_count": 70,
   "metadata": {
    "collapsed": false,
    "deletable": true,
    "editable": true
   },
   "outputs": [
    {
     "data": {
      "text/html": [
       "<strong id=\"not_b__truth\">not_b__truth:</strong> <span style=\"font-size:20px;\"><a href=\"__pv_it\\90732f4d679b7973abb167567b6f0763cbf9e68d0\\expr.ipynb\" target=\"_blank\"><img src=\"__pv_it\\90732f4d679b7973abb167567b6f0763cbf9e68d0\\expr.png\" style=\"display:inline;vertical-align:middle;\" /></a> &#x22A2;&nbsp;<a href=\"__pv_it\\14e5307965a0f2efb3fce04d31ff4b4f54c049750\\expr.ipynb\" target=\"_blank\"><img src=\"__pv_it\\14e5307965a0f2efb3fce04d31ff4b4f54c049750\\expr.png\" style=\"display:inline;vertical-align:middle;\" /></a></span><br>"
      ],
      "text/plain": [
       "not_b__truth: {(b => (b = FALSE)),(b in BOOLEANS)} |= not(b)"
      ]
     },
     "execution_count": 70,
     "metadata": {},
     "output_type": "execute_result"
    }
   ],
   "source": [
    "not_b__truth = Equals(b, FALSE).denyViaContradiction(b, [Implies(b, Equals(b, FALSE)), inBool(b)])"
   ]
  },
  {
   "cell_type": "code",
   "execution_count": 71,
   "metadata": {
    "collapsed": false,
    "deletable": true,
    "editable": true
   },
   "outputs": [
    {
     "data": {
      "text/plain": [
       "9"
      ]
     },
     "execution_count": 71,
     "metadata": {},
     "output_type": "execute_result"
    }
   ],
   "source": [
    "not_b__truth.proof().numSteps"
   ]
  },
  {
   "cell_type": "code",
   "execution_count": 72,
   "metadata": {
    "collapsed": false,
    "deletable": true,
    "editable": true
   },
   "outputs": [
    {
     "data": {
      "text/html": [
       "<table><tr><th>&nbsp;</th><th>step type</th><th>requirements</th><th>statement</th></tr>\n",
       "<tr><td>0</td><td>specialization</td><td>1, 2, 3</td><td><span style=\"font-size:20px;\"><a href=\"__pv_it\\90732f4d679b7973abb167567b6f0763cbf9e68d0\\expr.ipynb\" target=\"_blank\"><img src=\"__pv_it\\90732f4d679b7973abb167567b6f0763cbf9e68d0\\expr.png\" style=\"display:inline;vertical-align:middle;\" /></a> &#x22A2;&nbsp;<a href=\"__pv_it\\14e5307965a0f2efb3fce04d31ff4b4f54c049750\\expr.ipynb\" target=\"_blank\"><img src=\"__pv_it\\14e5307965a0f2efb3fce04d31ff4b4f54c049750\\expr.png\" style=\"display:inline;vertical-align:middle;\" /></a></span></td></tr>\n",
       "<tr><td>&nbsp;</td><td colspan=4 style=\"text-align:left\"><span style=\"font-size:20px;\"><a href=\"__pv_it\\1935b6b81fb1014ee6500a8b165edc4f95a55df30\\expr.ipynb\" target=\"_blank\"><img src=\"__pv_it\\1935b6b81fb1014ee6500a8b165edc4f95a55df30\\expr.png\" style=\"display:inline;vertical-align:middle;\" /></a></span></td></tr><tr><td>1</td><td>theorem</td><td></td><td><span style=\"font-size:20px;\"> &#x22A2;&nbsp;<a href=\"..\\boolean\\implication\\__pv_it\\b7a7492186b4d615155c5b0883b5fe153722b7600\\expr.ipynb\" target=\"_blank\"><img src=\"..\\boolean\\implication\\__pv_it\\b7a7492186b4d615155c5b0883b5fe153722b7600\\expr.png\" style=\"display:inline;vertical-align:middle;\" /></a></span></td></tr>\n",
       "<tr><td>&nbsp;</td><td colspan=4 style-\"text-align:left\"><a href=\"..\\boolean\\implication\\_proofs_\\denyViaContradiction.ipynb\" target=\"_blank\">proveit.logic.boolean.implication.denyViaContradiction</a></td></tr><tr><td>2</td><td>hypothetical reasoning</td><td>4</td><td><span style=\"font-size:20px;\"><a href=\"__pv_it\\d3c9c2f628d9a14f607cf85ad7e7652616d6e4ad0\\expr.ipynb\" target=\"_blank\"><img src=\"__pv_it\\d3c9c2f628d9a14f607cf85ad7e7652616d6e4ad0\\expr.png\" style=\"display:inline;vertical-align:middle;\" /></a> &#x22A2;&nbsp;<a href=\"__pv_it\\6cf3984eacc7ef568ad3bebe1d97f66db0d914ed0\\expr.ipynb\" target=\"_blank\"><img src=\"__pv_it\\6cf3984eacc7ef568ad3bebe1d97f66db0d914ed0\\expr.png\" style=\"display:inline;vertical-align:middle;\" /></a></span></td></tr>\n",
       "<tr><td>3</td><td>assumption</td><td></td><td><span style=\"font-size:20px;\"><a href=\"__pv_it\\a0830438266e18fdb133e1914935ebb8cd5912700\\expr.ipynb\" target=\"_blank\"><img src=\"__pv_it\\a0830438266e18fdb133e1914935ebb8cd5912700\\expr.png\" style=\"display:inline;vertical-align:middle;\" /></a> &#x22A2;&nbsp;<a href=\"__pv_it\\dbe3917f6ca0cd27033f2bbd7513ae5037bee9720\\expr.ipynb\" target=\"_blank\"><img src=\"__pv_it\\dbe3917f6ca0cd27033f2bbd7513ae5037bee9720\\expr.png\" style=\"display:inline;vertical-align:middle;\" /></a></span></td></tr>\n",
       "<tr><td>4</td><td>specialization</td><td>5, 8, 6</td><td><span style=\"font-size:20px;\"><a href=\"__pv_it\\14065979a4f452526f5d92d8ae14b93826d4b75b0\\expr.ipynb\" target=\"_blank\"><img src=\"__pv_it\\14065979a4f452526f5d92d8ae14b93826d4b75b0\\expr.png\" style=\"display:inline;vertical-align:middle;\" /></a> &#x22A2;&nbsp;<a href=\"..\\boolean\\__pv_it\\47da52792f39d479a35c809d6a76a38f9bc20f310\\expr.ipynb\" target=\"_blank\"><img src=\"..\\boolean\\__pv_it\\47da52792f39d479a35c809d6a76a38f9bc20f310\\expr.png\" style=\"display:inline;vertical-align:middle;\" /></a></span></td></tr>\n",
       "<tr><td>&nbsp;</td><td colspan=4 style=\"text-align:left\"><span style=\"font-size:20px;\"><a href=\"__pv_it\\1935b6b81fb1014ee6500a8b165edc4f95a55df30\\expr.ipynb\" target=\"_blank\"><img src=\"__pv_it\\1935b6b81fb1014ee6500a8b165edc4f95a55df30\\expr.png\" style=\"display:inline;vertical-align:middle;\" /></a></span></td></tr><tr><td>5</td><td>theorem</td><td></td><td><span style=\"font-size:20px;\"> &#x22A2;&nbsp;<a href=\"__pv_it\\616425f77ced9eb2e6df6d9942b2b19e787e70cb0\\expr.ipynb\" target=\"_blank\"><img src=\"__pv_it\\616425f77ced9eb2e6df6d9942b2b19e787e70cb0\\expr.png\" style=\"display:inline;vertical-align:middle;\" /></a></span></td></tr>\n",
       "<tr><td>&nbsp;</td><td colspan=4 style-\"text-align:left\"><a href=\"_proofs_\\contradictionViaFalsification.ipynb\" target=\"_blank\">proveit.logic.equality.contradictionViaFalsification</a></td></tr><tr><td>6</td><td>modus ponens</td><td>7, 8</td><td><span style=\"font-size:20px;\"><a href=\"__pv_it\\14065979a4f452526f5d92d8ae14b93826d4b75b0\\expr.ipynb\" target=\"_blank\"><img src=\"__pv_it\\14065979a4f452526f5d92d8ae14b93826d4b75b0\\expr.png\" style=\"display:inline;vertical-align:middle;\" /></a> &#x22A2;&nbsp;<a href=\"__pv_it\\abbc49ef962f9d8be87857ab8289cb2ba90f10760\\expr.ipynb\" target=\"_blank\"><img src=\"__pv_it\\abbc49ef962f9d8be87857ab8289cb2ba90f10760\\expr.png\" style=\"display:inline;vertical-align:middle;\" /></a></span></td></tr>\n",
       "<tr><td>7</td><td>assumption</td><td></td><td><span style=\"font-size:20px;\"><a href=\"__pv_it\\d3c9c2f628d9a14f607cf85ad7e7652616d6e4ad0\\expr.ipynb\" target=\"_blank\"><img src=\"__pv_it\\d3c9c2f628d9a14f607cf85ad7e7652616d6e4ad0\\expr.png\" style=\"display:inline;vertical-align:middle;\" /></a> &#x22A2;&nbsp;<a href=\"__pv_it\\20f2657704c89b8b1bb83f8225171cde15aaa9080\\expr.ipynb\" target=\"_blank\"><img src=\"__pv_it\\20f2657704c89b8b1bb83f8225171cde15aaa9080\\expr.png\" style=\"display:inline;vertical-align:middle;\" /></a></span></td></tr>\n",
       "<tr><td>8</td><td>assumption</td><td></td><td><span style=\"font-size:20px;\"><a href=\"__pv_it\\4bce6eddbb1d155ad4ee3215c44f8eaec9659a670\\expr.ipynb\" target=\"_blank\"><img src=\"__pv_it\\4bce6eddbb1d155ad4ee3215c44f8eaec9659a670\\expr.png\" style=\"display:inline;vertical-align:middle;\" /></a> &#x22A2;&nbsp;<a href=\"..\\..\\__pv_it\\c96df9db102bf2dcd5fad662469a963bfcb9d23c0\\expr.ipynb\" target=\"_blank\"><img src=\"..\\..\\__pv_it\\c96df9db102bf2dcd5fad662469a963bfcb9d23c0\\expr.png\" style=\"display:inline;vertical-align:middle;\" /></a></span></td></tr>\n"
      ],
      "text/plain": [
       "<proveit._core_.proof.Specialization instance at 0x00000000078953C8>"
      ]
     },
     "execution_count": 72,
     "metadata": {},
     "output_type": "execute_result"
    }
   ],
   "source": [
    "not_b__truth.proof()"
   ]
  },
  {
   "cell_type": "markdown",
   "metadata": {
    "deletable": true,
    "editable": true
   },
   "source": [
    "## Equality and sets"
   ]
  },
  {
   "cell_type": "markdown",
   "metadata": {
    "deletable": true,
    "editable": true
   },
   "source": [
    "All equality expressions are in the boolean set by the `equalityInBool` axiom.  That is, given any two mathematical objects, they are either equal or not (even nonsense is either the same nonsense or different nonsense)."
   ]
  },
  {
   "cell_type": "code",
   "execution_count": 73,
   "metadata": {
    "collapsed": false,
    "deletable": true,
    "editable": true
   },
   "outputs": [
    {
     "data": {
      "text/html": [
       "<strong id=\"eq_in_bool\">eq_in_bool:</strong> <span style=\"font-size:20px;\"> &#x22A2;&nbsp;<a href=\"__pv_it\\3fac1bbef8ae94b119dc9198358fe8561241e61f0\\expr.ipynb\" target=\"_blank\"><img src=\"__pv_it\\3fac1bbef8ae94b119dc9198358fe8561241e61f0\\expr.png\" style=\"display:inline;vertical-align:middle;\" /></a></span><br>"
      ],
      "text/plain": [
       "eq_in_bool: |= (a = b) in BOOLEANS"
      ]
     },
     "execution_count": 73,
     "metadata": {},
     "output_type": "execute_result"
    }
   ],
   "source": [
    "eq_in_bool = Equals(a, b).deduceInBool()"
   ]
  },
  {
   "cell_type": "code",
   "execution_count": 74,
   "metadata": {
    "collapsed": false,
    "deletable": true,
    "editable": true
   },
   "outputs": [
    {
     "data": {
      "text/html": [
       "<table><tr><th>&nbsp;</th><th>step type</th><th>requirements</th><th>statement</th></tr>\n",
       "<tr><td>0</td><td>specialization</td><td>1</td><td><span style=\"font-size:20px;\"> &#x22A2;&nbsp;<a href=\"__pv_it\\3fac1bbef8ae94b119dc9198358fe8561241e61f0\\expr.ipynb\" target=\"_blank\"><img src=\"__pv_it\\3fac1bbef8ae94b119dc9198358fe8561241e61f0\\expr.png\" style=\"display:inline;vertical-align:middle;\" /></a></span></td></tr>\n",
       "<tr><td>&nbsp;</td><td colspan=4 style=\"text-align:left\"><span style=\"font-size:20px;\"><a href=\"__pv_it\\13859e70f2fd014e6a89679f87c2573da47e36a20\\expr.ipynb\" target=\"_blank\"><img src=\"__pv_it\\13859e70f2fd014e6a89679f87c2573da47e36a20\\expr.png\" style=\"display:inline;vertical-align:middle;\" /></a>, <a href=\"__pv_it\\df345c595a967fd0d4ca4f1281e9c8988a9ffbc10\\expr.ipynb\" target=\"_blank\"><img src=\"__pv_it\\df345c595a967fd0d4ca4f1281e9c8988a9ffbc10\\expr.png\" style=\"display:inline;vertical-align:middle;\" /></a></span></td></tr><tr><td>1</td><td>axiom</td><td></td><td><span style=\"font-size:20px;\"> &#x22A2;&nbsp;<a href=\"__pv_it\\6f9af3a0208a65e3fc066e91f372d475e547985d0\\expr.ipynb\" target=\"_blank\"><img src=\"__pv_it\\6f9af3a0208a65e3fc066e91f372d475e547985d0\\expr.png\" style=\"display:inline;vertical-align:middle;\" /></a></span></td></tr>\n",
       "<tr><td>&nbsp;</td><td colspan=4 style-\"text-align:left\"><a href=\"_axioms_.ipynb#equalityInBool\" target=\"_blank\">proveit.logic.equality.equalityInBool</a></td></tr>"
      ],
      "text/plain": [
       "<proveit._core_.proof.Specialization instance at 0x00000000078A2348>"
      ]
     },
     "execution_count": 74,
     "metadata": {},
     "output_type": "execute_result"
    }
   ],
   "source": [
    "eq_in_bool.proof()"
   ]
  },
  {
   "cell_type": "markdown",
   "metadata": {
    "deletable": true,
    "editable": true
   },
   "source": [
    "A singleton is a set with one element.  If $x=c$, then $x$ is in the singleton set of $\\{c\\}$:"
   ]
  },
  {
   "cell_type": "code",
   "execution_count": 75,
   "metadata": {
    "collapsed": false,
    "deletable": true,
    "editable": true
   },
   "outputs": [
    {
     "data": {
      "text/html": [
       "<strong id=\"in_singleton_truth\">in_singleton_truth:</strong> <span style=\"font-size:20px;\"><a href=\"__pv_it\\64b9f4fabdf3fc8c31d0c2b7a57d6728cb9704000\\expr.ipynb\" target=\"_blank\"><img src=\"__pv_it\\64b9f4fabdf3fc8c31d0c2b7a57d6728cb9704000\\expr.png\" style=\"display:inline;vertical-align:middle;\" /></a> &#x22A2;&nbsp;<a href=\"__pv_it\\26740eb9c21b4a80275489c946344684b3d7b7920\\expr.ipynb\" target=\"_blank\"><img src=\"__pv_it\\26740eb9c21b4a80275489c946344684b3d7b7920\\expr.png\" style=\"display:inline;vertical-align:middle;\" /></a></span><br>"
      ],
      "text/plain": [
       "in_singleton_truth: {(x = c)} |= x in {c}"
      ]
     },
     "execution_count": 75,
     "metadata": {},
     "output_type": "execute_result"
    }
   ],
   "source": [
    "in_singleton_truth = Equals(x, c).deriveIsInSingleton([Equals(x, c)])"
   ]
  },
  {
   "cell_type": "code",
   "execution_count": 76,
   "metadata": {
    "collapsed": false,
    "deletable": true,
    "editable": true
   },
   "outputs": [
    {
     "data": {
      "text/html": [
       "<table><tr><th>&nbsp;</th><th>step type</th><th>requirements</th><th>statement</th></tr>\n",
       "<tr><td>0</td><td>specialization</td><td>1, 2</td><td><span style=\"font-size:20px;\"><a href=\"__pv_it\\64b9f4fabdf3fc8c31d0c2b7a57d6728cb9704000\\expr.ipynb\" target=\"_blank\"><img src=\"__pv_it\\64b9f4fabdf3fc8c31d0c2b7a57d6728cb9704000\\expr.png\" style=\"display:inline;vertical-align:middle;\" /></a> &#x22A2;&nbsp;<a href=\"__pv_it\\26740eb9c21b4a80275489c946344684b3d7b7920\\expr.ipynb\" target=\"_blank\"><img src=\"__pv_it\\26740eb9c21b4a80275489c946344684b3d7b7920\\expr.png\" style=\"display:inline;vertical-align:middle;\" /></a></span></td></tr>\n",
       "<tr><td>&nbsp;</td><td colspan=4 style=\"text-align:left\"><span style=\"font-size:20px;\"><a href=\"__pv_it\\23e540d4d2e05c2277f1f7546ef606d2b7a7bad90\\expr.ipynb\" target=\"_blank\"><img src=\"__pv_it\\23e540d4d2e05c2277f1f7546ef606d2b7a7bad90\\expr.png\" style=\"display:inline;vertical-align:middle;\" /></a>, <a href=\"__pv_it\\712e312766299ae55d8f161b5b8c3f7fb71e00820\\expr.ipynb\" target=\"_blank\"><img src=\"__pv_it\\712e312766299ae55d8f161b5b8c3f7fb71e00820\\expr.png\" style=\"display:inline;vertical-align:middle;\" /></a></span></td></tr><tr><td>1</td><td>theorem</td><td></td><td><span style=\"font-size:20px;\"> &#x22A2;&nbsp;<a href=\"..\\set_theory\\enumeration\\__pv_it\\7aad8116f81e834cd0345013b4ba060a8a323f5c0\\expr.ipynb\" target=\"_blank\"><img src=\"..\\set_theory\\enumeration\\__pv_it\\7aad8116f81e834cd0345013b4ba060a8a323f5c0\\expr.png\" style=\"display:inline;vertical-align:middle;\" /></a></span></td></tr>\n",
       "<tr><td>&nbsp;</td><td colspan=4 style-\"text-align:left\"><a href=\"..\\set_theory\\enumeration\\_proofs_\\foldSingleton.ipynb\" target=\"_blank\">proveit.logic.set_theory.enumeration.foldSingleton</a></td></tr><tr><td>2</td><td>assumption</td><td></td><td><span style=\"font-size:20px;\"><a href=\"__pv_it\\64b9f4fabdf3fc8c31d0c2b7a57d6728cb9704000\\expr.ipynb\" target=\"_blank\"><img src=\"__pv_it\\64b9f4fabdf3fc8c31d0c2b7a57d6728cb9704000\\expr.png\" style=\"display:inline;vertical-align:middle;\" /></a> &#x22A2;&nbsp;<a href=\"__pv_it\\cb59f202061d92fd4b500d8717ed165f63c7372b0\\expr.ipynb\" target=\"_blank\"><img src=\"__pv_it\\cb59f202061d92fd4b500d8717ed165f63c7372b0\\expr.png\" style=\"display:inline;vertical-align:middle;\" /></a></span></td></tr>\n"
      ],
      "text/plain": [
       "<proveit._core_.proof.Specialization instance at 0x00000000078958C8>"
      ]
     },
     "execution_count": 76,
     "metadata": {},
     "output_type": "execute_result"
    }
   ],
   "source": [
    "in_singleton_truth.proof()"
   ]
  },
  {
   "cell_type": "markdown",
   "metadata": {
    "collapsed": true,
    "deletable": true,
    "editable": true
   },
   "source": [
    "## Not equals\n",
    "\n",
    "The `NotEquals` operation is a more way of expressing that two mathematical objects are not equal to each other."
   ]
  },
  {
   "cell_type": "code",
   "execution_count": 77,
   "metadata": {
    "collapsed": false,
    "deletable": true,
    "editable": true
   },
   "outputs": [],
   "source": [
    "from proveit.logic import NotEquals"
   ]
  },
  {
   "cell_type": "code",
   "execution_count": 78,
   "metadata": {
    "collapsed": false,
    "deletable": true,
    "editable": true
   },
   "outputs": [
    {
     "data": {
      "text/html": [
       "<strong id=\"a_neq_b\">a_neq_b:</strong> <a href=\"__pv_it\\36675c907370c4cb784dcce5ee09f11ac7f101c90\\expr.ipynb\" target=\"_blank\"><img src=\"__pv_it\\36675c907370c4cb784dcce5ee09f11ac7f101c90\\expr.png\" style=\"display:inline;vertical-align:middle;\" /></a><br>"
      ],
      "text/plain": [
       "a_neq_b: a != b"
      ]
     },
     "execution_count": 78,
     "metadata": {},
     "output_type": "execute_result"
    }
   ],
   "source": [
    "a_neq_b = NotEquals(a, b)"
   ]
  },
  {
   "cell_type": "code",
   "execution_count": 79,
   "metadata": {
    "collapsed": false,
    "deletable": true,
    "editable": true
   },
   "outputs": [
    {
     "data": {
      "text/html": [
       "<span style=\"font-size:20px;\"> &#x22A2;&nbsp;<a href=\"__pv_it\\f4463fee0ca052dfa713ca628371fd1e24f8f76e0\\expr.ipynb\" target=\"_blank\"><img src=\"__pv_it\\f4463fee0ca052dfa713ca628371fd1e24f8f76e0\\expr.png\" style=\"display:inline;vertical-align:middle;\" /></a></span>"
      ],
      "text/plain": [
       "|= (a != b) = not(a = b)"
      ]
     },
     "execution_count": 79,
     "metadata": {},
     "output_type": "execute_result"
    }
   ],
   "source": [
    "a_neq_b.definition()"
   ]
  },
  {
   "cell_type": "code",
   "execution_count": 80,
   "metadata": {
    "collapsed": false,
    "deletable": true,
    "editable": true
   },
   "outputs": [
    {
     "data": {
      "text/html": [
       "<table><tr><th>&nbsp;</th><th>step type</th><th>requirements</th><th>statement</th></tr>\n",
       "<tr><td>0</td><td>specialization</td><td>1</td><td><span style=\"font-size:20px;\"> &#x22A2;&nbsp;<a href=\"__pv_it\\f4463fee0ca052dfa713ca628371fd1e24f8f76e0\\expr.ipynb\" target=\"_blank\"><img src=\"__pv_it\\f4463fee0ca052dfa713ca628371fd1e24f8f76e0\\expr.png\" style=\"display:inline;vertical-align:middle;\" /></a></span></td></tr>\n",
       "<tr><td>&nbsp;</td><td colspan=4 style=\"text-align:left\"><span style=\"font-size:20px;\"><a href=\"__pv_it\\13859e70f2fd014e6a89679f87c2573da47e36a20\\expr.ipynb\" target=\"_blank\"><img src=\"__pv_it\\13859e70f2fd014e6a89679f87c2573da47e36a20\\expr.png\" style=\"display:inline;vertical-align:middle;\" /></a>, <a href=\"__pv_it\\df345c595a967fd0d4ca4f1281e9c8988a9ffbc10\\expr.ipynb\" target=\"_blank\"><img src=\"__pv_it\\df345c595a967fd0d4ca4f1281e9c8988a9ffbc10\\expr.png\" style=\"display:inline;vertical-align:middle;\" /></a></span></td></tr><tr><td>1</td><td>axiom</td><td></td><td><span style=\"font-size:20px;\"> &#x22A2;&nbsp;<a href=\"__pv_it\\fac45f699b77d323cb425b36ddc83aa313405c830\\expr.ipynb\" target=\"_blank\"><img src=\"__pv_it\\fac45f699b77d323cb425b36ddc83aa313405c830\\expr.png\" style=\"display:inline;vertical-align:middle;\" /></a></span></td></tr>\n",
       "<tr><td>&nbsp;</td><td colspan=4 style-\"text-align:left\"><a href=\"_axioms_.ipynb#notEqualsDef\" target=\"_blank\">proveit.logic.equality.notEqualsDef</a></td></tr>"
      ],
      "text/plain": [
       "<proveit._core_.proof.Specialization instance at 0x00000000078B4A08>"
      ]
     },
     "execution_count": 80,
     "metadata": {},
     "output_type": "execute_result"
    }
   ],
   "source": [
    "a_neq_b.definition().proof()"
   ]
  },
  {
   "cell_type": "markdown",
   "metadata": {
    "deletable": true,
    "editable": true
   },
   "source": [
    "From $\\lnot (a = b)$ one can derive $a \\neq b$ and vice-versa, folding and unfolding the `NotEquals`."
   ]
  },
  {
   "cell_type": "code",
   "execution_count": 81,
   "metadata": {
    "collapsed": false,
    "deletable": true,
    "editable": true
   },
   "outputs": [
    {
     "data": {
      "text/html": [
       "<span style=\"font-size:20px;\"><a href=\"__pv_it\\e2d42b6e245e94b8f7c33261b7dcb5f3eec45ac30\\expr.ipynb\" target=\"_blank\"><img src=\"__pv_it\\e2d42b6e245e94b8f7c33261b7dcb5f3eec45ac30\\expr.png\" style=\"display:inline;vertical-align:middle;\" /></a> &#x22A2;&nbsp;<a href=\"__pv_it\\36675c907370c4cb784dcce5ee09f11ac7f101c90\\expr.ipynb\" target=\"_blank\"><img src=\"__pv_it\\36675c907370c4cb784dcce5ee09f11ac7f101c90\\expr.png\" style=\"display:inline;vertical-align:middle;\" /></a></span>"
      ],
      "text/plain": [
       "{not(a = b)} |= a != b"
      ]
     },
     "execution_count": 81,
     "metadata": {},
     "output_type": "execute_result"
    }
   ],
   "source": [
    "a_neq_b.prove([Not(a_eq_b)])"
   ]
  },
  {
   "cell_type": "code",
   "execution_count": 82,
   "metadata": {
    "collapsed": false,
    "deletable": true,
    "editable": true
   },
   "outputs": [
    {
     "data": {
      "text/html": [
       "<table><tr><th>&nbsp;</th><th>step type</th><th>requirements</th><th>statement</th></tr>\n",
       "<tr><td>0</td><td>specialization</td><td>1, 2</td><td><span style=\"font-size:20px;\"><a href=\"__pv_it\\e2d42b6e245e94b8f7c33261b7dcb5f3eec45ac30\\expr.ipynb\" target=\"_blank\"><img src=\"__pv_it\\e2d42b6e245e94b8f7c33261b7dcb5f3eec45ac30\\expr.png\" style=\"display:inline;vertical-align:middle;\" /></a> &#x22A2;&nbsp;<a href=\"__pv_it\\36675c907370c4cb784dcce5ee09f11ac7f101c90\\expr.ipynb\" target=\"_blank\"><img src=\"__pv_it\\36675c907370c4cb784dcce5ee09f11ac7f101c90\\expr.png\" style=\"display:inline;vertical-align:middle;\" /></a></span></td></tr>\n",
       "<tr><td>&nbsp;</td><td colspan=4 style=\"text-align:left\"><span style=\"font-size:20px;\"><a href=\"__pv_it\\13859e70f2fd014e6a89679f87c2573da47e36a20\\expr.ipynb\" target=\"_blank\"><img src=\"__pv_it\\13859e70f2fd014e6a89679f87c2573da47e36a20\\expr.png\" style=\"display:inline;vertical-align:middle;\" /></a>, <a href=\"__pv_it\\df345c595a967fd0d4ca4f1281e9c8988a9ffbc10\\expr.ipynb\" target=\"_blank\"><img src=\"__pv_it\\df345c595a967fd0d4ca4f1281e9c8988a9ffbc10\\expr.png\" style=\"display:inline;vertical-align:middle;\" /></a></span></td></tr><tr><td>1</td><td>theorem</td><td></td><td><span style=\"font-size:20px;\"> &#x22A2;&nbsp;<a href=\"__pv_it\\7699daf8cf1db07c17fa3d989694db08d297e06f0\\expr.ipynb\" target=\"_blank\"><img src=\"__pv_it\\7699daf8cf1db07c17fa3d989694db08d297e06f0\\expr.png\" style=\"display:inline;vertical-align:middle;\" /></a></span></td></tr>\n",
       "<tr><td>&nbsp;</td><td colspan=4 style-\"text-align:left\"><a href=\"_proofs_\\foldNotEquals.ipynb\" target=\"_blank\">proveit.logic.equality.foldNotEquals</a></td></tr><tr><td>2</td><td>assumption</td><td></td><td><span style=\"font-size:20px;\"><a href=\"__pv_it\\e2d42b6e245e94b8f7c33261b7dcb5f3eec45ac30\\expr.ipynb\" target=\"_blank\"><img src=\"__pv_it\\e2d42b6e245e94b8f7c33261b7dcb5f3eec45ac30\\expr.png\" style=\"display:inline;vertical-align:middle;\" /></a> &#x22A2;&nbsp;<a href=\"__pv_it\\44f4aa1c79ffabab5fe8228aee7123394978576e0\\expr.ipynb\" target=\"_blank\"><img src=\"__pv_it\\44f4aa1c79ffabab5fe8228aee7123394978576e0\\expr.png\" style=\"display:inline;vertical-align:middle;\" /></a></span></td></tr>\n"
      ],
      "text/plain": [
       "<proveit._core_.proof.Specialization instance at 0x00000000079277C8>"
      ]
     },
     "execution_count": 82,
     "metadata": {},
     "output_type": "execute_result"
    }
   ],
   "source": [
    "a_neq_b.prove([Not(a_eq_b)]).proof()"
   ]
  },
  {
   "cell_type": "code",
   "execution_count": 83,
   "metadata": {
    "collapsed": false,
    "deletable": true,
    "editable": true
   },
   "outputs": [
    {
     "data": {
      "text/html": [
       "<span style=\"font-size:20px;\"><a href=\"__pv_it\\5656180134e618e134b78c168c73fc70bd1ac6320\\expr.ipynb\" target=\"_blank\"><img src=\"__pv_it\\5656180134e618e134b78c168c73fc70bd1ac6320\\expr.png\" style=\"display:inline;vertical-align:middle;\" /></a> &#x22A2;&nbsp;<a href=\"__pv_it\\44f4aa1c79ffabab5fe8228aee7123394978576e0\\expr.ipynb\" target=\"_blank\"><img src=\"__pv_it\\44f4aa1c79ffabab5fe8228aee7123394978576e0\\expr.png\" style=\"display:inline;vertical-align:middle;\" /></a></span>"
      ],
      "text/plain": [
       "{(a != b)} |= not(a = b)"
      ]
     },
     "execution_count": 83,
     "metadata": {},
     "output_type": "execute_result"
    }
   ],
   "source": [
    "Not(a_eq_b).prove([a_neq_b])"
   ]
  },
  {
   "cell_type": "code",
   "execution_count": 84,
   "metadata": {
    "collapsed": false,
    "deletable": true,
    "editable": true
   },
   "outputs": [
    {
     "data": {
      "text/html": [
       "<table><tr><th>&nbsp;</th><th>step type</th><th>requirements</th><th>statement</th></tr>\n",
       "<tr><td>0</td><td>specialization</td><td>1, 2</td><td><span style=\"font-size:20px;\"><a href=\"__pv_it\\5656180134e618e134b78c168c73fc70bd1ac6320\\expr.ipynb\" target=\"_blank\"><img src=\"__pv_it\\5656180134e618e134b78c168c73fc70bd1ac6320\\expr.png\" style=\"display:inline;vertical-align:middle;\" /></a> &#x22A2;&nbsp;<a href=\"__pv_it\\44f4aa1c79ffabab5fe8228aee7123394978576e0\\expr.ipynb\" target=\"_blank\"><img src=\"__pv_it\\44f4aa1c79ffabab5fe8228aee7123394978576e0\\expr.png\" style=\"display:inline;vertical-align:middle;\" /></a></span></td></tr>\n",
       "<tr><td>&nbsp;</td><td colspan=4 style=\"text-align:left\"><span style=\"font-size:20px;\"><a href=\"__pv_it\\13859e70f2fd014e6a89679f87c2573da47e36a20\\expr.ipynb\" target=\"_blank\"><img src=\"__pv_it\\13859e70f2fd014e6a89679f87c2573da47e36a20\\expr.png\" style=\"display:inline;vertical-align:middle;\" /></a>, <a href=\"__pv_it\\df345c595a967fd0d4ca4f1281e9c8988a9ffbc10\\expr.ipynb\" target=\"_blank\"><img src=\"__pv_it\\df345c595a967fd0d4ca4f1281e9c8988a9ffbc10\\expr.png\" style=\"display:inline;vertical-align:middle;\" /></a></span></td></tr><tr><td>1</td><td>theorem</td><td></td><td><span style=\"font-size:20px;\"> &#x22A2;&nbsp;<a href=\"__pv_it\\2b3064459bc0191f077cc0abfacd54a8509739690\\expr.ipynb\" target=\"_blank\"><img src=\"__pv_it\\2b3064459bc0191f077cc0abfacd54a8509739690\\expr.png\" style=\"display:inline;vertical-align:middle;\" /></a></span></td></tr>\n",
       "<tr><td>&nbsp;</td><td colspan=4 style-\"text-align:left\"><a href=\"_proofs_\\unfoldNotEquals.ipynb\" target=\"_blank\">proveit.logic.equality.unfoldNotEquals</a></td></tr><tr><td>2</td><td>assumption</td><td></td><td><span style=\"font-size:20px;\"><a href=\"__pv_it\\5656180134e618e134b78c168c73fc70bd1ac6320\\expr.ipynb\" target=\"_blank\"><img src=\"__pv_it\\5656180134e618e134b78c168c73fc70bd1ac6320\\expr.png\" style=\"display:inline;vertical-align:middle;\" /></a> &#x22A2;&nbsp;<a href=\"__pv_it\\36675c907370c4cb784dcce5ee09f11ac7f101c90\\expr.ipynb\" target=\"_blank\"><img src=\"__pv_it\\36675c907370c4cb784dcce5ee09f11ac7f101c90\\expr.png\" style=\"display:inline;vertical-align:middle;\" /></a></span></td></tr>\n"
      ],
      "text/plain": [
       "<proveit._core_.proof.Specialization instance at 0x00000000079B4588>"
      ]
     },
     "execution_count": 84,
     "metadata": {},
     "output_type": "execute_result"
    }
   ],
   "source": [
    "Not(a_eq_b).prove([a_neq_b]).proof()"
   ]
  },
  {
   "cell_type": "markdown",
   "metadata": {
    "deletable": true,
    "editable": true
   },
   "source": [
    "`NotEquals` also has a symmetry property which can be applied directly.  It can be proven  through automation."
   ]
  },
  {
   "cell_type": "code",
   "execution_count": 85,
   "metadata": {
    "collapsed": false,
    "deletable": true,
    "editable": true
   },
   "outputs": [
    {
     "data": {
      "text/html": [
       "<span style=\"font-size:20px;\"><a href=\"__pv_it\\5656180134e618e134b78c168c73fc70bd1ac6320\\expr.ipynb\" target=\"_blank\"><img src=\"__pv_it\\5656180134e618e134b78c168c73fc70bd1ac6320\\expr.png\" style=\"display:inline;vertical-align:middle;\" /></a> &#x22A2;&nbsp;<a href=\"__pv_it\\dd5ba2c0906d8ca1464dbfcf2aaa905a01fb7bdb0\\expr.ipynb\" target=\"_blank\"><img src=\"__pv_it\\dd5ba2c0906d8ca1464dbfcf2aaa905a01fb7bdb0\\expr.png\" style=\"display:inline;vertical-align:middle;\" /></a></span>"
      ],
      "text/plain": [
       "{(a != b)} |= b != a"
      ]
     },
     "execution_count": 85,
     "metadata": {},
     "output_type": "execute_result"
    }
   ],
   "source": [
    "NotEquals(b, a).prove([a_neq_b])"
   ]
  },
  {
   "cell_type": "markdown",
   "metadata": {
    "deletable": true,
    "editable": true
   },
   "source": [
    "Or explicitly via `deriveReversed`"
   ]
  },
  {
   "cell_type": "code",
   "execution_count": 86,
   "metadata": {
    "collapsed": false,
    "deletable": true,
    "editable": true
   },
   "outputs": [
    {
     "data": {
      "text/html": [
       "<table><tr><th>&nbsp;</th><th>step type</th><th>requirements</th><th>statement</th></tr>\n",
       "<tr><td>0</td><td>specialization</td><td>1, 2</td><td><span style=\"font-size:20px;\"><a href=\"__pv_it\\5656180134e618e134b78c168c73fc70bd1ac6320\\expr.ipynb\" target=\"_blank\"><img src=\"__pv_it\\5656180134e618e134b78c168c73fc70bd1ac6320\\expr.png\" style=\"display:inline;vertical-align:middle;\" /></a> &#x22A2;&nbsp;<a href=\"__pv_it\\dd5ba2c0906d8ca1464dbfcf2aaa905a01fb7bdb0\\expr.ipynb\" target=\"_blank\"><img src=\"__pv_it\\dd5ba2c0906d8ca1464dbfcf2aaa905a01fb7bdb0\\expr.png\" style=\"display:inline;vertical-align:middle;\" /></a></span></td></tr>\n",
       "<tr><td>&nbsp;</td><td colspan=4 style=\"text-align:left\"><span style=\"font-size:20px;\"><a href=\"__pv_it\\13859e70f2fd014e6a89679f87c2573da47e36a20\\expr.ipynb\" target=\"_blank\"><img src=\"__pv_it\\13859e70f2fd014e6a89679f87c2573da47e36a20\\expr.png\" style=\"display:inline;vertical-align:middle;\" /></a>, <a href=\"__pv_it\\df345c595a967fd0d4ca4f1281e9c8988a9ffbc10\\expr.ipynb\" target=\"_blank\"><img src=\"__pv_it\\df345c595a967fd0d4ca4f1281e9c8988a9ffbc10\\expr.png\" style=\"display:inline;vertical-align:middle;\" /></a></span></td></tr><tr><td>1</td><td>theorem</td><td></td><td><span style=\"font-size:20px;\"> &#x22A2;&nbsp;<a href=\"__pv_it\\eba0b18a26ea26292c4dc216c0e851d64b283cd20\\expr.ipynb\" target=\"_blank\"><img src=\"__pv_it\\eba0b18a26ea26292c4dc216c0e851d64b283cd20\\expr.png\" style=\"display:inline;vertical-align:middle;\" /></a></span></td></tr>\n",
       "<tr><td>&nbsp;</td><td colspan=4 style-\"text-align:left\"><a href=\"_proofs_\\notEqualsSymmetry.ipynb\" target=\"_blank\">proveit.logic.equality.notEqualsSymmetry</a></td></tr><tr><td>2</td><td>assumption</td><td></td><td><span style=\"font-size:20px;\"><a href=\"__pv_it\\5656180134e618e134b78c168c73fc70bd1ac6320\\expr.ipynb\" target=\"_blank\"><img src=\"__pv_it\\5656180134e618e134b78c168c73fc70bd1ac6320\\expr.png\" style=\"display:inline;vertical-align:middle;\" /></a> &#x22A2;&nbsp;<a href=\"__pv_it\\36675c907370c4cb784dcce5ee09f11ac7f101c90\\expr.ipynb\" target=\"_blank\"><img src=\"__pv_it\\36675c907370c4cb784dcce5ee09f11ac7f101c90\\expr.png\" style=\"display:inline;vertical-align:middle;\" /></a></span></td></tr>\n"
      ],
      "text/plain": [
       "<proveit._core_.proof.Specialization instance at 0x0000000007A1A848>"
      ]
     },
     "execution_count": 86,
     "metadata": {},
     "output_type": "execute_result"
    }
   ],
   "source": [
    "a_neq_b.prove([a_neq_b]).deriveReversed().proof()"
   ]
  },
  {
   "cell_type": "markdown",
   "metadata": {
    "deletable": true,
    "editable": true
   },
   "source": [
    "If two objects are both equal and not equal, there is a contradiction."
   ]
  },
  {
   "cell_type": "code",
   "execution_count": 87,
   "metadata": {
    "collapsed": false,
    "deletable": true,
    "editable": true
   },
   "outputs": [
    {
     "data": {
      "text/html": [
       "<strong id=\"neq_contradiction\">neq_contradiction:</strong> <span style=\"font-size:20px;\"><a href=\"__pv_it\\418d9cf5020c03dc848a12cd0ffbbf88b7226a8b0\\expr.ipynb\" target=\"_blank\"><img src=\"__pv_it\\418d9cf5020c03dc848a12cd0ffbbf88b7226a8b0\\expr.png\" style=\"display:inline;vertical-align:middle;\" /></a> &#x22A2;&nbsp;<a href=\"..\\boolean\\__pv_it\\47da52792f39d479a35c809d6a76a38f9bc20f310\\expr.ipynb\" target=\"_blank\"><img src=\"..\\boolean\\__pv_it\\47da52792f39d479a35c809d6a76a38f9bc20f310\\expr.png\" style=\"display:inline;vertical-align:middle;\" /></a></span><br>"
      ],
      "text/plain": [
       "neq_contradiction: {(a != b),(a = b)} |= FALSE"
      ]
     },
     "execution_count": 87,
     "metadata": {},
     "output_type": "execute_result"
    }
   ],
   "source": [
    "neq_contradiction = a_neq_b.deriveContradiction([a_neq_b, a_eq_b])"
   ]
  },
  {
   "cell_type": "code",
   "execution_count": 88,
   "metadata": {
    "collapsed": false,
    "deletable": true,
    "editable": true
   },
   "outputs": [
    {
     "data": {
      "text/html": [
       "<table><tr><th>&nbsp;</th><th>step type</th><th>requirements</th><th>statement</th></tr>\n",
       "<tr><td>0</td><td>specialization</td><td>1, 2, 3</td><td><span style=\"font-size:20px;\"><a href=\"__pv_it\\418d9cf5020c03dc848a12cd0ffbbf88b7226a8b0\\expr.ipynb\" target=\"_blank\"><img src=\"__pv_it\\418d9cf5020c03dc848a12cd0ffbbf88b7226a8b0\\expr.png\" style=\"display:inline;vertical-align:middle;\" /></a> &#x22A2;&nbsp;<a href=\"..\\boolean\\__pv_it\\47da52792f39d479a35c809d6a76a38f9bc20f310\\expr.ipynb\" target=\"_blank\"><img src=\"..\\boolean\\__pv_it\\47da52792f39d479a35c809d6a76a38f9bc20f310\\expr.png\" style=\"display:inline;vertical-align:middle;\" /></a></span></td></tr>\n",
       "<tr><td>&nbsp;</td><td colspan=4 style=\"text-align:left\"><span style=\"font-size:20px;\"><a href=\"__pv_it\\13859e70f2fd014e6a89679f87c2573da47e36a20\\expr.ipynb\" target=\"_blank\"><img src=\"__pv_it\\13859e70f2fd014e6a89679f87c2573da47e36a20\\expr.png\" style=\"display:inline;vertical-align:middle;\" /></a>, <a href=\"__pv_it\\df345c595a967fd0d4ca4f1281e9c8988a9ffbc10\\expr.ipynb\" target=\"_blank\"><img src=\"__pv_it\\df345c595a967fd0d4ca4f1281e9c8988a9ffbc10\\expr.png\" style=\"display:inline;vertical-align:middle;\" /></a></span></td></tr><tr><td>1</td><td>theorem</td><td></td><td><span style=\"font-size:20px;\"> &#x22A2;&nbsp;<a href=\"__pv_it\\471813d704798396526999947630dfbd6d1935c40\\expr.ipynb\" target=\"_blank\"><img src=\"__pv_it\\471813d704798396526999947630dfbd6d1935c40\\expr.png\" style=\"display:inline;vertical-align:middle;\" /></a></span></td></tr>\n",
       "<tr><td>&nbsp;</td><td colspan=4 style-\"text-align:left\"><a href=\"_proofs_\\notEqualsContradiction.ipynb\" target=\"_blank\">proveit.logic.equality.notEqualsContradiction</a></td></tr><tr><td>2</td><td>assumption</td><td></td><td><span style=\"font-size:20px;\"><a href=\"__pv_it\\3c581f9b9a55a4d345eb7b057c46a0640b00c8100\\expr.ipynb\" target=\"_blank\"><img src=\"__pv_it\\3c581f9b9a55a4d345eb7b057c46a0640b00c8100\\expr.png\" style=\"display:inline;vertical-align:middle;\" /></a> &#x22A2;&nbsp;<a href=\"__pv_it\\e83dd5114d4e4c385ad9c5fed1008898ebf853630\\expr.ipynb\" target=\"_blank\"><img src=\"__pv_it\\e83dd5114d4e4c385ad9c5fed1008898ebf853630\\expr.png\" style=\"display:inline;vertical-align:middle;\" /></a></span></td></tr>\n",
       "<tr><td>3</td><td>assumption</td><td></td><td><span style=\"font-size:20px;\"><a href=\"__pv_it\\5656180134e618e134b78c168c73fc70bd1ac6320\\expr.ipynb\" target=\"_blank\"><img src=\"__pv_it\\5656180134e618e134b78c168c73fc70bd1ac6320\\expr.png\" style=\"display:inline;vertical-align:middle;\" /></a> &#x22A2;&nbsp;<a href=\"__pv_it\\36675c907370c4cb784dcce5ee09f11ac7f101c90\\expr.ipynb\" target=\"_blank\"><img src=\"__pv_it\\36675c907370c4cb784dcce5ee09f11ac7f101c90\\expr.png\" style=\"display:inline;vertical-align:middle;\" /></a></span></td></tr>\n"
      ],
      "text/plain": [
       "<proveit._core_.proof.Specialization instance at 0x0000000007A0F588>"
      ]
     },
     "execution_count": 88,
     "metadata": {},
     "output_type": "execute_result"
    }
   ],
   "source": [
    "neq_contradiction.proof()"
   ]
  },
  {
   "cell_type": "code",
   "execution_count": 89,
   "metadata": {
    "collapsed": false,
    "deletable": true,
    "editable": true
   },
   "outputs": [
    {
     "data": {
      "text/html": [
       "<strong id=\"a_neq_a\">a_neq_a:</strong> <a href=\"__pv_it\\a95bb429196a8aa6312f16e398da6456900089690\\expr.ipynb\" target=\"_blank\"><img src=\"__pv_it\\a95bb429196a8aa6312f16e398da6456900089690\\expr.png\" style=\"display:inline;vertical-align:middle;\" /></a><br>"
      ],
      "text/plain": [
       "a_neq_a: a != a"
      ]
     },
     "execution_count": 89,
     "metadata": {},
     "output_type": "execute_result"
    }
   ],
   "source": [
    "a_neq_a = NotEquals(a, a)"
   ]
  },
  {
   "cell_type": "code",
   "execution_count": 90,
   "metadata": {
    "collapsed": false,
    "deletable": true,
    "editable": true
   },
   "outputs": [
    {
     "data": {
      "text/html": [
       "<strong id=\"b_from_contradiction\">b_from_contradiction:</strong> <span style=\"font-size:20px;\"><a href=\"__pv_it\\7624586d7b9fcce2cfd3f93d579adb11211b35b70\\expr.ipynb\" target=\"_blank\"><img src=\"__pv_it\\7624586d7b9fcce2cfd3f93d579adb11211b35b70\\expr.png\" style=\"display:inline;vertical-align:middle;\" /></a> &#x22A2;&nbsp;<a href=\"..\\..\\__pv_it\\c96df9db102bf2dcd5fad662469a963bfcb9d23c0\\expr.ipynb\" target=\"_blank\"><img src=\"..\\..\\__pv_it\\c96df9db102bf2dcd5fad662469a963bfcb9d23c0\\expr.png\" style=\"display:inline;vertical-align:middle;\" /></a></span><br>"
      ],
      "text/plain": [
       "b_from_contradiction: {(not(b) => (a != a)),(b in BOOLEANS)} |= b"
      ]
     },
     "execution_count": 90,
     "metadata": {},
     "output_type": "execute_result"
    }
   ],
   "source": [
    "b_from_contradiction = a_neq_a.affirmViaContradiction(b, [Implies(Not(b), a_neq_a), inBool(b)])"
   ]
  },
  {
   "cell_type": "code",
   "execution_count": 91,
   "metadata": {
    "collapsed": false,
    "deletable": true,
    "editable": true
   },
   "outputs": [
    {
     "data": {
      "text/html": [
       "<table><tr><th>&nbsp;</th><th>step type</th><th>requirements</th><th>statement</th></tr>\n",
       "<tr><td>0</td><td>specialization</td><td>1, 2, 3</td><td><span style=\"font-size:20px;\"><a href=\"__pv_it\\7624586d7b9fcce2cfd3f93d579adb11211b35b70\\expr.ipynb\" target=\"_blank\"><img src=\"__pv_it\\7624586d7b9fcce2cfd3f93d579adb11211b35b70\\expr.png\" style=\"display:inline;vertical-align:middle;\" /></a> &#x22A2;&nbsp;<a href=\"..\\..\\__pv_it\\c96df9db102bf2dcd5fad662469a963bfcb9d23c0\\expr.ipynb\" target=\"_blank\"><img src=\"..\\..\\__pv_it\\c96df9db102bf2dcd5fad662469a963bfcb9d23c0\\expr.png\" style=\"display:inline;vertical-align:middle;\" /></a></span></td></tr>\n",
       "<tr><td>&nbsp;</td><td colspan=4 style=\"text-align:left\"><span style=\"font-size:20px;\"><a href=\"__pv_it\\1935b6b81fb1014ee6500a8b165edc4f95a55df30\\expr.ipynb\" target=\"_blank\"><img src=\"__pv_it\\1935b6b81fb1014ee6500a8b165edc4f95a55df30\\expr.png\" style=\"display:inline;vertical-align:middle;\" /></a></span></td></tr><tr><td>1</td><td>theorem</td><td></td><td><span style=\"font-size:20px;\"> &#x22A2;&nbsp;<a href=\"..\\boolean\\implication\\__pv_it\\456f460bb66a339d25d7bb4ba9c38cfdcd815be50\\expr.ipynb\" target=\"_blank\"><img src=\"..\\boolean\\implication\\__pv_it\\456f460bb66a339d25d7bb4ba9c38cfdcd815be50\\expr.png\" style=\"display:inline;vertical-align:middle;\" /></a></span></td></tr>\n",
       "<tr><td>&nbsp;</td><td colspan=4 style-\"text-align:left\"><a href=\"..\\boolean\\implication\\_proofs_\\affirmViaContradiction.ipynb\" target=\"_blank\">proveit.logic.boolean.implication.affirmViaContradiction</a></td></tr><tr><td>2</td><td>hypothetical reasoning</td><td>4</td><td><span style=\"font-size:20px;\"><a href=\"__pv_it\\8a039b6153fece25376ac055bd34dce413ed2e980\\expr.ipynb\" target=\"_blank\"><img src=\"__pv_it\\8a039b6153fece25376ac055bd34dce413ed2e980\\expr.png\" style=\"display:inline;vertical-align:middle;\" /></a> &#x22A2;&nbsp;<a href=\"__pv_it\\37296af3b7a14b28ce2c43100e133ca0d3a3af390\\expr.ipynb\" target=\"_blank\"><img src=\"__pv_it\\37296af3b7a14b28ce2c43100e133ca0d3a3af390\\expr.png\" style=\"display:inline;vertical-align:middle;\" /></a></span></td></tr>\n",
       "<tr><td>3</td><td>assumption</td><td></td><td><span style=\"font-size:20px;\"><a href=\"__pv_it\\a0830438266e18fdb133e1914935ebb8cd5912700\\expr.ipynb\" target=\"_blank\"><img src=\"__pv_it\\a0830438266e18fdb133e1914935ebb8cd5912700\\expr.png\" style=\"display:inline;vertical-align:middle;\" /></a> &#x22A2;&nbsp;<a href=\"__pv_it\\dbe3917f6ca0cd27033f2bbd7513ae5037bee9720\\expr.ipynb\" target=\"_blank\"><img src=\"__pv_it\\dbe3917f6ca0cd27033f2bbd7513ae5037bee9720\\expr.png\" style=\"display:inline;vertical-align:middle;\" /></a></span></td></tr>\n",
       "<tr><td>4</td><td>specialization</td><td>5, 6, 7</td><td><span style=\"font-size:20px;\"><a href=\"__pv_it\\d46bd1b2db94e9a1be02208730f2c75182da2d610\\expr.ipynb\" target=\"_blank\"><img src=\"__pv_it\\d46bd1b2db94e9a1be02208730f2c75182da2d610\\expr.png\" style=\"display:inline;vertical-align:middle;\" /></a> &#x22A2;&nbsp;<a href=\"..\\boolean\\__pv_it\\47da52792f39d479a35c809d6a76a38f9bc20f310\\expr.ipynb\" target=\"_blank\"><img src=\"..\\boolean\\__pv_it\\47da52792f39d479a35c809d6a76a38f9bc20f310\\expr.png\" style=\"display:inline;vertical-align:middle;\" /></a></span></td></tr>\n",
       "<tr><td>&nbsp;</td><td colspan=4 style=\"text-align:left\"><span style=\"font-size:20px;\"><a href=\"__pv_it\\13859e70f2fd014e6a89679f87c2573da47e36a20\\expr.ipynb\" target=\"_blank\"><img src=\"__pv_it\\13859e70f2fd014e6a89679f87c2573da47e36a20\\expr.png\" style=\"display:inline;vertical-align:middle;\" /></a>, <a href=\"__pv_it\\ce6e3ad18634f7b85aa57c16fdb7eff302faa98a0\\expr.ipynb\" target=\"_blank\"><img src=\"__pv_it\\ce6e3ad18634f7b85aa57c16fdb7eff302faa98a0\\expr.png\" style=\"display:inline;vertical-align:middle;\" /></a></span></td></tr><tr><td>5</td><td>theorem</td><td></td><td><span style=\"font-size:20px;\"> &#x22A2;&nbsp;<a href=\"__pv_it\\471813d704798396526999947630dfbd6d1935c40\\expr.ipynb\" target=\"_blank\"><img src=\"__pv_it\\471813d704798396526999947630dfbd6d1935c40\\expr.png\" style=\"display:inline;vertical-align:middle;\" /></a></span></td></tr>\n",
       "<tr><td>&nbsp;</td><td colspan=4 style-\"text-align:left\"><a href=\"_proofs_\\notEqualsContradiction.ipynb\" target=\"_blank\">proveit.logic.equality.notEqualsContradiction</a></td></tr><tr><td>6</td><td>specialization</td><td>8</td><td><span style=\"font-size:20px;\"> &#x22A2;&nbsp;<a href=\"__pv_it\\0bae4c9db7031d7ed17300eb3ad0cc61666156c80\\expr.ipynb\" target=\"_blank\"><img src=\"__pv_it\\0bae4c9db7031d7ed17300eb3ad0cc61666156c80\\expr.png\" style=\"display:inline;vertical-align:middle;\" /></a></span></td></tr>\n",
       "<tr><td>&nbsp;</td><td colspan=4 style=\"text-align:left\"><span style=\"font-size:20px;\"><a href=\"__pv_it\\13859e70f2fd014e6a89679f87c2573da47e36a20\\expr.ipynb\" target=\"_blank\"><img src=\"__pv_it\\13859e70f2fd014e6a89679f87c2573da47e36a20\\expr.png\" style=\"display:inline;vertical-align:middle;\" /></a></span></td></tr><tr><td>7</td><td>modus ponens</td><td>9, 10</td><td><span style=\"font-size:20px;\"><a href=\"__pv_it\\d46bd1b2db94e9a1be02208730f2c75182da2d610\\expr.ipynb\" target=\"_blank\"><img src=\"__pv_it\\d46bd1b2db94e9a1be02208730f2c75182da2d610\\expr.png\" style=\"display:inline;vertical-align:middle;\" /></a> &#x22A2;&nbsp;<a href=\"__pv_it\\a95bb429196a8aa6312f16e398da6456900089690\\expr.ipynb\" target=\"_blank\"><img src=\"__pv_it\\a95bb429196a8aa6312f16e398da6456900089690\\expr.png\" style=\"display:inline;vertical-align:middle;\" /></a></span></td></tr>\n",
       "<tr><td>8</td><td>axiom</td><td></td><td><span style=\"font-size:20px;\"> &#x22A2;&nbsp;<a href=\"__pv_it\\e8ab2bd55e5bf868fc504a81374f6605cba561110\\expr.ipynb\" target=\"_blank\"><img src=\"__pv_it\\e8ab2bd55e5bf868fc504a81374f6605cba561110\\expr.png\" style=\"display:inline;vertical-align:middle;\" /></a></span></td></tr>\n",
       "<tr><td>&nbsp;</td><td colspan=4 style-\"text-align:left\"><a href=\"_axioms_.ipynb#equalsReflexivity\" target=\"_blank\">proveit.logic.equality.equalsReflexivity</a></td></tr><tr><td>9</td><td>assumption</td><td></td><td><span style=\"font-size:20px;\"><a href=\"__pv_it\\8a039b6153fece25376ac055bd34dce413ed2e980\\expr.ipynb\" target=\"_blank\"><img src=\"__pv_it\\8a039b6153fece25376ac055bd34dce413ed2e980\\expr.png\" style=\"display:inline;vertical-align:middle;\" /></a> &#x22A2;&nbsp;<a href=\"__pv_it\\8e17369ab5983b49880465c29f4d096f09046f5d0\\expr.ipynb\" target=\"_blank\"><img src=\"__pv_it\\8e17369ab5983b49880465c29f4d096f09046f5d0\\expr.png\" style=\"display:inline;vertical-align:middle;\" /></a></span></td></tr>\n",
       "<tr><td>10</td><td>assumption</td><td></td><td><span style=\"font-size:20px;\"><a href=\"__pv_it\\2e3eb34819b52fa6671ba2d7064b9d9792a0244c0\\expr.ipynb\" target=\"_blank\"><img src=\"__pv_it\\2e3eb34819b52fa6671ba2d7064b9d9792a0244c0\\expr.png\" style=\"display:inline;vertical-align:middle;\" /></a> &#x22A2;&nbsp;<a href=\"__pv_it\\14e5307965a0f2efb3fce04d31ff4b4f54c049750\\expr.ipynb\" target=\"_blank\"><img src=\"__pv_it\\14e5307965a0f2efb3fce04d31ff4b4f54c049750\\expr.png\" style=\"display:inline;vertical-align:middle;\" /></a></span></td></tr>\n"
      ],
      "text/plain": [
       "<proveit._core_.proof.Specialization instance at 0x0000000007A2D808>"
      ]
     },
     "execution_count": 91,
     "metadata": {},
     "output_type": "execute_result"
    }
   ],
   "source": [
    "b_from_contradiction.proof()"
   ]
  },
  {
   "cell_type": "code",
   "execution_count": 92,
   "metadata": {
    "collapsed": true,
    "deletable": true,
    "editable": true
   },
   "outputs": [],
   "source": [
    "%end demonstrations"
   ]
  },
  {
   "cell_type": "code",
   "execution_count": null,
   "metadata": {
    "collapsed": true
   },
   "outputs": [],
   "source": []
  }
 ],
 "metadata": {
  "kernelspec": {
   "display_name": "Python 2",
   "language": "python",
   "name": "python2"
  },
  "language_info": {
   "codemirror_mode": {
    "name": "ipython",
    "version": 2
   },
   "file_extension": ".py",
   "mimetype": "text/x-python",
   "name": "python",
   "nbconvert_exporter": "python",
   "pygments_lexer": "ipython2",
   "version": "2.7.11"
  }
 },
 "nbformat": 4,
 "nbformat_minor": 0
}
