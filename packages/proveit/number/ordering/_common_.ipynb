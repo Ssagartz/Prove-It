{
 "cells": [
  {
   "cell_type": "markdown",
   "metadata": {
    "collapsed": true,
    "deletable": true,
    "editable": true
   },
   "source": [
    "Common expressions for context <a href=\"_context_.ipynb\" class=\"ProveItLink\">proveit.number.ordering</a>\n",
    "========"
   ]
  },
  {
   "cell_type": "code",
   "execution_count": 1,
   "metadata": {
    "collapsed": false,
    "deletable": true,
    "editable": true
   },
   "outputs": [
    {
     "name": "stdout",
     "output_type": "stream",
     "text": [
      "Defining common sub-expressions for context 'proveit.number.ordering'\n",
      "Subsequent end-of-cell assignments will define common sub-expressions\n",
      "%end_common will finalize the definitions\n"
     ]
    }
   ],
   "source": [
    "from proveit import Lambda\n",
    "from proveit._common_ import x, i, j, n, rho\n",
    "from proveit import Indexed, Iter\n",
    "from proveit.number import Less, LessEq, Greater, GreaterEq, Add, zero, one\n",
    "from proveit import Operation, OperationSequence\n",
    "from proveit.logic import And, Set, Equals\n",
    "%begin common"
   ]
  },
  {
   "cell_type": "code",
   "execution_count": 2,
   "metadata": {
    "collapsed": false
   },
   "outputs": [
    {
     "data": {
      "text/html": [
       "<strong id=\"i_plus_1\">i_plus_1:</strong> <a class=\"ProveItLink\" href=\"__pv_it\\505f9919671e7bd28d24afb9f184401f9c5961670\\expr.ipynb\"><img src=\"__pv_it\\505f9919671e7bd28d24afb9f184401f9c5961670\\expr.png\" style=\"display:inline;vertical-align:middle;\" /></a><br>"
      ],
      "text/plain": [
       "i_plus_1: i + 1"
      ]
     },
     "execution_count": 2,
     "metadata": {},
     "output_type": "execute_result"
    }
   ],
   "source": [
    "i_plus_1 = Add(i, one)"
   ]
  },
  {
   "cell_type": "code",
   "execution_count": 3,
   "metadata": {
    "collapsed": false
   },
   "outputs": [
    {
     "data": {
      "text/html": [
       "<strong id=\"n_plus_1\">n_plus_1:</strong> <a class=\"ProveItLink\" href=\"__pv_it\\db2b65f4559469f02a0bc21683723ca31c079ae30\\expr.ipynb\"><img src=\"__pv_it\\db2b65f4559469f02a0bc21683723ca31c079ae30\\expr.png\" style=\"display:inline;vertical-align:middle;\" /></a><br>"
      ],
      "text/plain": [
       "n_plus_1: n + 1"
      ]
     },
     "execution_count": 3,
     "metadata": {},
     "output_type": "execute_result"
    }
   ],
   "source": [
    "n_plus_1 = Add(n, one)"
   ]
  },
  {
   "cell_type": "code",
   "execution_count": 4,
   "metadata": {
    "collapsed": false,
    "deletable": true,
    "editable": true
   },
   "outputs": [
    {
     "data": {
      "text/html": [
       "<strong id=\"sequential_x_relation\">sequential_x_relation:</strong> <a class=\"ProveItLink\" href=\"__pv_it\\e4946a8450ee46925d2fef85d6100357646cb39a0\\expr.ipynb\"><img src=\"__pv_it\\e4946a8450ee46925d2fef85d6100357646cb39a0\\expr.png\" style=\"display:inline;vertical-align:middle;\" /></a><br>"
      ],
      "text/plain": [
       "sequential_x_relation: x_i rho_i x_(i + 1)"
      ]
     },
     "execution_count": 4,
     "metadata": {},
     "output_type": "execute_result"
    }
   ],
   "source": [
    "sequential_x_relation = Operation(Indexed(rho, i), [Indexed(x, i), Indexed(x, i_plus_1)])"
   ]
  },
  {
   "cell_type": "code",
   "execution_count": 5,
   "metadata": {
    "collapsed": false,
    "deletable": true,
    "editable": true
   },
   "outputs": [
    {
     "data": {
      "text/html": [
       "<strong id=\"sequential_x_relations\">sequential_x_relations:</strong> <a class=\"ProveItLink\" href=\"__pv_it\\0fc5333bcbb5560c73af6b3dd67093f1b9c070e60\\expr.ipynb\"><img src=\"__pv_it\\0fc5333bcbb5560c73af6b3dd67093f1b9c070e60\\expr.png\" style=\"display:inline;vertical-align:middle;\" /></a><br>"
      ],
      "text/plain": [
       "sequential_x_relations: (x_(1) rho_(1) x_(1 + 1)) and  ...  and (x_(n) rho_(n) x_(n + 1))"
      ]
     },
     "execution_count": 5,
     "metadata": {},
     "output_type": "execute_result"
    }
   ],
   "source": [
    "sequential_x_relations = And(Iter(Lambda(i, sequential_x_relation), one, n))"
   ]
  },
  {
   "cell_type": "code",
   "execution_count": 6,
   "metadata": {
    "collapsed": false,
    "deletable": true,
    "editable": true
   },
   "outputs": [
    {
     "data": {
      "text/html": [
       "<strong id=\"x_relation_sequence\">x_relation_sequence:</strong> <a class=\"ProveItLink\" href=\"__pv_it\\5a257626fd8321a86575f7ba60f3eded1e03a8b10\\expr.ipynb\"><img src=\"__pv_it\\5a257626fd8321a86575f7ba60f3eded1e03a8b10\\expr.png\" style=\"display:inline;vertical-align:middle;\" /></a><br>"
      ],
      "text/plain": [
       "x_relation_sequence: x_(1) rho_(1)  ... x_(n) rho_(n) x_(n + 1)"
      ]
     },
     "execution_count": 6,
     "metadata": {},
     "output_type": "execute_result"
    }
   ],
   "source": [
    "x_relation_sequence = OperationSequence([Iter(Lambda(i, Indexed(rho, i)), one, n)], [Iter(Lambda(i, Indexed(x, i)), one, n), Indexed(x, n_plus_1)])"
   ]
  },
  {
   "cell_type": "code",
   "execution_count": 7,
   "metadata": {
    "collapsed": false
   },
   "outputs": [
    {
     "data": {
      "text/html": [
       "<strong id=\"less_eq_relations\">less_eq_relations:</strong> <a class=\"ProveItLink\" href=\"__pv_it\\f0b6eea31b8d5ebe2d651aa6bf833f8941c228200\\expr.ipynb\"><img src=\"__pv_it\\f0b6eea31b8d5ebe2d651aa6bf833f8941c228200\\expr.png\" style=\"display:inline;vertical-align:middle;\" /></a><br>"
      ],
      "text/plain": [
       "less_eq_relations: {< , <= , =}"
      ]
     },
     "execution_count": 7,
     "metadata": {},
     "output_type": "execute_result"
    }
   ],
   "source": [
    "less_eq_relations = Set(Less._operator_, LessEq._operator_, Equals._operator_)"
   ]
  },
  {
   "cell_type": "code",
   "execution_count": 8,
   "metadata": {
    "collapsed": false
   },
   "outputs": [
    {
     "data": {
      "text/html": [
       "<strong id=\"greater_eq_relations\">greater_eq_relations:</strong> <a class=\"ProveItLink\" href=\"__pv_it\\d92768ccc8c13ebbde36e9ad1f45283b0ec66fa00\\expr.ipynb\"><img src=\"__pv_it\\d92768ccc8c13ebbde36e9ad1f45283b0ec66fa00\\expr.png\" style=\"display:inline;vertical-align:middle;\" /></a><br>"
      ],
      "text/plain": [
       "greater_eq_relations: {> , >= , =}"
      ]
     },
     "execution_count": 8,
     "metadata": {},
     "output_type": "execute_result"
    }
   ],
   "source": [
    "greater_eq_relations = Set(Greater._operator_, GreaterEq._operator_, Equals._operator_)"
   ]
  },
  {
   "cell_type": "code",
   "execution_count": 9,
   "metadata": {
    "collapsed": false,
    "deletable": true,
    "editable": true
   },
   "outputs": [
    {
     "name": "stdout",
     "output_type": "stream",
     "text": [
      "i_plus_1 expression notebook is being updated\n",
      "n_plus_1 expression notebook is being updated\n",
      "Common expressions may be imported from autogenerated _common_.py\n"
     ]
    }
   ],
   "source": [
    "%end common"
   ]
  },
  {
   "cell_type": "code",
   "execution_count": null,
   "metadata": {
    "collapsed": true,
    "deletable": true,
    "editable": true
   },
   "outputs": [],
   "source": []
  }
 ],
 "metadata": {
  "kernelspec": {
   "display_name": "Python 2",
   "language": "python",
   "name": "python2"
  },
  "language_info": {
   "codemirror_mode": {
    "name": "ipython",
    "version": 2
   },
   "file_extension": ".py",
   "mimetype": "text/x-python",
   "name": "python",
   "nbconvert_exporter": "python",
   "pygments_lexer": "ipython2",
   "version": "2.7.11"
  }
 },
 "nbformat": 4,
 "nbformat_minor": 0
}
