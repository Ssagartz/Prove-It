{
 "cells": [
  {
   "cell_type": "markdown",
   "metadata": {
    "collapsed": true,
    "deletable": true,
    "editable": true
   },
   "source": [
    "Demonstrations for context <a class=\"ProveItLink\" href=\"_context_.ipynb\">proveit.number.ordering</a>\n",
    "========"
   ]
  },
  {
   "cell_type": "code",
   "execution_count": 1,
   "metadata": {
    "collapsed": false,
    "deletable": true,
    "editable": true
   },
   "outputs": [],
   "source": [
    "import proveit\n",
    "%begin demonstrations"
   ]
  },
  {
   "cell_type": "code",
   "execution_count": 2,
   "metadata": {
    "collapsed": false,
    "deletable": true,
    "editable": true
   },
   "outputs": [],
   "source": [
    "from proveit import ExprList\n",
    "from proveit.logic import Equals, InSet\n",
    "from proveit.number import Reals, Less, LessEq, Greater, GreaterEq, four\n",
    "from proveit._common_ import a, b, c, d, e, n, t, u, v, w, x, y, z, rho\n",
    "from _axioms_ import lessSequenceDef\n",
    "import random"
   ]
  },
  {
   "cell_type": "markdown",
   "metadata": {
    "deletable": true,
    "editable": true
   },
   "source": [
    "### Ordering sequences"
   ]
  },
  {
   "cell_type": "code",
   "execution_count": 3,
   "metadata": {
    "collapsed": false,
    "deletable": true,
    "editable": true
   },
   "outputs": [
    {
     "data": {
      "text/html": [
       "<span style=\"font-size:20px;\"> &#x22A2;&nbsp;<a class=\"ProveItLink\" href=\"__pv_it\\b0f856329a7d0ee19e3a823b082c334a565917390\\expr.ipynb\"><img src=\"__pv_it\\b0f856329a7d0ee19e3a823b082c334a565917390\\expr.png\" style=\"display:inline;vertical-align:middle;\" /></a></span>"
      ],
      "text/plain": [
       "|= forall_{n in NaturalsPos} [forall_{(x, rho) in Reals^{n + 1} * {< , <= , =}^{n}} ((x_(1) rho_(1)  ... x_(n) rho_(n) x_(n + 1)) = ((x_(1) rho_(1) x_(1 + 1)) and  ...  and (x_(n) rho_(n) x_(n + 1))))]"
      ]
     },
     "execution_count": 3,
     "metadata": {},
     "output_type": "execute_result"
    }
   ],
   "source": [
    "lessSequenceDef"
   ]
  },
  {
   "cell_type": "code",
   "execution_count": 4,
   "metadata": {
    "collapsed": false,
    "deletable": true,
    "editable": true
   },
   "outputs": [
    {
     "data": {
      "text/html": [
       "<strong id=\"operators\">operators:</strong> <a class=\"ProveItLink\" href=\"__pv_it\\46ea647a78297e8fce72ae6fa70e7cadb77862110\\expr.ipynb\"><img src=\"__pv_it\\46ea647a78297e8fce72ae6fa70e7cadb77862110\\expr.png\" style=\"display:inline;vertical-align:middle;\" /></a><br>"
      ],
      "text/plain": [
       "operators: (< , <= , = , <)"
      ]
     },
     "execution_count": 4,
     "metadata": {},
     "output_type": "execute_result"
    }
   ],
   "source": [
    "operators = ExprList(Less._operator_, LessEq._operator_, Equals._operator_, Less._operator_)"
   ]
  },
  {
   "cell_type": "code",
   "execution_count": 5,
   "metadata": {
    "collapsed": false
   },
   "outputs": [
    {
     "data": {
      "text/html": [
       "<strong id=\"assumptions\">assumptions:</strong> <a class=\"ProveItLink\" href=\"__pv_it\\8d707669f7d80a49178907858362fab6c642f5bc0\\expr.ipynb\"><img src=\"__pv_it\\8d707669f7d80a49178907858362fab6c642f5bc0\\expr.png\" style=\"display:inline;vertical-align:middle;\" /></a><br>"
      ],
      "text/plain": [
       "assumptions: (v in Reals , w in Reals , x in Reals , y in Reals , z in Reals)"
      ]
     },
     "execution_count": 5,
     "metadata": {},
     "output_type": "execute_result"
    }
   ],
   "source": [
    "assumptions = [InSet(v, Reals), InSet(w, Reals), InSet(x, Reals), InSet(y, Reals), InSet(z, Reals)]"
   ]
  },
  {
   "cell_type": "code",
   "execution_count": 6,
   "metadata": {
    "collapsed": false,
    "deletable": true,
    "editable": true,
    "scrolled": true
   },
   "outputs": [
    {
     "data": {
      "text/html": [
       "<strong id=\"test\">test:</strong> <span style=\"font-size:20px;\"><a class=\"ProveItLink\" href=\"__pv_it\\e23c1d12ced4f04228053227676772e729377c740\\expr.ipynb\"><img src=\"__pv_it\\e23c1d12ced4f04228053227676772e729377c740\\expr.png\" style=\"display:inline;vertical-align:middle;\" /></a> &#x22A2;&nbsp;<a class=\"ProveItLink\" href=\"__pv_it\\da4e98eada0dccd09d0b72063fe7c8d197b323420\\expr.ipynb\"><img src=\"__pv_it\\da4e98eada0dccd09d0b72063fe7c8d197b323420\\expr.png\" style=\"display:inline;vertical-align:middle;\" /></a></span><br>"
      ],
      "text/plain": [
       "test: {v in Reals , w in Reals , x in Reals , y in Reals , z in Reals} |= (v < w <= x = y < z) = ((v < w) and (w <= x) and (x = y) and (y < z))"
      ]
     },
     "execution_count": 6,
     "metadata": {},
     "output_type": "execute_result"
    }
   ],
   "source": [
    "test = lessSequenceDef.specialize({n:four, x:[v,w,x,y,z], rho:operators}, assumptions=assumptions)"
   ]
  },
  {
   "cell_type": "code",
   "execution_count": 7,
   "metadata": {
    "collapsed": false
   },
   "outputs": [
    {
     "data": {
      "text/html": [
       "<table><tr><th>&nbsp;</th><th>step type</th><th>requirements</th><th>statement</th></tr>\n",
       "<tr><td>0</td><td>specialization</td><td>1, 2, 3, 4, 5, 6, 7, 10</td><td><span style=\"font-size:20px;\"><a class=\"ProveItLink\" href=\"__pv_it\\e23c1d12ced4f04228053227676772e729377c740\\expr.ipynb\"><img src=\"__pv_it\\e23c1d12ced4f04228053227676772e729377c740\\expr.png\" style=\"display:inline;vertical-align:middle;\" /></a> &#x22A2;&nbsp;<a class=\"ProveItLink\" href=\"__pv_it\\da4e98eada0dccd09d0b72063fe7c8d197b323420\\expr.ipynb\"><img src=\"__pv_it\\da4e98eada0dccd09d0b72063fe7c8d197b323420\\expr.png\" style=\"display:inline;vertical-align:middle;\" /></a></span></td></tr>\n",
       "<tr><td>&nbsp;</td><td colspan=4 style=\"text-align:left\"><span style=\"font-size:20px;\"><a class=\"ProveItLink\" href=\"__pv_it\\5ce8298b228df5d296b49c0c41d9777b521f1fdc0\\expr.ipynb\"><img src=\"__pv_it\\5ce8298b228df5d296b49c0c41d9777b521f1fdc0\\expr.png\" style=\"display:inline;vertical-align:middle;\" /></a>, <a class=\"ProveItLink\" href=\"__pv_it\\27ab22db1c051c6928a3ffc54cefe3d861dd76400\\expr.ipynb\"><img src=\"__pv_it\\27ab22db1c051c6928a3ffc54cefe3d861dd76400\\expr.png\" style=\"display:inline;vertical-align:middle;\" /></a></span></td></tr><tr><td>1</td><td>axiom</td><td></td><td><span style=\"font-size:20px;\"> &#x22A2;&nbsp;<a class=\"ProveItLink\" href=\"__pv_it\\b0f856329a7d0ee19e3a823b082c334a565917390\\expr.ipynb\"><img src=\"__pv_it\\b0f856329a7d0ee19e3a823b082c334a565917390\\expr.png\" style=\"display:inline;vertical-align:middle;\" /></a></span></td></tr>\n",
       "<tr><td>&nbsp;</td><td colspan=4 style-\"text-align:left\"><a class=\"ProveItLink\" href=\"_axioms_.ipynb#lessSequenceDef\">proveit.number.ordering.lessSequenceDef</a></td></tr><tr><td>2</td><td>theorem</td><td></td><td><span style=\"font-size:20px;\"> &#x22A2;&nbsp;<a class=\"ProveItLink\" href=\"..\\numeral\\decimal\\__pv_it\\6c32934bc5b7a43132962d9a0e0adc5c350c85b50\\expr.ipynb\"><img src=\"..\\numeral\\decimal\\__pv_it\\6c32934bc5b7a43132962d9a0e0adc5c350c85b50\\expr.png\" style=\"display:inline;vertical-align:middle;\" /></a></span></td></tr>\n",
       "<tr><td>&nbsp;</td><td colspan=4 style-\"text-align:left\"><a class=\"ProveItLink\" href=\"..\\numeral\\decimal\\_proofs_\\nats_pos_4.ipynb\">proveit.number.numeral.decimal.nats_pos_4</a></td></tr><tr><td>3</td><td>specialization</td><td>8, 9, 10</td><td><span style=\"font-size:20px;\"><a class=\"ProveItLink\" href=\"__pv_it\\e23c1d12ced4f04228053227676772e729377c740\\expr.ipynb\"><img src=\"__pv_it\\e23c1d12ced4f04228053227676772e729377c740\\expr.png\" style=\"display:inline;vertical-align:middle;\" /></a> &#x22A2;&nbsp;<a class=\"ProveItLink\" href=\"__pv_it\\021b95178d31a840dd6ff0cfec3bcf03b59b63020\\expr.ipynb\"><img src=\"__pv_it\\021b95178d31a840dd6ff0cfec3bcf03b59b63020\\expr.png\" style=\"display:inline;vertical-align:middle;\" /></a></span></td></tr>\n",
       "<tr><td>&nbsp;</td><td colspan=4 style=\"text-align:left\"><span style=\"font-size:20px;\"><a class=\"ProveItLink\" href=\"__pv_it\\876165463ba6ba39cf86ad2a0846e11a54efa20d0\\expr.ipynb\"><img src=\"__pv_it\\876165463ba6ba39cf86ad2a0846e11a54efa20d0\\expr.png\" style=\"display:inline;vertical-align:middle;\" /></a>, <a class=\"ProveItLink\" href=\"__pv_it\\77774221cddb1e6753aab2aca9570606da4c5c8d0\\expr.ipynb\"><img src=\"__pv_it\\77774221cddb1e6753aab2aca9570606da4c5c8d0\\expr.png\" style=\"display:inline;vertical-align:middle;\" /></a>, <a class=\"ProveItLink\" href=\"__pv_it\\ad8cd7b74a38c2b8544487ecece8847bd9b92b620\\expr.ipynb\"><img src=\"__pv_it\\ad8cd7b74a38c2b8544487ecece8847bd9b92b620\\expr.png\" style=\"display:inline;vertical-align:middle;\" /></a></span></td></tr><tr><td>4</td><td>specialization</td><td>11, 12, 13, 14</td><td><span style=\"font-size:20px;\"> &#x22A2;&nbsp;<a class=\"ProveItLink\" href=\"__pv_it\\d97a13df70b00e595fffb0617ca57c4d38a5b5ab0\\expr.ipynb\"><img src=\"__pv_it\\d97a13df70b00e595fffb0617ca57c4d38a5b5ab0\\expr.png\" style=\"display:inline;vertical-align:middle;\" /></a></span></td></tr>\n",
       "<tr><td>&nbsp;</td><td colspan=4 style=\"text-align:left\"><span style=\"font-size:20px;\"><a class=\"ProveItLink\" href=\"__pv_it\\78e018a565fe9d23ddc2fcc1e24fa817b78a40a70\\expr.ipynb\"><img src=\"__pv_it\\78e018a565fe9d23ddc2fcc1e24fa817b78a40a70\\expr.png\" style=\"display:inline;vertical-align:middle;\" /></a>, <a class=\"ProveItLink\" href=\"__pv_it\\d5ef7640ee53fb71136e1dff707fc9ba80a3440a0\\expr.ipynb\"><img src=\"__pv_it\\d5ef7640ee53fb71136e1dff707fc9ba80a3440a0\\expr.png\" style=\"display:inline;vertical-align:middle;\" /></a></span></td></tr><tr><td>5</td><td>theorem</td><td></td><td><span style=\"font-size:20px;\"> &#x22A2;&nbsp;<a class=\"ProveItLink\" href=\"..\\numeral\\decimal\\__pv_it\\1f5fc30393a03c999c6f5f3c0d0b67dcf686209a0\\expr.ipynb\"><img src=\"..\\numeral\\decimal\\__pv_it\\1f5fc30393a03c999c6f5f3c0d0b67dcf686209a0\\expr.png\" style=\"display:inline;vertical-align:middle;\" /></a></span></td></tr>\n",
       "<tr><td>&nbsp;</td><td colspan=4 style-\"text-align:left\"><a class=\"ProveItLink\" href=\"..\\numeral\\decimal\\_proofs_\\add_1_1.ipynb\">proveit.number.numeral.decimal.add_1_1</a></td></tr><tr><td>6</td><td>theorem</td><td></td><td><span style=\"font-size:20px;\"> &#x22A2;&nbsp;<a class=\"ProveItLink\" href=\"..\\numeral\\decimal\\__pv_it\\366b6863aa509433f2c26cb1664345611cfc3ea40\\expr.ipynb\"><img src=\"..\\numeral\\decimal\\__pv_it\\366b6863aa509433f2c26cb1664345611cfc3ea40\\expr.png\" style=\"display:inline;vertical-align:middle;\" /></a></span></td></tr>\n",
       "<tr><td>&nbsp;</td><td colspan=4 style-\"text-align:left\"><a class=\"ProveItLink\" href=\"..\\numeral\\decimal\\_proofs_\\add_2_1.ipynb\">proveit.number.numeral.decimal.add_2_1</a></td></tr><tr><td>7</td><td>theorem</td><td></td><td><span style=\"font-size:20px;\"> &#x22A2;&nbsp;<a class=\"ProveItLink\" href=\"..\\numeral\\decimal\\__pv_it\\718d941564cd718e9b16842caac0a2e448788e1d0\\expr.ipynb\"><img src=\"..\\numeral\\decimal\\__pv_it\\718d941564cd718e9b16842caac0a2e448788e1d0\\expr.png\" style=\"display:inline;vertical-align:middle;\" /></a></span></td></tr>\n",
       "<tr><td>&nbsp;</td><td colspan=4 style-\"text-align:left\"><a class=\"ProveItLink\" href=\"..\\numeral\\decimal\\_proofs_\\add_3_1.ipynb\">proveit.number.numeral.decimal.add_3_1</a></td></tr><tr><td>8</td><td>theorem</td><td></td><td><span style=\"font-size:20px;\"> &#x22A2;&nbsp;<a class=\"ProveItLink\" href=\"..\\..\\logic\\equality\\__pv_it\\cad9569266924014ea1a76d2dbe3f8b0274df9d30\\expr.ipynb\"><img src=\"..\\..\\logic\\equality\\__pv_it\\cad9569266924014ea1a76d2dbe3f8b0274df9d30\\expr.png\" style=\"display:inline;vertical-align:middle;\" /></a></span></td></tr>\n",
       "<tr><td>&nbsp;</td><td colspan=4 style-\"text-align:left\"><a class=\"ProveItLink\" href=\"..\\..\\logic\\equality\\_proofs_\\subLeftSideInto.ipynb\">proveit.logic.equality.subLeftSideInto</a></td></tr><tr><td>9</td><td>specialization</td><td>15, 16, 17, 18, 19, 20</td><td><span style=\"font-size:20px;\"><a class=\"ProveItLink\" href=\"__pv_it\\e23c1d12ced4f04228053227676772e729377c740\\expr.ipynb\"><img src=\"__pv_it\\e23c1d12ced4f04228053227676772e729377c740\\expr.png\" style=\"display:inline;vertical-align:middle;\" /></a> &#x22A2;&nbsp;<a class=\"ProveItLink\" href=\"__pv_it\\1d37ba2298ecae47c19e8986683efb78bda5e4b00\\expr.ipynb\"><img src=\"__pv_it\\1d37ba2298ecae47c19e8986683efb78bda5e4b00\\expr.png\" style=\"display:inline;vertical-align:middle;\" /></a></span></td></tr>\n",
       "<tr><td>&nbsp;</td><td colspan=4 style=\"text-align:left\"><span style=\"font-size:20px;\"><a class=\"ProveItLink\" href=\"__pv_it\\6a0d55ea293df5887c2465990d89d381886222940\\expr.ipynb\"><img src=\"__pv_it\\6a0d55ea293df5887c2465990d89d381886222940\\expr.png\" style=\"display:inline;vertical-align:middle;\" /></a>, <a class=\"ProveItLink\" href=\"__pv_it\\4aa90dbb49895a2ed67e732a4937992945511f6a0\\expr.ipynb\"><img src=\"__pv_it\\4aa90dbb49895a2ed67e732a4937992945511f6a0\\expr.png\" style=\"display:inline;vertical-align:middle;\" /></a></span></td></tr><tr><td>10</td><td>theorem</td><td></td><td><span style=\"font-size:20px;\"> &#x22A2;&nbsp;<a class=\"ProveItLink\" href=\"..\\numeral\\decimal\\__pv_it\\8ec7c40715fb76c0299f5d1738f05301132582830\\expr.ipynb\"><img src=\"..\\numeral\\decimal\\__pv_it\\8ec7c40715fb76c0299f5d1738f05301132582830\\expr.png\" style=\"display:inline;vertical-align:middle;\" /></a></span></td></tr>\n",
       "<tr><td>&nbsp;</td><td colspan=4 style-\"text-align:left\"><a class=\"ProveItLink\" href=\"..\\numeral\\decimal\\_proofs_\\add_4_1.ipynb\">proveit.number.numeral.decimal.add_4_1</a></td></tr><tr><td>11</td><td>theorem</td><td></td><td><span style=\"font-size:20px;\"> &#x22A2;&nbsp;<a class=\"ProveItLink\" href=\"..\\..\\logic\\set_theory\\membership\\__pv_it\\f7e11007fd87ce16168fa9c3281fa02cd002748c0\\expr.ipynb\"><img src=\"..\\..\\logic\\set_theory\\membership\\__pv_it\\f7e11007fd87ce16168fa9c3281fa02cd002748c0\\expr.png\" style=\"display:inline;vertical-align:middle;\" /></a></span></td></tr>\n",
       "<tr><td>&nbsp;</td><td colspan=4 style-\"text-align:left\"><a class=\"ProveItLink\" href=\"..\\..\\logic\\set_theory\\membership\\_proofs_\\exp_set_4.ipynb\">proveit.logic.set_theory.membership.exp_set_4</a></td></tr><tr><td>12</td><td>theorem</td><td></td><td><span style=\"font-size:20px;\"> &#x22A2;&nbsp;<a class=\"ProveItLink\" href=\"__pv_it\\4af57483e6f797f5a7108ec09e2d432824519a280\\expr.ipynb\"><img src=\"__pv_it\\4af57483e6f797f5a7108ec09e2d432824519a280\\expr.png\" style=\"display:inline;vertical-align:middle;\" /></a></span></td></tr>\n",
       "<tr><td>&nbsp;</td><td colspan=4 style-\"text-align:left\"><a class=\"ProveItLink\" href=\"_proofs_\\less__in__less_eq_relations.ipynb\">proveit.number.ordering.less__in__less_eq_relations</a></td></tr><tr><td>13</td><td>theorem</td><td></td><td><span style=\"font-size:20px;\"> &#x22A2;&nbsp;<a class=\"ProveItLink\" href=\"__pv_it\\52e4c37298cc06242e4961c997f987ffe8f0ef9a0\\expr.ipynb\"><img src=\"__pv_it\\52e4c37298cc06242e4961c997f987ffe8f0ef9a0\\expr.png\" style=\"display:inline;vertical-align:middle;\" /></a></span></td></tr>\n",
       "<tr><td>&nbsp;</td><td colspan=4 style-\"text-align:left\"><a class=\"ProveItLink\" href=\"_proofs_\\less_eq__in__less_eq_relations.ipynb\">proveit.number.ordering.less_eq__in__less_eq_relations</a></td></tr><tr><td>14</td><td>theorem</td><td></td><td><span style=\"font-size:20px;\"> &#x22A2;&nbsp;<a class=\"ProveItLink\" href=\"__pv_it\\d8e822cd87a4f4ab21e7d7d96e093f2d7475f34e0\\expr.ipynb\"><img src=\"__pv_it\\d8e822cd87a4f4ab21e7d7d96e093f2d7475f34e0\\expr.png\" style=\"display:inline;vertical-align:middle;\" /></a></span></td></tr>\n",
       "<tr><td>&nbsp;</td><td colspan=4 style-\"text-align:left\"><a class=\"ProveItLink\" href=\"_proofs_\\eq__in__less_eq_relations.ipynb\">proveit.number.ordering.eq__in__less_eq_relations</a></td></tr><tr><td>15</td><td>theorem</td><td></td><td><span style=\"font-size:20px;\"> &#x22A2;&nbsp;<a class=\"ProveItLink\" href=\"..\\..\\logic\\set_theory\\membership\\__pv_it\\1a350ce100d9465f0a6946d50719ad9eb7e771f10\\expr.ipynb\"><img src=\"..\\..\\logic\\set_theory\\membership\\__pv_it\\1a350ce100d9465f0a6946d50719ad9eb7e771f10\\expr.png\" style=\"display:inline;vertical-align:middle;\" /></a></span></td></tr>\n",
       "<tr><td>&nbsp;</td><td colspan=4 style-\"text-align:left\"><a class=\"ProveItLink\" href=\"..\\..\\logic\\set_theory\\membership\\_proofs_\\exp_set_5.ipynb\">proveit.logic.set_theory.membership.exp_set_5</a></td></tr><tr><td>16</td><td>assumption</td><td></td><td><span style=\"font-size:20px;\"><a class=\"ProveItLink\" href=\"__pv_it\\31311f99a9b14f503b80883c4af83340a0d09df80\\expr.ipynb\"><img src=\"__pv_it\\31311f99a9b14f503b80883c4af83340a0d09df80\\expr.png\" style=\"display:inline;vertical-align:middle;\" /></a> &#x22A2;&nbsp;<a class=\"ProveItLink\" href=\"__pv_it\\adf0dd93b982fe9324802bebe47321c8702415320\\expr.ipynb\"><img src=\"__pv_it\\adf0dd93b982fe9324802bebe47321c8702415320\\expr.png\" style=\"display:inline;vertical-align:middle;\" /></a></span></td></tr>\n",
       "<tr><td>17</td><td>assumption</td><td></td><td><span style=\"font-size:20px;\"><a class=\"ProveItLink\" href=\"__pv_it\\74a27a0311e1648dfbfbbf24ad31ebc93bdcb02c0\\expr.ipynb\"><img src=\"__pv_it\\74a27a0311e1648dfbfbbf24ad31ebc93bdcb02c0\\expr.png\" style=\"display:inline;vertical-align:middle;\" /></a> &#x22A2;&nbsp;<a class=\"ProveItLink\" href=\"__pv_it\\4bc490873b57fc3507f35370bd3b6f88a4b3b3640\\expr.ipynb\"><img src=\"__pv_it\\4bc490873b57fc3507f35370bd3b6f88a4b3b3640\\expr.png\" style=\"display:inline;vertical-align:middle;\" /></a></span></td></tr>\n",
       "<tr><td>18</td><td>assumption</td><td></td><td><span style=\"font-size:20px;\"><a class=\"ProveItLink\" href=\"__pv_it\\ca892f0c65cf8caa959c434a7c9d48482ca1395f0\\expr.ipynb\"><img src=\"__pv_it\\ca892f0c65cf8caa959c434a7c9d48482ca1395f0\\expr.png\" style=\"display:inline;vertical-align:middle;\" /></a> &#x22A2;&nbsp;<a class=\"ProveItLink\" href=\"__pv_it\\e01e77f82eccfd67aa5577b7d50c92ea5b9042720\\expr.ipynb\"><img src=\"__pv_it\\e01e77f82eccfd67aa5577b7d50c92ea5b9042720\\expr.png\" style=\"display:inline;vertical-align:middle;\" /></a></span></td></tr>\n",
       "<tr><td>19</td><td>assumption</td><td></td><td><span style=\"font-size:20px;\"><a class=\"ProveItLink\" href=\"__pv_it\\2d570cb747ae7b65d9c675375b5c0e8e697551750\\expr.ipynb\"><img src=\"__pv_it\\2d570cb747ae7b65d9c675375b5c0e8e697551750\\expr.png\" style=\"display:inline;vertical-align:middle;\" /></a> &#x22A2;&nbsp;<a class=\"ProveItLink\" href=\"__pv_it\\38b404b5d58d801fda30971cf4d3d7fbffda86eb0\\expr.ipynb\"><img src=\"__pv_it\\38b404b5d58d801fda30971cf4d3d7fbffda86eb0\\expr.png\" style=\"display:inline;vertical-align:middle;\" /></a></span></td></tr>\n",
       "<tr><td>20</td><td>assumption</td><td></td><td><span style=\"font-size:20px;\"><a class=\"ProveItLink\" href=\"__pv_it\\f08a1f9619e991ee65be64ed002b3e19cfd76d660\\expr.ipynb\"><img src=\"__pv_it\\f08a1f9619e991ee65be64ed002b3e19cfd76d660\\expr.png\" style=\"display:inline;vertical-align:middle;\" /></a> &#x22A2;&nbsp;<a class=\"ProveItLink\" href=\"__pv_it\\55702c3290ae7175baeefbda0c0a6ce0598f81e60\\expr.ipynb\"><img src=\"__pv_it\\55702c3290ae7175baeefbda0c0a6ce0598f81e60\\expr.png\" style=\"display:inline;vertical-align:middle;\" /></a></span></td></tr>\n"
      ],
      "text/plain": [
       "<proveit._core_.proof.Specialization instance at 0x0000000008EBF648>"
      ]
     },
     "execution_count": 7,
     "metadata": {},
     "output_type": "execute_result"
    }
   ],
   "source": [
    "test.proof()"
   ]
  },
  {
   "cell_type": "code",
   "execution_count": null,
   "metadata": {
    "collapsed": true
   },
   "outputs": [],
   "source": []
  },
  {
   "cell_type": "code",
   "execution_count": 9,
   "metadata": {
    "collapsed": false,
    "deletable": true,
    "editable": true
   },
   "outputs": [
    {
     "data": {
      "text/html": [
       "<table><tr><th>&nbsp;</th><th>step type</th><th>requirements</th><th>statement</th></tr>\n",
       "<tr><td>0</td><td>specialization</td><td>3, 1, 2</td><td><span style=\"font-size:20px;\"> &#x22A2;&nbsp;<a class=\"ProveItLink\" href=\"__pv_it\\67b8bb81ae74ab3a8e314a65e720c49c18f2f9790\\expr.ipynb\"><img src=\"__pv_it\\67b8bb81ae74ab3a8e314a65e720c49c18f2f9790\\expr.png\" style=\"display:inline;vertical-align:middle;\" /></a></span></td></tr>\n",
       "<tr><td>&nbsp;</td><td colspan=4 style=\"text-align:left\"><span style=\"font-size:20px;\"><a class=\"ProveItLink\" href=\"__pv_it\\6e0e2c35f167d38089918c081ba92ff0cd469b3d0\\expr.ipynb\"><img src=\"__pv_it\\6e0e2c35f167d38089918c081ba92ff0cd469b3d0\\expr.png\" style=\"display:inline;vertical-align:middle;\" /></a>, <a class=\"ProveItLink\" href=\"__pv_it\\8f634c84f76cb85a01b05f35e32acf9c12ae488c0\\expr.ipynb\"><img src=\"__pv_it\\8f634c84f76cb85a01b05f35e32acf9c12ae488c0\\expr.png\" style=\"display:inline;vertical-align:middle;\" /></a>, <a class=\"ProveItLink\" href=\"__pv_it\\969556347edc9b5d50d853c03de175e2f24e2f190\\expr.ipynb\"><img src=\"__pv_it\\969556347edc9b5d50d853c03de175e2f24e2f190\\expr.png\" style=\"display:inline;vertical-align:middle;\" /></a></span></td></tr><tr><td>1</td><td>theorem</td><td></td><td><span style=\"font-size:20px;\"> &#x22A2;&nbsp;<a class=\"ProveItLink\" href=\"..\\numeral\\decimal\\__pv_it\\d061cb0628e074acde89964f5b6fcd58443be5cc0\\expr.ipynb\"><img src=\"..\\numeral\\decimal\\__pv_it\\d061cb0628e074acde89964f5b6fcd58443be5cc0\\expr.png\" style=\"display:inline;vertical-align:middle;\" /></a></span></td></tr>\n",
       "<tr><td>&nbsp;</td><td colspan=4 style-\"text-align:left\"><a class=\"ProveItLink\" href=\"..\\numeral\\decimal\\_proofs_\\less_1_2.ipynb\">proveit.number.numeral.decimal.less_1_2</a></td></tr><tr><td>2</td><td>specialization</td><td>3, 4, 5</td><td><span style=\"font-size:20px;\"> &#x22A2;&nbsp;<a class=\"ProveItLink\" href=\"__pv_it\\e223242d38e0309aedde339e8e515f87e98acaa20\\expr.ipynb\"><img src=\"__pv_it\\e223242d38e0309aedde339e8e515f87e98acaa20\\expr.png\" style=\"display:inline;vertical-align:middle;\" /></a></span></td></tr>\n",
       "<tr><td>&nbsp;</td><td colspan=4 style=\"text-align:left\"><span style=\"font-size:20px;\"><a class=\"ProveItLink\" href=\"__pv_it\\44ba1187d77c3653ddac55afa611b39fc43552300\\expr.ipynb\"><img src=\"__pv_it\\44ba1187d77c3653ddac55afa611b39fc43552300\\expr.png\" style=\"display:inline;vertical-align:middle;\" /></a>, <a class=\"ProveItLink\" href=\"__pv_it\\0777fa48038f429abc9310214db837f79fcaa9140\\expr.ipynb\"><img src=\"__pv_it\\0777fa48038f429abc9310214db837f79fcaa9140\\expr.png\" style=\"display:inline;vertical-align:middle;\" /></a>, <a class=\"ProveItLink\" href=\"__pv_it\\969556347edc9b5d50d853c03de175e2f24e2f190\\expr.ipynb\"><img src=\"__pv_it\\969556347edc9b5d50d853c03de175e2f24e2f190\\expr.png\" style=\"display:inline;vertical-align:middle;\" /></a></span></td></tr><tr><td>3</td><td>axiom</td><td></td><td><span style=\"font-size:20px;\"> &#x22A2;&nbsp;<a class=\"ProveItLink\" href=\"__pv_it\\e69affa6d8a3110a379bc6ce858efa9788bebbe20\\expr.ipynb\"><img src=\"__pv_it\\e69affa6d8a3110a379bc6ce858efa9788bebbe20\\expr.png\" style=\"display:inline;vertical-align:middle;\" /></a></span></td></tr>\n",
       "<tr><td>&nbsp;</td><td colspan=4 style-\"text-align:left\"><a class=\"ProveItLink\" href=\"_axioms_.ipynb#transitivityLessLess\">proveit.number.ordering.transitivityLessLess</a></td></tr><tr><td>4</td><td>theorem</td><td></td><td><span style=\"font-size:20px;\"> &#x22A2;&nbsp;<a class=\"ProveItLink\" href=\"..\\numeral\\decimal\\__pv_it\\ada949820df50294bf0eea60c3885b4e8e7283050\\expr.ipynb\"><img src=\"..\\numeral\\decimal\\__pv_it\\ada949820df50294bf0eea60c3885b4e8e7283050\\expr.png\" style=\"display:inline;vertical-align:middle;\" /></a></span></td></tr>\n",
       "<tr><td>&nbsp;</td><td colspan=4 style-\"text-align:left\"><a class=\"ProveItLink\" href=\"..\\numeral\\decimal\\_proofs_\\less_2_3.ipynb\">proveit.number.numeral.decimal.less_2_3</a></td></tr><tr><td>5</td><td>theorem</td><td></td><td><span style=\"font-size:20px;\"> &#x22A2;&nbsp;<a class=\"ProveItLink\" href=\"..\\numeral\\decimal\\__pv_it\\562cf730bac16aa36b8117e586c62bb0b41ebd8f0\\expr.ipynb\"><img src=\"..\\numeral\\decimal\\__pv_it\\562cf730bac16aa36b8117e586c62bb0b41ebd8f0\\expr.png\" style=\"display:inline;vertical-align:middle;\" /></a></span></td></tr>\n",
       "<tr><td>&nbsp;</td><td colspan=4 style-\"text-align:left\"><a class=\"ProveItLink\" href=\"..\\numeral\\decimal\\_proofs_\\less_3_4.ipynb\">proveit.number.numeral.decimal.less_3_4</a></td></tr>"
      ],
      "text/plain": [
       "<proveit._core_.proof.Specialization instance at 0x000000000910BBC8>"
      ]
     },
     "execution_count": 9,
     "metadata": {},
     "output_type": "execute_result"
    }
   ],
   "source": [
    "from proveit.number import one, four, Less\n",
    "Less.sort([one, four], reorder=False).proof()"
   ]
  },
  {
   "cell_type": "code",
   "execution_count": 10,
   "metadata": {
    "collapsed": false,
    "deletable": true,
    "editable": true
   },
   "outputs": [
    {
     "name": "stdout",
     "output_type": "stream",
     "text": [
      "inv found previous 1\n",
      "1\n"
     ]
    }
   ],
   "source": [
    "from proveit.logic import Equals\n",
    "from proveit import Lambda\n",
    "from proveit.number import Add, one, two\n",
    "from proveit._common_ import i\n",
    "Add(one, one)\n",
    "print 'inv', Equals.invert(Lambda(i, Add(i, one)), two)"
   ]
  },
  {
   "cell_type": "markdown",
   "metadata": {
    "deletable": true,
    "editable": true
   },
   "source": [
    "### Transitivity search"
   ]
  },
  {
   "cell_type": "code",
   "execution_count": 5,
   "metadata": {
    "collapsed": false,
    "deletable": true,
    "editable": true
   },
   "outputs": [
    {
     "data": {
      "text/html": [
       "<strong id=\"assumptions\">assumptions:</strong> <a class=\"ProveItLink\" href=\"__pv_it\\ebd4b0b63f788c0c344f03d7157a1867341dc1b10\\expr.ipynb\"><img src=\"__pv_it\\ebd4b0b63f788c0c344f03d7157a1867341dc1b10\\expr.png\" style=\"display:inline;vertical-align:middle;\" /></a><br>"
      ],
      "text/plain": [
       "assumptions: (t >= a , t < u , u = v , v <= w , x > w , x < y , z >= y , u < z , w > t)"
      ]
     },
     "execution_count": 5,
     "metadata": {},
     "output_type": "execute_result"
    }
   ],
   "source": [
    "assumptions = [GreaterEq(t, a), Less(t, u), Equals(u, v), LessEq(v, w), Greater(x, w), Less(x, y), GreaterEq(z, y), Less(u, z), Greater(w, t)]"
   ]
  },
  {
   "cell_type": "code",
   "execution_count": 4,
   "metadata": {
    "collapsed": true,
    "deletable": true,
    "editable": true
   },
   "outputs": [],
   "source": [
    "random.shuffle(assumptions)"
   ]
  },
  {
   "cell_type": "code",
   "execution_count": 5,
   "metadata": {
    "collapsed": false,
    "deletable": true,
    "editable": true,
    "scrolled": false
   },
   "outputs": [
    {
     "data": {
      "text/html": [
       "<span style=\"font-size:20px;\"><a class=\"ProveItLink\" href=\"__pv_it\\e6b3b4db971c08998b8d551ced9d45c1c0bbf0ca0\\expr.ipynb\"><img src=\"__pv_it\\e6b3b4db971c08998b8d551ced9d45c1c0bbf0ca0\\expr.png\" style=\"display:inline;vertical-align:middle;\" /></a> &#x22A2;&nbsp;<a class=\"ProveItLink\" href=\"__pv_it\\bf03bce7ba43b2500344891dbb35a86182cbe8520\\expr.ipynb\"><img src=\"__pv_it\\bf03bce7ba43b2500344891dbb35a86182cbe8520\\expr.png\" style=\"display:inline;vertical-align:middle;\" /></a></span>"
      ],
      "text/plain": [
       "{(t >= a),(u < z),(t < u)} |= a < z"
      ]
     },
     "execution_count": 5,
     "metadata": {},
     "output_type": "execute_result"
    }
   ],
   "source": [
    "Less(a, z).prove(assumptions)"
   ]
  },
  {
   "cell_type": "code",
   "execution_count": 6,
   "metadata": {
    "collapsed": false,
    "deletable": true,
    "editable": true
   },
   "outputs": [
    {
     "data": {
      "text/html": [
       "<span style=\"font-size:20px;\"><a class=\"ProveItLink\" href=\"__pv_it\\e6b3b4db971c08998b8d551ced9d45c1c0bbf0ca0\\expr.ipynb\"><img src=\"__pv_it\\e6b3b4db971c08998b8d551ced9d45c1c0bbf0ca0\\expr.png\" style=\"display:inline;vertical-align:middle;\" /></a> &#x22A2;&nbsp;<a class=\"ProveItLink\" href=\"__pv_it\\786adcf6290531c93c10e4ffa100ab35bea890ff0\\expr.ipynb\"><img src=\"__pv_it\\786adcf6290531c93c10e4ffa100ab35bea890ff0\\expr.png\" style=\"display:inline;vertical-align:middle;\" /></a></span>"
      ],
      "text/plain": [
       "{(t >= a),(u < z),(t < u)} |= z > a"
      ]
     },
     "execution_count": 6,
     "metadata": {},
     "output_type": "execute_result"
    }
   ],
   "source": [
    "Greater(z, a).prove(assumptions)"
   ]
  },
  {
   "cell_type": "markdown",
   "metadata": {
    "deletable": true,
    "editable": true
   },
   "source": [
    "### Transitivity sort"
   ]
  },
  {
   "cell_type": "code",
   "execution_count": 7,
   "metadata": {
    "collapsed": false,
    "deletable": true,
    "editable": true
   },
   "outputs": [
    {
     "data": {
      "text/html": [
       "<strong id=\"assumptions\">assumptions:</strong> <a class=\"ProveItLink\" href=\"__pv_it\\8dcd313a45f8c603333796691313c60417a90fb90\\expr.ipynb\"><img src=\"__pv_it\\8dcd313a45f8c603333796691313c60417a90fb90\\expr.png\" style=\"display:inline;vertical-align:middle;\" /></a><br>"
      ],
      "text/plain": [
       "assumptions: ((b < a),(c >= a),(c = d),(d <= e))"
      ]
     },
     "execution_count": 7,
     "metadata": {},
     "output_type": "execute_result"
    }
   ],
   "source": [
    "assumptions = [Less(b, a), GreaterEq(c, a), Equals(c, d), LessEq(d, e)]"
   ]
  },
  {
   "cell_type": "code",
   "execution_count": 8,
   "metadata": {
    "collapsed": false,
    "deletable": true,
    "editable": true,
    "scrolled": true
   },
   "outputs": [
    {
     "name": "stdout",
     "output_type": "stream",
     "text": [
      "[e, b, a, c]\n"
     ]
    },
    {
     "data": {
      "text/html": [
       "<a class=\"ProveItLink\" href=\"__pv_it\\fe476e97839690bcea2ed10f9576738d23e5d3b50\\expr.ipynb\"><img src=\"__pv_it\\fe476e97839690bcea2ed10f9576738d23e5d3b50\\expr.png\" style=\"display:inline;vertical-align:middle;\" /></a>"
      ],
      "text/plain": [
       "b < a <= c <= e"
      ]
     },
     "execution_count": 8,
     "metadata": {},
     "output_type": "execute_result"
    }
   ],
   "source": [
    "to_sort = [a, b, c, e]\n",
    "random.shuffle(to_sort)\n",
    "random.shuffle(assumptions)\n",
    "print to_sort\n",
    "Less.sort(to_sort, assumptions=assumptions)"
   ]
  },
  {
   "cell_type": "code",
   "execution_count": 9,
   "metadata": {
    "collapsed": false,
    "deletable": true,
    "editable": true,
    "scrolled": true
   },
   "outputs": [
    {
     "name": "stdout",
     "output_type": "stream",
     "text": [
      "[d, a, c, b, e]\n"
     ]
    },
    {
     "data": {
      "text/html": [
       "<a class=\"ProveItLink\" href=\"__pv_it\\f3df3630eee5798af87cd291976703b979946de50\\expr.ipynb\"><img src=\"__pv_it\\f3df3630eee5798af87cd291976703b979946de50\\expr.png\" style=\"display:inline;vertical-align:middle;\" /></a>"
      ],
      "text/plain": [
       "b < a <= d = c <= e"
      ]
     },
     "execution_count": 9,
     "metadata": {},
     "output_type": "execute_result"
    }
   ],
   "source": [
    "to_sort = [a, b, c, d, e]\n",
    "random.shuffle(to_sort)\n",
    "random.shuffle(assumptions)\n",
    "print to_sort\n",
    "Less.sort(to_sort, assumptions=assumptions)"
   ]
  },
  {
   "cell_type": "code",
   "execution_count": 10,
   "metadata": {
    "collapsed": false,
    "deletable": true,
    "editable": true
   },
   "outputs": [],
   "source": [
    "%end demonstrations"
   ]
  },
  {
   "cell_type": "code",
   "execution_count": 1,
   "metadata": {
    "collapsed": false,
    "deletable": true,
    "editable": true
   },
   "outputs": [],
   "source": [
    "from proveit import Iter, Indexed, Lambda"
   ]
  },
  {
   "cell_type": "code",
   "execution_count": 3,
   "metadata": {
    "collapsed": false,
    "deletable": true,
    "editable": true
   },
   "outputs": [],
   "source": [
    "from proveit.number import zero, one\n",
    "from proveit._common_ import x, i, n\n",
    "from proveit.number import Add"
   ]
  },
  {
   "cell_type": "code",
   "execution_count": 3,
   "metadata": {
    "collapsed": false,
    "deletable": true,
    "editable": true,
    "scrolled": true
   },
   "outputs": [
    {
     "data": {
      "text/html": [
       "<a class=\"ProveItLink\" href=\"__pv_it\\2948ffd427050309ffb23d20874ee245fd749b370\\expr.ipynb\"><img src=\"__pv_it\\2948ffd427050309ffb23d20874ee245fd749b370\\expr.png\" style=\"display:inline;vertical-align:middle;\" /></a>"
      ],
      "text/plain": [
       "x_(1) + ... + x_(n)"
      ]
     },
     "execution_count": 3,
     "metadata": {},
     "output_type": "execute_result"
    }
   ],
   "source": [
    "Add(Iter(Lambda(i, Indexed(x, i)), one, n))"
   ]
  },
  {
   "cell_type": "code",
   "execution_count": 6,
   "metadata": {
    "collapsed": false,
    "deletable": true,
    "editable": true
   },
   "outputs": [
    {
     "data": {
      "text/html": [
       "<a class=\"ProveItLink\" href=\"__pv_it\\b9b04833e1ff9378eeabc6ec7298329511bf51870\\expr.ipynb\"><img src=\"__pv_it\\b9b04833e1ff9378eeabc6ec7298329511bf51870\\expr.png\" style=\"display:inline;vertical-align:middle;\" /></a>"
      ],
      "text/plain": [
       "x + i + n"
      ]
     },
     "execution_count": 6,
     "metadata": {},
     "output_type": "execute_result"
    }
   ],
   "source": [
    "Add(x, i, n)"
   ]
  },
  {
   "cell_type": "code",
   "execution_count": null,
   "metadata": {
    "collapsed": true,
    "deletable": true,
    "editable": true
   },
   "outputs": [],
   "source": []
  }
 ],
 "metadata": {
  "kernelspec": {
   "display_name": "Python 2",
   "language": "python",
   "name": "python2"
  },
  "language_info": {
   "codemirror_mode": {
    "name": "ipython",
    "version": 2
   },
   "file_extension": ".py",
   "mimetype": "text/x-python",
   "name": "python",
   "nbconvert_exporter": "python",
   "pygments_lexer": "ipython2",
   "version": "2.7.11"
  }
 },
 "nbformat": 4,
 "nbformat_minor": 0
}
