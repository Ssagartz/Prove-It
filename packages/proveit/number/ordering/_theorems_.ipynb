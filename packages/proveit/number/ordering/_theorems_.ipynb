{
 "cells": [
  {
   "cell_type": "markdown",
   "metadata": {
    "collapsed": true,
    "deletable": true,
    "editable": true
   },
   "source": [
    "Theorems for context <a href=\"_context_.ipynb\" class=\"ProveItLink\">proveit.number.ordering</a>\n",
    "========"
   ]
  },
  {
   "cell_type": "code",
   "execution_count": 1,
   "metadata": {
    "collapsed": false,
    "deletable": true,
    "editable": true,
    "scrolled": true
   },
   "outputs": [
    {
     "name": "stdout",
     "output_type": "stream",
     "text": [
      "Defining theorems for context 'proveit.number.ordering'\n",
      "Subsequent end-of-cell assignments will define theorems\n",
      "'%end theorems' will finalize the definitions\n"
     ]
    }
   ],
   "source": [
    "from proveit.logic import Forall, Or, Equals, Iff, Implies\n",
    "from proveit.number import Reals\n",
    "from proveit.number import Less, LessEq, Greater, GreaterEq\n",
    "from proveit._common_ import x, y, z\n",
    "%begin theorems"
   ]
  },
  {
   "cell_type": "code",
   "execution_count": 2,
   "metadata": {
    "collapsed": false,
    "deletable": true,
    "editable": true
   },
   "outputs": [
    {
     "data": {
      "text/html": [
       "<strong id=\"reverseLess\"><a class=\"ProveItLink\" href=\"_proofs_\\reverseLess.ipynb\">reverseLess</a>:</strong> <a class=\"ProveItLink\" href=\"__pv_it\\21221d34b32cd7b8babfc6e14125d09dd06f55d30\\expr.ipynb\"><img src=\"__pv_it\\21221d34b32cd7b8babfc6e14125d09dd06f55d30\\expr.png\" style=\"display:inline;vertical-align:middle;\" /></a><br>"
      ],
      "text/plain": [
       "reverseLess: forall_{x, y | (x < y)} (y > x)"
      ]
     },
     "execution_count": 2,
     "metadata": {},
     "output_type": "execute_result"
    }
   ],
   "source": [
    "reverseLess = Forall((x, y), Greater(y, x), conditions=[Less(x, y)])"
   ]
  },
  {
   "cell_type": "code",
   "execution_count": 3,
   "metadata": {
    "collapsed": false,
    "deletable": true,
    "editable": true
   },
   "outputs": [
    {
     "data": {
      "text/html": [
       "<strong id=\"reverseGreater\"><a class=\"ProveItLink\" href=\"_proofs_\\reverseGreater.ipynb\">reverseGreater</a>:</strong> <a class=\"ProveItLink\" href=\"__pv_it\\502fd816d6c64e43e800ec94d84099bce94fa1dc0\\expr.ipynb\"><img src=\"__pv_it\\502fd816d6c64e43e800ec94d84099bce94fa1dc0\\expr.png\" style=\"display:inline;vertical-align:middle;\" /></a><br>"
      ],
      "text/plain": [
       "reverseGreater: forall_{x, y | (x > y)} (y < x)"
      ]
     },
     "execution_count": 3,
     "metadata": {},
     "output_type": "execute_result"
    }
   ],
   "source": [
    "reverseGreater = Forall((x, y), Less(y, x), conditions=[Greater(x, y)])"
   ]
  },
  {
   "cell_type": "code",
   "execution_count": 4,
   "metadata": {
    "collapsed": false,
    "deletable": true,
    "editable": true
   },
   "outputs": [
    {
     "data": {
      "text/html": [
       "<strong id=\"reverseLessEq\"><a class=\"ProveItLink\" href=\"_proofs_\\reverseLessEq.ipynb\">reverseLessEq</a>:</strong> <a class=\"ProveItLink\" href=\"__pv_it\\353de3c938a622a7cd44c4cc8093ef52f9faa87a0\\expr.ipynb\"><img src=\"__pv_it\\353de3c938a622a7cd44c4cc8093ef52f9faa87a0\\expr.png\" style=\"display:inline;vertical-align:middle;\" /></a><br>"
      ],
      "text/plain": [
       "reverseLessEq: forall_{x, y | (x <= y)} (y >= x)"
      ]
     },
     "execution_count": 4,
     "metadata": {},
     "output_type": "execute_result"
    }
   ],
   "source": [
    "reverseLessEq = Forall((x, y), GreaterEq(y, x), conditions=[LessEq(x, y)])"
   ]
  },
  {
   "cell_type": "code",
   "execution_count": 5,
   "metadata": {
    "collapsed": false,
    "deletable": true,
    "editable": true
   },
   "outputs": [
    {
     "data": {
      "text/html": [
       "<strong id=\"reverseGreaterEq\"><a class=\"ProveItLink\" href=\"_proofs_\\reverseGreaterEq.ipynb\">reverseGreaterEq</a>:</strong> <a class=\"ProveItLink\" href=\"__pv_it\\4018a4026fc6ffae9bd337bbf80a5c64d4a981eb0\\expr.ipynb\"><img src=\"__pv_it\\4018a4026fc6ffae9bd337bbf80a5c64d4a981eb0\\expr.png\" style=\"display:inline;vertical-align:middle;\" /></a><br>"
      ],
      "text/plain": [
       "reverseGreaterEq: forall_{x, y | (x >= y)} (y <= x)"
      ]
     },
     "execution_count": 5,
     "metadata": {},
     "output_type": "execute_result"
    }
   ],
   "source": [
    "reverseGreaterEq = Forall((x, y), LessEq(y, x), conditions=[GreaterEq(x, y)])"
   ]
  },
  {
   "cell_type": "code",
   "execution_count": 6,
   "metadata": {
    "collapsed": false,
    "deletable": true,
    "editable": true
   },
   "outputs": [
    {
     "data": {
      "text/html": [
       "<strong id=\"transitivityLessEqLess\"><a class=\"ProveItLink\" href=\"_proofs_\\transitivityLessEqLess.ipynb\">transitivityLessEqLess</a>:</strong> <a class=\"ProveItLink\" href=\"__pv_it\\a76428b2f7a7216878598f666db717aa082fcdca0\\expr.ipynb\"><img src=\"__pv_it\\a76428b2f7a7216878598f666db717aa082fcdca0\\expr.png\" style=\"display:inline;vertical-align:middle;\" /></a><br>"
      ],
      "text/plain": [
       "transitivityLessEqLess: forall_{x, y, z | (x <= y),(y < z)} (x < z)"
      ]
     },
     "execution_count": 6,
     "metadata": {},
     "output_type": "execute_result"
    }
   ],
   "source": [
    "transitivityLessEqLess = Forall((x,y,z), Less(x, z), conditions=[LessEq(x,y), Less(y, z)])"
   ]
  },
  {
   "cell_type": "code",
   "execution_count": 7,
   "metadata": {
    "collapsed": false,
    "deletable": true,
    "editable": true
   },
   "outputs": [
    {
     "data": {
      "text/html": [
       "<strong id=\"transitivityLessLessEq\"><a class=\"ProveItLink\" href=\"_proofs_\\transitivityLessLessEq.ipynb\">transitivityLessLessEq</a>:</strong> <a class=\"ProveItLink\" href=\"__pv_it\\781114becb245b950730e81089dd5f458226ae7a0\\expr.ipynb\"><img src=\"__pv_it\\781114becb245b950730e81089dd5f458226ae7a0\\expr.png\" style=\"display:inline;vertical-align:middle;\" /></a><br>"
      ],
      "text/plain": [
       "transitivityLessLessEq: forall_{x, y, z | (x < y),(y <= z)} (x < z)"
      ]
     },
     "execution_count": 7,
     "metadata": {},
     "output_type": "execute_result"
    }
   ],
   "source": [
    "transitivityLessLessEq = Forall((x,y,z), Less(x, z), conditions=[Less(x,y), LessEq(y, z)])"
   ]
  },
  {
   "cell_type": "code",
   "execution_count": 8,
   "metadata": {
    "collapsed": false,
    "deletable": true,
    "editable": true
   },
   "outputs": [
    {
     "data": {
      "text/html": [
       "<strong id=\"transitivityLessEqLessEq\"><a class=\"ProveItLink\" href=\"_proofs_\\transitivityLessEqLessEq.ipynb\">transitivityLessEqLessEq</a>:</strong> <a class=\"ProveItLink\" href=\"__pv_it\\dc547cd6eac12ecefaf3a7842c255cf3e98000610\\expr.ipynb\"><img src=\"__pv_it\\dc547cd6eac12ecefaf3a7842c255cf3e98000610\\expr.png\" style=\"display:inline;vertical-align:middle;\" /></a><br>"
      ],
      "text/plain": [
       "transitivityLessEqLessEq: forall_{x, y, z | (x <= y),(y <= z)} (x <= z)"
      ]
     },
     "execution_count": 8,
     "metadata": {},
     "output_type": "execute_result"
    }
   ],
   "source": [
    "transitivityLessEqLessEq = Forall((x,y,z), LessEq(x, z), conditions=[LessEq(x,y), LessEq(y, z)])"
   ]
  },
  {
   "cell_type": "code",
   "execution_count": 9,
   "metadata": {
    "collapsed": false,
    "deletable": true,
    "editable": true
   },
   "outputs": [
    {
     "data": {
      "text/html": [
       "<strong id=\"transitivityGreaterGreater\"><a class=\"ProveItLink\" href=\"_proofs_\\transitivityGreaterGreater.ipynb\">transitivityGreaterGreater</a>:</strong> <a class=\"ProveItLink\" href=\"__pv_it\\a7263d32118dc1dea7dc3b9c1f9a2c116281cfef0\\expr.ipynb\"><img src=\"__pv_it\\a7263d32118dc1dea7dc3b9c1f9a2c116281cfef0\\expr.png\" style=\"display:inline;vertical-align:middle;\" /></a><br>"
      ],
      "text/plain": [
       "transitivityGreaterGreater: forall_{x, y, z | (x > y),(y > z)} (x > z)"
      ]
     },
     "execution_count": 9,
     "metadata": {},
     "output_type": "execute_result"
    }
   ],
   "source": [
    "transitivityGreaterGreater = Forall((x,y,z), Greater(x, z), conditions=[Greater(x,y), Greater(y, z)])"
   ]
  },
  {
   "cell_type": "code",
   "execution_count": 10,
   "metadata": {
    "collapsed": false,
    "deletable": true,
    "editable": true
   },
   "outputs": [
    {
     "data": {
      "text/html": [
       "<strong id=\"transitivityGreaterEqGreater\"><a class=\"ProveItLink\" href=\"_proofs_\\transitivityGreaterEqGreater.ipynb\">transitivityGreaterEqGreater</a>:</strong> <a class=\"ProveItLink\" href=\"__pv_it\\49e722149f8b340d6dc9bd41b0dd843ee98c05f00\\expr.ipynb\"><img src=\"__pv_it\\49e722149f8b340d6dc9bd41b0dd843ee98c05f00\\expr.png\" style=\"display:inline;vertical-align:middle;\" /></a><br>"
      ],
      "text/plain": [
       "transitivityGreaterEqGreater: forall_{x, y, z | (x >= y),(y > z)} (x > z)"
      ]
     },
     "execution_count": 10,
     "metadata": {},
     "output_type": "execute_result"
    }
   ],
   "source": [
    "transitivityGreaterEqGreater = Forall((x,y,z), Greater(x, z), conditions=[GreaterEq(x,y), Greater(y, z)])"
   ]
  },
  {
   "cell_type": "code",
   "execution_count": 11,
   "metadata": {
    "collapsed": false,
    "deletable": true,
    "editable": true
   },
   "outputs": [
    {
     "data": {
      "text/html": [
       "<strong id=\"transitivityGreaterGreaterEq\"><a class=\"ProveItLink\" href=\"_proofs_\\transitivityGreaterGreaterEq.ipynb\">transitivityGreaterGreaterEq</a>:</strong> <a class=\"ProveItLink\" href=\"__pv_it\\c61eee435c186d3881cf77874e8679d75ce349fa0\\expr.ipynb\"><img src=\"__pv_it\\c61eee435c186d3881cf77874e8679d75ce349fa0\\expr.png\" style=\"display:inline;vertical-align:middle;\" /></a><br>"
      ],
      "text/plain": [
       "transitivityGreaterGreaterEq: forall_{x, y, z | (x > y),(y >= z)} (x > z)"
      ]
     },
     "execution_count": 11,
     "metadata": {},
     "output_type": "execute_result"
    }
   ],
   "source": [
    "transitivityGreaterGreaterEq = Forall((x,y,z), Greater(x, z), conditions=[Greater(x,y), GreaterEq(y, z)])"
   ]
  },
  {
   "cell_type": "code",
   "execution_count": 12,
   "metadata": {
    "collapsed": false,
    "deletable": true,
    "editable": true
   },
   "outputs": [
    {
     "data": {
      "text/html": [
       "<strong id=\"transitivityGreaterEqGreaterEq\"><a class=\"ProveItLink\" href=\"_proofs_\\transitivityGreaterEqGreaterEq.ipynb\">transitivityGreaterEqGreaterEq</a>:</strong> <a class=\"ProveItLink\" href=\"__pv_it\\d1cfa55ddd143296a73bbd5f9d271fbf293cf8f30\\expr.ipynb\"><img src=\"__pv_it\\d1cfa55ddd143296a73bbd5f9d271fbf293cf8f30\\expr.png\" style=\"display:inline;vertical-align:middle;\" /></a><br>"
      ],
      "text/plain": [
       "transitivityGreaterEqGreaterEq: forall_{x, y, z | (x >= y),(y >= z)} (x >= z)"
      ]
     },
     "execution_count": 12,
     "metadata": {},
     "output_type": "execute_result"
    }
   ],
   "source": [
    "transitivityGreaterEqGreaterEq = Forall((x,y,z), GreaterEq(x, z), conditions=[GreaterEq(x,y), GreaterEq(y, z)])"
   ]
  },
  {
   "cell_type": "code",
   "execution_count": 13,
   "metadata": {
    "collapsed": false,
    "deletable": true,
    "editable": true
   },
   "outputs": [
    {
     "data": {
      "text/html": [
       "<strong id=\"symmetricLessEq\"><a class=\"ProveItLink\" href=\"_proofs_\\symmetricLessEq.ipynb\">symmetricLessEq</a>:</strong> <a class=\"ProveItLink\" href=\"__pv_it\\91c33f7f7bcee06bc3e5e46313eca15858e956720\\expr.ipynb\"><img src=\"__pv_it\\91c33f7f7bcee06bc3e5e46313eca15858e956720\\expr.png\" style=\"display:inline;vertical-align:middle;\" /></a><br>"
      ],
      "text/plain": [
       "symmetricLessEq: forall_{x, y | (x <= y),(y <= x)} (x = y)"
      ]
     },
     "execution_count": 13,
     "metadata": {},
     "output_type": "execute_result"
    }
   ],
   "source": [
    "symmetricLessEq = Forall((x,y), Equals(x, y), conditions=[LessEq(x,y), LessEq(y, x)])"
   ]
  },
  {
   "cell_type": "code",
   "execution_count": 14,
   "metadata": {
    "collapsed": false,
    "deletable": true,
    "editable": true
   },
   "outputs": [
    {
     "data": {
      "text/html": [
       "<strong id=\"symmetricGreaterEq\"><a class=\"ProveItLink\" href=\"_proofs_\\symmetricGreaterEq.ipynb\">symmetricGreaterEq</a>:</strong> <a class=\"ProveItLink\" href=\"__pv_it\\e9a24d890bccf6fb670a297a0faa359ad0475abd0\\expr.ipynb\"><img src=\"__pv_it\\e9a24d890bccf6fb670a297a0faa359ad0475abd0\\expr.png\" style=\"display:inline;vertical-align:middle;\" /></a><br>"
      ],
      "text/plain": [
       "symmetricGreaterEq: forall_{x, y | (x >= y),(y >= x)} (x = y)"
      ]
     },
     "execution_count": 14,
     "metadata": {},
     "output_type": "execute_result"
    }
   ],
   "source": [
    "symmetricGreaterEq = Forall((x,y), Equals(x, y), conditions=[GreaterEq(x,y), GreaterEq(y, x)])"
   ]
  },
  {
   "cell_type": "code",
   "execution_count": 15,
   "metadata": {
    "collapsed": false,
    "deletable": true,
    "editable": true
   },
   "outputs": [
    {
     "name": "stdout",
     "output_type": "stream",
     "text": [
      "Modifying theorem reverseLess in proveit.number.ordering context\n",
      "Modifying theorem reverseGreater in proveit.number.ordering context\n",
      "Modifying theorem reverseLessEq in proveit.number.ordering context\n",
      "Modifying theorem reverseGreaterEq in proveit.number.ordering context\n",
      "Modifying theorem transitivityLessEqLess in proveit.number.ordering context\n",
      "Modifying theorem transitivityLessLessEq in proveit.number.ordering context\n",
      "Modifying theorem transitivityLessEqLessEq in proveit.number.ordering context\n",
      "Modifying theorem transitivityGreaterGreater in proveit.number.ordering context\n",
      "Modifying theorem transitivityGreaterEqGreater in proveit.number.ordering context\n",
      "Modifying theorem transitivityGreaterGreaterEq in proveit.number.ordering context\n",
      "Modifying theorem transitivityGreaterEqGreaterEq in proveit.number.ordering context\n",
      "Modifying theorem symmetricLessEq in proveit.number.ordering context\n",
      "Modifying theorem symmetricGreaterEq in proveit.number.ordering context\n",
      "transitivityLessEqLess expression notebook is being updated\n",
      "transitivityGreaterGreaterEq expression notebook is being updated\n",
      "transitivityGreaterEqGreater expression notebook is being updated\n",
      "transitivityLessEqLessEq expression notebook is being updated\n",
      "reverseGreater expression notebook is being updated\n",
      "transitivityGreaterGreater expression notebook is being updated\n",
      "reverseLessEq expression notebook is being updated\n",
      "transitivityGreaterEqGreaterEq expression notebook is being updated\n",
      "reverseGreaterEq expression notebook is being updated\n",
      "transitivityLessLessEq expression notebook is being updated\n",
      "symmetricGreaterEq expression notebook is being updated\n",
      "reverseLess expression notebook is being updated\n",
      "symmetricLessEq expression notebook is being updated\n",
      "Theorems may be imported from autogenerated _theorems_.py\n"
     ]
    }
   ],
   "source": [
    "%end theorems"
   ]
  },
  {
   "cell_type": "code",
   "execution_count": 16,
   "metadata": {
    "collapsed": true,
    "deletable": true,
    "editable": true
   },
   "outputs": [],
   "source": []
  }
 ],
 "metadata": {
  "kernelspec": {
   "display_name": "Python 2",
   "language": "python",
   "name": "python2"
  },
  "language_info": {
   "codemirror_mode": {
    "name": "ipython",
    "version": 2
   },
   "file_extension": ".py",
   "mimetype": "text/x-python",
   "name": "python",
   "nbconvert_exporter": "python",
   "pygments_lexer": "ipython2",
   "version": "2.7.11"
  }
 },
 "nbformat": 4,
 "nbformat_minor": 0
}
