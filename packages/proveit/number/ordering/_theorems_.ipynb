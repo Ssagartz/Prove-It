{
 "cells": [
  {
   "cell_type": "markdown",
   "metadata": {
    "collapsed": true,
    "deletable": true,
    "editable": true
   },
   "source": [
    "Theorems for context <a href=\"_context_.ipynb\" class=\"ProveItLink\">proveit.number.ordering</a>\n",
    "========"
   ]
  },
  {
   "cell_type": "code",
   "execution_count": 1,
   "metadata": {
    "collapsed": false,
    "deletable": true,
    "editable": true,
    "scrolled": true
   },
   "outputs": [
    {
     "name": "stdout",
     "output_type": "stream",
     "text": [
      "Defining theorems for context 'proveit.number.ordering'\n",
      "Subsequent end-of-cell assignments will define theorems\n",
      "'%end theorems' will finalize the definitions\n"
     ]
    }
   ],
   "source": [
    "from proveit.logic import Forall, Or, Equals, Iff, Implies\n",
    "from proveit.number import Reals\n",
    "from proveit.number import Less, LessEq, Greater, GreaterEq\n",
    "from proveit._common_ import x, y, z\n",
    "%begin theorems"
   ]
  },
  {
   "cell_type": "code",
   "execution_count": 2,
   "metadata": {
    "collapsed": false,
    "deletable": true,
    "editable": true
   },
   "outputs": [
    {
     "data": {
      "text/html": [
       "<strong id=\"reverseLess\"><a class=\"ProveItLink\" href=\"_proofs_\\reverseLess.ipynb\" target=\"_blank\">reverseLess</a>:</strong> <a href=\"__pv_it\\256c8897c6eecf8b2ada258da5d0b528e63f814d0\\expr.ipynb\" target=\"_blank\"><img src=\"__pv_it\\256c8897c6eecf8b2ada258da5d0b528e63f814d0\\expr.png\" style=\"display:inline;vertical-align:middle;\" /></a><br>"
      ],
      "text/plain": [
       "reverseLess: forall_{x, y | (x < y)} (y > x)"
      ]
     },
     "execution_count": 2,
     "metadata": {},
     "output_type": "execute_result"
    }
   ],
   "source": [
    "reverseLess = Forall((x, y), Greater(y, x), conditions=[Less(x, y)])"
   ]
  },
  {
   "cell_type": "code",
   "execution_count": 3,
   "metadata": {
    "collapsed": false,
    "deletable": true,
    "editable": true
   },
   "outputs": [
    {
     "data": {
      "text/html": [
       "<strong id=\"reverseGreater\"><a class=\"ProveItLink\" href=\"_proofs_\\reverseGreater.ipynb\" target=\"_blank\">reverseGreater</a>:</strong> <a href=\"__pv_it\\db79cfadd0a3a3a148d2b70315110fe79e8a7a970\\expr.ipynb\" target=\"_blank\"><img src=\"__pv_it\\db79cfadd0a3a3a148d2b70315110fe79e8a7a970\\expr.png\" style=\"display:inline;vertical-align:middle;\" /></a><br>"
      ],
      "text/plain": [
       "reverseGreater: forall_{x, y | (x > y)} (y < x)"
      ]
     },
     "execution_count": 3,
     "metadata": {},
     "output_type": "execute_result"
    }
   ],
   "source": [
    "reverseGreater = Forall((x, y), Less(y, x), conditions=[Greater(x, y)])"
   ]
  },
  {
   "cell_type": "code",
   "execution_count": 4,
   "metadata": {
    "collapsed": false,
    "deletable": true,
    "editable": true
   },
   "outputs": [
    {
     "data": {
      "text/html": [
       "<strong id=\"reverseLessEq\"><a class=\"ProveItLink\" href=\"_proofs_\\reverseLessEq.ipynb\" target=\"_blank\">reverseLessEq</a>:</strong> <a href=\"__pv_it\\8183725254ae3511a0af700b29243d6ee37a6d6c0\\expr.ipynb\" target=\"_blank\"><img src=\"__pv_it\\8183725254ae3511a0af700b29243d6ee37a6d6c0\\expr.png\" style=\"display:inline;vertical-align:middle;\" /></a><br>"
      ],
      "text/plain": [
       "reverseLessEq: forall_{x, y | (x <= y)} (y >= x)"
      ]
     },
     "execution_count": 4,
     "metadata": {},
     "output_type": "execute_result"
    }
   ],
   "source": [
    "reverseLessEq = Forall((x, y), GreaterEq(y, x), conditions=[LessEq(x, y)])"
   ]
  },
  {
   "cell_type": "code",
   "execution_count": 5,
   "metadata": {
    "collapsed": false,
    "deletable": true,
    "editable": true
   },
   "outputs": [
    {
     "data": {
      "text/html": [
       "<strong id=\"reverseGreaterEq\"><a class=\"ProveItLink\" href=\"_proofs_\\reverseGreaterEq.ipynb\" target=\"_blank\">reverseGreaterEq</a>:</strong> <a href=\"__pv_it\\03a2d5de7e8ccb9ed66191555ffd9204983bcead0\\expr.ipynb\" target=\"_blank\"><img src=\"__pv_it\\03a2d5de7e8ccb9ed66191555ffd9204983bcead0\\expr.png\" style=\"display:inline;vertical-align:middle;\" /></a><br>"
      ],
      "text/plain": [
       "reverseGreaterEq: forall_{x, y | (x >= y)} (y <= x)"
      ]
     },
     "execution_count": 5,
     "metadata": {},
     "output_type": "execute_result"
    }
   ],
   "source": [
    "reverseGreaterEq = Forall((x, y), LessEq(y, x), conditions=[GreaterEq(x, y)])"
   ]
  },
  {
   "cell_type": "code",
   "execution_count": 6,
   "metadata": {
    "collapsed": false,
    "deletable": true,
    "editable": true
   },
   "outputs": [
    {
     "data": {
      "text/html": [
       "<strong id=\"transitivityLessEqLess\"><a class=\"ProveItLink\" href=\"_proofs_\\transitivityLessEqLess.ipynb\" target=\"_blank\">transitivityLessEqLess</a>:</strong> <a href=\"__pv_it\\3a2520c28e542c94eeff2fbb5cb5dc9ffd1f697d0\\expr.ipynb\" target=\"_blank\"><img src=\"__pv_it\\3a2520c28e542c94eeff2fbb5cb5dc9ffd1f697d0\\expr.png\" style=\"display:inline;vertical-align:middle;\" /></a><br>"
      ],
      "text/plain": [
       "transitivityLessEqLess: forall_{x, y, z | (x <= y),(y < z)} (x < z)"
      ]
     },
     "execution_count": 6,
     "metadata": {},
     "output_type": "execute_result"
    }
   ],
   "source": [
    "transitivityLessEqLess = Forall((x,y,z), Less(x, z), conditions=[LessEq(x,y), Less(y, z)])"
   ]
  },
  {
   "cell_type": "code",
   "execution_count": 7,
   "metadata": {
    "collapsed": false,
    "deletable": true,
    "editable": true
   },
   "outputs": [
    {
     "data": {
      "text/html": [
       "<strong id=\"transitivityLessLessEq\"><a class=\"ProveItLink\" href=\"_proofs_\\transitivityLessLessEq.ipynb\" target=\"_blank\">transitivityLessLessEq</a>:</strong> <a href=\"__pv_it\\6fd56b7b2212d175cb86211858c9733fc0f621500\\expr.ipynb\" target=\"_blank\"><img src=\"__pv_it\\6fd56b7b2212d175cb86211858c9733fc0f621500\\expr.png\" style=\"display:inline;vertical-align:middle;\" /></a><br>"
      ],
      "text/plain": [
       "transitivityLessLessEq: forall_{x, y, z | (x < y),(y <= z)} (x < z)"
      ]
     },
     "execution_count": 7,
     "metadata": {},
     "output_type": "execute_result"
    }
   ],
   "source": [
    "transitivityLessLessEq = Forall((x,y,z), Less(x, z), conditions=[Less(x,y), LessEq(y, z)])"
   ]
  },
  {
   "cell_type": "code",
   "execution_count": 8,
   "metadata": {
    "collapsed": false,
    "deletable": true,
    "editable": true
   },
   "outputs": [
    {
     "data": {
      "text/html": [
       "<strong id=\"transitivityLessEqLessEq\"><a class=\"ProveItLink\" href=\"_proofs_\\transitivityLessEqLessEq.ipynb\" target=\"_blank\">transitivityLessEqLessEq</a>:</strong> <a href=\"__pv_it\\ed943a03d9e493dacffc3b5cd067d4315577fe420\\expr.ipynb\" target=\"_blank\"><img src=\"__pv_it\\ed943a03d9e493dacffc3b5cd067d4315577fe420\\expr.png\" style=\"display:inline;vertical-align:middle;\" /></a><br>"
      ],
      "text/plain": [
       "transitivityLessEqLessEq: forall_{x, y, z | (x <= y),(y <= z)} (x <= z)"
      ]
     },
     "execution_count": 8,
     "metadata": {},
     "output_type": "execute_result"
    }
   ],
   "source": [
    "transitivityLessEqLessEq = Forall((x,y,z), LessEq(x, z), conditions=[LessEq(x,y), LessEq(y, z)])"
   ]
  },
  {
   "cell_type": "code",
   "execution_count": 9,
   "metadata": {
    "collapsed": false,
    "deletable": true,
    "editable": true
   },
   "outputs": [
    {
     "data": {
      "text/html": [
       "<strong id=\"transitivityGreaterGreater\"><a class=\"ProveItLink\" href=\"_proofs_\\transitivityGreaterGreater.ipynb\" target=\"_blank\">transitivityGreaterGreater</a>:</strong> <a href=\"__pv_it\\64efcf467848b7ecd09e65e8e71ff0650c291dea0\\expr.ipynb\" target=\"_blank\"><img src=\"__pv_it\\64efcf467848b7ecd09e65e8e71ff0650c291dea0\\expr.png\" style=\"display:inline;vertical-align:middle;\" /></a><br>"
      ],
      "text/plain": [
       "transitivityGreaterGreater: forall_{x, y, z | (x > y),(y > z)} (x > z)"
      ]
     },
     "execution_count": 9,
     "metadata": {},
     "output_type": "execute_result"
    }
   ],
   "source": [
    "transitivityGreaterGreater = Forall((x,y,z), Greater(x, z), conditions=[Greater(x,y), Greater(y, z)])"
   ]
  },
  {
   "cell_type": "code",
   "execution_count": 10,
   "metadata": {
    "collapsed": false,
    "deletable": true,
    "editable": true
   },
   "outputs": [
    {
     "data": {
      "text/html": [
       "<strong id=\"transitivityGreaterEqGreater\"><a class=\"ProveItLink\" href=\"_proofs_\\transitivityGreaterEqGreater.ipynb\" target=\"_blank\">transitivityGreaterEqGreater</a>:</strong> <a href=\"__pv_it\\0fb77bf72fdf6cfa3f742ac90e6400103f22913d0\\expr.ipynb\" target=\"_blank\"><img src=\"__pv_it\\0fb77bf72fdf6cfa3f742ac90e6400103f22913d0\\expr.png\" style=\"display:inline;vertical-align:middle;\" /></a><br>"
      ],
      "text/plain": [
       "transitivityGreaterEqGreater: forall_{x, y, z | (x >= y),(y > z)} (x > z)"
      ]
     },
     "execution_count": 10,
     "metadata": {},
     "output_type": "execute_result"
    }
   ],
   "source": [
    "transitivityGreaterEqGreater = Forall((x,y,z), Greater(x, z), conditions=[GreaterEq(x,y), Greater(y, z)])"
   ]
  },
  {
   "cell_type": "code",
   "execution_count": 11,
   "metadata": {
    "collapsed": false,
    "deletable": true,
    "editable": true
   },
   "outputs": [
    {
     "data": {
      "text/html": [
       "<strong id=\"transitivityGreaterGreaterEq\"><a class=\"ProveItLink\" href=\"_proofs_\\transitivityGreaterGreaterEq.ipynb\" target=\"_blank\">transitivityGreaterGreaterEq</a>:</strong> <a href=\"__pv_it\\e681addf02c6706654beeecedffa23e8ecd2f2f10\\expr.ipynb\" target=\"_blank\"><img src=\"__pv_it\\e681addf02c6706654beeecedffa23e8ecd2f2f10\\expr.png\" style=\"display:inline;vertical-align:middle;\" /></a><br>"
      ],
      "text/plain": [
       "transitivityGreaterGreaterEq: forall_{x, y, z | (x > y),(y >= z)} (x > z)"
      ]
     },
     "execution_count": 11,
     "metadata": {},
     "output_type": "execute_result"
    }
   ],
   "source": [
    "transitivityGreaterGreaterEq = Forall((x,y,z), Greater(x, z), conditions=[Greater(x,y), GreaterEq(y, z)])"
   ]
  },
  {
   "cell_type": "code",
   "execution_count": 12,
   "metadata": {
    "collapsed": false,
    "deletable": true,
    "editable": true
   },
   "outputs": [
    {
     "data": {
      "text/html": [
       "<strong id=\"transitivityGreaterEqGreaterEq\"><a class=\"ProveItLink\" href=\"_proofs_\\transitivityGreaterEqGreaterEq.ipynb\" target=\"_blank\">transitivityGreaterEqGreaterEq</a>:</strong> <a href=\"__pv_it\\68da8d55cb31905c68079364df44e1896a8d122d0\\expr.ipynb\" target=\"_blank\"><img src=\"__pv_it\\68da8d55cb31905c68079364df44e1896a8d122d0\\expr.png\" style=\"display:inline;vertical-align:middle;\" /></a><br>"
      ],
      "text/plain": [
       "transitivityGreaterEqGreaterEq: forall_{x, y, z | (x >= y),(y >= z)} (x >= z)"
      ]
     },
     "execution_count": 12,
     "metadata": {},
     "output_type": "execute_result"
    }
   ],
   "source": [
    "transitivityGreaterEqGreaterEq = Forall((x,y,z), GreaterEq(x, z), conditions=[GreaterEq(x,y), GreaterEq(y, z)])"
   ]
  },
  {
   "cell_type": "code",
   "execution_count": 13,
   "metadata": {
    "collapsed": false
   },
   "outputs": [
    {
     "data": {
      "text/html": [
       "<strong id=\"symmetricLessEq\"><a class=\"ProveItLink\" href=\"_proofs_\\symmetricLessEq.ipynb\" target=\"_blank\">symmetricLessEq</a>:</strong> <a href=\"__pv_it\\805cc46126d2552a19c3b76eeeb5959255b5162e0\\expr.ipynb\" target=\"_blank\"><img src=\"__pv_it\\805cc46126d2552a19c3b76eeeb5959255b5162e0\\expr.png\" style=\"display:inline;vertical-align:middle;\" /></a><br>"
      ],
      "text/plain": [
       "symmetricLessEq: forall_{x, y | (x <= y),(y <= x)} (x = y)"
      ]
     },
     "execution_count": 13,
     "metadata": {},
     "output_type": "execute_result"
    }
   ],
   "source": [
    "symmetricLessEq = Forall((x,y), Equals(x, y), conditions=[LessEq(x,y), LessEq(y, x)])"
   ]
  },
  {
   "cell_type": "code",
   "execution_count": 14,
   "metadata": {
    "collapsed": false
   },
   "outputs": [
    {
     "data": {
      "text/html": [
       "<strong id=\"symmetricGreaterEq\"><a class=\"ProveItLink\" href=\"_proofs_\\symmetricGreaterEq.ipynb\" target=\"_blank\">symmetricGreaterEq</a>:</strong> <a href=\"__pv_it\\a97e45608ee24f9cfb802fd4003cbf47be780b7d0\\expr.ipynb\" target=\"_blank\"><img src=\"__pv_it\\a97e45608ee24f9cfb802fd4003cbf47be780b7d0\\expr.png\" style=\"display:inline;vertical-align:middle;\" /></a><br>"
      ],
      "text/plain": [
       "symmetricGreaterEq: forall_{x, y | (x >= y),(y >= x)} (x = y)"
      ]
     },
     "execution_count": 14,
     "metadata": {},
     "output_type": "execute_result"
    }
   ],
   "source": [
    "symmetricGreaterEq = Forall((x,y), Equals(x, y), conditions=[GreaterEq(x,y), GreaterEq(y, x)])"
   ]
  },
  {
   "cell_type": "code",
   "execution_count": 15,
   "metadata": {
    "collapsed": false,
    "deletable": true,
    "editable": true
   },
   "outputs": [
    {
     "name": "stdout",
     "output_type": "stream",
     "text": [
      "Theorems may be imported from autogenerated _theorems_.py\n"
     ]
    }
   ],
   "source": [
    "%end theorems"
   ]
  },
  {
   "cell_type": "code",
   "execution_count": 16,
   "metadata": {
    "collapsed": true
   },
   "outputs": [],
   "source": []
  }
 ],
 "metadata": {
  "kernelspec": {
   "display_name": "Python 2",
   "language": "python",
   "name": "python2"
  },
  "language_info": {
   "codemirror_mode": {
    "name": "ipython",
    "version": 2
   },
   "file_extension": ".py",
   "mimetype": "text/x-python",
   "name": "python",
   "nbconvert_exporter": "python",
   "pygments_lexer": "ipython2",
   "version": "2.7.11"
  }
 },
 "nbformat": 4,
 "nbformat_minor": 0
}
