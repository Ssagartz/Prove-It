{
 "cells": [
  {
   "cell_type": "markdown",
   "metadata": {
    "collapsed": true,
    "deletable": true,
    "editable": true
   },
   "source": [
    "Theorems for context <a href=\"_context_.ipynb\" class=\"ProveItLink\">proveit.number.ordering</a>\n",
    "========"
   ]
  },
  {
   "cell_type": "code",
   "execution_count": 1,
   "metadata": {
    "collapsed": false,
    "deletable": true,
    "editable": true,
    "scrolled": true
   },
   "outputs": [
    {
     "name": "stdout",
     "output_type": "stream",
     "text": [
      "Defining theorems for context 'proveit.number.ordering'\n",
      "Subsequent end-of-cell assignments will define theorems\n",
      "'%end theorems' will finalize the definitions\n"
     ]
    }
   ],
   "source": [
    "from proveit.logic import Forall, Or, Equals, Iff, Implies, InSet\n",
    "from proveit.number import Reals\n",
    "from proveit.number import Less, LessEq, Greater, GreaterEq\n",
    "from proveit._common_ import x, y, z\n",
    "from _common_ import less_eq_relations, greater_eq_relations\n",
    "%begin theorems"
   ]
  },
  {
   "cell_type": "code",
   "execution_count": 2,
   "metadata": {
    "collapsed": false,
    "deletable": true,
    "editable": true
   },
   "outputs": [
    {
     "data": {
      "text/html": [
       "<strong id=\"reverseLess\"><a class=\"ProveItLink\" href=\"_proofs_\\reverseLess.ipynb\">reverseLess</a>:</strong> <a class=\"ProveItLink\" href=\"__pv_it\\21221d34b32cd7b8babfc6e14125d09dd06f55d30\\expr.ipynb\"><img src=\"__pv_it\\21221d34b32cd7b8babfc6e14125d09dd06f55d30\\expr.png\" style=\"display:inline;vertical-align:middle;\" /></a><br>"
      ],
      "text/plain": [
       "reverseLess: forall_{x, y | x < y} (y > x)"
      ]
     },
     "execution_count": 2,
     "metadata": {},
     "output_type": "execute_result"
    }
   ],
   "source": [
    "reverseLess = Forall((x, y), Greater(y, x), conditions=[Less(x, y)])"
   ]
  },
  {
   "cell_type": "code",
   "execution_count": 3,
   "metadata": {
    "collapsed": false,
    "deletable": true,
    "editable": true
   },
   "outputs": [
    {
     "data": {
      "text/html": [
       "<strong id=\"reverseGreater\"><a class=\"ProveItLink\" href=\"_proofs_\\reverseGreater.ipynb\">reverseGreater</a>:</strong> <a class=\"ProveItLink\" href=\"__pv_it\\502fd816d6c64e43e800ec94d84099bce94fa1dc0\\expr.ipynb\"><img src=\"__pv_it\\502fd816d6c64e43e800ec94d84099bce94fa1dc0\\expr.png\" style=\"display:inline;vertical-align:middle;\" /></a><br>"
      ],
      "text/plain": [
       "reverseGreater: forall_{x, y | x > y} (y < x)"
      ]
     },
     "execution_count": 3,
     "metadata": {},
     "output_type": "execute_result"
    }
   ],
   "source": [
    "reverseGreater = Forall((x, y), Less(y, x), conditions=[Greater(x, y)])"
   ]
  },
  {
   "cell_type": "code",
   "execution_count": 4,
   "metadata": {
    "collapsed": false,
    "deletable": true,
    "editable": true
   },
   "outputs": [
    {
     "data": {
      "text/html": [
       "<strong id=\"reverseLessEq\"><a class=\"ProveItLink\" href=\"_proofs_\\reverseLessEq.ipynb\">reverseLessEq</a>:</strong> <a class=\"ProveItLink\" href=\"__pv_it\\353de3c938a622a7cd44c4cc8093ef52f9faa87a0\\expr.ipynb\"><img src=\"__pv_it\\353de3c938a622a7cd44c4cc8093ef52f9faa87a0\\expr.png\" style=\"display:inline;vertical-align:middle;\" /></a><br>"
      ],
      "text/plain": [
       "reverseLessEq: forall_{x, y | x <= y} (y >= x)"
      ]
     },
     "execution_count": 4,
     "metadata": {},
     "output_type": "execute_result"
    }
   ],
   "source": [
    "reverseLessEq = Forall((x, y), GreaterEq(y, x), conditions=[LessEq(x, y)])"
   ]
  },
  {
   "cell_type": "code",
   "execution_count": 5,
   "metadata": {
    "collapsed": false,
    "deletable": true,
    "editable": true
   },
   "outputs": [
    {
     "data": {
      "text/html": [
       "<strong id=\"reverseGreaterEq\"><a class=\"ProveItLink\" href=\"_proofs_\\reverseGreaterEq.ipynb\">reverseGreaterEq</a>:</strong> <a class=\"ProveItLink\" href=\"__pv_it\\4018a4026fc6ffae9bd337bbf80a5c64d4a981eb0\\expr.ipynb\"><img src=\"__pv_it\\4018a4026fc6ffae9bd337bbf80a5c64d4a981eb0\\expr.png\" style=\"display:inline;vertical-align:middle;\" /></a><br>"
      ],
      "text/plain": [
       "reverseGreaterEq: forall_{x, y | x >= y} (y <= x)"
      ]
     },
     "execution_count": 5,
     "metadata": {},
     "output_type": "execute_result"
    }
   ],
   "source": [
    "reverseGreaterEq = Forall((x, y), LessEq(y, x), conditions=[GreaterEq(x, y)])"
   ]
  },
  {
   "cell_type": "code",
   "execution_count": 6,
   "metadata": {
    "collapsed": false,
    "deletable": true,
    "editable": true
   },
   "outputs": [
    {
     "data": {
      "text/html": [
       "<strong id=\"transitivityLessEqLess\"><a class=\"ProveItLink\" href=\"_proofs_\\transitivityLessEqLess.ipynb\">transitivityLessEqLess</a>:</strong> <a class=\"ProveItLink\" href=\"__pv_it\\a76428b2f7a7216878598f666db717aa082fcdca0\\expr.ipynb\"><img src=\"__pv_it\\a76428b2f7a7216878598f666db717aa082fcdca0\\expr.png\" style=\"display:inline;vertical-align:middle;\" /></a><br>"
      ],
      "text/plain": [
       "transitivityLessEqLess: forall_{x, y, z | x <= y , y < z} (x < z)"
      ]
     },
     "execution_count": 6,
     "metadata": {},
     "output_type": "execute_result"
    }
   ],
   "source": [
    "transitivityLessEqLess = Forall((x,y,z), Less(x, z), conditions=[LessEq(x,y), Less(y, z)])"
   ]
  },
  {
   "cell_type": "code",
   "execution_count": 7,
   "metadata": {
    "collapsed": false,
    "deletable": true,
    "editable": true
   },
   "outputs": [
    {
     "data": {
      "text/html": [
       "<strong id=\"transitivityLessLessEq\"><a class=\"ProveItLink\" href=\"_proofs_\\transitivityLessLessEq.ipynb\">transitivityLessLessEq</a>:</strong> <a class=\"ProveItLink\" href=\"__pv_it\\781114becb245b950730e81089dd5f458226ae7a0\\expr.ipynb\"><img src=\"__pv_it\\781114becb245b950730e81089dd5f458226ae7a0\\expr.png\" style=\"display:inline;vertical-align:middle;\" /></a><br>"
      ],
      "text/plain": [
       "transitivityLessLessEq: forall_{x, y, z | x < y , y <= z} (x < z)"
      ]
     },
     "execution_count": 7,
     "metadata": {},
     "output_type": "execute_result"
    }
   ],
   "source": [
    "transitivityLessLessEq = Forall((x,y,z), Less(x, z), conditions=[Less(x,y), LessEq(y, z)])"
   ]
  },
  {
   "cell_type": "code",
   "execution_count": 8,
   "metadata": {
    "collapsed": false,
    "deletable": true,
    "editable": true
   },
   "outputs": [
    {
     "data": {
      "text/html": [
       "<strong id=\"transitivityLessEqLessEq\"><a class=\"ProveItLink\" href=\"_proofs_\\transitivityLessEqLessEq.ipynb\">transitivityLessEqLessEq</a>:</strong> <a class=\"ProveItLink\" href=\"__pv_it\\dc547cd6eac12ecefaf3a7842c255cf3e98000610\\expr.ipynb\"><img src=\"__pv_it\\dc547cd6eac12ecefaf3a7842c255cf3e98000610\\expr.png\" style=\"display:inline;vertical-align:middle;\" /></a><br>"
      ],
      "text/plain": [
       "transitivityLessEqLessEq: forall_{x, y, z | x <= y , y <= z} (x <= z)"
      ]
     },
     "execution_count": 8,
     "metadata": {},
     "output_type": "execute_result"
    }
   ],
   "source": [
    "transitivityLessEqLessEq = Forall((x,y,z), LessEq(x, z), conditions=[LessEq(x,y), LessEq(y, z)])"
   ]
  },
  {
   "cell_type": "code",
   "execution_count": 9,
   "metadata": {
    "collapsed": false,
    "deletable": true,
    "editable": true
   },
   "outputs": [
    {
     "data": {
      "text/html": [
       "<strong id=\"transitivityGreaterGreater\"><a class=\"ProveItLink\" href=\"_proofs_\\transitivityGreaterGreater.ipynb\">transitivityGreaterGreater</a>:</strong> <a class=\"ProveItLink\" href=\"__pv_it\\a7263d32118dc1dea7dc3b9c1f9a2c116281cfef0\\expr.ipynb\"><img src=\"__pv_it\\a7263d32118dc1dea7dc3b9c1f9a2c116281cfef0\\expr.png\" style=\"display:inline;vertical-align:middle;\" /></a><br>"
      ],
      "text/plain": [
       "transitivityGreaterGreater: forall_{x, y, z | x > y , y > z} (x > z)"
      ]
     },
     "execution_count": 9,
     "metadata": {},
     "output_type": "execute_result"
    }
   ],
   "source": [
    "transitivityGreaterGreater = Forall((x,y,z), Greater(x, z), conditions=[Greater(x,y), Greater(y, z)])"
   ]
  },
  {
   "cell_type": "code",
   "execution_count": 10,
   "metadata": {
    "collapsed": false,
    "deletable": true,
    "editable": true
   },
   "outputs": [
    {
     "data": {
      "text/html": [
       "<strong id=\"transitivityGreaterEqGreater\"><a class=\"ProveItLink\" href=\"_proofs_\\transitivityGreaterEqGreater.ipynb\">transitivityGreaterEqGreater</a>:</strong> <a class=\"ProveItLink\" href=\"__pv_it\\49e722149f8b340d6dc9bd41b0dd843ee98c05f00\\expr.ipynb\"><img src=\"__pv_it\\49e722149f8b340d6dc9bd41b0dd843ee98c05f00\\expr.png\" style=\"display:inline;vertical-align:middle;\" /></a><br>"
      ],
      "text/plain": [
       "transitivityGreaterEqGreater: forall_{x, y, z | x >= y , y > z} (x > z)"
      ]
     },
     "execution_count": 10,
     "metadata": {},
     "output_type": "execute_result"
    }
   ],
   "source": [
    "transitivityGreaterEqGreater = Forall((x,y,z), Greater(x, z), conditions=[GreaterEq(x,y), Greater(y, z)])"
   ]
  },
  {
   "cell_type": "code",
   "execution_count": 11,
   "metadata": {
    "collapsed": false,
    "deletable": true,
    "editable": true
   },
   "outputs": [
    {
     "data": {
      "text/html": [
       "<strong id=\"transitivityGreaterGreaterEq\"><a class=\"ProveItLink\" href=\"_proofs_\\transitivityGreaterGreaterEq.ipynb\">transitivityGreaterGreaterEq</a>:</strong> <a class=\"ProveItLink\" href=\"__pv_it\\c61eee435c186d3881cf77874e8679d75ce349fa0\\expr.ipynb\"><img src=\"__pv_it\\c61eee435c186d3881cf77874e8679d75ce349fa0\\expr.png\" style=\"display:inline;vertical-align:middle;\" /></a><br>"
      ],
      "text/plain": [
       "transitivityGreaterGreaterEq: forall_{x, y, z | x > y , y >= z} (x > z)"
      ]
     },
     "execution_count": 11,
     "metadata": {},
     "output_type": "execute_result"
    }
   ],
   "source": [
    "transitivityGreaterGreaterEq = Forall((x,y,z), Greater(x, z), conditions=[Greater(x,y), GreaterEq(y, z)])"
   ]
  },
  {
   "cell_type": "code",
   "execution_count": 12,
   "metadata": {
    "collapsed": false,
    "deletable": true,
    "editable": true
   },
   "outputs": [
    {
     "data": {
      "text/html": [
       "<strong id=\"transitivityGreaterEqGreaterEq\"><a class=\"ProveItLink\" href=\"_proofs_\\transitivityGreaterEqGreaterEq.ipynb\">transitivityGreaterEqGreaterEq</a>:</strong> <a class=\"ProveItLink\" href=\"__pv_it\\d1cfa55ddd143296a73bbd5f9d271fbf293cf8f30\\expr.ipynb\"><img src=\"__pv_it\\d1cfa55ddd143296a73bbd5f9d271fbf293cf8f30\\expr.png\" style=\"display:inline;vertical-align:middle;\" /></a><br>"
      ],
      "text/plain": [
       "transitivityGreaterEqGreaterEq: forall_{x, y, z | x >= y , y >= z} (x >= z)"
      ]
     },
     "execution_count": 12,
     "metadata": {},
     "output_type": "execute_result"
    }
   ],
   "source": [
    "transitivityGreaterEqGreaterEq = Forall((x,y,z), GreaterEq(x, z), conditions=[GreaterEq(x,y), GreaterEq(y, z)])"
   ]
  },
  {
   "cell_type": "code",
   "execution_count": 13,
   "metadata": {
    "collapsed": false,
    "deletable": true,
    "editable": true
   },
   "outputs": [
    {
     "data": {
      "text/html": [
       "<strong id=\"symmetricLessEq\"><a class=\"ProveItLink\" href=\"_proofs_\\symmetricLessEq.ipynb\">symmetricLessEq</a>:</strong> <a class=\"ProveItLink\" href=\"__pv_it\\91c33f7f7bcee06bc3e5e46313eca15858e956720\\expr.ipynb\"><img src=\"__pv_it\\91c33f7f7bcee06bc3e5e46313eca15858e956720\\expr.png\" style=\"display:inline;vertical-align:middle;\" /></a><br>"
      ],
      "text/plain": [
       "symmetricLessEq: forall_{x, y | x <= y , y <= x} (x = y)"
      ]
     },
     "execution_count": 13,
     "metadata": {},
     "output_type": "execute_result"
    }
   ],
   "source": [
    "symmetricLessEq = Forall((x,y), Equals(x, y), conditions=[LessEq(x,y), LessEq(y, x)])"
   ]
  },
  {
   "cell_type": "code",
   "execution_count": 14,
   "metadata": {
    "collapsed": false,
    "deletable": true,
    "editable": true
   },
   "outputs": [
    {
     "data": {
      "text/html": [
       "<strong id=\"symmetricGreaterEq\"><a class=\"ProveItLink\" href=\"_proofs_\\symmetricGreaterEq.ipynb\">symmetricGreaterEq</a>:</strong> <a class=\"ProveItLink\" href=\"__pv_it\\e9a24d890bccf6fb670a297a0faa359ad0475abd0\\expr.ipynb\"><img src=\"__pv_it\\e9a24d890bccf6fb670a297a0faa359ad0475abd0\\expr.png\" style=\"display:inline;vertical-align:middle;\" /></a><br>"
      ],
      "text/plain": [
       "symmetricGreaterEq: forall_{x, y | x >= y , y >= x} (x = y)"
      ]
     },
     "execution_count": 14,
     "metadata": {},
     "output_type": "execute_result"
    }
   ],
   "source": [
    "symmetricGreaterEq = Forall((x,y), Equals(x, y), conditions=[GreaterEq(x,y), GreaterEq(y, x)])"
   ]
  },
  {
   "cell_type": "code",
   "execution_count": 15,
   "metadata": {
    "collapsed": false,
    "deletable": true,
    "editable": true
   },
   "outputs": [
    {
     "data": {
      "text/html": [
       "<strong id=\"less__in__less_eq_relations\"><a class=\"ProveItLink\" href=\"_proofs_\\less__in__less_eq_relations.ipynb\">less__in__less_eq_relations</a>:</strong> <a class=\"ProveItLink\" href=\"__pv_it\\4af57483e6f797f5a7108ec09e2d432824519a280\\expr.ipynb\"><img src=\"__pv_it\\4af57483e6f797f5a7108ec09e2d432824519a280\\expr.png\" style=\"display:inline;vertical-align:middle;\" /></a><br>"
      ],
      "text/plain": [
       "less__in__less_eq_relations: < in {< , <= , =}"
      ]
     },
     "execution_count": 15,
     "metadata": {},
     "output_type": "execute_result"
    }
   ],
   "source": [
    "less__in__less_eq_relations = InSet(Less._operator_, less_eq_relations)"
   ]
  },
  {
   "cell_type": "code",
   "execution_count": 16,
   "metadata": {
    "collapsed": false,
    "deletable": true,
    "editable": true
   },
   "outputs": [
    {
     "data": {
      "text/html": [
       "<strong id=\"less_eq__in__less_eq_relations\"><a class=\"ProveItLink\" href=\"_proofs_\\less_eq__in__less_eq_relations.ipynb\">less_eq__in__less_eq_relations</a>:</strong> <a class=\"ProveItLink\" href=\"__pv_it\\52e4c37298cc06242e4961c997f987ffe8f0ef9a0\\expr.ipynb\"><img src=\"__pv_it\\52e4c37298cc06242e4961c997f987ffe8f0ef9a0\\expr.png\" style=\"display:inline;vertical-align:middle;\" /></a><br>"
      ],
      "text/plain": [
       "less_eq__in__less_eq_relations: <= in {< , <= , =}"
      ]
     },
     "execution_count": 16,
     "metadata": {},
     "output_type": "execute_result"
    }
   ],
   "source": [
    "less_eq__in__less_eq_relations = InSet(LessEq._operator_, less_eq_relations)"
   ]
  },
  {
   "cell_type": "code",
   "execution_count": 17,
   "metadata": {
    "collapsed": false,
    "deletable": true,
    "editable": true
   },
   "outputs": [
    {
     "data": {
      "text/html": [
       "<strong id=\"eq__in__less_eq_relations\"><a class=\"ProveItLink\" href=\"_proofs_\\eq__in__less_eq_relations.ipynb\">eq__in__less_eq_relations</a>:</strong> <a class=\"ProveItLink\" href=\"__pv_it\\d8e822cd87a4f4ab21e7d7d96e093f2d7475f34e0\\expr.ipynb\"><img src=\"__pv_it\\d8e822cd87a4f4ab21e7d7d96e093f2d7475f34e0\\expr.png\" style=\"display:inline;vertical-align:middle;\" /></a><br>"
      ],
      "text/plain": [
       "eq__in__less_eq_relations: = in {< , <= , =}"
      ]
     },
     "execution_count": 17,
     "metadata": {},
     "output_type": "execute_result"
    }
   ],
   "source": [
    "eq__in__less_eq_relations = InSet(Equals._operator_, less_eq_relations)"
   ]
  },
  {
   "cell_type": "code",
   "execution_count": 18,
   "metadata": {
    "collapsed": false,
    "deletable": true,
    "editable": true
   },
   "outputs": [
    {
     "data": {
      "text/html": [
       "<strong id=\"greater__in__greater_eq_relations\"><a class=\"ProveItLink\" href=\"_proofs_\\greater__in__greater_eq_relations.ipynb\">greater__in__greater_eq_relations</a>:</strong> <a class=\"ProveItLink\" href=\"__pv_it\\1b52aeff59cfb486df21467ba8fe8e87d157da520\\expr.ipynb\"><img src=\"__pv_it\\1b52aeff59cfb486df21467ba8fe8e87d157da520\\expr.png\" style=\"display:inline;vertical-align:middle;\" /></a><br>"
      ],
      "text/plain": [
       "greater__in__greater_eq_relations: > in {> , >= , =}"
      ]
     },
     "execution_count": 18,
     "metadata": {},
     "output_type": "execute_result"
    }
   ],
   "source": [
    "greater__in__greater_eq_relations = InSet(Greater._operator_, greater_eq_relations)"
   ]
  },
  {
   "cell_type": "code",
   "execution_count": 19,
   "metadata": {
    "collapsed": false,
    "deletable": true,
    "editable": true
   },
   "outputs": [
    {
     "data": {
      "text/html": [
       "<strong id=\"greater_eq__in__greater_eq_relations\"><a class=\"ProveItLink\" href=\"_proofs_\\greater_eq__in__greater_eq_relations.ipynb\">greater_eq__in__greater_eq_relations</a>:</strong> <a class=\"ProveItLink\" href=\"__pv_it\\eb16edf8c74644b51a915fb9b17dc24962dc03620\\expr.ipynb\"><img src=\"__pv_it\\eb16edf8c74644b51a915fb9b17dc24962dc03620\\expr.png\" style=\"display:inline;vertical-align:middle;\" /></a><br>"
      ],
      "text/plain": [
       "greater_eq__in__greater_eq_relations: >= in {> , >= , =}"
      ]
     },
     "execution_count": 19,
     "metadata": {},
     "output_type": "execute_result"
    }
   ],
   "source": [
    "greater_eq__in__greater_eq_relations = InSet(GreaterEq._operator_, greater_eq_relations)"
   ]
  },
  {
   "cell_type": "code",
   "execution_count": 20,
   "metadata": {
    "collapsed": false,
    "deletable": true,
    "editable": true
   },
   "outputs": [
    {
     "data": {
      "text/html": [
       "<strong id=\"eq__in__greater_eq_relations\"><a class=\"ProveItLink\" href=\"_proofs_\\eq__in__greater_eq_relations.ipynb\">eq__in__greater_eq_relations</a>:</strong> <a class=\"ProveItLink\" href=\"__pv_it\\25df5919a6bf898e2a658082e02fffba05fb86960\\expr.ipynb\"><img src=\"__pv_it\\25df5919a6bf898e2a658082e02fffba05fb86960\\expr.png\" style=\"display:inline;vertical-align:middle;\" /></a><br>"
      ],
      "text/plain": [
       "eq__in__greater_eq_relations: = in {> , >= , =}"
      ]
     },
     "execution_count": 20,
     "metadata": {},
     "output_type": "execute_result"
    }
   ],
   "source": [
    "eq__in__greater_eq_relations = InSet(Equals._operator_, greater_eq_relations)"
   ]
  },
  {
   "cell_type": "code",
   "execution_count": 21,
   "metadata": {
    "collapsed": false,
    "deletable": true,
    "editable": true
   },
   "outputs": [
    {
     "name": "stdout",
     "output_type": "stream",
     "text": [
      "Theorems may be imported from autogenerated _theorems_.py\n"
     ]
    }
   ],
   "source": [
    "%end theorems"
   ]
  },
  {
   "cell_type": "code",
   "execution_count": null,
   "metadata": {
    "collapsed": true,
    "deletable": true,
    "editable": true
   },
   "outputs": [],
   "source": []
  }
 ],
 "metadata": {
  "kernelspec": {
   "display_name": "Python 2",
   "language": "python",
   "name": "python2"
  },
  "language_info": {
   "codemirror_mode": {
    "name": "ipython",
    "version": 2
   },
   "file_extension": ".py",
   "mimetype": "text/x-python",
   "name": "python",
   "nbconvert_exporter": "python",
   "pygments_lexer": "ipython2",
   "version": "2.7.11"
  }
 },
 "nbformat": 4,
 "nbformat_minor": 0
}
