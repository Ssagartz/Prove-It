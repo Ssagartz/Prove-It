{
 "cells": [
  {
   "cell_type": "markdown",
   "metadata": {
    "collapsed": true,
    "deletable": true,
    "editable": true
   },
   "source": [
    "Theorems for context <a href=\"_context_.ipynb\" class=\"ProveItLink\">proveit.number.summation</a>\n",
    "========"
   ]
  },
  {
   "cell_type": "code",
   "execution_count": 1,
   "metadata": {
    "collapsed": false,
    "deletable": true,
    "editable": true
   },
   "outputs": [],
   "source": [
    "import proveit\n",
    "# the context is in the current directory:\n",
    "context = proveit.Context('.') # adds context root to sys.path if necessary\n",
    "from proveit.logic import Forall, InSet, Implies\n",
    "from proveit.number import Sum, Naturals, Integers, Reals, Complexes\n",
    "from proveit._common_ import xMulti, xEtc, P, PxEtc, S, Qmulti, etc_QxEtc"
   ]
  },
  {
   "cell_type": "code",
   "execution_count": 2,
   "metadata": {
    "collapsed": false,
    "deletable": true,
    "editable": true,
    "scrolled": true
   },
   "outputs": [
    {
     "name": "stdout",
     "output_type": "stream",
     "text": [
      "Defining theorems for context 'proveit.number.summation'\n",
      "Subsequent end-of-cell assignments will define theorems\n",
      "'%end theorems' will finalize the definitions\n"
     ]
    }
   ],
   "source": [
    "%begin theorems"
   ]
  },
  {
   "cell_type": "code",
   "execution_count": 3,
   "metadata": {
    "collapsed": false
   },
   "outputs": [
    {
     "data": {
      "text/html": [
       "<strong id=\"summationNatsClosure\"><a class=\"ProveItLink\" href=\"_proofs_\\summationNatsClosure.ipynb\" target=\"_blank\">summationNatsClosure</a>:</strong> <a href=\"__pv_it\\dd1f03f0226c15da18fc16fc974ab394b66df0c90\\expr.ipynb\" target=\"_blank\"><img src=\"__pv_it\\dd1f03f0226c15da18fc16fc974ab394b66df0c90\\expr.png\" style=\"display:inline;vertical-align:middle;\" /></a><br>"
      ],
      "text/plain": [
       "summationNatsClosure: forall_{P, S, Q_{#}} ([forall_{x_{*} in S |  ..,Q_{#}( ..,x_{*},.. ),.. } (P( ..,x_{*},.. ) in Naturals)] => ([Sum_{x_{*} in S |  ..,Q_{#}( ..,x_{*},.. ),.. } P( ..,x_{*},.. )] in Naturals))"
      ]
     },
     "execution_count": 3,
     "metadata": {},
     "output_type": "execute_result"
    }
   ],
   "source": [
    "summationNatsClosure = Forall([P, S, Qmulti], Implies(Forall(xMulti, InSet(PxEtc, Naturals), domain=S, conditions=etc_QxEtc), \n",
    "                                              InSet(Sum(xMulti, PxEtc, domain=S, conditions=etc_QxEtc), domain=Naturals)))"
   ]
  },
  {
   "cell_type": "code",
   "execution_count": 4,
   "metadata": {
    "collapsed": false
   },
   "outputs": [
    {
     "data": {
      "text/html": [
       "<strong id=\"summationIntsClosure\"><a class=\"ProveItLink\" href=\"_proofs_\\summationIntsClosure.ipynb\" target=\"_blank\">summationIntsClosure</a>:</strong> <a href=\"__pv_it\\e27657f1ee66cf9b06d442b518bd3181ae5771940\\expr.ipynb\" target=\"_blank\"><img src=\"__pv_it\\e27657f1ee66cf9b06d442b518bd3181ae5771940\\expr.png\" style=\"display:inline;vertical-align:middle;\" /></a><br>"
      ],
      "text/plain": [
       "summationIntsClosure: forall_{P, S, Q_{#}} ([forall_{x_{*} in S |  ..,Q_{#}( ..,x_{*},.. ),.. } (P( ..,x_{*},.. ) in Integers)] => ([Sum_{x_{*} in S |  ..,Q_{#}( ..,x_{*},.. ),.. } P( ..,x_{*},.. )] in Integers))"
      ]
     },
     "execution_count": 4,
     "metadata": {},
     "output_type": "execute_result"
    }
   ],
   "source": [
    "summationIntsClosure = Forall([P, S, Qmulti], Implies(Forall(xMulti, InSet(PxEtc, Integers), domain=S, conditions=etc_QxEtc), \n",
    "                                              InSet(Sum(xMulti, PxEtc, domain=S, conditions=etc_QxEtc), domain=Integers)))"
   ]
  },
  {
   "cell_type": "code",
   "execution_count": 5,
   "metadata": {
    "collapsed": false,
    "deletable": true,
    "editable": true
   },
   "outputs": [
    {
     "data": {
      "text/html": [
       "<strong id=\"summationRealsClosure\"><a class=\"ProveItLink\" href=\"_proofs_\\summationRealsClosure.ipynb\" target=\"_blank\">summationRealsClosure</a>:</strong> <a href=\"__pv_it\\153bbd548dd51d20bba240e38c9307a6fd23662f0\\expr.ipynb\" target=\"_blank\"><img src=\"__pv_it\\153bbd548dd51d20bba240e38c9307a6fd23662f0\\expr.png\" style=\"display:inline;vertical-align:middle;\" /></a><br>"
      ],
      "text/plain": [
       "summationRealsClosure: forall_{P, S, Q_{#}} ([forall_{x_{*} in S |  ..,Q_{#}( ..,x_{*},.. ),.. } (P( ..,x_{*},.. ) in Reals)] => ([Sum_{x_{*} in S |  ..,Q_{#}( ..,x_{*},.. ),.. } P( ..,x_{*},.. )] in Reals))"
      ]
     },
     "execution_count": 5,
     "metadata": {},
     "output_type": "execute_result"
    }
   ],
   "source": [
    "summationRealsClosure = Forall([P, S, Qmulti], Implies(Forall(xMulti, InSet(PxEtc, Reals), domain=S, conditions=etc_QxEtc), \n",
    "                                              InSet(Sum(xMulti, PxEtc, domain=S, conditions=etc_QxEtc), domain=Reals)))"
   ]
  },
  {
   "cell_type": "code",
   "execution_count": 6,
   "metadata": {
    "collapsed": false
   },
   "outputs": [
    {
     "data": {
      "text/html": [
       "<strong id=\"summationComplexesClosure\"><a class=\"ProveItLink\" href=\"_proofs_\\summationComplexesClosure.ipynb\" target=\"_blank\">summationComplexesClosure</a>:</strong> <a href=\"__pv_it\\ec2387008f21ef46f3702ba4569db334b74b3a820\\expr.ipynb\" target=\"_blank\"><img src=\"__pv_it\\ec2387008f21ef46f3702ba4569db334b74b3a820\\expr.png\" style=\"display:inline;vertical-align:middle;\" /></a><br>"
      ],
      "text/plain": [
       "summationComplexesClosure: forall_{P, S, Q_{#}} ([forall_{x_{*} in S |  ..,Q_{#}( ..,x_{*},.. ),.. } (P( ..,x_{*},.. ) in Complexes)] => ([Sum_{x_{*} in S |  ..,Q_{#}( ..,x_{*},.. ),.. } P( ..,x_{*},.. )] in Complexes))"
      ]
     },
     "execution_count": 6,
     "metadata": {},
     "output_type": "execute_result"
    }
   ],
   "source": [
    "summationComplexesClosure = Forall([P, S, Qmulti], Implies(Forall(xMulti, InSet(PxEtc, Complexes), domain=S, conditions=etc_QxEtc), \n",
    "                                              InSet(Sum(xMulti, PxEtc, domain=S, conditions=etc_QxEtc), Complexes)))"
   ]
  },
  {
   "cell_type": "code",
   "execution_count": null,
   "metadata": {
    "collapsed": true
   },
   "outputs": [],
   "source": []
  },
  {
   "cell_type": "code",
   "execution_count": 7,
   "metadata": {
    "collapsed": false,
    "deletable": true,
    "editable": true
   },
   "outputs": [
    {
     "name": "stdout",
     "output_type": "stream",
     "text": [
      "Adding theorem summationNatsClosure to proveit.number.summation context\n",
      "Adding theorem summationIntsClosure to proveit.number.summation context\n",
      "Adding theorem summationRealsClosure to proveit.number.summation context\n",
      "Removing theorem summationIntClosure from proveit.number.summation context\n",
      "Removing theorem summationNatClosure from proveit.number.summation context\n",
      "Removing theorem summationRealClosure from proveit.number.summation context\n",
      "Theorems may be imported from autogenerated _theorems_.py\n"
     ]
    }
   ],
   "source": [
    "%end theorems"
   ]
  },
  {
   "cell_type": "code",
   "execution_count": null,
   "metadata": {
    "collapsed": true
   },
   "outputs": [],
   "source": []
  }
 ],
 "metadata": {
  "kernelspec": {
   "display_name": "Python 2",
   "language": "python",
   "name": "python2"
  },
  "language_info": {
   "codemirror_mode": {
    "name": "ipython",
    "version": 2
   },
   "file_extension": ".py",
   "mimetype": "text/x-python",
   "name": "python",
   "nbconvert_exporter": "python",
   "pygments_lexer": "ipython2",
   "version": "2.7.11"
  }
 },
 "nbformat": 4,
 "nbformat_minor": 0
}
