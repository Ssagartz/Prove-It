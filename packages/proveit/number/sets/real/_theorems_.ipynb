{
 "cells": [
  {
   "cell_type": "markdown",
   "metadata": {
    "collapsed": true,
    "deletable": true,
    "editable": true
   },
   "source": [
    "Theorems for context <a href=\"_context_.ipynb\" class=\"ProveItLink\">proveit.number.sets.real</a>\n",
    "========"
   ]
  },
  {
   "cell_type": "code",
   "execution_count": 1,
   "metadata": {
    "collapsed": true,
    "deletable": true,
    "editable": true
   },
   "outputs": [],
   "source": [
    "import proveit\n",
    "# the context is in the current directory:\n",
    "context = proveit.Context('.') # adds context root to sys.path if necessary\n",
    "from proveit.logic import Subset\n",
    "from proveit.number import Reals, RealsPos, RealsNeg, Integers, Naturals, NaturalsPos"
   ]
  },
  {
   "cell_type": "code",
   "execution_count": 2,
   "metadata": {
    "collapsed": false,
    "deletable": true,
    "editable": true
   },
   "outputs": [
    {
     "name": "stdout",
     "output_type": "stream",
     "text": [
      "Defining theorems for context 'proveit.number.sets.real'\n",
      "Subsequent end-of-cell assignments will define theorems\n",
      "'%end theorems' will finalize the definitions\n"
     ]
    }
   ],
   "source": [
    "%begin theorems"
   ]
  },
  {
   "cell_type": "code",
   "execution_count": 3,
   "metadata": {
    "collapsed": false,
    "deletable": true,
    "editable": true
   },
   "outputs": [
    {
     "data": {
      "text/html": [
       "<strong id=\"realsPosInReals\"><a class=\"ProveItLink\" href=\"_proofs_\\realsPosInReals.ipynb\" target=\"_blank\">realsPosInReals</a>:</strong> <a href=\"__pv_it\\75152049bd30826b0aa5c55b35b040eb864d1d910\\expr.ipynb\" target=\"_blank\"><img src=\"__pv_it\\75152049bd30826b0aa5c55b35b040eb864d1d910\\expr.png\" style=\"display:inline;vertical-align:middle;\" /></a><br>"
      ],
      "text/plain": [
       "realsPosInReals: RealsPos subset Reals"
      ]
     },
     "execution_count": 3,
     "metadata": {},
     "output_type": "execute_result"
    }
   ],
   "source": [
    "realsPosInReals = Subset(RealsPos, Reals)"
   ]
  },
  {
   "cell_type": "code",
   "execution_count": 4,
   "metadata": {
    "collapsed": false
   },
   "outputs": [
    {
     "data": {
      "text/html": [
       "<strong id=\"realsNegInReals\"><a class=\"ProveItLink\" href=\"_proofs_\\realsNegInReals.ipynb\" target=\"_blank\">realsNegInReals</a>:</strong> <a href=\"__pv_it\\a45674d5fa2ceb4d02091013643f4d7a8a2091bb0\\expr.ipynb\" target=\"_blank\"><img src=\"__pv_it\\a45674d5fa2ceb4d02091013643f4d7a8a2091bb0\\expr.png\" style=\"display:inline;vertical-align:middle;\" /></a><br>"
      ],
      "text/plain": [
       "realsNegInReals: RealsNeg subset Reals"
      ]
     },
     "execution_count": 4,
     "metadata": {},
     "output_type": "execute_result"
    }
   ],
   "source": [
    "realsNegInReals = Subset(RealsNeg, Reals)"
   ]
  },
  {
   "cell_type": "code",
   "execution_count": 5,
   "metadata": {
    "collapsed": false
   },
   "outputs": [
    {
     "data": {
      "text/html": [
       "<strong id=\"intsInReals\"><a class=\"ProveItLink\" href=\"_proofs_\\intsInReals.ipynb\" target=\"_blank\">intsInReals</a>:</strong> <a href=\"__pv_it\\03bf741e356d0f78beca4fb69ce7c510b1ab1d980\\expr.ipynb\" target=\"_blank\"><img src=\"__pv_it\\03bf741e356d0f78beca4fb69ce7c510b1ab1d980\\expr.png\" style=\"display:inline;vertical-align:middle;\" /></a><br>"
      ],
      "text/plain": [
       "intsInReals: Integers subset Reals"
      ]
     },
     "execution_count": 5,
     "metadata": {},
     "output_type": "execute_result"
    }
   ],
   "source": [
    "intsInReals = Subset(Integers, Reals)"
   ]
  },
  {
   "cell_type": "code",
   "execution_count": 6,
   "metadata": {
    "collapsed": false
   },
   "outputs": [
    {
     "data": {
      "text/html": [
       "<strong id=\"natsInReals\"><a class=\"ProveItLink\" href=\"_proofs_\\natsInReals.ipynb\" target=\"_blank\">natsInReals</a>:</strong> <a href=\"__pv_it\\1a4dda0cb251c876b74a587d65c7b6b072c9a4550\\expr.ipynb\" target=\"_blank\"><img src=\"__pv_it\\1a4dda0cb251c876b74a587d65c7b6b072c9a4550\\expr.png\" style=\"display:inline;vertical-align:middle;\" /></a><br>"
      ],
      "text/plain": [
       "natsInReals: Naturals subset Reals"
      ]
     },
     "execution_count": 6,
     "metadata": {},
     "output_type": "execute_result"
    }
   ],
   "source": [
    "natsInReals = Subset(Naturals, Reals)"
   ]
  },
  {
   "cell_type": "code",
   "execution_count": 7,
   "metadata": {
    "collapsed": false
   },
   "outputs": [
    {
     "data": {
      "text/html": [
       "<strong id=\"natsPosInReals\"><a class=\"ProveItLink\" href=\"_proofs_\\natsPosInReals.ipynb\" target=\"_blank\">natsPosInReals</a>:</strong> <a href=\"__pv_it\\b7ccc45bcc76c82db643649a2a4dcc744cf207bf0\\expr.ipynb\" target=\"_blank\"><img src=\"__pv_it\\b7ccc45bcc76c82db643649a2a4dcc744cf207bf0\\expr.png\" style=\"display:inline;vertical-align:middle;\" /></a><br>"
      ],
      "text/plain": [
       "natsPosInReals: NaturalsPos subset Reals"
      ]
     },
     "execution_count": 7,
     "metadata": {},
     "output_type": "execute_result"
    }
   ],
   "source": [
    "natsPosInReals = Subset(NaturalsPos, Reals)"
   ]
  },
  {
   "cell_type": "code",
   "execution_count": 8,
   "metadata": {
    "collapsed": false,
    "deletable": true,
    "editable": true,
    "scrolled": true
   },
   "outputs": [
    {
     "name": "stdout",
     "output_type": "stream",
     "text": [
      "Adding theorem natsInReals to proveit.number.sets.real context\n",
      "Adding theorem natsPosInReals to proveit.number.sets.real context\n",
      "Removing theorem naturalsInReals from proveit.number.sets.real context\n",
      "Removing theorem naturalsPosInReals from proveit.number.sets.real context\n",
      "Theorems may be imported from autogenerated _theorems_.py\n"
     ]
    }
   ],
   "source": [
    "%end theorems"
   ]
  },
  {
   "cell_type": "code",
   "execution_count": null,
   "metadata": {
    "collapsed": true
   },
   "outputs": [],
   "source": []
  }
 ],
 "metadata": {
  "kernelspec": {
   "display_name": "Python 2",
   "language": "python",
   "name": "python2"
  },
  "language_info": {
   "codemirror_mode": {
    "name": "ipython",
    "version": 2
   },
   "file_extension": ".py",
   "mimetype": "text/x-python",
   "name": "python",
   "nbconvert_exporter": "python",
   "pygments_lexer": "ipython2",
   "version": "2.7.11"
  }
 },
 "nbformat": 4,
 "nbformat_minor": 0
}
