{
 "cells": [
  {
   "cell_type": "markdown",
   "metadata": {
    "collapsed": true,
    "deletable": true,
    "editable": true
   },
   "source": [
    "Theorems for context <a href=\"_context_.ipynb\" class=\"ProveItLink\">proveit.number.sets.complex</a>\n",
    "========"
   ]
  },
  {
   "cell_type": "code",
   "execution_count": 1,
   "metadata": {
    "collapsed": false,
    "deletable": true,
    "editable": true
   },
   "outputs": [],
   "source": [
    "import proveit\n",
    "# the context is in the current directory:\n",
    "context = proveit.Context('.') # adds context root to sys.path if necessary\n",
    "from proveit.logic import Subset\n",
    "from proveit.number import Complexes, Reals, RealsPos, RealsNeg, Integers, Naturals, NaturalsPos"
   ]
  },
  {
   "cell_type": "code",
   "execution_count": 2,
   "metadata": {
    "collapsed": false,
    "deletable": true,
    "editable": true
   },
   "outputs": [
    {
     "name": "stdout",
     "output_type": "stream",
     "text": [
      "Defining theorems for context 'proveit.number.sets.complex'\n",
      "Subsequent end-of-cell assignments will define theorems\n",
      "'%end theorems' will finalize the definitions\n"
     ]
    }
   ],
   "source": [
    "%begin theorems"
   ]
  },
  {
   "cell_type": "code",
   "execution_count": 3,
   "metadata": {
    "collapsed": false,
    "deletable": true,
    "editable": true
   },
   "outputs": [
    {
     "data": {
      "text/html": [
       "<strong id=\"realsInComplexes\"><a class=\"ProveItLink\" href=\"_proofs_\\realsInComplexes.ipynb\" target=\"_blank\">realsInComplexes</a>:</strong> <a href=\"__pv_it\\dfc076a6f3f8515ce8f7780878ed20841c0245c40\\expr.ipynb\" target=\"_blank\"><img src=\"__pv_it\\dfc076a6f3f8515ce8f7780878ed20841c0245c40\\expr.png\" style=\"display:inline;vertical-align:middle;\" /></a><br>"
      ],
      "text/plain": [
       "realsInComplexes: Reals subset Complexes"
      ]
     },
     "execution_count": 3,
     "metadata": {},
     "output_type": "execute_result"
    }
   ],
   "source": [
    "realsInComplexes = Subset(Reals, Complexes)"
   ]
  },
  {
   "cell_type": "code",
   "execution_count": 4,
   "metadata": {
    "collapsed": false
   },
   "outputs": [
    {
     "data": {
      "text/html": [
       "<strong id=\"realsPosInComplexes\"><a class=\"ProveItLink\" href=\"_proofs_\\realsPosInComplexes.ipynb\" target=\"_blank\">realsPosInComplexes</a>:</strong> <a href=\"__pv_it\\9a8e4993ceb06e15bba0243054347c9f447892850\\expr.ipynb\" target=\"_blank\"><img src=\"__pv_it\\9a8e4993ceb06e15bba0243054347c9f447892850\\expr.png\" style=\"display:inline;vertical-align:middle;\" /></a><br>"
      ],
      "text/plain": [
       "realsPosInComplexes: RealsPos subset Complexes"
      ]
     },
     "execution_count": 4,
     "metadata": {},
     "output_type": "execute_result"
    }
   ],
   "source": [
    "realsPosInComplexes = Subset(RealsPos, Complexes)"
   ]
  },
  {
   "cell_type": "code",
   "execution_count": 5,
   "metadata": {
    "collapsed": false
   },
   "outputs": [
    {
     "data": {
      "text/html": [
       "<strong id=\"realsNegInComplexes\"><a class=\"ProveItLink\" href=\"_proofs_\\realsNegInComplexes.ipynb\" target=\"_blank\">realsNegInComplexes</a>:</strong> <a href=\"__pv_it\\f988cfc49ee85cf592e48a2654a4b93c480165fd0\\expr.ipynb\" target=\"_blank\"><img src=\"__pv_it\\f988cfc49ee85cf592e48a2654a4b93c480165fd0\\expr.png\" style=\"display:inline;vertical-align:middle;\" /></a><br>"
      ],
      "text/plain": [
       "realsNegInComplexes: RealsNeg subset Complexes"
      ]
     },
     "execution_count": 5,
     "metadata": {},
     "output_type": "execute_result"
    }
   ],
   "source": [
    "realsNegInComplexes = Subset(RealsNeg, Complexes)"
   ]
  },
  {
   "cell_type": "code",
   "execution_count": 6,
   "metadata": {
    "collapsed": false
   },
   "outputs": [
    {
     "data": {
      "text/html": [
       "<strong id=\"intsInComplexes\"><a class=\"ProveItLink\" href=\"_proofs_\\intsInComplexes.ipynb\" target=\"_blank\">intsInComplexes</a>:</strong> <a href=\"__pv_it\\c07cdbd31f78caf60e2a6ec75316517afbf7eca50\\expr.ipynb\" target=\"_blank\"><img src=\"__pv_it\\c07cdbd31f78caf60e2a6ec75316517afbf7eca50\\expr.png\" style=\"display:inline;vertical-align:middle;\" /></a><br>"
      ],
      "text/plain": [
       "intsInComplexes: Integers subset Complexes"
      ]
     },
     "execution_count": 6,
     "metadata": {},
     "output_type": "execute_result"
    }
   ],
   "source": [
    "intsInComplexes = Subset(Integers, Complexes)"
   ]
  },
  {
   "cell_type": "code",
   "execution_count": 7,
   "metadata": {
    "collapsed": false
   },
   "outputs": [
    {
     "data": {
      "text/html": [
       "<strong id=\"natsInComplexes\"><a class=\"ProveItLink\" href=\"_proofs_\\natsInComplexes.ipynb\" target=\"_blank\">natsInComplexes</a>:</strong> <a href=\"__pv_it\\c91ba5d0ef28854916e9f9ac422f9415437b1eac0\\expr.ipynb\" target=\"_blank\"><img src=\"__pv_it\\c91ba5d0ef28854916e9f9ac422f9415437b1eac0\\expr.png\" style=\"display:inline;vertical-align:middle;\" /></a><br>"
      ],
      "text/plain": [
       "natsInComplexes: Naturals subset Complexes"
      ]
     },
     "execution_count": 7,
     "metadata": {},
     "output_type": "execute_result"
    }
   ],
   "source": [
    "natsInComplexes = Subset(Naturals, Complexes)"
   ]
  },
  {
   "cell_type": "code",
   "execution_count": 8,
   "metadata": {
    "collapsed": false
   },
   "outputs": [
    {
     "data": {
      "text/html": [
       "<strong id=\"natsPosInComplexes\"><a class=\"ProveItLink\" href=\"_proofs_\\natsPosInComplexes.ipynb\" target=\"_blank\">natsPosInComplexes</a>:</strong> <a href=\"__pv_it\\ffe5f5d6141b5054fdba60174ad95ea2bde50a090\\expr.ipynb\" target=\"_blank\"><img src=\"__pv_it\\ffe5f5d6141b5054fdba60174ad95ea2bde50a090\\expr.png\" style=\"display:inline;vertical-align:middle;\" /></a><br>"
      ],
      "text/plain": [
       "natsPosInComplexes: NaturalsPos subset Complexes"
      ]
     },
     "execution_count": 8,
     "metadata": {},
     "output_type": "execute_result"
    }
   ],
   "source": [
    "natsPosInComplexes = Subset(NaturalsPos, Complexes)"
   ]
  },
  {
   "cell_type": "code",
   "execution_count": 9,
   "metadata": {
    "collapsed": false,
    "deletable": true,
    "editable": true
   },
   "outputs": [
    {
     "name": "stdout",
     "output_type": "stream",
     "text": [
      "Theorems may be imported from autogenerated _theorems_.py\n"
     ]
    }
   ],
   "source": [
    "%end theorems"
   ]
  },
  {
   "cell_type": "code",
   "execution_count": null,
   "metadata": {
    "collapsed": true
   },
   "outputs": [],
   "source": []
  }
 ],
 "metadata": {
  "kernelspec": {
   "display_name": "Python 2",
   "language": "python",
   "name": "python2"
  },
  "language_info": {
   "codemirror_mode": {
    "name": "ipython",
    "version": 2
   },
   "file_extension": ".py",
   "mimetype": "text/x-python",
   "name": "python",
   "nbconvert_exporter": "python",
   "pygments_lexer": "ipython2",
   "version": "2.7.11"
  }
 },
 "nbformat": 4,
 "nbformat_minor": 0
}
