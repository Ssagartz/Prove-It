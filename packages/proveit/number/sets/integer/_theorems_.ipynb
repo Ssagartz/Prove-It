{
 "cells": [
  {
   "cell_type": "markdown",
   "metadata": {
    "collapsed": true,
    "deletable": true,
    "editable": true
   },
   "source": [
    "Theorems for context <a href=\"_context_.ipynb\" class=\"ProveItLink\">proveit.number.sets.integer</a>\n",
    "========"
   ]
  },
  {
   "cell_type": "code",
   "execution_count": 1,
   "metadata": {
    "collapsed": false,
    "deletable": true,
    "editable": true
   },
   "outputs": [],
   "source": [
    "import proveit\n",
    "# the context is in the current directory:\n",
    "context = proveit.Context('.') # adds context root to sys.path if necessary\n",
    "from proveit import Operation\n",
    "from proveit._common_ import a, b, c, d, e, f, g, h, i, m, n, x, y, xMulti, xEtc, S, P, PxEtc\n",
    "from proveit.logic import Forall, And, Implies, Equals, InSet, Subset\n",
    "from proveit.number import zero, one, two, three, four, five, six, seven, eight, nine\n",
    "from proveit.number import Naturals, NaturalsPos, Integers, Interval\n",
    "from proveit.number import Add, Len, Greater, GreaterEq\n",
    "from proveit.number._common_ import Pzero, Pm, P_mAddOne, Pn"
   ]
  },
  {
   "cell_type": "code",
   "execution_count": 2,
   "metadata": {
    "collapsed": false,
    "deletable": true,
    "editable": true
   },
   "outputs": [
    {
     "name": "stdout",
     "output_type": "stream",
     "text": [
      "Defining theorems for context 'proveit.number.sets.integer'\n",
      "Subsequent end-of-cell assignments will define theorems\n",
      "'%end theorems' will finalize the definitions\n"
     ]
    }
   ],
   "source": [
    "%begin theorems"
   ]
  },
  {
   "cell_type": "code",
   "execution_count": 3,
   "metadata": {
    "collapsed": false,
    "deletable": true,
    "editable": true
   },
   "outputs": [
    {
     "data": {
      "text/html": [
       "<strong id=\"zeroInNats\"><a class=\"ProveItLink\" href=\"_proofs_\\zeroInNats.ipynb\">zeroInNats</a>:</strong> <a class=\"ProveItLink\" href=\"__pv_it\\3c185eb85c577b2f235e02f47744311460e1c47d0\\expr.ipynb\"><img src=\"__pv_it\\3c185eb85c577b2f235e02f47744311460e1c47d0\\expr.png\" style=\"display:inline;vertical-align:middle;\" /></a><br>"
      ],
      "text/plain": [
       "zeroInNats: 0 in Naturals"
      ]
     },
     "execution_count": 3,
     "metadata": {},
     "output_type": "execute_result"
    }
   ],
   "source": [
    "zeroInNats = InSet(zero, Naturals)"
   ]
  },
  {
   "cell_type": "code",
   "execution_count": 4,
   "metadata": {
    "collapsed": false,
    "deletable": true,
    "editable": true
   },
   "outputs": [
    {
     "data": {
      "text/html": [
       "<strong id=\"successiveNats\"><a class=\"ProveItLink\" href=\"_proofs_\\successiveNats.ipynb\">successiveNats</a>:</strong> <a class=\"ProveItLink\" href=\"__pv_it\\050c73a59b22b1186300a43521ba26e837fd3c680\\expr.ipynb\"><img src=\"__pv_it\\050c73a59b22b1186300a43521ba26e837fd3c680\\expr.png\" style=\"display:inline;vertical-align:middle;\" /></a><br>"
      ],
      "text/plain": [
       "successiveNats: forall_{n in Naturals} ((n + 1) in Naturals)"
      ]
     },
     "execution_count": 4,
     "metadata": {},
     "output_type": "execute_result"
    }
   ],
   "source": [
    "successiveNats = Forall(n, InSet(Add(n, one), Naturals), domain=Naturals)"
   ]
  },
  {
   "cell_type": "code",
   "execution_count": 5,
   "metadata": {
    "collapsed": false,
    "deletable": true,
    "editable": true
   },
   "outputs": [
    {
     "data": {
      "text/html": [
       "<strong id=\"inductionLemma\"><a class=\"ProveItLink\" href=\"_proofs_\\inductionLemma.ipynb\">inductionLemma</a>:</strong> <a class=\"ProveItLink\" href=\"__pv_it\\31ff572015e493e0d73d11f2f39bedc7f899e4760\\expr.ipynb\"><img src=\"__pv_it\\31ff572015e493e0d73d11f2f39bedc7f899e4760\\expr.png\" style=\"display:inline;vertical-align:middle;\" /></a><br>"
      ],
      "text/plain": [
       "inductionLemma: forall_{n in Naturals} [forall_{S} (((0 in S) and [forall_{x in S} ((x + 1) in S)]) => (n in S))]"
      ]
     },
     "execution_count": 5,
     "metadata": {},
     "output_type": "execute_result"
    }
   ],
   "source": [
    "inductionLemma = Forall(n, Forall(S, Implies(And(InSet(zero, S), Forall(x, InSet(Add(x,one), S), domain=S)), InSet(n, S))), domain=Naturals)"
   ]
  },
  {
   "cell_type": "code",
   "execution_count": 6,
   "metadata": {
    "collapsed": false,
    "deletable": true,
    "editable": true
   },
   "outputs": [
    {
     "data": {
      "text/html": [
       "<strong id=\"induction\"><a class=\"ProveItLink\" href=\"_proofs_\\induction.ipynb\">induction</a>:</strong> <a class=\"ProveItLink\" href=\"__pv_it\\566ca18cf5da8fc4aab262c2e1de8e71b61df9160\\expr.ipynb\"><img src=\"__pv_it\\566ca18cf5da8fc4aab262c2e1de8e71b61df9160\\expr.png\" style=\"display:inline;vertical-align:middle;\" /></a><br>"
      ],
      "text/plain": [
       "induction: forall_{P} ((P(0) and [forall_{m in Naturals | P(m)} P(m + 1)]) => [forall_{n in Naturals} P(n)])"
      ]
     },
     "execution_count": 6,
     "metadata": {},
     "output_type": "execute_result"
    }
   ],
   "source": [
    "induction = Forall(P, Implies(And(Pzero, Forall(m, P_mAddOne, domain=Naturals, conditions=[Pm])), Forall(n, Pn, Naturals)))"
   ]
  },
  {
   "cell_type": "code",
   "execution_count": 7,
   "metadata": {
    "collapsed": false,
    "deletable": true,
    "editable": true
   },
   "outputs": [
    {
     "data": {
      "text/html": [
       "<strong id=\"listLenZero\"><a class=\"ProveItLink\" href=\"_proofs_\\listLenZero.ipynb\">listLenZero</a>:</strong> <a class=\"ProveItLink\" href=\"__pv_it\\76dc6f60ac068faf6e9a3ef1fb6e847a940904d70\\expr.ipynb\"><img src=\"__pv_it\\76dc6f60ac068faf6e9a3ef1fb6e847a940904d70\\expr.png\" style=\"display:inline;vertical-align:middle;\" /></a><br>"
      ],
      "text/plain": [
       "listLenZero: |()| = 0"
      ]
     },
     "execution_count": 7,
     "metadata": {},
     "output_type": "execute_result"
    }
   ],
   "source": [
    "listLenZero = Equals(Len(), zero)"
   ]
  },
  {
   "cell_type": "code",
   "execution_count": 8,
   "metadata": {
    "collapsed": false,
    "deletable": true,
    "editable": true
   },
   "outputs": [
    {
     "data": {
      "text/html": [
       "<strong id=\"listLenOne\"><a class=\"ProveItLink\" href=\"_proofs_\\listLenOne.ipynb\">listLenOne</a>:</strong> <a class=\"ProveItLink\" href=\"__pv_it\\4bd34c20e24ee27cf61fdd796f164259dc401db70\\expr.ipynb\"><img src=\"__pv_it\\4bd34c20e24ee27cf61fdd796f164259dc401db70\\expr.png\" style=\"display:inline;vertical-align:middle;\" /></a><br>"
      ],
      "text/plain": [
       "listLenOne: forall_{a} (|(a)| = 1)"
      ]
     },
     "execution_count": 8,
     "metadata": {},
     "output_type": "execute_result"
    }
   ],
   "source": [
    "listLenOne = Forall(a, Equals(Len(a), one))"
   ]
  },
  {
   "cell_type": "code",
   "execution_count": 9,
   "metadata": {
    "collapsed": false,
    "deletable": true,
    "editable": true
   },
   "outputs": [
    {
     "data": {
      "text/html": [
       "<strong id=\"listLenTwo\"><a class=\"ProveItLink\" href=\"_proofs_\\listLenTwo.ipynb\">listLenTwo</a>:</strong> <a class=\"ProveItLink\" href=\"__pv_it\\7a52734c8645b68f35a915b8b98d257352c798d40\\expr.ipynb\"><img src=\"__pv_it\\7a52734c8645b68f35a915b8b98d257352c798d40\\expr.png\" style=\"display:inline;vertical-align:middle;\" /></a><br>"
      ],
      "text/plain": [
       "listLenTwo: forall_{a, b} (|(a,b)| = 2)"
      ]
     },
     "execution_count": 9,
     "metadata": {},
     "output_type": "execute_result"
    }
   ],
   "source": [
    "listLenTwo = Forall((a, b), Equals(Len(a, b), two))"
   ]
  },
  {
   "cell_type": "code",
   "execution_count": 10,
   "metadata": {
    "collapsed": false,
    "deletable": true,
    "editable": true
   },
   "outputs": [
    {
     "data": {
      "text/html": [
       "<strong id=\"listLenThree\"><a class=\"ProveItLink\" href=\"_proofs_\\listLenThree.ipynb\">listLenThree</a>:</strong> <a class=\"ProveItLink\" href=\"__pv_it\\04371c1a26e8a80c8ad29a37bde3c9d7646e5fd80\\expr.ipynb\"><img src=\"__pv_it\\04371c1a26e8a80c8ad29a37bde3c9d7646e5fd80\\expr.png\" style=\"display:inline;vertical-align:middle;\" /></a><br>"
      ],
      "text/plain": [
       "listLenThree: forall_{a, b, c} (|(a,b,c)| = 3)"
      ]
     },
     "execution_count": 10,
     "metadata": {},
     "output_type": "execute_result"
    }
   ],
   "source": [
    "listLenThree = Forall((a, b, c), Equals(Len(a, b, c), three))"
   ]
  },
  {
   "cell_type": "code",
   "execution_count": 11,
   "metadata": {
    "collapsed": false,
    "deletable": true,
    "editable": true
   },
   "outputs": [
    {
     "data": {
      "text/html": [
       "<strong id=\"listLenFour\"><a class=\"ProveItLink\" href=\"_proofs_\\listLenFour.ipynb\">listLenFour</a>:</strong> <a class=\"ProveItLink\" href=\"__pv_it\\c0d4cb45887c4ff6cb82f2c62e9380af0c31482b0\\expr.ipynb\"><img src=\"__pv_it\\c0d4cb45887c4ff6cb82f2c62e9380af0c31482b0\\expr.png\" style=\"display:inline;vertical-align:middle;\" /></a><br>"
      ],
      "text/plain": [
       "listLenFour: forall_{a, b, c, d} (|(a,b,c,d)| = 4)"
      ]
     },
     "execution_count": 11,
     "metadata": {},
     "output_type": "execute_result"
    }
   ],
   "source": [
    "listLenFour = Forall((a, b, c, d), Equals(Len(a, b, c, d), four))"
   ]
  },
  {
   "cell_type": "code",
   "execution_count": 12,
   "metadata": {
    "collapsed": false,
    "deletable": true,
    "editable": true
   },
   "outputs": [
    {
     "data": {
      "text/html": [
       "<strong id=\"listLenFive\"><a class=\"ProveItLink\" href=\"_proofs_\\listLenFive.ipynb\">listLenFive</a>:</strong> <a class=\"ProveItLink\" href=\"__pv_it\\57f9c7ad3221d805c083d9cea6ab78d1164a62ba0\\expr.ipynb\"><img src=\"__pv_it\\57f9c7ad3221d805c083d9cea6ab78d1164a62ba0\\expr.png\" style=\"display:inline;vertical-align:middle;\" /></a><br>"
      ],
      "text/plain": [
       "listLenFive: forall_{a, b, c, d, e} (|(a,b,c,d,e)| = 5)"
      ]
     },
     "execution_count": 12,
     "metadata": {},
     "output_type": "execute_result"
    }
   ],
   "source": [
    "listLenFive = Forall((a, b, c, d, e), Equals(Len(a, b, c, d, e), five))"
   ]
  },
  {
   "cell_type": "code",
   "execution_count": 13,
   "metadata": {
    "collapsed": false,
    "deletable": true,
    "editable": true
   },
   "outputs": [
    {
     "data": {
      "text/html": [
       "<strong id=\"listLenSix\"><a class=\"ProveItLink\" href=\"_proofs_\\listLenSix.ipynb\">listLenSix</a>:</strong> <a class=\"ProveItLink\" href=\"__pv_it\\c4ff6f90156de61c6dd83d890f118dc0f848e4c10\\expr.ipynb\"><img src=\"__pv_it\\c4ff6f90156de61c6dd83d890f118dc0f848e4c10\\expr.png\" style=\"display:inline;vertical-align:middle;\" /></a><br>"
      ],
      "text/plain": [
       "listLenSix: forall_{a, b, c, d, e, f} (|(a,b,c,d,e,f)| = 6)"
      ]
     },
     "execution_count": 13,
     "metadata": {},
     "output_type": "execute_result"
    }
   ],
   "source": [
    "listLenSix = Forall((a, b, c, d, e, f), Equals(Len(a, b, c, d, e, f), six))"
   ]
  },
  {
   "cell_type": "code",
   "execution_count": 14,
   "metadata": {
    "collapsed": false,
    "deletable": true,
    "editable": true
   },
   "outputs": [
    {
     "data": {
      "text/html": [
       "<strong id=\"listLenSeven\"><a class=\"ProveItLink\" href=\"_proofs_\\listLenSeven.ipynb\">listLenSeven</a>:</strong> <a class=\"ProveItLink\" href=\"__pv_it\\e6c7b8b4f03b608dc0b68c4f02d91f0ce90d40110\\expr.ipynb\"><img src=\"__pv_it\\e6c7b8b4f03b608dc0b68c4f02d91f0ce90d40110\\expr.png\" style=\"display:inline;vertical-align:middle;\" /></a><br>"
      ],
      "text/plain": [
       "listLenSeven: forall_{a, b, c, d, e, f, g} (|(a,b,c,d,e,f,g)| = 7)"
      ]
     },
     "execution_count": 14,
     "metadata": {},
     "output_type": "execute_result"
    }
   ],
   "source": [
    "listLenSeven = Forall((a, b, c, d, e, f, g), Equals(Len(a, b, c, d, e, f, g), seven))"
   ]
  },
  {
   "cell_type": "code",
   "execution_count": 15,
   "metadata": {
    "collapsed": false,
    "deletable": true,
    "editable": true
   },
   "outputs": [
    {
     "data": {
      "text/html": [
       "<strong id=\"listLenEight\"><a class=\"ProveItLink\" href=\"_proofs_\\listLenEight.ipynb\">listLenEight</a>:</strong> <a class=\"ProveItLink\" href=\"__pv_it\\8a6221f8559bb32afd06ea75302f9b5bba3bc6be0\\expr.ipynb\"><img src=\"__pv_it\\8a6221f8559bb32afd06ea75302f9b5bba3bc6be0\\expr.png\" style=\"display:inline;vertical-align:middle;\" /></a><br>"
      ],
      "text/plain": [
       "listLenEight: forall_{a, b, c, d, e, f, g, h} (|(a,b,c,d,e,f,g,h)| = 8)"
      ]
     },
     "execution_count": 15,
     "metadata": {},
     "output_type": "execute_result"
    }
   ],
   "source": [
    "listLenEight = Forall((a, b, c, d, e, f, g, h), Equals(Len(a, b, c, d, e, f, g, h), eight))"
   ]
  },
  {
   "cell_type": "code",
   "execution_count": 16,
   "metadata": {
    "collapsed": false,
    "deletable": true,
    "editable": true
   },
   "outputs": [
    {
     "data": {
      "text/html": [
       "<strong id=\"listLenNine\"><a class=\"ProveItLink\" href=\"_proofs_\\listLenNine.ipynb\">listLenNine</a>:</strong> <a class=\"ProveItLink\" href=\"__pv_it\\8527b3243bdd758deba2a730d500573e06d959d70\\expr.ipynb\"><img src=\"__pv_it\\8527b3243bdd758deba2a730d500573e06d959d70\\expr.png\" style=\"display:inline;vertical-align:middle;\" /></a><br>"
      ],
      "text/plain": [
       "listLenNine: forall_{a, b, c, d, e, f, g, h, i} (|(a,b,c,d,e,f,g,h,i)| = 9)"
      ]
     },
     "execution_count": 16,
     "metadata": {},
     "output_type": "execute_result"
    }
   ],
   "source": [
    "listLenNine = Forall((a, b, c, d, e, f, g, h, i), Equals(Len(a, b, c, d, e, f, g, h, i), nine))"
   ]
  },
  {
   "cell_type": "code",
   "execution_count": 17,
   "metadata": {
    "collapsed": false,
    "deletable": true,
    "editable": true
   },
   "outputs": [
    {
     "data": {
      "text/html": [
       "<strong id=\"multiVarInduction\"><a class=\"ProveItLink\" href=\"_proofs_\\multiVarInduction.ipynb\">multiVarInduction</a>:</strong> <a class=\"ProveItLink\" href=\"__pv_it\\ffe934b868720040d6d6801b88a4724b4878e4560\\expr.ipynb\"><img src=\"__pv_it\\ffe934b868720040d6d6801b88a4724b4878e4560\\expr.png\" style=\"display:inline;vertical-align:middle;\" /></a><br>"
      ],
      "text/plain": [
       "multiVarInduction: forall_{P} ([forall_{x_{*}, y} (P( ..,x_{*},.. ) => P( ..,x_{*},.. ,y))] => [forall_{x_{*}} P( ..,x_{*},.. )])"
      ]
     },
     "execution_count": 17,
     "metadata": {},
     "output_type": "execute_result"
    }
   ],
   "source": [
    "multiVarInduction = Forall(P, Implies(Forall((xMulti, y), Implies(PxEtc, Operation(P, [xEtc, y]))), Forall(xMulti, PxEtc)))"
   ]
  },
  {
   "cell_type": "code",
   "execution_count": 18,
   "metadata": {
    "collapsed": true,
    "deletable": true,
    "editable": true
   },
   "outputs": [],
   "source": [
    "#inIntsIsBool = Forall(a, InSet(InSet(a, Integers), Booleans))\n",
    "#notInIntsIsBool = Forall(a, InSet(NotInSet(a, Integers), Booleans))"
   ]
  },
  {
   "cell_type": "code",
   "execution_count": 19,
   "metadata": {
    "collapsed": false,
    "deletable": true,
    "editable": true
   },
   "outputs": [
    {
     "data": {
      "text/html": [
       "<strong id=\"inNaturalsIfNonNeg\"><a class=\"ProveItLink\" href=\"_proofs_\\inNaturalsIfNonNeg.ipynb\">inNaturalsIfNonNeg</a>:</strong> <a class=\"ProveItLink\" href=\"__pv_it\\dc8d813f422454c3c59f1f6ff3a08a1e09890df00\\expr.ipynb\"><img src=\"__pv_it\\dc8d813f422454c3c59f1f6ff3a08a1e09890df00\\expr.png\" style=\"display:inline;vertical-align:middle;\" /></a><br>"
      ],
      "text/plain": [
       "inNaturalsIfNonNeg: forall_{a in Integers | (a >= 0)} (a in Naturals)"
      ]
     },
     "execution_count": 19,
     "metadata": {},
     "output_type": "execute_result"
    }
   ],
   "source": [
    "inNaturalsIfNonNeg = Forall(a, InSet(a,Naturals), domain=Integers, conditions=[GreaterEq(a, zero)])"
   ]
  },
  {
   "cell_type": "code",
   "execution_count": 20,
   "metadata": {
    "collapsed": false,
    "deletable": true,
    "editable": true
   },
   "outputs": [
    {
     "data": {
      "text/html": [
       "<strong id=\"inNaturalsPosIfPos\"><a class=\"ProveItLink\" href=\"_proofs_\\inNaturalsPosIfPos.ipynb\">inNaturalsPosIfPos</a>:</strong> <a class=\"ProveItLink\" href=\"__pv_it\\9f1e11bee1fa7c8e25d05c30fe9ee426f1038cbc0\\expr.ipynb\"><img src=\"__pv_it\\9f1e11bee1fa7c8e25d05c30fe9ee426f1038cbc0\\expr.png\" style=\"display:inline;vertical-align:middle;\" /></a><br>"
      ],
      "text/plain": [
       "inNaturalsPosIfPos: forall_{a in Integers | (a > 0)} (a in NaturalsPos)"
      ]
     },
     "execution_count": 20,
     "metadata": {},
     "output_type": "execute_result"
    }
   ],
   "source": [
    "inNaturalsPosIfPos = Forall(a, InSet(a,NaturalsPos), domain=Integers, conditions=[Greater(a, zero)])"
   ]
  },
  {
   "cell_type": "code",
   "execution_count": 21,
   "metadata": {
    "collapsed": false,
    "deletable": true,
    "editable": true
   },
   "outputs": [
    {
     "data": {
      "text/html": [
       "<strong id=\"intervalInInts\"><a class=\"ProveItLink\" href=\"_proofs_\\intervalInInts.ipynb\">intervalInInts</a>:</strong> <a class=\"ProveItLink\" href=\"__pv_it\\27362bcee5e41c8cce5ba563164dd87181b321340\\expr.ipynb\"><img src=\"__pv_it\\27362bcee5e41c8cce5ba563164dd87181b321340\\expr.png\" style=\"display:inline;vertical-align:middle;\" /></a><br>"
      ],
      "text/plain": [
       "intervalInInts: forall_{a, b in Integers} [forall_{n in {a...b}} (n in Integers)]"
      ]
     },
     "execution_count": 21,
     "metadata": {},
     "output_type": "execute_result"
    }
   ],
   "source": [
    "# ACTUALLY, PROBABLY WANT TO DO THE SUBSET THING\n",
    "intervalInInts = Forall((a, b), Forall(n, InSet(n, Integers), domain=Interval(a, b)), domain=Integers)"
   ]
  },
  {
   "cell_type": "code",
   "execution_count": 22,
   "metadata": {
    "collapsed": false,
    "deletable": true,
    "editable": true
   },
   "outputs": [
    {
     "ename": "NameError",
     "evalue": "name 'GreaterThan' is not defined",
     "output_type": "error",
     "traceback": [
      "\u001b[1;31m\u001b[0m",
      "\u001b[1;31mNameError\u001b[0mTraceback (most recent call last)",
      "\u001b[1;32m<ipython-input-22-b33ea900dd70>\u001b[0m in \u001b[0;36m<module>\u001b[1;34m()\u001b[0m\n\u001b[0;32m      2\u001b[0m \u001b[0mintervalInNats\u001b[0m\u001b[1;33m\u001b[0m\u001b[0m\n\u001b[0;32m      3\u001b[0m \u001b[1;33m\u001b[0m\u001b[0m\n\u001b[1;32m----> 4\u001b[1;33m \u001b[0mintervalInNatsPos\u001b[0m \u001b[1;33m=\u001b[0m \u001b[0mForall\u001b[0m\u001b[1;33m(\u001b[0m\u001b[1;33m(\u001b[0m\u001b[0ma\u001b[0m\u001b[1;33m,\u001b[0m \u001b[0mb\u001b[0m\u001b[1;33m)\u001b[0m\u001b[1;33m,\u001b[0m \u001b[0mForall\u001b[0m\u001b[1;33m(\u001b[0m\u001b[0mn\u001b[0m\u001b[1;33m,\u001b[0m \u001b[0mInSet\u001b[0m\u001b[1;33m(\u001b[0m\u001b[0mn\u001b[0m\u001b[1;33m,\u001b[0m \u001b[0mNaturalsPos\u001b[0m\u001b[1;33m)\u001b[0m\u001b[1;33m,\u001b[0m \u001b[0mdomain\u001b[0m\u001b[1;33m=\u001b[0m\u001b[0mInterval\u001b[0m\u001b[1;33m(\u001b[0m\u001b[0ma\u001b[0m\u001b[1;33m,\u001b[0m \u001b[0mb\u001b[0m\u001b[1;33m)\u001b[0m\u001b[1;33m)\u001b[0m\u001b[1;33m,\u001b[0m \u001b[0mdomain\u001b[0m\u001b[1;33m=\u001b[0m\u001b[0mIntegers\u001b[0m\u001b[1;33m,\u001b[0m \u001b[0mconditions\u001b[0m\u001b[1;33m=\u001b[0m\u001b[1;33m[\u001b[0m\u001b[0mGreaterThan\u001b[0m\u001b[1;33m(\u001b[0m\u001b[0ma\u001b[0m\u001b[1;33m,\u001b[0m \u001b[0mzero\u001b[0m\u001b[1;33m)\u001b[0m\u001b[1;33m]\u001b[0m\u001b[1;33m)\u001b[0m\u001b[1;33m\u001b[0m\u001b[0m\n\u001b[0m\u001b[0;32m      5\u001b[0m \u001b[0mintervalInNatsPos\u001b[0m\u001b[1;33m\u001b[0m\u001b[0m\n\u001b[0;32m      6\u001b[0m \u001b[1;33m\u001b[0m\u001b[0m\n",
      "\u001b[1;31mNameError\u001b[0m: name 'GreaterThan' is not defined"
     ]
    }
   ],
   "source": [
    "intervalInNats = Forall((a, b), Forall(n, InSet(n, Naturals), domain=Interval(a, b)), domain=Naturals)\n",
    "intervalInNats  \n",
    "\n",
    "intervalInNatsPos = Forall((a, b), Forall(n, InSet(n, NaturalsPos), domain=Interval(a, b)), domain=Integers, conditions=[GreaterThan(a, zero)])\n",
    "intervalInNatsPos\n",
    "\n",
    "allInNegativeIntervalAreNegative = Forall((a, b), Forall(n, LessThan(n, zero), domain=Interval(a, b)), domain=Integers, conditions=[LessThan(b, zero)])\n",
    "allInNegativeIntervalAreNegative\n",
    "\n",
    "allInPositiveIntervalArePositive = Forall((a, b), Forall(n, GreaterThan(n, zero), domain=Interval(a, b)), domain=Integers, conditions=[GreaterThan(a, zero)])\n",
    "allInPositiveIntervalArePositive\n",
    "\n",
    "intervalLowerBound = Forall((a, b), Forall(n, LessThanEquals(a, n), domain=Interval(a, b)), domain=Integers)\n",
    "intervalLowerBound\n",
    "\n",
    "intervalUpperBound = Forall((a, b), Forall(n, LessThanEquals(n, b), domain=Interval(a, b)), domain=Integers)\n",
    "intervalUpperBound\n",
    "\n",
    "inInterval = Forall((a, b, n), InSet(n, Interval(a, b)), domain=Integers, conditions=[LessThanEquals(a, n), LessThanEquals(n, b)])\n",
    "inInterval\n",
    "\n",
    "natsInInts = Forall(a,InSet(a,Integers),domain = Naturals)\n",
    "natsInInts\n",
    "\n",
    "natsInReals = Forall(a,InSet(a,Reals),domain = Naturals)\n",
    "natsInReals\n",
    "\n",
    "natsInComplexes = Forall(a,InSet(a,Complexes),domain = Naturals)\n",
    "natsInComplexes\n",
    "\n",
    "natsPosInNaturals = Forall(a,InSet(a,Naturals),domain = NaturalsPos)\n",
    "natsPosInNaturals\n",
    "\n",
    "natsPosInIntegers = Forall(a,InSet(a,Integers),domain = NaturalsPos)\n",
    "natsPosInIntegers\n",
    "\n",
    "natsPosInRealsPos = Forall(a,InSet(a,RealsPos),domain = NaturalsPos)\n",
    "natsPosInRealsPos\n",
    "\n",
    "natsPosInReals = Forall(a,InSet(a,Reals),domain = NaturalsPos)\n",
    "natsPosInReals\n",
    "\n",
    "natsPosInComplexes = Forall(a,InSet(a,Complexes),domain = NaturalsPos)\n",
    "natsPosInComplexes\n",
    "\n",
    "naturalsLowerBound = Forall(n, GreaterThanEquals(n, zero), domain=Naturals)\n",
    "naturalsLowerBound\n",
    "\n",
    "naturalsPosLowerBound = Forall(n, GreaterThanEquals(n, one), domain=NaturalsPos)\n",
    "naturalsPosLowerBound\n",
    "\n",
    "oneInNaturals = InSet(one,Naturals)\n",
    "oneInNaturals\n",
    "\n",
    "twoInNaturals = InSet(two,Naturals)\n",
    "twoInNaturals\n",
    "\n",
    "threeInNaturals = InSet(three,Naturals)\n",
    "threeInNaturals\n",
    "\n",
    "fourInNaturals = InSet(four,Naturals)\n",
    "fourInNaturals\n",
    "\n",
    "fiveInNaturals = InSet(five,Naturals)\n",
    "fiveInNaturals\n",
    "\n",
    "sixInNaturals = InSet(six,Naturals)\n",
    "sixInNaturals\n",
    "\n",
    "sevenInNaturals = InSet(seven,Naturals)\n",
    "sevenInNaturals\n",
    "\n",
    "eightInNaturals = InSet(eight,Naturals)\n",
    "eightInNaturals\n",
    "\n",
    "nineInNaturals = InSet(nine,Naturals)\n",
    "nineInNaturals\n",
    "\n",
    "oneNotZero = NotEquals(one, zero)\n",
    "oneNotZero\n",
    "\n",
    "twoNotZero = NotEquals(two, zero)\n",
    "twoNotZero\n",
    "\n",
    "threeNotZero = NotEquals(three, zero)\n",
    "threeNotZero\n",
    "\n",
    "fourNotZero = NotEquals(four, zero)\n",
    "fourNotZero\n",
    "\n",
    "fiveNotZero = NotEquals(five, zero)\n",
    "fiveNotZero\n",
    "\n",
    "sixNotZero = NotEquals(six, zero)\n",
    "sixNotZero\n",
    "\n",
    "sevenNotZero = NotEquals(seven, zero)\n",
    "sevenNotZero\n",
    "\n",
    "eightNotZero = NotEquals(eight, zero)\n",
    "eightNotZero\n",
    "\n",
    "nineNotZero = NotEquals(nine, zero)\n",
    "nineNotZero\n",
    "\n",
    "oneIsPositive = GreaterThan(one,zero)\n",
    "oneIsPositive\n",
    "\n",
    "twoIsPositive = GreaterThan(two,zero)\n",
    "twoIsPositive\n",
    "\n",
    "threeIsPositive = GreaterThan(three,zero)\n",
    "threeIsPositive\n",
    "\n",
    "fourIsPositive = GreaterThan(four,zero)\n",
    "fourIsPositive\n",
    "\n",
    "fiveIsPositive = GreaterThan(five,zero)\n",
    "fiveIsPositive\n",
    "\n",
    "sixIsPositive = GreaterThan(six,zero)\n",
    "sixIsPositive\n",
    "\n",
    "sevenIsPositive = GreaterThan(seven,zero)\n",
    "sevenIsPositive\n",
    "\n",
    "eightIsPositive = GreaterThan(eight,zero)\n",
    "eightIsPositive\n",
    "\n",
    "nineIsPositive = GreaterThan(nine,zero)\n",
    "nineIsPositive\n",
    "\n",
    "oneInNaturalsPos = InSet(one, NaturalsPos)\n",
    "oneInNaturalsPos\n",
    "\n",
    "twoInNaturalsPos = InSet(two, NaturalsPos)\n",
    "twoInNaturalsPos\n",
    "\n",
    "threeInNaturalsPos = InSet(three, NaturalsPos)\n",
    "threeInNaturalsPos\n",
    "\n",
    "fourInNaturalsPos = InSet(four, NaturalsPos)\n",
    "fourInNaturalsPos\n",
    "\n",
    "fiveInNaturalsPos = InSet(five, NaturalsPos)\n",
    "fiveInNaturalsPos\n",
    "\n",
    "sixInNaturalsPos = InSet(six, NaturalsPos)\n",
    "sixInNaturalsPos\n",
    "\n",
    "sevenInNaturalsPos = InSet(seven, NaturalsPos)\n",
    "sevenInNaturalsPos\n",
    "\n",
    "eightInNaturalsPos = InSet(eight, NaturalsPos)\n",
    "eightInNaturalsPos\n",
    "\n",
    "nineInNaturalsPos = InSet(nine, NaturalsPos)\n",
    "nineInNaturalsPos\n",
    "\n",
    "naturalsInduction = Forall(P, Implies(And(Operation(P, zero), \n",
    "                                          Forall(n, Implies(Operation(P, n), Operation(P, Add(n, one))),\n",
    "                                                 domain=Naturals)),\n",
    "                                      Forall(n, Operation(P, n), domain=Naturals)))\n",
    "naturalsInduction      \n",
    "\n",
    "naturalsPosInduction = Forall(P, Implies(And(Operation(P, one), \n",
    "                                             Forall(n, Implies(Operation(P, n), Operation(P, Add(n, one))),\n",
    "                                                    domain=NaturalsPos)),\n",
    "                                         Forall(n, Operation(P, n), domain=NaturalsPos)))\n",
    "naturalsPosInduction "
   ]
  },
  {
   "cell_type": "code",
   "execution_count": 3,
   "metadata": {
    "collapsed": false,
    "deletable": true,
    "editable": true
   },
   "outputs": [
    {
     "data": {
      "text/html": [
       "<strong id=\"natsPosInNats\"><a class=\"ProveItLink\" href=\"_proofs_\\natsPosInNats.ipynb\" target=\"_blank\">natsPosInNats</a>:</strong> <a href=\"__pv_it\\26763dbd7ef71941125b52e4887136bbb4eb6a1f0\\expr.ipynb\" target=\"_blank\"><img src=\"__pv_it\\26763dbd7ef71941125b52e4887136bbb4eb6a1f0\\expr.png\" style=\"display:inline;vertical-align:middle;\" /></a><br>"
      ],
      "text/plain": [
       "natsPosInNats: NaturalsPos subset Naturals"
      ]
     },
     "execution_count": 3,
     "metadata": {},
     "output_type": "execute_result"
    }
   ],
   "source": [
    "natsPosInNats = Subset(NaturalsPos, Naturals)"
   ]
  },
  {
   "cell_type": "code",
   "execution_count": 4,
   "metadata": {
    "collapsed": false,
    "deletable": true,
    "editable": true
   },
   "outputs": [
    {
     "data": {
      "text/html": [
       "<strong id=\"natsInInts\"><a class=\"ProveItLink\" href=\"_proofs_\\natsInInts.ipynb\" target=\"_blank\">natsInInts</a>:</strong> <a href=\"__pv_it\\ed621a142cd2f27915b2c557c687c5a4ad487e210\\expr.ipynb\" target=\"_blank\"><img src=\"__pv_it\\ed621a142cd2f27915b2c557c687c5a4ad487e210\\expr.png\" style=\"display:inline;vertical-align:middle;\" /></a><br>"
      ],
      "text/plain": [
       "natsInInts: Naturals subset Integers"
      ]
     },
     "execution_count": 4,
     "metadata": {},
     "output_type": "execute_result"
    }
   ],
   "source": [
    "natsInInts = Subset(Naturals, Integers)"
   ]
  },
  {
   "cell_type": "code",
   "execution_count": 5,
   "metadata": {
    "collapsed": false,
    "deletable": true,
    "editable": true
   },
   "outputs": [
    {
     "data": {
      "text/html": [
       "<strong id=\"natsPosInInts\"><a class=\"ProveItLink\" href=\"_proofs_\\natsPosInInts.ipynb\" target=\"_blank\">natsPosInInts</a>:</strong> <a href=\"__pv_it\\40ba2bb9d93b3dcedcf600d2224d382086a430020\\expr.ipynb\" target=\"_blank\"><img src=\"__pv_it\\40ba2bb9d93b3dcedcf600d2224d382086a430020\\expr.png\" style=\"display:inline;vertical-align:middle;\" /></a><br>"
      ],
      "text/plain": [
       "natsPosInInts: NaturalsPos subset Integers"
      ]
     },
     "execution_count": 5,
     "metadata": {},
     "output_type": "execute_result"
    }
   ],
   "source": [
    "natsPosInInts = Subset(NaturalsPos, Integers)"
   ]
  },
  {
   "cell_type": "code",
   "execution_count": 6,
   "metadata": {
    "collapsed": false,
    "deletable": true,
    "editable": true
   },
   "outputs": [
    {
     "name": "stdout",
     "output_type": "stream",
     "text": [
      "Adding theorem natsPosInNats to proveit.number.sets.integer context\n",
      "Adding theorem natsInInts to proveit.number.sets.integer context\n",
      "Adding theorem natsPosInInts to proveit.number.sets.integer context\n",
      "natsPosInInts expression notebook is being updated\n",
      "natsInInts expression notebook is being updated\n",
      "natsPosInNats expression notebook is being updated\n",
      "Theorems may be imported from autogenerated _theorems_.py\n"
     ]
    }
   ],
   "source": [
    "%end theorems"
   ]
  },
  {
   "cell_type": "code",
   "execution_count": 3,
   "metadata": {
    "collapsed": true,
    "deletable": true,
    "editable": true
   },
   "outputs": [],
   "source": []
  }
 ],
 "metadata": {
  "kernelspec": {
   "display_name": "Python 2",
   "language": "python",
   "name": "python2"
  },
  "language_info": {
   "codemirror_mode": {
    "name": "ipython",
    "version": 2
   },
   "file_extension": ".py",
   "mimetype": "text/x-python",
   "name": "python",
   "nbconvert_exporter": "python",
   "pygments_lexer": "ipython2",
   "version": "2.7.11"
  }
 },
 "nbformat": 4,
 "nbformat_minor": 0
}
