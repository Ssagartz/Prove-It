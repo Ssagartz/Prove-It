{
 "cells": [
  {
   "cell_type": "markdown",
   "metadata": {
    "collapsed": true,
    "deletable": true,
    "editable": true
   },
   "source": [
    "Theorems for context <a href=\"_context_.ipynb\" class=\"ProveItLink\">proveit.number.sets.integer</a>\n",
    "========"
   ]
  },
  {
   "cell_type": "code",
   "execution_count": 1,
   "metadata": {
    "collapsed": false,
    "deletable": true,
    "editable": true
   },
   "outputs": [],
   "source": [
    "import proveit\n",
    "# the context is in the current directory:\n",
    "context = proveit.Context('.') # adds context root to sys.path if necessary\n",
    "from proveit import Operation\n",
    "from proveit._common_ import a, b, c, d, e, f, g, h, i, m, n, x, y, S, P\n",
    "from proveit.logic import Forall, And, Implies, Equals, InSet, Subset\n",
    "from proveit.number import zero, one, num\n",
    "from proveit.number import Naturals, NaturalsPos, Integers, Interval\n",
    "from proveit.number import Add, Len, Greater, GreaterEq\n",
    "from proveit.number._common_ import Pzero, Pm, P_mAddOne, Pn"
   ]
  },
  {
   "cell_type": "code",
   "execution_count": 2,
   "metadata": {
    "collapsed": false,
    "deletable": true,
    "editable": true
   },
   "outputs": [
    {
     "name": "stdout",
     "output_type": "stream",
     "text": [
      "Defining theorems for context 'proveit.number.sets.integer'\n",
      "Subsequent end-of-cell assignments will define theorems\n",
      "'%end theorems' will finalize the definitions\n"
     ]
    }
   ],
   "source": [
    "%begin theorems"
   ]
  },
  {
   "cell_type": "code",
   "execution_count": 3,
   "metadata": {
    "collapsed": false,
    "deletable": true,
    "editable": true
   },
   "outputs": [
    {
     "data": {
      "text/html": [
       "<strong id=\"zeroInNats\"><a class=\"ProveItLink\" href=\"_proofs_\\zeroInNats.ipynb\">zeroInNats</a>:</strong> <a class=\"ProveItLink\" href=\"__pv_it\\9873745e8f0304d54ed7e0c00e0a5e51899706d40\\expr.ipynb\"><img src=\"__pv_it\\9873745e8f0304d54ed7e0c00e0a5e51899706d40\\expr.png\" style=\"display:inline;vertical-align:middle;\" /></a><br>"
      ],
      "text/plain": [
       "zeroInNats: 0 in Naturals"
      ]
     },
     "execution_count": 3,
     "metadata": {},
     "output_type": "execute_result"
    }
   ],
   "source": [
    "zeroInNats = InSet(zero, Naturals)"
   ]
  },
  {
   "cell_type": "code",
   "execution_count": 4,
   "metadata": {
    "collapsed": false,
    "deletable": true,
    "editable": true
   },
   "outputs": [
    {
     "data": {
      "text/html": [
       "<strong id=\"successiveNats\"><a class=\"ProveItLink\" href=\"_proofs_\\successiveNats.ipynb\">successiveNats</a>:</strong> <a class=\"ProveItLink\" href=\"__pv_it\\d05ece9969de812e78151a900cb9d54d3ace3dc30\\expr.ipynb\"><img src=\"__pv_it\\d05ece9969de812e78151a900cb9d54d3ace3dc30\\expr.png\" style=\"display:inline;vertical-align:middle;\" /></a><br>"
      ],
      "text/plain": [
       "successiveNats: forall_{n in Naturals} ((n + 1) in Naturals)"
      ]
     },
     "execution_count": 4,
     "metadata": {},
     "output_type": "execute_result"
    }
   ],
   "source": [
    "successiveNats = Forall(n, InSet(Add(n, one), Naturals), domain=Naturals)"
   ]
  },
  {
   "cell_type": "code",
   "execution_count": 5,
   "metadata": {
    "collapsed": false,
    "deletable": true,
    "editable": true
   },
   "outputs": [
    {
     "data": {
      "text/html": [
       "<strong id=\"inductionLemma\"><a class=\"ProveItLink\" href=\"_proofs_\\inductionLemma.ipynb\">inductionLemma</a>:</strong> <a class=\"ProveItLink\" href=\"__pv_it\\d50ccb1c9996d12a997a2377fca7fef5ca9b0a8b0\\expr.ipynb\"><img src=\"__pv_it\\d50ccb1c9996d12a997a2377fca7fef5ca9b0a8b0\\expr.png\" style=\"display:inline;vertical-align:middle;\" /></a><br>"
      ],
      "text/plain": [
       "inductionLemma: forall_{n in Naturals} [forall_{S} (((0 in S) and [forall_{x in S} ((x + 1) in S)]) => (n in S))]"
      ]
     },
     "execution_count": 5,
     "metadata": {},
     "output_type": "execute_result"
    }
   ],
   "source": [
    "inductionLemma = Forall(n, Forall(S, Implies(And(InSet(zero, S), Forall(x, InSet(Add(x,one), S), domain=S)), InSet(n, S))), domain=Naturals)"
   ]
  },
  {
   "cell_type": "code",
   "execution_count": 6,
   "metadata": {
    "collapsed": false,
    "deletable": true,
    "editable": true
   },
   "outputs": [
    {
     "data": {
      "text/html": [
       "<strong id=\"induction\"><a class=\"ProveItLink\" href=\"_proofs_\\induction.ipynb\">induction</a>:</strong> <a class=\"ProveItLink\" href=\"__pv_it\\2c80a6a69daf029c2e1af94aa3cf62ef1ce0234c0\\expr.ipynb\"><img src=\"__pv_it\\2c80a6a69daf029c2e1af94aa3cf62ef1ce0234c0\\expr.png\" style=\"display:inline;vertical-align:middle;\" /></a><br>"
      ],
      "text/plain": [
       "induction: forall_{P} ((P(0) and [forall_{m in Naturals | P(m)} P(m + 1)]) => [forall_{n in Naturals} P(n)])"
      ]
     },
     "execution_count": 6,
     "metadata": {},
     "output_type": "execute_result"
    }
   ],
   "source": [
    "induction = Forall(P, Implies(And(Pzero, Forall(m, P_mAddOne, domain=Naturals, conditions=[Pm])), Forall(n, Pn, Naturals)))"
   ]
  },
  {
   "cell_type": "code",
   "execution_count": 7,
   "metadata": {
    "collapsed": false
   },
   "outputs": [
    {
     "data": {
      "text/html": [
       "<strong id=\"list_len_0\"><a class=\"ProveItLink\" href=\"_proofs_\\list_len_0.ipynb\">list_len_0</a>:</strong> <a class=\"ProveItLink\" href=\"__pv_it\\8ec2e78b37bcb746b4042c4dc5cdcd0f1fc1bff60\\expr.ipynb\"><img src=\"__pv_it\\8ec2e78b37bcb746b4042c4dc5cdcd0f1fc1bff60\\expr.png\" style=\"display:inline;vertical-align:middle;\" /></a><br>\n",
       "<strong id=\"list_len_1\"><a class=\"ProveItLink\" href=\"_proofs_\\list_len_1.ipynb\">list_len_1</a>:</strong> <a class=\"ProveItLink\" href=\"__pv_it\\60df65d8e8a0e67f6e8c325e335efd49da802c580\\expr.ipynb\"><img src=\"__pv_it\\60df65d8e8a0e67f6e8c325e335efd49da802c580\\expr.png\" style=\"display:inline;vertical-align:middle;\" /></a><br>\n",
       "<strong id=\"list_len_2\"><a class=\"ProveItLink\" href=\"_proofs_\\list_len_2.ipynb\">list_len_2</a>:</strong> <a class=\"ProveItLink\" href=\"__pv_it\\c835f82fee4e213773a15161a01c92123ea606840\\expr.ipynb\"><img src=\"__pv_it\\c835f82fee4e213773a15161a01c92123ea606840\\expr.png\" style=\"display:inline;vertical-align:middle;\" /></a><br>\n",
       "<strong id=\"list_len_3\"><a class=\"ProveItLink\" href=\"_proofs_\\list_len_3.ipynb\">list_len_3</a>:</strong> <a class=\"ProveItLink\" href=\"__pv_it\\0e308ab4b575b2695b280c05f37f743d6e4df79c0\\expr.ipynb\"><img src=\"__pv_it\\0e308ab4b575b2695b280c05f37f743d6e4df79c0\\expr.png\" style=\"display:inline;vertical-align:middle;\" /></a><br>\n",
       "<strong id=\"list_len_4\"><a class=\"ProveItLink\" href=\"_proofs_\\list_len_4.ipynb\">list_len_4</a>:</strong> <a class=\"ProveItLink\" href=\"__pv_it\\748b51a275ae9024c6bb79679b1a4538d3211a720\\expr.ipynb\"><img src=\"__pv_it\\748b51a275ae9024c6bb79679b1a4538d3211a720\\expr.png\" style=\"display:inline;vertical-align:middle;\" /></a><br>\n",
       "<strong id=\"list_len_5\"><a class=\"ProveItLink\" href=\"_proofs_\\list_len_5.ipynb\">list_len_5</a>:</strong> <a class=\"ProveItLink\" href=\"__pv_it\\21a24c940930284ec51036dbb8d650f2dfd044510\\expr.ipynb\"><img src=\"__pv_it\\21a24c940930284ec51036dbb8d650f2dfd044510\\expr.png\" style=\"display:inline;vertical-align:middle;\" /></a><br>\n",
       "<strong id=\"list_len_6\"><a class=\"ProveItLink\" href=\"_proofs_\\list_len_6.ipynb\">list_len_6</a>:</strong> <a class=\"ProveItLink\" href=\"__pv_it\\136516b5d35f8796cb1f2e26f8cf958871f657b20\\expr.ipynb\"><img src=\"__pv_it\\136516b5d35f8796cb1f2e26f8cf958871f657b20\\expr.png\" style=\"display:inline;vertical-align:middle;\" /></a><br>\n",
       "<strong id=\"list_len_7\"><a class=\"ProveItLink\" href=\"_proofs_\\list_len_7.ipynb\">list_len_7</a>:</strong> <a class=\"ProveItLink\" href=\"__pv_it\\7037245886afa8cd6d9babfd2df36ec57b709c590\\expr.ipynb\"><img src=\"__pv_it\\7037245886afa8cd6d9babfd2df36ec57b709c590\\expr.png\" style=\"display:inline;vertical-align:middle;\" /></a><br>\n",
       "<strong id=\"list_len_8\"><a class=\"ProveItLink\" href=\"_proofs_\\list_len_8.ipynb\">list_len_8</a>:</strong> <a class=\"ProveItLink\" href=\"__pv_it\\7cdc9cbe365b6125bc491b21177b454d31dbe56e0\\expr.ipynb\"><img src=\"__pv_it\\7cdc9cbe365b6125bc491b21177b454d31dbe56e0\\expr.png\" style=\"display:inline;vertical-align:middle;\" /></a><br>\n",
       "<strong id=\"list_len_9\"><a class=\"ProveItLink\" href=\"_proofs_\\list_len_9.ipynb\">list_len_9</a>:</strong> <a class=\"ProveItLink\" href=\"__pv_it\\f744643781a28af70c40d4dfb588e94accbc6c550\\expr.ipynb\"><img src=\"__pv_it\\f744643781a28af70c40d4dfb588e94accbc6c550\\expr.png\" style=\"display:inline;vertical-align:middle;\" /></a><br>"
      ],
      "text/plain": [
       "list_len_0: forall_{} (|()| = 0)\n",
       "list_len_1: forall_{a} (|(a)| = 1)\n",
       "list_len_2: forall_{a, b} (|(a , b)| = 2)\n",
       "list_len_3: forall_{a, b, c} (|(a , b , c)| = 3)\n",
       "list_len_4: forall_{a, b, c, d} (|(a , b , c , d)| = 4)\n",
       "list_len_5: forall_{a, b, c, d, e} (|(a , b , c , d , e)| = 5)\n",
       "list_len_6: forall_{a, b, c, d, e, f} (|(a , b , c , d , e , f)| = 6)\n",
       "list_len_7: forall_{a, b, c, d, e, f, g} (|(a , b , c , d , e , f , g)| = 7)\n",
       "list_len_8: forall_{a, b, c, d, e, f, g, h} (|(a , b , c , d , e , f , g , h)| = 8)\n",
       "list_len_9: forall_{a, b, c, d, e, f, g, h, i} (|(a , b , c , d , e , f , g , h , i)| = 9)"
      ]
     },
     "execution_count": 7,
     "metadata": {},
     "output_type": "execute_result"
    }
   ],
   "source": [
    "cur_vars = vars()\n",
    "def nvars(n):\n",
    "    return [cur_vars[chr(ord('a')+k)] for k in xrange(n)]\n",
    "list_len_0, list_len_1, list_len_2, list_len_3, list_len_4, list_len_5, list_len_6, list_len_7, list_len_8, list_len_9 = [Forall(nvars(n), Equals(Len(*nvars(n)), num(n))) for n in xrange(10)]"
   ]
  },
  {
   "cell_type": "code",
   "execution_count": 17,
   "metadata": {
    "collapsed": false,
    "deletable": true,
    "editable": true
   },
   "outputs": [
    {
     "data": {
      "text/html": [
       "<strong id=\"multiVarInduction\"><a class=\"ProveItLink\" href=\"_proofs_\\multiVarInduction.ipynb\">multiVarInduction</a>:</strong> <a class=\"ProveItLink\" href=\"__pv_it\\ffe934b868720040d6d6801b88a4724b4878e4560\\expr.ipynb\"><img src=\"__pv_it\\ffe934b868720040d6d6801b88a4724b4878e4560\\expr.png\" style=\"display:inline;vertical-align:middle;\" /></a><br>"
      ],
      "text/plain": [
       "multiVarInduction: forall_{P} ([forall_{x_{*}, y} (P( ..,x_{*},.. ) => P( ..,x_{*},.. ,y))] => [forall_{x_{*}} P( ..,x_{*},.. )])"
      ]
     },
     "execution_count": 17,
     "metadata": {},
     "output_type": "execute_result"
    }
   ],
   "source": [
    "#multiVarInduction = Forall(P, Implies(Forall((xMulti, y), Implies(PxEtc, Operation(P, [xEtc, y]))), Forall(xMulti, PxEtc)))"
   ]
  },
  {
   "cell_type": "code",
   "execution_count": 18,
   "metadata": {
    "collapsed": true,
    "deletable": true,
    "editable": true
   },
   "outputs": [],
   "source": [
    "#inIntsIsBool = Forall(a, InSet(InSet(a, Integers), Booleans))\n",
    "#notInIntsIsBool = Forall(a, InSet(NotInSet(a, Integers), Booleans))"
   ]
  },
  {
   "cell_type": "code",
   "execution_count": 19,
   "metadata": {
    "collapsed": false,
    "deletable": true,
    "editable": true
   },
   "outputs": [
    {
     "data": {
      "text/html": [
       "<strong id=\"inNaturalsIfNonNeg\"><a class=\"ProveItLink\" href=\"_proofs_\\inNaturalsIfNonNeg.ipynb\">inNaturalsIfNonNeg</a>:</strong> <a class=\"ProveItLink\" href=\"__pv_it\\dc8d813f422454c3c59f1f6ff3a08a1e09890df00\\expr.ipynb\"><img src=\"__pv_it\\dc8d813f422454c3c59f1f6ff3a08a1e09890df00\\expr.png\" style=\"display:inline;vertical-align:middle;\" /></a><br>"
      ],
      "text/plain": [
       "inNaturalsIfNonNeg: forall_{a in Integers | (a >= 0)} (a in Naturals)"
      ]
     },
     "execution_count": 19,
     "metadata": {},
     "output_type": "execute_result"
    }
   ],
   "source": [
    "inNaturalsIfNonNeg = Forall(a, InSet(a,Naturals), domain=Integers, conditions=[GreaterEq(a, zero)])"
   ]
  },
  {
   "cell_type": "code",
   "execution_count": 20,
   "metadata": {
    "collapsed": false,
    "deletable": true,
    "editable": true
   },
   "outputs": [
    {
     "data": {
      "text/html": [
       "<strong id=\"inNaturalsPosIfPos\"><a class=\"ProveItLink\" href=\"_proofs_\\inNaturalsPosIfPos.ipynb\">inNaturalsPosIfPos</a>:</strong> <a class=\"ProveItLink\" href=\"__pv_it\\9f1e11bee1fa7c8e25d05c30fe9ee426f1038cbc0\\expr.ipynb\"><img src=\"__pv_it\\9f1e11bee1fa7c8e25d05c30fe9ee426f1038cbc0\\expr.png\" style=\"display:inline;vertical-align:middle;\" /></a><br>"
      ],
      "text/plain": [
       "inNaturalsPosIfPos: forall_{a in Integers | (a > 0)} (a in NaturalsPos)"
      ]
     },
     "execution_count": 20,
     "metadata": {},
     "output_type": "execute_result"
    }
   ],
   "source": [
    "inNaturalsPosIfPos = Forall(a, InSet(a,NaturalsPos), domain=Integers, conditions=[Greater(a, zero)])"
   ]
  },
  {
   "cell_type": "code",
   "execution_count": 21,
   "metadata": {
    "collapsed": false,
    "deletable": true,
    "editable": true
   },
   "outputs": [
    {
     "data": {
      "text/html": [
       "<strong id=\"intervalInInts\"><a class=\"ProveItLink\" href=\"_proofs_\\intervalInInts.ipynb\">intervalInInts</a>:</strong> <a class=\"ProveItLink\" href=\"__pv_it\\27362bcee5e41c8cce5ba563164dd87181b321340\\expr.ipynb\"><img src=\"__pv_it\\27362bcee5e41c8cce5ba563164dd87181b321340\\expr.png\" style=\"display:inline;vertical-align:middle;\" /></a><br>"
      ],
      "text/plain": [
       "intervalInInts: forall_{a, b in Integers} [forall_{n in {a...b}} (n in Integers)]"
      ]
     },
     "execution_count": 21,
     "metadata": {},
     "output_type": "execute_result"
    }
   ],
   "source": [
    "# ACTUALLY, PROBABLY WANT TO DO THE SUBSET THING\n",
    "intervalInInts = Forall((a, b), Forall(n, InSet(n, Integers), domain=Interval(a, b)), domain=Integers)"
   ]
  },
  {
   "cell_type": "code",
   "execution_count": 22,
   "metadata": {
    "collapsed": false,
    "deletable": true,
    "editable": true
   },
   "outputs": [
    {
     "ename": "NameError",
     "evalue": "name 'GreaterThan' is not defined",
     "output_type": "error",
     "traceback": [
      "\u001b[1;31m\u001b[0m",
      "\u001b[1;31mNameError\u001b[0mTraceback (most recent call last)",
      "\u001b[1;32m<ipython-input-22-b33ea900dd70>\u001b[0m in \u001b[0;36m<module>\u001b[1;34m()\u001b[0m\n\u001b[0;32m      2\u001b[0m \u001b[0mintervalInNats\u001b[0m\u001b[1;33m\u001b[0m\u001b[0m\n\u001b[0;32m      3\u001b[0m \u001b[1;33m\u001b[0m\u001b[0m\n\u001b[1;32m----> 4\u001b[1;33m \u001b[0mintervalInNatsPos\u001b[0m \u001b[1;33m=\u001b[0m \u001b[0mForall\u001b[0m\u001b[1;33m(\u001b[0m\u001b[1;33m(\u001b[0m\u001b[0ma\u001b[0m\u001b[1;33m,\u001b[0m \u001b[0mb\u001b[0m\u001b[1;33m)\u001b[0m\u001b[1;33m,\u001b[0m \u001b[0mForall\u001b[0m\u001b[1;33m(\u001b[0m\u001b[0mn\u001b[0m\u001b[1;33m,\u001b[0m \u001b[0mInSet\u001b[0m\u001b[1;33m(\u001b[0m\u001b[0mn\u001b[0m\u001b[1;33m,\u001b[0m \u001b[0mNaturalsPos\u001b[0m\u001b[1;33m)\u001b[0m\u001b[1;33m,\u001b[0m \u001b[0mdomain\u001b[0m\u001b[1;33m=\u001b[0m\u001b[0mInterval\u001b[0m\u001b[1;33m(\u001b[0m\u001b[0ma\u001b[0m\u001b[1;33m,\u001b[0m \u001b[0mb\u001b[0m\u001b[1;33m)\u001b[0m\u001b[1;33m)\u001b[0m\u001b[1;33m,\u001b[0m \u001b[0mdomain\u001b[0m\u001b[1;33m=\u001b[0m\u001b[0mIntegers\u001b[0m\u001b[1;33m,\u001b[0m \u001b[0mconditions\u001b[0m\u001b[1;33m=\u001b[0m\u001b[1;33m[\u001b[0m\u001b[0mGreaterThan\u001b[0m\u001b[1;33m(\u001b[0m\u001b[0ma\u001b[0m\u001b[1;33m,\u001b[0m \u001b[0mzero\u001b[0m\u001b[1;33m)\u001b[0m\u001b[1;33m]\u001b[0m\u001b[1;33m)\u001b[0m\u001b[1;33m\u001b[0m\u001b[0m\n\u001b[0m\u001b[0;32m      5\u001b[0m \u001b[0mintervalInNatsPos\u001b[0m\u001b[1;33m\u001b[0m\u001b[0m\n\u001b[0;32m      6\u001b[0m \u001b[1;33m\u001b[0m\u001b[0m\n",
      "\u001b[1;31mNameError\u001b[0m: name 'GreaterThan' is not defined"
     ]
    }
   ],
   "source": [
    "intervalInNats = Forall((a, b), Forall(n, InSet(n, Naturals), domain=Interval(a, b)), domain=Naturals)\n",
    "intervalInNats  \n",
    "\n",
    "intervalInNatsPos = Forall((a, b), Forall(n, InSet(n, NaturalsPos), domain=Interval(a, b)), domain=Integers, conditions=[GreaterThan(a, zero)])\n",
    "intervalInNatsPos\n",
    "\n",
    "allInNegativeIntervalAreNegative = Forall((a, b), Forall(n, LessThan(n, zero), domain=Interval(a, b)), domain=Integers, conditions=[LessThan(b, zero)])\n",
    "allInNegativeIntervalAreNegative\n",
    "\n",
    "allInPositiveIntervalArePositive = Forall((a, b), Forall(n, GreaterThan(n, zero), domain=Interval(a, b)), domain=Integers, conditions=[GreaterThan(a, zero)])\n",
    "allInPositiveIntervalArePositive\n",
    "\n",
    "intervalLowerBound = Forall((a, b), Forall(n, LessThanEquals(a, n), domain=Interval(a, b)), domain=Integers)\n",
    "intervalLowerBound\n",
    "\n",
    "intervalUpperBound = Forall((a, b), Forall(n, LessThanEquals(n, b), domain=Interval(a, b)), domain=Integers)\n",
    "intervalUpperBound\n",
    "\n",
    "inInterval = Forall((a, b, n), InSet(n, Interval(a, b)), domain=Integers, conditions=[LessThanEquals(a, n), LessThanEquals(n, b)])\n",
    "inInterval\n",
    "\n",
    "natsInInts = Forall(a,InSet(a,Integers),domain = Naturals)\n",
    "natsInInts\n",
    "\n",
    "natsInReals = Forall(a,InSet(a,Reals),domain = Naturals)\n",
    "natsInReals\n",
    "\n",
    "natsInComplexes = Forall(a,InSet(a,Complexes),domain = Naturals)\n",
    "natsInComplexes\n",
    "\n",
    "natsPosInNaturals = Forall(a,InSet(a,Naturals),domain = NaturalsPos)\n",
    "natsPosInNaturals\n",
    "\n",
    "natsPosInIntegers = Forall(a,InSet(a,Integers),domain = NaturalsPos)\n",
    "natsPosInIntegers\n",
    "\n",
    "natsPosInRealsPos = Forall(a,InSet(a,RealsPos),domain = NaturalsPos)\n",
    "natsPosInRealsPos\n",
    "\n",
    "natsPosInReals = Forall(a,InSet(a,Reals),domain = NaturalsPos)\n",
    "natsPosInReals\n",
    "\n",
    "natsPosInComplexes = Forall(a,InSet(a,Complexes),domain = NaturalsPos)\n",
    "natsPosInComplexes\n",
    "\n",
    "naturalsLowerBound = Forall(n, GreaterThanEquals(n, zero), domain=Naturals)\n",
    "naturalsLowerBound\n",
    "\n",
    "naturalsPosLowerBound = Forall(n, GreaterThanEquals(n, one), domain=NaturalsPos)\n",
    "naturalsPosLowerBound\n",
    "\n",
    "oneInNaturals = InSet(one,Naturals)\n",
    "oneInNaturals\n",
    "\n",
    "twoInNaturals = InSet(two,Naturals)\n",
    "twoInNaturals\n",
    "\n",
    "threeInNaturals = InSet(three,Naturals)\n",
    "threeInNaturals\n",
    "\n",
    "fourInNaturals = InSet(four,Naturals)\n",
    "fourInNaturals\n",
    "\n",
    "fiveInNaturals = InSet(five,Naturals)\n",
    "fiveInNaturals\n",
    "\n",
    "sixInNaturals = InSet(six,Naturals)\n",
    "sixInNaturals\n",
    "\n",
    "sevenInNaturals = InSet(seven,Naturals)\n",
    "sevenInNaturals\n",
    "\n",
    "eightInNaturals = InSet(eight,Naturals)\n",
    "eightInNaturals\n",
    "\n",
    "nineInNaturals = InSet(nine,Naturals)\n",
    "nineInNaturals\n",
    "\n",
    "oneNotZero = NotEquals(one, zero)\n",
    "oneNotZero\n",
    "\n",
    "twoNotZero = NotEquals(two, zero)\n",
    "twoNotZero\n",
    "\n",
    "threeNotZero = NotEquals(three, zero)\n",
    "threeNotZero\n",
    "\n",
    "fourNotZero = NotEquals(four, zero)\n",
    "fourNotZero\n",
    "\n",
    "fiveNotZero = NotEquals(five, zero)\n",
    "fiveNotZero\n",
    "\n",
    "sixNotZero = NotEquals(six, zero)\n",
    "sixNotZero\n",
    "\n",
    "sevenNotZero = NotEquals(seven, zero)\n",
    "sevenNotZero\n",
    "\n",
    "eightNotZero = NotEquals(eight, zero)\n",
    "eightNotZero\n",
    "\n",
    "nineNotZero = NotEquals(nine, zero)\n",
    "nineNotZero\n",
    "\n",
    "oneIsPositive = GreaterThan(one,zero)\n",
    "oneIsPositive\n",
    "\n",
    "twoIsPositive = GreaterThan(two,zero)\n",
    "twoIsPositive\n",
    "\n",
    "threeIsPositive = GreaterThan(three,zero)\n",
    "threeIsPositive\n",
    "\n",
    "fourIsPositive = GreaterThan(four,zero)\n",
    "fourIsPositive\n",
    "\n",
    "fiveIsPositive = GreaterThan(five,zero)\n",
    "fiveIsPositive\n",
    "\n",
    "sixIsPositive = GreaterThan(six,zero)\n",
    "sixIsPositive\n",
    "\n",
    "sevenIsPositive = GreaterThan(seven,zero)\n",
    "sevenIsPositive\n",
    "\n",
    "eightIsPositive = GreaterThan(eight,zero)\n",
    "eightIsPositive\n",
    "\n",
    "nineIsPositive = GreaterThan(nine,zero)\n",
    "nineIsPositive\n",
    "\n",
    "oneInNaturalsPos = InSet(one, NaturalsPos)\n",
    "oneInNaturalsPos\n",
    "\n",
    "twoInNaturalsPos = InSet(two, NaturalsPos)\n",
    "twoInNaturalsPos\n",
    "\n",
    "threeInNaturalsPos = InSet(three, NaturalsPos)\n",
    "threeInNaturalsPos\n",
    "\n",
    "fourInNaturalsPos = InSet(four, NaturalsPos)\n",
    "fourInNaturalsPos\n",
    "\n",
    "fiveInNaturalsPos = InSet(five, NaturalsPos)\n",
    "fiveInNaturalsPos\n",
    "\n",
    "sixInNaturalsPos = InSet(six, NaturalsPos)\n",
    "sixInNaturalsPos\n",
    "\n",
    "sevenInNaturalsPos = InSet(seven, NaturalsPos)\n",
    "sevenInNaturalsPos\n",
    "\n",
    "eightInNaturalsPos = InSet(eight, NaturalsPos)\n",
    "eightInNaturalsPos\n",
    "\n",
    "nineInNaturalsPos = InSet(nine, NaturalsPos)\n",
    "nineInNaturalsPos\n",
    "\n",
    "naturalsInduction = Forall(P, Implies(And(Operation(P, zero), \n",
    "                                          Forall(n, Implies(Operation(P, n), Operation(P, Add(n, one))),\n",
    "                                                 domain=Naturals)),\n",
    "                                      Forall(n, Operation(P, n), domain=Naturals)))\n",
    "naturalsInduction      \n",
    "\n",
    "naturalsPosInduction = Forall(P, Implies(And(Operation(P, one), \n",
    "                                             Forall(n, Implies(Operation(P, n), Operation(P, Add(n, one))),\n",
    "                                                    domain=NaturalsPos)),\n",
    "                                         Forall(n, Operation(P, n), domain=NaturalsPos)))\n",
    "naturalsPosInduction "
   ]
  },
  {
   "cell_type": "code",
   "execution_count": 3,
   "metadata": {
    "collapsed": false,
    "deletable": true,
    "editable": true
   },
   "outputs": [
    {
     "data": {
      "text/html": [
       "<strong id=\"natsPosInNats\"><a class=\"ProveItLink\" href=\"_proofs_\\natsPosInNats.ipynb\" target=\"_blank\">natsPosInNats</a>:</strong> <a href=\"__pv_it\\26763dbd7ef71941125b52e4887136bbb4eb6a1f0\\expr.ipynb\" target=\"_blank\"><img src=\"__pv_it\\26763dbd7ef71941125b52e4887136bbb4eb6a1f0\\expr.png\" style=\"display:inline;vertical-align:middle;\" /></a><br>"
      ],
      "text/plain": [
       "natsPosInNats: NaturalsPos subset Naturals"
      ]
     },
     "execution_count": 3,
     "metadata": {},
     "output_type": "execute_result"
    }
   ],
   "source": [
    "natsPosInNats = Subset(NaturalsPos, Naturals)"
   ]
  },
  {
   "cell_type": "code",
   "execution_count": 4,
   "metadata": {
    "collapsed": false,
    "deletable": true,
    "editable": true
   },
   "outputs": [
    {
     "data": {
      "text/html": [
       "<strong id=\"natsInInts\"><a class=\"ProveItLink\" href=\"_proofs_\\natsInInts.ipynb\" target=\"_blank\">natsInInts</a>:</strong> <a href=\"__pv_it\\ed621a142cd2f27915b2c557c687c5a4ad487e210\\expr.ipynb\" target=\"_blank\"><img src=\"__pv_it\\ed621a142cd2f27915b2c557c687c5a4ad487e210\\expr.png\" style=\"display:inline;vertical-align:middle;\" /></a><br>"
      ],
      "text/plain": [
       "natsInInts: Naturals subset Integers"
      ]
     },
     "execution_count": 4,
     "metadata": {},
     "output_type": "execute_result"
    }
   ],
   "source": [
    "natsInInts = Subset(Naturals, Integers)"
   ]
  },
  {
   "cell_type": "code",
   "execution_count": 5,
   "metadata": {
    "collapsed": false,
    "deletable": true,
    "editable": true
   },
   "outputs": [
    {
     "data": {
      "text/html": [
       "<strong id=\"natsPosInInts\"><a class=\"ProveItLink\" href=\"_proofs_\\natsPosInInts.ipynb\" target=\"_blank\">natsPosInInts</a>:</strong> <a href=\"__pv_it\\40ba2bb9d93b3dcedcf600d2224d382086a430020\\expr.ipynb\" target=\"_blank\"><img src=\"__pv_it\\40ba2bb9d93b3dcedcf600d2224d382086a430020\\expr.png\" style=\"display:inline;vertical-align:middle;\" /></a><br>"
      ],
      "text/plain": [
       "natsPosInInts: NaturalsPos subset Integers"
      ]
     },
     "execution_count": 5,
     "metadata": {},
     "output_type": "execute_result"
    }
   ],
   "source": [
    "natsPosInInts = Subset(NaturalsPos, Integers)"
   ]
  },
  {
   "cell_type": "code",
   "execution_count": 8,
   "metadata": {
    "collapsed": false,
    "deletable": true,
    "editable": true
   },
   "outputs": [
    {
     "name": "stdout",
     "output_type": "stream",
     "text": [
      "Adding theorem zeroInNats to proveit.number.sets.integer context\n",
      "Adding theorem successiveNats to proveit.number.sets.integer context\n",
      "Adding theorem inductionLemma to proveit.number.sets.integer context\n",
      "Adding theorem induction to proveit.number.sets.integer context\n",
      "Adding theorem list_len_0 to proveit.number.sets.integer context\n",
      "Adding theorem list_len_1 to proveit.number.sets.integer context\n",
      "Adding theorem list_len_2 to proveit.number.sets.integer context\n",
      "Adding theorem list_len_3 to proveit.number.sets.integer context\n",
      "Adding theorem list_len_4 to proveit.number.sets.integer context\n",
      "Adding theorem list_len_5 to proveit.number.sets.integer context\n",
      "Adding theorem list_len_6 to proveit.number.sets.integer context\n",
      "Adding theorem list_len_7 to proveit.number.sets.integer context\n",
      "Adding theorem list_len_8 to proveit.number.sets.integer context\n",
      "Adding theorem list_len_9 to proveit.number.sets.integer context\n",
      "list_len_3 expression notebook is being updated\n",
      "list_len_2 expression notebook is being updated\n",
      "list_len_1 expression notebook is being updated\n",
      "successiveNats expression notebook is being updated\n",
      "list_len_7 expression notebook is being updated\n",
      "list_len_6 expression notebook is being updated\n",
      "list_len_5 expression notebook is being updated\n",
      "list_len_4 expression notebook is being updated\n",
      "list_len_9 expression notebook is being updated\n",
      "list_len_8 expression notebook is being updated\n",
      "inductionLemma expression notebook is being updated\n",
      "list_len_0 expression notebook is being updated\n",
      "induction expression notebook is being updated\n",
      "zeroInNats expression notebook is being updated\n",
      "Theorems may be imported from autogenerated _theorems_.py\n"
     ]
    }
   ],
   "source": [
    "%end theorems"
   ]
  },
  {
   "cell_type": "code",
   "execution_count": 3,
   "metadata": {
    "collapsed": true,
    "deletable": true,
    "editable": true
   },
   "outputs": [],
   "source": []
  }
 ],
 "metadata": {
  "kernelspec": {
   "display_name": "Python 2",
   "language": "python",
   "name": "python2"
  },
  "language_info": {
   "codemirror_mode": {
    "name": "ipython",
    "version": 2
   },
   "file_extension": ".py",
   "mimetype": "text/x-python",
   "name": "python",
   "nbconvert_exporter": "python",
   "pygments_lexer": "ipython2",
   "version": "2.7.11"
  }
 },
 "nbformat": 4,
 "nbformat_minor": 0
}
