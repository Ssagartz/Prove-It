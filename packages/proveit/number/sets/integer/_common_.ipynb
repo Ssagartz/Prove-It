{
 "cells": [
  {
   "cell_type": "markdown",
   "metadata": {
    "collapsed": true,
    "deletable": true,
    "editable": true
   },
   "source": [
    "Common expressions for context <a href=\"_context_.ipynb\" class=\"ProveItLink\">proveit.number.sets.integer</a>\n",
    "========"
   ]
  },
  {
   "cell_type": "code",
   "execution_count": 1,
   "metadata": {
    "collapsed": false,
    "deletable": true,
    "editable": true
   },
   "outputs": [
    {
     "name": "stdout",
     "output_type": "stream",
     "text": [
      "Defining common sub-expressions for context 'proveit.number.sets.integer'\n",
      "Subsequent end-of-cell assignments will define common sub-expressions\n",
      "%end_common will finalize the definitions\n"
     ]
    }
   ],
   "source": [
    "from proveit import Literal\n",
    "from naturals import NaturalsSet, NaturalsPosSet\n",
    "from integers import IntegerSet\n",
    "from digit import DigitLiteral\n",
    "%begin common"
   ]
  },
  {
   "cell_type": "code",
   "execution_count": 2,
   "metadata": {
    "collapsed": false
   },
   "outputs": [
    {
     "data": {
      "text/html": [
       "<strong id=\"Naturals\">Naturals:</strong> <a href=\"__pv_it\\e49faebbc99fe18e26c0703cacc281d09a6648230\\expr.ipynb\" target=\"_blank\"><img src=\"__pv_it\\e49faebbc99fe18e26c0703cacc281d09a6648230\\expr.png\" style=\"display:inline;vertical-align:middle;\" /></a><br>\n",
       "<strong id=\"NaturalsPos\">NaturalsPos:</strong> <a href=\"__pv_it\\1b5a2f5df68e1e9142010a73afe8b057a397151f0\\expr.ipynb\" target=\"_blank\"><img src=\"__pv_it\\1b5a2f5df68e1e9142010a73afe8b057a397151f0\\expr.png\" style=\"display:inline;vertical-align:middle;\" /></a><br>\n",
       "<strong id=\"Integers\">Integers:</strong> <a href=\"__pv_it\\5ee7ecb2d777453fae5e713a6b193a3616a0ddf90\\expr.ipynb\" target=\"_blank\"><img src=\"__pv_it\\5ee7ecb2d777453fae5e713a6b193a3616a0ddf90\\expr.png\" style=\"display:inline;vertical-align:middle;\" /></a><br>"
      ],
      "text/plain": [
       "Naturals: Naturals\n",
       "NaturalsPos: NaturalsPos\n",
       "Integers: Integers"
      ]
     },
     "execution_count": 2,
     "metadata": {},
     "output_type": "execute_result"
    }
   ],
   "source": [
    "Naturals, NaturalsPos, Integers = NaturalsSet(), NaturalsPosSet(), IntegerSet()"
   ]
  },
  {
   "cell_type": "code",
   "execution_count": 3,
   "metadata": {
    "collapsed": false
   },
   "outputs": [
    {
     "data": {
      "text/html": [
       "<strong id=\"zero\">zero:</strong> <a href=\"__pv_it\\296fb5f23a86faafd014708016d403ee59e7d1c60\\expr.ipynb\" target=\"_blank\"><img src=\"__pv_it\\296fb5f23a86faafd014708016d403ee59e7d1c60\\expr.png\" style=\"display:inline;vertical-align:middle;\" /></a><br>\n",
       "<strong id=\"one\">one:</strong> <a href=\"__pv_it\\508e99e754b9bdab2a941e5a67e3fff7c2bc4ef20\\expr.ipynb\" target=\"_blank\"><img src=\"__pv_it\\508e99e754b9bdab2a941e5a67e3fff7c2bc4ef20\\expr.png\" style=\"display:inline;vertical-align:middle;\" /></a><br>\n",
       "<strong id=\"two\">two:</strong> <a href=\"__pv_it\\a0fd5c033b2b921c91ac1e233467caeb8032f8110\\expr.ipynb\" target=\"_blank\"><img src=\"__pv_it\\a0fd5c033b2b921c91ac1e233467caeb8032f8110\\expr.png\" style=\"display:inline;vertical-align:middle;\" /></a><br>\n",
       "<strong id=\"three\">three:</strong> <a href=\"__pv_it\\6d53fce69de6a7bdcd827058d121ebd0aba11f310\\expr.ipynb\" target=\"_blank\"><img src=\"__pv_it\\6d53fce69de6a7bdcd827058d121ebd0aba11f310\\expr.png\" style=\"display:inline;vertical-align:middle;\" /></a><br>\n",
       "<strong id=\"four\">four:</strong> <a href=\"__pv_it\\14170bd0c4f709947c3baa06747e5574e7eb2fc90\\expr.ipynb\" target=\"_blank\"><img src=\"__pv_it\\14170bd0c4f709947c3baa06747e5574e7eb2fc90\\expr.png\" style=\"display:inline;vertical-align:middle;\" /></a><br>\n",
       "<strong id=\"five\">five:</strong> <a href=\"__pv_it\\e5f94c3cd63da02b6495bd1bab0fb35fce947dca0\\expr.ipynb\" target=\"_blank\"><img src=\"__pv_it\\e5f94c3cd63da02b6495bd1bab0fb35fce947dca0\\expr.png\" style=\"display:inline;vertical-align:middle;\" /></a><br>\n",
       "<strong id=\"six\">six:</strong> <a href=\"__pv_it\\d6f02bfe65a8afa99c7bfef05ce8ce948a98872f0\\expr.ipynb\" target=\"_blank\"><img src=\"__pv_it\\d6f02bfe65a8afa99c7bfef05ce8ce948a98872f0\\expr.png\" style=\"display:inline;vertical-align:middle;\" /></a><br>\n",
       "<strong id=\"seven\">seven:</strong> <a href=\"__pv_it\\11b4ecc542f4e569911e5f4f6b9cf515ee9e72920\\expr.ipynb\" target=\"_blank\"><img src=\"__pv_it\\11b4ecc542f4e569911e5f4f6b9cf515ee9e72920\\expr.png\" style=\"display:inline;vertical-align:middle;\" /></a><br>\n",
       "<strong id=\"eight\">eight:</strong> <a href=\"__pv_it\\cb97b22f035d9c141d30f3e1ddbe16dabcbd99790\\expr.ipynb\" target=\"_blank\"><img src=\"__pv_it\\cb97b22f035d9c141d30f3e1ddbe16dabcbd99790\\expr.png\" style=\"display:inline;vertical-align:middle;\" /></a><br>\n",
       "<strong id=\"nine\">nine:</strong> <a href=\"__pv_it\\65989819e5f94efe53633977b836ee643a820d5b0\\expr.ipynb\" target=\"_blank\"><img src=\"__pv_it\\65989819e5f94efe53633977b836ee643a820d5b0\\expr.png\" style=\"display:inline;vertical-align:middle;\" /></a><br>"
      ],
      "text/plain": [
       "zero: 0\n",
       "one: 1\n",
       "two: 2\n",
       "three: 3\n",
       "four: 4\n",
       "five: 5\n",
       "six: 6\n",
       "seven: 7\n",
       "eight: 8\n",
       "nine: 9"
      ]
     },
     "execution_count": 3,
     "metadata": {},
     "output_type": "execute_result"
    }
   ],
   "source": [
    "zero, one, two, three, four, five, six, seven, eight, nine = [DigitLiteral(n) for n in range(10)]"
   ]
  },
  {
   "cell_type": "code",
   "execution_count": 4,
   "metadata": {
    "collapsed": false
   },
   "outputs": [
    {
     "data": {
      "text/html": [
       "<strong id=\"infinity\">infinity:</strong> <a href=\"__pv_it\\6cad76ba63c8ef0c8c46324bf493fc27588304f70\\expr.ipynb\" target=\"_blank\"><img src=\"__pv_it\\6cad76ba63c8ef0c8c46324bf493fc27588304f70\\expr.png\" style=\"display:inline;vertical-align:middle;\" /></a><br>"
      ],
      "text/plain": [
       "infinity: infinity"
      ]
     },
     "execution_count": 4,
     "metadata": {},
     "output_type": "execute_result"
    }
   ],
   "source": [
    "infinity = Literal('infinity',r'\\infty')"
   ]
  },
  {
   "cell_type": "code",
   "execution_count": 5,
   "metadata": {
    "collapsed": false
   },
   "outputs": [
    {
     "name": "stdout",
     "output_type": "stream",
     "text": [
      "Common expressions may be imported from autogenerated _common_.py\n"
     ]
    }
   ],
   "source": [
    "%end common"
   ]
  },
  {
   "cell_type": "code",
   "execution_count": 6,
   "metadata": {
    "collapsed": true
   },
   "outputs": [],
   "source": []
  }
 ],
 "metadata": {
  "kernelspec": {
   "display_name": "Python 2",
   "language": "python",
   "name": "python2"
  },
  "language_info": {
   "codemirror_mode": {
    "name": "ipython",
    "version": 2
   },
   "file_extension": ".py",
   "mimetype": "text/x-python",
   "name": "python",
   "nbconvert_exporter": "python",
   "pygments_lexer": "ipython2",
   "version": "2.7.11"
  }
 },
 "nbformat": 4,
 "nbformat_minor": 0
}
