{
 "cells": [
  {
   "cell_type": "markdown",
   "metadata": {
    "collapsed": true,
    "deletable": true,
    "editable": true
   },
   "source": [
    "Axioms for context <a href=\"_context_.ipynb\" class=\"ProveItLink\">proveit.number.sets.integer</a>\n",
    "========"
   ]
  },
  {
   "cell_type": "code",
   "execution_count": 1,
   "metadata": {
    "collapsed": false,
    "deletable": true,
    "editable": true
   },
   "outputs": [
    {
     "name": "stdout",
     "output_type": "stream",
     "text": [
      "Defining axioms for context 'proveit.number.sets.integer'\n",
      "Subsequent end-of-cell assignments will define axioms\n",
      "%end_axioms will finalize the definitions\n"
     ]
    }
   ],
   "source": [
    "from proveit.logic import Forall, InSet, Iff, Equals, Implies, And, SetOfAll, Union\n",
    "from proveit.number import Naturals, NaturalsPos, Neg, Integers, Complexes\n",
    "from proveit.number import Add, Greater\n",
    "from proveit.number import Len, zero, one, num\n",
    "from proveit._common_ import n, x, y, S\n",
    "%begin axioms"
   ]
  },
  {
   "cell_type": "markdown",
   "metadata": {
    "deletable": true,
    "editable": true
   },
   "source": [
    "**Define the set of naturals, $\\mathbb{N}$, as, essentially, the minimal set that contains zero and all of its successors:**"
   ]
  },
  {
   "cell_type": "code",
   "execution_count": 2,
   "metadata": {
    "collapsed": false,
    "deletable": true,
    "editable": true
   },
   "outputs": [
    {
     "data": {
      "text/html": [
       "<strong id=\"naturalsDef\">naturalsDef:</strong> <a class=\"ProveItLink\" href=\"__pv_it\\781f6bff2fde41f3e56ae7c5baf4194fb321077d0\\expr.ipynb\"><img src=\"__pv_it\\781f6bff2fde41f3e56ae7c5baf4194fb321077d0\\expr.png\" style=\"display:inline;vertical-align:middle;\" /></a><br>"
      ],
      "text/plain": [
       "naturalsDef: forall_{n} ((n in Naturals) = [forall_{S} (((0 in S) and [forall_{x in S} ((x + 1) in S)]) => (n in S))])"
      ]
     },
     "execution_count": 2,
     "metadata": {},
     "output_type": "execute_result"
    }
   ],
   "source": [
    "naturalsDef = Forall(n, Equals(InSet(n, Naturals), Forall(S, Implies(And(InSet(zero, S), Forall(x, InSet(Add(x,one), S), domain=S)), InSet(n, S)))))"
   ]
  },
  {
   "cell_type": "markdown",
   "metadata": {
    "deletable": true,
    "editable": true
   },
   "source": [
    "that is, $n \\in \\mathbb{Z}$ iff n is in all sets that contain zero and all successors."
   ]
  },
  {
   "cell_type": "markdown",
   "metadata": {
    "deletable": true,
    "editable": true
   },
   "source": [
    "**Define the set of postiive naturals, $\\mathbb{N}^{+}$, as the set of naturals that are greater than zero:**"
   ]
  },
  {
   "cell_type": "code",
   "execution_count": 3,
   "metadata": {
    "collapsed": false,
    "deletable": true,
    "editable": true
   },
   "outputs": [
    {
     "data": {
      "text/html": [
       "<strong id=\"naturalsPosDef\">naturalsPosDef:</strong> <a class=\"ProveItLink\" href=\"__pv_it\\dfb9d181e5de7d301d8b8f76214c46f6382b5b270\\expr.ipynb\"><img src=\"__pv_it\\dfb9d181e5de7d301d8b8f76214c46f6382b5b270\\expr.png\" style=\"display:inline;vertical-align:middle;\" /></a><br>"
      ],
      "text/plain": [
       "naturalsPosDef: {n s.t. n > 0}_{n in Naturals}"
      ]
     },
     "execution_count": 3,
     "metadata": {},
     "output_type": "execute_result"
    }
   ],
   "source": [
    "naturalsPosDef = SetOfAll(n, n, conditions=[Greater(n, zero)], domain=Naturals)"
   ]
  },
  {
   "cell_type": "markdown",
   "metadata": {
    "deletable": true,
    "editable": true
   },
   "source": [
    "**Define the integers, $\\mathbb{Z}$ as the union of the naturals and the negated positive naturals (i.e., the positive and negative forms of all natural numbers where zero is its own negative):**"
   ]
  },
  {
   "cell_type": "code",
   "execution_count": 4,
   "metadata": {
    "collapsed": false,
    "deletable": true,
    "editable": true
   },
   "outputs": [
    {
     "data": {
      "text/html": [
       "<strong id=\"integersDef\">integersDef:</strong> <a class=\"ProveItLink\" href=\"__pv_it\\4f931cd6659018358835fd362ce7117fed32d9eb0\\expr.ipynb\"><img src=\"__pv_it\\4f931cd6659018358835fd362ce7117fed32d9eb0\\expr.png\" style=\"display:inline;vertical-align:middle;\" /></a><br>"
      ],
      "text/plain": [
       "integersDef: Integers = (Naturals union {-n}_{n in NaturalsPos})"
      ]
     },
     "execution_count": 4,
     "metadata": {},
     "output_type": "execute_result"
    }
   ],
   "source": [
    "integersDef = Equals(Integers, Union(Naturals, SetOfAll(n, Neg(n), domain=NaturalsPos)))"
   ]
  },
  {
   "cell_type": "markdown",
   "metadata": {
    "deletable": true,
    "editable": true
   },
   "source": [
    "**Defining properties of individual natural numbers:**"
   ]
  },
  {
   "cell_type": "code",
   "execution_count": 5,
   "metadata": {
    "collapsed": false,
    "deletable": true,
    "editable": true
   },
   "outputs": [
    {
     "data": {
      "text/html": [
       "<strong id=\"addByZero\">addByZero:</strong> <a class=\"ProveItLink\" href=\"__pv_it\\00414ca2567b05fe53d055f3eb46567b6c80e6430\\expr.ipynb\"><img src=\"__pv_it\\00414ca2567b05fe53d055f3eb46567b6c80e6430\\expr.png\" style=\"display:inline;vertical-align:middle;\" /></a><br>"
      ],
      "text/plain": [
       "addByZero: forall_{x in Complexes} ((x + 0) = x)"
      ]
     },
     "execution_count": 5,
     "metadata": {},
     "output_type": "execute_result"
    }
   ],
   "source": [
    "addByZero = Forall(x, Equals(Add(x, zero), x), domain=Complexes)"
   ]
  },
  {
   "cell_type": "code",
   "execution_count": null,
   "metadata": {
    "collapsed": true,
    "deletable": true,
    "editable": true
   },
   "outputs": [],
   "source": []
  },
  {
   "cell_type": "markdown",
   "metadata": {
    "deletable": true,
    "editable": true
   },
   "source": [
    "** Define the length of an ExpressionList inductively:**"
   ]
  },
  {
   "cell_type": "code",
   "execution_count": 5,
   "metadata": {
    "collapsed": false,
    "deletable": true,
    "editable": true
   },
   "outputs": [
    {
     "data": {
      "text/html": [
       "<strong id=\"listLenDef\">listLenDef:</strong> <a class=\"ProveItLink\" href=\"__pv_it\\e6b6b39c6f925ece2f568b6b2f619b02aa06e9590\\expr.ipynb\"><img src=\"__pv_it\\e6b6b39c6f925ece2f568b6b2f619b02aa06e9590\\expr.png\" style=\"display:inline;vertical-align:middle;\" /></a><br>"
      ],
      "text/plain": [
       "listLenDef: (|()| = 0) and [forall_{x_{*}, y} (|( ..,x_{*},.. ,y)| = (|( ..,x_{*},.. )| + 1))]"
      ]
     },
     "execution_count": 5,
     "metadata": {},
     "output_type": "execute_result"
    }
   ],
   "source": [
    "listLenDef = And(Equals(Len(), zero), Forall((xMulti, y), Equals(Len(xEtc, y), Add(Len(xEtc), one))))"
   ]
  },
  {
   "cell_type": "code",
   "execution_count": null,
   "metadata": {
    "collapsed": true,
    "deletable": true,
    "editable": true
   },
   "outputs": [],
   "source": []
  },
  {
   "cell_type": "code",
   "execution_count": 14,
   "metadata": {
    "collapsed": false,
    "deletable": true,
    "editable": true
   },
   "outputs": [
    {
     "name": "stdout",
     "output_type": "stream",
     "text": [
      "Modifying axiom naturalsDef in proveit.number.sets.integer context\n",
      "Modifying axiom naturalsPosDef in proveit.number.sets.integer context\n",
      "Modifying axiom integersDef in proveit.number.sets.integer context\n",
      "Adding axiom addByZero to proveit.number.sets.integer context\n",
      "Adding axiom twoDef to proveit.number.sets.integer context\n",
      "Adding axiom threeDef to proveit.number.sets.integer context\n",
      "Adding axiom fourDef to proveit.number.sets.integer context\n",
      "Adding axiom fiveDef to proveit.number.sets.integer context\n",
      "Adding axiom sixDef to proveit.number.sets.integer context\n",
      "Adding axiom sevenDef to proveit.number.sets.integer context\n",
      "Adding axiom eightDef to proveit.number.sets.integer context\n",
      "Adding axiom nineDef to proveit.number.sets.integer context\n",
      "Removing axiom listLenDef from proveit.number.sets.integer context\n",
      "integersDef expression notebook is being updated\n",
      "fourDef expression notebook is being updated\n",
      "naturalsPosDef expression notebook is being updated\n",
      "nineDef expression notebook is being updated\n",
      "fiveDef expression notebook is being updated\n",
      "sevenDef expression notebook is being updated\n",
      "twoDef expression notebook is being updated\n",
      "eightDef expression notebook is being updated\n",
      "threeDef expression notebook is being updated\n",
      "sixDef expression notebook is being updated\n",
      "naturalsDef expression notebook is being updated\n",
      "addByZero expression notebook is being updated\n",
      "Axioms may be imported from autogenerated _axioms_.py\n"
     ]
    }
   ],
   "source": [
    "%end axioms"
   ]
  },
  {
   "cell_type": "code",
   "execution_count": null,
   "metadata": {
    "collapsed": true,
    "deletable": true,
    "editable": true
   },
   "outputs": [],
   "source": []
  }
 ],
 "metadata": {
  "kernelspec": {
   "display_name": "Python 2",
   "language": "python",
   "name": "python2"
  },
  "language_info": {
   "codemirror_mode": {
    "name": "ipython",
    "version": 2
   },
   "file_extension": ".py",
   "mimetype": "text/x-python",
   "name": "python",
   "nbconvert_exporter": "python",
   "pygments_lexer": "ipython2",
   "version": "2.7.11"
  }
 },
 "nbformat": 4,
 "nbformat_minor": 0
}
