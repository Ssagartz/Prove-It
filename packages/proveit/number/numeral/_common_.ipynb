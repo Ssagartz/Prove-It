{
 "cells": [
  {
   "cell_type": "markdown",
   "metadata": {
    "collapsed": true,
    "deletable": true,
    "editable": true
   },
   "source": [
    "Common expressions for context <a class=\"ProveItLink\" href=\"_context_.ipynb\">proveit.number.numeral</a>\n",
    "========"
   ]
  },
  {
   "cell_type": "code",
   "execution_count": 1,
   "metadata": {
    "collapsed": false,
    "deletable": true,
    "editable": true
   },
   "outputs": [],
   "source": [
    "import proveit\n",
    "from numeral import Numeral\n",
    "# the context is in the current directory:\n",
    "context = proveit.Context('.') # adds context root to sys.path if necessary"
   ]
  },
  {
   "cell_type": "code",
   "execution_count": 2,
   "metadata": {
    "collapsed": false,
    "deletable": true,
    "editable": true
   },
   "outputs": [
    {
     "name": "stdout",
     "output_type": "stream",
     "text": [
      "Defining common sub-expressions for context 'proveit.number.numeral'\n",
      "Subsequent end-of-cell assignments will define common sub-expressions\n",
      "%end_common will finalize the definitions\n"
     ]
    }
   ],
   "source": [
    "%begin common"
   ]
  },
  {
   "cell_type": "code",
   "execution_count": 3,
   "metadata": {
    "collapsed": false,
    "deletable": true,
    "editable": true
   },
   "outputs": [
    {
     "name": "stdout",
     "output_type": "stream",
     "text": [
      "unofficialNameKindContext ('zero', u'common', <proveit._core_.context.Context instance at 0x0000000008A606C8>)\n",
      "unofficialNameKindContext ('one', u'common', <proveit._core_.context.Context instance at 0x0000000008A606C8>)\n",
      "unofficialNameKindContext ('two', u'common', <proveit._core_.context.Context instance at 0x0000000008A606C8>)\n",
      "unofficialNameKindContext ('three', u'common', <proveit._core_.context.Context instance at 0x0000000008A606C8>)\n",
      "unofficialNameKindContext ('four', u'common', <proveit._core_.context.Context instance at 0x0000000008A606C8>)\n",
      "unofficialNameKindContext ('seven', u'common', <proveit._core_.context.Context instance at 0x0000000008A606C8>)\n",
      "unofficialNameKindContext ('eight', u'common', <proveit._core_.context.Context instance at 0x0000000008A606C8>)\n",
      "unofficialNameKindContext ('nine', u'common', <proveit._core_.context.Context instance at 0x0000000008A606C8>)\n"
     ]
    },
    {
     "data": {
      "text/html": [
       "<strong id=\"zero\">zero:</strong> <a class=\"ProveItLink\" href=\"__pv_it\\4327576af9794aaea6074c958945ad449e58b27b0\\expr.ipynb\"><img src=\"__pv_it\\4327576af9794aaea6074c958945ad449e58b27b0\\expr.png\" style=\"display:inline;vertical-align:middle;\" /></a><br>\n",
       "<strong id=\"one\">one:</strong> <a class=\"ProveItLink\" href=\"__pv_it\\ef194db33616f0d8d96337069322c2e0f5dd46280\\expr.ipynb\"><img src=\"__pv_it\\ef194db33616f0d8d96337069322c2e0f5dd46280\\expr.png\" style=\"display:inline;vertical-align:middle;\" /></a><br>\n",
       "<strong id=\"two\">two:</strong> <a class=\"ProveItLink\" href=\"__pv_it\\d2f0ebb6f8f80f864bfb026f4634bfae85e3ce2f0\\expr.ipynb\"><img src=\"__pv_it\\d2f0ebb6f8f80f864bfb026f4634bfae85e3ce2f0\\expr.png\" style=\"display:inline;vertical-align:middle;\" /></a><br>\n",
       "<strong id=\"three\">three:</strong> <a class=\"ProveItLink\" href=\"__pv_it\\75920df27c4ccd960df9e11a51c7466b8d1dbe120\\expr.ipynb\"><img src=\"__pv_it\\75920df27c4ccd960df9e11a51c7466b8d1dbe120\\expr.png\" style=\"display:inline;vertical-align:middle;\" /></a><br>\n",
       "<strong id=\"four\">four:</strong> <a class=\"ProveItLink\" href=\"__pv_it\\93f89a537f4a3c2c1d076fe621002b96c9d03e340\\expr.ipynb\"><img src=\"__pv_it\\93f89a537f4a3c2c1d076fe621002b96c9d03e340\\expr.png\" style=\"display:inline;vertical-align:middle;\" /></a><br>\n",
       "<strong id=\"five\">five:</strong> <a class=\"ProveItLink\" href=\"__pv_it\\5c38954b1081eefe2db344fa83966caab871df990\\expr.ipynb\"><img src=\"__pv_it\\5c38954b1081eefe2db344fa83966caab871df990\\expr.png\" style=\"display:inline;vertical-align:middle;\" /></a><br>\n",
       "<strong id=\"six\">six:</strong> <a class=\"ProveItLink\" href=\"__pv_it\\d12a34dded74ffbae18acf21ee835f16d37467eb0\\expr.ipynb\"><img src=\"__pv_it\\d12a34dded74ffbae18acf21ee835f16d37467eb0\\expr.png\" style=\"display:inline;vertical-align:middle;\" /></a><br>\n",
       "<strong id=\"seven\">seven:</strong> <a class=\"ProveItLink\" href=\"__pv_it\\aa3b34ce2bf9e19fed6e8bd39ce9803038682a8e0\\expr.ipynb\"><img src=\"__pv_it\\aa3b34ce2bf9e19fed6e8bd39ce9803038682a8e0\\expr.png\" style=\"display:inline;vertical-align:middle;\" /></a><br>\n",
       "<strong id=\"eight\">eight:</strong> <a class=\"ProveItLink\" href=\"__pv_it\\edb1681832a0e9e9752a8a945e08ef0a9be22edd0\\expr.ipynb\"><img src=\"__pv_it\\edb1681832a0e9e9752a8a945e08ef0a9be22edd0\\expr.png\" style=\"display:inline;vertical-align:middle;\" /></a><br>\n",
       "<strong id=\"nine\">nine:</strong> <a class=\"ProveItLink\" href=\"__pv_it\\ceabcc1b8094c204e8d397a858683ef0a471ac800\\expr.ipynb\"><img src=\"__pv_it\\ceabcc1b8094c204e8d397a858683ef0a471ac800\\expr.png\" style=\"display:inline;vertical-align:middle;\" /></a><br>"
      ],
      "text/plain": [
       "zero: 0\n",
       "one: 1\n",
       "two: 2\n",
       "three: 3\n",
       "four: 4\n",
       "five: 5\n",
       "six: 6\n",
       "seven: 7\n",
       "eight: 8\n",
       "nine: 9"
      ]
     },
     "execution_count": 3,
     "metadata": {},
     "output_type": "execute_result"
    }
   ],
   "source": [
    "zero, one, two, three, four, five, six, seven, eight, nine = [Numeral(n) for n in range(10)]"
   ]
  },
  {
   "cell_type": "code",
   "execution_count": 4,
   "metadata": {
    "collapsed": false,
    "deletable": true,
    "editable": true
   },
   "outputs": [
    {
     "name": "stdout",
     "output_type": "stream",
     "text": [
      "unofficialNameKindContext ('hexb', u'common', <proveit._core_.context.Context instance at 0x0000000008A606C8>)\n",
      "unofficialNameKindContext ('hexc', u'common', <proveit._core_.context.Context instance at 0x0000000008A606C8>)\n",
      "unofficialNameKindContext ('hexd', u'common', <proveit._core_.context.Context instance at 0x0000000008A606C8>)\n",
      "unofficialNameKindContext ('hexf', u'common', <proveit._core_.context.Context instance at 0x0000000008A606C8>)\n"
     ]
    },
    {
     "data": {
      "text/html": [
       "<strong id=\"hexa\">hexa:</strong> <a class=\"ProveItLink\" href=\"__pv_it\\9603ddaedf9df03f9d247be4972d67d1c79cef4b0\\expr.ipynb\"><img src=\"__pv_it\\9603ddaedf9df03f9d247be4972d67d1c79cef4b0\\expr.png\" style=\"display:inline;vertical-align:middle;\" /></a><br>\n",
       "<strong id=\"hexb\">hexb:</strong> <a class=\"ProveItLink\" href=\"__pv_it\\2b345688a6dcb492c42317f4936111bcdc25ebda0\\expr.ipynb\"><img src=\"__pv_it\\2b345688a6dcb492c42317f4936111bcdc25ebda0\\expr.png\" style=\"display:inline;vertical-align:middle;\" /></a><br>\n",
       "<strong id=\"hexc\">hexc:</strong> <a class=\"ProveItLink\" href=\"__pv_it\\ce73dc37f31967c210afec4b204eef89901c41d20\\expr.ipynb\"><img src=\"__pv_it\\ce73dc37f31967c210afec4b204eef89901c41d20\\expr.png\" style=\"display:inline;vertical-align:middle;\" /></a><br>\n",
       "<strong id=\"hexd\">hexd:</strong> <a class=\"ProveItLink\" href=\"__pv_it\\37f8b8ef827a79d0fae3adb216b1e3cad20794940\\expr.ipynb\"><img src=\"__pv_it\\37f8b8ef827a79d0fae3adb216b1e3cad20794940\\expr.png\" style=\"display:inline;vertical-align:middle;\" /></a><br>\n",
       "<strong id=\"hexe\">hexe:</strong> <a class=\"ProveItLink\" href=\"__pv_it\\868bd97818d3b37f40a99851b30a8ff593eda6fd0\\expr.ipynb\"><img src=\"__pv_it\\868bd97818d3b37f40a99851b30a8ff593eda6fd0\\expr.png\" style=\"display:inline;vertical-align:middle;\" /></a><br>\n",
       "<strong id=\"hexf\">hexf:</strong> <a class=\"ProveItLink\" href=\"__pv_it\\4f7b5415af724cf4d0533e2d8d4e53e4bd3f15500\\expr.ipynb\"><img src=\"__pv_it\\4f7b5415af724cf4d0533e2d8d4e53e4bd3f15500\\expr.png\" style=\"display:inline;vertical-align:middle;\" /></a><br>"
      ],
      "text/plain": [
       "hexa: a\n",
       "hexb: b\n",
       "hexc: c\n",
       "hexd: d\n",
       "hexe: e\n",
       "hexf: f"
      ]
     },
     "execution_count": 4,
     "metadata": {},
     "output_type": "execute_result"
    }
   ],
   "source": [
    "hexa, hexb, hexc, hexd, hexe, hexf = [Numeral(10+n, chr(ord('a') + n)) for n in range(6)]"
   ]
  },
  {
   "cell_type": "code",
   "execution_count": 5,
   "metadata": {
    "collapsed": false,
    "deletable": true,
    "editable": true
   },
   "outputs": [
    {
     "name": "stdout",
     "output_type": "stream",
     "text": [
      "hexf expression notebook is being updated\n",
      "unofficialNameKindContext None\n",
      "seven expression notebook is being updated\n",
      "unofficialNameKindContext None\n",
      "hexb expression notebook is being updated\n",
      "unofficialNameKindContext None\n",
      "hexd expression notebook is being updated\n",
      "unofficialNameKindContext None\n",
      "hexa expression notebook is being updated\n",
      "unofficialNameKindContext None\n",
      "nine expression notebook is being updated\n",
      "unofficialNameKindContext None\n",
      "hexc expression notebook is being updated\n",
      "unofficialNameKindContext None\n",
      "six expression notebook is being updated\n",
      "unofficialNameKindContext None\n",
      "hexe expression notebook is being updated\n",
      "unofficialNameKindContext None\n",
      "three expression notebook is being updated\n",
      "unofficialNameKindContext None\n",
      "two expression notebook is being updated\n",
      "unofficialNameKindContext None\n",
      "four expression notebook is being updated\n",
      "unofficialNameKindContext None\n",
      "zero expression notebook is being updated\n",
      "unofficialNameKindContext None\n",
      "five expression notebook is being updated\n",
      "unofficialNameKindContext None\n",
      "eight expression notebook is being updated\n",
      "unofficialNameKindContext None\n",
      "one expression notebook is being updated\n",
      "unofficialNameKindContext None\n",
      "Common expressions may be imported from autogenerated _common_.py\n"
     ]
    }
   ],
   "source": [
    "%end common"
   ]
  },
  {
   "cell_type": "code",
   "execution_count": null,
   "metadata": {
    "collapsed": true
   },
   "outputs": [],
   "source": []
  }
 ],
 "metadata": {
  "kernelspec": {
   "display_name": "Python 2",
   "language": "python",
   "name": "python2"
  },
  "language_info": {
   "codemirror_mode": {
    "name": "ipython",
    "version": 2
   },
   "file_extension": ".py",
   "mimetype": "text/x-python",
   "name": "python",
   "nbconvert_exporter": "python",
   "pygments_lexer": "ipython2",
   "version": "2.7.11"
  }
 },
 "nbformat": 4,
 "nbformat_minor": 0
}
