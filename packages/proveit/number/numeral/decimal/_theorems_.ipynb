{
 "cells": [
  {
   "cell_type": "markdown",
   "metadata": {
    "collapsed": true,
    "deletable": true,
    "editable": true
   },
   "source": [
    "Theorems for context <a class=\"ProveItLink\" href=\"_context_.ipynb\">proveit.number.numeral.decimal</a>\n",
    "========"
   ]
  },
  {
   "cell_type": "code",
   "execution_count": 1,
   "metadata": {
    "collapsed": false,
    "deletable": true,
    "editable": true
   },
   "outputs": [],
   "source": [
    "import proveit\n",
    "from proveit.logic import Forall, Equals, InSet\n",
    "from proveit.number import num, Add, Less, LesserSequence, NaturalsPos, Len\n",
    "from proveit._common_ import a,b,c,d,e,f,g,h,i\n",
    "# the context is in the current directory:\n",
    "context = proveit.Context('.') # adds context root to sys.path if necessary"
   ]
  },
  {
   "cell_type": "code",
   "execution_count": 2,
   "metadata": {
    "collapsed": false,
    "deletable": true,
    "editable": true
   },
   "outputs": [
    {
     "name": "stdout",
     "output_type": "stream",
     "text": [
      "Defining theorems for context 'proveit.number.numeral.decimal'\n",
      "Subsequent end-of-cell assignments will define theorems\n",
      "'%end theorems' will finalize the definitions\n"
     ]
    }
   ],
   "source": [
    "%begin theorems"
   ]
  },
  {
   "cell_type": "markdown",
   "metadata": {
    "deletable": true,
    "editable": true
   },
   "source": [
    "### Number sets containing the digits (beyond 0):"
   ]
  },
  {
   "cell_type": "code",
   "execution_count": 3,
   "metadata": {
    "collapsed": false,
    "deletable": true,
    "editable": true
   },
   "outputs": [
    {
     "data": {
      "text/html": [
       "<strong id=\"nats_pos_1\"><a class=\"ProveItLink\" href=\"_proofs_\\nats_pos_1.ipynb\">nats_pos_1</a>:</strong> <a class=\"ProveItLink\" href=\"__pv_it\\e669116fb0f5086cf1f0b1aa4d7b70ae1d961ea40\\expr.ipynb\"><img src=\"__pv_it\\e669116fb0f5086cf1f0b1aa4d7b70ae1d961ea40\\expr.png\" style=\"display:inline;vertical-align:middle;\" /></a><br>\n",
       "<strong id=\"nats_pos_2\"><a class=\"ProveItLink\" href=\"_proofs_\\nats_pos_2.ipynb\">nats_pos_2</a>:</strong> <a class=\"ProveItLink\" href=\"__pv_it\\f756e867d4776d98aaa65961a2694bfce519f3cb0\\expr.ipynb\"><img src=\"__pv_it\\f756e867d4776d98aaa65961a2694bfce519f3cb0\\expr.png\" style=\"display:inline;vertical-align:middle;\" /></a><br>\n",
       "<strong id=\"nats_pos_3\"><a class=\"ProveItLink\" href=\"_proofs_\\nats_pos_3.ipynb\">nats_pos_3</a>:</strong> <a class=\"ProveItLink\" href=\"__pv_it\\ca59222bbac5907335f156b9451f2f0d63fda9270\\expr.ipynb\"><img src=\"__pv_it\\ca59222bbac5907335f156b9451f2f0d63fda9270\\expr.png\" style=\"display:inline;vertical-align:middle;\" /></a><br>\n",
       "<strong id=\"nats_pos_4\"><a class=\"ProveItLink\" href=\"_proofs_\\nats_pos_4.ipynb\">nats_pos_4</a>:</strong> <a class=\"ProveItLink\" href=\"__pv_it\\6c32934bc5b7a43132962d9a0e0adc5c350c85b50\\expr.ipynb\"><img src=\"__pv_it\\6c32934bc5b7a43132962d9a0e0adc5c350c85b50\\expr.png\" style=\"display:inline;vertical-align:middle;\" /></a><br>\n",
       "<strong id=\"nats_pos_5\"><a class=\"ProveItLink\" href=\"_proofs_\\nats_pos_5.ipynb\">nats_pos_5</a>:</strong> <a class=\"ProveItLink\" href=\"__pv_it\\262adb79043bdbf3ab66bc5363fa334d7c36745c0\\expr.ipynb\"><img src=\"__pv_it\\262adb79043bdbf3ab66bc5363fa334d7c36745c0\\expr.png\" style=\"display:inline;vertical-align:middle;\" /></a><br>\n",
       "<strong id=\"nats_pos_6\"><a class=\"ProveItLink\" href=\"_proofs_\\nats_pos_6.ipynb\">nats_pos_6</a>:</strong> <a class=\"ProveItLink\" href=\"__pv_it\\17555733aa5448cc0d0be283d2938ef4da1a40e80\\expr.ipynb\"><img src=\"__pv_it\\17555733aa5448cc0d0be283d2938ef4da1a40e80\\expr.png\" style=\"display:inline;vertical-align:middle;\" /></a><br>\n",
       "<strong id=\"nats_pos_7\"><a class=\"ProveItLink\" href=\"_proofs_\\nats_pos_7.ipynb\">nats_pos_7</a>:</strong> <a class=\"ProveItLink\" href=\"__pv_it\\6c783e292063d26fe7ffffc332c1480cc63157610\\expr.ipynb\"><img src=\"__pv_it\\6c783e292063d26fe7ffffc332c1480cc63157610\\expr.png\" style=\"display:inline;vertical-align:middle;\" /></a><br>\n",
       "<strong id=\"nats_pos_8\"><a class=\"ProveItLink\" href=\"_proofs_\\nats_pos_8.ipynb\">nats_pos_8</a>:</strong> <a class=\"ProveItLink\" href=\"__pv_it\\32039600fce5f0e45e409dce8f4b302b8706c09e0\\expr.ipynb\"><img src=\"__pv_it\\32039600fce5f0e45e409dce8f4b302b8706c09e0\\expr.png\" style=\"display:inline;vertical-align:middle;\" /></a><br>\n",
       "<strong id=\"nats_pos_9\"><a class=\"ProveItLink\" href=\"_proofs_\\nats_pos_9.ipynb\">nats_pos_9</a>:</strong> <a class=\"ProveItLink\" href=\"__pv_it\\33f1e8b0e6b4e4fde3a93f205e5c60d241fb07850\\expr.ipynb\"><img src=\"__pv_it\\33f1e8b0e6b4e4fde3a93f205e5c60d241fb07850\\expr.png\" style=\"display:inline;vertical-align:middle;\" /></a><br>"
      ],
      "text/plain": [
       "nats_pos_1: 1 in NaturalsPos\n",
       "nats_pos_2: 2 in NaturalsPos\n",
       "nats_pos_3: 3 in NaturalsPos\n",
       "nats_pos_4: 4 in NaturalsPos\n",
       "nats_pos_5: 5 in NaturalsPos\n",
       "nats_pos_6: 6 in NaturalsPos\n",
       "nats_pos_7: 7 in NaturalsPos\n",
       "nats_pos_8: 8 in NaturalsPos\n",
       "nats_pos_9: 9 in NaturalsPos"
      ]
     },
     "execution_count": 3,
     "metadata": {},
     "output_type": "execute_result"
    }
   ],
   "source": [
    "nats_pos_1, nats_pos_2, nats_pos_3, nats_pos_4, nats_pos_5, nats_pos_6, nats_pos_7, nats_pos_8, nats_pos_9 = [InSet(num(n), NaturalsPos) for n in xrange(1, 10)]"
   ]
  },
  {
   "cell_type": "markdown",
   "metadata": {
    "deletable": true,
    "editable": true
   },
   "source": [
    "### Sorted order of the digits"
   ]
  },
  {
   "cell_type": "code",
   "execution_count": 4,
   "metadata": {
    "collapsed": false,
    "deletable": true,
    "editable": true
   },
   "outputs": [
    {
     "data": {
      "text/html": [
       "<strong id=\"less_0_1\"><a class=\"ProveItLink\" href=\"_proofs_\\less_0_1.ipynb\">less_0_1</a>:</strong> <a class=\"ProveItLink\" href=\"__pv_it\\e61f77ed0d1c30cc106fe99fde247e5ec585563c0\\expr.ipynb\"><img src=\"__pv_it\\e61f77ed0d1c30cc106fe99fde247e5ec585563c0\\expr.png\" style=\"display:inline;vertical-align:middle;\" /></a><br>\n",
       "<strong id=\"less_1_2\"><a class=\"ProveItLink\" href=\"_proofs_\\less_1_2.ipynb\">less_1_2</a>:</strong> <a class=\"ProveItLink\" href=\"__pv_it\\d061cb0628e074acde89964f5b6fcd58443be5cc0\\expr.ipynb\"><img src=\"__pv_it\\d061cb0628e074acde89964f5b6fcd58443be5cc0\\expr.png\" style=\"display:inline;vertical-align:middle;\" /></a><br>\n",
       "<strong id=\"less_2_3\"><a class=\"ProveItLink\" href=\"_proofs_\\less_2_3.ipynb\">less_2_3</a>:</strong> <a class=\"ProveItLink\" href=\"__pv_it\\ada949820df50294bf0eea60c3885b4e8e7283050\\expr.ipynb\"><img src=\"__pv_it\\ada949820df50294bf0eea60c3885b4e8e7283050\\expr.png\" style=\"display:inline;vertical-align:middle;\" /></a><br>\n",
       "<strong id=\"less_3_4\"><a class=\"ProveItLink\" href=\"_proofs_\\less_3_4.ipynb\">less_3_4</a>:</strong> <a class=\"ProveItLink\" href=\"__pv_it\\562cf730bac16aa36b8117e586c62bb0b41ebd8f0\\expr.ipynb\"><img src=\"__pv_it\\562cf730bac16aa36b8117e586c62bb0b41ebd8f0\\expr.png\" style=\"display:inline;vertical-align:middle;\" /></a><br>\n",
       "<strong id=\"less_4_5\"><a class=\"ProveItLink\" href=\"_proofs_\\less_4_5.ipynb\">less_4_5</a>:</strong> <a class=\"ProveItLink\" href=\"__pv_it\\d7ec23e35827ac5decbe9f47aa637590ad0d91350\\expr.ipynb\"><img src=\"__pv_it\\d7ec23e35827ac5decbe9f47aa637590ad0d91350\\expr.png\" style=\"display:inline;vertical-align:middle;\" /></a><br>\n",
       "<strong id=\"less_5_6\"><a class=\"ProveItLink\" href=\"_proofs_\\less_5_6.ipynb\">less_5_6</a>:</strong> <a class=\"ProveItLink\" href=\"__pv_it\\8e6f7c1a9f8dfac1af2a9cabc8d430662713de740\\expr.ipynb\"><img src=\"__pv_it\\8e6f7c1a9f8dfac1af2a9cabc8d430662713de740\\expr.png\" style=\"display:inline;vertical-align:middle;\" /></a><br>\n",
       "<strong id=\"less_6_7\"><a class=\"ProveItLink\" href=\"_proofs_\\less_6_7.ipynb\">less_6_7</a>:</strong> <a class=\"ProveItLink\" href=\"__pv_it\\6b12297339231623079589d0af4f4c6b2ca75b1f0\\expr.ipynb\"><img src=\"__pv_it\\6b12297339231623079589d0af4f4c6b2ca75b1f0\\expr.png\" style=\"display:inline;vertical-align:middle;\" /></a><br>\n",
       "<strong id=\"less_7_8\"><a class=\"ProveItLink\" href=\"_proofs_\\less_7_8.ipynb\">less_7_8</a>:</strong> <a class=\"ProveItLink\" href=\"__pv_it\\87893175637e90e69d1697e37f10a3008c1e6cc10\\expr.ipynb\"><img src=\"__pv_it\\87893175637e90e69d1697e37f10a3008c1e6cc10\\expr.png\" style=\"display:inline;vertical-align:middle;\" /></a><br>\n",
       "<strong id=\"less_8_9\"><a class=\"ProveItLink\" href=\"_proofs_\\less_8_9.ipynb\">less_8_9</a>:</strong> <a class=\"ProveItLink\" href=\"__pv_it\\137f83dff1f66dac3df9cb7d9a96ed7a712398bf0\\expr.ipynb\"><img src=\"__pv_it\\137f83dff1f66dac3df9cb7d9a96ed7a712398bf0\\expr.png\" style=\"display:inline;vertical-align:middle;\" /></a><br>"
      ],
      "text/plain": [
       "less_0_1: 0 < 1\n",
       "less_1_2: 1 < 2\n",
       "less_2_3: 2 < 3\n",
       "less_3_4: 3 < 4\n",
       "less_4_5: 4 < 5\n",
       "less_5_6: 5 < 6\n",
       "less_6_7: 6 < 7\n",
       "less_7_8: 7 < 8\n",
       "less_8_9: 8 < 9"
      ]
     },
     "execution_count": 4,
     "metadata": {},
     "output_type": "execute_result"
    }
   ],
   "source": [
    "less_0_1, less_1_2, less_2_3, less_3_4, less_4_5, less_5_6, less_6_7, less_7_8, less_8_9 = [Less(num(n), num(n+1)) for n in range(9)]"
   ]
  },
  {
   "cell_type": "code",
   "execution_count": 5,
   "metadata": {
    "collapsed": false,
    "deletable": true,
    "editable": true
   },
   "outputs": [
    {
     "data": {
      "text/html": [
       "<strong id=\"sorted_digits\"><a class=\"ProveItLink\" href=\"_proofs_\\sorted_digits.ipynb\">sorted_digits</a>:</strong> <a class=\"ProveItLink\" href=\"__pv_it\\6f166467800bc54a9dbce1387f8762e74cd95ac70\\expr.ipynb\"><img src=\"__pv_it\\6f166467800bc54a9dbce1387f8762e74cd95ac70\\expr.png\" style=\"display:inline;vertical-align:middle;\" /></a><br>"
      ],
      "text/plain": [
       "sorted_digits: 0 < 1 < 2 < 3 < 4 < 5 < 6 < 7 < 8 < 9"
      ]
     },
     "execution_count": 5,
     "metadata": {},
     "output_type": "execute_result"
    }
   ],
   "source": [
    "sorted_digits = LesserSequence([Less._operator_]*9, [num(n) for n in xrange(10)])"
   ]
  },
  {
   "cell_type": "markdown",
   "metadata": {
    "deletable": true,
    "editable": true
   },
   "source": [
    "### Adding digits"
   ]
  },
  {
   "cell_type": "code",
   "execution_count": 6,
   "metadata": {
    "collapsed": false,
    "deletable": true,
    "editable": true
   },
   "outputs": [
    {
     "data": {
      "text/html": [
       "<strong id=\"add_0_0\"><a class=\"ProveItLink\" href=\"_proofs_\\add_0_0.ipynb\">add_0_0</a>:</strong> <a class=\"ProveItLink\" href=\"__pv_it\\977fc005cd412b339ad7e09ebb0922d84556b6c90\\expr.ipynb\"><img src=\"__pv_it\\977fc005cd412b339ad7e09ebb0922d84556b6c90\\expr.png\" style=\"display:inline;vertical-align:middle;\" /></a><br>\n",
       "<strong id=\"add_1_0\"><a class=\"ProveItLink\" href=\"_proofs_\\add_1_0.ipynb\">add_1_0</a>:</strong> <a class=\"ProveItLink\" href=\"__pv_it\\dfd4c13d01f8a9bb575732cb8a889334b31e61840\\expr.ipynb\"><img src=\"__pv_it\\dfd4c13d01f8a9bb575732cb8a889334b31e61840\\expr.png\" style=\"display:inline;vertical-align:middle;\" /></a><br>\n",
       "<strong id=\"add_2_0\"><a class=\"ProveItLink\" href=\"_proofs_\\add_2_0.ipynb\">add_2_0</a>:</strong> <a class=\"ProveItLink\" href=\"__pv_it\\6f51ddc5fe9b93460c789e2d009b1947a5dacb870\\expr.ipynb\"><img src=\"__pv_it\\6f51ddc5fe9b93460c789e2d009b1947a5dacb870\\expr.png\" style=\"display:inline;vertical-align:middle;\" /></a><br>\n",
       "<strong id=\"add_3_0\"><a class=\"ProveItLink\" href=\"_proofs_\\add_3_0.ipynb\">add_3_0</a>:</strong> <a class=\"ProveItLink\" href=\"__pv_it\\164ba82b69f1857025eed2183f5d31ebce3d990f0\\expr.ipynb\"><img src=\"__pv_it\\164ba82b69f1857025eed2183f5d31ebce3d990f0\\expr.png\" style=\"display:inline;vertical-align:middle;\" /></a><br>\n",
       "<strong id=\"add_4_0\"><a class=\"ProveItLink\" href=\"_proofs_\\add_4_0.ipynb\">add_4_0</a>:</strong> <a class=\"ProveItLink\" href=\"__pv_it\\25800639e6d299859f48a21e204c1c94910078d80\\expr.ipynb\"><img src=\"__pv_it\\25800639e6d299859f48a21e204c1c94910078d80\\expr.png\" style=\"display:inline;vertical-align:middle;\" /></a><br>\n",
       "<strong id=\"add_5_0\"><a class=\"ProveItLink\" href=\"_proofs_\\add_5_0.ipynb\">add_5_0</a>:</strong> <a class=\"ProveItLink\" href=\"__pv_it\\cb5079bb9c43660589c35b941eafdd400cc9df8a0\\expr.ipynb\"><img src=\"__pv_it\\cb5079bb9c43660589c35b941eafdd400cc9df8a0\\expr.png\" style=\"display:inline;vertical-align:middle;\" /></a><br>\n",
       "<strong id=\"add_6_0\"><a class=\"ProveItLink\" href=\"_proofs_\\add_6_0.ipynb\">add_6_0</a>:</strong> <a class=\"ProveItLink\" href=\"__pv_it\\1475fa3585d215332e685cc5530682e85f027c3f0\\expr.ipynb\"><img src=\"__pv_it\\1475fa3585d215332e685cc5530682e85f027c3f0\\expr.png\" style=\"display:inline;vertical-align:middle;\" /></a><br>\n",
       "<strong id=\"add_7_0\"><a class=\"ProveItLink\" href=\"_proofs_\\add_7_0.ipynb\">add_7_0</a>:</strong> <a class=\"ProveItLink\" href=\"__pv_it\\b298bf1880353f674163864817a78ecf0c2c6d7b0\\expr.ipynb\"><img src=\"__pv_it\\b298bf1880353f674163864817a78ecf0c2c6d7b0\\expr.png\" style=\"display:inline;vertical-align:middle;\" /></a><br>\n",
       "<strong id=\"add_8_0\"><a class=\"ProveItLink\" href=\"_proofs_\\add_8_0.ipynb\">add_8_0</a>:</strong> <a class=\"ProveItLink\" href=\"__pv_it\\8bcba583981c2f03bb5ad2703837d2dcbaa570470\\expr.ipynb\"><img src=\"__pv_it\\8bcba583981c2f03bb5ad2703837d2dcbaa570470\\expr.png\" style=\"display:inline;vertical-align:middle;\" /></a><br>\n",
       "<strong id=\"add_9_0\"><a class=\"ProveItLink\" href=\"_proofs_\\add_9_0.ipynb\">add_9_0</a>:</strong> <a class=\"ProveItLink\" href=\"__pv_it\\a94fcae820d5c084c63dac7fbb8e347cd99686900\\expr.ipynb\"><img src=\"__pv_it\\a94fcae820d5c084c63dac7fbb8e347cd99686900\\expr.png\" style=\"display:inline;vertical-align:middle;\" /></a><br>"
      ],
      "text/plain": [
       "add_0_0: (0 + 0) = 0\n",
       "add_1_0: (1 + 0) = 1\n",
       "add_2_0: (2 + 0) = 2\n",
       "add_3_0: (3 + 0) = 3\n",
       "add_4_0: (4 + 0) = 4\n",
       "add_5_0: (5 + 0) = 5\n",
       "add_6_0: (6 + 0) = 6\n",
       "add_7_0: (7 + 0) = 7\n",
       "add_8_0: (8 + 0) = 8\n",
       "add_9_0: (9 + 0) = 9"
      ]
     },
     "execution_count": 6,
     "metadata": {},
     "output_type": "execute_result"
    }
   ],
   "source": [
    "add_0_0, add_1_0, add_2_0, add_3_0, add_4_0, add_5_0, add_6_0, add_7_0, add_8_0, add_9_0 = [Equals(Add(num(n), num(0)), num(n+0)) for n in range(10)]"
   ]
  },
  {
   "cell_type": "code",
   "execution_count": 7,
   "metadata": {
    "collapsed": false,
    "deletable": true,
    "editable": true
   },
   "outputs": [
    {
     "data": {
      "text/html": [
       "<strong id=\"add_0_1\"><a class=\"ProveItLink\" href=\"_proofs_\\add_0_1.ipynb\">add_0_1</a>:</strong> <a class=\"ProveItLink\" href=\"__pv_it\\a8032a7fc3a693c08242f534e6b79b153ecced060\\expr.ipynb\"><img src=\"__pv_it\\a8032a7fc3a693c08242f534e6b79b153ecced060\\expr.png\" style=\"display:inline;vertical-align:middle;\" /></a><br>\n",
       "<strong id=\"add_1_1\"><a class=\"ProveItLink\" href=\"_proofs_\\add_1_1.ipynb\">add_1_1</a>:</strong> <a class=\"ProveItLink\" href=\"__pv_it\\1f5fc30393a03c999c6f5f3c0d0b67dcf686209a0\\expr.ipynb\"><img src=\"__pv_it\\1f5fc30393a03c999c6f5f3c0d0b67dcf686209a0\\expr.png\" style=\"display:inline;vertical-align:middle;\" /></a><br>\n",
       "<strong id=\"add_2_1\"><a class=\"ProveItLink\" href=\"_proofs_\\add_2_1.ipynb\">add_2_1</a>:</strong> <a class=\"ProveItLink\" href=\"__pv_it\\366b6863aa509433f2c26cb1664345611cfc3ea40\\expr.ipynb\"><img src=\"__pv_it\\366b6863aa509433f2c26cb1664345611cfc3ea40\\expr.png\" style=\"display:inline;vertical-align:middle;\" /></a><br>\n",
       "<strong id=\"add_3_1\"><a class=\"ProveItLink\" href=\"_proofs_\\add_3_1.ipynb\">add_3_1</a>:</strong> <a class=\"ProveItLink\" href=\"__pv_it\\718d941564cd718e9b16842caac0a2e448788e1d0\\expr.ipynb\"><img src=\"__pv_it\\718d941564cd718e9b16842caac0a2e448788e1d0\\expr.png\" style=\"display:inline;vertical-align:middle;\" /></a><br>\n",
       "<strong id=\"add_4_1\"><a class=\"ProveItLink\" href=\"_proofs_\\add_4_1.ipynb\">add_4_1</a>:</strong> <a class=\"ProveItLink\" href=\"__pv_it\\8ec7c40715fb76c0299f5d1738f05301132582830\\expr.ipynb\"><img src=\"__pv_it\\8ec7c40715fb76c0299f5d1738f05301132582830\\expr.png\" style=\"display:inline;vertical-align:middle;\" /></a><br>\n",
       "<strong id=\"add_5_1\"><a class=\"ProveItLink\" href=\"_proofs_\\add_5_1.ipynb\">add_5_1</a>:</strong> <a class=\"ProveItLink\" href=\"__pv_it\\5ed86373a4b86fd680760c7d9406ddc870e4d9110\\expr.ipynb\"><img src=\"__pv_it\\5ed86373a4b86fd680760c7d9406ddc870e4d9110\\expr.png\" style=\"display:inline;vertical-align:middle;\" /></a><br>\n",
       "<strong id=\"add_6_1\"><a class=\"ProveItLink\" href=\"_proofs_\\add_6_1.ipynb\">add_6_1</a>:</strong> <a class=\"ProveItLink\" href=\"__pv_it\\ecd816cb4d9bcaa617b7b4486d7079ca8e47ad630\\expr.ipynb\"><img src=\"__pv_it\\ecd816cb4d9bcaa617b7b4486d7079ca8e47ad630\\expr.png\" style=\"display:inline;vertical-align:middle;\" /></a><br>\n",
       "<strong id=\"add_7_1\"><a class=\"ProveItLink\" href=\"_proofs_\\add_7_1.ipynb\">add_7_1</a>:</strong> <a class=\"ProveItLink\" href=\"__pv_it\\ae5d109c47a8f87b9fba32a9579f7f173b07a11d0\\expr.ipynb\"><img src=\"__pv_it\\ae5d109c47a8f87b9fba32a9579f7f173b07a11d0\\expr.png\" style=\"display:inline;vertical-align:middle;\" /></a><br>\n",
       "<strong id=\"add_8_1\"><a class=\"ProveItLink\" href=\"_proofs_\\add_8_1.ipynb\">add_8_1</a>:</strong> <a class=\"ProveItLink\" href=\"__pv_it\\9228d1c953ee3292e03463170460187b3c77485b0\\expr.ipynb\"><img src=\"__pv_it\\9228d1c953ee3292e03463170460187b3c77485b0\\expr.png\" style=\"display:inline;vertical-align:middle;\" /></a><br>\n",
       "<strong id=\"add_9_1\"><a class=\"ProveItLink\" href=\"_proofs_\\add_9_1.ipynb\">add_9_1</a>:</strong> <a class=\"ProveItLink\" href=\"__pv_it\\60c4d272a97c634d0038910c6a52483fcd6c7f420\\expr.ipynb\"><img src=\"__pv_it\\60c4d272a97c634d0038910c6a52483fcd6c7f420\\expr.png\" style=\"display:inline;vertical-align:middle;\" /></a><br>"
      ],
      "text/plain": [
       "add_0_1: (0 + 1) = 1\n",
       "add_1_1: (1 + 1) = 2\n",
       "add_2_1: (2 + 1) = 3\n",
       "add_3_1: (3 + 1) = 4\n",
       "add_4_1: (4 + 1) = 5\n",
       "add_5_1: (5 + 1) = 6\n",
       "add_6_1: (6 + 1) = 7\n",
       "add_7_1: (7 + 1) = 8\n",
       "add_8_1: (8 + 1) = 9\n",
       "add_9_1: (9 + 1) = 10"
      ]
     },
     "execution_count": 7,
     "metadata": {},
     "output_type": "execute_result"
    }
   ],
   "source": [
    "add_0_1, add_1_1, add_2_1, add_3_1, add_4_1, add_5_1, add_6_1, add_7_1, add_8_1, add_9_1 = [Equals(Add(num(n), num(1)), num(n+1)) for n in range(10)]"
   ]
  },
  {
   "cell_type": "code",
   "execution_count": 8,
   "metadata": {
    "collapsed": false,
    "deletable": true,
    "editable": true
   },
   "outputs": [
    {
     "data": {
      "text/html": [
       "<strong id=\"add_0_2\"><a class=\"ProveItLink\" href=\"_proofs_\\add_0_2.ipynb\">add_0_2</a>:</strong> <a class=\"ProveItLink\" href=\"__pv_it\\469306d4250cba7071fb4b3c4518d82db7d275b20\\expr.ipynb\"><img src=\"__pv_it\\469306d4250cba7071fb4b3c4518d82db7d275b20\\expr.png\" style=\"display:inline;vertical-align:middle;\" /></a><br>\n",
       "<strong id=\"add_1_2\"><a class=\"ProveItLink\" href=\"_proofs_\\add_1_2.ipynb\">add_1_2</a>:</strong> <a class=\"ProveItLink\" href=\"__pv_it\\8398d5f104cd493de4ccb6e177cd95005407df4c0\\expr.ipynb\"><img src=\"__pv_it\\8398d5f104cd493de4ccb6e177cd95005407df4c0\\expr.png\" style=\"display:inline;vertical-align:middle;\" /></a><br>\n",
       "<strong id=\"add_2_2\"><a class=\"ProveItLink\" href=\"_proofs_\\add_2_2.ipynb\">add_2_2</a>:</strong> <a class=\"ProveItLink\" href=\"__pv_it\\054efdc3a64674cfb5aaa5ca4b163f8f182f6e240\\expr.ipynb\"><img src=\"__pv_it\\054efdc3a64674cfb5aaa5ca4b163f8f182f6e240\\expr.png\" style=\"display:inline;vertical-align:middle;\" /></a><br>\n",
       "<strong id=\"add_3_2\"><a class=\"ProveItLink\" href=\"_proofs_\\add_3_2.ipynb\">add_3_2</a>:</strong> <a class=\"ProveItLink\" href=\"__pv_it\\ef3c054af39933b9e34967179d57194d65f79d030\\expr.ipynb\"><img src=\"__pv_it\\ef3c054af39933b9e34967179d57194d65f79d030\\expr.png\" style=\"display:inline;vertical-align:middle;\" /></a><br>\n",
       "<strong id=\"add_4_2\"><a class=\"ProveItLink\" href=\"_proofs_\\add_4_2.ipynb\">add_4_2</a>:</strong> <a class=\"ProveItLink\" href=\"__pv_it\\6ab777419987df68c0164344b83bf9ae787d5bb80\\expr.ipynb\"><img src=\"__pv_it\\6ab777419987df68c0164344b83bf9ae787d5bb80\\expr.png\" style=\"display:inline;vertical-align:middle;\" /></a><br>\n",
       "<strong id=\"add_5_2\"><a class=\"ProveItLink\" href=\"_proofs_\\add_5_2.ipynb\">add_5_2</a>:</strong> <a class=\"ProveItLink\" href=\"__pv_it\\b731c4f1a5d05a32defeac8110fedaeb502b28110\\expr.ipynb\"><img src=\"__pv_it\\b731c4f1a5d05a32defeac8110fedaeb502b28110\\expr.png\" style=\"display:inline;vertical-align:middle;\" /></a><br>\n",
       "<strong id=\"add_6_2\"><a class=\"ProveItLink\" href=\"_proofs_\\add_6_2.ipynb\">add_6_2</a>:</strong> <a class=\"ProveItLink\" href=\"__pv_it\\48664fab2403f79b8991f6d18e1db2d503f2b4050\\expr.ipynb\"><img src=\"__pv_it\\48664fab2403f79b8991f6d18e1db2d503f2b4050\\expr.png\" style=\"display:inline;vertical-align:middle;\" /></a><br>\n",
       "<strong id=\"add_7_2\"><a class=\"ProveItLink\" href=\"_proofs_\\add_7_2.ipynb\">add_7_2</a>:</strong> <a class=\"ProveItLink\" href=\"__pv_it\\76728370d49b57834c6e8069378a062986fc9cea0\\expr.ipynb\"><img src=\"__pv_it\\76728370d49b57834c6e8069378a062986fc9cea0\\expr.png\" style=\"display:inline;vertical-align:middle;\" /></a><br>\n",
       "<strong id=\"add_8_2\"><a class=\"ProveItLink\" href=\"_proofs_\\add_8_2.ipynb\">add_8_2</a>:</strong> <a class=\"ProveItLink\" href=\"__pv_it\\8188897e3ae438456c43b90dc32e2bfd316361730\\expr.ipynb\"><img src=\"__pv_it\\8188897e3ae438456c43b90dc32e2bfd316361730\\expr.png\" style=\"display:inline;vertical-align:middle;\" /></a><br>\n",
       "<strong id=\"add_9_2\"><a class=\"ProveItLink\" href=\"_proofs_\\add_9_2.ipynb\">add_9_2</a>:</strong> <a class=\"ProveItLink\" href=\"__pv_it\\fb15bbb107269e07ae7bdc1b4d206727786a2f7a0\\expr.ipynb\"><img src=\"__pv_it\\fb15bbb107269e07ae7bdc1b4d206727786a2f7a0\\expr.png\" style=\"display:inline;vertical-align:middle;\" /></a><br>"
      ],
      "text/plain": [
       "add_0_2: (0 + 2) = 2\n",
       "add_1_2: (1 + 2) = 3\n",
       "add_2_2: (2 + 2) = 4\n",
       "add_3_2: (3 + 2) = 5\n",
       "add_4_2: (4 + 2) = 6\n",
       "add_5_2: (5 + 2) = 7\n",
       "add_6_2: (6 + 2) = 8\n",
       "add_7_2: (7 + 2) = 9\n",
       "add_8_2: (8 + 2) = 10\n",
       "add_9_2: (9 + 2) = 11"
      ]
     },
     "execution_count": 8,
     "metadata": {},
     "output_type": "execute_result"
    }
   ],
   "source": [
    "add_0_2, add_1_2, add_2_2, add_3_2, add_4_2, add_5_2, add_6_2, add_7_2, add_8_2, add_9_2 = [Equals(Add(num(n), num(2)), num(n+2)) for n in range(10)]"
   ]
  },
  {
   "cell_type": "code",
   "execution_count": 9,
   "metadata": {
    "collapsed": false,
    "deletable": true,
    "editable": true
   },
   "outputs": [
    {
     "data": {
      "text/html": [
       "<strong id=\"add_0_3\"><a class=\"ProveItLink\" href=\"_proofs_\\add_0_3.ipynb\">add_0_3</a>:</strong> <a class=\"ProveItLink\" href=\"__pv_it\\52f1a6e5b7994f8bd1e344b5cd9e23269c3022750\\expr.ipynb\"><img src=\"__pv_it\\52f1a6e5b7994f8bd1e344b5cd9e23269c3022750\\expr.png\" style=\"display:inline;vertical-align:middle;\" /></a><br>\n",
       "<strong id=\"add_1_3\"><a class=\"ProveItLink\" href=\"_proofs_\\add_1_3.ipynb\">add_1_3</a>:</strong> <a class=\"ProveItLink\" href=\"__pv_it\\dc67c16fd5e5bac4311d7ed1e15b850961376ded0\\expr.ipynb\"><img src=\"__pv_it\\dc67c16fd5e5bac4311d7ed1e15b850961376ded0\\expr.png\" style=\"display:inline;vertical-align:middle;\" /></a><br>\n",
       "<strong id=\"add_2_3\"><a class=\"ProveItLink\" href=\"_proofs_\\add_2_3.ipynb\">add_2_3</a>:</strong> <a class=\"ProveItLink\" href=\"__pv_it\\640c376dc9850736503306d965c4234d26db9cba0\\expr.ipynb\"><img src=\"__pv_it\\640c376dc9850736503306d965c4234d26db9cba0\\expr.png\" style=\"display:inline;vertical-align:middle;\" /></a><br>\n",
       "<strong id=\"add_3_3\"><a class=\"ProveItLink\" href=\"_proofs_\\add_3_3.ipynb\">add_3_3</a>:</strong> <a class=\"ProveItLink\" href=\"__pv_it\\8c9efa610ffccd7c5e2f023cd8cf7d100cc2bf210\\expr.ipynb\"><img src=\"__pv_it\\8c9efa610ffccd7c5e2f023cd8cf7d100cc2bf210\\expr.png\" style=\"display:inline;vertical-align:middle;\" /></a><br>\n",
       "<strong id=\"add_4_3\"><a class=\"ProveItLink\" href=\"_proofs_\\add_4_3.ipynb\">add_4_3</a>:</strong> <a class=\"ProveItLink\" href=\"__pv_it\\619e026eeb6a70e4f513595fbb11e6c721e0affe0\\expr.ipynb\"><img src=\"__pv_it\\619e026eeb6a70e4f513595fbb11e6c721e0affe0\\expr.png\" style=\"display:inline;vertical-align:middle;\" /></a><br>\n",
       "<strong id=\"add_5_3\"><a class=\"ProveItLink\" href=\"_proofs_\\add_5_3.ipynb\">add_5_3</a>:</strong> <a class=\"ProveItLink\" href=\"__pv_it\\0f79223668200ccc1773a16b3eae28f84f97017f0\\expr.ipynb\"><img src=\"__pv_it\\0f79223668200ccc1773a16b3eae28f84f97017f0\\expr.png\" style=\"display:inline;vertical-align:middle;\" /></a><br>\n",
       "<strong id=\"add_6_3\"><a class=\"ProveItLink\" href=\"_proofs_\\add_6_3.ipynb\">add_6_3</a>:</strong> <a class=\"ProveItLink\" href=\"__pv_it\\051dec6b70d7c7fdddf0c95c6d88906fa01f1f190\\expr.ipynb\"><img src=\"__pv_it\\051dec6b70d7c7fdddf0c95c6d88906fa01f1f190\\expr.png\" style=\"display:inline;vertical-align:middle;\" /></a><br>\n",
       "<strong id=\"add_7_3\"><a class=\"ProveItLink\" href=\"_proofs_\\add_7_3.ipynb\">add_7_3</a>:</strong> <a class=\"ProveItLink\" href=\"__pv_it\\df895be0ddd2716acc1fb0434387618f40b8094e0\\expr.ipynb\"><img src=\"__pv_it\\df895be0ddd2716acc1fb0434387618f40b8094e0\\expr.png\" style=\"display:inline;vertical-align:middle;\" /></a><br>\n",
       "<strong id=\"add_8_3\"><a class=\"ProveItLink\" href=\"_proofs_\\add_8_3.ipynb\">add_8_3</a>:</strong> <a class=\"ProveItLink\" href=\"__pv_it\\6cc00618665d69f1cb5d0486eab4737ab3621e850\\expr.ipynb\"><img src=\"__pv_it\\6cc00618665d69f1cb5d0486eab4737ab3621e850\\expr.png\" style=\"display:inline;vertical-align:middle;\" /></a><br>\n",
       "<strong id=\"add_9_3\"><a class=\"ProveItLink\" href=\"_proofs_\\add_9_3.ipynb\">add_9_3</a>:</strong> <a class=\"ProveItLink\" href=\"__pv_it\\d9fb70f961da551b8f51bc39be449425e99222a70\\expr.ipynb\"><img src=\"__pv_it\\d9fb70f961da551b8f51bc39be449425e99222a70\\expr.png\" style=\"display:inline;vertical-align:middle;\" /></a><br>"
      ],
      "text/plain": [
       "add_0_3: (0 + 3) = 3\n",
       "add_1_3: (1 + 3) = 4\n",
       "add_2_3: (2 + 3) = 5\n",
       "add_3_3: (3 + 3) = 6\n",
       "add_4_3: (4 + 3) = 7\n",
       "add_5_3: (5 + 3) = 8\n",
       "add_6_3: (6 + 3) = 9\n",
       "add_7_3: (7 + 3) = 10\n",
       "add_8_3: (8 + 3) = 11\n",
       "add_9_3: (9 + 3) = 12"
      ]
     },
     "execution_count": 9,
     "metadata": {},
     "output_type": "execute_result"
    }
   ],
   "source": [
    "add_0_3, add_1_3, add_2_3, add_3_3, add_4_3, add_5_3, add_6_3, add_7_3, add_8_3, add_9_3 = [Equals(Add(num(n), num(3)), num(n+3)) for n in range(10)]"
   ]
  },
  {
   "cell_type": "code",
   "execution_count": 10,
   "metadata": {
    "collapsed": false,
    "deletable": true,
    "editable": true
   },
   "outputs": [
    {
     "data": {
      "text/html": [
       "<strong id=\"add_0_4\"><a class=\"ProveItLink\" href=\"_proofs_\\add_0_4.ipynb\">add_0_4</a>:</strong> <a class=\"ProveItLink\" href=\"__pv_it\\796962358fc27d74f61ffd88e0c4799b297651290\\expr.ipynb\"><img src=\"__pv_it\\796962358fc27d74f61ffd88e0c4799b297651290\\expr.png\" style=\"display:inline;vertical-align:middle;\" /></a><br>\n",
       "<strong id=\"add_1_4\"><a class=\"ProveItLink\" href=\"_proofs_\\add_1_4.ipynb\">add_1_4</a>:</strong> <a class=\"ProveItLink\" href=\"__pv_it\\422bca7f6759c93a2626d22eeae8f17b639448e40\\expr.ipynb\"><img src=\"__pv_it\\422bca7f6759c93a2626d22eeae8f17b639448e40\\expr.png\" style=\"display:inline;vertical-align:middle;\" /></a><br>\n",
       "<strong id=\"add_2_4\"><a class=\"ProveItLink\" href=\"_proofs_\\add_2_4.ipynb\">add_2_4</a>:</strong> <a class=\"ProveItLink\" href=\"__pv_it\\e40ac358c04a95e830dd692d8276a5886a383ad70\\expr.ipynb\"><img src=\"__pv_it\\e40ac358c04a95e830dd692d8276a5886a383ad70\\expr.png\" style=\"display:inline;vertical-align:middle;\" /></a><br>\n",
       "<strong id=\"add_3_4\"><a class=\"ProveItLink\" href=\"_proofs_\\add_3_4.ipynb\">add_3_4</a>:</strong> <a class=\"ProveItLink\" href=\"__pv_it\\611eea646b1107d4f42be7f1a0d905dbaa3b62e60\\expr.ipynb\"><img src=\"__pv_it\\611eea646b1107d4f42be7f1a0d905dbaa3b62e60\\expr.png\" style=\"display:inline;vertical-align:middle;\" /></a><br>\n",
       "<strong id=\"add_4_4\"><a class=\"ProveItLink\" href=\"_proofs_\\add_4_4.ipynb\">add_4_4</a>:</strong> <a class=\"ProveItLink\" href=\"__pv_it\\4c472758e986126d824ed63f648f45ed4a61a42c0\\expr.ipynb\"><img src=\"__pv_it\\4c472758e986126d824ed63f648f45ed4a61a42c0\\expr.png\" style=\"display:inline;vertical-align:middle;\" /></a><br>\n",
       "<strong id=\"add_5_4\"><a class=\"ProveItLink\" href=\"_proofs_\\add_5_4.ipynb\">add_5_4</a>:</strong> <a class=\"ProveItLink\" href=\"__pv_it\\a5a1b06852c0d99f9a16c80f2d5c7375ddad85fc0\\expr.ipynb\"><img src=\"__pv_it\\a5a1b06852c0d99f9a16c80f2d5c7375ddad85fc0\\expr.png\" style=\"display:inline;vertical-align:middle;\" /></a><br>\n",
       "<strong id=\"add_6_4\"><a class=\"ProveItLink\" href=\"_proofs_\\add_6_4.ipynb\">add_6_4</a>:</strong> <a class=\"ProveItLink\" href=\"__pv_it\\1f2db64ccfabdc4151d01b9ffd45afa0d35861b10\\expr.ipynb\"><img src=\"__pv_it\\1f2db64ccfabdc4151d01b9ffd45afa0d35861b10\\expr.png\" style=\"display:inline;vertical-align:middle;\" /></a><br>\n",
       "<strong id=\"add_7_4\"><a class=\"ProveItLink\" href=\"_proofs_\\add_7_4.ipynb\">add_7_4</a>:</strong> <a class=\"ProveItLink\" href=\"__pv_it\\fc27c471517412c90b05e18eac79aa8b8c46cc860\\expr.ipynb\"><img src=\"__pv_it\\fc27c471517412c90b05e18eac79aa8b8c46cc860\\expr.png\" style=\"display:inline;vertical-align:middle;\" /></a><br>\n",
       "<strong id=\"add_8_4\"><a class=\"ProveItLink\" href=\"_proofs_\\add_8_4.ipynb\">add_8_4</a>:</strong> <a class=\"ProveItLink\" href=\"__pv_it\\490f94e692a0e119c1f9c28474be789ca308bcca0\\expr.ipynb\"><img src=\"__pv_it\\490f94e692a0e119c1f9c28474be789ca308bcca0\\expr.png\" style=\"display:inline;vertical-align:middle;\" /></a><br>\n",
       "<strong id=\"add_9_4\"><a class=\"ProveItLink\" href=\"_proofs_\\add_9_4.ipynb\">add_9_4</a>:</strong> <a class=\"ProveItLink\" href=\"__pv_it\\819f01021e130720a4c10361b206ec21a13f1fb80\\expr.ipynb\"><img src=\"__pv_it\\819f01021e130720a4c10361b206ec21a13f1fb80\\expr.png\" style=\"display:inline;vertical-align:middle;\" /></a><br>"
      ],
      "text/plain": [
       "add_0_4: (0 + 4) = 4\n",
       "add_1_4: (1 + 4) = 5\n",
       "add_2_4: (2 + 4) = 6\n",
       "add_3_4: (3 + 4) = 7\n",
       "add_4_4: (4 + 4) = 8\n",
       "add_5_4: (5 + 4) = 9\n",
       "add_6_4: (6 + 4) = 10\n",
       "add_7_4: (7 + 4) = 11\n",
       "add_8_4: (8 + 4) = 12\n",
       "add_9_4: (9 + 4) = 13"
      ]
     },
     "execution_count": 10,
     "metadata": {},
     "output_type": "execute_result"
    }
   ],
   "source": [
    "add_0_4, add_1_4, add_2_4, add_3_4, add_4_4, add_5_4, add_6_4, add_7_4, add_8_4, add_9_4 = [Equals(Add(num(n), num(4)), num(n+4)) for n in range(10)]"
   ]
  },
  {
   "cell_type": "code",
   "execution_count": 11,
   "metadata": {
    "collapsed": false,
    "deletable": true,
    "editable": true
   },
   "outputs": [
    {
     "data": {
      "text/html": [
       "<strong id=\"add_0_5\"><a class=\"ProveItLink\" href=\"_proofs_\\add_0_5.ipynb\">add_0_5</a>:</strong> <a class=\"ProveItLink\" href=\"__pv_it\\7bc7519565286502567f0e22cde5308a1a6ced020\\expr.ipynb\"><img src=\"__pv_it\\7bc7519565286502567f0e22cde5308a1a6ced020\\expr.png\" style=\"display:inline;vertical-align:middle;\" /></a><br>\n",
       "<strong id=\"add_1_5\"><a class=\"ProveItLink\" href=\"_proofs_\\add_1_5.ipynb\">add_1_5</a>:</strong> <a class=\"ProveItLink\" href=\"__pv_it\\62d89cd065cb1538d9baf012258f1449bbcd66330\\expr.ipynb\"><img src=\"__pv_it\\62d89cd065cb1538d9baf012258f1449bbcd66330\\expr.png\" style=\"display:inline;vertical-align:middle;\" /></a><br>\n",
       "<strong id=\"add_2_5\"><a class=\"ProveItLink\" href=\"_proofs_\\add_2_5.ipynb\">add_2_5</a>:</strong> <a class=\"ProveItLink\" href=\"__pv_it\\8b399e0bf86b6d3b4179ed0753cac737967204de0\\expr.ipynb\"><img src=\"__pv_it\\8b399e0bf86b6d3b4179ed0753cac737967204de0\\expr.png\" style=\"display:inline;vertical-align:middle;\" /></a><br>\n",
       "<strong id=\"add_3_5\"><a class=\"ProveItLink\" href=\"_proofs_\\add_3_5.ipynb\">add_3_5</a>:</strong> <a class=\"ProveItLink\" href=\"__pv_it\\e908f27f6888d35ea928ce50aaaec397be7aafe60\\expr.ipynb\"><img src=\"__pv_it\\e908f27f6888d35ea928ce50aaaec397be7aafe60\\expr.png\" style=\"display:inline;vertical-align:middle;\" /></a><br>\n",
       "<strong id=\"add_4_5\"><a class=\"ProveItLink\" href=\"_proofs_\\add_4_5.ipynb\">add_4_5</a>:</strong> <a class=\"ProveItLink\" href=\"__pv_it\\1a8c4b262c63113bed5b97ee13f9b0750673ffe90\\expr.ipynb\"><img src=\"__pv_it\\1a8c4b262c63113bed5b97ee13f9b0750673ffe90\\expr.png\" style=\"display:inline;vertical-align:middle;\" /></a><br>\n",
       "<strong id=\"add_5_5\"><a class=\"ProveItLink\" href=\"_proofs_\\add_5_5.ipynb\">add_5_5</a>:</strong> <a class=\"ProveItLink\" href=\"__pv_it\\93d7b7e32a937a84bf936f9acd5d41470900744b0\\expr.ipynb\"><img src=\"__pv_it\\93d7b7e32a937a84bf936f9acd5d41470900744b0\\expr.png\" style=\"display:inline;vertical-align:middle;\" /></a><br>\n",
       "<strong id=\"add_6_5\"><a class=\"ProveItLink\" href=\"_proofs_\\add_6_5.ipynb\">add_6_5</a>:</strong> <a class=\"ProveItLink\" href=\"__pv_it\\a1b02a2098fb77a792d1e2c13650d30da57e14ca0\\expr.ipynb\"><img src=\"__pv_it\\a1b02a2098fb77a792d1e2c13650d30da57e14ca0\\expr.png\" style=\"display:inline;vertical-align:middle;\" /></a><br>\n",
       "<strong id=\"add_7_5\"><a class=\"ProveItLink\" href=\"_proofs_\\add_7_5.ipynb\">add_7_5</a>:</strong> <a class=\"ProveItLink\" href=\"__pv_it\\e6478d44426ad562c94d1f050e659b2145874e520\\expr.ipynb\"><img src=\"__pv_it\\e6478d44426ad562c94d1f050e659b2145874e520\\expr.png\" style=\"display:inline;vertical-align:middle;\" /></a><br>\n",
       "<strong id=\"add_8_5\"><a class=\"ProveItLink\" href=\"_proofs_\\add_8_5.ipynb\">add_8_5</a>:</strong> <a class=\"ProveItLink\" href=\"__pv_it\\7d7036a43571d6fb0ad31daed23ad866e88ea7c80\\expr.ipynb\"><img src=\"__pv_it\\7d7036a43571d6fb0ad31daed23ad866e88ea7c80\\expr.png\" style=\"display:inline;vertical-align:middle;\" /></a><br>\n",
       "<strong id=\"add_9_5\"><a class=\"ProveItLink\" href=\"_proofs_\\add_9_5.ipynb\">add_9_5</a>:</strong> <a class=\"ProveItLink\" href=\"__pv_it\\3db828c021201875d3a088276e594b70924c7ef30\\expr.ipynb\"><img src=\"__pv_it\\3db828c021201875d3a088276e594b70924c7ef30\\expr.png\" style=\"display:inline;vertical-align:middle;\" /></a><br>"
      ],
      "text/plain": [
       "add_0_5: (0 + 5) = 5\n",
       "add_1_5: (1 + 5) = 6\n",
       "add_2_5: (2 + 5) = 7\n",
       "add_3_5: (3 + 5) = 8\n",
       "add_4_5: (4 + 5) = 9\n",
       "add_5_5: (5 + 5) = 10\n",
       "add_6_5: (6 + 5) = 11\n",
       "add_7_5: (7 + 5) = 12\n",
       "add_8_5: (8 + 5) = 13\n",
       "add_9_5: (9 + 5) = 14"
      ]
     },
     "execution_count": 11,
     "metadata": {},
     "output_type": "execute_result"
    }
   ],
   "source": [
    "add_0_5, add_1_5, add_2_5, add_3_5, add_4_5, add_5_5, add_6_5, add_7_5, add_8_5, add_9_5 = [Equals(Add(num(n), num(5)), num(n+5)) for n in range(10)]"
   ]
  },
  {
   "cell_type": "code",
   "execution_count": 12,
   "metadata": {
    "collapsed": false,
    "deletable": true,
    "editable": true
   },
   "outputs": [
    {
     "data": {
      "text/html": [
       "<strong id=\"add_0_6\"><a class=\"ProveItLink\" href=\"_proofs_\\add_0_6.ipynb\">add_0_6</a>:</strong> <a class=\"ProveItLink\" href=\"__pv_it\\1013a6af15a7e261b029d9fa20ecfdd6dccc37ac0\\expr.ipynb\"><img src=\"__pv_it\\1013a6af15a7e261b029d9fa20ecfdd6dccc37ac0\\expr.png\" style=\"display:inline;vertical-align:middle;\" /></a><br>\n",
       "<strong id=\"add_1_6\"><a class=\"ProveItLink\" href=\"_proofs_\\add_1_6.ipynb\">add_1_6</a>:</strong> <a class=\"ProveItLink\" href=\"__pv_it\\438ddc65adaeae8809f7445e26a2d58f40a81d500\\expr.ipynb\"><img src=\"__pv_it\\438ddc65adaeae8809f7445e26a2d58f40a81d500\\expr.png\" style=\"display:inline;vertical-align:middle;\" /></a><br>\n",
       "<strong id=\"add_2_6\"><a class=\"ProveItLink\" href=\"_proofs_\\add_2_6.ipynb\">add_2_6</a>:</strong> <a class=\"ProveItLink\" href=\"__pv_it\\a4c4c17542644252c1f089a951f2f57e0cc3ff9e0\\expr.ipynb\"><img src=\"__pv_it\\a4c4c17542644252c1f089a951f2f57e0cc3ff9e0\\expr.png\" style=\"display:inline;vertical-align:middle;\" /></a><br>\n",
       "<strong id=\"add_3_6\"><a class=\"ProveItLink\" href=\"_proofs_\\add_3_6.ipynb\">add_3_6</a>:</strong> <a class=\"ProveItLink\" href=\"__pv_it\\bd6c75a064d98b7c00c0e5ee283bff7cd9cfdf750\\expr.ipynb\"><img src=\"__pv_it\\bd6c75a064d98b7c00c0e5ee283bff7cd9cfdf750\\expr.png\" style=\"display:inline;vertical-align:middle;\" /></a><br>\n",
       "<strong id=\"add_4_6\"><a class=\"ProveItLink\" href=\"_proofs_\\add_4_6.ipynb\">add_4_6</a>:</strong> <a class=\"ProveItLink\" href=\"__pv_it\\b6ff102d39e905e7409f8c195925aa93e88e83020\\expr.ipynb\"><img src=\"__pv_it\\b6ff102d39e905e7409f8c195925aa93e88e83020\\expr.png\" style=\"display:inline;vertical-align:middle;\" /></a><br>\n",
       "<strong id=\"add_5_6\"><a class=\"ProveItLink\" href=\"_proofs_\\add_5_6.ipynb\">add_5_6</a>:</strong> <a class=\"ProveItLink\" href=\"__pv_it\\9336b7ff14d7778316caf83b941de500dcf5ee340\\expr.ipynb\"><img src=\"__pv_it\\9336b7ff14d7778316caf83b941de500dcf5ee340\\expr.png\" style=\"display:inline;vertical-align:middle;\" /></a><br>\n",
       "<strong id=\"add_6_6\"><a class=\"ProveItLink\" href=\"_proofs_\\add_6_6.ipynb\">add_6_6</a>:</strong> <a class=\"ProveItLink\" href=\"__pv_it\\379dc5e332aebc41bad9b7a81d340059f91992070\\expr.ipynb\"><img src=\"__pv_it\\379dc5e332aebc41bad9b7a81d340059f91992070\\expr.png\" style=\"display:inline;vertical-align:middle;\" /></a><br>\n",
       "<strong id=\"add_7_6\"><a class=\"ProveItLink\" href=\"_proofs_\\add_7_6.ipynb\">add_7_6</a>:</strong> <a class=\"ProveItLink\" href=\"__pv_it\\dfb7b3d5028ba921221122c859f88618880de37c0\\expr.ipynb\"><img src=\"__pv_it\\dfb7b3d5028ba921221122c859f88618880de37c0\\expr.png\" style=\"display:inline;vertical-align:middle;\" /></a><br>\n",
       "<strong id=\"add_8_6\"><a class=\"ProveItLink\" href=\"_proofs_\\add_8_6.ipynb\">add_8_6</a>:</strong> <a class=\"ProveItLink\" href=\"__pv_it\\2cb36e92b7697b4f422521e3521101c5ccb66d9c0\\expr.ipynb\"><img src=\"__pv_it\\2cb36e92b7697b4f422521e3521101c5ccb66d9c0\\expr.png\" style=\"display:inline;vertical-align:middle;\" /></a><br>\n",
       "<strong id=\"add_9_6\"><a class=\"ProveItLink\" href=\"_proofs_\\add_9_6.ipynb\">add_9_6</a>:</strong> <a class=\"ProveItLink\" href=\"__pv_it\\900a3ebe53054079396bec929a9a7288444b3ffb0\\expr.ipynb\"><img src=\"__pv_it\\900a3ebe53054079396bec929a9a7288444b3ffb0\\expr.png\" style=\"display:inline;vertical-align:middle;\" /></a><br>"
      ],
      "text/plain": [
       "add_0_6: (0 + 6) = 6\n",
       "add_1_6: (1 + 6) = 7\n",
       "add_2_6: (2 + 6) = 8\n",
       "add_3_6: (3 + 6) = 9\n",
       "add_4_6: (4 + 6) = 10\n",
       "add_5_6: (5 + 6) = 11\n",
       "add_6_6: (6 + 6) = 12\n",
       "add_7_6: (7 + 6) = 13\n",
       "add_8_6: (8 + 6) = 14\n",
       "add_9_6: (9 + 6) = 15"
      ]
     },
     "execution_count": 12,
     "metadata": {},
     "output_type": "execute_result"
    }
   ],
   "source": [
    "add_0_6, add_1_6, add_2_6, add_3_6, add_4_6, add_5_6, add_6_6, add_7_6, add_8_6, add_9_6 = [Equals(Add(num(n), num(6)), num(n+6)) for n in range(10)]"
   ]
  },
  {
   "cell_type": "code",
   "execution_count": 13,
   "metadata": {
    "collapsed": false,
    "deletable": true,
    "editable": true
   },
   "outputs": [
    {
     "data": {
      "text/html": [
       "<strong id=\"add_0_7\"><a class=\"ProveItLink\" href=\"_proofs_\\add_0_7.ipynb\">add_0_7</a>:</strong> <a class=\"ProveItLink\" href=\"__pv_it\\665a49c3e14f9238b32eabf16b3e584348db21dc0\\expr.ipynb\"><img src=\"__pv_it\\665a49c3e14f9238b32eabf16b3e584348db21dc0\\expr.png\" style=\"display:inline;vertical-align:middle;\" /></a><br>\n",
       "<strong id=\"add_1_7\"><a class=\"ProveItLink\" href=\"_proofs_\\add_1_7.ipynb\">add_1_7</a>:</strong> <a class=\"ProveItLink\" href=\"__pv_it\\ecb1f5d178babc0862058a9af01acc724e94c0750\\expr.ipynb\"><img src=\"__pv_it\\ecb1f5d178babc0862058a9af01acc724e94c0750\\expr.png\" style=\"display:inline;vertical-align:middle;\" /></a><br>\n",
       "<strong id=\"add_2_7\"><a class=\"ProveItLink\" href=\"_proofs_\\add_2_7.ipynb\">add_2_7</a>:</strong> <a class=\"ProveItLink\" href=\"__pv_it\\e0dbf292addeea5c95631a2a2a34c578bd9cb0010\\expr.ipynb\"><img src=\"__pv_it\\e0dbf292addeea5c95631a2a2a34c578bd9cb0010\\expr.png\" style=\"display:inline;vertical-align:middle;\" /></a><br>\n",
       "<strong id=\"add_3_7\"><a class=\"ProveItLink\" href=\"_proofs_\\add_3_7.ipynb\">add_3_7</a>:</strong> <a class=\"ProveItLink\" href=\"__pv_it\\84a38aac33d604968abc4cb73a324bf0e5d00c650\\expr.ipynb\"><img src=\"__pv_it\\84a38aac33d604968abc4cb73a324bf0e5d00c650\\expr.png\" style=\"display:inline;vertical-align:middle;\" /></a><br>\n",
       "<strong id=\"add_4_7\"><a class=\"ProveItLink\" href=\"_proofs_\\add_4_7.ipynb\">add_4_7</a>:</strong> <a class=\"ProveItLink\" href=\"__pv_it\\092d663aeaa1b5f174cec1c3e27d6d09fd59418b0\\expr.ipynb\"><img src=\"__pv_it\\092d663aeaa1b5f174cec1c3e27d6d09fd59418b0\\expr.png\" style=\"display:inline;vertical-align:middle;\" /></a><br>\n",
       "<strong id=\"add_5_7\"><a class=\"ProveItLink\" href=\"_proofs_\\add_5_7.ipynb\">add_5_7</a>:</strong> <a class=\"ProveItLink\" href=\"__pv_it\\92a787919055ec2fd25a8c5778a6c95f6970261e0\\expr.ipynb\"><img src=\"__pv_it\\92a787919055ec2fd25a8c5778a6c95f6970261e0\\expr.png\" style=\"display:inline;vertical-align:middle;\" /></a><br>\n",
       "<strong id=\"add_6_7\"><a class=\"ProveItLink\" href=\"_proofs_\\add_6_7.ipynb\">add_6_7</a>:</strong> <a class=\"ProveItLink\" href=\"__pv_it\\51ae5ef7974b258d97ad1b691f0e04bf176b55ab0\\expr.ipynb\"><img src=\"__pv_it\\51ae5ef7974b258d97ad1b691f0e04bf176b55ab0\\expr.png\" style=\"display:inline;vertical-align:middle;\" /></a><br>\n",
       "<strong id=\"add_7_7\"><a class=\"ProveItLink\" href=\"_proofs_\\add_7_7.ipynb\">add_7_7</a>:</strong> <a class=\"ProveItLink\" href=\"__pv_it\\c16cc2ea23c344dc45e2e140063d069bed9ee4780\\expr.ipynb\"><img src=\"__pv_it\\c16cc2ea23c344dc45e2e140063d069bed9ee4780\\expr.png\" style=\"display:inline;vertical-align:middle;\" /></a><br>\n",
       "<strong id=\"add_8_7\"><a class=\"ProveItLink\" href=\"_proofs_\\add_8_7.ipynb\">add_8_7</a>:</strong> <a class=\"ProveItLink\" href=\"__pv_it\\1441f6baeb02d86f096cd371fe98c77825ba8e120\\expr.ipynb\"><img src=\"__pv_it\\1441f6baeb02d86f096cd371fe98c77825ba8e120\\expr.png\" style=\"display:inline;vertical-align:middle;\" /></a><br>\n",
       "<strong id=\"add_9_7\"><a class=\"ProveItLink\" href=\"_proofs_\\add_9_7.ipynb\">add_9_7</a>:</strong> <a class=\"ProveItLink\" href=\"__pv_it\\81cc0e0b7d18e6dc0c466bdf28ff2c08445534bb0\\expr.ipynb\"><img src=\"__pv_it\\81cc0e0b7d18e6dc0c466bdf28ff2c08445534bb0\\expr.png\" style=\"display:inline;vertical-align:middle;\" /></a><br>"
      ],
      "text/plain": [
       "add_0_7: (0 + 7) = 7\n",
       "add_1_7: (1 + 7) = 8\n",
       "add_2_7: (2 + 7) = 9\n",
       "add_3_7: (3 + 7) = 10\n",
       "add_4_7: (4 + 7) = 11\n",
       "add_5_7: (5 + 7) = 12\n",
       "add_6_7: (6 + 7) = 13\n",
       "add_7_7: (7 + 7) = 14\n",
       "add_8_7: (8 + 7) = 15\n",
       "add_9_7: (9 + 7) = 16"
      ]
     },
     "execution_count": 13,
     "metadata": {},
     "output_type": "execute_result"
    }
   ],
   "source": [
    "add_0_7, add_1_7, add_2_7, add_3_7, add_4_7, add_5_7, add_6_7, add_7_7, add_8_7, add_9_7 = [Equals(Add(num(n), num(7)), num(n+7)) for n in range(10)]"
   ]
  },
  {
   "cell_type": "code",
   "execution_count": 14,
   "metadata": {
    "collapsed": false,
    "deletable": true,
    "editable": true
   },
   "outputs": [
    {
     "data": {
      "text/html": [
       "<strong id=\"add_0_8\"><a class=\"ProveItLink\" href=\"_proofs_\\add_0_8.ipynb\">add_0_8</a>:</strong> <a class=\"ProveItLink\" href=\"__pv_it\\5f95a30aa38a51c9bf00b66f07b63c19cdb48f860\\expr.ipynb\"><img src=\"__pv_it\\5f95a30aa38a51c9bf00b66f07b63c19cdb48f860\\expr.png\" style=\"display:inline;vertical-align:middle;\" /></a><br>\n",
       "<strong id=\"add_1_8\"><a class=\"ProveItLink\" href=\"_proofs_\\add_1_8.ipynb\">add_1_8</a>:</strong> <a class=\"ProveItLink\" href=\"__pv_it\\8ccf7bed6412ab6e9419f7e8dc338bb7ae5c4d910\\expr.ipynb\"><img src=\"__pv_it\\8ccf7bed6412ab6e9419f7e8dc338bb7ae5c4d910\\expr.png\" style=\"display:inline;vertical-align:middle;\" /></a><br>\n",
       "<strong id=\"add_2_8\"><a class=\"ProveItLink\" href=\"_proofs_\\add_2_8.ipynb\">add_2_8</a>:</strong> <a class=\"ProveItLink\" href=\"__pv_it\\a02c7d3c1d0b68ecb3b39f6f34ae5029c10021fd0\\expr.ipynb\"><img src=\"__pv_it\\a02c7d3c1d0b68ecb3b39f6f34ae5029c10021fd0\\expr.png\" style=\"display:inline;vertical-align:middle;\" /></a><br>\n",
       "<strong id=\"add_3_8\"><a class=\"ProveItLink\" href=\"_proofs_\\add_3_8.ipynb\">add_3_8</a>:</strong> <a class=\"ProveItLink\" href=\"__pv_it\\194be4aaa28a580ebdb8150e190a081adaaa26840\\expr.ipynb\"><img src=\"__pv_it\\194be4aaa28a580ebdb8150e190a081adaaa26840\\expr.png\" style=\"display:inline;vertical-align:middle;\" /></a><br>\n",
       "<strong id=\"add_4_8\"><a class=\"ProveItLink\" href=\"_proofs_\\add_4_8.ipynb\">add_4_8</a>:</strong> <a class=\"ProveItLink\" href=\"__pv_it\\4a4c8e1cfe00df5d2b37a7afa91ff6f49f30e5440\\expr.ipynb\"><img src=\"__pv_it\\4a4c8e1cfe00df5d2b37a7afa91ff6f49f30e5440\\expr.png\" style=\"display:inline;vertical-align:middle;\" /></a><br>\n",
       "<strong id=\"add_5_8\"><a class=\"ProveItLink\" href=\"_proofs_\\add_5_8.ipynb\">add_5_8</a>:</strong> <a class=\"ProveItLink\" href=\"__pv_it\\bbf2eb74985b3512522f403a81d0ac000decebe30\\expr.ipynb\"><img src=\"__pv_it\\bbf2eb74985b3512522f403a81d0ac000decebe30\\expr.png\" style=\"display:inline;vertical-align:middle;\" /></a><br>\n",
       "<strong id=\"add_6_8\"><a class=\"ProveItLink\" href=\"_proofs_\\add_6_8.ipynb\">add_6_8</a>:</strong> <a class=\"ProveItLink\" href=\"__pv_it\\407dee98cde48e9d4410140e01a906b9f691e1c70\\expr.ipynb\"><img src=\"__pv_it\\407dee98cde48e9d4410140e01a906b9f691e1c70\\expr.png\" style=\"display:inline;vertical-align:middle;\" /></a><br>\n",
       "<strong id=\"add_7_8\"><a class=\"ProveItLink\" href=\"_proofs_\\add_7_8.ipynb\">add_7_8</a>:</strong> <a class=\"ProveItLink\" href=\"__pv_it\\f5f84cbb12fb2e38c4f226684d3bc8069a7dc1710\\expr.ipynb\"><img src=\"__pv_it\\f5f84cbb12fb2e38c4f226684d3bc8069a7dc1710\\expr.png\" style=\"display:inline;vertical-align:middle;\" /></a><br>\n",
       "<strong id=\"add_8_8\"><a class=\"ProveItLink\" href=\"_proofs_\\add_8_8.ipynb\">add_8_8</a>:</strong> <a class=\"ProveItLink\" href=\"__pv_it\\3e3ad6ecefca4bc709c69166efa525ff1289aff10\\expr.ipynb\"><img src=\"__pv_it\\3e3ad6ecefca4bc709c69166efa525ff1289aff10\\expr.png\" style=\"display:inline;vertical-align:middle;\" /></a><br>\n",
       "<strong id=\"add_9_8\"><a class=\"ProveItLink\" href=\"_proofs_\\add_9_8.ipynb\">add_9_8</a>:</strong> <a class=\"ProveItLink\" href=\"__pv_it\\34deabfcb1e1351de8ff9db934af23f111b653960\\expr.ipynb\"><img src=\"__pv_it\\34deabfcb1e1351de8ff9db934af23f111b653960\\expr.png\" style=\"display:inline;vertical-align:middle;\" /></a><br>"
      ],
      "text/plain": [
       "add_0_8: (0 + 8) = 8\n",
       "add_1_8: (1 + 8) = 9\n",
       "add_2_8: (2 + 8) = 10\n",
       "add_3_8: (3 + 8) = 11\n",
       "add_4_8: (4 + 8) = 12\n",
       "add_5_8: (5 + 8) = 13\n",
       "add_6_8: (6 + 8) = 14\n",
       "add_7_8: (7 + 8) = 15\n",
       "add_8_8: (8 + 8) = 16\n",
       "add_9_8: (9 + 8) = 17"
      ]
     },
     "execution_count": 14,
     "metadata": {},
     "output_type": "execute_result"
    }
   ],
   "source": [
    "add_0_8, add_1_8, add_2_8, add_3_8, add_4_8, add_5_8, add_6_8, add_7_8, add_8_8, add_9_8 = [Equals(Add(num(n), num(8)), num(n+8)) for n in range(10)]"
   ]
  },
  {
   "cell_type": "code",
   "execution_count": 15,
   "metadata": {
    "collapsed": false,
    "deletable": true,
    "editable": true
   },
   "outputs": [
    {
     "data": {
      "text/html": [
       "<strong id=\"add_0_9\"><a class=\"ProveItLink\" href=\"_proofs_\\add_0_9.ipynb\">add_0_9</a>:</strong> <a class=\"ProveItLink\" href=\"__pv_it\\2f53d3bf21f39f7cadcba2c2a386c1c0c09ad0db0\\expr.ipynb\"><img src=\"__pv_it\\2f53d3bf21f39f7cadcba2c2a386c1c0c09ad0db0\\expr.png\" style=\"display:inline;vertical-align:middle;\" /></a><br>\n",
       "<strong id=\"add_1_9\"><a class=\"ProveItLink\" href=\"_proofs_\\add_1_9.ipynb\">add_1_9</a>:</strong> <a class=\"ProveItLink\" href=\"__pv_it\\fc7e2dab12dd7fc7a471a02db835f009ced7d49c0\\expr.ipynb\"><img src=\"__pv_it\\fc7e2dab12dd7fc7a471a02db835f009ced7d49c0\\expr.png\" style=\"display:inline;vertical-align:middle;\" /></a><br>\n",
       "<strong id=\"add_2_9\"><a class=\"ProveItLink\" href=\"_proofs_\\add_2_9.ipynb\">add_2_9</a>:</strong> <a class=\"ProveItLink\" href=\"__pv_it\\bb457dfdfeb878408e834b29b1409b38c8b90a6e0\\expr.ipynb\"><img src=\"__pv_it\\bb457dfdfeb878408e834b29b1409b38c8b90a6e0\\expr.png\" style=\"display:inline;vertical-align:middle;\" /></a><br>\n",
       "<strong id=\"add_3_9\"><a class=\"ProveItLink\" href=\"_proofs_\\add_3_9.ipynb\">add_3_9</a>:</strong> <a class=\"ProveItLink\" href=\"__pv_it\\a646eef3a6d6e9d4a46d03d98b0037a2f949fae20\\expr.ipynb\"><img src=\"__pv_it\\a646eef3a6d6e9d4a46d03d98b0037a2f949fae20\\expr.png\" style=\"display:inline;vertical-align:middle;\" /></a><br>\n",
       "<strong id=\"add_4_9\"><a class=\"ProveItLink\" href=\"_proofs_\\add_4_9.ipynb\">add_4_9</a>:</strong> <a class=\"ProveItLink\" href=\"__pv_it\\3fe0fd250bdfc08852f799578c256ba02c89526b0\\expr.ipynb\"><img src=\"__pv_it\\3fe0fd250bdfc08852f799578c256ba02c89526b0\\expr.png\" style=\"display:inline;vertical-align:middle;\" /></a><br>\n",
       "<strong id=\"add_5_9\"><a class=\"ProveItLink\" href=\"_proofs_\\add_5_9.ipynb\">add_5_9</a>:</strong> <a class=\"ProveItLink\" href=\"__pv_it\\a099664bb7e791c8175616b86c08bb7f4e1649720\\expr.ipynb\"><img src=\"__pv_it\\a099664bb7e791c8175616b86c08bb7f4e1649720\\expr.png\" style=\"display:inline;vertical-align:middle;\" /></a><br>\n",
       "<strong id=\"add_6_9\"><a class=\"ProveItLink\" href=\"_proofs_\\add_6_9.ipynb\">add_6_9</a>:</strong> <a class=\"ProveItLink\" href=\"__pv_it\\d82f8391ecad433c3596a80215d445d9cff907b90\\expr.ipynb\"><img src=\"__pv_it\\d82f8391ecad433c3596a80215d445d9cff907b90\\expr.png\" style=\"display:inline;vertical-align:middle;\" /></a><br>\n",
       "<strong id=\"add_7_9\"><a class=\"ProveItLink\" href=\"_proofs_\\add_7_9.ipynb\">add_7_9</a>:</strong> <a class=\"ProveItLink\" href=\"__pv_it\\2c27321639b12e9911054e14111cb0f8d33c0ead0\\expr.ipynb\"><img src=\"__pv_it\\2c27321639b12e9911054e14111cb0f8d33c0ead0\\expr.png\" style=\"display:inline;vertical-align:middle;\" /></a><br>\n",
       "<strong id=\"add_8_9\"><a class=\"ProveItLink\" href=\"_proofs_\\add_8_9.ipynb\">add_8_9</a>:</strong> <a class=\"ProveItLink\" href=\"__pv_it\\854047526f460bb46e817fff0c429b980fd950170\\expr.ipynb\"><img src=\"__pv_it\\854047526f460bb46e817fff0c429b980fd950170\\expr.png\" style=\"display:inline;vertical-align:middle;\" /></a><br>\n",
       "<strong id=\"add_9_9\"><a class=\"ProveItLink\" href=\"_proofs_\\add_9_9.ipynb\">add_9_9</a>:</strong> <a class=\"ProveItLink\" href=\"__pv_it\\6ff5e2524556883e8cf99adcf6d81d497a1f09c30\\expr.ipynb\"><img src=\"__pv_it\\6ff5e2524556883e8cf99adcf6d81d497a1f09c30\\expr.png\" style=\"display:inline;vertical-align:middle;\" /></a><br>"
      ],
      "text/plain": [
       "add_0_9: (0 + 9) = 9\n",
       "add_1_9: (1 + 9) = 10\n",
       "add_2_9: (2 + 9) = 11\n",
       "add_3_9: (3 + 9) = 12\n",
       "add_4_9: (4 + 9) = 13\n",
       "add_5_9: (5 + 9) = 14\n",
       "add_6_9: (6 + 9) = 15\n",
       "add_7_9: (7 + 9) = 16\n",
       "add_8_9: (8 + 9) = 17\n",
       "add_9_9: (9 + 9) = 18"
      ]
     },
     "execution_count": 15,
     "metadata": {},
     "output_type": "execute_result"
    }
   ],
   "source": [
    "add_0_9, add_1_9, add_2_9, add_3_9, add_4_9, add_5_9, add_6_9, add_7_9, add_8_9, add_9_9 = [Equals(Add(num(n), num(9)), num(n+9)) for n in range(10)]"
   ]
  },
  {
   "cell_type": "code",
   "execution_count": 16,
   "metadata": {
    "collapsed": false,
    "deletable": true,
    "editable": true
   },
   "outputs": [
    {
     "name": "stdout",
     "output_type": "stream",
     "text": [
      "Theorems may be imported from autogenerated _theorems_.py\n"
     ]
    }
   ],
   "source": [
    "%end theorems"
   ]
  },
  {
   "cell_type": "code",
   "execution_count": null,
   "metadata": {
    "collapsed": true,
    "deletable": true,
    "editable": true
   },
   "outputs": [],
   "source": []
  }
 ],
 "metadata": {
  "kernelspec": {
   "display_name": "Python 2",
   "language": "python",
   "name": "python2"
  },
  "language_info": {
   "codemirror_mode": {
    "name": "ipython",
    "version": 2
   },
   "file_extension": ".py",
   "mimetype": "text/x-python",
   "name": "python",
   "nbconvert_exporter": "python",
   "pygments_lexer": "ipython2",
   "version": "2.7.11"
  }
 },
 "nbformat": 4,
 "nbformat_minor": 0
}
