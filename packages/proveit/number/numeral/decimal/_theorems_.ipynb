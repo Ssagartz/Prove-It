{
 "cells": [
  {
   "cell_type": "markdown",
   "metadata": {
    "collapsed": true,
    "deletable": true,
    "editable": true
   },
   "source": [
    "Theorems for context <a class=\"ProveItLink\" href=\"_context_.ipynb\">proveit.number.numeral.decimal</a>\n",
    "========"
   ]
  },
  {
   "cell_type": "code",
   "execution_count": 1,
   "metadata": {
    "collapsed": false,
    "deletable": true,
    "editable": true
   },
   "outputs": [],
   "source": [
    "import proveit\n",
    "from proveit.logic import Equals\n",
    "from proveit.number import num, Add\n",
    "# the context is in the current directory:\n",
    "context = proveit.Context('.') # adds context root to sys.path if necessary"
   ]
  },
  {
   "cell_type": "code",
   "execution_count": 2,
   "metadata": {
    "collapsed": false,
    "deletable": true,
    "editable": true
   },
   "outputs": [
    {
     "name": "stdout",
     "output_type": "stream",
     "text": [
      "Defining theorems for context 'proveit.number.numeral.decimal'\n",
      "Subsequent end-of-cell assignments will define theorems\n",
      "'%end theorems' will finalize the definitions\n"
     ]
    }
   ],
   "source": [
    "%begin theorems"
   ]
  },
  {
   "cell_type": "markdown",
   "metadata": {
    "deletable": true,
    "editable": true
   },
   "source": [
    "### Adding digits"
   ]
  },
  {
   "cell_type": "code",
   "execution_count": 3,
   "metadata": {
    "collapsed": false,
    "deletable": true,
    "editable": true
   },
   "outputs": [
    {
     "data": {
      "text/html": [
       "<strong id=\"add_0_0\"><a class=\"ProveItLink\" href=\"_proofs_\\add_0_0.ipynb\">add_0_0</a>:</strong> <a class=\"ProveItLink\" href=\"__pv_it\\977fc005cd412b339ad7e09ebb0922d84556b6c90\\expr.ipynb\"><img src=\"__pv_it\\977fc005cd412b339ad7e09ebb0922d84556b6c90\\expr.png\" style=\"display:inline;vertical-align:middle;\" /></a><br>\n",
       "<strong id=\"add_1_0\"><a class=\"ProveItLink\" href=\"_proofs_\\add_1_0.ipynb\">add_1_0</a>:</strong> <a class=\"ProveItLink\" href=\"__pv_it\\dfd4c13d01f8a9bb575732cb8a889334b31e61840\\expr.ipynb\"><img src=\"__pv_it\\dfd4c13d01f8a9bb575732cb8a889334b31e61840\\expr.png\" style=\"display:inline;vertical-align:middle;\" /></a><br>\n",
       "<strong id=\"add_2_0\"><a class=\"ProveItLink\" href=\"_proofs_\\add_2_0.ipynb\">add_2_0</a>:</strong> <a class=\"ProveItLink\" href=\"__pv_it\\6f51ddc5fe9b93460c789e2d009b1947a5dacb870\\expr.ipynb\"><img src=\"__pv_it\\6f51ddc5fe9b93460c789e2d009b1947a5dacb870\\expr.png\" style=\"display:inline;vertical-align:middle;\" /></a><br>\n",
       "<strong id=\"add_3_0\"><a class=\"ProveItLink\" href=\"_proofs_\\add_3_0.ipynb\">add_3_0</a>:</strong> <a class=\"ProveItLink\" href=\"__pv_it\\164ba82b69f1857025eed2183f5d31ebce3d990f0\\expr.ipynb\"><img src=\"__pv_it\\164ba82b69f1857025eed2183f5d31ebce3d990f0\\expr.png\" style=\"display:inline;vertical-align:middle;\" /></a><br>\n",
       "<strong id=\"add_4_0\"><a class=\"ProveItLink\" href=\"_proofs_\\add_4_0.ipynb\">add_4_0</a>:</strong> <a class=\"ProveItLink\" href=\"__pv_it\\25800639e6d299859f48a21e204c1c94910078d80\\expr.ipynb\"><img src=\"__pv_it\\25800639e6d299859f48a21e204c1c94910078d80\\expr.png\" style=\"display:inline;vertical-align:middle;\" /></a><br>\n",
       "<strong id=\"add_5_0\"><a class=\"ProveItLink\" href=\"_proofs_\\add_5_0.ipynb\">add_5_0</a>:</strong> <a class=\"ProveItLink\" href=\"__pv_it\\cb5079bb9c43660589c35b941eafdd400cc9df8a0\\expr.ipynb\"><img src=\"__pv_it\\cb5079bb9c43660589c35b941eafdd400cc9df8a0\\expr.png\" style=\"display:inline;vertical-align:middle;\" /></a><br>\n",
       "<strong id=\"add_6_0\"><a class=\"ProveItLink\" href=\"_proofs_\\add_6_0.ipynb\">add_6_0</a>:</strong> <a class=\"ProveItLink\" href=\"__pv_it\\1475fa3585d215332e685cc5530682e85f027c3f0\\expr.ipynb\"><img src=\"__pv_it\\1475fa3585d215332e685cc5530682e85f027c3f0\\expr.png\" style=\"display:inline;vertical-align:middle;\" /></a><br>\n",
       "<strong id=\"add_7_0\"><a class=\"ProveItLink\" href=\"_proofs_\\add_7_0.ipynb\">add_7_0</a>:</strong> <a class=\"ProveItLink\" href=\"__pv_it\\b298bf1880353f674163864817a78ecf0c2c6d7b0\\expr.ipynb\"><img src=\"__pv_it\\b298bf1880353f674163864817a78ecf0c2c6d7b0\\expr.png\" style=\"display:inline;vertical-align:middle;\" /></a><br>\n",
       "<strong id=\"add_8_0\"><a class=\"ProveItLink\" href=\"_proofs_\\add_8_0.ipynb\">add_8_0</a>:</strong> <a class=\"ProveItLink\" href=\"__pv_it\\8bcba583981c2f03bb5ad2703837d2dcbaa570470\\expr.ipynb\"><img src=\"__pv_it\\8bcba583981c2f03bb5ad2703837d2dcbaa570470\\expr.png\" style=\"display:inline;vertical-align:middle;\" /></a><br>\n",
       "<strong id=\"add_9_0\"><a class=\"ProveItLink\" href=\"_proofs_\\add_9_0.ipynb\">add_9_0</a>:</strong> <a class=\"ProveItLink\" href=\"__pv_it\\a94fcae820d5c084c63dac7fbb8e347cd99686900\\expr.ipynb\"><img src=\"__pv_it\\a94fcae820d5c084c63dac7fbb8e347cd99686900\\expr.png\" style=\"display:inline;vertical-align:middle;\" /></a><br>"
      ],
      "text/plain": [
       "add_0_0: (0 + 0) = 0\n",
       "add_1_0: (1 + 0) = 1\n",
       "add_2_0: (2 + 0) = 2\n",
       "add_3_0: (3 + 0) = 3\n",
       "add_4_0: (4 + 0) = 4\n",
       "add_5_0: (5 + 0) = 5\n",
       "add_6_0: (6 + 0) = 6\n",
       "add_7_0: (7 + 0) = 7\n",
       "add_8_0: (8 + 0) = 8\n",
       "add_9_0: (9 + 0) = 9"
      ]
     },
     "execution_count": 3,
     "metadata": {},
     "output_type": "execute_result"
    }
   ],
   "source": [
    "add_0_0, add_1_0, add_2_0, add_3_0, add_4_0, add_5_0, add_6_0, add_7_0, add_8_0, add_9_0 = [Equals(Add(num(n), num(0)), num(n+0)) for n in range(10)]"
   ]
  },
  {
   "cell_type": "code",
   "execution_count": 4,
   "metadata": {
    "collapsed": false,
    "deletable": true,
    "editable": true
   },
   "outputs": [
    {
     "data": {
      "text/html": [
       "<strong id=\"add_0_1\"><a class=\"ProveItLink\" href=\"_proofs_\\add_0_1.ipynb\">add_0_1</a>:</strong> <a class=\"ProveItLink\" href=\"__pv_it\\a8032a7fc3a693c08242f534e6b79b153ecced060\\expr.ipynb\"><img src=\"__pv_it\\a8032a7fc3a693c08242f534e6b79b153ecced060\\expr.png\" style=\"display:inline;vertical-align:middle;\" /></a><br>\n",
       "<strong id=\"add_1_1\"><a class=\"ProveItLink\" href=\"_proofs_\\add_1_1.ipynb\">add_1_1</a>:</strong> <a class=\"ProveItLink\" href=\"__pv_it\\1f5fc30393a03c999c6f5f3c0d0b67dcf686209a0\\expr.ipynb\"><img src=\"__pv_it\\1f5fc30393a03c999c6f5f3c0d0b67dcf686209a0\\expr.png\" style=\"display:inline;vertical-align:middle;\" /></a><br>\n",
       "<strong id=\"add_2_1\"><a class=\"ProveItLink\" href=\"_proofs_\\add_2_1.ipynb\">add_2_1</a>:</strong> <a class=\"ProveItLink\" href=\"__pv_it\\366b6863aa509433f2c26cb1664345611cfc3ea40\\expr.ipynb\"><img src=\"__pv_it\\366b6863aa509433f2c26cb1664345611cfc3ea40\\expr.png\" style=\"display:inline;vertical-align:middle;\" /></a><br>\n",
       "<strong id=\"add_3_1\"><a class=\"ProveItLink\" href=\"_proofs_\\add_3_1.ipynb\">add_3_1</a>:</strong> <a class=\"ProveItLink\" href=\"__pv_it\\718d941564cd718e9b16842caac0a2e448788e1d0\\expr.ipynb\"><img src=\"__pv_it\\718d941564cd718e9b16842caac0a2e448788e1d0\\expr.png\" style=\"display:inline;vertical-align:middle;\" /></a><br>\n",
       "<strong id=\"add_4_1\"><a class=\"ProveItLink\" href=\"_proofs_\\add_4_1.ipynb\">add_4_1</a>:</strong> <a class=\"ProveItLink\" href=\"__pv_it\\8ec7c40715fb76c0299f5d1738f05301132582830\\expr.ipynb\"><img src=\"__pv_it\\8ec7c40715fb76c0299f5d1738f05301132582830\\expr.png\" style=\"display:inline;vertical-align:middle;\" /></a><br>\n",
       "<strong id=\"add_5_1\"><a class=\"ProveItLink\" href=\"_proofs_\\add_5_1.ipynb\">add_5_1</a>:</strong> <a class=\"ProveItLink\" href=\"__pv_it\\5ed86373a4b86fd680760c7d9406ddc870e4d9110\\expr.ipynb\"><img src=\"__pv_it\\5ed86373a4b86fd680760c7d9406ddc870e4d9110\\expr.png\" style=\"display:inline;vertical-align:middle;\" /></a><br>\n",
       "<strong id=\"add_6_1\"><a class=\"ProveItLink\" href=\"_proofs_\\add_6_1.ipynb\">add_6_1</a>:</strong> <a class=\"ProveItLink\" href=\"__pv_it\\ecd816cb4d9bcaa617b7b4486d7079ca8e47ad630\\expr.ipynb\"><img src=\"__pv_it\\ecd816cb4d9bcaa617b7b4486d7079ca8e47ad630\\expr.png\" style=\"display:inline;vertical-align:middle;\" /></a><br>\n",
       "<strong id=\"add_7_1\"><a class=\"ProveItLink\" href=\"_proofs_\\add_7_1.ipynb\">add_7_1</a>:</strong> <a class=\"ProveItLink\" href=\"__pv_it\\ae5d109c47a8f87b9fba32a9579f7f173b07a11d0\\expr.ipynb\"><img src=\"__pv_it\\ae5d109c47a8f87b9fba32a9579f7f173b07a11d0\\expr.png\" style=\"display:inline;vertical-align:middle;\" /></a><br>\n",
       "<strong id=\"add_8_1\"><a class=\"ProveItLink\" href=\"_proofs_\\add_8_1.ipynb\">add_8_1</a>:</strong> <a class=\"ProveItLink\" href=\"__pv_it\\9228d1c953ee3292e03463170460187b3c77485b0\\expr.ipynb\"><img src=\"__pv_it\\9228d1c953ee3292e03463170460187b3c77485b0\\expr.png\" style=\"display:inline;vertical-align:middle;\" /></a><br>\n",
       "<strong id=\"add_9_1\"><a class=\"ProveItLink\" href=\"_proofs_\\add_9_1.ipynb\">add_9_1</a>:</strong> <a class=\"ProveItLink\" href=\"__pv_it\\f52fd57156ed8e92d347115afa2ad0521180f58b0\\expr.ipynb\"><img src=\"__pv_it\\f52fd57156ed8e92d347115afa2ad0521180f58b0\\expr.png\" style=\"display:inline;vertical-align:middle;\" /></a><br>"
      ],
      "text/plain": [
       "add_0_1: (0 + 1) = 1\n",
       "add_1_1: (1 + 1) = 2\n",
       "add_2_1: (2 + 1) = 3\n",
       "add_3_1: (3 + 1) = 4\n",
       "add_4_1: (4 + 1) = 5\n",
       "add_5_1: (5 + 1) = 6\n",
       "add_6_1: (6 + 1) = 7\n",
       "add_7_1: (7 + 1) = 8\n",
       "add_8_1: (8 + 1) = 9\n",
       "add_9_1: (9 + 1) = 10"
      ]
     },
     "execution_count": 4,
     "metadata": {},
     "output_type": "execute_result"
    }
   ],
   "source": [
    "add_0_1, add_1_1, add_2_1, add_3_1, add_4_1, add_5_1, add_6_1, add_7_1, add_8_1, add_9_1 = [Equals(Add(num(n), num(1)), num(n+1)) for n in range(10)]"
   ]
  },
  {
   "cell_type": "code",
   "execution_count": 5,
   "metadata": {
    "collapsed": false,
    "deletable": true,
    "editable": true
   },
   "outputs": [
    {
     "data": {
      "text/html": [
       "<strong id=\"add_0_2\"><a class=\"ProveItLink\" href=\"_proofs_\\add_0_2.ipynb\">add_0_2</a>:</strong> <a class=\"ProveItLink\" href=\"__pv_it\\469306d4250cba7071fb4b3c4518d82db7d275b20\\expr.ipynb\"><img src=\"__pv_it\\469306d4250cba7071fb4b3c4518d82db7d275b20\\expr.png\" style=\"display:inline;vertical-align:middle;\" /></a><br>\n",
       "<strong id=\"add_1_2\"><a class=\"ProveItLink\" href=\"_proofs_\\add_1_2.ipynb\">add_1_2</a>:</strong> <a class=\"ProveItLink\" href=\"__pv_it\\8398d5f104cd493de4ccb6e177cd95005407df4c0\\expr.ipynb\"><img src=\"__pv_it\\8398d5f104cd493de4ccb6e177cd95005407df4c0\\expr.png\" style=\"display:inline;vertical-align:middle;\" /></a><br>\n",
       "<strong id=\"add_2_2\"><a class=\"ProveItLink\" href=\"_proofs_\\add_2_2.ipynb\">add_2_2</a>:</strong> <a class=\"ProveItLink\" href=\"__pv_it\\054efdc3a64674cfb5aaa5ca4b163f8f182f6e240\\expr.ipynb\"><img src=\"__pv_it\\054efdc3a64674cfb5aaa5ca4b163f8f182f6e240\\expr.png\" style=\"display:inline;vertical-align:middle;\" /></a><br>\n",
       "<strong id=\"add_3_2\"><a class=\"ProveItLink\" href=\"_proofs_\\add_3_2.ipynb\">add_3_2</a>:</strong> <a class=\"ProveItLink\" href=\"__pv_it\\ef3c054af39933b9e34967179d57194d65f79d030\\expr.ipynb\"><img src=\"__pv_it\\ef3c054af39933b9e34967179d57194d65f79d030\\expr.png\" style=\"display:inline;vertical-align:middle;\" /></a><br>\n",
       "<strong id=\"add_4_2\"><a class=\"ProveItLink\" href=\"_proofs_\\add_4_2.ipynb\">add_4_2</a>:</strong> <a class=\"ProveItLink\" href=\"__pv_it\\6ab777419987df68c0164344b83bf9ae787d5bb80\\expr.ipynb\"><img src=\"__pv_it\\6ab777419987df68c0164344b83bf9ae787d5bb80\\expr.png\" style=\"display:inline;vertical-align:middle;\" /></a><br>\n",
       "<strong id=\"add_5_2\"><a class=\"ProveItLink\" href=\"_proofs_\\add_5_2.ipynb\">add_5_2</a>:</strong> <a class=\"ProveItLink\" href=\"__pv_it\\b731c4f1a5d05a32defeac8110fedaeb502b28110\\expr.ipynb\"><img src=\"__pv_it\\b731c4f1a5d05a32defeac8110fedaeb502b28110\\expr.png\" style=\"display:inline;vertical-align:middle;\" /></a><br>\n",
       "<strong id=\"add_6_2\"><a class=\"ProveItLink\" href=\"_proofs_\\add_6_2.ipynb\">add_6_2</a>:</strong> <a class=\"ProveItLink\" href=\"__pv_it\\48664fab2403f79b8991f6d18e1db2d503f2b4050\\expr.ipynb\"><img src=\"__pv_it\\48664fab2403f79b8991f6d18e1db2d503f2b4050\\expr.png\" style=\"display:inline;vertical-align:middle;\" /></a><br>\n",
       "<strong id=\"add_7_2\"><a class=\"ProveItLink\" href=\"_proofs_\\add_7_2.ipynb\">add_7_2</a>:</strong> <a class=\"ProveItLink\" href=\"__pv_it\\76728370d49b57834c6e8069378a062986fc9cea0\\expr.ipynb\"><img src=\"__pv_it\\76728370d49b57834c6e8069378a062986fc9cea0\\expr.png\" style=\"display:inline;vertical-align:middle;\" /></a><br>\n",
       "<strong id=\"add_8_2\"><a class=\"ProveItLink\" href=\"_proofs_\\add_8_2.ipynb\">add_8_2</a>:</strong> <a class=\"ProveItLink\" href=\"__pv_it\\bb328d1cb5d8251ea3af4525033cb7034a90bf880\\expr.ipynb\"><img src=\"__pv_it\\bb328d1cb5d8251ea3af4525033cb7034a90bf880\\expr.png\" style=\"display:inline;vertical-align:middle;\" /></a><br>\n",
       "<strong id=\"add_9_2\"><a class=\"ProveItLink\" href=\"_proofs_\\add_9_2.ipynb\">add_9_2</a>:</strong> <a class=\"ProveItLink\" href=\"__pv_it\\fdff5fe5fd6db024a19440b809af2c2a85f8a73f0\\expr.ipynb\"><img src=\"__pv_it\\fdff5fe5fd6db024a19440b809af2c2a85f8a73f0\\expr.png\" style=\"display:inline;vertical-align:middle;\" /></a><br>"
      ],
      "text/plain": [
       "add_0_2: (0 + 2) = 2\n",
       "add_1_2: (1 + 2) = 3\n",
       "add_2_2: (2 + 2) = 4\n",
       "add_3_2: (3 + 2) = 5\n",
       "add_4_2: (4 + 2) = 6\n",
       "add_5_2: (5 + 2) = 7\n",
       "add_6_2: (6 + 2) = 8\n",
       "add_7_2: (7 + 2) = 9\n",
       "add_8_2: (8 + 2) = 10\n",
       "add_9_2: (9 + 2) = 11"
      ]
     },
     "execution_count": 5,
     "metadata": {},
     "output_type": "execute_result"
    }
   ],
   "source": [
    "add_0_2, add_1_2, add_2_2, add_3_2, add_4_2, add_5_2, add_6_2, add_7_2, add_8_2, add_9_2 = [Equals(Add(num(n), num(2)), num(n+2)) for n in range(10)]"
   ]
  },
  {
   "cell_type": "code",
   "execution_count": 6,
   "metadata": {
    "collapsed": false,
    "deletable": true,
    "editable": true
   },
   "outputs": [
    {
     "data": {
      "text/html": [
       "<strong id=\"add_0_3\"><a class=\"ProveItLink\" href=\"_proofs_\\add_0_3.ipynb\">add_0_3</a>:</strong> <a class=\"ProveItLink\" href=\"__pv_it\\52f1a6e5b7994f8bd1e344b5cd9e23269c3022750\\expr.ipynb\"><img src=\"__pv_it\\52f1a6e5b7994f8bd1e344b5cd9e23269c3022750\\expr.png\" style=\"display:inline;vertical-align:middle;\" /></a><br>\n",
       "<strong id=\"add_1_3\"><a class=\"ProveItLink\" href=\"_proofs_\\add_1_3.ipynb\">add_1_3</a>:</strong> <a class=\"ProveItLink\" href=\"__pv_it\\dc67c16fd5e5bac4311d7ed1e15b850961376ded0\\expr.ipynb\"><img src=\"__pv_it\\dc67c16fd5e5bac4311d7ed1e15b850961376ded0\\expr.png\" style=\"display:inline;vertical-align:middle;\" /></a><br>\n",
       "<strong id=\"add_2_3\"><a class=\"ProveItLink\" href=\"_proofs_\\add_2_3.ipynb\">add_2_3</a>:</strong> <a class=\"ProveItLink\" href=\"__pv_it\\640c376dc9850736503306d965c4234d26db9cba0\\expr.ipynb\"><img src=\"__pv_it\\640c376dc9850736503306d965c4234d26db9cba0\\expr.png\" style=\"display:inline;vertical-align:middle;\" /></a><br>\n",
       "<strong id=\"add_3_3\"><a class=\"ProveItLink\" href=\"_proofs_\\add_3_3.ipynb\">add_3_3</a>:</strong> <a class=\"ProveItLink\" href=\"__pv_it\\8c9efa610ffccd7c5e2f023cd8cf7d100cc2bf210\\expr.ipynb\"><img src=\"__pv_it\\8c9efa610ffccd7c5e2f023cd8cf7d100cc2bf210\\expr.png\" style=\"display:inline;vertical-align:middle;\" /></a><br>\n",
       "<strong id=\"add_4_3\"><a class=\"ProveItLink\" href=\"_proofs_\\add_4_3.ipynb\">add_4_3</a>:</strong> <a class=\"ProveItLink\" href=\"__pv_it\\619e026eeb6a70e4f513595fbb11e6c721e0affe0\\expr.ipynb\"><img src=\"__pv_it\\619e026eeb6a70e4f513595fbb11e6c721e0affe0\\expr.png\" style=\"display:inline;vertical-align:middle;\" /></a><br>\n",
       "<strong id=\"add_5_3\"><a class=\"ProveItLink\" href=\"_proofs_\\add_5_3.ipynb\">add_5_3</a>:</strong> <a class=\"ProveItLink\" href=\"__pv_it\\0f79223668200ccc1773a16b3eae28f84f97017f0\\expr.ipynb\"><img src=\"__pv_it\\0f79223668200ccc1773a16b3eae28f84f97017f0\\expr.png\" style=\"display:inline;vertical-align:middle;\" /></a><br>\n",
       "<strong id=\"add_6_3\"><a class=\"ProveItLink\" href=\"_proofs_\\add_6_3.ipynb\">add_6_3</a>:</strong> <a class=\"ProveItLink\" href=\"__pv_it\\051dec6b70d7c7fdddf0c95c6d88906fa01f1f190\\expr.ipynb\"><img src=\"__pv_it\\051dec6b70d7c7fdddf0c95c6d88906fa01f1f190\\expr.png\" style=\"display:inline;vertical-align:middle;\" /></a><br>\n",
       "<strong id=\"add_7_3\"><a class=\"ProveItLink\" href=\"_proofs_\\add_7_3.ipynb\">add_7_3</a>:</strong> <a class=\"ProveItLink\" href=\"__pv_it\\00729e41bf5da4851982b5c349735d14c60e516c0\\expr.ipynb\"><img src=\"__pv_it\\00729e41bf5da4851982b5c349735d14c60e516c0\\expr.png\" style=\"display:inline;vertical-align:middle;\" /></a><br>\n",
       "<strong id=\"add_8_3\"><a class=\"ProveItLink\" href=\"_proofs_\\add_8_3.ipynb\">add_8_3</a>:</strong> <a class=\"ProveItLink\" href=\"__pv_it\\b105f0f76a6a9d0dfa09d3bec8bc924772b94ada0\\expr.ipynb\"><img src=\"__pv_it\\b105f0f76a6a9d0dfa09d3bec8bc924772b94ada0\\expr.png\" style=\"display:inline;vertical-align:middle;\" /></a><br>\n",
       "<strong id=\"add_9_3\"><a class=\"ProveItLink\" href=\"_proofs_\\add_9_3.ipynb\">add_9_3</a>:</strong> <a class=\"ProveItLink\" href=\"__pv_it\\969bdde5f834506dc6cfd9e20dc09fcf04fcdd130\\expr.ipynb\"><img src=\"__pv_it\\969bdde5f834506dc6cfd9e20dc09fcf04fcdd130\\expr.png\" style=\"display:inline;vertical-align:middle;\" /></a><br>"
      ],
      "text/plain": [
       "add_0_3: (0 + 3) = 3\n",
       "add_1_3: (1 + 3) = 4\n",
       "add_2_3: (2 + 3) = 5\n",
       "add_3_3: (3 + 3) = 6\n",
       "add_4_3: (4 + 3) = 7\n",
       "add_5_3: (5 + 3) = 8\n",
       "add_6_3: (6 + 3) = 9\n",
       "add_7_3: (7 + 3) = 10\n",
       "add_8_3: (8 + 3) = 11\n",
       "add_9_3: (9 + 3) = 12"
      ]
     },
     "execution_count": 6,
     "metadata": {},
     "output_type": "execute_result"
    }
   ],
   "source": [
    "add_0_3, add_1_3, add_2_3, add_3_3, add_4_3, add_5_3, add_6_3, add_7_3, add_8_3, add_9_3 = [Equals(Add(num(n), num(3)), num(n+3)) for n in range(10)]"
   ]
  },
  {
   "cell_type": "code",
   "execution_count": 7,
   "metadata": {
    "collapsed": false,
    "deletable": true,
    "editable": true
   },
   "outputs": [
    {
     "data": {
      "text/html": [
       "<strong id=\"add_0_4\"><a class=\"ProveItLink\" href=\"_proofs_\\add_0_4.ipynb\">add_0_4</a>:</strong> <a class=\"ProveItLink\" href=\"__pv_it\\796962358fc27d74f61ffd88e0c4799b297651290\\expr.ipynb\"><img src=\"__pv_it\\796962358fc27d74f61ffd88e0c4799b297651290\\expr.png\" style=\"display:inline;vertical-align:middle;\" /></a><br>\n",
       "<strong id=\"add_1_4\"><a class=\"ProveItLink\" href=\"_proofs_\\add_1_4.ipynb\">add_1_4</a>:</strong> <a class=\"ProveItLink\" href=\"__pv_it\\422bca7f6759c93a2626d22eeae8f17b639448e40\\expr.ipynb\"><img src=\"__pv_it\\422bca7f6759c93a2626d22eeae8f17b639448e40\\expr.png\" style=\"display:inline;vertical-align:middle;\" /></a><br>\n",
       "<strong id=\"add_2_4\"><a class=\"ProveItLink\" href=\"_proofs_\\add_2_4.ipynb\">add_2_4</a>:</strong> <a class=\"ProveItLink\" href=\"__pv_it\\e40ac358c04a95e830dd692d8276a5886a383ad70\\expr.ipynb\"><img src=\"__pv_it\\e40ac358c04a95e830dd692d8276a5886a383ad70\\expr.png\" style=\"display:inline;vertical-align:middle;\" /></a><br>\n",
       "<strong id=\"add_3_4\"><a class=\"ProveItLink\" href=\"_proofs_\\add_3_4.ipynb\">add_3_4</a>:</strong> <a class=\"ProveItLink\" href=\"__pv_it\\611eea646b1107d4f42be7f1a0d905dbaa3b62e60\\expr.ipynb\"><img src=\"__pv_it\\611eea646b1107d4f42be7f1a0d905dbaa3b62e60\\expr.png\" style=\"display:inline;vertical-align:middle;\" /></a><br>\n",
       "<strong id=\"add_4_4\"><a class=\"ProveItLink\" href=\"_proofs_\\add_4_4.ipynb\">add_4_4</a>:</strong> <a class=\"ProveItLink\" href=\"__pv_it\\4c472758e986126d824ed63f648f45ed4a61a42c0\\expr.ipynb\"><img src=\"__pv_it\\4c472758e986126d824ed63f648f45ed4a61a42c0\\expr.png\" style=\"display:inline;vertical-align:middle;\" /></a><br>\n",
       "<strong id=\"add_5_4\"><a class=\"ProveItLink\" href=\"_proofs_\\add_5_4.ipynb\">add_5_4</a>:</strong> <a class=\"ProveItLink\" href=\"__pv_it\\a5a1b06852c0d99f9a16c80f2d5c7375ddad85fc0\\expr.ipynb\"><img src=\"__pv_it\\a5a1b06852c0d99f9a16c80f2d5c7375ddad85fc0\\expr.png\" style=\"display:inline;vertical-align:middle;\" /></a><br>\n",
       "<strong id=\"add_6_4\"><a class=\"ProveItLink\" href=\"_proofs_\\add_6_4.ipynb\">add_6_4</a>:</strong> <a class=\"ProveItLink\" href=\"__pv_it\\0da8105110187e06e3f1f416c46616fb07cc58170\\expr.ipynb\"><img src=\"__pv_it\\0da8105110187e06e3f1f416c46616fb07cc58170\\expr.png\" style=\"display:inline;vertical-align:middle;\" /></a><br>\n",
       "<strong id=\"add_7_4\"><a class=\"ProveItLink\" href=\"_proofs_\\add_7_4.ipynb\">add_7_4</a>:</strong> <a class=\"ProveItLink\" href=\"__pv_it\\3d50c0008160fbbe37ad555b63fe2b5877fff44e0\\expr.ipynb\"><img src=\"__pv_it\\3d50c0008160fbbe37ad555b63fe2b5877fff44e0\\expr.png\" style=\"display:inline;vertical-align:middle;\" /></a><br>\n",
       "<strong id=\"add_8_4\"><a class=\"ProveItLink\" href=\"_proofs_\\add_8_4.ipynb\">add_8_4</a>:</strong> <a class=\"ProveItLink\" href=\"__pv_it\\4bab24d34bd8940839a548d5dd0e694a091f2ca50\\expr.ipynb\"><img src=\"__pv_it\\4bab24d34bd8940839a548d5dd0e694a091f2ca50\\expr.png\" style=\"display:inline;vertical-align:middle;\" /></a><br>\n",
       "<strong id=\"add_9_4\"><a class=\"ProveItLink\" href=\"_proofs_\\add_9_4.ipynb\">add_9_4</a>:</strong> <a class=\"ProveItLink\" href=\"__pv_it\\ffa4fb8ccbfad21f133ef9b5cc85a4b3728c8eb80\\expr.ipynb\"><img src=\"__pv_it\\ffa4fb8ccbfad21f133ef9b5cc85a4b3728c8eb80\\expr.png\" style=\"display:inline;vertical-align:middle;\" /></a><br>"
      ],
      "text/plain": [
       "add_0_4: (0 + 4) = 4\n",
       "add_1_4: (1 + 4) = 5\n",
       "add_2_4: (2 + 4) = 6\n",
       "add_3_4: (3 + 4) = 7\n",
       "add_4_4: (4 + 4) = 8\n",
       "add_5_4: (5 + 4) = 9\n",
       "add_6_4: (6 + 4) = 10\n",
       "add_7_4: (7 + 4) = 11\n",
       "add_8_4: (8 + 4) = 12\n",
       "add_9_4: (9 + 4) = 13"
      ]
     },
     "execution_count": 7,
     "metadata": {},
     "output_type": "execute_result"
    }
   ],
   "source": [
    "add_0_4, add_1_4, add_2_4, add_3_4, add_4_4, add_5_4, add_6_4, add_7_4, add_8_4, add_9_4 = [Equals(Add(num(n), num(4)), num(n+4)) for n in range(10)]"
   ]
  },
  {
   "cell_type": "code",
   "execution_count": 8,
   "metadata": {
    "collapsed": false,
    "deletable": true,
    "editable": true
   },
   "outputs": [
    {
     "data": {
      "text/html": [
       "<strong id=\"add_0_5\"><a class=\"ProveItLink\" href=\"_proofs_\\add_0_5.ipynb\">add_0_5</a>:</strong> <a class=\"ProveItLink\" href=\"__pv_it\\7bc7519565286502567f0e22cde5308a1a6ced020\\expr.ipynb\"><img src=\"__pv_it\\7bc7519565286502567f0e22cde5308a1a6ced020\\expr.png\" style=\"display:inline;vertical-align:middle;\" /></a><br>\n",
       "<strong id=\"add_1_5\"><a class=\"ProveItLink\" href=\"_proofs_\\add_1_5.ipynb\">add_1_5</a>:</strong> <a class=\"ProveItLink\" href=\"__pv_it\\62d89cd065cb1538d9baf012258f1449bbcd66330\\expr.ipynb\"><img src=\"__pv_it\\62d89cd065cb1538d9baf012258f1449bbcd66330\\expr.png\" style=\"display:inline;vertical-align:middle;\" /></a><br>\n",
       "<strong id=\"add_2_5\"><a class=\"ProveItLink\" href=\"_proofs_\\add_2_5.ipynb\">add_2_5</a>:</strong> <a class=\"ProveItLink\" href=\"__pv_it\\8b399e0bf86b6d3b4179ed0753cac737967204de0\\expr.ipynb\"><img src=\"__pv_it\\8b399e0bf86b6d3b4179ed0753cac737967204de0\\expr.png\" style=\"display:inline;vertical-align:middle;\" /></a><br>\n",
       "<strong id=\"add_3_5\"><a class=\"ProveItLink\" href=\"_proofs_\\add_3_5.ipynb\">add_3_5</a>:</strong> <a class=\"ProveItLink\" href=\"__pv_it\\e908f27f6888d35ea928ce50aaaec397be7aafe60\\expr.ipynb\"><img src=\"__pv_it\\e908f27f6888d35ea928ce50aaaec397be7aafe60\\expr.png\" style=\"display:inline;vertical-align:middle;\" /></a><br>\n",
       "<strong id=\"add_4_5\"><a class=\"ProveItLink\" href=\"_proofs_\\add_4_5.ipynb\">add_4_5</a>:</strong> <a class=\"ProveItLink\" href=\"__pv_it\\1a8c4b262c63113bed5b97ee13f9b0750673ffe90\\expr.ipynb\"><img src=\"__pv_it\\1a8c4b262c63113bed5b97ee13f9b0750673ffe90\\expr.png\" style=\"display:inline;vertical-align:middle;\" /></a><br>\n",
       "<strong id=\"add_5_5\"><a class=\"ProveItLink\" href=\"_proofs_\\add_5_5.ipynb\">add_5_5</a>:</strong> <a class=\"ProveItLink\" href=\"__pv_it\\9c8045fc8da86bbfa781a46a217e8d1c94974df20\\expr.ipynb\"><img src=\"__pv_it\\9c8045fc8da86bbfa781a46a217e8d1c94974df20\\expr.png\" style=\"display:inline;vertical-align:middle;\" /></a><br>\n",
       "<strong id=\"add_6_5\"><a class=\"ProveItLink\" href=\"_proofs_\\add_6_5.ipynb\">add_6_5</a>:</strong> <a class=\"ProveItLink\" href=\"__pv_it\\fb111f74e73d7f91529e699ffa848df2fbdec1b20\\expr.ipynb\"><img src=\"__pv_it\\fb111f74e73d7f91529e699ffa848df2fbdec1b20\\expr.png\" style=\"display:inline;vertical-align:middle;\" /></a><br>\n",
       "<strong id=\"add_7_5\"><a class=\"ProveItLink\" href=\"_proofs_\\add_7_5.ipynb\">add_7_5</a>:</strong> <a class=\"ProveItLink\" href=\"__pv_it\\f32f92204fa0214eb08db428a3c73e30aeac81ab0\\expr.ipynb\"><img src=\"__pv_it\\f32f92204fa0214eb08db428a3c73e30aeac81ab0\\expr.png\" style=\"display:inline;vertical-align:middle;\" /></a><br>\n",
       "<strong id=\"add_8_5\"><a class=\"ProveItLink\" href=\"_proofs_\\add_8_5.ipynb\">add_8_5</a>:</strong> <a class=\"ProveItLink\" href=\"__pv_it\\7195c78ee7b596cf56d01bf3d3adc812442ccf9b0\\expr.ipynb\"><img src=\"__pv_it\\7195c78ee7b596cf56d01bf3d3adc812442ccf9b0\\expr.png\" style=\"display:inline;vertical-align:middle;\" /></a><br>\n",
       "<strong id=\"add_9_5\"><a class=\"ProveItLink\" href=\"_proofs_\\add_9_5.ipynb\">add_9_5</a>:</strong> <a class=\"ProveItLink\" href=\"__pv_it\\0228a419759b41f1ae3ef16833409b6b6d07e6820\\expr.ipynb\"><img src=\"__pv_it\\0228a419759b41f1ae3ef16833409b6b6d07e6820\\expr.png\" style=\"display:inline;vertical-align:middle;\" /></a><br>"
      ],
      "text/plain": [
       "add_0_5: (0 + 5) = 5\n",
       "add_1_5: (1 + 5) = 6\n",
       "add_2_5: (2 + 5) = 7\n",
       "add_3_5: (3 + 5) = 8\n",
       "add_4_5: (4 + 5) = 9\n",
       "add_5_5: (5 + 5) = 10\n",
       "add_6_5: (6 + 5) = 11\n",
       "add_7_5: (7 + 5) = 12\n",
       "add_8_5: (8 + 5) = 13\n",
       "add_9_5: (9 + 5) = 14"
      ]
     },
     "execution_count": 8,
     "metadata": {},
     "output_type": "execute_result"
    }
   ],
   "source": [
    "add_0_5, add_1_5, add_2_5, add_3_5, add_4_5, add_5_5, add_6_5, add_7_5, add_8_5, add_9_5 = [Equals(Add(num(n), num(5)), num(n+5)) for n in range(10)]"
   ]
  },
  {
   "cell_type": "code",
   "execution_count": 9,
   "metadata": {
    "collapsed": false,
    "deletable": true,
    "editable": true
   },
   "outputs": [
    {
     "data": {
      "text/html": [
       "<strong id=\"add_0_6\"><a class=\"ProveItLink\" href=\"_proofs_\\add_0_6.ipynb\">add_0_6</a>:</strong> <a class=\"ProveItLink\" href=\"__pv_it\\1013a6af15a7e261b029d9fa20ecfdd6dccc37ac0\\expr.ipynb\"><img src=\"__pv_it\\1013a6af15a7e261b029d9fa20ecfdd6dccc37ac0\\expr.png\" style=\"display:inline;vertical-align:middle;\" /></a><br>\n",
       "<strong id=\"add_1_6\"><a class=\"ProveItLink\" href=\"_proofs_\\add_1_6.ipynb\">add_1_6</a>:</strong> <a class=\"ProveItLink\" href=\"__pv_it\\438ddc65adaeae8809f7445e26a2d58f40a81d500\\expr.ipynb\"><img src=\"__pv_it\\438ddc65adaeae8809f7445e26a2d58f40a81d500\\expr.png\" style=\"display:inline;vertical-align:middle;\" /></a><br>\n",
       "<strong id=\"add_2_6\"><a class=\"ProveItLink\" href=\"_proofs_\\add_2_6.ipynb\">add_2_6</a>:</strong> <a class=\"ProveItLink\" href=\"__pv_it\\a4c4c17542644252c1f089a951f2f57e0cc3ff9e0\\expr.ipynb\"><img src=\"__pv_it\\a4c4c17542644252c1f089a951f2f57e0cc3ff9e0\\expr.png\" style=\"display:inline;vertical-align:middle;\" /></a><br>\n",
       "<strong id=\"add_3_6\"><a class=\"ProveItLink\" href=\"_proofs_\\add_3_6.ipynb\">add_3_6</a>:</strong> <a class=\"ProveItLink\" href=\"__pv_it\\bd6c75a064d98b7c00c0e5ee283bff7cd9cfdf750\\expr.ipynb\"><img src=\"__pv_it\\bd6c75a064d98b7c00c0e5ee283bff7cd9cfdf750\\expr.png\" style=\"display:inline;vertical-align:middle;\" /></a><br>\n",
       "<strong id=\"add_4_6\"><a class=\"ProveItLink\" href=\"_proofs_\\add_4_6.ipynb\">add_4_6</a>:</strong> <a class=\"ProveItLink\" href=\"__pv_it\\1ecc51c8f561a00229f933cf407e4f9764bd79310\\expr.ipynb\"><img src=\"__pv_it\\1ecc51c8f561a00229f933cf407e4f9764bd79310\\expr.png\" style=\"display:inline;vertical-align:middle;\" /></a><br>\n",
       "<strong id=\"add_5_6\"><a class=\"ProveItLink\" href=\"_proofs_\\add_5_6.ipynb\">add_5_6</a>:</strong> <a class=\"ProveItLink\" href=\"__pv_it\\0f883d81041279e3613d424c74a53ba86a452c260\\expr.ipynb\"><img src=\"__pv_it\\0f883d81041279e3613d424c74a53ba86a452c260\\expr.png\" style=\"display:inline;vertical-align:middle;\" /></a><br>\n",
       "<strong id=\"add_6_6\"><a class=\"ProveItLink\" href=\"_proofs_\\add_6_6.ipynb\">add_6_6</a>:</strong> <a class=\"ProveItLink\" href=\"__pv_it\\2f929fe32da923684645182d725d4594c9806c210\\expr.ipynb\"><img src=\"__pv_it\\2f929fe32da923684645182d725d4594c9806c210\\expr.png\" style=\"display:inline;vertical-align:middle;\" /></a><br>\n",
       "<strong id=\"add_7_6\"><a class=\"ProveItLink\" href=\"_proofs_\\add_7_6.ipynb\">add_7_6</a>:</strong> <a class=\"ProveItLink\" href=\"__pv_it\\2b3f9fc747b6ab55b43b222f2f78ab25f77abd3c0\\expr.ipynb\"><img src=\"__pv_it\\2b3f9fc747b6ab55b43b222f2f78ab25f77abd3c0\\expr.png\" style=\"display:inline;vertical-align:middle;\" /></a><br>\n",
       "<strong id=\"add_8_6\"><a class=\"ProveItLink\" href=\"_proofs_\\add_8_6.ipynb\">add_8_6</a>:</strong> <a class=\"ProveItLink\" href=\"__pv_it\\b52160801713a463adb12768857eb53f487e81f50\\expr.ipynb\"><img src=\"__pv_it\\b52160801713a463adb12768857eb53f487e81f50\\expr.png\" style=\"display:inline;vertical-align:middle;\" /></a><br>\n",
       "<strong id=\"add_9_6\"><a class=\"ProveItLink\" href=\"_proofs_\\add_9_6.ipynb\">add_9_6</a>:</strong> <a class=\"ProveItLink\" href=\"__pv_it\\7a096704464f1cd1876ad452cead70b78d9ac5100\\expr.ipynb\"><img src=\"__pv_it\\7a096704464f1cd1876ad452cead70b78d9ac5100\\expr.png\" style=\"display:inline;vertical-align:middle;\" /></a><br>"
      ],
      "text/plain": [
       "add_0_6: (0 + 6) = 6\n",
       "add_1_6: (1 + 6) = 7\n",
       "add_2_6: (2 + 6) = 8\n",
       "add_3_6: (3 + 6) = 9\n",
       "add_4_6: (4 + 6) = 10\n",
       "add_5_6: (5 + 6) = 11\n",
       "add_6_6: (6 + 6) = 12\n",
       "add_7_6: (7 + 6) = 13\n",
       "add_8_6: (8 + 6) = 14\n",
       "add_9_6: (9 + 6) = 15"
      ]
     },
     "execution_count": 9,
     "metadata": {},
     "output_type": "execute_result"
    }
   ],
   "source": [
    "add_0_6, add_1_6, add_2_6, add_3_6, add_4_6, add_5_6, add_6_6, add_7_6, add_8_6, add_9_6 = [Equals(Add(num(n), num(6)), num(n+6)) for n in range(10)]"
   ]
  },
  {
   "cell_type": "code",
   "execution_count": 10,
   "metadata": {
    "collapsed": false,
    "deletable": true,
    "editable": true
   },
   "outputs": [
    {
     "data": {
      "text/html": [
       "<strong id=\"add_0_7\"><a class=\"ProveItLink\" href=\"_proofs_\\add_0_7.ipynb\">add_0_7</a>:</strong> <a class=\"ProveItLink\" href=\"__pv_it\\665a49c3e14f9238b32eabf16b3e584348db21dc0\\expr.ipynb\"><img src=\"__pv_it\\665a49c3e14f9238b32eabf16b3e584348db21dc0\\expr.png\" style=\"display:inline;vertical-align:middle;\" /></a><br>\n",
       "<strong id=\"add_1_7\"><a class=\"ProveItLink\" href=\"_proofs_\\add_1_7.ipynb\">add_1_7</a>:</strong> <a class=\"ProveItLink\" href=\"__pv_it\\ecb1f5d178babc0862058a9af01acc724e94c0750\\expr.ipynb\"><img src=\"__pv_it\\ecb1f5d178babc0862058a9af01acc724e94c0750\\expr.png\" style=\"display:inline;vertical-align:middle;\" /></a><br>\n",
       "<strong id=\"add_2_7\"><a class=\"ProveItLink\" href=\"_proofs_\\add_2_7.ipynb\">add_2_7</a>:</strong> <a class=\"ProveItLink\" href=\"__pv_it\\e0dbf292addeea5c95631a2a2a34c578bd9cb0010\\expr.ipynb\"><img src=\"__pv_it\\e0dbf292addeea5c95631a2a2a34c578bd9cb0010\\expr.png\" style=\"display:inline;vertical-align:middle;\" /></a><br>\n",
       "<strong id=\"add_3_7\"><a class=\"ProveItLink\" href=\"_proofs_\\add_3_7.ipynb\">add_3_7</a>:</strong> <a class=\"ProveItLink\" href=\"__pv_it\\04418ad7a671185eaa12612f4f756df21578f6da0\\expr.ipynb\"><img src=\"__pv_it\\04418ad7a671185eaa12612f4f756df21578f6da0\\expr.png\" style=\"display:inline;vertical-align:middle;\" /></a><br>\n",
       "<strong id=\"add_4_7\"><a class=\"ProveItLink\" href=\"_proofs_\\add_4_7.ipynb\">add_4_7</a>:</strong> <a class=\"ProveItLink\" href=\"__pv_it\\73230b3c0dd13cc5e7d3b177a84ff5a838e127a40\\expr.ipynb\"><img src=\"__pv_it\\73230b3c0dd13cc5e7d3b177a84ff5a838e127a40\\expr.png\" style=\"display:inline;vertical-align:middle;\" /></a><br>\n",
       "<strong id=\"add_5_7\"><a class=\"ProveItLink\" href=\"_proofs_\\add_5_7.ipynb\">add_5_7</a>:</strong> <a class=\"ProveItLink\" href=\"__pv_it\\abc56b13096385db5cbb5e9c2e742dcecc4d54810\\expr.ipynb\"><img src=\"__pv_it\\abc56b13096385db5cbb5e9c2e742dcecc4d54810\\expr.png\" style=\"display:inline;vertical-align:middle;\" /></a><br>\n",
       "<strong id=\"add_6_7\"><a class=\"ProveItLink\" href=\"_proofs_\\add_6_7.ipynb\">add_6_7</a>:</strong> <a class=\"ProveItLink\" href=\"__pv_it\\73b3de1f3859fab426a27fe68962b3e785e24bea0\\expr.ipynb\"><img src=\"__pv_it\\73b3de1f3859fab426a27fe68962b3e785e24bea0\\expr.png\" style=\"display:inline;vertical-align:middle;\" /></a><br>\n",
       "<strong id=\"add_7_7\"><a class=\"ProveItLink\" href=\"_proofs_\\add_7_7.ipynb\">add_7_7</a>:</strong> <a class=\"ProveItLink\" href=\"__pv_it\\613084c3e5ce37c9647cd9dcf910c51ff118136a0\\expr.ipynb\"><img src=\"__pv_it\\613084c3e5ce37c9647cd9dcf910c51ff118136a0\\expr.png\" style=\"display:inline;vertical-align:middle;\" /></a><br>\n",
       "<strong id=\"add_8_7\"><a class=\"ProveItLink\" href=\"_proofs_\\add_8_7.ipynb\">add_8_7</a>:</strong> <a class=\"ProveItLink\" href=\"__pv_it\\881d6cebfb1295f80b9a08314230c2aed73dbeb00\\expr.ipynb\"><img src=\"__pv_it\\881d6cebfb1295f80b9a08314230c2aed73dbeb00\\expr.png\" style=\"display:inline;vertical-align:middle;\" /></a><br>\n",
       "<strong id=\"add_9_7\"><a class=\"ProveItLink\" href=\"_proofs_\\add_9_7.ipynb\">add_9_7</a>:</strong> <a class=\"ProveItLink\" href=\"__pv_it\\2438f8336d797cd0a99f2bd530c6e9166107614c0\\expr.ipynb\"><img src=\"__pv_it\\2438f8336d797cd0a99f2bd530c6e9166107614c0\\expr.png\" style=\"display:inline;vertical-align:middle;\" /></a><br>"
      ],
      "text/plain": [
       "add_0_7: (0 + 7) = 7\n",
       "add_1_7: (1 + 7) = 8\n",
       "add_2_7: (2 + 7) = 9\n",
       "add_3_7: (3 + 7) = 10\n",
       "add_4_7: (4 + 7) = 11\n",
       "add_5_7: (5 + 7) = 12\n",
       "add_6_7: (6 + 7) = 13\n",
       "add_7_7: (7 + 7) = 14\n",
       "add_8_7: (8 + 7) = 15\n",
       "add_9_7: (9 + 7) = 16"
      ]
     },
     "execution_count": 10,
     "metadata": {},
     "output_type": "execute_result"
    }
   ],
   "source": [
    "add_0_7, add_1_7, add_2_7, add_3_7, add_4_7, add_5_7, add_6_7, add_7_7, add_8_7, add_9_7 = [Equals(Add(num(n), num(7)), num(n+7)) for n in range(10)]"
   ]
  },
  {
   "cell_type": "code",
   "execution_count": 11,
   "metadata": {
    "collapsed": false,
    "deletable": true,
    "editable": true
   },
   "outputs": [
    {
     "data": {
      "text/html": [
       "<strong id=\"add_0_8\"><a class=\"ProveItLink\" href=\"_proofs_\\add_0_8.ipynb\">add_0_8</a>:</strong> <a class=\"ProveItLink\" href=\"__pv_it\\5f95a30aa38a51c9bf00b66f07b63c19cdb48f860\\expr.ipynb\"><img src=\"__pv_it\\5f95a30aa38a51c9bf00b66f07b63c19cdb48f860\\expr.png\" style=\"display:inline;vertical-align:middle;\" /></a><br>\n",
       "<strong id=\"add_1_8\"><a class=\"ProveItLink\" href=\"_proofs_\\add_1_8.ipynb\">add_1_8</a>:</strong> <a class=\"ProveItLink\" href=\"__pv_it\\8ccf7bed6412ab6e9419f7e8dc338bb7ae5c4d910\\expr.ipynb\"><img src=\"__pv_it\\8ccf7bed6412ab6e9419f7e8dc338bb7ae5c4d910\\expr.png\" style=\"display:inline;vertical-align:middle;\" /></a><br>\n",
       "<strong id=\"add_2_8\"><a class=\"ProveItLink\" href=\"_proofs_\\add_2_8.ipynb\">add_2_8</a>:</strong> <a class=\"ProveItLink\" href=\"__pv_it\\d98dfe1c6aa7ef140f681938c5cdc7465dbd1e980\\expr.ipynb\"><img src=\"__pv_it\\d98dfe1c6aa7ef140f681938c5cdc7465dbd1e980\\expr.png\" style=\"display:inline;vertical-align:middle;\" /></a><br>\n",
       "<strong id=\"add_3_8\"><a class=\"ProveItLink\" href=\"_proofs_\\add_3_8.ipynb\">add_3_8</a>:</strong> <a class=\"ProveItLink\" href=\"__pv_it\\0092b5174df89583943094621a270fb8271a33da0\\expr.ipynb\"><img src=\"__pv_it\\0092b5174df89583943094621a270fb8271a33da0\\expr.png\" style=\"display:inline;vertical-align:middle;\" /></a><br>\n",
       "<strong id=\"add_4_8\"><a class=\"ProveItLink\" href=\"_proofs_\\add_4_8.ipynb\">add_4_8</a>:</strong> <a class=\"ProveItLink\" href=\"__pv_it\\930f9597dcf71abe65e65ea36550daf0dbf038740\\expr.ipynb\"><img src=\"__pv_it\\930f9597dcf71abe65e65ea36550daf0dbf038740\\expr.png\" style=\"display:inline;vertical-align:middle;\" /></a><br>\n",
       "<strong id=\"add_5_8\"><a class=\"ProveItLink\" href=\"_proofs_\\add_5_8.ipynb\">add_5_8</a>:</strong> <a class=\"ProveItLink\" href=\"__pv_it\\087d163c5b2749d8a913e5aabff8b35517f245e00\\expr.ipynb\"><img src=\"__pv_it\\087d163c5b2749d8a913e5aabff8b35517f245e00\\expr.png\" style=\"display:inline;vertical-align:middle;\" /></a><br>\n",
       "<strong id=\"add_6_8\"><a class=\"ProveItLink\" href=\"_proofs_\\add_6_8.ipynb\">add_6_8</a>:</strong> <a class=\"ProveItLink\" href=\"__pv_it\\0d198237e7438780a103a8e10debd43dcd3aafd70\\expr.ipynb\"><img src=\"__pv_it\\0d198237e7438780a103a8e10debd43dcd3aafd70\\expr.png\" style=\"display:inline;vertical-align:middle;\" /></a><br>\n",
       "<strong id=\"add_7_8\"><a class=\"ProveItLink\" href=\"_proofs_\\add_7_8.ipynb\">add_7_8</a>:</strong> <a class=\"ProveItLink\" href=\"__pv_it\\e4e6497045408f1dfb6ea35273ded46f9635b5900\\expr.ipynb\"><img src=\"__pv_it\\e4e6497045408f1dfb6ea35273ded46f9635b5900\\expr.png\" style=\"display:inline;vertical-align:middle;\" /></a><br>\n",
       "<strong id=\"add_8_8\"><a class=\"ProveItLink\" href=\"_proofs_\\add_8_8.ipynb\">add_8_8</a>:</strong> <a class=\"ProveItLink\" href=\"__pv_it\\b013e13553b9b77f73bc938315cad26f3fe7c2de0\\expr.ipynb\"><img src=\"__pv_it\\b013e13553b9b77f73bc938315cad26f3fe7c2de0\\expr.png\" style=\"display:inline;vertical-align:middle;\" /></a><br>\n",
       "<strong id=\"add_9_8\"><a class=\"ProveItLink\" href=\"_proofs_\\add_9_8.ipynb\">add_9_8</a>:</strong> <a class=\"ProveItLink\" href=\"__pv_it\\5af70ba53488b5bc29629c3263c3ea7c9fb16a750\\expr.ipynb\"><img src=\"__pv_it\\5af70ba53488b5bc29629c3263c3ea7c9fb16a750\\expr.png\" style=\"display:inline;vertical-align:middle;\" /></a><br>"
      ],
      "text/plain": [
       "add_0_8: (0 + 8) = 8\n",
       "add_1_8: (1 + 8) = 9\n",
       "add_2_8: (2 + 8) = 10\n",
       "add_3_8: (3 + 8) = 11\n",
       "add_4_8: (4 + 8) = 12\n",
       "add_5_8: (5 + 8) = 13\n",
       "add_6_8: (6 + 8) = 14\n",
       "add_7_8: (7 + 8) = 15\n",
       "add_8_8: (8 + 8) = 16\n",
       "add_9_8: (9 + 8) = 17"
      ]
     },
     "execution_count": 11,
     "metadata": {},
     "output_type": "execute_result"
    }
   ],
   "source": [
    "add_0_8, add_1_8, add_2_8, add_3_8, add_4_8, add_5_8, add_6_8, add_7_8, add_8_8, add_9_8 = [Equals(Add(num(n), num(8)), num(n+8)) for n in range(10)]"
   ]
  },
  {
   "cell_type": "code",
   "execution_count": 12,
   "metadata": {
    "collapsed": false,
    "deletable": true,
    "editable": true
   },
   "outputs": [
    {
     "data": {
      "text/html": [
       "<strong id=\"add_0_9\"><a class=\"ProveItLink\" href=\"_proofs_\\add_0_9.ipynb\">add_0_9</a>:</strong> <a class=\"ProveItLink\" href=\"__pv_it\\2f53d3bf21f39f7cadcba2c2a386c1c0c09ad0db0\\expr.ipynb\"><img src=\"__pv_it\\2f53d3bf21f39f7cadcba2c2a386c1c0c09ad0db0\\expr.png\" style=\"display:inline;vertical-align:middle;\" /></a><br>\n",
       "<strong id=\"add_1_9\"><a class=\"ProveItLink\" href=\"_proofs_\\add_1_9.ipynb\">add_1_9</a>:</strong> <a class=\"ProveItLink\" href=\"__pv_it\\5e9e9697ce6c2dd589f420c8f10eca555bb34d960\\expr.ipynb\"><img src=\"__pv_it\\5e9e9697ce6c2dd589f420c8f10eca555bb34d960\\expr.png\" style=\"display:inline;vertical-align:middle;\" /></a><br>\n",
       "<strong id=\"add_2_9\"><a class=\"ProveItLink\" href=\"_proofs_\\add_2_9.ipynb\">add_2_9</a>:</strong> <a class=\"ProveItLink\" href=\"__pv_it\\da731ec7505d8542d87b08dc1bfd8393a3ec00900\\expr.ipynb\"><img src=\"__pv_it\\da731ec7505d8542d87b08dc1bfd8393a3ec00900\\expr.png\" style=\"display:inline;vertical-align:middle;\" /></a><br>\n",
       "<strong id=\"add_3_9\"><a class=\"ProveItLink\" href=\"_proofs_\\add_3_9.ipynb\">add_3_9</a>:</strong> <a class=\"ProveItLink\" href=\"__pv_it\\c7c943b31181aee6a6aa56d3774b16bf002e302d0\\expr.ipynb\"><img src=\"__pv_it\\c7c943b31181aee6a6aa56d3774b16bf002e302d0\\expr.png\" style=\"display:inline;vertical-align:middle;\" /></a><br>\n",
       "<strong id=\"add_4_9\"><a class=\"ProveItLink\" href=\"_proofs_\\add_4_9.ipynb\">add_4_9</a>:</strong> <a class=\"ProveItLink\" href=\"__pv_it\\c2802c1a36a99e1411b23686e3ac589d40ba3a4c0\\expr.ipynb\"><img src=\"__pv_it\\c2802c1a36a99e1411b23686e3ac589d40ba3a4c0\\expr.png\" style=\"display:inline;vertical-align:middle;\" /></a><br>\n",
       "<strong id=\"add_5_9\"><a class=\"ProveItLink\" href=\"_proofs_\\add_5_9.ipynb\">add_5_9</a>:</strong> <a class=\"ProveItLink\" href=\"__pv_it\\ec06d935ee117cae04fa9347fd93d0b65fa9d0840\\expr.ipynb\"><img src=\"__pv_it\\ec06d935ee117cae04fa9347fd93d0b65fa9d0840\\expr.png\" style=\"display:inline;vertical-align:middle;\" /></a><br>\n",
       "<strong id=\"add_6_9\"><a class=\"ProveItLink\" href=\"_proofs_\\add_6_9.ipynb\">add_6_9</a>:</strong> <a class=\"ProveItLink\" href=\"__pv_it\\f6e111ca4cc62fe1b886139638c961b9d6577e770\\expr.ipynb\"><img src=\"__pv_it\\f6e111ca4cc62fe1b886139638c961b9d6577e770\\expr.png\" style=\"display:inline;vertical-align:middle;\" /></a><br>\n",
       "<strong id=\"add_7_9\"><a class=\"ProveItLink\" href=\"_proofs_\\add_7_9.ipynb\">add_7_9</a>:</strong> <a class=\"ProveItLink\" href=\"__pv_it\\8e82d6f963fd9bc1418b1da004ee866af663900d0\\expr.ipynb\"><img src=\"__pv_it\\8e82d6f963fd9bc1418b1da004ee866af663900d0\\expr.png\" style=\"display:inline;vertical-align:middle;\" /></a><br>\n",
       "<strong id=\"add_8_9\"><a class=\"ProveItLink\" href=\"_proofs_\\add_8_9.ipynb\">add_8_9</a>:</strong> <a class=\"ProveItLink\" href=\"__pv_it\\03dc9c7b05e1bcdfb136be22d6f2cf090a5255110\\expr.ipynb\"><img src=\"__pv_it\\03dc9c7b05e1bcdfb136be22d6f2cf090a5255110\\expr.png\" style=\"display:inline;vertical-align:middle;\" /></a><br>\n",
       "<strong id=\"add_9_9\"><a class=\"ProveItLink\" href=\"_proofs_\\add_9_9.ipynb\">add_9_9</a>:</strong> <a class=\"ProveItLink\" href=\"__pv_it\\90b99fa53c0616e9d1c016300aa7af4031f9017d0\\expr.ipynb\"><img src=\"__pv_it\\90b99fa53c0616e9d1c016300aa7af4031f9017d0\\expr.png\" style=\"display:inline;vertical-align:middle;\" /></a><br>"
      ],
      "text/plain": [
       "add_0_9: (0 + 9) = 9\n",
       "add_1_9: (1 + 9) = 10\n",
       "add_2_9: (2 + 9) = 11\n",
       "add_3_9: (3 + 9) = 12\n",
       "add_4_9: (4 + 9) = 13\n",
       "add_5_9: (5 + 9) = 14\n",
       "add_6_9: (6 + 9) = 15\n",
       "add_7_9: (7 + 9) = 16\n",
       "add_8_9: (8 + 9) = 17\n",
       "add_9_9: (9 + 9) = 18"
      ]
     },
     "execution_count": 12,
     "metadata": {},
     "output_type": "execute_result"
    }
   ],
   "source": [
    "add_0_9, add_1_9, add_2_9, add_3_9, add_4_9, add_5_9, add_6_9, add_7_9, add_8_9, add_9_9 = [Equals(Add(num(n), num(9)), num(n+9)) for n in range(10)]"
   ]
  },
  {
   "cell_type": "code",
   "execution_count": 13,
   "metadata": {
    "collapsed": false,
    "deletable": true,
    "editable": true
   },
   "outputs": [
    {
     "name": "stdout",
     "output_type": "stream",
     "text": [
      "Theorems may be imported from autogenerated _theorems_.py\n"
     ]
    }
   ],
   "source": [
    "%end theorems"
   ]
  },
  {
   "cell_type": "code",
   "execution_count": 1,
   "metadata": {
    "collapsed": false,
    "deletable": true,
    "editable": true
   },
   "outputs": [],
   "source": [
    "from proveit.number import one, Add"
   ]
  },
  {
   "cell_type": "code",
   "execution_count": 2,
   "metadata": {
    "collapsed": false
   },
   "outputs": [
    {
     "data": {
      "text/html": [
       "<span style=\"font-size:20px;\"> &#x22A2;&nbsp;<a class=\"ProveItLink\" href=\"__pv_it\\1f5fc30393a03c999c6f5f3c0d0b67dcf686209a0\\expr.ipynb\"><img src=\"__pv_it\\1f5fc30393a03c999c6f5f3c0d0b67dcf686209a0\\expr.png\" style=\"display:inline;vertical-align:middle;\" /></a></span>"
      ],
      "text/plain": [
       "|= (1 + 1) = 2"
      ]
     },
     "execution_count": 2,
     "metadata": {},
     "output_type": "execute_result"
    }
   ],
   "source": [
    "Add(one, one).simplify()"
   ]
  },
  {
   "cell_type": "code",
   "execution_count": null,
   "metadata": {
    "collapsed": true
   },
   "outputs": [],
   "source": []
  }
 ],
 "metadata": {
  "kernelspec": {
   "display_name": "Python 2",
   "language": "python",
   "name": "python2"
  },
  "language_info": {
   "codemirror_mode": {
    "name": "ipython",
    "version": 2
   },
   "file_extension": ".py",
   "mimetype": "text/x-python",
   "name": "python",
   "nbconvert_exporter": "python",
   "pygments_lexer": "ipython2",
   "version": "2.7.11"
  }
 },
 "nbformat": 4,
 "nbformat_minor": 0
}
