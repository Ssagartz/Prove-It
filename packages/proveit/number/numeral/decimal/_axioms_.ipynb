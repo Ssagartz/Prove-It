{
 "cells": [
  {
   "cell_type": "markdown",
   "metadata": {
    "collapsed": true,
    "deletable": true,
    "editable": true
   },
   "source": [
    "Axioms for context <a class=\"ProveItLink\" href=\"_context_.ipynb\">proveit.number.numeral.decimal</a>\n",
    "========"
   ]
  },
  {
   "cell_type": "code",
   "execution_count": 1,
   "metadata": {
    "collapsed": false,
    "deletable": true,
    "editable": true
   },
   "outputs": [],
   "source": [
    "import proveit\n",
    "from proveit.logic import Equals\n",
    "from proveit.number import num, zero, one, Add\n",
    "# the context is in the current directory:\n",
    "context = proveit.Context('.') # adds context root to sys.path if necessary"
   ]
  },
  {
   "cell_type": "code",
   "execution_count": 2,
   "metadata": {
    "collapsed": false,
    "deletable": true,
    "editable": true
   },
   "outputs": [
    {
     "name": "stdout",
     "output_type": "stream",
     "text": [
      "Defining axioms for context 'proveit.number.numeral.decimal'\n",
      "Subsequent end-of-cell assignments will define axioms\n",
      "%end_axioms will finalize the definitions\n"
     ]
    }
   ],
   "source": [
    "%begin axioms"
   ]
  },
  {
   "cell_type": "code",
   "execution_count": 3,
   "metadata": {
    "collapsed": false,
    "deletable": true,
    "editable": true
   },
   "outputs": [
    {
     "data": {
      "text/html": [
       "<strong id=\"twoDef\">twoDef:</strong> <a class=\"ProveItLink\" href=\"__pv_it\\3272bbacbd11198e3ee4bb79f6cde70cd6d3446a0\\expr.ipynb\"><img src=\"__pv_it\\3272bbacbd11198e3ee4bb79f6cde70cd6d3446a0\\expr.png\" style=\"display:inline;vertical-align:middle;\" /></a><br>"
      ],
      "text/plain": [
       "twoDef: 2 = (1 + 1)"
      ]
     },
     "execution_count": 3,
     "metadata": {},
     "output_type": "execute_result"
    }
   ],
   "source": [
    "twoDef = Equals(num(2), Add(one, one))"
   ]
  },
  {
   "cell_type": "code",
   "execution_count": 4,
   "metadata": {
    "collapsed": false
   },
   "outputs": [
    {
     "data": {
      "text/html": [
       "<strong id=\"threeDef\">threeDef:</strong> <a class=\"ProveItLink\" href=\"__pv_it\\decb461d43c194abf9e23ed62ed279911ca7bdc40\\expr.ipynb\"><img src=\"__pv_it\\decb461d43c194abf9e23ed62ed279911ca7bdc40\\expr.png\" style=\"display:inline;vertical-align:middle;\" /></a><br>"
      ],
      "text/plain": [
       "threeDef: 3 = (2 + 1)"
      ]
     },
     "execution_count": 4,
     "metadata": {},
     "output_type": "execute_result"
    }
   ],
   "source": [
    "threeDef = Equals(num(3), Add(num(2), one))"
   ]
  },
  {
   "cell_type": "code",
   "execution_count": 5,
   "metadata": {
    "collapsed": false
   },
   "outputs": [
    {
     "data": {
      "text/html": [
       "<strong id=\"fourDef\">fourDef:</strong> <a class=\"ProveItLink\" href=\"__pv_it\\f83537f7f5e55ab97a323da7817e8d69f4ba41c30\\expr.ipynb\"><img src=\"__pv_it\\f83537f7f5e55ab97a323da7817e8d69f4ba41c30\\expr.png\" style=\"display:inline;vertical-align:middle;\" /></a><br>"
      ],
      "text/plain": [
       "fourDef: 4 = (3 + 1)"
      ]
     },
     "execution_count": 5,
     "metadata": {},
     "output_type": "execute_result"
    }
   ],
   "source": [
    "fourDef = Equals(num(4), Add(num(3), one))"
   ]
  },
  {
   "cell_type": "code",
   "execution_count": 6,
   "metadata": {
    "collapsed": false
   },
   "outputs": [
    {
     "data": {
      "text/html": [
       "<strong id=\"fiveDef\">fiveDef:</strong> <a class=\"ProveItLink\" href=\"__pv_it\\4f7f16c5d80e867aa3d7e3a6fb41d5bc7f1363570\\expr.ipynb\"><img src=\"__pv_it\\4f7f16c5d80e867aa3d7e3a6fb41d5bc7f1363570\\expr.png\" style=\"display:inline;vertical-align:middle;\" /></a><br>"
      ],
      "text/plain": [
       "fiveDef: 5 = (4 + 1)"
      ]
     },
     "execution_count": 6,
     "metadata": {},
     "output_type": "execute_result"
    }
   ],
   "source": [
    "fiveDef = Equals(num(5), Add(num(4), one))"
   ]
  },
  {
   "cell_type": "code",
   "execution_count": 7,
   "metadata": {
    "collapsed": false
   },
   "outputs": [
    {
     "data": {
      "text/html": [
       "<strong id=\"sixDef\">sixDef:</strong> <a class=\"ProveItLink\" href=\"__pv_it\\7eb516b75e8c023b794f2d87aa3d78a38aa115d90\\expr.ipynb\"><img src=\"__pv_it\\7eb516b75e8c023b794f2d87aa3d78a38aa115d90\\expr.png\" style=\"display:inline;vertical-align:middle;\" /></a><br>"
      ],
      "text/plain": [
       "sixDef: 6 = (5 + 1)"
      ]
     },
     "execution_count": 7,
     "metadata": {},
     "output_type": "execute_result"
    }
   ],
   "source": [
    "sixDef = Equals(num(6), Add(num(5), one))"
   ]
  },
  {
   "cell_type": "code",
   "execution_count": 8,
   "metadata": {
    "collapsed": false
   },
   "outputs": [
    {
     "data": {
      "text/html": [
       "<strong id=\"sevenDef\">sevenDef:</strong> <a class=\"ProveItLink\" href=\"__pv_it\\c326901105f74e1b66e2c6173f71b9b3ba0ed9bc0\\expr.ipynb\"><img src=\"__pv_it\\c326901105f74e1b66e2c6173f71b9b3ba0ed9bc0\\expr.png\" style=\"display:inline;vertical-align:middle;\" /></a><br>"
      ],
      "text/plain": [
       "sevenDef: 7 = (6 + 1)"
      ]
     },
     "execution_count": 8,
     "metadata": {},
     "output_type": "execute_result"
    }
   ],
   "source": [
    "sevenDef = Equals(num(7), Add(num(6), one))"
   ]
  },
  {
   "cell_type": "code",
   "execution_count": 9,
   "metadata": {
    "collapsed": false
   },
   "outputs": [
    {
     "data": {
      "text/html": [
       "<strong id=\"eightDef\">eightDef:</strong> <a class=\"ProveItLink\" href=\"__pv_it\\14643df79fe8bd3ebffee29b4cdae6b4b5d6f1ce0\\expr.ipynb\"><img src=\"__pv_it\\14643df79fe8bd3ebffee29b4cdae6b4b5d6f1ce0\\expr.png\" style=\"display:inline;vertical-align:middle;\" /></a><br>"
      ],
      "text/plain": [
       "eightDef: 8 = (7 + 1)"
      ]
     },
     "execution_count": 9,
     "metadata": {},
     "output_type": "execute_result"
    }
   ],
   "source": [
    "eightDef = Equals(num(8), Add(num(7), one))"
   ]
  },
  {
   "cell_type": "code",
   "execution_count": 10,
   "metadata": {
    "collapsed": false
   },
   "outputs": [
    {
     "data": {
      "text/html": [
       "<strong id=\"nineDef\">nineDef:</strong> <a class=\"ProveItLink\" href=\"__pv_it\\8c82d3102bef64d2d5a79513208de5b140473d5f0\\expr.ipynb\"><img src=\"__pv_it\\8c82d3102bef64d2d5a79513208de5b140473d5f0\\expr.png\" style=\"display:inline;vertical-align:middle;\" /></a><br>"
      ],
      "text/plain": [
       "nineDef: 9 = (8 + 1)"
      ]
     },
     "execution_count": 10,
     "metadata": {},
     "output_type": "execute_result"
    }
   ],
   "source": [
    "nineDef = Equals(num(9), Add(num(8), one))"
   ]
  },
  {
   "cell_type": "code",
   "execution_count": 11,
   "metadata": {
    "collapsed": false,
    "deletable": true,
    "editable": true
   },
   "outputs": [
    {
     "name": "stdout",
     "output_type": "stream",
     "text": [
      "Adding axiom twoDef to proveit.number.numeral.decimal context\n",
      "Adding axiom threeDef to proveit.number.numeral.decimal context\n",
      "Adding axiom fourDef to proveit.number.numeral.decimal context\n",
      "Adding axiom fiveDef to proveit.number.numeral.decimal context\n",
      "Adding axiom sixDef to proveit.number.numeral.decimal context\n",
      "Adding axiom sevenDef to proveit.number.numeral.decimal context\n",
      "Adding axiom eightDef to proveit.number.numeral.decimal context\n",
      "Adding axiom nineDef to proveit.number.numeral.decimal context\n",
      "fourDef expression notebook is being updated\n",
      "nineDef expression notebook is being updated\n",
      "fiveDef expression notebook is being updated\n",
      "sevenDef expression notebook is being updated\n",
      "twoDef expression notebook is being updated\n",
      "eightDef expression notebook is being updated\n",
      "sixDef expression notebook is being updated\n",
      "threeDef expression notebook is being updated\n",
      "Axioms may be imported from autogenerated _axioms_.py\n"
     ]
    }
   ],
   "source": [
    "%end axioms"
   ]
  },
  {
   "cell_type": "code",
   "execution_count": null,
   "metadata": {
    "collapsed": true,
    "deletable": true,
    "editable": true
   },
   "outputs": [],
   "source": []
  }
 ],
 "metadata": {
  "kernelspec": {
   "display_name": "Python 2",
   "language": "python",
   "name": "python2"
  },
  "language_info": {
   "codemirror_mode": {
    "name": "ipython",
    "version": 2
   },
   "file_extension": ".py",
   "mimetype": "text/x-python",
   "name": "python",
   "nbconvert_exporter": "python",
   "pygments_lexer": "ipython2",
   "version": "2.7.11"
  }
 },
 "nbformat": 4,
 "nbformat_minor": 0
}
