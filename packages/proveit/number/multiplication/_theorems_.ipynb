{
 "cells": [
  {
   "cell_type": "markdown",
   "metadata": {
    "collapsed": true,
    "deletable": true,
    "editable": true
   },
   "source": [
    "Theorems for context <a href=\"_context_.ipynb\" class=\"ProveItLink\">proveit.number.multiplication</a>\n",
    "========"
   ]
  },
  {
   "cell_type": "code",
   "execution_count": 1,
   "metadata": {
    "collapsed": false,
    "deletable": true,
    "editable": true
   },
   "outputs": [],
   "source": [
    "# the context is in the current directory:\n",
    "import proveit\n",
    "context = proveit.Context('.') # adds context root to sys.path if necessary\n",
    "from proveit import Etcetera\n",
    "from proveit._common_ import a, b, x, y, P, S, vMulti, wMulti, xMulti, yMulti, zMulti, vEtc, wEtc, xEtc, yEtc, zEtc, PyEtc\n",
    "from proveit.logic import Forall, InSet, Equals, NotEquals, Implies\n",
    "from proveit.number import Mult, Naturals, NaturalsPos, Integers, Reals, RealsPos, Complexes,  Add, Sub, Sum, num\n",
    "from proveit.number._common_ import ComplexesSansZero"
   ]
  },
  {
   "cell_type": "code",
   "execution_count": 2,
   "metadata": {
    "collapsed": false,
    "deletable": true,
    "editable": true
   },
   "outputs": [
    {
     "name": "stdout",
     "output_type": "stream",
     "text": [
      "Defining theorems for context 'proveit.number.multiplication'\n",
      "Subsequent end-of-cell assignments will define theorems\n",
      "'%end theorems' will finalize the definitions\n"
     ]
    }
   ],
   "source": [
    "%begin theorems"
   ]
  },
  {
   "cell_type": "code",
   "execution_count": 3,
   "metadata": {
    "collapsed": false,
    "deletable": true,
    "editable": true
   },
   "outputs": [
    {
     "data": {
      "text/html": [
       "<strong id=\"multAssoc\"><a class=\"ProveItLink\" href=\"_proofs_\\multAssoc.ipynb\" target=\"_blank\">multAssoc</a>:</strong> <a href=\"__pv_it\\4b1aca1c236cd9c681cc4c1dd8ebcfd2699abce80\\expr.ipynb\" target=\"_blank\"><img src=\"__pv_it\\4b1aca1c236cd9c681cc4c1dd8ebcfd2699abce80\\expr.png\" style=\"display:inline;vertical-align:middle;\" /></a><br>"
      ],
      "text/plain": [
       "multAssoc: forall_{x_{*}, y_{*}, z_{*}} (( .. * x_{*} * ... * y_{*} * ... * z_{*} * .. ) = ( .. * x_{*} * ..  * ( .. * y_{*} * .. ) *  .. * z_{*} * .. ))"
      ]
     },
     "execution_count": 3,
     "metadata": {},
     "output_type": "execute_result"
    }
   ],
   "source": [
    "multAssoc = Forall([xMulti, yMulti, zMulti],\n",
    "                  Equals(\n",
    "                        Mult(\n",
    "                                xEtc,yEtc,zEtc),\n",
    "                        Mult(\n",
    "                                xEtc,Mult(yEtc),zEtc)\n",
    "                        )\n",
    "                  )"
   ]
  },
  {
   "cell_type": "code",
   "execution_count": 4,
   "metadata": {
    "collapsed": false,
    "deletable": true,
    "editable": true
   },
   "outputs": [
    {
     "data": {
      "text/html": [
       "<strong id=\"multNatClosure\"><a class=\"ProveItLink\" href=\"_proofs_\\multNatClosure.ipynb\" target=\"_blank\">multNatClosure</a>:</strong> <a href=\"__pv_it\\272ef59c7fd6bf08427d2462a2a4bf10429ad1540\\expr.ipynb\" target=\"_blank\"><img src=\"__pv_it\\272ef59c7fd6bf08427d2462a2a4bf10429ad1540\\expr.png\" style=\"display:inline;vertical-align:middle;\" /></a><br>"
      ],
      "text/plain": [
       "multNatClosure: forall_{a, b in Naturals} ((a * b) in Naturals)"
      ]
     },
     "execution_count": 4,
     "metadata": {},
     "output_type": "execute_result"
    }
   ],
   "source": [
    "multNatClosure = Forall((a, b), InSet(Mult(a, b), Naturals), domain=Naturals)"
   ]
  },
  {
   "cell_type": "code",
   "execution_count": 5,
   "metadata": {
    "collapsed": false,
    "deletable": true,
    "editable": true
   },
   "outputs": [
    {
     "data": {
      "text/html": [
       "<strong id=\"multNatPosClosure\"><a class=\"ProveItLink\" href=\"_proofs_\\multNatPosClosure.ipynb\" target=\"_blank\">multNatPosClosure</a>:</strong> <a href=\"__pv_it\\872e4784d615d615424e4f5c82d0806def4d70150\\expr.ipynb\" target=\"_blank\"><img src=\"__pv_it\\872e4784d615d615424e4f5c82d0806def4d70150\\expr.png\" style=\"display:inline;vertical-align:middle;\" /></a><br>"
      ],
      "text/plain": [
       "multNatPosClosure: forall_{a, b in NaturalsPos} ((a * b) in NaturalsPos)"
      ]
     },
     "execution_count": 5,
     "metadata": {},
     "output_type": "execute_result"
    }
   ],
   "source": [
    "multNatPosClosure = Forall((a, b), InSet(Mult(a, b), NaturalsPos), domain=NaturalsPos)"
   ]
  },
  {
   "cell_type": "code",
   "execution_count": 6,
   "metadata": {
    "collapsed": false,
    "deletable": true,
    "editable": true
   },
   "outputs": [
    {
     "data": {
      "text/html": [
       "<strong id=\"multIntClosure\"><a class=\"ProveItLink\" href=\"_proofs_\\multIntClosure.ipynb\" target=\"_blank\">multIntClosure</a>:</strong> <a href=\"__pv_it\\9e4e627af34dab0841af459047773526ec50c4a70\\expr.ipynb\" target=\"_blank\"><img src=\"__pv_it\\9e4e627af34dab0841af459047773526ec50c4a70\\expr.png\" style=\"display:inline;vertical-align:middle;\" /></a><br>"
      ],
      "text/plain": [
       "multIntClosure: forall_{x_{*} in Integers} (( .. * x_{*} * .. ) in Integers)"
      ]
     },
     "execution_count": 6,
     "metadata": {},
     "output_type": "execute_result"
    }
   ],
   "source": [
    "multIntClosure = Forall(xMulti, InSet(Mult(xEtc), Integers), domain=Integers)"
   ]
  },
  {
   "cell_type": "code",
   "execution_count": 7,
   "metadata": {
    "collapsed": false,
    "deletable": true,
    "editable": true
   },
   "outputs": [
    {
     "data": {
      "text/html": [
       "<strong id=\"multRealClosure\"><a class=\"ProveItLink\" href=\"_proofs_\\multRealClosure.ipynb\" target=\"_blank\">multRealClosure</a>:</strong> <a href=\"__pv_it\\0843451bfde116e19dd2cec979c03546c2df9da80\\expr.ipynb\" target=\"_blank\"><img src=\"__pv_it\\0843451bfde116e19dd2cec979c03546c2df9da80\\expr.png\" style=\"display:inline;vertical-align:middle;\" /></a><br>"
      ],
      "text/plain": [
       "multRealClosure: forall_{x_{*} in Reals} (( .. * x_{*} * .. ) in Reals)"
      ]
     },
     "execution_count": 7,
     "metadata": {},
     "output_type": "execute_result"
    }
   ],
   "source": [
    "multRealClosure = Forall(xMulti, InSet(Mult(xEtc), Reals), domain=Reals)"
   ]
  },
  {
   "cell_type": "code",
   "execution_count": 8,
   "metadata": {
    "collapsed": false,
    "deletable": true,
    "editable": true
   },
   "outputs": [
    {
     "data": {
      "text/html": [
       "<strong id=\"multRealPosClosure\"><a class=\"ProveItLink\" href=\"_proofs_\\multRealPosClosure.ipynb\" target=\"_blank\">multRealPosClosure</a>:</strong> <a href=\"__pv_it\\f6c3c5babf5471e3be69bceb65bd32c3cee8d4870\\expr.ipynb\" target=\"_blank\"><img src=\"__pv_it\\f6c3c5babf5471e3be69bceb65bd32c3cee8d4870\\expr.png\" style=\"display:inline;vertical-align:middle;\" /></a><br>"
      ],
      "text/plain": [
       "multRealPosClosure: forall_{x_{*} in RealsPos} (( .. * x_{*} * .. ) in RealsPos)"
      ]
     },
     "execution_count": 8,
     "metadata": {},
     "output_type": "execute_result"
    }
   ],
   "source": [
    "multRealPosClosure = Forall(xMulti, InSet(Mult(xEtc), RealsPos), domain=RealsPos)"
   ]
  },
  {
   "cell_type": "code",
   "execution_count": 9,
   "metadata": {
    "collapsed": false,
    "deletable": true,
    "editable": true
   },
   "outputs": [
    {
     "data": {
      "text/html": [
       "<strong id=\"multComplexClosure\"><a class=\"ProveItLink\" href=\"_proofs_\\multComplexClosure.ipynb\" target=\"_blank\">multComplexClosure</a>:</strong> <a href=\"__pv_it\\f0fff2a112d1fcaab0cdd39571b9cee57b510b850\\expr.ipynb\" target=\"_blank\"><img src=\"__pv_it\\f0fff2a112d1fcaab0cdd39571b9cee57b510b850\\expr.png\" style=\"display:inline;vertical-align:middle;\" /></a><br>"
      ],
      "text/plain": [
       "multComplexClosure: forall_{x_{*} in Complexes} (( .. * x_{*} * .. ) in Complexes)"
      ]
     },
     "execution_count": 9,
     "metadata": {},
     "output_type": "execute_result"
    }
   ],
   "source": [
    "multComplexClosure = Forall(xMulti, InSet(Mult(xEtc),Complexes), domain=Complexes)"
   ]
  },
  {
   "cell_type": "code",
   "execution_count": 10,
   "metadata": {
    "collapsed": false,
    "deletable": true,
    "editable": true
   },
   "outputs": [
    {
     "data": {
      "text/html": [
       "<strong id=\"multNotEqZero\"><a class=\"ProveItLink\" href=\"_proofs_\\multNotEqZero.ipynb\" target=\"_blank\">multNotEqZero</a>:</strong> <a href=\"__pv_it\\89e60c0e4cb3d5d8d59373aff3c6e0944af71b780\\expr.ipynb\" target=\"_blank\"><img src=\"__pv_it\\89e60c0e4cb3d5d8d59373aff3c6e0944af71b780\\expr.png\" style=\"display:inline;vertical-align:middle;\" /></a><br>"
      ],
      "text/plain": [
       "multNotEqZero: forall_{x_{*} in (Complexes - {0})} (( .. * x_{*} * .. ) != 0)"
      ]
     },
     "execution_count": 10,
     "metadata": {},
     "output_type": "execute_result"
    }
   ],
   "source": [
    "multNotEqZero = Forall(xMulti, NotEquals(Mult(xEtc), num(0)), domain=ComplexesSansZero)"
   ]
  },
  {
   "cell_type": "code",
   "execution_count": 11,
   "metadata": {
    "collapsed": false,
    "deletable": true,
    "editable": true
   },
   "outputs": [
    {
     "data": {
      "text/html": [
       "<strong id=\"multOne\"><a class=\"ProveItLink\" href=\"_proofs_\\multOne.ipynb\" target=\"_blank\">multOne</a>:</strong> <a href=\"__pv_it\\5ba583aad046358aa9079ab5b39cc540ced4aa2c0\\expr.ipynb\" target=\"_blank\"><img src=\"__pv_it\\5ba583aad046358aa9079ab5b39cc540ced4aa2c0\\expr.png\" style=\"display:inline;vertical-align:middle;\" /></a><br>"
      ],
      "text/plain": [
       "multOne: forall_{x in Complexes} ((1 * x) = x)"
      ]
     },
     "execution_count": 11,
     "metadata": {},
     "output_type": "execute_result"
    }
   ],
   "source": [
    "multOne = Forall(x, Equals(Mult(num(1), x), x), domain=Complexes)"
   ]
  },
  {
   "cell_type": "code",
   "execution_count": 12,
   "metadata": {
    "collapsed": false,
    "deletable": true,
    "editable": true
   },
   "outputs": [
    {
     "data": {
      "text/html": [
       "<strong id=\"multZero\"><a class=\"ProveItLink\" href=\"_proofs_\\multZero.ipynb\" target=\"_blank\">multZero</a>:</strong> <a href=\"__pv_it\\58b82ca7f2836eb3f089974e4d23b9f8190ab8460\\expr.ipynb\" target=\"_blank\"><img src=\"__pv_it\\58b82ca7f2836eb3f089974e4d23b9f8190ab8460\\expr.png\" style=\"display:inline;vertical-align:middle;\" /></a><br>"
      ],
      "text/plain": [
       "multZero: forall_{x in Complexes} ((0 * x) = 0)"
      ]
     },
     "execution_count": 12,
     "metadata": {},
     "output_type": "execute_result"
    }
   ],
   "source": [
    "multZero = Forall(x, Equals(Mult(num(0), x), num(0)), domain=Complexes)"
   ]
  },
  {
   "cell_type": "code",
   "execution_count": 13,
   "metadata": {
    "collapsed": false,
    "deletable": true,
    "editable": true
   },
   "outputs": [
    {
     "data": {
      "text/html": [
       "<strong id=\"multComm\"><a class=\"ProveItLink\" href=\"_proofs_\\multComm.ipynb\" target=\"_blank\">multComm</a>:</strong> <a href=\"__pv_it\\b5961a43a76bd41006d5b1cf9b7631f96fb27f100\\expr.ipynb\" target=\"_blank\"><img src=\"__pv_it\\b5961a43a76bd41006d5b1cf9b7631f96fb27f100\\expr.png\" style=\"display:inline;vertical-align:middle;\" /></a><br>"
      ],
      "text/plain": [
       "multComm: forall_{v_{*}, w_{*}, x_{*}, y_{*}, z_{*} in Complexes} (( .. * v_{*} * ... * w_{*} * ... * x_{*} * ... * y_{*} * ... * z_{*} * .. ) = ( .. * v_{*} * ... * y_{*} * ... * x_{*} * ... * w_{*} * ... * z_{*} * .. ))"
      ]
     },
     "execution_count": 13,
     "metadata": {},
     "output_type": "execute_result"
    }
   ],
   "source": [
    "multComm = Forall((vMulti,wMulti,xMulti,yMulti,zMulti),\n",
    "                 Equals(\n",
    "                        Mult(vEtc,wEtc,xEtc,yEtc,zEtc),\n",
    "                        Mult(vEtc,yEtc,xEtc,wEtc,zEtc)\n",
    "    ),\n",
    "                 domain = Complexes\n",
    "                 )"
   ]
  },
  {
   "cell_type": "code",
   "execution_count": 14,
   "metadata": {
    "collapsed": false,
    "deletable": true,
    "editable": true
   },
   "outputs": [
    {
     "data": {
      "text/html": [
       "<strong id=\"distributeThroughSum\"><a class=\"ProveItLink\" href=\"_proofs_\\distributeThroughSum.ipynb\" target=\"_blank\">distributeThroughSum</a>:</strong> <a href=\"__pv_it\\3e7df71a119a0fb7032eefe0e2c06b33f333a7d00\\expr.ipynb\" target=\"_blank\"><img src=\"__pv_it\\3e7df71a119a0fb7032eefe0e2c06b33f333a7d00\\expr.png\" style=\"display:inline;vertical-align:middle;\" /></a><br>"
      ],
      "text/plain": [
       "distributeThroughSum: forall_{x_{*}, y_{*}, z_{*} in Complexes} (( .. * x_{*} * ..  * ( .. + y_{*} + .. ) *  .. * z_{*} * .. ) = ( .. + ( .. * x_{*} * ..  * y_{*} *  .. * z_{*} * .. ) + .. ))"
      ]
     },
     "execution_count": 14,
     "metadata": {},
     "output_type": "execute_result"
    }
   ],
   "source": [
    "distributeThroughSum =  Forall((xMulti, yMulti, zMulti),\n",
    "                  Equals(\n",
    "                        Mult(xEtc, Add(yEtc), zEtc),\n",
    "                        Add(Etcetera(Mult(xEtc, yMulti, zEtc)))\n",
    "                        ),\n",
    "                  domain = Complexes\n",
    "                  )"
   ]
  },
  {
   "cell_type": "code",
   "execution_count": 15,
   "metadata": {
    "collapsed": false,
    "deletable": true,
    "editable": true
   },
   "outputs": [
    {
     "data": {
      "text/html": [
       "<strong id=\"distributeThroughSubtract\"><a class=\"ProveItLink\" href=\"_proofs_\\distributeThroughSubtract.ipynb\" target=\"_blank\">distributeThroughSubtract</a>:</strong> <a href=\"__pv_it\\ced763ac1294002a4973e30fc71007eb9841fbdc0\\expr.ipynb\" target=\"_blank\"><img src=\"__pv_it\\ced763ac1294002a4973e30fc71007eb9841fbdc0\\expr.png\" style=\"display:inline;vertical-align:middle;\" /></a><br>"
      ],
      "text/plain": [
       "distributeThroughSubtract: forall_{w_{*}, x, y, z_{*} in Complexes} (( .. * w_{*} * ..  * (x - y) *  .. * z_{*} * .. ) = (( .. * w_{*} * ..  * x *  .. * z_{*} * .. ) - ( .. * w_{*} * ..  * y *  .. * z_{*} * .. )))"
      ]
     },
     "execution_count": 15,
     "metadata": {},
     "output_type": "execute_result"
    }
   ],
   "source": [
    "distributeThroughSubtract =  Forall((wMulti, x, y, zMulti),\n",
    "                  Equals(\n",
    "                        Mult(wEtc, Sub(x, y), zEtc),\n",
    "                        Sub(Mult(wEtc, x, zEtc), Mult(wEtc, y, zEtc))\n",
    "                        ),\n",
    "                  domain = Complexes\n",
    "                  )"
   ]
  },
  {
   "cell_type": "code",
   "execution_count": 16,
   "metadata": {
    "collapsed": false,
    "deletable": true,
    "editable": true
   },
   "outputs": [
    {
     "data": {
      "text/html": [
       "<strong id=\"distributeThroughSummation\"><a class=\"ProveItLink\" href=\"_proofs_\\distributeThroughSummation.ipynb\" target=\"_blank\">distributeThroughSummation</a>:</strong> <a href=\"__pv_it\\e815449f5c47c2ba5f07fe9a1ff482bb47796eb40\\expr.ipynb\" target=\"_blank\"><img src=\"__pv_it\\e815449f5c47c2ba5f07fe9a1ff482bb47796eb40\\expr.png\" style=\"display:inline;vertical-align:middle;\" /></a><br>"
      ],
      "text/plain": [
       "distributeThroughSummation: forall_{P, S} ([forall_{y_{*} in S} (P( ..,y_{*},.. ) in Complexes)] => [forall_{x_{*}, z_{*} in Complexes} (( .. * x_{*} * ..  * [Sum_{y_{*} in S} P( ..,y_{*},.. )] *  .. * z_{*} * .. ) = [Sum_{y_{*} in S} ( .. * x_{*} * ..  * P( ..,y_{*},.. ) *  .. * z_{*} * .. )])])"
      ]
     },
     "execution_count": 16,
     "metadata": {},
     "output_type": "execute_result"
    }
   ],
   "source": [
    "distributeThroughSummation = Forall((P, S),\n",
    "                                    Implies(Forall(yMulti, InSet(PyEtc, Complexes), domain=S),\n",
    "                                            Forall((xMulti, zMulti),\n",
    "                                                   Equals(Mult(xEtc, Sum(yMulti, PyEtc, domain=S), zEtc),\n",
    "                                                          Sum(yMulti, Mult(xEtc, PyEtc, zEtc), domain=S)),\n",
    "                                                  domain=Complexes)))"
   ]
  },
  {
   "cell_type": "code",
   "execution_count": 17,
   "metadata": {
    "collapsed": false,
    "deletable": true,
    "editable": true
   },
   "outputs": [
    {
     "name": "stdout",
     "output_type": "stream",
     "text": [
      "Adding theorem multAssoc to proveit.number.multiplication context\n",
      "Adding theorem multNatClosure to proveit.number.multiplication context\n",
      "Adding theorem multNatPosClosure to proveit.number.multiplication context\n",
      "Adding theorem multIntClosure to proveit.number.multiplication context\n",
      "Adding theorem multRealClosure to proveit.number.multiplication context\n",
      "Adding theorem multRealPosClosure to proveit.number.multiplication context\n",
      "Adding theorem multComplexClosure to proveit.number.multiplication context\n",
      "Adding theorem multNotEqZero to proveit.number.multiplication context\n",
      "Adding theorem multOne to proveit.number.multiplication context\n",
      "Adding theorem multZero to proveit.number.multiplication context\n",
      "Adding theorem multComm to proveit.number.multiplication context\n",
      "Adding theorem distributeThroughSum to proveit.number.multiplication context\n",
      "Adding theorem distributeThroughSubtract to proveit.number.multiplication context\n",
      "Adding theorem distributeThroughSummation to proveit.number.multiplication context\n",
      "distributeThroughSummation expression notebook is being updated\n",
      "multOne expression notebook is being updated\n",
      "multNatClosure expression notebook is being updated\n",
      "multRealPosClosure expression notebook is being updated\n",
      "multZero expression notebook is being updated\n",
      "distributeThroughSum expression notebook is being updated\n",
      "multIntClosure expression notebook is being updated\n",
      "multRealClosure expression notebook is being updated\n",
      "multAssoc expression notebook is being updated\n",
      "multNotEqZero expression notebook is being updated\n",
      "multComm expression notebook is being updated\n",
      "multNatPosClosure expression notebook is being updated\n",
      "distributeThroughSubtract expression notebook is being updated\n",
      "multComplexClosure expression notebook is being updated\n",
      "Theorems may be imported from autogenerated _theorems_.py\n"
     ]
    }
   ],
   "source": [
    "%end theorems"
   ]
  }
 ],
 "metadata": {
  "kernelspec": {
   "display_name": "Python 2",
   "language": "python",
   "name": "python2"
  },
  "language_info": {
   "codemirror_mode": {
    "name": "ipython",
    "version": 2
   },
   "file_extension": ".py",
   "mimetype": "text/x-python",
   "name": "python",
   "nbconvert_exporter": "python",
   "pygments_lexer": "ipython2",
   "version": "2.7.11"
  }
 },
 "nbformat": 4,
 "nbformat_minor": 0
}
