{
 "cells": [
  {
   "cell_type": "code",
   "execution_count": 1,
   "metadata": {
    "collapsed": false,
    "deletable": true,
    "editable": true
   },
   "outputs": [
    {
     "ename": "ImportError",
     "evalue": "cannot import name Equation",
     "output_type": "error",
     "traceback": [
      "\u001b[1;31m\u001b[0m",
      "\u001b[1;31mImportError\u001b[0mTraceback (most recent call last)",
      "\u001b[1;32m<ipython-input-1-511b06d8242d>\u001b[0m in \u001b[0;36m<module>\u001b[1;34m()\u001b[0m\n\u001b[0;32m      1\u001b[0m \u001b[1;31m#from theorems import distributeThroughSum, distributeFractionThroughSum, distributeFractionThroughSubtract\u001b[0m\u001b[1;33m\u001b[0m\u001b[1;33m\u001b[0m\u001b[0m\n\u001b[0;32m      2\u001b[0m \u001b[1;32mfrom\u001b[0m \u001b[0mproveit\u001b[0m\u001b[1;33m.\u001b[0m\u001b[0mlogic\u001b[0m \u001b[1;32mimport\u001b[0m \u001b[0mInSet\u001b[0m\u001b[1;33m,\u001b[0m \u001b[0mNotEquals\u001b[0m\u001b[1;33m\u001b[0m\u001b[0m\n\u001b[1;32m----> 3\u001b[1;33m \u001b[1;32mfrom\u001b[0m \u001b[0mproveit\u001b[0m\u001b[1;33m.\u001b[0m\u001b[0mnumber\u001b[0m \u001b[1;32mimport\u001b[0m \u001b[1;33m*\u001b[0m\u001b[1;33m\u001b[0m\u001b[0m\n\u001b[0m\u001b[0;32m      4\u001b[0m \u001b[1;31m#from proveit.number._common_ import Complexes, Integers, zero\u001b[0m\u001b[1;33m\u001b[0m\u001b[1;33m\u001b[0m\u001b[0m\n\u001b[0;32m      5\u001b[0m \u001b[1;32mfrom\u001b[0m \u001b[0mproveit\u001b[0m\u001b[1;33m.\u001b[0m\u001b[0m_common_\u001b[0m \u001b[1;32mimport\u001b[0m \u001b[1;33m*\u001b[0m\u001b[1;33m\u001b[0m\u001b[0m\n",
      "\u001b[1;32mC:\\users\\wwitzel\\Prove-It\\packages\\proveit\\number\\__init__.py\u001b[0m in \u001b[0;36m<module>\u001b[1;34m()\u001b[0m\n\u001b[0;32m      8\u001b[0m \u001b[1;32mfrom\u001b[0m \u001b[0msubtraction\u001b[0m \u001b[1;32mimport\u001b[0m \u001b[0mSub\u001b[0m\u001b[1;33m\u001b[0m\u001b[0m\n\u001b[0;32m      9\u001b[0m \u001b[1;32mfrom\u001b[0m \u001b[0mnegation\u001b[0m \u001b[1;32mimport\u001b[0m \u001b[0mNeg\u001b[0m\u001b[1;33m\u001b[0m\u001b[0m\n\u001b[1;32m---> 10\u001b[1;33m \u001b[1;32mfrom\u001b[0m \u001b[0mmultiplication\u001b[0m \u001b[1;32mimport\u001b[0m \u001b[0mMult\u001b[0m\u001b[1;33m\u001b[0m\u001b[0m\n\u001b[0m\u001b[0;32m     11\u001b[0m \u001b[1;32mfrom\u001b[0m \u001b[0mdivision\u001b[0m \u001b[1;32mimport\u001b[0m \u001b[0mDivide\u001b[0m\u001b[1;33m,\u001b[0m \u001b[0mFrac\u001b[0m\u001b[1;33m\u001b[0m\u001b[0m\n\u001b[0;32m     12\u001b[0m \u001b[1;32mfrom\u001b[0m \u001b[0mexponentiation\u001b[0m \u001b[1;32mimport\u001b[0m \u001b[0mExp\u001b[0m\u001b[1;33m,\u001b[0m \u001b[0mSqrt\u001b[0m\u001b[1;33m\u001b[0m\u001b[0m\n",
      "\u001b[1;32mC:\\users\\wwitzel\\Prove-It\\packages\\proveit\\number\\multiplication\\__init__.py\u001b[0m in \u001b[0;36m<module>\u001b[1;34m()\u001b[0m\n\u001b[1;32m----> 1\u001b[1;33m \u001b[1;32mfrom\u001b[0m \u001b[0mmult\u001b[0m \u001b[1;32mimport\u001b[0m \u001b[0mMult\u001b[0m\u001b[1;33m\u001b[0m\u001b[0m\n\u001b[0m",
      "\u001b[1;32mC:\\users\\wwitzel\\Prove-It\\packages\\proveit\\number\\multiplication\\mult.py\u001b[0m in \u001b[0;36m<module>\u001b[1;34m()\u001b[0m\n\u001b[0;32m      1\u001b[0m \u001b[1;32mfrom\u001b[0m \u001b[0mproveit\u001b[0m \u001b[1;32mimport\u001b[0m \u001b[0mLiteral\u001b[0m\u001b[1;33m,\u001b[0m \u001b[0mOperation\u001b[0m\u001b[1;33m,\u001b[0m \u001b[0mAssociativeOperation\u001b[0m\u001b[1;33m,\u001b[0m \u001b[0mEtcetera\u001b[0m\u001b[1;33m,\u001b[0m \u001b[0mMultiVariable\u001b[0m\u001b[1;33m\u001b[0m\u001b[0m\n\u001b[1;32m----> 2\u001b[1;33m \u001b[1;32mfrom\u001b[0m \u001b[0mproveit\u001b[0m\u001b[1;33m.\u001b[0m\u001b[0mlogic\u001b[0m \u001b[1;32mimport\u001b[0m \u001b[0mEquals\u001b[0m\u001b[1;33m,\u001b[0m \u001b[0mEquation\u001b[0m\u001b[1;33m\u001b[0m\u001b[0m\n\u001b[0m\u001b[0;32m      3\u001b[0m \u001b[1;32mfrom\u001b[0m \u001b[0mproveit\u001b[0m\u001b[1;33m.\u001b[0m\u001b[0mnumber\u001b[0m\u001b[1;33m.\u001b[0m\u001b[0msets\u001b[0m \u001b[1;32mimport\u001b[0m \u001b[0mReals\u001b[0m\u001b[1;33m,\u001b[0m \u001b[0mRealsPos\u001b[0m\u001b[1;33m,\u001b[0m \u001b[0mComplexes\u001b[0m\u001b[1;33m,\u001b[0m \u001b[0mzero\u001b[0m\u001b[1;33m,\u001b[0m \u001b[0mone\u001b[0m\u001b[1;33m\u001b[0m\u001b[0m\n\u001b[0;32m      4\u001b[0m \u001b[1;32mfrom\u001b[0m \u001b[0mproveit\u001b[0m\u001b[1;33m.\u001b[0m\u001b[0m_common_\u001b[0m \u001b[1;32mimport\u001b[0m \u001b[0ma\u001b[0m\u001b[1;33m,\u001b[0m \u001b[0mb\u001b[0m\u001b[1;33m,\u001b[0m \u001b[0mc\u001b[0m\u001b[1;33m,\u001b[0m \u001b[0mn\u001b[0m\u001b[1;33m,\u001b[0m \u001b[0mx\u001b[0m\u001b[1;33m,\u001b[0m \u001b[0mvEtc\u001b[0m\u001b[1;33m,\u001b[0m \u001b[0mwEtc\u001b[0m\u001b[1;33m,\u001b[0m \u001b[0mxEtc\u001b[0m\u001b[1;33m,\u001b[0m \u001b[0myEtc\u001b[0m\u001b[1;33m,\u001b[0m \u001b[0mzEtc\u001b[0m\u001b[1;33m,\u001b[0m \u001b[0mS\u001b[0m\u001b[1;33m\u001b[0m\u001b[0m\n\u001b[0;32m      5\u001b[0m \u001b[1;33m\u001b[0m\u001b[0m\n",
      "\u001b[1;31mImportError\u001b[0m: cannot import name Equation"
     ]
    }
   ],
   "source": [
    "#from theorems import distributeThroughSum, distributeFractionThroughSum, distributeFractionThroughSubtract\n",
    "from proveit.logic import InSet, NotEquals\n",
    "from proveit.number import *\n",
    "#from proveit.number._common_ import Complexes, Integers, zero\n",
    "from proveit._common_ import *\n",
    "#from IPython.display import display"
   ]
  },
  {
   "cell_type": "code",
   "execution_count": 2,
   "metadata": {
    "collapsed": true
   },
   "outputs": [],
   "source": [
    "from proveit._common_ import a, b, k"
   ]
  },
  {
   "cell_type": "code",
   "execution_count": 3,
   "metadata": {
    "collapsed": false,
    "deletable": true,
    "editable": true
   },
   "outputs": [
    {
     "data": {
      "text/html": [
       "<strong id=\"expr\">expr:</strong> <a href=\"__pv_it\\7c3201a03a17d05c4f416c45a6a9cbe2239f5abe0\\expr.ipynb\" target=\"_blank\"><img src=\"__pv_it\\7c3201a03a17d05c4f416c45a6a9cbe2239f5abe0\\expr.png\" style=\"display:inline;vertical-align:middle;\" /></a><br>"
      ],
      "text/plain": [
       "expr: (a + b) * (Sum_{k=a}^{b} k) * frac(a,b)"
      ]
     },
     "execution_count": 3,
     "metadata": {},
     "output_type": "execute_result"
    }
   ],
   "source": [
    "expr = Mult(Add(a, b), Sum(k, k, Interval(a, b)), Frac(a, b))"
   ]
  },
  {
   "cell_type": "code",
   "execution_count": 10,
   "metadata": {
    "collapsed": false,
    "deletable": true,
    "editable": true
   },
   "outputs": [
    {
     "data": {
      "text/html": [
       "<strong id=\"assumptions\">assumptions:</strong> <a href=\"__pv_it\\17f904137b6241077e3b5f4457cf10b3ec1deb8c0\\expr.ipynb\" target=\"_blank\"><img src=\"__pv_it\\17f904137b6241077e3b5f4457cf10b3ec1deb8c0\\expr.png\" style=\"display:inline;vertical-align:middle;\" /></a><br>"
      ],
      "text/plain": [
       "assumptions: ((a in Integers),(b in Integers),(b != 0))"
      ]
     },
     "execution_count": 10,
     "metadata": {},
     "output_type": "execute_result"
    }
   ],
   "source": [
    "assumptions = [InSet(var, Integers) for var in [a, b]] + [NotEquals(b, zero)]"
   ]
  },
  {
   "cell_type": "code",
   "execution_count": 5,
   "metadata": {
    "collapsed": false,
    "deletable": true,
    "editable": true
   },
   "outputs": [
    {
     "ename": "ImportError",
     "evalue": "No module named integer._theorems_",
     "output_type": "error",
     "traceback": [
      "\u001b[1;31m\u001b[0m",
      "\u001b[1;31mImportError\u001b[0mTraceback (most recent call last)",
      "\u001b[1;32m<ipython-input-5-6d58066c26bc>\u001b[0m in \u001b[0;36m<module>\u001b[1;34m()\u001b[0m\n\u001b[1;32m----> 1\u001b[1;33m \u001b[0mInterval\u001b[0m\u001b[1;33m(\u001b[0m\u001b[0ma\u001b[0m\u001b[1;33m,\u001b[0m \u001b[0mb\u001b[0m\u001b[1;33m)\u001b[0m\u001b[1;33m.\u001b[0m\u001b[0mdeduceMemberInIntegers\u001b[0m\u001b[1;33m(\u001b[0m\u001b[0mk\u001b[0m\u001b[1;33m,\u001b[0m \u001b[0massumptions\u001b[0m\u001b[1;33m)\u001b[0m\u001b[1;33m.\u001b[0m\u001b[0mgeneralize\u001b[0m\u001b[1;33m(\u001b[0m\u001b[0mk\u001b[0m\u001b[1;33m,\u001b[0m \u001b[0mDiscreteContiguousSet\u001b[0m\u001b[1;33m(\u001b[0m\u001b[0ma\u001b[0m\u001b[1;33m,\u001b[0m \u001b[0mb\u001b[0m\u001b[1;33m)\u001b[0m\u001b[1;33m)\u001b[0m\u001b[1;33m\u001b[0m\u001b[0m\n\u001b[0m",
      "\u001b[1;32mC:\\users\\wwitzel\\Prove-It\\packages\\proveit\\number\\sets\\integer\\interval.py\u001b[0m in \u001b[0;36mdeduceMemberInIntegers\u001b[1;34m(self, member, assumptions)\u001b[0m\n\u001b[0;32m     32\u001b[0m \u001b[1;33m\u001b[0m\u001b[0m\n\u001b[0;32m     33\u001b[0m     \u001b[1;32mdef\u001b[0m \u001b[0mdeduceMemberInIntegers\u001b[0m\u001b[1;33m(\u001b[0m\u001b[0mself\u001b[0m\u001b[1;33m,\u001b[0m \u001b[0mmember\u001b[0m\u001b[1;33m,\u001b[0m \u001b[0massumptions\u001b[0m\u001b[1;33m=\u001b[0m\u001b[0mfrozenset\u001b[0m\u001b[1;33m(\u001b[0m\u001b[1;33m)\u001b[0m\u001b[1;33m)\u001b[0m\u001b[1;33m:\u001b[0m\u001b[1;33m\u001b[0m\u001b[0m\n\u001b[1;32m---> 34\u001b[1;33m         \u001b[1;32mfrom\u001b[0m \u001b[0minteger\u001b[0m\u001b[1;33m.\u001b[0m\u001b[0m_theorems_\u001b[0m \u001b[1;32mimport\u001b[0m \u001b[0mallInDiscreteInterval_InInts\u001b[0m\u001b[1;33m\u001b[0m\u001b[0m\n\u001b[0m\u001b[0;32m     35\u001b[0m         \u001b[1;32mreturn\u001b[0m \u001b[0mallInDiscreteInterval_InInts\u001b[0m\u001b[1;33m.\u001b[0m\u001b[0mspecialize\u001b[0m\u001b[1;33m(\u001b[0m\u001b[1;33m{\u001b[0m\u001b[0ma\u001b[0m\u001b[1;33m:\u001b[0m\u001b[0mself\u001b[0m\u001b[1;33m.\u001b[0m\u001b[0mlowerBound\u001b[0m\u001b[1;33m,\u001b[0m \u001b[0mb\u001b[0m\u001b[1;33m:\u001b[0m\u001b[0mself\u001b[0m\u001b[1;33m.\u001b[0m\u001b[0mupperBound\u001b[0m\u001b[1;33m}\u001b[0m\u001b[1;33m)\u001b[0m\u001b[1;33m.\u001b[0m\u001b[0mspecialize\u001b[0m\u001b[1;33m(\u001b[0m\u001b[1;33m{\u001b[0m\u001b[0mn\u001b[0m\u001b[1;33m:\u001b[0m\u001b[0mmember\u001b[0m\u001b[1;33m}\u001b[0m\u001b[1;33m)\u001b[0m\u001b[1;33m\u001b[0m\u001b[0m\n\u001b[0;32m     36\u001b[0m \u001b[1;33m\u001b[0m\u001b[0m\n",
      "\u001b[1;31mImportError\u001b[0m: No module named integer._theorems_"
     ]
    }
   ],
   "source": [
    "Interval(a, b).deduceMemberInIntegers(k, assumptions).generalize(k, DiscreteContiguousSet(a, b))"
   ]
  },
  {
   "cell_type": "code",
   "execution_count": 6,
   "metadata": {
    "collapsed": false,
    "deletable": true,
    "editable": true
   },
   "outputs": [
    {
     "ename": "ImportError",
     "evalue": "No module named theorems",
     "output_type": "error",
     "traceback": [
      "\u001b[1;31m\u001b[0m",
      "\u001b[1;31mImportError\u001b[0mTraceback (most recent call last)",
      "\u001b[1;32m<ipython-input-6-d15f1e7565d4>\u001b[0m in \u001b[0;36m<module>\u001b[1;34m()\u001b[0m\n\u001b[1;32m----> 1\u001b[1;33m \u001b[0mexpr\u001b[0m\u001b[1;33m.\u001b[0m\u001b[0mdistribute\u001b[0m\u001b[1;33m(\u001b[0m\u001b[1;36m0\u001b[0m\u001b[1;33m,\u001b[0m \u001b[0massumptions\u001b[0m\u001b[1;33m)\u001b[0m\u001b[1;33m\u001b[0m\u001b[0m\n\u001b[0m",
      "\u001b[1;32mC:\\users\\wwitzel\\Prove-It\\packages\\proveit\\number\\multiplication\\mult.pyc\u001b[0m in \u001b[0;36mdistribute\u001b[1;34m(self, index, assumptions)\u001b[0m\n\u001b[0;32m    196\u001b[0m         \u001b[0mthe\u001b[0m \u001b[0massociative\u001b[0m \u001b[1;32mand\u001b[0m \u001b[0mcommutation\u001b[0m \u001b[0mtheorems\u001b[0m \u001b[0mare\u001b[0m \u001b[0mapplicable\u001b[0m\u001b[1;33m.\u001b[0m\u001b[1;33m\u001b[0m\u001b[0m\n\u001b[0;32m    197\u001b[0m         '''\n\u001b[1;32m--> 198\u001b[1;33m         \u001b[1;32mfrom\u001b[0m \u001b[0mtheorems\u001b[0m \u001b[1;32mimport\u001b[0m \u001b[0mdistributeThroughSum\u001b[0m\u001b[1;33m,\u001b[0m \u001b[0mdistributeThroughSubtract\u001b[0m\u001b[1;33m,\u001b[0m \u001b[0mdistributeThroughSummation\u001b[0m\u001b[1;33m\u001b[0m\u001b[0m\n\u001b[0m\u001b[0;32m    199\u001b[0m         \u001b[1;32mfrom\u001b[0m \u001b[0mproveit\u001b[0m\u001b[1;33m.\u001b[0m\u001b[0mnumber\u001b[0m\u001b[1;33m.\u001b[0m\u001b[0mdivision\u001b[0m\u001b[1;33m.\u001b[0m\u001b[0mtheorems\u001b[0m \u001b[1;32mimport\u001b[0m \u001b[0mfracInProd\u001b[0m\u001b[1;33m,\u001b[0m \u001b[0mprodOfFracs\u001b[0m\u001b[1;33m\u001b[0m\u001b[0m\n\u001b[0;32m    200\u001b[0m         \u001b[1;32mfrom\u001b[0m \u001b[0mproveit\u001b[0m\u001b[1;33m.\u001b[0m\u001b[0mnumber\u001b[0m \u001b[1;32mimport\u001b[0m \u001b[0mFraction\u001b[0m\u001b[1;33m,\u001b[0m \u001b[0mAdd\u001b[0m\u001b[1;33m,\u001b[0m \u001b[0mSub\u001b[0m\u001b[1;33m,\u001b[0m \u001b[0mSum\u001b[0m\u001b[1;33m\u001b[0m\u001b[0m\n",
      "\u001b[1;31mImportError\u001b[0m: No module named theorems"
     ]
    }
   ],
   "source": [
    "expr.distribute(0, assumptions)"
   ]
  },
  {
   "cell_type": "code",
   "execution_count": 49,
   "metadata": {
    "collapsed": false,
    "deletable": true,
    "editable": true
   },
   "outputs": [
    {
     "data": {
      "text/latex": [
       "$\\left( \\left( a + b \\right) \\cdot \\left(\\sum_{k=a}^{b} k\\right) \\cdot \\frac{a}{b} \\right) = \\left(\\sum_{k=a}^{b} \\left( \\left( a + b \\right) \\cdot k \\cdot \\frac{a}{b} \\right)\\right)$"
      ],
      "text/plain": [
       "$\\left( \\left( a + b \\right) \\cdot \\left(\\sum_{k=a}^{b} k\\right) \\cdot \\frac{a}{b} \\right) = \\left(\\sum_{k=a}^{b} \\left( \\left( a + b \\right) \\cdot k \\cdot \\frac{a}{b} \\right)\\right)$"
      ]
     },
     "execution_count": 49,
     "metadata": {},
     "output_type": "execute_result"
    }
   ],
   "source": [
    "expr.distribute(1, assumptions)"
   ]
  },
  {
   "cell_type": "code",
   "execution_count": 50,
   "metadata": {
    "collapsed": false,
    "deletable": true,
    "editable": true
   },
   "outputs": [
    {
     "data": {
      "text/latex": [
       "$\\left( \\left( a + b \\right) \\cdot \\left(\\sum_{k=a}^{b} k\\right) \\cdot \\frac{a}{b} \\right) = \\frac{ \\left( a + b \\right) \\cdot \\left(\\sum_{k=a}^{b} k\\right) \\cdot a }{b}$"
      ],
      "text/plain": [
       "$\\left( \\left( a + b \\right) \\cdot \\left(\\sum_{k=a}^{b} k\\right) \\cdot \\frac{a}{b} \\right) = \\frac{ \\left( a + b \\right) \\cdot \\left(\\sum_{k=a}^{b} k\\right) \\cdot a }{b}$"
      ]
     },
     "execution_count": 50,
     "metadata": {},
     "output_type": "execute_result"
    }
   ],
   "source": [
    "expr.distribute(2, assumptions)"
   ]
  },
  {
   "cell_type": "code",
   "execution_count": null,
   "metadata": {
    "collapsed": true,
    "deletable": true,
    "editable": true
   },
   "outputs": [],
   "source": []
  },
  {
   "cell_type": "code",
   "execution_count": 6,
   "metadata": {
    "collapsed": false,
    "deletable": true,
    "editable": true
   },
   "outputs": [
    {
     "data": {
      "text/latex": [
       "$\\forall_{~.., x_{\\Box} ,..., y_{\\Box} ,..., z_{\\Box} ,..~ \\in \\mathbb{C}} \\left(\\left(~..\\cdot x_{\\Box} \\cdot..~\\cdot \\left(~..+ y_{\\Box} +..~\\right) \\cdot~..\\cdot z_{\\Box} \\cdot..~\\right) = \\left(~..+ \\left(~..\\cdot x_{\\Box} \\cdot..~\\cdot y_{\\Box} \\cdot~..\\cdot z_{\\Box} \\cdot..~\\right) +..~\\right)\\right)$"
      ],
      "text/plain": [
       "$\\forall_{~.., x_{\\Box} ,..., y_{\\Box} ,..., z_{\\Box} ,..~ \\in \\mathbb{C}} \\left(\\left(~..\\cdot x_{\\Box} \\cdot..~\\cdot \\left(~..+ y_{\\Box} +..~\\right) \\cdot~..\\cdot z_{\\Box} \\cdot..~\\right) = \\left(~..+ \\left(~..\\cdot x_{\\Box} \\cdot..~\\cdot y_{\\Box} \\cdot~..\\cdot z_{\\Box} \\cdot..~\\right) +..~\\right)\\right)$"
      ]
     },
     "execution_count": 6,
     "metadata": {},
     "output_type": "execute_result"
    }
   ],
   "source": [
    "distributeThroughSum"
   ]
  },
  {
   "cell_type": "code",
   "execution_count": 7,
   "metadata": {
    "collapsed": false,
    "deletable": true,
    "editable": true
   },
   "outputs": [
    {
     "data": {
      "text/latex": [
       "$\\left( a \\cdot b \\cdot c \\cdot \\left( d + f \\right) \\cdot g \\cdot h \\right) = \\left( \\left( a \\cdot b \\cdot c \\cdot d \\cdot g \\cdot h \\right) + \\left( a \\cdot b \\cdot c \\cdot f \\cdot g \\cdot h \\right) \\right)$"
      ],
      "text/plain": [
       "$\\left( a \\cdot b \\cdot c \\cdot \\left( d + f \\right) \\cdot g \\cdot h \\right) = \\left( \\left( a \\cdot b \\cdot c \\cdot d \\cdot g \\cdot h \\right) + \\left( a \\cdot b \\cdot c \\cdot f \\cdot g \\cdot h \\right) \\right)$"
      ]
     },
     "execution_count": 7,
     "metadata": {},
     "output_type": "execute_result"
    }
   ],
   "source": [
    "distributeThroughSum.specialize({xEtc:[a, b, c], yEtc:[d, f], zEtc:[g, h]})"
   ]
  },
  {
   "cell_type": "code",
   "execution_count": 8,
   "metadata": {
    "collapsed": false,
    "deletable": true,
    "editable": true
   },
   "outputs": [
    {
     "data": {
      "text/latex": [
       "$\\forall_{~.., x_{\\Box} ,..~, y  \\in \\mathbb{C}~|~ \\left(y \\neq 0\\right) } \\left(\\frac{~..+ x_{\\Box} +..~}{y} = \\left(~..+ \\frac{x_{\\Box}}{y} +..~\\right)\\right)$"
      ],
      "text/plain": [
       "$\\forall_{~.., x_{\\Box} ,..~, y  \\in \\mathbb{C}~|~ \\left(y \\neq 0\\right) } \\left(\\frac{~..+ x_{\\Box} +..~}{y} = \\left(~..+ \\frac{x_{\\Box}}{y} +..~\\right)\\right)$"
      ]
     },
     "execution_count": 8,
     "metadata": {},
     "output_type": "execute_result"
    }
   ],
   "source": [
    "distributeFractionThroughSum"
   ]
  },
  {
   "cell_type": "code",
   "execution_count": 9,
   "metadata": {
    "collapsed": false,
    "deletable": true,
    "editable": true
   },
   "outputs": [
    {
     "data": {
      "text/latex": [
       "$\\frac{ a + b + c }{d} = \\left( \\frac{a}{d} + \\frac{b}{d} + \\frac{c}{d} \\right)$"
      ],
      "text/plain": [
       "$\\frac{ a + b + c }{d} = \\left( \\frac{a}{d} + \\frac{b}{d} + \\frac{c}{d} \\right)$"
      ]
     },
     "execution_count": 9,
     "metadata": {},
     "output_type": "execute_result"
    }
   ],
   "source": [
    "distributeFractionThroughSum.specialize({xEtc:[a, b, c], y:d})"
   ]
  },
  {
   "cell_type": "code",
   "execution_count": 10,
   "metadata": {
    "collapsed": false,
    "deletable": true,
    "editable": true
   },
   "outputs": [
    {
     "data": {
      "text/latex": [
       "$\\forall_{ x , y , z  \\in \\mathbb{C}~|~ \\left(z \\neq 0\\right) } \\left(\\frac{x - y}{z} = \\left(\\frac{x}{z} - \\frac{y}{z}\\right)\\right)$"
      ],
      "text/plain": [
       "$\\forall_{ x , y , z  \\in \\mathbb{C}~|~ \\left(z \\neq 0\\right) } \\left(\\frac{x - y}{z} = \\left(\\frac{x}{z} - \\frac{y}{z}\\right)\\right)$"
      ]
     },
     "execution_count": 10,
     "metadata": {},
     "output_type": "execute_result"
    }
   ],
   "source": [
    "distributeFractionThroughSubtract"
   ]
  },
  {
   "cell_type": "code",
   "execution_count": 11,
   "metadata": {
    "collapsed": false,
    "deletable": true,
    "editable": true
   },
   "outputs": [
    {
     "data": {
      "text/latex": [
       "$\\frac{a - b}{c} = \\left(\\frac{a}{c} - \\frac{b}{c}\\right)$"
      ],
      "text/plain": [
       "$\\frac{a - b}{c} = \\left(\\frac{a}{c} - \\frac{b}{c}\\right)$"
      ]
     },
     "execution_count": 11,
     "metadata": {},
     "output_type": "execute_result"
    }
   ],
   "source": [
    "distributeFractionThroughSubtract.specialize({x:a, y:b, z:c})"
   ]
  },
  {
   "cell_type": "code",
   "execution_count": 12,
   "metadata": {
    "collapsed": false,
    "deletable": true,
    "editable": true
   },
   "outputs": [],
   "source": [
    "assumptions = set([In(var, Complexes) for var in [c, d, x, y, z]])\n",
    "assumptions = assumptions | set([In(var, Integers) for var in [a, b]])"
   ]
  },
  {
   "cell_type": "code",
   "execution_count": 13,
   "metadata": {
    "collapsed": false,
    "deletable": true,
    "editable": true
   },
   "outputs": [
    {
     "data": {
      "text/latex": [
       "$\\left( a \\cdot b \\cdot \\left( x + y + z \\right) \\cdot c \\cdot d \\right) = \\left( \\left( a \\cdot b \\cdot x \\cdot c \\cdot d \\right) + \\left( a \\cdot b \\cdot y \\cdot c \\cdot d \\right) + \\left( a \\cdot b \\cdot z \\cdot c \\cdot d \\right) \\right)$"
      ],
      "text/plain": [
       "$\\left( a \\cdot b \\cdot \\left( x + y + z \\right) \\cdot c \\cdot d \\right) = \\left( \\left( a \\cdot b \\cdot x \\cdot c \\cdot d \\right) + \\left( a \\cdot b \\cdot y \\cdot c \\cdot d \\right) + \\left( a \\cdot b \\cdot z \\cdot c \\cdot d \\right) \\right)$"
      ]
     },
     "execution_count": 13,
     "metadata": {},
     "output_type": "execute_result"
    }
   ],
   "source": [
    "Multiply(a, b, Add(x, y, z), c, d).distribute(2, assumptions=assumptions)"
   ]
  },
  {
   "cell_type": "code",
   "execution_count": 14,
   "metadata": {
    "collapsed": false,
    "deletable": true,
    "editable": true
   },
   "outputs": [
    {
     "data": {
      "text/latex": [
       "$\\left( a \\cdot b \\cdot \\left(x - y\\right) \\cdot c \\cdot d \\right) = \\left(\\left( a \\cdot b \\cdot x \\cdot c \\cdot d \\right) - \\left( a \\cdot b \\cdot y \\cdot c \\cdot d \\right)\\right)$"
      ],
      "text/plain": [
       "$\\left( a \\cdot b \\cdot \\left(x - y\\right) \\cdot c \\cdot d \\right) = \\left(\\left( a \\cdot b \\cdot x \\cdot c \\cdot d \\right) - \\left( a \\cdot b \\cdot y \\cdot c \\cdot d \\right)\\right)$"
      ]
     },
     "execution_count": 14,
     "metadata": {},
     "output_type": "execute_result"
    }
   ],
   "source": [
    "Multiply(a, b, Subtract(x, y), c, d).distribute(2, assumptions=assumptions)"
   ]
  },
  {
   "cell_type": "code",
   "execution_count": 15,
   "metadata": {
    "collapsed": false,
    "deletable": true,
    "editable": true
   },
   "outputs": [
    {
     "data": {
      "text/latex": [
       "$x \\in \\mathbb{Z}$"
      ],
      "text/plain": [
       "$x \\in \\mathbb{Z}$"
      ]
     },
     "metadata": {},
     "output_type": "display_data"
    },
    {
     "data": {
      "text/latex": [
       "$\\left(\\sum_{x=a}^{b} x\\right) \\in \\mathbb{C}$"
      ],
      "text/plain": [
       "$\\left(\\sum_{x=a}^{b} x\\right) \\in \\mathbb{C}$"
      ]
     },
     "metadata": {},
     "output_type": "display_data"
    }
   ],
   "source": [
    "from proveit.number.numberSets import deduceInComplexes\n",
    "xDomain = DiscreteContiguousSet(a, b)\n",
    "display(xDomain.deduceMemberInIntegers(x, assumptions).proven({In(x, xDomain)} | assumptions))\n",
    "expr = Summation(x, x, domain=xDomain)\n",
    "display(deduceInComplexes(expr, assumptions=assumptions))"
   ]
  },
  {
   "cell_type": "code",
   "execution_count": 16,
   "metadata": {
    "collapsed": false,
    "deletable": true,
    "editable": true
   },
   "outputs": [
    {
     "data": {
      "text/latex": [
       "$\\forall_{ x  \\in \\{a\\ldots b\\}} \\left(x \\in \\mathbb{Z}\\right)$"
      ],
      "text/plain": [
       "$\\forall_{ x  \\in \\{a\\ldots b\\}} \\left(x \\in \\mathbb{Z}\\right)$"
      ]
     },
     "execution_count": 16,
     "metadata": {},
     "output_type": "execute_result"
    }
   ],
   "source": [
    "expr.domain.deduceMemberInIntegers(x, assumptions=assumptions).generalize(x, domain=expr.domain).proven(assumptions=assumptions)"
   ]
  },
  {
   "cell_type": "code",
   "execution_count": 17,
   "metadata": {
    "collapsed": false,
    "deletable": true,
    "editable": true
   },
   "outputs": [
    {
     "data": {
      "text/latex": [
       "$\\left( z \\cdot y \\cdot \\left(\\sum_{x=a}^{b} x\\right) \\cdot z \\cdot y \\right) = \\left(\\sum_{x=a}^{b} \\left( z \\cdot y \\cdot x \\cdot z \\cdot y \\right)\\right)$"
      ],
      "text/plain": [
       "$\\left( z \\cdot y \\cdot \\left(\\sum_{x=a}^{b} x\\right) \\cdot z \\cdot y \\right) = \\left(\\sum_{x=a}^{b} \\left( z \\cdot y \\cdot x \\cdot z \\cdot y \\right)\\right)$"
      ]
     },
     "execution_count": 17,
     "metadata": {},
     "output_type": "execute_result"
    }
   ],
   "source": [
    "Multiply(z, y, Summation(x, x, domain=DiscreteContiguousSet(a, b)), z, y).distribute(2, assumptions=assumptions)"
   ]
  },
  {
   "cell_type": "code",
   "execution_count": 18,
   "metadata": {
    "collapsed": false,
    "deletable": true,
    "editable": true
   },
   "outputs": [
    {
     "data": {
      "text/latex": [
       "$\\frac{ a + b + c }{d} = \\left( \\frac{a}{d} + \\frac{b}{d} + \\frac{c}{d} \\right)$"
      ],
      "text/plain": [
       "$\\frac{ a + b + c }{d} = \\left( \\frac{a}{d} + \\frac{b}{d} + \\frac{c}{d} \\right)$"
      ]
     },
     "execution_count": 18,
     "metadata": {},
     "output_type": "execute_result"
    }
   ],
   "source": [
    "Fraction(Add(a, b, c), d).distribute(assumptions=assumptions)"
   ]
  },
  {
   "cell_type": "code",
   "execution_count": 19,
   "metadata": {
    "collapsed": false,
    "deletable": true,
    "editable": true
   },
   "outputs": [
    {
     "data": {
      "text/latex": [
       "$\\frac{a - b}{d} = \\left(\\frac{a}{d} - \\frac{b}{d}\\right)$"
      ],
      "text/plain": [
       "$\\frac{a - b}{d} = \\left(\\frac{a}{d} - \\frac{b}{d}\\right)$"
      ]
     },
     "execution_count": 19,
     "metadata": {},
     "output_type": "execute_result"
    }
   ],
   "source": [
    "Fraction(Subtract(a, b), d).distribute(assumptions=assumptions)"
   ]
  },
  {
   "cell_type": "code",
   "execution_count": 20,
   "metadata": {
    "collapsed": false,
    "deletable": true,
    "editable": true
   },
   "outputs": [
    {
     "data": {
      "text/latex": [
       "$\\frac{\\sum_{x=y}^{z} P\\left( x \\right)}{d} = \\left(\\sum_{x=y}^{z} \\frac{P\\left( x \\right)}{d}\\right)$"
      ],
      "text/plain": [
       "$\\frac{\\sum_{x=y}^{z} P\\left( x \\right)}{d} = \\left(\\sum_{x=y}^{z} \\frac{P\\left( x \\right)}{d}\\right)$"
      ]
     },
     "execution_count": 20,
     "metadata": {},
     "output_type": "execute_result"
    }
   ],
   "source": [
    "Fraction(Summation(x, Px, DiscreteContiguousSet(y, z)), d).distribute(assumptions=assumptions)"
   ]
  },
  {
   "cell_type": "code",
   "execution_count": 21,
   "metadata": {
    "collapsed": false,
    "deletable": true,
    "editable": true
   },
   "outputs": [
    {
     "data": {
      "text/plain": [
       "{$a \\in \\mathbb{Z}$,\n",
       " $d \\in \\mathbb{C}$,\n",
       " $c \\in \\mathbb{C}$,\n",
       " $x \\in \\mathbb{C}$,\n",
       " $y \\in \\mathbb{C}$,\n",
       " $z \\in \\mathbb{C}$,\n",
       " $b \\in \\mathbb{Z}$}"
      ]
     },
     "execution_count": 21,
     "metadata": {},
     "output_type": "execute_result"
    }
   ],
   "source": [
    "assumptions"
   ]
  },
  {
   "cell_type": "code",
   "execution_count": null,
   "metadata": {
    "collapsed": true,
    "deletable": true,
    "editable": true
   },
   "outputs": [],
   "source": [
    "/====\\\n",
    "|    |\n",
    "| [] |\n"
   ]
  }
 ],
 "metadata": {
  "kernelspec": {
   "display_name": "Python 2",
   "language": "python",
   "name": "python2"
  },
  "language_info": {
   "codemirror_mode": {
    "name": "ipython",
    "version": 2
   },
   "file_extension": ".py",
   "mimetype": "text/x-python",
   "name": "python",
   "nbconvert_exporter": "python",
   "pygments_lexer": "ipython2",
   "version": "2.7.11"
  }
 },
 "nbformat": 4,
 "nbformat_minor": 0
}
