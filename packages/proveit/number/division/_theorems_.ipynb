{
 "cells": [
  {
   "cell_type": "markdown",
   "metadata": {
    "collapsed": true,
    "deletable": true,
    "editable": true
   },
   "source": [
    "Theorems for context <a href=\"_context_.html\">proveit.number.division</a>\n",
    "========"
   ]
  },
  {
   "cell_type": "code",
   "execution_count": 28,
   "metadata": {
    "collapsed": false,
    "deletable": true,
    "editable": true
   },
   "outputs": [],
   "source": [
    "import proveit\n",
    "# the context is in the current directory:\n",
    "context = proveit.Context('.') # adds context root to sys.path if necessary\n",
    "from proveit import Etcetera\n",
    "from proveit.logic import Forall, InSet, Equals, NotEquals, Implies\n",
    "from proveit.number import Integers, NaturalsPos, Reals, RealsPos, Complexes\n",
    "from proveit.number import Divide, Frac, Add, Sub, Sum, Mult, Exp, zero, one\n",
    "from proveit._common_ import a, b, c, n, w, x, y, z, P, S, wMulti, xMulti, yMulti, zMulti, wEtc, xEtc, yEtc, zEtc, PyEtc\n",
    "from proveit.number._common_ import ComplexesSansZero"
   ]
  },
  {
   "cell_type": "code",
   "execution_count": 6,
   "metadata": {
    "collapsed": false,
    "deletable": true,
    "editable": true
   },
   "outputs": [
    {
     "name": "stdout",
     "output_type": "stream",
     "text": [
      "Defining theorems for context 'proveit.number.division'\n",
      "Subsequent end-of-cell assignments will define theorems\n",
      "'%end theorems' will finalize the definitions\n"
     ]
    }
   ],
   "source": [
    "%begin theorems"
   ]
  },
  {
   "cell_type": "code",
   "execution_count": 7,
   "metadata": {
    "collapsed": false
   },
   "outputs": [
    {
     "data": {
      "text/html": [
       "<strong id=\"divideRealClosure\"><a class=\"ProveItLink\" href=\"_proofs_\\divideRealClosure.ipynb\" target=\"_blank\">divideRealClosure</a>:</strong> <a href=\"__pv_it\\0f7354e02c2abfac6efa817cdccf1e3a2e960c070\\expr.ipynb\" target=\"_blank\"><img src=\"__pv_it\\0f7354e02c2abfac6efa817cdccf1e3a2e960c070\\expr.png\" style=\"display:inline;vertical-align:middle;\" /></a><br>"
      ],
      "text/plain": [
       "divideRealClosure: forall_{a, b in Reals | (b != 0)} ((a / b) in Reals)"
      ]
     },
     "execution_count": 7,
     "metadata": {},
     "output_type": "execute_result"
    }
   ],
   "source": [
    "divideRealClosure = Forall([a, b], InSet(Divide(a, b), Reals), domain=Reals, conditions=[NotEquals(b, zero)])"
   ]
  },
  {
   "cell_type": "code",
   "execution_count": 8,
   "metadata": {
    "collapsed": false
   },
   "outputs": [
    {
     "data": {
      "text/html": [
       "<strong id=\"divideRealPosClosure\"><a class=\"ProveItLink\" href=\"_proofs_\\divideRealPosClosure.ipynb\" target=\"_blank\">divideRealPosClosure</a>:</strong> <a href=\"__pv_it\\751be6bb3c7531ba6663111d470ae8cdd2706a730\\expr.ipynb\" target=\"_blank\"><img src=\"__pv_it\\751be6bb3c7531ba6663111d470ae8cdd2706a730\\expr.png\" style=\"display:inline;vertical-align:middle;\" /></a><br>"
      ],
      "text/plain": [
       "divideRealPosClosure: forall_{a, b in RealsPos | (b != 0)} ((a / b) in RealsPos)"
      ]
     },
     "execution_count": 8,
     "metadata": {},
     "output_type": "execute_result"
    }
   ],
   "source": [
    "divideRealPosClosure = Forall([a, b], InSet(Divide(a, b), RealsPos), domain=RealsPos, conditions=[NotEquals(b, zero)])"
   ]
  },
  {
   "cell_type": "code",
   "execution_count": 10,
   "metadata": {
    "collapsed": false
   },
   "outputs": [
    {
     "data": {
      "text/html": [
       "<strong id=\"fractionRealClosure\"><a class=\"ProveItLink\" href=\"_proofs_\\fractionRealClosure.ipynb\" target=\"_blank\">fractionRealClosure</a>:</strong> <a href=\"__pv_it\\d9004727399652bc3d5b7c4e2bbd7393560b858a0\\expr.ipynb\" target=\"_blank\"><img src=\"__pv_it\\d9004727399652bc3d5b7c4e2bbd7393560b858a0\\expr.png\" style=\"display:inline;vertical-align:middle;\" /></a><br>"
      ],
      "text/plain": [
       "fractionRealClosure: forall_{a, b in Reals | (b != 0)} (frac(a,b) in Reals)"
      ]
     },
     "execution_count": 10,
     "metadata": {},
     "output_type": "execute_result"
    }
   ],
   "source": [
    "fractionRealClosure = Forall([a, b], InSet(Frac(a, b), Reals), domain=Reals, conditions=[NotEquals(b, zero)])"
   ]
  },
  {
   "cell_type": "code",
   "execution_count": 11,
   "metadata": {
    "collapsed": false
   },
   "outputs": [
    {
     "data": {
      "text/html": [
       "<strong id=\"fractionPosClosure\"><a class=\"ProveItLink\" href=\"_proofs_\\fractionPosClosure.ipynb\" target=\"_blank\">fractionPosClosure</a>:</strong> <a href=\"__pv_it\\1c8ed73ce788f3a0ffcfabbd34100d5510cc50ba0\\expr.ipynb\" target=\"_blank\"><img src=\"__pv_it\\1c8ed73ce788f3a0ffcfabbd34100d5510cc50ba0\\expr.png\" style=\"display:inline;vertical-align:middle;\" /></a><br>"
      ],
      "text/plain": [
       "fractionPosClosure: forall_{a, b in RealsPos | (b != 0)} (frac(a,b) in RealsPos)"
      ]
     },
     "execution_count": 11,
     "metadata": {},
     "output_type": "execute_result"
    }
   ],
   "source": [
    "fractionPosClosure = Forall([a, b], InSet(Frac(a, b), RealsPos), domain=RealsPos, conditions=[NotEquals(b, zero)])"
   ]
  },
  {
   "cell_type": "code",
   "execution_count": 12,
   "metadata": {
    "collapsed": false
   },
   "outputs": [
    {
     "data": {
      "text/html": [
       "<strong id=\"divideComplexClosure\"><a class=\"ProveItLink\" href=\"_proofs_\\divideComplexClosure.ipynb\" target=\"_blank\">divideComplexClosure</a>:</strong> <a href=\"__pv_it\\d6ceef22ea46c6bf18975f46a58a028c245d0fac0\\expr.ipynb\" target=\"_blank\"><img src=\"__pv_it\\d6ceef22ea46c6bf18975f46a58a028c245d0fac0\\expr.png\" style=\"display:inline;vertical-align:middle;\" /></a><br>"
      ],
      "text/plain": [
       "divideComplexClosure: forall_{a, b in Complexes | (b != 0)} ((a / b) in Complexes)"
      ]
     },
     "execution_count": 12,
     "metadata": {},
     "output_type": "execute_result"
    }
   ],
   "source": [
    "divideComplexClosure = Forall([a, b], InSet(Divide(a, b), Complexes), domain=Complexes, conditions=[NotEquals(b, zero)])"
   ]
  },
  {
   "cell_type": "code",
   "execution_count": 13,
   "metadata": {
    "collapsed": false
   },
   "outputs": [
    {
     "data": {
      "text/html": [
       "<strong id=\"fractionComplexClosure\"><a class=\"ProveItLink\" href=\"_proofs_\\fractionComplexClosure.ipynb\" target=\"_blank\">fractionComplexClosure</a>:</strong> <a href=\"__pv_it\\1dd08eb0156ce602400bdae3848ae1464c2543630\\expr.ipynb\" target=\"_blank\"><img src=\"__pv_it\\1dd08eb0156ce602400bdae3848ae1464c2543630\\expr.png\" style=\"display:inline;vertical-align:middle;\" /></a><br>"
      ],
      "text/plain": [
       "fractionComplexClosure: forall_{a, b in Complexes | (b != 0)} (frac(a,b) in Complexes)"
      ]
     },
     "execution_count": 13,
     "metadata": {},
     "output_type": "execute_result"
    }
   ],
   "source": [
    "fractionComplexClosure = Forall([a, b], InSet(Frac(a, b), Complexes), domain=Complexes, conditions=[NotEquals(b, zero)])"
   ]
  },
  {
   "cell_type": "code",
   "execution_count": 14,
   "metadata": {
    "collapsed": false
   },
   "outputs": [
    {
     "data": {
      "text/html": [
       "<strong id=\"divideNotEqZero\"><a class=\"ProveItLink\" href=\"_proofs_\\divideNotEqZero.ipynb\" target=\"_blank\">divideNotEqZero</a>:</strong> <a href=\"__pv_it\\0eb922ef2cb9621345e6083a49e4835221f016460\\expr.ipynb\" target=\"_blank\"><img src=\"__pv_it\\0eb922ef2cb9621345e6083a49e4835221f016460\\expr.png\" style=\"display:inline;vertical-align:middle;\" /></a><br>"
      ],
      "text/plain": [
       "divideNotEqZero: forall_{a, b in (Complexes - {0})} ((a / b) != 0)"
      ]
     },
     "execution_count": 14,
     "metadata": {},
     "output_type": "execute_result"
    }
   ],
   "source": [
    "divideNotEqZero = Forall([a, b], NotEquals(Divide(a,b), zero), domain=ComplexesSansZero)"
   ]
  },
  {
   "cell_type": "code",
   "execution_count": 15,
   "metadata": {
    "collapsed": false
   },
   "outputs": [
    {
     "data": {
      "text/html": [
       "<strong id=\"fractionNotEqZero\"><a class=\"ProveItLink\" href=\"_proofs_\\fractionNotEqZero.ipynb\" target=\"_blank\">fractionNotEqZero</a>:</strong> <a href=\"__pv_it\\e48a5346eedbb1263e83a32375c6d0c4388adde30\\expr.ipynb\" target=\"_blank\"><img src=\"__pv_it\\e48a5346eedbb1263e83a32375c6d0c4388adde30\\expr.png\" style=\"display:inline;vertical-align:middle;\" /></a><br>"
      ],
      "text/plain": [
       "fractionNotEqZero: forall_{a, b in (Complexes - {0})} (frac(a,b) != 0)"
      ]
     },
     "execution_count": 15,
     "metadata": {},
     "output_type": "execute_result"
    }
   ],
   "source": [
    "fractionNotEqZero = Forall([a, b], NotEquals(Frac(a,b), zero), domain=ComplexesSansZero)"
   ]
  },
  {
   "cell_type": "code",
   "execution_count": 16,
   "metadata": {
    "collapsed": false
   },
   "outputs": [
    {
     "data": {
      "text/html": [
       "<strong id=\"fracZeroNumer\"><a class=\"ProveItLink\" href=\"_proofs_\\fracZeroNumer.ipynb\" target=\"_blank\">fracZeroNumer</a>:</strong> <a href=\"__pv_it\\d6de2278c2b3e95aa780d0dc1496cc3de6546e510\\expr.ipynb\" target=\"_blank\"><img src=\"__pv_it\\d6de2278c2b3e95aa780d0dc1496cc3de6546e510\\expr.png\" style=\"display:inline;vertical-align:middle;\" /></a><br>"
      ],
      "text/plain": [
       "fracZeroNumer: forall_{x in Complexes} (frac(0,x) = 0)"
      ]
     },
     "execution_count": 16,
     "metadata": {},
     "output_type": "execute_result"
    }
   ],
   "source": [
    "fracZeroNumer = Forall(x, Equals(Frac(zero, x), zero), domain=Complexes)"
   ]
  },
  {
   "cell_type": "code",
   "execution_count": 17,
   "metadata": {
    "collapsed": false
   },
   "outputs": [
    {
     "data": {
      "text/html": [
       "<strong id=\"fracOneDenom\"><a class=\"ProveItLink\" href=\"_proofs_\\fracOneDenom.ipynb\" target=\"_blank\">fracOneDenom</a>:</strong> <a href=\"__pv_it\\7f91ff63c4607b2a72bb3a2e57703491dc5987b90\\expr.ipynb\" target=\"_blank\"><img src=\"__pv_it\\7f91ff63c4607b2a72bb3a2e57703491dc5987b90\\expr.png\" style=\"display:inline;vertical-align:middle;\" /></a><br>"
      ],
      "text/plain": [
       "fracOneDenom: forall_{x in Complexes} (frac(x,1) = x)"
      ]
     },
     "execution_count": 17,
     "metadata": {},
     "output_type": "execute_result"
    }
   ],
   "source": [
    "fracOneDenom = Forall(x, Equals(Frac(x, one), x), domain=Complexes)"
   ]
  },
  {
   "cell_type": "code",
   "execution_count": 19,
   "metadata": {
    "collapsed": false
   },
   "outputs": [
    {
     "data": {
      "text/html": [
       "<strong id=\"distributeFractionThroughSum\"><a class=\"ProveItLink\" href=\"_proofs_\\distributeFractionThroughSum.ipynb\" target=\"_blank\">distributeFractionThroughSum</a>:</strong> <a href=\"__pv_it\\f2e6af50db4b0b26c6bacab8349f35f4a644c9460\\expr.ipynb\" target=\"_blank\"><img src=\"__pv_it\\f2e6af50db4b0b26c6bacab8349f35f4a644c9460\\expr.png\" style=\"display:inline;vertical-align:middle;\" /></a><br>"
      ],
      "text/plain": [
       "distributeFractionThroughSum: forall_{x_{*}, y in Complexes | (y != 0)} (frac( .. + x_{*} + .. ,y) = ( .. + frac(x_{*},y) + .. ))"
      ]
     },
     "execution_count": 19,
     "metadata": {},
     "output_type": "execute_result"
    }
   ],
   "source": [
    "distributeFractionThroughSum = Forall([xMulti, y], \n",
    "                                      Equals(Frac(Add(xEtc), y),\n",
    "                                             Add(Etcetera(Frac(xMulti, y)))), \n",
    "                                      domain=Complexes, conditions=[NotEquals(y, zero)])"
   ]
  },
  {
   "cell_type": "code",
   "execution_count": 20,
   "metadata": {
    "collapsed": false
   },
   "outputs": [
    {
     "data": {
      "text/html": [
       "<strong id=\"distributeFractionThroughSubtract\"><a class=\"ProveItLink\" href=\"_proofs_\\distributeFractionThroughSubtract.ipynb\" target=\"_blank\">distributeFractionThroughSubtract</a>:</strong> <a href=\"__pv_it\\8c7e1605015a54a5b47c9b0d8b5d8fe54bf802750\\expr.ipynb\" target=\"_blank\"><img src=\"__pv_it\\8c7e1605015a54a5b47c9b0d8b5d8fe54bf802750\\expr.png\" style=\"display:inline;vertical-align:middle;\" /></a><br>"
      ],
      "text/plain": [
       "distributeFractionThroughSubtract: forall_{x, y, z in Complexes | (z != 0)} (frac(x - y,z) = (frac(x,z) - frac(y,z)))"
      ]
     },
     "execution_count": 20,
     "metadata": {},
     "output_type": "execute_result"
    }
   ],
   "source": [
    "distributeFractionThroughSubtract = Forall([x, y, z], \n",
    "                                          Equals(Frac(Sub(x, y), z),\n",
    "                                                 Sub(Frac(x, z), Frac(y, z))), \n",
    "                                          domain=Complexes, conditions=[NotEquals(z, zero)])"
   ]
  },
  {
   "cell_type": "code",
   "execution_count": 25,
   "metadata": {
    "collapsed": false
   },
   "outputs": [
    {
     "data": {
      "text/html": [
       "<strong id=\"distributeFractionThroughSummation\"><a class=\"ProveItLink\" href=\"_proofs_\\distributeFractionThroughSummation.ipynb\" target=\"_blank\">distributeFractionThroughSummation</a>:</strong> <a href=\"__pv_it\\b4b031d37df3ed23ff8924d01359404f2f21ce4d0\\expr.ipynb\" target=\"_blank\"><img src=\"__pv_it\\b4b031d37df3ed23ff8924d01359404f2f21ce4d0\\expr.png\" style=\"display:inline;vertical-align:middle;\" /></a><br>"
      ],
      "text/plain": [
       "distributeFractionThroughSummation: forall_{P, S} ([forall_{y_{*} in S} (P( ..,y_{*},.. ) in Complexes)] => [forall_{z in Complexes} (frac(Sum_{y_{*} in S} P( ..,y_{*},.. ),z) = [Sum_{y_{*} in S} frac(P( ..,y_{*},.. ),z)])])"
      ]
     },
     "execution_count": 25,
     "metadata": {},
     "output_type": "execute_result"
    }
   ],
   "source": [
    "distributeFractionThroughSummation = Forall([P, S],\n",
    "                                    Implies(Forall(yMulti, InSet(PyEtc, Complexes), domain=S),\n",
    "                                            Forall(z,\n",
    "                                                   Equals(Frac(Sum(yMulti, PyEtc, domain=S), z),\n",
    "                                                          Sum(yMulti, Frac(PyEtc, z), domain=S)),\n",
    "                                                  domain=Complexes)))"
   ]
  },
  {
   "cell_type": "code",
   "execution_count": 29,
   "metadata": {
    "collapsed": false
   },
   "outputs": [
    {
     "data": {
      "text/html": [
       "<strong id=\"fracInProd\"><a class=\"ProveItLink\" href=\"_proofs_\\fracInProd.ipynb\" target=\"_blank\">fracInProd</a>:</strong> <a href=\"__pv_it\\62c0886596aca4b0166a27c57826a4467dfb1bce0\\expr.ipynb\" target=\"_blank\"><img src=\"__pv_it\\62c0886596aca4b0166a27c57826a4467dfb1bce0\\expr.png\" style=\"display:inline;vertical-align:middle;\" /></a><br>"
      ],
      "text/plain": [
       "fracInProd: forall_{w_{*}, x, y, z_{*} in Complexes} (( .. * w_{*} * ..  * frac(x,y) *  .. * z_{*} * .. ) = frac( .. * w_{*} * ..  * x *  .. * z_{*} * .. ,y))"
      ]
     },
     "execution_count": 29,
     "metadata": {},
     "output_type": "execute_result"
    }
   ],
   "source": [
    "fracInProd = Forall([wMulti, x, y, zMulti], Equals(Mult(wEtc, Frac(x, y), zEtc),\n",
    "                                                   Frac(Mult(wEtc, x, zEtc), y)), domain=Complexes)"
   ]
  },
  {
   "cell_type": "code",
   "execution_count": 31,
   "metadata": {
    "collapsed": false
   },
   "outputs": [
    {
     "data": {
      "text/html": [
       "<strong id=\"prodOfFracs\"><a class=\"ProveItLink\" href=\"_proofs_\\prodOfFracs.ipynb\" target=\"_blank\">prodOfFracs</a>:</strong> <a href=\"__pv_it\\2fd04e2efbd3d02108b080b1a7324eeb70cad5450\\expr.ipynb\" target=\"_blank\"><img src=\"__pv_it\\2fd04e2efbd3d02108b080b1a7324eeb70cad5450\\expr.png\" style=\"display:inline;vertical-align:middle;\" /></a><br>"
      ],
      "text/plain": [
       "prodOfFracs: forall_{x, y, z, w in Complexes} ((frac(x,z) * frac(y,w)) = frac(x * y,z * w))"
      ]
     },
     "execution_count": 31,
     "metadata": {},
     "output_type": "execute_result"
    }
   ],
   "source": [
    "prodOfFracs = Forall([x, y, z, w], Equals(Mult(Frac(x, z), Frac(y, w)),\n",
    "                                           Frac(Mult(x, y), Mult(z, w))), domain=Complexes)"
   ]
  },
  {
   "cell_type": "code",
   "execution_count": 32,
   "metadata": {
    "collapsed": false
   },
   "outputs": [
    {
     "data": {
      "text/html": [
       "<strong id=\"prodOfFracsLeftNumerOne\"><a class=\"ProveItLink\" href=\"_proofs_\\prodOfFracsLeftNumerOne.ipynb\" target=\"_blank\">prodOfFracsLeftNumerOne</a>:</strong> <a href=\"__pv_it\\8833759dbf3fe0128a489e51c9541a84b4319efb0\\expr.ipynb\" target=\"_blank\"><img src=\"__pv_it\\8833759dbf3fe0128a489e51c9541a84b4319efb0\\expr.png\" style=\"display:inline;vertical-align:middle;\" /></a><br>"
      ],
      "text/plain": [
       "prodOfFracsLeftNumerOne: forall_{x, y, z in Complexes} ((frac(1,y) * frac(x,z)) = frac(x,y * z))"
      ]
     },
     "execution_count": 32,
     "metadata": {},
     "output_type": "execute_result"
    }
   ],
   "source": [
    "prodOfFracsLeftNumerOne = Forall([x, y, z], Equals(Mult(Frac(one, y), Frac(x, z)),\n",
    "                                                 Frac(x, Mult(y, z))), domain=Complexes)"
   ]
  },
  {
   "cell_type": "code",
   "execution_count": 33,
   "metadata": {
    "collapsed": false
   },
   "outputs": [
    {
     "data": {
      "text/html": [
       "<strong id=\"prodOfFracsRightNumerOne\"><a class=\"ProveItLink\" href=\"_proofs_\\prodOfFracsRightNumerOne.ipynb\" target=\"_blank\">prodOfFracsRightNumerOne</a>:</strong> <a href=\"__pv_it\\e87aa534fa5347be75426df043e81c77957a8b1a0\\expr.ipynb\" target=\"_blank\"><img src=\"__pv_it\\e87aa534fa5347be75426df043e81c77957a8b1a0\\expr.png\" style=\"display:inline;vertical-align:middle;\" /></a><br>"
      ],
      "text/plain": [
       "prodOfFracsRightNumerOne: forall_{x, y, z in Complexes} ((frac(x,y) * frac(1,z)) = frac(x,y * z))"
      ]
     },
     "execution_count": 33,
     "metadata": {},
     "output_type": "execute_result"
    }
   ],
   "source": [
    "prodOfFracsRightNumerOne = Forall([x, y, z], Equals(Mult(Frac(x, y), Frac(one, z)),\n",
    "                                                 Frac(x, Mult(y, z))), domain=Complexes)"
   ]
  },
  {
   "cell_type": "code",
   "execution_count": 34,
   "metadata": {
    "collapsed": false
   },
   "outputs": [
    {
     "data": {
      "text/html": [
       "<strong id=\"fracCancelLeft\"><a class=\"ProveItLink\" href=\"_proofs_\\fracCancelLeft.ipynb\" target=\"_blank\">fracCancelLeft</a>:</strong> <a href=\"__pv_it\\518c6518e5b6b87222eca77f8cc7a500b2ad19c20\\expr.ipynb\" target=\"_blank\"><img src=\"__pv_it\\518c6518e5b6b87222eca77f8cc7a500b2ad19c20\\expr.png\" style=\"display:inline;vertical-align:middle;\" /></a><br>"
      ],
      "text/plain": [
       "fracCancelLeft: forall_{x, y, z in Complexes | (x != 0)} (frac(x * y,x * z) = frac(y,z))"
      ]
     },
     "execution_count": 34,
     "metadata": {},
     "output_type": "execute_result"
    }
   ],
   "source": [
    "fracCancelLeft = Forall([x,y,z],\n",
    "                   Equals(Frac(Mult(x,y),Mult(x,z)),\n",
    "                         Frac(y,z)),domain=Complexes, conditions=[NotEquals(x, zero)])"
   ]
  },
  {
   "cell_type": "code",
   "execution_count": 35,
   "metadata": {
    "collapsed": false
   },
   "outputs": [
    {
     "data": {
      "text/html": [
       "<strong id=\"fracCancelDenomLeft\"><a class=\"ProveItLink\" href=\"_proofs_\\fracCancelDenomLeft.ipynb\" target=\"_blank\">fracCancelDenomLeft</a>:</strong> <a href=\"__pv_it\\8281f1a4a6fc53d016bfd3f498e92528b90321cc0\\expr.ipynb\" target=\"_blank\"><img src=\"__pv_it\\8281f1a4a6fc53d016bfd3f498e92528b90321cc0\\expr.png\" style=\"display:inline;vertical-align:middle;\" /></a><br>"
      ],
      "text/plain": [
       "fracCancelDenomLeft: forall_{x, y in Complexes | (x != 0)} (frac(x * y,x) = y)"
      ]
     },
     "execution_count": 35,
     "metadata": {},
     "output_type": "execute_result"
    }
   ],
   "source": [
    "fracCancelDenomLeft = Forall([x,y],\n",
    "                             Equals(Frac(Mult(x,y),x), y),\n",
    "                             domain=Complexes, conditions=[NotEquals(x, zero)])"
   ]
  },
  {
   "cell_type": "code",
   "execution_count": 36,
   "metadata": {
    "collapsed": false
   },
   "outputs": [
    {
     "data": {
      "text/html": [
       "<strong id=\"fracCancelNumerLeft\"><a class=\"ProveItLink\" href=\"_proofs_\\fracCancelNumerLeft.ipynb\" target=\"_blank\">fracCancelNumerLeft</a>:</strong> <a href=\"__pv_it\\6473f98f9b709c98eacc7b6a88eef99986e0804d0\\expr.ipynb\" target=\"_blank\"><img src=\"__pv_it\\6473f98f9b709c98eacc7b6a88eef99986e0804d0\\expr.png\" style=\"display:inline;vertical-align:middle;\" /></a><br>"
      ],
      "text/plain": [
       "fracCancelNumerLeft: forall_{x, y in Complexes | (x != 0)} (frac(x,x * y) = frac(1,y))"
      ]
     },
     "execution_count": 36,
     "metadata": {},
     "output_type": "execute_result"
    }
   ],
   "source": [
    "fracCancelNumerLeft = Forall([x,y],\n",
    "                             Equals(Frac(x,Mult(x,y)),\n",
    "                                    Frac(one,y)),domain=Complexes, conditions=[NotEquals(x, zero)])"
   ]
  },
  {
   "cell_type": "code",
   "execution_count": 37,
   "metadata": {
    "collapsed": false
   },
   "outputs": [
    {
     "data": {
      "text/html": [
       "<strong id=\"multFracLeftCancel\"><a class=\"ProveItLink\" href=\"_proofs_\\multFracLeftCancel.ipynb\" target=\"_blank\">multFracLeftCancel</a>:</strong> <a href=\"__pv_it\\0b7fcf23017b751da9de8544997a09949c49cb470\\expr.ipynb\" target=\"_blank\"><img src=\"__pv_it\\0b7fcf23017b751da9de8544997a09949c49cb470\\expr.png\" style=\"display:inline;vertical-align:middle;\" /></a><br>"
      ],
      "text/plain": [
       "multFracLeftCancel: forall_{x, y in Complexes | (y != 0)} ((frac(x,y) * y) = x)"
      ]
     },
     "execution_count": 37,
     "metadata": {},
     "output_type": "execute_result"
    }
   ],
   "source": [
    "multFracLeftCancel = Forall([x,y],\n",
    "                      Equals(Mult(Frac(x,y),y),x),\n",
    "                      domain = Complexes, conditions = [NotEquals(y, zero)])"
   ]
  },
  {
   "cell_type": "code",
   "execution_count": 38,
   "metadata": {
    "collapsed": false
   },
   "outputs": [
    {
     "data": {
      "text/html": [
       "<strong id=\"multFracRightCancel\"><a class=\"ProveItLink\" href=\"_proofs_\\multFracRightCancel.ipynb\" target=\"_blank\">multFracRightCancel</a>:</strong> <a href=\"__pv_it\\1aca3b82bf3d959612765ce11004ffdc6f1adc3b0\\expr.ipynb\" target=\"_blank\"><img src=\"__pv_it\\1aca3b82bf3d959612765ce11004ffdc6f1adc3b0\\expr.png\" style=\"display:inline;vertical-align:middle;\" /></a><br>"
      ],
      "text/plain": [
       "multFracRightCancel: forall_{x, y in Complexes | (x != 0)} ((x * frac(y,x)) = y)"
      ]
     },
     "execution_count": 38,
     "metadata": {},
     "output_type": "execute_result"
    }
   ],
   "source": [
    "multFracRightCancel = Forall([x,y],\n",
    "                             Equals(Mult(x, Frac(y, x)),y),\n",
    "                             domain = Complexes, conditions = [NotEquals(x, zero)])"
   ]
  },
  {
   "cell_type": "code",
   "execution_count": 39,
   "metadata": {
    "collapsed": false
   },
   "outputs": [
    {
     "data": {
      "text/html": [
       "<strong id=\"fracCancelComplete\"><a class=\"ProveItLink\" href=\"_proofs_\\fracCancelComplete.ipynb\" target=\"_blank\">fracCancelComplete</a>:</strong> <a href=\"__pv_it\\e0e57e337989a52396ce1c0c424e065aaa4698ac0\\expr.ipynb\" target=\"_blank\"><img src=\"__pv_it\\e0e57e337989a52396ce1c0c424e065aaa4698ac0\\expr.png\" style=\"display:inline;vertical-align:middle;\" /></a><br>"
      ],
      "text/plain": [
       "fracCancelComplete: forall_{x in Complexes | (x != 0)} (frac(x,x) = 1)"
      ]
     },
     "execution_count": 39,
     "metadata": {},
     "output_type": "execute_result"
    }
   ],
   "source": [
    "fracCancelComplete = Forall(x, Equals(Frac(x, x), one), \n",
    "                            domain=Complexes, conditions = [NotEquals(x, zero)])"
   ]
  },
  {
   "cell_type": "code",
   "execution_count": 40,
   "metadata": {
    "collapsed": false
   },
   "outputs": [
    {
     "data": {
      "text/html": [
       "<strong id=\"reverseFractionOfSubtractions\"><a class=\"ProveItLink\" href=\"_proofs_\\reverseFractionOfSubtractions.ipynb\" target=\"_blank\">reverseFractionOfSubtractions</a>:</strong> <a href=\"__pv_it\\097609370ace4a30c0cc29a76dda25441ece20d90\\expr.ipynb\" target=\"_blank\"><img src=\"__pv_it\\097609370ace4a30c0cc29a76dda25441ece20d90\\expr.png\" style=\"display:inline;vertical-align:middle;\" /></a><br>"
      ],
      "text/plain": [
       "reverseFractionOfSubtractions: forall_{w, x, y, z in Complexes} (frac(w - x,y - z) = frac(x - w,z - y))"
      ]
     },
     "execution_count": 40,
     "metadata": {},
     "output_type": "execute_result"
    }
   ],
   "source": [
    "reverseFractionOfSubtractions = Forall([w, x, y, z], Equals(Frac(Sub(w, x), Sub(y, z)),\n",
    "                                                           Frac(Sub(x, w), Sub(z, y))), \n",
    "                                       domain=Complexes)"
   ]
  },
  {
   "cell_type": "code",
   "execution_count": 41,
   "metadata": {
    "collapsed": false
   },
   "outputs": [
    {
     "data": {
      "text/html": [
       "<strong id=\"fracIntExp\"><a class=\"ProveItLink\" href=\"_proofs_\\fracIntExp.ipynb\" target=\"_blank\">fracIntExp</a>:</strong> <a href=\"__pv_it\\81e54b7b28ce1d0eabb9092c7b87c23f10b727310\\expr.ipynb\" target=\"_blank\"><img src=\"__pv_it\\81e54b7b28ce1d0eabb9092c7b87c23f10b727310\\expr.png\" style=\"display:inline;vertical-align:middle;\" /></a><br>"
      ],
      "text/plain": [
       "fracIntExp: forall_{n in Integers} [forall_{a, b | (a != 0),(b != 0)} (frac(a^{n},b^{n}) = frac(a,b)^{n})]"
      ]
     },
     "execution_count": 41,
     "metadata": {},
     "output_type": "execute_result"
    }
   ],
   "source": [
    "fracIntExp = Forall(n, Forall((a, b), \n",
    "                              Equals(Frac(Exp(a, n), Exp(b, n)),\n",
    "                                     Exp(Frac(a, b), n)),\n",
    "                             conditions = [NotEquals(a, zero), NotEquals(b, zero)]),\n",
    "                    domain=Integers)"
   ]
  },
  {
   "cell_type": "code",
   "execution_count": 42,
   "metadata": {
    "collapsed": false,
    "deletable": true,
    "editable": true
   },
   "outputs": [
    {
     "data": {
      "text/html": [
       "<strong id=\"fracNatPosExp\"><a class=\"ProveItLink\" href=\"_proofs_\\fracNatPosExp.ipynb\" target=\"_blank\">fracNatPosExp</a>:</strong> <a href=\"__pv_it\\e428cd5ba32c8c317a75df390dd5ce7bc25679b00\\expr.ipynb\" target=\"_blank\"><img src=\"__pv_it\\e428cd5ba32c8c317a75df390dd5ce7bc25679b00\\expr.png\" style=\"display:inline;vertical-align:middle;\" /></a><br>"
      ],
      "text/plain": [
       "fracNatPosExp: forall_{n in NaturalsPos} [forall_{a, b | (b != 0)} (frac(a^{n},b^{n}) = frac(a,b)^{n})]"
      ]
     },
     "execution_count": 42,
     "metadata": {},
     "output_type": "execute_result"
    }
   ],
   "source": [
    "fracNatPosExp = Forall(n, Forall((a, b), \n",
    "                              Equals(Frac(Exp(a, n), Exp(b, n)),\n",
    "                                     Exp(Frac(a, b), n)),\n",
    "                             conditions = [NotEquals(b, zero)]),\n",
    "                    domain=NaturalsPos)"
   ]
  },
  {
   "cell_type": "code",
   "execution_count": 43,
   "metadata": {
    "collapsed": false,
    "deletable": true,
    "editable": true
   },
   "outputs": [
    {
     "name": "stdout",
     "output_type": "stream",
     "text": [
      "Adding theorem divideRealClosure to proveit.number.division context\n",
      "Adding theorem divideRealPosClosure to proveit.number.division context\n",
      "Adding theorem fractionRealClosure to proveit.number.division context\n",
      "Adding theorem fractionPosClosure to proveit.number.division context\n",
      "Adding theorem divideComplexClosure to proveit.number.division context\n",
      "Adding theorem fractionComplexClosure to proveit.number.division context\n",
      "Adding theorem divideNotEqZero to proveit.number.division context\n",
      "Adding theorem fractionNotEqZero to proveit.number.division context\n",
      "Adding theorem fracZeroNumer to proveit.number.division context\n",
      "Adding theorem fracOneDenom to proveit.number.division context\n",
      "Adding theorem distributeFractionThroughSum to proveit.number.division context\n",
      "Adding theorem distributeFractionThroughSubtract to proveit.number.division context\n",
      "Adding theorem distributeFractionThroughSummation to proveit.number.division context\n",
      "Adding theorem fracInProd to proveit.number.division context\n",
      "Adding theorem prodOfFracs to proveit.number.division context\n",
      "Adding theorem prodOfFracsLeftNumerOne to proveit.number.division context\n",
      "Adding theorem prodOfFracsRightNumerOne to proveit.number.division context\n",
      "Adding theorem fracCancelLeft to proveit.number.division context\n",
      "Adding theorem fracCancelDenomLeft to proveit.number.division context\n",
      "Adding theorem fracCancelNumerLeft to proveit.number.division context\n",
      "Adding theorem multFracLeftCancel to proveit.number.division context\n",
      "Adding theorem multFracRightCancel to proveit.number.division context\n",
      "Adding theorem fracCancelComplete to proveit.number.division context\n",
      "Adding theorem reverseFractionOfSubtractions to proveit.number.division context\n",
      "Adding theorem fracIntExp to proveit.number.division context\n",
      "Adding theorem fracNatPosExp to proveit.number.division context\n",
      "divideRealClosure expression notebook is being updated\n",
      "divideNotEqZero expression notebook is being updated\n",
      "prodOfFracsLeftNumerOne expression notebook is being updated\n",
      "fractionNotEqZero expression notebook is being updated\n",
      "divideRealPosClosure expression notebook is being updated\n",
      "distributeFractionThroughSubtract expression notebook is being updated\n",
      "fractionPosClosure expression notebook is being updated\n",
      "reverseFractionOfSubtractions expression notebook is being updated\n",
      "fracCancelComplete expression notebook is being updated\n",
      "prodOfFracsRightNumerOne expression notebook is being updated\n",
      "fracZeroNumer expression notebook is being updated\n",
      "fracCancelLeft expression notebook is being updated\n",
      "fracOneDenom expression notebook is being updated\n",
      "fracIntExp expression notebook is being updated\n",
      "prodOfFracs expression notebook is being updated\n",
      "multFracRightCancel expression notebook is being updated\n",
      "fracInProd expression notebook is being updated\n",
      "fractionRealClosure expression notebook is being updated\n",
      "distributeFractionThroughSummation expression notebook is being updated\n",
      "fracNatPosExp expression notebook is being updated\n",
      "divideComplexClosure expression notebook is being updated\n",
      "distributeFractionThroughSum expression notebook is being updated\n",
      "fractionComplexClosure expression notebook is being updated\n",
      "fracCancelNumerLeft expression notebook is being updated\n",
      "multFracLeftCancel expression notebook is being updated\n",
      "fracCancelDenomLeft expression notebook is being updated\n",
      "Theorems may be imported from autogenerated _theorems_.py\n"
     ]
    }
   ],
   "source": [
    "%end theorems"
   ]
  },
  {
   "cell_type": "code",
   "execution_count": null,
   "metadata": {
    "collapsed": true
   },
   "outputs": [],
   "source": []
  }
 ],
 "metadata": {
  "kernelspec": {
   "display_name": "Python 2",
   "language": "python",
   "name": "python2"
  },
  "language_info": {
   "codemirror_mode": {
    "name": "ipython",
    "version": 2
   },
   "file_extension": ".py",
   "mimetype": "text/x-python",
   "name": "python",
   "nbconvert_exporter": "python",
   "pygments_lexer": "ipython2",
   "version": "2.7.11"
  }
 },
 "nbformat": 4,
 "nbformat_minor": 0
}
