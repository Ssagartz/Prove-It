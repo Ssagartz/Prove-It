{
 "cells": [
  {
   "cell_type": "markdown",
   "metadata": {
    "deletable": true,
    "editable": true
   },
   "source": [
    "Common expressions for context <a href=\"_context_.ipynb\" class=\"ProveItLink\">proveit</a>\n",
    "========\n",
    "\n",
    "These are generic common expressions based upon single-symbol Variable names."
   ]
  },
  {
   "cell_type": "code",
   "execution_count": 1,
   "metadata": {
    "collapsed": false,
    "deletable": true,
    "editable": true,
    "scrolled": true
   },
   "outputs": [
    {
     "name": "stdout",
     "output_type": "stream",
     "text": [
      "Defining common sub-expressions for context 'proveit'\n",
      "Subsequent end-of-cell assignments will define common sub-expressions\n",
      "%end_common will finalize the definitions\n"
     ]
    }
   ],
   "source": [
    "from proveit import Variable, Operation, MultiVariable, Etcetera, Label\n",
    "%begin_common"
   ]
  },
  {
   "cell_type": "code",
   "execution_count": 2,
   "metadata": {
    "collapsed": false,
    "deletable": true,
    "editable": true,
    "scrolled": true
   },
   "outputs": [
    {
     "data": {
      "text/html": [
       "<strong id=\"a\">a:</strong> <a href=\"__pv_it\\563df418b2f4501a697ee1a058c2ee5ff8e481000\\expr.ipynb\" target=\"_blank\"><img src=\"__pv_it\\563df418b2f4501a697ee1a058c2ee5ff8e481000\\expr.png\" style=\"display:inline;vertical-align:middle;\" /></a><br>"
      ],
      "text/plain": [
       "a: a"
      ]
     },
     "execution_count": 2,
     "metadata": {},
     "output_type": "execute_result"
    }
   ],
   "source": [
    "a = Variable('a')"
   ]
  },
  {
   "cell_type": "code",
   "execution_count": 3,
   "metadata": {
    "collapsed": false,
    "deletable": true,
    "editable": true
   },
   "outputs": [
    {
     "data": {
      "text/html": [
       "<strong id=\"b\">b:</strong> <a href=\"__pv_it\\c96df9db102bf2dcd5fad662469a963bfcb9d23c0\\expr.ipynb\" target=\"_blank\"><img src=\"__pv_it\\c96df9db102bf2dcd5fad662469a963bfcb9d23c0\\expr.png\" style=\"display:inline;vertical-align:middle;\" /></a><br>"
      ],
      "text/plain": [
       "b: b"
      ]
     },
     "execution_count": 3,
     "metadata": {},
     "output_type": "execute_result"
    }
   ],
   "source": [
    "b = Variable('b')"
   ]
  },
  {
   "cell_type": "code",
   "execution_count": 4,
   "metadata": {
    "collapsed": false,
    "deletable": true,
    "editable": true
   },
   "outputs": [
    {
     "data": {
      "text/html": [
       "<strong id=\"c\">c:</strong> <a href=\"__pv_it\\90bb44d26a8074e6e701f808bd18ac9cebf7781c0\\expr.ipynb\" target=\"_blank\"><img src=\"__pv_it\\90bb44d26a8074e6e701f808bd18ac9cebf7781c0\\expr.png\" style=\"display:inline;vertical-align:middle;\" /></a><br>"
      ],
      "text/plain": [
       "c: c"
      ]
     },
     "execution_count": 4,
     "metadata": {},
     "output_type": "execute_result"
    }
   ],
   "source": [
    "c = Variable('c')"
   ]
  },
  {
   "cell_type": "code",
   "execution_count": 5,
   "metadata": {
    "collapsed": false,
    "deletable": true,
    "editable": true
   },
   "outputs": [
    {
     "data": {
      "text/html": [
       "<strong id=\"d\">d:</strong> <a href=\"__pv_it\\3e7b209da89d26253425f65ec5d3da5b262e802e0\\expr.ipynb\" target=\"_blank\"><img src=\"__pv_it\\3e7b209da89d26253425f65ec5d3da5b262e802e0\\expr.png\" style=\"display:inline;vertical-align:middle;\" /></a><br>"
      ],
      "text/plain": [
       "d: d"
      ]
     },
     "execution_count": 5,
     "metadata": {},
     "output_type": "execute_result"
    }
   ],
   "source": [
    "d = Variable('d')"
   ]
  },
  {
   "cell_type": "code",
   "execution_count": 6,
   "metadata": {
    "collapsed": false,
    "deletable": true,
    "editable": true
   },
   "outputs": [
    {
     "data": {
      "text/html": [
       "<strong id=\"e\">e:</strong> <a href=\"__pv_it\\94d5672c7adf26fe0c27776cc1d45264ff3705d00\\expr.ipynb\" target=\"_blank\"><img src=\"__pv_it\\94d5672c7adf26fe0c27776cc1d45264ff3705d00\\expr.png\" style=\"display:inline;vertical-align:middle;\" /></a><br>"
      ],
      "text/plain": [
       "e: e"
      ]
     },
     "execution_count": 6,
     "metadata": {},
     "output_type": "execute_result"
    }
   ],
   "source": [
    "e = Variable('e')"
   ]
  },
  {
   "cell_type": "code",
   "execution_count": 7,
   "metadata": {
    "collapsed": false,
    "deletable": true,
    "editable": true
   },
   "outputs": [
    {
     "data": {
      "text/html": [
       "<strong id=\"f\">f:</strong> <a href=\"__pv_it\\7870486ece91e53f8583b10ccab1e55ddd32a7570\\expr.ipynb\" target=\"_blank\"><img src=\"__pv_it\\7870486ece91e53f8583b10ccab1e55ddd32a7570\\expr.png\" style=\"display:inline;vertical-align:middle;\" /></a><br>"
      ],
      "text/plain": [
       "f: f"
      ]
     },
     "execution_count": 7,
     "metadata": {},
     "output_type": "execute_result"
    }
   ],
   "source": [
    "f = Variable('f')"
   ]
  },
  {
   "cell_type": "code",
   "execution_count": 8,
   "metadata": {
    "collapsed": false,
    "deletable": true,
    "editable": true
   },
   "outputs": [
    {
     "data": {
      "text/html": [
       "<strong id=\"g\">g:</strong> <a href=\"__pv_it\\87c2ce56a7a372d5aa3685fc2d200d90c643a9c10\\expr.ipynb\" target=\"_blank\"><img src=\"__pv_it\\87c2ce56a7a372d5aa3685fc2d200d90c643a9c10\\expr.png\" style=\"display:inline;vertical-align:middle;\" /></a><br>"
      ],
      "text/plain": [
       "g: g"
      ]
     },
     "execution_count": 8,
     "metadata": {},
     "output_type": "execute_result"
    }
   ],
   "source": [
    "g = Variable('g')"
   ]
  },
  {
   "cell_type": "code",
   "execution_count": 9,
   "metadata": {
    "collapsed": false,
    "deletable": true,
    "editable": true
   },
   "outputs": [
    {
     "data": {
      "text/html": [
       "<strong id=\"h\">h:</strong> <a href=\"__pv_it\\3eab9737a68d1eee0121f1d5b7294d5cb37e86ef0\\expr.ipynb\" target=\"_blank\"><img src=\"__pv_it\\3eab9737a68d1eee0121f1d5b7294d5cb37e86ef0\\expr.png\" style=\"display:inline;vertical-align:middle;\" /></a><br>"
      ],
      "text/plain": [
       "h: h"
      ]
     },
     "execution_count": 9,
     "metadata": {},
     "output_type": "execute_result"
    }
   ],
   "source": [
    "h = Variable('h')"
   ]
  },
  {
   "cell_type": "code",
   "execution_count": 10,
   "metadata": {
    "collapsed": false,
    "deletable": true,
    "editable": true
   },
   "outputs": [
    {
     "data": {
      "text/html": [
       "<strong id=\"i\">i:</strong> <a href=\"__pv_it\\5dddf61341bda06fac6dff20e7aae814b14510780\\expr.ipynb\" target=\"_blank\"><img src=\"__pv_it\\5dddf61341bda06fac6dff20e7aae814b14510780\\expr.png\" style=\"display:inline;vertical-align:middle;\" /></a><br>"
      ],
      "text/plain": [
       "i: i"
      ]
     },
     "execution_count": 10,
     "metadata": {},
     "output_type": "execute_result"
    }
   ],
   "source": [
    "i = Variable('i')"
   ]
  },
  {
   "cell_type": "code",
   "execution_count": 11,
   "metadata": {
    "collapsed": false,
    "deletable": true,
    "editable": true
   },
   "outputs": [
    {
     "data": {
      "text/html": [
       "<strong id=\"j\">j:</strong> <a href=\"__pv_it\\b7c1f21a775d030e62b3576f1633f8c9f9943b6d0\\expr.ipynb\" target=\"_blank\"><img src=\"__pv_it\\b7c1f21a775d030e62b3576f1633f8c9f9943b6d0\\expr.png\" style=\"display:inline;vertical-align:middle;\" /></a><br>"
      ],
      "text/plain": [
       "j: j"
      ]
     },
     "execution_count": 11,
     "metadata": {},
     "output_type": "execute_result"
    }
   ],
   "source": [
    "j = Variable('j')"
   ]
  },
  {
   "cell_type": "code",
   "execution_count": 12,
   "metadata": {
    "collapsed": false,
    "deletable": true,
    "editable": true
   },
   "outputs": [
    {
     "data": {
      "text/html": [
       "<strong id=\"k\">k:</strong> <a href=\"__pv_it\\f1906c43cbd04988e2bcad774e47133c0a81581f0\\expr.ipynb\" target=\"_blank\"><img src=\"__pv_it\\f1906c43cbd04988e2bcad774e47133c0a81581f0\\expr.png\" style=\"display:inline;vertical-align:middle;\" /></a><br>"
      ],
      "text/plain": [
       "k: k"
      ]
     },
     "execution_count": 12,
     "metadata": {},
     "output_type": "execute_result"
    }
   ],
   "source": [
    "k = Variable('k')"
   ]
  },
  {
   "cell_type": "code",
   "execution_count": 13,
   "metadata": {
    "collapsed": false,
    "deletable": true,
    "editable": true
   },
   "outputs": [
    {
     "data": {
      "text/html": [
       "<strong id=\"l\">l:</strong> <a href=\"__pv_it\\81d16a6c6ddd4145d207feb7a214bfb9268a4bd90\\expr.ipynb\" target=\"_blank\"><img src=\"__pv_it\\81d16a6c6ddd4145d207feb7a214bfb9268a4bd90\\expr.png\" style=\"display:inline;vertical-align:middle;\" /></a><br>"
      ],
      "text/plain": [
       "l: l"
      ]
     },
     "execution_count": 13,
     "metadata": {},
     "output_type": "execute_result"
    }
   ],
   "source": [
    "l = Variable('l')"
   ]
  },
  {
   "cell_type": "code",
   "execution_count": 14,
   "metadata": {
    "collapsed": false,
    "deletable": true,
    "editable": true
   },
   "outputs": [
    {
     "data": {
      "text/html": [
       "<strong id=\"m\">m:</strong> <a href=\"__pv_it\\075c1076b45292eb630851699048214896da06240\\expr.ipynb\" target=\"_blank\"><img src=\"__pv_it\\075c1076b45292eb630851699048214896da06240\\expr.png\" style=\"display:inline;vertical-align:middle;\" /></a><br>"
      ],
      "text/plain": [
       "m: m"
      ]
     },
     "execution_count": 14,
     "metadata": {},
     "output_type": "execute_result"
    }
   ],
   "source": [
    "m = Variable('m')"
   ]
  },
  {
   "cell_type": "code",
   "execution_count": 15,
   "metadata": {
    "collapsed": false,
    "deletable": true,
    "editable": true
   },
   "outputs": [
    {
     "data": {
      "text/html": [
       "<strong id=\"n\">n:</strong> <a href=\"__pv_it\\976d556304f55d7c1e1b0d9882bd1610a2b027af0\\expr.ipynb\" target=\"_blank\"><img src=\"__pv_it\\976d556304f55d7c1e1b0d9882bd1610a2b027af0\\expr.png\" style=\"display:inline;vertical-align:middle;\" /></a><br>"
      ],
      "text/plain": [
       "n: n"
      ]
     },
     "execution_count": 15,
     "metadata": {},
     "output_type": "execute_result"
    }
   ],
   "source": [
    "n = Variable('n')"
   ]
  },
  {
   "cell_type": "code",
   "execution_count": 16,
   "metadata": {
    "collapsed": false,
    "deletable": true,
    "editable": true
   },
   "outputs": [
    {
     "data": {
      "text/html": [
       "<strong id=\"o\">o:</strong> <a href=\"__pv_it\\972c2cd6b5fd084e93b45f0648c1814164e495530\\expr.ipynb\" target=\"_blank\"><img src=\"__pv_it\\972c2cd6b5fd084e93b45f0648c1814164e495530\\expr.png\" style=\"display:inline;vertical-align:middle;\" /></a><br>"
      ],
      "text/plain": [
       "o: o"
      ]
     },
     "execution_count": 16,
     "metadata": {},
     "output_type": "execute_result"
    }
   ],
   "source": [
    "o = Variable('o')"
   ]
  },
  {
   "cell_type": "code",
   "execution_count": 17,
   "metadata": {
    "collapsed": false,
    "deletable": true,
    "editable": true
   },
   "outputs": [
    {
     "data": {
      "text/html": [
       "<strong id=\"p\">p:</strong> <a href=\"__pv_it\\89a0464052108f2bbf1a32b3309a85840690c8e20\\expr.ipynb\" target=\"_blank\"><img src=\"__pv_it\\89a0464052108f2bbf1a32b3309a85840690c8e20\\expr.png\" style=\"display:inline;vertical-align:middle;\" /></a><br>"
      ],
      "text/plain": [
       "p: p"
      ]
     },
     "execution_count": 17,
     "metadata": {},
     "output_type": "execute_result"
    }
   ],
   "source": [
    "p = Variable('p')"
   ]
  },
  {
   "cell_type": "code",
   "execution_count": 18,
   "metadata": {
    "collapsed": false,
    "deletable": true,
    "editable": true
   },
   "outputs": [
    {
     "data": {
      "text/html": [
       "<strong id=\"q\">q:</strong> <a href=\"__pv_it\\f042327e3912a0a17aa50727057a80821d946f5b0\\expr.ipynb\" target=\"_blank\"><img src=\"__pv_it\\f042327e3912a0a17aa50727057a80821d946f5b0\\expr.png\" style=\"display:inline;vertical-align:middle;\" /></a><br>"
      ],
      "text/plain": [
       "q: q"
      ]
     },
     "execution_count": 18,
     "metadata": {},
     "output_type": "execute_result"
    }
   ],
   "source": [
    "q = Variable('q')"
   ]
  },
  {
   "cell_type": "code",
   "execution_count": 19,
   "metadata": {
    "collapsed": false,
    "deletable": true,
    "editable": true
   },
   "outputs": [
    {
     "data": {
      "text/html": [
       "<strong id=\"r\">r:</strong> <a href=\"__pv_it\\644aa92428b321f7aaf2f2db0eed580f0471fde10\\expr.ipynb\" target=\"_blank\"><img src=\"__pv_it\\644aa92428b321f7aaf2f2db0eed580f0471fde10\\expr.png\" style=\"display:inline;vertical-align:middle;\" /></a><br>"
      ],
      "text/plain": [
       "r: r"
      ]
     },
     "execution_count": 19,
     "metadata": {},
     "output_type": "execute_result"
    }
   ],
   "source": [
    "r = Variable('r')"
   ]
  },
  {
   "cell_type": "code",
   "execution_count": 20,
   "metadata": {
    "collapsed": false,
    "deletable": true,
    "editable": true
   },
   "outputs": [
    {
     "data": {
      "text/html": [
       "<strong id=\"s\">s:</strong> <a href=\"__pv_it\\73f0ca128923a8c03a1a4a7216616598778451cd0\\expr.ipynb\" target=\"_blank\"><img src=\"__pv_it\\73f0ca128923a8c03a1a4a7216616598778451cd0\\expr.png\" style=\"display:inline;vertical-align:middle;\" /></a><br>"
      ],
      "text/plain": [
       "s: s"
      ]
     },
     "execution_count": 20,
     "metadata": {},
     "output_type": "execute_result"
    }
   ],
   "source": [
    "s = Variable('s')"
   ]
  },
  {
   "cell_type": "code",
   "execution_count": 21,
   "metadata": {
    "collapsed": false,
    "deletable": true,
    "editable": true
   },
   "outputs": [
    {
     "data": {
      "text/html": [
       "<strong id=\"t\">t:</strong> <a href=\"__pv_it\\0def7d6eaa2f478da48a3c33308304e5e935379c0\\expr.ipynb\" target=\"_blank\"><img src=\"__pv_it\\0def7d6eaa2f478da48a3c33308304e5e935379c0\\expr.png\" style=\"display:inline;vertical-align:middle;\" /></a><br>"
      ],
      "text/plain": [
       "t: t"
      ]
     },
     "execution_count": 21,
     "metadata": {},
     "output_type": "execute_result"
    }
   ],
   "source": [
    "t = Variable('t')"
   ]
  },
  {
   "cell_type": "code",
   "execution_count": 22,
   "metadata": {
    "collapsed": false,
    "deletable": true,
    "editable": true
   },
   "outputs": [
    {
     "data": {
      "text/html": [
       "<strong id=\"u\">u:</strong> <a href=\"__pv_it\\c65115df10a0f4b3da9ce6fc5f736cf0e94635200\\expr.ipynb\" target=\"_blank\"><img src=\"__pv_it\\c65115df10a0f4b3da9ce6fc5f736cf0e94635200\\expr.png\" style=\"display:inline;vertical-align:middle;\" /></a><br>"
      ],
      "text/plain": [
       "u: u"
      ]
     },
     "execution_count": 22,
     "metadata": {},
     "output_type": "execute_result"
    }
   ],
   "source": [
    "u = Variable('u')"
   ]
  },
  {
   "cell_type": "code",
   "execution_count": 23,
   "metadata": {
    "collapsed": false,
    "deletable": true,
    "editable": true
   },
   "outputs": [
    {
     "data": {
      "text/html": [
       "<strong id=\"v\">v:</strong> <a href=\"__pv_it\\7883be58f87219da0133a79900e2f6e9e68645c90\\expr.ipynb\" target=\"_blank\"><img src=\"__pv_it\\7883be58f87219da0133a79900e2f6e9e68645c90\\expr.png\" style=\"display:inline;vertical-align:middle;\" /></a><br>"
      ],
      "text/plain": [
       "v: v"
      ]
     },
     "execution_count": 23,
     "metadata": {},
     "output_type": "execute_result"
    }
   ],
   "source": [
    "v = Variable('v')"
   ]
  },
  {
   "cell_type": "code",
   "execution_count": 24,
   "metadata": {
    "collapsed": false,
    "deletable": true,
    "editable": true
   },
   "outputs": [
    {
     "data": {
      "text/html": [
       "<strong id=\"w\">w:</strong> <a href=\"__pv_it\\d0f8340c3cc4666b99a4637f1a44fc0da364d5fc0\\expr.ipynb\" target=\"_blank\"><img src=\"__pv_it\\d0f8340c3cc4666b99a4637f1a44fc0da364d5fc0\\expr.png\" style=\"display:inline;vertical-align:middle;\" /></a><br>"
      ],
      "text/plain": [
       "w: w"
      ]
     },
     "execution_count": 24,
     "metadata": {},
     "output_type": "execute_result"
    }
   ],
   "source": [
    "w = Variable('w')"
   ]
  },
  {
   "cell_type": "code",
   "execution_count": 25,
   "metadata": {
    "collapsed": false,
    "deletable": true,
    "editable": true
   },
   "outputs": [
    {
     "data": {
      "text/html": [
       "<strong id=\"x\">x:</strong> <a href=\"__pv_it\\7de344579b991697b85106fc0bd595cb5ed4c24f0\\expr.ipynb\" target=\"_blank\"><img src=\"__pv_it\\7de344579b991697b85106fc0bd595cb5ed4c24f0\\expr.png\" style=\"display:inline;vertical-align:middle;\" /></a><br>"
      ],
      "text/plain": [
       "x: x"
      ]
     },
     "execution_count": 25,
     "metadata": {},
     "output_type": "execute_result"
    }
   ],
   "source": [
    "x = Variable('x')"
   ]
  },
  {
   "cell_type": "code",
   "execution_count": 26,
   "metadata": {
    "collapsed": false,
    "deletable": true,
    "editable": true
   },
   "outputs": [
    {
     "data": {
      "text/html": [
       "<strong id=\"y\">y:</strong> <a href=\"__pv_it\\81f22f44907e0b98020a4149d2905fed84d24dfc0\\expr.ipynb\" target=\"_blank\"><img src=\"__pv_it\\81f22f44907e0b98020a4149d2905fed84d24dfc0\\expr.png\" style=\"display:inline;vertical-align:middle;\" /></a><br>"
      ],
      "text/plain": [
       "y: y"
      ]
     },
     "execution_count": 26,
     "metadata": {},
     "output_type": "execute_result"
    }
   ],
   "source": [
    "y = Variable('y')"
   ]
  },
  {
   "cell_type": "code",
   "execution_count": 27,
   "metadata": {
    "collapsed": false,
    "deletable": true,
    "editable": true
   },
   "outputs": [
    {
     "data": {
      "text/html": [
       "<strong id=\"z\">z:</strong> <a href=\"__pv_it\\57476562aec3803492cab60d21e2c0e16dbb482b0\\expr.ipynb\" target=\"_blank\"><img src=\"__pv_it\\57476562aec3803492cab60d21e2c0e16dbb482b0\\expr.png\" style=\"display:inline;vertical-align:middle;\" /></a><br>"
      ],
      "text/plain": [
       "z: z"
      ]
     },
     "execution_count": 27,
     "metadata": {},
     "output_type": "execute_result"
    }
   ],
   "source": [
    "z = Variable('z')"
   ]
  },
  {
   "cell_type": "code",
   "execution_count": 28,
   "metadata": {
    "collapsed": false,
    "deletable": true,
    "editable": true
   },
   "outputs": [
    {
     "data": {
      "text/html": [
       "<strong id=\"A\">A:</strong> <a href=\"__pv_it\\c1b75950df91f64856291c1f0fa32634fd4aa2ed0\\expr.ipynb\" target=\"_blank\"><img src=\"__pv_it\\c1b75950df91f64856291c1f0fa32634fd4aa2ed0\\expr.png\" style=\"display:inline;vertical-align:middle;\" /></a><br>"
      ],
      "text/plain": [
       "A: A"
      ]
     },
     "execution_count": 28,
     "metadata": {},
     "output_type": "execute_result"
    }
   ],
   "source": [
    "A = Variable('A')"
   ]
  },
  {
   "cell_type": "code",
   "execution_count": 29,
   "metadata": {
    "collapsed": false,
    "deletable": true,
    "editable": true
   },
   "outputs": [
    {
     "data": {
      "text/html": [
       "<strong id=\"B\">B:</strong> <a href=\"__pv_it\\d5361932f495ba49b51041c75c9a253a8f8e4b250\\expr.ipynb\" target=\"_blank\"><img src=\"__pv_it\\d5361932f495ba49b51041c75c9a253a8f8e4b250\\expr.png\" style=\"display:inline;vertical-align:middle;\" /></a><br>"
      ],
      "text/plain": [
       "B: B"
      ]
     },
     "execution_count": 29,
     "metadata": {},
     "output_type": "execute_result"
    }
   ],
   "source": [
    "B = Variable('B')"
   ]
  },
  {
   "cell_type": "code",
   "execution_count": 30,
   "metadata": {
    "collapsed": false,
    "deletable": true,
    "editable": true
   },
   "outputs": [
    {
     "data": {
      "text/html": [
       "<strong id=\"C\">C:</strong> <a href=\"__pv_it\\436231025d429f6422752f030c30f4027f7c0ef90\\expr.ipynb\" target=\"_blank\"><img src=\"__pv_it\\436231025d429f6422752f030c30f4027f7c0ef90\\expr.png\" style=\"display:inline;vertical-align:middle;\" /></a><br>"
      ],
      "text/plain": [
       "C: C"
      ]
     },
     "execution_count": 30,
     "metadata": {},
     "output_type": "execute_result"
    }
   ],
   "source": [
    "C = Variable('C')"
   ]
  },
  {
   "cell_type": "code",
   "execution_count": 31,
   "metadata": {
    "collapsed": false,
    "deletable": true,
    "editable": true
   },
   "outputs": [
    {
     "data": {
      "text/html": [
       "<strong id=\"D\">D:</strong> <a href=\"__pv_it\\7aacf7131e7d396ae8eb57eed42b9f676eca40c70\\expr.ipynb\" target=\"_blank\"><img src=\"__pv_it\\7aacf7131e7d396ae8eb57eed42b9f676eca40c70\\expr.png\" style=\"display:inline;vertical-align:middle;\" /></a><br>"
      ],
      "text/plain": [
       "D: D"
      ]
     },
     "execution_count": 31,
     "metadata": {},
     "output_type": "execute_result"
    }
   ],
   "source": [
    "D = Variable('D')"
   ]
  },
  {
   "cell_type": "code",
   "execution_count": 32,
   "metadata": {
    "collapsed": false,
    "deletable": true,
    "editable": true
   },
   "outputs": [
    {
     "data": {
      "text/html": [
       "<strong id=\"E\">E:</strong> <a href=\"__pv_it\\95a1644de5a2c50a4a71713a1518dc1621387f890\\expr.ipynb\" target=\"_blank\"><img src=\"__pv_it\\95a1644de5a2c50a4a71713a1518dc1621387f890\\expr.png\" style=\"display:inline;vertical-align:middle;\" /></a><br>"
      ],
      "text/plain": [
       "E: E"
      ]
     },
     "execution_count": 32,
     "metadata": {},
     "output_type": "execute_result"
    }
   ],
   "source": [
    "E = Variable('E')"
   ]
  },
  {
   "cell_type": "code",
   "execution_count": 33,
   "metadata": {
    "collapsed": false,
    "deletable": true,
    "editable": true
   },
   "outputs": [
    {
     "data": {
      "text/html": [
       "<strong id=\"F\">F:</strong> <a href=\"__pv_it\\746d5f978a8493d05c894778a1ad53293c6b1ada0\\expr.ipynb\" target=\"_blank\"><img src=\"__pv_it\\746d5f978a8493d05c894778a1ad53293c6b1ada0\\expr.png\" style=\"display:inline;vertical-align:middle;\" /></a><br>"
      ],
      "text/plain": [
       "F: F"
      ]
     },
     "execution_count": 33,
     "metadata": {},
     "output_type": "execute_result"
    }
   ],
   "source": [
    "F = Variable('F')"
   ]
  },
  {
   "cell_type": "code",
   "execution_count": 34,
   "metadata": {
    "collapsed": false,
    "deletable": true,
    "editable": true
   },
   "outputs": [
    {
     "data": {
      "text/html": [
       "<strong id=\"G\">G:</strong> <a href=\"__pv_it\\4a55f71fe3c4e3d6184fe7c34bf42b316013895d0\\expr.ipynb\" target=\"_blank\"><img src=\"__pv_it\\4a55f71fe3c4e3d6184fe7c34bf42b316013895d0\\expr.png\" style=\"display:inline;vertical-align:middle;\" /></a><br>"
      ],
      "text/plain": [
       "G: G"
      ]
     },
     "execution_count": 34,
     "metadata": {},
     "output_type": "execute_result"
    }
   ],
   "source": [
    "G = Variable('G')"
   ]
  },
  {
   "cell_type": "code",
   "execution_count": 35,
   "metadata": {
    "collapsed": false,
    "deletable": true,
    "editable": true
   },
   "outputs": [
    {
     "data": {
      "text/html": [
       "<strong id=\"H\">H:</strong> <a href=\"__pv_it\\019e102895d58630afefa1869d721b8105d0d30f0\\expr.ipynb\" target=\"_blank\"><img src=\"__pv_it\\019e102895d58630afefa1869d721b8105d0d30f0\\expr.png\" style=\"display:inline;vertical-align:middle;\" /></a><br>"
      ],
      "text/plain": [
       "H: H"
      ]
     },
     "execution_count": 35,
     "metadata": {},
     "output_type": "execute_result"
    }
   ],
   "source": [
    "H = Variable('H')"
   ]
  },
  {
   "cell_type": "code",
   "execution_count": 36,
   "metadata": {
    "collapsed": false,
    "deletable": true,
    "editable": true
   },
   "outputs": [
    {
     "data": {
      "text/html": [
       "<strong id=\"I\">I:</strong> <a href=\"__pv_it\\8f850c68afbcd0a28d73c3436917264f4e5793620\\expr.ipynb\" target=\"_blank\"><img src=\"__pv_it\\8f850c68afbcd0a28d73c3436917264f4e5793620\\expr.png\" style=\"display:inline;vertical-align:middle;\" /></a><br>"
      ],
      "text/plain": [
       "I: I"
      ]
     },
     "execution_count": 36,
     "metadata": {},
     "output_type": "execute_result"
    }
   ],
   "source": [
    "I = Variable('I')"
   ]
  },
  {
   "cell_type": "code",
   "execution_count": 37,
   "metadata": {
    "collapsed": false,
    "deletable": true,
    "editable": true
   },
   "outputs": [
    {
     "data": {
      "text/html": [
       "<strong id=\"J\">J:</strong> <a href=\"__pv_it\\cd3f47f33c65995d0af85ad387dfe993266b63430\\expr.ipynb\" target=\"_blank\"><img src=\"__pv_it\\cd3f47f33c65995d0af85ad387dfe993266b63430\\expr.png\" style=\"display:inline;vertical-align:middle;\" /></a><br>"
      ],
      "text/plain": [
       "J: J"
      ]
     },
     "execution_count": 37,
     "metadata": {},
     "output_type": "execute_result"
    }
   ],
   "source": [
    "J = Variable('J')"
   ]
  },
  {
   "cell_type": "code",
   "execution_count": 38,
   "metadata": {
    "collapsed": false,
    "deletable": true,
    "editable": true
   },
   "outputs": [
    {
     "data": {
      "text/html": [
       "<strong id=\"K\">K:</strong> <a href=\"__pv_it\\e625d986c8a10eea4d2d21703dd117d33ec873110\\expr.ipynb\" target=\"_blank\"><img src=\"__pv_it\\e625d986c8a10eea4d2d21703dd117d33ec873110\\expr.png\" style=\"display:inline;vertical-align:middle;\" /></a><br>"
      ],
      "text/plain": [
       "K: K"
      ]
     },
     "execution_count": 38,
     "metadata": {},
     "output_type": "execute_result"
    }
   ],
   "source": [
    "K = Variable('K')"
   ]
  },
  {
   "cell_type": "code",
   "execution_count": 39,
   "metadata": {
    "collapsed": false,
    "deletable": true,
    "editable": true
   },
   "outputs": [
    {
     "data": {
      "text/html": [
       "<strong id=\"L\">L:</strong> <a href=\"__pv_it\\b0a9470c7fe8d704e6d751d678ed59d77303fa150\\expr.ipynb\" target=\"_blank\"><img src=\"__pv_it\\b0a9470c7fe8d704e6d751d678ed59d77303fa150\\expr.png\" style=\"display:inline;vertical-align:middle;\" /></a><br>"
      ],
      "text/plain": [
       "L: L"
      ]
     },
     "execution_count": 39,
     "metadata": {},
     "output_type": "execute_result"
    }
   ],
   "source": [
    "L = Variable('L')"
   ]
  },
  {
   "cell_type": "code",
   "execution_count": 40,
   "metadata": {
    "collapsed": false,
    "deletable": true,
    "editable": true
   },
   "outputs": [
    {
     "data": {
      "text/html": [
       "<strong id=\"M\">M:</strong> <a href=\"__pv_it\\f170fc64c82f8e37846d17476ce31ad8cdc56af70\\expr.ipynb\" target=\"_blank\"><img src=\"__pv_it\\f170fc64c82f8e37846d17476ce31ad8cdc56af70\\expr.png\" style=\"display:inline;vertical-align:middle;\" /></a><br>"
      ],
      "text/plain": [
       "M: M"
      ]
     },
     "execution_count": 40,
     "metadata": {},
     "output_type": "execute_result"
    }
   ],
   "source": [
    "M = Variable('M')"
   ]
  },
  {
   "cell_type": "code",
   "execution_count": 41,
   "metadata": {
    "collapsed": false,
    "deletable": true,
    "editable": true
   },
   "outputs": [
    {
     "data": {
      "text/html": [
       "<strong id=\"N\">N:</strong> <a href=\"__pv_it\\5748980e1a188f36e04f34a0e2ec2c93d4b50c170\\expr.ipynb\" target=\"_blank\"><img src=\"__pv_it\\5748980e1a188f36e04f34a0e2ec2c93d4b50c170\\expr.png\" style=\"display:inline;vertical-align:middle;\" /></a><br>"
      ],
      "text/plain": [
       "N: N"
      ]
     },
     "execution_count": 41,
     "metadata": {},
     "output_type": "execute_result"
    }
   ],
   "source": [
    "N = Variable('N')"
   ]
  },
  {
   "cell_type": "code",
   "execution_count": 42,
   "metadata": {
    "collapsed": false,
    "deletable": true,
    "editable": true
   },
   "outputs": [
    {
     "data": {
      "text/html": [
       "<strong id=\"O\">O:</strong> <a href=\"__pv_it\\1557fda46fe3fe9ba0511203a6994b329937459f0\\expr.ipynb\" target=\"_blank\"><img src=\"__pv_it\\1557fda46fe3fe9ba0511203a6994b329937459f0\\expr.png\" style=\"display:inline;vertical-align:middle;\" /></a><br>"
      ],
      "text/plain": [
       "O: O"
      ]
     },
     "execution_count": 42,
     "metadata": {},
     "output_type": "execute_result"
    }
   ],
   "source": [
    "O = Variable('O')"
   ]
  },
  {
   "cell_type": "code",
   "execution_count": 43,
   "metadata": {
    "collapsed": false,
    "deletable": true,
    "editable": true
   },
   "outputs": [
    {
     "data": {
      "text/html": [
       "<strong id=\"P\">P:</strong> <a href=\"__pv_it\\2a9e303518f1196ce252c7dd18e87a9873d2a5230\\expr.ipynb\" target=\"_blank\"><img src=\"__pv_it\\2a9e303518f1196ce252c7dd18e87a9873d2a5230\\expr.png\" style=\"display:inline;vertical-align:middle;\" /></a><br>"
      ],
      "text/plain": [
       "P: P"
      ]
     },
     "execution_count": 43,
     "metadata": {},
     "output_type": "execute_result"
    }
   ],
   "source": [
    "P = Variable('P')"
   ]
  },
  {
   "cell_type": "code",
   "execution_count": 44,
   "metadata": {
    "collapsed": false,
    "deletable": true,
    "editable": true
   },
   "outputs": [
    {
     "data": {
      "text/html": [
       "<strong id=\"Q\">Q:</strong> <a href=\"__pv_it\\3f65031c0d5b1ae4a9448cb04a32020ef0872cb00\\expr.ipynb\" target=\"_blank\"><img src=\"__pv_it\\3f65031c0d5b1ae4a9448cb04a32020ef0872cb00\\expr.png\" style=\"display:inline;vertical-align:middle;\" /></a><br>"
      ],
      "text/plain": [
       "Q: Q"
      ]
     },
     "execution_count": 44,
     "metadata": {},
     "output_type": "execute_result"
    }
   ],
   "source": [
    "Q = Variable('Q')"
   ]
  },
  {
   "cell_type": "code",
   "execution_count": 45,
   "metadata": {
    "collapsed": false,
    "deletable": true,
    "editable": true
   },
   "outputs": [
    {
     "data": {
      "text/html": [
       "<strong id=\"R\">R:</strong> <a href=\"__pv_it\\5584377e164e95e51d2ac6ed9cdc231d9a54d9f10\\expr.ipynb\" target=\"_blank\"><img src=\"__pv_it\\5584377e164e95e51d2ac6ed9cdc231d9a54d9f10\\expr.png\" style=\"display:inline;vertical-align:middle;\" /></a><br>"
      ],
      "text/plain": [
       "R: R"
      ]
     },
     "execution_count": 45,
     "metadata": {},
     "output_type": "execute_result"
    }
   ],
   "source": [
    "R = Variable('R')"
   ]
  },
  {
   "cell_type": "code",
   "execution_count": 46,
   "metadata": {
    "collapsed": false,
    "deletable": true,
    "editable": true
   },
   "outputs": [
    {
     "data": {
      "text/html": [
       "<strong id=\"S\">S:</strong> <a href=\"__pv_it\\d4eb6352288af473e93384f35d9f37df8d5591720\\expr.ipynb\" target=\"_blank\"><img src=\"__pv_it\\d4eb6352288af473e93384f35d9f37df8d5591720\\expr.png\" style=\"display:inline;vertical-align:middle;\" /></a><br>"
      ],
      "text/plain": [
       "S: S"
      ]
     },
     "execution_count": 46,
     "metadata": {},
     "output_type": "execute_result"
    }
   ],
   "source": [
    "S = Variable('S')"
   ]
  },
  {
   "cell_type": "code",
   "execution_count": 47,
   "metadata": {
    "collapsed": false,
    "deletable": true,
    "editable": true
   },
   "outputs": [
    {
     "data": {
      "text/html": [
       "<strong id=\"T\">T:</strong> <a href=\"__pv_it\\3a3f700ad76dc17bb32e04eef09f9bc305ab87200\\expr.ipynb\" target=\"_blank\"><img src=\"__pv_it\\3a3f700ad76dc17bb32e04eef09f9bc305ab87200\\expr.png\" style=\"display:inline;vertical-align:middle;\" /></a><br>"
      ],
      "text/plain": [
       "T: T"
      ]
     },
     "execution_count": 47,
     "metadata": {},
     "output_type": "execute_result"
    }
   ],
   "source": [
    "T = Variable('T')"
   ]
  },
  {
   "cell_type": "code",
   "execution_count": 48,
   "metadata": {
    "collapsed": false,
    "deletable": true,
    "editable": true
   },
   "outputs": [
    {
     "data": {
      "text/html": [
       "<strong id=\"U\">U:</strong> <a href=\"__pv_it\\9f46e2f32ada86aa8e49cbd3c17d142c885581960\\expr.ipynb\" target=\"_blank\"><img src=\"__pv_it\\9f46e2f32ada86aa8e49cbd3c17d142c885581960\\expr.png\" style=\"display:inline;vertical-align:middle;\" /></a><br>"
      ],
      "text/plain": [
       "U: U"
      ]
     },
     "execution_count": 48,
     "metadata": {},
     "output_type": "execute_result"
    }
   ],
   "source": [
    "U = Variable('U')"
   ]
  },
  {
   "cell_type": "code",
   "execution_count": 49,
   "metadata": {
    "collapsed": false,
    "deletable": true,
    "editable": true
   },
   "outputs": [
    {
     "data": {
      "text/html": [
       "<strong id=\"V\">V:</strong> <a href=\"__pv_it\\29edb4804b1494c1b6f5d93178f6ed4f9c38377d0\\expr.ipynb\" target=\"_blank\"><img src=\"__pv_it\\29edb4804b1494c1b6f5d93178f6ed4f9c38377d0\\expr.png\" style=\"display:inline;vertical-align:middle;\" /></a><br>"
      ],
      "text/plain": [
       "V: V"
      ]
     },
     "execution_count": 49,
     "metadata": {},
     "output_type": "execute_result"
    }
   ],
   "source": [
    "V = Variable('V')"
   ]
  },
  {
   "cell_type": "code",
   "execution_count": 50,
   "metadata": {
    "collapsed": false,
    "deletable": true,
    "editable": true
   },
   "outputs": [
    {
     "data": {
      "text/html": [
       "<strong id=\"W\">W:</strong> <a href=\"__pv_it\\7ef43492026b866c61d098a898e27a2c480d94200\\expr.ipynb\" target=\"_blank\"><img src=\"__pv_it\\7ef43492026b866c61d098a898e27a2c480d94200\\expr.png\" style=\"display:inline;vertical-align:middle;\" /></a><br>"
      ],
      "text/plain": [
       "W: W"
      ]
     },
     "execution_count": 50,
     "metadata": {},
     "output_type": "execute_result"
    }
   ],
   "source": [
    "W = Variable('W')"
   ]
  },
  {
   "cell_type": "code",
   "execution_count": 51,
   "metadata": {
    "collapsed": false,
    "deletable": true,
    "editable": true
   },
   "outputs": [
    {
     "data": {
      "text/html": [
       "<strong id=\"X\">X:</strong> <a href=\"__pv_it\\d3630cc4eff68a842bf516851b1241319b2b2e7f0\\expr.ipynb\" target=\"_blank\"><img src=\"__pv_it\\d3630cc4eff68a842bf516851b1241319b2b2e7f0\\expr.png\" style=\"display:inline;vertical-align:middle;\" /></a><br>"
      ],
      "text/plain": [
       "X: X"
      ]
     },
     "execution_count": 51,
     "metadata": {},
     "output_type": "execute_result"
    }
   ],
   "source": [
    "X = Variable('X')"
   ]
  },
  {
   "cell_type": "code",
   "execution_count": 52,
   "metadata": {
    "collapsed": false,
    "deletable": true,
    "editable": true
   },
   "outputs": [
    {
     "data": {
      "text/html": [
       "<strong id=\"Y\">Y:</strong> <a href=\"__pv_it\\9c632b8686ab5ad717ed53b86e620c80d4772cb60\\expr.ipynb\" target=\"_blank\"><img src=\"__pv_it\\9c632b8686ab5ad717ed53b86e620c80d4772cb60\\expr.png\" style=\"display:inline;vertical-align:middle;\" /></a><br>"
      ],
      "text/plain": [
       "Y: Y"
      ]
     },
     "execution_count": 52,
     "metadata": {},
     "output_type": "execute_result"
    }
   ],
   "source": [
    "Y = Variable('Y')"
   ]
  },
  {
   "cell_type": "code",
   "execution_count": 53,
   "metadata": {
    "collapsed": false,
    "deletable": true,
    "editable": true
   },
   "outputs": [
    {
     "data": {
      "text/html": [
       "<strong id=\"Z\">Z:</strong> <a href=\"__pv_it\\e61ed7dc4aa5921251cf021530b7b7724a990a410\\expr.ipynb\" target=\"_blank\"><img src=\"__pv_it\\e61ed7dc4aa5921251cf021530b7b7724a990a410\\expr.png\" style=\"display:inline;vertical-align:middle;\" /></a><br>"
      ],
      "text/plain": [
       "Z: Z"
      ]
     },
     "execution_count": 53,
     "metadata": {},
     "output_type": "execute_result"
    }
   ],
   "source": [
    "Z = Variable('Z')"
   ]
  },
  {
   "cell_type": "code",
   "execution_count": 54,
   "metadata": {
    "collapsed": false,
    "deletable": true,
    "editable": true,
    "scrolled": true
   },
   "outputs": [
    {
     "data": {
      "text/html": [
       "<strong id=\"Am\">Am:</strong> <a href=\"__pv_it\\837e8d839b9504d63a5834fca7dd824081e074fa0\\expr.ipynb\" target=\"_blank\"><img src=\"__pv_it\\837e8d839b9504d63a5834fca7dd824081e074fa0\\expr.png\" style=\"display:inline;vertical-align:middle;\" /></a><br>"
      ],
      "text/plain": [
       "Am: A(m)"
      ]
     },
     "execution_count": 54,
     "metadata": {},
     "output_type": "execute_result"
    }
   ],
   "source": [
    "Am = Operation(A,m)"
   ]
  },
  {
   "cell_type": "code",
   "execution_count": 55,
   "metadata": {
    "collapsed": false,
    "deletable": true,
    "editable": true
   },
   "outputs": [
    {
     "data": {
      "text/html": [
       "<strong id=\"Bm\">Bm:</strong> <a href=\"__pv_it\\a7572277bfdffd20dedac014c2e9b7496ed5323f0\\expr.ipynb\" target=\"_blank\"><img src=\"__pv_it\\a7572277bfdffd20dedac014c2e9b7496ed5323f0\\expr.png\" style=\"display:inline;vertical-align:middle;\" /></a><br>"
      ],
      "text/plain": [
       "Bm: B(m)"
      ]
     },
     "execution_count": 55,
     "metadata": {},
     "output_type": "execute_result"
    }
   ],
   "source": [
    "Bm = Operation(B,m)"
   ]
  },
  {
   "cell_type": "code",
   "execution_count": 56,
   "metadata": {
    "collapsed": false,
    "deletable": true,
    "editable": true
   },
   "outputs": [
    {
     "data": {
      "text/html": [
       "<strong id=\"Cn\">Cn:</strong> <a href=\"__pv_it\\5345cbb3807bd53252161303b19fbae35ba75a790\\expr.ipynb\" target=\"_blank\"><img src=\"__pv_it\\5345cbb3807bd53252161303b19fbae35ba75a790\\expr.png\" style=\"display:inline;vertical-align:middle;\" /></a><br>"
      ],
      "text/plain": [
       "Cn: C(n)"
      ]
     },
     "execution_count": 56,
     "metadata": {},
     "output_type": "execute_result"
    }
   ],
   "source": [
    "Cn = Operation(C,n)"
   ]
  },
  {
   "cell_type": "code",
   "execution_count": 57,
   "metadata": {
    "collapsed": false,
    "deletable": true,
    "editable": true
   },
   "outputs": [
    {
     "data": {
      "text/html": [
       "<strong id=\"PofA\">PofA:</strong> <a href=\"__pv_it\\71675254740acf2995c7264976fe9a85354228ce0\\expr.ipynb\" target=\"_blank\"><img src=\"__pv_it\\71675254740acf2995c7264976fe9a85354228ce0\\expr.png\" style=\"display:inline;vertical-align:middle;\" /></a><br>"
      ],
      "text/plain": [
       "PofA: P(A)"
      ]
     },
     "execution_count": 57,
     "metadata": {},
     "output_type": "execute_result"
    }
   ],
   "source": [
    "PofA = Operation(P, A)"
   ]
  },
  {
   "cell_type": "code",
   "execution_count": 58,
   "metadata": {
    "collapsed": false,
    "deletable": true,
    "editable": true
   },
   "outputs": [
    {
     "data": {
      "text/html": [
       "<strong id=\"Px\">Px:</strong> <a href=\"__pv_it\\3de159692281687d77694887080f0b025c3338ce0\\expr.ipynb\" target=\"_blank\"><img src=\"__pv_it\\3de159692281687d77694887080f0b025c3338ce0\\expr.png\" style=\"display:inline;vertical-align:middle;\" /></a><br>"
      ],
      "text/plain": [
       "Px: P(x)"
      ]
     },
     "execution_count": 58,
     "metadata": {},
     "output_type": "execute_result"
    }
   ],
   "source": [
    "Px = Operation(P, x)"
   ]
  },
  {
   "cell_type": "code",
   "execution_count": 59,
   "metadata": {
    "collapsed": false,
    "deletable": true,
    "editable": true
   },
   "outputs": [
    {
     "data": {
      "text/html": [
       "<strong id=\"Py\">Py:</strong> <a href=\"__pv_it\\a77dc52279c88a4307d3176aa68e0be48d2bb7f50\\expr.ipynb\" target=\"_blank\"><img src=\"__pv_it\\a77dc52279c88a4307d3176aa68e0be48d2bb7f50\\expr.png\" style=\"display:inline;vertical-align:middle;\" /></a><br>"
      ],
      "text/plain": [
       "Py: P(y)"
      ]
     },
     "execution_count": 59,
     "metadata": {},
     "output_type": "execute_result"
    }
   ],
   "source": [
    "Py = Operation(P, y)"
   ]
  },
  {
   "cell_type": "code",
   "execution_count": 60,
   "metadata": {
    "collapsed": false,
    "deletable": true,
    "editable": true
   },
   "outputs": [
    {
     "data": {
      "text/html": [
       "<strong id=\"Pxy\">Pxy:</strong> <a href=\"__pv_it\\48e1703c87d7b293aedd11d84fc56a104eae55720\\expr.ipynb\" target=\"_blank\"><img src=\"__pv_it\\48e1703c87d7b293aedd11d84fc56a104eae55720\\expr.png\" style=\"display:inline;vertical-align:middle;\" /></a><br>"
      ],
      "text/plain": [
       "Pxy: P(x,y)"
      ]
     },
     "execution_count": 60,
     "metadata": {},
     "output_type": "execute_result"
    }
   ],
   "source": [
    "Pxy = Operation(P, (x, y))"
   ]
  },
  {
   "cell_type": "code",
   "execution_count": 61,
   "metadata": {
    "collapsed": false,
    "deletable": true,
    "editable": true
   },
   "outputs": [
    {
     "data": {
      "text/html": [
       "<strong id=\"Pxyz\">Pxyz:</strong> <a href=\"__pv_it\\3e2b10b63d07dafb17badf334951f805e111ff640\\expr.ipynb\" target=\"_blank\"><img src=\"__pv_it\\3e2b10b63d07dafb17badf334951f805e111ff640\\expr.png\" style=\"display:inline;vertical-align:middle;\" /></a><br>"
      ],
      "text/plain": [
       "Pxyz: P(x,y,z)"
      ]
     },
     "execution_count": 61,
     "metadata": {},
     "output_type": "execute_result"
    }
   ],
   "source": [
    "Pxyz = Operation(P, (x, y, z))"
   ]
  },
  {
   "cell_type": "code",
   "execution_count": 62,
   "metadata": {
    "collapsed": false,
    "deletable": true,
    "editable": true
   },
   "outputs": [
    {
     "data": {
      "text/html": [
       "<strong id=\"Pq\">Pq:</strong> <a href=\"__pv_it\\07aa4d6ae6d3f282397facaa274be990b7bce6280\\expr.ipynb\" target=\"_blank\"><img src=\"__pv_it\\07aa4d6ae6d3f282397facaa274be990b7bce6280\\expr.png\" style=\"display:inline;vertical-align:middle;\" /></a><br>"
      ],
      "text/plain": [
       "Pq: P(q)"
      ]
     },
     "execution_count": 62,
     "metadata": {},
     "output_type": "execute_result"
    }
   ],
   "source": [
    "Pq = Operation(P, q)"
   ]
  },
  {
   "cell_type": "code",
   "execution_count": 63,
   "metadata": {
    "collapsed": false,
    "deletable": true,
    "editable": true
   },
   "outputs": [
    {
     "data": {
      "text/html": [
       "<strong id=\"Qx\">Qx:</strong> <a href=\"__pv_it\\827c06b1167a4e7325f88188afac5520fe64a4dc0\\expr.ipynb\" target=\"_blank\"><img src=\"__pv_it\\827c06b1167a4e7325f88188afac5520fe64a4dc0\\expr.png\" style=\"display:inline;vertical-align:middle;\" /></a><br>"
      ],
      "text/plain": [
       "Qx: Q(x)"
      ]
     },
     "execution_count": 63,
     "metadata": {},
     "output_type": "execute_result"
    }
   ],
   "source": [
    "Qx = Operation(Q, x)"
   ]
  },
  {
   "cell_type": "code",
   "execution_count": 64,
   "metadata": {
    "collapsed": false,
    "deletable": true,
    "editable": true
   },
   "outputs": [
    {
     "data": {
      "text/html": [
       "<strong id=\"Qy\">Qy:</strong> <a href=\"__pv_it\\265c2a350abe93a08cf200ae59b414ea2b5367820\\expr.ipynb\" target=\"_blank\"><img src=\"__pv_it\\265c2a350abe93a08cf200ae59b414ea2b5367820\\expr.png\" style=\"display:inline;vertical-align:middle;\" /></a><br>"
      ],
      "text/plain": [
       "Qy: Q(y)"
      ]
     },
     "execution_count": 64,
     "metadata": {},
     "output_type": "execute_result"
    }
   ],
   "source": [
    "Qy = Operation(Q, y)"
   ]
  },
  {
   "cell_type": "code",
   "execution_count": 65,
   "metadata": {
    "collapsed": false,
    "deletable": true,
    "editable": true
   },
   "outputs": [
    {
     "data": {
      "text/html": [
       "<strong id=\"Rx\">Rx:</strong> <a href=\"__pv_it\\0b9d2f11e1f3b8c89d247161a49c25f12cb44f2f0\\expr.ipynb\" target=\"_blank\"><img src=\"__pv_it\\0b9d2f11e1f3b8c89d247161a49c25f12cb44f2f0\\expr.png\" style=\"display:inline;vertical-align:middle;\" /></a><br>"
      ],
      "text/plain": [
       "Rx: R(x)"
      ]
     },
     "execution_count": 65,
     "metadata": {},
     "output_type": "execute_result"
    }
   ],
   "source": [
    "Rx = Operation(R, x)"
   ]
  },
  {
   "cell_type": "code",
   "execution_count": 66,
   "metadata": {
    "collapsed": false,
    "deletable": true,
    "editable": true
   },
   "outputs": [
    {
     "data": {
      "text/html": [
       "<strong id=\"Ry\">Ry:</strong> <a href=\"__pv_it\\d6deedc5623b151a8f73a791fbe7acf2b03b173f0\\expr.ipynb\" target=\"_blank\"><img src=\"__pv_it\\d6deedc5623b151a8f73a791fbe7acf2b03b173f0\\expr.png\" style=\"display:inline;vertical-align:middle;\" /></a><br>"
      ],
      "text/plain": [
       "Ry: R(y)"
      ]
     },
     "execution_count": 66,
     "metadata": {},
     "output_type": "execute_result"
    }
   ],
   "source": [
    "Ry = Operation(R, y)"
   ]
  },
  {
   "cell_type": "code",
   "execution_count": 67,
   "metadata": {
    "collapsed": false,
    "deletable": true,
    "editable": true
   },
   "outputs": [
    {
     "data": {
      "text/html": [
       "<strong id=\"fa\">fa:</strong> <a href=\"__pv_it\\8e4908e35b88173f2fedd706cbdb28c94268dc9d0\\expr.ipynb\" target=\"_blank\"><img src=\"__pv_it\\8e4908e35b88173f2fedd706cbdb28c94268dc9d0\\expr.png\" style=\"display:inline;vertical-align:middle;\" /></a><br>"
      ],
      "text/plain": [
       "fa: f(a)"
      ]
     },
     "execution_count": 67,
     "metadata": {},
     "output_type": "execute_result"
    }
   ],
   "source": [
    "fa = Operation(f, a)"
   ]
  },
  {
   "cell_type": "code",
   "execution_count": 68,
   "metadata": {
    "collapsed": false,
    "deletable": true,
    "editable": true
   },
   "outputs": [
    {
     "data": {
      "text/html": [
       "<strong id=\"fb\">fb:</strong> <a href=\"__pv_it\\038931b5ef01201a50088476d9c53c5f9fb75f800\\expr.ipynb\" target=\"_blank\"><img src=\"__pv_it\\038931b5ef01201a50088476d9c53c5f9fb75f800\\expr.png\" style=\"display:inline;vertical-align:middle;\" /></a><br>"
      ],
      "text/plain": [
       "fb: f(b)"
      ]
     },
     "execution_count": 68,
     "metadata": {},
     "output_type": "execute_result"
    }
   ],
   "source": [
    "fb = Operation(f, b)"
   ]
  },
  {
   "cell_type": "code",
   "execution_count": 69,
   "metadata": {
    "collapsed": false,
    "deletable": true,
    "editable": true
   },
   "outputs": [
    {
     "data": {
      "text/html": [
       "<strong id=\"fab\">fab:</strong> <a href=\"__pv_it\\b2f4e628117ca4d969a6d2ab68d7162022ebd6fe0\\expr.ipynb\" target=\"_blank\"><img src=\"__pv_it\\b2f4e628117ca4d969a6d2ab68d7162022ebd6fe0\\expr.png\" style=\"display:inline;vertical-align:middle;\" /></a><br>"
      ],
      "text/plain": [
       "fab: f(a,b)"
      ]
     },
     "execution_count": 69,
     "metadata": {},
     "output_type": "execute_result"
    }
   ],
   "source": [
    "fab = Operation(f, (a, b))"
   ]
  },
  {
   "cell_type": "code",
   "execution_count": 70,
   "metadata": {
    "collapsed": false,
    "deletable": true,
    "editable": true
   },
   "outputs": [
    {
     "data": {
      "text/html": [
       "<strong id=\"fx\">fx:</strong> <a href=\"__pv_it\\89ac5bde88b0fc993fa7aeab66554265d348c9e70\\expr.ipynb\" target=\"_blank\"><img src=\"__pv_it\\89ac5bde88b0fc993fa7aeab66554265d348c9e70\\expr.png\" style=\"display:inline;vertical-align:middle;\" /></a><br>"
      ],
      "text/plain": [
       "fx: f(x)"
      ]
     },
     "execution_count": 70,
     "metadata": {},
     "output_type": "execute_result"
    }
   ],
   "source": [
    "fx = Operation(f, x)"
   ]
  },
  {
   "cell_type": "code",
   "execution_count": 71,
   "metadata": {
    "collapsed": false,
    "deletable": true,
    "editable": true
   },
   "outputs": [
    {
     "data": {
      "text/html": [
       "<strong id=\"fy\">fy:</strong> <a href=\"__pv_it\\f78421028a9c475e03a52c64c1797e01905705f10\\expr.ipynb\" target=\"_blank\"><img src=\"__pv_it\\f78421028a9c475e03a52c64c1797e01905705f10\\expr.png\" style=\"display:inline;vertical-align:middle;\" /></a><br>"
      ],
      "text/plain": [
       "fy: f(y)"
      ]
     },
     "execution_count": 71,
     "metadata": {},
     "output_type": "execute_result"
    }
   ],
   "source": [
    "fy = Operation(f, y)"
   ]
  },
  {
   "cell_type": "code",
   "execution_count": 72,
   "metadata": {
    "collapsed": false,
    "deletable": true,
    "editable": true
   },
   "outputs": [
    {
     "data": {
      "text/html": [
       "<strong id=\"fxy\">fxy:</strong> <a href=\"__pv_it\\f938850b69b70418bdef9c548d144adc37cd2d710\\expr.ipynb\" target=\"_blank\"><img src=\"__pv_it\\f938850b69b70418bdef9c548d144adc37cd2d710\\expr.png\" style=\"display:inline;vertical-align:middle;\" /></a><br>"
      ],
      "text/plain": [
       "fxy: f(x,y)"
      ]
     },
     "execution_count": 72,
     "metadata": {},
     "output_type": "execute_result"
    }
   ],
   "source": [
    "fxy = Operation(f, (x, y))"
   ]
  },
  {
   "cell_type": "code",
   "execution_count": 73,
   "metadata": {
    "collapsed": false,
    "deletable": true,
    "editable": true
   },
   "outputs": [
    {
     "data": {
      "text/html": [
       "<strong id=\"gx\">gx:</strong> <a href=\"__pv_it\\85d87965c9552cbb708116ad32dd0de6017f91330\\expr.ipynb\" target=\"_blank\"><img src=\"__pv_it\\85d87965c9552cbb708116ad32dd0de6017f91330\\expr.png\" style=\"display:inline;vertical-align:middle;\" /></a><br>"
      ],
      "text/plain": [
       "gx: g(x)"
      ]
     },
     "execution_count": 73,
     "metadata": {},
     "output_type": "execute_result"
    }
   ],
   "source": [
    "gx = Operation(g, x)"
   ]
  },
  {
   "cell_type": "code",
   "execution_count": 74,
   "metadata": {
    "collapsed": false,
    "deletable": true,
    "editable": true
   },
   "outputs": [
    {
     "data": {
      "text/html": [
       "<strong id=\"gy\">gy:</strong> <a href=\"__pv_it\\65b47826735726923cf6ca2e14684c7a32cea2cd0\\expr.ipynb\" target=\"_blank\"><img src=\"__pv_it\\65b47826735726923cf6ca2e14684c7a32cea2cd0\\expr.png\" style=\"display:inline;vertical-align:middle;\" /></a><br>"
      ],
      "text/plain": [
       "gy: g(y)"
      ]
     },
     "execution_count": 74,
     "metadata": {},
     "output_type": "execute_result"
    }
   ],
   "source": [
    "gy = Operation(g, y)"
   ]
  },
  {
   "cell_type": "code",
   "execution_count": 75,
   "metadata": {
    "collapsed": false,
    "deletable": true,
    "editable": true
   },
   "outputs": [
    {
     "data": {
      "text/html": [
       "<strong id=\"alpha\">alpha:</strong> <a href=\"__pv_it\\c4f6a299dd1324eb4c10e0498cb11fda69fe17fc0\\expr.ipynb\" target=\"_blank\"><img src=\"__pv_it\\c4f6a299dd1324eb4c10e0498cb11fda69fe17fc0\\expr.png\" style=\"display:inline;vertical-align:middle;\" /></a><br>"
      ],
      "text/plain": [
       "alpha: alpha"
      ]
     },
     "execution_count": 75,
     "metadata": {},
     "output_type": "execute_result"
    }
   ],
   "source": [
    "alpha = Variable('alpha', r'\\alpha')"
   ]
  },
  {
   "cell_type": "code",
   "execution_count": 76,
   "metadata": {
    "collapsed": false,
    "deletable": true,
    "editable": true
   },
   "outputs": [
    {
     "data": {
      "text/html": [
       "<strong id=\"beta\">beta:</strong> <a href=\"__pv_it\\25d8b2a35e8637b1e7526ae534cab46cad282c0e0\\expr.ipynb\" target=\"_blank\"><img src=\"__pv_it\\25d8b2a35e8637b1e7526ae534cab46cad282c0e0\\expr.png\" style=\"display:inline;vertical-align:middle;\" /></a><br>"
      ],
      "text/plain": [
       "beta: beta"
      ]
     },
     "execution_count": 76,
     "metadata": {},
     "output_type": "execute_result"
    }
   ],
   "source": [
    "beta = Variable('beta', r'\\beta')"
   ]
  },
  {
   "cell_type": "code",
   "execution_count": 77,
   "metadata": {
    "collapsed": false,
    "deletable": true,
    "editable": true
   },
   "outputs": [
    {
     "data": {
      "text/html": [
       "<strong id=\"theta\">theta:</strong> <a href=\"__pv_it\\3b5f3e5320ca0247d4525945b8ea01e7e59cd1820\\expr.ipynb\" target=\"_blank\"><img src=\"__pv_it\\3b5f3e5320ca0247d4525945b8ea01e7e59cd1820\\expr.png\" style=\"display:inline;vertical-align:middle;\" /></a><br>"
      ],
      "text/plain": [
       "theta: theta"
      ]
     },
     "execution_count": 77,
     "metadata": {},
     "output_type": "execute_result"
    }
   ],
   "source": [
    "theta = Variable('theta', r'\\theta')"
   ]
  },
  {
   "cell_type": "code",
   "execution_count": 78,
   "metadata": {
    "collapsed": false,
    "deletable": true,
    "editable": true
   },
   "outputs": [
    {
     "data": {
      "text/html": [
       "<strong id=\"eps\">eps:</strong> <a href=\"__pv_it\\abded6709bfd1419723ad3e579cca89adafac8d40\\expr.ipynb\" target=\"_blank\"><img src=\"__pv_it\\abded6709bfd1419723ad3e579cca89adafac8d40\\expr.png\" style=\"display:inline;vertical-align:middle;\" /></a><br>"
      ],
      "text/plain": [
       "eps: eps"
      ]
     },
     "execution_count": 78,
     "metadata": {},
     "output_type": "execute_result"
    }
   ],
   "source": [
    "eps = Variable('eps', r'\\varepsilon')"
   ]
  },
  {
   "cell_type": "code",
   "execution_count": 79,
   "metadata": {
    "collapsed": false,
    "deletable": true,
    "editable": true
   },
   "outputs": [
    {
     "data": {
      "text/html": [
       "<strong id=\"Psi\">Psi:</strong> <a href=\"__pv_it\\bd279a208542a27b779ce26e1dd911d9144d91190\\expr.ipynb\" target=\"_blank\"><img src=\"__pv_it\\bd279a208542a27b779ce26e1dd911d9144d91190\\expr.png\" style=\"display:inline;vertical-align:middle;\" /></a><br>"
      ],
      "text/plain": [
       "Psi: Psi"
      ]
     },
     "execution_count": 79,
     "metadata": {},
     "output_type": "execute_result"
    }
   ],
   "source": [
    "Psi = Variable('Psi', r'\\Psi')"
   ]
  },
  {
   "cell_type": "code",
   "execution_count": 80,
   "metadata": {
    "collapsed": false,
    "deletable": true,
    "editable": true
   },
   "outputs": [
    {
     "data": {
      "text/html": [
       "<strong id=\"Upsilon\">Upsilon:</strong> <a href=\"__pv_it\\6b916b0dd8335c09d8ed5a16139b3ad22d67c2260\\expr.ipynb\" target=\"_blank\"><img src=\"__pv_it\\6b916b0dd8335c09d8ed5a16139b3ad22d67c2260\\expr.png\" style=\"display:inline;vertical-align:middle;\" /></a><br>"
      ],
      "text/plain": [
       "Upsilon: Upsilon"
      ]
     },
     "execution_count": 80,
     "metadata": {},
     "output_type": "execute_result"
    }
   ],
   "source": [
    "Upsilon = Variable('Upsilon', r'\\Upsilon')"
   ]
  },
  {
   "cell_type": "code",
   "execution_count": 81,
   "metadata": {
    "collapsed": false,
    "deletable": true,
    "editable": true
   },
   "outputs": [
    {
     "data": {
      "text/html": [
       "<strong id=\"Omega\">Omega:</strong> <a href=\"__pv_it\\edda2fc1e60af9eea73f7325785d3fe664ae64890\\expr.ipynb\" target=\"_blank\"><img src=\"__pv_it\\edda2fc1e60af9eea73f7325785d3fe664ae64890\\expr.png\" style=\"display:inline;vertical-align:middle;\" /></a><br>"
      ],
      "text/plain": [
       "Omega: Omega"
      ]
     },
     "execution_count": 81,
     "metadata": {},
     "output_type": "execute_result"
    }
   ],
   "source": [
    "Omega = Variable('Omega', r'\\Omega')"
   ]
  },
  {
   "cell_type": "code",
   "execution_count": 82,
   "metadata": {
    "collapsed": false,
    "deletable": true,
    "editable": true
   },
   "outputs": [
    {
     "data": {
      "text/html": [
       "<strong id=\"Box\">Box:</strong> <a href=\"__pv_it\\4291b2810009b2bb446ff30cd664d04cb788dd660\\expr.ipynb\" target=\"_blank\"><img src=\"__pv_it\\4291b2810009b2bb446ff30cd664d04cb788dd660\\expr.png\" style=\"display:inline;vertical-align:middle;\" /></a><br>\n",
       "<strong id=\"Diamond\">Diamond:</strong> <a href=\"__pv_it\\ea80630268228de21275e34169daa8960b4eddd20\\expr.ipynb\" target=\"_blank\"><img src=\"__pv_it\\ea80630268228de21275e34169daa8960b4eddd20\\expr.png\" style=\"display:inline;vertical-align:middle;\" /></a><br>"
      ],
      "text/plain": [
       "Box: *\n",
       "Diamond: #"
      ]
     },
     "execution_count": 82,
     "metadata": {},
     "output_type": "execute_result"
    }
   ],
   "source": [
    "# axis labels for MultiVariables\n",
    "Box, Diamond = Label('*', r'\\Box'), Label('#', r'\\Diamond') "
   ]
  },
  {
   "cell_type": "code",
   "execution_count": 83,
   "metadata": {
    "collapsed": false,
    "deletable": true,
    "editable": true
   },
   "outputs": [],
   "source": [
    "def multiAndEtcVar(stringFormat, latexFormat=None):\n",
    "    # axis label for lower case labels will be a Box\n",
    "    label = Box\n",
    "    if stringFormat.upper() == stringFormat:\n",
    "        # for upper case labels, the label is a Diamond\n",
    "        label = Diamond\n",
    "    multiVar = MultiVariable(stringFormat, latexFormat, axesLabels=[label])\n",
    "    return multiVar, Etcetera(multiVar)"
   ]
  },
  {
   "cell_type": "code",
   "execution_count": 84,
   "metadata": {
    "collapsed": false,
    "deletable": true,
    "editable": true
   },
   "outputs": [
    {
     "data": {
      "text/html": [
       "<strong id=\"aMulti\">aMulti:</strong> <a href=\"__pv_it\\1917963aa76fa588bcaafffed715e66243bacc380\\expr.ipynb\" target=\"_blank\"><img src=\"__pv_it\\1917963aa76fa588bcaafffed715e66243bacc380\\expr.png\" style=\"display:inline;vertical-align:middle;\" /></a><br>\n",
       "<strong id=\"aEtc\">aEtc:</strong> <a href=\"__pv_it\\c6964f10f145d04325c1275c5b9b2b21eaa15b8b0\\expr.ipynb\" target=\"_blank\"><img src=\"__pv_it\\c6964f10f145d04325c1275c5b9b2b21eaa15b8b0\\expr.png\" style=\"display:inline;vertical-align:middle;\" /></a><br>"
      ],
      "text/plain": [
       "aMulti: a_{*}\n",
       "aEtc: ..a_{*}.."
      ]
     },
     "execution_count": 84,
     "metadata": {},
     "output_type": "execute_result"
    }
   ],
   "source": [
    "aMulti, aEtc = multiAndEtcVar('a')"
   ]
  },
  {
   "cell_type": "code",
   "execution_count": 85,
   "metadata": {
    "collapsed": false,
    "deletable": true,
    "editable": true
   },
   "outputs": [
    {
     "data": {
      "text/html": [
       "<strong id=\"bMulti\">bMulti:</strong> <a href=\"__pv_it\\bf487b9c254a7ec48d670b7525b65d48dd8e2e200\\expr.ipynb\" target=\"_blank\"><img src=\"__pv_it\\bf487b9c254a7ec48d670b7525b65d48dd8e2e200\\expr.png\" style=\"display:inline;vertical-align:middle;\" /></a><br>\n",
       "<strong id=\"bEtc\">bEtc:</strong> <a href=\"__pv_it\\0c5d36dbf6d0b254795c998e1594b1db253aee450\\expr.ipynb\" target=\"_blank\"><img src=\"__pv_it\\0c5d36dbf6d0b254795c998e1594b1db253aee450\\expr.png\" style=\"display:inline;vertical-align:middle;\" /></a><br>"
      ],
      "text/plain": [
       "bMulti: b_{*}\n",
       "bEtc: ..b_{*}.."
      ]
     },
     "execution_count": 85,
     "metadata": {},
     "output_type": "execute_result"
    }
   ],
   "source": [
    "bMulti, bEtc = multiAndEtcVar('b')"
   ]
  },
  {
   "cell_type": "code",
   "execution_count": 86,
   "metadata": {
    "collapsed": false,
    "deletable": true,
    "editable": true
   },
   "outputs": [
    {
     "data": {
      "text/html": [
       "<strong id=\"cMulti\">cMulti:</strong> <a href=\"__pv_it\\7cabd33c19cd300fdb8c7a94ed04cff219a31b620\\expr.ipynb\" target=\"_blank\"><img src=\"__pv_it\\7cabd33c19cd300fdb8c7a94ed04cff219a31b620\\expr.png\" style=\"display:inline;vertical-align:middle;\" /></a><br>\n",
       "<strong id=\"cEtc\">cEtc:</strong> <a href=\"__pv_it\\f383e62031ff1d20f420aef49612fbd00e1d10fa0\\expr.ipynb\" target=\"_blank\"><img src=\"__pv_it\\f383e62031ff1d20f420aef49612fbd00e1d10fa0\\expr.png\" style=\"display:inline;vertical-align:middle;\" /></a><br>"
      ],
      "text/plain": [
       "cMulti: c_{*}\n",
       "cEtc: ..c_{*}.."
      ]
     },
     "execution_count": 86,
     "metadata": {},
     "output_type": "execute_result"
    }
   ],
   "source": [
    "cMulti, cEtc = multiAndEtcVar('c')"
   ]
  },
  {
   "cell_type": "code",
   "execution_count": 87,
   "metadata": {
    "collapsed": false,
    "deletable": true,
    "editable": true
   },
   "outputs": [
    {
     "data": {
      "text/html": [
       "<strong id=\"Amulti\">Amulti:</strong> <a href=\"__pv_it\\ccc5fa92772c3548c048956b2b60277a5f8319470\\expr.ipynb\" target=\"_blank\"><img src=\"__pv_it\\ccc5fa92772c3548c048956b2b60277a5f8319470\\expr.png\" style=\"display:inline;vertical-align:middle;\" /></a><br>\n",
       "<strong id=\"Aetc\">Aetc:</strong> <a href=\"__pv_it\\4d6aedd248cc3e128ab7396a6fbcaadab38407ff0\\expr.ipynb\" target=\"_blank\"><img src=\"__pv_it\\4d6aedd248cc3e128ab7396a6fbcaadab38407ff0\\expr.png\" style=\"display:inline;vertical-align:middle;\" /></a><br>"
      ],
      "text/plain": [
       "Amulti: A_{#}\n",
       "Aetc: ..A_{#}.."
      ]
     },
     "execution_count": 87,
     "metadata": {},
     "output_type": "execute_result"
    }
   ],
   "source": [
    "Amulti, Aetc = multiAndEtcVar('A')"
   ]
  },
  {
   "cell_type": "code",
   "execution_count": 88,
   "metadata": {
    "collapsed": false,
    "deletable": true,
    "editable": true
   },
   "outputs": [
    {
     "data": {
      "text/html": [
       "<strong id=\"Bmulti\">Bmulti:</strong> <a href=\"__pv_it\\13dca6709838601981656733b6e11a18af893acb0\\expr.ipynb\" target=\"_blank\"><img src=\"__pv_it\\13dca6709838601981656733b6e11a18af893acb0\\expr.png\" style=\"display:inline;vertical-align:middle;\" /></a><br>\n",
       "<strong id=\"Betc\">Betc:</strong> <a href=\"__pv_it\\54dcdffb7cf0ac6ef16f48c6f18a410b36045c220\\expr.ipynb\" target=\"_blank\"><img src=\"__pv_it\\54dcdffb7cf0ac6ef16f48c6f18a410b36045c220\\expr.png\" style=\"display:inline;vertical-align:middle;\" /></a><br>"
      ],
      "text/plain": [
       "Bmulti: B_{#}\n",
       "Betc: ..B_{#}.."
      ]
     },
     "execution_count": 88,
     "metadata": {},
     "output_type": "execute_result"
    }
   ],
   "source": [
    "Bmulti, Betc = multiAndEtcVar('B')"
   ]
  },
  {
   "cell_type": "code",
   "execution_count": 89,
   "metadata": {
    "collapsed": false,
    "deletable": true,
    "editable": true
   },
   "outputs": [
    {
     "data": {
      "text/html": [
       "<strong id=\"Cmulti\">Cmulti:</strong> <a href=\"__pv_it\\f12a7ca02e15690471cf5f8c9288406f36380d910\\expr.ipynb\" target=\"_blank\"><img src=\"__pv_it\\f12a7ca02e15690471cf5f8c9288406f36380d910\\expr.png\" style=\"display:inline;vertical-align:middle;\" /></a><br>\n",
       "<strong id=\"Cetc\">Cetc:</strong> <a href=\"__pv_it\\2b6b981784ee423bcf83f7df2c4ba6b627373e5f0\\expr.ipynb\" target=\"_blank\"><img src=\"__pv_it\\2b6b981784ee423bcf83f7df2c4ba6b627373e5f0\\expr.png\" style=\"display:inline;vertical-align:middle;\" /></a><br>"
      ],
      "text/plain": [
       "Cmulti: C_{#}\n",
       "Cetc: ..C_{#}.."
      ]
     },
     "execution_count": 89,
     "metadata": {},
     "output_type": "execute_result"
    }
   ],
   "source": [
    "Cmulti, Cetc = multiAndEtcVar('C')"
   ]
  },
  {
   "cell_type": "code",
   "execution_count": 90,
   "metadata": {
    "collapsed": false,
    "deletable": true,
    "editable": true
   },
   "outputs": [
    {
     "data": {
      "text/html": [
       "<strong id=\"Dmulti\">Dmulti:</strong> <a href=\"__pv_it\\f9ef1614a5f12978eabbd5092aa83831c2a350c80\\expr.ipynb\" target=\"_blank\"><img src=\"__pv_it\\f9ef1614a5f12978eabbd5092aa83831c2a350c80\\expr.png\" style=\"display:inline;vertical-align:middle;\" /></a><br>\n",
       "<strong id=\"Detc\">Detc:</strong> <a href=\"__pv_it\\7148073dc0db1198f166e384699752fd78be102b0\\expr.ipynb\" target=\"_blank\"><img src=\"__pv_it\\7148073dc0db1198f166e384699752fd78be102b0\\expr.png\" style=\"display:inline;vertical-align:middle;\" /></a><br>"
      ],
      "text/plain": [
       "Dmulti: D_{#}\n",
       "Detc: ..D_{#}.."
      ]
     },
     "execution_count": 90,
     "metadata": {},
     "output_type": "execute_result"
    }
   ],
   "source": [
    "Dmulti, Detc = multiAndEtcVar('D')"
   ]
  },
  {
   "cell_type": "code",
   "execution_count": 91,
   "metadata": {
    "collapsed": false,
    "deletable": true,
    "editable": true
   },
   "outputs": [
    {
     "data": {
      "text/html": [
       "<strong id=\"Emulti\">Emulti:</strong> <a href=\"__pv_it\\fccd78c77c5bec7f206db33afb138218292dfeba0\\expr.ipynb\" target=\"_blank\"><img src=\"__pv_it\\fccd78c77c5bec7f206db33afb138218292dfeba0\\expr.png\" style=\"display:inline;vertical-align:middle;\" /></a><br>\n",
       "<strong id=\"Eetc\">Eetc:</strong> <a href=\"__pv_it\\e1dd44b8f113fb588d43a359f68bd29f0e4668d60\\expr.ipynb\" target=\"_blank\"><img src=\"__pv_it\\e1dd44b8f113fb588d43a359f68bd29f0e4668d60\\expr.png\" style=\"display:inline;vertical-align:middle;\" /></a><br>"
      ],
      "text/plain": [
       "Emulti: E_{#}\n",
       "Eetc: ..E_{#}.."
      ]
     },
     "execution_count": 91,
     "metadata": {},
     "output_type": "execute_result"
    }
   ],
   "source": [
    "Emulti, Eetc = multiAndEtcVar('E')"
   ]
  },
  {
   "cell_type": "code",
   "execution_count": 92,
   "metadata": {
    "collapsed": false,
    "deletable": true,
    "editable": true
   },
   "outputs": [
    {
     "data": {
      "text/html": [
       "<strong id=\"Qmulti\">Qmulti:</strong> <a href=\"__pv_it\\377c18e0c3e8195669492a444cfdda07b50ab7740\\expr.ipynb\" target=\"_blank\"><img src=\"__pv_it\\377c18e0c3e8195669492a444cfdda07b50ab7740\\expr.png\" style=\"display:inline;vertical-align:middle;\" /></a><br>\n",
       "<strong id=\"Qetc\">Qetc:</strong> <a href=\"__pv_it\\ce3721ff8bbf5aa7bdd4c9695a9fa6f2c6b5cde40\\expr.ipynb\" target=\"_blank\"><img src=\"__pv_it\\ce3721ff8bbf5aa7bdd4c9695a9fa6f2c6b5cde40\\expr.png\" style=\"display:inline;vertical-align:middle;\" /></a><br>"
      ],
      "text/plain": [
       "Qmulti: Q_{#}\n",
       "Qetc: ..Q_{#}.."
      ]
     },
     "execution_count": 92,
     "metadata": {},
     "output_type": "execute_result"
    }
   ],
   "source": [
    "Qmulti, Qetc = multiAndEtcVar('Q')"
   ]
  },
  {
   "cell_type": "code",
   "execution_count": 93,
   "metadata": {
    "collapsed": false,
    "deletable": true,
    "editable": true
   },
   "outputs": [
    {
     "data": {
      "text/html": [
       "<strong id=\"Rmulti\">Rmulti:</strong> <a href=\"__pv_it\\be2dae40340eee57fb05af331a129c78b578c2ee0\\expr.ipynb\" target=\"_blank\"><img src=\"__pv_it\\be2dae40340eee57fb05af331a129c78b578c2ee0\\expr.png\" style=\"display:inline;vertical-align:middle;\" /></a><br>\n",
       "<strong id=\"Retc\">Retc:</strong> <a href=\"__pv_it\\5e6e15a9702a124158f9686d579188072b8ff7cd0\\expr.ipynb\" target=\"_blank\"><img src=\"__pv_it\\5e6e15a9702a124158f9686d579188072b8ff7cd0\\expr.png\" style=\"display:inline;vertical-align:middle;\" /></a><br>"
      ],
      "text/plain": [
       "Rmulti: R_{#}\n",
       "Retc: ..R_{#}.."
      ]
     },
     "execution_count": 93,
     "metadata": {},
     "output_type": "execute_result"
    }
   ],
   "source": [
    "Rmulti, Retc = multiAndEtcVar('R')"
   ]
  },
  {
   "cell_type": "code",
   "execution_count": 94,
   "metadata": {
    "collapsed": false,
    "deletable": true,
    "editable": true
   },
   "outputs": [
    {
     "data": {
      "text/html": [
       "<strong id=\"vMulti\">vMulti:</strong> <a href=\"__pv_it\\4bd0fe6c6d2d9e1a952e7800d2fea80b10cc8b1b0\\expr.ipynb\" target=\"_blank\"><img src=\"__pv_it\\4bd0fe6c6d2d9e1a952e7800d2fea80b10cc8b1b0\\expr.png\" style=\"display:inline;vertical-align:middle;\" /></a><br>\n",
       "<strong id=\"vEtc\">vEtc:</strong> <a href=\"__pv_it\\70f2852b51f6c899f1b59f2ced23b8f256428b4f0\\expr.ipynb\" target=\"_blank\"><img src=\"__pv_it\\70f2852b51f6c899f1b59f2ced23b8f256428b4f0\\expr.png\" style=\"display:inline;vertical-align:middle;\" /></a><br>"
      ],
      "text/plain": [
       "vMulti: v_{*}\n",
       "vEtc: ..v_{*}.."
      ]
     },
     "execution_count": 94,
     "metadata": {},
     "output_type": "execute_result"
    }
   ],
   "source": [
    "vMulti, vEtc = multiAndEtcVar('v')"
   ]
  },
  {
   "cell_type": "code",
   "execution_count": 95,
   "metadata": {
    "collapsed": false,
    "deletable": true,
    "editable": true
   },
   "outputs": [
    {
     "data": {
      "text/html": [
       "<strong id=\"xMulti\">xMulti:</strong> <a href=\"__pv_it\\34891f100c5ac6b3125201359b356ba5487b8ebc0\\expr.ipynb\" target=\"_blank\"><img src=\"__pv_it\\34891f100c5ac6b3125201359b356ba5487b8ebc0\\expr.png\" style=\"display:inline;vertical-align:middle;\" /></a><br>\n",
       "<strong id=\"xEtc\">xEtc:</strong> <a href=\"__pv_it\\31516218eb9e482c57cf83da0280587b046c9e4f0\\expr.ipynb\" target=\"_blank\"><img src=\"__pv_it\\31516218eb9e482c57cf83da0280587b046c9e4f0\\expr.png\" style=\"display:inline;vertical-align:middle;\" /></a><br>"
      ],
      "text/plain": [
       "xMulti: x_{*}\n",
       "xEtc: ..x_{*}.."
      ]
     },
     "execution_count": 95,
     "metadata": {},
     "output_type": "execute_result"
    }
   ],
   "source": [
    "xMulti, xEtc = multiAndEtcVar('x')"
   ]
  },
  {
   "cell_type": "code",
   "execution_count": 96,
   "metadata": {
    "collapsed": false,
    "deletable": true,
    "editable": true
   },
   "outputs": [
    {
     "data": {
      "text/html": [
       "<strong id=\"yMulti\">yMulti:</strong> <a href=\"__pv_it\\1ca83c3f4848d247cbbe05d6af47aed9ae5c676f0\\expr.ipynb\" target=\"_blank\"><img src=\"__pv_it\\1ca83c3f4848d247cbbe05d6af47aed9ae5c676f0\\expr.png\" style=\"display:inline;vertical-align:middle;\" /></a><br>\n",
       "<strong id=\"yEtc\">yEtc:</strong> <a href=\"__pv_it\\25e461ac7efeb194ed89abd0faa2726c8262c0510\\expr.ipynb\" target=\"_blank\"><img src=\"__pv_it\\25e461ac7efeb194ed89abd0faa2726c8262c0510\\expr.png\" style=\"display:inline;vertical-align:middle;\" /></a><br>"
      ],
      "text/plain": [
       "yMulti: y_{*}\n",
       "yEtc: ..y_{*}.."
      ]
     },
     "execution_count": 96,
     "metadata": {},
     "output_type": "execute_result"
    }
   ],
   "source": [
    "yMulti, yEtc = multiAndEtcVar('y')"
   ]
  },
  {
   "cell_type": "code",
   "execution_count": 97,
   "metadata": {
    "collapsed": false,
    "deletable": true,
    "editable": true
   },
   "outputs": [
    {
     "data": {
      "text/html": [
       "<strong id=\"zMulti\">zMulti:</strong> <a href=\"__pv_it\\2b2465386e494f372a5117a6709995b2f95b1f760\\expr.ipynb\" target=\"_blank\"><img src=\"__pv_it\\2b2465386e494f372a5117a6709995b2f95b1f760\\expr.png\" style=\"display:inline;vertical-align:middle;\" /></a><br>\n",
       "<strong id=\"zEtc\">zEtc:</strong> <a href=\"__pv_it\\69efe9adf6f9362d750916a4df0c00f56e7a3d0d0\\expr.ipynb\" target=\"_blank\"><img src=\"__pv_it\\69efe9adf6f9362d750916a4df0c00f56e7a3d0d0\\expr.png\" style=\"display:inline;vertical-align:middle;\" /></a><br>"
      ],
      "text/plain": [
       "zMulti: z_{*}\n",
       "zEtc: ..z_{*}.."
      ]
     },
     "execution_count": 97,
     "metadata": {},
     "output_type": "execute_result"
    }
   ],
   "source": [
    "zMulti, zEtc = multiAndEtcVar('z')"
   ]
  },
  {
   "cell_type": "code",
   "execution_count": 98,
   "metadata": {
    "collapsed": false,
    "deletable": true,
    "editable": true
   },
   "outputs": [
    {
     "data": {
      "text/html": [
       "<strong id=\"wMulti\">wMulti:</strong> <a href=\"__pv_it\\972a62fcdab56ed7bc910f97cc9e16c4165fd0870\\expr.ipynb\" target=\"_blank\"><img src=\"__pv_it\\972a62fcdab56ed7bc910f97cc9e16c4165fd0870\\expr.png\" style=\"display:inline;vertical-align:middle;\" /></a><br>\n",
       "<strong id=\"wEtc\">wEtc:</strong> <a href=\"__pv_it\\575040906bbd3e5d9bd7f597375d496fc98286cf0\\expr.ipynb\" target=\"_blank\"><img src=\"__pv_it\\575040906bbd3e5d9bd7f597375d496fc98286cf0\\expr.png\" style=\"display:inline;vertical-align:middle;\" /></a><br>"
      ],
      "text/plain": [
       "wMulti: w_{*}\n",
       "wEtc: ..w_{*}.."
      ]
     },
     "execution_count": 98,
     "metadata": {},
     "output_type": "execute_result"
    }
   ],
   "source": [
    "wMulti, wEtc = multiAndEtcVar('w')"
   ]
  },
  {
   "cell_type": "code",
   "execution_count": 99,
   "metadata": {
    "collapsed": false,
    "deletable": true,
    "editable": true
   },
   "outputs": [
    {
     "data": {
      "text/html": [
       "<strong id=\"fxEtc\">fxEtc:</strong> <a href=\"__pv_it\\fdc42d683c46831a35cc854a66db3acc439cd93d0\\expr.ipynb\" target=\"_blank\"><img src=\"__pv_it\\fdc42d683c46831a35cc854a66db3acc439cd93d0\\expr.png\" style=\"display:inline;vertical-align:middle;\" /></a><br>"
      ],
      "text/plain": [
       "fxEtc: f( ..,x_{*},.. )"
      ]
     },
     "execution_count": 99,
     "metadata": {},
     "output_type": "execute_result"
    }
   ],
   "source": [
    "fxEtc = Operation(f, xEtc)"
   ]
  },
  {
   "cell_type": "code",
   "execution_count": 100,
   "metadata": {
    "collapsed": false,
    "deletable": true,
    "editable": true
   },
   "outputs": [
    {
     "data": {
      "text/html": [
       "<strong id=\"fyEtc\">fyEtc:</strong> <a href=\"__pv_it\\58b70d4f0d51fff0c54d5feec90924695226e8970\\expr.ipynb\" target=\"_blank\"><img src=\"__pv_it\\58b70d4f0d51fff0c54d5feec90924695226e8970\\expr.png\" style=\"display:inline;vertical-align:middle;\" /></a><br>"
      ],
      "text/plain": [
       "fyEtc: f( ..,y_{*},.. )"
      ]
     },
     "execution_count": 100,
     "metadata": {},
     "output_type": "execute_result"
    }
   ],
   "source": [
    "fyEtc = Operation(f, yEtc)"
   ]
  },
  {
   "cell_type": "code",
   "execution_count": 101,
   "metadata": {
    "collapsed": false,
    "deletable": true,
    "editable": true
   },
   "outputs": [
    {
     "data": {
      "text/html": [
       "<strong id=\"fzEtc\">fzEtc:</strong> <a href=\"__pv_it\\d9a305157408d9ed0634936d715006febf6878850\\expr.ipynb\" target=\"_blank\"><img src=\"__pv_it\\d9a305157408d9ed0634936d715006febf6878850\\expr.png\" style=\"display:inline;vertical-align:middle;\" /></a><br>"
      ],
      "text/plain": [
       "fzEtc: f( ..,z_{*},.. )"
      ]
     },
     "execution_count": 101,
     "metadata": {},
     "output_type": "execute_result"
    }
   ],
   "source": [
    "fzEtc = Operation(f, zEtc)"
   ]
  },
  {
   "cell_type": "code",
   "execution_count": 102,
   "metadata": {
    "collapsed": false,
    "deletable": true,
    "editable": true
   },
   "outputs": [
    {
     "data": {
      "text/html": [
       "<strong id=\"gxEtc\">gxEtc:</strong> <a href=\"__pv_it\\5c851aa6863894f4711835afe9e951c5f526ea7a0\\expr.ipynb\" target=\"_blank\"><img src=\"__pv_it\\5c851aa6863894f4711835afe9e951c5f526ea7a0\\expr.png\" style=\"display:inline;vertical-align:middle;\" /></a><br>"
      ],
      "text/plain": [
       "gxEtc: g( ..,x_{*},.. )"
      ]
     },
     "execution_count": 102,
     "metadata": {},
     "output_type": "execute_result"
    }
   ],
   "source": [
    "gxEtc = Operation(g, xEtc)"
   ]
  },
  {
   "cell_type": "code",
   "execution_count": 103,
   "metadata": {
    "collapsed": false,
    "deletable": true,
    "editable": true
   },
   "outputs": [
    {
     "data": {
      "text/html": [
       "<strong id=\"gyEtc\">gyEtc:</strong> <a href=\"__pv_it\\f85e64e4d8fec03508e3dd078fa8d56b5e19724d0\\expr.ipynb\" target=\"_blank\"><img src=\"__pv_it\\f85e64e4d8fec03508e3dd078fa8d56b5e19724d0\\expr.png\" style=\"display:inline;vertical-align:middle;\" /></a><br>"
      ],
      "text/plain": [
       "gyEtc: g( ..,y_{*},.. )"
      ]
     },
     "execution_count": 103,
     "metadata": {},
     "output_type": "execute_result"
    }
   ],
   "source": [
    "gyEtc = Operation(g, yEtc)"
   ]
  },
  {
   "cell_type": "code",
   "execution_count": 104,
   "metadata": {
    "collapsed": false,
    "deletable": true,
    "editable": true
   },
   "outputs": [
    {
     "data": {
      "text/html": [
       "<strong id=\"gzEtc\">gzEtc:</strong> <a href=\"__pv_it\\c9fe3d99bebd05fc77daf157fb03c1fd793e59640\\expr.ipynb\" target=\"_blank\"><img src=\"__pv_it\\c9fe3d99bebd05fc77daf157fb03c1fd793e59640\\expr.png\" style=\"display:inline;vertical-align:middle;\" /></a><br>"
      ],
      "text/plain": [
       "gzEtc: g( ..,z_{*},.. )"
      ]
     },
     "execution_count": 104,
     "metadata": {},
     "output_type": "execute_result"
    }
   ],
   "source": [
    "gzEtc = Operation(g, zEtc)"
   ]
  },
  {
   "cell_type": "code",
   "execution_count": 105,
   "metadata": {
    "collapsed": false,
    "deletable": true,
    "editable": true
   },
   "outputs": [
    {
     "data": {
      "text/html": [
       "<strong id=\"PxEtc\">PxEtc:</strong> <a href=\"__pv_it\\cee28c2858f82df54d333de55335dcf6dc7586960\\expr.ipynb\" target=\"_blank\"><img src=\"__pv_it\\cee28c2858f82df54d333de55335dcf6dc7586960\\expr.png\" style=\"display:inline;vertical-align:middle;\" /></a><br>"
      ],
      "text/plain": [
       "PxEtc: P( ..,x_{*},.. )"
      ]
     },
     "execution_count": 105,
     "metadata": {},
     "output_type": "execute_result"
    }
   ],
   "source": [
    "PxEtc = Operation(P, xEtc)"
   ]
  },
  {
   "cell_type": "code",
   "execution_count": 106,
   "metadata": {
    "collapsed": false,
    "deletable": true,
    "editable": true
   },
   "outputs": [
    {
     "data": {
      "text/html": [
       "<strong id=\"PyEtc\">PyEtc:</strong> <a href=\"__pv_it\\8fa33222971e3181730250a6daace644bd8fbdea0\\expr.ipynb\" target=\"_blank\"><img src=\"__pv_it\\8fa33222971e3181730250a6daace644bd8fbdea0\\expr.png\" style=\"display:inline;vertical-align:middle;\" /></a><br>"
      ],
      "text/plain": [
       "PyEtc: P( ..,y_{*},.. )"
      ]
     },
     "execution_count": 106,
     "metadata": {},
     "output_type": "execute_result"
    }
   ],
   "source": [
    "PyEtc = Operation(P, yEtc)"
   ]
  },
  {
   "cell_type": "code",
   "execution_count": 107,
   "metadata": {
    "collapsed": false,
    "deletable": true,
    "editable": true
   },
   "outputs": [
    {
     "data": {
      "text/html": [
       "<strong id=\"PzEtc\">PzEtc:</strong> <a href=\"__pv_it\\bd3e6e00f68ff7b6bdafd27005ed88754cab1fd90\\expr.ipynb\" target=\"_blank\"><img src=\"__pv_it\\bd3e6e00f68ff7b6bdafd27005ed88754cab1fd90\\expr.png\" style=\"display:inline;vertical-align:middle;\" /></a><br>"
      ],
      "text/plain": [
       "PzEtc: P( ..,z_{*},.. )"
      ]
     },
     "execution_count": 107,
     "metadata": {},
     "output_type": "execute_result"
    }
   ],
   "source": [
    "PzEtc = Operation(P, zEtc)"
   ]
  },
  {
   "cell_type": "code",
   "execution_count": 108,
   "metadata": {
    "collapsed": false,
    "deletable": true,
    "editable": true
   },
   "outputs": [
    {
     "data": {
      "text/html": [
       "<strong id=\"PxyEtc\">PxyEtc:</strong> <a href=\"__pv_it\\9f9bd33444d44f131dae8afc2c798958b66e99000\\expr.ipynb\" target=\"_blank\"><img src=\"__pv_it\\9f9bd33444d44f131dae8afc2c798958b66e99000\\expr.png\" style=\"display:inline;vertical-align:middle;\" /></a><br>"
      ],
      "text/plain": [
       "PxyEtc: P( ..,x_{*},...,y_{*},.. )"
      ]
     },
     "execution_count": 108,
     "metadata": {},
     "output_type": "execute_result"
    }
   ],
   "source": [
    "PxyEtc = Operation(P, (xEtc, yEtc))"
   ]
  },
  {
   "cell_type": "code",
   "execution_count": 109,
   "metadata": {
    "collapsed": false,
    "deletable": true,
    "editable": true
   },
   "outputs": [
    {
     "data": {
      "text/html": [
       "<strong id=\"QxEtc\">QxEtc:</strong> <a href=\"__pv_it\\85d213fdd4a42274ad691e823357ed3bce7e0e9e0\\expr.ipynb\" target=\"_blank\"><img src=\"__pv_it\\85d213fdd4a42274ad691e823357ed3bce7e0e9e0\\expr.png\" style=\"display:inline;vertical-align:middle;\" /></a><br>"
      ],
      "text/plain": [
       "QxEtc: Q( ..,x_{*},.. )"
      ]
     },
     "execution_count": 109,
     "metadata": {},
     "output_type": "execute_result"
    }
   ],
   "source": [
    "QxEtc = Operation(Q, xEtc)"
   ]
  },
  {
   "cell_type": "code",
   "execution_count": 110,
   "metadata": {
    "collapsed": false,
    "deletable": true,
    "editable": true
   },
   "outputs": [
    {
     "data": {
      "text/html": [
       "<strong id=\"QyEtc\">QyEtc:</strong> <a href=\"__pv_it\\2d3a1f2a58e041a6d469746ea0053ba1c863d3770\\expr.ipynb\" target=\"_blank\"><img src=\"__pv_it\\2d3a1f2a58e041a6d469746ea0053ba1c863d3770\\expr.png\" style=\"display:inline;vertical-align:middle;\" /></a><br>"
      ],
      "text/plain": [
       "QyEtc: Q( ..,y_{*},.. )"
      ]
     },
     "execution_count": 110,
     "metadata": {},
     "output_type": "execute_result"
    }
   ],
   "source": [
    "QyEtc = Operation(Q, yEtc)"
   ]
  },
  {
   "cell_type": "code",
   "execution_count": 111,
   "metadata": {
    "collapsed": false,
    "deletable": true,
    "editable": true
   },
   "outputs": [
    {
     "data": {
      "text/html": [
       "<strong id=\"QxyEtc\">QxyEtc:</strong> <a href=\"__pv_it\\af2ce84a80c1329873735b31f9cf894770234b860\\expr.ipynb\" target=\"_blank\"><img src=\"__pv_it\\af2ce84a80c1329873735b31f9cf894770234b860\\expr.png\" style=\"display:inline;vertical-align:middle;\" /></a><br>"
      ],
      "text/plain": [
       "QxyEtc: Q( ..,x_{*},...,y_{*},.. )"
      ]
     },
     "execution_count": 111,
     "metadata": {},
     "output_type": "execute_result"
    }
   ],
   "source": [
    "QxyEtc = Operation(Q, (xEtc, yEtc))"
   ]
  },
  {
   "cell_type": "code",
   "execution_count": 112,
   "metadata": {
    "collapsed": false,
    "deletable": true,
    "editable": true
   },
   "outputs": [
    {
     "data": {
      "text/html": [
       "<strong id=\"RxEtc\">RxEtc:</strong> <a href=\"__pv_it\\bb3d549e1355bc07a2c2f1a9d3577e67da31bcd70\\expr.ipynb\" target=\"_blank\"><img src=\"__pv_it\\bb3d549e1355bc07a2c2f1a9d3577e67da31bcd70\\expr.png\" style=\"display:inline;vertical-align:middle;\" /></a><br>"
      ],
      "text/plain": [
       "RxEtc: R( ..,x_{*},.. )"
      ]
     },
     "execution_count": 112,
     "metadata": {},
     "output_type": "execute_result"
    }
   ],
   "source": [
    "RxEtc = Operation(R, xEtc)"
   ]
  },
  {
   "cell_type": "code",
   "execution_count": 113,
   "metadata": {
    "collapsed": false,
    "deletable": true,
    "editable": true
   },
   "outputs": [
    {
     "data": {
      "text/html": [
       "<strong id=\"RyEtc\">RyEtc:</strong> <a href=\"__pv_it\\ff7fa171e038ec536c182d05e82430f380aa13520\\expr.ipynb\" target=\"_blank\"><img src=\"__pv_it\\ff7fa171e038ec536c182d05e82430f380aa13520\\expr.png\" style=\"display:inline;vertical-align:middle;\" /></a><br>"
      ],
      "text/plain": [
       "RyEtc: R( ..,y_{*},.. )"
      ]
     },
     "execution_count": 113,
     "metadata": {},
     "output_type": "execute_result"
    }
   ],
   "source": [
    "RyEtc = Operation(R, yEtc)"
   ]
  },
  {
   "cell_type": "code",
   "execution_count": 114,
   "metadata": {
    "collapsed": false,
    "deletable": true,
    "editable": true
   },
   "outputs": [
    {
     "data": {
      "text/html": [
       "<strong id=\"RzEtc\">RzEtc:</strong> <a href=\"__pv_it\\07fc138abc932884f7af562c92fec4cda96a2f3d0\\expr.ipynb\" target=\"_blank\"><img src=\"__pv_it\\07fc138abc932884f7af562c92fec4cda96a2f3d0\\expr.png\" style=\"display:inline;vertical-align:middle;\" /></a><br>"
      ],
      "text/plain": [
       "RzEtc: R( ..,z_{*},.. )"
      ]
     },
     "execution_count": 114,
     "metadata": {},
     "output_type": "execute_result"
    }
   ],
   "source": [
    "RzEtc = Operation(R, zEtc)"
   ]
  },
  {
   "cell_type": "code",
   "execution_count": 115,
   "metadata": {
    "collapsed": false,
    "deletable": true,
    "editable": true
   },
   "outputs": [
    {
     "data": {
      "text/html": [
       "<strong id=\"RxyEtc\">RxyEtc:</strong> <a href=\"__pv_it\\569a176c6737d87a25ae7e6be0a41156d8443c570\\expr.ipynb\" target=\"_blank\"><img src=\"__pv_it\\569a176c6737d87a25ae7e6be0a41156d8443c570\\expr.png\" style=\"display:inline;vertical-align:middle;\" /></a><br>"
      ],
      "text/plain": [
       "RxyEtc: R( ..,x_{*},...,y_{*},.. )"
      ]
     },
     "execution_count": 115,
     "metadata": {},
     "output_type": "execute_result"
    }
   ],
   "source": [
    "RxyEtc = Operation(R, (xEtc, yEtc))"
   ]
  },
  {
   "cell_type": "code",
   "execution_count": 116,
   "metadata": {
    "collapsed": false,
    "deletable": true,
    "editable": true
   },
   "outputs": [
    {
     "data": {
      "text/html": [
       "<strong id=\"etc_Qx\">etc_Qx:</strong> <a href=\"__pv_it\\602f031f1985cf23d47e1a07db455c28cb21f92d0\\expr.ipynb\" target=\"_blank\"><img src=\"__pv_it\\602f031f1985cf23d47e1a07db455c28cb21f92d0\\expr.png\" style=\"display:inline;vertical-align:middle;\" /></a><br>"
      ],
      "text/plain": [
       "etc_Qx: ..Q_{#}(x).."
      ]
     },
     "execution_count": 116,
     "metadata": {},
     "output_type": "execute_result"
    }
   ],
   "source": [
    "etc_Qx = Etcetera(Operation(Qmulti, x))"
   ]
  },
  {
   "cell_type": "code",
   "execution_count": 117,
   "metadata": {
    "collapsed": false,
    "deletable": true,
    "editable": true
   },
   "outputs": [
    {
     "data": {
      "text/html": [
       "<strong id=\"etc_Qy\">etc_Qy:</strong> <a href=\"__pv_it\\daf791226cca94173eb3022586e7860e89ea1f340\\expr.ipynb\" target=\"_blank\"><img src=\"__pv_it\\daf791226cca94173eb3022586e7860e89ea1f340\\expr.png\" style=\"display:inline;vertical-align:middle;\" /></a><br>"
      ],
      "text/plain": [
       "etc_Qy: ..Q_{#}(y).."
      ]
     },
     "execution_count": 117,
     "metadata": {},
     "output_type": "execute_result"
    }
   ],
   "source": [
    "etc_Qy = Etcetera(Operation(Qmulti, y))"
   ]
  },
  {
   "cell_type": "code",
   "execution_count": 118,
   "metadata": {
    "collapsed": false,
    "deletable": true,
    "editable": true
   },
   "outputs": [
    {
     "data": {
      "text/html": [
       "<strong id=\"etc_Rx\">etc_Rx:</strong> <a href=\"__pv_it\\05749a21edb396f083c14973a0058fdc86a860f10\\expr.ipynb\" target=\"_blank\"><img src=\"__pv_it\\05749a21edb396f083c14973a0058fdc86a860f10\\expr.png\" style=\"display:inline;vertical-align:middle;\" /></a><br>"
      ],
      "text/plain": [
       "etc_Rx: ..R_{#}(x).."
      ]
     },
     "execution_count": 118,
     "metadata": {},
     "output_type": "execute_result"
    }
   ],
   "source": [
    "etc_Rx = Etcetera(Operation(Rmulti, x))"
   ]
  },
  {
   "cell_type": "code",
   "execution_count": 119,
   "metadata": {
    "collapsed": false,
    "deletable": true,
    "editable": true
   },
   "outputs": [
    {
     "data": {
      "text/html": [
       "<strong id=\"etc_Ry\">etc_Ry:</strong> <a href=\"__pv_it\\69aa44dd25984c581db0d0f44b37d52e3af163c60\\expr.ipynb\" target=\"_blank\"><img src=\"__pv_it\\69aa44dd25984c581db0d0f44b37d52e3af163c60\\expr.png\" style=\"display:inline;vertical-align:middle;\" /></a><br>"
      ],
      "text/plain": [
       "etc_Ry: ..R_{#}(y).."
      ]
     },
     "execution_count": 119,
     "metadata": {},
     "output_type": "execute_result"
    }
   ],
   "source": [
    "etc_Ry = Etcetera(Operation(Rmulti, y))"
   ]
  },
  {
   "cell_type": "code",
   "execution_count": 120,
   "metadata": {
    "collapsed": false,
    "deletable": true,
    "editable": true
   },
   "outputs": [
    {
     "data": {
      "text/html": [
       "<strong id=\"etc_Rz\">etc_Rz:</strong> <a href=\"__pv_it\\22681e0d63ecab1ad2cc748f27b97ab58f5bb2580\\expr.ipynb\" target=\"_blank\"><img src=\"__pv_it\\22681e0d63ecab1ad2cc748f27b97ab58f5bb2580\\expr.png\" style=\"display:inline;vertical-align:middle;\" /></a><br>"
      ],
      "text/plain": [
       "etc_Rz: ..R_{#}(z).."
      ]
     },
     "execution_count": 120,
     "metadata": {},
     "output_type": "execute_result"
    }
   ],
   "source": [
    "etc_Rz = Etcetera(Operation(Rmulti, z))"
   ]
  },
  {
   "cell_type": "code",
   "execution_count": 121,
   "metadata": {
    "collapsed": false,
    "deletable": true,
    "editable": true
   },
   "outputs": [
    {
     "data": {
      "text/html": [
       "<strong id=\"etc_QxEtc\">etc_QxEtc:</strong> <a href=\"__pv_it\\b197981dd84b1f1029cc5825b0687b0874336f660\\expr.ipynb\" target=\"_blank\"><img src=\"__pv_it\\b197981dd84b1f1029cc5825b0687b0874336f660\\expr.png\" style=\"display:inline;vertical-align:middle;\" /></a><br>"
      ],
      "text/plain": [
       "etc_QxEtc: ..Q_{#}( ..,x_{*},.. ).."
      ]
     },
     "execution_count": 121,
     "metadata": {},
     "output_type": "execute_result"
    }
   ],
   "source": [
    "etc_QxEtc = Etcetera(Operation(Qmulti, xEtc))"
   ]
  },
  {
   "cell_type": "code",
   "execution_count": 122,
   "metadata": {
    "collapsed": false,
    "deletable": true,
    "editable": true
   },
   "outputs": [
    {
     "data": {
      "text/html": [
       "<strong id=\"etc_QyEtc\">etc_QyEtc:</strong> <a href=\"__pv_it\\de2d369d543fefeb9085a1d830250e8493d711180\\expr.ipynb\" target=\"_blank\"><img src=\"__pv_it\\de2d369d543fefeb9085a1d830250e8493d711180\\expr.png\" style=\"display:inline;vertical-align:middle;\" /></a><br>"
      ],
      "text/plain": [
       "etc_QyEtc: ..Q_{#}( ..,y_{*},.. ).."
      ]
     },
     "execution_count": 122,
     "metadata": {},
     "output_type": "execute_result"
    }
   ],
   "source": [
    "etc_QyEtc = Etcetera(Operation(Qmulti, yEtc))"
   ]
  },
  {
   "cell_type": "code",
   "execution_count": 123,
   "metadata": {
    "collapsed": false,
    "deletable": true,
    "editable": true
   },
   "outputs": [
    {
     "data": {
      "text/html": [
       "<strong id=\"etc_QzEtc\">etc_QzEtc:</strong> <a href=\"__pv_it\\4de927eb82d09d679c2569b8ddda9ad749abd5d60\\expr.ipynb\" target=\"_blank\"><img src=\"__pv_it\\4de927eb82d09d679c2569b8ddda9ad749abd5d60\\expr.png\" style=\"display:inline;vertical-align:middle;\" /></a><br>"
      ],
      "text/plain": [
       "etc_QzEtc: ..Q_{#}( ..,z_{*},.. ).."
      ]
     },
     "execution_count": 123,
     "metadata": {},
     "output_type": "execute_result"
    }
   ],
   "source": [
    "etc_QzEtc = Etcetera(Operation(Qmulti, zEtc))"
   ]
  },
  {
   "cell_type": "code",
   "execution_count": 124,
   "metadata": {
    "collapsed": false,
    "deletable": true,
    "editable": true
   },
   "outputs": [
    {
     "data": {
      "text/html": [
       "<strong id=\"etc_RxEtc\">etc_RxEtc:</strong> <a href=\"__pv_it\\4ed7ad9932892eada2c9778ec3625cfeb904ce480\\expr.ipynb\" target=\"_blank\"><img src=\"__pv_it\\4ed7ad9932892eada2c9778ec3625cfeb904ce480\\expr.png\" style=\"display:inline;vertical-align:middle;\" /></a><br>"
      ],
      "text/plain": [
       "etc_RxEtc: ..R_{#}( ..,x_{*},.. ).."
      ]
     },
     "execution_count": 124,
     "metadata": {},
     "output_type": "execute_result"
    }
   ],
   "source": [
    "etc_RxEtc = Etcetera(Operation(Rmulti, xEtc))"
   ]
  },
  {
   "cell_type": "code",
   "execution_count": 125,
   "metadata": {
    "collapsed": false,
    "deletable": true,
    "editable": true
   },
   "outputs": [
    {
     "data": {
      "text/html": [
       "<strong id=\"etc_RyEtc\">etc_RyEtc:</strong> <a href=\"__pv_it\\1bf22b5ab25a190de3d80d2e586505e049e38d570\\expr.ipynb\" target=\"_blank\"><img src=\"__pv_it\\1bf22b5ab25a190de3d80d2e586505e049e38d570\\expr.png\" style=\"display:inline;vertical-align:middle;\" /></a><br>"
      ],
      "text/plain": [
       "etc_RyEtc: ..R_{#}( ..,y_{*},.. ).."
      ]
     },
     "execution_count": 125,
     "metadata": {},
     "output_type": "execute_result"
    }
   ],
   "source": [
    "etc_RyEtc = Etcetera(Operation(Rmulti, yEtc))"
   ]
  },
  {
   "cell_type": "code",
   "execution_count": 126,
   "metadata": {
    "collapsed": false,
    "deletable": true,
    "editable": true
   },
   "outputs": [
    {
     "data": {
      "text/html": [
       "<strong id=\"etc_RxyEtc\">etc_RxyEtc:</strong> <a href=\"__pv_it\\3c5e759d0c8cbf4f313208f17237d8a75b72a7db0\\expr.ipynb\" target=\"_blank\"><img src=\"__pv_it\\3c5e759d0c8cbf4f313208f17237d8a75b72a7db0\\expr.png\" style=\"display:inline;vertical-align:middle;\" /></a><br>"
      ],
      "text/plain": [
       "etc_RxyEtc: ..R_{#}( ..,x_{*},...,y_{*},.. ).."
      ]
     },
     "execution_count": 126,
     "metadata": {},
     "output_type": "execute_result"
    }
   ],
   "source": [
    "etc_RxyEtc = Etcetera(Operation(Rmulti, (xEtc, yEtc)))"
   ]
  },
  {
   "cell_type": "code",
   "execution_count": 127,
   "metadata": {
    "collapsed": false,
    "deletable": true,
    "editable": true,
    "scrolled": true
   },
   "outputs": [
    {
     "name": "stdout",
     "output_type": "stream",
     "text": [
      "Common expressions may be imported from autogenerated _common_.py\n"
     ]
    }
   ],
   "source": [
    "%end_common"
   ]
  },
  {
   "cell_type": "code",
   "execution_count": 128,
   "metadata": {
    "collapsed": true,
    "deletable": true,
    "editable": true
   },
   "outputs": [],
   "source": []
  }
 ],
 "metadata": {
  "kernelspec": {
   "display_name": "Python 2",
   "language": "python",
   "name": "python2"
  },
  "language_info": {
   "codemirror_mode": {
    "name": "ipython",
    "version": 2
   },
   "file_extension": ".py",
   "mimetype": "text/x-python",
   "name": "python",
   "nbconvert_exporter": "python",
   "pygments_lexer": "ipython2",
   "version": "2.7.11"
  }
 },
 "nbformat": 4,
 "nbformat_minor": 0
}
