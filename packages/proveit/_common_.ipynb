{
 "cells": [
  {
   "cell_type": "markdown",
   "metadata": {},
   "source": [
    "Generic, common sub-expressions\n",
    "========"
   ]
  },
  {
   "cell_type": "code",
   "execution_count": 1,
   "metadata": {
    "collapsed": false,
    "scrolled": true
   },
   "outputs": [
    {
     "name": "stdout",
     "output_type": "stream",
     "text": [
      "Defining common sub-expressions for context 'proveit'\n",
      "Subsequent end-of-cell assignments will define common sub-expressions\n",
      "%end_common will finalize the definitions\n"
     ]
    }
   ],
   "source": [
    "from proveit import Variable, Operation, MultiVariable, Etcetera\n",
    "%begin_common"
   ]
  },
  {
   "cell_type": "code",
   "execution_count": 2,
   "metadata": {
    "collapsed": false,
    "scrolled": true
   },
   "outputs": [
    {
     "data": {
      "text/html": [
       "<strong>a</strong>: <a href=\"_pv_it_\\563df418b2f4501a697ee1a058c2ee5ff8e481000\\expr.ipynb\" target=\"_blank\"><img src=\"_pv_it_\\563df418b2f4501a697ee1a058c2ee5ff8e481000\\expr.png\" style=\"display:inline;vertical-align:middle;\" /></a><br>"
      ],
      "text/plain": [
       "<proveit._core_.magics.SpecialExpressions instance at 0x000000000440E1C8>"
      ]
     },
     "execution_count": 2,
     "metadata": {},
     "output_type": "execute_result"
    }
   ],
   "source": [
    "a = Variable('a')"
   ]
  },
  {
   "cell_type": "code",
   "execution_count": 3,
   "metadata": {
    "collapsed": false
   },
   "outputs": [
    {
     "data": {
      "text/html": [
       "<strong>b</strong>: <a href=\"_pv_it_\\c96df9db102bf2dcd5fad662469a963bfcb9d23c0\\expr.ipynb\" target=\"_blank\"><img src=\"_pv_it_\\c96df9db102bf2dcd5fad662469a963bfcb9d23c0\\expr.png\" style=\"display:inline;vertical-align:middle;\" /></a><br>"
      ],
      "text/plain": [
       "<proveit._core_.magics.SpecialExpressions instance at 0x0000000004420148>"
      ]
     },
     "execution_count": 3,
     "metadata": {},
     "output_type": "execute_result"
    }
   ],
   "source": [
    "b = Variable('b')"
   ]
  },
  {
   "cell_type": "code",
   "execution_count": 4,
   "metadata": {
    "collapsed": false
   },
   "outputs": [
    {
     "data": {
      "text/html": [
       "<strong>c</strong>: <a href=\"_pv_it_\\90bb44d26a8074e6e701f808bd18ac9cebf7781c0\\expr.ipynb\" target=\"_blank\"><img src=\"_pv_it_\\90bb44d26a8074e6e701f808bd18ac9cebf7781c0\\expr.png\" style=\"display:inline;vertical-align:middle;\" /></a><br>"
      ],
      "text/plain": [
       "<proveit._core_.magics.SpecialExpressions instance at 0x000000000435CF88>"
      ]
     },
     "execution_count": 4,
     "metadata": {},
     "output_type": "execute_result"
    }
   ],
   "source": [
    "c = Variable('c')"
   ]
  },
  {
   "cell_type": "code",
   "execution_count": 5,
   "metadata": {
    "collapsed": false
   },
   "outputs": [
    {
     "data": {
      "text/html": [
       "<strong>d</strong>: <a href=\"_pv_it_\\3e7b209da89d26253425f65ec5d3da5b262e802e0\\expr.ipynb\" target=\"_blank\"><img src=\"_pv_it_\\3e7b209da89d26253425f65ec5d3da5b262e802e0\\expr.png\" style=\"display:inline;vertical-align:middle;\" /></a><br>"
      ],
      "text/plain": [
       "<proveit._core_.magics.SpecialExpressions instance at 0x0000000004420CC8>"
      ]
     },
     "execution_count": 5,
     "metadata": {},
     "output_type": "execute_result"
    }
   ],
   "source": [
    "d = Variable('d')"
   ]
  },
  {
   "cell_type": "code",
   "execution_count": 6,
   "metadata": {
    "collapsed": false
   },
   "outputs": [
    {
     "data": {
      "text/html": [
       "<strong>e</strong>: <a href=\"_pv_it_\\94d5672c7adf26fe0c27776cc1d45264ff3705d00\\expr.ipynb\" target=\"_blank\"><img src=\"_pv_it_\\94d5672c7adf26fe0c27776cc1d45264ff3705d00\\expr.png\" style=\"display:inline;vertical-align:middle;\" /></a><br>"
      ],
      "text/plain": [
       "<proveit._core_.magics.SpecialExpressions instance at 0x000000000440EE08>"
      ]
     },
     "execution_count": 6,
     "metadata": {},
     "output_type": "execute_result"
    }
   ],
   "source": [
    "e = Variable('e')"
   ]
  },
  {
   "cell_type": "code",
   "execution_count": 7,
   "metadata": {
    "collapsed": false
   },
   "outputs": [
    {
     "data": {
      "text/html": [
       "<strong>f</strong>: <a href=\"_pv_it_\\7870486ece91e53f8583b10ccab1e55ddd32a7570\\expr.ipynb\" target=\"_blank\"><img src=\"_pv_it_\\7870486ece91e53f8583b10ccab1e55ddd32a7570\\expr.png\" style=\"display:inline;vertical-align:middle;\" /></a><br>"
      ],
      "text/plain": [
       "<proveit._core_.magics.SpecialExpressions instance at 0x00000000044298C8>"
      ]
     },
     "execution_count": 7,
     "metadata": {},
     "output_type": "execute_result"
    }
   ],
   "source": [
    "f = Variable('f')"
   ]
  },
  {
   "cell_type": "code",
   "execution_count": 8,
   "metadata": {
    "collapsed": false
   },
   "outputs": [
    {
     "data": {
      "text/html": [
       "<strong>g</strong>: <a href=\"_pv_it_\\87c2ce56a7a372d5aa3685fc2d200d90c643a9c10\\expr.ipynb\" target=\"_blank\"><img src=\"_pv_it_\\87c2ce56a7a372d5aa3685fc2d200d90c643a9c10\\expr.png\" style=\"display:inline;vertical-align:middle;\" /></a><br>"
      ],
      "text/plain": [
       "<proveit._core_.magics.SpecialExpressions instance at 0x000000000442E0C8>"
      ]
     },
     "execution_count": 8,
     "metadata": {},
     "output_type": "execute_result"
    }
   ],
   "source": [
    "g = Variable('g')"
   ]
  },
  {
   "cell_type": "code",
   "execution_count": 9,
   "metadata": {
    "collapsed": false
   },
   "outputs": [
    {
     "data": {
      "text/html": [
       "<strong>h</strong>: <a href=\"_pv_it_\\3eab9737a68d1eee0121f1d5b7294d5cb37e86ef0\\expr.ipynb\" target=\"_blank\"><img src=\"_pv_it_\\3eab9737a68d1eee0121f1d5b7294d5cb37e86ef0\\expr.png\" style=\"display:inline;vertical-align:middle;\" /></a><br>"
      ],
      "text/plain": [
       "<proveit._core_.magics.SpecialExpressions instance at 0x00000000044340C8>"
      ]
     },
     "execution_count": 9,
     "metadata": {},
     "output_type": "execute_result"
    }
   ],
   "source": [
    "h = Variable('h')"
   ]
  },
  {
   "cell_type": "code",
   "execution_count": 10,
   "metadata": {
    "collapsed": false
   },
   "outputs": [
    {
     "data": {
      "text/html": [
       "<strong>i</strong>: <a href=\"_pv_it_\\5dddf61341bda06fac6dff20e7aae814b14510780\\expr.ipynb\" target=\"_blank\"><img src=\"_pv_it_\\5dddf61341bda06fac6dff20e7aae814b14510780\\expr.png\" style=\"display:inline;vertical-align:middle;\" /></a><br>"
      ],
      "text/plain": [
       "<proveit._core_.magics.SpecialExpressions instance at 0x000000000442E688>"
      ]
     },
     "execution_count": 10,
     "metadata": {},
     "output_type": "execute_result"
    }
   ],
   "source": [
    "i = Variable('i')"
   ]
  },
  {
   "cell_type": "code",
   "execution_count": 11,
   "metadata": {
    "collapsed": false
   },
   "outputs": [
    {
     "data": {
      "text/html": [
       "<strong>j</strong>: <a href=\"_pv_it_\\b7c1f21a775d030e62b3576f1633f8c9f9943b6d0\\expr.ipynb\" target=\"_blank\"><img src=\"_pv_it_\\b7c1f21a775d030e62b3576f1633f8c9f9943b6d0\\expr.png\" style=\"display:inline;vertical-align:middle;\" /></a><br>"
      ],
      "text/plain": [
       "<proveit._core_.magics.SpecialExpressions instance at 0x000000000442E308>"
      ]
     },
     "execution_count": 11,
     "metadata": {},
     "output_type": "execute_result"
    }
   ],
   "source": [
    "j = Variable('j')"
   ]
  },
  {
   "cell_type": "code",
   "execution_count": 12,
   "metadata": {
    "collapsed": false
   },
   "outputs": [
    {
     "data": {
      "text/html": [
       "<strong>k</strong>: <a href=\"_pv_it_\\f1906c43cbd04988e2bcad774e47133c0a81581f0\\expr.ipynb\" target=\"_blank\"><img src=\"_pv_it_\\f1906c43cbd04988e2bcad774e47133c0a81581f0\\expr.png\" style=\"display:inline;vertical-align:middle;\" /></a><br>"
      ],
      "text/plain": [
       "<proveit._core_.magics.SpecialExpressions instance at 0x0000000004429508>"
      ]
     },
     "execution_count": 12,
     "metadata": {},
     "output_type": "execute_result"
    }
   ],
   "source": [
    "k = Variable('k')"
   ]
  },
  {
   "cell_type": "code",
   "execution_count": 13,
   "metadata": {
    "collapsed": false
   },
   "outputs": [
    {
     "data": {
      "text/html": [
       "<strong>l</strong>: <a href=\"_pv_it_\\81d16a6c6ddd4145d207feb7a214bfb9268a4bd90\\expr.ipynb\" target=\"_blank\"><img src=\"_pv_it_\\81d16a6c6ddd4145d207feb7a214bfb9268a4bd90\\expr.png\" style=\"display:inline;vertical-align:middle;\" /></a><br>"
      ],
      "text/plain": [
       "<proveit._core_.magics.SpecialExpressions instance at 0x000000000442E588>"
      ]
     },
     "execution_count": 13,
     "metadata": {},
     "output_type": "execute_result"
    }
   ],
   "source": [
    "l = Variable('l')"
   ]
  },
  {
   "cell_type": "code",
   "execution_count": 14,
   "metadata": {
    "collapsed": false
   },
   "outputs": [
    {
     "data": {
      "text/html": [
       "<strong>m</strong>: <a href=\"_pv_it_\\075c1076b45292eb630851699048214896da06240\\expr.ipynb\" target=\"_blank\"><img src=\"_pv_it_\\075c1076b45292eb630851699048214896da06240\\expr.png\" style=\"display:inline;vertical-align:middle;\" /></a><br>"
      ],
      "text/plain": [
       "<proveit._core_.magics.SpecialExpressions instance at 0x0000000004420208>"
      ]
     },
     "execution_count": 14,
     "metadata": {},
     "output_type": "execute_result"
    }
   ],
   "source": [
    "m = Variable('m')"
   ]
  },
  {
   "cell_type": "code",
   "execution_count": 15,
   "metadata": {
    "collapsed": false
   },
   "outputs": [
    {
     "data": {
      "text/html": [
       "<strong>n</strong>: <a href=\"_pv_it_\\976d556304f55d7c1e1b0d9882bd1610a2b027af0\\expr.ipynb\" target=\"_blank\"><img src=\"_pv_it_\\976d556304f55d7c1e1b0d9882bd1610a2b027af0\\expr.png\" style=\"display:inline;vertical-align:middle;\" /></a><br>"
      ],
      "text/plain": [
       "<proveit._core_.magics.SpecialExpressions instance at 0x0000000004434808>"
      ]
     },
     "execution_count": 15,
     "metadata": {},
     "output_type": "execute_result"
    }
   ],
   "source": [
    "n = Variable('n')"
   ]
  },
  {
   "cell_type": "code",
   "execution_count": 16,
   "metadata": {
    "collapsed": false
   },
   "outputs": [
    {
     "data": {
      "text/html": [
       "<strong>o</strong>: <a href=\"_pv_it_\\972c2cd6b5fd084e93b45f0648c1814164e495530\\expr.ipynb\" target=\"_blank\"><img src=\"_pv_it_\\972c2cd6b5fd084e93b45f0648c1814164e495530\\expr.png\" style=\"display:inline;vertical-align:middle;\" /></a><br>"
      ],
      "text/plain": [
       "<proveit._core_.magics.SpecialExpressions instance at 0x000000000443A608>"
      ]
     },
     "execution_count": 16,
     "metadata": {},
     "output_type": "execute_result"
    }
   ],
   "source": [
    "o = Variable('o')"
   ]
  },
  {
   "cell_type": "code",
   "execution_count": 17,
   "metadata": {
    "collapsed": false
   },
   "outputs": [
    {
     "data": {
      "text/html": [
       "<strong>p</strong>: <a href=\"_pv_it_\\89a0464052108f2bbf1a32b3309a85840690c8e20\\expr.ipynb\" target=\"_blank\"><img src=\"_pv_it_\\89a0464052108f2bbf1a32b3309a85840690c8e20\\expr.png\" style=\"display:inline;vertical-align:middle;\" /></a><br>"
      ],
      "text/plain": [
       "<proveit._core_.magics.SpecialExpressions instance at 0x000000000440EDC8>"
      ]
     },
     "execution_count": 17,
     "metadata": {},
     "output_type": "execute_result"
    }
   ],
   "source": [
    "p = Variable('p')"
   ]
  },
  {
   "cell_type": "code",
   "execution_count": 18,
   "metadata": {
    "collapsed": false
   },
   "outputs": [
    {
     "data": {
      "text/html": [
       "<strong>q</strong>: <a href=\"_pv_it_\\f042327e3912a0a17aa50727057a80821d946f5b0\\expr.ipynb\" target=\"_blank\"><img src=\"_pv_it_\\f042327e3912a0a17aa50727057a80821d946f5b0\\expr.png\" style=\"display:inline;vertical-align:middle;\" /></a><br>"
      ],
      "text/plain": [
       "<proveit._core_.magics.SpecialExpressions instance at 0x000000000443A8C8>"
      ]
     },
     "execution_count": 18,
     "metadata": {},
     "output_type": "execute_result"
    }
   ],
   "source": [
    "q = Variable('q')"
   ]
  },
  {
   "cell_type": "code",
   "execution_count": 19,
   "metadata": {
    "collapsed": false
   },
   "outputs": [
    {
     "data": {
      "text/html": [
       "<strong>r</strong>: <a href=\"_pv_it_\\644aa92428b321f7aaf2f2db0eed580f0471fde10\\expr.ipynb\" target=\"_blank\"><img src=\"_pv_it_\\644aa92428b321f7aaf2f2db0eed580f0471fde10\\expr.png\" style=\"display:inline;vertical-align:middle;\" /></a><br>"
      ],
      "text/plain": [
       "<proveit._core_.magics.SpecialExpressions instance at 0x000000000443A5C8>"
      ]
     },
     "execution_count": 19,
     "metadata": {},
     "output_type": "execute_result"
    }
   ],
   "source": [
    "r = Variable('r')"
   ]
  },
  {
   "cell_type": "code",
   "execution_count": 20,
   "metadata": {
    "collapsed": false
   },
   "outputs": [
    {
     "data": {
      "text/html": [
       "<strong>s</strong>: <a href=\"_pv_it_\\73f0ca128923a8c03a1a4a7216616598778451cd0\\expr.ipynb\" target=\"_blank\"><img src=\"_pv_it_\\73f0ca128923a8c03a1a4a7216616598778451cd0\\expr.png\" style=\"display:inline;vertical-align:middle;\" /></a><br>"
      ],
      "text/plain": [
       "<proveit._core_.magics.SpecialExpressions instance at 0x0000000004420248>"
      ]
     },
     "execution_count": 20,
     "metadata": {},
     "output_type": "execute_result"
    }
   ],
   "source": [
    "s = Variable('s')"
   ]
  },
  {
   "cell_type": "code",
   "execution_count": 21,
   "metadata": {
    "collapsed": false
   },
   "outputs": [
    {
     "data": {
      "text/html": [
       "<strong>t</strong>: <a href=\"_pv_it_\\0def7d6eaa2f478da48a3c33308304e5e935379c0\\expr.ipynb\" target=\"_blank\"><img src=\"_pv_it_\\0def7d6eaa2f478da48a3c33308304e5e935379c0\\expr.png\" style=\"display:inline;vertical-align:middle;\" /></a><br>"
      ],
      "text/plain": [
       "<proveit._core_.magics.SpecialExpressions instance at 0x0000000004442348>"
      ]
     },
     "execution_count": 21,
     "metadata": {},
     "output_type": "execute_result"
    }
   ],
   "source": [
    "t = Variable('t')"
   ]
  },
  {
   "cell_type": "code",
   "execution_count": 22,
   "metadata": {
    "collapsed": false
   },
   "outputs": [
    {
     "data": {
      "text/html": [
       "<strong>u</strong>: <a href=\"_pv_it_\\c65115df10a0f4b3da9ce6fc5f736cf0e94635200\\expr.ipynb\" target=\"_blank\"><img src=\"_pv_it_\\c65115df10a0f4b3da9ce6fc5f736cf0e94635200\\expr.png\" style=\"display:inline;vertical-align:middle;\" /></a><br>"
      ],
      "text/plain": [
       "<proveit._core_.magics.SpecialExpressions instance at 0x0000000004442EC8>"
      ]
     },
     "execution_count": 22,
     "metadata": {},
     "output_type": "execute_result"
    }
   ],
   "source": [
    "u = Variable('u')"
   ]
  },
  {
   "cell_type": "code",
   "execution_count": 23,
   "metadata": {
    "collapsed": false
   },
   "outputs": [
    {
     "data": {
      "text/html": [
       "<strong>v</strong>: <a href=\"_pv_it_\\7883be58f87219da0133a79900e2f6e9e68645c90\\expr.ipynb\" target=\"_blank\"><img src=\"_pv_it_\\7883be58f87219da0133a79900e2f6e9e68645c90\\expr.png\" style=\"display:inline;vertical-align:middle;\" /></a><br>"
      ],
      "text/plain": [
       "<proveit._core_.magics.SpecialExpressions instance at 0x0000000004442208>"
      ]
     },
     "execution_count": 23,
     "metadata": {},
     "output_type": "execute_result"
    }
   ],
   "source": [
    "v = Variable('v')"
   ]
  },
  {
   "cell_type": "code",
   "execution_count": 24,
   "metadata": {
    "collapsed": false
   },
   "outputs": [
    {
     "data": {
      "text/html": [
       "<strong>w</strong>: <a href=\"_pv_it_\\d0f8340c3cc4666b99a4637f1a44fc0da364d5fc0\\expr.ipynb\" target=\"_blank\"><img src=\"_pv_it_\\d0f8340c3cc4666b99a4637f1a44fc0da364d5fc0\\expr.png\" style=\"display:inline;vertical-align:middle;\" /></a><br>"
      ],
      "text/plain": [
       "<proveit._core_.magics.SpecialExpressions instance at 0x000000000443EF08>"
      ]
     },
     "execution_count": 24,
     "metadata": {},
     "output_type": "execute_result"
    }
   ],
   "source": [
    "w = Variable('w')"
   ]
  },
  {
   "cell_type": "code",
   "execution_count": 25,
   "metadata": {
    "collapsed": false
   },
   "outputs": [
    {
     "data": {
      "text/html": [
       "<strong>x</strong>: <a href=\"_pv_it_\\7de344579b991697b85106fc0bd595cb5ed4c24f0\\expr.ipynb\" target=\"_blank\"><img src=\"_pv_it_\\7de344579b991697b85106fc0bd595cb5ed4c24f0\\expr.png\" style=\"display:inline;vertical-align:middle;\" /></a><br>"
      ],
      "text/plain": [
       "<proveit._core_.magics.SpecialExpressions instance at 0x00000000041E2EC8>"
      ]
     },
     "execution_count": 25,
     "metadata": {},
     "output_type": "execute_result"
    }
   ],
   "source": [
    "x = Variable('x')"
   ]
  },
  {
   "cell_type": "code",
   "execution_count": 26,
   "metadata": {
    "collapsed": false
   },
   "outputs": [
    {
     "data": {
      "text/html": [
       "<strong>y</strong>: <a href=\"_pv_it_\\81f22f44907e0b98020a4149d2905fed84d24dfc0\\expr.ipynb\" target=\"_blank\"><img src=\"_pv_it_\\81f22f44907e0b98020a4149d2905fed84d24dfc0\\expr.png\" style=\"display:inline;vertical-align:middle;\" /></a><br>"
      ],
      "text/plain": [
       "<proveit._core_.magics.SpecialExpressions instance at 0x00000000044342C8>"
      ]
     },
     "execution_count": 26,
     "metadata": {},
     "output_type": "execute_result"
    }
   ],
   "source": [
    "y = Variable('y')"
   ]
  },
  {
   "cell_type": "code",
   "execution_count": 27,
   "metadata": {
    "collapsed": false
   },
   "outputs": [
    {
     "data": {
      "text/html": [
       "<strong>z</strong>: <a href=\"_pv_it_\\57476562aec3803492cab60d21e2c0e16dbb482b0\\expr.ipynb\" target=\"_blank\"><img src=\"_pv_it_\\57476562aec3803492cab60d21e2c0e16dbb482b0\\expr.png\" style=\"display:inline;vertical-align:middle;\" /></a><br>"
      ],
      "text/plain": [
       "<proveit._core_.magics.SpecialExpressions instance at 0x000000000442E488>"
      ]
     },
     "execution_count": 27,
     "metadata": {},
     "output_type": "execute_result"
    }
   ],
   "source": [
    "z = Variable('z')"
   ]
  },
  {
   "cell_type": "code",
   "execution_count": 28,
   "metadata": {
    "collapsed": false
   },
   "outputs": [
    {
     "data": {
      "text/html": [
       "<strong>A</strong>: <a href=\"_pv_it_\\c1b75950df91f64856291c1f0fa32634fd4aa2ed0\\expr.ipynb\" target=\"_blank\"><img src=\"_pv_it_\\c1b75950df91f64856291c1f0fa32634fd4aa2ed0\\expr.png\" style=\"display:inline;vertical-align:middle;\" /></a><br>"
      ],
      "text/plain": [
       "<proveit._core_.magics.SpecialExpressions instance at 0x0000000004429A48>"
      ]
     },
     "execution_count": 28,
     "metadata": {},
     "output_type": "execute_result"
    }
   ],
   "source": [
    "A = Variable('A')"
   ]
  },
  {
   "cell_type": "code",
   "execution_count": 29,
   "metadata": {
    "collapsed": false
   },
   "outputs": [
    {
     "data": {
      "text/html": [
       "<strong>B</strong>: <a href=\"_pv_it_\\d5361932f495ba49b51041c75c9a253a8f8e4b250\\expr.ipynb\" target=\"_blank\"><img src=\"_pv_it_\\d5361932f495ba49b51041c75c9a253a8f8e4b250\\expr.png\" style=\"display:inline;vertical-align:middle;\" /></a><br>"
      ],
      "text/plain": [
       "<proveit._core_.magics.SpecialExpressions instance at 0x000000000442E788>"
      ]
     },
     "execution_count": 29,
     "metadata": {},
     "output_type": "execute_result"
    }
   ],
   "source": [
    "B = Variable('B')"
   ]
  },
  {
   "cell_type": "code",
   "execution_count": 30,
   "metadata": {
    "collapsed": false
   },
   "outputs": [
    {
     "data": {
      "text/html": [
       "<strong>C</strong>: <a href=\"_pv_it_\\436231025d429f6422752f030c30f4027f7c0ef90\\expr.ipynb\" target=\"_blank\"><img src=\"_pv_it_\\436231025d429f6422752f030c30f4027f7c0ef90\\expr.png\" style=\"display:inline;vertical-align:middle;\" /></a><br>"
      ],
      "text/plain": [
       "<proveit._core_.magics.SpecialExpressions instance at 0x0000000004429708>"
      ]
     },
     "execution_count": 30,
     "metadata": {},
     "output_type": "execute_result"
    }
   ],
   "source": [
    "C = Variable('C')"
   ]
  },
  {
   "cell_type": "code",
   "execution_count": 31,
   "metadata": {
    "collapsed": false
   },
   "outputs": [
    {
     "data": {
      "text/html": [
       "<strong>D</strong>: <a href=\"_pv_it_\\7aacf7131e7d396ae8eb57eed42b9f676eca40c70\\expr.ipynb\" target=\"_blank\"><img src=\"_pv_it_\\7aacf7131e7d396ae8eb57eed42b9f676eca40c70\\expr.png\" style=\"display:inline;vertical-align:middle;\" /></a><br>"
      ],
      "text/plain": [
       "<proveit._core_.magics.SpecialExpressions instance at 0x00000000043F5BC8>"
      ]
     },
     "execution_count": 31,
     "metadata": {},
     "output_type": "execute_result"
    }
   ],
   "source": [
    "D = Variable('D')"
   ]
  },
  {
   "cell_type": "code",
   "execution_count": 32,
   "metadata": {
    "collapsed": false
   },
   "outputs": [
    {
     "data": {
      "text/html": [
       "<strong>E</strong>: <a href=\"_pv_it_\\95a1644de5a2c50a4a71713a1518dc1621387f890\\expr.ipynb\" target=\"_blank\"><img src=\"_pv_it_\\95a1644de5a2c50a4a71713a1518dc1621387f890\\expr.png\" style=\"display:inline;vertical-align:middle;\" /></a><br>"
      ],
      "text/plain": [
       "<proveit._core_.magics.SpecialExpressions instance at 0x0000000004445E88>"
      ]
     },
     "execution_count": 32,
     "metadata": {},
     "output_type": "execute_result"
    }
   ],
   "source": [
    "E = Variable('E')"
   ]
  },
  {
   "cell_type": "code",
   "execution_count": 33,
   "metadata": {
    "collapsed": false
   },
   "outputs": [
    {
     "data": {
      "text/html": [
       "<strong>F</strong>: <a href=\"_pv_it_\\746d5f978a8493d05c894778a1ad53293c6b1ada0\\expr.ipynb\" target=\"_blank\"><img src=\"_pv_it_\\746d5f978a8493d05c894778a1ad53293c6b1ada0\\expr.png\" style=\"display:inline;vertical-align:middle;\" /></a><br>"
      ],
      "text/plain": [
       "<proveit._core_.magics.SpecialExpressions instance at 0x0000000004451848>"
      ]
     },
     "execution_count": 33,
     "metadata": {},
     "output_type": "execute_result"
    }
   ],
   "source": [
    "F = Variable('F')"
   ]
  },
  {
   "cell_type": "code",
   "execution_count": 34,
   "metadata": {
    "collapsed": false
   },
   "outputs": [
    {
     "data": {
      "text/html": [
       "<strong>G</strong>: <a href=\"_pv_it_\\4a55f71fe3c4e3d6184fe7c34bf42b316013895d0\\expr.ipynb\" target=\"_blank\"><img src=\"_pv_it_\\4a55f71fe3c4e3d6184fe7c34bf42b316013895d0\\expr.png\" style=\"display:inline;vertical-align:middle;\" /></a><br>"
      ],
      "text/plain": [
       "<proveit._core_.magics.SpecialExpressions instance at 0x0000000004451508>"
      ]
     },
     "execution_count": 34,
     "metadata": {},
     "output_type": "execute_result"
    }
   ],
   "source": [
    "G = Variable('G')"
   ]
  },
  {
   "cell_type": "code",
   "execution_count": 35,
   "metadata": {
    "collapsed": false
   },
   "outputs": [
    {
     "data": {
      "text/html": [
       "<strong>H</strong>: <a href=\"_pv_it_\\019e102895d58630afefa1869d721b8105d0d30f0\\expr.ipynb\" target=\"_blank\"><img src=\"_pv_it_\\019e102895d58630afefa1869d721b8105d0d30f0\\expr.png\" style=\"display:inline;vertical-align:middle;\" /></a><br>"
      ],
      "text/plain": [
       "<proveit._core_.magics.SpecialExpressions instance at 0x000000000444C4C8>"
      ]
     },
     "execution_count": 35,
     "metadata": {},
     "output_type": "execute_result"
    }
   ],
   "source": [
    "H = Variable('H')"
   ]
  },
  {
   "cell_type": "code",
   "execution_count": 36,
   "metadata": {
    "collapsed": false
   },
   "outputs": [
    {
     "data": {
      "text/html": [
       "<strong>I</strong>: <a href=\"_pv_it_\\8f850c68afbcd0a28d73c3436917264f4e5793620\\expr.ipynb\" target=\"_blank\"><img src=\"_pv_it_\\8f850c68afbcd0a28d73c3436917264f4e5793620\\expr.png\" style=\"display:inline;vertical-align:middle;\" /></a><br>"
      ],
      "text/plain": [
       "<proveit._core_.magics.SpecialExpressions instance at 0x000000000444CF48>"
      ]
     },
     "execution_count": 36,
     "metadata": {},
     "output_type": "execute_result"
    }
   ],
   "source": [
    "I = Variable('I')"
   ]
  },
  {
   "cell_type": "code",
   "execution_count": 37,
   "metadata": {
    "collapsed": false
   },
   "outputs": [
    {
     "data": {
      "text/html": [
       "<strong>J</strong>: <a href=\"_pv_it_\\cd3f47f33c65995d0af85ad387dfe993266b63430\\expr.ipynb\" target=\"_blank\"><img src=\"_pv_it_\\cd3f47f33c65995d0af85ad387dfe993266b63430\\expr.png\" style=\"display:inline;vertical-align:middle;\" /></a><br>"
      ],
      "text/plain": [
       "<proveit._core_.magics.SpecialExpressions instance at 0x000000000442E048>"
      ]
     },
     "execution_count": 37,
     "metadata": {},
     "output_type": "execute_result"
    }
   ],
   "source": [
    "J = Variable('J')"
   ]
  },
  {
   "cell_type": "code",
   "execution_count": 38,
   "metadata": {
    "collapsed": false
   },
   "outputs": [
    {
     "data": {
      "text/html": [
       "<strong>K</strong>: <a href=\"_pv_it_\\e625d986c8a10eea4d2d21703dd117d33ec873110\\expr.ipynb\" target=\"_blank\"><img src=\"_pv_it_\\e625d986c8a10eea4d2d21703dd117d33ec873110\\expr.png\" style=\"display:inline;vertical-align:middle;\" /></a><br>"
      ],
      "text/plain": [
       "<proveit._core_.magics.SpecialExpressions instance at 0x0000000004429C48>"
      ]
     },
     "execution_count": 38,
     "metadata": {},
     "output_type": "execute_result"
    }
   ],
   "source": [
    "K = Variable('K')"
   ]
  },
  {
   "cell_type": "code",
   "execution_count": 39,
   "metadata": {
    "collapsed": false
   },
   "outputs": [
    {
     "data": {
      "text/html": [
       "<strong>L</strong>: <a href=\"_pv_it_\\b0a9470c7fe8d704e6d751d678ed59d77303fa150\\expr.ipynb\" target=\"_blank\"><img src=\"_pv_it_\\b0a9470c7fe8d704e6d751d678ed59d77303fa150\\expr.png\" style=\"display:inline;vertical-align:middle;\" /></a><br>"
      ],
      "text/plain": [
       "<proveit._core_.magics.SpecialExpressions instance at 0x000000000444CE88>"
      ]
     },
     "execution_count": 39,
     "metadata": {},
     "output_type": "execute_result"
    }
   ],
   "source": [
    "L = Variable('L')"
   ]
  },
  {
   "cell_type": "code",
   "execution_count": 40,
   "metadata": {
    "collapsed": false
   },
   "outputs": [
    {
     "data": {
      "text/html": [
       "<strong>M</strong>: <a href=\"_pv_it_\\f170fc64c82f8e37846d17476ce31ad8cdc56af70\\expr.ipynb\" target=\"_blank\"><img src=\"_pv_it_\\f170fc64c82f8e37846d17476ce31ad8cdc56af70\\expr.png\" style=\"display:inline;vertical-align:middle;\" /></a><br>"
      ],
      "text/plain": [
       "<proveit._core_.magics.SpecialExpressions instance at 0x0000000004434FC8>"
      ]
     },
     "execution_count": 40,
     "metadata": {},
     "output_type": "execute_result"
    }
   ],
   "source": [
    "M = Variable('M')"
   ]
  },
  {
   "cell_type": "code",
   "execution_count": 41,
   "metadata": {
    "collapsed": false
   },
   "outputs": [
    {
     "data": {
      "text/html": [
       "<strong>N</strong>: <a href=\"_pv_it_\\5748980e1a188f36e04f34a0e2ec2c93d4b50c170\\expr.ipynb\" target=\"_blank\"><img src=\"_pv_it_\\5748980e1a188f36e04f34a0e2ec2c93d4b50c170\\expr.png\" style=\"display:inline;vertical-align:middle;\" /></a><br>"
      ],
      "text/plain": [
       "<proveit._core_.magics.SpecialExpressions instance at 0x000000000443A1C8>"
      ]
     },
     "execution_count": 41,
     "metadata": {},
     "output_type": "execute_result"
    }
   ],
   "source": [
    "N = Variable('N')"
   ]
  },
  {
   "cell_type": "code",
   "execution_count": 42,
   "metadata": {
    "collapsed": false
   },
   "outputs": [
    {
     "data": {
      "text/html": [
       "<strong>O</strong>: <a href=\"_pv_it_\\1557fda46fe3fe9ba0511203a6994b329937459f0\\expr.ipynb\" target=\"_blank\"><img src=\"_pv_it_\\1557fda46fe3fe9ba0511203a6994b329937459f0\\expr.png\" style=\"display:inline;vertical-align:middle;\" /></a><br>"
      ],
      "text/plain": [
       "<proveit._core_.magics.SpecialExpressions instance at 0x0000000004420608>"
      ]
     },
     "execution_count": 42,
     "metadata": {},
     "output_type": "execute_result"
    }
   ],
   "source": [
    "O = Variable('O')"
   ]
  },
  {
   "cell_type": "code",
   "execution_count": 43,
   "metadata": {
    "collapsed": false
   },
   "outputs": [
    {
     "data": {
      "text/html": [
       "<strong>P</strong>: <a href=\"_pv_it_\\2a9e303518f1196ce252c7dd18e87a9873d2a5230\\expr.ipynb\" target=\"_blank\"><img src=\"_pv_it_\\2a9e303518f1196ce252c7dd18e87a9873d2a5230\\expr.png\" style=\"display:inline;vertical-align:middle;\" /></a><br>"
      ],
      "text/plain": [
       "<proveit._core_.magics.SpecialExpressions instance at 0x000000000444C208>"
      ]
     },
     "execution_count": 43,
     "metadata": {},
     "output_type": "execute_result"
    }
   ],
   "source": [
    "P = Variable('P')"
   ]
  },
  {
   "cell_type": "code",
   "execution_count": 44,
   "metadata": {
    "collapsed": false
   },
   "outputs": [
    {
     "data": {
      "text/html": [
       "<strong>Q</strong>: <a href=\"_pv_it_\\3f65031c0d5b1ae4a9448cb04a32020ef0872cb00\\expr.ipynb\" target=\"_blank\"><img src=\"_pv_it_\\3f65031c0d5b1ae4a9448cb04a32020ef0872cb00\\expr.png\" style=\"display:inline;vertical-align:middle;\" /></a><br>"
      ],
      "text/plain": [
       "<proveit._core_.magics.SpecialExpressions instance at 0x000000000443E8C8>"
      ]
     },
     "execution_count": 44,
     "metadata": {},
     "output_type": "execute_result"
    }
   ],
   "source": [
    "Q = Variable('Q')"
   ]
  },
  {
   "cell_type": "code",
   "execution_count": 45,
   "metadata": {
    "collapsed": false
   },
   "outputs": [
    {
     "data": {
      "text/html": [
       "<strong>R</strong>: <a href=\"_pv_it_\\5584377e164e95e51d2ac6ed9cdc231d9a54d9f10\\expr.ipynb\" target=\"_blank\"><img src=\"_pv_it_\\5584377e164e95e51d2ac6ed9cdc231d9a54d9f10\\expr.png\" style=\"display:inline;vertical-align:middle;\" /></a><br>"
      ],
      "text/plain": [
       "<proveit._core_.magics.SpecialExpressions instance at 0x000000000442E088>"
      ]
     },
     "execution_count": 45,
     "metadata": {},
     "output_type": "execute_result"
    }
   ],
   "source": [
    "R = Variable('R')"
   ]
  },
  {
   "cell_type": "code",
   "execution_count": 46,
   "metadata": {
    "collapsed": false
   },
   "outputs": [
    {
     "data": {
      "text/html": [
       "<strong>S</strong>: <a href=\"_pv_it_\\d4eb6352288af473e93384f35d9f37df8d5591720\\expr.ipynb\" target=\"_blank\"><img src=\"_pv_it_\\d4eb6352288af473e93384f35d9f37df8d5591720\\expr.png\" style=\"display:inline;vertical-align:middle;\" /></a><br>"
      ],
      "text/plain": [
       "<proveit._core_.magics.SpecialExpressions instance at 0x000000000443EE48>"
      ]
     },
     "execution_count": 46,
     "metadata": {},
     "output_type": "execute_result"
    }
   ],
   "source": [
    "S = Variable('S')"
   ]
  },
  {
   "cell_type": "code",
   "execution_count": 47,
   "metadata": {
    "collapsed": false
   },
   "outputs": [
    {
     "data": {
      "text/html": [
       "<strong>T</strong>: <a href=\"_pv_it_\\3a3f700ad76dc17bb32e04eef09f9bc305ab87200\\expr.ipynb\" target=\"_blank\"><img src=\"_pv_it_\\3a3f700ad76dc17bb32e04eef09f9bc305ab87200\\expr.png\" style=\"display:inline;vertical-align:middle;\" /></a><br>"
      ],
      "text/plain": [
       "<proveit._core_.magics.SpecialExpressions instance at 0x000000000443E7C8>"
      ]
     },
     "execution_count": 47,
     "metadata": {},
     "output_type": "execute_result"
    }
   ],
   "source": [
    "T = Variable('T')"
   ]
  },
  {
   "cell_type": "code",
   "execution_count": 48,
   "metadata": {
    "collapsed": false
   },
   "outputs": [
    {
     "data": {
      "text/html": [
       "<strong>U</strong>: <a href=\"_pv_it_\\9f46e2f32ada86aa8e49cbd3c17d142c885581960\\expr.ipynb\" target=\"_blank\"><img src=\"_pv_it_\\9f46e2f32ada86aa8e49cbd3c17d142c885581960\\expr.png\" style=\"display:inline;vertical-align:middle;\" /></a><br>"
      ],
      "text/plain": [
       "<proveit._core_.magics.SpecialExpressions instance at 0x000000000443AB48>"
      ]
     },
     "execution_count": 48,
     "metadata": {},
     "output_type": "execute_result"
    }
   ],
   "source": [
    "U = Variable('U')"
   ]
  },
  {
   "cell_type": "code",
   "execution_count": 49,
   "metadata": {
    "collapsed": false
   },
   "outputs": [
    {
     "data": {
      "text/html": [
       "<strong>V</strong>: <a href=\"_pv_it_\\29edb4804b1494c1b6f5d93178f6ed4f9c38377d0\\expr.ipynb\" target=\"_blank\"><img src=\"_pv_it_\\29edb4804b1494c1b6f5d93178f6ed4f9c38377d0\\expr.png\" style=\"display:inline;vertical-align:middle;\" /></a><br>"
      ],
      "text/plain": [
       "<proveit._core_.magics.SpecialExpressions instance at 0x0000000004420408>"
      ]
     },
     "execution_count": 49,
     "metadata": {},
     "output_type": "execute_result"
    }
   ],
   "source": [
    "V = Variable('V')"
   ]
  },
  {
   "cell_type": "code",
   "execution_count": 50,
   "metadata": {
    "collapsed": false
   },
   "outputs": [
    {
     "data": {
      "text/html": [
       "<strong>W</strong>: <a href=\"_pv_it_\\7ef43492026b866c61d098a898e27a2c480d94200\\expr.ipynb\" target=\"_blank\"><img src=\"_pv_it_\\7ef43492026b866c61d098a898e27a2c480d94200\\expr.png\" style=\"display:inline;vertical-align:middle;\" /></a><br>"
      ],
      "text/plain": [
       "<proveit._core_.magics.SpecialExpressions instance at 0x000000000442E3C8>"
      ]
     },
     "execution_count": 50,
     "metadata": {},
     "output_type": "execute_result"
    }
   ],
   "source": [
    "W = Variable('W')"
   ]
  },
  {
   "cell_type": "code",
   "execution_count": 51,
   "metadata": {
    "collapsed": false
   },
   "outputs": [
    {
     "data": {
      "text/html": [
       "<strong>X</strong>: <a href=\"_pv_it_\\d3630cc4eff68a842bf516851b1241319b2b2e7f0\\expr.ipynb\" target=\"_blank\"><img src=\"_pv_it_\\d3630cc4eff68a842bf516851b1241319b2b2e7f0\\expr.png\" style=\"display:inline;vertical-align:middle;\" /></a><br>"
      ],
      "text/plain": [
       "<proveit._core_.magics.SpecialExpressions instance at 0x0000000004434A48>"
      ]
     },
     "execution_count": 51,
     "metadata": {},
     "output_type": "execute_result"
    }
   ],
   "source": [
    "X = Variable('X')"
   ]
  },
  {
   "cell_type": "code",
   "execution_count": 52,
   "metadata": {
    "collapsed": false
   },
   "outputs": [
    {
     "data": {
      "text/html": [
       "<strong>Y</strong>: <a href=\"_pv_it_\\9c632b8686ab5ad717ed53b86e620c80d4772cb60\\expr.ipynb\" target=\"_blank\"><img src=\"_pv_it_\\9c632b8686ab5ad717ed53b86e620c80d4772cb60\\expr.png\" style=\"display:inline;vertical-align:middle;\" /></a><br>"
      ],
      "text/plain": [
       "<proveit._core_.magics.SpecialExpressions instance at 0x0000000004429CC8>"
      ]
     },
     "execution_count": 52,
     "metadata": {},
     "output_type": "execute_result"
    }
   ],
   "source": [
    "Y = Variable('Y')"
   ]
  },
  {
   "cell_type": "code",
   "execution_count": 53,
   "metadata": {
    "collapsed": false
   },
   "outputs": [
    {
     "data": {
      "text/html": [
       "<strong>Z</strong>: <a href=\"_pv_it_\\e61ed7dc4aa5921251cf021530b7b7724a990a410\\expr.ipynb\" target=\"_blank\"><img src=\"_pv_it_\\e61ed7dc4aa5921251cf021530b7b7724a990a410\\expr.png\" style=\"display:inline;vertical-align:middle;\" /></a><br>"
      ],
      "text/plain": [
       "<proveit._core_.magics.SpecialExpressions instance at 0x0000000004451A48>"
      ]
     },
     "execution_count": 53,
     "metadata": {},
     "output_type": "execute_result"
    }
   ],
   "source": [
    "Z = Variable('Z')"
   ]
  },
  {
   "cell_type": "code",
   "execution_count": 54,
   "metadata": {
    "collapsed": false,
    "scrolled": true
   },
   "outputs": [
    {
     "data": {
      "text/html": [
       "<strong>Am</strong>: <a href=\"_pv_it_\\837e8d839b9504d63a5834fca7dd824081e074fa0\\expr.ipynb\" target=\"_blank\"><img src=\"_pv_it_\\837e8d839b9504d63a5834fca7dd824081e074fa0\\expr.png\" style=\"display:inline;vertical-align:middle;\" /></a><br>"
      ],
      "text/plain": [
       "<proveit._core_.magics.SpecialExpressions instance at 0x000000000443E4C8>"
      ]
     },
     "execution_count": 54,
     "metadata": {},
     "output_type": "execute_result"
    }
   ],
   "source": [
    "Am = Operation(A,m)"
   ]
  },
  {
   "cell_type": "code",
   "execution_count": 55,
   "metadata": {
    "collapsed": false
   },
   "outputs": [
    {
     "data": {
      "text/html": [
       "<strong>Bm</strong>: <a href=\"_pv_it_\\a7572277bfdffd20dedac014c2e9b7496ed5323f0\\expr.ipynb\" target=\"_blank\"><img src=\"_pv_it_\\a7572277bfdffd20dedac014c2e9b7496ed5323f0\\expr.png\" style=\"display:inline;vertical-align:middle;\" /></a><br>"
      ],
      "text/plain": [
       "<proveit._core_.magics.SpecialExpressions instance at 0x00000000044593C8>"
      ]
     },
     "execution_count": 55,
     "metadata": {},
     "output_type": "execute_result"
    }
   ],
   "source": [
    "Bm = Operation(B,m)"
   ]
  },
  {
   "cell_type": "code",
   "execution_count": 56,
   "metadata": {
    "collapsed": false
   },
   "outputs": [
    {
     "data": {
      "text/html": [
       "<strong>Cn</strong>: <a href=\"_pv_it_\\5345cbb3807bd53252161303b19fbae35ba75a790\\expr.ipynb\" target=\"_blank\"><img src=\"_pv_it_\\5345cbb3807bd53252161303b19fbae35ba75a790\\expr.png\" style=\"display:inline;vertical-align:middle;\" /></a><br>"
      ],
      "text/plain": [
       "<proveit._core_.magics.SpecialExpressions instance at 0x0000000004420648>"
      ]
     },
     "execution_count": 56,
     "metadata": {},
     "output_type": "execute_result"
    }
   ],
   "source": [
    "Cn = Operation(C,n)"
   ]
  },
  {
   "cell_type": "code",
   "execution_count": 57,
   "metadata": {
    "collapsed": false
   },
   "outputs": [
    {
     "data": {
      "text/html": [
       "<strong>PofA</strong>: <a href=\"_pv_it_\\71675254740acf2995c7264976fe9a85354228ce0\\expr.ipynb\" target=\"_blank\"><img src=\"_pv_it_\\71675254740acf2995c7264976fe9a85354228ce0\\expr.png\" style=\"display:inline;vertical-align:middle;\" /></a><br>"
      ],
      "text/plain": [
       "<proveit._core_.magics.SpecialExpressions instance at 0x0000000004460C48>"
      ]
     },
     "execution_count": 57,
     "metadata": {},
     "output_type": "execute_result"
    }
   ],
   "source": [
    "PofA = Operation(P, A)"
   ]
  },
  {
   "cell_type": "code",
   "execution_count": 58,
   "metadata": {
    "collapsed": false
   },
   "outputs": [
    {
     "data": {
      "text/html": [
       "<strong>Px</strong>: <a href=\"_pv_it_\\3de159692281687d77694887080f0b025c3338ce0\\expr.ipynb\" target=\"_blank\"><img src=\"_pv_it_\\3de159692281687d77694887080f0b025c3338ce0\\expr.png\" style=\"display:inline;vertical-align:middle;\" /></a><br>"
      ],
      "text/plain": [
       "<proveit._core_.magics.SpecialExpressions instance at 0x0000000004460BC8>"
      ]
     },
     "execution_count": 58,
     "metadata": {},
     "output_type": "execute_result"
    }
   ],
   "source": [
    "Px = Operation(P, x)"
   ]
  },
  {
   "cell_type": "code",
   "execution_count": 59,
   "metadata": {
    "collapsed": false
   },
   "outputs": [
    {
     "data": {
      "text/html": [
       "<strong>Py</strong>: <a href=\"_pv_it_\\a77dc52279c88a4307d3176aa68e0be48d2bb7f50\\expr.ipynb\" target=\"_blank\"><img src=\"_pv_it_\\a77dc52279c88a4307d3176aa68e0be48d2bb7f50\\expr.png\" style=\"display:inline;vertical-align:middle;\" /></a><br>"
      ],
      "text/plain": [
       "<proveit._core_.magics.SpecialExpressions instance at 0x0000000004460188>"
      ]
     },
     "execution_count": 59,
     "metadata": {},
     "output_type": "execute_result"
    }
   ],
   "source": [
    "Py = Operation(P, y)"
   ]
  },
  {
   "cell_type": "code",
   "execution_count": 60,
   "metadata": {
    "collapsed": false
   },
   "outputs": [
    {
     "data": {
      "text/html": [
       "<strong>Pxy</strong>: <a href=\"_pv_it_\\48e1703c87d7b293aedd11d84fc56a104eae55720\\expr.ipynb\" target=\"_blank\"><img src=\"_pv_it_\\48e1703c87d7b293aedd11d84fc56a104eae55720\\expr.png\" style=\"display:inline;vertical-align:middle;\" /></a><br>"
      ],
      "text/plain": [
       "<proveit._core_.magics.SpecialExpressions instance at 0x0000000004457A48>"
      ]
     },
     "execution_count": 60,
     "metadata": {},
     "output_type": "execute_result"
    }
   ],
   "source": [
    "Pxy = Operation(P, (x, y))"
   ]
  },
  {
   "cell_type": "code",
   "execution_count": 61,
   "metadata": {
    "collapsed": false
   },
   "outputs": [
    {
     "data": {
      "text/html": [
       "<strong>Pxyz</strong>: <a href=\"_pv_it_\\3e2b10b63d07dafb17badf334951f805e111ff640\\expr.ipynb\" target=\"_blank\"><img src=\"_pv_it_\\3e2b10b63d07dafb17badf334951f805e111ff640\\expr.png\" style=\"display:inline;vertical-align:middle;\" /></a><br>"
      ],
      "text/plain": [
       "<proveit._core_.magics.SpecialExpressions instance at 0x0000000004457048>"
      ]
     },
     "execution_count": 61,
     "metadata": {},
     "output_type": "execute_result"
    }
   ],
   "source": [
    "Pxyz = Operation(P, (x, y, z))"
   ]
  },
  {
   "cell_type": "code",
   "execution_count": 62,
   "metadata": {
    "collapsed": false
   },
   "outputs": [
    {
     "data": {
      "text/html": [
       "<strong>Pq</strong>: <a href=\"_pv_it_\\07aa4d6ae6d3f282397facaa274be990b7bce6280\\expr.ipynb\" target=\"_blank\"><img src=\"_pv_it_\\07aa4d6ae6d3f282397facaa274be990b7bce6280\\expr.png\" style=\"display:inline;vertical-align:middle;\" /></a><br>"
      ],
      "text/plain": [
       "<proveit._core_.magics.SpecialExpressions instance at 0x00000000044571C8>"
      ]
     },
     "execution_count": 62,
     "metadata": {},
     "output_type": "execute_result"
    }
   ],
   "source": [
    "Pq = Operation(P, q)"
   ]
  },
  {
   "cell_type": "code",
   "execution_count": 63,
   "metadata": {
    "collapsed": false
   },
   "outputs": [
    {
     "data": {
      "text/html": [
       "<strong>Qx</strong>: <a href=\"_pv_it_\\827c06b1167a4e7325f88188afac5520fe64a4dc0\\expr.ipynb\" target=\"_blank\"><img src=\"_pv_it_\\827c06b1167a4e7325f88188afac5520fe64a4dc0\\expr.png\" style=\"display:inline;vertical-align:middle;\" /></a><br>"
      ],
      "text/plain": [
       "<proveit._core_.magics.SpecialExpressions instance at 0x00000000044457C8>"
      ]
     },
     "execution_count": 63,
     "metadata": {},
     "output_type": "execute_result"
    }
   ],
   "source": [
    "Qx = Operation(Q, x)"
   ]
  },
  {
   "cell_type": "code",
   "execution_count": 64,
   "metadata": {
    "collapsed": false
   },
   "outputs": [
    {
     "data": {
      "text/html": [
       "<strong>Qy</strong>: <a href=\"_pv_it_\\265c2a350abe93a08cf200ae59b414ea2b5367820\\expr.ipynb\" target=\"_blank\"><img src=\"_pv_it_\\265c2a350abe93a08cf200ae59b414ea2b5367820\\expr.png\" style=\"display:inline;vertical-align:middle;\" /></a><br>"
      ],
      "text/plain": [
       "<proveit._core_.magics.SpecialExpressions instance at 0x0000000004429048>"
      ]
     },
     "execution_count": 64,
     "metadata": {},
     "output_type": "execute_result"
    }
   ],
   "source": [
    "Qy = Operation(Q, y)"
   ]
  },
  {
   "cell_type": "code",
   "execution_count": 65,
   "metadata": {
    "collapsed": false
   },
   "outputs": [
    {
     "data": {
      "text/html": [
       "<strong>Rx</strong>: <a href=\"_pv_it_\\0b9d2f11e1f3b8c89d247161a49c25f12cb44f2f0\\expr.ipynb\" target=\"_blank\"><img src=\"_pv_it_\\0b9d2f11e1f3b8c89d247161a49c25f12cb44f2f0\\expr.png\" style=\"display:inline;vertical-align:middle;\" /></a><br>"
      ],
      "text/plain": [
       "<proveit._core_.magics.SpecialExpressions instance at 0x00000000044341C8>"
      ]
     },
     "execution_count": 65,
     "metadata": {},
     "output_type": "execute_result"
    }
   ],
   "source": [
    "Rx = Operation(R, x)"
   ]
  },
  {
   "cell_type": "code",
   "execution_count": 66,
   "metadata": {
    "collapsed": false
   },
   "outputs": [
    {
     "data": {
      "text/html": [
       "<strong>Ry</strong>: <a href=\"_pv_it_\\d6deedc5623b151a8f73a791fbe7acf2b03b173f0\\expr.ipynb\" target=\"_blank\"><img src=\"_pv_it_\\d6deedc5623b151a8f73a791fbe7acf2b03b173f0\\expr.png\" style=\"display:inline;vertical-align:middle;\" /></a><br>"
      ],
      "text/plain": [
       "<proveit._core_.magics.SpecialExpressions instance at 0x000000000443E808>"
      ]
     },
     "execution_count": 66,
     "metadata": {},
     "output_type": "execute_result"
    }
   ],
   "source": [
    "Ry = Operation(R, y)"
   ]
  },
  {
   "cell_type": "code",
   "execution_count": 67,
   "metadata": {
    "collapsed": false
   },
   "outputs": [
    {
     "data": {
      "text/html": [
       "<strong>fa</strong>: <a href=\"_pv_it_\\8e4908e35b88173f2fedd706cbdb28c94268dc9d0\\expr.ipynb\" target=\"_blank\"><img src=\"_pv_it_\\8e4908e35b88173f2fedd706cbdb28c94268dc9d0\\expr.png\" style=\"display:inline;vertical-align:middle;\" /></a><br>"
      ],
      "text/plain": [
       "<proveit._core_.magics.SpecialExpressions instance at 0x0000000004464708>"
      ]
     },
     "execution_count": 67,
     "metadata": {},
     "output_type": "execute_result"
    }
   ],
   "source": [
    "fa = Operation(f, a)"
   ]
  },
  {
   "cell_type": "code",
   "execution_count": 68,
   "metadata": {
    "collapsed": false
   },
   "outputs": [
    {
     "data": {
      "text/html": [
       "<strong>fb</strong>: <a href=\"_pv_it_\\038931b5ef01201a50088476d9c53c5f9fb75f800\\expr.ipynb\" target=\"_blank\"><img src=\"_pv_it_\\038931b5ef01201a50088476d9c53c5f9fb75f800\\expr.png\" style=\"display:inline;vertical-align:middle;\" /></a><br>"
      ],
      "text/plain": [
       "<proveit._core_.magics.SpecialExpressions instance at 0x0000000004464B08>"
      ]
     },
     "execution_count": 68,
     "metadata": {},
     "output_type": "execute_result"
    }
   ],
   "source": [
    "fb = Operation(f, b)"
   ]
  },
  {
   "cell_type": "code",
   "execution_count": 69,
   "metadata": {
    "collapsed": false
   },
   "outputs": [
    {
     "data": {
      "text/html": [
       "<strong>fab</strong>: <a href=\"_pv_it_\\b2f4e628117ca4d969a6d2ab68d7162022ebd6fe0\\expr.ipynb\" target=\"_blank\"><img src=\"_pv_it_\\b2f4e628117ca4d969a6d2ab68d7162022ebd6fe0\\expr.png\" style=\"display:inline;vertical-align:middle;\" /></a><br>"
      ],
      "text/plain": [
       "<proveit._core_.magics.SpecialExpressions instance at 0x000000000446D4C8>"
      ]
     },
     "execution_count": 69,
     "metadata": {},
     "output_type": "execute_result"
    }
   ],
   "source": [
    "fab = Operation(f, (a, b))"
   ]
  },
  {
   "cell_type": "code",
   "execution_count": 70,
   "metadata": {
    "collapsed": false
   },
   "outputs": [
    {
     "data": {
      "text/html": [
       "<strong>fx</strong>: <a href=\"_pv_it_\\89ac5bde88b0fc993fa7aeab66554265d348c9e70\\expr.ipynb\" target=\"_blank\"><img src=\"_pv_it_\\89ac5bde88b0fc993fa7aeab66554265d348c9e70\\expr.png\" style=\"display:inline;vertical-align:middle;\" /></a><br>"
      ],
      "text/plain": [
       "<proveit._core_.magics.SpecialExpressions instance at 0x0000000004464808>"
      ]
     },
     "execution_count": 70,
     "metadata": {},
     "output_type": "execute_result"
    }
   ],
   "source": [
    "fx = Operation(f, x)"
   ]
  },
  {
   "cell_type": "code",
   "execution_count": 71,
   "metadata": {
    "collapsed": false
   },
   "outputs": [
    {
     "data": {
      "text/html": [
       "<strong>fy</strong>: <a href=\"_pv_it_\\f78421028a9c475e03a52c64c1797e01905705f10\\expr.ipynb\" target=\"_blank\"><img src=\"_pv_it_\\f78421028a9c475e03a52c64c1797e01905705f10\\expr.png\" style=\"display:inline;vertical-align:middle;\" /></a><br>"
      ],
      "text/plain": [
       "<proveit._core_.magics.SpecialExpressions instance at 0x0000000004442308>"
      ]
     },
     "execution_count": 71,
     "metadata": {},
     "output_type": "execute_result"
    }
   ],
   "source": [
    "fy = Operation(f, y)"
   ]
  },
  {
   "cell_type": "code",
   "execution_count": 72,
   "metadata": {
    "collapsed": false
   },
   "outputs": [
    {
     "data": {
      "text/html": [
       "<strong>fxy</strong>: <a href=\"_pv_it_\\f938850b69b70418bdef9c548d144adc37cd2d710\\expr.ipynb\" target=\"_blank\"><img src=\"_pv_it_\\f938850b69b70418bdef9c548d144adc37cd2d710\\expr.png\" style=\"display:inline;vertical-align:middle;\" /></a><br>"
      ],
      "text/plain": [
       "<proveit._core_.magics.SpecialExpressions instance at 0x000000000440ED48>"
      ]
     },
     "execution_count": 72,
     "metadata": {},
     "output_type": "execute_result"
    }
   ],
   "source": [
    "fxy = Operation(f, (x, y))"
   ]
  },
  {
   "cell_type": "code",
   "execution_count": 73,
   "metadata": {
    "collapsed": false
   },
   "outputs": [
    {
     "data": {
      "text/html": [
       "<strong>gx</strong>: <a href=\"_pv_it_\\85d87965c9552cbb708116ad32dd0de6017f91330\\expr.ipynb\" target=\"_blank\"><img src=\"_pv_it_\\85d87965c9552cbb708116ad32dd0de6017f91330\\expr.png\" style=\"display:inline;vertical-align:middle;\" /></a><br>"
      ],
      "text/plain": [
       "<proveit._core_.magics.SpecialExpressions instance at 0x0000000004442048>"
      ]
     },
     "execution_count": 73,
     "metadata": {},
     "output_type": "execute_result"
    }
   ],
   "source": [
    "gx = Operation(g, x)"
   ]
  },
  {
   "cell_type": "code",
   "execution_count": 74,
   "metadata": {
    "collapsed": false
   },
   "outputs": [
    {
     "data": {
      "text/html": [
       "<strong>gy</strong>: <a href=\"_pv_it_\\65b47826735726923cf6ca2e14684c7a32cea2cd0\\expr.ipynb\" target=\"_blank\"><img src=\"_pv_it_\\65b47826735726923cf6ca2e14684c7a32cea2cd0\\expr.png\" style=\"display:inline;vertical-align:middle;\" /></a><br>"
      ],
      "text/plain": [
       "<proveit._core_.magics.SpecialExpressions instance at 0x000000000444CE48>"
      ]
     },
     "execution_count": 74,
     "metadata": {},
     "output_type": "execute_result"
    }
   ],
   "source": [
    "gy = Operation(g, y)"
   ]
  },
  {
   "cell_type": "code",
   "execution_count": 75,
   "metadata": {
    "collapsed": false
   },
   "outputs": [
    {
     "data": {
      "text/html": [
       "<strong>alpha</strong>: <a href=\"_pv_it_\\c4f6a299dd1324eb4c10e0498cb11fda69fe17fc0\\expr.ipynb\" target=\"_blank\"><img src=\"_pv_it_\\c4f6a299dd1324eb4c10e0498cb11fda69fe17fc0\\expr.png\" style=\"display:inline;vertical-align:middle;\" /></a><br>"
      ],
      "text/plain": [
       "<proveit._core_.magics.SpecialExpressions instance at 0x000000000442ED88>"
      ]
     },
     "execution_count": 75,
     "metadata": {},
     "output_type": "execute_result"
    }
   ],
   "source": [
    "alpha = Variable('alpha', r'\\alpha')"
   ]
  },
  {
   "cell_type": "code",
   "execution_count": 76,
   "metadata": {
    "collapsed": false
   },
   "outputs": [
    {
     "data": {
      "text/html": [
       "<strong>beta</strong>: <a href=\"_pv_it_\\25d8b2a35e8637b1e7526ae534cab46cad282c0e0\\expr.ipynb\" target=\"_blank\"><img src=\"_pv_it_\\25d8b2a35e8637b1e7526ae534cab46cad282c0e0\\expr.png\" style=\"display:inline;vertical-align:middle;\" /></a><br>"
      ],
      "text/plain": [
       "<proveit._core_.magics.SpecialExpressions instance at 0x0000000004457B08>"
      ]
     },
     "execution_count": 76,
     "metadata": {},
     "output_type": "execute_result"
    }
   ],
   "source": [
    "beta = Variable('beta', r'\\beta')"
   ]
  },
  {
   "cell_type": "code",
   "execution_count": 77,
   "metadata": {
    "collapsed": false
   },
   "outputs": [
    {
     "data": {
      "text/html": [
       "<strong>theta</strong>: <a href=\"_pv_it_\\3b5f3e5320ca0247d4525945b8ea01e7e59cd1820\\expr.ipynb\" target=\"_blank\"><img src=\"_pv_it_\\3b5f3e5320ca0247d4525945b8ea01e7e59cd1820\\expr.png\" style=\"display:inline;vertical-align:middle;\" /></a><br>"
      ],
      "text/plain": [
       "<proveit._core_.magics.SpecialExpressions instance at 0x00000000044608C8>"
      ]
     },
     "execution_count": 77,
     "metadata": {},
     "output_type": "execute_result"
    }
   ],
   "source": [
    "theta = Variable('theta', r'\\theta')"
   ]
  },
  {
   "cell_type": "code",
   "execution_count": 78,
   "metadata": {
    "collapsed": false
   },
   "outputs": [
    {
     "data": {
      "text/html": [
       "<strong>eps</strong>: <a href=\"_pv_it_\\abded6709bfd1419723ad3e579cca89adafac8d40\\expr.ipynb\" target=\"_blank\"><img src=\"_pv_it_\\abded6709bfd1419723ad3e579cca89adafac8d40\\expr.png\" style=\"display:inline;vertical-align:middle;\" /></a><br>"
      ],
      "text/plain": [
       "<proveit._core_.magics.SpecialExpressions instance at 0x0000000004460CC8>"
      ]
     },
     "execution_count": 78,
     "metadata": {},
     "output_type": "execute_result"
    }
   ],
   "source": [
    "eps = Variable('eps', r'\\varepsilon')"
   ]
  },
  {
   "cell_type": "code",
   "execution_count": 79,
   "metadata": {
    "collapsed": false
   },
   "outputs": [
    {
     "data": {
      "text/html": [
       "<strong>Psi</strong>: <a href=\"_pv_it_\\bd279a208542a27b779ce26e1dd911d9144d91190\\expr.ipynb\" target=\"_blank\"><img src=\"_pv_it_\\bd279a208542a27b779ce26e1dd911d9144d91190\\expr.png\" style=\"display:inline;vertical-align:middle;\" /></a><br>"
      ],
      "text/plain": [
       "<proveit._core_.magics.SpecialExpressions instance at 0x0000000004475588>"
      ]
     },
     "execution_count": 79,
     "metadata": {},
     "output_type": "execute_result"
    }
   ],
   "source": [
    "Psi = Variable('Psi', r'\\Psi')"
   ]
  },
  {
   "cell_type": "code",
   "execution_count": 80,
   "metadata": {
    "collapsed": false
   },
   "outputs": [
    {
     "data": {
      "text/html": [
       "<strong>Upsilon</strong>: <a href=\"_pv_it_\\6b916b0dd8335c09d8ed5a16139b3ad22d67c2260\\expr.ipynb\" target=\"_blank\"><img src=\"_pv_it_\\6b916b0dd8335c09d8ed5a16139b3ad22d67c2260\\expr.png\" style=\"display:inline;vertical-align:middle;\" /></a><br>"
      ],
      "text/plain": [
       "<proveit._core_.magics.SpecialExpressions instance at 0x0000000004475988>"
      ]
     },
     "execution_count": 80,
     "metadata": {},
     "output_type": "execute_result"
    }
   ],
   "source": [
    "Upsilon = Variable('Upsilon', r'\\Upsilon')"
   ]
  },
  {
   "cell_type": "code",
   "execution_count": 81,
   "metadata": {
    "collapsed": false
   },
   "outputs": [
    {
     "data": {
      "text/html": [
       "<strong>Omega</strong>: <a href=\"_pv_it_\\edda2fc1e60af9eea73f7325785d3fe664ae64890\\expr.ipynb\" target=\"_blank\"><img src=\"_pv_it_\\edda2fc1e60af9eea73f7325785d3fe664ae64890\\expr.png\" style=\"display:inline;vertical-align:middle;\" /></a><br>"
      ],
      "text/plain": [
       "<proveit._core_.magics.SpecialExpressions instance at 0x000000000448B848>"
      ]
     },
     "execution_count": 81,
     "metadata": {},
     "output_type": "execute_result"
    }
   ],
   "source": [
    "Omega = Variable('Omega', r'\\Omega')"
   ]
  },
  {
   "cell_type": "code",
   "execution_count": 82,
   "metadata": {
    "collapsed": true
   },
   "outputs": [],
   "source": [
    "def multiAndEtcVar(stringFormat, latexFormat=None):\n",
    "  multiVar = MultiVariable(stringFormat, latexFormat)\n",
    "  return multiVar, Etcetera(multiVar)"
   ]
  },
  {
   "cell_type": "code",
   "execution_count": 83,
   "metadata": {
    "collapsed": false
   },
   "outputs": [
    {
     "data": {
      "text/html": [
       "<strong>aMulti</strong>: <a href=\"_pv_it_\\1917963aa76fa588bcaafffed715e66243bacc380\\expr.ipynb\" target=\"_blank\"><img src=\"_pv_it_\\1917963aa76fa588bcaafffed715e66243bacc380\\expr.png\" style=\"display:inline;vertical-align:middle;\" /></a><br>\n",
       "<strong>aEtc</strong>: <a href=\"_pv_it_\\c6964f10f145d04325c1275c5b9b2b21eaa15b8b0\\expr.ipynb\" target=\"_blank\"><img src=\"_pv_it_\\c6964f10f145d04325c1275c5b9b2b21eaa15b8b0\\expr.png\" style=\"display:inline;vertical-align:middle;\" /></a><br>"
      ],
      "text/plain": [
       "<proveit._core_.magics.SpecialExpressions instance at 0x000000000448BDC8>"
      ]
     },
     "execution_count": 83,
     "metadata": {},
     "output_type": "execute_result"
    }
   ],
   "source": [
    "aMulti, aEtc = multiAndEtcVar('a')"
   ]
  },
  {
   "cell_type": "code",
   "execution_count": 84,
   "metadata": {
    "collapsed": false
   },
   "outputs": [
    {
     "data": {
      "text/html": [
       "<strong>bMulti</strong>: <a href=\"_pv_it_\\bf487b9c254a7ec48d670b7525b65d48dd8e2e200\\expr.ipynb\" target=\"_blank\"><img src=\"_pv_it_\\bf487b9c254a7ec48d670b7525b65d48dd8e2e200\\expr.png\" style=\"display:inline;vertical-align:middle;\" /></a><br>\n",
       "<strong>bEtc</strong>: <a href=\"_pv_it_\\0c5d36dbf6d0b254795c998e1594b1db253aee450\\expr.ipynb\" target=\"_blank\"><img src=\"_pv_it_\\0c5d36dbf6d0b254795c998e1594b1db253aee450\\expr.png\" style=\"display:inline;vertical-align:middle;\" /></a><br>"
      ],
      "text/plain": [
       "<proveit._core_.magics.SpecialExpressions instance at 0x000000000448BC88>"
      ]
     },
     "execution_count": 84,
     "metadata": {},
     "output_type": "execute_result"
    }
   ],
   "source": [
    "bMulti, bEtc = multiAndEtcVar('b')"
   ]
  },
  {
   "cell_type": "code",
   "execution_count": 85,
   "metadata": {
    "collapsed": false
   },
   "outputs": [
    {
     "data": {
      "text/html": [
       "<strong>cMulti</strong>: <a href=\"_pv_it_\\7cabd33c19cd300fdb8c7a94ed04cff219a31b620\\expr.ipynb\" target=\"_blank\"><img src=\"_pv_it_\\7cabd33c19cd300fdb8c7a94ed04cff219a31b620\\expr.png\" style=\"display:inline;vertical-align:middle;\" /></a><br>\n",
       "<strong>cEtc</strong>: <a href=\"_pv_it_\\f383e62031ff1d20f420aef49612fbd00e1d10fa0\\expr.ipynb\" target=\"_blank\"><img src=\"_pv_it_\\f383e62031ff1d20f420aef49612fbd00e1d10fa0\\expr.png\" style=\"display:inline;vertical-align:middle;\" /></a><br>"
      ],
      "text/plain": [
       "<proveit._core_.magics.SpecialExpressions instance at 0x0000000004475BC8>"
      ]
     },
     "execution_count": 85,
     "metadata": {},
     "output_type": "execute_result"
    }
   ],
   "source": [
    "cMulti, cEtc = multiAndEtcVar('c')"
   ]
  },
  {
   "cell_type": "code",
   "execution_count": 86,
   "metadata": {
    "collapsed": false
   },
   "outputs": [
    {
     "data": {
      "text/html": [
       "<strong>Amulti</strong>: <a href=\"_pv_it_\\7849aa6c18d12287e6f1132df1a3f607920a68340\\expr.ipynb\" target=\"_blank\"><img src=\"_pv_it_\\7849aa6c18d12287e6f1132df1a3f607920a68340\\expr.png\" style=\"display:inline;vertical-align:middle;\" /></a><br>\n",
       "<strong>Aetc</strong>: <a href=\"_pv_it_\\a4c507ac594895239ff1d66ca903c938a194d96e0\\expr.ipynb\" target=\"_blank\"><img src=\"_pv_it_\\a4c507ac594895239ff1d66ca903c938a194d96e0\\expr.png\" style=\"display:inline;vertical-align:middle;\" /></a><br>"
      ],
      "text/plain": [
       "<proveit._core_.magics.SpecialExpressions instance at 0x00000000044750C8>"
      ]
     },
     "execution_count": 86,
     "metadata": {},
     "output_type": "execute_result"
    }
   ],
   "source": [
    "Amulti, Aetc = multiAndEtcVar('A')"
   ]
  },
  {
   "cell_type": "code",
   "execution_count": 87,
   "metadata": {
    "collapsed": false
   },
   "outputs": [
    {
     "data": {
      "text/html": [
       "<strong>Bmulti</strong>: <a href=\"_pv_it_\\11fba955f3cc17e5156e2c5177520e355be59a8c0\\expr.ipynb\" target=\"_blank\"><img src=\"_pv_it_\\11fba955f3cc17e5156e2c5177520e355be59a8c0\\expr.png\" style=\"display:inline;vertical-align:middle;\" /></a><br>\n",
       "<strong>Betc</strong>: <a href=\"_pv_it_\\ab22dcc4413ceb76afd766af70ddacc4a01540b70\\expr.ipynb\" target=\"_blank\"><img src=\"_pv_it_\\ab22dcc4413ceb76afd766af70ddacc4a01540b70\\expr.png\" style=\"display:inline;vertical-align:middle;\" /></a><br>"
      ],
      "text/plain": [
       "<proveit._core_.magics.SpecialExpressions instance at 0x0000000004460848>"
      ]
     },
     "execution_count": 87,
     "metadata": {},
     "output_type": "execute_result"
    }
   ],
   "source": [
    "Bmulti, Betc = multiAndEtcVar('B')"
   ]
  },
  {
   "cell_type": "code",
   "execution_count": 88,
   "metadata": {
    "collapsed": false
   },
   "outputs": [
    {
     "data": {
      "text/html": [
       "<strong>Cmulti</strong>: <a href=\"_pv_it_\\d45dcaa4922cbf6d321f82a4340e5a3025fc62450\\expr.ipynb\" target=\"_blank\"><img src=\"_pv_it_\\d45dcaa4922cbf6d321f82a4340e5a3025fc62450\\expr.png\" style=\"display:inline;vertical-align:middle;\" /></a><br>\n",
       "<strong>Cetc</strong>: <a href=\"_pv_it_\\d3af8d64a6ddd4cf573c0ec4a34d7d6fe476f6e80\\expr.ipynb\" target=\"_blank\"><img src=\"_pv_it_\\d3af8d64a6ddd4cf573c0ec4a34d7d6fe476f6e80\\expr.png\" style=\"display:inline;vertical-align:middle;\" /></a><br>"
      ],
      "text/plain": [
       "<proveit._core_.magics.SpecialExpressions instance at 0x0000000004457148>"
      ]
     },
     "execution_count": 88,
     "metadata": {},
     "output_type": "execute_result"
    }
   ],
   "source": [
    "Cmulti, Cetc = multiAndEtcVar('C')"
   ]
  },
  {
   "cell_type": "code",
   "execution_count": 89,
   "metadata": {
    "collapsed": false
   },
   "outputs": [
    {
     "data": {
      "text/html": [
       "<strong>Dmulti</strong>: <a href=\"_pv_it_\\aa76169f7f1a584ef21c7abe1bdd7dec04a77c940\\expr.ipynb\" target=\"_blank\"><img src=\"_pv_it_\\aa76169f7f1a584ef21c7abe1bdd7dec04a77c940\\expr.png\" style=\"display:inline;vertical-align:middle;\" /></a><br>\n",
       "<strong>Detc</strong>: <a href=\"_pv_it_\\a7c80535c536f0fa292b831f8dc76a77b03a73560\\expr.ipynb\" target=\"_blank\"><img src=\"_pv_it_\\a7c80535c536f0fa292b831f8dc76a77b03a73560\\expr.png\" style=\"display:inline;vertical-align:middle;\" /></a><br>"
      ],
      "text/plain": [
       "<proveit._core_.magics.SpecialExpressions instance at 0x000000000444C1C8>"
      ]
     },
     "execution_count": 89,
     "metadata": {},
     "output_type": "execute_result"
    }
   ],
   "source": [
    "Dmulti, Detc = multiAndEtcVar('D')"
   ]
  },
  {
   "cell_type": "code",
   "execution_count": 90,
   "metadata": {
    "collapsed": false
   },
   "outputs": [
    {
     "data": {
      "text/html": [
       "<strong>Emulti</strong>: <a href=\"_pv_it_\\e0e67961c874d5e590c80fc5a006a60e05d8fb910\\expr.ipynb\" target=\"_blank\"><img src=\"_pv_it_\\e0e67961c874d5e590c80fc5a006a60e05d8fb910\\expr.png\" style=\"display:inline;vertical-align:middle;\" /></a><br>\n",
       "<strong>Eetc</strong>: <a href=\"_pv_it_\\153445a2fc94f0beb97521e18ff26e79d97771d60\\expr.ipynb\" target=\"_blank\"><img src=\"_pv_it_\\153445a2fc94f0beb97521e18ff26e79d97771d60\\expr.png\" style=\"display:inline;vertical-align:middle;\" /></a><br>"
      ],
      "text/plain": [
       "<proveit._core_.magics.SpecialExpressions instance at 0x0000000004429148>"
      ]
     },
     "execution_count": 90,
     "metadata": {},
     "output_type": "execute_result"
    }
   ],
   "source": [
    "Emulti, Eetc = multiAndEtcVar('E')"
   ]
  },
  {
   "cell_type": "code",
   "execution_count": 91,
   "metadata": {
    "collapsed": false
   },
   "outputs": [
    {
     "data": {
      "text/html": [
       "<strong>Qmulti</strong>: <a href=\"_pv_it_\\6e3d1c1ee2622f79000893978cba845aa8da85630\\expr.ipynb\" target=\"_blank\"><img src=\"_pv_it_\\6e3d1c1ee2622f79000893978cba845aa8da85630\\expr.png\" style=\"display:inline;vertical-align:middle;\" /></a><br>\n",
       "<strong>Qetc</strong>: <a href=\"_pv_it_\\567a61081a99b913d73d32cd030b5f8d6055dba20\\expr.ipynb\" target=\"_blank\"><img src=\"_pv_it_\\567a61081a99b913d73d32cd030b5f8d6055dba20\\expr.png\" style=\"display:inline;vertical-align:middle;\" /></a><br>"
      ],
      "text/plain": [
       "<proveit._core_.magics.SpecialExpressions instance at 0x0000000004464A48>"
      ]
     },
     "execution_count": 91,
     "metadata": {},
     "output_type": "execute_result"
    }
   ],
   "source": [
    "Qmulti, Qetc = multiAndEtcVar('Q')"
   ]
  },
  {
   "cell_type": "code",
   "execution_count": 92,
   "metadata": {
    "collapsed": false
   },
   "outputs": [
    {
     "data": {
      "text/html": [
       "<strong>Rmulti</strong>: <a href=\"_pv_it_\\a0771fa2256160b7dc25ab99dab2a2d08328aa0d0\\expr.ipynb\" target=\"_blank\"><img src=\"_pv_it_\\a0771fa2256160b7dc25ab99dab2a2d08328aa0d0\\expr.png\" style=\"display:inline;vertical-align:middle;\" /></a><br>\n",
       "<strong>Retc</strong>: <a href=\"_pv_it_\\31339b1a8203e224a5194fa8eb4b6057f50ac7960\\expr.ipynb\" target=\"_blank\"><img src=\"_pv_it_\\31339b1a8203e224a5194fa8eb4b6057f50ac7960\\expr.png\" style=\"display:inline;vertical-align:middle;\" /></a><br>"
      ],
      "text/plain": [
       "<proveit._core_.magics.SpecialExpressions instance at 0x00000000044924C8>"
      ]
     },
     "execution_count": 92,
     "metadata": {},
     "output_type": "execute_result"
    }
   ],
   "source": [
    "Rmulti, Retc = multiAndEtcVar('R')"
   ]
  },
  {
   "cell_type": "code",
   "execution_count": 93,
   "metadata": {
    "collapsed": false
   },
   "outputs": [
    {
     "data": {
      "text/html": [
       "<strong>vMulti</strong>: <a href=\"_pv_it_\\4bd0fe6c6d2d9e1a952e7800d2fea80b10cc8b1b0\\expr.ipynb\" target=\"_blank\"><img src=\"_pv_it_\\4bd0fe6c6d2d9e1a952e7800d2fea80b10cc8b1b0\\expr.png\" style=\"display:inline;vertical-align:middle;\" /></a><br>\n",
       "<strong>vEtc</strong>: <a href=\"_pv_it_\\70f2852b51f6c899f1b59f2ced23b8f256428b4f0\\expr.ipynb\" target=\"_blank\"><img src=\"_pv_it_\\70f2852b51f6c899f1b59f2ced23b8f256428b4f0\\expr.png\" style=\"display:inline;vertical-align:middle;\" /></a><br>"
      ],
      "text/plain": [
       "<proveit._core_.magics.SpecialExpressions instance at 0x00000000044597C8>"
      ]
     },
     "execution_count": 93,
     "metadata": {},
     "output_type": "execute_result"
    }
   ],
   "source": [
    "vMulti, vEtc = multiAndEtcVar('v')"
   ]
  },
  {
   "cell_type": "code",
   "execution_count": 94,
   "metadata": {
    "collapsed": false
   },
   "outputs": [
    {
     "data": {
      "text/html": [
       "<strong>xMulti</strong>: <a href=\"_pv_it_\\34891f100c5ac6b3125201359b356ba5487b8ebc0\\expr.ipynb\" target=\"_blank\"><img src=\"_pv_it_\\34891f100c5ac6b3125201359b356ba5487b8ebc0\\expr.png\" style=\"display:inline;vertical-align:middle;\" /></a><br>\n",
       "<strong>xEtc</strong>: <a href=\"_pv_it_\\31516218eb9e482c57cf83da0280587b046c9e4f0\\expr.ipynb\" target=\"_blank\"><img src=\"_pv_it_\\31516218eb9e482c57cf83da0280587b046c9e4f0\\expr.png\" style=\"display:inline;vertical-align:middle;\" /></a><br>"
      ],
      "text/plain": [
       "<proveit._core_.magics.SpecialExpressions instance at 0x0000000004492CC8>"
      ]
     },
     "execution_count": 94,
     "metadata": {},
     "output_type": "execute_result"
    }
   ],
   "source": [
    "xMulti, xEtc = multiAndEtcVar('x')"
   ]
  },
  {
   "cell_type": "code",
   "execution_count": 95,
   "metadata": {
    "collapsed": false
   },
   "outputs": [
    {
     "data": {
      "text/html": [
       "<strong>yMulti</strong>: <a href=\"_pv_it_\\1ca83c3f4848d247cbbe05d6af47aed9ae5c676f0\\expr.ipynb\" target=\"_blank\"><img src=\"_pv_it_\\1ca83c3f4848d247cbbe05d6af47aed9ae5c676f0\\expr.png\" style=\"display:inline;vertical-align:middle;\" /></a><br>\n",
       "<strong>yEtc</strong>: <a href=\"_pv_it_\\25e461ac7efeb194ed89abd0faa2726c8262c0510\\expr.ipynb\" target=\"_blank\"><img src=\"_pv_it_\\25e461ac7efeb194ed89abd0faa2726c8262c0510\\expr.png\" style=\"display:inline;vertical-align:middle;\" /></a><br>"
      ],
      "text/plain": [
       "<proveit._core_.magics.SpecialExpressions instance at 0x0000000004492A48>"
      ]
     },
     "execution_count": 95,
     "metadata": {},
     "output_type": "execute_result"
    }
   ],
   "source": [
    "yMulti, yEtc = multiAndEtcVar('y')"
   ]
  },
  {
   "cell_type": "code",
   "execution_count": 96,
   "metadata": {
    "collapsed": false
   },
   "outputs": [
    {
     "data": {
      "text/html": [
       "<strong>zMulti</strong>: <a href=\"_pv_it_\\2b2465386e494f372a5117a6709995b2f95b1f760\\expr.ipynb\" target=\"_blank\"><img src=\"_pv_it_\\2b2465386e494f372a5117a6709995b2f95b1f760\\expr.png\" style=\"display:inline;vertical-align:middle;\" /></a><br>\n",
       "<strong>zEtc</strong>: <a href=\"_pv_it_\\69efe9adf6f9362d750916a4df0c00f56e7a3d0d0\\expr.ipynb\" target=\"_blank\"><img src=\"_pv_it_\\69efe9adf6f9362d750916a4df0c00f56e7a3d0d0\\expr.png\" style=\"display:inline;vertical-align:middle;\" /></a><br>"
      ],
      "text/plain": [
       "<proveit._core_.magics.SpecialExpressions instance at 0x0000000004464E48>"
      ]
     },
     "execution_count": 96,
     "metadata": {},
     "output_type": "execute_result"
    }
   ],
   "source": [
    "zMulti, zEtc = multiAndEtcVar('z')"
   ]
  },
  {
   "cell_type": "code",
   "execution_count": 97,
   "metadata": {
    "collapsed": false
   },
   "outputs": [
    {
     "data": {
      "text/html": [
       "<strong>wMulti</strong>: <a href=\"_pv_it_\\972a62fcdab56ed7bc910f97cc9e16c4165fd0870\\expr.ipynb\" target=\"_blank\"><img src=\"_pv_it_\\972a62fcdab56ed7bc910f97cc9e16c4165fd0870\\expr.png\" style=\"display:inline;vertical-align:middle;\" /></a><br>\n",
       "<strong>wEtc</strong>: <a href=\"_pv_it_\\575040906bbd3e5d9bd7f597375d496fc98286cf0\\expr.ipynb\" target=\"_blank\"><img src=\"_pv_it_\\575040906bbd3e5d9bd7f597375d496fc98286cf0\\expr.png\" style=\"display:inline;vertical-align:middle;\" /></a><br>"
      ],
      "text/plain": [
       "<proveit._core_.magics.SpecialExpressions instance at 0x0000000004492D08>"
      ]
     },
     "execution_count": 97,
     "metadata": {},
     "output_type": "execute_result"
    }
   ],
   "source": [
    "wMulti, wEtc = multiAndEtcVar('w')"
   ]
  },
  {
   "cell_type": "code",
   "execution_count": 98,
   "metadata": {
    "collapsed": false
   },
   "outputs": [
    {
     "data": {
      "text/html": [
       "<strong>fxEtc</strong>: <a href=\"_pv_it_\\fdc42d683c46831a35cc854a66db3acc439cd93d0\\expr.ipynb\" target=\"_blank\"><img src=\"_pv_it_\\fdc42d683c46831a35cc854a66db3acc439cd93d0\\expr.png\" style=\"display:inline;vertical-align:middle;\" /></a><br>"
      ],
      "text/plain": [
       "<proveit._core_.magics.SpecialExpressions instance at 0x000000000442EB48>"
      ]
     },
     "execution_count": 98,
     "metadata": {},
     "output_type": "execute_result"
    }
   ],
   "source": [
    "fxEtc = Operation(f, xEtc)"
   ]
  },
  {
   "cell_type": "code",
   "execution_count": 99,
   "metadata": {
    "collapsed": false
   },
   "outputs": [
    {
     "data": {
      "text/html": [
       "<strong>fyEtc</strong>: <a href=\"_pv_it_\\58b70d4f0d51fff0c54d5feec90924695226e8970\\expr.ipynb\" target=\"_blank\"><img src=\"_pv_it_\\58b70d4f0d51fff0c54d5feec90924695226e8970\\expr.png\" style=\"display:inline;vertical-align:middle;\" /></a><br>"
      ],
      "text/plain": [
       "<proveit._core_.magics.SpecialExpressions instance at 0x0000000004460948>"
      ]
     },
     "execution_count": 99,
     "metadata": {},
     "output_type": "execute_result"
    }
   ],
   "source": [
    "fyEtc = Operation(f, yEtc)"
   ]
  },
  {
   "cell_type": "code",
   "execution_count": 100,
   "metadata": {
    "collapsed": false
   },
   "outputs": [
    {
     "data": {
      "text/html": [
       "<strong>fzEtc</strong>: <a href=\"_pv_it_\\d9a305157408d9ed0634936d715006febf6878850\\expr.ipynb\" target=\"_blank\"><img src=\"_pv_it_\\d9a305157408d9ed0634936d715006febf6878850\\expr.png\" style=\"display:inline;vertical-align:middle;\" /></a><br>"
      ],
      "text/plain": [
       "<proveit._core_.magics.SpecialExpressions instance at 0x0000000004475DC8>"
      ]
     },
     "execution_count": 100,
     "metadata": {},
     "output_type": "execute_result"
    }
   ],
   "source": [
    "fzEtc = Operation(f, zEtc)"
   ]
  },
  {
   "cell_type": "code",
   "execution_count": 101,
   "metadata": {
    "collapsed": false
   },
   "outputs": [
    {
     "data": {
      "text/html": [
       "<strong>gxEtc</strong>: <a href=\"_pv_it_\\5c851aa6863894f4711835afe9e951c5f526ea7a0\\expr.ipynb\" target=\"_blank\"><img src=\"_pv_it_\\5c851aa6863894f4711835afe9e951c5f526ea7a0\\expr.png\" style=\"display:inline;vertical-align:middle;\" /></a><br>"
      ],
      "text/plain": [
       "<proveit._core_.magics.SpecialExpressions instance at 0x000000000448B548>"
      ]
     },
     "execution_count": 101,
     "metadata": {},
     "output_type": "execute_result"
    }
   ],
   "source": [
    "gxEtc = Operation(g, xEtc)"
   ]
  },
  {
   "cell_type": "code",
   "execution_count": 102,
   "metadata": {
    "collapsed": false
   },
   "outputs": [
    {
     "data": {
      "text/html": [
       "<strong>gyEtc</strong>: <a href=\"_pv_it_\\f85e64e4d8fec03508e3dd078fa8d56b5e19724d0\\expr.ipynb\" target=\"_blank\"><img src=\"_pv_it_\\f85e64e4d8fec03508e3dd078fa8d56b5e19724d0\\expr.png\" style=\"display:inline;vertical-align:middle;\" /></a><br>"
      ],
      "text/plain": [
       "<proveit._core_.magics.SpecialExpressions instance at 0x0000000004494188>"
      ]
     },
     "execution_count": 102,
     "metadata": {},
     "output_type": "execute_result"
    }
   ],
   "source": [
    "gyEtc = Operation(g, yEtc)"
   ]
  },
  {
   "cell_type": "code",
   "execution_count": 103,
   "metadata": {
    "collapsed": false
   },
   "outputs": [
    {
     "data": {
      "text/html": [
       "<strong>gzEtc</strong>: <a href=\"_pv_it_\\c9fe3d99bebd05fc77daf157fb03c1fd793e59640\\expr.ipynb\" target=\"_blank\"><img src=\"_pv_it_\\c9fe3d99bebd05fc77daf157fb03c1fd793e59640\\expr.png\" style=\"display:inline;vertical-align:middle;\" /></a><br>"
      ],
      "text/plain": [
       "<proveit._core_.magics.SpecialExpressions instance at 0x0000000004494D88>"
      ]
     },
     "execution_count": 103,
     "metadata": {},
     "output_type": "execute_result"
    }
   ],
   "source": [
    "gzEtc = Operation(g, zEtc)"
   ]
  },
  {
   "cell_type": "code",
   "execution_count": 104,
   "metadata": {
    "collapsed": false
   },
   "outputs": [
    {
     "data": {
      "text/html": [
       "<strong>PxEtc</strong>: <a href=\"_pv_it_\\cee28c2858f82df54d333de55335dcf6dc7586960\\expr.ipynb\" target=\"_blank\"><img src=\"_pv_it_\\cee28c2858f82df54d333de55335dcf6dc7586960\\expr.png\" style=\"display:inline;vertical-align:middle;\" /></a><br>"
      ],
      "text/plain": [
       "<proveit._core_.magics.SpecialExpressions instance at 0x000000000449F608>"
      ]
     },
     "execution_count": 104,
     "metadata": {},
     "output_type": "execute_result"
    }
   ],
   "source": [
    "PxEtc = Operation(P, xEtc)"
   ]
  },
  {
   "cell_type": "code",
   "execution_count": 105,
   "metadata": {
    "collapsed": false
   },
   "outputs": [
    {
     "data": {
      "text/html": [
       "<strong>PyEtc</strong>: <a href=\"_pv_it_\\8fa33222971e3181730250a6daace644bd8fbdea0\\expr.ipynb\" target=\"_blank\"><img src=\"_pv_it_\\8fa33222971e3181730250a6daace644bd8fbdea0\\expr.png\" style=\"display:inline;vertical-align:middle;\" /></a><br>"
      ],
      "text/plain": [
       "<proveit._core_.magics.SpecialExpressions instance at 0x000000000449E0C8>"
      ]
     },
     "execution_count": 105,
     "metadata": {},
     "output_type": "execute_result"
    }
   ],
   "source": [
    "PyEtc = Operation(P, yEtc)"
   ]
  },
  {
   "cell_type": "code",
   "execution_count": 106,
   "metadata": {
    "collapsed": false
   },
   "outputs": [
    {
     "data": {
      "text/html": [
       "<strong>PxyEtc</strong>: <a href=\"_pv_it_\\9f9bd33444d44f131dae8afc2c798958b66e99000\\expr.ipynb\" target=\"_blank\"><img src=\"_pv_it_\\9f9bd33444d44f131dae8afc2c798958b66e99000\\expr.png\" style=\"display:inline;vertical-align:middle;\" /></a><br>"
      ],
      "text/plain": [
       "<proveit._core_.magics.SpecialExpressions instance at 0x000000000449F3C8>"
      ]
     },
     "execution_count": 106,
     "metadata": {},
     "output_type": "execute_result"
    }
   ],
   "source": [
    "PxyEtc = Operation(P, (xEtc, yEtc))"
   ]
  },
  {
   "cell_type": "code",
   "execution_count": 107,
   "metadata": {
    "collapsed": false
   },
   "outputs": [
    {
     "data": {
      "text/html": [
       "<strong>etc_Qx</strong>: <a href=\"_pv_it_\\75970bc440ab14d0373d105b8a3dadc2997c46040\\expr.ipynb\" target=\"_blank\"><img src=\"_pv_it_\\75970bc440ab14d0373d105b8a3dadc2997c46040\\expr.png\" style=\"display:inline;vertical-align:middle;\" /></a><br>"
      ],
      "text/plain": [
       "<proveit._core_.magics.SpecialExpressions instance at 0x0000000004494908>"
      ]
     },
     "execution_count": 107,
     "metadata": {},
     "output_type": "execute_result"
    }
   ],
   "source": [
    "etc_Qx = Etcetera(Operation(MultiVariable('Q'), x))"
   ]
  },
  {
   "cell_type": "code",
   "execution_count": 108,
   "metadata": {
    "collapsed": false
   },
   "outputs": [
    {
     "data": {
      "text/html": [
       "<strong>etc_Qy</strong>: <a href=\"_pv_it_\\8b83b6665030e26c5f94fb188ac7d90596f078600\\expr.ipynb\" target=\"_blank\"><img src=\"_pv_it_\\8b83b6665030e26c5f94fb188ac7d90596f078600\\expr.png\" style=\"display:inline;vertical-align:middle;\" /></a><br>"
      ],
      "text/plain": [
       "<proveit._core_.magics.SpecialExpressions instance at 0x000000000448B308>"
      ]
     },
     "execution_count": 108,
     "metadata": {},
     "output_type": "execute_result"
    }
   ],
   "source": [
    "etc_Qy = Etcetera(Operation(MultiVariable('Q'), y))"
   ]
  },
  {
   "cell_type": "code",
   "execution_count": 109,
   "metadata": {
    "collapsed": false
   },
   "outputs": [
    {
     "data": {
      "text/html": [
       "<strong>etc_QxEtc</strong>: <a href=\"_pv_it_\\e96e1a7da3f908add2d2eada4b559d62e565be2c0\\expr.ipynb\" target=\"_blank\"><img src=\"_pv_it_\\e96e1a7da3f908add2d2eada4b559d62e565be2c0\\expr.png\" style=\"display:inline;vertical-align:middle;\" /></a><br>"
      ],
      "text/plain": [
       "<proveit._core_.magics.SpecialExpressions instance at 0x000000000446D9C8>"
      ]
     },
     "execution_count": 109,
     "metadata": {},
     "output_type": "execute_result"
    }
   ],
   "source": [
    "etc_QxEtc = Etcetera(Operation(MultiVariable('Q'), xEtc))"
   ]
  },
  {
   "cell_type": "code",
   "execution_count": 110,
   "metadata": {
    "collapsed": false
   },
   "outputs": [
    {
     "data": {
      "text/html": [
       "<strong>etc_QyEtc</strong>: <a href=\"_pv_it_\\66668411e68e5d93c99e4f23df62194186b7347d0\\expr.ipynb\" target=\"_blank\"><img src=\"_pv_it_\\66668411e68e5d93c99e4f23df62194186b7347d0\\expr.png\" style=\"display:inline;vertical-align:middle;\" /></a><br>"
      ],
      "text/plain": [
       "<proveit._core_.magics.SpecialExpressions instance at 0x0000000004457B48>"
      ]
     },
     "execution_count": 110,
     "metadata": {},
     "output_type": "execute_result"
    }
   ],
   "source": [
    "etc_QyEtc = Etcetera(Operation(MultiVariable('Q'), yEtc))"
   ]
  },
  {
   "cell_type": "code",
   "execution_count": 111,
   "metadata": {
    "collapsed": false
   },
   "outputs": [
    {
     "data": {
      "text/html": [
       "<strong>etc_QzEtc</strong>: <a href=\"_pv_it_\\1c01692e3453f6a88ef506241ec72259699650190\\expr.ipynb\" target=\"_blank\"><img src=\"_pv_it_\\1c01692e3453f6a88ef506241ec72259699650190\\expr.png\" style=\"display:inline;vertical-align:middle;\" /></a><br>"
      ],
      "text/plain": [
       "<proveit._core_.magics.SpecialExpressions instance at 0x0000000004420F88>"
      ]
     },
     "execution_count": 111,
     "metadata": {},
     "output_type": "execute_result"
    }
   ],
   "source": [
    "etc_QzEtc = Etcetera(Operation(MultiVariable('Q'), zEtc))"
   ]
  },
  {
   "cell_type": "code",
   "execution_count": 112,
   "metadata": {
    "collapsed": false
   },
   "outputs": [
    {
     "data": {
      "text/html": [
       "<strong>etc_RyEtc</strong>: <a href=\"_pv_it_\\d5a5c4a426de65077f9312f90fc63101e1d68ab40\\expr.ipynb\" target=\"_blank\"><img src=\"_pv_it_\\d5a5c4a426de65077f9312f90fc63101e1d68ab40\\expr.png\" style=\"display:inline;vertical-align:middle;\" /></a><br>"
      ],
      "text/plain": [
       "<proveit._core_.magics.SpecialExpressions instance at 0x0000000004464608>"
      ]
     },
     "execution_count": 112,
     "metadata": {},
     "output_type": "execute_result"
    }
   ],
   "source": [
    "etc_RyEtc = Etcetera(Operation(MultiVariable('R'), yEtc))"
   ]
  },
  {
   "cell_type": "code",
   "execution_count": 113,
   "metadata": {
    "collapsed": false,
    "scrolled": true
   },
   "outputs": [
    {
     "name": "stdout",
     "output_type": "stream",
     "text": [
      "Common expressions may be imported from autogenerated _common_.py\n"
     ]
    }
   ],
   "source": [
    "%end_common"
   ]
  },
  {
   "cell_type": "code",
   "execution_count": null,
   "metadata": {
    "collapsed": true
   },
   "outputs": [],
   "source": []
  }
 ],
 "metadata": {
  "kernelspec": {
   "display_name": "Python 2",
   "language": "python",
   "name": "python2"
  },
  "language_info": {
   "codemirror_mode": {
    "name": "ipython",
    "version": 2
   },
   "file_extension": ".py",
   "mimetype": "text/x-python",
   "name": "python",
   "nbconvert_exporter": "python",
   "pygments_lexer": "ipython2",
   "version": "2.7.11"
  }
 },
 "nbformat": 4,
 "nbformat_minor": 0
}
