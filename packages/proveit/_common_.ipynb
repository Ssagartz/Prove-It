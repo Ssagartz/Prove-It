{
 "cells": [
  {
   "cell_type": "markdown",
   "metadata": {
    "deletable": true,
    "editable": true
   },
   "source": [
    "Common expressions for context <a href=\"_context_.ipynb\" class=\"ProveItLink\">proveit</a>\n",
    "========\n",
    "\n",
    "These are generic common expressions based upon single-symbol Variable names."
   ]
  },
  {
   "cell_type": "code",
   "execution_count": 1,
   "metadata": {
    "collapsed": false,
    "deletable": true,
    "editable": true,
    "scrolled": true
   },
   "outputs": [
    {
     "name": "stdout",
     "output_type": "stream",
     "text": [
      "Defining common sub-expressions for context 'proveit'\n",
      "Subsequent end-of-cell assignments will define common sub-expressions\n",
      "%end_common will finalize the definitions\n"
     ]
    }
   ],
   "source": [
    "from proveit import Variable, Function\n",
    "%begin common"
   ]
  },
  {
   "cell_type": "code",
   "execution_count": 2,
   "metadata": {
    "collapsed": false,
    "deletable": true,
    "editable": true,
    "scrolled": true
   },
   "outputs": [
    {
     "data": {
      "text/html": [
       "<strong id=\"a\">a:</strong> <a class=\"ProveItLink\" href=\"__pv_it\\563df418b2f4501a697ee1a058c2ee5ff8e481000\\expr.ipynb\"><img src=\"__pv_it\\563df418b2f4501a697ee1a058c2ee5ff8e481000\\expr.png\" style=\"display:inline;vertical-align:middle;\" /></a><br>"
      ],
      "text/plain": [
       "a: a"
      ]
     },
     "execution_count": 2,
     "metadata": {},
     "output_type": "execute_result"
    }
   ],
   "source": [
    "a = Variable('a')"
   ]
  },
  {
   "cell_type": "code",
   "execution_count": 3,
   "metadata": {
    "collapsed": false,
    "deletable": true,
    "editable": true
   },
   "outputs": [
    {
     "data": {
      "text/html": [
       "<strong id=\"b\">b:</strong> <a class=\"ProveItLink\" href=\"__pv_it\\c96df9db102bf2dcd5fad662469a963bfcb9d23c0\\expr.ipynb\"><img src=\"__pv_it\\c96df9db102bf2dcd5fad662469a963bfcb9d23c0\\expr.png\" style=\"display:inline;vertical-align:middle;\" /></a><br>"
      ],
      "text/plain": [
       "b: b"
      ]
     },
     "execution_count": 3,
     "metadata": {},
     "output_type": "execute_result"
    }
   ],
   "source": [
    "b = Variable('b')"
   ]
  },
  {
   "cell_type": "code",
   "execution_count": 4,
   "metadata": {
    "collapsed": false,
    "deletable": true,
    "editable": true
   },
   "outputs": [
    {
     "data": {
      "text/html": [
       "<strong id=\"c\">c:</strong> <a class=\"ProveItLink\" href=\"__pv_it\\90bb44d26a8074e6e701f808bd18ac9cebf7781c0\\expr.ipynb\"><img src=\"__pv_it\\90bb44d26a8074e6e701f808bd18ac9cebf7781c0\\expr.png\" style=\"display:inline;vertical-align:middle;\" /></a><br>"
      ],
      "text/plain": [
       "c: c"
      ]
     },
     "execution_count": 4,
     "metadata": {},
     "output_type": "execute_result"
    }
   ],
   "source": [
    "c = Variable('c')"
   ]
  },
  {
   "cell_type": "code",
   "execution_count": 5,
   "metadata": {
    "collapsed": false,
    "deletable": true,
    "editable": true
   },
   "outputs": [
    {
     "data": {
      "text/html": [
       "<strong id=\"d\">d:</strong> <a class=\"ProveItLink\" href=\"__pv_it\\3e7b209da89d26253425f65ec5d3da5b262e802e0\\expr.ipynb\"><img src=\"__pv_it\\3e7b209da89d26253425f65ec5d3da5b262e802e0\\expr.png\" style=\"display:inline;vertical-align:middle;\" /></a><br>"
      ],
      "text/plain": [
       "d: d"
      ]
     },
     "execution_count": 5,
     "metadata": {},
     "output_type": "execute_result"
    }
   ],
   "source": [
    "d = Variable('d')"
   ]
  },
  {
   "cell_type": "code",
   "execution_count": 6,
   "metadata": {
    "collapsed": false,
    "deletable": true,
    "editable": true
   },
   "outputs": [
    {
     "data": {
      "text/html": [
       "<strong id=\"e\">e:</strong> <a class=\"ProveItLink\" href=\"__pv_it\\94d5672c7adf26fe0c27776cc1d45264ff3705d00\\expr.ipynb\"><img src=\"__pv_it\\94d5672c7adf26fe0c27776cc1d45264ff3705d00\\expr.png\" style=\"display:inline;vertical-align:middle;\" /></a><br>"
      ],
      "text/plain": [
       "e: e"
      ]
     },
     "execution_count": 6,
     "metadata": {},
     "output_type": "execute_result"
    }
   ],
   "source": [
    "e = Variable('e')"
   ]
  },
  {
   "cell_type": "code",
   "execution_count": 7,
   "metadata": {
    "collapsed": false,
    "deletable": true,
    "editable": true
   },
   "outputs": [
    {
     "data": {
      "text/html": [
       "<strong id=\"f\">f:</strong> <a class=\"ProveItLink\" href=\"__pv_it\\7870486ece91e53f8583b10ccab1e55ddd32a7570\\expr.ipynb\"><img src=\"__pv_it\\7870486ece91e53f8583b10ccab1e55ddd32a7570\\expr.png\" style=\"display:inline;vertical-align:middle;\" /></a><br>"
      ],
      "text/plain": [
       "f: f"
      ]
     },
     "execution_count": 7,
     "metadata": {},
     "output_type": "execute_result"
    }
   ],
   "source": [
    "f = Variable('f')"
   ]
  },
  {
   "cell_type": "code",
   "execution_count": 8,
   "metadata": {
    "collapsed": false,
    "deletable": true,
    "editable": true
   },
   "outputs": [
    {
     "data": {
      "text/html": [
       "<strong id=\"g\">g:</strong> <a class=\"ProveItLink\" href=\"__pv_it\\87c2ce56a7a372d5aa3685fc2d200d90c643a9c10\\expr.ipynb\"><img src=\"__pv_it\\87c2ce56a7a372d5aa3685fc2d200d90c643a9c10\\expr.png\" style=\"display:inline;vertical-align:middle;\" /></a><br>"
      ],
      "text/plain": [
       "g: g"
      ]
     },
     "execution_count": 8,
     "metadata": {},
     "output_type": "execute_result"
    }
   ],
   "source": [
    "g = Variable('g')"
   ]
  },
  {
   "cell_type": "code",
   "execution_count": 9,
   "metadata": {
    "collapsed": false,
    "deletable": true,
    "editable": true
   },
   "outputs": [
    {
     "data": {
      "text/html": [
       "<strong id=\"h\">h:</strong> <a class=\"ProveItLink\" href=\"__pv_it\\3eab9737a68d1eee0121f1d5b7294d5cb37e86ef0\\expr.ipynb\"><img src=\"__pv_it\\3eab9737a68d1eee0121f1d5b7294d5cb37e86ef0\\expr.png\" style=\"display:inline;vertical-align:middle;\" /></a><br>"
      ],
      "text/plain": [
       "h: h"
      ]
     },
     "execution_count": 9,
     "metadata": {},
     "output_type": "execute_result"
    }
   ],
   "source": [
    "h = Variable('h')"
   ]
  },
  {
   "cell_type": "code",
   "execution_count": 10,
   "metadata": {
    "collapsed": false,
    "deletable": true,
    "editable": true
   },
   "outputs": [
    {
     "data": {
      "text/html": [
       "<strong id=\"i\">i:</strong> <a class=\"ProveItLink\" href=\"__pv_it\\5dddf61341bda06fac6dff20e7aae814b14510780\\expr.ipynb\"><img src=\"__pv_it\\5dddf61341bda06fac6dff20e7aae814b14510780\\expr.png\" style=\"display:inline;vertical-align:middle;\" /></a><br>"
      ],
      "text/plain": [
       "i: i"
      ]
     },
     "execution_count": 10,
     "metadata": {},
     "output_type": "execute_result"
    }
   ],
   "source": [
    "i = Variable('i')"
   ]
  },
  {
   "cell_type": "code",
   "execution_count": 11,
   "metadata": {
    "collapsed": false,
    "deletable": true,
    "editable": true
   },
   "outputs": [
    {
     "data": {
      "text/html": [
       "<strong id=\"j\">j:</strong> <a class=\"ProveItLink\" href=\"__pv_it\\b7c1f21a775d030e62b3576f1633f8c9f9943b6d0\\expr.ipynb\"><img src=\"__pv_it\\b7c1f21a775d030e62b3576f1633f8c9f9943b6d0\\expr.png\" style=\"display:inline;vertical-align:middle;\" /></a><br>"
      ],
      "text/plain": [
       "j: j"
      ]
     },
     "execution_count": 11,
     "metadata": {},
     "output_type": "execute_result"
    }
   ],
   "source": [
    "j = Variable('j')"
   ]
  },
  {
   "cell_type": "code",
   "execution_count": 12,
   "metadata": {
    "collapsed": false,
    "deletable": true,
    "editable": true
   },
   "outputs": [
    {
     "data": {
      "text/html": [
       "<strong id=\"k\">k:</strong> <a class=\"ProveItLink\" href=\"__pv_it\\f1906c43cbd04988e2bcad774e47133c0a81581f0\\expr.ipynb\"><img src=\"__pv_it\\f1906c43cbd04988e2bcad774e47133c0a81581f0\\expr.png\" style=\"display:inline;vertical-align:middle;\" /></a><br>"
      ],
      "text/plain": [
       "k: k"
      ]
     },
     "execution_count": 12,
     "metadata": {},
     "output_type": "execute_result"
    }
   ],
   "source": [
    "k = Variable('k')"
   ]
  },
  {
   "cell_type": "code",
   "execution_count": 13,
   "metadata": {
    "collapsed": false,
    "deletable": true,
    "editable": true
   },
   "outputs": [
    {
     "data": {
      "text/html": [
       "<strong id=\"l\">l:</strong> <a class=\"ProveItLink\" href=\"__pv_it\\81d16a6c6ddd4145d207feb7a214bfb9268a4bd90\\expr.ipynb\"><img src=\"__pv_it\\81d16a6c6ddd4145d207feb7a214bfb9268a4bd90\\expr.png\" style=\"display:inline;vertical-align:middle;\" /></a><br>"
      ],
      "text/plain": [
       "l: l"
      ]
     },
     "execution_count": 13,
     "metadata": {},
     "output_type": "execute_result"
    }
   ],
   "source": [
    "l = Variable('l')"
   ]
  },
  {
   "cell_type": "code",
   "execution_count": 14,
   "metadata": {
    "collapsed": false,
    "deletable": true,
    "editable": true
   },
   "outputs": [
    {
     "data": {
      "text/html": [
       "<strong id=\"m\">m:</strong> <a class=\"ProveItLink\" href=\"__pv_it\\075c1076b45292eb630851699048214896da06240\\expr.ipynb\"><img src=\"__pv_it\\075c1076b45292eb630851699048214896da06240\\expr.png\" style=\"display:inline;vertical-align:middle;\" /></a><br>"
      ],
      "text/plain": [
       "m: m"
      ]
     },
     "execution_count": 14,
     "metadata": {},
     "output_type": "execute_result"
    }
   ],
   "source": [
    "m = Variable('m')"
   ]
  },
  {
   "cell_type": "code",
   "execution_count": 15,
   "metadata": {
    "collapsed": false,
    "deletable": true,
    "editable": true
   },
   "outputs": [
    {
     "data": {
      "text/html": [
       "<strong id=\"n\">n:</strong> <a class=\"ProveItLink\" href=\"__pv_it\\976d556304f55d7c1e1b0d9882bd1610a2b027af0\\expr.ipynb\"><img src=\"__pv_it\\976d556304f55d7c1e1b0d9882bd1610a2b027af0\\expr.png\" style=\"display:inline;vertical-align:middle;\" /></a><br>"
      ],
      "text/plain": [
       "n: n"
      ]
     },
     "execution_count": 15,
     "metadata": {},
     "output_type": "execute_result"
    }
   ],
   "source": [
    "n = Variable('n')"
   ]
  },
  {
   "cell_type": "code",
   "execution_count": 16,
   "metadata": {
    "collapsed": false,
    "deletable": true,
    "editable": true
   },
   "outputs": [
    {
     "data": {
      "text/html": [
       "<strong id=\"o\">o:</strong> <a class=\"ProveItLink\" href=\"__pv_it\\972c2cd6b5fd084e93b45f0648c1814164e495530\\expr.ipynb\"><img src=\"__pv_it\\972c2cd6b5fd084e93b45f0648c1814164e495530\\expr.png\" style=\"display:inline;vertical-align:middle;\" /></a><br>"
      ],
      "text/plain": [
       "o: o"
      ]
     },
     "execution_count": 16,
     "metadata": {},
     "output_type": "execute_result"
    }
   ],
   "source": [
    "o = Variable('o')"
   ]
  },
  {
   "cell_type": "code",
   "execution_count": 17,
   "metadata": {
    "collapsed": false,
    "deletable": true,
    "editable": true
   },
   "outputs": [
    {
     "data": {
      "text/html": [
       "<strong id=\"p\">p:</strong> <a class=\"ProveItLink\" href=\"__pv_it\\89a0464052108f2bbf1a32b3309a85840690c8e20\\expr.ipynb\"><img src=\"__pv_it\\89a0464052108f2bbf1a32b3309a85840690c8e20\\expr.png\" style=\"display:inline;vertical-align:middle;\" /></a><br>"
      ],
      "text/plain": [
       "p: p"
      ]
     },
     "execution_count": 17,
     "metadata": {},
     "output_type": "execute_result"
    }
   ],
   "source": [
    "p = Variable('p')"
   ]
  },
  {
   "cell_type": "code",
   "execution_count": 18,
   "metadata": {
    "collapsed": false,
    "deletable": true,
    "editable": true
   },
   "outputs": [
    {
     "data": {
      "text/html": [
       "<strong id=\"q\">q:</strong> <a class=\"ProveItLink\" href=\"__pv_it\\f042327e3912a0a17aa50727057a80821d946f5b0\\expr.ipynb\"><img src=\"__pv_it\\f042327e3912a0a17aa50727057a80821d946f5b0\\expr.png\" style=\"display:inline;vertical-align:middle;\" /></a><br>"
      ],
      "text/plain": [
       "q: q"
      ]
     },
     "execution_count": 18,
     "metadata": {},
     "output_type": "execute_result"
    }
   ],
   "source": [
    "q = Variable('q')"
   ]
  },
  {
   "cell_type": "code",
   "execution_count": 19,
   "metadata": {
    "collapsed": false,
    "deletable": true,
    "editable": true
   },
   "outputs": [
    {
     "data": {
      "text/html": [
       "<strong id=\"r\">r:</strong> <a class=\"ProveItLink\" href=\"__pv_it\\644aa92428b321f7aaf2f2db0eed580f0471fde10\\expr.ipynb\"><img src=\"__pv_it\\644aa92428b321f7aaf2f2db0eed580f0471fde10\\expr.png\" style=\"display:inline;vertical-align:middle;\" /></a><br>"
      ],
      "text/plain": [
       "r: r"
      ]
     },
     "execution_count": 19,
     "metadata": {},
     "output_type": "execute_result"
    }
   ],
   "source": [
    "r = Variable('r')"
   ]
  },
  {
   "cell_type": "code",
   "execution_count": 20,
   "metadata": {
    "collapsed": false,
    "deletable": true,
    "editable": true
   },
   "outputs": [
    {
     "data": {
      "text/html": [
       "<strong id=\"s\">s:</strong> <a class=\"ProveItLink\" href=\"__pv_it\\73f0ca128923a8c03a1a4a7216616598778451cd0\\expr.ipynb\"><img src=\"__pv_it\\73f0ca128923a8c03a1a4a7216616598778451cd0\\expr.png\" style=\"display:inline;vertical-align:middle;\" /></a><br>"
      ],
      "text/plain": [
       "s: s"
      ]
     },
     "execution_count": 20,
     "metadata": {},
     "output_type": "execute_result"
    }
   ],
   "source": [
    "s = Variable('s')"
   ]
  },
  {
   "cell_type": "code",
   "execution_count": 21,
   "metadata": {
    "collapsed": false,
    "deletable": true,
    "editable": true
   },
   "outputs": [
    {
     "data": {
      "text/html": [
       "<strong id=\"t\">t:</strong> <a class=\"ProveItLink\" href=\"__pv_it\\0def7d6eaa2f478da48a3c33308304e5e935379c0\\expr.ipynb\"><img src=\"__pv_it\\0def7d6eaa2f478da48a3c33308304e5e935379c0\\expr.png\" style=\"display:inline;vertical-align:middle;\" /></a><br>"
      ],
      "text/plain": [
       "t: t"
      ]
     },
     "execution_count": 21,
     "metadata": {},
     "output_type": "execute_result"
    }
   ],
   "source": [
    "t = Variable('t')"
   ]
  },
  {
   "cell_type": "code",
   "execution_count": 22,
   "metadata": {
    "collapsed": false,
    "deletable": true,
    "editable": true
   },
   "outputs": [
    {
     "data": {
      "text/html": [
       "<strong id=\"u\">u:</strong> <a class=\"ProveItLink\" href=\"__pv_it\\c65115df10a0f4b3da9ce6fc5f736cf0e94635200\\expr.ipynb\"><img src=\"__pv_it\\c65115df10a0f4b3da9ce6fc5f736cf0e94635200\\expr.png\" style=\"display:inline;vertical-align:middle;\" /></a><br>"
      ],
      "text/plain": [
       "u: u"
      ]
     },
     "execution_count": 22,
     "metadata": {},
     "output_type": "execute_result"
    }
   ],
   "source": [
    "u = Variable('u')"
   ]
  },
  {
   "cell_type": "code",
   "execution_count": 23,
   "metadata": {
    "collapsed": false,
    "deletable": true,
    "editable": true
   },
   "outputs": [
    {
     "data": {
      "text/html": [
       "<strong id=\"v\">v:</strong> <a class=\"ProveItLink\" href=\"__pv_it\\7883be58f87219da0133a79900e2f6e9e68645c90\\expr.ipynb\"><img src=\"__pv_it\\7883be58f87219da0133a79900e2f6e9e68645c90\\expr.png\" style=\"display:inline;vertical-align:middle;\" /></a><br>"
      ],
      "text/plain": [
       "v: v"
      ]
     },
     "execution_count": 23,
     "metadata": {},
     "output_type": "execute_result"
    }
   ],
   "source": [
    "v = Variable('v')"
   ]
  },
  {
   "cell_type": "code",
   "execution_count": 24,
   "metadata": {
    "collapsed": false,
    "deletable": true,
    "editable": true
   },
   "outputs": [
    {
     "data": {
      "text/html": [
       "<strong id=\"w\">w:</strong> <a class=\"ProveItLink\" href=\"__pv_it\\d0f8340c3cc4666b99a4637f1a44fc0da364d5fc0\\expr.ipynb\"><img src=\"__pv_it\\d0f8340c3cc4666b99a4637f1a44fc0da364d5fc0\\expr.png\" style=\"display:inline;vertical-align:middle;\" /></a><br>"
      ],
      "text/plain": [
       "w: w"
      ]
     },
     "execution_count": 24,
     "metadata": {},
     "output_type": "execute_result"
    }
   ],
   "source": [
    "w = Variable('w')"
   ]
  },
  {
   "cell_type": "code",
   "execution_count": 25,
   "metadata": {
    "collapsed": false,
    "deletable": true,
    "editable": true
   },
   "outputs": [
    {
     "data": {
      "text/html": [
       "<strong id=\"x\">x:</strong> <a class=\"ProveItLink\" href=\"__pv_it\\7de344579b991697b85106fc0bd595cb5ed4c24f0\\expr.ipynb\"><img src=\"__pv_it\\7de344579b991697b85106fc0bd595cb5ed4c24f0\\expr.png\" style=\"display:inline;vertical-align:middle;\" /></a><br>"
      ],
      "text/plain": [
       "x: x"
      ]
     },
     "execution_count": 25,
     "metadata": {},
     "output_type": "execute_result"
    }
   ],
   "source": [
    "x = Variable('x')"
   ]
  },
  {
   "cell_type": "code",
   "execution_count": 26,
   "metadata": {
    "collapsed": false,
    "deletable": true,
    "editable": true
   },
   "outputs": [
    {
     "data": {
      "text/html": [
       "<strong id=\"y\">y:</strong> <a class=\"ProveItLink\" href=\"__pv_it\\81f22f44907e0b98020a4149d2905fed84d24dfc0\\expr.ipynb\"><img src=\"__pv_it\\81f22f44907e0b98020a4149d2905fed84d24dfc0\\expr.png\" style=\"display:inline;vertical-align:middle;\" /></a><br>"
      ],
      "text/plain": [
       "y: y"
      ]
     },
     "execution_count": 26,
     "metadata": {},
     "output_type": "execute_result"
    }
   ],
   "source": [
    "y = Variable('y')"
   ]
  },
  {
   "cell_type": "code",
   "execution_count": 27,
   "metadata": {
    "collapsed": false,
    "deletable": true,
    "editable": true
   },
   "outputs": [
    {
     "data": {
      "text/html": [
       "<strong id=\"z\">z:</strong> <a class=\"ProveItLink\" href=\"__pv_it\\57476562aec3803492cab60d21e2c0e16dbb482b0\\expr.ipynb\"><img src=\"__pv_it\\57476562aec3803492cab60d21e2c0e16dbb482b0\\expr.png\" style=\"display:inline;vertical-align:middle;\" /></a><br>"
      ],
      "text/plain": [
       "z: z"
      ]
     },
     "execution_count": 27,
     "metadata": {},
     "output_type": "execute_result"
    }
   ],
   "source": [
    "z = Variable('z')"
   ]
  },
  {
   "cell_type": "code",
   "execution_count": 28,
   "metadata": {
    "collapsed": false,
    "deletable": true,
    "editable": true
   },
   "outputs": [
    {
     "data": {
      "text/html": [
       "<strong id=\"A\">A:</strong> <a class=\"ProveItLink\" href=\"__pv_it\\c1b75950df91f64856291c1f0fa32634fd4aa2ed0\\expr.ipynb\"><img src=\"__pv_it\\c1b75950df91f64856291c1f0fa32634fd4aa2ed0\\expr.png\" style=\"display:inline;vertical-align:middle;\" /></a><br>"
      ],
      "text/plain": [
       "A: A"
      ]
     },
     "execution_count": 28,
     "metadata": {},
     "output_type": "execute_result"
    }
   ],
   "source": [
    "A = Variable('A')"
   ]
  },
  {
   "cell_type": "code",
   "execution_count": 29,
   "metadata": {
    "collapsed": false,
    "deletable": true,
    "editable": true
   },
   "outputs": [
    {
     "data": {
      "text/html": [
       "<strong id=\"B\">B:</strong> <a class=\"ProveItLink\" href=\"__pv_it\\d5361932f495ba49b51041c75c9a253a8f8e4b250\\expr.ipynb\"><img src=\"__pv_it\\d5361932f495ba49b51041c75c9a253a8f8e4b250\\expr.png\" style=\"display:inline;vertical-align:middle;\" /></a><br>"
      ],
      "text/plain": [
       "B: B"
      ]
     },
     "execution_count": 29,
     "metadata": {},
     "output_type": "execute_result"
    }
   ],
   "source": [
    "B = Variable('B')"
   ]
  },
  {
   "cell_type": "code",
   "execution_count": 30,
   "metadata": {
    "collapsed": false,
    "deletable": true,
    "editable": true
   },
   "outputs": [
    {
     "data": {
      "text/html": [
       "<strong id=\"C\">C:</strong> <a class=\"ProveItLink\" href=\"__pv_it\\436231025d429f6422752f030c30f4027f7c0ef90\\expr.ipynb\"><img src=\"__pv_it\\436231025d429f6422752f030c30f4027f7c0ef90\\expr.png\" style=\"display:inline;vertical-align:middle;\" /></a><br>"
      ],
      "text/plain": [
       "C: C"
      ]
     },
     "execution_count": 30,
     "metadata": {},
     "output_type": "execute_result"
    }
   ],
   "source": [
    "C = Variable('C')"
   ]
  },
  {
   "cell_type": "code",
   "execution_count": 31,
   "metadata": {
    "collapsed": false,
    "deletable": true,
    "editable": true
   },
   "outputs": [
    {
     "data": {
      "text/html": [
       "<strong id=\"D\">D:</strong> <a class=\"ProveItLink\" href=\"__pv_it\\7aacf7131e7d396ae8eb57eed42b9f676eca40c70\\expr.ipynb\"><img src=\"__pv_it\\7aacf7131e7d396ae8eb57eed42b9f676eca40c70\\expr.png\" style=\"display:inline;vertical-align:middle;\" /></a><br>"
      ],
      "text/plain": [
       "D: D"
      ]
     },
     "execution_count": 31,
     "metadata": {},
     "output_type": "execute_result"
    }
   ],
   "source": [
    "D = Variable('D')"
   ]
  },
  {
   "cell_type": "code",
   "execution_count": 32,
   "metadata": {
    "collapsed": false,
    "deletable": true,
    "editable": true
   },
   "outputs": [
    {
     "data": {
      "text/html": [
       "<strong id=\"E\">E:</strong> <a class=\"ProveItLink\" href=\"__pv_it\\95a1644de5a2c50a4a71713a1518dc1621387f890\\expr.ipynb\"><img src=\"__pv_it\\95a1644de5a2c50a4a71713a1518dc1621387f890\\expr.png\" style=\"display:inline;vertical-align:middle;\" /></a><br>"
      ],
      "text/plain": [
       "E: E"
      ]
     },
     "execution_count": 32,
     "metadata": {},
     "output_type": "execute_result"
    }
   ],
   "source": [
    "E = Variable('E')"
   ]
  },
  {
   "cell_type": "code",
   "execution_count": 33,
   "metadata": {
    "collapsed": false,
    "deletable": true,
    "editable": true
   },
   "outputs": [
    {
     "data": {
      "text/html": [
       "<strong id=\"F\">F:</strong> <a class=\"ProveItLink\" href=\"__pv_it\\746d5f978a8493d05c894778a1ad53293c6b1ada0\\expr.ipynb\"><img src=\"__pv_it\\746d5f978a8493d05c894778a1ad53293c6b1ada0\\expr.png\" style=\"display:inline;vertical-align:middle;\" /></a><br>"
      ],
      "text/plain": [
       "F: F"
      ]
     },
     "execution_count": 33,
     "metadata": {},
     "output_type": "execute_result"
    }
   ],
   "source": [
    "F = Variable('F')"
   ]
  },
  {
   "cell_type": "code",
   "execution_count": 34,
   "metadata": {
    "collapsed": false,
    "deletable": true,
    "editable": true
   },
   "outputs": [
    {
     "data": {
      "text/html": [
       "<strong id=\"G\">G:</strong> <a class=\"ProveItLink\" href=\"__pv_it\\4a55f71fe3c4e3d6184fe7c34bf42b316013895d0\\expr.ipynb\"><img src=\"__pv_it\\4a55f71fe3c4e3d6184fe7c34bf42b316013895d0\\expr.png\" style=\"display:inline;vertical-align:middle;\" /></a><br>"
      ],
      "text/plain": [
       "G: G"
      ]
     },
     "execution_count": 34,
     "metadata": {},
     "output_type": "execute_result"
    }
   ],
   "source": [
    "G = Variable('G')"
   ]
  },
  {
   "cell_type": "code",
   "execution_count": 35,
   "metadata": {
    "collapsed": false,
    "deletable": true,
    "editable": true
   },
   "outputs": [
    {
     "data": {
      "text/html": [
       "<strong id=\"H\">H:</strong> <a class=\"ProveItLink\" href=\"__pv_it\\019e102895d58630afefa1869d721b8105d0d30f0\\expr.ipynb\"><img src=\"__pv_it\\019e102895d58630afefa1869d721b8105d0d30f0\\expr.png\" style=\"display:inline;vertical-align:middle;\" /></a><br>"
      ],
      "text/plain": [
       "H: H"
      ]
     },
     "execution_count": 35,
     "metadata": {},
     "output_type": "execute_result"
    }
   ],
   "source": [
    "H = Variable('H')"
   ]
  },
  {
   "cell_type": "code",
   "execution_count": 36,
   "metadata": {
    "collapsed": false,
    "deletable": true,
    "editable": true
   },
   "outputs": [
    {
     "data": {
      "text/html": [
       "<strong id=\"I\">I:</strong> <a class=\"ProveItLink\" href=\"__pv_it\\8f850c68afbcd0a28d73c3436917264f4e5793620\\expr.ipynb\"><img src=\"__pv_it\\8f850c68afbcd0a28d73c3436917264f4e5793620\\expr.png\" style=\"display:inline;vertical-align:middle;\" /></a><br>"
      ],
      "text/plain": [
       "I: I"
      ]
     },
     "execution_count": 36,
     "metadata": {},
     "output_type": "execute_result"
    }
   ],
   "source": [
    "I = Variable('I')"
   ]
  },
  {
   "cell_type": "code",
   "execution_count": 37,
   "metadata": {
    "collapsed": false,
    "deletable": true,
    "editable": true
   },
   "outputs": [
    {
     "data": {
      "text/html": [
       "<strong id=\"J\">J:</strong> <a class=\"ProveItLink\" href=\"__pv_it\\cd3f47f33c65995d0af85ad387dfe993266b63430\\expr.ipynb\"><img src=\"__pv_it\\cd3f47f33c65995d0af85ad387dfe993266b63430\\expr.png\" style=\"display:inline;vertical-align:middle;\" /></a><br>"
      ],
      "text/plain": [
       "J: J"
      ]
     },
     "execution_count": 37,
     "metadata": {},
     "output_type": "execute_result"
    }
   ],
   "source": [
    "J = Variable('J')"
   ]
  },
  {
   "cell_type": "code",
   "execution_count": 38,
   "metadata": {
    "collapsed": false,
    "deletable": true,
    "editable": true
   },
   "outputs": [
    {
     "data": {
      "text/html": [
       "<strong id=\"K\">K:</strong> <a class=\"ProveItLink\" href=\"__pv_it\\e625d986c8a10eea4d2d21703dd117d33ec873110\\expr.ipynb\"><img src=\"__pv_it\\e625d986c8a10eea4d2d21703dd117d33ec873110\\expr.png\" style=\"display:inline;vertical-align:middle;\" /></a><br>"
      ],
      "text/plain": [
       "K: K"
      ]
     },
     "execution_count": 38,
     "metadata": {},
     "output_type": "execute_result"
    }
   ],
   "source": [
    "K = Variable('K')"
   ]
  },
  {
   "cell_type": "code",
   "execution_count": 39,
   "metadata": {
    "collapsed": false,
    "deletable": true,
    "editable": true
   },
   "outputs": [
    {
     "data": {
      "text/html": [
       "<strong id=\"L\">L:</strong> <a class=\"ProveItLink\" href=\"__pv_it\\b0a9470c7fe8d704e6d751d678ed59d77303fa150\\expr.ipynb\"><img src=\"__pv_it\\b0a9470c7fe8d704e6d751d678ed59d77303fa150\\expr.png\" style=\"display:inline;vertical-align:middle;\" /></a><br>"
      ],
      "text/plain": [
       "L: L"
      ]
     },
     "execution_count": 39,
     "metadata": {},
     "output_type": "execute_result"
    }
   ],
   "source": [
    "L = Variable('L')"
   ]
  },
  {
   "cell_type": "code",
   "execution_count": 40,
   "metadata": {
    "collapsed": false,
    "deletable": true,
    "editable": true
   },
   "outputs": [
    {
     "data": {
      "text/html": [
       "<strong id=\"M\">M:</strong> <a class=\"ProveItLink\" href=\"__pv_it\\f170fc64c82f8e37846d17476ce31ad8cdc56af70\\expr.ipynb\"><img src=\"__pv_it\\f170fc64c82f8e37846d17476ce31ad8cdc56af70\\expr.png\" style=\"display:inline;vertical-align:middle;\" /></a><br>"
      ],
      "text/plain": [
       "M: M"
      ]
     },
     "execution_count": 40,
     "metadata": {},
     "output_type": "execute_result"
    }
   ],
   "source": [
    "M = Variable('M')"
   ]
  },
  {
   "cell_type": "code",
   "execution_count": 41,
   "metadata": {
    "collapsed": false,
    "deletable": true,
    "editable": true
   },
   "outputs": [
    {
     "data": {
      "text/html": [
       "<strong id=\"N\">N:</strong> <a class=\"ProveItLink\" href=\"__pv_it\\5748980e1a188f36e04f34a0e2ec2c93d4b50c170\\expr.ipynb\"><img src=\"__pv_it\\5748980e1a188f36e04f34a0e2ec2c93d4b50c170\\expr.png\" style=\"display:inline;vertical-align:middle;\" /></a><br>"
      ],
      "text/plain": [
       "N: N"
      ]
     },
     "execution_count": 41,
     "metadata": {},
     "output_type": "execute_result"
    }
   ],
   "source": [
    "N = Variable('N')"
   ]
  },
  {
   "cell_type": "code",
   "execution_count": 42,
   "metadata": {
    "collapsed": false,
    "deletable": true,
    "editable": true
   },
   "outputs": [
    {
     "data": {
      "text/html": [
       "<strong id=\"O\">O:</strong> <a class=\"ProveItLink\" href=\"__pv_it\\1557fda46fe3fe9ba0511203a6994b329937459f0\\expr.ipynb\"><img src=\"__pv_it\\1557fda46fe3fe9ba0511203a6994b329937459f0\\expr.png\" style=\"display:inline;vertical-align:middle;\" /></a><br>"
      ],
      "text/plain": [
       "O: O"
      ]
     },
     "execution_count": 42,
     "metadata": {},
     "output_type": "execute_result"
    }
   ],
   "source": [
    "O = Variable('O')"
   ]
  },
  {
   "cell_type": "code",
   "execution_count": 43,
   "metadata": {
    "collapsed": false,
    "deletable": true,
    "editable": true
   },
   "outputs": [
    {
     "data": {
      "text/html": [
       "<strong id=\"P\">P:</strong> <a class=\"ProveItLink\" href=\"__pv_it\\2a9e303518f1196ce252c7dd18e87a9873d2a5230\\expr.ipynb\"><img src=\"__pv_it\\2a9e303518f1196ce252c7dd18e87a9873d2a5230\\expr.png\" style=\"display:inline;vertical-align:middle;\" /></a><br>"
      ],
      "text/plain": [
       "P: P"
      ]
     },
     "execution_count": 43,
     "metadata": {},
     "output_type": "execute_result"
    }
   ],
   "source": [
    "P = Variable('P')"
   ]
  },
  {
   "cell_type": "code",
   "execution_count": 44,
   "metadata": {
    "collapsed": false,
    "deletable": true,
    "editable": true
   },
   "outputs": [
    {
     "data": {
      "text/html": [
       "<strong id=\"Q\">Q:</strong> <a class=\"ProveItLink\" href=\"__pv_it\\3f65031c0d5b1ae4a9448cb04a32020ef0872cb00\\expr.ipynb\"><img src=\"__pv_it\\3f65031c0d5b1ae4a9448cb04a32020ef0872cb00\\expr.png\" style=\"display:inline;vertical-align:middle;\" /></a><br>"
      ],
      "text/plain": [
       "Q: Q"
      ]
     },
     "execution_count": 44,
     "metadata": {},
     "output_type": "execute_result"
    }
   ],
   "source": [
    "Q = Variable('Q')"
   ]
  },
  {
   "cell_type": "code",
   "execution_count": 45,
   "metadata": {
    "collapsed": false,
    "deletable": true,
    "editable": true
   },
   "outputs": [
    {
     "data": {
      "text/html": [
       "<strong id=\"R\">R:</strong> <a class=\"ProveItLink\" href=\"__pv_it\\5584377e164e95e51d2ac6ed9cdc231d9a54d9f10\\expr.ipynb\"><img src=\"__pv_it\\5584377e164e95e51d2ac6ed9cdc231d9a54d9f10\\expr.png\" style=\"display:inline;vertical-align:middle;\" /></a><br>"
      ],
      "text/plain": [
       "R: R"
      ]
     },
     "execution_count": 45,
     "metadata": {},
     "output_type": "execute_result"
    }
   ],
   "source": [
    "R = Variable('R')"
   ]
  },
  {
   "cell_type": "code",
   "execution_count": 46,
   "metadata": {
    "collapsed": false,
    "deletable": true,
    "editable": true
   },
   "outputs": [
    {
     "data": {
      "text/html": [
       "<strong id=\"S\">S:</strong> <a class=\"ProveItLink\" href=\"__pv_it\\d4eb6352288af473e93384f35d9f37df8d5591720\\expr.ipynb\"><img src=\"__pv_it\\d4eb6352288af473e93384f35d9f37df8d5591720\\expr.png\" style=\"display:inline;vertical-align:middle;\" /></a><br>"
      ],
      "text/plain": [
       "S: S"
      ]
     },
     "execution_count": 46,
     "metadata": {},
     "output_type": "execute_result"
    }
   ],
   "source": [
    "S = Variable('S')"
   ]
  },
  {
   "cell_type": "code",
   "execution_count": 47,
   "metadata": {
    "collapsed": false,
    "deletable": true,
    "editable": true
   },
   "outputs": [
    {
     "data": {
      "text/html": [
       "<strong id=\"T\">T:</strong> <a class=\"ProveItLink\" href=\"__pv_it\\3a3f700ad76dc17bb32e04eef09f9bc305ab87200\\expr.ipynb\"><img src=\"__pv_it\\3a3f700ad76dc17bb32e04eef09f9bc305ab87200\\expr.png\" style=\"display:inline;vertical-align:middle;\" /></a><br>"
      ],
      "text/plain": [
       "T: T"
      ]
     },
     "execution_count": 47,
     "metadata": {},
     "output_type": "execute_result"
    }
   ],
   "source": [
    "T = Variable('T')"
   ]
  },
  {
   "cell_type": "code",
   "execution_count": 48,
   "metadata": {
    "collapsed": false,
    "deletable": true,
    "editable": true
   },
   "outputs": [
    {
     "data": {
      "text/html": [
       "<strong id=\"U\">U:</strong> <a class=\"ProveItLink\" href=\"__pv_it\\9f46e2f32ada86aa8e49cbd3c17d142c885581960\\expr.ipynb\"><img src=\"__pv_it\\9f46e2f32ada86aa8e49cbd3c17d142c885581960\\expr.png\" style=\"display:inline;vertical-align:middle;\" /></a><br>"
      ],
      "text/plain": [
       "U: U"
      ]
     },
     "execution_count": 48,
     "metadata": {},
     "output_type": "execute_result"
    }
   ],
   "source": [
    "U = Variable('U')"
   ]
  },
  {
   "cell_type": "code",
   "execution_count": 49,
   "metadata": {
    "collapsed": false,
    "deletable": true,
    "editable": true
   },
   "outputs": [
    {
     "data": {
      "text/html": [
       "<strong id=\"V\">V:</strong> <a class=\"ProveItLink\" href=\"__pv_it\\29edb4804b1494c1b6f5d93178f6ed4f9c38377d0\\expr.ipynb\"><img src=\"__pv_it\\29edb4804b1494c1b6f5d93178f6ed4f9c38377d0\\expr.png\" style=\"display:inline;vertical-align:middle;\" /></a><br>"
      ],
      "text/plain": [
       "V: V"
      ]
     },
     "execution_count": 49,
     "metadata": {},
     "output_type": "execute_result"
    }
   ],
   "source": [
    "V = Variable('V')"
   ]
  },
  {
   "cell_type": "code",
   "execution_count": 50,
   "metadata": {
    "collapsed": false,
    "deletable": true,
    "editable": true
   },
   "outputs": [
    {
     "data": {
      "text/html": [
       "<strong id=\"W\">W:</strong> <a class=\"ProveItLink\" href=\"__pv_it\\7ef43492026b866c61d098a898e27a2c480d94200\\expr.ipynb\"><img src=\"__pv_it\\7ef43492026b866c61d098a898e27a2c480d94200\\expr.png\" style=\"display:inline;vertical-align:middle;\" /></a><br>"
      ],
      "text/plain": [
       "W: W"
      ]
     },
     "execution_count": 50,
     "metadata": {},
     "output_type": "execute_result"
    }
   ],
   "source": [
    "W = Variable('W')"
   ]
  },
  {
   "cell_type": "code",
   "execution_count": 51,
   "metadata": {
    "collapsed": false,
    "deletable": true,
    "editable": true
   },
   "outputs": [
    {
     "data": {
      "text/html": [
       "<strong id=\"X\">X:</strong> <a class=\"ProveItLink\" href=\"__pv_it\\d3630cc4eff68a842bf516851b1241319b2b2e7f0\\expr.ipynb\"><img src=\"__pv_it\\d3630cc4eff68a842bf516851b1241319b2b2e7f0\\expr.png\" style=\"display:inline;vertical-align:middle;\" /></a><br>"
      ],
      "text/plain": [
       "X: X"
      ]
     },
     "execution_count": 51,
     "metadata": {},
     "output_type": "execute_result"
    }
   ],
   "source": [
    "X = Variable('X')"
   ]
  },
  {
   "cell_type": "code",
   "execution_count": 52,
   "metadata": {
    "collapsed": false,
    "deletable": true,
    "editable": true
   },
   "outputs": [
    {
     "data": {
      "text/html": [
       "<strong id=\"Y\">Y:</strong> <a class=\"ProveItLink\" href=\"__pv_it\\9c632b8686ab5ad717ed53b86e620c80d4772cb60\\expr.ipynb\"><img src=\"__pv_it\\9c632b8686ab5ad717ed53b86e620c80d4772cb60\\expr.png\" style=\"display:inline;vertical-align:middle;\" /></a><br>"
      ],
      "text/plain": [
       "Y: Y"
      ]
     },
     "execution_count": 52,
     "metadata": {},
     "output_type": "execute_result"
    }
   ],
   "source": [
    "Y = Variable('Y')"
   ]
  },
  {
   "cell_type": "code",
   "execution_count": 53,
   "metadata": {
    "collapsed": false,
    "deletable": true,
    "editable": true
   },
   "outputs": [
    {
     "data": {
      "text/html": [
       "<strong id=\"Z\">Z:</strong> <a class=\"ProveItLink\" href=\"__pv_it\\e61ed7dc4aa5921251cf021530b7b7724a990a410\\expr.ipynb\"><img src=\"__pv_it\\e61ed7dc4aa5921251cf021530b7b7724a990a410\\expr.png\" style=\"display:inline;vertical-align:middle;\" /></a><br>"
      ],
      "text/plain": [
       "Z: Z"
      ]
     },
     "execution_count": 53,
     "metadata": {},
     "output_type": "execute_result"
    }
   ],
   "source": [
    "Z = Variable('Z')"
   ]
  },
  {
   "cell_type": "code",
   "execution_count": 54,
   "metadata": {
    "collapsed": false,
    "deletable": true,
    "editable": true,
    "scrolled": true
   },
   "outputs": [
    {
     "data": {
      "text/html": [
       "<strong id=\"Am\">Am:</strong> <a class=\"ProveItLink\" href=\"__pv_it\\91e0f498edce903a5621251b8d5d097368d6c3b50\\expr.ipynb\"><img src=\"__pv_it\\91e0f498edce903a5621251b8d5d097368d6c3b50\\expr.png\" style=\"display:inline;vertical-align:middle;\" /></a><br>"
      ],
      "text/plain": [
       "Am: A(m)"
      ]
     },
     "execution_count": 54,
     "metadata": {},
     "output_type": "execute_result"
    }
   ],
   "source": [
    "Am = Function(A,m)"
   ]
  },
  {
   "cell_type": "code",
   "execution_count": 55,
   "metadata": {
    "collapsed": false,
    "deletable": true,
    "editable": true
   },
   "outputs": [
    {
     "data": {
      "text/html": [
       "<strong id=\"Bm\">Bm:</strong> <a class=\"ProveItLink\" href=\"__pv_it\\4418e4bcd1a0e7ce72de0c7daee091d41b31d04e0\\expr.ipynb\"><img src=\"__pv_it\\4418e4bcd1a0e7ce72de0c7daee091d41b31d04e0\\expr.png\" style=\"display:inline;vertical-align:middle;\" /></a><br>"
      ],
      "text/plain": [
       "Bm: B(m)"
      ]
     },
     "execution_count": 55,
     "metadata": {},
     "output_type": "execute_result"
    }
   ],
   "source": [
    "Bm = Function(B,m)"
   ]
  },
  {
   "cell_type": "code",
   "execution_count": 56,
   "metadata": {
    "collapsed": false,
    "deletable": true,
    "editable": true
   },
   "outputs": [
    {
     "data": {
      "text/html": [
       "<strong id=\"Cn\">Cn:</strong> <a class=\"ProveItLink\" href=\"__pv_it\\5ee1b5b4c788d34f1aff0c4af6191fecfc4e20a50\\expr.ipynb\"><img src=\"__pv_it\\5ee1b5b4c788d34f1aff0c4af6191fecfc4e20a50\\expr.png\" style=\"display:inline;vertical-align:middle;\" /></a><br>"
      ],
      "text/plain": [
       "Cn: C(n)"
      ]
     },
     "execution_count": 56,
     "metadata": {},
     "output_type": "execute_result"
    }
   ],
   "source": [
    "Cn = Function(C,n)"
   ]
  },
  {
   "cell_type": "code",
   "execution_count": 57,
   "metadata": {
    "collapsed": false,
    "deletable": true,
    "editable": true
   },
   "outputs": [
    {
     "data": {
      "text/html": [
       "<strong id=\"PofA\">PofA:</strong> <a class=\"ProveItLink\" href=\"__pv_it\\feb3c73ef8767fb16fff24e10e305fe6acd8a2360\\expr.ipynb\"><img src=\"__pv_it\\feb3c73ef8767fb16fff24e10e305fe6acd8a2360\\expr.png\" style=\"display:inline;vertical-align:middle;\" /></a><br>"
      ],
      "text/plain": [
       "PofA: P(A)"
      ]
     },
     "execution_count": 57,
     "metadata": {},
     "output_type": "execute_result"
    }
   ],
   "source": [
    "PofA = Function(P, A)"
   ]
  },
  {
   "cell_type": "code",
   "execution_count": 58,
   "metadata": {
    "collapsed": false,
    "deletable": true,
    "editable": true
   },
   "outputs": [
    {
     "data": {
      "text/html": [
       "<strong id=\"Px\">Px:</strong> <a class=\"ProveItLink\" href=\"__pv_it\\072c225ff90771813a8b2962e7ac4d9b07c0476e0\\expr.ipynb\"><img src=\"__pv_it\\072c225ff90771813a8b2962e7ac4d9b07c0476e0\\expr.png\" style=\"display:inline;vertical-align:middle;\" /></a><br>"
      ],
      "text/plain": [
       "Px: P(x)"
      ]
     },
     "execution_count": 58,
     "metadata": {},
     "output_type": "execute_result"
    }
   ],
   "source": [
    "Px = Function(P, x)"
   ]
  },
  {
   "cell_type": "code",
   "execution_count": 59,
   "metadata": {
    "collapsed": false,
    "deletable": true,
    "editable": true
   },
   "outputs": [
    {
     "data": {
      "text/html": [
       "<strong id=\"Py\">Py:</strong> <a class=\"ProveItLink\" href=\"__pv_it\\6d7ac17192794aff7d24a04dfa7ef99710ac18f30\\expr.ipynb\"><img src=\"__pv_it\\6d7ac17192794aff7d24a04dfa7ef99710ac18f30\\expr.png\" style=\"display:inline;vertical-align:middle;\" /></a><br>"
      ],
      "text/plain": [
       "Py: P(y)"
      ]
     },
     "execution_count": 59,
     "metadata": {},
     "output_type": "execute_result"
    }
   ],
   "source": [
    "Py = Function(P, y)"
   ]
  },
  {
   "cell_type": "code",
   "execution_count": 60,
   "metadata": {
    "collapsed": false,
    "deletable": true,
    "editable": true
   },
   "outputs": [
    {
     "data": {
      "text/html": [
       "<strong id=\"Pxy\">Pxy:</strong> <a class=\"ProveItLink\" href=\"__pv_it\\84051584bbf0434272d3bd527fe95cf666638f870\\expr.ipynb\"><img src=\"__pv_it\\84051584bbf0434272d3bd527fe95cf666638f870\\expr.png\" style=\"display:inline;vertical-align:middle;\" /></a><br>"
      ],
      "text/plain": [
       "Pxy: P(x , y)"
      ]
     },
     "execution_count": 60,
     "metadata": {},
     "output_type": "execute_result"
    }
   ],
   "source": [
    "Pxy = Function(P, (x, y))"
   ]
  },
  {
   "cell_type": "code",
   "execution_count": 61,
   "metadata": {
    "collapsed": false,
    "deletable": true,
    "editable": true
   },
   "outputs": [
    {
     "data": {
      "text/html": [
       "<strong id=\"Pxyz\">Pxyz:</strong> <a class=\"ProveItLink\" href=\"__pv_it\\0a9851230d99d9570226649b910bd3a905a349a70\\expr.ipynb\"><img src=\"__pv_it\\0a9851230d99d9570226649b910bd3a905a349a70\\expr.png\" style=\"display:inline;vertical-align:middle;\" /></a><br>"
      ],
      "text/plain": [
       "Pxyz: P(x , y , z)"
      ]
     },
     "execution_count": 61,
     "metadata": {},
     "output_type": "execute_result"
    }
   ],
   "source": [
    "Pxyz = Function(P, (x, y, z))"
   ]
  },
  {
   "cell_type": "code",
   "execution_count": 62,
   "metadata": {
    "collapsed": false,
    "deletable": true,
    "editable": true
   },
   "outputs": [
    {
     "data": {
      "text/html": [
       "<strong id=\"Pq\">Pq:</strong> <a class=\"ProveItLink\" href=\"__pv_it\\dc592492e4eeaefec93fe3b17d639c1a0f6485cf0\\expr.ipynb\"><img src=\"__pv_it\\dc592492e4eeaefec93fe3b17d639c1a0f6485cf0\\expr.png\" style=\"display:inline;vertical-align:middle;\" /></a><br>"
      ],
      "text/plain": [
       "Pq: P(q)"
      ]
     },
     "execution_count": 62,
     "metadata": {},
     "output_type": "execute_result"
    }
   ],
   "source": [
    "Pq = Function(P, q)"
   ]
  },
  {
   "cell_type": "code",
   "execution_count": 63,
   "metadata": {
    "collapsed": false,
    "deletable": true,
    "editable": true
   },
   "outputs": [
    {
     "data": {
      "text/html": [
       "<strong id=\"Qx\">Qx:</strong> <a class=\"ProveItLink\" href=\"__pv_it\\25135cac25a67851ef492441783cd457a9b529710\\expr.ipynb\"><img src=\"__pv_it\\25135cac25a67851ef492441783cd457a9b529710\\expr.png\" style=\"display:inline;vertical-align:middle;\" /></a><br>"
      ],
      "text/plain": [
       "Qx: Q(x)"
      ]
     },
     "execution_count": 63,
     "metadata": {},
     "output_type": "execute_result"
    }
   ],
   "source": [
    "Qx = Function(Q, x)"
   ]
  },
  {
   "cell_type": "code",
   "execution_count": 64,
   "metadata": {
    "collapsed": false,
    "deletable": true,
    "editable": true
   },
   "outputs": [
    {
     "data": {
      "text/html": [
       "<strong id=\"Qy\">Qy:</strong> <a class=\"ProveItLink\" href=\"__pv_it\\7ce2490bb9779b2b8179c98bf1227115f47174240\\expr.ipynb\"><img src=\"__pv_it\\7ce2490bb9779b2b8179c98bf1227115f47174240\\expr.png\" style=\"display:inline;vertical-align:middle;\" /></a><br>"
      ],
      "text/plain": [
       "Qy: Q(y)"
      ]
     },
     "execution_count": 64,
     "metadata": {},
     "output_type": "execute_result"
    }
   ],
   "source": [
    "Qy = Function(Q, y)"
   ]
  },
  {
   "cell_type": "code",
   "execution_count": 65,
   "metadata": {
    "collapsed": false,
    "deletable": true,
    "editable": true
   },
   "outputs": [
    {
     "data": {
      "text/html": [
       "<strong id=\"Rx\">Rx:</strong> <a class=\"ProveItLink\" href=\"__pv_it\\2794234cbc26cfd92704802383f719facb0b78640\\expr.ipynb\"><img src=\"__pv_it\\2794234cbc26cfd92704802383f719facb0b78640\\expr.png\" style=\"display:inline;vertical-align:middle;\" /></a><br>"
      ],
      "text/plain": [
       "Rx: R(x)"
      ]
     },
     "execution_count": 65,
     "metadata": {},
     "output_type": "execute_result"
    }
   ],
   "source": [
    "Rx = Function(R, x)"
   ]
  },
  {
   "cell_type": "code",
   "execution_count": 66,
   "metadata": {
    "collapsed": false,
    "deletable": true,
    "editable": true
   },
   "outputs": [
    {
     "data": {
      "text/html": [
       "<strong id=\"Ry\">Ry:</strong> <a class=\"ProveItLink\" href=\"__pv_it\\5613a5df674e67776eaea66416e568e1490afd720\\expr.ipynb\"><img src=\"__pv_it\\5613a5df674e67776eaea66416e568e1490afd720\\expr.png\" style=\"display:inline;vertical-align:middle;\" /></a><br>"
      ],
      "text/plain": [
       "Ry: R(y)"
      ]
     },
     "execution_count": 66,
     "metadata": {},
     "output_type": "execute_result"
    }
   ],
   "source": [
    "Ry = Function(R, y)"
   ]
  },
  {
   "cell_type": "code",
   "execution_count": 67,
   "metadata": {
    "collapsed": false,
    "deletable": true,
    "editable": true
   },
   "outputs": [
    {
     "data": {
      "text/html": [
       "<strong id=\"fa\">fa:</strong> <a class=\"ProveItLink\" href=\"__pv_it\\35b0e5ab99b0da0424bc4f4b5936c71ae6d4bcc00\\expr.ipynb\"><img src=\"__pv_it\\35b0e5ab99b0da0424bc4f4b5936c71ae6d4bcc00\\expr.png\" style=\"display:inline;vertical-align:middle;\" /></a><br>"
      ],
      "text/plain": [
       "fa: f(a)"
      ]
     },
     "execution_count": 67,
     "metadata": {},
     "output_type": "execute_result"
    }
   ],
   "source": [
    "fa = Function(f, a)"
   ]
  },
  {
   "cell_type": "code",
   "execution_count": 68,
   "metadata": {
    "collapsed": false,
    "deletable": true,
    "editable": true
   },
   "outputs": [
    {
     "data": {
      "text/html": [
       "<strong id=\"fb\">fb:</strong> <a class=\"ProveItLink\" href=\"__pv_it\\45986daeadb1874e3842d1bc771ea1a85451afbc0\\expr.ipynb\"><img src=\"__pv_it\\45986daeadb1874e3842d1bc771ea1a85451afbc0\\expr.png\" style=\"display:inline;vertical-align:middle;\" /></a><br>"
      ],
      "text/plain": [
       "fb: f(b)"
      ]
     },
     "execution_count": 68,
     "metadata": {},
     "output_type": "execute_result"
    }
   ],
   "source": [
    "fb = Function(f, b)"
   ]
  },
  {
   "cell_type": "code",
   "execution_count": 69,
   "metadata": {
    "collapsed": false,
    "deletable": true,
    "editable": true
   },
   "outputs": [
    {
     "data": {
      "text/html": [
       "<strong id=\"fab\">fab:</strong> <a class=\"ProveItLink\" href=\"__pv_it\\210292f3413fb2cc7794abd10b65380b60b912030\\expr.ipynb\"><img src=\"__pv_it\\210292f3413fb2cc7794abd10b65380b60b912030\\expr.png\" style=\"display:inline;vertical-align:middle;\" /></a><br>"
      ],
      "text/plain": [
       "fab: f(a , b)"
      ]
     },
     "execution_count": 69,
     "metadata": {},
     "output_type": "execute_result"
    }
   ],
   "source": [
    "fab = Function(f, (a, b))"
   ]
  },
  {
   "cell_type": "code",
   "execution_count": 70,
   "metadata": {
    "collapsed": false,
    "deletable": true,
    "editable": true
   },
   "outputs": [
    {
     "data": {
      "text/html": [
       "<strong id=\"fx\">fx:</strong> <a class=\"ProveItLink\" href=\"__pv_it\\ca4d3a6f542ff840aedea9e3c977b68b9b9eb1630\\expr.ipynb\"><img src=\"__pv_it\\ca4d3a6f542ff840aedea9e3c977b68b9b9eb1630\\expr.png\" style=\"display:inline;vertical-align:middle;\" /></a><br>"
      ],
      "text/plain": [
       "fx: f(x)"
      ]
     },
     "execution_count": 70,
     "metadata": {},
     "output_type": "execute_result"
    }
   ],
   "source": [
    "fx = Function(f, x)"
   ]
  },
  {
   "cell_type": "code",
   "execution_count": 71,
   "metadata": {
    "collapsed": false,
    "deletable": true,
    "editable": true
   },
   "outputs": [
    {
     "data": {
      "text/html": [
       "<strong id=\"fy\">fy:</strong> <a class=\"ProveItLink\" href=\"__pv_it\\96e57e63a4a94ba47953571c76bcc571ca27929c0\\expr.ipynb\"><img src=\"__pv_it\\96e57e63a4a94ba47953571c76bcc571ca27929c0\\expr.png\" style=\"display:inline;vertical-align:middle;\" /></a><br>"
      ],
      "text/plain": [
       "fy: f(y)"
      ]
     },
     "execution_count": 71,
     "metadata": {},
     "output_type": "execute_result"
    }
   ],
   "source": [
    "fy = Function(f, y)"
   ]
  },
  {
   "cell_type": "code",
   "execution_count": 72,
   "metadata": {
    "collapsed": false,
    "deletable": true,
    "editable": true
   },
   "outputs": [
    {
     "data": {
      "text/html": [
       "<strong id=\"fxy\">fxy:</strong> <a class=\"ProveItLink\" href=\"__pv_it\\f0219b614fefa843d62b9818c85edf6c844553990\\expr.ipynb\"><img src=\"__pv_it\\f0219b614fefa843d62b9818c85edf6c844553990\\expr.png\" style=\"display:inline;vertical-align:middle;\" /></a><br>"
      ],
      "text/plain": [
       "fxy: f(x , y)"
      ]
     },
     "execution_count": 72,
     "metadata": {},
     "output_type": "execute_result"
    }
   ],
   "source": [
    "fxy = Function(f, (x, y))"
   ]
  },
  {
   "cell_type": "code",
   "execution_count": 73,
   "metadata": {
    "collapsed": false,
    "deletable": true,
    "editable": true
   },
   "outputs": [
    {
     "data": {
      "text/html": [
       "<strong id=\"gx\">gx:</strong> <a class=\"ProveItLink\" href=\"__pv_it\\f58f34fd49d0b7521b6456e356bc9bf9dd489bb20\\expr.ipynb\"><img src=\"__pv_it\\f58f34fd49d0b7521b6456e356bc9bf9dd489bb20\\expr.png\" style=\"display:inline;vertical-align:middle;\" /></a><br>"
      ],
      "text/plain": [
       "gx: g(x)"
      ]
     },
     "execution_count": 73,
     "metadata": {},
     "output_type": "execute_result"
    }
   ],
   "source": [
    "gx = Function(g, x)"
   ]
  },
  {
   "cell_type": "code",
   "execution_count": 74,
   "metadata": {
    "collapsed": false,
    "deletable": true,
    "editable": true
   },
   "outputs": [
    {
     "data": {
      "text/html": [
       "<strong id=\"gy\">gy:</strong> <a class=\"ProveItLink\" href=\"__pv_it\\3d2c88326f395b644685423bfecce609c12ed6ae0\\expr.ipynb\"><img src=\"__pv_it\\3d2c88326f395b644685423bfecce609c12ed6ae0\\expr.png\" style=\"display:inline;vertical-align:middle;\" /></a><br>"
      ],
      "text/plain": [
       "gy: g(y)"
      ]
     },
     "execution_count": 74,
     "metadata": {},
     "output_type": "execute_result"
    }
   ],
   "source": [
    "gy = Function(g, y)"
   ]
  },
  {
   "cell_type": "code",
   "execution_count": 75,
   "metadata": {
    "collapsed": false,
    "deletable": true,
    "editable": true
   },
   "outputs": [
    {
     "data": {
      "text/html": [
       "<strong id=\"alpha\">alpha:</strong> <a class=\"ProveItLink\" href=\"__pv_it\\c4f6a299dd1324eb4c10e0498cb11fda69fe17fc0\\expr.ipynb\"><img src=\"__pv_it\\c4f6a299dd1324eb4c10e0498cb11fda69fe17fc0\\expr.png\" style=\"display:inline;vertical-align:middle;\" /></a><br>"
      ],
      "text/plain": [
       "alpha: alpha"
      ]
     },
     "execution_count": 75,
     "metadata": {},
     "output_type": "execute_result"
    }
   ],
   "source": [
    "alpha = Variable('alpha', r'\\alpha')"
   ]
  },
  {
   "cell_type": "code",
   "execution_count": 76,
   "metadata": {
    "collapsed": false,
    "deletable": true,
    "editable": true
   },
   "outputs": [
    {
     "data": {
      "text/html": [
       "<strong id=\"beta\">beta:</strong> <a class=\"ProveItLink\" href=\"__pv_it\\25d8b2a35e8637b1e7526ae534cab46cad282c0e0\\expr.ipynb\"><img src=\"__pv_it\\25d8b2a35e8637b1e7526ae534cab46cad282c0e0\\expr.png\" style=\"display:inline;vertical-align:middle;\" /></a><br>"
      ],
      "text/plain": [
       "beta: beta"
      ]
     },
     "execution_count": 76,
     "metadata": {},
     "output_type": "execute_result"
    }
   ],
   "source": [
    "beta = Variable('beta', r'\\beta')"
   ]
  },
  {
   "cell_type": "code",
   "execution_count": 77,
   "metadata": {
    "collapsed": false,
    "deletable": true,
    "editable": true
   },
   "outputs": [
    {
     "data": {
      "text/html": [
       "<strong id=\"theta\">theta:</strong> <a class=\"ProveItLink\" href=\"__pv_it\\3b5f3e5320ca0247d4525945b8ea01e7e59cd1820\\expr.ipynb\"><img src=\"__pv_it\\3b5f3e5320ca0247d4525945b8ea01e7e59cd1820\\expr.png\" style=\"display:inline;vertical-align:middle;\" /></a><br>"
      ],
      "text/plain": [
       "theta: theta"
      ]
     },
     "execution_count": 77,
     "metadata": {},
     "output_type": "execute_result"
    }
   ],
   "source": [
    "theta = Variable('theta', r'\\theta')"
   ]
  },
  {
   "cell_type": "code",
   "execution_count": 78,
   "metadata": {
    "collapsed": false,
    "deletable": true,
    "editable": true
   },
   "outputs": [
    {
     "data": {
      "text/html": [
       "<strong id=\"eps\">eps:</strong> <a class=\"ProveItLink\" href=\"__pv_it\\abded6709bfd1419723ad3e579cca89adafac8d40\\expr.ipynb\"><img src=\"__pv_it\\abded6709bfd1419723ad3e579cca89adafac8d40\\expr.png\" style=\"display:inline;vertical-align:middle;\" /></a><br>"
      ],
      "text/plain": [
       "eps: eps"
      ]
     },
     "execution_count": 78,
     "metadata": {},
     "output_type": "execute_result"
    }
   ],
   "source": [
    "eps = Variable('eps', r'\\varepsilon')"
   ]
  },
  {
   "cell_type": "code",
   "execution_count": 79,
   "metadata": {
    "collapsed": false,
    "deletable": true,
    "editable": true
   },
   "outputs": [
    {
     "data": {
      "text/html": [
       "<strong id=\"rho\">rho:</strong> <a class=\"ProveItLink\" href=\"__pv_it\\379befa1a141da309ce2307d1df4866853fd93600\\expr.ipynb\"><img src=\"__pv_it\\379befa1a141da309ce2307d1df4866853fd93600\\expr.png\" style=\"display:inline;vertical-align:middle;\" /></a><br>"
      ],
      "text/plain": [
       "rho: rho"
      ]
     },
     "execution_count": 79,
     "metadata": {},
     "output_type": "execute_result"
    }
   ],
   "source": [
    "rho = Variable('rho', r'\\rho')"
   ]
  },
  {
   "cell_type": "code",
   "execution_count": 80,
   "metadata": {
    "collapsed": false,
    "deletable": true,
    "editable": true
   },
   "outputs": [
    {
     "data": {
      "text/html": [
       "<strong id=\"Psi\">Psi:</strong> <a class=\"ProveItLink\" href=\"__pv_it\\bd279a208542a27b779ce26e1dd911d9144d91190\\expr.ipynb\"><img src=\"__pv_it\\bd279a208542a27b779ce26e1dd911d9144d91190\\expr.png\" style=\"display:inline;vertical-align:middle;\" /></a><br>"
      ],
      "text/plain": [
       "Psi: Psi"
      ]
     },
     "execution_count": 80,
     "metadata": {},
     "output_type": "execute_result"
    }
   ],
   "source": [
    "Psi = Variable('Psi', r'\\Psi')"
   ]
  },
  {
   "cell_type": "code",
   "execution_count": 81,
   "metadata": {
    "collapsed": false,
    "deletable": true,
    "editable": true
   },
   "outputs": [
    {
     "data": {
      "text/html": [
       "<strong id=\"Upsilon\">Upsilon:</strong> <a class=\"ProveItLink\" href=\"__pv_it\\6b916b0dd8335c09d8ed5a16139b3ad22d67c2260\\expr.ipynb\"><img src=\"__pv_it\\6b916b0dd8335c09d8ed5a16139b3ad22d67c2260\\expr.png\" style=\"display:inline;vertical-align:middle;\" /></a><br>"
      ],
      "text/plain": [
       "Upsilon: Upsilon"
      ]
     },
     "execution_count": 81,
     "metadata": {},
     "output_type": "execute_result"
    }
   ],
   "source": [
    "Upsilon = Variable('Upsilon', r'\\Upsilon')"
   ]
  },
  {
   "cell_type": "code",
   "execution_count": 82,
   "metadata": {
    "collapsed": false,
    "deletable": true,
    "editable": true
   },
   "outputs": [
    {
     "data": {
      "text/html": [
       "<strong id=\"Omega\">Omega:</strong> <a class=\"ProveItLink\" href=\"__pv_it\\edda2fc1e60af9eea73f7325785d3fe664ae64890\\expr.ipynb\"><img src=\"__pv_it\\edda2fc1e60af9eea73f7325785d3fe664ae64890\\expr.png\" style=\"display:inline;vertical-align:middle;\" /></a><br>"
      ],
      "text/plain": [
       "Omega: Omega"
      ]
     },
     "execution_count": 82,
     "metadata": {},
     "output_type": "execute_result"
    }
   ],
   "source": [
    "Omega = Variable('Omega', r'\\Omega')"
   ]
  },
  {
   "cell_type": "code",
   "execution_count": 83,
   "metadata": {
    "collapsed": false,
    "deletable": true,
    "editable": true
   },
   "outputs": [],
   "source": [
    "# Use 'bold' to denote variables that represent composite elements\n",
    "# (ExprList or ExprTensor)\n",
    "def boldVar(stringFormat):\n",
    "    latexFormat = r'\\textbf{%s}'%stringFormat\n",
    "    return Variable(stringFormat, latexFormat)"
   ]
  },
  {
   "cell_type": "code",
   "execution_count": 84,
   "metadata": {
    "collapsed": false,
    "deletable": true,
    "editable": true
   },
   "outputs": [
    {
     "data": {
      "text/html": [
       "<strong id=\"aa\">aa:</strong> <a class=\"ProveItLink\" href=\"__pv_it\\b033ca495496ca1b154f49c08647592dde2669330\\expr.ipynb\"><img src=\"__pv_it\\b033ca495496ca1b154f49c08647592dde2669330\\expr.png\" style=\"display:inline;vertical-align:middle;\" /></a><br>"
      ],
      "text/plain": [
       "aa: a"
      ]
     },
     "execution_count": 84,
     "metadata": {},
     "output_type": "execute_result"
    }
   ],
   "source": [
    "aa = boldVar('a')"
   ]
  },
  {
   "cell_type": "code",
   "execution_count": 85,
   "metadata": {
    "collapsed": false,
    "deletable": true,
    "editable": true
   },
   "outputs": [
    {
     "data": {
      "text/html": [
       "<strong id=\"bb\">bb:</strong> <a class=\"ProveItLink\" href=\"__pv_it\\afc69b5f2b088879900edae456b74348ec7055a70\\expr.ipynb\"><img src=\"__pv_it\\afc69b5f2b088879900edae456b74348ec7055a70\\expr.png\" style=\"display:inline;vertical-align:middle;\" /></a><br>"
      ],
      "text/plain": [
       "bb: b"
      ]
     },
     "execution_count": 85,
     "metadata": {},
     "output_type": "execute_result"
    }
   ],
   "source": [
    "bb = boldVar('b')"
   ]
  },
  {
   "cell_type": "code",
   "execution_count": 86,
   "metadata": {
    "collapsed": false,
    "deletable": true,
    "editable": true
   },
   "outputs": [
    {
     "data": {
      "text/html": [
       "<strong id=\"cc\">cc:</strong> <a class=\"ProveItLink\" href=\"__pv_it\\60802f85fb2c638d9543b4ef2ee2b2c6dd7fcab50\\expr.ipynb\"><img src=\"__pv_it\\60802f85fb2c638d9543b4ef2ee2b2c6dd7fcab50\\expr.png\" style=\"display:inline;vertical-align:middle;\" /></a><br>"
      ],
      "text/plain": [
       "cc: c"
      ]
     },
     "execution_count": 86,
     "metadata": {},
     "output_type": "execute_result"
    }
   ],
   "source": [
    "cc = boldVar('c')"
   ]
  },
  {
   "cell_type": "code",
   "execution_count": 87,
   "metadata": {
    "collapsed": false,
    "deletable": true,
    "editable": true
   },
   "outputs": [
    {
     "data": {
      "text/html": [
       "<strong id=\"AA\">AA:</strong> <a class=\"ProveItLink\" href=\"__pv_it\\8df2cc8d117eb34ccc45a587d7afc0027205a0460\\expr.ipynb\"><img src=\"__pv_it\\8df2cc8d117eb34ccc45a587d7afc0027205a0460\\expr.png\" style=\"display:inline;vertical-align:middle;\" /></a><br>"
      ],
      "text/plain": [
       "AA: A"
      ]
     },
     "execution_count": 87,
     "metadata": {},
     "output_type": "execute_result"
    }
   ],
   "source": [
    "AA = boldVar('A')"
   ]
  },
  {
   "cell_type": "code",
   "execution_count": 88,
   "metadata": {
    "collapsed": false,
    "deletable": true,
    "editable": true
   },
   "outputs": [
    {
     "data": {
      "text/html": [
       "<strong id=\"BB\">BB:</strong> <a class=\"ProveItLink\" href=\"__pv_it\\cbf1ef34636f67538e4756c9f3a1ba2bcd9ff8070\\expr.ipynb\"><img src=\"__pv_it\\cbf1ef34636f67538e4756c9f3a1ba2bcd9ff8070\\expr.png\" style=\"display:inline;vertical-align:middle;\" /></a><br>"
      ],
      "text/plain": [
       "BB: B"
      ]
     },
     "execution_count": 88,
     "metadata": {},
     "output_type": "execute_result"
    }
   ],
   "source": [
    "BB = boldVar('B')"
   ]
  },
  {
   "cell_type": "code",
   "execution_count": 89,
   "metadata": {
    "collapsed": false,
    "deletable": true,
    "editable": true
   },
   "outputs": [
    {
     "data": {
      "text/html": [
       "<strong id=\"CC\">CC:</strong> <a class=\"ProveItLink\" href=\"__pv_it\\07e1b367d1164c1fb1f9253b8f2f5d18e57136e30\\expr.ipynb\"><img src=\"__pv_it\\07e1b367d1164c1fb1f9253b8f2f5d18e57136e30\\expr.png\" style=\"display:inline;vertical-align:middle;\" /></a><br>"
      ],
      "text/plain": [
       "CC: C"
      ]
     },
     "execution_count": 89,
     "metadata": {},
     "output_type": "execute_result"
    }
   ],
   "source": [
    "CC = boldVar('C')"
   ]
  },
  {
   "cell_type": "code",
   "execution_count": 90,
   "metadata": {
    "collapsed": false,
    "deletable": true,
    "editable": true
   },
   "outputs": [
    {
     "data": {
      "text/html": [
       "<strong id=\"DD\">DD:</strong> <a class=\"ProveItLink\" href=\"__pv_it\\68ab2b40588cf995a3cd56357da065478498c61b0\\expr.ipynb\"><img src=\"__pv_it\\68ab2b40588cf995a3cd56357da065478498c61b0\\expr.png\" style=\"display:inline;vertical-align:middle;\" /></a><br>"
      ],
      "text/plain": [
       "DD: D"
      ]
     },
     "execution_count": 90,
     "metadata": {},
     "output_type": "execute_result"
    }
   ],
   "source": [
    "DD = boldVar('D')"
   ]
  },
  {
   "cell_type": "code",
   "execution_count": 91,
   "metadata": {
    "collapsed": false,
    "deletable": true,
    "editable": true
   },
   "outputs": [
    {
     "data": {
      "text/html": [
       "<strong id=\"EE\">EE:</strong> <a class=\"ProveItLink\" href=\"__pv_it\\c6b4d68a22ad8d090ef1ce20f3412dbadcc6798f0\\expr.ipynb\"><img src=\"__pv_it\\c6b4d68a22ad8d090ef1ce20f3412dbadcc6798f0\\expr.png\" style=\"display:inline;vertical-align:middle;\" /></a><br>"
      ],
      "text/plain": [
       "EE: E"
      ]
     },
     "execution_count": 91,
     "metadata": {},
     "output_type": "execute_result"
    }
   ],
   "source": [
    "EE = boldVar('E')"
   ]
  },
  {
   "cell_type": "code",
   "execution_count": 92,
   "metadata": {
    "collapsed": false,
    "deletable": true,
    "editable": true
   },
   "outputs": [
    {
     "data": {
      "text/html": [
       "<strong id=\"QQ\">QQ:</strong> <a class=\"ProveItLink\" href=\"__pv_it\\c54b2fa459bc26b0d0c02bebe144f32efd74902d0\\expr.ipynb\"><img src=\"__pv_it\\c54b2fa459bc26b0d0c02bebe144f32efd74902d0\\expr.png\" style=\"display:inline;vertical-align:middle;\" /></a><br>"
      ],
      "text/plain": [
       "QQ: Q"
      ]
     },
     "execution_count": 92,
     "metadata": {},
     "output_type": "execute_result"
    }
   ],
   "source": [
    "QQ = boldVar('Q')"
   ]
  },
  {
   "cell_type": "code",
   "execution_count": 93,
   "metadata": {
    "collapsed": false,
    "deletable": true,
    "editable": true
   },
   "outputs": [
    {
     "data": {
      "text/html": [
       "<strong id=\"RR\">RR:</strong> <a class=\"ProveItLink\" href=\"__pv_it\\307b7cfa378fc2994c60b10c8b9c2c2da0b961760\\expr.ipynb\"><img src=\"__pv_it\\307b7cfa378fc2994c60b10c8b9c2c2da0b961760\\expr.png\" style=\"display:inline;vertical-align:middle;\" /></a><br>"
      ],
      "text/plain": [
       "RR: R"
      ]
     },
     "execution_count": 93,
     "metadata": {},
     "output_type": "execute_result"
    }
   ],
   "source": [
    "RR = boldVar('R')"
   ]
  },
  {
   "cell_type": "code",
   "execution_count": 94,
   "metadata": {
    "collapsed": false,
    "deletable": true,
    "editable": true
   },
   "outputs": [
    {
     "data": {
      "text/html": [
       "<strong id=\"vv\">vv:</strong> <a class=\"ProveItLink\" href=\"__pv_it\\3dadc8e24a0575b2c1c1fe8a05cf62e79a180b1e0\\expr.ipynb\"><img src=\"__pv_it\\3dadc8e24a0575b2c1c1fe8a05cf62e79a180b1e0\\expr.png\" style=\"display:inline;vertical-align:middle;\" /></a><br>"
      ],
      "text/plain": [
       "vv: v"
      ]
     },
     "execution_count": 94,
     "metadata": {},
     "output_type": "execute_result"
    }
   ],
   "source": [
    "vv = boldVar('v')"
   ]
  },
  {
   "cell_type": "code",
   "execution_count": 95,
   "metadata": {
    "collapsed": false,
    "deletable": true,
    "editable": true
   },
   "outputs": [
    {
     "data": {
      "text/html": [
       "<strong id=\"ww\">ww:</strong> <a class=\"ProveItLink\" href=\"__pv_it\\6d1895e06a58fb36f46348d7305f15cf572706c90\\expr.ipynb\"><img src=\"__pv_it\\6d1895e06a58fb36f46348d7305f15cf572706c90\\expr.png\" style=\"display:inline;vertical-align:middle;\" /></a><br>"
      ],
      "text/plain": [
       "ww: w"
      ]
     },
     "execution_count": 95,
     "metadata": {},
     "output_type": "execute_result"
    }
   ],
   "source": [
    "ww = boldVar('w')"
   ]
  },
  {
   "cell_type": "code",
   "execution_count": 96,
   "metadata": {
    "collapsed": false,
    "deletable": true,
    "editable": true
   },
   "outputs": [
    {
     "data": {
      "text/html": [
       "<strong id=\"xx\">xx:</strong> <a class=\"ProveItLink\" href=\"__pv_it\\e22581caa212707828be188633a7c9a0b29af9650\\expr.ipynb\"><img src=\"__pv_it\\e22581caa212707828be188633a7c9a0b29af9650\\expr.png\" style=\"display:inline;vertical-align:middle;\" /></a><br>"
      ],
      "text/plain": [
       "xx: x"
      ]
     },
     "execution_count": 96,
     "metadata": {},
     "output_type": "execute_result"
    }
   ],
   "source": [
    "xx = boldVar('x')"
   ]
  },
  {
   "cell_type": "code",
   "execution_count": 97,
   "metadata": {
    "collapsed": false,
    "deletable": true,
    "editable": true
   },
   "outputs": [
    {
     "data": {
      "text/html": [
       "<strong id=\"yy\">yy:</strong> <a class=\"ProveItLink\" href=\"__pv_it\\01ef1758577b07e070b08fbf407e93e8ae1ea6890\\expr.ipynb\"><img src=\"__pv_it\\01ef1758577b07e070b08fbf407e93e8ae1ea6890\\expr.png\" style=\"display:inline;vertical-align:middle;\" /></a><br>"
      ],
      "text/plain": [
       "yy: y"
      ]
     },
     "execution_count": 97,
     "metadata": {},
     "output_type": "execute_result"
    }
   ],
   "source": [
    "yy = boldVar('y')"
   ]
  },
  {
   "cell_type": "code",
   "execution_count": 98,
   "metadata": {
    "collapsed": false,
    "deletable": true,
    "editable": true
   },
   "outputs": [
    {
     "data": {
      "text/html": [
       "<strong id=\"zz\">zz:</strong> <a class=\"ProveItLink\" href=\"__pv_it\\8a900638b93e099d13d9b624638cb65e5e86f7430\\expr.ipynb\"><img src=\"__pv_it\\8a900638b93e099d13d9b624638cb65e5e86f7430\\expr.png\" style=\"display:inline;vertical-align:middle;\" /></a><br>"
      ],
      "text/plain": [
       "zz: z"
      ]
     },
     "execution_count": 98,
     "metadata": {},
     "output_type": "execute_result"
    }
   ],
   "source": [
    "zz = boldVar('z')"
   ]
  },
  {
   "cell_type": "code",
   "execution_count": 99,
   "metadata": {
    "collapsed": false,
    "deletable": true,
    "editable": true
   },
   "outputs": [
    {
     "name": "stdout",
     "output_type": "stream",
     "text": [
      "BB expression notebook is being updated\n",
      "RR expression notebook is being updated\n",
      "yy expression notebook is being updated\n",
      "zz expression notebook is being updated\n",
      "bb expression notebook is being updated\n",
      "EE expression notebook is being updated\n",
      "ww expression notebook is being updated\n",
      "cc expression notebook is being updated\n",
      "xx expression notebook is being updated\n",
      "QQ expression notebook is being updated\n",
      "CC expression notebook is being updated\n",
      "aa expression notebook is being updated\n",
      "DD expression notebook is being updated\n",
      "vv expression notebook is being updated\n",
      "AA expression notebook is being updated\n",
      "Common expressions may be imported from autogenerated _common_.py\n"
     ]
    }
   ],
   "source": [
    "%end common"
   ]
  },
  {
   "cell_type": "code",
   "execution_count": null,
   "metadata": {
    "collapsed": true,
    "deletable": true,
    "editable": true
   },
   "outputs": [],
   "source": []
  }
 ],
 "metadata": {
  "kernelspec": {
   "display_name": "Python 2",
   "language": "python",
   "name": "python2"
  },
  "language_info": {
   "codemirror_mode": {
    "name": "ipython",
    "version": 2
   },
   "file_extension": ".py",
   "mimetype": "text/x-python",
   "name": "python",
   "nbconvert_exporter": "python",
   "pygments_lexer": "ipython2",
   "version": "2.7.11"
  }
 },
 "nbformat": 4,
 "nbformat_minor": 0
}
